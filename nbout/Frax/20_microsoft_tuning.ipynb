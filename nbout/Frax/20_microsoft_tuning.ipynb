{
 "cells": [
  {
   "cell_type": "code",
   "execution_count": 1,
   "id": "04fd681e",
   "metadata": {
    "editable": true,
    "execution": {
     "iopub.execute_input": "2024-09-16T14:42:41.633501Z",
     "iopub.status.busy": "2024-09-16T14:42:41.632964Z",
     "iopub.status.idle": "2024-09-16T14:42:45.262440Z",
     "shell.execute_reply": "2024-09-16T14:42:45.262115Z"
    },
    "papermill": {
     "duration": 3.638201,
     "end_time": "2024-09-16T14:42:45.263262",
     "exception": false,
     "start_time": "2024-09-16T14:42:41.625061",
     "status": "completed"
    },
    "slideshow": {
     "slide_type": ""
    },
    "tags": []
   },
   "outputs": [
    {
     "name": "stderr",
     "output_type": "stream",
     "text": [
      "/tmp/ipykernel_1356721/1371776918.py:11: TqdmExperimentalWarning: Using `tqdm.autonotebook.tqdm` in notebook mode. Use `tqdm.tqdm` instead to force console mode (e.g. in jupyter console)\n",
      "  from tqdm.autonotebook import tqdm\n"
     ]
    },
    {
     "name": "stdout",
     "output_type": "stream",
     "text": [
      "Ignoring warnings\n",
      "3.11.6 (main, Jun 24 2024, 07:45:26) [GCC 11.4.0]\n",
      "recommenders: 1.2.0\n",
      "ray: 2.30.0\n",
      "tensorflow: 2.16.1\n"
     ]
    }
   ],
   "source": [
    "from typing import List, Dict, Any\n",
    "\n",
    "from pathlib import Path\n",
    "import os, sys\n",
    "import time\n",
    "import datetime as dt\n",
    "import itertools as it\n",
    "\n",
    "import numpy as np\n",
    "import pandas as pd\n",
    "from tqdm.autonotebook import tqdm\n",
    "import ray\n",
    "from ray import train, tune\n",
    "import ipywidgets as widgets\n",
    "\n",
    "from recsys4daos.model_selection import cvtt_open\n",
    "from recsys4daos.datasets import to_microsoft, filter_window_size\n",
    "from recsys4daos.models import LightGCNCustom\n",
    "from recsys4daos.utils import Timer\n",
    "import recsys4daos.utils.notebooks as nbu\n",
    "\n",
    "import recommenders\n",
    "if recommenders.__version__ == '1.2.0':\n",
    "    print(\"Ignoring warnings\")\n",
    "    import warnings\n",
    "    warnings.simplefilter(action='ignore', category=FutureWarning)\n",
    "\n",
    "import paths\n",
    "\n",
    "nbu.print_versions('ray', 'tensorflow')\n",
    "\n",
    "%load_ext autoreload\n",
    "%autoreload 2"
   ]
  },
  {
   "cell_type": "code",
   "execution_count": 2,
   "id": "dd5ef98c",
   "metadata": {
    "editable": true,
    "execution": {
     "iopub.execute_input": "2024-09-16T14:42:45.269468Z",
     "iopub.status.busy": "2024-09-16T14:42:45.269213Z",
     "iopub.status.idle": "2024-09-16T14:42:45.291681Z",
     "shell.execute_reply": "2024-09-16T14:42:45.291458Z"
    },
    "papermill": {
     "duration": 0.026255,
     "end_time": "2024-09-16T14:42:45.292358",
     "exception": false,
     "start_time": "2024-09-16T14:42:45.266103",
     "status": "completed"
    },
    "slideshow": {
     "slide_type": ""
    },
    "tags": [
     "parameters"
    ]
   },
   "outputs": [],
   "source": [
    "# Others config\n",
    "SEED: int = 57\n",
    "RAY_RESULTS_PATH: Path = '~/ray_results3.11'\n",
    "\n",
    "# Dataset splits config\n",
    "ORG_NAME = 'Decentraland'\n",
    "SPLITS_FREQ = 'W-THU'  # Split weekly\n",
    "LAST_FOLDS = 10  # Use just last 10 splits\n",
    "SPLITS_NORMALIZE = True\n",
    "LAST_FOLD_DATE_STR: str = '2023-07-13'\n",
    "\n",
    "# Training config\n",
    "MAX_EPOCHS: int = 200\n",
    "EPOCHS_PER_ITER: int = 5\n",
    "SAMPLES_PER_SPLIT: int = 100\n",
    "MAX_TIME_TOTAL_TRAIN: int = 300\n",
    "OPTIM_METRIC: str = 'map@10'\n",
    "\n",
    "# Search space config\n",
    "MAX_EMBEDDING_DIM = 1024\n",
    "MIN_BATCH_SIZE = 6\n",
    "MAX_BATCH_SIZE = 10 # 2**10\n",
    "MIN_LR = 1e-4\n",
    "# WINDOW_SIZES = ['7d', '14d', '21d', '30d', '60d', '90d', '10YE']\n",
    "WINDOW_SIZES = ['21d', '30d', '60d', '90d', '10YE']\n",
    "GPUS = 16\n",
    "\n",
    "# Eval config\n",
    "K_RECOMMENDATIONS: List[int] = [1,3,5,10,15,100]\n",
    "METRICS: List[str] = [\"recall\", \"ndcg\", \"precision\", \"map\"]"
   ]
  },
  {
   "cell_type": "code",
   "execution_count": 3,
   "id": "af36038a",
   "metadata": {
    "execution": {
     "iopub.execute_input": "2024-09-16T14:42:45.297982Z",
     "iopub.status.busy": "2024-09-16T14:42:45.297744Z",
     "iopub.status.idle": "2024-09-16T14:42:45.316481Z",
     "shell.execute_reply": "2024-09-16T14:42:45.316276Z"
    },
    "papermill": {
     "duration": 0.022527,
     "end_time": "2024-09-16T14:42:45.317322",
     "exception": false,
     "start_time": "2024-09-16T14:42:45.294795",
     "status": "completed"
    },
    "tags": [
     "injected-parameters"
    ]
   },
   "outputs": [],
   "source": [
    "# Parameters\n",
    "EXECUTION_ID = \"2024-09-04T10:00\"\n",
    "ORG_NAME = \"Frax\"\n",
    "SPLITS_FREQ = \"5d\"\n",
    "LAST_FOLDS = 10\n",
    "SPLITS_NORMALIZE = True\n",
    "LAST_FOLD_DATE_STR = \"2022-05-26\"\n"
   ]
  },
  {
   "cell_type": "code",
   "execution_count": 4,
   "id": "7cb8d4ea",
   "metadata": {
    "execution": {
     "iopub.execute_input": "2024-09-16T14:42:45.322802Z",
     "iopub.status.busy": "2024-09-16T14:42:45.322614Z",
     "iopub.status.idle": "2024-09-16T14:42:45.340486Z",
     "shell.execute_reply": "2024-09-16T14:42:45.340255Z"
    },
    "papermill": {
     "duration": 0.021464,
     "end_time": "2024-09-16T14:42:45.341191",
     "exception": false,
     "start_time": "2024-09-16T14:42:45.319727",
     "status": "completed"
    },
    "tags": []
   },
   "outputs": [],
   "source": [
    "RAY_RESULTS_PATH = Path(RAY_RESULTS_PATH).expanduser()"
   ]
  },
  {
   "cell_type": "markdown",
   "id": "d81a7937",
   "metadata": {
    "papermill": {
     "duration": 0.002303,
     "end_time": "2024-09-16T14:42:45.345789",
     "exception": false,
     "start_time": "2024-09-16T14:42:45.343486",
     "status": "completed"
    },
    "tags": []
   },
   "source": [
    "## Obtain dataset"
   ]
  },
  {
   "cell_type": "code",
   "execution_count": 5,
   "id": "470f4f73",
   "metadata": {
    "execution": {
     "iopub.execute_input": "2024-09-16T14:42:45.350742Z",
     "iopub.status.busy": "2024-09-16T14:42:45.350651Z",
     "iopub.status.idle": "2024-09-16T14:42:45.494561Z",
     "shell.execute_reply": "2024-09-16T14:42:45.493305Z"
    },
    "papermill": {
     "duration": 0.150405,
     "end_time": "2024-09-16T14:42:45.498371",
     "exception": false,
     "start_time": "2024-09-16T14:42:45.347966",
     "status": "completed"
    },
    "tags": []
   },
   "outputs": [
    {
     "name": "stdout",
     "output_type": "stream",
     "text": [
      "/home/daviddavo/recsys4daos/notebooks\r\n"
     ]
    }
   ],
   "source": [
    "!pwd"
   ]
  },
  {
   "cell_type": "code",
   "execution_count": 6,
   "id": "57a185c4",
   "metadata": {
    "execution": {
     "iopub.execute_input": "2024-09-16T14:42:45.514528Z",
     "iopub.status.busy": "2024-09-16T14:42:45.514300Z",
     "iopub.status.idle": "2024-09-16T14:42:45.559417Z",
     "shell.execute_reply": "2024-09-16T14:42:45.559153Z"
    },
    "papermill": {
     "duration": 0.05131,
     "end_time": "2024-09-16T14:42:45.560136",
     "exception": false,
     "start_time": "2024-09-16T14:42:45.508826",
     "status": "completed"
    },
    "tags": []
   },
   "outputs": [
    {
     "name": "stdout",
     "output_type": "stream",
     "text": [
      "<class 'pandas.core.frame.DataFrame'>\n",
      "RangeIndex: 359 entries, 0 to 358\n",
      "Data columns (total 6 columns):\n",
      " #   Column             Non-Null Count  Dtype         \n",
      "---  ------             --------------  -----         \n",
      " 0   id                 359 non-null    object        \n",
      " 1   author             359 non-null    object        \n",
      " 2   date               359 non-null    datetime64[us]\n",
      " 3   start              359 non-null    datetime64[us]\n",
      " 4   end                359 non-null    datetime64[us]\n",
      " 5   platform_proposal  359 non-null    object        \n",
      "dtypes: datetime64[us](3), object(3)\n",
      "memory usage: 17.0+ KB\n",
      "None\n",
      "<class 'pandas.core.frame.DataFrame'>\n",
      "RangeIndex: 10184 entries, 0 to 10183\n",
      "Data columns (total 4 columns):\n",
      " #   Column    Non-Null Count  Dtype         \n",
      "---  ------    --------------  -----         \n",
      " 0   id        10184 non-null  object        \n",
      " 1   proposal  10184 non-null  object        \n",
      " 2   voter     10184 non-null  object        \n",
      " 3   date      10184 non-null  datetime64[us]\n",
      "dtypes: datetime64[us](1), object(3)\n",
      "memory usage: 318.4+ KB\n",
      "None\n"
     ]
    }
   ],
   "source": [
    "dfp = paths.load_proposals(ORG_NAME)\n",
    "dfv = paths.load_votes(ORG_NAME)\n",
    "\n",
    "print(dfp.info())\n",
    "print(dfv.info())"
   ]
  },
  {
   "cell_type": "markdown",
   "id": "e3c543c1",
   "metadata": {
    "papermill": {
     "duration": 0.002485,
     "end_time": "2024-09-16T14:42:45.565277",
     "exception": false,
     "start_time": "2024-09-16T14:42:45.562792",
     "status": "completed"
    },
    "tags": []
   },
   "source": [
    "## Split data"
   ]
  },
  {
   "cell_type": "code",
   "execution_count": 7,
   "id": "79ea29f3",
   "metadata": {
    "execution": {
     "iopub.execute_input": "2024-09-16T14:42:45.570782Z",
     "iopub.status.busy": "2024-09-16T14:42:45.570641Z",
     "iopub.status.idle": "2024-09-16T14:42:45.597789Z",
     "shell.execute_reply": "2024-09-16T14:42:45.597543Z"
    },
    "papermill": {
     "duration": 0.030746,
     "end_time": "2024-09-16T14:42:45.598487",
     "exception": false,
     "start_time": "2024-09-16T14:42:45.567741",
     "status": "completed"
    },
    "tags": []
   },
   "outputs": [
    {
     "data": {
      "text/html": [
       "<div>\n",
       "<style scoped>\n",
       "    .dataframe tbody tr th:only-of-type {\n",
       "        vertical-align: middle;\n",
       "    }\n",
       "\n",
       "    .dataframe tbody tr th {\n",
       "        vertical-align: top;\n",
       "    }\n",
       "\n",
       "    .dataframe thead th {\n",
       "        text-align: right;\n",
       "    }\n",
       "</style>\n",
       "<table border=\"1\" class=\"dataframe\">\n",
       "  <thead>\n",
       "    <tr style=\"text-align: right;\">\n",
       "      <th></th>\n",
       "      <th>userID</th>\n",
       "      <th>itemID</th>\n",
       "      <th>timestamp</th>\n",
       "      <th>rating</th>\n",
       "    </tr>\n",
       "  </thead>\n",
       "  <tbody>\n",
       "    <tr>\n",
       "      <th>0</th>\n",
       "      <td>0xc049dd035e0171379fc608cef3260c1e6bceaaef</td>\n",
       "      <td>35601a29-c21f-5c8b-8176-a61cd9dc7d84</td>\n",
       "      <td>2021-02-10 22:33:15</td>\n",
       "      <td>1</td>\n",
       "    </tr>\n",
       "    <tr>\n",
       "      <th>1</th>\n",
       "      <td>0x3ce00d8677a44779fab24d897bfcafb4b96c9204</td>\n",
       "      <td>35601a29-c21f-5c8b-8176-a61cd9dc7d84</td>\n",
       "      <td>2021-02-11 03:36:59</td>\n",
       "      <td>1</td>\n",
       "    </tr>\n",
       "    <tr>\n",
       "      <th>2</th>\n",
       "      <td>0xb3eb02ac81c49a20290eeb7e8a5f66da6fb1e3f0</td>\n",
       "      <td>35601a29-c21f-5c8b-8176-a61cd9dc7d84</td>\n",
       "      <td>2021-02-11 08:01:51</td>\n",
       "      <td>1</td>\n",
       "    </tr>\n",
       "    <tr>\n",
       "      <th>3</th>\n",
       "      <td>0x09d57f361f794d150c04443a7b6e369120dc2bea</td>\n",
       "      <td>35601a29-c21f-5c8b-8176-a61cd9dc7d84</td>\n",
       "      <td>2021-02-11 08:02:27</td>\n",
       "      <td>1</td>\n",
       "    </tr>\n",
       "    <tr>\n",
       "      <th>4</th>\n",
       "      <td>0x3c28c42b24b7909c8292920929f083f60c4997a6</td>\n",
       "      <td>35601a29-c21f-5c8b-8176-a61cd9dc7d84</td>\n",
       "      <td>2021-02-11 11:51:03</td>\n",
       "      <td>1</td>\n",
       "    </tr>\n",
       "    <tr>\n",
       "      <th>...</th>\n",
       "      <td>...</td>\n",
       "      <td>...</td>\n",
       "      <td>...</td>\n",
       "      <td>...</td>\n",
       "    </tr>\n",
       "    <tr>\n",
       "      <th>10179</th>\n",
       "      <td>0xb1417c3a3d10102e57bc123827b942fb60dca1e4</td>\n",
       "      <td>1c6c0bf0-f2b4-5998-ab91-76e35a86a0c5</td>\n",
       "      <td>2023-07-17 12:59:55</td>\n",
       "      <td>1</td>\n",
       "    </tr>\n",
       "    <tr>\n",
       "      <th>10180</th>\n",
       "      <td>0x724061efdfef4a421e8be05133ad24922d07b5bf</td>\n",
       "      <td>57e9175b-41a6-5aaf-bd1c-6a13093b5419</td>\n",
       "      <td>2023-07-17 22:49:06</td>\n",
       "      <td>1</td>\n",
       "    </tr>\n",
       "    <tr>\n",
       "      <th>10181</th>\n",
       "      <td>0x337844866ce1f51be8eb9f3a4882b5cb891edba5</td>\n",
       "      <td>57e9175b-41a6-5aaf-bd1c-6a13093b5419</td>\n",
       "      <td>2023-07-19 00:02:32</td>\n",
       "      <td>1</td>\n",
       "    </tr>\n",
       "    <tr>\n",
       "      <th>10182</th>\n",
       "      <td>0x4b47052498d469ac9521606a67d6f02afeb0985a</td>\n",
       "      <td>57e9175b-41a6-5aaf-bd1c-6a13093b5419</td>\n",
       "      <td>2023-07-19 12:31:54</td>\n",
       "      <td>1</td>\n",
       "    </tr>\n",
       "    <tr>\n",
       "      <th>10183</th>\n",
       "      <td>0x21d79c2be4ab3de2802a60da66f86d497d06102b</td>\n",
       "      <td>57e9175b-41a6-5aaf-bd1c-6a13093b5419</td>\n",
       "      <td>2023-07-19 16:12:02</td>\n",
       "      <td>1</td>\n",
       "    </tr>\n",
       "  </tbody>\n",
       "</table>\n",
       "<p>10184 rows × 4 columns</p>\n",
       "</div>"
      ],
      "text/plain": [
       "                                           userID  \\\n",
       "0      0xc049dd035e0171379fc608cef3260c1e6bceaaef   \n",
       "1      0x3ce00d8677a44779fab24d897bfcafb4b96c9204   \n",
       "2      0xb3eb02ac81c49a20290eeb7e8a5f66da6fb1e3f0   \n",
       "3      0x09d57f361f794d150c04443a7b6e369120dc2bea   \n",
       "4      0x3c28c42b24b7909c8292920929f083f60c4997a6   \n",
       "...                                           ...   \n",
       "10179  0xb1417c3a3d10102e57bc123827b942fb60dca1e4   \n",
       "10180  0x724061efdfef4a421e8be05133ad24922d07b5bf   \n",
       "10181  0x337844866ce1f51be8eb9f3a4882b5cb891edba5   \n",
       "10182  0x4b47052498d469ac9521606a67d6f02afeb0985a   \n",
       "10183  0x21d79c2be4ab3de2802a60da66f86d497d06102b   \n",
       "\n",
       "                                     itemID           timestamp  rating  \n",
       "0      35601a29-c21f-5c8b-8176-a61cd9dc7d84 2021-02-10 22:33:15       1  \n",
       "1      35601a29-c21f-5c8b-8176-a61cd9dc7d84 2021-02-11 03:36:59       1  \n",
       "2      35601a29-c21f-5c8b-8176-a61cd9dc7d84 2021-02-11 08:01:51       1  \n",
       "3      35601a29-c21f-5c8b-8176-a61cd9dc7d84 2021-02-11 08:02:27       1  \n",
       "4      35601a29-c21f-5c8b-8176-a61cd9dc7d84 2021-02-11 11:51:03       1  \n",
       "...                                     ...                 ...     ...  \n",
       "10179  1c6c0bf0-f2b4-5998-ab91-76e35a86a0c5 2023-07-17 12:59:55       1  \n",
       "10180  57e9175b-41a6-5aaf-bd1c-6a13093b5419 2023-07-17 22:49:06       1  \n",
       "10181  57e9175b-41a6-5aaf-bd1c-6a13093b5419 2023-07-19 00:02:32       1  \n",
       "10182  57e9175b-41a6-5aaf-bd1c-6a13093b5419 2023-07-19 12:31:54       1  \n",
       "10183  57e9175b-41a6-5aaf-bd1c-6a13093b5419 2023-07-19 16:12:02       1  \n",
       "\n",
       "[10184 rows x 4 columns]"
      ]
     },
     "execution_count": 7,
     "metadata": {},
     "output_type": "execute_result"
    }
   ],
   "source": [
    "df = to_microsoft(dfv)\n",
    "df"
   ]
  },
  {
   "cell_type": "code",
   "execution_count": 8,
   "id": "adde4701",
   "metadata": {
    "editable": true,
    "execution": {
     "iopub.execute_input": "2024-09-16T14:42:45.604246Z",
     "iopub.status.busy": "2024-09-16T14:42:45.604144Z",
     "iopub.status.idle": "2024-09-16T14:42:45.815157Z",
     "shell.execute_reply": "2024-09-16T14:42:45.814893Z"
    },
    "papermill": {
     "duration": 0.214818,
     "end_time": "2024-09-16T14:42:45.815886",
     "exception": false,
     "start_time": "2024-09-16T14:42:45.601068",
     "status": "completed"
    },
    "slideshow": {
     "slide_type": ""
    },
    "tags": []
   },
   "outputs": [
    {
     "name": "stdout",
     "output_type": "stream",
     "text": [
      "95 folds\n",
      "Using 10 folds, from 2022-04-11T00:00:00 to 2022-05-26T00:00:00\n"
     ]
    }
   ],
   "source": [
    "# USE INTEGER INDEX\n",
    "# folds_dict = list(cvtt_open(df, SPLITS_FREQ, dfp, remove_not_in_train_col='userID'))\n",
    "# use_folds_idx = range(len(folds_dict))[-LAST_FOLDS:]\n",
    "\n",
    "# USE TIMESTAMP INDEX\n",
    "# Note: NO need to used OrderedDict, dict is ordered since Python 3.6\n",
    "folds_dict = { f.end.isoformat():f for f in cvtt_open(df, SPLITS_FREQ, dfp, remove_not_in_train_col='userID', last_fold=LAST_FOLD_DATE_STR) }\n",
    "use_folds_idx = list(folds_dict.keys())[-LAST_FOLDS:]\n",
    "\n",
    "print(len(folds_dict), \"folds\")\n",
    "print(\"Using\", len(use_folds_idx), \"folds, from\", use_folds_idx[0], \"to\", use_folds_idx[-1])"
   ]
  },
  {
   "cell_type": "markdown",
   "id": "2802c5b6",
   "metadata": {
    "papermill": {
     "duration": 0.002724,
     "end_time": "2024-09-16T14:42:45.821630",
     "exception": false,
     "start_time": "2024-09-16T14:42:45.818906",
     "status": "completed"
    },
    "tags": []
   },
   "source": [
    "## Making some checks"
   ]
  },
  {
   "cell_type": "markdown",
   "id": "c9a2d714",
   "metadata": {
    "papermill": {
     "duration": 0.00252,
     "end_time": "2024-09-16T14:42:45.826866",
     "exception": false,
     "start_time": "2024-09-16T14:42:45.824346",
     "status": "completed"
    },
    "tags": []
   },
   "source": [
    "### Checking that all the folds have open proposals"
   ]
  },
  {
   "cell_type": "code",
   "execution_count": 9,
   "id": "28093464",
   "metadata": {
    "execution": {
     "iopub.execute_input": "2024-09-16T14:42:45.832521Z",
     "iopub.status.busy": "2024-09-16T14:42:45.832390Z",
     "iopub.status.idle": "2024-09-16T14:42:45.853251Z",
     "shell.execute_reply": "2024-09-16T14:42:45.853014Z"
    },
    "papermill": {
     "duration": 0.024537,
     "end_time": "2024-09-16T14:42:45.853898",
     "exception": false,
     "start_time": "2024-09-16T14:42:45.829361",
     "status": "completed"
    },
    "tags": []
   },
   "outputs": [],
   "source": [
    "_nok_folds = []\n",
    "for idx in use_folds_idx:\n",
    "    if len(folds_dict[idx].open_proposals) == 0:\n",
    "        _nok_folds.append(idx)\n",
    "\n",
    "if _nok_folds:\n",
    "    raise ValueError(f\"Folds {', '.join(_nok_folds)} don't have any open proposals\")"
   ]
  },
  {
   "cell_type": "markdown",
   "id": "cff3abec",
   "metadata": {
    "papermill": {
     "duration": 0.002481,
     "end_time": "2024-09-16T14:42:45.858927",
     "exception": false,
     "start_time": "2024-09-16T14:42:45.856446",
     "status": "completed"
    },
    "tags": []
   },
   "source": [
    "### Checking correct hparams"
   ]
  },
  {
   "cell_type": "code",
   "execution_count": 10,
   "id": "56288361",
   "metadata": {
    "execution": {
     "iopub.execute_input": "2024-09-16T14:42:45.864503Z",
     "iopub.status.busy": "2024-09-16T14:42:45.864378Z",
     "iopub.status.idle": "2024-09-16T14:42:45.915059Z",
     "shell.execute_reply": "2024-09-16T14:42:45.914844Z"
    },
    "papermill": {
     "duration": 0.054321,
     "end_time": "2024-09-16T14:42:45.915800",
     "exception": false,
     "start_time": "2024-09-16T14:42:45.861479",
     "status": "completed"
    },
    "tags": []
   },
   "outputs": [
    {
     "name": "stdout",
     "output_type": "stream",
     "text": [
      "All folds ok!\n"
     ]
    },
    {
     "name": "stderr",
     "output_type": "stream",
     "text": [
      "On fold 2022-04-11T00:00:00 batch_size should be '<=512.0' with 10YE: 643 < 1024\n",
      "On fold 2022-04-16T00:00:00 batch_size should be '<=512.0' with 10YE: 652 < 1024\n",
      "On fold 2022-04-21T00:00:00 batch_size should be '<=512.0' with 10YE: 685 < 1024\n",
      "On fold 2022-04-26T00:00:00 batch_size should be '<=512.0' with 10YE: 701 < 1024\n",
      "On fold 2022-05-01T00:00:00 batch_size should be '<=512.0' with 10YE: 707 < 1024\n",
      "On fold 2022-05-06T00:00:00 batch_size should be '<=512.0' with 10YE: 716 < 1024\n",
      "On fold 2022-05-11T00:00:00 batch_size should be '<=512.0' with 10YE: 731 < 1024\n",
      "On fold 2022-05-16T00:00:00 batch_size should be '<=512.0' with 10YE: 736 < 1024\n",
      "On fold 2022-05-21T00:00:00 batch_size should be '<=512.0' with 10YE: 740 < 1024\n",
      "On fold 2022-05-26T00:00:00 batch_size should be '<=512.0' with 10YE: 743 < 1024\n"
     ]
    }
   ],
   "source": [
    "now = dt.datetime.now()\n",
    "max_bs = 2**MAX_BATCH_SIZE\n",
    "min_bs = 2**MIN_BATCH_SIZE\n",
    "_sorted_ws = sorted(WINDOW_SIZES, key=lambda ws: now + pd.tseries.frequencies.to_offset(ws))\n",
    "\n",
    "# Checking that the max_bs is doable with every window size\n",
    "for idx in use_folds_idx:\n",
    "    for ws in _sorted_ws:\n",
    "        nusers = filter_window_size(folds_dict[idx].train, folds_dict[idx].end, ws)['userID'].nunique()\n",
    "        if nusers > max_bs:\n",
    "            print(f'On fold {idx} WINDOW_SIZE should be at least {ws}: {nusers} > {max_bs}', file=sys.stderr)\n",
    "            break\n",
    "\n",
    "# Checking that the min_bs is doable with every window size\n",
    "for idx in use_folds_idx:\n",
    "    for ws in reversed(_sorted_ws):\n",
    "        nusers = filter_window_size(folds_dict[idx].train, folds_dict[idx].end, ws)['userID'].nunique()\n",
    "        if nusers < min_bs:\n",
    "            print(f'On fold {idx} WINDOW_SIZE should be more than {ws}: {nusers} < {min_bs}', file=sys.stderr)\n",
    "            break\n",
    "\n",
    "# Checking that the max_ws is doable with every batch size\n",
    "max_ws = _sorted_ws[-1]\n",
    "for idx in use_folds_idx:\n",
    "    nusers = filter_window_size(folds_dict[idx].train, folds_dict[idx].end, max_ws)['userID'].nunique()\n",
    "    for bs in (2**x for x in reversed(range(MIN_BATCH_SIZE, MAX_BATCH_SIZE+1))):\n",
    "        if bs > nusers:\n",
    "            print(f\"On fold {idx} batch_size should be '<={bs/2}' with {max_ws}: {nusers} < {bs}\", file=sys.stderr)\n",
    "            break\n",
    "\n",
    "print(\"All folds ok!\")"
   ]
  },
  {
   "cell_type": "markdown",
   "id": "78cb9dda",
   "metadata": {
    "papermill": {
     "duration": 0.002842,
     "end_time": "2024-09-16T14:42:45.921431",
     "exception": false,
     "start_time": "2024-09-16T14:42:45.918589",
     "status": "completed"
    },
    "tags": []
   },
   "source": [
    "### Number of users with the min window_size"
   ]
  },
  {
   "cell_type": "code",
   "execution_count": 11,
   "id": "e5691f3b",
   "metadata": {
    "execution": {
     "iopub.execute_input": "2024-09-16T14:42:45.927679Z",
     "iopub.status.busy": "2024-09-16T14:42:45.927556Z",
     "iopub.status.idle": "2024-09-16T14:42:45.953710Z",
     "shell.execute_reply": "2024-09-16T14:42:45.953413Z"
    },
    "papermill": {
     "duration": 0.030158,
     "end_time": "2024-09-16T14:42:45.954458",
     "exception": false,
     "start_time": "2024-09-16T14:42:45.924300",
     "status": "completed"
    },
    "tags": []
   },
   "outputs": [
    {
     "name": "stdout",
     "output_type": "stream",
     "text": [
      "On fold 2022-04-11T00:00:00 with ws 21d: 104 users, ws 10YE: 643\n",
      "On fold 2022-04-16T00:00:00 with ws 21d: 113 users, ws 10YE: 652\n",
      "On fold 2022-04-21T00:00:00 with ws 21d: 149 users, ws 10YE: 685\n",
      "On fold 2022-04-26T00:00:00 with ws 21d: 177 users, ws 10YE: 701\n",
      "On fold 2022-05-01T00:00:00 with ws 21d: 170 users, ws 10YE: 707\n",
      "On fold 2022-05-06T00:00:00 with ws 21d: 169 users, ws 10YE: 716\n",
      "On fold 2022-05-11T00:00:00 with ws 21d: 167 users, ws 10YE: 731\n",
      "On fold 2022-05-16T00:00:00 with ws 21d: 135 users, ws 10YE: 736\n",
      "On fold 2022-05-21T00:00:00 with ws 21d: 140 users, ws 10YE: 740\n",
      "On fold 2022-05-26T00:00:00 with ws 21d: 133 users, ws 10YE: 743\n"
     ]
    }
   ],
   "source": [
    "_min_ws = _sorted_ws[0]\n",
    "_max_ws = _sorted_ws[-1]\n",
    "for idx in use_folds_idx:\n",
    "    nusers = filter_window_size(folds_dict[idx].train, folds_dict[idx].end, _min_ws)['userID'].nunique()\n",
    "    nusers2 = filter_window_size(folds_dict[idx].train, folds_dict[idx].end, _max_ws)['userID'].nunique()\n",
    "    print(f'On fold {idx} with ws {_min_ws}: {nusers} users, ws {_max_ws}: {nusers2}')"
   ]
  },
  {
   "cell_type": "markdown",
   "id": "81795cf3",
   "metadata": {
    "editable": true,
    "papermill": {
     "duration": 0.002682,
     "end_time": "2024-09-16T14:42:45.959927",
     "exception": false,
     "start_time": "2024-09-16T14:42:45.957245",
     "status": "completed"
    },
    "slideshow": {
     "slide_type": ""
    },
    "tags": []
   },
   "source": [
    "## Testing model"
   ]
  },
  {
   "cell_type": "code",
   "execution_count": 12,
   "id": "d2cba824",
   "metadata": {
    "execution": {
     "iopub.execute_input": "2024-09-16T14:42:45.965799Z",
     "iopub.status.busy": "2024-09-16T14:42:45.965672Z",
     "iopub.status.idle": "2024-09-16T14:42:45.985760Z",
     "shell.execute_reply": "2024-09-16T14:42:45.985553Z"
    },
    "papermill": {
     "duration": 0.024003,
     "end_time": "2024-09-16T14:42:45.986495",
     "exception": false,
     "start_time": "2024-09-16T14:42:45.962492",
     "status": "completed"
    },
    "tags": []
   },
   "outputs": [],
   "source": [
    "from recommenders.models.deeprec.DataModel.ImplicitCF import ImplicitCF\n",
    "from recommenders.models.deeprec.deeprec_utils import prepare_hparams"
   ]
  },
  {
   "cell_type": "code",
   "execution_count": 13,
   "id": "05c77cbd",
   "metadata": {
    "editable": true,
    "execution": {
     "iopub.execute_input": "2024-09-16T14:42:45.992503Z",
     "iopub.status.busy": "2024-09-16T14:42:45.992383Z",
     "iopub.status.idle": "2024-09-16T14:42:46.010835Z",
     "shell.execute_reply": "2024-09-16T14:42:46.010645Z"
    },
    "papermill": {
     "duration": 0.022348,
     "end_time": "2024-09-16T14:42:46.011593",
     "exception": false,
     "start_time": "2024-09-16T14:42:45.989245",
     "status": "completed"
    },
    "slideshow": {
     "slide_type": ""
    },
    "tags": []
   },
   "outputs": [],
   "source": [
    "# hparams = prepare_hparams(\n",
    "#     model_type='lightgcn',\n",
    "#     n_layers=3,\n",
    "#     batch_size=512,\n",
    "#     embed_size=64,\n",
    "#     epochs=2,\n",
    "#     learning_rate=0.001,\n",
    "#     decay=0.001,\n",
    "#     metrics=[\"recall\", \"ndcg\", \"precision\", \"map\"],\n",
    "#     eval_epoch=2,\n",
    "#     top_k=K_RECOMMENDATIONS[0],\n",
    "#     save_model=False,\n",
    "#     MODEL_DIR='./data/model/lightgcn/',\n",
    "# )\n",
    "# dataloader = ImplicitCF(train=folds_dict[use_folds_idx[0]].train, test=folds_dict[use_folds_idx[0]].test, seed=SEED)\n",
    "# print(\"items:\", dataloader.n_items, \"user:\", dataloader.n_users)\n",
    "# model = LightGCNCustom(data=dataloader, hparams=hparams)"
   ]
  },
  {
   "cell_type": "code",
   "execution_count": 14,
   "id": "37855db1",
   "metadata": {
    "execution": {
     "iopub.execute_input": "2024-09-16T14:42:46.017672Z",
     "iopub.status.busy": "2024-09-16T14:42:46.017554Z",
     "iopub.status.idle": "2024-09-16T14:42:46.034999Z",
     "shell.execute_reply": "2024-09-16T14:42:46.034715Z"
    },
    "papermill": {
     "duration": 0.021342,
     "end_time": "2024-09-16T14:42:46.035764",
     "exception": false,
     "start_time": "2024-09-16T14:42:46.014422",
     "status": "completed"
    },
    "tags": []
   },
   "outputs": [],
   "source": [
    "# model.fit()\n",
    "# model.run_eval()"
   ]
  },
  {
   "cell_type": "code",
   "execution_count": 15,
   "id": "61fbad19",
   "metadata": {
    "editable": true,
    "execution": {
     "iopub.execute_input": "2024-09-16T14:42:46.042390Z",
     "iopub.status.busy": "2024-09-16T14:42:46.042273Z",
     "iopub.status.idle": "2024-09-16T14:42:46.059683Z",
     "shell.execute_reply": "2024-09-16T14:42:46.059484Z"
    },
    "papermill": {
     "duration": 0.021563,
     "end_time": "2024-09-16T14:42:46.060342",
     "exception": false,
     "start_time": "2024-09-16T14:42:46.038779",
     "status": "completed"
    },
    "slideshow": {
     "slide_type": ""
    },
    "tags": []
   },
   "outputs": [],
   "source": [
    "# model.recommend_k_items(\n",
    "#     dataloader.test, \n",
    "#     top_k=3, \n",
    "#     use_id=True, \n",
    "#     remove_seen=True, \n",
    "#     recommend_from=folds_dict[use_folds_idx[0]].open_proposals\n",
    "# )"
   ]
  },
  {
   "cell_type": "markdown",
   "id": "53fbc382",
   "metadata": {
    "papermill": {
     "duration": 0.002727,
     "end_time": "2024-09-16T14:42:46.065861",
     "exception": false,
     "start_time": "2024-09-16T14:42:46.063134",
     "status": "completed"
    },
    "tags": []
   },
   "source": [
    "## Defining trainable"
   ]
  },
  {
   "cell_type": "code",
   "execution_count": 16,
   "id": "5859e74b",
   "metadata": {
    "execution": {
     "iopub.execute_input": "2024-09-16T14:42:46.071899Z",
     "iopub.status.busy": "2024-09-16T14:42:46.071782Z",
     "iopub.status.idle": "2024-09-16T14:42:46.088989Z",
     "shell.execute_reply": "2024-09-16T14:42:46.088793Z"
    },
    "papermill": {
     "duration": 0.021019,
     "end_time": "2024-09-16T14:42:46.089642",
     "exception": false,
     "start_time": "2024-09-16T14:42:46.068623",
     "status": "completed"
    },
    "tags": []
   },
   "outputs": [],
   "source": [
    "from recsys4daos.evaluation import calculate_all_metrics"
   ]
  },
  {
   "cell_type": "code",
   "execution_count": 17,
   "id": "0137263f",
   "metadata": {
    "editable": true,
    "execution": {
     "iopub.execute_input": "2024-09-16T14:42:46.095914Z",
     "iopub.status.busy": "2024-09-16T14:42:46.095799Z",
     "iopub.status.idle": "2024-09-16T14:42:46.116698Z",
     "shell.execute_reply": "2024-09-16T14:42:46.116496Z"
    },
    "papermill": {
     "duration": 0.024988,
     "end_time": "2024-09-16T14:42:46.117425",
     "exception": false,
     "start_time": "2024-09-16T14:42:46.092437",
     "status": "completed"
    },
    "slideshow": {
     "slide_type": ""
    },
    "tags": []
   },
   "outputs": [],
   "source": [
    "class TrainLightGCN(tune.Trainable):\n",
    "    def setup(\n",
    "        self,\n",
    "        config: Dict[str, Any],\n",
    "        data,\n",
    "    ):\n",
    "        self.config = config\n",
    "        train, test, self.t, self.open_proposals = data\n",
    "        train_filtered = filter_window_size(train, self.t, config['window_size'])\n",
    "        \n",
    "        # Remove users that voted in everything\n",
    "        # see https://github.com/recommenders-team/recommenders/issues/2163\n",
    "        msk = train_filtered.groupby('userID').size() == train_filtered['itemID'].nunique()\n",
    "        train_filtered = train_filtered[train_filtered['userID'].isin(msk[~msk].index)]\n",
    "        \n",
    "        self.dataloader = ImplicitCF(train=train_filtered, test=test, seed=SEED)\n",
    "        # Some experiments will run multiple times, but that's a price to pay for\n",
    "        # usability\n",
    "        self.real_batch_size = min(2**config['batch_size'], self.dataloader.n_users_in_train)\n",
    "\n",
    "        self.hparams = prepare_hparams(\n",
    "            model_type='lightgcn',\n",
    "            n_layers=config['conv_layers'],\n",
    "            batch_size=self.real_batch_size,\n",
    "            embed_size=config['embedding_dim'],\n",
    "            epochs=EPOCHS_PER_ITER,\n",
    "            learning_rate=config['learning_rate'],\n",
    "            decay=config['l2'],\n",
    "            metrics=METRICS,\n",
    "            eval_epoch=-1,\n",
    "            top_k=K_RECOMMENDATIONS[0],\n",
    "            save_model=False,\n",
    "            MODEL_DIR='./data/model/lightgcn/',\n",
    "        )\n",
    "        self.model = LightGCNCustom(self.hparams, self.dataloader, seed=SEED)\n",
    "        self.total_train = 0\n",
    "        self.total_eval = 0\n",
    "\n",
    "    @property\n",
    "    def iteration(self):\n",
    "        return self.model.epochs_done\n",
    "\n",
    "    @property\n",
    "    def training_iteration(self):\n",
    "        return self.model.epochs_done\n",
    "\n",
    "    def step(self):\n",
    "        \"\"\"\n",
    "        As a rule of thumb, the execution time of step should be large enough to avoid overheads \n",
    "        (i.e. more than a few seconds), but short enough to report progress periodically \n",
    "        (i.e. at most a few minutes).\n",
    "        \"\"\"\n",
    "        assert EPOCHS_PER_ITER > 0\n",
    "\n",
    "        with Timer() as t_train:\n",
    "            for _ in range(EPOCHS_PER_ITER):\n",
    "                ret = self.model.fit_epoch()\n",
    "\n",
    "\n",
    "        with Timer() as t_rec:\n",
    "            recs = self.model.recommend_k_items(\n",
    "                self.dataloader.test, # Used only to get user ids\n",
    "                top_k=max(K_RECOMMENDATIONS),\n",
    "                use_id=True,\n",
    "                remove_seen=True,\n",
    "                recommend_from=self.open_proposals,\n",
    "            )\n",
    "        \n",
    "        eval_dict = {'model_'+k:v for k,v in zip(self.model.metrics, self.model.run_eval())}\n",
    "        eval_dict |= calculate_all_metrics(self.dataloader.test, recs, K_RECOMMENDATIONS)\n",
    "\n",
    "        self.total_train += t_train.time\n",
    "        self.total_eval += eval_dict['time_eval']\n",
    "        \n",
    "        return {\n",
    "            'real_batch_size': self.real_batch_size,\n",
    "            'iteration': self.iteration,\n",
    "            'loss': ret[0],\n",
    "            'mf_loss': ret[1],\n",
    "            'emb_loss': ret[2],\n",
    "            **eval_dict,\n",
    "            'time_train': t_train.time,\n",
    "            'time_rec': t_rec.time,\n",
    "            'time_total_train': self.total_train,\n",
    "            'time_total_test': self.total_eval,\n",
    "        }\n",
    "\n",
    "    def save_checkpoint(self, checkpoint_dir):\n",
    "        checkpoint_path = os.path.join(checkpoint_dir, \"model\")\n",
    "        self.model.saver.save(\n",
    "            sess=self.model.sess,\n",
    "            save_path=checkpoint_path,\n",
    "        )\n",
    "        return checkpoint_dir\n",
    "\n",
    "    def load_checkpoint(self, checkpoint_path):\n",
    "        self.model.load(checkpoint_path)"
   ]
  },
  {
   "cell_type": "markdown",
   "id": "7ac5f8b9",
   "metadata": {
    "editable": true,
    "papermill": {
     "duration": 0.002786,
     "end_time": "2024-09-16T14:42:46.123043",
     "exception": false,
     "start_time": "2024-09-16T14:42:46.120257",
     "status": "completed"
    },
    "slideshow": {
     "slide_type": ""
    },
    "tags": []
   },
   "source": [
    "## Big experiment"
   ]
  },
  {
   "cell_type": "code",
   "execution_count": 18,
   "id": "075a0ab7",
   "metadata": {
    "editable": true,
    "execution": {
     "iopub.execute_input": "2024-09-16T14:42:46.129112Z",
     "iopub.status.busy": "2024-09-16T14:42:46.129017Z",
     "iopub.status.idle": "2024-09-16T14:42:46.146298Z",
     "shell.execute_reply": "2024-09-16T14:42:46.146126Z"
    },
    "papermill": {
     "duration": 0.021149,
     "end_time": "2024-09-16T14:42:46.146992",
     "exception": false,
     "start_time": "2024-09-16T14:42:46.125843",
     "status": "completed"
    },
    "slideshow": {
     "slide_type": ""
    },
    "tags": []
   },
   "outputs": [
    {
     "data": {
      "text/plain": [
       "PosixPath('/home/daviddavo/ray_results3.11')"
      ]
     },
     "execution_count": 18,
     "metadata": {},
     "output_type": "execute_result"
    }
   ],
   "source": [
    "RAY_RESULTS_PATH"
   ]
  },
  {
   "cell_type": "code",
   "execution_count": 19,
   "id": "abe65f10",
   "metadata": {
    "editable": true,
    "execution": {
     "iopub.execute_input": "2024-09-16T14:42:46.153641Z",
     "iopub.status.busy": "2024-09-16T14:42:46.153525Z",
     "iopub.status.idle": "2024-09-16T14:42:46.171605Z",
     "shell.execute_reply": "2024-09-16T14:42:46.171405Z"
    },
    "papermill": {
     "duration": 0.022279,
     "end_time": "2024-09-16T14:42:46.172321",
     "exception": false,
     "start_time": "2024-09-16T14:42:46.150042",
     "status": "completed"
    },
    "slideshow": {
     "slide_type": ""
    },
    "tags": []
   },
   "outputs": [
    {
     "name": "stdout",
     "output_type": "stream",
     "text": [
      "lamarck\n",
      "{'cpu': 1, 'gpu': 0.0625}\n"
     ]
    }
   ],
   "source": [
    "print(os.uname().nodename)\n",
    "\n",
    "### SET TRAINING RESOURCES\n",
    "if os.uname().nodename == 'lamarck':\n",
    "    # assert torch.cuda.is_available()\n",
    "\n",
    "    NUM_SAMPLES = SAMPLES_PER_SPLIT\n",
    "    # Every run takes approx half a gig of vram (no optimizations)\n",
    "    # The RTX 4090 has 24GB so we can run the model about 48 times\n",
    "    resources_per_trial={\n",
    "        'cpu': 1,\n",
    "        'gpu': 1 / GPUS,\n",
    "    }\n",
    "else:\n",
    "    NUM_SAMPLES = 1\n",
    "    resources_per_trial={\n",
    "        'cpu': 1,\n",
    "        # It takes about 1.5 GiB with full training data, but I put a bit more because\n",
    "        # this notebook also takes a bit of memory\n",
    "        'memory': 2e9,\n",
    "    }\n",
    "print(resources_per_trial)"
   ]
  },
  {
   "cell_type": "code",
   "execution_count": 20,
   "id": "6cbdb5d2",
   "metadata": {
    "editable": true,
    "execution": {
     "iopub.execute_input": "2024-09-16T14:42:46.178789Z",
     "iopub.status.busy": "2024-09-16T14:42:46.178674Z",
     "iopub.status.idle": "2024-09-16T14:42:46.279925Z",
     "shell.execute_reply": "2024-09-16T14:42:46.279599Z"
    },
    "papermill": {
     "duration": 0.105612,
     "end_time": "2024-09-16T14:42:46.280854",
     "exception": false,
     "start_time": "2024-09-16T14:42:46.175242",
     "status": "completed"
    },
    "slideshow": {
     "slide_type": ""
    },
    "tags": []
   },
   "outputs": [],
   "source": [
    "from ray.tune.search.hyperopt import HyperOptSearch"
   ]
  },
  {
   "cell_type": "code",
   "execution_count": 21,
   "id": "8be9851b",
   "metadata": {
    "editable": true,
    "execution": {
     "iopub.execute_input": "2024-09-16T14:42:46.287850Z",
     "iopub.status.busy": "2024-09-16T14:42:46.287548Z",
     "iopub.status.idle": "2024-09-16T14:42:46.312390Z",
     "shell.execute_reply": "2024-09-16T14:42:46.312075Z"
    },
    "papermill": {
     "duration": 0.029166,
     "end_time": "2024-09-16T14:42:46.313136",
     "exception": false,
     "start_time": "2024-09-16T14:42:46.283970",
     "status": "completed"
    },
    "slideshow": {
     "slide_type": ""
    },
    "tags": []
   },
   "outputs": [],
   "source": [
    "def getTunerOnFold(f_idx, points_to_evaluate = None):    \n",
    "    name = paths.lightgcn_ray_tune_fname(ORG_NAME, SPLITS_FREQ, SPLITS_NORMALIZE, OPTIM_METRIC, fold=f_idx)\n",
    "    experiments = list(RAY_RESULTS_PATH.glob(f'{name}_*'))\n",
    "    last_experiment = max(experiments, key=lambda x: x.stat().st_ctime) if experiments else None\n",
    "    f = folds_dict[f_idx]\n",
    "\n",
    "    dftrain,dftest,t,open_proposals = folds_dict[f_idx]\n",
    "    param_space = dict(\n",
    "        batch_size=tune.randint(MIN_BATCH_SIZE, MAX_BATCH_SIZE+1), # 64 - 2**MAX_BATCH_SIZE\n",
    "        embedding_dim=tune.lograndint(1, MAX_EMBEDDING_DIM, base=2),\n",
    "        conv_layers=tune.randint(1,5),\n",
    "        learning_rate=tune.qloguniform(MIN_LR, 1, 1e-4),\n",
    "        l2=tune.loguniform(1e-7, 1e-2, 1e-7),\n",
    "        window_size=tune.choice(WINDOW_SIZES),\n",
    "        # Just so it appears on the output\n",
    "        fold=f_idx,\n",
    "    )\n",
    "    \n",
    "    ### RESTORE EXPERIMENT OR CREATE A NEW ONE\n",
    "    if last_experiment and tune.Tuner.can_restore(last_experiment):\n",
    "        print(f\"Restoring last experiment: {last_experiment}\")\n",
    "        tuner = tune.Tuner.restore(\n",
    "            str(last_experiment),\n",
    "            trainable=tune.with_resources(\n",
    "                # tune.with_parameters(TrainLightGCN,  train=dftrain, test=dftest, open_proposals=open_proposals),\n",
    "                tune.with_parameters(TrainLightGCN, data=f),\n",
    "                resources_per_trial,\n",
    "            ),\n",
    "            restart_errored=True,\n",
    "            param_space=param_space,\n",
    "        )\n",
    "    else:\n",
    "        print(f\"No experiment found for fold {f_idx}, creating new tuner with {NUM_SAMPLES} samples\")\n",
    "        search_alg = None\n",
    "        \n",
    "        search_alg = HyperOptSearch(\n",
    "            points_to_evaluate = points_to_evaluate,\n",
    "            random_state_seed=SEED,\n",
    "        )\n",
    "        # search_alg = tune.search.Repeater(search_alg, N_SPLITS-SKIP_SPLIT)\n",
    "        \n",
    "        tuner = tune.Tuner(\n",
    "            tune.with_resources(\n",
    "                # tune.with_parameters(TrainLightGCN,  train=dftrain, test=dftest, open_proposals=open_proposals),\n",
    "                tune.with_parameters(TrainLightGCN, data=folds_dict[f_idx]),\n",
    "                resources_per_trial,\n",
    "            ),\n",
    "            run_config=train.RunConfig(\n",
    "                stop={'training_iteration': MAX_EPOCHS/EPOCHS_PER_ITER, 'time_total_train': MAX_TIME_TOTAL_TRAIN},\n",
    "                name=name + f'_{dt.datetime.now().isoformat()}',\n",
    "                storage_path=RAY_RESULTS_PATH,\n",
    "                # failure_config=train.FailureConfig(fail_fast='raise'),\n",
    "                failure_config=train.FailureConfig(max_failures=3),\n",
    "            ),\n",
    "            param_space=param_space,\n",
    "            tune_config=tune.TuneConfig(\n",
    "                search_alg=search_alg,\n",
    "                num_samples=NUM_SAMPLES,\n",
    "                metric=OPTIM_METRIC,\n",
    "                mode='max',\n",
    "            )\n",
    "        )\n",
    "\n",
    "    return tuner"
   ]
  },
  {
   "cell_type": "code",
   "execution_count": 22,
   "id": "0853b6eb",
   "metadata": {
    "editable": true,
    "execution": {
     "iopub.execute_input": "2024-09-16T14:42:46.319760Z",
     "iopub.status.busy": "2024-09-16T14:42:46.319637Z",
     "iopub.status.idle": "2024-09-16T14:42:46.345575Z",
     "shell.execute_reply": "2024-09-16T14:42:46.345378Z"
    },
    "papermill": {
     "duration": 0.03051,
     "end_time": "2024-09-16T14:42:46.346599",
     "exception": false,
     "start_time": "2024-09-16T14:42:46.316089",
     "status": "completed"
    },
    "slideshow": {
     "slide_type": ""
    },
    "tags": []
   },
   "outputs": [
    {
     "data": {
      "application/vnd.jupyter.widget-view+json": {
       "model_id": "4b67c7fca9114357ac2d04a846104d68",
       "version_major": 2,
       "version_minor": 0
      },
      "text/plain": [
       "fold:   0%|          | 0/10 [00:00<?, ?it/s]"
      ]
     },
     "metadata": {},
     "output_type": "display_data"
    },
    {
     "data": {
      "application/vnd.jupyter.widget-view+json": {
       "model_id": "a46844a1c57741d7aff5ab7d66fd9a21",
       "version_major": 2,
       "version_minor": 0
      },
      "text/plain": [
       "Output(layout=Layout(border_bottom='1px solid black', border_left='1px solid black', border_right='1px solid b…"
      ]
     },
     "execution_count": 22,
     "metadata": {},
     "output_type": "execute_result"
    }
   ],
   "source": [
    "# We need to display the progress bar in another cell because ray tune \"overwrites\" the previous output\n",
    "pbar = tqdm(total=len(use_folds_idx), desc='fold')\n",
    "out = widgets.Output(layout={'border': '1px solid black'})\n",
    "with out:\n",
    "    print(\"In this cell important output from the next cell will be shown\")\n",
    "out"
   ]
  },
  {
   "cell_type": "code",
   "execution_count": 23,
   "id": "3b74b2fa",
   "metadata": {
    "editable": true,
    "execution": {
     "iopub.execute_input": "2024-09-16T14:42:46.353881Z",
     "iopub.status.busy": "2024-09-16T14:42:46.353627Z",
     "iopub.status.idle": "2024-09-16T15:41:55.075108Z",
     "shell.execute_reply": "2024-09-16T15:41:55.073447Z"
    },
    "papermill": {
     "duration": 3548.730555,
     "end_time": "2024-09-16T15:41:55.080346",
     "exception": false,
     "start_time": "2024-09-16T14:42:46.349791",
     "status": "completed"
    },
    "slideshow": {
     "slide_type": ""
    },
    "tags": []
   },
   "outputs": [
    {
     "data": {
      "text/html": [
       "<div class=\"tuneStatus\">\n",
       "  <div style=\"display: flex;flex-direction: row\">\n",
       "    <div style=\"display: flex;flex-direction: column;\">\n",
       "      <h3>Tune Status</h3>\n",
       "      <table>\n",
       "<tbody>\n",
       "<tr><td>Current time:</td><td>2024-09-16 15:41:54</td></tr>\n",
       "<tr><td>Running for: </td><td>00:00:00.35        </td></tr>\n",
       "<tr><td>Memory:      </td><td>11.6/125.6 GiB     </td></tr>\n",
       "</tbody>\n",
       "</table>\n",
       "    </div>\n",
       "    <div class=\"vDivider\"></div>\n",
       "    <div class=\"systemInfo\">\n",
       "      <h3>System Info</h3>\n",
       "      Using FIFO scheduling algorithm.<br>Logical resource usage: 0/24 CPUs, 0/1 GPUs (0.0/1.0 accelerator_type:G)\n",
       "    </div>\n",
       "    \n",
       "  </div>\n",
       "  <div class=\"hDivider\"></div>\n",
       "  <div class=\"trialStatus\">\n",
       "    <h3>Trial Status</h3>\n",
       "    <table>\n",
       "<thead>\n",
       "<tr><th>Trial name            </th><th>status    </th><th>loc                  </th><th style=\"text-align: right;\">  batch_size</th><th style=\"text-align: right;\">  conv_layers</th><th style=\"text-align: right;\">  embedding_dim</th><th>fold               </th><th style=\"text-align: right;\">         l2</th><th style=\"text-align: right;\">  learning_rate</th><th>window_size  </th><th style=\"text-align: right;\">  iter</th><th style=\"text-align: right;\">  total time (s)</th><th style=\"text-align: right;\">  real_batch_size</th><th style=\"text-align: right;\">  iteration</th><th style=\"text-align: right;\">        loss</th></tr>\n",
       "</thead>\n",
       "<tbody>\n",
       "<tr><td>TrainLightGCN_79cc5639</td><td>TERMINATED</td><td>147.96.81.131:1507536</td><td style=\"text-align: right;\">           9</td><td style=\"text-align: right;\">            4</td><td style=\"text-align: right;\">             13</td><td>2022-05-26T00:00:00</td><td style=\"text-align: right;\">0.00168869 </td><td style=\"text-align: right;\">         0.0101</td><td>10YE         </td><td style=\"text-align: right;\">    40</td><td style=\"text-align: right;\">         8.41069</td><td style=\"text-align: right;\">              512</td><td style=\"text-align: right;\">        200</td><td style=\"text-align: right;\"> 0.0758969  </td></tr>\n",
       "<tr><td>TrainLightGCN_05fc5638</td><td>TERMINATED</td><td>147.96.81.131:1507387</td><td style=\"text-align: right;\">           9</td><td style=\"text-align: right;\">            4</td><td style=\"text-align: right;\">            160</td><td>2022-05-26T00:00:00</td><td style=\"text-align: right;\">0.00102343 </td><td style=\"text-align: right;\">         0.0088</td><td>10YE         </td><td style=\"text-align: right;\">    40</td><td style=\"text-align: right;\">         8.80721</td><td style=\"text-align: right;\">              512</td><td style=\"text-align: right;\">        200</td><td style=\"text-align: right;\"> 0.0448875  </td></tr>\n",
       "<tr><td>TrainLightGCN_b8631bd6</td><td>TERMINATED</td><td>147.96.81.131:1507246</td><td style=\"text-align: right;\">           9</td><td style=\"text-align: right;\">            2</td><td style=\"text-align: right;\">              9</td><td>2022-05-26T00:00:00</td><td style=\"text-align: right;\">0.00135052 </td><td style=\"text-align: right;\">         0.0052</td><td>10YE         </td><td style=\"text-align: right;\">    40</td><td style=\"text-align: right;\">         8.54857</td><td style=\"text-align: right;\">              512</td><td style=\"text-align: right;\">        200</td><td style=\"text-align: right;\"> 0.0637936  </td></tr>\n",
       "<tr><td>TrainLightGCN_cba9871f</td><td>TERMINATED</td><td>147.96.81.131:1507090</td><td style=\"text-align: right;\">           6</td><td style=\"text-align: right;\">            3</td><td style=\"text-align: right;\">             39</td><td>2022-05-26T00:00:00</td><td style=\"text-align: right;\">0.000372252</td><td style=\"text-align: right;\">         0.0003</td><td>90d          </td><td style=\"text-align: right;\">    40</td><td style=\"text-align: right;\">        10.4157 </td><td style=\"text-align: right;\">               64</td><td style=\"text-align: right;\">        200</td><td style=\"text-align: right;\"> 0.120214   </td></tr>\n",
       "<tr><td>TrainLightGCN_b3d6ad6b</td><td>TERMINATED</td><td>147.96.81.131:1506929</td><td style=\"text-align: right;\">           7</td><td style=\"text-align: right;\">            3</td><td style=\"text-align: right;\">            478</td><td>2022-05-26T00:00:00</td><td style=\"text-align: right;\">5.25343e-05</td><td style=\"text-align: right;\">         0.8287</td><td>60d          </td><td style=\"text-align: right;\">    40</td><td style=\"text-align: right;\">         7.74745</td><td style=\"text-align: right;\">              128</td><td style=\"text-align: right;\">        200</td><td style=\"text-align: right;\">11.4512     </td></tr>\n",
       "<tr><td>TrainLightGCN_b1227307</td><td>TERMINATED</td><td>147.96.81.131:1506775</td><td style=\"text-align: right;\">           8</td><td style=\"text-align: right;\">            2</td><td style=\"text-align: right;\">            331</td><td>2022-05-26T00:00:00</td><td style=\"text-align: right;\">0.0029437  </td><td style=\"text-align: right;\">         0.0163</td><td>21d          </td><td style=\"text-align: right;\">    40</td><td style=\"text-align: right;\">         6.47744</td><td style=\"text-align: right;\">              132</td><td style=\"text-align: right;\">        200</td><td style=\"text-align: right;\"> 0.0349529  </td></tr>\n",
       "<tr><td>TrainLightGCN_3a64b281</td><td>TERMINATED</td><td>147.96.81.131:1506624</td><td style=\"text-align: right;\">           8</td><td style=\"text-align: right;\">            2</td><td style=\"text-align: right;\">            257</td><td>2022-05-26T00:00:00</td><td style=\"text-align: right;\">2.55444e-07</td><td style=\"text-align: right;\">         0.0222</td><td>21d          </td><td style=\"text-align: right;\">    40</td><td style=\"text-align: right;\">         7.21851</td><td style=\"text-align: right;\">              132</td><td style=\"text-align: right;\">        200</td><td style=\"text-align: right;\"> 3.84092e-05</td></tr>\n",
       "<tr><td>TrainLightGCN_4364be0d</td><td>TERMINATED</td><td>147.96.81.131:1506186</td><td style=\"text-align: right;\">           7</td><td style=\"text-align: right;\">            1</td><td style=\"text-align: right;\">             34</td><td>2022-05-26T00:00:00</td><td style=\"text-align: right;\">5.00589e-07</td><td style=\"text-align: right;\">         0.0696</td><td>10YE         </td><td style=\"text-align: right;\">    40</td><td style=\"text-align: right;\">        17.3327 </td><td style=\"text-align: right;\">              128</td><td style=\"text-align: right;\">        200</td><td style=\"text-align: right;\"> 0.0452966  </td></tr>\n",
       "<tr><td>TrainLightGCN_d5848c98</td><td>TERMINATED</td><td>147.96.81.131:1505751</td><td style=\"text-align: right;\">           6</td><td style=\"text-align: right;\">            1</td><td style=\"text-align: right;\">              3</td><td>2022-05-26T00:00:00</td><td style=\"text-align: right;\">1.01148e-05</td><td style=\"text-align: right;\">         0.0595</td><td>10YE         </td><td style=\"text-align: right;\">    40</td><td style=\"text-align: right;\">        27.088  </td><td style=\"text-align: right;\">               64</td><td style=\"text-align: right;\">        200</td><td style=\"text-align: right;\"> 0.145004   </td></tr>\n",
       "<tr><td>TrainLightGCN_37471147</td><td>TERMINATED</td><td>147.96.81.131:1506477</td><td style=\"text-align: right;\">           7</td><td style=\"text-align: right;\">            2</td><td style=\"text-align: right;\">            294</td><td>2022-05-26T00:00:00</td><td style=\"text-align: right;\">2.10805e-05</td><td style=\"text-align: right;\">         0.037 </td><td>30d          </td><td style=\"text-align: right;\">    40</td><td style=\"text-align: right;\">         7.8729 </td><td style=\"text-align: right;\">              128</td><td style=\"text-align: right;\">        200</td><td style=\"text-align: right;\"> 0.00074336 </td></tr>\n",
       "<tr><td>TrainLightGCN_38e95842</td><td>TERMINATED</td><td>147.96.81.131:1506328</td><td style=\"text-align: right;\">           6</td><td style=\"text-align: right;\">            1</td><td style=\"text-align: right;\">             61</td><td>2022-05-26T00:00:00</td><td style=\"text-align: right;\">1.82126e-05</td><td style=\"text-align: right;\">         0.096 </td><td>30d          </td><td style=\"text-align: right;\">    40</td><td style=\"text-align: right;\">        10.2263 </td><td style=\"text-align: right;\">               64</td><td style=\"text-align: right;\">        200</td><td style=\"text-align: right;\"> 0.0546495  </td></tr>\n",
       "<tr><td>TrainLightGCN_e9ccb957</td><td>TERMINATED</td><td>147.96.81.131:1505602</td><td style=\"text-align: right;\">           6</td><td style=\"text-align: right;\">            2</td><td style=\"text-align: right;\">              6</td><td>2022-05-26T00:00:00</td><td style=\"text-align: right;\">5.9004e-06 </td><td style=\"text-align: right;\">         0.1812</td><td>10YE         </td><td style=\"text-align: right;\">    40</td><td style=\"text-align: right;\">        27.2867 </td><td style=\"text-align: right;\">               64</td><td style=\"text-align: right;\">        200</td><td style=\"text-align: right;\"> 0.263331   </td></tr>\n",
       "<tr><td>TrainLightGCN_66f38f9e</td><td>TERMINATED</td><td>147.96.81.131:1505454</td><td style=\"text-align: right;\">           6</td><td style=\"text-align: right;\">            3</td><td style=\"text-align: right;\">            129</td><td>2022-05-26T00:00:00</td><td style=\"text-align: right;\">3.06809e-05</td><td style=\"text-align: right;\">         0.0191</td><td>10YE         </td><td style=\"text-align: right;\">    40</td><td style=\"text-align: right;\">        25.8496 </td><td style=\"text-align: right;\">               64</td><td style=\"text-align: right;\">        200</td><td style=\"text-align: right;\"> 0.0107334  </td></tr>\n",
       "<tr><td>TrainLightGCN_66e66106</td><td>TERMINATED</td><td>147.96.81.131:1506045</td><td style=\"text-align: right;\">           7</td><td style=\"text-align: right;\">            1</td><td style=\"text-align: right;\">             44</td><td>2022-05-26T00:00:00</td><td style=\"text-align: right;\">2.40949e-07</td><td style=\"text-align: right;\">         0.3742</td><td>30d          </td><td style=\"text-align: right;\">    40</td><td style=\"text-align: right;\">         8.88279</td><td style=\"text-align: right;\">              128</td><td style=\"text-align: right;\">        200</td><td style=\"text-align: right;\"> 0.00192118 </td></tr>\n",
       "<tr><td>TrainLightGCN_90e0e484</td><td>TERMINATED</td><td>147.96.81.131:1505902</td><td style=\"text-align: right;\">           7</td><td style=\"text-align: right;\">            1</td><td style=\"text-align: right;\">             30</td><td>2022-05-26T00:00:00</td><td style=\"text-align: right;\">2.7701e-06 </td><td style=\"text-align: right;\">         0.03  </td><td>30d          </td><td style=\"text-align: right;\">    40</td><td style=\"text-align: right;\">         7.91589</td><td style=\"text-align: right;\">              128</td><td style=\"text-align: right;\">        200</td><td style=\"text-align: right;\"> 0.000184346</td></tr>\n",
       "<tr><td>TrainLightGCN_0d6dc0d1</td><td>TERMINATED</td><td>147.96.81.131:1505305</td><td style=\"text-align: right;\">          10</td><td style=\"text-align: right;\">            4</td><td style=\"text-align: right;\">             12</td><td>2022-05-26T00:00:00</td><td style=\"text-align: right;\">0.00060402 </td><td style=\"text-align: right;\">         0.0024</td><td>90d          </td><td style=\"text-align: right;\">    40</td><td style=\"text-align: right;\">         7.02403</td><td style=\"text-align: right;\">              295</td><td style=\"text-align: right;\">        200</td><td style=\"text-align: right;\"> 0.0979634  </td></tr>\n",
       "<tr><td>TrainLightGCN_109ee7cd</td><td>TERMINATED</td><td>147.96.81.131:1505164</td><td style=\"text-align: right;\">          10</td><td style=\"text-align: right;\">            4</td><td style=\"text-align: right;\">             26</td><td>2022-05-26T00:00:00</td><td style=\"text-align: right;\">4.54592e-05</td><td style=\"text-align: right;\">         0.006 </td><td>90d          </td><td style=\"text-align: right;\">    40</td><td style=\"text-align: right;\">         7.00682</td><td style=\"text-align: right;\">              295</td><td style=\"text-align: right;\">        200</td><td style=\"text-align: right;\"> 0.0163278  </td></tr>\n",
       "<tr><td>TrainLightGCN_fe054c08</td><td>TERMINATED</td><td>147.96.81.131:1505007</td><td style=\"text-align: right;\">           9</td><td style=\"text-align: right;\">            4</td><td style=\"text-align: right;\">             20</td><td>2022-05-26T00:00:00</td><td style=\"text-align: right;\">0.000150444</td><td style=\"text-align: right;\">         0.008 </td><td>90d          </td><td style=\"text-align: right;\">    40</td><td style=\"text-align: right;\">         6.86832</td><td style=\"text-align: right;\">              295</td><td style=\"text-align: right;\">        200</td><td style=\"text-align: right;\"> 0.0204439  </td></tr>\n",
       "<tr><td>TrainLightGCN_335635cd</td><td>TERMINATED</td><td>147.96.81.131:1504855</td><td style=\"text-align: right;\">           8</td><td style=\"text-align: right;\">            2</td><td style=\"text-align: right;\">            189</td><td>2022-05-26T00:00:00</td><td style=\"text-align: right;\">1.08874e-06</td><td style=\"text-align: right;\">         0.5947</td><td>60d          </td><td style=\"text-align: right;\">    40</td><td style=\"text-align: right;\">         6.92685</td><td style=\"text-align: right;\">              256</td><td style=\"text-align: right;\">        200</td><td style=\"text-align: right;\"> 0.0704134  </td></tr>\n",
       "<tr><td>TrainLightGCN_9ca1a080</td><td>TERMINATED</td><td>147.96.81.131:1504706</td><td style=\"text-align: right;\">           8</td><td style=\"text-align: right;\">            2</td><td style=\"text-align: right;\">             82</td><td>2022-05-26T00:00:00</td><td style=\"text-align: right;\">1.67454e-06</td><td style=\"text-align: right;\">         0.2605</td><td>30d          </td><td style=\"text-align: right;\">    40</td><td style=\"text-align: right;\">         6.64258</td><td style=\"text-align: right;\">              155</td><td style=\"text-align: right;\">        200</td><td style=\"text-align: right;\"> 0.00861035 </td></tr>\n",
       "<tr><td>TrainLightGCN_91ca31b8</td><td>TERMINATED</td><td>147.96.81.131:1504556</td><td style=\"text-align: right;\">           6</td><td style=\"text-align: right;\">            1</td><td style=\"text-align: right;\">            494</td><td>2022-05-26T00:00:00</td><td style=\"text-align: right;\">1.16244e-05</td><td style=\"text-align: right;\">         0.0859</td><td>30d          </td><td style=\"text-align: right;\">    40</td><td style=\"text-align: right;\">         7.65022</td><td style=\"text-align: right;\">               64</td><td style=\"text-align: right;\">        200</td><td style=\"text-align: right;\"> 0.0662806  </td></tr>\n",
       "<tr><td>TrainLightGCN_931e83dc</td><td>TERMINATED</td><td>147.96.81.131:1504408</td><td style=\"text-align: right;\">           6</td><td style=\"text-align: right;\">            1</td><td style=\"text-align: right;\">            805</td><td>2022-05-26T00:00:00</td><td style=\"text-align: right;\">4.50984e-06</td><td style=\"text-align: right;\">         0.0002</td><td>60d          </td><td style=\"text-align: right;\">    40</td><td style=\"text-align: right;\">         9.12759</td><td style=\"text-align: right;\">               64</td><td style=\"text-align: right;\">        200</td><td style=\"text-align: right;\"> 0.00741619 </td></tr>\n",
       "<tr><td>TrainLightGCN_1bec1135</td><td>TERMINATED</td><td>147.96.81.131:1504269</td><td style=\"text-align: right;\">           7</td><td style=\"text-align: right;\">            1</td><td style=\"text-align: right;\">             69</td><td>2022-05-26T00:00:00</td><td style=\"text-align: right;\">2.24868e-06</td><td style=\"text-align: right;\">         0.0005</td><td>60d          </td><td style=\"text-align: right;\">    40</td><td style=\"text-align: right;\">         7.84223</td><td style=\"text-align: right;\">              128</td><td style=\"text-align: right;\">        200</td><td style=\"text-align: right;\"> 0.0334595  </td></tr>\n",
       "<tr><td>TrainLightGCN_daaa1548</td><td>TERMINATED</td><td>147.96.81.131:1504120</td><td style=\"text-align: right;\">           6</td><td style=\"text-align: right;\">            1</td><td style=\"text-align: right;\">              2</td><td>2022-05-26T00:00:00</td><td style=\"text-align: right;\">3.81818e-06</td><td style=\"text-align: right;\">         0.141 </td><td>60d          </td><td style=\"text-align: right;\">    40</td><td style=\"text-align: right;\">         9.09241</td><td style=\"text-align: right;\">               64</td><td style=\"text-align: right;\">        200</td><td style=\"text-align: right;\"> 0.205344   </td></tr>\n",
       "<tr><td>TrainLightGCN_2b37d016</td><td>TERMINATED</td><td>147.96.81.131:1503965</td><td style=\"text-align: right;\">           9</td><td style=\"text-align: right;\">            4</td><td style=\"text-align: right;\">              3</td><td>2022-05-26T00:00:00</td><td style=\"text-align: right;\">9.23442e-05</td><td style=\"text-align: right;\">         0.0033</td><td>90d          </td><td style=\"text-align: right;\">    40</td><td style=\"text-align: right;\">         7.01266</td><td style=\"text-align: right;\">              295</td><td style=\"text-align: right;\">        200</td><td style=\"text-align: right;\"> 0.2003     </td></tr>\n",
       "<tr><td>TrainLightGCN_8287883d</td><td>TERMINATED</td><td>147.96.81.131:1503810</td><td style=\"text-align: right;\">          10</td><td style=\"text-align: right;\">            3</td><td style=\"text-align: right;\">              7</td><td>2022-05-26T00:00:00</td><td style=\"text-align: right;\">2.39258e-05</td><td style=\"text-align: right;\">         0.0012</td><td>21d          </td><td style=\"text-align: right;\">    40</td><td style=\"text-align: right;\">         6.19106</td><td style=\"text-align: right;\">              132</td><td style=\"text-align: right;\">        200</td><td style=\"text-align: right;\"> 0.183472   </td></tr>\n",
       "<tr><td>TrainLightGCN_e47c92f0</td><td>TERMINATED</td><td>147.96.81.131:1503655</td><td style=\"text-align: right;\">           9</td><td style=\"text-align: right;\">            3</td><td style=\"text-align: right;\">             23</td><td>2022-05-26T00:00:00</td><td style=\"text-align: right;\">0.000119483</td><td style=\"text-align: right;\">         0.0017</td><td>21d          </td><td style=\"text-align: right;\">    40</td><td style=\"text-align: right;\">         6.46011</td><td style=\"text-align: right;\">              132</td><td style=\"text-align: right;\">        200</td><td style=\"text-align: right;\"> 0.0504291  </td></tr>\n",
       "<tr><td>TrainLightGCN_c8d530f1</td><td>TERMINATED</td><td>147.96.81.131:1503500</td><td style=\"text-align: right;\">           8</td><td style=\"text-align: right;\">            1</td><td style=\"text-align: right;\">             11</td><td>2022-05-26T00:00:00</td><td style=\"text-align: right;\">5.75693e-07</td><td style=\"text-align: right;\">         0.0399</td><td>90d          </td><td style=\"text-align: right;\">    40</td><td style=\"text-align: right;\">         7.31902</td><td style=\"text-align: right;\">              256</td><td style=\"text-align: right;\">        200</td><td style=\"text-align: right;\"> 0.00113413 </td></tr>\n",
       "<tr><td>TrainLightGCN_083beac6</td><td>TERMINATED</td><td>147.96.81.131:1503351</td><td style=\"text-align: right;\">           9</td><td style=\"text-align: right;\">            1</td><td style=\"text-align: right;\">            181</td><td>2022-05-26T00:00:00</td><td style=\"text-align: right;\">1.00155e-07</td><td style=\"text-align: right;\">         0.0344</td><td>10YE         </td><td style=\"text-align: right;\">    40</td><td style=\"text-align: right;\">         8.63551</td><td style=\"text-align: right;\">              512</td><td style=\"text-align: right;\">        200</td><td style=\"text-align: right;\"> 0.00621959 </td></tr>\n",
       "<tr><td>TrainLightGCN_ce977821</td><td>TERMINATED</td><td>147.96.81.131:1503206</td><td style=\"text-align: right;\">           8</td><td style=\"text-align: right;\">            2</td><td style=\"text-align: right;\">              9</td><td>2022-05-26T00:00:00</td><td style=\"text-align: right;\">0.000963171</td><td style=\"text-align: right;\">         0.0116</td><td>10YE         </td><td style=\"text-align: right;\">    40</td><td style=\"text-align: right;\">        10.2564 </td><td style=\"text-align: right;\">              256</td><td style=\"text-align: right;\">        200</td><td style=\"text-align: right;\"> 0.0490983  </td></tr>\n",
       "<tr><td>TrainLightGCN_07e992f8</td><td>TERMINATED</td><td>147.96.81.131:1503056</td><td style=\"text-align: right;\">           9</td><td style=\"text-align: right;\">            4</td><td style=\"text-align: right;\">            125</td><td>2022-05-26T00:00:00</td><td style=\"text-align: right;\">0.0018052  </td><td style=\"text-align: right;\">         0.01  </td><td>10YE         </td><td style=\"text-align: right;\">    40</td><td style=\"text-align: right;\">         9.19019</td><td style=\"text-align: right;\">              512</td><td style=\"text-align: right;\">        200</td><td style=\"text-align: right;\"> 0.0667853  </td></tr>\n",
       "<tr><td>TrainLightGCN_7aa075b2</td><td>TERMINATED</td><td>147.96.81.131:1502901</td><td style=\"text-align: right;\">           6</td><td style=\"text-align: right;\">            3</td><td style=\"text-align: right;\">             38</td><td>2022-05-26T00:00:00</td><td style=\"text-align: right;\">0.00018908 </td><td style=\"text-align: right;\">         0.1329</td><td>90d          </td><td style=\"text-align: right;\">    40</td><td style=\"text-align: right;\">        11.0564 </td><td style=\"text-align: right;\">               64</td><td style=\"text-align: right;\">        200</td><td style=\"text-align: right;\"> 0.0933662  </td></tr>\n",
       "<tr><td>TrainLightGCN_2ac19f38</td><td>TERMINATED</td><td>147.96.81.131:1502752</td><td style=\"text-align: right;\">           6</td><td style=\"text-align: right;\">            3</td><td style=\"text-align: right;\">             15</td><td>2022-05-26T00:00:00</td><td style=\"text-align: right;\">0.000439466</td><td style=\"text-align: right;\">         0.0009</td><td>90d          </td><td style=\"text-align: right;\">    40</td><td style=\"text-align: right;\">        10.7175 </td><td style=\"text-align: right;\">               64</td><td style=\"text-align: right;\">        200</td><td style=\"text-align: right;\"> 0.077253   </td></tr>\n",
       "<tr><td>TrainLightGCN_f5fe708d</td><td>TERMINATED</td><td>147.96.81.131:1502597</td><td style=\"text-align: right;\">           7</td><td style=\"text-align: right;\">            3</td><td style=\"text-align: right;\">            104</td><td>2022-05-26T00:00:00</td><td style=\"text-align: right;\">6.39882e-05</td><td style=\"text-align: right;\">         0.973 </td><td>60d          </td><td style=\"text-align: right;\">    40</td><td style=\"text-align: right;\">         8.31649</td><td style=\"text-align: right;\">              128</td><td style=\"text-align: right;\">        200</td><td style=\"text-align: right;\"> 4.78646    </td></tr>\n",
       "<tr><td>TrainLightGCN_d0635fb4</td><td>TERMINATED</td><td>147.96.81.131:1502451</td><td style=\"text-align: right;\">           7</td><td style=\"text-align: right;\">            2</td><td style=\"text-align: right;\">            480</td><td>2022-05-26T00:00:00</td><td style=\"text-align: right;\">8.18446e-07</td><td style=\"text-align: right;\">         0.2247</td><td>60d          </td><td style=\"text-align: right;\">    40</td><td style=\"text-align: right;\">         8.43886</td><td style=\"text-align: right;\">              128</td><td style=\"text-align: right;\">        200</td><td style=\"text-align: right;\"> 1.40102    </td></tr>\n",
       "<tr><td>TrainLightGCN_9f855535</td><td>TERMINATED</td><td>147.96.81.131:1501868</td><td style=\"text-align: right;\">           6</td><td style=\"text-align: right;\">            1</td><td style=\"text-align: right;\">             32</td><td>2022-05-26T00:00:00</td><td style=\"text-align: right;\">1.03833e-05</td><td style=\"text-align: right;\">         0.0737</td><td>10YE         </td><td style=\"text-align: right;\">    40</td><td style=\"text-align: right;\">        22.3522 </td><td style=\"text-align: right;\">               64</td><td style=\"text-align: right;\">        200</td><td style=\"text-align: right;\"> 0.16463    </td></tr>\n",
       "<tr><td>TrainLightGCN_f95c7e0f</td><td>TERMINATED</td><td>147.96.81.131:1501722</td><td style=\"text-align: right;\">           6</td><td style=\"text-align: right;\">            2</td><td style=\"text-align: right;\">              6</td><td>2022-05-26T00:00:00</td><td style=\"text-align: right;\">6.35838e-06</td><td style=\"text-align: right;\">         0.0142</td><td>10YE         </td><td style=\"text-align: right;\">    40</td><td style=\"text-align: right;\">        22.2683 </td><td style=\"text-align: right;\">               64</td><td style=\"text-align: right;\">        200</td><td style=\"text-align: right;\"> 0.0519129  </td></tr>\n",
       "<tr><td>TrainLightGCN_22b95ee4</td><td>TERMINATED</td><td>147.96.81.131:1502309</td><td style=\"text-align: right;\">           8</td><td style=\"text-align: right;\">            1</td><td style=\"text-align: right;\">             51</td><td>2022-05-26T00:00:00</td><td style=\"text-align: right;\">2.16369e-07</td><td style=\"text-align: right;\">         0.0219</td><td>21d          </td><td style=\"text-align: right;\">    40</td><td style=\"text-align: right;\">         6.92107</td><td style=\"text-align: right;\">              132</td><td style=\"text-align: right;\">        200</td><td style=\"text-align: right;\"> 7.57285e-05</td></tr>\n",
       "<tr><td>TrainLightGCN_97a02182</td><td>TERMINATED</td><td>147.96.81.131:1502159</td><td style=\"text-align: right;\">           7</td><td style=\"text-align: right;\">            2</td><td style=\"text-align: right;\">            291</td><td>2022-05-26T00:00:00</td><td style=\"text-align: right;\">2.32124e-05</td><td style=\"text-align: right;\">         0.063 </td><td>30d          </td><td style=\"text-align: right;\">    40</td><td style=\"text-align: right;\">         7.72303</td><td style=\"text-align: right;\">              128</td><td style=\"text-align: right;\">        200</td><td style=\"text-align: right;\"> 0.0170492  </td></tr>\n",
       "<tr><td>TrainLightGCN_f7d83884</td><td>TERMINATED</td><td>147.96.81.131:1502017</td><td style=\"text-align: right;\">           7</td><td style=\"text-align: right;\">            1</td><td style=\"text-align: right;\">             66</td><td>2022-05-26T00:00:00</td><td style=\"text-align: right;\">4.21685e-07</td><td style=\"text-align: right;\">         0.0325</td><td>30d          </td><td style=\"text-align: right;\">    40</td><td style=\"text-align: right;\">         7.2612 </td><td style=\"text-align: right;\">              128</td><td style=\"text-align: right;\">        200</td><td style=\"text-align: right;\"> 4.41981e-05</td></tr>\n",
       "<tr><td>TrainLightGCN_606e734b</td><td>TERMINATED</td><td>147.96.81.131:1501575</td><td style=\"text-align: right;\">           6</td><td style=\"text-align: right;\">            3</td><td style=\"text-align: right;\">            115</td><td>2022-05-26T00:00:00</td><td style=\"text-align: right;\">4.1293e-05 </td><td style=\"text-align: right;\">         0.0043</td><td>90d          </td><td style=\"text-align: right;\">    40</td><td style=\"text-align: right;\">        10.8473 </td><td style=\"text-align: right;\">               64</td><td style=\"text-align: right;\">        200</td><td style=\"text-align: right;\"> 0.00401502 </td></tr>\n",
       "<tr><td>TrainLightGCN_4a373c6b</td><td>TERMINATED</td><td>147.96.81.131:1501426</td><td style=\"text-align: right;\">           9</td><td style=\"text-align: right;\">            4</td><td style=\"text-align: right;\">             18</td><td>2022-05-26T00:00:00</td><td style=\"text-align: right;\">0.000243339</td><td style=\"text-align: right;\">         0.0079</td><td>90d          </td><td style=\"text-align: right;\">    40</td><td style=\"text-align: right;\">         6.96143</td><td style=\"text-align: right;\">              295</td><td style=\"text-align: right;\">        200</td><td style=\"text-align: right;\"> 0.0278821  </td></tr>\n",
       "<tr><td>TrainLightGCN_6f9ee521</td><td>TERMINATED</td><td>147.96.81.131:1501277</td><td style=\"text-align: right;\">           7</td><td style=\"text-align: right;\">            1</td><td style=\"text-align: right;\">            193</td><td>2022-05-26T00:00:00</td><td style=\"text-align: right;\">1.02177e-06</td><td style=\"text-align: right;\">         0.7083</td><td>60d          </td><td style=\"text-align: right;\">    40</td><td style=\"text-align: right;\">         7.70905</td><td style=\"text-align: right;\">              128</td><td style=\"text-align: right;\">        200</td><td style=\"text-align: right;\"> 0.214045   </td></tr>\n",
       "<tr><td>TrainLightGCN_5a0cb755</td><td>TERMINATED</td><td>147.96.81.131:1501128</td><td style=\"text-align: right;\">           8</td><td style=\"text-align: right;\">            2</td><td style=\"text-align: right;\">              1</td><td>2022-05-26T00:00:00</td><td style=\"text-align: right;\">1.49214e-06</td><td style=\"text-align: right;\">         0.2929</td><td>60d          </td><td style=\"text-align: right;\">    40</td><td style=\"text-align: right;\">         6.84264</td><td style=\"text-align: right;\">              256</td><td style=\"text-align: right;\">        200</td><td style=\"text-align: right;\"> 0.408078   </td></tr>\n",
       "<tr><td>TrainLightGCN_9fb564d8</td><td>TERMINATED</td><td>147.96.81.131:1500977</td><td style=\"text-align: right;\">           7</td><td style=\"text-align: right;\">            1</td><td style=\"text-align: right;\">             65</td><td>2022-05-26T00:00:00</td><td style=\"text-align: right;\">2.13238e-06</td><td style=\"text-align: right;\">         0.0036</td><td>30d          </td><td style=\"text-align: right;\">    40</td><td style=\"text-align: right;\">         6.86785</td><td style=\"text-align: right;\">              128</td><td style=\"text-align: right;\">        200</td><td style=\"text-align: right;\"> 0.00121497 </td></tr>\n",
       "<tr><td>TrainLightGCN_8e0ee5f8</td><td>TERMINATED</td><td>147.96.81.131:1500835</td><td style=\"text-align: right;\">           6</td><td style=\"text-align: right;\">            1</td><td style=\"text-align: right;\">           1023</td><td>2022-05-26T00:00:00</td><td style=\"text-align: right;\">3.97929e-06</td><td style=\"text-align: right;\">         0.147 </td><td>60d          </td><td style=\"text-align: right;\">    40</td><td style=\"text-align: right;\">         9.34304</td><td style=\"text-align: right;\">               64</td><td style=\"text-align: right;\">        200</td><td style=\"text-align: right;\"> 3.64972    </td></tr>\n",
       "<tr><td>TrainLightGCN_51c04491</td><td>TERMINATED</td><td>147.96.81.131:1500679</td><td style=\"text-align: right;\">           6</td><td style=\"text-align: right;\">            2</td><td style=\"text-align: right;\">              2</td><td>2022-05-26T00:00:00</td><td style=\"text-align: right;\">7.42636e-06</td><td style=\"text-align: right;\">         0.0004</td><td>30d          </td><td style=\"text-align: right;\">    40</td><td style=\"text-align: right;\">         7.61747</td><td style=\"text-align: right;\">               64</td><td style=\"text-align: right;\">        200</td><td style=\"text-align: right;\"> 0.509094   </td></tr>\n",
       "<tr><td>TrainLightGCN_b933134c</td><td>TERMINATED</td><td>147.96.81.131:1500526</td><td style=\"text-align: right;\">           8</td><td style=\"text-align: right;\">            1</td><td style=\"text-align: right;\">              4</td><td>2022-05-26T00:00:00</td><td style=\"text-align: right;\">7.90225e-05</td><td style=\"text-align: right;\">         0.0026</td><td>90d          </td><td style=\"text-align: right;\">    40</td><td style=\"text-align: right;\">         7.15365</td><td style=\"text-align: right;\">              256</td><td style=\"text-align: right;\">        200</td><td style=\"text-align: right;\"> 0.138286   </td></tr>\n",
       "<tr><td>TrainLightGCN_8d2bf853</td><td>TERMINATED</td><td>147.96.81.131:1500385</td><td style=\"text-align: right;\">           9</td><td style=\"text-align: right;\">            3</td><td style=\"text-align: right;\">             23</td><td>2022-05-26T00:00:00</td><td style=\"text-align: right;\">0.000109322</td><td style=\"text-align: right;\">         0.0076</td><td>30d          </td><td style=\"text-align: right;\">    40</td><td style=\"text-align: right;\">         6.45804</td><td style=\"text-align: right;\">              155</td><td style=\"text-align: right;\">        200</td><td style=\"text-align: right;\"> 0.00836658 </td></tr>\n",
       "<tr><td>TrainLightGCN_bb8483d3</td><td>TERMINATED</td><td>147.96.81.131:1500238</td><td style=\"text-align: right;\">           6</td><td style=\"text-align: right;\">            1</td><td style=\"text-align: right;\">              5</td><td>2022-05-26T00:00:00</td><td style=\"text-align: right;\">0.000223873</td><td style=\"text-align: right;\">         0.0014</td><td>21d          </td><td style=\"text-align: right;\">    40</td><td style=\"text-align: right;\">         7.03803</td><td style=\"text-align: right;\">               64</td><td style=\"text-align: right;\">        200</td><td style=\"text-align: right;\"> 0.118071   </td></tr>\n",
       "<tr><td>TrainLightGCN_5d4a2543</td><td>TERMINATED</td><td>147.96.81.131:1499940</td><td style=\"text-align: right;\">           8</td><td style=\"text-align: right;\">            4</td><td style=\"text-align: right;\">              1</td><td>2022-05-26T00:00:00</td><td style=\"text-align: right;\">1.30639e-07</td><td style=\"text-align: right;\">         0.3961</td><td>10YE         </td><td style=\"text-align: right;\">    40</td><td style=\"text-align: right;\">        10.4924 </td><td style=\"text-align: right;\">              256</td><td style=\"text-align: right;\">        200</td><td style=\"text-align: right;\"> 0.312847   </td></tr>\n",
       "<tr><td>TrainLightGCN_dab3c2df</td><td>TERMINATED</td><td>147.96.81.131:1500080</td><td style=\"text-align: right;\">           7</td><td style=\"text-align: right;\">            2</td><td style=\"text-align: right;\">            685</td><td>2022-05-26T00:00:00</td><td style=\"text-align: right;\">3.79815e-05</td><td style=\"text-align: right;\">         0.6148</td><td>30d          </td><td style=\"text-align: right;\">    40</td><td style=\"text-align: right;\">         6.9451 </td><td style=\"text-align: right;\">              128</td><td style=\"text-align: right;\">        200</td><td style=\"text-align: right;\"> 7.28381    </td></tr>\n",
       "<tr><td>TrainLightGCN_1367e2ea</td><td>TERMINATED</td><td>147.96.81.131:1499782</td><td style=\"text-align: right;\">           7</td><td style=\"text-align: right;\">            1</td><td style=\"text-align: right;\">             36</td><td>2022-05-26T00:00:00</td><td style=\"text-align: right;\">1.48788e-06</td><td style=\"text-align: right;\">         0.1074</td><td>60d          </td><td style=\"text-align: right;\">    40</td><td style=\"text-align: right;\">         8.16188</td><td style=\"text-align: right;\">              128</td><td style=\"text-align: right;\">        200</td><td style=\"text-align: right;\"> 0.0122434  </td></tr>\n",
       "<tr><td>TrainLightGCN_c80c581d</td><td>TERMINATED</td><td>147.96.81.131:1499195</td><td style=\"text-align: right;\">           6</td><td style=\"text-align: right;\">            2</td><td style=\"text-align: right;\">             23</td><td>2022-05-26T00:00:00</td><td style=\"text-align: right;\">0.00350008 </td><td style=\"text-align: right;\">         0.074 </td><td>10YE         </td><td style=\"text-align: right;\">    40</td><td style=\"text-align: right;\">        20.208  </td><td style=\"text-align: right;\">               64</td><td style=\"text-align: right;\">        200</td><td style=\"text-align: right;\"> 0.108072   </td></tr>\n",
       "<tr><td>TrainLightGCN_077b94a8</td><td>TERMINATED</td><td>147.96.81.131:1499641</td><td style=\"text-align: right;\">           6</td><td style=\"text-align: right;\">            2</td><td style=\"text-align: right;\">             10</td><td>2022-05-26T00:00:00</td><td style=\"text-align: right;\">3.38082e-06</td><td style=\"text-align: right;\">         0.222 </td><td>30d          </td><td style=\"text-align: right;\">    40</td><td style=\"text-align: right;\">         8.24587</td><td style=\"text-align: right;\">               64</td><td style=\"text-align: right;\">        200</td><td style=\"text-align: right;\"> 0.00303724 </td></tr>\n",
       "<tr><td>TrainLightGCN_0f90cedb</td><td>TERMINATED</td><td>147.96.81.131:1499493</td><td style=\"text-align: right;\">          10</td><td style=\"text-align: right;\">            3</td><td style=\"text-align: right;\">              2</td><td>2022-05-26T00:00:00</td><td style=\"text-align: right;\">0.000945563</td><td style=\"text-align: right;\">         0.0004</td><td>21d          </td><td style=\"text-align: right;\">    40</td><td style=\"text-align: right;\">         6.47873</td><td style=\"text-align: right;\">              132</td><td style=\"text-align: right;\">        200</td><td style=\"text-align: right;\"> 0.634802   </td></tr>\n",
       "<tr><td>TrainLightGCN_c5941bd7</td><td>TERMINATED</td><td>147.96.81.131:1499349</td><td style=\"text-align: right;\">          10</td><td style=\"text-align: right;\">            2</td><td style=\"text-align: right;\">              4</td><td>2022-05-26T00:00:00</td><td style=\"text-align: right;\">0.00011165 </td><td style=\"text-align: right;\">         0.0001</td><td>30d          </td><td style=\"text-align: right;\">    40</td><td style=\"text-align: right;\">         6.96783</td><td style=\"text-align: right;\">              155</td><td style=\"text-align: right;\">        200</td><td style=\"text-align: right;\"> 0.675721   </td></tr>\n",
       "<tr><td>TrainLightGCN_285529a8</td><td>TERMINATED</td><td>147.96.81.131:1499045</td><td style=\"text-align: right;\">           6</td><td style=\"text-align: right;\">            1</td><td style=\"text-align: right;\">              5</td><td>2022-05-26T00:00:00</td><td style=\"text-align: right;\">0.000532447</td><td style=\"text-align: right;\">         0.0499</td><td>30d          </td><td style=\"text-align: right;\">    40</td><td style=\"text-align: right;\">         7.79776</td><td style=\"text-align: right;\">               64</td><td style=\"text-align: right;\">        200</td><td style=\"text-align: right;\"> 0.0412324  </td></tr>\n",
       "<tr><td>TrainLightGCN_cdc04c6c</td><td>TERMINATED</td><td>147.96.81.131:1498887</td><td style=\"text-align: right;\">           8</td><td style=\"text-align: right;\">            4</td><td style=\"text-align: right;\">              2</td><td>2022-05-26T00:00:00</td><td style=\"text-align: right;\">3.39466e-07</td><td style=\"text-align: right;\">         0.9343</td><td>21d          </td><td style=\"text-align: right;\">    40</td><td style=\"text-align: right;\">         6.41942</td><td style=\"text-align: right;\">              132</td><td style=\"text-align: right;\">        200</td><td style=\"text-align: right;\"> 0.141645   </td></tr>\n",
       "<tr><td>TrainLightGCN_917b51ef</td><td>TERMINATED</td><td>147.96.81.131:1498740</td><td style=\"text-align: right;\">           7</td><td style=\"text-align: right;\">            2</td><td style=\"text-align: right;\">             43</td><td>2022-05-26T00:00:00</td><td style=\"text-align: right;\">1.86231e-05</td><td style=\"text-align: right;\">         0.4676</td><td>30d          </td><td style=\"text-align: right;\">    40</td><td style=\"text-align: right;\">         6.88738</td><td style=\"text-align: right;\">              128</td><td style=\"text-align: right;\">        200</td><td style=\"text-align: right;\"> 0.180587   </td></tr>\n",
       "<tr><td>TrainLightGCN_bf20015c</td><td>TERMINATED</td><td>147.96.81.131:1498440</td><td style=\"text-align: right;\">           6</td><td style=\"text-align: right;\">            2</td><td style=\"text-align: right;\">              9</td><td>2022-05-26T00:00:00</td><td style=\"text-align: right;\">0.00379396 </td><td style=\"text-align: right;\">         0.0448</td><td>90d          </td><td style=\"text-align: right;\">    40</td><td style=\"text-align: right;\">        10.4282 </td><td style=\"text-align: right;\">               64</td><td style=\"text-align: right;\">        200</td><td style=\"text-align: right;\"> 0.0897421  </td></tr>\n",
       "<tr><td>TrainLightGCN_217e7fc3</td><td>TERMINATED</td><td>147.96.81.131:1498590</td><td style=\"text-align: right;\">           7</td><td style=\"text-align: right;\">            1</td><td style=\"text-align: right;\">             15</td><td>2022-05-26T00:00:00</td><td style=\"text-align: right;\">1.60601e-05</td><td style=\"text-align: right;\">         0.0174</td><td>21d          </td><td style=\"text-align: right;\">    40</td><td style=\"text-align: right;\">         6.67884</td><td style=\"text-align: right;\">              128</td><td style=\"text-align: right;\">        200</td><td style=\"text-align: right;\"> 0.000877839</td></tr>\n",
       "<tr><td>TrainLightGCN_2a901b32</td><td>TERMINATED</td><td>147.96.81.131:1498292</td><td style=\"text-align: right;\">           8</td><td style=\"text-align: right;\">            1</td><td style=\"text-align: right;\">            147</td><td>2022-05-26T00:00:00</td><td style=\"text-align: right;\">6.35211e-07</td><td style=\"text-align: right;\">         0.0118</td><td>10YE         </td><td style=\"text-align: right;\">    40</td><td style=\"text-align: right;\">        10.753  </td><td style=\"text-align: right;\">              256</td><td style=\"text-align: right;\">        200</td><td style=\"text-align: right;\"> 8.61744e-05</td></tr>\n",
       "<tr><td>TrainLightGCN_a3bcbf5f</td><td>TERMINATED</td><td>147.96.81.131:1498141</td><td style=\"text-align: right;\">           6</td><td style=\"text-align: right;\">            3</td><td style=\"text-align: right;\">             16</td><td>2022-05-26T00:00:00</td><td style=\"text-align: right;\">0.000384754</td><td style=\"text-align: right;\">         0.0008</td><td>90d          </td><td style=\"text-align: right;\">    40</td><td style=\"text-align: right;\">        11.2776 </td><td style=\"text-align: right;\">               64</td><td style=\"text-align: right;\">        200</td><td style=\"text-align: right;\"> 0.0907367  </td></tr>\n",
       "<tr><td>TrainLightGCN_f31f9d4e</td><td>TERMINATED</td><td>147.96.81.131:1497551</td><td style=\"text-align: right;\">           6</td><td style=\"text-align: right;\">            1</td><td style=\"text-align: right;\">              6</td><td>2022-05-26T00:00:00</td><td style=\"text-align: right;\">6.7317e-06 </td><td style=\"text-align: right;\">         0.0139</td><td>10YE         </td><td style=\"text-align: right;\">    40</td><td style=\"text-align: right;\">        21.2532 </td><td style=\"text-align: right;\">               64</td><td style=\"text-align: right;\">        200</td><td style=\"text-align: right;\"> 0.0517985  </td></tr>\n",
       "<tr><td>TrainLightGCN_0a897282</td><td>TERMINATED</td><td>147.96.81.131:1497992</td><td style=\"text-align: right;\">           7</td><td style=\"text-align: right;\">            3</td><td style=\"text-align: right;\">             49</td><td>2022-05-26T00:00:00</td><td style=\"text-align: right;\">6.7931e-05 </td><td style=\"text-align: right;\">         0.114 </td><td>60d          </td><td style=\"text-align: right;\">    40</td><td style=\"text-align: right;\">         8.42978</td><td style=\"text-align: right;\">              128</td><td style=\"text-align: right;\">        200</td><td style=\"text-align: right;\"> 0.0186836  </td></tr>\n",
       "<tr><td>TrainLightGCN_689d61a5</td><td>TERMINATED</td><td>147.96.81.131:1497850</td><td style=\"text-align: right;\">           7</td><td style=\"text-align: right;\">            2</td><td style=\"text-align: right;\">              1</td><td>2022-05-26T00:00:00</td><td style=\"text-align: right;\">7.56291e-07</td><td style=\"text-align: right;\">         0.904 </td><td>60d          </td><td style=\"text-align: right;\">    40</td><td style=\"text-align: right;\">         7.98558</td><td style=\"text-align: right;\">              128</td><td style=\"text-align: right;\">        200</td><td style=\"text-align: right;\"> 0.51414    </td></tr>\n",
       "<tr><td>TrainLightGCN_8494911a</td><td>TERMINATED</td><td>147.96.81.131:1497701</td><td style=\"text-align: right;\">           7</td><td style=\"text-align: right;\">            1</td><td style=\"text-align: right;\">             54</td><td>2022-05-26T00:00:00</td><td style=\"text-align: right;\">3.77833e-07</td><td style=\"text-align: right;\">         0.0225</td><td>30d          </td><td style=\"text-align: right;\">    40</td><td style=\"text-align: right;\">         7.11735</td><td style=\"text-align: right;\">              128</td><td style=\"text-align: right;\">        200</td><td style=\"text-align: right;\"> 6.39747e-05</td></tr>\n",
       "<tr><td>TrainLightGCN_d4aad5d3</td><td>TERMINATED</td><td>147.96.81.131:1497404</td><td style=\"text-align: right;\">           6</td><td style=\"text-align: right;\">            3</td><td style=\"text-align: right;\">             18</td><td>2022-05-26T00:00:00</td><td style=\"text-align: right;\">0.000329831</td><td style=\"text-align: right;\">         0.006 </td><td>90d          </td><td style=\"text-align: right;\">    40</td><td style=\"text-align: right;\">        10.748  </td><td style=\"text-align: right;\">               64</td><td style=\"text-align: right;\">        200</td><td style=\"text-align: right;\"> 0.0202765  </td></tr>\n",
       "<tr><td>TrainLightGCN_faaee8bb</td><td>TERMINATED</td><td>147.96.81.131:1497255</td><td style=\"text-align: right;\">           7</td><td style=\"text-align: right;\">            1</td><td style=\"text-align: right;\">              1</td><td>2022-05-26T00:00:00</td><td style=\"text-align: right;\">1.5221e-07 </td><td style=\"text-align: right;\">         0.3004</td><td>60d          </td><td style=\"text-align: right;\">    40</td><td style=\"text-align: right;\">         7.55983</td><td style=\"text-align: right;\">              128</td><td style=\"text-align: right;\">        200</td><td style=\"text-align: right;\"> 0.394906   </td></tr>\n",
       "<tr><td>TrainLightGCN_3b0a8cad</td><td>TERMINATED</td><td>147.96.81.131:1497107</td><td style=\"text-align: right;\">           6</td><td style=\"text-align: right;\">            1</td><td style=\"text-align: right;\">           1014</td><td>2022-05-26T00:00:00</td><td style=\"text-align: right;\">4.17797e-07</td><td style=\"text-align: right;\">         0.0268</td><td>30d          </td><td style=\"text-align: right;\">    40</td><td style=\"text-align: right;\">         7.49512</td><td style=\"text-align: right;\">               64</td><td style=\"text-align: right;\">        200</td><td style=\"text-align: right;\"> 0.000380431</td></tr>\n",
       "<tr><td>TrainLightGCN_710bd0a6</td><td>TERMINATED</td><td>147.96.81.131:1496958</td><td style=\"text-align: right;\">           6</td><td style=\"text-align: right;\">            1</td><td style=\"text-align: right;\">              2</td><td>2022-05-26T00:00:00</td><td style=\"text-align: right;\">8.66445e-06</td><td style=\"text-align: right;\">         0.0048</td><td>30d          </td><td style=\"text-align: right;\">    40</td><td style=\"text-align: right;\">         7.44828</td><td style=\"text-align: right;\">               64</td><td style=\"text-align: right;\">        200</td><td style=\"text-align: right;\"> 0.2143     </td></tr>\n",
       "<tr><td>TrainLightGCN_660dd3f2</td><td>TERMINATED</td><td>147.96.81.131:1496807</td><td style=\"text-align: right;\">           6</td><td style=\"text-align: right;\">            1</td><td style=\"text-align: right;\">              4</td><td>2022-05-26T00:00:00</td><td style=\"text-align: right;\">0.00980171 </td><td style=\"text-align: right;\">         0.0058</td><td>30d          </td><td style=\"text-align: right;\">    40</td><td style=\"text-align: right;\">         7.61792</td><td style=\"text-align: right;\">               64</td><td style=\"text-align: right;\">        200</td><td style=\"text-align: right;\"> 0.136581   </td></tr>\n",
       "<tr><td>TrainLightGCN_12f01c3f</td><td>TERMINATED</td><td>147.96.81.131:1496660</td><td style=\"text-align: right;\">           7</td><td style=\"text-align: right;\">            1</td><td style=\"text-align: right;\">              1</td><td>2022-05-26T00:00:00</td><td style=\"text-align: right;\">1.53126e-07</td><td style=\"text-align: right;\">         0.3238</td><td>30d          </td><td style=\"text-align: right;\">    40</td><td style=\"text-align: right;\">         6.82902</td><td style=\"text-align: right;\">              128</td><td style=\"text-align: right;\">        200</td><td style=\"text-align: right;\"> 0.408788   </td></tr>\n",
       "<tr><td>TrainLightGCN_ee83245e</td><td>TERMINATED</td><td>147.96.81.131:1496512</td><td style=\"text-align: right;\">           6</td><td style=\"text-align: right;\">            1</td><td style=\"text-align: right;\">             11</td><td>2022-05-26T00:00:00</td><td style=\"text-align: right;\">1.35745e-05</td><td style=\"text-align: right;\">         0.0304</td><td>30d          </td><td style=\"text-align: right;\">    40</td><td style=\"text-align: right;\">         7.57117</td><td style=\"text-align: right;\">               64</td><td style=\"text-align: right;\">        200</td><td style=\"text-align: right;\"> 0.000753659</td></tr>\n",
       "<tr><td>TrainLightGCN_278dedc6</td><td>TERMINATED</td><td>147.96.81.131:1496356</td><td style=\"text-align: right;\">          10</td><td style=\"text-align: right;\">            1</td><td style=\"text-align: right;\">              3</td><td>2022-05-26T00:00:00</td><td style=\"text-align: right;\">0.00789308 </td><td style=\"text-align: right;\">         0.0001</td><td>30d          </td><td style=\"text-align: right;\">    40</td><td style=\"text-align: right;\">         6.69634</td><td style=\"text-align: right;\">              155</td><td style=\"text-align: right;\">        200</td><td style=\"text-align: right;\"> 0.681316   </td></tr>\n",
       "<tr><td>TrainLightGCN_536667c8</td><td>TERMINATED</td><td>147.96.81.131:1496206</td><td style=\"text-align: right;\">           6</td><td style=\"text-align: right;\">            1</td><td style=\"text-align: right;\">              3</td><td>2022-05-26T00:00:00</td><td style=\"text-align: right;\">0.00661372 </td><td style=\"text-align: right;\">         0.0406</td><td>30d          </td><td style=\"text-align: right;\">    40</td><td style=\"text-align: right;\">         7.60726</td><td style=\"text-align: right;\">               64</td><td style=\"text-align: right;\">        200</td><td style=\"text-align: right;\"> 0.155643   </td></tr>\n",
       "<tr><td>TrainLightGCN_7e678827</td><td>TERMINATED</td><td>147.96.81.131:1496056</td><td style=\"text-align: right;\">           7</td><td style=\"text-align: right;\">            1</td><td style=\"text-align: right;\">              2</td><td>2022-05-26T00:00:00</td><td style=\"text-align: right;\">2.63547e-07</td><td style=\"text-align: right;\">         0.9581</td><td>30d          </td><td style=\"text-align: right;\">    40</td><td style=\"text-align: right;\">         6.98174</td><td style=\"text-align: right;\">              128</td><td style=\"text-align: right;\">        200</td><td style=\"text-align: right;\"> 0.305585   </td></tr>\n",
       "<tr><td>TrainLightGCN_4adeae4e</td><td>TERMINATED</td><td>147.96.81.131:1495754</td><td style=\"text-align: right;\">           6</td><td style=\"text-align: right;\">            1</td><td style=\"text-align: right;\">              8</td><td>2022-05-26T00:00:00</td><td style=\"text-align: right;\">1.53718e-07</td><td style=\"text-align: right;\">         0.0551</td><td>90d          </td><td style=\"text-align: right;\">    40</td><td style=\"text-align: right;\">        10.7362 </td><td style=\"text-align: right;\">               64</td><td style=\"text-align: right;\">        200</td><td style=\"text-align: right;\"> 0.0277354  </td></tr>\n",
       "<tr><td>TrainLightGCN_5be07639</td><td>TERMINATED</td><td>147.96.81.131:1495904</td><td style=\"text-align: right;\">           7</td><td style=\"text-align: right;\">            1</td><td style=\"text-align: right;\">             13</td><td>2022-05-26T00:00:00</td><td style=\"text-align: right;\">1.5832e-05 </td><td style=\"text-align: right;\">         0.0243</td><td>30d          </td><td style=\"text-align: right;\">    40</td><td style=\"text-align: right;\">         7.03403</td><td style=\"text-align: right;\">              128</td><td style=\"text-align: right;\">        200</td><td style=\"text-align: right;\"> 0.000906756</td></tr>\n",
       "<tr><td>TrainLightGCN_5238e657</td><td>TERMINATED</td><td>147.96.81.131:1495462</td><td style=\"text-align: right;\">           7</td><td style=\"text-align: right;\">            4</td><td style=\"text-align: right;\">             97</td><td>2022-05-26T00:00:00</td><td style=\"text-align: right;\">6.09932e-05</td><td style=\"text-align: right;\">         0.0021</td><td>10YE         </td><td style=\"text-align: right;\">    40</td><td style=\"text-align: right;\">        13.9405 </td><td style=\"text-align: right;\">              128</td><td style=\"text-align: right;\">        200</td><td style=\"text-align: right;\"> 0.0126705  </td></tr>\n",
       "<tr><td>TrainLightGCN_1cc4231f</td><td>TERMINATED</td><td>147.96.81.131:1495606</td><td style=\"text-align: right;\">           9</td><td style=\"text-align: right;\">            2</td><td style=\"text-align: right;\">              3</td><td>2022-05-26T00:00:00</td><td style=\"text-align: right;\">0.00158506 </td><td style=\"text-align: right;\">         0.0001</td><td>30d          </td><td style=\"text-align: right;\">    40</td><td style=\"text-align: right;\">         6.84424</td><td style=\"text-align: right;\">              155</td><td style=\"text-align: right;\">        200</td><td style=\"text-align: right;\"> 0.682593   </td></tr>\n",
       "<tr><td>TrainLightGCN_23d3532f</td><td>TERMINATED</td><td>147.96.81.131:1495305</td><td style=\"text-align: right;\">           8</td><td style=\"text-align: right;\">            2</td><td style=\"text-align: right;\">             27</td><td>2022-05-26T00:00:00</td><td style=\"text-align: right;\">3.06006e-05</td><td style=\"text-align: right;\">         0.2056</td><td>30d          </td><td style=\"text-align: right;\">    40</td><td style=\"text-align: right;\">         6.75531</td><td style=\"text-align: right;\">              155</td><td style=\"text-align: right;\">        200</td><td style=\"text-align: right;\"> 0.017168   </td></tr>\n",
       "<tr><td>TrainLightGCN_405b859e</td><td>TERMINATED</td><td>147.96.81.131:1495165</td><td style=\"text-align: right;\">           8</td><td style=\"text-align: right;\">            2</td><td style=\"text-align: right;\">            241</td><td>2022-05-26T00:00:00</td><td style=\"text-align: right;\">5.10482e-06</td><td style=\"text-align: right;\">         0.0017</td><td>90d          </td><td style=\"text-align: right;\">    40</td><td style=\"text-align: right;\">         7.19149</td><td style=\"text-align: right;\">              256</td><td style=\"text-align: right;\">        200</td><td style=\"text-align: right;\"> 0.00419757 </td></tr>\n",
       "<tr><td>TrainLightGCN_e60085bf</td><td>TERMINATED</td><td>147.96.81.131:1495008</td><td style=\"text-align: right;\">           9</td><td style=\"text-align: right;\">            4</td><td style=\"text-align: right;\">              7</td><td>2022-05-26T00:00:00</td><td style=\"text-align: right;\">2.91903e-06</td><td style=\"text-align: right;\">         0.1593</td><td>21d          </td><td style=\"text-align: right;\">    40</td><td style=\"text-align: right;\">         6.28314</td><td style=\"text-align: right;\">              132</td><td style=\"text-align: right;\">        200</td><td style=\"text-align: right;\"> 0.000435649</td></tr>\n",
       "<tr><td>TrainLightGCN_bd970480</td><td>TERMINATED</td><td>147.96.81.131:1494868</td><td style=\"text-align: right;\">           9</td><td style=\"text-align: right;\">            3</td><td style=\"text-align: right;\">            447</td><td>2022-05-26T00:00:00</td><td style=\"text-align: right;\">0.000129301</td><td style=\"text-align: right;\">         0.0008</td><td>60d          </td><td style=\"text-align: right;\">    40</td><td style=\"text-align: right;\">         6.87446</td><td style=\"text-align: right;\">              267</td><td style=\"text-align: right;\">        200</td><td style=\"text-align: right;\"> 0.0200989  </td></tr>\n",
       "<tr><td>TrainLightGCN_a9e1d54b</td><td>TERMINATED</td><td>147.96.81.131:1494720</td><td style=\"text-align: right;\">           9</td><td style=\"text-align: right;\">            3</td><td style=\"text-align: right;\">             86</td><td>2022-05-26T00:00:00</td><td style=\"text-align: right;\">0.000166749</td><td style=\"text-align: right;\">         0.0002</td><td>30d          </td><td style=\"text-align: right;\">    40</td><td style=\"text-align: right;\">         6.52053</td><td style=\"text-align: right;\">              155</td><td style=\"text-align: right;\">        200</td><td style=\"text-align: right;\"> 0.322431   </td></tr>\n",
       "<tr><td>TrainLightGCN_ecbfcf28</td><td>TERMINATED</td><td>147.96.81.131:1494564</td><td style=\"text-align: right;\">          10</td><td style=\"text-align: right;\">            2</td><td style=\"text-align: right;\">            364</td><td>2022-05-26T00:00:00</td><td style=\"text-align: right;\">2.08113e-06</td><td style=\"text-align: right;\">         0.0002</td><td>90d          </td><td style=\"text-align: right;\">    40</td><td style=\"text-align: right;\">         6.80406</td><td style=\"text-align: right;\">              295</td><td style=\"text-align: right;\">        200</td><td style=\"text-align: right;\"> 0.0870453  </td></tr>\n",
       "<tr><td>TrainLightGCN_1a973cdf</td><td>TERMINATED</td><td>147.96.81.131:1494421</td><td style=\"text-align: right;\">           8</td><td style=\"text-align: right;\">            2</td><td style=\"text-align: right;\">             96</td><td>2022-05-26T00:00:00</td><td style=\"text-align: right;\">4.92424e-05</td><td style=\"text-align: right;\">         0.0784</td><td>21d          </td><td style=\"text-align: right;\">    40</td><td style=\"text-align: right;\">         6.31089</td><td style=\"text-align: right;\">              132</td><td style=\"text-align: right;\">        200</td><td style=\"text-align: right;\"> 0.00111397 </td></tr>\n",
       "<tr><td>TrainLightGCN_24ee063f</td><td>TERMINATED</td><td>147.96.81.131:1494258</td><td style=\"text-align: right;\">           9</td><td style=\"text-align: right;\">            2</td><td style=\"text-align: right;\">             26</td><td>2022-05-26T00:00:00</td><td style=\"text-align: right;\">1.42721e-06</td><td style=\"text-align: right;\">         0.6694</td><td>30d          </td><td style=\"text-align: right;\">    40</td><td style=\"text-align: right;\">         6.58652</td><td style=\"text-align: right;\">              155</td><td style=\"text-align: right;\">        200</td><td style=\"text-align: right;\"> 0.0140133  </td></tr>\n",
       "<tr><td>TrainLightGCN_3f3e6ae1</td><td>TERMINATED</td><td>147.96.81.131:1494117</td><td style=\"text-align: right;\">           8</td><td style=\"text-align: right;\">            4</td><td style=\"text-align: right;\">            219</td><td>2022-05-26T00:00:00</td><td style=\"text-align: right;\">0.000261231</td><td style=\"text-align: right;\">         0.095 </td><td>60d          </td><td style=\"text-align: right;\">    40</td><td style=\"text-align: right;\">         7.21628</td><td style=\"text-align: right;\">              256</td><td style=\"text-align: right;\">        200</td><td style=\"text-align: right;\"> 0.024013   </td></tr>\n",
       "<tr><td>TrainLightGCN_77031217</td><td>TERMINATED</td><td>147.96.81.131:1493671</td><td style=\"text-align: right;\">           7</td><td style=\"text-align: right;\">            2</td><td style=\"text-align: right;\">             74</td><td>2022-05-26T00:00:00</td><td style=\"text-align: right;\">8.63799e-07</td><td style=\"text-align: right;\">         0.1736</td><td>10YE         </td><td style=\"text-align: right;\">    40</td><td style=\"text-align: right;\">        13.5076 </td><td style=\"text-align: right;\">              128</td><td style=\"text-align: right;\">        200</td><td style=\"text-align: right;\"> 0.139728   </td></tr>\n",
       "<tr><td>TrainLightGCN_1822d964</td><td>TERMINATED</td><td>147.96.81.131:1493968</td><td style=\"text-align: right;\">          10</td><td style=\"text-align: right;\">            1</td><td style=\"text-align: right;\">              1</td><td>2022-05-26T00:00:00</td><td style=\"text-align: right;\">0.000699071</td><td style=\"text-align: right;\">         0.0029</td><td>21d          </td><td style=\"text-align: right;\">    40</td><td style=\"text-align: right;\">         6.56393</td><td style=\"text-align: right;\">              132</td><td style=\"text-align: right;\">        200</td><td style=\"text-align: right;\"> 0.331841   </td></tr>\n",
       "<tr><td>TrainLightGCN_269ce4d3</td><td>TERMINATED</td><td>147.96.81.131:1493819</td><td style=\"text-align: right;\">          10</td><td style=\"text-align: right;\">            3</td><td style=\"text-align: right;\">            332</td><td>2022-05-26T00:00:00</td><td style=\"text-align: right;\">0.00221159 </td><td style=\"text-align: right;\">         0.4863</td><td>10YE         </td><td style=\"text-align: right;\">    40</td><td style=\"text-align: right;\">         8.15187</td><td style=\"text-align: right;\">              743</td><td style=\"text-align: right;\">        200</td><td style=\"text-align: right;\"> 1.8318     </td></tr>\n",
       "<tr><td>TrainLightGCN_761879b0</td><td>TERMINATED</td><td>147.96.81.131:1493522</td><td style=\"text-align: right;\">           6</td><td style=\"text-align: right;\">            2</td><td style=\"text-align: right;\">            217</td><td>2022-05-26T00:00:00</td><td style=\"text-align: right;\">2.53991e-06</td><td style=\"text-align: right;\">         0.4785</td><td>21d          </td><td style=\"text-align: right;\">    40</td><td style=\"text-align: right;\">         7.20746</td><td style=\"text-align: right;\">               64</td><td style=\"text-align: right;\">        200</td><td style=\"text-align: right;\"> 3.82495    </td></tr>\n",
       "<tr><td>TrainLightGCN_ecb9d7a5</td><td>TERMINATED</td><td>147.96.81.131:1493372</td><td style=\"text-align: right;\">           7</td><td style=\"text-align: right;\">            2</td><td style=\"text-align: right;\">             34</td><td>2022-05-26T00:00:00</td><td style=\"text-align: right;\">0.0007608  </td><td style=\"text-align: right;\">         0.0091</td><td>60d          </td><td style=\"text-align: right;\">    40</td><td style=\"text-align: right;\">         7.72853</td><td style=\"text-align: right;\">              128</td><td style=\"text-align: right;\">        200</td><td style=\"text-align: right;\"> 0.0172268  </td></tr>\n",
       "<tr><td>TrainLightGCN_e01de66f</td><td>TERMINATED</td><td>147.96.81.131:1493081</td><td style=\"text-align: right;\">           8</td><td style=\"text-align: right;\">            4</td><td style=\"text-align: right;\">             32</td><td>2022-05-26T00:00:00</td><td style=\"text-align: right;\">1.24202e-06</td><td style=\"text-align: right;\">         0.015 </td><td>10YE         </td><td style=\"text-align: right;\">    40</td><td style=\"text-align: right;\">        10.3818 </td><td style=\"text-align: right;\">              256</td><td style=\"text-align: right;\">        200</td><td style=\"text-align: right;\"> 0.00160431 </td></tr>\n",
       "<tr><td>TrainLightGCN_038ea6cd</td><td>TERMINATED</td><td>147.96.81.131:1493223</td><td style=\"text-align: right;\">           9</td><td style=\"text-align: right;\">            2</td><td style=\"text-align: right;\">             86</td><td>2022-05-26T00:00:00</td><td style=\"text-align: right;\">0.00134325 </td><td style=\"text-align: right;\">         0.0006</td><td>21d          </td><td style=\"text-align: right;\">    40</td><td style=\"text-align: right;\">         6.49215</td><td style=\"text-align: right;\">              132</td><td style=\"text-align: right;\">        200</td><td style=\"text-align: right;\"> 0.07913    </td></tr>\n",
       "<tr><td>TrainLightGCN_b7739e45</td><td>TERMINATED</td><td>147.96.81.131:1492939</td><td style=\"text-align: right;\">           9</td><td style=\"text-align: right;\">            3</td><td style=\"text-align: right;\">            665</td><td>2022-05-26T00:00:00</td><td style=\"text-align: right;\">2.74456e-05</td><td style=\"text-align: right;\">         0.0092</td><td>90d          </td><td style=\"text-align: right;\">    40</td><td style=\"text-align: right;\">         7.16059</td><td style=\"text-align: right;\">              295</td><td style=\"text-align: right;\">        200</td><td style=\"text-align: right;\"> 0.00211659 </td></tr>\n",
       "<tr><td>TrainLightGCN_fe7e8c4c</td><td>TERMINATED</td><td>147.96.81.131:1492820</td><td style=\"text-align: right;\">           6</td><td style=\"text-align: right;\">            1</td><td style=\"text-align: right;\">             11</td><td>2022-05-26T00:00:00</td><td style=\"text-align: right;\">1.31139e-05</td><td style=\"text-align: right;\">         0.1469</td><td>30d          </td><td style=\"text-align: right;\">    40</td><td style=\"text-align: right;\">         7.53722</td><td style=\"text-align: right;\">               64</td><td style=\"text-align: right;\">        200</td><td style=\"text-align: right;\"> 0.00697251 </td></tr>\n",
       "</tbody>\n",
       "</table>\n",
       "  </div>\n",
       "</div>\n",
       "<style>\n",
       ".tuneStatus {\n",
       "  color: var(--jp-ui-font-color1);\n",
       "}\n",
       ".tuneStatus .systemInfo {\n",
       "  display: flex;\n",
       "  flex-direction: column;\n",
       "}\n",
       ".tuneStatus td {\n",
       "  white-space: nowrap;\n",
       "}\n",
       ".tuneStatus .trialStatus {\n",
       "  display: flex;\n",
       "  flex-direction: column;\n",
       "}\n",
       ".tuneStatus h3 {\n",
       "  font-weight: bold;\n",
       "}\n",
       ".tuneStatus .hDivider {\n",
       "  border-bottom-width: var(--jp-border-width);\n",
       "  border-bottom-color: var(--jp-border-color0);\n",
       "  border-bottom-style: solid;\n",
       "}\n",
       ".tuneStatus .vDivider {\n",
       "  border-left-width: var(--jp-border-width);\n",
       "  border-left-color: var(--jp-border-color0);\n",
       "  border-left-style: solid;\n",
       "  margin: 0.5em 1em 0.5em 1em;\n",
       "}\n",
       "</style>\n"
      ],
      "text/plain": [
       "<IPython.core.display.HTML object>"
      ]
     },
     "metadata": {},
     "output_type": "display_data"
    },
    {
     "name": "stderr",
     "output_type": "stream",
     "text": [
      "2024-09-16 15:41:54,046\tINFO tune_controller.py:444 -- Restoring the run from the latest experiment state file: experiment_state-2024-09-16_15-35-58.json\n"
     ]
    },
    {
     "name": "stderr",
     "output_type": "stream",
     "text": [
      "2024-09-16 15:41:54,549\tINFO tune.py:1009 -- Wrote the latest version of all result files and experiment state to '/home/daviddavo/ray_results3.11/Frax/LightGCN_5d_normalize_map@10_fold=2022-05-26T00:00:00_2024-09-16T15:35:58.797265' in 0.3521s.\n"
     ]
    },
    {
     "name": "stderr",
     "output_type": "stream",
     "text": [
      "2024-09-16 15:41:54,562\tINFO tune.py:1041 -- Total run time: 0.52 seconds (0.00 seconds for the tuning loop).\n"
     ]
    },
    {
     "name": "stdout",
     "output_type": "stream",
     "text": [
      "Finished training for fold 2022-05-26T00:00:00\n"
     ]
    }
   ],
   "source": [
    "import logging\n",
    "import requests\n",
    "\n",
    "def findConfig(rg):\n",
    "    for r in rg:\n",
    "        if r.config:\n",
    "            lbrc = last_best_result.config\n",
    "            if all((r.config[k] == v for k, v in last_best_result.config.items() if k != 'fold')):\n",
    "                return r\n",
    "            elif all((r.config[k] == v for k, v in last_best_result.config.items() if k != 'fold' and k != 'window_size')):\n",
    "                print(\"Possible coincidence:\", r.config, file=sys.stderr)\n",
    "\n",
    "    return None\n",
    "\n",
    "tuners = []\n",
    "results = []\n",
    "last_best_result = None\n",
    "pbar.reset()\n",
    "\n",
    "last_best_fold = None\n",
    "requests.post(\"https://ntfy.sh/grasia_notebooks\", data=f\"Start running microsoft_tuning for {ORG_NAME}\")\n",
    "for i, (prev_f_idx, f_idx) in enumerate(zip(it.chain([None], use_folds_idx), use_folds_idx)):\n",
    "    try:\n",
    "        with out:\n",
    "            best_prev_config = None\n",
    "            if last_best_result is not None:\n",
    "                best_prev_config = last_best_result.config.copy()\n",
    "                assert best_prev_config['fold'] == prev_f_idx\n",
    "                best_prev_config['fold'] = f_idx\n",
    "                print(f\"Also evaluating best_prev_config ({OPTIM_METRIC}={last_best_result.metrics[OPTIM_METRIC]}): {best_prev_config}\")\n",
    "                best_prev_config = [best_prev_config]\n",
    "        \n",
    "        t = getTunerOnFold(f_idx, best_prev_config)\n",
    "        tuners.append(t)\n",
    "    \n",
    "        rg = t.fit()\n",
    "        \n",
    "        # FIXME: load results from disk until ray-project/ray#47358 is solved\n",
    "        # https://github.com/ray-project/ray/issues/47358\n",
    "        t = getTunerOnFold(f_idx, best_prev_config)\n",
    "        tuners[-1] = t\n",
    "        rg = t.fit()\n",
    "    \n",
    "        assert rg.num_errors == 0, f\"There are {rg.num_errors} errors\"\n",
    "        assert rg.num_terminated >= NUM_SAMPLES, f'Some samples are not terminated ({rg.num_terminated} != {NUM_SAMPLES})'\n",
    "        assert len(rg.get_dataframe()) >= NUM_SAMPLES\n",
    "        results.append(rg)\n",
    "    \n",
    "        # Assert that the prev config has been tried\n",
    "        if last_best_result is not None:\n",
    "            # if not any( \n",
    "            #     all((r.config[k] == v for k, v in last_best_result.config.items() if k != 'fold'))\n",
    "            #     for r in rg if r.config\n",
    "            # ):\n",
    "            if not findConfig(rg):\n",
    "                print(\"Best config:\", last_best_result.config)\n",
    "                assert False, f\"The best config from previous fold has not been tested in fold {f_idx}\"    \n",
    "            else:\n",
    "                logging.info(f'Fold {f_idx}. Best prev result was {last_best_result.path} and config has been found {findConfig(rg).path}')\n",
    "        \n",
    "        last_best_result = rg.get_best_result()\n",
    "        pbar.update()\n",
    "    \n",
    "        print(f\"Finished training for fold {f_idx}\")\n",
    "        requests.post(\"https://ntfy.sh/grasia_notebooks\", data=f\"Finished running fold {i} for {ORG_NAME}\")\n",
    "    except Exception as e:\n",
    "        requests.post(\"https://ntfy.sh/grasia_notebooks\", data=f\"Error on fold {i} for {ORG_NAME}: {repr(e)}\")\n",
    "        raise\n",
    "\n",
    "pbar.close()"
   ]
  },
  {
   "cell_type": "code",
   "execution_count": 24,
   "id": "b2fd4e3e",
   "metadata": {
    "editable": true,
    "execution": {
     "iopub.execute_input": "2024-09-16T15:41:55.104652Z",
     "iopub.status.busy": "2024-09-16T15:41:55.104527Z",
     "iopub.status.idle": "2024-09-16T15:41:55.458778Z",
     "shell.execute_reply": "2024-09-16T15:41:55.457144Z"
    },
    "papermill": {
     "duration": 0.36582,
     "end_time": "2024-09-16T15:41:55.462187",
     "exception": false,
     "start_time": "2024-09-16T15:41:55.096367",
     "status": "completed"
    },
    "slideshow": {
     "slide_type": ""
    },
    "tags": []
   },
   "outputs": [
    {
     "name": "stdout",
     "output_type": "stream",
     "text": [
      "Finished!\n"
     ]
    }
   ],
   "source": [
    "requests.post(\"https://ntfy.sh/grasia_notebooks\", data=f\"Finished running everything for {ORG_NAME}\")\n",
    "print(\"Finished!\")"
   ]
  }
 ],
 "metadata": {
  "kernelspec": {
   "display_name": "Python 3 (ipykernel)",
   "language": "python",
   "name": "python3"
  },
  "language_info": {
   "codemirror_mode": {
    "name": "ipython",
    "version": 3
   },
   "file_extension": ".py",
   "mimetype": "text/x-python",
   "name": "python",
   "nbconvert_exporter": "python",
   "pygments_lexer": "ipython3",
   "version": "3.11.6"
  },
  "papermill": {
   "default_parameters": {},
   "duration": 3559.493924,
   "end_time": "2024-09-16T15:42:00.601098",
   "environment_variables": {},
   "exception": null,
   "input_path": "20_microsoft_tuning.ipynb",
   "output_path": "../nbout/Frax/20_microsoft_tuning.ipynb",
   "parameters": {
    "EXECUTION_ID": "2024-09-04T10:00",
    "LAST_FOLDS": 10,
    "LAST_FOLD_DATE_STR": "2022-05-26",
    "ORG_NAME": "Frax",
    "SPLITS_FREQ": "5d",
    "SPLITS_NORMALIZE": true
   },
   "start_time": "2024-09-16T14:42:41.107174",
   "version": "2.6.0"
  },
  "widgets": {
   "application/vnd.jupyter.widget-state+json": {
    "state": {
     "0aa756bfddd64be7a2d5aa871c996099": {
      "model_module": "@jupyter-widgets/base",
      "model_module_version": "2.0.0",
      "model_name": "LayoutModel",
      "state": {
       "_model_module": "@jupyter-widgets/base",
       "_model_module_version": "2.0.0",
       "_model_name": "LayoutModel",
       "_view_count": null,
       "_view_module": "@jupyter-widgets/base",
       "_view_module_version": "2.0.0",
       "_view_name": "LayoutView",
       "align_content": null,
       "align_items": null,
       "align_self": null,
       "border_bottom": null,
       "border_left": null,
       "border_right": null,
       "border_top": null,
       "bottom": null,
       "display": null,
       "flex": null,
       "flex_flow": null,
       "grid_area": null,
       "grid_auto_columns": null,
       "grid_auto_flow": null,
       "grid_auto_rows": null,
       "grid_column": null,
       "grid_gap": null,
       "grid_row": null,
       "grid_template_areas": null,
       "grid_template_columns": null,
       "grid_template_rows": null,
       "height": null,
       "justify_content": null,
       "justify_items": null,
       "left": null,
       "margin": null,
       "max_height": null,
       "max_width": null,
       "min_height": null,
       "min_width": null,
       "object_fit": null,
       "object_position": null,
       "order": null,
       "overflow": null,
       "padding": null,
       "right": null,
       "top": null,
       "visibility": null,
       "width": null
      }
     },
     "1d0373dead0a489f9999ad05694ef870": {
      "model_module": "@jupyter-widgets/controls",
      "model_module_version": "2.0.0",
      "model_name": "HTMLModel",
      "state": {
       "_dom_classes": [],
       "_model_module": "@jupyter-widgets/controls",
       "_model_module_version": "2.0.0",
       "_model_name": "HTMLModel",
       "_view_count": null,
       "_view_module": "@jupyter-widgets/controls",
       "_view_module_version": "2.0.0",
       "_view_name": "HTMLView",
       "description": "",
       "description_allow_html": false,
       "layout": "IPY_MODEL_bf4de6d8879747f88a060cf81d45dceb",
       "placeholder": "​",
       "style": "IPY_MODEL_e3b9c197930b44868f181ece9d443f6f",
       "tabbable": null,
       "tooltip": null,
       "value": "fold: 100%"
      }
     },
     "2634e532a78748018255545e3e9a182f": {
      "model_module": "@jupyter-widgets/base",
      "model_module_version": "2.0.0",
      "model_name": "LayoutModel",
      "state": {
       "_model_module": "@jupyter-widgets/base",
       "_model_module_version": "2.0.0",
       "_model_name": "LayoutModel",
       "_view_count": null,
       "_view_module": "@jupyter-widgets/base",
       "_view_module_version": "2.0.0",
       "_view_name": "LayoutView",
       "align_content": null,
       "align_items": null,
       "align_self": null,
       "border_bottom": null,
       "border_left": null,
       "border_right": null,
       "border_top": null,
       "bottom": null,
       "display": null,
       "flex": null,
       "flex_flow": null,
       "grid_area": null,
       "grid_auto_columns": null,
       "grid_auto_flow": null,
       "grid_auto_rows": null,
       "grid_column": null,
       "grid_gap": null,
       "grid_row": null,
       "grid_template_areas": null,
       "grid_template_columns": null,
       "grid_template_rows": null,
       "height": null,
       "justify_content": null,
       "justify_items": null,
       "left": null,
       "margin": null,
       "max_height": null,
       "max_width": null,
       "min_height": null,
       "min_width": null,
       "object_fit": null,
       "object_position": null,
       "order": null,
       "overflow": null,
       "padding": null,
       "right": null,
       "top": null,
       "visibility": null,
       "width": null
      }
     },
     "2d05f3dd29c24c048ce15709c83a05cd": {
      "model_module": "@jupyter-widgets/base",
      "model_module_version": "2.0.0",
      "model_name": "LayoutModel",
      "state": {
       "_model_module": "@jupyter-widgets/base",
       "_model_module_version": "2.0.0",
       "_model_name": "LayoutModel",
       "_view_count": null,
       "_view_module": "@jupyter-widgets/base",
       "_view_module_version": "2.0.0",
       "_view_name": "LayoutView",
       "align_content": null,
       "align_items": null,
       "align_self": null,
       "border_bottom": "1px solid black",
       "border_left": "1px solid black",
       "border_right": "1px solid black",
       "border_top": "1px solid black",
       "bottom": null,
       "display": null,
       "flex": null,
       "flex_flow": null,
       "grid_area": null,
       "grid_auto_columns": null,
       "grid_auto_flow": null,
       "grid_auto_rows": null,
       "grid_column": null,
       "grid_gap": null,
       "grid_row": null,
       "grid_template_areas": null,
       "grid_template_columns": null,
       "grid_template_rows": null,
       "height": null,
       "justify_content": null,
       "justify_items": null,
       "left": null,
       "margin": null,
       "max_height": null,
       "max_width": null,
       "min_height": null,
       "min_width": null,
       "object_fit": null,
       "object_position": null,
       "order": null,
       "overflow": null,
       "padding": null,
       "right": null,
       "top": null,
       "visibility": null,
       "width": null
      }
     },
     "49dacd0466c84de4b55d701cee27c820": {
      "model_module": "@jupyter-widgets/controls",
      "model_module_version": "2.0.0",
      "model_name": "FloatProgressModel",
      "state": {
       "_dom_classes": [],
       "_model_module": "@jupyter-widgets/controls",
       "_model_module_version": "2.0.0",
       "_model_name": "FloatProgressModel",
       "_view_count": null,
       "_view_module": "@jupyter-widgets/controls",
       "_view_module_version": "2.0.0",
       "_view_name": "ProgressView",
       "bar_style": "success",
       "description": "",
       "description_allow_html": false,
       "layout": "IPY_MODEL_9ba615f795bd4cd7af55c8cc8847f650",
       "max": 10.0,
       "min": 0.0,
       "orientation": "horizontal",
       "style": "IPY_MODEL_69965bd1379146808ddd42fd1d876b1e",
       "tabbable": null,
       "tooltip": null,
       "value": 10.0
      }
     },
     "4b67c7fca9114357ac2d04a846104d68": {
      "model_module": "@jupyter-widgets/controls",
      "model_module_version": "2.0.0",
      "model_name": "HBoxModel",
      "state": {
       "_dom_classes": [],
       "_model_module": "@jupyter-widgets/controls",
       "_model_module_version": "2.0.0",
       "_model_name": "HBoxModel",
       "_view_count": null,
       "_view_module": "@jupyter-widgets/controls",
       "_view_module_version": "2.0.0",
       "_view_name": "HBoxView",
       "box_style": "",
       "children": [
        "IPY_MODEL_1d0373dead0a489f9999ad05694ef870",
        "IPY_MODEL_49dacd0466c84de4b55d701cee27c820",
        "IPY_MODEL_995863c7cfb4433f9f228b8ce2a903c3"
       ],
       "layout": "IPY_MODEL_2634e532a78748018255545e3e9a182f",
       "tabbable": null,
       "tooltip": null
      }
     },
     "5d8c5c5c4845467c82046b5e273ec2be": {
      "model_module": "@jupyter-widgets/controls",
      "model_module_version": "2.0.0",
      "model_name": "HTMLStyleModel",
      "state": {
       "_model_module": "@jupyter-widgets/controls",
       "_model_module_version": "2.0.0",
       "_model_name": "HTMLStyleModel",
       "_view_count": null,
       "_view_module": "@jupyter-widgets/base",
       "_view_module_version": "2.0.0",
       "_view_name": "StyleView",
       "background": null,
       "description_width": "",
       "font_size": null,
       "text_color": null
      }
     },
     "69965bd1379146808ddd42fd1d876b1e": {
      "model_module": "@jupyter-widgets/controls",
      "model_module_version": "2.0.0",
      "model_name": "ProgressStyleModel",
      "state": {
       "_model_module": "@jupyter-widgets/controls",
       "_model_module_version": "2.0.0",
       "_model_name": "ProgressStyleModel",
       "_view_count": null,
       "_view_module": "@jupyter-widgets/base",
       "_view_module_version": "2.0.0",
       "_view_name": "StyleView",
       "bar_color": null,
       "description_width": ""
      }
     },
     "995863c7cfb4433f9f228b8ce2a903c3": {
      "model_module": "@jupyter-widgets/controls",
      "model_module_version": "2.0.0",
      "model_name": "HTMLModel",
      "state": {
       "_dom_classes": [],
       "_model_module": "@jupyter-widgets/controls",
       "_model_module_version": "2.0.0",
       "_model_name": "HTMLModel",
       "_view_count": null,
       "_view_module": "@jupyter-widgets/controls",
       "_view_module_version": "2.0.0",
       "_view_name": "HTMLView",
       "description": "",
       "description_allow_html": false,
       "layout": "IPY_MODEL_0aa756bfddd64be7a2d5aa871c996099",
       "placeholder": "​",
       "style": "IPY_MODEL_5d8c5c5c4845467c82046b5e273ec2be",
       "tabbable": null,
       "tooltip": null,
       "value": " 10/10 [59:08&lt;00:00, 357.39s/it]"
      }
     },
     "9ba615f795bd4cd7af55c8cc8847f650": {
      "model_module": "@jupyter-widgets/base",
      "model_module_version": "2.0.0",
      "model_name": "LayoutModel",
      "state": {
       "_model_module": "@jupyter-widgets/base",
       "_model_module_version": "2.0.0",
       "_model_name": "LayoutModel",
       "_view_count": null,
       "_view_module": "@jupyter-widgets/base",
       "_view_module_version": "2.0.0",
       "_view_name": "LayoutView",
       "align_content": null,
       "align_items": null,
       "align_self": null,
       "border_bottom": null,
       "border_left": null,
       "border_right": null,
       "border_top": null,
       "bottom": null,
       "display": null,
       "flex": null,
       "flex_flow": null,
       "grid_area": null,
       "grid_auto_columns": null,
       "grid_auto_flow": null,
       "grid_auto_rows": null,
       "grid_column": null,
       "grid_gap": null,
       "grid_row": null,
       "grid_template_areas": null,
       "grid_template_columns": null,
       "grid_template_rows": null,
       "height": null,
       "justify_content": null,
       "justify_items": null,
       "left": null,
       "margin": null,
       "max_height": null,
       "max_width": null,
       "min_height": null,
       "min_width": null,
       "object_fit": null,
       "object_position": null,
       "order": null,
       "overflow": null,
       "padding": null,
       "right": null,
       "top": null,
       "visibility": null,
       "width": null
      }
     },
     "a46844a1c57741d7aff5ab7d66fd9a21": {
      "model_module": "@jupyter-widgets/output",
      "model_module_version": "1.0.0",
      "model_name": "OutputModel",
      "state": {
       "_dom_classes": [],
       "_model_module": "@jupyter-widgets/output",
       "_model_module_version": "1.0.0",
       "_model_name": "OutputModel",
       "_view_count": null,
       "_view_module": "@jupyter-widgets/output",
       "_view_module_version": "1.0.0",
       "_view_name": "OutputView",
       "layout": "IPY_MODEL_2d05f3dd29c24c048ce15709c83a05cd",
       "msg_id": "",
       "outputs": [
        {
         "name": "stdout",
         "output_type": "stream",
         "text": "In this cell important output from the next cell will be shown\nAlso evaluating best_prev_config (map@10=1.0): {'batch_size': 8, 'embedding_dim': 1, 'conv_layers': 2, 'learning_rate': 0.0002, 'l2': 0.0076258757968082945, 'window_size': '30d', 'fold': '2022-04-16T00:00:00'}\nAlso evaluating best_prev_config (map@10=0.6817708333333333): {'batch_size': 8, 'embedding_dim': 10, 'conv_layers': 2, 'learning_rate': 0.0009000000000000001, 'l2': 0.00021040583577294823, 'window_size': '21d', 'fold': '2022-04-21T00:00:00'}\nAlso evaluating best_prev_config (map@10=1.0): {'batch_size': 6, 'embedding_dim': 6, 'conv_layers': 1, 'learning_rate': 0.0032, 'l2': 0.0004294793641564795, 'window_size': '90d', 'fold': '2022-04-26T00:00:00'}\nAlso evaluating best_prev_config (map@10=0.926829268292683): {'batch_size': 8, 'embedding_dim': 1, 'conv_layers': 4, 'learning_rate': 0.013900000000000001, 'l2': 1.0655939991398124e-07, 'window_size': '60d', 'fold': '2022-05-01T00:00:00'}\nAlso evaluating best_prev_config (map@10=0.953125): {'batch_size': 10, 'embedding_dim': 6, 'conv_layers': 4, 'learning_rate': 0.0006000000000000001, 'l2': 3.6794807500563657e-06, 'window_size': '30d', 'fold': '2022-05-06T00:00:00'}\nAlso evaluating best_prev_config (map@10=1.0): {'batch_size': 9, 'embedding_dim': 5, 'conv_layers': 4, 'learning_rate': 0.002, 'l2': 5.0389669651516476e-06, 'window_size': '90d', 'fold': '2022-05-11T00:00:00'}\nAlso evaluating best_prev_config (map@10=0.9642857142857143): {'batch_size': 10, 'embedding_dim': 732, 'conv_layers': 4, 'learning_rate': 0.0001, 'l2': 4.084542089907171e-05, 'window_size': '60d', 'fold': '2022-05-16T00:00:00'}\nAlso evaluating best_prev_config (map@10=1.0): {'batch_size': 6, 'embedding_dim': 6, 'conv_layers': 3, 'learning_rate': 0.057300000000000004, 'l2': 9.987352166030557e-06, 'window_size': '10YE', 'fold': '2022-05-21T00:00:00'}\nAlso evaluating best_prev_config (map@10=0.8846153846153846): {'batch_size': 6, 'embedding_dim': 11, 'conv_layers': 1, 'learning_rate': 0.1469, 'l2': 1.3113915474509262e-05, 'window_size': '30d', 'fold': '2022-05-26T00:00:00'}\n"
        }
       ],
       "tabbable": null,
       "tooltip": null
      }
     },
     "bf4de6d8879747f88a060cf81d45dceb": {
      "model_module": "@jupyter-widgets/base",
      "model_module_version": "2.0.0",
      "model_name": "LayoutModel",
      "state": {
       "_model_module": "@jupyter-widgets/base",
       "_model_module_version": "2.0.0",
       "_model_name": "LayoutModel",
       "_view_count": null,
       "_view_module": "@jupyter-widgets/base",
       "_view_module_version": "2.0.0",
       "_view_name": "LayoutView",
       "align_content": null,
       "align_items": null,
       "align_self": null,
       "border_bottom": null,
       "border_left": null,
       "border_right": null,
       "border_top": null,
       "bottom": null,
       "display": null,
       "flex": null,
       "flex_flow": null,
       "grid_area": null,
       "grid_auto_columns": null,
       "grid_auto_flow": null,
       "grid_auto_rows": null,
       "grid_column": null,
       "grid_gap": null,
       "grid_row": null,
       "grid_template_areas": null,
       "grid_template_columns": null,
       "grid_template_rows": null,
       "height": null,
       "justify_content": null,
       "justify_items": null,
       "left": null,
       "margin": null,
       "max_height": null,
       "max_width": null,
       "min_height": null,
       "min_width": null,
       "object_fit": null,
       "object_position": null,
       "order": null,
       "overflow": null,
       "padding": null,
       "right": null,
       "top": null,
       "visibility": null,
       "width": null
      }
     },
     "e3b9c197930b44868f181ece9d443f6f": {
      "model_module": "@jupyter-widgets/controls",
      "model_module_version": "2.0.0",
      "model_name": "HTMLStyleModel",
      "state": {
       "_model_module": "@jupyter-widgets/controls",
       "_model_module_version": "2.0.0",
       "_model_name": "HTMLStyleModel",
       "_view_count": null,
       "_view_module": "@jupyter-widgets/base",
       "_view_module_version": "2.0.0",
       "_view_name": "StyleView",
       "background": null,
       "description_width": "",
       "font_size": null,
       "text_color": null
      }
     }
    },
    "version_major": 2,
    "version_minor": 0
   }
  }
 },
 "nbformat": 4,
 "nbformat_minor": 5
}