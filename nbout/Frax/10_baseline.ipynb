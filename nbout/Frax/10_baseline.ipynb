{
 "cells": [
  {
   "cell_type": "code",
   "execution_count": 1,
   "id": "73bb13d7",
   "metadata": {
    "execution": {
     "iopub.execute_input": "2024-09-16T14:08:21.519313Z",
     "iopub.status.busy": "2024-09-16T14:08:21.519223Z",
     "iopub.status.idle": "2024-09-16T14:08:24.204744Z",
     "shell.execute_reply": "2024-09-16T14:08:24.204319Z"
    },
    "papermill": {
     "duration": 2.693051,
     "end_time": "2024-09-16T14:08:24.205523",
     "exception": false,
     "start_time": "2024-09-16T14:08:21.512472",
     "status": "completed"
    },
    "tags": []
   },
   "outputs": [
    {
     "name": "stderr",
     "output_type": "stream",
     "text": [
      "/tmp/ipykernel_1353265/2526015065.py:7: TqdmExperimentalWarning: Using `tqdm.autonotebook.tqdm` in notebook mode. Use `tqdm.tqdm` instead to force console mode (e.g. in jupyter console)\n",
      "  from tqdm.autonotebook import tqdm\n"
     ]
    },
    {
     "name": "stdout",
     "output_type": "stream",
     "text": [
      "Ignoring warnings\n"
     ]
    }
   ],
   "source": [
    "from typing import List\n",
    "import sys\n",
    "from collections import defaultdict\n",
    "\n",
    "import pandas as pd\n",
    "import numpy as np\n",
    "from tqdm.autonotebook import tqdm\n",
    "\n",
    "from recsys4daos.models import OpenPop\n",
    "from recsys4daos.datasets import to_microsoft\n",
    "from recsys4daos.model_selection import cvtt_open\n",
    "from recsys4daos.evaluation import calculate_all_metrics\n",
    "\n",
    "import paths\n",
    "\n",
    "import recommenders\n",
    "if recommenders.__version__ == '1.2.0':\n",
    "    print(\"Ignoring warnings\")\n",
    "    import warnings\n",
    "    warnings.simplefilter(action='ignore', category=FutureWarning)"
   ]
  },
  {
   "cell_type": "code",
   "execution_count": 2,
   "id": "ce453f3c",
   "metadata": {
    "editable": true,
    "execution": {
     "iopub.execute_input": "2024-09-16T14:08:24.210433Z",
     "iopub.status.busy": "2024-09-16T14:08:24.210206Z",
     "iopub.status.idle": "2024-09-16T14:08:24.212369Z",
     "shell.execute_reply": "2024-09-16T14:08:24.212153Z"
    },
    "papermill": {
     "duration": 0.005133,
     "end_time": "2024-09-16T14:08:24.212892",
     "exception": false,
     "start_time": "2024-09-16T14:08:24.207759",
     "status": "completed"
    },
    "slideshow": {
     "slide_type": ""
    },
    "tags": [
     "parameters"
    ]
   },
   "outputs": [],
   "source": [
    "SPLITS_FREQ = \"W-THU\"\n",
    "SPLITS_NORMALIZE = True\n",
    "ORG_NAME = 'Decentraland'\n",
    "LAST_FOLD_DATE_STR: str = None # Won't use it, we will just calculate for every fold\n",
    "\n",
    "# In this notebook this is just used for plotting and description, not \"training\"\n",
    "# every fold is saved into the results table\n",
    "LAST_FOLDS = 10\n",
    "\n",
    "K_RECOMMENDATIONS: List[int] = [1,3,5,10,15,100]"
   ]
  },
  {
   "cell_type": "code",
   "execution_count": 3,
   "id": "2b7ad6dd",
   "metadata": {
    "execution": {
     "iopub.execute_input": "2024-09-16T14:08:24.216839Z",
     "iopub.status.busy": "2024-09-16T14:08:24.216604Z",
     "iopub.status.idle": "2024-09-16T14:08:24.218274Z",
     "shell.execute_reply": "2024-09-16T14:08:24.218089Z"
    },
    "papermill": {
     "duration": 0.004301,
     "end_time": "2024-09-16T14:08:24.218859",
     "exception": false,
     "start_time": "2024-09-16T14:08:24.214558",
     "status": "completed"
    },
    "tags": [
     "injected-parameters"
    ]
   },
   "outputs": [],
   "source": [
    "# Parameters\n",
    "EXECUTION_ID = \"2024-09-04T10:00\"\n",
    "ORG_NAME = \"Frax\"\n",
    "SPLITS_FREQ = \"5d\"\n",
    "LAST_FOLDS = 10\n",
    "SPLITS_NORMALIZE = True\n",
    "LAST_FOLD_DATE_STR = \"2022-05-26\"\n"
   ]
  },
  {
   "cell_type": "markdown",
   "id": "da8d6d53",
   "metadata": {
    "papermill": {
     "duration": 0.001617,
     "end_time": "2024-09-16T14:08:24.222124",
     "exception": false,
     "start_time": "2024-09-16T14:08:24.220507",
     "status": "completed"
    },
    "tags": []
   },
   "source": [
    "## Obtain dataset"
   ]
  },
  {
   "cell_type": "code",
   "execution_count": 4,
   "id": "610608f8",
   "metadata": {
    "execution": {
     "iopub.execute_input": "2024-09-16T14:08:24.225919Z",
     "iopub.status.busy": "2024-09-16T14:08:24.225783Z",
     "iopub.status.idle": "2024-09-16T14:08:24.351639Z",
     "shell.execute_reply": "2024-09-16T14:08:24.349292Z"
    },
    "papermill": {
     "duration": 0.131611,
     "end_time": "2024-09-16T14:08:24.355383",
     "exception": false,
     "start_time": "2024-09-16T14:08:24.223772",
     "status": "completed"
    },
    "tags": []
   },
   "outputs": [
    {
     "name": "stdout",
     "output_type": "stream",
     "text": [
      "/home/daviddavo/recsys4daos/notebooks\r\n"
     ]
    }
   ],
   "source": [
    "!pwd"
   ]
  },
  {
   "cell_type": "code",
   "execution_count": 5,
   "id": "fe507f38",
   "metadata": {
    "execution": {
     "iopub.execute_input": "2024-09-16T14:08:24.364716Z",
     "iopub.status.busy": "2024-09-16T14:08:24.364555Z",
     "iopub.status.idle": "2024-09-16T14:08:24.496633Z",
     "shell.execute_reply": "2024-09-16T14:08:24.494365Z"
    },
    "papermill": {
     "duration": 0.13863,
     "end_time": "2024-09-16T14:08:24.500503",
     "exception": false,
     "start_time": "2024-09-16T14:08:24.361873",
     "status": "completed"
    },
    "tags": []
   },
   "outputs": [
    {
     "name": "stdout",
     "output_type": "stream",
     "text": [
      "md5sum: '../data/decentraland/*': No such file or directory\r\n"
     ]
    }
   ],
   "source": [
    "!md5sum ../data/decentraland/*"
   ]
  },
  {
   "cell_type": "code",
   "execution_count": 6,
   "id": "b08b6469",
   "metadata": {
    "execution": {
     "iopub.execute_input": "2024-09-16T14:08:24.521134Z",
     "iopub.status.busy": "2024-09-16T14:08:24.520790Z",
     "iopub.status.idle": "2024-09-16T14:08:24.565708Z",
     "shell.execute_reply": "2024-09-16T14:08:24.565465Z"
    },
    "papermill": {
     "duration": 0.054717,
     "end_time": "2024-09-16T14:08:24.566455",
     "exception": false,
     "start_time": "2024-09-16T14:08:24.511738",
     "status": "completed"
    },
    "tags": []
   },
   "outputs": [
    {
     "name": "stdout",
     "output_type": "stream",
     "text": [
      "<class 'pandas.core.frame.DataFrame'>\n",
      "RangeIndex: 359 entries, 0 to 358\n",
      "Data columns (total 6 columns):\n",
      " #   Column             Non-Null Count  Dtype         \n",
      "---  ------             --------------  -----         \n",
      " 0   id                 359 non-null    object        \n",
      " 1   author             359 non-null    object        \n",
      " 2   date               359 non-null    datetime64[us]\n",
      " 3   start              359 non-null    datetime64[us]\n",
      " 4   end                359 non-null    datetime64[us]\n",
      " 5   platform_proposal  359 non-null    object        \n",
      "dtypes: datetime64[us](3), object(3)\n",
      "memory usage: 17.0+ KB\n",
      "None\n",
      "<class 'pandas.core.frame.DataFrame'>\n",
      "RangeIndex: 10184 entries, 0 to 10183\n",
      "Data columns (total 4 columns):\n",
      " #   Column    Non-Null Count  Dtype         \n",
      "---  ------    --------------  -----         \n",
      " 0   id        10184 non-null  object        \n",
      " 1   proposal  10184 non-null  object        \n",
      " 2   voter     10184 non-null  object        \n",
      " 3   date      10184 non-null  datetime64[us]\n",
      "dtypes: datetime64[us](1), object(3)\n",
      "memory usage: 318.4+ KB\n",
      "None\n",
      "<class 'pandas.core.frame.DataFrame'>\n",
      "RangeIndex: 10184 entries, 0 to 10183\n",
      "Data columns (total 4 columns):\n",
      " #   Column     Non-Null Count  Dtype         \n",
      "---  ------     --------------  -----         \n",
      " 0   userID     10184 non-null  object        \n",
      " 1   itemID     10184 non-null  object        \n",
      " 2   timestamp  10184 non-null  datetime64[us]\n",
      " 3   rating     10184 non-null  int64         \n",
      "dtypes: datetime64[us](1), int64(1), object(2)\n",
      "memory usage: 318.4+ KB\n",
      "None\n"
     ]
    }
   ],
   "source": [
    "dfp = paths.load_proposals(ORG_NAME)\n",
    "dfv = paths.load_votes(ORG_NAME)\n",
    "\n",
    "df = to_microsoft(dfv)\n",
    "\n",
    "print(dfp.info())\n",
    "print(dfv.info())\n",
    "print(df.info())"
   ]
  },
  {
   "cell_type": "markdown",
   "id": "e98f95e2",
   "metadata": {
    "papermill": {
     "duration": 0.003412,
     "end_time": "2024-09-16T14:08:24.572767",
     "exception": false,
     "start_time": "2024-09-16T14:08:24.569355",
     "status": "completed"
    },
    "tags": []
   },
   "source": [
    "## Showing some info of the folds"
   ]
  },
  {
   "cell_type": "code",
   "execution_count": 7,
   "id": "7a4b0732",
   "metadata": {
    "execution": {
     "iopub.execute_input": "2024-09-16T14:08:24.579354Z",
     "iopub.status.busy": "2024-09-16T14:08:24.579234Z",
     "iopub.status.idle": "2024-09-16T14:08:25.145251Z",
     "shell.execute_reply": "2024-09-16T14:08:25.145014Z"
    },
    "papermill": {
     "duration": 0.569774,
     "end_time": "2024-09-16T14:08:25.145917",
     "exception": false,
     "start_time": "2024-09-16T14:08:24.576143",
     "status": "completed"
    },
    "tags": []
   },
   "outputs": [
    {
     "name": "stdout",
     "output_type": "stream",
     "text": [
      "Saved dataframe into /home/daviddavo/recsys4daos/data/output/Frax/baseline/folds-info_5d_normalize.parquet\n",
      "fold\n",
      "2023-05-31     9484\n",
      "2023-06-05     9566\n",
      "2023-06-10     9608\n",
      "2023-06-15     9695\n",
      "2023-06-20     9808\n",
      "2023-06-25     9860\n",
      "2023-06-30     9984\n",
      "2023-07-05    10062\n",
      "2023-07-10    10087\n",
      "2023-07-15    10140\n",
      "Name: votes in train, dtype: int64\n"
     ]
    },
    {
     "data": {
      "text/html": [
       "<style type=\"text/css\">\n",
       "</style>\n",
       "<table id=\"T_eeb0b\">\n",
       "  <thead>\n",
       "    <tr>\n",
       "      <th class=\"blank level0\" >&nbsp;</th>\n",
       "      <th id=\"T_eeb0b_level0_col0\" class=\"col_heading level0 col0\" >open proposals</th>\n",
       "      <th id=\"T_eeb0b_level0_col1\" class=\"col_heading level0 col1\" >votes in open proposals (train)</th>\n",
       "      <th id=\"T_eeb0b_level0_col2\" class=\"col_heading level0 col2\" >users in open proposals (train)</th>\n",
       "      <th id=\"T_eeb0b_level0_col3\" class=\"col_heading level0 col3\" >vpp in open proposals (train)</th>\n",
       "      <th id=\"T_eeb0b_level0_col4\" class=\"col_heading level0 col4\" >vpu in open proposals (train)</th>\n",
       "      <th id=\"T_eeb0b_level0_col5\" class=\"col_heading level0 col5\" >votes in test</th>\n",
       "      <th id=\"T_eeb0b_level0_col6\" class=\"col_heading level0 col6\" >users in test</th>\n",
       "      <th id=\"T_eeb0b_level0_col7\" class=\"col_heading level0 col7\" >vpp test</th>\n",
       "      <th id=\"T_eeb0b_level0_col8\" class=\"col_heading level0 col8\" >vpu test</th>\n",
       "    </tr>\n",
       "    <tr>\n",
       "      <th class=\"index_name level0\" >fold</th>\n",
       "      <th class=\"blank col0\" >&nbsp;</th>\n",
       "      <th class=\"blank col1\" >&nbsp;</th>\n",
       "      <th class=\"blank col2\" >&nbsp;</th>\n",
       "      <th class=\"blank col3\" >&nbsp;</th>\n",
       "      <th class=\"blank col4\" >&nbsp;</th>\n",
       "      <th class=\"blank col5\" >&nbsp;</th>\n",
       "      <th class=\"blank col6\" >&nbsp;</th>\n",
       "      <th class=\"blank col7\" >&nbsp;</th>\n",
       "      <th class=\"blank col8\" >&nbsp;</th>\n",
       "    </tr>\n",
       "  </thead>\n",
       "  <tbody>\n",
       "    <tr>\n",
       "      <th id=\"T_eeb0b_level0_row0\" class=\"row_heading level0 row0\" >2023-W22</th>\n",
       "      <td id=\"T_eeb0b_row0_col0\" class=\"data row0 col0\" >0</td>\n",
       "      <td id=\"T_eeb0b_row0_col1\" class=\"data row0 col1\" >0</td>\n",
       "      <td id=\"T_eeb0b_row0_col2\" class=\"data row0 col2\" >0</td>\n",
       "      <td id=\"T_eeb0b_row0_col3\" class=\"data row0 col3\" >nan</td>\n",
       "      <td id=\"T_eeb0b_row0_col4\" class=\"data row0 col4\" >nan</td>\n",
       "      <td id=\"T_eeb0b_row0_col5\" class=\"data row0 col5\" >0</td>\n",
       "      <td id=\"T_eeb0b_row0_col6\" class=\"data row0 col6\" >0</td>\n",
       "      <td id=\"T_eeb0b_row0_col7\" class=\"data row0 col7\" >nan</td>\n",
       "      <td id=\"T_eeb0b_row0_col8\" class=\"data row0 col8\" >nan</td>\n",
       "    </tr>\n",
       "    <tr>\n",
       "      <th id=\"T_eeb0b_level0_row1\" class=\"row_heading level0 row1\" >2023-W23</th>\n",
       "      <td id=\"T_eeb0b_row1_col0\" class=\"data row1 col0\" >4</td>\n",
       "      <td id=\"T_eeb0b_row1_col1\" class=\"data row1 col1\" >82</td>\n",
       "      <td id=\"T_eeb0b_row1_col2\" class=\"data row1 col2\" >33</td>\n",
       "      <td id=\"T_eeb0b_row1_col3\" class=\"data row1 col3\" >20.50</td>\n",
       "      <td id=\"T_eeb0b_row1_col4\" class=\"data row1 col4\" >2.48</td>\n",
       "      <td id=\"T_eeb0b_row1_col5\" class=\"data row1 col5\" >24</td>\n",
       "      <td id=\"T_eeb0b_row1_col6\" class=\"data row1 col6\" >12</td>\n",
       "      <td id=\"T_eeb0b_row1_col7\" class=\"data row1 col7\" >6.00</td>\n",
       "      <td id=\"T_eeb0b_row1_col8\" class=\"data row1 col8\" >2.00</td>\n",
       "    </tr>\n",
       "    <tr>\n",
       "      <th id=\"T_eeb0b_level0_row2\" class=\"row_heading level0 row2\" >2023-W23</th>\n",
       "      <td id=\"T_eeb0b_row2_col0\" class=\"data row2 col0\" >2</td>\n",
       "      <td id=\"T_eeb0b_row2_col1\" class=\"data row2 col1\" >18</td>\n",
       "      <td id=\"T_eeb0b_row2_col2\" class=\"data row2 col2\" >10</td>\n",
       "      <td id=\"T_eeb0b_row2_col3\" class=\"data row2 col3\" >9.00</td>\n",
       "      <td id=\"T_eeb0b_row2_col4\" class=\"data row2 col4\" >1.80</td>\n",
       "      <td id=\"T_eeb0b_row2_col5\" class=\"data row2 col5\" >24</td>\n",
       "      <td id=\"T_eeb0b_row2_col6\" class=\"data row2 col6\" >15</td>\n",
       "      <td id=\"T_eeb0b_row2_col7\" class=\"data row2 col7\" >12.00</td>\n",
       "      <td id=\"T_eeb0b_row2_col8\" class=\"data row2 col8\" >1.60</td>\n",
       "    </tr>\n",
       "    <tr>\n",
       "      <th id=\"T_eeb0b_level0_row3\" class=\"row_heading level0 row3\" >2023-W24</th>\n",
       "      <td id=\"T_eeb0b_row3_col0\" class=\"data row3 col0\" >9</td>\n",
       "      <td id=\"T_eeb0b_row3_col1\" class=\"data row3 col1\" >63</td>\n",
       "      <td id=\"T_eeb0b_row3_col2\" class=\"data row3 col2\" >11</td>\n",
       "      <td id=\"T_eeb0b_row3_col3\" class=\"data row3 col3\" >7.00</td>\n",
       "      <td id=\"T_eeb0b_row3_col4\" class=\"data row3 col4\" >5.73</td>\n",
       "      <td id=\"T_eeb0b_row3_col5\" class=\"data row3 col5\" >67</td>\n",
       "      <td id=\"T_eeb0b_row3_col6\" class=\"data row3 col6\" >14</td>\n",
       "      <td id=\"T_eeb0b_row3_col7\" class=\"data row3 col7\" >7.44</td>\n",
       "      <td id=\"T_eeb0b_row3_col8\" class=\"data row3 col8\" >4.79</td>\n",
       "    </tr>\n",
       "    <tr>\n",
       "      <th id=\"T_eeb0b_level0_row4\" class=\"row_heading level0 row4\" >2023-W25</th>\n",
       "      <td id=\"T_eeb0b_row4_col0\" class=\"data row4 col0\" >4</td>\n",
       "      <td id=\"T_eeb0b_row4_col1\" class=\"data row4 col1\" >43</td>\n",
       "      <td id=\"T_eeb0b_row4_col2\" class=\"data row4 col2\" >15</td>\n",
       "      <td id=\"T_eeb0b_row4_col3\" class=\"data row4 col3\" >10.75</td>\n",
       "      <td id=\"T_eeb0b_row4_col4\" class=\"data row4 col4\" >2.87</td>\n",
       "      <td id=\"T_eeb0b_row4_col5\" class=\"data row4 col5\" >37</td>\n",
       "      <td id=\"T_eeb0b_row4_col6\" class=\"data row4 col6\" >26</td>\n",
       "      <td id=\"T_eeb0b_row4_col7\" class=\"data row4 col7\" >9.25</td>\n",
       "      <td id=\"T_eeb0b_row4_col8\" class=\"data row4 col8\" >1.42</td>\n",
       "    </tr>\n",
       "    <tr>\n",
       "      <th id=\"T_eeb0b_level0_row5\" class=\"row_heading level0 row5\" >2023-W25</th>\n",
       "      <td id=\"T_eeb0b_row5_col0\" class=\"data row5 col0\" >5</td>\n",
       "      <td id=\"T_eeb0b_row5_col1\" class=\"data row5 col1\" >13</td>\n",
       "      <td id=\"T_eeb0b_row5_col2\" class=\"data row5 col2\" >13</td>\n",
       "      <td id=\"T_eeb0b_row5_col3\" class=\"data row5 col3\" >2.60</td>\n",
       "      <td id=\"T_eeb0b_row5_col4\" class=\"data row5 col4\" >1.00</td>\n",
       "      <td id=\"T_eeb0b_row5_col5\" class=\"data row5 col5\" >108</td>\n",
       "      <td id=\"T_eeb0b_row5_col6\" class=\"data row5 col6\" >38</td>\n",
       "      <td id=\"T_eeb0b_row5_col7\" class=\"data row5 col7\" >21.60</td>\n",
       "      <td id=\"T_eeb0b_row5_col8\" class=\"data row5 col8\" >2.84</td>\n",
       "    </tr>\n",
       "    <tr>\n",
       "      <th id=\"T_eeb0b_level0_row6\" class=\"row_heading level0 row6\" >2023-W26</th>\n",
       "      <td id=\"T_eeb0b_row6_col0\" class=\"data row6 col0\" >2</td>\n",
       "      <td id=\"T_eeb0b_row6_col1\" class=\"data row6 col1\" >14</td>\n",
       "      <td id=\"T_eeb0b_row6_col2\" class=\"data row6 col2\" >12</td>\n",
       "      <td id=\"T_eeb0b_row6_col3\" class=\"data row6 col3\" >7.00</td>\n",
       "      <td id=\"T_eeb0b_row6_col4\" class=\"data row6 col4\" >1.17</td>\n",
       "      <td id=\"T_eeb0b_row6_col5\" class=\"data row6 col5\" >40</td>\n",
       "      <td id=\"T_eeb0b_row6_col6\" class=\"data row6 col6\" >31</td>\n",
       "      <td id=\"T_eeb0b_row6_col7\" class=\"data row6 col7\" >20.00</td>\n",
       "      <td id=\"T_eeb0b_row6_col8\" class=\"data row6 col8\" >1.29</td>\n",
       "    </tr>\n",
       "    <tr>\n",
       "      <th id=\"T_eeb0b_level0_row7\" class=\"row_heading level0 row7\" >2023-W27</th>\n",
       "      <td id=\"T_eeb0b_row7_col0\" class=\"data row7 col0\" >1</td>\n",
       "      <td id=\"T_eeb0b_row7_col1\" class=\"data row7 col1\" >34</td>\n",
       "      <td id=\"T_eeb0b_row7_col2\" class=\"data row7 col2\" >34</td>\n",
       "      <td id=\"T_eeb0b_row7_col3\" class=\"data row7 col3\" >34.00</td>\n",
       "      <td id=\"T_eeb0b_row7_col4\" class=\"data row7 col4\" >1.00</td>\n",
       "      <td id=\"T_eeb0b_row7_col5\" class=\"data row7 col5\" >1</td>\n",
       "      <td id=\"T_eeb0b_row7_col6\" class=\"data row7 col6\" >1</td>\n",
       "      <td id=\"T_eeb0b_row7_col7\" class=\"data row7 col7\" >1.00</td>\n",
       "      <td id=\"T_eeb0b_row7_col8\" class=\"data row7 col8\" >1.00</td>\n",
       "    </tr>\n",
       "    <tr>\n",
       "      <th id=\"T_eeb0b_level0_row8\" class=\"row_heading level0 row8\" >2023-W28</th>\n",
       "      <td id=\"T_eeb0b_row8_col0\" class=\"data row8 col0\" >1</td>\n",
       "      <td id=\"T_eeb0b_row8_col1\" class=\"data row8 col1\" >24</td>\n",
       "      <td id=\"T_eeb0b_row8_col2\" class=\"data row8 col2\" >24</td>\n",
       "      <td id=\"T_eeb0b_row8_col3\" class=\"data row8 col3\" >24.00</td>\n",
       "      <td id=\"T_eeb0b_row8_col4\" class=\"data row8 col4\" >1.00</td>\n",
       "      <td id=\"T_eeb0b_row8_col5\" class=\"data row8 col5\" >5</td>\n",
       "      <td id=\"T_eeb0b_row8_col6\" class=\"data row8 col6\" >5</td>\n",
       "      <td id=\"T_eeb0b_row8_col7\" class=\"data row8 col7\" >5.00</td>\n",
       "      <td id=\"T_eeb0b_row8_col8\" class=\"data row8 col8\" >1.00</td>\n",
       "    </tr>\n",
       "    <tr>\n",
       "      <th id=\"T_eeb0b_level0_row9\" class=\"row_heading level0 row9\" >2023-W28</th>\n",
       "      <td id=\"T_eeb0b_row9_col0\" class=\"data row9 col0\" >5</td>\n",
       "      <td id=\"T_eeb0b_row9_col1\" class=\"data row9 col1\" >48</td>\n",
       "      <td id=\"T_eeb0b_row9_col2\" class=\"data row9 col2\" >17</td>\n",
       "      <td id=\"T_eeb0b_row9_col3\" class=\"data row9 col3\" >9.60</td>\n",
       "      <td id=\"T_eeb0b_row9_col4\" class=\"data row9 col4\" >2.82</td>\n",
       "      <td id=\"T_eeb0b_row9_col5\" class=\"data row9 col5\" >39</td>\n",
       "      <td id=\"T_eeb0b_row9_col6\" class=\"data row9 col6\" >20</td>\n",
       "      <td id=\"T_eeb0b_row9_col7\" class=\"data row9 col7\" >7.80</td>\n",
       "      <td id=\"T_eeb0b_row9_col8\" class=\"data row9 col8\" >1.95</td>\n",
       "    </tr>\n",
       "  </tbody>\n",
       "</table>\n"
      ],
      "text/plain": [
       "<pandas.io.formats.style.Styler at 0x7f5f51f70390>"
      ]
     },
     "execution_count": 7,
     "metadata": {},
     "output_type": "execute_result"
    }
   ],
   "source": [
    "sdd = defaultdict(list)\n",
    "\n",
    "for dftrain, dftest, t, openproposals in cvtt_open(to_microsoft(dfv), SPLITS_FREQ, dfp.reset_index(), remove_not_in_train_col='userID', normalize=SPLITS_NORMALIZE):\n",
    "    dftrain_filter = dftrain[dftrain['itemID'].isin(openproposals)]\n",
    "    \n",
    "    sdd['fold'].append(t)\n",
    "    sdd['open proposals'].append(len(openproposals))\n",
    "    \n",
    "    sdd['proposals in train'].append(dftrain['itemID'].nunique())\n",
    "    sdd['votes in train'].append(len(dftrain))\n",
    "    sdd['votes in open proposals (train)'].append(len(dftrain_filter))\n",
    "    sdd['users in open proposals (train)'].append(dftrain_filter['userID'].nunique())\n",
    "    sdd['votes in test'].append(len(dftest))\n",
    "    sdd['users in train'].append(dftrain['userID'].nunique())\n",
    "    sdd['users in test'].append(dftest['userID'].nunique())\n",
    "\n",
    "sdf_all = pd.DataFrame(sdd).set_index('fold')\n",
    "sdf_all['vpp in open proposals (train)'] = sdf_all['votes in open proposals (train)'] / sdf_all['open proposals']\n",
    "sdf_all['vpu in open proposals (train)'] = sdf_all['votes in open proposals (train)'] / sdf_all['users in open proposals (train)']\n",
    "sdf_all['vpp test'] = sdf_all['votes in test'] / sdf_all['open proposals']\n",
    "sdf_all['vpu test'] = sdf_all['votes in test'] / sdf_all['users in test']\n",
    "paths.save_folds_info(sdf_all, ORG_NAME, SPLITS_FREQ, SPLITS_NORMALIZE)\n",
    "sdf = sdf_all.tail(LAST_FOLDS)\n",
    "print(sdf['votes in train'])\n",
    "_style = sdf[['open proposals', 'votes in open proposals (train)', 'users in open proposals (train)', 'vpp in open proposals (train)', 'vpu in open proposals (train)', 'votes in test', 'users in test', 'vpp test', 'vpu test']].style\n",
    "_style = _style.format_index('{:%G-W%V}').format(precision=2)\n",
    "_style"
   ]
  },
  {
   "cell_type": "code",
   "execution_count": 8,
   "id": "6a9282a4",
   "metadata": {
    "execution": {
     "iopub.execute_input": "2024-09-16T14:08:25.151166Z",
     "iopub.status.busy": "2024-09-16T14:08:25.150973Z",
     "iopub.status.idle": "2024-09-16T14:08:25.161728Z",
     "shell.execute_reply": "2024-09-16T14:08:25.161510Z"
    },
    "papermill": {
     "duration": 0.014084,
     "end_time": "2024-09-16T14:08:25.162344",
     "exception": false,
     "start_time": "2024-09-16T14:08:25.148260",
     "status": "completed"
    },
    "tags": []
   },
   "outputs": [
    {
     "name": "stdout",
     "output_type": "stream",
     "text": [
      "\\begin{tabular}{lrrrrrrrrr}\n",
      " & \\textbf{open proposals} & \\textbf{votes in open proposals (train)} & \\textbf{users in open proposals (train)} & \\textbf{vpp in open proposals (train)} & \\textbf{vpu in open proposals (train)} & \\textbf{votes in test} & \\textbf{users in test} & \\textbf{vpp test} & \\textbf{vpu test} \\\\\n",
      "fold &  &  &  &  &  &  &  &  &  \\\\\n",
      "2023-W22 & 0 & 0 & 0 & nan & nan & 0 & 0 & nan & nan \\\\\n",
      "2023-W23 & 4 & 82 & 33 & 20.50 & 2.48 & 24 & 12 & 6.00 & 2.00 \\\\\n",
      "2023-W23 & 2 & 18 & 10 & 9.00 & 1.80 & 24 & 15 & 12.00 & 1.60 \\\\\n",
      "2023-W24 & 9 & 63 & 11 & 7.00 & 5.73 & 67 & 14 & 7.44 & 4.79 \\\\\n",
      "2023-W25 & 4 & 43 & 15 & 10.75 & 2.87 & 37 & 26 & 9.25 & 1.42 \\\\\n",
      "2023-W25 & 5 & 13 & 13 & 2.60 & 1.00 & 108 & 38 & 21.60 & 2.84 \\\\\n",
      "2023-W26 & 2 & 14 & 12 & 7.00 & 1.17 & 40 & 31 & 20.00 & 1.29 \\\\\n",
      "2023-W27 & 1 & 34 & 34 & 34.00 & 1.00 & 1 & 1 & 1.00 & 1.00 \\\\\n",
      "2023-W28 & 1 & 24 & 24 & 24.00 & 1.00 & 5 & 5 & 5.00 & 1.00 \\\\\n",
      "2023-W28 & 5 & 48 & 17 & 9.60 & 2.82 & 39 & 20 & 7.80 & 1.95 \\\\\n",
      "\\end{tabular}\n",
      "\n"
     ]
    }
   ],
   "source": [
    "print(_style\n",
    "  .format_index(\"\\\\textbf{{{}}}\", escape=\"latex\", axis=1)\n",
    "  .to_latex()\n",
    ")"
   ]
  },
  {
   "cell_type": "markdown",
   "id": "119c4ed0",
   "metadata": {
    "papermill": {
     "duration": 0.002039,
     "end_time": "2024-09-16T14:08:25.166400",
     "exception": false,
     "start_time": "2024-09-16T14:08:25.164361",
     "status": "completed"
    },
    "tags": []
   },
   "source": [
    "## Running openpop baseline"
   ]
  },
  {
   "cell_type": "code",
   "execution_count": 9,
   "id": "fe20f0b3",
   "metadata": {
    "execution": {
     "iopub.execute_input": "2024-09-16T14:08:25.170766Z",
     "iopub.status.busy": "2024-09-16T14:08:25.170657Z",
     "iopub.status.idle": "2024-09-16T14:09:04.554500Z",
     "shell.execute_reply": "2024-09-16T14:09:04.554274Z"
    },
    "papermill": {
     "duration": 39.386829,
     "end_time": "2024-09-16T14:09:04.555184",
     "exception": false,
     "start_time": "2024-09-16T14:08:25.168355",
     "status": "completed"
    },
    "tags": []
   },
   "outputs": [
    {
     "data": {
      "application/vnd.jupyter.widget-view+json": {
       "model_id": "59c3c2ee4a89490aba5de44917c7658f",
       "version_major": 2,
       "version_minor": 0
      },
      "text/plain": [
       "  0%|          | 0/178 [00:00<?, ?it/s]"
      ]
     },
     "metadata": {},
     "output_type": "display_data"
    },
    {
     "name": "stderr",
     "output_type": "stream",
     "text": [
      "Warning, empty test fold 0 (2021-02-10 00:00:00), all ok since 0 folds ago\n",
      "Warning, empty test fold 1 (2021-02-15 00:00:00), all ok since 1 folds ago\n"
     ]
    },
    {
     "name": "stderr",
     "output_type": "stream",
     "text": [
      "Warning, empty test fold 2 (2021-02-20 00:00:00), all ok since 1 folds ago\n",
      "Warning, empty test fold 3 (2021-02-25 00:00:00), all ok since 1 folds ago\n"
     ]
    },
    {
     "name": "stderr",
     "output_type": "stream",
     "text": [
      "Warning, empty test fold 4 (2021-03-02 00:00:00), all ok since 1 folds ago\n",
      "Warning, empty test fold 5 (2021-03-07 00:00:00), all ok since 1 folds ago\n"
     ]
    },
    {
     "name": "stderr",
     "output_type": "stream",
     "text": [
      "Warning, empty test fold 6 (2021-03-12 00:00:00), all ok since 1 folds ago\n",
      "Warning, empty test fold 7 (2021-03-17 00:00:00), all ok since 1 folds ago\n"
     ]
    },
    {
     "name": "stderr",
     "output_type": "stream",
     "text": [
      "Warning, empty test fold 8 (2021-03-22 00:00:00), all ok since 1 folds ago\n",
      "Warning, empty test fold 9 (2021-03-27 00:00:00), all ok since 1 folds ago\n"
     ]
    },
    {
     "name": "stderr",
     "output_type": "stream",
     "text": [
      "Warning, empty test fold 10 (2021-04-01 00:00:00), all ok since 1 folds ago\n",
      "Warning, empty test fold 11 (2021-04-06 00:00:00), all ok since 1 folds ago\n"
     ]
    },
    {
     "name": "stderr",
     "output_type": "stream",
     "text": [
      "Warning, empty test fold 12 (2021-04-11 00:00:00), all ok since 1 folds ago\n",
      "Warning, empty test fold 13 (2021-04-16 00:00:00), all ok since 1 folds ago\n"
     ]
    },
    {
     "name": "stderr",
     "output_type": "stream",
     "text": [
      "Warning, empty test fold 14 (2021-04-21 00:00:00), all ok since 1 folds ago\n",
      "Warning, empty test fold 15 (2021-04-26 00:00:00), all ok since 1 folds ago\n"
     ]
    },
    {
     "name": "stderr",
     "output_type": "stream",
     "text": [
      "Warning, empty test fold 16 (2021-05-01 00:00:00), all ok since 1 folds ago\n",
      "Warning, empty test fold 17 (2021-05-06 00:00:00), all ok since 1 folds ago\n"
     ]
    },
    {
     "name": "stderr",
     "output_type": "stream",
     "text": [
      "Warning, empty test fold 18 (2021-05-11 00:00:00), all ok since 1 folds ago\n",
      "Warning, empty test fold 19 (2021-05-16 00:00:00), all ok since 1 folds ago\n"
     ]
    },
    {
     "name": "stderr",
     "output_type": "stream",
     "text": [
      "Warning, empty test fold 20 (2021-05-21 00:00:00), all ok since 1 folds ago\n",
      "Warning, empty test fold 21 (2021-05-26 00:00:00), all ok since 1 folds ago\n"
     ]
    },
    {
     "name": "stderr",
     "output_type": "stream",
     "text": [
      "Warning, empty test fold 22 (2021-05-31 00:00:00), all ok since 1 folds ago\n",
      "Warning, test fold 23 (2021-06-05 00:00:00) with less than 5 open proposals (2). all ok since 1 folds ago\n"
     ]
    },
    {
     "name": "stderr",
     "output_type": "stream",
     "text": [
      "Warning, empty test fold 24 (2021-06-10 00:00:00), all ok since 2 folds ago\n",
      "Warning, empty test fold 25 (2021-06-15 00:00:00), all ok since 1 folds ago\n"
     ]
    },
    {
     "name": "stderr",
     "output_type": "stream",
     "text": [
      "Warning, empty test fold 26 (2021-06-20 00:00:00), all ok since 1 folds ago\n",
      "Warning, empty test fold 27 (2021-06-25 00:00:00), all ok since 1 folds ago\n"
     ]
    },
    {
     "name": "stderr",
     "output_type": "stream",
     "text": [
      "Warning, empty test fold 28 (2021-06-30 00:00:00), all ok since 1 folds ago\n",
      "Warning, test fold 29 (2021-07-05 00:00:00) with less than 5 open proposals (1). all ok since 1 folds ago\n"
     ]
    },
    {
     "name": "stderr",
     "output_type": "stream",
     "text": [
      "Warning, test fold 30 (2021-07-10 00:00:00) with less than 5 open proposals (2). all ok since 1 folds ago\n"
     ]
    },
    {
     "name": "stderr",
     "output_type": "stream",
     "text": [
      "Warning, empty test fold 31 (2021-07-15 00:00:00), all ok since 3 folds ago\n",
      "Warning, empty test fold 32 (2021-07-20 00:00:00), all ok since 1 folds ago\n"
     ]
    },
    {
     "name": "stderr",
     "output_type": "stream",
     "text": [
      "Warning, empty test fold 33 (2021-07-25 00:00:00), all ok since 1 folds ago\n",
      "Warning, empty test fold 34 (2021-07-30 00:00:00), all ok since 1 folds ago\n"
     ]
    },
    {
     "name": "stderr",
     "output_type": "stream",
     "text": [
      "Warning, empty test fold 35 (2021-08-04 00:00:00), all ok since 1 folds ago\n",
      "Warning, empty test fold 36 (2021-08-09 00:00:00), all ok since 1 folds ago\n"
     ]
    },
    {
     "name": "stderr",
     "output_type": "stream",
     "text": [
      "Warning, test fold 37 (2021-08-14 00:00:00) with less than 5 open proposals (2). all ok since 1 folds ago\n"
     ]
    },
    {
     "name": "stderr",
     "output_type": "stream",
     "text": [
      "Warning, test fold 38 (2021-08-19 00:00:00) with less than 5 open proposals (1). all ok since 1 folds ago\n"
     ]
    },
    {
     "name": "stderr",
     "output_type": "stream",
     "text": [
      "Warning, test fold 39 (2021-08-24 00:00:00) with less than 5 open proposals (1). all ok since 1 folds ago\n"
     ]
    },
    {
     "name": "stderr",
     "output_type": "stream",
     "text": [
      "Warning, empty test fold 40 (2021-08-29 00:00:00), all ok since 4 folds ago\n",
      "Warning, empty test fold 41 (2021-09-03 00:00:00), all ok since 1 folds ago\n"
     ]
    },
    {
     "name": "stderr",
     "output_type": "stream",
     "text": [
      "Warning, test fold 42 (2021-09-08 00:00:00) with less than 5 open proposals (1). all ok since 1 folds ago\n"
     ]
    },
    {
     "name": "stderr",
     "output_type": "stream",
     "text": [
      "Warning, empty test fold 43 (2021-09-13 00:00:00), all ok since 2 folds ago\n",
      "Warning, test fold 44 (2021-09-18 00:00:00) with less than 5 open proposals (3). all ok since 1 folds ago\n"
     ]
    },
    {
     "name": "stderr",
     "output_type": "stream",
     "text": [
      "Warning, test fold 45 (2021-09-23 00:00:00) with less than 5 open proposals (2). all ok since 1 folds ago\n"
     ]
    },
    {
     "name": "stderr",
     "output_type": "stream",
     "text": [
      "Warning, test fold 46 (2021-09-28 00:00:00) with less than 5 open proposals (2). all ok since 1 folds ago\n"
     ]
    },
    {
     "name": "stderr",
     "output_type": "stream",
     "text": [
      "Warning, test fold 47 (2021-10-03 00:00:00) with less than 5 open proposals (1). all ok since 1 folds ago\n"
     ]
    },
    {
     "name": "stderr",
     "output_type": "stream",
     "text": [
      "Warning, empty test fold 48 (2021-10-08 00:00:00), all ok since 5 folds ago\n",
      "Warning, test fold 49 (2021-10-13 00:00:00) with less than 5 open proposals (1). all ok since 1 folds ago\n"
     ]
    },
    {
     "name": "stderr",
     "output_type": "stream",
     "text": [
      "Warning, test fold 50 (2021-10-18 00:00:00) with less than 5 open proposals (1). all ok since 1 folds ago\n"
     ]
    },
    {
     "name": "stderr",
     "output_type": "stream",
     "text": [
      "Warning, test fold 51 (2021-10-23 00:00:00) with less than 5 open proposals (4). all ok since 1 folds ago\n"
     ]
    },
    {
     "name": "stderr",
     "output_type": "stream",
     "text": [
      "Warning, test fold 52 (2021-10-28 00:00:00) with less than 5 open proposals (2). all ok since 1 folds ago\n"
     ]
    },
    {
     "name": "stderr",
     "output_type": "stream",
     "text": [
      "Warning, test fold 53 (2021-11-02 00:00:00) with less than 5 open proposals (1). all ok since 1 folds ago\n"
     ]
    },
    {
     "name": "stderr",
     "output_type": "stream",
     "text": [
      "Warning, empty test fold 54 (2021-11-07 00:00:00), all ok since 6 folds ago\n",
      "Warning, test fold 55 (2021-11-12 00:00:00) with less than 5 open proposals (1). all ok since 1 folds ago\n"
     ]
    },
    {
     "name": "stderr",
     "output_type": "stream",
     "text": [
      "Warning, test fold 56 (2021-11-17 00:00:00) with less than 5 open proposals (2). all ok since 1 folds ago\n"
     ]
    },
    {
     "name": "stderr",
     "output_type": "stream",
     "text": [
      "Warning, test fold 57 (2021-11-22 00:00:00) with less than 5 open proposals (3). all ok since 1 folds ago\n"
     ]
    },
    {
     "name": "stderr",
     "output_type": "stream",
     "text": [
      "Warning, test fold 58 (2021-11-27 00:00:00) with less than 5 open proposals (4). all ok since 1 folds ago\n"
     ]
    },
    {
     "name": "stderr",
     "output_type": "stream",
     "text": [
      "Warning, test fold 59 (2021-12-02 00:00:00) with less than 5 open proposals (1). all ok since 1 folds ago\n"
     ]
    },
    {
     "name": "stderr",
     "output_type": "stream",
     "text": [
      "Warning, test fold 60 (2021-12-07 00:00:00) with less than 5 open proposals (1). all ok since 1 folds ago\n"
     ]
    },
    {
     "name": "stderr",
     "output_type": "stream",
     "text": [
      "Warning, test fold 61 (2021-12-12 00:00:00) with less than 5 open proposals (2). all ok since 1 folds ago\n"
     ]
    },
    {
     "name": "stderr",
     "output_type": "stream",
     "text": [
      "Warning, test fold 62 (2021-12-17 00:00:00) with less than 5 open proposals (1). all ok since 1 folds ago\n"
     ]
    },
    {
     "name": "stderr",
     "output_type": "stream",
     "text": [
      "Warning, test fold 64 (2021-12-27 00:00:00) with less than 5 open proposals (3). all ok since 2 folds ago\n"
     ]
    },
    {
     "name": "stderr",
     "output_type": "stream",
     "text": [
      "Warning, test fold 66 (2022-01-06 00:00:00) with less than 5 open proposals (2). all ok since 2 folds ago\n"
     ]
    },
    {
     "name": "stderr",
     "output_type": "stream",
     "text": [
      "Warning, test fold 67 (2022-01-11 00:00:00) with less than 5 open proposals (1). all ok since 1 folds ago\n"
     ]
    },
    {
     "name": "stderr",
     "output_type": "stream",
     "text": [
      "Warning, test fold 68 (2022-01-16 00:00:00) with less than 5 open proposals (3). all ok since 1 folds ago\n"
     ]
    },
    {
     "name": "stderr",
     "output_type": "stream",
     "text": [
      "Warning, test fold 69 (2022-01-21 00:00:00) with less than 5 open proposals (1). all ok since 1 folds ago\n"
     ]
    },
    {
     "name": "stderr",
     "output_type": "stream",
     "text": [
      "Warning, test fold 70 (2022-01-26 00:00:00) with less than 5 open proposals (2). all ok since 1 folds ago\n"
     ]
    },
    {
     "name": "stderr",
     "output_type": "stream",
     "text": [
      "Warning, test fold 71 (2022-01-31 00:00:00) with less than 5 open proposals (3). all ok since 1 folds ago\n"
     ]
    },
    {
     "name": "stderr",
     "output_type": "stream",
     "text": [
      "Warning, test fold 72 (2022-02-05 00:00:00) with less than 5 open proposals (1). all ok since 1 folds ago\n"
     ]
    },
    {
     "name": "stderr",
     "output_type": "stream",
     "text": [
      "Warning, test fold 73 (2022-02-10 00:00:00) with less than 5 open proposals (2). all ok since 1 folds ago\n"
     ]
    },
    {
     "name": "stderr",
     "output_type": "stream",
     "text": [
      "Warning, test fold 74 (2022-02-15 00:00:00) with less than 5 open proposals (1). all ok since 1 folds ago\n"
     ]
    },
    {
     "name": "stderr",
     "output_type": "stream",
     "text": [
      "Warning, test fold 75 (2022-02-20 00:00:00) with less than 5 open proposals (1). all ok since 1 folds ago\n"
     ]
    },
    {
     "name": "stderr",
     "output_type": "stream",
     "text": [
      "Warning, test fold 76 (2022-02-25 00:00:00) with less than 5 open proposals (3). all ok since 1 folds ago\n"
     ]
    },
    {
     "name": "stderr",
     "output_type": "stream",
     "text": [
      "Warning, test fold 77 (2022-03-02 00:00:00) with less than 5 open proposals (1). all ok since 1 folds ago\n"
     ]
    },
    {
     "name": "stderr",
     "output_type": "stream",
     "text": [
      "Warning, test fold 78 (2022-03-07 00:00:00) with less than 5 open proposals (2). all ok since 1 folds ago\n"
     ]
    },
    {
     "name": "stderr",
     "output_type": "stream",
     "text": [
      "Warning, test fold 79 (2022-03-12 00:00:00) with less than 5 open proposals (2). all ok since 1 folds ago\n"
     ]
    },
    {
     "name": "stderr",
     "output_type": "stream",
     "text": [
      "Warning, test fold 80 (2022-03-17 00:00:00) with less than 5 open proposals (1). all ok since 1 folds ago\n"
     ]
    },
    {
     "name": "stderr",
     "output_type": "stream",
     "text": [
      "Warning, test fold 81 (2022-03-22 00:00:00) with less than 5 open proposals (3). all ok since 1 folds ago\n"
     ]
    },
    {
     "name": "stderr",
     "output_type": "stream",
     "text": [
      "Warning, empty test fold 82 (2022-03-27 00:00:00), all ok since 28 folds ago\n",
      "Warning, test fold 83 (2022-04-01 00:00:00) with less than 5 open proposals (1). all ok since 1 folds ago\n"
     ]
    },
    {
     "name": "stderr",
     "output_type": "stream",
     "text": [
      "Warning, test fold 84 (2022-04-06 00:00:00) with less than 5 open proposals (1). all ok since 1 folds ago\n"
     ]
    },
    {
     "name": "stderr",
     "output_type": "stream",
     "text": [
      "Warning, test fold 85 (2022-04-11 00:00:00) with less than 5 open proposals (1). all ok since 1 folds ago\n"
     ]
    },
    {
     "name": "stderr",
     "output_type": "stream",
     "text": [
      "Warning, test fold 87 (2022-04-21 00:00:00) with less than 5 open proposals (1). all ok since 2 folds ago\n"
     ]
    },
    {
     "name": "stderr",
     "output_type": "stream",
     "text": [
      "Warning, test fold 88 (2022-04-26 00:00:00) with less than 5 open proposals (2). all ok since 1 folds ago\n"
     ]
    },
    {
     "name": "stderr",
     "output_type": "stream",
     "text": [
      "Warning, test fold 89 (2022-05-01 00:00:00) with less than 5 open proposals (2). all ok since 1 folds ago\n"
     ]
    },
    {
     "name": "stderr",
     "output_type": "stream",
     "text": [
      "Warning, test fold 90 (2022-05-06 00:00:00) with less than 5 open proposals (2). all ok since 1 folds ago\n"
     ]
    },
    {
     "name": "stderr",
     "output_type": "stream",
     "text": [
      "Warning, test fold 91 (2022-05-11 00:00:00) with less than 5 open proposals (2). all ok since 1 folds ago\n"
     ]
    },
    {
     "name": "stderr",
     "output_type": "stream",
     "text": [
      "Warning, test fold 92 (2022-05-16 00:00:00) with less than 5 open proposals (1). all ok since 1 folds ago\n"
     ]
    },
    {
     "name": "stderr",
     "output_type": "stream",
     "text": [
      "Warning, test fold 93 (2022-05-21 00:00:00) with less than 5 open proposals (3). all ok since 1 folds ago\n"
     ]
    },
    {
     "name": "stderr",
     "output_type": "stream",
     "text": [
      "Warning, test fold 94 (2022-05-26 00:00:00) with less than 5 open proposals (1). all ok since 1 folds ago\n"
     ]
    },
    {
     "name": "stderr",
     "output_type": "stream",
     "text": [
      "Warning, empty test fold 95 (2022-05-31 00:00:00), all ok since 13 folds ago\n",
      "Warning, test fold 96 (2022-06-05 00:00:00) with less than 5 open proposals (1). all ok since 1 folds ago\n"
     ]
    },
    {
     "name": "stderr",
     "output_type": "stream",
     "text": [
      "Warning, test fold 97 (2022-06-10 00:00:00) with less than 5 open proposals (1). all ok since 1 folds ago\n"
     ]
    },
    {
     "name": "stderr",
     "output_type": "stream",
     "text": [
      "Warning, test fold 99 (2022-06-20 00:00:00) with less than 5 open proposals (2). all ok since 2 folds ago\n"
     ]
    },
    {
     "name": "stderr",
     "output_type": "stream",
     "text": [
      "Warning, test fold 100 (2022-06-25 00:00:00) with less than 5 open proposals (3). all ok since 1 folds ago\n"
     ]
    },
    {
     "name": "stderr",
     "output_type": "stream",
     "text": [
      "Warning, test fold 101 (2022-06-30 00:00:00) with less than 5 open proposals (1). all ok since 1 folds ago\n"
     ]
    },
    {
     "name": "stderr",
     "output_type": "stream",
     "text": [
      "Warning, test fold 102 (2022-07-05 00:00:00) with less than 5 open proposals (2). all ok since 1 folds ago\n"
     ]
    },
    {
     "name": "stderr",
     "output_type": "stream",
     "text": [
      "Warning, test fold 103 (2022-07-10 00:00:00) with less than 5 open proposals (2). all ok since 1 folds ago\n"
     ]
    },
    {
     "name": "stderr",
     "output_type": "stream",
     "text": [
      "Warning, test fold 104 (2022-07-15 00:00:00) with less than 5 open proposals (2). all ok since 1 folds ago\n"
     ]
    },
    {
     "name": "stderr",
     "output_type": "stream",
     "text": [
      "Warning, test fold 105 (2022-07-20 00:00:00) with less than 5 open proposals (2). all ok since 1 folds ago\n"
     ]
    },
    {
     "name": "stderr",
     "output_type": "stream",
     "text": [
      "Warning, empty test fold 106 (2022-07-25 00:00:00), all ok since 11 folds ago\n",
      "Warning, empty test fold 107 (2022-07-30 00:00:00), all ok since 1 folds ago\n"
     ]
    },
    {
     "name": "stderr",
     "output_type": "stream",
     "text": [
      "Warning, empty test fold 108 (2022-08-04 00:00:00), all ok since 1 folds ago\n",
      "Warning, test fold 109 (2022-08-09 00:00:00) with less than 5 open proposals (3). all ok since 1 folds ago\n"
     ]
    },
    {
     "name": "stderr",
     "output_type": "stream",
     "text": [
      "Warning, test fold 110 (2022-08-14 00:00:00) with less than 5 open proposals (3). all ok since 1 folds ago\n"
     ]
    },
    {
     "name": "stderr",
     "output_type": "stream",
     "text": [
      "Warning, empty test fold 111 (2022-08-19 00:00:00), all ok since 3 folds ago\n",
      "Warning, empty test fold 112 (2022-08-24 00:00:00), all ok since 1 folds ago\n"
     ]
    },
    {
     "name": "stderr",
     "output_type": "stream",
     "text": [
      "Warning, test fold 113 (2022-08-29 00:00:00) with less than 5 open proposals (1). all ok since 1 folds ago\n"
     ]
    },
    {
     "name": "stderr",
     "output_type": "stream",
     "text": [
      "Warning, test fold 114 (2022-09-03 00:00:00) with less than 5 open proposals (3). all ok since 1 folds ago\n"
     ]
    },
    {
     "name": "stderr",
     "output_type": "stream",
     "text": [
      "Warning, test fold 115 (2022-09-08 00:00:00) with less than 5 open proposals (2). all ok since 1 folds ago\n"
     ]
    },
    {
     "name": "stderr",
     "output_type": "stream",
     "text": [
      "Warning, test fold 116 (2022-09-13 00:00:00) with less than 5 open proposals (1). all ok since 1 folds ago\n"
     ]
    },
    {
     "name": "stderr",
     "output_type": "stream",
     "text": [
      "Warning, test fold 117 (2022-09-18 00:00:00) with less than 5 open proposals (2). all ok since 1 folds ago\n"
     ]
    },
    {
     "name": "stderr",
     "output_type": "stream",
     "text": [
      "Warning, test fold 118 (2022-09-23 00:00:00) with less than 5 open proposals (1). all ok since 1 folds ago\n"
     ]
    },
    {
     "name": "stderr",
     "output_type": "stream",
     "text": [
      "Warning, empty test fold 119 (2022-09-28 00:00:00), all ok since 7 folds ago\n",
      "Warning, empty test fold 120 (2022-10-03 00:00:00), all ok since 1 folds ago\n"
     ]
    },
    {
     "name": "stderr",
     "output_type": "stream",
     "text": [
      "Warning, empty test fold 121 (2022-10-08 00:00:00), all ok since 1 folds ago\n"
     ]
    },
    {
     "name": "stderr",
     "output_type": "stream",
     "text": [
      "Warning, empty test fold 123 (2022-10-18 00:00:00), all ok since 2 folds ago\n",
      "Warning, empty test fold 124 (2022-10-23 00:00:00), all ok since 1 folds ago\n"
     ]
    },
    {
     "name": "stderr",
     "output_type": "stream",
     "text": [
      "Warning, test fold 125 (2022-10-28 00:00:00) with less than 5 open proposals (2). all ok since 1 folds ago\n"
     ]
    },
    {
     "name": "stderr",
     "output_type": "stream",
     "text": [
      "Warning, test fold 126 (2022-11-02 00:00:00) with less than 5 open proposals (1). all ok since 1 folds ago\n"
     ]
    },
    {
     "name": "stderr",
     "output_type": "stream",
     "text": [
      "Warning, test fold 127 (2022-11-07 00:00:00) with less than 5 open proposals (2). all ok since 1 folds ago\n"
     ]
    },
    {
     "name": "stderr",
     "output_type": "stream",
     "text": [
      "Warning, test fold 128 (2022-11-12 00:00:00) with less than 5 open proposals (4). all ok since 1 folds ago\n"
     ]
    },
    {
     "name": "stderr",
     "output_type": "stream",
     "text": [
      "Warning, test fold 130 (2022-11-22 00:00:00) with less than 5 open proposals (2). all ok since 2 folds ago\n"
     ]
    },
    {
     "name": "stderr",
     "output_type": "stream",
     "text": [
      "Warning, empty test fold 132 (2022-12-02 00:00:00), all ok since 8 folds ago\n",
      "Warning, test fold 133 (2022-12-07 00:00:00) with less than 5 open proposals (4). all ok since 1 folds ago\n"
     ]
    },
    {
     "name": "stderr",
     "output_type": "stream",
     "text": [
      "Warning, test fold 134 (2022-12-12 00:00:00) with less than 5 open proposals (1). all ok since 1 folds ago\n"
     ]
    },
    {
     "name": "stderr",
     "output_type": "stream",
     "text": [
      "Warning, test fold 135 (2022-12-17 00:00:00) with less than 5 open proposals (1). all ok since 1 folds ago\n"
     ]
    },
    {
     "name": "stderr",
     "output_type": "stream",
     "text": [
      "Warning, test fold 136 (2022-12-22 00:00:00) with less than 5 open proposals (4). all ok since 1 folds ago\n"
     ]
    },
    {
     "name": "stderr",
     "output_type": "stream",
     "text": [
      "Warning, empty test fold 137 (2022-12-27 00:00:00), all ok since 5 folds ago\n",
      "Warning, empty test fold 138 (2023-01-01 00:00:00), all ok since 1 folds ago\n"
     ]
    },
    {
     "name": "stderr",
     "output_type": "stream",
     "text": [
      "Warning, empty test fold 139 (2023-01-06 00:00:00), all ok since 1 folds ago\n",
      "Warning, test fold 140 (2023-01-11 00:00:00) with less than 5 open proposals (1). all ok since 1 folds ago\n"
     ]
    },
    {
     "name": "stderr",
     "output_type": "stream",
     "text": [
      "Warning, empty test fold 145 (2023-02-05 00:00:00), all ok since 6 folds ago\n",
      "Warning, test fold 146 (2023-02-10 00:00:00) with less than 5 open proposals (1). all ok since 1 folds ago\n"
     ]
    },
    {
     "name": "stderr",
     "output_type": "stream",
     "text": [
      "Warning, test fold 147 (2023-02-15 00:00:00) with less than 5 open proposals (3). all ok since 1 folds ago\n"
     ]
    },
    {
     "name": "stderr",
     "output_type": "stream",
     "text": [
      "Warning, test fold 148 (2023-02-20 00:00:00) with less than 5 open proposals (2). all ok since 1 folds ago\n"
     ]
    },
    {
     "name": "stderr",
     "output_type": "stream",
     "text": [
      "Warning, test fold 150 (2023-03-02 00:00:00) with less than 5 open proposals (2). all ok since 2 folds ago\n"
     ]
    },
    {
     "name": "stderr",
     "output_type": "stream",
     "text": [
      "Warning, empty test fold 151 (2023-03-07 00:00:00), all ok since 6 folds ago\n",
      "Warning, test fold 152 (2023-03-12 00:00:00) with less than 5 open proposals (1). all ok since 1 folds ago\n"
     ]
    },
    {
     "name": "stderr",
     "output_type": "stream",
     "text": [
      "Warning, empty test fold 153 (2023-03-17 00:00:00), all ok since 2 folds ago\n",
      "Warning, test fold 154 (2023-03-22 00:00:00) with less than 5 open proposals (1). all ok since 1 folds ago\n"
     ]
    },
    {
     "name": "stderr",
     "output_type": "stream",
     "text": [
      "Warning, empty test fold 155 (2023-03-27 00:00:00), all ok since 2 folds ago\n"
     ]
    },
    {
     "name": "stderr",
     "output_type": "stream",
     "text": [
      "Warning, test fold 158 (2023-04-11 00:00:00) with less than 5 open proposals (3). all ok since 3 folds ago\n"
     ]
    },
    {
     "name": "stderr",
     "output_type": "stream",
     "text": [
      "Warning, test fold 159 (2023-04-16 00:00:00) with less than 5 open proposals (1). all ok since 1 folds ago\n"
     ]
    },
    {
     "name": "stderr",
     "output_type": "stream",
     "text": [
      "Warning, test fold 160 (2023-04-21 00:00:00) with less than 5 open proposals (1). all ok since 1 folds ago\n"
     ]
    },
    {
     "name": "stderr",
     "output_type": "stream",
     "text": [
      "Warning, test fold 161 (2023-04-26 00:00:00) with less than 5 open proposals (2). all ok since 1 folds ago\n"
     ]
    },
    {
     "name": "stderr",
     "output_type": "stream",
     "text": [
      "Warning, test fold 162 (2023-05-01 00:00:00) with less than 5 open proposals (4). all ok since 1 folds ago\n"
     ]
    },
    {
     "name": "stderr",
     "output_type": "stream",
     "text": [
      "Warning, empty test fold 163 (2023-05-06 00:00:00), all ok since 8 folds ago\n",
      "Warning, test fold 164 (2023-05-11 00:00:00) with less than 5 open proposals (1). all ok since 1 folds ago\n"
     ]
    },
    {
     "name": "stderr",
     "output_type": "stream",
     "text": [
      "Warning, test fold 165 (2023-05-16 00:00:00) with less than 5 open proposals (1). all ok since 1 folds ago\n"
     ]
    },
    {
     "name": "stderr",
     "output_type": "stream",
     "text": [
      "Warning, test fold 166 (2023-05-21 00:00:00) with less than 5 open proposals (3). all ok since 1 folds ago\n"
     ]
    },
    {
     "name": "stderr",
     "output_type": "stream",
     "text": [
      "Warning, test fold 167 (2023-05-26 00:00:00) with less than 5 open proposals (3). all ok since 1 folds ago\n"
     ]
    },
    {
     "name": "stderr",
     "output_type": "stream",
     "text": [
      "Warning, empty test fold 168 (2023-05-31 00:00:00), all ok since 5 folds ago\n",
      "Warning, test fold 169 (2023-06-05 00:00:00) with less than 5 open proposals (4). all ok since 1 folds ago\n"
     ]
    },
    {
     "name": "stderr",
     "output_type": "stream",
     "text": [
      "Warning, test fold 170 (2023-06-10 00:00:00) with less than 5 open proposals (2). all ok since 1 folds ago\n"
     ]
    },
    {
     "name": "stderr",
     "output_type": "stream",
     "text": [
      "Warning, test fold 172 (2023-06-20 00:00:00) with less than 5 open proposals (4). all ok since 2 folds ago\n"
     ]
    },
    {
     "name": "stderr",
     "output_type": "stream",
     "text": [
      "Warning, test fold 174 (2023-06-30 00:00:00) with less than 5 open proposals (2). all ok since 2 folds ago\n"
     ]
    },
    {
     "name": "stderr",
     "output_type": "stream",
     "text": [
      "Warning, test fold 175 (2023-07-05 00:00:00) with less than 5 open proposals (1). all ok since 1 folds ago\n"
     ]
    },
    {
     "name": "stderr",
     "output_type": "stream",
     "text": [
      "Warning, test fold 176 (2023-07-10 00:00:00) with less than 5 open proposals (1). all ok since 1 folds ago\n"
     ]
    },
    {
     "name": "stdout",
     "output_type": "stream",
     "text": [
      "Max ok in a row: (28, Timestamp('2022-03-22 00:00:00'))\n"
     ]
    }
   ],
   "source": [
    "WARNING_AT_LEAST_OPEN = 5\n",
    "\n",
    "folds = list(cvtt_open(df, SPLITS_FREQ, dfp, remove_not_in_train_col='userID', normalize=SPLITS_NORMALIZE))\n",
    "metrics = []\n",
    "perfectmetrics = []\n",
    "\n",
    "first_empty = True\n",
    "ok_in_a_row = best_in_a_row = 0\n",
    "max_ok_in_a_row = (-1, folds[-1].end)\n",
    "for i, (train, test, t, open_proposals) in enumerate(tqdm(folds)):   \n",
    "    if first_empty:\n",
    "        if not train.empty:\n",
    "            first_empty = False\n",
    "    else:\n",
    "        assert not train.empty, f\"Train should not be empty on fold {i}\"\n",
    "    if test.empty:\n",
    "        print(f\"Warning, empty test fold {i} ({t}), all ok since {ok_in_a_row} folds ago\", file=sys.stderr)\n",
    "        ok_in_a_row = best_in_a_row = 0\n",
    "    elif len(open_proposals) < WARNING_AT_LEAST_OPEN:\n",
    "        print(f\"Warning, test fold {i} ({t}) with less than {WARNING_AT_LEAST_OPEN} open proposals ({len(open_proposals)}). all ok since {best_in_a_row} folds ago\", file=sys.stderr)\n",
    "        best_in_a_row = 0\n",
    "\n",
    "    mdict = {'fold': t}\n",
    "    pdict = {'fold': t}\n",
    "    model = OpenPop(train)\n",
    "    recs = model.recommend_k_items(test['userID'].unique(), max(K_RECOMMENDATIONS), recommend_from=open_proposals)\n",
    "    mdict |= calculate_all_metrics(test, recs, K_RECOMMENDATIONS)\n",
    "        # for m, f in metrics_f.items():\n",
    "        #     r = f(test, recs, k=k_recs)\n",
    "        #     metrics[m+f'@{k_recs}'].append(r)\n",
    "    \n",
    "    recs = test.copy()\n",
    "    recs['prediction'] = 1\n",
    "    pdict |= calculate_all_metrics(test, recs, K_RECOMMENDATIONS)\n",
    "\n",
    "        # for m, f in metrics_f.items():\n",
    "        #     # Need relevancy_method=None as they are unsorted\n",
    "        #     r = f(test, recs, k=k_recs)\n",
    "        #     perfectmetrics[m+f'@{k_recs}'].append(r)\n",
    "\n",
    "    metrics.append(mdict)\n",
    "    perfectmetrics.append(pdict)\n",
    "    ok_in_a_row += 1\n",
    "    best_in_a_row += 1\n",
    "\n",
    "    if ok_in_a_row > max_ok_in_a_row[0]:\n",
    "        max_ok_in_a_row = (ok_in_a_row, t)\n",
    "\n",
    "paths.save_dao_datum(ORG_NAME, 'max_ok_folds', str(max_ok_in_a_row[0]))\n",
    "paths.save_dao_datum(ORG_NAME, 'max_ok_folds_date', str(max_ok_in_a_row[1]))\n",
    "if max_ok_in_a_row[0] == -1:\n",
    "    print(\"All ok :>\")\n",
    "else:\n",
    "    print(\"Max ok in a row:\", max_ok_in_a_row)"
   ]
  },
  {
   "cell_type": "markdown",
   "id": "1844a49c",
   "metadata": {
    "papermill": {
     "duration": 0.005717,
     "end_time": "2024-09-16T14:09:04.567015",
     "exception": false,
     "start_time": "2024-09-16T14:09:04.561298",
     "status": "completed"
    },
    "tags": []
   },
   "source": [
    "### Caching these results"
   ]
  },
  {
   "cell_type": "code",
   "execution_count": 10,
   "id": "95dd2a95",
   "metadata": {
    "execution": {
     "iopub.execute_input": "2024-09-16T14:09:04.578610Z",
     "iopub.status.busy": "2024-09-16T14:09:04.578500Z",
     "iopub.status.idle": "2024-09-16T14:09:04.604945Z",
     "shell.execute_reply": "2024-09-16T14:09:04.604750Z"
    },
    "papermill": {
     "duration": 0.033283,
     "end_time": "2024-09-16T14:09:04.605713",
     "exception": false,
     "start_time": "2024-09-16T14:09:04.572430",
     "status": "completed"
    },
    "tags": []
   },
   "outputs": [
    {
     "name": "stdout",
     "output_type": "stream",
     "text": [
      "Saved dataframe into /home/daviddavo/recsys4daos/data/output/Frax/baseline/openpop_5d_normalize.parquet\n"
     ]
    },
    {
     "data": {
      "text/html": [
       "<div>\n",
       "<style scoped>\n",
       "    .dataframe tbody tr th:only-of-type {\n",
       "        vertical-align: middle;\n",
       "    }\n",
       "\n",
       "    .dataframe tbody tr th {\n",
       "        vertical-align: top;\n",
       "    }\n",
       "\n",
       "    .dataframe thead th {\n",
       "        text-align: right;\n",
       "    }\n",
       "</style>\n",
       "<table border=\"1\" class=\"dataframe\">\n",
       "  <thead>\n",
       "    <tr style=\"text-align: right;\">\n",
       "      <th></th>\n",
       "      <th>precision@1</th>\n",
       "      <th>precision@3</th>\n",
       "      <th>precision@5</th>\n",
       "      <th>precision@10</th>\n",
       "      <th>precision@15</th>\n",
       "      <th>precision@100</th>\n",
       "      <th>ndcg@1</th>\n",
       "      <th>ndcg@3</th>\n",
       "      <th>ndcg@5</th>\n",
       "      <th>ndcg@10</th>\n",
       "      <th>...</th>\n",
       "      <th>recall@10</th>\n",
       "      <th>recall@15</th>\n",
       "      <th>recall@100</th>\n",
       "      <th>r-precision@1</th>\n",
       "      <th>r-precision@3</th>\n",
       "      <th>r-precision@5</th>\n",
       "      <th>r-precision@10</th>\n",
       "      <th>r-precision@15</th>\n",
       "      <th>r-precision@100</th>\n",
       "      <th>time_eval</th>\n",
       "    </tr>\n",
       "  </thead>\n",
       "  <tbody>\n",
       "    <tr>\n",
       "      <th>count</th>\n",
       "      <td>178.000000</td>\n",
       "      <td>178.000000</td>\n",
       "      <td>178.000000</td>\n",
       "      <td>178.000000</td>\n",
       "      <td>178.000000</td>\n",
       "      <td>178.000000</td>\n",
       "      <td>178.000000</td>\n",
       "      <td>178.000000</td>\n",
       "      <td>178.000000</td>\n",
       "      <td>178.000000</td>\n",
       "      <td>...</td>\n",
       "      <td>178.000000</td>\n",
       "      <td>178.000000</td>\n",
       "      <td>178.000000</td>\n",
       "      <td>178.000000</td>\n",
       "      <td>177.000000</td>\n",
       "      <td>177.000000</td>\n",
       "      <td>177.000000</td>\n",
       "      <td>177.000000</td>\n",
       "      <td>177.000000</td>\n",
       "      <td>178.000000</td>\n",
       "    </tr>\n",
       "    <tr>\n",
       "      <th>mean</th>\n",
       "      <td>0.477495</td>\n",
       "      <td>0.255496</td>\n",
       "      <td>0.171549</td>\n",
       "      <td>0.090455</td>\n",
       "      <td>0.060303</td>\n",
       "      <td>0.009045</td>\n",
       "      <td>0.474854</td>\n",
       "      <td>0.533077</td>\n",
       "      <td>0.544096</td>\n",
       "      <td>0.549708</td>\n",
       "      <td>...</td>\n",
       "      <td>0.611433</td>\n",
       "      <td>0.611433</td>\n",
       "      <td>0.611433</td>\n",
       "      <td>0.496773</td>\n",
       "      <td>0.576789</td>\n",
       "      <td>0.589157</td>\n",
       "      <td>0.592557</td>\n",
       "      <td>0.592557</td>\n",
       "      <td>0.592557</td>\n",
       "      <td>0.103958</td>\n",
       "    </tr>\n",
       "    <tr>\n",
       "      <th>std</th>\n",
       "      <td>0.424624</td>\n",
       "      <td>0.221060</td>\n",
       "      <td>0.165226</td>\n",
       "      <td>0.092911</td>\n",
       "      <td>0.061941</td>\n",
       "      <td>0.009291</td>\n",
       "      <td>0.425705</td>\n",
       "      <td>0.441525</td>\n",
       "      <td>0.444032</td>\n",
       "      <td>0.445114</td>\n",
       "      <td>...</td>\n",
       "      <td>0.482277</td>\n",
       "      <td>0.482277</td>\n",
       "      <td>0.482277</td>\n",
       "      <td>0.430742</td>\n",
       "      <td>0.460204</td>\n",
       "      <td>0.463224</td>\n",
       "      <td>0.464063</td>\n",
       "      <td>0.464063</td>\n",
       "      <td>0.464063</td>\n",
       "      <td>0.026010</td>\n",
       "    </tr>\n",
       "    <tr>\n",
       "      <th>min</th>\n",
       "      <td>0.000000</td>\n",
       "      <td>0.000000</td>\n",
       "      <td>0.000000</td>\n",
       "      <td>0.000000</td>\n",
       "      <td>0.000000</td>\n",
       "      <td>0.000000</td>\n",
       "      <td>0.000000</td>\n",
       "      <td>0.000000</td>\n",
       "      <td>0.000000</td>\n",
       "      <td>0.000000</td>\n",
       "      <td>...</td>\n",
       "      <td>0.000000</td>\n",
       "      <td>0.000000</td>\n",
       "      <td>0.000000</td>\n",
       "      <td>0.000000</td>\n",
       "      <td>0.000000</td>\n",
       "      <td>0.000000</td>\n",
       "      <td>0.000000</td>\n",
       "      <td>0.000000</td>\n",
       "      <td>0.000000</td>\n",
       "      <td>0.067863</td>\n",
       "    </tr>\n",
       "    <tr>\n",
       "      <th>25%</th>\n",
       "      <td>0.000000</td>\n",
       "      <td>0.000000</td>\n",
       "      <td>0.000000</td>\n",
       "      <td>0.000000</td>\n",
       "      <td>0.000000</td>\n",
       "      <td>0.000000</td>\n",
       "      <td>0.000000</td>\n",
       "      <td>0.000000</td>\n",
       "      <td>0.000000</td>\n",
       "      <td>0.000000</td>\n",
       "      <td>...</td>\n",
       "      <td>0.000000</td>\n",
       "      <td>0.000000</td>\n",
       "      <td>0.000000</td>\n",
       "      <td>0.000000</td>\n",
       "      <td>0.000000</td>\n",
       "      <td>0.000000</td>\n",
       "      <td>0.000000</td>\n",
       "      <td>0.000000</td>\n",
       "      <td>0.000000</td>\n",
       "      <td>0.070517</td>\n",
       "    </tr>\n",
       "    <tr>\n",
       "      <th>50%</th>\n",
       "      <td>0.450725</td>\n",
       "      <td>0.333333</td>\n",
       "      <td>0.200000</td>\n",
       "      <td>0.100000</td>\n",
       "      <td>0.066667</td>\n",
       "      <td>0.010000</td>\n",
       "      <td>0.447619</td>\n",
       "      <td>0.751493</td>\n",
       "      <td>0.766570</td>\n",
       "      <td>0.781841</td>\n",
       "      <td>...</td>\n",
       "      <td>1.000000</td>\n",
       "      <td>1.000000</td>\n",
       "      <td>1.000000</td>\n",
       "      <td>0.544643</td>\n",
       "      <td>0.823529</td>\n",
       "      <td>0.907407</td>\n",
       "      <td>0.916667</td>\n",
       "      <td>0.916667</td>\n",
       "      <td>0.916667</td>\n",
       "      <td>0.120529</td>\n",
       "    </tr>\n",
       "    <tr>\n",
       "      <th>75%</th>\n",
       "      <td>1.000000</td>\n",
       "      <td>0.394097</td>\n",
       "      <td>0.253574</td>\n",
       "      <td>0.126787</td>\n",
       "      <td>0.084525</td>\n",
       "      <td>0.012679</td>\n",
       "      <td>1.000000</td>\n",
       "      <td>0.994874</td>\n",
       "      <td>0.994874</td>\n",
       "      <td>0.994874</td>\n",
       "      <td>...</td>\n",
       "      <td>1.000000</td>\n",
       "      <td>1.000000</td>\n",
       "      <td>1.000000</td>\n",
       "      <td>1.000000</td>\n",
       "      <td>1.000000</td>\n",
       "      <td>1.000000</td>\n",
       "      <td>1.000000</td>\n",
       "      <td>1.000000</td>\n",
       "      <td>1.000000</td>\n",
       "      <td>0.124263</td>\n",
       "    </tr>\n",
       "    <tr>\n",
       "      <th>max</th>\n",
       "      <td>1.000000</td>\n",
       "      <td>0.794872</td>\n",
       "      <td>0.800000</td>\n",
       "      <td>0.478571</td>\n",
       "      <td>0.319048</td>\n",
       "      <td>0.047857</td>\n",
       "      <td>1.000000</td>\n",
       "      <td>1.000000</td>\n",
       "      <td>1.000000</td>\n",
       "      <td>1.000000</td>\n",
       "      <td>...</td>\n",
       "      <td>1.000000</td>\n",
       "      <td>1.000000</td>\n",
       "      <td>1.000000</td>\n",
       "      <td>1.000000</td>\n",
       "      <td>1.000000</td>\n",
       "      <td>1.000000</td>\n",
       "      <td>1.000000</td>\n",
       "      <td>1.000000</td>\n",
       "      <td>1.000000</td>\n",
       "      <td>0.135914</td>\n",
       "    </tr>\n",
       "  </tbody>\n",
       "</table>\n",
       "<p>8 rows × 31 columns</p>\n",
       "</div>"
      ],
      "text/plain": [
       "       precision@1  precision@3  precision@5  precision@10  precision@15  \\\n",
       "count   178.000000   178.000000   178.000000    178.000000    178.000000   \n",
       "mean      0.477495     0.255496     0.171549      0.090455      0.060303   \n",
       "std       0.424624     0.221060     0.165226      0.092911      0.061941   \n",
       "min       0.000000     0.000000     0.000000      0.000000      0.000000   \n",
       "25%       0.000000     0.000000     0.000000      0.000000      0.000000   \n",
       "50%       0.450725     0.333333     0.200000      0.100000      0.066667   \n",
       "75%       1.000000     0.394097     0.253574      0.126787      0.084525   \n",
       "max       1.000000     0.794872     0.800000      0.478571      0.319048   \n",
       "\n",
       "       precision@100      ndcg@1      ndcg@3      ndcg@5     ndcg@10  ...  \\\n",
       "count     178.000000  178.000000  178.000000  178.000000  178.000000  ...   \n",
       "mean        0.009045    0.474854    0.533077    0.544096    0.549708  ...   \n",
       "std         0.009291    0.425705    0.441525    0.444032    0.445114  ...   \n",
       "min         0.000000    0.000000    0.000000    0.000000    0.000000  ...   \n",
       "25%         0.000000    0.000000    0.000000    0.000000    0.000000  ...   \n",
       "50%         0.010000    0.447619    0.751493    0.766570    0.781841  ...   \n",
       "75%         0.012679    1.000000    0.994874    0.994874    0.994874  ...   \n",
       "max         0.047857    1.000000    1.000000    1.000000    1.000000  ...   \n",
       "\n",
       "        recall@10   recall@15  recall@100  r-precision@1  r-precision@3  \\\n",
       "count  178.000000  178.000000  178.000000     178.000000     177.000000   \n",
       "mean     0.611433    0.611433    0.611433       0.496773       0.576789   \n",
       "std      0.482277    0.482277    0.482277       0.430742       0.460204   \n",
       "min      0.000000    0.000000    0.000000       0.000000       0.000000   \n",
       "25%      0.000000    0.000000    0.000000       0.000000       0.000000   \n",
       "50%      1.000000    1.000000    1.000000       0.544643       0.823529   \n",
       "75%      1.000000    1.000000    1.000000       1.000000       1.000000   \n",
       "max      1.000000    1.000000    1.000000       1.000000       1.000000   \n",
       "\n",
       "       r-precision@5  r-precision@10  r-precision@15  r-precision@100  \\\n",
       "count     177.000000      177.000000      177.000000       177.000000   \n",
       "mean        0.589157        0.592557        0.592557         0.592557   \n",
       "std         0.463224        0.464063        0.464063         0.464063   \n",
       "min         0.000000        0.000000        0.000000         0.000000   \n",
       "25%         0.000000        0.000000        0.000000         0.000000   \n",
       "50%         0.907407        0.916667        0.916667         0.916667   \n",
       "75%         1.000000        1.000000        1.000000         1.000000   \n",
       "max         1.000000        1.000000        1.000000         1.000000   \n",
       "\n",
       "        time_eval  \n",
       "count  178.000000  \n",
       "mean     0.103958  \n",
       "std      0.026010  \n",
       "min      0.067863  \n",
       "25%      0.070517  \n",
       "50%      0.120529  \n",
       "75%      0.124263  \n",
       "max      0.135914  \n",
       "\n",
       "[8 rows x 31 columns]"
      ]
     },
     "execution_count": 10,
     "metadata": {},
     "output_type": "execute_result"
    }
   ],
   "source": [
    "odf = pd.DataFrame(metrics).set_index(\"fold\")\n",
    "paths.save_openpop(odf, ORG_NAME, SPLITS_FREQ, SPLITS_NORMALIZE)\n",
    "odf.describe()"
   ]
  },
  {
   "cell_type": "code",
   "execution_count": 11,
   "id": "236b8af0",
   "metadata": {
    "execution": {
     "iopub.execute_input": "2024-09-16T14:09:04.617309Z",
     "iopub.status.busy": "2024-09-16T14:09:04.617186Z",
     "iopub.status.idle": "2024-09-16T14:09:04.642417Z",
     "shell.execute_reply": "2024-09-16T14:09:04.642227Z"
    },
    "papermill": {
     "duration": 0.031785,
     "end_time": "2024-09-16T14:09:04.643051",
     "exception": false,
     "start_time": "2024-09-16T14:09:04.611266",
     "status": "completed"
    },
    "tags": []
   },
   "outputs": [
    {
     "name": "stdout",
     "output_type": "stream",
     "text": [
      "Saved dataframe into /home/daviddavo/recsys4daos/data/output/Frax/baseline/perfect_5d_normalize.parquet\n"
     ]
    },
    {
     "data": {
      "text/html": [
       "<div>\n",
       "<style scoped>\n",
       "    .dataframe tbody tr th:only-of-type {\n",
       "        vertical-align: middle;\n",
       "    }\n",
       "\n",
       "    .dataframe tbody tr th {\n",
       "        vertical-align: top;\n",
       "    }\n",
       "\n",
       "    .dataframe thead th {\n",
       "        text-align: right;\n",
       "    }\n",
       "</style>\n",
       "<table border=\"1\" class=\"dataframe\">\n",
       "  <thead>\n",
       "    <tr style=\"text-align: right;\">\n",
       "      <th></th>\n",
       "      <th>precision@1</th>\n",
       "      <th>precision@3</th>\n",
       "      <th>precision@5</th>\n",
       "      <th>precision@10</th>\n",
       "      <th>precision@15</th>\n",
       "      <th>precision@100</th>\n",
       "      <th>ndcg@1</th>\n",
       "      <th>ndcg@3</th>\n",
       "      <th>ndcg@5</th>\n",
       "      <th>ndcg@10</th>\n",
       "      <th>...</th>\n",
       "      <th>recall@10</th>\n",
       "      <th>recall@15</th>\n",
       "      <th>recall@100</th>\n",
       "      <th>r-precision@1</th>\n",
       "      <th>r-precision@3</th>\n",
       "      <th>r-precision@5</th>\n",
       "      <th>r-precision@10</th>\n",
       "      <th>r-precision@15</th>\n",
       "      <th>r-precision@100</th>\n",
       "      <th>time_eval</th>\n",
       "    </tr>\n",
       "  </thead>\n",
       "  <tbody>\n",
       "    <tr>\n",
       "      <th>count</th>\n",
       "      <td>178.000000</td>\n",
       "      <td>178.000000</td>\n",
       "      <td>178.000000</td>\n",
       "      <td>178.000000</td>\n",
       "      <td>178.000000</td>\n",
       "      <td>178.000000</td>\n",
       "      <td>178.000000</td>\n",
       "      <td>178.000000</td>\n",
       "      <td>178.000000</td>\n",
       "      <td>178.000000</td>\n",
       "      <td>...</td>\n",
       "      <td>178.000000</td>\n",
       "      <td>178.000000</td>\n",
       "      <td>178.000000</td>\n",
       "      <td>178.000000</td>\n",
       "      <td>178.000000</td>\n",
       "      <td>178.000000</td>\n",
       "      <td>178.000000</td>\n",
       "      <td>178.000000</td>\n",
       "      <td>178.000000</td>\n",
       "      <td>178.000000</td>\n",
       "    </tr>\n",
       "    <tr>\n",
       "      <th>mean</th>\n",
       "      <td>0.657303</td>\n",
       "      <td>0.295772</td>\n",
       "      <td>0.188207</td>\n",
       "      <td>0.096125</td>\n",
       "      <td>0.064083</td>\n",
       "      <td>0.009612</td>\n",
       "      <td>0.657303</td>\n",
       "      <td>0.657303</td>\n",
       "      <td>0.657303</td>\n",
       "      <td>0.657303</td>\n",
       "      <td>...</td>\n",
       "      <td>0.657303</td>\n",
       "      <td>0.657303</td>\n",
       "      <td>0.657303</td>\n",
       "      <td>0.561666</td>\n",
       "      <td>0.643938</td>\n",
       "      <td>0.654777</td>\n",
       "      <td>0.657303</td>\n",
       "      <td>0.657303</td>\n",
       "      <td>0.657303</td>\n",
       "      <td>0.111046</td>\n",
       "    </tr>\n",
       "    <tr>\n",
       "      <th>std</th>\n",
       "      <td>0.475950</td>\n",
       "      <td>0.250538</td>\n",
       "      <td>0.174431</td>\n",
       "      <td>0.093124</td>\n",
       "      <td>0.062082</td>\n",
       "      <td>0.009312</td>\n",
       "      <td>0.475950</td>\n",
       "      <td>0.475950</td>\n",
       "      <td>0.475950</td>\n",
       "      <td>0.475950</td>\n",
       "      <td>...</td>\n",
       "      <td>0.475950</td>\n",
       "      <td>0.475950</td>\n",
       "      <td>0.475950</td>\n",
       "      <td>0.435156</td>\n",
       "      <td>0.468609</td>\n",
       "      <td>0.474389</td>\n",
       "      <td>0.475950</td>\n",
       "      <td>0.475950</td>\n",
       "      <td>0.475950</td>\n",
       "      <td>0.030424</td>\n",
       "    </tr>\n",
       "    <tr>\n",
       "      <th>min</th>\n",
       "      <td>0.000000</td>\n",
       "      <td>0.000000</td>\n",
       "      <td>0.000000</td>\n",
       "      <td>0.000000</td>\n",
       "      <td>0.000000</td>\n",
       "      <td>0.000000</td>\n",
       "      <td>0.000000</td>\n",
       "      <td>0.000000</td>\n",
       "      <td>0.000000</td>\n",
       "      <td>0.000000</td>\n",
       "      <td>...</td>\n",
       "      <td>0.000000</td>\n",
       "      <td>0.000000</td>\n",
       "      <td>0.000000</td>\n",
       "      <td>0.000000</td>\n",
       "      <td>0.000000</td>\n",
       "      <td>0.000000</td>\n",
       "      <td>0.000000</td>\n",
       "      <td>0.000000</td>\n",
       "      <td>0.000000</td>\n",
       "      <td>0.071749</td>\n",
       "    </tr>\n",
       "    <tr>\n",
       "      <th>25%</th>\n",
       "      <td>0.000000</td>\n",
       "      <td>0.000000</td>\n",
       "      <td>0.000000</td>\n",
       "      <td>0.000000</td>\n",
       "      <td>0.000000</td>\n",
       "      <td>0.000000</td>\n",
       "      <td>0.000000</td>\n",
       "      <td>0.000000</td>\n",
       "      <td>0.000000</td>\n",
       "      <td>0.000000</td>\n",
       "      <td>...</td>\n",
       "      <td>0.000000</td>\n",
       "      <td>0.000000</td>\n",
       "      <td>0.000000</td>\n",
       "      <td>0.000000</td>\n",
       "      <td>0.000000</td>\n",
       "      <td>0.000000</td>\n",
       "      <td>0.000000</td>\n",
       "      <td>0.000000</td>\n",
       "      <td>0.000000</td>\n",
       "      <td>0.073715</td>\n",
       "    </tr>\n",
       "    <tr>\n",
       "      <th>50%</th>\n",
       "      <td>1.000000</td>\n",
       "      <td>0.333333</td>\n",
       "      <td>0.200000</td>\n",
       "      <td>0.100000</td>\n",
       "      <td>0.066667</td>\n",
       "      <td>0.010000</td>\n",
       "      <td>1.000000</td>\n",
       "      <td>1.000000</td>\n",
       "      <td>1.000000</td>\n",
       "      <td>1.000000</td>\n",
       "      <td>...</td>\n",
       "      <td>1.000000</td>\n",
       "      <td>1.000000</td>\n",
       "      <td>1.000000</td>\n",
       "      <td>0.736111</td>\n",
       "      <td>1.000000</td>\n",
       "      <td>1.000000</td>\n",
       "      <td>1.000000</td>\n",
       "      <td>1.000000</td>\n",
       "      <td>1.000000</td>\n",
       "      <td>0.127424</td>\n",
       "    </tr>\n",
       "    <tr>\n",
       "      <th>75%</th>\n",
       "      <td>1.000000</td>\n",
       "      <td>0.429724</td>\n",
       "      <td>0.257834</td>\n",
       "      <td>0.128917</td>\n",
       "      <td>0.085945</td>\n",
       "      <td>0.012892</td>\n",
       "      <td>1.000000</td>\n",
       "      <td>1.000000</td>\n",
       "      <td>1.000000</td>\n",
       "      <td>1.000000</td>\n",
       "      <td>...</td>\n",
       "      <td>1.000000</td>\n",
       "      <td>1.000000</td>\n",
       "      <td>1.000000</td>\n",
       "      <td>1.000000</td>\n",
       "      <td>1.000000</td>\n",
       "      <td>1.000000</td>\n",
       "      <td>1.000000</td>\n",
       "      <td>1.000000</td>\n",
       "      <td>1.000000</td>\n",
       "      <td>0.129767</td>\n",
       "    </tr>\n",
       "    <tr>\n",
       "      <th>max</th>\n",
       "      <td>1.000000</td>\n",
       "      <td>1.000000</td>\n",
       "      <td>0.800000</td>\n",
       "      <td>0.478571</td>\n",
       "      <td>0.319048</td>\n",
       "      <td>0.047857</td>\n",
       "      <td>1.000000</td>\n",
       "      <td>1.000000</td>\n",
       "      <td>1.000000</td>\n",
       "      <td>1.000000</td>\n",
       "      <td>...</td>\n",
       "      <td>1.000000</td>\n",
       "      <td>1.000000</td>\n",
       "      <td>1.000000</td>\n",
       "      <td>1.000000</td>\n",
       "      <td>1.000000</td>\n",
       "      <td>1.000000</td>\n",
       "      <td>1.000000</td>\n",
       "      <td>1.000000</td>\n",
       "      <td>1.000000</td>\n",
       "      <td>0.303023</td>\n",
       "    </tr>\n",
       "  </tbody>\n",
       "</table>\n",
       "<p>8 rows × 31 columns</p>\n",
       "</div>"
      ],
      "text/plain": [
       "       precision@1  precision@3  precision@5  precision@10  precision@15  \\\n",
       "count   178.000000   178.000000   178.000000    178.000000    178.000000   \n",
       "mean      0.657303     0.295772     0.188207      0.096125      0.064083   \n",
       "std       0.475950     0.250538     0.174431      0.093124      0.062082   \n",
       "min       0.000000     0.000000     0.000000      0.000000      0.000000   \n",
       "25%       0.000000     0.000000     0.000000      0.000000      0.000000   \n",
       "50%       1.000000     0.333333     0.200000      0.100000      0.066667   \n",
       "75%       1.000000     0.429724     0.257834      0.128917      0.085945   \n",
       "max       1.000000     1.000000     0.800000      0.478571      0.319048   \n",
       "\n",
       "       precision@100      ndcg@1      ndcg@3      ndcg@5     ndcg@10  ...  \\\n",
       "count     178.000000  178.000000  178.000000  178.000000  178.000000  ...   \n",
       "mean        0.009612    0.657303    0.657303    0.657303    0.657303  ...   \n",
       "std         0.009312    0.475950    0.475950    0.475950    0.475950  ...   \n",
       "min         0.000000    0.000000    0.000000    0.000000    0.000000  ...   \n",
       "25%         0.000000    0.000000    0.000000    0.000000    0.000000  ...   \n",
       "50%         0.010000    1.000000    1.000000    1.000000    1.000000  ...   \n",
       "75%         0.012892    1.000000    1.000000    1.000000    1.000000  ...   \n",
       "max         0.047857    1.000000    1.000000    1.000000    1.000000  ...   \n",
       "\n",
       "        recall@10   recall@15  recall@100  r-precision@1  r-precision@3  \\\n",
       "count  178.000000  178.000000  178.000000     178.000000     178.000000   \n",
       "mean     0.657303    0.657303    0.657303       0.561666       0.643938   \n",
       "std      0.475950    0.475950    0.475950       0.435156       0.468609   \n",
       "min      0.000000    0.000000    0.000000       0.000000       0.000000   \n",
       "25%      0.000000    0.000000    0.000000       0.000000       0.000000   \n",
       "50%      1.000000    1.000000    1.000000       0.736111       1.000000   \n",
       "75%      1.000000    1.000000    1.000000       1.000000       1.000000   \n",
       "max      1.000000    1.000000    1.000000       1.000000       1.000000   \n",
       "\n",
       "       r-precision@5  r-precision@10  r-precision@15  r-precision@100  \\\n",
       "count     178.000000      178.000000      178.000000       178.000000   \n",
       "mean        0.654777        0.657303        0.657303         0.657303   \n",
       "std         0.474389        0.475950        0.475950         0.475950   \n",
       "min         0.000000        0.000000        0.000000         0.000000   \n",
       "25%         0.000000        0.000000        0.000000         0.000000   \n",
       "50%         1.000000        1.000000        1.000000         1.000000   \n",
       "75%         1.000000        1.000000        1.000000         1.000000   \n",
       "max         1.000000        1.000000        1.000000         1.000000   \n",
       "\n",
       "        time_eval  \n",
       "count  178.000000  \n",
       "mean     0.111046  \n",
       "std      0.030424  \n",
       "min      0.071749  \n",
       "25%      0.073715  \n",
       "50%      0.127424  \n",
       "75%      0.129767  \n",
       "max      0.303023  \n",
       "\n",
       "[8 rows x 31 columns]"
      ]
     },
     "metadata": {},
     "output_type": "display_data"
    }
   ],
   "source": [
    "pdf = pd.DataFrame(perfectmetrics).set_index(\"fold\")\n",
    "cols = [ c for c in pdf.columns if not c.startswith('time_') ]\n",
    "paths.save_perfect(pdf, ORG_NAME, SPLITS_FREQ, SPLITS_NORMALIZE)\n",
    "display(pdf.describe())\n",
    "msk = (0 <= pdf[cols].min()) & (pdf[cols].max() <= 1)\n",
    "if not all(msk):\n",
    "    display(pdf.describe()[msk[~msk].index])\n",
    "assert all( msk ), \"There are metrics with wrong range\""
   ]
  },
  {
   "cell_type": "markdown",
   "id": "ef3e8895",
   "metadata": {
    "papermill": {
     "duration": 0.005876,
     "end_time": "2024-09-16T14:09:04.654718",
     "exception": false,
     "start_time": "2024-09-16T14:09:04.648842",
     "status": "completed"
    },
    "tags": []
   },
   "source": [
    "## Plotting some graphs"
   ]
  },
  {
   "cell_type": "code",
   "execution_count": 12,
   "id": "fed2cb9e",
   "metadata": {
    "execution": {
     "iopub.execute_input": "2024-09-16T14:09:04.666700Z",
     "iopub.status.busy": "2024-09-16T14:09:04.666505Z",
     "iopub.status.idle": "2024-09-16T14:09:04.802072Z",
     "shell.execute_reply": "2024-09-16T14:09:04.801836Z"
    },
    "papermill": {
     "duration": 0.142445,
     "end_time": "2024-09-16T14:09:04.802828",
     "exception": false,
     "start_time": "2024-09-16T14:09:04.660383",
     "status": "completed"
    },
    "tags": []
   },
   "outputs": [
    {
     "data": {
      "text/html": [
       "<div>\n",
       "<style scoped>\n",
       "    .dataframe tbody tr th:only-of-type {\n",
       "        vertical-align: middle;\n",
       "    }\n",
       "\n",
       "    .dataframe tbody tr th {\n",
       "        vertical-align: top;\n",
       "    }\n",
       "\n",
       "    .dataframe thead th {\n",
       "        text-align: right;\n",
       "    }\n",
       "</style>\n",
       "<table border=\"1\" class=\"dataframe\">\n",
       "  <thead>\n",
       "    <tr style=\"text-align: right;\">\n",
       "      <th></th>\n",
       "      <th>fold</th>\n",
       "      <th>precision@1</th>\n",
       "      <th>precision@3</th>\n",
       "      <th>precision@5</th>\n",
       "      <th>precision@10</th>\n",
       "      <th>precision@15</th>\n",
       "      <th>precision@100</th>\n",
       "      <th>ndcg@1</th>\n",
       "      <th>ndcg@3</th>\n",
       "      <th>ndcg@5</th>\n",
       "      <th>...</th>\n",
       "      <th>recall@100</th>\n",
       "      <th>r-precision@1</th>\n",
       "      <th>r-precision@3</th>\n",
       "      <th>r-precision@5</th>\n",
       "      <th>r-precision@10</th>\n",
       "      <th>r-precision@15</th>\n",
       "      <th>r-precision@100</th>\n",
       "      <th>time_eval</th>\n",
       "      <th>perfect precision@5</th>\n",
       "      <th>perfect precision@10</th>\n",
       "    </tr>\n",
       "  </thead>\n",
       "  <tbody>\n",
       "    <tr>\n",
       "      <th>count</th>\n",
       "      <td>178</td>\n",
       "      <td>178.000000</td>\n",
       "      <td>178.000000</td>\n",
       "      <td>178.000000</td>\n",
       "      <td>178.000000</td>\n",
       "      <td>178.000000</td>\n",
       "      <td>178.000000</td>\n",
       "      <td>178.000000</td>\n",
       "      <td>178.000000</td>\n",
       "      <td>178.000000</td>\n",
       "      <td>...</td>\n",
       "      <td>178.000000</td>\n",
       "      <td>178.000000</td>\n",
       "      <td>177.000000</td>\n",
       "      <td>177.000000</td>\n",
       "      <td>177.000000</td>\n",
       "      <td>177.000000</td>\n",
       "      <td>177.000000</td>\n",
       "      <td>178.000000</td>\n",
       "      <td>0.0</td>\n",
       "      <td>0.0</td>\n",
       "    </tr>\n",
       "    <tr>\n",
       "      <th>mean</th>\n",
       "      <td>2022-04-28 12:00:00</td>\n",
       "      <td>0.477495</td>\n",
       "      <td>0.255496</td>\n",
       "      <td>0.171549</td>\n",
       "      <td>0.090455</td>\n",
       "      <td>0.060303</td>\n",
       "      <td>0.009045</td>\n",
       "      <td>0.474854</td>\n",
       "      <td>0.533077</td>\n",
       "      <td>0.544096</td>\n",
       "      <td>...</td>\n",
       "      <td>0.611433</td>\n",
       "      <td>0.496773</td>\n",
       "      <td>0.576789</td>\n",
       "      <td>0.589157</td>\n",
       "      <td>0.592557</td>\n",
       "      <td>0.592557</td>\n",
       "      <td>0.592557</td>\n",
       "      <td>0.103958</td>\n",
       "      <td>NaN</td>\n",
       "      <td>NaN</td>\n",
       "    </tr>\n",
       "    <tr>\n",
       "      <th>min</th>\n",
       "      <td>2021-02-10 00:00:00</td>\n",
       "      <td>0.000000</td>\n",
       "      <td>0.000000</td>\n",
       "      <td>0.000000</td>\n",
       "      <td>0.000000</td>\n",
       "      <td>0.000000</td>\n",
       "      <td>0.000000</td>\n",
       "      <td>0.000000</td>\n",
       "      <td>0.000000</td>\n",
       "      <td>0.000000</td>\n",
       "      <td>...</td>\n",
       "      <td>0.000000</td>\n",
       "      <td>0.000000</td>\n",
       "      <td>0.000000</td>\n",
       "      <td>0.000000</td>\n",
       "      <td>0.000000</td>\n",
       "      <td>0.000000</td>\n",
       "      <td>0.000000</td>\n",
       "      <td>0.067863</td>\n",
       "      <td>NaN</td>\n",
       "      <td>NaN</td>\n",
       "    </tr>\n",
       "    <tr>\n",
       "      <th>25%</th>\n",
       "      <td>2021-09-19 06:00:00</td>\n",
       "      <td>0.000000</td>\n",
       "      <td>0.000000</td>\n",
       "      <td>0.000000</td>\n",
       "      <td>0.000000</td>\n",
       "      <td>0.000000</td>\n",
       "      <td>0.000000</td>\n",
       "      <td>0.000000</td>\n",
       "      <td>0.000000</td>\n",
       "      <td>0.000000</td>\n",
       "      <td>...</td>\n",
       "      <td>0.000000</td>\n",
       "      <td>0.000000</td>\n",
       "      <td>0.000000</td>\n",
       "      <td>0.000000</td>\n",
       "      <td>0.000000</td>\n",
       "      <td>0.000000</td>\n",
       "      <td>0.000000</td>\n",
       "      <td>0.070517</td>\n",
       "      <td>NaN</td>\n",
       "      <td>NaN</td>\n",
       "    </tr>\n",
       "    <tr>\n",
       "      <th>50%</th>\n",
       "      <td>2022-04-28 12:00:00</td>\n",
       "      <td>0.450725</td>\n",
       "      <td>0.333333</td>\n",
       "      <td>0.200000</td>\n",
       "      <td>0.100000</td>\n",
       "      <td>0.066667</td>\n",
       "      <td>0.010000</td>\n",
       "      <td>0.447619</td>\n",
       "      <td>0.751493</td>\n",
       "      <td>0.766570</td>\n",
       "      <td>...</td>\n",
       "      <td>1.000000</td>\n",
       "      <td>0.544643</td>\n",
       "      <td>0.823529</td>\n",
       "      <td>0.907407</td>\n",
       "      <td>0.916667</td>\n",
       "      <td>0.916667</td>\n",
       "      <td>0.916667</td>\n",
       "      <td>0.120529</td>\n",
       "      <td>NaN</td>\n",
       "      <td>NaN</td>\n",
       "    </tr>\n",
       "    <tr>\n",
       "      <th>75%</th>\n",
       "      <td>2022-12-05 18:00:00</td>\n",
       "      <td>1.000000</td>\n",
       "      <td>0.394097</td>\n",
       "      <td>0.253574</td>\n",
       "      <td>0.126787</td>\n",
       "      <td>0.084525</td>\n",
       "      <td>0.012679</td>\n",
       "      <td>1.000000</td>\n",
       "      <td>0.994874</td>\n",
       "      <td>0.994874</td>\n",
       "      <td>...</td>\n",
       "      <td>1.000000</td>\n",
       "      <td>1.000000</td>\n",
       "      <td>1.000000</td>\n",
       "      <td>1.000000</td>\n",
       "      <td>1.000000</td>\n",
       "      <td>1.000000</td>\n",
       "      <td>1.000000</td>\n",
       "      <td>0.124263</td>\n",
       "      <td>NaN</td>\n",
       "      <td>NaN</td>\n",
       "    </tr>\n",
       "    <tr>\n",
       "      <th>max</th>\n",
       "      <td>2023-07-15 00:00:00</td>\n",
       "      <td>1.000000</td>\n",
       "      <td>0.794872</td>\n",
       "      <td>0.800000</td>\n",
       "      <td>0.478571</td>\n",
       "      <td>0.319048</td>\n",
       "      <td>0.047857</td>\n",
       "      <td>1.000000</td>\n",
       "      <td>1.000000</td>\n",
       "      <td>1.000000</td>\n",
       "      <td>...</td>\n",
       "      <td>1.000000</td>\n",
       "      <td>1.000000</td>\n",
       "      <td>1.000000</td>\n",
       "      <td>1.000000</td>\n",
       "      <td>1.000000</td>\n",
       "      <td>1.000000</td>\n",
       "      <td>1.000000</td>\n",
       "      <td>0.135914</td>\n",
       "      <td>NaN</td>\n",
       "      <td>NaN</td>\n",
       "    </tr>\n",
       "    <tr>\n",
       "      <th>std</th>\n",
       "      <td>NaN</td>\n",
       "      <td>0.424624</td>\n",
       "      <td>0.221060</td>\n",
       "      <td>0.165226</td>\n",
       "      <td>0.092911</td>\n",
       "      <td>0.061941</td>\n",
       "      <td>0.009291</td>\n",
       "      <td>0.425705</td>\n",
       "      <td>0.441525</td>\n",
       "      <td>0.444032</td>\n",
       "      <td>...</td>\n",
       "      <td>0.482277</td>\n",
       "      <td>0.430742</td>\n",
       "      <td>0.460204</td>\n",
       "      <td>0.463224</td>\n",
       "      <td>0.464063</td>\n",
       "      <td>0.464063</td>\n",
       "      <td>0.464063</td>\n",
       "      <td>0.026010</td>\n",
       "      <td>NaN</td>\n",
       "      <td>NaN</td>\n",
       "    </tr>\n",
       "  </tbody>\n",
       "</table>\n",
       "<p>8 rows × 34 columns</p>\n",
       "</div>"
      ],
      "text/plain": [
       "                      fold  precision@1  precision@3  precision@5  \\\n",
       "count                  178   178.000000   178.000000   178.000000   \n",
       "mean   2022-04-28 12:00:00     0.477495     0.255496     0.171549   \n",
       "min    2021-02-10 00:00:00     0.000000     0.000000     0.000000   \n",
       "25%    2021-09-19 06:00:00     0.000000     0.000000     0.000000   \n",
       "50%    2022-04-28 12:00:00     0.450725     0.333333     0.200000   \n",
       "75%    2022-12-05 18:00:00     1.000000     0.394097     0.253574   \n",
       "max    2023-07-15 00:00:00     1.000000     0.794872     0.800000   \n",
       "std                    NaN     0.424624     0.221060     0.165226   \n",
       "\n",
       "       precision@10  precision@15  precision@100      ndcg@1      ndcg@3  \\\n",
       "count    178.000000    178.000000     178.000000  178.000000  178.000000   \n",
       "mean       0.090455      0.060303       0.009045    0.474854    0.533077   \n",
       "min        0.000000      0.000000       0.000000    0.000000    0.000000   \n",
       "25%        0.000000      0.000000       0.000000    0.000000    0.000000   \n",
       "50%        0.100000      0.066667       0.010000    0.447619    0.751493   \n",
       "75%        0.126787      0.084525       0.012679    1.000000    0.994874   \n",
       "max        0.478571      0.319048       0.047857    1.000000    1.000000   \n",
       "std        0.092911      0.061941       0.009291    0.425705    0.441525   \n",
       "\n",
       "           ndcg@5  ...  recall@100  r-precision@1  r-precision@3  \\\n",
       "count  178.000000  ...  178.000000     178.000000     177.000000   \n",
       "mean     0.544096  ...    0.611433       0.496773       0.576789   \n",
       "min      0.000000  ...    0.000000       0.000000       0.000000   \n",
       "25%      0.000000  ...    0.000000       0.000000       0.000000   \n",
       "50%      0.766570  ...    1.000000       0.544643       0.823529   \n",
       "75%      0.994874  ...    1.000000       1.000000       1.000000   \n",
       "max      1.000000  ...    1.000000       1.000000       1.000000   \n",
       "std      0.444032  ...    0.482277       0.430742       0.460204   \n",
       "\n",
       "       r-precision@5  r-precision@10  r-precision@15  r-precision@100  \\\n",
       "count     177.000000      177.000000      177.000000       177.000000   \n",
       "mean        0.589157        0.592557        0.592557         0.592557   \n",
       "min         0.000000        0.000000        0.000000         0.000000   \n",
       "25%         0.000000        0.000000        0.000000         0.000000   \n",
       "50%         0.907407        0.916667        0.916667         0.916667   \n",
       "75%         1.000000        1.000000        1.000000         1.000000   \n",
       "max         1.000000        1.000000        1.000000         1.000000   \n",
       "std         0.463224        0.464063        0.464063         0.464063   \n",
       "\n",
       "        time_eval  perfect precision@5  perfect precision@10  \n",
       "count  178.000000                  0.0                   0.0  \n",
       "mean     0.103958                  NaN                   NaN  \n",
       "min      0.067863                  NaN                   NaN  \n",
       "25%      0.070517                  NaN                   NaN  \n",
       "50%      0.120529                  NaN                   NaN  \n",
       "75%      0.124263                  NaN                   NaN  \n",
       "max      0.135914                  NaN                   NaN  \n",
       "std      0.026010                  NaN                   NaN  \n",
       "\n",
       "[8 rows x 34 columns]"
      ]
     },
     "execution_count": 12,
     "metadata": {},
     "output_type": "execute_result"
    },
    {
     "data": {
      "image/png": "[encoded data removed]",
      "text/plain": [
       "<Figure size 640x480 with 1 Axes>"
      ]
     },
     "metadata": {},
     "output_type": "display_data"
    }
   ],
   "source": [
    "mdf = pd.DataFrame(metrics)\n",
    "mdf['perfect precision@5'] = pdf['precision@5']\n",
    "mdf['perfect precision@10'] = pdf['precision@10']\n",
    "mdf[['precision@5', 'perfect precision@5', 'precision@10', 'perfect precision@10']].plot(title='Evaluación modelo baseline MP')\n",
    "mdf.describe()"
   ]
  },
  {
   "cell_type": "code",
   "execution_count": 13,
   "id": "f4d4a329",
   "metadata": {
    "execution": {
     "iopub.execute_input": "2024-09-16T14:09:04.816568Z",
     "iopub.status.busy": "2024-09-16T14:09:04.816465Z",
     "iopub.status.idle": "2024-09-16T14:09:04.840879Z",
     "shell.execute_reply": "2024-09-16T14:09:04.840695Z"
    },
    "papermill": {
     "duration": 0.031939,
     "end_time": "2024-09-16T14:09:04.841547",
     "exception": false,
     "start_time": "2024-09-16T14:09:04.809608",
     "status": "completed"
    },
    "tags": []
   },
   "outputs": [
    {
     "data": {
      "text/html": [
       "<div>\n",
       "<style scoped>\n",
       "    .dataframe tbody tr th:only-of-type {\n",
       "        vertical-align: middle;\n",
       "    }\n",
       "\n",
       "    .dataframe tbody tr th {\n",
       "        vertical-align: top;\n",
       "    }\n",
       "\n",
       "    .dataframe thead th {\n",
       "        text-align: right;\n",
       "    }\n",
       "</style>\n",
       "<table border=\"1\" class=\"dataframe\">\n",
       "  <thead>\n",
       "    <tr style=\"text-align: right;\">\n",
       "      <th></th>\n",
       "      <th>fold</th>\n",
       "      <th>precision@1</th>\n",
       "      <th>precision@3</th>\n",
       "      <th>precision@5</th>\n",
       "      <th>precision@10</th>\n",
       "      <th>precision@15</th>\n",
       "      <th>precision@100</th>\n",
       "      <th>ndcg@1</th>\n",
       "      <th>ndcg@3</th>\n",
       "      <th>ndcg@5</th>\n",
       "      <th>...</th>\n",
       "      <th>recall@100</th>\n",
       "      <th>r-precision@1</th>\n",
       "      <th>r-precision@3</th>\n",
       "      <th>r-precision@5</th>\n",
       "      <th>r-precision@10</th>\n",
       "      <th>r-precision@15</th>\n",
       "      <th>r-precision@100</th>\n",
       "      <th>time_eval</th>\n",
       "      <th>perfect precision@5</th>\n",
       "      <th>perfect precision@10</th>\n",
       "    </tr>\n",
       "  </thead>\n",
       "  <tbody>\n",
       "    <tr>\n",
       "      <th>count</th>\n",
       "      <td>10</td>\n",
       "      <td>10.000000</td>\n",
       "      <td>10.000000</td>\n",
       "      <td>10.000000</td>\n",
       "      <td>10.000000</td>\n",
       "      <td>10.000000</td>\n",
       "      <td>10.000000</td>\n",
       "      <td>10.000000</td>\n",
       "      <td>10.000000</td>\n",
       "      <td>10.000000</td>\n",
       "      <td>...</td>\n",
       "      <td>10.000000</td>\n",
       "      <td>10.000000</td>\n",
       "      <td>10.000000</td>\n",
       "      <td>10.000000</td>\n",
       "      <td>10.000000</td>\n",
       "      <td>10.000000</td>\n",
       "      <td>10.000000</td>\n",
       "      <td>10.000000</td>\n",
       "      <td>0.0</td>\n",
       "      <td>0.0</td>\n",
       "    </tr>\n",
       "    <tr>\n",
       "      <th>mean</th>\n",
       "      <td>2023-06-22 12:00:00</td>\n",
       "      <td>0.548305</td>\n",
       "      <td>0.332904</td>\n",
       "      <td>0.244790</td>\n",
       "      <td>0.140967</td>\n",
       "      <td>0.093978</td>\n",
       "      <td>0.014097</td>\n",
       "      <td>0.531466</td>\n",
       "      <td>0.567500</td>\n",
       "      <td>0.586661</td>\n",
       "      <td>...</td>\n",
       "      <td>0.683535</td>\n",
       "      <td>0.528713</td>\n",
       "      <td>0.672639</td>\n",
       "      <td>0.700642</td>\n",
       "      <td>0.715754</td>\n",
       "      <td>0.715754</td>\n",
       "      <td>0.715754</td>\n",
       "      <td>0.120818</td>\n",
       "      <td>NaN</td>\n",
       "      <td>NaN</td>\n",
       "    </tr>\n",
       "    <tr>\n",
       "      <th>min</th>\n",
       "      <td>2023-05-31 00:00:00</td>\n",
       "      <td>0.000000</td>\n",
       "      <td>0.000000</td>\n",
       "      <td>0.000000</td>\n",
       "      <td>0.000000</td>\n",
       "      <td>0.000000</td>\n",
       "      <td>0.000000</td>\n",
       "      <td>0.000000</td>\n",
       "      <td>0.000000</td>\n",
       "      <td>0.000000</td>\n",
       "      <td>...</td>\n",
       "      <td>0.000000</td>\n",
       "      <td>0.000000</td>\n",
       "      <td>0.000000</td>\n",
       "      <td>0.000000</td>\n",
       "      <td>0.000000</td>\n",
       "      <td>0.000000</td>\n",
       "      <td>0.000000</td>\n",
       "      <td>0.070783</td>\n",
       "      <td>NaN</td>\n",
       "      <td>NaN</td>\n",
       "    </tr>\n",
       "    <tr>\n",
       "      <th>25%</th>\n",
       "      <td>2023-06-11 06:00:00</td>\n",
       "      <td>0.254167</td>\n",
       "      <td>0.228070</td>\n",
       "      <td>0.136842</td>\n",
       "      <td>0.068421</td>\n",
       "      <td>0.045614</td>\n",
       "      <td>0.006842</td>\n",
       "      <td>0.212500</td>\n",
       "      <td>0.198676</td>\n",
       "      <td>0.189557</td>\n",
       "      <td>...</td>\n",
       "      <td>0.252909</td>\n",
       "      <td>0.275248</td>\n",
       "      <td>0.424554</td>\n",
       "      <td>0.560731</td>\n",
       "      <td>0.585863</td>\n",
       "      <td>0.585863</td>\n",
       "      <td>0.585863</td>\n",
       "      <td>0.123050</td>\n",
       "      <td>NaN</td>\n",
       "      <td>NaN</td>\n",
       "    </tr>\n",
       "    <tr>\n",
       "      <th>50%</th>\n",
       "      <td>2023-06-22 12:00:00</td>\n",
       "      <td>0.542339</td>\n",
       "      <td>0.333333</td>\n",
       "      <td>0.229032</td>\n",
       "      <td>0.114516</td>\n",
       "      <td>0.076344</td>\n",
       "      <td>0.011452</td>\n",
       "      <td>0.512733</td>\n",
       "      <td>0.626555</td>\n",
       "      <td>0.720829</td>\n",
       "      <td>...</td>\n",
       "      <td>1.000000</td>\n",
       "      <td>0.501229</td>\n",
       "      <td>0.745536</td>\n",
       "      <td>0.745536</td>\n",
       "      <td>0.770833</td>\n",
       "      <td>0.770833</td>\n",
       "      <td>0.770833</td>\n",
       "      <td>0.125289</td>\n",
       "      <td>NaN</td>\n",
       "      <td>NaN</td>\n",
       "    </tr>\n",
       "    <tr>\n",
       "      <th>75%</th>\n",
       "      <td>2023-07-03 18:00:00</td>\n",
       "      <td>0.864286</td>\n",
       "      <td>0.482527</td>\n",
       "      <td>0.313333</td>\n",
       "      <td>0.156667</td>\n",
       "      <td>0.104444</td>\n",
       "      <td>0.015667</td>\n",
       "      <td>0.864286</td>\n",
       "      <td>0.936306</td>\n",
       "      <td>0.936306</td>\n",
       "      <td>...</td>\n",
       "      <td>1.000000</td>\n",
       "      <td>0.763258</td>\n",
       "      <td>1.000000</td>\n",
       "      <td>1.000000</td>\n",
       "      <td>1.000000</td>\n",
       "      <td>1.000000</td>\n",
       "      <td>1.000000</td>\n",
       "      <td>0.130680</td>\n",
       "      <td>NaN</td>\n",
       "      <td>NaN</td>\n",
       "    </tr>\n",
       "    <tr>\n",
       "      <th>max</th>\n",
       "      <td>2023-07-15 00:00:00</td>\n",
       "      <td>1.000000</td>\n",
       "      <td>0.547619</td>\n",
       "      <td>0.585714</td>\n",
       "      <td>0.478571</td>\n",
       "      <td>0.319048</td>\n",
       "      <td>0.047857</td>\n",
       "      <td>1.000000</td>\n",
       "      <td>1.000000</td>\n",
       "      <td>1.000000</td>\n",
       "      <td>...</td>\n",
       "      <td>1.000000</td>\n",
       "      <td>1.000000</td>\n",
       "      <td>1.000000</td>\n",
       "      <td>1.000000</td>\n",
       "      <td>1.000000</td>\n",
       "      <td>1.000000</td>\n",
       "      <td>1.000000</td>\n",
       "      <td>0.131144</td>\n",
       "      <td>NaN</td>\n",
       "      <td>NaN</td>\n",
       "    </tr>\n",
       "    <tr>\n",
       "      <th>std</th>\n",
       "      <td>NaN</td>\n",
       "      <td>0.377452</td>\n",
       "      <td>0.181742</td>\n",
       "      <td>0.169284</td>\n",
       "      <td>0.132846</td>\n",
       "      <td>0.088564</td>\n",
       "      <td>0.013285</td>\n",
       "      <td>0.391638</td>\n",
       "      <td>0.392683</td>\n",
       "      <td>0.399306</td>\n",
       "      <td>...</td>\n",
       "      <td>0.431043</td>\n",
       "      <td>0.342903</td>\n",
       "      <td>0.350434</td>\n",
       "      <td>0.334906</td>\n",
       "      <td>0.334706</td>\n",
       "      <td>0.334706</td>\n",
       "      <td>0.334706</td>\n",
       "      <td>0.018191</td>\n",
       "      <td>NaN</td>\n",
       "      <td>NaN</td>\n",
       "    </tr>\n",
       "  </tbody>\n",
       "</table>\n",
       "<p>8 rows × 34 columns</p>\n",
       "</div>"
      ],
      "text/plain": [
       "                      fold  precision@1  precision@3  precision@5  \\\n",
       "count                   10    10.000000    10.000000    10.000000   \n",
       "mean   2023-06-22 12:00:00     0.548305     0.332904     0.244790   \n",
       "min    2023-05-31 00:00:00     0.000000     0.000000     0.000000   \n",
       "25%    2023-06-11 06:00:00     0.254167     0.228070     0.136842   \n",
       "50%    2023-06-22 12:00:00     0.542339     0.333333     0.229032   \n",
       "75%    2023-07-03 18:00:00     0.864286     0.482527     0.313333   \n",
       "max    2023-07-15 00:00:00     1.000000     0.547619     0.585714   \n",
       "std                    NaN     0.377452     0.181742     0.169284   \n",
       "\n",
       "       precision@10  precision@15  precision@100     ndcg@1     ndcg@3  \\\n",
       "count     10.000000     10.000000      10.000000  10.000000  10.000000   \n",
       "mean       0.140967      0.093978       0.014097   0.531466   0.567500   \n",
       "min        0.000000      0.000000       0.000000   0.000000   0.000000   \n",
       "25%        0.068421      0.045614       0.006842   0.212500   0.198676   \n",
       "50%        0.114516      0.076344       0.011452   0.512733   0.626555   \n",
       "75%        0.156667      0.104444       0.015667   0.864286   0.936306   \n",
       "max        0.478571      0.319048       0.047857   1.000000   1.000000   \n",
       "std        0.132846      0.088564       0.013285   0.391638   0.392683   \n",
       "\n",
       "          ndcg@5  ...  recall@100  r-precision@1  r-precision@3  \\\n",
       "count  10.000000  ...   10.000000      10.000000      10.000000   \n",
       "mean    0.586661  ...    0.683535       0.528713       0.672639   \n",
       "min     0.000000  ...    0.000000       0.000000       0.000000   \n",
       "25%     0.189557  ...    0.252909       0.275248       0.424554   \n",
       "50%     0.720829  ...    1.000000       0.501229       0.745536   \n",
       "75%     0.936306  ...    1.000000       0.763258       1.000000   \n",
       "max     1.000000  ...    1.000000       1.000000       1.000000   \n",
       "std     0.399306  ...    0.431043       0.342903       0.350434   \n",
       "\n",
       "       r-precision@5  r-precision@10  r-precision@15  r-precision@100  \\\n",
       "count      10.000000       10.000000       10.000000        10.000000   \n",
       "mean        0.700642        0.715754        0.715754         0.715754   \n",
       "min         0.000000        0.000000        0.000000         0.000000   \n",
       "25%         0.560731        0.585863        0.585863         0.585863   \n",
       "50%         0.745536        0.770833        0.770833         0.770833   \n",
       "75%         1.000000        1.000000        1.000000         1.000000   \n",
       "max         1.000000        1.000000        1.000000         1.000000   \n",
       "std         0.334906        0.334706        0.334706         0.334706   \n",
       "\n",
       "       time_eval  perfect precision@5  perfect precision@10  \n",
       "count  10.000000                  0.0                   0.0  \n",
       "mean    0.120818                  NaN                   NaN  \n",
       "min     0.070783                  NaN                   NaN  \n",
       "25%     0.123050                  NaN                   NaN  \n",
       "50%     0.125289                  NaN                   NaN  \n",
       "75%     0.130680                  NaN                   NaN  \n",
       "max     0.131144                  NaN                   NaN  \n",
       "std     0.018191                  NaN                   NaN  \n",
       "\n",
       "[8 rows x 34 columns]"
      ]
     },
     "execution_count": 13,
     "metadata": {},
     "output_type": "execute_result"
    }
   ],
   "source": [
    "mdf[-LAST_FOLDS:].describe()"
   ]
  },
  {
   "cell_type": "code",
   "execution_count": null,
   "id": "3c0a3bc6",
   "metadata": {
    "papermill": {
     "duration": 0.006116,
     "end_time": "2024-09-16T14:09:04.853783",
     "exception": false,
     "start_time": "2024-09-16T14:09:04.847667",
     "status": "completed"
    },
    "tags": []
   },
   "outputs": [],
   "source": []
  }
 ],
 "metadata": {
  "kernelspec": {
   "display_name": "Python 3 (ipykernel)",
   "language": "python",
   "name": "python3"
  },
  "language_info": {
   "codemirror_mode": {
    "name": "ipython",
    "version": 3
   },
   "file_extension": ".py",
   "mimetype": "text/x-python",
   "name": "python",
   "nbconvert_exporter": "python",
   "pygments_lexer": "ipython3",
   "version": "3.11.6"
  },
  "papermill": {
   "default_parameters": {},
   "duration": 44.997003,
   "end_time": "2024-09-16T14:09:05.876406",
   "environment_variables": {},
   "exception": null,
   "input_path": "10_baseline.ipynb",
   "output_path": "../nbout/Frax/10_baseline.ipynb",
   "parameters": {
    "EXECUTION_ID": "2024-09-04T10:00",
    "LAST_FOLDS": 10,
    "LAST_FOLD_DATE_STR": "2022-05-26",
    "ORG_NAME": "Frax",
    "SPLITS_FREQ": "5d",
    "SPLITS_NORMALIZE": true
   },
   "start_time": "2024-09-16T14:08:20.879403",
   "version": "2.6.0"
  },
  "widgets": {
   "application/vnd.jupyter.widget-state+json": {
    "state": {
     "0542882bca68460483ddfdb83d9681e3": {
      "model_module": "@jupyter-widgets/controls",
      "model_module_version": "2.0.0",
      "model_name": "ProgressStyleModel",
      "state": {
       "_model_module": "@jupyter-widgets/controls",
       "_model_module_version": "2.0.0",
       "_model_name": "ProgressStyleModel",
       "_view_count": null,
       "_view_module": "@jupyter-widgets/base",
       "_view_module_version": "2.0.0",
       "_view_name": "StyleView",
       "bar_color": null,
       "description_width": ""
      }
     },
     "267a586da02c46b382c215abddd8a189": {
      "model_module": "@jupyter-widgets/controls",
      "model_module_version": "2.0.0",
      "model_name": "HTMLModel",
      "state": {
       "_dom_classes": [],
       "_model_module": "@jupyter-widgets/controls",
       "_model_module_version": "2.0.0",
       "_model_name": "HTMLModel",
       "_view_count": null,
       "_view_module": "@jupyter-widgets/controls",
       "_view_module_version": "2.0.0",
       "_view_name": "HTMLView",
       "description": "",
       "description_allow_html": false,
       "layout": "IPY_MODEL_cf01ed19123f4216b03e449dbeef544e",
       "placeholder": "​",
       "style": "IPY_MODEL_b5efc7dc926942f4a8aa278ff3ebebd2",
       "tabbable": null,
       "tooltip": null,
       "value": " 178/178 [00:38&lt;00:00,  3.85it/s]"
      }
     },
     "2e8e358c4d85462c8018208b56f6e7d4": {
      "model_module": "@jupyter-widgets/controls",
      "model_module_version": "2.0.0",
      "model_name": "FloatProgressModel",
      "state": {
       "_dom_classes": [],
       "_model_module": "@jupyter-widgets/controls",
       "_model_module_version": "2.0.0",
       "_model_name": "FloatProgressModel",
       "_view_count": null,
       "_view_module": "@jupyter-widgets/controls",
       "_view_module_version": "2.0.0",
       "_view_name": "ProgressView",
       "bar_style": "success",
       "description": "",
       "description_allow_html": false,
       "layout": "IPY_MODEL_59c6eaaf26a6465e8ca4d38ea8310edc",
       "max": 178.0,
       "min": 0.0,
       "orientation": "horizontal",
       "style": "IPY_MODEL_0542882bca68460483ddfdb83d9681e3",
       "tabbable": null,
       "tooltip": null,
       "value": 178.0
      }
     },
     "59c3c2ee4a89490aba5de44917c7658f": {
      "model_module": "@jupyter-widgets/controls",
      "model_module_version": "2.0.0",
      "model_name": "HBoxModel",
      "state": {
       "_dom_classes": [],
       "_model_module": "@jupyter-widgets/controls",
       "_model_module_version": "2.0.0",
       "_model_name": "HBoxModel",
       "_view_count": null,
       "_view_module": "@jupyter-widgets/controls",
       "_view_module_version": "2.0.0",
       "_view_name": "HBoxView",
       "box_style": "",
       "children": [
        "IPY_MODEL_ba4b7f80e615498a86d06b63d32f8900",
        "IPY_MODEL_2e8e358c4d85462c8018208b56f6e7d4",
        "IPY_MODEL_267a586da02c46b382c215abddd8a189"
       ],
       "layout": "IPY_MODEL_8d72027a33ce4b7699b96ebc703577a4",
       "tabbable": null,
       "tooltip": null
      }
     },
     "59c6eaaf26a6465e8ca4d38ea8310edc": {
      "model_module": "@jupyter-widgets/base",
      "model_module_version": "2.0.0",
      "model_name": "LayoutModel",
      "state": {
       "_model_module": "@jupyter-widgets/base",
       "_model_module_version": "2.0.0",
       "_model_name": "LayoutModel",
       "_view_count": null,
       "_view_module": "@jupyter-widgets/base",
       "_view_module_version": "2.0.0",
       "_view_name": "LayoutView",
       "align_content": null,
       "align_items": null,
       "align_self": null,
       "border_bottom": null,
       "border_left": null,
       "border_right": null,
       "border_top": null,
       "bottom": null,
       "display": null,
       "flex": null,
       "flex_flow": null,
       "grid_area": null,
       "grid_auto_columns": null,
       "grid_auto_flow": null,
       "grid_auto_rows": null,
       "grid_column": null,
       "grid_gap": null,
       "grid_row": null,
       "grid_template_areas": null,
       "grid_template_columns": null,
       "grid_template_rows": null,
       "height": null,
       "justify_content": null,
       "justify_items": null,
       "left": null,
       "margin": null,
       "max_height": null,
       "max_width": null,
       "min_height": null,
       "min_width": null,
       "object_fit": null,
       "object_position": null,
       "order": null,
       "overflow": null,
       "padding": null,
       "right": null,
       "top": null,
       "visibility": null,
       "width": null
      }
     },
     "8d72027a33ce4b7699b96ebc703577a4": {
      "model_module": "@jupyter-widgets/base",
      "model_module_version": "2.0.0",
      "model_name": "LayoutModel",
      "state": {
       "_model_module": "@jupyter-widgets/base",
       "_model_module_version": "2.0.0",
       "_model_name": "LayoutModel",
       "_view_count": null,
       "_view_module": "@jupyter-widgets/base",
       "_view_module_version": "2.0.0",
       "_view_name": "LayoutView",
       "align_content": null,
       "align_items": null,
       "align_self": null,
       "border_bottom": null,
       "border_left": null,
       "border_right": null,
       "border_top": null,
       "bottom": null,
       "display": null,
       "flex": null,
       "flex_flow": null,
       "grid_area": null,
       "grid_auto_columns": null,
       "grid_auto_flow": null,
       "grid_auto_rows": null,
       "grid_column": null,
       "grid_gap": null,
       "grid_row": null,
       "grid_template_areas": null,
       "grid_template_columns": null,
       "grid_template_rows": null,
       "height": null,
       "justify_content": null,
       "justify_items": null,
       "left": null,
       "margin": null,
       "max_height": null,
       "max_width": null,
       "min_height": null,
       "min_width": null,
       "object_fit": null,
       "object_position": null,
       "order": null,
       "overflow": null,
       "padding": null,
       "right": null,
       "top": null,
       "visibility": null,
       "width": null
      }
     },
     "9da9c772de3f4ac189454d7d0a7b4ade": {
      "model_module": "@jupyter-widgets/base",
      "model_module_version": "2.0.0",
      "model_name": "LayoutModel",
      "state": {
       "_model_module": "@jupyter-widgets/base",
       "_model_module_version": "2.0.0",
       "_model_name": "LayoutModel",
       "_view_count": null,
       "_view_module": "@jupyter-widgets/base",
       "_view_module_version": "2.0.0",
       "_view_name": "LayoutView",
       "align_content": null,
       "align_items": null,
       "align_self": null,
       "border_bottom": null,
       "border_left": null,
       "border_right": null,
       "border_top": null,
       "bottom": null,
       "display": null,
       "flex": null,
       "flex_flow": null,
       "grid_area": null,
       "grid_auto_columns": null,
       "grid_auto_flow": null,
       "grid_auto_rows": null,
       "grid_column": null,
       "grid_gap": null,
       "grid_row": null,
       "grid_template_areas": null,
       "grid_template_columns": null,
       "grid_template_rows": null,
       "height": null,
       "justify_content": null,
       "justify_items": null,
       "left": null,
       "margin": null,
       "max_height": null,
       "max_width": null,
       "min_height": null,
       "min_width": null,
       "object_fit": null,
       "object_position": null,
       "order": null,
       "overflow": null,
       "padding": null,
       "right": null,
       "top": null,
       "visibility": null,
       "width": null
      }
     },
     "b5efc7dc926942f4a8aa278ff3ebebd2": {
      "model_module": "@jupyter-widgets/controls",
      "model_module_version": "2.0.0",
      "model_name": "HTMLStyleModel",
      "state": {
       "_model_module": "@jupyter-widgets/controls",
       "_model_module_version": "2.0.0",
       "_model_name": "HTMLStyleModel",
       "_view_count": null,
       "_view_module": "@jupyter-widgets/base",
       "_view_module_version": "2.0.0",
       "_view_name": "StyleView",
       "background": null,
       "description_width": "",
       "font_size": null,
       "text_color": null
      }
     },
     "ba4b7f80e615498a86d06b63d32f8900": {
      "model_module": "@jupyter-widgets/controls",
      "model_module_version": "2.0.0",
      "model_name": "HTMLModel",
      "state": {
       "_dom_classes": [],
       "_model_module": "@jupyter-widgets/controls",
       "_model_module_version": "2.0.0",
       "_model_name": "HTMLModel",
       "_view_count": null,
       "_view_module": "@jupyter-widgets/controls",
       "_view_module_version": "2.0.0",
       "_view_name": "HTMLView",
       "description": "",
       "description_allow_html": false,
       "layout": "IPY_MODEL_9da9c772de3f4ac189454d7d0a7b4ade",
       "placeholder": "​",
       "style": "IPY_MODEL_ca91d456a29b462cb30a69a51c10581e",
       "tabbable": null,
       "tooltip": null,
       "value": "100%"
      }
     },
     "ca91d456a29b462cb30a69a51c10581e": {
      "model_module": "@jupyter-widgets/controls",
      "model_module_version": "2.0.0",
      "model_name": "HTMLStyleModel",
      "state": {
       "_model_module": "@jupyter-widgets/controls",
       "_model_module_version": "2.0.0",
       "_model_name": "HTMLStyleModel",
       "_view_count": null,
       "_view_module": "@jupyter-widgets/base",
       "_view_module_version": "2.0.0",
       "_view_name": "StyleView",
       "background": null,
       "description_width": "",
       "font_size": null,
       "text_color": null
      }
     },
     "cf01ed19123f4216b03e449dbeef544e": {
      "model_module": "@jupyter-widgets/base",
      "model_module_version": "2.0.0",
      "model_name": "LayoutModel",
      "state": {
       "_model_module": "@jupyter-widgets/base",
       "_model_module_version": "2.0.0",
       "_model_name": "LayoutModel",
       "_view_count": null,
       "_view_module": "@jupyter-widgets/base",
       "_view_module_version": "2.0.0",
       "_view_name": "LayoutView",
       "align_content": null,
       "align_items": null,
       "align_self": null,
       "border_bottom": null,
       "border_left": null,
       "border_right": null,
       "border_top": null,
       "bottom": null,
       "display": null,
       "flex": null,
       "flex_flow": null,
       "grid_area": null,
       "grid_auto_columns": null,
       "grid_auto_flow": null,
       "grid_auto_rows": null,
       "grid_column": null,
       "grid_gap": null,
       "grid_row": null,
       "grid_template_areas": null,
       "grid_template_columns": null,
       "grid_template_rows": null,
       "height": null,
       "justify_content": null,
       "justify_items": null,
       "left": null,
       "margin": null,
       "max_height": null,
       "max_width": null,
       "min_height": null,
       "min_width": null,
       "object_fit": null,
       "object_position": null,
       "order": null,
       "overflow": null,
       "padding": null,
       "right": null,
       "top": null,
       "visibility": null,
       "width": null
      }
     }
    },
    "version_major": 2,
    "version_minor": 0
   }
  }
 },
 "nbformat": 4,
 "nbformat_minor": 5
}