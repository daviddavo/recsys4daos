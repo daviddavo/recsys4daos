{
 "cells": [
  {
   "cell_type": "code",
   "execution_count": 1,
   "id": "23ca3bf8",
   "metadata": {
    "editable": true,
    "execution": {
     "iopub.execute_input": "2024-09-05T09:43:35.611061Z",
     "iopub.status.busy": "2024-09-05T09:43:35.610528Z",
     "iopub.status.idle": "2024-09-05T09:43:38.435226Z",
     "shell.execute_reply": "2024-09-05T09:43:38.434784Z"
    },
    "papermill": {
     "duration": 2.833831,
     "end_time": "2024-09-05T09:43:38.436046",
     "exception": false,
     "start_time": "2024-09-05T09:43:35.602215",
     "status": "completed"
    },
    "slideshow": {
     "slide_type": ""
    },
    "tags": []
   },
   "outputs": [
    {
     "name": "stderr",
     "output_type": "stream",
     "text": [
      "/tmp/ipykernel_3821989/1371776918.py:11: TqdmExperimentalWarning: Using `tqdm.autonotebook.tqdm` in notebook mode. Use `tqdm.tqdm` instead to force console mode (e.g. in jupyter console)\n",
      "  from tqdm.autonotebook import tqdm\n"
     ]
    },
    {
     "name": "stdout",
     "output_type": "stream",
     "text": [
      "Ignoring warnings\n",
      "3.11.6 (main, Jun 24 2024, 07:45:26) [GCC 11.4.0]\n",
      "recommenders: 1.2.0\n",
      "ray: 2.30.0\n",
      "tensorflow: 2.16.1\n"
     ]
    }
   ],
   "source": [
    "from typing import List, Dict, Any\n",
    "\n",
    "from pathlib import Path\n",
    "import os, sys\n",
    "import time\n",
    "import datetime as dt\n",
    "import itertools as it\n",
    "\n",
    "import numpy as np\n",
    "import pandas as pd\n",
    "from tqdm.autonotebook import tqdm\n",
    "import ray\n",
    "from ray import train, tune\n",
    "import ipywidgets as widgets\n",
    "\n",
    "from recsys4daos.model_selection import cvtt_open\n",
    "from recsys4daos.datasets import to_microsoft, filter_window_size\n",
    "from recsys4daos.models import LightGCNCustom\n",
    "from recsys4daos.utils import Timer\n",
    "import recsys4daos.utils.notebooks as nbu\n",
    "\n",
    "import recommenders\n",
    "if recommenders.__version__ == '1.2.0':\n",
    "    print(\"Ignoring warnings\")\n",
    "    import warnings\n",
    "    warnings.simplefilter(action='ignore', category=FutureWarning)\n",
    "\n",
    "import paths\n",
    "\n",
    "nbu.print_versions('ray', 'tensorflow')\n",
    "\n",
    "%load_ext autoreload\n",
    "%autoreload 2"
   ]
  },
  {
   "cell_type": "code",
   "execution_count": 2,
   "id": "7d27e6d2",
   "metadata": {
    "editable": true,
    "execution": {
     "iopub.execute_input": "2024-09-05T09:43:38.442126Z",
     "iopub.status.busy": "2024-09-05T09:43:38.441899Z",
     "iopub.status.idle": "2024-09-05T09:43:38.463594Z",
     "shell.execute_reply": "2024-09-05T09:43:38.463365Z"
    },
    "papermill": {
     "duration": 0.025604,
     "end_time": "2024-09-05T09:43:38.464410",
     "exception": false,
     "start_time": "2024-09-05T09:43:38.438806",
     "status": "completed"
    },
    "slideshow": {
     "slide_type": ""
    },
    "tags": [
     "parameters"
    ]
   },
   "outputs": [],
   "source": [
    "# Others config\n",
    "SEED: int = 57\n",
    "RAY_RESULTS_PATH: Path = '~/ray_results3.11'\n",
    "\n",
    "# Dataset splits config\n",
    "ORG_NAME = 'Decentraland'\n",
    "SPLITS_FREQ = 'W-THU'  # Split weekly\n",
    "LAST_FOLDS = 10  # Use just last 10 splits\n",
    "SPLITS_NORMALIZE = True\n",
    "LAST_FOLD_DATE_STR: str = '2023-07-13'\n",
    "\n",
    "# Training config\n",
    "MAX_EPOCHS: int = 200\n",
    "EPOCHS_PER_ITER: int = 5\n",
    "SAMPLES_PER_SPLIT: int = 100\n",
    "MAX_TIME_TOTAL_TRAIN: int = 300\n",
    "OPTIM_METRIC: str = 'map@10'\n",
    "\n",
    "# Search space config\n",
    "MAX_EMBEDDING_DIM = 1024\n",
    "MIN_BATCH_SIZE = 6\n",
    "MAX_BATCH_SIZE = 10 # 2**10\n",
    "MIN_LR = 1e-4\n",
    "# WINDOW_SIZES = ['7d', '14d', '21d', '30d', '60d', '90d', '10YE']\n",
    "WINDOW_SIZES = ['21d', '30d', '60d', '90d', '10YE']\n",
    "GPUS = 16\n",
    "\n",
    "# Eval config\n",
    "K_RECOMMENDATIONS: List[int] = [1,3,5,10,15,100]\n",
    "METRICS: List[str] = [\"recall\", \"ndcg\", \"precision\", \"map\"]"
   ]
  },
  {
   "cell_type": "code",
   "execution_count": 3,
   "id": "ad6e481b",
   "metadata": {
    "execution": {
     "iopub.execute_input": "2024-09-05T09:43:38.469838Z",
     "iopub.status.busy": "2024-09-05T09:43:38.469552Z",
     "iopub.status.idle": "2024-09-05T09:43:38.488366Z",
     "shell.execute_reply": "2024-09-05T09:43:38.488128Z"
    },
    "papermill": {
     "duration": 0.022409,
     "end_time": "2024-09-05T09:43:38.489189",
     "exception": false,
     "start_time": "2024-09-05T09:43:38.466780",
     "status": "completed"
    },
    "tags": [
     "injected-parameters"
    ]
   },
   "outputs": [],
   "source": [
    "# Parameters\n",
    "EXECUTION_ID = \"2024-09-04T10:00\"\n",
    "ORG_NAME = \"dxDAO - xDXdao\"\n",
    "SPLITS_FREQ = \"W-THU\"\n",
    "LAST_FOLDS = 10\n",
    "SPLITS_NORMALIZE = True\n",
    "LAST_FOLD_DATE_STR = \"2022-05-05\"\n"
   ]
  },
  {
   "cell_type": "code",
   "execution_count": 4,
   "id": "f5f33f68",
   "metadata": {
    "execution": {
     "iopub.execute_input": "2024-09-05T09:43:38.494383Z",
     "iopub.status.busy": "2024-09-05T09:43:38.494300Z",
     "iopub.status.idle": "2024-09-05T09:43:38.512105Z",
     "shell.execute_reply": "2024-09-05T09:43:38.511913Z"
    },
    "papermill": {
     "duration": 0.021075,
     "end_time": "2024-09-05T09:43:38.512734",
     "exception": false,
     "start_time": "2024-09-05T09:43:38.491659",
     "status": "completed"
    },
    "tags": []
   },
   "outputs": [],
   "source": [
    "RAY_RESULTS_PATH = Path(RAY_RESULTS_PATH).expanduser()"
   ]
  },
  {
   "cell_type": "markdown",
   "id": "cd2daa8b",
   "metadata": {
    "papermill": {
     "duration": 0.002297,
     "end_time": "2024-09-05T09:43:38.517323",
     "exception": false,
     "start_time": "2024-09-05T09:43:38.515026",
     "status": "completed"
    },
    "tags": []
   },
   "source": [
    "## Obtain dataset"
   ]
  },
  {
   "cell_type": "code",
   "execution_count": 5,
   "id": "6e0149dc",
   "metadata": {
    "execution": {
     "iopub.execute_input": "2024-09-05T09:43:38.522193Z",
     "iopub.status.busy": "2024-09-05T09:43:38.522073Z",
     "iopub.status.idle": "2024-09-05T09:43:38.665597Z",
     "shell.execute_reply": "2024-09-05T09:43:38.664013Z"
    },
    "papermill": {
     "duration": 0.150289,
     "end_time": "2024-09-05T09:43:38.669714",
     "exception": false,
     "start_time": "2024-09-05T09:43:38.519425",
     "status": "completed"
    },
    "tags": []
   },
   "outputs": [
    {
     "name": "stdout",
     "output_type": "stream",
     "text": [
      "/home/daviddavo/recsys4daos/notebooks\r\n"
     ]
    }
   ],
   "source": [
    "!pwd"
   ]
  },
  {
   "cell_type": "code",
   "execution_count": 6,
   "id": "e1a2a125",
   "metadata": {
    "execution": {
     "iopub.execute_input": "2024-09-05T09:43:38.685813Z",
     "iopub.status.busy": "2024-09-05T09:43:38.685671Z",
     "iopub.status.idle": "2024-09-05T09:43:38.747432Z",
     "shell.execute_reply": "2024-09-05T09:43:38.746403Z"
    },
    "papermill": {
     "duration": 0.068781,
     "end_time": "2024-09-05T09:43:38.748830",
     "exception": false,
     "start_time": "2024-09-05T09:43:38.680049",
     "status": "completed"
    },
    "tags": []
   },
   "outputs": [
    {
     "name": "stdout",
     "output_type": "stream",
     "text": [
      "<class 'pandas.core.frame.DataFrame'>\n",
      "RangeIndex: 2356 entries, 0 to 2355\n",
      "Data columns (total 6 columns):\n",
      " #   Column             Non-Null Count  Dtype         \n",
      "---  ------             --------------  -----         \n",
      " 0   id                 2356 non-null   object        \n",
      " 1   author             2356 non-null   object        \n",
      " 2   date               2356 non-null   datetime64[us]\n",
      " 3   start              2356 non-null   datetime64[us]\n",
      " 4   end                2323 non-null   datetime64[us]\n",
      " 5   platform_proposal  2356 non-null   object        \n",
      "dtypes: datetime64[us](3), object(3)\n",
      "memory usage: 110.6+ KB\n",
      "None\n",
      "<class 'pandas.core.frame.DataFrame'>\n",
      "RangeIndex: 8479 entries, 0 to 8478\n",
      "Data columns (total 4 columns):\n",
      " #   Column    Non-Null Count  Dtype         \n",
      "---  ------    --------------  -----         \n",
      " 0   id        8479 non-null   object        \n",
      " 1   proposal  8479 non-null   object        \n",
      " 2   voter     8479 non-null   object        \n",
      " 3   date      8479 non-null   datetime64[us]\n",
      "dtypes: datetime64[us](1), object(3)\n",
      "memory usage: 265.1+ KB\n",
      "None\n"
     ]
    }
   ],
   "source": [
    "dfp = paths.load_proposals(ORG_NAME)\n",
    "dfv = paths.load_votes(ORG_NAME)\n",
    "\n",
    "print(dfp.info())\n",
    "print(dfv.info())"
   ]
  },
  {
   "cell_type": "markdown",
   "id": "a1626446",
   "metadata": {
    "papermill": {
     "duration": 0.003517,
     "end_time": "2024-09-05T09:43:38.757154",
     "exception": false,
     "start_time": "2024-09-05T09:43:38.753637",
     "status": "completed"
    },
    "tags": []
   },
   "source": [
    "## Split data"
   ]
  },
  {
   "cell_type": "code",
   "execution_count": 7,
   "id": "a4a5b7f2",
   "metadata": {
    "execution": {
     "iopub.execute_input": "2024-09-05T09:43:38.762443Z",
     "iopub.status.busy": "2024-09-05T09:43:38.762351Z",
     "iopub.status.idle": "2024-09-05T09:43:38.789440Z",
     "shell.execute_reply": "2024-09-05T09:43:38.789242Z"
    },
    "papermill": {
     "duration": 0.030589,
     "end_time": "2024-09-05T09:43:38.790109",
     "exception": false,
     "start_time": "2024-09-05T09:43:38.759520",
     "status": "completed"
    },
    "tags": []
   },
   "outputs": [
    {
     "data": {
      "text/html": [
       "<div>\n",
       "<style scoped>\n",
       "    .dataframe tbody tr th:only-of-type {\n",
       "        vertical-align: middle;\n",
       "    }\n",
       "\n",
       "    .dataframe tbody tr th {\n",
       "        vertical-align: top;\n",
       "    }\n",
       "\n",
       "    .dataframe thead th {\n",
       "        text-align: right;\n",
       "    }\n",
       "</style>\n",
       "<table border=\"1\" class=\"dataframe\">\n",
       "  <thead>\n",
       "    <tr style=\"text-align: right;\">\n",
       "      <th></th>\n",
       "      <th>userID</th>\n",
       "      <th>itemID</th>\n",
       "      <th>timestamp</th>\n",
       "      <th>rating</th>\n",
       "    </tr>\n",
       "  </thead>\n",
       "  <tbody>\n",
       "    <tr>\n",
       "      <th>0</th>\n",
       "      <td>0x166cea845ade3f3b40ea68045d699dee5a645905</td>\n",
       "      <td>82f205b3-1f75-5da5-973a-fc2e324d8719</td>\n",
       "      <td>2019-07-14 19:50:09</td>\n",
       "      <td>1</td>\n",
       "    </tr>\n",
       "    <tr>\n",
       "      <th>1</th>\n",
       "      <td>0x166cea845ade3f3b40ea68045d699dee5a645905</td>\n",
       "      <td>b1f193e6-cf73-5a7a-85f3-a84d95c08b97</td>\n",
       "      <td>2019-07-14 19:51:24</td>\n",
       "      <td>1</td>\n",
       "    </tr>\n",
       "    <tr>\n",
       "      <th>2</th>\n",
       "      <td>0xe858a4bf603995a9156edbd25ff06269d997839e</td>\n",
       "      <td>b1f193e6-cf73-5a7a-85f3-a84d95c08b97</td>\n",
       "      <td>2019-07-14 22:24:38</td>\n",
       "      <td>1</td>\n",
       "    </tr>\n",
       "    <tr>\n",
       "      <th>3</th>\n",
       "      <td>0xe858a4bf603995a9156edbd25ff06269d997839e</td>\n",
       "      <td>398d685b-8c4f-5b7d-a7d6-86f1fc78efa4</td>\n",
       "      <td>2019-07-14 22:29:44</td>\n",
       "      <td>1</td>\n",
       "    </tr>\n",
       "    <tr>\n",
       "      <th>4</th>\n",
       "      <td>0xe858a4bf603995a9156edbd25ff06269d997839e</td>\n",
       "      <td>cb124ba8-a044-5790-8da9-43129a92c1f5</td>\n",
       "      <td>2019-07-14 22:31:43</td>\n",
       "      <td>1</td>\n",
       "    </tr>\n",
       "    <tr>\n",
       "      <th>...</th>\n",
       "      <td>...</td>\n",
       "      <td>...</td>\n",
       "      <td>...</td>\n",
       "      <td>...</td>\n",
       "    </tr>\n",
       "    <tr>\n",
       "      <th>8474</th>\n",
       "      <td>0x583acc79585d3cb195ea8125f6f80ad459b46313</td>\n",
       "      <td>783c82b4-a78e-58ee-972e-08a8d5677735</td>\n",
       "      <td>2023-04-08 07:38:59</td>\n",
       "      <td>1</td>\n",
       "    </tr>\n",
       "    <tr>\n",
       "      <th>8475</th>\n",
       "      <td>0x7e72cfd9a36517435dc1ca7f9451eccbc973111e</td>\n",
       "      <td>783c82b4-a78e-58ee-972e-08a8d5677735</td>\n",
       "      <td>2023-04-08 13:45:11</td>\n",
       "      <td>1</td>\n",
       "    </tr>\n",
       "    <tr>\n",
       "      <th>8476</th>\n",
       "      <td>0x3111327edd38890c3fe564afd96b4c73e8101747</td>\n",
       "      <td>783c82b4-a78e-58ee-972e-08a8d5677735</td>\n",
       "      <td>2023-04-08 18:13:23</td>\n",
       "      <td>1</td>\n",
       "    </tr>\n",
       "    <tr>\n",
       "      <th>8477</th>\n",
       "      <td>0x759a2169da1b826f795a00a9ab5f29f9ca39e48a</td>\n",
       "      <td>783c82b4-a78e-58ee-972e-08a8d5677735</td>\n",
       "      <td>2023-04-09 08:40:35</td>\n",
       "      <td>1</td>\n",
       "    </tr>\n",
       "    <tr>\n",
       "      <th>8478</th>\n",
       "      <td>0x91aef3c3b9bab2c306548269ff9b6771f2b107d8</td>\n",
       "      <td>783c82b4-a78e-58ee-972e-08a8d5677735</td>\n",
       "      <td>2023-04-09 11:34:47</td>\n",
       "      <td>1</td>\n",
       "    </tr>\n",
       "  </tbody>\n",
       "</table>\n",
       "<p>8479 rows × 4 columns</p>\n",
       "</div>"
      ],
      "text/plain": [
       "                                          userID  \\\n",
       "0     0x166cea845ade3f3b40ea68045d699dee5a645905   \n",
       "1     0x166cea845ade3f3b40ea68045d699dee5a645905   \n",
       "2     0xe858a4bf603995a9156edbd25ff06269d997839e   \n",
       "3     0xe858a4bf603995a9156edbd25ff06269d997839e   \n",
       "4     0xe858a4bf603995a9156edbd25ff06269d997839e   \n",
       "...                                          ...   \n",
       "8474  0x583acc79585d3cb195ea8125f6f80ad459b46313   \n",
       "8475  0x7e72cfd9a36517435dc1ca7f9451eccbc973111e   \n",
       "8476  0x3111327edd38890c3fe564afd96b4c73e8101747   \n",
       "8477  0x759a2169da1b826f795a00a9ab5f29f9ca39e48a   \n",
       "8478  0x91aef3c3b9bab2c306548269ff9b6771f2b107d8   \n",
       "\n",
       "                                    itemID           timestamp  rating  \n",
       "0     82f205b3-1f75-5da5-973a-fc2e324d8719 2019-07-14 19:50:09       1  \n",
       "1     b1f193e6-cf73-5a7a-85f3-a84d95c08b97 2019-07-14 19:51:24       1  \n",
       "2     b1f193e6-cf73-5a7a-85f3-a84d95c08b97 2019-07-14 22:24:38       1  \n",
       "3     398d685b-8c4f-5b7d-a7d6-86f1fc78efa4 2019-07-14 22:29:44       1  \n",
       "4     cb124ba8-a044-5790-8da9-43129a92c1f5 2019-07-14 22:31:43       1  \n",
       "...                                    ...                 ...     ...  \n",
       "8474  783c82b4-a78e-58ee-972e-08a8d5677735 2023-04-08 07:38:59       1  \n",
       "8475  783c82b4-a78e-58ee-972e-08a8d5677735 2023-04-08 13:45:11       1  \n",
       "8476  783c82b4-a78e-58ee-972e-08a8d5677735 2023-04-08 18:13:23       1  \n",
       "8477  783c82b4-a78e-58ee-972e-08a8d5677735 2023-04-09 08:40:35       1  \n",
       "8478  783c82b4-a78e-58ee-972e-08a8d5677735 2023-04-09 11:34:47       1  \n",
       "\n",
       "[8479 rows x 4 columns]"
      ]
     },
     "execution_count": 7,
     "metadata": {},
     "output_type": "execute_result"
    }
   ],
   "source": [
    "df = to_microsoft(dfv)\n",
    "df"
   ]
  },
  {
   "cell_type": "code",
   "execution_count": 8,
   "id": "71ef1d18",
   "metadata": {
    "editable": true,
    "execution": {
     "iopub.execute_input": "2024-09-05T09:43:38.796087Z",
     "iopub.status.busy": "2024-09-05T09:43:38.795955Z",
     "iopub.status.idle": "2024-09-05T09:43:39.195705Z",
     "shell.execute_reply": "2024-09-05T09:43:39.195460Z"
    },
    "papermill": {
     "duration": 0.403529,
     "end_time": "2024-09-05T09:43:39.196451",
     "exception": false,
     "start_time": "2024-09-05T09:43:38.792922",
     "status": "completed"
    },
    "slideshow": {
     "slide_type": ""
    },
    "tags": []
   },
   "outputs": [
    {
     "name": "stdout",
     "output_type": "stream",
     "text": [
      "147 folds\n",
      "Using 10 folds, from 2022-03-03T00:00:00 to 2022-05-05T00:00:00\n"
     ]
    }
   ],
   "source": [
    "# USE INTEGER INDEX\n",
    "# folds_dict = list(cvtt_open(df, SPLITS_FREQ, dfp, remove_not_in_train_col='userID'))\n",
    "# use_folds_idx = range(len(folds_dict))[-LAST_FOLDS:]\n",
    "\n",
    "# USE TIMESTAMP INDEX\n",
    "# Note: NO need to used OrderedDict, dict is ordered since Python 3.6\n",
    "folds_dict = { f.end.isoformat():f for f in cvtt_open(df, SPLITS_FREQ, dfp, remove_not_in_train_col='userID', last_fold=LAST_FOLD_DATE_STR) }\n",
    "use_folds_idx = list(folds_dict.keys())[-LAST_FOLDS:]\n",
    "\n",
    "print(len(folds_dict), \"folds\")\n",
    "print(\"Using\", len(use_folds_idx), \"folds, from\", use_folds_idx[0], \"to\", use_folds_idx[-1])"
   ]
  },
  {
   "cell_type": "markdown",
   "id": "0f129ac1",
   "metadata": {
    "papermill": {
     "duration": 0.002785,
     "end_time": "2024-09-05T09:43:39.201964",
     "exception": false,
     "start_time": "2024-09-05T09:43:39.199179",
     "status": "completed"
    },
    "tags": []
   },
   "source": [
    "## Making some checks"
   ]
  },
  {
   "cell_type": "markdown",
   "id": "82fc0a0d",
   "metadata": {
    "papermill": {
     "duration": 0.002641,
     "end_time": "2024-09-05T09:43:39.207292",
     "exception": false,
     "start_time": "2024-09-05T09:43:39.204651",
     "status": "completed"
    },
    "tags": []
   },
   "source": [
    "### Checking that all the folds have open proposals"
   ]
  },
  {
   "cell_type": "code",
   "execution_count": 9,
   "id": "4fe0182f",
   "metadata": {
    "execution": {
     "iopub.execute_input": "2024-09-05T09:43:39.213014Z",
     "iopub.status.busy": "2024-09-05T09:43:39.212868Z",
     "iopub.status.idle": "2024-09-05T09:43:39.234148Z",
     "shell.execute_reply": "2024-09-05T09:43:39.233939Z"
    },
    "papermill": {
     "duration": 0.024954,
     "end_time": "2024-09-05T09:43:39.234865",
     "exception": false,
     "start_time": "2024-09-05T09:43:39.209911",
     "status": "completed"
    },
    "tags": []
   },
   "outputs": [],
   "source": [
    "_nok_folds = []\n",
    "for idx in use_folds_idx:\n",
    "    if len(folds_dict[idx].open_proposals) == 0:\n",
    "        _nok_folds.append(idx)\n",
    "\n",
    "if _nok_folds:\n",
    "    raise ValueError(f\"Folds {', '.join(_nok_folds)} don't have any open proposals\")"
   ]
  },
  {
   "cell_type": "markdown",
   "id": "b9390fb2",
   "metadata": {
    "papermill": {
     "duration": 0.002489,
     "end_time": "2024-09-05T09:43:39.239861",
     "exception": false,
     "start_time": "2024-09-05T09:43:39.237372",
     "status": "completed"
    },
    "tags": []
   },
   "source": [
    "### Checking correct hparams"
   ]
  },
  {
   "cell_type": "code",
   "execution_count": 10,
   "id": "370f8c00",
   "metadata": {
    "execution": {
     "iopub.execute_input": "2024-09-05T09:43:39.245238Z",
     "iopub.status.busy": "2024-09-05T09:43:39.245142Z",
     "iopub.status.idle": "2024-09-05T09:43:39.280503Z",
     "shell.execute_reply": "2024-09-05T09:43:39.280215Z"
    },
    "papermill": {
     "duration": 0.038888,
     "end_time": "2024-09-05T09:43:39.281154",
     "exception": false,
     "start_time": "2024-09-05T09:43:39.242266",
     "status": "completed"
    },
    "tags": []
   },
   "outputs": [
    {
     "name": "stdout",
     "output_type": "stream",
     "text": [
      "All folds ok!\n"
     ]
    }
   ],
   "source": [
    "now = dt.datetime.now()\n",
    "max_bs = 2**MAX_BATCH_SIZE\n",
    "\n",
    "all_ok = True\n",
    "for idx in use_folds_idx:\n",
    "    valid_ws = WINDOW_SIZES[0]\n",
    "    for ws in sorted(WINDOW_SIZES, key=lambda ws: now + pd.tseries.frequencies.to_offset(ws)):\n",
    "        nusers = filter_window_size(folds_dict[idx].train, folds_dict[idx].end, ws)['userID'].nunique()\n",
    "        if nusers > max_bs:\n",
    "            print(f'On fold {idx} WINDOW_SIZE should be at least {ws}: {nusers} > {max_bs}', file=sys.stderr)\n",
    "            break\n",
    "\n",
    "print(\"All folds ok!\")"
   ]
  },
  {
   "cell_type": "markdown",
   "id": "f27e5839",
   "metadata": {
    "editable": true,
    "papermill": {
     "duration": 0.002645,
     "end_time": "2024-09-05T09:43:39.286464",
     "exception": false,
     "start_time": "2024-09-05T09:43:39.283819",
     "status": "completed"
    },
    "slideshow": {
     "slide_type": ""
    },
    "tags": []
   },
   "source": [
    "## Testing model"
   ]
  },
  {
   "cell_type": "code",
   "execution_count": 11,
   "id": "242fd997",
   "metadata": {
    "execution": {
     "iopub.execute_input": "2024-09-05T09:43:39.291981Z",
     "iopub.status.busy": "2024-09-05T09:43:39.291855Z",
     "iopub.status.idle": "2024-09-05T09:43:39.311482Z",
     "shell.execute_reply": "2024-09-05T09:43:39.311188Z"
    },
    "papermill": {
     "duration": 0.023124,
     "end_time": "2024-09-05T09:43:39.312076",
     "exception": false,
     "start_time": "2024-09-05T09:43:39.288952",
     "status": "completed"
    },
    "tags": []
   },
   "outputs": [],
   "source": [
    "from recommenders.models.deeprec.DataModel.ImplicitCF import ImplicitCF\n",
    "from recommenders.models.deeprec.deeprec_utils import prepare_hparams"
   ]
  },
  {
   "cell_type": "code",
   "execution_count": 12,
   "id": "6412bffd",
   "metadata": {
    "editable": true,
    "execution": {
     "iopub.execute_input": "2024-09-05T09:43:39.318149Z",
     "iopub.status.busy": "2024-09-05T09:43:39.318050Z",
     "iopub.status.idle": "2024-09-05T09:43:39.336798Z",
     "shell.execute_reply": "2024-09-05T09:43:39.336599Z"
    },
    "papermill": {
     "duration": 0.022442,
     "end_time": "2024-09-05T09:43:39.337420",
     "exception": false,
     "start_time": "2024-09-05T09:43:39.314978",
     "status": "completed"
    },
    "slideshow": {
     "slide_type": ""
    },
    "tags": []
   },
   "outputs": [],
   "source": [
    "# hparams = prepare_hparams(\n",
    "#     model_type='lightgcn',\n",
    "#     n_layers=3,\n",
    "#     batch_size=512,\n",
    "#     embed_size=64,\n",
    "#     epochs=2,\n",
    "#     learning_rate=0.001,\n",
    "#     decay=0.001,\n",
    "#     metrics=[\"recall\", \"ndcg\", \"precision\", \"map\"],\n",
    "#     eval_epoch=2,\n",
    "#     top_k=K_RECOMMENDATIONS[0],\n",
    "#     save_model=False,\n",
    "#     MODEL_DIR='./data/model/lightgcn/',\n",
    "# )\n",
    "# dataloader = ImplicitCF(train=folds_dict[use_folds_idx[0]].train, test=folds_dict[use_folds_idx[0]].test, seed=SEED)\n",
    "# print(\"items:\", dataloader.n_items, \"user:\", dataloader.n_users)\n",
    "# model = LightGCNCustom(data=dataloader, hparams=hparams)"
   ]
  },
  {
   "cell_type": "code",
   "execution_count": 13,
   "id": "b5814f10",
   "metadata": {
    "execution": {
     "iopub.execute_input": "2024-09-05T09:43:39.343146Z",
     "iopub.status.busy": "2024-09-05T09:43:39.343002Z",
     "iopub.status.idle": "2024-09-05T09:43:39.360588Z",
     "shell.execute_reply": "2024-09-05T09:43:39.360397Z"
    },
    "papermill": {
     "duration": 0.021326,
     "end_time": "2024-09-05T09:43:39.361337",
     "exception": false,
     "start_time": "2024-09-05T09:43:39.340011",
     "status": "completed"
    },
    "tags": []
   },
   "outputs": [],
   "source": [
    "# model.fit()\n",
    "# model.run_eval()"
   ]
  },
  {
   "cell_type": "code",
   "execution_count": 14,
   "id": "cd524ff5",
   "metadata": {
    "editable": true,
    "execution": {
     "iopub.execute_input": "2024-09-05T09:43:39.366872Z",
     "iopub.status.busy": "2024-09-05T09:43:39.366753Z",
     "iopub.status.idle": "2024-09-05T09:43:39.383568Z",
     "shell.execute_reply": "2024-09-05T09:43:39.383250Z"
    },
    "papermill": {
     "duration": 0.020428,
     "end_time": "2024-09-05T09:43:39.384264",
     "exception": false,
     "start_time": "2024-09-05T09:43:39.363836",
     "status": "completed"
    },
    "slideshow": {
     "slide_type": ""
    },
    "tags": []
   },
   "outputs": [],
   "source": [
    "# model.recommend_k_items(\n",
    "#     dataloader.test, \n",
    "#     top_k=3, \n",
    "#     use_id=True, \n",
    "#     remove_seen=True, \n",
    "#     recommend_from=folds_dict[use_folds_idx[0]].open_proposals\n",
    "# )"
   ]
  },
  {
   "cell_type": "markdown",
   "id": "7d34931f",
   "metadata": {
    "papermill": {
     "duration": 0.00263,
     "end_time": "2024-09-05T09:43:39.389537",
     "exception": false,
     "start_time": "2024-09-05T09:43:39.386907",
     "status": "completed"
    },
    "tags": []
   },
   "source": [
    "## Defining trainable"
   ]
  },
  {
   "cell_type": "code",
   "execution_count": 15,
   "id": "cc354a32",
   "metadata": {
    "execution": {
     "iopub.execute_input": "2024-09-05T09:43:39.395284Z",
     "iopub.status.busy": "2024-09-05T09:43:39.395115Z",
     "iopub.status.idle": "2024-09-05T09:43:39.411237Z",
     "shell.execute_reply": "2024-09-05T09:43:39.411053Z"
    },
    "papermill": {
     "duration": 0.019905,
     "end_time": "2024-09-05T09:43:39.411950",
     "exception": false,
     "start_time": "2024-09-05T09:43:39.392045",
     "status": "completed"
    },
    "tags": []
   },
   "outputs": [],
   "source": [
    "from recsys4daos.evaluation import calculate_all_metrics"
   ]
  },
  {
   "cell_type": "code",
   "execution_count": 16,
   "id": "982afd21",
   "metadata": {
    "editable": true,
    "execution": {
     "iopub.execute_input": "2024-09-05T09:43:39.417531Z",
     "iopub.status.busy": "2024-09-05T09:43:39.417412Z",
     "iopub.status.idle": "2024-09-05T09:43:39.437441Z",
     "shell.execute_reply": "2024-09-05T09:43:39.437248Z"
    },
    "papermill": {
     "duration": 0.023724,
     "end_time": "2024-09-05T09:43:39.438165",
     "exception": false,
     "start_time": "2024-09-05T09:43:39.414441",
     "status": "completed"
    },
    "slideshow": {
     "slide_type": ""
    },
    "tags": []
   },
   "outputs": [],
   "source": [
    "class TrainLightGCN(tune.Trainable):\n",
    "    def setup(\n",
    "        self,\n",
    "        config: Dict[str, Any],\n",
    "        data,\n",
    "    ):\n",
    "        self.config = config\n",
    "        train, test, self.t, self.open_proposals = data\n",
    "        train_filtered = filter_window_size(train, self.t, config['window_size'])\n",
    "        self.dataloader = ImplicitCF(train=train_filtered, test=test, seed=SEED)\n",
    "        # Some experiments will run multiple times, but that's a price to pay for\n",
    "        # usability\n",
    "        self.real_batch_size = min(2**config['batch_size'], self.dataloader.n_users_in_train)\n",
    "\n",
    "        self.hparams = prepare_hparams(\n",
    "            model_type='lightgcn',\n",
    "            n_layers=config['conv_layers'],\n",
    "            batch_size=self.real_batch_size,\n",
    "            embed_size=config['embedding_dim'],\n",
    "            epochs=EPOCHS_PER_ITER,\n",
    "            learning_rate=config['learning_rate'],\n",
    "            decay=config['l2'],\n",
    "            metrics=METRICS,\n",
    "            eval_epoch=-1,\n",
    "            top_k=K_RECOMMENDATIONS[0],\n",
    "            save_model=False,\n",
    "            MODEL_DIR='./data/model/lightgcn/',\n",
    "        )\n",
    "        self.model = LightGCNCustom(self.hparams, self.dataloader, seed=SEED)\n",
    "        self.total_train = 0\n",
    "        self.total_eval = 0\n",
    "\n",
    "    @property\n",
    "    def iteration(self):\n",
    "        return self.model.epochs_done\n",
    "\n",
    "    @property\n",
    "    def training_iteration(self):\n",
    "        return self.model.epochs_done\n",
    "\n",
    "    def step(self):\n",
    "        \"\"\"\n",
    "        As a rule of thumb, the execution time of step should be large enough to avoid overheads \n",
    "        (i.e. more than a few seconds), but short enough to report progress periodically \n",
    "        (i.e. at most a few minutes).\n",
    "        \"\"\"\n",
    "        assert EPOCHS_PER_ITER > 0\n",
    "\n",
    "        with Timer() as t_train:\n",
    "            for _ in range(EPOCHS_PER_ITER):\n",
    "                ret = self.model.fit_epoch()\n",
    "\n",
    "\n",
    "        with Timer() as t_rec:\n",
    "            recs = self.model.recommend_k_items(\n",
    "                self.dataloader.test, # Used only to get user ids\n",
    "                top_k=max(K_RECOMMENDATIONS),\n",
    "                use_id=True,\n",
    "                remove_seen=True,\n",
    "                recommend_from=self.open_proposals,\n",
    "            )\n",
    "        \n",
    "        eval_dict = {'model_'+k:v for k,v in zip(self.model.metrics, self.model.run_eval())}\n",
    "        eval_dict |= calculate_all_metrics(self.dataloader.test, recs, K_RECOMMENDATIONS)\n",
    "\n",
    "        self.total_train += t_train.time\n",
    "        self.total_eval += eval_dict['time_eval']\n",
    "        \n",
    "        return {\n",
    "            'real_batch_size': self.real_batch_size,\n",
    "            'iteration': self.iteration,\n",
    "            'loss': ret[0],\n",
    "            'mf_loss': ret[1],\n",
    "            'emb_loss': ret[2],\n",
    "            **eval_dict,\n",
    "            'time_train': t_train.time,\n",
    "            'time_rec': t_rec.time,\n",
    "            'time_total_train': self.total_train,\n",
    "            'time_total_test': self.total_eval,\n",
    "        }\n",
    "\n",
    "    def save_checkpoint(self, checkpoint_dir):\n",
    "        checkpoint_path = os.path.join(checkpoint_dir, \"model\")\n",
    "        self.model.saver.save(\n",
    "            sess=self.model.sess,\n",
    "            save_path=checkpoint_path,\n",
    "        )\n",
    "        return checkpoint_dir\n",
    "\n",
    "    def load_checkpoint(self, checkpoint_path):\n",
    "        self.model.load(checkpoint_path)"
   ]
  },
  {
   "cell_type": "markdown",
   "id": "ccd0014f",
   "metadata": {
    "editable": true,
    "papermill": {
     "duration": 0.002884,
     "end_time": "2024-09-05T09:43:39.444034",
     "exception": false,
     "start_time": "2024-09-05T09:43:39.441150",
     "status": "completed"
    },
    "slideshow": {
     "slide_type": ""
    },
    "tags": []
   },
   "source": [
    "## Big experiment"
   ]
  },
  {
   "cell_type": "code",
   "execution_count": 17,
   "id": "5d4f7077",
   "metadata": {
    "editable": true,
    "execution": {
     "iopub.execute_input": "2024-09-05T09:43:39.449856Z",
     "iopub.status.busy": "2024-09-05T09:43:39.449733Z",
     "iopub.status.idle": "2024-09-05T09:43:39.466966Z",
     "shell.execute_reply": "2024-09-05T09:43:39.466779Z"
    },
    "papermill": {
     "duration": 0.021019,
     "end_time": "2024-09-05T09:43:39.467666",
     "exception": false,
     "start_time": "2024-09-05T09:43:39.446647",
     "status": "completed"
    },
    "slideshow": {
     "slide_type": ""
    },
    "tags": []
   },
   "outputs": [
    {
     "data": {
      "text/plain": [
       "PosixPath('/home/daviddavo/ray_results3.11')"
      ]
     },
     "execution_count": 17,
     "metadata": {},
     "output_type": "execute_result"
    }
   ],
   "source": [
    "RAY_RESULTS_PATH"
   ]
  },
  {
   "cell_type": "code",
   "execution_count": 18,
   "id": "56b0b107",
   "metadata": {
    "editable": true,
    "execution": {
     "iopub.execute_input": "2024-09-05T09:43:39.473516Z",
     "iopub.status.busy": "2024-09-05T09:43:39.473399Z",
     "iopub.status.idle": "2024-09-05T09:43:39.490400Z",
     "shell.execute_reply": "2024-09-05T09:43:39.490207Z"
    },
    "papermill": {
     "duration": 0.020706,
     "end_time": "2024-09-05T09:43:39.491060",
     "exception": false,
     "start_time": "2024-09-05T09:43:39.470354",
     "status": "completed"
    },
    "slideshow": {
     "slide_type": ""
    },
    "tags": []
   },
   "outputs": [
    {
     "name": "stdout",
     "output_type": "stream",
     "text": [
      "lamarck\n",
      "{'cpu': 1, 'gpu': 0.0625}\n"
     ]
    }
   ],
   "source": [
    "print(os.uname().nodename)\n",
    "\n",
    "### SET TRAINING RESOURCES\n",
    "if os.uname().nodename == 'lamarck':\n",
    "    # assert torch.cuda.is_available()\n",
    "\n",
    "    NUM_SAMPLES = SAMPLES_PER_SPLIT\n",
    "    # Every run takes approx half a gig of vram (no optimizations)\n",
    "    # The RTX 4090 has 24GB so we can run the model about 48 times\n",
    "    resources_per_trial={\n",
    "        'cpu': 1,\n",
    "        'gpu': 1 / GPUS,\n",
    "    }\n",
    "else:\n",
    "    NUM_SAMPLES = 1\n",
    "    resources_per_trial={\n",
    "        'cpu': 1,\n",
    "        # It takes about 1.5 GiB with full training data, but I put a bit more because\n",
    "        # this notebook also takes a bit of memory\n",
    "        'memory': 2e9,\n",
    "    }\n",
    "print(resources_per_trial)"
   ]
  },
  {
   "cell_type": "code",
   "execution_count": 19,
   "id": "9c71a776",
   "metadata": {
    "editable": true,
    "execution": {
     "iopub.execute_input": "2024-09-05T09:43:39.496911Z",
     "iopub.status.busy": "2024-09-05T09:43:39.496793Z",
     "iopub.status.idle": "2024-09-05T09:43:39.587026Z",
     "shell.execute_reply": "2024-09-05T09:43:39.586702Z"
    },
    "papermill": {
     "duration": 0.094221,
     "end_time": "2024-09-05T09:43:39.587977",
     "exception": false,
     "start_time": "2024-09-05T09:43:39.493756",
     "status": "completed"
    },
    "slideshow": {
     "slide_type": ""
    },
    "tags": []
   },
   "outputs": [],
   "source": [
    "from ray.tune.search.hyperopt import HyperOptSearch"
   ]
  },
  {
   "cell_type": "code",
   "execution_count": 20,
   "id": "eb40c715",
   "metadata": {
    "editable": true,
    "execution": {
     "iopub.execute_input": "2024-09-05T09:43:39.595212Z",
     "iopub.status.busy": "2024-09-05T09:43:39.594677Z",
     "iopub.status.idle": "2024-09-05T09:43:39.618958Z",
     "shell.execute_reply": "2024-09-05T09:43:39.618677Z"
    },
    "papermill": {
     "duration": 0.02855,
     "end_time": "2024-09-05T09:43:39.619721",
     "exception": false,
     "start_time": "2024-09-05T09:43:39.591171",
     "status": "completed"
    },
    "slideshow": {
     "slide_type": ""
    },
    "tags": []
   },
   "outputs": [],
   "source": [
    "def getTunerOnFold(f_idx, points_to_evaluate = None):    \n",
    "    name = paths.lightgcn_ray_tune_fname(ORG_NAME, SPLITS_FREQ, SPLITS_NORMALIZE, OPTIM_METRIC, fold=f_idx)\n",
    "    experiments = list(RAY_RESULTS_PATH.glob(f'{name}_*'))\n",
    "    last_experiment = max(experiments, key=lambda x: x.stat().st_ctime) if experiments else None\n",
    "    f = folds_dict[f_idx]\n",
    "\n",
    "    dftrain,dftest,t,open_proposals = folds_dict[f_idx]\n",
    "    param_space = dict(\n",
    "        batch_size=tune.randint(MIN_BATCH_SIZE, MAX_BATCH_SIZE+1), # 64 - 2**MAX_BATCH_SIZE\n",
    "        embedding_dim=tune.lograndint(1, MAX_EMBEDDING_DIM, base=2),\n",
    "        conv_layers=tune.randint(1,5),\n",
    "        learning_rate=tune.qloguniform(MIN_LR, 1, 1e-4),\n",
    "        l2=tune.loguniform(1e-7, 1e-2, 1e-7),\n",
    "        window_size=tune.choice(WINDOW_SIZES),\n",
    "        # Just so it appears on the output\n",
    "        fold=f_idx,\n",
    "    )\n",
    "    \n",
    "    ### RESTORE EXPERIMENT OR CREATE A NEW ONE\n",
    "    if last_experiment and tune.Tuner.can_restore(last_experiment):\n",
    "        print(f\"Restoring last experiment: {last_experiment}\")\n",
    "        tuner = tune.Tuner.restore(\n",
    "            str(last_experiment),\n",
    "            trainable=tune.with_resources(\n",
    "                # tune.with_parameters(TrainLightGCN,  train=dftrain, test=dftest, open_proposals=open_proposals),\n",
    "                tune.with_parameters(TrainLightGCN, data=f),\n",
    "                resources_per_trial,\n",
    "            ),\n",
    "            restart_errored=True,\n",
    "            param_space=param_space,\n",
    "        )\n",
    "    else:\n",
    "        print(f\"No experiment found for fold {f_idx}, creating new tuner with {NUM_SAMPLES} samples\")\n",
    "        search_alg = None\n",
    "        \n",
    "        search_alg = HyperOptSearch(\n",
    "            points_to_evaluate = points_to_evaluate,\n",
    "            random_state_seed=SEED,\n",
    "        )\n",
    "        # search_alg = tune.search.Repeater(search_alg, N_SPLITS-SKIP_SPLIT)\n",
    "        \n",
    "        tuner = tune.Tuner(\n",
    "            tune.with_resources(\n",
    "                # tune.with_parameters(TrainLightGCN,  train=dftrain, test=dftest, open_proposals=open_proposals),\n",
    "                tune.with_parameters(TrainLightGCN, data=folds_dict[f_idx]),\n",
    "                resources_per_trial,\n",
    "            ),\n",
    "            run_config=train.RunConfig(\n",
    "                stop={'training_iteration': MAX_EPOCHS/EPOCHS_PER_ITER, 'time_total_train': MAX_TIME_TOTAL_TRAIN},\n",
    "                name=name + f'_{dt.datetime.now().isoformat()}',\n",
    "                storage_path=RAY_RESULTS_PATH,\n",
    "                # failure_config=train.FailureConfig(fail_fast='raise'),\n",
    "                failure_config=train.FailureConfig(max_failures=3),\n",
    "            ),\n",
    "            param_space=param_space,\n",
    "            tune_config=tune.TuneConfig(\n",
    "                search_alg=search_alg,\n",
    "                num_samples=NUM_SAMPLES,\n",
    "                metric=OPTIM_METRIC,\n",
    "                mode='max',\n",
    "            )\n",
    "        )\n",
    "\n",
    "    return tuner"
   ]
  },
  {
   "cell_type": "code",
   "execution_count": 21,
   "id": "172f4673",
   "metadata": {
    "editable": true,
    "execution": {
     "iopub.execute_input": "2024-09-05T09:43:39.625964Z",
     "iopub.status.busy": "2024-09-05T09:43:39.625879Z",
     "iopub.status.idle": "2024-09-05T09:43:39.651936Z",
     "shell.execute_reply": "2024-09-05T09:43:39.651741Z"
    },
    "papermill": {
     "duration": 0.030741,
     "end_time": "2024-09-05T09:43:39.653356",
     "exception": false,
     "start_time": "2024-09-05T09:43:39.622615",
     "status": "completed"
    },
    "slideshow": {
     "slide_type": ""
    },
    "tags": []
   },
   "outputs": [
    {
     "data": {
      "application/vnd.jupyter.widget-view+json": {
       "model_id": "a17132e708d3462da7644eeb048de70a",
       "version_major": 2,
       "version_minor": 0
      },
      "text/plain": [
       "fold:   0%|          | 0/10 [00:00<?, ?it/s]"
      ]
     },
     "metadata": {},
     "output_type": "display_data"
    },
    {
     "data": {
      "application/vnd.jupyter.widget-view+json": {
       "model_id": "e5c4ae8018b342cf8fd98dc2201284f8",
       "version_major": 2,
       "version_minor": 0
      },
      "text/plain": [
       "Output(layout=Layout(border_bottom='1px solid black', border_left='1px solid black', border_right='1px solid b…"
      ]
     },
     "execution_count": 21,
     "metadata": {},
     "output_type": "execute_result"
    }
   ],
   "source": [
    "# We need to display the progress bar in another cell because ray tune \"overwrites\" the previous output\n",
    "pbar = tqdm(total=len(use_folds_idx), desc='fold')\n",
    "out = widgets.Output(layout={'border': '1px solid black'})\n",
    "with out:\n",
    "    print(\"In this cell important output from the next cell will be shown\")\n",
    "out"
   ]
  },
  {
   "cell_type": "code",
   "execution_count": 22,
   "id": "25673b2c",
   "metadata": {
    "editable": true,
    "execution": {
     "iopub.execute_input": "2024-09-05T09:43:39.659861Z",
     "iopub.status.busy": "2024-09-05T09:43:39.659767Z",
     "iopub.status.idle": "2024-09-05T09:44:09.445759Z",
     "shell.execute_reply": "2024-09-05T09:44:09.445478Z"
    },
    "papermill": {
     "duration": 29.792677,
     "end_time": "2024-09-05T09:44:09.449117",
     "exception": false,
     "start_time": "2024-09-05T09:43:39.656440",
     "status": "completed"
    },
    "slideshow": {
     "slide_type": ""
    },
    "tags": []
   },
   "outputs": [
    {
     "data": {
      "text/html": [
       "<div class=\"tuneStatus\">\n",
       "  <div style=\"display: flex;flex-direction: row\">\n",
       "    <div style=\"display: flex;flex-direction: column;\">\n",
       "      <h3>Tune Status</h3>\n",
       "      <table>\n",
       "<tbody>\n",
       "<tr><td>Current time:</td><td>2024-09-05 09:44:08</td></tr>\n",
       "<tr><td>Running for: </td><td>00:00:00.36        </td></tr>\n",
       "<tr><td>Memory:      </td><td>8.3/125.6 GiB      </td></tr>\n",
       "</tbody>\n",
       "</table>\n",
       "    </div>\n",
       "    <div class=\"vDivider\"></div>\n",
       "    <div class=\"systemInfo\">\n",
       "      <h3>System Info</h3>\n",
       "      Using FIFO scheduling algorithm.<br>Logical resource usage: 0/24 CPUs, 0/1 GPUs (0.0/1.0 accelerator_type:G)\n",
       "    </div>\n",
       "    \n",
       "  </div>\n",
       "  <div class=\"hDivider\"></div>\n",
       "  <div class=\"trialStatus\">\n",
       "    <h3>Trial Status</h3>\n",
       "    <table>\n",
       "<thead>\n",
       "<tr><th>Trial name            </th><th>status    </th><th>loc                  </th><th style=\"text-align: right;\">  batch_size</th><th style=\"text-align: right;\">  conv_layers</th><th style=\"text-align: right;\">  embedding_dim</th><th>fold               </th><th style=\"text-align: right;\">         l2</th><th style=\"text-align: right;\">  learning_rate</th><th>window_size  </th><th style=\"text-align: right;\">  iter</th><th style=\"text-align: right;\">  total time (s)</th><th style=\"text-align: right;\">  real_batch_size</th><th style=\"text-align: right;\">  iteration</th><th style=\"text-align: right;\">        loss</th></tr>\n",
       "</thead>\n",
       "<tbody>\n",
       "<tr><td>TrainLightGCN_45381747</td><td>TERMINATED</td><td>147.96.81.131:1838178</td><td style=\"text-align: right;\">           9</td><td style=\"text-align: right;\">            4</td><td style=\"text-align: right;\">             10</td><td>2022-05-05T00:00:00</td><td style=\"text-align: right;\">3.90554e-07</td><td style=\"text-align: right;\">         0.0272</td><td>90d          </td><td style=\"text-align: right;\">    40</td><td style=\"text-align: right;\">        12.635  </td><td style=\"text-align: right;\">               50</td><td style=\"text-align: right;\">        200</td><td style=\"text-align: right;\"> 0.00041831 </td></tr>\n",
       "<tr><td>TrainLightGCN_c0de5e8b</td><td>TERMINATED</td><td>147.96.81.131:1838037</td><td style=\"text-align: right;\">           7</td><td style=\"text-align: right;\">            3</td><td style=\"text-align: right;\">              6</td><td>2022-05-05T00:00:00</td><td style=\"text-align: right;\">5.86946e-06</td><td style=\"text-align: right;\">         0.1128</td><td>21d          </td><td style=\"text-align: right;\">    40</td><td style=\"text-align: right;\">         7.73446</td><td style=\"text-align: right;\">               19</td><td style=\"text-align: right;\">        200</td><td style=\"text-align: right;\"> 0.000467806</td></tr>\n",
       "<tr><td>TrainLightGCN_674cfb42</td><td>TERMINATED</td><td>147.96.81.131:1837591</td><td style=\"text-align: right;\">          10</td><td style=\"text-align: right;\">            4</td><td style=\"text-align: right;\">             51</td><td>2022-05-05T00:00:00</td><td style=\"text-align: right;\">1.21242e-05</td><td style=\"text-align: right;\">         0.0087</td><td>10YE         </td><td style=\"text-align: right;\">    40</td><td style=\"text-align: right;\">        16.6846 </td><td style=\"text-align: right;\">              179</td><td style=\"text-align: right;\">        200</td><td style=\"text-align: right;\"> 0.00132488 </td></tr>\n",
       "<tr><td>TrainLightGCN_b1340942</td><td>TERMINATED</td><td>147.96.81.131:1837887</td><td style=\"text-align: right;\">          10</td><td style=\"text-align: right;\">            4</td><td style=\"text-align: right;\">              2</td><td>2022-05-05T00:00:00</td><td style=\"text-align: right;\">1.48681e-06</td><td style=\"text-align: right;\">         0.2269</td><td>21d          </td><td style=\"text-align: right;\">    40</td><td style=\"text-align: right;\">         7.86351</td><td style=\"text-align: right;\">               19</td><td style=\"text-align: right;\">        200</td><td style=\"text-align: right;\"> 0.152558   </td></tr>\n",
       "<tr><td>TrainLightGCN_c910d818</td><td>TERMINATED</td><td>147.96.81.131:1837738</td><td style=\"text-align: right;\">           8</td><td style=\"text-align: right;\">            2</td><td style=\"text-align: right;\">              3</td><td>2022-05-05T00:00:00</td><td style=\"text-align: right;\">4.87166e-07</td><td style=\"text-align: right;\">         0.9938</td><td>90d          </td><td style=\"text-align: right;\">    40</td><td style=\"text-align: right;\">        10.9523 </td><td style=\"text-align: right;\">               50</td><td style=\"text-align: right;\">        200</td><td style=\"text-align: right;\"> 0.92978    </td></tr>\n",
       "<tr><td>TrainLightGCN_21e8bc1d</td><td>TERMINATED</td><td>147.96.81.131:1837434</td><td style=\"text-align: right;\">           9</td><td style=\"text-align: right;\">            3</td><td style=\"text-align: right;\">             11</td><td>2022-05-05T00:00:00</td><td style=\"text-align: right;\">2.23274e-05</td><td style=\"text-align: right;\">         0.7617</td><td>30d          </td><td style=\"text-align: right;\">    40</td><td style=\"text-align: right;\">         8.78764</td><td style=\"text-align: right;\">               22</td><td style=\"text-align: right;\">        200</td><td style=\"text-align: right;\"> 0.210296   </td></tr>\n",
       "<tr><td>TrainLightGCN_d9b2f05d</td><td>TERMINATED</td><td>147.96.81.131:1837286</td><td style=\"text-align: right;\">          10</td><td style=\"text-align: right;\">            4</td><td style=\"text-align: right;\">             33</td><td>2022-05-05T00:00:00</td><td style=\"text-align: right;\">0.000541489</td><td style=\"text-align: right;\">         0.0024</td><td>21d          </td><td style=\"text-align: right;\">    40</td><td style=\"text-align: right;\">         7.36529</td><td style=\"text-align: right;\">               19</td><td style=\"text-align: right;\">        200</td><td style=\"text-align: right;\"> 0.0313611  </td></tr>\n",
       "<tr><td>TrainLightGCN_ef2c5685</td><td>TERMINATED</td><td>147.96.81.131:1837137</td><td style=\"text-align: right;\">           8</td><td style=\"text-align: right;\">            1</td><td style=\"text-align: right;\">             14</td><td>2022-05-05T00:00:00</td><td style=\"text-align: right;\">0.000212626</td><td style=\"text-align: right;\">         0.3236</td><td>60d          </td><td style=\"text-align: right;\">    40</td><td style=\"text-align: right;\">         9.79501</td><td style=\"text-align: right;\">               49</td><td style=\"text-align: right;\">        200</td><td style=\"text-align: right;\"> 0.397369   </td></tr>\n",
       "<tr><td>TrainLightGCN_59ebe516</td><td>TERMINATED</td><td>147.96.81.131:1836845</td><td style=\"text-align: right;\">          10</td><td style=\"text-align: right;\">            4</td><td style=\"text-align: right;\">             28</td><td>2022-05-05T00:00:00</td><td style=\"text-align: right;\">8.64483e-06</td><td style=\"text-align: right;\">         0.0019</td><td>90d          </td><td style=\"text-align: right;\">    40</td><td style=\"text-align: right;\">        11.2212 </td><td style=\"text-align: right;\">               50</td><td style=\"text-align: right;\">        200</td><td style=\"text-align: right;\"> 0.0256353  </td></tr>\n",
       "<tr><td>TrainLightGCN_ac982dd1</td><td>TERMINATED</td><td>147.96.81.131:1836995</td><td style=\"text-align: right;\">           9</td><td style=\"text-align: right;\">            4</td><td style=\"text-align: right;\">             39</td><td>2022-05-05T00:00:00</td><td style=\"text-align: right;\">2.26346e-07</td><td style=\"text-align: right;\">         0.0003</td><td>21d          </td><td style=\"text-align: right;\">    40</td><td style=\"text-align: right;\">         7.8011 </td><td style=\"text-align: right;\">               19</td><td style=\"text-align: right;\">        200</td><td style=\"text-align: right;\"> 0.20996    </td></tr>\n",
       "<tr><td>TrainLightGCN_7cabc38b</td><td>TERMINATED</td><td>147.96.81.131:1836546</td><td style=\"text-align: right;\">          10</td><td style=\"text-align: right;\">            4</td><td style=\"text-align: right;\">             70</td><td>2022-05-05T00:00:00</td><td style=\"text-align: right;\">4.5988e-06 </td><td style=\"text-align: right;\">         0.1409</td><td>10YE         </td><td style=\"text-align: right;\">    40</td><td style=\"text-align: right;\">        16.9096 </td><td style=\"text-align: right;\">              179</td><td style=\"text-align: right;\">        200</td><td style=\"text-align: right;\"> 0.0515269  </td></tr>\n",
       "<tr><td>TrainLightGCN_652c46af</td><td>TERMINATED</td><td>147.96.81.131:1836690</td><td style=\"text-align: right;\">           9</td><td style=\"text-align: right;\">            3</td><td style=\"text-align: right;\">             18</td><td>2022-05-05T00:00:00</td><td style=\"text-align: right;\">1.05611e-06</td><td style=\"text-align: right;\">         0.0459</td><td>21d          </td><td style=\"text-align: right;\">    40</td><td style=\"text-align: right;\">         7.67976</td><td style=\"text-align: right;\">               19</td><td style=\"text-align: right;\">        200</td><td style=\"text-align: right;\"> 0.000110744</td></tr>\n",
       "<tr><td>TrainLightGCN_15cb666a</td><td>TERMINATED</td><td>147.96.81.131:1836400</td><td style=\"text-align: right;\">          10</td><td style=\"text-align: right;\">            2</td><td style=\"text-align: right;\">              4</td><td>2022-05-05T00:00:00</td><td style=\"text-align: right;\">2.76176e-07</td><td style=\"text-align: right;\">         0.004 </td><td>21d          </td><td style=\"text-align: right;\">    40</td><td style=\"text-align: right;\">         7.36754</td><td style=\"text-align: right;\">               19</td><td style=\"text-align: right;\">        200</td><td style=\"text-align: right;\"> 0.0361976  </td></tr>\n",
       "<tr><td>TrainLightGCN_0cb962a9</td><td>TERMINATED</td><td>147.96.81.131:1836250</td><td style=\"text-align: right;\">           9</td><td style=\"text-align: right;\">            3</td><td style=\"text-align: right;\">              7</td><td>2022-05-05T00:00:00</td><td style=\"text-align: right;\">3.85472e-05</td><td style=\"text-align: right;\">         0.0187</td><td>30d          </td><td style=\"text-align: right;\">    40</td><td style=\"text-align: right;\">         8.53241</td><td style=\"text-align: right;\">               22</td><td style=\"text-align: right;\">        200</td><td style=\"text-align: right;\"> 0.00325718 </td></tr>\n",
       "<tr><td>TrainLightGCN_f88993a8</td><td>TERMINATED</td><td>147.96.81.131:1836086</td><td style=\"text-align: right;\">           8</td><td style=\"text-align: right;\">            4</td><td style=\"text-align: right;\">              9</td><td>2022-05-05T00:00:00</td><td style=\"text-align: right;\">1.88068e-06</td><td style=\"text-align: right;\">         0.4165</td><td>90d          </td><td style=\"text-align: right;\">    40</td><td style=\"text-align: right;\">        10.5629 </td><td style=\"text-align: right;\">               50</td><td style=\"text-align: right;\">        200</td><td style=\"text-align: right;\"> 0.104841   </td></tr>\n",
       "<tr><td>TrainLightGCN_777b1735</td><td>TERMINATED</td><td>147.96.81.131:1835945</td><td style=\"text-align: right;\">          10</td><td style=\"text-align: right;\">            4</td><td style=\"text-align: right;\">              2</td><td>2022-05-05T00:00:00</td><td style=\"text-align: right;\">7.91533e-07</td><td style=\"text-align: right;\">         0.598 </td><td>60d          </td><td style=\"text-align: right;\">    40</td><td style=\"text-align: right;\">         9.7778 </td><td style=\"text-align: right;\">               49</td><td style=\"text-align: right;\">        200</td><td style=\"text-align: right;\"> 0.194014   </td></tr>\n",
       "<tr><td>TrainLightGCN_a1315893</td><td>TERMINATED</td><td>147.96.81.131:1835804</td><td style=\"text-align: right;\">           6</td><td style=\"text-align: right;\">            3</td><td style=\"text-align: right;\">              1</td><td>2022-05-05T00:00:00</td><td style=\"text-align: right;\">4.83727e-07</td><td style=\"text-align: right;\">         0.9769</td><td>21d          </td><td style=\"text-align: right;\">    40</td><td style=\"text-align: right;\">         7.59328</td><td style=\"text-align: right;\">               19</td><td style=\"text-align: right;\">        200</td><td style=\"text-align: right;\"> 0.281223   </td></tr>\n",
       "<tr><td>TrainLightGCN_4b1e2ce2</td><td>TERMINATED</td><td>147.96.81.131:1835357</td><td style=\"text-align: right;\">          10</td><td style=\"text-align: right;\">            1</td><td style=\"text-align: right;\">             25</td><td>2022-05-05T00:00:00</td><td style=\"text-align: right;\">1.01405e-07</td><td style=\"text-align: right;\">         0.3717</td><td>10YE         </td><td style=\"text-align: right;\">    40</td><td style=\"text-align: right;\">        16.3525 </td><td style=\"text-align: right;\">              179</td><td style=\"text-align: right;\">        200</td><td style=\"text-align: right;\"> 1.00336    </td></tr>\n",
       "<tr><td>TrainLightGCN_57ce5689</td><td>TERMINATED</td><td>147.96.81.131:1835654</td><td style=\"text-align: right;\">           7</td><td style=\"text-align: right;\">            4</td><td style=\"text-align: right;\">            101</td><td>2022-05-05T00:00:00</td><td style=\"text-align: right;\">2.87319e-06</td><td style=\"text-align: right;\">         0.2634</td><td>21d          </td><td style=\"text-align: right;\">    40</td><td style=\"text-align: right;\">         7.81669</td><td style=\"text-align: right;\">               19</td><td style=\"text-align: right;\">        200</td><td style=\"text-align: right;\"> 0.0195357  </td></tr>\n",
       "<tr><td>TrainLightGCN_5d3ab004</td><td>TERMINATED</td><td>147.96.81.131:1835506</td><td style=\"text-align: right;\">           9</td><td style=\"text-align: right;\">            4</td><td style=\"text-align: right;\">              6</td><td>2022-05-05T00:00:00</td><td style=\"text-align: right;\">9.34544e-05</td><td style=\"text-align: right;\">         0.1784</td><td>90d          </td><td style=\"text-align: right;\">    40</td><td style=\"text-align: right;\">        11.1476 </td><td style=\"text-align: right;\">               50</td><td style=\"text-align: right;\">        200</td><td style=\"text-align: right;\"> 0.0451257  </td></tr>\n",
       "<tr><td>TrainLightGCN_1c8d55ac</td><td>TERMINATED</td><td>147.96.81.131:1835191</td><td style=\"text-align: right;\">           9</td><td style=\"text-align: right;\">            3</td><td style=\"text-align: right;\">              3</td><td>2022-05-05T00:00:00</td><td style=\"text-align: right;\">1.48245e-07</td><td style=\"text-align: right;\">         0.1066</td><td>30d          </td><td style=\"text-align: right;\">    40</td><td style=\"text-align: right;\">         8.67023</td><td style=\"text-align: right;\">               22</td><td style=\"text-align: right;\">        200</td><td style=\"text-align: right;\"> 0.0673758  </td></tr>\n",
       "<tr><td>TrainLightGCN_6ab5eb2b</td><td>TERMINATED</td><td>147.96.81.131:1835050</td><td style=\"text-align: right;\">           8</td><td style=\"text-align: right;\">            4</td><td style=\"text-align: right;\">             21</td><td>2022-05-05T00:00:00</td><td style=\"text-align: right;\">6.90393e-06</td><td style=\"text-align: right;\">         0.0394</td><td>21d          </td><td style=\"text-align: right;\">    40</td><td style=\"text-align: right;\">         7.50122</td><td style=\"text-align: right;\">               19</td><td style=\"text-align: right;\">        200</td><td style=\"text-align: right;\"> 0.000630454</td></tr>\n",
       "<tr><td>TrainLightGCN_ee4d97f3</td><td>TERMINATED</td><td>147.96.81.131:1834900</td><td style=\"text-align: right;\">           9</td><td style=\"text-align: right;\">            4</td><td style=\"text-align: right;\">             15</td><td>2022-05-05T00:00:00</td><td style=\"text-align: right;\">1.421e-05  </td><td style=\"text-align: right;\">         0.0061</td><td>60d          </td><td style=\"text-align: right;\">    40</td><td style=\"text-align: right;\">        10.0612 </td><td style=\"text-align: right;\">               49</td><td style=\"text-align: right;\">        200</td><td style=\"text-align: right;\"> 0.00882059 </td></tr>\n",
       "<tr><td>TrainLightGCN_93d9c8b1</td><td>TERMINATED</td><td>147.96.81.131:1834758</td><td style=\"text-align: right;\">          10</td><td style=\"text-align: right;\">            3</td><td style=\"text-align: right;\">             43</td><td>2022-05-05T00:00:00</td><td style=\"text-align: right;\">1.18293e-06</td><td style=\"text-align: right;\">         0.0896</td><td>21d          </td><td style=\"text-align: right;\">    40</td><td style=\"text-align: right;\">         7.91679</td><td style=\"text-align: right;\">               19</td><td style=\"text-align: right;\">        200</td><td style=\"text-align: right;\"> 0.000159474</td></tr>\n",
       "<tr><td>TrainLightGCN_fe39491f</td><td>TERMINATED</td><td>147.96.81.131:1834603</td><td style=\"text-align: right;\">          10</td><td style=\"text-align: right;\">            4</td><td style=\"text-align: right;\">              5</td><td>2022-05-05T00:00:00</td><td style=\"text-align: right;\">2.72626e-05</td><td style=\"text-align: right;\">         0.0116</td><td>90d          </td><td style=\"text-align: right;\">    40</td><td style=\"text-align: right;\">        11.2128 </td><td style=\"text-align: right;\">               50</td><td style=\"text-align: right;\">        200</td><td style=\"text-align: right;\"> 0.0365809  </td></tr>\n",
       "<tr><td>TrainLightGCN_c4926430</td><td>TERMINATED</td><td>147.96.81.131:1834303</td><td style=\"text-align: right;\">          10</td><td style=\"text-align: right;\">            4</td><td style=\"text-align: right;\">            172</td><td>2022-05-05T00:00:00</td><td style=\"text-align: right;\">2.15892e-07</td><td style=\"text-align: right;\">         0.0743</td><td>10YE         </td><td style=\"text-align: right;\">    40</td><td style=\"text-align: right;\">        17.729  </td><td style=\"text-align: right;\">              179</td><td style=\"text-align: right;\">        200</td><td style=\"text-align: right;\"> 0.0164517  </td></tr>\n",
       "<tr><td>TrainLightGCN_43be79d3</td><td>TERMINATED</td><td>147.96.81.131:1834453</td><td style=\"text-align: right;\">           9</td><td style=\"text-align: right;\">            3</td><td style=\"text-align: right;\">             13</td><td>2022-05-05T00:00:00</td><td style=\"text-align: right;\">3.79459e-06</td><td style=\"text-align: right;\">         0.0612</td><td>21d          </td><td style=\"text-align: right;\">    40</td><td style=\"text-align: right;\">         7.71578</td><td style=\"text-align: right;\">               19</td><td style=\"text-align: right;\">        200</td><td style=\"text-align: right;\"> 0.00028547 </td></tr>\n",
       "<tr><td>TrainLightGCN_12a69280</td><td>TERMINATED</td><td>147.96.81.131:1834155</td><td style=\"text-align: right;\">           9</td><td style=\"text-align: right;\">            4</td><td style=\"text-align: right;\">              9</td><td>2022-05-05T00:00:00</td><td style=\"text-align: right;\">1.04259e-07</td><td style=\"text-align: right;\">         0.1578</td><td>21d          </td><td style=\"text-align: right;\">    40</td><td style=\"text-align: right;\">         7.99047</td><td style=\"text-align: right;\">               19</td><td style=\"text-align: right;\">        200</td><td style=\"text-align: right;\"> 3.09026e-05</td></tr>\n",
       "<tr><td>TrainLightGCN_be9e45d3</td><td>TERMINATED</td><td>147.96.81.131:1834004</td><td style=\"text-align: right;\">          10</td><td style=\"text-align: right;\">            4</td><td style=\"text-align: right;\">             82</td><td>2022-05-05T00:00:00</td><td style=\"text-align: right;\">6.55146e-07</td><td style=\"text-align: right;\">         0.5434</td><td>90d          </td><td style=\"text-align: right;\">    40</td><td style=\"text-align: right;\">        11.3617 </td><td style=\"text-align: right;\">               50</td><td style=\"text-align: right;\">        200</td><td style=\"text-align: right;\"> 0.0801259  </td></tr>\n",
       "<tr><td>TrainLightGCN_7919bbd6</td><td>TERMINATED</td><td>147.96.81.131:1833855</td><td style=\"text-align: right;\">          10</td><td style=\"text-align: right;\">            4</td><td style=\"text-align: right;\">             30</td><td>2022-05-05T00:00:00</td><td style=\"text-align: right;\">3.82415e-07</td><td style=\"text-align: right;\">         0.4558</td><td>90d          </td><td style=\"text-align: right;\">    40</td><td style=\"text-align: right;\">        11.1918 </td><td style=\"text-align: right;\">               50</td><td style=\"text-align: right;\">        200</td><td style=\"text-align: right;\"> 0.16349    </td></tr>\n",
       "<tr><td>TrainLightGCN_fef7fe8c</td><td>TERMINATED</td><td>147.96.81.131:1833707</td><td style=\"text-align: right;\">           9</td><td style=\"text-align: right;\">            4</td><td style=\"text-align: right;\">              4</td><td>2022-05-05T00:00:00</td><td style=\"text-align: right;\">2.28423e-06</td><td style=\"text-align: right;\">         0.9179</td><td>90d          </td><td style=\"text-align: right;\">    40</td><td style=\"text-align: right;\">        11.1714 </td><td style=\"text-align: right;\">               50</td><td style=\"text-align: right;\">        200</td><td style=\"text-align: right;\"> 0.679323   </td></tr>\n",
       "<tr><td>TrainLightGCN_a0eee5fb</td><td>TERMINATED</td><td>147.96.81.131:1833566</td><td style=\"text-align: right;\">          10</td><td style=\"text-align: right;\">            4</td><td style=\"text-align: right;\">             62</td><td>2022-05-05T00:00:00</td><td style=\"text-align: right;\">2.04297e-07</td><td style=\"text-align: right;\">         0.2936</td><td>90d          </td><td style=\"text-align: right;\">    40</td><td style=\"text-align: right;\">        11.3264 </td><td style=\"text-align: right;\">               50</td><td style=\"text-align: right;\">        200</td><td style=\"text-align: right;\"> 0.0029773  </td></tr>\n",
       "<tr><td>TrainLightGCN_a6de4340</td><td>TERMINATED</td><td>147.96.81.131:1833418</td><td style=\"text-align: right;\">          10</td><td style=\"text-align: right;\">            4</td><td style=\"text-align: right;\">             17</td><td>2022-05-05T00:00:00</td><td style=\"text-align: right;\">3.43174e-07</td><td style=\"text-align: right;\">         0.2087</td><td>90d          </td><td style=\"text-align: right;\">    40</td><td style=\"text-align: right;\">        11.5103 </td><td style=\"text-align: right;\">               50</td><td style=\"text-align: right;\">        200</td><td style=\"text-align: right;\"> 0.0046193  </td></tr>\n",
       "<tr><td>TrainLightGCN_af3f88e8</td><td>TERMINATED</td><td>147.96.81.131:1833262</td><td style=\"text-align: right;\">          10</td><td style=\"text-align: right;\">            4</td><td style=\"text-align: right;\">             43</td><td>2022-05-05T00:00:00</td><td style=\"text-align: right;\">5.6554e-07 </td><td style=\"text-align: right;\">         0.6859</td><td>90d          </td><td style=\"text-align: right;\">    40</td><td style=\"text-align: right;\">        11.0358 </td><td style=\"text-align: right;\">               50</td><td style=\"text-align: right;\">        200</td><td style=\"text-align: right;\"> 0.291375   </td></tr>\n",
       "<tr><td>TrainLightGCN_6d9f657d</td><td>TERMINATED</td><td>147.96.81.131:1833120</td><td style=\"text-align: right;\">          10</td><td style=\"text-align: right;\">            4</td><td style=\"text-align: right;\">             22</td><td>2022-05-05T00:00:00</td><td style=\"text-align: right;\">1.33532e-07</td><td style=\"text-align: right;\">         0.7583</td><td>90d          </td><td style=\"text-align: right;\">    40</td><td style=\"text-align: right;\">        10.8475 </td><td style=\"text-align: right;\">               50</td><td style=\"text-align: right;\">        200</td><td style=\"text-align: right;\"> 0.00432293 </td></tr>\n",
       "<tr><td>TrainLightGCN_a7c58cc8</td><td>TERMINATED</td><td>147.96.81.131:1832969</td><td style=\"text-align: right;\">           8</td><td style=\"text-align: right;\">            4</td><td style=\"text-align: right;\">            113</td><td>2022-05-05T00:00:00</td><td style=\"text-align: right;\">0.000310437</td><td style=\"text-align: right;\">         0.0001</td><td>30d          </td><td style=\"text-align: right;\">    40</td><td style=\"text-align: right;\">         8.99118</td><td style=\"text-align: right;\">               22</td><td style=\"text-align: right;\">        200</td><td style=\"text-align: right;\"> 0.282567   </td></tr>\n",
       "<tr><td>TrainLightGCN_9b9e2458</td><td>TERMINATED</td><td>147.96.81.131:1832815</td><td style=\"text-align: right;\">          10</td><td style=\"text-align: right;\">            3</td><td style=\"text-align: right;\">             20</td><td>2022-05-05T00:00:00</td><td style=\"text-align: right;\">1.09938e-06</td><td style=\"text-align: right;\">         0.022 </td><td>60d          </td><td style=\"text-align: right;\">    40</td><td style=\"text-align: right;\">         9.69644</td><td style=\"text-align: right;\">               49</td><td style=\"text-align: right;\">        200</td><td style=\"text-align: right;\"> 0.000209505</td></tr>\n",
       "<tr><td>TrainLightGCN_277d2882</td><td>TERMINATED</td><td>147.96.81.131:1832691</td><td style=\"text-align: right;\">           9</td><td style=\"text-align: right;\">            4</td><td style=\"text-align: right;\">            295</td><td>2022-05-05T00:00:00</td><td style=\"text-align: right;\">7.37434e-06</td><td style=\"text-align: right;\">         0.093 </td><td>90d          </td><td style=\"text-align: right;\">    40</td><td style=\"text-align: right;\">        10.5745 </td><td style=\"text-align: right;\">               50</td><td style=\"text-align: right;\">        200</td><td style=\"text-align: right;\"> 0.0456716  </td></tr>\n",
       "<tr><td>TrainLightGCN_2754d065</td><td>TERMINATED</td><td>147.96.81.131:1832524</td><td style=\"text-align: right;\">           9</td><td style=\"text-align: right;\">            3</td><td style=\"text-align: right;\">              5</td><td>2022-05-05T00:00:00</td><td style=\"text-align: right;\">0.00322104 </td><td style=\"text-align: right;\">         0.0326</td><td>21d          </td><td style=\"text-align: right;\">    40</td><td style=\"text-align: right;\">         7.67424</td><td style=\"text-align: right;\">               19</td><td style=\"text-align: right;\">        200</td><td style=\"text-align: right;\"> 0.0800763  </td></tr>\n",
       "<tr><td>TrainLightGCN_4ee7bbfd</td><td>TERMINATED</td><td>147.96.81.131:1832080</td><td style=\"text-align: right;\">           8</td><td style=\"text-align: right;\">            3</td><td style=\"text-align: right;\">              8</td><td>2022-05-05T00:00:00</td><td style=\"text-align: right;\">1.61184e-05</td><td style=\"text-align: right;\">         0.2474</td><td>10YE         </td><td style=\"text-align: right;\">    40</td><td style=\"text-align: right;\">        16.1009 </td><td style=\"text-align: right;\">              179</td><td style=\"text-align: right;\">        200</td><td style=\"text-align: right;\"> 0.257646   </td></tr>\n",
       "<tr><td>TrainLightGCN_df0607d6</td><td>TERMINATED</td><td>147.96.81.131:1832375</td><td style=\"text-align: right;\">          10</td><td style=\"text-align: right;\">            4</td><td style=\"text-align: right;\">              3</td><td>2022-05-05T00:00:00</td><td style=\"text-align: right;\">1.59605e-07</td><td style=\"text-align: right;\">         0.4869</td><td>21d          </td><td style=\"text-align: right;\">    40</td><td style=\"text-align: right;\">         7.60514</td><td style=\"text-align: right;\">               19</td><td style=\"text-align: right;\">        200</td><td style=\"text-align: right;\"> 0.497305   </td></tr>\n",
       "<tr><td>TrainLightGCN_23e337f0</td><td>TERMINATED</td><td>147.96.81.131:1832220</td><td style=\"text-align: right;\">           8</td><td style=\"text-align: right;\">            4</td><td style=\"text-align: right;\">             12</td><td>2022-05-05T00:00:00</td><td style=\"text-align: right;\">1.72683e-06</td><td style=\"text-align: right;\">         0.1338</td><td>21d          </td><td style=\"text-align: right;\">    40</td><td style=\"text-align: right;\">         7.39519</td><td style=\"text-align: right;\">               19</td><td style=\"text-align: right;\">        200</td><td style=\"text-align: right;\"> 0.000206381</td></tr>\n",
       "<tr><td>TrainLightGCN_bc1f0a63</td><td>TERMINATED</td><td>147.96.81.131:1831931</td><td style=\"text-align: right;\">           9</td><td style=\"text-align: right;\">            4</td><td style=\"text-align: right;\">             65</td><td>2022-05-05T00:00:00</td><td style=\"text-align: right;\">2.78079e-06</td><td style=\"text-align: right;\">         0.0476</td><td>21d          </td><td style=\"text-align: right;\">    40</td><td style=\"text-align: right;\">         7.49234</td><td style=\"text-align: right;\">               19</td><td style=\"text-align: right;\">        200</td><td style=\"text-align: right;\"> 0.000289131</td></tr>\n",
       "<tr><td>TrainLightGCN_ef78864d</td><td>TERMINATED</td><td>147.96.81.131:1831784</td><td style=\"text-align: right;\">          10</td><td style=\"text-align: right;\">            3</td><td style=\"text-align: right;\">              2</td><td>2022-05-05T00:00:00</td><td style=\"text-align: right;\">0.000794237</td><td style=\"text-align: right;\">         0.0014</td><td>30d          </td><td style=\"text-align: right;\">    40</td><td style=\"text-align: right;\">         8.74163</td><td style=\"text-align: right;\">               22</td><td style=\"text-align: right;\">        200</td><td style=\"text-align: right;\"> 0.215118   </td></tr>\n",
       "<tr><td>TrainLightGCN_2f06aece</td><td>TERMINATED</td><td>147.96.81.131:1831628</td><td style=\"text-align: right;\">           9</td><td style=\"text-align: right;\">            4</td><td style=\"text-align: right;\">             30</td><td>2022-05-05T00:00:00</td><td style=\"text-align: right;\">7.10721e-06</td><td style=\"text-align: right;\">         0.0004</td><td>90d          </td><td style=\"text-align: right;\">    40</td><td style=\"text-align: right;\">        10.3652 </td><td style=\"text-align: right;\">               50</td><td style=\"text-align: right;\">        200</td><td style=\"text-align: right;\"> 0.132196   </td></tr>\n",
       "<tr><td>TrainLightGCN_e6182d66</td><td>TERMINATED</td><td>147.96.81.131:1831480</td><td style=\"text-align: right;\">          10</td><td style=\"text-align: right;\">            3</td><td style=\"text-align: right;\">            582</td><td>2022-05-05T00:00:00</td><td style=\"text-align: right;\">0.000128712</td><td style=\"text-align: right;\">         0.8343</td><td>60d          </td><td style=\"text-align: right;\">    40</td><td style=\"text-align: right;\">         9.24221</td><td style=\"text-align: right;\">               49</td><td style=\"text-align: right;\">        200</td><td style=\"text-align: right;\">44.9476     </td></tr>\n",
       "<tr><td>TrainLightGCN_cb17fd03</td><td>TERMINATED</td><td>147.96.81.131:1831331</td><td style=\"text-align: right;\">          10</td><td style=\"text-align: right;\">            4</td><td style=\"text-align: right;\">              1</td><td>2022-05-05T00:00:00</td><td style=\"text-align: right;\">4.09628e-05</td><td style=\"text-align: right;\">         0.3959</td><td>21d          </td><td style=\"text-align: right;\">    40</td><td style=\"text-align: right;\">         7.38441</td><td style=\"text-align: right;\">               19</td><td style=\"text-align: right;\">        200</td><td style=\"text-align: right;\"> 0.431565   </td></tr>\n",
       "<tr><td>TrainLightGCN_05176525</td><td>TERMINATED</td><td>147.96.81.131:1831183</td><td style=\"text-align: right;\">           9</td><td style=\"text-align: right;\">            4</td><td style=\"text-align: right;\">              7</td><td>2022-05-05T00:00:00</td><td style=\"text-align: right;\">3.01073e-07</td><td style=\"text-align: right;\">         0.1765</td><td>21d          </td><td style=\"text-align: right;\">    40</td><td style=\"text-align: right;\">         7.67385</td><td style=\"text-align: right;\">               19</td><td style=\"text-align: right;\">        200</td><td style=\"text-align: right;\"> 7.44347e-05</td></tr>\n",
       "<tr><td>TrainLightGCN_bfcf7e61</td><td>TERMINATED</td><td>147.96.81.131:1830734</td><td style=\"text-align: right;\">           9</td><td style=\"text-align: right;\">            4</td><td style=\"text-align: right;\">             13</td><td>2022-05-05T00:00:00</td><td style=\"text-align: right;\">1.04006e-07</td><td style=\"text-align: right;\">         0.0295</td><td>10YE         </td><td style=\"text-align: right;\">    40</td><td style=\"text-align: right;\">        17.1495 </td><td style=\"text-align: right;\">              179</td><td style=\"text-align: right;\">        200</td><td style=\"text-align: right;\"> 0.00125864 </td></tr>\n",
       "<tr><td>TrainLightGCN_426e284e</td><td>TERMINATED</td><td>147.96.81.131:1831032</td><td style=\"text-align: right;\">           9</td><td style=\"text-align: right;\">            3</td><td style=\"text-align: right;\">             24</td><td>2022-05-05T00:00:00</td><td style=\"text-align: right;\">1.39026e-06</td><td style=\"text-align: right;\">         0.016 </td><td>21d          </td><td style=\"text-align: right;\">    40</td><td style=\"text-align: right;\">         7.72056</td><td style=\"text-align: right;\">               19</td><td style=\"text-align: right;\">        200</td><td style=\"text-align: right;\"> 0.000249601</td></tr>\n",
       "<tr><td>TrainLightGCN_148df202</td><td>TERMINATED</td><td>147.96.81.131:1830890</td><td style=\"text-align: right;\">          10</td><td style=\"text-align: right;\">            3</td><td style=\"text-align: right;\">             37</td><td>2022-05-05T00:00:00</td><td style=\"text-align: right;\">6.00562e-07</td><td style=\"text-align: right;\">         0.0664</td><td>30d          </td><td style=\"text-align: right;\">    40</td><td style=\"text-align: right;\">         8.98757</td><td style=\"text-align: right;\">               22</td><td style=\"text-align: right;\">        200</td><td style=\"text-align: right;\"> 8.05982e-05</td></tr>\n",
       "<tr><td>TrainLightGCN_8fbc6ae5</td><td>TERMINATED</td><td>147.96.81.131:1830585</td><td style=\"text-align: right;\">           9</td><td style=\"text-align: right;\">            3</td><td style=\"text-align: right;\">              4</td><td>2022-05-05T00:00:00</td><td style=\"text-align: right;\">8.71315e-07</td><td style=\"text-align: right;\">         0.0034</td><td>90d          </td><td style=\"text-align: right;\">    40</td><td style=\"text-align: right;\">        10.7116 </td><td style=\"text-align: right;\">               50</td><td style=\"text-align: right;\">        200</td><td style=\"text-align: right;\"> 0.066443   </td></tr>\n",
       "<tr><td>TrainLightGCN_5468a779</td><td>TERMINATED</td><td>147.96.81.131:1830436</td><td style=\"text-align: right;\">          10</td><td style=\"text-align: right;\">            4</td><td style=\"text-align: right;\">             11</td><td>2022-05-05T00:00:00</td><td style=\"text-align: right;\">3.38306e-06</td><td style=\"text-align: right;\">         0.1009</td><td>60d          </td><td style=\"text-align: right;\">    40</td><td style=\"text-align: right;\">        10.1247 </td><td style=\"text-align: right;\">               49</td><td style=\"text-align: right;\">        200</td><td style=\"text-align: right;\"> 0.00181979 </td></tr>\n",
       "<tr><td>TrainLightGCN_e3be4f99</td><td>TERMINATED</td><td>147.96.81.131:1830287</td><td style=\"text-align: right;\">           9</td><td style=\"text-align: right;\">            4</td><td style=\"text-align: right;\">              3</td><td>2022-05-05T00:00:00</td><td style=\"text-align: right;\">1.54651e-06</td><td style=\"text-align: right;\">         0.0008</td><td>21d          </td><td style=\"text-align: right;\">    40</td><td style=\"text-align: right;\">         7.47037</td><td style=\"text-align: right;\">               19</td><td style=\"text-align: right;\">        200</td><td style=\"text-align: right;\"> 0.343136   </td></tr>\n",
       "<tr><td>TrainLightGCN_4bcdef1b</td><td>TERMINATED</td><td>147.96.81.131:1829849</td><td style=\"text-align: right;\">          10</td><td style=\"text-align: right;\">            4</td><td style=\"text-align: right;\">              7</td><td>2022-05-05T00:00:00</td><td style=\"text-align: right;\">2.58895e-07</td><td style=\"text-align: right;\">         0.6135</td><td>10YE         </td><td style=\"text-align: right;\">    40</td><td style=\"text-align: right;\">        17.2271 </td><td style=\"text-align: right;\">              179</td><td style=\"text-align: right;\">        200</td><td style=\"text-align: right;\"> 0.879594   </td></tr>\n",
       "<tr><td>TrainLightGCN_304d1ac3</td><td>TERMINATED</td><td>147.96.81.131:1830146</td><td style=\"text-align: right;\">          10</td><td style=\"text-align: right;\">            4</td><td style=\"text-align: right;\">              1</td><td>2022-05-05T00:00:00</td><td style=\"text-align: right;\">1.98502e-07</td><td style=\"text-align: right;\">         0.0085</td><td>30d          </td><td style=\"text-align: right;\">    40</td><td style=\"text-align: right;\">         8.92244</td><td style=\"text-align: right;\">               22</td><td style=\"text-align: right;\">        200</td><td style=\"text-align: right;\"> 0.315306   </td></tr>\n",
       "<tr><td>TrainLightGCN_7ae77117</td><td>TERMINATED</td><td>147.96.81.131:1829998</td><td style=\"text-align: right;\">          10</td><td style=\"text-align: right;\">            4</td><td style=\"text-align: right;\">             37</td><td>2022-05-05T00:00:00</td><td style=\"text-align: right;\">7.31265e-07</td><td style=\"text-align: right;\">         0.2154</td><td>21d          </td><td style=\"text-align: right;\">    40</td><td style=\"text-align: right;\">         7.7295 </td><td style=\"text-align: right;\">               19</td><td style=\"text-align: right;\">        200</td><td style=\"text-align: right;\"> 0.00114421 </td></tr>\n",
       "<tr><td>TrainLightGCN_0743c1e0</td><td>TERMINATED</td><td>147.96.81.131:1829693</td><td style=\"text-align: right;\">          10</td><td style=\"text-align: right;\">            4</td><td style=\"text-align: right;\">             21</td><td>2022-05-05T00:00:00</td><td style=\"text-align: right;\">1.07112e-07</td><td style=\"text-align: right;\">         0.7838</td><td>90d          </td><td style=\"text-align: right;\">    40</td><td style=\"text-align: right;\">        10.7453 </td><td style=\"text-align: right;\">               50</td><td style=\"text-align: right;\">        200</td><td style=\"text-align: right;\"> 0.29763    </td></tr>\n",
       "<tr><td>TrainLightGCN_56bf7b8e</td><td>TERMINATED</td><td>147.96.81.131:1829544</td><td style=\"text-align: right;\">          10</td><td style=\"text-align: right;\">            4</td><td style=\"text-align: right;\">              2</td><td>2022-05-05T00:00:00</td><td style=\"text-align: right;\">2.09833e-06</td><td style=\"text-align: right;\">         0.3712</td><td>60d          </td><td style=\"text-align: right;\">    40</td><td style=\"text-align: right;\">         9.79623</td><td style=\"text-align: right;\">               49</td><td style=\"text-align: right;\">        200</td><td style=\"text-align: right;\"> 0.103624   </td></tr>\n",
       "<tr><td>TrainLightGCN_30eb7e01</td><td>TERMINATED</td><td>147.96.81.131:1829403</td><td style=\"text-align: right;\">          10</td><td style=\"text-align: right;\">            4</td><td style=\"text-align: right;\">             18</td><td>2022-05-05T00:00:00</td><td style=\"text-align: right;\">2.89837e-07</td><td style=\"text-align: right;\">         0.3449</td><td>21d          </td><td style=\"text-align: right;\">    40</td><td style=\"text-align: right;\">         7.73168</td><td style=\"text-align: right;\">               19</td><td style=\"text-align: right;\">        200</td><td style=\"text-align: right;\"> 0.000932114</td></tr>\n",
       "<tr><td>TrainLightGCN_93aadb59</td><td>TERMINATED</td><td>147.96.81.131:1828944</td><td style=\"text-align: right;\">           9</td><td style=\"text-align: right;\">            2</td><td style=\"text-align: right;\">             49</td><td>2022-05-05T00:00:00</td><td style=\"text-align: right;\">1.65036e-05</td><td style=\"text-align: right;\">         0.041 </td><td>10YE         </td><td style=\"text-align: right;\">    40</td><td style=\"text-align: right;\">        16.1419 </td><td style=\"text-align: right;\">              179</td><td style=\"text-align: right;\">        200</td><td style=\"text-align: right;\"> 0.0110894  </td></tr>\n",
       "<tr><td>TrainLightGCN_0e7f1069</td><td>TERMINATED</td><td>147.96.81.131:1829255</td><td style=\"text-align: right;\">           7</td><td style=\"text-align: right;\">            2</td><td style=\"text-align: right;\">            933</td><td>2022-05-05T00:00:00</td><td style=\"text-align: right;\">9.50669e-07</td><td style=\"text-align: right;\">         0.5225</td><td>30d          </td><td style=\"text-align: right;\">    40</td><td style=\"text-align: right;\">         8.98394</td><td style=\"text-align: right;\">               22</td><td style=\"text-align: right;\">        200</td><td style=\"text-align: right;\"> 0.438852   </td></tr>\n",
       "<tr><td>TrainLightGCN_94a67438</td><td>TERMINATED</td><td>147.96.81.131:1829107</td><td style=\"text-align: right;\">           6</td><td style=\"text-align: right;\">            2</td><td style=\"text-align: right;\">            136</td><td>2022-05-05T00:00:00</td><td style=\"text-align: right;\">3.88158e-06</td><td style=\"text-align: right;\">         0.1229</td><td>21d          </td><td style=\"text-align: right;\">    40</td><td style=\"text-align: right;\">         7.3806 </td><td style=\"text-align: right;\">               19</td><td style=\"text-align: right;\">        200</td><td style=\"text-align: right;\"> 0.00854432 </td></tr>\n",
       "<tr><td>TrainLightGCN_c9b285c4</td><td>TERMINATED</td><td>147.96.81.131:1828803</td><td style=\"text-align: right;\">          10</td><td style=\"text-align: right;\">            4</td><td style=\"text-align: right;\">             18</td><td>2022-05-05T00:00:00</td><td style=\"text-align: right;\">2.53507e-07</td><td style=\"text-align: right;\">         0.33  </td><td>21d          </td><td style=\"text-align: right;\">    40</td><td style=\"text-align: right;\">         7.64814</td><td style=\"text-align: right;\">               19</td><td style=\"text-align: right;\">        200</td><td style=\"text-align: right;\"> 0.000511832</td></tr>\n",
       "<tr><td>TrainLightGCN_b1056bbe</td><td>TERMINATED</td><td>147.96.81.131:1828662</td><td style=\"text-align: right;\">           8</td><td style=\"text-align: right;\">            1</td><td style=\"text-align: right;\">              6</td><td>2022-05-05T00:00:00</td><td style=\"text-align: right;\">0.00523118 </td><td style=\"text-align: right;\">         0.0124</td><td>60d          </td><td style=\"text-align: right;\">    40</td><td style=\"text-align: right;\">        10.1103 </td><td style=\"text-align: right;\">               49</td><td style=\"text-align: right;\">        200</td><td style=\"text-align: right;\"> 0.080571   </td></tr>\n",
       "<tr><td>TrainLightGCN_8213a9a4</td><td>TERMINATED</td><td>147.96.81.131:1828218</td><td style=\"text-align: right;\">           9</td><td style=\"text-align: right;\">            2</td><td style=\"text-align: right;\">             15</td><td>2022-05-05T00:00:00</td><td style=\"text-align: right;\">6.92292e-05</td><td style=\"text-align: right;\">         0.0049</td><td>10YE         </td><td style=\"text-align: right;\">    40</td><td style=\"text-align: right;\">        16.846  </td><td style=\"text-align: right;\">              179</td><td style=\"text-align: right;\">        200</td><td style=\"text-align: right;\"> 0.00526141 </td></tr>\n",
       "<tr><td>TrainLightGCN_3e52d7c5</td><td>TERMINATED</td><td>147.96.81.131:1828508</td><td style=\"text-align: right;\">           7</td><td style=\"text-align: right;\">            2</td><td style=\"text-align: right;\">            148</td><td>2022-05-05T00:00:00</td><td style=\"text-align: right;\">5.33721e-06</td><td style=\"text-align: right;\">         0.1225</td><td>21d          </td><td style=\"text-align: right;\">    40</td><td style=\"text-align: right;\">         7.83472</td><td style=\"text-align: right;\">               19</td><td style=\"text-align: right;\">        200</td><td style=\"text-align: right;\"> 0.0120849  </td></tr>\n",
       "<tr><td>TrainLightGCN_265264d4</td><td>TERMINATED</td><td>147.96.81.131:1828367</td><td style=\"text-align: right;\">           6</td><td style=\"text-align: right;\">            3</td><td style=\"text-align: right;\">              2</td><td>2022-05-05T00:00:00</td><td style=\"text-align: right;\">4.53102e-07</td><td style=\"text-align: right;\">         0.0172</td><td>90d          </td><td style=\"text-align: right;\">    40</td><td style=\"text-align: right;\">        11.0752 </td><td style=\"text-align: right;\">               50</td><td style=\"text-align: right;\">        200</td><td style=\"text-align: right;\"> 0.107469   </td></tr>\n",
       "<tr><td>TrainLightGCN_7607a853</td><td>TERMINATED</td><td>147.96.81.131:1828070</td><td style=\"text-align: right;\">           7</td><td style=\"text-align: right;\">            4</td><td style=\"text-align: right;\">             50</td><td>2022-05-05T00:00:00</td><td style=\"text-align: right;\">0.000336924</td><td style=\"text-align: right;\">         0.3041</td><td>21d          </td><td style=\"text-align: right;\">    40</td><td style=\"text-align: right;\">         7.49277</td><td style=\"text-align: right;\">               19</td><td style=\"text-align: right;\">        200</td><td style=\"text-align: right;\"> 0.185848   </td></tr>\n",
       "<tr><td>TrainLightGCN_ebae38a0</td><td>TERMINATED</td><td>147.96.81.131:1827920</td><td style=\"text-align: right;\">           9</td><td style=\"text-align: right;\">            3</td><td style=\"text-align: right;\">            970</td><td>2022-05-05T00:00:00</td><td style=\"text-align: right;\">2.10706e-05</td><td style=\"text-align: right;\">         0.0066</td><td>90d          </td><td style=\"text-align: right;\">    40</td><td style=\"text-align: right;\">        10.5355 </td><td style=\"text-align: right;\">               50</td><td style=\"text-align: right;\">        200</td><td style=\"text-align: right;\"> 0.00152285 </td></tr>\n",
       "<tr><td>TrainLightGCN_eff555dd</td><td>TERMINATED</td><td>147.96.81.131:1827770</td><td style=\"text-align: right;\">           8</td><td style=\"text-align: right;\">            3</td><td style=\"text-align: right;\">            135</td><td>2022-05-05T00:00:00</td><td style=\"text-align: right;\">5.16387e-06</td><td style=\"text-align: right;\">         0.0544</td><td>60d          </td><td style=\"text-align: right;\">    40</td><td style=\"text-align: right;\">         9.23732</td><td style=\"text-align: right;\">               49</td><td style=\"text-align: right;\">        200</td><td style=\"text-align: right;\"> 0.0194946  </td></tr>\n",
       "<tr><td>TrainLightGCN_6a6066d1</td><td>TERMINATED</td><td>147.96.81.131:1827621</td><td style=\"text-align: right;\">           8</td><td style=\"text-align: right;\">            1</td><td style=\"text-align: right;\">             55</td><td>2022-05-05T00:00:00</td><td style=\"text-align: right;\">7.30402e-05</td><td style=\"text-align: right;\">         0.9897</td><td>21d          </td><td style=\"text-align: right;\">    40</td><td style=\"text-align: right;\">         7.19745</td><td style=\"text-align: right;\">               19</td><td style=\"text-align: right;\">        200</td><td style=\"text-align: right;\"> 3.66033    </td></tr>\n",
       "<tr><td>TrainLightGCN_c86b5587</td><td>TERMINATED</td><td>147.96.81.131:1827473</td><td style=\"text-align: right;\">           9</td><td style=\"text-align: right;\">            4</td><td style=\"text-align: right;\">              2</td><td>2022-05-05T00:00:00</td><td style=\"text-align: right;\">1.02194e-05</td><td style=\"text-align: right;\">         0.0227</td><td>21d          </td><td style=\"text-align: right;\">    40</td><td style=\"text-align: right;\">         6.88786</td><td style=\"text-align: right;\">               19</td><td style=\"text-align: right;\">        200</td><td style=\"text-align: right;\"> 0.124114   </td></tr>\n",
       "<tr><td>TrainLightGCN_657b2f1d</td><td>TERMINATED</td><td>147.96.81.131:1827322</td><td style=\"text-align: right;\">          10</td><td style=\"text-align: right;\">            3</td><td style=\"text-align: right;\">             16</td><td>2022-05-05T00:00:00</td><td style=\"text-align: right;\">4.40068e-07</td><td style=\"text-align: right;\">         0.2697</td><td>21d          </td><td style=\"text-align: right;\">    40</td><td style=\"text-align: right;\">         7.22398</td><td style=\"text-align: right;\">               19</td><td style=\"text-align: right;\">        200</td><td style=\"text-align: right;\"> 0.000527395</td></tr>\n",
       "<tr><td>TrainLightGCN_a27337dd</td><td>TERMINATED</td><td>147.96.81.131:1827174</td><td style=\"text-align: right;\">           7</td><td style=\"text-align: right;\">            3</td><td style=\"text-align: right;\">              5</td><td>2022-05-05T00:00:00</td><td style=\"text-align: right;\">4.57864e-07</td><td style=\"text-align: right;\">         0.0759</td><td>21d          </td><td style=\"text-align: right;\">    40</td><td style=\"text-align: right;\">         7.36743</td><td style=\"text-align: right;\">               19</td><td style=\"text-align: right;\">        200</td><td style=\"text-align: right;\"> 0.000162519</td></tr>\n",
       "<tr><td>TrainLightGCN_d7b56514</td><td>TERMINATED</td><td>147.96.81.131:1827021</td><td style=\"text-align: right;\">           8</td><td style=\"text-align: right;\">            1</td><td style=\"text-align: right;\">              1</td><td>2022-05-05T00:00:00</td><td style=\"text-align: right;\">1.13095e-05</td><td style=\"text-align: right;\">         0.9932</td><td>21d          </td><td style=\"text-align: right;\">    40</td><td style=\"text-align: right;\">         7.18073</td><td style=\"text-align: right;\">               19</td><td style=\"text-align: right;\">        200</td><td style=\"text-align: right;\"> 0.472145   </td></tr>\n",
       "<tr><td>TrainLightGCN_15806e59</td><td>TERMINATED</td><td>147.96.81.131:1826873</td><td style=\"text-align: right;\">           9</td><td style=\"text-align: right;\">            4</td><td style=\"text-align: right;\">              4</td><td>2022-05-05T00:00:00</td><td style=\"text-align: right;\">0.00661372 </td><td style=\"text-align: right;\">         0.1515</td><td>21d          </td><td style=\"text-align: right;\">    40</td><td style=\"text-align: right;\">         7.49027</td><td style=\"text-align: right;\">               19</td><td style=\"text-align: right;\">        200</td><td style=\"text-align: right;\"> 0.178202   </td></tr>\n",
       "<tr><td>TrainLightGCN_9f2aca97</td><td>TERMINATED</td><td>147.96.81.131:1826724</td><td style=\"text-align: right;\">          10</td><td style=\"text-align: right;\">            1</td><td style=\"text-align: right;\">             10</td><td>2022-05-05T00:00:00</td><td style=\"text-align: right;\">1.31125e-07</td><td style=\"text-align: right;\">         0.0256</td><td>21d          </td><td style=\"text-align: right;\">    40</td><td style=\"text-align: right;\">         7.45365</td><td style=\"text-align: right;\">               19</td><td style=\"text-align: right;\">        200</td><td style=\"text-align: right;\"> 0.000114269</td></tr>\n",
       "<tr><td>TrainLightGCN_d758bc22</td><td>TERMINATED</td><td>147.96.81.131:1826135</td><td style=\"text-align: right;\">           7</td><td style=\"text-align: right;\">            4</td><td style=\"text-align: right;\">             97</td><td>2022-05-05T00:00:00</td><td style=\"text-align: right;\">6.09932e-05</td><td style=\"text-align: right;\">         0.0021</td><td>10YE         </td><td style=\"text-align: right;\">    40</td><td style=\"text-align: right;\">        20.082  </td><td style=\"text-align: right;\">              128</td><td style=\"text-align: right;\">        200</td><td style=\"text-align: right;\"> 0.00560513 </td></tr>\n",
       "<tr><td>TrainLightGCN_ad870bcf</td><td>TERMINATED</td><td>147.96.81.131:1826582</td><td style=\"text-align: right;\">           6</td><td style=\"text-align: right;\">            1</td><td style=\"text-align: right;\">              9</td><td>2022-05-05T00:00:00</td><td style=\"text-align: right;\">1.59086e-07</td><td style=\"text-align: right;\">         0.0542</td><td>21d          </td><td style=\"text-align: right;\">    40</td><td style=\"text-align: right;\">         7.5053 </td><td style=\"text-align: right;\">               19</td><td style=\"text-align: right;\">        200</td><td style=\"text-align: right;\"> 4.86456e-05</td></tr>\n",
       "<tr><td>TrainLightGCN_cfdbfc03</td><td>TERMINATED</td><td>147.96.81.131:1826426</td><td style=\"text-align: right;\">           8</td><td style=\"text-align: right;\">            1</td><td style=\"text-align: right;\">             10</td><td>2022-05-05T00:00:00</td><td style=\"text-align: right;\">9.60292e-06</td><td style=\"text-align: right;\">         0.0362</td><td>21d          </td><td style=\"text-align: right;\">    40</td><td style=\"text-align: right;\">         7.6651 </td><td style=\"text-align: right;\">               19</td><td style=\"text-align: right;\">        200</td><td style=\"text-align: right;\"> 0.00035575 </td></tr>\n",
       "<tr><td>TrainLightGCN_de7aa74c</td><td>TERMINATED</td><td>147.96.81.131:1826285</td><td style=\"text-align: right;\">           9</td><td style=\"text-align: right;\">            2</td><td style=\"text-align: right;\">              3</td><td>2022-05-05T00:00:00</td><td style=\"text-align: right;\">0.00158506 </td><td style=\"text-align: right;\">         0.0001</td><td>30d          </td><td style=\"text-align: right;\">    40</td><td style=\"text-align: right;\">         8.83369</td><td style=\"text-align: right;\">               22</td><td style=\"text-align: right;\">        200</td><td style=\"text-align: right;\"> 0.647713   </td></tr>\n",
       "<tr><td>TrainLightGCN_28bdc8e8</td><td>TERMINATED</td><td>147.96.81.131:1825985</td><td style=\"text-align: right;\">           8</td><td style=\"text-align: right;\">            2</td><td style=\"text-align: right;\">             27</td><td>2022-05-05T00:00:00</td><td style=\"text-align: right;\">3.06006e-05</td><td style=\"text-align: right;\">         0.2056</td><td>30d          </td><td style=\"text-align: right;\">    40</td><td style=\"text-align: right;\">         8.62165</td><td style=\"text-align: right;\">               22</td><td style=\"text-align: right;\">        200</td><td style=\"text-align: right;\"> 0.0496317  </td></tr>\n",
       "<tr><td>TrainLightGCN_5a7dc1b7</td><td>TERMINATED</td><td>147.96.81.131:1825830</td><td style=\"text-align: right;\">           8</td><td style=\"text-align: right;\">            2</td><td style=\"text-align: right;\">            241</td><td>2022-05-05T00:00:00</td><td style=\"text-align: right;\">5.10482e-06</td><td style=\"text-align: right;\">         0.0017</td><td>90d          </td><td style=\"text-align: right;\">    40</td><td style=\"text-align: right;\">        10.6371 </td><td style=\"text-align: right;\">               50</td><td style=\"text-align: right;\">        200</td><td style=\"text-align: right;\"> 0.000647309</td></tr>\n",
       "<tr><td>TrainLightGCN_58d423b2</td><td>TERMINATED</td><td>147.96.81.131:1825687</td><td style=\"text-align: right;\">           9</td><td style=\"text-align: right;\">            4</td><td style=\"text-align: right;\">              7</td><td>2022-05-05T00:00:00</td><td style=\"text-align: right;\">2.91903e-06</td><td style=\"text-align: right;\">         0.1593</td><td>21d          </td><td style=\"text-align: right;\">    40</td><td style=\"text-align: right;\">         7.43244</td><td style=\"text-align: right;\">               19</td><td style=\"text-align: right;\">        200</td><td style=\"text-align: right;\"> 0.000411855</td></tr>\n",
       "<tr><td>TrainLightGCN_d7d0fb68</td><td>TERMINATED</td><td>147.96.81.131:1825536</td><td style=\"text-align: right;\">           9</td><td style=\"text-align: right;\">            3</td><td style=\"text-align: right;\">            447</td><td>2022-05-05T00:00:00</td><td style=\"text-align: right;\">0.000129301</td><td style=\"text-align: right;\">         0.0008</td><td>60d          </td><td style=\"text-align: right;\">    40</td><td style=\"text-align: right;\">         9.87098</td><td style=\"text-align: right;\">               49</td><td style=\"text-align: right;\">        200</td><td style=\"text-align: right;\"> 0.00934833 </td></tr>\n",
       "<tr><td>TrainLightGCN_0faf9846</td><td>TERMINATED</td><td>147.96.81.131:1825365</td><td style=\"text-align: right;\">           9</td><td style=\"text-align: right;\">            3</td><td style=\"text-align: right;\">             86</td><td>2022-05-05T00:00:00</td><td style=\"text-align: right;\">0.000166749</td><td style=\"text-align: right;\">         0.0002</td><td>30d          </td><td style=\"text-align: right;\">    40</td><td style=\"text-align: right;\">         8.56725</td><td style=\"text-align: right;\">               22</td><td style=\"text-align: right;\">        200</td><td style=\"text-align: right;\"> 0.129556   </td></tr>\n",
       "<tr><td>TrainLightGCN_a1099060</td><td>TERMINATED</td><td>147.96.81.131:1825224</td><td style=\"text-align: right;\">          10</td><td style=\"text-align: right;\">            2</td><td style=\"text-align: right;\">            364</td><td>2022-05-05T00:00:00</td><td style=\"text-align: right;\">2.08113e-06</td><td style=\"text-align: right;\">         0.0002</td><td>90d          </td><td style=\"text-align: right;\">    40</td><td style=\"text-align: right;\">        10.6246 </td><td style=\"text-align: right;\">               50</td><td style=\"text-align: right;\">        200</td><td style=\"text-align: right;\"> 0.0230225  </td></tr>\n",
       "<tr><td>TrainLightGCN_46c8e4da</td><td>TERMINATED</td><td>147.96.81.131:1825076</td><td style=\"text-align: right;\">           8</td><td style=\"text-align: right;\">            2</td><td style=\"text-align: right;\">             96</td><td>2022-05-05T00:00:00</td><td style=\"text-align: right;\">4.92424e-05</td><td style=\"text-align: right;\">         0.0784</td><td>21d          </td><td style=\"text-align: right;\">    40</td><td style=\"text-align: right;\">         8.4009 </td><td style=\"text-align: right;\">               19</td><td style=\"text-align: right;\">        200</td><td style=\"text-align: right;\"> 0.00209041 </td></tr>\n",
       "<tr><td>TrainLightGCN_186c87a4</td><td>TERMINATED</td><td>147.96.81.131:1824938</td><td style=\"text-align: right;\">           9</td><td style=\"text-align: right;\">            2</td><td style=\"text-align: right;\">             26</td><td>2022-05-05T00:00:00</td><td style=\"text-align: right;\">1.42721e-06</td><td style=\"text-align: right;\">         0.6694</td><td>30d          </td><td style=\"text-align: right;\">    40</td><td style=\"text-align: right;\">        10.0265 </td><td style=\"text-align: right;\">               22</td><td style=\"text-align: right;\">        200</td><td style=\"text-align: right;\"> 0.0320899  </td></tr>\n",
       "<tr><td>TrainLightGCN_c01d741e</td><td>TERMINATED</td><td>147.96.81.131:1824495</td><td style=\"text-align: right;\">          10</td><td style=\"text-align: right;\">            3</td><td style=\"text-align: right;\">            332</td><td>2022-05-05T00:00:00</td><td style=\"text-align: right;\">0.00221159 </td><td style=\"text-align: right;\">         0.4863</td><td>10YE         </td><td style=\"text-align: right;\">    40</td><td style=\"text-align: right;\">        19.0107 </td><td style=\"text-align: right;\">              179</td><td style=\"text-align: right;\">        200</td><td style=\"text-align: right;\">13.2417     </td></tr>\n",
       "<tr><td>TrainLightGCN_6964a9c2</td><td>TERMINATED</td><td>147.96.81.131:1824346</td><td style=\"text-align: right;\">           7</td><td style=\"text-align: right;\">            2</td><td style=\"text-align: right;\">             74</td><td>2022-05-05T00:00:00</td><td style=\"text-align: right;\">8.63799e-07</td><td style=\"text-align: right;\">         0.1736</td><td>10YE         </td><td style=\"text-align: right;\">    40</td><td style=\"text-align: right;\">        22.2887 </td><td style=\"text-align: right;\">              128</td><td style=\"text-align: right;\">        200</td><td style=\"text-align: right;\"> 0.0334775  </td></tr>\n",
       "<tr><td>TrainLightGCN_6e70c1d6</td><td>TERMINATED</td><td>147.96.81.131:1824798</td><td style=\"text-align: right;\">           8</td><td style=\"text-align: right;\">            4</td><td style=\"text-align: right;\">            219</td><td>2022-05-05T00:00:00</td><td style=\"text-align: right;\">0.000261231</td><td style=\"text-align: right;\">         0.095 </td><td>60d          </td><td style=\"text-align: right;\">    40</td><td style=\"text-align: right;\">        11.3713 </td><td style=\"text-align: right;\">               49</td><td style=\"text-align: right;\">        200</td><td style=\"text-align: right;\"> 0.0759468  </td></tr>\n",
       "<tr><td>TrainLightGCN_61fbeb61</td><td>TERMINATED</td><td>147.96.81.131:1824650</td><td style=\"text-align: right;\">          10</td><td style=\"text-align: right;\">            1</td><td style=\"text-align: right;\">              1</td><td>2022-05-05T00:00:00</td><td style=\"text-align: right;\">0.000699071</td><td style=\"text-align: right;\">         0.0029</td><td>21d          </td><td style=\"text-align: right;\">    40</td><td style=\"text-align: right;\">         7.98745</td><td style=\"text-align: right;\">               19</td><td style=\"text-align: right;\">        200</td><td style=\"text-align: right;\"> 0.33591    </td></tr>\n",
       "<tr><td>TrainLightGCN_45931edd</td><td>TERMINATED</td><td>147.96.81.131:1824199</td><td style=\"text-align: right;\">           6</td><td style=\"text-align: right;\">            2</td><td style=\"text-align: right;\">            217</td><td>2022-05-05T00:00:00</td><td style=\"text-align: right;\">2.53991e-06</td><td style=\"text-align: right;\">         0.4785</td><td>21d          </td><td style=\"text-align: right;\">    40</td><td style=\"text-align: right;\">         7.86664</td><td style=\"text-align: right;\">               19</td><td style=\"text-align: right;\">        200</td><td style=\"text-align: right;\"> 0.082393   </td></tr>\n",
       "<tr><td>TrainLightGCN_7c4d0c4b</td><td>TERMINATED</td><td>147.96.81.131:1823767</td><td style=\"text-align: right;\">           8</td><td style=\"text-align: right;\">            4</td><td style=\"text-align: right;\">             32</td><td>2022-05-05T00:00:00</td><td style=\"text-align: right;\">1.24202e-06</td><td style=\"text-align: right;\">         0.015 </td><td>10YE         </td><td style=\"text-align: right;\">    40</td><td style=\"text-align: right;\">        16.9351 </td><td style=\"text-align: right;\">              179</td><td style=\"text-align: right;\">        200</td><td style=\"text-align: right;\"> 0.000352999</td></tr>\n",
       "<tr><td>TrainLightGCN_1fef9266</td><td>TERMINATED</td><td>147.96.81.131:1824058</td><td style=\"text-align: right;\">           7</td><td style=\"text-align: right;\">            2</td><td style=\"text-align: right;\">             34</td><td>2022-05-05T00:00:00</td><td style=\"text-align: right;\">0.0007608  </td><td style=\"text-align: right;\">         0.0091</td><td>60d          </td><td style=\"text-align: right;\">    40</td><td style=\"text-align: right;\">        10.1152 </td><td style=\"text-align: right;\">               49</td><td style=\"text-align: right;\">        200</td><td style=\"text-align: right;\"> 0.022319   </td></tr>\n",
       "<tr><td>TrainLightGCN_24369603</td><td>TERMINATED</td><td>147.96.81.131:1823910</td><td style=\"text-align: right;\">           9</td><td style=\"text-align: right;\">            2</td><td style=\"text-align: right;\">             86</td><td>2022-05-05T00:00:00</td><td style=\"text-align: right;\">0.00134325 </td><td style=\"text-align: right;\">         0.0006</td><td>21d          </td><td style=\"text-align: right;\">    40</td><td style=\"text-align: right;\">         7.61428</td><td style=\"text-align: right;\">               19</td><td style=\"text-align: right;\">        200</td><td style=\"text-align: right;\"> 0.0487203  </td></tr>\n",
       "<tr><td>TrainLightGCN_fde90a51</td><td>TERMINATED</td><td>147.96.81.131:1823625</td><td style=\"text-align: right;\">           9</td><td style=\"text-align: right;\">            3</td><td style=\"text-align: right;\">            665</td><td>2022-05-05T00:00:00</td><td style=\"text-align: right;\">2.74456e-05</td><td style=\"text-align: right;\">         0.0092</td><td>90d          </td><td style=\"text-align: right;\">    40</td><td style=\"text-align: right;\">        10.5865 </td><td style=\"text-align: right;\">               50</td><td style=\"text-align: right;\">        200</td><td style=\"text-align: right;\"> 0.0019532  </td></tr>\n",
       "<tr><td>TrainLightGCN_6a6550df</td><td>TERMINATED</td><td>147.96.81.131:1823509</td><td style=\"text-align: right;\">           7</td><td style=\"text-align: right;\">            3</td><td style=\"text-align: right;\">              3</td><td>2022-05-05T00:00:00</td><td style=\"text-align: right;\">0.00173155 </td><td style=\"text-align: right;\">         0.007 </td><td>30d          </td><td style=\"text-align: right;\">    40</td><td style=\"text-align: right;\">         8.06939</td><td style=\"text-align: right;\">               22</td><td style=\"text-align: right;\">        200</td><td style=\"text-align: right;\"> 0.115697   </td></tr>\n",
       "</tbody>\n",
       "</table>\n",
       "  </div>\n",
       "</div>\n",
       "<style>\n",
       ".tuneStatus {\n",
       "  color: var(--jp-ui-font-color1);\n",
       "}\n",
       ".tuneStatus .systemInfo {\n",
       "  display: flex;\n",
       "  flex-direction: column;\n",
       "}\n",
       ".tuneStatus td {\n",
       "  white-space: nowrap;\n",
       "}\n",
       ".tuneStatus .trialStatus {\n",
       "  display: flex;\n",
       "  flex-direction: column;\n",
       "}\n",
       ".tuneStatus h3 {\n",
       "  font-weight: bold;\n",
       "}\n",
       ".tuneStatus .hDivider {\n",
       "  border-bottom-width: var(--jp-border-width);\n",
       "  border-bottom-color: var(--jp-border-color0);\n",
       "  border-bottom-style: solid;\n",
       "}\n",
       ".tuneStatus .vDivider {\n",
       "  border-left-width: var(--jp-border-width);\n",
       "  border-left-color: var(--jp-border-color0);\n",
       "  border-left-style: solid;\n",
       "  margin: 0.5em 1em 0.5em 1em;\n",
       "}\n",
       "</style>\n"
      ],
      "text/plain": [
       "<IPython.core.display.HTML object>"
      ]
     },
     "metadata": {},
     "output_type": "display_data"
    },
    {
     "name": "stderr",
     "output_type": "stream",
     "text": [
      "2024-09-05 09:44:08,333\tINFO tune_controller.py:444 -- Restoring the run from the latest experiment state file: experiment_state-2024-09-05_09-44-07.json\n"
     ]
    },
    {
     "name": "stderr",
     "output_type": "stream",
     "text": [
      "2024-09-05 09:44:08,926\tINFO tune.py:1009 -- Wrote the latest version of all result files and experiment state to '/home/daviddavo/ray_results3.11/dxDAO - xDXdao/LightGCN_W-THU_normalize_map@10_fold=2022-05-05T00:00:00_2024-07-19T10:52:09.209601' in 0.3583s.\n"
     ]
    },
    {
     "name": "stderr",
     "output_type": "stream",
     "text": [
      "2024-09-05 09:44:08,939\tINFO tune.py:1041 -- Total run time: 0.61 seconds (0.00 seconds for the tuning loop).\n"
     ]
    },
    {
     "name": "stdout",
     "output_type": "stream",
     "text": [
      "Finished training for fold 2022-05-05T00:00:00\n"
     ]
    }
   ],
   "source": [
    "import logging\n",
    "import requests\n",
    "\n",
    "def findConfig(rg):\n",
    "    for r in rg:\n",
    "        if r.config:\n",
    "            lbrc = last_best_result.config\n",
    "            if all((r.config[k] == v for k, v in last_best_result.config.items() if k != 'fold')):\n",
    "                return r\n",
    "            elif all((r.config[k] == v for k, v in last_best_result.config.items() if k != 'fold' and k != 'window_size')):\n",
    "                print(\"Possible coincidence:\", r.config, file=sys.stderr)\n",
    "\n",
    "    return None\n",
    "\n",
    "tuners = []\n",
    "results = []\n",
    "last_best_result = None\n",
    "pbar.reset()\n",
    "\n",
    "last_best_fold = None\n",
    "requests.post(\"https://ntfy.sh/grasia_notebooks\", data=f\"Start running microsoft_tuning for {ORG_NAME}\")\n",
    "for i, (prev_f_idx, f_idx) in enumerate(zip(it.chain([None], use_folds_idx), use_folds_idx)):\n",
    "    try:\n",
    "        with out:\n",
    "            best_prev_config = None\n",
    "            if last_best_result is not None:\n",
    "                best_prev_config = last_best_result.config.copy()\n",
    "                assert best_prev_config['fold'] == prev_f_idx\n",
    "                best_prev_config['fold'] = f_idx\n",
    "                print(f\"Also evaluating best_prev_config ({OPTIM_METRIC}={last_best_result.metrics[OPTIM_METRIC]}): {best_prev_config}\")\n",
    "                best_prev_config = [best_prev_config]\n",
    "        \n",
    "        t = getTunerOnFold(f_idx, best_prev_config)\n",
    "        tuners.append(t)\n",
    "    \n",
    "        rg = t.fit()\n",
    "        \n",
    "        # FIXME: load results from disk until ray-project/ray#47358 is solved\n",
    "        # https://github.com/ray-project/ray/issues/47358\n",
    "        t = getTunerOnFold(f_idx, best_prev_config)\n",
    "        tuners[-1] = t\n",
    "        rg = t.fit()\n",
    "    \n",
    "        assert rg.num_errors == 0, f\"There are {rg.num_errors} errors\"\n",
    "        assert rg.num_terminated >= NUM_SAMPLES, f'Some samples are not terminated ({rg.num_terminated} != {NUM_SAMPLES})'\n",
    "        assert len(rg.get_dataframe()) >= NUM_SAMPLES\n",
    "        results.append(rg)\n",
    "    \n",
    "        # Assert that the prev config has been tried\n",
    "        if last_best_result is not None:\n",
    "            # if not any( \n",
    "            #     all((r.config[k] == v for k, v in last_best_result.config.items() if k != 'fold'))\n",
    "            #     for r in rg if r.config\n",
    "            # ):\n",
    "            if not findConfig(rg):\n",
    "                print(\"Best config:\", last_best_result.config)\n",
    "                assert False, f\"The best config from previous fold has not been tested in fold {f_idx}\"    \n",
    "            else:\n",
    "                logging.info(f'Fold {f_idx}. Best prev result was {last_best_result.path} and config has been found {findConfig(rg).path}')\n",
    "        \n",
    "        last_best_result = rg.get_best_result()\n",
    "        pbar.update()\n",
    "    \n",
    "        print(f\"Finished training for fold {f_idx}\")\n",
    "        requests.post(\"https://ntfy.sh/grasia_notebooks\", data=f\"Finished running fold {i} for {ORG_NAME}\")\n",
    "    except Exception as e:\n",
    "        requests.post(\"https://ntfy.sh/grasia_notebooks\", data=f\"Error on fold {i} for {ORG_NAME}: {repr(e)}\")\n",
    "        raise\n",
    "\n",
    "pbar.close()"
   ]
  },
  {
   "cell_type": "code",
   "execution_count": 23,
   "id": "c19a990a",
   "metadata": {
    "editable": true,
    "execution": {
     "iopub.execute_input": "2024-09-05T09:44:09.462043Z",
     "iopub.status.busy": "2024-09-05T09:44:09.461915Z",
     "iopub.status.idle": "2024-09-05T09:44:09.792943Z",
     "shell.execute_reply": "2024-09-05T09:44:09.791681Z"
    },
    "papermill": {
     "duration": 0.338495,
     "end_time": "2024-09-05T09:44:09.795885",
     "exception": false,
     "start_time": "2024-09-05T09:44:09.457390",
     "status": "completed"
    },
    "slideshow": {
     "slide_type": ""
    },
    "tags": []
   },
   "outputs": [
    {
     "name": "stdout",
     "output_type": "stream",
     "text": [
      "Finished!\n"
     ]
    }
   ],
   "source": [
    "requests.post(\"https://ntfy.sh/grasia_notebooks\", data=f\"Finished running everything for {ORG_NAME}\")\n",
    "print(\"Finished!\")"
   ]
  }
 ],
 "metadata": {
  "kernelspec": {
   "display_name": "Python 3 (ipykernel)",
   "language": "python",
   "name": "python3"
  },
  "language_info": {
   "codemirror_mode": {
    "name": "ipython",
    "version": 3
   },
   "file_extension": ".py",
   "mimetype": "text/x-python",
   "name": "python",
   "nbconvert_exporter": "python",
   "pygments_lexer": "ipython3",
   "version": "3.11.6"
  },
  "papermill": {
   "default_parameters": {},
   "duration": 39.841001,
   "end_time": "2024-09-05T09:44:14.930494",
   "environment_variables": {},
   "exception": null,
   "input_path": "20_microsoft_tuning.ipynb",
   "output_path": "../nbout/dxDAO - xDXdao/20_microsoft_tuning.ipynb",
   "parameters": {
    "EXECUTION_ID": "2024-09-04T10:00",
    "LAST_FOLDS": 10,
    "LAST_FOLD_DATE_STR": "2022-05-05",
    "ORG_NAME": "dxDAO - xDXdao",
    "SPLITS_FREQ": "W-THU",
    "SPLITS_NORMALIZE": true
   },
   "start_time": "2024-09-05T09:43:35.089493",
   "version": "2.6.0"
  },
  "widgets": {
   "application/vnd.jupyter.widget-state+json": {
    "state": {
     "05c9cab6a3cf4bc0bac3e90fb7580970": {
      "model_module": "@jupyter-widgets/controls",
      "model_module_version": "2.0.0",
      "model_name": "HTMLModel",
      "state": {
       "_dom_classes": [],
       "_model_module": "@jupyter-widgets/controls",
       "_model_module_version": "2.0.0",
       "_model_name": "HTMLModel",
       "_view_count": null,
       "_view_module": "@jupyter-widgets/controls",
       "_view_module_version": "2.0.0",
       "_view_name": "HTMLView",
       "description": "",
       "description_allow_html": false,
       "layout": "IPY_MODEL_f2696922f2fa434a887f3f48e7a80146",
       "placeholder": "​",
       "style": "IPY_MODEL_58d0306e5c294755bc5992872aa04919",
       "tabbable": null,
       "tooltip": null,
       "value": " 10/10 [00:29&lt;00:00,  2.73s/it]"
      }
     },
     "454e5b3258ba422ca1c20d5ccd6f56d3": {
      "model_module": "@jupyter-widgets/controls",
      "model_module_version": "2.0.0",
      "model_name": "FloatProgressModel",
      "state": {
       "_dom_classes": [],
       "_model_module": "@jupyter-widgets/controls",
       "_model_module_version": "2.0.0",
       "_model_name": "FloatProgressModel",
       "_view_count": null,
       "_view_module": "@jupyter-widgets/controls",
       "_view_module_version": "2.0.0",
       "_view_name": "ProgressView",
       "bar_style": "success",
       "description": "",
       "description_allow_html": false,
       "layout": "IPY_MODEL_82701906cd454afc83d86fb1597026f2",
       "max": 10.0,
       "min": 0.0,
       "orientation": "horizontal",
       "style": "IPY_MODEL_e799d786772c4bd299430057abd3a6a1",
       "tabbable": null,
       "tooltip": null,
       "value": 10.0
      }
     },
     "58d0306e5c294755bc5992872aa04919": {
      "model_module": "@jupyter-widgets/controls",
      "model_module_version": "2.0.0",
      "model_name": "HTMLStyleModel",
      "state": {
       "_model_module": "@jupyter-widgets/controls",
       "_model_module_version": "2.0.0",
       "_model_name": "HTMLStyleModel",
       "_view_count": null,
       "_view_module": "@jupyter-widgets/base",
       "_view_module_version": "2.0.0",
       "_view_name": "StyleView",
       "background": null,
       "description_width": "",
       "font_size": null,
       "text_color": null
      }
     },
     "66ef67d1b7d84b7db58d9ca2a46f025a": {
      "model_module": "@jupyter-widgets/controls",
      "model_module_version": "2.0.0",
      "model_name": "HTMLModel",
      "state": {
       "_dom_classes": [],
       "_model_module": "@jupyter-widgets/controls",
       "_model_module_version": "2.0.0",
       "_model_name": "HTMLModel",
       "_view_count": null,
       "_view_module": "@jupyter-widgets/controls",
       "_view_module_version": "2.0.0",
       "_view_name": "HTMLView",
       "description": "",
       "description_allow_html": false,
       "layout": "IPY_MODEL_7159a3af1f414040ae727bfafc0d3111",
       "placeholder": "​",
       "style": "IPY_MODEL_dcbc262b1a3544f4ada635223f18c8fa",
       "tabbable": null,
       "tooltip": null,
       "value": "fold: 100%"
      }
     },
     "7159a3af1f414040ae727bfafc0d3111": {
      "model_module": "@jupyter-widgets/base",
      "model_module_version": "2.0.0",
      "model_name": "LayoutModel",
      "state": {
       "_model_module": "@jupyter-widgets/base",
       "_model_module_version": "2.0.0",
       "_model_name": "LayoutModel",
       "_view_count": null,
       "_view_module": "@jupyter-widgets/base",
       "_view_module_version": "2.0.0",
       "_view_name": "LayoutView",
       "align_content": null,
       "align_items": null,
       "align_self": null,
       "border_bottom": null,
       "border_left": null,
       "border_right": null,
       "border_top": null,
       "bottom": null,
       "display": null,
       "flex": null,
       "flex_flow": null,
       "grid_area": null,
       "grid_auto_columns": null,
       "grid_auto_flow": null,
       "grid_auto_rows": null,
       "grid_column": null,
       "grid_gap": null,
       "grid_row": null,
       "grid_template_areas": null,
       "grid_template_columns": null,
       "grid_template_rows": null,
       "height": null,
       "justify_content": null,
       "justify_items": null,
       "left": null,
       "margin": null,
       "max_height": null,
       "max_width": null,
       "min_height": null,
       "min_width": null,
       "object_fit": null,
       "object_position": null,
       "order": null,
       "overflow": null,
       "padding": null,
       "right": null,
       "top": null,
       "visibility": null,
       "width": null
      }
     },
     "82701906cd454afc83d86fb1597026f2": {
      "model_module": "@jupyter-widgets/base",
      "model_module_version": "2.0.0",
      "model_name": "LayoutModel",
      "state": {
       "_model_module": "@jupyter-widgets/base",
       "_model_module_version": "2.0.0",
       "_model_name": "LayoutModel",
       "_view_count": null,
       "_view_module": "@jupyter-widgets/base",
       "_view_module_version": "2.0.0",
       "_view_name": "LayoutView",
       "align_content": null,
       "align_items": null,
       "align_self": null,
       "border_bottom": null,
       "border_left": null,
       "border_right": null,
       "border_top": null,
       "bottom": null,
       "display": null,
       "flex": null,
       "flex_flow": null,
       "grid_area": null,
       "grid_auto_columns": null,
       "grid_auto_flow": null,
       "grid_auto_rows": null,
       "grid_column": null,
       "grid_gap": null,
       "grid_row": null,
       "grid_template_areas": null,
       "grid_template_columns": null,
       "grid_template_rows": null,
       "height": null,
       "justify_content": null,
       "justify_items": null,
       "left": null,
       "margin": null,
       "max_height": null,
       "max_width": null,
       "min_height": null,
       "min_width": null,
       "object_fit": null,
       "object_position": null,
       "order": null,
       "overflow": null,
       "padding": null,
       "right": null,
       "top": null,
       "visibility": null,
       "width": null
      }
     },
     "a17132e708d3462da7644eeb048de70a": {
      "model_module": "@jupyter-widgets/controls",
      "model_module_version": "2.0.0",
      "model_name": "HBoxModel",
      "state": {
       "_dom_classes": [],
       "_model_module": "@jupyter-widgets/controls",
       "_model_module_version": "2.0.0",
       "_model_name": "HBoxModel",
       "_view_count": null,
       "_view_module": "@jupyter-widgets/controls",
       "_view_module_version": "2.0.0",
       "_view_name": "HBoxView",
       "box_style": "",
       "children": [
        "IPY_MODEL_66ef67d1b7d84b7db58d9ca2a46f025a",
        "IPY_MODEL_454e5b3258ba422ca1c20d5ccd6f56d3",
        "IPY_MODEL_05c9cab6a3cf4bc0bac3e90fb7580970"
       ],
       "layout": "IPY_MODEL_dc94775c72e7495d9347d8f5d397dab2",
       "tabbable": null,
       "tooltip": null
      }
     },
     "dc94775c72e7495d9347d8f5d397dab2": {
      "model_module": "@jupyter-widgets/base",
      "model_module_version": "2.0.0",
      "model_name": "LayoutModel",
      "state": {
       "_model_module": "@jupyter-widgets/base",
       "_model_module_version": "2.0.0",
       "_model_name": "LayoutModel",
       "_view_count": null,
       "_view_module": "@jupyter-widgets/base",
       "_view_module_version": "2.0.0",
       "_view_name": "LayoutView",
       "align_content": null,
       "align_items": null,
       "align_self": null,
       "border_bottom": null,
       "border_left": null,
       "border_right": null,
       "border_top": null,
       "bottom": null,
       "display": null,
       "flex": null,
       "flex_flow": null,
       "grid_area": null,
       "grid_auto_columns": null,
       "grid_auto_flow": null,
       "grid_auto_rows": null,
       "grid_column": null,
       "grid_gap": null,
       "grid_row": null,
       "grid_template_areas": null,
       "grid_template_columns": null,
       "grid_template_rows": null,
       "height": null,
       "justify_content": null,
       "justify_items": null,
       "left": null,
       "margin": null,
       "max_height": null,
       "max_width": null,
       "min_height": null,
       "min_width": null,
       "object_fit": null,
       "object_position": null,
       "order": null,
       "overflow": null,
       "padding": null,
       "right": null,
       "top": null,
       "visibility": null,
       "width": null
      }
     },
     "dcbc262b1a3544f4ada635223f18c8fa": {
      "model_module": "@jupyter-widgets/controls",
      "model_module_version": "2.0.0",
      "model_name": "HTMLStyleModel",
      "state": {
       "_model_module": "@jupyter-widgets/controls",
       "_model_module_version": "2.0.0",
       "_model_name": "HTMLStyleModel",
       "_view_count": null,
       "_view_module": "@jupyter-widgets/base",
       "_view_module_version": "2.0.0",
       "_view_name": "StyleView",
       "background": null,
       "description_width": "",
       "font_size": null,
       "text_color": null
      }
     },
     "e1c824380fec4a9a981c20b20a03e3de": {
      "model_module": "@jupyter-widgets/base",
      "model_module_version": "2.0.0",
      "model_name": "LayoutModel",
      "state": {
       "_model_module": "@jupyter-widgets/base",
       "_model_module_version": "2.0.0",
       "_model_name": "LayoutModel",
       "_view_count": null,
       "_view_module": "@jupyter-widgets/base",
       "_view_module_version": "2.0.0",
       "_view_name": "LayoutView",
       "align_content": null,
       "align_items": null,
       "align_self": null,
       "border_bottom": "1px solid black",
       "border_left": "1px solid black",
       "border_right": "1px solid black",
       "border_top": "1px solid black",
       "bottom": null,
       "display": null,
       "flex": null,
       "flex_flow": null,
       "grid_area": null,
       "grid_auto_columns": null,
       "grid_auto_flow": null,
       "grid_auto_rows": null,
       "grid_column": null,
       "grid_gap": null,
       "grid_row": null,
       "grid_template_areas": null,
       "grid_template_columns": null,
       "grid_template_rows": null,
       "height": null,
       "justify_content": null,
       "justify_items": null,
       "left": null,
       "margin": null,
       "max_height": null,
       "max_width": null,
       "min_height": null,
       "min_width": null,
       "object_fit": null,
       "object_position": null,
       "order": null,
       "overflow": null,
       "padding": null,
       "right": null,
       "top": null,
       "visibility": null,
       "width": null
      }
     },
     "e5c4ae8018b342cf8fd98dc2201284f8": {
      "model_module": "@jupyter-widgets/output",
      "model_module_version": "1.0.0",
      "model_name": "OutputModel",
      "state": {
       "_dom_classes": [],
       "_model_module": "@jupyter-widgets/output",
       "_model_module_version": "1.0.0",
       "_model_name": "OutputModel",
       "_view_count": null,
       "_view_module": "@jupyter-widgets/output",
       "_view_module_version": "1.0.0",
       "_view_name": "OutputView",
       "layout": "IPY_MODEL_e1c824380fec4a9a981c20b20a03e3de",
       "msg_id": "",
       "outputs": [
        {
         "name": "stdout",
         "output_type": "stream",
         "text": "In this cell important output from the next cell will be shown\nAlso evaluating best_prev_config (map@10=0.5080118312757201): {'batch_size': 7, 'embedding_dim': 73, 'conv_layers': 4, 'learning_rate': 0.041800000000000004, 'l2': 0.00010195780832501491, 'window_size': '21d', 'fold': '2022-03-10T00:00:00'}\nAlso evaluating best_prev_config (map@10=0.37111627900318384): {'batch_size': 6, 'embedding_dim': 217, 'conv_layers': 2, 'learning_rate': 0.47850000000000004, 'l2': 2.539908649333967e-06, 'window_size': '21d', 'fold': '2022-03-17T00:00:00'}\nAlso evaluating best_prev_config (map@10=0.3861233938019652): {'batch_size': 8, 'embedding_dim': 933, 'conv_layers': 3, 'learning_rate': 0.0478, 'l2': 5.061851671497106e-07, 'window_size': '30d', 'fold': '2022-03-24T00:00:00'}\nAlso evaluating best_prev_config (map@10=0.19140300671550675): {'batch_size': 8, 'embedding_dim': 94, 'conv_layers': 2, 'learning_rate': 0.196, 'l2': 9.63134545116739e-06, 'window_size': '30d', 'fold': '2022-03-31T00:00:00'}\nAlso evaluating best_prev_config (map@10=0.4969867724867725): {'batch_size': 6, 'embedding_dim': 6, 'conv_layers': 1, 'learning_rate': 0.022500000000000003, 'l2': 1.3295360723907716e-07, 'window_size': '21d', 'fold': '2022-04-07T00:00:00'}\nAlso evaluating best_prev_config (map@10=0.3635744810744811): {'batch_size': 9, 'embedding_dim': 272, 'conv_layers': 1, 'learning_rate': 0.0002, 'l2': 0.0011259030072542733, 'window_size': '60d', 'fold': '2022-04-14T00:00:00'}\nAlso evaluating best_prev_config (map@10=0.22175324675324673): {'batch_size': 8, 'embedding_dim': 8, 'conv_layers': 1, 'learning_rate': 0.0001, 'l2': 0.0007610555961344898, 'window_size': '30d', 'fold': '2022-04-21T00:00:00'}\nAlso evaluating best_prev_config (map@10=0.35924036281179134): {'batch_size': 7, 'embedding_dim': 319, 'conv_layers': 1, 'learning_rate': 0.5705, 'l2': 1.1557636403759147e-05, 'window_size': '60d', 'fold': '2022-04-28T00:00:00'}\nAlso evaluating best_prev_config (map@10=0.49948063400444354): {'batch_size': 7, 'embedding_dim': 3, 'conv_layers': 3, 'learning_rate': 0.007, 'l2': 0.0017315498372457762, 'window_size': '30d', 'fold': '2022-05-05T00:00:00'}\n"
        }
       ],
       "tabbable": null,
       "tooltip": null
      }
     },
     "e799d786772c4bd299430057abd3a6a1": {
      "model_module": "@jupyter-widgets/controls",
      "model_module_version": "2.0.0",
      "model_name": "ProgressStyleModel",
      "state": {
       "_model_module": "@jupyter-widgets/controls",
       "_model_module_version": "2.0.0",
       "_model_name": "ProgressStyleModel",
       "_view_count": null,
       "_view_module": "@jupyter-widgets/base",
       "_view_module_version": "2.0.0",
       "_view_name": "StyleView",
       "bar_color": null,
       "description_width": ""
      }
     },
     "f2696922f2fa434a887f3f48e7a80146": {
      "model_module": "@jupyter-widgets/base",
      "model_module_version": "2.0.0",
      "model_name": "LayoutModel",
      "state": {
       "_model_module": "@jupyter-widgets/base",
       "_model_module_version": "2.0.0",
       "_model_name": "LayoutModel",
       "_view_count": null,
       "_view_module": "@jupyter-widgets/base",
       "_view_module_version": "2.0.0",
       "_view_name": "LayoutView",
       "align_content": null,
       "align_items": null,
       "align_self": null,
       "border_bottom": null,
       "border_left": null,
       "border_right": null,
       "border_top": null,
       "bottom": null,
       "display": null,
       "flex": null,
       "flex_flow": null,
       "grid_area": null,
       "grid_auto_columns": null,
       "grid_auto_flow": null,
       "grid_auto_rows": null,
       "grid_column": null,
       "grid_gap": null,
       "grid_row": null,
       "grid_template_areas": null,
       "grid_template_columns": null,
       "grid_template_rows": null,
       "height": null,
       "justify_content": null,
       "justify_items": null,
       "left": null,
       "margin": null,
       "max_height": null,
       "max_width": null,
       "min_height": null,
       "min_width": null,
       "object_fit": null,
       "object_position": null,
       "order": null,
       "overflow": null,
       "padding": null,
       "right": null,
       "top": null,
       "visibility": null,
       "width": null
      }
     }
    },
    "version_major": 2,
    "version_minor": 0
   }
  }
 },
 "nbformat": 4,
 "nbformat_minor": 5
}