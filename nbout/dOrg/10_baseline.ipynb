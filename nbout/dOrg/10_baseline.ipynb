{
 "cells": [
  {
   "cell_type": "code",
   "execution_count": 1,
   "id": "d5b6805a",
   "metadata": {
    "execution": {
     "iopub.execute_input": "2024-09-05T09:30:50.400635Z",
     "iopub.status.busy": "2024-09-05T09:30:50.400547Z",
     "iopub.status.idle": "2024-09-05T09:30:53.096021Z",
     "shell.execute_reply": "2024-09-05T09:30:53.095697Z"
    },
    "papermill": {
     "duration": 2.702912,
     "end_time": "2024-09-05T09:30:53.096813",
     "exception": false,
     "start_time": "2024-09-05T09:30:50.393901",
     "status": "completed"
    },
    "tags": []
   },
   "outputs": [
    {
     "name": "stderr",
     "output_type": "stream",
     "text": [
      "/tmp/ipykernel_3821105/2526015065.py:7: TqdmExperimentalWarning: Using `tqdm.autonotebook.tqdm` in notebook mode. Use `tqdm.tqdm` instead to force console mode (e.g. in jupyter console)\n",
      "  from tqdm.autonotebook import tqdm\n"
     ]
    },
    {
     "name": "stdout",
     "output_type": "stream",
     "text": [
      "Ignoring warnings\n"
     ]
    }
   ],
   "source": [
    "from typing import List\n",
    "import sys\n",
    "from collections import defaultdict\n",
    "\n",
    "import pandas as pd\n",
    "import numpy as np\n",
    "from tqdm.autonotebook import tqdm\n",
    "\n",
    "from recsys4daos.models import OpenPop\n",
    "from recsys4daos.datasets import to_microsoft\n",
    "from recsys4daos.model_selection import cvtt_open\n",
    "from recsys4daos.evaluation import calculate_all_metrics\n",
    "\n",
    "import paths\n",
    "\n",
    "import recommenders\n",
    "if recommenders.__version__ == '1.2.0':\n",
    "    print(\"Ignoring warnings\")\n",
    "    import warnings\n",
    "    warnings.simplefilter(action='ignore', category=FutureWarning)"
   ]
  },
  {
   "cell_type": "code",
   "execution_count": 2,
   "id": "1021ed1a",
   "metadata": {
    "editable": true,
    "execution": {
     "iopub.execute_input": "2024-09-05T09:30:53.101708Z",
     "iopub.status.busy": "2024-09-05T09:30:53.101493Z",
     "iopub.status.idle": "2024-09-05T09:30:53.103544Z",
     "shell.execute_reply": "2024-09-05T09:30:53.103337Z"
    },
    "papermill": {
     "duration": 0.005127,
     "end_time": "2024-09-05T09:30:53.104234",
     "exception": false,
     "start_time": "2024-09-05T09:30:53.099107",
     "status": "completed"
    },
    "slideshow": {
     "slide_type": ""
    },
    "tags": [
     "parameters"
    ]
   },
   "outputs": [],
   "source": [
    "SPLITS_FREQ = \"W-THU\"\n",
    "SPLITS_NORMALIZE = True\n",
    "ORG_NAME = 'Decentraland'\n",
    "LAST_FOLD_DATE_STR: str = None # Won't use it, we will just calculate for every fold\n",
    "\n",
    "# In this notebook this is just used for plotting and description, not \"training\"\n",
    "# every fold is saved into the results table\n",
    "LAST_FOLDS = 10\n",
    "\n",
    "K_RECOMMENDATIONS: List[int] = [1,3,5,10,15,100]"
   ]
  },
  {
   "cell_type": "code",
   "execution_count": 3,
   "id": "948ce0a8",
   "metadata": {
    "execution": {
     "iopub.execute_input": "2024-09-05T09:30:53.108141Z",
     "iopub.status.busy": "2024-09-05T09:30:53.108045Z",
     "iopub.status.idle": "2024-09-05T09:30:53.109643Z",
     "shell.execute_reply": "2024-09-05T09:30:53.109452Z"
    },
    "papermill": {
     "duration": 0.004332,
     "end_time": "2024-09-05T09:30:53.110262",
     "exception": false,
     "start_time": "2024-09-05T09:30:53.105930",
     "status": "completed"
    },
    "tags": [
     "injected-parameters"
    ]
   },
   "outputs": [],
   "source": [
    "# Parameters\n",
    "EXECUTION_ID = \"2024-09-04T10:00\"\n",
    "ORG_NAME = \"dOrg\"\n",
    "SPLITS_FREQ = \"2d\"\n",
    "LAST_FOLDS = 10\n",
    "SPLITS_NORMALIZE = True\n",
    "LAST_FOLD_DATE_STR = \"2022-02-18\"\n"
   ]
  },
  {
   "cell_type": "markdown",
   "id": "7da58d2d",
   "metadata": {
    "papermill": {
     "duration": 0.001679,
     "end_time": "2024-09-05T09:30:53.113565",
     "exception": false,
     "start_time": "2024-09-05T09:30:53.111886",
     "status": "completed"
    },
    "tags": []
   },
   "source": [
    "## Obtain dataset"
   ]
  },
  {
   "cell_type": "code",
   "execution_count": 4,
   "id": "7b01ce9f",
   "metadata": {
    "execution": {
     "iopub.execute_input": "2024-09-05T09:30:53.117542Z",
     "iopub.status.busy": "2024-09-05T09:30:53.117385Z",
     "iopub.status.idle": "2024-09-05T09:30:53.242264Z",
     "shell.execute_reply": "2024-09-05T09:30:53.239864Z"
    },
    "papermill": {
     "duration": 0.130882,
     "end_time": "2024-09-05T09:30:53.246235",
     "exception": false,
     "start_time": "2024-09-05T09:30:53.115353",
     "status": "completed"
    },
    "tags": []
   },
   "outputs": [
    {
     "name": "stdout",
     "output_type": "stream",
     "text": [
      "/home/daviddavo/recsys4daos/notebooks\r\n"
     ]
    }
   ],
   "source": [
    "!pwd"
   ]
  },
  {
   "cell_type": "code",
   "execution_count": 5,
   "id": "a3d92611",
   "metadata": {
    "execution": {
     "iopub.execute_input": "2024-09-05T09:30:53.256346Z",
     "iopub.status.busy": "2024-09-05T09:30:53.256033Z",
     "iopub.status.idle": "2024-09-05T09:30:53.381883Z",
     "shell.execute_reply": "2024-09-05T09:30:53.379524Z"
    },
    "papermill": {
     "duration": 0.133125,
     "end_time": "2024-09-05T09:30:53.386276",
     "exception": false,
     "start_time": "2024-09-05T09:30:53.253151",
     "status": "completed"
    },
    "tags": []
   },
   "outputs": [
    {
     "name": "stdout",
     "output_type": "stream",
     "text": [
      "md5sum: '../data/decentraland/*': No such file or directory\r\n"
     ]
    }
   ],
   "source": [
    "!md5sum ../data/decentraland/*"
   ]
  },
  {
   "cell_type": "code",
   "execution_count": 6,
   "id": "3651e8ba",
   "metadata": {
    "execution": {
     "iopub.execute_input": "2024-09-05T09:30:53.404041Z",
     "iopub.status.busy": "2024-09-05T09:30:53.403804Z",
     "iopub.status.idle": "2024-09-05T09:30:53.431326Z",
     "shell.execute_reply": "2024-09-05T09:30:53.431100Z"
    },
    "papermill": {
     "duration": 0.035851,
     "end_time": "2024-09-05T09:30:53.431954",
     "exception": false,
     "start_time": "2024-09-05T09:30:53.396103",
     "status": "completed"
    },
    "tags": []
   },
   "outputs": [
    {
     "name": "stdout",
     "output_type": "stream",
     "text": [
      "<class 'pandas.core.frame.DataFrame'>\n",
      "RangeIndex: 343 entries, 0 to 342\n",
      "Data columns (total 6 columns):\n",
      " #   Column             Non-Null Count  Dtype         \n",
      "---  ------             --------------  -----         \n",
      " 0   id                 343 non-null    object        \n",
      " 1   author             343 non-null    object        \n",
      " 2   date               343 non-null    datetime64[us]\n",
      " 3   start              343 non-null    datetime64[us]\n",
      " 4   end                342 non-null    datetime64[us]\n",
      " 5   platform_proposal  343 non-null    object        \n",
      "dtypes: datetime64[us](3), object(3)\n",
      "memory usage: 16.2+ KB\n",
      "None\n",
      "<class 'pandas.core.frame.DataFrame'>\n",
      "RangeIndex: 1782 entries, 0 to 1781\n",
      "Data columns (total 4 columns):\n",
      " #   Column    Non-Null Count  Dtype         \n",
      "---  ------    --------------  -----         \n",
      " 0   id        1782 non-null   object        \n",
      " 1   proposal  1782 non-null   object        \n",
      " 2   voter     1782 non-null   object        \n",
      " 3   date      1782 non-null   datetime64[us]\n",
      "dtypes: datetime64[us](1), object(3)\n",
      "memory usage: 55.8+ KB\n",
      "None\n",
      "<class 'pandas.core.frame.DataFrame'>\n",
      "RangeIndex: 1782 entries, 0 to 1781\n",
      "Data columns (total 4 columns):\n",
      " #   Column     Non-Null Count  Dtype         \n",
      "---  ------     --------------  -----         \n",
      " 0   userID     1782 non-null   object        \n",
      " 1   itemID     1782 non-null   object        \n",
      " 2   timestamp  1782 non-null   datetime64[us]\n",
      " 3   rating     1782 non-null   int64         \n",
      "dtypes: datetime64[us](1), int64(1), object(2)\n",
      "memory usage: 55.8+ KB\n",
      "None\n"
     ]
    }
   ],
   "source": [
    "dfp = paths.load_proposals(ORG_NAME)\n",
    "dfv = paths.load_votes(ORG_NAME)\n",
    "\n",
    "df = to_microsoft(dfv)\n",
    "\n",
    "print(dfp.info())\n",
    "print(dfv.info())\n",
    "print(df.info())"
   ]
  },
  {
   "cell_type": "markdown",
   "id": "1b4df484",
   "metadata": {
    "papermill": {
     "duration": 0.002015,
     "end_time": "2024-09-05T09:30:53.436299",
     "exception": false,
     "start_time": "2024-09-05T09:30:53.434284",
     "status": "completed"
    },
    "tags": []
   },
   "source": [
    "## Showing some info of the folds"
   ]
  },
  {
   "cell_type": "code",
   "execution_count": 7,
   "id": "3dd0fdaa",
   "metadata": {
    "execution": {
     "iopub.execute_input": "2024-09-05T09:30:53.440670Z",
     "iopub.status.busy": "2024-09-05T09:30:53.440487Z",
     "iopub.status.idle": "2024-09-05T09:30:54.286063Z",
     "shell.execute_reply": "2024-09-05T09:30:54.285824Z"
    },
    "papermill": {
     "duration": 0.848737,
     "end_time": "2024-09-05T09:30:54.286815",
     "exception": false,
     "start_time": "2024-09-05T09:30:53.438078",
     "status": "completed"
    },
    "tags": []
   },
   "outputs": [
    {
     "name": "stdout",
     "output_type": "stream",
     "text": [
      "Saved dataframe into /home/daviddavo/recsys4daos/data/output/dOrg/baseline/folds-info_2d_normalize.parquet\n",
      "fold\n",
      "2023-06-13    1756\n",
      "2023-06-15    1756\n",
      "2023-06-17    1763\n",
      "2023-06-19    1766\n",
      "2023-06-21    1775\n",
      "2023-06-23    1776\n",
      "2023-06-25    1776\n",
      "2023-06-27    1776\n",
      "2023-06-29    1776\n",
      "2023-07-01    1780\n",
      "Name: votes in train, dtype: int64\n"
     ]
    },
    {
     "data": {
      "text/html": [
       "<style type=\"text/css\">\n",
       "</style>\n",
       "<table id=\"T_1183e\">\n",
       "  <thead>\n",
       "    <tr>\n",
       "      <th class=\"blank level0\" >&nbsp;</th>\n",
       "      <th id=\"T_1183e_level0_col0\" class=\"col_heading level0 col0\" >open proposals</th>\n",
       "      <th id=\"T_1183e_level0_col1\" class=\"col_heading level0 col1\" >votes in open proposals (train)</th>\n",
       "      <th id=\"T_1183e_level0_col2\" class=\"col_heading level0 col2\" >users in open proposals (train)</th>\n",
       "      <th id=\"T_1183e_level0_col3\" class=\"col_heading level0 col3\" >vpp in open proposals (train)</th>\n",
       "      <th id=\"T_1183e_level0_col4\" class=\"col_heading level0 col4\" >vpu in open proposals (train)</th>\n",
       "      <th id=\"T_1183e_level0_col5\" class=\"col_heading level0 col5\" >votes in test</th>\n",
       "      <th id=\"T_1183e_level0_col6\" class=\"col_heading level0 col6\" >users in test</th>\n",
       "      <th id=\"T_1183e_level0_col7\" class=\"col_heading level0 col7\" >vpp test</th>\n",
       "      <th id=\"T_1183e_level0_col8\" class=\"col_heading level0 col8\" >vpu test</th>\n",
       "    </tr>\n",
       "    <tr>\n",
       "      <th class=\"index_name level0\" >fold</th>\n",
       "      <th class=\"blank col0\" >&nbsp;</th>\n",
       "      <th class=\"blank col1\" >&nbsp;</th>\n",
       "      <th class=\"blank col2\" >&nbsp;</th>\n",
       "      <th class=\"blank col3\" >&nbsp;</th>\n",
       "      <th class=\"blank col4\" >&nbsp;</th>\n",
       "      <th class=\"blank col5\" >&nbsp;</th>\n",
       "      <th class=\"blank col6\" >&nbsp;</th>\n",
       "      <th class=\"blank col7\" >&nbsp;</th>\n",
       "      <th class=\"blank col8\" >&nbsp;</th>\n",
       "    </tr>\n",
       "  </thead>\n",
       "  <tbody>\n",
       "    <tr>\n",
       "      <th id=\"T_1183e_level0_row0\" class=\"row_heading level0 row0\" >2023-W24</th>\n",
       "      <td id=\"T_1183e_row0_col0\" class=\"data row0 col0\" >0</td>\n",
       "      <td id=\"T_1183e_row0_col1\" class=\"data row0 col1\" >0</td>\n",
       "      <td id=\"T_1183e_row0_col2\" class=\"data row0 col2\" >0</td>\n",
       "      <td id=\"T_1183e_row0_col3\" class=\"data row0 col3\" >nan</td>\n",
       "      <td id=\"T_1183e_row0_col4\" class=\"data row0 col4\" >nan</td>\n",
       "      <td id=\"T_1183e_row0_col5\" class=\"data row0 col5\" >0</td>\n",
       "      <td id=\"T_1183e_row0_col6\" class=\"data row0 col6\" >0</td>\n",
       "      <td id=\"T_1183e_row0_col7\" class=\"data row0 col7\" >nan</td>\n",
       "      <td id=\"T_1183e_row0_col8\" class=\"data row0 col8\" >nan</td>\n",
       "    </tr>\n",
       "    <tr>\n",
       "      <th id=\"T_1183e_level0_row1\" class=\"row_heading level0 row1\" >2023-W24</th>\n",
       "      <td id=\"T_1183e_row1_col0\" class=\"data row1 col0\" >0</td>\n",
       "      <td id=\"T_1183e_row1_col1\" class=\"data row1 col1\" >0</td>\n",
       "      <td id=\"T_1183e_row1_col2\" class=\"data row1 col2\" >0</td>\n",
       "      <td id=\"T_1183e_row1_col3\" class=\"data row1 col3\" >nan</td>\n",
       "      <td id=\"T_1183e_row1_col4\" class=\"data row1 col4\" >nan</td>\n",
       "      <td id=\"T_1183e_row1_col5\" class=\"data row1 col5\" >0</td>\n",
       "      <td id=\"T_1183e_row1_col6\" class=\"data row1 col6\" >0</td>\n",
       "      <td id=\"T_1183e_row1_col7\" class=\"data row1 col7\" >nan</td>\n",
       "      <td id=\"T_1183e_row1_col8\" class=\"data row1 col8\" >nan</td>\n",
       "    </tr>\n",
       "    <tr>\n",
       "      <th id=\"T_1183e_level0_row2\" class=\"row_heading level0 row2\" >2023-W24</th>\n",
       "      <td id=\"T_1183e_row2_col0\" class=\"data row2 col0\" >3</td>\n",
       "      <td id=\"T_1183e_row2_col1\" class=\"data row2 col1\" >7</td>\n",
       "      <td id=\"T_1183e_row2_col2\" class=\"data row2 col2\" >4</td>\n",
       "      <td id=\"T_1183e_row2_col3\" class=\"data row2 col3\" >2.33</td>\n",
       "      <td id=\"T_1183e_row2_col4\" class=\"data row2 col4\" >1.75</td>\n",
       "      <td id=\"T_1183e_row2_col5\" class=\"data row2 col5\" >13</td>\n",
       "      <td id=\"T_1183e_row2_col6\" class=\"data row2 col6\" >7</td>\n",
       "      <td id=\"T_1183e_row2_col7\" class=\"data row2 col7\" >4.33</td>\n",
       "      <td id=\"T_1183e_row2_col8\" class=\"data row2 col8\" >1.86</td>\n",
       "    </tr>\n",
       "    <tr>\n",
       "      <th id=\"T_1183e_level0_row3\" class=\"row_heading level0 row3\" >2023-W25</th>\n",
       "      <td id=\"T_1183e_row3_col0\" class=\"data row3 col0\" >3</td>\n",
       "      <td id=\"T_1183e_row3_col1\" class=\"data row3 col1\" >10</td>\n",
       "      <td id=\"T_1183e_row3_col2\" class=\"data row3 col2\" >5</td>\n",
       "      <td id=\"T_1183e_row3_col3\" class=\"data row3 col3\" >3.33</td>\n",
       "      <td id=\"T_1183e_row3_col4\" class=\"data row3 col4\" >2.00</td>\n",
       "      <td id=\"T_1183e_row3_col5\" class=\"data row3 col5\" >10</td>\n",
       "      <td id=\"T_1183e_row3_col6\" class=\"data row3 col6\" >6</td>\n",
       "      <td id=\"T_1183e_row3_col7\" class=\"data row3 col7\" >3.33</td>\n",
       "      <td id=\"T_1183e_row3_col8\" class=\"data row3 col8\" >1.67</td>\n",
       "    </tr>\n",
       "    <tr>\n",
       "      <th id=\"T_1183e_level0_row4\" class=\"row_heading level0 row4\" >2023-W25</th>\n",
       "      <td id=\"T_1183e_row4_col0\" class=\"data row4 col0\" >1</td>\n",
       "      <td id=\"T_1183e_row4_col1\" class=\"data row4 col1\" >6</td>\n",
       "      <td id=\"T_1183e_row4_col2\" class=\"data row4 col2\" >6</td>\n",
       "      <td id=\"T_1183e_row4_col3\" class=\"data row4 col3\" >6.00</td>\n",
       "      <td id=\"T_1183e_row4_col4\" class=\"data row4 col4\" >1.00</td>\n",
       "      <td id=\"T_1183e_row4_col5\" class=\"data row4 col5\" >1</td>\n",
       "      <td id=\"T_1183e_row4_col6\" class=\"data row4 col6\" >1</td>\n",
       "      <td id=\"T_1183e_row4_col7\" class=\"data row4 col7\" >1.00</td>\n",
       "      <td id=\"T_1183e_row4_col8\" class=\"data row4 col8\" >1.00</td>\n",
       "    </tr>\n",
       "    <tr>\n",
       "      <th id=\"T_1183e_level0_row5\" class=\"row_heading level0 row5\" >2023-W25</th>\n",
       "      <td id=\"T_1183e_row5_col0\" class=\"data row5 col0\" >0</td>\n",
       "      <td id=\"T_1183e_row5_col1\" class=\"data row5 col1\" >0</td>\n",
       "      <td id=\"T_1183e_row5_col2\" class=\"data row5 col2\" >0</td>\n",
       "      <td id=\"T_1183e_row5_col3\" class=\"data row5 col3\" >nan</td>\n",
       "      <td id=\"T_1183e_row5_col4\" class=\"data row5 col4\" >nan</td>\n",
       "      <td id=\"T_1183e_row5_col5\" class=\"data row5 col5\" >0</td>\n",
       "      <td id=\"T_1183e_row5_col6\" class=\"data row5 col6\" >0</td>\n",
       "      <td id=\"T_1183e_row5_col7\" class=\"data row5 col7\" >nan</td>\n",
       "      <td id=\"T_1183e_row5_col8\" class=\"data row5 col8\" >nan</td>\n",
       "    </tr>\n",
       "    <tr>\n",
       "      <th id=\"T_1183e_level0_row6\" class=\"row_heading level0 row6\" >2023-W25</th>\n",
       "      <td id=\"T_1183e_row6_col0\" class=\"data row6 col0\" >0</td>\n",
       "      <td id=\"T_1183e_row6_col1\" class=\"data row6 col1\" >0</td>\n",
       "      <td id=\"T_1183e_row6_col2\" class=\"data row6 col2\" >0</td>\n",
       "      <td id=\"T_1183e_row6_col3\" class=\"data row6 col3\" >nan</td>\n",
       "      <td id=\"T_1183e_row6_col4\" class=\"data row6 col4\" >nan</td>\n",
       "      <td id=\"T_1183e_row6_col5\" class=\"data row6 col5\" >0</td>\n",
       "      <td id=\"T_1183e_row6_col6\" class=\"data row6 col6\" >0</td>\n",
       "      <td id=\"T_1183e_row6_col7\" class=\"data row6 col7\" >nan</td>\n",
       "      <td id=\"T_1183e_row6_col8\" class=\"data row6 col8\" >nan</td>\n",
       "    </tr>\n",
       "    <tr>\n",
       "      <th id=\"T_1183e_level0_row7\" class=\"row_heading level0 row7\" >2023-W26</th>\n",
       "      <td id=\"T_1183e_row7_col0\" class=\"data row7 col0\" >0</td>\n",
       "      <td id=\"T_1183e_row7_col1\" class=\"data row7 col1\" >0</td>\n",
       "      <td id=\"T_1183e_row7_col2\" class=\"data row7 col2\" >0</td>\n",
       "      <td id=\"T_1183e_row7_col3\" class=\"data row7 col3\" >nan</td>\n",
       "      <td id=\"T_1183e_row7_col4\" class=\"data row7 col4\" >nan</td>\n",
       "      <td id=\"T_1183e_row7_col5\" class=\"data row7 col5\" >0</td>\n",
       "      <td id=\"T_1183e_row7_col6\" class=\"data row7 col6\" >0</td>\n",
       "      <td id=\"T_1183e_row7_col7\" class=\"data row7 col7\" >nan</td>\n",
       "      <td id=\"T_1183e_row7_col8\" class=\"data row7 col8\" >nan</td>\n",
       "    </tr>\n",
       "    <tr>\n",
       "      <th id=\"T_1183e_level0_row8\" class=\"row_heading level0 row8\" >2023-W26</th>\n",
       "      <td id=\"T_1183e_row8_col0\" class=\"data row8 col0\" >1</td>\n",
       "      <td id=\"T_1183e_row8_col1\" class=\"data row8 col1\" >0</td>\n",
       "      <td id=\"T_1183e_row8_col2\" class=\"data row8 col2\" >0</td>\n",
       "      <td id=\"T_1183e_row8_col3\" class=\"data row8 col3\" >0.00</td>\n",
       "      <td id=\"T_1183e_row8_col4\" class=\"data row8 col4\" >nan</td>\n",
       "      <td id=\"T_1183e_row8_col5\" class=\"data row8 col5\" >6</td>\n",
       "      <td id=\"T_1183e_row8_col6\" class=\"data row8 col6\" >6</td>\n",
       "      <td id=\"T_1183e_row8_col7\" class=\"data row8 col7\" >6.00</td>\n",
       "      <td id=\"T_1183e_row8_col8\" class=\"data row8 col8\" >1.00</td>\n",
       "    </tr>\n",
       "    <tr>\n",
       "      <th id=\"T_1183e_level0_row9\" class=\"row_heading level0 row9\" >2023-W26</th>\n",
       "      <td id=\"T_1183e_row9_col0\" class=\"data row9 col0\" >1</td>\n",
       "      <td id=\"T_1183e_row9_col1\" class=\"data row9 col1\" >4</td>\n",
       "      <td id=\"T_1183e_row9_col2\" class=\"data row9 col2\" >4</td>\n",
       "      <td id=\"T_1183e_row9_col3\" class=\"data row9 col3\" >4.00</td>\n",
       "      <td id=\"T_1183e_row9_col4\" class=\"data row9 col4\" >1.00</td>\n",
       "      <td id=\"T_1183e_row9_col5\" class=\"data row9 col5\" >2</td>\n",
       "      <td id=\"T_1183e_row9_col6\" class=\"data row9 col6\" >2</td>\n",
       "      <td id=\"T_1183e_row9_col7\" class=\"data row9 col7\" >2.00</td>\n",
       "      <td id=\"T_1183e_row9_col8\" class=\"data row9 col8\" >1.00</td>\n",
       "    </tr>\n",
       "  </tbody>\n",
       "</table>\n"
      ],
      "text/plain": [
       "<pandas.io.formats.style.Styler at 0x7f2bffd20510>"
      ]
     },
     "execution_count": 7,
     "metadata": {},
     "output_type": "execute_result"
    }
   ],
   "source": [
    "sdd = defaultdict(list)\n",
    "\n",
    "for dftrain, dftest, t, openproposals in cvtt_open(to_microsoft(dfv), SPLITS_FREQ, dfp.reset_index(), remove_not_in_train_col='userID', normalize=SPLITS_NORMALIZE):\n",
    "    dftrain_filter = dftrain[dftrain['itemID'].isin(openproposals)]\n",
    "    \n",
    "    sdd['fold'].append(t)\n",
    "    sdd['open proposals'].append(len(openproposals))\n",
    "    \n",
    "    sdd['proposals in train'].append(dftrain['itemID'].nunique())\n",
    "    sdd['votes in train'].append(len(dftrain))\n",
    "    sdd['votes in open proposals (train)'].append(len(dftrain_filter))\n",
    "    sdd['users in open proposals (train)'].append(dftrain_filter['userID'].nunique())\n",
    "    sdd['votes in test'].append(len(dftest))\n",
    "    sdd['users in train'].append(dftrain['userID'].nunique())\n",
    "    sdd['users in test'].append(dftest['userID'].nunique())\n",
    "\n",
    "sdf_all = pd.DataFrame(sdd).set_index('fold')\n",
    "sdf_all['vpp in open proposals (train)'] = sdf_all['votes in open proposals (train)'] / sdf_all['open proposals']\n",
    "sdf_all['vpu in open proposals (train)'] = sdf_all['votes in open proposals (train)'] / sdf_all['users in open proposals (train)']\n",
    "sdf_all['vpp test'] = sdf_all['votes in test'] / sdf_all['open proposals']\n",
    "sdf_all['vpu test'] = sdf_all['votes in test'] / sdf_all['users in test']\n",
    "paths.save_folds_info(sdf_all, ORG_NAME, SPLITS_FREQ, SPLITS_NORMALIZE)\n",
    "sdf = sdf_all.tail(LAST_FOLDS)\n",
    "print(sdf['votes in train'])\n",
    "_style = sdf[['open proposals', 'votes in open proposals (train)', 'users in open proposals (train)', 'vpp in open proposals (train)', 'vpu in open proposals (train)', 'votes in test', 'users in test', 'vpp test', 'vpu test']].style\n",
    "_style = _style.format_index('{:%G-W%V}').format(precision=2)\n",
    "_style"
   ]
  },
  {
   "cell_type": "code",
   "execution_count": 8,
   "id": "66e8781c",
   "metadata": {
    "execution": {
     "iopub.execute_input": "2024-09-05T09:30:54.292295Z",
     "iopub.status.busy": "2024-09-05T09:30:54.292103Z",
     "iopub.status.idle": "2024-09-05T09:30:54.302524Z",
     "shell.execute_reply": "2024-09-05T09:30:54.302315Z"
    },
    "papermill": {
     "duration": 0.013845,
     "end_time": "2024-09-05T09:30:54.303081",
     "exception": false,
     "start_time": "2024-09-05T09:30:54.289236",
     "status": "completed"
    },
    "tags": []
   },
   "outputs": [
    {
     "name": "stdout",
     "output_type": "stream",
     "text": [
      "\\begin{tabular}{lrrrrrrrrr}\n",
      " & \\textbf{open proposals} & \\textbf{votes in open proposals (train)} & \\textbf{users in open proposals (train)} & \\textbf{vpp in open proposals (train)} & \\textbf{vpu in open proposals (train)} & \\textbf{votes in test} & \\textbf{users in test} & \\textbf{vpp test} & \\textbf{vpu test} \\\\\n",
      "fold &  &  &  &  &  &  &  &  &  \\\\\n",
      "2023-W24 & 0 & 0 & 0 & nan & nan & 0 & 0 & nan & nan \\\\\n",
      "2023-W24 & 0 & 0 & 0 & nan & nan & 0 & 0 & nan & nan \\\\\n",
      "2023-W24 & 3 & 7 & 4 & 2.33 & 1.75 & 13 & 7 & 4.33 & 1.86 \\\\\n",
      "2023-W25 & 3 & 10 & 5 & 3.33 & 2.00 & 10 & 6 & 3.33 & 1.67 \\\\\n",
      "2023-W25 & 1 & 6 & 6 & 6.00 & 1.00 & 1 & 1 & 1.00 & 1.00 \\\\\n",
      "2023-W25 & 0 & 0 & 0 & nan & nan & 0 & 0 & nan & nan \\\\\n",
      "2023-W25 & 0 & 0 & 0 & nan & nan & 0 & 0 & nan & nan \\\\\n",
      "2023-W26 & 0 & 0 & 0 & nan & nan & 0 & 0 & nan & nan \\\\\n",
      "2023-W26 & 1 & 0 & 0 & 0.00 & nan & 6 & 6 & 6.00 & 1.00 \\\\\n",
      "2023-W26 & 1 & 4 & 4 & 4.00 & 1.00 & 2 & 2 & 2.00 & 1.00 \\\\\n",
      "\\end{tabular}\n",
      "\n"
     ]
    }
   ],
   "source": [
    "print(_style\n",
    "  .format_index(\"\\\\textbf{{{}}}\", escape=\"latex\", axis=1)\n",
    "  .to_latex()\n",
    ")"
   ]
  },
  {
   "cell_type": "markdown",
   "id": "c96160a3",
   "metadata": {
    "papermill": {
     "duration": 0.001959,
     "end_time": "2024-09-05T09:30:54.307053",
     "exception": false,
     "start_time": "2024-09-05T09:30:54.305094",
     "status": "completed"
    },
    "tags": []
   },
   "source": [
    "## Running openpop baseline"
   ]
  },
  {
   "cell_type": "code",
   "execution_count": 9,
   "id": "fab8d44b",
   "metadata": {
    "execution": {
     "iopub.execute_input": "2024-09-05T09:30:54.311446Z",
     "iopub.status.busy": "2024-09-05T09:30:54.311339Z",
     "iopub.status.idle": "2024-09-05T09:32:47.167992Z",
     "shell.execute_reply": "2024-09-05T09:32:47.167730Z"
    },
    "papermill": {
     "duration": 112.859681,
     "end_time": "2024-09-05T09:32:47.168674",
     "exception": false,
     "start_time": "2024-09-05T09:30:54.308993",
     "status": "completed"
    },
    "tags": []
   },
   "outputs": [
    {
     "data": {
      "application/vnd.jupyter.widget-view+json": {
       "model_id": "80a4976fcb5941309743c368572a9714",
       "version_major": 2,
       "version_minor": 0
      },
      "text/plain": [
       "  0%|          | 0/607 [00:00<?, ?it/s]"
      ]
     },
     "metadata": {},
     "output_type": "display_data"
    },
    {
     "name": "stderr",
     "output_type": "stream",
     "text": [
      "Warning, empty test fold 0 (2020-03-06 00:00:00), all ok since 0 folds ago\n",
      "Warning, empty test fold 1 (2020-03-08 00:00:00), all ok since 1 folds ago\n"
     ]
    },
    {
     "name": "stderr",
     "output_type": "stream",
     "text": [
      "Warning, test fold 2 (2020-03-10 00:00:00) with less than 5 open proposals (1). all ok since 1 folds ago\n"
     ]
    },
    {
     "name": "stderr",
     "output_type": "stream",
     "text": [
      "Warning, test fold 3 (2020-03-12 00:00:00) with less than 5 open proposals (1). all ok since 1 folds ago\n"
     ]
    },
    {
     "name": "stderr",
     "output_type": "stream",
     "text": [
      "Warning, empty test fold 4 (2020-03-14 00:00:00), all ok since 3 folds ago\n",
      "Warning, empty test fold 5 (2020-03-16 00:00:00), all ok since 1 folds ago\n"
     ]
    },
    {
     "name": "stderr",
     "output_type": "stream",
     "text": [
      "Warning, empty test fold 6 (2020-03-18 00:00:00), all ok since 1 folds ago\n",
      "Warning, empty test fold 7 (2020-03-20 00:00:00), all ok since 1 folds ago\n"
     ]
    },
    {
     "name": "stderr",
     "output_type": "stream",
     "text": [
      "Warning, empty test fold 8 (2020-03-22 00:00:00), all ok since 1 folds ago\n",
      "Warning, empty test fold 9 (2020-03-24 00:00:00), all ok since 1 folds ago\n"
     ]
    },
    {
     "name": "stderr",
     "output_type": "stream",
     "text": [
      "Warning, empty test fold 10 (2020-03-26 00:00:00), all ok since 1 folds ago\n",
      "Warning, empty test fold 11 (2020-03-28 00:00:00), all ok since 1 folds ago\n"
     ]
    },
    {
     "name": "stderr",
     "output_type": "stream",
     "text": [
      "Warning, empty test fold 12 (2020-03-30 00:00:00), all ok since 1 folds ago\n",
      "Warning, empty test fold 13 (2020-04-01 00:00:00), all ok since 1 folds ago\n"
     ]
    },
    {
     "name": "stderr",
     "output_type": "stream",
     "text": [
      "Warning, empty test fold 14 (2020-04-03 00:00:00), all ok since 1 folds ago\n",
      "Warning, test fold 15 (2020-04-05 00:00:00) with less than 5 open proposals (2). all ok since 1 folds ago\n"
     ]
    },
    {
     "name": "stderr",
     "output_type": "stream",
     "text": [
      "Warning, empty test fold 16 (2020-04-07 00:00:00), all ok since 2 folds ago\n",
      "Warning, empty test fold 17 (2020-04-09 00:00:00), all ok since 1 folds ago\n"
     ]
    },
    {
     "name": "stderr",
     "output_type": "stream",
     "text": [
      "Warning, empty test fold 18 (2020-04-11 00:00:00), all ok since 1 folds ago\n",
      "Warning, empty test fold 19 (2020-04-13 00:00:00), all ok since 1 folds ago\n"
     ]
    },
    {
     "name": "stderr",
     "output_type": "stream",
     "text": [
      "Warning, empty test fold 20 (2020-04-15 00:00:00), all ok since 1 folds ago\n",
      "Warning, empty test fold 21 (2020-04-17 00:00:00), all ok since 1 folds ago\n"
     ]
    },
    {
     "name": "stderr",
     "output_type": "stream",
     "text": [
      "Warning, empty test fold 22 (2020-04-19 00:00:00), all ok since 1 folds ago\n",
      "Warning, empty test fold 23 (2020-04-21 00:00:00), all ok since 1 folds ago\n"
     ]
    },
    {
     "name": "stderr",
     "output_type": "stream",
     "text": [
      "Warning, empty test fold 24 (2020-04-23 00:00:00), all ok since 1 folds ago\n",
      "Warning, empty test fold 25 (2020-04-25 00:00:00), all ok since 1 folds ago\n"
     ]
    },
    {
     "name": "stderr",
     "output_type": "stream",
     "text": [
      "Warning, empty test fold 26 (2020-04-27 00:00:00), all ok since 1 folds ago\n",
      "Warning, empty test fold 27 (2020-04-29 00:00:00), all ok since 1 folds ago\n"
     ]
    },
    {
     "name": "stderr",
     "output_type": "stream",
     "text": [
      "Warning, empty test fold 28 (2020-05-01 00:00:00), all ok since 1 folds ago\n",
      "Warning, empty test fold 29 (2020-05-03 00:00:00), all ok since 1 folds ago\n"
     ]
    },
    {
     "name": "stderr",
     "output_type": "stream",
     "text": [
      "Warning, empty test fold 30 (2020-05-05 00:00:00), all ok since 1 folds ago\n",
      "Warning, empty test fold 31 (2020-05-07 00:00:00), all ok since 1 folds ago\n"
     ]
    },
    {
     "name": "stderr",
     "output_type": "stream",
     "text": [
      "Warning, empty test fold 32 (2020-05-09 00:00:00), all ok since 1 folds ago\n",
      "Warning, empty test fold 33 (2020-05-11 00:00:00), all ok since 1 folds ago\n"
     ]
    },
    {
     "name": "stderr",
     "output_type": "stream",
     "text": [
      "Warning, empty test fold 34 (2020-05-13 00:00:00), all ok since 1 folds ago\n",
      "Warning, empty test fold 35 (2020-05-15 00:00:00), all ok since 1 folds ago\n"
     ]
    },
    {
     "name": "stderr",
     "output_type": "stream",
     "text": [
      "Warning, empty test fold 36 (2020-05-17 00:00:00), all ok since 1 folds ago\n"
     ]
    },
    {
     "name": "stderr",
     "output_type": "stream",
     "text": [
      "Warning, empty test fold 38 (2020-05-21 00:00:00), all ok since 2 folds ago\n",
      "Warning, empty test fold 39 (2020-05-23 00:00:00), all ok since 1 folds ago\n"
     ]
    },
    {
     "name": "stderr",
     "output_type": "stream",
     "text": [
      "Warning, empty test fold 40 (2020-05-25 00:00:00), all ok since 1 folds ago\n",
      "Warning, empty test fold 41 (2020-05-27 00:00:00), all ok since 1 folds ago\n"
     ]
    },
    {
     "name": "stderr",
     "output_type": "stream",
     "text": [
      "Warning, empty test fold 42 (2020-05-29 00:00:00), all ok since 1 folds ago\n",
      "Warning, empty test fold 43 (2020-05-31 00:00:00), all ok since 1 folds ago\n"
     ]
    },
    {
     "name": "stderr",
     "output_type": "stream",
     "text": [
      "Warning, empty test fold 44 (2020-06-02 00:00:00), all ok since 1 folds ago\n",
      "Warning, test fold 45 (2020-06-04 00:00:00) with less than 5 open proposals (1). all ok since 1 folds ago\n"
     ]
    },
    {
     "name": "stderr",
     "output_type": "stream",
     "text": [
      "Warning, test fold 46 (2020-06-06 00:00:00) with less than 5 open proposals (2). all ok since 1 folds ago\n"
     ]
    },
    {
     "name": "stderr",
     "output_type": "stream",
     "text": [
      "Warning, test fold 47 (2020-06-08 00:00:00) with less than 5 open proposals (2). all ok since 1 folds ago\n"
     ]
    },
    {
     "name": "stderr",
     "output_type": "stream",
     "text": [
      "Warning, test fold 49 (2020-06-12 00:00:00) with less than 5 open proposals (1). all ok since 2 folds ago\n"
     ]
    },
    {
     "name": "stderr",
     "output_type": "stream",
     "text": [
      "Warning, test fold 50 (2020-06-14 00:00:00) with less than 5 open proposals (3). all ok since 1 folds ago\n"
     ]
    },
    {
     "name": "stderr",
     "output_type": "stream",
     "text": [
      "Warning, test fold 51 (2020-06-16 00:00:00) with less than 5 open proposals (2). all ok since 1 folds ago\n"
     ]
    },
    {
     "name": "stderr",
     "output_type": "stream",
     "text": [
      "Warning, empty test fold 52 (2020-06-18 00:00:00), all ok since 8 folds ago\n",
      "Warning, empty test fold 53 (2020-06-20 00:00:00), all ok since 1 folds ago\n"
     ]
    },
    {
     "name": "stderr",
     "output_type": "stream",
     "text": [
      "Warning, empty test fold 54 (2020-06-22 00:00:00), all ok since 1 folds ago\n",
      "Warning, test fold 55 (2020-06-24 00:00:00) with less than 5 open proposals (4). all ok since 1 folds ago\n"
     ]
    },
    {
     "name": "stderr",
     "output_type": "stream",
     "text": [
      "Warning, empty test fold 57 (2020-06-28 00:00:00), all ok since 3 folds ago\n",
      "Warning, empty test fold 58 (2020-06-30 00:00:00), all ok since 1 folds ago\n"
     ]
    },
    {
     "name": "stderr",
     "output_type": "stream",
     "text": [
      "Warning, empty test fold 59 (2020-07-02 00:00:00), all ok since 1 folds ago\n",
      "Warning, empty test fold 60 (2020-07-04 00:00:00), all ok since 1 folds ago\n"
     ]
    },
    {
     "name": "stderr",
     "output_type": "stream",
     "text": [
      "Warning, test fold 61 (2020-07-06 00:00:00) with less than 5 open proposals (1). all ok since 1 folds ago\n",
      "Warning, empty test fold 62 (2020-07-08 00:00:00), all ok since 2 folds ago\n"
     ]
    },
    {
     "name": "stderr",
     "output_type": "stream",
     "text": [
      "Warning, empty test fold 63 (2020-07-10 00:00:00), all ok since 1 folds ago\n",
      "Warning, empty test fold 64 (2020-07-12 00:00:00), all ok since 1 folds ago\n"
     ]
    },
    {
     "name": "stderr",
     "output_type": "stream",
     "text": [
      "Warning, empty test fold 65 (2020-07-14 00:00:00), all ok since 1 folds ago\n",
      "Warning, test fold 66 (2020-07-16 00:00:00) with less than 5 open proposals (1). all ok since 1 folds ago\n"
     ]
    },
    {
     "name": "stderr",
     "output_type": "stream",
     "text": [
      "Warning, empty test fold 67 (2020-07-18 00:00:00), all ok since 2 folds ago\n",
      "Warning, empty test fold 68 (2020-07-20 00:00:00), all ok since 1 folds ago\n"
     ]
    },
    {
     "name": "stderr",
     "output_type": "stream",
     "text": [
      "Warning, empty test fold 69 (2020-07-22 00:00:00), all ok since 1 folds ago\n",
      "Warning, test fold 70 (2020-07-24 00:00:00) with less than 5 open proposals (1). all ok since 1 folds ago\n"
     ]
    },
    {
     "name": "stderr",
     "output_type": "stream",
     "text": [
      "Warning, test fold 71 (2020-07-26 00:00:00) with less than 5 open proposals (1). all ok since 1 folds ago\n",
      "Warning, test fold 72 (2020-07-28 00:00:00) with less than 5 open proposals (1). all ok since 1 folds ago\n"
     ]
    },
    {
     "name": "stderr",
     "output_type": "stream",
     "text": [
      "Warning, empty test fold 73 (2020-07-30 00:00:00), all ok since 4 folds ago\n",
      "Warning, test fold 74 (2020-08-01 00:00:00) with less than 5 open proposals (4). all ok since 1 folds ago\n"
     ]
    },
    {
     "name": "stderr",
     "output_type": "stream",
     "text": [
      "Warning, empty test fold 75 (2020-08-03 00:00:00), all ok since 2 folds ago\n",
      "Warning, empty test fold 76 (2020-08-05 00:00:00), all ok since 1 folds ago\n"
     ]
    },
    {
     "name": "stderr",
     "output_type": "stream",
     "text": [
      "Warning, empty test fold 77 (2020-08-07 00:00:00), all ok since 1 folds ago\n",
      "Warning, test fold 78 (2020-08-09 00:00:00) with less than 5 open proposals (2). all ok since 1 folds ago\n"
     ]
    },
    {
     "name": "stderr",
     "output_type": "stream",
     "text": [
      "Warning, empty test fold 79 (2020-08-11 00:00:00), all ok since 2 folds ago\n",
      "Warning, empty test fold 80 (2020-08-13 00:00:00), all ok since 1 folds ago\n"
     ]
    },
    {
     "name": "stderr",
     "output_type": "stream",
     "text": [
      "Warning, empty test fold 81 (2020-08-15 00:00:00), all ok since 1 folds ago\n",
      "Warning, empty test fold 82 (2020-08-17 00:00:00), all ok since 1 folds ago\n"
     ]
    },
    {
     "name": "stderr",
     "output_type": "stream",
     "text": [
      "Warning, empty test fold 83 (2020-08-19 00:00:00), all ok since 1 folds ago\n",
      "Warning, empty test fold 84 (2020-08-21 00:00:00), all ok since 1 folds ago\n"
     ]
    },
    {
     "name": "stderr",
     "output_type": "stream",
     "text": [
      "Warning, empty test fold 85 (2020-08-23 00:00:00), all ok since 1 folds ago\n",
      "Warning, test fold 86 (2020-08-25 00:00:00) with less than 5 open proposals (3). all ok since 1 folds ago\n"
     ]
    },
    {
     "name": "stderr",
     "output_type": "stream",
     "text": [
      "Warning, empty test fold 87 (2020-08-27 00:00:00), all ok since 2 folds ago\n",
      "Warning, empty test fold 88 (2020-08-29 00:00:00), all ok since 1 folds ago\n"
     ]
    },
    {
     "name": "stderr",
     "output_type": "stream",
     "text": [
      "Warning, empty test fold 89 (2020-08-31 00:00:00), all ok since 1 folds ago\n",
      "Warning, empty test fold 90 (2020-09-02 00:00:00), all ok since 1 folds ago\n"
     ]
    },
    {
     "name": "stderr",
     "output_type": "stream",
     "text": [
      "Warning, empty test fold 91 (2020-09-04 00:00:00), all ok since 1 folds ago\n",
      "Warning, empty test fold 92 (2020-09-06 00:00:00), all ok since 1 folds ago\n"
     ]
    },
    {
     "name": "stderr",
     "output_type": "stream",
     "text": [
      "Warning, empty test fold 93 (2020-09-08 00:00:00), all ok since 1 folds ago\n",
      "Warning, empty test fold 94 (2020-09-10 00:00:00), all ok since 1 folds ago\n"
     ]
    },
    {
     "name": "stderr",
     "output_type": "stream",
     "text": [
      "Warning, empty test fold 95 (2020-09-12 00:00:00), all ok since 1 folds ago\n"
     ]
    },
    {
     "name": "stderr",
     "output_type": "stream",
     "text": [
      "Warning, empty test fold 96 (2020-09-14 00:00:00), all ok since 1 folds ago\n",
      "Warning, empty test fold 97 (2020-09-16 00:00:00), all ok since 1 folds ago\n"
     ]
    },
    {
     "name": "stderr",
     "output_type": "stream",
     "text": [
      "Warning, empty test fold 98 (2020-09-18 00:00:00), all ok since 1 folds ago\n",
      "Warning, empty test fold 99 (2020-09-20 00:00:00), all ok since 1 folds ago\n"
     ]
    },
    {
     "name": "stderr",
     "output_type": "stream",
     "text": [
      "Warning, empty test fold 100 (2020-09-22 00:00:00), all ok since 1 folds ago\n",
      "Warning, empty test fold 101 (2020-09-24 00:00:00), all ok since 1 folds ago\n"
     ]
    },
    {
     "name": "stderr",
     "output_type": "stream",
     "text": [
      "Warning, empty test fold 102 (2020-09-26 00:00:00), all ok since 1 folds ago\n",
      "Warning, empty test fold 103 (2020-09-28 00:00:00), all ok since 1 folds ago\n"
     ]
    },
    {
     "name": "stderr",
     "output_type": "stream",
     "text": [
      "Warning, empty test fold 104 (2020-09-30 00:00:00), all ok since 1 folds ago\n",
      "Warning, empty test fold 105 (2020-10-02 00:00:00), all ok since 1 folds ago\n"
     ]
    },
    {
     "name": "stderr",
     "output_type": "stream",
     "text": [
      "Warning, empty test fold 106 (2020-10-04 00:00:00), all ok since 1 folds ago\n",
      "Warning, empty test fold 107 (2020-10-06 00:00:00), all ok since 1 folds ago\n"
     ]
    },
    {
     "name": "stderr",
     "output_type": "stream",
     "text": [
      "Warning, empty test fold 108 (2020-10-08 00:00:00), all ok since 1 folds ago\n",
      "Warning, empty test fold 109 (2020-10-10 00:00:00), all ok since 1 folds ago\n"
     ]
    },
    {
     "name": "stderr",
     "output_type": "stream",
     "text": [
      "Warning, test fold 110 (2020-10-12 00:00:00) with less than 5 open proposals (1). all ok since 1 folds ago\n",
      "Warning, empty test fold 111 (2020-10-14 00:00:00), all ok since 2 folds ago\n"
     ]
    },
    {
     "name": "stderr",
     "output_type": "stream",
     "text": [
      "Warning, empty test fold 112 (2020-10-16 00:00:00), all ok since 1 folds ago\n",
      "Warning, empty test fold 113 (2020-10-18 00:00:00), all ok since 1 folds ago\n"
     ]
    },
    {
     "name": "stderr",
     "output_type": "stream",
     "text": [
      "Warning, empty test fold 114 (2020-10-20 00:00:00), all ok since 1 folds ago\n",
      "Warning, empty test fold 115 (2020-10-22 00:00:00), all ok since 1 folds ago\n"
     ]
    },
    {
     "name": "stderr",
     "output_type": "stream",
     "text": [
      "Warning, empty test fold 116 (2020-10-24 00:00:00), all ok since 1 folds ago\n",
      "Warning, empty test fold 117 (2020-10-26 00:00:00), all ok since 1 folds ago\n"
     ]
    },
    {
     "name": "stderr",
     "output_type": "stream",
     "text": [
      "Warning, empty test fold 118 (2020-10-28 00:00:00), all ok since 1 folds ago\n",
      "Warning, empty test fold 119 (2020-10-30 00:00:00), all ok since 1 folds ago\n"
     ]
    },
    {
     "name": "stderr",
     "output_type": "stream",
     "text": [
      "Warning, empty test fold 120 (2020-11-01 00:00:00), all ok since 1 folds ago\n",
      "Warning, empty test fold 121 (2020-11-03 00:00:00), all ok since 1 folds ago\n"
     ]
    },
    {
     "name": "stderr",
     "output_type": "stream",
     "text": [
      "Warning, empty test fold 122 (2020-11-05 00:00:00), all ok since 1 folds ago\n",
      "Warning, empty test fold 123 (2020-11-07 00:00:00), all ok since 1 folds ago\n"
     ]
    },
    {
     "name": "stderr",
     "output_type": "stream",
     "text": [
      "Warning, empty test fold 124 (2020-11-09 00:00:00), all ok since 1 folds ago\n",
      "Warning, empty test fold 125 (2020-11-11 00:00:00), all ok since 1 folds ago\n"
     ]
    },
    {
     "name": "stderr",
     "output_type": "stream",
     "text": [
      "Warning, empty test fold 126 (2020-11-13 00:00:00), all ok since 1 folds ago\n",
      "Warning, empty test fold 127 (2020-11-15 00:00:00), all ok since 1 folds ago\n"
     ]
    },
    {
     "name": "stderr",
     "output_type": "stream",
     "text": [
      "Warning, empty test fold 128 (2020-11-17 00:00:00), all ok since 1 folds ago\n",
      "Warning, empty test fold 129 (2020-11-19 00:00:00), all ok since 1 folds ago\n"
     ]
    },
    {
     "name": "stderr",
     "output_type": "stream",
     "text": [
      "Warning, empty test fold 130 (2020-11-21 00:00:00), all ok since 1 folds ago\n",
      "Warning, empty test fold 131 (2020-11-23 00:00:00), all ok since 1 folds ago\n"
     ]
    },
    {
     "name": "stderr",
     "output_type": "stream",
     "text": [
      "Warning, empty test fold 132 (2020-11-25 00:00:00), all ok since 1 folds ago\n",
      "Warning, empty test fold 133 (2020-11-27 00:00:00), all ok since 1 folds ago\n"
     ]
    },
    {
     "name": "stderr",
     "output_type": "stream",
     "text": [
      "Warning, empty test fold 134 (2020-11-29 00:00:00), all ok since 1 folds ago\n",
      "Warning, empty test fold 135 (2020-12-01 00:00:00), all ok since 1 folds ago\n"
     ]
    },
    {
     "name": "stderr",
     "output_type": "stream",
     "text": [
      "Warning, empty test fold 136 (2020-12-03 00:00:00), all ok since 1 folds ago\n",
      "Warning, empty test fold 137 (2020-12-05 00:00:00), all ok since 1 folds ago\n"
     ]
    },
    {
     "name": "stderr",
     "output_type": "stream",
     "text": [
      "Warning, empty test fold 138 (2020-12-07 00:00:00), all ok since 1 folds ago\n",
      "Warning, empty test fold 139 (2020-12-09 00:00:00), all ok since 1 folds ago\n"
     ]
    },
    {
     "name": "stderr",
     "output_type": "stream",
     "text": [
      "Warning, empty test fold 140 (2020-12-11 00:00:00), all ok since 1 folds ago\n",
      "Warning, empty test fold 141 (2020-12-13 00:00:00), all ok since 1 folds ago\n"
     ]
    },
    {
     "name": "stderr",
     "output_type": "stream",
     "text": [
      "Warning, empty test fold 142 (2020-12-15 00:00:00), all ok since 1 folds ago\n",
      "Warning, empty test fold 143 (2020-12-17 00:00:00), all ok since 1 folds ago\n"
     ]
    },
    {
     "name": "stderr",
     "output_type": "stream",
     "text": [
      "Warning, empty test fold 144 (2020-12-19 00:00:00), all ok since 1 folds ago\n",
      "Warning, empty test fold 145 (2020-12-21 00:00:00), all ok since 1 folds ago\n"
     ]
    },
    {
     "name": "stderr",
     "output_type": "stream",
     "text": [
      "Warning, empty test fold 146 (2020-12-23 00:00:00), all ok since 1 folds ago\n",
      "Warning, empty test fold 147 (2020-12-25 00:00:00), all ok since 1 folds ago\n"
     ]
    },
    {
     "name": "stderr",
     "output_type": "stream",
     "text": [
      "Warning, empty test fold 148 (2020-12-27 00:00:00), all ok since 1 folds ago\n",
      "Warning, empty test fold 149 (2020-12-29 00:00:00), all ok since 1 folds ago\n"
     ]
    },
    {
     "name": "stderr",
     "output_type": "stream",
     "text": [
      "Warning, empty test fold 150 (2020-12-31 00:00:00), all ok since 1 folds ago\n",
      "Warning, empty test fold 151 (2021-01-02 00:00:00), all ok since 1 folds ago\n"
     ]
    },
    {
     "name": "stderr",
     "output_type": "stream",
     "text": [
      "Warning, empty test fold 152 (2021-01-04 00:00:00), all ok since 1 folds ago\n",
      "Warning, empty test fold 153 (2021-01-06 00:00:00), all ok since 1 folds ago\n"
     ]
    },
    {
     "name": "stderr",
     "output_type": "stream",
     "text": [
      "Warning, empty test fold 154 (2021-01-08 00:00:00), all ok since 1 folds ago\n",
      "Warning, empty test fold 155 (2021-01-10 00:00:00), all ok since 1 folds ago\n"
     ]
    },
    {
     "name": "stderr",
     "output_type": "stream",
     "text": [
      "Warning, empty test fold 156 (2021-01-12 00:00:00), all ok since 1 folds ago\n",
      "Warning, empty test fold 157 (2021-01-14 00:00:00), all ok since 1 folds ago\n"
     ]
    },
    {
     "name": "stderr",
     "output_type": "stream",
     "text": [
      "Warning, empty test fold 158 (2021-01-16 00:00:00), all ok since 1 folds ago\n",
      "Warning, empty test fold 159 (2021-01-18 00:00:00), all ok since 1 folds ago\n"
     ]
    },
    {
     "name": "stderr",
     "output_type": "stream",
     "text": [
      "Warning, empty test fold 160 (2021-01-20 00:00:00), all ok since 1 folds ago\n",
      "Warning, empty test fold 161 (2021-01-22 00:00:00), all ok since 1 folds ago\n"
     ]
    },
    {
     "name": "stderr",
     "output_type": "stream",
     "text": [
      "Warning, empty test fold 162 (2021-01-24 00:00:00), all ok since 1 folds ago\n",
      "Warning, test fold 163 (2021-01-26 00:00:00) with less than 5 open proposals (1). all ok since 1 folds ago\n"
     ]
    },
    {
     "name": "stderr",
     "output_type": "stream",
     "text": [
      "Warning, empty test fold 164 (2021-01-28 00:00:00), all ok since 2 folds ago\n",
      "Warning, empty test fold 165 (2021-01-30 00:00:00), all ok since 1 folds ago\n"
     ]
    },
    {
     "name": "stderr",
     "output_type": "stream",
     "text": [
      "Warning, empty test fold 166 (2021-02-01 00:00:00), all ok since 1 folds ago\n",
      "Warning, empty test fold 167 (2021-02-03 00:00:00), all ok since 1 folds ago\n"
     ]
    },
    {
     "name": "stderr",
     "output_type": "stream",
     "text": [
      "Warning, empty test fold 168 (2021-02-05 00:00:00), all ok since 1 folds ago\n",
      "Warning, empty test fold 169 (2021-02-07 00:00:00), all ok since 1 folds ago\n"
     ]
    },
    {
     "name": "stderr",
     "output_type": "stream",
     "text": [
      "Warning, empty test fold 170 (2021-02-09 00:00:00), all ok since 1 folds ago\n",
      "Warning, test fold 171 (2021-02-11 00:00:00) with less than 5 open proposals (1). all ok since 1 folds ago\n"
     ]
    },
    {
     "name": "stderr",
     "output_type": "stream",
     "text": [
      "Warning, empty test fold 172 (2021-02-13 00:00:00), all ok since 2 folds ago\n",
      "Warning, empty test fold 173 (2021-02-15 00:00:00), all ok since 1 folds ago\n"
     ]
    },
    {
     "name": "stderr",
     "output_type": "stream",
     "text": [
      "Warning, empty test fold 174 (2021-02-17 00:00:00), all ok since 1 folds ago\n",
      "Warning, empty test fold 175 (2021-02-19 00:00:00), all ok since 1 folds ago\n"
     ]
    },
    {
     "name": "stderr",
     "output_type": "stream",
     "text": [
      "Warning, empty test fold 176 (2021-02-21 00:00:00), all ok since 1 folds ago\n",
      "Warning, empty test fold 177 (2021-02-23 00:00:00), all ok since 1 folds ago\n"
     ]
    },
    {
     "name": "stderr",
     "output_type": "stream",
     "text": [
      "Warning, empty test fold 178 (2021-02-25 00:00:00), all ok since 1 folds ago\n",
      "Warning, empty test fold 179 (2021-02-27 00:00:00), all ok since 1 folds ago\n"
     ]
    },
    {
     "name": "stderr",
     "output_type": "stream",
     "text": [
      "Warning, empty test fold 180 (2021-03-01 00:00:00), all ok since 1 folds ago\n",
      "Warning, empty test fold 181 (2021-03-03 00:00:00), all ok since 1 folds ago\n"
     ]
    },
    {
     "name": "stderr",
     "output_type": "stream",
     "text": [
      "Warning, empty test fold 182 (2021-03-05 00:00:00), all ok since 1 folds ago\n",
      "Warning, empty test fold 183 (2021-03-07 00:00:00), all ok since 1 folds ago\n"
     ]
    },
    {
     "name": "stderr",
     "output_type": "stream",
     "text": [
      "Warning, empty test fold 184 (2021-03-09 00:00:00), all ok since 1 folds ago\n",
      "Warning, empty test fold 185 (2021-03-11 00:00:00), all ok since 1 folds ago\n"
     ]
    },
    {
     "name": "stderr",
     "output_type": "stream",
     "text": [
      "Warning, empty test fold 186 (2021-03-13 00:00:00), all ok since 1 folds ago\n",
      "Warning, empty test fold 187 (2021-03-15 00:00:00), all ok since 1 folds ago\n"
     ]
    },
    {
     "name": "stderr",
     "output_type": "stream",
     "text": [
      "Warning, empty test fold 188 (2021-03-17 00:00:00), all ok since 1 folds ago\n",
      "Warning, empty test fold 189 (2021-03-19 00:00:00), all ok since 1 folds ago\n"
     ]
    },
    {
     "name": "stderr",
     "output_type": "stream",
     "text": [
      "Warning, empty test fold 190 (2021-03-21 00:00:00), all ok since 1 folds ago\n",
      "Warning, empty test fold 191 (2021-03-23 00:00:00), all ok since 1 folds ago\n"
     ]
    },
    {
     "name": "stderr",
     "output_type": "stream",
     "text": [
      "Warning, empty test fold 192 (2021-03-25 00:00:00), all ok since 1 folds ago\n",
      "Warning, empty test fold 193 (2021-03-27 00:00:00), all ok since 1 folds ago\n"
     ]
    },
    {
     "name": "stderr",
     "output_type": "stream",
     "text": [
      "Warning, empty test fold 194 (2021-03-29 00:00:00), all ok since 1 folds ago\n",
      "Warning, empty test fold 195 (2021-03-31 00:00:00), all ok since 1 folds ago\n"
     ]
    },
    {
     "name": "stderr",
     "output_type": "stream",
     "text": [
      "Warning, test fold 196 (2021-04-02 00:00:00) with less than 5 open proposals (1). all ok since 1 folds ago\n",
      "Warning, empty test fold 197 (2021-04-04 00:00:00), all ok since 2 folds ago\n"
     ]
    },
    {
     "name": "stderr",
     "output_type": "stream",
     "text": [
      "Warning, empty test fold 198 (2021-04-06 00:00:00), all ok since 1 folds ago\n",
      "Warning, empty test fold 199 (2021-04-08 00:00:00), all ok since 1 folds ago\n"
     ]
    },
    {
     "name": "stderr",
     "output_type": "stream",
     "text": [
      "Warning, empty test fold 200 (2021-04-10 00:00:00), all ok since 1 folds ago\n",
      "Warning, empty test fold 201 (2021-04-12 00:00:00), all ok since 1 folds ago\n"
     ]
    },
    {
     "name": "stderr",
     "output_type": "stream",
     "text": [
      "Warning, empty test fold 202 (2021-04-14 00:00:00), all ok since 1 folds ago\n",
      "Warning, empty test fold 203 (2021-04-16 00:00:00), all ok since 1 folds ago\n"
     ]
    },
    {
     "name": "stderr",
     "output_type": "stream",
     "text": [
      "Warning, empty test fold 204 (2021-04-18 00:00:00), all ok since 1 folds ago\n",
      "Warning, empty test fold 205 (2021-04-20 00:00:00), all ok since 1 folds ago\n"
     ]
    },
    {
     "name": "stderr",
     "output_type": "stream",
     "text": [
      "Warning, empty test fold 206 (2021-04-22 00:00:00), all ok since 1 folds ago\n",
      "Warning, empty test fold 207 (2021-04-24 00:00:00), all ok since 1 folds ago\n"
     ]
    },
    {
     "name": "stderr",
     "output_type": "stream",
     "text": [
      "Warning, empty test fold 208 (2021-04-26 00:00:00), all ok since 1 folds ago\n",
      "Warning, empty test fold 209 (2021-04-28 00:00:00), all ok since 1 folds ago\n"
     ]
    },
    {
     "name": "stderr",
     "output_type": "stream",
     "text": [
      "Warning, empty test fold 210 (2021-04-30 00:00:00), all ok since 1 folds ago\n",
      "Warning, empty test fold 211 (2021-05-02 00:00:00), all ok since 1 folds ago\n"
     ]
    },
    {
     "name": "stderr",
     "output_type": "stream",
     "text": [
      "Warning, empty test fold 212 (2021-05-04 00:00:00), all ok since 1 folds ago\n",
      "Warning, empty test fold 213 (2021-05-06 00:00:00), all ok since 1 folds ago\n"
     ]
    },
    {
     "name": "stderr",
     "output_type": "stream",
     "text": [
      "Warning, empty test fold 214 (2021-05-08 00:00:00), all ok since 1 folds ago\n",
      "Warning, empty test fold 215 (2021-05-10 00:00:00), all ok since 1 folds ago\n"
     ]
    },
    {
     "name": "stderr",
     "output_type": "stream",
     "text": [
      "Warning, empty test fold 216 (2021-05-12 00:00:00), all ok since 1 folds ago\n",
      "Warning, empty test fold 217 (2021-05-14 00:00:00), all ok since 1 folds ago\n"
     ]
    },
    {
     "name": "stderr",
     "output_type": "stream",
     "text": [
      "Warning, test fold 218 (2021-05-16 00:00:00) with less than 5 open proposals (1). all ok since 1 folds ago\n",
      "Warning, empty test fold 219 (2021-05-18 00:00:00), all ok since 2 folds ago\n"
     ]
    },
    {
     "name": "stderr",
     "output_type": "stream",
     "text": [
      "Warning, empty test fold 220 (2021-05-20 00:00:00), all ok since 1 folds ago\n",
      "Warning, empty test fold 221 (2021-05-22 00:00:00), all ok since 1 folds ago\n"
     ]
    },
    {
     "name": "stderr",
     "output_type": "stream",
     "text": [
      "Warning, empty test fold 222 (2021-05-24 00:00:00), all ok since 1 folds ago\n",
      "Warning, empty test fold 223 (2021-05-26 00:00:00), all ok since 1 folds ago\n"
     ]
    },
    {
     "name": "stderr",
     "output_type": "stream",
     "text": [
      "Warning, empty test fold 224 (2021-05-28 00:00:00), all ok since 1 folds ago\n",
      "Warning, empty test fold 225 (2021-05-30 00:00:00), all ok since 1 folds ago\n"
     ]
    },
    {
     "name": "stderr",
     "output_type": "stream",
     "text": [
      "Warning, empty test fold 226 (2021-06-01 00:00:00), all ok since 1 folds ago\n",
      "Warning, empty test fold 227 (2021-06-03 00:00:00), all ok since 1 folds ago\n"
     ]
    },
    {
     "name": "stderr",
     "output_type": "stream",
     "text": [
      "Warning, empty test fold 228 (2021-06-05 00:00:00), all ok since 1 folds ago\n",
      "Warning, empty test fold 229 (2021-06-07 00:00:00), all ok since 1 folds ago\n"
     ]
    },
    {
     "name": "stderr",
     "output_type": "stream",
     "text": [
      "Warning, empty test fold 230 (2021-06-09 00:00:00), all ok since 1 folds ago\n",
      "Warning, empty test fold 231 (2021-06-11 00:00:00), all ok since 1 folds ago\n"
     ]
    },
    {
     "name": "stderr",
     "output_type": "stream",
     "text": [
      "Warning, empty test fold 232 (2021-06-13 00:00:00), all ok since 1 folds ago\n",
      "Warning, empty test fold 233 (2021-06-15 00:00:00), all ok since 1 folds ago\n"
     ]
    },
    {
     "name": "stderr",
     "output_type": "stream",
     "text": [
      "Warning, empty test fold 234 (2021-06-17 00:00:00), all ok since 1 folds ago\n",
      "Warning, empty test fold 235 (2021-06-19 00:00:00), all ok since 1 folds ago\n"
     ]
    },
    {
     "name": "stderr",
     "output_type": "stream",
     "text": [
      "Warning, empty test fold 236 (2021-06-21 00:00:00), all ok since 1 folds ago\n",
      "Warning, empty test fold 237 (2021-06-23 00:00:00), all ok since 1 folds ago\n"
     ]
    },
    {
     "name": "stderr",
     "output_type": "stream",
     "text": [
      "Warning, empty test fold 238 (2021-06-25 00:00:00), all ok since 1 folds ago\n",
      "Warning, empty test fold 239 (2021-06-27 00:00:00), all ok since 1 folds ago\n"
     ]
    },
    {
     "name": "stderr",
     "output_type": "stream",
     "text": [
      "Warning, empty test fold 240 (2021-06-29 00:00:00), all ok since 1 folds ago\n",
      "Warning, empty test fold 241 (2021-07-01 00:00:00), all ok since 1 folds ago\n"
     ]
    },
    {
     "name": "stderr",
     "output_type": "stream",
     "text": [
      "Warning, empty test fold 242 (2021-07-03 00:00:00), all ok since 1 folds ago\n",
      "Warning, empty test fold 243 (2021-07-05 00:00:00), all ok since 1 folds ago\n"
     ]
    },
    {
     "name": "stderr",
     "output_type": "stream",
     "text": [
      "Warning, empty test fold 244 (2021-07-07 00:00:00), all ok since 1 folds ago\n",
      "Warning, empty test fold 245 (2021-07-09 00:00:00), all ok since 1 folds ago\n"
     ]
    },
    {
     "name": "stderr",
     "output_type": "stream",
     "text": [
      "Warning, empty test fold 246 (2021-07-11 00:00:00), all ok since 1 folds ago\n",
      "Warning, empty test fold 247 (2021-07-13 00:00:00), all ok since 1 folds ago\n"
     ]
    },
    {
     "name": "stderr",
     "output_type": "stream",
     "text": [
      "Warning, empty test fold 248 (2021-07-15 00:00:00), all ok since 1 folds ago\n",
      "Warning, empty test fold 249 (2021-07-17 00:00:00), all ok since 1 folds ago\n"
     ]
    },
    {
     "name": "stderr",
     "output_type": "stream",
     "text": [
      "Warning, empty test fold 250 (2021-07-19 00:00:00), all ok since 1 folds ago\n",
      "Warning, empty test fold 251 (2021-07-21 00:00:00), all ok since 1 folds ago\n"
     ]
    },
    {
     "name": "stderr",
     "output_type": "stream",
     "text": [
      "Warning, empty test fold 252 (2021-07-23 00:00:00), all ok since 1 folds ago\n",
      "Warning, empty test fold 253 (2021-07-25 00:00:00), all ok since 1 folds ago\n"
     ]
    },
    {
     "name": "stderr",
     "output_type": "stream",
     "text": [
      "Warning, test fold 254 (2021-07-27 00:00:00) with less than 5 open proposals (1). all ok since 1 folds ago\n"
     ]
    },
    {
     "name": "stderr",
     "output_type": "stream",
     "text": [
      "Warning, empty test fold 255 (2021-07-29 00:00:00), all ok since 2 folds ago\n",
      "Warning, test fold 256 (2021-07-31 00:00:00) with less than 5 open proposals (2). all ok since 1 folds ago\n"
     ]
    },
    {
     "name": "stderr",
     "output_type": "stream",
     "text": [
      "Warning, test fold 257 (2021-08-02 00:00:00) with less than 5 open proposals (2). all ok since 1 folds ago\n"
     ]
    },
    {
     "name": "stderr",
     "output_type": "stream",
     "text": [
      "Warning, empty test fold 258 (2021-08-04 00:00:00), all ok since 3 folds ago\n",
      "Warning, empty test fold 259 (2021-08-06 00:00:00), all ok since 1 folds ago\n"
     ]
    },
    {
     "name": "stderr",
     "output_type": "stream",
     "text": [
      "Warning, empty test fold 260 (2021-08-08 00:00:00), all ok since 1 folds ago\n",
      "Warning, empty test fold 261 (2021-08-10 00:00:00), all ok since 1 folds ago\n"
     ]
    },
    {
     "name": "stderr",
     "output_type": "stream",
     "text": [
      "Warning, empty test fold 262 (2021-08-12 00:00:00), all ok since 1 folds ago\n",
      "Warning, empty test fold 263 (2021-08-14 00:00:00), all ok since 1 folds ago\n"
     ]
    },
    {
     "name": "stderr",
     "output_type": "stream",
     "text": [
      "Warning, empty test fold 264 (2021-08-16 00:00:00), all ok since 1 folds ago\n",
      "Warning, empty test fold 265 (2021-08-18 00:00:00), all ok since 1 folds ago\n"
     ]
    },
    {
     "name": "stderr",
     "output_type": "stream",
     "text": [
      "Warning, empty test fold 266 (2021-08-20 00:00:00), all ok since 1 folds ago\n",
      "Warning, test fold 267 (2021-08-22 00:00:00) with less than 5 open proposals (1). all ok since 1 folds ago\n"
     ]
    },
    {
     "name": "stderr",
     "output_type": "stream",
     "text": [
      "Warning, test fold 268 (2021-08-24 00:00:00) with less than 5 open proposals (1). all ok since 1 folds ago\n"
     ]
    },
    {
     "name": "stderr",
     "output_type": "stream",
     "text": [
      "Warning, test fold 269 (2021-08-26 00:00:00) with less than 5 open proposals (1). all ok since 1 folds ago\n"
     ]
    },
    {
     "name": "stderr",
     "output_type": "stream",
     "text": [
      "Warning, test fold 270 (2021-08-28 00:00:00) with less than 5 open proposals (4). all ok since 1 folds ago\n"
     ]
    },
    {
     "name": "stderr",
     "output_type": "stream",
     "text": [
      "Warning, test fold 271 (2021-08-30 00:00:00) with less than 5 open proposals (3). all ok since 1 folds ago\n"
     ]
    },
    {
     "name": "stderr",
     "output_type": "stream",
     "text": [
      "Warning, empty test fold 272 (2021-09-01 00:00:00), all ok since 6 folds ago\n",
      "Warning, empty test fold 273 (2021-09-03 00:00:00), all ok since 1 folds ago\n"
     ]
    },
    {
     "name": "stderr",
     "output_type": "stream",
     "text": [
      "Warning, test fold 274 (2021-09-05 00:00:00) with less than 5 open proposals (4). all ok since 1 folds ago\n"
     ]
    },
    {
     "name": "stderr",
     "output_type": "stream",
     "text": [
      "Warning, test fold 275 (2021-09-07 00:00:00) with less than 5 open proposals (3). all ok since 1 folds ago\n"
     ]
    },
    {
     "name": "stderr",
     "output_type": "stream",
     "text": [
      "Warning, empty test fold 276 (2021-09-09 00:00:00), all ok since 3 folds ago\n",
      "Warning, test fold 277 (2021-09-11 00:00:00) with less than 5 open proposals (3). all ok since 1 folds ago\n"
     ]
    },
    {
     "name": "stderr",
     "output_type": "stream",
     "text": [
      "Warning, test fold 278 (2021-09-13 00:00:00) with less than 5 open proposals (3). all ok since 1 folds ago\n"
     ]
    },
    {
     "name": "stderr",
     "output_type": "stream",
     "text": [
      "Warning, test fold 282 (2021-09-21 00:00:00) with less than 5 open proposals (4). all ok since 4 folds ago\n"
     ]
    },
    {
     "name": "stderr",
     "output_type": "stream",
     "text": [
      "Warning, test fold 283 (2021-09-23 00:00:00) with less than 5 open proposals (2). all ok since 1 folds ago\n"
     ]
    },
    {
     "name": "stderr",
     "output_type": "stream",
     "text": [
      "Warning, test fold 284 (2021-09-25 00:00:00) with less than 5 open proposals (1). all ok since 1 folds ago\n"
     ]
    },
    {
     "name": "stderr",
     "output_type": "stream",
     "text": [
      "Warning, test fold 285 (2021-09-27 00:00:00) with less than 5 open proposals (1). all ok since 1 folds ago\n"
     ]
    },
    {
     "name": "stderr",
     "output_type": "stream",
     "text": [
      "Warning, test fold 286 (2021-09-29 00:00:00) with less than 5 open proposals (3). all ok since 1 folds ago\n"
     ]
    },
    {
     "name": "stderr",
     "output_type": "stream",
     "text": [
      "Warning, test fold 287 (2021-10-01 00:00:00) with less than 5 open proposals (4). all ok since 1 folds ago\n"
     ]
    },
    {
     "name": "stderr",
     "output_type": "stream",
     "text": [
      "Warning, empty test fold 288 (2021-10-03 00:00:00), all ok since 12 folds ago\n",
      "Warning, empty test fold 289 (2021-10-05 00:00:00), all ok since 1 folds ago\n"
     ]
    },
    {
     "name": "stderr",
     "output_type": "stream",
     "text": [
      "Warning, empty test fold 290 (2021-10-07 00:00:00), all ok since 1 folds ago\n",
      "Warning, empty test fold 291 (2021-10-09 00:00:00), all ok since 1 folds ago\n"
     ]
    },
    {
     "name": "stderr",
     "output_type": "stream",
     "text": [
      "Warning, empty test fold 292 (2021-10-11 00:00:00), all ok since 1 folds ago\n",
      "Warning, empty test fold 293 (2021-10-13 00:00:00), all ok since 1 folds ago\n"
     ]
    },
    {
     "name": "stderr",
     "output_type": "stream",
     "text": [
      "Warning, empty test fold 294 (2021-10-15 00:00:00), all ok since 1 folds ago\n",
      "Warning, empty test fold 295 (2021-10-17 00:00:00), all ok since 1 folds ago\n"
     ]
    },
    {
     "name": "stderr",
     "output_type": "stream",
     "text": [
      "Warning, empty test fold 296 (2021-10-19 00:00:00), all ok since 1 folds ago\n",
      "Warning, empty test fold 297 (2021-10-21 00:00:00), all ok since 1 folds ago\n"
     ]
    },
    {
     "name": "stderr",
     "output_type": "stream",
     "text": [
      "Warning, empty test fold 298 (2021-10-23 00:00:00), all ok since 1 folds ago\n",
      "Warning, empty test fold 299 (2021-10-25 00:00:00), all ok since 1 folds ago\n"
     ]
    },
    {
     "name": "stderr",
     "output_type": "stream",
     "text": [
      "Warning, test fold 300 (2021-10-27 00:00:00) with less than 5 open proposals (3). all ok since 1 folds ago\n"
     ]
    },
    {
     "name": "stderr",
     "output_type": "stream",
     "text": [
      "Warning, test fold 301 (2021-10-29 00:00:00) with less than 5 open proposals (4). all ok since 1 folds ago\n"
     ]
    },
    {
     "name": "stderr",
     "output_type": "stream",
     "text": [
      "Warning, empty test fold 302 (2021-10-31 00:00:00), all ok since 3 folds ago\n",
      "Warning, empty test fold 303 (2021-11-02 00:00:00), all ok since 1 folds ago\n"
     ]
    },
    {
     "name": "stderr",
     "output_type": "stream",
     "text": [
      "Warning, empty test fold 304 (2021-11-04 00:00:00), all ok since 1 folds ago\n",
      "Warning, empty test fold 305 (2021-11-06 00:00:00), all ok since 1 folds ago\n"
     ]
    },
    {
     "name": "stderr",
     "output_type": "stream",
     "text": [
      "Warning, empty test fold 306 (2021-11-08 00:00:00), all ok since 1 folds ago\n",
      "Warning, empty test fold 307 (2021-11-10 00:00:00), all ok since 1 folds ago\n"
     ]
    },
    {
     "name": "stderr",
     "output_type": "stream",
     "text": [
      "Warning, empty test fold 308 (2021-11-12 00:00:00), all ok since 1 folds ago\n",
      "Warning, empty test fold 309 (2021-11-14 00:00:00), all ok since 1 folds ago\n"
     ]
    },
    {
     "name": "stderr",
     "output_type": "stream",
     "text": [
      "Warning, empty test fold 310 (2021-11-16 00:00:00), all ok since 1 folds ago\n",
      "Warning, empty test fold 311 (2021-11-18 00:00:00), all ok since 1 folds ago\n"
     ]
    },
    {
     "name": "stderr",
     "output_type": "stream",
     "text": [
      "Warning, empty test fold 312 (2021-11-20 00:00:00), all ok since 1 folds ago\n",
      "Warning, empty test fold 313 (2021-11-22 00:00:00), all ok since 1 folds ago\n"
     ]
    },
    {
     "name": "stderr",
     "output_type": "stream",
     "text": [
      "Warning, empty test fold 314 (2021-11-24 00:00:00), all ok since 1 folds ago\n",
      "Warning, empty test fold 315 (2021-11-26 00:00:00), all ok since 1 folds ago\n"
     ]
    },
    {
     "name": "stderr",
     "output_type": "stream",
     "text": [
      "Warning, empty test fold 316 (2021-11-28 00:00:00), all ok since 1 folds ago\n",
      "Warning, test fold 317 (2021-11-30 00:00:00) with less than 5 open proposals (2). all ok since 1 folds ago\n"
     ]
    },
    {
     "name": "stderr",
     "output_type": "stream",
     "text": [
      "Warning, test fold 318 (2021-12-02 00:00:00) with less than 5 open proposals (2). all ok since 1 folds ago\n"
     ]
    },
    {
     "name": "stderr",
     "output_type": "stream",
     "text": [
      "Warning, test fold 319 (2021-12-04 00:00:00) with less than 5 open proposals (2). all ok since 1 folds ago\n"
     ]
    },
    {
     "name": "stderr",
     "output_type": "stream",
     "text": [
      "Warning, test fold 320 (2021-12-06 00:00:00) with less than 5 open proposals (1). all ok since 1 folds ago\n"
     ]
    },
    {
     "name": "stderr",
     "output_type": "stream",
     "text": [
      "Warning, test fold 321 (2021-12-08 00:00:00) with less than 5 open proposals (1). all ok since 1 folds ago\n"
     ]
    },
    {
     "name": "stderr",
     "output_type": "stream",
     "text": [
      "Warning, empty test fold 322 (2021-12-10 00:00:00), all ok since 6 folds ago\n",
      "Warning, empty test fold 323 (2021-12-12 00:00:00), all ok since 1 folds ago\n"
     ]
    },
    {
     "name": "stderr",
     "output_type": "stream",
     "text": [
      "Warning, empty test fold 324 (2021-12-14 00:00:00), all ok since 1 folds ago\n",
      "Warning, test fold 325 (2021-12-16 00:00:00) with less than 5 open proposals (1). all ok since 1 folds ago\n"
     ]
    },
    {
     "name": "stderr",
     "output_type": "stream",
     "text": [
      "Warning, test fold 329 (2021-12-24 00:00:00) with less than 5 open proposals (3). all ok since 4 folds ago\n"
     ]
    },
    {
     "name": "stderr",
     "output_type": "stream",
     "text": [
      "Warning, test fold 330 (2021-12-26 00:00:00) with less than 5 open proposals (2). all ok since 1 folds ago\n"
     ]
    },
    {
     "name": "stderr",
     "output_type": "stream",
     "text": [
      "Warning, test fold 331 (2021-12-28 00:00:00) with less than 5 open proposals (2). all ok since 1 folds ago\n"
     ]
    },
    {
     "name": "stderr",
     "output_type": "stream",
     "text": [
      "Warning, empty test fold 332 (2021-12-30 00:00:00), all ok since 8 folds ago\n",
      "Warning, empty test fold 333 (2022-01-01 00:00:00), all ok since 1 folds ago\n"
     ]
    },
    {
     "name": "stderr",
     "output_type": "stream",
     "text": [
      "Warning, test fold 334 (2022-01-03 00:00:00) with less than 5 open proposals (1). all ok since 1 folds ago\n"
     ]
    },
    {
     "name": "stderr",
     "output_type": "stream",
     "text": [
      "Warning, test fold 335 (2022-01-05 00:00:00) with less than 5 open proposals (1). all ok since 1 folds ago\n"
     ]
    },
    {
     "name": "stderr",
     "output_type": "stream",
     "text": [
      "Warning, test fold 340 (2022-01-15 00:00:00) with less than 5 open proposals (4). all ok since 5 folds ago\n"
     ]
    },
    {
     "name": "stderr",
     "output_type": "stream",
     "text": [
      "Warning, test fold 341 (2022-01-17 00:00:00) with less than 5 open proposals (2). all ok since 1 folds ago\n"
     ]
    },
    {
     "name": "stderr",
     "output_type": "stream",
     "text": [
      "Warning, empty test fold 342 (2022-01-19 00:00:00), all ok since 9 folds ago\n",
      "Warning, test fold 343 (2022-01-21 00:00:00) with less than 5 open proposals (2). all ok since 1 folds ago\n"
     ]
    },
    {
     "name": "stderr",
     "output_type": "stream",
     "text": [
      "Warning, test fold 344 (2022-01-23 00:00:00) with less than 5 open proposals (2). all ok since 1 folds ago\n"
     ]
    },
    {
     "name": "stderr",
     "output_type": "stream",
     "text": [
      "Warning, empty test fold 345 (2022-01-25 00:00:00), all ok since 3 folds ago\n",
      "Warning, test fold 346 (2022-01-27 00:00:00) with less than 5 open proposals (3). all ok since 1 folds ago\n"
     ]
    },
    {
     "name": "stderr",
     "output_type": "stream",
     "text": [
      "Warning, test fold 347 (2022-01-29 00:00:00) with less than 5 open proposals (3). all ok since 1 folds ago\n"
     ]
    },
    {
     "name": "stderr",
     "output_type": "stream",
     "text": [
      "Warning, test fold 348 (2022-01-31 00:00:00) with less than 5 open proposals (4). all ok since 1 folds ago\n"
     ]
    },
    {
     "name": "stderr",
     "output_type": "stream",
     "text": [
      "Warning, test fold 349 (2022-02-02 00:00:00) with less than 5 open proposals (3). all ok since 1 folds ago\n"
     ]
    },
    {
     "name": "stderr",
     "output_type": "stream",
     "text": [
      "Warning, test fold 350 (2022-02-04 00:00:00) with less than 5 open proposals (2). all ok since 1 folds ago\n"
     ]
    },
    {
     "name": "stderr",
     "output_type": "stream",
     "text": [
      "Warning, test fold 351 (2022-02-06 00:00:00) with less than 5 open proposals (2). all ok since 1 folds ago\n"
     ]
    },
    {
     "name": "stderr",
     "output_type": "stream",
     "text": [
      "Warning, test fold 352 (2022-02-08 00:00:00) with less than 5 open proposals (3). all ok since 1 folds ago\n"
     ]
    },
    {
     "name": "stderr",
     "output_type": "stream",
     "text": [
      "Warning, test fold 353 (2022-02-10 00:00:00) with less than 5 open proposals (3). all ok since 1 folds ago\n"
     ]
    },
    {
     "name": "stderr",
     "output_type": "stream",
     "text": [
      "Warning, test fold 354 (2022-02-12 00:00:00) with less than 5 open proposals (2). all ok since 1 folds ago\n"
     ]
    },
    {
     "name": "stderr",
     "output_type": "stream",
     "text": [
      "Warning, test fold 355 (2022-02-14 00:00:00) with less than 5 open proposals (1). all ok since 1 folds ago\n"
     ]
    },
    {
     "name": "stderr",
     "output_type": "stream",
     "text": [
      "Warning, test fold 356 (2022-02-16 00:00:00) with less than 5 open proposals (2). all ok since 1 folds ago\n"
     ]
    },
    {
     "name": "stderr",
     "output_type": "stream",
     "text": [
      "Warning, test fold 357 (2022-02-18 00:00:00) with less than 5 open proposals (2). all ok since 1 folds ago\n"
     ]
    },
    {
     "name": "stderr",
     "output_type": "stream",
     "text": [
      "Warning, empty test fold 358 (2022-02-20 00:00:00), all ok since 13 folds ago\n",
      "Warning, empty test fold 359 (2022-02-22 00:00:00), all ok since 1 folds ago\n"
     ]
    },
    {
     "name": "stderr",
     "output_type": "stream",
     "text": [
      "Warning, empty test fold 360 (2022-02-24 00:00:00), all ok since 1 folds ago\n",
      "Warning, test fold 361 (2022-02-26 00:00:00) with less than 5 open proposals (1). all ok since 1 folds ago\n"
     ]
    },
    {
     "name": "stderr",
     "output_type": "stream",
     "text": [
      "Warning, test fold 362 (2022-02-28 00:00:00) with less than 5 open proposals (1). all ok since 1 folds ago\n"
     ]
    },
    {
     "name": "stderr",
     "output_type": "stream",
     "text": [
      "Warning, empty test fold 363 (2022-03-02 00:00:00), all ok since 3 folds ago\n",
      "Warning, test fold 364 (2022-03-04 00:00:00) with less than 5 open proposals (1). all ok since 1 folds ago\n"
     ]
    },
    {
     "name": "stderr",
     "output_type": "stream",
     "text": [
      "Warning, test fold 365 (2022-03-06 00:00:00) with less than 5 open proposals (2). all ok since 1 folds ago\n"
     ]
    },
    {
     "name": "stderr",
     "output_type": "stream",
     "text": [
      "Warning, test fold 366 (2022-03-08 00:00:00) with less than 5 open proposals (1). all ok since 1 folds ago\n"
     ]
    },
    {
     "name": "stderr",
     "output_type": "stream",
     "text": [
      "Warning, test fold 367 (2022-03-10 00:00:00) with less than 5 open proposals (1). all ok since 1 folds ago\n"
     ]
    },
    {
     "name": "stderr",
     "output_type": "stream",
     "text": [
      "Warning, test fold 368 (2022-03-12 00:00:00) with less than 5 open proposals (3). all ok since 1 folds ago\n"
     ]
    },
    {
     "name": "stderr",
     "output_type": "stream",
     "text": [
      "Warning, test fold 369 (2022-03-14 00:00:00) with less than 5 open proposals (2). all ok since 1 folds ago\n"
     ]
    },
    {
     "name": "stderr",
     "output_type": "stream",
     "text": [
      "Warning, test fold 371 (2022-03-18 00:00:00) with less than 5 open proposals (4). all ok since 2 folds ago\n"
     ]
    },
    {
     "name": "stderr",
     "output_type": "stream",
     "text": [
      "Warning, empty test fold 372 (2022-03-20 00:00:00), all ok since 9 folds ago\n",
      "Warning, empty test fold 373 (2022-03-22 00:00:00), all ok since 1 folds ago\n"
     ]
    },
    {
     "name": "stderr",
     "output_type": "stream",
     "text": [
      "Warning, test fold 374 (2022-03-24 00:00:00) with less than 5 open proposals (1). all ok since 1 folds ago\n"
     ]
    },
    {
     "name": "stderr",
     "output_type": "stream",
     "text": [
      "Warning, test fold 375 (2022-03-26 00:00:00) with less than 5 open proposals (4). all ok since 1 folds ago\n"
     ]
    },
    {
     "name": "stderr",
     "output_type": "stream",
     "text": [
      "Warning, test fold 378 (2022-04-01 00:00:00) with less than 5 open proposals (2). all ok since 3 folds ago\n"
     ]
    },
    {
     "name": "stderr",
     "output_type": "stream",
     "text": [
      "Warning, empty test fold 379 (2022-04-03 00:00:00), all ok since 6 folds ago\n",
      "Warning, test fold 380 (2022-04-05 00:00:00) with less than 5 open proposals (1). all ok since 1 folds ago\n"
     ]
    },
    {
     "name": "stderr",
     "output_type": "stream",
     "text": [
      "Warning, test fold 381 (2022-04-07 00:00:00) with less than 5 open proposals (2). all ok since 1 folds ago\n"
     ]
    },
    {
     "name": "stderr",
     "output_type": "stream",
     "text": [
      "Warning, test fold 382 (2022-04-09 00:00:00) with less than 5 open proposals (4). all ok since 1 folds ago\n"
     ]
    },
    {
     "name": "stderr",
     "output_type": "stream",
     "text": [
      "Warning, test fold 383 (2022-04-11 00:00:00) with less than 5 open proposals (3). all ok since 1 folds ago\n"
     ]
    },
    {
     "name": "stderr",
     "output_type": "stream",
     "text": [
      "Warning, test fold 384 (2022-04-13 00:00:00) with less than 5 open proposals (2). all ok since 1 folds ago\n"
     ]
    },
    {
     "name": "stderr",
     "output_type": "stream",
     "text": [
      "Warning, empty test fold 385 (2022-04-15 00:00:00), all ok since 6 folds ago\n",
      "Warning, test fold 386 (2022-04-17 00:00:00) with less than 5 open proposals (2). all ok since 1 folds ago\n"
     ]
    },
    {
     "name": "stderr",
     "output_type": "stream",
     "text": [
      "Warning, test fold 387 (2022-04-19 00:00:00) with less than 5 open proposals (2). all ok since 1 folds ago\n"
     ]
    },
    {
     "name": "stderr",
     "output_type": "stream",
     "text": [
      "Warning, test fold 388 (2022-04-21 00:00:00) with less than 5 open proposals (1). all ok since 1 folds ago\n"
     ]
    },
    {
     "name": "stderr",
     "output_type": "stream",
     "text": [
      "Warning, test fold 389 (2022-04-23 00:00:00) with less than 5 open proposals (4). all ok since 1 folds ago\n"
     ]
    },
    {
     "name": "stderr",
     "output_type": "stream",
     "text": [
      "Warning, test fold 390 (2022-04-25 00:00:00) with less than 5 open proposals (3). all ok since 1 folds ago\n"
     ]
    },
    {
     "name": "stderr",
     "output_type": "stream",
     "text": [
      "Warning, test fold 391 (2022-04-27 00:00:00) with less than 5 open proposals (2). all ok since 1 folds ago\n"
     ]
    },
    {
     "name": "stderr",
     "output_type": "stream",
     "text": [
      "Warning, empty test fold 392 (2022-04-29 00:00:00), all ok since 7 folds ago\n",
      "Warning, empty test fold 393 (2022-05-01 00:00:00), all ok since 1 folds ago\n"
     ]
    },
    {
     "name": "stderr",
     "output_type": "stream",
     "text": [
      "Warning, test fold 394 (2022-05-03 00:00:00) with less than 5 open proposals (1). all ok since 1 folds ago\n"
     ]
    },
    {
     "name": "stderr",
     "output_type": "stream",
     "text": [
      "Warning, test fold 395 (2022-05-05 00:00:00) with less than 5 open proposals (1). all ok since 1 folds ago\n"
     ]
    },
    {
     "name": "stderr",
     "output_type": "stream",
     "text": [
      "Warning, empty test fold 396 (2022-05-07 00:00:00), all ok since 3 folds ago\n",
      "Warning, empty test fold 397 (2022-05-09 00:00:00), all ok since 1 folds ago\n"
     ]
    },
    {
     "name": "stderr",
     "output_type": "stream",
     "text": [
      "Warning, empty test fold 398 (2022-05-11 00:00:00), all ok since 1 folds ago\n",
      "Warning, empty test fold 399 (2022-05-13 00:00:00), all ok since 1 folds ago\n"
     ]
    },
    {
     "name": "stderr",
     "output_type": "stream",
     "text": [
      "Warning, empty test fold 400 (2022-05-15 00:00:00), all ok since 1 folds ago\n",
      "Warning, test fold 401 (2022-05-17 00:00:00) with less than 5 open proposals (2). all ok since 1 folds ago\n"
     ]
    },
    {
     "name": "stderr",
     "output_type": "stream",
     "text": [
      "Warning, test fold 402 (2022-05-19 00:00:00) with less than 5 open proposals (4). all ok since 1 folds ago\n"
     ]
    },
    {
     "name": "stderr",
     "output_type": "stream",
     "text": [
      "Warning, empty test fold 403 (2022-05-21 00:00:00), all ok since 3 folds ago\n",
      "Warning, empty test fold 404 (2022-05-23 00:00:00), all ok since 1 folds ago\n"
     ]
    },
    {
     "name": "stderr",
     "output_type": "stream",
     "text": [
      "Warning, empty test fold 405 (2022-05-25 00:00:00), all ok since 1 folds ago\n",
      "Warning, empty test fold 406 (2022-05-27 00:00:00), all ok since 1 folds ago\n"
     ]
    },
    {
     "name": "stderr",
     "output_type": "stream",
     "text": [
      "Warning, test fold 407 (2022-05-29 00:00:00) with less than 5 open proposals (1). all ok since 1 folds ago\n"
     ]
    },
    {
     "name": "stderr",
     "output_type": "stream",
     "text": [
      "Warning, test fold 408 (2022-05-31 00:00:00) with less than 5 open proposals (2). all ok since 1 folds ago\n"
     ]
    },
    {
     "name": "stderr",
     "output_type": "stream",
     "text": [
      "Warning, test fold 409 (2022-06-02 00:00:00) with less than 5 open proposals (3). all ok since 1 folds ago\n"
     ]
    },
    {
     "name": "stderr",
     "output_type": "stream",
     "text": [
      "Warning, test fold 410 (2022-06-04 00:00:00) with less than 5 open proposals (4). all ok since 1 folds ago\n"
     ]
    },
    {
     "name": "stderr",
     "output_type": "stream",
     "text": [
      "Warning, test fold 411 (2022-06-06 00:00:00) with less than 5 open proposals (1). all ok since 1 folds ago\n"
     ]
    },
    {
     "name": "stderr",
     "output_type": "stream",
     "text": [
      "Warning, test fold 412 (2022-06-08 00:00:00) with less than 5 open proposals (2). all ok since 1 folds ago\n"
     ]
    },
    {
     "name": "stderr",
     "output_type": "stream",
     "text": [
      "Warning, test fold 413 (2022-06-10 00:00:00) with less than 5 open proposals (4). all ok since 1 folds ago\n"
     ]
    },
    {
     "name": "stderr",
     "output_type": "stream",
     "text": [
      "Warning, test fold 414 (2022-06-12 00:00:00) with less than 5 open proposals (4). all ok since 1 folds ago\n"
     ]
    },
    {
     "name": "stderr",
     "output_type": "stream",
     "text": [
      "Warning, test fold 415 (2022-06-14 00:00:00) with less than 5 open proposals (1). all ok since 1 folds ago\n"
     ]
    },
    {
     "name": "stderr",
     "output_type": "stream",
     "text": [
      "Warning, test fold 416 (2022-06-16 00:00:00) with less than 5 open proposals (1). all ok since 1 folds ago\n"
     ]
    },
    {
     "name": "stderr",
     "output_type": "stream",
     "text": [
      "Warning, test fold 417 (2022-06-18 00:00:00) with less than 5 open proposals (1). all ok since 1 folds ago\n"
     ]
    },
    {
     "name": "stderr",
     "output_type": "stream",
     "text": [
      "Warning, empty test fold 418 (2022-06-20 00:00:00), all ok since 12 folds ago\n",
      "Warning, test fold 419 (2022-06-22 00:00:00) with less than 5 open proposals (1). all ok since 1 folds ago\n"
     ]
    },
    {
     "name": "stderr",
     "output_type": "stream",
     "text": [
      "Warning, test fold 420 (2022-06-24 00:00:00) with less than 5 open proposals (1). all ok since 1 folds ago\n"
     ]
    },
    {
     "name": "stderr",
     "output_type": "stream",
     "text": [
      "Warning, test fold 421 (2022-06-26 00:00:00) with less than 5 open proposals (1). all ok since 1 folds ago\n"
     ]
    },
    {
     "name": "stderr",
     "output_type": "stream",
     "text": [
      "Warning, test fold 422 (2022-06-28 00:00:00) with less than 5 open proposals (1). all ok since 1 folds ago\n"
     ]
    },
    {
     "name": "stderr",
     "output_type": "stream",
     "text": [
      "Warning, test fold 423 (2022-06-30 00:00:00) with less than 5 open proposals (2). all ok since 1 folds ago\n"
     ]
    },
    {
     "name": "stderr",
     "output_type": "stream",
     "text": [
      "Warning, empty test fold 424 (2022-07-02 00:00:00), all ok since 6 folds ago\n",
      "Warning, empty test fold 425 (2022-07-04 00:00:00), all ok since 1 folds ago\n"
     ]
    },
    {
     "name": "stderr",
     "output_type": "stream",
     "text": [
      "Warning, empty test fold 426 (2022-07-06 00:00:00), all ok since 1 folds ago\n",
      "Warning, test fold 427 (2022-07-08 00:00:00) with less than 5 open proposals (1). all ok since 1 folds ago\n"
     ]
    },
    {
     "name": "stderr",
     "output_type": "stream",
     "text": [
      "Warning, test fold 428 (2022-07-10 00:00:00) with less than 5 open proposals (1). all ok since 1 folds ago\n"
     ]
    },
    {
     "name": "stderr",
     "output_type": "stream",
     "text": [
      "Warning, empty test fold 429 (2022-07-12 00:00:00), all ok since 3 folds ago\n"
     ]
    },
    {
     "name": "stderr",
     "output_type": "stream",
     "text": [
      "Warning, test fold 430 (2022-07-14 00:00:00) with less than 5 open proposals (1). all ok since 1 folds ago\n"
     ]
    },
    {
     "name": "stderr",
     "output_type": "stream",
     "text": [
      "Warning, test fold 431 (2022-07-16 00:00:00) with less than 5 open proposals (1). all ok since 1 folds ago\n"
     ]
    },
    {
     "name": "stderr",
     "output_type": "stream",
     "text": [
      "Warning, empty test fold 432 (2022-07-18 00:00:00), all ok since 3 folds ago\n",
      "Warning, empty test fold 433 (2022-07-20 00:00:00), all ok since 1 folds ago\n"
     ]
    },
    {
     "name": "stderr",
     "output_type": "stream",
     "text": [
      "Warning, test fold 434 (2022-07-22 00:00:00) with less than 5 open proposals (1). all ok since 1 folds ago\n"
     ]
    },
    {
     "name": "stderr",
     "output_type": "stream",
     "text": [
      "Warning, test fold 435 (2022-07-24 00:00:00) with less than 5 open proposals (2). all ok since 1 folds ago\n"
     ]
    },
    {
     "name": "stderr",
     "output_type": "stream",
     "text": [
      "Warning, test fold 436 (2022-07-26 00:00:00) with less than 5 open proposals (3). all ok since 1 folds ago\n"
     ]
    },
    {
     "name": "stderr",
     "output_type": "stream",
     "text": [
      "Warning, test fold 437 (2022-07-28 00:00:00) with less than 5 open proposals (2). all ok since 1 folds ago\n"
     ]
    },
    {
     "name": "stderr",
     "output_type": "stream",
     "text": [
      "Warning, empty test fold 438 (2022-07-30 00:00:00), all ok since 5 folds ago\n",
      "Warning, empty test fold 439 (2022-08-01 00:00:00), all ok since 1 folds ago\n"
     ]
    },
    {
     "name": "stderr",
     "output_type": "stream",
     "text": [
      "Warning, test fold 440 (2022-08-03 00:00:00) with less than 5 open proposals (2). all ok since 1 folds ago\n"
     ]
    },
    {
     "name": "stderr",
     "output_type": "stream",
     "text": [
      "Warning, test fold 441 (2022-08-05 00:00:00) with less than 5 open proposals (2). all ok since 1 folds ago\n"
     ]
    },
    {
     "name": "stderr",
     "output_type": "stream",
     "text": [
      "Warning, empty test fold 442 (2022-08-07 00:00:00), all ok since 3 folds ago\n",
      "Warning, test fold 443 (2022-08-09 00:00:00) with less than 5 open proposals (1). all ok since 1 folds ago\n"
     ]
    },
    {
     "name": "stderr",
     "output_type": "stream",
     "text": [
      "Warning, test fold 444 (2022-08-11 00:00:00) with less than 5 open proposals (4). all ok since 1 folds ago\n"
     ]
    },
    {
     "name": "stderr",
     "output_type": "stream",
     "text": [
      "Warning, test fold 445 (2022-08-13 00:00:00) with less than 5 open proposals (4). all ok since 1 folds ago\n"
     ]
    },
    {
     "name": "stderr",
     "output_type": "stream",
     "text": [
      "Warning, empty test fold 446 (2022-08-15 00:00:00), all ok since 4 folds ago\n",
      "Warning, empty test fold 447 (2022-08-17 00:00:00), all ok since 1 folds ago\n"
     ]
    },
    {
     "name": "stderr",
     "output_type": "stream",
     "text": [
      "Warning, empty test fold 448 (2022-08-19 00:00:00), all ok since 1 folds ago\n",
      "Warning, empty test fold 449 (2022-08-21 00:00:00), all ok since 1 folds ago\n"
     ]
    },
    {
     "name": "stderr",
     "output_type": "stream",
     "text": [
      "Warning, empty test fold 450 (2022-08-23 00:00:00), all ok since 1 folds ago\n",
      "Warning, empty test fold 451 (2022-08-25 00:00:00), all ok since 1 folds ago\n"
     ]
    },
    {
     "name": "stderr",
     "output_type": "stream",
     "text": [
      "Warning, empty test fold 452 (2022-08-27 00:00:00), all ok since 1 folds ago\n",
      "Warning, empty test fold 453 (2022-08-29 00:00:00), all ok since 1 folds ago\n"
     ]
    },
    {
     "name": "stderr",
     "output_type": "stream",
     "text": [
      "Warning, empty test fold 454 (2022-08-31 00:00:00), all ok since 1 folds ago\n",
      "Warning, empty test fold 455 (2022-09-02 00:00:00), all ok since 1 folds ago\n"
     ]
    },
    {
     "name": "stderr",
     "output_type": "stream",
     "text": [
      "Warning, empty test fold 456 (2022-09-04 00:00:00), all ok since 1 folds ago\n",
      "Warning, empty test fold 457 (2022-09-06 00:00:00), all ok since 1 folds ago\n"
     ]
    },
    {
     "name": "stderr",
     "output_type": "stream",
     "text": [
      "Warning, test fold 458 (2022-09-08 00:00:00) with less than 5 open proposals (1). all ok since 1 folds ago\n"
     ]
    },
    {
     "name": "stderr",
     "output_type": "stream",
     "text": [
      "Warning, test fold 459 (2022-09-10 00:00:00) with less than 5 open proposals (1). all ok since 1 folds ago\n"
     ]
    },
    {
     "name": "stderr",
     "output_type": "stream",
     "text": [
      "Warning, empty test fold 460 (2022-09-12 00:00:00), all ok since 3 folds ago\n",
      "Warning, empty test fold 461 (2022-09-14 00:00:00), all ok since 1 folds ago\n"
     ]
    },
    {
     "name": "stderr",
     "output_type": "stream",
     "text": [
      "Warning, empty test fold 462 (2022-09-16 00:00:00), all ok since 1 folds ago\n",
      "Warning, empty test fold 463 (2022-09-18 00:00:00), all ok since 1 folds ago\n"
     ]
    },
    {
     "name": "stderr",
     "output_type": "stream",
     "text": [
      "Warning, empty test fold 464 (2022-09-20 00:00:00), all ok since 1 folds ago\n",
      "Warning, empty test fold 465 (2022-09-22 00:00:00), all ok since 1 folds ago\n"
     ]
    },
    {
     "name": "stderr",
     "output_type": "stream",
     "text": [
      "Warning, test fold 466 (2022-09-24 00:00:00) with less than 5 open proposals (1). all ok since 1 folds ago\n"
     ]
    },
    {
     "name": "stderr",
     "output_type": "stream",
     "text": [
      "Warning, test fold 467 (2022-09-26 00:00:00) with less than 5 open proposals (1). all ok since 1 folds ago\n"
     ]
    },
    {
     "name": "stderr",
     "output_type": "stream",
     "text": [
      "Warning, empty test fold 468 (2022-09-28 00:00:00), all ok since 3 folds ago\n",
      "Warning, empty test fold 469 (2022-09-30 00:00:00), all ok since 1 folds ago\n"
     ]
    },
    {
     "name": "stderr",
     "output_type": "stream",
     "text": [
      "Warning, empty test fold 470 (2022-10-02 00:00:00), all ok since 1 folds ago\n",
      "Warning, empty test fold 471 (2022-10-04 00:00:00), all ok since 1 folds ago\n"
     ]
    },
    {
     "name": "stderr",
     "output_type": "stream",
     "text": [
      "Warning, test fold 472 (2022-10-06 00:00:00) with less than 5 open proposals (3). all ok since 1 folds ago\n"
     ]
    },
    {
     "name": "stderr",
     "output_type": "stream",
     "text": [
      "Warning, test fold 473 (2022-10-08 00:00:00) with less than 5 open proposals (4). all ok since 1 folds ago\n"
     ]
    },
    {
     "name": "stderr",
     "output_type": "stream",
     "text": [
      "Warning, test fold 474 (2022-10-10 00:00:00) with less than 5 open proposals (2). all ok since 1 folds ago\n"
     ]
    },
    {
     "name": "stderr",
     "output_type": "stream",
     "text": [
      "Warning, empty test fold 475 (2022-10-12 00:00:00), all ok since 4 folds ago\n",
      "Warning, empty test fold 476 (2022-10-14 00:00:00), all ok since 1 folds ago\n"
     ]
    },
    {
     "name": "stderr",
     "output_type": "stream",
     "text": [
      "Warning, empty test fold 477 (2022-10-16 00:00:00), all ok since 1 folds ago\n",
      "Warning, empty test fold 478 (2022-10-18 00:00:00), all ok since 1 folds ago\n"
     ]
    },
    {
     "name": "stderr",
     "output_type": "stream",
     "text": [
      "Warning, test fold 479 (2022-10-20 00:00:00) with less than 5 open proposals (2). all ok since 1 folds ago\n"
     ]
    },
    {
     "name": "stderr",
     "output_type": "stream",
     "text": [
      "Warning, test fold 480 (2022-10-22 00:00:00) with less than 5 open proposals (2). all ok since 1 folds ago\n"
     ]
    },
    {
     "name": "stderr",
     "output_type": "stream",
     "text": [
      "Warning, test fold 481 (2022-10-24 00:00:00) with less than 5 open proposals (1). all ok since 1 folds ago\n"
     ]
    },
    {
     "name": "stderr",
     "output_type": "stream",
     "text": [
      "Warning, test fold 482 (2022-10-26 00:00:00) with less than 5 open proposals (2). all ok since 1 folds ago\n"
     ]
    },
    {
     "name": "stderr",
     "output_type": "stream",
     "text": [
      "Warning, test fold 483 (2022-10-28 00:00:00) with less than 5 open proposals (2). all ok since 1 folds ago\n"
     ]
    },
    {
     "name": "stderr",
     "output_type": "stream",
     "text": [
      "Warning, empty test fold 484 (2022-10-30 00:00:00), all ok since 6 folds ago\n",
      "Warning, empty test fold 485 (2022-11-01 00:00:00), all ok since 1 folds ago\n"
     ]
    },
    {
     "name": "stderr",
     "output_type": "stream",
     "text": [
      "Warning, test fold 486 (2022-11-03 00:00:00) with less than 5 open proposals (3). all ok since 1 folds ago\n"
     ]
    },
    {
     "name": "stderr",
     "output_type": "stream",
     "text": [
      "Warning, test fold 487 (2022-11-05 00:00:00) with less than 5 open proposals (3). all ok since 1 folds ago\n"
     ]
    },
    {
     "name": "stderr",
     "output_type": "stream",
     "text": [
      "Warning, empty test fold 488 (2022-11-07 00:00:00), all ok since 3 folds ago\n",
      "Warning, test fold 489 (2022-11-09 00:00:00) with less than 5 open proposals (1). all ok since 1 folds ago\n"
     ]
    },
    {
     "name": "stderr",
     "output_type": "stream",
     "text": [
      "Warning, test fold 490 (2022-11-11 00:00:00) with less than 5 open proposals (2). all ok since 1 folds ago\n"
     ]
    },
    {
     "name": "stderr",
     "output_type": "stream",
     "text": [
      "Warning, test fold 491 (2022-11-13 00:00:00) with less than 5 open proposals (2). all ok since 1 folds ago\n"
     ]
    },
    {
     "name": "stderr",
     "output_type": "stream",
     "text": [
      "Warning, empty test fold 492 (2022-11-15 00:00:00), all ok since 4 folds ago\n",
      "Warning, empty test fold 493 (2022-11-17 00:00:00), all ok since 1 folds ago\n"
     ]
    },
    {
     "name": "stderr",
     "output_type": "stream",
     "text": [
      "Warning, test fold 494 (2022-11-19 00:00:00) with less than 5 open proposals (1). all ok since 1 folds ago\n"
     ]
    },
    {
     "name": "stderr",
     "output_type": "stream",
     "text": [
      "Warning, test fold 495 (2022-11-21 00:00:00) with less than 5 open proposals (1). all ok since 1 folds ago\n"
     ]
    },
    {
     "name": "stderr",
     "output_type": "stream",
     "text": [
      "Warning, test fold 496 (2022-11-23 00:00:00) with less than 5 open proposals (3). all ok since 1 folds ago\n"
     ]
    },
    {
     "name": "stderr",
     "output_type": "stream",
     "text": [
      "Warning, test fold 497 (2022-11-25 00:00:00) with less than 5 open proposals (3). all ok since 1 folds ago\n"
     ]
    },
    {
     "name": "stderr",
     "output_type": "stream",
     "text": [
      "Warning, test fold 498 (2022-11-27 00:00:00) with less than 5 open proposals (3). all ok since 1 folds ago\n"
     ]
    },
    {
     "name": "stderr",
     "output_type": "stream",
     "text": [
      "Warning, test fold 499 (2022-11-29 00:00:00) with less than 5 open proposals (1). all ok since 1 folds ago\n"
     ]
    },
    {
     "name": "stderr",
     "output_type": "stream",
     "text": [
      "Warning, empty test fold 500 (2022-12-01 00:00:00), all ok since 7 folds ago\n",
      "Warning, test fold 501 (2022-12-03 00:00:00) with less than 5 open proposals (1). all ok since 1 folds ago\n"
     ]
    },
    {
     "name": "stderr",
     "output_type": "stream",
     "text": [
      "Warning, test fold 502 (2022-12-05 00:00:00) with less than 5 open proposals (2). all ok since 1 folds ago\n"
     ]
    },
    {
     "name": "stderr",
     "output_type": "stream",
     "text": [
      "Warning, test fold 503 (2022-12-07 00:00:00) with less than 5 open proposals (2). all ok since 1 folds ago\n"
     ]
    },
    {
     "name": "stderr",
     "output_type": "stream",
     "text": [
      "Warning, test fold 504 (2022-12-09 00:00:00) with less than 5 open proposals (2). all ok since 1 folds ago\n"
     ]
    },
    {
     "name": "stderr",
     "output_type": "stream",
     "text": [
      "Warning, empty test fold 505 (2022-12-11 00:00:00), all ok since 5 folds ago\n",
      "Warning, test fold 506 (2022-12-13 00:00:00) with less than 5 open proposals (1). all ok since 1 folds ago\n"
     ]
    },
    {
     "name": "stderr",
     "output_type": "stream",
     "text": [
      "Warning, test fold 507 (2022-12-15 00:00:00) with less than 5 open proposals (3). all ok since 1 folds ago\n"
     ]
    },
    {
     "name": "stderr",
     "output_type": "stream",
     "text": [
      "Warning, empty test fold 508 (2022-12-17 00:00:00), all ok since 3 folds ago\n",
      "Warning, test fold 509 (2022-12-19 00:00:00) with less than 5 open proposals (2). all ok since 1 folds ago\n"
     ]
    },
    {
     "name": "stderr",
     "output_type": "stream",
     "text": [
      "Warning, test fold 510 (2022-12-21 00:00:00) with less than 5 open proposals (2). all ok since 1 folds ago\n"
     ]
    },
    {
     "name": "stderr",
     "output_type": "stream",
     "text": [
      "Warning, empty test fold 511 (2022-12-23 00:00:00), all ok since 3 folds ago\n",
      "Warning, test fold 512 (2022-12-25 00:00:00) with less than 5 open proposals (2). all ok since 1 folds ago\n"
     ]
    },
    {
     "name": "stderr",
     "output_type": "stream",
     "text": [
      "Warning, test fold 513 (2022-12-27 00:00:00) with less than 5 open proposals (1). all ok since 1 folds ago\n"
     ]
    },
    {
     "name": "stderr",
     "output_type": "stream",
     "text": [
      "Warning, test fold 514 (2022-12-29 00:00:00) with less than 5 open proposals (1). all ok since 1 folds ago\n"
     ]
    },
    {
     "name": "stderr",
     "output_type": "stream",
     "text": [
      "Warning, test fold 515 (2022-12-31 00:00:00) with less than 5 open proposals (1). all ok since 1 folds ago\n"
     ]
    },
    {
     "name": "stderr",
     "output_type": "stream",
     "text": [
      "Warning, test fold 516 (2023-01-02 00:00:00) with less than 5 open proposals (1). all ok since 1 folds ago\n"
     ]
    },
    {
     "name": "stderr",
     "output_type": "stream",
     "text": [
      "Warning, empty test fold 517 (2023-01-04 00:00:00), all ok since 6 folds ago\n",
      "Warning, empty test fold 518 (2023-01-06 00:00:00), all ok since 1 folds ago\n"
     ]
    },
    {
     "name": "stderr",
     "output_type": "stream",
     "text": [
      "Warning, empty test fold 519 (2023-01-08 00:00:00), all ok since 1 folds ago\n",
      "Warning, empty test fold 520 (2023-01-10 00:00:00), all ok since 1 folds ago\n"
     ]
    },
    {
     "name": "stderr",
     "output_type": "stream",
     "text": [
      "Warning, empty test fold 521 (2023-01-12 00:00:00), all ok since 1 folds ago\n",
      "Warning, empty test fold 522 (2023-01-14 00:00:00), all ok since 1 folds ago\n"
     ]
    },
    {
     "name": "stderr",
     "output_type": "stream",
     "text": [
      "Warning, empty test fold 523 (2023-01-16 00:00:00), all ok since 1 folds ago\n",
      "Warning, test fold 524 (2023-01-18 00:00:00) with less than 5 open proposals (1). all ok since 1 folds ago\n"
     ]
    },
    {
     "name": "stderr",
     "output_type": "stream",
     "text": [
      "Warning, test fold 525 (2023-01-20 00:00:00) with less than 5 open proposals (2). all ok since 1 folds ago\n"
     ]
    },
    {
     "name": "stderr",
     "output_type": "stream",
     "text": [
      "Warning, test fold 526 (2023-01-22 00:00:00) with less than 5 open proposals (2). all ok since 1 folds ago\n"
     ]
    },
    {
     "name": "stderr",
     "output_type": "stream",
     "text": [
      "Warning, empty test fold 527 (2023-01-24 00:00:00), all ok since 4 folds ago\n",
      "Warning, empty test fold 528 (2023-01-26 00:00:00), all ok since 1 folds ago\n"
     ]
    },
    {
     "name": "stderr",
     "output_type": "stream",
     "text": [
      "Warning, test fold 529 (2023-01-28 00:00:00) with less than 5 open proposals (2). all ok since 1 folds ago\n"
     ]
    },
    {
     "name": "stderr",
     "output_type": "stream",
     "text": [
      "Warning, test fold 530 (2023-01-30 00:00:00) with less than 5 open proposals (4). all ok since 1 folds ago\n"
     ]
    },
    {
     "name": "stderr",
     "output_type": "stream",
     "text": [
      "Warning, test fold 531 (2023-02-01 00:00:00) with less than 5 open proposals (4). all ok since 1 folds ago\n"
     ]
    },
    {
     "name": "stderr",
     "output_type": "stream",
     "text": [
      "Warning, test fold 532 (2023-02-03 00:00:00) with less than 5 open proposals (2). all ok since 1 folds ago\n"
     ]
    },
    {
     "name": "stderr",
     "output_type": "stream",
     "text": [
      "Warning, test fold 533 (2023-02-05 00:00:00) with less than 5 open proposals (1). all ok since 1 folds ago\n"
     ]
    },
    {
     "name": "stderr",
     "output_type": "stream",
     "text": [
      "Warning, empty test fold 534 (2023-02-07 00:00:00), all ok since 6 folds ago\n",
      "Warning, test fold 535 (2023-02-09 00:00:00) with less than 5 open proposals (1). all ok since 1 folds ago\n"
     ]
    },
    {
     "name": "stderr",
     "output_type": "stream",
     "text": [
      "Warning, test fold 536 (2023-02-11 00:00:00) with less than 5 open proposals (2). all ok since 1 folds ago\n"
     ]
    },
    {
     "name": "stderr",
     "output_type": "stream",
     "text": [
      "Warning, test fold 537 (2023-02-13 00:00:00) with less than 5 open proposals (2). all ok since 1 folds ago\n"
     ]
    },
    {
     "name": "stderr",
     "output_type": "stream",
     "text": [
      "Warning, empty test fold 538 (2023-02-15 00:00:00), all ok since 4 folds ago\n",
      "Warning, empty test fold 539 (2023-02-17 00:00:00), all ok since 1 folds ago\n"
     ]
    },
    {
     "name": "stderr",
     "output_type": "stream",
     "text": [
      "Warning, test fold 540 (2023-02-19 00:00:00) with less than 5 open proposals (1). all ok since 1 folds ago\n"
     ]
    },
    {
     "name": "stderr",
     "output_type": "stream",
     "text": [
      "Warning, test fold 541 (2023-02-21 00:00:00) with less than 5 open proposals (1). all ok since 1 folds ago\n"
     ]
    },
    {
     "name": "stderr",
     "output_type": "stream",
     "text": [
      "Warning, empty test fold 542 (2023-02-23 00:00:00), all ok since 3 folds ago\n",
      "Warning, test fold 543 (2023-02-25 00:00:00) with less than 5 open proposals (1). all ok since 1 folds ago\n"
     ]
    },
    {
     "name": "stderr",
     "output_type": "stream",
     "text": [
      "Warning, test fold 544 (2023-02-27 00:00:00) with less than 5 open proposals (1). all ok since 1 folds ago\n"
     ]
    },
    {
     "name": "stderr",
     "output_type": "stream",
     "text": [
      "Warning, empty test fold 545 (2023-03-01 00:00:00), all ok since 3 folds ago\n",
      "Warning, test fold 546 (2023-03-03 00:00:00) with less than 5 open proposals (1). all ok since 1 folds ago\n"
     ]
    },
    {
     "name": "stderr",
     "output_type": "stream",
     "text": [
      "Warning, empty test fold 547 (2023-03-05 00:00:00), all ok since 2 folds ago\n",
      "Warning, empty test fold 548 (2023-03-07 00:00:00), all ok since 1 folds ago\n"
     ]
    },
    {
     "name": "stderr",
     "output_type": "stream",
     "text": [
      "Warning, test fold 549 (2023-03-09 00:00:00) with less than 5 open proposals (1). all ok since 1 folds ago\n"
     ]
    },
    {
     "name": "stderr",
     "output_type": "stream",
     "text": [
      "Warning, empty test fold 550 (2023-03-11 00:00:00), all ok since 2 folds ago\n",
      "Warning, test fold 551 (2023-03-13 00:00:00) with less than 5 open proposals (1). all ok since 1 folds ago\n"
     ]
    },
    {
     "name": "stderr",
     "output_type": "stream",
     "text": [
      "Warning, test fold 552 (2023-03-15 00:00:00) with less than 5 open proposals (1). all ok since 1 folds ago\n"
     ]
    },
    {
     "name": "stderr",
     "output_type": "stream",
     "text": [
      "Warning, test fold 553 (2023-03-17 00:00:00) with less than 5 open proposals (1). all ok since 1 folds ago\n"
     ]
    },
    {
     "name": "stderr",
     "output_type": "stream",
     "text": [
      "Warning, test fold 554 (2023-03-19 00:00:00) with less than 5 open proposals (1). all ok since 1 folds ago\n"
     ]
    },
    {
     "name": "stderr",
     "output_type": "stream",
     "text": [
      "Warning, test fold 555 (2023-03-21 00:00:00) with less than 5 open proposals (2). all ok since 1 folds ago\n"
     ]
    },
    {
     "name": "stderr",
     "output_type": "stream",
     "text": [
      "Warning, test fold 556 (2023-03-23 00:00:00) with less than 5 open proposals (1). all ok since 1 folds ago\n"
     ]
    },
    {
     "name": "stderr",
     "output_type": "stream",
     "text": [
      "Warning, test fold 557 (2023-03-25 00:00:00) with less than 5 open proposals (2). all ok since 1 folds ago\n"
     ]
    },
    {
     "name": "stderr",
     "output_type": "stream",
     "text": [
      "Warning, test fold 558 (2023-03-27 00:00:00) with less than 5 open proposals (1). all ok since 1 folds ago\n"
     ]
    },
    {
     "name": "stderr",
     "output_type": "stream",
     "text": [
      "Warning, test fold 559 (2023-03-29 00:00:00) with less than 5 open proposals (1). all ok since 1 folds ago\n"
     ]
    },
    {
     "name": "stderr",
     "output_type": "stream",
     "text": [
      "Warning, empty test fold 560 (2023-03-31 00:00:00), all ok since 10 folds ago\n",
      "Warning, empty test fold 561 (2023-04-02 00:00:00), all ok since 1 folds ago\n"
     ]
    },
    {
     "name": "stderr",
     "output_type": "stream",
     "text": [
      "Warning, empty test fold 562 (2023-04-04 00:00:00), all ok since 1 folds ago\n",
      "Warning, empty test fold 563 (2023-04-06 00:00:00), all ok since 1 folds ago\n"
     ]
    },
    {
     "name": "stderr",
     "output_type": "stream",
     "text": [
      "Warning, test fold 564 (2023-04-08 00:00:00) with less than 5 open proposals (1). all ok since 1 folds ago\n"
     ]
    },
    {
     "name": "stderr",
     "output_type": "stream",
     "text": [
      "Warning, test fold 565 (2023-04-10 00:00:00) with less than 5 open proposals (1). all ok since 1 folds ago\n"
     ]
    },
    {
     "name": "stderr",
     "output_type": "stream",
     "text": [
      "Warning, empty test fold 566 (2023-04-12 00:00:00), all ok since 3 folds ago\n",
      "Warning, empty test fold 567 (2023-04-14 00:00:00), all ok since 1 folds ago\n"
     ]
    },
    {
     "name": "stderr",
     "output_type": "stream",
     "text": [
      "Warning, empty test fold 568 (2023-04-16 00:00:00), all ok since 1 folds ago\n",
      "Warning, test fold 569 (2023-04-18 00:00:00) with less than 5 open proposals (1). all ok since 1 folds ago\n"
     ]
    },
    {
     "name": "stderr",
     "output_type": "stream",
     "text": [
      "Warning, test fold 570 (2023-04-20 00:00:00) with less than 5 open proposals (1). all ok since 1 folds ago\n"
     ]
    },
    {
     "name": "stderr",
     "output_type": "stream",
     "text": [
      "Warning, empty test fold 571 (2023-04-22 00:00:00), all ok since 3 folds ago\n",
      "Warning, empty test fold 572 (2023-04-24 00:00:00), all ok since 1 folds ago\n"
     ]
    },
    {
     "name": "stderr",
     "output_type": "stream",
     "text": [
      "Warning, empty test fold 573 (2023-04-26 00:00:00), all ok since 1 folds ago\n",
      "Warning, empty test fold 574 (2023-04-28 00:00:00), all ok since 1 folds ago\n"
     ]
    },
    {
     "name": "stderr",
     "output_type": "stream",
     "text": [
      "Warning, empty test fold 575 (2023-04-30 00:00:00), all ok since 1 folds ago\n",
      "Warning, test fold 576 (2023-05-02 00:00:00) with less than 5 open proposals (2). all ok since 1 folds ago\n"
     ]
    },
    {
     "name": "stderr",
     "output_type": "stream",
     "text": [
      "Warning, test fold 577 (2023-05-04 00:00:00) with less than 5 open proposals (2). all ok since 1 folds ago\n"
     ]
    },
    {
     "name": "stderr",
     "output_type": "stream",
     "text": [
      "Warning, test fold 578 (2023-05-06 00:00:00) with less than 5 open proposals (3). all ok since 1 folds ago\n"
     ]
    },
    {
     "name": "stderr",
     "output_type": "stream",
     "text": [
      "Warning, test fold 579 (2023-05-08 00:00:00) with less than 5 open proposals (1). all ok since 1 folds ago\n"
     ]
    },
    {
     "name": "stderr",
     "output_type": "stream",
     "text": [
      "Warning, test fold 580 (2023-05-10 00:00:00) with less than 5 open proposals (3). all ok since 1 folds ago\n"
     ]
    },
    {
     "name": "stderr",
     "output_type": "stream",
     "text": [
      "Warning, empty test fold 581 (2023-05-12 00:00:00), all ok since 6 folds ago\n",
      "Warning, empty test fold 582 (2023-05-14 00:00:00), all ok since 1 folds ago\n"
     ]
    },
    {
     "name": "stderr",
     "output_type": "stream",
     "text": [
      "Warning, empty test fold 583 (2023-05-16 00:00:00), all ok since 1 folds ago\n",
      "Warning, empty test fold 584 (2023-05-18 00:00:00), all ok since 1 folds ago\n"
     ]
    },
    {
     "name": "stderr",
     "output_type": "stream",
     "text": [
      "Warning, empty test fold 585 (2023-05-20 00:00:00), all ok since 1 folds ago\n",
      "Warning, empty test fold 586 (2023-05-22 00:00:00), all ok since 1 folds ago\n"
     ]
    },
    {
     "name": "stderr",
     "output_type": "stream",
     "text": [
      "Warning, test fold 587 (2023-05-24 00:00:00) with less than 5 open proposals (1). all ok since 1 folds ago\n"
     ]
    },
    {
     "name": "stderr",
     "output_type": "stream",
     "text": [
      "Warning, test fold 588 (2023-05-26 00:00:00) with less than 5 open proposals (2). all ok since 1 folds ago\n"
     ]
    },
    {
     "name": "stderr",
     "output_type": "stream",
     "text": [
      "Warning, empty test fold 589 (2023-05-28 00:00:00), all ok since 3 folds ago\n",
      "Warning, empty test fold 590 (2023-05-30 00:00:00), all ok since 1 folds ago\n"
     ]
    },
    {
     "name": "stderr",
     "output_type": "stream",
     "text": [
      "Warning, empty test fold 591 (2023-06-01 00:00:00), all ok since 1 folds ago\n",
      "Warning, empty test fold 592 (2023-06-03 00:00:00), all ok since 1 folds ago\n"
     ]
    },
    {
     "name": "stderr",
     "output_type": "stream",
     "text": [
      "Warning, empty test fold 593 (2023-06-05 00:00:00), all ok since 1 folds ago\n",
      "Warning, test fold 594 (2023-06-07 00:00:00) with less than 5 open proposals (1). all ok since 1 folds ago\n"
     ]
    },
    {
     "name": "stderr",
     "output_type": "stream",
     "text": [
      "Warning, empty test fold 595 (2023-06-09 00:00:00), all ok since 2 folds ago\n",
      "Warning, empty test fold 596 (2023-06-11 00:00:00), all ok since 1 folds ago\n"
     ]
    },
    {
     "name": "stderr",
     "output_type": "stream",
     "text": [
      "Warning, empty test fold 597 (2023-06-13 00:00:00), all ok since 1 folds ago\n",
      "Warning, empty test fold 598 (2023-06-15 00:00:00), all ok since 1 folds ago\n"
     ]
    },
    {
     "name": "stderr",
     "output_type": "stream",
     "text": [
      "Warning, test fold 599 (2023-06-17 00:00:00) with less than 5 open proposals (3). all ok since 1 folds ago\n"
     ]
    },
    {
     "name": "stderr",
     "output_type": "stream",
     "text": [
      "Warning, test fold 600 (2023-06-19 00:00:00) with less than 5 open proposals (3). all ok since 1 folds ago\n"
     ]
    },
    {
     "name": "stderr",
     "output_type": "stream",
     "text": [
      "Warning, test fold 601 (2023-06-21 00:00:00) with less than 5 open proposals (1). all ok since 1 folds ago\n"
     ]
    },
    {
     "name": "stderr",
     "output_type": "stream",
     "text": [
      "Warning, empty test fold 602 (2023-06-23 00:00:00), all ok since 4 folds ago\n",
      "Warning, empty test fold 603 (2023-06-25 00:00:00), all ok since 1 folds ago\n"
     ]
    },
    {
     "name": "stderr",
     "output_type": "stream",
     "text": [
      "Warning, empty test fold 604 (2023-06-27 00:00:00), all ok since 1 folds ago\n",
      "Warning, test fold 605 (2023-06-29 00:00:00) with less than 5 open proposals (1). all ok since 1 folds ago\n"
     ]
    },
    {
     "name": "stderr",
     "output_type": "stream",
     "text": [
      "Warning, test fold 606 (2023-07-01 00:00:00) with less than 5 open proposals (1). all ok since 1 folds ago\n"
     ]
    },
    {
     "name": "stdout",
     "output_type": "stream",
     "text": [
      "Max ok in a row: (13, Timestamp('2022-02-20 00:00:00'))\n"
     ]
    }
   ],
   "source": [
    "WARNING_AT_LEAST_OPEN = 5\n",
    "\n",
    "folds = list(cvtt_open(df, SPLITS_FREQ, dfp, remove_not_in_train_col='userID', normalize=SPLITS_NORMALIZE))\n",
    "metrics = []\n",
    "perfectmetrics = []\n",
    "\n",
    "first_empty = True\n",
    "ok_in_a_row = best_in_a_row = 0\n",
    "max_ok_in_a_row = (-1, folds[-1].end)\n",
    "for i, (train, test, t, open_proposals) in enumerate(tqdm(folds)):   \n",
    "    if first_empty:\n",
    "        if not train.empty:\n",
    "            first_empty = False\n",
    "    else:\n",
    "        assert not train.empty, f\"Train should not be empty on fold {i}\"\n",
    "    if test.empty:\n",
    "        print(f\"Warning, empty test fold {i} ({t}), all ok since {ok_in_a_row} folds ago\", file=sys.stderr)\n",
    "        if ok_in_a_row > max_ok_in_a_row[0]:\n",
    "            max_ok_in_a_row = (ok_in_a_row, t)\n",
    "        ok_in_a_row = best_in_a_row = 0\n",
    "    elif len(open_proposals) < WARNING_AT_LEAST_OPEN:\n",
    "        print(f\"Warning, test fold {i} ({t}) with less than {WARNING_AT_LEAST_OPEN} open proposals ({len(open_proposals)}). all ok since {best_in_a_row} folds ago\", file=sys.stderr)\n",
    "        best_in_a_row = 0\n",
    "\n",
    "    mdict = {'fold': t}\n",
    "    pdict = {'fold': t}\n",
    "    model = OpenPop(train)\n",
    "    recs = model.recommend_k_items(test['userID'].unique(), max(K_RECOMMENDATIONS), recommend_from=open_proposals)\n",
    "    mdict |= calculate_all_metrics(test, recs, K_RECOMMENDATIONS)\n",
    "        # for m, f in metrics_f.items():\n",
    "        #     r = f(test, recs, k=k_recs)\n",
    "        #     metrics[m+f'@{k_recs}'].append(r)\n",
    "    \n",
    "    recs = test.copy()\n",
    "    recs['prediction'] = 1\n",
    "    pdict |= calculate_all_metrics(test, recs, K_RECOMMENDATIONS)\n",
    "\n",
    "        # for m, f in metrics_f.items():\n",
    "        #     # Need relevancy_method=None as they are unsorted\n",
    "        #     r = f(test, recs, k=k_recs)\n",
    "        #     perfectmetrics[m+f'@{k_recs}'].append(r)\n",
    "\n",
    "    metrics.append(mdict)\n",
    "    perfectmetrics.append(pdict)\n",
    "    ok_in_a_row += 1\n",
    "    best_in_a_row += 1\n",
    "\n",
    "paths.save_dao_datum(ORG_NAME, 'max_ok_folds', str(max_ok_in_a_row[0]))\n",
    "paths.save_dao_datum(ORG_NAME, 'max_ok_folds_date', str(max_ok_in_a_row[1]))\n",
    "if max_ok_in_a_row == -1:\n",
    "    print(\"All ok :>\")\n",
    "else:\n",
    "    print(\"Max ok in a row:\", max_ok_in_a_row)"
   ]
  },
  {
   "cell_type": "markdown",
   "id": "68cafd0c",
   "metadata": {
    "papermill": {
     "duration": 0.012178,
     "end_time": "2024-09-05T09:32:47.193483",
     "exception": false,
     "start_time": "2024-09-05T09:32:47.181305",
     "status": "completed"
    },
    "tags": []
   },
   "source": [
    "### Caching these results"
   ]
  },
  {
   "cell_type": "code",
   "execution_count": 10,
   "id": "b1905a49",
   "metadata": {
    "execution": {
     "iopub.execute_input": "2024-09-05T09:32:47.217754Z",
     "iopub.status.busy": "2024-09-05T09:32:47.217624Z",
     "iopub.status.idle": "2024-09-05T09:32:47.247749Z",
     "shell.execute_reply": "2024-09-05T09:32:47.247549Z"
    },
    "papermill": {
     "duration": 0.043085,
     "end_time": "2024-09-05T09:32:47.248330",
     "exception": false,
     "start_time": "2024-09-05T09:32:47.205245",
     "status": "completed"
    },
    "tags": []
   },
   "outputs": [
    {
     "name": "stdout",
     "output_type": "stream",
     "text": [
      "Saved dataframe into /home/daviddavo/recsys4daos/data/output/dOrg/baseline/openpop_2d_normalize.parquet\n"
     ]
    },
    {
     "data": {
      "text/html": [
       "<div>\n",
       "<style scoped>\n",
       "    .dataframe tbody tr th:only-of-type {\n",
       "        vertical-align: middle;\n",
       "    }\n",
       "\n",
       "    .dataframe tbody tr th {\n",
       "        vertical-align: top;\n",
       "    }\n",
       "\n",
       "    .dataframe thead th {\n",
       "        text-align: right;\n",
       "    }\n",
       "</style>\n",
       "<table border=\"1\" class=\"dataframe\">\n",
       "  <thead>\n",
       "    <tr style=\"text-align: right;\">\n",
       "      <th></th>\n",
       "      <th>precision@1</th>\n",
       "      <th>precision@3</th>\n",
       "      <th>precision@5</th>\n",
       "      <th>precision@10</th>\n",
       "      <th>precision@15</th>\n",
       "      <th>precision@100</th>\n",
       "      <th>ndcg@1</th>\n",
       "      <th>ndcg@3</th>\n",
       "      <th>ndcg@5</th>\n",
       "      <th>ndcg@10</th>\n",
       "      <th>...</th>\n",
       "      <th>recall@10</th>\n",
       "      <th>recall@15</th>\n",
       "      <th>recall@100</th>\n",
       "      <th>r-precision@1</th>\n",
       "      <th>r-precision@3</th>\n",
       "      <th>r-precision@5</th>\n",
       "      <th>r-precision@10</th>\n",
       "      <th>r-precision@15</th>\n",
       "      <th>r-precision@100</th>\n",
       "      <th>time_eval</th>\n",
       "    </tr>\n",
       "  </thead>\n",
       "  <tbody>\n",
       "    <tr>\n",
       "      <th>count</th>\n",
       "      <td>607.000000</td>\n",
       "      <td>607.000000</td>\n",
       "      <td>607.000000</td>\n",
       "      <td>607.000000</td>\n",
       "      <td>607.000000</td>\n",
       "      <td>607.000000</td>\n",
       "      <td>607.000000</td>\n",
       "      <td>607.000000</td>\n",
       "      <td>607.000000</td>\n",
       "      <td>607.000000</td>\n",
       "      <td>...</td>\n",
       "      <td>607.000000</td>\n",
       "      <td>607.000000</td>\n",
       "      <td>607.000000</td>\n",
       "      <td>607.000000</td>\n",
       "      <td>594.000000</td>\n",
       "      <td>594.000000</td>\n",
       "      <td>594.000000</td>\n",
       "      <td>594.000000</td>\n",
       "      <td>594.000000</td>\n",
       "      <td>607.000000</td>\n",
       "    </tr>\n",
       "    <tr>\n",
       "      <th>mean</th>\n",
       "      <td>0.239469</td>\n",
       "      <td>0.126825</td>\n",
       "      <td>0.081284</td>\n",
       "      <td>0.040969</td>\n",
       "      <td>0.027346</td>\n",
       "      <td>0.004102</td>\n",
       "      <td>0.237391</td>\n",
       "      <td>0.279207</td>\n",
       "      <td>0.283595</td>\n",
       "      <td>0.283956</td>\n",
       "      <td>...</td>\n",
       "      <td>0.318778</td>\n",
       "      <td>0.318998</td>\n",
       "      <td>0.318998</td>\n",
       "      <td>0.254968</td>\n",
       "      <td>0.290910</td>\n",
       "      <td>0.293758</td>\n",
       "      <td>0.293992</td>\n",
       "      <td>0.293992</td>\n",
       "      <td>0.293992</td>\n",
       "      <td>0.088242</td>\n",
       "    </tr>\n",
       "    <tr>\n",
       "      <th>std</th>\n",
       "      <td>0.393070</td>\n",
       "      <td>0.195329</td>\n",
       "      <td>0.130852</td>\n",
       "      <td>0.066098</td>\n",
       "      <td>0.044097</td>\n",
       "      <td>0.006615</td>\n",
       "      <td>0.391406</td>\n",
       "      <td>0.415920</td>\n",
       "      <td>0.419319</td>\n",
       "      <td>0.419330</td>\n",
       "      <td>...</td>\n",
       "      <td>0.461703</td>\n",
       "      <td>0.461766</td>\n",
       "      <td>0.461766</td>\n",
       "      <td>0.406866</td>\n",
       "      <td>0.437876</td>\n",
       "      <td>0.440923</td>\n",
       "      <td>0.441231</td>\n",
       "      <td>0.441231</td>\n",
       "      <td>0.441231</td>\n",
       "      <td>0.026165</td>\n",
       "    </tr>\n",
       "    <tr>\n",
       "      <th>min</th>\n",
       "      <td>0.000000</td>\n",
       "      <td>0.000000</td>\n",
       "      <td>0.000000</td>\n",
       "      <td>0.000000</td>\n",
       "      <td>0.000000</td>\n",
       "      <td>0.000000</td>\n",
       "      <td>0.000000</td>\n",
       "      <td>0.000000</td>\n",
       "      <td>0.000000</td>\n",
       "      <td>0.000000</td>\n",
       "      <td>...</td>\n",
       "      <td>0.000000</td>\n",
       "      <td>0.000000</td>\n",
       "      <td>0.000000</td>\n",
       "      <td>0.000000</td>\n",
       "      <td>0.000000</td>\n",
       "      <td>0.000000</td>\n",
       "      <td>0.000000</td>\n",
       "      <td>0.000000</td>\n",
       "      <td>0.000000</td>\n",
       "      <td>0.068747</td>\n",
       "    </tr>\n",
       "    <tr>\n",
       "      <th>25%</th>\n",
       "      <td>0.000000</td>\n",
       "      <td>0.000000</td>\n",
       "      <td>0.000000</td>\n",
       "      <td>0.000000</td>\n",
       "      <td>0.000000</td>\n",
       "      <td>0.000000</td>\n",
       "      <td>0.000000</td>\n",
       "      <td>0.000000</td>\n",
       "      <td>0.000000</td>\n",
       "      <td>0.000000</td>\n",
       "      <td>...</td>\n",
       "      <td>0.000000</td>\n",
       "      <td>0.000000</td>\n",
       "      <td>0.000000</td>\n",
       "      <td>0.000000</td>\n",
       "      <td>0.000000</td>\n",
       "      <td>0.000000</td>\n",
       "      <td>0.000000</td>\n",
       "      <td>0.000000</td>\n",
       "      <td>0.000000</td>\n",
       "      <td>0.070077</td>\n",
       "    </tr>\n",
       "    <tr>\n",
       "      <th>50%</th>\n",
       "      <td>0.000000</td>\n",
       "      <td>0.000000</td>\n",
       "      <td>0.000000</td>\n",
       "      <td>0.000000</td>\n",
       "      <td>0.000000</td>\n",
       "      <td>0.000000</td>\n",
       "      <td>0.000000</td>\n",
       "      <td>0.000000</td>\n",
       "      <td>0.000000</td>\n",
       "      <td>0.000000</td>\n",
       "      <td>...</td>\n",
       "      <td>0.000000</td>\n",
       "      <td>0.000000</td>\n",
       "      <td>0.000000</td>\n",
       "      <td>0.000000</td>\n",
       "      <td>0.000000</td>\n",
       "      <td>0.000000</td>\n",
       "      <td>0.000000</td>\n",
       "      <td>0.000000</td>\n",
       "      <td>0.000000</td>\n",
       "      <td>0.071166</td>\n",
       "    </tr>\n",
       "    <tr>\n",
       "      <th>75%</th>\n",
       "      <td>0.449495</td>\n",
       "      <td>0.333333</td>\n",
       "      <td>0.200000</td>\n",
       "      <td>0.100000</td>\n",
       "      <td>0.066667</td>\n",
       "      <td>0.010000</td>\n",
       "      <td>0.428571</td>\n",
       "      <td>0.746160</td>\n",
       "      <td>0.753953</td>\n",
       "      <td>0.753953</td>\n",
       "      <td>...</td>\n",
       "      <td>1.000000</td>\n",
       "      <td>1.000000</td>\n",
       "      <td>1.000000</td>\n",
       "      <td>0.550000</td>\n",
       "      <td>0.833333</td>\n",
       "      <td>0.869213</td>\n",
       "      <td>0.869213</td>\n",
       "      <td>0.869213</td>\n",
       "      <td>0.869213</td>\n",
       "      <td>0.120132</td>\n",
       "    </tr>\n",
       "    <tr>\n",
       "      <th>max</th>\n",
       "      <td>1.000000</td>\n",
       "      <td>1.000000</td>\n",
       "      <td>0.800000</td>\n",
       "      <td>0.400000</td>\n",
       "      <td>0.266667</td>\n",
       "      <td>0.040000</td>\n",
       "      <td>1.000000</td>\n",
       "      <td>1.000000</td>\n",
       "      <td>1.000000</td>\n",
       "      <td>1.000000</td>\n",
       "      <td>...</td>\n",
       "      <td>1.000000</td>\n",
       "      <td>1.000000</td>\n",
       "      <td>1.000000</td>\n",
       "      <td>1.000000</td>\n",
       "      <td>1.000000</td>\n",
       "      <td>1.000000</td>\n",
       "      <td>1.000000</td>\n",
       "      <td>1.000000</td>\n",
       "      <td>1.000000</td>\n",
       "      <td>0.268390</td>\n",
       "    </tr>\n",
       "  </tbody>\n",
       "</table>\n",
       "<p>8 rows × 31 columns</p>\n",
       "</div>"
      ],
      "text/plain": [
       "       precision@1  precision@3  precision@5  precision@10  precision@15  \\\n",
       "count   607.000000   607.000000   607.000000    607.000000    607.000000   \n",
       "mean      0.239469     0.126825     0.081284      0.040969      0.027346   \n",
       "std       0.393070     0.195329     0.130852      0.066098      0.044097   \n",
       "min       0.000000     0.000000     0.000000      0.000000      0.000000   \n",
       "25%       0.000000     0.000000     0.000000      0.000000      0.000000   \n",
       "50%       0.000000     0.000000     0.000000      0.000000      0.000000   \n",
       "75%       0.449495     0.333333     0.200000      0.100000      0.066667   \n",
       "max       1.000000     1.000000     0.800000      0.400000      0.266667   \n",
       "\n",
       "       precision@100      ndcg@1      ndcg@3      ndcg@5     ndcg@10  ...  \\\n",
       "count     607.000000  607.000000  607.000000  607.000000  607.000000  ...   \n",
       "mean        0.004102    0.237391    0.279207    0.283595    0.283956  ...   \n",
       "std         0.006615    0.391406    0.415920    0.419319    0.419330  ...   \n",
       "min         0.000000    0.000000    0.000000    0.000000    0.000000  ...   \n",
       "25%         0.000000    0.000000    0.000000    0.000000    0.000000  ...   \n",
       "50%         0.000000    0.000000    0.000000    0.000000    0.000000  ...   \n",
       "75%         0.010000    0.428571    0.746160    0.753953    0.753953  ...   \n",
       "max         0.040000    1.000000    1.000000    1.000000    1.000000  ...   \n",
       "\n",
       "        recall@10   recall@15  recall@100  r-precision@1  r-precision@3  \\\n",
       "count  607.000000  607.000000  607.000000     607.000000     594.000000   \n",
       "mean     0.318778    0.318998    0.318998       0.254968       0.290910   \n",
       "std      0.461703    0.461766    0.461766       0.406866       0.437876   \n",
       "min      0.000000    0.000000    0.000000       0.000000       0.000000   \n",
       "25%      0.000000    0.000000    0.000000       0.000000       0.000000   \n",
       "50%      0.000000    0.000000    0.000000       0.000000       0.000000   \n",
       "75%      1.000000    1.000000    1.000000       0.550000       0.833333   \n",
       "max      1.000000    1.000000    1.000000       1.000000       1.000000   \n",
       "\n",
       "       r-precision@5  r-precision@10  r-precision@15  r-precision@100  \\\n",
       "count     594.000000      594.000000      594.000000       594.000000   \n",
       "mean        0.293758        0.293992        0.293992         0.293992   \n",
       "std         0.440923        0.441231        0.441231         0.441231   \n",
       "min         0.000000        0.000000        0.000000         0.000000   \n",
       "25%         0.000000        0.000000        0.000000         0.000000   \n",
       "50%         0.000000        0.000000        0.000000         0.000000   \n",
       "75%         0.869213        0.869213        0.869213         0.869213   \n",
       "max         1.000000        1.000000        1.000000         1.000000   \n",
       "\n",
       "        time_eval  \n",
       "count  607.000000  \n",
       "mean     0.088242  \n",
       "std      0.026165  \n",
       "min      0.068747  \n",
       "25%      0.070077  \n",
       "50%      0.071166  \n",
       "75%      0.120132  \n",
       "max      0.268390  \n",
       "\n",
       "[8 rows x 31 columns]"
      ]
     },
     "execution_count": 10,
     "metadata": {},
     "output_type": "execute_result"
    }
   ],
   "source": [
    "odf = pd.DataFrame(metrics).set_index(\"fold\")\n",
    "paths.save_openpop(odf, ORG_NAME, SPLITS_FREQ, SPLITS_NORMALIZE)\n",
    "odf.describe()"
   ]
  },
  {
   "cell_type": "code",
   "execution_count": 11,
   "id": "9233f91b",
   "metadata": {
    "execution": {
     "iopub.execute_input": "2024-09-05T09:32:47.273189Z",
     "iopub.status.busy": "2024-09-05T09:32:47.273067Z",
     "iopub.status.idle": "2024-09-05T09:32:47.301440Z",
     "shell.execute_reply": "2024-09-05T09:32:47.301246Z"
    },
    "papermill": {
     "duration": 0.04168,
     "end_time": "2024-09-05T09:32:47.302219",
     "exception": false,
     "start_time": "2024-09-05T09:32:47.260539",
     "status": "completed"
    },
    "tags": []
   },
   "outputs": [
    {
     "name": "stdout",
     "output_type": "stream",
     "text": [
      "Saved dataframe into /home/daviddavo/recsys4daos/data/output/dOrg/baseline/perfect_2d_normalize.parquet\n"
     ]
    },
    {
     "data": {
      "text/html": [
       "<div>\n",
       "<style scoped>\n",
       "    .dataframe tbody tr th:only-of-type {\n",
       "        vertical-align: middle;\n",
       "    }\n",
       "\n",
       "    .dataframe tbody tr th {\n",
       "        vertical-align: top;\n",
       "    }\n",
       "\n",
       "    .dataframe thead th {\n",
       "        text-align: right;\n",
       "    }\n",
       "</style>\n",
       "<table border=\"1\" class=\"dataframe\">\n",
       "  <thead>\n",
       "    <tr style=\"text-align: right;\">\n",
       "      <th></th>\n",
       "      <th>precision@1</th>\n",
       "      <th>precision@3</th>\n",
       "      <th>precision@5</th>\n",
       "      <th>precision@10</th>\n",
       "      <th>precision@15</th>\n",
       "      <th>precision@100</th>\n",
       "      <th>ndcg@1</th>\n",
       "      <th>ndcg@3</th>\n",
       "      <th>ndcg@5</th>\n",
       "      <th>ndcg@10</th>\n",
       "      <th>...</th>\n",
       "      <th>recall@10</th>\n",
       "      <th>recall@15</th>\n",
       "      <th>recall@100</th>\n",
       "      <th>r-precision@1</th>\n",
       "      <th>r-precision@3</th>\n",
       "      <th>r-precision@5</th>\n",
       "      <th>r-precision@10</th>\n",
       "      <th>r-precision@15</th>\n",
       "      <th>r-precision@100</th>\n",
       "      <th>time_eval</th>\n",
       "    </tr>\n",
       "  </thead>\n",
       "  <tbody>\n",
       "    <tr>\n",
       "      <th>count</th>\n",
       "      <td>607.000000</td>\n",
       "      <td>607.000000</td>\n",
       "      <td>607.000000</td>\n",
       "      <td>607.000000</td>\n",
       "      <td>607.000000</td>\n",
       "      <td>607.000000</td>\n",
       "      <td>607.000000</td>\n",
       "      <td>607.000000</td>\n",
       "      <td>607.000000</td>\n",
       "      <td>607.000000</td>\n",
       "      <td>...</td>\n",
       "      <td>607.000000</td>\n",
       "      <td>607.000000</td>\n",
       "      <td>607.000000</td>\n",
       "      <td>607.000000</td>\n",
       "      <td>607.000000</td>\n",
       "      <td>607.000000</td>\n",
       "      <td>607.000000</td>\n",
       "      <td>607.000000</td>\n",
       "      <td>607.000000</td>\n",
       "      <td>607.000000</td>\n",
       "    </tr>\n",
       "    <tr>\n",
       "      <th>mean</th>\n",
       "      <td>0.364086</td>\n",
       "      <td>0.150423</td>\n",
       "      <td>0.092621</td>\n",
       "      <td>0.046420</td>\n",
       "      <td>0.030947</td>\n",
       "      <td>0.004642</td>\n",
       "      <td>0.364086</td>\n",
       "      <td>0.364086</td>\n",
       "      <td>0.364086</td>\n",
       "      <td>0.364086</td>\n",
       "      <td>...</td>\n",
       "      <td>0.364086</td>\n",
       "      <td>0.364086</td>\n",
       "      <td>0.364086</td>\n",
       "      <td>0.325749</td>\n",
       "      <td>0.361305</td>\n",
       "      <td>0.363903</td>\n",
       "      <td>0.364086</td>\n",
       "      <td>0.364086</td>\n",
       "      <td>0.364086</td>\n",
       "      <td>0.093548</td>\n",
       "    </tr>\n",
       "    <tr>\n",
       "      <th>std</th>\n",
       "      <td>0.481570</td>\n",
       "      <td>0.214582</td>\n",
       "      <td>0.137353</td>\n",
       "      <td>0.069148</td>\n",
       "      <td>0.046099</td>\n",
       "      <td>0.006915</td>\n",
       "      <td>0.481570</td>\n",
       "      <td>0.481570</td>\n",
       "      <td>0.481570</td>\n",
       "      <td>0.481570</td>\n",
       "      <td>...</td>\n",
       "      <td>0.481570</td>\n",
       "      <td>0.481570</td>\n",
       "      <td>0.481570</td>\n",
       "      <td>0.442821</td>\n",
       "      <td>0.478407</td>\n",
       "      <td>0.481341</td>\n",
       "      <td>0.481570</td>\n",
       "      <td>0.481570</td>\n",
       "      <td>0.481570</td>\n",
       "      <td>0.025897</td>\n",
       "    </tr>\n",
       "    <tr>\n",
       "      <th>min</th>\n",
       "      <td>0.000000</td>\n",
       "      <td>0.000000</td>\n",
       "      <td>0.000000</td>\n",
       "      <td>0.000000</td>\n",
       "      <td>0.000000</td>\n",
       "      <td>0.000000</td>\n",
       "      <td>0.000000</td>\n",
       "      <td>0.000000</td>\n",
       "      <td>0.000000</td>\n",
       "      <td>0.000000</td>\n",
       "      <td>...</td>\n",
       "      <td>0.000000</td>\n",
       "      <td>0.000000</td>\n",
       "      <td>0.000000</td>\n",
       "      <td>0.000000</td>\n",
       "      <td>0.000000</td>\n",
       "      <td>0.000000</td>\n",
       "      <td>0.000000</td>\n",
       "      <td>0.000000</td>\n",
       "      <td>0.000000</td>\n",
       "      <td>0.072579</td>\n",
       "    </tr>\n",
       "    <tr>\n",
       "      <th>25%</th>\n",
       "      <td>0.000000</td>\n",
       "      <td>0.000000</td>\n",
       "      <td>0.000000</td>\n",
       "      <td>0.000000</td>\n",
       "      <td>0.000000</td>\n",
       "      <td>0.000000</td>\n",
       "      <td>0.000000</td>\n",
       "      <td>0.000000</td>\n",
       "      <td>0.000000</td>\n",
       "      <td>0.000000</td>\n",
       "      <td>...</td>\n",
       "      <td>0.000000</td>\n",
       "      <td>0.000000</td>\n",
       "      <td>0.000000</td>\n",
       "      <td>0.000000</td>\n",
       "      <td>0.000000</td>\n",
       "      <td>0.000000</td>\n",
       "      <td>0.000000</td>\n",
       "      <td>0.000000</td>\n",
       "      <td>0.000000</td>\n",
       "      <td>0.073622</td>\n",
       "    </tr>\n",
       "    <tr>\n",
       "      <th>50%</th>\n",
       "      <td>0.000000</td>\n",
       "      <td>0.000000</td>\n",
       "      <td>0.000000</td>\n",
       "      <td>0.000000</td>\n",
       "      <td>0.000000</td>\n",
       "      <td>0.000000</td>\n",
       "      <td>0.000000</td>\n",
       "      <td>0.000000</td>\n",
       "      <td>0.000000</td>\n",
       "      <td>0.000000</td>\n",
       "      <td>...</td>\n",
       "      <td>0.000000</td>\n",
       "      <td>0.000000</td>\n",
       "      <td>0.000000</td>\n",
       "      <td>0.000000</td>\n",
       "      <td>0.000000</td>\n",
       "      <td>0.000000</td>\n",
       "      <td>0.000000</td>\n",
       "      <td>0.000000</td>\n",
       "      <td>0.000000</td>\n",
       "      <td>0.074610</td>\n",
       "    </tr>\n",
       "    <tr>\n",
       "      <th>75%</th>\n",
       "      <td>1.000000</td>\n",
       "      <td>0.333333</td>\n",
       "      <td>0.200000</td>\n",
       "      <td>0.100000</td>\n",
       "      <td>0.066667</td>\n",
       "      <td>0.010000</td>\n",
       "      <td>1.000000</td>\n",
       "      <td>1.000000</td>\n",
       "      <td>1.000000</td>\n",
       "      <td>1.000000</td>\n",
       "      <td>...</td>\n",
       "      <td>1.000000</td>\n",
       "      <td>1.000000</td>\n",
       "      <td>1.000000</td>\n",
       "      <td>0.875000</td>\n",
       "      <td>1.000000</td>\n",
       "      <td>1.000000</td>\n",
       "      <td>1.000000</td>\n",
       "      <td>1.000000</td>\n",
       "      <td>1.000000</td>\n",
       "      <td>0.127321</td>\n",
       "    </tr>\n",
       "    <tr>\n",
       "      <th>max</th>\n",
       "      <td>1.000000</td>\n",
       "      <td>1.000000</td>\n",
       "      <td>0.800000</td>\n",
       "      <td>0.400000</td>\n",
       "      <td>0.266667</td>\n",
       "      <td>0.040000</td>\n",
       "      <td>1.000000</td>\n",
       "      <td>1.000000</td>\n",
       "      <td>1.000000</td>\n",
       "      <td>1.000000</td>\n",
       "      <td>...</td>\n",
       "      <td>1.000000</td>\n",
       "      <td>1.000000</td>\n",
       "      <td>1.000000</td>\n",
       "      <td>1.000000</td>\n",
       "      <td>1.000000</td>\n",
       "      <td>1.000000</td>\n",
       "      <td>1.000000</td>\n",
       "      <td>1.000000</td>\n",
       "      <td>1.000000</td>\n",
       "      <td>0.135721</td>\n",
       "    </tr>\n",
       "  </tbody>\n",
       "</table>\n",
       "<p>8 rows × 31 columns</p>\n",
       "</div>"
      ],
      "text/plain": [
       "       precision@1  precision@3  precision@5  precision@10  precision@15  \\\n",
       "count   607.000000   607.000000   607.000000    607.000000    607.000000   \n",
       "mean      0.364086     0.150423     0.092621      0.046420      0.030947   \n",
       "std       0.481570     0.214582     0.137353      0.069148      0.046099   \n",
       "min       0.000000     0.000000     0.000000      0.000000      0.000000   \n",
       "25%       0.000000     0.000000     0.000000      0.000000      0.000000   \n",
       "50%       0.000000     0.000000     0.000000      0.000000      0.000000   \n",
       "75%       1.000000     0.333333     0.200000      0.100000      0.066667   \n",
       "max       1.000000     1.000000     0.800000      0.400000      0.266667   \n",
       "\n",
       "       precision@100      ndcg@1      ndcg@3      ndcg@5     ndcg@10  ...  \\\n",
       "count     607.000000  607.000000  607.000000  607.000000  607.000000  ...   \n",
       "mean        0.004642    0.364086    0.364086    0.364086    0.364086  ...   \n",
       "std         0.006915    0.481570    0.481570    0.481570    0.481570  ...   \n",
       "min         0.000000    0.000000    0.000000    0.000000    0.000000  ...   \n",
       "25%         0.000000    0.000000    0.000000    0.000000    0.000000  ...   \n",
       "50%         0.000000    0.000000    0.000000    0.000000    0.000000  ...   \n",
       "75%         0.010000    1.000000    1.000000    1.000000    1.000000  ...   \n",
       "max         0.040000    1.000000    1.000000    1.000000    1.000000  ...   \n",
       "\n",
       "        recall@10   recall@15  recall@100  r-precision@1  r-precision@3  \\\n",
       "count  607.000000  607.000000  607.000000     607.000000     607.000000   \n",
       "mean     0.364086    0.364086    0.364086       0.325749       0.361305   \n",
       "std      0.481570    0.481570    0.481570       0.442821       0.478407   \n",
       "min      0.000000    0.000000    0.000000       0.000000       0.000000   \n",
       "25%      0.000000    0.000000    0.000000       0.000000       0.000000   \n",
       "50%      0.000000    0.000000    0.000000       0.000000       0.000000   \n",
       "75%      1.000000    1.000000    1.000000       0.875000       1.000000   \n",
       "max      1.000000    1.000000    1.000000       1.000000       1.000000   \n",
       "\n",
       "       r-precision@5  r-precision@10  r-precision@15  r-precision@100  \\\n",
       "count     607.000000      607.000000      607.000000       607.000000   \n",
       "mean        0.363903        0.364086        0.364086         0.364086   \n",
       "std         0.481341        0.481570        0.481570         0.481570   \n",
       "min         0.000000        0.000000        0.000000         0.000000   \n",
       "25%         0.000000        0.000000        0.000000         0.000000   \n",
       "50%         0.000000        0.000000        0.000000         0.000000   \n",
       "75%         1.000000        1.000000        1.000000         1.000000   \n",
       "max         1.000000        1.000000        1.000000         1.000000   \n",
       "\n",
       "        time_eval  \n",
       "count  607.000000  \n",
       "mean     0.093548  \n",
       "std      0.025897  \n",
       "min      0.072579  \n",
       "25%      0.073622  \n",
       "50%      0.074610  \n",
       "75%      0.127321  \n",
       "max      0.135721  \n",
       "\n",
       "[8 rows x 31 columns]"
      ]
     },
     "metadata": {},
     "output_type": "display_data"
    }
   ],
   "source": [
    "pdf = pd.DataFrame(perfectmetrics).set_index(\"fold\")\n",
    "cols = [ c for c in pdf.columns if not c.startswith('time_') ]\n",
    "paths.save_perfect(pdf, ORG_NAME, SPLITS_FREQ, SPLITS_NORMALIZE)\n",
    "display(pdf.describe())\n",
    "msk = (0 <= pdf[cols].min()) & (pdf[cols].max() <= 1)\n",
    "if not all(msk):\n",
    "    display(pdf.describe()[msk[~msk].index])\n",
    "assert all( msk ), \"There are metrics with wrong range\""
   ]
  },
  {
   "cell_type": "markdown",
   "id": "d7e87981",
   "metadata": {
    "papermill": {
     "duration": 0.01204,
     "end_time": "2024-09-05T09:32:47.326371",
     "exception": false,
     "start_time": "2024-09-05T09:32:47.314331",
     "status": "completed"
    },
    "tags": []
   },
   "source": [
    "## Plotting some graphs"
   ]
  },
  {
   "cell_type": "code",
   "execution_count": 12,
   "id": "0d431df0",
   "metadata": {
    "execution": {
     "iopub.execute_input": "2024-09-05T09:32:47.350333Z",
     "iopub.status.busy": "2024-09-05T09:32:47.350201Z",
     "iopub.status.idle": "2024-09-05T09:32:47.495589Z",
     "shell.execute_reply": "2024-09-05T09:32:47.495303Z"
    },
    "papermill": {
     "duration": 0.158182,
     "end_time": "2024-09-05T09:32:47.496255",
     "exception": false,
     "start_time": "2024-09-05T09:32:47.338073",
     "status": "completed"
    },
    "tags": []
   },
   "outputs": [
    {
     "data": {
      "text/html": [
       "<div>\n",
       "<style scoped>\n",
       "    .dataframe tbody tr th:only-of-type {\n",
       "        vertical-align: middle;\n",
       "    }\n",
       "\n",
       "    .dataframe tbody tr th {\n",
       "        vertical-align: top;\n",
       "    }\n",
       "\n",
       "    .dataframe thead th {\n",
       "        text-align: right;\n",
       "    }\n",
       "</style>\n",
       "<table border=\"1\" class=\"dataframe\">\n",
       "  <thead>\n",
       "    <tr style=\"text-align: right;\">\n",
       "      <th></th>\n",
       "      <th>fold</th>\n",
       "      <th>precision@1</th>\n",
       "      <th>precision@3</th>\n",
       "      <th>precision@5</th>\n",
       "      <th>precision@10</th>\n",
       "      <th>precision@15</th>\n",
       "      <th>precision@100</th>\n",
       "      <th>ndcg@1</th>\n",
       "      <th>ndcg@3</th>\n",
       "      <th>ndcg@5</th>\n",
       "      <th>...</th>\n",
       "      <th>recall@100</th>\n",
       "      <th>r-precision@1</th>\n",
       "      <th>r-precision@3</th>\n",
       "      <th>r-precision@5</th>\n",
       "      <th>r-precision@10</th>\n",
       "      <th>r-precision@15</th>\n",
       "      <th>r-precision@100</th>\n",
       "      <th>time_eval</th>\n",
       "      <th>perfect precision@5</th>\n",
       "      <th>perfect precision@10</th>\n",
       "    </tr>\n",
       "  </thead>\n",
       "  <tbody>\n",
       "    <tr>\n",
       "      <th>count</th>\n",
       "      <td>607</td>\n",
       "      <td>607.000000</td>\n",
       "      <td>607.000000</td>\n",
       "      <td>607.000000</td>\n",
       "      <td>607.000000</td>\n",
       "      <td>607.000000</td>\n",
       "      <td>607.000000</td>\n",
       "      <td>607.000000</td>\n",
       "      <td>607.000000</td>\n",
       "      <td>607.000000</td>\n",
       "      <td>...</td>\n",
       "      <td>607.000000</td>\n",
       "      <td>607.000000</td>\n",
       "      <td>594.000000</td>\n",
       "      <td>594.000000</td>\n",
       "      <td>594.000000</td>\n",
       "      <td>594.000000</td>\n",
       "      <td>594.000000</td>\n",
       "      <td>607.000000</td>\n",
       "      <td>0.0</td>\n",
       "      <td>0.0</td>\n",
       "    </tr>\n",
       "    <tr>\n",
       "      <th>mean</th>\n",
       "      <td>2021-11-02 00:00:00</td>\n",
       "      <td>0.239469</td>\n",
       "      <td>0.126825</td>\n",
       "      <td>0.081284</td>\n",
       "      <td>0.040969</td>\n",
       "      <td>0.027346</td>\n",
       "      <td>0.004102</td>\n",
       "      <td>0.237391</td>\n",
       "      <td>0.279207</td>\n",
       "      <td>0.283595</td>\n",
       "      <td>...</td>\n",
       "      <td>0.318998</td>\n",
       "      <td>0.254968</td>\n",
       "      <td>0.290910</td>\n",
       "      <td>0.293758</td>\n",
       "      <td>0.293992</td>\n",
       "      <td>0.293992</td>\n",
       "      <td>0.293992</td>\n",
       "      <td>0.088242</td>\n",
       "      <td>NaN</td>\n",
       "      <td>NaN</td>\n",
       "    </tr>\n",
       "    <tr>\n",
       "      <th>min</th>\n",
       "      <td>2020-03-06 00:00:00</td>\n",
       "      <td>0.000000</td>\n",
       "      <td>0.000000</td>\n",
       "      <td>0.000000</td>\n",
       "      <td>0.000000</td>\n",
       "      <td>0.000000</td>\n",
       "      <td>0.000000</td>\n",
       "      <td>0.000000</td>\n",
       "      <td>0.000000</td>\n",
       "      <td>0.000000</td>\n",
       "      <td>...</td>\n",
       "      <td>0.000000</td>\n",
       "      <td>0.000000</td>\n",
       "      <td>0.000000</td>\n",
       "      <td>0.000000</td>\n",
       "      <td>0.000000</td>\n",
       "      <td>0.000000</td>\n",
       "      <td>0.000000</td>\n",
       "      <td>0.068747</td>\n",
       "      <td>NaN</td>\n",
       "      <td>NaN</td>\n",
       "    </tr>\n",
       "    <tr>\n",
       "      <th>25%</th>\n",
       "      <td>2021-01-03 00:00:00</td>\n",
       "      <td>0.000000</td>\n",
       "      <td>0.000000</td>\n",
       "      <td>0.000000</td>\n",
       "      <td>0.000000</td>\n",
       "      <td>0.000000</td>\n",
       "      <td>0.000000</td>\n",
       "      <td>0.000000</td>\n",
       "      <td>0.000000</td>\n",
       "      <td>0.000000</td>\n",
       "      <td>...</td>\n",
       "      <td>0.000000</td>\n",
       "      <td>0.000000</td>\n",
       "      <td>0.000000</td>\n",
       "      <td>0.000000</td>\n",
       "      <td>0.000000</td>\n",
       "      <td>0.000000</td>\n",
       "      <td>0.000000</td>\n",
       "      <td>0.070077</td>\n",
       "      <td>NaN</td>\n",
       "      <td>NaN</td>\n",
       "    </tr>\n",
       "    <tr>\n",
       "      <th>50%</th>\n",
       "      <td>2021-11-02 00:00:00</td>\n",
       "      <td>0.000000</td>\n",
       "      <td>0.000000</td>\n",
       "      <td>0.000000</td>\n",
       "      <td>0.000000</td>\n",
       "      <td>0.000000</td>\n",
       "      <td>0.000000</td>\n",
       "      <td>0.000000</td>\n",
       "      <td>0.000000</td>\n",
       "      <td>0.000000</td>\n",
       "      <td>...</td>\n",
       "      <td>0.000000</td>\n",
       "      <td>0.000000</td>\n",
       "      <td>0.000000</td>\n",
       "      <td>0.000000</td>\n",
       "      <td>0.000000</td>\n",
       "      <td>0.000000</td>\n",
       "      <td>0.000000</td>\n",
       "      <td>0.071166</td>\n",
       "      <td>NaN</td>\n",
       "      <td>NaN</td>\n",
       "    </tr>\n",
       "    <tr>\n",
       "      <th>75%</th>\n",
       "      <td>2022-09-01 00:00:00</td>\n",
       "      <td>0.449495</td>\n",
       "      <td>0.333333</td>\n",
       "      <td>0.200000</td>\n",
       "      <td>0.100000</td>\n",
       "      <td>0.066667</td>\n",
       "      <td>0.010000</td>\n",
       "      <td>0.428571</td>\n",
       "      <td>0.746160</td>\n",
       "      <td>0.753953</td>\n",
       "      <td>...</td>\n",
       "      <td>1.000000</td>\n",
       "      <td>0.550000</td>\n",
       "      <td>0.833333</td>\n",
       "      <td>0.869213</td>\n",
       "      <td>0.869213</td>\n",
       "      <td>0.869213</td>\n",
       "      <td>0.869213</td>\n",
       "      <td>0.120132</td>\n",
       "      <td>NaN</td>\n",
       "      <td>NaN</td>\n",
       "    </tr>\n",
       "    <tr>\n",
       "      <th>max</th>\n",
       "      <td>2023-07-01 00:00:00</td>\n",
       "      <td>1.000000</td>\n",
       "      <td>1.000000</td>\n",
       "      <td>0.800000</td>\n",
       "      <td>0.400000</td>\n",
       "      <td>0.266667</td>\n",
       "      <td>0.040000</td>\n",
       "      <td>1.000000</td>\n",
       "      <td>1.000000</td>\n",
       "      <td>1.000000</td>\n",
       "      <td>...</td>\n",
       "      <td>1.000000</td>\n",
       "      <td>1.000000</td>\n",
       "      <td>1.000000</td>\n",
       "      <td>1.000000</td>\n",
       "      <td>1.000000</td>\n",
       "      <td>1.000000</td>\n",
       "      <td>1.000000</td>\n",
       "      <td>0.268390</td>\n",
       "      <td>NaN</td>\n",
       "      <td>NaN</td>\n",
       "    </tr>\n",
       "    <tr>\n",
       "      <th>std</th>\n",
       "      <td>NaN</td>\n",
       "      <td>0.393070</td>\n",
       "      <td>0.195329</td>\n",
       "      <td>0.130852</td>\n",
       "      <td>0.066098</td>\n",
       "      <td>0.044097</td>\n",
       "      <td>0.006615</td>\n",
       "      <td>0.391406</td>\n",
       "      <td>0.415920</td>\n",
       "      <td>0.419319</td>\n",
       "      <td>...</td>\n",
       "      <td>0.461766</td>\n",
       "      <td>0.406866</td>\n",
       "      <td>0.437876</td>\n",
       "      <td>0.440923</td>\n",
       "      <td>0.441231</td>\n",
       "      <td>0.441231</td>\n",
       "      <td>0.441231</td>\n",
       "      <td>0.026165</td>\n",
       "      <td>NaN</td>\n",
       "      <td>NaN</td>\n",
       "    </tr>\n",
       "  </tbody>\n",
       "</table>\n",
       "<p>8 rows × 34 columns</p>\n",
       "</div>"
      ],
      "text/plain": [
       "                      fold  precision@1  precision@3  precision@5  \\\n",
       "count                  607   607.000000   607.000000   607.000000   \n",
       "mean   2021-11-02 00:00:00     0.239469     0.126825     0.081284   \n",
       "min    2020-03-06 00:00:00     0.000000     0.000000     0.000000   \n",
       "25%    2021-01-03 00:00:00     0.000000     0.000000     0.000000   \n",
       "50%    2021-11-02 00:00:00     0.000000     0.000000     0.000000   \n",
       "75%    2022-09-01 00:00:00     0.449495     0.333333     0.200000   \n",
       "max    2023-07-01 00:00:00     1.000000     1.000000     0.800000   \n",
       "std                    NaN     0.393070     0.195329     0.130852   \n",
       "\n",
       "       precision@10  precision@15  precision@100      ndcg@1      ndcg@3  \\\n",
       "count    607.000000    607.000000     607.000000  607.000000  607.000000   \n",
       "mean       0.040969      0.027346       0.004102    0.237391    0.279207   \n",
       "min        0.000000      0.000000       0.000000    0.000000    0.000000   \n",
       "25%        0.000000      0.000000       0.000000    0.000000    0.000000   \n",
       "50%        0.000000      0.000000       0.000000    0.000000    0.000000   \n",
       "75%        0.100000      0.066667       0.010000    0.428571    0.746160   \n",
       "max        0.400000      0.266667       0.040000    1.000000    1.000000   \n",
       "std        0.066098      0.044097       0.006615    0.391406    0.415920   \n",
       "\n",
       "           ndcg@5  ...  recall@100  r-precision@1  r-precision@3  \\\n",
       "count  607.000000  ...  607.000000     607.000000     594.000000   \n",
       "mean     0.283595  ...    0.318998       0.254968       0.290910   \n",
       "min      0.000000  ...    0.000000       0.000000       0.000000   \n",
       "25%      0.000000  ...    0.000000       0.000000       0.000000   \n",
       "50%      0.000000  ...    0.000000       0.000000       0.000000   \n",
       "75%      0.753953  ...    1.000000       0.550000       0.833333   \n",
       "max      1.000000  ...    1.000000       1.000000       1.000000   \n",
       "std      0.419319  ...    0.461766       0.406866       0.437876   \n",
       "\n",
       "       r-precision@5  r-precision@10  r-precision@15  r-precision@100  \\\n",
       "count     594.000000      594.000000      594.000000       594.000000   \n",
       "mean        0.293758        0.293992        0.293992         0.293992   \n",
       "min         0.000000        0.000000        0.000000         0.000000   \n",
       "25%         0.000000        0.000000        0.000000         0.000000   \n",
       "50%         0.000000        0.000000        0.000000         0.000000   \n",
       "75%         0.869213        0.869213        0.869213         0.869213   \n",
       "max         1.000000        1.000000        1.000000         1.000000   \n",
       "std         0.440923        0.441231        0.441231         0.441231   \n",
       "\n",
       "        time_eval  perfect precision@5  perfect precision@10  \n",
       "count  607.000000                  0.0                   0.0  \n",
       "mean     0.088242                  NaN                   NaN  \n",
       "min      0.068747                  NaN                   NaN  \n",
       "25%      0.070077                  NaN                   NaN  \n",
       "50%      0.071166                  NaN                   NaN  \n",
       "75%      0.120132                  NaN                   NaN  \n",
       "max      0.268390                  NaN                   NaN  \n",
       "std      0.026165                  NaN                   NaN  \n",
       "\n",
       "[8 rows x 34 columns]"
      ]
     },
     "execution_count": 12,
     "metadata": {},
     "output_type": "execute_result"
    },
    {
     "data": {
      "image/png": "[encoded data removed]",
      "text/plain": [
       "<Figure size 640x480 with 1 Axes>"
      ]
     },
     "metadata": {},
     "output_type": "display_data"
    }
   ],
   "source": [
    "mdf = pd.DataFrame(metrics)\n",
    "mdf['perfect precision@5'] = pdf['precision@5']\n",
    "mdf['perfect precision@10'] = pdf['precision@10']\n",
    "mdf[['precision@5', 'perfect precision@5', 'precision@10', 'perfect precision@10']].plot(title='Evaluación modelo baseline MP')\n",
    "mdf.describe()"
   ]
  },
  {
   "cell_type": "code",
   "execution_count": 13,
   "id": "7d499862",
   "metadata": {
    "execution": {
     "iopub.execute_input": "2024-09-05T09:32:47.522916Z",
     "iopub.status.busy": "2024-09-05T09:32:47.522646Z",
     "iopub.status.idle": "2024-09-05T09:32:47.545899Z",
     "shell.execute_reply": "2024-09-05T09:32:47.545722Z"
    },
    "papermill": {
     "duration": 0.037163,
     "end_time": "2024-09-05T09:32:47.546586",
     "exception": false,
     "start_time": "2024-09-05T09:32:47.509423",
     "status": "completed"
    },
    "tags": []
   },
   "outputs": [
    {
     "data": {
      "text/html": [
       "<div>\n",
       "<style scoped>\n",
       "    .dataframe tbody tr th:only-of-type {\n",
       "        vertical-align: middle;\n",
       "    }\n",
       "\n",
       "    .dataframe tbody tr th {\n",
       "        vertical-align: top;\n",
       "    }\n",
       "\n",
       "    .dataframe thead th {\n",
       "        text-align: right;\n",
       "    }\n",
       "</style>\n",
       "<table border=\"1\" class=\"dataframe\">\n",
       "  <thead>\n",
       "    <tr style=\"text-align: right;\">\n",
       "      <th></th>\n",
       "      <th>fold</th>\n",
       "      <th>precision@1</th>\n",
       "      <th>precision@3</th>\n",
       "      <th>precision@5</th>\n",
       "      <th>precision@10</th>\n",
       "      <th>precision@15</th>\n",
       "      <th>precision@100</th>\n",
       "      <th>ndcg@1</th>\n",
       "      <th>ndcg@3</th>\n",
       "      <th>ndcg@5</th>\n",
       "      <th>...</th>\n",
       "      <th>recall@100</th>\n",
       "      <th>r-precision@1</th>\n",
       "      <th>r-precision@3</th>\n",
       "      <th>r-precision@5</th>\n",
       "      <th>r-precision@10</th>\n",
       "      <th>r-precision@15</th>\n",
       "      <th>r-precision@100</th>\n",
       "      <th>time_eval</th>\n",
       "      <th>perfect precision@5</th>\n",
       "      <th>perfect precision@10</th>\n",
       "    </tr>\n",
       "  </thead>\n",
       "  <tbody>\n",
       "    <tr>\n",
       "      <th>count</th>\n",
       "      <td>10</td>\n",
       "      <td>10.000000</td>\n",
       "      <td>10.000000</td>\n",
       "      <td>10.000000</td>\n",
       "      <td>10.000000</td>\n",
       "      <td>10.000000</td>\n",
       "      <td>10.000000</td>\n",
       "      <td>10.000000</td>\n",
       "      <td>10.000000</td>\n",
       "      <td>10.000000</td>\n",
       "      <td>...</td>\n",
       "      <td>10.000000</td>\n",
       "      <td>10.000000</td>\n",
       "      <td>10.000000</td>\n",
       "      <td>10.000000</td>\n",
       "      <td>10.000000</td>\n",
       "      <td>10.000000</td>\n",
       "      <td>10.000000</td>\n",
       "      <td>10.000000</td>\n",
       "      <td>0.0</td>\n",
       "      <td>0.0</td>\n",
       "    </tr>\n",
       "    <tr>\n",
       "      <th>mean</th>\n",
       "      <td>2023-06-22 00:00:00</td>\n",
       "      <td>0.338095</td>\n",
       "      <td>0.184127</td>\n",
       "      <td>0.110476</td>\n",
       "      <td>0.055238</td>\n",
       "      <td>0.036825</td>\n",
       "      <td>0.005524</td>\n",
       "      <td>0.338095</td>\n",
       "      <td>0.373100</td>\n",
       "      <td>0.373100</td>\n",
       "      <td>...</td>\n",
       "      <td>0.400000</td>\n",
       "      <td>0.311667</td>\n",
       "      <td>0.400000</td>\n",
       "      <td>0.400000</td>\n",
       "      <td>0.400000</td>\n",
       "      <td>0.400000</td>\n",
       "      <td>0.400000</td>\n",
       "      <td>0.092034</td>\n",
       "      <td>NaN</td>\n",
       "      <td>NaN</td>\n",
       "    </tr>\n",
       "    <tr>\n",
       "      <th>min</th>\n",
       "      <td>2023-06-13 00:00:00</td>\n",
       "      <td>0.000000</td>\n",
       "      <td>0.000000</td>\n",
       "      <td>0.000000</td>\n",
       "      <td>0.000000</td>\n",
       "      <td>0.000000</td>\n",
       "      <td>0.000000</td>\n",
       "      <td>0.000000</td>\n",
       "      <td>0.000000</td>\n",
       "      <td>0.000000</td>\n",
       "      <td>...</td>\n",
       "      <td>0.000000</td>\n",
       "      <td>0.000000</td>\n",
       "      <td>0.000000</td>\n",
       "      <td>0.000000</td>\n",
       "      <td>0.000000</td>\n",
       "      <td>0.000000</td>\n",
       "      <td>0.000000</td>\n",
       "      <td>0.069970</td>\n",
       "      <td>NaN</td>\n",
       "      <td>NaN</td>\n",
       "    </tr>\n",
       "    <tr>\n",
       "      <th>25%</th>\n",
       "      <td>2023-06-17 12:00:00</td>\n",
       "      <td>0.000000</td>\n",
       "      <td>0.000000</td>\n",
       "      <td>0.000000</td>\n",
       "      <td>0.000000</td>\n",
       "      <td>0.000000</td>\n",
       "      <td>0.000000</td>\n",
       "      <td>0.000000</td>\n",
       "      <td>0.000000</td>\n",
       "      <td>0.000000</td>\n",
       "      <td>...</td>\n",
       "      <td>0.000000</td>\n",
       "      <td>0.000000</td>\n",
       "      <td>0.000000</td>\n",
       "      <td>0.000000</td>\n",
       "      <td>0.000000</td>\n",
       "      <td>0.000000</td>\n",
       "      <td>0.000000</td>\n",
       "      <td>0.070470</td>\n",
       "      <td>NaN</td>\n",
       "      <td>NaN</td>\n",
       "    </tr>\n",
       "    <tr>\n",
       "      <th>50%</th>\n",
       "      <td>2023-06-22 00:00:00</td>\n",
       "      <td>0.000000</td>\n",
       "      <td>0.000000</td>\n",
       "      <td>0.000000</td>\n",
       "      <td>0.000000</td>\n",
       "      <td>0.000000</td>\n",
       "      <td>0.000000</td>\n",
       "      <td>0.000000</td>\n",
       "      <td>0.000000</td>\n",
       "      <td>0.000000</td>\n",
       "      <td>...</td>\n",
       "      <td>0.000000</td>\n",
       "      <td>0.000000</td>\n",
       "      <td>0.000000</td>\n",
       "      <td>0.000000</td>\n",
       "      <td>0.000000</td>\n",
       "      <td>0.000000</td>\n",
       "      <td>0.000000</td>\n",
       "      <td>0.072900</td>\n",
       "      <td>NaN</td>\n",
       "      <td>NaN</td>\n",
       "    </tr>\n",
       "    <tr>\n",
       "      <th>75%</th>\n",
       "      <td>2023-06-26 12:00:00</td>\n",
       "      <td>0.702381</td>\n",
       "      <td>0.333333</td>\n",
       "      <td>0.200000</td>\n",
       "      <td>0.100000</td>\n",
       "      <td>0.066667</td>\n",
       "      <td>0.010000</td>\n",
       "      <td>0.702381</td>\n",
       "      <td>0.870674</td>\n",
       "      <td>0.870674</td>\n",
       "      <td>...</td>\n",
       "      <td>1.000000</td>\n",
       "      <td>0.570833</td>\n",
       "      <td>1.000000</td>\n",
       "      <td>1.000000</td>\n",
       "      <td>1.000000</td>\n",
       "      <td>1.000000</td>\n",
       "      <td>1.000000</td>\n",
       "      <td>0.121633</td>\n",
       "      <td>NaN</td>\n",
       "      <td>NaN</td>\n",
       "    </tr>\n",
       "    <tr>\n",
       "      <th>max</th>\n",
       "      <td>2023-07-01 00:00:00</td>\n",
       "      <td>1.000000</td>\n",
       "      <td>0.619048</td>\n",
       "      <td>0.371429</td>\n",
       "      <td>0.185714</td>\n",
       "      <td>0.123810</td>\n",
       "      <td>0.018571</td>\n",
       "      <td>1.000000</td>\n",
       "      <td>1.000000</td>\n",
       "      <td>1.000000</td>\n",
       "      <td>...</td>\n",
       "      <td>1.000000</td>\n",
       "      <td>1.000000</td>\n",
       "      <td>1.000000</td>\n",
       "      <td>1.000000</td>\n",
       "      <td>1.000000</td>\n",
       "      <td>1.000000</td>\n",
       "      <td>1.000000</td>\n",
       "      <td>0.128050</td>\n",
       "      <td>NaN</td>\n",
       "      <td>NaN</td>\n",
       "    </tr>\n",
       "    <tr>\n",
       "      <th>std</th>\n",
       "      <td>NaN</td>\n",
       "      <td>0.448648</td>\n",
       "      <td>0.252775</td>\n",
       "      <td>0.151665</td>\n",
       "      <td>0.075832</td>\n",
       "      <td>0.050555</td>\n",
       "      <td>0.007583</td>\n",
       "      <td>0.448648</td>\n",
       "      <td>0.483777</td>\n",
       "      <td>0.483777</td>\n",
       "      <td>...</td>\n",
       "      <td>0.516398</td>\n",
       "      <td>0.428610</td>\n",
       "      <td>0.516398</td>\n",
       "      <td>0.516398</td>\n",
       "      <td>0.516398</td>\n",
       "      <td>0.516398</td>\n",
       "      <td>0.516398</td>\n",
       "      <td>0.027086</td>\n",
       "      <td>NaN</td>\n",
       "      <td>NaN</td>\n",
       "    </tr>\n",
       "  </tbody>\n",
       "</table>\n",
       "<p>8 rows × 34 columns</p>\n",
       "</div>"
      ],
      "text/plain": [
       "                      fold  precision@1  precision@3  precision@5  \\\n",
       "count                   10    10.000000    10.000000    10.000000   \n",
       "mean   2023-06-22 00:00:00     0.338095     0.184127     0.110476   \n",
       "min    2023-06-13 00:00:00     0.000000     0.000000     0.000000   \n",
       "25%    2023-06-17 12:00:00     0.000000     0.000000     0.000000   \n",
       "50%    2023-06-22 00:00:00     0.000000     0.000000     0.000000   \n",
       "75%    2023-06-26 12:00:00     0.702381     0.333333     0.200000   \n",
       "max    2023-07-01 00:00:00     1.000000     0.619048     0.371429   \n",
       "std                    NaN     0.448648     0.252775     0.151665   \n",
       "\n",
       "       precision@10  precision@15  precision@100     ndcg@1     ndcg@3  \\\n",
       "count     10.000000     10.000000      10.000000  10.000000  10.000000   \n",
       "mean       0.055238      0.036825       0.005524   0.338095   0.373100   \n",
       "min        0.000000      0.000000       0.000000   0.000000   0.000000   \n",
       "25%        0.000000      0.000000       0.000000   0.000000   0.000000   \n",
       "50%        0.000000      0.000000       0.000000   0.000000   0.000000   \n",
       "75%        0.100000      0.066667       0.010000   0.702381   0.870674   \n",
       "max        0.185714      0.123810       0.018571   1.000000   1.000000   \n",
       "std        0.075832      0.050555       0.007583   0.448648   0.483777   \n",
       "\n",
       "          ndcg@5  ...  recall@100  r-precision@1  r-precision@3  \\\n",
       "count  10.000000  ...   10.000000      10.000000      10.000000   \n",
       "mean    0.373100  ...    0.400000       0.311667       0.400000   \n",
       "min     0.000000  ...    0.000000       0.000000       0.000000   \n",
       "25%     0.000000  ...    0.000000       0.000000       0.000000   \n",
       "50%     0.000000  ...    0.000000       0.000000       0.000000   \n",
       "75%     0.870674  ...    1.000000       0.570833       1.000000   \n",
       "max     1.000000  ...    1.000000       1.000000       1.000000   \n",
       "std     0.483777  ...    0.516398       0.428610       0.516398   \n",
       "\n",
       "       r-precision@5  r-precision@10  r-precision@15  r-precision@100  \\\n",
       "count      10.000000       10.000000       10.000000        10.000000   \n",
       "mean        0.400000        0.400000        0.400000         0.400000   \n",
       "min         0.000000        0.000000        0.000000         0.000000   \n",
       "25%         0.000000        0.000000        0.000000         0.000000   \n",
       "50%         0.000000        0.000000        0.000000         0.000000   \n",
       "75%         1.000000        1.000000        1.000000         1.000000   \n",
       "max         1.000000        1.000000        1.000000         1.000000   \n",
       "std         0.516398        0.516398        0.516398         0.516398   \n",
       "\n",
       "       time_eval  perfect precision@5  perfect precision@10  \n",
       "count  10.000000                  0.0                   0.0  \n",
       "mean    0.092034                  NaN                   NaN  \n",
       "min     0.069970                  NaN                   NaN  \n",
       "25%     0.070470                  NaN                   NaN  \n",
       "50%     0.072900                  NaN                   NaN  \n",
       "75%     0.121633                  NaN                   NaN  \n",
       "max     0.128050                  NaN                   NaN  \n",
       "std     0.027086                  NaN                   NaN  \n",
       "\n",
       "[8 rows x 34 columns]"
      ]
     },
     "execution_count": 13,
     "metadata": {},
     "output_type": "execute_result"
    }
   ],
   "source": [
    "mdf[-LAST_FOLDS:].describe()"
   ]
  },
  {
   "cell_type": "code",
   "execution_count": null,
   "id": "d1aa299b",
   "metadata": {
    "papermill": {
     "duration": 0.01226,
     "end_time": "2024-09-05T09:32:47.571080",
     "exception": false,
     "start_time": "2024-09-05T09:32:47.558820",
     "status": "completed"
    },
    "tags": []
   },
   "outputs": [],
   "source": []
  }
 ],
 "metadata": {
  "kernelspec": {
   "display_name": "Python 3 (ipykernel)",
   "language": "python",
   "name": "python3"
  },
  "language_info": {
   "codemirror_mode": {
    "name": "ipython",
    "version": 3
   },
   "file_extension": ".py",
   "mimetype": "text/x-python",
   "name": "python",
   "nbconvert_exporter": "python",
   "pygments_lexer": "ipython3",
   "version": "3.11.6"
  },
  "papermill": {
   "default_parameters": {},
   "duration": 119.036548,
   "end_time": "2024-09-05T09:32:48.704566",
   "environment_variables": {},
   "exception": null,
   "input_path": "10_baseline.ipynb",
   "output_path": "../nbout/dOrg/10_baseline.ipynb",
   "parameters": {
    "EXECUTION_ID": "2024-09-04T10:00",
    "LAST_FOLDS": 10,
    "LAST_FOLD_DATE_STR": "2022-02-18",
    "ORG_NAME": "dOrg",
    "SPLITS_FREQ": "2d",
    "SPLITS_NORMALIZE": true
   },
   "start_time": "2024-09-05T09:30:49.668018",
   "version": "2.6.0"
  },
  "widgets": {
   "application/vnd.jupyter.widget-state+json": {
    "state": {
     "0f47743d69d84282871020aed4f91018": {
      "model_module": "@jupyter-widgets/base",
      "model_module_version": "2.0.0",
      "model_name": "LayoutModel",
      "state": {
       "_model_module": "@jupyter-widgets/base",
       "_model_module_version": "2.0.0",
       "_model_name": "LayoutModel",
       "_view_count": null,
       "_view_module": "@jupyter-widgets/base",
       "_view_module_version": "2.0.0",
       "_view_name": "LayoutView",
       "align_content": null,
       "align_items": null,
       "align_self": null,
       "border_bottom": null,
       "border_left": null,
       "border_right": null,
       "border_top": null,
       "bottom": null,
       "display": null,
       "flex": null,
       "flex_flow": null,
       "grid_area": null,
       "grid_auto_columns": null,
       "grid_auto_flow": null,
       "grid_auto_rows": null,
       "grid_column": null,
       "grid_gap": null,
       "grid_row": null,
       "grid_template_areas": null,
       "grid_template_columns": null,
       "grid_template_rows": null,
       "height": null,
       "justify_content": null,
       "justify_items": null,
       "left": null,
       "margin": null,
       "max_height": null,
       "max_width": null,
       "min_height": null,
       "min_width": null,
       "object_fit": null,
       "object_position": null,
       "order": null,
       "overflow": null,
       "padding": null,
       "right": null,
       "top": null,
       "visibility": null,
       "width": null
      }
     },
     "1809b2c95fd3491c9a99111cfb751722": {
      "model_module": "@jupyter-widgets/controls",
      "model_module_version": "2.0.0",
      "model_name": "FloatProgressModel",
      "state": {
       "_dom_classes": [],
       "_model_module": "@jupyter-widgets/controls",
       "_model_module_version": "2.0.0",
       "_model_name": "FloatProgressModel",
       "_view_count": null,
       "_view_module": "@jupyter-widgets/controls",
       "_view_module_version": "2.0.0",
       "_view_name": "ProgressView",
       "bar_style": "success",
       "description": "",
       "description_allow_html": false,
       "layout": "IPY_MODEL_3333be703f7849e6bdff92ef5839ffc0",
       "max": 607.0,
       "min": 0.0,
       "orientation": "horizontal",
       "style": "IPY_MODEL_e1d3986f89864da787850c71b6ee8d66",
       "tabbable": null,
       "tooltip": null,
       "value": 607.0
      }
     },
     "2e26593b5d7045e28915b3e7122ef399": {
      "model_module": "@jupyter-widgets/controls",
      "model_module_version": "2.0.0",
      "model_name": "HTMLStyleModel",
      "state": {
       "_model_module": "@jupyter-widgets/controls",
       "_model_module_version": "2.0.0",
       "_model_name": "HTMLStyleModel",
       "_view_count": null,
       "_view_module": "@jupyter-widgets/base",
       "_view_module_version": "2.0.0",
       "_view_name": "StyleView",
       "background": null,
       "description_width": "",
       "font_size": null,
       "text_color": null
      }
     },
     "2ee1563c54764046a1bfd6713d3b0cdf": {
      "model_module": "@jupyter-widgets/base",
      "model_module_version": "2.0.0",
      "model_name": "LayoutModel",
      "state": {
       "_model_module": "@jupyter-widgets/base",
       "_model_module_version": "2.0.0",
       "_model_name": "LayoutModel",
       "_view_count": null,
       "_view_module": "@jupyter-widgets/base",
       "_view_module_version": "2.0.0",
       "_view_name": "LayoutView",
       "align_content": null,
       "align_items": null,
       "align_self": null,
       "border_bottom": null,
       "border_left": null,
       "border_right": null,
       "border_top": null,
       "bottom": null,
       "display": null,
       "flex": null,
       "flex_flow": null,
       "grid_area": null,
       "grid_auto_columns": null,
       "grid_auto_flow": null,
       "grid_auto_rows": null,
       "grid_column": null,
       "grid_gap": null,
       "grid_row": null,
       "grid_template_areas": null,
       "grid_template_columns": null,
       "grid_template_rows": null,
       "height": null,
       "justify_content": null,
       "justify_items": null,
       "left": null,
       "margin": null,
       "max_height": null,
       "max_width": null,
       "min_height": null,
       "min_width": null,
       "object_fit": null,
       "object_position": null,
       "order": null,
       "overflow": null,
       "padding": null,
       "right": null,
       "top": null,
       "visibility": null,
       "width": null
      }
     },
     "328074d428e045c298ccd7a205deef73": {
      "model_module": "@jupyter-widgets/controls",
      "model_module_version": "2.0.0",
      "model_name": "HTMLModel",
      "state": {
       "_dom_classes": [],
       "_model_module": "@jupyter-widgets/controls",
       "_model_module_version": "2.0.0",
       "_model_name": "HTMLModel",
       "_view_count": null,
       "_view_module": "@jupyter-widgets/controls",
       "_view_module_version": "2.0.0",
       "_view_name": "HTMLView",
       "description": "",
       "description_allow_html": false,
       "layout": "IPY_MODEL_0f47743d69d84282871020aed4f91018",
       "placeholder": "​",
       "style": "IPY_MODEL_b7aea473e53b4bb4a032aa0fd93534f7",
       "tabbable": null,
       "tooltip": null,
       "value": "100%"
      }
     },
     "3333be703f7849e6bdff92ef5839ffc0": {
      "model_module": "@jupyter-widgets/base",
      "model_module_version": "2.0.0",
      "model_name": "LayoutModel",
      "state": {
       "_model_module": "@jupyter-widgets/base",
       "_model_module_version": "2.0.0",
       "_model_name": "LayoutModel",
       "_view_count": null,
       "_view_module": "@jupyter-widgets/base",
       "_view_module_version": "2.0.0",
       "_view_name": "LayoutView",
       "align_content": null,
       "align_items": null,
       "align_self": null,
       "border_bottom": null,
       "border_left": null,
       "border_right": null,
       "border_top": null,
       "bottom": null,
       "display": null,
       "flex": null,
       "flex_flow": null,
       "grid_area": null,
       "grid_auto_columns": null,
       "grid_auto_flow": null,
       "grid_auto_rows": null,
       "grid_column": null,
       "grid_gap": null,
       "grid_row": null,
       "grid_template_areas": null,
       "grid_template_columns": null,
       "grid_template_rows": null,
       "height": null,
       "justify_content": null,
       "justify_items": null,
       "left": null,
       "margin": null,
       "max_height": null,
       "max_width": null,
       "min_height": null,
       "min_width": null,
       "object_fit": null,
       "object_position": null,
       "order": null,
       "overflow": null,
       "padding": null,
       "right": null,
       "top": null,
       "visibility": null,
       "width": null
      }
     },
     "6427bc4958864fc38f02c441fc42008d": {
      "model_module": "@jupyter-widgets/base",
      "model_module_version": "2.0.0",
      "model_name": "LayoutModel",
      "state": {
       "_model_module": "@jupyter-widgets/base",
       "_model_module_version": "2.0.0",
       "_model_name": "LayoutModel",
       "_view_count": null,
       "_view_module": "@jupyter-widgets/base",
       "_view_module_version": "2.0.0",
       "_view_name": "LayoutView",
       "align_content": null,
       "align_items": null,
       "align_self": null,
       "border_bottom": null,
       "border_left": null,
       "border_right": null,
       "border_top": null,
       "bottom": null,
       "display": null,
       "flex": null,
       "flex_flow": null,
       "grid_area": null,
       "grid_auto_columns": null,
       "grid_auto_flow": null,
       "grid_auto_rows": null,
       "grid_column": null,
       "grid_gap": null,
       "grid_row": null,
       "grid_template_areas": null,
       "grid_template_columns": null,
       "grid_template_rows": null,
       "height": null,
       "justify_content": null,
       "justify_items": null,
       "left": null,
       "margin": null,
       "max_height": null,
       "max_width": null,
       "min_height": null,
       "min_width": null,
       "object_fit": null,
       "object_position": null,
       "order": null,
       "overflow": null,
       "padding": null,
       "right": null,
       "top": null,
       "visibility": null,
       "width": null
      }
     },
     "80a4976fcb5941309743c368572a9714": {
      "model_module": "@jupyter-widgets/controls",
      "model_module_version": "2.0.0",
      "model_name": "HBoxModel",
      "state": {
       "_dom_classes": [],
       "_model_module": "@jupyter-widgets/controls",
       "_model_module_version": "2.0.0",
       "_model_name": "HBoxModel",
       "_view_count": null,
       "_view_module": "@jupyter-widgets/controls",
       "_view_module_version": "2.0.0",
       "_view_name": "HBoxView",
       "box_style": "",
       "children": [
        "IPY_MODEL_328074d428e045c298ccd7a205deef73",
        "IPY_MODEL_1809b2c95fd3491c9a99111cfb751722",
        "IPY_MODEL_9240f9958c2849d78e41e8a5b9a27ed6"
       ],
       "layout": "IPY_MODEL_2ee1563c54764046a1bfd6713d3b0cdf",
       "tabbable": null,
       "tooltip": null
      }
     },
     "9240f9958c2849d78e41e8a5b9a27ed6": {
      "model_module": "@jupyter-widgets/controls",
      "model_module_version": "2.0.0",
      "model_name": "HTMLModel",
      "state": {
       "_dom_classes": [],
       "_model_module": "@jupyter-widgets/controls",
       "_model_module_version": "2.0.0",
       "_model_name": "HTMLModel",
       "_view_count": null,
       "_view_module": "@jupyter-widgets/controls",
       "_view_module_version": "2.0.0",
       "_view_name": "HTMLView",
       "description": "",
       "description_allow_html": false,
       "layout": "IPY_MODEL_6427bc4958864fc38f02c441fc42008d",
       "placeholder": "​",
       "style": "IPY_MODEL_2e26593b5d7045e28915b3e7122ef399",
       "tabbable": null,
       "tooltip": null,
       "value": " 607/607 [01:52&lt;00:00,  4.87it/s]"
      }
     },
     "b7aea473e53b4bb4a032aa0fd93534f7": {
      "model_module": "@jupyter-widgets/controls",
      "model_module_version": "2.0.0",
      "model_name": "HTMLStyleModel",
      "state": {
       "_model_module": "@jupyter-widgets/controls",
       "_model_module_version": "2.0.0",
       "_model_name": "HTMLStyleModel",
       "_view_count": null,
       "_view_module": "@jupyter-widgets/base",
       "_view_module_version": "2.0.0",
       "_view_name": "StyleView",
       "background": null,
       "description_width": "",
       "font_size": null,
       "text_color": null
      }
     },
     "e1d3986f89864da787850c71b6ee8d66": {
      "model_module": "@jupyter-widgets/controls",
      "model_module_version": "2.0.0",
      "model_name": "ProgressStyleModel",
      "state": {
       "_model_module": "@jupyter-widgets/controls",
       "_model_module_version": "2.0.0",
       "_model_name": "ProgressStyleModel",
       "_view_count": null,
       "_view_module": "@jupyter-widgets/base",
       "_view_module_version": "2.0.0",
       "_view_name": "StyleView",
       "bar_color": null,
       "description_width": ""
      }
     }
    },
    "version_major": 2,
    "version_minor": 0
   }
  }
 },
 "nbformat": 4,
 "nbformat_minor": 5
}