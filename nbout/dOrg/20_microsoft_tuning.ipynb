{
 "cells": [
  {
   "cell_type": "code",
   "execution_count": 1,
   "id": "36fb6aad",
   "metadata": {
    "editable": true,
    "execution": {
     "iopub.execute_input": "2024-09-06T16:02:41.682007Z",
     "iopub.status.busy": "2024-09-06T16:02:41.681574Z",
     "iopub.status.idle": "2024-09-06T16:02:44.508862Z",
     "shell.execute_reply": "2024-09-06T16:02:44.508582Z"
    },
    "papermill": {
     "duration": 2.83688,
     "end_time": "2024-09-06T16:02:44.509724",
     "exception": false,
     "start_time": "2024-09-06T16:02:41.672844",
     "status": "completed"
    },
    "slideshow": {
     "slide_type": ""
    },
    "tags": []
   },
   "outputs": [
    {
     "name": "stderr",
     "output_type": "stream",
     "text": [
      "/tmp/ipykernel_140327/1371776918.py:11: TqdmExperimentalWarning: Using `tqdm.autonotebook.tqdm` in notebook mode. Use `tqdm.tqdm` instead to force console mode (e.g. in jupyter console)\n",
      "  from tqdm.autonotebook import tqdm\n"
     ]
    },
    {
     "name": "stdout",
     "output_type": "stream",
     "text": [
      "Ignoring warnings\n",
      "3.11.6 (main, Jun 24 2024, 07:45:26) [GCC 11.4.0]\n",
      "recommenders: 1.2.0\n",
      "ray: 2.30.0\n",
      "tensorflow: 2.16.1\n"
     ]
    }
   ],
   "source": [
    "from typing import List, Dict, Any\n",
    "\n",
    "from pathlib import Path\n",
    "import os, sys\n",
    "import time\n",
    "import datetime as dt\n",
    "import itertools as it\n",
    "\n",
    "import numpy as np\n",
    "import pandas as pd\n",
    "from tqdm.autonotebook import tqdm\n",
    "import ray\n",
    "from ray import train, tune\n",
    "import ipywidgets as widgets\n",
    "\n",
    "from recsys4daos.model_selection import cvtt_open\n",
    "from recsys4daos.datasets import to_microsoft, filter_window_size\n",
    "from recsys4daos.models import LightGCNCustom\n",
    "from recsys4daos.utils import Timer\n",
    "import recsys4daos.utils.notebooks as nbu\n",
    "\n",
    "import recommenders\n",
    "if recommenders.__version__ == '1.2.0':\n",
    "    print(\"Ignoring warnings\")\n",
    "    import warnings\n",
    "    warnings.simplefilter(action='ignore', category=FutureWarning)\n",
    "\n",
    "import paths\n",
    "\n",
    "nbu.print_versions('ray', 'tensorflow')\n",
    "\n",
    "%load_ext autoreload\n",
    "%autoreload 2"
   ]
  },
  {
   "cell_type": "code",
   "execution_count": 2,
   "id": "27373f4c",
   "metadata": {
    "editable": true,
    "execution": {
     "iopub.execute_input": "2024-09-06T16:02:44.516208Z",
     "iopub.status.busy": "2024-09-06T16:02:44.515976Z",
     "iopub.status.idle": "2024-09-06T16:02:44.537257Z",
     "shell.execute_reply": "2024-09-06T16:02:44.537013Z"
    },
    "papermill": {
     "duration": 0.025466,
     "end_time": "2024-09-06T16:02:44.538051",
     "exception": false,
     "start_time": "2024-09-06T16:02:44.512585",
     "status": "completed"
    },
    "slideshow": {
     "slide_type": ""
    },
    "tags": [
     "parameters"
    ]
   },
   "outputs": [],
   "source": [
    "# Others config\n",
    "SEED: int = 57\n",
    "RAY_RESULTS_PATH: Path = '~/ray_results3.11'\n",
    "\n",
    "# Dataset splits config\n",
    "ORG_NAME = 'Decentraland'\n",
    "SPLITS_FREQ = 'W-THU'  # Split weekly\n",
    "LAST_FOLDS = 10  # Use just last 10 splits\n",
    "SPLITS_NORMALIZE = True\n",
    "LAST_FOLD_DATE_STR: str = '2023-07-13'\n",
    "\n",
    "# Training config\n",
    "MAX_EPOCHS: int = 200\n",
    "EPOCHS_PER_ITER: int = 5\n",
    "SAMPLES_PER_SPLIT: int = 100\n",
    "MAX_TIME_TOTAL_TRAIN: int = 300\n",
    "OPTIM_METRIC: str = 'map@10'\n",
    "\n",
    "# Search space config\n",
    "MAX_EMBEDDING_DIM = 1024\n",
    "MIN_BATCH_SIZE = 6\n",
    "MAX_BATCH_SIZE = 10 # 2**10\n",
    "MIN_LR = 1e-4\n",
    "# WINDOW_SIZES = ['7d', '14d', '21d', '30d', '60d', '90d', '10YE']\n",
    "WINDOW_SIZES = ['21d', '30d', '60d', '90d', '10YE']\n",
    "GPUS = 16\n",
    "\n",
    "# Eval config\n",
    "K_RECOMMENDATIONS: List[int] = [1,3,5,10,15,100]\n",
    "METRICS: List[str] = [\"recall\", \"ndcg\", \"precision\", \"map\"]"
   ]
  },
  {
   "cell_type": "code",
   "execution_count": 3,
   "id": "450235e7",
   "metadata": {
    "execution": {
     "iopub.execute_input": "2024-09-06T16:02:44.543394Z",
     "iopub.status.busy": "2024-09-06T16:02:44.543292Z",
     "iopub.status.idle": "2024-09-06T16:02:44.561604Z",
     "shell.execute_reply": "2024-09-06T16:02:44.561391Z"
    },
    "papermill": {
     "duration": 0.021972,
     "end_time": "2024-09-06T16:02:44.562370",
     "exception": false,
     "start_time": "2024-09-06T16:02:44.540398",
     "status": "completed"
    },
    "tags": [
     "injected-parameters"
    ]
   },
   "outputs": [],
   "source": [
    "# Parameters\n",
    "EXECUTION_ID = \"2024-09-04T10:00\"\n",
    "ORG_NAME = \"dOrg\"\n",
    "SPLITS_FREQ = \"2d\"\n",
    "LAST_FOLDS = 10\n",
    "SPLITS_NORMALIZE = True\n",
    "LAST_FOLD_DATE_STR = \"2022-02-18\"\n"
   ]
  },
  {
   "cell_type": "code",
   "execution_count": 4,
   "id": "1614e299",
   "metadata": {
    "execution": {
     "iopub.execute_input": "2024-09-06T16:02:44.567783Z",
     "iopub.status.busy": "2024-09-06T16:02:44.567620Z",
     "iopub.status.idle": "2024-09-06T16:02:44.584356Z",
     "shell.execute_reply": "2024-09-06T16:02:44.584168Z"
    },
    "papermill": {
     "duration": 0.020386,
     "end_time": "2024-09-06T16:02:44.585084",
     "exception": false,
     "start_time": "2024-09-06T16:02:44.564698",
     "status": "completed"
    },
    "tags": []
   },
   "outputs": [],
   "source": [
    "RAY_RESULTS_PATH = Path(RAY_RESULTS_PATH).expanduser()"
   ]
  },
  {
   "cell_type": "markdown",
   "id": "ea36188d",
   "metadata": {
    "papermill": {
     "duration": 0.002339,
     "end_time": "2024-09-06T16:02:44.589726",
     "exception": false,
     "start_time": "2024-09-06T16:02:44.587387",
     "status": "completed"
    },
    "tags": []
   },
   "source": [
    "## Obtain dataset"
   ]
  },
  {
   "cell_type": "code",
   "execution_count": 5,
   "id": "5b26c897",
   "metadata": {
    "execution": {
     "iopub.execute_input": "2024-09-06T16:02:44.594840Z",
     "iopub.status.busy": "2024-09-06T16:02:44.594717Z",
     "iopub.status.idle": "2024-09-06T16:02:44.737269Z",
     "shell.execute_reply": "2024-09-06T16:02:44.735093Z"
    },
    "papermill": {
     "duration": 0.149602,
     "end_time": "2024-09-06T16:02:44.741492",
     "exception": false,
     "start_time": "2024-09-06T16:02:44.591890",
     "status": "completed"
    },
    "tags": []
   },
   "outputs": [
    {
     "name": "stdout",
     "output_type": "stream",
     "text": [
      "/home/daviddavo/recsys4daos/notebooks\r\n"
     ]
    }
   ],
   "source": [
    "!pwd"
   ]
  },
  {
   "cell_type": "code",
   "execution_count": 6,
   "id": "5d576670",
   "metadata": {
    "execution": {
     "iopub.execute_input": "2024-09-06T16:02:44.757543Z",
     "iopub.status.busy": "2024-09-06T16:02:44.757409Z",
     "iopub.status.idle": "2024-09-06T16:02:44.797489Z",
     "shell.execute_reply": "2024-09-06T16:02:44.797265Z"
    },
    "papermill": {
     "duration": 0.046258,
     "end_time": "2024-09-06T16:02:44.798237",
     "exception": false,
     "start_time": "2024-09-06T16:02:44.751979",
     "status": "completed"
    },
    "tags": []
   },
   "outputs": [
    {
     "name": "stdout",
     "output_type": "stream",
     "text": [
      "<class 'pandas.core.frame.DataFrame'>\n",
      "RangeIndex: 343 entries, 0 to 342\n",
      "Data columns (total 6 columns):\n",
      " #   Column             Non-Null Count  Dtype         \n",
      "---  ------             --------------  -----         \n",
      " 0   id                 343 non-null    object        \n",
      " 1   author             343 non-null    object        \n",
      " 2   date               343 non-null    datetime64[us]\n",
      " 3   start              343 non-null    datetime64[us]\n",
      " 4   end                342 non-null    datetime64[us]\n",
      " 5   platform_proposal  343 non-null    object        \n",
      "dtypes: datetime64[us](3), object(3)\n",
      "memory usage: 16.2+ KB\n",
      "None\n",
      "<class 'pandas.core.frame.DataFrame'>\n",
      "RangeIndex: 1782 entries, 0 to 1781\n",
      "Data columns (total 4 columns):\n",
      " #   Column    Non-Null Count  Dtype         \n",
      "---  ------    --------------  -----         \n",
      " 0   id        1782 non-null   object        \n",
      " 1   proposal  1782 non-null   object        \n",
      " 2   voter     1782 non-null   object        \n",
      " 3   date      1782 non-null   datetime64[us]\n",
      "dtypes: datetime64[us](1), object(3)\n",
      "memory usage: 55.8+ KB\n",
      "None\n"
     ]
    }
   ],
   "source": [
    "dfp = paths.load_proposals(ORG_NAME)\n",
    "dfv = paths.load_votes(ORG_NAME)\n",
    "\n",
    "print(dfp.info())\n",
    "print(dfv.info())"
   ]
  },
  {
   "cell_type": "markdown",
   "id": "e4c15181",
   "metadata": {
    "papermill": {
     "duration": 0.002517,
     "end_time": "2024-09-06T16:02:44.803316",
     "exception": false,
     "start_time": "2024-09-06T16:02:44.800799",
     "status": "completed"
    },
    "tags": []
   },
   "source": [
    "## Split data"
   ]
  },
  {
   "cell_type": "code",
   "execution_count": 7,
   "id": "57227806",
   "metadata": {
    "execution": {
     "iopub.execute_input": "2024-09-06T16:02:44.808810Z",
     "iopub.status.busy": "2024-09-06T16:02:44.808681Z",
     "iopub.status.idle": "2024-09-06T16:02:44.835141Z",
     "shell.execute_reply": "2024-09-06T16:02:44.834912Z"
    },
    "papermill": {
     "duration": 0.030086,
     "end_time": "2024-09-06T16:02:44.835848",
     "exception": false,
     "start_time": "2024-09-06T16:02:44.805762",
     "status": "completed"
    },
    "tags": []
   },
   "outputs": [
    {
     "data": {
      "text/html": [
       "<div>\n",
       "<style scoped>\n",
       "    .dataframe tbody tr th:only-of-type {\n",
       "        vertical-align: middle;\n",
       "    }\n",
       "\n",
       "    .dataframe tbody tr th {\n",
       "        vertical-align: top;\n",
       "    }\n",
       "\n",
       "    .dataframe thead th {\n",
       "        text-align: right;\n",
       "    }\n",
       "</style>\n",
       "<table border=\"1\" class=\"dataframe\">\n",
       "  <thead>\n",
       "    <tr style=\"text-align: right;\">\n",
       "      <th></th>\n",
       "      <th>userID</th>\n",
       "      <th>itemID</th>\n",
       "      <th>timestamp</th>\n",
       "      <th>rating</th>\n",
       "    </tr>\n",
       "  </thead>\n",
       "  <tbody>\n",
       "    <tr>\n",
       "      <th>0</th>\n",
       "      <td>0x7f2a1ef39ea0d470b5669ce105a13c5b3bd8cd31</td>\n",
       "      <td>40babd7f-5215-581f-816b-f56d21d3f910</td>\n",
       "      <td>2020-03-06 16:18:05</td>\n",
       "      <td>1</td>\n",
       "    </tr>\n",
       "    <tr>\n",
       "      <th>1</th>\n",
       "      <td>0x36dbcbb5c90e9b00ab658353696610cc5d7b7002</td>\n",
       "      <td>40babd7f-5215-581f-816b-f56d21d3f910</td>\n",
       "      <td>2020-03-06 17:33:19</td>\n",
       "      <td>1</td>\n",
       "    </tr>\n",
       "    <tr>\n",
       "      <th>2</th>\n",
       "      <td>0xb1b7586656116d546033e3baff69bfcd6592225e</td>\n",
       "      <td>40babd7f-5215-581f-816b-f56d21d3f910</td>\n",
       "      <td>2020-03-06 19:59:20</td>\n",
       "      <td>1</td>\n",
       "    </tr>\n",
       "    <tr>\n",
       "      <th>3</th>\n",
       "      <td>0xb1b7586656116d546033e3baff69bfcd6592225e</td>\n",
       "      <td>616fe9b9-c5f2-5571-904c-fb0c09f04e19</td>\n",
       "      <td>2020-03-09 02:15:26</td>\n",
       "      <td>1</td>\n",
       "    </tr>\n",
       "    <tr>\n",
       "      <th>4</th>\n",
       "      <td>0x7f2a1ef39ea0d470b5669ce105a13c5b3bd8cd31</td>\n",
       "      <td>616fe9b9-c5f2-5571-904c-fb0c09f04e19</td>\n",
       "      <td>2020-03-12 00:02:44</td>\n",
       "      <td>1</td>\n",
       "    </tr>\n",
       "    <tr>\n",
       "      <th>...</th>\n",
       "      <td>...</td>\n",
       "      <td>...</td>\n",
       "      <td>...</td>\n",
       "      <td>...</td>\n",
       "    </tr>\n",
       "    <tr>\n",
       "      <th>1777</th>\n",
       "      <td>0x6fe74660d9ccad62f5ce15657e95453f1c54b6fb</td>\n",
       "      <td>ccbd62f1-63d3-5db8-95fd-7854f034bab2</td>\n",
       "      <td>2023-06-29 14:42:01</td>\n",
       "      <td>1</td>\n",
       "    </tr>\n",
       "    <tr>\n",
       "      <th>1778</th>\n",
       "      <td>0x04181a9feec83a9692f2126333660e7a0cf13a73</td>\n",
       "      <td>ccbd62f1-63d3-5db8-95fd-7854f034bab2</td>\n",
       "      <td>2023-06-30 15:05:47</td>\n",
       "      <td>1</td>\n",
       "    </tr>\n",
       "    <tr>\n",
       "      <th>1779</th>\n",
       "      <td>0xc5d5851a81afc92d49266f73824c2701730b8a6d</td>\n",
       "      <td>ccbd62f1-63d3-5db8-95fd-7854f034bab2</td>\n",
       "      <td>2023-06-30 16:55:15</td>\n",
       "      <td>1</td>\n",
       "    </tr>\n",
       "    <tr>\n",
       "      <th>1780</th>\n",
       "      <td>0xd9d41335fee80ede3ba22f33100740c2858f761a</td>\n",
       "      <td>ccbd62f1-63d3-5db8-95fd-7854f034bab2</td>\n",
       "      <td>2023-07-01 14:27:48</td>\n",
       "      <td>1</td>\n",
       "    </tr>\n",
       "    <tr>\n",
       "      <th>1781</th>\n",
       "      <td>0x639749b7b08aee65039c21d8a411103c6cebebf0</td>\n",
       "      <td>ccbd62f1-63d3-5db8-95fd-7854f034bab2</td>\n",
       "      <td>2023-07-02 14:40:48</td>\n",
       "      <td>1</td>\n",
       "    </tr>\n",
       "  </tbody>\n",
       "</table>\n",
       "<p>1782 rows × 4 columns</p>\n",
       "</div>"
      ],
      "text/plain": [
       "                                          userID  \\\n",
       "0     0x7f2a1ef39ea0d470b5669ce105a13c5b3bd8cd31   \n",
       "1     0x36dbcbb5c90e9b00ab658353696610cc5d7b7002   \n",
       "2     0xb1b7586656116d546033e3baff69bfcd6592225e   \n",
       "3     0xb1b7586656116d546033e3baff69bfcd6592225e   \n",
       "4     0x7f2a1ef39ea0d470b5669ce105a13c5b3bd8cd31   \n",
       "...                                          ...   \n",
       "1777  0x6fe74660d9ccad62f5ce15657e95453f1c54b6fb   \n",
       "1778  0x04181a9feec83a9692f2126333660e7a0cf13a73   \n",
       "1779  0xc5d5851a81afc92d49266f73824c2701730b8a6d   \n",
       "1780  0xd9d41335fee80ede3ba22f33100740c2858f761a   \n",
       "1781  0x639749b7b08aee65039c21d8a411103c6cebebf0   \n",
       "\n",
       "                                    itemID           timestamp  rating  \n",
       "0     40babd7f-5215-581f-816b-f56d21d3f910 2020-03-06 16:18:05       1  \n",
       "1     40babd7f-5215-581f-816b-f56d21d3f910 2020-03-06 17:33:19       1  \n",
       "2     40babd7f-5215-581f-816b-f56d21d3f910 2020-03-06 19:59:20       1  \n",
       "3     616fe9b9-c5f2-5571-904c-fb0c09f04e19 2020-03-09 02:15:26       1  \n",
       "4     616fe9b9-c5f2-5571-904c-fb0c09f04e19 2020-03-12 00:02:44       1  \n",
       "...                                    ...                 ...     ...  \n",
       "1777  ccbd62f1-63d3-5db8-95fd-7854f034bab2 2023-06-29 14:42:01       1  \n",
       "1778  ccbd62f1-63d3-5db8-95fd-7854f034bab2 2023-06-30 15:05:47       1  \n",
       "1779  ccbd62f1-63d3-5db8-95fd-7854f034bab2 2023-06-30 16:55:15       1  \n",
       "1780  ccbd62f1-63d3-5db8-95fd-7854f034bab2 2023-07-01 14:27:48       1  \n",
       "1781  ccbd62f1-63d3-5db8-95fd-7854f034bab2 2023-07-02 14:40:48       1  \n",
       "\n",
       "[1782 rows x 4 columns]"
      ]
     },
     "execution_count": 7,
     "metadata": {},
     "output_type": "execute_result"
    }
   ],
   "source": [
    "df = to_microsoft(dfv)\n",
    "df"
   ]
  },
  {
   "cell_type": "code",
   "execution_count": 8,
   "id": "f0373db5",
   "metadata": {
    "editable": true,
    "execution": {
     "iopub.execute_input": "2024-09-06T16:02:44.841836Z",
     "iopub.status.busy": "2024-09-06T16:02:44.841728Z",
     "iopub.status.idle": "2024-09-06T16:02:45.223965Z",
     "shell.execute_reply": "2024-09-06T16:02:45.223663Z"
    },
    "papermill": {
     "duration": 0.386243,
     "end_time": "2024-09-06T16:02:45.224754",
     "exception": false,
     "start_time": "2024-09-06T16:02:44.838511",
     "status": "completed"
    },
    "slideshow": {
     "slide_type": ""
    },
    "tags": []
   },
   "outputs": [
    {
     "name": "stdout",
     "output_type": "stream",
     "text": [
      "358 folds\n",
      "Using 10 folds, from 2022-01-31T00:00:00 to 2022-02-18T00:00:00\n"
     ]
    }
   ],
   "source": [
    "# USE INTEGER INDEX\n",
    "# folds_dict = list(cvtt_open(df, SPLITS_FREQ, dfp, remove_not_in_train_col='userID'))\n",
    "# use_folds_idx = range(len(folds_dict))[-LAST_FOLDS:]\n",
    "\n",
    "# USE TIMESTAMP INDEX\n",
    "# Note: NO need to used OrderedDict, dict is ordered since Python 3.6\n",
    "folds_dict = { f.end.isoformat():f for f in cvtt_open(df, SPLITS_FREQ, dfp, remove_not_in_train_col='userID', last_fold=LAST_FOLD_DATE_STR) }\n",
    "use_folds_idx = list(folds_dict.keys())[-LAST_FOLDS:]\n",
    "\n",
    "print(len(folds_dict), \"folds\")\n",
    "print(\"Using\", len(use_folds_idx), \"folds, from\", use_folds_idx[0], \"to\", use_folds_idx[-1])"
   ]
  },
  {
   "cell_type": "markdown",
   "id": "91587ba0",
   "metadata": {
    "papermill": {
     "duration": 0.002785,
     "end_time": "2024-09-06T16:02:45.230633",
     "exception": false,
     "start_time": "2024-09-06T16:02:45.227848",
     "status": "completed"
    },
    "tags": []
   },
   "source": [
    "## Making some checks"
   ]
  },
  {
   "cell_type": "markdown",
   "id": "22a7007f",
   "metadata": {
    "papermill": {
     "duration": 0.002618,
     "end_time": "2024-09-06T16:02:45.235958",
     "exception": false,
     "start_time": "2024-09-06T16:02:45.233340",
     "status": "completed"
    },
    "tags": []
   },
   "source": [
    "### Checking that all the folds have open proposals"
   ]
  },
  {
   "cell_type": "code",
   "execution_count": 9,
   "id": "c5698342",
   "metadata": {
    "execution": {
     "iopub.execute_input": "2024-09-06T16:02:45.241713Z",
     "iopub.status.busy": "2024-09-06T16:02:45.241605Z",
     "iopub.status.idle": "2024-09-06T16:02:45.262917Z",
     "shell.execute_reply": "2024-09-06T16:02:45.262706Z"
    },
    "papermill": {
     "duration": 0.025116,
     "end_time": "2024-09-06T16:02:45.263584",
     "exception": false,
     "start_time": "2024-09-06T16:02:45.238468",
     "status": "completed"
    },
    "tags": []
   },
   "outputs": [],
   "source": [
    "_nok_folds = []\n",
    "for idx in use_folds_idx:\n",
    "    if len(folds_dict[idx].open_proposals) == 0:\n",
    "        _nok_folds.append(idx)\n",
    "\n",
    "if _nok_folds:\n",
    "    raise ValueError(f\"Folds {', '.join(_nok_folds)} don't have any open proposals\")"
   ]
  },
  {
   "cell_type": "markdown",
   "id": "d9bff990",
   "metadata": {
    "papermill": {
     "duration": 0.002537,
     "end_time": "2024-09-06T16:02:45.268702",
     "exception": false,
     "start_time": "2024-09-06T16:02:45.266165",
     "status": "completed"
    },
    "tags": []
   },
   "source": [
    "### Checking correct hparams"
   ]
  },
  {
   "cell_type": "code",
   "execution_count": 10,
   "id": "476a482f",
   "metadata": {
    "execution": {
     "iopub.execute_input": "2024-09-06T16:02:45.323813Z",
     "iopub.status.busy": "2024-09-06T16:02:45.323636Z",
     "iopub.status.idle": "2024-09-06T16:02:45.362100Z",
     "shell.execute_reply": "2024-09-06T16:02:45.361736Z"
    },
    "papermill": {
     "duration": 0.042633,
     "end_time": "2024-09-06T16:02:45.362850",
     "exception": false,
     "start_time": "2024-09-06T16:02:45.320217",
     "status": "completed"
    },
    "tags": []
   },
   "outputs": [
    {
     "name": "stdout",
     "output_type": "stream",
     "text": [
      "All folds ok!\n"
     ]
    },
    {
     "name": "stderr",
     "output_type": "stream",
     "text": [
      "On fold 2022-01-31T00:00:00 WINDOW_SIZE should be more than 10YE: 55 < 64\n",
      "On fold 2022-02-02T00:00:00 WINDOW_SIZE should be more than 10YE: 56 < 64\n",
      "On fold 2022-02-04T00:00:00 WINDOW_SIZE should be more than 10YE: 56 < 64\n",
      "On fold 2022-02-06T00:00:00 WINDOW_SIZE should be more than 10YE: 56 < 64\n",
      "On fold 2022-02-08T00:00:00 WINDOW_SIZE should be more than 10YE: 56 < 64\n",
      "On fold 2022-02-10T00:00:00 WINDOW_SIZE should be more than 10YE: 56 < 64\n",
      "On fold 2022-02-12T00:00:00 WINDOW_SIZE should be more than 10YE: 56 < 64\n",
      "On fold 2022-02-14T00:00:00 WINDOW_SIZE should be more than 10YE: 56 < 64\n",
      "On fold 2022-02-16T00:00:00 WINDOW_SIZE should be more than 10YE: 56 < 64\n",
      "On fold 2022-02-18T00:00:00 WINDOW_SIZE should be more than 10YE: 56 < 64\n",
      "On fold 2022-01-31T00:00:00 batch_size should be '<=512.0' with 10YE: 55 < 1024\n",
      "On fold 2022-02-02T00:00:00 batch_size should be '<=512.0' with 10YE: 56 < 1024\n",
      "On fold 2022-02-04T00:00:00 batch_size should be '<=512.0' with 10YE: 56 < 1024\n",
      "On fold 2022-02-06T00:00:00 batch_size should be '<=512.0' with 10YE: 56 < 1024\n",
      "On fold 2022-02-08T00:00:00 batch_size should be '<=512.0' with 10YE: 56 < 1024\n",
      "On fold 2022-02-10T00:00:00 batch_size should be '<=512.0' with 10YE: 56 < 1024\n",
      "On fold 2022-02-12T00:00:00 batch_size should be '<=512.0' with 10YE: 56 < 1024\n",
      "On fold 2022-02-14T00:00:00 batch_size should be '<=512.0' with 10YE: 56 < 1024\n",
      "On fold 2022-02-16T00:00:00 batch_size should be '<=512.0' with 10YE: 56 < 1024\n",
      "On fold 2022-02-18T00:00:00 batch_size should be '<=512.0' with 10YE: 56 < 1024\n"
     ]
    }
   ],
   "source": [
    "now = dt.datetime.now()\n",
    "max_bs = 2**MAX_BATCH_SIZE\n",
    "min_bs = 2**MIN_BATCH_SIZE\n",
    "_sorted_ws = sorted(WINDOW_SIZES, key=lambda ws: now + pd.tseries.frequencies.to_offset(ws))\n",
    "\n",
    "# Checking that the max_bs is doable with every window size\n",
    "for idx in use_folds_idx:\n",
    "    for ws in _sorted_ws:\n",
    "        nusers = filter_window_size(folds_dict[idx].train, folds_dict[idx].end, ws)['userID'].nunique()\n",
    "        if nusers > max_bs:\n",
    "            print(f'On fold {idx} WINDOW_SIZE should be at least {ws}: {nusers} > {max_bs}', file=sys.stderr)\n",
    "            break\n",
    "\n",
    "# Checking that the min_bs is doable with every window size\n",
    "for idx in use_folds_idx:\n",
    "    for ws in reversed(_sorted_ws):\n",
    "        nusers = filter_window_size(folds_dict[idx].train, folds_dict[idx].end, ws)['userID'].nunique()\n",
    "        if nusers < min_bs:\n",
    "            print(f'On fold {idx} WINDOW_SIZE should be more than {ws}: {nusers} < {min_bs}', file=sys.stderr)\n",
    "            break\n",
    "\n",
    "# Checking that the max_ws is doable with every batch size\n",
    "max_ws = _sorted_ws[-1]\n",
    "for idx in use_folds_idx:\n",
    "    nusers = filter_window_size(folds_dict[idx].train, folds_dict[idx].end, max_ws)['userID'].nunique()\n",
    "    for bs in (2**x for x in reversed(range(MIN_BATCH_SIZE, MAX_BATCH_SIZE+1))):\n",
    "        if bs > nusers:\n",
    "            print(f\"On fold {idx} batch_size should be '<={bs/2}' with {max_ws}: {nusers} < {bs}\", file=sys.stderr)\n",
    "            break\n",
    "\n",
    "print(\"All folds ok!\")"
   ]
  },
  {
   "cell_type": "markdown",
   "id": "81e9746a",
   "metadata": {
    "papermill": {
     "duration": 0.003124,
     "end_time": "2024-09-06T16:02:45.369193",
     "exception": false,
     "start_time": "2024-09-06T16:02:45.366069",
     "status": "completed"
    },
    "tags": []
   },
   "source": [
    "### Number of users with the min window_size"
   ]
  },
  {
   "cell_type": "code",
   "execution_count": 11,
   "id": "4b081566",
   "metadata": {
    "execution": {
     "iopub.execute_input": "2024-09-06T16:02:45.375271Z",
     "iopub.status.busy": "2024-09-06T16:02:45.375152Z",
     "iopub.status.idle": "2024-09-06T16:02:45.400096Z",
     "shell.execute_reply": "2024-09-06T16:02:45.399893Z"
    },
    "papermill": {
     "duration": 0.028802,
     "end_time": "2024-09-06T16:02:45.400805",
     "exception": false,
     "start_time": "2024-09-06T16:02:45.372003",
     "status": "completed"
    },
    "tags": []
   },
   "outputs": [
    {
     "name": "stdout",
     "output_type": "stream",
     "text": [
      "On fold 2022-01-31T00:00:00 with ws 21d: 25 users, ws 10YE: 55\n",
      "On fold 2022-02-02T00:00:00 with ws 21d: 27 users, ws 10YE: 56\n",
      "On fold 2022-02-04T00:00:00 with ws 21d: 28 users, ws 10YE: 56\n",
      "On fold 2022-02-06T00:00:00 with ws 21d: 28 users, ws 10YE: 56\n",
      "On fold 2022-02-08T00:00:00 with ws 21d: 29 users, ws 10YE: 56\n",
      "On fold 2022-02-10T00:00:00 with ws 21d: 31 users, ws 10YE: 56\n",
      "On fold 2022-02-12T00:00:00 with ws 21d: 31 users, ws 10YE: 56\n",
      "On fold 2022-02-14T00:00:00 with ws 21d: 31 users, ws 10YE: 56\n",
      "On fold 2022-02-16T00:00:00 with ws 21d: 31 users, ws 10YE: 56\n",
      "On fold 2022-02-18T00:00:00 with ws 21d: 32 users, ws 10YE: 56\n"
     ]
    }
   ],
   "source": [
    "_min_ws = _sorted_ws[0]\n",
    "_max_ws = _sorted_ws[-1]\n",
    "for idx in use_folds_idx:\n",
    "    nusers = filter_window_size(folds_dict[idx].train, folds_dict[idx].end, _min_ws)['userID'].nunique()\n",
    "    nusers2 = filter_window_size(folds_dict[idx].train, folds_dict[idx].end, _max_ws)['userID'].nunique()\n",
    "    print(f'On fold {idx} with ws {_min_ws}: {nusers} users, ws {_max_ws}: {nusers2}')"
   ]
  },
  {
   "cell_type": "markdown",
   "id": "c23993e0",
   "metadata": {
    "editable": true,
    "papermill": {
     "duration": 0.002685,
     "end_time": "2024-09-06T16:02:45.406238",
     "exception": false,
     "start_time": "2024-09-06T16:02:45.403553",
     "status": "completed"
    },
    "slideshow": {
     "slide_type": ""
    },
    "tags": []
   },
   "source": [
    "## Testing model"
   ]
  },
  {
   "cell_type": "code",
   "execution_count": 12,
   "id": "78ee095b",
   "metadata": {
    "execution": {
     "iopub.execute_input": "2024-09-06T16:02:45.412026Z",
     "iopub.status.busy": "2024-09-06T16:02:45.411885Z",
     "iopub.status.idle": "2024-09-06T16:02:45.431496Z",
     "shell.execute_reply": "2024-09-06T16:02:45.431303Z"
    },
    "papermill": {
     "duration": 0.02341,
     "end_time": "2024-09-06T16:02:45.432245",
     "exception": false,
     "start_time": "2024-09-06T16:02:45.408835",
     "status": "completed"
    },
    "tags": []
   },
   "outputs": [],
   "source": [
    "from recommenders.models.deeprec.DataModel.ImplicitCF import ImplicitCF\n",
    "from recommenders.models.deeprec.deeprec_utils import prepare_hparams"
   ]
  },
  {
   "cell_type": "code",
   "execution_count": 13,
   "id": "bfd7ef96",
   "metadata": {
    "editable": true,
    "execution": {
     "iopub.execute_input": "2024-09-06T16:02:45.438229Z",
     "iopub.status.busy": "2024-09-06T16:02:45.438108Z",
     "iopub.status.idle": "2024-09-06T16:02:45.456479Z",
     "shell.execute_reply": "2024-09-06T16:02:45.456284Z"
    },
    "papermill": {
     "duration": 0.022329,
     "end_time": "2024-09-06T16:02:45.457306",
     "exception": false,
     "start_time": "2024-09-06T16:02:45.434977",
     "status": "completed"
    },
    "slideshow": {
     "slide_type": ""
    },
    "tags": []
   },
   "outputs": [],
   "source": [
    "# hparams = prepare_hparams(\n",
    "#     model_type='lightgcn',\n",
    "#     n_layers=3,\n",
    "#     batch_size=512,\n",
    "#     embed_size=64,\n",
    "#     epochs=2,\n",
    "#     learning_rate=0.001,\n",
    "#     decay=0.001,\n",
    "#     metrics=[\"recall\", \"ndcg\", \"precision\", \"map\"],\n",
    "#     eval_epoch=2,\n",
    "#     top_k=K_RECOMMENDATIONS[0],\n",
    "#     save_model=False,\n",
    "#     MODEL_DIR='./data/model/lightgcn/',\n",
    "# )\n",
    "# dataloader = ImplicitCF(train=folds_dict[use_folds_idx[0]].train, test=folds_dict[use_folds_idx[0]].test, seed=SEED)\n",
    "# print(\"items:\", dataloader.n_items, \"user:\", dataloader.n_users)\n",
    "# model = LightGCNCustom(data=dataloader, hparams=hparams)"
   ]
  },
  {
   "cell_type": "code",
   "execution_count": 14,
   "id": "7bb68baf",
   "metadata": {
    "execution": {
     "iopub.execute_input": "2024-09-06T16:02:45.463413Z",
     "iopub.status.busy": "2024-09-06T16:02:45.463276Z",
     "iopub.status.idle": "2024-09-06T16:02:45.480363Z",
     "shell.execute_reply": "2024-09-06T16:02:45.480171Z"
    },
    "papermill": {
     "duration": 0.021285,
     "end_time": "2024-09-06T16:02:45.481413",
     "exception": false,
     "start_time": "2024-09-06T16:02:45.460128",
     "status": "completed"
    },
    "tags": []
   },
   "outputs": [],
   "source": [
    "# model.fit()\n",
    "# model.run_eval()"
   ]
  },
  {
   "cell_type": "code",
   "execution_count": 15,
   "id": "b4f619b0",
   "metadata": {
    "editable": true,
    "execution": {
     "iopub.execute_input": "2024-09-06T16:02:45.488050Z",
     "iopub.status.busy": "2024-09-06T16:02:45.487962Z",
     "iopub.status.idle": "2024-09-06T16:02:45.505100Z",
     "shell.execute_reply": "2024-09-06T16:02:45.504892Z"
    },
    "papermill": {
     "duration": 0.021243,
     "end_time": "2024-09-06T16:02:45.505858",
     "exception": false,
     "start_time": "2024-09-06T16:02:45.484615",
     "status": "completed"
    },
    "slideshow": {
     "slide_type": ""
    },
    "tags": []
   },
   "outputs": [],
   "source": [
    "# model.recommend_k_items(\n",
    "#     dataloader.test, \n",
    "#     top_k=3, \n",
    "#     use_id=True, \n",
    "#     remove_seen=True, \n",
    "#     recommend_from=folds_dict[use_folds_idx[0]].open_proposals\n",
    "# )"
   ]
  },
  {
   "cell_type": "markdown",
   "id": "5eead7d4",
   "metadata": {
    "papermill": {
     "duration": 0.003014,
     "end_time": "2024-09-06T16:02:45.511652",
     "exception": false,
     "start_time": "2024-09-06T16:02:45.508638",
     "status": "completed"
    },
    "tags": []
   },
   "source": [
    "## Defining trainable"
   ]
  },
  {
   "cell_type": "code",
   "execution_count": 16,
   "id": "c197e8fe",
   "metadata": {
    "execution": {
     "iopub.execute_input": "2024-09-06T16:02:45.517719Z",
     "iopub.status.busy": "2024-09-06T16:02:45.517596Z",
     "iopub.status.idle": "2024-09-06T16:02:45.534447Z",
     "shell.execute_reply": "2024-09-06T16:02:45.534259Z"
    },
    "papermill": {
     "duration": 0.020778,
     "end_time": "2024-09-06T16:02:45.535148",
     "exception": false,
     "start_time": "2024-09-06T16:02:45.514370",
     "status": "completed"
    },
    "tags": []
   },
   "outputs": [],
   "source": [
    "from recsys4daos.evaluation import calculate_all_metrics"
   ]
  },
  {
   "cell_type": "code",
   "execution_count": 17,
   "id": "4cbd73fb",
   "metadata": {
    "editable": true,
    "execution": {
     "iopub.execute_input": "2024-09-06T16:02:45.541136Z",
     "iopub.status.busy": "2024-09-06T16:02:45.541043Z",
     "iopub.status.idle": "2024-09-06T16:02:45.562146Z",
     "shell.execute_reply": "2024-09-06T16:02:45.561951Z"
    },
    "papermill": {
     "duration": 0.025015,
     "end_time": "2024-09-06T16:02:45.562889",
     "exception": false,
     "start_time": "2024-09-06T16:02:45.537874",
     "status": "completed"
    },
    "slideshow": {
     "slide_type": ""
    },
    "tags": []
   },
   "outputs": [],
   "source": [
    "class TrainLightGCN(tune.Trainable):\n",
    "    def setup(\n",
    "        self,\n",
    "        config: Dict[str, Any],\n",
    "        data,\n",
    "    ):\n",
    "        self.config = config\n",
    "        train, test, self.t, self.open_proposals = data\n",
    "        train_filtered = filter_window_size(train, self.t, config['window_size'])\n",
    "        \n",
    "        # Remove users that voted in everything\n",
    "        # see https://github.com/recommenders-team/recommenders/issues/2163\n",
    "        msk = train_filtered.groupby('userID').size() == train_filtered['itemID'].nunique()\n",
    "        train_filtered = train_filtered[train_filtered['userID'].isin(msk[~msk].index)]\n",
    "        \n",
    "        self.dataloader = ImplicitCF(train=train_filtered, test=test, seed=SEED)\n",
    "        # Some experiments will run multiple times, but that's a price to pay for\n",
    "        # usability\n",
    "        self.real_batch_size = min(2**config['batch_size'], self.dataloader.n_users_in_train)\n",
    "\n",
    "        self.hparams = prepare_hparams(\n",
    "            model_type='lightgcn',\n",
    "            n_layers=config['conv_layers'],\n",
    "            batch_size=self.real_batch_size,\n",
    "            embed_size=config['embedding_dim'],\n",
    "            epochs=EPOCHS_PER_ITER,\n",
    "            learning_rate=config['learning_rate'],\n",
    "            decay=config['l2'],\n",
    "            metrics=METRICS,\n",
    "            eval_epoch=-1,\n",
    "            top_k=K_RECOMMENDATIONS[0],\n",
    "            save_model=False,\n",
    "            MODEL_DIR='./data/model/lightgcn/',\n",
    "        )\n",
    "        self.model = LightGCNCustom(self.hparams, self.dataloader, seed=SEED)\n",
    "        self.total_train = 0\n",
    "        self.total_eval = 0\n",
    "\n",
    "    @property\n",
    "    def iteration(self):\n",
    "        return self.model.epochs_done\n",
    "\n",
    "    @property\n",
    "    def training_iteration(self):\n",
    "        return self.model.epochs_done\n",
    "\n",
    "    def step(self):\n",
    "        \"\"\"\n",
    "        As a rule of thumb, the execution time of step should be large enough to avoid overheads \n",
    "        (i.e. more than a few seconds), but short enough to report progress periodically \n",
    "        (i.e. at most a few minutes).\n",
    "        \"\"\"\n",
    "        assert EPOCHS_PER_ITER > 0\n",
    "\n",
    "        with Timer() as t_train:\n",
    "            for _ in range(EPOCHS_PER_ITER):\n",
    "                ret = self.model.fit_epoch()\n",
    "\n",
    "\n",
    "        with Timer() as t_rec:\n",
    "            recs = self.model.recommend_k_items(\n",
    "                self.dataloader.test, # Used only to get user ids\n",
    "                top_k=max(K_RECOMMENDATIONS),\n",
    "                use_id=True,\n",
    "                remove_seen=True,\n",
    "                recommend_from=self.open_proposals,\n",
    "            )\n",
    "        \n",
    "        eval_dict = {'model_'+k:v for k,v in zip(self.model.metrics, self.model.run_eval())}\n",
    "        eval_dict |= calculate_all_metrics(self.dataloader.test, recs, K_RECOMMENDATIONS)\n",
    "\n",
    "        self.total_train += t_train.time\n",
    "        self.total_eval += eval_dict['time_eval']\n",
    "        \n",
    "        return {\n",
    "            'real_batch_size': self.real_batch_size,\n",
    "            'iteration': self.iteration,\n",
    "            'loss': ret[0],\n",
    "            'mf_loss': ret[1],\n",
    "            'emb_loss': ret[2],\n",
    "            **eval_dict,\n",
    "            'time_train': t_train.time,\n",
    "            'time_rec': t_rec.time,\n",
    "            'time_total_train': self.total_train,\n",
    "            'time_total_test': self.total_eval,\n",
    "        }\n",
    "\n",
    "    def save_checkpoint(self, checkpoint_dir):\n",
    "        checkpoint_path = os.path.join(checkpoint_dir, \"model\")\n",
    "        self.model.saver.save(\n",
    "            sess=self.model.sess,\n",
    "            save_path=checkpoint_path,\n",
    "        )\n",
    "        return checkpoint_dir\n",
    "\n",
    "    def load_checkpoint(self, checkpoint_path):\n",
    "        self.model.load(checkpoint_path)"
   ]
  },
  {
   "cell_type": "markdown",
   "id": "13fa516a",
   "metadata": {
    "editable": true,
    "papermill": {
     "duration": 0.002867,
     "end_time": "2024-09-06T16:02:45.568537",
     "exception": false,
     "start_time": "2024-09-06T16:02:45.565670",
     "status": "completed"
    },
    "slideshow": {
     "slide_type": ""
    },
    "tags": []
   },
   "source": [
    "## Big experiment"
   ]
  },
  {
   "cell_type": "code",
   "execution_count": 18,
   "id": "d98aaafa",
   "metadata": {
    "editable": true,
    "execution": {
     "iopub.execute_input": "2024-09-06T16:02:45.574539Z",
     "iopub.status.busy": "2024-09-06T16:02:45.574418Z",
     "iopub.status.idle": "2024-09-06T16:02:45.591318Z",
     "shell.execute_reply": "2024-09-06T16:02:45.591138Z"
    },
    "papermill": {
     "duration": 0.020788,
     "end_time": "2024-09-06T16:02:45.592027",
     "exception": false,
     "start_time": "2024-09-06T16:02:45.571239",
     "status": "completed"
    },
    "slideshow": {
     "slide_type": ""
    },
    "tags": []
   },
   "outputs": [
    {
     "data": {
      "text/plain": [
       "PosixPath('/home/daviddavo/ray_results3.11')"
      ]
     },
     "execution_count": 18,
     "metadata": {},
     "output_type": "execute_result"
    }
   ],
   "source": [
    "RAY_RESULTS_PATH"
   ]
  },
  {
   "cell_type": "code",
   "execution_count": 19,
   "id": "62de5f41",
   "metadata": {
    "editable": true,
    "execution": {
     "iopub.execute_input": "2024-09-06T16:02:45.598864Z",
     "iopub.status.busy": "2024-09-06T16:02:45.598743Z",
     "iopub.status.idle": "2024-09-06T16:02:45.616108Z",
     "shell.execute_reply": "2024-09-06T16:02:45.615919Z"
    },
    "papermill": {
     "duration": 0.021627,
     "end_time": "2024-09-06T16:02:45.616831",
     "exception": false,
     "start_time": "2024-09-06T16:02:45.595204",
     "status": "completed"
    },
    "slideshow": {
     "slide_type": ""
    },
    "tags": []
   },
   "outputs": [
    {
     "name": "stdout",
     "output_type": "stream",
     "text": [
      "lamarck\n",
      "{'cpu': 1, 'gpu': 0.0625}\n"
     ]
    }
   ],
   "source": [
    "print(os.uname().nodename)\n",
    "\n",
    "### SET TRAINING RESOURCES\n",
    "if os.uname().nodename == 'lamarck':\n",
    "    # assert torch.cuda.is_available()\n",
    "\n",
    "    NUM_SAMPLES = SAMPLES_PER_SPLIT\n",
    "    # Every run takes approx half a gig of vram (no optimizations)\n",
    "    # The RTX 4090 has 24GB so we can run the model about 48 times\n",
    "    resources_per_trial={\n",
    "        'cpu': 1,\n",
    "        'gpu': 1 / GPUS,\n",
    "    }\n",
    "else:\n",
    "    NUM_SAMPLES = 1\n",
    "    resources_per_trial={\n",
    "        'cpu': 1,\n",
    "        # It takes about 1.5 GiB with full training data, but I put a bit more because\n",
    "        # this notebook also takes a bit of memory\n",
    "        'memory': 2e9,\n",
    "    }\n",
    "print(resources_per_trial)"
   ]
  },
  {
   "cell_type": "code",
   "execution_count": 20,
   "id": "93642d54",
   "metadata": {
    "editable": true,
    "execution": {
     "iopub.execute_input": "2024-09-06T16:02:45.623184Z",
     "iopub.status.busy": "2024-09-06T16:02:45.623093Z",
     "iopub.status.idle": "2024-09-06T16:02:45.712483Z",
     "shell.execute_reply": "2024-09-06T16:02:45.712163Z"
    },
    "papermill": {
     "duration": 0.093783,
     "end_time": "2024-09-06T16:02:45.713475",
     "exception": false,
     "start_time": "2024-09-06T16:02:45.619692",
     "status": "completed"
    },
    "slideshow": {
     "slide_type": ""
    },
    "tags": []
   },
   "outputs": [],
   "source": [
    "from ray.tune.search.hyperopt import HyperOptSearch"
   ]
  },
  {
   "cell_type": "code",
   "execution_count": 21,
   "id": "f8883b82",
   "metadata": {
    "editable": true,
    "execution": {
     "iopub.execute_input": "2024-09-06T16:02:45.720281Z",
     "iopub.status.busy": "2024-09-06T16:02:45.720015Z",
     "iopub.status.idle": "2024-09-06T16:02:45.744354Z",
     "shell.execute_reply": "2024-09-06T16:02:45.744147Z"
    },
    "papermill": {
     "duration": 0.028604,
     "end_time": "2024-09-06T16:02:45.745144",
     "exception": false,
     "start_time": "2024-09-06T16:02:45.716540",
     "status": "completed"
    },
    "slideshow": {
     "slide_type": ""
    },
    "tags": []
   },
   "outputs": [],
   "source": [
    "def getTunerOnFold(f_idx, points_to_evaluate = None):    \n",
    "    name = paths.lightgcn_ray_tune_fname(ORG_NAME, SPLITS_FREQ, SPLITS_NORMALIZE, OPTIM_METRIC, fold=f_idx)\n",
    "    experiments = list(RAY_RESULTS_PATH.glob(f'{name}_*'))\n",
    "    last_experiment = max(experiments, key=lambda x: x.stat().st_ctime) if experiments else None\n",
    "    f = folds_dict[f_idx]\n",
    "\n",
    "    dftrain,dftest,t,open_proposals = folds_dict[f_idx]\n",
    "    param_space = dict(\n",
    "        batch_size=tune.randint(MIN_BATCH_SIZE, MAX_BATCH_SIZE+1), # 64 - 2**MAX_BATCH_SIZE\n",
    "        embedding_dim=tune.lograndint(1, MAX_EMBEDDING_DIM, base=2),\n",
    "        conv_layers=tune.randint(1,5),\n",
    "        learning_rate=tune.qloguniform(MIN_LR, 1, 1e-4),\n",
    "        l2=tune.loguniform(1e-7, 1e-2, 1e-7),\n",
    "        window_size=tune.choice(WINDOW_SIZES),\n",
    "        # Just so it appears on the output\n",
    "        fold=f_idx,\n",
    "    )\n",
    "    \n",
    "    ### RESTORE EXPERIMENT OR CREATE A NEW ONE\n",
    "    if last_experiment and tune.Tuner.can_restore(last_experiment):\n",
    "        print(f\"Restoring last experiment: {last_experiment}\")\n",
    "        tuner = tune.Tuner.restore(\n",
    "            str(last_experiment),\n",
    "            trainable=tune.with_resources(\n",
    "                # tune.with_parameters(TrainLightGCN,  train=dftrain, test=dftest, open_proposals=open_proposals),\n",
    "                tune.with_parameters(TrainLightGCN, data=f),\n",
    "                resources_per_trial,\n",
    "            ),\n",
    "            restart_errored=True,\n",
    "            param_space=param_space,\n",
    "        )\n",
    "    else:\n",
    "        print(f\"No experiment found for fold {f_idx}, creating new tuner with {NUM_SAMPLES} samples\")\n",
    "        search_alg = None\n",
    "        \n",
    "        search_alg = HyperOptSearch(\n",
    "            points_to_evaluate = points_to_evaluate,\n",
    "            random_state_seed=SEED,\n",
    "        )\n",
    "        # search_alg = tune.search.Repeater(search_alg, N_SPLITS-SKIP_SPLIT)\n",
    "        \n",
    "        tuner = tune.Tuner(\n",
    "            tune.with_resources(\n",
    "                # tune.with_parameters(TrainLightGCN,  train=dftrain, test=dftest, open_proposals=open_proposals),\n",
    "                tune.with_parameters(TrainLightGCN, data=folds_dict[f_idx]),\n",
    "                resources_per_trial,\n",
    "            ),\n",
    "            run_config=train.RunConfig(\n",
    "                stop={'training_iteration': MAX_EPOCHS/EPOCHS_PER_ITER, 'time_total_train': MAX_TIME_TOTAL_TRAIN},\n",
    "                name=name + f'_{dt.datetime.now().isoformat()}',\n",
    "                storage_path=RAY_RESULTS_PATH,\n",
    "                # failure_config=train.FailureConfig(fail_fast='raise'),\n",
    "                failure_config=train.FailureConfig(max_failures=3),\n",
    "            ),\n",
    "            param_space=param_space,\n",
    "            tune_config=tune.TuneConfig(\n",
    "                search_alg=search_alg,\n",
    "                num_samples=NUM_SAMPLES,\n",
    "                metric=OPTIM_METRIC,\n",
    "                mode='max',\n",
    "            )\n",
    "        )\n",
    "\n",
    "    return tuner"
   ]
  },
  {
   "cell_type": "code",
   "execution_count": 22,
   "id": "dccca639",
   "metadata": {
    "editable": true,
    "execution": {
     "iopub.execute_input": "2024-09-06T16:02:45.751822Z",
     "iopub.status.busy": "2024-09-06T16:02:45.751697Z",
     "iopub.status.idle": "2024-09-06T16:02:45.778360Z",
     "shell.execute_reply": "2024-09-06T16:02:45.778167Z"
    },
    "papermill": {
     "duration": 0.030812,
     "end_time": "2024-09-06T16:02:45.779028",
     "exception": false,
     "start_time": "2024-09-06T16:02:45.748216",
     "status": "completed"
    },
    "slideshow": {
     "slide_type": ""
    },
    "tags": []
   },
   "outputs": [
    {
     "data": {
      "application/vnd.jupyter.widget-view+json": {
       "model_id": "6b56186a219f44e28193a7fdbe5c2eb5",
       "version_major": 2,
       "version_minor": 0
      },
      "text/plain": [
       "fold:   0%|          | 0/10 [00:00<?, ?it/s]"
      ]
     },
     "metadata": {},
     "output_type": "display_data"
    },
    {
     "data": {
      "application/vnd.jupyter.widget-view+json": {
       "model_id": "ecb15d61e97e4f1282a1e6ebdea0079f",
       "version_major": 2,
       "version_minor": 0
      },
      "text/plain": [
       "Output(layout=Layout(border_bottom='1px solid black', border_left='1px solid black', border_right='1px solid b…"
      ]
     },
     "execution_count": 22,
     "metadata": {},
     "output_type": "execute_result"
    }
   ],
   "source": [
    "# We need to display the progress bar in another cell because ray tune \"overwrites\" the previous output\n",
    "pbar = tqdm(total=len(use_folds_idx), desc='fold')\n",
    "out = widgets.Output(layout={'border': '1px solid black'})\n",
    "with out:\n",
    "    print(\"In this cell important output from the next cell will be shown\")\n",
    "out"
   ]
  },
  {
   "cell_type": "code",
   "execution_count": 23,
   "id": "0f556bc5",
   "metadata": {
    "editable": true,
    "execution": {
     "iopub.execute_input": "2024-09-06T16:02:45.786596Z",
     "iopub.status.busy": "2024-09-06T16:02:45.786428Z",
     "iopub.status.idle": "2024-09-06T17:00:48.529746Z",
     "shell.execute_reply": "2024-09-06T17:00:48.527507Z"
    },
    "papermill": {
     "duration": 3482.751209,
     "end_time": "2024-09-06T17:00:48.533847",
     "exception": false,
     "start_time": "2024-09-06T16:02:45.782638",
     "status": "completed"
    },
    "slideshow": {
     "slide_type": ""
    },
    "tags": []
   },
   "outputs": [
    {
     "data": {
      "text/html": [
       "<div class=\"tuneStatus\">\n",
       "  <div style=\"display: flex;flex-direction: row\">\n",
       "    <div style=\"display: flex;flex-direction: column;\">\n",
       "      <h3>Tune Status</h3>\n",
       "      <table>\n",
       "<tbody>\n",
       "<tr><td>Current time:</td><td>2024-09-06 17:00:48</td></tr>\n",
       "<tr><td>Running for: </td><td>00:00:00.35        </td></tr>\n",
       "<tr><td>Memory:      </td><td>8.8/125.6 GiB      </td></tr>\n",
       "</tbody>\n",
       "</table>\n",
       "    </div>\n",
       "    <div class=\"vDivider\"></div>\n",
       "    <div class=\"systemInfo\">\n",
       "      <h3>System Info</h3>\n",
       "      Using FIFO scheduling algorithm.<br>Logical resource usage: 0/24 CPUs, 0/1 GPUs (0.0/1.0 accelerator_type:G)\n",
       "    </div>\n",
       "    \n",
       "  </div>\n",
       "  <div class=\"hDivider\"></div>\n",
       "  <div class=\"trialStatus\">\n",
       "    <h3>Trial Status</h3>\n",
       "    <table>\n",
       "<thead>\n",
       "<tr><th>Trial name            </th><th>status    </th><th>loc                 </th><th style=\"text-align: right;\">  batch_size</th><th style=\"text-align: right;\">  conv_layers</th><th style=\"text-align: right;\">  embedding_dim</th><th>fold               </th><th style=\"text-align: right;\">         l2</th><th style=\"text-align: right;\">  learning_rate</th><th>window_size  </th><th style=\"text-align: right;\">  iter</th><th style=\"text-align: right;\">  total time (s)</th><th style=\"text-align: right;\">  real_batch_size</th><th style=\"text-align: right;\">  iteration</th><th style=\"text-align: right;\">       loss</th></tr>\n",
       "</thead>\n",
       "<tbody>\n",
       "<tr><td>TrainLightGCN_8cdd9a13</td><td>TERMINATED</td><td>147.96.81.131:290866</td><td style=\"text-align: right;\">           8</td><td style=\"text-align: right;\">            4</td><td style=\"text-align: right;\">              3</td><td>2022-02-18T00:00:00</td><td style=\"text-align: right;\">0.00686062 </td><td style=\"text-align: right;\">         0.0349</td><td>30d          </td><td style=\"text-align: right;\">    40</td><td style=\"text-align: right;\">         6.60287</td><td style=\"text-align: right;\">               33</td><td style=\"text-align: right;\">        200</td><td style=\"text-align: right;\">0.257932   </td></tr>\n",
       "<tr><td>TrainLightGCN_1439a745</td><td>TERMINATED</td><td>147.96.81.131:290711</td><td style=\"text-align: right;\">           9</td><td style=\"text-align: right;\">            3</td><td style=\"text-align: right;\">              5</td><td>2022-02-18T00:00:00</td><td style=\"text-align: right;\">1.7161e-07 </td><td style=\"text-align: right;\">         0.2338</td><td>10YE         </td><td style=\"text-align: right;\">    40</td><td style=\"text-align: right;\">         8.54503</td><td style=\"text-align: right;\">               56</td><td style=\"text-align: right;\">        200</td><td style=\"text-align: right;\">0.122993   </td></tr>\n",
       "<tr><td>TrainLightGCN_56723ad0</td><td>TERMINATED</td><td>147.96.81.131:290560</td><td style=\"text-align: right;\">          10</td><td style=\"text-align: right;\">            4</td><td style=\"text-align: right;\">             16</td><td>2022-02-18T00:00:00</td><td style=\"text-align: right;\">0.000177185</td><td style=\"text-align: right;\">         0.062 </td><td>21d          </td><td style=\"text-align: right;\">    40</td><td style=\"text-align: right;\">         6.16896</td><td style=\"text-align: right;\">               32</td><td style=\"text-align: right;\">        200</td><td style=\"text-align: right;\">0.0087943  </td></tr>\n",
       "<tr><td>TrainLightGCN_0f89aa62</td><td>TERMINATED</td><td>147.96.81.131:290410</td><td style=\"text-align: right;\">           8</td><td style=\"text-align: right;\">            1</td><td style=\"text-align: right;\">              1</td><td>2022-02-18T00:00:00</td><td style=\"text-align: right;\">2.53818e-07</td><td style=\"text-align: right;\">         0.0001</td><td>30d          </td><td style=\"text-align: right;\">    40</td><td style=\"text-align: right;\">         6.47677</td><td style=\"text-align: right;\">               33</td><td style=\"text-align: right;\">        200</td><td style=\"text-align: right;\">0.680838   </td></tr>\n",
       "<tr><td>TrainLightGCN_99ef8c94</td><td>TERMINATED</td><td>147.96.81.131:290260</td><td style=\"text-align: right;\">           9</td><td style=\"text-align: right;\">            3</td><td style=\"text-align: right;\">              1</td><td>2022-02-18T00:00:00</td><td style=\"text-align: right;\">0.00208129 </td><td style=\"text-align: right;\">         0.5107</td><td>60d          </td><td style=\"text-align: right;\">    40</td><td style=\"text-align: right;\">         7.42181</td><td style=\"text-align: right;\">               36</td><td style=\"text-align: right;\">        200</td><td style=\"text-align: right;\">0.421231   </td></tr>\n",
       "<tr><td>TrainLightGCN_18882bb4</td><td>TERMINATED</td><td>147.96.81.131:290111</td><td style=\"text-align: right;\">          10</td><td style=\"text-align: right;\">            1</td><td style=\"text-align: right;\">              5</td><td>2022-02-18T00:00:00</td><td style=\"text-align: right;\">0.000629463</td><td style=\"text-align: right;\">         0.0055</td><td>90d          </td><td style=\"text-align: right;\">    40</td><td style=\"text-align: right;\">         7.51745</td><td style=\"text-align: right;\">               39</td><td style=\"text-align: right;\">        200</td><td style=\"text-align: right;\">0.0723414  </td></tr>\n",
       "<tr><td>TrainLightGCN_849317b9</td><td>TERMINATED</td><td>147.96.81.131:289960</td><td style=\"text-align: right;\">          10</td><td style=\"text-align: right;\">            2</td><td style=\"text-align: right;\">             22</td><td>2022-02-18T00:00:00</td><td style=\"text-align: right;\">0.000306185</td><td style=\"text-align: right;\">         0.002 </td><td>10YE         </td><td style=\"text-align: right;\">    40</td><td style=\"text-align: right;\">         8.71826</td><td style=\"text-align: right;\">               56</td><td style=\"text-align: right;\">        200</td><td style=\"text-align: right;\">0.0223122  </td></tr>\n",
       "<tr><td>TrainLightGCN_d74b4087</td><td>TERMINATED</td><td>147.96.81.131:289816</td><td style=\"text-align: right;\">           8</td><td style=\"text-align: right;\">            2</td><td style=\"text-align: right;\">              4</td><td>2022-02-18T00:00:00</td><td style=\"text-align: right;\">1.025e-05  </td><td style=\"text-align: right;\">         0.0041</td><td>60d          </td><td style=\"text-align: right;\">    40</td><td style=\"text-align: right;\">         7.65527</td><td style=\"text-align: right;\">               36</td><td style=\"text-align: right;\">        200</td><td style=\"text-align: right;\">0.173417   </td></tr>\n",
       "<tr><td>TrainLightGCN_5a769912</td><td>TERMINATED</td><td>147.96.81.131:289668</td><td style=\"text-align: right;\">           9</td><td style=\"text-align: right;\">            1</td><td style=\"text-align: right;\">              2</td><td>2022-02-18T00:00:00</td><td style=\"text-align: right;\">0.00011515 </td><td style=\"text-align: right;\">         0.0003</td><td>60d          </td><td style=\"text-align: right;\">    40</td><td style=\"text-align: right;\">         7.64266</td><td style=\"text-align: right;\">               36</td><td style=\"text-align: right;\">        200</td><td style=\"text-align: right;\">0.610486   </td></tr>\n",
       "<tr><td>TrainLightGCN_f0bee29c</td><td>TERMINATED</td><td>147.96.81.131:289510</td><td style=\"text-align: right;\">          10</td><td style=\"text-align: right;\">            2</td><td style=\"text-align: right;\">              1</td><td>2022-02-18T00:00:00</td><td style=\"text-align: right;\">2.5732e-05 </td><td style=\"text-align: right;\">         0.0028</td><td>30d          </td><td style=\"text-align: right;\">    40</td><td style=\"text-align: right;\">         6.65937</td><td style=\"text-align: right;\">               33</td><td style=\"text-align: right;\">        200</td><td style=\"text-align: right;\">0.424684   </td></tr>\n",
       "<tr><td>TrainLightGCN_b8b73dbc</td><td>TERMINATED</td><td>147.96.81.131:289359</td><td style=\"text-align: right;\">           9</td><td style=\"text-align: right;\">            3</td><td style=\"text-align: right;\">              6</td><td>2022-02-18T00:00:00</td><td style=\"text-align: right;\">1.34169e-07</td><td style=\"text-align: right;\">         0.0016</td><td>21d          </td><td style=\"text-align: right;\">    40</td><td style=\"text-align: right;\">         6.24676</td><td style=\"text-align: right;\">               32</td><td style=\"text-align: right;\">        200</td><td style=\"text-align: right;\">0.205286   </td></tr>\n",
       "<tr><td>TrainLightGCN_e0b6196b</td><td>TERMINATED</td><td>147.96.81.131:289218</td><td style=\"text-align: right;\">          10</td><td style=\"text-align: right;\">            3</td><td style=\"text-align: right;\">             70</td><td>2022-02-18T00:00:00</td><td style=\"text-align: right;\">1.92675e-06</td><td style=\"text-align: right;\">         0.0005</td><td>21d          </td><td style=\"text-align: right;\">    40</td><td style=\"text-align: right;\">         6.2325 </td><td style=\"text-align: right;\">               32</td><td style=\"text-align: right;\">        200</td><td style=\"text-align: right;\">0.169286   </td></tr>\n",
       "<tr><td>TrainLightGCN_c3a02d8d</td><td>TERMINATED</td><td>147.96.81.131:289059</td><td style=\"text-align: right;\">          10</td><td style=\"text-align: right;\">            1</td><td style=\"text-align: right;\">             34</td><td>2022-02-18T00:00:00</td><td style=\"text-align: right;\">7.78009e-07</td><td style=\"text-align: right;\">         0.0002</td><td>60d          </td><td style=\"text-align: right;\">    40</td><td style=\"text-align: right;\">         7.27469</td><td style=\"text-align: right;\">               36</td><td style=\"text-align: right;\">        200</td><td style=\"text-align: right;\">0.316397   </td></tr>\n",
       "<tr><td>TrainLightGCN_67b3dee6</td><td>TERMINATED</td><td>147.96.81.131:288910</td><td style=\"text-align: right;\">           7</td><td style=\"text-align: right;\">            1</td><td style=\"text-align: right;\">            270</td><td>2022-02-18T00:00:00</td><td style=\"text-align: right;\">6.57304e-06</td><td style=\"text-align: right;\">         0.0001</td><td>90d          </td><td style=\"text-align: right;\">    40</td><td style=\"text-align: right;\">         7.49156</td><td style=\"text-align: right;\">               39</td><td style=\"text-align: right;\">        200</td><td style=\"text-align: right;\">0.200231   </td></tr>\n",
       "<tr><td>TrainLightGCN_78f9aed3</td><td>TERMINATED</td><td>147.96.81.131:288764</td><td style=\"text-align: right;\">           9</td><td style=\"text-align: right;\">            3</td><td style=\"text-align: right;\">              3</td><td>2022-02-18T00:00:00</td><td style=\"text-align: right;\">4.13934e-05</td><td style=\"text-align: right;\">         0.123 </td><td>21d          </td><td style=\"text-align: right;\">    40</td><td style=\"text-align: right;\">         6.20837</td><td style=\"text-align: right;\">               32</td><td style=\"text-align: right;\">        200</td><td style=\"text-align: right;\">0.106769   </td></tr>\n",
       "<tr><td>TrainLightGCN_e9938238</td><td>TERMINATED</td><td>147.96.81.131:288615</td><td style=\"text-align: right;\">           6</td><td style=\"text-align: right;\">            2</td><td style=\"text-align: right;\">            834</td><td>2022-02-18T00:00:00</td><td style=\"text-align: right;\">4.64938e-05</td><td style=\"text-align: right;\">         0.0008</td><td>10YE         </td><td style=\"text-align: right;\">    40</td><td style=\"text-align: right;\">         8.57791</td><td style=\"text-align: right;\">               56</td><td style=\"text-align: right;\">        200</td><td style=\"text-align: right;\">0.00360201 </td></tr>\n",
       "<tr><td>TrainLightGCN_2b83cb4c</td><td>TERMINATED</td><td>147.96.81.131:288468</td><td style=\"text-align: right;\">           8</td><td style=\"text-align: right;\">            1</td><td style=\"text-align: right;\">             12</td><td>2022-02-18T00:00:00</td><td style=\"text-align: right;\">0.00874645 </td><td style=\"text-align: right;\">         0.0006</td><td>60d          </td><td style=\"text-align: right;\">    40</td><td style=\"text-align: right;\">         7.50626</td><td style=\"text-align: right;\">               36</td><td style=\"text-align: right;\">        200</td><td style=\"text-align: right;\">0.246023   </td></tr>\n",
       "<tr><td>TrainLightGCN_b0497509</td><td>TERMINATED</td><td>147.96.81.131:288326</td><td style=\"text-align: right;\">          10</td><td style=\"text-align: right;\">            1</td><td style=\"text-align: right;\">              2</td><td>2022-02-18T00:00:00</td><td style=\"text-align: right;\">0.00499277 </td><td style=\"text-align: right;\">         0.0003</td><td>60d          </td><td style=\"text-align: right;\">    40</td><td style=\"text-align: right;\">         7.43835</td><td style=\"text-align: right;\">               36</td><td style=\"text-align: right;\">        200</td><td style=\"text-align: right;\">0.614885   </td></tr>\n",
       "<tr><td>TrainLightGCN_8b4bfd9d</td><td>TERMINATED</td><td>147.96.81.131:288168</td><td style=\"text-align: right;\">           9</td><td style=\"text-align: right;\">            4</td><td style=\"text-align: right;\">              1</td><td>2022-02-18T00:00:00</td><td style=\"text-align: right;\">2.92324e-07</td><td style=\"text-align: right;\">         0.0133</td><td>30d          </td><td style=\"text-align: right;\">    40</td><td style=\"text-align: right;\">         6.81345</td><td style=\"text-align: right;\">               33</td><td style=\"text-align: right;\">        200</td><td style=\"text-align: right;\">0.365405   </td></tr>\n",
       "<tr><td>TrainLightGCN_ed3a49aa</td><td>TERMINATED</td><td>147.96.81.131:288020</td><td style=\"text-align: right;\">          10</td><td style=\"text-align: right;\">            4</td><td style=\"text-align: right;\">              1</td><td>2022-02-18T00:00:00</td><td style=\"text-align: right;\">2.08526e-05</td><td style=\"text-align: right;\">         0.0067</td><td>30d          </td><td style=\"text-align: right;\">    40</td><td style=\"text-align: right;\">         6.69013</td><td style=\"text-align: right;\">               33</td><td style=\"text-align: right;\">        200</td><td style=\"text-align: right;\">0.391638   </td></tr>\n",
       "<tr><td>TrainLightGCN_a3d814b2</td><td>TERMINATED</td><td>147.96.81.131:287872</td><td style=\"text-align: right;\">          10</td><td style=\"text-align: right;\">            3</td><td style=\"text-align: right;\">              1</td><td>2022-02-18T00:00:00</td><td style=\"text-align: right;\">4.2992e-06 </td><td style=\"text-align: right;\">         0.0004</td><td>30d          </td><td style=\"text-align: right;\">    40</td><td style=\"text-align: right;\">         6.44807</td><td style=\"text-align: right;\">               33</td><td style=\"text-align: right;\">        200</td><td style=\"text-align: right;\">0.65578    </td></tr>\n",
       "<tr><td>TrainLightGCN_c8d2e0ec</td><td>TERMINATED</td><td>147.96.81.131:287731</td><td style=\"text-align: right;\">          10</td><td style=\"text-align: right;\">            1</td><td style=\"text-align: right;\">              8</td><td>2022-02-18T00:00:00</td><td style=\"text-align: right;\">0.0016238  </td><td style=\"text-align: right;\">         0.0103</td><td>60d          </td><td style=\"text-align: right;\">    40</td><td style=\"text-align: right;\">         7.52636</td><td style=\"text-align: right;\">               36</td><td style=\"text-align: right;\">        200</td><td style=\"text-align: right;\">0.0470573  </td></tr>\n",
       "<tr><td>TrainLightGCN_cd55f5e7</td><td>TERMINATED</td><td>147.96.81.131:287581</td><td style=\"text-align: right;\">           9</td><td style=\"text-align: right;\">            2</td><td style=\"text-align: right;\">              2</td><td>2022-02-18T00:00:00</td><td style=\"text-align: right;\">0.000156379</td><td style=\"text-align: right;\">         0.0037</td><td>90d          </td><td style=\"text-align: right;\">    40</td><td style=\"text-align: right;\">         7.60143</td><td style=\"text-align: right;\">               39</td><td style=\"text-align: right;\">        200</td><td style=\"text-align: right;\">0.28114    </td></tr>\n",
       "<tr><td>TrainLightGCN_5345239e</td><td>TERMINATED</td><td>147.96.81.131:287434</td><td style=\"text-align: right;\">           9</td><td style=\"text-align: right;\">            1</td><td style=\"text-align: right;\">              2</td><td>2022-02-18T00:00:00</td><td style=\"text-align: right;\">0.000380952</td><td style=\"text-align: right;\">         0.0009</td><td>60d          </td><td style=\"text-align: right;\">    40</td><td style=\"text-align: right;\">         7.21566</td><td style=\"text-align: right;\">               36</td><td style=\"text-align: right;\">        200</td><td style=\"text-align: right;\">0.406962   </td></tr>\n",
       "<tr><td>TrainLightGCN_c2731974</td><td>TERMINATED</td><td>147.96.81.131:287284</td><td style=\"text-align: right;\">          10</td><td style=\"text-align: right;\">            4</td><td style=\"text-align: right;\">              3</td><td>2022-02-18T00:00:00</td><td style=\"text-align: right;\">0.000832174</td><td style=\"text-align: right;\">         0.0054</td><td>21d          </td><td style=\"text-align: right;\">    40</td><td style=\"text-align: right;\">         6.1277 </td><td style=\"text-align: right;\">               32</td><td style=\"text-align: right;\">        200</td><td style=\"text-align: right;\">0.154723   </td></tr>\n",
       "<tr><td>TrainLightGCN_2fffb990</td><td>TERMINATED</td><td>147.96.81.131:287134</td><td style=\"text-align: right;\">          10</td><td style=\"text-align: right;\">            4</td><td style=\"text-align: right;\">             20</td><td>2022-02-18T00:00:00</td><td style=\"text-align: right;\">0.00118135 </td><td style=\"text-align: right;\">         0.0162</td><td>21d          </td><td style=\"text-align: right;\">    40</td><td style=\"text-align: right;\">         6.14896</td><td style=\"text-align: right;\">               32</td><td style=\"text-align: right;\">        200</td><td style=\"text-align: right;\">0.0419925  </td></tr>\n",
       "<tr><td>TrainLightGCN_cd378523</td><td>TERMINATED</td><td>147.96.81.131:286978</td><td style=\"text-align: right;\">           9</td><td style=\"text-align: right;\">            3</td><td style=\"text-align: right;\">              6</td><td>2022-02-18T00:00:00</td><td style=\"text-align: right;\">7.12884e-05</td><td style=\"text-align: right;\">         0.0013</td><td>21d          </td><td style=\"text-align: right;\">    40</td><td style=\"text-align: right;\">         6.12852</td><td style=\"text-align: right;\">               32</td><td style=\"text-align: right;\">        200</td><td style=\"text-align: right;\">0.266722   </td></tr>\n",
       "<tr><td>TrainLightGCN_cbebefec</td><td>TERMINATED</td><td>147.96.81.131:286829</td><td style=\"text-align: right;\">          10</td><td style=\"text-align: right;\">            3</td><td style=\"text-align: right;\">              5</td><td>2022-02-18T00:00:00</td><td style=\"text-align: right;\">1.32294e-07</td><td style=\"text-align: right;\">         0.0013</td><td>21d          </td><td style=\"text-align: right;\">    40</td><td style=\"text-align: right;\">         6.08556</td><td style=\"text-align: right;\">               32</td><td style=\"text-align: right;\">        200</td><td style=\"text-align: right;\">0.319903   </td></tr>\n",
       "<tr><td>TrainLightGCN_e7cf8c73</td><td>TERMINATED</td><td>147.96.81.131:286687</td><td style=\"text-align: right;\">          10</td><td style=\"text-align: right;\">            3</td><td style=\"text-align: right;\">              4</td><td>2022-02-18T00:00:00</td><td style=\"text-align: right;\">0.000196777</td><td style=\"text-align: right;\">         0.0002</td><td>21d          </td><td style=\"text-align: right;\">    40</td><td style=\"text-align: right;\">         6.15783</td><td style=\"text-align: right;\">               32</td><td style=\"text-align: right;\">        200</td><td style=\"text-align: right;\">0.668477   </td></tr>\n",
       "<tr><td>TrainLightGCN_66bc7f30</td><td>TERMINATED</td><td>147.96.81.131:286539</td><td style=\"text-align: right;\">           9</td><td style=\"text-align: right;\">            4</td><td style=\"text-align: right;\">              1</td><td>2022-02-18T00:00:00</td><td style=\"text-align: right;\">4.25035e-07</td><td style=\"text-align: right;\">         0.0001</td><td>30d          </td><td style=\"text-align: right;\">    40</td><td style=\"text-align: right;\">         6.63911</td><td style=\"text-align: right;\">               33</td><td style=\"text-align: right;\">        200</td><td style=\"text-align: right;\">0.688561   </td></tr>\n",
       "<tr><td>TrainLightGCN_ff197f09</td><td>TERMINATED</td><td>147.96.81.131:286390</td><td style=\"text-align: right;\">          10</td><td style=\"text-align: right;\">            3</td><td style=\"text-align: right;\">              1</td><td>2022-02-18T00:00:00</td><td style=\"text-align: right;\">4.03876e-05</td><td style=\"text-align: right;\">         0.1132</td><td>30d          </td><td style=\"text-align: right;\">    40</td><td style=\"text-align: right;\">         6.71045</td><td style=\"text-align: right;\">               33</td><td style=\"text-align: right;\">        200</td><td style=\"text-align: right;\">0.334437   </td></tr>\n",
       "<tr><td>TrainLightGCN_26b411b5</td><td>TERMINATED</td><td>147.96.81.131:286234</td><td style=\"text-align: right;\">          10</td><td style=\"text-align: right;\">            1</td><td style=\"text-align: right;\">              2</td><td>2022-02-18T00:00:00</td><td style=\"text-align: right;\">1.74929e-05</td><td style=\"text-align: right;\">         0.0001</td><td>30d          </td><td style=\"text-align: right;\">    40</td><td style=\"text-align: right;\">         6.38439</td><td style=\"text-align: right;\">               33</td><td style=\"text-align: right;\">        200</td><td style=\"text-align: right;\">0.67684    </td></tr>\n",
       "<tr><td>TrainLightGCN_e0d8828e</td><td>TERMINATED</td><td>147.96.81.131:286085</td><td style=\"text-align: right;\">          10</td><td style=\"text-align: right;\">            1</td><td style=\"text-align: right;\">              1</td><td>2022-02-18T00:00:00</td><td style=\"text-align: right;\">2.51635e-07</td><td style=\"text-align: right;\">         0.0002</td><td>30d          </td><td style=\"text-align: right;\">    40</td><td style=\"text-align: right;\">         6.45842</td><td style=\"text-align: right;\">               33</td><td style=\"text-align: right;\">        200</td><td style=\"text-align: right;\">0.670633   </td></tr>\n",
       "<tr><td>TrainLightGCN_d3d023ed</td><td>TERMINATED</td><td>147.96.81.131:285938</td><td style=\"text-align: right;\">          10</td><td style=\"text-align: right;\">            4</td><td style=\"text-align: right;\">              3</td><td>2022-02-18T00:00:00</td><td style=\"text-align: right;\">2.65318e-06</td><td style=\"text-align: right;\">         0.0312</td><td>30d          </td><td style=\"text-align: right;\">    40</td><td style=\"text-align: right;\">         6.59268</td><td style=\"text-align: right;\">               33</td><td style=\"text-align: right;\">        200</td><td style=\"text-align: right;\">0.107202   </td></tr>\n",
       "<tr><td>TrainLightGCN_70699b6a</td><td>TERMINATED</td><td>147.96.81.131:285797</td><td style=\"text-align: right;\">          10</td><td style=\"text-align: right;\">            4</td><td style=\"text-align: right;\">              1</td><td>2022-02-18T00:00:00</td><td style=\"text-align: right;\">2.06687e-05</td><td style=\"text-align: right;\">         0.0043</td><td>30d          </td><td style=\"text-align: right;\">    40</td><td style=\"text-align: right;\">         6.64666</td><td style=\"text-align: right;\">               33</td><td style=\"text-align: right;\">        200</td><td style=\"text-align: right;\">0.412877   </td></tr>\n",
       "<tr><td>TrainLightGCN_248a8fa2</td><td>TERMINATED</td><td>147.96.81.131:285642</td><td style=\"text-align: right;\">           9</td><td style=\"text-align: right;\">            2</td><td style=\"text-align: right;\">              9</td><td>2022-02-18T00:00:00</td><td style=\"text-align: right;\">8.35982e-06</td><td style=\"text-align: right;\">         0.0856</td><td>10YE         </td><td style=\"text-align: right;\">    40</td><td style=\"text-align: right;\">         8.78417</td><td style=\"text-align: right;\">               56</td><td style=\"text-align: right;\">        200</td><td style=\"text-align: right;\">0.00165442 </td></tr>\n",
       "<tr><td>TrainLightGCN_e84cc2c2</td><td>TERMINATED</td><td>147.96.81.131:285490</td><td style=\"text-align: right;\">           6</td><td style=\"text-align: right;\">            1</td><td style=\"text-align: right;\">             13</td><td>2022-02-18T00:00:00</td><td style=\"text-align: right;\">1.09718e-06</td><td style=\"text-align: right;\">         0.0003</td><td>60d          </td><td style=\"text-align: right;\">    40</td><td style=\"text-align: right;\">         7.45771</td><td style=\"text-align: right;\">               36</td><td style=\"text-align: right;\">        200</td><td style=\"text-align: right;\">0.336695   </td></tr>\n",
       "<tr><td>TrainLightGCN_69c8b35a</td><td>TERMINATED</td><td>147.96.81.131:285340</td><td style=\"text-align: right;\">          10</td><td style=\"text-align: right;\">            1</td><td style=\"text-align: right;\">              1</td><td>2022-02-18T00:00:00</td><td style=\"text-align: right;\">7.4981e-06 </td><td style=\"text-align: right;\">         0.0002</td><td>30d          </td><td style=\"text-align: right;\">    40</td><td style=\"text-align: right;\">         6.5519 </td><td style=\"text-align: right;\">               33</td><td style=\"text-align: right;\">        200</td><td style=\"text-align: right;\">0.670635   </td></tr>\n",
       "<tr><td>TrainLightGCN_49c9f1df</td><td>TERMINATED</td><td>147.96.81.131:285197</td><td style=\"text-align: right;\">           7</td><td style=\"text-align: right;\">            2</td><td style=\"text-align: right;\">              7</td><td>2022-02-18T00:00:00</td><td style=\"text-align: right;\">1.66858e-06</td><td style=\"text-align: right;\">         0.0005</td><td>60d          </td><td style=\"text-align: right;\">    40</td><td style=\"text-align: right;\">         7.33563</td><td style=\"text-align: right;\">               36</td><td style=\"text-align: right;\">        200</td><td style=\"text-align: right;\">0.325329   </td></tr>\n",
       "<tr><td>TrainLightGCN_e2523f3d</td><td>TERMINATED</td><td>147.96.81.131:285039</td><td style=\"text-align: right;\">          10</td><td style=\"text-align: right;\">            2</td><td style=\"text-align: right;\">              2</td><td>2022-02-18T00:00:00</td><td style=\"text-align: right;\">0.000544007</td><td style=\"text-align: right;\">         0.0025</td><td>60d          </td><td style=\"text-align: right;\">    40</td><td style=\"text-align: right;\">         7.235  </td><td style=\"text-align: right;\">               36</td><td style=\"text-align: right;\">        200</td><td style=\"text-align: right;\">0.257604   </td></tr>\n",
       "<tr><td>TrainLightGCN_cade7131</td><td>TERMINATED</td><td>147.96.81.131:284897</td><td style=\"text-align: right;\">           8</td><td style=\"text-align: right;\">            1</td><td style=\"text-align: right;\">            152</td><td>2022-02-18T00:00:00</td><td style=\"text-align: right;\">0.00378668 </td><td style=\"text-align: right;\">         0.0019</td><td>90d          </td><td style=\"text-align: right;\">    40</td><td style=\"text-align: right;\">         7.33601</td><td style=\"text-align: right;\">               39</td><td style=\"text-align: right;\">        200</td><td style=\"text-align: right;\">0.0735956  </td></tr>\n",
       "<tr><td>TrainLightGCN_b7371162</td><td>TERMINATED</td><td>147.96.81.131:284750</td><td style=\"text-align: right;\">           9</td><td style=\"text-align: right;\">            4</td><td style=\"text-align: right;\">             26</td><td>2022-02-18T00:00:00</td><td style=\"text-align: right;\">0.00213443 </td><td style=\"text-align: right;\">         0.0498</td><td>21d          </td><td style=\"text-align: right;\">    40</td><td style=\"text-align: right;\">         6.20435</td><td style=\"text-align: right;\">               32</td><td style=\"text-align: right;\">        200</td><td style=\"text-align: right;\">0.0642442  </td></tr>\n",
       "<tr><td>TrainLightGCN_3d88a079</td><td>TERMINATED</td><td>147.96.81.131:284603</td><td style=\"text-align: right;\">          10</td><td style=\"text-align: right;\">            1</td><td style=\"text-align: right;\">             57</td><td>2022-02-18T00:00:00</td><td style=\"text-align: right;\">3.93131e-06</td><td style=\"text-align: right;\">         0.0074</td><td>10YE         </td><td style=\"text-align: right;\">    40</td><td style=\"text-align: right;\">         8.5127 </td><td style=\"text-align: right;\">               56</td><td style=\"text-align: right;\">        200</td><td style=\"text-align: right;\">0.000259768</td></tr>\n",
       "<tr><td>TrainLightGCN_45694e28</td><td>TERMINATED</td><td>147.96.81.131:284447</td><td style=\"text-align: right;\">           7</td><td style=\"text-align: right;\">            3</td><td style=\"text-align: right;\">              5</td><td>2022-02-18T00:00:00</td><td style=\"text-align: right;\">3.60529e-05</td><td style=\"text-align: right;\">         0.02  </td><td>21d          </td><td style=\"text-align: right;\">    40</td><td style=\"text-align: right;\">         6.15674</td><td style=\"text-align: right;\">               32</td><td style=\"text-align: right;\">        200</td><td style=\"text-align: right;\">0.00646375 </td></tr>\n",
       "<tr><td>TrainLightGCN_f43dc1d3</td><td>TERMINATED</td><td>147.96.81.131:284306</td><td style=\"text-align: right;\">          10</td><td style=\"text-align: right;\">            4</td><td style=\"text-align: right;\">              3</td><td>2022-02-18T00:00:00</td><td style=\"text-align: right;\">0.00092874 </td><td style=\"text-align: right;\">         0.0043</td><td>21d          </td><td style=\"text-align: right;\">    40</td><td style=\"text-align: right;\">         6.1224 </td><td style=\"text-align: right;\">               32</td><td style=\"text-align: right;\">        200</td><td style=\"text-align: right;\">0.174091   </td></tr>\n",
       "<tr><td>TrainLightGCN_38b98c77</td><td>TERMINATED</td><td>147.96.81.131:284151</td><td style=\"text-align: right;\">           8</td><td style=\"text-align: right;\">            2</td><td style=\"text-align: right;\">            520</td><td>2022-02-18T00:00:00</td><td style=\"text-align: right;\">8.60786e-05</td><td style=\"text-align: right;\">         0.0009</td><td>30d          </td><td style=\"text-align: right;\">    40</td><td style=\"text-align: right;\">         6.5492 </td><td style=\"text-align: right;\">               33</td><td style=\"text-align: right;\">        200</td><td style=\"text-align: right;\">0.00925325 </td></tr>\n",
       "<tr><td>TrainLightGCN_e4aec296</td><td>TERMINATED</td><td>147.96.81.131:284002</td><td style=\"text-align: right;\">           9</td><td style=\"text-align: right;\">            1</td><td style=\"text-align: right;\">             15</td><td>2022-02-18T00:00:00</td><td style=\"text-align: right;\">0.000240497</td><td style=\"text-align: right;\">         0.3216</td><td>60d          </td><td style=\"text-align: right;\">    40</td><td style=\"text-align: right;\">         7.24944</td><td style=\"text-align: right;\">               36</td><td style=\"text-align: right;\">        200</td><td style=\"text-align: right;\">0.265543   </td></tr>\n",
       "<tr><td>TrainLightGCN_13d20dc5</td><td>TERMINATED</td><td>147.96.81.131:283852</td><td style=\"text-align: right;\">          10</td><td style=\"text-align: right;\">            3</td><td style=\"text-align: right;\">              4</td><td>2022-02-18T00:00:00</td><td style=\"text-align: right;\">0.00106665 </td><td style=\"text-align: right;\">         0.0013</td><td>21d          </td><td style=\"text-align: right;\">    40</td><td style=\"text-align: right;\">         6.14833</td><td style=\"text-align: right;\">               32</td><td style=\"text-align: right;\">        200</td><td style=\"text-align: right;\">0.362455   </td></tr>\n",
       "<tr><td>TrainLightGCN_c3558f10</td><td>TERMINATED</td><td>147.96.81.131:283701</td><td style=\"text-align: right;\">           9</td><td style=\"text-align: right;\">            2</td><td style=\"text-align: right;\">              1</td><td>2022-02-18T00:00:00</td><td style=\"text-align: right;\">0.00574342 </td><td style=\"text-align: right;\">         0.8991</td><td>60d          </td><td style=\"text-align: right;\">    40</td><td style=\"text-align: right;\">         7.35272</td><td style=\"text-align: right;\">               36</td><td style=\"text-align: right;\">        200</td><td style=\"text-align: right;\">0.47431    </td></tr>\n",
       "<tr><td>TrainLightGCN_d0c842a2</td><td>TERMINATED</td><td>147.96.81.131:283551</td><td style=\"text-align: right;\">           9</td><td style=\"text-align: right;\">            4</td><td style=\"text-align: right;\">             37</td><td>2022-02-18T00:00:00</td><td style=\"text-align: right;\">2.43498e-05</td><td style=\"text-align: right;\">         0.0031</td><td>30d          </td><td style=\"text-align: right;\">    40</td><td style=\"text-align: right;\">         6.75057</td><td style=\"text-align: right;\">               33</td><td style=\"text-align: right;\">        200</td><td style=\"text-align: right;\">0.0241756  </td></tr>\n",
       "<tr><td>TrainLightGCN_b6f3ee95</td><td>TERMINATED</td><td>147.96.81.131:283410</td><td style=\"text-align: right;\">          10</td><td style=\"text-align: right;\">            1</td><td style=\"text-align: right;\">              9</td><td>2022-02-18T00:00:00</td><td style=\"text-align: right;\">0.00820864 </td><td style=\"text-align: right;\">         0.0017</td><td>10YE         </td><td style=\"text-align: right;\">    40</td><td style=\"text-align: right;\">         8.65867</td><td style=\"text-align: right;\">               56</td><td style=\"text-align: right;\">        200</td><td style=\"text-align: right;\">0.118084   </td></tr>\n",
       "<tr><td>TrainLightGCN_762068b9</td><td>TERMINATED</td><td>147.96.81.131:283254</td><td style=\"text-align: right;\">           8</td><td style=\"text-align: right;\">            2</td><td style=\"text-align: right;\">              2</td><td>2022-02-18T00:00:00</td><td style=\"text-align: right;\">9.77636e-05</td><td style=\"text-align: right;\">         0.0112</td><td>90d          </td><td style=\"text-align: right;\">    40</td><td style=\"text-align: right;\">         7.47389</td><td style=\"text-align: right;\">               39</td><td style=\"text-align: right;\">        200</td><td style=\"text-align: right;\">0.246735   </td></tr>\n",
       "<tr><td>TrainLightGCN_bc7ceb11</td><td>TERMINATED</td><td>147.96.81.131:283105</td><td style=\"text-align: right;\">           8</td><td style=\"text-align: right;\">            1</td><td style=\"text-align: right;\">              4</td><td>2022-02-18T00:00:00</td><td style=\"text-align: right;\">0.000568489</td><td style=\"text-align: right;\">         0.0002</td><td>60d          </td><td style=\"text-align: right;\">    40</td><td style=\"text-align: right;\">         7.47619</td><td style=\"text-align: right;\">               36</td><td style=\"text-align: right;\">        200</td><td style=\"text-align: right;\">0.586578   </td></tr>\n",
       "<tr><td>TrainLightGCN_fe34ae5a</td><td>TERMINATED</td><td>147.96.81.131:282964</td><td style=\"text-align: right;\">          10</td><td style=\"text-align: right;\">            3</td><td style=\"text-align: right;\">              1</td><td>2022-02-18T00:00:00</td><td style=\"text-align: right;\">0.00166874 </td><td style=\"text-align: right;\">         0.0007</td><td>21d          </td><td style=\"text-align: right;\">    40</td><td style=\"text-align: right;\">         6.20709</td><td style=\"text-align: right;\">               32</td><td style=\"text-align: right;\">        200</td><td style=\"text-align: right;\">0.643852   </td></tr>\n",
       "<tr><td>TrainLightGCN_26831cfb</td><td>TERMINATED</td><td>147.96.81.131:282809</td><td style=\"text-align: right;\">           9</td><td style=\"text-align: right;\">            2</td><td style=\"text-align: right;\">             19</td><td>2022-02-18T00:00:00</td><td style=\"text-align: right;\">0.000217074</td><td style=\"text-align: right;\">         0.0001</td><td>60d          </td><td style=\"text-align: right;\">    40</td><td style=\"text-align: right;\">         7.37247</td><td style=\"text-align: right;\">               36</td><td style=\"text-align: right;\">        200</td><td style=\"text-align: right;\">0.58556    </td></tr>\n",
       "<tr><td>TrainLightGCN_1de66bda</td><td>TERMINATED</td><td>147.96.81.131:282659</td><td style=\"text-align: right;\">          10</td><td style=\"text-align: right;\">            1</td><td style=\"text-align: right;\">            141</td><td>2022-02-18T00:00:00</td><td style=\"text-align: right;\">0.000354972</td><td style=\"text-align: right;\">         0.0001</td><td>10YE         </td><td style=\"text-align: right;\">    40</td><td style=\"text-align: right;\">         8.63231</td><td style=\"text-align: right;\">               56</td><td style=\"text-align: right;\">        200</td><td style=\"text-align: right;\">0.123439   </td></tr>\n",
       "<tr><td>TrainLightGCN_a011c986</td><td>TERMINATED</td><td>147.96.81.131:282510</td><td style=\"text-align: right;\">           9</td><td style=\"text-align: right;\">            3</td><td style=\"text-align: right;\">              3</td><td>2022-02-18T00:00:00</td><td style=\"text-align: right;\">5.8093e-05 </td><td style=\"text-align: right;\">         0.0229</td><td>21d          </td><td style=\"text-align: right;\">    40</td><td style=\"text-align: right;\">         6.15231</td><td style=\"text-align: right;\">               32</td><td style=\"text-align: right;\">        200</td><td style=\"text-align: right;\">0.0930113  </td></tr>\n",
       "<tr><td>TrainLightGCN_eaed07ab</td><td>TERMINATED</td><td>147.96.81.131:282370</td><td style=\"text-align: right;\">          10</td><td style=\"text-align: right;\">            2</td><td style=\"text-align: right;\">              7</td><td>2022-02-18T00:00:00</td><td style=\"text-align: right;\">4.79124e-07</td><td style=\"text-align: right;\">         0.0004</td><td>90d          </td><td style=\"text-align: right;\">    40</td><td style=\"text-align: right;\">         7.44932</td><td style=\"text-align: right;\">               39</td><td style=\"text-align: right;\">        200</td><td style=\"text-align: right;\">0.385847   </td></tr>\n",
       "<tr><td>TrainLightGCN_6cafd36a</td><td>TERMINATED</td><td>147.96.81.131:282214</td><td style=\"text-align: right;\">           9</td><td style=\"text-align: right;\">            2</td><td style=\"text-align: right;\">             50</td><td>2022-02-18T00:00:00</td><td style=\"text-align: right;\">0.00263506 </td><td style=\"text-align: right;\">         0.0023</td><td>60d          </td><td style=\"text-align: right;\">    40</td><td style=\"text-align: right;\">         7.27866</td><td style=\"text-align: right;\">               36</td><td style=\"text-align: right;\">        200</td><td style=\"text-align: right;\">0.0861077  </td></tr>\n",
       "<tr><td>TrainLightGCN_53a7f8e4</td><td>TERMINATED</td><td>147.96.81.131:282064</td><td style=\"text-align: right;\">          10</td><td style=\"text-align: right;\">            1</td><td style=\"text-align: right;\">              1</td><td>2022-02-18T00:00:00</td><td style=\"text-align: right;\">0.00112052 </td><td style=\"text-align: right;\">         0.0011</td><td>60d          </td><td style=\"text-align: right;\">    40</td><td style=\"text-align: right;\">         7.26142</td><td style=\"text-align: right;\">               36</td><td style=\"text-align: right;\">        200</td><td style=\"text-align: right;\">0.479918   </td></tr>\n",
       "<tr><td>TrainLightGCN_1755040e</td><td>TERMINATED</td><td>147.96.81.131:281915</td><td style=\"text-align: right;\">           9</td><td style=\"text-align: right;\">            2</td><td style=\"text-align: right;\">             19</td><td>2022-02-18T00:00:00</td><td style=\"text-align: right;\">5.84659e-06</td><td style=\"text-align: right;\">         0.0003</td><td>21d          </td><td style=\"text-align: right;\">    40</td><td style=\"text-align: right;\">         6.18949</td><td style=\"text-align: right;\">               32</td><td style=\"text-align: right;\">        200</td><td style=\"text-align: right;\">0.490086   </td></tr>\n",
       "<tr><td>TrainLightGCN_f07a5e73</td><td>TERMINATED</td><td>147.96.81.131:281767</td><td style=\"text-align: right;\">          10</td><td style=\"text-align: right;\">            1</td><td style=\"text-align: right;\">              2</td><td>2022-02-18T00:00:00</td><td style=\"text-align: right;\">0.00035022 </td><td style=\"text-align: right;\">         0.0001</td><td>60d          </td><td style=\"text-align: right;\">    40</td><td style=\"text-align: right;\">         7.59812</td><td style=\"text-align: right;\">               36</td><td style=\"text-align: right;\">        200</td><td style=\"text-align: right;\">0.676738   </td></tr>\n",
       "<tr><td>TrainLightGCN_e70e0702</td><td>TERMINATED</td><td>147.96.81.131:281617</td><td style=\"text-align: right;\">          10</td><td style=\"text-align: right;\">            2</td><td style=\"text-align: right;\">              1</td><td>2022-02-18T00:00:00</td><td style=\"text-align: right;\">1.14278e-05</td><td style=\"text-align: right;\">         0.0004</td><td>60d          </td><td style=\"text-align: right;\">    40</td><td style=\"text-align: right;\">         7.3845 </td><td style=\"text-align: right;\">               36</td><td style=\"text-align: right;\">        200</td><td style=\"text-align: right;\">0.629708   </td></tr>\n",
       "<tr><td>TrainLightGCN_0871d773</td><td>TERMINATED</td><td>147.96.81.131:281469</td><td style=\"text-align: right;\">           9</td><td style=\"text-align: right;\">            3</td><td style=\"text-align: right;\">             46</td><td>2022-02-18T00:00:00</td><td style=\"text-align: right;\">5.85028e-07</td><td style=\"text-align: right;\">         0.0002</td><td>90d          </td><td style=\"text-align: right;\">    40</td><td style=\"text-align: right;\">         7.5242 </td><td style=\"text-align: right;\">               39</td><td style=\"text-align: right;\">        200</td><td style=\"text-align: right;\">0.33149    </td></tr>\n",
       "<tr><td>TrainLightGCN_1a914085</td><td>TERMINATED</td><td>147.96.81.131:281319</td><td style=\"text-align: right;\">           9</td><td style=\"text-align: right;\">            1</td><td style=\"text-align: right;\">              1</td><td>2022-02-18T00:00:00</td><td style=\"text-align: right;\">1.2036e-05 </td><td style=\"text-align: right;\">         0.0001</td><td>60d          </td><td style=\"text-align: right;\">    40</td><td style=\"text-align: right;\">         7.45599</td><td style=\"text-align: right;\">               36</td><td style=\"text-align: right;\">        200</td><td style=\"text-align: right;\">0.682921   </td></tr>\n",
       "<tr><td>TrainLightGCN_421ded16</td><td>TERMINATED</td><td>147.96.81.131:281169</td><td style=\"text-align: right;\">          10</td><td style=\"text-align: right;\">            1</td><td style=\"text-align: right;\">              3</td><td>2022-02-18T00:00:00</td><td style=\"text-align: right;\">0.003675   </td><td style=\"text-align: right;\">         0.0057</td><td>60d          </td><td style=\"text-align: right;\">    40</td><td style=\"text-align: right;\">         7.48506</td><td style=\"text-align: right;\">               36</td><td style=\"text-align: right;\">        200</td><td style=\"text-align: right;\">0.218366   </td></tr>\n",
       "<tr><td>TrainLightGCN_eb1be6c7</td><td>TERMINATED</td><td>147.96.81.131:281019</td><td style=\"text-align: right;\">          10</td><td style=\"text-align: right;\">            1</td><td style=\"text-align: right;\">              4</td><td>2022-02-18T00:00:00</td><td style=\"text-align: right;\">0.000844992</td><td style=\"text-align: right;\">         0.0011</td><td>60d          </td><td style=\"text-align: right;\">    40</td><td style=\"text-align: right;\">         7.86751</td><td style=\"text-align: right;\">               36</td><td style=\"text-align: right;\">        200</td><td style=\"text-align: right;\">0.244772   </td></tr>\n",
       "<tr><td>TrainLightGCN_38dd08be</td><td>TERMINATED</td><td>147.96.81.131:280870</td><td style=\"text-align: right;\">          10</td><td style=\"text-align: right;\">            1</td><td style=\"text-align: right;\">              2</td><td>2022-02-18T00:00:00</td><td style=\"text-align: right;\">0.000120164</td><td style=\"text-align: right;\">         0.0006</td><td>90d          </td><td style=\"text-align: right;\">    40</td><td style=\"text-align: right;\">         7.47883</td><td style=\"text-align: right;\">               39</td><td style=\"text-align: right;\">        200</td><td style=\"text-align: right;\">0.441675   </td></tr>\n",
       "<tr><td>TrainLightGCN_22576014</td><td>TERMINATED</td><td>147.96.81.131:280721</td><td style=\"text-align: right;\">          10</td><td style=\"text-align: right;\">            1</td><td style=\"text-align: right;\">              2</td><td>2022-02-18T00:00:00</td><td style=\"text-align: right;\">1.33196e-05</td><td style=\"text-align: right;\">         0.0004</td><td>60d          </td><td style=\"text-align: right;\">    40</td><td style=\"text-align: right;\">         7.5777 </td><td style=\"text-align: right;\">               36</td><td style=\"text-align: right;\">        200</td><td style=\"text-align: right;\">0.566036   </td></tr>\n",
       "<tr><td>TrainLightGCN_c7ed651c</td><td>TERMINATED</td><td>147.96.81.131:280574</td><td style=\"text-align: right;\">           8</td><td style=\"text-align: right;\">            1</td><td style=\"text-align: right;\">              1</td><td>2022-02-18T00:00:00</td><td style=\"text-align: right;\">0.000442892</td><td style=\"text-align: right;\">         0.0074</td><td>60d          </td><td style=\"text-align: right;\">    40</td><td style=\"text-align: right;\">         7.28572</td><td style=\"text-align: right;\">               36</td><td style=\"text-align: right;\">        200</td><td style=\"text-align: right;\">0.419685   </td></tr>\n",
       "<tr><td>TrainLightGCN_0a345659</td><td>TERMINATED</td><td>147.96.81.131:280425</td><td style=\"text-align: right;\">          10</td><td style=\"text-align: right;\">            1</td><td style=\"text-align: right;\">              2</td><td>2022-02-18T00:00:00</td><td style=\"text-align: right;\">0.00385505 </td><td style=\"text-align: right;\">         0.0012</td><td>60d          </td><td style=\"text-align: right;\">    40</td><td style=\"text-align: right;\">         7.41915</td><td style=\"text-align: right;\">               36</td><td style=\"text-align: right;\">        200</td><td style=\"text-align: right;\">0.373552   </td></tr>\n",
       "<tr><td>TrainLightGCN_274d061c</td><td>TERMINATED</td><td>147.96.81.131:280276</td><td style=\"text-align: right;\">           7</td><td style=\"text-align: right;\">            1</td><td style=\"text-align: right;\">            840</td><td>2022-02-18T00:00:00</td><td style=\"text-align: right;\">1.43636e-05</td><td style=\"text-align: right;\">         0.0003</td><td>60d          </td><td style=\"text-align: right;\">    40</td><td style=\"text-align: right;\">         7.66179</td><td style=\"text-align: right;\">               36</td><td style=\"text-align: right;\">        200</td><td style=\"text-align: right;\">0.0104405  </td></tr>\n",
       "<tr><td>TrainLightGCN_294e2aac</td><td>TERMINATED</td><td>147.96.81.131:280135</td><td style=\"text-align: right;\">          10</td><td style=\"text-align: right;\">            1</td><td style=\"text-align: right;\">              2</td><td>2022-02-18T00:00:00</td><td style=\"text-align: right;\">0.000381447</td><td style=\"text-align: right;\">         0.0007</td><td>60d          </td><td style=\"text-align: right;\">    40</td><td style=\"text-align: right;\">         7.46413</td><td style=\"text-align: right;\">               36</td><td style=\"text-align: right;\">        200</td><td style=\"text-align: right;\">0.456029   </td></tr>\n",
       "<tr><td>TrainLightGCN_436f1f62</td><td>TERMINATED</td><td>147.96.81.131:279977</td><td style=\"text-align: right;\">           6</td><td style=\"text-align: right;\">            3</td><td style=\"text-align: right;\">              6</td><td>2022-02-18T00:00:00</td><td style=\"text-align: right;\">0.00978431 </td><td style=\"text-align: right;\">         0.0045</td><td>10YE         </td><td style=\"text-align: right;\">    40</td><td style=\"text-align: right;\">         8.8909 </td><td style=\"text-align: right;\">               56</td><td style=\"text-align: right;\">        200</td><td style=\"text-align: right;\">0.184013   </td></tr>\n",
       "<tr><td>TrainLightGCN_381a64e4</td><td>TERMINATED</td><td>147.96.81.131:279827</td><td style=\"text-align: right;\">           7</td><td style=\"text-align: right;\">            1</td><td style=\"text-align: right;\">             15</td><td>2022-02-18T00:00:00</td><td style=\"text-align: right;\">0.00311976 </td><td style=\"text-align: right;\">         0.0511</td><td>60d          </td><td style=\"text-align: right;\">    40</td><td style=\"text-align: right;\">         7.38675</td><td style=\"text-align: right;\">               36</td><td style=\"text-align: right;\">        200</td><td style=\"text-align: right;\">0.0676958  </td></tr>\n",
       "<tr><td>TrainLightGCN_f6722fd9</td><td>TERMINATED</td><td>147.96.81.131:279681</td><td style=\"text-align: right;\">           6</td><td style=\"text-align: right;\">            1</td><td style=\"text-align: right;\">             10</td><td>2022-02-18T00:00:00</td><td style=\"text-align: right;\">1.22401e-07</td><td style=\"text-align: right;\">         0.0248</td><td>30d          </td><td style=\"text-align: right;\">    40</td><td style=\"text-align: right;\">         6.62785</td><td style=\"text-align: right;\">               33</td><td style=\"text-align: right;\">        200</td><td style=\"text-align: right;\">0.000312029</td></tr>\n",
       "<tr><td>TrainLightGCN_1ee6b637</td><td>TERMINATED</td><td>147.96.81.131:279534</td><td style=\"text-align: right;\">          10</td><td style=\"text-align: right;\">            1</td><td style=\"text-align: right;\">              2</td><td>2022-02-18T00:00:00</td><td style=\"text-align: right;\">0.0097503  </td><td style=\"text-align: right;\">         0.0004</td><td>60d          </td><td style=\"text-align: right;\">    40</td><td style=\"text-align: right;\">         7.62196</td><td style=\"text-align: right;\">               36</td><td style=\"text-align: right;\">        200</td><td style=\"text-align: right;\">0.579695   </td></tr>\n",
       "<tr><td>TrainLightGCN_52b7df62</td><td>TERMINATED</td><td>147.96.81.131:279384</td><td style=\"text-align: right;\">           6</td><td style=\"text-align: right;\">            4</td><td style=\"text-align: right;\">              5</td><td>2022-02-18T00:00:00</td><td style=\"text-align: right;\">0.00715491 </td><td style=\"text-align: right;\">         0.0034</td><td>10YE         </td><td style=\"text-align: right;\">    40</td><td style=\"text-align: right;\">         8.97381</td><td style=\"text-align: right;\">               56</td><td style=\"text-align: right;\">        200</td><td style=\"text-align: right;\">0.184084   </td></tr>\n",
       "<tr><td>TrainLightGCN_f595216e</td><td>TERMINATED</td><td>147.96.81.131:279235</td><td style=\"text-align: right;\">           7</td><td style=\"text-align: right;\">            1</td><td style=\"text-align: right;\">             12</td><td>2022-02-18T00:00:00</td><td style=\"text-align: right;\">0.0053823  </td><td style=\"text-align: right;\">         0.0429</td><td>60d          </td><td style=\"text-align: right;\">    40</td><td style=\"text-align: right;\">         7.57361</td><td style=\"text-align: right;\">               36</td><td style=\"text-align: right;\">        200</td><td style=\"text-align: right;\">0.101319   </td></tr>\n",
       "<tr><td>TrainLightGCN_bf6b4a5c</td><td>TERMINATED</td><td>147.96.81.131:279092</td><td style=\"text-align: right;\">           6</td><td style=\"text-align: right;\">            1</td><td style=\"text-align: right;\">             10</td><td>2022-02-18T00:00:00</td><td style=\"text-align: right;\">2.11626e-07</td><td style=\"text-align: right;\">         0.0137</td><td>30d          </td><td style=\"text-align: right;\">    40</td><td style=\"text-align: right;\">         6.62644</td><td style=\"text-align: right;\">               33</td><td style=\"text-align: right;\">        200</td><td style=\"text-align: right;\">0.00092172 </td></tr>\n",
       "<tr><td>TrainLightGCN_75593d88</td><td>TERMINATED</td><td>147.96.81.131:278935</td><td style=\"text-align: right;\">           9</td><td style=\"text-align: right;\">            2</td><td style=\"text-align: right;\">              3</td><td>2022-02-18T00:00:00</td><td style=\"text-align: right;\">0.00158506 </td><td style=\"text-align: right;\">         0.0001</td><td>30d          </td><td style=\"text-align: right;\">    40</td><td style=\"text-align: right;\">         6.91126</td><td style=\"text-align: right;\">               33</td><td style=\"text-align: right;\">        200</td><td style=\"text-align: right;\">0.674522   </td></tr>\n",
       "<tr><td>TrainLightGCN_03c6d516</td><td>TERMINATED</td><td>147.96.81.131:278794</td><td style=\"text-align: right;\">           7</td><td style=\"text-align: right;\">            4</td><td style=\"text-align: right;\">             97</td><td>2022-02-18T00:00:00</td><td style=\"text-align: right;\">6.09932e-05</td><td style=\"text-align: right;\">         0.0021</td><td>10YE         </td><td style=\"text-align: right;\">    40</td><td style=\"text-align: right;\">         8.6941 </td><td style=\"text-align: right;\">               56</td><td style=\"text-align: right;\">        200</td><td style=\"text-align: right;\">0.0122563  </td></tr>\n",
       "<tr><td>TrainLightGCN_c520c09d</td><td>TERMINATED</td><td>147.96.81.131:278636</td><td style=\"text-align: right;\">           8</td><td style=\"text-align: right;\">            2</td><td style=\"text-align: right;\">             27</td><td>2022-02-18T00:00:00</td><td style=\"text-align: right;\">3.06006e-05</td><td style=\"text-align: right;\">         0.2056</td><td>30d          </td><td style=\"text-align: right;\">    40</td><td style=\"text-align: right;\">         6.57668</td><td style=\"text-align: right;\">               33</td><td style=\"text-align: right;\">        200</td><td style=\"text-align: right;\">0.0174914  </td></tr>\n",
       "<tr><td>TrainLightGCN_6db480a6</td><td>TERMINATED</td><td>147.96.81.131:278487</td><td style=\"text-align: right;\">           8</td><td style=\"text-align: right;\">            2</td><td style=\"text-align: right;\">            241</td><td>2022-02-18T00:00:00</td><td style=\"text-align: right;\">5.10482e-06</td><td style=\"text-align: right;\">         0.0017</td><td>90d          </td><td style=\"text-align: right;\">    40</td><td style=\"text-align: right;\">         7.27697</td><td style=\"text-align: right;\">               39</td><td style=\"text-align: right;\">        200</td><td style=\"text-align: right;\">0.00244183 </td></tr>\n",
       "<tr><td>TrainLightGCN_f45d60bf</td><td>TERMINATED</td><td>147.96.81.131:278337</td><td style=\"text-align: right;\">           9</td><td style=\"text-align: right;\">            4</td><td style=\"text-align: right;\">              7</td><td>2022-02-18T00:00:00</td><td style=\"text-align: right;\">2.91903e-06</td><td style=\"text-align: right;\">         0.1593</td><td>21d          </td><td style=\"text-align: right;\">    40</td><td style=\"text-align: right;\">         6.20696</td><td style=\"text-align: right;\">               32</td><td style=\"text-align: right;\">        200</td><td style=\"text-align: right;\">0.000350696</td></tr>\n",
       "<tr><td>TrainLightGCN_93df4c47</td><td>TERMINATED</td><td>147.96.81.131:278196</td><td style=\"text-align: right;\">           9</td><td style=\"text-align: right;\">            3</td><td style=\"text-align: right;\">            447</td><td>2022-02-18T00:00:00</td><td style=\"text-align: right;\">0.000129301</td><td style=\"text-align: right;\">         0.0008</td><td>60d          </td><td style=\"text-align: right;\">    40</td><td style=\"text-align: right;\">         7.30454</td><td style=\"text-align: right;\">               36</td><td style=\"text-align: right;\">        200</td><td style=\"text-align: right;\">0.019897   </td></tr>\n",
       "<tr><td>TrainLightGCN_90ebbbac</td><td>TERMINATED</td><td>147.96.81.131:278047</td><td style=\"text-align: right;\">           9</td><td style=\"text-align: right;\">            3</td><td style=\"text-align: right;\">             86</td><td>2022-02-18T00:00:00</td><td style=\"text-align: right;\">0.000166749</td><td style=\"text-align: right;\">         0.0002</td><td>30d          </td><td style=\"text-align: right;\">    40</td><td style=\"text-align: right;\">         6.57723</td><td style=\"text-align: right;\">               33</td><td style=\"text-align: right;\">        200</td><td style=\"text-align: right;\">0.347847   </td></tr>\n",
       "<tr><td>TrainLightGCN_0474cf26</td><td>TERMINATED</td><td>147.96.81.131:277892</td><td style=\"text-align: right;\">          10</td><td style=\"text-align: right;\">            2</td><td style=\"text-align: right;\">            364</td><td>2022-02-18T00:00:00</td><td style=\"text-align: right;\">2.08113e-06</td><td style=\"text-align: right;\">         0.0002</td><td>90d          </td><td style=\"text-align: right;\">    40</td><td style=\"text-align: right;\">         7.58332</td><td style=\"text-align: right;\">               39</td><td style=\"text-align: right;\">        200</td><td style=\"text-align: right;\">0.0835607  </td></tr>\n",
       "<tr><td>TrainLightGCN_4c74ade4</td><td>TERMINATED</td><td>147.96.81.131:277751</td><td style=\"text-align: right;\">           8</td><td style=\"text-align: right;\">            2</td><td style=\"text-align: right;\">             96</td><td>2022-02-18T00:00:00</td><td style=\"text-align: right;\">4.92424e-05</td><td style=\"text-align: right;\">         0.0784</td><td>21d          </td><td style=\"text-align: right;\">    40</td><td style=\"text-align: right;\">         6.16755</td><td style=\"text-align: right;\">               32</td><td style=\"text-align: right;\">        200</td><td style=\"text-align: right;\">0.00161075 </td></tr>\n",
       "<tr><td>TrainLightGCN_06e804a8</td><td>TERMINATED</td><td>147.96.81.131:277595</td><td style=\"text-align: right;\">           9</td><td style=\"text-align: right;\">            2</td><td style=\"text-align: right;\">             26</td><td>2022-02-18T00:00:00</td><td style=\"text-align: right;\">1.42721e-06</td><td style=\"text-align: right;\">         0.6694</td><td>30d          </td><td style=\"text-align: right;\">    40</td><td style=\"text-align: right;\">         6.54603</td><td style=\"text-align: right;\">               33</td><td style=\"text-align: right;\">        200</td><td style=\"text-align: right;\">0.0166761  </td></tr>\n",
       "<tr><td>TrainLightGCN_a3c26e30</td><td>TERMINATED</td><td>147.96.81.131:277445</td><td style=\"text-align: right;\">           8</td><td style=\"text-align: right;\">            4</td><td style=\"text-align: right;\">            219</td><td>2022-02-18T00:00:00</td><td style=\"text-align: right;\">0.000261231</td><td style=\"text-align: right;\">         0.095 </td><td>60d          </td><td style=\"text-align: right;\">    40</td><td style=\"text-align: right;\">         7.54569</td><td style=\"text-align: right;\">               36</td><td style=\"text-align: right;\">        200</td><td style=\"text-align: right;\">0.0411596  </td></tr>\n",
       "<tr><td>TrainLightGCN_fa3e95b6</td><td>TERMINATED</td><td>147.96.81.131:277302</td><td style=\"text-align: right;\">          10</td><td style=\"text-align: right;\">            1</td><td style=\"text-align: right;\">              1</td><td>2022-02-18T00:00:00</td><td style=\"text-align: right;\">0.000699071</td><td style=\"text-align: right;\">         0.0029</td><td>21d          </td><td style=\"text-align: right;\">    40</td><td style=\"text-align: right;\">         6.16075</td><td style=\"text-align: right;\">               32</td><td style=\"text-align: right;\">        200</td><td style=\"text-align: right;\">0.427408   </td></tr>\n",
       "<tr><td>TrainLightGCN_09eddd6a</td><td>TERMINATED</td><td>147.96.81.131:277144</td><td style=\"text-align: right;\">          10</td><td style=\"text-align: right;\">            3</td><td style=\"text-align: right;\">            332</td><td>2022-02-18T00:00:00</td><td style=\"text-align: right;\">0.00221159 </td><td style=\"text-align: right;\">         0.4863</td><td>10YE         </td><td style=\"text-align: right;\">    40</td><td style=\"text-align: right;\">         8.65823</td><td style=\"text-align: right;\">               56</td><td style=\"text-align: right;\">        200</td><td style=\"text-align: right;\">3.67958    </td></tr>\n",
       "<tr><td>TrainLightGCN_04197704</td><td>TERMINATED</td><td>147.96.81.131:277004</td><td style=\"text-align: right;\">           7</td><td style=\"text-align: right;\">            2</td><td style=\"text-align: right;\">             74</td><td>2022-02-18T00:00:00</td><td style=\"text-align: right;\">8.63799e-07</td><td style=\"text-align: right;\">         0.1736</td><td>10YE         </td><td style=\"text-align: right;\">    40</td><td style=\"text-align: right;\">         8.71562</td><td style=\"text-align: right;\">               56</td><td style=\"text-align: right;\">        200</td><td style=\"text-align: right;\">0.00440722 </td></tr>\n",
       "<tr><td>TrainLightGCN_f481bc3a</td><td>TERMINATED</td><td>147.96.81.131:276846</td><td style=\"text-align: right;\">           6</td><td style=\"text-align: right;\">            2</td><td style=\"text-align: right;\">            217</td><td>2022-02-18T00:00:00</td><td style=\"text-align: right;\">2.53991e-06</td><td style=\"text-align: right;\">         0.4785</td><td>21d          </td><td style=\"text-align: right;\">    40</td><td style=\"text-align: right;\">         6.14816</td><td style=\"text-align: right;\">               32</td><td style=\"text-align: right;\">        200</td><td style=\"text-align: right;\">0.055388   </td></tr>\n",
       "<tr><td>TrainLightGCN_5aa3c0a9</td><td>TERMINATED</td><td>147.96.81.131:276699</td><td style=\"text-align: right;\">           7</td><td style=\"text-align: right;\">            2</td><td style=\"text-align: right;\">             34</td><td>2022-02-18T00:00:00</td><td style=\"text-align: right;\">0.0007608  </td><td style=\"text-align: right;\">         0.0091</td><td>60d          </td><td style=\"text-align: right;\">    40</td><td style=\"text-align: right;\">         7.4493 </td><td style=\"text-align: right;\">               36</td><td style=\"text-align: right;\">        200</td><td style=\"text-align: right;\">0.031302   </td></tr>\n",
       "<tr><td>TrainLightGCN_9711e4e8</td><td>TERMINATED</td><td>147.96.81.131:276549</td><td style=\"text-align: right;\">           9</td><td style=\"text-align: right;\">            2</td><td style=\"text-align: right;\">             86</td><td>2022-02-18T00:00:00</td><td style=\"text-align: right;\">0.00134325 </td><td style=\"text-align: right;\">         0.0006</td><td>21d          </td><td style=\"text-align: right;\">    40</td><td style=\"text-align: right;\">         6.17517</td><td style=\"text-align: right;\">               32</td><td style=\"text-align: right;\">        200</td><td style=\"text-align: right;\">0.101932   </td></tr>\n",
       "<tr><td>TrainLightGCN_94a96634</td><td>TERMINATED</td><td>147.96.81.131:276407</td><td style=\"text-align: right;\">           8</td><td style=\"text-align: right;\">            4</td><td style=\"text-align: right;\">             32</td><td>2022-02-18T00:00:00</td><td style=\"text-align: right;\">1.24202e-06</td><td style=\"text-align: right;\">         0.015 </td><td>10YE         </td><td style=\"text-align: right;\">    40</td><td style=\"text-align: right;\">         9.02234</td><td style=\"text-align: right;\">               56</td><td style=\"text-align: right;\">        200</td><td style=\"text-align: right;\">0.00087533 </td></tr>\n",
       "<tr><td>TrainLightGCN_0e01af3c</td><td>TERMINATED</td><td>147.96.81.131:276266</td><td style=\"text-align: right;\">           9</td><td style=\"text-align: right;\">            3</td><td style=\"text-align: right;\">            665</td><td>2022-02-18T00:00:00</td><td style=\"text-align: right;\">2.74456e-05</td><td style=\"text-align: right;\">         0.0092</td><td>90d          </td><td style=\"text-align: right;\">    40</td><td style=\"text-align: right;\">         7.59691</td><td style=\"text-align: right;\">               39</td><td style=\"text-align: right;\">        200</td><td style=\"text-align: right;\">0.00272166 </td></tr>\n",
       "<tr><td>TrainLightGCN_68333fcd</td><td>TERMINATED</td><td>147.96.81.131:276147</td><td style=\"text-align: right;\">           6</td><td style=\"text-align: right;\">            1</td><td style=\"text-align: right;\">             32</td><td>2022-02-18T00:00:00</td><td style=\"text-align: right;\">0.00592866 </td><td style=\"text-align: right;\">         0.0015</td><td>60d          </td><td style=\"text-align: right;\">    40</td><td style=\"text-align: right;\">         7.27417</td><td style=\"text-align: right;\">               36</td><td style=\"text-align: right;\">        200</td><td style=\"text-align: right;\">0.113566   </td></tr>\n",
       "</tbody>\n",
       "</table>\n",
       "  </div>\n",
       "</div>\n",
       "<style>\n",
       ".tuneStatus {\n",
       "  color: var(--jp-ui-font-color1);\n",
       "}\n",
       ".tuneStatus .systemInfo {\n",
       "  display: flex;\n",
       "  flex-direction: column;\n",
       "}\n",
       ".tuneStatus td {\n",
       "  white-space: nowrap;\n",
       "}\n",
       ".tuneStatus .trialStatus {\n",
       "  display: flex;\n",
       "  flex-direction: column;\n",
       "}\n",
       ".tuneStatus h3 {\n",
       "  font-weight: bold;\n",
       "}\n",
       ".tuneStatus .hDivider {\n",
       "  border-bottom-width: var(--jp-border-width);\n",
       "  border-bottom-color: var(--jp-border-color0);\n",
       "  border-bottom-style: solid;\n",
       "}\n",
       ".tuneStatus .vDivider {\n",
       "  border-left-width: var(--jp-border-width);\n",
       "  border-left-color: var(--jp-border-color0);\n",
       "  border-left-style: solid;\n",
       "  margin: 0.5em 1em 0.5em 1em;\n",
       "}\n",
       "</style>\n"
      ],
      "text/plain": [
       "<IPython.core.display.HTML object>"
      ]
     },
     "metadata": {},
     "output_type": "display_data"
    },
    {
     "name": "stderr",
     "output_type": "stream",
     "text": [
      "2024-09-06 17:00:47,210\tINFO tune_controller.py:444 -- Restoring the run from the latest experiment state file: experiment_state-2024-09-06_16-55-00.json\n"
     ]
    },
    {
     "name": "stderr",
     "output_type": "stream",
     "text": [
      "2024-09-06 17:00:48,008\tINFO tune.py:1009 -- Wrote the latest version of all result files and experiment state to '/home/daviddavo/ray_results3.11/dOrg/LightGCN_2d_normalize_map@10_fold=2022-02-18T00:00:00_2024-09-06T16:55:00.963964' in 0.3519s.\n"
     ]
    },
    {
     "name": "stderr",
     "output_type": "stream",
     "text": [
      "2024-09-06 17:00:48,021\tINFO tune.py:1041 -- Total run time: 0.82 seconds (0.00 seconds for the tuning loop).\n"
     ]
    },
    {
     "name": "stdout",
     "output_type": "stream",
     "text": [
      "Finished training for fold 2022-02-18T00:00:00\n"
     ]
    }
   ],
   "source": [
    "import logging\n",
    "import requests\n",
    "\n",
    "def findConfig(rg):\n",
    "    for r in rg:\n",
    "        if r.config:\n",
    "            lbrc = last_best_result.config\n",
    "            if all((r.config[k] == v for k, v in last_best_result.config.items() if k != 'fold')):\n",
    "                return r\n",
    "            elif all((r.config[k] == v for k, v in last_best_result.config.items() if k != 'fold' and k != 'window_size')):\n",
    "                print(\"Possible coincidence:\", r.config, file=sys.stderr)\n",
    "\n",
    "    return None\n",
    "\n",
    "tuners = []\n",
    "results = []\n",
    "last_best_result = None\n",
    "pbar.reset()\n",
    "\n",
    "last_best_fold = None\n",
    "requests.post(\"https://ntfy.sh/grasia_notebooks\", data=f\"Start running microsoft_tuning for {ORG_NAME}\")\n",
    "for i, (prev_f_idx, f_idx) in enumerate(zip(it.chain([None], use_folds_idx), use_folds_idx)):\n",
    "    try:\n",
    "        with out:\n",
    "            best_prev_config = None\n",
    "            if last_best_result is not None:\n",
    "                best_prev_config = last_best_result.config.copy()\n",
    "                assert best_prev_config['fold'] == prev_f_idx\n",
    "                best_prev_config['fold'] = f_idx\n",
    "                print(f\"Also evaluating best_prev_config ({OPTIM_METRIC}={last_best_result.metrics[OPTIM_METRIC]}): {best_prev_config}\")\n",
    "                best_prev_config = [best_prev_config]\n",
    "        \n",
    "        t = getTunerOnFold(f_idx, best_prev_config)\n",
    "        tuners.append(t)\n",
    "    \n",
    "        rg = t.fit()\n",
    "        \n",
    "        # FIXME: load results from disk until ray-project/ray#47358 is solved\n",
    "        # https://github.com/ray-project/ray/issues/47358\n",
    "        t = getTunerOnFold(f_idx, best_prev_config)\n",
    "        tuners[-1] = t\n",
    "        rg = t.fit()\n",
    "    \n",
    "        assert rg.num_errors == 0, f\"There are {rg.num_errors} errors\"\n",
    "        assert rg.num_terminated >= NUM_SAMPLES, f'Some samples are not terminated ({rg.num_terminated} != {NUM_SAMPLES})'\n",
    "        assert len(rg.get_dataframe()) >= NUM_SAMPLES\n",
    "        results.append(rg)\n",
    "    \n",
    "        # Assert that the prev config has been tried\n",
    "        if last_best_result is not None:\n",
    "            # if not any( \n",
    "            #     all((r.config[k] == v for k, v in last_best_result.config.items() if k != 'fold'))\n",
    "            #     for r in rg if r.config\n",
    "            # ):\n",
    "            if not findConfig(rg):\n",
    "                print(\"Best config:\", last_best_result.config)\n",
    "                assert False, f\"The best config from previous fold has not been tested in fold {f_idx}\"    \n",
    "            else:\n",
    "                logging.info(f'Fold {f_idx}. Best prev result was {last_best_result.path} and config has been found {findConfig(rg).path}')\n",
    "        \n",
    "        last_best_result = rg.get_best_result()\n",
    "        pbar.update()\n",
    "    \n",
    "        print(f\"Finished training for fold {f_idx}\")\n",
    "        requests.post(\"https://ntfy.sh/grasia_notebooks\", data=f\"Finished running fold {i} for {ORG_NAME}\")\n",
    "    except Exception as e:\n",
    "        requests.post(\"https://ntfy.sh/grasia_notebooks\", data=f\"Error on fold {i} for {ORG_NAME}: {repr(e)}\")\n",
    "        raise\n",
    "\n",
    "pbar.close()"
   ]
  },
  {
   "cell_type": "code",
   "execution_count": 24,
   "id": "704e3567",
   "metadata": {
    "editable": true,
    "execution": {
     "iopub.execute_input": "2024-09-06T17:00:48.548176Z",
     "iopub.status.busy": "2024-09-06T17:00:48.548012Z",
     "iopub.status.idle": "2024-09-06T17:00:48.876113Z",
     "shell.execute_reply": "2024-09-06T17:00:48.874273Z"
    },
    "papermill": {
     "duration": 0.336784,
     "end_time": "2024-09-06T17:00:48.879629",
     "exception": false,
     "start_time": "2024-09-06T17:00:48.542845",
     "status": "completed"
    },
    "slideshow": {
     "slide_type": ""
    },
    "tags": []
   },
   "outputs": [
    {
     "name": "stdout",
     "output_type": "stream",
     "text": [
      "Finished!\n"
     ]
    }
   ],
   "source": [
    "requests.post(\"https://ntfy.sh/grasia_notebooks\", data=f\"Finished running everything for {ORG_NAME}\")\n",
    "print(\"Finished!\")"
   ]
  }
 ],
 "metadata": {
  "kernelspec": {
   "display_name": "Python 3 (ipykernel)",
   "language": "python",
   "name": "python3"
  },
  "language_info": {
   "codemirror_mode": {
    "name": "ipython",
    "version": 3
   },
   "file_extension": ".py",
   "mimetype": "text/x-python",
   "name": "python",
   "nbconvert_exporter": "python",
   "pygments_lexer": "ipython3",
   "version": "3.11.6"
  },
  "papermill": {
   "default_parameters": {},
   "duration": 3492.865856,
   "end_time": "2024-09-06T17:00:54.019912",
   "environment_variables": {},
   "exception": null,
   "input_path": "20_microsoft_tuning.ipynb",
   "output_path": "../nbout/dOrg/20_microsoft_tuning.ipynb",
   "parameters": {
    "EXECUTION_ID": "2024-09-04T10:00",
    "LAST_FOLDS": 10,
    "LAST_FOLD_DATE_STR": "2022-02-18",
    "ORG_NAME": "dOrg",
    "SPLITS_FREQ": "2d",
    "SPLITS_NORMALIZE": true
   },
   "start_time": "2024-09-06T16:02:41.154056",
   "version": "2.6.0"
  },
  "widgets": {
   "application/vnd.jupyter.widget-state+json": {
    "state": {
     "0088c904605a4e91ad5754416e261229": {
      "model_module": "@jupyter-widgets/controls",
      "model_module_version": "2.0.0",
      "model_name": "HTMLStyleModel",
      "state": {
       "_model_module": "@jupyter-widgets/controls",
       "_model_module_version": "2.0.0",
       "_model_name": "HTMLStyleModel",
       "_view_count": null,
       "_view_module": "@jupyter-widgets/base",
       "_view_module_version": "2.0.0",
       "_view_name": "StyleView",
       "background": null,
       "description_width": "",
       "font_size": null,
       "text_color": null
      }
     },
     "1cd73c8ebc344e489299b1611bb39b64": {
      "model_module": "@jupyter-widgets/controls",
      "model_module_version": "2.0.0",
      "model_name": "HTMLStyleModel",
      "state": {
       "_model_module": "@jupyter-widgets/controls",
       "_model_module_version": "2.0.0",
       "_model_name": "HTMLStyleModel",
       "_view_count": null,
       "_view_module": "@jupyter-widgets/base",
       "_view_module_version": "2.0.0",
       "_view_name": "StyleView",
       "background": null,
       "description_width": "",
       "font_size": null,
       "text_color": null
      }
     },
     "6b56186a219f44e28193a7fdbe5c2eb5": {
      "model_module": "@jupyter-widgets/controls",
      "model_module_version": "2.0.0",
      "model_name": "HBoxModel",
      "state": {
       "_dom_classes": [],
       "_model_module": "@jupyter-widgets/controls",
       "_model_module_version": "2.0.0",
       "_model_name": "HBoxModel",
       "_view_count": null,
       "_view_module": "@jupyter-widgets/controls",
       "_view_module_version": "2.0.0",
       "_view_name": "HBoxView",
       "box_style": "",
       "children": [
        "IPY_MODEL_f759c0b3a0844823aa8bea88137b87e4",
        "IPY_MODEL_d4fe581f70b145e9967d2ad8161b4b22",
        "IPY_MODEL_aa0c34526f584304bd387e29f9a19749"
       ],
       "layout": "IPY_MODEL_a72a960106d74e3b9a09ce229afa8012",
       "tabbable": null,
       "tooltip": null
      }
     },
     "6bdc7b72efa8469bbe0d7c951c32b983": {
      "model_module": "@jupyter-widgets/controls",
      "model_module_version": "2.0.0",
      "model_name": "ProgressStyleModel",
      "state": {
       "_model_module": "@jupyter-widgets/controls",
       "_model_module_version": "2.0.0",
       "_model_name": "ProgressStyleModel",
       "_view_count": null,
       "_view_module": "@jupyter-widgets/base",
       "_view_module_version": "2.0.0",
       "_view_name": "StyleView",
       "bar_color": null,
       "description_width": ""
      }
     },
     "70fce4068ec64e99b2716fd3b9aaacc5": {
      "model_module": "@jupyter-widgets/base",
      "model_module_version": "2.0.0",
      "model_name": "LayoutModel",
      "state": {
       "_model_module": "@jupyter-widgets/base",
       "_model_module_version": "2.0.0",
       "_model_name": "LayoutModel",
       "_view_count": null,
       "_view_module": "@jupyter-widgets/base",
       "_view_module_version": "2.0.0",
       "_view_name": "LayoutView",
       "align_content": null,
       "align_items": null,
       "align_self": null,
       "border_bottom": "1px solid black",
       "border_left": "1px solid black",
       "border_right": "1px solid black",
       "border_top": "1px solid black",
       "bottom": null,
       "display": null,
       "flex": null,
       "flex_flow": null,
       "grid_area": null,
       "grid_auto_columns": null,
       "grid_auto_flow": null,
       "grid_auto_rows": null,
       "grid_column": null,
       "grid_gap": null,
       "grid_row": null,
       "grid_template_areas": null,
       "grid_template_columns": null,
       "grid_template_rows": null,
       "height": null,
       "justify_content": null,
       "justify_items": null,
       "left": null,
       "margin": null,
       "max_height": null,
       "max_width": null,
       "min_height": null,
       "min_width": null,
       "object_fit": null,
       "object_position": null,
       "order": null,
       "overflow": null,
       "padding": null,
       "right": null,
       "top": null,
       "visibility": null,
       "width": null
      }
     },
     "a457882082894d23b0ce56cccc9d2b8d": {
      "model_module": "@jupyter-widgets/base",
      "model_module_version": "2.0.0",
      "model_name": "LayoutModel",
      "state": {
       "_model_module": "@jupyter-widgets/base",
       "_model_module_version": "2.0.0",
       "_model_name": "LayoutModel",
       "_view_count": null,
       "_view_module": "@jupyter-widgets/base",
       "_view_module_version": "2.0.0",
       "_view_name": "LayoutView",
       "align_content": null,
       "align_items": null,
       "align_self": null,
       "border_bottom": null,
       "border_left": null,
       "border_right": null,
       "border_top": null,
       "bottom": null,
       "display": null,
       "flex": null,
       "flex_flow": null,
       "grid_area": null,
       "grid_auto_columns": null,
       "grid_auto_flow": null,
       "grid_auto_rows": null,
       "grid_column": null,
       "grid_gap": null,
       "grid_row": null,
       "grid_template_areas": null,
       "grid_template_columns": null,
       "grid_template_rows": null,
       "height": null,
       "justify_content": null,
       "justify_items": null,
       "left": null,
       "margin": null,
       "max_height": null,
       "max_width": null,
       "min_height": null,
       "min_width": null,
       "object_fit": null,
       "object_position": null,
       "order": null,
       "overflow": null,
       "padding": null,
       "right": null,
       "top": null,
       "visibility": null,
       "width": null
      }
     },
     "a72a960106d74e3b9a09ce229afa8012": {
      "model_module": "@jupyter-widgets/base",
      "model_module_version": "2.0.0",
      "model_name": "LayoutModel",
      "state": {
       "_model_module": "@jupyter-widgets/base",
       "_model_module_version": "2.0.0",
       "_model_name": "LayoutModel",
       "_view_count": null,
       "_view_module": "@jupyter-widgets/base",
       "_view_module_version": "2.0.0",
       "_view_name": "LayoutView",
       "align_content": null,
       "align_items": null,
       "align_self": null,
       "border_bottom": null,
       "border_left": null,
       "border_right": null,
       "border_top": null,
       "bottom": null,
       "display": null,
       "flex": null,
       "flex_flow": null,
       "grid_area": null,
       "grid_auto_columns": null,
       "grid_auto_flow": null,
       "grid_auto_rows": null,
       "grid_column": null,
       "grid_gap": null,
       "grid_row": null,
       "grid_template_areas": null,
       "grid_template_columns": null,
       "grid_template_rows": null,
       "height": null,
       "justify_content": null,
       "justify_items": null,
       "left": null,
       "margin": null,
       "max_height": null,
       "max_width": null,
       "min_height": null,
       "min_width": null,
       "object_fit": null,
       "object_position": null,
       "order": null,
       "overflow": null,
       "padding": null,
       "right": null,
       "top": null,
       "visibility": null,
       "width": null
      }
     },
     "aa0c34526f584304bd387e29f9a19749": {
      "model_module": "@jupyter-widgets/controls",
      "model_module_version": "2.0.0",
      "model_name": "HTMLModel",
      "state": {
       "_dom_classes": [],
       "_model_module": "@jupyter-widgets/controls",
       "_model_module_version": "2.0.0",
       "_model_name": "HTMLModel",
       "_view_count": null,
       "_view_module": "@jupyter-widgets/controls",
       "_view_module_version": "2.0.0",
       "_view_name": "HTMLView",
       "description": "",
       "description_allow_html": false,
       "layout": "IPY_MODEL_f738e10d697a4dfc9fbc677426a57234",
       "placeholder": "​",
       "style": "IPY_MODEL_1cd73c8ebc344e489299b1611bb39b64",
       "tabbable": null,
       "tooltip": null,
       "value": " 10/10 [58:02&lt;00:00, 348.24s/it]"
      }
     },
     "b55e627a9be8446798b7ced6fa06de83": {
      "model_module": "@jupyter-widgets/base",
      "model_module_version": "2.0.0",
      "model_name": "LayoutModel",
      "state": {
       "_model_module": "@jupyter-widgets/base",
       "_model_module_version": "2.0.0",
       "_model_name": "LayoutModel",
       "_view_count": null,
       "_view_module": "@jupyter-widgets/base",
       "_view_module_version": "2.0.0",
       "_view_name": "LayoutView",
       "align_content": null,
       "align_items": null,
       "align_self": null,
       "border_bottom": null,
       "border_left": null,
       "border_right": null,
       "border_top": null,
       "bottom": null,
       "display": null,
       "flex": null,
       "flex_flow": null,
       "grid_area": null,
       "grid_auto_columns": null,
       "grid_auto_flow": null,
       "grid_auto_rows": null,
       "grid_column": null,
       "grid_gap": null,
       "grid_row": null,
       "grid_template_areas": null,
       "grid_template_columns": null,
       "grid_template_rows": null,
       "height": null,
       "justify_content": null,
       "justify_items": null,
       "left": null,
       "margin": null,
       "max_height": null,
       "max_width": null,
       "min_height": null,
       "min_width": null,
       "object_fit": null,
       "object_position": null,
       "order": null,
       "overflow": null,
       "padding": null,
       "right": null,
       "top": null,
       "visibility": null,
       "width": null
      }
     },
     "d4fe581f70b145e9967d2ad8161b4b22": {
      "model_module": "@jupyter-widgets/controls",
      "model_module_version": "2.0.0",
      "model_name": "FloatProgressModel",
      "state": {
       "_dom_classes": [],
       "_model_module": "@jupyter-widgets/controls",
       "_model_module_version": "2.0.0",
       "_model_name": "FloatProgressModel",
       "_view_count": null,
       "_view_module": "@jupyter-widgets/controls",
       "_view_module_version": "2.0.0",
       "_view_name": "ProgressView",
       "bar_style": "success",
       "description": "",
       "description_allow_html": false,
       "layout": "IPY_MODEL_a457882082894d23b0ce56cccc9d2b8d",
       "max": 10.0,
       "min": 0.0,
       "orientation": "horizontal",
       "style": "IPY_MODEL_6bdc7b72efa8469bbe0d7c951c32b983",
       "tabbable": null,
       "tooltip": null,
       "value": 10.0
      }
     },
     "ecb15d61e97e4f1282a1e6ebdea0079f": {
      "model_module": "@jupyter-widgets/output",
      "model_module_version": "1.0.0",
      "model_name": "OutputModel",
      "state": {
       "_dom_classes": [],
       "_model_module": "@jupyter-widgets/output",
       "_model_module_version": "1.0.0",
       "_model_name": "OutputModel",
       "_view_count": null,
       "_view_module": "@jupyter-widgets/output",
       "_view_module_version": "1.0.0",
       "_view_name": "OutputView",
       "layout": "IPY_MODEL_70fce4068ec64e99b2716fd3b9aaacc5",
       "msg_id": "",
       "outputs": [
        {
         "name": "stdout",
         "output_type": "stream",
         "text": "In this cell important output from the next cell will be shown\nAlso evaluating best_prev_config (map@10=0.8777777777777778): {'batch_size': 8, 'embedding_dim': 2, 'conv_layers': 4, 'learning_rate': 0.17900000000000002, 'l2': 0.0011631657691358744, 'window_size': '10YE', 'fold': '2022-02-02T00:00:00'}\nAlso evaluating best_prev_config (map@10=1.0): {'batch_size': 10, 'embedding_dim': 5, 'conv_layers': 2, 'learning_rate': 0.00030000000000000003, 'l2': 1.4159936555980058e-05, 'window_size': '30d', 'fold': '2022-02-04T00:00:00'}\nAlso evaluating best_prev_config (map@10=1.0): {'batch_size': 7, 'embedding_dim': 999, 'conv_layers': 1, 'learning_rate': 0.0199, 'l2': 1.3486461143715183e-07, 'window_size': '90d', 'fold': '2022-02-06T00:00:00'}\nAlso evaluating best_prev_config (map@10=1.0): {'batch_size': 7, 'embedding_dim': 580, 'conv_layers': 4, 'learning_rate': 0.44670000000000004, 'l2': 1.4287964892918515e-07, 'window_size': '60d', 'fold': '2022-02-08T00:00:00'}\nAlso evaluating best_prev_config (map@10=0.8703703703703703): {'batch_size': 10, 'embedding_dim': 1, 'conv_layers': 1, 'learning_rate': 0.002, 'l2': 0.009877642524810068, 'window_size': '21d', 'fold': '2022-02-10T00:00:00'}\nAlso evaluating best_prev_config (map@10=1.0): {'batch_size': 8, 'embedding_dim': 752, 'conv_layers': 3, 'learning_rate': 0.1383, 'l2': 8.30330848053869e-05, 'window_size': '60d', 'fold': '2022-02-12T00:00:00'}\nAlso evaluating best_prev_config (map@10=1.0): {'batch_size': 10, 'embedding_dim': 8, 'conv_layers': 3, 'learning_rate': 0.075, 'l2': 4.125288777874092e-07, 'window_size': '10YE', 'fold': '2022-02-14T00:00:00'}\nAlso evaluating best_prev_config (map@10=1.0): {'batch_size': 8, 'embedding_dim': 14, 'conv_layers': 1, 'learning_rate': 0.4368, 'l2': 4.879806143717593e-06, 'window_size': '30d', 'fold': '2022-02-16T00:00:00'}\nAlso evaluating best_prev_config (map@10=1.0): {'batch_size': 6, 'embedding_dim': 32, 'conv_layers': 1, 'learning_rate': 0.0015, 'l2': 0.0059286556803462, 'window_size': '60d', 'fold': '2022-02-18T00:00:00'}\n"
        }
       ],
       "tabbable": null,
       "tooltip": null
      }
     },
     "f738e10d697a4dfc9fbc677426a57234": {
      "model_module": "@jupyter-widgets/base",
      "model_module_version": "2.0.0",
      "model_name": "LayoutModel",
      "state": {
       "_model_module": "@jupyter-widgets/base",
       "_model_module_version": "2.0.0",
       "_model_name": "LayoutModel",
       "_view_count": null,
       "_view_module": "@jupyter-widgets/base",
       "_view_module_version": "2.0.0",
       "_view_name": "LayoutView",
       "align_content": null,
       "align_items": null,
       "align_self": null,
       "border_bottom": null,
       "border_left": null,
       "border_right": null,
       "border_top": null,
       "bottom": null,
       "display": null,
       "flex": null,
       "flex_flow": null,
       "grid_area": null,
       "grid_auto_columns": null,
       "grid_auto_flow": null,
       "grid_auto_rows": null,
       "grid_column": null,
       "grid_gap": null,
       "grid_row": null,
       "grid_template_areas": null,
       "grid_template_columns": null,
       "grid_template_rows": null,
       "height": null,
       "justify_content": null,
       "justify_items": null,
       "left": null,
       "margin": null,
       "max_height": null,
       "max_width": null,
       "min_height": null,
       "min_width": null,
       "object_fit": null,
       "object_position": null,
       "order": null,
       "overflow": null,
       "padding": null,
       "right": null,
       "top": null,
       "visibility": null,
       "width": null
      }
     },
     "f759c0b3a0844823aa8bea88137b87e4": {
      "model_module": "@jupyter-widgets/controls",
      "model_module_version": "2.0.0",
      "model_name": "HTMLModel",
      "state": {
       "_dom_classes": [],
       "_model_module": "@jupyter-widgets/controls",
       "_model_module_version": "2.0.0",
       "_model_name": "HTMLModel",
       "_view_count": null,
       "_view_module": "@jupyter-widgets/controls",
       "_view_module_version": "2.0.0",
       "_view_name": "HTMLView",
       "description": "",
       "description_allow_html": false,
       "layout": "IPY_MODEL_b55e627a9be8446798b7ced6fa06de83",
       "placeholder": "​",
       "style": "IPY_MODEL_0088c904605a4e91ad5754416e261229",
       "tabbable": null,
       "tooltip": null,
       "value": "fold: 100%"
      }
     }
    },
    "version_major": 2,
    "version_minor": 0
   }
  }
 },
 "nbformat": 4,
 "nbformat_minor": 5
}