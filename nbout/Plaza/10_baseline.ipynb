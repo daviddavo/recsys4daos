{
 "cells": [
  {
   "cell_type": "code",
   "execution_count": 1,
   "id": "2f7e687f",
   "metadata": {
    "execution": {
     "iopub.execute_input": "2024-07-04T08:30:28.387420Z",
     "iopub.status.busy": "2024-07-04T08:30:28.387334Z",
     "iopub.status.idle": "2024-07-04T08:30:30.753139Z",
     "shell.execute_reply": "2024-07-04T08:30:30.752805Z"
    },
    "papermill": {
     "duration": 2.373308,
     "end_time": "2024-07-04T08:30:30.753917",
     "exception": false,
     "start_time": "2024-07-04T08:30:28.380609",
     "status": "completed"
    },
    "tags": []
   },
   "outputs": [
    {
     "name": "stderr",
     "output_type": "stream",
     "text": [
      "/tmp/ipykernel_1449224/2526015065.py:7: TqdmExperimentalWarning: Using `tqdm.autonotebook.tqdm` in notebook mode. Use `tqdm.tqdm` instead to force console mode (e.g. in jupyter console)\n",
      "  from tqdm.autonotebook import tqdm\n"
     ]
    },
    {
     "name": "stdout",
     "output_type": "stream",
     "text": [
      "Ignoring warnings\n"
     ]
    }
   ],
   "source": [
    "from typing import List\n",
    "import sys\n",
    "from collections import defaultdict\n",
    "\n",
    "import pandas as pd\n",
    "import numpy as np\n",
    "from tqdm.autonotebook import tqdm\n",
    "\n",
    "from recsys4daos.models import OpenPop\n",
    "from recsys4daos.datasets import to_microsoft\n",
    "from recsys4daos.model_selection import cvtt_open\n",
    "from recsys4daos.evaluation import calculate_all_metrics\n",
    "\n",
    "import paths\n",
    "\n",
    "import recommenders\n",
    "if recommenders.__version__ == '1.2.0':\n",
    "    print(\"Ignoring warnings\")\n",
    "    import warnings\n",
    "    warnings.simplefilter(action='ignore', category=FutureWarning)"
   ]
  },
  {
   "cell_type": "code",
   "execution_count": 2,
   "id": "4dcd5a5a",
   "metadata": {
    "editable": true,
    "execution": {
     "iopub.execute_input": "2024-07-04T08:30:30.758882Z",
     "iopub.status.busy": "2024-07-04T08:30:30.758646Z",
     "iopub.status.idle": "2024-07-04T08:30:30.760766Z",
     "shell.execute_reply": "2024-07-04T08:30:30.760524Z"
    },
    "papermill": {
     "duration": 0.005292,
     "end_time": "2024-07-04T08:30:30.761409",
     "exception": false,
     "start_time": "2024-07-04T08:30:30.756117",
     "status": "completed"
    },
    "slideshow": {
     "slide_type": ""
    },
    "tags": [
     "parameters"
    ]
   },
   "outputs": [],
   "source": [
    "SPLITS_FREQ = \"W-THU\"\n",
    "SPLITS_NORMALIZE = True\n",
    "ORG_NAME = 'Decentraland'\n",
    "LAST_FOLD_DATE_STR: str = None # Won't use it, we will just calculate for every fold\n",
    "\n",
    "# In this notebook this is just used for plotting and description, not \"training\"\n",
    "# every fold is saved into the results table\n",
    "LAST_FOLDS = 10\n",
    "\n",
    "K_RECOMMENDATIONS: List[int] = [1,3,5,10,15,100]"
   ]
  },
  {
   "cell_type": "code",
   "execution_count": 3,
   "id": "597a567f",
   "metadata": {
    "execution": {
     "iopub.execute_input": "2024-07-04T08:30:30.765266Z",
     "iopub.status.busy": "2024-07-04T08:30:30.765170Z",
     "iopub.status.idle": "2024-07-04T08:30:30.766729Z",
     "shell.execute_reply": "2024-07-04T08:30:30.766545Z"
    },
    "papermill": {
     "duration": 0.00424,
     "end_time": "2024-07-04T08:30:30.767284",
     "exception": false,
     "start_time": "2024-07-04T08:30:30.763044",
     "status": "completed"
    },
    "tags": [
     "injected-parameters"
    ]
   },
   "outputs": [],
   "source": [
    "# Parameters\n",
    "EXECUTION_ID = \"2024-07-03\"\n",
    "ORG_NAME = \"Plaza\"\n",
    "SPLITS_FREQ = \"3d\"\n",
    "LAST_FOLDS = 20\n",
    "SPLITS_NORMALIZE = True\n",
    "LAST_FOLD_DATE_STR = \"2022-06-29\"\n"
   ]
  },
  {
   "cell_type": "markdown",
   "id": "1c86cdb9",
   "metadata": {
    "papermill": {
     "duration": 0.001561,
     "end_time": "2024-07-04T08:30:30.770482",
     "exception": false,
     "start_time": "2024-07-04T08:30:30.768921",
     "status": "completed"
    },
    "tags": []
   },
   "source": [
    "## Obtain dataset"
   ]
  },
  {
   "cell_type": "code",
   "execution_count": 4,
   "id": "ae3c8609",
   "metadata": {
    "execution": {
     "iopub.execute_input": "2024-07-04T08:30:30.774279Z",
     "iopub.status.busy": "2024-07-04T08:30:30.774101Z",
     "iopub.status.idle": "2024-07-04T08:30:30.897771Z",
     "shell.execute_reply": "2024-07-04T08:30:30.895383Z"
    },
    "papermill": {
     "duration": 0.129284,
     "end_time": "2024-07-04T08:30:30.901417",
     "exception": false,
     "start_time": "2024-07-04T08:30:30.772133",
     "status": "completed"
    },
    "tags": []
   },
   "outputs": [
    {
     "name": "stdout",
     "output_type": "stream",
     "text": [
      "/home/daviddavo/recsys4daos/notebooks\r\n"
     ]
    }
   ],
   "source": [
    "!pwd"
   ]
  },
  {
   "cell_type": "code",
   "execution_count": 5,
   "id": "4f265681",
   "metadata": {
    "execution": {
     "iopub.execute_input": "2024-07-04T08:30:30.920088Z",
     "iopub.status.busy": "2024-07-04T08:30:30.919776Z",
     "iopub.status.idle": "2024-07-04T08:30:31.042318Z",
     "shell.execute_reply": "2024-07-04T08:30:31.039851Z"
    },
    "papermill": {
     "duration": 0.133952,
     "end_time": "2024-07-04T08:30:31.046162",
     "exception": false,
     "start_time": "2024-07-04T08:30:30.912210",
     "status": "completed"
    },
    "tags": []
   },
   "outputs": [
    {
     "name": "stdout",
     "output_type": "stream",
     "text": [
      "md5sum: '../data/decentraland/*': No such file or directory\r\n"
     ]
    }
   ],
   "source": [
    "!md5sum ../data/decentraland/*"
   ]
  },
  {
   "cell_type": "code",
   "execution_count": 6,
   "id": "a368d65c",
   "metadata": {
    "execution": {
     "iopub.execute_input": "2024-07-04T08:30:31.064418Z",
     "iopub.status.busy": "2024-07-04T08:30:31.064152Z",
     "iopub.status.idle": "2024-07-04T08:30:31.089903Z",
     "shell.execute_reply": "2024-07-04T08:30:31.089696Z"
    },
    "papermill": {
     "duration": 0.034438,
     "end_time": "2024-07-04T08:30:31.090604",
     "exception": false,
     "start_time": "2024-07-04T08:30:31.056166",
     "status": "completed"
    },
    "tags": []
   },
   "outputs": [
    {
     "name": "stdout",
     "output_type": "stream",
     "text": [
      "<class 'pandas.core.frame.DataFrame'>\n",
      "RangeIndex: 419 entries, 0 to 418\n",
      "Data columns (total 6 columns):\n",
      " #   Column             Non-Null Count  Dtype         \n",
      "---  ------             --------------  -----         \n",
      " 0   id                 419 non-null    object        \n",
      " 1   author             419 non-null    object        \n",
      " 2   date               419 non-null    datetime64[us]\n",
      " 3   start              419 non-null    datetime64[us]\n",
      " 4   end                416 non-null    datetime64[us]\n",
      " 5   platform_proposal  419 non-null    object        \n",
      "dtypes: datetime64[us](3), object(3)\n",
      "memory usage: 19.8+ KB\n",
      "None\n",
      "<class 'pandas.core.frame.DataFrame'>\n",
      "RangeIndex: 534 entries, 0 to 533\n",
      "Data columns (total 4 columns):\n",
      " #   Column    Non-Null Count  Dtype         \n",
      "---  ------    --------------  -----         \n",
      " 0   id        534 non-null    object        \n",
      " 1   proposal  534 non-null    object        \n",
      " 2   voter     534 non-null    object        \n",
      " 3   date      534 non-null    datetime64[us]\n",
      "dtypes: datetime64[us](1), object(3)\n",
      "memory usage: 16.8+ KB\n",
      "None\n",
      "<class 'pandas.core.frame.DataFrame'>\n",
      "RangeIndex: 534 entries, 0 to 533\n",
      "Data columns (total 4 columns):\n",
      " #   Column     Non-Null Count  Dtype         \n",
      "---  ------     --------------  -----         \n",
      " 0   userID     534 non-null    object        \n",
      " 1   itemID     534 non-null    object        \n",
      " 2   timestamp  534 non-null    datetime64[us]\n",
      " 3   rating     534 non-null    int64         \n",
      "dtypes: datetime64[us](1), int64(1), object(2)\n",
      "memory usage: 16.8+ KB\n",
      "None\n"
     ]
    }
   ],
   "source": [
    "dfp = paths.load_proposals(ORG_NAME)\n",
    "dfv = paths.load_votes(ORG_NAME)\n",
    "\n",
    "df = to_microsoft(dfv)\n",
    "\n",
    "print(dfp.info())\n",
    "print(dfv.info())\n",
    "print(df.info())"
   ]
  },
  {
   "cell_type": "markdown",
   "id": "c73da3da",
   "metadata": {
    "papermill": {
     "duration": 0.002074,
     "end_time": "2024-07-04T08:30:31.094891",
     "exception": false,
     "start_time": "2024-07-04T08:30:31.092817",
     "status": "completed"
    },
    "tags": []
   },
   "source": [
    "## Showing some info of the folds"
   ]
  },
  {
   "cell_type": "code",
   "execution_count": 7,
   "id": "58e70f04",
   "metadata": {
    "execution": {
     "iopub.execute_input": "2024-07-04T08:30:31.098976Z",
     "iopub.status.busy": "2024-07-04T08:30:31.098877Z",
     "iopub.status.idle": "2024-07-04T08:30:31.680667Z",
     "shell.execute_reply": "2024-07-04T08:30:31.680438Z"
    },
    "papermill": {
     "duration": 0.584738,
     "end_time": "2024-07-04T08:30:31.681417",
     "exception": false,
     "start_time": "2024-07-04T08:30:31.096679",
     "status": "completed"
    },
    "tags": []
   },
   "outputs": [
    {
     "name": "stdout",
     "output_type": "stream",
     "text": [
      "t\n",
      "2023-05-22    531\n",
      "2023-05-25    531\n",
      "2023-05-28    531\n",
      "2023-05-31    531\n",
      "2023-06-03    531\n",
      "2023-06-06    531\n",
      "2023-06-09    531\n",
      "2023-06-12    531\n",
      "2023-06-15    531\n",
      "2023-06-18    531\n",
      "2023-06-21    531\n",
      "2023-06-24    532\n",
      "2023-06-27    532\n",
      "2023-06-30    532\n",
      "2023-07-03    532\n",
      "2023-07-06    532\n",
      "2023-07-09    532\n",
      "2023-07-12    532\n",
      "2023-07-15    532\n",
      "2023-07-18    532\n",
      "Name: votes in train, dtype: int64\n"
     ]
    },
    {
     "data": {
      "text/html": [
       "<style type=\"text/css\">\n",
       "</style>\n",
       "<table id=\"T_82906\">\n",
       "  <thead>\n",
       "    <tr>\n",
       "      <th class=\"blank level0\" >&nbsp;</th>\n",
       "      <th id=\"T_82906_level0_col0\" class=\"col_heading level0 col0\" >open proposals</th>\n",
       "      <th id=\"T_82906_level0_col1\" class=\"col_heading level0 col1\" >votes in open proposals (train)</th>\n",
       "      <th id=\"T_82906_level0_col2\" class=\"col_heading level0 col2\" >users in open proposals (train)</th>\n",
       "      <th id=\"T_82906_level0_col3\" class=\"col_heading level0 col3\" >vpp in open proposals (train)</th>\n",
       "      <th id=\"T_82906_level0_col4\" class=\"col_heading level0 col4\" >vpu in open proposals (train)</th>\n",
       "      <th id=\"T_82906_level0_col5\" class=\"col_heading level0 col5\" >votes in test</th>\n",
       "      <th id=\"T_82906_level0_col6\" class=\"col_heading level0 col6\" >users in test</th>\n",
       "      <th id=\"T_82906_level0_col7\" class=\"col_heading level0 col7\" >vpp test</th>\n",
       "      <th id=\"T_82906_level0_col8\" class=\"col_heading level0 col8\" >vpu test</th>\n",
       "    </tr>\n",
       "    <tr>\n",
       "      <th class=\"index_name level0\" >t</th>\n",
       "      <th class=\"blank col0\" >&nbsp;</th>\n",
       "      <th class=\"blank col1\" >&nbsp;</th>\n",
       "      <th class=\"blank col2\" >&nbsp;</th>\n",
       "      <th class=\"blank col3\" >&nbsp;</th>\n",
       "      <th class=\"blank col4\" >&nbsp;</th>\n",
       "      <th class=\"blank col5\" >&nbsp;</th>\n",
       "      <th class=\"blank col6\" >&nbsp;</th>\n",
       "      <th class=\"blank col7\" >&nbsp;</th>\n",
       "      <th class=\"blank col8\" >&nbsp;</th>\n",
       "    </tr>\n",
       "  </thead>\n",
       "  <tbody>\n",
       "    <tr>\n",
       "      <th id=\"T_82906_level0_row0\" class=\"row_heading level0 row0\" >2023-W21</th>\n",
       "      <td id=\"T_82906_row0_col0\" class=\"data row0 col0\" >0</td>\n",
       "      <td id=\"T_82906_row0_col1\" class=\"data row0 col1\" >0</td>\n",
       "      <td id=\"T_82906_row0_col2\" class=\"data row0 col2\" >0</td>\n",
       "      <td id=\"T_82906_row0_col3\" class=\"data row0 col3\" >nan</td>\n",
       "      <td id=\"T_82906_row0_col4\" class=\"data row0 col4\" >nan</td>\n",
       "      <td id=\"T_82906_row0_col5\" class=\"data row0 col5\" >0</td>\n",
       "      <td id=\"T_82906_row0_col6\" class=\"data row0 col6\" >0</td>\n",
       "      <td id=\"T_82906_row0_col7\" class=\"data row0 col7\" >nan</td>\n",
       "      <td id=\"T_82906_row0_col8\" class=\"data row0 col8\" >nan</td>\n",
       "    </tr>\n",
       "    <tr>\n",
       "      <th id=\"T_82906_level0_row1\" class=\"row_heading level0 row1\" >2023-W21</th>\n",
       "      <td id=\"T_82906_row1_col0\" class=\"data row1 col0\" >0</td>\n",
       "      <td id=\"T_82906_row1_col1\" class=\"data row1 col1\" >0</td>\n",
       "      <td id=\"T_82906_row1_col2\" class=\"data row1 col2\" >0</td>\n",
       "      <td id=\"T_82906_row1_col3\" class=\"data row1 col3\" >nan</td>\n",
       "      <td id=\"T_82906_row1_col4\" class=\"data row1 col4\" >nan</td>\n",
       "      <td id=\"T_82906_row1_col5\" class=\"data row1 col5\" >0</td>\n",
       "      <td id=\"T_82906_row1_col6\" class=\"data row1 col6\" >0</td>\n",
       "      <td id=\"T_82906_row1_col7\" class=\"data row1 col7\" >nan</td>\n",
       "      <td id=\"T_82906_row1_col8\" class=\"data row1 col8\" >nan</td>\n",
       "    </tr>\n",
       "    <tr>\n",
       "      <th id=\"T_82906_level0_row2\" class=\"row_heading level0 row2\" >2023-W21</th>\n",
       "      <td id=\"T_82906_row2_col0\" class=\"data row2 col0\" >0</td>\n",
       "      <td id=\"T_82906_row2_col1\" class=\"data row2 col1\" >0</td>\n",
       "      <td id=\"T_82906_row2_col2\" class=\"data row2 col2\" >0</td>\n",
       "      <td id=\"T_82906_row2_col3\" class=\"data row2 col3\" >nan</td>\n",
       "      <td id=\"T_82906_row2_col4\" class=\"data row2 col4\" >nan</td>\n",
       "      <td id=\"T_82906_row2_col5\" class=\"data row2 col5\" >0</td>\n",
       "      <td id=\"T_82906_row2_col6\" class=\"data row2 col6\" >0</td>\n",
       "      <td id=\"T_82906_row2_col7\" class=\"data row2 col7\" >nan</td>\n",
       "      <td id=\"T_82906_row2_col8\" class=\"data row2 col8\" >nan</td>\n",
       "    </tr>\n",
       "    <tr>\n",
       "      <th id=\"T_82906_level0_row3\" class=\"row_heading level0 row3\" >2023-W22</th>\n",
       "      <td id=\"T_82906_row3_col0\" class=\"data row3 col0\" >0</td>\n",
       "      <td id=\"T_82906_row3_col1\" class=\"data row3 col1\" >0</td>\n",
       "      <td id=\"T_82906_row3_col2\" class=\"data row3 col2\" >0</td>\n",
       "      <td id=\"T_82906_row3_col3\" class=\"data row3 col3\" >nan</td>\n",
       "      <td id=\"T_82906_row3_col4\" class=\"data row3 col4\" >nan</td>\n",
       "      <td id=\"T_82906_row3_col5\" class=\"data row3 col5\" >0</td>\n",
       "      <td id=\"T_82906_row3_col6\" class=\"data row3 col6\" >0</td>\n",
       "      <td id=\"T_82906_row3_col7\" class=\"data row3 col7\" >nan</td>\n",
       "      <td id=\"T_82906_row3_col8\" class=\"data row3 col8\" >nan</td>\n",
       "    </tr>\n",
       "    <tr>\n",
       "      <th id=\"T_82906_level0_row4\" class=\"row_heading level0 row4\" >2023-W22</th>\n",
       "      <td id=\"T_82906_row4_col0\" class=\"data row4 col0\" >0</td>\n",
       "      <td id=\"T_82906_row4_col1\" class=\"data row4 col1\" >0</td>\n",
       "      <td id=\"T_82906_row4_col2\" class=\"data row4 col2\" >0</td>\n",
       "      <td id=\"T_82906_row4_col3\" class=\"data row4 col3\" >nan</td>\n",
       "      <td id=\"T_82906_row4_col4\" class=\"data row4 col4\" >nan</td>\n",
       "      <td id=\"T_82906_row4_col5\" class=\"data row4 col5\" >0</td>\n",
       "      <td id=\"T_82906_row4_col6\" class=\"data row4 col6\" >0</td>\n",
       "      <td id=\"T_82906_row4_col7\" class=\"data row4 col7\" >nan</td>\n",
       "      <td id=\"T_82906_row4_col8\" class=\"data row4 col8\" >nan</td>\n",
       "    </tr>\n",
       "    <tr>\n",
       "      <th id=\"T_82906_level0_row5\" class=\"row_heading level0 row5\" >2023-W23</th>\n",
       "      <td id=\"T_82906_row5_col0\" class=\"data row5 col0\" >0</td>\n",
       "      <td id=\"T_82906_row5_col1\" class=\"data row5 col1\" >0</td>\n",
       "      <td id=\"T_82906_row5_col2\" class=\"data row5 col2\" >0</td>\n",
       "      <td id=\"T_82906_row5_col3\" class=\"data row5 col3\" >nan</td>\n",
       "      <td id=\"T_82906_row5_col4\" class=\"data row5 col4\" >nan</td>\n",
       "      <td id=\"T_82906_row5_col5\" class=\"data row5 col5\" >0</td>\n",
       "      <td id=\"T_82906_row5_col6\" class=\"data row5 col6\" >0</td>\n",
       "      <td id=\"T_82906_row5_col7\" class=\"data row5 col7\" >nan</td>\n",
       "      <td id=\"T_82906_row5_col8\" class=\"data row5 col8\" >nan</td>\n",
       "    </tr>\n",
       "    <tr>\n",
       "      <th id=\"T_82906_level0_row6\" class=\"row_heading level0 row6\" >2023-W23</th>\n",
       "      <td id=\"T_82906_row6_col0\" class=\"data row6 col0\" >0</td>\n",
       "      <td id=\"T_82906_row6_col1\" class=\"data row6 col1\" >0</td>\n",
       "      <td id=\"T_82906_row6_col2\" class=\"data row6 col2\" >0</td>\n",
       "      <td id=\"T_82906_row6_col3\" class=\"data row6 col3\" >nan</td>\n",
       "      <td id=\"T_82906_row6_col4\" class=\"data row6 col4\" >nan</td>\n",
       "      <td id=\"T_82906_row6_col5\" class=\"data row6 col5\" >0</td>\n",
       "      <td id=\"T_82906_row6_col6\" class=\"data row6 col6\" >0</td>\n",
       "      <td id=\"T_82906_row6_col7\" class=\"data row6 col7\" >nan</td>\n",
       "      <td id=\"T_82906_row6_col8\" class=\"data row6 col8\" >nan</td>\n",
       "    </tr>\n",
       "    <tr>\n",
       "      <th id=\"T_82906_level0_row7\" class=\"row_heading level0 row7\" >2023-W24</th>\n",
       "      <td id=\"T_82906_row7_col0\" class=\"data row7 col0\" >0</td>\n",
       "      <td id=\"T_82906_row7_col1\" class=\"data row7 col1\" >0</td>\n",
       "      <td id=\"T_82906_row7_col2\" class=\"data row7 col2\" >0</td>\n",
       "      <td id=\"T_82906_row7_col3\" class=\"data row7 col3\" >nan</td>\n",
       "      <td id=\"T_82906_row7_col4\" class=\"data row7 col4\" >nan</td>\n",
       "      <td id=\"T_82906_row7_col5\" class=\"data row7 col5\" >0</td>\n",
       "      <td id=\"T_82906_row7_col6\" class=\"data row7 col6\" >0</td>\n",
       "      <td id=\"T_82906_row7_col7\" class=\"data row7 col7\" >nan</td>\n",
       "      <td id=\"T_82906_row7_col8\" class=\"data row7 col8\" >nan</td>\n",
       "    </tr>\n",
       "    <tr>\n",
       "      <th id=\"T_82906_level0_row8\" class=\"row_heading level0 row8\" >2023-W24</th>\n",
       "      <td id=\"T_82906_row8_col0\" class=\"data row8 col0\" >0</td>\n",
       "      <td id=\"T_82906_row8_col1\" class=\"data row8 col1\" >0</td>\n",
       "      <td id=\"T_82906_row8_col2\" class=\"data row8 col2\" >0</td>\n",
       "      <td id=\"T_82906_row8_col3\" class=\"data row8 col3\" >nan</td>\n",
       "      <td id=\"T_82906_row8_col4\" class=\"data row8 col4\" >nan</td>\n",
       "      <td id=\"T_82906_row8_col5\" class=\"data row8 col5\" >0</td>\n",
       "      <td id=\"T_82906_row8_col6\" class=\"data row8 col6\" >0</td>\n",
       "      <td id=\"T_82906_row8_col7\" class=\"data row8 col7\" >nan</td>\n",
       "      <td id=\"T_82906_row8_col8\" class=\"data row8 col8\" >nan</td>\n",
       "    </tr>\n",
       "    <tr>\n",
       "      <th id=\"T_82906_level0_row9\" class=\"row_heading level0 row9\" >2023-W24</th>\n",
       "      <td id=\"T_82906_row9_col0\" class=\"data row9 col0\" >0</td>\n",
       "      <td id=\"T_82906_row9_col1\" class=\"data row9 col1\" >0</td>\n",
       "      <td id=\"T_82906_row9_col2\" class=\"data row9 col2\" >0</td>\n",
       "      <td id=\"T_82906_row9_col3\" class=\"data row9 col3\" >nan</td>\n",
       "      <td id=\"T_82906_row9_col4\" class=\"data row9 col4\" >nan</td>\n",
       "      <td id=\"T_82906_row9_col5\" class=\"data row9 col5\" >0</td>\n",
       "      <td id=\"T_82906_row9_col6\" class=\"data row9 col6\" >0</td>\n",
       "      <td id=\"T_82906_row9_col7\" class=\"data row9 col7\" >nan</td>\n",
       "      <td id=\"T_82906_row9_col8\" class=\"data row9 col8\" >nan</td>\n",
       "    </tr>\n",
       "    <tr>\n",
       "      <th id=\"T_82906_level0_row10\" class=\"row_heading level0 row10\" >2023-W25</th>\n",
       "      <td id=\"T_82906_row10_col0\" class=\"data row10 col0\" >0</td>\n",
       "      <td id=\"T_82906_row10_col1\" class=\"data row10 col1\" >0</td>\n",
       "      <td id=\"T_82906_row10_col2\" class=\"data row10 col2\" >0</td>\n",
       "      <td id=\"T_82906_row10_col3\" class=\"data row10 col3\" >nan</td>\n",
       "      <td id=\"T_82906_row10_col4\" class=\"data row10 col4\" >nan</td>\n",
       "      <td id=\"T_82906_row10_col5\" class=\"data row10 col5\" >0</td>\n",
       "      <td id=\"T_82906_row10_col6\" class=\"data row10 col6\" >0</td>\n",
       "      <td id=\"T_82906_row10_col7\" class=\"data row10 col7\" >nan</td>\n",
       "      <td id=\"T_82906_row10_col8\" class=\"data row10 col8\" >nan</td>\n",
       "    </tr>\n",
       "    <tr>\n",
       "      <th id=\"T_82906_level0_row11\" class=\"row_heading level0 row11\" >2023-W25</th>\n",
       "      <td id=\"T_82906_row11_col0\" class=\"data row11 col0\" >1</td>\n",
       "      <td id=\"T_82906_row11_col1\" class=\"data row11 col1\" >1</td>\n",
       "      <td id=\"T_82906_row11_col2\" class=\"data row11 col2\" >1</td>\n",
       "      <td id=\"T_82906_row11_col3\" class=\"data row11 col3\" >1.00</td>\n",
       "      <td id=\"T_82906_row11_col4\" class=\"data row11 col4\" >1.00</td>\n",
       "      <td id=\"T_82906_row11_col5\" class=\"data row11 col5\" >0</td>\n",
       "      <td id=\"T_82906_row11_col6\" class=\"data row11 col6\" >0</td>\n",
       "      <td id=\"T_82906_row11_col7\" class=\"data row11 col7\" >0.00</td>\n",
       "      <td id=\"T_82906_row11_col8\" class=\"data row11 col8\" >nan</td>\n",
       "    </tr>\n",
       "    <tr>\n",
       "      <th id=\"T_82906_level0_row12\" class=\"row_heading level0 row12\" >2023-W26</th>\n",
       "      <td id=\"T_82906_row12_col0\" class=\"data row12 col0\" >0</td>\n",
       "      <td id=\"T_82906_row12_col1\" class=\"data row12 col1\" >0</td>\n",
       "      <td id=\"T_82906_row12_col2\" class=\"data row12 col2\" >0</td>\n",
       "      <td id=\"T_82906_row12_col3\" class=\"data row12 col3\" >nan</td>\n",
       "      <td id=\"T_82906_row12_col4\" class=\"data row12 col4\" >nan</td>\n",
       "      <td id=\"T_82906_row12_col5\" class=\"data row12 col5\" >0</td>\n",
       "      <td id=\"T_82906_row12_col6\" class=\"data row12 col6\" >0</td>\n",
       "      <td id=\"T_82906_row12_col7\" class=\"data row12 col7\" >nan</td>\n",
       "      <td id=\"T_82906_row12_col8\" class=\"data row12 col8\" >nan</td>\n",
       "    </tr>\n",
       "    <tr>\n",
       "      <th id=\"T_82906_level0_row13\" class=\"row_heading level0 row13\" >2023-W26</th>\n",
       "      <td id=\"T_82906_row13_col0\" class=\"data row13 col0\" >0</td>\n",
       "      <td id=\"T_82906_row13_col1\" class=\"data row13 col1\" >0</td>\n",
       "      <td id=\"T_82906_row13_col2\" class=\"data row13 col2\" >0</td>\n",
       "      <td id=\"T_82906_row13_col3\" class=\"data row13 col3\" >nan</td>\n",
       "      <td id=\"T_82906_row13_col4\" class=\"data row13 col4\" >nan</td>\n",
       "      <td id=\"T_82906_row13_col5\" class=\"data row13 col5\" >0</td>\n",
       "      <td id=\"T_82906_row13_col6\" class=\"data row13 col6\" >0</td>\n",
       "      <td id=\"T_82906_row13_col7\" class=\"data row13 col7\" >nan</td>\n",
       "      <td id=\"T_82906_row13_col8\" class=\"data row13 col8\" >nan</td>\n",
       "    </tr>\n",
       "    <tr>\n",
       "      <th id=\"T_82906_level0_row14\" class=\"row_heading level0 row14\" >2023-W27</th>\n",
       "      <td id=\"T_82906_row14_col0\" class=\"data row14 col0\" >0</td>\n",
       "      <td id=\"T_82906_row14_col1\" class=\"data row14 col1\" >0</td>\n",
       "      <td id=\"T_82906_row14_col2\" class=\"data row14 col2\" >0</td>\n",
       "      <td id=\"T_82906_row14_col3\" class=\"data row14 col3\" >nan</td>\n",
       "      <td id=\"T_82906_row14_col4\" class=\"data row14 col4\" >nan</td>\n",
       "      <td id=\"T_82906_row14_col5\" class=\"data row14 col5\" >0</td>\n",
       "      <td id=\"T_82906_row14_col6\" class=\"data row14 col6\" >0</td>\n",
       "      <td id=\"T_82906_row14_col7\" class=\"data row14 col7\" >nan</td>\n",
       "      <td id=\"T_82906_row14_col8\" class=\"data row14 col8\" >nan</td>\n",
       "    </tr>\n",
       "    <tr>\n",
       "      <th id=\"T_82906_level0_row15\" class=\"row_heading level0 row15\" >2023-W27</th>\n",
       "      <td id=\"T_82906_row15_col0\" class=\"data row15 col0\" >1</td>\n",
       "      <td id=\"T_82906_row15_col1\" class=\"data row15 col1\" >0</td>\n",
       "      <td id=\"T_82906_row15_col2\" class=\"data row15 col2\" >0</td>\n",
       "      <td id=\"T_82906_row15_col3\" class=\"data row15 col3\" >0.00</td>\n",
       "      <td id=\"T_82906_row15_col4\" class=\"data row15 col4\" >nan</td>\n",
       "      <td id=\"T_82906_row15_col5\" class=\"data row15 col5\" >1</td>\n",
       "      <td id=\"T_82906_row15_col6\" class=\"data row15 col6\" >1</td>\n",
       "      <td id=\"T_82906_row15_col7\" class=\"data row15 col7\" >1.00</td>\n",
       "      <td id=\"T_82906_row15_col8\" class=\"data row15 col8\" >1.00</td>\n",
       "    </tr>\n",
       "    <tr>\n",
       "      <th id=\"T_82906_level0_row16\" class=\"row_heading level0 row16\" >2023-W27</th>\n",
       "      <td id=\"T_82906_row16_col0\" class=\"data row16 col0\" >1</td>\n",
       "      <td id=\"T_82906_row16_col1\" class=\"data row16 col1\" >0</td>\n",
       "      <td id=\"T_82906_row16_col2\" class=\"data row16 col2\" >0</td>\n",
       "      <td id=\"T_82906_row16_col3\" class=\"data row16 col3\" >0.00</td>\n",
       "      <td id=\"T_82906_row16_col4\" class=\"data row16 col4\" >nan</td>\n",
       "      <td id=\"T_82906_row16_col5\" class=\"data row16 col5\" >1</td>\n",
       "      <td id=\"T_82906_row16_col6\" class=\"data row16 col6\" >1</td>\n",
       "      <td id=\"T_82906_row16_col7\" class=\"data row16 col7\" >1.00</td>\n",
       "      <td id=\"T_82906_row16_col8\" class=\"data row16 col8\" >1.00</td>\n",
       "    </tr>\n",
       "    <tr>\n",
       "      <th id=\"T_82906_level0_row17\" class=\"row_heading level0 row17\" >2023-W28</th>\n",
       "      <td id=\"T_82906_row17_col0\" class=\"data row17 col0\" >2</td>\n",
       "      <td id=\"T_82906_row17_col1\" class=\"data row17 col1\" >0</td>\n",
       "      <td id=\"T_82906_row17_col2\" class=\"data row17 col2\" >0</td>\n",
       "      <td id=\"T_82906_row17_col3\" class=\"data row17 col3\" >0.00</td>\n",
       "      <td id=\"T_82906_row17_col4\" class=\"data row17 col4\" >nan</td>\n",
       "      <td id=\"T_82906_row17_col5\" class=\"data row17 col5\" >2</td>\n",
       "      <td id=\"T_82906_row17_col6\" class=\"data row17 col6\" >1</td>\n",
       "      <td id=\"T_82906_row17_col7\" class=\"data row17 col7\" >1.00</td>\n",
       "      <td id=\"T_82906_row17_col8\" class=\"data row17 col8\" >2.00</td>\n",
       "    </tr>\n",
       "    <tr>\n",
       "      <th id=\"T_82906_level0_row18\" class=\"row_heading level0 row18\" >2023-W28</th>\n",
       "      <td id=\"T_82906_row18_col0\" class=\"data row18 col0\" >2</td>\n",
       "      <td id=\"T_82906_row18_col1\" class=\"data row18 col1\" >0</td>\n",
       "      <td id=\"T_82906_row18_col2\" class=\"data row18 col2\" >0</td>\n",
       "      <td id=\"T_82906_row18_col3\" class=\"data row18 col3\" >0.00</td>\n",
       "      <td id=\"T_82906_row18_col4\" class=\"data row18 col4\" >nan</td>\n",
       "      <td id=\"T_82906_row18_col5\" class=\"data row18 col5\" >2</td>\n",
       "      <td id=\"T_82906_row18_col6\" class=\"data row18 col6\" >1</td>\n",
       "      <td id=\"T_82906_row18_col7\" class=\"data row18 col7\" >1.00</td>\n",
       "      <td id=\"T_82906_row18_col8\" class=\"data row18 col8\" >2.00</td>\n",
       "    </tr>\n",
       "    <tr>\n",
       "      <th id=\"T_82906_level0_row19\" class=\"row_heading level0 row19\" >2023-W29</th>\n",
       "      <td id=\"T_82906_row19_col0\" class=\"data row19 col0\" >2</td>\n",
       "      <td id=\"T_82906_row19_col1\" class=\"data row19 col1\" >0</td>\n",
       "      <td id=\"T_82906_row19_col2\" class=\"data row19 col2\" >0</td>\n",
       "      <td id=\"T_82906_row19_col3\" class=\"data row19 col3\" >0.00</td>\n",
       "      <td id=\"T_82906_row19_col4\" class=\"data row19 col4\" >nan</td>\n",
       "      <td id=\"T_82906_row19_col5\" class=\"data row19 col5\" >2</td>\n",
       "      <td id=\"T_82906_row19_col6\" class=\"data row19 col6\" >1</td>\n",
       "      <td id=\"T_82906_row19_col7\" class=\"data row19 col7\" >1.00</td>\n",
       "      <td id=\"T_82906_row19_col8\" class=\"data row19 col8\" >2.00</td>\n",
       "    </tr>\n",
       "  </tbody>\n",
       "</table>\n"
      ],
      "text/plain": [
       "<pandas.io.formats.style.Styler at 0x7f00a10de590>"
      ]
     },
     "execution_count": 7,
     "metadata": {},
     "output_type": "execute_result"
    }
   ],
   "source": [
    "sdd = defaultdict(list)\n",
    "\n",
    "for dftrain, dftest, t, openproposals in cvtt_open(to_microsoft(dfv), SPLITS_FREQ, dfp.reset_index(), remove_not_in_train_col='userID', normalize=SPLITS_NORMALIZE):\n",
    "    dftrain_filter = dftrain[dftrain['itemID'].isin(openproposals)]\n",
    "    \n",
    "    sdd['t'].append(t)\n",
    "    sdd['open proposals'].append(len(openproposals))\n",
    "    \n",
    "    sdd['proposals in train'].append(dftrain['itemID'].nunique())\n",
    "    sdd['votes in train'].append(len(dftrain))\n",
    "    sdd['votes in open proposals (train)'].append(len(dftrain_filter))\n",
    "    sdd['users in open proposals (train)'].append(dftrain_filter['userID'].nunique())\n",
    "    sdd['votes in test'].append(len(dftest))\n",
    "    sdd['users in train'].append(dftrain['userID'].nunique())\n",
    "    sdd['users in test'].append(dftest['userID'].nunique())\n",
    "\n",
    "sdf_all = pd.DataFrame(sdd).set_index('t')\n",
    "sdf_all['vpp in open proposals (train)'] = sdf_all['votes in open proposals (train)'] / sdf_all['open proposals']\n",
    "sdf_all['vpu in open proposals (train)'] = sdf_all['votes in open proposals (train)'] / sdf_all['users in open proposals (train)']\n",
    "sdf_all['vpp test'] = sdf_all['votes in test'] / sdf_all['open proposals']\n",
    "sdf_all['vpu test'] = sdf_all['votes in test'] / sdf_all['users in test']\n",
    "sdf = sdf_all.tail(LAST_FOLDS)\n",
    "print(sdf['votes in train'])\n",
    "_style = sdf[['open proposals', 'votes in open proposals (train)', 'users in open proposals (train)', 'vpp in open proposals (train)', 'vpu in open proposals (train)', 'votes in test', 'users in test', 'vpp test', 'vpu test']].style\n",
    "_style = _style.format_index('{:%G-W%V}').format(precision=2)\n",
    "_style"
   ]
  },
  {
   "cell_type": "code",
   "execution_count": 8,
   "id": "9e6aa79c",
   "metadata": {
    "execution": {
     "iopub.execute_input": "2024-07-04T08:30:31.687090Z",
     "iopub.status.busy": "2024-07-04T08:30:31.686859Z",
     "iopub.status.idle": "2024-07-04T08:30:31.698187Z",
     "shell.execute_reply": "2024-07-04T08:30:31.697978Z"
    },
    "papermill": {
     "duration": 0.01503,
     "end_time": "2024-07-04T08:30:31.698826",
     "exception": false,
     "start_time": "2024-07-04T08:30:31.683796",
     "status": "completed"
    },
    "tags": []
   },
   "outputs": [
    {
     "name": "stdout",
     "output_type": "stream",
     "text": [
      "\\begin{tabular}{lrrrrrrrrr}\n",
      " & \\textbf{open proposals} & \\textbf{votes in open proposals (train)} & \\textbf{users in open proposals (train)} & \\textbf{vpp in open proposals (train)} & \\textbf{vpu in open proposals (train)} & \\textbf{votes in test} & \\textbf{users in test} & \\textbf{vpp test} & \\textbf{vpu test} \\\\\n",
      "t &  &  &  &  &  &  &  &  &  \\\\\n",
      "2023-W21 & 0 & 0 & 0 & nan & nan & 0 & 0 & nan & nan \\\\\n",
      "2023-W21 & 0 & 0 & 0 & nan & nan & 0 & 0 & nan & nan \\\\\n",
      "2023-W21 & 0 & 0 & 0 & nan & nan & 0 & 0 & nan & nan \\\\\n",
      "2023-W22 & 0 & 0 & 0 & nan & nan & 0 & 0 & nan & nan \\\\\n",
      "2023-W22 & 0 & 0 & 0 & nan & nan & 0 & 0 & nan & nan \\\\\n",
      "2023-W23 & 0 & 0 & 0 & nan & nan & 0 & 0 & nan & nan \\\\\n",
      "2023-W23 & 0 & 0 & 0 & nan & nan & 0 & 0 & nan & nan \\\\\n",
      "2023-W24 & 0 & 0 & 0 & nan & nan & 0 & 0 & nan & nan \\\\\n",
      "2023-W24 & 0 & 0 & 0 & nan & nan & 0 & 0 & nan & nan \\\\\n",
      "2023-W24 & 0 & 0 & 0 & nan & nan & 0 & 0 & nan & nan \\\\\n",
      "2023-W25 & 0 & 0 & 0 & nan & nan & 0 & 0 & nan & nan \\\\\n",
      "2023-W25 & 1 & 1 & 1 & 1.00 & 1.00 & 0 & 0 & 0.00 & nan \\\\\n",
      "2023-W26 & 0 & 0 & 0 & nan & nan & 0 & 0 & nan & nan \\\\\n",
      "2023-W26 & 0 & 0 & 0 & nan & nan & 0 & 0 & nan & nan \\\\\n",
      "2023-W27 & 0 & 0 & 0 & nan & nan & 0 & 0 & nan & nan \\\\\n",
      "2023-W27 & 1 & 0 & 0 & 0.00 & nan & 1 & 1 & 1.00 & 1.00 \\\\\n",
      "2023-W27 & 1 & 0 & 0 & 0.00 & nan & 1 & 1 & 1.00 & 1.00 \\\\\n",
      "2023-W28 & 2 & 0 & 0 & 0.00 & nan & 2 & 1 & 1.00 & 2.00 \\\\\n",
      "2023-W28 & 2 & 0 & 0 & 0.00 & nan & 2 & 1 & 1.00 & 2.00 \\\\\n",
      "2023-W29 & 2 & 0 & 0 & 0.00 & nan & 2 & 1 & 1.00 & 2.00 \\\\\n",
      "\\end{tabular}\n",
      "\n"
     ]
    }
   ],
   "source": [
    "print(_style\n",
    "  .format_index(\"\\\\textbf{{{}}}\", escape=\"latex\", axis=1)\n",
    "  .to_latex()\n",
    ")"
   ]
  },
  {
   "cell_type": "markdown",
   "id": "c3add066",
   "metadata": {
    "papermill": {
     "duration": 0.002094,
     "end_time": "2024-07-04T08:30:31.703011",
     "exception": false,
     "start_time": "2024-07-04T08:30:31.700917",
     "status": "completed"
    },
    "tags": []
   },
   "source": [
    "## Running openpop baseline"
   ]
  },
  {
   "cell_type": "code",
   "execution_count": 9,
   "id": "66b0d6c1",
   "metadata": {
    "execution": {
     "iopub.execute_input": "2024-07-04T08:30:31.707535Z",
     "iopub.status.busy": "2024-07-04T08:30:31.707442Z",
     "iopub.status.idle": "2024-07-04T08:31:12.215836Z",
     "shell.execute_reply": "2024-07-04T08:31:12.215629Z"
    },
    "papermill": {
     "duration": 40.511595,
     "end_time": "2024-07-04T08:31:12.216605",
     "exception": false,
     "start_time": "2024-07-04T08:30:31.705010",
     "status": "completed"
    },
    "tags": []
   },
   "outputs": [
    {
     "data": {
      "application/vnd.jupyter.widget-view+json": {
       "model_id": "0fc586b718014d878634411878dd1a8f",
       "version_major": 2,
       "version_minor": 0
      },
      "text/plain": [
       "  0%|          | 0/238 [00:00<?, ?it/s]"
      ]
     },
     "metadata": {},
     "output_type": "display_data"
    },
    {
     "name": "stderr",
     "output_type": "stream",
     "text": [
      "Warning, empty test fold 0\n",
      "Warning, empty test fold 1\n"
     ]
    },
    {
     "name": "stderr",
     "output_type": "stream",
     "text": [
      "Warning, empty test fold 2\n"
     ]
    },
    {
     "name": "stderr",
     "output_type": "stream",
     "text": [
      "Warning, empty test fold 4\n",
      "Warning, empty test fold 5\n"
     ]
    },
    {
     "name": "stderr",
     "output_type": "stream",
     "text": [
      "Warning, empty test fold 7\n",
      "Warning, empty test fold 8\n"
     ]
    },
    {
     "name": "stderr",
     "output_type": "stream",
     "text": [
      "Warning, empty test fold 9\n"
     ]
    },
    {
     "name": "stderr",
     "output_type": "stream",
     "text": [
      "Warning, empty test fold 12\n"
     ]
    },
    {
     "name": "stderr",
     "output_type": "stream",
     "text": [
      "Warning, empty test fold 14\n"
     ]
    },
    {
     "name": "stderr",
     "output_type": "stream",
     "text": [
      "Warning, empty test fold 16\n",
      "Warning, empty test fold 17\n"
     ]
    },
    {
     "name": "stderr",
     "output_type": "stream",
     "text": [
      "Warning, empty test fold 18\n",
      "Warning, empty test fold 19\n"
     ]
    },
    {
     "name": "stderr",
     "output_type": "stream",
     "text": [
      "Warning, empty test fold 21\n",
      "Warning, empty test fold 22\n"
     ]
    },
    {
     "name": "stderr",
     "output_type": "stream",
     "text": [
      "Warning, empty test fold 23\n"
     ]
    },
    {
     "name": "stderr",
     "output_type": "stream",
     "text": [
      "Warning, empty test fold 25\n",
      "Warning, empty test fold 26\n"
     ]
    },
    {
     "name": "stderr",
     "output_type": "stream",
     "text": [
      "Warning, empty test fold 28\n"
     ]
    },
    {
     "name": "stderr",
     "output_type": "stream",
     "text": [
      "Warning, empty test fold 31\n"
     ]
    },
    {
     "name": "stderr",
     "output_type": "stream",
     "text": [
      "Warning, empty test fold 33\n"
     ]
    },
    {
     "name": "stderr",
     "output_type": "stream",
     "text": [
      "Warning, empty test fold 37\n",
      "Warning, empty test fold 38\n"
     ]
    },
    {
     "name": "stderr",
     "output_type": "stream",
     "text": [
      "Warning, empty test fold 42\n"
     ]
    },
    {
     "name": "stderr",
     "output_type": "stream",
     "text": [
      "Warning, empty test fold 49\n"
     ]
    },
    {
     "name": "stderr",
     "output_type": "stream",
     "text": [
      "Warning, empty test fold 51\n"
     ]
    },
    {
     "name": "stderr",
     "output_type": "stream",
     "text": [
      "Warning, empty test fold 53\n",
      "Warning, empty test fold 54\n"
     ]
    },
    {
     "name": "stderr",
     "output_type": "stream",
     "text": [
      "Warning, empty test fold 55\n",
      "Warning, empty test fold 56\n"
     ]
    },
    {
     "name": "stderr",
     "output_type": "stream",
     "text": [
      "Warning, empty test fold 57\n",
      "Warning, empty test fold 58\n"
     ]
    },
    {
     "name": "stderr",
     "output_type": "stream",
     "text": [
      "Warning, empty test fold 60\n",
      "Warning, empty test fold 61\n"
     ]
    },
    {
     "name": "stderr",
     "output_type": "stream",
     "text": [
      "Warning, empty test fold 62\n",
      "Warning, empty test fold 63\n"
     ]
    },
    {
     "name": "stderr",
     "output_type": "stream",
     "text": [
      "Warning, empty test fold 65\n"
     ]
    },
    {
     "name": "stderr",
     "output_type": "stream",
     "text": [
      "Warning, empty test fold 68\n"
     ]
    },
    {
     "name": "stderr",
     "output_type": "stream",
     "text": [
      "Warning, empty test fold 70\n"
     ]
    },
    {
     "name": "stderr",
     "output_type": "stream",
     "text": [
      "Warning, empty test fold 72\n",
      "Warning, empty test fold 73\n"
     ]
    },
    {
     "name": "stderr",
     "output_type": "stream",
     "text": [
      "Warning, empty test fold 74\n"
     ]
    },
    {
     "name": "stderr",
     "output_type": "stream",
     "text": [
      "Warning, empty test fold 76\n"
     ]
    },
    {
     "name": "stderr",
     "output_type": "stream",
     "text": [
      "Warning, empty test fold 78\n",
      "Warning, empty test fold 79\n"
     ]
    },
    {
     "name": "stderr",
     "output_type": "stream",
     "text": [
      "Warning, empty test fold 80\n",
      "Warning, empty test fold 81\n"
     ]
    },
    {
     "name": "stderr",
     "output_type": "stream",
     "text": [
      "Warning, empty test fold 82\n",
      "Warning, empty test fold 83\n"
     ]
    },
    {
     "name": "stderr",
     "output_type": "stream",
     "text": [
      "Warning, empty test fold 84\n"
     ]
    },
    {
     "name": "stderr",
     "output_type": "stream",
     "text": [
      "Warning, empty test fold 86\n"
     ]
    },
    {
     "name": "stderr",
     "output_type": "stream",
     "text": [
      "Warning, empty test fold 88\n"
     ]
    },
    {
     "name": "stderr",
     "output_type": "stream",
     "text": [
      "Warning, empty test fold 90\n"
     ]
    },
    {
     "name": "stderr",
     "output_type": "stream",
     "text": [
      "Warning, empty test fold 94\n",
      "Warning, empty test fold 95\n"
     ]
    },
    {
     "name": "stderr",
     "output_type": "stream",
     "text": [
      "Warning, empty test fold 97\n"
     ]
    },
    {
     "name": "stderr",
     "output_type": "stream",
     "text": [
      "Warning, empty test fold 99\n"
     ]
    },
    {
     "name": "stderr",
     "output_type": "stream",
     "text": [
      "Warning, empty test fold 103\n"
     ]
    },
    {
     "name": "stderr",
     "output_type": "stream",
     "text": [
      "Warning, empty test fold 105\n",
      "Warning, empty test fold 106\n"
     ]
    },
    {
     "name": "stderr",
     "output_type": "stream",
     "text": [
      "Warning, empty test fold 107\n"
     ]
    },
    {
     "name": "stderr",
     "output_type": "stream",
     "text": [
      "Warning, empty test fold 109\n",
      "Warning, empty test fold 110\n"
     ]
    },
    {
     "name": "stderr",
     "output_type": "stream",
     "text": [
      "Warning, empty test fold 111\n",
      "Warning, empty test fold 112\n"
     ]
    },
    {
     "name": "stderr",
     "output_type": "stream",
     "text": [
      "Warning, empty test fold 113\n"
     ]
    },
    {
     "name": "stderr",
     "output_type": "stream",
     "text": [
      "Warning, empty test fold 115\n",
      "Warning, empty test fold 116\n"
     ]
    },
    {
     "name": "stderr",
     "output_type": "stream",
     "text": [
      "Warning, empty test fold 118\n"
     ]
    },
    {
     "name": "stderr",
     "output_type": "stream",
     "text": [
      "Warning, empty test fold 120\n",
      "Warning, empty test fold 121\n"
     ]
    },
    {
     "name": "stderr",
     "output_type": "stream",
     "text": [
      "Warning, empty test fold 126\n",
      "Warning, empty test fold 127\n"
     ]
    },
    {
     "name": "stderr",
     "output_type": "stream",
     "text": [
      "Warning, empty test fold 128\n"
     ]
    },
    {
     "name": "stderr",
     "output_type": "stream",
     "text": [
      "Warning, empty test fold 131\n",
      "Warning, empty test fold 132\n"
     ]
    },
    {
     "name": "stderr",
     "output_type": "stream",
     "text": [
      "Warning, empty test fold 133\n"
     ]
    },
    {
     "name": "stderr",
     "output_type": "stream",
     "text": [
      "Warning, empty test fold 137\n",
      "Warning, empty test fold 138\n"
     ]
    },
    {
     "name": "stderr",
     "output_type": "stream",
     "text": [
      "Warning, empty test fold 149\n",
      "Warning, empty test fold 150\n"
     ]
    },
    {
     "name": "stderr",
     "output_type": "stream",
     "text": [
      "Warning, empty test fold 151\n",
      "Warning, empty test fold 152\n"
     ]
    },
    {
     "name": "stderr",
     "output_type": "stream",
     "text": [
      "Warning, empty test fold 153\n",
      "Warning, empty test fold 154\n"
     ]
    },
    {
     "name": "stderr",
     "output_type": "stream",
     "text": [
      "Warning, empty test fold 155\n"
     ]
    },
    {
     "name": "stderr",
     "output_type": "stream",
     "text": [
      "Warning, empty test fold 157\n",
      "Warning, empty test fold 158\n"
     ]
    },
    {
     "name": "stderr",
     "output_type": "stream",
     "text": [
      "Warning, empty test fold 159\n",
      "Warning, empty test fold 160\n"
     ]
    },
    {
     "name": "stderr",
     "output_type": "stream",
     "text": [
      "Warning, empty test fold 161\n",
      "Warning, empty test fold 162\n"
     ]
    },
    {
     "name": "stderr",
     "output_type": "stream",
     "text": [
      "Warning, empty test fold 167\n",
      "Warning, empty test fold 168\n"
     ]
    },
    {
     "name": "stderr",
     "output_type": "stream",
     "text": [
      "Warning, empty test fold 169\n",
      "Warning, empty test fold 170\n"
     ]
    },
    {
     "name": "stderr",
     "output_type": "stream",
     "text": [
      "Warning, empty test fold 171\n",
      "Warning, empty test fold 172\n"
     ]
    },
    {
     "name": "stderr",
     "output_type": "stream",
     "text": [
      "Warning, empty test fold 173\n",
      "Warning, empty test fold 174\n"
     ]
    },
    {
     "name": "stderr",
     "output_type": "stream",
     "text": [
      "Warning, empty test fold 175\n",
      "Warning, empty test fold 176\n"
     ]
    },
    {
     "name": "stderr",
     "output_type": "stream",
     "text": [
      "Warning, empty test fold 177\n",
      "Warning, empty test fold 178\n"
     ]
    },
    {
     "name": "stderr",
     "output_type": "stream",
     "text": [
      "Warning, empty test fold 179\n",
      "Warning, empty test fold 180\n"
     ]
    },
    {
     "name": "stderr",
     "output_type": "stream",
     "text": [
      "Warning, empty test fold 181\n",
      "Warning, empty test fold 182\n"
     ]
    },
    {
     "name": "stderr",
     "output_type": "stream",
     "text": [
      "Warning, empty test fold 184\n"
     ]
    },
    {
     "name": "stderr",
     "output_type": "stream",
     "text": [
      "Warning, empty test fold 189\n"
     ]
    },
    {
     "name": "stderr",
     "output_type": "stream",
     "text": [
      "Warning, empty test fold 194\n",
      "Warning, empty test fold 195\n"
     ]
    },
    {
     "name": "stderr",
     "output_type": "stream",
     "text": [
      "Warning, empty test fold 201\n",
      "Warning, empty test fold 202\n"
     ]
    },
    {
     "name": "stderr",
     "output_type": "stream",
     "text": [
      "Warning, empty test fold 203\n",
      "Warning, empty test fold 204\n"
     ]
    },
    {
     "name": "stderr",
     "output_type": "stream",
     "text": [
      "Warning, empty test fold 210\n",
      "Warning, empty test fold 211\n"
     ]
    },
    {
     "name": "stderr",
     "output_type": "stream",
     "text": [
      "Warning, empty test fold 212\n",
      "Warning, empty test fold 213\n"
     ]
    },
    {
     "name": "stderr",
     "output_type": "stream",
     "text": [
      "Warning, empty test fold 214\n",
      "Warning, empty test fold 215\n"
     ]
    },
    {
     "name": "stderr",
     "output_type": "stream",
     "text": [
      "Warning, empty test fold 216\n",
      "Warning, empty test fold 217\n"
     ]
    },
    {
     "name": "stderr",
     "output_type": "stream",
     "text": [
      "Warning, empty test fold 218\n",
      "Warning, empty test fold 219\n"
     ]
    },
    {
     "name": "stderr",
     "output_type": "stream",
     "text": [
      "Warning, empty test fold 220\n",
      "Warning, empty test fold 221\n"
     ]
    },
    {
     "name": "stderr",
     "output_type": "stream",
     "text": [
      "Warning, empty test fold 222\n",
      "Warning, empty test fold 223\n"
     ]
    },
    {
     "name": "stderr",
     "output_type": "stream",
     "text": [
      "Warning, empty test fold 224\n",
      "Warning, empty test fold 225\n"
     ]
    },
    {
     "name": "stderr",
     "output_type": "stream",
     "text": [
      "Warning, empty test fold 226\n",
      "Warning, empty test fold 227\n"
     ]
    },
    {
     "name": "stderr",
     "output_type": "stream",
     "text": [
      "Warning, empty test fold 228\n",
      "Warning, empty test fold 229\n"
     ]
    },
    {
     "name": "stderr",
     "output_type": "stream",
     "text": [
      "Warning, empty test fold 230\n",
      "Warning, empty test fold 231\n"
     ]
    },
    {
     "name": "stderr",
     "output_type": "stream",
     "text": [
      "Warning, empty test fold 232\n"
     ]
    }
   ],
   "source": [
    "folds = list(cvtt_open(df, SPLITS_FREQ, dfp, remove_not_in_train_col='userID', normalize=SPLITS_NORMALIZE))\n",
    "metrics = []\n",
    "perfectmetrics = []\n",
    "\n",
    "first_empty = True\n",
    "for i, (train, test, t, open_proposals) in enumerate(tqdm(folds)):\n",
    "    if first_empty:\n",
    "        if not train.empty:\n",
    "            first_empty = False\n",
    "    else:\n",
    "        assert not train.empty, f\"Train should not be empty on fold {i}\"\n",
    "    if test.empty:\n",
    "        print(f\"Warning, empty test fold {i}\", file=sys.stderr)\n",
    "\n",
    "    mdict = {'t': t}\n",
    "    pdict = {'t': t}\n",
    "    model = OpenPop(train)\n",
    "    recs = model.recommend_k_items(test['userID'].unique(), max(K_RECOMMENDATIONS), recommend_from=open_proposals)\n",
    "    mdict |= calculate_all_metrics(test, recs, K_RECOMMENDATIONS)\n",
    "        # for m, f in metrics_f.items():\n",
    "        #     r = f(test, recs, k=k_recs)\n",
    "        #     metrics[m+f'@{k_recs}'].append(r)\n",
    "    \n",
    "    recs = test.copy()\n",
    "    recs['prediction'] = 1\n",
    "    pdict |= calculate_all_metrics(test, recs, K_RECOMMENDATIONS)\n",
    "\n",
    "        # for m, f in metrics_f.items():\n",
    "        #     # Need relevancy_method=None as they are unsorted\n",
    "        #     r = f(test, recs, k=k_recs)\n",
    "        #     perfectmetrics[m+f'@{k_recs}'].append(r)\n",
    "\n",
    "    metrics.append(mdict)\n",
    "    perfectmetrics.append(pdict)"
   ]
  },
  {
   "cell_type": "markdown",
   "id": "d7685e15",
   "metadata": {
    "papermill": {
     "duration": 0.004535,
     "end_time": "2024-07-04T08:31:12.225829",
     "exception": false,
     "start_time": "2024-07-04T08:31:12.221294",
     "status": "completed"
    },
    "tags": []
   },
   "source": [
    "### Caching these results"
   ]
  },
  {
   "cell_type": "code",
   "execution_count": 10,
   "id": "d968db6a",
   "metadata": {
    "execution": {
     "iopub.execute_input": "2024-07-04T08:31:12.235138Z",
     "iopub.status.busy": "2024-07-04T08:31:12.235030Z",
     "iopub.status.idle": "2024-07-04T08:31:12.261751Z",
     "shell.execute_reply": "2024-07-04T08:31:12.261473Z"
    },
    "papermill": {
     "duration": 0.032369,
     "end_time": "2024-07-04T08:31:12.262477",
     "exception": false,
     "start_time": "2024-07-04T08:31:12.230108",
     "status": "completed"
    },
    "tags": []
   },
   "outputs": [
    {
     "name": "stdout",
     "output_type": "stream",
     "text": [
      "Saved dataframe into /home/daviddavo/recsys4daos/data/output/Plaza/baseline/openpop_3d_normalize.pq\n"
     ]
    },
    {
     "data": {
      "text/html": [
       "<div>\n",
       "<style scoped>\n",
       "    .dataframe tbody tr th:only-of-type {\n",
       "        vertical-align: middle;\n",
       "    }\n",
       "\n",
       "    .dataframe tbody tr th {\n",
       "        vertical-align: top;\n",
       "    }\n",
       "\n",
       "    .dataframe thead th {\n",
       "        text-align: right;\n",
       "    }\n",
       "</style>\n",
       "<table border=\"1\" class=\"dataframe\">\n",
       "  <thead>\n",
       "    <tr style=\"text-align: right;\">\n",
       "      <th></th>\n",
       "      <th>precision@1</th>\n",
       "      <th>precision@3</th>\n",
       "      <th>precision@5</th>\n",
       "      <th>precision@10</th>\n",
       "      <th>precision@15</th>\n",
       "      <th>precision@100</th>\n",
       "      <th>ndcg@1</th>\n",
       "      <th>ndcg@3</th>\n",
       "      <th>ndcg@5</th>\n",
       "      <th>ndcg@10</th>\n",
       "      <th>...</th>\n",
       "      <th>recall@10</th>\n",
       "      <th>recall@15</th>\n",
       "      <th>recall@100</th>\n",
       "      <th>r-precision@1</th>\n",
       "      <th>r-precision@3</th>\n",
       "      <th>r-precision@5</th>\n",
       "      <th>r-precision@10</th>\n",
       "      <th>r-precision@15</th>\n",
       "      <th>r-precision@100</th>\n",
       "      <th>time_eval</th>\n",
       "    </tr>\n",
       "  </thead>\n",
       "  <tbody>\n",
       "    <tr>\n",
       "      <th>count</th>\n",
       "      <td>238.000000</td>\n",
       "      <td>238.000000</td>\n",
       "      <td>238.000000</td>\n",
       "      <td>238.000000</td>\n",
       "      <td>238.000000</td>\n",
       "      <td>238.000000</td>\n",
       "      <td>238.000000</td>\n",
       "      <td>238.000000</td>\n",
       "      <td>238.000000</td>\n",
       "      <td>238.000000</td>\n",
       "      <td>...</td>\n",
       "      <td>238.000000</td>\n",
       "      <td>238.000000</td>\n",
       "      <td>238.000000</td>\n",
       "      <td>238.000000</td>\n",
       "      <td>236.000000</td>\n",
       "      <td>234.000000</td>\n",
       "      <td>234.000000</td>\n",
       "      <td>234.000000</td>\n",
       "      <td>234.000000</td>\n",
       "      <td>238.000000</td>\n",
       "    </tr>\n",
       "    <tr>\n",
       "      <th>mean</th>\n",
       "      <td>0.048319</td>\n",
       "      <td>0.034314</td>\n",
       "      <td>0.023389</td>\n",
       "      <td>0.011695</td>\n",
       "      <td>0.007796</td>\n",
       "      <td>0.001169</td>\n",
       "      <td>0.048319</td>\n",
       "      <td>0.047853</td>\n",
       "      <td>0.049811</td>\n",
       "      <td>0.049811</td>\n",
       "      <td>...</td>\n",
       "      <td>0.055322</td>\n",
       "      <td>0.055322</td>\n",
       "      <td>0.055322</td>\n",
       "      <td>0.026050</td>\n",
       "      <td>0.040678</td>\n",
       "      <td>0.042735</td>\n",
       "      <td>0.042735</td>\n",
       "      <td>0.042735</td>\n",
       "      <td>0.042735</td>\n",
       "      <td>0.074562</td>\n",
       "    </tr>\n",
       "    <tr>\n",
       "      <th>std</th>\n",
       "      <td>0.212424</td>\n",
       "      <td>0.144808</td>\n",
       "      <td>0.101554</td>\n",
       "      <td>0.050777</td>\n",
       "      <td>0.033851</td>\n",
       "      <td>0.005078</td>\n",
       "      <td>0.212424</td>\n",
       "      <td>0.194738</td>\n",
       "      <td>0.195930</td>\n",
       "      <td>0.195930</td>\n",
       "      <td>...</td>\n",
       "      <td>0.214560</td>\n",
       "      <td>0.214560</td>\n",
       "      <td>0.214560</td>\n",
       "      <td>0.130645</td>\n",
       "      <td>0.179605</td>\n",
       "      <td>0.187412</td>\n",
       "      <td>0.187412</td>\n",
       "      <td>0.187412</td>\n",
       "      <td>0.187412</td>\n",
       "      <td>0.016127</td>\n",
       "    </tr>\n",
       "    <tr>\n",
       "      <th>min</th>\n",
       "      <td>0.000000</td>\n",
       "      <td>0.000000</td>\n",
       "      <td>0.000000</td>\n",
       "      <td>0.000000</td>\n",
       "      <td>0.000000</td>\n",
       "      <td>0.000000</td>\n",
       "      <td>0.000000</td>\n",
       "      <td>0.000000</td>\n",
       "      <td>0.000000</td>\n",
       "      <td>0.000000</td>\n",
       "      <td>...</td>\n",
       "      <td>0.000000</td>\n",
       "      <td>0.000000</td>\n",
       "      <td>0.000000</td>\n",
       "      <td>0.000000</td>\n",
       "      <td>0.000000</td>\n",
       "      <td>0.000000</td>\n",
       "      <td>0.000000</td>\n",
       "      <td>0.000000</td>\n",
       "      <td>0.000000</td>\n",
       "      <td>0.067238</td>\n",
       "    </tr>\n",
       "    <tr>\n",
       "      <th>25%</th>\n",
       "      <td>0.000000</td>\n",
       "      <td>0.000000</td>\n",
       "      <td>0.000000</td>\n",
       "      <td>0.000000</td>\n",
       "      <td>0.000000</td>\n",
       "      <td>0.000000</td>\n",
       "      <td>0.000000</td>\n",
       "      <td>0.000000</td>\n",
       "      <td>0.000000</td>\n",
       "      <td>0.000000</td>\n",
       "      <td>...</td>\n",
       "      <td>0.000000</td>\n",
       "      <td>0.000000</td>\n",
       "      <td>0.000000</td>\n",
       "      <td>0.000000</td>\n",
       "      <td>0.000000</td>\n",
       "      <td>0.000000</td>\n",
       "      <td>0.000000</td>\n",
       "      <td>0.000000</td>\n",
       "      <td>0.000000</td>\n",
       "      <td>0.068362</td>\n",
       "    </tr>\n",
       "    <tr>\n",
       "      <th>50%</th>\n",
       "      <td>0.000000</td>\n",
       "      <td>0.000000</td>\n",
       "      <td>0.000000</td>\n",
       "      <td>0.000000</td>\n",
       "      <td>0.000000</td>\n",
       "      <td>0.000000</td>\n",
       "      <td>0.000000</td>\n",
       "      <td>0.000000</td>\n",
       "      <td>0.000000</td>\n",
       "      <td>0.000000</td>\n",
       "      <td>...</td>\n",
       "      <td>0.000000</td>\n",
       "      <td>0.000000</td>\n",
       "      <td>0.000000</td>\n",
       "      <td>0.000000</td>\n",
       "      <td>0.000000</td>\n",
       "      <td>0.000000</td>\n",
       "      <td>0.000000</td>\n",
       "      <td>0.000000</td>\n",
       "      <td>0.000000</td>\n",
       "      <td>0.069062</td>\n",
       "    </tr>\n",
       "    <tr>\n",
       "      <th>75%</th>\n",
       "      <td>0.000000</td>\n",
       "      <td>0.000000</td>\n",
       "      <td>0.000000</td>\n",
       "      <td>0.000000</td>\n",
       "      <td>0.000000</td>\n",
       "      <td>0.000000</td>\n",
       "      <td>0.000000</td>\n",
       "      <td>0.000000</td>\n",
       "      <td>0.000000</td>\n",
       "      <td>0.000000</td>\n",
       "      <td>...</td>\n",
       "      <td>0.000000</td>\n",
       "      <td>0.000000</td>\n",
       "      <td>0.000000</td>\n",
       "      <td>0.000000</td>\n",
       "      <td>0.000000</td>\n",
       "      <td>0.000000</td>\n",
       "      <td>0.000000</td>\n",
       "      <td>0.000000</td>\n",
       "      <td>0.000000</td>\n",
       "      <td>0.070445</td>\n",
       "    </tr>\n",
       "    <tr>\n",
       "      <th>max</th>\n",
       "      <td>1.000000</td>\n",
       "      <td>1.000000</td>\n",
       "      <td>1.000000</td>\n",
       "      <td>0.500000</td>\n",
       "      <td>0.333333</td>\n",
       "      <td>0.050000</td>\n",
       "      <td>1.000000</td>\n",
       "      <td>1.000000</td>\n",
       "      <td>1.000000</td>\n",
       "      <td>1.000000</td>\n",
       "      <td>...</td>\n",
       "      <td>1.000000</td>\n",
       "      <td>1.000000</td>\n",
       "      <td>1.000000</td>\n",
       "      <td>1.000000</td>\n",
       "      <td>1.000000</td>\n",
       "      <td>1.000000</td>\n",
       "      <td>1.000000</td>\n",
       "      <td>1.000000</td>\n",
       "      <td>1.000000</td>\n",
       "      <td>0.231950</td>\n",
       "    </tr>\n",
       "  </tbody>\n",
       "</table>\n",
       "<p>8 rows × 31 columns</p>\n",
       "</div>"
      ],
      "text/plain": [
       "       precision@1  precision@3  precision@5  precision@10  precision@15  \\\n",
       "count   238.000000   238.000000   238.000000    238.000000    238.000000   \n",
       "mean      0.048319     0.034314     0.023389      0.011695      0.007796   \n",
       "std       0.212424     0.144808     0.101554      0.050777      0.033851   \n",
       "min       0.000000     0.000000     0.000000      0.000000      0.000000   \n",
       "25%       0.000000     0.000000     0.000000      0.000000      0.000000   \n",
       "50%       0.000000     0.000000     0.000000      0.000000      0.000000   \n",
       "75%       0.000000     0.000000     0.000000      0.000000      0.000000   \n",
       "max       1.000000     1.000000     1.000000      0.500000      0.333333   \n",
       "\n",
       "       precision@100      ndcg@1      ndcg@3      ndcg@5     ndcg@10  ...  \\\n",
       "count     238.000000  238.000000  238.000000  238.000000  238.000000  ...   \n",
       "mean        0.001169    0.048319    0.047853    0.049811    0.049811  ...   \n",
       "std         0.005078    0.212424    0.194738    0.195930    0.195930  ...   \n",
       "min         0.000000    0.000000    0.000000    0.000000    0.000000  ...   \n",
       "25%         0.000000    0.000000    0.000000    0.000000    0.000000  ...   \n",
       "50%         0.000000    0.000000    0.000000    0.000000    0.000000  ...   \n",
       "75%         0.000000    0.000000    0.000000    0.000000    0.000000  ...   \n",
       "max         0.050000    1.000000    1.000000    1.000000    1.000000  ...   \n",
       "\n",
       "        recall@10   recall@15  recall@100  r-precision@1  r-precision@3  \\\n",
       "count  238.000000  238.000000  238.000000     238.000000     236.000000   \n",
       "mean     0.055322    0.055322    0.055322       0.026050       0.040678   \n",
       "std      0.214560    0.214560    0.214560       0.130645       0.179605   \n",
       "min      0.000000    0.000000    0.000000       0.000000       0.000000   \n",
       "25%      0.000000    0.000000    0.000000       0.000000       0.000000   \n",
       "50%      0.000000    0.000000    0.000000       0.000000       0.000000   \n",
       "75%      0.000000    0.000000    0.000000       0.000000       0.000000   \n",
       "max      1.000000    1.000000    1.000000       1.000000       1.000000   \n",
       "\n",
       "       r-precision@5  r-precision@10  r-precision@15  r-precision@100  \\\n",
       "count     234.000000      234.000000      234.000000       234.000000   \n",
       "mean        0.042735        0.042735        0.042735         0.042735   \n",
       "std         0.187412        0.187412        0.187412         0.187412   \n",
       "min         0.000000        0.000000        0.000000         0.000000   \n",
       "25%         0.000000        0.000000        0.000000         0.000000   \n",
       "50%         0.000000        0.000000        0.000000         0.000000   \n",
       "75%         0.000000        0.000000        0.000000         0.000000   \n",
       "max         1.000000        1.000000        1.000000         1.000000   \n",
       "\n",
       "        time_eval  \n",
       "count  238.000000  \n",
       "mean     0.074562  \n",
       "std      0.016127  \n",
       "min      0.067238  \n",
       "25%      0.068362  \n",
       "50%      0.069062  \n",
       "75%      0.070445  \n",
       "max      0.231950  \n",
       "\n",
       "[8 rows x 31 columns]"
      ]
     },
     "execution_count": 10,
     "metadata": {},
     "output_type": "execute_result"
    }
   ],
   "source": [
    "odf = pd.DataFrame(metrics).set_index(\"t\")\n",
    "paths.save_openpop(odf, ORG_NAME, SPLITS_FREQ, SPLITS_NORMALIZE)\n",
    "odf.describe()"
   ]
  },
  {
   "cell_type": "code",
   "execution_count": 11,
   "id": "0b61e326",
   "metadata": {
    "execution": {
     "iopub.execute_input": "2024-07-04T08:31:12.271840Z",
     "iopub.status.busy": "2024-07-04T08:31:12.271716Z",
     "iopub.status.idle": "2024-07-04T08:31:12.297149Z",
     "shell.execute_reply": "2024-07-04T08:31:12.296960Z"
    },
    "papermill": {
     "duration": 0.031063,
     "end_time": "2024-07-04T08:31:12.297873",
     "exception": false,
     "start_time": "2024-07-04T08:31:12.266810",
     "status": "completed"
    },
    "tags": []
   },
   "outputs": [
    {
     "name": "stdout",
     "output_type": "stream",
     "text": [
      "Saved dataframe into /home/daviddavo/recsys4daos/data/output/Plaza/baseline/perfect_3d_normalize.pq\n"
     ]
    },
    {
     "data": {
      "text/html": [
       "<div>\n",
       "<style scoped>\n",
       "    .dataframe tbody tr th:only-of-type {\n",
       "        vertical-align: middle;\n",
       "    }\n",
       "\n",
       "    .dataframe tbody tr th {\n",
       "        vertical-align: top;\n",
       "    }\n",
       "\n",
       "    .dataframe thead th {\n",
       "        text-align: right;\n",
       "    }\n",
       "</style>\n",
       "<table border=\"1\" class=\"dataframe\">\n",
       "  <thead>\n",
       "    <tr style=\"text-align: right;\">\n",
       "      <th></th>\n",
       "      <th>precision@1</th>\n",
       "      <th>precision@3</th>\n",
       "      <th>precision@5</th>\n",
       "      <th>precision@10</th>\n",
       "      <th>precision@15</th>\n",
       "      <th>precision@100</th>\n",
       "      <th>ndcg@1</th>\n",
       "      <th>ndcg@3</th>\n",
       "      <th>ndcg@5</th>\n",
       "      <th>ndcg@10</th>\n",
       "      <th>...</th>\n",
       "      <th>recall@10</th>\n",
       "      <th>recall@15</th>\n",
       "      <th>recall@100</th>\n",
       "      <th>r-precision@1</th>\n",
       "      <th>r-precision@3</th>\n",
       "      <th>r-precision@5</th>\n",
       "      <th>r-precision@10</th>\n",
       "      <th>r-precision@15</th>\n",
       "      <th>r-precision@100</th>\n",
       "      <th>time_eval</th>\n",
       "    </tr>\n",
       "  </thead>\n",
       "  <tbody>\n",
       "    <tr>\n",
       "      <th>count</th>\n",
       "      <td>238.000000</td>\n",
       "      <td>238.000000</td>\n",
       "      <td>238.000000</td>\n",
       "      <td>238.000000</td>\n",
       "      <td>238.000000</td>\n",
       "      <td>238.000000</td>\n",
       "      <td>238.000000</td>\n",
       "      <td>238.000000</td>\n",
       "      <td>238.000000</td>\n",
       "      <td>238.000000</td>\n",
       "      <td>...</td>\n",
       "      <td>238.000000</td>\n",
       "      <td>238.000000</td>\n",
       "      <td>238.000000</td>\n",
       "      <td>238.000000</td>\n",
       "      <td>238.000000</td>\n",
       "      <td>238.000000</td>\n",
       "      <td>238.000000</td>\n",
       "      <td>238.000000</td>\n",
       "      <td>238.000000</td>\n",
       "      <td>238.000000</td>\n",
       "    </tr>\n",
       "    <tr>\n",
       "      <th>mean</th>\n",
       "      <td>0.411765</td>\n",
       "      <td>0.187908</td>\n",
       "      <td>0.115266</td>\n",
       "      <td>0.058053</td>\n",
       "      <td>0.038702</td>\n",
       "      <td>0.005805</td>\n",
       "      <td>0.411765</td>\n",
       "      <td>0.411765</td>\n",
       "      <td>0.411765</td>\n",
       "      <td>0.411765</td>\n",
       "      <td>...</td>\n",
       "      <td>0.411765</td>\n",
       "      <td>0.411765</td>\n",
       "      <td>0.411765</td>\n",
       "      <td>0.346379</td>\n",
       "      <td>0.408884</td>\n",
       "      <td>0.411164</td>\n",
       "      <td>0.411765</td>\n",
       "      <td>0.411765</td>\n",
       "      <td>0.411765</td>\n",
       "      <td>0.091871</td>\n",
       "    </tr>\n",
       "    <tr>\n",
       "      <th>std</th>\n",
       "      <td>0.493190</td>\n",
       "      <td>0.260634</td>\n",
       "      <td>0.166104</td>\n",
       "      <td>0.084773</td>\n",
       "      <td>0.056515</td>\n",
       "      <td>0.008477</td>\n",
       "      <td>0.493190</td>\n",
       "      <td>0.493190</td>\n",
       "      <td>0.493190</td>\n",
       "      <td>0.493190</td>\n",
       "      <td>...</td>\n",
       "      <td>0.493190</td>\n",
       "      <td>0.493190</td>\n",
       "      <td>0.493190</td>\n",
       "      <td>0.444515</td>\n",
       "      <td>0.490758</td>\n",
       "      <td>0.492558</td>\n",
       "      <td>0.493190</td>\n",
       "      <td>0.493190</td>\n",
       "      <td>0.493190</td>\n",
       "      <td>0.023635</td>\n",
       "    </tr>\n",
       "    <tr>\n",
       "      <th>min</th>\n",
       "      <td>0.000000</td>\n",
       "      <td>0.000000</td>\n",
       "      <td>0.000000</td>\n",
       "      <td>0.000000</td>\n",
       "      <td>0.000000</td>\n",
       "      <td>0.000000</td>\n",
       "      <td>0.000000</td>\n",
       "      <td>0.000000</td>\n",
       "      <td>0.000000</td>\n",
       "      <td>0.000000</td>\n",
       "      <td>...</td>\n",
       "      <td>0.000000</td>\n",
       "      <td>0.000000</td>\n",
       "      <td>0.000000</td>\n",
       "      <td>0.000000</td>\n",
       "      <td>0.000000</td>\n",
       "      <td>0.000000</td>\n",
       "      <td>0.000000</td>\n",
       "      <td>0.000000</td>\n",
       "      <td>0.000000</td>\n",
       "      <td>0.070687</td>\n",
       "    </tr>\n",
       "    <tr>\n",
       "      <th>25%</th>\n",
       "      <td>0.000000</td>\n",
       "      <td>0.000000</td>\n",
       "      <td>0.000000</td>\n",
       "      <td>0.000000</td>\n",
       "      <td>0.000000</td>\n",
       "      <td>0.000000</td>\n",
       "      <td>0.000000</td>\n",
       "      <td>0.000000</td>\n",
       "      <td>0.000000</td>\n",
       "      <td>0.000000</td>\n",
       "      <td>...</td>\n",
       "      <td>0.000000</td>\n",
       "      <td>0.000000</td>\n",
       "      <td>0.000000</td>\n",
       "      <td>0.000000</td>\n",
       "      <td>0.000000</td>\n",
       "      <td>0.000000</td>\n",
       "      <td>0.000000</td>\n",
       "      <td>0.000000</td>\n",
       "      <td>0.000000</td>\n",
       "      <td>0.071846</td>\n",
       "    </tr>\n",
       "    <tr>\n",
       "      <th>50%</th>\n",
       "      <td>0.000000</td>\n",
       "      <td>0.000000</td>\n",
       "      <td>0.000000</td>\n",
       "      <td>0.000000</td>\n",
       "      <td>0.000000</td>\n",
       "      <td>0.000000</td>\n",
       "      <td>0.000000</td>\n",
       "      <td>0.000000</td>\n",
       "      <td>0.000000</td>\n",
       "      <td>0.000000</td>\n",
       "      <td>...</td>\n",
       "      <td>0.000000</td>\n",
       "      <td>0.000000</td>\n",
       "      <td>0.000000</td>\n",
       "      <td>0.000000</td>\n",
       "      <td>0.000000</td>\n",
       "      <td>0.000000</td>\n",
       "      <td>0.000000</td>\n",
       "      <td>0.000000</td>\n",
       "      <td>0.000000</td>\n",
       "      <td>0.072856</td>\n",
       "    </tr>\n",
       "    <tr>\n",
       "      <th>75%</th>\n",
       "      <td>1.000000</td>\n",
       "      <td>0.333333</td>\n",
       "      <td>0.200000</td>\n",
       "      <td>0.100000</td>\n",
       "      <td>0.066667</td>\n",
       "      <td>0.010000</td>\n",
       "      <td>1.000000</td>\n",
       "      <td>1.000000</td>\n",
       "      <td>1.000000</td>\n",
       "      <td>1.000000</td>\n",
       "      <td>...</td>\n",
       "      <td>1.000000</td>\n",
       "      <td>1.000000</td>\n",
       "      <td>1.000000</td>\n",
       "      <td>1.000000</td>\n",
       "      <td>1.000000</td>\n",
       "      <td>1.000000</td>\n",
       "      <td>1.000000</td>\n",
       "      <td>1.000000</td>\n",
       "      <td>1.000000</td>\n",
       "      <td>0.118783</td>\n",
       "    </tr>\n",
       "    <tr>\n",
       "      <th>max</th>\n",
       "      <td>1.000000</td>\n",
       "      <td>1.000000</td>\n",
       "      <td>1.000000</td>\n",
       "      <td>0.500000</td>\n",
       "      <td>0.333333</td>\n",
       "      <td>0.050000</td>\n",
       "      <td>1.000000</td>\n",
       "      <td>1.000000</td>\n",
       "      <td>1.000000</td>\n",
       "      <td>1.000000</td>\n",
       "      <td>...</td>\n",
       "      <td>1.000000</td>\n",
       "      <td>1.000000</td>\n",
       "      <td>1.000000</td>\n",
       "      <td>1.000000</td>\n",
       "      <td>1.000000</td>\n",
       "      <td>1.000000</td>\n",
       "      <td>1.000000</td>\n",
       "      <td>1.000000</td>\n",
       "      <td>1.000000</td>\n",
       "      <td>0.127510</td>\n",
       "    </tr>\n",
       "  </tbody>\n",
       "</table>\n",
       "<p>8 rows × 31 columns</p>\n",
       "</div>"
      ],
      "text/plain": [
       "       precision@1  precision@3  precision@5  precision@10  precision@15  \\\n",
       "count   238.000000   238.000000   238.000000    238.000000    238.000000   \n",
       "mean      0.411765     0.187908     0.115266      0.058053      0.038702   \n",
       "std       0.493190     0.260634     0.166104      0.084773      0.056515   \n",
       "min       0.000000     0.000000     0.000000      0.000000      0.000000   \n",
       "25%       0.000000     0.000000     0.000000      0.000000      0.000000   \n",
       "50%       0.000000     0.000000     0.000000      0.000000      0.000000   \n",
       "75%       1.000000     0.333333     0.200000      0.100000      0.066667   \n",
       "max       1.000000     1.000000     1.000000      0.500000      0.333333   \n",
       "\n",
       "       precision@100      ndcg@1      ndcg@3      ndcg@5     ndcg@10  ...  \\\n",
       "count     238.000000  238.000000  238.000000  238.000000  238.000000  ...   \n",
       "mean        0.005805    0.411765    0.411765    0.411765    0.411765  ...   \n",
       "std         0.008477    0.493190    0.493190    0.493190    0.493190  ...   \n",
       "min         0.000000    0.000000    0.000000    0.000000    0.000000  ...   \n",
       "25%         0.000000    0.000000    0.000000    0.000000    0.000000  ...   \n",
       "50%         0.000000    0.000000    0.000000    0.000000    0.000000  ...   \n",
       "75%         0.010000    1.000000    1.000000    1.000000    1.000000  ...   \n",
       "max         0.050000    1.000000    1.000000    1.000000    1.000000  ...   \n",
       "\n",
       "        recall@10   recall@15  recall@100  r-precision@1  r-precision@3  \\\n",
       "count  238.000000  238.000000  238.000000     238.000000     238.000000   \n",
       "mean     0.411765    0.411765    0.411765       0.346379       0.408884   \n",
       "std      0.493190    0.493190    0.493190       0.444515       0.490758   \n",
       "min      0.000000    0.000000    0.000000       0.000000       0.000000   \n",
       "25%      0.000000    0.000000    0.000000       0.000000       0.000000   \n",
       "50%      0.000000    0.000000    0.000000       0.000000       0.000000   \n",
       "75%      1.000000    1.000000    1.000000       1.000000       1.000000   \n",
       "max      1.000000    1.000000    1.000000       1.000000       1.000000   \n",
       "\n",
       "       r-precision@5  r-precision@10  r-precision@15  r-precision@100  \\\n",
       "count     238.000000      238.000000      238.000000       238.000000   \n",
       "mean        0.411164        0.411765        0.411765         0.411765   \n",
       "std         0.492558        0.493190        0.493190         0.493190   \n",
       "min         0.000000        0.000000        0.000000         0.000000   \n",
       "25%         0.000000        0.000000        0.000000         0.000000   \n",
       "50%         0.000000        0.000000        0.000000         0.000000   \n",
       "75%         1.000000        1.000000        1.000000         1.000000   \n",
       "max         1.000000        1.000000        1.000000         1.000000   \n",
       "\n",
       "        time_eval  \n",
       "count  238.000000  \n",
       "mean     0.091871  \n",
       "std      0.023635  \n",
       "min      0.070687  \n",
       "25%      0.071846  \n",
       "50%      0.072856  \n",
       "75%      0.118783  \n",
       "max      0.127510  \n",
       "\n",
       "[8 rows x 31 columns]"
      ]
     },
     "metadata": {},
     "output_type": "display_data"
    }
   ],
   "source": [
    "pdf = pd.DataFrame(perfectmetrics).set_index(\"t\")\n",
    "cols = [ c for c in pdf.columns if not c.startswith('time_') ]\n",
    "paths.save_perfect(pdf, ORG_NAME, SPLITS_FREQ, SPLITS_NORMALIZE)\n",
    "display(pdf.describe())\n",
    "msk = (0 <= pdf[cols].min()) & (pdf[cols].max() <= 1)\n",
    "if not all(msk):\n",
    "    display(pdf.describe()[msk[~msk].index])\n",
    "assert all( msk ), \"There are metrics with wrong range\""
   ]
  },
  {
   "cell_type": "markdown",
   "id": "21e910cd",
   "metadata": {
    "papermill": {
     "duration": 0.004687,
     "end_time": "2024-07-04T08:31:12.307218",
     "exception": false,
     "start_time": "2024-07-04T08:31:12.302531",
     "status": "completed"
    },
    "tags": []
   },
   "source": [
    "## Plotting some graphs"
   ]
  },
  {
   "cell_type": "code",
   "execution_count": 12,
   "id": "ada9ad19",
   "metadata": {
    "execution": {
     "iopub.execute_input": "2024-07-04T08:31:12.316789Z",
     "iopub.status.busy": "2024-07-04T08:31:12.316701Z",
     "iopub.status.idle": "2024-07-04T08:31:12.438565Z",
     "shell.execute_reply": "2024-07-04T08:31:12.438368Z"
    },
    "papermill": {
     "duration": 0.127534,
     "end_time": "2024-07-04T08:31:12.439307",
     "exception": false,
     "start_time": "2024-07-04T08:31:12.311773",
     "status": "completed"
    },
    "tags": []
   },
   "outputs": [
    {
     "data": {
      "text/html": [
       "<div>\n",
       "<style scoped>\n",
       "    .dataframe tbody tr th:only-of-type {\n",
       "        vertical-align: middle;\n",
       "    }\n",
       "\n",
       "    .dataframe tbody tr th {\n",
       "        vertical-align: top;\n",
       "    }\n",
       "\n",
       "    .dataframe thead th {\n",
       "        text-align: right;\n",
       "    }\n",
       "</style>\n",
       "<table border=\"1\" class=\"dataframe\">\n",
       "  <thead>\n",
       "    <tr style=\"text-align: right;\">\n",
       "      <th></th>\n",
       "      <th>t</th>\n",
       "      <th>precision@1</th>\n",
       "      <th>precision@3</th>\n",
       "      <th>precision@5</th>\n",
       "      <th>precision@10</th>\n",
       "      <th>precision@15</th>\n",
       "      <th>precision@100</th>\n",
       "      <th>ndcg@1</th>\n",
       "      <th>ndcg@3</th>\n",
       "      <th>ndcg@5</th>\n",
       "      <th>...</th>\n",
       "      <th>recall@100</th>\n",
       "      <th>r-precision@1</th>\n",
       "      <th>r-precision@3</th>\n",
       "      <th>r-precision@5</th>\n",
       "      <th>r-precision@10</th>\n",
       "      <th>r-precision@15</th>\n",
       "      <th>r-precision@100</th>\n",
       "      <th>time_eval</th>\n",
       "      <th>perfect precision@5</th>\n",
       "      <th>perfect precision@10</th>\n",
       "    </tr>\n",
       "  </thead>\n",
       "  <tbody>\n",
       "    <tr>\n",
       "      <th>count</th>\n",
       "      <td>238</td>\n",
       "      <td>238.000000</td>\n",
       "      <td>238.000000</td>\n",
       "      <td>238.000000</td>\n",
       "      <td>238.000000</td>\n",
       "      <td>238.000000</td>\n",
       "      <td>238.000000</td>\n",
       "      <td>238.000000</td>\n",
       "      <td>238.000000</td>\n",
       "      <td>238.000000</td>\n",
       "      <td>...</td>\n",
       "      <td>238.000000</td>\n",
       "      <td>238.000000</td>\n",
       "      <td>236.000000</td>\n",
       "      <td>234.000000</td>\n",
       "      <td>234.000000</td>\n",
       "      <td>234.000000</td>\n",
       "      <td>234.000000</td>\n",
       "      <td>238.000000</td>\n",
       "      <td>0.0</td>\n",
       "      <td>0.0</td>\n",
       "    </tr>\n",
       "    <tr>\n",
       "      <th>mean</th>\n",
       "      <td>2022-07-27 12:00:00</td>\n",
       "      <td>0.048319</td>\n",
       "      <td>0.034314</td>\n",
       "      <td>0.023389</td>\n",
       "      <td>0.011695</td>\n",
       "      <td>0.007796</td>\n",
       "      <td>0.001169</td>\n",
       "      <td>0.048319</td>\n",
       "      <td>0.047853</td>\n",
       "      <td>0.049811</td>\n",
       "      <td>...</td>\n",
       "      <td>0.055322</td>\n",
       "      <td>0.026050</td>\n",
       "      <td>0.040678</td>\n",
       "      <td>0.042735</td>\n",
       "      <td>0.042735</td>\n",
       "      <td>0.042735</td>\n",
       "      <td>0.042735</td>\n",
       "      <td>0.074562</td>\n",
       "      <td>NaN</td>\n",
       "      <td>NaN</td>\n",
       "    </tr>\n",
       "    <tr>\n",
       "      <th>min</th>\n",
       "      <td>2021-08-06 00:00:00</td>\n",
       "      <td>0.000000</td>\n",
       "      <td>0.000000</td>\n",
       "      <td>0.000000</td>\n",
       "      <td>0.000000</td>\n",
       "      <td>0.000000</td>\n",
       "      <td>0.000000</td>\n",
       "      <td>0.000000</td>\n",
       "      <td>0.000000</td>\n",
       "      <td>0.000000</td>\n",
       "      <td>...</td>\n",
       "      <td>0.000000</td>\n",
       "      <td>0.000000</td>\n",
       "      <td>0.000000</td>\n",
       "      <td>0.000000</td>\n",
       "      <td>0.000000</td>\n",
       "      <td>0.000000</td>\n",
       "      <td>0.000000</td>\n",
       "      <td>0.067238</td>\n",
       "      <td>NaN</td>\n",
       "      <td>NaN</td>\n",
       "    </tr>\n",
       "    <tr>\n",
       "      <th>25%</th>\n",
       "      <td>2022-01-30 18:00:00</td>\n",
       "      <td>0.000000</td>\n",
       "      <td>0.000000</td>\n",
       "      <td>0.000000</td>\n",
       "      <td>0.000000</td>\n",
       "      <td>0.000000</td>\n",
       "      <td>0.000000</td>\n",
       "      <td>0.000000</td>\n",
       "      <td>0.000000</td>\n",
       "      <td>0.000000</td>\n",
       "      <td>...</td>\n",
       "      <td>0.000000</td>\n",
       "      <td>0.000000</td>\n",
       "      <td>0.000000</td>\n",
       "      <td>0.000000</td>\n",
       "      <td>0.000000</td>\n",
       "      <td>0.000000</td>\n",
       "      <td>0.000000</td>\n",
       "      <td>0.068362</td>\n",
       "      <td>NaN</td>\n",
       "      <td>NaN</td>\n",
       "    </tr>\n",
       "    <tr>\n",
       "      <th>50%</th>\n",
       "      <td>2022-07-27 12:00:00</td>\n",
       "      <td>0.000000</td>\n",
       "      <td>0.000000</td>\n",
       "      <td>0.000000</td>\n",
       "      <td>0.000000</td>\n",
       "      <td>0.000000</td>\n",
       "      <td>0.000000</td>\n",
       "      <td>0.000000</td>\n",
       "      <td>0.000000</td>\n",
       "      <td>0.000000</td>\n",
       "      <td>...</td>\n",
       "      <td>0.000000</td>\n",
       "      <td>0.000000</td>\n",
       "      <td>0.000000</td>\n",
       "      <td>0.000000</td>\n",
       "      <td>0.000000</td>\n",
       "      <td>0.000000</td>\n",
       "      <td>0.000000</td>\n",
       "      <td>0.069062</td>\n",
       "      <td>NaN</td>\n",
       "      <td>NaN</td>\n",
       "    </tr>\n",
       "    <tr>\n",
       "      <th>75%</th>\n",
       "      <td>2023-01-21 06:00:00</td>\n",
       "      <td>0.000000</td>\n",
       "      <td>0.000000</td>\n",
       "      <td>0.000000</td>\n",
       "      <td>0.000000</td>\n",
       "      <td>0.000000</td>\n",
       "      <td>0.000000</td>\n",
       "      <td>0.000000</td>\n",
       "      <td>0.000000</td>\n",
       "      <td>0.000000</td>\n",
       "      <td>...</td>\n",
       "      <td>0.000000</td>\n",
       "      <td>0.000000</td>\n",
       "      <td>0.000000</td>\n",
       "      <td>0.000000</td>\n",
       "      <td>0.000000</td>\n",
       "      <td>0.000000</td>\n",
       "      <td>0.000000</td>\n",
       "      <td>0.070445</td>\n",
       "      <td>NaN</td>\n",
       "      <td>NaN</td>\n",
       "    </tr>\n",
       "    <tr>\n",
       "      <th>max</th>\n",
       "      <td>2023-07-18 00:00:00</td>\n",
       "      <td>1.000000</td>\n",
       "      <td>1.000000</td>\n",
       "      <td>1.000000</td>\n",
       "      <td>0.500000</td>\n",
       "      <td>0.333333</td>\n",
       "      <td>0.050000</td>\n",
       "      <td>1.000000</td>\n",
       "      <td>1.000000</td>\n",
       "      <td>1.000000</td>\n",
       "      <td>...</td>\n",
       "      <td>1.000000</td>\n",
       "      <td>1.000000</td>\n",
       "      <td>1.000000</td>\n",
       "      <td>1.000000</td>\n",
       "      <td>1.000000</td>\n",
       "      <td>1.000000</td>\n",
       "      <td>1.000000</td>\n",
       "      <td>0.231950</td>\n",
       "      <td>NaN</td>\n",
       "      <td>NaN</td>\n",
       "    </tr>\n",
       "    <tr>\n",
       "      <th>std</th>\n",
       "      <td>NaN</td>\n",
       "      <td>0.212424</td>\n",
       "      <td>0.144808</td>\n",
       "      <td>0.101554</td>\n",
       "      <td>0.050777</td>\n",
       "      <td>0.033851</td>\n",
       "      <td>0.005078</td>\n",
       "      <td>0.212424</td>\n",
       "      <td>0.194738</td>\n",
       "      <td>0.195930</td>\n",
       "      <td>...</td>\n",
       "      <td>0.214560</td>\n",
       "      <td>0.130645</td>\n",
       "      <td>0.179605</td>\n",
       "      <td>0.187412</td>\n",
       "      <td>0.187412</td>\n",
       "      <td>0.187412</td>\n",
       "      <td>0.187412</td>\n",
       "      <td>0.016127</td>\n",
       "      <td>NaN</td>\n",
       "      <td>NaN</td>\n",
       "    </tr>\n",
       "  </tbody>\n",
       "</table>\n",
       "<p>8 rows × 34 columns</p>\n",
       "</div>"
      ],
      "text/plain": [
       "                         t  precision@1  precision@3  precision@5  \\\n",
       "count                  238   238.000000   238.000000   238.000000   \n",
       "mean   2022-07-27 12:00:00     0.048319     0.034314     0.023389   \n",
       "min    2021-08-06 00:00:00     0.000000     0.000000     0.000000   \n",
       "25%    2022-01-30 18:00:00     0.000000     0.000000     0.000000   \n",
       "50%    2022-07-27 12:00:00     0.000000     0.000000     0.000000   \n",
       "75%    2023-01-21 06:00:00     0.000000     0.000000     0.000000   \n",
       "max    2023-07-18 00:00:00     1.000000     1.000000     1.000000   \n",
       "std                    NaN     0.212424     0.144808     0.101554   \n",
       "\n",
       "       precision@10  precision@15  precision@100      ndcg@1      ndcg@3  \\\n",
       "count    238.000000    238.000000     238.000000  238.000000  238.000000   \n",
       "mean       0.011695      0.007796       0.001169    0.048319    0.047853   \n",
       "min        0.000000      0.000000       0.000000    0.000000    0.000000   \n",
       "25%        0.000000      0.000000       0.000000    0.000000    0.000000   \n",
       "50%        0.000000      0.000000       0.000000    0.000000    0.000000   \n",
       "75%        0.000000      0.000000       0.000000    0.000000    0.000000   \n",
       "max        0.500000      0.333333       0.050000    1.000000    1.000000   \n",
       "std        0.050777      0.033851       0.005078    0.212424    0.194738   \n",
       "\n",
       "           ndcg@5  ...  recall@100  r-precision@1  r-precision@3  \\\n",
       "count  238.000000  ...  238.000000     238.000000     236.000000   \n",
       "mean     0.049811  ...    0.055322       0.026050       0.040678   \n",
       "min      0.000000  ...    0.000000       0.000000       0.000000   \n",
       "25%      0.000000  ...    0.000000       0.000000       0.000000   \n",
       "50%      0.000000  ...    0.000000       0.000000       0.000000   \n",
       "75%      0.000000  ...    0.000000       0.000000       0.000000   \n",
       "max      1.000000  ...    1.000000       1.000000       1.000000   \n",
       "std      0.195930  ...    0.214560       0.130645       0.179605   \n",
       "\n",
       "       r-precision@5  r-precision@10  r-precision@15  r-precision@100  \\\n",
       "count     234.000000      234.000000      234.000000       234.000000   \n",
       "mean        0.042735        0.042735        0.042735         0.042735   \n",
       "min         0.000000        0.000000        0.000000         0.000000   \n",
       "25%         0.000000        0.000000        0.000000         0.000000   \n",
       "50%         0.000000        0.000000        0.000000         0.000000   \n",
       "75%         0.000000        0.000000        0.000000         0.000000   \n",
       "max         1.000000        1.000000        1.000000         1.000000   \n",
       "std         0.187412        0.187412        0.187412         0.187412   \n",
       "\n",
       "        time_eval  perfect precision@5  perfect precision@10  \n",
       "count  238.000000                  0.0                   0.0  \n",
       "mean     0.074562                  NaN                   NaN  \n",
       "min      0.067238                  NaN                   NaN  \n",
       "25%      0.068362                  NaN                   NaN  \n",
       "50%      0.069062                  NaN                   NaN  \n",
       "75%      0.070445                  NaN                   NaN  \n",
       "max      0.231950                  NaN                   NaN  \n",
       "std      0.016127                  NaN                   NaN  \n",
       "\n",
       "[8 rows x 34 columns]"
      ]
     },
     "execution_count": 12,
     "metadata": {},
     "output_type": "execute_result"
    },
    {
     "data": {
      "image/png": "[encoded data removed]",
      "text/plain": [
       "<Figure size 640x480 with 1 Axes>"
      ]
     },
     "metadata": {},
     "output_type": "display_data"
    }
   ],
   "source": [
    "mdf = pd.DataFrame(metrics)\n",
    "mdf['perfect precision@5'] = pdf['precision@5']\n",
    "mdf['perfect precision@10'] = pdf['precision@10']\n",
    "mdf[['precision@5', 'perfect precision@5', 'precision@10', 'perfect precision@10']].plot(title='Evaluación modelo baseline MP')\n",
    "mdf.describe()"
   ]
  },
  {
   "cell_type": "code",
   "execution_count": 13,
   "id": "9f5f6545",
   "metadata": {
    "execution": {
     "iopub.execute_input": "2024-07-04T08:31:12.450227Z",
     "iopub.status.busy": "2024-07-04T08:31:12.450073Z",
     "iopub.status.idle": "2024-07-04T08:31:12.475878Z",
     "shell.execute_reply": "2024-07-04T08:31:12.475591Z"
    },
    "papermill": {
     "duration": 0.032006,
     "end_time": "2024-07-04T08:31:12.476589",
     "exception": false,
     "start_time": "2024-07-04T08:31:12.444583",
     "status": "completed"
    },
    "tags": []
   },
   "outputs": [
    {
     "data": {
      "text/html": [
       "<div>\n",
       "<style scoped>\n",
       "    .dataframe tbody tr th:only-of-type {\n",
       "        vertical-align: middle;\n",
       "    }\n",
       "\n",
       "    .dataframe tbody tr th {\n",
       "        vertical-align: top;\n",
       "    }\n",
       "\n",
       "    .dataframe thead th {\n",
       "        text-align: right;\n",
       "    }\n",
       "</style>\n",
       "<table border=\"1\" class=\"dataframe\">\n",
       "  <thead>\n",
       "    <tr style=\"text-align: right;\">\n",
       "      <th></th>\n",
       "      <th>t</th>\n",
       "      <th>precision@1</th>\n",
       "      <th>precision@3</th>\n",
       "      <th>precision@5</th>\n",
       "      <th>precision@10</th>\n",
       "      <th>precision@15</th>\n",
       "      <th>precision@100</th>\n",
       "      <th>ndcg@1</th>\n",
       "      <th>ndcg@3</th>\n",
       "      <th>ndcg@5</th>\n",
       "      <th>...</th>\n",
       "      <th>recall@100</th>\n",
       "      <th>r-precision@1</th>\n",
       "      <th>r-precision@3</th>\n",
       "      <th>r-precision@5</th>\n",
       "      <th>r-precision@10</th>\n",
       "      <th>r-precision@15</th>\n",
       "      <th>r-precision@100</th>\n",
       "      <th>time_eval</th>\n",
       "      <th>perfect precision@5</th>\n",
       "      <th>perfect precision@10</th>\n",
       "    </tr>\n",
       "  </thead>\n",
       "  <tbody>\n",
       "    <tr>\n",
       "      <th>count</th>\n",
       "      <td>20</td>\n",
       "      <td>20.0</td>\n",
       "      <td>20.0</td>\n",
       "      <td>20.0</td>\n",
       "      <td>20.0</td>\n",
       "      <td>20.0</td>\n",
       "      <td>20.0</td>\n",
       "      <td>20.0</td>\n",
       "      <td>20.0</td>\n",
       "      <td>20.0</td>\n",
       "      <td>...</td>\n",
       "      <td>20.0</td>\n",
       "      <td>20.0</td>\n",
       "      <td>20.0</td>\n",
       "      <td>20.0</td>\n",
       "      <td>20.0</td>\n",
       "      <td>20.0</td>\n",
       "      <td>20.0</td>\n",
       "      <td>20.000000</td>\n",
       "      <td>0.0</td>\n",
       "      <td>0.0</td>\n",
       "    </tr>\n",
       "    <tr>\n",
       "      <th>mean</th>\n",
       "      <td>2023-06-19 12:00:00</td>\n",
       "      <td>0.0</td>\n",
       "      <td>0.0</td>\n",
       "      <td>0.0</td>\n",
       "      <td>0.0</td>\n",
       "      <td>0.0</td>\n",
       "      <td>0.0</td>\n",
       "      <td>0.0</td>\n",
       "      <td>0.0</td>\n",
       "      <td>0.0</td>\n",
       "      <td>...</td>\n",
       "      <td>0.0</td>\n",
       "      <td>0.0</td>\n",
       "      <td>0.0</td>\n",
       "      <td>0.0</td>\n",
       "      <td>0.0</td>\n",
       "      <td>0.0</td>\n",
       "      <td>0.0</td>\n",
       "      <td>0.069021</td>\n",
       "      <td>NaN</td>\n",
       "      <td>NaN</td>\n",
       "    </tr>\n",
       "    <tr>\n",
       "      <th>min</th>\n",
       "      <td>2023-05-22 00:00:00</td>\n",
       "      <td>0.0</td>\n",
       "      <td>0.0</td>\n",
       "      <td>0.0</td>\n",
       "      <td>0.0</td>\n",
       "      <td>0.0</td>\n",
       "      <td>0.0</td>\n",
       "      <td>0.0</td>\n",
       "      <td>0.0</td>\n",
       "      <td>0.0</td>\n",
       "      <td>...</td>\n",
       "      <td>0.0</td>\n",
       "      <td>0.0</td>\n",
       "      <td>0.0</td>\n",
       "      <td>0.0</td>\n",
       "      <td>0.0</td>\n",
       "      <td>0.0</td>\n",
       "      <td>0.0</td>\n",
       "      <td>0.067909</td>\n",
       "      <td>NaN</td>\n",
       "      <td>NaN</td>\n",
       "    </tr>\n",
       "    <tr>\n",
       "      <th>25%</th>\n",
       "      <td>2023-06-05 06:00:00</td>\n",
       "      <td>0.0</td>\n",
       "      <td>0.0</td>\n",
       "      <td>0.0</td>\n",
       "      <td>0.0</td>\n",
       "      <td>0.0</td>\n",
       "      <td>0.0</td>\n",
       "      <td>0.0</td>\n",
       "      <td>0.0</td>\n",
       "      <td>0.0</td>\n",
       "      <td>...</td>\n",
       "      <td>0.0</td>\n",
       "      <td>0.0</td>\n",
       "      <td>0.0</td>\n",
       "      <td>0.0</td>\n",
       "      <td>0.0</td>\n",
       "      <td>0.0</td>\n",
       "      <td>0.0</td>\n",
       "      <td>0.068397</td>\n",
       "      <td>NaN</td>\n",
       "      <td>NaN</td>\n",
       "    </tr>\n",
       "    <tr>\n",
       "      <th>50%</th>\n",
       "      <td>2023-06-19 12:00:00</td>\n",
       "      <td>0.0</td>\n",
       "      <td>0.0</td>\n",
       "      <td>0.0</td>\n",
       "      <td>0.0</td>\n",
       "      <td>0.0</td>\n",
       "      <td>0.0</td>\n",
       "      <td>0.0</td>\n",
       "      <td>0.0</td>\n",
       "      <td>0.0</td>\n",
       "      <td>...</td>\n",
       "      <td>0.0</td>\n",
       "      <td>0.0</td>\n",
       "      <td>0.0</td>\n",
       "      <td>0.0</td>\n",
       "      <td>0.0</td>\n",
       "      <td>0.0</td>\n",
       "      <td>0.0</td>\n",
       "      <td>0.068863</td>\n",
       "      <td>NaN</td>\n",
       "      <td>NaN</td>\n",
       "    </tr>\n",
       "    <tr>\n",
       "      <th>75%</th>\n",
       "      <td>2023-07-03 18:00:00</td>\n",
       "      <td>0.0</td>\n",
       "      <td>0.0</td>\n",
       "      <td>0.0</td>\n",
       "      <td>0.0</td>\n",
       "      <td>0.0</td>\n",
       "      <td>0.0</td>\n",
       "      <td>0.0</td>\n",
       "      <td>0.0</td>\n",
       "      <td>0.0</td>\n",
       "      <td>...</td>\n",
       "      <td>0.0</td>\n",
       "      <td>0.0</td>\n",
       "      <td>0.0</td>\n",
       "      <td>0.0</td>\n",
       "      <td>0.0</td>\n",
       "      <td>0.0</td>\n",
       "      <td>0.0</td>\n",
       "      <td>0.069469</td>\n",
       "      <td>NaN</td>\n",
       "      <td>NaN</td>\n",
       "    </tr>\n",
       "    <tr>\n",
       "      <th>max</th>\n",
       "      <td>2023-07-18 00:00:00</td>\n",
       "      <td>0.0</td>\n",
       "      <td>0.0</td>\n",
       "      <td>0.0</td>\n",
       "      <td>0.0</td>\n",
       "      <td>0.0</td>\n",
       "      <td>0.0</td>\n",
       "      <td>0.0</td>\n",
       "      <td>0.0</td>\n",
       "      <td>0.0</td>\n",
       "      <td>...</td>\n",
       "      <td>0.0</td>\n",
       "      <td>0.0</td>\n",
       "      <td>0.0</td>\n",
       "      <td>0.0</td>\n",
       "      <td>0.0</td>\n",
       "      <td>0.0</td>\n",
       "      <td>0.0</td>\n",
       "      <td>0.070788</td>\n",
       "      <td>NaN</td>\n",
       "      <td>NaN</td>\n",
       "    </tr>\n",
       "    <tr>\n",
       "      <th>std</th>\n",
       "      <td>NaN</td>\n",
       "      <td>0.0</td>\n",
       "      <td>0.0</td>\n",
       "      <td>0.0</td>\n",
       "      <td>0.0</td>\n",
       "      <td>0.0</td>\n",
       "      <td>0.0</td>\n",
       "      <td>0.0</td>\n",
       "      <td>0.0</td>\n",
       "      <td>0.0</td>\n",
       "      <td>...</td>\n",
       "      <td>0.0</td>\n",
       "      <td>0.0</td>\n",
       "      <td>0.0</td>\n",
       "      <td>0.0</td>\n",
       "      <td>0.0</td>\n",
       "      <td>0.0</td>\n",
       "      <td>0.0</td>\n",
       "      <td>0.000783</td>\n",
       "      <td>NaN</td>\n",
       "      <td>NaN</td>\n",
       "    </tr>\n",
       "  </tbody>\n",
       "</table>\n",
       "<p>8 rows × 34 columns</p>\n",
       "</div>"
      ],
      "text/plain": [
       "                         t  precision@1  precision@3  precision@5  \\\n",
       "count                   20         20.0         20.0         20.0   \n",
       "mean   2023-06-19 12:00:00          0.0          0.0          0.0   \n",
       "min    2023-05-22 00:00:00          0.0          0.0          0.0   \n",
       "25%    2023-06-05 06:00:00          0.0          0.0          0.0   \n",
       "50%    2023-06-19 12:00:00          0.0          0.0          0.0   \n",
       "75%    2023-07-03 18:00:00          0.0          0.0          0.0   \n",
       "max    2023-07-18 00:00:00          0.0          0.0          0.0   \n",
       "std                    NaN          0.0          0.0          0.0   \n",
       "\n",
       "       precision@10  precision@15  precision@100  ndcg@1  ndcg@3  ndcg@5  ...  \\\n",
       "count          20.0          20.0           20.0    20.0    20.0    20.0  ...   \n",
       "mean            0.0           0.0            0.0     0.0     0.0     0.0  ...   \n",
       "min             0.0           0.0            0.0     0.0     0.0     0.0  ...   \n",
       "25%             0.0           0.0            0.0     0.0     0.0     0.0  ...   \n",
       "50%             0.0           0.0            0.0     0.0     0.0     0.0  ...   \n",
       "75%             0.0           0.0            0.0     0.0     0.0     0.0  ...   \n",
       "max             0.0           0.0            0.0     0.0     0.0     0.0  ...   \n",
       "std             0.0           0.0            0.0     0.0     0.0     0.0  ...   \n",
       "\n",
       "       recall@100  r-precision@1  r-precision@3  r-precision@5  \\\n",
       "count        20.0           20.0           20.0           20.0   \n",
       "mean          0.0            0.0            0.0            0.0   \n",
       "min           0.0            0.0            0.0            0.0   \n",
       "25%           0.0            0.0            0.0            0.0   \n",
       "50%           0.0            0.0            0.0            0.0   \n",
       "75%           0.0            0.0            0.0            0.0   \n",
       "max           0.0            0.0            0.0            0.0   \n",
       "std           0.0            0.0            0.0            0.0   \n",
       "\n",
       "       r-precision@10  r-precision@15  r-precision@100  time_eval  \\\n",
       "count            20.0            20.0             20.0  20.000000   \n",
       "mean              0.0             0.0              0.0   0.069021   \n",
       "min               0.0             0.0              0.0   0.067909   \n",
       "25%               0.0             0.0              0.0   0.068397   \n",
       "50%               0.0             0.0              0.0   0.068863   \n",
       "75%               0.0             0.0              0.0   0.069469   \n",
       "max               0.0             0.0              0.0   0.070788   \n",
       "std               0.0             0.0              0.0   0.000783   \n",
       "\n",
       "       perfect precision@5  perfect precision@10  \n",
       "count                  0.0                   0.0  \n",
       "mean                   NaN                   NaN  \n",
       "min                    NaN                   NaN  \n",
       "25%                    NaN                   NaN  \n",
       "50%                    NaN                   NaN  \n",
       "75%                    NaN                   NaN  \n",
       "max                    NaN                   NaN  \n",
       "std                    NaN                   NaN  \n",
       "\n",
       "[8 rows x 34 columns]"
      ]
     },
     "execution_count": 13,
     "metadata": {},
     "output_type": "execute_result"
    }
   ],
   "source": [
    "mdf[-LAST_FOLDS:].describe()"
   ]
  },
  {
   "cell_type": "code",
   "execution_count": null,
   "id": "52141e66",
   "metadata": {
    "papermill": {
     "duration": 0.004871,
     "end_time": "2024-07-04T08:31:12.486357",
     "exception": false,
     "start_time": "2024-07-04T08:31:12.481486",
     "status": "completed"
    },
    "tags": []
   },
   "outputs": [],
   "source": []
  }
 ],
 "metadata": {
  "kernelspec": {
   "display_name": "Python 3 (ipykernel)",
   "language": "python",
   "name": "python3"
  },
  "language_info": {
   "codemirror_mode": {
    "name": "ipython",
    "version": 3
   },
   "file_extension": ".py",
   "mimetype": "text/x-python",
   "name": "python",
   "nbconvert_exporter": "python",
   "pygments_lexer": "ipython3",
   "version": "3.11.6"
  },
  "papermill": {
   "default_parameters": {},
   "duration": 45.800922,
   "end_time": "2024-07-04T08:31:13.511865",
   "environment_variables": {},
   "exception": null,
   "input_path": "10_baseline.ipynb",
   "output_path": "../nbout/Plaza/10_baseline.ipynb",
   "parameters": {
    "EXECUTION_ID": "2024-07-03",
    "LAST_FOLDS": 20,
    "LAST_FOLD_DATE_STR": "2022-06-29",
    "ORG_NAME": "Plaza",
    "SPLITS_FREQ": "3d",
    "SPLITS_NORMALIZE": true
   },
   "start_time": "2024-07-04T08:30:27.710943",
   "version": "2.6.0"
  },
  "widgets": {
   "application/vnd.jupyter.widget-state+json": {
    "state": {
     "0fc586b718014d878634411878dd1a8f": {
      "model_module": "@jupyter-widgets/controls",
      "model_module_version": "2.0.0",
      "model_name": "HBoxModel",
      "state": {
       "_dom_classes": [],
       "_model_module": "@jupyter-widgets/controls",
       "_model_module_version": "2.0.0",
       "_model_name": "HBoxModel",
       "_view_count": null,
       "_view_module": "@jupyter-widgets/controls",
       "_view_module_version": "2.0.0",
       "_view_name": "HBoxView",
       "box_style": "",
       "children": [
        "IPY_MODEL_2c236d8dffb34e06a94f356a763921de",
        "IPY_MODEL_32fe5d0fcf6c4f9c9b4de8b4a3cb3bb9",
        "IPY_MODEL_6c6c1e1347a8469f93a69e49e4bbea64"
       ],
       "layout": "IPY_MODEL_3ac6dd5432234f03a13d0777bc578741",
       "tabbable": null,
       "tooltip": null
      }
     },
     "2c236d8dffb34e06a94f356a763921de": {
      "model_module": "@jupyter-widgets/controls",
      "model_module_version": "2.0.0",
      "model_name": "HTMLModel",
      "state": {
       "_dom_classes": [],
       "_model_module": "@jupyter-widgets/controls",
       "_model_module_version": "2.0.0",
       "_model_name": "HTMLModel",
       "_view_count": null,
       "_view_module": "@jupyter-widgets/controls",
       "_view_module_version": "2.0.0",
       "_view_name": "HTMLView",
       "description": "",
       "description_allow_html": false,
       "layout": "IPY_MODEL_4711bba34e474cf7ab4f86083f299192",
       "placeholder": "​",
       "style": "IPY_MODEL_d1e64a23a09541abbfb44bb958432cb9",
       "tabbable": null,
       "tooltip": null,
       "value": "100%"
      }
     },
     "32fe5d0fcf6c4f9c9b4de8b4a3cb3bb9": {
      "model_module": "@jupyter-widgets/controls",
      "model_module_version": "2.0.0",
      "model_name": "FloatProgressModel",
      "state": {
       "_dom_classes": [],
       "_model_module": "@jupyter-widgets/controls",
       "_model_module_version": "2.0.0",
       "_model_name": "FloatProgressModel",
       "_view_count": null,
       "_view_module": "@jupyter-widgets/controls",
       "_view_module_version": "2.0.0",
       "_view_name": "ProgressView",
       "bar_style": "success",
       "description": "",
       "description_allow_html": false,
       "layout": "IPY_MODEL_9a4ebad450e447cebbabd3df317f3944",
       "max": 238.0,
       "min": 0.0,
       "orientation": "horizontal",
       "style": "IPY_MODEL_b5d5355180da4979a2c0147ee921e6fd",
       "tabbable": null,
       "tooltip": null,
       "value": 238.0
      }
     },
     "3ac6dd5432234f03a13d0777bc578741": {
      "model_module": "@jupyter-widgets/base",
      "model_module_version": "2.0.0",
      "model_name": "LayoutModel",
      "state": {
       "_model_module": "@jupyter-widgets/base",
       "_model_module_version": "2.0.0",
       "_model_name": "LayoutModel",
       "_view_count": null,
       "_view_module": "@jupyter-widgets/base",
       "_view_module_version": "2.0.0",
       "_view_name": "LayoutView",
       "align_content": null,
       "align_items": null,
       "align_self": null,
       "border_bottom": null,
       "border_left": null,
       "border_right": null,
       "border_top": null,
       "bottom": null,
       "display": null,
       "flex": null,
       "flex_flow": null,
       "grid_area": null,
       "grid_auto_columns": null,
       "grid_auto_flow": null,
       "grid_auto_rows": null,
       "grid_column": null,
       "grid_gap": null,
       "grid_row": null,
       "grid_template_areas": null,
       "grid_template_columns": null,
       "grid_template_rows": null,
       "height": null,
       "justify_content": null,
       "justify_items": null,
       "left": null,
       "margin": null,
       "max_height": null,
       "max_width": null,
       "min_height": null,
       "min_width": null,
       "object_fit": null,
       "object_position": null,
       "order": null,
       "overflow": null,
       "padding": null,
       "right": null,
       "top": null,
       "visibility": null,
       "width": null
      }
     },
     "4711bba34e474cf7ab4f86083f299192": {
      "model_module": "@jupyter-widgets/base",
      "model_module_version": "2.0.0",
      "model_name": "LayoutModel",
      "state": {
       "_model_module": "@jupyter-widgets/base",
       "_model_module_version": "2.0.0",
       "_model_name": "LayoutModel",
       "_view_count": null,
       "_view_module": "@jupyter-widgets/base",
       "_view_module_version": "2.0.0",
       "_view_name": "LayoutView",
       "align_content": null,
       "align_items": null,
       "align_self": null,
       "border_bottom": null,
       "border_left": null,
       "border_right": null,
       "border_top": null,
       "bottom": null,
       "display": null,
       "flex": null,
       "flex_flow": null,
       "grid_area": null,
       "grid_auto_columns": null,
       "grid_auto_flow": null,
       "grid_auto_rows": null,
       "grid_column": null,
       "grid_gap": null,
       "grid_row": null,
       "grid_template_areas": null,
       "grid_template_columns": null,
       "grid_template_rows": null,
       "height": null,
       "justify_content": null,
       "justify_items": null,
       "left": null,
       "margin": null,
       "max_height": null,
       "max_width": null,
       "min_height": null,
       "min_width": null,
       "object_fit": null,
       "object_position": null,
       "order": null,
       "overflow": null,
       "padding": null,
       "right": null,
       "top": null,
       "visibility": null,
       "width": null
      }
     },
     "607487c812ce484bb9e4d0eda1f767a8": {
      "model_module": "@jupyter-widgets/base",
      "model_module_version": "2.0.0",
      "model_name": "LayoutModel",
      "state": {
       "_model_module": "@jupyter-widgets/base",
       "_model_module_version": "2.0.0",
       "_model_name": "LayoutModel",
       "_view_count": null,
       "_view_module": "@jupyter-widgets/base",
       "_view_module_version": "2.0.0",
       "_view_name": "LayoutView",
       "align_content": null,
       "align_items": null,
       "align_self": null,
       "border_bottom": null,
       "border_left": null,
       "border_right": null,
       "border_top": null,
       "bottom": null,
       "display": null,
       "flex": null,
       "flex_flow": null,
       "grid_area": null,
       "grid_auto_columns": null,
       "grid_auto_flow": null,
       "grid_auto_rows": null,
       "grid_column": null,
       "grid_gap": null,
       "grid_row": null,
       "grid_template_areas": null,
       "grid_template_columns": null,
       "grid_template_rows": null,
       "height": null,
       "justify_content": null,
       "justify_items": null,
       "left": null,
       "margin": null,
       "max_height": null,
       "max_width": null,
       "min_height": null,
       "min_width": null,
       "object_fit": null,
       "object_position": null,
       "order": null,
       "overflow": null,
       "padding": null,
       "right": null,
       "top": null,
       "visibility": null,
       "width": null
      }
     },
     "6c6c1e1347a8469f93a69e49e4bbea64": {
      "model_module": "@jupyter-widgets/controls",
      "model_module_version": "2.0.0",
      "model_name": "HTMLModel",
      "state": {
       "_dom_classes": [],
       "_model_module": "@jupyter-widgets/controls",
       "_model_module_version": "2.0.0",
       "_model_name": "HTMLModel",
       "_view_count": null,
       "_view_module": "@jupyter-widgets/controls",
       "_view_module_version": "2.0.0",
       "_view_name": "HTMLView",
       "description": "",
       "description_allow_html": false,
       "layout": "IPY_MODEL_607487c812ce484bb9e4d0eda1f767a8",
       "placeholder": "​",
       "style": "IPY_MODEL_7576adafb8b14a50b1aeb1698a5d16c4",
       "tabbable": null,
       "tooltip": null,
       "value": " 238/238 [00:40&lt;00:00,  5.38it/s]"
      }
     },
     "7576adafb8b14a50b1aeb1698a5d16c4": {
      "model_module": "@jupyter-widgets/controls",
      "model_module_version": "2.0.0",
      "model_name": "HTMLStyleModel",
      "state": {
       "_model_module": "@jupyter-widgets/controls",
       "_model_module_version": "2.0.0",
       "_model_name": "HTMLStyleModel",
       "_view_count": null,
       "_view_module": "@jupyter-widgets/base",
       "_view_module_version": "2.0.0",
       "_view_name": "StyleView",
       "background": null,
       "description_width": "",
       "font_size": null,
       "text_color": null
      }
     },
     "9a4ebad450e447cebbabd3df317f3944": {
      "model_module": "@jupyter-widgets/base",
      "model_module_version": "2.0.0",
      "model_name": "LayoutModel",
      "state": {
       "_model_module": "@jupyter-widgets/base",
       "_model_module_version": "2.0.0",
       "_model_name": "LayoutModel",
       "_view_count": null,
       "_view_module": "@jupyter-widgets/base",
       "_view_module_version": "2.0.0",
       "_view_name": "LayoutView",
       "align_content": null,
       "align_items": null,
       "align_self": null,
       "border_bottom": null,
       "border_left": null,
       "border_right": null,
       "border_top": null,
       "bottom": null,
       "display": null,
       "flex": null,
       "flex_flow": null,
       "grid_area": null,
       "grid_auto_columns": null,
       "grid_auto_flow": null,
       "grid_auto_rows": null,
       "grid_column": null,
       "grid_gap": null,
       "grid_row": null,
       "grid_template_areas": null,
       "grid_template_columns": null,
       "grid_template_rows": null,
       "height": null,
       "justify_content": null,
       "justify_items": null,
       "left": null,
       "margin": null,
       "max_height": null,
       "max_width": null,
       "min_height": null,
       "min_width": null,
       "object_fit": null,
       "object_position": null,
       "order": null,
       "overflow": null,
       "padding": null,
       "right": null,
       "top": null,
       "visibility": null,
       "width": null
      }
     },
     "b5d5355180da4979a2c0147ee921e6fd": {
      "model_module": "@jupyter-widgets/controls",
      "model_module_version": "2.0.0",
      "model_name": "ProgressStyleModel",
      "state": {
       "_model_module": "@jupyter-widgets/controls",
       "_model_module_version": "2.0.0",
       "_model_name": "ProgressStyleModel",
       "_view_count": null,
       "_view_module": "@jupyter-widgets/base",
       "_view_module_version": "2.0.0",
       "_view_name": "StyleView",
       "bar_color": null,
       "description_width": ""
      }
     },
     "d1e64a23a09541abbfb44bb958432cb9": {
      "model_module": "@jupyter-widgets/controls",
      "model_module_version": "2.0.0",
      "model_name": "HTMLStyleModel",
      "state": {
       "_model_module": "@jupyter-widgets/controls",
       "_model_module_version": "2.0.0",
       "_model_name": "HTMLStyleModel",
       "_view_count": null,
       "_view_module": "@jupyter-widgets/base",
       "_view_module_version": "2.0.0",
       "_view_name": "StyleView",
       "background": null,
       "description_width": "",
       "font_size": null,
       "text_color": null
      }
     }
    },
    "version_major": 2,
    "version_minor": 0
   }
  }
 },
 "nbformat": 4,
 "nbformat_minor": 5
}