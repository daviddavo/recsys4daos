{
 "cells": [
  {
   "cell_type": "code",
   "execution_count": 1,
   "id": "640054cf-a577-4483-9273-e1e1f8dc7798",
   "metadata": {
    "execution": {
     "iopub.execute_input": "2024-09-26T16:57:28.997978Z",
     "iopub.status.busy": "2024-09-26T16:57:28.997888Z",
     "iopub.status.idle": "2024-09-26T16:57:29.741237Z",
     "shell.execute_reply": "2024-09-26T16:57:29.740886Z"
    },
    "papermill": {
     "duration": 0.751701,
     "end_time": "2024-09-26T16:57:29.742158",
     "exception": false,
     "start_time": "2024-09-26T16:57:28.990457",
     "status": "completed"
    },
    "tags": []
   },
   "outputs": [
    {
     "name": "stdout",
     "output_type": "stream",
     "text": [
      "Original size: [6.4, 4.8], Ratio: 1.3333333333333335\n",
      "New size: [3.5, 2.6249999999999996]\n"
     ]
    },
    {
     "name": "stderr",
     "output_type": "stream",
     "text": [
      "/home/daviddavo/recsys4daos/src/recsys4daos/model_selection.py:12: TqdmExperimentalWarning: Using `tqdm.autonotebook.tqdm` in notebook mode. Use `tqdm.tqdm` instead to force console mode (e.g. in jupyter console)\n",
      "  from tqdm.autonotebook import tqdm\n"
     ]
    }
   ],
   "source": [
    "import datetime as dt\n",
    "import itertools as it\n",
    "import warnings\n",
    "\n",
    "import pandas as pd\n",
    "import numpy as np\n",
    "\n",
    "import matplotlib.pyplot as plt\n",
    "%matplotlib inline\n",
    "import seaborn as sns\n",
    "\n",
    "from recsys4daos.utils import notebooks as nbutils\n",
    "from recsys4daos.model_selection import cvtt_open\n",
    "import paths\n",
    "\n",
    "sns.set_theme(rc = {\n",
    "})\n",
    "sns.set_context(\"paper\")\n",
    "\n",
    "# Paper column width in inches\n",
    "PAPER_COL_WIDTH = 3.5\n",
    "\n",
    "original = plt.rcParamsDefault['figure.figsize']\n",
    "ratio = original[0] / original[1]\n",
    "print(f\"Original size: {original}, Ratio: {ratio}\")\n",
    "plt.rcParams['figure.figsize'] = (PAPER_COL_WIDTH, PAPER_COL_WIDTH/ratio)\n",
    "print(\"New size:\", plt.rcParams['figure.figsize'])\n",
    "\n",
    "# In acmart, 9pt is the default\n",
    "# And 7pt for \\footnotesize\n",
    "# plt.rcParams['font.size'] = 7,\n",
    "\n",
    "# The following are already relatively defined\n",
    "# plt.rcParams['xtick.labelsize'] = plt.rcParams['ytick.labelsize'] = plt.rcParams['axes.labelsize'] = plt.rcParams['font.size']"
   ]
  },
  {
   "cell_type": "code",
   "execution_count": 2,
   "id": "c7f5ba70-4851-4988-bf55-e0f59bfac4fa",
   "metadata": {
    "editable": true,
    "execution": {
     "iopub.execute_input": "2024-09-26T16:57:29.747993Z",
     "iopub.status.busy": "2024-09-26T16:57:29.747798Z",
     "iopub.status.idle": "2024-09-26T16:57:29.749791Z",
     "shell.execute_reply": "2024-09-26T16:57:29.749565Z"
    },
    "papermill": {
     "duration": 0.005705,
     "end_time": "2024-09-26T16:57:29.750535",
     "exception": false,
     "start_time": "2024-09-26T16:57:29.744830",
     "status": "completed"
    },
    "slideshow": {
     "slide_type": ""
    },
    "tags": [
     "parameters"
    ]
   },
   "outputs": [],
   "source": [
    "ORG_NAME = 'Decentraland'\n",
    "SPLITS_FREQ: str = 'W-THU'\n",
    "SPLITS_NORMALIZE: bool = True\n",
    "LAST_FOLDS: int = 10\n",
    "LAST_FOLD_DATE_STR: str = None # Used just for plotting\n",
    "\n",
    "# Plotting hparams\n",
    "RECTANGLE_ALPHA = 0.3"
   ]
  },
  {
   "cell_type": "code",
   "execution_count": 3,
   "id": "86971331",
   "metadata": {
    "execution": {
     "iopub.execute_input": "2024-09-26T16:57:29.755352Z",
     "iopub.status.busy": "2024-09-26T16:57:29.755207Z",
     "iopub.status.idle": "2024-09-26T16:57:29.756745Z",
     "shell.execute_reply": "2024-09-26T16:57:29.756560Z"
    },
    "papermill": {
     "duration": 0.004704,
     "end_time": "2024-09-26T16:57:29.757325",
     "exception": false,
     "start_time": "2024-09-26T16:57:29.752621",
     "status": "completed"
    },
    "tags": [
     "injected-parameters"
    ]
   },
   "outputs": [],
   "source": [
    "# Parameters\n",
    "EXECUTION_ID = \"2024-09-24T10:00\"\n",
    "ORG_NAME = \"HUWA-DAO\"\n",
    "SPLITS_FREQ = \"2d\"\n",
    "LAST_FOLDS = 6\n",
    "SPLITS_NORMALIZE = True\n",
    "LAST_FOLD_DATE_STR = \"2021-11-13\"\n"
   ]
  },
  {
   "cell_type": "code",
   "execution_count": 4,
   "id": "18b57097-46f5-4181-a1a5-f095f406f3a6",
   "metadata": {
    "execution": {
     "iopub.execute_input": "2024-09-26T16:57:29.762223Z",
     "iopub.status.busy": "2024-09-26T16:57:29.762083Z",
     "iopub.status.idle": "2024-09-26T16:57:29.763623Z",
     "shell.execute_reply": "2024-09-26T16:57:29.763444Z"
    },
    "papermill": {
     "duration": 0.004848,
     "end_time": "2024-09-26T16:57:29.764336",
     "exception": false,
     "start_time": "2024-09-26T16:57:29.759488",
     "status": "completed"
    },
    "tags": []
   },
   "outputs": [],
   "source": [
    "LAST_FOLD_DATE: dt.datetime = dt.datetime.fromisoformat(LAST_FOLD_DATE_STR) if LAST_FOLD_DATE_STR else dt.datetime.now()"
   ]
  },
  {
   "cell_type": "code",
   "execution_count": 5,
   "id": "1291b8e7-03c8-48ad-b732-9f66a9ef4ff3",
   "metadata": {
    "execution": {
     "iopub.execute_input": "2024-09-26T16:57:29.769122Z",
     "iopub.status.busy": "2024-09-26T16:57:29.768960Z",
     "iopub.status.idle": "2024-09-26T16:57:29.787338Z",
     "shell.execute_reply": "2024-09-26T16:57:29.787124Z"
    },
    "papermill": {
     "duration": 0.021548,
     "end_time": "2024-09-26T16:57:29.787976",
     "exception": false,
     "start_time": "2024-09-26T16:57:29.766428",
     "status": "completed"
    },
    "tags": []
   },
   "outputs": [
    {
     "name": "stdout",
     "output_type": "stream",
     "text": [
      "<class 'pandas.core.frame.DataFrame'>\n",
      "RangeIndex: 631 entries, 0 to 630\n",
      "Data columns (total 6 columns):\n",
      " #   Column             Non-Null Count  Dtype         \n",
      "---  ------             --------------  -----         \n",
      " 0   id                 631 non-null    object        \n",
      " 1   author             631 non-null    object        \n",
      " 2   date               631 non-null    datetime64[us]\n",
      " 3   start              631 non-null    datetime64[us]\n",
      " 4   end                631 non-null    datetime64[us]\n",
      " 5   platform_proposal  631 non-null    object        \n",
      "dtypes: datetime64[us](3), object(3)\n",
      "memory usage: 29.7+ KB\n",
      "None\n",
      "<class 'pandas.core.frame.DataFrame'>\n",
      "RangeIndex: 4151 entries, 0 to 4150\n",
      "Data columns (total 4 columns):\n",
      " #   Column    Non-Null Count  Dtype         \n",
      "---  ------    --------------  -----         \n",
      " 0   id        4151 non-null   object        \n",
      " 1   proposal  4151 non-null   object        \n",
      " 2   voter     4151 non-null   object        \n",
      " 3   date      4151 non-null   datetime64[us]\n",
      "dtypes: datetime64[us](1), object(3)\n",
      "memory usage: 129.8+ KB\n",
      "None\n"
     ]
    }
   ],
   "source": [
    "dfp = paths.load_proposals(ORG_NAME)\n",
    "dfv = paths.load_votes(ORG_NAME)\n",
    "\n",
    "print(dfp.info())\n",
    "print(dfv.info())"
   ]
  },
  {
   "cell_type": "code",
   "execution_count": 6,
   "id": "91ae71b5-ba11-48d2-becd-047ee43af17d",
   "metadata": {
    "execution": {
     "iopub.execute_input": "2024-09-26T16:57:29.793315Z",
     "iopub.status.busy": "2024-09-26T16:57:29.793116Z",
     "iopub.status.idle": "2024-09-26T16:57:29.796403Z",
     "shell.execute_reply": "2024-09-26T16:57:29.796205Z"
    },
    "papermill": {
     "duration": 0.006515,
     "end_time": "2024-09-26T16:57:29.796965",
     "exception": false,
     "start_time": "2024-09-26T16:57:29.790450",
     "status": "completed"
    },
    "tags": []
   },
   "outputs": [
    {
     "name": "stdout",
     "output_type": "stream",
     "text": [
      "First vote: 2021-07-22 11:44:39\n",
      "Last vote: 2023-07-01 00:51:20\n"
     ]
    }
   ],
   "source": [
    "print(\"First vote:\", first_vote := dfv['date'].min())\n",
    "print(\"Last vote:\", last_vote := dfv['date'].max())\n",
    "paths.save_dao_datum(ORG_NAME, 'dfv_first_vote', str(first_vote))\n",
    "paths.save_dao_datum(ORG_NAME, 'dfv_last_vote', str(last_vote))"
   ]
  },
  {
   "cell_type": "code",
   "execution_count": 7,
   "id": "28628987-ada0-49cb-9b85-d8ee0ff417c1",
   "metadata": {
    "execution": {
     "iopub.execute_input": "2024-09-26T16:57:29.801862Z",
     "iopub.status.busy": "2024-09-26T16:57:29.801727Z",
     "iopub.status.idle": "2024-09-26T16:57:29.902952Z",
     "shell.execute_reply": "2024-09-26T16:57:29.902754Z"
    },
    "papermill": {
     "duration": 0.104496,
     "end_time": "2024-09-26T16:57:29.903666",
     "exception": false,
     "start_time": "2024-09-26T16:57:29.799170",
     "status": "completed"
    },
    "tags": []
   },
   "outputs": [
    {
     "name": "stdout",
     "output_type": "stream",
     "text": [
      "Using 6 folds from 2021-11-03 00:00:00 to 2021-11-13 00:00:00\n"
     ]
    }
   ],
   "source": [
    "folds = list(cvtt_open(dfv, SPLITS_FREQ, dfp, normalize=SPLITS_NORMALIZE, col_item='proposal', col_time='date', last_fold=LAST_FOLD_DATE_STR))[-LAST_FOLDS:]\n",
    "print(f\"Using {len(folds)} folds from {folds[0].end} to {folds[-1].end}\")\n",
    "paths.save_dao_datum(ORG_NAME, 'first_fold_date', str(folds[0].end))"
   ]
  },
  {
   "cell_type": "markdown",
   "id": "68ea9409-3b8c-4dfe-9c5d-4e89db8fd928",
   "metadata": {
    "papermill": {
     "duration": 0.002412,
     "end_time": "2024-09-26T16:57:29.908610",
     "exception": false,
     "start_time": "2024-09-26T16:57:29.906198",
     "status": "completed"
    },
    "tags": []
   },
   "source": [
    "## Proposals and time\n",
    "\n",
    "### How much time does each proposal take"
   ]
  },
  {
   "cell_type": "code",
   "execution_count": 8,
   "id": "a3ac7db5-d190-4ac5-8504-76a5c3eea938",
   "metadata": {
    "execution": {
     "iopub.execute_input": "2024-09-26T16:57:29.913553Z",
     "iopub.status.busy": "2024-09-26T16:57:29.913457Z",
     "iopub.status.idle": "2024-09-26T16:57:29.984213Z",
     "shell.execute_reply": "2024-09-26T16:57:29.983976Z"
    },
    "papermill": {
     "duration": 0.074405,
     "end_time": "2024-09-26T16:57:29.985230",
     "exception": false,
     "start_time": "2024-09-26T16:57:29.910825",
     "status": "completed"
    },
    "tags": []
   },
   "outputs": [
    {
     "name": "stdout",
     "output_type": "stream",
     "text": [
      "2 days 00:00:00      160\n",
      "1 days 00:00:00       83\n",
      "8 days 00:00:00       44\n",
      "7 days 00:00:00       26\n",
      "3 days 00:00:00       25\n",
      "                    ... \n",
      "26 days 03:00:00       1\n",
      "105 days 02:00:00      1\n",
      "5 days 10:10:00        1\n",
      "1 days 11:00:00        1\n",
      "16 days 23:57:04       1\n",
      "Name: count, Length: 167, dtype: int64\n",
      "2 days 00:00:00      0.253566\n",
      "1 days 00:00:00      0.131537\n",
      "8 days 00:00:00      0.069731\n",
      "7 days 00:00:00      0.041204\n",
      "3 days 00:00:00      0.039620\n",
      "                       ...   \n",
      "26 days 03:00:00     0.001585\n",
      "105 days 02:00:00    0.001585\n",
      "5 days 10:10:00      0.001585\n",
      "1 days 11:00:00      0.001585\n",
      "16 days 23:57:04     0.001585\n",
      "Name: count, Length: 167, dtype: float64\n"
     ]
    },
    {
     "data": {
      "text/plain": [
       "count                        631\n",
       "mean      9 days 06:28:11.076069\n",
       "std      12 days 20:54:22.481383\n",
       "min              0 days 06:00:00\n",
       "25%              2 days 00:00:00\n",
       "50%              3 days 02:00:00\n",
       "75%              9 days 07:30:00\n",
       "max            105 days 02:00:00\n",
       "dtype: object"
      ]
     },
     "execution_count": 8,
     "metadata": {},
     "output_type": "execute_result"
    },
    {
     "data": {
      "image/png": "[encoded data removed]",
      "text/plain": [
       "<Figure size 350x262.5 with 1 Axes>"
      ]
     },
     "metadata": {},
     "output_type": "display_data"
    }
   ],
   "source": [
    "# Original: Cell [5] at https://github.com/daviddavo/upm-tfm-notebooks/blob/bb2e45d4ec10962c987b6691fcb0cd4eeba7ea5b/10_baseline_mp.ipynb\n",
    "\n",
    "delta = dfp['end'] - dfp['start']\n",
    "delta.dt.days.hist(bins=14)\n",
    "print(vc := delta.value_counts())\n",
    "print(vc / len(delta))\n",
    "paths.save_dao_datum(ORG_NAME, 'median_open_time', str(delta.median()))\n",
    "delta.describe()"
   ]
  },
  {
   "cell_type": "markdown",
   "id": "e97489b7-f833-402c-a33c-8024a9540a1a",
   "metadata": {
    "execution": {
     "iopub.execute_input": "2024-03-20T19:22:14.246302Z",
     "iopub.status.busy": "2024-03-20T19:22:14.245740Z",
     "iopub.status.idle": "2024-03-20T19:22:14.252344Z",
     "shell.execute_reply": "2024-03-20T19:22:14.251090Z",
     "shell.execute_reply.started": "2024-03-20T19:22:14.246252Z"
    },
    "papermill": {
     "duration": 0.002428,
     "end_time": "2024-09-26T16:57:29.990187",
     "exception": false,
     "start_time": "2024-09-26T16:57:29.987759",
     "status": "completed"
    },
    "tags": []
   },
   "source": [
    "#### Avg. proposal length in time"
   ]
  },
  {
   "cell_type": "code",
   "execution_count": 9,
   "id": "d1fd19d5-722c-4e1c-9c56-e2ffd4c0a63f",
   "metadata": {
    "execution": {
     "iopub.execute_input": "2024-09-26T16:57:29.995681Z",
     "iopub.status.busy": "2024-09-26T16:57:29.995460Z",
     "iopub.status.idle": "2024-09-26T16:57:29.997699Z",
     "shell.execute_reply": "2024-09-26T16:57:29.997509Z"
    },
    "papermill": {
     "duration": 0.006271,
     "end_time": "2024-09-26T16:57:29.998811",
     "exception": false,
     "start_time": "2024-09-26T16:57:29.992540",
     "status": "completed"
    },
    "tags": []
   },
   "outputs": [],
   "source": [
    "def add_folds_to_plot(fig=plt, cont=True):\n",
    "\n",
    "    if cont:\n",
    "        start_date = folds[0].end\n",
    "        end_date = folds[-1].end\n",
    "        fig.axvspan(start_date, end_date, color='C2', alpha=RECTANGLE_ALPHA)\n",
    "    else:\n",
    "        for fprev, f, c in zip(folds, folds[1:], it.cycle([0,1])):\n",
    "            start_date = fprev.end\n",
    "            end_date = f.end\n",
    "            fig.axvspan(start_date, end_date, alpha=RECTANGLE_ALPHA, color='C1' if c else 'C2')"
   ]
  },
  {
   "cell_type": "code",
   "execution_count": 10,
   "id": "f619deb2-cf32-4e32-b125-c6d67b3acf87",
   "metadata": {
    "execution": {
     "iopub.execute_input": "2024-09-26T16:57:30.004110Z",
     "iopub.status.busy": "2024-09-26T16:57:30.004011Z",
     "iopub.status.idle": "2024-09-26T16:57:30.125902Z",
     "shell.execute_reply": "2024-09-26T16:57:30.125465Z"
    },
    "papermill": {
     "duration": 0.125413,
     "end_time": "2024-09-26T16:57:30.126569",
     "exception": false,
     "start_time": "2024-09-26T16:57:30.001156",
     "status": "completed"
    },
    "tags": []
   },
   "outputs": [
    {
     "data": {
      "image/png": "[encoded data removed]",
      "text/plain": [
       "<Figure size 350x262.5 with 1 Axes>"
      ]
     },
     "metadata": {},
     "output_type": "display_data"
    }
   ],
   "source": [
    "# Original: Cell [6] at https://github.com/daviddavo/upm-tfm-notebooks/blob/bb2e45d4ec10962c987b6691fcb0cd4eeba7ea5b/10_baseline_mp.ipynb\n",
    "ROLLING_LENGTH = '7d'\n",
    "\n",
    "_delta = dfp.assign(delta=delta).set_index('date').sort_index()['delta'].dt.days\n",
    "_delta.rolling(ROLLING_LENGTH).mean().plot()\n",
    "\n",
    "add_folds_to_plot()"
   ]
  },
  {
   "cell_type": "markdown",
   "id": "c481585c-8a02-4b48-b5c9-f9c0ed9e9c0c",
   "metadata": {
    "papermill": {
     "duration": 0.002601,
     "end_time": "2024-09-26T16:57:30.132088",
     "exception": false,
     "start_time": "2024-09-26T16:57:30.129487",
     "status": "completed"
    },
    "tags": []
   },
   "source": [
    "## How many proposals are created per week"
   ]
  },
  {
   "cell_type": "code",
   "execution_count": 11,
   "id": "b4559c9e-999a-45bc-bfe4-7997b5d71b76",
   "metadata": {
    "execution": {
     "iopub.execute_input": "2024-09-26T16:57:30.137619Z",
     "iopub.status.busy": "2024-09-26T16:57:30.137511Z",
     "iopub.status.idle": "2024-09-26T16:57:30.325501Z",
     "shell.execute_reply": "2024-09-26T16:57:30.325298Z"
    },
    "papermill": {
     "duration": 0.191604,
     "end_time": "2024-09-26T16:57:30.326176",
     "exception": false,
     "start_time": "2024-09-26T16:57:30.134572",
     "status": "completed"
    },
    "tags": []
   },
   "outputs": [
    {
     "name": "stdout",
     "output_type": "stream",
     "text": [
      "375.0\n",
      "2021-11-05 16:49:41\n"
     ]
    },
    {
     "data": {
      "text/plain": [
       "<Figure size 350x262.5 with 0 Axes>"
      ]
     },
     "metadata": {},
     "output_type": "display_data"
    },
    {
     "data": {
      "image/png": "[encoded data removed]",
      "text/plain": [
       "<Figure size 700x157.5 with 1 Axes>"
      ]
     },
     "metadata": {},
     "output_type": "display_data"
    }
   ],
   "source": [
    "WINDOW_SIZE = '7d' # dt.timedelta(days=7)\n",
    "\n",
    "_toplot = dfv.groupby('proposal')['date'].min().sort_values()\n",
    "_toplot = _toplot.to_frame()\n",
    "_toplot['cnt'] = 1\n",
    "_toplot = _toplot.rolling(window=WINDOW_SIZE, on='date').count()\n",
    "print(max_cnt := _toplot['cnt'].max())\n",
    "print(max_date := _toplot[_toplot['cnt'] == max_cnt].iloc[0]['date'])\n",
    "paths.save_dao_datum(ORG_NAME, 'max_proposals_ws', WINDOW_SIZE)\n",
    "paths.save_dao_datum(ORG_NAME, 'max_proposals_cnt', int(max_cnt))\n",
    "paths.save_dao_datum(ORG_NAME, 'max_proposals_date', str(max_date))\n",
    "\n",
    "# Double the width of the figure\n",
    "fs = plt.gcf().get_size_inches()\n",
    "plt.figure(figsize=fs * (2,.6))\n",
    "# _toplot.set_index('date')['cnt'].plot()\n",
    "ax = sns.lineplot(_toplot.set_index('date')['cnt'])\n",
    "\n",
    "plt.xlabel('')\n",
    "plt.ylabel('# propuestas')\n",
    "plt.xlim(\n",
    "    _toplot['date'].min(),\n",
    "    _toplot['date'].max(),\n",
    ")\n",
    "add_folds_to_plot(cont=False)\n",
    "\n",
    "sns.despine()"
   ]
  },
  {
   "cell_type": "code",
   "execution_count": 12,
   "id": "a55fbdf4-f6dc-42d4-bb2f-050235674d9b",
   "metadata": {
    "execution": {
     "iopub.execute_input": "2024-09-26T16:57:30.332410Z",
     "iopub.status.busy": "2024-09-26T16:57:30.332296Z",
     "iopub.status.idle": "2024-09-26T16:57:30.473198Z",
     "shell.execute_reply": "2024-09-26T16:57:30.472896Z"
    },
    "papermill": {
     "duration": 0.144876,
     "end_time": "2024-09-26T16:57:30.473844",
     "exception": false,
     "start_time": "2024-09-26T16:57:30.328968",
     "status": "completed"
    },
    "tags": []
   },
   "outputs": [
    {
     "data": {
      "text/plain": [
       "<Figure size 350x262.5 with 0 Axes>"
      ]
     },
     "metadata": {},
     "output_type": "display_data"
    },
    {
     "data": {
      "image/png": "[encoded data removed]",
      "text/plain": [
       "<Figure size 700x157.5 with 1 Axes>"
      ]
     },
     "metadata": {},
     "output_type": "display_data"
    }
   ],
   "source": [
    "_toplot = _toplot[_toplot['date'] > (folds[0].end - pd.tseries.frequencies.to_offset(SPLITS_FREQ)*3)]\n",
    "_toplot = _toplot[_toplot['date'] < (folds[-1].end + pd.tseries.frequencies.to_offset(SPLITS_FREQ)*3)]\n",
    "fs = plt.gcf().get_size_inches()\n",
    "plt.figure(figsize=fs * (2,.6))\n",
    "# _toplot.set_index('date')['cnt'].plot()\n",
    "ax = sns.lineplot(_toplot.set_index('date')['cnt'])\n",
    "\n",
    "plt.xlabel('')\n",
    "plt.ylabel('# propuestas')\n",
    "plt.xlim(\n",
    "    _toplot['date'].min(),\n",
    "    _toplot['date'].max(),\n",
    ")\n",
    "add_folds_to_plot(cont=False)\n",
    "\n",
    "sns.despine()"
   ]
  },
  {
   "cell_type": "markdown",
   "id": "0e0d5099-512a-42bb-927b-0ed2fe518a6f",
   "metadata": {
    "papermill": {
     "duration": 0.003073,
     "end_time": "2024-09-26T16:57:30.480178",
     "exception": false,
     "start_time": "2024-09-26T16:57:30.477105",
     "status": "completed"
    },
    "tags": []
   },
   "source": [
    "## Queue size (open proposals)"
   ]
  },
  {
   "cell_type": "code",
   "execution_count": 13,
   "id": "1344879d-8030-45f8-8510-4889ebce489f",
   "metadata": {
    "execution": {
     "iopub.execute_input": "2024-09-26T16:57:30.486500Z",
     "iopub.status.busy": "2024-09-26T16:57:30.486377Z",
     "iopub.status.idle": "2024-09-26T16:57:31.352225Z",
     "shell.execute_reply": "2024-09-26T16:57:31.352019Z"
    },
    "papermill": {
     "duration": 0.870049,
     "end_time": "2024-09-26T16:57:31.352970",
     "exception": false,
     "start_time": "2024-09-26T16:57:30.482921",
     "status": "completed"
    },
    "tags": []
   },
   "outputs": [
    {
     "name": "stdout",
     "output_type": "stream",
     "text": [
      "310\n",
      "2021-11-05 12:00:00\n"
     ]
    },
    {
     "data": {
      "image/png": "[encoded data removed]",
      "text/plain": [
       "<Figure size 800x300 with 1 Axes>"
      ]
     },
     "metadata": {},
     "output_type": "display_data"
    }
   ],
   "source": [
    "# This will be the \"resolution\" of the graph\n",
    "_GROUPER_FREQ = '12h'\n",
    "\n",
    "df_events = pd.concat((\n",
    "    dfp.groupby('start').size(),\n",
    "    -dfp.groupby('end').size(),\n",
    ")).sort_index()\n",
    "qsize = df_events.groupby(pd.Grouper(freq=_GROUPER_FREQ)).sum().cumsum()\n",
    "\n",
    "print(max_qsize := qsize.max())\n",
    "print(max_date := qsize[qsize == max_qsize].index[0])\n",
    "paths.save_dao_datum(ORG_NAME, 'max_open_freq', _GROUPER_FREQ)\n",
    "paths.save_dao_datum(ORG_NAME, 'max_open_cnt', int(max_qsize))\n",
    "paths.save_dao_datum(ORG_NAME, 'max_open_date', str(max_date))\n",
    "\n",
    "qsize.plot(figsize=(8,3))\n",
    "add_folds_to_plot(cont=False)"
   ]
  },
  {
   "cell_type": "code",
   "execution_count": 14,
   "id": "4abea220-e30a-4483-8853-3632bffca1c1",
   "metadata": {
    "execution": {
     "iopub.execute_input": "2024-09-26T16:57:31.360020Z",
     "iopub.status.busy": "2024-09-26T16:57:31.359914Z",
     "iopub.status.idle": "2024-09-26T16:57:31.510299Z",
     "shell.execute_reply": "2024-09-26T16:57:31.510084Z"
    },
    "papermill": {
     "duration": 0.15476,
     "end_time": "2024-09-26T16:57:31.511015",
     "exception": false,
     "start_time": "2024-09-26T16:57:31.356255",
     "status": "completed"
    },
    "tags": []
   },
   "outputs": [
    {
     "name": "stdout",
     "output_type": "stream",
     "text": [
      "310\n",
      "2021-11-05 12:00:00\n"
     ]
    },
    {
     "data": {
      "image/png": "[encoded data removed]",
      "text/plain": [
       "<Figure size 800x300 with 1 Axes>"
      ]
     },
     "metadata": {},
     "output_type": "display_data"
    }
   ],
   "source": [
    "_toplot = qsize[qsize.index > (folds[0].end - pd.tseries.frequencies.to_offset(SPLITS_FREQ)*1)]\n",
    "_toplot = _toplot[_toplot.index < (folds[-1].end + pd.tseries.frequencies.to_offset(SPLITS_FREQ)*1)]\n",
    "\n",
    "print(max_qsize := _toplot.max())\n",
    "print(max_date := _toplot[_toplot == max_qsize].index[0])\n",
    "paths.save_dao_datum(ORG_NAME, 'max_open_freq_test', _GROUPER_FREQ)\n",
    "paths.save_dao_datum(ORG_NAME, 'max_open_cnt_test', int(max_qsize))\n",
    "paths.save_dao_datum(ORG_NAME, 'max_open_date_test', str(max_date))\n",
    "\n",
    "_toplot.plot(figsize=(8,3))\n",
    "add_folds_to_plot(cont=False)"
   ]
  },
  {
   "cell_type": "markdown",
   "id": "e356b832-bd11-4913-af31-5c630af68511",
   "metadata": {
    "papermill": {
     "duration": 0.003078,
     "end_time": "2024-09-26T16:57:31.517197",
     "exception": false,
     "start_time": "2024-09-26T16:57:31.514119",
     "status": "completed"
    },
    "tags": []
   },
   "source": [
    "## What day of the week are proposals created"
   ]
  },
  {
   "cell_type": "code",
   "execution_count": 15,
   "id": "9c02d601-3d7a-4f7f-9c86-a6f85d4fe7ad",
   "metadata": {
    "execution": {
     "iopub.execute_input": "2024-09-26T16:57:31.523999Z",
     "iopub.status.busy": "2024-09-26T16:57:31.523913Z",
     "iopub.status.idle": "2024-09-26T16:57:31.842629Z",
     "shell.execute_reply": "2024-09-26T16:57:31.842392Z"
    },
    "papermill": {
     "duration": 0.322995,
     "end_time": "2024-09-26T16:57:31.843325",
     "exception": false,
     "start_time": "2024-09-26T16:57:31.520330",
     "status": "completed"
    },
    "tags": []
   },
   "outputs": [
    {
     "name": "stdout",
     "output_type": "stream",
     "text": [
      "start\n",
      "Friday       163\n",
      "Thursday     126\n",
      "Monday        98\n",
      "Wednesday     93\n",
      "Saturday      70\n",
      "Tuesday       42\n",
      "Sunday        39\n",
      "Name: count, dtype: int64\n"
     ]
    },
    {
     "name": "stderr",
     "output_type": "stream",
     "text": [
      "/tmp/ipykernel_1807903/3307774390.py:9: UserWarning: set_ticklabels() should only be used with a fixed number of ticks, i.e. after set_ticks() or using a FixedLocator.\n",
      "  ax.set_xticklabels(DAYS_OF_WEEK_ENG, rotation=30, ha='right')\n"
     ]
    },
    {
     "data": {
      "application/vnd.jupyter.widget-view+json": {
       "model_id": "4b5217415f86408ca52a69824f24f922",
       "version_major": 2,
       "version_minor": 0
      },
      "text/html": [
       "Cannot show widget. You probably want to rerun the code cell above (<i>Click in the code cell, and press Shift+Enter <kbd>⇧</kbd>+<kbd>↩</kbd></i>)."
      ],
      "text/plain": [
       "Cannot show ipywidgets in text"
      ]
     },
     "metadata": {},
     "output_type": "display_data"
    },
    {
     "data": {
      "image/png": "[encoded data removed]",
      "text/plain": [
       "<Figure size 350x262.5 with 1 Axes>"
      ]
     },
     "metadata": {},
     "output_type": "display_data"
    }
   ],
   "source": [
    "# Original: Cell [7] at https://github.com/daviddavo/upm-tfm-notebooks/blob/bb2e45d4ec10962c987b6691fcb0cd4eeba7ea5b/10_baseline_mp.ipynb\n",
    "DAYS_OF_WEEK_ENG = ['Monday', 'Tuesday', 'Wednesday', 'Thursday', 'Friday', 'Saturday', 'Sunday']\n",
    "\n",
    "ax = sns.countplot(x=dfp['start'].dt.day_name(), order=DAYS_OF_WEEK_ENG)\n",
    "# ax.set_title(f'Número de propuestas por día de la semana en {ORG_NAME}')\n",
    "print(dfp['start'].dt.day_name().value_counts())\n",
    "ax.set_xlabel('')\n",
    "ax.set_ylabel('# proposals')\n",
    "ax.set_xticklabels(DAYS_OF_WEEK_ENG, rotation=30, ha='right')\n",
    "\n",
    "# Updates\n",
    "ax.set_ylabel('')\n",
    "\n",
    "nbutils.download_matplotlib(ax.figure, 'proposals_dow.pdf')"
   ]
  },
  {
   "cell_type": "markdown",
   "id": "38dc62ae-b8b7-451a-9ab2-18b211d89ec3",
   "metadata": {
    "papermill": {
     "duration": 0.003525,
     "end_time": "2024-09-26T16:57:31.850428",
     "exception": false,
     "start_time": "2024-09-26T16:57:31.846903",
     "status": "completed"
    },
    "tags": []
   },
   "source": [
    "## What day of the week are proposals voted"
   ]
  },
  {
   "cell_type": "code",
   "execution_count": 16,
   "id": "39967821-9f6e-4426-b896-e3898b27b334",
   "metadata": {
    "execution": {
     "iopub.execute_input": "2024-09-26T16:57:31.858030Z",
     "iopub.status.busy": "2024-09-26T16:57:31.857932Z",
     "iopub.status.idle": "2024-09-26T16:57:31.928549Z",
     "shell.execute_reply": "2024-09-26T16:57:31.928351Z"
    },
    "papermill": {
     "duration": 0.075428,
     "end_time": "2024-09-26T16:57:31.929363",
     "exception": false,
     "start_time": "2024-09-26T16:57:31.853935",
     "status": "completed"
    },
    "tags": []
   },
   "outputs": [
    {
     "name": "stdout",
     "output_type": "stream",
     "text": [
      "date\n",
      "Thursday     702\n",
      "Friday       641\n",
      "Tuesday      639\n",
      "Wednesday    620\n",
      "Saturday     578\n",
      "Monday       576\n",
      "Sunday       395\n",
      "Name: count, dtype: int64\n"
     ]
    },
    {
     "name": "stderr",
     "output_type": "stream",
     "text": [
      "/tmp/ipykernel_1807903/3643726510.py:6: UserWarning: set_ticklabels() should only be used with a fixed number of ticks, i.e. after set_ticks() or using a FixedLocator.\n",
      "  ax.set_xticklabels(DAYS_OF_WEEK_ENG, rotation=30, ha='right')\n"
     ]
    },
    {
     "data": {
      "application/vnd.jupyter.widget-view+json": {
       "model_id": "73e14e4c429a4e6fa88b989692da5a3d",
       "version_major": 2,
       "version_minor": 0
      },
      "text/html": [
       "Cannot show widget. You probably want to rerun the code cell above (<i>Click in the code cell, and press Shift+Enter <kbd>⇧</kbd>+<kbd>↩</kbd></i>)."
      ],
      "text/plain": [
       "Cannot show ipywidgets in text"
      ]
     },
     "metadata": {},
     "output_type": "display_data"
    },
    {
     "data": {
      "image/png": "[encoded data removed]",
      "text/plain": [
       "<Figure size 350x262.5 with 1 Axes>"
      ]
     },
     "metadata": {},
     "output_type": "display_data"
    }
   ],
   "source": [
    "ax = sns.countplot(x=dfv['date'].dt.day_name(), order=DAYS_OF_WEEK_ENG)\n",
    "# ax.set_title(f'Número de propuestas por día de la semana en {ORG_NAME}')\n",
    "print(dfv['date'].dt.day_name().value_counts())\n",
    "ax.set_xlabel('')\n",
    "ax.set_ylabel('# votes')\n",
    "ax.set_xticklabels(DAYS_OF_WEEK_ENG, rotation=30, ha='right')\n",
    "\n",
    "# Updates\n",
    "ax.set_ylabel('')\n",
    "\n",
    "nbutils.download_matplotlib(ax.figure, \"votes_dow.pdf\")"
   ]
  },
  {
   "cell_type": "markdown",
   "id": "8ec0e029-2f9d-47a1-9b1a-d86e29bbe513",
   "metadata": {
    "papermill": {
     "duration": 0.003855,
     "end_time": "2024-09-26T16:57:31.939047",
     "exception": false,
     "start_time": "2024-09-26T16:57:31.935192",
     "status": "completed"
    },
    "tags": []
   },
   "source": [
    "## In which moment of the proposal lifetime are votes cast"
   ]
  },
  {
   "cell_type": "code",
   "execution_count": 17,
   "id": "75803459-86cf-42b8-bc4a-83e2e673a824",
   "metadata": {
    "execution": {
     "iopub.execute_input": "2024-09-26T16:57:31.946738Z",
     "iopub.status.busy": "2024-09-26T16:57:31.946637Z",
     "iopub.status.idle": "2024-09-26T16:57:32.258628Z",
     "shell.execute_reply": "2024-09-26T16:57:32.258387Z"
    },
    "papermill": {
     "duration": 0.316953,
     "end_time": "2024-09-26T16:57:32.259473",
     "exception": false,
     "start_time": "2024-09-26T16:57:31.942520",
     "status": "completed"
    },
    "tags": []
   },
   "outputs": [
    {
     "data": {
      "text/html": [
       "<div>\n",
       "<style scoped>\n",
       "    .dataframe tbody tr th:only-of-type {\n",
       "        vertical-align: middle;\n",
       "    }\n",
       "\n",
       "    .dataframe tbody tr th {\n",
       "        vertical-align: top;\n",
       "    }\n",
       "\n",
       "    .dataframe thead tr th {\n",
       "        text-align: left;\n",
       "    }\n",
       "\n",
       "    .dataframe thead tr:last-of-type th {\n",
       "        text-align: right;\n",
       "    }\n",
       "</style>\n",
       "<table border=\"1\" class=\"dataframe\">\n",
       "  <thead>\n",
       "    <tr>\n",
       "      <th></th>\n",
       "      <th colspan=\"8\" halign=\"left\">time remaining</th>\n",
       "    </tr>\n",
       "    <tr>\n",
       "      <th></th>\n",
       "      <th>count</th>\n",
       "      <th>mean</th>\n",
       "      <th>std</th>\n",
       "      <th>min</th>\n",
       "      <th>25%</th>\n",
       "      <th>50%</th>\n",
       "      <th>75%</th>\n",
       "      <th>max</th>\n",
       "    </tr>\n",
       "    <tr>\n",
       "      <th>delta</th>\n",
       "      <th></th>\n",
       "      <th></th>\n",
       "      <th></th>\n",
       "      <th></th>\n",
       "      <th></th>\n",
       "      <th></th>\n",
       "      <th></th>\n",
       "      <th></th>\n",
       "    </tr>\n",
       "  </thead>\n",
       "  <tbody>\n",
       "    <tr>\n",
       "      <th>0 days 06:00:00</th>\n",
       "      <td>3.0</td>\n",
       "      <td>0.720957</td>\n",
       "      <td>0.071985</td>\n",
       "      <td>0.641296</td>\n",
       "      <td>0.690764</td>\n",
       "      <td>0.740231</td>\n",
       "      <td>0.760787</td>\n",
       "      <td>0.781343</td>\n",
       "    </tr>\n",
       "    <tr>\n",
       "      <th>0 days 16:10:00</th>\n",
       "      <td>2.0</td>\n",
       "      <td>0.938900</td>\n",
       "      <td>0.001725</td>\n",
       "      <td>0.937680</td>\n",
       "      <td>0.938290</td>\n",
       "      <td>0.938900</td>\n",
       "      <td>0.939510</td>\n",
       "      <td>0.940120</td>\n",
       "    </tr>\n",
       "    <tr>\n",
       "      <th>0 days 17:10:00</th>\n",
       "      <td>14.0</td>\n",
       "      <td>0.975304</td>\n",
       "      <td>0.052899</td>\n",
       "      <td>0.802233</td>\n",
       "      <td>0.993625</td>\n",
       "      <td>0.994490</td>\n",
       "      <td>0.995643</td>\n",
       "      <td>0.999822</td>\n",
       "    </tr>\n",
       "    <tr>\n",
       "      <th>0 days 18:00:00</th>\n",
       "      <td>3.0</td>\n",
       "      <td>0.649954</td>\n",
       "      <td>0.412866</td>\n",
       "      <td>0.179491</td>\n",
       "      <td>0.498958</td>\n",
       "      <td>0.818426</td>\n",
       "      <td>0.885185</td>\n",
       "      <td>0.951944</td>\n",
       "    </tr>\n",
       "    <tr>\n",
       "      <th>0 days 19:26:00</th>\n",
       "      <td>1.0</td>\n",
       "      <td>0.999714</td>\n",
       "      <td>NaN</td>\n",
       "      <td>0.999714</td>\n",
       "      <td>0.999714</td>\n",
       "      <td>0.999714</td>\n",
       "      <td>0.999714</td>\n",
       "      <td>0.999714</td>\n",
       "    </tr>\n",
       "    <tr>\n",
       "      <th>...</th>\n",
       "      <td>...</td>\n",
       "      <td>...</td>\n",
       "      <td>...</td>\n",
       "      <td>...</td>\n",
       "      <td>...</td>\n",
       "      <td>...</td>\n",
       "      <td>...</td>\n",
       "      <td>...</td>\n",
       "    </tr>\n",
       "    <tr>\n",
       "      <th>60 days 00:00:00</th>\n",
       "      <td>6.0</td>\n",
       "      <td>0.976078</td>\n",
       "      <td>0.031716</td>\n",
       "      <td>0.935135</td>\n",
       "      <td>0.950392</td>\n",
       "      <td>0.996157</td>\n",
       "      <td>0.996726</td>\n",
       "      <td>0.996969</td>\n",
       "    </tr>\n",
       "    <tr>\n",
       "      <th>61 days 00:00:00</th>\n",
       "      <td>7.0</td>\n",
       "      <td>0.980673</td>\n",
       "      <td>0.027378</td>\n",
       "      <td>0.919228</td>\n",
       "      <td>0.987381</td>\n",
       "      <td>0.992643</td>\n",
       "      <td>0.992686</td>\n",
       "      <td>0.992708</td>\n",
       "    </tr>\n",
       "    <tr>\n",
       "      <th>65 days 19:05:00</th>\n",
       "      <td>10.0</td>\n",
       "      <td>0.973036</td>\n",
       "      <td>0.060529</td>\n",
       "      <td>0.805564</td>\n",
       "      <td>0.989324</td>\n",
       "      <td>0.997312</td>\n",
       "      <td>0.999324</td>\n",
       "      <td>0.999950</td>\n",
       "    </tr>\n",
       "    <tr>\n",
       "      <th>82 days 00:00:00</th>\n",
       "      <td>7.0</td>\n",
       "      <td>0.827117</td>\n",
       "      <td>0.069612</td>\n",
       "      <td>0.793827</td>\n",
       "      <td>0.801192</td>\n",
       "      <td>0.802459</td>\n",
       "      <td>0.803171</td>\n",
       "      <td>0.984808</td>\n",
       "    </tr>\n",
       "    <tr>\n",
       "      <th>105 days 02:00:00</th>\n",
       "      <td>2.0</td>\n",
       "      <td>0.999687</td>\n",
       "      <td>0.000397</td>\n",
       "      <td>0.999406</td>\n",
       "      <td>0.999546</td>\n",
       "      <td>0.999687</td>\n",
       "      <td>0.999827</td>\n",
       "      <td>0.999968</td>\n",
       "    </tr>\n",
       "  </tbody>\n",
       "</table>\n",
       "<p>152 rows × 8 columns</p>\n",
       "</div>"
      ],
      "text/plain": [
       "                  time remaining                                          \\\n",
       "                           count      mean       std       min       25%   \n",
       "delta                                                                      \n",
       "0 days 06:00:00              3.0  0.720957  0.071985  0.641296  0.690764   \n",
       "0 days 16:10:00              2.0  0.938900  0.001725  0.937680  0.938290   \n",
       "0 days 17:10:00             14.0  0.975304  0.052899  0.802233  0.993625   \n",
       "0 days 18:00:00              3.0  0.649954  0.412866  0.179491  0.498958   \n",
       "0 days 19:26:00              1.0  0.999714       NaN  0.999714  0.999714   \n",
       "...                          ...       ...       ...       ...       ...   \n",
       "60 days 00:00:00             6.0  0.976078  0.031716  0.935135  0.950392   \n",
       "61 days 00:00:00             7.0  0.980673  0.027378  0.919228  0.987381   \n",
       "65 days 19:05:00            10.0  0.973036  0.060529  0.805564  0.989324   \n",
       "82 days 00:00:00             7.0  0.827117  0.069612  0.793827  0.801192   \n",
       "105 days 02:00:00            2.0  0.999687  0.000397  0.999406  0.999546   \n",
       "\n",
       "                                                 \n",
       "                        50%       75%       max  \n",
       "delta                                            \n",
       "0 days 06:00:00    0.740231  0.760787  0.781343  \n",
       "0 days 16:10:00    0.938900  0.939510  0.940120  \n",
       "0 days 17:10:00    0.994490  0.995643  0.999822  \n",
       "0 days 18:00:00    0.818426  0.885185  0.951944  \n",
       "0 days 19:26:00    0.999714  0.999714  0.999714  \n",
       "...                     ...       ...       ...  \n",
       "60 days 00:00:00   0.996157  0.996726  0.996969  \n",
       "61 days 00:00:00   0.992643  0.992686  0.992708  \n",
       "65 days 19:05:00   0.997312  0.999324  0.999950  \n",
       "82 days 00:00:00   0.802459  0.803171  0.984808  \n",
       "105 days 02:00:00  0.999687  0.999827  0.999968  \n",
       "\n",
       "[152 rows x 8 columns]"
      ]
     },
     "metadata": {},
     "output_type": "display_data"
    },
    {
     "name": "stdout",
     "output_type": "stream",
     "text": [
      "1975 (47.58%) of the votes are being cast on the first 14.29% of rel time\n",
      "4018 (96.80%) of the votes are being cast on the first 85.71% of rel time\n"
     ]
    },
    {
     "data": {
      "application/vnd.jupyter.widget-view+json": {
       "model_id": "ea106c35b1564d07ad5c64edd15eaa5f",
       "version_major": 2,
       "version_minor": 0
      },
      "text/html": [
       "Cannot show widget. You probably want to rerun the code cell above (<i>Click in the code cell, and press Shift+Enter <kbd>⇧</kbd>+<kbd>↩</kbd></i>)."
      ],
      "text/plain": [
       "Cannot show ipywidgets in text"
      ]
     },
     "metadata": {},
     "output_type": "display_data"
    },
    {
     "data": {
      "image/png": "[encoded data removed]",
      "text/plain": [
       "<Figure size 817.5x500 with 1 Axes>"
      ]
     },
     "metadata": {},
     "output_type": "display_data"
    }
   ],
   "source": [
    "from matplotlib import ticker\n",
    "\n",
    "PLOT_HUE = True\n",
    "BINS = 10\n",
    "\n",
    "_dfv = dfv[['proposal', 'date']].merge(dfp[['id', 'start', 'end']], left_on='proposal', right_on='id').sort_values('date')\n",
    "if not all(_dfv['date'] >= _dfv['start']):\n",
    "    warnings.warn('There cant be votes before the proposal started')\n",
    "if not all(_dfv['end'] >= _dfv['date']):\n",
    "    warnings.warn('There cant be votes after the proposal ended')\n",
    "_dfv['date_rel'] = (_dfv['date'] - _dfv['start']) / (_dfv['end'] - _dfv['start'])\n",
    "_dfv['delta'] = (_dfv['end'] - _dfv['start'])\n",
    "_dfv['time remaining'] = 1 - _dfv['date_rel']\n",
    "\n",
    "display(_dfv.groupby('delta')[['time remaining']].describe())\n",
    "\n",
    "for t in [1/7, 6/7]:\n",
    "    first_day = (_dfv['date_rel'] < t)\n",
    "    print(f\"{first_day.sum()} ({first_day.mean()*100:.2f}%) of the votes are being cast on the first {t*100:.2f}% of rel time\")\n",
    "\n",
    "if len(_dfv['delta'].value_counts()) > BINS:\n",
    "    _dfv['delta_original'] = _dfv['delta']\n",
    "    _dfv['delta'] = pd.cut(_dfv['delta'], BINS)\n",
    "\n",
    "_dfv['delta'] = _dfv['delta'].astype(str)\n",
    "fg = sns.displot(_dfv, x='date_rel', kind='ecdf', hue='delta' if PLOT_HUE else None)\n",
    "# fg.ax.xaxis.set_major_locator(ticker.MultipleLocator(1/7))\n",
    "\n",
    "fg.ax.yaxis.set_major_locator(ticker.MultipleLocator(1/10))\n",
    "fg.ax.yaxis.set_major_formatter(ticker.PercentFormatter(1))\n",
    "fg.ax.set_xticks(np.arange(8)/7)\n",
    "fg.ax.set_xticklabels([\"0\"] + [f\"{x}/7\" for x in range(1,7)] + [\"1\"])\n",
    "fg.ax.set_xlabel('Relative time elapsed');\n",
    "\n",
    "nbutils.download_matplotlib(fg, f\"votes_in_time{'-color' if PLOT_HUE else ''}.pdf\")"
   ]
  },
  {
   "cell_type": "markdown",
   "id": "9130dd8e-7e68-4dfb-b495-9fa0a926a933",
   "metadata": {
    "papermill": {
     "duration": 0.004375,
     "end_time": "2024-09-26T16:57:32.268896",
     "exception": false,
     "start_time": "2024-09-26T16:57:32.264521",
     "status": "completed"
    },
    "tags": []
   },
   "source": [
    "## Explore folds"
   ]
  },
  {
   "cell_type": "markdown",
   "id": "fccc5d7a-9987-474d-9c06-1e2c02996314",
   "metadata": {
    "papermill": {
     "duration": 0.003994,
     "end_time": "2024-09-26T16:57:32.276939",
     "exception": false,
     "start_time": "2024-09-26T16:57:32.272945",
     "status": "completed"
    },
    "tags": []
   },
   "source": [
    "### Just the folds that are used"
   ]
  },
  {
   "cell_type": "code",
   "execution_count": 18,
   "id": "cd043869-84a8-462c-9c01-dd75d130d520",
   "metadata": {
    "execution": {
     "iopub.execute_input": "2024-09-26T16:57:32.285721Z",
     "iopub.status.busy": "2024-09-26T16:57:32.285617Z",
     "iopub.status.idle": "2024-09-26T16:57:32.305054Z",
     "shell.execute_reply": "2024-09-26T16:57:32.304785Z"
    },
    "papermill": {
     "duration": 0.024991,
     "end_time": "2024-09-26T16:57:32.305941",
     "exception": false,
     "start_time": "2024-09-26T16:57:32.280950",
     "status": "completed"
    },
    "tags": []
   },
   "outputs": [
    {
     "data": {
      "text/html": [
       "<div>\n",
       "<style scoped>\n",
       "    .dataframe tbody tr th:only-of-type {\n",
       "        vertical-align: middle;\n",
       "    }\n",
       "\n",
       "    .dataframe tbody tr th {\n",
       "        vertical-align: top;\n",
       "    }\n",
       "\n",
       "    .dataframe thead th {\n",
       "        text-align: right;\n",
       "    }\n",
       "</style>\n",
       "<table border=\"1\" class=\"dataframe\">\n",
       "  <thead>\n",
       "    <tr style=\"text-align: right;\">\n",
       "      <th></th>\n",
       "      <th>open proposals</th>\n",
       "      <th>users in train</th>\n",
       "      <th>users in test</th>\n",
       "      <th>votes in train</th>\n",
       "      <th>votes in test</th>\n",
       "      <th>users in both</th>\n",
       "      <th>vpp test</th>\n",
       "      <th>vpv test</th>\n",
       "    </tr>\n",
       "    <tr>\n",
       "      <th>t</th>\n",
       "      <th></th>\n",
       "      <th></th>\n",
       "      <th></th>\n",
       "      <th></th>\n",
       "      <th></th>\n",
       "      <th></th>\n",
       "      <th></th>\n",
       "      <th></th>\n",
       "    </tr>\n",
       "  </thead>\n",
       "  <tbody>\n",
       "    <tr>\n",
       "      <th>2021-11-03</th>\n",
       "      <td>42</td>\n",
       "      <td>239</td>\n",
       "      <td>10</td>\n",
       "      <td>345</td>\n",
       "      <td>46</td>\n",
       "      <td>10</td>\n",
       "      <td>1.352941</td>\n",
       "      <td>4.600000</td>\n",
       "    </tr>\n",
       "    <tr>\n",
       "      <th>2021-11-05</th>\n",
       "      <td>217</td>\n",
       "      <td>448</td>\n",
       "      <td>24</td>\n",
       "      <td>903</td>\n",
       "      <td>49</td>\n",
       "      <td>24</td>\n",
       "      <td>1.750000</td>\n",
       "      <td>2.041667</td>\n",
       "    </tr>\n",
       "    <tr>\n",
       "      <th>2021-11-07</th>\n",
       "      <td>167</td>\n",
       "      <td>622</td>\n",
       "      <td>202</td>\n",
       "      <td>1320</td>\n",
       "      <td>249</td>\n",
       "      <td>202</td>\n",
       "      <td>17.785714</td>\n",
       "      <td>1.232673</td>\n",
       "    </tr>\n",
       "    <tr>\n",
       "      <th>2021-11-09</th>\n",
       "      <td>118</td>\n",
       "      <td>642</td>\n",
       "      <td>46</td>\n",
       "      <td>1512</td>\n",
       "      <td>57</td>\n",
       "      <td>46</td>\n",
       "      <td>8.142857</td>\n",
       "      <td>1.239130</td>\n",
       "    </tr>\n",
       "    <tr>\n",
       "      <th>2021-11-11</th>\n",
       "      <td>94</td>\n",
       "      <td>649</td>\n",
       "      <td>33</td>\n",
       "      <td>1533</td>\n",
       "      <td>36</td>\n",
       "      <td>33</td>\n",
       "      <td>9.000000</td>\n",
       "      <td>1.090909</td>\n",
       "    </tr>\n",
       "    <tr>\n",
       "      <th>2021-11-13</th>\n",
       "      <td>80</td>\n",
       "      <td>657</td>\n",
       "      <td>15</td>\n",
       "      <td>1552</td>\n",
       "      <td>17</td>\n",
       "      <td>15</td>\n",
       "      <td>4.250000</td>\n",
       "      <td>1.133333</td>\n",
       "    </tr>\n",
       "  </tbody>\n",
       "</table>\n",
       "</div>"
      ],
      "text/plain": [
       "            open proposals  users in train  users in test  votes in train  \\\n",
       "t                                                                           \n",
       "2021-11-03              42             239             10             345   \n",
       "2021-11-05             217             448             24             903   \n",
       "2021-11-07             167             622            202            1320   \n",
       "2021-11-09             118             642             46            1512   \n",
       "2021-11-11              94             649             33            1533   \n",
       "2021-11-13              80             657             15            1552   \n",
       "\n",
       "            votes in test  users in both   vpp test  vpv test  \n",
       "t                                                              \n",
       "2021-11-03             46             10   1.352941  4.600000  \n",
       "2021-11-05             49             24   1.750000  2.041667  \n",
       "2021-11-07            249            202  17.785714  1.232673  \n",
       "2021-11-09             57             46   8.142857  1.239130  \n",
       "2021-11-11             36             33   9.000000  1.090909  \n",
       "2021-11-13             17             15   4.250000  1.133333  "
      ]
     },
     "execution_count": 18,
     "metadata": {},
     "output_type": "execute_result"
    }
   ],
   "source": [
    "from collections import defaultdict\n",
    "\n",
    "foldsinfo = defaultdict(list)\n",
    "for f in folds:\n",
    "    # print(len(f.open_proposals), \"open proposals\")\n",
    "    foldsinfo['t'].append(f.end)\n",
    "    foldsinfo['open proposals'].append(len(f.open_proposals))\n",
    "    foldsinfo['users in train'].append(f.train['voter'].nunique())\n",
    "    foldsinfo['users in test'].append(f.test['voter'].nunique())\n",
    "    foldsinfo['votes in train'].append(len(f.train))\n",
    "    foldsinfo['votes in test'].append(len(f.test))\n",
    "    foldsinfo['users in both'].append(len(np.intersect1d(f.test['voter'].unique(), f.test['voter'].unique())))\n",
    "    # votes per proposal\n",
    "    foldsinfo['vpp test'].append(f.test.groupby('proposal').size().mean())\n",
    "    # votes per voter\n",
    "    foldsinfo['vpv test'].append(f.test.groupby('voter').size().mean())\n",
    "\n",
    "dff = pd.DataFrame(foldsinfo).set_index('t')\n",
    "paths.save_dao_datum(ORG_NAME, 'folds_avg_open_proposals', dff['open proposals'].mean())\n",
    "paths.save_dao_datum(ORG_NAME, 'folds_avg_test_votes', dff['votes in test'].mean())\n",
    "paths.save_dao_datum(ORG_NAME, 'folds_avg_test_users', dff['users in test'].mean())\n",
    "paths.save_dao_datum(ORG_NAME, 'folds_avg_test_vpp', dff['vpp test'].mean())\n",
    "paths.save_dao_datum(ORG_NAME, 'folds_avg_test_vpv', dff['vpv test'].mean())\n",
    "dff"
   ]
  },
  {
   "cell_type": "markdown",
   "id": "729479f0-153b-46ee-a4ac-fcf6a2902dbb",
   "metadata": {
    "papermill": {
     "duration": 0.00571,
     "end_time": "2024-09-26T16:57:32.318812",
     "exception": false,
     "start_time": "2024-09-26T16:57:32.313102",
     "status": "completed"
    },
    "tags": []
   },
   "source": [
    "## Histograms"
   ]
  },
  {
   "cell_type": "markdown",
   "id": "b700fb01",
   "metadata": {
    "papermill": {
     "duration": 0.004113,
     "end_time": "2024-09-26T16:57:32.326965",
     "exception": false,
     "start_time": "2024-09-26T16:57:32.322852",
     "status": "completed"
    },
    "tags": []
   },
   "source": [
    "### Votes per user"
   ]
  },
  {
   "cell_type": "code",
   "execution_count": 19,
   "id": "58c8912e",
   "metadata": {
    "execution": {
     "iopub.execute_input": "2024-09-26T16:57:32.335763Z",
     "iopub.status.busy": "2024-09-26T16:57:32.335622Z",
     "iopub.status.idle": "2024-09-26T16:57:32.553116Z",
     "shell.execute_reply": "2024-09-26T16:57:32.552643Z"
    },
    "papermill": {
     "duration": 0.222879,
     "end_time": "2024-09-26T16:57:32.553969",
     "exception": false,
     "start_time": "2024-09-26T16:57:32.331090",
     "status": "completed"
    },
    "tags": []
   },
   "outputs": [
    {
     "name": "stdout",
     "output_type": "stream",
     "text": [
      "count    1331.000000\n",
      "mean        3.118708\n",
      "std         3.938364\n",
      "min         1.000000\n",
      "10%         1.000000\n",
      "15%         1.000000\n",
      "50%         2.000000\n",
      "90%         6.000000\n",
      "95%         9.500000\n",
      "99%        20.700000\n",
      "max        43.000000\n",
      "dtype: float64\n",
      "57 voters (4.28%) have voted more than 10 times\n",
      "0 voters (0.00%) have voted more than 100 times\n"
     ]
    },
    {
     "data": {
      "application/vnd.jupyter.widget-view+json": {
       "model_id": "4a65ab1df1b44811a221b2d823a63edb",
       "version_major": 2,
       "version_minor": 0
      },
      "text/html": [
       "Cannot show widget. You probably want to rerun the code cell above (<i>Click in the code cell, and press Shift+Enter <kbd>⇧</kbd>+<kbd>↩</kbd></i>)."
      ],
      "text/plain": [
       "Cannot show ipywidgets in text"
      ]
     },
     "metadata": {},
     "output_type": "display_data"
    },
    {
     "data": {
      "image/png": "[encoded data removed]",
      "text/plain": [
       "<Figure size 350x262.5 with 1 Axes>"
      ]
     },
     "metadata": {},
     "output_type": "display_data"
    }
   ],
   "source": [
    "_toplot = dfv.groupby('voter').size()\n",
    "# _toplot = _toplot[_toplot < 40]\n",
    "print(_toplot.describe(percentiles=[.1, .15, .5, .9, .95, .99]))\n",
    "# _toplot.plot.hist(log=True)\n",
    "ax = sns.ecdfplot(_toplot, log_scale=True)\n",
    "plt.xlabel('# votes')\n",
    "plt.ylabel('% voters')\n",
    "\n",
    "_times_voted = [10, 100]\n",
    "for t in _times_voted:\n",
    "    _nusers = (_toplot > t).sum()\n",
    "    print(f\"{_nusers} voters ({_nusers/len(_toplot)*100:.2f}%) have voted more than {t} times\")\n",
    "\n",
    "ax.set_xticks([1, 5, 10, 50, 100, 500, 1000])\n",
    "# ax.xaxis.set_major_locator(mtick.MultipleLocator(10))\n",
    "ax.yaxis.set_major_formatter(ticker.PercentFormatter(1))\n",
    "\n",
    "# Updates by Javi\n",
    "plt.xlabel(\"\")\n",
    "plt.ylabel(\"\")\n",
    "\n",
    "nbutils.download_matplotlib(ax.figure, \"ecdf-vpv.pdf\")"
   ]
  },
  {
   "cell_type": "markdown",
   "id": "d11514db",
   "metadata": {
    "papermill": {
     "duration": 0.004607,
     "end_time": "2024-09-26T16:57:32.563786",
     "exception": false,
     "start_time": "2024-09-26T16:57:32.559179",
     "status": "completed"
    },
    "tags": []
   },
   "source": [
    "### Votes per proposal"
   ]
  },
  {
   "cell_type": "code",
   "execution_count": 20,
   "id": "66dba836",
   "metadata": {
    "execution": {
     "iopub.execute_input": "2024-09-26T16:57:32.572757Z",
     "iopub.status.busy": "2024-09-26T16:57:32.572655Z",
     "iopub.status.idle": "2024-09-26T16:57:32.708431Z",
     "shell.execute_reply": "2024-09-26T16:57:32.708019Z"
    },
    "papermill": {
     "duration": 0.141053,
     "end_time": "2024-09-26T16:57:32.709027",
     "exception": false,
     "start_time": "2024-09-26T16:57:32.567974",
     "status": "completed"
    },
    "tags": []
   },
   "outputs": [
    {
     "name": "stdout",
     "output_type": "stream",
     "text": [
      "count    572.000000\n",
      "mean       7.256993\n",
      "std       11.809434\n",
      "min        1.000000\n",
      "10%        1.000000\n",
      "15%        1.000000\n",
      "20%        2.000000\n",
      "25%        2.000000\n",
      "50%        3.000000\n",
      "75%        6.000000\n",
      "90%       18.000000\n",
      "95%       33.000000\n",
      "99%       61.160000\n",
      "max       82.000000\n",
      "dtype: float64\n",
      "Total votes: 4151\n",
      "91 proposals (15.91%) have more than 10 votes\n",
      "3 proposals (0.52%) have more than 72 votes\n",
      "3 proposals (0.52%) have more than 73 votes\n",
      "0 proposals (0.00%) have more than 100 votes\n"
     ]
    },
    {
     "data": {
      "application/vnd.jupyter.widget-view+json": {
       "model_id": "e6372fa0c46d42d59ebc2dfb4633ae35",
       "version_major": 2,
       "version_minor": 0
      },
      "text/html": [
       "Cannot show widget. You probably want to rerun the code cell above (<i>Click in the code cell, and press Shift+Enter <kbd>⇧</kbd>+<kbd>↩</kbd></i>)."
      ],
      "text/plain": [
       "Cannot show ipywidgets in text"
      ]
     },
     "metadata": {},
     "output_type": "display_data"
    },
    {
     "data": {
      "image/png": "[encoded data removed]",
      "text/plain": [
       "<Figure size 350x262.5 with 1 Axes>"
      ]
     },
     "metadata": {},
     "output_type": "display_data"
    }
   ],
   "source": [
    "_toplot = dfv.groupby('proposal').size()\n",
    "print(_toplot.describe(percentiles=[.1, .15, .20, .25, .5,.75,.9, .95, .99]))\n",
    "\n",
    "print(\"Total votes:\", _toplot.sum())\n",
    "_times_voted = [10, 72, 73, 100]\n",
    "for t in _times_voted:\n",
    "    _nprops = (_toplot > t).sum()\n",
    "    print(f\"{_nprops} proposals ({_nprops/len(_toplot)*100:.2f}%) have more than {t} votes\")\n",
    "\n",
    "ax = sns.ecdfplot(_toplot, log_scale=True)\n",
    "ax.set_xticks([1, 5, 10, 50, 100, 500, 1000])\n",
    "ax.yaxis.set_major_formatter(ticker.PercentFormatter(1))\n",
    "\n",
    "plt.xlabel('# votes')\n",
    "plt.ylabel('% proposals')\n",
    "\n",
    "# Updates by Javi\n",
    "plt.xlabel(\"\")\n",
    "plt.ylabel(\"\")\n",
    "\n",
    "nbutils.download_matplotlib(ax.figure, \"ecdf-vpp.pdf\")"
   ]
  }
 ],
 "metadata": {
  "kernelspec": {
   "display_name": "Python 3 (ipykernel)",
   "language": "python",
   "name": "python3"
  },
  "language_info": {
   "codemirror_mode": {
    "name": "ipython",
    "version": 3
   },
   "file_extension": ".py",
   "mimetype": "text/x-python",
   "name": "python",
   "nbconvert_exporter": "python",
   "pygments_lexer": "ipython3",
   "version": "3.11.6"
  },
  "papermill": {
   "default_parameters": {},
   "duration": 4.687615,
   "end_time": "2024-09-26T16:57:33.133514",
   "environment_variables": {},
   "exception": null,
   "input_path": "01_explore.ipynb",
   "output_path": "../nbout/HUWA-DAO/01_explore.ipynb",
   "parameters": {
    "EXECUTION_ID": "2024-09-24T10:00",
    "LAST_FOLDS": 6,
    "LAST_FOLD_DATE_STR": "2021-11-13",
    "ORG_NAME": "HUWA-DAO",
    "SPLITS_FREQ": "2d",
    "SPLITS_NORMALIZE": true
   },
   "start_time": "2024-09-26T16:57:28.445899",
   "version": "2.6.0"
  },
  "widgets": {
   "application/vnd.jupyter.widget-state+json": {
    "state": {
     "0436145f66ff4085a1e7822d28437085": {
      "model_module": "jupyter-vuetify",
      "model_module_version": "^1.9.4",
      "model_name": "VuetifyTemplateModel",
      "state": {
       "_component_instances": [],
       "_dom_classes": [],
       "_jupyter_vue": "IPY_MODEL_04757eadb07040798253497e442852f3",
       "_model_module": "jupyter-vuetify",
       "_model_module_version": "^1.9.4",
       "_model_name": "VuetifyTemplateModel",
       "_view_count": null,
       "_view_module": "jupyter-vuetify",
       "_view_module_version": "^1.9.4",
       "_view_name": "VuetifyView",
       "bytes": null,
       "children": [
        "IPY_MODEL_79b056c33c5a4d5a940cb3a52f398ef3"
       ],
       "components": null,
       "css": null,
       "data": null,
       "events": [],
       "filename": "ecdf-vpv.pdf",
       "layout": "IPY_MODEL_06c4e03af5524821b56077a79e2c4bf7",
       "methods": null,
       "mime_type": "application/octet-stream",
       "request_download": false,
       "tabbable": null,
       "template": "IPY_MODEL_9cb74dd47fbf43ce9b981c4d132c0df7",
       "tooltip": null
      }
     },
     "04639cb313034b81b03b5ae4df25789f": {
      "model_module": "jupyter-vuetify",
      "model_module_version": "^1.9.4",
      "model_name": "HtmlModel",
      "state": {
       "_dom_classes": [],
       "_events": [],
       "_jupyter_vue": "IPY_MODEL_04757eadb07040798253497e442852f3",
       "_model_module": "jupyter-vuetify",
       "_model_module_version": "^1.9.4",
       "_model_name": "HtmlModel",
       "_view_count": null,
       "_view_module": "jupyter-vuetify",
       "_view_module_version": "^1.9.4",
       "_view_name": "VuetifyView",
       "attributes": {},
       "children": [
        "IPY_MODEL_e9aae0e4c828478a87ce770ed1c3c6b4"
       ],
       "class_": null,
       "layout": null,
       "slot": null,
       "style_": null,
       "tabbable": null,
       "tag": "div",
       "tooltip": null,
       "v_model": "!!disabled!!",
       "v_on": null,
       "v_slots": []
      }
     },
     "04757eadb07040798253497e442852f3": {
      "model_module": "jupyter-vue",
      "model_module_version": "^1.11.1",
      "model_name": "ForceLoadModel",
      "state": {
       "_dom_classes": [],
       "_model_module": "jupyter-vue",
       "_model_module_version": "^1.11.1",
       "_model_name": "ForceLoadModel",
       "_view_count": null,
       "_view_module": null,
       "_view_module_version": "",
       "_view_name": null,
       "layout": "IPY_MODEL_5f23a614fdf54c10838f5551f09128e1",
       "tabbable": null,
       "tooltip": null
      }
     },
     "06c4e03af5524821b56077a79e2c4bf7": {
      "model_module": "@jupyter-widgets/base",
      "model_module_version": "2.0.0",
      "model_name": "LayoutModel",
      "state": {
       "_model_module": "@jupyter-widgets/base",
       "_model_module_version": "2.0.0",
       "_model_name": "LayoutModel",
       "_view_count": null,
       "_view_module": "@jupyter-widgets/base",
       "_view_module_version": "2.0.0",
       "_view_name": "LayoutView",
       "align_content": null,
       "align_items": null,
       "align_self": null,
       "border_bottom": null,
       "border_left": null,
       "border_right": null,
       "border_top": null,
       "bottom": null,
       "display": null,
       "flex": null,
       "flex_flow": null,
       "grid_area": null,
       "grid_auto_columns": null,
       "grid_auto_flow": null,
       "grid_auto_rows": null,
       "grid_column": null,
       "grid_gap": null,
       "grid_row": null,
       "grid_template_areas": null,
       "grid_template_columns": null,
       "grid_template_rows": null,
       "height": null,
       "justify_content": null,
       "justify_items": null,
       "left": null,
       "margin": null,
       "max_height": null,
       "max_width": null,
       "min_height": null,
       "min_width": null,
       "object_fit": null,
       "object_position": null,
       "order": null,
       "overflow": null,
       "padding": null,
       "right": null,
       "top": null,
       "visibility": null,
       "width": null
      }
     },
     "0f91eaa4cddc45c29285d0037afd0b50": {
      "model_module": "jupyter-vuetify",
      "model_module_version": "^1.8.5",
      "model_name": "ColModel",
      "state": {
       "_dom_classes": [],
       "_events": [],
       "_jupyter_vue": "IPY_MODEL_04757eadb07040798253497e442852f3",
       "_metadata": null,
       "_model_module": "jupyter-vuetify",
       "_model_module_version": "^1.8.5",
       "_model_name": "ColModel",
       "_view_count": null,
       "_view_module": "jupyter-vuetify",
       "_view_module_version": "^1.8.5",
       "_view_name": "VuetifyView",
       "align_self": null,
       "attributes": {},
       "children": [
        "IPY_MODEL_d90271c3029a40679f8da114bf57f645"
       ],
       "class_": null,
       "cols": 12.0,
       "layout": null,
       "lg": null,
       "md": null,
       "offset": null,
       "offset_lg": null,
       "offset_md": null,
       "offset_sm": null,
       "offset_xl": null,
       "order": null,
       "order_lg": null,
       "order_md": null,
       "order_sm": null,
       "order_xl": null,
       "slot": null,
       "sm": null,
       "style_": null,
       "tabbable": null,
       "tag": null,
       "tooltip": null,
       "v_model": "!!disabled!!",
       "v_on": null,
       "v_slots": [],
       "xl": null
      }
     },
     "140ec591045048c7bffe7f919046ba7b": {
      "model_module": "jupyter-vuetify",
      "model_module_version": "^1.8.5",
      "model_name": "ColModel",
      "state": {
       "_dom_classes": [],
       "_events": [],
       "_jupyter_vue": "IPY_MODEL_04757eadb07040798253497e442852f3",
       "_metadata": null,
       "_model_module": "jupyter-vuetify",
       "_model_module_version": "^1.8.5",
       "_model_name": "ColModel",
       "_view_count": null,
       "_view_module": "jupyter-vuetify",
       "_view_module_version": "^1.8.5",
       "_view_name": "VuetifyView",
       "align_self": null,
       "attributes": {},
       "children": [
        "IPY_MODEL_0436145f66ff4085a1e7822d28437085"
       ],
       "class_": null,
       "cols": 12.0,
       "layout": null,
       "lg": null,
       "md": null,
       "offset": null,
       "offset_lg": null,
       "offset_md": null,
       "offset_sm": null,
       "offset_xl": null,
       "order": null,
       "order_lg": null,
       "order_md": null,
       "order_sm": null,
       "order_xl": null,
       "slot": null,
       "sm": null,
       "style_": null,
       "tabbable": null,
       "tag": null,
       "tooltip": null,
       "v_model": "!!disabled!!",
       "v_on": null,
       "v_slots": [],
       "xl": null
      }
     },
     "16688edc42fc4369b76d7fdfee345c1c": {
      "model_module": "jupyter-vuetify",
      "model_module_version": "^1.8.5",
      "model_name": "RowModel",
      "state": {
       "_dom_classes": [],
       "_events": [],
       "_jupyter_vue": "IPY_MODEL_04757eadb07040798253497e442852f3",
       "_metadata": null,
       "_model_module": "jupyter-vuetify",
       "_model_module_version": "^1.8.5",
       "_model_name": "RowModel",
       "_view_count": null,
       "_view_module": "jupyter-vuetify",
       "_view_module_version": "^1.8.5",
       "_view_name": "VuetifyView",
       "align": null,
       "align_content": null,
       "align_content_lg": null,
       "align_content_md": null,
       "align_content_sm": null,
       "align_content_xl": null,
       "align_lg": null,
       "align_md": null,
       "align_sm": null,
       "align_xl": null,
       "attributes": {},
       "children": [
        "IPY_MODEL_140ec591045048c7bffe7f919046ba7b"
       ],
       "class_": "solara-content-main",
       "dense": null,
       "justify": null,
       "justify_lg": null,
       "justify_md": null,
       "justify_sm": null,
       "justify_xl": null,
       "layout": null,
       "no_gutters": false,
       "slot": null,
       "style_": null,
       "tabbable": null,
       "tag": null,
       "tooltip": null,
       "v_model": "!!disabled!!",
       "v_on": null,
       "v_slots": []
      }
     },
     "189f0b5d8e8b4dd2a97eca602a0d3cd9": {
      "model_module": "jupyter-vuetify",
      "model_module_version": "^1.9.4",
      "model_name": "ThemeModel",
      "state": {
       "_model_module": "jupyter-vuetify",
       "_model_module_version": "^1.9.4",
       "_model_name": "ThemeModel",
       "_view_count": null,
       "_view_module": null,
       "_view_module_version": "^1.9.4",
       "_view_name": null,
       "dark": null,
       "dark_effective": null
      }
     },
     "2bf409a2056f4f6aa562c8783cd4d26d": {
      "model_module": "jupyter-vuetify",
      "model_module_version": "^1.8.5",
      "model_name": "RowModel",
      "state": {
       "_dom_classes": [],
       "_events": [],
       "_jupyter_vue": "IPY_MODEL_04757eadb07040798253497e442852f3",
       "_metadata": null,
       "_model_module": "jupyter-vuetify",
       "_model_module_version": "^1.8.5",
       "_model_name": "RowModel",
       "_view_count": null,
       "_view_module": "jupyter-vuetify",
       "_view_module_version": "^1.8.5",
       "_view_name": "VuetifyView",
       "align": null,
       "align_content": null,
       "align_content_lg": null,
       "align_content_md": null,
       "align_content_sm": null,
       "align_content_xl": null,
       "align_lg": null,
       "align_md": null,
       "align_sm": null,
       "align_xl": null,
       "attributes": {},
       "children": [
        "IPY_MODEL_58514feaa8ba414d92cdf440116452c3"
       ],
       "class_": "solara-content-main",
       "dense": null,
       "justify": null,
       "justify_lg": null,
       "justify_md": null,
       "justify_sm": null,
       "justify_xl": null,
       "layout": null,
       "no_gutters": false,
       "slot": null,
       "style_": null,
       "tabbable": null,
       "tag": null,
       "tooltip": null,
       "v_model": "!!disabled!!",
       "v_on": null,
       "v_slots": []
      }
     },
     "385542aee3d74e2caa1c2262afb926fe": {
      "model_module": "@jupyter-widgets/base",
      "model_module_version": "2.0.0",
      "model_name": "LayoutModel",
      "state": {
       "_model_module": "@jupyter-widgets/base",
       "_model_module_version": "2.0.0",
       "_model_name": "LayoutModel",
       "_view_count": null,
       "_view_module": "@jupyter-widgets/base",
       "_view_module_version": "2.0.0",
       "_view_name": "LayoutView",
       "align_content": null,
       "align_items": null,
       "align_self": null,
       "border_bottom": null,
       "border_left": null,
       "border_right": null,
       "border_top": null,
       "bottom": null,
       "display": null,
       "flex": null,
       "flex_flow": null,
       "grid_area": null,
       "grid_auto_columns": null,
       "grid_auto_flow": null,
       "grid_auto_rows": null,
       "grid_column": null,
       "grid_gap": null,
       "grid_row": null,
       "grid_template_areas": null,
       "grid_template_columns": null,
       "grid_template_rows": null,
       "height": null,
       "justify_content": null,
       "justify_items": null,
       "left": null,
       "margin": null,
       "max_height": null,
       "max_width": null,
       "min_height": null,
       "min_width": null,
       "object_fit": null,
       "object_position": null,
       "order": null,
       "overflow": null,
       "padding": null,
       "right": null,
       "top": null,
       "visibility": null,
       "width": null
      }
     },
     "38e6be331d7c4ac5880475f734ab64e6": {
      "model_module": "@jupyter-widgets/base",
      "model_module_version": "2.0.0",
      "model_name": "LayoutModel",
      "state": {
       "_model_module": "@jupyter-widgets/base",
       "_model_module_version": "2.0.0",
       "_model_name": "LayoutModel",
       "_view_count": null,
       "_view_module": "@jupyter-widgets/base",
       "_view_module_version": "2.0.0",
       "_view_name": "LayoutView",
       "align_content": null,
       "align_items": null,
       "align_self": null,
       "border_bottom": null,
       "border_left": null,
       "border_right": null,
       "border_top": null,
       "bottom": null,
       "display": null,
       "flex": null,
       "flex_flow": null,
       "grid_area": null,
       "grid_auto_columns": null,
       "grid_auto_flow": null,
       "grid_auto_rows": null,
       "grid_column": null,
       "grid_gap": null,
       "grid_row": null,
       "grid_template_areas": null,
       "grid_template_columns": null,
       "grid_template_rows": null,
       "height": null,
       "justify_content": null,
       "justify_items": null,
       "left": null,
       "margin": null,
       "max_height": null,
       "max_width": null,
       "min_height": null,
       "min_width": null,
       "object_fit": null,
       "object_position": null,
       "order": null,
       "overflow": null,
       "padding": null,
       "right": null,
       "top": null,
       "visibility": null,
       "width": null
      }
     },
     "3ab0323362d74ea4a8f458e38e7d545e": {
      "model_module": "jupyter-vuetify",
      "model_module_version": "^1.9.4",
      "model_name": "HtmlModel",
      "state": {
       "_dom_classes": [],
       "_events": [],
       "_jupyter_vue": "IPY_MODEL_04757eadb07040798253497e442852f3",
       "_model_module": "jupyter-vuetify",
       "_model_module_version": "^1.9.4",
       "_model_name": "HtmlModel",
       "_view_count": null,
       "_view_module": "jupyter-vuetify",
       "_view_module_version": "^1.9.4",
       "_view_name": "VuetifyView",
       "attributes": {},
       "children": [
        "IPY_MODEL_6912aacb0bf2445786a8ee9182846126"
       ],
       "class_": null,
       "layout": null,
       "slot": null,
       "style_": null,
       "tabbable": null,
       "tag": "div",
       "tooltip": null,
       "v_model": "!!disabled!!",
       "v_on": null,
       "v_slots": []
      }
     },
     "3db4adbd73624daf83870c9b8088b4f4": {
      "model_module": "@jupyter-widgets/base",
      "model_module_version": "2.0.0",
      "model_name": "LayoutModel",
      "state": {
       "_model_module": "@jupyter-widgets/base",
       "_model_module_version": "2.0.0",
       "_model_name": "LayoutModel",
       "_view_count": null,
       "_view_module": "@jupyter-widgets/base",
       "_view_module_version": "2.0.0",
       "_view_name": "LayoutView",
       "align_content": null,
       "align_items": null,
       "align_self": null,
       "border_bottom": null,
       "border_left": null,
       "border_right": null,
       "border_top": null,
       "bottom": null,
       "display": null,
       "flex": null,
       "flex_flow": null,
       "grid_area": null,
       "grid_auto_columns": null,
       "grid_auto_flow": null,
       "grid_auto_rows": null,
       "grid_column": null,
       "grid_gap": null,
       "grid_row": null,
       "grid_template_areas": null,
       "grid_template_columns": null,
       "grid_template_rows": null,
       "height": null,
       "justify_content": null,
       "justify_items": null,
       "left": null,
       "margin": null,
       "max_height": null,
       "max_width": null,
       "min_height": null,
       "min_width": null,
       "object_fit": null,
       "object_position": null,
       "order": null,
       "overflow": null,
       "padding": null,
       "right": null,
       "top": null,
       "visibility": null,
       "width": null
      }
     },
     "41972c97ce66413b96e822e569f796f3": {
      "model_module": "jupyter-vuetify",
      "model_module_version": "^1.9.4",
      "model_name": "HtmlModel",
      "state": {
       "_dom_classes": [],
       "_events": [],
       "_jupyter_vue": "IPY_MODEL_04757eadb07040798253497e442852f3",
       "_model_module": "jupyter-vuetify",
       "_model_module_version": "^1.9.4",
       "_model_name": "HtmlModel",
       "_view_count": null,
       "_view_module": "jupyter-vuetify",
       "_view_module_version": "^1.9.4",
       "_view_name": "VuetifyView",
       "attributes": {},
       "children": [
        "IPY_MODEL_cd80d43832c7430b81bfa66a029a6106"
       ],
       "class_": null,
       "layout": null,
       "slot": null,
       "style_": null,
       "tabbable": null,
       "tag": "div",
       "tooltip": null,
       "v_model": "!!disabled!!",
       "v_on": null,
       "v_slots": []
      }
     },
     "491994a3e5ad4ae384ed2e9554bea468": {
      "model_module": "jupyter-vuetify",
      "model_module_version": "^1.8.5",
      "model_name": "BtnModel",
      "state": {
       "_dom_classes": [],
       "_events": [
        "click"
       ],
       "_jupyter_vue": "IPY_MODEL_04757eadb07040798253497e442852f3",
       "_metadata": null,
       "_model_module": "jupyter-vuetify",
       "_model_module_version": "^1.8.5",
       "_model_name": "BtnModel",
       "_view_count": null,
       "_view_module": "jupyter-vuetify",
       "_view_module_version": "^1.8.5",
       "_view_name": "VuetifyView",
       "absolute": null,
       "active_class": null,
       "append": null,
       "attributes": {},
       "block": null,
       "bottom": null,
       "children": [
        "IPY_MODEL_661e73b8144c40ceae32b4521092d82a",
        "Download: votes_dow.pdf"
       ],
       "class_": "",
       "color": null,
       "dark": null,
       "depressed": null,
       "disabled": false,
       "elevation": null,
       "exact": null,
       "exact_active_class": null,
       "fab": null,
       "fixed": null,
       "height": null,
       "href": null,
       "icon": null,
       "input_value": null,
       "large": null,
       "layout": null,
       "left": null,
       "light": null,
       "link": null,
       "loading": false,
       "max_height": null,
       "max_width": null,
       "min_height": null,
       "min_width": null,
       "nuxt": null,
       "outlined": false,
       "replace": null,
       "retain_focus_on_click": null,
       "right": null,
       "ripple": null,
       "rounded": null,
       "slot": null,
       "small": null,
       "style_": "",
       "tabbable": null,
       "tag": null,
       "target": null,
       "text": false,
       "tile": null,
       "to": null,
       "tooltip": null,
       "top": null,
       "type": null,
       "v_model": "!!disabled!!",
       "v_on": null,
       "v_slots": [],
       "value": null,
       "width": null,
       "x_large": null,
       "x_small": null
      }
     },
     "4a65ab1df1b44811a221b2d823a63edb": {
      "model_module": "@jupyter-widgets/controls",
      "model_module_version": "2.0.0",
      "model_name": "VBoxModel",
      "state": {
       "_dom_classes": [],
       "_model_module": "@jupyter-widgets/controls",
       "_model_module_version": "2.0.0",
       "_model_name": "VBoxModel",
       "_view_count": 0,
       "_view_module": "@jupyter-widgets/controls",
       "_view_module_version": "2.0.0",
       "_view_name": "VBoxView",
       "box_style": "",
       "children": [
        "IPY_MODEL_e6fa2142c16c4b039f825fff131b5cf2"
       ],
       "layout": "IPY_MODEL_d562e52f105d49e1a82308279c1768f6",
       "tabbable": null,
       "tooltip": null
      }
     },
     "4b5217415f86408ca52a69824f24f922": {
      "model_module": "@jupyter-widgets/controls",
      "model_module_version": "2.0.0",
      "model_name": "VBoxModel",
      "state": {
       "_dom_classes": [],
       "_model_module": "@jupyter-widgets/controls",
       "_model_module_version": "2.0.0",
       "_model_name": "VBoxModel",
       "_view_count": 0,
       "_view_module": "@jupyter-widgets/controls",
       "_view_module_version": "2.0.0",
       "_view_name": "VBoxView",
       "box_style": "",
       "children": [
        "IPY_MODEL_dc791d9faa9b4617af5b31f5089ba176"
       ],
       "layout": "IPY_MODEL_c9cbfc8f5bcb44298e9c3a7de793138c",
       "tabbable": null,
       "tooltip": null
      }
     },
     "5540366406434f7f94fe6a590e138086": {
      "model_module": "jupyter-vuetify",
      "model_module_version": "^1.9.4",
      "model_name": "VuetifyTemplateModel",
      "state": {
       "_component_instances": [],
       "_dom_classes": [],
       "_jupyter_vue": "IPY_MODEL_04757eadb07040798253497e442852f3",
       "_model_module": "jupyter-vuetify",
       "_model_module_version": "^1.9.4",
       "_model_name": "VuetifyTemplateModel",
       "_view_count": null,
       "_view_module": "jupyter-vuetify",
       "_view_module_version": "^1.9.4",
       "_view_name": "VuetifyView",
       "bytes": null,
       "children": [
        "IPY_MODEL_6dec7f01c9b34d9582b3fb6fa08302b2"
       ],
       "components": null,
       "css": null,
       "data": null,
       "events": [],
       "filename": "ecdf-vpp.pdf",
       "layout": "IPY_MODEL_3db4adbd73624daf83870c9b8088b4f4",
       "methods": null,
       "mime_type": "application/octet-stream",
       "request_download": false,
       "tabbable": null,
       "template": "IPY_MODEL_9cb74dd47fbf43ce9b981c4d132c0df7",
       "tooltip": null
      }
     },
     "5726473c8b2e4ca8863fe12c45263536": {
      "model_module": "@jupyter-widgets/base",
      "model_module_version": "2.0.0",
      "model_name": "LayoutModel",
      "state": {
       "_model_module": "@jupyter-widgets/base",
       "_model_module_version": "2.0.0",
       "_model_name": "LayoutModel",
       "_view_count": null,
       "_view_module": "@jupyter-widgets/base",
       "_view_module_version": "2.0.0",
       "_view_name": "LayoutView",
       "align_content": null,
       "align_items": null,
       "align_self": null,
       "border_bottom": null,
       "border_left": null,
       "border_right": null,
       "border_top": null,
       "bottom": null,
       "display": null,
       "flex": null,
       "flex_flow": null,
       "grid_area": null,
       "grid_auto_columns": null,
       "grid_auto_flow": null,
       "grid_auto_rows": null,
       "grid_column": null,
       "grid_gap": null,
       "grid_row": null,
       "grid_template_areas": null,
       "grid_template_columns": null,
       "grid_template_rows": null,
       "height": null,
       "justify_content": null,
       "justify_items": null,
       "left": null,
       "margin": null,
       "max_height": null,
       "max_width": null,
       "min_height": null,
       "min_width": null,
       "object_fit": null,
       "object_position": null,
       "order": null,
       "overflow": null,
       "padding": null,
       "right": null,
       "top": null,
       "visibility": null,
       "width": null
      }
     },
     "58514feaa8ba414d92cdf440116452c3": {
      "model_module": "jupyter-vuetify",
      "model_module_version": "^1.8.5",
      "model_name": "ColModel",
      "state": {
       "_dom_classes": [],
       "_events": [],
       "_jupyter_vue": "IPY_MODEL_04757eadb07040798253497e442852f3",
       "_metadata": null,
       "_model_module": "jupyter-vuetify",
       "_model_module_version": "^1.8.5",
       "_model_name": "ColModel",
       "_view_count": null,
       "_view_module": "jupyter-vuetify",
       "_view_module_version": "^1.8.5",
       "_view_name": "VuetifyView",
       "align_self": null,
       "attributes": {},
       "children": [
        "IPY_MODEL_cb05ad69f0e34ef4b72dd0f7aba368b3"
       ],
       "class_": null,
       "cols": 12.0,
       "layout": null,
       "lg": null,
       "md": null,
       "offset": null,
       "offset_lg": null,
       "offset_md": null,
       "offset_sm": null,
       "offset_xl": null,
       "order": null,
       "order_lg": null,
       "order_md": null,
       "order_sm": null,
       "order_xl": null,
       "slot": null,
       "sm": null,
       "style_": null,
       "tabbable": null,
       "tag": null,
       "tooltip": null,
       "v_model": "!!disabled!!",
       "v_on": null,
       "v_slots": [],
       "xl": null
      }
     },
     "5f23a614fdf54c10838f5551f09128e1": {
      "model_module": "@jupyter-widgets/base",
      "model_module_version": "2.0.0",
      "model_name": "LayoutModel",
      "state": {
       "_model_module": "@jupyter-widgets/base",
       "_model_module_version": "2.0.0",
       "_model_name": "LayoutModel",
       "_view_count": null,
       "_view_module": "@jupyter-widgets/base",
       "_view_module_version": "2.0.0",
       "_view_name": "LayoutView",
       "align_content": null,
       "align_items": null,
       "align_self": null,
       "border_bottom": null,
       "border_left": null,
       "border_right": null,
       "border_top": null,
       "bottom": null,
       "display": null,
       "flex": null,
       "flex_flow": null,
       "grid_area": null,
       "grid_auto_columns": null,
       "grid_auto_flow": null,
       "grid_auto_rows": null,
       "grid_column": null,
       "grid_gap": null,
       "grid_row": null,
       "grid_template_areas": null,
       "grid_template_columns": null,
       "grid_template_rows": null,
       "height": null,
       "justify_content": null,
       "justify_items": null,
       "left": null,
       "margin": null,
       "max_height": null,
       "max_width": null,
       "min_height": null,
       "min_width": null,
       "object_fit": null,
       "object_position": null,
       "order": null,
       "overflow": null,
       "padding": null,
       "right": null,
       "top": null,
       "visibility": null,
       "width": null
      }
     },
     "661e73b8144c40ceae32b4521092d82a": {
      "model_module": "jupyter-vuetify",
      "model_module_version": "^1.8.5",
      "model_name": "IconModel",
      "state": {
       "_dom_classes": [],
       "_events": [],
       "_jupyter_vue": "IPY_MODEL_04757eadb07040798253497e442852f3",
       "_metadata": null,
       "_model_module": "jupyter-vuetify",
       "_model_module_version": "^1.8.5",
       "_model_name": "IconModel",
       "_view_count": null,
       "_view_module": "jupyter-vuetify",
       "_view_module_version": "^1.8.5",
       "_view_name": "VuetifyView",
       "attributes": {},
       "children": [
        "mdi-cloud-download-outline"
       ],
       "class_": null,
       "color": null,
       "dark": null,
       "dense": null,
       "disabled": null,
       "large": null,
       "layout": null,
       "left": true,
       "light": null,
       "right": null,
       "size": null,
       "slot": null,
       "small": null,
       "style_": null,
       "tabbable": null,
       "tag": null,
       "tooltip": null,
       "v_model": "!!disabled!!",
       "v_on": null,
       "v_slots": [],
       "x_large": null,
       "x_small": null
      }
     },
     "6753eed001c440e7b48de25197ee1e35": {
      "model_module": "jupyter-vuetify",
      "model_module_version": "^1.8.5",
      "model_name": "ColModel",
      "state": {
       "_dom_classes": [],
       "_events": [],
       "_jupyter_vue": "IPY_MODEL_04757eadb07040798253497e442852f3",
       "_metadata": null,
       "_model_module": "jupyter-vuetify",
       "_model_module_version": "^1.8.5",
       "_model_name": "ColModel",
       "_view_count": null,
       "_view_module": "jupyter-vuetify",
       "_view_module_version": "^1.8.5",
       "_view_name": "VuetifyView",
       "align_self": null,
       "attributes": {},
       "children": [
        "IPY_MODEL_5540366406434f7f94fe6a590e138086"
       ],
       "class_": null,
       "cols": 12.0,
       "layout": null,
       "lg": null,
       "md": null,
       "offset": null,
       "offset_lg": null,
       "offset_md": null,
       "offset_sm": null,
       "offset_xl": null,
       "order": null,
       "order_lg": null,
       "order_md": null,
       "order_sm": null,
       "order_xl": null,
       "slot": null,
       "sm": null,
       "style_": null,
       "tabbable": null,
       "tag": null,
       "tooltip": null,
       "v_model": "!!disabled!!",
       "v_on": null,
       "v_slots": [],
       "xl": null
      }
     },
     "6912aacb0bf2445786a8ee9182846126": {
      "model_module": "jupyter-vuetify",
      "model_module_version": "^1.8.5",
      "model_name": "RowModel",
      "state": {
       "_dom_classes": [],
       "_events": [],
       "_jupyter_vue": "IPY_MODEL_04757eadb07040798253497e442852f3",
       "_metadata": null,
       "_model_module": "jupyter-vuetify",
       "_model_module_version": "^1.8.5",
       "_model_name": "RowModel",
       "_view_count": null,
       "_view_module": "jupyter-vuetify",
       "_view_module_version": "^1.8.5",
       "_view_name": "VuetifyView",
       "align": null,
       "align_content": null,
       "align_content_lg": null,
       "align_content_md": null,
       "align_content_sm": null,
       "align_content_xl": null,
       "align_lg": null,
       "align_md": null,
       "align_sm": null,
       "align_xl": null,
       "attributes": {},
       "children": [
        "IPY_MODEL_82a76de29f0a49dcac614eb2798f949c"
       ],
       "class_": "solara-content-main",
       "dense": null,
       "justify": null,
       "justify_lg": null,
       "justify_md": null,
       "justify_sm": null,
       "justify_xl": null,
       "layout": null,
       "no_gutters": false,
       "slot": null,
       "style_": null,
       "tabbable": null,
       "tag": null,
       "tooltip": null,
       "v_model": "!!disabled!!",
       "v_on": null,
       "v_slots": []
      }
     },
     "6dec7f01c9b34d9582b3fb6fa08302b2": {
      "model_module": "jupyter-vuetify",
      "model_module_version": "^1.8.5",
      "model_name": "BtnModel",
      "state": {
       "_dom_classes": [],
       "_events": [
        "click"
       ],
       "_jupyter_vue": "IPY_MODEL_04757eadb07040798253497e442852f3",
       "_metadata": null,
       "_model_module": "jupyter-vuetify",
       "_model_module_version": "^1.8.5",
       "_model_name": "BtnModel",
       "_view_count": null,
       "_view_module": "jupyter-vuetify",
       "_view_module_version": "^1.8.5",
       "_view_name": "VuetifyView",
       "absolute": null,
       "active_class": null,
       "append": null,
       "attributes": {},
       "block": null,
       "bottom": null,
       "children": [
        "IPY_MODEL_f640777a62ac4906b9a60682dbfae7ee",
        "Download: ecdf-vpp.pdf"
       ],
       "class_": "",
       "color": null,
       "dark": null,
       "depressed": null,
       "disabled": false,
       "elevation": null,
       "exact": null,
       "exact_active_class": null,
       "fab": null,
       "fixed": null,
       "height": null,
       "href": null,
       "icon": null,
       "input_value": null,
       "large": null,
       "layout": null,
       "left": null,
       "light": null,
       "link": null,
       "loading": false,
       "max_height": null,
       "max_width": null,
       "min_height": null,
       "min_width": null,
       "nuxt": null,
       "outlined": false,
       "replace": null,
       "retain_focus_on_click": null,
       "right": null,
       "ripple": null,
       "rounded": null,
       "slot": null,
       "small": null,
       "style_": "",
       "tabbable": null,
       "tag": null,
       "target": null,
       "text": false,
       "tile": null,
       "to": null,
       "tooltip": null,
       "top": null,
       "type": null,
       "v_model": "!!disabled!!",
       "v_on": null,
       "v_slots": [],
       "value": null,
       "width": null,
       "x_large": null,
       "x_small": null
      }
     },
     "73e14e4c429a4e6fa88b989692da5a3d": {
      "model_module": "@jupyter-widgets/controls",
      "model_module_version": "2.0.0",
      "model_name": "VBoxModel",
      "state": {
       "_dom_classes": [],
       "_model_module": "@jupyter-widgets/controls",
       "_model_module_version": "2.0.0",
       "_model_name": "VBoxModel",
       "_view_count": 0,
       "_view_module": "@jupyter-widgets/controls",
       "_view_module_version": "2.0.0",
       "_view_name": "VBoxView",
       "box_style": "",
       "children": [
        "IPY_MODEL_3ab0323362d74ea4a8f458e38e7d545e"
       ],
       "layout": "IPY_MODEL_5726473c8b2e4ca8863fe12c45263536",
       "tabbable": null,
       "tooltip": null
      }
     },
     "79b056c33c5a4d5a940cb3a52f398ef3": {
      "model_module": "jupyter-vuetify",
      "model_module_version": "^1.8.5",
      "model_name": "BtnModel",
      "state": {
       "_dom_classes": [],
       "_events": [
        "click"
       ],
       "_jupyter_vue": "IPY_MODEL_04757eadb07040798253497e442852f3",
       "_metadata": null,
       "_model_module": "jupyter-vuetify",
       "_model_module_version": "^1.8.5",
       "_model_name": "BtnModel",
       "_view_count": null,
       "_view_module": "jupyter-vuetify",
       "_view_module_version": "^1.8.5",
       "_view_name": "VuetifyView",
       "absolute": null,
       "active_class": null,
       "append": null,
       "attributes": {},
       "block": null,
       "bottom": null,
       "children": [
        "IPY_MODEL_bb736d9606664a74b1ff30f1e0299f0c",
        "Download: ecdf-vpv.pdf"
       ],
       "class_": "",
       "color": null,
       "dark": null,
       "depressed": null,
       "disabled": false,
       "elevation": null,
       "exact": null,
       "exact_active_class": null,
       "fab": null,
       "fixed": null,
       "height": null,
       "href": null,
       "icon": null,
       "input_value": null,
       "large": null,
       "layout": null,
       "left": null,
       "light": null,
       "link": null,
       "loading": false,
       "max_height": null,
       "max_width": null,
       "min_height": null,
       "min_width": null,
       "nuxt": null,
       "outlined": false,
       "replace": null,
       "retain_focus_on_click": null,
       "right": null,
       "ripple": null,
       "rounded": null,
       "slot": null,
       "small": null,
       "style_": "",
       "tabbable": null,
       "tag": null,
       "target": null,
       "text": false,
       "tile": null,
       "to": null,
       "tooltip": null,
       "top": null,
       "type": null,
       "v_model": "!!disabled!!",
       "v_on": null,
       "v_slots": [],
       "value": null,
       "width": null,
       "x_large": null,
       "x_small": null
      }
     },
     "82a76de29f0a49dcac614eb2798f949c": {
      "model_module": "jupyter-vuetify",
      "model_module_version": "^1.8.5",
      "model_name": "ColModel",
      "state": {
       "_dom_classes": [],
       "_events": [],
       "_jupyter_vue": "IPY_MODEL_04757eadb07040798253497e442852f3",
       "_metadata": null,
       "_model_module": "jupyter-vuetify",
       "_model_module_version": "^1.8.5",
       "_model_name": "ColModel",
       "_view_count": null,
       "_view_module": "jupyter-vuetify",
       "_view_module_version": "^1.8.5",
       "_view_name": "VuetifyView",
       "align_self": null,
       "attributes": {},
       "children": [
        "IPY_MODEL_c5f53a577a224de6a4081f906dd29a32"
       ],
       "class_": null,
       "cols": 12.0,
       "layout": null,
       "lg": null,
       "md": null,
       "offset": null,
       "offset_lg": null,
       "offset_md": null,
       "offset_sm": null,
       "offset_xl": null,
       "order": null,
       "order_lg": null,
       "order_md": null,
       "order_sm": null,
       "order_xl": null,
       "slot": null,
       "sm": null,
       "style_": null,
       "tabbable": null,
       "tag": null,
       "tooltip": null,
       "v_model": "!!disabled!!",
       "v_on": null,
       "v_slots": [],
       "xl": null
      }
     },
     "8ea07a5ba6734300860bc85f87f054d7": {
      "model_module": "@jupyter-widgets/base",
      "model_module_version": "2.0.0",
      "model_name": "LayoutModel",
      "state": {
       "_model_module": "@jupyter-widgets/base",
       "_model_module_version": "2.0.0",
       "_model_name": "LayoutModel",
       "_view_count": null,
       "_view_module": "@jupyter-widgets/base",
       "_view_module_version": "2.0.0",
       "_view_name": "LayoutView",
       "align_content": null,
       "align_items": null,
       "align_self": null,
       "border_bottom": null,
       "border_left": null,
       "border_right": null,
       "border_top": null,
       "bottom": null,
       "display": null,
       "flex": null,
       "flex_flow": null,
       "grid_area": null,
       "grid_auto_columns": null,
       "grid_auto_flow": null,
       "grid_auto_rows": null,
       "grid_column": null,
       "grid_gap": null,
       "grid_row": null,
       "grid_template_areas": null,
       "grid_template_columns": null,
       "grid_template_rows": null,
       "height": null,
       "justify_content": null,
       "justify_items": null,
       "left": null,
       "margin": null,
       "max_height": null,
       "max_width": null,
       "min_height": null,
       "min_width": null,
       "object_fit": null,
       "object_position": null,
       "order": null,
       "overflow": null,
       "padding": null,
       "right": null,
       "top": null,
       "visibility": null,
       "width": null
      }
     },
     "901f6971cd8d4fd2910be8015c1764cc": {
      "model_module": "jupyter-vuetify",
      "model_module_version": "^1.8.5",
      "model_name": "IconModel",
      "state": {
       "_dom_classes": [],
       "_events": [],
       "_jupyter_vue": "IPY_MODEL_04757eadb07040798253497e442852f3",
       "_metadata": null,
       "_model_module": "jupyter-vuetify",
       "_model_module_version": "^1.8.5",
       "_model_name": "IconModel",
       "_view_count": null,
       "_view_module": "jupyter-vuetify",
       "_view_module_version": "^1.8.5",
       "_view_name": "VuetifyView",
       "attributes": {},
       "children": [
        "mdi-cloud-download-outline"
       ],
       "class_": null,
       "color": null,
       "dark": null,
       "dense": null,
       "disabled": null,
       "large": null,
       "layout": null,
       "left": true,
       "light": null,
       "right": null,
       "size": null,
       "slot": null,
       "small": null,
       "style_": null,
       "tabbable": null,
       "tag": null,
       "tooltip": null,
       "v_model": "!!disabled!!",
       "v_on": null,
       "v_slots": [],
       "x_large": null,
       "x_small": null
      }
     },
     "957ff7dcfefa40619233f4bda42c7972": {
      "model_module": "jupyter-vuetify",
      "model_module_version": "^1.8.5",
      "model_name": "BtnModel",
      "state": {
       "_dom_classes": [],
       "_events": [
        "click"
       ],
       "_jupyter_vue": "IPY_MODEL_04757eadb07040798253497e442852f3",
       "_metadata": null,
       "_model_module": "jupyter-vuetify",
       "_model_module_version": "^1.8.5",
       "_model_name": "BtnModel",
       "_view_count": null,
       "_view_module": "jupyter-vuetify",
       "_view_module_version": "^1.8.5",
       "_view_name": "VuetifyView",
       "absolute": null,
       "active_class": null,
       "append": null,
       "attributes": {},
       "block": null,
       "bottom": null,
       "children": [
        "IPY_MODEL_d9690d8930534ac9abc4da99e4735ac5",
        "Download: proposals_dow.pdf"
       ],
       "class_": "",
       "color": null,
       "dark": null,
       "depressed": null,
       "disabled": false,
       "elevation": null,
       "exact": null,
       "exact_active_class": null,
       "fab": null,
       "fixed": null,
       "height": null,
       "href": null,
       "icon": null,
       "input_value": null,
       "large": null,
       "layout": null,
       "left": null,
       "light": null,
       "link": null,
       "loading": false,
       "max_height": null,
       "max_width": null,
       "min_height": null,
       "min_width": null,
       "nuxt": null,
       "outlined": false,
       "replace": null,
       "retain_focus_on_click": null,
       "right": null,
       "ripple": null,
       "rounded": null,
       "slot": null,
       "small": null,
       "style_": "",
       "tabbable": null,
       "tag": null,
       "target": null,
       "text": false,
       "tile": null,
       "to": null,
       "tooltip": null,
       "top": null,
       "type": null,
       "v_model": "!!disabled!!",
       "v_on": null,
       "v_slots": [],
       "value": null,
       "width": null,
       "x_large": null,
       "x_small": null
      }
     },
     "9cb74dd47fbf43ce9b981c4d132c0df7": {
      "model_module": "jupyter-vue",
      "model_module_version": "^1.11.1",
      "model_name": "TemplateModel",
      "state": {
       "_model_module": "jupyter-vue",
       "_model_module_version": "^1.11.1",
       "_model_name": "TemplateModel",
       "_view_count": null,
       "_view_module": null,
       "_view_module_version": "",
       "_view_name": null,
       "template": "<template>\n    <div @click=\"request_download = true\" class=\"solara-file-download-container\">\n        <jupyter-widget v-for=\"child in children\" :key=\"child\" :widget=\"child\"></jupyter-widget>\n    </div>\n</template>\n\n<script>\nmodule.exports = {\n    watch: {\n        bytes(value) {\n            if (this.request_download) {\n                const a = document.createElement('a');\n                a.download = this.filename;\n                const blob = new Blob([this.bytes], { type: this.mime_type });\n                const blobUrl = window.URL.createObjectURL(blob);\n                a.href = blobUrl;\n                document.body.appendChild(a);\n                a.click();\n                document.body.removeChild(a);\n                setTimeout(() => {\n                    // Make sure we clean up\n                    window.URL.revokeObjectURL(blobUrl);\n                }, 1000);\n                this.request_download = false;\n            }\n        }\n    }\n}\n</script>\n\n<style id=\"solara-file-download\">\n.solara-file-download-container {\n    cursor: pointer;\n}\n</style>\n"
      }
     },
     "b1c4c17b7c3e4806a4430aa2c2753664": {
      "model_module": "@jupyter-widgets/base",
      "model_module_version": "2.0.0",
      "model_name": "LayoutModel",
      "state": {
       "_model_module": "@jupyter-widgets/base",
       "_model_module_version": "2.0.0",
       "_model_name": "LayoutModel",
       "_view_count": null,
       "_view_module": "@jupyter-widgets/base",
       "_view_module_version": "2.0.0",
       "_view_name": "LayoutView",
       "align_content": null,
       "align_items": null,
       "align_self": null,
       "border_bottom": null,
       "border_left": null,
       "border_right": null,
       "border_top": null,
       "bottom": null,
       "display": null,
       "flex": null,
       "flex_flow": null,
       "grid_area": null,
       "grid_auto_columns": null,
       "grid_auto_flow": null,
       "grid_auto_rows": null,
       "grid_column": null,
       "grid_gap": null,
       "grid_row": null,
       "grid_template_areas": null,
       "grid_template_columns": null,
       "grid_template_rows": null,
       "height": null,
       "justify_content": null,
       "justify_items": null,
       "left": null,
       "margin": null,
       "max_height": null,
       "max_width": null,
       "min_height": null,
       "min_width": null,
       "object_fit": null,
       "object_position": null,
       "order": null,
       "overflow": null,
       "padding": null,
       "right": null,
       "top": null,
       "visibility": null,
       "width": null
      }
     },
     "bb736d9606664a74b1ff30f1e0299f0c": {
      "model_module": "jupyter-vuetify",
      "model_module_version": "^1.8.5",
      "model_name": "IconModel",
      "state": {
       "_dom_classes": [],
       "_events": [],
       "_jupyter_vue": "IPY_MODEL_04757eadb07040798253497e442852f3",
       "_metadata": null,
       "_model_module": "jupyter-vuetify",
       "_model_module_version": "^1.8.5",
       "_model_name": "IconModel",
       "_view_count": null,
       "_view_module": "jupyter-vuetify",
       "_view_module_version": "^1.8.5",
       "_view_name": "VuetifyView",
       "attributes": {},
       "children": [
        "mdi-cloud-download-outline"
       ],
       "class_": null,
       "color": null,
       "dark": null,
       "dense": null,
       "disabled": null,
       "large": null,
       "layout": null,
       "left": true,
       "light": null,
       "right": null,
       "size": null,
       "slot": null,
       "small": null,
       "style_": null,
       "tabbable": null,
       "tag": null,
       "tooltip": null,
       "v_model": "!!disabled!!",
       "v_on": null,
       "v_slots": [],
       "x_large": null,
       "x_small": null
      }
     },
     "c5f53a577a224de6a4081f906dd29a32": {
      "model_module": "jupyter-vuetify",
      "model_module_version": "^1.9.4",
      "model_name": "VuetifyTemplateModel",
      "state": {
       "_component_instances": [],
       "_dom_classes": [],
       "_jupyter_vue": "IPY_MODEL_04757eadb07040798253497e442852f3",
       "_model_module": "jupyter-vuetify",
       "_model_module_version": "^1.9.4",
       "_model_name": "VuetifyTemplateModel",
       "_view_count": null,
       "_view_module": "jupyter-vuetify",
       "_view_module_version": "^1.9.4",
       "_view_name": "VuetifyView",
       "bytes": null,
       "children": [
        "IPY_MODEL_491994a3e5ad4ae384ed2e9554bea468"
       ],
       "components": null,
       "css": null,
       "data": null,
       "events": [],
       "filename": "votes_dow.pdf",
       "layout": "IPY_MODEL_385542aee3d74e2caa1c2262afb926fe",
       "methods": null,
       "mime_type": "application/octet-stream",
       "request_download": false,
       "tabbable": null,
       "template": "IPY_MODEL_9cb74dd47fbf43ce9b981c4d132c0df7",
       "tooltip": null
      }
     },
     "c9cbfc8f5bcb44298e9c3a7de793138c": {
      "model_module": "@jupyter-widgets/base",
      "model_module_version": "2.0.0",
      "model_name": "LayoutModel",
      "state": {
       "_model_module": "@jupyter-widgets/base",
       "_model_module_version": "2.0.0",
       "_model_name": "LayoutModel",
       "_view_count": null,
       "_view_module": "@jupyter-widgets/base",
       "_view_module_version": "2.0.0",
       "_view_name": "LayoutView",
       "align_content": null,
       "align_items": null,
       "align_self": null,
       "border_bottom": null,
       "border_left": null,
       "border_right": null,
       "border_top": null,
       "bottom": null,
       "display": null,
       "flex": null,
       "flex_flow": null,
       "grid_area": null,
       "grid_auto_columns": null,
       "grid_auto_flow": null,
       "grid_auto_rows": null,
       "grid_column": null,
       "grid_gap": null,
       "grid_row": null,
       "grid_template_areas": null,
       "grid_template_columns": null,
       "grid_template_rows": null,
       "height": null,
       "justify_content": null,
       "justify_items": null,
       "left": null,
       "margin": null,
       "max_height": null,
       "max_width": null,
       "min_height": null,
       "min_width": null,
       "object_fit": null,
       "object_position": null,
       "order": null,
       "overflow": null,
       "padding": null,
       "right": null,
       "top": null,
       "visibility": null,
       "width": null
      }
     },
     "cb05ad69f0e34ef4b72dd0f7aba368b3": {
      "model_module": "jupyter-vuetify",
      "model_module_version": "^1.9.4",
      "model_name": "VuetifyTemplateModel",
      "state": {
       "_component_instances": [],
       "_dom_classes": [],
       "_jupyter_vue": "IPY_MODEL_04757eadb07040798253497e442852f3",
       "_model_module": "jupyter-vuetify",
       "_model_module_version": "^1.9.4",
       "_model_name": "VuetifyTemplateModel",
       "_view_count": null,
       "_view_module": "jupyter-vuetify",
       "_view_module_version": "^1.9.4",
       "_view_name": "VuetifyView",
       "bytes": null,
       "children": [
        "IPY_MODEL_957ff7dcfefa40619233f4bda42c7972"
       ],
       "components": null,
       "css": null,
       "data": null,
       "events": [],
       "filename": "proposals_dow.pdf",
       "layout": "IPY_MODEL_b1c4c17b7c3e4806a4430aa2c2753664",
       "methods": null,
       "mime_type": "application/octet-stream",
       "request_download": false,
       "tabbable": null,
       "template": "IPY_MODEL_9cb74dd47fbf43ce9b981c4d132c0df7",
       "tooltip": null
      }
     },
     "cd80d43832c7430b81bfa66a029a6106": {
      "model_module": "jupyter-vuetify",
      "model_module_version": "^1.8.5",
      "model_name": "RowModel",
      "state": {
       "_dom_classes": [],
       "_events": [],
       "_jupyter_vue": "IPY_MODEL_04757eadb07040798253497e442852f3",
       "_metadata": null,
       "_model_module": "jupyter-vuetify",
       "_model_module_version": "^1.8.5",
       "_model_name": "RowModel",
       "_view_count": null,
       "_view_module": "jupyter-vuetify",
       "_view_module_version": "^1.8.5",
       "_view_name": "VuetifyView",
       "align": null,
       "align_content": null,
       "align_content_lg": null,
       "align_content_md": null,
       "align_content_sm": null,
       "align_content_xl": null,
       "align_lg": null,
       "align_md": null,
       "align_sm": null,
       "align_xl": null,
       "attributes": {},
       "children": [
        "IPY_MODEL_6753eed001c440e7b48de25197ee1e35"
       ],
       "class_": "solara-content-main",
       "dense": null,
       "justify": null,
       "justify_lg": null,
       "justify_md": null,
       "justify_sm": null,
       "justify_xl": null,
       "layout": null,
       "no_gutters": false,
       "slot": null,
       "style_": null,
       "tabbable": null,
       "tag": null,
       "tooltip": null,
       "v_model": "!!disabled!!",
       "v_on": null,
       "v_slots": []
      }
     },
     "ce9b49dbbd6c420cbe26f039f498f3df": {
      "model_module": "jupyter-vuetify",
      "model_module_version": "^1.8.5",
      "model_name": "BtnModel",
      "state": {
       "_dom_classes": [],
       "_events": [
        "click"
       ],
       "_jupyter_vue": "IPY_MODEL_04757eadb07040798253497e442852f3",
       "_metadata": null,
       "_model_module": "jupyter-vuetify",
       "_model_module_version": "^1.8.5",
       "_model_name": "BtnModel",
       "_view_count": null,
       "_view_module": "jupyter-vuetify",
       "_view_module_version": "^1.8.5",
       "_view_name": "VuetifyView",
       "absolute": null,
       "active_class": null,
       "append": null,
       "attributes": {},
       "block": null,
       "bottom": null,
       "children": [
        "IPY_MODEL_901f6971cd8d4fd2910be8015c1764cc",
        "Download: votes_in_time-color.pdf"
       ],
       "class_": "",
       "color": null,
       "dark": null,
       "depressed": null,
       "disabled": false,
       "elevation": null,
       "exact": null,
       "exact_active_class": null,
       "fab": null,
       "fixed": null,
       "height": null,
       "href": null,
       "icon": null,
       "input_value": null,
       "large": null,
       "layout": null,
       "left": null,
       "light": null,
       "link": null,
       "loading": false,
       "max_height": null,
       "max_width": null,
       "min_height": null,
       "min_width": null,
       "nuxt": null,
       "outlined": false,
       "replace": null,
       "retain_focus_on_click": null,
       "right": null,
       "ripple": null,
       "rounded": null,
       "slot": null,
       "small": null,
       "style_": "",
       "tabbable": null,
       "tag": null,
       "target": null,
       "text": false,
       "tile": null,
       "to": null,
       "tooltip": null,
       "top": null,
       "type": null,
       "v_model": "!!disabled!!",
       "v_on": null,
       "v_slots": [],
       "value": null,
       "width": null,
       "x_large": null,
       "x_small": null
      }
     },
     "d562e52f105d49e1a82308279c1768f6": {
      "model_module": "@jupyter-widgets/base",
      "model_module_version": "2.0.0",
      "model_name": "LayoutModel",
      "state": {
       "_model_module": "@jupyter-widgets/base",
       "_model_module_version": "2.0.0",
       "_model_name": "LayoutModel",
       "_view_count": null,
       "_view_module": "@jupyter-widgets/base",
       "_view_module_version": "2.0.0",
       "_view_name": "LayoutView",
       "align_content": null,
       "align_items": null,
       "align_self": null,
       "border_bottom": null,
       "border_left": null,
       "border_right": null,
       "border_top": null,
       "bottom": null,
       "display": null,
       "flex": null,
       "flex_flow": null,
       "grid_area": null,
       "grid_auto_columns": null,
       "grid_auto_flow": null,
       "grid_auto_rows": null,
       "grid_column": null,
       "grid_gap": null,
       "grid_row": null,
       "grid_template_areas": null,
       "grid_template_columns": null,
       "grid_template_rows": null,
       "height": null,
       "justify_content": null,
       "justify_items": null,
       "left": null,
       "margin": null,
       "max_height": null,
       "max_width": null,
       "min_height": null,
       "min_width": null,
       "object_fit": null,
       "object_position": null,
       "order": null,
       "overflow": null,
       "padding": null,
       "right": null,
       "top": null,
       "visibility": null,
       "width": null
      }
     },
     "d90271c3029a40679f8da114bf57f645": {
      "model_module": "jupyter-vuetify",
      "model_module_version": "^1.9.4",
      "model_name": "VuetifyTemplateModel",
      "state": {
       "_component_instances": [],
       "_dom_classes": [],
       "_jupyter_vue": "IPY_MODEL_04757eadb07040798253497e442852f3",
       "_model_module": "jupyter-vuetify",
       "_model_module_version": "^1.9.4",
       "_model_name": "VuetifyTemplateModel",
       "_view_count": null,
       "_view_module": "jupyter-vuetify",
       "_view_module_version": "^1.9.4",
       "_view_name": "VuetifyView",
       "bytes": null,
       "children": [
        "IPY_MODEL_ce9b49dbbd6c420cbe26f039f498f3df"
       ],
       "components": null,
       "css": null,
       "data": null,
       "events": [],
       "filename": "votes_in_time-color.pdf",
       "layout": "IPY_MODEL_fe3f15c97d614566b5750ac6e8482bcc",
       "methods": null,
       "mime_type": "application/octet-stream",
       "request_download": false,
       "tabbable": null,
       "template": "IPY_MODEL_9cb74dd47fbf43ce9b981c4d132c0df7",
       "tooltip": null
      }
     },
     "d9690d8930534ac9abc4da99e4735ac5": {
      "model_module": "jupyter-vuetify",
      "model_module_version": "^1.8.5",
      "model_name": "IconModel",
      "state": {
       "_dom_classes": [],
       "_events": [],
       "_jupyter_vue": "IPY_MODEL_04757eadb07040798253497e442852f3",
       "_metadata": null,
       "_model_module": "jupyter-vuetify",
       "_model_module_version": "^1.8.5",
       "_model_name": "IconModel",
       "_view_count": null,
       "_view_module": "jupyter-vuetify",
       "_view_module_version": "^1.8.5",
       "_view_name": "VuetifyView",
       "attributes": {},
       "children": [
        "mdi-cloud-download-outline"
       ],
       "class_": null,
       "color": null,
       "dark": null,
       "dense": null,
       "disabled": null,
       "large": null,
       "layout": null,
       "left": true,
       "light": null,
       "right": null,
       "size": null,
       "slot": null,
       "small": null,
       "style_": null,
       "tabbable": null,
       "tag": null,
       "tooltip": null,
       "v_model": "!!disabled!!",
       "v_on": null,
       "v_slots": [],
       "x_large": null,
       "x_small": null
      }
     },
     "dc791d9faa9b4617af5b31f5089ba176": {
      "model_module": "jupyter-vuetify",
      "model_module_version": "^1.9.4",
      "model_name": "HtmlModel",
      "state": {
       "_dom_classes": [],
       "_events": [],
       "_jupyter_vue": "IPY_MODEL_04757eadb07040798253497e442852f3",
       "_model_module": "jupyter-vuetify",
       "_model_module_version": "^1.9.4",
       "_model_name": "HtmlModel",
       "_view_count": null,
       "_view_module": "jupyter-vuetify",
       "_view_module_version": "^1.9.4",
       "_view_name": "VuetifyView",
       "attributes": {},
       "children": [
        "IPY_MODEL_2bf409a2056f4f6aa562c8783cd4d26d"
       ],
       "class_": null,
       "layout": null,
       "slot": null,
       "style_": null,
       "tabbable": null,
       "tag": "div",
       "tooltip": null,
       "v_model": "!!disabled!!",
       "v_on": null,
       "v_slots": []
      }
     },
     "e6372fa0c46d42d59ebc2dfb4633ae35": {
      "model_module": "@jupyter-widgets/controls",
      "model_module_version": "2.0.0",
      "model_name": "VBoxModel",
      "state": {
       "_dom_classes": [],
       "_model_module": "@jupyter-widgets/controls",
       "_model_module_version": "2.0.0",
       "_model_name": "VBoxModel",
       "_view_count": 0,
       "_view_module": "@jupyter-widgets/controls",
       "_view_module_version": "2.0.0",
       "_view_name": "VBoxView",
       "box_style": "",
       "children": [
        "IPY_MODEL_41972c97ce66413b96e822e569f796f3"
       ],
       "layout": "IPY_MODEL_8ea07a5ba6734300860bc85f87f054d7",
       "tabbable": null,
       "tooltip": null
      }
     },
     "e6fa2142c16c4b039f825fff131b5cf2": {
      "model_module": "jupyter-vuetify",
      "model_module_version": "^1.9.4",
      "model_name": "HtmlModel",
      "state": {
       "_dom_classes": [],
       "_events": [],
       "_jupyter_vue": "IPY_MODEL_04757eadb07040798253497e442852f3",
       "_model_module": "jupyter-vuetify",
       "_model_module_version": "^1.9.4",
       "_model_name": "HtmlModel",
       "_view_count": null,
       "_view_module": "jupyter-vuetify",
       "_view_module_version": "^1.9.4",
       "_view_name": "VuetifyView",
       "attributes": {},
       "children": [
        "IPY_MODEL_16688edc42fc4369b76d7fdfee345c1c"
       ],
       "class_": null,
       "layout": null,
       "slot": null,
       "style_": null,
       "tabbable": null,
       "tag": "div",
       "tooltip": null,
       "v_model": "!!disabled!!",
       "v_on": null,
       "v_slots": []
      }
     },
     "e9aae0e4c828478a87ce770ed1c3c6b4": {
      "model_module": "jupyter-vuetify",
      "model_module_version": "^1.8.5",
      "model_name": "RowModel",
      "state": {
       "_dom_classes": [],
       "_events": [],
       "_jupyter_vue": "IPY_MODEL_04757eadb07040798253497e442852f3",
       "_metadata": null,
       "_model_module": "jupyter-vuetify",
       "_model_module_version": "^1.8.5",
       "_model_name": "RowModel",
       "_view_count": null,
       "_view_module": "jupyter-vuetify",
       "_view_module_version": "^1.8.5",
       "_view_name": "VuetifyView",
       "align": null,
       "align_content": null,
       "align_content_lg": null,
       "align_content_md": null,
       "align_content_sm": null,
       "align_content_xl": null,
       "align_lg": null,
       "align_md": null,
       "align_sm": null,
       "align_xl": null,
       "attributes": {},
       "children": [
        "IPY_MODEL_0f91eaa4cddc45c29285d0037afd0b50"
       ],
       "class_": "solara-content-main",
       "dense": null,
       "justify": null,
       "justify_lg": null,
       "justify_md": null,
       "justify_sm": null,
       "justify_xl": null,
       "layout": null,
       "no_gutters": false,
       "slot": null,
       "style_": null,
       "tabbable": null,
       "tag": null,
       "tooltip": null,
       "v_model": "!!disabled!!",
       "v_on": null,
       "v_slots": []
      }
     },
     "ea106c35b1564d07ad5c64edd15eaa5f": {
      "model_module": "@jupyter-widgets/controls",
      "model_module_version": "2.0.0",
      "model_name": "VBoxModel",
      "state": {
       "_dom_classes": [],
       "_model_module": "@jupyter-widgets/controls",
       "_model_module_version": "2.0.0",
       "_model_name": "VBoxModel",
       "_view_count": 0,
       "_view_module": "@jupyter-widgets/controls",
       "_view_module_version": "2.0.0",
       "_view_name": "VBoxView",
       "box_style": "",
       "children": [
        "IPY_MODEL_04639cb313034b81b03b5ae4df25789f"
       ],
       "layout": "IPY_MODEL_38e6be331d7c4ac5880475f734ab64e6",
       "tabbable": null,
       "tooltip": null
      }
     },
     "f304742c550c45b4a8dfcee9ff324a6e": {
      "model_module": "jupyter-vuetify",
      "model_module_version": "^1.9.4",
      "model_name": "ThemeColorsModel",
      "state": {
       "_model_module": "jupyter-vuetify",
       "_model_module_version": "^1.9.4",
       "_model_name": "ThemeColorsModel",
       "_theme_name": "dark",
       "_view_count": null,
       "_view_module": null,
       "_view_module_version": "^1.9.4",
       "_view_name": null,
       "accent": "#FF4081",
       "anchor": null,
       "error": "#FF5252",
       "info": "#2196F3",
       "primary": "#2196F3",
       "secondary": "#424242",
       "success": "#4CAF50",
       "warning": "#FB8C00"
      }
     },
     "f640777a62ac4906b9a60682dbfae7ee": {
      "model_module": "jupyter-vuetify",
      "model_module_version": "^1.8.5",
      "model_name": "IconModel",
      "state": {
       "_dom_classes": [],
       "_events": [],
       "_jupyter_vue": "IPY_MODEL_04757eadb07040798253497e442852f3",
       "_metadata": null,
       "_model_module": "jupyter-vuetify",
       "_model_module_version": "^1.8.5",
       "_model_name": "IconModel",
       "_view_count": null,
       "_view_module": "jupyter-vuetify",
       "_view_module_version": "^1.8.5",
       "_view_name": "VuetifyView",
       "attributes": {},
       "children": [
        "mdi-cloud-download-outline"
       ],
       "class_": null,
       "color": null,
       "dark": null,
       "dense": null,
       "disabled": null,
       "large": null,
       "layout": null,
       "left": true,
       "light": null,
       "right": null,
       "size": null,
       "slot": null,
       "small": null,
       "style_": null,
       "tabbable": null,
       "tag": null,
       "tooltip": null,
       "v_model": "!!disabled!!",
       "v_on": null,
       "v_slots": [],
       "x_large": null,
       "x_small": null
      }
     },
     "f843d0167f90492694bd73e46e2aaf9a": {
      "model_module": "jupyter-vuetify",
      "model_module_version": "^1.9.4",
      "model_name": "ThemeColorsModel",
      "state": {
       "_model_module": "jupyter-vuetify",
       "_model_module_version": "^1.9.4",
       "_model_name": "ThemeColorsModel",
       "_theme_name": "light",
       "_view_count": null,
       "_view_module": null,
       "_view_module_version": "^1.9.4",
       "_view_name": null,
       "accent": "#82B1FF",
       "anchor": null,
       "error": "#FF5252",
       "info": "#2196F3",
       "primary": "#1976D2",
       "secondary": "#424242",
       "success": "#4CAF50",
       "warning": "#FB8C00"
      }
     },
     "fe3f15c97d614566b5750ac6e8482bcc": {
      "model_module": "@jupyter-widgets/base",
      "model_module_version": "2.0.0",
      "model_name": "LayoutModel",
      "state": {
       "_model_module": "@jupyter-widgets/base",
       "_model_module_version": "2.0.0",
       "_model_name": "LayoutModel",
       "_view_count": null,
       "_view_module": "@jupyter-widgets/base",
       "_view_module_version": "2.0.0",
       "_view_name": "LayoutView",
       "align_content": null,
       "align_items": null,
       "align_self": null,
       "border_bottom": null,
       "border_left": null,
       "border_right": null,
       "border_top": null,
       "bottom": null,
       "display": null,
       "flex": null,
       "flex_flow": null,
       "grid_area": null,
       "grid_auto_columns": null,
       "grid_auto_flow": null,
       "grid_auto_rows": null,
       "grid_column": null,
       "grid_gap": null,
       "grid_row": null,
       "grid_template_areas": null,
       "grid_template_columns": null,
       "grid_template_rows": null,
       "height": null,
       "justify_content": null,
       "justify_items": null,
       "left": null,
       "margin": null,
       "max_height": null,
       "max_width": null,
       "min_height": null,
       "min_width": null,
       "object_fit": null,
       "object_position": null,
       "order": null,
       "overflow": null,
       "padding": null,
       "right": null,
       "top": null,
       "visibility": null,
       "width": null
      }
     }
    },
    "version_major": 2,
    "version_minor": 0
   }
  }
 },
 "nbformat": 4,
 "nbformat_minor": 5
}