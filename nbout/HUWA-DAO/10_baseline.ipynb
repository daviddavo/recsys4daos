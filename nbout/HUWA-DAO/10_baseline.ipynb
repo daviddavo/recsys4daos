{
 "cells": [
  {
   "cell_type": "code",
   "execution_count": 1,
   "id": "7587bf6a",
   "metadata": {
    "execution": {
     "iopub.execute_input": "2024-09-05T09:07:02.694298Z",
     "iopub.status.busy": "2024-09-05T09:07:02.693783Z",
     "iopub.status.idle": "2024-09-05T09:07:05.358928Z",
     "shell.execute_reply": "2024-09-05T09:07:05.358666Z"
    },
    "papermill": {
     "duration": 2.674333,
     "end_time": "2024-09-05T09:07:05.359692",
     "exception": false,
     "start_time": "2024-09-05T09:07:02.685359",
     "status": "completed"
    },
    "tags": []
   },
   "outputs": [
    {
     "name": "stderr",
     "output_type": "stream",
     "text": [
      "/tmp/ipykernel_3815531/2526015065.py:7: TqdmExperimentalWarning: Using `tqdm.autonotebook.tqdm` in notebook mode. Use `tqdm.tqdm` instead to force console mode (e.g. in jupyter console)\n",
      "  from tqdm.autonotebook import tqdm\n"
     ]
    },
    {
     "name": "stdout",
     "output_type": "stream",
     "text": [
      "Ignoring warnings\n"
     ]
    }
   ],
   "source": [
    "from typing import List\n",
    "import sys\n",
    "from collections import defaultdict\n",
    "\n",
    "import pandas as pd\n",
    "import numpy as np\n",
    "from tqdm.autonotebook import tqdm\n",
    "\n",
    "from recsys4daos.models import OpenPop\n",
    "from recsys4daos.datasets import to_microsoft\n",
    "from recsys4daos.model_selection import cvtt_open\n",
    "from recsys4daos.evaluation import calculate_all_metrics\n",
    "\n",
    "import paths\n",
    "\n",
    "import recommenders\n",
    "if recommenders.__version__ == '1.2.0':\n",
    "    print(\"Ignoring warnings\")\n",
    "    import warnings\n",
    "    warnings.simplefilter(action='ignore', category=FutureWarning)"
   ]
  },
  {
   "cell_type": "code",
   "execution_count": 2,
   "id": "cd9f6d06",
   "metadata": {
    "editable": true,
    "execution": {
     "iopub.execute_input": "2024-09-05T09:07:05.364694Z",
     "iopub.status.busy": "2024-09-05T09:07:05.364492Z",
     "iopub.status.idle": "2024-09-05T09:07:05.366455Z",
     "shell.execute_reply": "2024-09-05T09:07:05.366251Z"
    },
    "papermill": {
     "duration": 0.005086,
     "end_time": "2024-09-05T09:07:05.367094",
     "exception": false,
     "start_time": "2024-09-05T09:07:05.362008",
     "status": "completed"
    },
    "slideshow": {
     "slide_type": ""
    },
    "tags": [
     "parameters"
    ]
   },
   "outputs": [],
   "source": [
    "SPLITS_FREQ = \"W-THU\"\n",
    "SPLITS_NORMALIZE = True\n",
    "ORG_NAME = 'Decentraland'\n",
    "LAST_FOLD_DATE_STR: str = None # Won't use it, we will just calculate for every fold\n",
    "\n",
    "# In this notebook this is just used for plotting and description, not \"training\"\n",
    "# every fold is saved into the results table\n",
    "LAST_FOLDS = 10\n",
    "\n",
    "K_RECOMMENDATIONS: List[int] = [1,3,5,10,15,100]"
   ]
  },
  {
   "cell_type": "code",
   "execution_count": 3,
   "id": "61340e40",
   "metadata": {
    "execution": {
     "iopub.execute_input": "2024-09-05T09:07:05.371031Z",
     "iopub.status.busy": "2024-09-05T09:07:05.370864Z",
     "iopub.status.idle": "2024-09-05T09:07:05.372381Z",
     "shell.execute_reply": "2024-09-05T09:07:05.372195Z"
    },
    "papermill": {
     "duration": 0.004393,
     "end_time": "2024-09-05T09:07:05.373122",
     "exception": false,
     "start_time": "2024-09-05T09:07:05.368729",
     "status": "completed"
    },
    "tags": [
     "injected-parameters"
    ]
   },
   "outputs": [],
   "source": [
    "# Parameters\n",
    "EXECUTION_ID = \"2024-09-04T10:00\"\n",
    "ORG_NAME = \"HUWA-DAO\"\n",
    "SPLITS_FREQ = \"2d\"\n",
    "LAST_FOLDS = 6\n",
    "SPLITS_NORMALIZE = True\n",
    "LAST_FOLD_DATE_STR = \"2021-11-13\"\n"
   ]
  },
  {
   "cell_type": "markdown",
   "id": "2ca08e5b",
   "metadata": {
    "papermill": {
     "duration": 0.001626,
     "end_time": "2024-09-05T09:07:05.376398",
     "exception": false,
     "start_time": "2024-09-05T09:07:05.374772",
     "status": "completed"
    },
    "tags": []
   },
   "source": [
    "## Obtain dataset"
   ]
  },
  {
   "cell_type": "code",
   "execution_count": 4,
   "id": "a438eb4f",
   "metadata": {
    "execution": {
     "iopub.execute_input": "2024-09-05T09:07:05.380174Z",
     "iopub.status.busy": "2024-09-05T09:07:05.380056Z",
     "iopub.status.idle": "2024-09-05T09:07:05.504992Z",
     "shell.execute_reply": "2024-09-05T09:07:05.502594Z"
    },
    "papermill": {
     "duration": 0.130846,
     "end_time": "2024-09-05T09:07:05.508917",
     "exception": false,
     "start_time": "2024-09-05T09:07:05.378071",
     "status": "completed"
    },
    "tags": []
   },
   "outputs": [
    {
     "name": "stdout",
     "output_type": "stream",
     "text": [
      "/home/daviddavo/recsys4daos/notebooks\r\n"
     ]
    }
   ],
   "source": [
    "!pwd"
   ]
  },
  {
   "cell_type": "code",
   "execution_count": 5,
   "id": "4aaf9fc8",
   "metadata": {
    "execution": {
     "iopub.execute_input": "2024-09-05T09:07:05.528088Z",
     "iopub.status.busy": "2024-09-05T09:07:05.527770Z",
     "iopub.status.idle": "2024-09-05T09:07:05.650641Z",
     "shell.execute_reply": "2024-09-05T09:07:05.648278Z"
    },
    "papermill": {
     "duration": 0.13447,
     "end_time": "2024-09-05T09:07:05.654256",
     "exception": false,
     "start_time": "2024-09-05T09:07:05.519786",
     "status": "completed"
    },
    "tags": []
   },
   "outputs": [
    {
     "name": "stdout",
     "output_type": "stream",
     "text": [
      "md5sum: '../data/decentraland/*': No such file or directory\r\n"
     ]
    }
   ],
   "source": [
    "!md5sum ../data/decentraland/*"
   ]
  },
  {
   "cell_type": "code",
   "execution_count": 6,
   "id": "94ebc95d",
   "metadata": {
    "execution": {
     "iopub.execute_input": "2024-09-05T09:07:05.672376Z",
     "iopub.status.busy": "2024-09-05T09:07:05.672113Z",
     "iopub.status.idle": "2024-09-05T09:07:05.699835Z",
     "shell.execute_reply": "2024-09-05T09:07:05.699618Z"
    },
    "papermill": {
     "duration": 0.036324,
     "end_time": "2024-09-05T09:07:05.700465",
     "exception": false,
     "start_time": "2024-09-05T09:07:05.664141",
     "status": "completed"
    },
    "tags": []
   },
   "outputs": [
    {
     "name": "stdout",
     "output_type": "stream",
     "text": [
      "<class 'pandas.core.frame.DataFrame'>\n",
      "RangeIndex: 631 entries, 0 to 630\n",
      "Data columns (total 6 columns):\n",
      " #   Column             Non-Null Count  Dtype         \n",
      "---  ------             --------------  -----         \n",
      " 0   id                 631 non-null    object        \n",
      " 1   author             631 non-null    object        \n",
      " 2   date               631 non-null    datetime64[us]\n",
      " 3   start              631 non-null    datetime64[us]\n",
      " 4   end                631 non-null    datetime64[us]\n",
      " 5   platform_proposal  631 non-null    object        \n",
      "dtypes: datetime64[us](3), object(3)\n",
      "memory usage: 29.7+ KB\n",
      "None\n",
      "<class 'pandas.core.frame.DataFrame'>\n",
      "RangeIndex: 4151 entries, 0 to 4150\n",
      "Data columns (total 4 columns):\n",
      " #   Column    Non-Null Count  Dtype         \n",
      "---  ------    --------------  -----         \n",
      " 0   id        4151 non-null   object        \n",
      " 1   proposal  4151 non-null   object        \n",
      " 2   voter     4151 non-null   object        \n",
      " 3   date      4151 non-null   datetime64[us]\n",
      "dtypes: datetime64[us](1), object(3)\n",
      "memory usage: 129.8+ KB\n",
      "None\n",
      "<class 'pandas.core.frame.DataFrame'>\n",
      "RangeIndex: 4151 entries, 0 to 4150\n",
      "Data columns (total 4 columns):\n",
      " #   Column     Non-Null Count  Dtype         \n",
      "---  ------     --------------  -----         \n",
      " 0   userID     4151 non-null   object        \n",
      " 1   itemID     4151 non-null   object        \n",
      " 2   timestamp  4151 non-null   datetime64[us]\n",
      " 3   rating     4151 non-null   int64         \n",
      "dtypes: datetime64[us](1), int64(1), object(2)\n",
      "memory usage: 129.8+ KB\n",
      "None\n"
     ]
    }
   ],
   "source": [
    "dfp = paths.load_proposals(ORG_NAME)\n",
    "dfv = paths.load_votes(ORG_NAME)\n",
    "\n",
    "df = to_microsoft(dfv)\n",
    "\n",
    "print(dfp.info())\n",
    "print(dfv.info())\n",
    "print(df.info())"
   ]
  },
  {
   "cell_type": "markdown",
   "id": "42a015ab",
   "metadata": {
    "papermill": {
     "duration": 0.002132,
     "end_time": "2024-09-05T09:07:05.704894",
     "exception": false,
     "start_time": "2024-09-05T09:07:05.702762",
     "status": "completed"
    },
    "tags": []
   },
   "source": [
    "## Showing some info of the folds"
   ]
  },
  {
   "cell_type": "code",
   "execution_count": 7,
   "id": "f6adfdfc",
   "metadata": {
    "execution": {
     "iopub.execute_input": "2024-09-05T09:07:05.709275Z",
     "iopub.status.busy": "2024-09-05T09:07:05.709067Z",
     "iopub.status.idle": "2024-09-05T09:07:06.550680Z",
     "shell.execute_reply": "2024-09-05T09:07:06.550439Z"
    },
    "papermill": {
     "duration": 0.844716,
     "end_time": "2024-09-05T09:07:06.551390",
     "exception": false,
     "start_time": "2024-09-05T09:07:05.706674",
     "status": "completed"
    },
    "tags": []
   },
   "outputs": [
    {
     "name": "stdout",
     "output_type": "stream",
     "text": [
      "Saved dataframe into /home/daviddavo/recsys4daos/data/output/HUWA-DAO/baseline/folds-info_2d_normalize.parquet\n",
      "fold\n",
      "2023-06-20    4066\n",
      "2023-06-22    4069\n",
      "2023-06-24    4073\n",
      "2023-06-26    4081\n",
      "2023-06-28    4099\n",
      "2023-06-30    4136\n",
      "Name: votes in train, dtype: int64\n"
     ]
    },
    {
     "data": {
      "text/html": [
       "<style type=\"text/css\">\n",
       "</style>\n",
       "<table id=\"T_4e500\">\n",
       "  <thead>\n",
       "    <tr>\n",
       "      <th class=\"blank level0\" >&nbsp;</th>\n",
       "      <th id=\"T_4e500_level0_col0\" class=\"col_heading level0 col0\" >open proposals</th>\n",
       "      <th id=\"T_4e500_level0_col1\" class=\"col_heading level0 col1\" >votes in open proposals (train)</th>\n",
       "      <th id=\"T_4e500_level0_col2\" class=\"col_heading level0 col2\" >users in open proposals (train)</th>\n",
       "      <th id=\"T_4e500_level0_col3\" class=\"col_heading level0 col3\" >vpp in open proposals (train)</th>\n",
       "      <th id=\"T_4e500_level0_col4\" class=\"col_heading level0 col4\" >vpu in open proposals (train)</th>\n",
       "      <th id=\"T_4e500_level0_col5\" class=\"col_heading level0 col5\" >votes in test</th>\n",
       "      <th id=\"T_4e500_level0_col6\" class=\"col_heading level0 col6\" >users in test</th>\n",
       "      <th id=\"T_4e500_level0_col7\" class=\"col_heading level0 col7\" >vpp test</th>\n",
       "      <th id=\"T_4e500_level0_col8\" class=\"col_heading level0 col8\" >vpu test</th>\n",
       "    </tr>\n",
       "    <tr>\n",
       "      <th class=\"index_name level0\" >fold</th>\n",
       "      <th class=\"blank col0\" >&nbsp;</th>\n",
       "      <th class=\"blank col1\" >&nbsp;</th>\n",
       "      <th class=\"blank col2\" >&nbsp;</th>\n",
       "      <th class=\"blank col3\" >&nbsp;</th>\n",
       "      <th class=\"blank col4\" >&nbsp;</th>\n",
       "      <th class=\"blank col5\" >&nbsp;</th>\n",
       "      <th class=\"blank col6\" >&nbsp;</th>\n",
       "      <th class=\"blank col7\" >&nbsp;</th>\n",
       "      <th class=\"blank col8\" >&nbsp;</th>\n",
       "    </tr>\n",
       "  </thead>\n",
       "  <tbody>\n",
       "    <tr>\n",
       "      <th id=\"T_4e500_level0_row0\" class=\"row_heading level0 row0\" >2023-W25</th>\n",
       "      <td id=\"T_4e500_row0_col0\" class=\"data row0 col0\" >3</td>\n",
       "      <td id=\"T_4e500_row0_col1\" class=\"data row0 col1\" >83</td>\n",
       "      <td id=\"T_4e500_row0_col2\" class=\"data row0 col2\" >41</td>\n",
       "      <td id=\"T_4e500_row0_col3\" class=\"data row0 col3\" >27.67</td>\n",
       "      <td id=\"T_4e500_row0_col4\" class=\"data row0 col4\" >2.02</td>\n",
       "      <td id=\"T_4e500_row0_col5\" class=\"data row0 col5\" >13</td>\n",
       "      <td id=\"T_4e500_row0_col6\" class=\"data row0 col6\" >9</td>\n",
       "      <td id=\"T_4e500_row0_col7\" class=\"data row0 col7\" >4.33</td>\n",
       "      <td id=\"T_4e500_row0_col8\" class=\"data row0 col8\" >1.44</td>\n",
       "    </tr>\n",
       "    <tr>\n",
       "      <th id=\"T_4e500_level0_row1\" class=\"row_heading level0 row1\" >2023-W25</th>\n",
       "      <td id=\"T_4e500_row1_col0\" class=\"data row1 col0\" >2</td>\n",
       "      <td id=\"T_4e500_row1_col1\" class=\"data row1 col1\" >75</td>\n",
       "      <td id=\"T_4e500_row1_col2\" class=\"data row1 col2\" >42</td>\n",
       "      <td id=\"T_4e500_row1_col3\" class=\"data row1 col3\" >37.50</td>\n",
       "      <td id=\"T_4e500_row1_col4\" class=\"data row1 col4\" >1.79</td>\n",
       "      <td id=\"T_4e500_row1_col5\" class=\"data row1 col5\" >10</td>\n",
       "      <td id=\"T_4e500_row1_col6\" class=\"data row1 col6\" >7</td>\n",
       "      <td id=\"T_4e500_row1_col7\" class=\"data row1 col7\" >5.00</td>\n",
       "      <td id=\"T_4e500_row1_col8\" class=\"data row1 col8\" >1.43</td>\n",
       "    </tr>\n",
       "    <tr>\n",
       "      <th id=\"T_4e500_level0_row2\" class=\"row_heading level0 row2\" >2023-W25</th>\n",
       "      <td id=\"T_4e500_row2_col0\" class=\"data row2 col0\" >2</td>\n",
       "      <td id=\"T_4e500_row2_col1\" class=\"data row2 col1\" >79</td>\n",
       "      <td id=\"T_4e500_row2_col2\" class=\"data row2 col2\" >44</td>\n",
       "      <td id=\"T_4e500_row2_col3\" class=\"data row2 col3\" >39.50</td>\n",
       "      <td id=\"T_4e500_row2_col4\" class=\"data row2 col4\" >1.80</td>\n",
       "      <td id=\"T_4e500_row2_col5\" class=\"data row2 col5\" >6</td>\n",
       "      <td id=\"T_4e500_row2_col6\" class=\"data row2 col6\" >4</td>\n",
       "      <td id=\"T_4e500_row2_col7\" class=\"data row2 col7\" >3.00</td>\n",
       "      <td id=\"T_4e500_row2_col8\" class=\"data row2 col8\" >1.50</td>\n",
       "    </tr>\n",
       "    <tr>\n",
       "      <th id=\"T_4e500_level0_row3\" class=\"row_heading level0 row3\" >2023-W26</th>\n",
       "      <td id=\"T_4e500_row3_col0\" class=\"data row3 col0\" >4</td>\n",
       "      <td id=\"T_4e500_row3_col1\" class=\"data row3 col1\" >87</td>\n",
       "      <td id=\"T_4e500_row3_col2\" class=\"data row3 col2\" >48</td>\n",
       "      <td id=\"T_4e500_row3_col3\" class=\"data row3 col3\" >21.75</td>\n",
       "      <td id=\"T_4e500_row3_col4\" class=\"data row3 col4\" >1.81</td>\n",
       "      <td id=\"T_4e500_row3_col5\" class=\"data row3 col5\" >13</td>\n",
       "      <td id=\"T_4e500_row3_col6\" class=\"data row3 col6\" >6</td>\n",
       "      <td id=\"T_4e500_row3_col7\" class=\"data row3 col7\" >3.25</td>\n",
       "      <td id=\"T_4e500_row3_col8\" class=\"data row3 col8\" >2.17</td>\n",
       "    </tr>\n",
       "    <tr>\n",
       "      <th id=\"T_4e500_level0_row4\" class=\"row_heading level0 row4\" >2023-W26</th>\n",
       "      <td id=\"T_4e500_row4_col0\" class=\"data row4 col0\" >5</td>\n",
       "      <td id=\"T_4e500_row4_col1\" class=\"data row4 col1\" >105</td>\n",
       "      <td id=\"T_4e500_row4_col2\" class=\"data row4 col2\" >49</td>\n",
       "      <td id=\"T_4e500_row4_col3\" class=\"data row4 col3\" >21.00</td>\n",
       "      <td id=\"T_4e500_row4_col4\" class=\"data row4 col4\" >2.14</td>\n",
       "      <td id=\"T_4e500_row4_col5\" class=\"data row4 col5\" >2</td>\n",
       "      <td id=\"T_4e500_row4_col6\" class=\"data row4 col6\" >2</td>\n",
       "      <td id=\"T_4e500_row4_col7\" class=\"data row4 col7\" >0.40</td>\n",
       "      <td id=\"T_4e500_row4_col8\" class=\"data row4 col8\" >1.00</td>\n",
       "    </tr>\n",
       "    <tr>\n",
       "      <th id=\"T_4e500_level0_row5\" class=\"row_heading level0 row5\" >2023-W26</th>\n",
       "      <td id=\"T_4e500_row5_col0\" class=\"data row5 col0\" >4</td>\n",
       "      <td id=\"T_4e500_row5_col1\" class=\"data row5 col1\" >49</td>\n",
       "      <td id=\"T_4e500_row5_col2\" class=\"data row5 col2\" >38</td>\n",
       "      <td id=\"T_4e500_row5_col3\" class=\"data row5 col3\" >12.25</td>\n",
       "      <td id=\"T_4e500_row5_col4\" class=\"data row5 col4\" >1.29</td>\n",
       "      <td id=\"T_4e500_row5_col5\" class=\"data row5 col5\" >6</td>\n",
       "      <td id=\"T_4e500_row5_col6\" class=\"data row5 col6\" >2</td>\n",
       "      <td id=\"T_4e500_row5_col7\" class=\"data row5 col7\" >1.50</td>\n",
       "      <td id=\"T_4e500_row5_col8\" class=\"data row5 col8\" >3.00</td>\n",
       "    </tr>\n",
       "  </tbody>\n",
       "</table>\n"
      ],
      "text/plain": [
       "<pandas.io.formats.style.Styler at 0x7fedb18cc4d0>"
      ]
     },
     "execution_count": 7,
     "metadata": {},
     "output_type": "execute_result"
    }
   ],
   "source": [
    "sdd = defaultdict(list)\n",
    "\n",
    "for dftrain, dftest, t, openproposals in cvtt_open(to_microsoft(dfv), SPLITS_FREQ, dfp.reset_index(), remove_not_in_train_col='userID', normalize=SPLITS_NORMALIZE):\n",
    "    dftrain_filter = dftrain[dftrain['itemID'].isin(openproposals)]\n",
    "    \n",
    "    sdd['fold'].append(t)\n",
    "    sdd['open proposals'].append(len(openproposals))\n",
    "    \n",
    "    sdd['proposals in train'].append(dftrain['itemID'].nunique())\n",
    "    sdd['votes in train'].append(len(dftrain))\n",
    "    sdd['votes in open proposals (train)'].append(len(dftrain_filter))\n",
    "    sdd['users in open proposals (train)'].append(dftrain_filter['userID'].nunique())\n",
    "    sdd['votes in test'].append(len(dftest))\n",
    "    sdd['users in train'].append(dftrain['userID'].nunique())\n",
    "    sdd['users in test'].append(dftest['userID'].nunique())\n",
    "\n",
    "sdf_all = pd.DataFrame(sdd).set_index('fold')\n",
    "sdf_all['vpp in open proposals (train)'] = sdf_all['votes in open proposals (train)'] / sdf_all['open proposals']\n",
    "sdf_all['vpu in open proposals (train)'] = sdf_all['votes in open proposals (train)'] / sdf_all['users in open proposals (train)']\n",
    "sdf_all['vpp test'] = sdf_all['votes in test'] / sdf_all['open proposals']\n",
    "sdf_all['vpu test'] = sdf_all['votes in test'] / sdf_all['users in test']\n",
    "paths.save_folds_info(sdf_all, ORG_NAME, SPLITS_FREQ, SPLITS_NORMALIZE)\n",
    "sdf = sdf_all.tail(LAST_FOLDS)\n",
    "print(sdf['votes in train'])\n",
    "_style = sdf[['open proposals', 'votes in open proposals (train)', 'users in open proposals (train)', 'vpp in open proposals (train)', 'vpu in open proposals (train)', 'votes in test', 'users in test', 'vpp test', 'vpu test']].style\n",
    "_style = _style.format_index('{:%G-W%V}').format(precision=2)\n",
    "_style"
   ]
  },
  {
   "cell_type": "code",
   "execution_count": 8,
   "id": "974de501",
   "metadata": {
    "execution": {
     "iopub.execute_input": "2024-09-05T09:07:06.556624Z",
     "iopub.status.busy": "2024-09-05T09:07:06.556426Z",
     "iopub.status.idle": "2024-09-05T09:07:06.566150Z",
     "shell.execute_reply": "2024-09-05T09:07:06.565946Z"
    },
    "papermill": {
     "duration": 0.012998,
     "end_time": "2024-09-05T09:07:06.566704",
     "exception": false,
     "start_time": "2024-09-05T09:07:06.553706",
     "status": "completed"
    },
    "tags": []
   },
   "outputs": [
    {
     "name": "stdout",
     "output_type": "stream",
     "text": [
      "\\begin{tabular}{lrrrrrrrrr}\n",
      " & \\textbf{open proposals} & \\textbf{votes in open proposals (train)} & \\textbf{users in open proposals (train)} & \\textbf{vpp in open proposals (train)} & \\textbf{vpu in open proposals (train)} & \\textbf{votes in test} & \\textbf{users in test} & \\textbf{vpp test} & \\textbf{vpu test} \\\\\n",
      "fold &  &  &  &  &  &  &  &  &  \\\\\n",
      "2023-W25 & 3 & 83 & 41 & 27.67 & 2.02 & 13 & 9 & 4.33 & 1.44 \\\\\n",
      "2023-W25 & 2 & 75 & 42 & 37.50 & 1.79 & 10 & 7 & 5.00 & 1.43 \\\\\n",
      "2023-W25 & 2 & 79 & 44 & 39.50 & 1.80 & 6 & 4 & 3.00 & 1.50 \\\\\n",
      "2023-W26 & 4 & 87 & 48 & 21.75 & 1.81 & 13 & 6 & 3.25 & 2.17 \\\\\n",
      "2023-W26 & 5 & 105 & 49 & 21.00 & 2.14 & 2 & 2 & 0.40 & 1.00 \\\\\n",
      "2023-W26 & 4 & 49 & 38 & 12.25 & 1.29 & 6 & 2 & 1.50 & 3.00 \\\\\n",
      "\\end{tabular}\n",
      "\n"
     ]
    }
   ],
   "source": [
    "print(_style\n",
    "  .format_index(\"\\\\textbf{{{}}}\", escape=\"latex\", axis=1)\n",
    "  .to_latex()\n",
    ")"
   ]
  },
  {
   "cell_type": "markdown",
   "id": "71a00798",
   "metadata": {
    "papermill": {
     "duration": 0.001943,
     "end_time": "2024-09-05T09:07:06.570633",
     "exception": false,
     "start_time": "2024-09-05T09:07:06.568690",
     "status": "completed"
    },
    "tags": []
   },
   "source": [
    "## Running openpop baseline"
   ]
  },
  {
   "cell_type": "code",
   "execution_count": 9,
   "id": "14d80d8e",
   "metadata": {
    "execution": {
     "iopub.execute_input": "2024-09-05T09:07:06.575020Z",
     "iopub.status.busy": "2024-09-05T09:07:06.574928Z",
     "iopub.status.idle": "2024-09-05T09:08:15.276075Z",
     "shell.execute_reply": "2024-09-05T09:08:15.275860Z"
    },
    "papermill": {
     "duration": 68.704216,
     "end_time": "2024-09-05T09:08:15.276793",
     "exception": false,
     "start_time": "2024-09-05T09:07:06.572577",
     "status": "completed"
    },
    "tags": []
   },
   "outputs": [
    {
     "data": {
      "application/vnd.jupyter.widget-view+json": {
       "model_id": "8ad73c6eb19f4755ac64a93227fe2229",
       "version_major": 2,
       "version_minor": 0
      },
      "text/plain": [
       "  0%|          | 0/355 [00:00<?, ?it/s]"
      ]
     },
     "metadata": {},
     "output_type": "display_data"
    },
    {
     "name": "stderr",
     "output_type": "stream",
     "text": [
      "Warning, empty test fold 0 (2021-07-22 00:00:00), all ok since 0 folds ago\n",
      "Warning, empty test fold 1 (2021-07-24 00:00:00), all ok since 1 folds ago\n"
     ]
    },
    {
     "name": "stderr",
     "output_type": "stream",
     "text": [
      "Warning, empty test fold 2 (2021-07-26 00:00:00), all ok since 1 folds ago\n",
      "Warning, empty test fold 3 (2021-07-28 00:00:00), all ok since 1 folds ago\n"
     ]
    },
    {
     "name": "stderr",
     "output_type": "stream",
     "text": [
      "Warning, empty test fold 4 (2021-07-30 00:00:00), all ok since 1 folds ago\n",
      "Warning, empty test fold 5 (2021-08-01 00:00:00), all ok since 1 folds ago\n"
     ]
    },
    {
     "name": "stderr",
     "output_type": "stream",
     "text": [
      "Warning, empty test fold 6 (2021-08-03 00:00:00), all ok since 1 folds ago\n",
      "Warning, empty test fold 7 (2021-08-05 00:00:00), all ok since 1 folds ago\n"
     ]
    },
    {
     "name": "stderr",
     "output_type": "stream",
     "text": [
      "Warning, empty test fold 8 (2021-08-07 00:00:00), all ok since 1 folds ago\n",
      "Warning, empty test fold 9 (2021-08-09 00:00:00), all ok since 1 folds ago\n"
     ]
    },
    {
     "name": "stderr",
     "output_type": "stream",
     "text": [
      "Warning, test fold 10 (2021-08-11 00:00:00) with less than 5 open proposals (3). all ok since 1 folds ago\n"
     ]
    },
    {
     "name": "stderr",
     "output_type": "stream",
     "text": [
      "Warning, empty test fold 11 (2021-08-13 00:00:00), all ok since 2 folds ago\n",
      "Warning, empty test fold 12 (2021-08-15 00:00:00), all ok since 1 folds ago\n"
     ]
    },
    {
     "name": "stderr",
     "output_type": "stream",
     "text": [
      "Warning, empty test fold 13 (2021-08-17 00:00:00), all ok since 1 folds ago\n",
      "Warning, empty test fold 14 (2021-08-19 00:00:00), all ok since 1 folds ago\n"
     ]
    },
    {
     "name": "stderr",
     "output_type": "stream",
     "text": [
      "Warning, empty test fold 15 (2021-08-21 00:00:00), all ok since 1 folds ago\n",
      "Warning, empty test fold 16 (2021-08-23 00:00:00), all ok since 1 folds ago\n"
     ]
    },
    {
     "name": "stderr",
     "output_type": "stream",
     "text": [
      "Warning, empty test fold 17 (2021-08-25 00:00:00), all ok since 1 folds ago\n",
      "Warning, empty test fold 18 (2021-08-27 00:00:00), all ok since 1 folds ago\n"
     ]
    },
    {
     "name": "stderr",
     "output_type": "stream",
     "text": [
      "Warning, empty test fold 19 (2021-08-29 00:00:00), all ok since 1 folds ago\n",
      "Warning, empty test fold 20 (2021-08-31 00:00:00), all ok since 1 folds ago\n"
     ]
    },
    {
     "name": "stderr",
     "output_type": "stream",
     "text": [
      "Warning, empty test fold 21 (2021-09-02 00:00:00), all ok since 1 folds ago\n",
      "Warning, empty test fold 22 (2021-09-04 00:00:00), all ok since 1 folds ago\n"
     ]
    },
    {
     "name": "stderr",
     "output_type": "stream",
     "text": [
      "Warning, empty test fold 23 (2021-09-06 00:00:00), all ok since 1 folds ago\n",
      "Warning, empty test fold 24 (2021-09-08 00:00:00), all ok since 1 folds ago\n"
     ]
    },
    {
     "name": "stderr",
     "output_type": "stream",
     "text": [
      "Warning, empty test fold 25 (2021-09-10 00:00:00), all ok since 1 folds ago\n",
      "Warning, empty test fold 26 (2021-09-12 00:00:00), all ok since 1 folds ago\n"
     ]
    },
    {
     "name": "stderr",
     "output_type": "stream",
     "text": [
      "Warning, empty test fold 27 (2021-09-14 00:00:00), all ok since 1 folds ago\n",
      "Warning, empty test fold 28 (2021-09-16 00:00:00), all ok since 1 folds ago\n"
     ]
    },
    {
     "name": "stderr",
     "output_type": "stream",
     "text": [
      "Warning, empty test fold 29 (2021-09-18 00:00:00), all ok since 1 folds ago\n",
      "Warning, empty test fold 30 (2021-09-20 00:00:00), all ok since 1 folds ago\n"
     ]
    },
    {
     "name": "stderr",
     "output_type": "stream",
     "text": [
      "Warning, empty test fold 31 (2021-09-22 00:00:00), all ok since 1 folds ago\n",
      "Warning, empty test fold 32 (2021-09-24 00:00:00), all ok since 1 folds ago\n"
     ]
    },
    {
     "name": "stderr",
     "output_type": "stream",
     "text": [
      "Warning, empty test fold 33 (2021-09-26 00:00:00), all ok since 1 folds ago\n",
      "Warning, empty test fold 34 (2021-09-28 00:00:00), all ok since 1 folds ago\n"
     ]
    },
    {
     "name": "stderr",
     "output_type": "stream",
     "text": [
      "Warning, empty test fold 35 (2021-09-30 00:00:00), all ok since 1 folds ago\n",
      "Warning, empty test fold 36 (2021-10-02 00:00:00), all ok since 1 folds ago\n"
     ]
    },
    {
     "name": "stderr",
     "output_type": "stream",
     "text": [
      "Warning, empty test fold 37 (2021-10-04 00:00:00), all ok since 1 folds ago\n",
      "Warning, empty test fold 38 (2021-10-06 00:00:00), all ok since 1 folds ago\n"
     ]
    },
    {
     "name": "stderr",
     "output_type": "stream",
     "text": [
      "Warning, empty test fold 39 (2021-10-08 00:00:00), all ok since 1 folds ago\n",
      "Warning, test fold 40 (2021-10-10 00:00:00) with less than 5 open proposals (1). all ok since 1 folds ago\n"
     ]
    },
    {
     "name": "stderr",
     "output_type": "stream",
     "text": [
      "Warning, test fold 41 (2021-10-12 00:00:00) with less than 5 open proposals (2). all ok since 1 folds ago\n"
     ]
    },
    {
     "name": "stderr",
     "output_type": "stream",
     "text": [
      "Warning, test fold 42 (2021-10-14 00:00:00) with less than 5 open proposals (2). all ok since 1 folds ago\n"
     ]
    },
    {
     "name": "stderr",
     "output_type": "stream",
     "text": [
      "Warning, test fold 43 (2021-10-16 00:00:00) with less than 5 open proposals (2). all ok since 1 folds ago\n"
     ]
    },
    {
     "name": "stderr",
     "output_type": "stream",
     "text": [
      "Warning, test fold 44 (2021-10-18 00:00:00) with less than 5 open proposals (2). all ok since 1 folds ago\n"
     ]
    },
    {
     "name": "stderr",
     "output_type": "stream",
     "text": [
      "Warning, test fold 45 (2021-10-20 00:00:00) with less than 5 open proposals (2). all ok since 1 folds ago\n"
     ]
    },
    {
     "name": "stderr",
     "output_type": "stream",
     "text": [
      "Warning, test fold 46 (2021-10-22 00:00:00) with less than 5 open proposals (2). all ok since 1 folds ago\n"
     ]
    },
    {
     "name": "stderr",
     "output_type": "stream",
     "text": [
      "Warning, test fold 47 (2021-10-24 00:00:00) with less than 5 open proposals (2). all ok since 1 folds ago\n"
     ]
    },
    {
     "name": "stderr",
     "output_type": "stream",
     "text": [
      "Warning, test fold 48 (2021-10-26 00:00:00) with less than 5 open proposals (2). all ok since 1 folds ago\n"
     ]
    },
    {
     "name": "stderr",
     "output_type": "stream",
     "text": [
      "Warning, test fold 82 (2022-01-02 00:00:00) with less than 5 open proposals (4). all ok since 34 folds ago\n"
     ]
    },
    {
     "name": "stderr",
     "output_type": "stream",
     "text": [
      "Warning, empty test fold 96 (2022-01-30 00:00:00), all ok since 57 folds ago\n",
      "Warning, empty test fold 97 (2022-02-01 00:00:00), all ok since 1 folds ago\n"
     ]
    },
    {
     "name": "stderr",
     "output_type": "stream",
     "text": [
      "Warning, empty test fold 98 (2022-02-03 00:00:00), all ok since 1 folds ago\n",
      "Warning, empty test fold 99 (2022-02-05 00:00:00), all ok since 1 folds ago\n"
     ]
    },
    {
     "name": "stderr",
     "output_type": "stream",
     "text": [
      "Warning, empty test fold 100 (2022-02-07 00:00:00), all ok since 1 folds ago\n",
      "Warning, empty test fold 101 (2022-02-09 00:00:00), all ok since 1 folds ago\n"
     ]
    },
    {
     "name": "stderr",
     "output_type": "stream",
     "text": [
      "Warning, empty test fold 102 (2022-02-11 00:00:00), all ok since 1 folds ago\n",
      "Warning, empty test fold 103 (2022-02-13 00:00:00), all ok since 1 folds ago\n"
     ]
    },
    {
     "name": "stderr",
     "output_type": "stream",
     "text": [
      "Warning, empty test fold 104 (2022-02-15 00:00:00), all ok since 1 folds ago\n",
      "Warning, empty test fold 105 (2022-02-17 00:00:00), all ok since 1 folds ago\n"
     ]
    },
    {
     "name": "stderr",
     "output_type": "stream",
     "text": [
      "Warning, empty test fold 106 (2022-02-19 00:00:00), all ok since 1 folds ago\n",
      "Warning, empty test fold 107 (2022-02-21 00:00:00), all ok since 1 folds ago\n"
     ]
    },
    {
     "name": "stderr",
     "output_type": "stream",
     "text": [
      "Warning, test fold 108 (2022-02-23 00:00:00) with less than 5 open proposals (2). all ok since 1 folds ago\n"
     ]
    },
    {
     "name": "stderr",
     "output_type": "stream",
     "text": [
      "Warning, empty test fold 109 (2022-02-25 00:00:00), all ok since 2 folds ago\n",
      "Warning, empty test fold 110 (2022-02-27 00:00:00), all ok since 1 folds ago\n"
     ]
    },
    {
     "name": "stderr",
     "output_type": "stream",
     "text": [
      "Warning, empty test fold 111 (2022-03-01 00:00:00), all ok since 1 folds ago\n",
      "Warning, empty test fold 112 (2022-03-03 00:00:00), all ok since 1 folds ago\n"
     ]
    },
    {
     "name": "stderr",
     "output_type": "stream",
     "text": [
      "Warning, empty test fold 113 (2022-03-05 00:00:00), all ok since 1 folds ago\n",
      "Warning, empty test fold 114 (2022-03-07 00:00:00), all ok since 1 folds ago\n"
     ]
    },
    {
     "name": "stderr",
     "output_type": "stream",
     "text": [
      "Warning, empty test fold 115 (2022-03-09 00:00:00), all ok since 1 folds ago\n",
      "Warning, empty test fold 116 (2022-03-11 00:00:00), all ok since 1 folds ago\n"
     ]
    },
    {
     "name": "stderr",
     "output_type": "stream",
     "text": [
      "Warning, empty test fold 117 (2022-03-13 00:00:00), all ok since 1 folds ago\n",
      "Warning, empty test fold 118 (2022-03-15 00:00:00), all ok since 1 folds ago\n"
     ]
    },
    {
     "name": "stderr",
     "output_type": "stream",
     "text": [
      "Warning, empty test fold 119 (2022-03-17 00:00:00), all ok since 1 folds ago\n",
      "Warning, empty test fold 120 (2022-03-19 00:00:00), all ok since 1 folds ago\n"
     ]
    },
    {
     "name": "stderr",
     "output_type": "stream",
     "text": [
      "Warning, empty test fold 121 (2022-03-21 00:00:00), all ok since 1 folds ago\n",
      "Warning, empty test fold 122 (2022-03-23 00:00:00), all ok since 1 folds ago\n"
     ]
    },
    {
     "name": "stderr",
     "output_type": "stream",
     "text": [
      "Warning, test fold 123 (2022-03-25 00:00:00) with less than 5 open proposals (1). all ok since 1 folds ago\n"
     ]
    },
    {
     "name": "stderr",
     "output_type": "stream",
     "text": [
      "Warning, test fold 124 (2022-03-27 00:00:00) with less than 5 open proposals (1). all ok since 1 folds ago\n"
     ]
    },
    {
     "name": "stderr",
     "output_type": "stream",
     "text": [
      "Warning, test fold 125 (2022-03-29 00:00:00) with less than 5 open proposals (1). all ok since 1 folds ago\n"
     ]
    },
    {
     "name": "stderr",
     "output_type": "stream",
     "text": [
      "Warning, empty test fold 126 (2022-03-31 00:00:00), all ok since 4 folds ago\n",
      "Warning, empty test fold 127 (2022-04-02 00:00:00), all ok since 1 folds ago\n"
     ]
    },
    {
     "name": "stderr",
     "output_type": "stream",
     "text": [
      "Warning, empty test fold 128 (2022-04-04 00:00:00), all ok since 1 folds ago\n",
      "Warning, empty test fold 129 (2022-04-06 00:00:00), all ok since 1 folds ago\n"
     ]
    },
    {
     "name": "stderr",
     "output_type": "stream",
     "text": [
      "Warning, empty test fold 130 (2022-04-08 00:00:00), all ok since 1 folds ago\n",
      "Warning, empty test fold 131 (2022-04-10 00:00:00), all ok since 1 folds ago\n"
     ]
    },
    {
     "name": "stderr",
     "output_type": "stream",
     "text": [
      "Warning, empty test fold 132 (2022-04-12 00:00:00), all ok since 1 folds ago\n",
      "Warning, empty test fold 133 (2022-04-14 00:00:00), all ok since 1 folds ago\n"
     ]
    },
    {
     "name": "stderr",
     "output_type": "stream",
     "text": [
      "Warning, empty test fold 134 (2022-04-16 00:00:00), all ok since 1 folds ago\n",
      "Warning, empty test fold 135 (2022-04-18 00:00:00), all ok since 1 folds ago\n"
     ]
    },
    {
     "name": "stderr",
     "output_type": "stream",
     "text": [
      "Warning, empty test fold 136 (2022-04-20 00:00:00), all ok since 1 folds ago\n",
      "Warning, empty test fold 137 (2022-04-22 00:00:00), all ok since 1 folds ago\n"
     ]
    },
    {
     "name": "stderr",
     "output_type": "stream",
     "text": [
      "Warning, empty test fold 138 (2022-04-24 00:00:00), all ok since 1 folds ago\n",
      "Warning, empty test fold 139 (2022-04-26 00:00:00), all ok since 1 folds ago\n"
     ]
    },
    {
     "name": "stderr",
     "output_type": "stream",
     "text": [
      "Warning, empty test fold 140 (2022-04-28 00:00:00), all ok since 1 folds ago\n",
      "Warning, empty test fold 141 (2022-04-30 00:00:00), all ok since 1 folds ago\n"
     ]
    },
    {
     "name": "stderr",
     "output_type": "stream",
     "text": [
      "Warning, empty test fold 142 (2022-05-02 00:00:00), all ok since 1 folds ago\n",
      "Warning, empty test fold 143 (2022-05-04 00:00:00), all ok since 1 folds ago\n"
     ]
    },
    {
     "name": "stderr",
     "output_type": "stream",
     "text": [
      "Warning, empty test fold 144 (2022-05-06 00:00:00), all ok since 1 folds ago\n",
      "Warning, test fold 145 (2022-05-08 00:00:00) with less than 5 open proposals (1). all ok since 1 folds ago\n"
     ]
    },
    {
     "name": "stderr",
     "output_type": "stream",
     "text": [
      "Warning, test fold 146 (2022-05-10 00:00:00) with less than 5 open proposals (1). all ok since 1 folds ago\n"
     ]
    },
    {
     "name": "stderr",
     "output_type": "stream",
     "text": [
      "Warning, test fold 147 (2022-05-12 00:00:00) with less than 5 open proposals (1). all ok since 1 folds ago\n"
     ]
    },
    {
     "name": "stderr",
     "output_type": "stream",
     "text": [
      "Warning, empty test fold 148 (2022-05-14 00:00:00), all ok since 4 folds ago\n",
      "Warning, empty test fold 149 (2022-05-16 00:00:00), all ok since 1 folds ago\n"
     ]
    },
    {
     "name": "stderr",
     "output_type": "stream",
     "text": [
      "Warning, empty test fold 150 (2022-05-18 00:00:00), all ok since 1 folds ago\n",
      "Warning, empty test fold 151 (2022-05-20 00:00:00), all ok since 1 folds ago\n"
     ]
    },
    {
     "name": "stderr",
     "output_type": "stream",
     "text": [
      "Warning, empty test fold 152 (2022-05-22 00:00:00), all ok since 1 folds ago\n",
      "Warning, empty test fold 153 (2022-05-24 00:00:00), all ok since 1 folds ago\n"
     ]
    },
    {
     "name": "stderr",
     "output_type": "stream",
     "text": [
      "Warning, empty test fold 154 (2022-05-26 00:00:00), all ok since 1 folds ago\n",
      "Warning, empty test fold 155 (2022-05-28 00:00:00), all ok since 1 folds ago\n"
     ]
    },
    {
     "name": "stderr",
     "output_type": "stream",
     "text": [
      "Warning, empty test fold 156 (2022-05-30 00:00:00), all ok since 1 folds ago\n",
      "Warning, empty test fold 157 (2022-06-01 00:00:00), all ok since 1 folds ago\n"
     ]
    },
    {
     "name": "stderr",
     "output_type": "stream",
     "text": [
      "Warning, empty test fold 158 (2022-06-03 00:00:00), all ok since 1 folds ago\n",
      "Warning, test fold 159 (2022-06-05 00:00:00) with less than 5 open proposals (1). all ok since 1 folds ago\n"
     ]
    },
    {
     "name": "stderr",
     "output_type": "stream",
     "text": [
      "Warning, test fold 160 (2022-06-07 00:00:00) with less than 5 open proposals (2). all ok since 1 folds ago\n"
     ]
    },
    {
     "name": "stderr",
     "output_type": "stream",
     "text": [
      "Warning, test fold 161 (2022-06-09 00:00:00) with less than 5 open proposals (2). all ok since 1 folds ago\n"
     ]
    },
    {
     "name": "stderr",
     "output_type": "stream",
     "text": [
      "Warning, empty test fold 162 (2022-06-11 00:00:00), all ok since 4 folds ago\n",
      "Warning, test fold 163 (2022-06-13 00:00:00) with less than 5 open proposals (1). all ok since 1 folds ago\n"
     ]
    },
    {
     "name": "stderr",
     "output_type": "stream",
     "text": [
      "Warning, test fold 164 (2022-06-15 00:00:00) with less than 5 open proposals (2). all ok since 1 folds ago\n"
     ]
    },
    {
     "name": "stderr",
     "output_type": "stream",
     "text": [
      "Warning, test fold 165 (2022-06-17 00:00:00) with less than 5 open proposals (1). all ok since 1 folds ago\n"
     ]
    },
    {
     "name": "stderr",
     "output_type": "stream",
     "text": [
      "Warning, test fold 166 (2022-06-19 00:00:00) with less than 5 open proposals (1). all ok since 1 folds ago\n"
     ]
    },
    {
     "name": "stderr",
     "output_type": "stream",
     "text": [
      "Warning, test fold 167 (2022-06-21 00:00:00) with less than 5 open proposals (1). all ok since 1 folds ago\n"
     ]
    },
    {
     "name": "stderr",
     "output_type": "stream",
     "text": [
      "Warning, test fold 168 (2022-06-23 00:00:00) with less than 5 open proposals (1). all ok since 1 folds ago\n"
     ]
    },
    {
     "name": "stderr",
     "output_type": "stream",
     "text": [
      "Warning, empty test fold 169 (2022-06-25 00:00:00), all ok since 7 folds ago\n",
      "Warning, empty test fold 170 (2022-06-27 00:00:00), all ok since 1 folds ago\n"
     ]
    },
    {
     "name": "stderr",
     "output_type": "stream",
     "text": [
      "Warning, empty test fold 171 (2022-06-29 00:00:00), all ok since 1 folds ago\n",
      "Warning, empty test fold 172 (2022-07-01 00:00:00), all ok since 1 folds ago\n"
     ]
    },
    {
     "name": "stderr",
     "output_type": "stream",
     "text": [
      "Warning, empty test fold 173 (2022-07-03 00:00:00), all ok since 1 folds ago\n",
      "Warning, empty test fold 174 (2022-07-05 00:00:00), all ok since 1 folds ago\n"
     ]
    },
    {
     "name": "stderr",
     "output_type": "stream",
     "text": [
      "Warning, empty test fold 175 (2022-07-07 00:00:00), all ok since 1 folds ago\n",
      "Warning, empty test fold 176 (2022-07-09 00:00:00), all ok since 1 folds ago\n"
     ]
    },
    {
     "name": "stderr",
     "output_type": "stream",
     "text": [
      "Warning, empty test fold 177 (2022-07-11 00:00:00), all ok since 1 folds ago\n",
      "Warning, empty test fold 178 (2022-07-13 00:00:00), all ok since 1 folds ago\n"
     ]
    },
    {
     "name": "stderr",
     "output_type": "stream",
     "text": [
      "Warning, test fold 179 (2022-07-15 00:00:00) with less than 5 open proposals (1). all ok since 1 folds ago\n"
     ]
    },
    {
     "name": "stderr",
     "output_type": "stream",
     "text": [
      "Warning, test fold 180 (2022-07-17 00:00:00) with less than 5 open proposals (1). all ok since 1 folds ago\n"
     ]
    },
    {
     "name": "stderr",
     "output_type": "stream",
     "text": [
      "Warning, test fold 181 (2022-07-19 00:00:00) with less than 5 open proposals (1). all ok since 1 folds ago\n"
     ]
    },
    {
     "name": "stderr",
     "output_type": "stream",
     "text": [
      "Warning, test fold 182 (2022-07-21 00:00:00) with less than 5 open proposals (1). all ok since 1 folds ago\n"
     ]
    },
    {
     "name": "stderr",
     "output_type": "stream",
     "text": [
      "Warning, test fold 183 (2022-07-23 00:00:00) with less than 5 open proposals (1). all ok since 1 folds ago\n"
     ]
    },
    {
     "name": "stderr",
     "output_type": "stream",
     "text": [
      "Warning, test fold 184 (2022-07-25 00:00:00) with less than 5 open proposals (1). all ok since 1 folds ago\n"
     ]
    },
    {
     "name": "stderr",
     "output_type": "stream",
     "text": [
      "Warning, test fold 185 (2022-07-27 00:00:00) with less than 5 open proposals (1). all ok since 1 folds ago\n"
     ]
    },
    {
     "name": "stderr",
     "output_type": "stream",
     "text": [
      "Warning, empty test fold 186 (2022-07-29 00:00:00), all ok since 8 folds ago\n",
      "Warning, empty test fold 187 (2022-07-31 00:00:00), all ok since 1 folds ago\n"
     ]
    },
    {
     "name": "stderr",
     "output_type": "stream",
     "text": [
      "Warning, empty test fold 188 (2022-08-02 00:00:00), all ok since 1 folds ago\n",
      "Warning, empty test fold 189 (2022-08-04 00:00:00), all ok since 1 folds ago\n"
     ]
    },
    {
     "name": "stderr",
     "output_type": "stream",
     "text": [
      "Warning, empty test fold 190 (2022-08-06 00:00:00), all ok since 1 folds ago\n",
      "Warning, empty test fold 191 (2022-08-08 00:00:00), all ok since 1 folds ago\n"
     ]
    },
    {
     "name": "stderr",
     "output_type": "stream",
     "text": [
      "Warning, empty test fold 192 (2022-08-10 00:00:00), all ok since 1 folds ago\n",
      "Warning, empty test fold 193 (2022-08-12 00:00:00), all ok since 1 folds ago\n"
     ]
    },
    {
     "name": "stderr",
     "output_type": "stream",
     "text": [
      "Warning, empty test fold 194 (2022-08-14 00:00:00), all ok since 1 folds ago\n",
      "Warning, empty test fold 195 (2022-08-16 00:00:00), all ok since 1 folds ago\n"
     ]
    },
    {
     "name": "stderr",
     "output_type": "stream",
     "text": [
      "Warning, empty test fold 196 (2022-08-18 00:00:00), all ok since 1 folds ago\n",
      "Warning, empty test fold 197 (2022-08-20 00:00:00), all ok since 1 folds ago\n"
     ]
    },
    {
     "name": "stderr",
     "output_type": "stream",
     "text": [
      "Warning, empty test fold 198 (2022-08-22 00:00:00), all ok since 1 folds ago\n",
      "Warning, empty test fold 199 (2022-08-24 00:00:00), all ok since 1 folds ago\n"
     ]
    },
    {
     "name": "stderr",
     "output_type": "stream",
     "text": [
      "Warning, empty test fold 200 (2022-08-26 00:00:00), all ok since 1 folds ago\n",
      "Warning, test fold 201 (2022-08-28 00:00:00) with less than 5 open proposals (1). all ok since 1 folds ago\n"
     ]
    },
    {
     "name": "stderr",
     "output_type": "stream",
     "text": [
      "Warning, empty test fold 202 (2022-08-30 00:00:00), all ok since 2 folds ago\n",
      "Warning, empty test fold 203 (2022-09-01 00:00:00), all ok since 1 folds ago\n"
     ]
    },
    {
     "name": "stderr",
     "output_type": "stream",
     "text": [
      "Warning, empty test fold 204 (2022-09-03 00:00:00), all ok since 1 folds ago\n",
      "Warning, empty test fold 205 (2022-09-05 00:00:00), all ok since 1 folds ago\n"
     ]
    },
    {
     "name": "stderr",
     "output_type": "stream",
     "text": [
      "Warning, empty test fold 206 (2022-09-07 00:00:00), all ok since 1 folds ago\n",
      "Warning, empty test fold 207 (2022-09-09 00:00:00), all ok since 1 folds ago\n"
     ]
    },
    {
     "name": "stderr",
     "output_type": "stream",
     "text": [
      "Warning, empty test fold 208 (2022-09-11 00:00:00), all ok since 1 folds ago\n",
      "Warning, empty test fold 209 (2022-09-13 00:00:00), all ok since 1 folds ago\n"
     ]
    },
    {
     "name": "stderr",
     "output_type": "stream",
     "text": [
      "Warning, empty test fold 210 (2022-09-15 00:00:00), all ok since 1 folds ago\n",
      "Warning, empty test fold 211 (2022-09-17 00:00:00), all ok since 1 folds ago\n"
     ]
    },
    {
     "name": "stderr",
     "output_type": "stream",
     "text": [
      "Warning, empty test fold 212 (2022-09-19 00:00:00), all ok since 1 folds ago\n",
      "Warning, empty test fold 213 (2022-09-21 00:00:00), all ok since 1 folds ago\n"
     ]
    },
    {
     "name": "stderr",
     "output_type": "stream",
     "text": [
      "Warning, empty test fold 214 (2022-09-23 00:00:00), all ok since 1 folds ago\n",
      "Warning, empty test fold 215 (2022-09-25 00:00:00), all ok since 1 folds ago\n"
     ]
    },
    {
     "name": "stderr",
     "output_type": "stream",
     "text": [
      "Warning, empty test fold 216 (2022-09-27 00:00:00), all ok since 1 folds ago\n",
      "Warning, empty test fold 217 (2022-09-29 00:00:00), all ok since 1 folds ago\n"
     ]
    },
    {
     "name": "stderr",
     "output_type": "stream",
     "text": [
      "Warning, empty test fold 218 (2022-10-01 00:00:00), all ok since 1 folds ago\n",
      "Warning, empty test fold 219 (2022-10-03 00:00:00), all ok since 1 folds ago\n"
     ]
    },
    {
     "name": "stderr",
     "output_type": "stream",
     "text": [
      "Warning, empty test fold 220 (2022-10-05 00:00:00), all ok since 1 folds ago\n",
      "Warning, empty test fold 221 (2022-10-07 00:00:00), all ok since 1 folds ago\n"
     ]
    },
    {
     "name": "stderr",
     "output_type": "stream",
     "text": [
      "Warning, empty test fold 222 (2022-10-09 00:00:00), all ok since 1 folds ago\n",
      "Warning, empty test fold 223 (2022-10-11 00:00:00), all ok since 1 folds ago\n"
     ]
    },
    {
     "name": "stderr",
     "output_type": "stream",
     "text": [
      "Warning, empty test fold 224 (2022-10-13 00:00:00), all ok since 1 folds ago\n",
      "Warning, empty test fold 225 (2022-10-15 00:00:00), all ok since 1 folds ago\n"
     ]
    },
    {
     "name": "stderr",
     "output_type": "stream",
     "text": [
      "Warning, empty test fold 226 (2022-10-17 00:00:00), all ok since 1 folds ago\n",
      "Warning, empty test fold 227 (2022-10-19 00:00:00), all ok since 1 folds ago\n"
     ]
    },
    {
     "name": "stderr",
     "output_type": "stream",
     "text": [
      "Warning, empty test fold 228 (2022-10-21 00:00:00), all ok since 1 folds ago\n",
      "Warning, empty test fold 229 (2022-10-23 00:00:00), all ok since 1 folds ago\n"
     ]
    },
    {
     "name": "stderr",
     "output_type": "stream",
     "text": [
      "Warning, empty test fold 230 (2022-10-25 00:00:00), all ok since 1 folds ago\n",
      "Warning, test fold 231 (2022-10-27 00:00:00) with less than 5 open proposals (1). all ok since 1 folds ago\n"
     ]
    },
    {
     "name": "stderr",
     "output_type": "stream",
     "text": [
      "Warning, empty test fold 232 (2022-10-29 00:00:00), all ok since 2 folds ago\n",
      "Warning, test fold 233 (2022-10-31 00:00:00) with less than 5 open proposals (1). all ok since 1 folds ago\n"
     ]
    },
    {
     "name": "stderr",
     "output_type": "stream",
     "text": [
      "Warning, test fold 234 (2022-11-02 00:00:00) with less than 5 open proposals (1). all ok since 1 folds ago\n"
     ]
    },
    {
     "name": "stderr",
     "output_type": "stream",
     "text": [
      "Warning, empty test fold 235 (2022-11-04 00:00:00), all ok since 3 folds ago\n",
      "Warning, empty test fold 236 (2022-11-06 00:00:00), all ok since 1 folds ago\n"
     ]
    },
    {
     "name": "stderr",
     "output_type": "stream",
     "text": [
      "Warning, empty test fold 237 (2022-11-08 00:00:00), all ok since 1 folds ago\n",
      "Warning, test fold 238 (2022-11-10 00:00:00) with less than 5 open proposals (1). all ok since 1 folds ago\n"
     ]
    },
    {
     "name": "stderr",
     "output_type": "stream",
     "text": [
      "Warning, empty test fold 239 (2022-11-12 00:00:00), all ok since 2 folds ago\n",
      "Warning, empty test fold 240 (2022-11-14 00:00:00), all ok since 1 folds ago\n"
     ]
    },
    {
     "name": "stderr",
     "output_type": "stream",
     "text": [
      "Warning, empty test fold 241 (2022-11-16 00:00:00), all ok since 1 folds ago\n",
      "Warning, test fold 242 (2022-11-18 00:00:00) with less than 5 open proposals (1). all ok since 1 folds ago\n"
     ]
    },
    {
     "name": "stderr",
     "output_type": "stream",
     "text": [
      "Warning, test fold 243 (2022-11-20 00:00:00) with less than 5 open proposals (3). all ok since 1 folds ago\n"
     ]
    },
    {
     "name": "stderr",
     "output_type": "stream",
     "text": [
      "Warning, test fold 244 (2022-11-22 00:00:00) with less than 5 open proposals (2). all ok since 1 folds ago\n"
     ]
    },
    {
     "name": "stderr",
     "output_type": "stream",
     "text": [
      "Warning, test fold 245 (2022-11-24 00:00:00) with less than 5 open proposals (1). all ok since 1 folds ago\n"
     ]
    },
    {
     "name": "stderr",
     "output_type": "stream",
     "text": [
      "Warning, test fold 246 (2022-11-26 00:00:00) with less than 5 open proposals (1). all ok since 1 folds ago\n"
     ]
    },
    {
     "name": "stderr",
     "output_type": "stream",
     "text": [
      "Warning, test fold 247 (2022-11-28 00:00:00) with less than 5 open proposals (2). all ok since 1 folds ago\n"
     ]
    },
    {
     "name": "stderr",
     "output_type": "stream",
     "text": [
      "Warning, test fold 248 (2022-11-30 00:00:00) with less than 5 open proposals (2). all ok since 1 folds ago\n"
     ]
    },
    {
     "name": "stderr",
     "output_type": "stream",
     "text": [
      "Warning, empty test fold 249 (2022-12-02 00:00:00), all ok since 8 folds ago\n",
      "Warning, empty test fold 250 (2022-12-04 00:00:00), all ok since 1 folds ago\n"
     ]
    },
    {
     "name": "stderr",
     "output_type": "stream",
     "text": [
      "Warning, empty test fold 251 (2022-12-06 00:00:00), all ok since 1 folds ago\n",
      "Warning, empty test fold 252 (2022-12-08 00:00:00), all ok since 1 folds ago\n"
     ]
    },
    {
     "name": "stderr",
     "output_type": "stream",
     "text": [
      "Warning, empty test fold 253 (2022-12-10 00:00:00), all ok since 1 folds ago\n",
      "Warning, empty test fold 254 (2022-12-12 00:00:00), all ok since 1 folds ago\n"
     ]
    },
    {
     "name": "stderr",
     "output_type": "stream",
     "text": [
      "Warning, empty test fold 255 (2022-12-14 00:00:00), all ok since 1 folds ago\n",
      "Warning, empty test fold 256 (2022-12-16 00:00:00), all ok since 1 folds ago\n"
     ]
    },
    {
     "name": "stderr",
     "output_type": "stream",
     "text": [
      "Warning, empty test fold 257 (2022-12-18 00:00:00), all ok since 1 folds ago\n",
      "Warning, empty test fold 258 (2022-12-20 00:00:00), all ok since 1 folds ago\n"
     ]
    },
    {
     "name": "stderr",
     "output_type": "stream",
     "text": [
      "Warning, empty test fold 259 (2022-12-22 00:00:00), all ok since 1 folds ago\n",
      "Warning, empty test fold 260 (2022-12-24 00:00:00), all ok since 1 folds ago\n"
     ]
    },
    {
     "name": "stderr",
     "output_type": "stream",
     "text": [
      "Warning, empty test fold 261 (2022-12-26 00:00:00), all ok since 1 folds ago\n",
      "Warning, empty test fold 262 (2022-12-28 00:00:00), all ok since 1 folds ago\n"
     ]
    },
    {
     "name": "stderr",
     "output_type": "stream",
     "text": [
      "Warning, empty test fold 263 (2022-12-30 00:00:00), all ok since 1 folds ago\n",
      "Warning, empty test fold 264 (2023-01-01 00:00:00), all ok since 1 folds ago\n"
     ]
    },
    {
     "name": "stderr",
     "output_type": "stream",
     "text": [
      "Warning, empty test fold 265 (2023-01-03 00:00:00), all ok since 1 folds ago\n",
      "Warning, empty test fold 266 (2023-01-05 00:00:00), all ok since 1 folds ago\n"
     ]
    },
    {
     "name": "stderr",
     "output_type": "stream",
     "text": [
      "Warning, empty test fold 267 (2023-01-07 00:00:00), all ok since 1 folds ago\n",
      "Warning, empty test fold 268 (2023-01-09 00:00:00), all ok since 1 folds ago\n"
     ]
    },
    {
     "name": "stderr",
     "output_type": "stream",
     "text": [
      "Warning, empty test fold 269 (2023-01-11 00:00:00), all ok since 1 folds ago\n",
      "Warning, empty test fold 270 (2023-01-13 00:00:00), all ok since 1 folds ago\n"
     ]
    },
    {
     "name": "stderr",
     "output_type": "stream",
     "text": [
      "Warning, empty test fold 271 (2023-01-15 00:00:00), all ok since 1 folds ago\n",
      "Warning, empty test fold 272 (2023-01-17 00:00:00), all ok since 1 folds ago\n"
     ]
    },
    {
     "name": "stderr",
     "output_type": "stream",
     "text": [
      "Warning, empty test fold 273 (2023-01-19 00:00:00), all ok since 1 folds ago\n",
      "Warning, empty test fold 274 (2023-01-21 00:00:00), all ok since 1 folds ago\n"
     ]
    },
    {
     "name": "stderr",
     "output_type": "stream",
     "text": [
      "Warning, empty test fold 275 (2023-01-23 00:00:00), all ok since 1 folds ago\n",
      "Warning, test fold 276 (2023-01-25 00:00:00) with less than 5 open proposals (1). all ok since 1 folds ago\n"
     ]
    },
    {
     "name": "stderr",
     "output_type": "stream",
     "text": [
      "Warning, empty test fold 277 (2023-01-27 00:00:00), all ok since 2 folds ago\n",
      "Warning, empty test fold 278 (2023-01-29 00:00:00), all ok since 1 folds ago\n"
     ]
    },
    {
     "name": "stderr",
     "output_type": "stream",
     "text": [
      "Warning, empty test fold 279 (2023-01-31 00:00:00), all ok since 1 folds ago\n",
      "Warning, empty test fold 280 (2023-02-02 00:00:00), all ok since 1 folds ago\n"
     ]
    },
    {
     "name": "stderr",
     "output_type": "stream",
     "text": [
      "Warning, empty test fold 281 (2023-02-04 00:00:00), all ok since 1 folds ago\n",
      "Warning, empty test fold 282 (2023-02-06 00:00:00), all ok since 1 folds ago\n"
     ]
    },
    {
     "name": "stderr",
     "output_type": "stream",
     "text": [
      "Warning, empty test fold 283 (2023-02-08 00:00:00), all ok since 1 folds ago\n",
      "Warning, empty test fold 284 (2023-02-10 00:00:00), all ok since 1 folds ago\n"
     ]
    },
    {
     "name": "stderr",
     "output_type": "stream",
     "text": [
      "Warning, test fold 285 (2023-02-12 00:00:00) with less than 5 open proposals (1). all ok since 1 folds ago\n"
     ]
    },
    {
     "name": "stderr",
     "output_type": "stream",
     "text": [
      "Warning, test fold 286 (2023-02-14 00:00:00) with less than 5 open proposals (1). all ok since 1 folds ago\n"
     ]
    },
    {
     "name": "stderr",
     "output_type": "stream",
     "text": [
      "Warning, test fold 287 (2023-02-16 00:00:00) with less than 5 open proposals (1). all ok since 1 folds ago\n"
     ]
    },
    {
     "name": "stderr",
     "output_type": "stream",
     "text": [
      "Warning, test fold 288 (2023-02-18 00:00:00) with less than 5 open proposals (1). all ok since 1 folds ago\n"
     ]
    },
    {
     "name": "stderr",
     "output_type": "stream",
     "text": [
      "Warning, test fold 289 (2023-02-20 00:00:00) with less than 5 open proposals (1). all ok since 1 folds ago\n"
     ]
    },
    {
     "name": "stderr",
     "output_type": "stream",
     "text": [
      "Warning, test fold 290 (2023-02-22 00:00:00) with less than 5 open proposals (1). all ok since 1 folds ago\n"
     ]
    },
    {
     "name": "stderr",
     "output_type": "stream",
     "text": [
      "Warning, test fold 291 (2023-02-24 00:00:00) with less than 5 open proposals (1). all ok since 1 folds ago\n"
     ]
    },
    {
     "name": "stderr",
     "output_type": "stream",
     "text": [
      "Warning, test fold 292 (2023-02-26 00:00:00) with less than 5 open proposals (2). all ok since 1 folds ago\n"
     ]
    },
    {
     "name": "stderr",
     "output_type": "stream",
     "text": [
      "Warning, test fold 293 (2023-02-28 00:00:00) with less than 5 open proposals (2). all ok since 1 folds ago\n"
     ]
    },
    {
     "name": "stderr",
     "output_type": "stream",
     "text": [
      "Warning, test fold 294 (2023-03-02 00:00:00) with less than 5 open proposals (1). all ok since 1 folds ago\n"
     ]
    },
    {
     "name": "stderr",
     "output_type": "stream",
     "text": [
      "Warning, test fold 295 (2023-03-04 00:00:00) with less than 5 open proposals (1). all ok since 1 folds ago\n"
     ]
    },
    {
     "name": "stderr",
     "output_type": "stream",
     "text": [
      "Warning, test fold 296 (2023-03-06 00:00:00) with less than 5 open proposals (1). all ok since 1 folds ago\n"
     ]
    },
    {
     "name": "stderr",
     "output_type": "stream",
     "text": [
      "Warning, test fold 297 (2023-03-08 00:00:00) with less than 5 open proposals (1). all ok since 1 folds ago\n"
     ]
    },
    {
     "name": "stderr",
     "output_type": "stream",
     "text": [
      "Warning, test fold 298 (2023-03-10 00:00:00) with less than 5 open proposals (1). all ok since 1 folds ago\n"
     ]
    },
    {
     "name": "stderr",
     "output_type": "stream",
     "text": [
      "Warning, test fold 299 (2023-03-12 00:00:00) with less than 5 open proposals (1). all ok since 1 folds ago\n"
     ]
    },
    {
     "name": "stderr",
     "output_type": "stream",
     "text": [
      "Warning, test fold 300 (2023-03-14 00:00:00) with less than 5 open proposals (2). all ok since 1 folds ago\n"
     ]
    },
    {
     "name": "stderr",
     "output_type": "stream",
     "text": [
      "Warning, test fold 301 (2023-03-16 00:00:00) with less than 5 open proposals (2). all ok since 1 folds ago\n"
     ]
    },
    {
     "name": "stderr",
     "output_type": "stream",
     "text": [
      "Warning, test fold 302 (2023-03-18 00:00:00) with less than 5 open proposals (2). all ok since 1 folds ago\n"
     ]
    },
    {
     "name": "stderr",
     "output_type": "stream",
     "text": [
      "Warning, test fold 303 (2023-03-20 00:00:00) with less than 5 open proposals (1). all ok since 1 folds ago\n"
     ]
    },
    {
     "name": "stderr",
     "output_type": "stream",
     "text": [
      "Warning, test fold 304 (2023-03-22 00:00:00) with less than 5 open proposals (1). all ok since 1 folds ago\n"
     ]
    },
    {
     "name": "stderr",
     "output_type": "stream",
     "text": [
      "Warning, test fold 305 (2023-03-24 00:00:00) with less than 5 open proposals (1). all ok since 1 folds ago\n"
     ]
    },
    {
     "name": "stderr",
     "output_type": "stream",
     "text": [
      "Warning, empty test fold 306 (2023-03-26 00:00:00), all ok since 22 folds ago\n",
      "Warning, empty test fold 307 (2023-03-28 00:00:00), all ok since 1 folds ago\n"
     ]
    },
    {
     "name": "stderr",
     "output_type": "stream",
     "text": [
      "Warning, test fold 308 (2023-03-30 00:00:00) with less than 5 open proposals (1). all ok since 1 folds ago\n"
     ]
    },
    {
     "name": "stderr",
     "output_type": "stream",
     "text": [
      "Warning, empty test fold 309 (2023-04-01 00:00:00), all ok since 2 folds ago\n",
      "Warning, test fold 310 (2023-04-03 00:00:00) with less than 5 open proposals (3). all ok since 1 folds ago\n"
     ]
    },
    {
     "name": "stderr",
     "output_type": "stream",
     "text": [
      "Warning, test fold 311 (2023-04-05 00:00:00) with less than 5 open proposals (2). all ok since 1 folds ago\n"
     ]
    },
    {
     "name": "stderr",
     "output_type": "stream",
     "text": [
      "Warning, test fold 312 (2023-04-07 00:00:00) with less than 5 open proposals (2). all ok since 1 folds ago\n"
     ]
    },
    {
     "name": "stderr",
     "output_type": "stream",
     "text": [
      "Warning, test fold 313 (2023-04-09 00:00:00) with less than 5 open proposals (1). all ok since 1 folds ago\n"
     ]
    },
    {
     "name": "stderr",
     "output_type": "stream",
     "text": [
      "Warning, test fold 314 (2023-04-11 00:00:00) with less than 5 open proposals (1). all ok since 1 folds ago\n"
     ]
    },
    {
     "name": "stderr",
     "output_type": "stream",
     "text": [
      "Warning, test fold 315 (2023-04-13 00:00:00) with less than 5 open proposals (1). all ok since 1 folds ago\n"
     ]
    },
    {
     "name": "stderr",
     "output_type": "stream",
     "text": [
      "Warning, test fold 316 (2023-04-15 00:00:00) with less than 5 open proposals (1). all ok since 1 folds ago\n"
     ]
    },
    {
     "name": "stderr",
     "output_type": "stream",
     "text": [
      "Warning, test fold 317 (2023-04-17 00:00:00) with less than 5 open proposals (1). all ok since 1 folds ago\n"
     ]
    },
    {
     "name": "stderr",
     "output_type": "stream",
     "text": [
      "Warning, test fold 318 (2023-04-19 00:00:00) with less than 5 open proposals (2). all ok since 1 folds ago\n"
     ]
    },
    {
     "name": "stderr",
     "output_type": "stream",
     "text": [
      "Warning, test fold 319 (2023-04-21 00:00:00) with less than 5 open proposals (2). all ok since 1 folds ago\n"
     ]
    },
    {
     "name": "stderr",
     "output_type": "stream",
     "text": [
      "Warning, test fold 320 (2023-04-23 00:00:00) with less than 5 open proposals (2). all ok since 1 folds ago\n"
     ]
    },
    {
     "name": "stderr",
     "output_type": "stream",
     "text": [
      "Warning, test fold 321 (2023-04-25 00:00:00) with less than 5 open proposals (2). all ok since 1 folds ago\n"
     ]
    },
    {
     "name": "stderr",
     "output_type": "stream",
     "text": [
      "Warning, test fold 322 (2023-04-27 00:00:00) with less than 5 open proposals (2). all ok since 1 folds ago\n"
     ]
    },
    {
     "name": "stderr",
     "output_type": "stream",
     "text": [
      "Warning, empty test fold 323 (2023-04-29 00:00:00), all ok since 14 folds ago\n",
      "Warning, empty test fold 324 (2023-05-01 00:00:00), all ok since 1 folds ago\n"
     ]
    },
    {
     "name": "stderr",
     "output_type": "stream",
     "text": [
      "Warning, empty test fold 325 (2023-05-03 00:00:00), all ok since 1 folds ago\n",
      "Warning, empty test fold 326 (2023-05-05 00:00:00), all ok since 1 folds ago\n"
     ]
    },
    {
     "name": "stderr",
     "output_type": "stream",
     "text": [
      "Warning, empty test fold 327 (2023-05-07 00:00:00), all ok since 1 folds ago\n",
      "Warning, empty test fold 328 (2023-05-09 00:00:00), all ok since 1 folds ago\n"
     ]
    },
    {
     "name": "stderr",
     "output_type": "stream",
     "text": [
      "Warning, empty test fold 329 (2023-05-11 00:00:00), all ok since 1 folds ago\n",
      "Warning, empty test fold 330 (2023-05-13 00:00:00), all ok since 1 folds ago\n"
     ]
    },
    {
     "name": "stderr",
     "output_type": "stream",
     "text": [
      "Warning, empty test fold 331 (2023-05-15 00:00:00), all ok since 1 folds ago\n",
      "Warning, empty test fold 332 (2023-05-17 00:00:00), all ok since 1 folds ago\n"
     ]
    },
    {
     "name": "stderr",
     "output_type": "stream",
     "text": [
      "Warning, empty test fold 333 (2023-05-19 00:00:00), all ok since 1 folds ago\n",
      "Warning, empty test fold 334 (2023-05-21 00:00:00), all ok since 1 folds ago\n"
     ]
    },
    {
     "name": "stderr",
     "output_type": "stream",
     "text": [
      "Warning, empty test fold 335 (2023-05-23 00:00:00), all ok since 1 folds ago\n",
      "Warning, empty test fold 336 (2023-05-25 00:00:00), all ok since 1 folds ago\n"
     ]
    },
    {
     "name": "stderr",
     "output_type": "stream",
     "text": [
      "Warning, empty test fold 337 (2023-05-27 00:00:00), all ok since 1 folds ago\n",
      "Warning, empty test fold 338 (2023-05-29 00:00:00), all ok since 1 folds ago\n"
     ]
    },
    {
     "name": "stderr",
     "output_type": "stream",
     "text": [
      "Warning, empty test fold 339 (2023-05-31 00:00:00), all ok since 1 folds ago\n",
      "Warning, empty test fold 340 (2023-06-02 00:00:00), all ok since 1 folds ago\n"
     ]
    },
    {
     "name": "stderr",
     "output_type": "stream",
     "text": [
      "Warning, empty test fold 341 (2023-06-04 00:00:00), all ok since 1 folds ago\n",
      "Warning, test fold 342 (2023-06-06 00:00:00) with less than 5 open proposals (1). all ok since 1 folds ago\n"
     ]
    },
    {
     "name": "stderr",
     "output_type": "stream",
     "text": [
      "Warning, test fold 343 (2023-06-08 00:00:00) with less than 5 open proposals (2). all ok since 1 folds ago\n"
     ]
    },
    {
     "name": "stderr",
     "output_type": "stream",
     "text": [
      "Warning, test fold 344 (2023-06-10 00:00:00) with less than 5 open proposals (2). all ok since 1 folds ago\n"
     ]
    },
    {
     "name": "stderr",
     "output_type": "stream",
     "text": [
      "Warning, test fold 345 (2023-06-12 00:00:00) with less than 5 open proposals (3). all ok since 1 folds ago\n"
     ]
    },
    {
     "name": "stderr",
     "output_type": "stream",
     "text": [
      "Warning, test fold 346 (2023-06-14 00:00:00) with less than 5 open proposals (3). all ok since 1 folds ago\n"
     ]
    },
    {
     "name": "stderr",
     "output_type": "stream",
     "text": [
      "Warning, test fold 347 (2023-06-16 00:00:00) with less than 5 open proposals (3). all ok since 1 folds ago\n"
     ]
    },
    {
     "name": "stderr",
     "output_type": "stream",
     "text": [
      "Warning, test fold 348 (2023-06-18 00:00:00) with less than 5 open proposals (3). all ok since 1 folds ago\n"
     ]
    },
    {
     "name": "stderr",
     "output_type": "stream",
     "text": [
      "Warning, test fold 349 (2023-06-20 00:00:00) with less than 5 open proposals (3). all ok since 1 folds ago\n"
     ]
    },
    {
     "name": "stderr",
     "output_type": "stream",
     "text": [
      "Warning, test fold 350 (2023-06-22 00:00:00) with less than 5 open proposals (2). all ok since 1 folds ago\n"
     ]
    },
    {
     "name": "stderr",
     "output_type": "stream",
     "text": [
      "Warning, test fold 351 (2023-06-24 00:00:00) with less than 5 open proposals (2). all ok since 1 folds ago\n"
     ]
    },
    {
     "name": "stderr",
     "output_type": "stream",
     "text": [
      "Warning, test fold 352 (2023-06-26 00:00:00) with less than 5 open proposals (4). all ok since 1 folds ago\n"
     ]
    },
    {
     "name": "stderr",
     "output_type": "stream",
     "text": [
      "Warning, test fold 354 (2023-06-30 00:00:00) with less than 5 open proposals (4). all ok since 2 folds ago\n"
     ]
    },
    {
     "name": "stdout",
     "output_type": "stream",
     "text": [
      "Max ok in a row: (57, Timestamp('2022-01-30 00:00:00'))\n"
     ]
    }
   ],
   "source": [
    "WARNING_AT_LEAST_OPEN = 5\n",
    "\n",
    "folds = list(cvtt_open(df, SPLITS_FREQ, dfp, remove_not_in_train_col='userID', normalize=SPLITS_NORMALIZE))\n",
    "metrics = []\n",
    "perfectmetrics = []\n",
    "\n",
    "first_empty = True\n",
    "ok_in_a_row = best_in_a_row = 0\n",
    "max_ok_in_a_row = (-1, folds[-1].end)\n",
    "for i, (train, test, t, open_proposals) in enumerate(tqdm(folds)):   \n",
    "    if first_empty:\n",
    "        if not train.empty:\n",
    "            first_empty = False\n",
    "    else:\n",
    "        assert not train.empty, f\"Train should not be empty on fold {i}\"\n",
    "    if test.empty:\n",
    "        print(f\"Warning, empty test fold {i} ({t}), all ok since {ok_in_a_row} folds ago\", file=sys.stderr)\n",
    "        if ok_in_a_row > max_ok_in_a_row[0]:\n",
    "            max_ok_in_a_row = (ok_in_a_row, t)\n",
    "        ok_in_a_row = best_in_a_row = 0\n",
    "    elif len(open_proposals) < WARNING_AT_LEAST_OPEN:\n",
    "        print(f\"Warning, test fold {i} ({t}) with less than {WARNING_AT_LEAST_OPEN} open proposals ({len(open_proposals)}). all ok since {best_in_a_row} folds ago\", file=sys.stderr)\n",
    "        best_in_a_row = 0\n",
    "\n",
    "    mdict = {'fold': t}\n",
    "    pdict = {'fold': t}\n",
    "    model = OpenPop(train)\n",
    "    recs = model.recommend_k_items(test['userID'].unique(), max(K_RECOMMENDATIONS), recommend_from=open_proposals)\n",
    "    mdict |= calculate_all_metrics(test, recs, K_RECOMMENDATIONS)\n",
    "        # for m, f in metrics_f.items():\n",
    "        #     r = f(test, recs, k=k_recs)\n",
    "        #     metrics[m+f'@{k_recs}'].append(r)\n",
    "    \n",
    "    recs = test.copy()\n",
    "    recs['prediction'] = 1\n",
    "    pdict |= calculate_all_metrics(test, recs, K_RECOMMENDATIONS)\n",
    "\n",
    "        # for m, f in metrics_f.items():\n",
    "        #     # Need relevancy_method=None as they are unsorted\n",
    "        #     r = f(test, recs, k=k_recs)\n",
    "        #     perfectmetrics[m+f'@{k_recs}'].append(r)\n",
    "\n",
    "    metrics.append(mdict)\n",
    "    perfectmetrics.append(pdict)\n",
    "    ok_in_a_row += 1\n",
    "    best_in_a_row += 1\n",
    "\n",
    "paths.save_dao_datum(ORG_NAME, 'max_ok_folds', str(max_ok_in_a_row[0]))\n",
    "paths.save_dao_datum(ORG_NAME, 'max_ok_folds_date', str(max_ok_in_a_row[1]))\n",
    "if max_ok_in_a_row == -1:\n",
    "    print(\"All ok :>\")\n",
    "else:\n",
    "    print(\"Max ok in a row:\", max_ok_in_a_row)"
   ]
  },
  {
   "cell_type": "markdown",
   "id": "30afce5c",
   "metadata": {
    "papermill": {
     "duration": 0.007357,
     "end_time": "2024-09-05T09:08:15.291792",
     "exception": false,
     "start_time": "2024-09-05T09:08:15.284435",
     "status": "completed"
    },
    "tags": []
   },
   "source": [
    "### Caching these results"
   ]
  },
  {
   "cell_type": "code",
   "execution_count": 10,
   "id": "4106e3c5",
   "metadata": {
    "execution": {
     "iopub.execute_input": "2024-09-05T09:08:15.306780Z",
     "iopub.status.busy": "2024-09-05T09:08:15.306669Z",
     "iopub.status.idle": "2024-09-05T09:08:15.334633Z",
     "shell.execute_reply": "2024-09-05T09:08:15.334434Z"
    },
    "papermill": {
     "duration": 0.036277,
     "end_time": "2024-09-05T09:08:15.335172",
     "exception": false,
     "start_time": "2024-09-05T09:08:15.298895",
     "status": "completed"
    },
    "tags": []
   },
   "outputs": [
    {
     "name": "stdout",
     "output_type": "stream",
     "text": [
      "Saved dataframe into /home/daviddavo/recsys4daos/data/output/HUWA-DAO/baseline/openpop_2d_normalize.parquet\n"
     ]
    },
    {
     "data": {
      "text/html": [
       "<div>\n",
       "<style scoped>\n",
       "    .dataframe tbody tr th:only-of-type {\n",
       "        vertical-align: middle;\n",
       "    }\n",
       "\n",
       "    .dataframe tbody tr th {\n",
       "        vertical-align: top;\n",
       "    }\n",
       "\n",
       "    .dataframe thead th {\n",
       "        text-align: right;\n",
       "    }\n",
       "</style>\n",
       "<table border=\"1\" class=\"dataframe\">\n",
       "  <thead>\n",
       "    <tr style=\"text-align: right;\">\n",
       "      <th></th>\n",
       "      <th>precision@1</th>\n",
       "      <th>precision@3</th>\n",
       "      <th>precision@5</th>\n",
       "      <th>precision@10</th>\n",
       "      <th>precision@15</th>\n",
       "      <th>precision@100</th>\n",
       "      <th>ndcg@1</th>\n",
       "      <th>ndcg@3</th>\n",
       "      <th>ndcg@5</th>\n",
       "      <th>ndcg@10</th>\n",
       "      <th>...</th>\n",
       "      <th>recall@10</th>\n",
       "      <th>recall@15</th>\n",
       "      <th>recall@100</th>\n",
       "      <th>r-precision@1</th>\n",
       "      <th>r-precision@3</th>\n",
       "      <th>r-precision@5</th>\n",
       "      <th>r-precision@10</th>\n",
       "      <th>r-precision@15</th>\n",
       "      <th>r-precision@100</th>\n",
       "      <th>time_eval</th>\n",
       "    </tr>\n",
       "  </thead>\n",
       "  <tbody>\n",
       "    <tr>\n",
       "      <th>count</th>\n",
       "      <td>355.000000</td>\n",
       "      <td>355.000000</td>\n",
       "      <td>355.000000</td>\n",
       "      <td>355.000000</td>\n",
       "      <td>355.000000</td>\n",
       "      <td>355.000000</td>\n",
       "      <td>355.000000</td>\n",
       "      <td>355.000000</td>\n",
       "      <td>355.000000</td>\n",
       "      <td>355.000000</td>\n",
       "      <td>...</td>\n",
       "      <td>355.000000</td>\n",
       "      <td>355.000000</td>\n",
       "      <td>355.000000</td>\n",
       "      <td>355.000000</td>\n",
       "      <td>346.000000</td>\n",
       "      <td>345.000000</td>\n",
       "      <td>344.000000</td>\n",
       "      <td>343.000000</td>\n",
       "      <td>343.000000</td>\n",
       "      <td>355.000000</td>\n",
       "    </tr>\n",
       "    <tr>\n",
       "      <th>mean</th>\n",
       "      <td>0.251727</td>\n",
       "      <td>0.125664</td>\n",
       "      <td>0.084749</td>\n",
       "      <td>0.045793</td>\n",
       "      <td>0.031244</td>\n",
       "      <td>0.005071</td>\n",
       "      <td>0.251483</td>\n",
       "      <td>0.287625</td>\n",
       "      <td>0.299494</td>\n",
       "      <td>0.307218</td>\n",
       "      <td>...</td>\n",
       "      <td>0.357214</td>\n",
       "      <td>0.361587</td>\n",
       "      <td>0.375077</td>\n",
       "      <td>0.267259</td>\n",
       "      <td>0.311707</td>\n",
       "      <td>0.315730</td>\n",
       "      <td>0.316998</td>\n",
       "      <td>0.318278</td>\n",
       "      <td>0.318834</td>\n",
       "      <td>0.091921</td>\n",
       "    </tr>\n",
       "    <tr>\n",
       "      <th>std</th>\n",
       "      <td>0.415071</td>\n",
       "      <td>0.178487</td>\n",
       "      <td>0.119211</td>\n",
       "      <td>0.062812</td>\n",
       "      <td>0.042451</td>\n",
       "      <td>0.007076</td>\n",
       "      <td>0.414973</td>\n",
       "      <td>0.422789</td>\n",
       "      <td>0.424976</td>\n",
       "      <td>0.425111</td>\n",
       "      <td>...</td>\n",
       "      <td>0.469380</td>\n",
       "      <td>0.470698</td>\n",
       "      <td>0.477000</td>\n",
       "      <td>0.412823</td>\n",
       "      <td>0.439307</td>\n",
       "      <td>0.440249</td>\n",
       "      <td>0.440627</td>\n",
       "      <td>0.441023</td>\n",
       "      <td>0.441194</td>\n",
       "      <td>0.029383</td>\n",
       "    </tr>\n",
       "    <tr>\n",
       "      <th>min</th>\n",
       "      <td>0.000000</td>\n",
       "      <td>0.000000</td>\n",
       "      <td>0.000000</td>\n",
       "      <td>0.000000</td>\n",
       "      <td>0.000000</td>\n",
       "      <td>0.000000</td>\n",
       "      <td>0.000000</td>\n",
       "      <td>0.000000</td>\n",
       "      <td>0.000000</td>\n",
       "      <td>0.000000</td>\n",
       "      <td>...</td>\n",
       "      <td>0.000000</td>\n",
       "      <td>0.000000</td>\n",
       "      <td>0.000000</td>\n",
       "      <td>0.000000</td>\n",
       "      <td>0.000000</td>\n",
       "      <td>0.000000</td>\n",
       "      <td>0.000000</td>\n",
       "      <td>0.000000</td>\n",
       "      <td>0.000000</td>\n",
       "      <td>0.068216</td>\n",
       "    </tr>\n",
       "    <tr>\n",
       "      <th>25%</th>\n",
       "      <td>0.000000</td>\n",
       "      <td>0.000000</td>\n",
       "      <td>0.000000</td>\n",
       "      <td>0.000000</td>\n",
       "      <td>0.000000</td>\n",
       "      <td>0.000000</td>\n",
       "      <td>0.000000</td>\n",
       "      <td>0.000000</td>\n",
       "      <td>0.000000</td>\n",
       "      <td>0.000000</td>\n",
       "      <td>...</td>\n",
       "      <td>0.000000</td>\n",
       "      <td>0.000000</td>\n",
       "      <td>0.000000</td>\n",
       "      <td>0.000000</td>\n",
       "      <td>0.000000</td>\n",
       "      <td>0.000000</td>\n",
       "      <td>0.000000</td>\n",
       "      <td>0.000000</td>\n",
       "      <td>0.000000</td>\n",
       "      <td>0.069634</td>\n",
       "    </tr>\n",
       "    <tr>\n",
       "      <th>50%</th>\n",
       "      <td>0.000000</td>\n",
       "      <td>0.000000</td>\n",
       "      <td>0.000000</td>\n",
       "      <td>0.000000</td>\n",
       "      <td>0.000000</td>\n",
       "      <td>0.000000</td>\n",
       "      <td>0.000000</td>\n",
       "      <td>0.000000</td>\n",
       "      <td>0.000000</td>\n",
       "      <td>0.000000</td>\n",
       "      <td>...</td>\n",
       "      <td>0.000000</td>\n",
       "      <td>0.000000</td>\n",
       "      <td>0.000000</td>\n",
       "      <td>0.000000</td>\n",
       "      <td>0.000000</td>\n",
       "      <td>0.000000</td>\n",
       "      <td>0.000000</td>\n",
       "      <td>0.000000</td>\n",
       "      <td>0.000000</td>\n",
       "      <td>0.071080</td>\n",
       "    </tr>\n",
       "    <tr>\n",
       "      <th>75%</th>\n",
       "      <td>0.480769</td>\n",
       "      <td>0.333333</td>\n",
       "      <td>0.200000</td>\n",
       "      <td>0.100000</td>\n",
       "      <td>0.066667</td>\n",
       "      <td>0.010000</td>\n",
       "      <td>0.480769</td>\n",
       "      <td>0.770343</td>\n",
       "      <td>0.787007</td>\n",
       "      <td>0.787007</td>\n",
       "      <td>...</td>\n",
       "      <td>1.000000</td>\n",
       "      <td>1.000000</td>\n",
       "      <td>1.000000</td>\n",
       "      <td>0.690278</td>\n",
       "      <td>1.000000</td>\n",
       "      <td>1.000000</td>\n",
       "      <td>1.000000</td>\n",
       "      <td>1.000000</td>\n",
       "      <td>1.000000</td>\n",
       "      <td>0.121400</td>\n",
       "    </tr>\n",
       "    <tr>\n",
       "      <th>max</th>\n",
       "      <td>1.000000</td>\n",
       "      <td>0.666667</td>\n",
       "      <td>0.600000</td>\n",
       "      <td>0.300000</td>\n",
       "      <td>0.200000</td>\n",
       "      <td>0.045556</td>\n",
       "      <td>1.000000</td>\n",
       "      <td>1.000000</td>\n",
       "      <td>1.000000</td>\n",
       "      <td>1.000000</td>\n",
       "      <td>...</td>\n",
       "      <td>1.000000</td>\n",
       "      <td>1.000000</td>\n",
       "      <td>1.000000</td>\n",
       "      <td>1.000000</td>\n",
       "      <td>1.000000</td>\n",
       "      <td>1.000000</td>\n",
       "      <td>1.000000</td>\n",
       "      <td>1.000000</td>\n",
       "      <td>1.000000</td>\n",
       "      <td>0.280668</td>\n",
       "    </tr>\n",
       "  </tbody>\n",
       "</table>\n",
       "<p>8 rows × 31 columns</p>\n",
       "</div>"
      ],
      "text/plain": [
       "       precision@1  precision@3  precision@5  precision@10  precision@15  \\\n",
       "count   355.000000   355.000000   355.000000    355.000000    355.000000   \n",
       "mean      0.251727     0.125664     0.084749      0.045793      0.031244   \n",
       "std       0.415071     0.178487     0.119211      0.062812      0.042451   \n",
       "min       0.000000     0.000000     0.000000      0.000000      0.000000   \n",
       "25%       0.000000     0.000000     0.000000      0.000000      0.000000   \n",
       "50%       0.000000     0.000000     0.000000      0.000000      0.000000   \n",
       "75%       0.480769     0.333333     0.200000      0.100000      0.066667   \n",
       "max       1.000000     0.666667     0.600000      0.300000      0.200000   \n",
       "\n",
       "       precision@100      ndcg@1      ndcg@3      ndcg@5     ndcg@10  ...  \\\n",
       "count     355.000000  355.000000  355.000000  355.000000  355.000000  ...   \n",
       "mean        0.005071    0.251483    0.287625    0.299494    0.307218  ...   \n",
       "std         0.007076    0.414973    0.422789    0.424976    0.425111  ...   \n",
       "min         0.000000    0.000000    0.000000    0.000000    0.000000  ...   \n",
       "25%         0.000000    0.000000    0.000000    0.000000    0.000000  ...   \n",
       "50%         0.000000    0.000000    0.000000    0.000000    0.000000  ...   \n",
       "75%         0.010000    0.480769    0.770343    0.787007    0.787007  ...   \n",
       "max         0.045556    1.000000    1.000000    1.000000    1.000000  ...   \n",
       "\n",
       "        recall@10   recall@15  recall@100  r-precision@1  r-precision@3  \\\n",
       "count  355.000000  355.000000  355.000000     355.000000     346.000000   \n",
       "mean     0.357214    0.361587    0.375077       0.267259       0.311707   \n",
       "std      0.469380    0.470698    0.477000       0.412823       0.439307   \n",
       "min      0.000000    0.000000    0.000000       0.000000       0.000000   \n",
       "25%      0.000000    0.000000    0.000000       0.000000       0.000000   \n",
       "50%      0.000000    0.000000    0.000000       0.000000       0.000000   \n",
       "75%      1.000000    1.000000    1.000000       0.690278       1.000000   \n",
       "max      1.000000    1.000000    1.000000       1.000000       1.000000   \n",
       "\n",
       "       r-precision@5  r-precision@10  r-precision@15  r-precision@100  \\\n",
       "count     345.000000      344.000000      343.000000       343.000000   \n",
       "mean        0.315730        0.316998        0.318278         0.318834   \n",
       "std         0.440249        0.440627        0.441023         0.441194   \n",
       "min         0.000000        0.000000        0.000000         0.000000   \n",
       "25%         0.000000        0.000000        0.000000         0.000000   \n",
       "50%         0.000000        0.000000        0.000000         0.000000   \n",
       "75%         1.000000        1.000000        1.000000         1.000000   \n",
       "max         1.000000        1.000000        1.000000         1.000000   \n",
       "\n",
       "        time_eval  \n",
       "count  355.000000  \n",
       "mean     0.091921  \n",
       "std      0.029383  \n",
       "min      0.068216  \n",
       "25%      0.069634  \n",
       "50%      0.071080  \n",
       "75%      0.121400  \n",
       "max      0.280668  \n",
       "\n",
       "[8 rows x 31 columns]"
      ]
     },
     "execution_count": 10,
     "metadata": {},
     "output_type": "execute_result"
    }
   ],
   "source": [
    "odf = pd.DataFrame(metrics).set_index(\"fold\")\n",
    "paths.save_openpop(odf, ORG_NAME, SPLITS_FREQ, SPLITS_NORMALIZE)\n",
    "odf.describe()"
   ]
  },
  {
   "cell_type": "code",
   "execution_count": 11,
   "id": "ebdaba56",
   "metadata": {
    "execution": {
     "iopub.execute_input": "2024-09-05T09:08:15.350558Z",
     "iopub.status.busy": "2024-09-05T09:08:15.350433Z",
     "iopub.status.idle": "2024-09-05T09:08:15.377082Z",
     "shell.execute_reply": "2024-09-05T09:08:15.376847Z"
    },
    "papermill": {
     "duration": 0.035211,
     "end_time": "2024-09-05T09:08:15.377761",
     "exception": false,
     "start_time": "2024-09-05T09:08:15.342550",
     "status": "completed"
    },
    "tags": []
   },
   "outputs": [
    {
     "name": "stdout",
     "output_type": "stream",
     "text": [
      "Saved dataframe into /home/daviddavo/recsys4daos/data/output/HUWA-DAO/baseline/perfect_2d_normalize.parquet\n"
     ]
    },
    {
     "data": {
      "text/html": [
       "<div>\n",
       "<style scoped>\n",
       "    .dataframe tbody tr th:only-of-type {\n",
       "        vertical-align: middle;\n",
       "    }\n",
       "\n",
       "    .dataframe tbody tr th {\n",
       "        vertical-align: top;\n",
       "    }\n",
       "\n",
       "    .dataframe thead th {\n",
       "        text-align: right;\n",
       "    }\n",
       "</style>\n",
       "<table border=\"1\" class=\"dataframe\">\n",
       "  <thead>\n",
       "    <tr style=\"text-align: right;\">\n",
       "      <th></th>\n",
       "      <th>precision@1</th>\n",
       "      <th>precision@3</th>\n",
       "      <th>precision@5</th>\n",
       "      <th>precision@10</th>\n",
       "      <th>precision@15</th>\n",
       "      <th>precision@100</th>\n",
       "      <th>ndcg@1</th>\n",
       "      <th>ndcg@3</th>\n",
       "      <th>ndcg@5</th>\n",
       "      <th>ndcg@10</th>\n",
       "      <th>...</th>\n",
       "      <th>recall@10</th>\n",
       "      <th>recall@15</th>\n",
       "      <th>recall@100</th>\n",
       "      <th>r-precision@1</th>\n",
       "      <th>r-precision@3</th>\n",
       "      <th>r-precision@5</th>\n",
       "      <th>r-precision@10</th>\n",
       "      <th>r-precision@15</th>\n",
       "      <th>r-precision@100</th>\n",
       "      <th>time_eval</th>\n",
       "    </tr>\n",
       "  </thead>\n",
       "  <tbody>\n",
       "    <tr>\n",
       "      <th>count</th>\n",
       "      <td>355.000000</td>\n",
       "      <td>355.000000</td>\n",
       "      <td>355.000000</td>\n",
       "      <td>355.000000</td>\n",
       "      <td>355.000000</td>\n",
       "      <td>355.000000</td>\n",
       "      <td>355.000000</td>\n",
       "      <td>355.000000</td>\n",
       "      <td>355.000000</td>\n",
       "      <td>355.000000</td>\n",
       "      <td>...</td>\n",
       "      <td>355.000000</td>\n",
       "      <td>355.000000</td>\n",
       "      <td>355.000000</td>\n",
       "      <td>355.000000</td>\n",
       "      <td>355.000000</td>\n",
       "      <td>355.000000</td>\n",
       "      <td>355.000000</td>\n",
       "      <td>355.000000</td>\n",
       "      <td>355.000000</td>\n",
       "      <td>355.000000</td>\n",
       "    </tr>\n",
       "    <tr>\n",
       "      <th>mean</th>\n",
       "      <td>0.397183</td>\n",
       "      <td>0.170358</td>\n",
       "      <td>0.104930</td>\n",
       "      <td>0.053257</td>\n",
       "      <td>0.035861</td>\n",
       "      <td>0.005465</td>\n",
       "      <td>0.397183</td>\n",
       "      <td>0.397183</td>\n",
       "      <td>0.397183</td>\n",
       "      <td>0.397183</td>\n",
       "      <td>...</td>\n",
       "      <td>0.396610</td>\n",
       "      <td>0.396857</td>\n",
       "      <td>0.397183</td>\n",
       "      <td>0.347147</td>\n",
       "      <td>0.393494</td>\n",
       "      <td>0.396001</td>\n",
       "      <td>0.396610</td>\n",
       "      <td>0.396857</td>\n",
       "      <td>0.397183</td>\n",
       "      <td>0.096068</td>\n",
       "    </tr>\n",
       "    <tr>\n",
       "      <th>std</th>\n",
       "      <td>0.490005</td>\n",
       "      <td>0.225216</td>\n",
       "      <td>0.140912</td>\n",
       "      <td>0.072995</td>\n",
       "      <td>0.050188</td>\n",
       "      <td>0.007939</td>\n",
       "      <td>0.490005</td>\n",
       "      <td>0.490005</td>\n",
       "      <td>0.490005</td>\n",
       "      <td>0.490005</td>\n",
       "      <td>...</td>\n",
       "      <td>0.489342</td>\n",
       "      <td>0.489619</td>\n",
       "      <td>0.490005</td>\n",
       "      <td>0.440465</td>\n",
       "      <td>0.485841</td>\n",
       "      <td>0.488696</td>\n",
       "      <td>0.489342</td>\n",
       "      <td>0.489619</td>\n",
       "      <td>0.490005</td>\n",
       "      <td>0.028247</td>\n",
       "    </tr>\n",
       "    <tr>\n",
       "      <th>min</th>\n",
       "      <td>0.000000</td>\n",
       "      <td>0.000000</td>\n",
       "      <td>0.000000</td>\n",
       "      <td>0.000000</td>\n",
       "      <td>0.000000</td>\n",
       "      <td>0.000000</td>\n",
       "      <td>0.000000</td>\n",
       "      <td>0.000000</td>\n",
       "      <td>0.000000</td>\n",
       "      <td>0.000000</td>\n",
       "      <td>...</td>\n",
       "      <td>0.000000</td>\n",
       "      <td>0.000000</td>\n",
       "      <td>0.000000</td>\n",
       "      <td>0.000000</td>\n",
       "      <td>0.000000</td>\n",
       "      <td>0.000000</td>\n",
       "      <td>0.000000</td>\n",
       "      <td>0.000000</td>\n",
       "      <td>0.000000</td>\n",
       "      <td>0.072072</td>\n",
       "    </tr>\n",
       "    <tr>\n",
       "      <th>25%</th>\n",
       "      <td>0.000000</td>\n",
       "      <td>0.000000</td>\n",
       "      <td>0.000000</td>\n",
       "      <td>0.000000</td>\n",
       "      <td>0.000000</td>\n",
       "      <td>0.000000</td>\n",
       "      <td>0.000000</td>\n",
       "      <td>0.000000</td>\n",
       "      <td>0.000000</td>\n",
       "      <td>0.000000</td>\n",
       "      <td>...</td>\n",
       "      <td>0.000000</td>\n",
       "      <td>0.000000</td>\n",
       "      <td>0.000000</td>\n",
       "      <td>0.000000</td>\n",
       "      <td>0.000000</td>\n",
       "      <td>0.000000</td>\n",
       "      <td>0.000000</td>\n",
       "      <td>0.000000</td>\n",
       "      <td>0.000000</td>\n",
       "      <td>0.073329</td>\n",
       "    </tr>\n",
       "    <tr>\n",
       "      <th>50%</th>\n",
       "      <td>0.000000</td>\n",
       "      <td>0.000000</td>\n",
       "      <td>0.000000</td>\n",
       "      <td>0.000000</td>\n",
       "      <td>0.000000</td>\n",
       "      <td>0.000000</td>\n",
       "      <td>0.000000</td>\n",
       "      <td>0.000000</td>\n",
       "      <td>0.000000</td>\n",
       "      <td>0.000000</td>\n",
       "      <td>...</td>\n",
       "      <td>0.000000</td>\n",
       "      <td>0.000000</td>\n",
       "      <td>0.000000</td>\n",
       "      <td>0.000000</td>\n",
       "      <td>0.000000</td>\n",
       "      <td>0.000000</td>\n",
       "      <td>0.000000</td>\n",
       "      <td>0.000000</td>\n",
       "      <td>0.000000</td>\n",
       "      <td>0.074678</td>\n",
       "    </tr>\n",
       "    <tr>\n",
       "      <th>75%</th>\n",
       "      <td>1.000000</td>\n",
       "      <td>0.333333</td>\n",
       "      <td>0.200000</td>\n",
       "      <td>0.100000</td>\n",
       "      <td>0.066667</td>\n",
       "      <td>0.010000</td>\n",
       "      <td>1.000000</td>\n",
       "      <td>1.000000</td>\n",
       "      <td>1.000000</td>\n",
       "      <td>1.000000</td>\n",
       "      <td>...</td>\n",
       "      <td>1.000000</td>\n",
       "      <td>1.000000</td>\n",
       "      <td>1.000000</td>\n",
       "      <td>0.846688</td>\n",
       "      <td>1.000000</td>\n",
       "      <td>1.000000</td>\n",
       "      <td>1.000000</td>\n",
       "      <td>1.000000</td>\n",
       "      <td>1.000000</td>\n",
       "      <td>0.128269</td>\n",
       "    </tr>\n",
       "    <tr>\n",
       "      <th>max</th>\n",
       "      <td>1.000000</td>\n",
       "      <td>1.000000</td>\n",
       "      <td>0.600000</td>\n",
       "      <td>0.420000</td>\n",
       "      <td>0.346667</td>\n",
       "      <td>0.060000</td>\n",
       "      <td>1.000000</td>\n",
       "      <td>1.000000</td>\n",
       "      <td>1.000000</td>\n",
       "      <td>1.000000</td>\n",
       "      <td>...</td>\n",
       "      <td>1.000000</td>\n",
       "      <td>1.000000</td>\n",
       "      <td>1.000000</td>\n",
       "      <td>1.000000</td>\n",
       "      <td>1.000000</td>\n",
       "      <td>1.000000</td>\n",
       "      <td>1.000000</td>\n",
       "      <td>1.000000</td>\n",
       "      <td>1.000000</td>\n",
       "      <td>0.247211</td>\n",
       "    </tr>\n",
       "  </tbody>\n",
       "</table>\n",
       "<p>8 rows × 31 columns</p>\n",
       "</div>"
      ],
      "text/plain": [
       "       precision@1  precision@3  precision@5  precision@10  precision@15  \\\n",
       "count   355.000000   355.000000   355.000000    355.000000    355.000000   \n",
       "mean      0.397183     0.170358     0.104930      0.053257      0.035861   \n",
       "std       0.490005     0.225216     0.140912      0.072995      0.050188   \n",
       "min       0.000000     0.000000     0.000000      0.000000      0.000000   \n",
       "25%       0.000000     0.000000     0.000000      0.000000      0.000000   \n",
       "50%       0.000000     0.000000     0.000000      0.000000      0.000000   \n",
       "75%       1.000000     0.333333     0.200000      0.100000      0.066667   \n",
       "max       1.000000     1.000000     0.600000      0.420000      0.346667   \n",
       "\n",
       "       precision@100      ndcg@1      ndcg@3      ndcg@5     ndcg@10  ...  \\\n",
       "count     355.000000  355.000000  355.000000  355.000000  355.000000  ...   \n",
       "mean        0.005465    0.397183    0.397183    0.397183    0.397183  ...   \n",
       "std         0.007939    0.490005    0.490005    0.490005    0.490005  ...   \n",
       "min         0.000000    0.000000    0.000000    0.000000    0.000000  ...   \n",
       "25%         0.000000    0.000000    0.000000    0.000000    0.000000  ...   \n",
       "50%         0.000000    0.000000    0.000000    0.000000    0.000000  ...   \n",
       "75%         0.010000    1.000000    1.000000    1.000000    1.000000  ...   \n",
       "max         0.060000    1.000000    1.000000    1.000000    1.000000  ...   \n",
       "\n",
       "        recall@10   recall@15  recall@100  r-precision@1  r-precision@3  \\\n",
       "count  355.000000  355.000000  355.000000     355.000000     355.000000   \n",
       "mean     0.396610    0.396857    0.397183       0.347147       0.393494   \n",
       "std      0.489342    0.489619    0.490005       0.440465       0.485841   \n",
       "min      0.000000    0.000000    0.000000       0.000000       0.000000   \n",
       "25%      0.000000    0.000000    0.000000       0.000000       0.000000   \n",
       "50%      0.000000    0.000000    0.000000       0.000000       0.000000   \n",
       "75%      1.000000    1.000000    1.000000       0.846688       1.000000   \n",
       "max      1.000000    1.000000    1.000000       1.000000       1.000000   \n",
       "\n",
       "       r-precision@5  r-precision@10  r-precision@15  r-precision@100  \\\n",
       "count     355.000000      355.000000      355.000000       355.000000   \n",
       "mean        0.396001        0.396610        0.396857         0.397183   \n",
       "std         0.488696        0.489342        0.489619         0.490005   \n",
       "min         0.000000        0.000000        0.000000         0.000000   \n",
       "25%         0.000000        0.000000        0.000000         0.000000   \n",
       "50%         0.000000        0.000000        0.000000         0.000000   \n",
       "75%         1.000000        1.000000        1.000000         1.000000   \n",
       "max         1.000000        1.000000        1.000000         1.000000   \n",
       "\n",
       "        time_eval  \n",
       "count  355.000000  \n",
       "mean     0.096068  \n",
       "std      0.028247  \n",
       "min      0.072072  \n",
       "25%      0.073329  \n",
       "50%      0.074678  \n",
       "75%      0.128269  \n",
       "max      0.247211  \n",
       "\n",
       "[8 rows x 31 columns]"
      ]
     },
     "metadata": {},
     "output_type": "display_data"
    }
   ],
   "source": [
    "pdf = pd.DataFrame(perfectmetrics).set_index(\"fold\")\n",
    "cols = [ c for c in pdf.columns if not c.startswith('time_') ]\n",
    "paths.save_perfect(pdf, ORG_NAME, SPLITS_FREQ, SPLITS_NORMALIZE)\n",
    "display(pdf.describe())\n",
    "msk = (0 <= pdf[cols].min()) & (pdf[cols].max() <= 1)\n",
    "if not all(msk):\n",
    "    display(pdf.describe()[msk[~msk].index])\n",
    "assert all( msk ), \"There are metrics with wrong range\""
   ]
  },
  {
   "cell_type": "markdown",
   "id": "4e73459e",
   "metadata": {
    "papermill": {
     "duration": 0.007744,
     "end_time": "2024-09-05T09:08:15.393305",
     "exception": false,
     "start_time": "2024-09-05T09:08:15.385561",
     "status": "completed"
    },
    "tags": []
   },
   "source": [
    "## Plotting some graphs"
   ]
  },
  {
   "cell_type": "code",
   "execution_count": 12,
   "id": "8d886fd1",
   "metadata": {
    "execution": {
     "iopub.execute_input": "2024-09-05T09:08:15.408710Z",
     "iopub.status.busy": "2024-09-05T09:08:15.408613Z",
     "iopub.status.idle": "2024-09-05T09:08:15.542430Z",
     "shell.execute_reply": "2024-09-05T09:08:15.542004Z"
    },
    "papermill": {
     "duration": 0.142928,
     "end_time": "2024-09-05T09:08:15.543615",
     "exception": false,
     "start_time": "2024-09-05T09:08:15.400687",
     "status": "completed"
    },
    "tags": []
   },
   "outputs": [
    {
     "data": {
      "text/html": [
       "<div>\n",
       "<style scoped>\n",
       "    .dataframe tbody tr th:only-of-type {\n",
       "        vertical-align: middle;\n",
       "    }\n",
       "\n",
       "    .dataframe tbody tr th {\n",
       "        vertical-align: top;\n",
       "    }\n",
       "\n",
       "    .dataframe thead th {\n",
       "        text-align: right;\n",
       "    }\n",
       "</style>\n",
       "<table border=\"1\" class=\"dataframe\">\n",
       "  <thead>\n",
       "    <tr style=\"text-align: right;\">\n",
       "      <th></th>\n",
       "      <th>fold</th>\n",
       "      <th>precision@1</th>\n",
       "      <th>precision@3</th>\n",
       "      <th>precision@5</th>\n",
       "      <th>precision@10</th>\n",
       "      <th>precision@15</th>\n",
       "      <th>precision@100</th>\n",
       "      <th>ndcg@1</th>\n",
       "      <th>ndcg@3</th>\n",
       "      <th>ndcg@5</th>\n",
       "      <th>...</th>\n",
       "      <th>recall@100</th>\n",
       "      <th>r-precision@1</th>\n",
       "      <th>r-precision@3</th>\n",
       "      <th>r-precision@5</th>\n",
       "      <th>r-precision@10</th>\n",
       "      <th>r-precision@15</th>\n",
       "      <th>r-precision@100</th>\n",
       "      <th>time_eval</th>\n",
       "      <th>perfect precision@5</th>\n",
       "      <th>perfect precision@10</th>\n",
       "    </tr>\n",
       "  </thead>\n",
       "  <tbody>\n",
       "    <tr>\n",
       "      <th>count</th>\n",
       "      <td>355</td>\n",
       "      <td>355.000000</td>\n",
       "      <td>355.000000</td>\n",
       "      <td>355.000000</td>\n",
       "      <td>355.000000</td>\n",
       "      <td>355.000000</td>\n",
       "      <td>355.000000</td>\n",
       "      <td>355.000000</td>\n",
       "      <td>355.000000</td>\n",
       "      <td>355.000000</td>\n",
       "      <td>...</td>\n",
       "      <td>355.000000</td>\n",
       "      <td>355.000000</td>\n",
       "      <td>346.000000</td>\n",
       "      <td>345.000000</td>\n",
       "      <td>344.000000</td>\n",
       "      <td>343.000000</td>\n",
       "      <td>343.000000</td>\n",
       "      <td>355.000000</td>\n",
       "      <td>0.0</td>\n",
       "      <td>0.0</td>\n",
       "    </tr>\n",
       "    <tr>\n",
       "      <th>mean</th>\n",
       "      <td>2022-07-11 00:00:00</td>\n",
       "      <td>0.251727</td>\n",
       "      <td>0.125664</td>\n",
       "      <td>0.084749</td>\n",
       "      <td>0.045793</td>\n",
       "      <td>0.031244</td>\n",
       "      <td>0.005071</td>\n",
       "      <td>0.251483</td>\n",
       "      <td>0.287625</td>\n",
       "      <td>0.299494</td>\n",
       "      <td>...</td>\n",
       "      <td>0.375077</td>\n",
       "      <td>0.267259</td>\n",
       "      <td>0.311707</td>\n",
       "      <td>0.315730</td>\n",
       "      <td>0.316998</td>\n",
       "      <td>0.318278</td>\n",
       "      <td>0.318834</td>\n",
       "      <td>0.091921</td>\n",
       "      <td>NaN</td>\n",
       "      <td>NaN</td>\n",
       "    </tr>\n",
       "    <tr>\n",
       "      <th>min</th>\n",
       "      <td>2021-07-22 00:00:00</td>\n",
       "      <td>0.000000</td>\n",
       "      <td>0.000000</td>\n",
       "      <td>0.000000</td>\n",
       "      <td>0.000000</td>\n",
       "      <td>0.000000</td>\n",
       "      <td>0.000000</td>\n",
       "      <td>0.000000</td>\n",
       "      <td>0.000000</td>\n",
       "      <td>0.000000</td>\n",
       "      <td>...</td>\n",
       "      <td>0.000000</td>\n",
       "      <td>0.000000</td>\n",
       "      <td>0.000000</td>\n",
       "      <td>0.000000</td>\n",
       "      <td>0.000000</td>\n",
       "      <td>0.000000</td>\n",
       "      <td>0.000000</td>\n",
       "      <td>0.068216</td>\n",
       "      <td>NaN</td>\n",
       "      <td>NaN</td>\n",
       "    </tr>\n",
       "    <tr>\n",
       "      <th>25%</th>\n",
       "      <td>2022-01-15 00:00:00</td>\n",
       "      <td>0.000000</td>\n",
       "      <td>0.000000</td>\n",
       "      <td>0.000000</td>\n",
       "      <td>0.000000</td>\n",
       "      <td>0.000000</td>\n",
       "      <td>0.000000</td>\n",
       "      <td>0.000000</td>\n",
       "      <td>0.000000</td>\n",
       "      <td>0.000000</td>\n",
       "      <td>...</td>\n",
       "      <td>0.000000</td>\n",
       "      <td>0.000000</td>\n",
       "      <td>0.000000</td>\n",
       "      <td>0.000000</td>\n",
       "      <td>0.000000</td>\n",
       "      <td>0.000000</td>\n",
       "      <td>0.000000</td>\n",
       "      <td>0.069634</td>\n",
       "      <td>NaN</td>\n",
       "      <td>NaN</td>\n",
       "    </tr>\n",
       "    <tr>\n",
       "      <th>50%</th>\n",
       "      <td>2022-07-11 00:00:00</td>\n",
       "      <td>0.000000</td>\n",
       "      <td>0.000000</td>\n",
       "      <td>0.000000</td>\n",
       "      <td>0.000000</td>\n",
       "      <td>0.000000</td>\n",
       "      <td>0.000000</td>\n",
       "      <td>0.000000</td>\n",
       "      <td>0.000000</td>\n",
       "      <td>0.000000</td>\n",
       "      <td>...</td>\n",
       "      <td>0.000000</td>\n",
       "      <td>0.000000</td>\n",
       "      <td>0.000000</td>\n",
       "      <td>0.000000</td>\n",
       "      <td>0.000000</td>\n",
       "      <td>0.000000</td>\n",
       "      <td>0.000000</td>\n",
       "      <td>0.071080</td>\n",
       "      <td>NaN</td>\n",
       "      <td>NaN</td>\n",
       "    </tr>\n",
       "    <tr>\n",
       "      <th>75%</th>\n",
       "      <td>2023-01-04 00:00:00</td>\n",
       "      <td>0.480769</td>\n",
       "      <td>0.333333</td>\n",
       "      <td>0.200000</td>\n",
       "      <td>0.100000</td>\n",
       "      <td>0.066667</td>\n",
       "      <td>0.010000</td>\n",
       "      <td>0.480769</td>\n",
       "      <td>0.770343</td>\n",
       "      <td>0.787007</td>\n",
       "      <td>...</td>\n",
       "      <td>1.000000</td>\n",
       "      <td>0.690278</td>\n",
       "      <td>1.000000</td>\n",
       "      <td>1.000000</td>\n",
       "      <td>1.000000</td>\n",
       "      <td>1.000000</td>\n",
       "      <td>1.000000</td>\n",
       "      <td>0.121400</td>\n",
       "      <td>NaN</td>\n",
       "      <td>NaN</td>\n",
       "    </tr>\n",
       "    <tr>\n",
       "      <th>max</th>\n",
       "      <td>2023-06-30 00:00:00</td>\n",
       "      <td>1.000000</td>\n",
       "      <td>0.666667</td>\n",
       "      <td>0.600000</td>\n",
       "      <td>0.300000</td>\n",
       "      <td>0.200000</td>\n",
       "      <td>0.045556</td>\n",
       "      <td>1.000000</td>\n",
       "      <td>1.000000</td>\n",
       "      <td>1.000000</td>\n",
       "      <td>...</td>\n",
       "      <td>1.000000</td>\n",
       "      <td>1.000000</td>\n",
       "      <td>1.000000</td>\n",
       "      <td>1.000000</td>\n",
       "      <td>1.000000</td>\n",
       "      <td>1.000000</td>\n",
       "      <td>1.000000</td>\n",
       "      <td>0.280668</td>\n",
       "      <td>NaN</td>\n",
       "      <td>NaN</td>\n",
       "    </tr>\n",
       "    <tr>\n",
       "      <th>std</th>\n",
       "      <td>NaN</td>\n",
       "      <td>0.415071</td>\n",
       "      <td>0.178487</td>\n",
       "      <td>0.119211</td>\n",
       "      <td>0.062812</td>\n",
       "      <td>0.042451</td>\n",
       "      <td>0.007076</td>\n",
       "      <td>0.414973</td>\n",
       "      <td>0.422789</td>\n",
       "      <td>0.424976</td>\n",
       "      <td>...</td>\n",
       "      <td>0.477000</td>\n",
       "      <td>0.412823</td>\n",
       "      <td>0.439307</td>\n",
       "      <td>0.440249</td>\n",
       "      <td>0.440627</td>\n",
       "      <td>0.441023</td>\n",
       "      <td>0.441194</td>\n",
       "      <td>0.029383</td>\n",
       "      <td>NaN</td>\n",
       "      <td>NaN</td>\n",
       "    </tr>\n",
       "  </tbody>\n",
       "</table>\n",
       "<p>8 rows × 34 columns</p>\n",
       "</div>"
      ],
      "text/plain": [
       "                      fold  precision@1  precision@3  precision@5  \\\n",
       "count                  355   355.000000   355.000000   355.000000   \n",
       "mean   2022-07-11 00:00:00     0.251727     0.125664     0.084749   \n",
       "min    2021-07-22 00:00:00     0.000000     0.000000     0.000000   \n",
       "25%    2022-01-15 00:00:00     0.000000     0.000000     0.000000   \n",
       "50%    2022-07-11 00:00:00     0.000000     0.000000     0.000000   \n",
       "75%    2023-01-04 00:00:00     0.480769     0.333333     0.200000   \n",
       "max    2023-06-30 00:00:00     1.000000     0.666667     0.600000   \n",
       "std                    NaN     0.415071     0.178487     0.119211   \n",
       "\n",
       "       precision@10  precision@15  precision@100      ndcg@1      ndcg@3  \\\n",
       "count    355.000000    355.000000     355.000000  355.000000  355.000000   \n",
       "mean       0.045793      0.031244       0.005071    0.251483    0.287625   \n",
       "min        0.000000      0.000000       0.000000    0.000000    0.000000   \n",
       "25%        0.000000      0.000000       0.000000    0.000000    0.000000   \n",
       "50%        0.000000      0.000000       0.000000    0.000000    0.000000   \n",
       "75%        0.100000      0.066667       0.010000    0.480769    0.770343   \n",
       "max        0.300000      0.200000       0.045556    1.000000    1.000000   \n",
       "std        0.062812      0.042451       0.007076    0.414973    0.422789   \n",
       "\n",
       "           ndcg@5  ...  recall@100  r-precision@1  r-precision@3  \\\n",
       "count  355.000000  ...  355.000000     355.000000     346.000000   \n",
       "mean     0.299494  ...    0.375077       0.267259       0.311707   \n",
       "min      0.000000  ...    0.000000       0.000000       0.000000   \n",
       "25%      0.000000  ...    0.000000       0.000000       0.000000   \n",
       "50%      0.000000  ...    0.000000       0.000000       0.000000   \n",
       "75%      0.787007  ...    1.000000       0.690278       1.000000   \n",
       "max      1.000000  ...    1.000000       1.000000       1.000000   \n",
       "std      0.424976  ...    0.477000       0.412823       0.439307   \n",
       "\n",
       "       r-precision@5  r-precision@10  r-precision@15  r-precision@100  \\\n",
       "count     345.000000      344.000000      343.000000       343.000000   \n",
       "mean        0.315730        0.316998        0.318278         0.318834   \n",
       "min         0.000000        0.000000        0.000000         0.000000   \n",
       "25%         0.000000        0.000000        0.000000         0.000000   \n",
       "50%         0.000000        0.000000        0.000000         0.000000   \n",
       "75%         1.000000        1.000000        1.000000         1.000000   \n",
       "max         1.000000        1.000000        1.000000         1.000000   \n",
       "std         0.440249        0.440627        0.441023         0.441194   \n",
       "\n",
       "        time_eval  perfect precision@5  perfect precision@10  \n",
       "count  355.000000                  0.0                   0.0  \n",
       "mean     0.091921                  NaN                   NaN  \n",
       "min      0.068216                  NaN                   NaN  \n",
       "25%      0.069634                  NaN                   NaN  \n",
       "50%      0.071080                  NaN                   NaN  \n",
       "75%      0.121400                  NaN                   NaN  \n",
       "max      0.280668                  NaN                   NaN  \n",
       "std      0.029383                  NaN                   NaN  \n",
       "\n",
       "[8 rows x 34 columns]"
      ]
     },
     "execution_count": 12,
     "metadata": {},
     "output_type": "execute_result"
    },
    {
     "data": {
      "image/png": "[encoded data removed]",
      "text/plain": [
       "<Figure size 640x480 with 1 Axes>"
      ]
     },
     "metadata": {},
     "output_type": "display_data"
    }
   ],
   "source": [
    "mdf = pd.DataFrame(metrics)\n",
    "mdf['perfect precision@5'] = pdf['precision@5']\n",
    "mdf['perfect precision@10'] = pdf['precision@10']\n",
    "mdf[['precision@5', 'perfect precision@5', 'precision@10', 'perfect precision@10']].plot(title='Evaluación modelo baseline MP')\n",
    "mdf.describe()"
   ]
  },
  {
   "cell_type": "code",
   "execution_count": 13,
   "id": "f43251f5",
   "metadata": {
    "execution": {
     "iopub.execute_input": "2024-09-05T09:08:15.561050Z",
     "iopub.status.busy": "2024-09-05T09:08:15.560799Z",
     "iopub.status.idle": "2024-09-05T09:08:15.586118Z",
     "shell.execute_reply": "2024-09-05T09:08:15.585799Z"
    },
    "papermill": {
     "duration": 0.034741,
     "end_time": "2024-09-05T09:08:15.586796",
     "exception": false,
     "start_time": "2024-09-05T09:08:15.552055",
     "status": "completed"
    },
    "tags": []
   },
   "outputs": [
    {
     "data": {
      "text/html": [
       "<div>\n",
       "<style scoped>\n",
       "    .dataframe tbody tr th:only-of-type {\n",
       "        vertical-align: middle;\n",
       "    }\n",
       "\n",
       "    .dataframe tbody tr th {\n",
       "        vertical-align: top;\n",
       "    }\n",
       "\n",
       "    .dataframe thead th {\n",
       "        text-align: right;\n",
       "    }\n",
       "</style>\n",
       "<table border=\"1\" class=\"dataframe\">\n",
       "  <thead>\n",
       "    <tr style=\"text-align: right;\">\n",
       "      <th></th>\n",
       "      <th>fold</th>\n",
       "      <th>precision@1</th>\n",
       "      <th>precision@3</th>\n",
       "      <th>precision@5</th>\n",
       "      <th>precision@10</th>\n",
       "      <th>precision@15</th>\n",
       "      <th>precision@100</th>\n",
       "      <th>ndcg@1</th>\n",
       "      <th>ndcg@3</th>\n",
       "      <th>ndcg@5</th>\n",
       "      <th>...</th>\n",
       "      <th>recall@100</th>\n",
       "      <th>r-precision@1</th>\n",
       "      <th>r-precision@3</th>\n",
       "      <th>r-precision@5</th>\n",
       "      <th>r-precision@10</th>\n",
       "      <th>r-precision@15</th>\n",
       "      <th>r-precision@100</th>\n",
       "      <th>time_eval</th>\n",
       "      <th>perfect precision@5</th>\n",
       "      <th>perfect precision@10</th>\n",
       "    </tr>\n",
       "  </thead>\n",
       "  <tbody>\n",
       "    <tr>\n",
       "      <th>count</th>\n",
       "      <td>6</td>\n",
       "      <td>6.000000</td>\n",
       "      <td>6.000000</td>\n",
       "      <td>6.000000</td>\n",
       "      <td>6.000000</td>\n",
       "      <td>6.000000</td>\n",
       "      <td>6.000000</td>\n",
       "      <td>6.000000</td>\n",
       "      <td>6.000000</td>\n",
       "      <td>6.000000</td>\n",
       "      <td>...</td>\n",
       "      <td>6.0</td>\n",
       "      <td>6.000000</td>\n",
       "      <td>5.000000</td>\n",
       "      <td>5.000000</td>\n",
       "      <td>5.000000</td>\n",
       "      <td>5.000000</td>\n",
       "      <td>5.000000</td>\n",
       "      <td>6.000000</td>\n",
       "      <td>0.0</td>\n",
       "      <td>0.0</td>\n",
       "    </tr>\n",
       "    <tr>\n",
       "      <th>mean</th>\n",
       "      <td>2023-06-25 00:00:00</td>\n",
       "      <td>0.651455</td>\n",
       "      <td>0.492945</td>\n",
       "      <td>0.351323</td>\n",
       "      <td>0.175661</td>\n",
       "      <td>0.117108</td>\n",
       "      <td>0.017566</td>\n",
       "      <td>0.651455</td>\n",
       "      <td>0.766867</td>\n",
       "      <td>0.832789</td>\n",
       "      <td>...</td>\n",
       "      <td>1.0</td>\n",
       "      <td>0.475298</td>\n",
       "      <td>0.903333</td>\n",
       "      <td>0.913333</td>\n",
       "      <td>0.913333</td>\n",
       "      <td>0.913333</td>\n",
       "      <td>0.913333</td>\n",
       "      <td>0.121294</td>\n",
       "      <td>NaN</td>\n",
       "      <td>NaN</td>\n",
       "    </tr>\n",
       "    <tr>\n",
       "      <th>min</th>\n",
       "      <td>2023-06-20 00:00:00</td>\n",
       "      <td>0.000000</td>\n",
       "      <td>0.166667</td>\n",
       "      <td>0.200000</td>\n",
       "      <td>0.100000</td>\n",
       "      <td>0.066667</td>\n",
       "      <td>0.010000</td>\n",
       "      <td>0.000000</td>\n",
       "      <td>0.250000</td>\n",
       "      <td>0.443426</td>\n",
       "      <td>...</td>\n",
       "      <td>1.0</td>\n",
       "      <td>0.000000</td>\n",
       "      <td>0.666667</td>\n",
       "      <td>0.666667</td>\n",
       "      <td>0.666667</td>\n",
       "      <td>0.666667</td>\n",
       "      <td>0.666667</td>\n",
       "      <td>0.114003</td>\n",
       "      <td>NaN</td>\n",
       "      <td>NaN</td>\n",
       "    </tr>\n",
       "    <tr>\n",
       "      <th>25%</th>\n",
       "      <td>2023-06-22 12:00:00</td>\n",
       "      <td>0.678571</td>\n",
       "      <td>0.477513</td>\n",
       "      <td>0.286508</td>\n",
       "      <td>0.143254</td>\n",
       "      <td>0.095503</td>\n",
       "      <td>0.014325</td>\n",
       "      <td>0.678571</td>\n",
       "      <td>0.790413</td>\n",
       "      <td>0.872816</td>\n",
       "      <td>...</td>\n",
       "      <td>1.0</td>\n",
       "      <td>0.359375</td>\n",
       "      <td>0.850000</td>\n",
       "      <td>0.900000</td>\n",
       "      <td>0.900000</td>\n",
       "      <td>0.900000</td>\n",
       "      <td>0.900000</td>\n",
       "      <td>0.122248</td>\n",
       "      <td>NaN</td>\n",
       "      <td>NaN</td>\n",
       "    </tr>\n",
       "    <tr>\n",
       "      <th>50%</th>\n",
       "      <td>2023-06-25 00:00:00</td>\n",
       "      <td>0.732143</td>\n",
       "      <td>0.490741</td>\n",
       "      <td>0.294444</td>\n",
       "      <td>0.147222</td>\n",
       "      <td>0.098148</td>\n",
       "      <td>0.014722</td>\n",
       "      <td>0.732143</td>\n",
       "      <td>0.880061</td>\n",
       "      <td>0.901142</td>\n",
       "      <td>...</td>\n",
       "      <td>1.0</td>\n",
       "      <td>0.552083</td>\n",
       "      <td>1.000000</td>\n",
       "      <td>1.000000</td>\n",
       "      <td>1.000000</td>\n",
       "      <td>1.000000</td>\n",
       "      <td>1.000000</td>\n",
       "      <td>0.122445</td>\n",
       "      <td>NaN</td>\n",
       "      <td>NaN</td>\n",
       "    </tr>\n",
       "    <tr>\n",
       "      <th>75%</th>\n",
       "      <td>2023-06-27 12:00:00</td>\n",
       "      <td>0.770833</td>\n",
       "      <td>0.625000</td>\n",
       "      <td>0.400000</td>\n",
       "      <td>0.200000</td>\n",
       "      <td>0.133333</td>\n",
       "      <td>0.020000</td>\n",
       "      <td>0.770833</td>\n",
       "      <td>0.904437</td>\n",
       "      <td>0.915421</td>\n",
       "      <td>...</td>\n",
       "      <td>1.0</td>\n",
       "      <td>0.691667</td>\n",
       "      <td>1.000000</td>\n",
       "      <td>1.000000</td>\n",
       "      <td>1.000000</td>\n",
       "      <td>1.000000</td>\n",
       "      <td>1.000000</td>\n",
       "      <td>0.122981</td>\n",
       "      <td>NaN</td>\n",
       "      <td>NaN</td>\n",
       "    </tr>\n",
       "    <tr>\n",
       "      <th>max</th>\n",
       "      <td>2023-06-30 00:00:00</td>\n",
       "      <td>1.000000</td>\n",
       "      <td>0.666667</td>\n",
       "      <td>0.600000</td>\n",
       "      <td>0.300000</td>\n",
       "      <td>0.200000</td>\n",
       "      <td>0.030000</td>\n",
       "      <td>1.000000</td>\n",
       "      <td>0.917984</td>\n",
       "      <td>0.967468</td>\n",
       "      <td>...</td>\n",
       "      <td>1.0</td>\n",
       "      <td>0.714286</td>\n",
       "      <td>1.000000</td>\n",
       "      <td>1.000000</td>\n",
       "      <td>1.000000</td>\n",
       "      <td>1.000000</td>\n",
       "      <td>1.000000</td>\n",
       "      <td>0.123530</td>\n",
       "      <td>NaN</td>\n",
       "      <td>NaN</td>\n",
       "    </tr>\n",
       "    <tr>\n",
       "      <th>std</th>\n",
       "      <td>NaN</td>\n",
       "      <td>0.339330</td>\n",
       "      <td>0.182909</td>\n",
       "      <td>0.143039</td>\n",
       "      <td>0.071520</td>\n",
       "      <td>0.047680</td>\n",
       "      <td>0.007152</td>\n",
       "      <td>0.339330</td>\n",
       "      <td>0.259183</td>\n",
       "      <td>0.193652</td>\n",
       "      <td>...</td>\n",
       "      <td>0.0</td>\n",
       "      <td>0.279900</td>\n",
       "      <td>0.147385</td>\n",
       "      <td>0.144530</td>\n",
       "      <td>0.144530</td>\n",
       "      <td>0.144530</td>\n",
       "      <td>0.144530</td>\n",
       "      <td>0.003607</td>\n",
       "      <td>NaN</td>\n",
       "      <td>NaN</td>\n",
       "    </tr>\n",
       "  </tbody>\n",
       "</table>\n",
       "<p>8 rows × 34 columns</p>\n",
       "</div>"
      ],
      "text/plain": [
       "                      fold  precision@1  precision@3  precision@5  \\\n",
       "count                    6     6.000000     6.000000     6.000000   \n",
       "mean   2023-06-25 00:00:00     0.651455     0.492945     0.351323   \n",
       "min    2023-06-20 00:00:00     0.000000     0.166667     0.200000   \n",
       "25%    2023-06-22 12:00:00     0.678571     0.477513     0.286508   \n",
       "50%    2023-06-25 00:00:00     0.732143     0.490741     0.294444   \n",
       "75%    2023-06-27 12:00:00     0.770833     0.625000     0.400000   \n",
       "max    2023-06-30 00:00:00     1.000000     0.666667     0.600000   \n",
       "std                    NaN     0.339330     0.182909     0.143039   \n",
       "\n",
       "       precision@10  precision@15  precision@100    ndcg@1    ndcg@3  \\\n",
       "count      6.000000      6.000000       6.000000  6.000000  6.000000   \n",
       "mean       0.175661      0.117108       0.017566  0.651455  0.766867   \n",
       "min        0.100000      0.066667       0.010000  0.000000  0.250000   \n",
       "25%        0.143254      0.095503       0.014325  0.678571  0.790413   \n",
       "50%        0.147222      0.098148       0.014722  0.732143  0.880061   \n",
       "75%        0.200000      0.133333       0.020000  0.770833  0.904437   \n",
       "max        0.300000      0.200000       0.030000  1.000000  0.917984   \n",
       "std        0.071520      0.047680       0.007152  0.339330  0.259183   \n",
       "\n",
       "         ndcg@5  ...  recall@100  r-precision@1  r-precision@3  r-precision@5  \\\n",
       "count  6.000000  ...         6.0       6.000000       5.000000       5.000000   \n",
       "mean   0.832789  ...         1.0       0.475298       0.903333       0.913333   \n",
       "min    0.443426  ...         1.0       0.000000       0.666667       0.666667   \n",
       "25%    0.872816  ...         1.0       0.359375       0.850000       0.900000   \n",
       "50%    0.901142  ...         1.0       0.552083       1.000000       1.000000   \n",
       "75%    0.915421  ...         1.0       0.691667       1.000000       1.000000   \n",
       "max    0.967468  ...         1.0       0.714286       1.000000       1.000000   \n",
       "std    0.193652  ...         0.0       0.279900       0.147385       0.144530   \n",
       "\n",
       "       r-precision@10  r-precision@15  r-precision@100  time_eval  \\\n",
       "count        5.000000        5.000000         5.000000   6.000000   \n",
       "mean         0.913333        0.913333         0.913333   0.121294   \n",
       "min          0.666667        0.666667         0.666667   0.114003   \n",
       "25%          0.900000        0.900000         0.900000   0.122248   \n",
       "50%          1.000000        1.000000         1.000000   0.122445   \n",
       "75%          1.000000        1.000000         1.000000   0.122981   \n",
       "max          1.000000        1.000000         1.000000   0.123530   \n",
       "std          0.144530        0.144530         0.144530   0.003607   \n",
       "\n",
       "       perfect precision@5  perfect precision@10  \n",
       "count                  0.0                   0.0  \n",
       "mean                   NaN                   NaN  \n",
       "min                    NaN                   NaN  \n",
       "25%                    NaN                   NaN  \n",
       "50%                    NaN                   NaN  \n",
       "75%                    NaN                   NaN  \n",
       "max                    NaN                   NaN  \n",
       "std                    NaN                   NaN  \n",
       "\n",
       "[8 rows x 34 columns]"
      ]
     },
     "execution_count": 13,
     "metadata": {},
     "output_type": "execute_result"
    }
   ],
   "source": [
    "mdf[-LAST_FOLDS:].describe()"
   ]
  },
  {
   "cell_type": "code",
   "execution_count": null,
   "id": "d1e84735",
   "metadata": {
    "papermill": {
     "duration": 0.007939,
     "end_time": "2024-09-05T09:08:15.602723",
     "exception": false,
     "start_time": "2024-09-05T09:08:15.594784",
     "status": "completed"
    },
    "tags": []
   },
   "outputs": [],
   "source": []
  }
 ],
 "metadata": {
  "kernelspec": {
   "display_name": "Python 3 (ipykernel)",
   "language": "python",
   "name": "python3"
  },
  "language_info": {
   "codemirror_mode": {
    "name": "ipython",
    "version": 3
   },
   "file_extension": ".py",
   "mimetype": "text/x-python",
   "name": "python",
   "nbconvert_exporter": "python",
   "pygments_lexer": "ipython3",
   "version": "3.11.6"
  },
  "papermill": {
   "default_parameters": {},
   "duration": 74.576575,
   "end_time": "2024-09-05T09:08:16.733157",
   "environment_variables": {},
   "exception": null,
   "input_path": "10_baseline.ipynb",
   "output_path": "../nbout/HUWA-DAO/10_baseline.ipynb",
   "parameters": {
    "EXECUTION_ID": "2024-09-04T10:00",
    "LAST_FOLDS": 6,
    "LAST_FOLD_DATE_STR": "2021-11-13",
    "ORG_NAME": "HUWA-DAO",
    "SPLITS_FREQ": "2d",
    "SPLITS_NORMALIZE": true
   },
   "start_time": "2024-09-05T09:07:02.156582",
   "version": "2.6.0"
  },
  "widgets": {
   "application/vnd.jupyter.widget-state+json": {
    "state": {
     "0eee5b8548534b7a9c345aff61bb7261": {
      "model_module": "@jupyter-widgets/base",
      "model_module_version": "2.0.0",
      "model_name": "LayoutModel",
      "state": {
       "_model_module": "@jupyter-widgets/base",
       "_model_module_version": "2.0.0",
       "_model_name": "LayoutModel",
       "_view_count": null,
       "_view_module": "@jupyter-widgets/base",
       "_view_module_version": "2.0.0",
       "_view_name": "LayoutView",
       "align_content": null,
       "align_items": null,
       "align_self": null,
       "border_bottom": null,
       "border_left": null,
       "border_right": null,
       "border_top": null,
       "bottom": null,
       "display": null,
       "flex": null,
       "flex_flow": null,
       "grid_area": null,
       "grid_auto_columns": null,
       "grid_auto_flow": null,
       "grid_auto_rows": null,
       "grid_column": null,
       "grid_gap": null,
       "grid_row": null,
       "grid_template_areas": null,
       "grid_template_columns": null,
       "grid_template_rows": null,
       "height": null,
       "justify_content": null,
       "justify_items": null,
       "left": null,
       "margin": null,
       "max_height": null,
       "max_width": null,
       "min_height": null,
       "min_width": null,
       "object_fit": null,
       "object_position": null,
       "order": null,
       "overflow": null,
       "padding": null,
       "right": null,
       "top": null,
       "visibility": null,
       "width": null
      }
     },
     "2004a947ab5d4e7486d201898c18211b": {
      "model_module": "@jupyter-widgets/controls",
      "model_module_version": "2.0.0",
      "model_name": "HTMLStyleModel",
      "state": {
       "_model_module": "@jupyter-widgets/controls",
       "_model_module_version": "2.0.0",
       "_model_name": "HTMLStyleModel",
       "_view_count": null,
       "_view_module": "@jupyter-widgets/base",
       "_view_module_version": "2.0.0",
       "_view_name": "StyleView",
       "background": null,
       "description_width": "",
       "font_size": null,
       "text_color": null
      }
     },
     "37454249b53a405396115059e29a6bf0": {
      "model_module": "@jupyter-widgets/base",
      "model_module_version": "2.0.0",
      "model_name": "LayoutModel",
      "state": {
       "_model_module": "@jupyter-widgets/base",
       "_model_module_version": "2.0.0",
       "_model_name": "LayoutModel",
       "_view_count": null,
       "_view_module": "@jupyter-widgets/base",
       "_view_module_version": "2.0.0",
       "_view_name": "LayoutView",
       "align_content": null,
       "align_items": null,
       "align_self": null,
       "border_bottom": null,
       "border_left": null,
       "border_right": null,
       "border_top": null,
       "bottom": null,
       "display": null,
       "flex": null,
       "flex_flow": null,
       "grid_area": null,
       "grid_auto_columns": null,
       "grid_auto_flow": null,
       "grid_auto_rows": null,
       "grid_column": null,
       "grid_gap": null,
       "grid_row": null,
       "grid_template_areas": null,
       "grid_template_columns": null,
       "grid_template_rows": null,
       "height": null,
       "justify_content": null,
       "justify_items": null,
       "left": null,
       "margin": null,
       "max_height": null,
       "max_width": null,
       "min_height": null,
       "min_width": null,
       "object_fit": null,
       "object_position": null,
       "order": null,
       "overflow": null,
       "padding": null,
       "right": null,
       "top": null,
       "visibility": null,
       "width": null
      }
     },
     "47b645b9c4524df287116233d0f89d84": {
      "model_module": "@jupyter-widgets/controls",
      "model_module_version": "2.0.0",
      "model_name": "HTMLModel",
      "state": {
       "_dom_classes": [],
       "_model_module": "@jupyter-widgets/controls",
       "_model_module_version": "2.0.0",
       "_model_name": "HTMLModel",
       "_view_count": null,
       "_view_module": "@jupyter-widgets/controls",
       "_view_module_version": "2.0.0",
       "_view_name": "HTMLView",
       "description": "",
       "description_allow_html": false,
       "layout": "IPY_MODEL_0eee5b8548534b7a9c345aff61bb7261",
       "placeholder": "​",
       "style": "IPY_MODEL_63bdbb158301443caa7a8dc2f2299a57",
       "tabbable": null,
       "tooltip": null,
       "value": " 355/355 [01:08&lt;00:00,  3.99it/s]"
      }
     },
     "63bdbb158301443caa7a8dc2f2299a57": {
      "model_module": "@jupyter-widgets/controls",
      "model_module_version": "2.0.0",
      "model_name": "HTMLStyleModel",
      "state": {
       "_model_module": "@jupyter-widgets/controls",
       "_model_module_version": "2.0.0",
       "_model_name": "HTMLStyleModel",
       "_view_count": null,
       "_view_module": "@jupyter-widgets/base",
       "_view_module_version": "2.0.0",
       "_view_name": "StyleView",
       "background": null,
       "description_width": "",
       "font_size": null,
       "text_color": null
      }
     },
     "8ad73c6eb19f4755ac64a93227fe2229": {
      "model_module": "@jupyter-widgets/controls",
      "model_module_version": "2.0.0",
      "model_name": "HBoxModel",
      "state": {
       "_dom_classes": [],
       "_model_module": "@jupyter-widgets/controls",
       "_model_module_version": "2.0.0",
       "_model_name": "HBoxModel",
       "_view_count": null,
       "_view_module": "@jupyter-widgets/controls",
       "_view_module_version": "2.0.0",
       "_view_name": "HBoxView",
       "box_style": "",
       "children": [
        "IPY_MODEL_a2a6671bce5f416e954f28907a05e17d",
        "IPY_MODEL_e26786cb593346c58e1ecb22f5e7bcb3",
        "IPY_MODEL_47b645b9c4524df287116233d0f89d84"
       ],
       "layout": "IPY_MODEL_37454249b53a405396115059e29a6bf0",
       "tabbable": null,
       "tooltip": null
      }
     },
     "970b549bf9c9459d8855916cdf7193ea": {
      "model_module": "@jupyter-widgets/controls",
      "model_module_version": "2.0.0",
      "model_name": "ProgressStyleModel",
      "state": {
       "_model_module": "@jupyter-widgets/controls",
       "_model_module_version": "2.0.0",
       "_model_name": "ProgressStyleModel",
       "_view_count": null,
       "_view_module": "@jupyter-widgets/base",
       "_view_module_version": "2.0.0",
       "_view_name": "StyleView",
       "bar_color": null,
       "description_width": ""
      }
     },
     "a2a6671bce5f416e954f28907a05e17d": {
      "model_module": "@jupyter-widgets/controls",
      "model_module_version": "2.0.0",
      "model_name": "HTMLModel",
      "state": {
       "_dom_classes": [],
       "_model_module": "@jupyter-widgets/controls",
       "_model_module_version": "2.0.0",
       "_model_name": "HTMLModel",
       "_view_count": null,
       "_view_module": "@jupyter-widgets/controls",
       "_view_module_version": "2.0.0",
       "_view_name": "HTMLView",
       "description": "",
       "description_allow_html": false,
       "layout": "IPY_MODEL_aad4e69cb92c44398d92c0905899af26",
       "placeholder": "​",
       "style": "IPY_MODEL_2004a947ab5d4e7486d201898c18211b",
       "tabbable": null,
       "tooltip": null,
       "value": "100%"
      }
     },
     "aad4e69cb92c44398d92c0905899af26": {
      "model_module": "@jupyter-widgets/base",
      "model_module_version": "2.0.0",
      "model_name": "LayoutModel",
      "state": {
       "_model_module": "@jupyter-widgets/base",
       "_model_module_version": "2.0.0",
       "_model_name": "LayoutModel",
       "_view_count": null,
       "_view_module": "@jupyter-widgets/base",
       "_view_module_version": "2.0.0",
       "_view_name": "LayoutView",
       "align_content": null,
       "align_items": null,
       "align_self": null,
       "border_bottom": null,
       "border_left": null,
       "border_right": null,
       "border_top": null,
       "bottom": null,
       "display": null,
       "flex": null,
       "flex_flow": null,
       "grid_area": null,
       "grid_auto_columns": null,
       "grid_auto_flow": null,
       "grid_auto_rows": null,
       "grid_column": null,
       "grid_gap": null,
       "grid_row": null,
       "grid_template_areas": null,
       "grid_template_columns": null,
       "grid_template_rows": null,
       "height": null,
       "justify_content": null,
       "justify_items": null,
       "left": null,
       "margin": null,
       "max_height": null,
       "max_width": null,
       "min_height": null,
       "min_width": null,
       "object_fit": null,
       "object_position": null,
       "order": null,
       "overflow": null,
       "padding": null,
       "right": null,
       "top": null,
       "visibility": null,
       "width": null
      }
     },
     "e26786cb593346c58e1ecb22f5e7bcb3": {
      "model_module": "@jupyter-widgets/controls",
      "model_module_version": "2.0.0",
      "model_name": "FloatProgressModel",
      "state": {
       "_dom_classes": [],
       "_model_module": "@jupyter-widgets/controls",
       "_model_module_version": "2.0.0",
       "_model_name": "FloatProgressModel",
       "_view_count": null,
       "_view_module": "@jupyter-widgets/controls",
       "_view_module_version": "2.0.0",
       "_view_name": "ProgressView",
       "bar_style": "success",
       "description": "",
       "description_allow_html": false,
       "layout": "IPY_MODEL_fab5f503d51948438a9ed2edf3a12f8f",
       "max": 355.0,
       "min": 0.0,
       "orientation": "horizontal",
       "style": "IPY_MODEL_970b549bf9c9459d8855916cdf7193ea",
       "tabbable": null,
       "tooltip": null,
       "value": 355.0
      }
     },
     "fab5f503d51948438a9ed2edf3a12f8f": {
      "model_module": "@jupyter-widgets/base",
      "model_module_version": "2.0.0",
      "model_name": "LayoutModel",
      "state": {
       "_model_module": "@jupyter-widgets/base",
       "_model_module_version": "2.0.0",
       "_model_name": "LayoutModel",
       "_view_count": null,
       "_view_module": "@jupyter-widgets/base",
       "_view_module_version": "2.0.0",
       "_view_name": "LayoutView",
       "align_content": null,
       "align_items": null,
       "align_self": null,
       "border_bottom": null,
       "border_left": null,
       "border_right": null,
       "border_top": null,
       "bottom": null,
       "display": null,
       "flex": null,
       "flex_flow": null,
       "grid_area": null,
       "grid_auto_columns": null,
       "grid_auto_flow": null,
       "grid_auto_rows": null,
       "grid_column": null,
       "grid_gap": null,
       "grid_row": null,
       "grid_template_areas": null,
       "grid_template_columns": null,
       "grid_template_rows": null,
       "height": null,
       "justify_content": null,
       "justify_items": null,
       "left": null,
       "margin": null,
       "max_height": null,
       "max_width": null,
       "min_height": null,
       "min_width": null,
       "object_fit": null,
       "object_position": null,
       "order": null,
       "overflow": null,
       "padding": null,
       "right": null,
       "top": null,
       "visibility": null,
       "width": null
      }
     }
    },
    "version_major": 2,
    "version_minor": 0
   }
  }
 },
 "nbformat": 4,
 "nbformat_minor": 5
}