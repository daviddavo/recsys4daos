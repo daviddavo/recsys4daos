{
 "cells": [
  {
   "cell_type": "code",
   "execution_count": 1,
   "id": "a831b0c3",
   "metadata": {
    "editable": true,
    "execution": {
     "iopub.execute_input": "2024-09-05T09:25:15.303139Z",
     "iopub.status.busy": "2024-09-05T09:25:15.303049Z",
     "iopub.status.idle": "2024-09-05T09:25:18.134477Z",
     "shell.execute_reply": "2024-09-05T09:25:18.134192Z"
    },
    "papermill": {
     "duration": 2.840098,
     "end_time": "2024-09-05T09:25:18.135283",
     "exception": false,
     "start_time": "2024-09-05T09:25:15.295185",
     "status": "completed"
    },
    "slideshow": {
     "slide_type": ""
    },
    "tags": []
   },
   "outputs": [
    {
     "name": "stderr",
     "output_type": "stream",
     "text": [
      "/tmp/ipykernel_3816134/1371776918.py:11: TqdmExperimentalWarning: Using `tqdm.autonotebook.tqdm` in notebook mode. Use `tqdm.tqdm` instead to force console mode (e.g. in jupyter console)\n",
      "  from tqdm.autonotebook import tqdm\n"
     ]
    },
    {
     "name": "stdout",
     "output_type": "stream",
     "text": [
      "Ignoring warnings\n",
      "3.11.6 (main, Jun 24 2024, 07:45:26) [GCC 11.4.0]\n",
      "recommenders: 1.2.0\n",
      "ray: 2.30.0\n",
      "tensorflow: 2.16.1\n"
     ]
    }
   ],
   "source": [
    "from typing import List, Dict, Any\n",
    "\n",
    "from pathlib import Path\n",
    "import os, sys\n",
    "import time\n",
    "import datetime as dt\n",
    "import itertools as it\n",
    "\n",
    "import numpy as np\n",
    "import pandas as pd\n",
    "from tqdm.autonotebook import tqdm\n",
    "import ray\n",
    "from ray import train, tune\n",
    "import ipywidgets as widgets\n",
    "\n",
    "from recsys4daos.model_selection import cvtt_open\n",
    "from recsys4daos.datasets import to_microsoft, filter_window_size\n",
    "from recsys4daos.models import LightGCNCustom\n",
    "from recsys4daos.utils import Timer\n",
    "import recsys4daos.utils.notebooks as nbu\n",
    "\n",
    "import recommenders\n",
    "if recommenders.__version__ == '1.2.0':\n",
    "    print(\"Ignoring warnings\")\n",
    "    import warnings\n",
    "    warnings.simplefilter(action='ignore', category=FutureWarning)\n",
    "\n",
    "import paths\n",
    "\n",
    "nbu.print_versions('ray', 'tensorflow')\n",
    "\n",
    "%load_ext autoreload\n",
    "%autoreload 2"
   ]
  },
  {
   "cell_type": "code",
   "execution_count": 2,
   "id": "ee30ed36",
   "metadata": {
    "editable": true,
    "execution": {
     "iopub.execute_input": "2024-09-05T09:25:18.141437Z",
     "iopub.status.busy": "2024-09-05T09:25:18.141202Z",
     "iopub.status.idle": "2024-09-05T09:25:18.162583Z",
     "shell.execute_reply": "2024-09-05T09:25:18.162359Z"
    },
    "papermill": {
     "duration": 0.02516,
     "end_time": "2024-09-05T09:25:18.163262",
     "exception": false,
     "start_time": "2024-09-05T09:25:18.138102",
     "status": "completed"
    },
    "slideshow": {
     "slide_type": ""
    },
    "tags": [
     "parameters"
    ]
   },
   "outputs": [],
   "source": [
    "# Others config\n",
    "SEED: int = 57\n",
    "RAY_RESULTS_PATH: Path = '~/ray_results3.11'\n",
    "\n",
    "# Dataset splits config\n",
    "ORG_NAME = 'Decentraland'\n",
    "SPLITS_FREQ = 'W-THU'  # Split weekly\n",
    "LAST_FOLDS = 10  # Use just last 10 splits\n",
    "SPLITS_NORMALIZE = True\n",
    "LAST_FOLD_DATE_STR: str = '2023-07-13'\n",
    "\n",
    "# Training config\n",
    "MAX_EPOCHS: int = 200\n",
    "EPOCHS_PER_ITER: int = 5\n",
    "SAMPLES_PER_SPLIT: int = 100\n",
    "MAX_TIME_TOTAL_TRAIN: int = 300\n",
    "OPTIM_METRIC: str = 'map@10'\n",
    "\n",
    "# Search space config\n",
    "MAX_EMBEDDING_DIM = 1024\n",
    "MIN_BATCH_SIZE = 6\n",
    "MAX_BATCH_SIZE = 10 # 2**10\n",
    "MIN_LR = 1e-4\n",
    "# WINDOW_SIZES = ['7d', '14d', '21d', '30d', '60d', '90d', '10YE']\n",
    "WINDOW_SIZES = ['21d', '30d', '60d', '90d', '10YE']\n",
    "GPUS = 16\n",
    "\n",
    "# Eval config\n",
    "K_RECOMMENDATIONS: List[int] = [1,3,5,10,15,100]\n",
    "METRICS: List[str] = [\"recall\", \"ndcg\", \"precision\", \"map\"]"
   ]
  },
  {
   "cell_type": "code",
   "execution_count": 3,
   "id": "0850a2b0",
   "metadata": {
    "execution": {
     "iopub.execute_input": "2024-09-05T09:25:18.168420Z",
     "iopub.status.busy": "2024-09-05T09:25:18.168288Z",
     "iopub.status.idle": "2024-09-05T09:25:18.189595Z",
     "shell.execute_reply": "2024-09-05T09:25:18.189307Z"
    },
    "papermill": {
     "duration": 0.024805,
     "end_time": "2024-09-05T09:25:18.190312",
     "exception": false,
     "start_time": "2024-09-05T09:25:18.165507",
     "status": "completed"
    },
    "tags": [
     "injected-parameters"
    ]
   },
   "outputs": [],
   "source": [
    "# Parameters\n",
    "EXECUTION_ID = \"2024-09-04T10:00\"\n",
    "ORG_NAME = \"HUWA-DAO\"\n",
    "SPLITS_FREQ = \"2d\"\n",
    "LAST_FOLDS = 6\n",
    "SPLITS_NORMALIZE = True\n",
    "LAST_FOLD_DATE_STR = \"2021-11-13\"\n"
   ]
  },
  {
   "cell_type": "code",
   "execution_count": 4,
   "id": "d07440a2",
   "metadata": {
    "execution": {
     "iopub.execute_input": "2024-09-05T09:25:18.195331Z",
     "iopub.status.busy": "2024-09-05T09:25:18.195204Z",
     "iopub.status.idle": "2024-09-05T09:25:18.213003Z",
     "shell.execute_reply": "2024-09-05T09:25:18.212794Z"
    },
    "papermill": {
     "duration": 0.021626,
     "end_time": "2024-09-05T09:25:18.214159",
     "exception": false,
     "start_time": "2024-09-05T09:25:18.192533",
     "status": "completed"
    },
    "tags": []
   },
   "outputs": [],
   "source": [
    "RAY_RESULTS_PATH = Path(RAY_RESULTS_PATH).expanduser()"
   ]
  },
  {
   "cell_type": "markdown",
   "id": "3319386a",
   "metadata": {
    "papermill": {
     "duration": 0.002443,
     "end_time": "2024-09-05T09:25:18.218828",
     "exception": false,
     "start_time": "2024-09-05T09:25:18.216385",
     "status": "completed"
    },
    "tags": []
   },
   "source": [
    "## Obtain dataset"
   ]
  },
  {
   "cell_type": "code",
   "execution_count": 5,
   "id": "f17bac43",
   "metadata": {
    "execution": {
     "iopub.execute_input": "2024-09-05T09:25:18.223820Z",
     "iopub.status.busy": "2024-09-05T09:25:18.223725Z",
     "iopub.status.idle": "2024-09-05T09:25:18.369502Z",
     "shell.execute_reply": "2024-09-05T09:25:18.366965Z"
    },
    "papermill": {
     "duration": 0.154252,
     "end_time": "2024-09-05T09:25:18.375243",
     "exception": false,
     "start_time": "2024-09-05T09:25:18.220991",
     "status": "completed"
    },
    "tags": []
   },
   "outputs": [
    {
     "name": "stdout",
     "output_type": "stream",
     "text": [
      "/home/daviddavo/recsys4daos/notebooks\r\n"
     ]
    }
   ],
   "source": [
    "!pwd"
   ]
  },
  {
   "cell_type": "code",
   "execution_count": 6,
   "id": "ff4bfbb0",
   "metadata": {
    "execution": {
     "iopub.execute_input": "2024-09-05T09:25:18.397644Z",
     "iopub.status.busy": "2024-09-05T09:25:18.397419Z",
     "iopub.status.idle": "2024-09-05T09:25:18.440484Z",
     "shell.execute_reply": "2024-09-05T09:25:18.440256Z"
    },
    "papermill": {
     "duration": 0.052676,
     "end_time": "2024-09-05T09:25:18.441604",
     "exception": false,
     "start_time": "2024-09-05T09:25:18.388928",
     "status": "completed"
    },
    "tags": []
   },
   "outputs": [
    {
     "name": "stdout",
     "output_type": "stream",
     "text": [
      "<class 'pandas.core.frame.DataFrame'>\n",
      "RangeIndex: 631 entries, 0 to 630\n",
      "Data columns (total 6 columns):\n",
      " #   Column             Non-Null Count  Dtype         \n",
      "---  ------             --------------  -----         \n",
      " 0   id                 631 non-null    object        \n",
      " 1   author             631 non-null    object        \n",
      " 2   date               631 non-null    datetime64[us]\n",
      " 3   start              631 non-null    datetime64[us]\n",
      " 4   end                631 non-null    datetime64[us]\n",
      " 5   platform_proposal  631 non-null    object        \n",
      "dtypes: datetime64[us](3), object(3)\n",
      "memory usage: 29.7+ KB\n",
      "None\n",
      "<class 'pandas.core.frame.DataFrame'>\n",
      "RangeIndex: 4151 entries, 0 to 4150\n",
      "Data columns (total 4 columns):\n",
      " #   Column    Non-Null Count  Dtype         \n",
      "---  ------    --------------  -----         \n",
      " 0   id        4151 non-null   object        \n",
      " 1   proposal  4151 non-null   object        \n",
      " 2   voter     4151 non-null   object        \n",
      " 3   date      4151 non-null   datetime64[us]\n",
      "dtypes: datetime64[us](1), object(3)\n",
      "memory usage: 129.8+ KB\n",
      "None\n"
     ]
    }
   ],
   "source": [
    "dfp = paths.load_proposals(ORG_NAME)\n",
    "dfv = paths.load_votes(ORG_NAME)\n",
    "\n",
    "print(dfp.info())\n",
    "print(dfv.info())"
   ]
  },
  {
   "cell_type": "markdown",
   "id": "dc625c21",
   "metadata": {
    "papermill": {
     "duration": 0.002526,
     "end_time": "2024-09-05T09:25:18.446591",
     "exception": false,
     "start_time": "2024-09-05T09:25:18.444065",
     "status": "completed"
    },
    "tags": []
   },
   "source": [
    "## Split data"
   ]
  },
  {
   "cell_type": "code",
   "execution_count": 7,
   "id": "4be0bebd",
   "metadata": {
    "execution": {
     "iopub.execute_input": "2024-09-05T09:25:18.451931Z",
     "iopub.status.busy": "2024-09-05T09:25:18.451804Z",
     "iopub.status.idle": "2024-09-05T09:25:18.478344Z",
     "shell.execute_reply": "2024-09-05T09:25:18.478141Z"
    },
    "papermill": {
     "duration": 0.030187,
     "end_time": "2024-09-05T09:25:18.479085",
     "exception": false,
     "start_time": "2024-09-05T09:25:18.448898",
     "status": "completed"
    },
    "tags": []
   },
   "outputs": [
    {
     "data": {
      "text/html": [
       "<div>\n",
       "<style scoped>\n",
       "    .dataframe tbody tr th:only-of-type {\n",
       "        vertical-align: middle;\n",
       "    }\n",
       "\n",
       "    .dataframe tbody tr th {\n",
       "        vertical-align: top;\n",
       "    }\n",
       "\n",
       "    .dataframe thead th {\n",
       "        text-align: right;\n",
       "    }\n",
       "</style>\n",
       "<table border=\"1\" class=\"dataframe\">\n",
       "  <thead>\n",
       "    <tr style=\"text-align: right;\">\n",
       "      <th></th>\n",
       "      <th>userID</th>\n",
       "      <th>itemID</th>\n",
       "      <th>timestamp</th>\n",
       "      <th>rating</th>\n",
       "    </tr>\n",
       "  </thead>\n",
       "  <tbody>\n",
       "    <tr>\n",
       "      <th>0</th>\n",
       "      <td>0x7452e7d530078dbd6a2ed65007bea00a4d60f138</td>\n",
       "      <td>7f78eca6-a122-5074-ad86-268642177a4b</td>\n",
       "      <td>2021-07-22 11:44:39</td>\n",
       "      <td>1</td>\n",
       "    </tr>\n",
       "    <tr>\n",
       "      <th>1</th>\n",
       "      <td>0x2245be89fc8fab94ed982e859aa3212a4e4eb7e5</td>\n",
       "      <td>7f78eca6-a122-5074-ad86-268642177a4b</td>\n",
       "      <td>2021-07-22 11:48:19</td>\n",
       "      <td>1</td>\n",
       "    </tr>\n",
       "    <tr>\n",
       "      <th>2</th>\n",
       "      <td>0x5f527da3f5d3107423080165ed5452c94940c812</td>\n",
       "      <td>7f78eca6-a122-5074-ad86-268642177a4b</td>\n",
       "      <td>2021-07-22 11:48:38</td>\n",
       "      <td>1</td>\n",
       "    </tr>\n",
       "    <tr>\n",
       "      <th>3</th>\n",
       "      <td>0xd903839f391b169becc0a9d5aa98e26a06542cd0</td>\n",
       "      <td>7f78eca6-a122-5074-ad86-268642177a4b</td>\n",
       "      <td>2021-07-22 11:53:23</td>\n",
       "      <td>1</td>\n",
       "    </tr>\n",
       "    <tr>\n",
       "      <th>4</th>\n",
       "      <td>0xab7b49bacd43bd4cfa41433d477f690bb9e1fb26</td>\n",
       "      <td>7f78eca6-a122-5074-ad86-268642177a4b</td>\n",
       "      <td>2021-07-22 11:57:02</td>\n",
       "      <td>1</td>\n",
       "    </tr>\n",
       "    <tr>\n",
       "      <th>...</th>\n",
       "      <td>...</td>\n",
       "      <td>...</td>\n",
       "      <td>...</td>\n",
       "      <td>...</td>\n",
       "    </tr>\n",
       "    <tr>\n",
       "      <th>4146</th>\n",
       "      <td>0x20d801dbee0505f9a77cff40f5fed6ff0f0ee9d6</td>\n",
       "      <td>ccddcdaf-d162-54c1-9714-f10b876ff38b</td>\n",
       "      <td>2023-06-30 14:01:01</td>\n",
       "      <td>1</td>\n",
       "    </tr>\n",
       "    <tr>\n",
       "      <th>4147</th>\n",
       "      <td>0x20d801dbee0505f9a77cff40f5fed6ff0f0ee9d6</td>\n",
       "      <td>2ef1f8a7-ecd9-5064-b846-c1b2204d2faa</td>\n",
       "      <td>2023-06-30 14:01:29</td>\n",
       "      <td>1</td>\n",
       "    </tr>\n",
       "    <tr>\n",
       "      <th>4148</th>\n",
       "      <td>0x6404f1952d58a748d10e8747bd621714e873da0d</td>\n",
       "      <td>ccddcdaf-d162-54c1-9714-f10b876ff38b</td>\n",
       "      <td>2023-07-01 00:50:21</td>\n",
       "      <td>1</td>\n",
       "    </tr>\n",
       "    <tr>\n",
       "      <th>4149</th>\n",
       "      <td>0x6404f1952d58a748d10e8747bd621714e873da0d</td>\n",
       "      <td>7ada4be8-5590-58c0-b9b6-891cd28635ac</td>\n",
       "      <td>2023-07-01 00:50:56</td>\n",
       "      <td>1</td>\n",
       "    </tr>\n",
       "    <tr>\n",
       "      <th>4150</th>\n",
       "      <td>0x6404f1952d58a748d10e8747bd621714e873da0d</td>\n",
       "      <td>2ef1f8a7-ecd9-5064-b846-c1b2204d2faa</td>\n",
       "      <td>2023-07-01 00:51:20</td>\n",
       "      <td>1</td>\n",
       "    </tr>\n",
       "  </tbody>\n",
       "</table>\n",
       "<p>4151 rows × 4 columns</p>\n",
       "</div>"
      ],
      "text/plain": [
       "                                          userID  \\\n",
       "0     0x7452e7d530078dbd6a2ed65007bea00a4d60f138   \n",
       "1     0x2245be89fc8fab94ed982e859aa3212a4e4eb7e5   \n",
       "2     0x5f527da3f5d3107423080165ed5452c94940c812   \n",
       "3     0xd903839f391b169becc0a9d5aa98e26a06542cd0   \n",
       "4     0xab7b49bacd43bd4cfa41433d477f690bb9e1fb26   \n",
       "...                                          ...   \n",
       "4146  0x20d801dbee0505f9a77cff40f5fed6ff0f0ee9d6   \n",
       "4147  0x20d801dbee0505f9a77cff40f5fed6ff0f0ee9d6   \n",
       "4148  0x6404f1952d58a748d10e8747bd621714e873da0d   \n",
       "4149  0x6404f1952d58a748d10e8747bd621714e873da0d   \n",
       "4150  0x6404f1952d58a748d10e8747bd621714e873da0d   \n",
       "\n",
       "                                    itemID           timestamp  rating  \n",
       "0     7f78eca6-a122-5074-ad86-268642177a4b 2021-07-22 11:44:39       1  \n",
       "1     7f78eca6-a122-5074-ad86-268642177a4b 2021-07-22 11:48:19       1  \n",
       "2     7f78eca6-a122-5074-ad86-268642177a4b 2021-07-22 11:48:38       1  \n",
       "3     7f78eca6-a122-5074-ad86-268642177a4b 2021-07-22 11:53:23       1  \n",
       "4     7f78eca6-a122-5074-ad86-268642177a4b 2021-07-22 11:57:02       1  \n",
       "...                                    ...                 ...     ...  \n",
       "4146  ccddcdaf-d162-54c1-9714-f10b876ff38b 2023-06-30 14:01:01       1  \n",
       "4147  2ef1f8a7-ecd9-5064-b846-c1b2204d2faa 2023-06-30 14:01:29       1  \n",
       "4148  ccddcdaf-d162-54c1-9714-f10b876ff38b 2023-07-01 00:50:21       1  \n",
       "4149  7ada4be8-5590-58c0-b9b6-891cd28635ac 2023-07-01 00:50:56       1  \n",
       "4150  2ef1f8a7-ecd9-5064-b846-c1b2204d2faa 2023-07-01 00:51:20       1  \n",
       "\n",
       "[4151 rows x 4 columns]"
      ]
     },
     "execution_count": 7,
     "metadata": {},
     "output_type": "execute_result"
    }
   ],
   "source": [
    "df = to_microsoft(dfv)\n",
    "df"
   ]
  },
  {
   "cell_type": "code",
   "execution_count": 8,
   "id": "fa710e5f",
   "metadata": {
    "editable": true,
    "execution": {
     "iopub.execute_input": "2024-09-05T09:25:18.484582Z",
     "iopub.status.busy": "2024-09-05T09:25:18.484458Z",
     "iopub.status.idle": "2024-09-05T09:25:18.566520Z",
     "shell.execute_reply": "2024-09-05T09:25:18.566236Z"
    },
    "papermill": {
     "duration": 0.085684,
     "end_time": "2024-09-05T09:25:18.567317",
     "exception": false,
     "start_time": "2024-09-05T09:25:18.481633",
     "status": "completed"
    },
    "slideshow": {
     "slide_type": ""
    },
    "tags": []
   },
   "outputs": [
    {
     "name": "stdout",
     "output_type": "stream",
     "text": [
      "58 folds\n",
      "Using 6 folds, from 2021-11-03T00:00:00 to 2021-11-13T00:00:00\n"
     ]
    }
   ],
   "source": [
    "# USE INTEGER INDEX\n",
    "# folds_dict = list(cvtt_open(df, SPLITS_FREQ, dfp, remove_not_in_train_col='userID'))\n",
    "# use_folds_idx = range(len(folds_dict))[-LAST_FOLDS:]\n",
    "\n",
    "# USE TIMESTAMP INDEX\n",
    "# Note: NO need to used OrderedDict, dict is ordered since Python 3.6\n",
    "folds_dict = { f.end.isoformat():f for f in cvtt_open(df, SPLITS_FREQ, dfp, remove_not_in_train_col='userID', last_fold=LAST_FOLD_DATE_STR) }\n",
    "use_folds_idx = list(folds_dict.keys())[-LAST_FOLDS:]\n",
    "\n",
    "print(len(folds_dict), \"folds\")\n",
    "print(\"Using\", len(use_folds_idx), \"folds, from\", use_folds_idx[0], \"to\", use_folds_idx[-1])"
   ]
  },
  {
   "cell_type": "markdown",
   "id": "3bd4ba02",
   "metadata": {
    "papermill": {
     "duration": 0.002815,
     "end_time": "2024-09-05T09:25:18.572983",
     "exception": false,
     "start_time": "2024-09-05T09:25:18.570168",
     "status": "completed"
    },
    "tags": []
   },
   "source": [
    "## Making some checks"
   ]
  },
  {
   "cell_type": "markdown",
   "id": "c8f7c593",
   "metadata": {
    "papermill": {
     "duration": 0.002426,
     "end_time": "2024-09-05T09:25:18.577965",
     "exception": false,
     "start_time": "2024-09-05T09:25:18.575539",
     "status": "completed"
    },
    "tags": []
   },
   "source": [
    "### Checking that all the folds have open proposals"
   ]
  },
  {
   "cell_type": "code",
   "execution_count": 9,
   "id": "edcd6ab5",
   "metadata": {
    "execution": {
     "iopub.execute_input": "2024-09-05T09:25:18.583407Z",
     "iopub.status.busy": "2024-09-05T09:25:18.583279Z",
     "iopub.status.idle": "2024-09-05T09:25:18.603193Z",
     "shell.execute_reply": "2024-09-05T09:25:18.602991Z"
    },
    "papermill": {
     "duration": 0.023511,
     "end_time": "2024-09-05T09:25:18.603921",
     "exception": false,
     "start_time": "2024-09-05T09:25:18.580410",
     "status": "completed"
    },
    "tags": []
   },
   "outputs": [],
   "source": [
    "_nok_folds = []\n",
    "for idx in use_folds_idx:\n",
    "    if len(folds_dict[idx].open_proposals) == 0:\n",
    "        _nok_folds.append(idx)\n",
    "\n",
    "if _nok_folds:\n",
    "    raise ValueError(f\"Folds {', '.join(_nok_folds)} don't have any open proposals\")"
   ]
  },
  {
   "cell_type": "markdown",
   "id": "8c718886",
   "metadata": {
    "papermill": {
     "duration": 0.002474,
     "end_time": "2024-09-05T09:25:18.608840",
     "exception": false,
     "start_time": "2024-09-05T09:25:18.606366",
     "status": "completed"
    },
    "tags": []
   },
   "source": [
    "### Checking correct hparams"
   ]
  },
  {
   "cell_type": "code",
   "execution_count": 10,
   "id": "0c9f65ad",
   "metadata": {
    "execution": {
     "iopub.execute_input": "2024-09-05T09:25:18.614144Z",
     "iopub.status.busy": "2024-09-05T09:25:18.614031Z",
     "iopub.status.idle": "2024-09-05T09:25:18.642632Z",
     "shell.execute_reply": "2024-09-05T09:25:18.642402Z"
    },
    "papermill": {
     "duration": 0.032149,
     "end_time": "2024-09-05T09:25:18.643351",
     "exception": false,
     "start_time": "2024-09-05T09:25:18.611202",
     "status": "completed"
    },
    "tags": []
   },
   "outputs": [
    {
     "name": "stdout",
     "output_type": "stream",
     "text": [
      "All folds ok!\n"
     ]
    }
   ],
   "source": [
    "now = dt.datetime.now()\n",
    "max_bs = 2**MAX_BATCH_SIZE\n",
    "\n",
    "all_ok = True\n",
    "for idx in use_folds_idx:\n",
    "    valid_ws = WINDOW_SIZES[0]\n",
    "    for ws in sorted(WINDOW_SIZES, key=lambda ws: now + pd.tseries.frequencies.to_offset(ws)):\n",
    "        nusers = filter_window_size(folds_dict[idx].train, folds_dict[idx].end, ws)['userID'].nunique()\n",
    "        if nusers > max_bs:\n",
    "            print(f'On fold {idx} WINDOW_SIZE should be at least {ws}: {nusers} > {max_bs}', file=sys.stderr)\n",
    "            break\n",
    "\n",
    "print(\"All folds ok!\")"
   ]
  },
  {
   "cell_type": "markdown",
   "id": "9d1679fe",
   "metadata": {
    "editable": true,
    "papermill": {
     "duration": 0.002416,
     "end_time": "2024-09-05T09:25:18.648443",
     "exception": false,
     "start_time": "2024-09-05T09:25:18.646027",
     "status": "completed"
    },
    "slideshow": {
     "slide_type": ""
    },
    "tags": []
   },
   "source": [
    "## Testing model"
   ]
  },
  {
   "cell_type": "code",
   "execution_count": 11,
   "id": "4e65df79",
   "metadata": {
    "execution": {
     "iopub.execute_input": "2024-09-05T09:25:18.653824Z",
     "iopub.status.busy": "2024-09-05T09:25:18.653700Z",
     "iopub.status.idle": "2024-09-05T09:25:18.672516Z",
     "shell.execute_reply": "2024-09-05T09:25:18.672226Z"
    },
    "papermill": {
     "duration": 0.022355,
     "end_time": "2024-09-05T09:25:18.673160",
     "exception": false,
     "start_time": "2024-09-05T09:25:18.650805",
     "status": "completed"
    },
    "tags": []
   },
   "outputs": [],
   "source": [
    "from recommenders.models.deeprec.DataModel.ImplicitCF import ImplicitCF\n",
    "from recommenders.models.deeprec.deeprec_utils import prepare_hparams"
   ]
  },
  {
   "cell_type": "code",
   "execution_count": 12,
   "id": "110a4316",
   "metadata": {
    "editable": true,
    "execution": {
     "iopub.execute_input": "2024-09-05T09:25:18.679399Z",
     "iopub.status.busy": "2024-09-05T09:25:18.679258Z",
     "iopub.status.idle": "2024-09-05T09:25:18.696734Z",
     "shell.execute_reply": "2024-09-05T09:25:18.696541Z"
    },
    "papermill": {
     "duration": 0.021504,
     "end_time": "2024-09-05T09:25:18.697471",
     "exception": false,
     "start_time": "2024-09-05T09:25:18.675967",
     "status": "completed"
    },
    "slideshow": {
     "slide_type": ""
    },
    "tags": []
   },
   "outputs": [],
   "source": [
    "# hparams = prepare_hparams(\n",
    "#     model_type='lightgcn',\n",
    "#     n_layers=3,\n",
    "#     batch_size=512,\n",
    "#     embed_size=64,\n",
    "#     epochs=2,\n",
    "#     learning_rate=0.001,\n",
    "#     decay=0.001,\n",
    "#     metrics=[\"recall\", \"ndcg\", \"precision\", \"map\"],\n",
    "#     eval_epoch=2,\n",
    "#     top_k=K_RECOMMENDATIONS[0],\n",
    "#     save_model=False,\n",
    "#     MODEL_DIR='./data/model/lightgcn/',\n",
    "# )\n",
    "# dataloader = ImplicitCF(train=folds_dict[use_folds_idx[0]].train, test=folds_dict[use_folds_idx[0]].test, seed=SEED)\n",
    "# print(\"items:\", dataloader.n_items, \"user:\", dataloader.n_users)\n",
    "# model = LightGCNCustom(data=dataloader, hparams=hparams)"
   ]
  },
  {
   "cell_type": "code",
   "execution_count": 13,
   "id": "1b6f764d",
   "metadata": {
    "execution": {
     "iopub.execute_input": "2024-09-05T09:25:18.703165Z",
     "iopub.status.busy": "2024-09-05T09:25:18.703043Z",
     "iopub.status.idle": "2024-09-05T09:25:18.720346Z",
     "shell.execute_reply": "2024-09-05T09:25:18.720074Z"
    },
    "papermill": {
     "duration": 0.021172,
     "end_time": "2024-09-05T09:25:18.721232",
     "exception": false,
     "start_time": "2024-09-05T09:25:18.700060",
     "status": "completed"
    },
    "tags": []
   },
   "outputs": [],
   "source": [
    "# model.fit()\n",
    "# model.run_eval()"
   ]
  },
  {
   "cell_type": "code",
   "execution_count": 14,
   "id": "472acb37",
   "metadata": {
    "editable": true,
    "execution": {
     "iopub.execute_input": "2024-09-05T09:25:18.726962Z",
     "iopub.status.busy": "2024-09-05T09:25:18.726837Z",
     "iopub.status.idle": "2024-09-05T09:25:18.743497Z",
     "shell.execute_reply": "2024-09-05T09:25:18.743222Z"
    },
    "papermill": {
     "duration": 0.020437,
     "end_time": "2024-09-05T09:25:18.744247",
     "exception": false,
     "start_time": "2024-09-05T09:25:18.723810",
     "status": "completed"
    },
    "slideshow": {
     "slide_type": ""
    },
    "tags": []
   },
   "outputs": [],
   "source": [
    "# model.recommend_k_items(\n",
    "#     dataloader.test, \n",
    "#     top_k=3, \n",
    "#     use_id=True, \n",
    "#     remove_seen=True, \n",
    "#     recommend_from=folds_dict[use_folds_idx[0]].open_proposals\n",
    "# )"
   ]
  },
  {
   "cell_type": "markdown",
   "id": "66014928",
   "metadata": {
    "papermill": {
     "duration": 0.002528,
     "end_time": "2024-09-05T09:25:18.749292",
     "exception": false,
     "start_time": "2024-09-05T09:25:18.746764",
     "status": "completed"
    },
    "tags": []
   },
   "source": [
    "## Defining trainable"
   ]
  },
  {
   "cell_type": "code",
   "execution_count": 15,
   "id": "24820416",
   "metadata": {
    "execution": {
     "iopub.execute_input": "2024-09-05T09:25:18.754795Z",
     "iopub.status.busy": "2024-09-05T09:25:18.754677Z",
     "iopub.status.idle": "2024-09-05T09:25:18.770796Z",
     "shell.execute_reply": "2024-09-05T09:25:18.770605Z"
    },
    "papermill": {
     "duration": 0.019751,
     "end_time": "2024-09-05T09:25:18.771519",
     "exception": false,
     "start_time": "2024-09-05T09:25:18.751768",
     "status": "completed"
    },
    "tags": []
   },
   "outputs": [],
   "source": [
    "from recsys4daos.evaluation import calculate_all_metrics"
   ]
  },
  {
   "cell_type": "code",
   "execution_count": 16,
   "id": "70852051",
   "metadata": {
    "editable": true,
    "execution": {
     "iopub.execute_input": "2024-09-05T09:25:18.777375Z",
     "iopub.status.busy": "2024-09-05T09:25:18.777287Z",
     "iopub.status.idle": "2024-09-05T09:25:18.796472Z",
     "shell.execute_reply": "2024-09-05T09:25:18.796272Z"
    },
    "papermill": {
     "duration": 0.023147,
     "end_time": "2024-09-05T09:25:18.797244",
     "exception": false,
     "start_time": "2024-09-05T09:25:18.774097",
     "status": "completed"
    },
    "slideshow": {
     "slide_type": ""
    },
    "tags": []
   },
   "outputs": [],
   "source": [
    "class TrainLightGCN(tune.Trainable):\n",
    "    def setup(\n",
    "        self,\n",
    "        config: Dict[str, Any],\n",
    "        data,\n",
    "    ):\n",
    "        self.config = config\n",
    "        train, test, self.t, self.open_proposals = data\n",
    "        train_filtered = filter_window_size(train, self.t, config['window_size'])\n",
    "        self.dataloader = ImplicitCF(train=train_filtered, test=test, seed=SEED)\n",
    "        # Some experiments will run multiple times, but that's a price to pay for\n",
    "        # usability\n",
    "        self.real_batch_size = min(2**config['batch_size'], self.dataloader.n_users_in_train)\n",
    "\n",
    "        self.hparams = prepare_hparams(\n",
    "            model_type='lightgcn',\n",
    "            n_layers=config['conv_layers'],\n",
    "            batch_size=self.real_batch_size,\n",
    "            embed_size=config['embedding_dim'],\n",
    "            epochs=EPOCHS_PER_ITER,\n",
    "            learning_rate=config['learning_rate'],\n",
    "            decay=config['l2'],\n",
    "            metrics=METRICS,\n",
    "            eval_epoch=-1,\n",
    "            top_k=K_RECOMMENDATIONS[0],\n",
    "            save_model=False,\n",
    "            MODEL_DIR='./data/model/lightgcn/',\n",
    "        )\n",
    "        self.model = LightGCNCustom(self.hparams, self.dataloader, seed=SEED)\n",
    "        self.total_train = 0\n",
    "        self.total_eval = 0\n",
    "\n",
    "    @property\n",
    "    def iteration(self):\n",
    "        return self.model.epochs_done\n",
    "\n",
    "    @property\n",
    "    def training_iteration(self):\n",
    "        return self.model.epochs_done\n",
    "\n",
    "    def step(self):\n",
    "        \"\"\"\n",
    "        As a rule of thumb, the execution time of step should be large enough to avoid overheads \n",
    "        (i.e. more than a few seconds), but short enough to report progress periodically \n",
    "        (i.e. at most a few minutes).\n",
    "        \"\"\"\n",
    "        assert EPOCHS_PER_ITER > 0\n",
    "\n",
    "        with Timer() as t_train:\n",
    "            for _ in range(EPOCHS_PER_ITER):\n",
    "                ret = self.model.fit_epoch()\n",
    "\n",
    "\n",
    "        with Timer() as t_rec:\n",
    "            recs = self.model.recommend_k_items(\n",
    "                self.dataloader.test, # Used only to get user ids\n",
    "                top_k=max(K_RECOMMENDATIONS),\n",
    "                use_id=True,\n",
    "                remove_seen=True,\n",
    "                recommend_from=self.open_proposals,\n",
    "            )\n",
    "        \n",
    "        eval_dict = {'model_'+k:v for k,v in zip(self.model.metrics, self.model.run_eval())}\n",
    "        eval_dict |= calculate_all_metrics(self.dataloader.test, recs, K_RECOMMENDATIONS)\n",
    "\n",
    "        self.total_train += t_train.time\n",
    "        self.total_eval += eval_dict['time_eval']\n",
    "        \n",
    "        return {\n",
    "            'real_batch_size': self.real_batch_size,\n",
    "            'iteration': self.iteration,\n",
    "            'loss': ret[0],\n",
    "            'mf_loss': ret[1],\n",
    "            'emb_loss': ret[2],\n",
    "            **eval_dict,\n",
    "            'time_train': t_train.time,\n",
    "            'time_rec': t_rec.time,\n",
    "            'time_total_train': self.total_train,\n",
    "            'time_total_test': self.total_eval,\n",
    "        }\n",
    "\n",
    "    def save_checkpoint(self, checkpoint_dir):\n",
    "        checkpoint_path = os.path.join(checkpoint_dir, \"model\")\n",
    "        self.model.saver.save(\n",
    "            sess=self.model.sess,\n",
    "            save_path=checkpoint_path,\n",
    "        )\n",
    "        return checkpoint_dir\n",
    "\n",
    "    def load_checkpoint(self, checkpoint_path):\n",
    "        self.model.load(checkpoint_path)"
   ]
  },
  {
   "cell_type": "markdown",
   "id": "8dda3c5c",
   "metadata": {
    "editable": true,
    "papermill": {
     "duration": 0.00292,
     "end_time": "2024-09-05T09:25:18.803066",
     "exception": false,
     "start_time": "2024-09-05T09:25:18.800146",
     "status": "completed"
    },
    "slideshow": {
     "slide_type": ""
    },
    "tags": []
   },
   "source": [
    "## Big experiment"
   ]
  },
  {
   "cell_type": "code",
   "execution_count": 17,
   "id": "38726053",
   "metadata": {
    "editable": true,
    "execution": {
     "iopub.execute_input": "2024-09-05T09:25:18.809305Z",
     "iopub.status.busy": "2024-09-05T09:25:18.809183Z",
     "iopub.status.idle": "2024-09-05T09:25:18.826440Z",
     "shell.execute_reply": "2024-09-05T09:25:18.826223Z"
    },
    "papermill": {
     "duration": 0.021136,
     "end_time": "2024-09-05T09:25:18.827097",
     "exception": false,
     "start_time": "2024-09-05T09:25:18.805961",
     "status": "completed"
    },
    "slideshow": {
     "slide_type": ""
    },
    "tags": []
   },
   "outputs": [
    {
     "data": {
      "text/plain": [
       "PosixPath('/home/daviddavo/ray_results3.11')"
      ]
     },
     "execution_count": 17,
     "metadata": {},
     "output_type": "execute_result"
    }
   ],
   "source": [
    "RAY_RESULTS_PATH"
   ]
  },
  {
   "cell_type": "code",
   "execution_count": 18,
   "id": "a190183b",
   "metadata": {
    "editable": true,
    "execution": {
     "iopub.execute_input": "2024-09-05T09:25:18.832971Z",
     "iopub.status.busy": "2024-09-05T09:25:18.832845Z",
     "iopub.status.idle": "2024-09-05T09:25:18.850094Z",
     "shell.execute_reply": "2024-09-05T09:25:18.849890Z"
    },
    "papermill": {
     "duration": 0.020952,
     "end_time": "2024-09-05T09:25:18.850709",
     "exception": false,
     "start_time": "2024-09-05T09:25:18.829757",
     "status": "completed"
    },
    "slideshow": {
     "slide_type": ""
    },
    "tags": []
   },
   "outputs": [
    {
     "name": "stdout",
     "output_type": "stream",
     "text": [
      "lamarck\n",
      "{'cpu': 1, 'gpu': 0.0625}\n"
     ]
    }
   ],
   "source": [
    "print(os.uname().nodename)\n",
    "\n",
    "### SET TRAINING RESOURCES\n",
    "if os.uname().nodename == 'lamarck':\n",
    "    # assert torch.cuda.is_available()\n",
    "\n",
    "    NUM_SAMPLES = SAMPLES_PER_SPLIT\n",
    "    # Every run takes approx half a gig of vram (no optimizations)\n",
    "    # The RTX 4090 has 24GB so we can run the model about 48 times\n",
    "    resources_per_trial={\n",
    "        'cpu': 1,\n",
    "        'gpu': 1 / GPUS,\n",
    "    }\n",
    "else:\n",
    "    NUM_SAMPLES = 1\n",
    "    resources_per_trial={\n",
    "        'cpu': 1,\n",
    "        # It takes about 1.5 GiB with full training data, but I put a bit more because\n",
    "        # this notebook also takes a bit of memory\n",
    "        'memory': 2e9,\n",
    "    }\n",
    "print(resources_per_trial)"
   ]
  },
  {
   "cell_type": "code",
   "execution_count": 19,
   "id": "1a7afa48",
   "metadata": {
    "editable": true,
    "execution": {
     "iopub.execute_input": "2024-09-05T09:25:18.856606Z",
     "iopub.status.busy": "2024-09-05T09:25:18.856487Z",
     "iopub.status.idle": "2024-09-05T09:25:18.946252Z",
     "shell.execute_reply": "2024-09-05T09:25:18.945928Z"
    },
    "papermill": {
     "duration": 0.093769,
     "end_time": "2024-09-05T09:25:18.947187",
     "exception": false,
     "start_time": "2024-09-05T09:25:18.853418",
     "status": "completed"
    },
    "slideshow": {
     "slide_type": ""
    },
    "tags": []
   },
   "outputs": [],
   "source": [
    "from ray.tune.search.hyperopt import HyperOptSearch"
   ]
  },
  {
   "cell_type": "code",
   "execution_count": 20,
   "id": "a8a1d22b",
   "metadata": {
    "editable": true,
    "execution": {
     "iopub.execute_input": "2024-09-05T09:25:18.953870Z",
     "iopub.status.busy": "2024-09-05T09:25:18.953570Z",
     "iopub.status.idle": "2024-09-05T09:25:18.978227Z",
     "shell.execute_reply": "2024-09-05T09:25:18.978025Z"
    },
    "papermill": {
     "duration": 0.028755,
     "end_time": "2024-09-05T09:25:18.978949",
     "exception": false,
     "start_time": "2024-09-05T09:25:18.950194",
     "status": "completed"
    },
    "slideshow": {
     "slide_type": ""
    },
    "tags": []
   },
   "outputs": [],
   "source": [
    "def getTunerOnFold(f_idx, points_to_evaluate = None):    \n",
    "    name = paths.lightgcn_ray_tune_fname(ORG_NAME, SPLITS_FREQ, SPLITS_NORMALIZE, OPTIM_METRIC, fold=f_idx)\n",
    "    experiments = list(RAY_RESULTS_PATH.glob(f'{name}_*'))\n",
    "    last_experiment = max(experiments, key=lambda x: x.stat().st_ctime) if experiments else None\n",
    "    f = folds_dict[f_idx]\n",
    "\n",
    "    dftrain,dftest,t,open_proposals = folds_dict[f_idx]\n",
    "    param_space = dict(\n",
    "        batch_size=tune.randint(MIN_BATCH_SIZE, MAX_BATCH_SIZE+1), # 64 - 2**MAX_BATCH_SIZE\n",
    "        embedding_dim=tune.lograndint(1, MAX_EMBEDDING_DIM, base=2),\n",
    "        conv_layers=tune.randint(1,5),\n",
    "        learning_rate=tune.qloguniform(MIN_LR, 1, 1e-4),\n",
    "        l2=tune.loguniform(1e-7, 1e-2, 1e-7),\n",
    "        window_size=tune.choice(WINDOW_SIZES),\n",
    "        # Just so it appears on the output\n",
    "        fold=f_idx,\n",
    "    )\n",
    "    \n",
    "    ### RESTORE EXPERIMENT OR CREATE A NEW ONE\n",
    "    if last_experiment and tune.Tuner.can_restore(last_experiment):\n",
    "        print(f\"Restoring last experiment: {last_experiment}\")\n",
    "        tuner = tune.Tuner.restore(\n",
    "            str(last_experiment),\n",
    "            trainable=tune.with_resources(\n",
    "                # tune.with_parameters(TrainLightGCN,  train=dftrain, test=dftest, open_proposals=open_proposals),\n",
    "                tune.with_parameters(TrainLightGCN, data=f),\n",
    "                resources_per_trial,\n",
    "            ),\n",
    "            restart_errored=True,\n",
    "            param_space=param_space,\n",
    "        )\n",
    "    else:\n",
    "        print(f\"No experiment found for fold {f_idx}, creating new tuner with {NUM_SAMPLES} samples\")\n",
    "        search_alg = None\n",
    "        \n",
    "        search_alg = HyperOptSearch(\n",
    "            points_to_evaluate = points_to_evaluate,\n",
    "            random_state_seed=SEED,\n",
    "        )\n",
    "        # search_alg = tune.search.Repeater(search_alg, N_SPLITS-SKIP_SPLIT)\n",
    "        \n",
    "        tuner = tune.Tuner(\n",
    "            tune.with_resources(\n",
    "                # tune.with_parameters(TrainLightGCN,  train=dftrain, test=dftest, open_proposals=open_proposals),\n",
    "                tune.with_parameters(TrainLightGCN, data=folds_dict[f_idx]),\n",
    "                resources_per_trial,\n",
    "            ),\n",
    "            run_config=train.RunConfig(\n",
    "                stop={'training_iteration': MAX_EPOCHS/EPOCHS_PER_ITER, 'time_total_train': MAX_TIME_TOTAL_TRAIN},\n",
    "                name=name + f'_{dt.datetime.now().isoformat()}',\n",
    "                storage_path=RAY_RESULTS_PATH,\n",
    "                # failure_config=train.FailureConfig(fail_fast='raise'),\n",
    "                failure_config=train.FailureConfig(max_failures=3),\n",
    "            ),\n",
    "            param_space=param_space,\n",
    "            tune_config=tune.TuneConfig(\n",
    "                search_alg=search_alg,\n",
    "                num_samples=NUM_SAMPLES,\n",
    "                metric=OPTIM_METRIC,\n",
    "                mode='max',\n",
    "            )\n",
    "        )\n",
    "\n",
    "    return tuner"
   ]
  },
  {
   "cell_type": "code",
   "execution_count": 21,
   "id": "63122dc3",
   "metadata": {
    "editable": true,
    "execution": {
     "iopub.execute_input": "2024-09-05T09:25:18.985566Z",
     "iopub.status.busy": "2024-09-05T09:25:18.985424Z",
     "iopub.status.idle": "2024-09-05T09:25:19.018449Z",
     "shell.execute_reply": "2024-09-05T09:25:19.018143Z"
    },
    "papermill": {
     "duration": 0.037088,
     "end_time": "2024-09-05T09:25:19.019057",
     "exception": false,
     "start_time": "2024-09-05T09:25:18.981969",
     "status": "completed"
    },
    "slideshow": {
     "slide_type": ""
    },
    "tags": []
   },
   "outputs": [
    {
     "data": {
      "application/vnd.jupyter.widget-view+json": {
       "model_id": "9fb1f751cd64436ab1c258bfe1af9a8f",
       "version_major": 2,
       "version_minor": 0
      },
      "text/plain": [
       "fold:   0%|          | 0/6 [00:00<?, ?it/s]"
      ]
     },
     "metadata": {},
     "output_type": "display_data"
    },
    {
     "data": {
      "application/vnd.jupyter.widget-view+json": {
       "model_id": "04a833b7033842aea149bc7bcb162297",
       "version_major": 2,
       "version_minor": 0
      },
      "text/plain": [
       "Output(layout=Layout(border_bottom='1px solid black', border_left='1px solid black', border_right='1px solid b…"
      ]
     },
     "execution_count": 21,
     "metadata": {},
     "output_type": "execute_result"
    }
   ],
   "source": [
    "# We need to display the progress bar in another cell because ray tune \"overwrites\" the previous output\n",
    "pbar = tqdm(total=len(use_folds_idx), desc='fold')\n",
    "out = widgets.Output(layout={'border': '1px solid black'})\n",
    "with out:\n",
    "    print(\"In this cell important output from the next cell will be shown\")\n",
    "out"
   ]
  },
  {
   "cell_type": "code",
   "execution_count": 22,
   "id": "fb0e382b",
   "metadata": {
    "editable": true,
    "execution": {
     "iopub.execute_input": "2024-09-05T09:25:19.025831Z",
     "iopub.status.busy": "2024-09-05T09:25:19.025709Z",
     "iopub.status.idle": "2024-09-05T09:25:36.562018Z",
     "shell.execute_reply": "2024-09-05T09:25:36.561754Z"
    },
    "papermill": {
     "duration": 17.541869,
     "end_time": "2024-09-05T09:25:36.563954",
     "exception": false,
     "start_time": "2024-09-05T09:25:19.022085",
     "status": "completed"
    },
    "slideshow": {
     "slide_type": ""
    },
    "tags": []
   },
   "outputs": [
    {
     "data": {
      "text/html": [
       "<div class=\"tuneStatus\">\n",
       "  <div style=\"display: flex;flex-direction: row\">\n",
       "    <div style=\"display: flex;flex-direction: column;\">\n",
       "      <h3>Tune Status</h3>\n",
       "      <table>\n",
       "<tbody>\n",
       "<tr><td>Current time:</td><td>2024-09-05 09:25:36</td></tr>\n",
       "<tr><td>Running for: </td><td>00:00:00.36        </td></tr>\n",
       "<tr><td>Memory:      </td><td>8.1/125.6 GiB      </td></tr>\n",
       "</tbody>\n",
       "</table>\n",
       "    </div>\n",
       "    <div class=\"vDivider\"></div>\n",
       "    <div class=\"systemInfo\">\n",
       "      <h3>System Info</h3>\n",
       "      Using FIFO scheduling algorithm.<br>Logical resource usage: 0/24 CPUs, 0/1 GPUs (0.0/1.0 accelerator_type:G)\n",
       "    </div>\n",
       "    \n",
       "  </div>\n",
       "  <div class=\"hDivider\"></div>\n",
       "  <div class=\"trialStatus\">\n",
       "    <h3>Trial Status</h3>\n",
       "    <table>\n",
       "<thead>\n",
       "<tr><th>Trial name            </th><th>status    </th><th>loc                  </th><th style=\"text-align: right;\">  batch_size</th><th style=\"text-align: right;\">  conv_layers</th><th style=\"text-align: right;\">  embedding_dim</th><th>fold               </th><th style=\"text-align: right;\">         l2</th><th style=\"text-align: right;\">  learning_rate</th><th>window_size  </th><th style=\"text-align: right;\">  iter</th><th style=\"text-align: right;\">  total time (s)</th><th style=\"text-align: right;\">  real_batch_size</th><th style=\"text-align: right;\">  iteration</th><th style=\"text-align: right;\">        loss</th></tr>\n",
       "</thead>\n",
       "<tbody>\n",
       "<tr><td>TrainLightGCN_637f846e</td><td>TERMINATED</td><td>147.96.81.131:3166147</td><td style=\"text-align: right;\">          10</td><td style=\"text-align: right;\">            4</td><td style=\"text-align: right;\">             61</td><td>2021-11-13T00:00:00</td><td style=\"text-align: right;\">0.000933638</td><td style=\"text-align: right;\">         0.001 </td><td>30d          </td><td style=\"text-align: right;\">    40</td><td style=\"text-align: right;\">         7.12849</td><td style=\"text-align: right;\">              631</td><td style=\"text-align: right;\">        200</td><td style=\"text-align: right;\"> 0.034943   </td></tr>\n",
       "<tr><td>TrainLightGCN_02782b5c</td><td>TERMINATED</td><td>147.96.81.131:3165996</td><td style=\"text-align: right;\">           9</td><td style=\"text-align: right;\">            3</td><td style=\"text-align: right;\">            110</td><td>2021-11-13T00:00:00</td><td style=\"text-align: right;\">1.48033e-06</td><td style=\"text-align: right;\">         0.0034</td><td>60d          </td><td style=\"text-align: right;\">    40</td><td style=\"text-align: right;\">         7.26112</td><td style=\"text-align: right;\">              512</td><td style=\"text-align: right;\">        200</td><td style=\"text-align: right;\"> 0.00195345 </td></tr>\n",
       "<tr><td>TrainLightGCN_252d687f</td><td>TERMINATED</td><td>147.96.81.131:3165834</td><td style=\"text-align: right;\">          10</td><td style=\"text-align: right;\">            4</td><td style=\"text-align: right;\">             68</td><td>2021-11-13T00:00:00</td><td style=\"text-align: right;\">0.00169822 </td><td style=\"text-align: right;\">         0.0006</td><td>90d          </td><td style=\"text-align: right;\">    40</td><td style=\"text-align: right;\">         7.20646</td><td style=\"text-align: right;\">              632</td><td style=\"text-align: right;\">        200</td><td style=\"text-align: right;\"> 0.0629708  </td></tr>\n",
       "<tr><td>TrainLightGCN_053fc9a6</td><td>TERMINATED</td><td>147.96.81.131:3165689</td><td style=\"text-align: right;\">           8</td><td style=\"text-align: right;\">            4</td><td style=\"text-align: right;\">            127</td><td>2021-11-13T00:00:00</td><td style=\"text-align: right;\">2.79687e-06</td><td style=\"text-align: right;\">         0.0002</td><td>10YE         </td><td style=\"text-align: right;\">    40</td><td style=\"text-align: right;\">         8.12432</td><td style=\"text-align: right;\">              256</td><td style=\"text-align: right;\">        200</td><td style=\"text-align: right;\"> 0.0692932  </td></tr>\n",
       "<tr><td>TrainLightGCN_2242215c</td><td>TERMINATED</td><td>147.96.81.131:3165536</td><td style=\"text-align: right;\">           9</td><td style=\"text-align: right;\">            3</td><td style=\"text-align: right;\">             83</td><td>2021-11-13T00:00:00</td><td style=\"text-align: right;\">0.000167233</td><td style=\"text-align: right;\">         0.1293</td><td>30d          </td><td style=\"text-align: right;\">    40</td><td style=\"text-align: right;\">         7.29728</td><td style=\"text-align: right;\">              512</td><td style=\"text-align: right;\">        200</td><td style=\"text-align: right;\"> 0.0750428  </td></tr>\n",
       "<tr><td>TrainLightGCN_08ca516e</td><td>TERMINATED</td><td>147.96.81.131:3165223</td><td style=\"text-align: right;\">           6</td><td style=\"text-align: right;\">            4</td><td style=\"text-align: right;\">             43</td><td>2021-11-13T00:00:00</td><td style=\"text-align: right;\">0.00112308 </td><td style=\"text-align: right;\">         0.0493</td><td>30d          </td><td style=\"text-align: right;\">    40</td><td style=\"text-align: right;\">        11.459  </td><td style=\"text-align: right;\">               64</td><td style=\"text-align: right;\">        200</td><td style=\"text-align: right;\"> 0.0353031  </td></tr>\n",
       "<tr><td>TrainLightGCN_f179335a</td><td>TERMINATED</td><td>147.96.81.131:3165382</td><td style=\"text-align: right;\">          10</td><td style=\"text-align: right;\">            2</td><td style=\"text-align: right;\">            204</td><td>2021-11-13T00:00:00</td><td style=\"text-align: right;\">2.28455e-05</td><td style=\"text-align: right;\">         0.0019</td><td>60d          </td><td style=\"text-align: right;\">    40</td><td style=\"text-align: right;\">         7.29253</td><td style=\"text-align: right;\">              632</td><td style=\"text-align: right;\">        200</td><td style=\"text-align: right;\"> 0.00194103 </td></tr>\n",
       "<tr><td>TrainLightGCN_52b3c9b5</td><td>TERMINATED</td><td>147.96.81.131:3165077</td><td style=\"text-align: right;\">           9</td><td style=\"text-align: right;\">            3</td><td style=\"text-align: right;\">             14</td><td>2021-11-13T00:00:00</td><td style=\"text-align: right;\">7.29051e-06</td><td style=\"text-align: right;\">         0.0027</td><td>30d          </td><td style=\"text-align: right;\">    40</td><td style=\"text-align: right;\">         7.4202 </td><td style=\"text-align: right;\">              512</td><td style=\"text-align: right;\">        200</td><td style=\"text-align: right;\"> 0.0237415  </td></tr>\n",
       "<tr><td>TrainLightGCN_f334e0fa</td><td>TERMINATED</td><td>147.96.81.131:3164921</td><td style=\"text-align: right;\">           9</td><td style=\"text-align: right;\">            1</td><td style=\"text-align: right;\">             54</td><td>2021-11-13T00:00:00</td><td style=\"text-align: right;\">3.53152e-07</td><td style=\"text-align: right;\">         0.0004</td><td>21d          </td><td style=\"text-align: right;\">    40</td><td style=\"text-align: right;\">         6.77783</td><td style=\"text-align: right;\">              512</td><td style=\"text-align: right;\">        200</td><td style=\"text-align: right;\"> 0.131541   </td></tr>\n",
       "<tr><td>TrainLightGCN_0a8121b0</td><td>TERMINATED</td><td>147.96.81.131:3164614</td><td style=\"text-align: right;\">           6</td><td style=\"text-align: right;\">            2</td><td style=\"text-align: right;\">             28</td><td>2021-11-13T00:00:00</td><td style=\"text-align: right;\">4.93554e-05</td><td style=\"text-align: right;\">         0.0052</td><td>10YE         </td><td style=\"text-align: right;\">    40</td><td style=\"text-align: right;\">        11.773  </td><td style=\"text-align: right;\">               64</td><td style=\"text-align: right;\">        200</td><td style=\"text-align: right;\"> 0.00158942 </td></tr>\n",
       "<tr><td>TrainLightGCN_65934fc9</td><td>TERMINATED</td><td>147.96.81.131:3164771</td><td style=\"text-align: right;\">           9</td><td style=\"text-align: right;\">            4</td><td style=\"text-align: right;\">             82</td><td>2021-11-13T00:00:00</td><td style=\"text-align: right;\">2.43309e-05</td><td style=\"text-align: right;\">         0.0002</td><td>30d          </td><td style=\"text-align: right;\">    40</td><td style=\"text-align: right;\">         7.30169</td><td style=\"text-align: right;\">              512</td><td style=\"text-align: right;\">        200</td><td style=\"text-align: right;\"> 0.256026   </td></tr>\n",
       "<tr><td>TrainLightGCN_487fb7b7</td><td>TERMINATED</td><td>147.96.81.131:3164460</td><td style=\"text-align: right;\">           7</td><td style=\"text-align: right;\">            4</td><td style=\"text-align: right;\">            381</td><td>2021-11-13T00:00:00</td><td style=\"text-align: right;\">8.34331e-07</td><td style=\"text-align: right;\">         0.0142</td><td>60d          </td><td style=\"text-align: right;\">    40</td><td style=\"text-align: right;\">         8.84251</td><td style=\"text-align: right;\">              128</td><td style=\"text-align: right;\">        200</td><td style=\"text-align: right;\"> 0.000654997</td></tr>\n",
       "<tr><td>TrainLightGCN_579ec178</td><td>TERMINATED</td><td>147.96.81.131:3164309</td><td style=\"text-align: right;\">           7</td><td style=\"text-align: right;\">            3</td><td style=\"text-align: right;\">            158</td><td>2021-11-13T00:00:00</td><td style=\"text-align: right;\">4.54087e-06</td><td style=\"text-align: right;\">         0.0007</td><td>60d          </td><td style=\"text-align: right;\">    40</td><td style=\"text-align: right;\">         9.22583</td><td style=\"text-align: right;\">              128</td><td style=\"text-align: right;\">        200</td><td style=\"text-align: right;\"> 0.00479155 </td></tr>\n",
       "<tr><td>TrainLightGCN_e54c4b3c</td><td>TERMINATED</td><td>147.96.81.131:3164153</td><td style=\"text-align: right;\">           8</td><td style=\"text-align: right;\">            3</td><td style=\"text-align: right;\">             22</td><td>2021-11-13T00:00:00</td><td style=\"text-align: right;\">3.63439e-06</td><td style=\"text-align: right;\">         0.0001</td><td>30d          </td><td style=\"text-align: right;\">    40</td><td style=\"text-align: right;\">         7.83727</td><td style=\"text-align: right;\">              256</td><td style=\"text-align: right;\">        200</td><td style=\"text-align: right;\"> 0.516823   </td></tr>\n",
       "<tr><td>TrainLightGCN_cd633a9b</td><td>TERMINATED</td><td>147.96.81.131:3164002</td><td style=\"text-align: right;\">           7</td><td style=\"text-align: right;\">            4</td><td style=\"text-align: right;\">            127</td><td>2021-11-13T00:00:00</td><td style=\"text-align: right;\">3.6496e-05 </td><td style=\"text-align: right;\">         0.0012</td><td>90d          </td><td style=\"text-align: right;\">    40</td><td style=\"text-align: right;\">         9.015  </td><td style=\"text-align: right;\">              128</td><td style=\"text-align: right;\">        200</td><td style=\"text-align: right;\"> 0.00481694 </td></tr>\n",
       "<tr><td>TrainLightGCN_e53607e0</td><td>TERMINATED</td><td>147.96.81.131:3163848</td><td style=\"text-align: right;\">           8</td><td style=\"text-align: right;\">            4</td><td style=\"text-align: right;\">              3</td><td>2021-11-13T00:00:00</td><td style=\"text-align: right;\">8.64673e-06</td><td style=\"text-align: right;\">         0.0005</td><td>30d          </td><td style=\"text-align: right;\">    40</td><td style=\"text-align: right;\">         8.03592</td><td style=\"text-align: right;\">              256</td><td style=\"text-align: right;\">        200</td><td style=\"text-align: right;\"> 0.329579   </td></tr>\n",
       "<tr><td>TrainLightGCN_234216be</td><td>TERMINATED</td><td>147.96.81.131:3163686</td><td style=\"text-align: right;\">          10</td><td style=\"text-align: right;\">            2</td><td style=\"text-align: right;\">              9</td><td>2021-11-13T00:00:00</td><td style=\"text-align: right;\">0.00040667 </td><td style=\"text-align: right;\">         0.0003</td><td>30d          </td><td style=\"text-align: right;\">    40</td><td style=\"text-align: right;\">         6.96582</td><td style=\"text-align: right;\">              631</td><td style=\"text-align: right;\">        200</td><td style=\"text-align: right;\"> 0.477921   </td></tr>\n",
       "<tr><td>TrainLightGCN_827070fa</td><td>TERMINATED</td><td>147.96.81.131:3163541</td><td style=\"text-align: right;\">           7</td><td style=\"text-align: right;\">            4</td><td style=\"text-align: right;\">            834</td><td>2021-11-13T00:00:00</td><td style=\"text-align: right;\">1.90484e-05</td><td style=\"text-align: right;\">         0.0001</td><td>60d          </td><td style=\"text-align: right;\">    40</td><td style=\"text-align: right;\">         9.59006</td><td style=\"text-align: right;\">              128</td><td style=\"text-align: right;\">        200</td><td style=\"text-align: right;\"> 0.0292157  </td></tr>\n",
       "<tr><td>TrainLightGCN_e30010a0</td><td>TERMINATED</td><td>147.96.81.131:3163378</td><td style=\"text-align: right;\">           7</td><td style=\"text-align: right;\">            3</td><td style=\"text-align: right;\">            258</td><td>2021-11-13T00:00:00</td><td style=\"text-align: right;\">6.03709e-05</td><td style=\"text-align: right;\">         0.0015</td><td>21d          </td><td style=\"text-align: right;\">    40</td><td style=\"text-align: right;\">         9.45281</td><td style=\"text-align: right;\">              128</td><td style=\"text-align: right;\">        200</td><td style=\"text-align: right;\"> 0.00180958 </td></tr>\n",
       "<tr><td>TrainLightGCN_fb7be530</td><td>TERMINATED</td><td>147.96.81.131:3163079</td><td style=\"text-align: right;\">           6</td><td style=\"text-align: right;\">            4</td><td style=\"text-align: right;\">             20</td><td>2021-11-13T00:00:00</td><td style=\"text-align: right;\">8.45598e-06</td><td style=\"text-align: right;\">         0.0001</td><td>30d          </td><td style=\"text-align: right;\">    40</td><td style=\"text-align: right;\">        11.9672 </td><td style=\"text-align: right;\">               64</td><td style=\"text-align: right;\">        200</td><td style=\"text-align: right;\"> 0.265719   </td></tr>\n",
       "<tr><td>TrainLightGCN_5da13327</td><td>TERMINATED</td><td>147.96.81.131:3163231</td><td style=\"text-align: right;\">           9</td><td style=\"text-align: right;\">            3</td><td style=\"text-align: right;\">            166</td><td>2021-11-13T00:00:00</td><td style=\"text-align: right;\">0.000128027</td><td style=\"text-align: right;\">         0.0001</td><td>30d          </td><td style=\"text-align: right;\">    40</td><td style=\"text-align: right;\">         7.13721</td><td style=\"text-align: right;\">              512</td><td style=\"text-align: right;\">        200</td><td style=\"text-align: right;\"> 0.361892   </td></tr>\n",
       "<tr><td>TrainLightGCN_9d9697d4</td><td>TERMINATED</td><td>147.96.81.131:3162771</td><td style=\"text-align: right;\">           6</td><td style=\"text-align: right;\">            3</td><td style=\"text-align: right;\">            107</td><td>2021-11-13T00:00:00</td><td style=\"text-align: right;\">2.3701e-06 </td><td style=\"text-align: right;\">         0.0002</td><td>21d          </td><td style=\"text-align: right;\">    40</td><td style=\"text-align: right;\">        12.2176 </td><td style=\"text-align: right;\">               64</td><td style=\"text-align: right;\">        200</td><td style=\"text-align: right;\"> 0.0225532  </td></tr>\n",
       "<tr><td>TrainLightGCN_3430fd6c</td><td>TERMINATED</td><td>147.96.81.131:3162916</td><td style=\"text-align: right;\">          10</td><td style=\"text-align: right;\">            4</td><td style=\"text-align: right;\">             36</td><td>2021-11-13T00:00:00</td><td style=\"text-align: right;\">9.01995e-05</td><td style=\"text-align: right;\">         0.0028</td><td>10YE         </td><td style=\"text-align: right;\">    40</td><td style=\"text-align: right;\">         7.54449</td><td style=\"text-align: right;\">              657</td><td style=\"text-align: right;\">        200</td><td style=\"text-align: right;\"> 0.00894198 </td></tr>\n",
       "<tr><td>TrainLightGCN_966b03d1</td><td>TERMINATED</td><td>147.96.81.131:3162609</td><td style=\"text-align: right;\">           7</td><td style=\"text-align: right;\">            4</td><td style=\"text-align: right;\">            151</td><td>2021-11-13T00:00:00</td><td style=\"text-align: right;\">1.50363e-05</td><td style=\"text-align: right;\">         0.0001</td><td>60d          </td><td style=\"text-align: right;\">    40</td><td style=\"text-align: right;\">         9.49557</td><td style=\"text-align: right;\">              128</td><td style=\"text-align: right;\">        200</td><td style=\"text-align: right;\"> 0.123941   </td></tr>\n",
       "<tr><td>TrainLightGCN_9b425f44</td><td>TERMINATED</td><td>147.96.81.131:3162301</td><td style=\"text-align: right;\">           6</td><td style=\"text-align: right;\">            4</td><td style=\"text-align: right;\">              3</td><td>2021-11-13T00:00:00</td><td style=\"text-align: right;\">0.000758533</td><td style=\"text-align: right;\">         0.0004</td><td>90d          </td><td style=\"text-align: right;\">    40</td><td style=\"text-align: right;\">        12.5475 </td><td style=\"text-align: right;\">               64</td><td style=\"text-align: right;\">        200</td><td style=\"text-align: right;\"> 0.224623   </td></tr>\n",
       "<tr><td>TrainLightGCN_4f841f42</td><td>TERMINATED</td><td>147.96.81.131:3162455</td><td style=\"text-align: right;\">           9</td><td style=\"text-align: right;\">            3</td><td style=\"text-align: right;\">             13</td><td>2021-11-13T00:00:00</td><td style=\"text-align: right;\">0.0013094  </td><td style=\"text-align: right;\">         0.0008</td><td>90d          </td><td style=\"text-align: right;\">    40</td><td style=\"text-align: right;\">         7.47351</td><td style=\"text-align: right;\">              512</td><td style=\"text-align: right;\">        200</td><td style=\"text-align: right;\"> 0.142947   </td></tr>\n",
       "<tr><td>TrainLightGCN_8afd873c</td><td>TERMINATED</td><td>147.96.81.131:3162000</td><td style=\"text-align: right;\">           6</td><td style=\"text-align: right;\">            4</td><td style=\"text-align: right;\">             46</td><td>2021-11-13T00:00:00</td><td style=\"text-align: right;\">0.00241932 </td><td style=\"text-align: right;\">         0.002 </td><td>30d          </td><td style=\"text-align: right;\">    40</td><td style=\"text-align: right;\">        13.2404 </td><td style=\"text-align: right;\">               64</td><td style=\"text-align: right;\">        200</td><td style=\"text-align: right;\"> 0.0300095  </td></tr>\n",
       "<tr><td>TrainLightGCN_d070fc06</td><td>TERMINATED</td><td>147.96.81.131:3162147</td><td style=\"text-align: right;\">          10</td><td style=\"text-align: right;\">            3</td><td style=\"text-align: right;\">             66</td><td>2021-11-13T00:00:00</td><td style=\"text-align: right;\">0.000229007</td><td style=\"text-align: right;\">         0.0002</td><td>30d          </td><td style=\"text-align: right;\">    40</td><td style=\"text-align: right;\">         7.95311</td><td style=\"text-align: right;\">              631</td><td style=\"text-align: right;\">        200</td><td style=\"text-align: right;\"> 0.276547   </td></tr>\n",
       "<tr><td>TrainLightGCN_cbe66086</td><td>TERMINATED</td><td>147.96.81.131:3161839</td><td style=\"text-align: right;\">           6</td><td style=\"text-align: right;\">            4</td><td style=\"text-align: right;\">             24</td><td>2021-11-13T00:00:00</td><td style=\"text-align: right;\">0.000452514</td><td style=\"text-align: right;\">         0.0006</td><td>30d          </td><td style=\"text-align: right;\">    40</td><td style=\"text-align: right;\">        13.0741 </td><td style=\"text-align: right;\">               64</td><td style=\"text-align: right;\">        200</td><td style=\"text-align: right;\"> 0.024407   </td></tr>\n",
       "<tr><td>TrainLightGCN_9e08031f</td><td>TERMINATED</td><td>147.96.81.131:3161687</td><td style=\"text-align: right;\">           6</td><td style=\"text-align: right;\">            4</td><td style=\"text-align: right;\">              5</td><td>2021-11-13T00:00:00</td><td style=\"text-align: right;\">3.08566e-05</td><td style=\"text-align: right;\">         0.0003</td><td>90d          </td><td style=\"text-align: right;\">    40</td><td style=\"text-align: right;\">        13.652  </td><td style=\"text-align: right;\">               64</td><td style=\"text-align: right;\">        200</td><td style=\"text-align: right;\"> 0.19793    </td></tr>\n",
       "<tr><td>TrainLightGCN_81c562ec</td><td>TERMINATED</td><td>147.96.81.131:3161534</td><td style=\"text-align: right;\">           6</td><td style=\"text-align: right;\">            4</td><td style=\"text-align: right;\">             16</td><td>2021-11-13T00:00:00</td><td style=\"text-align: right;\">7.26361e-05</td><td style=\"text-align: right;\">         0.0004</td><td>90d          </td><td style=\"text-align: right;\">    40</td><td style=\"text-align: right;\">        13.2864 </td><td style=\"text-align: right;\">               64</td><td style=\"text-align: right;\">        200</td><td style=\"text-align: right;\"> 0.057828   </td></tr>\n",
       "<tr><td>TrainLightGCN_b3d974ea</td><td>TERMINATED</td><td>147.96.81.131:3161388</td><td style=\"text-align: right;\">           7</td><td style=\"text-align: right;\">            4</td><td style=\"text-align: right;\">            370</td><td>2021-11-13T00:00:00</td><td style=\"text-align: right;\">0.00554396 </td><td style=\"text-align: right;\">         0.0002</td><td>30d          </td><td style=\"text-align: right;\">    40</td><td style=\"text-align: right;\">        10.3617 </td><td style=\"text-align: right;\">              128</td><td style=\"text-align: right;\">        200</td><td style=\"text-align: right;\"> 0.0686074  </td></tr>\n",
       "<tr><td>TrainLightGCN_8edf95b9</td><td>TERMINATED</td><td>147.96.81.131:3161236</td><td style=\"text-align: right;\">           6</td><td style=\"text-align: right;\">            4</td><td style=\"text-align: right;\">             46</td><td>2021-11-13T00:00:00</td><td style=\"text-align: right;\">0.000231576</td><td style=\"text-align: right;\">         0.0001</td><td>30d          </td><td style=\"text-align: right;\">    40</td><td style=\"text-align: right;\">        13.1207 </td><td style=\"text-align: right;\">               64</td><td style=\"text-align: right;\">        200</td><td style=\"text-align: right;\"> 0.160878   </td></tr>\n",
       "<tr><td>TrainLightGCN_4faf3d6a</td><td>TERMINATED</td><td>147.96.81.131:3161082</td><td style=\"text-align: right;\">           6</td><td style=\"text-align: right;\">            4</td><td style=\"text-align: right;\">             78</td><td>2021-11-13T00:00:00</td><td style=\"text-align: right;\">0.00012825 </td><td style=\"text-align: right;\">         0.0002</td><td>30d          </td><td style=\"text-align: right;\">    40</td><td style=\"text-align: right;\">        13.3356 </td><td style=\"text-align: right;\">               64</td><td style=\"text-align: right;\">        200</td><td style=\"text-align: right;\"> 0.0359314  </td></tr>\n",
       "<tr><td>TrainLightGCN_b563fb49</td><td>TERMINATED</td><td>147.96.81.131:3160926</td><td style=\"text-align: right;\">           6</td><td style=\"text-align: right;\">            4</td><td style=\"text-align: right;\">             35</td><td>2021-11-13T00:00:00</td><td style=\"text-align: right;\">1.47478e-05</td><td style=\"text-align: right;\">         0.0001</td><td>60d          </td><td style=\"text-align: right;\">    40</td><td style=\"text-align: right;\">        12.729  </td><td style=\"text-align: right;\">               64</td><td style=\"text-align: right;\">        200</td><td style=\"text-align: right;\"> 0.196391   </td></tr>\n",
       "<tr><td>TrainLightGCN_2cc4d6d8</td><td>TERMINATED</td><td>147.96.81.131:3160774</td><td style=\"text-align: right;\">           9</td><td style=\"text-align: right;\">            3</td><td style=\"text-align: right;\">            552</td><td>2021-11-13T00:00:00</td><td style=\"text-align: right;\">0.00029516 </td><td style=\"text-align: right;\">         0.001 </td><td>10YE         </td><td style=\"text-align: right;\">    40</td><td style=\"text-align: right;\">         7.54276</td><td style=\"text-align: right;\">              512</td><td style=\"text-align: right;\">        200</td><td style=\"text-align: right;\"> 0.0081257  </td></tr>\n",
       "<tr><td>TrainLightGCN_e8ee89f6</td><td>TERMINATED</td><td>147.96.81.131:3160619</td><td style=\"text-align: right;\">           9</td><td style=\"text-align: right;\">            2</td><td style=\"text-align: right;\">            193</td><td>2021-11-13T00:00:00</td><td style=\"text-align: right;\">1.92506e-06</td><td style=\"text-align: right;\">         0.0099</td><td>30d          </td><td style=\"text-align: right;\">    40</td><td style=\"text-align: right;\">         7.04535</td><td style=\"text-align: right;\">              512</td><td style=\"text-align: right;\">        200</td><td style=\"text-align: right;\"> 0.000178405</td></tr>\n",
       "<tr><td>TrainLightGCN_d4e84583</td><td>TERMINATED</td><td>147.96.81.131:3160312</td><td style=\"text-align: right;\">           6</td><td style=\"text-align: right;\">            4</td><td style=\"text-align: right;\">             89</td><td>2021-11-13T00:00:00</td><td style=\"text-align: right;\">0.000126226</td><td style=\"text-align: right;\">         0.0001</td><td>30d          </td><td style=\"text-align: right;\">    40</td><td style=\"text-align: right;\">        11.7938 </td><td style=\"text-align: right;\">               64</td><td style=\"text-align: right;\">        200</td><td style=\"text-align: right;\"> 0.0978729  </td></tr>\n",
       "<tr><td>TrainLightGCN_51b3a44d</td><td>TERMINATED</td><td>147.96.81.131:3160467</td><td style=\"text-align: right;\">           8</td><td style=\"text-align: right;\">            1</td><td style=\"text-align: right;\">            239</td><td>2021-11-13T00:00:00</td><td style=\"text-align: right;\">4.07179e-06</td><td style=\"text-align: right;\">         0.27  </td><td>60d          </td><td style=\"text-align: right;\">    40</td><td style=\"text-align: right;\">         8.13115</td><td style=\"text-align: right;\">              256</td><td style=\"text-align: right;\">        200</td><td style=\"text-align: right;\"> 0.0766251  </td></tr>\n",
       "<tr><td>TrainLightGCN_1accb3be</td><td>TERMINATED</td><td>147.96.81.131:3160157</td><td style=\"text-align: right;\">           7</td><td style=\"text-align: right;\">            3</td><td style=\"text-align: right;\">             59</td><td>2021-11-13T00:00:00</td><td style=\"text-align: right;\">5.27332e-05</td><td style=\"text-align: right;\">         0.0298</td><td>21d          </td><td style=\"text-align: right;\">    40</td><td style=\"text-align: right;\">         8.94265</td><td style=\"text-align: right;\">              128</td><td style=\"text-align: right;\">        200</td><td style=\"text-align: right;\"> 0.00262806 </td></tr>\n",
       "<tr><td>TrainLightGCN_87e8c84a</td><td>TERMINATED</td><td>147.96.81.131:3160005</td><td style=\"text-align: right;\">           8</td><td style=\"text-align: right;\">            4</td><td style=\"text-align: right;\">             31</td><td>2021-11-13T00:00:00</td><td style=\"text-align: right;\">9.01647e-07</td><td style=\"text-align: right;\">         0.097 </td><td>30d          </td><td style=\"text-align: right;\">    40</td><td style=\"text-align: right;\">         7.73436</td><td style=\"text-align: right;\">              256</td><td style=\"text-align: right;\">        200</td><td style=\"text-align: right;\"> 0.0602161  </td></tr>\n",
       "<tr><td>TrainLightGCN_67942132</td><td>TERMINATED</td><td>147.96.81.131:3159851</td><td style=\"text-align: right;\">           8</td><td style=\"text-align: right;\">            2</td><td style=\"text-align: right;\">            116</td><td>2021-11-13T00:00:00</td><td style=\"text-align: right;\">1.02421e-05</td><td style=\"text-align: right;\">         0.0002</td><td>60d          </td><td style=\"text-align: right;\">    40</td><td style=\"text-align: right;\">         8.04564</td><td style=\"text-align: right;\">              256</td><td style=\"text-align: right;\">        200</td><td style=\"text-align: right;\"> 0.102862   </td></tr>\n",
       "<tr><td>TrainLightGCN_54c0859c</td><td>TERMINATED</td><td>147.96.81.131:3159701</td><td style=\"text-align: right;\">           7</td><td style=\"text-align: right;\">            3</td><td style=\"text-align: right;\">            639</td><td>2021-11-13T00:00:00</td><td style=\"text-align: right;\">2.70252e-07</td><td style=\"text-align: right;\">         0.0001</td><td>10YE         </td><td style=\"text-align: right;\">    40</td><td style=\"text-align: right;\">         9.39242</td><td style=\"text-align: right;\">              128</td><td style=\"text-align: right;\">        200</td><td style=\"text-align: right;\"> 0.0263034  </td></tr>\n",
       "<tr><td>TrainLightGCN_4610a916</td><td>TERMINATED</td><td>147.96.81.131:3159545</td><td style=\"text-align: right;\">           9</td><td style=\"text-align: right;\">            3</td><td style=\"text-align: right;\">             10</td><td>2021-11-13T00:00:00</td><td style=\"text-align: right;\">0.00052238 </td><td style=\"text-align: right;\">         0.0005</td><td>90d          </td><td style=\"text-align: right;\">    40</td><td style=\"text-align: right;\">         7.13127</td><td style=\"text-align: right;\">              512</td><td style=\"text-align: right;\">        200</td><td style=\"text-align: right;\"> 0.304463   </td></tr>\n",
       "<tr><td>TrainLightGCN_05fd1930</td><td>TERMINATED</td><td>147.96.81.131:3159391</td><td style=\"text-align: right;\">          10</td><td style=\"text-align: right;\">            1</td><td style=\"text-align: right;\">              2</td><td>2021-11-13T00:00:00</td><td style=\"text-align: right;\">2.5493e-05 </td><td style=\"text-align: right;\">         0.0016</td><td>90d          </td><td style=\"text-align: right;\">    40</td><td style=\"text-align: right;\">         6.94706</td><td style=\"text-align: right;\">              632</td><td style=\"text-align: right;\">        200</td><td style=\"text-align: right;\"> 0.241987   </td></tr>\n",
       "<tr><td>TrainLightGCN_33421ef7</td><td>TERMINATED</td><td>147.96.81.131:3159241</td><td style=\"text-align: right;\">           8</td><td style=\"text-align: right;\">            4</td><td style=\"text-align: right;\">            305</td><td>2021-11-13T00:00:00</td><td style=\"text-align: right;\">0.00194265 </td><td style=\"text-align: right;\">         0.4085</td><td>21d          </td><td style=\"text-align: right;\">    40</td><td style=\"text-align: right;\">         7.57655</td><td style=\"text-align: right;\">              256</td><td style=\"text-align: right;\">        200</td><td style=\"text-align: right;\"> 5.08933    </td></tr>\n",
       "<tr><td>TrainLightGCN_3fb319c4</td><td>TERMINATED</td><td>147.96.81.131:3159087</td><td style=\"text-align: right;\">           7</td><td style=\"text-align: right;\">            2</td><td style=\"text-align: right;\">             23</td><td>2021-11-13T00:00:00</td><td style=\"text-align: right;\">0.000177894</td><td style=\"text-align: right;\">         0.0064</td><td>60d          </td><td style=\"text-align: right;\">    40</td><td style=\"text-align: right;\">         8.68929</td><td style=\"text-align: right;\">              128</td><td style=\"text-align: right;\">        200</td><td style=\"text-align: right;\"> 0.00418861 </td></tr>\n",
       "<tr><td>TrainLightGCN_18d054f5</td><td>TERMINATED</td><td>147.96.81.131:3158936</td><td style=\"text-align: right;\">          10</td><td style=\"text-align: right;\">            3</td><td style=\"text-align: right;\">             12</td><td>2021-11-13T00:00:00</td><td style=\"text-align: right;\">0.00106665 </td><td style=\"text-align: right;\">         0.0003</td><td>90d          </td><td style=\"text-align: right;\">    40</td><td style=\"text-align: right;\">         7.33621</td><td style=\"text-align: right;\">              632</td><td style=\"text-align: right;\">        200</td><td style=\"text-align: right;\"> 0.432557   </td></tr>\n",
       "<tr><td>TrainLightGCN_7c1fd8e8</td><td>TERMINATED</td><td>147.96.81.131:3158783</td><td style=\"text-align: right;\">          10</td><td style=\"text-align: right;\">            1</td><td style=\"text-align: right;\">              5</td><td>2021-11-13T00:00:00</td><td style=\"text-align: right;\">3.73509e-05</td><td style=\"text-align: right;\">         0.0031</td><td>90d          </td><td style=\"text-align: right;\">    40</td><td style=\"text-align: right;\">         7.27199</td><td style=\"text-align: right;\">              632</td><td style=\"text-align: right;\">        200</td><td style=\"text-align: right;\"> 0.071303   </td></tr>\n",
       "<tr><td>TrainLightGCN_ecda1d4f</td><td>TERMINATED</td><td>147.96.81.131:3158618</td><td style=\"text-align: right;\">           8</td><td style=\"text-align: right;\">            4</td><td style=\"text-align: right;\">            202</td><td>2021-11-13T00:00:00</td><td style=\"text-align: right;\">1.49369e-06</td><td style=\"text-align: right;\">         0.0006</td><td>60d          </td><td style=\"text-align: right;\">    40</td><td style=\"text-align: right;\">         7.95026</td><td style=\"text-align: right;\">              256</td><td style=\"text-align: right;\">        200</td><td style=\"text-align: right;\"> 0.0110901  </td></tr>\n",
       "<tr><td>TrainLightGCN_4704ece5</td><td>TERMINATED</td><td>147.96.81.131:3158473</td><td style=\"text-align: right;\">           7</td><td style=\"text-align: right;\">            2</td><td style=\"text-align: right;\">             98</td><td>2021-11-13T00:00:00</td><td style=\"text-align: right;\">1.02807e-05</td><td style=\"text-align: right;\">         0.0003</td><td>10YE         </td><td style=\"text-align: right;\">    40</td><td style=\"text-align: right;\">         9.5378 </td><td style=\"text-align: right;\">              128</td><td style=\"text-align: right;\">        200</td><td style=\"text-align: right;\"> 0.0205213  </td></tr>\n",
       "<tr><td>TrainLightGCN_e2ef3376</td><td>TERMINATED</td><td>147.96.81.131:3158317</td><td style=\"text-align: right;\">           7</td><td style=\"text-align: right;\">            3</td><td style=\"text-align: right;\">            433</td><td>2021-11-13T00:00:00</td><td style=\"text-align: right;\">3.29641e-06</td><td style=\"text-align: right;\">         0.0013</td><td>60d          </td><td style=\"text-align: right;\">    40</td><td style=\"text-align: right;\">         9.18651</td><td style=\"text-align: right;\">              128</td><td style=\"text-align: right;\">        200</td><td style=\"text-align: right;\"> 0.000795332</td></tr>\n",
       "<tr><td>TrainLightGCN_b306ab59</td><td>TERMINATED</td><td>147.96.81.131:3158005</td><td style=\"text-align: right;\">           6</td><td style=\"text-align: right;\">            2</td><td style=\"text-align: right;\">              2</td><td>2021-11-13T00:00:00</td><td style=\"text-align: right;\">0.000175418</td><td style=\"text-align: right;\">         0.0522</td><td>90d          </td><td style=\"text-align: right;\">    40</td><td style=\"text-align: right;\">        12.0572 </td><td style=\"text-align: right;\">               64</td><td style=\"text-align: right;\">        200</td><td style=\"text-align: right;\"> 0.103648   </td></tr>\n",
       "<tr><td>TrainLightGCN_72cfeeff</td><td>TERMINATED</td><td>147.96.81.131:3158155</td><td style=\"text-align: right;\">           8</td><td style=\"text-align: right;\">            4</td><td style=\"text-align: right;\">              8</td><td>2021-11-13T00:00:00</td><td style=\"text-align: right;\">7.29033e-05</td><td style=\"text-align: right;\">         0.0106</td><td>90d          </td><td style=\"text-align: right;\">    40</td><td style=\"text-align: right;\">         7.28311</td><td style=\"text-align: right;\">              256</td><td style=\"text-align: right;\">        200</td><td style=\"text-align: right;\"> 0.0087576  </td></tr>\n",
       "<tr><td>TrainLightGCN_5921b319</td><td>TERMINATED</td><td>147.96.81.131:3157849</td><td style=\"text-align: right;\">           7</td><td style=\"text-align: right;\">            3</td><td style=\"text-align: right;\">              7</td><td>2021-11-13T00:00:00</td><td style=\"text-align: right;\">5.86632e-06</td><td style=\"text-align: right;\">         0.9143</td><td>10YE         </td><td style=\"text-align: right;\">    40</td><td style=\"text-align: right;\">         9.9643 </td><td style=\"text-align: right;\">              128</td><td style=\"text-align: right;\">        200</td><td style=\"text-align: right;\"> 2.22507    </td></tr>\n",
       "<tr><td>TrainLightGCN_338a9df5</td><td>TERMINATED</td><td>147.96.81.131:3157549</td><td style=\"text-align: right;\">           6</td><td style=\"text-align: right;\">            4</td><td style=\"text-align: right;\">             19</td><td>2021-11-13T00:00:00</td><td style=\"text-align: right;\">6.5488e-06 </td><td style=\"text-align: right;\">         0.0009</td><td>60d          </td><td style=\"text-align: right;\">    40</td><td style=\"text-align: right;\">        13.1532 </td><td style=\"text-align: right;\">               64</td><td style=\"text-align: right;\">        200</td><td style=\"text-align: right;\"> 0.0150525  </td></tr>\n",
       "<tr><td>TrainLightGCN_db7339e8</td><td>TERMINATED</td><td>147.96.81.131:3157701</td><td style=\"text-align: right;\">           8</td><td style=\"text-align: right;\">            2</td><td style=\"text-align: right;\">             39</td><td>2021-11-13T00:00:00</td><td style=\"text-align: right;\">4.89336e-07</td><td style=\"text-align: right;\">         0.0001</td><td>60d          </td><td style=\"text-align: right;\">    40</td><td style=\"text-align: right;\">         8.53666</td><td style=\"text-align: right;\">              256</td><td style=\"text-align: right;\">        200</td><td style=\"text-align: right;\"> 0.458417   </td></tr>\n",
       "<tr><td>TrainLightGCN_159189f2</td><td>TERMINATED</td><td>147.96.81.131:3157389</td><td style=\"text-align: right;\">           6</td><td style=\"text-align: right;\">            4</td><td style=\"text-align: right;\">             71</td><td>2021-11-13T00:00:00</td><td style=\"text-align: right;\">2.19996e-05</td><td style=\"text-align: right;\">         0.0023</td><td>90d          </td><td style=\"text-align: right;\">    40</td><td style=\"text-align: right;\">        12.901  </td><td style=\"text-align: right;\">               64</td><td style=\"text-align: right;\">        200</td><td style=\"text-align: right;\"> 0.0017053  </td></tr>\n",
       "<tr><td>TrainLightGCN_a9534532</td><td>TERMINATED</td><td>147.96.81.131:3157239</td><td style=\"text-align: right;\">           6</td><td style=\"text-align: right;\">            4</td><td style=\"text-align: right;\">              8</td><td>2021-11-13T00:00:00</td><td style=\"text-align: right;\">8.46315e-05</td><td style=\"text-align: right;\">         0.0003</td><td>90d          </td><td style=\"text-align: right;\">    40</td><td style=\"text-align: right;\">        12.8109 </td><td style=\"text-align: right;\">               64</td><td style=\"text-align: right;\">        200</td><td style=\"text-align: right;\"> 0.136482   </td></tr>\n",
       "<tr><td>TrainLightGCN_665cc0c6</td><td>TERMINATED</td><td>147.96.81.131:3157088</td><td style=\"text-align: right;\">           7</td><td style=\"text-align: right;\">            4</td><td style=\"text-align: right;\">            274</td><td>2021-11-13T00:00:00</td><td style=\"text-align: right;\">4.2358e-05 </td><td style=\"text-align: right;\">         0.0073</td><td>60d          </td><td style=\"text-align: right;\">    40</td><td style=\"text-align: right;\">         9.21098</td><td style=\"text-align: right;\">              128</td><td style=\"text-align: right;\">        200</td><td style=\"text-align: right;\"> 0.00154862 </td></tr>\n",
       "<tr><td>TrainLightGCN_0b850519</td><td>TERMINATED</td><td>147.96.81.131:3156924</td><td style=\"text-align: right;\">           7</td><td style=\"text-align: right;\">            4</td><td style=\"text-align: right;\">              2</td><td>2021-11-13T00:00:00</td><td style=\"text-align: right;\">1.77239e-05</td><td style=\"text-align: right;\">         0.0038</td><td>60d          </td><td style=\"text-align: right;\">    40</td><td style=\"text-align: right;\">         9.82927</td><td style=\"text-align: right;\">              128</td><td style=\"text-align: right;\">        200</td><td style=\"text-align: right;\"> 0.158544   </td></tr>\n",
       "<tr><td>TrainLightGCN_b26f4c5f</td><td>TERMINATED</td><td>147.96.81.131:3156779</td><td style=\"text-align: right;\">           6</td><td style=\"text-align: right;\">            4</td><td style=\"text-align: right;\">             36</td><td>2021-11-13T00:00:00</td><td style=\"text-align: right;\">5.98232e-06</td><td style=\"text-align: right;\">         0.0001</td><td>60d          </td><td style=\"text-align: right;\">    40</td><td style=\"text-align: right;\">        12.4856 </td><td style=\"text-align: right;\">               64</td><td style=\"text-align: right;\">        200</td><td style=\"text-align: right;\"> 0.194581   </td></tr>\n",
       "<tr><td>TrainLightGCN_283dde0e</td><td>TERMINATED</td><td>147.96.81.131:3156625</td><td style=\"text-align: right;\">           7</td><td style=\"text-align: right;\">            4</td><td style=\"text-align: right;\">            696</td><td>2021-11-13T00:00:00</td><td style=\"text-align: right;\">5.57439e-07</td><td style=\"text-align: right;\">         0.0007</td><td>60d          </td><td style=\"text-align: right;\">    40</td><td style=\"text-align: right;\">         9.42872</td><td style=\"text-align: right;\">              128</td><td style=\"text-align: right;\">        200</td><td style=\"text-align: right;\"> 0.00163911 </td></tr>\n",
       "<tr><td>TrainLightGCN_01576567</td><td>TERMINATED</td><td>147.96.81.131:3156317</td><td style=\"text-align: right;\">           6</td><td style=\"text-align: right;\">            4</td><td style=\"text-align: right;\">             69</td><td>2021-11-13T00:00:00</td><td style=\"text-align: right;\">8.85028e-05</td><td style=\"text-align: right;\">         0.0002</td><td>90d          </td><td style=\"text-align: right;\">    40</td><td style=\"text-align: right;\">        11.6779 </td><td style=\"text-align: right;\">               64</td><td style=\"text-align: right;\">        200</td><td style=\"text-align: right;\"> 0.0427799  </td></tr>\n",
       "<tr><td>TrainLightGCN_a80c33a9</td><td>TERMINATED</td><td>147.96.81.131:3156471</td><td style=\"text-align: right;\">           9</td><td style=\"text-align: right;\">            3</td><td style=\"text-align: right;\">              1</td><td>2021-11-13T00:00:00</td><td style=\"text-align: right;\">0.00106777 </td><td style=\"text-align: right;\">         0.0211</td><td>10YE         </td><td style=\"text-align: right;\">    40</td><td style=\"text-align: right;\">         7.43857</td><td style=\"text-align: right;\">              512</td><td style=\"text-align: right;\">        200</td><td style=\"text-align: right;\"> 0.252155   </td></tr>\n",
       "<tr><td>TrainLightGCN_9d2935e8</td><td>TERMINATED</td><td>147.96.81.131:3156161</td><td style=\"text-align: right;\">           9</td><td style=\"text-align: right;\">            3</td><td style=\"text-align: right;\">            171</td><td>2021-11-13T00:00:00</td><td style=\"text-align: right;\">1.79393e-07</td><td style=\"text-align: right;\">         0.0166</td><td>30d          </td><td style=\"text-align: right;\">    40</td><td style=\"text-align: right;\">         7.18711</td><td style=\"text-align: right;\">              512</td><td style=\"text-align: right;\">        200</td><td style=\"text-align: right;\"> 9.40857e-05</td></tr>\n",
       "<tr><td>TrainLightGCN_fda8f23c</td><td>TERMINATED</td><td>147.96.81.131:3156007</td><td style=\"text-align: right;\">           7</td><td style=\"text-align: right;\">            4</td><td style=\"text-align: right;\">            142</td><td>2021-11-13T00:00:00</td><td style=\"text-align: right;\">1.44725e-05</td><td style=\"text-align: right;\">         0.0001</td><td>60d          </td><td style=\"text-align: right;\">    40</td><td style=\"text-align: right;\">         9.01905</td><td style=\"text-align: right;\">              128</td><td style=\"text-align: right;\">        200</td><td style=\"text-align: right;\"> 0.126862   </td></tr>\n",
       "<tr><td>TrainLightGCN_7b886d1b</td><td>TERMINATED</td><td>147.96.81.131:3155855</td><td style=\"text-align: right;\">           8</td><td style=\"text-align: right;\">            3</td><td style=\"text-align: right;\">             46</td><td>2021-11-13T00:00:00</td><td style=\"text-align: right;\">0.00404086 </td><td style=\"text-align: right;\">         0.0013</td><td>30d          </td><td style=\"text-align: right;\">    40</td><td style=\"text-align: right;\">         7.80677</td><td style=\"text-align: right;\">              256</td><td style=\"text-align: right;\">        200</td><td style=\"text-align: right;\"> 0.0500582  </td></tr>\n",
       "<tr><td>TrainLightGCN_b553c121</td><td>TERMINATED</td><td>147.96.81.131:3155702</td><td style=\"text-align: right;\">           9</td><td style=\"text-align: right;\">            3</td><td style=\"text-align: right;\">            488</td><td>2021-11-13T00:00:00</td><td style=\"text-align: right;\">0.000638035</td><td style=\"text-align: right;\">         0.0052</td><td>90d          </td><td style=\"text-align: right;\">    40</td><td style=\"text-align: right;\">         7.24175</td><td style=\"text-align: right;\">              512</td><td style=\"text-align: right;\">        200</td><td style=\"text-align: right;\"> 0.0102837  </td></tr>\n",
       "<tr><td>TrainLightGCN_4d315ec5</td><td>TERMINATED</td><td>147.96.81.131:3155553</td><td style=\"text-align: right;\">          10</td><td style=\"text-align: right;\">            4</td><td style=\"text-align: right;\">              4</td><td>2021-11-13T00:00:00</td><td style=\"text-align: right;\">0.000320628</td><td style=\"text-align: right;\">         0.0003</td><td>30d          </td><td style=\"text-align: right;\">    40</td><td style=\"text-align: right;\">         7.32408</td><td style=\"text-align: right;\">              631</td><td style=\"text-align: right;\">        200</td><td style=\"text-align: right;\"> 0.569696   </td></tr>\n",
       "<tr><td>TrainLightGCN_cbdf5df5</td><td>TERMINATED</td><td>147.96.81.131:3155397</td><td style=\"text-align: right;\">           9</td><td style=\"text-align: right;\">            3</td><td style=\"text-align: right;\">            142</td><td>2021-11-13T00:00:00</td><td style=\"text-align: right;\">1.48921e-05</td><td style=\"text-align: right;\">         0.0001</td><td>30d          </td><td style=\"text-align: right;\">    40</td><td style=\"text-align: right;\">         7.19391</td><td style=\"text-align: right;\">              512</td><td style=\"text-align: right;\">        200</td><td style=\"text-align: right;\"> 0.387799   </td></tr>\n",
       "<tr><td>TrainLightGCN_1e83f2ec</td><td>TERMINATED</td><td>147.96.81.131:3155242</td><td style=\"text-align: right;\">           8</td><td style=\"text-align: right;\">            4</td><td style=\"text-align: right;\">            834</td><td>2021-11-13T00:00:00</td><td style=\"text-align: right;\">0.00822438 </td><td style=\"text-align: right;\">         0.0002</td><td>30d          </td><td style=\"text-align: right;\">    40</td><td style=\"text-align: right;\">         7.94996</td><td style=\"text-align: right;\">              256</td><td style=\"text-align: right;\">        200</td><td style=\"text-align: right;\"> 0.0928545  </td></tr>\n",
       "<tr><td>TrainLightGCN_0c3f4795</td><td>TERMINATED</td><td>147.96.81.131:3155091</td><td style=\"text-align: right;\">          10</td><td style=\"text-align: right;\">            3</td><td style=\"text-align: right;\">             18</td><td>2021-11-13T00:00:00</td><td style=\"text-align: right;\">0.000335459</td><td style=\"text-align: right;\">         0.0324</td><td>30d          </td><td style=\"text-align: right;\">    40</td><td style=\"text-align: right;\">         7.20807</td><td style=\"text-align: right;\">              631</td><td style=\"text-align: right;\">        200</td><td style=\"text-align: right;\"> 0.00763145 </td></tr>\n",
       "<tr><td>TrainLightGCN_bc3dba1d</td><td>TERMINATED</td><td>147.96.81.131:3154935</td><td style=\"text-align: right;\">           9</td><td style=\"text-align: right;\">            3</td><td style=\"text-align: right;\">            145</td><td>2021-11-13T00:00:00</td><td style=\"text-align: right;\">0.000104654</td><td style=\"text-align: right;\">         0.0004</td><td>30d          </td><td style=\"text-align: right;\">    40</td><td style=\"text-align: right;\">         7.14594</td><td style=\"text-align: right;\">              512</td><td style=\"text-align: right;\">        200</td><td style=\"text-align: right;\"> 0.0524067  </td></tr>\n",
       "<tr><td>TrainLightGCN_874609dd</td><td>TERMINATED</td><td>147.96.81.131:3154783</td><td style=\"text-align: right;\">          10</td><td style=\"text-align: right;\">            1</td><td style=\"text-align: right;\">             52</td><td>2021-11-13T00:00:00</td><td style=\"text-align: right;\">0.00290914 </td><td style=\"text-align: right;\">         0.0044</td><td>21d          </td><td style=\"text-align: right;\">    40</td><td style=\"text-align: right;\">         7.35776</td><td style=\"text-align: right;\">              631</td><td style=\"text-align: right;\">        200</td><td style=\"text-align: right;\"> 0.0284312  </td></tr>\n",
       "<tr><td>TrainLightGCN_ebb8bb39</td><td>TERMINATED</td><td>147.96.81.131:3154629</td><td style=\"text-align: right;\">           9</td><td style=\"text-align: right;\">            3</td><td style=\"text-align: right;\">            132</td><td>2021-11-13T00:00:00</td><td style=\"text-align: right;\">0.000496594</td><td style=\"text-align: right;\">         0.0002</td><td>30d          </td><td style=\"text-align: right;\">    40</td><td style=\"text-align: right;\">         7.24111</td><td style=\"text-align: right;\">              512</td><td style=\"text-align: right;\">        200</td><td style=\"text-align: right;\"> 0.186418   </td></tr>\n",
       "<tr><td>TrainLightGCN_a2938712</td><td>TERMINATED</td><td>147.96.81.131:3154482</td><td style=\"text-align: right;\">           9</td><td style=\"text-align: right;\">            3</td><td style=\"text-align: right;\">             11</td><td>2021-11-13T00:00:00</td><td style=\"text-align: right;\">0.000179531</td><td style=\"text-align: right;\">         0.0011</td><td>21d          </td><td style=\"text-align: right;\">    40</td><td style=\"text-align: right;\">         7.26573</td><td style=\"text-align: right;\">              512</td><td style=\"text-align: right;\">        200</td><td style=\"text-align: right;\"> 0.100948   </td></tr>\n",
       "<tr><td>TrainLightGCN_203d1d03</td><td>TERMINATED</td><td>147.96.81.131:3154325</td><td style=\"text-align: right;\">          10</td><td style=\"text-align: right;\">            1</td><td style=\"text-align: right;\">            954</td><td>2021-11-13T00:00:00</td><td style=\"text-align: right;\">1.12095e-05</td><td style=\"text-align: right;\">         0.0004</td><td>21d          </td><td style=\"text-align: right;\">    40</td><td style=\"text-align: right;\">         7.04646</td><td style=\"text-align: right;\">              631</td><td style=\"text-align: right;\">        200</td><td style=\"text-align: right;\"> 0.00609018 </td></tr>\n",
       "<tr><td>TrainLightGCN_c6552c30</td><td>TERMINATED</td><td>147.96.81.131:3154172</td><td style=\"text-align: right;\">           9</td><td style=\"text-align: right;\">            3</td><td style=\"text-align: right;\">             55</td><td>2021-11-13T00:00:00</td><td style=\"text-align: right;\">1.59049e-07</td><td style=\"text-align: right;\">         0.0001</td><td>30d          </td><td style=\"text-align: right;\">    40</td><td style=\"text-align: right;\">         6.83031</td><td style=\"text-align: right;\">              512</td><td style=\"text-align: right;\">        200</td><td style=\"text-align: right;\"> 0.531448   </td></tr>\n",
       "<tr><td>TrainLightGCN_9d8a712b</td><td>TERMINATED</td><td>147.96.81.131:3154019</td><td style=\"text-align: right;\">          10</td><td style=\"text-align: right;\">            1</td><td style=\"text-align: right;\">             15</td><td>2021-11-13T00:00:00</td><td style=\"text-align: right;\">0.00700863 </td><td style=\"text-align: right;\">         0.0005</td><td>30d          </td><td style=\"text-align: right;\">    40</td><td style=\"text-align: right;\">         6.16869</td><td style=\"text-align: right;\">              631</td><td style=\"text-align: right;\">        200</td><td style=\"text-align: right;\"> 0.2442     </td></tr>\n",
       "<tr><td>TrainLightGCN_357994da</td><td>TERMINATED</td><td>147.96.81.131:3153863</td><td style=\"text-align: right;\">           9</td><td style=\"text-align: right;\">            2</td><td style=\"text-align: right;\">              3</td><td>2021-11-13T00:00:00</td><td style=\"text-align: right;\">0.00158506 </td><td style=\"text-align: right;\">         0.0001</td><td>30d          </td><td style=\"text-align: right;\">    40</td><td style=\"text-align: right;\">         6.68623</td><td style=\"text-align: right;\">              512</td><td style=\"text-align: right;\">        200</td><td style=\"text-align: right;\"> 0.682463   </td></tr>\n",
       "<tr><td>TrainLightGCN_8e58bf00</td><td>TERMINATED</td><td>147.96.81.131:3153709</td><td style=\"text-align: right;\">           7</td><td style=\"text-align: right;\">            4</td><td style=\"text-align: right;\">             97</td><td>2021-11-13T00:00:00</td><td style=\"text-align: right;\">6.09932e-05</td><td style=\"text-align: right;\">         0.0021</td><td>10YE         </td><td style=\"text-align: right;\">    40</td><td style=\"text-align: right;\">         9.15346</td><td style=\"text-align: right;\">              128</td><td style=\"text-align: right;\">        200</td><td style=\"text-align: right;\"> 0.00271499 </td></tr>\n",
       "<tr><td>TrainLightGCN_d23d4ae2</td><td>TERMINATED</td><td>147.96.81.131:3153557</td><td style=\"text-align: right;\">           8</td><td style=\"text-align: right;\">            2</td><td style=\"text-align: right;\">             27</td><td>2021-11-13T00:00:00</td><td style=\"text-align: right;\">3.06006e-05</td><td style=\"text-align: right;\">         0.2056</td><td>30d          </td><td style=\"text-align: right;\">    40</td><td style=\"text-align: right;\">         7.65396</td><td style=\"text-align: right;\">              256</td><td style=\"text-align: right;\">        200</td><td style=\"text-align: right;\"> 0.137995   </td></tr>\n",
       "<tr><td>TrainLightGCN_84c56a57</td><td>TERMINATED</td><td>147.96.81.131:3153403</td><td style=\"text-align: right;\">           8</td><td style=\"text-align: right;\">            2</td><td style=\"text-align: right;\">            241</td><td>2021-11-13T00:00:00</td><td style=\"text-align: right;\">5.10482e-06</td><td style=\"text-align: right;\">         0.0017</td><td>90d          </td><td style=\"text-align: right;\">    40</td><td style=\"text-align: right;\">         7.67199</td><td style=\"text-align: right;\">              256</td><td style=\"text-align: right;\">        200</td><td style=\"text-align: right;\"> 0.00123634 </td></tr>\n",
       "<tr><td>TrainLightGCN_327112c2</td><td>TERMINATED</td><td>147.96.81.131:3153250</td><td style=\"text-align: right;\">           9</td><td style=\"text-align: right;\">            4</td><td style=\"text-align: right;\">              7</td><td>2021-11-13T00:00:00</td><td style=\"text-align: right;\">2.91903e-06</td><td style=\"text-align: right;\">         0.1593</td><td>21d          </td><td style=\"text-align: right;\">    40</td><td style=\"text-align: right;\">         6.64507</td><td style=\"text-align: right;\">              512</td><td style=\"text-align: right;\">        200</td><td style=\"text-align: right;\"> 0.011314   </td></tr>\n",
       "<tr><td>TrainLightGCN_1f3879be</td><td>TERMINATED</td><td>147.96.81.131:3153099</td><td style=\"text-align: right;\">           9</td><td style=\"text-align: right;\">            3</td><td style=\"text-align: right;\">            447</td><td>2021-11-13T00:00:00</td><td style=\"text-align: right;\">0.000129301</td><td style=\"text-align: right;\">         0.0008</td><td>60d          </td><td style=\"text-align: right;\">    40</td><td style=\"text-align: right;\">         7.26464</td><td style=\"text-align: right;\">              512</td><td style=\"text-align: right;\">        200</td><td style=\"text-align: right;\"> 0.00732447 </td></tr>\n",
       "<tr><td>TrainLightGCN_abde2b1f</td><td>TERMINATED</td><td>147.96.81.131:3152944</td><td style=\"text-align: right;\">           9</td><td style=\"text-align: right;\">            3</td><td style=\"text-align: right;\">             86</td><td>2021-11-13T00:00:00</td><td style=\"text-align: right;\">0.000166749</td><td style=\"text-align: right;\">         0.0002</td><td>30d          </td><td style=\"text-align: right;\">    40</td><td style=\"text-align: right;\">         7.21251</td><td style=\"text-align: right;\">              512</td><td style=\"text-align: right;\">        200</td><td style=\"text-align: right;\"> 0.249226   </td></tr>\n",
       "<tr><td>TrainLightGCN_a7ee4407</td><td>TERMINATED</td><td>147.96.81.131:3152792</td><td style=\"text-align: right;\">          10</td><td style=\"text-align: right;\">            2</td><td style=\"text-align: right;\">            364</td><td>2021-11-13T00:00:00</td><td style=\"text-align: right;\">2.08113e-06</td><td style=\"text-align: right;\">         0.0002</td><td>90d          </td><td style=\"text-align: right;\">    40</td><td style=\"text-align: right;\">         7.44494</td><td style=\"text-align: right;\">              632</td><td style=\"text-align: right;\">        200</td><td style=\"text-align: right;\"> 0.0691274  </td></tr>\n",
       "<tr><td>TrainLightGCN_aee462e4</td><td>TERMINATED</td><td>147.96.81.131:3152635</td><td style=\"text-align: right;\">           8</td><td style=\"text-align: right;\">            2</td><td style=\"text-align: right;\">             96</td><td>2021-11-13T00:00:00</td><td style=\"text-align: right;\">4.92424e-05</td><td style=\"text-align: right;\">         0.0784</td><td>21d          </td><td style=\"text-align: right;\">    40</td><td style=\"text-align: right;\">         7.65238</td><td style=\"text-align: right;\">              256</td><td style=\"text-align: right;\">        200</td><td style=\"text-align: right;\"> 0.0620518  </td></tr>\n",
       "<tr><td>TrainLightGCN_d2770f80</td><td>TERMINATED</td><td>147.96.81.131:3152481</td><td style=\"text-align: right;\">           9</td><td style=\"text-align: right;\">            2</td><td style=\"text-align: right;\">             26</td><td>2021-11-13T00:00:00</td><td style=\"text-align: right;\">1.42721e-06</td><td style=\"text-align: right;\">         0.6694</td><td>30d          </td><td style=\"text-align: right;\">    40</td><td style=\"text-align: right;\">         7.10599</td><td style=\"text-align: right;\">              512</td><td style=\"text-align: right;\">        200</td><td style=\"text-align: right;\"> 0.649596   </td></tr>\n",
       "<tr><td>TrainLightGCN_9d684418</td><td>TERMINATED</td><td>147.96.81.131:3152324</td><td style=\"text-align: right;\">           8</td><td style=\"text-align: right;\">            4</td><td style=\"text-align: right;\">            219</td><td>2021-11-13T00:00:00</td><td style=\"text-align: right;\">0.000261231</td><td style=\"text-align: right;\">         0.095 </td><td>60d          </td><td style=\"text-align: right;\">    40</td><td style=\"text-align: right;\">         7.77417</td><td style=\"text-align: right;\">              256</td><td style=\"text-align: right;\">        200</td><td style=\"text-align: right;\"> 0.205347   </td></tr>\n",
       "<tr><td>TrainLightGCN_d503990b</td><td>TERMINATED</td><td>147.96.81.131:3152174</td><td style=\"text-align: right;\">          10</td><td style=\"text-align: right;\">            1</td><td style=\"text-align: right;\">              1</td><td>2021-11-13T00:00:00</td><td style=\"text-align: right;\">0.000699071</td><td style=\"text-align: right;\">         0.0029</td><td>21d          </td><td style=\"text-align: right;\">    40</td><td style=\"text-align: right;\">         6.74008</td><td style=\"text-align: right;\">              631</td><td style=\"text-align: right;\">        200</td><td style=\"text-align: right;\"> 0.293332   </td></tr>\n",
       "<tr><td>TrainLightGCN_5bf95436</td><td>TERMINATED</td><td>147.96.81.131:3152024</td><td style=\"text-align: right;\">          10</td><td style=\"text-align: right;\">            3</td><td style=\"text-align: right;\">            332</td><td>2021-11-13T00:00:00</td><td style=\"text-align: right;\">0.00221159 </td><td style=\"text-align: right;\">         0.4863</td><td>10YE         </td><td style=\"text-align: right;\">    40</td><td style=\"text-align: right;\">         7.35966</td><td style=\"text-align: right;\">              657</td><td style=\"text-align: right;\">        200</td><td style=\"text-align: right;\"> 2.70667    </td></tr>\n",
       "<tr><td>TrainLightGCN_fc186286</td><td>TERMINATED</td><td>147.96.81.131:3151869</td><td style=\"text-align: right;\">           7</td><td style=\"text-align: right;\">            2</td><td style=\"text-align: right;\">             74</td><td>2021-11-13T00:00:00</td><td style=\"text-align: right;\">8.63799e-07</td><td style=\"text-align: right;\">         0.1736</td><td>10YE         </td><td style=\"text-align: right;\">    40</td><td style=\"text-align: right;\">         9.57577</td><td style=\"text-align: right;\">              128</td><td style=\"text-align: right;\">        200</td><td style=\"text-align: right;\"> 0.148819   </td></tr>\n",
       "<tr><td>TrainLightGCN_d3081ea9</td><td>TERMINATED</td><td>147.96.81.131:3151713</td><td style=\"text-align: right;\">           6</td><td style=\"text-align: right;\">            2</td><td style=\"text-align: right;\">            217</td><td>2021-11-13T00:00:00</td><td style=\"text-align: right;\">2.53991e-06</td><td style=\"text-align: right;\">         0.4785</td><td>21d          </td><td style=\"text-align: right;\">    40</td><td style=\"text-align: right;\">        11.7816 </td><td style=\"text-align: right;\">               64</td><td style=\"text-align: right;\">        200</td><td style=\"text-align: right;\">19.2476     </td></tr>\n",
       "<tr><td>TrainLightGCN_033ce82c</td><td>TERMINATED</td><td>147.96.81.131:3151554</td><td style=\"text-align: right;\">           7</td><td style=\"text-align: right;\">            2</td><td style=\"text-align: right;\">             34</td><td>2021-11-13T00:00:00</td><td style=\"text-align: right;\">0.0007608  </td><td style=\"text-align: right;\">         0.0091</td><td>60d          </td><td style=\"text-align: right;\">    40</td><td style=\"text-align: right;\">         9.13331</td><td style=\"text-align: right;\">              128</td><td style=\"text-align: right;\">        200</td><td style=\"text-align: right;\"> 0.0107516  </td></tr>\n",
       "<tr><td>TrainLightGCN_29393740</td><td>TERMINATED</td><td>147.96.81.131:3151405</td><td style=\"text-align: right;\">           9</td><td style=\"text-align: right;\">            2</td><td style=\"text-align: right;\">             86</td><td>2021-11-13T00:00:00</td><td style=\"text-align: right;\">0.00134325 </td><td style=\"text-align: right;\">         0.0006</td><td>21d          </td><td style=\"text-align: right;\">    40</td><td style=\"text-align: right;\">         7.24467</td><td style=\"text-align: right;\">              512</td><td style=\"text-align: right;\">        200</td><td style=\"text-align: right;\"> 0.0499355  </td></tr>\n",
       "<tr><td>TrainLightGCN_c8e244a7</td><td>TERMINATED</td><td>147.96.81.131:3151258</td><td style=\"text-align: right;\">           8</td><td style=\"text-align: right;\">            4</td><td style=\"text-align: right;\">             32</td><td>2021-11-13T00:00:00</td><td style=\"text-align: right;\">1.24202e-06</td><td style=\"text-align: right;\">         0.015 </td><td>10YE         </td><td style=\"text-align: right;\">    40</td><td style=\"text-align: right;\">         8.25103</td><td style=\"text-align: right;\">              256</td><td style=\"text-align: right;\">        200</td><td style=\"text-align: right;\"> 0.000742675</td></tr>\n",
       "<tr><td>TrainLightGCN_1084bed6</td><td>TERMINATED</td><td>147.96.81.131:3150989</td><td style=\"text-align: right;\">           6</td><td style=\"text-align: right;\">            4</td><td style=\"text-align: right;\">              4</td><td>2021-11-13T00:00:00</td><td style=\"text-align: right;\">0.00502414 </td><td style=\"text-align: right;\">         0.0002</td><td>60d          </td><td style=\"text-align: right;\">    40</td><td style=\"text-align: right;\">        11.6247 </td><td style=\"text-align: right;\">               64</td><td style=\"text-align: right;\">        200</td><td style=\"text-align: right;\"> 0.315932   </td></tr>\n",
       "<tr><td>TrainLightGCN_a8a87f7a</td><td>TERMINATED</td><td>147.96.81.131:3151114</td><td style=\"text-align: right;\">           9</td><td style=\"text-align: right;\">            3</td><td style=\"text-align: right;\">            665</td><td>2021-11-13T00:00:00</td><td style=\"text-align: right;\">2.74456e-05</td><td style=\"text-align: right;\">         0.0092</td><td>90d          </td><td style=\"text-align: right;\">    40</td><td style=\"text-align: right;\">         7.12707</td><td style=\"text-align: right;\">              512</td><td style=\"text-align: right;\">        200</td><td style=\"text-align: right;\"> 0.00101742 </td></tr>\n",
       "</tbody>\n",
       "</table>\n",
       "  </div>\n",
       "</div>\n",
       "<style>\n",
       ".tuneStatus {\n",
       "  color: var(--jp-ui-font-color1);\n",
       "}\n",
       ".tuneStatus .systemInfo {\n",
       "  display: flex;\n",
       "  flex-direction: column;\n",
       "}\n",
       ".tuneStatus td {\n",
       "  white-space: nowrap;\n",
       "}\n",
       ".tuneStatus .trialStatus {\n",
       "  display: flex;\n",
       "  flex-direction: column;\n",
       "}\n",
       ".tuneStatus h3 {\n",
       "  font-weight: bold;\n",
       "}\n",
       ".tuneStatus .hDivider {\n",
       "  border-bottom-width: var(--jp-border-width);\n",
       "  border-bottom-color: var(--jp-border-color0);\n",
       "  border-bottom-style: solid;\n",
       "}\n",
       ".tuneStatus .vDivider {\n",
       "  border-left-width: var(--jp-border-width);\n",
       "  border-left-color: var(--jp-border-color0);\n",
       "  border-left-style: solid;\n",
       "  margin: 0.5em 1em 0.5em 1em;\n",
       "}\n",
       "</style>\n"
      ],
      "text/plain": [
       "<IPython.core.display.HTML object>"
      ]
     },
     "metadata": {},
     "output_type": "display_data"
    },
    {
     "name": "stderr",
     "output_type": "stream",
     "text": [
      "2024-09-05 09:25:35,497\tINFO tune_controller.py:444 -- Restoring the run from the latest experiment state file: experiment_state-2024-09-05_09-25-34.json\n"
     ]
    },
    {
     "name": "stderr",
     "output_type": "stream",
     "text": [
      "2024-09-05 09:25:36,050\tINFO tune.py:1009 -- Wrote the latest version of all result files and experiment state to '/home/daviddavo/ray_results3.11/HUWA-DAO/LightGCN_2d_normalize_map@10_fold=2021-11-13T00:00:00_2024-08-31T11:14:49.281107' in 0.3607s.\n"
     ]
    },
    {
     "name": "stderr",
     "output_type": "stream",
     "text": [
      "2024-09-05 09:25:36,063\tINFO tune.py:1041 -- Total run time: 0.57 seconds (0.00 seconds for the tuning loop).\n"
     ]
    },
    {
     "name": "stdout",
     "output_type": "stream",
     "text": [
      "Finished training for fold 2021-11-13T00:00:00\n"
     ]
    }
   ],
   "source": [
    "import logging\n",
    "import requests\n",
    "\n",
    "def findConfig(rg):\n",
    "    for r in rg:\n",
    "        if r.config:\n",
    "            lbrc = last_best_result.config\n",
    "            if all((r.config[k] == v for k, v in last_best_result.config.items() if k != 'fold')):\n",
    "                return r\n",
    "            elif all((r.config[k] == v for k, v in last_best_result.config.items() if k != 'fold' and k != 'window_size')):\n",
    "                print(\"Possible coincidence:\", r.config, file=sys.stderr)\n",
    "\n",
    "    return None\n",
    "\n",
    "tuners = []\n",
    "results = []\n",
    "last_best_result = None\n",
    "pbar.reset()\n",
    "\n",
    "last_best_fold = None\n",
    "requests.post(\"https://ntfy.sh/grasia_notebooks\", data=f\"Start running microsoft_tuning for {ORG_NAME}\")\n",
    "for i, (prev_f_idx, f_idx) in enumerate(zip(it.chain([None], use_folds_idx), use_folds_idx)):\n",
    "    try:\n",
    "        with out:\n",
    "            best_prev_config = None\n",
    "            if last_best_result is not None:\n",
    "                best_prev_config = last_best_result.config.copy()\n",
    "                assert best_prev_config['fold'] == prev_f_idx\n",
    "                best_prev_config['fold'] = f_idx\n",
    "                print(f\"Also evaluating best_prev_config ({OPTIM_METRIC}={last_best_result.metrics[OPTIM_METRIC]}): {best_prev_config}\")\n",
    "                best_prev_config = [best_prev_config]\n",
    "        \n",
    "        t = getTunerOnFold(f_idx, best_prev_config)\n",
    "        tuners.append(t)\n",
    "    \n",
    "        rg = t.fit()\n",
    "        \n",
    "        # FIXME: load results from disk until ray-project/ray#47358 is solved\n",
    "        # https://github.com/ray-project/ray/issues/47358\n",
    "        t = getTunerOnFold(f_idx, best_prev_config)\n",
    "        tuners[-1] = t\n",
    "        rg = t.fit()\n",
    "    \n",
    "        assert rg.num_errors == 0, f\"There are {rg.num_errors} errors\"\n",
    "        assert rg.num_terminated >= NUM_SAMPLES, f'Some samples are not terminated ({rg.num_terminated} != {NUM_SAMPLES})'\n",
    "        assert len(rg.get_dataframe()) >= NUM_SAMPLES\n",
    "        results.append(rg)\n",
    "    \n",
    "        # Assert that the prev config has been tried\n",
    "        if last_best_result is not None:\n",
    "            # if not any( \n",
    "            #     all((r.config[k] == v for k, v in last_best_result.config.items() if k != 'fold'))\n",
    "            #     for r in rg if r.config\n",
    "            # ):\n",
    "            if not findConfig(rg):\n",
    "                print(\"Best config:\", last_best_result.config)\n",
    "                assert False, f\"The best config from previous fold has not been tested in fold {f_idx}\"    \n",
    "            else:\n",
    "                logging.info(f'Fold {f_idx}. Best prev result was {last_best_result.path} and config has been found {findConfig(rg).path}')\n",
    "        \n",
    "        last_best_result = rg.get_best_result()\n",
    "        pbar.update()\n",
    "    \n",
    "        print(f\"Finished training for fold {f_idx}\")\n",
    "        requests.post(\"https://ntfy.sh/grasia_notebooks\", data=f\"Finished running fold {i} for {ORG_NAME}\")\n",
    "    except Exception as e:\n",
    "        requests.post(\"https://ntfy.sh/grasia_notebooks\", data=f\"Error on fold {i} for {ORG_NAME}: {repr(e)}\")\n",
    "        raise\n",
    "\n",
    "pbar.close()"
   ]
  },
  {
   "cell_type": "code",
   "execution_count": 23,
   "id": "6c9dd90a",
   "metadata": {
    "editable": true,
    "execution": {
     "iopub.execute_input": "2024-09-05T09:25:36.576884Z",
     "iopub.status.busy": "2024-09-05T09:25:36.576717Z",
     "iopub.status.idle": "2024-09-05T09:25:36.917308Z",
     "shell.execute_reply": "2024-09-05T09:25:36.915531Z"
    },
    "papermill": {
     "duration": 0.348329,
     "end_time": "2024-09-05T09:25:36.920931",
     "exception": false,
     "start_time": "2024-09-05T09:25:36.572602",
     "status": "completed"
    },
    "slideshow": {
     "slide_type": ""
    },
    "tags": []
   },
   "outputs": [
    {
     "name": "stdout",
     "output_type": "stream",
     "text": [
      "Finished!\n"
     ]
    }
   ],
   "source": [
    "requests.post(\"https://ntfy.sh/grasia_notebooks\", data=f\"Finished running everything for {ORG_NAME}\")\n",
    "print(\"Finished!\")"
   ]
  }
 ],
 "metadata": {
  "kernelspec": {
   "display_name": "Python 3 (ipykernel)",
   "language": "python",
   "name": "python3"
  },
  "language_info": {
   "codemirror_mode": {
    "name": "ipython",
    "version": 3
   },
   "file_extension": ".py",
   "mimetype": "text/x-python",
   "name": "python",
   "nbconvert_exporter": "python",
   "pygments_lexer": "ipython3",
   "version": "3.11.6"
  },
  "papermill": {
   "default_parameters": {},
   "duration": 27.279051,
   "end_time": "2024-09-05T09:25:42.060995",
   "environment_variables": {},
   "exception": null,
   "input_path": "20_microsoft_tuning.ipynb",
   "output_path": "../nbout/HUWA-DAO/20_microsoft_tuning.ipynb",
   "parameters": {
    "EXECUTION_ID": "2024-09-04T10:00",
    "LAST_FOLDS": 6,
    "LAST_FOLD_DATE_STR": "2021-11-13",
    "ORG_NAME": "HUWA-DAO",
    "SPLITS_FREQ": "2d",
    "SPLITS_NORMALIZE": true
   },
   "start_time": "2024-09-05T09:25:14.781944",
   "version": "2.6.0"
  },
  "widgets": {
   "application/vnd.jupyter.widget-state+json": {
    "state": {
     "04a833b7033842aea149bc7bcb162297": {
      "model_module": "@jupyter-widgets/output",
      "model_module_version": "1.0.0",
      "model_name": "OutputModel",
      "state": {
       "_dom_classes": [],
       "_model_module": "@jupyter-widgets/output",
       "_model_module_version": "1.0.0",
       "_model_name": "OutputModel",
       "_view_count": null,
       "_view_module": "@jupyter-widgets/output",
       "_view_module_version": "1.0.0",
       "_view_name": "OutputView",
       "layout": "IPY_MODEL_5872c837da0145418d1ef0fc374fed52",
       "msg_id": "",
       "outputs": [
        {
         "name": "stdout",
         "output_type": "stream",
         "text": "In this cell important output from the next cell will be shown\nAlso evaluating best_prev_config (map@10=0.5238345091122869): {'batch_size': 10, 'embedding_dim': 1, 'conv_layers': 3, 'learning_rate': 0.0648, 'l2': 1.2607076920993434e-06, 'window_size': '30d', 'fold': '2021-11-05T00:00:00'}\nAlso evaluating best_prev_config (map@10=0.2603888888888889): {'batch_size': 7, 'embedding_dim': 39, 'conv_layers': 2, 'learning_rate': 0.0001, 'l2': 3.955460352915935e-07, 'window_size': '10YE', 'fold': '2021-11-07T00:00:00'}\nAlso evaluating best_prev_config (map@10=0.05343180482069371): {'batch_size': 7, 'embedding_dim': 7, 'conv_layers': 4, 'learning_rate': 0.2394, 'l2': 4.611596245619389e-06, 'window_size': '10YE', 'fold': '2021-11-09T00:00:00'}\nAlso evaluating best_prev_config (map@10=0.6044566544566544): {'batch_size': 7, 'embedding_dim': 3, 'conv_layers': 4, 'learning_rate': 0.0002, 'l2': 0.0006088320758771427, 'window_size': '10YE', 'fold': '2021-11-11T00:00:00'}\nAlso evaluating best_prev_config (map@10=0.8320833333333333): {'batch_size': 6, 'embedding_dim': 4, 'conv_layers': 4, 'learning_rate': 0.0002, 'l2': 0.005024137662224589, 'window_size': '60d', 'fold': '2021-11-13T00:00:00'}\n"
        }
       ],
       "tabbable": null,
       "tooltip": null
      }
     },
     "15e1c79266c34fc0826a2fcfd8fc2c60": {
      "model_module": "@jupyter-widgets/controls",
      "model_module_version": "2.0.0",
      "model_name": "HTMLModel",
      "state": {
       "_dom_classes": [],
       "_model_module": "@jupyter-widgets/controls",
       "_model_module_version": "2.0.0",
       "_model_name": "HTMLModel",
       "_view_count": null,
       "_view_module": "@jupyter-widgets/controls",
       "_view_module_version": "2.0.0",
       "_view_name": "HTMLView",
       "description": "",
       "description_allow_html": false,
       "layout": "IPY_MODEL_7a5653159faa4787ae3a6f2f041417f6",
       "placeholder": "​",
       "style": "IPY_MODEL_84e0a340902d4a8f915b0cccd3aee980",
       "tabbable": null,
       "tooltip": null,
       "value": " 6/6 [00:17&lt;00:00,  2.60s/it]"
      }
     },
     "298f5daab0e84946b00776439c401869": {
      "model_module": "@jupyter-widgets/base",
      "model_module_version": "2.0.0",
      "model_name": "LayoutModel",
      "state": {
       "_model_module": "@jupyter-widgets/base",
       "_model_module_version": "2.0.0",
       "_model_name": "LayoutModel",
       "_view_count": null,
       "_view_module": "@jupyter-widgets/base",
       "_view_module_version": "2.0.0",
       "_view_name": "LayoutView",
       "align_content": null,
       "align_items": null,
       "align_self": null,
       "border_bottom": null,
       "border_left": null,
       "border_right": null,
       "border_top": null,
       "bottom": null,
       "display": null,
       "flex": null,
       "flex_flow": null,
       "grid_area": null,
       "grid_auto_columns": null,
       "grid_auto_flow": null,
       "grid_auto_rows": null,
       "grid_column": null,
       "grid_gap": null,
       "grid_row": null,
       "grid_template_areas": null,
       "grid_template_columns": null,
       "grid_template_rows": null,
       "height": null,
       "justify_content": null,
       "justify_items": null,
       "left": null,
       "margin": null,
       "max_height": null,
       "max_width": null,
       "min_height": null,
       "min_width": null,
       "object_fit": null,
       "object_position": null,
       "order": null,
       "overflow": null,
       "padding": null,
       "right": null,
       "top": null,
       "visibility": null,
       "width": null
      }
     },
     "4809d2d5a03148d286605c059b41e065": {
      "model_module": "@jupyter-widgets/controls",
      "model_module_version": "2.0.0",
      "model_name": "HTMLStyleModel",
      "state": {
       "_model_module": "@jupyter-widgets/controls",
       "_model_module_version": "2.0.0",
       "_model_name": "HTMLStyleModel",
       "_view_count": null,
       "_view_module": "@jupyter-widgets/base",
       "_view_module_version": "2.0.0",
       "_view_name": "StyleView",
       "background": null,
       "description_width": "",
       "font_size": null,
       "text_color": null
      }
     },
     "5872c837da0145418d1ef0fc374fed52": {
      "model_module": "@jupyter-widgets/base",
      "model_module_version": "2.0.0",
      "model_name": "LayoutModel",
      "state": {
       "_model_module": "@jupyter-widgets/base",
       "_model_module_version": "2.0.0",
       "_model_name": "LayoutModel",
       "_view_count": null,
       "_view_module": "@jupyter-widgets/base",
       "_view_module_version": "2.0.0",
       "_view_name": "LayoutView",
       "align_content": null,
       "align_items": null,
       "align_self": null,
       "border_bottom": "1px solid black",
       "border_left": "1px solid black",
       "border_right": "1px solid black",
       "border_top": "1px solid black",
       "bottom": null,
       "display": null,
       "flex": null,
       "flex_flow": null,
       "grid_area": null,
       "grid_auto_columns": null,
       "grid_auto_flow": null,
       "grid_auto_rows": null,
       "grid_column": null,
       "grid_gap": null,
       "grid_row": null,
       "grid_template_areas": null,
       "grid_template_columns": null,
       "grid_template_rows": null,
       "height": null,
       "justify_content": null,
       "justify_items": null,
       "left": null,
       "margin": null,
       "max_height": null,
       "max_width": null,
       "min_height": null,
       "min_width": null,
       "object_fit": null,
       "object_position": null,
       "order": null,
       "overflow": null,
       "padding": null,
       "right": null,
       "top": null,
       "visibility": null,
       "width": null
      }
     },
     "7610d83b674e4b6ba67b801506387591": {
      "model_module": "@jupyter-widgets/controls",
      "model_module_version": "2.0.0",
      "model_name": "HTMLModel",
      "state": {
       "_dom_classes": [],
       "_model_module": "@jupyter-widgets/controls",
       "_model_module_version": "2.0.0",
       "_model_name": "HTMLModel",
       "_view_count": null,
       "_view_module": "@jupyter-widgets/controls",
       "_view_module_version": "2.0.0",
       "_view_name": "HTMLView",
       "description": "",
       "description_allow_html": false,
       "layout": "IPY_MODEL_298f5daab0e84946b00776439c401869",
       "placeholder": "​",
       "style": "IPY_MODEL_4809d2d5a03148d286605c059b41e065",
       "tabbable": null,
       "tooltip": null,
       "value": "fold: 100%"
      }
     },
     "7a5653159faa4787ae3a6f2f041417f6": {
      "model_module": "@jupyter-widgets/base",
      "model_module_version": "2.0.0",
      "model_name": "LayoutModel",
      "state": {
       "_model_module": "@jupyter-widgets/base",
       "_model_module_version": "2.0.0",
       "_model_name": "LayoutModel",
       "_view_count": null,
       "_view_module": "@jupyter-widgets/base",
       "_view_module_version": "2.0.0",
       "_view_name": "LayoutView",
       "align_content": null,
       "align_items": null,
       "align_self": null,
       "border_bottom": null,
       "border_left": null,
       "border_right": null,
       "border_top": null,
       "bottom": null,
       "display": null,
       "flex": null,
       "flex_flow": null,
       "grid_area": null,
       "grid_auto_columns": null,
       "grid_auto_flow": null,
       "grid_auto_rows": null,
       "grid_column": null,
       "grid_gap": null,
       "grid_row": null,
       "grid_template_areas": null,
       "grid_template_columns": null,
       "grid_template_rows": null,
       "height": null,
       "justify_content": null,
       "justify_items": null,
       "left": null,
       "margin": null,
       "max_height": null,
       "max_width": null,
       "min_height": null,
       "min_width": null,
       "object_fit": null,
       "object_position": null,
       "order": null,
       "overflow": null,
       "padding": null,
       "right": null,
       "top": null,
       "visibility": null,
       "width": null
      }
     },
     "84e0a340902d4a8f915b0cccd3aee980": {
      "model_module": "@jupyter-widgets/controls",
      "model_module_version": "2.0.0",
      "model_name": "HTMLStyleModel",
      "state": {
       "_model_module": "@jupyter-widgets/controls",
       "_model_module_version": "2.0.0",
       "_model_name": "HTMLStyleModel",
       "_view_count": null,
       "_view_module": "@jupyter-widgets/base",
       "_view_module_version": "2.0.0",
       "_view_name": "StyleView",
       "background": null,
       "description_width": "",
       "font_size": null,
       "text_color": null
      }
     },
     "908c1787662e475eb5c1871425ca800b": {
      "model_module": "@jupyter-widgets/base",
      "model_module_version": "2.0.0",
      "model_name": "LayoutModel",
      "state": {
       "_model_module": "@jupyter-widgets/base",
       "_model_module_version": "2.0.0",
       "_model_name": "LayoutModel",
       "_view_count": null,
       "_view_module": "@jupyter-widgets/base",
       "_view_module_version": "2.0.0",
       "_view_name": "LayoutView",
       "align_content": null,
       "align_items": null,
       "align_self": null,
       "border_bottom": null,
       "border_left": null,
       "border_right": null,
       "border_top": null,
       "bottom": null,
       "display": null,
       "flex": null,
       "flex_flow": null,
       "grid_area": null,
       "grid_auto_columns": null,
       "grid_auto_flow": null,
       "grid_auto_rows": null,
       "grid_column": null,
       "grid_gap": null,
       "grid_row": null,
       "grid_template_areas": null,
       "grid_template_columns": null,
       "grid_template_rows": null,
       "height": null,
       "justify_content": null,
       "justify_items": null,
       "left": null,
       "margin": null,
       "max_height": null,
       "max_width": null,
       "min_height": null,
       "min_width": null,
       "object_fit": null,
       "object_position": null,
       "order": null,
       "overflow": null,
       "padding": null,
       "right": null,
       "top": null,
       "visibility": null,
       "width": null
      }
     },
     "9fb1f751cd64436ab1c258bfe1af9a8f": {
      "model_module": "@jupyter-widgets/controls",
      "model_module_version": "2.0.0",
      "model_name": "HBoxModel",
      "state": {
       "_dom_classes": [],
       "_model_module": "@jupyter-widgets/controls",
       "_model_module_version": "2.0.0",
       "_model_name": "HBoxModel",
       "_view_count": null,
       "_view_module": "@jupyter-widgets/controls",
       "_view_module_version": "2.0.0",
       "_view_name": "HBoxView",
       "box_style": "",
       "children": [
        "IPY_MODEL_7610d83b674e4b6ba67b801506387591",
        "IPY_MODEL_df168f09c51d411f9838cfc3e72cc01e",
        "IPY_MODEL_15e1c79266c34fc0826a2fcfd8fc2c60"
       ],
       "layout": "IPY_MODEL_d3f2017b2bb24bc69cfddf9962653ce7",
       "tabbable": null,
       "tooltip": null
      }
     },
     "d3f2017b2bb24bc69cfddf9962653ce7": {
      "model_module": "@jupyter-widgets/base",
      "model_module_version": "2.0.0",
      "model_name": "LayoutModel",
      "state": {
       "_model_module": "@jupyter-widgets/base",
       "_model_module_version": "2.0.0",
       "_model_name": "LayoutModel",
       "_view_count": null,
       "_view_module": "@jupyter-widgets/base",
       "_view_module_version": "2.0.0",
       "_view_name": "LayoutView",
       "align_content": null,
       "align_items": null,
       "align_self": null,
       "border_bottom": null,
       "border_left": null,
       "border_right": null,
       "border_top": null,
       "bottom": null,
       "display": null,
       "flex": null,
       "flex_flow": null,
       "grid_area": null,
       "grid_auto_columns": null,
       "grid_auto_flow": null,
       "grid_auto_rows": null,
       "grid_column": null,
       "grid_gap": null,
       "grid_row": null,
       "grid_template_areas": null,
       "grid_template_columns": null,
       "grid_template_rows": null,
       "height": null,
       "justify_content": null,
       "justify_items": null,
       "left": null,
       "margin": null,
       "max_height": null,
       "max_width": null,
       "min_height": null,
       "min_width": null,
       "object_fit": null,
       "object_position": null,
       "order": null,
       "overflow": null,
       "padding": null,
       "right": null,
       "top": null,
       "visibility": null,
       "width": null
      }
     },
     "df168f09c51d411f9838cfc3e72cc01e": {
      "model_module": "@jupyter-widgets/controls",
      "model_module_version": "2.0.0",
      "model_name": "FloatProgressModel",
      "state": {
       "_dom_classes": [],
       "_model_module": "@jupyter-widgets/controls",
       "_model_module_version": "2.0.0",
       "_model_name": "FloatProgressModel",
       "_view_count": null,
       "_view_module": "@jupyter-widgets/controls",
       "_view_module_version": "2.0.0",
       "_view_name": "ProgressView",
       "bar_style": "success",
       "description": "",
       "description_allow_html": false,
       "layout": "IPY_MODEL_908c1787662e475eb5c1871425ca800b",
       "max": 6.0,
       "min": 0.0,
       "orientation": "horizontal",
       "style": "IPY_MODEL_f806c3db52b141758aabf55c69546c67",
       "tabbable": null,
       "tooltip": null,
       "value": 6.0
      }
     },
     "f806c3db52b141758aabf55c69546c67": {
      "model_module": "@jupyter-widgets/controls",
      "model_module_version": "2.0.0",
      "model_name": "ProgressStyleModel",
      "state": {
       "_model_module": "@jupyter-widgets/controls",
       "_model_module_version": "2.0.0",
       "_model_name": "ProgressStyleModel",
       "_view_count": null,
       "_view_module": "@jupyter-widgets/base",
       "_view_module_version": "2.0.0",
       "_view_name": "StyleView",
       "bar_color": null,
       "description_width": ""
      }
     }
    },
    "version_major": 2,
    "version_minor": 0
   }
  }
 },
 "nbformat": 4,
 "nbformat_minor": 5
}