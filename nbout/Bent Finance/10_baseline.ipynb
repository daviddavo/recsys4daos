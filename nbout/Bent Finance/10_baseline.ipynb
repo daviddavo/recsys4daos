{
 "cells": [
  {
   "cell_type": "code",
   "execution_count": 1,
   "id": "22c9299e",
   "metadata": {
    "execution": {
     "iopub.execute_input": "2024-09-05T09:47:33.602439Z",
     "iopub.status.busy": "2024-09-05T09:47:33.601928Z",
     "iopub.status.idle": "2024-09-05T09:47:36.283342Z",
     "shell.execute_reply": "2024-09-05T09:47:36.283013Z"
    },
    "papermill": {
     "duration": 2.690794,
     "end_time": "2024-09-05T09:47:36.284042",
     "exception": false,
     "start_time": "2024-09-05T09:47:33.593248",
     "status": "completed"
    },
    "tags": []
   },
   "outputs": [
    {
     "name": "stderr",
     "output_type": "stream",
     "text": [
      "/tmp/ipykernel_3824544/2526015065.py:7: TqdmExperimentalWarning: Using `tqdm.autonotebook.tqdm` in notebook mode. Use `tqdm.tqdm` instead to force console mode (e.g. in jupyter console)\n",
      "  from tqdm.autonotebook import tqdm\n"
     ]
    },
    {
     "name": "stdout",
     "output_type": "stream",
     "text": [
      "Ignoring warnings\n"
     ]
    }
   ],
   "source": [
    "from typing import List\n",
    "import sys\n",
    "from collections import defaultdict\n",
    "\n",
    "import pandas as pd\n",
    "import numpy as np\n",
    "from tqdm.autonotebook import tqdm\n",
    "\n",
    "from recsys4daos.models import OpenPop\n",
    "from recsys4daos.datasets import to_microsoft\n",
    "from recsys4daos.model_selection import cvtt_open\n",
    "from recsys4daos.evaluation import calculate_all_metrics\n",
    "\n",
    "import paths\n",
    "\n",
    "import recommenders\n",
    "if recommenders.__version__ == '1.2.0':\n",
    "    print(\"Ignoring warnings\")\n",
    "    import warnings\n",
    "    warnings.simplefilter(action='ignore', category=FutureWarning)"
   ]
  },
  {
   "cell_type": "code",
   "execution_count": 2,
   "id": "d0973b23",
   "metadata": {
    "editable": true,
    "execution": {
     "iopub.execute_input": "2024-09-05T09:47:36.289230Z",
     "iopub.status.busy": "2024-09-05T09:47:36.288965Z",
     "iopub.status.idle": "2024-09-05T09:47:36.291513Z",
     "shell.execute_reply": "2024-09-05T09:47:36.291072Z"
    },
    "papermill": {
     "duration": 0.0056,
     "end_time": "2024-09-05T09:47:36.292100",
     "exception": false,
     "start_time": "2024-09-05T09:47:36.286500",
     "status": "completed"
    },
    "slideshow": {
     "slide_type": ""
    },
    "tags": [
     "parameters"
    ]
   },
   "outputs": [],
   "source": [
    "SPLITS_FREQ = \"W-THU\"\n",
    "SPLITS_NORMALIZE = True\n",
    "ORG_NAME = 'Decentraland'\n",
    "LAST_FOLD_DATE_STR: str = None # Won't use it, we will just calculate for every fold\n",
    "\n",
    "# In this notebook this is just used for plotting and description, not \"training\"\n",
    "# every fold is saved into the results table\n",
    "LAST_FOLDS = 10\n",
    "\n",
    "K_RECOMMENDATIONS: List[int] = [1,3,5,10,15,100]"
   ]
  },
  {
   "cell_type": "code",
   "execution_count": 3,
   "id": "374310d4",
   "metadata": {
    "execution": {
     "iopub.execute_input": "2024-09-05T09:47:36.295932Z",
     "iopub.status.busy": "2024-09-05T09:47:36.295792Z",
     "iopub.status.idle": "2024-09-05T09:47:36.297844Z",
     "shell.execute_reply": "2024-09-05T09:47:36.297624Z"
    },
    "papermill": {
     "duration": 0.004567,
     "end_time": "2024-09-05T09:47:36.298348",
     "exception": false,
     "start_time": "2024-09-05T09:47:36.293781",
     "status": "completed"
    },
    "tags": [
     "injected-parameters"
    ]
   },
   "outputs": [],
   "source": [
    "# Parameters\n",
    "EXECUTION_ID = \"2024-09-04T10:00\"\n",
    "ORG_NAME = \"Bent Finance\"\n",
    "SPLITS_FREQ = \"2d\"\n",
    "LAST_FOLDS = 10\n",
    "SPLITS_NORMALIZE = True\n",
    "LAST_FOLD_DATE_STR = \"2023-04-30\"\n"
   ]
  },
  {
   "cell_type": "markdown",
   "id": "da06beb0",
   "metadata": {
    "papermill": {
     "duration": 0.001623,
     "end_time": "2024-09-05T09:47:36.301630",
     "exception": false,
     "start_time": "2024-09-05T09:47:36.300007",
     "status": "completed"
    },
    "tags": []
   },
   "source": [
    "## Obtain dataset"
   ]
  },
  {
   "cell_type": "code",
   "execution_count": 4,
   "id": "81c65746",
   "metadata": {
    "execution": {
     "iopub.execute_input": "2024-09-05T09:47:36.305349Z",
     "iopub.status.busy": "2024-09-05T09:47:36.305240Z",
     "iopub.status.idle": "2024-09-05T09:47:36.429643Z",
     "shell.execute_reply": "2024-09-05T09:47:36.427468Z"
    },
    "papermill": {
     "duration": 0.130233,
     "end_time": "2024-09-05T09:47:36.433539",
     "exception": false,
     "start_time": "2024-09-05T09:47:36.303306",
     "status": "completed"
    },
    "tags": []
   },
   "outputs": [
    {
     "name": "stdout",
     "output_type": "stream",
     "text": [
      "/home/daviddavo/recsys4daos/notebooks\r\n"
     ]
    }
   ],
   "source": [
    "!pwd"
   ]
  },
  {
   "cell_type": "code",
   "execution_count": 5,
   "id": "a52362a0",
   "metadata": {
    "execution": {
     "iopub.execute_input": "2024-09-05T09:47:36.453098Z",
     "iopub.status.busy": "2024-09-05T09:47:36.452750Z",
     "iopub.status.idle": "2024-09-05T09:47:36.575158Z",
     "shell.execute_reply": "2024-09-05T09:47:36.572876Z"
    },
    "papermill": {
     "duration": 0.134603,
     "end_time": "2024-09-05T09:47:36.579003",
     "exception": false,
     "start_time": "2024-09-05T09:47:36.444400",
     "status": "completed"
    },
    "tags": []
   },
   "outputs": [
    {
     "name": "stdout",
     "output_type": "stream",
     "text": [
      "md5sum: '../data/decentraland/*': No such file or directory\r\n"
     ]
    }
   ],
   "source": [
    "!md5sum ../data/decentraland/*"
   ]
  },
  {
   "cell_type": "code",
   "execution_count": 6,
   "id": "6f29e5f8",
   "metadata": {
    "execution": {
     "iopub.execute_input": "2024-09-05T09:47:36.587403Z",
     "iopub.status.busy": "2024-09-05T09:47:36.587130Z",
     "iopub.status.idle": "2024-09-05T09:47:36.625791Z",
     "shell.execute_reply": "2024-09-05T09:47:36.625572Z"
    },
    "papermill": {
     "duration": 0.04167,
     "end_time": "2024-09-05T09:47:36.626439",
     "exception": false,
     "start_time": "2024-09-05T09:47:36.584769",
     "status": "completed"
    },
    "tags": []
   },
   "outputs": [
    {
     "name": "stdout",
     "output_type": "stream",
     "text": [
      "<class 'pandas.core.frame.DataFrame'>\n",
      "RangeIndex: 542 entries, 0 to 541\n",
      "Data columns (total 6 columns):\n",
      " #   Column             Non-Null Count  Dtype         \n",
      "---  ------             --------------  -----         \n",
      " 0   id                 542 non-null    object        \n",
      " 1   author             542 non-null    object        \n",
      " 2   date               542 non-null    datetime64[us]\n",
      " 3   start              542 non-null    datetime64[us]\n",
      " 4   end                542 non-null    datetime64[us]\n",
      " 5   platform_proposal  542 non-null    object        \n",
      "dtypes: datetime64[us](3), object(3)\n",
      "memory usage: 25.5+ KB\n",
      "None\n",
      "<class 'pandas.core.frame.DataFrame'>\n",
      "RangeIndex: 661 entries, 0 to 660\n",
      "Data columns (total 4 columns):\n",
      " #   Column    Non-Null Count  Dtype         \n",
      "---  ------    --------------  -----         \n",
      " 0   id        661 non-null    object        \n",
      " 1   proposal  661 non-null    object        \n",
      " 2   voter     661 non-null    object        \n",
      " 3   date      661 non-null    datetime64[us]\n",
      "dtypes: datetime64[us](1), object(3)\n",
      "memory usage: 20.8+ KB\n",
      "None\n",
      "<class 'pandas.core.frame.DataFrame'>\n",
      "RangeIndex: 661 entries, 0 to 660\n",
      "Data columns (total 4 columns):\n",
      " #   Column     Non-Null Count  Dtype         \n",
      "---  ------     --------------  -----         \n",
      " 0   userID     661 non-null    object        \n",
      " 1   itemID     661 non-null    object        \n",
      " 2   timestamp  661 non-null    datetime64[us]\n",
      " 3   rating     661 non-null    int64         \n",
      "dtypes: datetime64[us](1), int64(1), object(2)\n",
      "memory usage: 20.8+ KB\n",
      "None\n"
     ]
    }
   ],
   "source": [
    "dfp = paths.load_proposals(ORG_NAME)\n",
    "dfv = paths.load_votes(ORG_NAME)\n",
    "\n",
    "df = to_microsoft(dfv)\n",
    "\n",
    "print(dfp.info())\n",
    "print(dfv.info())\n",
    "print(df.info())"
   ]
  },
  {
   "cell_type": "markdown",
   "id": "5606f575",
   "metadata": {
    "papermill": {
     "duration": 0.00204,
     "end_time": "2024-09-05T09:47:36.630746",
     "exception": false,
     "start_time": "2024-09-05T09:47:36.628706",
     "status": "completed"
    },
    "tags": []
   },
   "source": [
    "## Showing some info of the folds"
   ]
  },
  {
   "cell_type": "code",
   "execution_count": 7,
   "id": "05aed359",
   "metadata": {
    "execution": {
     "iopub.execute_input": "2024-09-05T09:47:36.634844Z",
     "iopub.status.busy": "2024-09-05T09:47:36.634743Z",
     "iopub.status.idle": "2024-09-05T09:47:36.994221Z",
     "shell.execute_reply": "2024-09-05T09:47:36.994000Z"
    },
    "papermill": {
     "duration": 0.362366,
     "end_time": "2024-09-05T09:47:36.994865",
     "exception": false,
     "start_time": "2024-09-05T09:47:36.632499",
     "status": "completed"
    },
    "tags": []
   },
   "outputs": [
    {
     "name": "stdout",
     "output_type": "stream",
     "text": [
      "Saved dataframe into /home/daviddavo/recsys4daos/data/output/Bent Finance/baseline/folds-info_2d_normalize.parquet\n",
      "fold\n",
      "2023-06-29    647\n",
      "2023-07-01    647\n",
      "2023-07-03    648\n",
      "2023-07-05    648\n",
      "2023-07-07    648\n",
      "2023-07-09    648\n",
      "2023-07-11    654\n",
      "2023-07-13    654\n",
      "2023-07-15    654\n",
      "2023-07-17    658\n",
      "Name: votes in train, dtype: int64\n"
     ]
    },
    {
     "data": {
      "text/html": [
       "<style type=\"text/css\">\n",
       "</style>\n",
       "<table id=\"T_abf8e\">\n",
       "  <thead>\n",
       "    <tr>\n",
       "      <th class=\"blank level0\" >&nbsp;</th>\n",
       "      <th id=\"T_abf8e_level0_col0\" class=\"col_heading level0 col0\" >open proposals</th>\n",
       "      <th id=\"T_abf8e_level0_col1\" class=\"col_heading level0 col1\" >votes in open proposals (train)</th>\n",
       "      <th id=\"T_abf8e_level0_col2\" class=\"col_heading level0 col2\" >users in open proposals (train)</th>\n",
       "      <th id=\"T_abf8e_level0_col3\" class=\"col_heading level0 col3\" >vpp in open proposals (train)</th>\n",
       "      <th id=\"T_abf8e_level0_col4\" class=\"col_heading level0 col4\" >vpu in open proposals (train)</th>\n",
       "      <th id=\"T_abf8e_level0_col5\" class=\"col_heading level0 col5\" >votes in test</th>\n",
       "      <th id=\"T_abf8e_level0_col6\" class=\"col_heading level0 col6\" >users in test</th>\n",
       "      <th id=\"T_abf8e_level0_col7\" class=\"col_heading level0 col7\" >vpp test</th>\n",
       "      <th id=\"T_abf8e_level0_col8\" class=\"col_heading level0 col8\" >vpu test</th>\n",
       "    </tr>\n",
       "    <tr>\n",
       "      <th class=\"index_name level0\" >fold</th>\n",
       "      <th class=\"blank col0\" >&nbsp;</th>\n",
       "      <th class=\"blank col1\" >&nbsp;</th>\n",
       "      <th class=\"blank col2\" >&nbsp;</th>\n",
       "      <th class=\"blank col3\" >&nbsp;</th>\n",
       "      <th class=\"blank col4\" >&nbsp;</th>\n",
       "      <th class=\"blank col5\" >&nbsp;</th>\n",
       "      <th class=\"blank col6\" >&nbsp;</th>\n",
       "      <th class=\"blank col7\" >&nbsp;</th>\n",
       "      <th class=\"blank col8\" >&nbsp;</th>\n",
       "    </tr>\n",
       "  </thead>\n",
       "  <tbody>\n",
       "    <tr>\n",
       "      <th id=\"T_abf8e_level0_row0\" class=\"row_heading level0 row0\" >2023-W26</th>\n",
       "      <td id=\"T_abf8e_row0_col0\" class=\"data row0 col0\" >3</td>\n",
       "      <td id=\"T_abf8e_row0_col1\" class=\"data row0 col1\" >3</td>\n",
       "      <td id=\"T_abf8e_row0_col2\" class=\"data row0 col2\" >1</td>\n",
       "      <td id=\"T_abf8e_row0_col3\" class=\"data row0 col3\" >1.00</td>\n",
       "      <td id=\"T_abf8e_row0_col4\" class=\"data row0 col4\" >3.00</td>\n",
       "      <td id=\"T_abf8e_row0_col5\" class=\"data row0 col5\" >0</td>\n",
       "      <td id=\"T_abf8e_row0_col6\" class=\"data row0 col6\" >0</td>\n",
       "      <td id=\"T_abf8e_row0_col7\" class=\"data row0 col7\" >0.00</td>\n",
       "      <td id=\"T_abf8e_row0_col8\" class=\"data row0 col8\" >nan</td>\n",
       "    </tr>\n",
       "    <tr>\n",
       "      <th id=\"T_abf8e_level0_row1\" class=\"row_heading level0 row1\" >2023-W26</th>\n",
       "      <td id=\"T_abf8e_row1_col0\" class=\"data row1 col0\" >1</td>\n",
       "      <td id=\"T_abf8e_row1_col1\" class=\"data row1 col1\" >1</td>\n",
       "      <td id=\"T_abf8e_row1_col2\" class=\"data row1 col2\" >1</td>\n",
       "      <td id=\"T_abf8e_row1_col3\" class=\"data row1 col3\" >1.00</td>\n",
       "      <td id=\"T_abf8e_row1_col4\" class=\"data row1 col4\" >1.00</td>\n",
       "      <td id=\"T_abf8e_row1_col5\" class=\"data row1 col5\" >0</td>\n",
       "      <td id=\"T_abf8e_row1_col6\" class=\"data row1 col6\" >0</td>\n",
       "      <td id=\"T_abf8e_row1_col7\" class=\"data row1 col7\" >0.00</td>\n",
       "      <td id=\"T_abf8e_row1_col8\" class=\"data row1 col8\" >nan</td>\n",
       "    </tr>\n",
       "    <tr>\n",
       "      <th id=\"T_abf8e_level0_row2\" class=\"row_heading level0 row2\" >2023-W27</th>\n",
       "      <td id=\"T_abf8e_row2_col0\" class=\"data row2 col0\" >1</td>\n",
       "      <td id=\"T_abf8e_row2_col1\" class=\"data row2 col1\" >1</td>\n",
       "      <td id=\"T_abf8e_row2_col2\" class=\"data row2 col2\" >1</td>\n",
       "      <td id=\"T_abf8e_row2_col3\" class=\"data row2 col3\" >1.00</td>\n",
       "      <td id=\"T_abf8e_row2_col4\" class=\"data row2 col4\" >1.00</td>\n",
       "      <td id=\"T_abf8e_row2_col5\" class=\"data row2 col5\" >0</td>\n",
       "      <td id=\"T_abf8e_row2_col6\" class=\"data row2 col6\" >0</td>\n",
       "      <td id=\"T_abf8e_row2_col7\" class=\"data row2 col7\" >0.00</td>\n",
       "      <td id=\"T_abf8e_row2_col8\" class=\"data row2 col8\" >nan</td>\n",
       "    </tr>\n",
       "    <tr>\n",
       "      <th id=\"T_abf8e_level0_row3\" class=\"row_heading level0 row3\" >2023-W27</th>\n",
       "      <td id=\"T_abf8e_row3_col0\" class=\"data row3 col0\" >1</td>\n",
       "      <td id=\"T_abf8e_row3_col1\" class=\"data row3 col1\" >0</td>\n",
       "      <td id=\"T_abf8e_row3_col2\" class=\"data row3 col2\" >0</td>\n",
       "      <td id=\"T_abf8e_row3_col3\" class=\"data row3 col3\" >0.00</td>\n",
       "      <td id=\"T_abf8e_row3_col4\" class=\"data row3 col4\" >nan</td>\n",
       "      <td id=\"T_abf8e_row3_col5\" class=\"data row3 col5\" >1</td>\n",
       "      <td id=\"T_abf8e_row3_col6\" class=\"data row3 col6\" >1</td>\n",
       "      <td id=\"T_abf8e_row3_col7\" class=\"data row3 col7\" >1.00</td>\n",
       "      <td id=\"T_abf8e_row3_col8\" class=\"data row3 col8\" >1.00</td>\n",
       "    </tr>\n",
       "    <tr>\n",
       "      <th id=\"T_abf8e_level0_row4\" class=\"row_heading level0 row4\" >2023-W27</th>\n",
       "      <td id=\"T_abf8e_row4_col0\" class=\"data row4 col0\" >3</td>\n",
       "      <td id=\"T_abf8e_row4_col1\" class=\"data row4 col1\" >0</td>\n",
       "      <td id=\"T_abf8e_row4_col2\" class=\"data row4 col2\" >0</td>\n",
       "      <td id=\"T_abf8e_row4_col3\" class=\"data row4 col3\" >0.00</td>\n",
       "      <td id=\"T_abf8e_row4_col4\" class=\"data row4 col4\" >nan</td>\n",
       "      <td id=\"T_abf8e_row4_col5\" class=\"data row4 col5\" >4</td>\n",
       "      <td id=\"T_abf8e_row4_col6\" class=\"data row4 col6\" >2</td>\n",
       "      <td id=\"T_abf8e_row4_col7\" class=\"data row4 col7\" >1.33</td>\n",
       "      <td id=\"T_abf8e_row4_col8\" class=\"data row4 col8\" >2.00</td>\n",
       "    </tr>\n",
       "    <tr>\n",
       "      <th id=\"T_abf8e_level0_row5\" class=\"row_heading level0 row5\" >2023-W27</th>\n",
       "      <td id=\"T_abf8e_row5_col0\" class=\"data row5 col0\" >4</td>\n",
       "      <td id=\"T_abf8e_row5_col1\" class=\"data row5 col1\" >0</td>\n",
       "      <td id=\"T_abf8e_row5_col2\" class=\"data row5 col2\" >0</td>\n",
       "      <td id=\"T_abf8e_row5_col3\" class=\"data row5 col3\" >0.00</td>\n",
       "      <td id=\"T_abf8e_row5_col4\" class=\"data row5 col4\" >nan</td>\n",
       "      <td id=\"T_abf8e_row5_col5\" class=\"data row5 col5\" >5</td>\n",
       "      <td id=\"T_abf8e_row5_col6\" class=\"data row5 col6\" >2</td>\n",
       "      <td id=\"T_abf8e_row5_col7\" class=\"data row5 col7\" >1.25</td>\n",
       "      <td id=\"T_abf8e_row5_col8\" class=\"data row5 col8\" >2.50</td>\n",
       "    </tr>\n",
       "    <tr>\n",
       "      <th id=\"T_abf8e_level0_row6\" class=\"row_heading level0 row6\" >2023-W28</th>\n",
       "      <td id=\"T_abf8e_row6_col0\" class=\"data row6 col0\" >2</td>\n",
       "      <td id=\"T_abf8e_row6_col1\" class=\"data row6 col1\" >2</td>\n",
       "      <td id=\"T_abf8e_row6_col2\" class=\"data row6 col2\" >1</td>\n",
       "      <td id=\"T_abf8e_row6_col3\" class=\"data row6 col3\" >1.00</td>\n",
       "      <td id=\"T_abf8e_row6_col4\" class=\"data row6 col4\" >2.00</td>\n",
       "      <td id=\"T_abf8e_row6_col5\" class=\"data row6 col5\" >0</td>\n",
       "      <td id=\"T_abf8e_row6_col6\" class=\"data row6 col6\" >0</td>\n",
       "      <td id=\"T_abf8e_row6_col7\" class=\"data row6 col7\" >0.00</td>\n",
       "      <td id=\"T_abf8e_row6_col8\" class=\"data row6 col8\" >nan</td>\n",
       "    </tr>\n",
       "    <tr>\n",
       "      <th id=\"T_abf8e_level0_row7\" class=\"row_heading level0 row7\" >2023-W28</th>\n",
       "      <td id=\"T_abf8e_row7_col0\" class=\"data row7 col0\" >1</td>\n",
       "      <td id=\"T_abf8e_row7_col1\" class=\"data row7 col1\" >1</td>\n",
       "      <td id=\"T_abf8e_row7_col2\" class=\"data row7 col2\" >1</td>\n",
       "      <td id=\"T_abf8e_row7_col3\" class=\"data row7 col3\" >1.00</td>\n",
       "      <td id=\"T_abf8e_row7_col4\" class=\"data row7 col4\" >1.00</td>\n",
       "      <td id=\"T_abf8e_row7_col5\" class=\"data row7 col5\" >0</td>\n",
       "      <td id=\"T_abf8e_row7_col6\" class=\"data row7 col6\" >0</td>\n",
       "      <td id=\"T_abf8e_row7_col7\" class=\"data row7 col7\" >0.00</td>\n",
       "      <td id=\"T_abf8e_row7_col8\" class=\"data row7 col8\" >nan</td>\n",
       "    </tr>\n",
       "    <tr>\n",
       "      <th id=\"T_abf8e_level0_row8\" class=\"row_heading level0 row8\" >2023-W28</th>\n",
       "      <td id=\"T_abf8e_row8_col0\" class=\"data row8 col0\" >0</td>\n",
       "      <td id=\"T_abf8e_row8_col1\" class=\"data row8 col1\" >0</td>\n",
       "      <td id=\"T_abf8e_row8_col2\" class=\"data row8 col2\" >0</td>\n",
       "      <td id=\"T_abf8e_row8_col3\" class=\"data row8 col3\" >nan</td>\n",
       "      <td id=\"T_abf8e_row8_col4\" class=\"data row8 col4\" >nan</td>\n",
       "      <td id=\"T_abf8e_row8_col5\" class=\"data row8 col5\" >0</td>\n",
       "      <td id=\"T_abf8e_row8_col6\" class=\"data row8 col6\" >0</td>\n",
       "      <td id=\"T_abf8e_row8_col7\" class=\"data row8 col7\" >nan</td>\n",
       "      <td id=\"T_abf8e_row8_col8\" class=\"data row8 col8\" >nan</td>\n",
       "    </tr>\n",
       "    <tr>\n",
       "      <th id=\"T_abf8e_level0_row9\" class=\"row_heading level0 row9\" >2023-W29</th>\n",
       "      <td id=\"T_abf8e_row9_col0\" class=\"data row9 col0\" >6</td>\n",
       "      <td id=\"T_abf8e_row9_col1\" class=\"data row9 col1\" >4</td>\n",
       "      <td id=\"T_abf8e_row9_col2\" class=\"data row9 col2\" >1</td>\n",
       "      <td id=\"T_abf8e_row9_col3\" class=\"data row9 col3\" >0.67</td>\n",
       "      <td id=\"T_abf8e_row9_col4\" class=\"data row9 col4\" >4.00</td>\n",
       "      <td id=\"T_abf8e_row9_col5\" class=\"data row9 col5\" >2</td>\n",
       "      <td id=\"T_abf8e_row9_col6\" class=\"data row9 col6\" >1</td>\n",
       "      <td id=\"T_abf8e_row9_col7\" class=\"data row9 col7\" >0.33</td>\n",
       "      <td id=\"T_abf8e_row9_col8\" class=\"data row9 col8\" >2.00</td>\n",
       "    </tr>\n",
       "  </tbody>\n",
       "</table>\n"
      ],
      "text/plain": [
       "<pandas.io.formats.style.Styler at 0x7f5380e66c10>"
      ]
     },
     "execution_count": 7,
     "metadata": {},
     "output_type": "execute_result"
    }
   ],
   "source": [
    "sdd = defaultdict(list)\n",
    "\n",
    "for dftrain, dftest, t, openproposals in cvtt_open(to_microsoft(dfv), SPLITS_FREQ, dfp.reset_index(), remove_not_in_train_col='userID', normalize=SPLITS_NORMALIZE):\n",
    "    dftrain_filter = dftrain[dftrain['itemID'].isin(openproposals)]\n",
    "    \n",
    "    sdd['fold'].append(t)\n",
    "    sdd['open proposals'].append(len(openproposals))\n",
    "    \n",
    "    sdd['proposals in train'].append(dftrain['itemID'].nunique())\n",
    "    sdd['votes in train'].append(len(dftrain))\n",
    "    sdd['votes in open proposals (train)'].append(len(dftrain_filter))\n",
    "    sdd['users in open proposals (train)'].append(dftrain_filter['userID'].nunique())\n",
    "    sdd['votes in test'].append(len(dftest))\n",
    "    sdd['users in train'].append(dftrain['userID'].nunique())\n",
    "    sdd['users in test'].append(dftest['userID'].nunique())\n",
    "\n",
    "sdf_all = pd.DataFrame(sdd).set_index('fold')\n",
    "sdf_all['vpp in open proposals (train)'] = sdf_all['votes in open proposals (train)'] / sdf_all['open proposals']\n",
    "sdf_all['vpu in open proposals (train)'] = sdf_all['votes in open proposals (train)'] / sdf_all['users in open proposals (train)']\n",
    "sdf_all['vpp test'] = sdf_all['votes in test'] / sdf_all['open proposals']\n",
    "sdf_all['vpu test'] = sdf_all['votes in test'] / sdf_all['users in test']\n",
    "paths.save_folds_info(sdf_all, ORG_NAME, SPLITS_FREQ, SPLITS_NORMALIZE)\n",
    "sdf = sdf_all.tail(LAST_FOLDS)\n",
    "print(sdf['votes in train'])\n",
    "_style = sdf[['open proposals', 'votes in open proposals (train)', 'users in open proposals (train)', 'vpp in open proposals (train)', 'vpu in open proposals (train)', 'votes in test', 'users in test', 'vpp test', 'vpu test']].style\n",
    "_style = _style.format_index('{:%G-W%V}').format(precision=2)\n",
    "_style"
   ]
  },
  {
   "cell_type": "code",
   "execution_count": 8,
   "id": "80fdecde",
   "metadata": {
    "execution": {
     "iopub.execute_input": "2024-09-05T09:47:37.000058Z",
     "iopub.status.busy": "2024-09-05T09:47:36.999878Z",
     "iopub.status.idle": "2024-09-05T09:47:37.010043Z",
     "shell.execute_reply": "2024-09-05T09:47:37.009841Z"
    },
    "papermill": {
     "duration": 0.013882,
     "end_time": "2024-09-05T09:47:37.011104",
     "exception": false,
     "start_time": "2024-09-05T09:47:36.997222",
     "status": "completed"
    },
    "tags": []
   },
   "outputs": [
    {
     "name": "stdout",
     "output_type": "stream",
     "text": [
      "\\begin{tabular}{lrrrrrrrrr}\n",
      " & \\textbf{open proposals} & \\textbf{votes in open proposals (train)} & \\textbf{users in open proposals (train)} & \\textbf{vpp in open proposals (train)} & \\textbf{vpu in open proposals (train)} & \\textbf{votes in test} & \\textbf{users in test} & \\textbf{vpp test} & \\textbf{vpu test} \\\\\n",
      "fold &  &  &  &  &  &  &  &  &  \\\\\n",
      "2023-W26 & 3 & 3 & 1 & 1.00 & 3.00 & 0 & 0 & 0.00 & nan \\\\\n",
      "2023-W26 & 1 & 1 & 1 & 1.00 & 1.00 & 0 & 0 & 0.00 & nan \\\\\n",
      "2023-W27 & 1 & 1 & 1 & 1.00 & 1.00 & 0 & 0 & 0.00 & nan \\\\\n",
      "2023-W27 & 1 & 0 & 0 & 0.00 & nan & 1 & 1 & 1.00 & 1.00 \\\\\n",
      "2023-W27 & 3 & 0 & 0 & 0.00 & nan & 4 & 2 & 1.33 & 2.00 \\\\\n",
      "2023-W27 & 4 & 0 & 0 & 0.00 & nan & 5 & 2 & 1.25 & 2.50 \\\\\n",
      "2023-W28 & 2 & 2 & 1 & 1.00 & 2.00 & 0 & 0 & 0.00 & nan \\\\\n",
      "2023-W28 & 1 & 1 & 1 & 1.00 & 1.00 & 0 & 0 & 0.00 & nan \\\\\n",
      "2023-W28 & 0 & 0 & 0 & nan & nan & 0 & 0 & nan & nan \\\\\n",
      "2023-W29 & 6 & 4 & 1 & 0.67 & 4.00 & 2 & 1 & 0.33 & 2.00 \\\\\n",
      "\\end{tabular}\n",
      "\n"
     ]
    }
   ],
   "source": [
    "print(_style\n",
    "  .format_index(\"\\\\textbf{{{}}}\", escape=\"latex\", axis=1)\n",
    "  .to_latex()\n",
    ")"
   ]
  },
  {
   "cell_type": "markdown",
   "id": "766f15b3",
   "metadata": {
    "papermill": {
     "duration": 0.001984,
     "end_time": "2024-09-05T09:47:37.015085",
     "exception": false,
     "start_time": "2024-09-05T09:47:37.013101",
     "status": "completed"
    },
    "tags": []
   },
   "source": [
    "## Running openpop baseline"
   ]
  },
  {
   "cell_type": "code",
   "execution_count": 9,
   "id": "7f6ec7e5",
   "metadata": {
    "execution": {
     "iopub.execute_input": "2024-09-05T09:47:37.019543Z",
     "iopub.status.busy": "2024-09-05T09:47:37.019371Z",
     "iopub.status.idle": "2024-09-05T09:48:28.324078Z",
     "shell.execute_reply": "2024-09-05T09:48:28.323859Z"
    },
    "papermill": {
     "duration": 51.307738,
     "end_time": "2024-09-05T09:48:28.324780",
     "exception": false,
     "start_time": "2024-09-05T09:47:37.017042",
     "status": "completed"
    },
    "tags": []
   },
   "outputs": [
    {
     "data": {
      "application/vnd.jupyter.widget-view+json": {
       "model_id": "2deb7bf479bb4e7fb88a55417dcf6dbe",
       "version_major": 2,
       "version_minor": 0
      },
      "text/plain": [
       "  0%|          | 0/285 [00:00<?, ?it/s]"
      ]
     },
     "metadata": {},
     "output_type": "display_data"
    },
    {
     "name": "stderr",
     "output_type": "stream",
     "text": [
      "Warning, empty test fold 0 (2021-12-26 00:00:00), all ok since 0 folds ago\n",
      "Warning, empty test fold 1 (2021-12-28 00:00:00), all ok since 1 folds ago\n"
     ]
    },
    {
     "name": "stderr",
     "output_type": "stream",
     "text": [
      "Warning, empty test fold 2 (2021-12-30 00:00:00), all ok since 1 folds ago\n",
      "Warning, empty test fold 3 (2022-01-01 00:00:00), all ok since 1 folds ago\n"
     ]
    },
    {
     "name": "stderr",
     "output_type": "stream",
     "text": [
      "Warning, empty test fold 4 (2022-01-03 00:00:00), all ok since 1 folds ago\n",
      "Warning, empty test fold 5 (2022-01-05 00:00:00), all ok since 1 folds ago\n"
     ]
    },
    {
     "name": "stderr",
     "output_type": "stream",
     "text": [
      "Warning, empty test fold 6 (2022-01-07 00:00:00), all ok since 1 folds ago\n",
      "Warning, test fold 7 (2022-01-09 00:00:00) with less than 5 open proposals (1). all ok since 1 folds ago\n"
     ]
    },
    {
     "name": "stderr",
     "output_type": "stream",
     "text": [
      "Warning, empty test fold 8 (2022-01-11 00:00:00), all ok since 2 folds ago\n",
      "Warning, empty test fold 9 (2022-01-13 00:00:00), all ok since 1 folds ago\n"
     ]
    },
    {
     "name": "stderr",
     "output_type": "stream",
     "text": [
      "Warning, empty test fold 10 (2022-01-15 00:00:00), all ok since 1 folds ago\n",
      "Warning, empty test fold 11 (2022-01-17 00:00:00), all ok since 1 folds ago\n"
     ]
    },
    {
     "name": "stderr",
     "output_type": "stream",
     "text": [
      "Warning, empty test fold 12 (2022-01-19 00:00:00), all ok since 1 folds ago\n",
      "Warning, empty test fold 13 (2022-01-21 00:00:00), all ok since 1 folds ago\n"
     ]
    },
    {
     "name": "stderr",
     "output_type": "stream",
     "text": [
      "Warning, test fold 14 (2022-01-23 00:00:00) with less than 5 open proposals (1). all ok since 1 folds ago\n"
     ]
    },
    {
     "name": "stderr",
     "output_type": "stream",
     "text": [
      "Warning, empty test fold 15 (2022-01-25 00:00:00), all ok since 2 folds ago\n",
      "Warning, empty test fold 16 (2022-01-27 00:00:00), all ok since 1 folds ago\n"
     ]
    },
    {
     "name": "stderr",
     "output_type": "stream",
     "text": [
      "Warning, empty test fold 17 (2022-01-29 00:00:00), all ok since 1 folds ago\n",
      "Warning, empty test fold 18 (2022-01-31 00:00:00), all ok since 1 folds ago\n"
     ]
    },
    {
     "name": "stderr",
     "output_type": "stream",
     "text": [
      "Warning, empty test fold 19 (2022-02-02 00:00:00), all ok since 1 folds ago\n",
      "Warning, empty test fold 20 (2022-02-04 00:00:00), all ok since 1 folds ago\n"
     ]
    },
    {
     "name": "stderr",
     "output_type": "stream",
     "text": [
      "Warning, test fold 21 (2022-02-06 00:00:00) with less than 5 open proposals (1). all ok since 1 folds ago\n"
     ]
    },
    {
     "name": "stderr",
     "output_type": "stream",
     "text": [
      "Warning, empty test fold 22 (2022-02-08 00:00:00), all ok since 2 folds ago\n",
      "Warning, empty test fold 23 (2022-02-10 00:00:00), all ok since 1 folds ago\n"
     ]
    },
    {
     "name": "stderr",
     "output_type": "stream",
     "text": [
      "Warning, empty test fold 24 (2022-02-12 00:00:00), all ok since 1 folds ago\n",
      "Warning, empty test fold 25 (2022-02-14 00:00:00), all ok since 1 folds ago\n"
     ]
    },
    {
     "name": "stderr",
     "output_type": "stream",
     "text": [
      "Warning, empty test fold 26 (2022-02-16 00:00:00), all ok since 1 folds ago\n",
      "Warning, empty test fold 27 (2022-02-18 00:00:00), all ok since 1 folds ago\n"
     ]
    },
    {
     "name": "stderr",
     "output_type": "stream",
     "text": [
      "Warning, test fold 28 (2022-02-20 00:00:00) with less than 5 open proposals (1). all ok since 1 folds ago\n"
     ]
    },
    {
     "name": "stderr",
     "output_type": "stream",
     "text": [
      "Warning, empty test fold 29 (2022-02-22 00:00:00), all ok since 2 folds ago\n",
      "Warning, empty test fold 30 (2022-02-24 00:00:00), all ok since 1 folds ago\n"
     ]
    },
    {
     "name": "stderr",
     "output_type": "stream",
     "text": [
      "Warning, empty test fold 31 (2022-02-26 00:00:00), all ok since 1 folds ago\n",
      "Warning, empty test fold 32 (2022-02-28 00:00:00), all ok since 1 folds ago\n"
     ]
    },
    {
     "name": "stderr",
     "output_type": "stream",
     "text": [
      "Warning, empty test fold 33 (2022-03-02 00:00:00), all ok since 1 folds ago\n",
      "Warning, test fold 34 (2022-03-04 00:00:00) with less than 5 open proposals (1). all ok since 1 folds ago\n"
     ]
    },
    {
     "name": "stderr",
     "output_type": "stream",
     "text": [
      "Warning, test fold 35 (2022-03-06 00:00:00) with less than 5 open proposals (1). all ok since 1 folds ago\n"
     ]
    },
    {
     "name": "stderr",
     "output_type": "stream",
     "text": [
      "Warning, empty test fold 36 (2022-03-08 00:00:00), all ok since 3 folds ago\n",
      "Warning, empty test fold 37 (2022-03-10 00:00:00), all ok since 1 folds ago\n"
     ]
    },
    {
     "name": "stderr",
     "output_type": "stream",
     "text": [
      "Warning, empty test fold 38 (2022-03-12 00:00:00), all ok since 1 folds ago\n",
      "Warning, empty test fold 39 (2022-03-14 00:00:00), all ok since 1 folds ago\n"
     ]
    },
    {
     "name": "stderr",
     "output_type": "stream",
     "text": [
      "Warning, empty test fold 40 (2022-03-16 00:00:00), all ok since 1 folds ago\n",
      "Warning, test fold 41 (2022-03-18 00:00:00) with less than 5 open proposals (1). all ok since 1 folds ago\n"
     ]
    },
    {
     "name": "stderr",
     "output_type": "stream",
     "text": [
      "Warning, test fold 42 (2022-03-20 00:00:00) with less than 5 open proposals (1). all ok since 1 folds ago\n"
     ]
    },
    {
     "name": "stderr",
     "output_type": "stream",
     "text": [
      "Warning, empty test fold 43 (2022-03-22 00:00:00), all ok since 3 folds ago\n",
      "Warning, empty test fold 44 (2022-03-24 00:00:00), all ok since 1 folds ago\n"
     ]
    },
    {
     "name": "stderr",
     "output_type": "stream",
     "text": [
      "Warning, empty test fold 45 (2022-03-26 00:00:00), all ok since 1 folds ago\n",
      "Warning, empty test fold 46 (2022-03-28 00:00:00), all ok since 1 folds ago\n"
     ]
    },
    {
     "name": "stderr",
     "output_type": "stream",
     "text": [
      "Warning, empty test fold 47 (2022-03-30 00:00:00), all ok since 1 folds ago\n",
      "Warning, test fold 48 (2022-04-01 00:00:00) with less than 5 open proposals (1). all ok since 1 folds ago\n"
     ]
    },
    {
     "name": "stderr",
     "output_type": "stream",
     "text": [
      "Warning, test fold 49 (2022-04-03 00:00:00) with less than 5 open proposals (1). all ok since 1 folds ago\n"
     ]
    },
    {
     "name": "stderr",
     "output_type": "stream",
     "text": [
      "Warning, empty test fold 50 (2022-04-05 00:00:00), all ok since 3 folds ago\n",
      "Warning, empty test fold 51 (2022-04-07 00:00:00), all ok since 1 folds ago\n"
     ]
    },
    {
     "name": "stderr",
     "output_type": "stream",
     "text": [
      "Warning, empty test fold 52 (2022-04-09 00:00:00), all ok since 1 folds ago\n",
      "Warning, empty test fold 53 (2022-04-11 00:00:00), all ok since 1 folds ago\n"
     ]
    },
    {
     "name": "stderr",
     "output_type": "stream",
     "text": [
      "Warning, empty test fold 54 (2022-04-13 00:00:00), all ok since 1 folds ago\n",
      "Warning, empty test fold 55 (2022-04-15 00:00:00), all ok since 1 folds ago\n"
     ]
    },
    {
     "name": "stderr",
     "output_type": "stream",
     "text": [
      "Warning, test fold 56 (2022-04-17 00:00:00) with less than 5 open proposals (1). all ok since 1 folds ago\n"
     ]
    },
    {
     "name": "stderr",
     "output_type": "stream",
     "text": [
      "Warning, empty test fold 57 (2022-04-19 00:00:00), all ok since 2 folds ago\n",
      "Warning, empty test fold 58 (2022-04-21 00:00:00), all ok since 1 folds ago\n"
     ]
    },
    {
     "name": "stderr",
     "output_type": "stream",
     "text": [
      "Warning, empty test fold 59 (2022-04-23 00:00:00), all ok since 1 folds ago\n",
      "Warning, empty test fold 60 (2022-04-25 00:00:00), all ok since 1 folds ago\n"
     ]
    },
    {
     "name": "stderr",
     "output_type": "stream",
     "text": [
      "Warning, empty test fold 61 (2022-04-27 00:00:00), all ok since 1 folds ago\n",
      "Warning, test fold 62 (2022-04-29 00:00:00) with less than 5 open proposals (1). all ok since 1 folds ago\n"
     ]
    },
    {
     "name": "stderr",
     "output_type": "stream",
     "text": [
      "Warning, test fold 63 (2022-05-01 00:00:00) with less than 5 open proposals (1). all ok since 1 folds ago\n"
     ]
    },
    {
     "name": "stderr",
     "output_type": "stream",
     "text": [
      "Warning, empty test fold 64 (2022-05-03 00:00:00), all ok since 3 folds ago\n",
      "Warning, empty test fold 65 (2022-05-05 00:00:00), all ok since 1 folds ago\n"
     ]
    },
    {
     "name": "stderr",
     "output_type": "stream",
     "text": [
      "Warning, empty test fold 66 (2022-05-07 00:00:00), all ok since 1 folds ago\n",
      "Warning, empty test fold 67 (2022-05-09 00:00:00), all ok since 1 folds ago\n"
     ]
    },
    {
     "name": "stderr",
     "output_type": "stream",
     "text": [
      "Warning, empty test fold 68 (2022-05-11 00:00:00), all ok since 1 folds ago\n",
      "Warning, test fold 69 (2022-05-13 00:00:00) with less than 5 open proposals (1). all ok since 1 folds ago\n"
     ]
    },
    {
     "name": "stderr",
     "output_type": "stream",
     "text": [
      "Warning, test fold 70 (2022-05-15 00:00:00) with less than 5 open proposals (1). all ok since 1 folds ago\n"
     ]
    },
    {
     "name": "stderr",
     "output_type": "stream",
     "text": [
      "Warning, empty test fold 71 (2022-05-17 00:00:00), all ok since 3 folds ago\n",
      "Warning, empty test fold 72 (2022-05-19 00:00:00), all ok since 1 folds ago\n"
     ]
    },
    {
     "name": "stderr",
     "output_type": "stream",
     "text": [
      "Warning, empty test fold 73 (2022-05-21 00:00:00), all ok since 1 folds ago\n",
      "Warning, empty test fold 74 (2022-05-23 00:00:00), all ok since 1 folds ago\n"
     ]
    },
    {
     "name": "stderr",
     "output_type": "stream",
     "text": [
      "Warning, test fold 75 (2022-05-25 00:00:00) with less than 5 open proposals (1). all ok since 1 folds ago\n"
     ]
    },
    {
     "name": "stderr",
     "output_type": "stream",
     "text": [
      "Warning, empty test fold 76 (2022-05-27 00:00:00), all ok since 2 folds ago\n",
      "Warning, test fold 77 (2022-05-29 00:00:00) with less than 5 open proposals (1). all ok since 1 folds ago\n"
     ]
    },
    {
     "name": "stderr",
     "output_type": "stream",
     "text": [
      "Warning, empty test fold 78 (2022-05-31 00:00:00), all ok since 2 folds ago\n",
      "Warning, empty test fold 79 (2022-06-02 00:00:00), all ok since 1 folds ago\n"
     ]
    },
    {
     "name": "stderr",
     "output_type": "stream",
     "text": [
      "Warning, empty test fold 80 (2022-06-04 00:00:00), all ok since 1 folds ago\n",
      "Warning, empty test fold 81 (2022-06-06 00:00:00), all ok since 1 folds ago\n"
     ]
    },
    {
     "name": "stderr",
     "output_type": "stream",
     "text": [
      "Warning, empty test fold 82 (2022-06-08 00:00:00), all ok since 1 folds ago\n",
      "Warning, test fold 83 (2022-06-10 00:00:00) with less than 5 open proposals (1). all ok since 1 folds ago\n"
     ]
    },
    {
     "name": "stderr",
     "output_type": "stream",
     "text": [
      "Warning, test fold 84 (2022-06-12 00:00:00) with less than 5 open proposals (1). all ok since 1 folds ago\n",
      "Warning, empty test fold 85 (2022-06-14 00:00:00), all ok since 3 folds ago\n"
     ]
    },
    {
     "name": "stderr",
     "output_type": "stream",
     "text": [
      "Warning, empty test fold 86 (2022-06-16 00:00:00), all ok since 1 folds ago\n",
      "Warning, empty test fold 87 (2022-06-18 00:00:00), all ok since 1 folds ago\n"
     ]
    },
    {
     "name": "stderr",
     "output_type": "stream",
     "text": [
      "Warning, empty test fold 88 (2022-06-20 00:00:00), all ok since 1 folds ago\n",
      "Warning, empty test fold 89 (2022-06-22 00:00:00), all ok since 1 folds ago\n"
     ]
    },
    {
     "name": "stderr",
     "output_type": "stream",
     "text": [
      "Warning, test fold 90 (2022-06-24 00:00:00) with less than 5 open proposals (1). all ok since 1 folds ago\n",
      "Warning, test fold 91 (2022-06-26 00:00:00) with less than 5 open proposals (1). all ok since 1 folds ago\n"
     ]
    },
    {
     "name": "stderr",
     "output_type": "stream",
     "text": [
      "Warning, empty test fold 92 (2022-06-28 00:00:00), all ok since 3 folds ago\n",
      "Warning, empty test fold 93 (2022-06-30 00:00:00), all ok since 1 folds ago\n"
     ]
    },
    {
     "name": "stderr",
     "output_type": "stream",
     "text": [
      "Warning, empty test fold 94 (2022-07-02 00:00:00), all ok since 1 folds ago\n",
      "Warning, empty test fold 95 (2022-07-04 00:00:00), all ok since 1 folds ago\n"
     ]
    },
    {
     "name": "stderr",
     "output_type": "stream",
     "text": [
      "Warning, empty test fold 96 (2022-07-06 00:00:00), all ok since 1 folds ago\n",
      "Warning, empty test fold 97 (2022-07-08 00:00:00), all ok since 1 folds ago\n"
     ]
    },
    {
     "name": "stderr",
     "output_type": "stream",
     "text": [
      "Warning, test fold 98 (2022-07-10 00:00:00) with less than 5 open proposals (1). all ok since 1 folds ago\n",
      "Warning, empty test fold 99 (2022-07-12 00:00:00), all ok since 2 folds ago\n"
     ]
    },
    {
     "name": "stderr",
     "output_type": "stream",
     "text": [
      "Warning, empty test fold 100 (2022-07-14 00:00:00), all ok since 1 folds ago\n",
      "Warning, empty test fold 101 (2022-07-16 00:00:00), all ok since 1 folds ago\n"
     ]
    },
    {
     "name": "stderr",
     "output_type": "stream",
     "text": [
      "Warning, empty test fold 102 (2022-07-18 00:00:00), all ok since 1 folds ago\n",
      "Warning, empty test fold 103 (2022-07-20 00:00:00), all ok since 1 folds ago\n"
     ]
    },
    {
     "name": "stderr",
     "output_type": "stream",
     "text": [
      "Warning, test fold 104 (2022-07-22 00:00:00) with less than 5 open proposals (1). all ok since 1 folds ago\n",
      "Warning, test fold 105 (2022-07-24 00:00:00) with less than 5 open proposals (1). all ok since 1 folds ago\n"
     ]
    },
    {
     "name": "stderr",
     "output_type": "stream",
     "text": [
      "Warning, empty test fold 106 (2022-07-26 00:00:00), all ok since 3 folds ago\n",
      "Warning, empty test fold 107 (2022-07-28 00:00:00), all ok since 1 folds ago\n"
     ]
    },
    {
     "name": "stderr",
     "output_type": "stream",
     "text": [
      "Warning, empty test fold 108 (2022-07-30 00:00:00), all ok since 1 folds ago\n",
      "Warning, empty test fold 109 (2022-08-01 00:00:00), all ok since 1 folds ago\n"
     ]
    },
    {
     "name": "stderr",
     "output_type": "stream",
     "text": [
      "Warning, empty test fold 110 (2022-08-03 00:00:00), all ok since 1 folds ago\n",
      "Warning, test fold 111 (2022-08-05 00:00:00) with less than 5 open proposals (1). all ok since 1 folds ago\n"
     ]
    },
    {
     "name": "stderr",
     "output_type": "stream",
     "text": [
      "Warning, test fold 112 (2022-08-07 00:00:00) with less than 5 open proposals (1). all ok since 1 folds ago\n"
     ]
    },
    {
     "name": "stderr",
     "output_type": "stream",
     "text": [
      "Warning, empty test fold 113 (2022-08-09 00:00:00), all ok since 3 folds ago\n",
      "Warning, empty test fold 114 (2022-08-11 00:00:00), all ok since 1 folds ago\n"
     ]
    },
    {
     "name": "stderr",
     "output_type": "stream",
     "text": [
      "Warning, empty test fold 115 (2022-08-13 00:00:00), all ok since 1 folds ago\n",
      "Warning, empty test fold 116 (2022-08-15 00:00:00), all ok since 1 folds ago\n"
     ]
    },
    {
     "name": "stderr",
     "output_type": "stream",
     "text": [
      "Warning, empty test fold 117 (2022-08-17 00:00:00), all ok since 1 folds ago\n",
      "Warning, test fold 118 (2022-08-19 00:00:00) with less than 5 open proposals (1). all ok since 1 folds ago\n"
     ]
    },
    {
     "name": "stderr",
     "output_type": "stream",
     "text": [
      "Warning, test fold 119 (2022-08-21 00:00:00) with less than 5 open proposals (1). all ok since 1 folds ago\n"
     ]
    },
    {
     "name": "stderr",
     "output_type": "stream",
     "text": [
      "Warning, empty test fold 120 (2022-08-23 00:00:00), all ok since 3 folds ago\n",
      "Warning, empty test fold 121 (2022-08-25 00:00:00), all ok since 1 folds ago\n"
     ]
    },
    {
     "name": "stderr",
     "output_type": "stream",
     "text": [
      "Warning, empty test fold 122 (2022-08-27 00:00:00), all ok since 1 folds ago\n",
      "Warning, test fold 123 (2022-08-29 00:00:00) with less than 5 open proposals (1). all ok since 1 folds ago\n"
     ]
    },
    {
     "name": "stderr",
     "output_type": "stream",
     "text": [
      "Warning, test fold 125 (2022-09-02 00:00:00) with less than 5 open proposals (3). all ok since 2 folds ago\n"
     ]
    },
    {
     "name": "stderr",
     "output_type": "stream",
     "text": [
      "Warning, test fold 126 (2022-09-04 00:00:00) with less than 5 open proposals (2). all ok since 1 folds ago\n"
     ]
    },
    {
     "name": "stderr",
     "output_type": "stream",
     "text": [
      "Warning, test fold 127 (2022-09-06 00:00:00) with less than 5 open proposals (2). all ok since 1 folds ago\n"
     ]
    },
    {
     "name": "stderr",
     "output_type": "stream",
     "text": [
      "Warning, empty test fold 128 (2022-09-08 00:00:00), all ok since 6 folds ago\n",
      "Warning, empty test fold 129 (2022-09-10 00:00:00), all ok since 1 folds ago\n"
     ]
    },
    {
     "name": "stderr",
     "output_type": "stream",
     "text": [
      "Warning, empty test fold 130 (2022-09-12 00:00:00), all ok since 1 folds ago\n",
      "Warning, empty test fold 131 (2022-09-14 00:00:00), all ok since 1 folds ago\n"
     ]
    },
    {
     "name": "stderr",
     "output_type": "stream",
     "text": [
      "Warning, empty test fold 132 (2022-09-16 00:00:00), all ok since 1 folds ago\n",
      "Warning, empty test fold 133 (2022-09-18 00:00:00), all ok since 1 folds ago\n"
     ]
    },
    {
     "name": "stderr",
     "output_type": "stream",
     "text": [
      "Warning, test fold 134 (2022-09-20 00:00:00) with less than 5 open proposals (2). all ok since 1 folds ago\n",
      "Warning, test fold 135 (2022-09-22 00:00:00) with less than 5 open proposals (2). all ok since 1 folds ago\n"
     ]
    },
    {
     "name": "stderr",
     "output_type": "stream",
     "text": [
      "Warning, test fold 136 (2022-09-24 00:00:00) with less than 5 open proposals (3). all ok since 1 folds ago\n"
     ]
    },
    {
     "name": "stderr",
     "output_type": "stream",
     "text": [
      "Warning, test fold 137 (2022-09-26 00:00:00) with less than 5 open proposals (3). all ok since 1 folds ago\n"
     ]
    },
    {
     "name": "stderr",
     "output_type": "stream",
     "text": [
      "Warning, test fold 138 (2022-09-28 00:00:00) with less than 5 open proposals (2). all ok since 1 folds ago\n",
      "Warning, test fold 139 (2022-09-30 00:00:00) with less than 5 open proposals (2). all ok since 1 folds ago\n"
     ]
    },
    {
     "name": "stderr",
     "output_type": "stream",
     "text": [
      "Warning, test fold 140 (2022-10-02 00:00:00) with less than 5 open proposals (1). all ok since 1 folds ago\n"
     ]
    },
    {
     "name": "stderr",
     "output_type": "stream",
     "text": [
      "Warning, empty test fold 141 (2022-10-04 00:00:00), all ok since 8 folds ago\n",
      "Warning, test fold 142 (2022-10-06 00:00:00) with less than 5 open proposals (2). all ok since 1 folds ago\n"
     ]
    },
    {
     "name": "stderr",
     "output_type": "stream",
     "text": [
      "Warning, test fold 143 (2022-10-08 00:00:00) with less than 5 open proposals (2). all ok since 1 folds ago\n",
      "Warning, test fold 144 (2022-10-10 00:00:00) with less than 5 open proposals (2). all ok since 1 folds ago\n"
     ]
    },
    {
     "name": "stderr",
     "output_type": "stream",
     "text": [
      "Warning, test fold 145 (2022-10-12 00:00:00) with less than 5 open proposals (4). all ok since 1 folds ago\n",
      "Warning, test fold 146 (2022-10-14 00:00:00) with less than 5 open proposals (4). all ok since 1 folds ago\n"
     ]
    },
    {
     "name": "stderr",
     "output_type": "stream",
     "text": [
      "Warning, test fold 147 (2022-10-16 00:00:00) with less than 5 open proposals (1). all ok since 1 folds ago\n",
      "Warning, empty test fold 148 (2022-10-18 00:00:00), all ok since 7 folds ago\n"
     ]
    },
    {
     "name": "stderr",
     "output_type": "stream",
     "text": [
      "Warning, empty test fold 149 (2022-10-20 00:00:00), all ok since 1 folds ago\n",
      "Warning, empty test fold 150 (2022-10-22 00:00:00), all ok since 1 folds ago\n"
     ]
    },
    {
     "name": "stderr",
     "output_type": "stream",
     "text": [
      "Warning, empty test fold 151 (2022-10-24 00:00:00), all ok since 1 folds ago\n",
      "Warning, test fold 152 (2022-10-26 00:00:00) with less than 5 open proposals (2). all ok since 1 folds ago\n"
     ]
    },
    {
     "name": "stderr",
     "output_type": "stream",
     "text": [
      "Warning, test fold 153 (2022-10-28 00:00:00) with less than 5 open proposals (3). all ok since 1 folds ago\n"
     ]
    },
    {
     "name": "stderr",
     "output_type": "stream",
     "text": [
      "Warning, test fold 154 (2022-10-30 00:00:00) with less than 5 open proposals (1). all ok since 1 folds ago\n"
     ]
    },
    {
     "name": "stderr",
     "output_type": "stream",
     "text": [
      "Warning, test fold 155 (2022-11-01 00:00:00) with less than 5 open proposals (2). all ok since 1 folds ago\n"
     ]
    },
    {
     "name": "stderr",
     "output_type": "stream",
     "text": [
      "Warning, test fold 156 (2022-11-03 00:00:00) with less than 5 open proposals (2). all ok since 1 folds ago\n"
     ]
    },
    {
     "name": "stderr",
     "output_type": "stream",
     "text": [
      "Warning, test fold 157 (2022-11-05 00:00:00) with less than 5 open proposals (2). all ok since 1 folds ago\n"
     ]
    },
    {
     "name": "stderr",
     "output_type": "stream",
     "text": [
      "Warning, test fold 158 (2022-11-07 00:00:00) with less than 5 open proposals (2). all ok since 1 folds ago\n",
      "Warning, empty test fold 159 (2022-11-09 00:00:00), all ok since 8 folds ago\n"
     ]
    },
    {
     "name": "stderr",
     "output_type": "stream",
     "text": [
      "Warning, test fold 160 (2022-11-11 00:00:00) with less than 5 open proposals (1). all ok since 1 folds ago\n",
      "Warning, test fold 161 (2022-11-13 00:00:00) with less than 5 open proposals (2). all ok since 1 folds ago\n"
     ]
    },
    {
     "name": "stderr",
     "output_type": "stream",
     "text": [
      "Warning, empty test fold 162 (2022-11-15 00:00:00), all ok since 3 folds ago\n",
      "Warning, empty test fold 163 (2022-11-17 00:00:00), all ok since 1 folds ago\n"
     ]
    },
    {
     "name": "stderr",
     "output_type": "stream",
     "text": [
      "Warning, test fold 164 (2022-11-19 00:00:00) with less than 5 open proposals (1). all ok since 1 folds ago\n",
      "Warning, empty test fold 165 (2022-11-21 00:00:00), all ok since 2 folds ago\n"
     ]
    },
    {
     "name": "stderr",
     "output_type": "stream",
     "text": [
      "Warning, empty test fold 166 (2022-11-23 00:00:00), all ok since 1 folds ago\n",
      "Warning, test fold 167 (2022-11-25 00:00:00) with less than 5 open proposals (1). all ok since 1 folds ago\n"
     ]
    },
    {
     "name": "stderr",
     "output_type": "stream",
     "text": [
      "Warning, test fold 168 (2022-11-27 00:00:00) with less than 5 open proposals (1). all ok since 1 folds ago\n",
      "Warning, empty test fold 169 (2022-11-29 00:00:00), all ok since 3 folds ago\n"
     ]
    },
    {
     "name": "stderr",
     "output_type": "stream",
     "text": [
      "Warning, empty test fold 170 (2022-12-01 00:00:00), all ok since 1 folds ago\n"
     ]
    },
    {
     "name": "stderr",
     "output_type": "stream",
     "text": [
      "Warning, empty test fold 172 (2022-12-05 00:00:00), all ok since 2 folds ago\n",
      "Warning, empty test fold 173 (2022-12-07 00:00:00), all ok since 1 folds ago\n"
     ]
    },
    {
     "name": "stderr",
     "output_type": "stream",
     "text": [
      "Warning, test fold 174 (2022-12-09 00:00:00) with less than 5 open proposals (2). all ok since 1 folds ago\n"
     ]
    },
    {
     "name": "stderr",
     "output_type": "stream",
     "text": [
      "Warning, test fold 175 (2022-12-11 00:00:00) with less than 5 open proposals (1). all ok since 1 folds ago\n",
      "Warning, test fold 176 (2022-12-13 00:00:00) with less than 5 open proposals (1). all ok since 1 folds ago\n"
     ]
    },
    {
     "name": "stderr",
     "output_type": "stream",
     "text": [
      "Warning, empty test fold 177 (2022-12-15 00:00:00), all ok since 4 folds ago\n",
      "Warning, empty test fold 178 (2022-12-17 00:00:00), all ok since 1 folds ago\n"
     ]
    },
    {
     "name": "stderr",
     "output_type": "stream",
     "text": [
      "Warning, empty test fold 179 (2022-12-19 00:00:00), all ok since 1 folds ago\n",
      "Warning, test fold 180 (2022-12-21 00:00:00) with less than 5 open proposals (1). all ok since 1 folds ago\n"
     ]
    },
    {
     "name": "stderr",
     "output_type": "stream",
     "text": [
      "Warning, test fold 181 (2022-12-23 00:00:00) with less than 5 open proposals (2). all ok since 1 folds ago\n"
     ]
    },
    {
     "name": "stderr",
     "output_type": "stream",
     "text": [
      "Warning, test fold 182 (2022-12-25 00:00:00) with less than 5 open proposals (2). all ok since 1 folds ago\n"
     ]
    },
    {
     "name": "stderr",
     "output_type": "stream",
     "text": [
      "Warning, empty test fold 183 (2022-12-27 00:00:00), all ok since 4 folds ago\n",
      "Warning, empty test fold 184 (2022-12-29 00:00:00), all ok since 1 folds ago\n"
     ]
    },
    {
     "name": "stderr",
     "output_type": "stream",
     "text": [
      "Warning, empty test fold 185 (2022-12-31 00:00:00), all ok since 1 folds ago\n",
      "Warning, empty test fold 186 (2023-01-02 00:00:00), all ok since 1 folds ago\n"
     ]
    },
    {
     "name": "stderr",
     "output_type": "stream",
     "text": [
      "Warning, test fold 187 (2023-01-04 00:00:00) with less than 5 open proposals (1). all ok since 1 folds ago\n"
     ]
    },
    {
     "name": "stderr",
     "output_type": "stream",
     "text": [
      "Warning, test fold 189 (2023-01-08 00:00:00) with less than 5 open proposals (3). all ok since 2 folds ago\n"
     ]
    },
    {
     "name": "stderr",
     "output_type": "stream",
     "text": [
      "Warning, test fold 190 (2023-01-10 00:00:00) with less than 5 open proposals (2). all ok since 1 folds ago\n"
     ]
    },
    {
     "name": "stderr",
     "output_type": "stream",
     "text": [
      "Warning, empty test fold 193 (2023-01-16 00:00:00), all ok since 7 folds ago\n",
      "Warning, empty test fold 194 (2023-01-18 00:00:00), all ok since 1 folds ago\n"
     ]
    },
    {
     "name": "stderr",
     "output_type": "stream",
     "text": [
      "Warning, test fold 195 (2023-01-20 00:00:00) with less than 5 open proposals (3). all ok since 1 folds ago\n"
     ]
    },
    {
     "name": "stderr",
     "output_type": "stream",
     "text": [
      "Warning, test fold 196 (2023-01-22 00:00:00) with less than 5 open proposals (2). all ok since 1 folds ago\n"
     ]
    },
    {
     "name": "stderr",
     "output_type": "stream",
     "text": [
      "Warning, test fold 197 (2023-01-24 00:00:00) with less than 5 open proposals (3). all ok since 1 folds ago\n"
     ]
    },
    {
     "name": "stderr",
     "output_type": "stream",
     "text": [
      "Warning, empty test fold 198 (2023-01-26 00:00:00), all ok since 4 folds ago\n"
     ]
    },
    {
     "name": "stderr",
     "output_type": "stream",
     "text": [
      "Warning, empty test fold 200 (2023-01-30 00:00:00), all ok since 2 folds ago\n",
      "Warning, empty test fold 201 (2023-02-01 00:00:00), all ok since 1 folds ago\n"
     ]
    },
    {
     "name": "stderr",
     "output_type": "stream",
     "text": [
      "Warning, test fold 202 (2023-02-03 00:00:00) with less than 5 open proposals (1). all ok since 1 folds ago\n"
     ]
    },
    {
     "name": "stderr",
     "output_type": "stream",
     "text": [
      "Warning, test fold 203 (2023-02-05 00:00:00) with less than 5 open proposals (4). all ok since 1 folds ago\n"
     ]
    },
    {
     "name": "stderr",
     "output_type": "stream",
     "text": [
      "Warning, test fold 204 (2023-02-07 00:00:00) with less than 5 open proposals (4). all ok since 1 folds ago\n"
     ]
    },
    {
     "name": "stderr",
     "output_type": "stream",
     "text": [
      "Warning, empty test fold 205 (2023-02-09 00:00:00), all ok since 4 folds ago\n",
      "Warning, test fold 206 (2023-02-11 00:00:00) with less than 5 open proposals (1). all ok since 1 folds ago\n"
     ]
    },
    {
     "name": "stderr",
     "output_type": "stream",
     "text": [
      "Warning, empty test fold 207 (2023-02-13 00:00:00), all ok since 2 folds ago\n",
      "Warning, test fold 208 (2023-02-15 00:00:00) with less than 5 open proposals (2). all ok since 1 folds ago\n"
     ]
    },
    {
     "name": "stderr",
     "output_type": "stream",
     "text": [
      "Warning, test fold 209 (2023-02-17 00:00:00) with less than 5 open proposals (1). all ok since 1 folds ago\n"
     ]
    },
    {
     "name": "stderr",
     "output_type": "stream",
     "text": [
      "Warning, empty test fold 211 (2023-02-21 00:00:00), all ok since 4 folds ago\n"
     ]
    },
    {
     "name": "stderr",
     "output_type": "stream",
     "text": [
      "Warning, test fold 213 (2023-02-25 00:00:00) with less than 5 open proposals (1). all ok since 2 folds ago\n",
      "Warning, test fold 214 (2023-02-27 00:00:00) with less than 5 open proposals (1). all ok since 1 folds ago\n"
     ]
    },
    {
     "name": "stderr",
     "output_type": "stream",
     "text": [
      "Warning, test fold 217 (2023-03-05 00:00:00) with less than 5 open proposals (1). all ok since 3 folds ago\n"
     ]
    },
    {
     "name": "stderr",
     "output_type": "stream",
     "text": [
      "Warning, test fold 218 (2023-03-07 00:00:00) with less than 5 open proposals (2). all ok since 1 folds ago\n"
     ]
    },
    {
     "name": "stderr",
     "output_type": "stream",
     "text": [
      "Warning, empty test fold 220 (2023-03-11 00:00:00), all ok since 9 folds ago\n",
      "Warning, empty test fold 221 (2023-03-13 00:00:00), all ok since 1 folds ago\n"
     ]
    },
    {
     "name": "stderr",
     "output_type": "stream",
     "text": [
      "Warning, empty test fold 222 (2023-03-15 00:00:00), all ok since 1 folds ago\n",
      "Warning, test fold 223 (2023-03-17 00:00:00) with less than 5 open proposals (2). all ok since 1 folds ago\n"
     ]
    },
    {
     "name": "stderr",
     "output_type": "stream",
     "text": [
      "Warning, test fold 224 (2023-03-19 00:00:00) with less than 5 open proposals (2). all ok since 1 folds ago\n"
     ]
    },
    {
     "name": "stderr",
     "output_type": "stream",
     "text": [
      "Warning, test fold 225 (2023-03-21 00:00:00) with less than 5 open proposals (1). all ok since 1 folds ago\n",
      "Warning, empty test fold 226 (2023-03-23 00:00:00), all ok since 4 folds ago\n"
     ]
    },
    {
     "name": "stderr",
     "output_type": "stream",
     "text": [
      "Warning, test fold 227 (2023-03-25 00:00:00) with less than 5 open proposals (2). all ok since 1 folds ago\n",
      "Warning, empty test fold 228 (2023-03-27 00:00:00), all ok since 2 folds ago\n"
     ]
    },
    {
     "name": "stderr",
     "output_type": "stream",
     "text": [
      "Warning, empty test fold 229 (2023-03-29 00:00:00), all ok since 1 folds ago\n",
      "Warning, test fold 230 (2023-03-31 00:00:00) with less than 5 open proposals (4). all ok since 1 folds ago\n"
     ]
    },
    {
     "name": "stderr",
     "output_type": "stream",
     "text": [
      "Warning, empty test fold 233 (2023-04-06 00:00:00), all ok since 4 folds ago\n",
      "Warning, empty test fold 234 (2023-04-08 00:00:00), all ok since 1 folds ago\n"
     ]
    },
    {
     "name": "stderr",
     "output_type": "stream",
     "text": [
      "Warning, empty test fold 235 (2023-04-10 00:00:00), all ok since 1 folds ago\n",
      "Warning, test fold 236 (2023-04-12 00:00:00) with less than 5 open proposals (3). all ok since 1 folds ago\n"
     ]
    },
    {
     "name": "stderr",
     "output_type": "stream",
     "text": [
      "Warning, test fold 237 (2023-04-14 00:00:00) with less than 5 open proposals (3). all ok since 1 folds ago\n"
     ]
    },
    {
     "name": "stderr",
     "output_type": "stream",
     "text": [
      "Warning, test fold 238 (2023-04-16 00:00:00) with less than 5 open proposals (4). all ok since 1 folds ago\n"
     ]
    },
    {
     "name": "stderr",
     "output_type": "stream",
     "text": [
      "Warning, test fold 239 (2023-04-18 00:00:00) with less than 5 open proposals (3). all ok since 1 folds ago\n",
      "Warning, empty test fold 240 (2023-04-20 00:00:00), all ok since 5 folds ago\n"
     ]
    },
    {
     "name": "stderr",
     "output_type": "stream",
     "text": [
      "Warning, test fold 241 (2023-04-22 00:00:00) with less than 5 open proposals (4). all ok since 1 folds ago\n"
     ]
    },
    {
     "name": "stderr",
     "output_type": "stream",
     "text": [
      "Warning, empty test fold 243 (2023-04-26 00:00:00), all ok since 3 folds ago\n",
      "Warning, test fold 244 (2023-04-28 00:00:00) with less than 5 open proposals (2). all ok since 1 folds ago\n"
     ]
    },
    {
     "name": "stderr",
     "output_type": "stream",
     "text": [
      "Warning, empty test fold 246 (2023-05-02 00:00:00), all ok since 3 folds ago\n",
      "Warning, test fold 247 (2023-05-04 00:00:00) with less than 5 open proposals (1). all ok since 1 folds ago\n"
     ]
    },
    {
     "name": "stderr",
     "output_type": "stream",
     "text": [
      "Warning, empty test fold 248 (2023-05-06 00:00:00), all ok since 2 folds ago\n",
      "Warning, empty test fold 249 (2023-05-08 00:00:00), all ok since 1 folds ago\n"
     ]
    },
    {
     "name": "stderr",
     "output_type": "stream",
     "text": [
      "Warning, test fold 250 (2023-05-10 00:00:00) with less than 5 open proposals (1). all ok since 1 folds ago\n",
      "Warning, test fold 251 (2023-05-12 00:00:00) with less than 5 open proposals (2). all ok since 1 folds ago\n"
     ]
    },
    {
     "name": "stderr",
     "output_type": "stream",
     "text": [
      "Warning, test fold 252 (2023-05-14 00:00:00) with less than 5 open proposals (2). all ok since 1 folds ago\n"
     ]
    },
    {
     "name": "stderr",
     "output_type": "stream",
     "text": [
      "Warning, test fold 253 (2023-05-16 00:00:00) with less than 5 open proposals (1). all ok since 1 folds ago\n"
     ]
    },
    {
     "name": "stderr",
     "output_type": "stream",
     "text": [
      "Warning, empty test fold 256 (2023-05-22 00:00:00), all ok since 7 folds ago\n",
      "Warning, empty test fold 257 (2023-05-24 00:00:00), all ok since 1 folds ago\n"
     ]
    },
    {
     "name": "stderr",
     "output_type": "stream",
     "text": [
      "Warning, empty test fold 260 (2023-05-30 00:00:00), all ok since 3 folds ago\n"
     ]
    },
    {
     "name": "stderr",
     "output_type": "stream",
     "text": [
      "Warning, empty test fold 262 (2023-06-03 00:00:00), all ok since 2 folds ago\n",
      "Warning, empty test fold 263 (2023-06-05 00:00:00), all ok since 1 folds ago\n"
     ]
    },
    {
     "name": "stderr",
     "output_type": "stream",
     "text": [
      "Warning, empty test fold 264 (2023-06-07 00:00:00), all ok since 1 folds ago\n",
      "Warning, test fold 265 (2023-06-09 00:00:00) with less than 5 open proposals (1). all ok since 1 folds ago\n"
     ]
    },
    {
     "name": "stderr",
     "output_type": "stream",
     "text": [
      "Warning, test fold 266 (2023-06-11 00:00:00) with less than 5 open proposals (1). all ok since 1 folds ago\n"
     ]
    },
    {
     "name": "stderr",
     "output_type": "stream",
     "text": [
      "Warning, test fold 269 (2023-06-17 00:00:00) with less than 5 open proposals (2). all ok since 3 folds ago\n",
      "Warning, test fold 270 (2023-06-19 00:00:00) with less than 5 open proposals (4). all ok since 1 folds ago\n"
     ]
    },
    {
     "name": "stderr",
     "output_type": "stream",
     "text": [
      "Warning, empty test fold 275 (2023-06-29 00:00:00), all ok since 11 folds ago\n",
      "Warning, empty test fold 276 (2023-07-01 00:00:00), all ok since 1 folds ago\n"
     ]
    },
    {
     "name": "stderr",
     "output_type": "stream",
     "text": [
      "Warning, empty test fold 277 (2023-07-03 00:00:00), all ok since 1 folds ago\n",
      "Warning, test fold 278 (2023-07-05 00:00:00) with less than 5 open proposals (1). all ok since 1 folds ago\n"
     ]
    },
    {
     "name": "stderr",
     "output_type": "stream",
     "text": [
      "Warning, test fold 279 (2023-07-07 00:00:00) with less than 5 open proposals (3). all ok since 1 folds ago\n"
     ]
    },
    {
     "name": "stderr",
     "output_type": "stream",
     "text": [
      "Warning, test fold 280 (2023-07-09 00:00:00) with less than 5 open proposals (4). all ok since 1 folds ago\n"
     ]
    },
    {
     "name": "stderr",
     "output_type": "stream",
     "text": [
      "Warning, empty test fold 281 (2023-07-11 00:00:00), all ok since 4 folds ago\n",
      "Warning, empty test fold 282 (2023-07-13 00:00:00), all ok since 1 folds ago\n"
     ]
    },
    {
     "name": "stderr",
     "output_type": "stream",
     "text": [
      "Warning, empty test fold 283 (2023-07-15 00:00:00), all ok since 1 folds ago\n"
     ]
    },
    {
     "name": "stdout",
     "output_type": "stream",
     "text": [
      "Max ok in a row: (11, Timestamp('2023-06-29 00:00:00'))\n"
     ]
    }
   ],
   "source": [
    "WARNING_AT_LEAST_OPEN = 5\n",
    "\n",
    "folds = list(cvtt_open(df, SPLITS_FREQ, dfp, remove_not_in_train_col='userID', normalize=SPLITS_NORMALIZE))\n",
    "metrics = []\n",
    "perfectmetrics = []\n",
    "\n",
    "first_empty = True\n",
    "ok_in_a_row = best_in_a_row = 0\n",
    "max_ok_in_a_row = (-1, folds[-1].end)\n",
    "for i, (train, test, t, open_proposals) in enumerate(tqdm(folds)):   \n",
    "    if first_empty:\n",
    "        if not train.empty:\n",
    "            first_empty = False\n",
    "    else:\n",
    "        assert not train.empty, f\"Train should not be empty on fold {i}\"\n",
    "    if test.empty:\n",
    "        print(f\"Warning, empty test fold {i} ({t}), all ok since {ok_in_a_row} folds ago\", file=sys.stderr)\n",
    "        if ok_in_a_row > max_ok_in_a_row[0]:\n",
    "            max_ok_in_a_row = (ok_in_a_row, t)\n",
    "        ok_in_a_row = best_in_a_row = 0\n",
    "    elif len(open_proposals) < WARNING_AT_LEAST_OPEN:\n",
    "        print(f\"Warning, test fold {i} ({t}) with less than {WARNING_AT_LEAST_OPEN} open proposals ({len(open_proposals)}). all ok since {best_in_a_row} folds ago\", file=sys.stderr)\n",
    "        best_in_a_row = 0\n",
    "\n",
    "    mdict = {'fold': t}\n",
    "    pdict = {'fold': t}\n",
    "    model = OpenPop(train)\n",
    "    recs = model.recommend_k_items(test['userID'].unique(), max(K_RECOMMENDATIONS), recommend_from=open_proposals)\n",
    "    mdict |= calculate_all_metrics(test, recs, K_RECOMMENDATIONS)\n",
    "        # for m, f in metrics_f.items():\n",
    "        #     r = f(test, recs, k=k_recs)\n",
    "        #     metrics[m+f'@{k_recs}'].append(r)\n",
    "    \n",
    "    recs = test.copy()\n",
    "    recs['prediction'] = 1\n",
    "    pdict |= calculate_all_metrics(test, recs, K_RECOMMENDATIONS)\n",
    "\n",
    "        # for m, f in metrics_f.items():\n",
    "        #     # Need relevancy_method=None as they are unsorted\n",
    "        #     r = f(test, recs, k=k_recs)\n",
    "        #     perfectmetrics[m+f'@{k_recs}'].append(r)\n",
    "\n",
    "    metrics.append(mdict)\n",
    "    perfectmetrics.append(pdict)\n",
    "    ok_in_a_row += 1\n",
    "    best_in_a_row += 1\n",
    "\n",
    "paths.save_dao_datum(ORG_NAME, 'max_ok_folds', str(max_ok_in_a_row[0]))\n",
    "paths.save_dao_datum(ORG_NAME, 'max_ok_folds_date', str(max_ok_in_a_row[1]))\n",
    "if max_ok_in_a_row == -1:\n",
    "    print(\"All ok :>\")\n",
    "else:\n",
    "    print(\"Max ok in a row:\", max_ok_in_a_row)"
   ]
  },
  {
   "cell_type": "markdown",
   "id": "9cacaee0",
   "metadata": {
    "papermill": {
     "duration": 0.006562,
     "end_time": "2024-09-05T09:48:28.337990",
     "exception": false,
     "start_time": "2024-09-05T09:48:28.331428",
     "status": "completed"
    },
    "tags": []
   },
   "source": [
    "### Caching these results"
   ]
  },
  {
   "cell_type": "code",
   "execution_count": 10,
   "id": "9b071876",
   "metadata": {
    "execution": {
     "iopub.execute_input": "2024-09-05T09:48:28.350481Z",
     "iopub.status.busy": "2024-09-05T09:48:28.350351Z",
     "iopub.status.idle": "2024-09-05T09:48:28.376758Z",
     "shell.execute_reply": "2024-09-05T09:48:28.376472Z"
    },
    "papermill": {
     "duration": 0.033485,
     "end_time": "2024-09-05T09:48:28.377455",
     "exception": false,
     "start_time": "2024-09-05T09:48:28.343970",
     "status": "completed"
    },
    "tags": []
   },
   "outputs": [
    {
     "name": "stdout",
     "output_type": "stream",
     "text": [
      "Saved dataframe into /home/daviddavo/recsys4daos/data/output/Bent Finance/baseline/openpop_2d_normalize.parquet\n"
     ]
    },
    {
     "data": {
      "text/html": [
       "<div>\n",
       "<style scoped>\n",
       "    .dataframe tbody tr th:only-of-type {\n",
       "        vertical-align: middle;\n",
       "    }\n",
       "\n",
       "    .dataframe tbody tr th {\n",
       "        vertical-align: top;\n",
       "    }\n",
       "\n",
       "    .dataframe thead th {\n",
       "        text-align: right;\n",
       "    }\n",
       "</style>\n",
       "<table border=\"1\" class=\"dataframe\">\n",
       "  <thead>\n",
       "    <tr style=\"text-align: right;\">\n",
       "      <th></th>\n",
       "      <th>precision@1</th>\n",
       "      <th>precision@3</th>\n",
       "      <th>precision@5</th>\n",
       "      <th>precision@10</th>\n",
       "      <th>precision@15</th>\n",
       "      <th>precision@100</th>\n",
       "      <th>ndcg@1</th>\n",
       "      <th>ndcg@3</th>\n",
       "      <th>ndcg@5</th>\n",
       "      <th>ndcg@10</th>\n",
       "      <th>...</th>\n",
       "      <th>recall@10</th>\n",
       "      <th>recall@15</th>\n",
       "      <th>recall@100</th>\n",
       "      <th>r-precision@1</th>\n",
       "      <th>r-precision@3</th>\n",
       "      <th>r-precision@5</th>\n",
       "      <th>r-precision@10</th>\n",
       "      <th>r-precision@15</th>\n",
       "      <th>r-precision@100</th>\n",
       "      <th>time_eval</th>\n",
       "    </tr>\n",
       "  </thead>\n",
       "  <tbody>\n",
       "    <tr>\n",
       "      <th>count</th>\n",
       "      <td>285.000000</td>\n",
       "      <td>285.000000</td>\n",
       "      <td>285.000000</td>\n",
       "      <td>285.000000</td>\n",
       "      <td>285.000000</td>\n",
       "      <td>285.000000</td>\n",
       "      <td>285.000000</td>\n",
       "      <td>285.000000</td>\n",
       "      <td>285.000000</td>\n",
       "      <td>285.000000</td>\n",
       "      <td>...</td>\n",
       "      <td>285.000000</td>\n",
       "      <td>285.000000</td>\n",
       "      <td>285.000000</td>\n",
       "      <td>285.000000</td>\n",
       "      <td>281.000000</td>\n",
       "      <td>279.000000</td>\n",
       "      <td>279.000000</td>\n",
       "      <td>279.000000</td>\n",
       "      <td>279.000000</td>\n",
       "      <td>285.000000</td>\n",
       "    </tr>\n",
       "    <tr>\n",
       "      <th>mean</th>\n",
       "      <td>0.148830</td>\n",
       "      <td>0.058382</td>\n",
       "      <td>0.038538</td>\n",
       "      <td>0.019971</td>\n",
       "      <td>0.013314</td>\n",
       "      <td>0.001997</td>\n",
       "      <td>0.145906</td>\n",
       "      <td>0.149809</td>\n",
       "      <td>0.152148</td>\n",
       "      <td>0.151266</td>\n",
       "      <td>...</td>\n",
       "      <td>0.160732</td>\n",
       "      <td>0.160732</td>\n",
       "      <td>0.160732</td>\n",
       "      <td>0.137093</td>\n",
       "      <td>0.142360</td>\n",
       "      <td>0.144033</td>\n",
       "      <td>0.144684</td>\n",
       "      <td>0.144684</td>\n",
       "      <td>0.144684</td>\n",
       "      <td>0.080139</td>\n",
       "    </tr>\n",
       "    <tr>\n",
       "      <th>std</th>\n",
       "      <td>0.353275</td>\n",
       "      <td>0.135983</td>\n",
       "      <td>0.096725</td>\n",
       "      <td>0.056181</td>\n",
       "      <td>0.037454</td>\n",
       "      <td>0.005618</td>\n",
       "      <td>0.347952</td>\n",
       "      <td>0.343398</td>\n",
       "      <td>0.343627</td>\n",
       "      <td>0.341831</td>\n",
       "      <td>...</td>\n",
       "      <td>0.358866</td>\n",
       "      <td>0.358866</td>\n",
       "      <td>0.358866</td>\n",
       "      <td>0.334876</td>\n",
       "      <td>0.339451</td>\n",
       "      <td>0.340876</td>\n",
       "      <td>0.341645</td>\n",
       "      <td>0.341645</td>\n",
       "      <td>0.341645</td>\n",
       "      <td>0.022513</td>\n",
       "    </tr>\n",
       "    <tr>\n",
       "      <th>min</th>\n",
       "      <td>0.000000</td>\n",
       "      <td>0.000000</td>\n",
       "      <td>0.000000</td>\n",
       "      <td>0.000000</td>\n",
       "      <td>0.000000</td>\n",
       "      <td>0.000000</td>\n",
       "      <td>0.000000</td>\n",
       "      <td>0.000000</td>\n",
       "      <td>0.000000</td>\n",
       "      <td>0.000000</td>\n",
       "      <td>...</td>\n",
       "      <td>0.000000</td>\n",
       "      <td>0.000000</td>\n",
       "      <td>0.000000</td>\n",
       "      <td>0.000000</td>\n",
       "      <td>0.000000</td>\n",
       "      <td>0.000000</td>\n",
       "      <td>0.000000</td>\n",
       "      <td>0.000000</td>\n",
       "      <td>0.000000</td>\n",
       "      <td>0.067565</td>\n",
       "    </tr>\n",
       "    <tr>\n",
       "      <th>25%</th>\n",
       "      <td>0.000000</td>\n",
       "      <td>0.000000</td>\n",
       "      <td>0.000000</td>\n",
       "      <td>0.000000</td>\n",
       "      <td>0.000000</td>\n",
       "      <td>0.000000</td>\n",
       "      <td>0.000000</td>\n",
       "      <td>0.000000</td>\n",
       "      <td>0.000000</td>\n",
       "      <td>0.000000</td>\n",
       "      <td>...</td>\n",
       "      <td>0.000000</td>\n",
       "      <td>0.000000</td>\n",
       "      <td>0.000000</td>\n",
       "      <td>0.000000</td>\n",
       "      <td>0.000000</td>\n",
       "      <td>0.000000</td>\n",
       "      <td>0.000000</td>\n",
       "      <td>0.000000</td>\n",
       "      <td>0.000000</td>\n",
       "      <td>0.069039</td>\n",
       "    </tr>\n",
       "    <tr>\n",
       "      <th>50%</th>\n",
       "      <td>0.000000</td>\n",
       "      <td>0.000000</td>\n",
       "      <td>0.000000</td>\n",
       "      <td>0.000000</td>\n",
       "      <td>0.000000</td>\n",
       "      <td>0.000000</td>\n",
       "      <td>0.000000</td>\n",
       "      <td>0.000000</td>\n",
       "      <td>0.000000</td>\n",
       "      <td>0.000000</td>\n",
       "      <td>...</td>\n",
       "      <td>0.000000</td>\n",
       "      <td>0.000000</td>\n",
       "      <td>0.000000</td>\n",
       "      <td>0.000000</td>\n",
       "      <td>0.000000</td>\n",
       "      <td>0.000000</td>\n",
       "      <td>0.000000</td>\n",
       "      <td>0.000000</td>\n",
       "      <td>0.000000</td>\n",
       "      <td>0.070293</td>\n",
       "    </tr>\n",
       "    <tr>\n",
       "      <th>75%</th>\n",
       "      <td>0.000000</td>\n",
       "      <td>0.000000</td>\n",
       "      <td>0.000000</td>\n",
       "      <td>0.000000</td>\n",
       "      <td>0.000000</td>\n",
       "      <td>0.000000</td>\n",
       "      <td>0.000000</td>\n",
       "      <td>0.000000</td>\n",
       "      <td>0.000000</td>\n",
       "      <td>0.000000</td>\n",
       "      <td>...</td>\n",
       "      <td>0.000000</td>\n",
       "      <td>0.000000</td>\n",
       "      <td>0.000000</td>\n",
       "      <td>0.000000</td>\n",
       "      <td>0.000000</td>\n",
       "      <td>0.000000</td>\n",
       "      <td>0.000000</td>\n",
       "      <td>0.000000</td>\n",
       "      <td>0.000000</td>\n",
       "      <td>0.081034</td>\n",
       "    </tr>\n",
       "    <tr>\n",
       "      <th>max</th>\n",
       "      <td>1.000000</td>\n",
       "      <td>1.000000</td>\n",
       "      <td>1.000000</td>\n",
       "      <td>0.700000</td>\n",
       "      <td>0.466667</td>\n",
       "      <td>0.070000</td>\n",
       "      <td>1.000000</td>\n",
       "      <td>1.000000</td>\n",
       "      <td>1.000000</td>\n",
       "      <td>1.000000</td>\n",
       "      <td>...</td>\n",
       "      <td>1.000000</td>\n",
       "      <td>1.000000</td>\n",
       "      <td>1.000000</td>\n",
       "      <td>1.000000</td>\n",
       "      <td>1.000000</td>\n",
       "      <td>1.000000</td>\n",
       "      <td>1.000000</td>\n",
       "      <td>1.000000</td>\n",
       "      <td>1.000000</td>\n",
       "      <td>0.290544</td>\n",
       "    </tr>\n",
       "  </tbody>\n",
       "</table>\n",
       "<p>8 rows × 31 columns</p>\n",
       "</div>"
      ],
      "text/plain": [
       "       precision@1  precision@3  precision@5  precision@10  precision@15  \\\n",
       "count   285.000000   285.000000   285.000000    285.000000    285.000000   \n",
       "mean      0.148830     0.058382     0.038538      0.019971      0.013314   \n",
       "std       0.353275     0.135983     0.096725      0.056181      0.037454   \n",
       "min       0.000000     0.000000     0.000000      0.000000      0.000000   \n",
       "25%       0.000000     0.000000     0.000000      0.000000      0.000000   \n",
       "50%       0.000000     0.000000     0.000000      0.000000      0.000000   \n",
       "75%       0.000000     0.000000     0.000000      0.000000      0.000000   \n",
       "max       1.000000     1.000000     1.000000      0.700000      0.466667   \n",
       "\n",
       "       precision@100      ndcg@1      ndcg@3      ndcg@5     ndcg@10  ...  \\\n",
       "count     285.000000  285.000000  285.000000  285.000000  285.000000  ...   \n",
       "mean        0.001997    0.145906    0.149809    0.152148    0.151266  ...   \n",
       "std         0.005618    0.347952    0.343398    0.343627    0.341831  ...   \n",
       "min         0.000000    0.000000    0.000000    0.000000    0.000000  ...   \n",
       "25%         0.000000    0.000000    0.000000    0.000000    0.000000  ...   \n",
       "50%         0.000000    0.000000    0.000000    0.000000    0.000000  ...   \n",
       "75%         0.000000    0.000000    0.000000    0.000000    0.000000  ...   \n",
       "max         0.070000    1.000000    1.000000    1.000000    1.000000  ...   \n",
       "\n",
       "        recall@10   recall@15  recall@100  r-precision@1  r-precision@3  \\\n",
       "count  285.000000  285.000000  285.000000     285.000000     281.000000   \n",
       "mean     0.160732    0.160732    0.160732       0.137093       0.142360   \n",
       "std      0.358866    0.358866    0.358866       0.334876       0.339451   \n",
       "min      0.000000    0.000000    0.000000       0.000000       0.000000   \n",
       "25%      0.000000    0.000000    0.000000       0.000000       0.000000   \n",
       "50%      0.000000    0.000000    0.000000       0.000000       0.000000   \n",
       "75%      0.000000    0.000000    0.000000       0.000000       0.000000   \n",
       "max      1.000000    1.000000    1.000000       1.000000       1.000000   \n",
       "\n",
       "       r-precision@5  r-precision@10  r-precision@15  r-precision@100  \\\n",
       "count     279.000000      279.000000      279.000000       279.000000   \n",
       "mean        0.144033        0.144684        0.144684         0.144684   \n",
       "std         0.340876        0.341645        0.341645         0.341645   \n",
       "min         0.000000        0.000000        0.000000         0.000000   \n",
       "25%         0.000000        0.000000        0.000000         0.000000   \n",
       "50%         0.000000        0.000000        0.000000         0.000000   \n",
       "75%         0.000000        0.000000        0.000000         0.000000   \n",
       "max         1.000000        1.000000        1.000000         1.000000   \n",
       "\n",
       "        time_eval  \n",
       "count  285.000000  \n",
       "mean     0.080139  \n",
       "std      0.022513  \n",
       "min      0.067565  \n",
       "25%      0.069039  \n",
       "50%      0.070293  \n",
       "75%      0.081034  \n",
       "max      0.290544  \n",
       "\n",
       "[8 rows x 31 columns]"
      ]
     },
     "execution_count": 10,
     "metadata": {},
     "output_type": "execute_result"
    }
   ],
   "source": [
    "odf = pd.DataFrame(metrics).set_index(\"fold\")\n",
    "paths.save_openpop(odf, ORG_NAME, SPLITS_FREQ, SPLITS_NORMALIZE)\n",
    "odf.describe()"
   ]
  },
  {
   "cell_type": "code",
   "execution_count": 11,
   "id": "aeb69ea3",
   "metadata": {
    "execution": {
     "iopub.execute_input": "2024-09-05T09:48:28.390900Z",
     "iopub.status.busy": "2024-09-05T09:48:28.390622Z",
     "iopub.status.idle": "2024-09-05T09:48:28.416690Z",
     "shell.execute_reply": "2024-09-05T09:48:28.416499Z"
    },
    "papermill": {
     "duration": 0.033627,
     "end_time": "2024-09-05T09:48:28.417422",
     "exception": false,
     "start_time": "2024-09-05T09:48:28.383795",
     "status": "completed"
    },
    "tags": []
   },
   "outputs": [
    {
     "name": "stdout",
     "output_type": "stream",
     "text": [
      "Saved dataframe into /home/daviddavo/recsys4daos/data/output/Bent Finance/baseline/perfect_2d_normalize.parquet\n"
     ]
    },
    {
     "data": {
      "text/html": [
       "<div>\n",
       "<style scoped>\n",
       "    .dataframe tbody tr th:only-of-type {\n",
       "        vertical-align: middle;\n",
       "    }\n",
       "\n",
       "    .dataframe tbody tr th {\n",
       "        vertical-align: top;\n",
       "    }\n",
       "\n",
       "    .dataframe thead th {\n",
       "        text-align: right;\n",
       "    }\n",
       "</style>\n",
       "<table border=\"1\" class=\"dataframe\">\n",
       "  <thead>\n",
       "    <tr style=\"text-align: right;\">\n",
       "      <th></th>\n",
       "      <th>precision@1</th>\n",
       "      <th>precision@3</th>\n",
       "      <th>precision@5</th>\n",
       "      <th>precision@10</th>\n",
       "      <th>precision@15</th>\n",
       "      <th>precision@100</th>\n",
       "      <th>ndcg@1</th>\n",
       "      <th>ndcg@3</th>\n",
       "      <th>ndcg@5</th>\n",
       "      <th>ndcg@10</th>\n",
       "      <th>...</th>\n",
       "      <th>recall@10</th>\n",
       "      <th>recall@15</th>\n",
       "      <th>recall@100</th>\n",
       "      <th>r-precision@1</th>\n",
       "      <th>r-precision@3</th>\n",
       "      <th>r-precision@5</th>\n",
       "      <th>r-precision@10</th>\n",
       "      <th>r-precision@15</th>\n",
       "      <th>r-precision@100</th>\n",
       "      <th>time_eval</th>\n",
       "    </tr>\n",
       "  </thead>\n",
       "  <tbody>\n",
       "    <tr>\n",
       "      <th>count</th>\n",
       "      <td>285.000000</td>\n",
       "      <td>285.000000</td>\n",
       "      <td>285.000000</td>\n",
       "      <td>285.000000</td>\n",
       "      <td>285.000000</td>\n",
       "      <td>285.000000</td>\n",
       "      <td>285.000000</td>\n",
       "      <td>285.000000</td>\n",
       "      <td>285.000000</td>\n",
       "      <td>285.000000</td>\n",
       "      <td>...</td>\n",
       "      <td>285.000000</td>\n",
       "      <td>285.000000</td>\n",
       "      <td>285.000000</td>\n",
       "      <td>285.000000</td>\n",
       "      <td>285.000000</td>\n",
       "      <td>285.000000</td>\n",
       "      <td>285.000000</td>\n",
       "      <td>285.000000</td>\n",
       "      <td>285.000000</td>\n",
       "      <td>285.000000</td>\n",
       "    </tr>\n",
       "    <tr>\n",
       "      <th>mean</th>\n",
       "      <td>0.452632</td>\n",
       "      <td>0.198830</td>\n",
       "      <td>0.128655</td>\n",
       "      <td>0.068538</td>\n",
       "      <td>0.045926</td>\n",
       "      <td>0.006889</td>\n",
       "      <td>0.452632</td>\n",
       "      <td>0.452632</td>\n",
       "      <td>0.452632</td>\n",
       "      <td>0.452632</td>\n",
       "      <td>...</td>\n",
       "      <td>0.452313</td>\n",
       "      <td>0.452632</td>\n",
       "      <td>0.452632</td>\n",
       "      <td>0.391586</td>\n",
       "      <td>0.439963</td>\n",
       "      <td>0.447794</td>\n",
       "      <td>0.452313</td>\n",
       "      <td>0.452632</td>\n",
       "      <td>0.452632</td>\n",
       "      <td>0.096050</td>\n",
       "    </tr>\n",
       "    <tr>\n",
       "      <th>std</th>\n",
       "      <td>0.498627</td>\n",
       "      <td>0.256066</td>\n",
       "      <td>0.185005</td>\n",
       "      <td>0.116442</td>\n",
       "      <td>0.079582</td>\n",
       "      <td>0.011937</td>\n",
       "      <td>0.498627</td>\n",
       "      <td>0.498627</td>\n",
       "      <td>0.498627</td>\n",
       "      <td>0.498627</td>\n",
       "      <td>...</td>\n",
       "      <td>0.498304</td>\n",
       "      <td>0.498627</td>\n",
       "      <td>0.498627</td>\n",
       "      <td>0.461384</td>\n",
       "      <td>0.490355</td>\n",
       "      <td>0.495283</td>\n",
       "      <td>0.498304</td>\n",
       "      <td>0.498627</td>\n",
       "      <td>0.498627</td>\n",
       "      <td>0.025544</td>\n",
       "    </tr>\n",
       "    <tr>\n",
       "      <th>min</th>\n",
       "      <td>0.000000</td>\n",
       "      <td>0.000000</td>\n",
       "      <td>0.000000</td>\n",
       "      <td>0.000000</td>\n",
       "      <td>0.000000</td>\n",
       "      <td>0.000000</td>\n",
       "      <td>0.000000</td>\n",
       "      <td>0.000000</td>\n",
       "      <td>0.000000</td>\n",
       "      <td>0.000000</td>\n",
       "      <td>...</td>\n",
       "      <td>0.000000</td>\n",
       "      <td>0.000000</td>\n",
       "      <td>0.000000</td>\n",
       "      <td>0.000000</td>\n",
       "      <td>0.000000</td>\n",
       "      <td>0.000000</td>\n",
       "      <td>0.000000</td>\n",
       "      <td>0.000000</td>\n",
       "      <td>0.000000</td>\n",
       "      <td>0.071065</td>\n",
       "    </tr>\n",
       "    <tr>\n",
       "      <th>25%</th>\n",
       "      <td>0.000000</td>\n",
       "      <td>0.000000</td>\n",
       "      <td>0.000000</td>\n",
       "      <td>0.000000</td>\n",
       "      <td>0.000000</td>\n",
       "      <td>0.000000</td>\n",
       "      <td>0.000000</td>\n",
       "      <td>0.000000</td>\n",
       "      <td>0.000000</td>\n",
       "      <td>0.000000</td>\n",
       "      <td>...</td>\n",
       "      <td>0.000000</td>\n",
       "      <td>0.000000</td>\n",
       "      <td>0.000000</td>\n",
       "      <td>0.000000</td>\n",
       "      <td>0.000000</td>\n",
       "      <td>0.000000</td>\n",
       "      <td>0.000000</td>\n",
       "      <td>0.000000</td>\n",
       "      <td>0.000000</td>\n",
       "      <td>0.072671</td>\n",
       "    </tr>\n",
       "    <tr>\n",
       "      <th>50%</th>\n",
       "      <td>0.000000</td>\n",
       "      <td>0.000000</td>\n",
       "      <td>0.000000</td>\n",
       "      <td>0.000000</td>\n",
       "      <td>0.000000</td>\n",
       "      <td>0.000000</td>\n",
       "      <td>0.000000</td>\n",
       "      <td>0.000000</td>\n",
       "      <td>0.000000</td>\n",
       "      <td>0.000000</td>\n",
       "      <td>...</td>\n",
       "      <td>0.000000</td>\n",
       "      <td>0.000000</td>\n",
       "      <td>0.000000</td>\n",
       "      <td>0.000000</td>\n",
       "      <td>0.000000</td>\n",
       "      <td>0.000000</td>\n",
       "      <td>0.000000</td>\n",
       "      <td>0.000000</td>\n",
       "      <td>0.000000</td>\n",
       "      <td>0.074302</td>\n",
       "    </tr>\n",
       "    <tr>\n",
       "      <th>75%</th>\n",
       "      <td>1.000000</td>\n",
       "      <td>0.333333</td>\n",
       "      <td>0.200000</td>\n",
       "      <td>0.100000</td>\n",
       "      <td>0.066667</td>\n",
       "      <td>0.010000</td>\n",
       "      <td>1.000000</td>\n",
       "      <td>1.000000</td>\n",
       "      <td>1.000000</td>\n",
       "      <td>1.000000</td>\n",
       "      <td>...</td>\n",
       "      <td>1.000000</td>\n",
       "      <td>1.000000</td>\n",
       "      <td>1.000000</td>\n",
       "      <td>1.000000</td>\n",
       "      <td>1.000000</td>\n",
       "      <td>1.000000</td>\n",
       "      <td>1.000000</td>\n",
       "      <td>1.000000</td>\n",
       "      <td>1.000000</td>\n",
       "      <td>0.123256</td>\n",
       "    </tr>\n",
       "    <tr>\n",
       "      <th>max</th>\n",
       "      <td>1.000000</td>\n",
       "      <td>1.000000</td>\n",
       "      <td>1.000000</td>\n",
       "      <td>1.000000</td>\n",
       "      <td>0.733333</td>\n",
       "      <td>0.110000</td>\n",
       "      <td>1.000000</td>\n",
       "      <td>1.000000</td>\n",
       "      <td>1.000000</td>\n",
       "      <td>1.000000</td>\n",
       "      <td>...</td>\n",
       "      <td>1.000000</td>\n",
       "      <td>1.000000</td>\n",
       "      <td>1.000000</td>\n",
       "      <td>1.000000</td>\n",
       "      <td>1.000000</td>\n",
       "      <td>1.000000</td>\n",
       "      <td>1.000000</td>\n",
       "      <td>1.000000</td>\n",
       "      <td>1.000000</td>\n",
       "      <td>0.132283</td>\n",
       "    </tr>\n",
       "  </tbody>\n",
       "</table>\n",
       "<p>8 rows × 31 columns</p>\n",
       "</div>"
      ],
      "text/plain": [
       "       precision@1  precision@3  precision@5  precision@10  precision@15  \\\n",
       "count   285.000000   285.000000   285.000000    285.000000    285.000000   \n",
       "mean      0.452632     0.198830     0.128655      0.068538      0.045926   \n",
       "std       0.498627     0.256066     0.185005      0.116442      0.079582   \n",
       "min       0.000000     0.000000     0.000000      0.000000      0.000000   \n",
       "25%       0.000000     0.000000     0.000000      0.000000      0.000000   \n",
       "50%       0.000000     0.000000     0.000000      0.000000      0.000000   \n",
       "75%       1.000000     0.333333     0.200000      0.100000      0.066667   \n",
       "max       1.000000     1.000000     1.000000      1.000000      0.733333   \n",
       "\n",
       "       precision@100      ndcg@1      ndcg@3      ndcg@5     ndcg@10  ...  \\\n",
       "count     285.000000  285.000000  285.000000  285.000000  285.000000  ...   \n",
       "mean        0.006889    0.452632    0.452632    0.452632    0.452632  ...   \n",
       "std         0.011937    0.498627    0.498627    0.498627    0.498627  ...   \n",
       "min         0.000000    0.000000    0.000000    0.000000    0.000000  ...   \n",
       "25%         0.000000    0.000000    0.000000    0.000000    0.000000  ...   \n",
       "50%         0.000000    0.000000    0.000000    0.000000    0.000000  ...   \n",
       "75%         0.010000    1.000000    1.000000    1.000000    1.000000  ...   \n",
       "max         0.110000    1.000000    1.000000    1.000000    1.000000  ...   \n",
       "\n",
       "        recall@10   recall@15  recall@100  r-precision@1  r-precision@3  \\\n",
       "count  285.000000  285.000000  285.000000     285.000000     285.000000   \n",
       "mean     0.452313    0.452632    0.452632       0.391586       0.439963   \n",
       "std      0.498304    0.498627    0.498627       0.461384       0.490355   \n",
       "min      0.000000    0.000000    0.000000       0.000000       0.000000   \n",
       "25%      0.000000    0.000000    0.000000       0.000000       0.000000   \n",
       "50%      0.000000    0.000000    0.000000       0.000000       0.000000   \n",
       "75%      1.000000    1.000000    1.000000       1.000000       1.000000   \n",
       "max      1.000000    1.000000    1.000000       1.000000       1.000000   \n",
       "\n",
       "       r-precision@5  r-precision@10  r-precision@15  r-precision@100  \\\n",
       "count     285.000000      285.000000      285.000000       285.000000   \n",
       "mean        0.447794        0.452313        0.452632         0.452632   \n",
       "std         0.495283        0.498304        0.498627         0.498627   \n",
       "min         0.000000        0.000000        0.000000         0.000000   \n",
       "25%         0.000000        0.000000        0.000000         0.000000   \n",
       "50%         0.000000        0.000000        0.000000         0.000000   \n",
       "75%         1.000000        1.000000        1.000000         1.000000   \n",
       "max         1.000000        1.000000        1.000000         1.000000   \n",
       "\n",
       "        time_eval  \n",
       "count  285.000000  \n",
       "mean     0.096050  \n",
       "std      0.025544  \n",
       "min      0.071065  \n",
       "25%      0.072671  \n",
       "50%      0.074302  \n",
       "75%      0.123256  \n",
       "max      0.132283  \n",
       "\n",
       "[8 rows x 31 columns]"
      ]
     },
     "metadata": {},
     "output_type": "display_data"
    }
   ],
   "source": [
    "pdf = pd.DataFrame(perfectmetrics).set_index(\"fold\")\n",
    "cols = [ c for c in pdf.columns if not c.startswith('time_') ]\n",
    "paths.save_perfect(pdf, ORG_NAME, SPLITS_FREQ, SPLITS_NORMALIZE)\n",
    "display(pdf.describe())\n",
    "msk = (0 <= pdf[cols].min()) & (pdf[cols].max() <= 1)\n",
    "if not all(msk):\n",
    "    display(pdf.describe()[msk[~msk].index])\n",
    "assert all( msk ), \"There are metrics with wrong range\""
   ]
  },
  {
   "cell_type": "markdown",
   "id": "09f70ae9",
   "metadata": {
    "papermill": {
     "duration": 0.006584,
     "end_time": "2024-09-05T09:48:28.430558",
     "exception": false,
     "start_time": "2024-09-05T09:48:28.423974",
     "status": "completed"
    },
    "tags": []
   },
   "source": [
    "## Plotting some graphs"
   ]
  },
  {
   "cell_type": "code",
   "execution_count": 12,
   "id": "5d99fd9a",
   "metadata": {
    "execution": {
     "iopub.execute_input": "2024-09-05T09:48:28.444726Z",
     "iopub.status.busy": "2024-09-05T09:48:28.444398Z",
     "iopub.status.idle": "2024-09-05T09:48:28.570275Z",
     "shell.execute_reply": "2024-09-05T09:48:28.570079Z"
    },
    "papermill": {
     "duration": 0.133687,
     "end_time": "2024-09-05T09:48:28.570855",
     "exception": false,
     "start_time": "2024-09-05T09:48:28.437168",
     "status": "completed"
    },
    "tags": []
   },
   "outputs": [
    {
     "data": {
      "text/html": [
       "<div>\n",
       "<style scoped>\n",
       "    .dataframe tbody tr th:only-of-type {\n",
       "        vertical-align: middle;\n",
       "    }\n",
       "\n",
       "    .dataframe tbody tr th {\n",
       "        vertical-align: top;\n",
       "    }\n",
       "\n",
       "    .dataframe thead th {\n",
       "        text-align: right;\n",
       "    }\n",
       "</style>\n",
       "<table border=\"1\" class=\"dataframe\">\n",
       "  <thead>\n",
       "    <tr style=\"text-align: right;\">\n",
       "      <th></th>\n",
       "      <th>fold</th>\n",
       "      <th>precision@1</th>\n",
       "      <th>precision@3</th>\n",
       "      <th>precision@5</th>\n",
       "      <th>precision@10</th>\n",
       "      <th>precision@15</th>\n",
       "      <th>precision@100</th>\n",
       "      <th>ndcg@1</th>\n",
       "      <th>ndcg@3</th>\n",
       "      <th>ndcg@5</th>\n",
       "      <th>...</th>\n",
       "      <th>recall@100</th>\n",
       "      <th>r-precision@1</th>\n",
       "      <th>r-precision@3</th>\n",
       "      <th>r-precision@5</th>\n",
       "      <th>r-precision@10</th>\n",
       "      <th>r-precision@15</th>\n",
       "      <th>r-precision@100</th>\n",
       "      <th>time_eval</th>\n",
       "      <th>perfect precision@5</th>\n",
       "      <th>perfect precision@10</th>\n",
       "    </tr>\n",
       "  </thead>\n",
       "  <tbody>\n",
       "    <tr>\n",
       "      <th>count</th>\n",
       "      <td>285</td>\n",
       "      <td>285.000000</td>\n",
       "      <td>285.000000</td>\n",
       "      <td>285.000000</td>\n",
       "      <td>285.000000</td>\n",
       "      <td>285.000000</td>\n",
       "      <td>285.000000</td>\n",
       "      <td>285.000000</td>\n",
       "      <td>285.000000</td>\n",
       "      <td>285.000000</td>\n",
       "      <td>...</td>\n",
       "      <td>285.000000</td>\n",
       "      <td>285.000000</td>\n",
       "      <td>281.000000</td>\n",
       "      <td>279.000000</td>\n",
       "      <td>279.000000</td>\n",
       "      <td>279.000000</td>\n",
       "      <td>279.000000</td>\n",
       "      <td>285.000000</td>\n",
       "      <td>0.0</td>\n",
       "      <td>0.0</td>\n",
       "    </tr>\n",
       "    <tr>\n",
       "      <th>mean</th>\n",
       "      <td>2022-10-06 00:00:00</td>\n",
       "      <td>0.148830</td>\n",
       "      <td>0.058382</td>\n",
       "      <td>0.038538</td>\n",
       "      <td>0.019971</td>\n",
       "      <td>0.013314</td>\n",
       "      <td>0.001997</td>\n",
       "      <td>0.145906</td>\n",
       "      <td>0.149809</td>\n",
       "      <td>0.152148</td>\n",
       "      <td>...</td>\n",
       "      <td>0.160732</td>\n",
       "      <td>0.137093</td>\n",
       "      <td>0.142360</td>\n",
       "      <td>0.144033</td>\n",
       "      <td>0.144684</td>\n",
       "      <td>0.144684</td>\n",
       "      <td>0.144684</td>\n",
       "      <td>0.080139</td>\n",
       "      <td>NaN</td>\n",
       "      <td>NaN</td>\n",
       "    </tr>\n",
       "    <tr>\n",
       "      <th>min</th>\n",
       "      <td>2021-12-26 00:00:00</td>\n",
       "      <td>0.000000</td>\n",
       "      <td>0.000000</td>\n",
       "      <td>0.000000</td>\n",
       "      <td>0.000000</td>\n",
       "      <td>0.000000</td>\n",
       "      <td>0.000000</td>\n",
       "      <td>0.000000</td>\n",
       "      <td>0.000000</td>\n",
       "      <td>0.000000</td>\n",
       "      <td>...</td>\n",
       "      <td>0.000000</td>\n",
       "      <td>0.000000</td>\n",
       "      <td>0.000000</td>\n",
       "      <td>0.000000</td>\n",
       "      <td>0.000000</td>\n",
       "      <td>0.000000</td>\n",
       "      <td>0.000000</td>\n",
       "      <td>0.067565</td>\n",
       "      <td>NaN</td>\n",
       "      <td>NaN</td>\n",
       "    </tr>\n",
       "    <tr>\n",
       "      <th>25%</th>\n",
       "      <td>2022-05-17 00:00:00</td>\n",
       "      <td>0.000000</td>\n",
       "      <td>0.000000</td>\n",
       "      <td>0.000000</td>\n",
       "      <td>0.000000</td>\n",
       "      <td>0.000000</td>\n",
       "      <td>0.000000</td>\n",
       "      <td>0.000000</td>\n",
       "      <td>0.000000</td>\n",
       "      <td>0.000000</td>\n",
       "      <td>...</td>\n",
       "      <td>0.000000</td>\n",
       "      <td>0.000000</td>\n",
       "      <td>0.000000</td>\n",
       "      <td>0.000000</td>\n",
       "      <td>0.000000</td>\n",
       "      <td>0.000000</td>\n",
       "      <td>0.000000</td>\n",
       "      <td>0.069039</td>\n",
       "      <td>NaN</td>\n",
       "      <td>NaN</td>\n",
       "    </tr>\n",
       "    <tr>\n",
       "      <th>50%</th>\n",
       "      <td>2022-10-06 00:00:00</td>\n",
       "      <td>0.000000</td>\n",
       "      <td>0.000000</td>\n",
       "      <td>0.000000</td>\n",
       "      <td>0.000000</td>\n",
       "      <td>0.000000</td>\n",
       "      <td>0.000000</td>\n",
       "      <td>0.000000</td>\n",
       "      <td>0.000000</td>\n",
       "      <td>0.000000</td>\n",
       "      <td>...</td>\n",
       "      <td>0.000000</td>\n",
       "      <td>0.000000</td>\n",
       "      <td>0.000000</td>\n",
       "      <td>0.000000</td>\n",
       "      <td>0.000000</td>\n",
       "      <td>0.000000</td>\n",
       "      <td>0.000000</td>\n",
       "      <td>0.070293</td>\n",
       "      <td>NaN</td>\n",
       "      <td>NaN</td>\n",
       "    </tr>\n",
       "    <tr>\n",
       "      <th>75%</th>\n",
       "      <td>2023-02-25 00:00:00</td>\n",
       "      <td>0.000000</td>\n",
       "      <td>0.000000</td>\n",
       "      <td>0.000000</td>\n",
       "      <td>0.000000</td>\n",
       "      <td>0.000000</td>\n",
       "      <td>0.000000</td>\n",
       "      <td>0.000000</td>\n",
       "      <td>0.000000</td>\n",
       "      <td>0.000000</td>\n",
       "      <td>...</td>\n",
       "      <td>0.000000</td>\n",
       "      <td>0.000000</td>\n",
       "      <td>0.000000</td>\n",
       "      <td>0.000000</td>\n",
       "      <td>0.000000</td>\n",
       "      <td>0.000000</td>\n",
       "      <td>0.000000</td>\n",
       "      <td>0.081034</td>\n",
       "      <td>NaN</td>\n",
       "      <td>NaN</td>\n",
       "    </tr>\n",
       "    <tr>\n",
       "      <th>max</th>\n",
       "      <td>2023-07-17 00:00:00</td>\n",
       "      <td>1.000000</td>\n",
       "      <td>1.000000</td>\n",
       "      <td>1.000000</td>\n",
       "      <td>0.700000</td>\n",
       "      <td>0.466667</td>\n",
       "      <td>0.070000</td>\n",
       "      <td>1.000000</td>\n",
       "      <td>1.000000</td>\n",
       "      <td>1.000000</td>\n",
       "      <td>...</td>\n",
       "      <td>1.000000</td>\n",
       "      <td>1.000000</td>\n",
       "      <td>1.000000</td>\n",
       "      <td>1.000000</td>\n",
       "      <td>1.000000</td>\n",
       "      <td>1.000000</td>\n",
       "      <td>1.000000</td>\n",
       "      <td>0.290544</td>\n",
       "      <td>NaN</td>\n",
       "      <td>NaN</td>\n",
       "    </tr>\n",
       "    <tr>\n",
       "      <th>std</th>\n",
       "      <td>NaN</td>\n",
       "      <td>0.353275</td>\n",
       "      <td>0.135983</td>\n",
       "      <td>0.096725</td>\n",
       "      <td>0.056181</td>\n",
       "      <td>0.037454</td>\n",
       "      <td>0.005618</td>\n",
       "      <td>0.347952</td>\n",
       "      <td>0.343398</td>\n",
       "      <td>0.343627</td>\n",
       "      <td>...</td>\n",
       "      <td>0.358866</td>\n",
       "      <td>0.334876</td>\n",
       "      <td>0.339451</td>\n",
       "      <td>0.340876</td>\n",
       "      <td>0.341645</td>\n",
       "      <td>0.341645</td>\n",
       "      <td>0.341645</td>\n",
       "      <td>0.022513</td>\n",
       "      <td>NaN</td>\n",
       "      <td>NaN</td>\n",
       "    </tr>\n",
       "  </tbody>\n",
       "</table>\n",
       "<p>8 rows × 34 columns</p>\n",
       "</div>"
      ],
      "text/plain": [
       "                      fold  precision@1  precision@3  precision@5  \\\n",
       "count                  285   285.000000   285.000000   285.000000   \n",
       "mean   2022-10-06 00:00:00     0.148830     0.058382     0.038538   \n",
       "min    2021-12-26 00:00:00     0.000000     0.000000     0.000000   \n",
       "25%    2022-05-17 00:00:00     0.000000     0.000000     0.000000   \n",
       "50%    2022-10-06 00:00:00     0.000000     0.000000     0.000000   \n",
       "75%    2023-02-25 00:00:00     0.000000     0.000000     0.000000   \n",
       "max    2023-07-17 00:00:00     1.000000     1.000000     1.000000   \n",
       "std                    NaN     0.353275     0.135983     0.096725   \n",
       "\n",
       "       precision@10  precision@15  precision@100      ndcg@1      ndcg@3  \\\n",
       "count    285.000000    285.000000     285.000000  285.000000  285.000000   \n",
       "mean       0.019971      0.013314       0.001997    0.145906    0.149809   \n",
       "min        0.000000      0.000000       0.000000    0.000000    0.000000   \n",
       "25%        0.000000      0.000000       0.000000    0.000000    0.000000   \n",
       "50%        0.000000      0.000000       0.000000    0.000000    0.000000   \n",
       "75%        0.000000      0.000000       0.000000    0.000000    0.000000   \n",
       "max        0.700000      0.466667       0.070000    1.000000    1.000000   \n",
       "std        0.056181      0.037454       0.005618    0.347952    0.343398   \n",
       "\n",
       "           ndcg@5  ...  recall@100  r-precision@1  r-precision@3  \\\n",
       "count  285.000000  ...  285.000000     285.000000     281.000000   \n",
       "mean     0.152148  ...    0.160732       0.137093       0.142360   \n",
       "min      0.000000  ...    0.000000       0.000000       0.000000   \n",
       "25%      0.000000  ...    0.000000       0.000000       0.000000   \n",
       "50%      0.000000  ...    0.000000       0.000000       0.000000   \n",
       "75%      0.000000  ...    0.000000       0.000000       0.000000   \n",
       "max      1.000000  ...    1.000000       1.000000       1.000000   \n",
       "std      0.343627  ...    0.358866       0.334876       0.339451   \n",
       "\n",
       "       r-precision@5  r-precision@10  r-precision@15  r-precision@100  \\\n",
       "count     279.000000      279.000000      279.000000       279.000000   \n",
       "mean        0.144033        0.144684        0.144684         0.144684   \n",
       "min         0.000000        0.000000        0.000000         0.000000   \n",
       "25%         0.000000        0.000000        0.000000         0.000000   \n",
       "50%         0.000000        0.000000        0.000000         0.000000   \n",
       "75%         0.000000        0.000000        0.000000         0.000000   \n",
       "max         1.000000        1.000000        1.000000         1.000000   \n",
       "std         0.340876        0.341645        0.341645         0.341645   \n",
       "\n",
       "        time_eval  perfect precision@5  perfect precision@10  \n",
       "count  285.000000                  0.0                   0.0  \n",
       "mean     0.080139                  NaN                   NaN  \n",
       "min      0.067565                  NaN                   NaN  \n",
       "25%      0.069039                  NaN                   NaN  \n",
       "50%      0.070293                  NaN                   NaN  \n",
       "75%      0.081034                  NaN                   NaN  \n",
       "max      0.290544                  NaN                   NaN  \n",
       "std      0.022513                  NaN                   NaN  \n",
       "\n",
       "[8 rows x 34 columns]"
      ]
     },
     "execution_count": 12,
     "metadata": {},
     "output_type": "execute_result"
    },
    {
     "data": {
      "image/png": "[encoded data removed]",
      "text/plain": [
       "<Figure size 640x480 with 1 Axes>"
      ]
     },
     "metadata": {},
     "output_type": "display_data"
    }
   ],
   "source": [
    "mdf = pd.DataFrame(metrics)\n",
    "mdf['perfect precision@5'] = pdf['precision@5']\n",
    "mdf['perfect precision@10'] = pdf['precision@10']\n",
    "mdf[['precision@5', 'perfect precision@5', 'precision@10', 'perfect precision@10']].plot(title='Evaluación modelo baseline MP')\n",
    "mdf.describe()"
   ]
  },
  {
   "cell_type": "code",
   "execution_count": 13,
   "id": "a588139d",
   "metadata": {
    "execution": {
     "iopub.execute_input": "2024-09-05T09:48:28.584813Z",
     "iopub.status.busy": "2024-09-05T09:48:28.584714Z",
     "iopub.status.idle": "2024-09-05T09:48:28.610573Z",
     "shell.execute_reply": "2024-09-05T09:48:28.610386Z"
    },
    "papermill": {
     "duration": 0.033524,
     "end_time": "2024-09-05T09:48:28.611253",
     "exception": false,
     "start_time": "2024-09-05T09:48:28.577729",
     "status": "completed"
    },
    "tags": []
   },
   "outputs": [
    {
     "data": {
      "text/html": [
       "<div>\n",
       "<style scoped>\n",
       "    .dataframe tbody tr th:only-of-type {\n",
       "        vertical-align: middle;\n",
       "    }\n",
       "\n",
       "    .dataframe tbody tr th {\n",
       "        vertical-align: top;\n",
       "    }\n",
       "\n",
       "    .dataframe thead th {\n",
       "        text-align: right;\n",
       "    }\n",
       "</style>\n",
       "<table border=\"1\" class=\"dataframe\">\n",
       "  <thead>\n",
       "    <tr style=\"text-align: right;\">\n",
       "      <th></th>\n",
       "      <th>fold</th>\n",
       "      <th>precision@1</th>\n",
       "      <th>precision@3</th>\n",
       "      <th>precision@5</th>\n",
       "      <th>precision@10</th>\n",
       "      <th>precision@15</th>\n",
       "      <th>precision@100</th>\n",
       "      <th>ndcg@1</th>\n",
       "      <th>ndcg@3</th>\n",
       "      <th>ndcg@5</th>\n",
       "      <th>...</th>\n",
       "      <th>recall@100</th>\n",
       "      <th>r-precision@1</th>\n",
       "      <th>r-precision@3</th>\n",
       "      <th>r-precision@5</th>\n",
       "      <th>r-precision@10</th>\n",
       "      <th>r-precision@15</th>\n",
       "      <th>r-precision@100</th>\n",
       "      <th>time_eval</th>\n",
       "      <th>perfect precision@5</th>\n",
       "      <th>perfect precision@10</th>\n",
       "    </tr>\n",
       "  </thead>\n",
       "  <tbody>\n",
       "    <tr>\n",
       "      <th>count</th>\n",
       "      <td>10</td>\n",
       "      <td>10.0</td>\n",
       "      <td>10.0</td>\n",
       "      <td>10.0</td>\n",
       "      <td>10.0</td>\n",
       "      <td>10.0</td>\n",
       "      <td>10.0</td>\n",
       "      <td>10.0</td>\n",
       "      <td>10.0</td>\n",
       "      <td>10.0</td>\n",
       "      <td>...</td>\n",
       "      <td>10.0</td>\n",
       "      <td>10.0</td>\n",
       "      <td>10.0</td>\n",
       "      <td>10.0</td>\n",
       "      <td>10.0</td>\n",
       "      <td>10.0</td>\n",
       "      <td>10.0</td>\n",
       "      <td>10.000000</td>\n",
       "      <td>0.0</td>\n",
       "      <td>0.0</td>\n",
       "    </tr>\n",
       "    <tr>\n",
       "      <th>mean</th>\n",
       "      <td>2023-07-08 00:00:00</td>\n",
       "      <td>0.0</td>\n",
       "      <td>0.0</td>\n",
       "      <td>0.0</td>\n",
       "      <td>0.0</td>\n",
       "      <td>0.0</td>\n",
       "      <td>0.0</td>\n",
       "      <td>0.0</td>\n",
       "      <td>0.0</td>\n",
       "      <td>0.0</td>\n",
       "      <td>...</td>\n",
       "      <td>0.0</td>\n",
       "      <td>0.0</td>\n",
       "      <td>0.0</td>\n",
       "      <td>0.0</td>\n",
       "      <td>0.0</td>\n",
       "      <td>0.0</td>\n",
       "      <td>0.0</td>\n",
       "      <td>0.069860</td>\n",
       "      <td>NaN</td>\n",
       "      <td>NaN</td>\n",
       "    </tr>\n",
       "    <tr>\n",
       "      <th>min</th>\n",
       "      <td>2023-06-29 00:00:00</td>\n",
       "      <td>0.0</td>\n",
       "      <td>0.0</td>\n",
       "      <td>0.0</td>\n",
       "      <td>0.0</td>\n",
       "      <td>0.0</td>\n",
       "      <td>0.0</td>\n",
       "      <td>0.0</td>\n",
       "      <td>0.0</td>\n",
       "      <td>0.0</td>\n",
       "      <td>...</td>\n",
       "      <td>0.0</td>\n",
       "      <td>0.0</td>\n",
       "      <td>0.0</td>\n",
       "      <td>0.0</td>\n",
       "      <td>0.0</td>\n",
       "      <td>0.0</td>\n",
       "      <td>0.0</td>\n",
       "      <td>0.068030</td>\n",
       "      <td>NaN</td>\n",
       "      <td>NaN</td>\n",
       "    </tr>\n",
       "    <tr>\n",
       "      <th>25%</th>\n",
       "      <td>2023-07-03 12:00:00</td>\n",
       "      <td>0.0</td>\n",
       "      <td>0.0</td>\n",
       "      <td>0.0</td>\n",
       "      <td>0.0</td>\n",
       "      <td>0.0</td>\n",
       "      <td>0.0</td>\n",
       "      <td>0.0</td>\n",
       "      <td>0.0</td>\n",
       "      <td>0.0</td>\n",
       "      <td>...</td>\n",
       "      <td>0.0</td>\n",
       "      <td>0.0</td>\n",
       "      <td>0.0</td>\n",
       "      <td>0.0</td>\n",
       "      <td>0.0</td>\n",
       "      <td>0.0</td>\n",
       "      <td>0.0</td>\n",
       "      <td>0.069249</td>\n",
       "      <td>NaN</td>\n",
       "      <td>NaN</td>\n",
       "    </tr>\n",
       "    <tr>\n",
       "      <th>50%</th>\n",
       "      <td>2023-07-08 00:00:00</td>\n",
       "      <td>0.0</td>\n",
       "      <td>0.0</td>\n",
       "      <td>0.0</td>\n",
       "      <td>0.0</td>\n",
       "      <td>0.0</td>\n",
       "      <td>0.0</td>\n",
       "      <td>0.0</td>\n",
       "      <td>0.0</td>\n",
       "      <td>0.0</td>\n",
       "      <td>...</td>\n",
       "      <td>0.0</td>\n",
       "      <td>0.0</td>\n",
       "      <td>0.0</td>\n",
       "      <td>0.0</td>\n",
       "      <td>0.0</td>\n",
       "      <td>0.0</td>\n",
       "      <td>0.0</td>\n",
       "      <td>0.069571</td>\n",
       "      <td>NaN</td>\n",
       "      <td>NaN</td>\n",
       "    </tr>\n",
       "    <tr>\n",
       "      <th>75%</th>\n",
       "      <td>2023-07-12 12:00:00</td>\n",
       "      <td>0.0</td>\n",
       "      <td>0.0</td>\n",
       "      <td>0.0</td>\n",
       "      <td>0.0</td>\n",
       "      <td>0.0</td>\n",
       "      <td>0.0</td>\n",
       "      <td>0.0</td>\n",
       "      <td>0.0</td>\n",
       "      <td>0.0</td>\n",
       "      <td>...</td>\n",
       "      <td>0.0</td>\n",
       "      <td>0.0</td>\n",
       "      <td>0.0</td>\n",
       "      <td>0.0</td>\n",
       "      <td>0.0</td>\n",
       "      <td>0.0</td>\n",
       "      <td>0.0</td>\n",
       "      <td>0.070607</td>\n",
       "      <td>NaN</td>\n",
       "      <td>NaN</td>\n",
       "    </tr>\n",
       "    <tr>\n",
       "      <th>max</th>\n",
       "      <td>2023-07-17 00:00:00</td>\n",
       "      <td>0.0</td>\n",
       "      <td>0.0</td>\n",
       "      <td>0.0</td>\n",
       "      <td>0.0</td>\n",
       "      <td>0.0</td>\n",
       "      <td>0.0</td>\n",
       "      <td>0.0</td>\n",
       "      <td>0.0</td>\n",
       "      <td>0.0</td>\n",
       "      <td>...</td>\n",
       "      <td>0.0</td>\n",
       "      <td>0.0</td>\n",
       "      <td>0.0</td>\n",
       "      <td>0.0</td>\n",
       "      <td>0.0</td>\n",
       "      <td>0.0</td>\n",
       "      <td>0.0</td>\n",
       "      <td>0.071876</td>\n",
       "      <td>NaN</td>\n",
       "      <td>NaN</td>\n",
       "    </tr>\n",
       "    <tr>\n",
       "      <th>std</th>\n",
       "      <td>NaN</td>\n",
       "      <td>0.0</td>\n",
       "      <td>0.0</td>\n",
       "      <td>0.0</td>\n",
       "      <td>0.0</td>\n",
       "      <td>0.0</td>\n",
       "      <td>0.0</td>\n",
       "      <td>0.0</td>\n",
       "      <td>0.0</td>\n",
       "      <td>0.0</td>\n",
       "      <td>...</td>\n",
       "      <td>0.0</td>\n",
       "      <td>0.0</td>\n",
       "      <td>0.0</td>\n",
       "      <td>0.0</td>\n",
       "      <td>0.0</td>\n",
       "      <td>0.0</td>\n",
       "      <td>0.0</td>\n",
       "      <td>0.001172</td>\n",
       "      <td>NaN</td>\n",
       "      <td>NaN</td>\n",
       "    </tr>\n",
       "  </tbody>\n",
       "</table>\n",
       "<p>8 rows × 34 columns</p>\n",
       "</div>"
      ],
      "text/plain": [
       "                      fold  precision@1  precision@3  precision@5  \\\n",
       "count                   10         10.0         10.0         10.0   \n",
       "mean   2023-07-08 00:00:00          0.0          0.0          0.0   \n",
       "min    2023-06-29 00:00:00          0.0          0.0          0.0   \n",
       "25%    2023-07-03 12:00:00          0.0          0.0          0.0   \n",
       "50%    2023-07-08 00:00:00          0.0          0.0          0.0   \n",
       "75%    2023-07-12 12:00:00          0.0          0.0          0.0   \n",
       "max    2023-07-17 00:00:00          0.0          0.0          0.0   \n",
       "std                    NaN          0.0          0.0          0.0   \n",
       "\n",
       "       precision@10  precision@15  precision@100  ndcg@1  ndcg@3  ndcg@5  ...  \\\n",
       "count          10.0          10.0           10.0    10.0    10.0    10.0  ...   \n",
       "mean            0.0           0.0            0.0     0.0     0.0     0.0  ...   \n",
       "min             0.0           0.0            0.0     0.0     0.0     0.0  ...   \n",
       "25%             0.0           0.0            0.0     0.0     0.0     0.0  ...   \n",
       "50%             0.0           0.0            0.0     0.0     0.0     0.0  ...   \n",
       "75%             0.0           0.0            0.0     0.0     0.0     0.0  ...   \n",
       "max             0.0           0.0            0.0     0.0     0.0     0.0  ...   \n",
       "std             0.0           0.0            0.0     0.0     0.0     0.0  ...   \n",
       "\n",
       "       recall@100  r-precision@1  r-precision@3  r-precision@5  \\\n",
       "count        10.0           10.0           10.0           10.0   \n",
       "mean          0.0            0.0            0.0            0.0   \n",
       "min           0.0            0.0            0.0            0.0   \n",
       "25%           0.0            0.0            0.0            0.0   \n",
       "50%           0.0            0.0            0.0            0.0   \n",
       "75%           0.0            0.0            0.0            0.0   \n",
       "max           0.0            0.0            0.0            0.0   \n",
       "std           0.0            0.0            0.0            0.0   \n",
       "\n",
       "       r-precision@10  r-precision@15  r-precision@100  time_eval  \\\n",
       "count            10.0            10.0             10.0  10.000000   \n",
       "mean              0.0             0.0              0.0   0.069860   \n",
       "min               0.0             0.0              0.0   0.068030   \n",
       "25%               0.0             0.0              0.0   0.069249   \n",
       "50%               0.0             0.0              0.0   0.069571   \n",
       "75%               0.0             0.0              0.0   0.070607   \n",
       "max               0.0             0.0              0.0   0.071876   \n",
       "std               0.0             0.0              0.0   0.001172   \n",
       "\n",
       "       perfect precision@5  perfect precision@10  \n",
       "count                  0.0                   0.0  \n",
       "mean                   NaN                   NaN  \n",
       "min                    NaN                   NaN  \n",
       "25%                    NaN                   NaN  \n",
       "50%                    NaN                   NaN  \n",
       "75%                    NaN                   NaN  \n",
       "max                    NaN                   NaN  \n",
       "std                    NaN                   NaN  \n",
       "\n",
       "[8 rows x 34 columns]"
      ]
     },
     "execution_count": 13,
     "metadata": {},
     "output_type": "execute_result"
    }
   ],
   "source": [
    "mdf[-LAST_FOLDS:].describe()"
   ]
  },
  {
   "cell_type": "code",
   "execution_count": null,
   "id": "caac727d",
   "metadata": {
    "papermill": {
     "duration": 0.006692,
     "end_time": "2024-09-05T09:48:28.624771",
     "exception": false,
     "start_time": "2024-09-05T09:48:28.618079",
     "status": "completed"
    },
    "tags": []
   },
   "outputs": [],
   "source": []
  }
 ],
 "metadata": {
  "kernelspec": {
   "display_name": "Python 3 (ipykernel)",
   "language": "python",
   "name": "python3"
  },
  "language_info": {
   "codemirror_mode": {
    "name": "ipython",
    "version": 3
   },
   "file_extension": ".py",
   "mimetype": "text/x-python",
   "name": "python",
   "nbconvert_exporter": "python",
   "pygments_lexer": "ipython3",
   "version": "3.11.6"
  },
  "papermill": {
   "default_parameters": {},
   "duration": 56.735531,
   "end_time": "2024-09-05T09:48:29.649701",
   "environment_variables": {},
   "exception": null,
   "input_path": "10_baseline.ipynb",
   "output_path": "../nbout/Bent Finance/10_baseline.ipynb",
   "parameters": {
    "EXECUTION_ID": "2024-09-04T10:00",
    "LAST_FOLDS": 10,
    "LAST_FOLD_DATE_STR": "2023-04-30",
    "ORG_NAME": "Bent Finance",
    "SPLITS_FREQ": "2d",
    "SPLITS_NORMALIZE": true
   },
   "start_time": "2024-09-05T09:47:32.914170",
   "version": "2.6.0"
  },
  "widgets": {
   "application/vnd.jupyter.widget-state+json": {
    "state": {
     "00037f4600bc48c0a5592349f8ad85f6": {
      "model_module": "@jupyter-widgets/controls",
      "model_module_version": "2.0.0",
      "model_name": "HTMLModel",
      "state": {
       "_dom_classes": [],
       "_model_module": "@jupyter-widgets/controls",
       "_model_module_version": "2.0.0",
       "_model_name": "HTMLModel",
       "_view_count": null,
       "_view_module": "@jupyter-widgets/controls",
       "_view_module_version": "2.0.0",
       "_view_name": "HTMLView",
       "description": "",
       "description_allow_html": false,
       "layout": "IPY_MODEL_870f9741504540608de1352fd708ab61",
       "placeholder": "​",
       "style": "IPY_MODEL_570c74a7d2d64dad8670ac75afc63c1d",
       "tabbable": null,
       "tooltip": null,
       "value": "100%"
      }
     },
     "090d2918dd1244fbaac56b0e71bf7c5d": {
      "model_module": "@jupyter-widgets/base",
      "model_module_version": "2.0.0",
      "model_name": "LayoutModel",
      "state": {
       "_model_module": "@jupyter-widgets/base",
       "_model_module_version": "2.0.0",
       "_model_name": "LayoutModel",
       "_view_count": null,
       "_view_module": "@jupyter-widgets/base",
       "_view_module_version": "2.0.0",
       "_view_name": "LayoutView",
       "align_content": null,
       "align_items": null,
       "align_self": null,
       "border_bottom": null,
       "border_left": null,
       "border_right": null,
       "border_top": null,
       "bottom": null,
       "display": null,
       "flex": null,
       "flex_flow": null,
       "grid_area": null,
       "grid_auto_columns": null,
       "grid_auto_flow": null,
       "grid_auto_rows": null,
       "grid_column": null,
       "grid_gap": null,
       "grid_row": null,
       "grid_template_areas": null,
       "grid_template_columns": null,
       "grid_template_rows": null,
       "height": null,
       "justify_content": null,
       "justify_items": null,
       "left": null,
       "margin": null,
       "max_height": null,
       "max_width": null,
       "min_height": null,
       "min_width": null,
       "object_fit": null,
       "object_position": null,
       "order": null,
       "overflow": null,
       "padding": null,
       "right": null,
       "top": null,
       "visibility": null,
       "width": null
      }
     },
     "2deb7bf479bb4e7fb88a55417dcf6dbe": {
      "model_module": "@jupyter-widgets/controls",
      "model_module_version": "2.0.0",
      "model_name": "HBoxModel",
      "state": {
       "_dom_classes": [],
       "_model_module": "@jupyter-widgets/controls",
       "_model_module_version": "2.0.0",
       "_model_name": "HBoxModel",
       "_view_count": null,
       "_view_module": "@jupyter-widgets/controls",
       "_view_module_version": "2.0.0",
       "_view_name": "HBoxView",
       "box_style": "",
       "children": [
        "IPY_MODEL_00037f4600bc48c0a5592349f8ad85f6",
        "IPY_MODEL_f774af3fb8404c8390b3b697e43e917f",
        "IPY_MODEL_84774f60ffd845c9a8d939813f365e6a"
       ],
       "layout": "IPY_MODEL_d3a57b58a33f4c4bb13c4dc6187d270f",
       "tabbable": null,
       "tooltip": null
      }
     },
     "442be505a31149d88ece761f0833cc63": {
      "model_module": "@jupyter-widgets/controls",
      "model_module_version": "2.0.0",
      "model_name": "HTMLStyleModel",
      "state": {
       "_model_module": "@jupyter-widgets/controls",
       "_model_module_version": "2.0.0",
       "_model_name": "HTMLStyleModel",
       "_view_count": null,
       "_view_module": "@jupyter-widgets/base",
       "_view_module_version": "2.0.0",
       "_view_name": "StyleView",
       "background": null,
       "description_width": "",
       "font_size": null,
       "text_color": null
      }
     },
     "4e5fad5817ea40c096efab1b11040621": {
      "model_module": "@jupyter-widgets/controls",
      "model_module_version": "2.0.0",
      "model_name": "ProgressStyleModel",
      "state": {
       "_model_module": "@jupyter-widgets/controls",
       "_model_module_version": "2.0.0",
       "_model_name": "ProgressStyleModel",
       "_view_count": null,
       "_view_module": "@jupyter-widgets/base",
       "_view_module_version": "2.0.0",
       "_view_name": "StyleView",
       "bar_color": null,
       "description_width": ""
      }
     },
     "570c74a7d2d64dad8670ac75afc63c1d": {
      "model_module": "@jupyter-widgets/controls",
      "model_module_version": "2.0.0",
      "model_name": "HTMLStyleModel",
      "state": {
       "_model_module": "@jupyter-widgets/controls",
       "_model_module_version": "2.0.0",
       "_model_name": "HTMLStyleModel",
       "_view_count": null,
       "_view_module": "@jupyter-widgets/base",
       "_view_module_version": "2.0.0",
       "_view_name": "StyleView",
       "background": null,
       "description_width": "",
       "font_size": null,
       "text_color": null
      }
     },
     "84774f60ffd845c9a8d939813f365e6a": {
      "model_module": "@jupyter-widgets/controls",
      "model_module_version": "2.0.0",
      "model_name": "HTMLModel",
      "state": {
       "_dom_classes": [],
       "_model_module": "@jupyter-widgets/controls",
       "_model_module_version": "2.0.0",
       "_model_name": "HTMLModel",
       "_view_count": null,
       "_view_module": "@jupyter-widgets/controls",
       "_view_module_version": "2.0.0",
       "_view_name": "HTMLView",
       "description": "",
       "description_allow_html": false,
       "layout": "IPY_MODEL_d07950d4fa084cf98ef7afa485c99e71",
       "placeholder": "​",
       "style": "IPY_MODEL_442be505a31149d88ece761f0833cc63",
       "tabbable": null,
       "tooltip": null,
       "value": " 285/285 [00:51&lt;00:00,  5.86it/s]"
      }
     },
     "870f9741504540608de1352fd708ab61": {
      "model_module": "@jupyter-widgets/base",
      "model_module_version": "2.0.0",
      "model_name": "LayoutModel",
      "state": {
       "_model_module": "@jupyter-widgets/base",
       "_model_module_version": "2.0.0",
       "_model_name": "LayoutModel",
       "_view_count": null,
       "_view_module": "@jupyter-widgets/base",
       "_view_module_version": "2.0.0",
       "_view_name": "LayoutView",
       "align_content": null,
       "align_items": null,
       "align_self": null,
       "border_bottom": null,
       "border_left": null,
       "border_right": null,
       "border_top": null,
       "bottom": null,
       "display": null,
       "flex": null,
       "flex_flow": null,
       "grid_area": null,
       "grid_auto_columns": null,
       "grid_auto_flow": null,
       "grid_auto_rows": null,
       "grid_column": null,
       "grid_gap": null,
       "grid_row": null,
       "grid_template_areas": null,
       "grid_template_columns": null,
       "grid_template_rows": null,
       "height": null,
       "justify_content": null,
       "justify_items": null,
       "left": null,
       "margin": null,
       "max_height": null,
       "max_width": null,
       "min_height": null,
       "min_width": null,
       "object_fit": null,
       "object_position": null,
       "order": null,
       "overflow": null,
       "padding": null,
       "right": null,
       "top": null,
       "visibility": null,
       "width": null
      }
     },
     "d07950d4fa084cf98ef7afa485c99e71": {
      "model_module": "@jupyter-widgets/base",
      "model_module_version": "2.0.0",
      "model_name": "LayoutModel",
      "state": {
       "_model_module": "@jupyter-widgets/base",
       "_model_module_version": "2.0.0",
       "_model_name": "LayoutModel",
       "_view_count": null,
       "_view_module": "@jupyter-widgets/base",
       "_view_module_version": "2.0.0",
       "_view_name": "LayoutView",
       "align_content": null,
       "align_items": null,
       "align_self": null,
       "border_bottom": null,
       "border_left": null,
       "border_right": null,
       "border_top": null,
       "bottom": null,
       "display": null,
       "flex": null,
       "flex_flow": null,
       "grid_area": null,
       "grid_auto_columns": null,
       "grid_auto_flow": null,
       "grid_auto_rows": null,
       "grid_column": null,
       "grid_gap": null,
       "grid_row": null,
       "grid_template_areas": null,
       "grid_template_columns": null,
       "grid_template_rows": null,
       "height": null,
       "justify_content": null,
       "justify_items": null,
       "left": null,
       "margin": null,
       "max_height": null,
       "max_width": null,
       "min_height": null,
       "min_width": null,
       "object_fit": null,
       "object_position": null,
       "order": null,
       "overflow": null,
       "padding": null,
       "right": null,
       "top": null,
       "visibility": null,
       "width": null
      }
     },
     "d3a57b58a33f4c4bb13c4dc6187d270f": {
      "model_module": "@jupyter-widgets/base",
      "model_module_version": "2.0.0",
      "model_name": "LayoutModel",
      "state": {
       "_model_module": "@jupyter-widgets/base",
       "_model_module_version": "2.0.0",
       "_model_name": "LayoutModel",
       "_view_count": null,
       "_view_module": "@jupyter-widgets/base",
       "_view_module_version": "2.0.0",
       "_view_name": "LayoutView",
       "align_content": null,
       "align_items": null,
       "align_self": null,
       "border_bottom": null,
       "border_left": null,
       "border_right": null,
       "border_top": null,
       "bottom": null,
       "display": null,
       "flex": null,
       "flex_flow": null,
       "grid_area": null,
       "grid_auto_columns": null,
       "grid_auto_flow": null,
       "grid_auto_rows": null,
       "grid_column": null,
       "grid_gap": null,
       "grid_row": null,
       "grid_template_areas": null,
       "grid_template_columns": null,
       "grid_template_rows": null,
       "height": null,
       "justify_content": null,
       "justify_items": null,
       "left": null,
       "margin": null,
       "max_height": null,
       "max_width": null,
       "min_height": null,
       "min_width": null,
       "object_fit": null,
       "object_position": null,
       "order": null,
       "overflow": null,
       "padding": null,
       "right": null,
       "top": null,
       "visibility": null,
       "width": null
      }
     },
     "f774af3fb8404c8390b3b697e43e917f": {
      "model_module": "@jupyter-widgets/controls",
      "model_module_version": "2.0.0",
      "model_name": "FloatProgressModel",
      "state": {
       "_dom_classes": [],
       "_model_module": "@jupyter-widgets/controls",
       "_model_module_version": "2.0.0",
       "_model_name": "FloatProgressModel",
       "_view_count": null,
       "_view_module": "@jupyter-widgets/controls",
       "_view_module_version": "2.0.0",
       "_view_name": "ProgressView",
       "bar_style": "success",
       "description": "",
       "description_allow_html": false,
       "layout": "IPY_MODEL_090d2918dd1244fbaac56b0e71bf7c5d",
       "max": 285.0,
       "min": 0.0,
       "orientation": "horizontal",
       "style": "IPY_MODEL_4e5fad5817ea40c096efab1b11040621",
       "tabbable": null,
       "tooltip": null,
       "value": 285.0
      }
     }
    },
    "version_major": 2,
    "version_minor": 0
   }
  }
 },
 "nbformat": 4,
 "nbformat_minor": 5
}