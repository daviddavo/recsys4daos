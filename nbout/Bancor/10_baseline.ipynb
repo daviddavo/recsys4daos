{
 "cells": [
  {
   "cell_type": "code",
   "execution_count": 1,
   "id": "8184374e",
   "metadata": {
    "execution": {
     "iopub.execute_input": "2024-09-05T09:44:52.278545Z",
     "iopub.status.busy": "2024-09-05T09:44:52.278458Z",
     "iopub.status.idle": "2024-09-05T09:44:54.963032Z",
     "shell.execute_reply": "2024-09-05T09:44:54.962707Z"
    },
    "papermill": {
     "duration": 2.692194,
     "end_time": "2024-09-05T09:44:54.963721",
     "exception": false,
     "start_time": "2024-09-05T09:44:52.271527",
     "status": "completed"
    },
    "tags": []
   },
   "outputs": [
    {
     "name": "stderr",
     "output_type": "stream",
     "text": [
      "/tmp/ipykernel_3823990/2526015065.py:7: TqdmExperimentalWarning: Using `tqdm.autonotebook.tqdm` in notebook mode. Use `tqdm.tqdm` instead to force console mode (e.g. in jupyter console)\n",
      "  from tqdm.autonotebook import tqdm\n"
     ]
    },
    {
     "name": "stdout",
     "output_type": "stream",
     "text": [
      "Ignoring warnings\n"
     ]
    }
   ],
   "source": [
    "from typing import List\n",
    "import sys\n",
    "from collections import defaultdict\n",
    "\n",
    "import pandas as pd\n",
    "import numpy as np\n",
    "from tqdm.autonotebook import tqdm\n",
    "\n",
    "from recsys4daos.models import OpenPop\n",
    "from recsys4daos.datasets import to_microsoft\n",
    "from recsys4daos.model_selection import cvtt_open\n",
    "from recsys4daos.evaluation import calculate_all_metrics\n",
    "\n",
    "import paths\n",
    "\n",
    "import recommenders\n",
    "if recommenders.__version__ == '1.2.0':\n",
    "    print(\"Ignoring warnings\")\n",
    "    import warnings\n",
    "    warnings.simplefilter(action='ignore', category=FutureWarning)"
   ]
  },
  {
   "cell_type": "code",
   "execution_count": 2,
   "id": "9a01cbdf",
   "metadata": {
    "editable": true,
    "execution": {
     "iopub.execute_input": "2024-09-05T09:44:54.968633Z",
     "iopub.status.busy": "2024-09-05T09:44:54.968424Z",
     "iopub.status.idle": "2024-09-05T09:44:54.970451Z",
     "shell.execute_reply": "2024-09-05T09:44:54.970245Z"
    },
    "papermill": {
     "duration": 0.005245,
     "end_time": "2024-09-05T09:44:54.971169",
     "exception": false,
     "start_time": "2024-09-05T09:44:54.965924",
     "status": "completed"
    },
    "slideshow": {
     "slide_type": ""
    },
    "tags": [
     "parameters"
    ]
   },
   "outputs": [],
   "source": [
    "SPLITS_FREQ = \"W-THU\"\n",
    "SPLITS_NORMALIZE = True\n",
    "ORG_NAME = 'Decentraland'\n",
    "LAST_FOLD_DATE_STR: str = None # Won't use it, we will just calculate for every fold\n",
    "\n",
    "# In this notebook this is just used for plotting and description, not \"training\"\n",
    "# every fold is saved into the results table\n",
    "LAST_FOLDS = 10\n",
    "\n",
    "K_RECOMMENDATIONS: List[int] = [1,3,5,10,15,100]"
   ]
  },
  {
   "cell_type": "code",
   "execution_count": 3,
   "id": "0913ace2",
   "metadata": {
    "execution": {
     "iopub.execute_input": "2024-09-05T09:44:54.975095Z",
     "iopub.status.busy": "2024-09-05T09:44:54.974933Z",
     "iopub.status.idle": "2024-09-05T09:44:54.976460Z",
     "shell.execute_reply": "2024-09-05T09:44:54.976278Z"
    },
    "papermill": {
     "duration": 0.00447,
     "end_time": "2024-09-05T09:44:54.977275",
     "exception": false,
     "start_time": "2024-09-05T09:44:54.972805",
     "status": "completed"
    },
    "tags": [
     "injected-parameters"
    ]
   },
   "outputs": [],
   "source": [
    "# Parameters\n",
    "EXECUTION_ID = \"2024-09-04T10:00\"\n",
    "ORG_NAME = \"Bancor\"\n",
    "SPLITS_FREQ = \"3d\"\n",
    "LAST_FOLDS = 10\n",
    "SPLITS_NORMALIZE = True\n",
    "LAST_FOLD_DATE_STR = \"2022-01-26\"\n"
   ]
  },
  {
   "cell_type": "markdown",
   "id": "fb346ac2",
   "metadata": {
    "papermill": {
     "duration": 0.00166,
     "end_time": "2024-09-05T09:44:54.980613",
     "exception": false,
     "start_time": "2024-09-05T09:44:54.978953",
     "status": "completed"
    },
    "tags": []
   },
   "source": [
    "## Obtain dataset"
   ]
  },
  {
   "cell_type": "code",
   "execution_count": 4,
   "id": "5ce8851b",
   "metadata": {
    "execution": {
     "iopub.execute_input": "2024-09-05T09:44:54.984514Z",
     "iopub.status.busy": "2024-09-05T09:44:54.984362Z",
     "iopub.status.idle": "2024-09-05T09:44:55.109138Z",
     "shell.execute_reply": "2024-09-05T09:44:55.106857Z"
    },
    "papermill": {
     "duration": 0.131112,
     "end_time": "2024-09-05T09:44:55.113453",
     "exception": false,
     "start_time": "2024-09-05T09:44:54.982341",
     "status": "completed"
    },
    "tags": []
   },
   "outputs": [
    {
     "name": "stdout",
     "output_type": "stream",
     "text": [
      "/home/daviddavo/recsys4daos/notebooks\r\n"
     ]
    }
   ],
   "source": [
    "!pwd"
   ]
  },
  {
   "cell_type": "code",
   "execution_count": 5,
   "id": "c7c0bc1b",
   "metadata": {
    "execution": {
     "iopub.execute_input": "2024-09-05T09:44:55.123575Z",
     "iopub.status.busy": "2024-09-05T09:44:55.123094Z",
     "iopub.status.idle": "2024-09-05T09:44:55.256685Z",
     "shell.execute_reply": "2024-09-05T09:44:55.254674Z"
    },
    "papermill": {
     "duration": 0.140784,
     "end_time": "2024-09-05T09:44:55.260675",
     "exception": false,
     "start_time": "2024-09-05T09:44:55.119891",
     "status": "completed"
    },
    "tags": []
   },
   "outputs": [
    {
     "name": "stdout",
     "output_type": "stream",
     "text": [
      "md5sum: '../data/decentraland/*': No such file or directory\r\n"
     ]
    }
   ],
   "source": [
    "!md5sum ../data/decentraland/*"
   ]
  },
  {
   "cell_type": "code",
   "execution_count": 6,
   "id": "ac49b23c",
   "metadata": {
    "execution": {
     "iopub.execute_input": "2024-09-05T09:44:55.281041Z",
     "iopub.status.busy": "2024-09-05T09:44:55.280756Z",
     "iopub.status.idle": "2024-09-05T09:44:55.360617Z",
     "shell.execute_reply": "2024-09-05T09:44:55.360383Z"
    },
    "papermill": {
     "duration": 0.089553,
     "end_time": "2024-09-05T09:44:55.361377",
     "exception": false,
     "start_time": "2024-09-05T09:44:55.271824",
     "status": "completed"
    },
    "tags": []
   },
   "outputs": [
    {
     "name": "stdout",
     "output_type": "stream",
     "text": [
      "<class 'pandas.core.frame.DataFrame'>\n",
      "RangeIndex: 541 entries, 0 to 540\n",
      "Data columns (total 6 columns):\n",
      " #   Column             Non-Null Count  Dtype         \n",
      "---  ------             --------------  -----         \n",
      " 0   id                 541 non-null    object        \n",
      " 1   author             541 non-null    object        \n",
      " 2   date               541 non-null    datetime64[us]\n",
      " 3   start              541 non-null    datetime64[us]\n",
      " 4   end                541 non-null    datetime64[us]\n",
      " 5   platform_proposal  541 non-null    object        \n",
      "dtypes: datetime64[us](3), object(3)\n",
      "memory usage: 25.5+ KB\n"
     ]
    },
    {
     "name": "stdout",
     "output_type": "stream",
     "text": [
      "None\n",
      "<class 'pandas.core.frame.DataFrame'>\n",
      "RangeIndex: 30942 entries, 0 to 30941\n",
      "Data columns (total 4 columns):\n",
      " #   Column    Non-Null Count  Dtype         \n",
      "---  ------    --------------  -----         \n",
      " 0   id        30942 non-null  object        \n",
      " 1   proposal  30942 non-null  object        \n",
      " 2   voter     30942 non-null  object        \n",
      " 3   date      30942 non-null  datetime64[us]\n",
      "dtypes: datetime64[us](1), object(3)\n",
      "memory usage: 967.1+ KB\n",
      "None\n",
      "<class 'pandas.core.frame.DataFrame'>\n",
      "RangeIndex: 30942 entries, 0 to 30941\n",
      "Data columns (total 4 columns):\n",
      " #   Column     Non-Null Count  Dtype         \n",
      "---  ------     --------------  -----         \n",
      " 0   userID     30942 non-null  object        \n",
      " 1   itemID     30942 non-null  object        \n",
      " 2   timestamp  30942 non-null  datetime64[us]\n",
      " 3   rating     30942 non-null  int64         \n",
      "dtypes: datetime64[us](1), int64(1), object(2)\n",
      "memory usage: 967.1+ KB\n",
      "None\n"
     ]
    }
   ],
   "source": [
    "dfp = paths.load_proposals(ORG_NAME)\n",
    "dfv = paths.load_votes(ORG_NAME)\n",
    "\n",
    "df = to_microsoft(dfv)\n",
    "\n",
    "print(dfp.info())\n",
    "print(dfv.info())\n",
    "print(df.info())"
   ]
  },
  {
   "cell_type": "markdown",
   "id": "4f46e718",
   "metadata": {
    "papermill": {
     "duration": 0.00217,
     "end_time": "2024-09-05T09:44:55.366005",
     "exception": false,
     "start_time": "2024-09-05T09:44:55.363835",
     "status": "completed"
    },
    "tags": []
   },
   "source": [
    "## Showing some info of the folds"
   ]
  },
  {
   "cell_type": "code",
   "execution_count": 7,
   "id": "a199be94",
   "metadata": {
    "execution": {
     "iopub.execute_input": "2024-09-05T09:44:55.370615Z",
     "iopub.status.busy": "2024-09-05T09:44:55.370479Z",
     "iopub.status.idle": "2024-09-05T09:44:58.428975Z",
     "shell.execute_reply": "2024-09-05T09:44:58.428768Z"
    },
    "papermill": {
     "duration": 3.061652,
     "end_time": "2024-09-05T09:44:58.429720",
     "exception": false,
     "start_time": "2024-09-05T09:44:55.368068",
     "status": "completed"
    },
    "tags": []
   },
   "outputs": [
    {
     "name": "stdout",
     "output_type": "stream",
     "text": [
      "Saved dataframe into /home/daviddavo/recsys4daos/data/output/Bancor/baseline/folds-info_3d_normalize.parquet\n",
      "fold\n",
      "2023-06-20    30715\n",
      "2023-06-23    30730\n",
      "2023-06-26    30730\n",
      "2023-06-29    30829\n",
      "2023-07-02    30829\n",
      "2023-07-05    30902\n",
      "2023-07-08    30918\n",
      "2023-07-11    30918\n",
      "2023-07-14    30918\n",
      "2023-07-17    30923\n",
      "Name: votes in train, dtype: int64\n"
     ]
    },
    {
     "data": {
      "text/html": [
       "<style type=\"text/css\">\n",
       "</style>\n",
       "<table id=\"T_71d1a\">\n",
       "  <thead>\n",
       "    <tr>\n",
       "      <th class=\"blank level0\" >&nbsp;</th>\n",
       "      <th id=\"T_71d1a_level0_col0\" class=\"col_heading level0 col0\" >open proposals</th>\n",
       "      <th id=\"T_71d1a_level0_col1\" class=\"col_heading level0 col1\" >votes in open proposals (train)</th>\n",
       "      <th id=\"T_71d1a_level0_col2\" class=\"col_heading level0 col2\" >users in open proposals (train)</th>\n",
       "      <th id=\"T_71d1a_level0_col3\" class=\"col_heading level0 col3\" >vpp in open proposals (train)</th>\n",
       "      <th id=\"T_71d1a_level0_col4\" class=\"col_heading level0 col4\" >vpu in open proposals (train)</th>\n",
       "      <th id=\"T_71d1a_level0_col5\" class=\"col_heading level0 col5\" >votes in test</th>\n",
       "      <th id=\"T_71d1a_level0_col6\" class=\"col_heading level0 col6\" >users in test</th>\n",
       "      <th id=\"T_71d1a_level0_col7\" class=\"col_heading level0 col7\" >vpp test</th>\n",
       "      <th id=\"T_71d1a_level0_col8\" class=\"col_heading level0 col8\" >vpu test</th>\n",
       "    </tr>\n",
       "    <tr>\n",
       "      <th class=\"index_name level0\" >fold</th>\n",
       "      <th class=\"blank col0\" >&nbsp;</th>\n",
       "      <th class=\"blank col1\" >&nbsp;</th>\n",
       "      <th class=\"blank col2\" >&nbsp;</th>\n",
       "      <th class=\"blank col3\" >&nbsp;</th>\n",
       "      <th class=\"blank col4\" >&nbsp;</th>\n",
       "      <th class=\"blank col5\" >&nbsp;</th>\n",
       "      <th class=\"blank col6\" >&nbsp;</th>\n",
       "      <th class=\"blank col7\" >&nbsp;</th>\n",
       "      <th class=\"blank col8\" >&nbsp;</th>\n",
       "    </tr>\n",
       "  </thead>\n",
       "  <tbody>\n",
       "    <tr>\n",
       "      <th id=\"T_71d1a_level0_row0\" class=\"row_heading level0 row0\" >2023-W25</th>\n",
       "      <td id=\"T_71d1a_row0_col0\" class=\"data row0 col0\" >10</td>\n",
       "      <td id=\"T_71d1a_row0_col1\" class=\"data row0 col1\" >87</td>\n",
       "      <td id=\"T_71d1a_row0_col2\" class=\"data row0 col2\" >11</td>\n",
       "      <td id=\"T_71d1a_row0_col3\" class=\"data row0 col3\" >8.70</td>\n",
       "      <td id=\"T_71d1a_row0_col4\" class=\"data row0 col4\" >7.91</td>\n",
       "      <td id=\"T_71d1a_row0_col5\" class=\"data row0 col5\" >15</td>\n",
       "      <td id=\"T_71d1a_row0_col6\" class=\"data row0 col6\" >5</td>\n",
       "      <td id=\"T_71d1a_row0_col7\" class=\"data row0 col7\" >1.50</td>\n",
       "      <td id=\"T_71d1a_row0_col8\" class=\"data row0 col8\" >3.00</td>\n",
       "    </tr>\n",
       "    <tr>\n",
       "      <th id=\"T_71d1a_level0_row1\" class=\"row_heading level0 row1\" >2023-W25</th>\n",
       "      <td id=\"T_71d1a_row1_col0\" class=\"data row1 col0\" >0</td>\n",
       "      <td id=\"T_71d1a_row1_col1\" class=\"data row1 col1\" >0</td>\n",
       "      <td id=\"T_71d1a_row1_col2\" class=\"data row1 col2\" >0</td>\n",
       "      <td id=\"T_71d1a_row1_col3\" class=\"data row1 col3\" >nan</td>\n",
       "      <td id=\"T_71d1a_row1_col4\" class=\"data row1 col4\" >nan</td>\n",
       "      <td id=\"T_71d1a_row1_col5\" class=\"data row1 col5\" >0</td>\n",
       "      <td id=\"T_71d1a_row1_col6\" class=\"data row1 col6\" >0</td>\n",
       "      <td id=\"T_71d1a_row1_col7\" class=\"data row1 col7\" >nan</td>\n",
       "      <td id=\"T_71d1a_row1_col8\" class=\"data row1 col8\" >nan</td>\n",
       "    </tr>\n",
       "    <tr>\n",
       "      <th id=\"T_71d1a_level0_row2\" class=\"row_heading level0 row2\" >2023-W26</th>\n",
       "      <td id=\"T_71d1a_row2_col0\" class=\"data row2 col0\" >0</td>\n",
       "      <td id=\"T_71d1a_row2_col1\" class=\"data row2 col1\" >0</td>\n",
       "      <td id=\"T_71d1a_row2_col2\" class=\"data row2 col2\" >0</td>\n",
       "      <td id=\"T_71d1a_row2_col3\" class=\"data row2 col3\" >nan</td>\n",
       "      <td id=\"T_71d1a_row2_col4\" class=\"data row2 col4\" >nan</td>\n",
       "      <td id=\"T_71d1a_row2_col5\" class=\"data row2 col5\" >0</td>\n",
       "      <td id=\"T_71d1a_row2_col6\" class=\"data row2 col6\" >0</td>\n",
       "      <td id=\"T_71d1a_row2_col7\" class=\"data row2 col7\" >nan</td>\n",
       "      <td id=\"T_71d1a_row2_col8\" class=\"data row2 col8\" >nan</td>\n",
       "    </tr>\n",
       "    <tr>\n",
       "      <th id=\"T_71d1a_level0_row3\" class=\"row_heading level0 row3\" >2023-W26</th>\n",
       "      <td id=\"T_71d1a_row3_col0\" class=\"data row3 col0\" >11</td>\n",
       "      <td id=\"T_71d1a_row3_col1\" class=\"data row3 col1\" >99</td>\n",
       "      <td id=\"T_71d1a_row3_col2\" class=\"data row3 col2\" >12</td>\n",
       "      <td id=\"T_71d1a_row3_col3\" class=\"data row3 col3\" >9.00</td>\n",
       "      <td id=\"T_71d1a_row3_col4\" class=\"data row3 col4\" >8.25</td>\n",
       "      <td id=\"T_71d1a_row3_col5\" class=\"data row3 col5\" >0</td>\n",
       "      <td id=\"T_71d1a_row3_col6\" class=\"data row3 col6\" >0</td>\n",
       "      <td id=\"T_71d1a_row3_col7\" class=\"data row3 col7\" >0.00</td>\n",
       "      <td id=\"T_71d1a_row3_col8\" class=\"data row3 col8\" >nan</td>\n",
       "    </tr>\n",
       "    <tr>\n",
       "      <th id=\"T_71d1a_level0_row4\" class=\"row_heading level0 row4\" >2023-W26</th>\n",
       "      <td id=\"T_71d1a_row4_col0\" class=\"data row4 col0\" >0</td>\n",
       "      <td id=\"T_71d1a_row4_col1\" class=\"data row4 col1\" >0</td>\n",
       "      <td id=\"T_71d1a_row4_col2\" class=\"data row4 col2\" >0</td>\n",
       "      <td id=\"T_71d1a_row4_col3\" class=\"data row4 col3\" >nan</td>\n",
       "      <td id=\"T_71d1a_row4_col4\" class=\"data row4 col4\" >nan</td>\n",
       "      <td id=\"T_71d1a_row4_col5\" class=\"data row4 col5\" >0</td>\n",
       "      <td id=\"T_71d1a_row4_col6\" class=\"data row4 col6\" >0</td>\n",
       "      <td id=\"T_71d1a_row4_col7\" class=\"data row4 col7\" >nan</td>\n",
       "      <td id=\"T_71d1a_row4_col8\" class=\"data row4 col8\" >nan</td>\n",
       "    </tr>\n",
       "    <tr>\n",
       "      <th id=\"T_71d1a_level0_row5\" class=\"row_heading level0 row5\" >2023-W27</th>\n",
       "      <td id=\"T_71d1a_row5_col0\" class=\"data row5 col0\" >12</td>\n",
       "      <td id=\"T_71d1a_row5_col1\" class=\"data row5 col1\" >73</td>\n",
       "      <td id=\"T_71d1a_row5_col2\" class=\"data row5 col2\" >10</td>\n",
       "      <td id=\"T_71d1a_row5_col3\" class=\"data row5 col3\" >6.08</td>\n",
       "      <td id=\"T_71d1a_row5_col4\" class=\"data row5 col4\" >7.30</td>\n",
       "      <td id=\"T_71d1a_row5_col5\" class=\"data row5 col5\" >16</td>\n",
       "      <td id=\"T_71d1a_row5_col6\" class=\"data row5 col6\" >5</td>\n",
       "      <td id=\"T_71d1a_row5_col7\" class=\"data row5 col7\" >1.33</td>\n",
       "      <td id=\"T_71d1a_row5_col8\" class=\"data row5 col8\" >3.20</td>\n",
       "    </tr>\n",
       "    <tr>\n",
       "      <th id=\"T_71d1a_level0_row6\" class=\"row_heading level0 row6\" >2023-W27</th>\n",
       "      <td id=\"T_71d1a_row6_col0\" class=\"data row6 col0\" >0</td>\n",
       "      <td id=\"T_71d1a_row6_col1\" class=\"data row6 col1\" >0</td>\n",
       "      <td id=\"T_71d1a_row6_col2\" class=\"data row6 col2\" >0</td>\n",
       "      <td id=\"T_71d1a_row6_col3\" class=\"data row6 col3\" >nan</td>\n",
       "      <td id=\"T_71d1a_row6_col4\" class=\"data row6 col4\" >nan</td>\n",
       "      <td id=\"T_71d1a_row6_col5\" class=\"data row6 col5\" >0</td>\n",
       "      <td id=\"T_71d1a_row6_col6\" class=\"data row6 col6\" >0</td>\n",
       "      <td id=\"T_71d1a_row6_col7\" class=\"data row6 col7\" >nan</td>\n",
       "      <td id=\"T_71d1a_row6_col8\" class=\"data row6 col8\" >nan</td>\n",
       "    </tr>\n",
       "    <tr>\n",
       "      <th id=\"T_71d1a_level0_row7\" class=\"row_heading level0 row7\" >2023-W28</th>\n",
       "      <td id=\"T_71d1a_row7_col0\" class=\"data row7 col0\" >0</td>\n",
       "      <td id=\"T_71d1a_row7_col1\" class=\"data row7 col1\" >0</td>\n",
       "      <td id=\"T_71d1a_row7_col2\" class=\"data row7 col2\" >0</td>\n",
       "      <td id=\"T_71d1a_row7_col3\" class=\"data row7 col3\" >nan</td>\n",
       "      <td id=\"T_71d1a_row7_col4\" class=\"data row7 col4\" >nan</td>\n",
       "      <td id=\"T_71d1a_row7_col5\" class=\"data row7 col5\" >0</td>\n",
       "      <td id=\"T_71d1a_row7_col6\" class=\"data row7 col6\" >0</td>\n",
       "      <td id=\"T_71d1a_row7_col7\" class=\"data row7 col7\" >nan</td>\n",
       "      <td id=\"T_71d1a_row7_col8\" class=\"data row7 col8\" >nan</td>\n",
       "    </tr>\n",
       "    <tr>\n",
       "      <th id=\"T_71d1a_level0_row8\" class=\"row_heading level0 row8\" >2023-W28</th>\n",
       "      <td id=\"T_71d1a_row8_col0\" class=\"data row8 col0\" >0</td>\n",
       "      <td id=\"T_71d1a_row8_col1\" class=\"data row8 col1\" >0</td>\n",
       "      <td id=\"T_71d1a_row8_col2\" class=\"data row8 col2\" >0</td>\n",
       "      <td id=\"T_71d1a_row8_col3\" class=\"data row8 col3\" >nan</td>\n",
       "      <td id=\"T_71d1a_row8_col4\" class=\"data row8 col4\" >nan</td>\n",
       "      <td id=\"T_71d1a_row8_col5\" class=\"data row8 col5\" >0</td>\n",
       "      <td id=\"T_71d1a_row8_col6\" class=\"data row8 col6\" >0</td>\n",
       "      <td id=\"T_71d1a_row8_col7\" class=\"data row8 col7\" >nan</td>\n",
       "      <td id=\"T_71d1a_row8_col8\" class=\"data row8 col8\" >nan</td>\n",
       "    </tr>\n",
       "    <tr>\n",
       "      <th id=\"T_71d1a_level0_row9\" class=\"row_heading level0 row9\" >2023-W29</th>\n",
       "      <td id=\"T_71d1a_row9_col0\" class=\"data row9 col0\" >2</td>\n",
       "      <td id=\"T_71d1a_row9_col1\" class=\"data row9 col1\" >5</td>\n",
       "      <td id=\"T_71d1a_row9_col2\" class=\"data row9 col2\" >3</td>\n",
       "      <td id=\"T_71d1a_row9_col3\" class=\"data row9 col3\" >2.50</td>\n",
       "      <td id=\"T_71d1a_row9_col4\" class=\"data row9 col4\" >1.67</td>\n",
       "      <td id=\"T_71d1a_row9_col5\" class=\"data row9 col5\" >19</td>\n",
       "      <td id=\"T_71d1a_row9_col6\" class=\"data row9 col6\" >10</td>\n",
       "      <td id=\"T_71d1a_row9_col7\" class=\"data row9 col7\" >9.50</td>\n",
       "      <td id=\"T_71d1a_row9_col8\" class=\"data row9 col8\" >1.90</td>\n",
       "    </tr>\n",
       "  </tbody>\n",
       "</table>\n"
      ],
      "text/plain": [
       "<pandas.io.formats.style.Styler at 0x7fdf590a6690>"
      ]
     },
     "execution_count": 7,
     "metadata": {},
     "output_type": "execute_result"
    }
   ],
   "source": [
    "sdd = defaultdict(list)\n",
    "\n",
    "for dftrain, dftest, t, openproposals in cvtt_open(to_microsoft(dfv), SPLITS_FREQ, dfp.reset_index(), remove_not_in_train_col='userID', normalize=SPLITS_NORMALIZE):\n",
    "    dftrain_filter = dftrain[dftrain['itemID'].isin(openproposals)]\n",
    "    \n",
    "    sdd['fold'].append(t)\n",
    "    sdd['open proposals'].append(len(openproposals))\n",
    "    \n",
    "    sdd['proposals in train'].append(dftrain['itemID'].nunique())\n",
    "    sdd['votes in train'].append(len(dftrain))\n",
    "    sdd['votes in open proposals (train)'].append(len(dftrain_filter))\n",
    "    sdd['users in open proposals (train)'].append(dftrain_filter['userID'].nunique())\n",
    "    sdd['votes in test'].append(len(dftest))\n",
    "    sdd['users in train'].append(dftrain['userID'].nunique())\n",
    "    sdd['users in test'].append(dftest['userID'].nunique())\n",
    "\n",
    "sdf_all = pd.DataFrame(sdd).set_index('fold')\n",
    "sdf_all['vpp in open proposals (train)'] = sdf_all['votes in open proposals (train)'] / sdf_all['open proposals']\n",
    "sdf_all['vpu in open proposals (train)'] = sdf_all['votes in open proposals (train)'] / sdf_all['users in open proposals (train)']\n",
    "sdf_all['vpp test'] = sdf_all['votes in test'] / sdf_all['open proposals']\n",
    "sdf_all['vpu test'] = sdf_all['votes in test'] / sdf_all['users in test']\n",
    "paths.save_folds_info(sdf_all, ORG_NAME, SPLITS_FREQ, SPLITS_NORMALIZE)\n",
    "sdf = sdf_all.tail(LAST_FOLDS)\n",
    "print(sdf['votes in train'])\n",
    "_style = sdf[['open proposals', 'votes in open proposals (train)', 'users in open proposals (train)', 'vpp in open proposals (train)', 'vpu in open proposals (train)', 'votes in test', 'users in test', 'vpp test', 'vpu test']].style\n",
    "_style = _style.format_index('{:%G-W%V}').format(precision=2)\n",
    "_style"
   ]
  },
  {
   "cell_type": "code",
   "execution_count": 8,
   "id": "a40a9c1a",
   "metadata": {
    "execution": {
     "iopub.execute_input": "2024-09-05T09:44:58.435322Z",
     "iopub.status.busy": "2024-09-05T09:44:58.435072Z",
     "iopub.status.idle": "2024-09-05T09:44:58.445797Z",
     "shell.execute_reply": "2024-09-05T09:44:58.445369Z"
    },
    "papermill": {
     "duration": 0.014322,
     "end_time": "2024-09-05T09:44:58.446470",
     "exception": false,
     "start_time": "2024-09-05T09:44:58.432148",
     "status": "completed"
    },
    "tags": []
   },
   "outputs": [
    {
     "name": "stdout",
     "output_type": "stream",
     "text": [
      "\\begin{tabular}{lrrrrrrrrr}\n",
      " & \\textbf{open proposals} & \\textbf{votes in open proposals (train)} & \\textbf{users in open proposals (train)} & \\textbf{vpp in open proposals (train)} & \\textbf{vpu in open proposals (train)} & \\textbf{votes in test} & \\textbf{users in test} & \\textbf{vpp test} & \\textbf{vpu test} \\\\\n",
      "fold &  &  &  &  &  &  &  &  &  \\\\\n",
      "2023-W25 & 10 & 87 & 11 & 8.70 & 7.91 & 15 & 5 & 1.50 & 3.00 \\\\\n",
      "2023-W25 & 0 & 0 & 0 & nan & nan & 0 & 0 & nan & nan \\\\\n",
      "2023-W26 & 0 & 0 & 0 & nan & nan & 0 & 0 & nan & nan \\\\\n",
      "2023-W26 & 11 & 99 & 12 & 9.00 & 8.25 & 0 & 0 & 0.00 & nan \\\\\n",
      "2023-W26 & 0 & 0 & 0 & nan & nan & 0 & 0 & nan & nan \\\\\n",
      "2023-W27 & 12 & 73 & 10 & 6.08 & 7.30 & 16 & 5 & 1.33 & 3.20 \\\\\n",
      "2023-W27 & 0 & 0 & 0 & nan & nan & 0 & 0 & nan & nan \\\\\n",
      "2023-W28 & 0 & 0 & 0 & nan & nan & 0 & 0 & nan & nan \\\\\n",
      "2023-W28 & 0 & 0 & 0 & nan & nan & 0 & 0 & nan & nan \\\\\n",
      "2023-W29 & 2 & 5 & 3 & 2.50 & 1.67 & 19 & 10 & 9.50 & 1.90 \\\\\n",
      "\\end{tabular}\n",
      "\n"
     ]
    }
   ],
   "source": [
    "print(_style\n",
    "  .format_index(\"\\\\textbf{{{}}}\", escape=\"latex\", axis=1)\n",
    "  .to_latex()\n",
    ")"
   ]
  },
  {
   "cell_type": "markdown",
   "id": "a6186f96",
   "metadata": {
    "papermill": {
     "duration": 0.002042,
     "end_time": "2024-09-05T09:44:58.450556",
     "exception": false,
     "start_time": "2024-09-05T09:44:58.448514",
     "status": "completed"
    },
    "tags": []
   },
   "source": [
    "## Running openpop baseline"
   ]
  },
  {
   "cell_type": "code",
   "execution_count": 9,
   "id": "40fb59d7",
   "metadata": {
    "execution": {
     "iopub.execute_input": "2024-09-05T09:44:58.454955Z",
     "iopub.status.busy": "2024-09-05T09:44:58.454860Z",
     "iopub.status.idle": "2024-09-05T09:45:55.474385Z",
     "shell.execute_reply": "2024-09-05T09:45:55.474140Z"
    },
    "papermill": {
     "duration": 57.022601,
     "end_time": "2024-09-05T09:45:55.475080",
     "exception": false,
     "start_time": "2024-09-05T09:44:58.452479",
     "status": "completed"
    },
    "tags": []
   },
   "outputs": [
    {
     "data": {
      "application/vnd.jupyter.widget-view+json": {
       "model_id": "6142c324417041a885334d25d433ddcd",
       "version_major": 2,
       "version_minor": 0
      },
      "text/plain": [
       "  0%|          | 0/283 [00:00<?, ?it/s]"
      ]
     },
     "metadata": {},
     "output_type": "display_data"
    },
    {
     "name": "stderr",
     "output_type": "stream",
     "text": [
      "Warning, empty test fold 0 (2021-03-23 00:00:00), all ok since 0 folds ago\n"
     ]
    },
    {
     "name": "stderr",
     "output_type": "stream",
     "text": [
      "Warning, empty test fold 2 (2021-03-29 00:00:00), all ok since 2 folds ago\n",
      "Warning, test fold 3 (2021-04-01 00:00:00) with less than 5 open proposals (3). all ok since 1 folds ago\n"
     ]
    },
    {
     "name": "stderr",
     "output_type": "stream",
     "text": [
      "Warning, empty test fold 4 (2021-04-04 00:00:00), all ok since 2 folds ago\n"
     ]
    },
    {
     "name": "stderr",
     "output_type": "stream",
     "text": [
      "Warning, test fold 6 (2021-04-10 00:00:00) with less than 5 open proposals (1). all ok since 2 folds ago\n"
     ]
    },
    {
     "name": "stderr",
     "output_type": "stream",
     "text": [
      "Warning, test fold 7 (2021-04-13 00:00:00) with less than 5 open proposals (3). all ok since 1 folds ago\n"
     ]
    },
    {
     "name": "stderr",
     "output_type": "stream",
     "text": [
      "Warning, test fold 8 (2021-04-16 00:00:00) with less than 5 open proposals (1). all ok since 1 folds ago\n"
     ]
    },
    {
     "name": "stderr",
     "output_type": "stream",
     "text": [
      "Warning, empty test fold 9 (2021-04-19 00:00:00), all ok since 5 folds ago\n"
     ]
    },
    {
     "name": "stderr",
     "output_type": "stream",
     "text": [
      "Warning, empty test fold 11 (2021-04-25 00:00:00), all ok since 2 folds ago\n"
     ]
    },
    {
     "name": "stderr",
     "output_type": "stream",
     "text": [
      "Warning, empty test fold 13 (2021-05-01 00:00:00), all ok since 2 folds ago\n"
     ]
    },
    {
     "name": "stderr",
     "output_type": "stream",
     "text": [
      "Warning, empty test fold 15 (2021-05-07 00:00:00), all ok since 2 folds ago\n",
      "Warning, empty test fold 16 (2021-05-10 00:00:00), all ok since 1 folds ago\n"
     ]
    },
    {
     "name": "stderr",
     "output_type": "stream",
     "text": [
      "Warning, empty test fold 18 (2021-05-16 00:00:00), all ok since 2 folds ago\n"
     ]
    },
    {
     "name": "stderr",
     "output_type": "stream",
     "text": [
      "Warning, empty test fold 20 (2021-05-22 00:00:00), all ok since 2 folds ago\n"
     ]
    },
    {
     "name": "stderr",
     "output_type": "stream",
     "text": [
      "Warning, test fold 22 (2021-05-28 00:00:00) with less than 5 open proposals (4). all ok since 2 folds ago\n"
     ]
    },
    {
     "name": "stderr",
     "output_type": "stream",
     "text": [
      "Warning, empty test fold 23 (2021-05-31 00:00:00), all ok since 3 folds ago\n"
     ]
    },
    {
     "name": "stderr",
     "output_type": "stream",
     "text": [
      "Warning, empty test fold 25 (2021-06-06 00:00:00), all ok since 2 folds ago\n"
     ]
    },
    {
     "name": "stderr",
     "output_type": "stream",
     "text": [
      "Warning, empty test fold 27 (2021-06-12 00:00:00), all ok since 2 folds ago\n"
     ]
    },
    {
     "name": "stderr",
     "output_type": "stream",
     "text": [
      "Warning, empty test fold 29 (2021-06-18 00:00:00), all ok since 2 folds ago\n",
      "Warning, empty test fold 30 (2021-06-21 00:00:00), all ok since 1 folds ago\n"
     ]
    },
    {
     "name": "stderr",
     "output_type": "stream",
     "text": [
      "Warning, empty test fold 32 (2021-06-27 00:00:00), all ok since 2 folds ago\n"
     ]
    },
    {
     "name": "stderr",
     "output_type": "stream",
     "text": [
      "Warning, empty test fold 34 (2021-07-03 00:00:00), all ok since 2 folds ago\n"
     ]
    },
    {
     "name": "stderr",
     "output_type": "stream",
     "text": [
      "Warning, empty test fold 36 (2021-07-09 00:00:00), all ok since 2 folds ago\n",
      "Warning, test fold 37 (2021-07-12 00:00:00) with less than 5 open proposals (1). all ok since 1 folds ago\n"
     ]
    },
    {
     "name": "stderr",
     "output_type": "stream",
     "text": [
      "Warning, empty test fold 39 (2021-07-18 00:00:00), all ok since 3 folds ago\n"
     ]
    },
    {
     "name": "stderr",
     "output_type": "stream",
     "text": [
      "Warning, empty test fold 41 (2021-07-24 00:00:00), all ok since 2 folds ago\n"
     ]
    },
    {
     "name": "stderr",
     "output_type": "stream",
     "text": [
      "Warning, empty test fold 43 (2021-07-30 00:00:00), all ok since 2 folds ago\n",
      "Warning, empty test fold 44 (2021-08-02 00:00:00), all ok since 1 folds ago\n"
     ]
    },
    {
     "name": "stderr",
     "output_type": "stream",
     "text": [
      "Warning, empty test fold 46 (2021-08-08 00:00:00), all ok since 2 folds ago\n"
     ]
    },
    {
     "name": "stderr",
     "output_type": "stream",
     "text": [
      "Warning, empty test fold 48 (2021-08-14 00:00:00), all ok since 2 folds ago\n"
     ]
    },
    {
     "name": "stderr",
     "output_type": "stream",
     "text": [
      "Warning, empty test fold 50 (2021-08-20 00:00:00), all ok since 2 folds ago\n"
     ]
    },
    {
     "name": "stderr",
     "output_type": "stream",
     "text": [
      "Warning, test fold 52 (2021-08-26 00:00:00) with less than 5 open proposals (1). all ok since 2 folds ago\n"
     ]
    },
    {
     "name": "stderr",
     "output_type": "stream",
     "text": [
      "Warning, empty test fold 53 (2021-08-29 00:00:00), all ok since 3 folds ago\n",
      "Warning, test fold 54 (2021-09-01 00:00:00) with less than 5 open proposals (3). all ok since 1 folds ago\n"
     ]
    },
    {
     "name": "stderr",
     "output_type": "stream",
     "text": [
      "Warning, empty test fold 55 (2021-09-04 00:00:00), all ok since 2 folds ago\n"
     ]
    },
    {
     "name": "stderr",
     "output_type": "stream",
     "text": [
      "Warning, empty test fold 57 (2021-09-10 00:00:00), all ok since 2 folds ago\n"
     ]
    },
    {
     "name": "stderr",
     "output_type": "stream",
     "text": [
      "Warning, empty test fold 59 (2021-09-16 00:00:00), all ok since 2 folds ago\n",
      "Warning, empty test fold 60 (2021-09-19 00:00:00), all ok since 1 folds ago\n"
     ]
    },
    {
     "name": "stderr",
     "output_type": "stream",
     "text": [
      "Warning, test fold 61 (2021-09-22 00:00:00) with less than 5 open proposals (1). all ok since 1 folds ago\n"
     ]
    },
    {
     "name": "stderr",
     "output_type": "stream",
     "text": [
      "Warning, empty test fold 62 (2021-09-25 00:00:00), all ok since 2 folds ago\n",
      "Warning, empty test fold 63 (2021-09-28 00:00:00), all ok since 1 folds ago\n"
     ]
    },
    {
     "name": "stderr",
     "output_type": "stream",
     "text": [
      "Warning, empty test fold 64 (2021-10-01 00:00:00), all ok since 1 folds ago\n",
      "Warning, test fold 65 (2021-10-04 00:00:00) with less than 5 open proposals (3). all ok since 1 folds ago\n"
     ]
    },
    {
     "name": "stderr",
     "output_type": "stream",
     "text": [
      "Warning, empty test fold 66 (2021-10-07 00:00:00), all ok since 2 folds ago\n",
      "Warning, empty test fold 67 (2021-10-10 00:00:00), all ok since 1 folds ago\n"
     ]
    },
    {
     "name": "stderr",
     "output_type": "stream",
     "text": [
      "Warning, empty test fold 69 (2021-10-16 00:00:00), all ok since 2 folds ago\n",
      "Warning, test fold 70 (2021-10-19 00:00:00) with less than 5 open proposals (4). all ok since 1 folds ago\n"
     ]
    },
    {
     "name": "stderr",
     "output_type": "stream",
     "text": [
      "Warning, empty test fold 71 (2021-10-22 00:00:00), all ok since 2 folds ago\n",
      "Warning, test fold 72 (2021-10-25 00:00:00) with less than 5 open proposals (2). all ok since 1 folds ago\n"
     ]
    },
    {
     "name": "stderr",
     "output_type": "stream",
     "text": [
      "Warning, empty test fold 73 (2021-10-28 00:00:00), all ok since 2 folds ago\n",
      "Warning, empty test fold 74 (2021-10-31 00:00:00), all ok since 1 folds ago\n"
     ]
    },
    {
     "name": "stderr",
     "output_type": "stream",
     "text": [
      "Warning, test fold 75 (2021-11-03 00:00:00) with less than 5 open proposals (4). all ok since 1 folds ago\n"
     ]
    },
    {
     "name": "stderr",
     "output_type": "stream",
     "text": [
      "Warning, empty test fold 76 (2021-11-06 00:00:00), all ok since 2 folds ago\n",
      "Warning, test fold 77 (2021-11-09 00:00:00) with less than 5 open proposals (2). all ok since 1 folds ago\n"
     ]
    },
    {
     "name": "stderr",
     "output_type": "stream",
     "text": [
      "Warning, empty test fold 78 (2021-11-12 00:00:00), all ok since 2 folds ago\n"
     ]
    },
    {
     "name": "stderr",
     "output_type": "stream",
     "text": [
      "Warning, empty test fold 80 (2021-11-18 00:00:00), all ok since 2 folds ago\n",
      "Warning, empty test fold 81 (2021-11-21 00:00:00), all ok since 1 folds ago\n"
     ]
    },
    {
     "name": "stderr",
     "output_type": "stream",
     "text": [
      "Warning, test fold 82 (2021-11-24 00:00:00) with less than 5 open proposals (2). all ok since 1 folds ago\n"
     ]
    },
    {
     "name": "stderr",
     "output_type": "stream",
     "text": [
      "Warning, empty test fold 83 (2021-11-27 00:00:00), all ok since 2 folds ago\n",
      "Warning, test fold 84 (2021-11-30 00:00:00) with less than 5 open proposals (2). all ok since 1 folds ago\n"
     ]
    },
    {
     "name": "stderr",
     "output_type": "stream",
     "text": [
      "Warning, empty test fold 85 (2021-12-03 00:00:00), all ok since 2 folds ago\n",
      "Warning, test fold 86 (2021-12-06 00:00:00) with less than 5 open proposals (3). all ok since 1 folds ago\n"
     ]
    },
    {
     "name": "stderr",
     "output_type": "stream",
     "text": [
      "Warning, empty test fold 87 (2021-12-09 00:00:00), all ok since 2 folds ago\n",
      "Warning, empty test fold 88 (2021-12-12 00:00:00), all ok since 1 folds ago\n"
     ]
    },
    {
     "name": "stderr",
     "output_type": "stream",
     "text": [
      "Warning, test fold 89 (2021-12-15 00:00:00) with less than 5 open proposals (4). all ok since 1 folds ago\n"
     ]
    },
    {
     "name": "stderr",
     "output_type": "stream",
     "text": [
      "Warning, empty test fold 90 (2021-12-18 00:00:00), all ok since 2 folds ago\n"
     ]
    },
    {
     "name": "stderr",
     "output_type": "stream",
     "text": [
      "Warning, empty test fold 92 (2021-12-24 00:00:00), all ok since 2 folds ago\n"
     ]
    },
    {
     "name": "stderr",
     "output_type": "stream",
     "text": [
      "Warning, empty test fold 94 (2021-12-30 00:00:00), all ok since 2 folds ago\n",
      "Warning, empty test fold 95 (2022-01-02 00:00:00), all ok since 1 folds ago\n"
     ]
    },
    {
     "name": "stderr",
     "output_type": "stream",
     "text": [
      "Warning, empty test fold 97 (2022-01-08 00:00:00), all ok since 2 folds ago\n"
     ]
    },
    {
     "name": "stderr",
     "output_type": "stream",
     "text": [
      "Warning, empty test fold 99 (2022-01-14 00:00:00), all ok since 2 folds ago\n"
     ]
    },
    {
     "name": "stderr",
     "output_type": "stream",
     "text": [
      "Warning, empty test fold 101 (2022-01-20 00:00:00), all ok since 2 folds ago\n",
      "Warning, empty test fold 102 (2022-01-23 00:00:00), all ok since 1 folds ago\n"
     ]
    },
    {
     "name": "stderr",
     "output_type": "stream",
     "text": [
      "Warning, test fold 103 (2022-01-26 00:00:00) with less than 5 open proposals (4). all ok since 1 folds ago\n"
     ]
    },
    {
     "name": "stderr",
     "output_type": "stream",
     "text": [
      "Warning, empty test fold 104 (2022-01-29 00:00:00), all ok since 2 folds ago\n"
     ]
    },
    {
     "name": "stderr",
     "output_type": "stream",
     "text": [
      "Warning, empty test fold 106 (2022-02-04 00:00:00), all ok since 2 folds ago\n"
     ]
    },
    {
     "name": "stderr",
     "output_type": "stream",
     "text": [
      "Warning, empty test fold 108 (2022-02-10 00:00:00), all ok since 2 folds ago\n",
      "Warning, empty test fold 109 (2022-02-13 00:00:00), all ok since 1 folds ago\n"
     ]
    },
    {
     "name": "stderr",
     "output_type": "stream",
     "text": [
      "Warning, empty test fold 111 (2022-02-19 00:00:00), all ok since 2 folds ago\n",
      "Warning, test fold 112 (2022-02-22 00:00:00) with less than 5 open proposals (2). all ok since 1 folds ago\n"
     ]
    },
    {
     "name": "stderr",
     "output_type": "stream",
     "text": [
      "Warning, empty test fold 113 (2022-02-25 00:00:00), all ok since 2 folds ago\n",
      "Warning, test fold 114 (2022-02-28 00:00:00) with less than 5 open proposals (1). all ok since 1 folds ago\n"
     ]
    },
    {
     "name": "stderr",
     "output_type": "stream",
     "text": [
      "Warning, empty test fold 115 (2022-03-03 00:00:00), all ok since 2 folds ago\n",
      "Warning, empty test fold 116 (2022-03-06 00:00:00), all ok since 1 folds ago\n"
     ]
    },
    {
     "name": "stderr",
     "output_type": "stream",
     "text": [
      "Warning, test fold 117 (2022-03-09 00:00:00) with less than 5 open proposals (2). all ok since 1 folds ago\n"
     ]
    },
    {
     "name": "stderr",
     "output_type": "stream",
     "text": [
      "Warning, empty test fold 118 (2022-03-12 00:00:00), all ok since 2 folds ago\n",
      "Warning, test fold 119 (2022-03-15 00:00:00) with less than 5 open proposals (4). all ok since 1 folds ago\n"
     ]
    },
    {
     "name": "stderr",
     "output_type": "stream",
     "text": [
      "Warning, empty test fold 120 (2022-03-18 00:00:00), all ok since 2 folds ago\n",
      "Warning, empty test fold 121 (2022-03-21 00:00:00), all ok since 1 folds ago\n"
     ]
    },
    {
     "name": "stderr",
     "output_type": "stream",
     "text": [
      "Warning, empty test fold 122 (2022-03-24 00:00:00), all ok since 1 folds ago\n",
      "Warning, empty test fold 123 (2022-03-27 00:00:00), all ok since 1 folds ago\n"
     ]
    },
    {
     "name": "stderr",
     "output_type": "stream",
     "text": [
      "Warning, test fold 124 (2022-03-30 00:00:00) with less than 5 open proposals (2). all ok since 1 folds ago\n"
     ]
    },
    {
     "name": "stderr",
     "output_type": "stream",
     "text": [
      "Warning, empty test fold 125 (2022-04-02 00:00:00), all ok since 2 folds ago\n"
     ]
    },
    {
     "name": "stderr",
     "output_type": "stream",
     "text": [
      "Warning, empty test fold 127 (2022-04-08 00:00:00), all ok since 2 folds ago\n",
      "Warning, empty test fold 128 (2022-04-11 00:00:00), all ok since 1 folds ago\n"
     ]
    },
    {
     "name": "stderr",
     "output_type": "stream",
     "text": [
      "Warning, empty test fold 130 (2022-04-17 00:00:00), all ok since 2 folds ago\n",
      "Warning, test fold 131 (2022-04-20 00:00:00) with less than 5 open proposals (3). all ok since 1 folds ago\n"
     ]
    },
    {
     "name": "stderr",
     "output_type": "stream",
     "text": [
      "Warning, empty test fold 132 (2022-04-23 00:00:00), all ok since 2 folds ago\n",
      "Warning, test fold 133 (2022-04-26 00:00:00) with less than 5 open proposals (4). all ok since 1 folds ago\n"
     ]
    },
    {
     "name": "stderr",
     "output_type": "stream",
     "text": [
      "Warning, empty test fold 134 (2022-04-29 00:00:00), all ok since 2 folds ago\n"
     ]
    },
    {
     "name": "stderr",
     "output_type": "stream",
     "text": [
      "Warning, empty test fold 136 (2022-05-05 00:00:00), all ok since 2 folds ago\n",
      "Warning, test fold 137 (2022-05-08 00:00:00) with less than 5 open proposals (2). all ok since 1 folds ago\n"
     ]
    },
    {
     "name": "stderr",
     "output_type": "stream",
     "text": [
      "Warning, empty test fold 139 (2022-05-14 00:00:00), all ok since 3 folds ago\n",
      "Warning, test fold 140 (2022-05-17 00:00:00) with less than 5 open proposals (1). all ok since 1 folds ago\n"
     ]
    },
    {
     "name": "stderr",
     "output_type": "stream",
     "text": [
      "Warning, empty test fold 141 (2022-05-20 00:00:00), all ok since 2 folds ago\n",
      "Warning, test fold 142 (2022-05-23 00:00:00) with less than 5 open proposals (1). all ok since 1 folds ago\n"
     ]
    },
    {
     "name": "stderr",
     "output_type": "stream",
     "text": [
      "Warning, test fold 143 (2022-05-26 00:00:00) with less than 5 open proposals (1). all ok since 1 folds ago\n"
     ]
    },
    {
     "name": "stderr",
     "output_type": "stream",
     "text": [
      "Warning, empty test fold 144 (2022-05-29 00:00:00), all ok since 3 folds ago\n",
      "Warning, test fold 145 (2022-06-01 00:00:00) with less than 5 open proposals (3). all ok since 1 folds ago\n"
     ]
    },
    {
     "name": "stderr",
     "output_type": "stream",
     "text": [
      "Warning, empty test fold 146 (2022-06-04 00:00:00), all ok since 2 folds ago\n",
      "Warning, test fold 147 (2022-06-07 00:00:00) with less than 5 open proposals (1). all ok since 1 folds ago\n"
     ]
    },
    {
     "name": "stderr",
     "output_type": "stream",
     "text": [
      "Warning, empty test fold 148 (2022-06-10 00:00:00), all ok since 2 folds ago\n",
      "Warning, test fold 149 (2022-06-13 00:00:00) with less than 5 open proposals (2). all ok since 1 folds ago\n"
     ]
    },
    {
     "name": "stderr",
     "output_type": "stream",
     "text": [
      "Warning, empty test fold 150 (2022-06-16 00:00:00), all ok since 2 folds ago\n",
      "Warning, empty test fold 151 (2022-06-19 00:00:00), all ok since 1 folds ago\n"
     ]
    },
    {
     "name": "stderr",
     "output_type": "stream",
     "text": [
      "Warning, empty test fold 153 (2022-06-25 00:00:00), all ok since 2 folds ago\n",
      "Warning, test fold 154 (2022-06-28 00:00:00) with less than 5 open proposals (3). all ok since 1 folds ago\n"
     ]
    },
    {
     "name": "stderr",
     "output_type": "stream",
     "text": [
      "Warning, empty test fold 155 (2022-07-01 00:00:00), all ok since 2 folds ago\n",
      "Warning, test fold 156 (2022-07-04 00:00:00) with less than 5 open proposals (3). all ok since 1 folds ago\n"
     ]
    },
    {
     "name": "stderr",
     "output_type": "stream",
     "text": [
      "Warning, empty test fold 157 (2022-07-07 00:00:00), all ok since 2 folds ago\n",
      "Warning, empty test fold 158 (2022-07-10 00:00:00), all ok since 1 folds ago\n"
     ]
    },
    {
     "name": "stderr",
     "output_type": "stream",
     "text": [
      "Warning, test fold 159 (2022-07-13 00:00:00) with less than 5 open proposals (2). all ok since 1 folds ago\n"
     ]
    },
    {
     "name": "stderr",
     "output_type": "stream",
     "text": [
      "Warning, empty test fold 160 (2022-07-16 00:00:00), all ok since 2 folds ago\n",
      "Warning, test fold 161 (2022-07-19 00:00:00) with less than 5 open proposals (3). all ok since 1 folds ago\n"
     ]
    },
    {
     "name": "stderr",
     "output_type": "stream",
     "text": [
      "Warning, empty test fold 162 (2022-07-22 00:00:00), all ok since 2 folds ago\n",
      "Warning, test fold 163 (2022-07-25 00:00:00) with less than 5 open proposals (1). all ok since 1 folds ago\n"
     ]
    },
    {
     "name": "stderr",
     "output_type": "stream",
     "text": [
      "Warning, empty test fold 164 (2022-07-28 00:00:00), all ok since 2 folds ago\n",
      "Warning, empty test fold 165 (2022-07-31 00:00:00), all ok since 1 folds ago\n"
     ]
    },
    {
     "name": "stderr",
     "output_type": "stream",
     "text": [
      "Warning, empty test fold 167 (2022-08-06 00:00:00), all ok since 2 folds ago\n",
      "Warning, test fold 168 (2022-08-09 00:00:00) with less than 5 open proposals (2). all ok since 1 folds ago\n"
     ]
    },
    {
     "name": "stderr",
     "output_type": "stream",
     "text": [
      "Warning, test fold 169 (2022-08-12 00:00:00) with less than 5 open proposals (1). all ok since 1 folds ago\n"
     ]
    },
    {
     "name": "stderr",
     "output_type": "stream",
     "text": [
      "Warning, test fold 170 (2022-08-15 00:00:00) with less than 5 open proposals (2). all ok since 1 folds ago\n"
     ]
    },
    {
     "name": "stderr",
     "output_type": "stream",
     "text": [
      "Warning, empty test fold 171 (2022-08-18 00:00:00), all ok since 4 folds ago\n",
      "Warning, empty test fold 172 (2022-08-21 00:00:00), all ok since 1 folds ago\n"
     ]
    },
    {
     "name": "stderr",
     "output_type": "stream",
     "text": [
      "Warning, empty test fold 173 (2022-08-24 00:00:00), all ok since 1 folds ago\n",
      "Warning, empty test fold 174 (2022-08-27 00:00:00), all ok since 1 folds ago\n"
     ]
    },
    {
     "name": "stderr",
     "output_type": "stream",
     "text": [
      "Warning, test fold 175 (2022-08-30 00:00:00) with less than 5 open proposals (1). all ok since 1 folds ago\n"
     ]
    },
    {
     "name": "stderr",
     "output_type": "stream",
     "text": [
      "Warning, empty test fold 176 (2022-09-02 00:00:00), all ok since 2 folds ago\n",
      "Warning, test fold 177 (2022-09-05 00:00:00) with less than 5 open proposals (3). all ok since 1 folds ago\n"
     ]
    },
    {
     "name": "stderr",
     "output_type": "stream",
     "text": [
      "Warning, empty test fold 178 (2022-09-08 00:00:00), all ok since 2 folds ago\n",
      "Warning, empty test fold 179 (2022-09-11 00:00:00), all ok since 1 folds ago\n"
     ]
    },
    {
     "name": "stderr",
     "output_type": "stream",
     "text": [
      "Warning, empty test fold 180 (2022-09-14 00:00:00), all ok since 1 folds ago\n",
      "Warning, empty test fold 181 (2022-09-17 00:00:00), all ok since 1 folds ago\n"
     ]
    },
    {
     "name": "stderr",
     "output_type": "stream",
     "text": [
      "Warning, empty test fold 182 (2022-09-20 00:00:00), all ok since 1 folds ago\n",
      "Warning, empty test fold 183 (2022-09-23 00:00:00), all ok since 1 folds ago\n"
     ]
    },
    {
     "name": "stderr",
     "output_type": "stream",
     "text": [
      "Warning, test fold 184 (2022-09-26 00:00:00) with less than 5 open proposals (1). all ok since 1 folds ago\n"
     ]
    },
    {
     "name": "stderr",
     "output_type": "stream",
     "text": [
      "Warning, empty test fold 185 (2022-09-29 00:00:00), all ok since 2 folds ago\n",
      "Warning, empty test fold 186 (2022-10-02 00:00:00), all ok since 1 folds ago\n"
     ]
    },
    {
     "name": "stderr",
     "output_type": "stream",
     "text": [
      "Warning, empty test fold 187 (2022-10-05 00:00:00), all ok since 1 folds ago\n",
      "Warning, empty test fold 188 (2022-10-08 00:00:00), all ok since 1 folds ago\n"
     ]
    },
    {
     "name": "stderr",
     "output_type": "stream",
     "text": [
      "Warning, test fold 189 (2022-10-11 00:00:00) with less than 5 open proposals (1). all ok since 1 folds ago\n"
     ]
    },
    {
     "name": "stderr",
     "output_type": "stream",
     "text": [
      "Warning, empty test fold 190 (2022-10-14 00:00:00), all ok since 2 folds ago\n",
      "Warning, test fold 191 (2022-10-17 00:00:00) with less than 5 open proposals (1). all ok since 1 folds ago\n"
     ]
    },
    {
     "name": "stderr",
     "output_type": "stream",
     "text": [
      "Warning, empty test fold 192 (2022-10-20 00:00:00), all ok since 2 folds ago\n",
      "Warning, empty test fold 193 (2022-10-23 00:00:00), all ok since 1 folds ago\n"
     ]
    },
    {
     "name": "stderr",
     "output_type": "stream",
     "text": [
      "Warning, empty test fold 194 (2022-10-26 00:00:00), all ok since 1 folds ago\n",
      "Warning, empty test fold 195 (2022-10-29 00:00:00), all ok since 1 folds ago\n"
     ]
    },
    {
     "name": "stderr",
     "output_type": "stream",
     "text": [
      "Warning, empty test fold 196 (2022-11-01 00:00:00), all ok since 1 folds ago\n",
      "Warning, empty test fold 197 (2022-11-04 00:00:00), all ok since 1 folds ago\n"
     ]
    },
    {
     "name": "stderr",
     "output_type": "stream",
     "text": [
      "Warning, empty test fold 198 (2022-11-07 00:00:00), all ok since 1 folds ago\n",
      "Warning, empty test fold 199 (2022-11-10 00:00:00), all ok since 1 folds ago\n"
     ]
    },
    {
     "name": "stderr",
     "output_type": "stream",
     "text": [
      "Warning, empty test fold 200 (2022-11-13 00:00:00), all ok since 1 folds ago\n",
      "Warning, test fold 201 (2022-11-16 00:00:00) with less than 5 open proposals (1). all ok since 1 folds ago\n"
     ]
    },
    {
     "name": "stderr",
     "output_type": "stream",
     "text": [
      "Warning, empty test fold 202 (2022-11-19 00:00:00), all ok since 2 folds ago\n",
      "Warning, empty test fold 203 (2022-11-22 00:00:00), all ok since 1 folds ago\n"
     ]
    },
    {
     "name": "stderr",
     "output_type": "stream",
     "text": [
      "Warning, empty test fold 204 (2022-11-25 00:00:00), all ok since 1 folds ago\n",
      "Warning, empty test fold 205 (2022-11-28 00:00:00), all ok since 1 folds ago\n"
     ]
    },
    {
     "name": "stderr",
     "output_type": "stream",
     "text": [
      "Warning, empty test fold 206 (2022-12-01 00:00:00), all ok since 1 folds ago\n",
      "Warning, empty test fold 207 (2022-12-04 00:00:00), all ok since 1 folds ago\n"
     ]
    },
    {
     "name": "stderr",
     "output_type": "stream",
     "text": [
      "Warning, empty test fold 208 (2022-12-07 00:00:00), all ok since 1 folds ago\n",
      "Warning, empty test fold 209 (2022-12-10 00:00:00), all ok since 1 folds ago\n"
     ]
    },
    {
     "name": "stderr",
     "output_type": "stream",
     "text": [
      "Warning, empty test fold 210 (2022-12-13 00:00:00), all ok since 1 folds ago\n",
      "Warning, test fold 211 (2022-12-16 00:00:00) with less than 5 open proposals (1). all ok since 1 folds ago\n"
     ]
    },
    {
     "name": "stderr",
     "output_type": "stream",
     "text": [
      "Warning, empty test fold 212 (2022-12-19 00:00:00), all ok since 2 folds ago\n",
      "Warning, empty test fold 213 (2022-12-22 00:00:00), all ok since 1 folds ago\n"
     ]
    },
    {
     "name": "stderr",
     "output_type": "stream",
     "text": [
      "Warning, empty test fold 214 (2022-12-25 00:00:00), all ok since 1 folds ago\n",
      "Warning, empty test fold 215 (2022-12-28 00:00:00), all ok since 1 folds ago\n"
     ]
    },
    {
     "name": "stderr",
     "output_type": "stream",
     "text": [
      "Warning, empty test fold 216 (2022-12-31 00:00:00), all ok since 1 folds ago\n",
      "Warning, empty test fold 217 (2023-01-03 00:00:00), all ok since 1 folds ago\n"
     ]
    },
    {
     "name": "stderr",
     "output_type": "stream",
     "text": [
      "Warning, empty test fold 218 (2023-01-06 00:00:00), all ok since 1 folds ago\n",
      "Warning, empty test fold 219 (2023-01-09 00:00:00), all ok since 1 folds ago\n"
     ]
    },
    {
     "name": "stderr",
     "output_type": "stream",
     "text": [
      "Warning, empty test fold 220 (2023-01-12 00:00:00), all ok since 1 folds ago\n",
      "Warning, empty test fold 221 (2023-01-15 00:00:00), all ok since 1 folds ago\n"
     ]
    },
    {
     "name": "stderr",
     "output_type": "stream",
     "text": [
      "Warning, empty test fold 222 (2023-01-18 00:00:00), all ok since 1 folds ago\n",
      "Warning, empty test fold 223 (2023-01-21 00:00:00), all ok since 1 folds ago\n"
     ]
    },
    {
     "name": "stderr",
     "output_type": "stream",
     "text": [
      "Warning, empty test fold 224 (2023-01-24 00:00:00), all ok since 1 folds ago\n",
      "Warning, empty test fold 225 (2023-01-27 00:00:00), all ok since 1 folds ago\n"
     ]
    },
    {
     "name": "stderr",
     "output_type": "stream",
     "text": [
      "Warning, empty test fold 226 (2023-01-30 00:00:00), all ok since 1 folds ago\n",
      "Warning, empty test fold 227 (2023-02-02 00:00:00), all ok since 1 folds ago\n"
     ]
    },
    {
     "name": "stderr",
     "output_type": "stream",
     "text": [
      "Warning, empty test fold 228 (2023-02-05 00:00:00), all ok since 1 folds ago\n",
      "Warning, test fold 229 (2023-02-08 00:00:00) with less than 5 open proposals (2). all ok since 1 folds ago\n"
     ]
    },
    {
     "name": "stderr",
     "output_type": "stream",
     "text": [
      "Warning, empty test fold 230 (2023-02-11 00:00:00), all ok since 2 folds ago\n",
      "Warning, empty test fold 231 (2023-02-14 00:00:00), all ok since 1 folds ago\n"
     ]
    },
    {
     "name": "stderr",
     "output_type": "stream",
     "text": [
      "Warning, empty test fold 232 (2023-02-17 00:00:00), all ok since 1 folds ago\n",
      "Warning, empty test fold 233 (2023-02-20 00:00:00), all ok since 1 folds ago\n"
     ]
    },
    {
     "name": "stderr",
     "output_type": "stream",
     "text": [
      "Warning, test fold 234 (2023-02-23 00:00:00) with less than 5 open proposals (1). all ok since 1 folds ago\n"
     ]
    },
    {
     "name": "stderr",
     "output_type": "stream",
     "text": [
      "Warning, empty test fold 235 (2023-02-26 00:00:00), all ok since 2 folds ago\n",
      "Warning, empty test fold 236 (2023-03-01 00:00:00), all ok since 1 folds ago\n"
     ]
    },
    {
     "name": "stderr",
     "output_type": "stream",
     "text": [
      "Warning, empty test fold 237 (2023-03-04 00:00:00), all ok since 1 folds ago\n",
      "Warning, empty test fold 238 (2023-03-07 00:00:00), all ok since 1 folds ago\n"
     ]
    },
    {
     "name": "stderr",
     "output_type": "stream",
     "text": [
      "Warning, empty test fold 239 (2023-03-10 00:00:00), all ok since 1 folds ago\n",
      "Warning, empty test fold 240 (2023-03-13 00:00:00), all ok since 1 folds ago\n"
     ]
    },
    {
     "name": "stderr",
     "output_type": "stream",
     "text": [
      "Warning, empty test fold 241 (2023-03-16 00:00:00), all ok since 1 folds ago\n",
      "Warning, empty test fold 242 (2023-03-19 00:00:00), all ok since 1 folds ago\n"
     ]
    },
    {
     "name": "stderr",
     "output_type": "stream",
     "text": [
      "Warning, empty test fold 243 (2023-03-22 00:00:00), all ok since 1 folds ago\n",
      "Warning, test fold 244 (2023-03-25 00:00:00) with less than 5 open proposals (1). all ok since 1 folds ago\n"
     ]
    },
    {
     "name": "stderr",
     "output_type": "stream",
     "text": [
      "Warning, test fold 245 (2023-03-28 00:00:00) with less than 5 open proposals (1). all ok since 1 folds ago\n"
     ]
    },
    {
     "name": "stderr",
     "output_type": "stream",
     "text": [
      "Warning, empty test fold 246 (2023-03-31 00:00:00), all ok since 3 folds ago\n",
      "Warning, empty test fold 247 (2023-04-03 00:00:00), all ok since 1 folds ago\n"
     ]
    },
    {
     "name": "stderr",
     "output_type": "stream",
     "text": [
      "Warning, empty test fold 248 (2023-04-06 00:00:00), all ok since 1 folds ago\n",
      "Warning, empty test fold 249 (2023-04-09 00:00:00), all ok since 1 folds ago\n"
     ]
    },
    {
     "name": "stderr",
     "output_type": "stream",
     "text": [
      "Warning, empty test fold 250 (2023-04-12 00:00:00), all ok since 1 folds ago\n",
      "Warning, empty test fold 251 (2023-04-15 00:00:00), all ok since 1 folds ago\n"
     ]
    },
    {
     "name": "stderr",
     "output_type": "stream",
     "text": [
      "Warning, test fold 253 (2023-04-21 00:00:00) with less than 5 open proposals (1). all ok since 2 folds ago\n"
     ]
    },
    {
     "name": "stderr",
     "output_type": "stream",
     "text": [
      "Warning, empty test fold 254 (2023-04-24 00:00:00), all ok since 3 folds ago\n",
      "Warning, empty test fold 255 (2023-04-27 00:00:00), all ok since 1 folds ago\n"
     ]
    },
    {
     "name": "stderr",
     "output_type": "stream",
     "text": [
      "Warning, empty test fold 256 (2023-04-30 00:00:00), all ok since 1 folds ago\n",
      "Warning, empty test fold 257 (2023-05-03 00:00:00), all ok since 1 folds ago\n"
     ]
    },
    {
     "name": "stderr",
     "output_type": "stream",
     "text": [
      "Warning, empty test fold 258 (2023-05-06 00:00:00), all ok since 1 folds ago\n",
      "Warning, empty test fold 259 (2023-05-09 00:00:00), all ok since 1 folds ago\n"
     ]
    },
    {
     "name": "stderr",
     "output_type": "stream",
     "text": [
      "Warning, empty test fold 260 (2023-05-12 00:00:00), all ok since 1 folds ago\n",
      "Warning, empty test fold 261 (2023-05-15 00:00:00), all ok since 1 folds ago\n"
     ]
    },
    {
     "name": "stderr",
     "output_type": "stream",
     "text": [
      "Warning, test fold 262 (2023-05-18 00:00:00) with less than 5 open proposals (1). all ok since 1 folds ago\n"
     ]
    },
    {
     "name": "stderr",
     "output_type": "stream",
     "text": [
      "Warning, empty test fold 263 (2023-05-21 00:00:00), all ok since 2 folds ago\n",
      "Warning, empty test fold 264 (2023-05-24 00:00:00), all ok since 1 folds ago\n"
     ]
    },
    {
     "name": "stderr",
     "output_type": "stream",
     "text": [
      "Warning, empty test fold 265 (2023-05-27 00:00:00), all ok since 1 folds ago\n",
      "Warning, empty test fold 266 (2023-05-30 00:00:00), all ok since 1 folds ago\n"
     ]
    },
    {
     "name": "stderr",
     "output_type": "stream",
     "text": [
      "Warning, empty test fold 267 (2023-06-02 00:00:00), all ok since 1 folds ago\n"
     ]
    },
    {
     "name": "stderr",
     "output_type": "stream",
     "text": [
      "Warning, empty test fold 269 (2023-06-08 00:00:00), all ok since 2 folds ago\n",
      "Warning, empty test fold 270 (2023-06-11 00:00:00), all ok since 1 folds ago\n"
     ]
    },
    {
     "name": "stderr",
     "output_type": "stream",
     "text": [
      "Warning, empty test fold 272 (2023-06-17 00:00:00), all ok since 2 folds ago\n"
     ]
    },
    {
     "name": "stderr",
     "output_type": "stream",
     "text": [
      "Warning, empty test fold 274 (2023-06-23 00:00:00), all ok since 2 folds ago\n",
      "Warning, empty test fold 275 (2023-06-26 00:00:00), all ok since 1 folds ago\n"
     ]
    },
    {
     "name": "stderr",
     "output_type": "stream",
     "text": [
      "Warning, empty test fold 276 (2023-06-29 00:00:00), all ok since 1 folds ago\n",
      "Warning, empty test fold 277 (2023-07-02 00:00:00), all ok since 1 folds ago\n"
     ]
    },
    {
     "name": "stderr",
     "output_type": "stream",
     "text": [
      "Warning, empty test fold 279 (2023-07-08 00:00:00), all ok since 2 folds ago\n",
      "Warning, empty test fold 280 (2023-07-11 00:00:00), all ok since 1 folds ago\n"
     ]
    },
    {
     "name": "stderr",
     "output_type": "stream",
     "text": [
      "Warning, empty test fold 281 (2023-07-14 00:00:00), all ok since 1 folds ago\n",
      "Warning, test fold 282 (2023-07-17 00:00:00) with less than 5 open proposals (2). all ok since 1 folds ago\n"
     ]
    },
    {
     "name": "stdout",
     "output_type": "stream",
     "text": [
      "Max ok in a row: (5, Timestamp('2021-04-19 00:00:00'))\n"
     ]
    }
   ],
   "source": [
    "WARNING_AT_LEAST_OPEN = 5\n",
    "\n",
    "folds = list(cvtt_open(df, SPLITS_FREQ, dfp, remove_not_in_train_col='userID', normalize=SPLITS_NORMALIZE))\n",
    "metrics = []\n",
    "perfectmetrics = []\n",
    "\n",
    "first_empty = True\n",
    "ok_in_a_row = best_in_a_row = 0\n",
    "max_ok_in_a_row = (-1, folds[-1].end)\n",
    "for i, (train, test, t, open_proposals) in enumerate(tqdm(folds)):   \n",
    "    if first_empty:\n",
    "        if not train.empty:\n",
    "            first_empty = False\n",
    "    else:\n",
    "        assert not train.empty, f\"Train should not be empty on fold {i}\"\n",
    "    if test.empty:\n",
    "        print(f\"Warning, empty test fold {i} ({t}), all ok since {ok_in_a_row} folds ago\", file=sys.stderr)\n",
    "        if ok_in_a_row > max_ok_in_a_row[0]:\n",
    "            max_ok_in_a_row = (ok_in_a_row, t)\n",
    "        ok_in_a_row = best_in_a_row = 0\n",
    "    elif len(open_proposals) < WARNING_AT_LEAST_OPEN:\n",
    "        print(f\"Warning, test fold {i} ({t}) with less than {WARNING_AT_LEAST_OPEN} open proposals ({len(open_proposals)}). all ok since {best_in_a_row} folds ago\", file=sys.stderr)\n",
    "        best_in_a_row = 0\n",
    "\n",
    "    mdict = {'fold': t}\n",
    "    pdict = {'fold': t}\n",
    "    model = OpenPop(train)\n",
    "    recs = model.recommend_k_items(test['userID'].unique(), max(K_RECOMMENDATIONS), recommend_from=open_proposals)\n",
    "    mdict |= calculate_all_metrics(test, recs, K_RECOMMENDATIONS)\n",
    "        # for m, f in metrics_f.items():\n",
    "        #     r = f(test, recs, k=k_recs)\n",
    "        #     metrics[m+f'@{k_recs}'].append(r)\n",
    "    \n",
    "    recs = test.copy()\n",
    "    recs['prediction'] = 1\n",
    "    pdict |= calculate_all_metrics(test, recs, K_RECOMMENDATIONS)\n",
    "\n",
    "        # for m, f in metrics_f.items():\n",
    "        #     # Need relevancy_method=None as they are unsorted\n",
    "        #     r = f(test, recs, k=k_recs)\n",
    "        #     perfectmetrics[m+f'@{k_recs}'].append(r)\n",
    "\n",
    "    metrics.append(mdict)\n",
    "    perfectmetrics.append(pdict)\n",
    "    ok_in_a_row += 1\n",
    "    best_in_a_row += 1\n",
    "\n",
    "paths.save_dao_datum(ORG_NAME, 'max_ok_folds', str(max_ok_in_a_row[0]))\n",
    "paths.save_dao_datum(ORG_NAME, 'max_ok_folds_date', str(max_ok_in_a_row[1]))\n",
    "if max_ok_in_a_row == -1:\n",
    "    print(\"All ok :>\")\n",
    "else:\n",
    "    print(\"Max ok in a row:\", max_ok_in_a_row)"
   ]
  },
  {
   "cell_type": "markdown",
   "id": "5c514611",
   "metadata": {
    "papermill": {
     "duration": 0.006061,
     "end_time": "2024-09-05T09:45:55.487693",
     "exception": false,
     "start_time": "2024-09-05T09:45:55.481632",
     "status": "completed"
    },
    "tags": []
   },
   "source": [
    "### Caching these results"
   ]
  },
  {
   "cell_type": "code",
   "execution_count": 10,
   "id": "e563c836",
   "metadata": {
    "execution": {
     "iopub.execute_input": "2024-09-05T09:45:55.500346Z",
     "iopub.status.busy": "2024-09-05T09:45:55.500210Z",
     "iopub.status.idle": "2024-09-05T09:45:55.527546Z",
     "shell.execute_reply": "2024-09-05T09:45:55.527276Z"
    },
    "papermill": {
     "duration": 0.03448,
     "end_time": "2024-09-05T09:45:55.528175",
     "exception": false,
     "start_time": "2024-09-05T09:45:55.493695",
     "status": "completed"
    },
    "tags": []
   },
   "outputs": [
    {
     "name": "stdout",
     "output_type": "stream",
     "text": [
      "Saved dataframe into /home/daviddavo/recsys4daos/data/output/Bancor/baseline/openpop_3d_normalize.parquet\n"
     ]
    },
    {
     "data": {
      "text/html": [
       "<div>\n",
       "<style scoped>\n",
       "    .dataframe tbody tr th:only-of-type {\n",
       "        vertical-align: middle;\n",
       "    }\n",
       "\n",
       "    .dataframe tbody tr th {\n",
       "        vertical-align: top;\n",
       "    }\n",
       "\n",
       "    .dataframe thead th {\n",
       "        text-align: right;\n",
       "    }\n",
       "</style>\n",
       "<table border=\"1\" class=\"dataframe\">\n",
       "  <thead>\n",
       "    <tr style=\"text-align: right;\">\n",
       "      <th></th>\n",
       "      <th>precision@1</th>\n",
       "      <th>precision@3</th>\n",
       "      <th>precision@5</th>\n",
       "      <th>precision@10</th>\n",
       "      <th>precision@15</th>\n",
       "      <th>precision@100</th>\n",
       "      <th>ndcg@1</th>\n",
       "      <th>ndcg@3</th>\n",
       "      <th>ndcg@5</th>\n",
       "      <th>ndcg@10</th>\n",
       "      <th>...</th>\n",
       "      <th>recall@10</th>\n",
       "      <th>recall@15</th>\n",
       "      <th>recall@100</th>\n",
       "      <th>r-precision@1</th>\n",
       "      <th>r-precision@3</th>\n",
       "      <th>r-precision@5</th>\n",
       "      <th>r-precision@10</th>\n",
       "      <th>r-precision@15</th>\n",
       "      <th>r-precision@100</th>\n",
       "      <th>time_eval</th>\n",
       "    </tr>\n",
       "  </thead>\n",
       "  <tbody>\n",
       "    <tr>\n",
       "      <th>count</th>\n",
       "      <td>283.000000</td>\n",
       "      <td>283.000000</td>\n",
       "      <td>283.000000</td>\n",
       "      <td>283.000000</td>\n",
       "      <td>283.000000</td>\n",
       "      <td>283.000000</td>\n",
       "      <td>283.000000</td>\n",
       "      <td>283.000000</td>\n",
       "      <td>283.000000</td>\n",
       "      <td>283.000000</td>\n",
       "      <td>...</td>\n",
       "      <td>283.000000</td>\n",
       "      <td>283.000000</td>\n",
       "      <td>283.00000</td>\n",
       "      <td>283.000000</td>\n",
       "      <td>283.000000</td>\n",
       "      <td>283.000000</td>\n",
       "      <td>283.000000</td>\n",
       "      <td>283.000000</td>\n",
       "      <td>283.000000</td>\n",
       "      <td>283.000000</td>\n",
       "    </tr>\n",
       "    <tr>\n",
       "      <th>mean</th>\n",
       "      <td>0.293094</td>\n",
       "      <td>0.213172</td>\n",
       "      <td>0.169947</td>\n",
       "      <td>0.106717</td>\n",
       "      <td>0.073611</td>\n",
       "      <td>0.011043</td>\n",
       "      <td>0.293094</td>\n",
       "      <td>0.308529</td>\n",
       "      <td>0.314225</td>\n",
       "      <td>0.320092</td>\n",
       "      <td>...</td>\n",
       "      <td>0.341603</td>\n",
       "      <td>0.346259</td>\n",
       "      <td>0.34629</td>\n",
       "      <td>0.180302</td>\n",
       "      <td>0.263546</td>\n",
       "      <td>0.297080</td>\n",
       "      <td>0.322903</td>\n",
       "      <td>0.325622</td>\n",
       "      <td>0.325622</td>\n",
       "      <td>0.091113</td>\n",
       "    </tr>\n",
       "    <tr>\n",
       "      <th>std</th>\n",
       "      <td>0.418294</td>\n",
       "      <td>0.317710</td>\n",
       "      <td>0.270894</td>\n",
       "      <td>0.182795</td>\n",
       "      <td>0.128636</td>\n",
       "      <td>0.019297</td>\n",
       "      <td>0.418294</td>\n",
       "      <td>0.432724</td>\n",
       "      <td>0.439106</td>\n",
       "      <td>0.444680</td>\n",
       "      <td>...</td>\n",
       "      <td>0.471139</td>\n",
       "      <td>0.476588</td>\n",
       "      <td>0.47663</td>\n",
       "      <td>0.305161</td>\n",
       "      <td>0.390347</td>\n",
       "      <td>0.421095</td>\n",
       "      <td>0.447192</td>\n",
       "      <td>0.450084</td>\n",
       "      <td>0.450084</td>\n",
       "      <td>0.031117</td>\n",
       "    </tr>\n",
       "    <tr>\n",
       "      <th>min</th>\n",
       "      <td>0.000000</td>\n",
       "      <td>0.000000</td>\n",
       "      <td>0.000000</td>\n",
       "      <td>0.000000</td>\n",
       "      <td>0.000000</td>\n",
       "      <td>0.000000</td>\n",
       "      <td>0.000000</td>\n",
       "      <td>0.000000</td>\n",
       "      <td>0.000000</td>\n",
       "      <td>0.000000</td>\n",
       "      <td>...</td>\n",
       "      <td>0.000000</td>\n",
       "      <td>0.000000</td>\n",
       "      <td>0.00000</td>\n",
       "      <td>0.000000</td>\n",
       "      <td>0.000000</td>\n",
       "      <td>0.000000</td>\n",
       "      <td>0.000000</td>\n",
       "      <td>0.000000</td>\n",
       "      <td>0.000000</td>\n",
       "      <td>0.067940</td>\n",
       "    </tr>\n",
       "    <tr>\n",
       "      <th>25%</th>\n",
       "      <td>0.000000</td>\n",
       "      <td>0.000000</td>\n",
       "      <td>0.000000</td>\n",
       "      <td>0.000000</td>\n",
       "      <td>0.000000</td>\n",
       "      <td>0.000000</td>\n",
       "      <td>0.000000</td>\n",
       "      <td>0.000000</td>\n",
       "      <td>0.000000</td>\n",
       "      <td>0.000000</td>\n",
       "      <td>...</td>\n",
       "      <td>0.000000</td>\n",
       "      <td>0.000000</td>\n",
       "      <td>0.00000</td>\n",
       "      <td>0.000000</td>\n",
       "      <td>0.000000</td>\n",
       "      <td>0.000000</td>\n",
       "      <td>0.000000</td>\n",
       "      <td>0.000000</td>\n",
       "      <td>0.000000</td>\n",
       "      <td>0.069533</td>\n",
       "    </tr>\n",
       "    <tr>\n",
       "      <th>50%</th>\n",
       "      <td>0.000000</td>\n",
       "      <td>0.000000</td>\n",
       "      <td>0.000000</td>\n",
       "      <td>0.000000</td>\n",
       "      <td>0.000000</td>\n",
       "      <td>0.000000</td>\n",
       "      <td>0.000000</td>\n",
       "      <td>0.000000</td>\n",
       "      <td>0.000000</td>\n",
       "      <td>0.000000</td>\n",
       "      <td>...</td>\n",
       "      <td>0.000000</td>\n",
       "      <td>0.000000</td>\n",
       "      <td>0.00000</td>\n",
       "      <td>0.000000</td>\n",
       "      <td>0.000000</td>\n",
       "      <td>0.000000</td>\n",
       "      <td>0.000000</td>\n",
       "      <td>0.000000</td>\n",
       "      <td>0.000000</td>\n",
       "      <td>0.070972</td>\n",
       "    </tr>\n",
       "    <tr>\n",
       "      <th>75%</th>\n",
       "      <td>0.792857</td>\n",
       "      <td>0.410145</td>\n",
       "      <td>0.307143</td>\n",
       "      <td>0.158571</td>\n",
       "      <td>0.105714</td>\n",
       "      <td>0.015857</td>\n",
       "      <td>0.792857</td>\n",
       "      <td>0.854757</td>\n",
       "      <td>0.884258</td>\n",
       "      <td>0.903735</td>\n",
       "      <td>...</td>\n",
       "      <td>1.000000</td>\n",
       "      <td>1.000000</td>\n",
       "      <td>1.00000</td>\n",
       "      <td>0.288675</td>\n",
       "      <td>0.552643</td>\n",
       "      <td>0.740267</td>\n",
       "      <td>0.907533</td>\n",
       "      <td>0.909875</td>\n",
       "      <td>0.909875</td>\n",
       "      <td>0.123719</td>\n",
       "    </tr>\n",
       "    <tr>\n",
       "      <th>max</th>\n",
       "      <td>1.000000</td>\n",
       "      <td>0.933333</td>\n",
       "      <td>0.893333</td>\n",
       "      <td>0.795455</td>\n",
       "      <td>0.616667</td>\n",
       "      <td>0.092500</td>\n",
       "      <td>1.000000</td>\n",
       "      <td>1.000000</td>\n",
       "      <td>1.000000</td>\n",
       "      <td>1.000000</td>\n",
       "      <td>...</td>\n",
       "      <td>1.000000</td>\n",
       "      <td>1.000000</td>\n",
       "      <td>1.00000</td>\n",
       "      <td>1.000000</td>\n",
       "      <td>1.000000</td>\n",
       "      <td>1.000000</td>\n",
       "      <td>1.000000</td>\n",
       "      <td>1.000000</td>\n",
       "      <td>1.000000</td>\n",
       "      <td>0.310119</td>\n",
       "    </tr>\n",
       "  </tbody>\n",
       "</table>\n",
       "<p>8 rows × 31 columns</p>\n",
       "</div>"
      ],
      "text/plain": [
       "       precision@1  precision@3  precision@5  precision@10  precision@15  \\\n",
       "count   283.000000   283.000000   283.000000    283.000000    283.000000   \n",
       "mean      0.293094     0.213172     0.169947      0.106717      0.073611   \n",
       "std       0.418294     0.317710     0.270894      0.182795      0.128636   \n",
       "min       0.000000     0.000000     0.000000      0.000000      0.000000   \n",
       "25%       0.000000     0.000000     0.000000      0.000000      0.000000   \n",
       "50%       0.000000     0.000000     0.000000      0.000000      0.000000   \n",
       "75%       0.792857     0.410145     0.307143      0.158571      0.105714   \n",
       "max       1.000000     0.933333     0.893333      0.795455      0.616667   \n",
       "\n",
       "       precision@100      ndcg@1      ndcg@3      ndcg@5     ndcg@10  ...  \\\n",
       "count     283.000000  283.000000  283.000000  283.000000  283.000000  ...   \n",
       "mean        0.011043    0.293094    0.308529    0.314225    0.320092  ...   \n",
       "std         0.019297    0.418294    0.432724    0.439106    0.444680  ...   \n",
       "min         0.000000    0.000000    0.000000    0.000000    0.000000  ...   \n",
       "25%         0.000000    0.000000    0.000000    0.000000    0.000000  ...   \n",
       "50%         0.000000    0.000000    0.000000    0.000000    0.000000  ...   \n",
       "75%         0.015857    0.792857    0.854757    0.884258    0.903735  ...   \n",
       "max         0.092500    1.000000    1.000000    1.000000    1.000000  ...   \n",
       "\n",
       "        recall@10   recall@15  recall@100  r-precision@1  r-precision@3  \\\n",
       "count  283.000000  283.000000   283.00000     283.000000     283.000000   \n",
       "mean     0.341603    0.346259     0.34629       0.180302       0.263546   \n",
       "std      0.471139    0.476588     0.47663       0.305161       0.390347   \n",
       "min      0.000000    0.000000     0.00000       0.000000       0.000000   \n",
       "25%      0.000000    0.000000     0.00000       0.000000       0.000000   \n",
       "50%      0.000000    0.000000     0.00000       0.000000       0.000000   \n",
       "75%      1.000000    1.000000     1.00000       0.288675       0.552643   \n",
       "max      1.000000    1.000000     1.00000       1.000000       1.000000   \n",
       "\n",
       "       r-precision@5  r-precision@10  r-precision@15  r-precision@100  \\\n",
       "count     283.000000      283.000000      283.000000       283.000000   \n",
       "mean        0.297080        0.322903        0.325622         0.325622   \n",
       "std         0.421095        0.447192        0.450084         0.450084   \n",
       "min         0.000000        0.000000        0.000000         0.000000   \n",
       "25%         0.000000        0.000000        0.000000         0.000000   \n",
       "50%         0.000000        0.000000        0.000000         0.000000   \n",
       "75%         0.740267        0.907533        0.909875         0.909875   \n",
       "max         1.000000        1.000000        1.000000         1.000000   \n",
       "\n",
       "        time_eval  \n",
       "count  283.000000  \n",
       "mean     0.091113  \n",
       "std      0.031117  \n",
       "min      0.067940  \n",
       "25%      0.069533  \n",
       "50%      0.070972  \n",
       "75%      0.123719  \n",
       "max      0.310119  \n",
       "\n",
       "[8 rows x 31 columns]"
      ]
     },
     "execution_count": 10,
     "metadata": {},
     "output_type": "execute_result"
    }
   ],
   "source": [
    "odf = pd.DataFrame(metrics).set_index(\"fold\")\n",
    "paths.save_openpop(odf, ORG_NAME, SPLITS_FREQ, SPLITS_NORMALIZE)\n",
    "odf.describe()"
   ]
  },
  {
   "cell_type": "code",
   "execution_count": 11,
   "id": "9def5fe6",
   "metadata": {
    "execution": {
     "iopub.execute_input": "2024-09-05T09:45:55.540833Z",
     "iopub.status.busy": "2024-09-05T09:45:55.540735Z",
     "iopub.status.idle": "2024-09-05T09:45:55.566297Z",
     "shell.execute_reply": "2024-09-05T09:45:55.566107Z"
    },
    "papermill": {
     "duration": 0.032657,
     "end_time": "2024-09-05T09:45:55.566989",
     "exception": false,
     "start_time": "2024-09-05T09:45:55.534332",
     "status": "completed"
    },
    "tags": []
   },
   "outputs": [
    {
     "name": "stdout",
     "output_type": "stream",
     "text": [
      "Saved dataframe into /home/daviddavo/recsys4daos/data/output/Bancor/baseline/perfect_3d_normalize.parquet\n"
     ]
    },
    {
     "data": {
      "text/html": [
       "<div>\n",
       "<style scoped>\n",
       "    .dataframe tbody tr th:only-of-type {\n",
       "        vertical-align: middle;\n",
       "    }\n",
       "\n",
       "    .dataframe tbody tr th {\n",
       "        vertical-align: top;\n",
       "    }\n",
       "\n",
       "    .dataframe thead th {\n",
       "        text-align: right;\n",
       "    }\n",
       "</style>\n",
       "<table border=\"1\" class=\"dataframe\">\n",
       "  <thead>\n",
       "    <tr style=\"text-align: right;\">\n",
       "      <th></th>\n",
       "      <th>precision@1</th>\n",
       "      <th>precision@3</th>\n",
       "      <th>precision@5</th>\n",
       "      <th>precision@10</th>\n",
       "      <th>precision@15</th>\n",
       "      <th>precision@100</th>\n",
       "      <th>ndcg@1</th>\n",
       "      <th>ndcg@3</th>\n",
       "      <th>ndcg@5</th>\n",
       "      <th>ndcg@10</th>\n",
       "      <th>...</th>\n",
       "      <th>recall@10</th>\n",
       "      <th>recall@15</th>\n",
       "      <th>recall@100</th>\n",
       "      <th>r-precision@1</th>\n",
       "      <th>r-precision@3</th>\n",
       "      <th>r-precision@5</th>\n",
       "      <th>r-precision@10</th>\n",
       "      <th>r-precision@15</th>\n",
       "      <th>r-precision@100</th>\n",
       "      <th>time_eval</th>\n",
       "    </tr>\n",
       "  </thead>\n",
       "  <tbody>\n",
       "    <tr>\n",
       "      <th>count</th>\n",
       "      <td>283.000000</td>\n",
       "      <td>283.000000</td>\n",
       "      <td>283.000000</td>\n",
       "      <td>283.000000</td>\n",
       "      <td>283.000000</td>\n",
       "      <td>283.000000</td>\n",
       "      <td>283.000000</td>\n",
       "      <td>283.000000</td>\n",
       "      <td>283.000000</td>\n",
       "      <td>283.000000</td>\n",
       "      <td>...</td>\n",
       "      <td>283.000000</td>\n",
       "      <td>283.000000</td>\n",
       "      <td>283.000000</td>\n",
       "      <td>283.000000</td>\n",
       "      <td>283.000000</td>\n",
       "      <td>283.000000</td>\n",
       "      <td>283.000000</td>\n",
       "      <td>283.000000</td>\n",
       "      <td>283.000000</td>\n",
       "      <td>283.000000</td>\n",
       "    </tr>\n",
       "    <tr>\n",
       "      <th>mean</th>\n",
       "      <td>0.349823</td>\n",
       "      <td>0.232798</td>\n",
       "      <td>0.179391</td>\n",
       "      <td>0.107995</td>\n",
       "      <td>0.073856</td>\n",
       "      <td>0.011078</td>\n",
       "      <td>0.349823</td>\n",
       "      <td>0.349823</td>\n",
       "      <td>0.349823</td>\n",
       "      <td>0.349823</td>\n",
       "      <td>...</td>\n",
       "      <td>0.347659</td>\n",
       "      <td>0.349823</td>\n",
       "      <td>0.349823</td>\n",
       "      <td>0.204521</td>\n",
       "      <td>0.294960</td>\n",
       "      <td>0.326452</td>\n",
       "      <td>0.347659</td>\n",
       "      <td>0.349823</td>\n",
       "      <td>0.349823</td>\n",
       "      <td>0.095281</td>\n",
       "    </tr>\n",
       "    <tr>\n",
       "      <th>std</th>\n",
       "      <td>0.477759</td>\n",
       "      <td>0.344531</td>\n",
       "      <td>0.284809</td>\n",
       "      <td>0.184474</td>\n",
       "      <td>0.128574</td>\n",
       "      <td>0.019286</td>\n",
       "      <td>0.477759</td>\n",
       "      <td>0.477759</td>\n",
       "      <td>0.477759</td>\n",
       "      <td>0.477759</td>\n",
       "      <td>...</td>\n",
       "      <td>0.475017</td>\n",
       "      <td>0.477759</td>\n",
       "      <td>0.477759</td>\n",
       "      <td>0.322247</td>\n",
       "      <td>0.416446</td>\n",
       "      <td>0.449984</td>\n",
       "      <td>0.475017</td>\n",
       "      <td>0.477759</td>\n",
       "      <td>0.477759</td>\n",
       "      <td>0.029485</td>\n",
       "    </tr>\n",
       "    <tr>\n",
       "      <th>min</th>\n",
       "      <td>0.000000</td>\n",
       "      <td>0.000000</td>\n",
       "      <td>0.000000</td>\n",
       "      <td>0.000000</td>\n",
       "      <td>0.000000</td>\n",
       "      <td>0.000000</td>\n",
       "      <td>0.000000</td>\n",
       "      <td>0.000000</td>\n",
       "      <td>0.000000</td>\n",
       "      <td>0.000000</td>\n",
       "      <td>...</td>\n",
       "      <td>0.000000</td>\n",
       "      <td>0.000000</td>\n",
       "      <td>0.000000</td>\n",
       "      <td>0.000000</td>\n",
       "      <td>0.000000</td>\n",
       "      <td>0.000000</td>\n",
       "      <td>0.000000</td>\n",
       "      <td>0.000000</td>\n",
       "      <td>0.000000</td>\n",
       "      <td>0.071955</td>\n",
       "    </tr>\n",
       "    <tr>\n",
       "      <th>25%</th>\n",
       "      <td>0.000000</td>\n",
       "      <td>0.000000</td>\n",
       "      <td>0.000000</td>\n",
       "      <td>0.000000</td>\n",
       "      <td>0.000000</td>\n",
       "      <td>0.000000</td>\n",
       "      <td>0.000000</td>\n",
       "      <td>0.000000</td>\n",
       "      <td>0.000000</td>\n",
       "      <td>0.000000</td>\n",
       "      <td>...</td>\n",
       "      <td>0.000000</td>\n",
       "      <td>0.000000</td>\n",
       "      <td>0.000000</td>\n",
       "      <td>0.000000</td>\n",
       "      <td>0.000000</td>\n",
       "      <td>0.000000</td>\n",
       "      <td>0.000000</td>\n",
       "      <td>0.000000</td>\n",
       "      <td>0.000000</td>\n",
       "      <td>0.073386</td>\n",
       "    </tr>\n",
       "    <tr>\n",
       "      <th>50%</th>\n",
       "      <td>0.000000</td>\n",
       "      <td>0.000000</td>\n",
       "      <td>0.000000</td>\n",
       "      <td>0.000000</td>\n",
       "      <td>0.000000</td>\n",
       "      <td>0.000000</td>\n",
       "      <td>0.000000</td>\n",
       "      <td>0.000000</td>\n",
       "      <td>0.000000</td>\n",
       "      <td>0.000000</td>\n",
       "      <td>...</td>\n",
       "      <td>0.000000</td>\n",
       "      <td>0.000000</td>\n",
       "      <td>0.000000</td>\n",
       "      <td>0.000000</td>\n",
       "      <td>0.000000</td>\n",
       "      <td>0.000000</td>\n",
       "      <td>0.000000</td>\n",
       "      <td>0.000000</td>\n",
       "      <td>0.000000</td>\n",
       "      <td>0.074554</td>\n",
       "    </tr>\n",
       "    <tr>\n",
       "      <th>75%</th>\n",
       "      <td>1.000000</td>\n",
       "      <td>0.528571</td>\n",
       "      <td>0.317143</td>\n",
       "      <td>0.158571</td>\n",
       "      <td>0.105714</td>\n",
       "      <td>0.015857</td>\n",
       "      <td>1.000000</td>\n",
       "      <td>1.000000</td>\n",
       "      <td>1.000000</td>\n",
       "      <td>1.000000</td>\n",
       "      <td>...</td>\n",
       "      <td>1.000000</td>\n",
       "      <td>1.000000</td>\n",
       "      <td>1.000000</td>\n",
       "      <td>0.390598</td>\n",
       "      <td>0.717266</td>\n",
       "      <td>0.894841</td>\n",
       "      <td>1.000000</td>\n",
       "      <td>1.000000</td>\n",
       "      <td>1.000000</td>\n",
       "      <td>0.129697</td>\n",
       "    </tr>\n",
       "    <tr>\n",
       "      <th>max</th>\n",
       "      <td>1.000000</td>\n",
       "      <td>1.000000</td>\n",
       "      <td>0.946667</td>\n",
       "      <td>0.804545</td>\n",
       "      <td>0.616667</td>\n",
       "      <td>0.092500</td>\n",
       "      <td>1.000000</td>\n",
       "      <td>1.000000</td>\n",
       "      <td>1.000000</td>\n",
       "      <td>1.000000</td>\n",
       "      <td>...</td>\n",
       "      <td>1.000000</td>\n",
       "      <td>1.000000</td>\n",
       "      <td>1.000000</td>\n",
       "      <td>1.000000</td>\n",
       "      <td>1.000000</td>\n",
       "      <td>1.000000</td>\n",
       "      <td>1.000000</td>\n",
       "      <td>1.000000</td>\n",
       "      <td>1.000000</td>\n",
       "      <td>0.166540</td>\n",
       "    </tr>\n",
       "  </tbody>\n",
       "</table>\n",
       "<p>8 rows × 31 columns</p>\n",
       "</div>"
      ],
      "text/plain": [
       "       precision@1  precision@3  precision@5  precision@10  precision@15  \\\n",
       "count   283.000000   283.000000   283.000000    283.000000    283.000000   \n",
       "mean      0.349823     0.232798     0.179391      0.107995      0.073856   \n",
       "std       0.477759     0.344531     0.284809      0.184474      0.128574   \n",
       "min       0.000000     0.000000     0.000000      0.000000      0.000000   \n",
       "25%       0.000000     0.000000     0.000000      0.000000      0.000000   \n",
       "50%       0.000000     0.000000     0.000000      0.000000      0.000000   \n",
       "75%       1.000000     0.528571     0.317143      0.158571      0.105714   \n",
       "max       1.000000     1.000000     0.946667      0.804545      0.616667   \n",
       "\n",
       "       precision@100      ndcg@1      ndcg@3      ndcg@5     ndcg@10  ...  \\\n",
       "count     283.000000  283.000000  283.000000  283.000000  283.000000  ...   \n",
       "mean        0.011078    0.349823    0.349823    0.349823    0.349823  ...   \n",
       "std         0.019286    0.477759    0.477759    0.477759    0.477759  ...   \n",
       "min         0.000000    0.000000    0.000000    0.000000    0.000000  ...   \n",
       "25%         0.000000    0.000000    0.000000    0.000000    0.000000  ...   \n",
       "50%         0.000000    0.000000    0.000000    0.000000    0.000000  ...   \n",
       "75%         0.015857    1.000000    1.000000    1.000000    1.000000  ...   \n",
       "max         0.092500    1.000000    1.000000    1.000000    1.000000  ...   \n",
       "\n",
       "        recall@10   recall@15  recall@100  r-precision@1  r-precision@3  \\\n",
       "count  283.000000  283.000000  283.000000     283.000000     283.000000   \n",
       "mean     0.347659    0.349823    0.349823       0.204521       0.294960   \n",
       "std      0.475017    0.477759    0.477759       0.322247       0.416446   \n",
       "min      0.000000    0.000000    0.000000       0.000000       0.000000   \n",
       "25%      0.000000    0.000000    0.000000       0.000000       0.000000   \n",
       "50%      0.000000    0.000000    0.000000       0.000000       0.000000   \n",
       "75%      1.000000    1.000000    1.000000       0.390598       0.717266   \n",
       "max      1.000000    1.000000    1.000000       1.000000       1.000000   \n",
       "\n",
       "       r-precision@5  r-precision@10  r-precision@15  r-precision@100  \\\n",
       "count     283.000000      283.000000      283.000000       283.000000   \n",
       "mean        0.326452        0.347659        0.349823         0.349823   \n",
       "std         0.449984        0.475017        0.477759         0.477759   \n",
       "min         0.000000        0.000000        0.000000         0.000000   \n",
       "25%         0.000000        0.000000        0.000000         0.000000   \n",
       "50%         0.000000        0.000000        0.000000         0.000000   \n",
       "75%         0.894841        1.000000        1.000000         1.000000   \n",
       "max         1.000000        1.000000        1.000000         1.000000   \n",
       "\n",
       "        time_eval  \n",
       "count  283.000000  \n",
       "mean     0.095281  \n",
       "std      0.029485  \n",
       "min      0.071955  \n",
       "25%      0.073386  \n",
       "50%      0.074554  \n",
       "75%      0.129697  \n",
       "max      0.166540  \n",
       "\n",
       "[8 rows x 31 columns]"
      ]
     },
     "metadata": {},
     "output_type": "display_data"
    }
   ],
   "source": [
    "pdf = pd.DataFrame(perfectmetrics).set_index(\"fold\")\n",
    "cols = [ c for c in pdf.columns if not c.startswith('time_') ]\n",
    "paths.save_perfect(pdf, ORG_NAME, SPLITS_FREQ, SPLITS_NORMALIZE)\n",
    "display(pdf.describe())\n",
    "msk = (0 <= pdf[cols].min()) & (pdf[cols].max() <= 1)\n",
    "if not all(msk):\n",
    "    display(pdf.describe()[msk[~msk].index])\n",
    "assert all( msk ), \"There are metrics with wrong range\""
   ]
  },
  {
   "cell_type": "markdown",
   "id": "03b00ebb",
   "metadata": {
    "papermill": {
     "duration": 0.006088,
     "end_time": "2024-09-05T09:45:55.579183",
     "exception": false,
     "start_time": "2024-09-05T09:45:55.573095",
     "status": "completed"
    },
    "tags": []
   },
   "source": [
    "## Plotting some graphs"
   ]
  },
  {
   "cell_type": "code",
   "execution_count": 12,
   "id": "159e0ecc",
   "metadata": {
    "execution": {
     "iopub.execute_input": "2024-09-05T09:45:55.592283Z",
     "iopub.status.busy": "2024-09-05T09:45:55.592155Z",
     "iopub.status.idle": "2024-09-05T09:45:55.730036Z",
     "shell.execute_reply": "2024-09-05T09:45:55.729831Z"
    },
    "papermill": {
     "duration": 0.145236,
     "end_time": "2024-09-05T09:45:55.730647",
     "exception": false,
     "start_time": "2024-09-05T09:45:55.585411",
     "status": "completed"
    },
    "tags": []
   },
   "outputs": [
    {
     "data": {
      "text/html": [
       "<div>\n",
       "<style scoped>\n",
       "    .dataframe tbody tr th:only-of-type {\n",
       "        vertical-align: middle;\n",
       "    }\n",
       "\n",
       "    .dataframe tbody tr th {\n",
       "        vertical-align: top;\n",
       "    }\n",
       "\n",
       "    .dataframe thead th {\n",
       "        text-align: right;\n",
       "    }\n",
       "</style>\n",
       "<table border=\"1\" class=\"dataframe\">\n",
       "  <thead>\n",
       "    <tr style=\"text-align: right;\">\n",
       "      <th></th>\n",
       "      <th>fold</th>\n",
       "      <th>precision@1</th>\n",
       "      <th>precision@3</th>\n",
       "      <th>precision@5</th>\n",
       "      <th>precision@10</th>\n",
       "      <th>precision@15</th>\n",
       "      <th>precision@100</th>\n",
       "      <th>ndcg@1</th>\n",
       "      <th>ndcg@3</th>\n",
       "      <th>ndcg@5</th>\n",
       "      <th>...</th>\n",
       "      <th>recall@100</th>\n",
       "      <th>r-precision@1</th>\n",
       "      <th>r-precision@3</th>\n",
       "      <th>r-precision@5</th>\n",
       "      <th>r-precision@10</th>\n",
       "      <th>r-precision@15</th>\n",
       "      <th>r-precision@100</th>\n",
       "      <th>time_eval</th>\n",
       "      <th>perfect precision@5</th>\n",
       "      <th>perfect precision@10</th>\n",
       "    </tr>\n",
       "  </thead>\n",
       "  <tbody>\n",
       "    <tr>\n",
       "      <th>count</th>\n",
       "      <td>283</td>\n",
       "      <td>283.000000</td>\n",
       "      <td>283.000000</td>\n",
       "      <td>283.000000</td>\n",
       "      <td>283.000000</td>\n",
       "      <td>283.000000</td>\n",
       "      <td>283.000000</td>\n",
       "      <td>283.000000</td>\n",
       "      <td>283.000000</td>\n",
       "      <td>283.000000</td>\n",
       "      <td>...</td>\n",
       "      <td>283.00000</td>\n",
       "      <td>283.000000</td>\n",
       "      <td>283.000000</td>\n",
       "      <td>283.000000</td>\n",
       "      <td>283.000000</td>\n",
       "      <td>283.000000</td>\n",
       "      <td>283.000000</td>\n",
       "      <td>283.000000</td>\n",
       "      <td>0.0</td>\n",
       "      <td>0.0</td>\n",
       "    </tr>\n",
       "    <tr>\n",
       "      <th>mean</th>\n",
       "      <td>2022-05-20 00:00:00</td>\n",
       "      <td>0.293094</td>\n",
       "      <td>0.213172</td>\n",
       "      <td>0.169947</td>\n",
       "      <td>0.106717</td>\n",
       "      <td>0.073611</td>\n",
       "      <td>0.011043</td>\n",
       "      <td>0.293094</td>\n",
       "      <td>0.308529</td>\n",
       "      <td>0.314225</td>\n",
       "      <td>...</td>\n",
       "      <td>0.34629</td>\n",
       "      <td>0.180302</td>\n",
       "      <td>0.263546</td>\n",
       "      <td>0.297080</td>\n",
       "      <td>0.322903</td>\n",
       "      <td>0.325622</td>\n",
       "      <td>0.325622</td>\n",
       "      <td>0.091113</td>\n",
       "      <td>NaN</td>\n",
       "      <td>NaN</td>\n",
       "    </tr>\n",
       "    <tr>\n",
       "      <th>min</th>\n",
       "      <td>2021-03-23 00:00:00</td>\n",
       "      <td>0.000000</td>\n",
       "      <td>0.000000</td>\n",
       "      <td>0.000000</td>\n",
       "      <td>0.000000</td>\n",
       "      <td>0.000000</td>\n",
       "      <td>0.000000</td>\n",
       "      <td>0.000000</td>\n",
       "      <td>0.000000</td>\n",
       "      <td>0.000000</td>\n",
       "      <td>...</td>\n",
       "      <td>0.00000</td>\n",
       "      <td>0.000000</td>\n",
       "      <td>0.000000</td>\n",
       "      <td>0.000000</td>\n",
       "      <td>0.000000</td>\n",
       "      <td>0.000000</td>\n",
       "      <td>0.000000</td>\n",
       "      <td>0.067940</td>\n",
       "      <td>NaN</td>\n",
       "      <td>NaN</td>\n",
       "    </tr>\n",
       "    <tr>\n",
       "      <th>25%</th>\n",
       "      <td>2021-10-20 12:00:00</td>\n",
       "      <td>0.000000</td>\n",
       "      <td>0.000000</td>\n",
       "      <td>0.000000</td>\n",
       "      <td>0.000000</td>\n",
       "      <td>0.000000</td>\n",
       "      <td>0.000000</td>\n",
       "      <td>0.000000</td>\n",
       "      <td>0.000000</td>\n",
       "      <td>0.000000</td>\n",
       "      <td>...</td>\n",
       "      <td>0.00000</td>\n",
       "      <td>0.000000</td>\n",
       "      <td>0.000000</td>\n",
       "      <td>0.000000</td>\n",
       "      <td>0.000000</td>\n",
       "      <td>0.000000</td>\n",
       "      <td>0.000000</td>\n",
       "      <td>0.069533</td>\n",
       "      <td>NaN</td>\n",
       "      <td>NaN</td>\n",
       "    </tr>\n",
       "    <tr>\n",
       "      <th>50%</th>\n",
       "      <td>2022-05-20 00:00:00</td>\n",
       "      <td>0.000000</td>\n",
       "      <td>0.000000</td>\n",
       "      <td>0.000000</td>\n",
       "      <td>0.000000</td>\n",
       "      <td>0.000000</td>\n",
       "      <td>0.000000</td>\n",
       "      <td>0.000000</td>\n",
       "      <td>0.000000</td>\n",
       "      <td>0.000000</td>\n",
       "      <td>...</td>\n",
       "      <td>0.00000</td>\n",
       "      <td>0.000000</td>\n",
       "      <td>0.000000</td>\n",
       "      <td>0.000000</td>\n",
       "      <td>0.000000</td>\n",
       "      <td>0.000000</td>\n",
       "      <td>0.000000</td>\n",
       "      <td>0.070972</td>\n",
       "      <td>NaN</td>\n",
       "      <td>NaN</td>\n",
       "    </tr>\n",
       "    <tr>\n",
       "      <th>75%</th>\n",
       "      <td>2022-12-17 12:00:00</td>\n",
       "      <td>0.792857</td>\n",
       "      <td>0.410145</td>\n",
       "      <td>0.307143</td>\n",
       "      <td>0.158571</td>\n",
       "      <td>0.105714</td>\n",
       "      <td>0.015857</td>\n",
       "      <td>0.792857</td>\n",
       "      <td>0.854757</td>\n",
       "      <td>0.884258</td>\n",
       "      <td>...</td>\n",
       "      <td>1.00000</td>\n",
       "      <td>0.288675</td>\n",
       "      <td>0.552643</td>\n",
       "      <td>0.740267</td>\n",
       "      <td>0.907533</td>\n",
       "      <td>0.909875</td>\n",
       "      <td>0.909875</td>\n",
       "      <td>0.123719</td>\n",
       "      <td>NaN</td>\n",
       "      <td>NaN</td>\n",
       "    </tr>\n",
       "    <tr>\n",
       "      <th>max</th>\n",
       "      <td>2023-07-17 00:00:00</td>\n",
       "      <td>1.000000</td>\n",
       "      <td>0.933333</td>\n",
       "      <td>0.893333</td>\n",
       "      <td>0.795455</td>\n",
       "      <td>0.616667</td>\n",
       "      <td>0.092500</td>\n",
       "      <td>1.000000</td>\n",
       "      <td>1.000000</td>\n",
       "      <td>1.000000</td>\n",
       "      <td>...</td>\n",
       "      <td>1.00000</td>\n",
       "      <td>1.000000</td>\n",
       "      <td>1.000000</td>\n",
       "      <td>1.000000</td>\n",
       "      <td>1.000000</td>\n",
       "      <td>1.000000</td>\n",
       "      <td>1.000000</td>\n",
       "      <td>0.310119</td>\n",
       "      <td>NaN</td>\n",
       "      <td>NaN</td>\n",
       "    </tr>\n",
       "    <tr>\n",
       "      <th>std</th>\n",
       "      <td>NaN</td>\n",
       "      <td>0.418294</td>\n",
       "      <td>0.317710</td>\n",
       "      <td>0.270894</td>\n",
       "      <td>0.182795</td>\n",
       "      <td>0.128636</td>\n",
       "      <td>0.019297</td>\n",
       "      <td>0.418294</td>\n",
       "      <td>0.432724</td>\n",
       "      <td>0.439106</td>\n",
       "      <td>...</td>\n",
       "      <td>0.47663</td>\n",
       "      <td>0.305161</td>\n",
       "      <td>0.390347</td>\n",
       "      <td>0.421095</td>\n",
       "      <td>0.447192</td>\n",
       "      <td>0.450084</td>\n",
       "      <td>0.450084</td>\n",
       "      <td>0.031117</td>\n",
       "      <td>NaN</td>\n",
       "      <td>NaN</td>\n",
       "    </tr>\n",
       "  </tbody>\n",
       "</table>\n",
       "<p>8 rows × 34 columns</p>\n",
       "</div>"
      ],
      "text/plain": [
       "                      fold  precision@1  precision@3  precision@5  \\\n",
       "count                  283   283.000000   283.000000   283.000000   \n",
       "mean   2022-05-20 00:00:00     0.293094     0.213172     0.169947   \n",
       "min    2021-03-23 00:00:00     0.000000     0.000000     0.000000   \n",
       "25%    2021-10-20 12:00:00     0.000000     0.000000     0.000000   \n",
       "50%    2022-05-20 00:00:00     0.000000     0.000000     0.000000   \n",
       "75%    2022-12-17 12:00:00     0.792857     0.410145     0.307143   \n",
       "max    2023-07-17 00:00:00     1.000000     0.933333     0.893333   \n",
       "std                    NaN     0.418294     0.317710     0.270894   \n",
       "\n",
       "       precision@10  precision@15  precision@100      ndcg@1      ndcg@3  \\\n",
       "count    283.000000    283.000000     283.000000  283.000000  283.000000   \n",
       "mean       0.106717      0.073611       0.011043    0.293094    0.308529   \n",
       "min        0.000000      0.000000       0.000000    0.000000    0.000000   \n",
       "25%        0.000000      0.000000       0.000000    0.000000    0.000000   \n",
       "50%        0.000000      0.000000       0.000000    0.000000    0.000000   \n",
       "75%        0.158571      0.105714       0.015857    0.792857    0.854757   \n",
       "max        0.795455      0.616667       0.092500    1.000000    1.000000   \n",
       "std        0.182795      0.128636       0.019297    0.418294    0.432724   \n",
       "\n",
       "           ndcg@5  ...  recall@100  r-precision@1  r-precision@3  \\\n",
       "count  283.000000  ...   283.00000     283.000000     283.000000   \n",
       "mean     0.314225  ...     0.34629       0.180302       0.263546   \n",
       "min      0.000000  ...     0.00000       0.000000       0.000000   \n",
       "25%      0.000000  ...     0.00000       0.000000       0.000000   \n",
       "50%      0.000000  ...     0.00000       0.000000       0.000000   \n",
       "75%      0.884258  ...     1.00000       0.288675       0.552643   \n",
       "max      1.000000  ...     1.00000       1.000000       1.000000   \n",
       "std      0.439106  ...     0.47663       0.305161       0.390347   \n",
       "\n",
       "       r-precision@5  r-precision@10  r-precision@15  r-precision@100  \\\n",
       "count     283.000000      283.000000      283.000000       283.000000   \n",
       "mean        0.297080        0.322903        0.325622         0.325622   \n",
       "min         0.000000        0.000000        0.000000         0.000000   \n",
       "25%         0.000000        0.000000        0.000000         0.000000   \n",
       "50%         0.000000        0.000000        0.000000         0.000000   \n",
       "75%         0.740267        0.907533        0.909875         0.909875   \n",
       "max         1.000000        1.000000        1.000000         1.000000   \n",
       "std         0.421095        0.447192        0.450084         0.450084   \n",
       "\n",
       "        time_eval  perfect precision@5  perfect precision@10  \n",
       "count  283.000000                  0.0                   0.0  \n",
       "mean     0.091113                  NaN                   NaN  \n",
       "min      0.067940                  NaN                   NaN  \n",
       "25%      0.069533                  NaN                   NaN  \n",
       "50%      0.070972                  NaN                   NaN  \n",
       "75%      0.123719                  NaN                   NaN  \n",
       "max      0.310119                  NaN                   NaN  \n",
       "std      0.031117                  NaN                   NaN  \n",
       "\n",
       "[8 rows x 34 columns]"
      ]
     },
     "execution_count": 12,
     "metadata": {},
     "output_type": "execute_result"
    },
    {
     "data": {
      "image/png": "[encoded data removed]",
      "text/plain": [
       "<Figure size 640x480 with 1 Axes>"
      ]
     },
     "metadata": {},
     "output_type": "display_data"
    }
   ],
   "source": [
    "mdf = pd.DataFrame(metrics)\n",
    "mdf['perfect precision@5'] = pdf['precision@5']\n",
    "mdf['perfect precision@10'] = pdf['precision@10']\n",
    "mdf[['precision@5', 'perfect precision@5', 'precision@10', 'perfect precision@10']].plot(title='Evaluación modelo baseline MP')\n",
    "mdf.describe()"
   ]
  },
  {
   "cell_type": "code",
   "execution_count": 13,
   "id": "4e30c04e",
   "metadata": {
    "execution": {
     "iopub.execute_input": "2024-09-05T09:45:55.745192Z",
     "iopub.status.busy": "2024-09-05T09:45:55.744986Z",
     "iopub.status.idle": "2024-09-05T09:45:55.769110Z",
     "shell.execute_reply": "2024-09-05T09:45:55.768839Z"
    },
    "papermill": {
     "duration": 0.032041,
     "end_time": "2024-09-05T09:45:55.769826",
     "exception": false,
     "start_time": "2024-09-05T09:45:55.737785",
     "status": "completed"
    },
    "tags": []
   },
   "outputs": [
    {
     "data": {
      "text/html": [
       "<div>\n",
       "<style scoped>\n",
       "    .dataframe tbody tr th:only-of-type {\n",
       "        vertical-align: middle;\n",
       "    }\n",
       "\n",
       "    .dataframe tbody tr th {\n",
       "        vertical-align: top;\n",
       "    }\n",
       "\n",
       "    .dataframe thead th {\n",
       "        text-align: right;\n",
       "    }\n",
       "</style>\n",
       "<table border=\"1\" class=\"dataframe\">\n",
       "  <thead>\n",
       "    <tr style=\"text-align: right;\">\n",
       "      <th></th>\n",
       "      <th>fold</th>\n",
       "      <th>precision@1</th>\n",
       "      <th>precision@3</th>\n",
       "      <th>precision@5</th>\n",
       "      <th>precision@10</th>\n",
       "      <th>precision@15</th>\n",
       "      <th>precision@100</th>\n",
       "      <th>ndcg@1</th>\n",
       "      <th>ndcg@3</th>\n",
       "      <th>ndcg@5</th>\n",
       "      <th>...</th>\n",
       "      <th>recall@100</th>\n",
       "      <th>r-precision@1</th>\n",
       "      <th>r-precision@3</th>\n",
       "      <th>r-precision@5</th>\n",
       "      <th>r-precision@10</th>\n",
       "      <th>r-precision@15</th>\n",
       "      <th>r-precision@100</th>\n",
       "      <th>time_eval</th>\n",
       "      <th>perfect precision@5</th>\n",
       "      <th>perfect precision@10</th>\n",
       "    </tr>\n",
       "  </thead>\n",
       "  <tbody>\n",
       "    <tr>\n",
       "      <th>count</th>\n",
       "      <td>10</td>\n",
       "      <td>10.000000</td>\n",
       "      <td>10.000000</td>\n",
       "      <td>10.000000</td>\n",
       "      <td>10.000000</td>\n",
       "      <td>10.000000</td>\n",
       "      <td>10.000000</td>\n",
       "      <td>10.000000</td>\n",
       "      <td>10.000000</td>\n",
       "      <td>10.000000</td>\n",
       "      <td>...</td>\n",
       "      <td>10.000000</td>\n",
       "      <td>10.000000</td>\n",
       "      <td>10.000000</td>\n",
       "      <td>10.000000</td>\n",
       "      <td>10.000000</td>\n",
       "      <td>10.000000</td>\n",
       "      <td>10.000000</td>\n",
       "      <td>10.000000</td>\n",
       "      <td>0.0</td>\n",
       "      <td>0.0</td>\n",
       "    </tr>\n",
       "    <tr>\n",
       "      <th>mean</th>\n",
       "      <td>2023-07-03 12:00:00</td>\n",
       "      <td>0.170000</td>\n",
       "      <td>0.136667</td>\n",
       "      <td>0.094000</td>\n",
       "      <td>0.073000</td>\n",
       "      <td>0.054000</td>\n",
       "      <td>0.008100</td>\n",
       "      <td>0.170000</td>\n",
       "      <td>0.201546</td>\n",
       "      <td>0.198922</td>\n",
       "      <td>...</td>\n",
       "      <td>0.300000</td>\n",
       "      <td>0.115833</td>\n",
       "      <td>0.214167</td>\n",
       "      <td>0.233333</td>\n",
       "      <td>0.287500</td>\n",
       "      <td>0.287500</td>\n",
       "      <td>0.287500</td>\n",
       "      <td>0.086157</td>\n",
       "      <td>NaN</td>\n",
       "      <td>NaN</td>\n",
       "    </tr>\n",
       "    <tr>\n",
       "      <th>min</th>\n",
       "      <td>2023-06-20 00:00:00</td>\n",
       "      <td>0.000000</td>\n",
       "      <td>0.000000</td>\n",
       "      <td>0.000000</td>\n",
       "      <td>0.000000</td>\n",
       "      <td>0.000000</td>\n",
       "      <td>0.000000</td>\n",
       "      <td>0.000000</td>\n",
       "      <td>0.000000</td>\n",
       "      <td>0.000000</td>\n",
       "      <td>...</td>\n",
       "      <td>0.000000</td>\n",
       "      <td>0.000000</td>\n",
       "      <td>0.000000</td>\n",
       "      <td>0.000000</td>\n",
       "      <td>0.000000</td>\n",
       "      <td>0.000000</td>\n",
       "      <td>0.000000</td>\n",
       "      <td>0.069095</td>\n",
       "      <td>NaN</td>\n",
       "      <td>NaN</td>\n",
       "    </tr>\n",
       "    <tr>\n",
       "      <th>25%</th>\n",
       "      <td>2023-06-26 18:00:00</td>\n",
       "      <td>0.000000</td>\n",
       "      <td>0.000000</td>\n",
       "      <td>0.000000</td>\n",
       "      <td>0.000000</td>\n",
       "      <td>0.000000</td>\n",
       "      <td>0.000000</td>\n",
       "      <td>0.000000</td>\n",
       "      <td>0.000000</td>\n",
       "      <td>0.000000</td>\n",
       "      <td>...</td>\n",
       "      <td>0.000000</td>\n",
       "      <td>0.000000</td>\n",
       "      <td>0.000000</td>\n",
       "      <td>0.000000</td>\n",
       "      <td>0.000000</td>\n",
       "      <td>0.000000</td>\n",
       "      <td>0.000000</td>\n",
       "      <td>0.069560</td>\n",
       "      <td>NaN</td>\n",
       "      <td>NaN</td>\n",
       "    </tr>\n",
       "    <tr>\n",
       "      <th>50%</th>\n",
       "      <td>2023-07-03 12:00:00</td>\n",
       "      <td>0.000000</td>\n",
       "      <td>0.000000</td>\n",
       "      <td>0.000000</td>\n",
       "      <td>0.000000</td>\n",
       "      <td>0.000000</td>\n",
       "      <td>0.000000</td>\n",
       "      <td>0.000000</td>\n",
       "      <td>0.000000</td>\n",
       "      <td>0.000000</td>\n",
       "      <td>...</td>\n",
       "      <td>0.000000</td>\n",
       "      <td>0.000000</td>\n",
       "      <td>0.000000</td>\n",
       "      <td>0.000000</td>\n",
       "      <td>0.000000</td>\n",
       "      <td>0.000000</td>\n",
       "      <td>0.000000</td>\n",
       "      <td>0.069808</td>\n",
       "      <td>NaN</td>\n",
       "      <td>NaN</td>\n",
       "    </tr>\n",
       "    <tr>\n",
       "      <th>75%</th>\n",
       "      <td>2023-07-10 06:00:00</td>\n",
       "      <td>0.150000</td>\n",
       "      <td>0.150000</td>\n",
       "      <td>0.120000</td>\n",
       "      <td>0.142500</td>\n",
       "      <td>0.095000</td>\n",
       "      <td>0.014250</td>\n",
       "      <td>0.150000</td>\n",
       "      <td>0.150000</td>\n",
       "      <td>0.130319</td>\n",
       "      <td>...</td>\n",
       "      <td>0.750000</td>\n",
       "      <td>0.093750</td>\n",
       "      <td>0.281250</td>\n",
       "      <td>0.375000</td>\n",
       "      <td>0.656250</td>\n",
       "      <td>0.656250</td>\n",
       "      <td>0.656250</td>\n",
       "      <td>0.110535</td>\n",
       "      <td>NaN</td>\n",
       "      <td>NaN</td>\n",
       "    </tr>\n",
       "    <tr>\n",
       "      <th>max</th>\n",
       "      <td>2023-07-17 00:00:00</td>\n",
       "      <td>0.900000</td>\n",
       "      <td>0.633333</td>\n",
       "      <td>0.400000</td>\n",
       "      <td>0.300000</td>\n",
       "      <td>0.213333</td>\n",
       "      <td>0.032000</td>\n",
       "      <td>0.900000</td>\n",
       "      <td>0.963093</td>\n",
       "      <td>0.963093</td>\n",
       "      <td>...</td>\n",
       "      <td>1.000000</td>\n",
       "      <td>0.533333</td>\n",
       "      <td>1.000000</td>\n",
       "      <td>1.000000</td>\n",
       "      <td>1.000000</td>\n",
       "      <td>1.000000</td>\n",
       "      <td>1.000000</td>\n",
       "      <td>0.125311</td>\n",
       "      <td>NaN</td>\n",
       "      <td>NaN</td>\n",
       "    </tr>\n",
       "    <tr>\n",
       "      <th>std</th>\n",
       "      <td>NaN</td>\n",
       "      <td>0.319896</td>\n",
       "      <td>0.244672</td>\n",
       "      <td>0.163856</td>\n",
       "      <td>0.120374</td>\n",
       "      <td>0.089688</td>\n",
       "      <td>0.013453</td>\n",
       "      <td>0.319896</td>\n",
       "      <td>0.378282</td>\n",
       "      <td>0.378385</td>\n",
       "      <td>...</td>\n",
       "      <td>0.483046</td>\n",
       "      <td>0.214967</td>\n",
       "      <td>0.375608</td>\n",
       "      <td>0.394405</td>\n",
       "      <td>0.464167</td>\n",
       "      <td>0.464167</td>\n",
       "      <td>0.464167</td>\n",
       "      <td>0.026707</td>\n",
       "      <td>NaN</td>\n",
       "      <td>NaN</td>\n",
       "    </tr>\n",
       "  </tbody>\n",
       "</table>\n",
       "<p>8 rows × 34 columns</p>\n",
       "</div>"
      ],
      "text/plain": [
       "                      fold  precision@1  precision@3  precision@5  \\\n",
       "count                   10    10.000000    10.000000    10.000000   \n",
       "mean   2023-07-03 12:00:00     0.170000     0.136667     0.094000   \n",
       "min    2023-06-20 00:00:00     0.000000     0.000000     0.000000   \n",
       "25%    2023-06-26 18:00:00     0.000000     0.000000     0.000000   \n",
       "50%    2023-07-03 12:00:00     0.000000     0.000000     0.000000   \n",
       "75%    2023-07-10 06:00:00     0.150000     0.150000     0.120000   \n",
       "max    2023-07-17 00:00:00     0.900000     0.633333     0.400000   \n",
       "std                    NaN     0.319896     0.244672     0.163856   \n",
       "\n",
       "       precision@10  precision@15  precision@100     ndcg@1     ndcg@3  \\\n",
       "count     10.000000     10.000000      10.000000  10.000000  10.000000   \n",
       "mean       0.073000      0.054000       0.008100   0.170000   0.201546   \n",
       "min        0.000000      0.000000       0.000000   0.000000   0.000000   \n",
       "25%        0.000000      0.000000       0.000000   0.000000   0.000000   \n",
       "50%        0.000000      0.000000       0.000000   0.000000   0.000000   \n",
       "75%        0.142500      0.095000       0.014250   0.150000   0.150000   \n",
       "max        0.300000      0.213333       0.032000   0.900000   0.963093   \n",
       "std        0.120374      0.089688       0.013453   0.319896   0.378282   \n",
       "\n",
       "          ndcg@5  ...  recall@100  r-precision@1  r-precision@3  \\\n",
       "count  10.000000  ...   10.000000      10.000000      10.000000   \n",
       "mean    0.198922  ...    0.300000       0.115833       0.214167   \n",
       "min     0.000000  ...    0.000000       0.000000       0.000000   \n",
       "25%     0.000000  ...    0.000000       0.000000       0.000000   \n",
       "50%     0.000000  ...    0.000000       0.000000       0.000000   \n",
       "75%     0.130319  ...    0.750000       0.093750       0.281250   \n",
       "max     0.963093  ...    1.000000       0.533333       1.000000   \n",
       "std     0.378385  ...    0.483046       0.214967       0.375608   \n",
       "\n",
       "       r-precision@5  r-precision@10  r-precision@15  r-precision@100  \\\n",
       "count      10.000000       10.000000       10.000000        10.000000   \n",
       "mean        0.233333        0.287500        0.287500         0.287500   \n",
       "min         0.000000        0.000000        0.000000         0.000000   \n",
       "25%         0.000000        0.000000        0.000000         0.000000   \n",
       "50%         0.000000        0.000000        0.000000         0.000000   \n",
       "75%         0.375000        0.656250        0.656250         0.656250   \n",
       "max         1.000000        1.000000        1.000000         1.000000   \n",
       "std         0.394405        0.464167        0.464167         0.464167   \n",
       "\n",
       "       time_eval  perfect precision@5  perfect precision@10  \n",
       "count  10.000000                  0.0                   0.0  \n",
       "mean    0.086157                  NaN                   NaN  \n",
       "min     0.069095                  NaN                   NaN  \n",
       "25%     0.069560                  NaN                   NaN  \n",
       "50%     0.069808                  NaN                   NaN  \n",
       "75%     0.110535                  NaN                   NaN  \n",
       "max     0.125311                  NaN                   NaN  \n",
       "std     0.026707                  NaN                   NaN  \n",
       "\n",
       "[8 rows x 34 columns]"
      ]
     },
     "execution_count": 13,
     "metadata": {},
     "output_type": "execute_result"
    }
   ],
   "source": [
    "mdf[-LAST_FOLDS:].describe()"
   ]
  },
  {
   "cell_type": "code",
   "execution_count": null,
   "id": "c41d238c",
   "metadata": {
    "papermill": {
     "duration": 0.007086,
     "end_time": "2024-09-05T09:45:55.784044",
     "exception": false,
     "start_time": "2024-09-05T09:45:55.776958",
     "status": "completed"
    },
    "tags": []
   },
   "outputs": [],
   "source": []
  }
 ],
 "metadata": {
  "kernelspec": {
   "display_name": "Python 3 (ipykernel)",
   "language": "python",
   "name": "python3"
  },
  "language_info": {
   "codemirror_mode": {
    "name": "ipython",
    "version": 3
   },
   "file_extension": ".py",
   "mimetype": "text/x-python",
   "name": "python",
   "nbconvert_exporter": "python",
   "pygments_lexer": "ipython3",
   "version": "3.11.6"
  },
  "papermill": {
   "default_parameters": {},
   "duration": 65.39076,
   "end_time": "2024-09-05T09:45:56.912198",
   "environment_variables": {},
   "exception": null,
   "input_path": "10_baseline.ipynb",
   "output_path": "../nbout/Bancor/10_baseline.ipynb",
   "parameters": {
    "EXECUTION_ID": "2024-09-04T10:00",
    "LAST_FOLDS": 10,
    "LAST_FOLD_DATE_STR": "2022-01-26",
    "ORG_NAME": "Bancor",
    "SPLITS_FREQ": "3d",
    "SPLITS_NORMALIZE": true
   },
   "start_time": "2024-09-05T09:44:51.521438",
   "version": "2.6.0"
  },
  "widgets": {
   "application/vnd.jupyter.widget-state+json": {
    "state": {
     "0a74309de3894c10864387adb3d6eabb": {
      "model_module": "@jupyter-widgets/controls",
      "model_module_version": "2.0.0",
      "model_name": "FloatProgressModel",
      "state": {
       "_dom_classes": [],
       "_model_module": "@jupyter-widgets/controls",
       "_model_module_version": "2.0.0",
       "_model_name": "FloatProgressModel",
       "_view_count": null,
       "_view_module": "@jupyter-widgets/controls",
       "_view_module_version": "2.0.0",
       "_view_name": "ProgressView",
       "bar_style": "success",
       "description": "",
       "description_allow_html": false,
       "layout": "IPY_MODEL_5b82247f4d8a451bbb9b412472dfe762",
       "max": 283.0,
       "min": 0.0,
       "orientation": "horizontal",
       "style": "IPY_MODEL_2ac510dbc1304182bdad10eb986f5840",
       "tabbable": null,
       "tooltip": null,
       "value": 283.0
      }
     },
     "1ffe1327cab344f5a3e21875a7df07f5": {
      "model_module": "@jupyter-widgets/controls",
      "model_module_version": "2.0.0",
      "model_name": "HTMLModel",
      "state": {
       "_dom_classes": [],
       "_model_module": "@jupyter-widgets/controls",
       "_model_module_version": "2.0.0",
       "_model_name": "HTMLModel",
       "_view_count": null,
       "_view_module": "@jupyter-widgets/controls",
       "_view_module_version": "2.0.0",
       "_view_name": "HTMLView",
       "description": "",
       "description_allow_html": false,
       "layout": "IPY_MODEL_97e365f225324f68b3d4682e6e219ba6",
       "placeholder": "​",
       "style": "IPY_MODEL_27fefa4d15424c62a489d8a9a034b54d",
       "tabbable": null,
       "tooltip": null,
       "value": "100%"
      }
     },
     "27fefa4d15424c62a489d8a9a034b54d": {
      "model_module": "@jupyter-widgets/controls",
      "model_module_version": "2.0.0",
      "model_name": "HTMLStyleModel",
      "state": {
       "_model_module": "@jupyter-widgets/controls",
       "_model_module_version": "2.0.0",
       "_model_name": "HTMLStyleModel",
       "_view_count": null,
       "_view_module": "@jupyter-widgets/base",
       "_view_module_version": "2.0.0",
       "_view_name": "StyleView",
       "background": null,
       "description_width": "",
       "font_size": null,
       "text_color": null
      }
     },
     "2ac510dbc1304182bdad10eb986f5840": {
      "model_module": "@jupyter-widgets/controls",
      "model_module_version": "2.0.0",
      "model_name": "ProgressStyleModel",
      "state": {
       "_model_module": "@jupyter-widgets/controls",
       "_model_module_version": "2.0.0",
       "_model_name": "ProgressStyleModel",
       "_view_count": null,
       "_view_module": "@jupyter-widgets/base",
       "_view_module_version": "2.0.0",
       "_view_name": "StyleView",
       "bar_color": null,
       "description_width": ""
      }
     },
     "53b98adf909347258e3b965dae3102d7": {
      "model_module": "@jupyter-widgets/controls",
      "model_module_version": "2.0.0",
      "model_name": "HTMLStyleModel",
      "state": {
       "_model_module": "@jupyter-widgets/controls",
       "_model_module_version": "2.0.0",
       "_model_name": "HTMLStyleModel",
       "_view_count": null,
       "_view_module": "@jupyter-widgets/base",
       "_view_module_version": "2.0.0",
       "_view_name": "StyleView",
       "background": null,
       "description_width": "",
       "font_size": null,
       "text_color": null
      }
     },
     "5b82247f4d8a451bbb9b412472dfe762": {
      "model_module": "@jupyter-widgets/base",
      "model_module_version": "2.0.0",
      "model_name": "LayoutModel",
      "state": {
       "_model_module": "@jupyter-widgets/base",
       "_model_module_version": "2.0.0",
       "_model_name": "LayoutModel",
       "_view_count": null,
       "_view_module": "@jupyter-widgets/base",
       "_view_module_version": "2.0.0",
       "_view_name": "LayoutView",
       "align_content": null,
       "align_items": null,
       "align_self": null,
       "border_bottom": null,
       "border_left": null,
       "border_right": null,
       "border_top": null,
       "bottom": null,
       "display": null,
       "flex": null,
       "flex_flow": null,
       "grid_area": null,
       "grid_auto_columns": null,
       "grid_auto_flow": null,
       "grid_auto_rows": null,
       "grid_column": null,
       "grid_gap": null,
       "grid_row": null,
       "grid_template_areas": null,
       "grid_template_columns": null,
       "grid_template_rows": null,
       "height": null,
       "justify_content": null,
       "justify_items": null,
       "left": null,
       "margin": null,
       "max_height": null,
       "max_width": null,
       "min_height": null,
       "min_width": null,
       "object_fit": null,
       "object_position": null,
       "order": null,
       "overflow": null,
       "padding": null,
       "right": null,
       "top": null,
       "visibility": null,
       "width": null
      }
     },
     "6142c324417041a885334d25d433ddcd": {
      "model_module": "@jupyter-widgets/controls",
      "model_module_version": "2.0.0",
      "model_name": "HBoxModel",
      "state": {
       "_dom_classes": [],
       "_model_module": "@jupyter-widgets/controls",
       "_model_module_version": "2.0.0",
       "_model_name": "HBoxModel",
       "_view_count": null,
       "_view_module": "@jupyter-widgets/controls",
       "_view_module_version": "2.0.0",
       "_view_name": "HBoxView",
       "box_style": "",
       "children": [
        "IPY_MODEL_1ffe1327cab344f5a3e21875a7df07f5",
        "IPY_MODEL_0a74309de3894c10864387adb3d6eabb",
        "IPY_MODEL_62c4f95235a841b3923dace6a91a2d83"
       ],
       "layout": "IPY_MODEL_e3ab59fe162c4ec58511b1214e3ecf72",
       "tabbable": null,
       "tooltip": null
      }
     },
     "62c4f95235a841b3923dace6a91a2d83": {
      "model_module": "@jupyter-widgets/controls",
      "model_module_version": "2.0.0",
      "model_name": "HTMLModel",
      "state": {
       "_dom_classes": [],
       "_model_module": "@jupyter-widgets/controls",
       "_model_module_version": "2.0.0",
       "_model_name": "HTMLModel",
       "_view_count": null,
       "_view_module": "@jupyter-widgets/controls",
       "_view_module_version": "2.0.0",
       "_view_name": "HTMLView",
       "description": "",
       "description_allow_html": false,
       "layout": "IPY_MODEL_d11ae88f6deb44acb6fdc71143bbf92f",
       "placeholder": "​",
       "style": "IPY_MODEL_53b98adf909347258e3b965dae3102d7",
       "tabbable": null,
       "tooltip": null,
       "value": " 283/283 [00:54&lt;00:00,  5.18it/s]"
      }
     },
     "97e365f225324f68b3d4682e6e219ba6": {
      "model_module": "@jupyter-widgets/base",
      "model_module_version": "2.0.0",
      "model_name": "LayoutModel",
      "state": {
       "_model_module": "@jupyter-widgets/base",
       "_model_module_version": "2.0.0",
       "_model_name": "LayoutModel",
       "_view_count": null,
       "_view_module": "@jupyter-widgets/base",
       "_view_module_version": "2.0.0",
       "_view_name": "LayoutView",
       "align_content": null,
       "align_items": null,
       "align_self": null,
       "border_bottom": null,
       "border_left": null,
       "border_right": null,
       "border_top": null,
       "bottom": null,
       "display": null,
       "flex": null,
       "flex_flow": null,
       "grid_area": null,
       "grid_auto_columns": null,
       "grid_auto_flow": null,
       "grid_auto_rows": null,
       "grid_column": null,
       "grid_gap": null,
       "grid_row": null,
       "grid_template_areas": null,
       "grid_template_columns": null,
       "grid_template_rows": null,
       "height": null,
       "justify_content": null,
       "justify_items": null,
       "left": null,
       "margin": null,
       "max_height": null,
       "max_width": null,
       "min_height": null,
       "min_width": null,
       "object_fit": null,
       "object_position": null,
       "order": null,
       "overflow": null,
       "padding": null,
       "right": null,
       "top": null,
       "visibility": null,
       "width": null
      }
     },
     "d11ae88f6deb44acb6fdc71143bbf92f": {
      "model_module": "@jupyter-widgets/base",
      "model_module_version": "2.0.0",
      "model_name": "LayoutModel",
      "state": {
       "_model_module": "@jupyter-widgets/base",
       "_model_module_version": "2.0.0",
       "_model_name": "LayoutModel",
       "_view_count": null,
       "_view_module": "@jupyter-widgets/base",
       "_view_module_version": "2.0.0",
       "_view_name": "LayoutView",
       "align_content": null,
       "align_items": null,
       "align_self": null,
       "border_bottom": null,
       "border_left": null,
       "border_right": null,
       "border_top": null,
       "bottom": null,
       "display": null,
       "flex": null,
       "flex_flow": null,
       "grid_area": null,
       "grid_auto_columns": null,
       "grid_auto_flow": null,
       "grid_auto_rows": null,
       "grid_column": null,
       "grid_gap": null,
       "grid_row": null,
       "grid_template_areas": null,
       "grid_template_columns": null,
       "grid_template_rows": null,
       "height": null,
       "justify_content": null,
       "justify_items": null,
       "left": null,
       "margin": null,
       "max_height": null,
       "max_width": null,
       "min_height": null,
       "min_width": null,
       "object_fit": null,
       "object_position": null,
       "order": null,
       "overflow": null,
       "padding": null,
       "right": null,
       "top": null,
       "visibility": null,
       "width": null
      }
     },
     "e3ab59fe162c4ec58511b1214e3ecf72": {
      "model_module": "@jupyter-widgets/base",
      "model_module_version": "2.0.0",
      "model_name": "LayoutModel",
      "state": {
       "_model_module": "@jupyter-widgets/base",
       "_model_module_version": "2.0.0",
       "_model_name": "LayoutModel",
       "_view_count": null,
       "_view_module": "@jupyter-widgets/base",
       "_view_module_version": "2.0.0",
       "_view_name": "LayoutView",
       "align_content": null,
       "align_items": null,
       "align_self": null,
       "border_bottom": null,
       "border_left": null,
       "border_right": null,
       "border_top": null,
       "bottom": null,
       "display": null,
       "flex": null,
       "flex_flow": null,
       "grid_area": null,
       "grid_auto_columns": null,
       "grid_auto_flow": null,
       "grid_auto_rows": null,
       "grid_column": null,
       "grid_gap": null,
       "grid_row": null,
       "grid_template_areas": null,
       "grid_template_columns": null,
       "grid_template_rows": null,
       "height": null,
       "justify_content": null,
       "justify_items": null,
       "left": null,
       "margin": null,
       "max_height": null,
       "max_width": null,
       "min_height": null,
       "min_width": null,
       "object_fit": null,
       "object_position": null,
       "order": null,
       "overflow": null,
       "padding": null,
       "right": null,
       "top": null,
       "visibility": null,
       "width": null
      }
     }
    },
    "version_major": 2,
    "version_minor": 0
   }
  }
 },
 "nbformat": 4,
 "nbformat_minor": 5
}