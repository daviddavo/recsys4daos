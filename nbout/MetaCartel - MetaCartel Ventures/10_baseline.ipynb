{
 "cells": [
  {
   "cell_type": "code",
   "execution_count": 1,
   "id": "2861584f",
   "metadata": {
    "execution": {
     "iopub.execute_input": "2024-09-05T09:02:35.444911Z",
     "iopub.status.busy": "2024-09-05T09:02:35.444792Z",
     "iopub.status.idle": "2024-09-05T09:02:38.103228Z",
     "shell.execute_reply": "2024-09-05T09:02:38.102926Z"
    },
    "papermill": {
     "duration": 2.665807,
     "end_time": "2024-09-05T09:02:38.104014",
     "exception": false,
     "start_time": "2024-09-05T09:02:35.438207",
     "status": "completed"
    },
    "tags": []
   },
   "outputs": [
    {
     "name": "stderr",
     "output_type": "stream",
     "text": [
      "/tmp/ipykernel_3810860/2526015065.py:7: TqdmExperimentalWarning: Using `tqdm.autonotebook.tqdm` in notebook mode. Use `tqdm.tqdm` instead to force console mode (e.g. in jupyter console)\n",
      "  from tqdm.autonotebook import tqdm\n"
     ]
    },
    {
     "name": "stdout",
     "output_type": "stream",
     "text": [
      "Ignoring warnings\n"
     ]
    }
   ],
   "source": [
    "from typing import List\n",
    "import sys\n",
    "from collections import defaultdict\n",
    "\n",
    "import pandas as pd\n",
    "import numpy as np\n",
    "from tqdm.autonotebook import tqdm\n",
    "\n",
    "from recsys4daos.models import OpenPop\n",
    "from recsys4daos.datasets import to_microsoft\n",
    "from recsys4daos.model_selection import cvtt_open\n",
    "from recsys4daos.evaluation import calculate_all_metrics\n",
    "\n",
    "import paths\n",
    "\n",
    "import recommenders\n",
    "if recommenders.__version__ == '1.2.0':\n",
    "    print(\"Ignoring warnings\")\n",
    "    import warnings\n",
    "    warnings.simplefilter(action='ignore', category=FutureWarning)"
   ]
  },
  {
   "cell_type": "code",
   "execution_count": 2,
   "id": "e047fa34",
   "metadata": {
    "editable": true,
    "execution": {
     "iopub.execute_input": "2024-09-05T09:02:38.108853Z",
     "iopub.status.busy": "2024-09-05T09:02:38.108626Z",
     "iopub.status.idle": "2024-09-05T09:02:38.110800Z",
     "shell.execute_reply": "2024-09-05T09:02:38.110578Z"
    },
    "papermill": {
     "duration": 0.005123,
     "end_time": "2024-09-05T09:02:38.111373",
     "exception": false,
     "start_time": "2024-09-05T09:02:38.106250",
     "status": "completed"
    },
    "slideshow": {
     "slide_type": ""
    },
    "tags": [
     "parameters"
    ]
   },
   "outputs": [],
   "source": [
    "SPLITS_FREQ = \"W-THU\"\n",
    "SPLITS_NORMALIZE = True\n",
    "ORG_NAME = 'Decentraland'\n",
    "LAST_FOLD_DATE_STR: str = None # Won't use it, we will just calculate for every fold\n",
    "\n",
    "# In this notebook this is just used for plotting and description, not \"training\"\n",
    "# every fold is saved into the results table\n",
    "LAST_FOLDS = 10\n",
    "\n",
    "K_RECOMMENDATIONS: List[int] = [1,3,5,10,15,100]"
   ]
  },
  {
   "cell_type": "code",
   "execution_count": 3,
   "id": "2a9acfdf",
   "metadata": {
    "execution": {
     "iopub.execute_input": "2024-09-05T09:02:38.115163Z",
     "iopub.status.busy": "2024-09-05T09:02:38.115044Z",
     "iopub.status.idle": "2024-09-05T09:02:38.116637Z",
     "shell.execute_reply": "2024-09-05T09:02:38.116432Z"
    },
    "papermill": {
     "duration": 0.004203,
     "end_time": "2024-09-05T09:02:38.117209",
     "exception": false,
     "start_time": "2024-09-05T09:02:38.113006",
     "status": "completed"
    },
    "tags": [
     "injected-parameters"
    ]
   },
   "outputs": [],
   "source": [
    "# Parameters\n",
    "EXECUTION_ID = \"2024-09-04T10:00\"\n",
    "ORG_NAME = \"MetaCartel - MetaCartel Ventures\"\n",
    "SPLITS_FREQ = \"W-THU\"\n",
    "LAST_FOLDS = 10\n",
    "SPLITS_NORMALIZE = True\n",
    "LAST_FOLD_DATE_STR = \"2022-01-06\"\n"
   ]
  },
  {
   "cell_type": "markdown",
   "id": "59a961ce",
   "metadata": {
    "papermill": {
     "duration": 0.001633,
     "end_time": "2024-09-05T09:02:38.120453",
     "exception": false,
     "start_time": "2024-09-05T09:02:38.118820",
     "status": "completed"
    },
    "tags": []
   },
   "source": [
    "## Obtain dataset"
   ]
  },
  {
   "cell_type": "code",
   "execution_count": 4,
   "id": "e061c0af",
   "metadata": {
    "execution": {
     "iopub.execute_input": "2024-09-05T09:02:38.124190Z",
     "iopub.status.busy": "2024-09-05T09:02:38.124076Z",
     "iopub.status.idle": "2024-09-05T09:02:38.249777Z",
     "shell.execute_reply": "2024-09-05T09:02:38.247083Z"
    },
    "papermill": {
     "duration": 0.131566,
     "end_time": "2024-09-05T09:02:38.253697",
     "exception": false,
     "start_time": "2024-09-05T09:02:38.122131",
     "status": "completed"
    },
    "tags": []
   },
   "outputs": [
    {
     "name": "stdout",
     "output_type": "stream",
     "text": [
      "/home/daviddavo/recsys4daos/notebooks\r\n"
     ]
    }
   ],
   "source": [
    "!pwd"
   ]
  },
  {
   "cell_type": "code",
   "execution_count": 5,
   "id": "4ec34cf4",
   "metadata": {
    "execution": {
     "iopub.execute_input": "2024-09-05T09:02:38.263438Z",
     "iopub.status.busy": "2024-09-05T09:02:38.263128Z",
     "iopub.status.idle": "2024-09-05T09:02:38.389806Z",
     "shell.execute_reply": "2024-09-05T09:02:38.387429Z"
    },
    "papermill": {
     "duration": 0.133345,
     "end_time": "2024-09-05T09:02:38.393346",
     "exception": false,
     "start_time": "2024-09-05T09:02:38.260001",
     "status": "completed"
    },
    "tags": []
   },
   "outputs": [
    {
     "name": "stdout",
     "output_type": "stream",
     "text": [
      "md5sum: '../data/decentraland/*': No such file or directory\r\n"
     ]
    }
   ],
   "source": [
    "!md5sum ../data/decentraland/*"
   ]
  },
  {
   "cell_type": "code",
   "execution_count": 6,
   "id": "2d1e0670",
   "metadata": {
    "execution": {
     "iopub.execute_input": "2024-09-05T09:02:38.403015Z",
     "iopub.status.busy": "2024-09-05T09:02:38.402708Z",
     "iopub.status.idle": "2024-09-05T09:02:38.449718Z",
     "shell.execute_reply": "2024-09-05T09:02:38.449463Z"
    },
    "papermill": {
     "duration": 0.050527,
     "end_time": "2024-09-05T09:02:38.450597",
     "exception": false,
     "start_time": "2024-09-05T09:02:38.400070",
     "status": "completed"
    },
    "tags": []
   },
   "outputs": [
    {
     "name": "stdout",
     "output_type": "stream",
     "text": [
      "<class 'pandas.core.frame.DataFrame'>\n",
      "RangeIndex: 1088 entries, 0 to 1087\n",
      "Data columns (total 6 columns):\n",
      " #   Column             Non-Null Count  Dtype         \n",
      "---  ------             --------------  -----         \n",
      " 0   id                 1088 non-null   object        \n",
      " 1   author             1088 non-null   object        \n",
      " 2   date               1088 non-null   datetime64[us]\n",
      " 3   start              1088 non-null   datetime64[us]\n",
      " 4   end                807 non-null    datetime64[us]\n",
      " 5   platform_proposal  1088 non-null   object        \n",
      "dtypes: datetime64[us](3), object(3)\n",
      "memory usage: 51.1+ KB\n",
      "None\n",
      "<class 'pandas.core.frame.DataFrame'>\n",
      "RangeIndex: 3287 entries, 0 to 3286\n",
      "Data columns (total 4 columns):\n",
      " #   Column    Non-Null Count  Dtype         \n",
      "---  ------    --------------  -----         \n",
      " 0   id        3287 non-null   object        \n",
      " 1   proposal  3287 non-null   object        \n",
      " 2   voter     3287 non-null   object        \n",
      " 3   date      3287 non-null   datetime64[us]\n",
      "dtypes: datetime64[us](1), object(3)\n",
      "memory usage: 102.8+ KB\n",
      "None\n",
      "<class 'pandas.core.frame.DataFrame'>\n",
      "RangeIndex: 3287 entries, 0 to 3286\n",
      "Data columns (total 4 columns):\n",
      " #   Column     Non-Null Count  Dtype         \n",
      "---  ------     --------------  -----         \n",
      " 0   userID     3287 non-null   object        \n",
      " 1   itemID     3287 non-null   object        \n",
      " 2   timestamp  3287 non-null   datetime64[us]\n",
      " 3   rating     3287 non-null   int64         \n",
      "dtypes: datetime64[us](1), int64(1), object(2)\n",
      "memory usage: 102.8+ KB\n",
      "None\n"
     ]
    }
   ],
   "source": [
    "dfp = paths.load_proposals(ORG_NAME)\n",
    "dfv = paths.load_votes(ORG_NAME)\n",
    "\n",
    "df = to_microsoft(dfv)\n",
    "\n",
    "print(dfp.info())\n",
    "print(dfv.info())\n",
    "print(df.info())"
   ]
  },
  {
   "cell_type": "markdown",
   "id": "5019de19",
   "metadata": {
    "papermill": {
     "duration": 0.002281,
     "end_time": "2024-09-05T09:02:38.455392",
     "exception": false,
     "start_time": "2024-09-05T09:02:38.453111",
     "status": "completed"
    },
    "tags": []
   },
   "source": [
    "## Showing some info of the folds"
   ]
  },
  {
   "cell_type": "code",
   "execution_count": 7,
   "id": "9a265e5b",
   "metadata": {
    "execution": {
     "iopub.execute_input": "2024-09-05T09:02:38.459769Z",
     "iopub.status.busy": "2024-09-05T09:02:38.459663Z",
     "iopub.status.idle": "2024-09-05T09:02:38.909066Z",
     "shell.execute_reply": "2024-09-05T09:02:38.908851Z"
    },
    "papermill": {
     "duration": 0.452563,
     "end_time": "2024-09-05T09:02:38.909814",
     "exception": false,
     "start_time": "2024-09-05T09:02:38.457251",
     "status": "completed"
    },
    "tags": []
   },
   "outputs": [
    {
     "name": "stdout",
     "output_type": "stream",
     "text": [
      "Saved dataframe into /home/daviddavo/recsys4daos/data/output/MetaCartel - MetaCartel Ventures/baseline/folds-info_W-THU_normalize.parquet\n",
      "fold\n",
      "2023-05-04    3242\n",
      "2023-05-11    3242\n",
      "2023-05-18    3242\n",
      "2023-05-25    3245\n",
      "2023-06-01    3246\n",
      "2023-06-08    3253\n",
      "2023-06-15    3262\n",
      "2023-06-22    3275\n",
      "2023-06-29    3285\n",
      "2023-07-06    3285\n",
      "Name: votes in train, dtype: int64\n"
     ]
    },
    {
     "data": {
      "text/html": [
       "<style type=\"text/css\">\n",
       "</style>\n",
       "<table id=\"T_a97bf\">\n",
       "  <thead>\n",
       "    <tr>\n",
       "      <th class=\"blank level0\" >&nbsp;</th>\n",
       "      <th id=\"T_a97bf_level0_col0\" class=\"col_heading level0 col0\" >open proposals</th>\n",
       "      <th id=\"T_a97bf_level0_col1\" class=\"col_heading level0 col1\" >votes in open proposals (train)</th>\n",
       "      <th id=\"T_a97bf_level0_col2\" class=\"col_heading level0 col2\" >users in open proposals (train)</th>\n",
       "      <th id=\"T_a97bf_level0_col3\" class=\"col_heading level0 col3\" >vpp in open proposals (train)</th>\n",
       "      <th id=\"T_a97bf_level0_col4\" class=\"col_heading level0 col4\" >vpu in open proposals (train)</th>\n",
       "      <th id=\"T_a97bf_level0_col5\" class=\"col_heading level0 col5\" >votes in test</th>\n",
       "      <th id=\"T_a97bf_level0_col6\" class=\"col_heading level0 col6\" >users in test</th>\n",
       "      <th id=\"T_a97bf_level0_col7\" class=\"col_heading level0 col7\" >vpp test</th>\n",
       "      <th id=\"T_a97bf_level0_col8\" class=\"col_heading level0 col8\" >vpu test</th>\n",
       "    </tr>\n",
       "    <tr>\n",
       "      <th class=\"index_name level0\" >fold</th>\n",
       "      <th class=\"blank col0\" >&nbsp;</th>\n",
       "      <th class=\"blank col1\" >&nbsp;</th>\n",
       "      <th class=\"blank col2\" >&nbsp;</th>\n",
       "      <th class=\"blank col3\" >&nbsp;</th>\n",
       "      <th class=\"blank col4\" >&nbsp;</th>\n",
       "      <th class=\"blank col5\" >&nbsp;</th>\n",
       "      <th class=\"blank col6\" >&nbsp;</th>\n",
       "      <th class=\"blank col7\" >&nbsp;</th>\n",
       "      <th class=\"blank col8\" >&nbsp;</th>\n",
       "    </tr>\n",
       "  </thead>\n",
       "  <tbody>\n",
       "    <tr>\n",
       "      <th id=\"T_a97bf_level0_row0\" class=\"row_heading level0 row0\" >2023-W18</th>\n",
       "      <td id=\"T_a97bf_row0_col0\" class=\"data row0 col0\" >1</td>\n",
       "      <td id=\"T_a97bf_row0_col1\" class=\"data row0 col1\" >9</td>\n",
       "      <td id=\"T_a97bf_row0_col2\" class=\"data row0 col2\" >9</td>\n",
       "      <td id=\"T_a97bf_row0_col3\" class=\"data row0 col3\" >9.00</td>\n",
       "      <td id=\"T_a97bf_row0_col4\" class=\"data row0 col4\" >1.00</td>\n",
       "      <td id=\"T_a97bf_row0_col5\" class=\"data row0 col5\" >0</td>\n",
       "      <td id=\"T_a97bf_row0_col6\" class=\"data row0 col6\" >0</td>\n",
       "      <td id=\"T_a97bf_row0_col7\" class=\"data row0 col7\" >0.00</td>\n",
       "      <td id=\"T_a97bf_row0_col8\" class=\"data row0 col8\" >nan</td>\n",
       "    </tr>\n",
       "    <tr>\n",
       "      <th id=\"T_a97bf_level0_row1\" class=\"row_heading level0 row1\" >2023-W19</th>\n",
       "      <td id=\"T_a97bf_row1_col0\" class=\"data row1 col0\" >0</td>\n",
       "      <td id=\"T_a97bf_row1_col1\" class=\"data row1 col1\" >0</td>\n",
       "      <td id=\"T_a97bf_row1_col2\" class=\"data row1 col2\" >0</td>\n",
       "      <td id=\"T_a97bf_row1_col3\" class=\"data row1 col3\" >nan</td>\n",
       "      <td id=\"T_a97bf_row1_col4\" class=\"data row1 col4\" >nan</td>\n",
       "      <td id=\"T_a97bf_row1_col5\" class=\"data row1 col5\" >0</td>\n",
       "      <td id=\"T_a97bf_row1_col6\" class=\"data row1 col6\" >0</td>\n",
       "      <td id=\"T_a97bf_row1_col7\" class=\"data row1 col7\" >nan</td>\n",
       "      <td id=\"T_a97bf_row1_col8\" class=\"data row1 col8\" >nan</td>\n",
       "    </tr>\n",
       "    <tr>\n",
       "      <th id=\"T_a97bf_level0_row2\" class=\"row_heading level0 row2\" >2023-W20</th>\n",
       "      <td id=\"T_a97bf_row2_col0\" class=\"data row2 col0\" >0</td>\n",
       "      <td id=\"T_a97bf_row2_col1\" class=\"data row2 col1\" >0</td>\n",
       "      <td id=\"T_a97bf_row2_col2\" class=\"data row2 col2\" >0</td>\n",
       "      <td id=\"T_a97bf_row2_col3\" class=\"data row2 col3\" >nan</td>\n",
       "      <td id=\"T_a97bf_row2_col4\" class=\"data row2 col4\" >nan</td>\n",
       "      <td id=\"T_a97bf_row2_col5\" class=\"data row2 col5\" >0</td>\n",
       "      <td id=\"T_a97bf_row2_col6\" class=\"data row2 col6\" >0</td>\n",
       "      <td id=\"T_a97bf_row2_col7\" class=\"data row2 col7\" >nan</td>\n",
       "      <td id=\"T_a97bf_row2_col8\" class=\"data row2 col8\" >nan</td>\n",
       "    </tr>\n",
       "    <tr>\n",
       "      <th id=\"T_a97bf_level0_row3\" class=\"row_heading level0 row3\" >2023-W21</th>\n",
       "      <td id=\"T_a97bf_row3_col0\" class=\"data row3 col0\" >1</td>\n",
       "      <td id=\"T_a97bf_row3_col1\" class=\"data row3 col1\" >3</td>\n",
       "      <td id=\"T_a97bf_row3_col2\" class=\"data row3 col2\" >3</td>\n",
       "      <td id=\"T_a97bf_row3_col3\" class=\"data row3 col3\" >3.00</td>\n",
       "      <td id=\"T_a97bf_row3_col4\" class=\"data row3 col4\" >1.00</td>\n",
       "      <td id=\"T_a97bf_row3_col5\" class=\"data row3 col5\" >1</td>\n",
       "      <td id=\"T_a97bf_row3_col6\" class=\"data row3 col6\" >1</td>\n",
       "      <td id=\"T_a97bf_row3_col7\" class=\"data row3 col7\" >1.00</td>\n",
       "      <td id=\"T_a97bf_row3_col8\" class=\"data row3 col8\" >1.00</td>\n",
       "    </tr>\n",
       "    <tr>\n",
       "      <th id=\"T_a97bf_level0_row4\" class=\"row_heading level0 row4\" >2023-W22</th>\n",
       "      <td id=\"T_a97bf_row4_col0\" class=\"data row4 col0\" >0</td>\n",
       "      <td id=\"T_a97bf_row4_col1\" class=\"data row4 col1\" >0</td>\n",
       "      <td id=\"T_a97bf_row4_col2\" class=\"data row4 col2\" >0</td>\n",
       "      <td id=\"T_a97bf_row4_col3\" class=\"data row4 col3\" >nan</td>\n",
       "      <td id=\"T_a97bf_row4_col4\" class=\"data row4 col4\" >nan</td>\n",
       "      <td id=\"T_a97bf_row4_col5\" class=\"data row4 col5\" >0</td>\n",
       "      <td id=\"T_a97bf_row4_col6\" class=\"data row4 col6\" >0</td>\n",
       "      <td id=\"T_a97bf_row4_col7\" class=\"data row4 col7\" >nan</td>\n",
       "      <td id=\"T_a97bf_row4_col8\" class=\"data row4 col8\" >nan</td>\n",
       "    </tr>\n",
       "    <tr>\n",
       "      <th id=\"T_a97bf_level0_row5\" class=\"row_heading level0 row5\" >2023-W23</th>\n",
       "      <td id=\"T_a97bf_row5_col0\" class=\"data row5 col0\" >2</td>\n",
       "      <td id=\"T_a97bf_row5_col1\" class=\"data row5 col1\" >7</td>\n",
       "      <td id=\"T_a97bf_row5_col2\" class=\"data row5 col2\" >6</td>\n",
       "      <td id=\"T_a97bf_row5_col3\" class=\"data row5 col3\" >3.50</td>\n",
       "      <td id=\"T_a97bf_row5_col4\" class=\"data row5 col4\" >1.17</td>\n",
       "      <td id=\"T_a97bf_row5_col5\" class=\"data row5 col5\" >9</td>\n",
       "      <td id=\"T_a97bf_row5_col6\" class=\"data row5 col6\" >7</td>\n",
       "      <td id=\"T_a97bf_row5_col7\" class=\"data row5 col7\" >4.50</td>\n",
       "      <td id=\"T_a97bf_row5_col8\" class=\"data row5 col8\" >1.29</td>\n",
       "    </tr>\n",
       "    <tr>\n",
       "      <th id=\"T_a97bf_level0_row6\" class=\"row_heading level0 row6\" >2023-W24</th>\n",
       "      <td id=\"T_a97bf_row6_col0\" class=\"data row6 col0\" >3</td>\n",
       "      <td id=\"T_a97bf_row6_col1\" class=\"data row6 col1\" >16</td>\n",
       "      <td id=\"T_a97bf_row6_col2\" class=\"data row6 col2\" >12</td>\n",
       "      <td id=\"T_a97bf_row6_col3\" class=\"data row6 col3\" >5.33</td>\n",
       "      <td id=\"T_a97bf_row6_col4\" class=\"data row6 col4\" >1.33</td>\n",
       "      <td id=\"T_a97bf_row6_col5\" class=\"data row6 col5\" >1</td>\n",
       "      <td id=\"T_a97bf_row6_col6\" class=\"data row6 col6\" >1</td>\n",
       "      <td id=\"T_a97bf_row6_col7\" class=\"data row6 col7\" >0.33</td>\n",
       "      <td id=\"T_a97bf_row6_col8\" class=\"data row6 col8\" >1.00</td>\n",
       "    </tr>\n",
       "    <tr>\n",
       "      <th id=\"T_a97bf_level0_row7\" class=\"row_heading level0 row7\" >2023-W25</th>\n",
       "      <td id=\"T_a97bf_row7_col0\" class=\"data row7 col0\" >3</td>\n",
       "      <td id=\"T_a97bf_row7_col1\" class=\"data row7 col1\" >13</td>\n",
       "      <td id=\"T_a97bf_row7_col2\" class=\"data row7 col2\" >8</td>\n",
       "      <td id=\"T_a97bf_row7_col3\" class=\"data row7 col3\" >4.33</td>\n",
       "      <td id=\"T_a97bf_row7_col4\" class=\"data row7 col4\" >1.62</td>\n",
       "      <td id=\"T_a97bf_row7_col5\" class=\"data row7 col5\" >3</td>\n",
       "      <td id=\"T_a97bf_row7_col6\" class=\"data row7 col6\" >2</td>\n",
       "      <td id=\"T_a97bf_row7_col7\" class=\"data row7 col7\" >1.00</td>\n",
       "      <td id=\"T_a97bf_row7_col8\" class=\"data row7 col8\" >1.50</td>\n",
       "    </tr>\n",
       "    <tr>\n",
       "      <th id=\"T_a97bf_level0_row8\" class=\"row_heading level0 row8\" >2023-W26</th>\n",
       "      <td id=\"T_a97bf_row8_col0\" class=\"data row8 col0\" >7</td>\n",
       "      <td id=\"T_a97bf_row8_col1\" class=\"data row8 col1\" >8</td>\n",
       "      <td id=\"T_a97bf_row8_col2\" class=\"data row8 col2\" >3</td>\n",
       "      <td id=\"T_a97bf_row8_col3\" class=\"data row8 col3\" >1.14</td>\n",
       "      <td id=\"T_a97bf_row8_col4\" class=\"data row8 col4\" >2.67</td>\n",
       "      <td id=\"T_a97bf_row8_col5\" class=\"data row8 col5\" >0</td>\n",
       "      <td id=\"T_a97bf_row8_col6\" class=\"data row8 col6\" >0</td>\n",
       "      <td id=\"T_a97bf_row8_col7\" class=\"data row8 col7\" >0.00</td>\n",
       "      <td id=\"T_a97bf_row8_col8\" class=\"data row8 col8\" >nan</td>\n",
       "    </tr>\n",
       "    <tr>\n",
       "      <th id=\"T_a97bf_level0_row9\" class=\"row_heading level0 row9\" >2023-W27</th>\n",
       "      <td id=\"T_a97bf_row9_col0\" class=\"data row9 col0\" >7</td>\n",
       "      <td id=\"T_a97bf_row9_col1\" class=\"data row9 col1\" >8</td>\n",
       "      <td id=\"T_a97bf_row9_col2\" class=\"data row9 col2\" >3</td>\n",
       "      <td id=\"T_a97bf_row9_col3\" class=\"data row9 col3\" >1.14</td>\n",
       "      <td id=\"T_a97bf_row9_col4\" class=\"data row9 col4\" >2.67</td>\n",
       "      <td id=\"T_a97bf_row9_col5\" class=\"data row9 col5\" >0</td>\n",
       "      <td id=\"T_a97bf_row9_col6\" class=\"data row9 col6\" >0</td>\n",
       "      <td id=\"T_a97bf_row9_col7\" class=\"data row9 col7\" >0.00</td>\n",
       "      <td id=\"T_a97bf_row9_col8\" class=\"data row9 col8\" >nan</td>\n",
       "    </tr>\n",
       "  </tbody>\n",
       "</table>\n"
      ],
      "text/plain": [
       "<pandas.io.formats.style.Styler at 0x7f8c9309cc10>"
      ]
     },
     "execution_count": 7,
     "metadata": {},
     "output_type": "execute_result"
    }
   ],
   "source": [
    "sdd = defaultdict(list)\n",
    "\n",
    "for dftrain, dftest, t, openproposals in cvtt_open(to_microsoft(dfv), SPLITS_FREQ, dfp.reset_index(), remove_not_in_train_col='userID', normalize=SPLITS_NORMALIZE):\n",
    "    dftrain_filter = dftrain[dftrain['itemID'].isin(openproposals)]\n",
    "    \n",
    "    sdd['fold'].append(t)\n",
    "    sdd['open proposals'].append(len(openproposals))\n",
    "    \n",
    "    sdd['proposals in train'].append(dftrain['itemID'].nunique())\n",
    "    sdd['votes in train'].append(len(dftrain))\n",
    "    sdd['votes in open proposals (train)'].append(len(dftrain_filter))\n",
    "    sdd['users in open proposals (train)'].append(dftrain_filter['userID'].nunique())\n",
    "    sdd['votes in test'].append(len(dftest))\n",
    "    sdd['users in train'].append(dftrain['userID'].nunique())\n",
    "    sdd['users in test'].append(dftest['userID'].nunique())\n",
    "\n",
    "sdf_all = pd.DataFrame(sdd).set_index('fold')\n",
    "sdf_all['vpp in open proposals (train)'] = sdf_all['votes in open proposals (train)'] / sdf_all['open proposals']\n",
    "sdf_all['vpu in open proposals (train)'] = sdf_all['votes in open proposals (train)'] / sdf_all['users in open proposals (train)']\n",
    "sdf_all['vpp test'] = sdf_all['votes in test'] / sdf_all['open proposals']\n",
    "sdf_all['vpu test'] = sdf_all['votes in test'] / sdf_all['users in test']\n",
    "paths.save_folds_info(sdf_all, ORG_NAME, SPLITS_FREQ, SPLITS_NORMALIZE)\n",
    "sdf = sdf_all.tail(LAST_FOLDS)\n",
    "print(sdf['votes in train'])\n",
    "_style = sdf[['open proposals', 'votes in open proposals (train)', 'users in open proposals (train)', 'vpp in open proposals (train)', 'vpu in open proposals (train)', 'votes in test', 'users in test', 'vpp test', 'vpu test']].style\n",
    "_style = _style.format_index('{:%G-W%V}').format(precision=2)\n",
    "_style"
   ]
  },
  {
   "cell_type": "code",
   "execution_count": 8,
   "id": "aa3b5a43",
   "metadata": {
    "execution": {
     "iopub.execute_input": "2024-09-05T09:02:38.915261Z",
     "iopub.status.busy": "2024-09-05T09:02:38.915039Z",
     "iopub.status.idle": "2024-09-05T09:02:38.925063Z",
     "shell.execute_reply": "2024-09-05T09:02:38.924845Z"
    },
    "papermill": {
     "duration": 0.013535,
     "end_time": "2024-09-05T09:02:38.925776",
     "exception": false,
     "start_time": "2024-09-05T09:02:38.912241",
     "status": "completed"
    },
    "tags": []
   },
   "outputs": [
    {
     "name": "stdout",
     "output_type": "stream",
     "text": [
      "\\begin{tabular}{lrrrrrrrrr}\n",
      " & \\textbf{open proposals} & \\textbf{votes in open proposals (train)} & \\textbf{users in open proposals (train)} & \\textbf{vpp in open proposals (train)} & \\textbf{vpu in open proposals (train)} & \\textbf{votes in test} & \\textbf{users in test} & \\textbf{vpp test} & \\textbf{vpu test} \\\\\n",
      "fold &  &  &  &  &  &  &  &  &  \\\\\n",
      "2023-W18 & 1 & 9 & 9 & 9.00 & 1.00 & 0 & 0 & 0.00 & nan \\\\\n",
      "2023-W19 & 0 & 0 & 0 & nan & nan & 0 & 0 & nan & nan \\\\\n",
      "2023-W20 & 0 & 0 & 0 & nan & nan & 0 & 0 & nan & nan \\\\\n",
      "2023-W21 & 1 & 3 & 3 & 3.00 & 1.00 & 1 & 1 & 1.00 & 1.00 \\\\\n",
      "2023-W22 & 0 & 0 & 0 & nan & nan & 0 & 0 & nan & nan \\\\\n",
      "2023-W23 & 2 & 7 & 6 & 3.50 & 1.17 & 9 & 7 & 4.50 & 1.29 \\\\\n",
      "2023-W24 & 3 & 16 & 12 & 5.33 & 1.33 & 1 & 1 & 0.33 & 1.00 \\\\\n",
      "2023-W25 & 3 & 13 & 8 & 4.33 & 1.62 & 3 & 2 & 1.00 & 1.50 \\\\\n",
      "2023-W26 & 7 & 8 & 3 & 1.14 & 2.67 & 0 & 0 & 0.00 & nan \\\\\n",
      "2023-W27 & 7 & 8 & 3 & 1.14 & 2.67 & 0 & 0 & 0.00 & nan \\\\\n",
      "\\end{tabular}\n",
      "\n"
     ]
    }
   ],
   "source": [
    "print(_style\n",
    "  .format_index(\"\\\\textbf{{{}}}\", escape=\"latex\", axis=1)\n",
    "  .to_latex()\n",
    ")"
   ]
  },
  {
   "cell_type": "markdown",
   "id": "45b03642",
   "metadata": {
    "papermill": {
     "duration": 0.00212,
     "end_time": "2024-09-05T09:02:38.929904",
     "exception": false,
     "start_time": "2024-09-05T09:02:38.927784",
     "status": "completed"
    },
    "tags": []
   },
   "source": [
    "## Running openpop baseline"
   ]
  },
  {
   "cell_type": "code",
   "execution_count": 9,
   "id": "628476d6",
   "metadata": {
    "execution": {
     "iopub.execute_input": "2024-09-05T09:02:38.934531Z",
     "iopub.status.busy": "2024-09-05T09:02:38.934368Z",
     "iopub.status.idle": "2024-09-05T09:03:24.626698Z",
     "shell.execute_reply": "2024-09-05T09:03:24.626473Z"
    },
    "papermill": {
     "duration": 45.695443,
     "end_time": "2024-09-05T09:03:24.627286",
     "exception": false,
     "start_time": "2024-09-05T09:02:38.931843",
     "status": "completed"
    },
    "tags": []
   },
   "outputs": [
    {
     "data": {
      "application/vnd.jupyter.widget-view+json": {
       "model_id": "9aae3ae3278d4ef4bc254cb5dcef72ad",
       "version_major": 2,
       "version_minor": 0
      },
      "text/plain": [
       "  0%|          | 0/214 [00:00<?, ?it/s]"
      ]
     },
     "metadata": {},
     "output_type": "display_data"
    },
    {
     "name": "stderr",
     "output_type": "stream",
     "text": [
      "Warning, empty test fold 0 (2019-06-06 00:00:00), all ok since 0 folds ago\n",
      "Warning, empty test fold 1 (2019-06-13 00:00:00), all ok since 1 folds ago\n"
     ]
    },
    {
     "name": "stderr",
     "output_type": "stream",
     "text": [
      "Warning, empty test fold 2 (2019-06-20 00:00:00), all ok since 1 folds ago\n",
      "Warning, empty test fold 3 (2019-06-27 00:00:00), all ok since 1 folds ago\n"
     ]
    },
    {
     "name": "stderr",
     "output_type": "stream",
     "text": [
      "Warning, empty test fold 4 (2019-07-04 00:00:00), all ok since 1 folds ago\n",
      "Warning, empty test fold 5 (2019-07-11 00:00:00), all ok since 1 folds ago\n"
     ]
    },
    {
     "name": "stderr",
     "output_type": "stream",
     "text": [
      "Warning, empty test fold 6 (2019-07-18 00:00:00), all ok since 1 folds ago\n",
      "Warning, empty test fold 7 (2019-07-25 00:00:00), all ok since 1 folds ago\n"
     ]
    },
    {
     "name": "stderr",
     "output_type": "stream",
     "text": [
      "Warning, empty test fold 8 (2019-08-01 00:00:00), all ok since 1 folds ago\n",
      "Warning, empty test fold 9 (2019-08-08 00:00:00), all ok since 1 folds ago\n"
     ]
    },
    {
     "name": "stderr",
     "output_type": "stream",
     "text": [
      "Warning, empty test fold 10 (2019-08-15 00:00:00), all ok since 1 folds ago\n",
      "Warning, empty test fold 11 (2019-08-22 00:00:00), all ok since 1 folds ago\n"
     ]
    },
    {
     "name": "stderr",
     "output_type": "stream",
     "text": [
      "Warning, empty test fold 12 (2019-08-29 00:00:00), all ok since 1 folds ago\n",
      "Warning, empty test fold 13 (2019-09-05 00:00:00), all ok since 1 folds ago\n"
     ]
    },
    {
     "name": "stderr",
     "output_type": "stream",
     "text": [
      "Warning, empty test fold 14 (2019-09-12 00:00:00), all ok since 1 folds ago\n",
      "Warning, empty test fold 15 (2019-09-19 00:00:00), all ok since 1 folds ago\n"
     ]
    },
    {
     "name": "stderr",
     "output_type": "stream",
     "text": [
      "Warning, empty test fold 16 (2019-09-26 00:00:00), all ok since 1 folds ago\n",
      "Warning, empty test fold 17 (2019-10-03 00:00:00), all ok since 1 folds ago\n"
     ]
    },
    {
     "name": "stderr",
     "output_type": "stream",
     "text": [
      "Warning, empty test fold 18 (2019-10-10 00:00:00), all ok since 1 folds ago\n",
      "Warning, empty test fold 19 (2019-10-17 00:00:00), all ok since 1 folds ago\n"
     ]
    },
    {
     "name": "stderr",
     "output_type": "stream",
     "text": [
      "Warning, empty test fold 20 (2019-10-24 00:00:00), all ok since 1 folds ago\n",
      "Warning, empty test fold 21 (2019-10-31 00:00:00), all ok since 1 folds ago\n"
     ]
    },
    {
     "name": "stderr",
     "output_type": "stream",
     "text": [
      "Warning, empty test fold 22 (2019-11-07 00:00:00), all ok since 1 folds ago\n",
      "Warning, empty test fold 23 (2019-11-14 00:00:00), all ok since 1 folds ago\n"
     ]
    },
    {
     "name": "stderr",
     "output_type": "stream",
     "text": [
      "Warning, empty test fold 24 (2019-11-21 00:00:00), all ok since 1 folds ago\n",
      "Warning, empty test fold 25 (2019-11-28 00:00:00), all ok since 1 folds ago\n"
     ]
    },
    {
     "name": "stderr",
     "output_type": "stream",
     "text": [
      "Warning, empty test fold 26 (2019-12-05 00:00:00), all ok since 1 folds ago\n",
      "Warning, empty test fold 27 (2019-12-12 00:00:00), all ok since 1 folds ago\n"
     ]
    },
    {
     "name": "stderr",
     "output_type": "stream",
     "text": [
      "Warning, empty test fold 28 (2019-12-19 00:00:00), all ok since 1 folds ago\n",
      "Warning, empty test fold 29 (2019-12-26 00:00:00), all ok since 1 folds ago\n"
     ]
    },
    {
     "name": "stderr",
     "output_type": "stream",
     "text": [
      "Warning, empty test fold 30 (2020-01-02 00:00:00), all ok since 1 folds ago\n",
      "Warning, empty test fold 31 (2020-01-09 00:00:00), all ok since 1 folds ago\n"
     ]
    },
    {
     "name": "stderr",
     "output_type": "stream",
     "text": [
      "Warning, empty test fold 32 (2020-01-16 00:00:00), all ok since 1 folds ago\n",
      "Warning, empty test fold 33 (2020-01-23 00:00:00), all ok since 1 folds ago\n"
     ]
    },
    {
     "name": "stderr",
     "output_type": "stream",
     "text": [
      "Warning, empty test fold 34 (2020-01-30 00:00:00), all ok since 1 folds ago\n",
      "Warning, empty test fold 35 (2020-02-06 00:00:00), all ok since 1 folds ago\n"
     ]
    },
    {
     "name": "stderr",
     "output_type": "stream",
     "text": [
      "Warning, empty test fold 36 (2020-02-13 00:00:00), all ok since 1 folds ago\n",
      "Warning, empty test fold 37 (2020-02-20 00:00:00), all ok since 1 folds ago\n"
     ]
    },
    {
     "name": "stderr",
     "output_type": "stream",
     "text": [
      "Warning, empty test fold 41 (2020-03-19 00:00:00), all ok since 4 folds ago\n"
     ]
    },
    {
     "name": "stderr",
     "output_type": "stream",
     "text": [
      "Warning, empty test fold 45 (2020-04-16 00:00:00), all ok since 4 folds ago\n",
      "Warning, empty test fold 46 (2020-04-23 00:00:00), all ok since 1 folds ago\n"
     ]
    },
    {
     "name": "stderr",
     "output_type": "stream",
     "text": [
      "Warning, empty test fold 49 (2020-05-14 00:00:00), all ok since 3 folds ago\n"
     ]
    },
    {
     "name": "stderr",
     "output_type": "stream",
     "text": [
      "Warning, empty test fold 52 (2020-06-04 00:00:00), all ok since 3 folds ago\n"
     ]
    },
    {
     "name": "stderr",
     "output_type": "stream",
     "text": [
      "Warning, empty test fold 55 (2020-06-25 00:00:00), all ok since 3 folds ago\n"
     ]
    },
    {
     "name": "stderr",
     "output_type": "stream",
     "text": [
      "Warning, empty test fold 82 (2020-12-31 00:00:00), all ok since 27 folds ago\n",
      "Warning, empty test fold 83 (2021-01-07 00:00:00), all ok since 1 folds ago\n"
     ]
    },
    {
     "name": "stderr",
     "output_type": "stream",
     "text": [
      "Warning, test fold 84 (2021-01-14 00:00:00) with less than 5 open proposals (2). all ok since 1 folds ago\n"
     ]
    },
    {
     "name": "stderr",
     "output_type": "stream",
     "text": [
      "Warning, test fold 85 (2021-01-21 00:00:00) with less than 5 open proposals (4). all ok since 1 folds ago\n"
     ]
    },
    {
     "name": "stderr",
     "output_type": "stream",
     "text": [
      "Warning, empty test fold 90 (2021-02-25 00:00:00), all ok since 7 folds ago\n"
     ]
    },
    {
     "name": "stderr",
     "output_type": "stream",
     "text": [
      "Warning, empty test fold 107 (2021-06-24 00:00:00), all ok since 17 folds ago\n"
     ]
    },
    {
     "name": "stderr",
     "output_type": "stream",
     "text": [
      "Warning, test fold 150 (2022-04-21 00:00:00) with less than 5 open proposals (3). all ok since 43 folds ago\n"
     ]
    },
    {
     "name": "stderr",
     "output_type": "stream",
     "text": [
      "Warning, test fold 155 (2022-05-26 00:00:00) with less than 5 open proposals (4). all ok since 5 folds ago\n"
     ]
    },
    {
     "name": "stderr",
     "output_type": "stream",
     "text": [
      "Warning, test fold 156 (2022-06-02 00:00:00) with less than 5 open proposals (4). all ok since 1 folds ago\n"
     ]
    },
    {
     "name": "stderr",
     "output_type": "stream",
     "text": [
      "Warning, test fold 157 (2022-06-09 00:00:00) with less than 5 open proposals (4). all ok since 1 folds ago\n"
     ]
    },
    {
     "name": "stderr",
     "output_type": "stream",
     "text": [
      "Warning, test fold 160 (2022-06-30 00:00:00) with less than 5 open proposals (3). all ok since 3 folds ago\n"
     ]
    },
    {
     "name": "stderr",
     "output_type": "stream",
     "text": [
      "Warning, test fold 163 (2022-07-21 00:00:00) with less than 5 open proposals (2). all ok since 3 folds ago\n"
     ]
    },
    {
     "name": "stderr",
     "output_type": "stream",
     "text": [
      "Warning, empty test fold 164 (2022-07-28 00:00:00), all ok since 57 folds ago\n",
      "Warning, empty test fold 165 (2022-08-04 00:00:00), all ok since 1 folds ago\n"
     ]
    },
    {
     "name": "stderr",
     "output_type": "stream",
     "text": [
      "Warning, test fold 166 (2022-08-11 00:00:00) with less than 5 open proposals (1). all ok since 1 folds ago\n"
     ]
    },
    {
     "name": "stderr",
     "output_type": "stream",
     "text": [
      "Warning, test fold 167 (2022-08-18 00:00:00) with less than 5 open proposals (2). all ok since 1 folds ago\n"
     ]
    },
    {
     "name": "stderr",
     "output_type": "stream",
     "text": [
      "Warning, empty test fold 168 (2022-08-25 00:00:00), all ok since 3 folds ago\n"
     ]
    },
    {
     "name": "stderr",
     "output_type": "stream",
     "text": [
      "Warning, empty test fold 177 (2022-10-27 00:00:00), all ok since 9 folds ago\n"
     ]
    },
    {
     "name": "stderr",
     "output_type": "stream",
     "text": [
      "Warning, test fold 180 (2022-11-17 00:00:00) with less than 5 open proposals (4). all ok since 3 folds ago\n"
     ]
    },
    {
     "name": "stderr",
     "output_type": "stream",
     "text": [
      "Warning, empty test fold 181 (2022-11-24 00:00:00), all ok since 4 folds ago\n",
      "Warning, test fold 182 (2022-12-01 00:00:00) with less than 5 open proposals (3). all ok since 1 folds ago\n"
     ]
    },
    {
     "name": "stderr",
     "output_type": "stream",
     "text": [
      "Warning, empty test fold 183 (2022-12-08 00:00:00), all ok since 2 folds ago\n",
      "Warning, test fold 184 (2022-12-15 00:00:00) with less than 5 open proposals (1). all ok since 1 folds ago\n"
     ]
    },
    {
     "name": "stderr",
     "output_type": "stream",
     "text": [
      "Warning, empty test fold 185 (2022-12-22 00:00:00), all ok since 2 folds ago\n",
      "Warning, empty test fold 186 (2022-12-29 00:00:00), all ok since 1 folds ago\n"
     ]
    },
    {
     "name": "stderr",
     "output_type": "stream",
     "text": [
      "Warning, test fold 187 (2023-01-05 00:00:00) with less than 5 open proposals (1). all ok since 1 folds ago\n"
     ]
    },
    {
     "name": "stderr",
     "output_type": "stream",
     "text": [
      "Warning, test fold 188 (2023-01-12 00:00:00) with less than 5 open proposals (3). all ok since 1 folds ago\n"
     ]
    },
    {
     "name": "stderr",
     "output_type": "stream",
     "text": [
      "Warning, test fold 189 (2023-01-19 00:00:00) with less than 5 open proposals (3). all ok since 1 folds ago\n"
     ]
    },
    {
     "name": "stderr",
     "output_type": "stream",
     "text": [
      "Warning, test fold 190 (2023-01-26 00:00:00) with less than 5 open proposals (3). all ok since 1 folds ago\n"
     ]
    },
    {
     "name": "stderr",
     "output_type": "stream",
     "text": [
      "Warning, test fold 191 (2023-02-02 00:00:00) with less than 5 open proposals (3). all ok since 1 folds ago\n"
     ]
    },
    {
     "name": "stderr",
     "output_type": "stream",
     "text": [
      "Warning, test fold 192 (2023-02-09 00:00:00) with less than 5 open proposals (3). all ok since 1 folds ago\n"
     ]
    },
    {
     "name": "stderr",
     "output_type": "stream",
     "text": [
      "Warning, test fold 193 (2023-02-16 00:00:00) with less than 5 open proposals (2). all ok since 1 folds ago\n"
     ]
    },
    {
     "name": "stderr",
     "output_type": "stream",
     "text": [
      "Warning, test fold 194 (2023-02-23 00:00:00) with less than 5 open proposals (2). all ok since 1 folds ago\n"
     ]
    },
    {
     "name": "stderr",
     "output_type": "stream",
     "text": [
      "Warning, test fold 195 (2023-03-02 00:00:00) with less than 5 open proposals (3). all ok since 1 folds ago\n"
     ]
    },
    {
     "name": "stderr",
     "output_type": "stream",
     "text": [
      "Warning, empty test fold 199 (2023-03-30 00:00:00), all ok since 13 folds ago\n",
      "Warning, test fold 200 (2023-04-06 00:00:00) with less than 5 open proposals (1). all ok since 1 folds ago\n"
     ]
    },
    {
     "name": "stderr",
     "output_type": "stream",
     "text": [
      "Warning, empty test fold 201 (2023-04-13 00:00:00), all ok since 2 folds ago\n",
      "Warning, empty test fold 202 (2023-04-20 00:00:00), all ok since 1 folds ago\n"
     ]
    },
    {
     "name": "stderr",
     "output_type": "stream",
     "text": [
      "Warning, test fold 203 (2023-04-27 00:00:00) with less than 5 open proposals (2). all ok since 1 folds ago\n"
     ]
    },
    {
     "name": "stderr",
     "output_type": "stream",
     "text": [
      "Warning, empty test fold 204 (2023-05-04 00:00:00), all ok since 2 folds ago\n",
      "Warning, empty test fold 205 (2023-05-11 00:00:00), all ok since 1 folds ago\n"
     ]
    },
    {
     "name": "stderr",
     "output_type": "stream",
     "text": [
      "Warning, empty test fold 206 (2023-05-18 00:00:00), all ok since 1 folds ago\n",
      "Warning, test fold 207 (2023-05-25 00:00:00) with less than 5 open proposals (1). all ok since 1 folds ago\n"
     ]
    },
    {
     "name": "stderr",
     "output_type": "stream",
     "text": [
      "Warning, empty test fold 208 (2023-06-01 00:00:00), all ok since 2 folds ago\n",
      "Warning, test fold 209 (2023-06-08 00:00:00) with less than 5 open proposals (2). all ok since 1 folds ago\n"
     ]
    },
    {
     "name": "stderr",
     "output_type": "stream",
     "text": [
      "Warning, test fold 210 (2023-06-15 00:00:00) with less than 5 open proposals (3). all ok since 1 folds ago\n"
     ]
    },
    {
     "name": "stderr",
     "output_type": "stream",
     "text": [
      "Warning, test fold 211 (2023-06-22 00:00:00) with less than 5 open proposals (3). all ok since 1 folds ago\n"
     ]
    },
    {
     "name": "stderr",
     "output_type": "stream",
     "text": [
      "Warning, empty test fold 212 (2023-06-29 00:00:00), all ok since 4 folds ago\n",
      "Warning, empty test fold 213 (2023-07-06 00:00:00), all ok since 1 folds ago\n"
     ]
    },
    {
     "name": "stdout",
     "output_type": "stream",
     "text": [
      "Max ok in a row: (57, Timestamp('2022-07-28 00:00:00'))\n"
     ]
    }
   ],
   "source": [
    "WARNING_AT_LEAST_OPEN = 5\n",
    "\n",
    "folds = list(cvtt_open(df, SPLITS_FREQ, dfp, remove_not_in_train_col='userID', normalize=SPLITS_NORMALIZE))\n",
    "metrics = []\n",
    "perfectmetrics = []\n",
    "\n",
    "first_empty = True\n",
    "ok_in_a_row = best_in_a_row = 0\n",
    "max_ok_in_a_row = (-1, folds[-1].end)\n",
    "for i, (train, test, t, open_proposals) in enumerate(tqdm(folds)):   \n",
    "    if first_empty:\n",
    "        if not train.empty:\n",
    "            first_empty = False\n",
    "    else:\n",
    "        assert not train.empty, f\"Train should not be empty on fold {i}\"\n",
    "    if test.empty:\n",
    "        print(f\"Warning, empty test fold {i} ({t}), all ok since {ok_in_a_row} folds ago\", file=sys.stderr)\n",
    "        if ok_in_a_row > max_ok_in_a_row[0]:\n",
    "            max_ok_in_a_row = (ok_in_a_row, t)\n",
    "        ok_in_a_row = best_in_a_row = 0\n",
    "    elif len(open_proposals) < WARNING_AT_LEAST_OPEN:\n",
    "        print(f\"Warning, test fold {i} ({t}) with less than {WARNING_AT_LEAST_OPEN} open proposals ({len(open_proposals)}). all ok since {best_in_a_row} folds ago\", file=sys.stderr)\n",
    "        best_in_a_row = 0\n",
    "\n",
    "    mdict = {'fold': t}\n",
    "    pdict = {'fold': t}\n",
    "    model = OpenPop(train)\n",
    "    recs = model.recommend_k_items(test['userID'].unique(), max(K_RECOMMENDATIONS), recommend_from=open_proposals)\n",
    "    mdict |= calculate_all_metrics(test, recs, K_RECOMMENDATIONS)\n",
    "        # for m, f in metrics_f.items():\n",
    "        #     r = f(test, recs, k=k_recs)\n",
    "        #     metrics[m+f'@{k_recs}'].append(r)\n",
    "    \n",
    "    recs = test.copy()\n",
    "    recs['prediction'] = 1\n",
    "    pdict |= calculate_all_metrics(test, recs, K_RECOMMENDATIONS)\n",
    "\n",
    "        # for m, f in metrics_f.items():\n",
    "        #     # Need relevancy_method=None as they are unsorted\n",
    "        #     r = f(test, recs, k=k_recs)\n",
    "        #     perfectmetrics[m+f'@{k_recs}'].append(r)\n",
    "\n",
    "    metrics.append(mdict)\n",
    "    perfectmetrics.append(pdict)\n",
    "    ok_in_a_row += 1\n",
    "    best_in_a_row += 1\n",
    "\n",
    "paths.save_dao_datum(ORG_NAME, 'max_ok_folds', str(max_ok_in_a_row[0]))\n",
    "paths.save_dao_datum(ORG_NAME, 'max_ok_folds_date', str(max_ok_in_a_row[1]))\n",
    "if max_ok_in_a_row == -1:\n",
    "    print(\"All ok :>\")\n",
    "else:\n",
    "    print(\"Max ok in a row:\", max_ok_in_a_row)"
   ]
  },
  {
   "cell_type": "markdown",
   "id": "7438a393",
   "metadata": {
    "papermill": {
     "duration": 0.003962,
     "end_time": "2024-09-05T09:03:24.635652",
     "exception": false,
     "start_time": "2024-09-05T09:03:24.631690",
     "status": "completed"
    },
    "tags": []
   },
   "source": [
    "### Caching these results"
   ]
  },
  {
   "cell_type": "code",
   "execution_count": 10,
   "id": "8ee9bb5c",
   "metadata": {
    "execution": {
     "iopub.execute_input": "2024-09-05T09:03:24.643730Z",
     "iopub.status.busy": "2024-09-05T09:03:24.643597Z",
     "iopub.status.idle": "2024-09-05T09:03:24.670093Z",
     "shell.execute_reply": "2024-09-05T09:03:24.669894Z"
    },
    "papermill": {
     "duration": 0.031307,
     "end_time": "2024-09-05T09:03:24.670683",
     "exception": false,
     "start_time": "2024-09-05T09:03:24.639376",
     "status": "completed"
    },
    "tags": []
   },
   "outputs": [
    {
     "name": "stdout",
     "output_type": "stream",
     "text": [
      "Saved dataframe into /home/daviddavo/recsys4daos/data/output/MetaCartel - MetaCartel Ventures/baseline/openpop_W-THU_normalize.parquet\n"
     ]
    },
    {
     "data": {
      "text/html": [
       "<div>\n",
       "<style scoped>\n",
       "    .dataframe tbody tr th:only-of-type {\n",
       "        vertical-align: middle;\n",
       "    }\n",
       "\n",
       "    .dataframe tbody tr th {\n",
       "        vertical-align: top;\n",
       "    }\n",
       "\n",
       "    .dataframe thead th {\n",
       "        text-align: right;\n",
       "    }\n",
       "</style>\n",
       "<table border=\"1\" class=\"dataframe\">\n",
       "  <thead>\n",
       "    <tr style=\"text-align: right;\">\n",
       "      <th></th>\n",
       "      <th>precision@1</th>\n",
       "      <th>precision@3</th>\n",
       "      <th>precision@5</th>\n",
       "      <th>precision@10</th>\n",
       "      <th>precision@15</th>\n",
       "      <th>precision@100</th>\n",
       "      <th>ndcg@1</th>\n",
       "      <th>ndcg@3</th>\n",
       "      <th>ndcg@5</th>\n",
       "      <th>ndcg@10</th>\n",
       "      <th>...</th>\n",
       "      <th>recall@10</th>\n",
       "      <th>recall@15</th>\n",
       "      <th>recall@100</th>\n",
       "      <th>r-precision@1</th>\n",
       "      <th>r-precision@3</th>\n",
       "      <th>r-precision@5</th>\n",
       "      <th>r-precision@10</th>\n",
       "      <th>r-precision@15</th>\n",
       "      <th>r-precision@100</th>\n",
       "      <th>time_eval</th>\n",
       "    </tr>\n",
       "  </thead>\n",
       "  <tbody>\n",
       "    <tr>\n",
       "      <th>count</th>\n",
       "      <td>214.000000</td>\n",
       "      <td>214.000000</td>\n",
       "      <td>214.000000</td>\n",
       "      <td>214.000000</td>\n",
       "      <td>214.000000</td>\n",
       "      <td>214.000000</td>\n",
       "      <td>214.000000</td>\n",
       "      <td>214.000000</td>\n",
       "      <td>214.000000</td>\n",
       "      <td>214.000000</td>\n",
       "      <td>...</td>\n",
       "      <td>214.000000</td>\n",
       "      <td>214.000000</td>\n",
       "      <td>214.000000</td>\n",
       "      <td>214.000000</td>\n",
       "      <td>200.000000</td>\n",
       "      <td>188.000000</td>\n",
       "      <td>185.000000</td>\n",
       "      <td>185.000000</td>\n",
       "      <td>185.000000</td>\n",
       "      <td>214.000000</td>\n",
       "    </tr>\n",
       "    <tr>\n",
       "      <th>mean</th>\n",
       "      <td>0.159099</td>\n",
       "      <td>0.097236</td>\n",
       "      <td>0.073841</td>\n",
       "      <td>0.041870</td>\n",
       "      <td>0.028429</td>\n",
       "      <td>0.004481</td>\n",
       "      <td>0.154426</td>\n",
       "      <td>0.202775</td>\n",
       "      <td>0.226607</td>\n",
       "      <td>0.237017</td>\n",
       "      <td>...</td>\n",
       "      <td>0.330601</td>\n",
       "      <td>0.335734</td>\n",
       "      <td>0.348099</td>\n",
       "      <td>0.265652</td>\n",
       "      <td>0.316424</td>\n",
       "      <td>0.340515</td>\n",
       "      <td>0.348188</td>\n",
       "      <td>0.348188</td>\n",
       "      <td>0.348188</td>\n",
       "      <td>0.098694</td>\n",
       "    </tr>\n",
       "    <tr>\n",
       "      <th>std</th>\n",
       "      <td>0.296303</td>\n",
       "      <td>0.141329</td>\n",
       "      <td>0.093154</td>\n",
       "      <td>0.049814</td>\n",
       "      <td>0.033684</td>\n",
       "      <td>0.005257</td>\n",
       "      <td>0.286749</td>\n",
       "      <td>0.312629</td>\n",
       "      <td>0.312663</td>\n",
       "      <td>0.312146</td>\n",
       "      <td>...</td>\n",
       "      <td>0.396404</td>\n",
       "      <td>0.398661</td>\n",
       "      <td>0.404087</td>\n",
       "      <td>0.415428</td>\n",
       "      <td>0.420241</td>\n",
       "      <td>0.426356</td>\n",
       "      <td>0.426801</td>\n",
       "      <td>0.426801</td>\n",
       "      <td>0.426801</td>\n",
       "      <td>0.027661</td>\n",
       "    </tr>\n",
       "    <tr>\n",
       "      <th>min</th>\n",
       "      <td>0.000000</td>\n",
       "      <td>0.000000</td>\n",
       "      <td>0.000000</td>\n",
       "      <td>0.000000</td>\n",
       "      <td>0.000000</td>\n",
       "      <td>0.000000</td>\n",
       "      <td>0.000000</td>\n",
       "      <td>0.000000</td>\n",
       "      <td>0.000000</td>\n",
       "      <td>0.000000</td>\n",
       "      <td>...</td>\n",
       "      <td>0.000000</td>\n",
       "      <td>0.000000</td>\n",
       "      <td>0.000000</td>\n",
       "      <td>0.000000</td>\n",
       "      <td>0.000000</td>\n",
       "      <td>0.000000</td>\n",
       "      <td>0.000000</td>\n",
       "      <td>0.000000</td>\n",
       "      <td>0.000000</td>\n",
       "      <td>0.068054</td>\n",
       "    </tr>\n",
       "    <tr>\n",
       "      <th>25%</th>\n",
       "      <td>0.000000</td>\n",
       "      <td>0.000000</td>\n",
       "      <td>0.000000</td>\n",
       "      <td>0.000000</td>\n",
       "      <td>0.000000</td>\n",
       "      <td>0.000000</td>\n",
       "      <td>0.000000</td>\n",
       "      <td>0.000000</td>\n",
       "      <td>0.000000</td>\n",
       "      <td>0.000000</td>\n",
       "      <td>...</td>\n",
       "      <td>0.000000</td>\n",
       "      <td>0.000000</td>\n",
       "      <td>0.000000</td>\n",
       "      <td>0.000000</td>\n",
       "      <td>0.000000</td>\n",
       "      <td>0.000000</td>\n",
       "      <td>0.000000</td>\n",
       "      <td>0.000000</td>\n",
       "      <td>0.000000</td>\n",
       "      <td>0.070403</td>\n",
       "    </tr>\n",
       "    <tr>\n",
       "      <th>50%</th>\n",
       "      <td>0.000000</td>\n",
       "      <td>0.000000</td>\n",
       "      <td>0.006897</td>\n",
       "      <td>0.014286</td>\n",
       "      <td>0.009524</td>\n",
       "      <td>0.001429</td>\n",
       "      <td>0.000000</td>\n",
       "      <td>0.000000</td>\n",
       "      <td>0.006865</td>\n",
       "      <td>0.048662</td>\n",
       "      <td>...</td>\n",
       "      <td>0.064583</td>\n",
       "      <td>0.064583</td>\n",
       "      <td>0.066964</td>\n",
       "      <td>0.000000</td>\n",
       "      <td>0.000000</td>\n",
       "      <td>0.000000</td>\n",
       "      <td>0.000000</td>\n",
       "      <td>0.000000</td>\n",
       "      <td>0.000000</td>\n",
       "      <td>0.106939</td>\n",
       "    </tr>\n",
       "    <tr>\n",
       "      <th>75%</th>\n",
       "      <td>0.163462</td>\n",
       "      <td>0.166667</td>\n",
       "      <td>0.150000</td>\n",
       "      <td>0.087500</td>\n",
       "      <td>0.059815</td>\n",
       "      <td>0.010000</td>\n",
       "      <td>0.163462</td>\n",
       "      <td>0.319744</td>\n",
       "      <td>0.392233</td>\n",
       "      <td>0.415087</td>\n",
       "      <td>...</td>\n",
       "      <td>0.720238</td>\n",
       "      <td>0.728571</td>\n",
       "      <td>0.750000</td>\n",
       "      <td>0.607639</td>\n",
       "      <td>0.723214</td>\n",
       "      <td>0.756944</td>\n",
       "      <td>0.777778</td>\n",
       "      <td>0.777778</td>\n",
       "      <td>0.777778</td>\n",
       "      <td>0.122820</td>\n",
       "    </tr>\n",
       "    <tr>\n",
       "      <th>max</th>\n",
       "      <td>1.000000</td>\n",
       "      <td>0.666667</td>\n",
       "      <td>0.400000</td>\n",
       "      <td>0.200000</td>\n",
       "      <td>0.133333</td>\n",
       "      <td>0.022500</td>\n",
       "      <td>1.000000</td>\n",
       "      <td>1.000000</td>\n",
       "      <td>1.000000</td>\n",
       "      <td>1.000000</td>\n",
       "      <td>...</td>\n",
       "      <td>1.000000</td>\n",
       "      <td>1.000000</td>\n",
       "      <td>1.000000</td>\n",
       "      <td>1.000000</td>\n",
       "      <td>1.000000</td>\n",
       "      <td>1.000000</td>\n",
       "      <td>1.000000</td>\n",
       "      <td>1.000000</td>\n",
       "      <td>1.000000</td>\n",
       "      <td>0.289954</td>\n",
       "    </tr>\n",
       "  </tbody>\n",
       "</table>\n",
       "<p>8 rows × 31 columns</p>\n",
       "</div>"
      ],
      "text/plain": [
       "       precision@1  precision@3  precision@5  precision@10  precision@15  \\\n",
       "count   214.000000   214.000000   214.000000    214.000000    214.000000   \n",
       "mean      0.159099     0.097236     0.073841      0.041870      0.028429   \n",
       "std       0.296303     0.141329     0.093154      0.049814      0.033684   \n",
       "min       0.000000     0.000000     0.000000      0.000000      0.000000   \n",
       "25%       0.000000     0.000000     0.000000      0.000000      0.000000   \n",
       "50%       0.000000     0.000000     0.006897      0.014286      0.009524   \n",
       "75%       0.163462     0.166667     0.150000      0.087500      0.059815   \n",
       "max       1.000000     0.666667     0.400000      0.200000      0.133333   \n",
       "\n",
       "       precision@100      ndcg@1      ndcg@3      ndcg@5     ndcg@10  ...  \\\n",
       "count     214.000000  214.000000  214.000000  214.000000  214.000000  ...   \n",
       "mean        0.004481    0.154426    0.202775    0.226607    0.237017  ...   \n",
       "std         0.005257    0.286749    0.312629    0.312663    0.312146  ...   \n",
       "min         0.000000    0.000000    0.000000    0.000000    0.000000  ...   \n",
       "25%         0.000000    0.000000    0.000000    0.000000    0.000000  ...   \n",
       "50%         0.001429    0.000000    0.000000    0.006865    0.048662  ...   \n",
       "75%         0.010000    0.163462    0.319744    0.392233    0.415087  ...   \n",
       "max         0.022500    1.000000    1.000000    1.000000    1.000000  ...   \n",
       "\n",
       "        recall@10   recall@15  recall@100  r-precision@1  r-precision@3  \\\n",
       "count  214.000000  214.000000  214.000000     214.000000     200.000000   \n",
       "mean     0.330601    0.335734    0.348099       0.265652       0.316424   \n",
       "std      0.396404    0.398661    0.404087       0.415428       0.420241   \n",
       "min      0.000000    0.000000    0.000000       0.000000       0.000000   \n",
       "25%      0.000000    0.000000    0.000000       0.000000       0.000000   \n",
       "50%      0.064583    0.064583    0.066964       0.000000       0.000000   \n",
       "75%      0.720238    0.728571    0.750000       0.607639       0.723214   \n",
       "max      1.000000    1.000000    1.000000       1.000000       1.000000   \n",
       "\n",
       "       r-precision@5  r-precision@10  r-precision@15  r-precision@100  \\\n",
       "count     188.000000      185.000000      185.000000       185.000000   \n",
       "mean        0.340515        0.348188        0.348188         0.348188   \n",
       "std         0.426356        0.426801        0.426801         0.426801   \n",
       "min         0.000000        0.000000        0.000000         0.000000   \n",
       "25%         0.000000        0.000000        0.000000         0.000000   \n",
       "50%         0.000000        0.000000        0.000000         0.000000   \n",
       "75%         0.756944        0.777778        0.777778         0.777778   \n",
       "max         1.000000        1.000000        1.000000         1.000000   \n",
       "\n",
       "        time_eval  \n",
       "count  214.000000  \n",
       "mean     0.098694  \n",
       "std      0.027661  \n",
       "min      0.068054  \n",
       "25%      0.070403  \n",
       "50%      0.106939  \n",
       "75%      0.122820  \n",
       "max      0.289954  \n",
       "\n",
       "[8 rows x 31 columns]"
      ]
     },
     "execution_count": 10,
     "metadata": {},
     "output_type": "execute_result"
    }
   ],
   "source": [
    "odf = pd.DataFrame(metrics).set_index(\"fold\")\n",
    "paths.save_openpop(odf, ORG_NAME, SPLITS_FREQ, SPLITS_NORMALIZE)\n",
    "odf.describe()"
   ]
  },
  {
   "cell_type": "code",
   "execution_count": 11,
   "id": "49daf46a",
   "metadata": {
    "execution": {
     "iopub.execute_input": "2024-09-05T09:03:24.678947Z",
     "iopub.status.busy": "2024-09-05T09:03:24.678862Z",
     "iopub.status.idle": "2024-09-05T09:03:24.704504Z",
     "shell.execute_reply": "2024-09-05T09:03:24.704316Z"
    },
    "papermill": {
     "duration": 0.030536,
     "end_time": "2024-09-05T09:03:24.705113",
     "exception": false,
     "start_time": "2024-09-05T09:03:24.674577",
     "status": "completed"
    },
    "tags": []
   },
   "outputs": [
    {
     "name": "stdout",
     "output_type": "stream",
     "text": [
      "Saved dataframe into /home/daviddavo/recsys4daos/data/output/MetaCartel - MetaCartel Ventures/baseline/perfect_W-THU_normalize.parquet\n"
     ]
    },
    {
     "data": {
      "text/html": [
       "<div>\n",
       "<style scoped>\n",
       "    .dataframe tbody tr th:only-of-type {\n",
       "        vertical-align: middle;\n",
       "    }\n",
       "\n",
       "    .dataframe tbody tr th {\n",
       "        vertical-align: top;\n",
       "    }\n",
       "\n",
       "    .dataframe thead th {\n",
       "        text-align: right;\n",
       "    }\n",
       "</style>\n",
       "<table border=\"1\" class=\"dataframe\">\n",
       "  <thead>\n",
       "    <tr style=\"text-align: right;\">\n",
       "      <th></th>\n",
       "      <th>precision@1</th>\n",
       "      <th>precision@3</th>\n",
       "      <th>precision@5</th>\n",
       "      <th>precision@10</th>\n",
       "      <th>precision@15</th>\n",
       "      <th>precision@100</th>\n",
       "      <th>ndcg@1</th>\n",
       "      <th>ndcg@3</th>\n",
       "      <th>ndcg@5</th>\n",
       "      <th>ndcg@10</th>\n",
       "      <th>...</th>\n",
       "      <th>recall@10</th>\n",
       "      <th>recall@15</th>\n",
       "      <th>recall@100</th>\n",
       "      <th>r-precision@1</th>\n",
       "      <th>r-precision@3</th>\n",
       "      <th>r-precision@5</th>\n",
       "      <th>r-precision@10</th>\n",
       "      <th>r-precision@15</th>\n",
       "      <th>r-precision@100</th>\n",
       "      <th>time_eval</th>\n",
       "    </tr>\n",
       "  </thead>\n",
       "  <tbody>\n",
       "    <tr>\n",
       "      <th>count</th>\n",
       "      <td>214.000000</td>\n",
       "      <td>214.000000</td>\n",
       "      <td>214.000000</td>\n",
       "      <td>214.000000</td>\n",
       "      <td>214.000000</td>\n",
       "      <td>214.000000</td>\n",
       "      <td>214.000000</td>\n",
       "      <td>214.000000</td>\n",
       "      <td>214.000000</td>\n",
       "      <td>214.000000</td>\n",
       "      <td>...</td>\n",
       "      <td>214.000000</td>\n",
       "      <td>214.000000</td>\n",
       "      <td>214.000000</td>\n",
       "      <td>214.000000</td>\n",
       "      <td>214.000000</td>\n",
       "      <td>214.000000</td>\n",
       "      <td>214.000000</td>\n",
       "      <td>214.000000</td>\n",
       "      <td>214.000000</td>\n",
       "      <td>214.000000</td>\n",
       "    </tr>\n",
       "    <tr>\n",
       "      <th>mean</th>\n",
       "      <td>0.696262</td>\n",
       "      <td>0.322244</td>\n",
       "      <td>0.207649</td>\n",
       "      <td>0.112483</td>\n",
       "      <td>0.077118</td>\n",
       "      <td>0.011769</td>\n",
       "      <td>0.696262</td>\n",
       "      <td>0.696262</td>\n",
       "      <td>0.696262</td>\n",
       "      <td>0.696262</td>\n",
       "      <td>...</td>\n",
       "      <td>0.693452</td>\n",
       "      <td>0.695485</td>\n",
       "      <td>0.696262</td>\n",
       "      <td>0.578569</td>\n",
       "      <td>0.674776</td>\n",
       "      <td>0.684964</td>\n",
       "      <td>0.693452</td>\n",
       "      <td>0.695485</td>\n",
       "      <td>0.696262</td>\n",
       "      <td>0.109888</td>\n",
       "    </tr>\n",
       "    <tr>\n",
       "      <th>std</th>\n",
       "      <td>0.460949</td>\n",
       "      <td>0.256407</td>\n",
       "      <td>0.191062</td>\n",
       "      <td>0.128888</td>\n",
       "      <td>0.096228</td>\n",
       "      <td>0.014955</td>\n",
       "      <td>0.460949</td>\n",
       "      <td>0.460949</td>\n",
       "      <td>0.460949</td>\n",
       "      <td>0.460949</td>\n",
       "      <td>...</td>\n",
       "      <td>0.459539</td>\n",
       "      <td>0.460475</td>\n",
       "      <td>0.460949</td>\n",
       "      <td>0.422178</td>\n",
       "      <td>0.456080</td>\n",
       "      <td>0.457485</td>\n",
       "      <td>0.459539</td>\n",
       "      <td>0.460475</td>\n",
       "      <td>0.460949</td>\n",
       "      <td>0.024480</td>\n",
       "    </tr>\n",
       "    <tr>\n",
       "      <th>min</th>\n",
       "      <td>0.000000</td>\n",
       "      <td>0.000000</td>\n",
       "      <td>0.000000</td>\n",
       "      <td>0.000000</td>\n",
       "      <td>0.000000</td>\n",
       "      <td>0.000000</td>\n",
       "      <td>0.000000</td>\n",
       "      <td>0.000000</td>\n",
       "      <td>0.000000</td>\n",
       "      <td>0.000000</td>\n",
       "      <td>...</td>\n",
       "      <td>0.000000</td>\n",
       "      <td>0.000000</td>\n",
       "      <td>0.000000</td>\n",
       "      <td>0.000000</td>\n",
       "      <td>0.000000</td>\n",
       "      <td>0.000000</td>\n",
       "      <td>0.000000</td>\n",
       "      <td>0.000000</td>\n",
       "      <td>0.000000</td>\n",
       "      <td>0.071770</td>\n",
       "    </tr>\n",
       "    <tr>\n",
       "      <th>25%</th>\n",
       "      <td>0.000000</td>\n",
       "      <td>0.000000</td>\n",
       "      <td>0.000000</td>\n",
       "      <td>0.000000</td>\n",
       "      <td>0.000000</td>\n",
       "      <td>0.000000</td>\n",
       "      <td>0.000000</td>\n",
       "      <td>0.000000</td>\n",
       "      <td>0.000000</td>\n",
       "      <td>0.000000</td>\n",
       "      <td>...</td>\n",
       "      <td>0.000000</td>\n",
       "      <td>0.000000</td>\n",
       "      <td>0.000000</td>\n",
       "      <td>0.000000</td>\n",
       "      <td>0.000000</td>\n",
       "      <td>0.000000</td>\n",
       "      <td>0.000000</td>\n",
       "      <td>0.000000</td>\n",
       "      <td>0.000000</td>\n",
       "      <td>0.074155</td>\n",
       "    </tr>\n",
       "    <tr>\n",
       "      <th>50%</th>\n",
       "      <td>1.000000</td>\n",
       "      <td>0.333333</td>\n",
       "      <td>0.200000</td>\n",
       "      <td>0.100000</td>\n",
       "      <td>0.066667</td>\n",
       "      <td>0.010000</td>\n",
       "      <td>1.000000</td>\n",
       "      <td>1.000000</td>\n",
       "      <td>1.000000</td>\n",
       "      <td>1.000000</td>\n",
       "      <td>...</td>\n",
       "      <td>1.000000</td>\n",
       "      <td>1.000000</td>\n",
       "      <td>1.000000</td>\n",
       "      <td>0.750000</td>\n",
       "      <td>1.000000</td>\n",
       "      <td>1.000000</td>\n",
       "      <td>1.000000</td>\n",
       "      <td>1.000000</td>\n",
       "      <td>1.000000</td>\n",
       "      <td>0.125320</td>\n",
       "    </tr>\n",
       "    <tr>\n",
       "      <th>75%</th>\n",
       "      <td>1.000000</td>\n",
       "      <td>0.463636</td>\n",
       "      <td>0.284286</td>\n",
       "      <td>0.142143</td>\n",
       "      <td>0.094762</td>\n",
       "      <td>0.014214</td>\n",
       "      <td>1.000000</td>\n",
       "      <td>1.000000</td>\n",
       "      <td>1.000000</td>\n",
       "      <td>1.000000</td>\n",
       "      <td>...</td>\n",
       "      <td>1.000000</td>\n",
       "      <td>1.000000</td>\n",
       "      <td>1.000000</td>\n",
       "      <td>1.000000</td>\n",
       "      <td>1.000000</td>\n",
       "      <td>1.000000</td>\n",
       "      <td>1.000000</td>\n",
       "      <td>1.000000</td>\n",
       "      <td>1.000000</td>\n",
       "      <td>0.127109</td>\n",
       "    </tr>\n",
       "    <tr>\n",
       "      <th>max</th>\n",
       "      <td>1.000000</td>\n",
       "      <td>1.000000</td>\n",
       "      <td>1.000000</td>\n",
       "      <td>1.000000</td>\n",
       "      <td>0.866667</td>\n",
       "      <td>0.130000</td>\n",
       "      <td>1.000000</td>\n",
       "      <td>1.000000</td>\n",
       "      <td>1.000000</td>\n",
       "      <td>1.000000</td>\n",
       "      <td>...</td>\n",
       "      <td>1.000000</td>\n",
       "      <td>1.000000</td>\n",
       "      <td>1.000000</td>\n",
       "      <td>1.000000</td>\n",
       "      <td>1.000000</td>\n",
       "      <td>1.000000</td>\n",
       "      <td>1.000000</td>\n",
       "      <td>1.000000</td>\n",
       "      <td>1.000000</td>\n",
       "      <td>0.132514</td>\n",
       "    </tr>\n",
       "  </tbody>\n",
       "</table>\n",
       "<p>8 rows × 31 columns</p>\n",
       "</div>"
      ],
      "text/plain": [
       "       precision@1  precision@3  precision@5  precision@10  precision@15  \\\n",
       "count   214.000000   214.000000   214.000000    214.000000    214.000000   \n",
       "mean      0.696262     0.322244     0.207649      0.112483      0.077118   \n",
       "std       0.460949     0.256407     0.191062      0.128888      0.096228   \n",
       "min       0.000000     0.000000     0.000000      0.000000      0.000000   \n",
       "25%       0.000000     0.000000     0.000000      0.000000      0.000000   \n",
       "50%       1.000000     0.333333     0.200000      0.100000      0.066667   \n",
       "75%       1.000000     0.463636     0.284286      0.142143      0.094762   \n",
       "max       1.000000     1.000000     1.000000      1.000000      0.866667   \n",
       "\n",
       "       precision@100      ndcg@1      ndcg@3      ndcg@5     ndcg@10  ...  \\\n",
       "count     214.000000  214.000000  214.000000  214.000000  214.000000  ...   \n",
       "mean        0.011769    0.696262    0.696262    0.696262    0.696262  ...   \n",
       "std         0.014955    0.460949    0.460949    0.460949    0.460949  ...   \n",
       "min         0.000000    0.000000    0.000000    0.000000    0.000000  ...   \n",
       "25%         0.000000    0.000000    0.000000    0.000000    0.000000  ...   \n",
       "50%         0.010000    1.000000    1.000000    1.000000    1.000000  ...   \n",
       "75%         0.014214    1.000000    1.000000    1.000000    1.000000  ...   \n",
       "max         0.130000    1.000000    1.000000    1.000000    1.000000  ...   \n",
       "\n",
       "        recall@10   recall@15  recall@100  r-precision@1  r-precision@3  \\\n",
       "count  214.000000  214.000000  214.000000     214.000000     214.000000   \n",
       "mean     0.693452    0.695485    0.696262       0.578569       0.674776   \n",
       "std      0.459539    0.460475    0.460949       0.422178       0.456080   \n",
       "min      0.000000    0.000000    0.000000       0.000000       0.000000   \n",
       "25%      0.000000    0.000000    0.000000       0.000000       0.000000   \n",
       "50%      1.000000    1.000000    1.000000       0.750000       1.000000   \n",
       "75%      1.000000    1.000000    1.000000       1.000000       1.000000   \n",
       "max      1.000000    1.000000    1.000000       1.000000       1.000000   \n",
       "\n",
       "       r-precision@5  r-precision@10  r-precision@15  r-precision@100  \\\n",
       "count     214.000000      214.000000      214.000000       214.000000   \n",
       "mean        0.684964        0.693452        0.695485         0.696262   \n",
       "std         0.457485        0.459539        0.460475         0.460949   \n",
       "min         0.000000        0.000000        0.000000         0.000000   \n",
       "25%         0.000000        0.000000        0.000000         0.000000   \n",
       "50%         1.000000        1.000000        1.000000         1.000000   \n",
       "75%         1.000000        1.000000        1.000000         1.000000   \n",
       "max         1.000000        1.000000        1.000000         1.000000   \n",
       "\n",
       "        time_eval  \n",
       "count  214.000000  \n",
       "mean     0.109888  \n",
       "std      0.024480  \n",
       "min      0.071770  \n",
       "25%      0.074155  \n",
       "50%      0.125320  \n",
       "75%      0.127109  \n",
       "max      0.132514  \n",
       "\n",
       "[8 rows x 31 columns]"
      ]
     },
     "metadata": {},
     "output_type": "display_data"
    }
   ],
   "source": [
    "pdf = pd.DataFrame(perfectmetrics).set_index(\"fold\")\n",
    "cols = [ c for c in pdf.columns if not c.startswith('time_') ]\n",
    "paths.save_perfect(pdf, ORG_NAME, SPLITS_FREQ, SPLITS_NORMALIZE)\n",
    "display(pdf.describe())\n",
    "msk = (0 <= pdf[cols].min()) & (pdf[cols].max() <= 1)\n",
    "if not all(msk):\n",
    "    display(pdf.describe()[msk[~msk].index])\n",
    "assert all( msk ), \"There are metrics with wrong range\""
   ]
  },
  {
   "cell_type": "markdown",
   "id": "9ff5bd54",
   "metadata": {
    "papermill": {
     "duration": 0.004081,
     "end_time": "2024-09-05T09:03:24.713327",
     "exception": false,
     "start_time": "2024-09-05T09:03:24.709246",
     "status": "completed"
    },
    "tags": []
   },
   "source": [
    "## Plotting some graphs"
   ]
  },
  {
   "cell_type": "code",
   "execution_count": 12,
   "id": "a27ae041",
   "metadata": {
    "execution": {
     "iopub.execute_input": "2024-09-05T09:03:24.721946Z",
     "iopub.status.busy": "2024-09-05T09:03:24.721828Z",
     "iopub.status.idle": "2024-09-05T09:03:24.860811Z",
     "shell.execute_reply": "2024-09-05T09:03:24.860531Z"
    },
    "papermill": {
     "duration": 0.144251,
     "end_time": "2024-09-05T09:03:24.861569",
     "exception": false,
     "start_time": "2024-09-05T09:03:24.717318",
     "status": "completed"
    },
    "tags": []
   },
   "outputs": [
    {
     "data": {
      "text/html": [
       "<div>\n",
       "<style scoped>\n",
       "    .dataframe tbody tr th:only-of-type {\n",
       "        vertical-align: middle;\n",
       "    }\n",
       "\n",
       "    .dataframe tbody tr th {\n",
       "        vertical-align: top;\n",
       "    }\n",
       "\n",
       "    .dataframe thead th {\n",
       "        text-align: right;\n",
       "    }\n",
       "</style>\n",
       "<table border=\"1\" class=\"dataframe\">\n",
       "  <thead>\n",
       "    <tr style=\"text-align: right;\">\n",
       "      <th></th>\n",
       "      <th>fold</th>\n",
       "      <th>precision@1</th>\n",
       "      <th>precision@3</th>\n",
       "      <th>precision@5</th>\n",
       "      <th>precision@10</th>\n",
       "      <th>precision@15</th>\n",
       "      <th>precision@100</th>\n",
       "      <th>ndcg@1</th>\n",
       "      <th>ndcg@3</th>\n",
       "      <th>ndcg@5</th>\n",
       "      <th>...</th>\n",
       "      <th>recall@100</th>\n",
       "      <th>r-precision@1</th>\n",
       "      <th>r-precision@3</th>\n",
       "      <th>r-precision@5</th>\n",
       "      <th>r-precision@10</th>\n",
       "      <th>r-precision@15</th>\n",
       "      <th>r-precision@100</th>\n",
       "      <th>time_eval</th>\n",
       "      <th>perfect precision@5</th>\n",
       "      <th>perfect precision@10</th>\n",
       "    </tr>\n",
       "  </thead>\n",
       "  <tbody>\n",
       "    <tr>\n",
       "      <th>count</th>\n",
       "      <td>214</td>\n",
       "      <td>214.000000</td>\n",
       "      <td>214.000000</td>\n",
       "      <td>214.000000</td>\n",
       "      <td>214.000000</td>\n",
       "      <td>214.000000</td>\n",
       "      <td>214.000000</td>\n",
       "      <td>214.000000</td>\n",
       "      <td>214.000000</td>\n",
       "      <td>214.000000</td>\n",
       "      <td>...</td>\n",
       "      <td>214.000000</td>\n",
       "      <td>214.000000</td>\n",
       "      <td>200.000000</td>\n",
       "      <td>188.000000</td>\n",
       "      <td>185.000000</td>\n",
       "      <td>185.000000</td>\n",
       "      <td>185.000000</td>\n",
       "      <td>214.000000</td>\n",
       "      <td>0.0</td>\n",
       "      <td>0.0</td>\n",
       "    </tr>\n",
       "    <tr>\n",
       "      <th>mean</th>\n",
       "      <td>2021-06-20 12:00:00</td>\n",
       "      <td>0.159099</td>\n",
       "      <td>0.097236</td>\n",
       "      <td>0.073841</td>\n",
       "      <td>0.041870</td>\n",
       "      <td>0.028429</td>\n",
       "      <td>0.004481</td>\n",
       "      <td>0.154426</td>\n",
       "      <td>0.202775</td>\n",
       "      <td>0.226607</td>\n",
       "      <td>...</td>\n",
       "      <td>0.348099</td>\n",
       "      <td>0.265652</td>\n",
       "      <td>0.316424</td>\n",
       "      <td>0.340515</td>\n",
       "      <td>0.348188</td>\n",
       "      <td>0.348188</td>\n",
       "      <td>0.348188</td>\n",
       "      <td>0.098694</td>\n",
       "      <td>NaN</td>\n",
       "      <td>NaN</td>\n",
       "    </tr>\n",
       "    <tr>\n",
       "      <th>min</th>\n",
       "      <td>2019-06-06 00:00:00</td>\n",
       "      <td>0.000000</td>\n",
       "      <td>0.000000</td>\n",
       "      <td>0.000000</td>\n",
       "      <td>0.000000</td>\n",
       "      <td>0.000000</td>\n",
       "      <td>0.000000</td>\n",
       "      <td>0.000000</td>\n",
       "      <td>0.000000</td>\n",
       "      <td>0.000000</td>\n",
       "      <td>...</td>\n",
       "      <td>0.000000</td>\n",
       "      <td>0.000000</td>\n",
       "      <td>0.000000</td>\n",
       "      <td>0.000000</td>\n",
       "      <td>0.000000</td>\n",
       "      <td>0.000000</td>\n",
       "      <td>0.000000</td>\n",
       "      <td>0.068054</td>\n",
       "      <td>NaN</td>\n",
       "      <td>NaN</td>\n",
       "    </tr>\n",
       "    <tr>\n",
       "      <th>25%</th>\n",
       "      <td>2020-06-12 18:00:00</td>\n",
       "      <td>0.000000</td>\n",
       "      <td>0.000000</td>\n",
       "      <td>0.000000</td>\n",
       "      <td>0.000000</td>\n",
       "      <td>0.000000</td>\n",
       "      <td>0.000000</td>\n",
       "      <td>0.000000</td>\n",
       "      <td>0.000000</td>\n",
       "      <td>0.000000</td>\n",
       "      <td>...</td>\n",
       "      <td>0.000000</td>\n",
       "      <td>0.000000</td>\n",
       "      <td>0.000000</td>\n",
       "      <td>0.000000</td>\n",
       "      <td>0.000000</td>\n",
       "      <td>0.000000</td>\n",
       "      <td>0.000000</td>\n",
       "      <td>0.070403</td>\n",
       "      <td>NaN</td>\n",
       "      <td>NaN</td>\n",
       "    </tr>\n",
       "    <tr>\n",
       "      <th>50%</th>\n",
       "      <td>2021-06-20 12:00:00</td>\n",
       "      <td>0.000000</td>\n",
       "      <td>0.000000</td>\n",
       "      <td>0.006897</td>\n",
       "      <td>0.014286</td>\n",
       "      <td>0.009524</td>\n",
       "      <td>0.001429</td>\n",
       "      <td>0.000000</td>\n",
       "      <td>0.000000</td>\n",
       "      <td>0.006865</td>\n",
       "      <td>...</td>\n",
       "      <td>0.066964</td>\n",
       "      <td>0.000000</td>\n",
       "      <td>0.000000</td>\n",
       "      <td>0.000000</td>\n",
       "      <td>0.000000</td>\n",
       "      <td>0.000000</td>\n",
       "      <td>0.000000</td>\n",
       "      <td>0.106939</td>\n",
       "      <td>NaN</td>\n",
       "      <td>NaN</td>\n",
       "    </tr>\n",
       "    <tr>\n",
       "      <th>75%</th>\n",
       "      <td>2022-06-28 06:00:00</td>\n",
       "      <td>0.163462</td>\n",
       "      <td>0.166667</td>\n",
       "      <td>0.150000</td>\n",
       "      <td>0.087500</td>\n",
       "      <td>0.059815</td>\n",
       "      <td>0.010000</td>\n",
       "      <td>0.163462</td>\n",
       "      <td>0.319744</td>\n",
       "      <td>0.392233</td>\n",
       "      <td>...</td>\n",
       "      <td>0.750000</td>\n",
       "      <td>0.607639</td>\n",
       "      <td>0.723214</td>\n",
       "      <td>0.756944</td>\n",
       "      <td>0.777778</td>\n",
       "      <td>0.777778</td>\n",
       "      <td>0.777778</td>\n",
       "      <td>0.122820</td>\n",
       "      <td>NaN</td>\n",
       "      <td>NaN</td>\n",
       "    </tr>\n",
       "    <tr>\n",
       "      <th>max</th>\n",
       "      <td>2023-07-06 00:00:00</td>\n",
       "      <td>1.000000</td>\n",
       "      <td>0.666667</td>\n",
       "      <td>0.400000</td>\n",
       "      <td>0.200000</td>\n",
       "      <td>0.133333</td>\n",
       "      <td>0.022500</td>\n",
       "      <td>1.000000</td>\n",
       "      <td>1.000000</td>\n",
       "      <td>1.000000</td>\n",
       "      <td>...</td>\n",
       "      <td>1.000000</td>\n",
       "      <td>1.000000</td>\n",
       "      <td>1.000000</td>\n",
       "      <td>1.000000</td>\n",
       "      <td>1.000000</td>\n",
       "      <td>1.000000</td>\n",
       "      <td>1.000000</td>\n",
       "      <td>0.289954</td>\n",
       "      <td>NaN</td>\n",
       "      <td>NaN</td>\n",
       "    </tr>\n",
       "    <tr>\n",
       "      <th>std</th>\n",
       "      <td>NaN</td>\n",
       "      <td>0.296303</td>\n",
       "      <td>0.141329</td>\n",
       "      <td>0.093154</td>\n",
       "      <td>0.049814</td>\n",
       "      <td>0.033684</td>\n",
       "      <td>0.005257</td>\n",
       "      <td>0.286749</td>\n",
       "      <td>0.312629</td>\n",
       "      <td>0.312663</td>\n",
       "      <td>...</td>\n",
       "      <td>0.404087</td>\n",
       "      <td>0.415428</td>\n",
       "      <td>0.420241</td>\n",
       "      <td>0.426356</td>\n",
       "      <td>0.426801</td>\n",
       "      <td>0.426801</td>\n",
       "      <td>0.426801</td>\n",
       "      <td>0.027661</td>\n",
       "      <td>NaN</td>\n",
       "      <td>NaN</td>\n",
       "    </tr>\n",
       "  </tbody>\n",
       "</table>\n",
       "<p>8 rows × 34 columns</p>\n",
       "</div>"
      ],
      "text/plain": [
       "                      fold  precision@1  precision@3  precision@5  \\\n",
       "count                  214   214.000000   214.000000   214.000000   \n",
       "mean   2021-06-20 12:00:00     0.159099     0.097236     0.073841   \n",
       "min    2019-06-06 00:00:00     0.000000     0.000000     0.000000   \n",
       "25%    2020-06-12 18:00:00     0.000000     0.000000     0.000000   \n",
       "50%    2021-06-20 12:00:00     0.000000     0.000000     0.006897   \n",
       "75%    2022-06-28 06:00:00     0.163462     0.166667     0.150000   \n",
       "max    2023-07-06 00:00:00     1.000000     0.666667     0.400000   \n",
       "std                    NaN     0.296303     0.141329     0.093154   \n",
       "\n",
       "       precision@10  precision@15  precision@100      ndcg@1      ndcg@3  \\\n",
       "count    214.000000    214.000000     214.000000  214.000000  214.000000   \n",
       "mean       0.041870      0.028429       0.004481    0.154426    0.202775   \n",
       "min        0.000000      0.000000       0.000000    0.000000    0.000000   \n",
       "25%        0.000000      0.000000       0.000000    0.000000    0.000000   \n",
       "50%        0.014286      0.009524       0.001429    0.000000    0.000000   \n",
       "75%        0.087500      0.059815       0.010000    0.163462    0.319744   \n",
       "max        0.200000      0.133333       0.022500    1.000000    1.000000   \n",
       "std        0.049814      0.033684       0.005257    0.286749    0.312629   \n",
       "\n",
       "           ndcg@5  ...  recall@100  r-precision@1  r-precision@3  \\\n",
       "count  214.000000  ...  214.000000     214.000000     200.000000   \n",
       "mean     0.226607  ...    0.348099       0.265652       0.316424   \n",
       "min      0.000000  ...    0.000000       0.000000       0.000000   \n",
       "25%      0.000000  ...    0.000000       0.000000       0.000000   \n",
       "50%      0.006865  ...    0.066964       0.000000       0.000000   \n",
       "75%      0.392233  ...    0.750000       0.607639       0.723214   \n",
       "max      1.000000  ...    1.000000       1.000000       1.000000   \n",
       "std      0.312663  ...    0.404087       0.415428       0.420241   \n",
       "\n",
       "       r-precision@5  r-precision@10  r-precision@15  r-precision@100  \\\n",
       "count     188.000000      185.000000      185.000000       185.000000   \n",
       "mean        0.340515        0.348188        0.348188         0.348188   \n",
       "min         0.000000        0.000000        0.000000         0.000000   \n",
       "25%         0.000000        0.000000        0.000000         0.000000   \n",
       "50%         0.000000        0.000000        0.000000         0.000000   \n",
       "75%         0.756944        0.777778        0.777778         0.777778   \n",
       "max         1.000000        1.000000        1.000000         1.000000   \n",
       "std         0.426356        0.426801        0.426801         0.426801   \n",
       "\n",
       "        time_eval  perfect precision@5  perfect precision@10  \n",
       "count  214.000000                  0.0                   0.0  \n",
       "mean     0.098694                  NaN                   NaN  \n",
       "min      0.068054                  NaN                   NaN  \n",
       "25%      0.070403                  NaN                   NaN  \n",
       "50%      0.106939                  NaN                   NaN  \n",
       "75%      0.122820                  NaN                   NaN  \n",
       "max      0.289954                  NaN                   NaN  \n",
       "std      0.027661                  NaN                   NaN  \n",
       "\n",
       "[8 rows x 34 columns]"
      ]
     },
     "execution_count": 12,
     "metadata": {},
     "output_type": "execute_result"
    },
    {
     "data": {
      "image/png": "[encoded data removed]",
      "text/plain": [
       "<Figure size 640x480 with 1 Axes>"
      ]
     },
     "metadata": {},
     "output_type": "display_data"
    }
   ],
   "source": [
    "mdf = pd.DataFrame(metrics)\n",
    "mdf['perfect precision@5'] = pdf['precision@5']\n",
    "mdf['perfect precision@10'] = pdf['precision@10']\n",
    "mdf[['precision@5', 'perfect precision@5', 'precision@10', 'perfect precision@10']].plot(title='Evaluación modelo baseline MP')\n",
    "mdf.describe()"
   ]
  },
  {
   "cell_type": "code",
   "execution_count": 13,
   "id": "291f2293",
   "metadata": {
    "execution": {
     "iopub.execute_input": "2024-09-05T09:03:24.871661Z",
     "iopub.status.busy": "2024-09-05T09:03:24.871532Z",
     "iopub.status.idle": "2024-09-05T09:03:24.895307Z",
     "shell.execute_reply": "2024-09-05T09:03:24.895124Z"
    },
    "papermill": {
     "duration": 0.029328,
     "end_time": "2024-09-05T09:03:24.895892",
     "exception": false,
     "start_time": "2024-09-05T09:03:24.866564",
     "status": "completed"
    },
    "tags": []
   },
   "outputs": [
    {
     "data": {
      "text/html": [
       "<div>\n",
       "<style scoped>\n",
       "    .dataframe tbody tr th:only-of-type {\n",
       "        vertical-align: middle;\n",
       "    }\n",
       "\n",
       "    .dataframe tbody tr th {\n",
       "        vertical-align: top;\n",
       "    }\n",
       "\n",
       "    .dataframe thead th {\n",
       "        text-align: right;\n",
       "    }\n",
       "</style>\n",
       "<table border=\"1\" class=\"dataframe\">\n",
       "  <thead>\n",
       "    <tr style=\"text-align: right;\">\n",
       "      <th></th>\n",
       "      <th>fold</th>\n",
       "      <th>precision@1</th>\n",
       "      <th>precision@3</th>\n",
       "      <th>precision@5</th>\n",
       "      <th>precision@10</th>\n",
       "      <th>precision@15</th>\n",
       "      <th>precision@100</th>\n",
       "      <th>ndcg@1</th>\n",
       "      <th>ndcg@3</th>\n",
       "      <th>ndcg@5</th>\n",
       "      <th>...</th>\n",
       "      <th>recall@100</th>\n",
       "      <th>r-precision@1</th>\n",
       "      <th>r-precision@3</th>\n",
       "      <th>r-precision@5</th>\n",
       "      <th>r-precision@10</th>\n",
       "      <th>r-precision@15</th>\n",
       "      <th>r-precision@100</th>\n",
       "      <th>time_eval</th>\n",
       "      <th>perfect precision@5</th>\n",
       "      <th>perfect precision@10</th>\n",
       "    </tr>\n",
       "  </thead>\n",
       "  <tbody>\n",
       "    <tr>\n",
       "      <th>count</th>\n",
       "      <td>10</td>\n",
       "      <td>10.000000</td>\n",
       "      <td>10.000000</td>\n",
       "      <td>10.000000</td>\n",
       "      <td>10.000000</td>\n",
       "      <td>10.000000</td>\n",
       "      <td>10.000000</td>\n",
       "      <td>10.000000</td>\n",
       "      <td>10.000000</td>\n",
       "      <td>10.000000</td>\n",
       "      <td>...</td>\n",
       "      <td>10.000000</td>\n",
       "      <td>10.000000</td>\n",
       "      <td>10.000000</td>\n",
       "      <td>10.000000</td>\n",
       "      <td>10.000000</td>\n",
       "      <td>10.000000</td>\n",
       "      <td>10.000000</td>\n",
       "      <td>10.000000</td>\n",
       "      <td>0.0</td>\n",
       "      <td>0.0</td>\n",
       "    </tr>\n",
       "    <tr>\n",
       "      <th>mean</th>\n",
       "      <td>2023-06-04 12:00:00</td>\n",
       "      <td>0.285714</td>\n",
       "      <td>0.142857</td>\n",
       "      <td>0.085714</td>\n",
       "      <td>0.042857</td>\n",
       "      <td>0.028571</td>\n",
       "      <td>0.004286</td>\n",
       "      <td>0.235714</td>\n",
       "      <td>0.244728</td>\n",
       "      <td>0.244728</td>\n",
       "      <td>...</td>\n",
       "      <td>0.300000</td>\n",
       "      <td>0.233333</td>\n",
       "      <td>0.300000</td>\n",
       "      <td>0.300000</td>\n",
       "      <td>0.300000</td>\n",
       "      <td>0.300000</td>\n",
       "      <td>0.300000</td>\n",
       "      <td>0.085921</td>\n",
       "      <td>NaN</td>\n",
       "      <td>NaN</td>\n",
       "    </tr>\n",
       "    <tr>\n",
       "      <th>min</th>\n",
       "      <td>2023-05-04 00:00:00</td>\n",
       "      <td>0.000000</td>\n",
       "      <td>0.000000</td>\n",
       "      <td>0.000000</td>\n",
       "      <td>0.000000</td>\n",
       "      <td>0.000000</td>\n",
       "      <td>0.000000</td>\n",
       "      <td>0.000000</td>\n",
       "      <td>0.000000</td>\n",
       "      <td>0.000000</td>\n",
       "      <td>...</td>\n",
       "      <td>0.000000</td>\n",
       "      <td>0.000000</td>\n",
       "      <td>0.000000</td>\n",
       "      <td>0.000000</td>\n",
       "      <td>0.000000</td>\n",
       "      <td>0.000000</td>\n",
       "      <td>0.000000</td>\n",
       "      <td>0.068315</td>\n",
       "      <td>NaN</td>\n",
       "      <td>NaN</td>\n",
       "    </tr>\n",
       "    <tr>\n",
       "      <th>25%</th>\n",
       "      <td>2023-05-19 18:00:00</td>\n",
       "      <td>0.000000</td>\n",
       "      <td>0.000000</td>\n",
       "      <td>0.000000</td>\n",
       "      <td>0.000000</td>\n",
       "      <td>0.000000</td>\n",
       "      <td>0.000000</td>\n",
       "      <td>0.000000</td>\n",
       "      <td>0.000000</td>\n",
       "      <td>0.000000</td>\n",
       "      <td>...</td>\n",
       "      <td>0.000000</td>\n",
       "      <td>0.000000</td>\n",
       "      <td>0.000000</td>\n",
       "      <td>0.000000</td>\n",
       "      <td>0.000000</td>\n",
       "      <td>0.000000</td>\n",
       "      <td>0.000000</td>\n",
       "      <td>0.069137</td>\n",
       "      <td>NaN</td>\n",
       "      <td>NaN</td>\n",
       "    </tr>\n",
       "    <tr>\n",
       "      <th>50%</th>\n",
       "      <td>2023-06-04 12:00:00</td>\n",
       "      <td>0.000000</td>\n",
       "      <td>0.000000</td>\n",
       "      <td>0.000000</td>\n",
       "      <td>0.000000</td>\n",
       "      <td>0.000000</td>\n",
       "      <td>0.000000</td>\n",
       "      <td>0.000000</td>\n",
       "      <td>0.000000</td>\n",
       "      <td>0.000000</td>\n",
       "      <td>...</td>\n",
       "      <td>0.000000</td>\n",
       "      <td>0.000000</td>\n",
       "      <td>0.000000</td>\n",
       "      <td>0.000000</td>\n",
       "      <td>0.000000</td>\n",
       "      <td>0.000000</td>\n",
       "      <td>0.000000</td>\n",
       "      <td>0.070177</td>\n",
       "      <td>NaN</td>\n",
       "      <td>NaN</td>\n",
       "    </tr>\n",
       "    <tr>\n",
       "      <th>75%</th>\n",
       "      <td>2023-06-20 06:00:00</td>\n",
       "      <td>0.642857</td>\n",
       "      <td>0.250000</td>\n",
       "      <td>0.150000</td>\n",
       "      <td>0.075000</td>\n",
       "      <td>0.050000</td>\n",
       "      <td>0.007500</td>\n",
       "      <td>0.375000</td>\n",
       "      <td>0.375000</td>\n",
       "      <td>0.375000</td>\n",
       "      <td>...</td>\n",
       "      <td>0.750000</td>\n",
       "      <td>0.375000</td>\n",
       "      <td>0.750000</td>\n",
       "      <td>0.750000</td>\n",
       "      <td>0.750000</td>\n",
       "      <td>0.750000</td>\n",
       "      <td>0.750000</td>\n",
       "      <td>0.108196</td>\n",
       "      <td>NaN</td>\n",
       "      <td>NaN</td>\n",
       "    </tr>\n",
       "    <tr>\n",
       "      <th>max</th>\n",
       "      <td>2023-07-06 00:00:00</td>\n",
       "      <td>1.000000</td>\n",
       "      <td>0.666667</td>\n",
       "      <td>0.400000</td>\n",
       "      <td>0.200000</td>\n",
       "      <td>0.133333</td>\n",
       "      <td>0.020000</td>\n",
       "      <td>1.000000</td>\n",
       "      <td>1.000000</td>\n",
       "      <td>1.000000</td>\n",
       "      <td>...</td>\n",
       "      <td>1.000000</td>\n",
       "      <td>1.000000</td>\n",
       "      <td>1.000000</td>\n",
       "      <td>1.000000</td>\n",
       "      <td>1.000000</td>\n",
       "      <td>1.000000</td>\n",
       "      <td>1.000000</td>\n",
       "      <td>0.123541</td>\n",
       "      <td>NaN</td>\n",
       "      <td>NaN</td>\n",
       "    </tr>\n",
       "    <tr>\n",
       "      <th>std</th>\n",
       "      <td>NaN</td>\n",
       "      <td>0.461684</td>\n",
       "      <td>0.243846</td>\n",
       "      <td>0.146308</td>\n",
       "      <td>0.073154</td>\n",
       "      <td>0.048769</td>\n",
       "      <td>0.007315</td>\n",
       "      <td>0.398481</td>\n",
       "      <td>0.414784</td>\n",
       "      <td>0.414784</td>\n",
       "      <td>...</td>\n",
       "      <td>0.483046</td>\n",
       "      <td>0.394405</td>\n",
       "      <td>0.483046</td>\n",
       "      <td>0.483046</td>\n",
       "      <td>0.483046</td>\n",
       "      <td>0.483046</td>\n",
       "      <td>0.483046</td>\n",
       "      <td>0.024421</td>\n",
       "      <td>NaN</td>\n",
       "      <td>NaN</td>\n",
       "    </tr>\n",
       "  </tbody>\n",
       "</table>\n",
       "<p>8 rows × 34 columns</p>\n",
       "</div>"
      ],
      "text/plain": [
       "                      fold  precision@1  precision@3  precision@5  \\\n",
       "count                   10    10.000000    10.000000    10.000000   \n",
       "mean   2023-06-04 12:00:00     0.285714     0.142857     0.085714   \n",
       "min    2023-05-04 00:00:00     0.000000     0.000000     0.000000   \n",
       "25%    2023-05-19 18:00:00     0.000000     0.000000     0.000000   \n",
       "50%    2023-06-04 12:00:00     0.000000     0.000000     0.000000   \n",
       "75%    2023-06-20 06:00:00     0.642857     0.250000     0.150000   \n",
       "max    2023-07-06 00:00:00     1.000000     0.666667     0.400000   \n",
       "std                    NaN     0.461684     0.243846     0.146308   \n",
       "\n",
       "       precision@10  precision@15  precision@100     ndcg@1     ndcg@3  \\\n",
       "count     10.000000     10.000000      10.000000  10.000000  10.000000   \n",
       "mean       0.042857      0.028571       0.004286   0.235714   0.244728   \n",
       "min        0.000000      0.000000       0.000000   0.000000   0.000000   \n",
       "25%        0.000000      0.000000       0.000000   0.000000   0.000000   \n",
       "50%        0.000000      0.000000       0.000000   0.000000   0.000000   \n",
       "75%        0.075000      0.050000       0.007500   0.375000   0.375000   \n",
       "max        0.200000      0.133333       0.020000   1.000000   1.000000   \n",
       "std        0.073154      0.048769       0.007315   0.398481   0.414784   \n",
       "\n",
       "          ndcg@5  ...  recall@100  r-precision@1  r-precision@3  \\\n",
       "count  10.000000  ...   10.000000      10.000000      10.000000   \n",
       "mean    0.244728  ...    0.300000       0.233333       0.300000   \n",
       "min     0.000000  ...    0.000000       0.000000       0.000000   \n",
       "25%     0.000000  ...    0.000000       0.000000       0.000000   \n",
       "50%     0.000000  ...    0.000000       0.000000       0.000000   \n",
       "75%     0.375000  ...    0.750000       0.375000       0.750000   \n",
       "max     1.000000  ...    1.000000       1.000000       1.000000   \n",
       "std     0.414784  ...    0.483046       0.394405       0.483046   \n",
       "\n",
       "       r-precision@5  r-precision@10  r-precision@15  r-precision@100  \\\n",
       "count      10.000000       10.000000       10.000000        10.000000   \n",
       "mean        0.300000        0.300000        0.300000         0.300000   \n",
       "min         0.000000        0.000000        0.000000         0.000000   \n",
       "25%         0.000000        0.000000        0.000000         0.000000   \n",
       "50%         0.000000        0.000000        0.000000         0.000000   \n",
       "75%         0.750000        0.750000        0.750000         0.750000   \n",
       "max         1.000000        1.000000        1.000000         1.000000   \n",
       "std         0.483046        0.483046        0.483046         0.483046   \n",
       "\n",
       "       time_eval  perfect precision@5  perfect precision@10  \n",
       "count  10.000000                  0.0                   0.0  \n",
       "mean    0.085921                  NaN                   NaN  \n",
       "min     0.068315                  NaN                   NaN  \n",
       "25%     0.069137                  NaN                   NaN  \n",
       "50%     0.070177                  NaN                   NaN  \n",
       "75%     0.108196                  NaN                   NaN  \n",
       "max     0.123541                  NaN                   NaN  \n",
       "std     0.024421                  NaN                   NaN  \n",
       "\n",
       "[8 rows x 34 columns]"
      ]
     },
     "execution_count": 13,
     "metadata": {},
     "output_type": "execute_result"
    }
   ],
   "source": [
    "mdf[-LAST_FOLDS:].describe()"
   ]
  },
  {
   "cell_type": "code",
   "execution_count": null,
   "id": "e228c1c3",
   "metadata": {
    "papermill": {
     "duration": 0.00467,
     "end_time": "2024-09-05T09:03:24.905139",
     "exception": false,
     "start_time": "2024-09-05T09:03:24.900469",
     "status": "completed"
    },
    "tags": []
   },
   "outputs": [],
   "source": []
  }
 ],
 "metadata": {
  "kernelspec": {
   "display_name": "Python 3 (ipykernel)",
   "language": "python",
   "name": "python3"
  },
  "language_info": {
   "codemirror_mode": {
    "name": "ipython",
    "version": 3
   },
   "file_extension": ".py",
   "mimetype": "text/x-python",
   "name": "python",
   "nbconvert_exporter": "python",
   "pygments_lexer": "ipython3",
   "version": "3.11.6"
  },
  "papermill": {
   "default_parameters": {},
   "duration": 51.027296,
   "end_time": "2024-09-05T09:03:25.928548",
   "environment_variables": {},
   "exception": null,
   "input_path": "10_baseline.ipynb",
   "output_path": "../nbout/MetaCartel - MetaCartel Ventures/10_baseline.ipynb",
   "parameters": {
    "EXECUTION_ID": "2024-09-04T10:00",
    "LAST_FOLDS": 10,
    "LAST_FOLD_DATE_STR": "2022-01-06",
    "ORG_NAME": "MetaCartel - MetaCartel Ventures",
    "SPLITS_FREQ": "W-THU",
    "SPLITS_NORMALIZE": true
   },
   "start_time": "2024-09-05T09:02:34.901252",
   "version": "2.6.0"
  },
  "widgets": {
   "application/vnd.jupyter.widget-state+json": {
    "state": {
     "2e7be6a9d1814c519948ddb7465b384f": {
      "model_module": "@jupyter-widgets/controls",
      "model_module_version": "2.0.0",
      "model_name": "HTMLModel",
      "state": {
       "_dom_classes": [],
       "_model_module": "@jupyter-widgets/controls",
       "_model_module_version": "2.0.0",
       "_model_name": "HTMLModel",
       "_view_count": null,
       "_view_module": "@jupyter-widgets/controls",
       "_view_module_version": "2.0.0",
       "_view_name": "HTMLView",
       "description": "",
       "description_allow_html": false,
       "layout": "IPY_MODEL_d52f8cd36bb64d4a91a1acfb74ae0d2e",
       "placeholder": "​",
       "style": "IPY_MODEL_59a009eb9a7842e18953fcff55fb8bf3",
       "tabbable": null,
       "tooltip": null,
       "value": " 214/214 [00:45&lt;00:00,  5.54it/s]"
      }
     },
     "3d457c5371094fe89a9fa7640e08269d": {
      "model_module": "@jupyter-widgets/controls",
      "model_module_version": "2.0.0",
      "model_name": "HTMLStyleModel",
      "state": {
       "_model_module": "@jupyter-widgets/controls",
       "_model_module_version": "2.0.0",
       "_model_name": "HTMLStyleModel",
       "_view_count": null,
       "_view_module": "@jupyter-widgets/base",
       "_view_module_version": "2.0.0",
       "_view_name": "StyleView",
       "background": null,
       "description_width": "",
       "font_size": null,
       "text_color": null
      }
     },
     "3e86885b05b84741b81aa16b2483fd2b": {
      "model_module": "@jupyter-widgets/controls",
      "model_module_version": "2.0.0",
      "model_name": "ProgressStyleModel",
      "state": {
       "_model_module": "@jupyter-widgets/controls",
       "_model_module_version": "2.0.0",
       "_model_name": "ProgressStyleModel",
       "_view_count": null,
       "_view_module": "@jupyter-widgets/base",
       "_view_module_version": "2.0.0",
       "_view_name": "StyleView",
       "bar_color": null,
       "description_width": ""
      }
     },
     "59a009eb9a7842e18953fcff55fb8bf3": {
      "model_module": "@jupyter-widgets/controls",
      "model_module_version": "2.0.0",
      "model_name": "HTMLStyleModel",
      "state": {
       "_model_module": "@jupyter-widgets/controls",
       "_model_module_version": "2.0.0",
       "_model_name": "HTMLStyleModel",
       "_view_count": null,
       "_view_module": "@jupyter-widgets/base",
       "_view_module_version": "2.0.0",
       "_view_name": "StyleView",
       "background": null,
       "description_width": "",
       "font_size": null,
       "text_color": null
      }
     },
     "7fc72c693ee641b594ba59cff103fdf4": {
      "model_module": "@jupyter-widgets/controls",
      "model_module_version": "2.0.0",
      "model_name": "HTMLModel",
      "state": {
       "_dom_classes": [],
       "_model_module": "@jupyter-widgets/controls",
       "_model_module_version": "2.0.0",
       "_model_name": "HTMLModel",
       "_view_count": null,
       "_view_module": "@jupyter-widgets/controls",
       "_view_module_version": "2.0.0",
       "_view_name": "HTMLView",
       "description": "",
       "description_allow_html": false,
       "layout": "IPY_MODEL_e313876368934c9da87290f6c12ee338",
       "placeholder": "​",
       "style": "IPY_MODEL_3d457c5371094fe89a9fa7640e08269d",
       "tabbable": null,
       "tooltip": null,
       "value": "100%"
      }
     },
     "804fb66880d34b3e8bf3f776370d88a4": {
      "model_module": "@jupyter-widgets/base",
      "model_module_version": "2.0.0",
      "model_name": "LayoutModel",
      "state": {
       "_model_module": "@jupyter-widgets/base",
       "_model_module_version": "2.0.0",
       "_model_name": "LayoutModel",
       "_view_count": null,
       "_view_module": "@jupyter-widgets/base",
       "_view_module_version": "2.0.0",
       "_view_name": "LayoutView",
       "align_content": null,
       "align_items": null,
       "align_self": null,
       "border_bottom": null,
       "border_left": null,
       "border_right": null,
       "border_top": null,
       "bottom": null,
       "display": null,
       "flex": null,
       "flex_flow": null,
       "grid_area": null,
       "grid_auto_columns": null,
       "grid_auto_flow": null,
       "grid_auto_rows": null,
       "grid_column": null,
       "grid_gap": null,
       "grid_row": null,
       "grid_template_areas": null,
       "grid_template_columns": null,
       "grid_template_rows": null,
       "height": null,
       "justify_content": null,
       "justify_items": null,
       "left": null,
       "margin": null,
       "max_height": null,
       "max_width": null,
       "min_height": null,
       "min_width": null,
       "object_fit": null,
       "object_position": null,
       "order": null,
       "overflow": null,
       "padding": null,
       "right": null,
       "top": null,
       "visibility": null,
       "width": null
      }
     },
     "9aae3ae3278d4ef4bc254cb5dcef72ad": {
      "model_module": "@jupyter-widgets/controls",
      "model_module_version": "2.0.0",
      "model_name": "HBoxModel",
      "state": {
       "_dom_classes": [],
       "_model_module": "@jupyter-widgets/controls",
       "_model_module_version": "2.0.0",
       "_model_name": "HBoxModel",
       "_view_count": null,
       "_view_module": "@jupyter-widgets/controls",
       "_view_module_version": "2.0.0",
       "_view_name": "HBoxView",
       "box_style": "",
       "children": [
        "IPY_MODEL_7fc72c693ee641b594ba59cff103fdf4",
        "IPY_MODEL_b59cd964b7414409b09bf1447497d426",
        "IPY_MODEL_2e7be6a9d1814c519948ddb7465b384f"
       ],
       "layout": "IPY_MODEL_dcd49f0404fa4742b2be3e5871a4134d",
       "tabbable": null,
       "tooltip": null
      }
     },
     "b59cd964b7414409b09bf1447497d426": {
      "model_module": "@jupyter-widgets/controls",
      "model_module_version": "2.0.0",
      "model_name": "FloatProgressModel",
      "state": {
       "_dom_classes": [],
       "_model_module": "@jupyter-widgets/controls",
       "_model_module_version": "2.0.0",
       "_model_name": "FloatProgressModel",
       "_view_count": null,
       "_view_module": "@jupyter-widgets/controls",
       "_view_module_version": "2.0.0",
       "_view_name": "ProgressView",
       "bar_style": "success",
       "description": "",
       "description_allow_html": false,
       "layout": "IPY_MODEL_804fb66880d34b3e8bf3f776370d88a4",
       "max": 214.0,
       "min": 0.0,
       "orientation": "horizontal",
       "style": "IPY_MODEL_3e86885b05b84741b81aa16b2483fd2b",
       "tabbable": null,
       "tooltip": null,
       "value": 214.0
      }
     },
     "d52f8cd36bb64d4a91a1acfb74ae0d2e": {
      "model_module": "@jupyter-widgets/base",
      "model_module_version": "2.0.0",
      "model_name": "LayoutModel",
      "state": {
       "_model_module": "@jupyter-widgets/base",
       "_model_module_version": "2.0.0",
       "_model_name": "LayoutModel",
       "_view_count": null,
       "_view_module": "@jupyter-widgets/base",
       "_view_module_version": "2.0.0",
       "_view_name": "LayoutView",
       "align_content": null,
       "align_items": null,
       "align_self": null,
       "border_bottom": null,
       "border_left": null,
       "border_right": null,
       "border_top": null,
       "bottom": null,
       "display": null,
       "flex": null,
       "flex_flow": null,
       "grid_area": null,
       "grid_auto_columns": null,
       "grid_auto_flow": null,
       "grid_auto_rows": null,
       "grid_column": null,
       "grid_gap": null,
       "grid_row": null,
       "grid_template_areas": null,
       "grid_template_columns": null,
       "grid_template_rows": null,
       "height": null,
       "justify_content": null,
       "justify_items": null,
       "left": null,
       "margin": null,
       "max_height": null,
       "max_width": null,
       "min_height": null,
       "min_width": null,
       "object_fit": null,
       "object_position": null,
       "order": null,
       "overflow": null,
       "padding": null,
       "right": null,
       "top": null,
       "visibility": null,
       "width": null
      }
     },
     "dcd49f0404fa4742b2be3e5871a4134d": {
      "model_module": "@jupyter-widgets/base",
      "model_module_version": "2.0.0",
      "model_name": "LayoutModel",
      "state": {
       "_model_module": "@jupyter-widgets/base",
       "_model_module_version": "2.0.0",
       "_model_name": "LayoutModel",
       "_view_count": null,
       "_view_module": "@jupyter-widgets/base",
       "_view_module_version": "2.0.0",
       "_view_name": "LayoutView",
       "align_content": null,
       "align_items": null,
       "align_self": null,
       "border_bottom": null,
       "border_left": null,
       "border_right": null,
       "border_top": null,
       "bottom": null,
       "display": null,
       "flex": null,
       "flex_flow": null,
       "grid_area": null,
       "grid_auto_columns": null,
       "grid_auto_flow": null,
       "grid_auto_rows": null,
       "grid_column": null,
       "grid_gap": null,
       "grid_row": null,
       "grid_template_areas": null,
       "grid_template_columns": null,
       "grid_template_rows": null,
       "height": null,
       "justify_content": null,
       "justify_items": null,
       "left": null,
       "margin": null,
       "max_height": null,
       "max_width": null,
       "min_height": null,
       "min_width": null,
       "object_fit": null,
       "object_position": null,
       "order": null,
       "overflow": null,
       "padding": null,
       "right": null,
       "top": null,
       "visibility": null,
       "width": null
      }
     },
     "e313876368934c9da87290f6c12ee338": {
      "model_module": "@jupyter-widgets/base",
      "model_module_version": "2.0.0",
      "model_name": "LayoutModel",
      "state": {
       "_model_module": "@jupyter-widgets/base",
       "_model_module_version": "2.0.0",
       "_model_name": "LayoutModel",
       "_view_count": null,
       "_view_module": "@jupyter-widgets/base",
       "_view_module_version": "2.0.0",
       "_view_name": "LayoutView",
       "align_content": null,
       "align_items": null,
       "align_self": null,
       "border_bottom": null,
       "border_left": null,
       "border_right": null,
       "border_top": null,
       "bottom": null,
       "display": null,
       "flex": null,
       "flex_flow": null,
       "grid_area": null,
       "grid_auto_columns": null,
       "grid_auto_flow": null,
       "grid_auto_rows": null,
       "grid_column": null,
       "grid_gap": null,
       "grid_row": null,
       "grid_template_areas": null,
       "grid_template_columns": null,
       "grid_template_rows": null,
       "height": null,
       "justify_content": null,
       "justify_items": null,
       "left": null,
       "margin": null,
       "max_height": null,
       "max_width": null,
       "min_height": null,
       "min_width": null,
       "object_fit": null,
       "object_position": null,
       "order": null,
       "overflow": null,
       "padding": null,
       "right": null,
       "top": null,
       "visibility": null,
       "width": null
      }
     }
    },
    "version_major": 2,
    "version_minor": 0
   }
  }
 },
 "nbformat": 4,
 "nbformat_minor": 5
}