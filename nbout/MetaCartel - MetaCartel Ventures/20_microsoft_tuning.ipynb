{
 "cells": [
  {
   "cell_type": "code",
   "execution_count": 1,
   "id": "c8013bde",
   "metadata": {
    "editable": true,
    "execution": {
     "iopub.execute_input": "2024-09-05T09:03:51.563215Z",
     "iopub.status.busy": "2024-09-05T09:03:51.563121Z",
     "iopub.status.idle": "2024-09-05T09:03:54.393256Z",
     "shell.execute_reply": "2024-09-05T09:03:54.392941Z"
    },
    "papermill": {
     "duration": 2.839033,
     "end_time": "2024-09-05T09:03:54.394027",
     "exception": false,
     "start_time": "2024-09-05T09:03:51.554994",
     "status": "completed"
    },
    "slideshow": {
     "slide_type": ""
    },
    "tags": []
   },
   "outputs": [
    {
     "name": "stderr",
     "output_type": "stream",
     "text": [
      "/tmp/ipykernel_3811185/1371776918.py:11: TqdmExperimentalWarning: Using `tqdm.autonotebook.tqdm` in notebook mode. Use `tqdm.tqdm` instead to force console mode (e.g. in jupyter console)\n",
      "  from tqdm.autonotebook import tqdm\n"
     ]
    },
    {
     "name": "stdout",
     "output_type": "stream",
     "text": [
      "Ignoring warnings\n",
      "3.11.6 (main, Jun 24 2024, 07:45:26) [GCC 11.4.0]\n",
      "recommenders: 1.2.0\n",
      "ray: 2.30.0\n",
      "tensorflow: 2.16.1\n"
     ]
    }
   ],
   "source": [
    "from typing import List, Dict, Any\n",
    "\n",
    "from pathlib import Path\n",
    "import os, sys\n",
    "import time\n",
    "import datetime as dt\n",
    "import itertools as it\n",
    "\n",
    "import numpy as np\n",
    "import pandas as pd\n",
    "from tqdm.autonotebook import tqdm\n",
    "import ray\n",
    "from ray import train, tune\n",
    "import ipywidgets as widgets\n",
    "\n",
    "from recsys4daos.model_selection import cvtt_open\n",
    "from recsys4daos.datasets import to_microsoft, filter_window_size\n",
    "from recsys4daos.models import LightGCNCustom\n",
    "from recsys4daos.utils import Timer\n",
    "import recsys4daos.utils.notebooks as nbu\n",
    "\n",
    "import recommenders\n",
    "if recommenders.__version__ == '1.2.0':\n",
    "    print(\"Ignoring warnings\")\n",
    "    import warnings\n",
    "    warnings.simplefilter(action='ignore', category=FutureWarning)\n",
    "\n",
    "import paths\n",
    "\n",
    "nbu.print_versions('ray', 'tensorflow')\n",
    "\n",
    "%load_ext autoreload\n",
    "%autoreload 2"
   ]
  },
  {
   "cell_type": "code",
   "execution_count": 2,
   "id": "91b15e58",
   "metadata": {
    "editable": true,
    "execution": {
     "iopub.execute_input": "2024-09-05T09:03:54.400096Z",
     "iopub.status.busy": "2024-09-05T09:03:54.399840Z",
     "iopub.status.idle": "2024-09-05T09:03:54.421693Z",
     "shell.execute_reply": "2024-09-05T09:03:54.421369Z"
    },
    "papermill": {
     "duration": 0.025538,
     "end_time": "2024-09-05T09:03:54.422297",
     "exception": false,
     "start_time": "2024-09-05T09:03:54.396759",
     "status": "completed"
    },
    "slideshow": {
     "slide_type": ""
    },
    "tags": [
     "parameters"
    ]
   },
   "outputs": [],
   "source": [
    "# Others config\n",
    "SEED: int = 57\n",
    "RAY_RESULTS_PATH: Path = '~/ray_results3.11'\n",
    "\n",
    "# Dataset splits config\n",
    "ORG_NAME = 'Decentraland'\n",
    "SPLITS_FREQ = 'W-THU'  # Split weekly\n",
    "LAST_FOLDS = 10  # Use just last 10 splits\n",
    "SPLITS_NORMALIZE = True\n",
    "LAST_FOLD_DATE_STR: str = '2023-07-13'\n",
    "\n",
    "# Training config\n",
    "MAX_EPOCHS: int = 200\n",
    "EPOCHS_PER_ITER: int = 5\n",
    "SAMPLES_PER_SPLIT: int = 100\n",
    "MAX_TIME_TOTAL_TRAIN: int = 300\n",
    "OPTIM_METRIC: str = 'map@10'\n",
    "\n",
    "# Search space config\n",
    "MAX_EMBEDDING_DIM = 1024\n",
    "MIN_BATCH_SIZE = 6\n",
    "MAX_BATCH_SIZE = 10 # 2**10\n",
    "MIN_LR = 1e-4\n",
    "# WINDOW_SIZES = ['7d', '14d', '21d', '30d', '60d', '90d', '10YE']\n",
    "WINDOW_SIZES = ['21d', '30d', '60d', '90d', '10YE']\n",
    "GPUS = 16\n",
    "\n",
    "# Eval config\n",
    "K_RECOMMENDATIONS: List[int] = [1,3,5,10,15,100]\n",
    "METRICS: List[str] = [\"recall\", \"ndcg\", \"precision\", \"map\"]"
   ]
  },
  {
   "cell_type": "code",
   "execution_count": 3,
   "id": "193f3e0d",
   "metadata": {
    "execution": {
     "iopub.execute_input": "2024-09-05T09:03:54.427382Z",
     "iopub.status.busy": "2024-09-05T09:03:54.427258Z",
     "iopub.status.idle": "2024-09-05T09:03:54.445652Z",
     "shell.execute_reply": "2024-09-05T09:03:54.445437Z"
    },
    "papermill": {
     "duration": 0.021755,
     "end_time": "2024-09-05T09:03:54.446379",
     "exception": false,
     "start_time": "2024-09-05T09:03:54.424624",
     "status": "completed"
    },
    "tags": [
     "injected-parameters"
    ]
   },
   "outputs": [],
   "source": [
    "# Parameters\n",
    "EXECUTION_ID = \"2024-09-04T10:00\"\n",
    "ORG_NAME = \"MetaCartel - MetaCartel Ventures\"\n",
    "SPLITS_FREQ = \"W-THU\"\n",
    "LAST_FOLDS = 10\n",
    "SPLITS_NORMALIZE = True\n",
    "LAST_FOLD_DATE_STR = \"2022-01-06\"\n"
   ]
  },
  {
   "cell_type": "code",
   "execution_count": 4,
   "id": "ce7f6fd4",
   "metadata": {
    "execution": {
     "iopub.execute_input": "2024-09-05T09:03:54.451336Z",
     "iopub.status.busy": "2024-09-05T09:03:54.451196Z",
     "iopub.status.idle": "2024-09-05T09:03:54.468566Z",
     "shell.execute_reply": "2024-09-05T09:03:54.468355Z"
    },
    "papermill": {
     "duration": 0.020734,
     "end_time": "2024-09-05T09:03:54.469272",
     "exception": false,
     "start_time": "2024-09-05T09:03:54.448538",
     "status": "completed"
    },
    "tags": []
   },
   "outputs": [],
   "source": [
    "RAY_RESULTS_PATH = Path(RAY_RESULTS_PATH).expanduser()"
   ]
  },
  {
   "cell_type": "markdown",
   "id": "92f7ef15",
   "metadata": {
    "papermill": {
     "duration": 0.002167,
     "end_time": "2024-09-05T09:03:54.473650",
     "exception": false,
     "start_time": "2024-09-05T09:03:54.471483",
     "status": "completed"
    },
    "tags": []
   },
   "source": [
    "## Obtain dataset"
   ]
  },
  {
   "cell_type": "code",
   "execution_count": 5,
   "id": "86612735",
   "metadata": {
    "execution": {
     "iopub.execute_input": "2024-09-05T09:03:54.478452Z",
     "iopub.status.busy": "2024-09-05T09:03:54.478318Z",
     "iopub.status.idle": "2024-09-05T09:03:54.621310Z",
     "shell.execute_reply": "2024-09-05T09:03:54.620443Z"
    },
    "papermill": {
     "duration": 0.149201,
     "end_time": "2024-09-05T09:03:54.624915",
     "exception": false,
     "start_time": "2024-09-05T09:03:54.475714",
     "status": "completed"
    },
    "tags": []
   },
   "outputs": [
    {
     "name": "stdout",
     "output_type": "stream",
     "text": [
      "/home/daviddavo/recsys4daos/notebooks\r\n"
     ]
    }
   ],
   "source": [
    "!pwd"
   ]
  },
  {
   "cell_type": "code",
   "execution_count": 6,
   "id": "0f47374d",
   "metadata": {
    "execution": {
     "iopub.execute_input": "2024-09-05T09:03:54.640919Z",
     "iopub.status.busy": "2024-09-05T09:03:54.640750Z",
     "iopub.status.idle": "2024-09-05T09:03:54.682573Z",
     "shell.execute_reply": "2024-09-05T09:03:54.682331Z"
    },
    "papermill": {
     "duration": 0.04755,
     "end_time": "2024-09-05T09:03:54.683099",
     "exception": false,
     "start_time": "2024-09-05T09:03:54.635549",
     "status": "completed"
    },
    "tags": []
   },
   "outputs": [
    {
     "name": "stdout",
     "output_type": "stream",
     "text": [
      "<class 'pandas.core.frame.DataFrame'>\n",
      "RangeIndex: 1088 entries, 0 to 1087\n",
      "Data columns (total 6 columns):\n",
      " #   Column             Non-Null Count  Dtype         \n",
      "---  ------             --------------  -----         \n",
      " 0   id                 1088 non-null   object        \n",
      " 1   author             1088 non-null   object        \n",
      " 2   date               1088 non-null   datetime64[us]\n",
      " 3   start              1088 non-null   datetime64[us]\n",
      " 4   end                807 non-null    datetime64[us]\n",
      " 5   platform_proposal  1088 non-null   object        \n",
      "dtypes: datetime64[us](3), object(3)\n",
      "memory usage: 51.1+ KB\n",
      "None\n",
      "<class 'pandas.core.frame.DataFrame'>\n",
      "RangeIndex: 3287 entries, 0 to 3286\n",
      "Data columns (total 4 columns):\n",
      " #   Column    Non-Null Count  Dtype         \n",
      "---  ------    --------------  -----         \n",
      " 0   id        3287 non-null   object        \n",
      " 1   proposal  3287 non-null   object        \n",
      " 2   voter     3287 non-null   object        \n",
      " 3   date      3287 non-null   datetime64[us]\n",
      "dtypes: datetime64[us](1), object(3)\n",
      "memory usage: 102.8+ KB\n",
      "None\n"
     ]
    }
   ],
   "source": [
    "dfp = paths.load_proposals(ORG_NAME)\n",
    "dfv = paths.load_votes(ORG_NAME)\n",
    "\n",
    "print(dfp.info())\n",
    "print(dfv.info())"
   ]
  },
  {
   "cell_type": "markdown",
   "id": "341c06ef",
   "metadata": {
    "papermill": {
     "duration": 0.002364,
     "end_time": "2024-09-05T09:03:54.687968",
     "exception": false,
     "start_time": "2024-09-05T09:03:54.685604",
     "status": "completed"
    },
    "tags": []
   },
   "source": [
    "## Split data"
   ]
  },
  {
   "cell_type": "code",
   "execution_count": 7,
   "id": "c6b7bc21",
   "metadata": {
    "execution": {
     "iopub.execute_input": "2024-09-05T09:03:54.693259Z",
     "iopub.status.busy": "2024-09-05T09:03:54.693133Z",
     "iopub.status.idle": "2024-09-05T09:03:54.719655Z",
     "shell.execute_reply": "2024-09-05T09:03:54.719453Z"
    },
    "papermill": {
     "duration": 0.030022,
     "end_time": "2024-09-05T09:03:54.720344",
     "exception": false,
     "start_time": "2024-09-05T09:03:54.690322",
     "status": "completed"
    },
    "tags": []
   },
   "outputs": [
    {
     "data": {
      "text/html": [
       "<div>\n",
       "<style scoped>\n",
       "    .dataframe tbody tr th:only-of-type {\n",
       "        vertical-align: middle;\n",
       "    }\n",
       "\n",
       "    .dataframe tbody tr th {\n",
       "        vertical-align: top;\n",
       "    }\n",
       "\n",
       "    .dataframe thead th {\n",
       "        text-align: right;\n",
       "    }\n",
       "</style>\n",
       "<table border=\"1\" class=\"dataframe\">\n",
       "  <thead>\n",
       "    <tr style=\"text-align: right;\">\n",
       "      <th></th>\n",
       "      <th>userID</th>\n",
       "      <th>itemID</th>\n",
       "      <th>timestamp</th>\n",
       "      <th>rating</th>\n",
       "    </tr>\n",
       "  </thead>\n",
       "  <tbody>\n",
       "    <tr>\n",
       "      <th>0</th>\n",
       "      <td>0x865c2f85c9fea1c6ac7f53de07554d68cb92ed88</td>\n",
       "      <td>a3cd7b01-435c-50cd-8d8c-75102df1027c</td>\n",
       "      <td>2019-06-06 09:49:38</td>\n",
       "      <td>1</td>\n",
       "    </tr>\n",
       "    <tr>\n",
       "      <th>1</th>\n",
       "      <td>0x865c2f85c9fea1c6ac7f53de07554d68cb92ed88</td>\n",
       "      <td>83841f4c-18bf-57ef-bb9f-f0383b99fd32</td>\n",
       "      <td>2019-06-07 07:03:42</td>\n",
       "      <td>1</td>\n",
       "    </tr>\n",
       "    <tr>\n",
       "      <th>2</th>\n",
       "      <td>0x865c2f85c9fea1c6ac7f53de07554d68cb92ed88</td>\n",
       "      <td>5c99eeb2-9854-5d2d-ba20-1ff1307ea924</td>\n",
       "      <td>2019-06-07 07:04:48</td>\n",
       "      <td>1</td>\n",
       "    </tr>\n",
       "    <tr>\n",
       "      <th>3</th>\n",
       "      <td>0x865c2f85c9fea1c6ac7f53de07554d68cb92ed88</td>\n",
       "      <td>fc0c49e1-5e4a-528b-92e3-42b3fb560d16</td>\n",
       "      <td>2019-06-10 10:49:11</td>\n",
       "      <td>1</td>\n",
       "    </tr>\n",
       "    <tr>\n",
       "      <th>4</th>\n",
       "      <td>0x865c2f85c9fea1c6ac7f53de07554d68cb92ed88</td>\n",
       "      <td>7179b537-bb7e-5677-adcd-3f44fcc78805</td>\n",
       "      <td>2019-06-10 10:49:31</td>\n",
       "      <td>1</td>\n",
       "    </tr>\n",
       "    <tr>\n",
       "      <th>...</th>\n",
       "      <td>...</td>\n",
       "      <td>...</td>\n",
       "      <td>...</td>\n",
       "      <td>...</td>\n",
       "    </tr>\n",
       "    <tr>\n",
       "      <th>3282</th>\n",
       "      <td>0xe2a82cdccbfa6ebf9817b0c4aed45264bd41fbec</td>\n",
       "      <td>52983d9e-5fd1-5afd-8c2a-936b38d65f06</td>\n",
       "      <td>2023-06-23 16:28:23</td>\n",
       "      <td>1</td>\n",
       "    </tr>\n",
       "    <tr>\n",
       "      <th>3283</th>\n",
       "      <td>0x6dc43be93a8b5fd37dc16f24872babc6da5e5e3e</td>\n",
       "      <td>06f50c00-d777-55c6-917b-ff9c0cf7f3ce</td>\n",
       "      <td>2023-06-28 20:30:25</td>\n",
       "      <td>1</td>\n",
       "    </tr>\n",
       "    <tr>\n",
       "      <th>3284</th>\n",
       "      <td>0xbaf6e57a3940898fd21076b139d4ab231dcbbc5f</td>\n",
       "      <td>06f50c00-d777-55c6-917b-ff9c0cf7f3ce</td>\n",
       "      <td>2023-06-28 22:00:45</td>\n",
       "      <td>1</td>\n",
       "    </tr>\n",
       "    <tr>\n",
       "      <th>3285</th>\n",
       "      <td>0xe2a82cdccbfa6ebf9817b0c4aed45264bd41fbec</td>\n",
       "      <td>6d79288e-6319-565e-9316-3b9027f6ec8e</td>\n",
       "      <td>2023-07-07 17:52:59</td>\n",
       "      <td>1</td>\n",
       "    </tr>\n",
       "    <tr>\n",
       "      <th>3286</th>\n",
       "      <td>0xe2a82cdccbfa6ebf9817b0c4aed45264bd41fbec</td>\n",
       "      <td>2f0fb063-9b2f-5095-888b-23509c5f6cd6</td>\n",
       "      <td>2023-07-08 22:08:35</td>\n",
       "      <td>1</td>\n",
       "    </tr>\n",
       "  </tbody>\n",
       "</table>\n",
       "<p>3287 rows × 4 columns</p>\n",
       "</div>"
      ],
      "text/plain": [
       "                                          userID  \\\n",
       "0     0x865c2f85c9fea1c6ac7f53de07554d68cb92ed88   \n",
       "1     0x865c2f85c9fea1c6ac7f53de07554d68cb92ed88   \n",
       "2     0x865c2f85c9fea1c6ac7f53de07554d68cb92ed88   \n",
       "3     0x865c2f85c9fea1c6ac7f53de07554d68cb92ed88   \n",
       "4     0x865c2f85c9fea1c6ac7f53de07554d68cb92ed88   \n",
       "...                                          ...   \n",
       "3282  0xe2a82cdccbfa6ebf9817b0c4aed45264bd41fbec   \n",
       "3283  0x6dc43be93a8b5fd37dc16f24872babc6da5e5e3e   \n",
       "3284  0xbaf6e57a3940898fd21076b139d4ab231dcbbc5f   \n",
       "3285  0xe2a82cdccbfa6ebf9817b0c4aed45264bd41fbec   \n",
       "3286  0xe2a82cdccbfa6ebf9817b0c4aed45264bd41fbec   \n",
       "\n",
       "                                    itemID           timestamp  rating  \n",
       "0     a3cd7b01-435c-50cd-8d8c-75102df1027c 2019-06-06 09:49:38       1  \n",
       "1     83841f4c-18bf-57ef-bb9f-f0383b99fd32 2019-06-07 07:03:42       1  \n",
       "2     5c99eeb2-9854-5d2d-ba20-1ff1307ea924 2019-06-07 07:04:48       1  \n",
       "3     fc0c49e1-5e4a-528b-92e3-42b3fb560d16 2019-06-10 10:49:11       1  \n",
       "4     7179b537-bb7e-5677-adcd-3f44fcc78805 2019-06-10 10:49:31       1  \n",
       "...                                    ...                 ...     ...  \n",
       "3282  52983d9e-5fd1-5afd-8c2a-936b38d65f06 2023-06-23 16:28:23       1  \n",
       "3283  06f50c00-d777-55c6-917b-ff9c0cf7f3ce 2023-06-28 20:30:25       1  \n",
       "3284  06f50c00-d777-55c6-917b-ff9c0cf7f3ce 2023-06-28 22:00:45       1  \n",
       "3285  6d79288e-6319-565e-9316-3b9027f6ec8e 2023-07-07 17:52:59       1  \n",
       "3286  2f0fb063-9b2f-5095-888b-23509c5f6cd6 2023-07-08 22:08:35       1  \n",
       "\n",
       "[3287 rows x 4 columns]"
      ]
     },
     "execution_count": 7,
     "metadata": {},
     "output_type": "execute_result"
    }
   ],
   "source": [
    "df = to_microsoft(dfv)\n",
    "df"
   ]
  },
  {
   "cell_type": "code",
   "execution_count": 8,
   "id": "c090b0b8",
   "metadata": {
    "editable": true,
    "execution": {
     "iopub.execute_input": "2024-09-05T09:03:54.725851Z",
     "iopub.status.busy": "2024-09-05T09:03:54.725726Z",
     "iopub.status.idle": "2024-09-05T09:03:54.946377Z",
     "shell.execute_reply": "2024-09-05T09:03:54.946079Z"
    },
    "papermill": {
     "duration": 0.22438,
     "end_time": "2024-09-05T09:03:54.947120",
     "exception": false,
     "start_time": "2024-09-05T09:03:54.722740",
     "status": "completed"
    },
    "slideshow": {
     "slide_type": ""
    },
    "tags": []
   },
   "outputs": [
    {
     "name": "stdout",
     "output_type": "stream",
     "text": [
      "136 folds\n",
      "Using 10 folds, from 2021-11-04T00:00:00 to 2022-01-06T00:00:00\n"
     ]
    }
   ],
   "source": [
    "# USE INTEGER INDEX\n",
    "# folds_dict = list(cvtt_open(df, SPLITS_FREQ, dfp, remove_not_in_train_col='userID'))\n",
    "# use_folds_idx = range(len(folds_dict))[-LAST_FOLDS:]\n",
    "\n",
    "# USE TIMESTAMP INDEX\n",
    "# Note: NO need to used OrderedDict, dict is ordered since Python 3.6\n",
    "folds_dict = { f.end.isoformat():f for f in cvtt_open(df, SPLITS_FREQ, dfp, remove_not_in_train_col='userID', last_fold=LAST_FOLD_DATE_STR) }\n",
    "use_folds_idx = list(folds_dict.keys())[-LAST_FOLDS:]\n",
    "\n",
    "print(len(folds_dict), \"folds\")\n",
    "print(\"Using\", len(use_folds_idx), \"folds, from\", use_folds_idx[0], \"to\", use_folds_idx[-1])"
   ]
  },
  {
   "cell_type": "markdown",
   "id": "67cf88f8",
   "metadata": {
    "papermill": {
     "duration": 0.002604,
     "end_time": "2024-09-05T09:03:54.952767",
     "exception": false,
     "start_time": "2024-09-05T09:03:54.950163",
     "status": "completed"
    },
    "tags": []
   },
   "source": [
    "## Making some checks"
   ]
  },
  {
   "cell_type": "markdown",
   "id": "6993d044",
   "metadata": {
    "papermill": {
     "duration": 0.002437,
     "end_time": "2024-09-05T09:03:54.957739",
     "exception": false,
     "start_time": "2024-09-05T09:03:54.955302",
     "status": "completed"
    },
    "tags": []
   },
   "source": [
    "### Checking that all the folds have open proposals"
   ]
  },
  {
   "cell_type": "code",
   "execution_count": 9,
   "id": "fce68a9c",
   "metadata": {
    "execution": {
     "iopub.execute_input": "2024-09-05T09:03:54.963186Z",
     "iopub.status.busy": "2024-09-05T09:03:54.963057Z",
     "iopub.status.idle": "2024-09-05T09:03:54.984159Z",
     "shell.execute_reply": "2024-09-05T09:03:54.983942Z"
    },
    "papermill": {
     "duration": 0.024717,
     "end_time": "2024-09-05T09:03:54.984834",
     "exception": false,
     "start_time": "2024-09-05T09:03:54.960117",
     "status": "completed"
    },
    "tags": []
   },
   "outputs": [],
   "source": [
    "_nok_folds = []\n",
    "for idx in use_folds_idx:\n",
    "    if len(folds_dict[idx].open_proposals) == 0:\n",
    "        _nok_folds.append(idx)\n",
    "\n",
    "if _nok_folds:\n",
    "    raise ValueError(f\"Folds {', '.join(_nok_folds)} don't have any open proposals\")"
   ]
  },
  {
   "cell_type": "markdown",
   "id": "f8997d89",
   "metadata": {
    "papermill": {
     "duration": 0.002455,
     "end_time": "2024-09-05T09:03:54.989785",
     "exception": false,
     "start_time": "2024-09-05T09:03:54.987330",
     "status": "completed"
    },
    "tags": []
   },
   "source": [
    "### Checking correct hparams"
   ]
  },
  {
   "cell_type": "code",
   "execution_count": 10,
   "id": "557c73e3",
   "metadata": {
    "execution": {
     "iopub.execute_input": "2024-09-05T09:03:54.995381Z",
     "iopub.status.busy": "2024-09-05T09:03:54.995260Z",
     "iopub.status.idle": "2024-09-05T09:03:55.027643Z",
     "shell.execute_reply": "2024-09-05T09:03:55.027426Z"
    },
    "papermill": {
     "duration": 0.036003,
     "end_time": "2024-09-05T09:03:55.028362",
     "exception": false,
     "start_time": "2024-09-05T09:03:54.992359",
     "status": "completed"
    },
    "tags": []
   },
   "outputs": [
    {
     "name": "stdout",
     "output_type": "stream",
     "text": [
      "All folds ok!\n"
     ]
    }
   ],
   "source": [
    "now = dt.datetime.now()\n",
    "max_bs = 2**MAX_BATCH_SIZE\n",
    "\n",
    "all_ok = True\n",
    "for idx in use_folds_idx:\n",
    "    valid_ws = WINDOW_SIZES[0]\n",
    "    for ws in sorted(WINDOW_SIZES, key=lambda ws: now + pd.tseries.frequencies.to_offset(ws)):\n",
    "        nusers = filter_window_size(folds_dict[idx].train, folds_dict[idx].end, ws)['userID'].nunique()\n",
    "        if nusers > max_bs:\n",
    "            print(f'On fold {idx} WINDOW_SIZE should be at least {ws}: {nusers} > {max_bs}', file=sys.stderr)\n",
    "            break\n",
    "\n",
    "print(\"All folds ok!\")"
   ]
  },
  {
   "cell_type": "markdown",
   "id": "b8809ac7",
   "metadata": {
    "editable": true,
    "papermill": {
     "duration": 0.002626,
     "end_time": "2024-09-05T09:03:55.033476",
     "exception": false,
     "start_time": "2024-09-05T09:03:55.030850",
     "status": "completed"
    },
    "slideshow": {
     "slide_type": ""
    },
    "tags": []
   },
   "source": [
    "## Testing model"
   ]
  },
  {
   "cell_type": "code",
   "execution_count": 11,
   "id": "ee9f6b6d",
   "metadata": {
    "execution": {
     "iopub.execute_input": "2024-09-05T09:03:55.038970Z",
     "iopub.status.busy": "2024-09-05T09:03:55.038838Z",
     "iopub.status.idle": "2024-09-05T09:03:55.057399Z",
     "shell.execute_reply": "2024-09-05T09:03:55.057199Z"
    },
    "papermill": {
     "duration": 0.022175,
     "end_time": "2024-09-05T09:03:55.058101",
     "exception": false,
     "start_time": "2024-09-05T09:03:55.035926",
     "status": "completed"
    },
    "tags": []
   },
   "outputs": [],
   "source": [
    "from recommenders.models.deeprec.DataModel.ImplicitCF import ImplicitCF\n",
    "from recommenders.models.deeprec.deeprec_utils import prepare_hparams"
   ]
  },
  {
   "cell_type": "code",
   "execution_count": 12,
   "id": "24789bd1",
   "metadata": {
    "editable": true,
    "execution": {
     "iopub.execute_input": "2024-09-05T09:03:55.063997Z",
     "iopub.status.busy": "2024-09-05T09:03:55.063901Z",
     "iopub.status.idle": "2024-09-05T09:03:55.082517Z",
     "shell.execute_reply": "2024-09-05T09:03:55.082225Z"
    },
    "papermill": {
     "duration": 0.022361,
     "end_time": "2024-09-05T09:03:55.083230",
     "exception": false,
     "start_time": "2024-09-05T09:03:55.060869",
     "status": "completed"
    },
    "slideshow": {
     "slide_type": ""
    },
    "tags": []
   },
   "outputs": [],
   "source": [
    "# hparams = prepare_hparams(\n",
    "#     model_type='lightgcn',\n",
    "#     n_layers=3,\n",
    "#     batch_size=512,\n",
    "#     embed_size=64,\n",
    "#     epochs=2,\n",
    "#     learning_rate=0.001,\n",
    "#     decay=0.001,\n",
    "#     metrics=[\"recall\", \"ndcg\", \"precision\", \"map\"],\n",
    "#     eval_epoch=2,\n",
    "#     top_k=K_RECOMMENDATIONS[0],\n",
    "#     save_model=False,\n",
    "#     MODEL_DIR='./data/model/lightgcn/',\n",
    "# )\n",
    "# dataloader = ImplicitCF(train=folds_dict[use_folds_idx[0]].train, test=folds_dict[use_folds_idx[0]].test, seed=SEED)\n",
    "# print(\"items:\", dataloader.n_items, \"user:\", dataloader.n_users)\n",
    "# model = LightGCNCustom(data=dataloader, hparams=hparams)"
   ]
  },
  {
   "cell_type": "code",
   "execution_count": 13,
   "id": "99f17511",
   "metadata": {
    "execution": {
     "iopub.execute_input": "2024-09-05T09:03:55.088900Z",
     "iopub.status.busy": "2024-09-05T09:03:55.088774Z",
     "iopub.status.idle": "2024-09-05T09:03:55.106213Z",
     "shell.execute_reply": "2024-09-05T09:03:55.105939Z"
    },
    "papermill": {
     "duration": 0.021117,
     "end_time": "2024-09-05T09:03:55.106916",
     "exception": false,
     "start_time": "2024-09-05T09:03:55.085799",
     "status": "completed"
    },
    "tags": []
   },
   "outputs": [],
   "source": [
    "# model.fit()\n",
    "# model.run_eval()"
   ]
  },
  {
   "cell_type": "code",
   "execution_count": 14,
   "id": "fb99286d",
   "metadata": {
    "editable": true,
    "execution": {
     "iopub.execute_input": "2024-09-05T09:03:55.112477Z",
     "iopub.status.busy": "2024-09-05T09:03:55.112364Z",
     "iopub.status.idle": "2024-09-05T09:03:55.129232Z",
     "shell.execute_reply": "2024-09-05T09:03:55.129005Z"
    },
    "papermill": {
     "duration": 0.020527,
     "end_time": "2024-09-05T09:03:55.129923",
     "exception": false,
     "start_time": "2024-09-05T09:03:55.109396",
     "status": "completed"
    },
    "slideshow": {
     "slide_type": ""
    },
    "tags": []
   },
   "outputs": [],
   "source": [
    "# model.recommend_k_items(\n",
    "#     dataloader.test, \n",
    "#     top_k=3, \n",
    "#     use_id=True, \n",
    "#     remove_seen=True, \n",
    "#     recommend_from=folds_dict[use_folds_idx[0]].open_proposals\n",
    "# )"
   ]
  },
  {
   "cell_type": "markdown",
   "id": "a68d1a50",
   "metadata": {
    "papermill": {
     "duration": 0.00253,
     "end_time": "2024-09-05T09:03:55.134988",
     "exception": false,
     "start_time": "2024-09-05T09:03:55.132458",
     "status": "completed"
    },
    "tags": []
   },
   "source": [
    "## Defining trainable"
   ]
  },
  {
   "cell_type": "code",
   "execution_count": 15,
   "id": "0bed24e9",
   "metadata": {
    "execution": {
     "iopub.execute_input": "2024-09-05T09:03:55.140568Z",
     "iopub.status.busy": "2024-09-05T09:03:55.140455Z",
     "iopub.status.idle": "2024-09-05T09:03:55.157211Z",
     "shell.execute_reply": "2024-09-05T09:03:55.156862Z"
    },
    "papermill": {
     "duration": 0.020593,
     "end_time": "2024-09-05T09:03:55.158011",
     "exception": false,
     "start_time": "2024-09-05T09:03:55.137418",
     "status": "completed"
    },
    "tags": []
   },
   "outputs": [],
   "source": [
    "from recsys4daos.evaluation import calculate_all_metrics"
   ]
  },
  {
   "cell_type": "code",
   "execution_count": 16,
   "id": "1eb6eadc",
   "metadata": {
    "editable": true,
    "execution": {
     "iopub.execute_input": "2024-09-05T09:03:55.163786Z",
     "iopub.status.busy": "2024-09-05T09:03:55.163678Z",
     "iopub.status.idle": "2024-09-05T09:03:55.183837Z",
     "shell.execute_reply": "2024-09-05T09:03:55.183648Z"
    },
    "papermill": {
     "duration": 0.023955,
     "end_time": "2024-09-05T09:03:55.184545",
     "exception": false,
     "start_time": "2024-09-05T09:03:55.160590",
     "status": "completed"
    },
    "slideshow": {
     "slide_type": ""
    },
    "tags": []
   },
   "outputs": [],
   "source": [
    "class TrainLightGCN(tune.Trainable):\n",
    "    def setup(\n",
    "        self,\n",
    "        config: Dict[str, Any],\n",
    "        data,\n",
    "    ):\n",
    "        self.config = config\n",
    "        train, test, self.t, self.open_proposals = data\n",
    "        train_filtered = filter_window_size(train, self.t, config['window_size'])\n",
    "        self.dataloader = ImplicitCF(train=train_filtered, test=test, seed=SEED)\n",
    "        # Some experiments will run multiple times, but that's a price to pay for\n",
    "        # usability\n",
    "        self.real_batch_size = min(2**config['batch_size'], self.dataloader.n_users_in_train)\n",
    "\n",
    "        self.hparams = prepare_hparams(\n",
    "            model_type='lightgcn',\n",
    "            n_layers=config['conv_layers'],\n",
    "            batch_size=self.real_batch_size,\n",
    "            embed_size=config['embedding_dim'],\n",
    "            epochs=EPOCHS_PER_ITER,\n",
    "            learning_rate=config['learning_rate'],\n",
    "            decay=config['l2'],\n",
    "            metrics=METRICS,\n",
    "            eval_epoch=-1,\n",
    "            top_k=K_RECOMMENDATIONS[0],\n",
    "            save_model=False,\n",
    "            MODEL_DIR='./data/model/lightgcn/',\n",
    "        )\n",
    "        self.model = LightGCNCustom(self.hparams, self.dataloader, seed=SEED)\n",
    "        self.total_train = 0\n",
    "        self.total_eval = 0\n",
    "\n",
    "    @property\n",
    "    def iteration(self):\n",
    "        return self.model.epochs_done\n",
    "\n",
    "    @property\n",
    "    def training_iteration(self):\n",
    "        return self.model.epochs_done\n",
    "\n",
    "    def step(self):\n",
    "        \"\"\"\n",
    "        As a rule of thumb, the execution time of step should be large enough to avoid overheads \n",
    "        (i.e. more than a few seconds), but short enough to report progress periodically \n",
    "        (i.e. at most a few minutes).\n",
    "        \"\"\"\n",
    "        assert EPOCHS_PER_ITER > 0\n",
    "\n",
    "        with Timer() as t_train:\n",
    "            for _ in range(EPOCHS_PER_ITER):\n",
    "                ret = self.model.fit_epoch()\n",
    "\n",
    "\n",
    "        with Timer() as t_rec:\n",
    "            recs = self.model.recommend_k_items(\n",
    "                self.dataloader.test, # Used only to get user ids\n",
    "                top_k=max(K_RECOMMENDATIONS),\n",
    "                use_id=True,\n",
    "                remove_seen=True,\n",
    "                recommend_from=self.open_proposals,\n",
    "            )\n",
    "        \n",
    "        eval_dict = {'model_'+k:v for k,v in zip(self.model.metrics, self.model.run_eval())}\n",
    "        eval_dict |= calculate_all_metrics(self.dataloader.test, recs, K_RECOMMENDATIONS)\n",
    "\n",
    "        self.total_train += t_train.time\n",
    "        self.total_eval += eval_dict['time_eval']\n",
    "        \n",
    "        return {\n",
    "            'real_batch_size': self.real_batch_size,\n",
    "            'iteration': self.iteration,\n",
    "            'loss': ret[0],\n",
    "            'mf_loss': ret[1],\n",
    "            'emb_loss': ret[2],\n",
    "            **eval_dict,\n",
    "            'time_train': t_train.time,\n",
    "            'time_rec': t_rec.time,\n",
    "            'time_total_train': self.total_train,\n",
    "            'time_total_test': self.total_eval,\n",
    "        }\n",
    "\n",
    "    def save_checkpoint(self, checkpoint_dir):\n",
    "        checkpoint_path = os.path.join(checkpoint_dir, \"model\")\n",
    "        self.model.saver.save(\n",
    "            sess=self.model.sess,\n",
    "            save_path=checkpoint_path,\n",
    "        )\n",
    "        return checkpoint_dir\n",
    "\n",
    "    def load_checkpoint(self, checkpoint_path):\n",
    "        self.model.load(checkpoint_path)"
   ]
  },
  {
   "cell_type": "markdown",
   "id": "5329db9b",
   "metadata": {
    "editable": true,
    "papermill": {
     "duration": 0.002761,
     "end_time": "2024-09-05T09:03:55.190119",
     "exception": false,
     "start_time": "2024-09-05T09:03:55.187358",
     "status": "completed"
    },
    "slideshow": {
     "slide_type": ""
    },
    "tags": []
   },
   "source": [
    "## Big experiment"
   ]
  },
  {
   "cell_type": "code",
   "execution_count": 17,
   "id": "62593649",
   "metadata": {
    "editable": true,
    "execution": {
     "iopub.execute_input": "2024-09-05T09:03:55.195896Z",
     "iopub.status.busy": "2024-09-05T09:03:55.195788Z",
     "iopub.status.idle": "2024-09-05T09:03:55.212878Z",
     "shell.execute_reply": "2024-09-05T09:03:55.212689Z"
    },
    "papermill": {
     "duration": 0.020898,
     "end_time": "2024-09-05T09:03:55.213553",
     "exception": false,
     "start_time": "2024-09-05T09:03:55.192655",
     "status": "completed"
    },
    "slideshow": {
     "slide_type": ""
    },
    "tags": []
   },
   "outputs": [
    {
     "data": {
      "text/plain": [
       "PosixPath('/home/daviddavo/ray_results3.11')"
      ]
     },
     "execution_count": 17,
     "metadata": {},
     "output_type": "execute_result"
    }
   ],
   "source": [
    "RAY_RESULTS_PATH"
   ]
  },
  {
   "cell_type": "code",
   "execution_count": 18,
   "id": "668b7664",
   "metadata": {
    "editable": true,
    "execution": {
     "iopub.execute_input": "2024-09-05T09:03:55.219315Z",
     "iopub.status.busy": "2024-09-05T09:03:55.219216Z",
     "iopub.status.idle": "2024-09-05T09:03:55.236420Z",
     "shell.execute_reply": "2024-09-05T09:03:55.236223Z"
    },
    "papermill": {
     "duration": 0.020935,
     "end_time": "2024-09-05T09:03:55.237090",
     "exception": false,
     "start_time": "2024-09-05T09:03:55.216155",
     "status": "completed"
    },
    "slideshow": {
     "slide_type": ""
    },
    "tags": []
   },
   "outputs": [
    {
     "name": "stdout",
     "output_type": "stream",
     "text": [
      "lamarck\n",
      "{'cpu': 1, 'gpu': 0.0625}\n"
     ]
    }
   ],
   "source": [
    "print(os.uname().nodename)\n",
    "\n",
    "### SET TRAINING RESOURCES\n",
    "if os.uname().nodename == 'lamarck':\n",
    "    # assert torch.cuda.is_available()\n",
    "\n",
    "    NUM_SAMPLES = SAMPLES_PER_SPLIT\n",
    "    # Every run takes approx half a gig of vram (no optimizations)\n",
    "    # The RTX 4090 has 24GB so we can run the model about 48 times\n",
    "    resources_per_trial={\n",
    "        'cpu': 1,\n",
    "        'gpu': 1 / GPUS,\n",
    "    }\n",
    "else:\n",
    "    NUM_SAMPLES = 1\n",
    "    resources_per_trial={\n",
    "        'cpu': 1,\n",
    "        # It takes about 1.5 GiB with full training data, but I put a bit more because\n",
    "        # this notebook also takes a bit of memory\n",
    "        'memory': 2e9,\n",
    "    }\n",
    "print(resources_per_trial)"
   ]
  },
  {
   "cell_type": "code",
   "execution_count": 19,
   "id": "213dd411",
   "metadata": {
    "editable": true,
    "execution": {
     "iopub.execute_input": "2024-09-05T09:03:55.243060Z",
     "iopub.status.busy": "2024-09-05T09:03:55.242957Z",
     "iopub.status.idle": "2024-09-05T09:03:55.332972Z",
     "shell.execute_reply": "2024-09-05T09:03:55.332651Z"
    },
    "papermill": {
     "duration": 0.094134,
     "end_time": "2024-09-05T09:03:55.333955",
     "exception": false,
     "start_time": "2024-09-05T09:03:55.239821",
     "status": "completed"
    },
    "slideshow": {
     "slide_type": ""
    },
    "tags": []
   },
   "outputs": [],
   "source": [
    "from ray.tune.search.hyperopt import HyperOptSearch"
   ]
  },
  {
   "cell_type": "code",
   "execution_count": 20,
   "id": "3fa33be9",
   "metadata": {
    "editable": true,
    "execution": {
     "iopub.execute_input": "2024-09-05T09:03:55.341201Z",
     "iopub.status.busy": "2024-09-05T09:03:55.340877Z",
     "iopub.status.idle": "2024-09-05T09:03:55.365287Z",
     "shell.execute_reply": "2024-09-05T09:03:55.365073Z"
    },
    "papermill": {
     "duration": 0.028729,
     "end_time": "2024-09-05T09:03:55.366020",
     "exception": false,
     "start_time": "2024-09-05T09:03:55.337291",
     "status": "completed"
    },
    "slideshow": {
     "slide_type": ""
    },
    "tags": []
   },
   "outputs": [],
   "source": [
    "def getTunerOnFold(f_idx, points_to_evaluate = None):    \n",
    "    name = paths.lightgcn_ray_tune_fname(ORG_NAME, SPLITS_FREQ, SPLITS_NORMALIZE, OPTIM_METRIC, fold=f_idx)\n",
    "    experiments = list(RAY_RESULTS_PATH.glob(f'{name}_*'))\n",
    "    last_experiment = max(experiments, key=lambda x: x.stat().st_ctime) if experiments else None\n",
    "    f = folds_dict[f_idx]\n",
    "\n",
    "    dftrain,dftest,t,open_proposals = folds_dict[f_idx]\n",
    "    param_space = dict(\n",
    "        batch_size=tune.randint(MIN_BATCH_SIZE, MAX_BATCH_SIZE+1), # 64 - 2**MAX_BATCH_SIZE\n",
    "        embedding_dim=tune.lograndint(1, MAX_EMBEDDING_DIM, base=2),\n",
    "        conv_layers=tune.randint(1,5),\n",
    "        learning_rate=tune.qloguniform(MIN_LR, 1, 1e-4),\n",
    "        l2=tune.loguniform(1e-7, 1e-2, 1e-7),\n",
    "        window_size=tune.choice(WINDOW_SIZES),\n",
    "        # Just so it appears on the output\n",
    "        fold=f_idx,\n",
    "    )\n",
    "    \n",
    "    ### RESTORE EXPERIMENT OR CREATE A NEW ONE\n",
    "    if last_experiment and tune.Tuner.can_restore(last_experiment):\n",
    "        print(f\"Restoring last experiment: {last_experiment}\")\n",
    "        tuner = tune.Tuner.restore(\n",
    "            str(last_experiment),\n",
    "            trainable=tune.with_resources(\n",
    "                # tune.with_parameters(TrainLightGCN,  train=dftrain, test=dftest, open_proposals=open_proposals),\n",
    "                tune.with_parameters(TrainLightGCN, data=f),\n",
    "                resources_per_trial,\n",
    "            ),\n",
    "            restart_errored=True,\n",
    "            param_space=param_space,\n",
    "        )\n",
    "    else:\n",
    "        print(f\"No experiment found for fold {f_idx}, creating new tuner with {NUM_SAMPLES} samples\")\n",
    "        search_alg = None\n",
    "        \n",
    "        search_alg = HyperOptSearch(\n",
    "            points_to_evaluate = points_to_evaluate,\n",
    "            random_state_seed=SEED,\n",
    "        )\n",
    "        # search_alg = tune.search.Repeater(search_alg, N_SPLITS-SKIP_SPLIT)\n",
    "        \n",
    "        tuner = tune.Tuner(\n",
    "            tune.with_resources(\n",
    "                # tune.with_parameters(TrainLightGCN,  train=dftrain, test=dftest, open_proposals=open_proposals),\n",
    "                tune.with_parameters(TrainLightGCN, data=folds_dict[f_idx]),\n",
    "                resources_per_trial,\n",
    "            ),\n",
    "            run_config=train.RunConfig(\n",
    "                stop={'training_iteration': MAX_EPOCHS/EPOCHS_PER_ITER, 'time_total_train': MAX_TIME_TOTAL_TRAIN},\n",
    "                name=name + f'_{dt.datetime.now().isoformat()}',\n",
    "                storage_path=RAY_RESULTS_PATH,\n",
    "                # failure_config=train.FailureConfig(fail_fast='raise'),\n",
    "                failure_config=train.FailureConfig(max_failures=3),\n",
    "            ),\n",
    "            param_space=param_space,\n",
    "            tune_config=tune.TuneConfig(\n",
    "                search_alg=search_alg,\n",
    "                num_samples=NUM_SAMPLES,\n",
    "                metric=OPTIM_METRIC,\n",
    "                mode='max',\n",
    "            )\n",
    "        )\n",
    "\n",
    "    return tuner"
   ]
  },
  {
   "cell_type": "code",
   "execution_count": 21,
   "id": "da9f5b56",
   "metadata": {
    "editable": true,
    "execution": {
     "iopub.execute_input": "2024-09-05T09:03:55.372134Z",
     "iopub.status.busy": "2024-09-05T09:03:55.372048Z",
     "iopub.status.idle": "2024-09-05T09:03:55.397733Z",
     "shell.execute_reply": "2024-09-05T09:03:55.397542Z"
    },
    "papermill": {
     "duration": 0.02998,
     "end_time": "2024-09-05T09:03:55.398821",
     "exception": false,
     "start_time": "2024-09-05T09:03:55.368841",
     "status": "completed"
    },
    "slideshow": {
     "slide_type": ""
    },
    "tags": []
   },
   "outputs": [
    {
     "data": {
      "application/vnd.jupyter.widget-view+json": {
       "model_id": "955255efc73043e1977aa086a51415a4",
       "version_major": 2,
       "version_minor": 0
      },
      "text/plain": [
       "fold:   0%|          | 0/10 [00:00<?, ?it/s]"
      ]
     },
     "metadata": {},
     "output_type": "display_data"
    },
    {
     "data": {
      "application/vnd.jupyter.widget-view+json": {
       "model_id": "b4fa6858a22f4e618efab9c1f8a5cc46",
       "version_major": 2,
       "version_minor": 0
      },
      "text/plain": [
       "Output(layout=Layout(border_bottom='1px solid black', border_left='1px solid black', border_right='1px solid b…"
      ]
     },
     "execution_count": 21,
     "metadata": {},
     "output_type": "execute_result"
    }
   ],
   "source": [
    "# We need to display the progress bar in another cell because ray tune \"overwrites\" the previous output\n",
    "pbar = tqdm(total=len(use_folds_idx), desc='fold')\n",
    "out = widgets.Output(layout={'border': '1px solid black'})\n",
    "with out:\n",
    "    print(\"In this cell important output from the next cell will be shown\")\n",
    "out"
   ]
  },
  {
   "cell_type": "code",
   "execution_count": 22,
   "id": "2de6ca5a",
   "metadata": {
    "editable": true,
    "execution": {
     "iopub.execute_input": "2024-09-05T09:03:55.405457Z",
     "iopub.status.busy": "2024-09-05T09:03:55.405350Z",
     "iopub.status.idle": "2024-09-05T09:04:22.370282Z",
     "shell.execute_reply": "2024-09-05T09:04:22.368906Z"
    },
    "papermill": {
     "duration": 26.971423,
     "end_time": "2024-09-05T09:04:22.373350",
     "exception": false,
     "start_time": "2024-09-05T09:03:55.401927",
     "status": "completed"
    },
    "slideshow": {
     "slide_type": ""
    },
    "tags": []
   },
   "outputs": [
    {
     "data": {
      "text/html": [
       "<div class=\"tuneStatus\">\n",
       "  <div style=\"display: flex;flex-direction: row\">\n",
       "    <div style=\"display: flex;flex-direction: column;\">\n",
       "      <h3>Tune Status</h3>\n",
       "      <table>\n",
       "<tbody>\n",
       "<tr><td>Current time:</td><td>2024-09-05 09:04:21</td></tr>\n",
       "<tr><td>Running for: </td><td>00:00:00.35        </td></tr>\n",
       "<tr><td>Memory:      </td><td>8.3/125.6 GiB      </td></tr>\n",
       "</tbody>\n",
       "</table>\n",
       "    </div>\n",
       "    <div class=\"vDivider\"></div>\n",
       "    <div class=\"systemInfo\">\n",
       "      <h3>System Info</h3>\n",
       "      Using FIFO scheduling algorithm.<br>Logical resource usage: 0/24 CPUs, 0/1 GPUs (0.0/1.0 accelerator_type:G)\n",
       "    </div>\n",
       "    \n",
       "  </div>\n",
       "  <div class=\"hDivider\"></div>\n",
       "  <div class=\"trialStatus\">\n",
       "    <h3>Trial Status</h3>\n",
       "    <table>\n",
       "<thead>\n",
       "<tr><th>Trial name            </th><th>status    </th><th>loc                  </th><th style=\"text-align: right;\">  batch_size</th><th style=\"text-align: right;\">  conv_layers</th><th style=\"text-align: right;\">  embedding_dim</th><th>fold               </th><th style=\"text-align: right;\">         l2</th><th style=\"text-align: right;\">  learning_rate</th><th>window_size  </th><th style=\"text-align: right;\">  iter</th><th style=\"text-align: right;\">  total time (s)</th><th style=\"text-align: right;\">  real_batch_size</th><th style=\"text-align: right;\">  iteration</th><th style=\"text-align: right;\">        loss</th></tr>\n",
       "</thead>\n",
       "<tbody>\n",
       "<tr><td>TrainLightGCN_4f38ef0b</td><td>TERMINATED</td><td>147.96.81.131:2891055</td><td style=\"text-align: right;\">           6</td><td style=\"text-align: right;\">            1</td><td style=\"text-align: right;\">              1</td><td>2022-01-06T00:00:00</td><td style=\"text-align: right;\">5.88794e-07</td><td style=\"text-align: right;\">         0.0016</td><td>21d          </td><td style=\"text-align: right;\">    40</td><td style=\"text-align: right;\">         5.93669</td><td style=\"text-align: right;\">               20</td><td style=\"text-align: right;\">        200</td><td style=\"text-align: right;\"> 0.240337   </td></tr>\n",
       "<tr><td>TrainLightGCN_c2813eb7</td><td>TERMINATED</td><td>147.96.81.131:2890899</td><td style=\"text-align: right;\">           7</td><td style=\"text-align: right;\">            1</td><td style=\"text-align: right;\">             42</td><td>2022-01-06T00:00:00</td><td style=\"text-align: right;\">1.58595e-06</td><td style=\"text-align: right;\">         0.0039</td><td>60d          </td><td style=\"text-align: right;\">    40</td><td style=\"text-align: right;\">         6.52002</td><td style=\"text-align: right;\">               46</td><td style=\"text-align: right;\">        200</td><td style=\"text-align: right;\"> 0.00109715 </td></tr>\n",
       "<tr><td>TrainLightGCN_96f275ef</td><td>TERMINATED</td><td>147.96.81.131:2890749</td><td style=\"text-align: right;\">           6</td><td style=\"text-align: right;\">            2</td><td style=\"text-align: right;\">             12</td><td>2022-01-06T00:00:00</td><td style=\"text-align: right;\">1.18836e-05</td><td style=\"text-align: right;\">         0.0386</td><td>90d          </td><td style=\"text-align: right;\">    40</td><td style=\"text-align: right;\">         6.7368 </td><td style=\"text-align: right;\">               52</td><td style=\"text-align: right;\">        200</td><td style=\"text-align: right;\"> 0.000593665</td></tr>\n",
       "<tr><td>TrainLightGCN_d8414b4d</td><td>TERMINATED</td><td>147.96.81.131:2890600</td><td style=\"text-align: right;\">           7</td><td style=\"text-align: right;\">            1</td><td style=\"text-align: right;\">            129</td><td>2022-01-06T00:00:00</td><td style=\"text-align: right;\">0.000165102</td><td style=\"text-align: right;\">         0.0875</td><td>30d          </td><td style=\"text-align: right;\">    40</td><td style=\"text-align: right;\">         6.1247 </td><td style=\"text-align: right;\">               30</td><td style=\"text-align: right;\">        200</td><td style=\"text-align: right;\"> 0.0671857  </td></tr>\n",
       "<tr><td>TrainLightGCN_5a66745e</td><td>TERMINATED</td><td>147.96.81.131:2890449</td><td style=\"text-align: right;\">          10</td><td style=\"text-align: right;\">            1</td><td style=\"text-align: right;\">              1</td><td>2022-01-06T00:00:00</td><td style=\"text-align: right;\">5.68644e-06</td><td style=\"text-align: right;\">         0.0023</td><td>90d          </td><td style=\"text-align: right;\">    40</td><td style=\"text-align: right;\">         6.7494 </td><td style=\"text-align: right;\">               52</td><td style=\"text-align: right;\">        200</td><td style=\"text-align: right;\"> 0.18188    </td></tr>\n",
       "<tr><td>TrainLightGCN_4b428b5a</td><td>TERMINATED</td><td>147.96.81.131:2890301</td><td style=\"text-align: right;\">           6</td><td style=\"text-align: right;\">            3</td><td style=\"text-align: right;\">            103</td><td>2022-01-06T00:00:00</td><td style=\"text-align: right;\">1.63883e-05</td><td style=\"text-align: right;\">         0.0002</td><td>90d          </td><td style=\"text-align: right;\">    40</td><td style=\"text-align: right;\">         6.71782</td><td style=\"text-align: right;\">               52</td><td style=\"text-align: right;\">        200</td><td style=\"text-align: right;\"> 0.101631   </td></tr>\n",
       "<tr><td>TrainLightGCN_010b2bfb</td><td>TERMINATED</td><td>147.96.81.131:2890155</td><td style=\"text-align: right;\">           6</td><td style=\"text-align: right;\">            2</td><td style=\"text-align: right;\">            724</td><td>2022-01-06T00:00:00</td><td style=\"text-align: right;\">0.000915907</td><td style=\"text-align: right;\">         0.0001</td><td>90d          </td><td style=\"text-align: right;\">    40</td><td style=\"text-align: right;\">         6.83967</td><td style=\"text-align: right;\">               52</td><td style=\"text-align: right;\">        200</td><td style=\"text-align: right;\"> 0.0669412  </td></tr>\n",
       "<tr><td>TrainLightGCN_c7c596ff</td><td>TERMINATED</td><td>147.96.81.131:2890004</td><td style=\"text-align: right;\">           9</td><td style=\"text-align: right;\">            1</td><td style=\"text-align: right;\">             29</td><td>2022-01-06T00:00:00</td><td style=\"text-align: right;\">2.77218e-06</td><td style=\"text-align: right;\">         0.0034</td><td>60d          </td><td style=\"text-align: right;\">    40</td><td style=\"text-align: right;\">         6.78952</td><td style=\"text-align: right;\">               46</td><td style=\"text-align: right;\">        200</td><td style=\"text-align: right;\"> 0.00241142 </td></tr>\n",
       "<tr><td>TrainLightGCN_ba18ad49</td><td>TERMINATED</td><td>147.96.81.131:2889863</td><td style=\"text-align: right;\">           8</td><td style=\"text-align: right;\">            4</td><td style=\"text-align: right;\">              8</td><td>2022-01-06T00:00:00</td><td style=\"text-align: right;\">9.18061e-06</td><td style=\"text-align: right;\">         0.0051</td><td>10YE         </td><td style=\"text-align: right;\">    40</td><td style=\"text-align: right;\">         9.81623</td><td style=\"text-align: right;\">              138</td><td style=\"text-align: right;\">        200</td><td style=\"text-align: right;\"> 0.0358144  </td></tr>\n",
       "<tr><td>TrainLightGCN_5778d23d</td><td>TERMINATED</td><td>147.96.81.131:2889715</td><td style=\"text-align: right;\">           7</td><td style=\"text-align: right;\">            1</td><td style=\"text-align: right;\">              3</td><td>2022-01-06T00:00:00</td><td style=\"text-align: right;\">6.95449e-05</td><td style=\"text-align: right;\">         0.0108</td><td>90d          </td><td style=\"text-align: right;\">    40</td><td style=\"text-align: right;\">         7.03556</td><td style=\"text-align: right;\">               52</td><td style=\"text-align: right;\">        200</td><td style=\"text-align: right;\"> 0.0407499  </td></tr>\n",
       "<tr><td>TrainLightGCN_a3235929</td><td>TERMINATED</td><td>147.96.81.131:2889566</td><td style=\"text-align: right;\">           8</td><td style=\"text-align: right;\">            2</td><td style=\"text-align: right;\">              2</td><td>2022-01-06T00:00:00</td><td style=\"text-align: right;\">0.00816636 </td><td style=\"text-align: right;\">         0.6569</td><td>90d          </td><td style=\"text-align: right;\">    40</td><td style=\"text-align: right;\">         6.88478</td><td style=\"text-align: right;\">               52</td><td style=\"text-align: right;\">        200</td><td style=\"text-align: right;\"> 0.250586   </td></tr>\n",
       "<tr><td>TrainLightGCN_e7a0b4cf</td><td>TERMINATED</td><td>147.96.81.131:2889410</td><td style=\"text-align: right;\">           7</td><td style=\"text-align: right;\">            1</td><td style=\"text-align: right;\">            986</td><td>2022-01-06T00:00:00</td><td style=\"text-align: right;\">2.18707e-05</td><td style=\"text-align: right;\">         0.0004</td><td>21d          </td><td style=\"text-align: right;\">    40</td><td style=\"text-align: right;\">         6.42751</td><td style=\"text-align: right;\">               20</td><td style=\"text-align: right;\">        200</td><td style=\"text-align: right;\"> 0.00305191 </td></tr>\n",
       "<tr><td>TrainLightGCN_481b3b89</td><td>TERMINATED</td><td>147.96.81.131:2889262</td><td style=\"text-align: right;\">           6</td><td style=\"text-align: right;\">            2</td><td style=\"text-align: right;\">             38</td><td>2022-01-06T00:00:00</td><td style=\"text-align: right;\">4.38037e-06</td><td style=\"text-align: right;\">         0.0006</td><td>60d          </td><td style=\"text-align: right;\">    40</td><td style=\"text-align: right;\">         6.52706</td><td style=\"text-align: right;\">               46</td><td style=\"text-align: right;\">        200</td><td style=\"text-align: right;\"> 0.0391835  </td></tr>\n",
       "<tr><td>TrainLightGCN_3f1d2134</td><td>TERMINATED</td><td>147.96.81.131:2889118</td><td style=\"text-align: right;\">           6</td><td style=\"text-align: right;\">            3</td><td style=\"text-align: right;\">             50</td><td>2022-01-06T00:00:00</td><td style=\"text-align: right;\">1.76118e-06</td><td style=\"text-align: right;\">         0.0184</td><td>30d          </td><td style=\"text-align: right;\">    40</td><td style=\"text-align: right;\">         6.27131</td><td style=\"text-align: right;\">               30</td><td style=\"text-align: right;\">        200</td><td style=\"text-align: right;\"> 0.000303222</td></tr>\n",
       "<tr><td>TrainLightGCN_5a6a69c5</td><td>TERMINATED</td><td>147.96.81.131:2888969</td><td style=\"text-align: right;\">           6</td><td style=\"text-align: right;\">            1</td><td style=\"text-align: right;\">             92</td><td>2022-01-06T00:00:00</td><td style=\"text-align: right;\">1.45824e-07</td><td style=\"text-align: right;\">         0.0008</td><td>90d          </td><td style=\"text-align: right;\">    40</td><td style=\"text-align: right;\">         6.96748</td><td style=\"text-align: right;\">               52</td><td style=\"text-align: right;\">        200</td><td style=\"text-align: right;\"> 0.00857917 </td></tr>\n",
       "<tr><td>TrainLightGCN_608b09e1</td><td>TERMINATED</td><td>147.96.81.131:2888822</td><td style=\"text-align: right;\">           7</td><td style=\"text-align: right;\">            2</td><td style=\"text-align: right;\">              5</td><td>2022-01-06T00:00:00</td><td style=\"text-align: right;\">2.55365e-07</td><td style=\"text-align: right;\">         0.0322</td><td>10YE         </td><td style=\"text-align: right;\">    40</td><td style=\"text-align: right;\">         9.70594</td><td style=\"text-align: right;\">              128</td><td style=\"text-align: right;\">        200</td><td style=\"text-align: right;\"> 0.0268175  </td></tr>\n",
       "<tr><td>TrainLightGCN_42102799</td><td>TERMINATED</td><td>147.96.81.131:2888673</td><td style=\"text-align: right;\">           8</td><td style=\"text-align: right;\">            1</td><td style=\"text-align: right;\">             17</td><td>2022-01-06T00:00:00</td><td style=\"text-align: right;\">7.62639e-07</td><td style=\"text-align: right;\">         0.0078</td><td>60d          </td><td style=\"text-align: right;\">    40</td><td style=\"text-align: right;\">         6.50046</td><td style=\"text-align: right;\">               46</td><td style=\"text-align: right;\">        200</td><td style=\"text-align: right;\"> 0.000614264</td></tr>\n",
       "<tr><td>TrainLightGCN_2b5f4b3e</td><td>TERMINATED</td><td>147.96.81.131:2888524</td><td style=\"text-align: right;\">           7</td><td style=\"text-align: right;\">            1</td><td style=\"text-align: right;\">              4</td><td>2022-01-06T00:00:00</td><td style=\"text-align: right;\">4.70124e-07</td><td style=\"text-align: right;\">         0.0044</td><td>21d          </td><td style=\"text-align: right;\">    40</td><td style=\"text-align: right;\">         6.03757</td><td style=\"text-align: right;\">               20</td><td style=\"text-align: right;\">        200</td><td style=\"text-align: right;\"> 0.0101717  </td></tr>\n",
       "<tr><td>TrainLightGCN_8dc8cb4c</td><td>TERMINATED</td><td>147.96.81.131:2888367</td><td style=\"text-align: right;\">           6</td><td style=\"text-align: right;\">            1</td><td style=\"text-align: right;\">             20</td><td>2022-01-06T00:00:00</td><td style=\"text-align: right;\">1.96707e-07</td><td style=\"text-align: right;\">         0.0628</td><td>90d          </td><td style=\"text-align: right;\">    40</td><td style=\"text-align: right;\">         6.46949</td><td style=\"text-align: right;\">               52</td><td style=\"text-align: right;\">        200</td><td style=\"text-align: right;\"> 2.27253e-05</td></tr>\n",
       "<tr><td>TrainLightGCN_77a1f29a</td><td>TERMINATED</td><td>147.96.81.131:2888219</td><td style=\"text-align: right;\">           7</td><td style=\"text-align: right;\">            2</td><td style=\"text-align: right;\">              2</td><td>2022-01-06T00:00:00</td><td style=\"text-align: right;\">0.000304861</td><td style=\"text-align: right;\">         0.2378</td><td>60d          </td><td style=\"text-align: right;\">    40</td><td style=\"text-align: right;\">         6.56942</td><td style=\"text-align: right;\">               46</td><td style=\"text-align: right;\">        200</td><td style=\"text-align: right;\"> 0.0465011  </td></tr>\n",
       "<tr><td>TrainLightGCN_01a4bb03</td><td>TERMINATED</td><td>147.96.81.131:2888071</td><td style=\"text-align: right;\">           7</td><td style=\"text-align: right;\">            2</td><td style=\"text-align: right;\">              1</td><td>2022-01-06T00:00:00</td><td style=\"text-align: right;\">0.000127141</td><td style=\"text-align: right;\">         0.1211</td><td>30d          </td><td style=\"text-align: right;\">    40</td><td style=\"text-align: right;\">         6.31654</td><td style=\"text-align: right;\">               30</td><td style=\"text-align: right;\">        200</td><td style=\"text-align: right;\"> 0.10788    </td></tr>\n",
       "<tr><td>TrainLightGCN_f65644aa</td><td>TERMINATED</td><td>147.96.81.131:2887923</td><td style=\"text-align: right;\">           8</td><td style=\"text-align: right;\">            1</td><td style=\"text-align: right;\">              7</td><td>2022-01-06T00:00:00</td><td style=\"text-align: right;\">2.89859e-05</td><td style=\"text-align: right;\">         0.0103</td><td>10YE         </td><td style=\"text-align: right;\">    40</td><td style=\"text-align: right;\">         9.43754</td><td style=\"text-align: right;\">              138</td><td style=\"text-align: right;\">        200</td><td style=\"text-align: right;\"> 0.0166935  </td></tr>\n",
       "<tr><td>TrainLightGCN_e9f94673</td><td>TERMINATED</td><td>147.96.81.131:2887780</td><td style=\"text-align: right;\">           8</td><td style=\"text-align: right;\">            1</td><td style=\"text-align: right;\">             14</td><td>2022-01-06T00:00:00</td><td style=\"text-align: right;\">8.25427e-06</td><td style=\"text-align: right;\">         0.0015</td><td>60d          </td><td style=\"text-align: right;\">    40</td><td style=\"text-align: right;\">         6.57963</td><td style=\"text-align: right;\">               46</td><td style=\"text-align: right;\">        200</td><td style=\"text-align: right;\"> 0.0226717  </td></tr>\n",
       "<tr><td>TrainLightGCN_1b2bfa4f</td><td>TERMINATED</td><td>147.96.81.131:2887624</td><td style=\"text-align: right;\">           6</td><td style=\"text-align: right;\">            2</td><td style=\"text-align: right;\">             23</td><td>2022-01-06T00:00:00</td><td style=\"text-align: right;\">1.04839e-05</td><td style=\"text-align: right;\">         0.0293</td><td>90d          </td><td style=\"text-align: right;\">    40</td><td style=\"text-align: right;\">         6.8606 </td><td style=\"text-align: right;\">               52</td><td style=\"text-align: right;\">        200</td><td style=\"text-align: right;\"> 0.000501645</td></tr>\n",
       "<tr><td>TrainLightGCN_322da79a</td><td>TERMINATED</td><td>147.96.81.131:2887477</td><td style=\"text-align: right;\">           7</td><td style=\"text-align: right;\">            1</td><td style=\"text-align: right;\">              9</td><td>2022-01-06T00:00:00</td><td style=\"text-align: right;\">3.92981e-06</td><td style=\"text-align: right;\">         0.0174</td><td>90d          </td><td style=\"text-align: right;\">    40</td><td style=\"text-align: right;\">         6.7314 </td><td style=\"text-align: right;\">               52</td><td style=\"text-align: right;\">        200</td><td style=\"text-align: right;\"> 0.000853643</td></tr>\n",
       "<tr><td>TrainLightGCN_998b6434</td><td>TERMINATED</td><td>147.96.81.131:2887329</td><td style=\"text-align: right;\">           6</td><td style=\"text-align: right;\">            1</td><td style=\"text-align: right;\">             34</td><td>2022-01-06T00:00:00</td><td style=\"text-align: right;\">1.45174e-05</td><td style=\"text-align: right;\">         0.0034</td><td>21d          </td><td style=\"text-align: right;\">    40</td><td style=\"text-align: right;\">         6.47852</td><td style=\"text-align: right;\">               20</td><td style=\"text-align: right;\">        200</td><td style=\"text-align: right;\"> 0.00168597 </td></tr>\n",
       "<tr><td>TrainLightGCN_94bc3b10</td><td>TERMINATED</td><td>147.96.81.131:2887182</td><td style=\"text-align: right;\">           6</td><td style=\"text-align: right;\">            1</td><td style=\"text-align: right;\">             13</td><td>2022-01-06T00:00:00</td><td style=\"text-align: right;\">6.76153e-06</td><td style=\"text-align: right;\">         0.0012</td><td>60d          </td><td style=\"text-align: right;\">    40</td><td style=\"text-align: right;\">         6.56685</td><td style=\"text-align: right;\">               46</td><td style=\"text-align: right;\">        200</td><td style=\"text-align: right;\"> 0.0284217  </td></tr>\n",
       "<tr><td>TrainLightGCN_89dfffec</td><td>TERMINATED</td><td>147.96.81.131:2887034</td><td style=\"text-align: right;\">           7</td><td style=\"text-align: right;\">            1</td><td style=\"text-align: right;\">            319</td><td>2022-01-06T00:00:00</td><td style=\"text-align: right;\">8.03707e-05</td><td style=\"text-align: right;\">         0.0025</td><td>90d          </td><td style=\"text-align: right;\">    40</td><td style=\"text-align: right;\">         6.73141</td><td style=\"text-align: right;\">               52</td><td style=\"text-align: right;\">        200</td><td style=\"text-align: right;\"> 0.00212232 </td></tr>\n",
       "<tr><td>TrainLightGCN_5394280f</td><td>TERMINATED</td><td>147.96.81.131:2886883</td><td style=\"text-align: right;\">           6</td><td style=\"text-align: right;\">            1</td><td style=\"text-align: right;\">            492</td><td>2022-01-06T00:00:00</td><td style=\"text-align: right;\">2.3099e-05 </td><td style=\"text-align: right;\">         0.0001</td><td>90d          </td><td style=\"text-align: right;\">    40</td><td style=\"text-align: right;\">         6.78841</td><td style=\"text-align: right;\">               52</td><td style=\"text-align: right;\">        200</td><td style=\"text-align: right;\"> 0.0702594  </td></tr>\n",
       "<tr><td>TrainLightGCN_f912bdd4</td><td>TERMINATED</td><td>147.96.81.131:2886735</td><td style=\"text-align: right;\">           7</td><td style=\"text-align: right;\">            1</td><td style=\"text-align: right;\">              5</td><td>2022-01-06T00:00:00</td><td style=\"text-align: right;\">1.99142e-06</td><td style=\"text-align: right;\">         0.0067</td><td>90d          </td><td style=\"text-align: right;\">    40</td><td style=\"text-align: right;\">         6.90819</td><td style=\"text-align: right;\">               52</td><td style=\"text-align: right;\">        200</td><td style=\"text-align: right;\"> 0.0165205  </td></tr>\n",
       "<tr><td>TrainLightGCN_03e2935b</td><td>TERMINATED</td><td>147.96.81.131:2886587</td><td style=\"text-align: right;\">           6</td><td style=\"text-align: right;\">            1</td><td style=\"text-align: right;\">            396</td><td>2022-01-06T00:00:00</td><td style=\"text-align: right;\">5.69844e-05</td><td style=\"text-align: right;\">         0.1631</td><td>90d          </td><td style=\"text-align: right;\">    40</td><td style=\"text-align: right;\">         6.76382</td><td style=\"text-align: right;\">               52</td><td style=\"text-align: right;\">        200</td><td style=\"text-align: right;\"> 0.676856   </td></tr>\n",
       "<tr><td>TrainLightGCN_ae913ec7</td><td>TERMINATED</td><td>147.96.81.131:2886439</td><td style=\"text-align: right;\">           7</td><td style=\"text-align: right;\">            1</td><td style=\"text-align: right;\">            194</td><td>2022-01-06T00:00:00</td><td style=\"text-align: right;\">9.99521e-07</td><td style=\"text-align: right;\">         0.0005</td><td>90d          </td><td style=\"text-align: right;\">    40</td><td style=\"text-align: right;\">         6.85611</td><td style=\"text-align: right;\">               52</td><td style=\"text-align: right;\">        200</td><td style=\"text-align: right;\"> 0.0105368  </td></tr>\n",
       "<tr><td>TrainLightGCN_e247dcf2</td><td>TERMINATED</td><td>147.96.81.131:2886290</td><td style=\"text-align: right;\">           6</td><td style=\"text-align: right;\">            1</td><td style=\"text-align: right;\">            602</td><td>2022-01-06T00:00:00</td><td style=\"text-align: right;\">0.000163494</td><td style=\"text-align: right;\">         0.0002</td><td>90d          </td><td style=\"text-align: right;\">    40</td><td style=\"text-align: right;\">         6.83348</td><td style=\"text-align: right;\">               52</td><td style=\"text-align: right;\">        200</td><td style=\"text-align: right;\"> 0.0193276  </td></tr>\n",
       "<tr><td>TrainLightGCN_44668f1a</td><td>TERMINATED</td><td>147.96.81.131:2886142</td><td style=\"text-align: right;\">           6</td><td style=\"text-align: right;\">            1</td><td style=\"text-align: right;\">             58</td><td>2022-01-06T00:00:00</td><td style=\"text-align: right;\">0.00114174 </td><td style=\"text-align: right;\">         0.0001</td><td>90d          </td><td style=\"text-align: right;\">    40</td><td style=\"text-align: right;\">         6.67318</td><td style=\"text-align: right;\">               52</td><td style=\"text-align: right;\">        200</td><td style=\"text-align: right;\"> 0.367746   </td></tr>\n",
       "<tr><td>TrainLightGCN_d441dfc4</td><td>TERMINATED</td><td>147.96.81.131:2886000</td><td style=\"text-align: right;\">           6</td><td style=\"text-align: right;\">            1</td><td style=\"text-align: right;\">             77</td><td>2022-01-06T00:00:00</td><td style=\"text-align: right;\">4.53374e-05</td><td style=\"text-align: right;\">         0.2357</td><td>90d          </td><td style=\"text-align: right;\">    40</td><td style=\"text-align: right;\">         6.76287</td><td style=\"text-align: right;\">               52</td><td style=\"text-align: right;\">        200</td><td style=\"text-align: right;\"> 0.158759   </td></tr>\n",
       "<tr><td>TrainLightGCN_70b92773</td><td>TERMINATED</td><td>147.96.81.131:2885844</td><td style=\"text-align: right;\">           6</td><td style=\"text-align: right;\">            2</td><td style=\"text-align: right;\">            776</td><td>2022-01-06T00:00:00</td><td style=\"text-align: right;\">3.63294e-06</td><td style=\"text-align: right;\">         0.0003</td><td>60d          </td><td style=\"text-align: right;\">    40</td><td style=\"text-align: right;\">         6.76366</td><td style=\"text-align: right;\">               46</td><td style=\"text-align: right;\">        200</td><td style=\"text-align: right;\"> 0.0105434  </td></tr>\n",
       "<tr><td>TrainLightGCN_19ae279d</td><td>TERMINATED</td><td>147.96.81.131:2885697</td><td style=\"text-align: right;\">           9</td><td style=\"text-align: right;\">            1</td><td style=\"text-align: right;\">            256</td><td>2022-01-06T00:00:00</td><td style=\"text-align: right;\">2.31646e-06</td><td style=\"text-align: right;\">         0.0011</td><td>60d          </td><td style=\"text-align: right;\">    40</td><td style=\"text-align: right;\">         6.61111</td><td style=\"text-align: right;\">               46</td><td style=\"text-align: right;\">        200</td><td style=\"text-align: right;\"> 0.00186544 </td></tr>\n",
       "<tr><td>TrainLightGCN_a235edd1</td><td>TERMINATED</td><td>147.96.81.131:2885553</td><td style=\"text-align: right;\">           8</td><td style=\"text-align: right;\">            2</td><td style=\"text-align: right;\">              2</td><td>2022-01-06T00:00:00</td><td style=\"text-align: right;\">0.00268949 </td><td style=\"text-align: right;\">         0.6978</td><td>30d          </td><td style=\"text-align: right;\">    40</td><td style=\"text-align: right;\">         6.23279</td><td style=\"text-align: right;\">               30</td><td style=\"text-align: right;\">        200</td><td style=\"text-align: right;\"> 0.263899   </td></tr>\n",
       "<tr><td>TrainLightGCN_1c56cdd4</td><td>TERMINATED</td><td>147.96.81.131:2885400</td><td style=\"text-align: right;\">           6</td><td style=\"text-align: right;\">            1</td><td style=\"text-align: right;\">            182</td><td>2022-01-06T00:00:00</td><td style=\"text-align: right;\">3.67288e-05</td><td style=\"text-align: right;\">         0.0233</td><td>60d          </td><td style=\"text-align: right;\">    40</td><td style=\"text-align: right;\">         6.66153</td><td style=\"text-align: right;\">               46</td><td style=\"text-align: right;\">        200</td><td style=\"text-align: right;\"> 0.000856131</td></tr>\n",
       "<tr><td>TrainLightGCN_f0b4e62d</td><td>TERMINATED</td><td>147.96.81.131:2885259</td><td style=\"text-align: right;\">           7</td><td style=\"text-align: right;\">            1</td><td style=\"text-align: right;\">            429</td><td>2022-01-06T00:00:00</td><td style=\"text-align: right;\">0.000393978</td><td style=\"text-align: right;\">         0.3269</td><td>10YE         </td><td style=\"text-align: right;\">    40</td><td style=\"text-align: right;\">         9.63636</td><td style=\"text-align: right;\">              128</td><td style=\"text-align: right;\">        200</td><td style=\"text-align: right;\">18.729      </td></tr>\n",
       "<tr><td>TrainLightGCN_d8cb1a5a</td><td>TERMINATED</td><td>147.96.81.131:2885102</td><td style=\"text-align: right;\">           6</td><td style=\"text-align: right;\">            3</td><td style=\"text-align: right;\">            110</td><td>2022-01-06T00:00:00</td><td style=\"text-align: right;\">7.82119e-06</td><td style=\"text-align: right;\">         0.0019</td><td>60d          </td><td style=\"text-align: right;\">    40</td><td style=\"text-align: right;\">         6.58067</td><td style=\"text-align: right;\">               46</td><td style=\"text-align: right;\">        200</td><td style=\"text-align: right;\"> 0.00582134 </td></tr>\n",
       "<tr><td>TrainLightGCN_d00901b9</td><td>TERMINATED</td><td>147.96.81.131:2884952</td><td style=\"text-align: right;\">           7</td><td style=\"text-align: right;\">            4</td><td style=\"text-align: right;\">              3</td><td>2022-01-06T00:00:00</td><td style=\"text-align: right;\">0.000495279</td><td style=\"text-align: right;\">         0.004 </td><td>90d          </td><td style=\"text-align: right;\">    40</td><td style=\"text-align: right;\">         6.84288</td><td style=\"text-align: right;\">               52</td><td style=\"text-align: right;\">        200</td><td style=\"text-align: right;\"> 0.0877574  </td></tr>\n",
       "<tr><td>TrainLightGCN_dcf84569</td><td>TERMINATED</td><td>147.96.81.131:2884811</td><td style=\"text-align: right;\">           9</td><td style=\"text-align: right;\">            1</td><td style=\"text-align: right;\">              6</td><td>2022-01-06T00:00:00</td><td style=\"text-align: right;\">1.67966e-05</td><td style=\"text-align: right;\">         0.0485</td><td>21d          </td><td style=\"text-align: right;\">    40</td><td style=\"text-align: right;\">         6.33071</td><td style=\"text-align: right;\">               20</td><td style=\"text-align: right;\">        200</td><td style=\"text-align: right;\"> 0.000456671</td></tr>\n",
       "<tr><td>TrainLightGCN_c643ead9</td><td>TERMINATED</td><td>147.96.81.131:2884651</td><td style=\"text-align: right;\">           8</td><td style=\"text-align: right;\">            2</td><td style=\"text-align: right;\">             26</td><td>2022-01-06T00:00:00</td><td style=\"text-align: right;\">3.08911e-05</td><td style=\"text-align: right;\">         0.0067</td><td>90d          </td><td style=\"text-align: right;\">    40</td><td style=\"text-align: right;\">         6.7907 </td><td style=\"text-align: right;\">               52</td><td style=\"text-align: right;\">        200</td><td style=\"text-align: right;\"> 0.0034223  </td></tr>\n",
       "<tr><td>TrainLightGCN_25f3e8eb</td><td>TERMINATED</td><td>147.96.81.131:2884503</td><td style=\"text-align: right;\">           7</td><td style=\"text-align: right;\">            1</td><td style=\"text-align: right;\">              1</td><td>2022-01-06T00:00:00</td><td style=\"text-align: right;\">1.16363e-06</td><td style=\"text-align: right;\">         0.0124</td><td>90d          </td><td style=\"text-align: right;\">    40</td><td style=\"text-align: right;\">         6.94497</td><td style=\"text-align: right;\">               52</td><td style=\"text-align: right;\">        200</td><td style=\"text-align: right;\"> 0.223431   </td></tr>\n",
       "<tr><td>TrainLightGCN_8fb0b820</td><td>TERMINATED</td><td>147.96.81.131:2884362</td><td style=\"text-align: right;\">           8</td><td style=\"text-align: right;\">            2</td><td style=\"text-align: right;\">             11</td><td>2022-01-06T00:00:00</td><td style=\"text-align: right;\">3.84988e-07</td><td style=\"text-align: right;\">         0.4085</td><td>30d          </td><td style=\"text-align: right;\">    40</td><td style=\"text-align: right;\">         6.32662</td><td style=\"text-align: right;\">               30</td><td style=\"text-align: right;\">        200</td><td style=\"text-align: right;\"> 0.000384498</td></tr>\n",
       "<tr><td>TrainLightGCN_a55d9fb5</td><td>TERMINATED</td><td>147.96.81.131:2884214</td><td style=\"text-align: right;\">           7</td><td style=\"text-align: right;\">            3</td><td style=\"text-align: right;\">             67</td><td>2022-01-06T00:00:00</td><td style=\"text-align: right;\">3.07035e-06</td><td style=\"text-align: right;\">         0.1123</td><td>10YE         </td><td style=\"text-align: right;\">    40</td><td style=\"text-align: right;\">         9.54498</td><td style=\"text-align: right;\">              128</td><td style=\"text-align: right;\">        200</td><td style=\"text-align: right;\"> 0.0267363  </td></tr>\n",
       "<tr><td>TrainLightGCN_333093e5</td><td>TERMINATED</td><td>147.96.81.131:2884058</td><td style=\"text-align: right;\">           7</td><td style=\"text-align: right;\">            1</td><td style=\"text-align: right;\">            513</td><td>2022-01-06T00:00:00</td><td style=\"text-align: right;\">0.000212617</td><td style=\"text-align: right;\">         0.9029</td><td>90d          </td><td style=\"text-align: right;\">    40</td><td style=\"text-align: right;\">         6.7255 </td><td style=\"text-align: right;\">               52</td><td style=\"text-align: right;\">        200</td><td style=\"text-align: right;\">50.2403     </td></tr>\n",
       "<tr><td>TrainLightGCN_52a09ec3</td><td>TERMINATED</td><td>147.96.81.131:2883908</td><td style=\"text-align: right;\">           8</td><td style=\"text-align: right;\">            2</td><td style=\"text-align: right;\">              3</td><td>2022-01-06T00:00:00</td><td style=\"text-align: right;\">1.21247e-05</td><td style=\"text-align: right;\">         0.0459</td><td>21d          </td><td style=\"text-align: right;\">    40</td><td style=\"text-align: right;\">         5.89942</td><td style=\"text-align: right;\">               20</td><td style=\"text-align: right;\">        200</td><td style=\"text-align: right;\"> 0.000554018</td></tr>\n",
       "<tr><td>TrainLightGCN_6ca6649a</td><td>TERMINATED</td><td>147.96.81.131:2883758</td><td style=\"text-align: right;\">          10</td><td style=\"text-align: right;\">            4</td><td style=\"text-align: right;\">             36</td><td>2022-01-06T00:00:00</td><td style=\"text-align: right;\">8.96327e-05</td><td style=\"text-align: right;\">         0.0001</td><td>30d          </td><td style=\"text-align: right;\">    40</td><td style=\"text-align: right;\">         6.03828</td><td style=\"text-align: right;\">               30</td><td style=\"text-align: right;\">        200</td><td style=\"text-align: right;\"> 0.527937   </td></tr>\n",
       "<tr><td>TrainLightGCN_602cc4a4</td><td>TERMINATED</td><td>147.96.81.131:2883612</td><td style=\"text-align: right;\">           6</td><td style=\"text-align: right;\">            3</td><td style=\"text-align: right;\">            297</td><td>2022-01-06T00:00:00</td><td style=\"text-align: right;\">1.68858e-06</td><td style=\"text-align: right;\">         0.0007</td><td>90d          </td><td style=\"text-align: right;\">    40</td><td style=\"text-align: right;\">         6.89357</td><td style=\"text-align: right;\">               52</td><td style=\"text-align: right;\">        200</td><td style=\"text-align: right;\"> 0.0148322  </td></tr>\n",
       "<tr><td>TrainLightGCN_d3b512be</td><td>TERMINATED</td><td>147.96.81.131:2883472</td><td style=\"text-align: right;\">           6</td><td style=\"text-align: right;\">            1</td><td style=\"text-align: right;\">            131</td><td>2022-01-06T00:00:00</td><td style=\"text-align: right;\">5.10864e-06</td><td style=\"text-align: right;\">         0.0003</td><td>90d          </td><td style=\"text-align: right;\">    40</td><td style=\"text-align: right;\">         6.95106</td><td style=\"text-align: right;\">               52</td><td style=\"text-align: right;\">        200</td><td style=\"text-align: right;\"> 0.0360079  </td></tr>\n",
       "<tr><td>TrainLightGCN_b75b6d93</td><td>TERMINATED</td><td>147.96.81.131:2883316</td><td style=\"text-align: right;\">           6</td><td style=\"text-align: right;\">            2</td><td style=\"text-align: right;\">            640</td><td>2022-01-06T00:00:00</td><td style=\"text-align: right;\">6.37514e-07</td><td style=\"text-align: right;\">         0.0002</td><td>90d          </td><td style=\"text-align: right;\">    40</td><td style=\"text-align: right;\">         6.87585</td><td style=\"text-align: right;\">               52</td><td style=\"text-align: right;\">        200</td><td style=\"text-align: right;\"> 0.0266541  </td></tr>\n",
       "<tr><td>TrainLightGCN_e6969acc</td><td>TERMINATED</td><td>147.96.81.131:2883168</td><td style=\"text-align: right;\">           8</td><td style=\"text-align: right;\">            2</td><td style=\"text-align: right;\">              1</td><td>2022-01-06T00:00:00</td><td style=\"text-align: right;\">0.000243933</td><td style=\"text-align: right;\">         0.0027</td><td>10YE         </td><td style=\"text-align: right;\">    40</td><td style=\"text-align: right;\">         9.44298</td><td style=\"text-align: right;\">              138</td><td style=\"text-align: right;\">        200</td><td style=\"text-align: right;\"> 0.199411   </td></tr>\n",
       "<tr><td>TrainLightGCN_3bcc1cbb</td><td>TERMINATED</td><td>147.96.81.131:2883019</td><td style=\"text-align: right;\">          10</td><td style=\"text-align: right;\">            1</td><td style=\"text-align: right;\">            150</td><td>2022-01-06T00:00:00</td><td style=\"text-align: right;\">5.70354e-06</td><td style=\"text-align: right;\">         0.0001</td><td>21d          </td><td style=\"text-align: right;\">    40</td><td style=\"text-align: right;\">         6.279  </td><td style=\"text-align: right;\">               20</td><td style=\"text-align: right;\">        200</td><td style=\"text-align: right;\"> 0.25201    </td></tr>\n",
       "<tr><td>TrainLightGCN_bb8f9dab</td><td>TERMINATED</td><td>147.96.81.131:2882869</td><td style=\"text-align: right;\">           7</td><td style=\"text-align: right;\">            1</td><td style=\"text-align: right;\">            560</td><td>2022-01-06T00:00:00</td><td style=\"text-align: right;\">4.15662e-05</td><td style=\"text-align: right;\">         0.287 </td><td>90d          </td><td style=\"text-align: right;\">    40</td><td style=\"text-align: right;\">         6.69239</td><td style=\"text-align: right;\">               52</td><td style=\"text-align: right;\">        200</td><td style=\"text-align: right;\"> 1.88785    </td></tr>\n",
       "<tr><td>TrainLightGCN_a2ad08da</td><td>TERMINATED</td><td>147.96.81.131:2882729</td><td style=\"text-align: right;\">           8</td><td style=\"text-align: right;\">            2</td><td style=\"text-align: right;\">              4</td><td>2022-01-06T00:00:00</td><td style=\"text-align: right;\">0.00064929 </td><td style=\"text-align: right;\">         0.0152</td><td>90d          </td><td style=\"text-align: right;\">    40</td><td style=\"text-align: right;\">         6.8185 </td><td style=\"text-align: right;\">               52</td><td style=\"text-align: right;\">        200</td><td style=\"text-align: right;\"> 0.0300797  </td></tr>\n",
       "<tr><td>TrainLightGCN_6044b5cf</td><td>TERMINATED</td><td>147.96.81.131:2882581</td><td style=\"text-align: right;\">           7</td><td style=\"text-align: right;\">            3</td><td style=\"text-align: right;\">             10</td><td>2022-01-06T00:00:00</td><td style=\"text-align: right;\">1.83983e-07</td><td style=\"text-align: right;\">         0.0693</td><td>90d          </td><td style=\"text-align: right;\">    40</td><td style=\"text-align: right;\">         6.84926</td><td style=\"text-align: right;\">               52</td><td style=\"text-align: right;\">        200</td><td style=\"text-align: right;\"> 0.000131055</td></tr>\n",
       "<tr><td>TrainLightGCN_59159f87</td><td>TERMINATED</td><td>147.96.81.131:2882425</td><td style=\"text-align: right;\">           8</td><td style=\"text-align: right;\">            4</td><td style=\"text-align: right;\">             21</td><td>2022-01-06T00:00:00</td><td style=\"text-align: right;\">0.000102831</td><td style=\"text-align: right;\">         0.0239</td><td>60d          </td><td style=\"text-align: right;\">    40</td><td style=\"text-align: right;\">         6.62798</td><td style=\"text-align: right;\">               46</td><td style=\"text-align: right;\">        200</td><td style=\"text-align: right;\"> 0.00415584 </td></tr>\n",
       "<tr><td>TrainLightGCN_cf81ed76</td><td>TERMINATED</td><td>147.96.81.131:2882276</td><td style=\"text-align: right;\">           6</td><td style=\"text-align: right;\">            2</td><td style=\"text-align: right;\">             58</td><td>2022-01-06T00:00:00</td><td style=\"text-align: right;\">1.31658e-06</td><td style=\"text-align: right;\">         0.0001</td><td>30d          </td><td style=\"text-align: right;\">    40</td><td style=\"text-align: right;\">         6.0814 </td><td style=\"text-align: right;\">               30</td><td style=\"text-align: right;\">        200</td><td style=\"text-align: right;\"> 0.485654   </td></tr>\n",
       "<tr><td>TrainLightGCN_547df279</td><td>TERMINATED</td><td>147.96.81.131:2882131</td><td style=\"text-align: right;\">           6</td><td style=\"text-align: right;\">            1</td><td style=\"text-align: right;\">            848</td><td>2022-01-06T00:00:00</td><td style=\"text-align: right;\">3.15048e-06</td><td style=\"text-align: right;\">         0.0002</td><td>21d          </td><td style=\"text-align: right;\">    40</td><td style=\"text-align: right;\">         6.50524</td><td style=\"text-align: right;\">               20</td><td style=\"text-align: right;\">        200</td><td style=\"text-align: right;\"> 0.0130231  </td></tr>\n",
       "<tr><td>TrainLightGCN_24dc371d</td><td>TERMINATED</td><td>147.96.81.131:2881982</td><td style=\"text-align: right;\">           7</td><td style=\"text-align: right;\">            2</td><td style=\"text-align: right;\">             42</td><td>2022-01-06T00:00:00</td><td style=\"text-align: right;\">0.00366735 </td><td style=\"text-align: right;\">         0.0092</td><td>10YE         </td><td style=\"text-align: right;\">    40</td><td style=\"text-align: right;\">         9.66626</td><td style=\"text-align: right;\">              128</td><td style=\"text-align: right;\">        200</td><td style=\"text-align: right;\"> 0.0701517  </td></tr>\n",
       "<tr><td>TrainLightGCN_2f795549</td><td>TERMINATED</td><td>147.96.81.131:2881833</td><td style=\"text-align: right;\">           6</td><td style=\"text-align: right;\">            3</td><td style=\"text-align: right;\">            147</td><td>2022-01-06T00:00:00</td><td style=\"text-align: right;\">2.17357e-05</td><td style=\"text-align: right;\">         0.0011</td><td>60d          </td><td style=\"text-align: right;\">    40</td><td style=\"text-align: right;\">         6.71971</td><td style=\"text-align: right;\">               46</td><td style=\"text-align: right;\">        200</td><td style=\"text-align: right;\"> 0.00980151 </td></tr>\n",
       "<tr><td>TrainLightGCN_6bb51007</td><td>TERMINATED</td><td>147.96.81.131:2881685</td><td style=\"text-align: right;\">           7</td><td style=\"text-align: right;\">            1</td><td style=\"text-align: right;\">              2</td><td>2022-01-06T00:00:00</td><td style=\"text-align: right;\">1.10963e-07</td><td style=\"text-align: right;\">         0.0139</td><td>90d          </td><td style=\"text-align: right;\">    40</td><td style=\"text-align: right;\">         6.65385</td><td style=\"text-align: right;\">               52</td><td style=\"text-align: right;\">        200</td><td style=\"text-align: right;\"> 0.0745411  </td></tr>\n",
       "<tr><td>TrainLightGCN_575569dc</td><td>TERMINATED</td><td>147.96.81.131:2881536</td><td style=\"text-align: right;\">           6</td><td style=\"text-align: right;\">            2</td><td style=\"text-align: right;\">            929</td><td>2022-01-06T00:00:00</td><td style=\"text-align: right;\">7.78283e-07</td><td style=\"text-align: right;\">         0.0003</td><td>90d          </td><td style=\"text-align: right;\">    40</td><td style=\"text-align: right;\">         6.7791 </td><td style=\"text-align: right;\">               52</td><td style=\"text-align: right;\">        200</td><td style=\"text-align: right;\"> 0.0117301  </td></tr>\n",
       "<tr><td>TrainLightGCN_f5a80d92</td><td>TERMINATED</td><td>147.96.81.131:2881388</td><td style=\"text-align: right;\">           7</td><td style=\"text-align: right;\">            1</td><td style=\"text-align: right;\">             18</td><td>2022-01-06T00:00:00</td><td style=\"text-align: right;\">6.5207e-05 </td><td style=\"text-align: right;\">         0.0005</td><td>60d          </td><td style=\"text-align: right;\">    40</td><td style=\"text-align: right;\">         6.62196</td><td style=\"text-align: right;\">               46</td><td style=\"text-align: right;\">        200</td><td style=\"text-align: right;\"> 0.0857856  </td></tr>\n",
       "<tr><td>TrainLightGCN_59196835</td><td>TERMINATED</td><td>147.96.81.131:2881240</td><td style=\"text-align: right;\">           6</td><td style=\"text-align: right;\">            1</td><td style=\"text-align: right;\">             52</td><td>2022-01-06T00:00:00</td><td style=\"text-align: right;\">5.81631e-06</td><td style=\"text-align: right;\">         0.0001</td><td>90d          </td><td style=\"text-align: right;\">    40</td><td style=\"text-align: right;\">         6.78334</td><td style=\"text-align: right;\">               52</td><td style=\"text-align: right;\">        200</td><td style=\"text-align: right;\"> 0.38383    </td></tr>\n",
       "<tr><td>TrainLightGCN_5bb727cc</td><td>TERMINATED</td><td>147.96.81.131:2881099</td><td style=\"text-align: right;\">           7</td><td style=\"text-align: right;\">            1</td><td style=\"text-align: right;\">              6</td><td>2022-01-06T00:00:00</td><td style=\"text-align: right;\">1.90551e-05</td><td style=\"text-align: right;\">         0.0053</td><td>60d          </td><td style=\"text-align: right;\">    40</td><td style=\"text-align: right;\">         6.64142</td><td style=\"text-align: right;\">               46</td><td style=\"text-align: right;\">        200</td><td style=\"text-align: right;\"> 0.00816978 </td></tr>\n",
       "<tr><td>TrainLightGCN_7cd941ee</td><td>TERMINATED</td><td>147.96.81.131:2880951</td><td style=\"text-align: right;\">           6</td><td style=\"text-align: right;\">            1</td><td style=\"text-align: right;\">            870</td><td>2022-01-06T00:00:00</td><td style=\"text-align: right;\">4.87876e-06</td><td style=\"text-align: right;\">         0.0003</td><td>90d          </td><td style=\"text-align: right;\">    40</td><td style=\"text-align: right;\">         6.75389</td><td style=\"text-align: right;\">               52</td><td style=\"text-align: right;\">        200</td><td style=\"text-align: right;\"> 0.00698379 </td></tr>\n",
       "<tr><td>TrainLightGCN_63576120</td><td>TERMINATED</td><td>147.96.81.131:2880794</td><td style=\"text-align: right;\">           7</td><td style=\"text-align: right;\">            1</td><td style=\"text-align: right;\">              4</td><td>2022-01-06T00:00:00</td><td style=\"text-align: right;\">1.04975e-05</td><td style=\"text-align: right;\">         0.0149</td><td>90d          </td><td style=\"text-align: right;\">    40</td><td style=\"text-align: right;\">         6.74947</td><td style=\"text-align: right;\">               52</td><td style=\"text-align: right;\">        200</td><td style=\"text-align: right;\"> 0.0141251  </td></tr>\n",
       "<tr><td>TrainLightGCN_4c9c2428</td><td>TERMINATED</td><td>147.96.81.131:2880652</td><td style=\"text-align: right;\">           6</td><td style=\"text-align: right;\">            1</td><td style=\"text-align: right;\">              2</td><td>2022-01-06T00:00:00</td><td style=\"text-align: right;\">1.07682e-07</td><td style=\"text-align: right;\">         0.0015</td><td>60d          </td><td style=\"text-align: right;\">    40</td><td style=\"text-align: right;\">         6.4662 </td><td style=\"text-align: right;\">               46</td><td style=\"text-align: right;\">        200</td><td style=\"text-align: right;\"> 0.134133   </td></tr>\n",
       "<tr><td>TrainLightGCN_6d606369</td><td>TERMINATED</td><td>147.96.81.131:2880496</td><td style=\"text-align: right;\">           6</td><td style=\"text-align: right;\">            1</td><td style=\"text-align: right;\">             16</td><td>2022-01-06T00:00:00</td><td style=\"text-align: right;\">5.1517e-07 </td><td style=\"text-align: right;\">         0.0032</td><td>60d          </td><td style=\"text-align: right;\">    40</td><td style=\"text-align: right;\">         6.49143</td><td style=\"text-align: right;\">               46</td><td style=\"text-align: right;\">        200</td><td style=\"text-align: right;\"> 0.00439554 </td></tr>\n",
       "<tr><td>TrainLightGCN_9c0c8f57</td><td>TERMINATED</td><td>147.96.81.131:2880349</td><td style=\"text-align: right;\">           6</td><td style=\"text-align: right;\">            1</td><td style=\"text-align: right;\">              1</td><td>2022-01-06T00:00:00</td><td style=\"text-align: right;\">9.86385e-06</td><td style=\"text-align: right;\">         0.0004</td><td>90d          </td><td style=\"text-align: right;\">    40</td><td style=\"text-align: right;\">         6.82138</td><td style=\"text-align: right;\">               52</td><td style=\"text-align: right;\">        200</td><td style=\"text-align: right;\"> 0.621186   </td></tr>\n",
       "<tr><td>TrainLightGCN_dc3c8865</td><td>TERMINATED</td><td>147.96.81.131:2880199</td><td style=\"text-align: right;\">           6</td><td style=\"text-align: right;\">            1</td><td style=\"text-align: right;\">             49</td><td>2022-01-06T00:00:00</td><td style=\"text-align: right;\">3.28946e-07</td><td style=\"text-align: right;\">         0.0009</td><td>60d          </td><td style=\"text-align: right;\">    40</td><td style=\"text-align: right;\">         6.53457</td><td style=\"text-align: right;\">               46</td><td style=\"text-align: right;\">        200</td><td style=\"text-align: right;\"> 0.0135989  </td></tr>\n",
       "<tr><td>TrainLightGCN_d5c1b79f</td><td>TERMINATED</td><td>147.96.81.131:2880051</td><td style=\"text-align: right;\">           6</td><td style=\"text-align: right;\">            1</td><td style=\"text-align: right;\">              8</td><td>2022-01-06T00:00:00</td><td style=\"text-align: right;\">0.009903   </td><td style=\"text-align: right;\">         0.0305</td><td>90d          </td><td style=\"text-align: right;\">    40</td><td style=\"text-align: right;\">         6.79269</td><td style=\"text-align: right;\">               52</td><td style=\"text-align: right;\">        200</td><td style=\"text-align: right;\"> 0.0992246  </td></tr>\n",
       "<tr><td>TrainLightGCN_57c66a8b</td><td>TERMINATED</td><td>147.96.81.131:2879910</td><td style=\"text-align: right;\">           7</td><td style=\"text-align: right;\">            1</td><td style=\"text-align: right;\">              4</td><td>2022-01-06T00:00:00</td><td style=\"text-align: right;\">1.34426e-05</td><td style=\"text-align: right;\">         0.0059</td><td>90d          </td><td style=\"text-align: right;\">    40</td><td style=\"text-align: right;\">         6.91006</td><td style=\"text-align: right;\">               52</td><td style=\"text-align: right;\">        200</td><td style=\"text-align: right;\"> 0.0445184  </td></tr>\n",
       "<tr><td>TrainLightGCN_c5ae6111</td><td>TERMINATED</td><td>147.96.81.131:2879752</td><td style=\"text-align: right;\">           7</td><td style=\"text-align: right;\">            3</td><td style=\"text-align: right;\">             15</td><td>2022-01-06T00:00:00</td><td style=\"text-align: right;\">0.000404319</td><td style=\"text-align: right;\">         0.005 </td><td>10YE         </td><td style=\"text-align: right;\">    40</td><td style=\"text-align: right;\">         9.84464</td><td style=\"text-align: right;\">              128</td><td style=\"text-align: right;\">        200</td><td style=\"text-align: right;\"> 0.0264004  </td></tr>\n",
       "<tr><td>TrainLightGCN_923cf1f6</td><td>TERMINATED</td><td>147.96.81.131:2879612</td><td style=\"text-align: right;\">           6</td><td style=\"text-align: right;\">            1</td><td style=\"text-align: right;\">             44</td><td>2022-01-06T00:00:00</td><td style=\"text-align: right;\">7.86635e-06</td><td style=\"text-align: right;\">         0.0012</td><td>60d          </td><td style=\"text-align: right;\">    40</td><td style=\"text-align: right;\">         6.83703</td><td style=\"text-align: right;\">               46</td><td style=\"text-align: right;\">        200</td><td style=\"text-align: right;\"> 0.00771228 </td></tr>\n",
       "<tr><td>TrainLightGCN_e4ab60b9</td><td>TERMINATED</td><td>147.96.81.131:2879455</td><td style=\"text-align: right;\">           7</td><td style=\"text-align: right;\">            1</td><td style=\"text-align: right;\">             11</td><td>2022-01-06T00:00:00</td><td style=\"text-align: right;\">2.15794e-07</td><td style=\"text-align: right;\">         0.0417</td><td>60d          </td><td style=\"text-align: right;\">    40</td><td style=\"text-align: right;\">         6.33209</td><td style=\"text-align: right;\">               46</td><td style=\"text-align: right;\">        200</td><td style=\"text-align: right;\"> 6.59279e-05</td></tr>\n",
       "<tr><td>TrainLightGCN_51b4c60b</td><td>TERMINATED</td><td>147.96.81.131:2879314</td><td style=\"text-align: right;\">           7</td><td style=\"text-align: right;\">            1</td><td style=\"text-align: right;\">              7</td><td>2022-01-06T00:00:00</td><td style=\"text-align: right;\">8.49758e-06</td><td style=\"text-align: right;\">         0.0049</td><td>90d          </td><td style=\"text-align: right;\">    40</td><td style=\"text-align: right;\">         6.72686</td><td style=\"text-align: right;\">               52</td><td style=\"text-align: right;\">        200</td><td style=\"text-align: right;\"> 0.0108756  </td></tr>\n",
       "<tr><td>TrainLightGCN_cf8dfffd</td><td>TERMINATED</td><td>147.96.81.131:2879016</td><td style=\"text-align: right;\">           7</td><td style=\"text-align: right;\">            4</td><td style=\"text-align: right;\">             97</td><td>2022-01-06T00:00:00</td><td style=\"text-align: right;\">6.09932e-05</td><td style=\"text-align: right;\">         0.0021</td><td>10YE         </td><td style=\"text-align: right;\">    40</td><td style=\"text-align: right;\">         9.9053 </td><td style=\"text-align: right;\">              128</td><td style=\"text-align: right;\">        200</td><td style=\"text-align: right;\"> 0.0138553  </td></tr>\n",
       "<tr><td>TrainLightGCN_a10248f5</td><td>TERMINATED</td><td>147.96.81.131:2879159</td><td style=\"text-align: right;\">           9</td><td style=\"text-align: right;\">            2</td><td style=\"text-align: right;\">              3</td><td>2022-01-06T00:00:00</td><td style=\"text-align: right;\">0.00158506 </td><td style=\"text-align: right;\">         0.0001</td><td>30d          </td><td style=\"text-align: right;\">    40</td><td style=\"text-align: right;\">         5.98879</td><td style=\"text-align: right;\">               30</td><td style=\"text-align: right;\">        200</td><td style=\"text-align: right;\"> 0.678312   </td></tr>\n",
       "<tr><td>TrainLightGCN_c9eaf498</td><td>TERMINATED</td><td>147.96.81.131:2878861</td><td style=\"text-align: right;\">           8</td><td style=\"text-align: right;\">            2</td><td style=\"text-align: right;\">             27</td><td>2022-01-06T00:00:00</td><td style=\"text-align: right;\">3.06006e-05</td><td style=\"text-align: right;\">         0.2056</td><td>30d          </td><td style=\"text-align: right;\">    40</td><td style=\"text-align: right;\">         5.95581</td><td style=\"text-align: right;\">               30</td><td style=\"text-align: right;\">        200</td><td style=\"text-align: right;\"> 0.0242144  </td></tr>\n",
       "<tr><td>TrainLightGCN_c119d07a</td><td>TERMINATED</td><td>147.96.81.131:2878718</td><td style=\"text-align: right;\">           8</td><td style=\"text-align: right;\">            2</td><td style=\"text-align: right;\">            241</td><td>2022-01-06T00:00:00</td><td style=\"text-align: right;\">5.10482e-06</td><td style=\"text-align: right;\">         0.0017</td><td>90d          </td><td style=\"text-align: right;\">    40</td><td style=\"text-align: right;\">         6.85461</td><td style=\"text-align: right;\">               52</td><td style=\"text-align: right;\">        200</td><td style=\"text-align: right;\"> 0.00249351 </td></tr>\n",
       "<tr><td>TrainLightGCN_a1bf4fd9</td><td>TERMINATED</td><td>147.96.81.131:2878563</td><td style=\"text-align: right;\">           9</td><td style=\"text-align: right;\">            4</td><td style=\"text-align: right;\">              7</td><td>2022-01-06T00:00:00</td><td style=\"text-align: right;\">2.91903e-06</td><td style=\"text-align: right;\">         0.1593</td><td>21d          </td><td style=\"text-align: right;\">    40</td><td style=\"text-align: right;\">         6.4543 </td><td style=\"text-align: right;\">               20</td><td style=\"text-align: right;\">        200</td><td style=\"text-align: right;\"> 0.000123182</td></tr>\n",
       "<tr><td>TrainLightGCN_d3b1445b</td><td>TERMINATED</td><td>147.96.81.131:2878421</td><td style=\"text-align: right;\">           9</td><td style=\"text-align: right;\">            3</td><td style=\"text-align: right;\">            447</td><td>2022-01-06T00:00:00</td><td style=\"text-align: right;\">0.000129301</td><td style=\"text-align: right;\">         0.0008</td><td>60d          </td><td style=\"text-align: right;\">    40</td><td style=\"text-align: right;\">         6.60411</td><td style=\"text-align: right;\">               46</td><td style=\"text-align: right;\">        200</td><td style=\"text-align: right;\"> 0.00925611 </td></tr>\n",
       "<tr><td>TrainLightGCN_eacc634f</td><td>TERMINATED</td><td>147.96.81.131:2878275</td><td style=\"text-align: right;\">           9</td><td style=\"text-align: right;\">            3</td><td style=\"text-align: right;\">             86</td><td>2022-01-06T00:00:00</td><td style=\"text-align: right;\">0.000166749</td><td style=\"text-align: right;\">         0.0002</td><td>30d          </td><td style=\"text-align: right;\">    40</td><td style=\"text-align: right;\">         6.17091</td><td style=\"text-align: right;\">               30</td><td style=\"text-align: right;\">        200</td><td style=\"text-align: right;\"> 0.190825   </td></tr>\n",
       "<tr><td>TrainLightGCN_e86573cd</td><td>TERMINATED</td><td>147.96.81.131:2878120</td><td style=\"text-align: right;\">          10</td><td style=\"text-align: right;\">            2</td><td style=\"text-align: right;\">            364</td><td>2022-01-06T00:00:00</td><td style=\"text-align: right;\">2.08113e-06</td><td style=\"text-align: right;\">         0.0002</td><td>90d          </td><td style=\"text-align: right;\">    40</td><td style=\"text-align: right;\">         6.77068</td><td style=\"text-align: right;\">               52</td><td style=\"text-align: right;\">        200</td><td style=\"text-align: right;\"> 0.0374103  </td></tr>\n",
       "<tr><td>TrainLightGCN_b47b982a</td><td>TERMINATED</td><td>147.96.81.131:2877978</td><td style=\"text-align: right;\">           8</td><td style=\"text-align: right;\">            2</td><td style=\"text-align: right;\">             96</td><td>2022-01-06T00:00:00</td><td style=\"text-align: right;\">4.92424e-05</td><td style=\"text-align: right;\">         0.0784</td><td>21d          </td><td style=\"text-align: right;\">    40</td><td style=\"text-align: right;\">         6.23269</td><td style=\"text-align: right;\">               20</td><td style=\"text-align: right;\">        200</td><td style=\"text-align: right;\"> 0.0013441  </td></tr>\n",
       "<tr><td>TrainLightGCN_c84e35d5</td><td>TERMINATED</td><td>147.96.81.131:2877822</td><td style=\"text-align: right;\">           9</td><td style=\"text-align: right;\">            2</td><td style=\"text-align: right;\">             26</td><td>2022-01-06T00:00:00</td><td style=\"text-align: right;\">1.42721e-06</td><td style=\"text-align: right;\">         0.6694</td><td>30d          </td><td style=\"text-align: right;\">    40</td><td style=\"text-align: right;\">         6.00944</td><td style=\"text-align: right;\">               30</td><td style=\"text-align: right;\">        200</td><td style=\"text-align: right;\"> 0.0111015  </td></tr>\n",
       "<tr><td>TrainLightGCN_1969c4ec</td><td>TERMINATED</td><td>147.96.81.131:2877672</td><td style=\"text-align: right;\">           8</td><td style=\"text-align: right;\">            4</td><td style=\"text-align: right;\">            219</td><td>2022-01-06T00:00:00</td><td style=\"text-align: right;\">0.000261231</td><td style=\"text-align: right;\">         0.095 </td><td>60d          </td><td style=\"text-align: right;\">    40</td><td style=\"text-align: right;\">         6.71895</td><td style=\"text-align: right;\">               46</td><td style=\"text-align: right;\">        200</td><td style=\"text-align: right;\"> 0.0879545  </td></tr>\n",
       "<tr><td>TrainLightGCN_076b3001</td><td>TERMINATED</td><td>147.96.81.131:2877374</td><td style=\"text-align: right;\">          10</td><td style=\"text-align: right;\">            3</td><td style=\"text-align: right;\">            332</td><td>2022-01-06T00:00:00</td><td style=\"text-align: right;\">0.00221159 </td><td style=\"text-align: right;\">         0.4863</td><td>10YE         </td><td style=\"text-align: right;\">    40</td><td style=\"text-align: right;\">         9.95069</td><td style=\"text-align: right;\">              138</td><td style=\"text-align: right;\">        200</td><td style=\"text-align: right;\">12.1825     </td></tr>\n",
       "<tr><td>TrainLightGCN_75d44915</td><td>TERMINATED</td><td>147.96.81.131:2877530</td><td style=\"text-align: right;\">          10</td><td style=\"text-align: right;\">            1</td><td style=\"text-align: right;\">              1</td><td>2022-01-06T00:00:00</td><td style=\"text-align: right;\">0.000699071</td><td style=\"text-align: right;\">         0.0029</td><td>21d          </td><td style=\"text-align: right;\">    40</td><td style=\"text-align: right;\">         6.28586</td><td style=\"text-align: right;\">               20</td><td style=\"text-align: right;\">        200</td><td style=\"text-align: right;\"> 0.151484   </td></tr>\n",
       "<tr><td>TrainLightGCN_ed2c12b4</td><td>TERMINATED</td><td>147.96.81.131:2877226</td><td style=\"text-align: right;\">           7</td><td style=\"text-align: right;\">            2</td><td style=\"text-align: right;\">             74</td><td>2022-01-06T00:00:00</td><td style=\"text-align: right;\">8.63799e-07</td><td style=\"text-align: right;\">         0.1736</td><td>10YE         </td><td style=\"text-align: right;\">    40</td><td style=\"text-align: right;\">         9.65236</td><td style=\"text-align: right;\">              128</td><td style=\"text-align: right;\">        200</td><td style=\"text-align: right;\"> 0.0331251  </td></tr>\n",
       "<tr><td>TrainLightGCN_9fe059a7</td><td>TERMINATED</td><td>147.96.81.131:2877075</td><td style=\"text-align: right;\">           6</td><td style=\"text-align: right;\">            2</td><td style=\"text-align: right;\">            217</td><td>2022-01-06T00:00:00</td><td style=\"text-align: right;\">2.53991e-06</td><td style=\"text-align: right;\">         0.4785</td><td>21d          </td><td style=\"text-align: right;\">    40</td><td style=\"text-align: right;\">         6.05914</td><td style=\"text-align: right;\">               20</td><td style=\"text-align: right;\">        200</td><td style=\"text-align: right;\"> 0.00934501 </td></tr>\n",
       "<tr><td>TrainLightGCN_76302858</td><td>TERMINATED</td><td>147.96.81.131:2876919</td><td style=\"text-align: right;\">           7</td><td style=\"text-align: right;\">            2</td><td style=\"text-align: right;\">             34</td><td>2022-01-06T00:00:00</td><td style=\"text-align: right;\">0.0007608  </td><td style=\"text-align: right;\">         0.0091</td><td>60d          </td><td style=\"text-align: right;\">    40</td><td style=\"text-align: right;\">         6.61987</td><td style=\"text-align: right;\">               46</td><td style=\"text-align: right;\">        200</td><td style=\"text-align: right;\"> 0.0134497  </td></tr>\n",
       "<tr><td>TrainLightGCN_6f18f830</td><td>TERMINATED</td><td>147.96.81.131:2876637</td><td style=\"text-align: right;\">           8</td><td style=\"text-align: right;\">            4</td><td style=\"text-align: right;\">             32</td><td>2022-01-06T00:00:00</td><td style=\"text-align: right;\">1.24202e-06</td><td style=\"text-align: right;\">         0.015 </td><td>10YE         </td><td style=\"text-align: right;\">    40</td><td style=\"text-align: right;\">        10.2636 </td><td style=\"text-align: right;\">              138</td><td style=\"text-align: right;\">        200</td><td style=\"text-align: right;\"> 0.00153637 </td></tr>\n",
       "<tr><td>TrainLightGCN_b3f91dcf</td><td>TERMINATED</td><td>147.96.81.131:2876777</td><td style=\"text-align: right;\">           9</td><td style=\"text-align: right;\">            2</td><td style=\"text-align: right;\">             86</td><td>2022-01-06T00:00:00</td><td style=\"text-align: right;\">0.00134325 </td><td style=\"text-align: right;\">         0.0006</td><td>21d          </td><td style=\"text-align: right;\">    40</td><td style=\"text-align: right;\">         6.5962 </td><td style=\"text-align: right;\">               20</td><td style=\"text-align: right;\">        200</td><td style=\"text-align: right;\"> 0.0285389  </td></tr>\n",
       "<tr><td>TrainLightGCN_520b7a77</td><td>TERMINATED</td><td>147.96.81.131:2876377</td><td style=\"text-align: right;\">           6</td><td style=\"text-align: right;\">            2</td><td style=\"text-align: right;\">              2</td><td>2022-01-06T00:00:00</td><td style=\"text-align: right;\">0.00593621 </td><td style=\"text-align: right;\">         0.0213</td><td>10YE         </td><td style=\"text-align: right;\">    40</td><td style=\"text-align: right;\">        13.2781 </td><td style=\"text-align: right;\">               64</td><td style=\"text-align: right;\">        200</td><td style=\"text-align: right;\"> 0.153009   </td></tr>\n",
       "<tr><td>TrainLightGCN_d0733f3a</td><td>TERMINATED</td><td>147.96.81.131:2876496</td><td style=\"text-align: right;\">           9</td><td style=\"text-align: right;\">            3</td><td style=\"text-align: right;\">            665</td><td>2022-01-06T00:00:00</td><td style=\"text-align: right;\">2.74456e-05</td><td style=\"text-align: right;\">         0.0092</td><td>90d          </td><td style=\"text-align: right;\">    40</td><td style=\"text-align: right;\">         7.29079</td><td style=\"text-align: right;\">               52</td><td style=\"text-align: right;\">        200</td><td style=\"text-align: right;\"> 0.00136763 </td></tr>\n",
       "</tbody>\n",
       "</table>\n",
       "  </div>\n",
       "</div>\n",
       "<style>\n",
       ".tuneStatus {\n",
       "  color: var(--jp-ui-font-color1);\n",
       "}\n",
       ".tuneStatus .systemInfo {\n",
       "  display: flex;\n",
       "  flex-direction: column;\n",
       "}\n",
       ".tuneStatus td {\n",
       "  white-space: nowrap;\n",
       "}\n",
       ".tuneStatus .trialStatus {\n",
       "  display: flex;\n",
       "  flex-direction: column;\n",
       "}\n",
       ".tuneStatus h3 {\n",
       "  font-weight: bold;\n",
       "}\n",
       ".tuneStatus .hDivider {\n",
       "  border-bottom-width: var(--jp-border-width);\n",
       "  border-bottom-color: var(--jp-border-color0);\n",
       "  border-bottom-style: solid;\n",
       "}\n",
       ".tuneStatus .vDivider {\n",
       "  border-left-width: var(--jp-border-width);\n",
       "  border-left-color: var(--jp-border-color0);\n",
       "  border-left-style: solid;\n",
       "  margin: 0.5em 1em 0.5em 1em;\n",
       "}\n",
       "</style>\n"
      ],
      "text/plain": [
       "<IPython.core.display.HTML object>"
      ]
     },
     "metadata": {},
     "output_type": "display_data"
    },
    {
     "name": "stderr",
     "output_type": "stream",
     "text": [
      "2024-09-05 09:04:21,199\tINFO tune_controller.py:444 -- Restoring the run from the latest experiment state file: experiment_state-2024-09-05_09-04-20.json\n"
     ]
    },
    {
     "name": "stderr",
     "output_type": "stream",
     "text": [
      "2024-09-05 09:04:21,851\tINFO tune.py:1009 -- Wrote the latest version of all result files and experiment state to '/home/daviddavo/ray_results3.11/MetaCartel - MetaCartel Ventures/LightGCN_W-THU_normalize_map@10_fold=2022-01-06T00:00:00_2024-08-30T23:29:29.991496' in 0.3480s.\n"
     ]
    },
    {
     "name": "stderr",
     "output_type": "stream",
     "text": [
      "2024-09-05 09:04:21,864\tINFO tune.py:1041 -- Total run time: 0.67 seconds (0.00 seconds for the tuning loop).\n"
     ]
    },
    {
     "name": "stdout",
     "output_type": "stream",
     "text": [
      "Finished training for fold 2022-01-06T00:00:00\n"
     ]
    }
   ],
   "source": [
    "import logging\n",
    "import requests\n",
    "\n",
    "def findConfig(rg):\n",
    "    for r in rg:\n",
    "        if r.config:\n",
    "            lbrc = last_best_result.config\n",
    "            if all((r.config[k] == v for k, v in last_best_result.config.items() if k != 'fold')):\n",
    "                return r\n",
    "            elif all((r.config[k] == v for k, v in last_best_result.config.items() if k != 'fold' and k != 'window_size')):\n",
    "                print(\"Possible coincidence:\", r.config, file=sys.stderr)\n",
    "\n",
    "    return None\n",
    "\n",
    "tuners = []\n",
    "results = []\n",
    "last_best_result = None\n",
    "pbar.reset()\n",
    "\n",
    "last_best_fold = None\n",
    "requests.post(\"https://ntfy.sh/grasia_notebooks\", data=f\"Start running microsoft_tuning for {ORG_NAME}\")\n",
    "for i, (prev_f_idx, f_idx) in enumerate(zip(it.chain([None], use_folds_idx), use_folds_idx)):\n",
    "    try:\n",
    "        with out:\n",
    "            best_prev_config = None\n",
    "            if last_best_result is not None:\n",
    "                best_prev_config = last_best_result.config.copy()\n",
    "                assert best_prev_config['fold'] == prev_f_idx\n",
    "                best_prev_config['fold'] = f_idx\n",
    "                print(f\"Also evaluating best_prev_config ({OPTIM_METRIC}={last_best_result.metrics[OPTIM_METRIC]}): {best_prev_config}\")\n",
    "                best_prev_config = [best_prev_config]\n",
    "        \n",
    "        t = getTunerOnFold(f_idx, best_prev_config)\n",
    "        tuners.append(t)\n",
    "    \n",
    "        rg = t.fit()\n",
    "        \n",
    "        # FIXME: load results from disk until ray-project/ray#47358 is solved\n",
    "        # https://github.com/ray-project/ray/issues/47358\n",
    "        t = getTunerOnFold(f_idx, best_prev_config)\n",
    "        tuners[-1] = t\n",
    "        rg = t.fit()\n",
    "    \n",
    "        assert rg.num_errors == 0, f\"There are {rg.num_errors} errors\"\n",
    "        assert rg.num_terminated >= NUM_SAMPLES, f'Some samples are not terminated ({rg.num_terminated} != {NUM_SAMPLES})'\n",
    "        assert len(rg.get_dataframe()) >= NUM_SAMPLES\n",
    "        results.append(rg)\n",
    "    \n",
    "        # Assert that the prev config has been tried\n",
    "        if last_best_result is not None:\n",
    "            # if not any( \n",
    "            #     all((r.config[k] == v for k, v in last_best_result.config.items() if k != 'fold'))\n",
    "            #     for r in rg if r.config\n",
    "            # ):\n",
    "            if not findConfig(rg):\n",
    "                print(\"Best config:\", last_best_result.config)\n",
    "                assert False, f\"The best config from previous fold has not been tested in fold {f_idx}\"    \n",
    "            else:\n",
    "                logging.info(f'Fold {f_idx}. Best prev result was {last_best_result.path} and config has been found {findConfig(rg).path}')\n",
    "        \n",
    "        last_best_result = rg.get_best_result()\n",
    "        pbar.update()\n",
    "    \n",
    "        print(f\"Finished training for fold {f_idx}\")\n",
    "        requests.post(\"https://ntfy.sh/grasia_notebooks\", data=f\"Finished running fold {i} for {ORG_NAME}\")\n",
    "    except Exception as e:\n",
    "        requests.post(\"https://ntfy.sh/grasia_notebooks\", data=f\"Error on fold {i} for {ORG_NAME}: {repr(e)}\")\n",
    "        raise\n",
    "\n",
    "pbar.close()"
   ]
  },
  {
   "cell_type": "code",
   "execution_count": 23,
   "id": "a2d319e4",
   "metadata": {
    "editable": true,
    "execution": {
     "iopub.execute_input": "2024-09-05T09:04:22.388670Z",
     "iopub.status.busy": "2024-09-05T09:04:22.388591Z",
     "iopub.status.idle": "2024-09-05T09:04:22.716486Z",
     "shell.execute_reply": "2024-09-05T09:04:22.715295Z"
    },
    "papermill": {
     "duration": 0.337012,
     "end_time": "2024-09-05T09:04:22.719650",
     "exception": false,
     "start_time": "2024-09-05T09:04:22.382638",
     "status": "completed"
    },
    "slideshow": {
     "slide_type": ""
    },
    "tags": []
   },
   "outputs": [
    {
     "name": "stdout",
     "output_type": "stream",
     "text": [
      "Finished!\n"
     ]
    }
   ],
   "source": [
    "requests.post(\"https://ntfy.sh/grasia_notebooks\", data=f\"Finished running everything for {ORG_NAME}\")\n",
    "print(\"Finished!\")"
   ]
  }
 ],
 "metadata": {
  "kernelspec": {
   "display_name": "Python 3 (ipykernel)",
   "language": "python",
   "name": "python3"
  },
  "language_info": {
   "codemirror_mode": {
    "name": "ipython",
    "version": 3
   },
   "file_extension": ".py",
   "mimetype": "text/x-python",
   "name": "python",
   "nbconvert_exporter": "python",
   "pygments_lexer": "ipython3",
   "version": "3.11.6"
  },
  "papermill": {
   "default_parameters": {},
   "duration": 36.821407,
   "end_time": "2024-09-05T09:04:27.866043",
   "environment_variables": {},
   "exception": null,
   "input_path": "20_microsoft_tuning.ipynb",
   "output_path": "../nbout/MetaCartel - MetaCartel Ventures/20_microsoft_tuning.ipynb",
   "parameters": {
    "EXECUTION_ID": "2024-09-04T10:00",
    "LAST_FOLDS": 10,
    "LAST_FOLD_DATE_STR": "2022-01-06",
    "ORG_NAME": "MetaCartel - MetaCartel Ventures",
    "SPLITS_FREQ": "W-THU",
    "SPLITS_NORMALIZE": true
   },
   "start_time": "2024-09-05T09:03:51.044636",
   "version": "2.6.0"
  },
  "widgets": {
   "application/vnd.jupyter.widget-state+json": {
    "state": {
     "26f126b2836e40368099c5f13ca6e516": {
      "model_module": "@jupyter-widgets/controls",
      "model_module_version": "2.0.0",
      "model_name": "HTMLStyleModel",
      "state": {
       "_model_module": "@jupyter-widgets/controls",
       "_model_module_version": "2.0.0",
       "_model_name": "HTMLStyleModel",
       "_view_count": null,
       "_view_module": "@jupyter-widgets/base",
       "_view_module_version": "2.0.0",
       "_view_name": "StyleView",
       "background": null,
       "description_width": "",
       "font_size": null,
       "text_color": null
      }
     },
     "36ea7fd5e0cf4a4081ef9da9bead082f": {
      "model_module": "@jupyter-widgets/controls",
      "model_module_version": "2.0.0",
      "model_name": "FloatProgressModel",
      "state": {
       "_dom_classes": [],
       "_model_module": "@jupyter-widgets/controls",
       "_model_module_version": "2.0.0",
       "_model_name": "FloatProgressModel",
       "_view_count": null,
       "_view_module": "@jupyter-widgets/controls",
       "_view_module_version": "2.0.0",
       "_view_name": "ProgressView",
       "bar_style": "success",
       "description": "",
       "description_allow_html": false,
       "layout": "IPY_MODEL_b35529bc79244a09ab0c830d6241757a",
       "max": 10.0,
       "min": 0.0,
       "orientation": "horizontal",
       "style": "IPY_MODEL_5be86b7df2a244c794f549b29c5ede9a",
       "tabbable": null,
       "tooltip": null,
       "value": 10.0
      }
     },
     "435e5dc8811843c886d2c836a26f3982": {
      "model_module": "@jupyter-widgets/base",
      "model_module_version": "2.0.0",
      "model_name": "LayoutModel",
      "state": {
       "_model_module": "@jupyter-widgets/base",
       "_model_module_version": "2.0.0",
       "_model_name": "LayoutModel",
       "_view_count": null,
       "_view_module": "@jupyter-widgets/base",
       "_view_module_version": "2.0.0",
       "_view_name": "LayoutView",
       "align_content": null,
       "align_items": null,
       "align_self": null,
       "border_bottom": null,
       "border_left": null,
       "border_right": null,
       "border_top": null,
       "bottom": null,
       "display": null,
       "flex": null,
       "flex_flow": null,
       "grid_area": null,
       "grid_auto_columns": null,
       "grid_auto_flow": null,
       "grid_auto_rows": null,
       "grid_column": null,
       "grid_gap": null,
       "grid_row": null,
       "grid_template_areas": null,
       "grid_template_columns": null,
       "grid_template_rows": null,
       "height": null,
       "justify_content": null,
       "justify_items": null,
       "left": null,
       "margin": null,
       "max_height": null,
       "max_width": null,
       "min_height": null,
       "min_width": null,
       "object_fit": null,
       "object_position": null,
       "order": null,
       "overflow": null,
       "padding": null,
       "right": null,
       "top": null,
       "visibility": null,
       "width": null
      }
     },
     "499b4c7dc6e345a2964c448ce279cf2b": {
      "model_module": "@jupyter-widgets/controls",
      "model_module_version": "2.0.0",
      "model_name": "HTMLStyleModel",
      "state": {
       "_model_module": "@jupyter-widgets/controls",
       "_model_module_version": "2.0.0",
       "_model_name": "HTMLStyleModel",
       "_view_count": null,
       "_view_module": "@jupyter-widgets/base",
       "_view_module_version": "2.0.0",
       "_view_name": "StyleView",
       "background": null,
       "description_width": "",
       "font_size": null,
       "text_color": null
      }
     },
     "4b3144e707d6468ca59458693d8c102a": {
      "model_module": "@jupyter-widgets/controls",
      "model_module_version": "2.0.0",
      "model_name": "HTMLModel",
      "state": {
       "_dom_classes": [],
       "_model_module": "@jupyter-widgets/controls",
       "_model_module_version": "2.0.0",
       "_model_name": "HTMLModel",
       "_view_count": null,
       "_view_module": "@jupyter-widgets/controls",
       "_view_module_version": "2.0.0",
       "_view_name": "HTMLView",
       "description": "",
       "description_allow_html": false,
       "layout": "IPY_MODEL_435e5dc8811843c886d2c836a26f3982",
       "placeholder": "​",
       "style": "IPY_MODEL_26f126b2836e40368099c5f13ca6e516",
       "tabbable": null,
       "tooltip": null,
       "value": " 10/10 [00:26&lt;00:00,  2.57s/it]"
      }
     },
     "5be86b7df2a244c794f549b29c5ede9a": {
      "model_module": "@jupyter-widgets/controls",
      "model_module_version": "2.0.0",
      "model_name": "ProgressStyleModel",
      "state": {
       "_model_module": "@jupyter-widgets/controls",
       "_model_module_version": "2.0.0",
       "_model_name": "ProgressStyleModel",
       "_view_count": null,
       "_view_module": "@jupyter-widgets/base",
       "_view_module_version": "2.0.0",
       "_view_name": "StyleView",
       "bar_color": null,
       "description_width": ""
      }
     },
     "6becf53731a64a03b37ad805b64038d1": {
      "model_module": "@jupyter-widgets/base",
      "model_module_version": "2.0.0",
      "model_name": "LayoutModel",
      "state": {
       "_model_module": "@jupyter-widgets/base",
       "_model_module_version": "2.0.0",
       "_model_name": "LayoutModel",
       "_view_count": null,
       "_view_module": "@jupyter-widgets/base",
       "_view_module_version": "2.0.0",
       "_view_name": "LayoutView",
       "align_content": null,
       "align_items": null,
       "align_self": null,
       "border_bottom": "1px solid black",
       "border_left": "1px solid black",
       "border_right": "1px solid black",
       "border_top": "1px solid black",
       "bottom": null,
       "display": null,
       "flex": null,
       "flex_flow": null,
       "grid_area": null,
       "grid_auto_columns": null,
       "grid_auto_flow": null,
       "grid_auto_rows": null,
       "grid_column": null,
       "grid_gap": null,
       "grid_row": null,
       "grid_template_areas": null,
       "grid_template_columns": null,
       "grid_template_rows": null,
       "height": null,
       "justify_content": null,
       "justify_items": null,
       "left": null,
       "margin": null,
       "max_height": null,
       "max_width": null,
       "min_height": null,
       "min_width": null,
       "object_fit": null,
       "object_position": null,
       "order": null,
       "overflow": null,
       "padding": null,
       "right": null,
       "top": null,
       "visibility": null,
       "width": null
      }
     },
     "955255efc73043e1977aa086a51415a4": {
      "model_module": "@jupyter-widgets/controls",
      "model_module_version": "2.0.0",
      "model_name": "HBoxModel",
      "state": {
       "_dom_classes": [],
       "_model_module": "@jupyter-widgets/controls",
       "_model_module_version": "2.0.0",
       "_model_name": "HBoxModel",
       "_view_count": null,
       "_view_module": "@jupyter-widgets/controls",
       "_view_module_version": "2.0.0",
       "_view_name": "HBoxView",
       "box_style": "",
       "children": [
        "IPY_MODEL_f315e759b90c43d1afef9950684709f7",
        "IPY_MODEL_36ea7fd5e0cf4a4081ef9da9bead082f",
        "IPY_MODEL_4b3144e707d6468ca59458693d8c102a"
       ],
       "layout": "IPY_MODEL_aba50f5628de4c1296b0ad643e25c06b",
       "tabbable": null,
       "tooltip": null
      }
     },
     "aba50f5628de4c1296b0ad643e25c06b": {
      "model_module": "@jupyter-widgets/base",
      "model_module_version": "2.0.0",
      "model_name": "LayoutModel",
      "state": {
       "_model_module": "@jupyter-widgets/base",
       "_model_module_version": "2.0.0",
       "_model_name": "LayoutModel",
       "_view_count": null,
       "_view_module": "@jupyter-widgets/base",
       "_view_module_version": "2.0.0",
       "_view_name": "LayoutView",
       "align_content": null,
       "align_items": null,
       "align_self": null,
       "border_bottom": null,
       "border_left": null,
       "border_right": null,
       "border_top": null,
       "bottom": null,
       "display": null,
       "flex": null,
       "flex_flow": null,
       "grid_area": null,
       "grid_auto_columns": null,
       "grid_auto_flow": null,
       "grid_auto_rows": null,
       "grid_column": null,
       "grid_gap": null,
       "grid_row": null,
       "grid_template_areas": null,
       "grid_template_columns": null,
       "grid_template_rows": null,
       "height": null,
       "justify_content": null,
       "justify_items": null,
       "left": null,
       "margin": null,
       "max_height": null,
       "max_width": null,
       "min_height": null,
       "min_width": null,
       "object_fit": null,
       "object_position": null,
       "order": null,
       "overflow": null,
       "padding": null,
       "right": null,
       "top": null,
       "visibility": null,
       "width": null
      }
     },
     "b35529bc79244a09ab0c830d6241757a": {
      "model_module": "@jupyter-widgets/base",
      "model_module_version": "2.0.0",
      "model_name": "LayoutModel",
      "state": {
       "_model_module": "@jupyter-widgets/base",
       "_model_module_version": "2.0.0",
       "_model_name": "LayoutModel",
       "_view_count": null,
       "_view_module": "@jupyter-widgets/base",
       "_view_module_version": "2.0.0",
       "_view_name": "LayoutView",
       "align_content": null,
       "align_items": null,
       "align_self": null,
       "border_bottom": null,
       "border_left": null,
       "border_right": null,
       "border_top": null,
       "bottom": null,
       "display": null,
       "flex": null,
       "flex_flow": null,
       "grid_area": null,
       "grid_auto_columns": null,
       "grid_auto_flow": null,
       "grid_auto_rows": null,
       "grid_column": null,
       "grid_gap": null,
       "grid_row": null,
       "grid_template_areas": null,
       "grid_template_columns": null,
       "grid_template_rows": null,
       "height": null,
       "justify_content": null,
       "justify_items": null,
       "left": null,
       "margin": null,
       "max_height": null,
       "max_width": null,
       "min_height": null,
       "min_width": null,
       "object_fit": null,
       "object_position": null,
       "order": null,
       "overflow": null,
       "padding": null,
       "right": null,
       "top": null,
       "visibility": null,
       "width": null
      }
     },
     "b4fa6858a22f4e618efab9c1f8a5cc46": {
      "model_module": "@jupyter-widgets/output",
      "model_module_version": "1.0.0",
      "model_name": "OutputModel",
      "state": {
       "_dom_classes": [],
       "_model_module": "@jupyter-widgets/output",
       "_model_module_version": "1.0.0",
       "_model_name": "OutputModel",
       "_view_count": null,
       "_view_module": "@jupyter-widgets/output",
       "_view_module_version": "1.0.0",
       "_view_name": "OutputView",
       "layout": "IPY_MODEL_6becf53731a64a03b37ad805b64038d1",
       "msg_id": "",
       "outputs": [
        {
         "name": "stdout",
         "output_type": "stream",
         "text": "In this cell important output from the next cell will be shown\nAlso evaluating best_prev_config (map@10=0.4047675736961451): {'batch_size': 7, 'embedding_dim': 184, 'conv_layers': 4, 'learning_rate': 0.052000000000000005, 'l2': 8.434417860806083e-05, 'window_size': '30d', 'fold': '2021-11-11T00:00:00'}\nAlso evaluating best_prev_config (map@10=0.4388888888888889): {'batch_size': 8, 'embedding_dim': 32, 'conv_layers': 4, 'learning_rate': 0.015000000000000001, 'l2': 1.242023640083893e-06, 'window_size': '10YE', 'fold': '2021-11-18T00:00:00'}\nAlso evaluating best_prev_config (map@10=0.7857142857142857): {'batch_size': 6, 'embedding_dim': 53, 'conv_layers': 2, 'learning_rate': 0.0079, 'l2': 3.503044014321727e-07, 'window_size': '60d', 'fold': '2021-11-25T00:00:00'}\nAlso evaluating best_prev_config (map@10=0.7777777777777778): {'batch_size': 9, 'embedding_dim': 604, 'conv_layers': 2, 'learning_rate': 0.0161, 'l2': 1.838751035999847e-05, 'window_size': '30d', 'fold': '2021-12-02T00:00:00'}\nAlso evaluating best_prev_config (map@10=0.6674242424242425): {'batch_size': 7, 'embedding_dim': 25, 'conv_layers': 2, 'learning_rate': 0.0001, 'l2': 1.0126829400831678e-07, 'window_size': '30d', 'fold': '2021-12-09T00:00:00'}\nAlso evaluating best_prev_config (map@10=0.9166666666666666): {'batch_size': 10, 'embedding_dim': 5, 'conv_layers': 1, 'learning_rate': 0.006500000000000001, 'l2': 2.498594213780349e-06, 'window_size': '21d', 'fold': '2021-12-16T00:00:00'}\nAlso evaluating best_prev_config (map@10=0.6537037037037038): {'batch_size': 9, 'embedding_dim': 665, 'conv_layers': 3, 'learning_rate': 0.0092, 'l2': 2.7445636362385535e-05, 'window_size': '90d', 'fold': '2021-12-23T00:00:00'}\nAlso evaluating best_prev_config (map@10=0.8339002267573695): {'batch_size': 6, 'embedding_dim': 58, 'conv_layers': 1, 'learning_rate': 0.0431, 'l2': 0.004751812875985562, 'window_size': '10YE', 'fold': '2021-12-30T00:00:00'}\nAlso evaluating best_prev_config (map@10=1.0): {'batch_size': 6, 'embedding_dim': 2, 'conv_layers': 2, 'learning_rate': 0.0213, 'l2': 0.005936206207427056, 'window_size': '10YE', 'fold': '2022-01-06T00:00:00'}\n"
        }
       ],
       "tabbable": null,
       "tooltip": null
      }
     },
     "c97af72798ce488ba346fe2b3a19c3f9": {
      "model_module": "@jupyter-widgets/base",
      "model_module_version": "2.0.0",
      "model_name": "LayoutModel",
      "state": {
       "_model_module": "@jupyter-widgets/base",
       "_model_module_version": "2.0.0",
       "_model_name": "LayoutModel",
       "_view_count": null,
       "_view_module": "@jupyter-widgets/base",
       "_view_module_version": "2.0.0",
       "_view_name": "LayoutView",
       "align_content": null,
       "align_items": null,
       "align_self": null,
       "border_bottom": null,
       "border_left": null,
       "border_right": null,
       "border_top": null,
       "bottom": null,
       "display": null,
       "flex": null,
       "flex_flow": null,
       "grid_area": null,
       "grid_auto_columns": null,
       "grid_auto_flow": null,
       "grid_auto_rows": null,
       "grid_column": null,
       "grid_gap": null,
       "grid_row": null,
       "grid_template_areas": null,
       "grid_template_columns": null,
       "grid_template_rows": null,
       "height": null,
       "justify_content": null,
       "justify_items": null,
       "left": null,
       "margin": null,
       "max_height": null,
       "max_width": null,
       "min_height": null,
       "min_width": null,
       "object_fit": null,
       "object_position": null,
       "order": null,
       "overflow": null,
       "padding": null,
       "right": null,
       "top": null,
       "visibility": null,
       "width": null
      }
     },
     "f315e759b90c43d1afef9950684709f7": {
      "model_module": "@jupyter-widgets/controls",
      "model_module_version": "2.0.0",
      "model_name": "HTMLModel",
      "state": {
       "_dom_classes": [],
       "_model_module": "@jupyter-widgets/controls",
       "_model_module_version": "2.0.0",
       "_model_name": "HTMLModel",
       "_view_count": null,
       "_view_module": "@jupyter-widgets/controls",
       "_view_module_version": "2.0.0",
       "_view_name": "HTMLView",
       "description": "",
       "description_allow_html": false,
       "layout": "IPY_MODEL_c97af72798ce488ba346fe2b3a19c3f9",
       "placeholder": "​",
       "style": "IPY_MODEL_499b4c7dc6e345a2964c448ce279cf2b",
       "tabbable": null,
       "tooltip": null,
       "value": "fold: 100%"
      }
     }
    },
    "version_major": 2,
    "version_minor": 0
   }
  }
 },
 "nbformat": 4,
 "nbformat_minor": 5
}