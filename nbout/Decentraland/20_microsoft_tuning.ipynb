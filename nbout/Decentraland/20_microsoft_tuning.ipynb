{
 "cells": [
  {
   "cell_type": "code",
   "execution_count": 1,
   "id": "e47dfaba",
   "metadata": {
    "editable": true,
    "papermill": {
     "duration": 2.848748,
     "end_time": "2024-09-04T17:15:47.800336",
     "exception": false,
     "start_time": "2024-09-04T17:15:44.951588",
     "status": "completed"
    },
    "slideshow": {
     "slide_type": ""
    },
    "tags": []
   },
   "outputs": [
    {
     "name": "stdout",
     "output_type": "stream",
     "text": [
      "/home/daviddavo/recsys4daos/notebooks\n"
     ]
    },
    {
     "name": "stderr",
     "output_type": "stream",
     "text": [
      "/home/daviddavo/recsys4daos/.direnv/python-3.11/lib/python3.11/site-packages/IPython/core/magics/osm.py:417: UserWarning: This is now an optional IPython functionality, setting dhist requires you to install the `pickleshare` library.\n",
      "  self.shell.db['dhist'] = compress_dhist(dhist)[-100:]\n",
      "/tmp/ipykernel_3793255/2796633904.py:12: TqdmExperimentalWarning: Using `tqdm.autonotebook.tqdm` in notebook mode. Use `tqdm.tqdm` instead to force console mode (e.g. in jupyter console)\n",
      "  from tqdm.autonotebook import tqdm\n"
     ]
    },
    {
     "name": "stdout",
     "output_type": "stream",
     "text": [
      "Ignoring warnings\n",
      "3.11.6 (main, Jun 24 2024, 07:45:26) [GCC 11.4.0]\n",
      "recommenders: 1.2.0\n",
      "ray: 2.30.0\n",
      "tensorflow: 2.16.1\n"
     ]
    }
   ],
   "source": [
    "%cd ../../notebooks\n",
    "from typing import List, Dict, Any\n",
    "\n",
    "from pathlib import Path\n",
    "import os, sys\n",
    "import time\n",
    "import datetime as dt\n",
    "import itertools as it\n",
    "\n",
    "import numpy as np\n",
    "import pandas as pd\n",
    "from tqdm.autonotebook import tqdm\n",
    "import ray\n",
    "from ray import train, tune\n",
    "import ipywidgets as widgets\n",
    "\n",
    "from recsys4daos.model_selection import cvtt_open\n",
    "from recsys4daos.datasets import to_microsoft, filter_window_size\n",
    "from recsys4daos.models import LightGCNCustom\n",
    "from recsys4daos.utils import Timer\n",
    "import recsys4daos.utils.notebooks as nbu\n",
    "\n",
    "import recommenders\n",
    "if recommenders.__version__ == '1.2.0':\n",
    "    print(\"Ignoring warnings\")\n",
    "    import warnings\n",
    "    warnings.simplefilter(action='ignore', category=FutureWarning)\n",
    "\n",
    "import paths\n",
    "\n",
    "nbu.print_versions('ray', 'tensorflow')\n",
    "\n",
    "%load_ext autoreload\n",
    "%autoreload 2"
   ]
  },
  {
   "cell_type": "code",
   "execution_count": 2,
   "id": "db204098",
   "metadata": {
    "editable": true,
    "papermill": {
     "duration": 0.025596,
     "end_time": "2024-09-04T17:15:47.828795",
     "exception": false,
     "start_time": "2024-09-04T17:15:47.803199",
     "status": "completed"
    },
    "slideshow": {
     "slide_type": ""
    },
    "tags": [
     "parameters"
    ]
   },
   "outputs": [],
   "source": [
    "# Others config\n",
    "SEED: int = 57\n",
    "RAY_RESULTS_PATH: Path = '~/ray_results3.11'\n",
    "\n",
    "# Dataset splits config\n",
    "ORG_NAME = 'Decentraland'\n",
    "SPLITS_FREQ = 'W-THU'  # Split weekly\n",
    "LAST_FOLDS = 10  # Use just last 10 splits\n",
    "SPLITS_NORMALIZE = True\n",
    "LAST_FOLD_DATE_STR: str = '2023-07-13'\n",
    "\n",
    "# Training config\n",
    "MAX_EPOCHS: int = 200\n",
    "EPOCHS_PER_ITER: int = 5\n",
    "SAMPLES_PER_SPLIT: int = 100\n",
    "MAX_TIME_TOTAL_TRAIN: int = 300\n",
    "OPTIM_METRIC: str = 'map@10'\n",
    "\n",
    "# Search space config\n",
    "MAX_EMBEDDING_DIM = 1024\n",
    "MIN_BATCH_SIZE = 6\n",
    "MAX_BATCH_SIZE = 10 # 2**10\n",
    "MIN_LR = 1e-4\n",
    "# WINDOW_SIZES = ['7d', '14d', '21d', '30d', '60d', '90d', '10YE']\n",
    "WINDOW_SIZES = ['21d', '30d', '60d', '90d', '10YE']\n",
    "GPUS = 16\n",
    "\n",
    "# Eval config\n",
    "K_RECOMMENDATIONS: List[int] = [1,3,5,10,15,100]\n",
    "METRICS: List[str] = [\"recall\", \"ndcg\", \"precision\", \"map\"]"
   ]
  },
  {
   "cell_type": "code",
   "execution_count": 3,
   "id": "f464affa",
   "metadata": {
    "papermill": {
     "duration": 0.021835,
     "end_time": "2024-09-04T17:15:47.852986",
     "exception": false,
     "start_time": "2024-09-04T17:15:47.831151",
     "status": "completed"
    },
    "tags": [
     "injected-parameters"
    ]
   },
   "outputs": [],
   "source": [
    "# Parameters\n",
    "EXECUTION_ID = \"2024-09-04T10:00\"\n",
    "ORG_NAME = \"Decentraland\"\n",
    "SPLITS_FREQ = \"W-THU\"\n",
    "LAST_FOLDS = 10\n",
    "SPLITS_NORMALIZE = True\n",
    "LAST_FOLD_DATE_STR = \"2023-07-13\"\n"
   ]
  },
  {
   "cell_type": "code",
   "execution_count": 4,
   "id": "0ab731da",
   "metadata": {
    "papermill": {
     "duration": 0.020644,
     "end_time": "2024-09-04T17:15:47.875914",
     "exception": false,
     "start_time": "2024-09-04T17:15:47.855270",
     "status": "completed"
    },
    "tags": []
   },
   "outputs": [],
   "source": [
    "RAY_RESULTS_PATH = Path(RAY_RESULTS_PATH).expanduser()"
   ]
  },
  {
   "cell_type": "markdown",
   "id": "b5fe2a17",
   "metadata": {
    "papermill": {
     "duration": 0.002295,
     "end_time": "2024-09-04T17:15:47.880516",
     "exception": false,
     "start_time": "2024-09-04T17:15:47.878221",
     "status": "completed"
    },
    "tags": []
   },
   "source": [
    "## Obtain dataset"
   ]
  },
  {
   "cell_type": "code",
   "execution_count": 5,
   "id": "f92c07ec",
   "metadata": {
    "papermill": {
     "duration": 0.154984,
     "end_time": "2024-09-04T17:15:48.037616",
     "exception": false,
     "start_time": "2024-09-04T17:15:47.882632",
     "status": "completed"
    },
    "tags": []
   },
   "outputs": [
    {
     "name": "stdout",
     "output_type": "stream",
     "text": [
      "/home/daviddavo/recsys4daos/notebooks\n"
     ]
    }
   ],
   "source": [
    "!pwd"
   ]
  },
  {
   "cell_type": "code",
   "execution_count": 6,
   "id": "0c898913",
   "metadata": {
    "papermill": {
     "duration": 0.11847,
     "end_time": "2024-09-04T17:15:48.166424",
     "exception": false,
     "start_time": "2024-09-04T17:15:48.047954",
     "status": "completed"
    },
    "tags": []
   },
   "outputs": [
    {
     "name": "stdout",
     "output_type": "stream",
     "text": [
      "<class 'pandas.core.frame.DataFrame'>\n",
      "RangeIndex: 2213 entries, 0 to 2212\n",
      "Data columns (total 6 columns):\n",
      " #   Column             Non-Null Count  Dtype         \n",
      "---  ------             --------------  -----         \n",
      " 0   id                 2213 non-null   object        \n",
      " 1   author             2213 non-null   object        \n",
      " 2   date               2213 non-null   datetime64[us]\n",
      " 3   start              2213 non-null   datetime64[us]\n",
      " 4   end                2213 non-null   datetime64[us]\n",
      " 5   platform_proposal  2213 non-null   object        \n",
      "dtypes: datetime64[us](3), object(3)\n",
      "memory usage: 103.9+ KB\n",
      "None\n",
      "<class 'pandas.core.frame.DataFrame'>\n",
      "RangeIndex: 116560 entries, 0 to 116559\n",
      "Data columns (total 4 columns):\n",
      " #   Column    Non-Null Count   Dtype         \n",
      "---  ------    --------------   -----         \n",
      " 0   id        116560 non-null  object        \n",
      " 1   proposal  116560 non-null  object        \n",
      " 2   voter     116560 non-null  object        \n",
      " 3   date      116560 non-null  datetime64[us]\n",
      "dtypes: datetime64[us](1), object(3)\n",
      "memory usage: 3.6+ MB\n",
      "None\n"
     ]
    }
   ],
   "source": [
    "dfp = paths.load_proposals(ORG_NAME)\n",
    "dfv = paths.load_votes(ORG_NAME)\n",
    "\n",
    "print(dfp.info())\n",
    "print(dfv.info())"
   ]
  },
  {
   "cell_type": "markdown",
   "id": "4b29a274",
   "metadata": {
    "papermill": {
     "duration": 0.002738,
     "end_time": "2024-09-04T17:15:48.171763",
     "exception": false,
     "start_time": "2024-09-04T17:15:48.169025",
     "status": "completed"
    },
    "tags": []
   },
   "source": [
    "## Split data"
   ]
  },
  {
   "cell_type": "code",
   "execution_count": 7,
   "id": "eddf6831",
   "metadata": {
    "papermill": {
     "duration": 0.038707,
     "end_time": "2024-09-04T17:15:48.213054",
     "exception": false,
     "start_time": "2024-09-04T17:15:48.174347",
     "status": "completed"
    },
    "tags": []
   },
   "outputs": [
    {
     "data": {
      "text/html": [
       "<div>\n",
       "<style scoped>\n",
       "    .dataframe tbody tr th:only-of-type {\n",
       "        vertical-align: middle;\n",
       "    }\n",
       "\n",
       "    .dataframe tbody tr th {\n",
       "        vertical-align: top;\n",
       "    }\n",
       "\n",
       "    .dataframe thead th {\n",
       "        text-align: right;\n",
       "    }\n",
       "</style>\n",
       "<table border=\"1\" class=\"dataframe\">\n",
       "  <thead>\n",
       "    <tr style=\"text-align: right;\">\n",
       "      <th></th>\n",
       "      <th>userID</th>\n",
       "      <th>itemID</th>\n",
       "      <th>timestamp</th>\n",
       "      <th>rating</th>\n",
       "    </tr>\n",
       "  </thead>\n",
       "  <tbody>\n",
       "    <tr>\n",
       "      <th>0</th>\n",
       "      <td>0x30b1f4bd5476906f38385b891f2c09973196b742</td>\n",
       "      <td>312c5654-0806-5473-8243-dbd6311208ed</td>\n",
       "      <td>2021-05-24 15:29:29</td>\n",
       "      <td>1</td>\n",
       "    </tr>\n",
       "    <tr>\n",
       "      <th>1</th>\n",
       "      <td>0x30b1f4bd5476906f38385b891f2c09973196b742</td>\n",
       "      <td>f6bd4c7d-0d1e-5437-9cf9-e5e883522d3f</td>\n",
       "      <td>2021-05-24 15:30:54</td>\n",
       "      <td>1</td>\n",
       "    </tr>\n",
       "    <tr>\n",
       "      <th>2</th>\n",
       "      <td>0xd689478d44a438798ee0dc07657cce2135c0aef7</td>\n",
       "      <td>2dc28092-bb92-5c3f-8837-f8ed570d1a20</td>\n",
       "      <td>2021-05-24 15:38:54</td>\n",
       "      <td>1</td>\n",
       "    </tr>\n",
       "    <tr>\n",
       "      <th>3</th>\n",
       "      <td>0x862f109696d7121438642a78b3caa38f476db08b</td>\n",
       "      <td>2dc28092-bb92-5c3f-8837-f8ed570d1a20</td>\n",
       "      <td>2021-05-24 15:41:31</td>\n",
       "      <td>1</td>\n",
       "    </tr>\n",
       "    <tr>\n",
       "      <th>4</th>\n",
       "      <td>0x862f109696d7121438642a78b3caa38f476db08b</td>\n",
       "      <td>94c28bf3-501e-5925-98a3-b4ddbed07abf</td>\n",
       "      <td>2021-05-24 15:50:36</td>\n",
       "      <td>1</td>\n",
       "    </tr>\n",
       "    <tr>\n",
       "      <th>...</th>\n",
       "      <td>...</td>\n",
       "      <td>...</td>\n",
       "      <td>...</td>\n",
       "      <td>...</td>\n",
       "    </tr>\n",
       "    <tr>\n",
       "      <th>116555</th>\n",
       "      <td>0x28bf51f47e903925c00a03264c7e7a0576785600</td>\n",
       "      <td>e5fcfaed-fd89-547f-aba0-b682b2114a4b</td>\n",
       "      <td>2023-07-19 16:19:59</td>\n",
       "      <td>1</td>\n",
       "    </tr>\n",
       "    <tr>\n",
       "      <th>116556</th>\n",
       "      <td>0xdcd35e70c43c6f86c663a1919259cd9e818d9865</td>\n",
       "      <td>f41ed318-2f75-5a16-a798-6623e99fb55a</td>\n",
       "      <td>2023-07-19 17:54:31</td>\n",
       "      <td>1</td>\n",
       "    </tr>\n",
       "    <tr>\n",
       "      <th>116557</th>\n",
       "      <td>0x598f8af1565003ae7456dac280a18ee826df7a2c</td>\n",
       "      <td>858339c3-6902-52c5-ab98-bb5985327cbd</td>\n",
       "      <td>2023-07-19 17:57:35</td>\n",
       "      <td>1</td>\n",
       "    </tr>\n",
       "    <tr>\n",
       "      <th>116558</th>\n",
       "      <td>0x059d0025e4e1bb1a37f2c922e54b139bc1231ee0</td>\n",
       "      <td>f41ed318-2f75-5a16-a798-6623e99fb55a</td>\n",
       "      <td>2023-07-20 00:56:09</td>\n",
       "      <td>1</td>\n",
       "    </tr>\n",
       "    <tr>\n",
       "      <th>116559</th>\n",
       "      <td>0x8d5237037a590a2db531f3cfb8f42605cf306f34</td>\n",
       "      <td>e5fcfaed-fd89-547f-aba0-b682b2114a4b</td>\n",
       "      <td>2023-07-20 15:42:01</td>\n",
       "      <td>1</td>\n",
       "    </tr>\n",
       "  </tbody>\n",
       "</table>\n",
       "<p>116560 rows × 4 columns</p>\n",
       "</div>"
      ],
      "text/plain": [
       "                                            userID  \\\n",
       "0       0x30b1f4bd5476906f38385b891f2c09973196b742   \n",
       "1       0x30b1f4bd5476906f38385b891f2c09973196b742   \n",
       "2       0xd689478d44a438798ee0dc07657cce2135c0aef7   \n",
       "3       0x862f109696d7121438642a78b3caa38f476db08b   \n",
       "4       0x862f109696d7121438642a78b3caa38f476db08b   \n",
       "...                                            ...   \n",
       "116555  0x28bf51f47e903925c00a03264c7e7a0576785600   \n",
       "116556  0xdcd35e70c43c6f86c663a1919259cd9e818d9865   \n",
       "116557  0x598f8af1565003ae7456dac280a18ee826df7a2c   \n",
       "116558  0x059d0025e4e1bb1a37f2c922e54b139bc1231ee0   \n",
       "116559  0x8d5237037a590a2db531f3cfb8f42605cf306f34   \n",
       "\n",
       "                                      itemID           timestamp  rating  \n",
       "0       312c5654-0806-5473-8243-dbd6311208ed 2021-05-24 15:29:29       1  \n",
       "1       f6bd4c7d-0d1e-5437-9cf9-e5e883522d3f 2021-05-24 15:30:54       1  \n",
       "2       2dc28092-bb92-5c3f-8837-f8ed570d1a20 2021-05-24 15:38:54       1  \n",
       "3       2dc28092-bb92-5c3f-8837-f8ed570d1a20 2021-05-24 15:41:31       1  \n",
       "4       94c28bf3-501e-5925-98a3-b4ddbed07abf 2021-05-24 15:50:36       1  \n",
       "...                                      ...                 ...     ...  \n",
       "116555  e5fcfaed-fd89-547f-aba0-b682b2114a4b 2023-07-19 16:19:59       1  \n",
       "116556  f41ed318-2f75-5a16-a798-6623e99fb55a 2023-07-19 17:54:31       1  \n",
       "116557  858339c3-6902-52c5-ab98-bb5985327cbd 2023-07-19 17:57:35       1  \n",
       "116558  f41ed318-2f75-5a16-a798-6623e99fb55a 2023-07-20 00:56:09       1  \n",
       "116559  e5fcfaed-fd89-547f-aba0-b682b2114a4b 2023-07-20 15:42:01       1  \n",
       "\n",
       "[116560 rows x 4 columns]"
      ]
     },
     "execution_count": 7,
     "metadata": {},
     "output_type": "execute_result"
    }
   ],
   "source": [
    "df = to_microsoft(dfv)\n",
    "df"
   ]
  },
  {
   "cell_type": "code",
   "execution_count": 8,
   "id": "5c80048c",
   "metadata": {
    "editable": true,
    "papermill": {
     "duration": 2.53684,
     "end_time": "2024-09-04T17:15:50.752607",
     "exception": false,
     "start_time": "2024-09-04T17:15:48.215767",
     "status": "completed"
    },
    "slideshow": {
     "slide_type": ""
    },
    "tags": []
   },
   "outputs": [
    {
     "name": "stdout",
     "output_type": "stream",
     "text": [
      "112 folds\n",
      "Using 10 folds, from 2023-05-11T00:00:00 to 2023-07-13T00:00:00\n"
     ]
    }
   ],
   "source": [
    "# USE INTEGER INDEX\n",
    "# folds_dict = list(cvtt_open(df, SPLITS_FREQ, dfp, remove_not_in_train_col='userID'))\n",
    "# use_folds_idx = range(len(folds_dict))[-LAST_FOLDS:]\n",
    "\n",
    "# USE TIMESTAMP INDEX\n",
    "# Note: NO need to used OrderedDict, dict is ordered since Python 3.6\n",
    "folds_dict = { f.end.isoformat():f for f in cvtt_open(df, SPLITS_FREQ, dfp, remove_not_in_train_col='userID', last_fold=LAST_FOLD_DATE_STR) }\n",
    "use_folds_idx = list(folds_dict.keys())[-LAST_FOLDS:]\n",
    "\n",
    "print(len(folds_dict), \"folds\")\n",
    "print(\"Using\", len(use_folds_idx), \"folds, from\", use_folds_idx[0], \"to\", use_folds_idx[-1])"
   ]
  },
  {
   "cell_type": "markdown",
   "id": "372a247f",
   "metadata": {
    "papermill": {
     "duration": 0.002924,
     "end_time": "2024-09-04T17:15:50.758665",
     "exception": false,
     "start_time": "2024-09-04T17:15:50.755741",
     "status": "completed"
    },
    "tags": []
   },
   "source": [
    "## Making some checks"
   ]
  },
  {
   "cell_type": "markdown",
   "id": "cd7ed1cb",
   "metadata": {
    "papermill": {
     "duration": 0.002471,
     "end_time": "2024-09-04T17:15:50.763631",
     "exception": false,
     "start_time": "2024-09-04T17:15:50.761160",
     "status": "completed"
    },
    "tags": []
   },
   "source": [
    "### Checking that all the folds have open proposals"
   ]
  },
  {
   "cell_type": "code",
   "execution_count": 9,
   "id": "2055478c",
   "metadata": {
    "papermill": {
     "duration": 0.025389,
     "end_time": "2024-09-04T17:15:50.791535",
     "exception": false,
     "start_time": "2024-09-04T17:15:50.766146",
     "status": "completed"
    },
    "tags": []
   },
   "outputs": [],
   "source": [
    "_nok_folds = []\n",
    "for idx in use_folds_idx:\n",
    "    if len(folds_dict[idx].open_proposals) == 0:\n",
    "        _nok_folds.append(idx)\n",
    "\n",
    "if _nok_folds:\n",
    "    raise ValueError(f\"Folds {', '.join(_nok_folds)} don't have any open proposals\")"
   ]
  },
  {
   "cell_type": "markdown",
   "id": "ef2fe806",
   "metadata": {
    "papermill": {
     "duration": 0.002662,
     "end_time": "2024-09-04T17:15:50.796747",
     "exception": false,
     "start_time": "2024-09-04T17:15:50.794085",
     "status": "completed"
    },
    "tags": []
   },
   "source": [
    "### Checking correct hparams"
   ]
  },
  {
   "cell_type": "code",
   "execution_count": 10,
   "id": "5adc0840",
   "metadata": {
    "papermill": {
     "duration": 0.054812,
     "end_time": "2024-09-04T17:15:50.854029",
     "exception": false,
     "start_time": "2024-09-04T17:15:50.799217",
     "status": "completed"
    },
    "tags": []
   },
   "outputs": [
    {
     "name": "stdout",
     "output_type": "stream",
     "text": [
      "All folds ok!\n"
     ]
    },
    {
     "name": "stderr",
     "output_type": "stream",
     "text": [
      "On fold 2023-05-11T00:00:00 WINDOW_SIZE should be at least 60d: 1361 > 1024\n",
      "On fold 2023-05-18T00:00:00 WINDOW_SIZE should be at least 60d: 1322 > 1024\n",
      "On fold 2023-05-25T00:00:00 WINDOW_SIZE should be at least 60d: 1232 > 1024\n",
      "On fold 2023-06-01T00:00:00 WINDOW_SIZE should be at least 60d: 1157 > 1024\n",
      "On fold 2023-06-08T00:00:00 WINDOW_SIZE should be at least 60d: 1049 > 1024\n",
      "On fold 2023-06-15T00:00:00 WINDOW_SIZE should be at least 90d: 1460 > 1024\n",
      "On fold 2023-06-22T00:00:00 WINDOW_SIZE should be at least 90d: 1387 > 1024\n",
      "On fold 2023-06-29T00:00:00 WINDOW_SIZE should be at least 90d: 1377 > 1024\n",
      "On fold 2023-07-06T00:00:00 WINDOW_SIZE should be at least 90d: 1433 > 1024\n",
      "On fold 2023-07-13T00:00:00 WINDOW_SIZE should be at least 60d: 1095 > 1024\n"
     ]
    }
   ],
   "source": [
    "now = dt.datetime.now()\n",
    "max_bs = 2**MAX_BATCH_SIZE\n",
    "\n",
    "all_ok = True\n",
    "for idx in use_folds_idx:\n",
    "    valid_ws = WINDOW_SIZES[0]\n",
    "    for ws in sorted(WINDOW_SIZES, key=lambda ws: now + pd.tseries.frequencies.to_offset(ws)):\n",
    "        nusers = filter_window_size(folds_dict[idx].train, folds_dict[idx].end, ws)['userID'].nunique()\n",
    "        if nusers > max_bs:\n",
    "            print(f'On fold {idx} WINDOW_SIZE should be at least {ws}: {nusers} > {max_bs}', file=sys.stderr)\n",
    "            break\n",
    "\n",
    "print(\"All folds ok!\")"
   ]
  },
  {
   "cell_type": "markdown",
   "id": "bc31db6b",
   "metadata": {
    "editable": true,
    "papermill": {
     "duration": 0.002875,
     "end_time": "2024-09-04T17:15:50.860184",
     "exception": false,
     "start_time": "2024-09-04T17:15:50.857309",
     "status": "completed"
    },
    "slideshow": {
     "slide_type": ""
    },
    "tags": []
   },
   "source": [
    "## Testing model"
   ]
  },
  {
   "cell_type": "code",
   "execution_count": 11,
   "id": "0365a497",
   "metadata": {
    "papermill": {
     "duration": 0.025441,
     "end_time": "2024-09-04T17:15:50.888272",
     "exception": false,
     "start_time": "2024-09-04T17:15:50.862831",
     "status": "completed"
    },
    "tags": []
   },
   "outputs": [],
   "source": [
    "from recommenders.models.deeprec.DataModel.ImplicitCF import ImplicitCF\n",
    "from recommenders.models.deeprec.deeprec_utils import prepare_hparams"
   ]
  },
  {
   "cell_type": "code",
   "execution_count": 12,
   "id": "899f6451",
   "metadata": {
    "editable": true,
    "papermill": {
     "duration": 0.023917,
     "end_time": "2024-09-04T17:15:50.914859",
     "exception": false,
     "start_time": "2024-09-04T17:15:50.890942",
     "status": "completed"
    },
    "slideshow": {
     "slide_type": ""
    },
    "tags": []
   },
   "outputs": [],
   "source": [
    "# hparams = prepare_hparams(\n",
    "#     model_type='lightgcn',\n",
    "#     n_layers=3,\n",
    "#     batch_size=512,\n",
    "#     embed_size=64,\n",
    "#     epochs=2,\n",
    "#     learning_rate=0.001,\n",
    "#     decay=0.001,\n",
    "#     metrics=[\"recall\", \"ndcg\", \"precision\", \"map\"],\n",
    "#     eval_epoch=2,\n",
    "#     top_k=K_RECOMMENDATIONS[0],\n",
    "#     save_model=False,\n",
    "#     MODEL_DIR='./data/model/lightgcn/',\n",
    "# )\n",
    "# dataloader = ImplicitCF(train=folds_dict[use_folds_idx[0]].train, test=folds_dict[use_folds_idx[0]].test, seed=SEED)\n",
    "# print(\"items:\", dataloader.n_items, \"user:\", dataloader.n_users)\n",
    "# model = LightGCNCustom(data=dataloader, hparams=hparams)"
   ]
  },
  {
   "cell_type": "code",
   "execution_count": 13,
   "id": "4d481b16",
   "metadata": {
    "papermill": {
     "duration": 0.023202,
     "end_time": "2024-09-04T17:15:50.940868",
     "exception": false,
     "start_time": "2024-09-04T17:15:50.917666",
     "status": "completed"
    },
    "tags": []
   },
   "outputs": [],
   "source": [
    "# model.fit()\n",
    "# model.run_eval()"
   ]
  },
  {
   "cell_type": "code",
   "execution_count": 14,
   "id": "01240ea3",
   "metadata": {
    "editable": true,
    "papermill": {
     "duration": 0.022219,
     "end_time": "2024-09-04T17:15:50.965845",
     "exception": false,
     "start_time": "2024-09-04T17:15:50.943626",
     "status": "completed"
    },
    "slideshow": {
     "slide_type": ""
    },
    "tags": []
   },
   "outputs": [],
   "source": [
    "# model.recommend_k_items(\n",
    "#     dataloader.test, \n",
    "#     top_k=3, \n",
    "#     use_id=True, \n",
    "#     remove_seen=True, \n",
    "#     recommend_from=folds_dict[use_folds_idx[0]].open_proposals\n",
    "# )"
   ]
  },
  {
   "cell_type": "markdown",
   "id": "ce20726e",
   "metadata": {
    "papermill": {
     "duration": 0.002785,
     "end_time": "2024-09-04T17:15:50.971531",
     "exception": false,
     "start_time": "2024-09-04T17:15:50.968746",
     "status": "completed"
    },
    "tags": []
   },
   "source": [
    "## Defining trainable"
   ]
  },
  {
   "cell_type": "code",
   "execution_count": 15,
   "id": "13f5ae24",
   "metadata": {
    "papermill": {
     "duration": 0.021695,
     "end_time": "2024-09-04T17:15:50.995940",
     "exception": false,
     "start_time": "2024-09-04T17:15:50.974245",
     "status": "completed"
    },
    "tags": []
   },
   "outputs": [],
   "source": [
    "from recsys4daos.evaluation import calculate_all_metrics"
   ]
  },
  {
   "cell_type": "code",
   "execution_count": 16,
   "id": "9c698059",
   "metadata": {
    "editable": true,
    "papermill": {
     "duration": 0.024394,
     "end_time": "2024-09-04T17:15:51.022909",
     "exception": false,
     "start_time": "2024-09-04T17:15:50.998515",
     "status": "completed"
    },
    "slideshow": {
     "slide_type": ""
    },
    "tags": []
   },
   "outputs": [],
   "source": [
    "class TrainLightGCN(tune.Trainable):\n",
    "    def setup(\n",
    "        self,\n",
    "        config: Dict[str, Any],\n",
    "        data,\n",
    "    ):\n",
    "        self.config = config\n",
    "        train, test, self.t, self.open_proposals = data\n",
    "        train_filtered = filter_window_size(train, self.t, config['window_size'])\n",
    "        self.dataloader = ImplicitCF(train=train_filtered, test=test, seed=SEED)\n",
    "        # Some experiments will run multiple times, but that's a price to pay for\n",
    "        # usability\n",
    "        self.real_batch_size = min(2**config['batch_size'], self.dataloader.n_users_in_train)\n",
    "\n",
    "        self.hparams = prepare_hparams(\n",
    "            model_type='lightgcn',\n",
    "            n_layers=config['conv_layers'],\n",
    "            batch_size=self.real_batch_size,\n",
    "            embed_size=config['embedding_dim'],\n",
    "            epochs=EPOCHS_PER_ITER,\n",
    "            learning_rate=config['learning_rate'],\n",
    "            decay=config['l2'],\n",
    "            metrics=METRICS,\n",
    "            eval_epoch=-1,\n",
    "            top_k=K_RECOMMENDATIONS[0],\n",
    "            save_model=False,\n",
    "            MODEL_DIR='./data/model/lightgcn/',\n",
    "        )\n",
    "        self.model = LightGCNCustom(self.hparams, self.dataloader, seed=SEED)\n",
    "        self.total_train = 0\n",
    "        self.total_eval = 0\n",
    "\n",
    "    @property\n",
    "    def iteration(self):\n",
    "        return self.model.epochs_done\n",
    "\n",
    "    @property\n",
    "    def training_iteration(self):\n",
    "        return self.model.epochs_done\n",
    "\n",
    "    def step(self):\n",
    "        \"\"\"\n",
    "        As a rule of thumb, the execution time of step should be large enough to avoid overheads \n",
    "        (i.e. more than a few seconds), but short enough to report progress periodically \n",
    "        (i.e. at most a few minutes).\n",
    "        \"\"\"\n",
    "        assert EPOCHS_PER_ITER > 0\n",
    "\n",
    "        with Timer() as t_train:\n",
    "            for _ in range(EPOCHS_PER_ITER):\n",
    "                ret = self.model.fit_epoch()\n",
    "\n",
    "\n",
    "        with Timer() as t_rec:\n",
    "            recs = self.model.recommend_k_items(\n",
    "                self.dataloader.test, # Used only to get user ids\n",
    "                top_k=max(K_RECOMMENDATIONS),\n",
    "                use_id=True,\n",
    "                remove_seen=True,\n",
    "                recommend_from=self.open_proposals,\n",
    "            )\n",
    "        \n",
    "        eval_dict = {'model_'+k:v for k,v in zip(self.model.metrics, self.model.run_eval())}\n",
    "        eval_dict |= calculate_all_metrics(self.dataloader.test, recs, K_RECOMMENDATIONS)\n",
    "\n",
    "        self.total_train += t_train.time\n",
    "        self.total_eval += eval_dict['time_eval']\n",
    "        \n",
    "        return {\n",
    "            'real_batch_size': self.real_batch_size,\n",
    "            'iteration': self.iteration,\n",
    "            'loss': ret[0],\n",
    "            'mf_loss': ret[1],\n",
    "            'emb_loss': ret[2],\n",
    "            **eval_dict,\n",
    "            'time_train': t_train.time,\n",
    "            'time_rec': t_rec.time,\n",
    "            'time_total_train': self.total_train,\n",
    "            'time_total_test': self.total_eval,\n",
    "        }\n",
    "\n",
    "    def save_checkpoint(self, checkpoint_dir):\n",
    "        checkpoint_path = os.path.join(checkpoint_dir, \"model\")\n",
    "        self.model.saver.save(\n",
    "            sess=self.model.sess,\n",
    "            save_path=checkpoint_path,\n",
    "        )\n",
    "        return checkpoint_dir\n",
    "\n",
    "    def load_checkpoint(self, checkpoint_path):\n",
    "        self.model.load(checkpoint_path)"
   ]
  },
  {
   "cell_type": "markdown",
   "id": "e9a1d112",
   "metadata": {
    "editable": true,
    "papermill": {
     "duration": 0.00262,
     "end_time": "2024-09-04T17:15:51.028297",
     "exception": false,
     "start_time": "2024-09-04T17:15:51.025677",
     "status": "completed"
    },
    "slideshow": {
     "slide_type": ""
    },
    "tags": []
   },
   "source": [
    "## Big experiment"
   ]
  },
  {
   "cell_type": "code",
   "execution_count": 17,
   "id": "aaa96436",
   "metadata": {
    "editable": true,
    "papermill": {
     "duration": 0.021096,
     "end_time": "2024-09-04T17:15:51.052091",
     "exception": false,
     "start_time": "2024-09-04T17:15:51.030995",
     "status": "completed"
    },
    "slideshow": {
     "slide_type": ""
    },
    "tags": []
   },
   "outputs": [
    {
     "data": {
      "text/plain": [
       "PosixPath('/home/daviddavo/ray_results3.11')"
      ]
     },
     "execution_count": 17,
     "metadata": {},
     "output_type": "execute_result"
    }
   ],
   "source": [
    "RAY_RESULTS_PATH"
   ]
  },
  {
   "cell_type": "code",
   "execution_count": 18,
   "id": "8d4aa581",
   "metadata": {
    "editable": true,
    "papermill": {
     "duration": 0.021127,
     "end_time": "2024-09-04T17:15:51.075927",
     "exception": false,
     "start_time": "2024-09-04T17:15:51.054800",
     "status": "completed"
    },
    "slideshow": {
     "slide_type": ""
    },
    "tags": []
   },
   "outputs": [
    {
     "name": "stdout",
     "output_type": "stream",
     "text": [
      "lamarck\n",
      "{'cpu': 1, 'gpu': 0.0625}\n"
     ]
    }
   ],
   "source": [
    "print(os.uname().nodename)\n",
    "\n",
    "### SET TRAINING RESOURCES\n",
    "if os.uname().nodename == 'lamarck':\n",
    "    # assert torch.cuda.is_available()\n",
    "\n",
    "    NUM_SAMPLES = SAMPLES_PER_SPLIT\n",
    "    # Every run takes approx half a gig of vram (no optimizations)\n",
    "    # The RTX 4090 has 24GB so we can run the model about 48 times\n",
    "    resources_per_trial={\n",
    "        'cpu': 1,\n",
    "        'gpu': 1 / GPUS,\n",
    "    }\n",
    "else:\n",
    "    NUM_SAMPLES = 1\n",
    "    resources_per_trial={\n",
    "        'cpu': 1,\n",
    "        # It takes about 1.5 GiB with full training data, but I put a bit more because\n",
    "        # this notebook also takes a bit of memory\n",
    "        'memory': 2e9,\n",
    "    }\n",
    "print(resources_per_trial)"
   ]
  },
  {
   "cell_type": "code",
   "execution_count": 19,
   "id": "2dd1c81e",
   "metadata": {
    "editable": true,
    "papermill": {
     "duration": 0.092599,
     "end_time": "2024-09-04T17:15:51.171563",
     "exception": false,
     "start_time": "2024-09-04T17:15:51.078964",
     "status": "completed"
    },
    "slideshow": {
     "slide_type": ""
    },
    "tags": []
   },
   "outputs": [],
   "source": [
    "from ray.tune.search.hyperopt import HyperOptSearch"
   ]
  },
  {
   "cell_type": "code",
   "execution_count": 20,
   "id": "0c0a9d43",
   "metadata": {
    "editable": true,
    "papermill": {
     "duration": 0.029549,
     "end_time": "2024-09-04T17:15:51.204145",
     "exception": false,
     "start_time": "2024-09-04T17:15:51.174596",
     "status": "completed"
    },
    "slideshow": {
     "slide_type": ""
    },
    "tags": []
   },
   "outputs": [],
   "source": [
    "def getTunerOnFold(f_idx, points_to_evaluate = None):    \n",
    "    name = paths.lightgcn_ray_tune_fname(ORG_NAME, SPLITS_FREQ, SPLITS_NORMALIZE, OPTIM_METRIC, fold=f_idx)\n",
    "    experiments = list(RAY_RESULTS_PATH.glob(f'{name}_*'))\n",
    "    last_experiment = max(experiments, key=lambda x: x.stat().st_ctime) if experiments else None\n",
    "    f = folds_dict[f_idx]\n",
    "\n",
    "    dftrain,dftest,t,open_proposals = folds_dict[f_idx]\n",
    "    param_space = dict(\n",
    "        batch_size=tune.randint(MIN_BATCH_SIZE, MAX_BATCH_SIZE+1), # 64 - 2**MAX_BATCH_SIZE\n",
    "        embedding_dim=tune.lograndint(1, MAX_EMBEDDING_DIM, base=2),\n",
    "        conv_layers=tune.randint(1,5),\n",
    "        learning_rate=tune.qloguniform(MIN_LR, 1, 1e-4),\n",
    "        l2=tune.loguniform(1e-7, 1e-2, 1e-7),\n",
    "        window_size=tune.choice(WINDOW_SIZES),\n",
    "        # Just so it appears on the output\n",
    "        fold=f_idx,\n",
    "    )\n",
    "    \n",
    "    ### RESTORE EXPERIMENT OR CREATE A NEW ONE\n",
    "    if last_experiment and tune.Tuner.can_restore(last_experiment):\n",
    "        print(f\"Restoring last experiment: {last_experiment}\")\n",
    "        tuner = tune.Tuner.restore(\n",
    "            str(last_experiment),\n",
    "            trainable=tune.with_resources(\n",
    "                # tune.with_parameters(TrainLightGCN,  train=dftrain, test=dftest, open_proposals=open_proposals),\n",
    "                tune.with_parameters(TrainLightGCN, data=f),\n",
    "                resources_per_trial,\n",
    "            ),\n",
    "            restart_errored=True,\n",
    "            param_space=param_space,\n",
    "        )\n",
    "    else:\n",
    "        print(f\"No experiment found for fold {f_idx}, creating new tuner with {NUM_SAMPLES} samples\")\n",
    "        search_alg = None\n",
    "        \n",
    "        search_alg = HyperOptSearch(\n",
    "            points_to_evaluate = points_to_evaluate,\n",
    "            random_state_seed=SEED,\n",
    "        )\n",
    "        # search_alg = tune.search.Repeater(search_alg, N_SPLITS-SKIP_SPLIT)\n",
    "        \n",
    "        tuner = tune.Tuner(\n",
    "            tune.with_resources(\n",
    "                # tune.with_parameters(TrainLightGCN,  train=dftrain, test=dftest, open_proposals=open_proposals),\n",
    "                tune.with_parameters(TrainLightGCN, data=folds_dict[f_idx]),\n",
    "                resources_per_trial,\n",
    "            ),\n",
    "            run_config=train.RunConfig(\n",
    "                stop={'training_iteration': MAX_EPOCHS/EPOCHS_PER_ITER, 'time_total_train': MAX_TIME_TOTAL_TRAIN},\n",
    "                name=name + f'_{dt.datetime.now().isoformat()}',\n",
    "                storage_path=RAY_RESULTS_PATH,\n",
    "                # failure_config=train.FailureConfig(fail_fast='raise'),\n",
    "                failure_config=train.FailureConfig(max_failures=3),\n",
    "            ),\n",
    "            param_space=param_space,\n",
    "            tune_config=tune.TuneConfig(\n",
    "                search_alg=search_alg,\n",
    "                num_samples=NUM_SAMPLES,\n",
    "                metric=OPTIM_METRIC,\n",
    "                mode='max',\n",
    "            )\n",
    "        )\n",
    "\n",
    "    return tuner"
   ]
  },
  {
   "cell_type": "code",
   "execution_count": 21,
   "id": "38c41846",
   "metadata": {
    "editable": true,
    "papermill": {
     "duration": 170.286356,
     "end_time": "2024-09-04T17:18:41.493416",
     "exception": false,
     "start_time": "2024-09-04T17:15:51.207060",
     "status": "completed"
    },
    "slideshow": {
     "slide_type": ""
    },
    "tags": []
   },
   "outputs": [
    {
     "data": {
      "application/vnd.jupyter.widget-view+json": {
       "model_id": "32ce947ec6e242e49d169d68e05b101a",
       "version_major": 2,
       "version_minor": 0
      },
      "text/plain": [
       "fold:   0%|          | 0/10 [00:00<?, ?it/s]"
      ]
     },
     "metadata": {},
     "output_type": "display_data"
    },
    {
     "data": {
      "application/vnd.jupyter.widget-view+json": {
       "model_id": "0875dbebc47e4f7682b6f18dcf30a8cd",
       "version_major": 2,
       "version_minor": 0
      },
      "text/plain": [
       "Output(layout=Layout(border_bottom='1px solid black', border_left='1px solid black', border_right='1px solid b…"
      ]
     },
     "execution_count": 21,
     "metadata": {},
     "output_type": "execute_result"
    }
   ],
   "source": [
    "# We need to display the progress bar in another cell because ray tune \"overwrites\" the previous output\n",
    "pbar = tqdm(total=len(use_folds_idx), desc='fold')\n",
    "out = widgets.Output(layout={'border': '1px solid black'})\n",
    "with out:\n",
    "    print(\"In this cell important output from the next cell will be shown\")\n",
    "out"
   ]
  },
  {
   "cell_type": "code",
   "execution_count": 22,
   "id": "5b351483",
   "metadata": {
    "editable": true,
    "papermill": {
     "duration": null,
     "end_time": null,
     "exception": null,
     "start_time": null,
     "status": "completed"
    },
    "slideshow": {
     "slide_type": ""
    },
    "tags": []
   },
   "outputs": [
    {
     "data": {
      "text/html": [
       "<div class=\"tuneStatus\">\n",
       "  <div style=\"display: flex;flex-direction: row\">\n",
       "    <div style=\"display: flex;flex-direction: column;\">\n",
       "      <h3>Tune Status</h3>\n",
       "      <table>\n",
       "<tbody>\n",
       "<tr><td>Current time:</td><td>2024-09-04 17:19:37</td></tr>\n",
       "<tr><td>Running for: </td><td>00:00:00.38        </td></tr>\n",
       "<tr><td>Memory:      </td><td>10.6/125.6 GiB     </td></tr>\n",
       "</tbody>\n",
       "</table>\n",
       "    </div>\n",
       "    <div class=\"vDivider\"></div>\n",
       "    <div class=\"systemInfo\">\n",
       "      <h3>System Info</h3>\n",
       "      Using FIFO scheduling algorithm.<br>Logical resource usage: 0/24 CPUs, 0/1 GPUs (0.0/1.0 accelerator_type:G)\n",
       "    </div>\n",
       "    \n",
       "  </div>\n",
       "  <div class=\"hDivider\"></div>\n",
       "  <div class=\"trialStatus\">\n",
       "    <h3>Trial Status</h3>\n",
       "    <table>\n",
       "<thead>\n",
       "<tr><th>Trial name            </th><th>status    </th><th>loc                  </th><th style=\"text-align: right;\">  batch_size</th><th style=\"text-align: right;\">  conv_layers</th><th style=\"text-align: right;\">  embedding_dim</th><th>fold               </th><th style=\"text-align: right;\">         l2</th><th style=\"text-align: right;\">  learning_rate</th><th>window_size  </th><th style=\"text-align: right;\">  iter</th><th style=\"text-align: right;\">  total time (s)</th><th style=\"text-align: right;\">  real_batch_size</th><th style=\"text-align: right;\">  iteration</th><th style=\"text-align: right;\">       loss</th></tr>\n",
       "</thead>\n",
       "<tbody>\n",
       "<tr><td>TrainLightGCN_49f743c9</td><td>TERMINATED</td><td>147.96.81.131:1413452</td><td style=\"text-align: right;\">           7</td><td style=\"text-align: right;\">            3</td><td style=\"text-align: right;\">              3</td><td>2023-07-13T00:00:00</td><td style=\"text-align: right;\">0.00468747 </td><td style=\"text-align: right;\">         0.0432</td><td>10YE         </td><td style=\"text-align: right;\">    39</td><td style=\"text-align: right;\">        321.553 </td><td style=\"text-align: right;\">              128</td><td style=\"text-align: right;\">        195</td><td style=\"text-align: right;\"> 0.184786  </td></tr>\n",
       "<tr><td>TrainLightGCN_8f830aa5</td><td>TERMINATED</td><td>147.96.81.131:1413601</td><td style=\"text-align: right;\">           9</td><td style=\"text-align: right;\">            4</td><td style=\"text-align: right;\">             16</td><td>2023-07-13T00:00:00</td><td style=\"text-align: right;\">1.38926e-05</td><td style=\"text-align: right;\">         0.0303</td><td>10YE         </td><td style=\"text-align: right;\">    40</td><td style=\"text-align: right;\">        177.452 </td><td style=\"text-align: right;\">              512</td><td style=\"text-align: right;\">        200</td><td style=\"text-align: right;\"> 0.0182029 </td></tr>\n",
       "<tr><td>TrainLightGCN_dbdae10c</td><td>TERMINATED</td><td>147.96.81.131:1412073</td><td style=\"text-align: right;\">           6</td><td style=\"text-align: right;\">            2</td><td style=\"text-align: right;\">             23</td><td>2023-07-13T00:00:00</td><td style=\"text-align: right;\">0.000529868</td><td style=\"text-align: right;\">         0.0032</td><td>10YE         </td><td style=\"text-align: right;\">     9</td><td style=\"text-align: right;\">        314.635 </td><td style=\"text-align: right;\">               64</td><td style=\"text-align: right;\">         45</td><td style=\"text-align: right;\"> 0.0278423 </td></tr>\n",
       "<tr><td>TrainLightGCN_093fb4d5</td><td>TERMINATED</td><td>147.96.81.131:1412347</td><td style=\"text-align: right;\">           9</td><td style=\"text-align: right;\">            4</td><td style=\"text-align: right;\">             10</td><td>2023-07-13T00:00:00</td><td style=\"text-align: right;\">8.98011e-05</td><td style=\"text-align: right;\">         0.0062</td><td>10YE         </td><td style=\"text-align: right;\">    40</td><td style=\"text-align: right;\">        269.754 </td><td style=\"text-align: right;\">              512</td><td style=\"text-align: right;\">        200</td><td style=\"text-align: right;\"> 0.0280975 </td></tr>\n",
       "<tr><td>TrainLightGCN_6ebacae9</td><td>TERMINATED</td><td>147.96.81.131:1412836</td><td style=\"text-align: right;\">          10</td><td style=\"text-align: right;\">            4</td><td style=\"text-align: right;\">             28</td><td>2023-07-13T00:00:00</td><td style=\"text-align: right;\">0.00295249 </td><td style=\"text-align: right;\">         0.0001</td><td>10YE         </td><td style=\"text-align: right;\">    40</td><td style=\"text-align: right;\">        169.757 </td><td style=\"text-align: right;\">             1024</td><td style=\"text-align: right;\">        200</td><td style=\"text-align: right;\"> 0.190182  </td></tr>\n",
       "<tr><td>TrainLightGCN_95758857</td><td>TERMINATED</td><td>147.96.81.131:1411314</td><td style=\"text-align: right;\">           8</td><td style=\"text-align: right;\">            4</td><td style=\"text-align: right;\">             14</td><td>2023-07-13T00:00:00</td><td style=\"text-align: right;\">0.000255652</td><td style=\"text-align: right;\">         0.0008</td><td>10YE         </td><td style=\"text-align: right;\">    16</td><td style=\"text-align: right;\">        309.689 </td><td style=\"text-align: right;\">              256</td><td style=\"text-align: right;\">         80</td><td style=\"text-align: right;\"> 0.0593748 </td></tr>\n",
       "<tr><td>TrainLightGCN_8a984762</td><td>TERMINATED</td><td>147.96.81.131:1411159</td><td style=\"text-align: right;\">           7</td><td style=\"text-align: right;\">            3</td><td style=\"text-align: right;\">              4</td><td>2023-07-13T00:00:00</td><td style=\"text-align: right;\">2.43069e-07</td><td style=\"text-align: right;\">         0.0021</td><td>10YE         </td><td style=\"text-align: right;\">     7</td><td style=\"text-align: right;\">        310.676 </td><td style=\"text-align: right;\">              128</td><td style=\"text-align: right;\">         35</td><td style=\"text-align: right;\"> 0.0888707 </td></tr>\n",
       "<tr><td>TrainLightGCN_b305854f</td><td>TERMINATED</td><td>147.96.81.131:1413110</td><td style=\"text-align: right;\">           6</td><td style=\"text-align: right;\">            4</td><td style=\"text-align: right;\">             63</td><td>2023-07-13T00:00:00</td><td style=\"text-align: right;\">0.000110464</td><td style=\"text-align: right;\">         0.0003</td><td>21d          </td><td style=\"text-align: right;\">    40</td><td style=\"text-align: right;\">         92.5464</td><td style=\"text-align: right;\">               64</td><td style=\"text-align: right;\">        200</td><td style=\"text-align: right;\"> 0.0545023 </td></tr>\n",
       "<tr><td>TrainLightGCN_5f641bef</td><td>TERMINATED</td><td>147.96.81.131:1412682</td><td style=\"text-align: right;\">           7</td><td style=\"text-align: right;\">            3</td><td style=\"text-align: right;\">              1</td><td>2023-07-13T00:00:00</td><td style=\"text-align: right;\">3.60007e-05</td><td style=\"text-align: right;\">         0.0007</td><td>60d          </td><td style=\"text-align: right;\">    40</td><td style=\"text-align: right;\">        125.438 </td><td style=\"text-align: right;\">              128</td><td style=\"text-align: right;\">        200</td><td style=\"text-align: right;\"> 0.384603  </td></tr>\n",
       "<tr><td>TrainLightGCN_8adb069f</td><td>TERMINATED</td><td>147.96.81.131:1411465</td><td style=\"text-align: right;\">           7</td><td style=\"text-align: right;\">            3</td><td style=\"text-align: right;\">             83</td><td>2023-07-13T00:00:00</td><td style=\"text-align: right;\">0.000387489</td><td style=\"text-align: right;\">         0.0015</td><td>90d          </td><td style=\"text-align: right;\">    40</td><td style=\"text-align: right;\">        269.902 </td><td style=\"text-align: right;\">              128</td><td style=\"text-align: right;\">        200</td><td style=\"text-align: right;\"> 0.0268807 </td></tr>\n",
       "<tr><td>TrainLightGCN_fb939bb0</td><td>TERMINATED</td><td>147.96.81.131:1413752</td><td style=\"text-align: right;\">          10</td><td style=\"text-align: right;\">            2</td><td style=\"text-align: right;\">             20</td><td>2023-07-13T00:00:00</td><td style=\"text-align: right;\">4.90881e-06</td><td style=\"text-align: right;\">         0.0082</td><td>60d          </td><td style=\"text-align: right;\">    40</td><td style=\"text-align: right;\">         27.028 </td><td style=\"text-align: right;\">             1024</td><td style=\"text-align: right;\">        200</td><td style=\"text-align: right;\"> 0.0101856 </td></tr>\n",
       "<tr><td>TrainLightGCN_a024e208</td><td>TERMINATED</td><td>147.96.81.131:1413291</td><td style=\"text-align: right;\">           8</td><td style=\"text-align: right;\">            3</td><td style=\"text-align: right;\">              2</td><td>2023-07-13T00:00:00</td><td style=\"text-align: right;\">5.55557e-05</td><td style=\"text-align: right;\">         0.0159</td><td>60d          </td><td style=\"text-align: right;\">    40</td><td style=\"text-align: right;\">         68.3215</td><td style=\"text-align: right;\">              256</td><td style=\"text-align: right;\">        200</td><td style=\"text-align: right;\"> 0.202055  </td></tr>\n",
       "<tr><td>TrainLightGCN_dad410ec</td><td>TERMINATED</td><td>147.96.81.131:1410705</td><td style=\"text-align: right;\">           7</td><td style=\"text-align: right;\">            2</td><td style=\"text-align: right;\">             17</td><td>2023-07-13T00:00:00</td><td style=\"text-align: right;\">0.00242835 </td><td style=\"text-align: right;\">         0.0003</td><td>90d          </td><td style=\"text-align: right;\">    40</td><td style=\"text-align: right;\">        308.406 </td><td style=\"text-align: right;\">              128</td><td style=\"text-align: right;\">        200</td><td style=\"text-align: right;\"> 0.122392  </td></tr>\n",
       "<tr><td>TrainLightGCN_09ca246f</td><td>TERMINATED</td><td>147.96.81.131:1412232</td><td style=\"text-align: right;\">           7</td><td style=\"text-align: right;\">            3</td><td style=\"text-align: right;\">             56</td><td>2023-07-13T00:00:00</td><td style=\"text-align: right;\">0.000805396</td><td style=\"text-align: right;\">         0.0012</td><td>60d          </td><td style=\"text-align: right;\">    40</td><td style=\"text-align: right;\">        150.731 </td><td style=\"text-align: right;\">              128</td><td style=\"text-align: right;\">        200</td><td style=\"text-align: right;\"> 0.0448734 </td></tr>\n",
       "<tr><td>TrainLightGCN_b66e7746</td><td>TERMINATED</td><td>147.96.81.131:1412500</td><td style=\"text-align: right;\">           8</td><td style=\"text-align: right;\">            1</td><td style=\"text-align: right;\">            212</td><td>2023-07-13T00:00:00</td><td style=\"text-align: right;\">0.00694738 </td><td style=\"text-align: right;\">         0.0098</td><td>90d          </td><td style=\"text-align: right;\">    40</td><td style=\"text-align: right;\">        137.491 </td><td style=\"text-align: right;\">              256</td><td style=\"text-align: right;\">        200</td><td style=\"text-align: right;\"> 0.0986673 </td></tr>\n",
       "<tr><td>TrainLightGCN_a833b742</td><td>TERMINATED</td><td>147.96.81.131:1410549</td><td style=\"text-align: right;\">           8</td><td style=\"text-align: right;\">            3</td><td style=\"text-align: right;\">              7</td><td>2023-07-13T00:00:00</td><td style=\"text-align: right;\">0.00189979 </td><td style=\"text-align: right;\">         0.0006</td><td>10YE         </td><td style=\"text-align: right;\">    11</td><td style=\"text-align: right;\">        315.418 </td><td style=\"text-align: right;\">              256</td><td style=\"text-align: right;\">         55</td><td style=\"text-align: right;\"> 0.127811  </td></tr>\n",
       "<tr><td>TrainLightGCN_51ef3a93</td><td>TERMINATED</td><td>147.96.81.131:1410392</td><td style=\"text-align: right;\">           6</td><td style=\"text-align: right;\">            3</td><td style=\"text-align: right;\">            176</td><td>2023-07-13T00:00:00</td><td style=\"text-align: right;\">0.000215777</td><td style=\"text-align: right;\">         0.001 </td><td>10YE         </td><td style=\"text-align: right;\">     3</td><td style=\"text-align: right;\">        341.132 </td><td style=\"text-align: right;\">               64</td><td style=\"text-align: right;\">         15</td><td style=\"text-align: right;\"> 0.0298137 </td></tr>\n",
       "<tr><td>TrainLightGCN_e76bab51</td><td>TERMINATED</td><td>147.96.81.131:1411616</td><td style=\"text-align: right;\">           6</td><td style=\"text-align: right;\">            1</td><td style=\"text-align: right;\">            764</td><td>2023-07-13T00:00:00</td><td style=\"text-align: right;\">0.00992434 </td><td style=\"text-align: right;\">         0.0202</td><td>30d          </td><td style=\"text-align: right;\">    40</td><td style=\"text-align: right;\">        193.782 </td><td style=\"text-align: right;\">               64</td><td style=\"text-align: right;\">        200</td><td style=\"text-align: right;\"> 0.431068  </td></tr>\n",
       "<tr><td>TrainLightGCN_e4c52942</td><td>TERMINATED</td><td>147.96.81.131:1412987</td><td style=\"text-align: right;\">           9</td><td style=\"text-align: right;\">            2</td><td style=\"text-align: right;\">              5</td><td>2023-07-13T00:00:00</td><td style=\"text-align: right;\">8.27347e-07</td><td style=\"text-align: right;\">         0.0026</td><td>30d          </td><td style=\"text-align: right;\">    40</td><td style=\"text-align: right;\">         31.6569</td><td style=\"text-align: right;\">              512</td><td style=\"text-align: right;\">        200</td><td style=\"text-align: right;\"> 0.0850446 </td></tr>\n",
       "<tr><td>TrainLightGCN_b185cbde</td><td>TERMINATED</td><td>147.96.81.131:1410093</td><td style=\"text-align: right;\">           8</td><td style=\"text-align: right;\">            2</td><td style=\"text-align: right;\">            415</td><td>2023-07-13T00:00:00</td><td style=\"text-align: right;\">0.000407948</td><td style=\"text-align: right;\">         0.005 </td><td>10YE         </td><td style=\"text-align: right;\">    10</td><td style=\"text-align: right;\">        319.859 </td><td style=\"text-align: right;\">              256</td><td style=\"text-align: right;\">         50</td><td style=\"text-align: right;\"> 0.0219696 </td></tr>\n",
       "<tr><td>TrainLightGCN_99767cd4</td><td>TERMINATED</td><td>147.96.81.131:1409626</td><td style=\"text-align: right;\">           6</td><td style=\"text-align: right;\">            2</td><td style=\"text-align: right;\">             12</td><td>2023-07-13T00:00:00</td><td style=\"text-align: right;\">0.00313866 </td><td style=\"text-align: right;\">         0.0006</td><td>10YE         </td><td style=\"text-align: right;\">     3</td><td style=\"text-align: right;\">        391.222 </td><td style=\"text-align: right;\">               64</td><td style=\"text-align: right;\">         15</td><td style=\"text-align: right;\"> 0.135315  </td></tr>\n",
       "<tr><td>TrainLightGCN_e8a1541e</td><td>TERMINATED</td><td>147.96.81.131:1411921</td><td style=\"text-align: right;\">           8</td><td style=\"text-align: right;\">            3</td><td style=\"text-align: right;\">             39</td><td>2023-07-13T00:00:00</td><td style=\"text-align: right;\">2.22958e-05</td><td style=\"text-align: right;\">         0.0002</td><td>60d          </td><td style=\"text-align: right;\">    40</td><td style=\"text-align: right;\">         98.0914</td><td style=\"text-align: right;\">              256</td><td style=\"text-align: right;\">        200</td><td style=\"text-align: right;\"> 0.126071  </td></tr>\n",
       "<tr><td>TrainLightGCN_063be4bc</td><td>TERMINATED</td><td>147.96.81.131:1409942</td><td style=\"text-align: right;\">           6</td><td style=\"text-align: right;\">            3</td><td style=\"text-align: right;\">            289</td><td>2023-07-13T00:00:00</td><td style=\"text-align: right;\">0.000698782</td><td style=\"text-align: right;\">         0.0026</td><td>90d          </td><td style=\"text-align: right;\">    17</td><td style=\"text-align: right;\">        316.966 </td><td style=\"text-align: right;\">               64</td><td style=\"text-align: right;\">         85</td><td style=\"text-align: right;\"> 0.0393414 </td></tr>\n",
       "<tr><td>TrainLightGCN_5b2b0065</td><td>TERMINATED</td><td>147.96.81.131:1410976</td><td style=\"text-align: right;\">           6</td><td style=\"text-align: right;\">            2</td><td style=\"text-align: right;\">            118</td><td>2023-07-13T00:00:00</td><td style=\"text-align: right;\">0.00063025 </td><td style=\"text-align: right;\">         0.004 </td><td>21d          </td><td style=\"text-align: right;\">    40</td><td style=\"text-align: right;\">        184.327 </td><td style=\"text-align: right;\">               64</td><td style=\"text-align: right;\">        200</td><td style=\"text-align: right;\"> 0.0127365 </td></tr>\n",
       "<tr><td>TrainLightGCN_61fbfda8</td><td>TERMINATED</td><td>147.96.81.131:1409443</td><td style=\"text-align: right;\">           7</td><td style=\"text-align: right;\">            3</td><td style=\"text-align: right;\">            342</td><td>2023-07-13T00:00:00</td><td style=\"text-align: right;\">0.00108245 </td><td style=\"text-align: right;\">         0.0108</td><td>10YE         </td><td style=\"text-align: right;\">     5</td><td style=\"text-align: right;\">        347.077 </td><td style=\"text-align: right;\">              128</td><td style=\"text-align: right;\">         25</td><td style=\"text-align: right;\"> 0.0605073 </td></tr>\n",
       "<tr><td>TrainLightGCN_ca814006</td><td>TERMINATED</td><td>147.96.81.131:1408980</td><td style=\"text-align: right;\">           6</td><td style=\"text-align: right;\">            4</td><td style=\"text-align: right;\">             31</td><td>2023-07-13T00:00:00</td><td style=\"text-align: right;\">0.00030524 </td><td style=\"text-align: right;\">         0.0019</td><td>10YE         </td><td style=\"text-align: right;\">     3</td><td style=\"text-align: right;\">        406.342 </td><td style=\"text-align: right;\">               64</td><td style=\"text-align: right;\">         15</td><td style=\"text-align: right;\"> 0.0509636 </td></tr>\n",
       "<tr><td>TrainLightGCN_9057ac8c</td><td>TERMINATED</td><td>147.96.81.131:1409319</td><td style=\"text-align: right;\">           7</td><td style=\"text-align: right;\">            4</td><td style=\"text-align: right;\">             43</td><td>2023-07-13T00:00:00</td><td style=\"text-align: right;\">0.00168885 </td><td style=\"text-align: right;\">         0.0072</td><td>10YE         </td><td style=\"text-align: right;\">     5</td><td style=\"text-align: right;\">        346.147 </td><td style=\"text-align: right;\">              128</td><td style=\"text-align: right;\">         25</td><td style=\"text-align: right;\"> 0.0736244 </td></tr>\n",
       "<tr><td>TrainLightGCN_86264508</td><td>TERMINATED</td><td>147.96.81.131:1409172</td><td style=\"text-align: right;\">           7</td><td style=\"text-align: right;\">            4</td><td style=\"text-align: right;\">             94</td><td>2023-07-13T00:00:00</td><td style=\"text-align: right;\">4.53233e-05</td><td style=\"text-align: right;\">         0.0039</td><td>10YE         </td><td style=\"text-align: right;\">     5</td><td style=\"text-align: right;\">        344.581 </td><td style=\"text-align: right;\">              128</td><td style=\"text-align: right;\">         25</td><td style=\"text-align: right;\"> 0.0140133 </td></tr>\n",
       "<tr><td>TrainLightGCN_125c4a31</td><td>TERMINATED</td><td>147.96.81.131:1411764</td><td style=\"text-align: right;\">           9</td><td style=\"text-align: right;\">            4</td><td style=\"text-align: right;\">            603</td><td>2023-07-13T00:00:00</td><td style=\"text-align: right;\">0.00133079 </td><td style=\"text-align: right;\">         0.0004</td><td>21d          </td><td style=\"text-align: right;\">    40</td><td style=\"text-align: right;\">         36.8673</td><td style=\"text-align: right;\">              512</td><td style=\"text-align: right;\">        200</td><td style=\"text-align: right;\"> 0.0735015 </td></tr>\n",
       "<tr><td>TrainLightGCN_ec88e6a4</td><td>TERMINATED</td><td>147.96.81.131:1410854</td><td style=\"text-align: right;\">           8</td><td style=\"text-align: right;\">            3</td><td style=\"text-align: right;\">             33</td><td>2023-07-13T00:00:00</td><td style=\"text-align: right;\">0.000136918</td><td style=\"text-align: right;\">         0.0001</td><td>30d          </td><td style=\"text-align: right;\">    40</td><td style=\"text-align: right;\">         75.2992</td><td style=\"text-align: right;\">              256</td><td style=\"text-align: right;\">        200</td><td style=\"text-align: right;\"> 0.310137  </td></tr>\n",
       "<tr><td>TrainLightGCN_196a3291</td><td>TERMINATED</td><td>147.96.81.131:1408863</td><td style=\"text-align: right;\">           7</td><td style=\"text-align: right;\">            4</td><td style=\"text-align: right;\">            123</td><td>2023-07-13T00:00:00</td><td style=\"text-align: right;\">6.37455e-05</td><td style=\"text-align: right;\">         0.001 </td><td>10YE         </td><td style=\"text-align: right;\">     5</td><td style=\"text-align: right;\">        341.329 </td><td style=\"text-align: right;\">              128</td><td style=\"text-align: right;\">         25</td><td style=\"text-align: right;\"> 0.0307155 </td></tr>\n",
       "<tr><td>TrainLightGCN_d6538c1f</td><td>TERMINATED</td><td>147.96.81.131:1410247</td><td style=\"text-align: right;\">           7</td><td style=\"text-align: right;\">            3</td><td style=\"text-align: right;\">              9</td><td>2023-07-13T00:00:00</td><td style=\"text-align: right;\">0.00105406 </td><td style=\"text-align: right;\">         0.0004</td><td>21d          </td><td style=\"text-align: right;\">    40</td><td style=\"text-align: right;\">        111.981 </td><td style=\"text-align: right;\">              128</td><td style=\"text-align: right;\">        200</td><td style=\"text-align: right;\"> 0.137894  </td></tr>\n",
       "<tr><td>TrainLightGCN_0004d6ca</td><td>TERMINATED</td><td>147.96.81.131:1408061</td><td style=\"text-align: right;\">           6</td><td style=\"text-align: right;\">            4</td><td style=\"text-align: right;\">              3</td><td>2023-07-13T00:00:00</td><td style=\"text-align: right;\">3.62316e-06</td><td style=\"text-align: right;\">         0.0063</td><td>10YE         </td><td style=\"text-align: right;\">     3</td><td style=\"text-align: right;\">        388.886 </td><td style=\"text-align: right;\">               64</td><td style=\"text-align: right;\">         15</td><td style=\"text-align: right;\"> 0.110026  </td></tr>\n",
       "<tr><td>TrainLightGCN_9b167ed0</td><td>TERMINATED</td><td>147.96.81.131:1407763</td><td style=\"text-align: right;\">           6</td><td style=\"text-align: right;\">            4</td><td style=\"text-align: right;\">             46</td><td>2023-07-13T00:00:00</td><td style=\"text-align: right;\">1.45365e-07</td><td style=\"text-align: right;\">         0.0487</td><td>10YE         </td><td style=\"text-align: right;\">     3</td><td style=\"text-align: right;\">        382.562 </td><td style=\"text-align: right;\">               64</td><td style=\"text-align: right;\">         15</td><td style=\"text-align: right;\"> 0.0950559 </td></tr>\n",
       "<tr><td>TrainLightGCN_d8a69b1e</td><td>TERMINATED</td><td>147.96.81.131:1407471</td><td style=\"text-align: right;\">           6</td><td style=\"text-align: right;\">            4</td><td style=\"text-align: right;\">             12</td><td>2023-07-13T00:00:00</td><td style=\"text-align: right;\">4.10988e-05</td><td style=\"text-align: right;\">         0.082 </td><td>10YE         </td><td style=\"text-align: right;\">     3</td><td style=\"text-align: right;\">        382.883 </td><td style=\"text-align: right;\">               64</td><td style=\"text-align: right;\">         15</td><td style=\"text-align: right;\"> 0.164854  </td></tr>\n",
       "<tr><td>TrainLightGCN_ecc233f8</td><td>TERMINATED</td><td>147.96.81.131:1409778</td><td style=\"text-align: right;\">           7</td><td style=\"text-align: right;\">            3</td><td style=\"text-align: right;\">             21</td><td>2023-07-13T00:00:00</td><td style=\"text-align: right;\">0.0060501  </td><td style=\"text-align: right;\">         0.0016</td><td>30d          </td><td style=\"text-align: right;\">    40</td><td style=\"text-align: right;\">        139.764 </td><td style=\"text-align: right;\">              128</td><td style=\"text-align: right;\">        200</td><td style=\"text-align: right;\"> 0.11577   </td></tr>\n",
       "<tr><td>TrainLightGCN_2dd955e9</td><td>TERMINATED</td><td>147.96.81.131:1408366</td><td style=\"text-align: right;\">           7</td><td style=\"text-align: right;\">            4</td><td style=\"text-align: right;\">              4</td><td>2023-07-13T00:00:00</td><td style=\"text-align: right;\">9.72677e-06</td><td style=\"text-align: right;\">         0.0117</td><td>10YE         </td><td style=\"text-align: right;\">     5</td><td style=\"text-align: right;\">        325.791 </td><td style=\"text-align: right;\">              128</td><td style=\"text-align: right;\">         25</td><td style=\"text-align: right;\"> 0.0735035 </td></tr>\n",
       "<tr><td>TrainLightGCN_f54b8cf3</td><td>TERMINATED</td><td>147.96.81.131:1407938</td><td style=\"text-align: right;\">           7</td><td style=\"text-align: right;\">            1</td><td style=\"text-align: right;\">             27</td><td>2023-07-13T00:00:00</td><td style=\"text-align: right;\">7.04299e-05</td><td style=\"text-align: right;\">         0.1383</td><td>10YE         </td><td style=\"text-align: right;\">     5</td><td style=\"text-align: right;\">        319.401 </td><td style=\"text-align: right;\">              128</td><td style=\"text-align: right;\">         25</td><td style=\"text-align: right;\"> 2.56603   </td></tr>\n",
       "<tr><td>TrainLightGCN_2b6892a3</td><td>TERMINATED</td><td>147.96.81.131:1407620</td><td style=\"text-align: right;\">           7</td><td style=\"text-align: right;\">            4</td><td style=\"text-align: right;\">            102</td><td>2023-07-13T00:00:00</td><td style=\"text-align: right;\">1.57583e-06</td><td style=\"text-align: right;\">         0.0243</td><td>10YE         </td><td style=\"text-align: right;\">     5</td><td style=\"text-align: right;\">        309.76  </td><td style=\"text-align: right;\">              128</td><td style=\"text-align: right;\">         25</td><td style=\"text-align: right;\"> 0.0190609 </td></tr>\n",
       "<tr><td>TrainLightGCN_87995056</td><td>TERMINATED</td><td>147.96.81.131:1407342</td><td style=\"text-align: right;\">           9</td><td style=\"text-align: right;\">            3</td><td style=\"text-align: right;\">             21</td><td>2023-07-13T00:00:00</td><td style=\"text-align: right;\">3.09103e-06</td><td style=\"text-align: right;\">         0.95  </td><td>10YE         </td><td style=\"text-align: right;\">    20</td><td style=\"text-align: right;\">        316.557 </td><td style=\"text-align: right;\">              512</td><td style=\"text-align: right;\">        100</td><td style=\"text-align: right;\">13.6911    </td></tr>\n",
       "<tr><td>TrainLightGCN_a1b6397f</td><td>TERMINATED</td><td>147.96.81.131:1406413</td><td style=\"text-align: right;\">           7</td><td style=\"text-align: right;\">            3</td><td style=\"text-align: right;\">             14</td><td>2023-07-13T00:00:00</td><td style=\"text-align: right;\">0.000187293</td><td style=\"text-align: right;\">         0.0008</td><td>10YE         </td><td style=\"text-align: right;\">     6</td><td style=\"text-align: right;\">        364.459 </td><td style=\"text-align: right;\">              128</td><td style=\"text-align: right;\">         30</td><td style=\"text-align: right;\"> 0.0739758 </td></tr>\n",
       "<tr><td>TrainLightGCN_c170001d</td><td>TERMINATED</td><td>147.96.81.131:1406742</td><td style=\"text-align: right;\">           6</td><td style=\"text-align: right;\">            2</td><td style=\"text-align: right;\">            730</td><td>2023-07-13T00:00:00</td><td style=\"text-align: right;\">2.96143e-05</td><td style=\"text-align: right;\">         0.0002</td><td>60d          </td><td style=\"text-align: right;\">    32</td><td style=\"text-align: right;\">        317.206 </td><td style=\"text-align: right;\">               64</td><td style=\"text-align: right;\">        160</td><td style=\"text-align: right;\"> 0.00758976</td></tr>\n",
       "<tr><td>TrainLightGCN_1510bf71</td><td>TERMINATED</td><td>147.96.81.131:1405811</td><td style=\"text-align: right;\">           8</td><td style=\"text-align: right;\">            3</td><td style=\"text-align: right;\">             23</td><td>2023-07-13T00:00:00</td><td style=\"text-align: right;\">0.000929393</td><td style=\"text-align: right;\">         0.0025</td><td>10YE         </td><td style=\"text-align: right;\">    11</td><td style=\"text-align: right;\">        331.407 </td><td style=\"text-align: right;\">              256</td><td style=\"text-align: right;\">         55</td><td style=\"text-align: right;\"> 0.0461744 </td></tr>\n",
       "<tr><td>TrainLightGCN_4c330c7b</td><td>TERMINATED</td><td>147.96.81.131:1405207</td><td style=\"text-align: right;\">          10</td><td style=\"text-align: right;\">            3</td><td style=\"text-align: right;\">             15</td><td>2023-07-13T00:00:00</td><td style=\"text-align: right;\">1.90767e-05</td><td style=\"text-align: right;\">         0.0031</td><td>10YE         </td><td style=\"text-align: right;\">    39</td><td style=\"text-align: right;\">        329.699 </td><td style=\"text-align: right;\">             1024</td><td style=\"text-align: right;\">        195</td><td style=\"text-align: right;\"> 0.0162284 </td></tr>\n",
       "<tr><td>TrainLightGCN_4d13cd81</td><td>TERMINATED</td><td>147.96.81.131:1403998</td><td style=\"text-align: right;\">           7</td><td style=\"text-align: right;\">            3</td><td style=\"text-align: right;\">            381</td><td>2023-07-13T00:00:00</td><td style=\"text-align: right;\">0.00108659 </td><td style=\"text-align: right;\">         0.0018</td><td>10YE         </td><td style=\"text-align: right;\">     6</td><td style=\"text-align: right;\">        356.237 </td><td style=\"text-align: right;\">              128</td><td style=\"text-align: right;\">         30</td><td style=\"text-align: right;\"> 0.044412  </td></tr>\n",
       "<tr><td>TrainLightGCN_18b892f2</td><td>TERMINATED</td><td>147.96.81.131:1408694</td><td style=\"text-align: right;\">           8</td><td style=\"text-align: right;\">            3</td><td style=\"text-align: right;\">             57</td><td>2023-07-13T00:00:00</td><td style=\"text-align: right;\">0.000120328</td><td style=\"text-align: right;\">         0.0191</td><td>60d          </td><td style=\"text-align: right;\">    40</td><td style=\"text-align: right;\">        109.643 </td><td style=\"text-align: right;\">              256</td><td style=\"text-align: right;\">        200</td><td style=\"text-align: right;\"> 0.00905071</td></tr>\n",
       "<tr><td>TrainLightGCN_787a90b0</td><td>TERMINATED</td><td>147.96.81.131:1404600</td><td style=\"text-align: right;\">           6</td><td style=\"text-align: right;\">            4</td><td style=\"text-align: right;\">             17</td><td>2023-07-13T00:00:00</td><td style=\"text-align: right;\">5.49879e-06</td><td style=\"text-align: right;\">         0.0301</td><td>60d          </td><td style=\"text-align: right;\">    33</td><td style=\"text-align: right;\">        319.573 </td><td style=\"text-align: right;\">               64</td><td style=\"text-align: right;\">        165</td><td style=\"text-align: right;\"> 0.0112195 </td></tr>\n",
       "<tr><td>TrainLightGCN_ea4d72f2</td><td>TERMINATED</td><td>147.96.81.131:1408242</td><td style=\"text-align: right;\">           8</td><td style=\"text-align: right;\">            2</td><td style=\"text-align: right;\">              6</td><td>2023-07-13T00:00:00</td><td style=\"text-align: right;\">2.09227e-05</td><td style=\"text-align: right;\">         0.0015</td><td>30d          </td><td style=\"text-align: right;\">    40</td><td style=\"text-align: right;\">         61.9836</td><td style=\"text-align: right;\">              256</td><td style=\"text-align: right;\">        200</td><td style=\"text-align: right;\"> 0.074531  </td></tr>\n",
       "<tr><td>TrainLightGCN_f9f2c576</td><td>TERMINATED</td><td>147.96.81.131:1408518</td><td style=\"text-align: right;\">           8</td><td style=\"text-align: right;\">            3</td><td style=\"text-align: right;\">             69</td><td>2023-07-13T00:00:00</td><td style=\"text-align: right;\">0.000169567</td><td style=\"text-align: right;\">         0.0022</td><td>21d          </td><td style=\"text-align: right;\">    40</td><td style=\"text-align: right;\">         51.8181</td><td style=\"text-align: right;\">              256</td><td style=\"text-align: right;\">        200</td><td style=\"text-align: right;\"> 0.0133887 </td></tr>\n",
       "<tr><td>TrainLightGCN_bcfaf6db</td><td>TERMINATED</td><td>147.96.81.131:1401447</td><td style=\"text-align: right;\">           7</td><td style=\"text-align: right;\">            4</td><td style=\"text-align: right;\">             97</td><td>2023-07-13T00:00:00</td><td style=\"text-align: right;\">6.09932e-05</td><td style=\"text-align: right;\">         0.0021</td><td>10YE         </td><td style=\"text-align: right;\">     6</td><td style=\"text-align: right;\">        318.386 </td><td style=\"text-align: right;\">              128</td><td style=\"text-align: right;\">         30</td><td style=\"text-align: right;\"> 0.017615  </td></tr>\n",
       "<tr><td>TrainLightGCN_3a643bc6</td><td>TERMINATED</td><td>147.96.81.131:1407166</td><td style=\"text-align: right;\">           9</td><td style=\"text-align: right;\">            4</td><td style=\"text-align: right;\">              8</td><td>2023-07-13T00:00:00</td><td style=\"text-align: right;\">0.00052238 </td><td style=\"text-align: right;\">         0.3165</td><td>60d          </td><td style=\"text-align: right;\">    40</td><td style=\"text-align: right;\">         59.9453</td><td style=\"text-align: right;\">              512</td><td style=\"text-align: right;\">        200</td><td style=\"text-align: right;\"> 0.114124  </td></tr>\n",
       "<tr><td>TrainLightGCN_2d997763</td><td>TERMINATED</td><td>147.96.81.131:1407043</td><td style=\"text-align: right;\">          10</td><td style=\"text-align: right;\">            3</td><td style=\"text-align: right;\">              2</td><td>2023-07-13T00:00:00</td><td style=\"text-align: right;\">0.00484589 </td><td style=\"text-align: right;\">         0.0004</td><td>90d          </td><td style=\"text-align: right;\">    40</td><td style=\"text-align: right;\">         56.3746</td><td style=\"text-align: right;\">             1024</td><td style=\"text-align: right;\">        200</td><td style=\"text-align: right;\"> 0.407248  </td></tr>\n",
       "<tr><td>TrainLightGCN_1d15ba84</td><td>TERMINATED</td><td>147.96.81.131:1399708</td><td style=\"text-align: right;\">           7</td><td style=\"text-align: right;\">            2</td><td style=\"text-align: right;\">             74</td><td>2023-07-13T00:00:00</td><td style=\"text-align: right;\">8.63799e-07</td><td style=\"text-align: right;\">         0.1736</td><td>10YE         </td><td style=\"text-align: right;\">     8</td><td style=\"text-align: right;\">        357.558 </td><td style=\"text-align: right;\">              128</td><td style=\"text-align: right;\">         40</td><td style=\"text-align: right;\"> 2.53155   </td></tr>\n",
       "<tr><td>TrainLightGCN_925e04f7</td><td>TERMINATED</td><td>147.96.81.131:1406888</td><td style=\"text-align: right;\">           8</td><td style=\"text-align: right;\">            2</td><td style=\"text-align: right;\">            185</td><td>2023-07-13T00:00:00</td><td style=\"text-align: right;\">0.00977023 </td><td style=\"text-align: right;\">         0.0038</td><td>30d          </td><td style=\"text-align: right;\">    40</td><td style=\"text-align: right;\">         63.6661</td><td style=\"text-align: right;\">              256</td><td style=\"text-align: right;\">        200</td><td style=\"text-align: right;\"> 0.119619  </td></tr>\n",
       "<tr><td>TrainLightGCN_eb7d4c7d</td><td>TERMINATED</td><td>147.96.81.131:1406264</td><td style=\"text-align: right;\">           9</td><td style=\"text-align: right;\">            3</td><td style=\"text-align: right;\">              1</td><td>2023-07-13T00:00:00</td><td style=\"text-align: right;\">8.68283e-05</td><td style=\"text-align: right;\">         0.0143</td><td>90d          </td><td style=\"text-align: right;\">    40</td><td style=\"text-align: right;\">        100.649 </td><td style=\"text-align: right;\">              512</td><td style=\"text-align: right;\">        200</td><td style=\"text-align: right;\"> 0.352077  </td></tr>\n",
       "<tr><td>TrainLightGCN_0b982597</td><td>TERMINATED</td><td>147.96.81.131:1405660</td><td style=\"text-align: right;\">           9</td><td style=\"text-align: right;\">            4</td><td style=\"text-align: right;\">              6</td><td>2023-07-13T00:00:00</td><td style=\"text-align: right;\">3.22033e-05</td><td style=\"text-align: right;\">         0.0013</td><td>90d          </td><td style=\"text-align: right;\">    40</td><td style=\"text-align: right;\">        100.291 </td><td style=\"text-align: right;\">              512</td><td style=\"text-align: right;\">        200</td><td style=\"text-align: right;\"> 0.125026  </td></tr>\n",
       "<tr><td>TrainLightGCN_7f83a249</td><td>TERMINATED</td><td>147.96.81.131:1399852</td><td style=\"text-align: right;\">          10</td><td style=\"text-align: right;\">            3</td><td style=\"text-align: right;\">            332</td><td>2023-07-13T00:00:00</td><td style=\"text-align: right;\">0.00221159 </td><td style=\"text-align: right;\">         0.4863</td><td>10YE         </td><td style=\"text-align: right;\">    40</td><td style=\"text-align: right;\">        307.281 </td><td style=\"text-align: right;\">             1024</td><td style=\"text-align: right;\">        200</td><td style=\"text-align: right;\"> 7.99495   </td></tr>\n",
       "<tr><td>TrainLightGCN_d0fb262a</td><td>TERMINATED</td><td>147.96.81.131:1399134</td><td style=\"text-align: right;\">           8</td><td style=\"text-align: right;\">            4</td><td style=\"text-align: right;\">             32</td><td>2023-07-13T00:00:00</td><td style=\"text-align: right;\">1.24202e-06</td><td style=\"text-align: right;\">         0.015 </td><td>10YE         </td><td style=\"text-align: right;\">    16</td><td style=\"text-align: right;\">        328.391 </td><td style=\"text-align: right;\">              256</td><td style=\"text-align: right;\">         80</td><td style=\"text-align: right;\"> 0.00891481</td></tr>\n",
       "<tr><td>TrainLightGCN_c90632eb</td><td>TERMINATED</td><td>147.96.81.131:1398877</td><td style=\"text-align: right;\">           8</td><td style=\"text-align: right;\">            4</td><td style=\"text-align: right;\">             24</td><td>2023-07-13T00:00:00</td><td style=\"text-align: right;\">5.89374e-05</td><td style=\"text-align: right;\">         0.003 </td><td>10YE         </td><td style=\"text-align: right;\">    18</td><td style=\"text-align: right;\">        333.912 </td><td style=\"text-align: right;\">              256</td><td style=\"text-align: right;\">         90</td><td style=\"text-align: right;\"> 0.0175302 </td></tr>\n",
       "<tr><td>TrainLightGCN_90da00c4</td><td>TERMINATED</td><td>147.96.81.131:1406590</td><td style=\"text-align: right;\">          10</td><td style=\"text-align: right;\">            4</td><td style=\"text-align: right;\">             72</td><td>2023-07-13T00:00:00</td><td style=\"text-align: right;\">8.47051e-06</td><td style=\"text-align: right;\">         0.0001</td><td>60d          </td><td style=\"text-align: right;\">    40</td><td style=\"text-align: right;\">         42.1155</td><td style=\"text-align: right;\">             1024</td><td style=\"text-align: right;\">        200</td><td style=\"text-align: right;\"> 0.420252  </td></tr>\n",
       "<tr><td>TrainLightGCN_7c72aef0</td><td>TERMINATED</td><td>147.96.81.131:1405987</td><td style=\"text-align: right;\">           9</td><td style=\"text-align: right;\">            2</td><td style=\"text-align: right;\">            266</td><td>2023-07-13T00:00:00</td><td style=\"text-align: right;\">7.51533e-07</td><td style=\"text-align: right;\">         0.057 </td><td>60d          </td><td style=\"text-align: right;\">    40</td><td style=\"text-align: right;\">         64.9092</td><td style=\"text-align: right;\">              512</td><td style=\"text-align: right;\">        200</td><td style=\"text-align: right;\"> 0.0217856 </td></tr>\n",
       "<tr><td>TrainLightGCN_a3aedbf6</td><td>TERMINATED</td><td>147.96.81.131:1406114</td><td style=\"text-align: right;\">          10</td><td style=\"text-align: right;\">            4</td><td style=\"text-align: right;\">             35</td><td>2023-07-13T00:00:00</td><td style=\"text-align: right;\">0.0020649  </td><td style=\"text-align: right;\">         0.0002</td><td>60d          </td><td style=\"text-align: right;\">    40</td><td style=\"text-align: right;\">         40.5209</td><td style=\"text-align: right;\">             1024</td><td style=\"text-align: right;\">        200</td><td style=\"text-align: right;\"> 0.339788  </td></tr>\n",
       "<tr><td>TrainLightGCN_9049622f</td><td>TERMINATED</td><td>147.96.81.131:1405359</td><td style=\"text-align: right;\">           9</td><td style=\"text-align: right;\">            4</td><td style=\"text-align: right;\">              2</td><td>2023-07-13T00:00:00</td><td style=\"text-align: right;\">6.83032e-06</td><td style=\"text-align: right;\">         0.0003</td><td>60d          </td><td style=\"text-align: right;\">    40</td><td style=\"text-align: right;\">         63.4935</td><td style=\"text-align: right;\">              512</td><td style=\"text-align: right;\">        200</td><td style=\"text-align: right;\"> 0.468895  </td></tr>\n",
       "<tr><td>TrainLightGCN_c4271aa3</td><td>TERMINATED</td><td>147.96.81.131:1405509</td><td style=\"text-align: right;\">          10</td><td style=\"text-align: right;\">            3</td><td style=\"text-align: right;\">              9</td><td>2023-07-13T00:00:00</td><td style=\"text-align: right;\">0.000263463</td><td style=\"text-align: right;\">         0.0078</td><td>60d          </td><td style=\"text-align: right;\">    40</td><td style=\"text-align: right;\">         40.2719</td><td style=\"text-align: right;\">             1024</td><td style=\"text-align: right;\">        200</td><td style=\"text-align: right;\"> 0.065349  </td></tr>\n",
       "<tr><td>TrainLightGCN_963756c3</td><td>TERMINATED</td><td>147.96.81.131:1405083</td><td style=\"text-align: right;\">          10</td><td style=\"text-align: right;\">            3</td><td style=\"text-align: right;\">              2</td><td>2023-07-13T00:00:00</td><td style=\"text-align: right;\">5.0821e-05 </td><td style=\"text-align: right;\">         0.0089</td><td>60d          </td><td style=\"text-align: right;\">    40</td><td style=\"text-align: right;\">         39.9951</td><td style=\"text-align: right;\">             1024</td><td style=\"text-align: right;\">        200</td><td style=\"text-align: right;\"> 0.230408  </td></tr>\n",
       "<tr><td>TrainLightGCN_f01f33ad</td><td>TERMINATED</td><td>147.96.81.131:1403568</td><td style=\"text-align: right;\">           8</td><td style=\"text-align: right;\">            2</td><td style=\"text-align: right;\">            156</td><td>2023-07-13T00:00:00</td><td style=\"text-align: right;\">9.27603e-05</td><td style=\"text-align: right;\">         0.0058</td><td>60d          </td><td style=\"text-align: right;\">    40</td><td style=\"text-align: right;\">        111.713 </td><td style=\"text-align: right;\">              256</td><td style=\"text-align: right;\">        200</td><td style=\"text-align: right;\"> 0.00458932</td></tr>\n",
       "<tr><td>TrainLightGCN_92bdb38d</td><td>TERMINATED</td><td>147.96.81.131:1403854</td><td style=\"text-align: right;\">           9</td><td style=\"text-align: right;\">            2</td><td style=\"text-align: right;\">           1022</td><td>2023-07-13T00:00:00</td><td style=\"text-align: right;\">1.25624e-05</td><td style=\"text-align: right;\">         0.0138</td><td>90d          </td><td style=\"text-align: right;\">    40</td><td style=\"text-align: right;\">        101.351 </td><td style=\"text-align: right;\">              512</td><td style=\"text-align: right;\">        200</td><td style=\"text-align: right;\"> 0.013963  </td></tr>\n",
       "<tr><td>TrainLightGCN_27fe706f</td><td>TERMINATED</td><td>147.96.81.131:1404932</td><td style=\"text-align: right;\">          10</td><td style=\"text-align: right;\">            4</td><td style=\"text-align: right;\">              5</td><td>2023-07-13T00:00:00</td><td style=\"text-align: right;\">0.000670037</td><td style=\"text-align: right;\">         0.0008</td><td>60d          </td><td style=\"text-align: right;\">    40</td><td style=\"text-align: right;\">         40.3534</td><td style=\"text-align: right;\">             1024</td><td style=\"text-align: right;\">        200</td><td style=\"text-align: right;\"> 0.26985   </td></tr>\n",
       "<tr><td>TrainLightGCN_c3143922</td><td>TERMINATED</td><td>147.96.81.131:1403711</td><td style=\"text-align: right;\">           7</td><td style=\"text-align: right;\">            4</td><td style=\"text-align: right;\">             46</td><td>2023-07-13T00:00:00</td><td style=\"text-align: right;\">4.11416e-07</td><td style=\"text-align: right;\">         0.0005</td><td>21d          </td><td style=\"text-align: right;\">    40</td><td style=\"text-align: right;\">         91.285 </td><td style=\"text-align: right;\">              128</td><td style=\"text-align: right;\">        200</td><td style=\"text-align: right;\"> 0.0506017 </td></tr>\n",
       "<tr><td>TrainLightGCN_de922f37</td><td>TERMINATED</td><td>147.96.81.131:1404776</td><td style=\"text-align: right;\">          10</td><td style=\"text-align: right;\">            3</td><td style=\"text-align: right;\">              1</td><td>2023-07-13T00:00:00</td><td style=\"text-align: right;\">0.000130304</td><td style=\"text-align: right;\">         0.0003</td><td>60d          </td><td style=\"text-align: right;\">    40</td><td style=\"text-align: right;\">         40.2508</td><td style=\"text-align: right;\">             1024</td><td style=\"text-align: right;\">        200</td><td style=\"text-align: right;\"> 0.60903   </td></tr>\n",
       "<tr><td>TrainLightGCN_5cb5d178</td><td>TERMINATED</td><td>147.96.81.131:1404332</td><td style=\"text-align: right;\">           8</td><td style=\"text-align: right;\">            4</td><td style=\"text-align: right;\">             18</td><td>2023-07-13T00:00:00</td><td style=\"text-align: right;\">0.000330737</td><td style=\"text-align: right;\">         0.0033</td><td>21d          </td><td style=\"text-align: right;\">    40</td><td style=\"text-align: right;\">         55.6165</td><td style=\"text-align: right;\">              256</td><td style=\"text-align: right;\">        200</td><td style=\"text-align: right;\"> 0.0337276 </td></tr>\n",
       "<tr><td>TrainLightGCN_17abd701</td><td>TERMINATED</td><td>147.96.81.131:1402943</td><td style=\"text-align: right;\">           8</td><td style=\"text-align: right;\">            1</td><td style=\"text-align: right;\">            145</td><td>2023-07-13T00:00:00</td><td style=\"text-align: right;\">9.35489e-05</td><td style=\"text-align: right;\">         0.0005</td><td>60d          </td><td style=\"text-align: right;\">    40</td><td style=\"text-align: right;\">         98.5737</td><td style=\"text-align: right;\">              256</td><td style=\"text-align: right;\">        200</td><td style=\"text-align: right;\"> 0.0119267 </td></tr>\n",
       "<tr><td>TrainLightGCN_17e4dcc3</td><td>TERMINATED</td><td>147.96.81.131:1404455</td><td style=\"text-align: right;\">          10</td><td style=\"text-align: right;\">            3</td><td style=\"text-align: right;\">              4</td><td>2023-07-13T00:00:00</td><td style=\"text-align: right;\">0.000409673</td><td style=\"text-align: right;\">         0.0012</td><td>60d          </td><td style=\"text-align: right;\">    40</td><td style=\"text-align: right;\">         41.5625</td><td style=\"text-align: right;\">             1024</td><td style=\"text-align: right;\">        200</td><td style=\"text-align: right;\"> 0.227949  </td></tr>\n",
       "<tr><td>TrainLightGCN_262b585a</td><td>TERMINATED</td><td>147.96.81.131:1401154</td><td style=\"text-align: right;\">           8</td><td style=\"text-align: right;\">            2</td><td style=\"text-align: right;\">            241</td><td>2023-07-13T00:00:00</td><td style=\"text-align: right;\">5.10482e-06</td><td style=\"text-align: right;\">         0.0017</td><td>90d          </td><td style=\"text-align: right;\">    40</td><td style=\"text-align: right;\">        147.168 </td><td style=\"text-align: right;\">              256</td><td style=\"text-align: right;\">        200</td><td style=\"text-align: right;\"> 0.00113559</td></tr>\n",
       "<tr><td>TrainLightGCN_bc66c06e</td><td>TERMINATED</td><td>147.96.81.131:1404148</td><td style=\"text-align: right;\">          10</td><td style=\"text-align: right;\">            1</td><td style=\"text-align: right;\">             37</td><td>2023-07-13T00:00:00</td><td style=\"text-align: right;\">0.00398119 </td><td style=\"text-align: right;\">         0.0001</td><td>60d          </td><td style=\"text-align: right;\">    40</td><td style=\"text-align: right;\">         40.9253</td><td style=\"text-align: right;\">             1024</td><td style=\"text-align: right;\">        200</td><td style=\"text-align: right;\"> 0.405226  </td></tr>\n",
       "<tr><td>TrainLightGCN_6dda3503</td><td>TERMINATED</td><td>147.96.81.131:1403098</td><td style=\"text-align: right;\">           9</td><td style=\"text-align: right;\">            3</td><td style=\"text-align: right;\">            500</td><td>2023-07-13T00:00:00</td><td style=\"text-align: right;\">1.59232e-05</td><td style=\"text-align: right;\">         0.0048</td><td>60d          </td><td style=\"text-align: right;\">    40</td><td style=\"text-align: right;\">         55.9781</td><td style=\"text-align: right;\">              512</td><td style=\"text-align: right;\">        200</td><td style=\"text-align: right;\"> 0.00226503</td></tr>\n",
       "<tr><td>TrainLightGCN_9e1d6503</td><td>TERMINATED</td><td>147.96.81.131:1403257</td><td style=\"text-align: right;\">          10</td><td style=\"text-align: right;\">            3</td><td style=\"text-align: right;\">             14</td><td>2023-07-13T00:00:00</td><td style=\"text-align: right;\">0.000409024</td><td style=\"text-align: right;\">         0.001 </td><td>60d          </td><td style=\"text-align: right;\">    40</td><td style=\"text-align: right;\">         34.7421</td><td style=\"text-align: right;\">             1024</td><td style=\"text-align: right;\">        200</td><td style=\"text-align: right;\"> 0.119122  </td></tr>\n",
       "<tr><td>TrainLightGCN_f0f80855</td><td>TERMINATED</td><td>147.96.81.131:1403405</td><td style=\"text-align: right;\">           9</td><td style=\"text-align: right;\">            4</td><td style=\"text-align: right;\">              3</td><td>2023-07-13T00:00:00</td><td style=\"text-align: right;\">0.0013609  </td><td style=\"text-align: right;\">         0.0355</td><td>21d          </td><td style=\"text-align: right;\">    40</td><td style=\"text-align: right;\">         28.8035</td><td style=\"text-align: right;\">              512</td><td style=\"text-align: right;\">        200</td><td style=\"text-align: right;\"> 0.122071  </td></tr>\n",
       "<tr><td>TrainLightGCN_4f042057</td><td>TERMINATED</td><td>147.96.81.131:1402648</td><td style=\"text-align: right;\">           9</td><td style=\"text-align: right;\">            3</td><td style=\"text-align: right;\">            567</td><td>2023-07-13T00:00:00</td><td style=\"text-align: right;\">0.000493071</td><td style=\"text-align: right;\">         0.0011</td><td>60d          </td><td style=\"text-align: right;\">    40</td><td style=\"text-align: right;\">         51.6701</td><td style=\"text-align: right;\">              512</td><td style=\"text-align: right;\">        200</td><td style=\"text-align: right;\"> 0.0287449 </td></tr>\n",
       "<tr><td>TrainLightGCN_f9507a7f</td><td>TERMINATED</td><td>147.96.81.131:1402791</td><td style=\"text-align: right;\">          10</td><td style=\"text-align: right;\">            3</td><td style=\"text-align: right;\">            948</td><td>2023-07-13T00:00:00</td><td style=\"text-align: right;\">0.00412123 </td><td style=\"text-align: right;\">         0.005 </td><td>60d          </td><td style=\"text-align: right;\">    40</td><td style=\"text-align: right;\">         33.8376</td><td style=\"text-align: right;\">             1024</td><td style=\"text-align: right;\">        200</td><td style=\"text-align: right;\"> 0.116709  </td></tr>\n",
       "<tr><td>TrainLightGCN_ddd9f820</td><td>TERMINATED</td><td>147.96.81.131:1402340</td><td style=\"text-align: right;\">           9</td><td style=\"text-align: right;\">            3</td><td style=\"text-align: right;\">            132</td><td>2023-07-13T00:00:00</td><td style=\"text-align: right;\">0.000198039</td><td style=\"text-align: right;\">         0.0008</td><td>30d          </td><td style=\"text-align: right;\">    40</td><td style=\"text-align: right;\">         30.8569</td><td style=\"text-align: right;\">              512</td><td style=\"text-align: right;\">        200</td><td style=\"text-align: right;\"> 0.0365743 </td></tr>\n",
       "<tr><td>TrainLightGCN_50ff7d53</td><td>TERMINATED</td><td>147.96.81.131:1401739</td><td style=\"text-align: right;\">          10</td><td style=\"text-align: right;\">            1</td><td style=\"text-align: right;\">            872</td><td>2023-07-13T00:00:00</td><td style=\"text-align: right;\">0.0078698  </td><td style=\"text-align: right;\">         0.0203</td><td>90d          </td><td style=\"text-align: right;\">    40</td><td style=\"text-align: right;\">         48.7825</td><td style=\"text-align: right;\">             1024</td><td style=\"text-align: right;\">        200</td><td style=\"text-align: right;\"> 0.106903  </td></tr>\n",
       "<tr><td>TrainLightGCN_c8a1564b</td><td>TERMINATED</td><td>147.96.81.131:1402491</td><td style=\"text-align: right;\">          10</td><td style=\"text-align: right;\">            1</td><td style=\"text-align: right;\">             52</td><td>2023-07-13T00:00:00</td><td style=\"text-align: right;\">0.00290914 </td><td style=\"text-align: right;\">         0.0002</td><td>21d          </td><td style=\"text-align: right;\">    40</td><td style=\"text-align: right;\">         24.219 </td><td style=\"text-align: right;\">              763</td><td style=\"text-align: right;\">        200</td><td style=\"text-align: right;\"> 0.198898  </td></tr>\n",
       "<tr><td>TrainLightGCN_6c952f9b</td><td>TERMINATED</td><td>147.96.81.131:1402190</td><td style=\"text-align: right;\">           9</td><td style=\"text-align: right;\">            3</td><td style=\"text-align: right;\">             11</td><td>2023-07-13T00:00:00</td><td style=\"text-align: right;\">1.38732e-05</td><td style=\"text-align: right;\">         0.0001</td><td>21d          </td><td style=\"text-align: right;\">    40</td><td style=\"text-align: right;\">         26.9724</td><td style=\"text-align: right;\">              512</td><td style=\"text-align: right;\">        200</td><td style=\"text-align: right;\"> 0.592087  </td></tr>\n",
       "<tr><td>TrainLightGCN_243178ff</td><td>TERMINATED</td><td>147.96.81.131:1401888</td><td style=\"text-align: right;\">           9</td><td style=\"text-align: right;\">            3</td><td style=\"text-align: right;\">             10</td><td>2023-07-13T00:00:00</td><td style=\"text-align: right;\">1.59049e-07</td><td style=\"text-align: right;\">         0.0003</td><td>30d          </td><td style=\"text-align: right;\">    40</td><td style=\"text-align: right;\">         33.1706</td><td style=\"text-align: right;\">              512</td><td style=\"text-align: right;\">        200</td><td style=\"text-align: right;\"> 0.291378  </td></tr>\n",
       "<tr><td>TrainLightGCN_e63ad852</td><td>TERMINATED</td><td>147.96.81.131:1402039</td><td style=\"text-align: right;\">          10</td><td style=\"text-align: right;\">            1</td><td style=\"text-align: right;\">             61</td><td>2023-07-13T00:00:00</td><td style=\"text-align: right;\">0.00781342 </td><td style=\"text-align: right;\">         0.0005</td><td>30d          </td><td style=\"text-align: right;\">    40</td><td style=\"text-align: right;\">         24.3114</td><td style=\"text-align: right;\">              870</td><td style=\"text-align: right;\">        200</td><td style=\"text-align: right;\"> 0.128932  </td></tr>\n",
       "<tr><td>TrainLightGCN_599844fa</td><td>TERMINATED</td><td>147.96.81.131:1401304</td><td style=\"text-align: right;\">           8</td><td style=\"text-align: right;\">            2</td><td style=\"text-align: right;\">             27</td><td>2023-07-13T00:00:00</td><td style=\"text-align: right;\">3.06006e-05</td><td style=\"text-align: right;\">         0.2056</td><td>30d          </td><td style=\"text-align: right;\">    40</td><td style=\"text-align: right;\">         48.4875</td><td style=\"text-align: right;\">              256</td><td style=\"text-align: right;\">        200</td><td style=\"text-align: right;\"> 0.117213  </td></tr>\n",
       "<tr><td>TrainLightGCN_60f0b465</td><td>TERMINATED</td><td>147.96.81.131:1401590</td><td style=\"text-align: right;\">           9</td><td style=\"text-align: right;\">            2</td><td style=\"text-align: right;\">              3</td><td>2023-07-13T00:00:00</td><td style=\"text-align: right;\">0.00158506 </td><td style=\"text-align: right;\">         0.0001</td><td>30d          </td><td style=\"text-align: right;\">    40</td><td style=\"text-align: right;\">         32.1761</td><td style=\"text-align: right;\">              512</td><td style=\"text-align: right;\">        200</td><td style=\"text-align: right;\"> 0.650404  </td></tr>\n",
       "<tr><td>TrainLightGCN_177dfa58</td><td>TERMINATED</td><td>147.96.81.131:1399420</td><td style=\"text-align: right;\">           7</td><td style=\"text-align: right;\">            2</td><td style=\"text-align: right;\">             34</td><td>2023-07-13T00:00:00</td><td style=\"text-align: right;\">0.0007608  </td><td style=\"text-align: right;\">         0.0091</td><td>60d          </td><td style=\"text-align: right;\">    40</td><td style=\"text-align: right;\">         94.0439</td><td style=\"text-align: right;\">              128</td><td style=\"text-align: right;\">        200</td><td style=\"text-align: right;\"> 0.0256658 </td></tr>\n",
       "<tr><td>TrainLightGCN_1b0d65d6</td><td>TERMINATED</td><td>147.96.81.131:1400868</td><td style=\"text-align: right;\">           9</td><td style=\"text-align: right;\">            3</td><td style=\"text-align: right;\">            447</td><td>2023-07-13T00:00:00</td><td style=\"text-align: right;\">0.000129301</td><td style=\"text-align: right;\">         0.0008</td><td>60d          </td><td style=\"text-align: right;\">    40</td><td style=\"text-align: right;\">         48.1709</td><td style=\"text-align: right;\">              512</td><td style=\"text-align: right;\">        200</td><td style=\"text-align: right;\"> 0.0192892 </td></tr>\n",
       "<tr><td>TrainLightGCN_7400464e</td><td>TERMINATED</td><td>147.96.81.131:1400140</td><td style=\"text-align: right;\">           8</td><td style=\"text-align: right;\">            4</td><td style=\"text-align: right;\">            219</td><td>2023-07-13T00:00:00</td><td style=\"text-align: right;\">0.000261231</td><td style=\"text-align: right;\">         0.095 </td><td>60d          </td><td style=\"text-align: right;\">    40</td><td style=\"text-align: right;\">         67.3717</td><td style=\"text-align: right;\">              256</td><td style=\"text-align: right;\">        200</td><td style=\"text-align: right;\"> 0.138664  </td></tr>\n",
       "<tr><td>TrainLightGCN_f700f911</td><td>TERMINATED</td><td>147.96.81.131:1399564</td><td style=\"text-align: right;\">           6</td><td style=\"text-align: right;\">            2</td><td style=\"text-align: right;\">            217</td><td>2023-07-13T00:00:00</td><td style=\"text-align: right;\">2.53991e-06</td><td style=\"text-align: right;\">         0.4785</td><td>21d          </td><td style=\"text-align: right;\">    40</td><td style=\"text-align: right;\">         80.3729</td><td style=\"text-align: right;\">               64</td><td style=\"text-align: right;\">        200</td><td style=\"text-align: right;\"> 1.18072   </td></tr>\n",
       "<tr><td>TrainLightGCN_fed46721</td><td>TERMINATED</td><td>147.96.81.131:1400577</td><td style=\"text-align: right;\">          10</td><td style=\"text-align: right;\">            2</td><td style=\"text-align: right;\">            364</td><td>2023-07-13T00:00:00</td><td style=\"text-align: right;\">2.08113e-06</td><td style=\"text-align: right;\">         0.0002</td><td>90d          </td><td style=\"text-align: right;\">    40</td><td style=\"text-align: right;\">         46.3019</td><td style=\"text-align: right;\">             1024</td><td style=\"text-align: right;\">        200</td><td style=\"text-align: right;\"> 0.0421364 </td></tr>\n",
       "<tr><td>TrainLightGCN_b119425e</td><td>TERMINATED</td><td>147.96.81.131:1401010</td><td style=\"text-align: right;\">           9</td><td style=\"text-align: right;\">            4</td><td style=\"text-align: right;\">              7</td><td>2023-07-13T00:00:00</td><td style=\"text-align: right;\">2.91903e-06</td><td style=\"text-align: right;\">         0.1593</td><td>21d          </td><td style=\"text-align: right;\">    40</td><td style=\"text-align: right;\">         26.9867</td><td style=\"text-align: right;\">              512</td><td style=\"text-align: right;\">        200</td><td style=\"text-align: right;\"> 0.0322236 </td></tr>\n",
       "<tr><td>TrainLightGCN_04fcc691</td><td>TERMINATED</td><td>147.96.81.131:1400720</td><td style=\"text-align: right;\">           9</td><td style=\"text-align: right;\">            3</td><td style=\"text-align: right;\">             86</td><td>2023-07-13T00:00:00</td><td style=\"text-align: right;\">0.000166749</td><td style=\"text-align: right;\">         0.0002</td><td>30d          </td><td style=\"text-align: right;\">    40</td><td style=\"text-align: right;\">         28.8615</td><td style=\"text-align: right;\">              512</td><td style=\"text-align: right;\">        200</td><td style=\"text-align: right;\"> 0.14693   </td></tr>\n",
       "<tr><td>TrainLightGCN_56a94d25</td><td>TERMINATED</td><td>147.96.81.131:1400433</td><td style=\"text-align: right;\">           8</td><td style=\"text-align: right;\">            2</td><td style=\"text-align: right;\">             96</td><td>2023-07-13T00:00:00</td><td style=\"text-align: right;\">4.92424e-05</td><td style=\"text-align: right;\">         0.0784</td><td>21d          </td><td style=\"text-align: right;\">    40</td><td style=\"text-align: right;\">         33.0703</td><td style=\"text-align: right;\">              256</td><td style=\"text-align: right;\">        200</td><td style=\"text-align: right;\"> 0.0449886 </td></tr>\n",
       "<tr><td>TrainLightGCN_8cbad48c</td><td>TERMINATED</td><td>147.96.81.131:1400283</td><td style=\"text-align: right;\">           9</td><td style=\"text-align: right;\">            2</td><td style=\"text-align: right;\">             26</td><td>2023-07-13T00:00:00</td><td style=\"text-align: right;\">1.42721e-06</td><td style=\"text-align: right;\">         0.6694</td><td>30d          </td><td style=\"text-align: right;\">    40</td><td style=\"text-align: right;\">         25.4167</td><td style=\"text-align: right;\">              512</td><td style=\"text-align: right;\">        200</td><td style=\"text-align: right;\"> 0.301757  </td></tr>\n",
       "<tr><td>TrainLightGCN_28036982</td><td>TERMINATED</td><td>147.96.81.131:1400001</td><td style=\"text-align: right;\">          10</td><td style=\"text-align: right;\">            1</td><td style=\"text-align: right;\">              1</td><td>2023-07-13T00:00:00</td><td style=\"text-align: right;\">0.000699071</td><td style=\"text-align: right;\">         0.0029</td><td>21d          </td><td style=\"text-align: right;\">    40</td><td style=\"text-align: right;\">         19.7552</td><td style=\"text-align: right;\">              763</td><td style=\"text-align: right;\">        200</td><td style=\"text-align: right;\"> 0.395238  </td></tr>\n",
       "<tr><td>TrainLightGCN_a92e9c28</td><td>TERMINATED</td><td>147.96.81.131:1398993</td><td style=\"text-align: right;\">           9</td><td style=\"text-align: right;\">            3</td><td style=\"text-align: right;\">            665</td><td>2023-07-13T00:00:00</td><td style=\"text-align: right;\">2.74456e-05</td><td style=\"text-align: right;\">         0.0092</td><td>90d          </td><td style=\"text-align: right;\">    40</td><td style=\"text-align: right;\">         35.2503</td><td style=\"text-align: right;\">              512</td><td style=\"text-align: right;\">        200</td><td style=\"text-align: right;\"> 0.00362355</td></tr>\n",
       "<tr><td>TrainLightGCN_3f01722a</td><td>TERMINATED</td><td>147.96.81.131:1399277</td><td style=\"text-align: right;\">           9</td><td style=\"text-align: right;\">            2</td><td style=\"text-align: right;\">             86</td><td>2023-07-13T00:00:00</td><td style=\"text-align: right;\">0.00134325 </td><td style=\"text-align: right;\">         0.0006</td><td>21d          </td><td style=\"text-align: right;\">    40</td><td style=\"text-align: right;\">         15.0855</td><td style=\"text-align: right;\">              512</td><td style=\"text-align: right;\">        200</td><td style=\"text-align: right;\"> 0.0612249 </td></tr>\n",
       "</tbody>\n",
       "</table>\n",
       "  </div>\n",
       "</div>\n",
       "<style>\n",
       ".tuneStatus {\n",
       "  color: var(--jp-ui-font-color1);\n",
       "}\n",
       ".tuneStatus .systemInfo {\n",
       "  display: flex;\n",
       "  flex-direction: column;\n",
       "}\n",
       ".tuneStatus td {\n",
       "  white-space: nowrap;\n",
       "}\n",
       ".tuneStatus .trialStatus {\n",
       "  display: flex;\n",
       "  flex-direction: column;\n",
       "}\n",
       ".tuneStatus h3 {\n",
       "  font-weight: bold;\n",
       "}\n",
       ".tuneStatus .hDivider {\n",
       "  border-bottom-width: var(--jp-border-width);\n",
       "  border-bottom-color: var(--jp-border-color0);\n",
       "  border-bottom-style: solid;\n",
       "}\n",
       ".tuneStatus .vDivider {\n",
       "  border-left-width: var(--jp-border-width);\n",
       "  border-left-color: var(--jp-border-color0);\n",
       "  border-left-style: solid;\n",
       "  margin: 0.5em 1em 0.5em 1em;\n",
       "}\n",
       "</style>\n"
      ],
      "text/plain": [
       "<IPython.core.display.HTML object>"
      ]
     },
     "metadata": {},
     "output_type": "display_data"
    },
    {
     "name": "stderr",
     "output_type": "stream",
     "text": [
      "2024-09-04 17:19:36,451\tINFO tune_controller.py:444 -- Restoring the run from the latest experiment state file: experiment_state-2024-09-04_17-19-35.json\n",
      "2024-09-04 17:19:37,291\tINFO tune.py:1009 -- Wrote the latest version of all result files and experiment state to '/home/daviddavo/ray_results3.11/Decentraland/LightGCN_W-THU_normalize_map@10_fold=2023-07-13T00:00:00_2024-07-02T17:36:46.388728' in 0.3795s.\n",
      "2024-09-04 17:19:37,304\tINFO tune.py:1041 -- Total run time: 0.86 seconds (0.00 seconds for the tuning loop).\n"
     ]
    },
    {
     "name": "stdout",
     "output_type": "stream",
     "text": [
      "Finished training for fold 2023-07-13T00:00:00\n"
     ]
    }
   ],
   "source": [
    "import logging\n",
    "import requests\n",
    "\n",
    "def findConfig(rg):\n",
    "    for r in rg:\n",
    "        if r.config:\n",
    "            lbrc = last_best_result.config\n",
    "            if all((r.config[k] == v for k, v in last_best_result.config.items() if k != 'fold')):\n",
    "                return r\n",
    "            elif all((r.config[k] == v for k, v in last_best_result.config.items() if k != 'fold' and k != 'window_size')):\n",
    "                print(\"Possible coincidence:\", r.config, file=sys.stderr)\n",
    "\n",
    "    return None\n",
    "\n",
    "tuners = []\n",
    "results = []\n",
    "last_best_result = None\n",
    "pbar.reset()\n",
    "\n",
    "last_best_fold = None\n",
    "requests.post(\"https://ntfy.sh/grasia_notebooks\", data=f\"Start running microsoft_tuning for {ORG_NAME}\")\n",
    "for i, (prev_f_idx, f_idx) in enumerate(zip(it.chain([None], use_folds_idx), use_folds_idx)):\n",
    "    try:\n",
    "        with out:\n",
    "            best_prev_config = None\n",
    "            if last_best_result is not None:\n",
    "                best_prev_config = last_best_result.config.copy()\n",
    "                assert best_prev_config['fold'] == prev_f_idx\n",
    "                best_prev_config['fold'] = f_idx\n",
    "                print(f\"Also evaluating best_prev_config ({OPTIM_METRIC}={last_best_result.metrics[OPTIM_METRIC]}): {best_prev_config}\")\n",
    "                best_prev_config = [best_prev_config]\n",
    "        \n",
    "        t = getTunerOnFold(f_idx, best_prev_config)\n",
    "        tuners.append(t)\n",
    "    \n",
    "        rg = t.fit()\n",
    "        \n",
    "        # FIXME: load results from disk until ray-project/ray#47358 is solved\n",
    "        # https://github.com/ray-project/ray/issues/47358\n",
    "        t = getTunerOnFold(f_idx, best_prev_config)\n",
    "        tuners[-1] = t\n",
    "        rg = t.fit()\n",
    "    \n",
    "        assert rg.num_errors == 0, f\"There are {rg.num_errors} errors\"\n",
    "        assert rg.num_terminated >= NUM_SAMPLES, f'Some samples are not terminated ({rg.num_terminated} != {NUM_SAMPLES})'\n",
    "        assert len(rg.get_dataframe()) >= NUM_SAMPLES\n",
    "        results.append(rg)\n",
    "    \n",
    "        # Assert that the prev config has been tried\n",
    "        if last_best_result is not None:\n",
    "            # if not any( \n",
    "            #     all((r.config[k] == v for k, v in last_best_result.config.items() if k != 'fold'))\n",
    "            #     for r in rg if r.config\n",
    "            # ):\n",
    "            if not findConfig(rg):\n",
    "                print(\"Best config:\", last_best_result.config)\n",
    "                assert False, f\"The best config from previous fold has not been tested in fold {f_idx}\"    \n",
    "            else:\n",
    "                logging.info(f'Fold {f_idx}. Best prev result was {last_best_result.path} and config has been found {findConfig(rg).path}')\n",
    "        \n",
    "        last_best_result = rg.get_best_result()\n",
    "        pbar.update()\n",
    "    \n",
    "        print(f\"Finished training for fold {f_idx}\")\n",
    "        requests.post(\"https://ntfy.sh/grasia_notebooks\", data=f\"Finished running fold {i} for {ORG_NAME}\")\n",
    "    except Exception as e:\n",
    "        requests.post(\"https://ntfy.sh/grasia_notebooks\", data=f\"Error on fold {i} for {ORG_NAME}: {repr(e)}\")\n",
    "        raise\n",
    "\n",
    "pbar.close()"
   ]
  },
  {
   "cell_type": "code",
   "execution_count": 23,
   "id": "a542cc15",
   "metadata": {
    "editable": true,
    "papermill": {
     "duration": null,
     "end_time": null,
     "exception": null,
     "start_time": null,
     "status": "completed"
    },
    "slideshow": {
     "slide_type": ""
    },
    "tags": []
   },
   "outputs": [
    {
     "name": "stdout",
     "output_type": "stream",
     "text": [
      "Finished!\n"
     ]
    }
   ],
   "source": [
    "requests.post(\"https://ntfy.sh/grasia_notebooks\", data=f\"Finished running everything for {ORG_NAME}\")\n",
    "print(\"Finished!\")"
   ]
  }
 ],
 "metadata": {
  "kernelspec": {
   "display_name": "Python 3 (ipykernel)",
   "language": "python",
   "name": "python3"
  },
  "language_info": {
   "codemirror_mode": {
    "name": "ipython",
    "version": 3
   },
   "file_extension": ".py",
   "mimetype": "text/x-python",
   "name": "python",
   "nbconvert_exporter": "python",
   "pygments_lexer": "ipython3",
   "version": "3.11.6"
  },
  "papermill": {
   "default_parameters": {},
   "duration": 178.186946,
   "end_time": "2024-09-04T17:18:42.620270",
   "environment_variables": {},
   "exception": null,
   "input_path": "20_microsoft_tuning.ipynb",
   "output_path": "../nbout/Decentraland/20_microsoft_tuning.ipynb",
   "parameters": {
    "EXECUTION_ID": "2024-09-04T10:00",
    "LAST_FOLDS": 10,
    "LAST_FOLD_DATE_STR": "2023-07-13",
    "ORG_NAME": "Decentraland",
    "SPLITS_FREQ": "W-THU",
    "SPLITS_NORMALIZE": true
   },
   "start_time": "2024-09-04T17:15:44.433324",
   "version": "2.6.0"
  },
  "widgets": {
   "application/vnd.jupyter.widget-state+json": {
    "state": {},
    "version_major": 2,
    "version_minor": 0
   }
  }
 },
 "nbformat": 4,
 "nbformat_minor": 5
}
