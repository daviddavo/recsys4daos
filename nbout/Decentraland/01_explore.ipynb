{
 "cells": [
  {
   "cell_type": "code",
   "execution_count": 1,
   "id": "640054cf-a577-4483-9273-e1e1f8dc7798",
   "metadata": {
    "execution": {
     "iopub.execute_input": "2024-07-01T17:29:00.350268Z",
     "iopub.status.busy": "2024-07-01T17:29:00.350011Z",
     "iopub.status.idle": "2024-07-01T17:29:01.514968Z",
     "shell.execute_reply": "2024-07-01T17:29:01.514534Z"
    },
    "papermill": {
     "duration": 1.170567,
     "end_time": "2024-07-01T17:29:01.516154",
     "exception": false,
     "start_time": "2024-07-01T17:29:00.345587",
     "status": "completed"
    },
    "tags": []
   },
   "outputs": [
    {
     "name": "stdout",
     "output_type": "stream",
     "text": [
      "Original size: [6.4, 4.8], Ratio: 1.3333333333333335\n",
      "New size: [3.5, 2.6249999999999996]\n"
     ]
    }
   ],
   "source": [
    "import datetime as dt\n",
    "\n",
    "import pandas as pd\n",
    "import numpy as np\n",
    "\n",
    "import matplotlib.pyplot as plt\n",
    "%matplotlib inline\n",
    "import seaborn as sns\n",
    "\n",
    "from recsys4daos.utils import notebooks as nbutils\n",
    "import paths\n",
    "\n",
    "sns.set_theme(rc = {\n",
    "})\n",
    "sns.set_context(\"paper\")\n",
    "\n",
    "# Paper column width in inches\n",
    "PAPER_COL_WIDTH = 3.5\n",
    "\n",
    "original = plt.rcParamsDefault['figure.figsize']\n",
    "ratio = original[0] / original[1]\n",
    "print(f\"Original size: {original}, Ratio: {ratio}\")\n",
    "plt.rcParams['figure.figsize'] = (PAPER_COL_WIDTH, PAPER_COL_WIDTH/ratio)\n",
    "print(\"New size:\", plt.rcParams['figure.figsize'])\n",
    "\n",
    "# In acmart, 9pt is the default\n",
    "# And 7pt for \\footnotesize\n",
    "# plt.rcParams['font.size'] = 7,\n",
    "\n",
    "# The following are already relatively defined\n",
    "# plt.rcParams['xtick.labelsize'] = plt.rcParams['ytick.labelsize'] = plt.rcParams['axes.labelsize'] = plt.rcParams['font.size']"
   ]
  },
  {
   "cell_type": "code",
   "execution_count": 2,
   "id": "c7f5ba70-4851-4988-bf55-e0f59bfac4fa",
   "metadata": {
    "editable": true,
    "execution": {
     "iopub.execute_input": "2024-07-01T17:29:01.524889Z",
     "iopub.status.busy": "2024-07-01T17:29:01.524547Z",
     "iopub.status.idle": "2024-07-01T17:29:01.527250Z",
     "shell.execute_reply": "2024-07-01T17:29:01.526888Z"
    },
    "papermill": {
     "duration": 0.008037,
     "end_time": "2024-07-01T17:29:01.528306",
     "exception": false,
     "start_time": "2024-07-01T17:29:01.520269",
     "status": "completed"
    },
    "slideshow": {
     "slide_type": ""
    },
    "tags": [
     "parameters"
    ]
   },
   "outputs": [],
   "source": [
    "ORG_NAME = 'Decentraland'\n",
    "SPLITS_FREQ: str = None # Not used in this notebook\n",
    "SPLITS_NORMALIZE: bool = None # Not used in this notebook\n",
    "LAST_FOLDS: int = 0 # Not used in this notebook"
   ]
  },
  {
   "cell_type": "code",
   "execution_count": 3,
   "id": "4189d071",
   "metadata": {
    "execution": {
     "iopub.execute_input": "2024-07-01T17:29:01.535922Z",
     "iopub.status.busy": "2024-07-01T17:29:01.535617Z",
     "iopub.status.idle": "2024-07-01T17:29:01.538044Z",
     "shell.execute_reply": "2024-07-01T17:29:01.537691Z"
    },
    "papermill": {
     "duration": 0.007484,
     "end_time": "2024-07-01T17:29:01.539069",
     "exception": false,
     "start_time": "2024-07-01T17:29:01.531585",
     "status": "completed"
    },
    "tags": [
     "injected-parameters"
    ]
   },
   "outputs": [],
   "source": [
    "# Parameters\n",
    "EXECUTION_ID = \"2024-07-01\"\n",
    "ORG_NAME = \"Decentraland\"\n",
    "SPLITS_FREQ = \"W-THU\"\n",
    "LAST_FOLDS = 10\n",
    "SPLITS_NORMALIZE = True\n"
   ]
  },
  {
   "cell_type": "code",
   "execution_count": 4,
   "id": "1291b8e7-03c8-48ad-b732-9f66a9ef4ff3",
   "metadata": {
    "execution": {
     "iopub.execute_input": "2024-07-01T17:29:01.546526Z",
     "iopub.status.busy": "2024-07-01T17:29:01.546219Z",
     "iopub.status.idle": "2024-07-01T17:29:01.647057Z",
     "shell.execute_reply": "2024-07-01T17:29:01.646630Z"
    },
    "papermill": {
     "duration": 0.105812,
     "end_time": "2024-07-01T17:29:01.648159",
     "exception": false,
     "start_time": "2024-07-01T17:29:01.542347",
     "status": "completed"
    },
    "tags": []
   },
   "outputs": [
    {
     "name": "stdout",
     "output_type": "stream",
     "text": [
      "<class 'pandas.core.frame.DataFrame'>\n",
      "RangeIndex: 2213 entries, 0 to 2212\n",
      "Data columns (total 6 columns):\n",
      " #   Column             Non-Null Count  Dtype         \n",
      "---  ------             --------------  -----         \n",
      " 0   id                 2213 non-null   object        \n",
      " 1   author             2213 non-null   object        \n",
      " 2   date               2213 non-null   datetime64[us]\n",
      " 3   start              2213 non-null   datetime64[us]\n",
      " 4   end                2213 non-null   datetime64[us]\n",
      " 5   platform_proposal  2213 non-null   object        \n",
      "dtypes: datetime64[us](3), object(3)\n",
      "memory usage: 103.9+ KB\n",
      "None\n",
      "<class 'pandas.core.frame.DataFrame'>\n",
      "RangeIndex: 116560 entries, 0 to 116559\n",
      "Data columns (total 4 columns):\n",
      " #   Column    Non-Null Count   Dtype         \n",
      "---  ------    --------------   -----         \n",
      " 0   id        116560 non-null  object        \n",
      " 1   proposal  116560 non-null  object        \n",
      " 2   voter     116560 non-null  object        \n",
      " 3   date      116560 non-null  datetime64[us]\n",
      "dtypes: datetime64[us](1), object(3)\n",
      "memory usage: 3.6+ MB\n",
      "None\n"
     ]
    }
   ],
   "source": [
    "dfp = paths.load_proposals(ORG_NAME)\n",
    "dfv = paths.load_votes(ORG_NAME)\n",
    "\n",
    "print(dfp.info())\n",
    "print(dfv.info())"
   ]
  },
  {
   "cell_type": "markdown",
   "id": "68ea9409-3b8c-4dfe-9c5d-4e89db8fd928",
   "metadata": {
    "papermill": {
     "duration": 0.003851,
     "end_time": "2024-07-01T17:29:01.656057",
     "exception": false,
     "start_time": "2024-07-01T17:29:01.652206",
     "status": "completed"
    },
    "tags": []
   },
   "source": [
    "## Proposals and time\n",
    "\n",
    "### How much time does each proposal take"
   ]
  },
  {
   "cell_type": "code",
   "execution_count": 5,
   "id": "a3ac7db5-d190-4ac5-8504-76a5c3eea938",
   "metadata": {
    "execution": {
     "iopub.execute_input": "2024-07-01T17:29:01.663716Z",
     "iopub.status.busy": "2024-07-01T17:29:01.663490Z",
     "iopub.status.idle": "2024-07-01T17:29:01.823095Z",
     "shell.execute_reply": "2024-07-01T17:29:01.822622Z"
    },
    "papermill": {
     "duration": 0.164804,
     "end_time": "2024-07-01T17:29:01.824232",
     "exception": false,
     "start_time": "2024-07-01T17:29:01.659428",
     "status": "completed"
    },
    "tags": []
   },
   "outputs": [
    {
     "name": "stdout",
     "output_type": "stream",
     "text": [
      "7 days     1327\n",
      "14 days     473\n",
      "5 days      391\n",
      "10 days      17\n",
      "28 days       5\n",
      "Name: count, dtype: int64\n",
      "7 days     0.599638\n",
      "14 days    0.213737\n",
      "5 days     0.176683\n",
      "10 days    0.007682\n",
      "28 days    0.002259\n",
      "Name: count, dtype: float64\n"
     ]
    },
    {
     "data": {
      "text/plain": [
       "count                      2213\n",
       "mean     8 days 05:07:07.835517\n",
       "std      3 days 06:47:32.369224\n",
       "min             5 days 00:00:00\n",
       "25%             7 days 00:00:00\n",
       "50%             7 days 00:00:00\n",
       "75%             7 days 00:00:00\n",
       "max            28 days 00:00:00\n",
       "dtype: object"
      ]
     },
     "execution_count": 5,
     "metadata": {},
     "output_type": "execute_result"
    },
    {
     "data": {
      "image/png": "[encoded data removed]",
      "text/plain": [
       "<Figure size 350x262.5 with 1 Axes>"
      ]
     },
     "metadata": {},
     "output_type": "display_data"
    }
   ],
   "source": [
    "# Original: Cell [5] at https://github.com/daviddavo/upm-tfm-notebooks/blob/bb2e45d4ec10962c987b6691fcb0cd4eeba7ea5b/10_baseline_mp.ipynb\n",
    "\n",
    "delta = dfp['end'] - dfp['start']\n",
    "delta.dt.days.hist(bins=14)\n",
    "print(vc := delta.value_counts())\n",
    "print(vc / len(delta))\n",
    "delta.describe()"
   ]
  },
  {
   "cell_type": "markdown",
   "id": "e97489b7-f833-402c-a33c-8024a9540a1a",
   "metadata": {
    "execution": {
     "iopub.execute_input": "2024-03-20T19:22:14.246302Z",
     "iopub.status.busy": "2024-03-20T19:22:14.245740Z",
     "iopub.status.idle": "2024-03-20T19:22:14.252344Z",
     "shell.execute_reply": "2024-03-20T19:22:14.251090Z",
     "shell.execute_reply.started": "2024-03-20T19:22:14.246252Z"
    },
    "papermill": {
     "duration": 0.004053,
     "end_time": "2024-07-01T17:29:01.832723",
     "exception": false,
     "start_time": "2024-07-01T17:29:01.828670",
     "status": "completed"
    },
    "tags": []
   },
   "source": [
    "#### Avg. proposal length in time"
   ]
  },
  {
   "cell_type": "code",
   "execution_count": 6,
   "id": "f619deb2-cf32-4e32-b125-c6d67b3acf87",
   "metadata": {
    "execution": {
     "iopub.execute_input": "2024-07-01T17:29:01.841033Z",
     "iopub.status.busy": "2024-07-01T17:29:01.840806Z",
     "iopub.status.idle": "2024-07-01T17:29:02.132428Z",
     "shell.execute_reply": "2024-07-01T17:29:02.132007Z"
    },
    "papermill": {
     "duration": 0.297165,
     "end_time": "2024-07-01T17:29:02.133603",
     "exception": false,
     "start_time": "2024-07-01T17:29:01.836438",
     "status": "completed"
    },
    "tags": []
   },
   "outputs": [
    {
     "data": {
      "text/plain": [
       "<Axes: xlabel='date'>"
      ]
     },
     "execution_count": 6,
     "metadata": {},
     "output_type": "execute_result"
    },
    {
     "data": {
      "image/png": "[encoded data removed]",
      "text/plain": [
       "<Figure size 350x262.5 with 1 Axes>"
      ]
     },
     "metadata": {},
     "output_type": "display_data"
    }
   ],
   "source": [
    "# Original: Cell [6] at https://github.com/daviddavo/upm-tfm-notebooks/blob/bb2e45d4ec10962c987b6691fcb0cd4eeba7ea5b/10_baseline_mp.ipynb\n",
    "ROLLING_LENGTH = '7d'\n",
    "\n",
    "_delta = dfp.assign(delta=delta).set_index('date').sort_index()['delta'].dt.days\n",
    "_delta.rolling(ROLLING_LENGTH).mean().plot()"
   ]
  },
  {
   "cell_type": "markdown",
   "id": "c481585c-8a02-4b48-b5c9-f9c0ed9e9c0c",
   "metadata": {
    "papermill": {
     "duration": 0.004355,
     "end_time": "2024-07-01T17:29:02.143401",
     "exception": false,
     "start_time": "2024-07-01T17:29:02.139046",
     "status": "completed"
    },
    "tags": []
   },
   "source": [
    "## How many proposals are created per week"
   ]
  },
  {
   "cell_type": "code",
   "execution_count": 7,
   "id": "b4559c9e-999a-45bc-bfe4-7997b5d71b76",
   "metadata": {
    "execution": {
     "iopub.execute_input": "2024-07-01T17:29:02.152765Z",
     "iopub.status.busy": "2024-07-01T17:29:02.152368Z",
     "iopub.status.idle": "2024-07-01T17:29:02.426370Z",
     "shell.execute_reply": "2024-07-01T17:29:02.425872Z"
    },
    "papermill": {
     "duration": 0.28008,
     "end_time": "2024-07-01T17:29:02.427513",
     "exception": false,
     "start_time": "2024-07-01T17:29:02.147433",
     "status": "completed"
    },
    "tags": []
   },
   "outputs": [
    {
     "data": {
      "text/plain": [
       "<Figure size 350x262.5 with 0 Axes>"
      ]
     },
     "metadata": {},
     "output_type": "display_data"
    },
    {
     "data": {
      "image/png": "[encoded data removed]",
      "text/plain": [
       "<Figure size 700x157.5 with 1 Axes>"
      ]
     },
     "metadata": {},
     "output_type": "display_data"
    }
   ],
   "source": [
    "WINDOW_SIZE = dt.timedelta(days=7)\n",
    "\n",
    "_toplot = dfv.groupby('proposal')['date'].min().sort_values()\n",
    "_toplot = _toplot.to_frame()\n",
    "_toplot['cnt'] = 1\n",
    "_toplot = _toplot.rolling(window=WINDOW_SIZE, on='date').count()\n",
    "\n",
    "# Double the width of the figure\n",
    "fs = plt.gcf().get_size_inches()\n",
    "plt.figure(figsize=fs * (2,.6))\n",
    "# _toplot.set_index('date')['cnt'].plot()\n",
    "ax = sns.lineplot(_toplot.set_index('date')['cnt'])\n",
    "\n",
    "plt.xlabel('')\n",
    "plt.ylabel('# propuestas')\n",
    "plt.xlim(\n",
    "    _toplot['date'].min(),\n",
    "    _toplot['date'].max(),\n",
    ")\n",
    "\n",
    "sns.despine()"
   ]
  },
  {
   "cell_type": "markdown",
   "id": "e356b832-bd11-4913-af31-5c630af68511",
   "metadata": {
    "papermill": {
     "duration": 0.004713,
     "end_time": "2024-07-01T17:29:02.437321",
     "exception": false,
     "start_time": "2024-07-01T17:29:02.432608",
     "status": "completed"
    },
    "tags": []
   },
   "source": [
    "## What day of the week are proposals created"
   ]
  },
  {
   "cell_type": "code",
   "execution_count": 8,
   "id": "9c02d601-3d7a-4f7f-9c86-a6f85d4fe7ad",
   "metadata": {
    "execution": {
     "iopub.execute_input": "2024-07-01T17:29:02.447135Z",
     "iopub.status.busy": "2024-07-01T17:29:02.446895Z",
     "iopub.status.idle": "2024-07-01T17:29:03.079826Z",
     "shell.execute_reply": "2024-07-01T17:29:03.079351Z"
    },
    "papermill": {
     "duration": 0.63924,
     "end_time": "2024-07-01T17:29:03.081049",
     "exception": false,
     "start_time": "2024-07-01T17:29:02.441809",
     "status": "completed"
    },
    "tags": []
   },
   "outputs": [
    {
     "name": "stdout",
     "output_type": "stream",
     "text": [
      "start\n",
      "Tuesday      386\n",
      "Monday       385\n",
      "Wednesday    366\n",
      "Thursday     338\n",
      "Friday       283\n",
      "Saturday     233\n",
      "Sunday       222\n",
      "Name: count, dtype: int64\n"
     ]
    },
    {
     "name": "stderr",
     "output_type": "stream",
     "text": [
      "/tmp/ipykernel_1056811/3307774390.py:9: UserWarning: set_ticklabels() should only be used with a fixed number of ticks, i.e. after set_ticks() or using a FixedLocator.\n",
      "  ax.set_xticklabels(DAYS_OF_WEEK_ENG, rotation=30, ha='right')\n"
     ]
    },
    {
     "data": {
      "application/vnd.jupyter.widget-view+json": {
       "model_id": "e9ab8a5c6bc247a6887bc9347d499e22",
       "version_major": 2,
       "version_minor": 0
      },
      "text/html": [
       "Cannot show widget. You probably want to rerun the code cell above (<i>Click in the code cell, and press Shift+Enter <kbd>⇧</kbd>+<kbd>↩</kbd></i>)."
      ],
      "text/plain": [
       "Cannot show ipywidgets in text"
      ]
     },
     "metadata": {},
     "output_type": "display_data"
    },
    {
     "data": {
      "image/png": "[encoded data removed]",
      "text/plain": [
       "<Figure size 350x262.5 with 1 Axes>"
      ]
     },
     "metadata": {},
     "output_type": "display_data"
    }
   ],
   "source": [
    "# Original: Cell [7] at https://github.com/daviddavo/upm-tfm-notebooks/blob/bb2e45d4ec10962c987b6691fcb0cd4eeba7ea5b/10_baseline_mp.ipynb\n",
    "DAYS_OF_WEEK_ENG = ['Monday', 'Tuesday', 'Wednesday', 'Thursday', 'Friday', 'Saturday', 'Sunday']\n",
    "\n",
    "ax = sns.countplot(x=dfp['start'].dt.day_name(), order=DAYS_OF_WEEK_ENG)\n",
    "# ax.set_title(f'Número de propuestas por día de la semana en {ORG_NAME}')\n",
    "print(dfp['start'].dt.day_name().value_counts())\n",
    "ax.set_xlabel('')\n",
    "ax.set_ylabel('# proposals')\n",
    "ax.set_xticklabels(DAYS_OF_WEEK_ENG, rotation=30, ha='right')\n",
    "\n",
    "# Updates\n",
    "ax.set_ylabel('')\n",
    "\n",
    "nbutils.download_matplotlib(ax.figure, 'proposals_dow.pdf')"
   ]
  },
  {
   "cell_type": "markdown",
   "id": "38dc62ae-b8b7-451a-9ab2-18b211d89ec3",
   "metadata": {
    "papermill": {
     "duration": 0.005232,
     "end_time": "2024-07-01T17:29:03.091883",
     "exception": false,
     "start_time": "2024-07-01T17:29:03.086651",
     "status": "completed"
    },
    "tags": []
   },
   "source": [
    "## What day of the week are proposals voted"
   ]
  },
  {
   "cell_type": "code",
   "execution_count": 9,
   "id": "39967821-9f6e-4426-b896-e3898b27b334",
   "metadata": {
    "execution": {
     "iopub.execute_input": "2024-07-01T17:29:03.102694Z",
     "iopub.status.busy": "2024-07-01T17:29:03.102463Z",
     "iopub.status.idle": "2024-07-01T17:29:03.362236Z",
     "shell.execute_reply": "2024-07-01T17:29:03.361960Z"
    },
    "papermill": {
     "duration": 0.266329,
     "end_time": "2024-07-01T17:29:03.363205",
     "exception": false,
     "start_time": "2024-07-01T17:29:03.096876",
     "status": "completed"
    },
    "tags": []
   },
   "outputs": [
    {
     "name": "stdout",
     "output_type": "stream",
     "text": [
      "date\n",
      "Tuesday      17573\n",
      "Friday       17101\n",
      "Monday       17059\n",
      "Thursday     16952\n",
      "Wednesday    16784\n",
      "Saturday     16496\n",
      "Sunday       14595\n",
      "Name: count, dtype: int64\n"
     ]
    },
    {
     "name": "stderr",
     "output_type": "stream",
     "text": [
      "/tmp/ipykernel_1056811/3643726510.py:6: UserWarning: set_ticklabels() should only be used with a fixed number of ticks, i.e. after set_ticks() or using a FixedLocator.\n",
      "  ax.set_xticklabels(DAYS_OF_WEEK_ENG, rotation=30, ha='right')\n"
     ]
    },
    {
     "data": {
      "application/vnd.jupyter.widget-view+json": {
       "model_id": "f22538dfb3d04bdca7a1f9fdc89e80fd",
       "version_major": 2,
       "version_minor": 0
      },
      "text/html": [
       "Cannot show widget. You probably want to rerun the code cell above (<i>Click in the code cell, and press Shift+Enter <kbd>⇧</kbd>+<kbd>↩</kbd></i>)."
      ],
      "text/plain": [
       "Cannot show ipywidgets in text"
      ]
     },
     "metadata": {},
     "output_type": "display_data"
    },
    {
     "data": {
      "image/png": "[encoded data removed]",
      "text/plain": [
       "<Figure size 350x262.5 with 1 Axes>"
      ]
     },
     "metadata": {},
     "output_type": "display_data"
    }
   ],
   "source": [
    "ax = sns.countplot(x=dfv['date'].dt.day_name(), order=DAYS_OF_WEEK_ENG)\n",
    "# ax.set_title(f'Número de propuestas por día de la semana en {ORG_NAME}')\n",
    "print(dfv['date'].dt.day_name().value_counts())\n",
    "ax.set_xlabel('')\n",
    "ax.set_ylabel('# votes')\n",
    "ax.set_xticklabels(DAYS_OF_WEEK_ENG, rotation=30, ha='right')\n",
    "\n",
    "# Updates\n",
    "ax.set_ylabel('')\n",
    "\n",
    "nbutils.download_matplotlib(ax.figure, \"votes_dow.pdf\")"
   ]
  },
  {
   "cell_type": "markdown",
   "id": "8ec0e029-2f9d-47a1-9b1a-d86e29bbe513",
   "metadata": {
    "papermill": {
     "duration": 0.005651,
     "end_time": "2024-07-01T17:29:03.374931",
     "exception": false,
     "start_time": "2024-07-01T17:29:03.369280",
     "status": "completed"
    },
    "tags": []
   },
   "source": [
    "## In which moment of the proposal lifetime are votes cast"
   ]
  },
  {
   "cell_type": "code",
   "execution_count": 10,
   "id": "75803459-86cf-42b8-bc4a-83e2e673a824",
   "metadata": {
    "execution": {
     "iopub.execute_input": "2024-07-01T17:29:03.386542Z",
     "iopub.status.busy": "2024-07-01T17:29:03.386378Z",
     "iopub.status.idle": "2024-07-01T17:29:03.984630Z",
     "shell.execute_reply": "2024-07-01T17:29:03.984221Z"
    },
    "papermill": {
     "duration": 0.605264,
     "end_time": "2024-07-01T17:29:03.985749",
     "exception": false,
     "start_time": "2024-07-01T17:29:03.380485",
     "status": "completed"
    },
    "tags": []
   },
   "outputs": [
    {
     "data": {
      "text/html": [
       "<div>\n",
       "<style scoped>\n",
       "    .dataframe tbody tr th:only-of-type {\n",
       "        vertical-align: middle;\n",
       "    }\n",
       "\n",
       "    .dataframe tbody tr th {\n",
       "        vertical-align: top;\n",
       "    }\n",
       "\n",
       "    .dataframe thead tr th {\n",
       "        text-align: left;\n",
       "    }\n",
       "\n",
       "    .dataframe thead tr:last-of-type th {\n",
       "        text-align: right;\n",
       "    }\n",
       "</style>\n",
       "<table border=\"1\" class=\"dataframe\">\n",
       "  <thead>\n",
       "    <tr>\n",
       "      <th></th>\n",
       "      <th colspan=\"8\" halign=\"left\">time remaining</th>\n",
       "    </tr>\n",
       "    <tr>\n",
       "      <th></th>\n",
       "      <th>count</th>\n",
       "      <th>mean</th>\n",
       "      <th>std</th>\n",
       "      <th>min</th>\n",
       "      <th>25%</th>\n",
       "      <th>50%</th>\n",
       "      <th>75%</th>\n",
       "      <th>max</th>\n",
       "    </tr>\n",
       "    <tr>\n",
       "      <th>delta</th>\n",
       "      <th></th>\n",
       "      <th></th>\n",
       "      <th></th>\n",
       "      <th></th>\n",
       "      <th></th>\n",
       "      <th></th>\n",
       "      <th></th>\n",
       "      <th></th>\n",
       "    </tr>\n",
       "  </thead>\n",
       "  <tbody>\n",
       "    <tr>\n",
       "      <th>10 days</th>\n",
       "      <td>346.0</td>\n",
       "      <td>0.693311</td>\n",
       "      <td>0.297104</td>\n",
       "      <td>0.000860</td>\n",
       "      <td>0.518275</td>\n",
       "      <td>0.805131</td>\n",
       "      <td>0.945914</td>\n",
       "      <td>0.999681</td>\n",
       "    </tr>\n",
       "    <tr>\n",
       "      <th>14 days</th>\n",
       "      <td>38358.0</td>\n",
       "      <td>0.743704</td>\n",
       "      <td>0.275562</td>\n",
       "      <td>0.000007</td>\n",
       "      <td>0.602668</td>\n",
       "      <td>0.862094</td>\n",
       "      <td>0.957256</td>\n",
       "      <td>0.999992</td>\n",
       "    </tr>\n",
       "    <tr>\n",
       "      <th>5 days</th>\n",
       "      <td>25446.0</td>\n",
       "      <td>0.681070</td>\n",
       "      <td>0.282013</td>\n",
       "      <td>0.000028</td>\n",
       "      <td>0.486466</td>\n",
       "      <td>0.779140</td>\n",
       "      <td>0.913594</td>\n",
       "      <td>0.999963</td>\n",
       "    </tr>\n",
       "    <tr>\n",
       "      <th>7 days</th>\n",
       "      <td>52410.0</td>\n",
       "      <td>0.710870</td>\n",
       "      <td>0.278719</td>\n",
       "      <td>0.000017</td>\n",
       "      <td>0.545402</td>\n",
       "      <td>0.817386</td>\n",
       "      <td>0.935893</td>\n",
       "      <td>0.999985</td>\n",
       "    </tr>\n",
       "  </tbody>\n",
       "</table>\n",
       "</div>"
      ],
      "text/plain": [
       "        time remaining                                                    \\\n",
       "                 count      mean       std       min       25%       50%   \n",
       "delta                                                                      \n",
       "10 days          346.0  0.693311  0.297104  0.000860  0.518275  0.805131   \n",
       "14 days        38358.0  0.743704  0.275562  0.000007  0.602668  0.862094   \n",
       "5 days         25446.0  0.681070  0.282013  0.000028  0.486466  0.779140   \n",
       "7 days         52410.0  0.710870  0.278719  0.000017  0.545402  0.817386   \n",
       "\n",
       "                             \n",
       "              75%       max  \n",
       "delta                        \n",
       "10 days  0.945914  0.999681  \n",
       "14 days  0.957256  0.999992  \n",
       "5 days   0.913594  0.999963  \n",
       "7 days   0.935893  0.999985  "
      ]
     },
     "metadata": {},
     "output_type": "display_data"
    },
    {
     "name": "stdout",
     "output_type": "stream",
     "text": [
      "52151 (44.74%) of the votes are being cast on the first 14.29% of rel time\n",
      "109658 (94.08%) of the votes are being cast on the first 85.71% of rel time\n"
     ]
    },
    {
     "data": {
      "application/vnd.jupyter.widget-view+json": {
       "model_id": "043ac9c82d494a4eb0545a94aaebab1e",
       "version_major": 2,
       "version_minor": 0
      },
      "text/html": [
       "Cannot show widget. You probably want to rerun the code cell above (<i>Click in the code cell, and press Shift+Enter <kbd>⇧</kbd>+<kbd>↩</kbd></i>)."
      ],
      "text/plain": [
       "Cannot show ipywidgets in text"
      ]
     },
     "metadata": {},
     "output_type": "display_data"
    },
    {
     "data": {
      "image/png": "[encoded data removed]",
      "text/plain": [
       "<Figure size 592.375x500 with 1 Axes>"
      ]
     },
     "metadata": {},
     "output_type": "display_data"
    }
   ],
   "source": [
    "from matplotlib import ticker\n",
    "\n",
    "PLOT_HUE = True\n",
    "\n",
    "_dfv = dfv[['proposal', 'date']].merge(dfp[['id', 'start', 'end']], left_on='proposal', right_on='id').sort_values('date')\n",
    "_dfv['date_rel'] = (_dfv['date'] - _dfv['start']) / (_dfv['end'] - _dfv['start'])\n",
    "_dfv['delta'] = (_dfv['end'] - _dfv['start']).astype(str)\n",
    "_dfv['time remaining'] = 1 - _dfv['date_rel']\n",
    "\n",
    "display(_dfv.groupby('delta')[['time remaining']].describe())\n",
    "\n",
    "for t in [1/7, 6/7]:\n",
    "    first_day = (_dfv['date_rel'] < t)\n",
    "    print(f\"{first_day.sum()} ({first_day.mean()*100:.2f}%) of the votes are being cast on the first {t*100:.2f}% of rel time\")\n",
    "    \n",
    "fg = sns.displot(_dfv, x='date_rel', kind='ecdf', hue='delta' if PLOT_HUE else None)\n",
    "# fg.ax.xaxis.set_major_locator(ticker.MultipleLocator(1/7))\n",
    "\n",
    "fg.ax.yaxis.set_major_locator(ticker.MultipleLocator(1/10))\n",
    "fg.ax.yaxis.set_major_formatter(ticker.PercentFormatter(1))\n",
    "fg.ax.set_xticks(np.arange(8)/7)\n",
    "fg.ax.set_xticklabels([\"0\"] + [f\"{x}/7\" for x in range(1,7)] + [\"1\"])\n",
    "fg.ax.set_xlabel('Relative time elapsed');\n",
    "\n",
    "nbutils.download_matplotlib(fg, f\"votes_in_time{'-color' if PLOT_HUE else ''}.pdf\")"
   ]
  },
  {
   "cell_type": "markdown",
   "id": "729479f0-153b-46ee-a4ac-fcf6a2902dbb",
   "metadata": {
    "papermill": {
     "duration": 0.006483,
     "end_time": "2024-07-01T17:29:03.999010",
     "exception": false,
     "start_time": "2024-07-01T17:29:03.992527",
     "status": "completed"
    },
    "tags": []
   },
   "source": [
    "## Histograms"
   ]
  },
  {
   "cell_type": "markdown",
   "id": "b700fb01",
   "metadata": {
    "papermill": {
     "duration": 0.006217,
     "end_time": "2024-07-01T17:29:04.011319",
     "exception": false,
     "start_time": "2024-07-01T17:29:04.005102",
     "status": "completed"
    },
    "tags": []
   },
   "source": [
    "### Votes per user"
   ]
  },
  {
   "cell_type": "code",
   "execution_count": 11,
   "id": "58c8912e",
   "metadata": {
    "execution": {
     "iopub.execute_input": "2024-07-01T17:29:04.024496Z",
     "iopub.status.busy": "2024-07-01T17:29:04.024261Z",
     "iopub.status.idle": "2024-07-01T17:29:04.210894Z",
     "shell.execute_reply": "2024-07-01T17:29:04.210546Z"
    },
    "papermill": {
     "duration": 0.194588,
     "end_time": "2024-07-01T17:29:04.211923",
     "exception": false,
     "start_time": "2024-07-01T17:29:04.017335",
     "status": "completed"
    },
    "tags": []
   },
   "outputs": [
    {
     "name": "stdout",
     "output_type": "stream",
     "text": [
      "count    7268.000000\n",
      "mean       16.037424\n",
      "std        46.115318\n",
      "min         1.000000\n",
      "10%         1.000000\n",
      "15%         1.000000\n",
      "50%         3.000000\n",
      "90%        36.000000\n",
      "95%        64.000000\n",
      "99%       205.330000\n",
      "max       885.000000\n",
      "dtype: float64\n",
      "2025 voters (27.86%) have voted more than 10 times\n",
      "197 voters (2.71%) have voted more than 100 times\n"
     ]
    },
    {
     "data": {
      "application/vnd.jupyter.widget-view+json": {
       "model_id": "057ab923aa1c4de9b5001282fff10bdf",
       "version_major": 2,
       "version_minor": 0
      },
      "text/html": [
       "Cannot show widget. You probably want to rerun the code cell above (<i>Click in the code cell, and press Shift+Enter <kbd>⇧</kbd>+<kbd>↩</kbd></i>)."
      ],
      "text/plain": [
       "Cannot show ipywidgets in text"
      ]
     },
     "metadata": {},
     "output_type": "display_data"
    },
    {
     "data": {
      "image/png": "[encoded data removed]",
      "text/plain": [
       "<Figure size 350x262.5 with 1 Axes>"
      ]
     },
     "metadata": {},
     "output_type": "display_data"
    }
   ],
   "source": [
    "_toplot = dfv.groupby('voter').size()\n",
    "# _toplot = _toplot[_toplot < 40]\n",
    "print(_toplot.describe(percentiles=[.1, .15, .5, .9, .95, .99]))\n",
    "# _toplot.plot.hist(log=True)\n",
    "ax = sns.ecdfplot(_toplot, log_scale=True)\n",
    "plt.xlabel('# votes')\n",
    "plt.ylabel('% voters')\n",
    "\n",
    "_times_voted = [10, 100]\n",
    "for t in _times_voted:\n",
    "    _nusers = (_toplot > t).sum()\n",
    "    print(f\"{_nusers} voters ({_nusers/len(_toplot)*100:.2f}%) have voted more than {t} times\")\n",
    "\n",
    "ax.set_xticks([1, 5, 10, 50, 100, 500, 1000])\n",
    "# ax.xaxis.set_major_locator(mtick.MultipleLocator(10))\n",
    "ax.yaxis.set_major_formatter(ticker.PercentFormatter(1))\n",
    "\n",
    "# Updates by Javi\n",
    "plt.xlabel(\"\")\n",
    "plt.ylabel(\"\")\n",
    "\n",
    "nbutils.download_matplotlib(ax.figure, \"ecdf-vpv.pdf\")"
   ]
  },
  {
   "cell_type": "markdown",
   "id": "d11514db",
   "metadata": {
    "papermill": {
     "duration": 0.00336,
     "end_time": "2024-07-01T17:29:04.219252",
     "exception": false,
     "start_time": "2024-07-01T17:29:04.215892",
     "status": "completed"
    },
    "tags": []
   },
   "source": [
    "### Votes per proposal"
   ]
  },
  {
   "cell_type": "code",
   "execution_count": 12,
   "id": "66dba836",
   "metadata": {
    "execution": {
     "iopub.execute_input": "2024-07-01T17:29:04.226180Z",
     "iopub.status.busy": "2024-07-01T17:29:04.226024Z",
     "iopub.status.idle": "2024-07-01T17:29:04.439918Z",
     "shell.execute_reply": "2024-07-01T17:29:04.439485Z"
    },
    "papermill": {
     "duration": 0.218796,
     "end_time": "2024-07-01T17:29:04.441211",
     "exception": false,
     "start_time": "2024-07-01T17:29:04.222415",
     "status": "completed"
    },
    "tags": []
   },
   "outputs": [
    {
     "name": "stdout",
     "output_type": "stream",
     "text": [
      "count    1942.000000\n",
      "mean       60.020597\n",
      "std        63.080051\n",
      "min         1.000000\n",
      "10%         9.000000\n",
      "15%        11.000000\n",
      "20%        14.000000\n",
      "25%        16.000000\n",
      "50%        36.000000\n",
      "75%        82.000000\n",
      "90%       146.000000\n",
      "95%       192.950000\n",
      "99%       291.360000\n",
      "max       385.000000\n",
      "dtype: float64\n",
      "Total votes: 116560\n",
      "1677 proposals (86.35%) have more than 10 votes\n",
      "553 proposals (28.48%) have more than 72 votes\n",
      "540 proposals (27.81%) have more than 73 votes\n",
      "367 proposals (18.90%) have more than 100 votes\n"
     ]
    },
    {
     "data": {
      "application/vnd.jupyter.widget-view+json": {
       "model_id": "39c5e49a01a84f5a9b0f4148bc2a1a05",
       "version_major": 2,
       "version_minor": 0
      },
      "text/html": [
       "Cannot show widget. You probably want to rerun the code cell above (<i>Click in the code cell, and press Shift+Enter <kbd>⇧</kbd>+<kbd>↩</kbd></i>)."
      ],
      "text/plain": [
       "Cannot show ipywidgets in text"
      ]
     },
     "metadata": {},
     "output_type": "display_data"
    },
    {
     "data": {
      "image/png": "[encoded data removed]",
      "text/plain": [
       "<Figure size 350x262.5 with 1 Axes>"
      ]
     },
     "metadata": {},
     "output_type": "display_data"
    }
   ],
   "source": [
    "_toplot = dfv.groupby('proposal').size()\n",
    "print(_toplot.describe(percentiles=[.1, .15, .20, .25, .5,.75,.9, .95, .99]))\n",
    "\n",
    "print(\"Total votes:\", _toplot.sum())\n",
    "_times_voted = [10, 72, 73, 100]\n",
    "for t in _times_voted:\n",
    "    _nprops = (_toplot > t).sum()\n",
    "    print(f\"{_nprops} proposals ({_nprops/len(_toplot)*100:.2f}%) have more than {t} votes\")\n",
    "\n",
    "ax = sns.ecdfplot(_toplot, log_scale=True)\n",
    "ax.set_xticks([1, 5, 10, 50, 100, 500, 1000])\n",
    "ax.yaxis.set_major_formatter(ticker.PercentFormatter(1))\n",
    "\n",
    "plt.xlabel('# votes')\n",
    "plt.ylabel('% proposals')\n",
    "\n",
    "# Updates by Javi\n",
    "plt.xlabel(\"\")\n",
    "plt.ylabel(\"\")\n",
    "\n",
    "nbutils.download_matplotlib(ax.figure, \"ecdf-vpp.pdf\")"
   ]
  }
 ],
 "metadata": {
  "kernelspec": {
   "display_name": "Python 3 (ipykernel)",
   "language": "python",
   "name": "python3"
  },
  "language_info": {
   "codemirror_mode": {
    "name": "ipython",
    "version": 3
   },
   "file_extension": ".py",
   "mimetype": "text/x-python",
   "name": "python",
   "nbconvert_exporter": "python",
   "pygments_lexer": "ipython3",
   "version": "3.11.6"
  },
  "papermill": {
   "default_parameters": {},
   "duration": 5.024896,
   "end_time": "2024-07-01T17:29:04.861856",
   "environment_variables": {},
   "exception": null,
   "input_path": "01_explore.ipynb",
   "output_path": "../nbout/Decentraland/01_explore.ipynb",
   "parameters": {
    "EXECUTION_ID": "2024-07-01",
    "LAST_FOLDS": 10,
    "ORG_NAME": "Decentraland",
    "SPLITS_FREQ": "W-THU",
    "SPLITS_NORMALIZE": true
   },
   "start_time": "2024-07-01T17:28:59.836960",
   "version": "2.6.0"
  },
  "widgets": {
   "application/vnd.jupyter.widget-state+json": {
    "state": {
     "043ac9c82d494a4eb0545a94aaebab1e": {
      "model_module": "@jupyter-widgets/controls",
      "model_module_version": "2.0.0",
      "model_name": "VBoxModel",
      "state": {
       "_dom_classes": [],
       "_model_module": "@jupyter-widgets/controls",
       "_model_module_version": "2.0.0",
       "_model_name": "VBoxModel",
       "_view_count": 0,
       "_view_module": "@jupyter-widgets/controls",
       "_view_module_version": "2.0.0",
       "_view_name": "VBoxView",
       "box_style": "",
       "children": [
        "IPY_MODEL_d04ac9cd7759444ab39a83c342fc1edf"
       ],
       "layout": "IPY_MODEL_d9560116fbc84925a5c982b3f7bdc972",
       "tabbable": null,
       "tooltip": null
      }
     },
     "057ab923aa1c4de9b5001282fff10bdf": {
      "model_module": "@jupyter-widgets/controls",
      "model_module_version": "2.0.0",
      "model_name": "VBoxModel",
      "state": {
       "_dom_classes": [],
       "_model_module": "@jupyter-widgets/controls",
       "_model_module_version": "2.0.0",
       "_model_name": "VBoxModel",
       "_view_count": 0,
       "_view_module": "@jupyter-widgets/controls",
       "_view_module_version": "2.0.0",
       "_view_name": "VBoxView",
       "box_style": "",
       "children": [
        "IPY_MODEL_afb627283bc7498b881cf4ff4a35291a"
       ],
       "layout": "IPY_MODEL_710f2fdb63ab498a829ff78480d07749",
       "tabbable": null,
       "tooltip": null
      }
     },
     "068af194561e474ca1157209184dc0b2": {
      "model_module": "jupyter-vuetify",
      "model_module_version": "^1.8.5",
      "model_name": "RowModel",
      "state": {
       "_dom_classes": [],
       "_events": [],
       "_jupyter_vue": "IPY_MODEL_2b7fe540a42c4f90a315622cd5319954",
       "_metadata": null,
       "_model_module": "jupyter-vuetify",
       "_model_module_version": "^1.8.5",
       "_model_name": "RowModel",
       "_view_count": null,
       "_view_module": "jupyter-vuetify",
       "_view_module_version": "^1.8.5",
       "_view_name": "VuetifyView",
       "align": null,
       "align_content": null,
       "align_content_lg": null,
       "align_content_md": null,
       "align_content_sm": null,
       "align_content_xl": null,
       "align_lg": null,
       "align_md": null,
       "align_sm": null,
       "align_xl": null,
       "attributes": {},
       "children": [
        "IPY_MODEL_213c2b3102e342de94c4ff96fd357f1d"
       ],
       "class_": "solara-content-main",
       "dense": null,
       "justify": null,
       "justify_lg": null,
       "justify_md": null,
       "justify_sm": null,
       "justify_xl": null,
       "layout": null,
       "no_gutters": false,
       "slot": null,
       "style_": null,
       "tabbable": null,
       "tag": null,
       "tooltip": null,
       "v_model": "!!disabled!!",
       "v_on": null,
       "v_slots": []
      }
     },
     "1001e2748ef44d17b94fa877d052ef2f": {
      "model_module": "jupyter-vuetify",
      "model_module_version": "^1.8.5",
      "model_name": "BtnModel",
      "state": {
       "_dom_classes": [],
       "_events": [
        "click"
       ],
       "_jupyter_vue": "IPY_MODEL_2b7fe540a42c4f90a315622cd5319954",
       "_metadata": null,
       "_model_module": "jupyter-vuetify",
       "_model_module_version": "^1.8.5",
       "_model_name": "BtnModel",
       "_view_count": null,
       "_view_module": "jupyter-vuetify",
       "_view_module_version": "^1.8.5",
       "_view_name": "VuetifyView",
       "absolute": null,
       "active_class": null,
       "append": null,
       "attributes": {},
       "block": null,
       "bottom": null,
       "children": [
        "IPY_MODEL_9c4cb2d70d2049c38ab961d3b16f7722",
        "Download: votes_in_time-color.pdf"
       ],
       "class_": "",
       "color": null,
       "dark": null,
       "depressed": null,
       "disabled": false,
       "elevation": null,
       "exact": null,
       "exact_active_class": null,
       "fab": null,
       "fixed": null,
       "height": null,
       "href": null,
       "icon": null,
       "input_value": null,
       "large": null,
       "layout": null,
       "left": null,
       "light": null,
       "link": null,
       "loading": false,
       "max_height": null,
       "max_width": null,
       "min_height": null,
       "min_width": null,
       "nuxt": null,
       "outlined": false,
       "replace": null,
       "retain_focus_on_click": null,
       "right": null,
       "ripple": null,
       "rounded": null,
       "slot": null,
       "small": null,
       "style_": "",
       "tabbable": null,
       "tag": null,
       "target": null,
       "text": false,
       "tile": null,
       "to": null,
       "tooltip": null,
       "top": null,
       "type": null,
       "v_model": "!!disabled!!",
       "v_on": null,
       "v_slots": [],
       "value": null,
       "width": null,
       "x_large": null,
       "x_small": null
      }
     },
     "134e0b06c8dd48b5abe74c0a89b410ff": {
      "model_module": "jupyter-vuetify",
      "model_module_version": "^1.9.4",
      "model_name": "VuetifyTemplateModel",
      "state": {
       "_component_instances": [],
       "_dom_classes": [],
       "_jupyter_vue": "IPY_MODEL_2b7fe540a42c4f90a315622cd5319954",
       "_model_module": "jupyter-vuetify",
       "_model_module_version": "^1.9.4",
       "_model_name": "VuetifyTemplateModel",
       "_view_count": null,
       "_view_module": "jupyter-vuetify",
       "_view_module_version": "^1.9.4",
       "_view_name": "VuetifyView",
       "bytes": null,
       "children": [
        "IPY_MODEL_4c2f8badfcc14eda96752e53598abe4c"
       ],
       "components": null,
       "css": null,
       "data": null,
       "events": [],
       "filename": "proposals_dow.pdf",
       "layout": "IPY_MODEL_3160df285d164e00858b48ccd45072c6",
       "methods": null,
       "mime_type": "application/octet-stream",
       "request_download": false,
       "tabbable": null,
       "template": "IPY_MODEL_c52ec762856c482594723a21ef07acd7",
       "tooltip": null
      }
     },
     "19470cd21fb34c7e98982e952def8cbe": {
      "model_module": "jupyter-vuetify",
      "model_module_version": "^1.8.5",
      "model_name": "ColModel",
      "state": {
       "_dom_classes": [],
       "_events": [],
       "_jupyter_vue": "IPY_MODEL_2b7fe540a42c4f90a315622cd5319954",
       "_metadata": null,
       "_model_module": "jupyter-vuetify",
       "_model_module_version": "^1.8.5",
       "_model_name": "ColModel",
       "_view_count": null,
       "_view_module": "jupyter-vuetify",
       "_view_module_version": "^1.8.5",
       "_view_name": "VuetifyView",
       "align_self": null,
       "attributes": {},
       "children": [
        "IPY_MODEL_5f20fe24a39f4fbdb290e92526385b42"
       ],
       "class_": null,
       "cols": 12.0,
       "layout": null,
       "lg": null,
       "md": null,
       "offset": null,
       "offset_lg": null,
       "offset_md": null,
       "offset_sm": null,
       "offset_xl": null,
       "order": null,
       "order_lg": null,
       "order_md": null,
       "order_sm": null,
       "order_xl": null,
       "slot": null,
       "sm": null,
       "style_": null,
       "tabbable": null,
       "tag": null,
       "tooltip": null,
       "v_model": "!!disabled!!",
       "v_on": null,
       "v_slots": [],
       "xl": null
      }
     },
     "1c3df68701854e8ab4e477c61feb532a": {
      "model_module": "@jupyter-widgets/base",
      "model_module_version": "2.0.0",
      "model_name": "LayoutModel",
      "state": {
       "_model_module": "@jupyter-widgets/base",
       "_model_module_version": "2.0.0",
       "_model_name": "LayoutModel",
       "_view_count": null,
       "_view_module": "@jupyter-widgets/base",
       "_view_module_version": "2.0.0",
       "_view_name": "LayoutView",
       "align_content": null,
       "align_items": null,
       "align_self": null,
       "border_bottom": null,
       "border_left": null,
       "border_right": null,
       "border_top": null,
       "bottom": null,
       "display": null,
       "flex": null,
       "flex_flow": null,
       "grid_area": null,
       "grid_auto_columns": null,
       "grid_auto_flow": null,
       "grid_auto_rows": null,
       "grid_column": null,
       "grid_gap": null,
       "grid_row": null,
       "grid_template_areas": null,
       "grid_template_columns": null,
       "grid_template_rows": null,
       "height": null,
       "justify_content": null,
       "justify_items": null,
       "left": null,
       "margin": null,
       "max_height": null,
       "max_width": null,
       "min_height": null,
       "min_width": null,
       "object_fit": null,
       "object_position": null,
       "order": null,
       "overflow": null,
       "padding": null,
       "right": null,
       "top": null,
       "visibility": null,
       "width": null
      }
     },
     "1e7fd1299ffe473191d8969bb009fbcf": {
      "model_module": "jupyter-vuetify",
      "model_module_version": "^1.9.4",
      "model_name": "ThemeColorsModel",
      "state": {
       "_model_module": "jupyter-vuetify",
       "_model_module_version": "^1.9.4",
       "_model_name": "ThemeColorsModel",
       "_theme_name": "dark",
       "_view_count": null,
       "_view_module": null,
       "_view_module_version": "^1.9.4",
       "_view_name": null,
       "accent": "#FF4081",
       "anchor": null,
       "error": "#FF5252",
       "info": "#2196F3",
       "primary": "#2196F3",
       "secondary": "#424242",
       "success": "#4CAF50",
       "warning": "#FB8C00"
      }
     },
     "211bfe9d24564d67a5ac174f3133bf19": {
      "model_module": "jupyter-vuetify",
      "model_module_version": "^1.9.4",
      "model_name": "HtmlModel",
      "state": {
       "_dom_classes": [],
       "_events": [],
       "_jupyter_vue": "IPY_MODEL_2b7fe540a42c4f90a315622cd5319954",
       "_model_module": "jupyter-vuetify",
       "_model_module_version": "^1.9.4",
       "_model_name": "HtmlModel",
       "_view_count": null,
       "_view_module": "jupyter-vuetify",
       "_view_module_version": "^1.9.4",
       "_view_name": "VuetifyView",
       "attributes": {},
       "children": [
        "IPY_MODEL_61189a97a8da4a348c041ac6f4f3a819"
       ],
       "class_": null,
       "layout": null,
       "slot": null,
       "style_": null,
       "tabbable": null,
       "tag": "div",
       "tooltip": null,
       "v_model": "!!disabled!!",
       "v_on": null,
       "v_slots": []
      }
     },
     "213c2b3102e342de94c4ff96fd357f1d": {
      "model_module": "jupyter-vuetify",
      "model_module_version": "^1.8.5",
      "model_name": "ColModel",
      "state": {
       "_dom_classes": [],
       "_events": [],
       "_jupyter_vue": "IPY_MODEL_2b7fe540a42c4f90a315622cd5319954",
       "_metadata": null,
       "_model_module": "jupyter-vuetify",
       "_model_module_version": "^1.8.5",
       "_model_name": "ColModel",
       "_view_count": null,
       "_view_module": "jupyter-vuetify",
       "_view_module_version": "^1.8.5",
       "_view_name": "VuetifyView",
       "align_self": null,
       "attributes": {},
       "children": [
        "IPY_MODEL_614b2bffb04a4abba2f61eb427cb3136"
       ],
       "class_": null,
       "cols": 12.0,
       "layout": null,
       "lg": null,
       "md": null,
       "offset": null,
       "offset_lg": null,
       "offset_md": null,
       "offset_sm": null,
       "offset_xl": null,
       "order": null,
       "order_lg": null,
       "order_md": null,
       "order_sm": null,
       "order_xl": null,
       "slot": null,
       "sm": null,
       "style_": null,
       "tabbable": null,
       "tag": null,
       "tooltip": null,
       "v_model": "!!disabled!!",
       "v_on": null,
       "v_slots": [],
       "xl": null
      }
     },
     "224d0b16ff2f421fbee7ed416b9f7400": {
      "model_module": "jupyter-vuetify",
      "model_module_version": "^1.8.5",
      "model_name": "RowModel",
      "state": {
       "_dom_classes": [],
       "_events": [],
       "_jupyter_vue": "IPY_MODEL_2b7fe540a42c4f90a315622cd5319954",
       "_metadata": null,
       "_model_module": "jupyter-vuetify",
       "_model_module_version": "^1.8.5",
       "_model_name": "RowModel",
       "_view_count": null,
       "_view_module": "jupyter-vuetify",
       "_view_module_version": "^1.8.5",
       "_view_name": "VuetifyView",
       "align": null,
       "align_content": null,
       "align_content_lg": null,
       "align_content_md": null,
       "align_content_sm": null,
       "align_content_xl": null,
       "align_lg": null,
       "align_md": null,
       "align_sm": null,
       "align_xl": null,
       "attributes": {},
       "children": [
        "IPY_MODEL_19470cd21fb34c7e98982e952def8cbe"
       ],
       "class_": "solara-content-main",
       "dense": null,
       "justify": null,
       "justify_lg": null,
       "justify_md": null,
       "justify_sm": null,
       "justify_xl": null,
       "layout": null,
       "no_gutters": false,
       "slot": null,
       "style_": null,
       "tabbable": null,
       "tag": null,
       "tooltip": null,
       "v_model": "!!disabled!!",
       "v_on": null,
       "v_slots": []
      }
     },
     "22b28527f52e4382bd4c7881a2e1c7fb": {
      "model_module": "jupyter-vuetify",
      "model_module_version": "^1.8.5",
      "model_name": "IconModel",
      "state": {
       "_dom_classes": [],
       "_events": [],
       "_jupyter_vue": "IPY_MODEL_2b7fe540a42c4f90a315622cd5319954",
       "_metadata": null,
       "_model_module": "jupyter-vuetify",
       "_model_module_version": "^1.8.5",
       "_model_name": "IconModel",
       "_view_count": null,
       "_view_module": "jupyter-vuetify",
       "_view_module_version": "^1.8.5",
       "_view_name": "VuetifyView",
       "attributes": {},
       "children": [
        "mdi-cloud-download-outline"
       ],
       "class_": null,
       "color": null,
       "dark": null,
       "dense": null,
       "disabled": null,
       "large": null,
       "layout": null,
       "left": true,
       "light": null,
       "right": null,
       "size": null,
       "slot": null,
       "small": null,
       "style_": null,
       "tabbable": null,
       "tag": null,
       "tooltip": null,
       "v_model": "!!disabled!!",
       "v_on": null,
       "v_slots": [],
       "x_large": null,
       "x_small": null
      }
     },
     "2b7fe540a42c4f90a315622cd5319954": {
      "model_module": "jupyter-vue",
      "model_module_version": "^1.11.1",
      "model_name": "ForceLoadModel",
      "state": {
       "_dom_classes": [],
       "_model_module": "jupyter-vue",
       "_model_module_version": "^1.11.1",
       "_model_name": "ForceLoadModel",
       "_view_count": null,
       "_view_module": null,
       "_view_module_version": "",
       "_view_name": null,
       "layout": "IPY_MODEL_8a297531aaea4685bd5f790df70e3cf3",
       "tabbable": null,
       "tooltip": null
      }
     },
     "2fec566a8c7d4bb2afdeda3d7ed52013": {
      "model_module": "jupyter-vuetify",
      "model_module_version": "^1.8.5",
      "model_name": "ColModel",
      "state": {
       "_dom_classes": [],
       "_events": [],
       "_jupyter_vue": "IPY_MODEL_2b7fe540a42c4f90a315622cd5319954",
       "_metadata": null,
       "_model_module": "jupyter-vuetify",
       "_model_module_version": "^1.8.5",
       "_model_name": "ColModel",
       "_view_count": null,
       "_view_module": "jupyter-vuetify",
       "_view_module_version": "^1.8.5",
       "_view_name": "VuetifyView",
       "align_self": null,
       "attributes": {},
       "children": [
        "IPY_MODEL_134e0b06c8dd48b5abe74c0a89b410ff"
       ],
       "class_": null,
       "cols": 12.0,
       "layout": null,
       "lg": null,
       "md": null,
       "offset": null,
       "offset_lg": null,
       "offset_md": null,
       "offset_sm": null,
       "offset_xl": null,
       "order": null,
       "order_lg": null,
       "order_md": null,
       "order_sm": null,
       "order_xl": null,
       "slot": null,
       "sm": null,
       "style_": null,
       "tabbable": null,
       "tag": null,
       "tooltip": null,
       "v_model": "!!disabled!!",
       "v_on": null,
       "v_slots": [],
       "xl": null
      }
     },
     "3160df285d164e00858b48ccd45072c6": {
      "model_module": "@jupyter-widgets/base",
      "model_module_version": "2.0.0",
      "model_name": "LayoutModel",
      "state": {
       "_model_module": "@jupyter-widgets/base",
       "_model_module_version": "2.0.0",
       "_model_name": "LayoutModel",
       "_view_count": null,
       "_view_module": "@jupyter-widgets/base",
       "_view_module_version": "2.0.0",
       "_view_name": "LayoutView",
       "align_content": null,
       "align_items": null,
       "align_self": null,
       "border_bottom": null,
       "border_left": null,
       "border_right": null,
       "border_top": null,
       "bottom": null,
       "display": null,
       "flex": null,
       "flex_flow": null,
       "grid_area": null,
       "grid_auto_columns": null,
       "grid_auto_flow": null,
       "grid_auto_rows": null,
       "grid_column": null,
       "grid_gap": null,
       "grid_row": null,
       "grid_template_areas": null,
       "grid_template_columns": null,
       "grid_template_rows": null,
       "height": null,
       "justify_content": null,
       "justify_items": null,
       "left": null,
       "margin": null,
       "max_height": null,
       "max_width": null,
       "min_height": null,
       "min_width": null,
       "object_fit": null,
       "object_position": null,
       "order": null,
       "overflow": null,
       "padding": null,
       "right": null,
       "top": null,
       "visibility": null,
       "width": null
      }
     },
     "39c5e49a01a84f5a9b0f4148bc2a1a05": {
      "model_module": "@jupyter-widgets/controls",
      "model_module_version": "2.0.0",
      "model_name": "VBoxModel",
      "state": {
       "_dom_classes": [],
       "_model_module": "@jupyter-widgets/controls",
       "_model_module_version": "2.0.0",
       "_model_name": "VBoxModel",
       "_view_count": 0,
       "_view_module": "@jupyter-widgets/controls",
       "_view_module_version": "2.0.0",
       "_view_name": "VBoxView",
       "box_style": "",
       "children": [
        "IPY_MODEL_44f40a4de329439ebfb7aa0cc1a159ad"
       ],
       "layout": "IPY_MODEL_af87e1d5544f4fe3bddabfbea4953fea",
       "tabbable": null,
       "tooltip": null
      }
     },
     "44078a0b566b40b28c4002ea9b316c49": {
      "model_module": "jupyter-vuetify",
      "model_module_version": "^1.8.5",
      "model_name": "BtnModel",
      "state": {
       "_dom_classes": [],
       "_events": [
        "click"
       ],
       "_jupyter_vue": "IPY_MODEL_2b7fe540a42c4f90a315622cd5319954",
       "_metadata": null,
       "_model_module": "jupyter-vuetify",
       "_model_module_version": "^1.8.5",
       "_model_name": "BtnModel",
       "_view_count": null,
       "_view_module": "jupyter-vuetify",
       "_view_module_version": "^1.8.5",
       "_view_name": "VuetifyView",
       "absolute": null,
       "active_class": null,
       "append": null,
       "attributes": {},
       "block": null,
       "bottom": null,
       "children": [
        "IPY_MODEL_d9cfcdfa3f254232afad6acef3b72423",
        "Download: ecdf-vpv.pdf"
       ],
       "class_": "",
       "color": null,
       "dark": null,
       "depressed": null,
       "disabled": false,
       "elevation": null,
       "exact": null,
       "exact_active_class": null,
       "fab": null,
       "fixed": null,
       "height": null,
       "href": null,
       "icon": null,
       "input_value": null,
       "large": null,
       "layout": null,
       "left": null,
       "light": null,
       "link": null,
       "loading": false,
       "max_height": null,
       "max_width": null,
       "min_height": null,
       "min_width": null,
       "nuxt": null,
       "outlined": false,
       "replace": null,
       "retain_focus_on_click": null,
       "right": null,
       "ripple": null,
       "rounded": null,
       "slot": null,
       "small": null,
       "style_": "",
       "tabbable": null,
       "tag": null,
       "target": null,
       "text": false,
       "tile": null,
       "to": null,
       "tooltip": null,
       "top": null,
       "type": null,
       "v_model": "!!disabled!!",
       "v_on": null,
       "v_slots": [],
       "value": null,
       "width": null,
       "x_large": null,
       "x_small": null
      }
     },
     "44f40a4de329439ebfb7aa0cc1a159ad": {
      "model_module": "jupyter-vuetify",
      "model_module_version": "^1.9.4",
      "model_name": "HtmlModel",
      "state": {
       "_dom_classes": [],
       "_events": [],
       "_jupyter_vue": "IPY_MODEL_2b7fe540a42c4f90a315622cd5319954",
       "_model_module": "jupyter-vuetify",
       "_model_module_version": "^1.9.4",
       "_model_name": "HtmlModel",
       "_view_count": null,
       "_view_module": "jupyter-vuetify",
       "_view_module_version": "^1.9.4",
       "_view_name": "VuetifyView",
       "attributes": {},
       "children": [
        "IPY_MODEL_e83214a2d17b47d98cfb6db7e9a53ce2"
       ],
       "class_": null,
       "layout": null,
       "slot": null,
       "style_": null,
       "tabbable": null,
       "tag": "div",
       "tooltip": null,
       "v_model": "!!disabled!!",
       "v_on": null,
       "v_slots": []
      }
     },
     "4c2f8badfcc14eda96752e53598abe4c": {
      "model_module": "jupyter-vuetify",
      "model_module_version": "^1.8.5",
      "model_name": "BtnModel",
      "state": {
       "_dom_classes": [],
       "_events": [
        "click"
       ],
       "_jupyter_vue": "IPY_MODEL_2b7fe540a42c4f90a315622cd5319954",
       "_metadata": null,
       "_model_module": "jupyter-vuetify",
       "_model_module_version": "^1.8.5",
       "_model_name": "BtnModel",
       "_view_count": null,
       "_view_module": "jupyter-vuetify",
       "_view_module_version": "^1.8.5",
       "_view_name": "VuetifyView",
       "absolute": null,
       "active_class": null,
       "append": null,
       "attributes": {},
       "block": null,
       "bottom": null,
       "children": [
        "IPY_MODEL_22b28527f52e4382bd4c7881a2e1c7fb",
        "Download: proposals_dow.pdf"
       ],
       "class_": "",
       "color": null,
       "dark": null,
       "depressed": null,
       "disabled": false,
       "elevation": null,
       "exact": null,
       "exact_active_class": null,
       "fab": null,
       "fixed": null,
       "height": null,
       "href": null,
       "icon": null,
       "input_value": null,
       "large": null,
       "layout": null,
       "left": null,
       "light": null,
       "link": null,
       "loading": false,
       "max_height": null,
       "max_width": null,
       "min_height": null,
       "min_width": null,
       "nuxt": null,
       "outlined": false,
       "replace": null,
       "retain_focus_on_click": null,
       "right": null,
       "ripple": null,
       "rounded": null,
       "slot": null,
       "small": null,
       "style_": "",
       "tabbable": null,
       "tag": null,
       "target": null,
       "text": false,
       "tile": null,
       "to": null,
       "tooltip": null,
       "top": null,
       "type": null,
       "v_model": "!!disabled!!",
       "v_on": null,
       "v_slots": [],
       "value": null,
       "width": null,
       "x_large": null,
       "x_small": null
      }
     },
     "5f20fe24a39f4fbdb290e92526385b42": {
      "model_module": "jupyter-vuetify",
      "model_module_version": "^1.9.4",
      "model_name": "VuetifyTemplateModel",
      "state": {
       "_component_instances": [],
       "_dom_classes": [],
       "_jupyter_vue": "IPY_MODEL_2b7fe540a42c4f90a315622cd5319954",
       "_model_module": "jupyter-vuetify",
       "_model_module_version": "^1.9.4",
       "_model_name": "VuetifyTemplateModel",
       "_view_count": null,
       "_view_module": "jupyter-vuetify",
       "_view_module_version": "^1.9.4",
       "_view_name": "VuetifyView",
       "bytes": null,
       "children": [
        "IPY_MODEL_1001e2748ef44d17b94fa877d052ef2f"
       ],
       "components": null,
       "css": null,
       "data": null,
       "events": [],
       "filename": "votes_in_time-color.pdf",
       "layout": "IPY_MODEL_678eb0cf504c43b394824efed815ae11",
       "methods": null,
       "mime_type": "application/octet-stream",
       "request_download": false,
       "tabbable": null,
       "template": "IPY_MODEL_c52ec762856c482594723a21ef07acd7",
       "tooltip": null
      }
     },
     "61189a97a8da4a348c041ac6f4f3a819": {
      "model_module": "jupyter-vuetify",
      "model_module_version": "^1.8.5",
      "model_name": "RowModel",
      "state": {
       "_dom_classes": [],
       "_events": [],
       "_jupyter_vue": "IPY_MODEL_2b7fe540a42c4f90a315622cd5319954",
       "_metadata": null,
       "_model_module": "jupyter-vuetify",
       "_model_module_version": "^1.8.5",
       "_model_name": "RowModel",
       "_view_count": null,
       "_view_module": "jupyter-vuetify",
       "_view_module_version": "^1.8.5",
       "_view_name": "VuetifyView",
       "align": null,
       "align_content": null,
       "align_content_lg": null,
       "align_content_md": null,
       "align_content_sm": null,
       "align_content_xl": null,
       "align_lg": null,
       "align_md": null,
       "align_sm": null,
       "align_xl": null,
       "attributes": {},
       "children": [
        "IPY_MODEL_2fec566a8c7d4bb2afdeda3d7ed52013"
       ],
       "class_": "solara-content-main",
       "dense": null,
       "justify": null,
       "justify_lg": null,
       "justify_md": null,
       "justify_sm": null,
       "justify_xl": null,
       "layout": null,
       "no_gutters": false,
       "slot": null,
       "style_": null,
       "tabbable": null,
       "tag": null,
       "tooltip": null,
       "v_model": "!!disabled!!",
       "v_on": null,
       "v_slots": []
      }
     },
     "614b2bffb04a4abba2f61eb427cb3136": {
      "model_module": "jupyter-vuetify",
      "model_module_version": "^1.9.4",
      "model_name": "VuetifyTemplateModel",
      "state": {
       "_component_instances": [],
       "_dom_classes": [],
       "_jupyter_vue": "IPY_MODEL_2b7fe540a42c4f90a315622cd5319954",
       "_model_module": "jupyter-vuetify",
       "_model_module_version": "^1.9.4",
       "_model_name": "VuetifyTemplateModel",
       "_view_count": null,
       "_view_module": "jupyter-vuetify",
       "_view_module_version": "^1.9.4",
       "_view_name": "VuetifyView",
       "bytes": null,
       "children": [
        "IPY_MODEL_bd35e4b8fb39488d8286059fab808711"
       ],
       "components": null,
       "css": null,
       "data": null,
       "events": [],
       "filename": "votes_dow.pdf",
       "layout": "IPY_MODEL_c4a69916df624813939b0e0afe7ff925",
       "methods": null,
       "mime_type": "application/octet-stream",
       "request_download": false,
       "tabbable": null,
       "template": "IPY_MODEL_c52ec762856c482594723a21ef07acd7",
       "tooltip": null
      }
     },
     "618f05d26ae447cc9a7a86461257028c": {
      "model_module": "@jupyter-widgets/base",
      "model_module_version": "2.0.0",
      "model_name": "LayoutModel",
      "state": {
       "_model_module": "@jupyter-widgets/base",
       "_model_module_version": "2.0.0",
       "_model_name": "LayoutModel",
       "_view_count": null,
       "_view_module": "@jupyter-widgets/base",
       "_view_module_version": "2.0.0",
       "_view_name": "LayoutView",
       "align_content": null,
       "align_items": null,
       "align_self": null,
       "border_bottom": null,
       "border_left": null,
       "border_right": null,
       "border_top": null,
       "bottom": null,
       "display": null,
       "flex": null,
       "flex_flow": null,
       "grid_area": null,
       "grid_auto_columns": null,
       "grid_auto_flow": null,
       "grid_auto_rows": null,
       "grid_column": null,
       "grid_gap": null,
       "grid_row": null,
       "grid_template_areas": null,
       "grid_template_columns": null,
       "grid_template_rows": null,
       "height": null,
       "justify_content": null,
       "justify_items": null,
       "left": null,
       "margin": null,
       "max_height": null,
       "max_width": null,
       "min_height": null,
       "min_width": null,
       "object_fit": null,
       "object_position": null,
       "order": null,
       "overflow": null,
       "padding": null,
       "right": null,
       "top": null,
       "visibility": null,
       "width": null
      }
     },
     "65880d3198c84572b4ac1921bdd9962f": {
      "model_module": "jupyter-vuetify",
      "model_module_version": "^1.9.4",
      "model_name": "HtmlModel",
      "state": {
       "_dom_classes": [],
       "_events": [],
       "_jupyter_vue": "IPY_MODEL_2b7fe540a42c4f90a315622cd5319954",
       "_model_module": "jupyter-vuetify",
       "_model_module_version": "^1.9.4",
       "_model_name": "HtmlModel",
       "_view_count": null,
       "_view_module": "jupyter-vuetify",
       "_view_module_version": "^1.9.4",
       "_view_name": "VuetifyView",
       "attributes": {},
       "children": [
        "IPY_MODEL_068af194561e474ca1157209184dc0b2"
       ],
       "class_": null,
       "layout": null,
       "slot": null,
       "style_": null,
       "tabbable": null,
       "tag": "div",
       "tooltip": null,
       "v_model": "!!disabled!!",
       "v_on": null,
       "v_slots": []
      }
     },
     "678eb0cf504c43b394824efed815ae11": {
      "model_module": "@jupyter-widgets/base",
      "model_module_version": "2.0.0",
      "model_name": "LayoutModel",
      "state": {
       "_model_module": "@jupyter-widgets/base",
       "_model_module_version": "2.0.0",
       "_model_name": "LayoutModel",
       "_view_count": null,
       "_view_module": "@jupyter-widgets/base",
       "_view_module_version": "2.0.0",
       "_view_name": "LayoutView",
       "align_content": null,
       "align_items": null,
       "align_self": null,
       "border_bottom": null,
       "border_left": null,
       "border_right": null,
       "border_top": null,
       "bottom": null,
       "display": null,
       "flex": null,
       "flex_flow": null,
       "grid_area": null,
       "grid_auto_columns": null,
       "grid_auto_flow": null,
       "grid_auto_rows": null,
       "grid_column": null,
       "grid_gap": null,
       "grid_row": null,
       "grid_template_areas": null,
       "grid_template_columns": null,
       "grid_template_rows": null,
       "height": null,
       "justify_content": null,
       "justify_items": null,
       "left": null,
       "margin": null,
       "max_height": null,
       "max_width": null,
       "min_height": null,
       "min_width": null,
       "object_fit": null,
       "object_position": null,
       "order": null,
       "overflow": null,
       "padding": null,
       "right": null,
       "top": null,
       "visibility": null,
       "width": null
      }
     },
     "6ab5378e97274113a67148affa1b5a4f": {
      "model_module": "jupyter-vuetify",
      "model_module_version": "^1.8.5",
      "model_name": "IconModel",
      "state": {
       "_dom_classes": [],
       "_events": [],
       "_jupyter_vue": "IPY_MODEL_2b7fe540a42c4f90a315622cd5319954",
       "_metadata": null,
       "_model_module": "jupyter-vuetify",
       "_model_module_version": "^1.8.5",
       "_model_name": "IconModel",
       "_view_count": null,
       "_view_module": "jupyter-vuetify",
       "_view_module_version": "^1.8.5",
       "_view_name": "VuetifyView",
       "attributes": {},
       "children": [
        "mdi-cloud-download-outline"
       ],
       "class_": null,
       "color": null,
       "dark": null,
       "dense": null,
       "disabled": null,
       "large": null,
       "layout": null,
       "left": true,
       "light": null,
       "right": null,
       "size": null,
       "slot": null,
       "small": null,
       "style_": null,
       "tabbable": null,
       "tag": null,
       "tooltip": null,
       "v_model": "!!disabled!!",
       "v_on": null,
       "v_slots": [],
       "x_large": null,
       "x_small": null
      }
     },
     "710f2fdb63ab498a829ff78480d07749": {
      "model_module": "@jupyter-widgets/base",
      "model_module_version": "2.0.0",
      "model_name": "LayoutModel",
      "state": {
       "_model_module": "@jupyter-widgets/base",
       "_model_module_version": "2.0.0",
       "_model_name": "LayoutModel",
       "_view_count": null,
       "_view_module": "@jupyter-widgets/base",
       "_view_module_version": "2.0.0",
       "_view_name": "LayoutView",
       "align_content": null,
       "align_items": null,
       "align_self": null,
       "border_bottom": null,
       "border_left": null,
       "border_right": null,
       "border_top": null,
       "bottom": null,
       "display": null,
       "flex": null,
       "flex_flow": null,
       "grid_area": null,
       "grid_auto_columns": null,
       "grid_auto_flow": null,
       "grid_auto_rows": null,
       "grid_column": null,
       "grid_gap": null,
       "grid_row": null,
       "grid_template_areas": null,
       "grid_template_columns": null,
       "grid_template_rows": null,
       "height": null,
       "justify_content": null,
       "justify_items": null,
       "left": null,
       "margin": null,
       "max_height": null,
       "max_width": null,
       "min_height": null,
       "min_width": null,
       "object_fit": null,
       "object_position": null,
       "order": null,
       "overflow": null,
       "padding": null,
       "right": null,
       "top": null,
       "visibility": null,
       "width": null
      }
     },
     "88863946a71a43749169d38f412db97f": {
      "model_module": "@jupyter-widgets/base",
      "model_module_version": "2.0.0",
      "model_name": "LayoutModel",
      "state": {
       "_model_module": "@jupyter-widgets/base",
       "_model_module_version": "2.0.0",
       "_model_name": "LayoutModel",
       "_view_count": null,
       "_view_module": "@jupyter-widgets/base",
       "_view_module_version": "2.0.0",
       "_view_name": "LayoutView",
       "align_content": null,
       "align_items": null,
       "align_self": null,
       "border_bottom": null,
       "border_left": null,
       "border_right": null,
       "border_top": null,
       "bottom": null,
       "display": null,
       "flex": null,
       "flex_flow": null,
       "grid_area": null,
       "grid_auto_columns": null,
       "grid_auto_flow": null,
       "grid_auto_rows": null,
       "grid_column": null,
       "grid_gap": null,
       "grid_row": null,
       "grid_template_areas": null,
       "grid_template_columns": null,
       "grid_template_rows": null,
       "height": null,
       "justify_content": null,
       "justify_items": null,
       "left": null,
       "margin": null,
       "max_height": null,
       "max_width": null,
       "min_height": null,
       "min_width": null,
       "object_fit": null,
       "object_position": null,
       "order": null,
       "overflow": null,
       "padding": null,
       "right": null,
       "top": null,
       "visibility": null,
       "width": null
      }
     },
     "8a297531aaea4685bd5f790df70e3cf3": {
      "model_module": "@jupyter-widgets/base",
      "model_module_version": "2.0.0",
      "model_name": "LayoutModel",
      "state": {
       "_model_module": "@jupyter-widgets/base",
       "_model_module_version": "2.0.0",
       "_model_name": "LayoutModel",
       "_view_count": null,
       "_view_module": "@jupyter-widgets/base",
       "_view_module_version": "2.0.0",
       "_view_name": "LayoutView",
       "align_content": null,
       "align_items": null,
       "align_self": null,
       "border_bottom": null,
       "border_left": null,
       "border_right": null,
       "border_top": null,
       "bottom": null,
       "display": null,
       "flex": null,
       "flex_flow": null,
       "grid_area": null,
       "grid_auto_columns": null,
       "grid_auto_flow": null,
       "grid_auto_rows": null,
       "grid_column": null,
       "grid_gap": null,
       "grid_row": null,
       "grid_template_areas": null,
       "grid_template_columns": null,
       "grid_template_rows": null,
       "height": null,
       "justify_content": null,
       "justify_items": null,
       "left": null,
       "margin": null,
       "max_height": null,
       "max_width": null,
       "min_height": null,
       "min_width": null,
       "object_fit": null,
       "object_position": null,
       "order": null,
       "overflow": null,
       "padding": null,
       "right": null,
       "top": null,
       "visibility": null,
       "width": null
      }
     },
     "98377d9461cb4a059e7a236cfb5b90d2": {
      "model_module": "@jupyter-widgets/base",
      "model_module_version": "2.0.0",
      "model_name": "LayoutModel",
      "state": {
       "_model_module": "@jupyter-widgets/base",
       "_model_module_version": "2.0.0",
       "_model_name": "LayoutModel",
       "_view_count": null,
       "_view_module": "@jupyter-widgets/base",
       "_view_module_version": "2.0.0",
       "_view_name": "LayoutView",
       "align_content": null,
       "align_items": null,
       "align_self": null,
       "border_bottom": null,
       "border_left": null,
       "border_right": null,
       "border_top": null,
       "bottom": null,
       "display": null,
       "flex": null,
       "flex_flow": null,
       "grid_area": null,
       "grid_auto_columns": null,
       "grid_auto_flow": null,
       "grid_auto_rows": null,
       "grid_column": null,
       "grid_gap": null,
       "grid_row": null,
       "grid_template_areas": null,
       "grid_template_columns": null,
       "grid_template_rows": null,
       "height": null,
       "justify_content": null,
       "justify_items": null,
       "left": null,
       "margin": null,
       "max_height": null,
       "max_width": null,
       "min_height": null,
       "min_width": null,
       "object_fit": null,
       "object_position": null,
       "order": null,
       "overflow": null,
       "padding": null,
       "right": null,
       "top": null,
       "visibility": null,
       "width": null
      }
     },
     "9c4cb2d70d2049c38ab961d3b16f7722": {
      "model_module": "jupyter-vuetify",
      "model_module_version": "^1.8.5",
      "model_name": "IconModel",
      "state": {
       "_dom_classes": [],
       "_events": [],
       "_jupyter_vue": "IPY_MODEL_2b7fe540a42c4f90a315622cd5319954",
       "_metadata": null,
       "_model_module": "jupyter-vuetify",
       "_model_module_version": "^1.8.5",
       "_model_name": "IconModel",
       "_view_count": null,
       "_view_module": "jupyter-vuetify",
       "_view_module_version": "^1.8.5",
       "_view_name": "VuetifyView",
       "attributes": {},
       "children": [
        "mdi-cloud-download-outline"
       ],
       "class_": null,
       "color": null,
       "dark": null,
       "dense": null,
       "disabled": null,
       "large": null,
       "layout": null,
       "left": true,
       "light": null,
       "right": null,
       "size": null,
       "slot": null,
       "small": null,
       "style_": null,
       "tabbable": null,
       "tag": null,
       "tooltip": null,
       "v_model": "!!disabled!!",
       "v_on": null,
       "v_slots": [],
       "x_large": null,
       "x_small": null
      }
     },
     "a0e680b6910e4acf83d9fbe4065767f3": {
      "model_module": "jupyter-vuetify",
      "model_module_version": "^1.9.4",
      "model_name": "ThemeModel",
      "state": {
       "_model_module": "jupyter-vuetify",
       "_model_module_version": "^1.9.4",
       "_model_name": "ThemeModel",
       "_view_count": null,
       "_view_module": null,
       "_view_module_version": "^1.9.4",
       "_view_name": null,
       "dark": null,
       "dark_effective": null
      }
     },
     "af432c4cb43f45a4bc7cbc82b784f6b8": {
      "model_module": "jupyter-vuetify",
      "model_module_version": "^1.9.4",
      "model_name": "VuetifyTemplateModel",
      "state": {
       "_component_instances": [],
       "_dom_classes": [],
       "_jupyter_vue": "IPY_MODEL_2b7fe540a42c4f90a315622cd5319954",
       "_model_module": "jupyter-vuetify",
       "_model_module_version": "^1.9.4",
       "_model_name": "VuetifyTemplateModel",
       "_view_count": null,
       "_view_module": "jupyter-vuetify",
       "_view_module_version": "^1.9.4",
       "_view_name": "VuetifyView",
       "bytes": null,
       "children": [
        "IPY_MODEL_44078a0b566b40b28c4002ea9b316c49"
       ],
       "components": null,
       "css": null,
       "data": null,
       "events": [],
       "filename": "ecdf-vpv.pdf",
       "layout": "IPY_MODEL_98377d9461cb4a059e7a236cfb5b90d2",
       "methods": null,
       "mime_type": "application/octet-stream",
       "request_download": false,
       "tabbable": null,
       "template": "IPY_MODEL_c52ec762856c482594723a21ef07acd7",
       "tooltip": null
      }
     },
     "af87e1d5544f4fe3bddabfbea4953fea": {
      "model_module": "@jupyter-widgets/base",
      "model_module_version": "2.0.0",
      "model_name": "LayoutModel",
      "state": {
       "_model_module": "@jupyter-widgets/base",
       "_model_module_version": "2.0.0",
       "_model_name": "LayoutModel",
       "_view_count": null,
       "_view_module": "@jupyter-widgets/base",
       "_view_module_version": "2.0.0",
       "_view_name": "LayoutView",
       "align_content": null,
       "align_items": null,
       "align_self": null,
       "border_bottom": null,
       "border_left": null,
       "border_right": null,
       "border_top": null,
       "bottom": null,
       "display": null,
       "flex": null,
       "flex_flow": null,
       "grid_area": null,
       "grid_auto_columns": null,
       "grid_auto_flow": null,
       "grid_auto_rows": null,
       "grid_column": null,
       "grid_gap": null,
       "grid_row": null,
       "grid_template_areas": null,
       "grid_template_columns": null,
       "grid_template_rows": null,
       "height": null,
       "justify_content": null,
       "justify_items": null,
       "left": null,
       "margin": null,
       "max_height": null,
       "max_width": null,
       "min_height": null,
       "min_width": null,
       "object_fit": null,
       "object_position": null,
       "order": null,
       "overflow": null,
       "padding": null,
       "right": null,
       "top": null,
       "visibility": null,
       "width": null
      }
     },
     "afb627283bc7498b881cf4ff4a35291a": {
      "model_module": "jupyter-vuetify",
      "model_module_version": "^1.9.4",
      "model_name": "HtmlModel",
      "state": {
       "_dom_classes": [],
       "_events": [],
       "_jupyter_vue": "IPY_MODEL_2b7fe540a42c4f90a315622cd5319954",
       "_model_module": "jupyter-vuetify",
       "_model_module_version": "^1.9.4",
       "_model_name": "HtmlModel",
       "_view_count": null,
       "_view_module": "jupyter-vuetify",
       "_view_module_version": "^1.9.4",
       "_view_name": "VuetifyView",
       "attributes": {},
       "children": [
        "IPY_MODEL_e122002b36af41339e8860a485859a6c"
       ],
       "class_": null,
       "layout": null,
       "slot": null,
       "style_": null,
       "tabbable": null,
       "tag": "div",
       "tooltip": null,
       "v_model": "!!disabled!!",
       "v_on": null,
       "v_slots": []
      }
     },
     "b6ec4e05b02b492f88488bd437215165": {
      "model_module": "jupyter-vuetify",
      "model_module_version": "^1.8.5",
      "model_name": "ColModel",
      "state": {
       "_dom_classes": [],
       "_events": [],
       "_jupyter_vue": "IPY_MODEL_2b7fe540a42c4f90a315622cd5319954",
       "_metadata": null,
       "_model_module": "jupyter-vuetify",
       "_model_module_version": "^1.8.5",
       "_model_name": "ColModel",
       "_view_count": null,
       "_view_module": "jupyter-vuetify",
       "_view_module_version": "^1.8.5",
       "_view_name": "VuetifyView",
       "align_self": null,
       "attributes": {},
       "children": [
        "IPY_MODEL_d217475f92114c2d91c657706fc67b56"
       ],
       "class_": null,
       "cols": 12.0,
       "layout": null,
       "lg": null,
       "md": null,
       "offset": null,
       "offset_lg": null,
       "offset_md": null,
       "offset_sm": null,
       "offset_xl": null,
       "order": null,
       "order_lg": null,
       "order_md": null,
       "order_sm": null,
       "order_xl": null,
       "slot": null,
       "sm": null,
       "style_": null,
       "tabbable": null,
       "tag": null,
       "tooltip": null,
       "v_model": "!!disabled!!",
       "v_on": null,
       "v_slots": [],
       "xl": null
      }
     },
     "bd35e4b8fb39488d8286059fab808711": {
      "model_module": "jupyter-vuetify",
      "model_module_version": "^1.8.5",
      "model_name": "BtnModel",
      "state": {
       "_dom_classes": [],
       "_events": [
        "click"
       ],
       "_jupyter_vue": "IPY_MODEL_2b7fe540a42c4f90a315622cd5319954",
       "_metadata": null,
       "_model_module": "jupyter-vuetify",
       "_model_module_version": "^1.8.5",
       "_model_name": "BtnModel",
       "_view_count": null,
       "_view_module": "jupyter-vuetify",
       "_view_module_version": "^1.8.5",
       "_view_name": "VuetifyView",
       "absolute": null,
       "active_class": null,
       "append": null,
       "attributes": {},
       "block": null,
       "bottom": null,
       "children": [
        "IPY_MODEL_c488c2ec57db4f63b03054022d6f9614",
        "Download: votes_dow.pdf"
       ],
       "class_": "",
       "color": null,
       "dark": null,
       "depressed": null,
       "disabled": false,
       "elevation": null,
       "exact": null,
       "exact_active_class": null,
       "fab": null,
       "fixed": null,
       "height": null,
       "href": null,
       "icon": null,
       "input_value": null,
       "large": null,
       "layout": null,
       "left": null,
       "light": null,
       "link": null,
       "loading": false,
       "max_height": null,
       "max_width": null,
       "min_height": null,
       "min_width": null,
       "nuxt": null,
       "outlined": false,
       "replace": null,
       "retain_focus_on_click": null,
       "right": null,
       "ripple": null,
       "rounded": null,
       "slot": null,
       "small": null,
       "style_": "",
       "tabbable": null,
       "tag": null,
       "target": null,
       "text": false,
       "tile": null,
       "to": null,
       "tooltip": null,
       "top": null,
       "type": null,
       "v_model": "!!disabled!!",
       "v_on": null,
       "v_slots": [],
       "value": null,
       "width": null,
       "x_large": null,
       "x_small": null
      }
     },
     "c488c2ec57db4f63b03054022d6f9614": {
      "model_module": "jupyter-vuetify",
      "model_module_version": "^1.8.5",
      "model_name": "IconModel",
      "state": {
       "_dom_classes": [],
       "_events": [],
       "_jupyter_vue": "IPY_MODEL_2b7fe540a42c4f90a315622cd5319954",
       "_metadata": null,
       "_model_module": "jupyter-vuetify",
       "_model_module_version": "^1.8.5",
       "_model_name": "IconModel",
       "_view_count": null,
       "_view_module": "jupyter-vuetify",
       "_view_module_version": "^1.8.5",
       "_view_name": "VuetifyView",
       "attributes": {},
       "children": [
        "mdi-cloud-download-outline"
       ],
       "class_": null,
       "color": null,
       "dark": null,
       "dense": null,
       "disabled": null,
       "large": null,
       "layout": null,
       "left": true,
       "light": null,
       "right": null,
       "size": null,
       "slot": null,
       "small": null,
       "style_": null,
       "tabbable": null,
       "tag": null,
       "tooltip": null,
       "v_model": "!!disabled!!",
       "v_on": null,
       "v_slots": [],
       "x_large": null,
       "x_small": null
      }
     },
     "c4a69916df624813939b0e0afe7ff925": {
      "model_module": "@jupyter-widgets/base",
      "model_module_version": "2.0.0",
      "model_name": "LayoutModel",
      "state": {
       "_model_module": "@jupyter-widgets/base",
       "_model_module_version": "2.0.0",
       "_model_name": "LayoutModel",
       "_view_count": null,
       "_view_module": "@jupyter-widgets/base",
       "_view_module_version": "2.0.0",
       "_view_name": "LayoutView",
       "align_content": null,
       "align_items": null,
       "align_self": null,
       "border_bottom": null,
       "border_left": null,
       "border_right": null,
       "border_top": null,
       "bottom": null,
       "display": null,
       "flex": null,
       "flex_flow": null,
       "grid_area": null,
       "grid_auto_columns": null,
       "grid_auto_flow": null,
       "grid_auto_rows": null,
       "grid_column": null,
       "grid_gap": null,
       "grid_row": null,
       "grid_template_areas": null,
       "grid_template_columns": null,
       "grid_template_rows": null,
       "height": null,
       "justify_content": null,
       "justify_items": null,
       "left": null,
       "margin": null,
       "max_height": null,
       "max_width": null,
       "min_height": null,
       "min_width": null,
       "object_fit": null,
       "object_position": null,
       "order": null,
       "overflow": null,
       "padding": null,
       "right": null,
       "top": null,
       "visibility": null,
       "width": null
      }
     },
     "c52ec762856c482594723a21ef07acd7": {
      "model_module": "jupyter-vue",
      "model_module_version": "^1.11.1",
      "model_name": "TemplateModel",
      "state": {
       "_model_module": "jupyter-vue",
       "_model_module_version": "^1.11.1",
       "_model_name": "TemplateModel",
       "_view_count": null,
       "_view_module": null,
       "_view_module_version": "",
       "_view_name": null,
       "template": "<template>\n    <div @click=\"request_download = true\" class=\"solara-file-download-container\">\n        <jupyter-widget v-for=\"child in children\" :key=\"child\" :widget=\"child\"></jupyter-widget>\n    </div>\n</template>\n\n<script>\nmodule.exports = {\n    watch: {\n        bytes(value) {\n            if (this.request_download) {\n                const a = document.createElement('a');\n                a.download = this.filename;\n                const blob = new Blob([this.bytes], { type: this.mime_type });\n                const blobUrl = window.URL.createObjectURL(blob);\n                a.href = blobUrl;\n                document.body.appendChild(a);\n                a.click();\n                document.body.removeChild(a);\n                setTimeout(() => {\n                    // Make sure we clean up\n                    window.URL.revokeObjectURL(blobUrl);\n                }, 1000);\n                this.request_download = false;\n            }\n        }\n    }\n}\n</script>\n\n<style id=\"solara-file-download\">\n.solara-file-download-container {\n    cursor: pointer;\n}\n</style>\n"
      }
     },
     "d04ac9cd7759444ab39a83c342fc1edf": {
      "model_module": "jupyter-vuetify",
      "model_module_version": "^1.9.4",
      "model_name": "HtmlModel",
      "state": {
       "_dom_classes": [],
       "_events": [],
       "_jupyter_vue": "IPY_MODEL_2b7fe540a42c4f90a315622cd5319954",
       "_model_module": "jupyter-vuetify",
       "_model_module_version": "^1.9.4",
       "_model_name": "HtmlModel",
       "_view_count": null,
       "_view_module": "jupyter-vuetify",
       "_view_module_version": "^1.9.4",
       "_view_name": "VuetifyView",
       "attributes": {},
       "children": [
        "IPY_MODEL_224d0b16ff2f421fbee7ed416b9f7400"
       ],
       "class_": null,
       "layout": null,
       "slot": null,
       "style_": null,
       "tabbable": null,
       "tag": "div",
       "tooltip": null,
       "v_model": "!!disabled!!",
       "v_on": null,
       "v_slots": []
      }
     },
     "d217475f92114c2d91c657706fc67b56": {
      "model_module": "jupyter-vuetify",
      "model_module_version": "^1.9.4",
      "model_name": "VuetifyTemplateModel",
      "state": {
       "_component_instances": [],
       "_dom_classes": [],
       "_jupyter_vue": "IPY_MODEL_2b7fe540a42c4f90a315622cd5319954",
       "_model_module": "jupyter-vuetify",
       "_model_module_version": "^1.9.4",
       "_model_name": "VuetifyTemplateModel",
       "_view_count": null,
       "_view_module": "jupyter-vuetify",
       "_view_module_version": "^1.9.4",
       "_view_name": "VuetifyView",
       "bytes": null,
       "children": [
        "IPY_MODEL_f923c7ae4ee049199a3fd941c96f2b7c"
       ],
       "components": null,
       "css": null,
       "data": null,
       "events": [],
       "filename": "ecdf-vpp.pdf",
       "layout": "IPY_MODEL_618f05d26ae447cc9a7a86461257028c",
       "methods": null,
       "mime_type": "application/octet-stream",
       "request_download": false,
       "tabbable": null,
       "template": "IPY_MODEL_c52ec762856c482594723a21ef07acd7",
       "tooltip": null
      }
     },
     "d9560116fbc84925a5c982b3f7bdc972": {
      "model_module": "@jupyter-widgets/base",
      "model_module_version": "2.0.0",
      "model_name": "LayoutModel",
      "state": {
       "_model_module": "@jupyter-widgets/base",
       "_model_module_version": "2.0.0",
       "_model_name": "LayoutModel",
       "_view_count": null,
       "_view_module": "@jupyter-widgets/base",
       "_view_module_version": "2.0.0",
       "_view_name": "LayoutView",
       "align_content": null,
       "align_items": null,
       "align_self": null,
       "border_bottom": null,
       "border_left": null,
       "border_right": null,
       "border_top": null,
       "bottom": null,
       "display": null,
       "flex": null,
       "flex_flow": null,
       "grid_area": null,
       "grid_auto_columns": null,
       "grid_auto_flow": null,
       "grid_auto_rows": null,
       "grid_column": null,
       "grid_gap": null,
       "grid_row": null,
       "grid_template_areas": null,
       "grid_template_columns": null,
       "grid_template_rows": null,
       "height": null,
       "justify_content": null,
       "justify_items": null,
       "left": null,
       "margin": null,
       "max_height": null,
       "max_width": null,
       "min_height": null,
       "min_width": null,
       "object_fit": null,
       "object_position": null,
       "order": null,
       "overflow": null,
       "padding": null,
       "right": null,
       "top": null,
       "visibility": null,
       "width": null
      }
     },
     "d9cfcdfa3f254232afad6acef3b72423": {
      "model_module": "jupyter-vuetify",
      "model_module_version": "^1.8.5",
      "model_name": "IconModel",
      "state": {
       "_dom_classes": [],
       "_events": [],
       "_jupyter_vue": "IPY_MODEL_2b7fe540a42c4f90a315622cd5319954",
       "_metadata": null,
       "_model_module": "jupyter-vuetify",
       "_model_module_version": "^1.8.5",
       "_model_name": "IconModel",
       "_view_count": null,
       "_view_module": "jupyter-vuetify",
       "_view_module_version": "^1.8.5",
       "_view_name": "VuetifyView",
       "attributes": {},
       "children": [
        "mdi-cloud-download-outline"
       ],
       "class_": null,
       "color": null,
       "dark": null,
       "dense": null,
       "disabled": null,
       "large": null,
       "layout": null,
       "left": true,
       "light": null,
       "right": null,
       "size": null,
       "slot": null,
       "small": null,
       "style_": null,
       "tabbable": null,
       "tag": null,
       "tooltip": null,
       "v_model": "!!disabled!!",
       "v_on": null,
       "v_slots": [],
       "x_large": null,
       "x_small": null
      }
     },
     "da47a9898f4148489d9427cb1670140c": {
      "model_module": "jupyter-vuetify",
      "model_module_version": "^1.8.5",
      "model_name": "ColModel",
      "state": {
       "_dom_classes": [],
       "_events": [],
       "_jupyter_vue": "IPY_MODEL_2b7fe540a42c4f90a315622cd5319954",
       "_metadata": null,
       "_model_module": "jupyter-vuetify",
       "_model_module_version": "^1.8.5",
       "_model_name": "ColModel",
       "_view_count": null,
       "_view_module": "jupyter-vuetify",
       "_view_module_version": "^1.8.5",
       "_view_name": "VuetifyView",
       "align_self": null,
       "attributes": {},
       "children": [
        "IPY_MODEL_af432c4cb43f45a4bc7cbc82b784f6b8"
       ],
       "class_": null,
       "cols": 12.0,
       "layout": null,
       "lg": null,
       "md": null,
       "offset": null,
       "offset_lg": null,
       "offset_md": null,
       "offset_sm": null,
       "offset_xl": null,
       "order": null,
       "order_lg": null,
       "order_md": null,
       "order_sm": null,
       "order_xl": null,
       "slot": null,
       "sm": null,
       "style_": null,
       "tabbable": null,
       "tag": null,
       "tooltip": null,
       "v_model": "!!disabled!!",
       "v_on": null,
       "v_slots": [],
       "xl": null
      }
     },
     "e122002b36af41339e8860a485859a6c": {
      "model_module": "jupyter-vuetify",
      "model_module_version": "^1.8.5",
      "model_name": "RowModel",
      "state": {
       "_dom_classes": [],
       "_events": [],
       "_jupyter_vue": "IPY_MODEL_2b7fe540a42c4f90a315622cd5319954",
       "_metadata": null,
       "_model_module": "jupyter-vuetify",
       "_model_module_version": "^1.8.5",
       "_model_name": "RowModel",
       "_view_count": null,
       "_view_module": "jupyter-vuetify",
       "_view_module_version": "^1.8.5",
       "_view_name": "VuetifyView",
       "align": null,
       "align_content": null,
       "align_content_lg": null,
       "align_content_md": null,
       "align_content_sm": null,
       "align_content_xl": null,
       "align_lg": null,
       "align_md": null,
       "align_sm": null,
       "align_xl": null,
       "attributes": {},
       "children": [
        "IPY_MODEL_da47a9898f4148489d9427cb1670140c"
       ],
       "class_": "solara-content-main",
       "dense": null,
       "justify": null,
       "justify_lg": null,
       "justify_md": null,
       "justify_sm": null,
       "justify_xl": null,
       "layout": null,
       "no_gutters": false,
       "slot": null,
       "style_": null,
       "tabbable": null,
       "tag": null,
       "tooltip": null,
       "v_model": "!!disabled!!",
       "v_on": null,
       "v_slots": []
      }
     },
     "e83214a2d17b47d98cfb6db7e9a53ce2": {
      "model_module": "jupyter-vuetify",
      "model_module_version": "^1.8.5",
      "model_name": "RowModel",
      "state": {
       "_dom_classes": [],
       "_events": [],
       "_jupyter_vue": "IPY_MODEL_2b7fe540a42c4f90a315622cd5319954",
       "_metadata": null,
       "_model_module": "jupyter-vuetify",
       "_model_module_version": "^1.8.5",
       "_model_name": "RowModel",
       "_view_count": null,
       "_view_module": "jupyter-vuetify",
       "_view_module_version": "^1.8.5",
       "_view_name": "VuetifyView",
       "align": null,
       "align_content": null,
       "align_content_lg": null,
       "align_content_md": null,
       "align_content_sm": null,
       "align_content_xl": null,
       "align_lg": null,
       "align_md": null,
       "align_sm": null,
       "align_xl": null,
       "attributes": {},
       "children": [
        "IPY_MODEL_b6ec4e05b02b492f88488bd437215165"
       ],
       "class_": "solara-content-main",
       "dense": null,
       "justify": null,
       "justify_lg": null,
       "justify_md": null,
       "justify_sm": null,
       "justify_xl": null,
       "layout": null,
       "no_gutters": false,
       "slot": null,
       "style_": null,
       "tabbable": null,
       "tag": null,
       "tooltip": null,
       "v_model": "!!disabled!!",
       "v_on": null,
       "v_slots": []
      }
     },
     "e9ab8a5c6bc247a6887bc9347d499e22": {
      "model_module": "@jupyter-widgets/controls",
      "model_module_version": "2.0.0",
      "model_name": "VBoxModel",
      "state": {
       "_dom_classes": [],
       "_model_module": "@jupyter-widgets/controls",
       "_model_module_version": "2.0.0",
       "_model_name": "VBoxModel",
       "_view_count": 0,
       "_view_module": "@jupyter-widgets/controls",
       "_view_module_version": "2.0.0",
       "_view_name": "VBoxView",
       "box_style": "",
       "children": [
        "IPY_MODEL_211bfe9d24564d67a5ac174f3133bf19"
       ],
       "layout": "IPY_MODEL_88863946a71a43749169d38f412db97f",
       "tabbable": null,
       "tooltip": null
      }
     },
     "f0e857a27bfb48e2b632b44adc4b9450": {
      "model_module": "jupyter-vuetify",
      "model_module_version": "^1.9.4",
      "model_name": "ThemeColorsModel",
      "state": {
       "_model_module": "jupyter-vuetify",
       "_model_module_version": "^1.9.4",
       "_model_name": "ThemeColorsModel",
       "_theme_name": "light",
       "_view_count": null,
       "_view_module": null,
       "_view_module_version": "^1.9.4",
       "_view_name": null,
       "accent": "#82B1FF",
       "anchor": null,
       "error": "#FF5252",
       "info": "#2196F3",
       "primary": "#1976D2",
       "secondary": "#424242",
       "success": "#4CAF50",
       "warning": "#FB8C00"
      }
     },
     "f22538dfb3d04bdca7a1f9fdc89e80fd": {
      "model_module": "@jupyter-widgets/controls",
      "model_module_version": "2.0.0",
      "model_name": "VBoxModel",
      "state": {
       "_dom_classes": [],
       "_model_module": "@jupyter-widgets/controls",
       "_model_module_version": "2.0.0",
       "_model_name": "VBoxModel",
       "_view_count": 0,
       "_view_module": "@jupyter-widgets/controls",
       "_view_module_version": "2.0.0",
       "_view_name": "VBoxView",
       "box_style": "",
       "children": [
        "IPY_MODEL_65880d3198c84572b4ac1921bdd9962f"
       ],
       "layout": "IPY_MODEL_1c3df68701854e8ab4e477c61feb532a",
       "tabbable": null,
       "tooltip": null
      }
     },
     "f923c7ae4ee049199a3fd941c96f2b7c": {
      "model_module": "jupyter-vuetify",
      "model_module_version": "^1.8.5",
      "model_name": "BtnModel",
      "state": {
       "_dom_classes": [],
       "_events": [
        "click"
       ],
       "_jupyter_vue": "IPY_MODEL_2b7fe540a42c4f90a315622cd5319954",
       "_metadata": null,
       "_model_module": "jupyter-vuetify",
       "_model_module_version": "^1.8.5",
       "_model_name": "BtnModel",
       "_view_count": null,
       "_view_module": "jupyter-vuetify",
       "_view_module_version": "^1.8.5",
       "_view_name": "VuetifyView",
       "absolute": null,
       "active_class": null,
       "append": null,
       "attributes": {},
       "block": null,
       "bottom": null,
       "children": [
        "IPY_MODEL_6ab5378e97274113a67148affa1b5a4f",
        "Download: ecdf-vpp.pdf"
       ],
       "class_": "",
       "color": null,
       "dark": null,
       "depressed": null,
       "disabled": false,
       "elevation": null,
       "exact": null,
       "exact_active_class": null,
       "fab": null,
       "fixed": null,
       "height": null,
       "href": null,
       "icon": null,
       "input_value": null,
       "large": null,
       "layout": null,
       "left": null,
       "light": null,
       "link": null,
       "loading": false,
       "max_height": null,
       "max_width": null,
       "min_height": null,
       "min_width": null,
       "nuxt": null,
       "outlined": false,
       "replace": null,
       "retain_focus_on_click": null,
       "right": null,
       "ripple": null,
       "rounded": null,
       "slot": null,
       "small": null,
       "style_": "",
       "tabbable": null,
       "tag": null,
       "target": null,
       "text": false,
       "tile": null,
       "to": null,
       "tooltip": null,
       "top": null,
       "type": null,
       "v_model": "!!disabled!!",
       "v_on": null,
       "v_slots": [],
       "value": null,
       "width": null,
       "x_large": null,
       "x_small": null
      }
     }
    },
    "version_major": 2,
    "version_minor": 0
   }
  }
 },
 "nbformat": 4,
 "nbformat_minor": 5
}