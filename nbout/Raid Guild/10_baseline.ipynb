{
 "cells": [
  {
   "cell_type": "code",
   "execution_count": 1,
   "id": "b5b6329b",
   "metadata": {
    "execution": {
     "iopub.execute_input": "2024-09-05T09:45:57.393691Z",
     "iopub.status.busy": "2024-09-05T09:45:57.393175Z",
     "iopub.status.idle": "2024-09-05T09:46:00.067276Z",
     "shell.execute_reply": "2024-09-05T09:46:00.067016Z"
    },
    "papermill": {
     "duration": 2.683313,
     "end_time": "2024-09-05T09:46:00.068074",
     "exception": false,
     "start_time": "2024-09-05T09:45:57.384761",
     "status": "completed"
    },
    "tags": []
   },
   "outputs": [
    {
     "name": "stderr",
     "output_type": "stream",
     "text": [
      "/tmp/ipykernel_3824106/2526015065.py:7: TqdmExperimentalWarning: Using `tqdm.autonotebook.tqdm` in notebook mode. Use `tqdm.tqdm` instead to force console mode (e.g. in jupyter console)\n",
      "  from tqdm.autonotebook import tqdm\n"
     ]
    },
    {
     "name": "stdout",
     "output_type": "stream",
     "text": [
      "Ignoring warnings\n"
     ]
    }
   ],
   "source": [
    "from typing import List\n",
    "import sys\n",
    "from collections import defaultdict\n",
    "\n",
    "import pandas as pd\n",
    "import numpy as np\n",
    "from tqdm.autonotebook import tqdm\n",
    "\n",
    "from recsys4daos.models import OpenPop\n",
    "from recsys4daos.datasets import to_microsoft\n",
    "from recsys4daos.model_selection import cvtt_open\n",
    "from recsys4daos.evaluation import calculate_all_metrics\n",
    "\n",
    "import paths\n",
    "\n",
    "import recommenders\n",
    "if recommenders.__version__ == '1.2.0':\n",
    "    print(\"Ignoring warnings\")\n",
    "    import warnings\n",
    "    warnings.simplefilter(action='ignore', category=FutureWarning)"
   ]
  },
  {
   "cell_type": "code",
   "execution_count": 2,
   "id": "efae56a6",
   "metadata": {
    "editable": true,
    "execution": {
     "iopub.execute_input": "2024-09-05T09:46:00.073039Z",
     "iopub.status.busy": "2024-09-05T09:46:00.072803Z",
     "iopub.status.idle": "2024-09-05T09:46:00.074802Z",
     "shell.execute_reply": "2024-09-05T09:46:00.074603Z"
    },
    "papermill": {
     "duration": 0.005134,
     "end_time": "2024-09-05T09:46:00.075464",
     "exception": false,
     "start_time": "2024-09-05T09:46:00.070330",
     "status": "completed"
    },
    "slideshow": {
     "slide_type": ""
    },
    "tags": [
     "parameters"
    ]
   },
   "outputs": [],
   "source": [
    "SPLITS_FREQ = \"W-THU\"\n",
    "SPLITS_NORMALIZE = True\n",
    "ORG_NAME = 'Decentraland'\n",
    "LAST_FOLD_DATE_STR: str = None # Won't use it, we will just calculate for every fold\n",
    "\n",
    "# In this notebook this is just used for plotting and description, not \"training\"\n",
    "# every fold is saved into the results table\n",
    "LAST_FOLDS = 10\n",
    "\n",
    "K_RECOMMENDATIONS: List[int] = [1,3,5,10,15,100]"
   ]
  },
  {
   "cell_type": "code",
   "execution_count": 3,
   "id": "684e962a",
   "metadata": {
    "execution": {
     "iopub.execute_input": "2024-09-05T09:46:00.079345Z",
     "iopub.status.busy": "2024-09-05T09:46:00.079177Z",
     "iopub.status.idle": "2024-09-05T09:46:00.080690Z",
     "shell.execute_reply": "2024-09-05T09:46:00.080504Z"
    },
    "papermill": {
     "duration": 0.004179,
     "end_time": "2024-09-05T09:46:00.081308",
     "exception": false,
     "start_time": "2024-09-05T09:46:00.077129",
     "status": "completed"
    },
    "tags": [
     "injected-parameters"
    ]
   },
   "outputs": [],
   "source": [
    "# Parameters\n",
    "EXECUTION_ID = \"2024-09-04T10:00\"\n",
    "ORG_NAME = \"Raid Guild\"\n",
    "SPLITS_FREQ = \"W-THU\"\n",
    "LAST_FOLDS = 10\n",
    "SPLITS_NORMALIZE = True\n",
    "LAST_FOLD_DATE_STR = \"2021-12-30\"\n"
   ]
  },
  {
   "cell_type": "markdown",
   "id": "dded8f06",
   "metadata": {
    "papermill": {
     "duration": 0.001681,
     "end_time": "2024-09-05T09:46:00.084671",
     "exception": false,
     "start_time": "2024-09-05T09:46:00.082990",
     "status": "completed"
    },
    "tags": []
   },
   "source": [
    "## Obtain dataset"
   ]
  },
  {
   "cell_type": "code",
   "execution_count": 4,
   "id": "c2454dbd",
   "metadata": {
    "execution": {
     "iopub.execute_input": "2024-09-05T09:46:00.088537Z",
     "iopub.status.busy": "2024-09-05T09:46:00.088386Z",
     "iopub.status.idle": "2024-09-05T09:46:00.213568Z",
     "shell.execute_reply": "2024-09-05T09:46:00.210886Z"
    },
    "papermill": {
     "duration": 0.131413,
     "end_time": "2024-09-05T09:46:00.217760",
     "exception": false,
     "start_time": "2024-09-05T09:46:00.086347",
     "status": "completed"
    },
    "tags": []
   },
   "outputs": [
    {
     "name": "stdout",
     "output_type": "stream",
     "text": [
      "/home/daviddavo/recsys4daos/notebooks\r\n"
     ]
    }
   ],
   "source": [
    "!pwd"
   ]
  },
  {
   "cell_type": "code",
   "execution_count": 5,
   "id": "d6b09dc5",
   "metadata": {
    "execution": {
     "iopub.execute_input": "2024-09-05T09:46:00.228703Z",
     "iopub.status.busy": "2024-09-05T09:46:00.228343Z",
     "iopub.status.idle": "2024-09-05T09:46:00.362226Z",
     "shell.execute_reply": "2024-09-05T09:46:00.359888Z"
    },
    "papermill": {
     "duration": 0.141251,
     "end_time": "2024-09-05T09:46:00.366066",
     "exception": false,
     "start_time": "2024-09-05T09:46:00.224815",
     "status": "completed"
    },
    "tags": []
   },
   "outputs": [
    {
     "name": "stdout",
     "output_type": "stream",
     "text": [
      "md5sum: '../data/decentraland/*': No such file or directory\r\n"
     ]
    }
   ],
   "source": [
    "!md5sum ../data/decentraland/*"
   ]
  },
  {
   "cell_type": "code",
   "execution_count": 6,
   "id": "d350b586",
   "metadata": {
    "execution": {
     "iopub.execute_input": "2024-09-05T09:46:00.373999Z",
     "iopub.status.busy": "2024-09-05T09:46:00.373895Z",
     "iopub.status.idle": "2024-09-05T09:46:00.416057Z",
     "shell.execute_reply": "2024-09-05T09:46:00.415789Z"
    },
    "papermill": {
     "duration": 0.045211,
     "end_time": "2024-09-05T09:46:00.416752",
     "exception": false,
     "start_time": "2024-09-05T09:46:00.371541",
     "status": "completed"
    },
    "tags": []
   },
   "outputs": [
    {
     "name": "stdout",
     "output_type": "stream",
     "text": [
      "<class 'pandas.core.frame.DataFrame'>\n",
      "RangeIndex: 531 entries, 0 to 530\n",
      "Data columns (total 6 columns):\n",
      " #   Column             Non-Null Count  Dtype         \n",
      "---  ------             --------------  -----         \n",
      " 0   id                 531 non-null    object        \n",
      " 1   author             531 non-null    object        \n",
      " 2   date               531 non-null    datetime64[us]\n",
      " 3   start              531 non-null    datetime64[us]\n",
      " 4   end                393 non-null    datetime64[us]\n",
      " 5   platform_proposal  531 non-null    object        \n",
      "dtypes: datetime64[us](3), object(3)\n",
      "memory usage: 25.0+ KB\n",
      "None\n",
      "<class 'pandas.core.frame.DataFrame'>\n",
      "RangeIndex: 1480 entries, 0 to 1479\n",
      "Data columns (total 4 columns):\n",
      " #   Column    Non-Null Count  Dtype         \n",
      "---  ------    --------------  -----         \n",
      " 0   id        1480 non-null   object        \n",
      " 1   proposal  1480 non-null   object        \n",
      " 2   voter     1480 non-null   object        \n",
      " 3   date      1480 non-null   datetime64[us]\n",
      "dtypes: datetime64[us](1), object(3)\n",
      "memory usage: 46.4+ KB\n",
      "None\n",
      "<class 'pandas.core.frame.DataFrame'>\n",
      "RangeIndex: 1480 entries, 0 to 1479\n",
      "Data columns (total 4 columns):\n",
      " #   Column     Non-Null Count  Dtype         \n",
      "---  ------     --------------  -----         \n",
      " 0   userID     1480 non-null   object        \n",
      " 1   itemID     1480 non-null   object        \n",
      " 2   timestamp  1480 non-null   datetime64[us]\n",
      " 3   rating     1480 non-null   int64         \n",
      "dtypes: datetime64[us](1), int64(1), object(2)\n",
      "memory usage: 46.4+ KB\n",
      "None\n"
     ]
    }
   ],
   "source": [
    "dfp = paths.load_proposals(ORG_NAME)\n",
    "dfv = paths.load_votes(ORG_NAME)\n",
    "\n",
    "df = to_microsoft(dfv)\n",
    "\n",
    "print(dfp.info())\n",
    "print(dfv.info())\n",
    "print(df.info())"
   ]
  },
  {
   "cell_type": "markdown",
   "id": "ec64121c",
   "metadata": {
    "papermill": {
     "duration": 0.003593,
     "end_time": "2024-09-05T09:46:00.423347",
     "exception": false,
     "start_time": "2024-09-05T09:46:00.419754",
     "status": "completed"
    },
    "tags": []
   },
   "source": [
    "## Showing some info of the folds"
   ]
  },
  {
   "cell_type": "code",
   "execution_count": 7,
   "id": "858f2394",
   "metadata": {
    "execution": {
     "iopub.execute_input": "2024-09-05T09:46:00.430016Z",
     "iopub.status.busy": "2024-09-05T09:46:00.429864Z",
     "iopub.status.idle": "2024-09-05T09:46:00.719103Z",
     "shell.execute_reply": "2024-09-05T09:46:00.718900Z"
    },
    "papermill": {
     "duration": 0.293058,
     "end_time": "2024-09-05T09:46:00.719807",
     "exception": false,
     "start_time": "2024-09-05T09:46:00.426749",
     "status": "completed"
    },
    "tags": []
   },
   "outputs": [
    {
     "name": "stdout",
     "output_type": "stream",
     "text": [
      "Saved dataframe into /home/daviddavo/recsys4daos/data/output/Raid Guild/baseline/folds-info_W-THU_normalize.parquet\n",
      "fold\n",
      "2023-05-04    1421\n",
      "2023-05-11    1425\n",
      "2023-05-18    1453\n",
      "2023-05-25    1457\n",
      "2023-06-01    1462\n",
      "2023-06-08    1471\n",
      "2023-06-15    1473\n",
      "2023-06-22    1473\n",
      "2023-06-29    1477\n",
      "2023-07-06    1478\n",
      "Name: votes in train, dtype: int64\n"
     ]
    },
    {
     "data": {
      "text/html": [
       "<style type=\"text/css\">\n",
       "</style>\n",
       "<table id=\"T_76b60\">\n",
       "  <thead>\n",
       "    <tr>\n",
       "      <th class=\"blank level0\" >&nbsp;</th>\n",
       "      <th id=\"T_76b60_level0_col0\" class=\"col_heading level0 col0\" >open proposals</th>\n",
       "      <th id=\"T_76b60_level0_col1\" class=\"col_heading level0 col1\" >votes in open proposals (train)</th>\n",
       "      <th id=\"T_76b60_level0_col2\" class=\"col_heading level0 col2\" >users in open proposals (train)</th>\n",
       "      <th id=\"T_76b60_level0_col3\" class=\"col_heading level0 col3\" >vpp in open proposals (train)</th>\n",
       "      <th id=\"T_76b60_level0_col4\" class=\"col_heading level0 col4\" >vpu in open proposals (train)</th>\n",
       "      <th id=\"T_76b60_level0_col5\" class=\"col_heading level0 col5\" >votes in test</th>\n",
       "      <th id=\"T_76b60_level0_col6\" class=\"col_heading level0 col6\" >users in test</th>\n",
       "      <th id=\"T_76b60_level0_col7\" class=\"col_heading level0 col7\" >vpp test</th>\n",
       "      <th id=\"T_76b60_level0_col8\" class=\"col_heading level0 col8\" >vpu test</th>\n",
       "    </tr>\n",
       "    <tr>\n",
       "      <th class=\"index_name level0\" >fold</th>\n",
       "      <th class=\"blank col0\" >&nbsp;</th>\n",
       "      <th class=\"blank col1\" >&nbsp;</th>\n",
       "      <th class=\"blank col2\" >&nbsp;</th>\n",
       "      <th class=\"blank col3\" >&nbsp;</th>\n",
       "      <th class=\"blank col4\" >&nbsp;</th>\n",
       "      <th class=\"blank col5\" >&nbsp;</th>\n",
       "      <th class=\"blank col6\" >&nbsp;</th>\n",
       "      <th class=\"blank col7\" >&nbsp;</th>\n",
       "      <th class=\"blank col8\" >&nbsp;</th>\n",
       "    </tr>\n",
       "  </thead>\n",
       "  <tbody>\n",
       "    <tr>\n",
       "      <th id=\"T_76b60_level0_row0\" class=\"row_heading level0 row0\" >2023-W18</th>\n",
       "      <td id=\"T_76b60_row0_col0\" class=\"data row0 col0\" >2</td>\n",
       "      <td id=\"T_76b60_row0_col1\" class=\"data row0 col1\" >5</td>\n",
       "      <td id=\"T_76b60_row0_col2\" class=\"data row0 col2\" >3</td>\n",
       "      <td id=\"T_76b60_row0_col3\" class=\"data row0 col3\" >2.50</td>\n",
       "      <td id=\"T_76b60_row0_col4\" class=\"data row0 col4\" >1.67</td>\n",
       "      <td id=\"T_76b60_row0_col5\" class=\"data row0 col5\" >0</td>\n",
       "      <td id=\"T_76b60_row0_col6\" class=\"data row0 col6\" >0</td>\n",
       "      <td id=\"T_76b60_row0_col7\" class=\"data row0 col7\" >0.00</td>\n",
       "      <td id=\"T_76b60_row0_col8\" class=\"data row0 col8\" >nan</td>\n",
       "    </tr>\n",
       "    <tr>\n",
       "      <th id=\"T_76b60_level0_row1\" class=\"row_heading level0 row1\" >2023-W19</th>\n",
       "      <td id=\"T_76b60_row1_col0\" class=\"data row1 col0\" >1</td>\n",
       "      <td id=\"T_76b60_row1_col1\" class=\"data row1 col1\" >0</td>\n",
       "      <td id=\"T_76b60_row1_col2\" class=\"data row1 col2\" >0</td>\n",
       "      <td id=\"T_76b60_row1_col3\" class=\"data row1 col3\" >0.00</td>\n",
       "      <td id=\"T_76b60_row1_col4\" class=\"data row1 col4\" >nan</td>\n",
       "      <td id=\"T_76b60_row1_col5\" class=\"data row1 col5\" >2</td>\n",
       "      <td id=\"T_76b60_row1_col6\" class=\"data row1 col6\" >2</td>\n",
       "      <td id=\"T_76b60_row1_col7\" class=\"data row1 col7\" >2.00</td>\n",
       "      <td id=\"T_76b60_row1_col8\" class=\"data row1 col8\" >1.00</td>\n",
       "    </tr>\n",
       "    <tr>\n",
       "      <th id=\"T_76b60_level0_row2\" class=\"row_heading level0 row2\" >2023-W20</th>\n",
       "      <td id=\"T_76b60_row2_col0\" class=\"data row2 col0\" >20</td>\n",
       "      <td id=\"T_76b60_row2_col1\" class=\"data row2 col1\" >28</td>\n",
       "      <td id=\"T_76b60_row2_col2\" class=\"data row2 col2\" >3</td>\n",
       "      <td id=\"T_76b60_row2_col3\" class=\"data row2 col3\" >1.40</td>\n",
       "      <td id=\"T_76b60_row2_col4\" class=\"data row2 col4\" >9.33</td>\n",
       "      <td id=\"T_76b60_row2_col5\" class=\"data row2 col5\" >0</td>\n",
       "      <td id=\"T_76b60_row2_col6\" class=\"data row2 col6\" >0</td>\n",
       "      <td id=\"T_76b60_row2_col7\" class=\"data row2 col7\" >0.00</td>\n",
       "      <td id=\"T_76b60_row2_col8\" class=\"data row2 col8\" >nan</td>\n",
       "    </tr>\n",
       "    <tr>\n",
       "      <th id=\"T_76b60_level0_row3\" class=\"row_heading level0 row3\" >2023-W21</th>\n",
       "      <td id=\"T_76b60_row3_col0\" class=\"data row3 col0\" >3</td>\n",
       "      <td id=\"T_76b60_row3_col1\" class=\"data row3 col1\" >3</td>\n",
       "      <td id=\"T_76b60_row3_col2\" class=\"data row3 col2\" >1</td>\n",
       "      <td id=\"T_76b60_row3_col3\" class=\"data row3 col3\" >1.00</td>\n",
       "      <td id=\"T_76b60_row3_col4\" class=\"data row3 col4\" >3.00</td>\n",
       "      <td id=\"T_76b60_row3_col5\" class=\"data row3 col5\" >0</td>\n",
       "      <td id=\"T_76b60_row3_col6\" class=\"data row3 col6\" >0</td>\n",
       "      <td id=\"T_76b60_row3_col7\" class=\"data row3 col7\" >0.00</td>\n",
       "      <td id=\"T_76b60_row3_col8\" class=\"data row3 col8\" >nan</td>\n",
       "    </tr>\n",
       "    <tr>\n",
       "      <th id=\"T_76b60_level0_row4\" class=\"row_heading level0 row4\" >2023-W22</th>\n",
       "      <td id=\"T_76b60_row4_col0\" class=\"data row4 col0\" >8</td>\n",
       "      <td id=\"T_76b60_row4_col1\" class=\"data row4 col1\" >5</td>\n",
       "      <td id=\"T_76b60_row4_col2\" class=\"data row4 col2\" >3</td>\n",
       "      <td id=\"T_76b60_row4_col3\" class=\"data row4 col3\" >0.62</td>\n",
       "      <td id=\"T_76b60_row4_col4\" class=\"data row4 col4\" >1.67</td>\n",
       "      <td id=\"T_76b60_row4_col5\" class=\"data row4 col5\" >9</td>\n",
       "      <td id=\"T_76b60_row4_col6\" class=\"data row4 col6\" >4</td>\n",
       "      <td id=\"T_76b60_row4_col7\" class=\"data row4 col7\" >1.12</td>\n",
       "      <td id=\"T_76b60_row4_col8\" class=\"data row4 col8\" >2.25</td>\n",
       "    </tr>\n",
       "    <tr>\n",
       "      <th id=\"T_76b60_level0_row5\" class=\"row_heading level0 row5\" >2023-W23</th>\n",
       "      <td id=\"T_76b60_row5_col0\" class=\"data row5 col0\" >2</td>\n",
       "      <td id=\"T_76b60_row5_col1\" class=\"data row5 col1\" >0</td>\n",
       "      <td id=\"T_76b60_row5_col2\" class=\"data row5 col2\" >0</td>\n",
       "      <td id=\"T_76b60_row5_col3\" class=\"data row5 col3\" >0.00</td>\n",
       "      <td id=\"T_76b60_row5_col4\" class=\"data row5 col4\" >nan</td>\n",
       "      <td id=\"T_76b60_row5_col5\" class=\"data row5 col5\" >2</td>\n",
       "      <td id=\"T_76b60_row5_col6\" class=\"data row5 col6\" >1</td>\n",
       "      <td id=\"T_76b60_row5_col7\" class=\"data row5 col7\" >1.00</td>\n",
       "      <td id=\"T_76b60_row5_col8\" class=\"data row5 col8\" >2.00</td>\n",
       "    </tr>\n",
       "    <tr>\n",
       "      <th id=\"T_76b60_level0_row6\" class=\"row_heading level0 row6\" >2023-W24</th>\n",
       "      <td id=\"T_76b60_row6_col0\" class=\"data row6 col0\" >0</td>\n",
       "      <td id=\"T_76b60_row6_col1\" class=\"data row6 col1\" >0</td>\n",
       "      <td id=\"T_76b60_row6_col2\" class=\"data row6 col2\" >0</td>\n",
       "      <td id=\"T_76b60_row6_col3\" class=\"data row6 col3\" >nan</td>\n",
       "      <td id=\"T_76b60_row6_col4\" class=\"data row6 col4\" >nan</td>\n",
       "      <td id=\"T_76b60_row6_col5\" class=\"data row6 col5\" >0</td>\n",
       "      <td id=\"T_76b60_row6_col6\" class=\"data row6 col6\" >0</td>\n",
       "      <td id=\"T_76b60_row6_col7\" class=\"data row6 col7\" >nan</td>\n",
       "      <td id=\"T_76b60_row6_col8\" class=\"data row6 col8\" >nan</td>\n",
       "    </tr>\n",
       "    <tr>\n",
       "      <th id=\"T_76b60_level0_row7\" class=\"row_heading level0 row7\" >2023-W25</th>\n",
       "      <td id=\"T_76b60_row7_col0\" class=\"data row7 col0\" >0</td>\n",
       "      <td id=\"T_76b60_row7_col1\" class=\"data row7 col1\" >0</td>\n",
       "      <td id=\"T_76b60_row7_col2\" class=\"data row7 col2\" >0</td>\n",
       "      <td id=\"T_76b60_row7_col3\" class=\"data row7 col3\" >nan</td>\n",
       "      <td id=\"T_76b60_row7_col4\" class=\"data row7 col4\" >nan</td>\n",
       "      <td id=\"T_76b60_row7_col5\" class=\"data row7 col5\" >0</td>\n",
       "      <td id=\"T_76b60_row7_col6\" class=\"data row7 col6\" >0</td>\n",
       "      <td id=\"T_76b60_row7_col7\" class=\"data row7 col7\" >nan</td>\n",
       "      <td id=\"T_76b60_row7_col8\" class=\"data row7 col8\" >nan</td>\n",
       "    </tr>\n",
       "    <tr>\n",
       "      <th id=\"T_76b60_level0_row8\" class=\"row_heading level0 row8\" >2023-W26</th>\n",
       "      <td id=\"T_76b60_row8_col0\" class=\"data row8 col0\" >2</td>\n",
       "      <td id=\"T_76b60_row8_col1\" class=\"data row8 col1\" >3</td>\n",
       "      <td id=\"T_76b60_row8_col2\" class=\"data row8 col2\" >3</td>\n",
       "      <td id=\"T_76b60_row8_col3\" class=\"data row8 col3\" >1.50</td>\n",
       "      <td id=\"T_76b60_row8_col4\" class=\"data row8 col4\" >1.00</td>\n",
       "      <td id=\"T_76b60_row8_col5\" class=\"data row8 col5\" >0</td>\n",
       "      <td id=\"T_76b60_row8_col6\" class=\"data row8 col6\" >0</td>\n",
       "      <td id=\"T_76b60_row8_col7\" class=\"data row8 col7\" >0.00</td>\n",
       "      <td id=\"T_76b60_row8_col8\" class=\"data row8 col8\" >nan</td>\n",
       "    </tr>\n",
       "    <tr>\n",
       "      <th id=\"T_76b60_level0_row9\" class=\"row_heading level0 row9\" >2023-W27</th>\n",
       "      <td id=\"T_76b60_row9_col0\" class=\"data row9 col0\" >0</td>\n",
       "      <td id=\"T_76b60_row9_col1\" class=\"data row9 col1\" >0</td>\n",
       "      <td id=\"T_76b60_row9_col2\" class=\"data row9 col2\" >0</td>\n",
       "      <td id=\"T_76b60_row9_col3\" class=\"data row9 col3\" >nan</td>\n",
       "      <td id=\"T_76b60_row9_col4\" class=\"data row9 col4\" >nan</td>\n",
       "      <td id=\"T_76b60_row9_col5\" class=\"data row9 col5\" >0</td>\n",
       "      <td id=\"T_76b60_row9_col6\" class=\"data row9 col6\" >0</td>\n",
       "      <td id=\"T_76b60_row9_col7\" class=\"data row9 col7\" >nan</td>\n",
       "      <td id=\"T_76b60_row9_col8\" class=\"data row9 col8\" >nan</td>\n",
       "    </tr>\n",
       "  </tbody>\n",
       "</table>\n"
      ],
      "text/plain": [
       "<pandas.io.formats.style.Styler at 0x7f7335d1bbd0>"
      ]
     },
     "execution_count": 7,
     "metadata": {},
     "output_type": "execute_result"
    }
   ],
   "source": [
    "sdd = defaultdict(list)\n",
    "\n",
    "for dftrain, dftest, t, openproposals in cvtt_open(to_microsoft(dfv), SPLITS_FREQ, dfp.reset_index(), remove_not_in_train_col='userID', normalize=SPLITS_NORMALIZE):\n",
    "    dftrain_filter = dftrain[dftrain['itemID'].isin(openproposals)]\n",
    "    \n",
    "    sdd['fold'].append(t)\n",
    "    sdd['open proposals'].append(len(openproposals))\n",
    "    \n",
    "    sdd['proposals in train'].append(dftrain['itemID'].nunique())\n",
    "    sdd['votes in train'].append(len(dftrain))\n",
    "    sdd['votes in open proposals (train)'].append(len(dftrain_filter))\n",
    "    sdd['users in open proposals (train)'].append(dftrain_filter['userID'].nunique())\n",
    "    sdd['votes in test'].append(len(dftest))\n",
    "    sdd['users in train'].append(dftrain['userID'].nunique())\n",
    "    sdd['users in test'].append(dftest['userID'].nunique())\n",
    "\n",
    "sdf_all = pd.DataFrame(sdd).set_index('fold')\n",
    "sdf_all['vpp in open proposals (train)'] = sdf_all['votes in open proposals (train)'] / sdf_all['open proposals']\n",
    "sdf_all['vpu in open proposals (train)'] = sdf_all['votes in open proposals (train)'] / sdf_all['users in open proposals (train)']\n",
    "sdf_all['vpp test'] = sdf_all['votes in test'] / sdf_all['open proposals']\n",
    "sdf_all['vpu test'] = sdf_all['votes in test'] / sdf_all['users in test']\n",
    "paths.save_folds_info(sdf_all, ORG_NAME, SPLITS_FREQ, SPLITS_NORMALIZE)\n",
    "sdf = sdf_all.tail(LAST_FOLDS)\n",
    "print(sdf['votes in train'])\n",
    "_style = sdf[['open proposals', 'votes in open proposals (train)', 'users in open proposals (train)', 'vpp in open proposals (train)', 'vpu in open proposals (train)', 'votes in test', 'users in test', 'vpp test', 'vpu test']].style\n",
    "_style = _style.format_index('{:%G-W%V}').format(precision=2)\n",
    "_style"
   ]
  },
  {
   "cell_type": "code",
   "execution_count": 8,
   "id": "0f562808",
   "metadata": {
    "execution": {
     "iopub.execute_input": "2024-09-05T09:46:00.725140Z",
     "iopub.status.busy": "2024-09-05T09:46:00.724914Z",
     "iopub.status.idle": "2024-09-05T09:46:00.735235Z",
     "shell.execute_reply": "2024-09-05T09:46:00.735031Z"
    },
    "papermill": {
     "duration": 0.013611,
     "end_time": "2024-09-05T09:46:00.735793",
     "exception": false,
     "start_time": "2024-09-05T09:46:00.722182",
     "status": "completed"
    },
    "tags": []
   },
   "outputs": [
    {
     "name": "stdout",
     "output_type": "stream",
     "text": [
      "\\begin{tabular}{lrrrrrrrrr}\n",
      " & \\textbf{open proposals} & \\textbf{votes in open proposals (train)} & \\textbf{users in open proposals (train)} & \\textbf{vpp in open proposals (train)} & \\textbf{vpu in open proposals (train)} & \\textbf{votes in test} & \\textbf{users in test} & \\textbf{vpp test} & \\textbf{vpu test} \\\\\n",
      "fold &  &  &  &  &  &  &  &  &  \\\\\n",
      "2023-W18 & 2 & 5 & 3 & 2.50 & 1.67 & 0 & 0 & 0.00 & nan \\\\\n",
      "2023-W19 & 1 & 0 & 0 & 0.00 & nan & 2 & 2 & 2.00 & 1.00 \\\\\n",
      "2023-W20 & 20 & 28 & 3 & 1.40 & 9.33 & 0 & 0 & 0.00 & nan \\\\\n",
      "2023-W21 & 3 & 3 & 1 & 1.00 & 3.00 & 0 & 0 & 0.00 & nan \\\\\n",
      "2023-W22 & 8 & 5 & 3 & 0.62 & 1.67 & 9 & 4 & 1.12 & 2.25 \\\\\n",
      "2023-W23 & 2 & 0 & 0 & 0.00 & nan & 2 & 1 & 1.00 & 2.00 \\\\\n",
      "2023-W24 & 0 & 0 & 0 & nan & nan & 0 & 0 & nan & nan \\\\\n",
      "2023-W25 & 0 & 0 & 0 & nan & nan & 0 & 0 & nan & nan \\\\\n",
      "2023-W26 & 2 & 3 & 3 & 1.50 & 1.00 & 0 & 0 & 0.00 & nan \\\\\n",
      "2023-W27 & 0 & 0 & 0 & nan & nan & 0 & 0 & nan & nan \\\\\n",
      "\\end{tabular}\n",
      "\n"
     ]
    }
   ],
   "source": [
    "print(_style\n",
    "  .format_index(\"\\\\textbf{{{}}}\", escape=\"latex\", axis=1)\n",
    "  .to_latex()\n",
    ")"
   ]
  },
  {
   "cell_type": "markdown",
   "id": "061cf8d8",
   "metadata": {
    "papermill": {
     "duration": 0.00204,
     "end_time": "2024-09-05T09:46:00.739842",
     "exception": false,
     "start_time": "2024-09-05T09:46:00.737802",
     "status": "completed"
    },
    "tags": []
   },
   "source": [
    "## Running openpop baseline"
   ]
  },
  {
   "cell_type": "code",
   "execution_count": 9,
   "id": "44df46f6",
   "metadata": {
    "execution": {
     "iopub.execute_input": "2024-09-05T09:46:00.744266Z",
     "iopub.status.busy": "2024-09-05T09:46:00.744174Z",
     "iopub.status.idle": "2024-09-05T09:46:37.325853Z",
     "shell.execute_reply": "2024-09-05T09:46:37.325532Z"
    },
    "papermill": {
     "duration": 36.584773,
     "end_time": "2024-09-05T09:46:37.326585",
     "exception": false,
     "start_time": "2024-09-05T09:46:00.741812",
     "status": "completed"
    },
    "tags": []
   },
   "outputs": [
    {
     "data": {
      "application/vnd.jupyter.widget-view+json": {
       "model_id": "80f9cbd6603f4d4892e18c776f0d6860",
       "version_major": 2,
       "version_minor": 0
      },
      "text/plain": [
       "  0%|          | 0/196 [00:00<?, ?it/s]"
      ]
     },
     "metadata": {},
     "output_type": "display_data"
    },
    {
     "name": "stderr",
     "output_type": "stream",
     "text": [
      "Warning, empty test fold 0 (2019-10-10 00:00:00), all ok since 0 folds ago\n",
      "Warning, empty test fold 1 (2019-10-17 00:00:00), all ok since 1 folds ago\n"
     ]
    },
    {
     "name": "stderr",
     "output_type": "stream",
     "text": [
      "Warning, empty test fold 2 (2019-10-24 00:00:00), all ok since 1 folds ago\n",
      "Warning, empty test fold 3 (2019-10-31 00:00:00), all ok since 1 folds ago\n"
     ]
    },
    {
     "name": "stderr",
     "output_type": "stream",
     "text": [
      "Warning, empty test fold 4 (2019-11-07 00:00:00), all ok since 1 folds ago\n",
      "Warning, empty test fold 5 (2019-11-14 00:00:00), all ok since 1 folds ago\n"
     ]
    },
    {
     "name": "stderr",
     "output_type": "stream",
     "text": [
      "Warning, empty test fold 6 (2019-11-21 00:00:00), all ok since 1 folds ago\n",
      "Warning, empty test fold 7 (2019-11-28 00:00:00), all ok since 1 folds ago\n"
     ]
    },
    {
     "name": "stderr",
     "output_type": "stream",
     "text": [
      "Warning, empty test fold 8 (2019-12-05 00:00:00), all ok since 1 folds ago\n",
      "Warning, empty test fold 9 (2019-12-12 00:00:00), all ok since 1 folds ago\n"
     ]
    },
    {
     "name": "stderr",
     "output_type": "stream",
     "text": [
      "Warning, empty test fold 10 (2019-12-19 00:00:00), all ok since 1 folds ago\n",
      "Warning, empty test fold 11 (2019-12-26 00:00:00), all ok since 1 folds ago\n"
     ]
    },
    {
     "name": "stderr",
     "output_type": "stream",
     "text": [
      "Warning, empty test fold 12 (2020-01-02 00:00:00), all ok since 1 folds ago\n",
      "Warning, empty test fold 13 (2020-01-09 00:00:00), all ok since 1 folds ago\n"
     ]
    },
    {
     "name": "stderr",
     "output_type": "stream",
     "text": [
      "Warning, empty test fold 14 (2020-01-16 00:00:00), all ok since 1 folds ago\n",
      "Warning, empty test fold 15 (2020-01-23 00:00:00), all ok since 1 folds ago\n"
     ]
    },
    {
     "name": "stderr",
     "output_type": "stream",
     "text": [
      "Warning, empty test fold 16 (2020-01-30 00:00:00), all ok since 1 folds ago\n",
      "Warning, empty test fold 17 (2020-02-06 00:00:00), all ok since 1 folds ago\n"
     ]
    },
    {
     "name": "stderr",
     "output_type": "stream",
     "text": [
      "Warning, empty test fold 18 (2020-02-13 00:00:00), all ok since 1 folds ago\n",
      "Warning, empty test fold 19 (2020-02-20 00:00:00), all ok since 1 folds ago\n"
     ]
    },
    {
     "name": "stderr",
     "output_type": "stream",
     "text": [
      "Warning, empty test fold 20 (2020-02-27 00:00:00), all ok since 1 folds ago\n",
      "Warning, empty test fold 21 (2020-03-05 00:00:00), all ok since 1 folds ago\n"
     ]
    },
    {
     "name": "stderr",
     "output_type": "stream",
     "text": [
      "Warning, empty test fold 22 (2020-03-12 00:00:00), all ok since 1 folds ago\n",
      "Warning, empty test fold 23 (2020-03-19 00:00:00), all ok since 1 folds ago\n"
     ]
    },
    {
     "name": "stderr",
     "output_type": "stream",
     "text": [
      "Warning, empty test fold 24 (2020-03-26 00:00:00), all ok since 1 folds ago\n",
      "Warning, empty test fold 25 (2020-04-02 00:00:00), all ok since 1 folds ago\n"
     ]
    },
    {
     "name": "stderr",
     "output_type": "stream",
     "text": [
      "Warning, empty test fold 26 (2020-04-09 00:00:00), all ok since 1 folds ago\n",
      "Warning, empty test fold 27 (2020-04-16 00:00:00), all ok since 1 folds ago\n"
     ]
    },
    {
     "name": "stderr",
     "output_type": "stream",
     "text": [
      "Warning, empty test fold 28 (2020-04-23 00:00:00), all ok since 1 folds ago\n",
      "Warning, empty test fold 29 (2020-04-30 00:00:00), all ok since 1 folds ago\n"
     ]
    },
    {
     "name": "stderr",
     "output_type": "stream",
     "text": [
      "Warning, empty test fold 30 (2020-05-07 00:00:00), all ok since 1 folds ago\n",
      "Warning, empty test fold 31 (2020-05-14 00:00:00), all ok since 1 folds ago\n"
     ]
    },
    {
     "name": "stderr",
     "output_type": "stream",
     "text": [
      "Warning, empty test fold 32 (2020-05-21 00:00:00), all ok since 1 folds ago\n",
      "Warning, empty test fold 33 (2020-05-28 00:00:00), all ok since 1 folds ago\n"
     ]
    },
    {
     "name": "stderr",
     "output_type": "stream",
     "text": [
      "Warning, empty test fold 34 (2020-06-04 00:00:00), all ok since 1 folds ago\n",
      "Warning, empty test fold 35 (2020-06-11 00:00:00), all ok since 1 folds ago\n"
     ]
    },
    {
     "name": "stderr",
     "output_type": "stream",
     "text": [
      "Warning, empty test fold 36 (2020-06-18 00:00:00), all ok since 1 folds ago\n",
      "Warning, empty test fold 37 (2020-06-25 00:00:00), all ok since 1 folds ago\n"
     ]
    },
    {
     "name": "stderr",
     "output_type": "stream",
     "text": [
      "Warning, empty test fold 38 (2020-07-02 00:00:00), all ok since 1 folds ago\n",
      "Warning, empty test fold 39 (2020-07-09 00:00:00), all ok since 1 folds ago\n"
     ]
    },
    {
     "name": "stderr",
     "output_type": "stream",
     "text": [
      "Warning, empty test fold 40 (2020-07-16 00:00:00), all ok since 1 folds ago\n",
      "Warning, empty test fold 41 (2020-07-23 00:00:00), all ok since 1 folds ago\n"
     ]
    },
    {
     "name": "stderr",
     "output_type": "stream",
     "text": [
      "Warning, empty test fold 42 (2020-07-30 00:00:00), all ok since 1 folds ago\n",
      "Warning, empty test fold 43 (2020-08-06 00:00:00), all ok since 1 folds ago\n"
     ]
    },
    {
     "name": "stderr",
     "output_type": "stream",
     "text": [
      "Warning, empty test fold 44 (2020-08-13 00:00:00), all ok since 1 folds ago\n",
      "Warning, empty test fold 45 (2020-08-20 00:00:00), all ok since 1 folds ago\n"
     ]
    },
    {
     "name": "stderr",
     "output_type": "stream",
     "text": [
      "Warning, empty test fold 46 (2020-08-27 00:00:00), all ok since 1 folds ago\n",
      "Warning, empty test fold 47 (2020-09-03 00:00:00), all ok since 1 folds ago\n"
     ]
    },
    {
     "name": "stderr",
     "output_type": "stream",
     "text": [
      "Warning, empty test fold 48 (2020-09-10 00:00:00), all ok since 1 folds ago\n",
      "Warning, empty test fold 49 (2020-09-17 00:00:00), all ok since 1 folds ago\n"
     ]
    },
    {
     "name": "stderr",
     "output_type": "stream",
     "text": [
      "Warning, empty test fold 50 (2020-09-24 00:00:00), all ok since 1 folds ago\n",
      "Warning, empty test fold 51 (2020-10-01 00:00:00), all ok since 1 folds ago\n"
     ]
    },
    {
     "name": "stderr",
     "output_type": "stream",
     "text": [
      "Warning, empty test fold 52 (2020-10-08 00:00:00), all ok since 1 folds ago\n",
      "Warning, empty test fold 53 (2020-10-15 00:00:00), all ok since 1 folds ago\n"
     ]
    },
    {
     "name": "stderr",
     "output_type": "stream",
     "text": [
      "Warning, empty test fold 54 (2020-10-22 00:00:00), all ok since 1 folds ago\n",
      "Warning, empty test fold 55 (2020-10-29 00:00:00), all ok since 1 folds ago\n"
     ]
    },
    {
     "name": "stderr",
     "output_type": "stream",
     "text": [
      "Warning, empty test fold 56 (2020-11-05 00:00:00), all ok since 1 folds ago\n",
      "Warning, empty test fold 57 (2020-11-12 00:00:00), all ok since 1 folds ago\n"
     ]
    },
    {
     "name": "stderr",
     "output_type": "stream",
     "text": [
      "Warning, empty test fold 58 (2020-11-19 00:00:00), all ok since 1 folds ago\n",
      "Warning, empty test fold 59 (2020-11-26 00:00:00), all ok since 1 folds ago\n"
     ]
    },
    {
     "name": "stderr",
     "output_type": "stream",
     "text": [
      "Warning, empty test fold 60 (2020-12-03 00:00:00), all ok since 1 folds ago\n",
      "Warning, empty test fold 61 (2020-12-10 00:00:00), all ok since 1 folds ago\n"
     ]
    },
    {
     "name": "stderr",
     "output_type": "stream",
     "text": [
      "Warning, empty test fold 62 (2020-12-17 00:00:00), all ok since 1 folds ago\n",
      "Warning, empty test fold 63 (2020-12-24 00:00:00), all ok since 1 folds ago\n"
     ]
    },
    {
     "name": "stderr",
     "output_type": "stream",
     "text": [
      "Warning, empty test fold 64 (2020-12-31 00:00:00), all ok since 1 folds ago\n",
      "Warning, empty test fold 65 (2021-01-07 00:00:00), all ok since 1 folds ago\n"
     ]
    },
    {
     "name": "stderr",
     "output_type": "stream",
     "text": [
      "Warning, empty test fold 66 (2021-01-14 00:00:00), all ok since 1 folds ago\n",
      "Warning, empty test fold 67 (2021-01-21 00:00:00), all ok since 1 folds ago\n"
     ]
    },
    {
     "name": "stderr",
     "output_type": "stream",
     "text": [
      "Warning, empty test fold 68 (2021-01-28 00:00:00), all ok since 1 folds ago\n",
      "Warning, empty test fold 69 (2021-02-04 00:00:00), all ok since 1 folds ago\n"
     ]
    },
    {
     "name": "stderr",
     "output_type": "stream",
     "text": [
      "Warning, empty test fold 70 (2021-02-11 00:00:00), all ok since 1 folds ago\n",
      "Warning, empty test fold 71 (2021-02-18 00:00:00), all ok since 1 folds ago\n"
     ]
    },
    {
     "name": "stderr",
     "output_type": "stream",
     "text": [
      "Warning, empty test fold 72 (2021-02-25 00:00:00), all ok since 1 folds ago\n",
      "Warning, test fold 73 (2021-03-04 00:00:00) with less than 5 open proposals (2). all ok since 1 folds ago\n"
     ]
    },
    {
     "name": "stderr",
     "output_type": "stream",
     "text": [
      "Warning, empty test fold 74 (2021-03-11 00:00:00), all ok since 2 folds ago\n",
      "Warning, test fold 75 (2021-03-18 00:00:00) with less than 5 open proposals (3). all ok since 1 folds ago\n"
     ]
    },
    {
     "name": "stderr",
     "output_type": "stream",
     "text": [
      "Warning, test fold 76 (2021-03-25 00:00:00) with less than 5 open proposals (1). all ok since 1 folds ago\n"
     ]
    },
    {
     "name": "stderr",
     "output_type": "stream",
     "text": [
      "Warning, test fold 78 (2021-04-08 00:00:00) with less than 5 open proposals (2). all ok since 2 folds ago\n"
     ]
    },
    {
     "name": "stderr",
     "output_type": "stream",
     "text": [
      "Warning, test fold 79 (2021-04-15 00:00:00) with less than 5 open proposals (3). all ok since 1 folds ago\n"
     ]
    },
    {
     "name": "stderr",
     "output_type": "stream",
     "text": [
      "Warning, test fold 81 (2021-04-29 00:00:00) with less than 5 open proposals (3). all ok since 2 folds ago\n"
     ]
    },
    {
     "name": "stderr",
     "output_type": "stream",
     "text": [
      "Warning, test fold 84 (2021-05-20 00:00:00) with less than 5 open proposals (2). all ok since 3 folds ago\n"
     ]
    },
    {
     "name": "stderr",
     "output_type": "stream",
     "text": [
      "Warning, test fold 86 (2021-06-03 00:00:00) with less than 5 open proposals (4). all ok since 2 folds ago\n"
     ]
    },
    {
     "name": "stderr",
     "output_type": "stream",
     "text": [
      "Warning, test fold 87 (2021-06-10 00:00:00) with less than 5 open proposals (2). all ok since 1 folds ago\n"
     ]
    },
    {
     "name": "stderr",
     "output_type": "stream",
     "text": [
      "Warning, empty test fold 89 (2021-06-24 00:00:00), all ok since 15 folds ago\n",
      "Warning, test fold 90 (2021-07-01 00:00:00) with less than 5 open proposals (3). all ok since 1 folds ago\n"
     ]
    },
    {
     "name": "stderr",
     "output_type": "stream",
     "text": [
      "Warning, empty test fold 91 (2021-07-08 00:00:00), all ok since 2 folds ago\n",
      "Warning, test fold 92 (2021-07-15 00:00:00) with less than 5 open proposals (4). all ok since 1 folds ago\n"
     ]
    },
    {
     "name": "stderr",
     "output_type": "stream",
     "text": [
      "Warning, test fold 93 (2021-07-22 00:00:00) with less than 5 open proposals (2). all ok since 1 folds ago\n"
     ]
    },
    {
     "name": "stderr",
     "output_type": "stream",
     "text": [
      "Warning, empty test fold 96 (2021-08-12 00:00:00), all ok since 5 folds ago\n",
      "Warning, test fold 97 (2021-08-19 00:00:00) with less than 5 open proposals (2). all ok since 1 folds ago\n"
     ]
    },
    {
     "name": "stderr",
     "output_type": "stream",
     "text": [
      "Warning, empty test fold 99 (2021-09-02 00:00:00), all ok since 3 folds ago\n"
     ]
    },
    {
     "name": "stderr",
     "output_type": "stream",
     "text": [
      "Warning, empty test fold 101 (2021-09-16 00:00:00), all ok since 2 folds ago\n",
      "Warning, test fold 102 (2021-09-23 00:00:00) with less than 5 open proposals (2). all ok since 1 folds ago\n"
     ]
    },
    {
     "name": "stderr",
     "output_type": "stream",
     "text": [
      "Warning, test fold 103 (2021-09-30 00:00:00) with less than 5 open proposals (3). all ok since 1 folds ago\n"
     ]
    },
    {
     "name": "stderr",
     "output_type": "stream",
     "text": [
      "Warning, test fold 104 (2021-10-07 00:00:00) with less than 5 open proposals (4). all ok since 1 folds ago\n"
     ]
    },
    {
     "name": "stderr",
     "output_type": "stream",
     "text": [
      "Warning, test fold 105 (2021-10-14 00:00:00) with less than 5 open proposals (3). all ok since 1 folds ago\n"
     ]
    },
    {
     "name": "stderr",
     "output_type": "stream",
     "text": [
      "Warning, test fold 106 (2021-10-21 00:00:00) with less than 5 open proposals (3). all ok since 1 folds ago\n"
     ]
    },
    {
     "name": "stderr",
     "output_type": "stream",
     "text": [
      "Warning, empty test fold 110 (2021-11-18 00:00:00), all ok since 9 folds ago\n",
      "Warning, test fold 111 (2021-11-25 00:00:00) with less than 5 open proposals (3). all ok since 1 folds ago\n"
     ]
    },
    {
     "name": "stderr",
     "output_type": "stream",
     "text": [
      "Warning, test fold 112 (2021-12-02 00:00:00) with less than 5 open proposals (3). all ok since 1 folds ago\n"
     ]
    },
    {
     "name": "stderr",
     "output_type": "stream",
     "text": [
      "Warning, empty test fold 113 (2021-12-09 00:00:00), all ok since 3 folds ago\n"
     ]
    },
    {
     "name": "stderr",
     "output_type": "stream",
     "text": [
      "Warning, test fold 116 (2021-12-30 00:00:00) with less than 5 open proposals (2). all ok since 3 folds ago\n"
     ]
    },
    {
     "name": "stderr",
     "output_type": "stream",
     "text": [
      "Warning, test fold 117 (2022-01-06 00:00:00) with less than 5 open proposals (2). all ok since 1 folds ago\n"
     ]
    },
    {
     "name": "stderr",
     "output_type": "stream",
     "text": [
      "Warning, test fold 118 (2022-01-13 00:00:00) with less than 5 open proposals (2). all ok since 1 folds ago\n"
     ]
    },
    {
     "name": "stderr",
     "output_type": "stream",
     "text": [
      "Warning, test fold 120 (2022-01-27 00:00:00) with less than 5 open proposals (4). all ok since 2 folds ago\n"
     ]
    },
    {
     "name": "stderr",
     "output_type": "stream",
     "text": [
      "Warning, test fold 121 (2022-02-03 00:00:00) with less than 5 open proposals (4). all ok since 1 folds ago\n"
     ]
    },
    {
     "name": "stderr",
     "output_type": "stream",
     "text": [
      "Warning, test fold 124 (2022-02-24 00:00:00) with less than 5 open proposals (2). all ok since 3 folds ago\n"
     ]
    },
    {
     "name": "stderr",
     "output_type": "stream",
     "text": [
      "Warning, empty test fold 125 (2022-03-03 00:00:00), all ok since 12 folds ago\n"
     ]
    },
    {
     "name": "stderr",
     "output_type": "stream",
     "text": [
      "Warning, empty test fold 127 (2022-03-17 00:00:00), all ok since 2 folds ago\n",
      "Warning, test fold 128 (2022-03-24 00:00:00) with less than 5 open proposals (4). all ok since 1 folds ago\n"
     ]
    },
    {
     "name": "stderr",
     "output_type": "stream",
     "text": [
      "Warning, test fold 129 (2022-03-31 00:00:00) with less than 5 open proposals (2). all ok since 1 folds ago\n",
      "Warning, test fold 130 (2022-04-07 00:00:00) with less than 5 open proposals (2). all ok since 1 folds ago\n"
     ]
    },
    {
     "name": "stderr",
     "output_type": "stream",
     "text": [
      "Warning, empty test fold 131 (2022-04-14 00:00:00), all ok since 4 folds ago\n",
      "Warning, test fold 132 (2022-04-21 00:00:00) with less than 5 open proposals (2). all ok since 1 folds ago\n"
     ]
    },
    {
     "name": "stderr",
     "output_type": "stream",
     "text": [
      "Warning, test fold 133 (2022-04-28 00:00:00) with less than 5 open proposals (1). all ok since 1 folds ago\n"
     ]
    },
    {
     "name": "stderr",
     "output_type": "stream",
     "text": [
      "Warning, empty test fold 134 (2022-05-05 00:00:00), all ok since 3 folds ago\n"
     ]
    },
    {
     "name": "stderr",
     "output_type": "stream",
     "text": [
      "Warning, test fold 136 (2022-05-19 00:00:00) with less than 5 open proposals (2). all ok since 2 folds ago\n"
     ]
    },
    {
     "name": "stderr",
     "output_type": "stream",
     "text": [
      "Warning, empty test fold 137 (2022-05-26 00:00:00), all ok since 3 folds ago\n",
      "Warning, empty test fold 138 (2022-06-02 00:00:00), all ok since 1 folds ago\n"
     ]
    },
    {
     "name": "stderr",
     "output_type": "stream",
     "text": [
      "Warning, empty test fold 139 (2022-06-09 00:00:00), all ok since 1 folds ago\n",
      "Warning, empty test fold 140 (2022-06-16 00:00:00), all ok since 1 folds ago\n"
     ]
    },
    {
     "name": "stderr",
     "output_type": "stream",
     "text": [
      "Warning, empty test fold 141 (2022-06-23 00:00:00), all ok since 1 folds ago\n",
      "Warning, empty test fold 142 (2022-06-30 00:00:00), all ok since 1 folds ago\n"
     ]
    },
    {
     "name": "stderr",
     "output_type": "stream",
     "text": [
      "Warning, test fold 143 (2022-07-07 00:00:00) with less than 5 open proposals (1). all ok since 1 folds ago\n"
     ]
    },
    {
     "name": "stderr",
     "output_type": "stream",
     "text": [
      "Warning, test fold 146 (2022-07-28 00:00:00) with less than 5 open proposals (1). all ok since 3 folds ago\n",
      "Warning, test fold 147 (2022-08-04 00:00:00) with less than 5 open proposals (2). all ok since 1 folds ago\n"
     ]
    },
    {
     "name": "stderr",
     "output_type": "stream",
     "text": [
      "Warning, test fold 148 (2022-08-11 00:00:00) with less than 5 open proposals (1). all ok since 1 folds ago\n",
      "Warning, test fold 149 (2022-08-18 00:00:00) with less than 5 open proposals (2). all ok since 1 folds ago\n"
     ]
    },
    {
     "name": "stderr",
     "output_type": "stream",
     "text": [
      "Warning, test fold 150 (2022-08-25 00:00:00) with less than 5 open proposals (3). all ok since 1 folds ago\n"
     ]
    },
    {
     "name": "stderr",
     "output_type": "stream",
     "text": [
      "Warning, test fold 151 (2022-09-01 00:00:00) with less than 5 open proposals (2). all ok since 1 folds ago\n"
     ]
    },
    {
     "name": "stderr",
     "output_type": "stream",
     "text": [
      "Warning, test fold 152 (2022-09-08 00:00:00) with less than 5 open proposals (1). all ok since 1 folds ago\n",
      "Warning, test fold 153 (2022-09-15 00:00:00) with less than 5 open proposals (2). all ok since 1 folds ago\n"
     ]
    },
    {
     "name": "stderr",
     "output_type": "stream",
     "text": [
      "Warning, test fold 154 (2022-09-22 00:00:00) with less than 5 open proposals (2). all ok since 1 folds ago\n"
     ]
    },
    {
     "name": "stderr",
     "output_type": "stream",
     "text": [
      "Warning, test fold 155 (2022-09-29 00:00:00) with less than 5 open proposals (2). all ok since 1 folds ago\n"
     ]
    },
    {
     "name": "stderr",
     "output_type": "stream",
     "text": [
      "Warning, test fold 156 (2022-10-06 00:00:00) with less than 5 open proposals (3). all ok since 1 folds ago\n"
     ]
    },
    {
     "name": "stderr",
     "output_type": "stream",
     "text": [
      "Warning, test fold 157 (2022-10-13 00:00:00) with less than 5 open proposals (1). all ok since 1 folds ago\n",
      "Warning, test fold 158 (2022-10-20 00:00:00) with less than 5 open proposals (1). all ok since 1 folds ago\n"
     ]
    },
    {
     "name": "stderr",
     "output_type": "stream",
     "text": [
      "Warning, test fold 159 (2022-10-27 00:00:00) with less than 5 open proposals (4). all ok since 1 folds ago\n"
     ]
    },
    {
     "name": "stderr",
     "output_type": "stream",
     "text": [
      "Warning, test fold 160 (2022-11-03 00:00:00) with less than 5 open proposals (4). all ok since 1 folds ago\n"
     ]
    },
    {
     "name": "stderr",
     "output_type": "stream",
     "text": [
      "Warning, test fold 161 (2022-11-10 00:00:00) with less than 5 open proposals (2). all ok since 1 folds ago\n"
     ]
    },
    {
     "name": "stderr",
     "output_type": "stream",
     "text": [
      "Warning, test fold 162 (2022-11-17 00:00:00) with less than 5 open proposals (1). all ok since 1 folds ago\n",
      "Warning, test fold 163 (2022-11-24 00:00:00) with less than 5 open proposals (1). all ok since 1 folds ago\n"
     ]
    },
    {
     "name": "stderr",
     "output_type": "stream",
     "text": [
      "Warning, test fold 164 (2022-12-01 00:00:00) with less than 5 open proposals (2). all ok since 1 folds ago\n"
     ]
    },
    {
     "name": "stderr",
     "output_type": "stream",
     "text": [
      "Warning, test fold 165 (2022-12-08 00:00:00) with less than 5 open proposals (4). all ok since 1 folds ago\n"
     ]
    },
    {
     "name": "stderr",
     "output_type": "stream",
     "text": [
      "Warning, test fold 166 (2022-12-15 00:00:00) with less than 5 open proposals (2). all ok since 1 folds ago\n"
     ]
    },
    {
     "name": "stderr",
     "output_type": "stream",
     "text": [
      "Warning, test fold 167 (2022-12-22 00:00:00) with less than 5 open proposals (1). all ok since 1 folds ago\n",
      "Warning, test fold 168 (2022-12-29 00:00:00) with less than 5 open proposals (2). all ok since 1 folds ago\n"
     ]
    },
    {
     "name": "stderr",
     "output_type": "stream",
     "text": [
      "Warning, test fold 169 (2023-01-05 00:00:00) with less than 5 open proposals (2). all ok since 1 folds ago\n"
     ]
    },
    {
     "name": "stderr",
     "output_type": "stream",
     "text": [
      "Warning, test fold 170 (2023-01-12 00:00:00) with less than 5 open proposals (4). all ok since 1 folds ago\n"
     ]
    },
    {
     "name": "stderr",
     "output_type": "stream",
     "text": [
      "Warning, test fold 171 (2023-01-19 00:00:00) with less than 5 open proposals (3). all ok since 1 folds ago\n"
     ]
    },
    {
     "name": "stderr",
     "output_type": "stream",
     "text": [
      "Warning, test fold 172 (2023-01-26 00:00:00) with less than 5 open proposals (2). all ok since 1 folds ago\n"
     ]
    },
    {
     "name": "stderr",
     "output_type": "stream",
     "text": [
      "Warning, test fold 173 (2023-02-02 00:00:00) with less than 5 open proposals (4). all ok since 1 folds ago\n"
     ]
    },
    {
     "name": "stderr",
     "output_type": "stream",
     "text": [
      "Warning, test fold 174 (2023-02-09 00:00:00) with less than 5 open proposals (1). all ok since 1 folds ago\n",
      "Warning, test fold 175 (2023-02-16 00:00:00) with less than 5 open proposals (2). all ok since 1 folds ago\n"
     ]
    },
    {
     "name": "stderr",
     "output_type": "stream",
     "text": [
      "Warning, empty test fold 176 (2023-02-23 00:00:00), all ok since 34 folds ago\n",
      "Warning, empty test fold 177 (2023-03-02 00:00:00), all ok since 1 folds ago\n"
     ]
    },
    {
     "name": "stderr",
     "output_type": "stream",
     "text": [
      "Warning, empty test fold 178 (2023-03-09 00:00:00), all ok since 1 folds ago\n",
      "Warning, empty test fold 179 (2023-03-16 00:00:00), all ok since 1 folds ago\n"
     ]
    },
    {
     "name": "stderr",
     "output_type": "stream",
     "text": [
      "Warning, empty test fold 180 (2023-03-23 00:00:00), all ok since 1 folds ago\n",
      "Warning, empty test fold 181 (2023-03-30 00:00:00), all ok since 1 folds ago\n"
     ]
    },
    {
     "name": "stderr",
     "output_type": "stream",
     "text": [
      "Warning, empty test fold 182 (2023-04-06 00:00:00), all ok since 1 folds ago\n",
      "Warning, test fold 183 (2023-04-13 00:00:00) with less than 5 open proposals (1). all ok since 1 folds ago\n"
     ]
    },
    {
     "name": "stderr",
     "output_type": "stream",
     "text": [
      "Warning, empty test fold 184 (2023-04-20 00:00:00), all ok since 2 folds ago\n",
      "Warning, test fold 185 (2023-04-27 00:00:00) with less than 5 open proposals (1). all ok since 1 folds ago\n"
     ]
    },
    {
     "name": "stderr",
     "output_type": "stream",
     "text": [
      "Warning, empty test fold 186 (2023-05-04 00:00:00), all ok since 2 folds ago\n",
      "Warning, test fold 187 (2023-05-11 00:00:00) with less than 5 open proposals (1). all ok since 1 folds ago\n"
     ]
    },
    {
     "name": "stderr",
     "output_type": "stream",
     "text": [
      "Warning, empty test fold 188 (2023-05-18 00:00:00), all ok since 2 folds ago\n",
      "Warning, empty test fold 189 (2023-05-25 00:00:00), all ok since 1 folds ago\n"
     ]
    },
    {
     "name": "stderr",
     "output_type": "stream",
     "text": [
      "Warning, test fold 191 (2023-06-08 00:00:00) with less than 5 open proposals (2). all ok since 2 folds ago\n",
      "Warning, empty test fold 192 (2023-06-15 00:00:00), all ok since 3 folds ago\n"
     ]
    },
    {
     "name": "stderr",
     "output_type": "stream",
     "text": [
      "Warning, empty test fold 193 (2023-06-22 00:00:00), all ok since 1 folds ago\n",
      "Warning, empty test fold 194 (2023-06-29 00:00:00), all ok since 1 folds ago\n"
     ]
    },
    {
     "name": "stdout",
     "output_type": "stream",
     "text": [
      "Max ok in a row: (34, Timestamp('2023-02-23 00:00:00'))\n"
     ]
    },
    {
     "name": "stderr",
     "output_type": "stream",
     "text": [
      "Warning, empty test fold 195 (2023-07-06 00:00:00), all ok since 1 folds ago\n"
     ]
    }
   ],
   "source": [
    "WARNING_AT_LEAST_OPEN = 5\n",
    "\n",
    "folds = list(cvtt_open(df, SPLITS_FREQ, dfp, remove_not_in_train_col='userID', normalize=SPLITS_NORMALIZE))\n",
    "metrics = []\n",
    "perfectmetrics = []\n",
    "\n",
    "first_empty = True\n",
    "ok_in_a_row = best_in_a_row = 0\n",
    "max_ok_in_a_row = (-1, folds[-1].end)\n",
    "for i, (train, test, t, open_proposals) in enumerate(tqdm(folds)):   \n",
    "    if first_empty:\n",
    "        if not train.empty:\n",
    "            first_empty = False\n",
    "    else:\n",
    "        assert not train.empty, f\"Train should not be empty on fold {i}\"\n",
    "    if test.empty:\n",
    "        print(f\"Warning, empty test fold {i} ({t}), all ok since {ok_in_a_row} folds ago\", file=sys.stderr)\n",
    "        if ok_in_a_row > max_ok_in_a_row[0]:\n",
    "            max_ok_in_a_row = (ok_in_a_row, t)\n",
    "        ok_in_a_row = best_in_a_row = 0\n",
    "    elif len(open_proposals) < WARNING_AT_LEAST_OPEN:\n",
    "        print(f\"Warning, test fold {i} ({t}) with less than {WARNING_AT_LEAST_OPEN} open proposals ({len(open_proposals)}). all ok since {best_in_a_row} folds ago\", file=sys.stderr)\n",
    "        best_in_a_row = 0\n",
    "\n",
    "    mdict = {'fold': t}\n",
    "    pdict = {'fold': t}\n",
    "    model = OpenPop(train)\n",
    "    recs = model.recommend_k_items(test['userID'].unique(), max(K_RECOMMENDATIONS), recommend_from=open_proposals)\n",
    "    mdict |= calculate_all_metrics(test, recs, K_RECOMMENDATIONS)\n",
    "        # for m, f in metrics_f.items():\n",
    "        #     r = f(test, recs, k=k_recs)\n",
    "        #     metrics[m+f'@{k_recs}'].append(r)\n",
    "    \n",
    "    recs = test.copy()\n",
    "    recs['prediction'] = 1\n",
    "    pdict |= calculate_all_metrics(test, recs, K_RECOMMENDATIONS)\n",
    "\n",
    "        # for m, f in metrics_f.items():\n",
    "        #     # Need relevancy_method=None as they are unsorted\n",
    "        #     r = f(test, recs, k=k_recs)\n",
    "        #     perfectmetrics[m+f'@{k_recs}'].append(r)\n",
    "\n",
    "    metrics.append(mdict)\n",
    "    perfectmetrics.append(pdict)\n",
    "    ok_in_a_row += 1\n",
    "    best_in_a_row += 1\n",
    "\n",
    "paths.save_dao_datum(ORG_NAME, 'max_ok_folds', str(max_ok_in_a_row[0]))\n",
    "paths.save_dao_datum(ORG_NAME, 'max_ok_folds_date', str(max_ok_in_a_row[1]))\n",
    "if max_ok_in_a_row == -1:\n",
    "    print(\"All ok :>\")\n",
    "else:\n",
    "    print(\"Max ok in a row:\", max_ok_in_a_row)"
   ]
  },
  {
   "cell_type": "markdown",
   "id": "202283eb",
   "metadata": {
    "papermill": {
     "duration": 0.005341,
     "end_time": "2024-09-05T09:46:37.337549",
     "exception": false,
     "start_time": "2024-09-05T09:46:37.332208",
     "status": "completed"
    },
    "tags": []
   },
   "source": [
    "### Caching these results"
   ]
  },
  {
   "cell_type": "code",
   "execution_count": 10,
   "id": "b1f57238",
   "metadata": {
    "execution": {
     "iopub.execute_input": "2024-09-05T09:46:37.347892Z",
     "iopub.status.busy": "2024-09-05T09:46:37.347798Z",
     "iopub.status.idle": "2024-09-05T09:46:37.375426Z",
     "shell.execute_reply": "2024-09-05T09:46:37.375117Z"
    },
    "papermill": {
     "duration": 0.033554,
     "end_time": "2024-09-05T09:46:37.376062",
     "exception": false,
     "start_time": "2024-09-05T09:46:37.342508",
     "status": "completed"
    },
    "tags": []
   },
   "outputs": [
    {
     "name": "stdout",
     "output_type": "stream",
     "text": [
      "Saved dataframe into /home/daviddavo/recsys4daos/data/output/Raid Guild/baseline/openpop_W-THU_normalize.parquet\n"
     ]
    },
    {
     "data": {
      "text/html": [
       "<div>\n",
       "<style scoped>\n",
       "    .dataframe tbody tr th:only-of-type {\n",
       "        vertical-align: middle;\n",
       "    }\n",
       "\n",
       "    .dataframe tbody tr th {\n",
       "        vertical-align: top;\n",
       "    }\n",
       "\n",
       "    .dataframe thead th {\n",
       "        text-align: right;\n",
       "    }\n",
       "</style>\n",
       "<table border=\"1\" class=\"dataframe\">\n",
       "  <thead>\n",
       "    <tr style=\"text-align: right;\">\n",
       "      <th></th>\n",
       "      <th>precision@1</th>\n",
       "      <th>precision@3</th>\n",
       "      <th>precision@5</th>\n",
       "      <th>precision@10</th>\n",
       "      <th>precision@15</th>\n",
       "      <th>precision@100</th>\n",
       "      <th>ndcg@1</th>\n",
       "      <th>ndcg@3</th>\n",
       "      <th>ndcg@5</th>\n",
       "      <th>ndcg@10</th>\n",
       "      <th>...</th>\n",
       "      <th>recall@10</th>\n",
       "      <th>recall@15</th>\n",
       "      <th>recall@100</th>\n",
       "      <th>r-precision@1</th>\n",
       "      <th>r-precision@3</th>\n",
       "      <th>r-precision@5</th>\n",
       "      <th>r-precision@10</th>\n",
       "      <th>r-precision@15</th>\n",
       "      <th>r-precision@100</th>\n",
       "      <th>time_eval</th>\n",
       "    </tr>\n",
       "  </thead>\n",
       "  <tbody>\n",
       "    <tr>\n",
       "      <th>count</th>\n",
       "      <td>196.000000</td>\n",
       "      <td>196.000000</td>\n",
       "      <td>196.000000</td>\n",
       "      <td>196.000000</td>\n",
       "      <td>196.000000</td>\n",
       "      <td>196.000000</td>\n",
       "      <td>196.000000</td>\n",
       "      <td>196.000000</td>\n",
       "      <td>196.000000</td>\n",
       "      <td>196.000000</td>\n",
       "      <td>...</td>\n",
       "      <td>196.000000</td>\n",
       "      <td>196.000000</td>\n",
       "      <td>196.000000</td>\n",
       "      <td>196.000000</td>\n",
       "      <td>191.000000</td>\n",
       "      <td>190.000000</td>\n",
       "      <td>190.000000</td>\n",
       "      <td>190.000000</td>\n",
       "      <td>190.000000</td>\n",
       "      <td>196.000000</td>\n",
       "    </tr>\n",
       "    <tr>\n",
       "      <th>mean</th>\n",
       "      <td>0.134437</td>\n",
       "      <td>0.084325</td>\n",
       "      <td>0.057199</td>\n",
       "      <td>0.029008</td>\n",
       "      <td>0.019339</td>\n",
       "      <td>0.002901</td>\n",
       "      <td>0.124658</td>\n",
       "      <td>0.152209</td>\n",
       "      <td>0.157969</td>\n",
       "      <td>0.158526</td>\n",
       "      <td>...</td>\n",
       "      <td>0.197648</td>\n",
       "      <td>0.197648</td>\n",
       "      <td>0.197648</td>\n",
       "      <td>0.150260</td>\n",
       "      <td>0.187867</td>\n",
       "      <td>0.194548</td>\n",
       "      <td>0.194548</td>\n",
       "      <td>0.194548</td>\n",
       "      <td>0.194548</td>\n",
       "      <td>0.084639</td>\n",
       "    </tr>\n",
       "    <tr>\n",
       "      <th>std</th>\n",
       "      <td>0.304600</td>\n",
       "      <td>0.161782</td>\n",
       "      <td>0.107854</td>\n",
       "      <td>0.055214</td>\n",
       "      <td>0.036809</td>\n",
       "      <td>0.005521</td>\n",
       "      <td>0.284562</td>\n",
       "      <td>0.302731</td>\n",
       "      <td>0.308153</td>\n",
       "      <td>0.309091</td>\n",
       "      <td>...</td>\n",
       "      <td>0.365518</td>\n",
       "      <td>0.365518</td>\n",
       "      <td>0.365518</td>\n",
       "      <td>0.323459</td>\n",
       "      <td>0.361197</td>\n",
       "      <td>0.370387</td>\n",
       "      <td>0.370387</td>\n",
       "      <td>0.370387</td>\n",
       "      <td>0.370387</td>\n",
       "      <td>0.022230</td>\n",
       "    </tr>\n",
       "    <tr>\n",
       "      <th>min</th>\n",
       "      <td>0.000000</td>\n",
       "      <td>0.000000</td>\n",
       "      <td>0.000000</td>\n",
       "      <td>0.000000</td>\n",
       "      <td>0.000000</td>\n",
       "      <td>0.000000</td>\n",
       "      <td>0.000000</td>\n",
       "      <td>0.000000</td>\n",
       "      <td>0.000000</td>\n",
       "      <td>0.000000</td>\n",
       "      <td>...</td>\n",
       "      <td>0.000000</td>\n",
       "      <td>0.000000</td>\n",
       "      <td>0.000000</td>\n",
       "      <td>0.000000</td>\n",
       "      <td>0.000000</td>\n",
       "      <td>0.000000</td>\n",
       "      <td>0.000000</td>\n",
       "      <td>0.000000</td>\n",
       "      <td>0.000000</td>\n",
       "      <td>0.068149</td>\n",
       "    </tr>\n",
       "    <tr>\n",
       "      <th>25%</th>\n",
       "      <td>0.000000</td>\n",
       "      <td>0.000000</td>\n",
       "      <td>0.000000</td>\n",
       "      <td>0.000000</td>\n",
       "      <td>0.000000</td>\n",
       "      <td>0.000000</td>\n",
       "      <td>0.000000</td>\n",
       "      <td>0.000000</td>\n",
       "      <td>0.000000</td>\n",
       "      <td>0.000000</td>\n",
       "      <td>...</td>\n",
       "      <td>0.000000</td>\n",
       "      <td>0.000000</td>\n",
       "      <td>0.000000</td>\n",
       "      <td>0.000000</td>\n",
       "      <td>0.000000</td>\n",
       "      <td>0.000000</td>\n",
       "      <td>0.000000</td>\n",
       "      <td>0.000000</td>\n",
       "      <td>0.000000</td>\n",
       "      <td>0.069312</td>\n",
       "    </tr>\n",
       "    <tr>\n",
       "      <th>50%</th>\n",
       "      <td>0.000000</td>\n",
       "      <td>0.000000</td>\n",
       "      <td>0.000000</td>\n",
       "      <td>0.000000</td>\n",
       "      <td>0.000000</td>\n",
       "      <td>0.000000</td>\n",
       "      <td>0.000000</td>\n",
       "      <td>0.000000</td>\n",
       "      <td>0.000000</td>\n",
       "      <td>0.000000</td>\n",
       "      <td>...</td>\n",
       "      <td>0.000000</td>\n",
       "      <td>0.000000</td>\n",
       "      <td>0.000000</td>\n",
       "      <td>0.000000</td>\n",
       "      <td>0.000000</td>\n",
       "      <td>0.000000</td>\n",
       "      <td>0.000000</td>\n",
       "      <td>0.000000</td>\n",
       "      <td>0.000000</td>\n",
       "      <td>0.070992</td>\n",
       "    </tr>\n",
       "    <tr>\n",
       "      <th>75%</th>\n",
       "      <td>0.000000</td>\n",
       "      <td>0.011905</td>\n",
       "      <td>0.030519</td>\n",
       "      <td>0.015260</td>\n",
       "      <td>0.010173</td>\n",
       "      <td>0.001526</td>\n",
       "      <td>0.000000</td>\n",
       "      <td>0.021331</td>\n",
       "      <td>0.085484</td>\n",
       "      <td>0.085484</td>\n",
       "      <td>...</td>\n",
       "      <td>0.076705</td>\n",
       "      <td>0.076705</td>\n",
       "      <td>0.076705</td>\n",
       "      <td>0.000000</td>\n",
       "      <td>0.000000</td>\n",
       "      <td>0.000000</td>\n",
       "      <td>0.000000</td>\n",
       "      <td>0.000000</td>\n",
       "      <td>0.000000</td>\n",
       "      <td>0.111395</td>\n",
       "    </tr>\n",
       "    <tr>\n",
       "      <th>max</th>\n",
       "      <td>1.000000</td>\n",
       "      <td>0.833333</td>\n",
       "      <td>0.500000</td>\n",
       "      <td>0.250000</td>\n",
       "      <td>0.166667</td>\n",
       "      <td>0.025000</td>\n",
       "      <td>1.000000</td>\n",
       "      <td>1.000000</td>\n",
       "      <td>1.000000</td>\n",
       "      <td>1.000000</td>\n",
       "      <td>...</td>\n",
       "      <td>1.000000</td>\n",
       "      <td>1.000000</td>\n",
       "      <td>1.000000</td>\n",
       "      <td>1.000000</td>\n",
       "      <td>1.000000</td>\n",
       "      <td>1.000000</td>\n",
       "      <td>1.000000</td>\n",
       "      <td>1.000000</td>\n",
       "      <td>1.000000</td>\n",
       "      <td>0.127793</td>\n",
       "    </tr>\n",
       "  </tbody>\n",
       "</table>\n",
       "<p>8 rows × 31 columns</p>\n",
       "</div>"
      ],
      "text/plain": [
       "       precision@1  precision@3  precision@5  precision@10  precision@15  \\\n",
       "count   196.000000   196.000000   196.000000    196.000000    196.000000   \n",
       "mean      0.134437     0.084325     0.057199      0.029008      0.019339   \n",
       "std       0.304600     0.161782     0.107854      0.055214      0.036809   \n",
       "min       0.000000     0.000000     0.000000      0.000000      0.000000   \n",
       "25%       0.000000     0.000000     0.000000      0.000000      0.000000   \n",
       "50%       0.000000     0.000000     0.000000      0.000000      0.000000   \n",
       "75%       0.000000     0.011905     0.030519      0.015260      0.010173   \n",
       "max       1.000000     0.833333     0.500000      0.250000      0.166667   \n",
       "\n",
       "       precision@100      ndcg@1      ndcg@3      ndcg@5     ndcg@10  ...  \\\n",
       "count     196.000000  196.000000  196.000000  196.000000  196.000000  ...   \n",
       "mean        0.002901    0.124658    0.152209    0.157969    0.158526  ...   \n",
       "std         0.005521    0.284562    0.302731    0.308153    0.309091  ...   \n",
       "min         0.000000    0.000000    0.000000    0.000000    0.000000  ...   \n",
       "25%         0.000000    0.000000    0.000000    0.000000    0.000000  ...   \n",
       "50%         0.000000    0.000000    0.000000    0.000000    0.000000  ...   \n",
       "75%         0.001526    0.000000    0.021331    0.085484    0.085484  ...   \n",
       "max         0.025000    1.000000    1.000000    1.000000    1.000000  ...   \n",
       "\n",
       "        recall@10   recall@15  recall@100  r-precision@1  r-precision@3  \\\n",
       "count  196.000000  196.000000  196.000000     196.000000     191.000000   \n",
       "mean     0.197648    0.197648    0.197648       0.150260       0.187867   \n",
       "std      0.365518    0.365518    0.365518       0.323459       0.361197   \n",
       "min      0.000000    0.000000    0.000000       0.000000       0.000000   \n",
       "25%      0.000000    0.000000    0.000000       0.000000       0.000000   \n",
       "50%      0.000000    0.000000    0.000000       0.000000       0.000000   \n",
       "75%      0.076705    0.076705    0.076705       0.000000       0.000000   \n",
       "max      1.000000    1.000000    1.000000       1.000000       1.000000   \n",
       "\n",
       "       r-precision@5  r-precision@10  r-precision@15  r-precision@100  \\\n",
       "count     190.000000      190.000000      190.000000       190.000000   \n",
       "mean        0.194548        0.194548        0.194548         0.194548   \n",
       "std         0.370387        0.370387        0.370387         0.370387   \n",
       "min         0.000000        0.000000        0.000000         0.000000   \n",
       "25%         0.000000        0.000000        0.000000         0.000000   \n",
       "50%         0.000000        0.000000        0.000000         0.000000   \n",
       "75%         0.000000        0.000000        0.000000         0.000000   \n",
       "max         1.000000        1.000000        1.000000         1.000000   \n",
       "\n",
       "        time_eval  \n",
       "count  196.000000  \n",
       "mean     0.084639  \n",
       "std      0.022230  \n",
       "min      0.068149  \n",
       "25%      0.069312  \n",
       "50%      0.070992  \n",
       "75%      0.111395  \n",
       "max      0.127793  \n",
       "\n",
       "[8 rows x 31 columns]"
      ]
     },
     "execution_count": 10,
     "metadata": {},
     "output_type": "execute_result"
    }
   ],
   "source": [
    "odf = pd.DataFrame(metrics).set_index(\"fold\")\n",
    "paths.save_openpop(odf, ORG_NAME, SPLITS_FREQ, SPLITS_NORMALIZE)\n",
    "odf.describe()"
   ]
  },
  {
   "cell_type": "code",
   "execution_count": 11,
   "id": "d48766a7",
   "metadata": {
    "execution": {
     "iopub.execute_input": "2024-09-05T09:46:37.386928Z",
     "iopub.status.busy": "2024-09-05T09:46:37.386810Z",
     "iopub.status.idle": "2024-09-05T09:46:37.412587Z",
     "shell.execute_reply": "2024-09-05T09:46:37.412274Z"
    },
    "papermill": {
     "duration": 0.032135,
     "end_time": "2024-09-05T09:46:37.413367",
     "exception": false,
     "start_time": "2024-09-05T09:46:37.381232",
     "status": "completed"
    },
    "tags": []
   },
   "outputs": [
    {
     "name": "stdout",
     "output_type": "stream",
     "text": [
      "Saved dataframe into /home/daviddavo/recsys4daos/data/output/Raid Guild/baseline/perfect_W-THU_normalize.parquet\n"
     ]
    },
    {
     "data": {
      "text/html": [
       "<div>\n",
       "<style scoped>\n",
       "    .dataframe tbody tr th:only-of-type {\n",
       "        vertical-align: middle;\n",
       "    }\n",
       "\n",
       "    .dataframe tbody tr th {\n",
       "        vertical-align: top;\n",
       "    }\n",
       "\n",
       "    .dataframe thead th {\n",
       "        text-align: right;\n",
       "    }\n",
       "</style>\n",
       "<table border=\"1\" class=\"dataframe\">\n",
       "  <thead>\n",
       "    <tr style=\"text-align: right;\">\n",
       "      <th></th>\n",
       "      <th>precision@1</th>\n",
       "      <th>precision@3</th>\n",
       "      <th>precision@5</th>\n",
       "      <th>precision@10</th>\n",
       "      <th>precision@15</th>\n",
       "      <th>precision@100</th>\n",
       "      <th>ndcg@1</th>\n",
       "      <th>ndcg@3</th>\n",
       "      <th>ndcg@5</th>\n",
       "      <th>ndcg@10</th>\n",
       "      <th>...</th>\n",
       "      <th>recall@10</th>\n",
       "      <th>recall@15</th>\n",
       "      <th>recall@100</th>\n",
       "      <th>r-precision@1</th>\n",
       "      <th>r-precision@3</th>\n",
       "      <th>r-precision@5</th>\n",
       "      <th>r-precision@10</th>\n",
       "      <th>r-precision@15</th>\n",
       "      <th>r-precision@100</th>\n",
       "      <th>time_eval</th>\n",
       "    </tr>\n",
       "  </thead>\n",
       "  <tbody>\n",
       "    <tr>\n",
       "      <th>count</th>\n",
       "      <td>196.000000</td>\n",
       "      <td>196.000000</td>\n",
       "      <td>196.000000</td>\n",
       "      <td>196.000000</td>\n",
       "      <td>196.000000</td>\n",
       "      <td>196.000000</td>\n",
       "      <td>196.000000</td>\n",
       "      <td>196.000000</td>\n",
       "      <td>196.000000</td>\n",
       "      <td>196.000000</td>\n",
       "      <td>...</td>\n",
       "      <td>196.000000</td>\n",
       "      <td>196.000000</td>\n",
       "      <td>196.000000</td>\n",
       "      <td>196.000000</td>\n",
       "      <td>196.000000</td>\n",
       "      <td>196.000000</td>\n",
       "      <td>196.000000</td>\n",
       "      <td>196.000000</td>\n",
       "      <td>196.000000</td>\n",
       "      <td>196.000000</td>\n",
       "    </tr>\n",
       "    <tr>\n",
       "      <th>mean</th>\n",
       "      <td>0.459184</td>\n",
       "      <td>0.192205</td>\n",
       "      <td>0.119286</td>\n",
       "      <td>0.059771</td>\n",
       "      <td>0.039847</td>\n",
       "      <td>0.005977</td>\n",
       "      <td>0.459184</td>\n",
       "      <td>0.459184</td>\n",
       "      <td>0.459184</td>\n",
       "      <td>0.459184</td>\n",
       "      <td>...</td>\n",
       "      <td>0.459184</td>\n",
       "      <td>0.459184</td>\n",
       "      <td>0.459184</td>\n",
       "      <td>0.409253</td>\n",
       "      <td>0.454744</td>\n",
       "      <td>0.459001</td>\n",
       "      <td>0.459184</td>\n",
       "      <td>0.459184</td>\n",
       "      <td>0.459184</td>\n",
       "      <td>0.097847</td>\n",
       "    </tr>\n",
       "    <tr>\n",
       "      <th>std</th>\n",
       "      <td>0.499607</td>\n",
       "      <td>0.225256</td>\n",
       "      <td>0.144242</td>\n",
       "      <td>0.072547</td>\n",
       "      <td>0.048365</td>\n",
       "      <td>0.007255</td>\n",
       "      <td>0.499607</td>\n",
       "      <td>0.499607</td>\n",
       "      <td>0.499607</td>\n",
       "      <td>0.499607</td>\n",
       "      <td>...</td>\n",
       "      <td>0.499607</td>\n",
       "      <td>0.499607</td>\n",
       "      <td>0.499607</td>\n",
       "      <td>0.456963</td>\n",
       "      <td>0.495222</td>\n",
       "      <td>0.499416</td>\n",
       "      <td>0.499607</td>\n",
       "      <td>0.499607</td>\n",
       "      <td>0.499607</td>\n",
       "      <td>0.029503</td>\n",
       "    </tr>\n",
       "    <tr>\n",
       "      <th>min</th>\n",
       "      <td>0.000000</td>\n",
       "      <td>0.000000</td>\n",
       "      <td>0.000000</td>\n",
       "      <td>0.000000</td>\n",
       "      <td>0.000000</td>\n",
       "      <td>0.000000</td>\n",
       "      <td>0.000000</td>\n",
       "      <td>0.000000</td>\n",
       "      <td>0.000000</td>\n",
       "      <td>0.000000</td>\n",
       "      <td>...</td>\n",
       "      <td>0.000000</td>\n",
       "      <td>0.000000</td>\n",
       "      <td>0.000000</td>\n",
       "      <td>0.000000</td>\n",
       "      <td>0.000000</td>\n",
       "      <td>0.000000</td>\n",
       "      <td>0.000000</td>\n",
       "      <td>0.000000</td>\n",
       "      <td>0.000000</td>\n",
       "      <td>0.071790</td>\n",
       "    </tr>\n",
       "    <tr>\n",
       "      <th>25%</th>\n",
       "      <td>0.000000</td>\n",
       "      <td>0.000000</td>\n",
       "      <td>0.000000</td>\n",
       "      <td>0.000000</td>\n",
       "      <td>0.000000</td>\n",
       "      <td>0.000000</td>\n",
       "      <td>0.000000</td>\n",
       "      <td>0.000000</td>\n",
       "      <td>0.000000</td>\n",
       "      <td>0.000000</td>\n",
       "      <td>...</td>\n",
       "      <td>0.000000</td>\n",
       "      <td>0.000000</td>\n",
       "      <td>0.000000</td>\n",
       "      <td>0.000000</td>\n",
       "      <td>0.000000</td>\n",
       "      <td>0.000000</td>\n",
       "      <td>0.000000</td>\n",
       "      <td>0.000000</td>\n",
       "      <td>0.000000</td>\n",
       "      <td>0.072982</td>\n",
       "    </tr>\n",
       "    <tr>\n",
       "      <th>50%</th>\n",
       "      <td>0.000000</td>\n",
       "      <td>0.000000</td>\n",
       "      <td>0.000000</td>\n",
       "      <td>0.000000</td>\n",
       "      <td>0.000000</td>\n",
       "      <td>0.000000</td>\n",
       "      <td>0.000000</td>\n",
       "      <td>0.000000</td>\n",
       "      <td>0.000000</td>\n",
       "      <td>0.000000</td>\n",
       "      <td>...</td>\n",
       "      <td>0.000000</td>\n",
       "      <td>0.000000</td>\n",
       "      <td>0.000000</td>\n",
       "      <td>0.000000</td>\n",
       "      <td>0.000000</td>\n",
       "      <td>0.000000</td>\n",
       "      <td>0.000000</td>\n",
       "      <td>0.000000</td>\n",
       "      <td>0.000000</td>\n",
       "      <td>0.075155</td>\n",
       "    </tr>\n",
       "    <tr>\n",
       "      <th>75%</th>\n",
       "      <td>1.000000</td>\n",
       "      <td>0.333333</td>\n",
       "      <td>0.200000</td>\n",
       "      <td>0.100000</td>\n",
       "      <td>0.066667</td>\n",
       "      <td>0.010000</td>\n",
       "      <td>1.000000</td>\n",
       "      <td>1.000000</td>\n",
       "      <td>1.000000</td>\n",
       "      <td>1.000000</td>\n",
       "      <td>...</td>\n",
       "      <td>1.000000</td>\n",
       "      <td>1.000000</td>\n",
       "      <td>1.000000</td>\n",
       "      <td>1.000000</td>\n",
       "      <td>1.000000</td>\n",
       "      <td>1.000000</td>\n",
       "      <td>1.000000</td>\n",
       "      <td>1.000000</td>\n",
       "      <td>1.000000</td>\n",
       "      <td>0.124009</td>\n",
       "    </tr>\n",
       "    <tr>\n",
       "      <th>max</th>\n",
       "      <td>1.000000</td>\n",
       "      <td>0.777778</td>\n",
       "      <td>0.600000</td>\n",
       "      <td>0.312500</td>\n",
       "      <td>0.208333</td>\n",
       "      <td>0.031250</td>\n",
       "      <td>1.000000</td>\n",
       "      <td>1.000000</td>\n",
       "      <td>1.000000</td>\n",
       "      <td>1.000000</td>\n",
       "      <td>...</td>\n",
       "      <td>1.000000</td>\n",
       "      <td>1.000000</td>\n",
       "      <td>1.000000</td>\n",
       "      <td>1.000000</td>\n",
       "      <td>1.000000</td>\n",
       "      <td>1.000000</td>\n",
       "      <td>1.000000</td>\n",
       "      <td>1.000000</td>\n",
       "      <td>1.000000</td>\n",
       "      <td>0.296639</td>\n",
       "    </tr>\n",
       "  </tbody>\n",
       "</table>\n",
       "<p>8 rows × 31 columns</p>\n",
       "</div>"
      ],
      "text/plain": [
       "       precision@1  precision@3  precision@5  precision@10  precision@15  \\\n",
       "count   196.000000   196.000000   196.000000    196.000000    196.000000   \n",
       "mean      0.459184     0.192205     0.119286      0.059771      0.039847   \n",
       "std       0.499607     0.225256     0.144242      0.072547      0.048365   \n",
       "min       0.000000     0.000000     0.000000      0.000000      0.000000   \n",
       "25%       0.000000     0.000000     0.000000      0.000000      0.000000   \n",
       "50%       0.000000     0.000000     0.000000      0.000000      0.000000   \n",
       "75%       1.000000     0.333333     0.200000      0.100000      0.066667   \n",
       "max       1.000000     0.777778     0.600000      0.312500      0.208333   \n",
       "\n",
       "       precision@100      ndcg@1      ndcg@3      ndcg@5     ndcg@10  ...  \\\n",
       "count     196.000000  196.000000  196.000000  196.000000  196.000000  ...   \n",
       "mean        0.005977    0.459184    0.459184    0.459184    0.459184  ...   \n",
       "std         0.007255    0.499607    0.499607    0.499607    0.499607  ...   \n",
       "min         0.000000    0.000000    0.000000    0.000000    0.000000  ...   \n",
       "25%         0.000000    0.000000    0.000000    0.000000    0.000000  ...   \n",
       "50%         0.000000    0.000000    0.000000    0.000000    0.000000  ...   \n",
       "75%         0.010000    1.000000    1.000000    1.000000    1.000000  ...   \n",
       "max         0.031250    1.000000    1.000000    1.000000    1.000000  ...   \n",
       "\n",
       "        recall@10   recall@15  recall@100  r-precision@1  r-precision@3  \\\n",
       "count  196.000000  196.000000  196.000000     196.000000     196.000000   \n",
       "mean     0.459184    0.459184    0.459184       0.409253       0.454744   \n",
       "std      0.499607    0.499607    0.499607       0.456963       0.495222   \n",
       "min      0.000000    0.000000    0.000000       0.000000       0.000000   \n",
       "25%      0.000000    0.000000    0.000000       0.000000       0.000000   \n",
       "50%      0.000000    0.000000    0.000000       0.000000       0.000000   \n",
       "75%      1.000000    1.000000    1.000000       1.000000       1.000000   \n",
       "max      1.000000    1.000000    1.000000       1.000000       1.000000   \n",
       "\n",
       "       r-precision@5  r-precision@10  r-precision@15  r-precision@100  \\\n",
       "count     196.000000      196.000000      196.000000       196.000000   \n",
       "mean        0.459001        0.459184        0.459184         0.459184   \n",
       "std         0.499416        0.499607        0.499607         0.499607   \n",
       "min         0.000000        0.000000        0.000000         0.000000   \n",
       "25%         0.000000        0.000000        0.000000         0.000000   \n",
       "50%         0.000000        0.000000        0.000000         0.000000   \n",
       "75%         1.000000        1.000000        1.000000         1.000000   \n",
       "max         1.000000        1.000000        1.000000         1.000000   \n",
       "\n",
       "        time_eval  \n",
       "count  196.000000  \n",
       "mean     0.097847  \n",
       "std      0.029503  \n",
       "min      0.071790  \n",
       "25%      0.072982  \n",
       "50%      0.075155  \n",
       "75%      0.124009  \n",
       "max      0.296639  \n",
       "\n",
       "[8 rows x 31 columns]"
      ]
     },
     "metadata": {},
     "output_type": "display_data"
    }
   ],
   "source": [
    "pdf = pd.DataFrame(perfectmetrics).set_index(\"fold\")\n",
    "cols = [ c for c in pdf.columns if not c.startswith('time_') ]\n",
    "paths.save_perfect(pdf, ORG_NAME, SPLITS_FREQ, SPLITS_NORMALIZE)\n",
    "display(pdf.describe())\n",
    "msk = (0 <= pdf[cols].min()) & (pdf[cols].max() <= 1)\n",
    "if not all(msk):\n",
    "    display(pdf.describe()[msk[~msk].index])\n",
    "assert all( msk ), \"There are metrics with wrong range\""
   ]
  },
  {
   "cell_type": "markdown",
   "id": "8726c6ba",
   "metadata": {
    "papermill": {
     "duration": 0.005358,
     "end_time": "2024-09-05T09:46:37.424105",
     "exception": false,
     "start_time": "2024-09-05T09:46:37.418747",
     "status": "completed"
    },
    "tags": []
   },
   "source": [
    "## Plotting some graphs"
   ]
  },
  {
   "cell_type": "code",
   "execution_count": 12,
   "id": "6626ca99",
   "metadata": {
    "execution": {
     "iopub.execute_input": "2024-09-05T09:46:37.435083Z",
     "iopub.status.busy": "2024-09-05T09:46:37.434944Z",
     "iopub.status.idle": "2024-09-05T09:46:37.567901Z",
     "shell.execute_reply": "2024-09-05T09:46:37.567700Z"
    },
    "papermill": {
     "duration": 0.139323,
     "end_time": "2024-09-05T09:46:37.568682",
     "exception": false,
     "start_time": "2024-09-05T09:46:37.429359",
     "status": "completed"
    },
    "tags": []
   },
   "outputs": [
    {
     "data": {
      "text/html": [
       "<div>\n",
       "<style scoped>\n",
       "    .dataframe tbody tr th:only-of-type {\n",
       "        vertical-align: middle;\n",
       "    }\n",
       "\n",
       "    .dataframe tbody tr th {\n",
       "        vertical-align: top;\n",
       "    }\n",
       "\n",
       "    .dataframe thead th {\n",
       "        text-align: right;\n",
       "    }\n",
       "</style>\n",
       "<table border=\"1\" class=\"dataframe\">\n",
       "  <thead>\n",
       "    <tr style=\"text-align: right;\">\n",
       "      <th></th>\n",
       "      <th>fold</th>\n",
       "      <th>precision@1</th>\n",
       "      <th>precision@3</th>\n",
       "      <th>precision@5</th>\n",
       "      <th>precision@10</th>\n",
       "      <th>precision@15</th>\n",
       "      <th>precision@100</th>\n",
       "      <th>ndcg@1</th>\n",
       "      <th>ndcg@3</th>\n",
       "      <th>ndcg@5</th>\n",
       "      <th>...</th>\n",
       "      <th>recall@100</th>\n",
       "      <th>r-precision@1</th>\n",
       "      <th>r-precision@3</th>\n",
       "      <th>r-precision@5</th>\n",
       "      <th>r-precision@10</th>\n",
       "      <th>r-precision@15</th>\n",
       "      <th>r-precision@100</th>\n",
       "      <th>time_eval</th>\n",
       "      <th>perfect precision@5</th>\n",
       "      <th>perfect precision@10</th>\n",
       "    </tr>\n",
       "  </thead>\n",
       "  <tbody>\n",
       "    <tr>\n",
       "      <th>count</th>\n",
       "      <td>196</td>\n",
       "      <td>196.000000</td>\n",
       "      <td>196.000000</td>\n",
       "      <td>196.000000</td>\n",
       "      <td>196.000000</td>\n",
       "      <td>196.000000</td>\n",
       "      <td>196.000000</td>\n",
       "      <td>196.000000</td>\n",
       "      <td>196.000000</td>\n",
       "      <td>196.000000</td>\n",
       "      <td>...</td>\n",
       "      <td>196.000000</td>\n",
       "      <td>196.000000</td>\n",
       "      <td>191.000000</td>\n",
       "      <td>190.000000</td>\n",
       "      <td>190.000000</td>\n",
       "      <td>190.000000</td>\n",
       "      <td>190.000000</td>\n",
       "      <td>196.000000</td>\n",
       "      <td>0.0</td>\n",
       "      <td>0.0</td>\n",
       "    </tr>\n",
       "    <tr>\n",
       "      <th>mean</th>\n",
       "      <td>2021-08-22 12:00:00</td>\n",
       "      <td>0.134437</td>\n",
       "      <td>0.084325</td>\n",
       "      <td>0.057199</td>\n",
       "      <td>0.029008</td>\n",
       "      <td>0.019339</td>\n",
       "      <td>0.002901</td>\n",
       "      <td>0.124658</td>\n",
       "      <td>0.152209</td>\n",
       "      <td>0.157969</td>\n",
       "      <td>...</td>\n",
       "      <td>0.197648</td>\n",
       "      <td>0.150260</td>\n",
       "      <td>0.187867</td>\n",
       "      <td>0.194548</td>\n",
       "      <td>0.194548</td>\n",
       "      <td>0.194548</td>\n",
       "      <td>0.194548</td>\n",
       "      <td>0.084639</td>\n",
       "      <td>NaN</td>\n",
       "      <td>NaN</td>\n",
       "    </tr>\n",
       "    <tr>\n",
       "      <th>min</th>\n",
       "      <td>2019-10-10 00:00:00</td>\n",
       "      <td>0.000000</td>\n",
       "      <td>0.000000</td>\n",
       "      <td>0.000000</td>\n",
       "      <td>0.000000</td>\n",
       "      <td>0.000000</td>\n",
       "      <td>0.000000</td>\n",
       "      <td>0.000000</td>\n",
       "      <td>0.000000</td>\n",
       "      <td>0.000000</td>\n",
       "      <td>...</td>\n",
       "      <td>0.000000</td>\n",
       "      <td>0.000000</td>\n",
       "      <td>0.000000</td>\n",
       "      <td>0.000000</td>\n",
       "      <td>0.000000</td>\n",
       "      <td>0.000000</td>\n",
       "      <td>0.000000</td>\n",
       "      <td>0.068149</td>\n",
       "      <td>NaN</td>\n",
       "      <td>NaN</td>\n",
       "    </tr>\n",
       "    <tr>\n",
       "      <th>25%</th>\n",
       "      <td>2020-09-15 06:00:00</td>\n",
       "      <td>0.000000</td>\n",
       "      <td>0.000000</td>\n",
       "      <td>0.000000</td>\n",
       "      <td>0.000000</td>\n",
       "      <td>0.000000</td>\n",
       "      <td>0.000000</td>\n",
       "      <td>0.000000</td>\n",
       "      <td>0.000000</td>\n",
       "      <td>0.000000</td>\n",
       "      <td>...</td>\n",
       "      <td>0.000000</td>\n",
       "      <td>0.000000</td>\n",
       "      <td>0.000000</td>\n",
       "      <td>0.000000</td>\n",
       "      <td>0.000000</td>\n",
       "      <td>0.000000</td>\n",
       "      <td>0.000000</td>\n",
       "      <td>0.069312</td>\n",
       "      <td>NaN</td>\n",
       "      <td>NaN</td>\n",
       "    </tr>\n",
       "    <tr>\n",
       "      <th>50%</th>\n",
       "      <td>2021-08-22 12:00:00</td>\n",
       "      <td>0.000000</td>\n",
       "      <td>0.000000</td>\n",
       "      <td>0.000000</td>\n",
       "      <td>0.000000</td>\n",
       "      <td>0.000000</td>\n",
       "      <td>0.000000</td>\n",
       "      <td>0.000000</td>\n",
       "      <td>0.000000</td>\n",
       "      <td>0.000000</td>\n",
       "      <td>...</td>\n",
       "      <td>0.000000</td>\n",
       "      <td>0.000000</td>\n",
       "      <td>0.000000</td>\n",
       "      <td>0.000000</td>\n",
       "      <td>0.000000</td>\n",
       "      <td>0.000000</td>\n",
       "      <td>0.000000</td>\n",
       "      <td>0.070992</td>\n",
       "      <td>NaN</td>\n",
       "      <td>NaN</td>\n",
       "    </tr>\n",
       "    <tr>\n",
       "      <th>75%</th>\n",
       "      <td>2022-07-29 18:00:00</td>\n",
       "      <td>0.000000</td>\n",
       "      <td>0.011905</td>\n",
       "      <td>0.030519</td>\n",
       "      <td>0.015260</td>\n",
       "      <td>0.010173</td>\n",
       "      <td>0.001526</td>\n",
       "      <td>0.000000</td>\n",
       "      <td>0.021331</td>\n",
       "      <td>0.085484</td>\n",
       "      <td>...</td>\n",
       "      <td>0.076705</td>\n",
       "      <td>0.000000</td>\n",
       "      <td>0.000000</td>\n",
       "      <td>0.000000</td>\n",
       "      <td>0.000000</td>\n",
       "      <td>0.000000</td>\n",
       "      <td>0.000000</td>\n",
       "      <td>0.111395</td>\n",
       "      <td>NaN</td>\n",
       "      <td>NaN</td>\n",
       "    </tr>\n",
       "    <tr>\n",
       "      <th>max</th>\n",
       "      <td>2023-07-06 00:00:00</td>\n",
       "      <td>1.000000</td>\n",
       "      <td>0.833333</td>\n",
       "      <td>0.500000</td>\n",
       "      <td>0.250000</td>\n",
       "      <td>0.166667</td>\n",
       "      <td>0.025000</td>\n",
       "      <td>1.000000</td>\n",
       "      <td>1.000000</td>\n",
       "      <td>1.000000</td>\n",
       "      <td>...</td>\n",
       "      <td>1.000000</td>\n",
       "      <td>1.000000</td>\n",
       "      <td>1.000000</td>\n",
       "      <td>1.000000</td>\n",
       "      <td>1.000000</td>\n",
       "      <td>1.000000</td>\n",
       "      <td>1.000000</td>\n",
       "      <td>0.127793</td>\n",
       "      <td>NaN</td>\n",
       "      <td>NaN</td>\n",
       "    </tr>\n",
       "    <tr>\n",
       "      <th>std</th>\n",
       "      <td>NaN</td>\n",
       "      <td>0.304600</td>\n",
       "      <td>0.161782</td>\n",
       "      <td>0.107854</td>\n",
       "      <td>0.055214</td>\n",
       "      <td>0.036809</td>\n",
       "      <td>0.005521</td>\n",
       "      <td>0.284562</td>\n",
       "      <td>0.302731</td>\n",
       "      <td>0.308153</td>\n",
       "      <td>...</td>\n",
       "      <td>0.365518</td>\n",
       "      <td>0.323459</td>\n",
       "      <td>0.361197</td>\n",
       "      <td>0.370387</td>\n",
       "      <td>0.370387</td>\n",
       "      <td>0.370387</td>\n",
       "      <td>0.370387</td>\n",
       "      <td>0.022230</td>\n",
       "      <td>NaN</td>\n",
       "      <td>NaN</td>\n",
       "    </tr>\n",
       "  </tbody>\n",
       "</table>\n",
       "<p>8 rows × 34 columns</p>\n",
       "</div>"
      ],
      "text/plain": [
       "                      fold  precision@1  precision@3  precision@5  \\\n",
       "count                  196   196.000000   196.000000   196.000000   \n",
       "mean   2021-08-22 12:00:00     0.134437     0.084325     0.057199   \n",
       "min    2019-10-10 00:00:00     0.000000     0.000000     0.000000   \n",
       "25%    2020-09-15 06:00:00     0.000000     0.000000     0.000000   \n",
       "50%    2021-08-22 12:00:00     0.000000     0.000000     0.000000   \n",
       "75%    2022-07-29 18:00:00     0.000000     0.011905     0.030519   \n",
       "max    2023-07-06 00:00:00     1.000000     0.833333     0.500000   \n",
       "std                    NaN     0.304600     0.161782     0.107854   \n",
       "\n",
       "       precision@10  precision@15  precision@100      ndcg@1      ndcg@3  \\\n",
       "count    196.000000    196.000000     196.000000  196.000000  196.000000   \n",
       "mean       0.029008      0.019339       0.002901    0.124658    0.152209   \n",
       "min        0.000000      0.000000       0.000000    0.000000    0.000000   \n",
       "25%        0.000000      0.000000       0.000000    0.000000    0.000000   \n",
       "50%        0.000000      0.000000       0.000000    0.000000    0.000000   \n",
       "75%        0.015260      0.010173       0.001526    0.000000    0.021331   \n",
       "max        0.250000      0.166667       0.025000    1.000000    1.000000   \n",
       "std        0.055214      0.036809       0.005521    0.284562    0.302731   \n",
       "\n",
       "           ndcg@5  ...  recall@100  r-precision@1  r-precision@3  \\\n",
       "count  196.000000  ...  196.000000     196.000000     191.000000   \n",
       "mean     0.157969  ...    0.197648       0.150260       0.187867   \n",
       "min      0.000000  ...    0.000000       0.000000       0.000000   \n",
       "25%      0.000000  ...    0.000000       0.000000       0.000000   \n",
       "50%      0.000000  ...    0.000000       0.000000       0.000000   \n",
       "75%      0.085484  ...    0.076705       0.000000       0.000000   \n",
       "max      1.000000  ...    1.000000       1.000000       1.000000   \n",
       "std      0.308153  ...    0.365518       0.323459       0.361197   \n",
       "\n",
       "       r-precision@5  r-precision@10  r-precision@15  r-precision@100  \\\n",
       "count     190.000000      190.000000      190.000000       190.000000   \n",
       "mean        0.194548        0.194548        0.194548         0.194548   \n",
       "min         0.000000        0.000000        0.000000         0.000000   \n",
       "25%         0.000000        0.000000        0.000000         0.000000   \n",
       "50%         0.000000        0.000000        0.000000         0.000000   \n",
       "75%         0.000000        0.000000        0.000000         0.000000   \n",
       "max         1.000000        1.000000        1.000000         1.000000   \n",
       "std         0.370387        0.370387        0.370387         0.370387   \n",
       "\n",
       "        time_eval  perfect precision@5  perfect precision@10  \n",
       "count  196.000000                  0.0                   0.0  \n",
       "mean     0.084639                  NaN                   NaN  \n",
       "min      0.068149                  NaN                   NaN  \n",
       "25%      0.069312                  NaN                   NaN  \n",
       "50%      0.070992                  NaN                   NaN  \n",
       "75%      0.111395                  NaN                   NaN  \n",
       "max      0.127793                  NaN                   NaN  \n",
       "std      0.022230                  NaN                   NaN  \n",
       "\n",
       "[8 rows x 34 columns]"
      ]
     },
     "execution_count": 12,
     "metadata": {},
     "output_type": "execute_result"
    },
    {
     "data": {
      "image/png": "[encoded data removed]",
      "text/plain": [
       "<Figure size 640x480 with 1 Axes>"
      ]
     },
     "metadata": {},
     "output_type": "display_data"
    }
   ],
   "source": [
    "mdf = pd.DataFrame(metrics)\n",
    "mdf['perfect precision@5'] = pdf['precision@5']\n",
    "mdf['perfect precision@10'] = pdf['precision@10']\n",
    "mdf[['precision@5', 'perfect precision@5', 'precision@10', 'perfect precision@10']].plot(title='Evaluación modelo baseline MP')\n",
    "mdf.describe()"
   ]
  },
  {
   "cell_type": "code",
   "execution_count": 13,
   "id": "42b0e07b",
   "metadata": {
    "execution": {
     "iopub.execute_input": "2024-09-05T09:46:37.581597Z",
     "iopub.status.busy": "2024-09-05T09:46:37.581508Z",
     "iopub.status.idle": "2024-09-05T09:46:37.607990Z",
     "shell.execute_reply": "2024-09-05T09:46:37.607803Z"
    },
    "papermill": {
     "duration": 0.03363,
     "end_time": "2024-09-05T09:46:37.608652",
     "exception": false,
     "start_time": "2024-09-05T09:46:37.575022",
     "status": "completed"
    },
    "tags": []
   },
   "outputs": [
    {
     "data": {
      "text/html": [
       "<div>\n",
       "<style scoped>\n",
       "    .dataframe tbody tr th:only-of-type {\n",
       "        vertical-align: middle;\n",
       "    }\n",
       "\n",
       "    .dataframe tbody tr th {\n",
       "        vertical-align: top;\n",
       "    }\n",
       "\n",
       "    .dataframe thead th {\n",
       "        text-align: right;\n",
       "    }\n",
       "</style>\n",
       "<table border=\"1\" class=\"dataframe\">\n",
       "  <thead>\n",
       "    <tr style=\"text-align: right;\">\n",
       "      <th></th>\n",
       "      <th>fold</th>\n",
       "      <th>precision@1</th>\n",
       "      <th>precision@3</th>\n",
       "      <th>precision@5</th>\n",
       "      <th>precision@10</th>\n",
       "      <th>precision@15</th>\n",
       "      <th>precision@100</th>\n",
       "      <th>ndcg@1</th>\n",
       "      <th>ndcg@3</th>\n",
       "      <th>ndcg@5</th>\n",
       "      <th>...</th>\n",
       "      <th>recall@100</th>\n",
       "      <th>r-precision@1</th>\n",
       "      <th>r-precision@3</th>\n",
       "      <th>r-precision@5</th>\n",
       "      <th>r-precision@10</th>\n",
       "      <th>r-precision@15</th>\n",
       "      <th>r-precision@100</th>\n",
       "      <th>time_eval</th>\n",
       "      <th>perfect precision@5</th>\n",
       "      <th>perfect precision@10</th>\n",
       "    </tr>\n",
       "  </thead>\n",
       "  <tbody>\n",
       "    <tr>\n",
       "      <th>count</th>\n",
       "      <td>10</td>\n",
       "      <td>10.0</td>\n",
       "      <td>10.0</td>\n",
       "      <td>10.0</td>\n",
       "      <td>10.0</td>\n",
       "      <td>10.0</td>\n",
       "      <td>10.0</td>\n",
       "      <td>10.0</td>\n",
       "      <td>10.0</td>\n",
       "      <td>10.0</td>\n",
       "      <td>...</td>\n",
       "      <td>10.0</td>\n",
       "      <td>10.0</td>\n",
       "      <td>10.0</td>\n",
       "      <td>10.0</td>\n",
       "      <td>10.0</td>\n",
       "      <td>10.0</td>\n",
       "      <td>10.0</td>\n",
       "      <td>10.000000</td>\n",
       "      <td>0.0</td>\n",
       "      <td>0.0</td>\n",
       "    </tr>\n",
       "    <tr>\n",
       "      <th>mean</th>\n",
       "      <td>2023-06-04 12:00:00</td>\n",
       "      <td>0.0</td>\n",
       "      <td>0.0</td>\n",
       "      <td>0.0</td>\n",
       "      <td>0.0</td>\n",
       "      <td>0.0</td>\n",
       "      <td>0.0</td>\n",
       "      <td>0.0</td>\n",
       "      <td>0.0</td>\n",
       "      <td>0.0</td>\n",
       "      <td>...</td>\n",
       "      <td>0.0</td>\n",
       "      <td>0.0</td>\n",
       "      <td>0.0</td>\n",
       "      <td>0.0</td>\n",
       "      <td>0.0</td>\n",
       "      <td>0.0</td>\n",
       "      <td>0.0</td>\n",
       "      <td>0.071666</td>\n",
       "      <td>NaN</td>\n",
       "      <td>NaN</td>\n",
       "    </tr>\n",
       "    <tr>\n",
       "      <th>min</th>\n",
       "      <td>2023-05-04 00:00:00</td>\n",
       "      <td>0.0</td>\n",
       "      <td>0.0</td>\n",
       "      <td>0.0</td>\n",
       "      <td>0.0</td>\n",
       "      <td>0.0</td>\n",
       "      <td>0.0</td>\n",
       "      <td>0.0</td>\n",
       "      <td>0.0</td>\n",
       "      <td>0.0</td>\n",
       "      <td>...</td>\n",
       "      <td>0.0</td>\n",
       "      <td>0.0</td>\n",
       "      <td>0.0</td>\n",
       "      <td>0.0</td>\n",
       "      <td>0.0</td>\n",
       "      <td>0.0</td>\n",
       "      <td>0.0</td>\n",
       "      <td>0.069692</td>\n",
       "      <td>NaN</td>\n",
       "      <td>NaN</td>\n",
       "    </tr>\n",
       "    <tr>\n",
       "      <th>25%</th>\n",
       "      <td>2023-05-19 18:00:00</td>\n",
       "      <td>0.0</td>\n",
       "      <td>0.0</td>\n",
       "      <td>0.0</td>\n",
       "      <td>0.0</td>\n",
       "      <td>0.0</td>\n",
       "      <td>0.0</td>\n",
       "      <td>0.0</td>\n",
       "      <td>0.0</td>\n",
       "      <td>0.0</td>\n",
       "      <td>...</td>\n",
       "      <td>0.0</td>\n",
       "      <td>0.0</td>\n",
       "      <td>0.0</td>\n",
       "      <td>0.0</td>\n",
       "      <td>0.0</td>\n",
       "      <td>0.0</td>\n",
       "      <td>0.0</td>\n",
       "      <td>0.069826</td>\n",
       "      <td>NaN</td>\n",
       "      <td>NaN</td>\n",
       "    </tr>\n",
       "    <tr>\n",
       "      <th>50%</th>\n",
       "      <td>2023-06-04 12:00:00</td>\n",
       "      <td>0.0</td>\n",
       "      <td>0.0</td>\n",
       "      <td>0.0</td>\n",
       "      <td>0.0</td>\n",
       "      <td>0.0</td>\n",
       "      <td>0.0</td>\n",
       "      <td>0.0</td>\n",
       "      <td>0.0</td>\n",
       "      <td>0.0</td>\n",
       "      <td>...</td>\n",
       "      <td>0.0</td>\n",
       "      <td>0.0</td>\n",
       "      <td>0.0</td>\n",
       "      <td>0.0</td>\n",
       "      <td>0.0</td>\n",
       "      <td>0.0</td>\n",
       "      <td>0.0</td>\n",
       "      <td>0.070083</td>\n",
       "      <td>NaN</td>\n",
       "      <td>NaN</td>\n",
       "    </tr>\n",
       "    <tr>\n",
       "      <th>75%</th>\n",
       "      <td>2023-06-20 06:00:00</td>\n",
       "      <td>0.0</td>\n",
       "      <td>0.0</td>\n",
       "      <td>0.0</td>\n",
       "      <td>0.0</td>\n",
       "      <td>0.0</td>\n",
       "      <td>0.0</td>\n",
       "      <td>0.0</td>\n",
       "      <td>0.0</td>\n",
       "      <td>0.0</td>\n",
       "      <td>...</td>\n",
       "      <td>0.0</td>\n",
       "      <td>0.0</td>\n",
       "      <td>0.0</td>\n",
       "      <td>0.0</td>\n",
       "      <td>0.0</td>\n",
       "      <td>0.0</td>\n",
       "      <td>0.0</td>\n",
       "      <td>0.071546</td>\n",
       "      <td>NaN</td>\n",
       "      <td>NaN</td>\n",
       "    </tr>\n",
       "    <tr>\n",
       "      <th>max</th>\n",
       "      <td>2023-07-06 00:00:00</td>\n",
       "      <td>0.0</td>\n",
       "      <td>0.0</td>\n",
       "      <td>0.0</td>\n",
       "      <td>0.0</td>\n",
       "      <td>0.0</td>\n",
       "      <td>0.0</td>\n",
       "      <td>0.0</td>\n",
       "      <td>0.0</td>\n",
       "      <td>0.0</td>\n",
       "      <td>...</td>\n",
       "      <td>0.0</td>\n",
       "      <td>0.0</td>\n",
       "      <td>0.0</td>\n",
       "      <td>0.0</td>\n",
       "      <td>0.0</td>\n",
       "      <td>0.0</td>\n",
       "      <td>0.0</td>\n",
       "      <td>0.082569</td>\n",
       "      <td>NaN</td>\n",
       "      <td>NaN</td>\n",
       "    </tr>\n",
       "    <tr>\n",
       "      <th>std</th>\n",
       "      <td>NaN</td>\n",
       "      <td>0.0</td>\n",
       "      <td>0.0</td>\n",
       "      <td>0.0</td>\n",
       "      <td>0.0</td>\n",
       "      <td>0.0</td>\n",
       "      <td>0.0</td>\n",
       "      <td>0.0</td>\n",
       "      <td>0.0</td>\n",
       "      <td>0.0</td>\n",
       "      <td>...</td>\n",
       "      <td>0.0</td>\n",
       "      <td>0.0</td>\n",
       "      <td>0.0</td>\n",
       "      <td>0.0</td>\n",
       "      <td>0.0</td>\n",
       "      <td>0.0</td>\n",
       "      <td>0.0</td>\n",
       "      <td>0.003931</td>\n",
       "      <td>NaN</td>\n",
       "      <td>NaN</td>\n",
       "    </tr>\n",
       "  </tbody>\n",
       "</table>\n",
       "<p>8 rows × 34 columns</p>\n",
       "</div>"
      ],
      "text/plain": [
       "                      fold  precision@1  precision@3  precision@5  \\\n",
       "count                   10         10.0         10.0         10.0   \n",
       "mean   2023-06-04 12:00:00          0.0          0.0          0.0   \n",
       "min    2023-05-04 00:00:00          0.0          0.0          0.0   \n",
       "25%    2023-05-19 18:00:00          0.0          0.0          0.0   \n",
       "50%    2023-06-04 12:00:00          0.0          0.0          0.0   \n",
       "75%    2023-06-20 06:00:00          0.0          0.0          0.0   \n",
       "max    2023-07-06 00:00:00          0.0          0.0          0.0   \n",
       "std                    NaN          0.0          0.0          0.0   \n",
       "\n",
       "       precision@10  precision@15  precision@100  ndcg@1  ndcg@3  ndcg@5  ...  \\\n",
       "count          10.0          10.0           10.0    10.0    10.0    10.0  ...   \n",
       "mean            0.0           0.0            0.0     0.0     0.0     0.0  ...   \n",
       "min             0.0           0.0            0.0     0.0     0.0     0.0  ...   \n",
       "25%             0.0           0.0            0.0     0.0     0.0     0.0  ...   \n",
       "50%             0.0           0.0            0.0     0.0     0.0     0.0  ...   \n",
       "75%             0.0           0.0            0.0     0.0     0.0     0.0  ...   \n",
       "max             0.0           0.0            0.0     0.0     0.0     0.0  ...   \n",
       "std             0.0           0.0            0.0     0.0     0.0     0.0  ...   \n",
       "\n",
       "       recall@100  r-precision@1  r-precision@3  r-precision@5  \\\n",
       "count        10.0           10.0           10.0           10.0   \n",
       "mean          0.0            0.0            0.0            0.0   \n",
       "min           0.0            0.0            0.0            0.0   \n",
       "25%           0.0            0.0            0.0            0.0   \n",
       "50%           0.0            0.0            0.0            0.0   \n",
       "75%           0.0            0.0            0.0            0.0   \n",
       "max           0.0            0.0            0.0            0.0   \n",
       "std           0.0            0.0            0.0            0.0   \n",
       "\n",
       "       r-precision@10  r-precision@15  r-precision@100  time_eval  \\\n",
       "count            10.0            10.0             10.0  10.000000   \n",
       "mean              0.0             0.0              0.0   0.071666   \n",
       "min               0.0             0.0              0.0   0.069692   \n",
       "25%               0.0             0.0              0.0   0.069826   \n",
       "50%               0.0             0.0              0.0   0.070083   \n",
       "75%               0.0             0.0              0.0   0.071546   \n",
       "max               0.0             0.0              0.0   0.082569   \n",
       "std               0.0             0.0              0.0   0.003931   \n",
       "\n",
       "       perfect precision@5  perfect precision@10  \n",
       "count                  0.0                   0.0  \n",
       "mean                   NaN                   NaN  \n",
       "min                    NaN                   NaN  \n",
       "25%                    NaN                   NaN  \n",
       "50%                    NaN                   NaN  \n",
       "75%                    NaN                   NaN  \n",
       "max                    NaN                   NaN  \n",
       "std                    NaN                   NaN  \n",
       "\n",
       "[8 rows x 34 columns]"
      ]
     },
     "execution_count": 13,
     "metadata": {},
     "output_type": "execute_result"
    }
   ],
   "source": [
    "mdf[-LAST_FOLDS:].describe()"
   ]
  },
  {
   "cell_type": "code",
   "execution_count": null,
   "id": "15383667",
   "metadata": {
    "papermill": {
     "duration": 0.005793,
     "end_time": "2024-09-05T09:46:37.620259",
     "exception": false,
     "start_time": "2024-09-05T09:46:37.614466",
     "status": "completed"
    },
    "tags": []
   },
   "outputs": [],
   "source": []
  }
 ],
 "metadata": {
  "kernelspec": {
   "display_name": "Python 3 (ipykernel)",
   "language": "python",
   "name": "python3"
  },
  "language_info": {
   "codemirror_mode": {
    "name": "ipython",
    "version": 3
   },
   "file_extension": ".py",
   "mimetype": "text/x-python",
   "name": "python",
   "nbconvert_exporter": "python",
   "pygments_lexer": "ipython3",
   "version": "3.11.6"
  },
  "papermill": {
   "default_parameters": {},
   "duration": 41.681321,
   "end_time": "2024-09-05T09:46:38.644327",
   "environment_variables": {},
   "exception": null,
   "input_path": "10_baseline.ipynb",
   "output_path": "../nbout/Raid Guild/10_baseline.ipynb",
   "parameters": {
    "EXECUTION_ID": "2024-09-04T10:00",
    "LAST_FOLDS": 10,
    "LAST_FOLD_DATE_STR": "2021-12-30",
    "ORG_NAME": "Raid Guild",
    "SPLITS_FREQ": "W-THU",
    "SPLITS_NORMALIZE": true
   },
   "start_time": "2024-09-05T09:45:56.963006",
   "version": "2.6.0"
  },
  "widgets": {
   "application/vnd.jupyter.widget-state+json": {
    "state": {
     "07f32fbd808e4d619abe6150baae6f4e": {
      "model_module": "@jupyter-widgets/controls",
      "model_module_version": "2.0.0",
      "model_name": "HTMLStyleModel",
      "state": {
       "_model_module": "@jupyter-widgets/controls",
       "_model_module_version": "2.0.0",
       "_model_name": "HTMLStyleModel",
       "_view_count": null,
       "_view_module": "@jupyter-widgets/base",
       "_view_module_version": "2.0.0",
       "_view_name": "StyleView",
       "background": null,
       "description_width": "",
       "font_size": null,
       "text_color": null
      }
     },
     "314fe10e1e2a4c32b3ecaf0266e8ab59": {
      "model_module": "@jupyter-widgets/base",
      "model_module_version": "2.0.0",
      "model_name": "LayoutModel",
      "state": {
       "_model_module": "@jupyter-widgets/base",
       "_model_module_version": "2.0.0",
       "_model_name": "LayoutModel",
       "_view_count": null,
       "_view_module": "@jupyter-widgets/base",
       "_view_module_version": "2.0.0",
       "_view_name": "LayoutView",
       "align_content": null,
       "align_items": null,
       "align_self": null,
       "border_bottom": null,
       "border_left": null,
       "border_right": null,
       "border_top": null,
       "bottom": null,
       "display": null,
       "flex": null,
       "flex_flow": null,
       "grid_area": null,
       "grid_auto_columns": null,
       "grid_auto_flow": null,
       "grid_auto_rows": null,
       "grid_column": null,
       "grid_gap": null,
       "grid_row": null,
       "grid_template_areas": null,
       "grid_template_columns": null,
       "grid_template_rows": null,
       "height": null,
       "justify_content": null,
       "justify_items": null,
       "left": null,
       "margin": null,
       "max_height": null,
       "max_width": null,
       "min_height": null,
       "min_width": null,
       "object_fit": null,
       "object_position": null,
       "order": null,
       "overflow": null,
       "padding": null,
       "right": null,
       "top": null,
       "visibility": null,
       "width": null
      }
     },
     "59681216f82a4d00bb3a160578577c08": {
      "model_module": "@jupyter-widgets/base",
      "model_module_version": "2.0.0",
      "model_name": "LayoutModel",
      "state": {
       "_model_module": "@jupyter-widgets/base",
       "_model_module_version": "2.0.0",
       "_model_name": "LayoutModel",
       "_view_count": null,
       "_view_module": "@jupyter-widgets/base",
       "_view_module_version": "2.0.0",
       "_view_name": "LayoutView",
       "align_content": null,
       "align_items": null,
       "align_self": null,
       "border_bottom": null,
       "border_left": null,
       "border_right": null,
       "border_top": null,
       "bottom": null,
       "display": null,
       "flex": null,
       "flex_flow": null,
       "grid_area": null,
       "grid_auto_columns": null,
       "grid_auto_flow": null,
       "grid_auto_rows": null,
       "grid_column": null,
       "grid_gap": null,
       "grid_row": null,
       "grid_template_areas": null,
       "grid_template_columns": null,
       "grid_template_rows": null,
       "height": null,
       "justify_content": null,
       "justify_items": null,
       "left": null,
       "margin": null,
       "max_height": null,
       "max_width": null,
       "min_height": null,
       "min_width": null,
       "object_fit": null,
       "object_position": null,
       "order": null,
       "overflow": null,
       "padding": null,
       "right": null,
       "top": null,
       "visibility": null,
       "width": null
      }
     },
     "64810295ab59441aa1f2172181714604": {
      "model_module": "@jupyter-widgets/controls",
      "model_module_version": "2.0.0",
      "model_name": "HTMLModel",
      "state": {
       "_dom_classes": [],
       "_model_module": "@jupyter-widgets/controls",
       "_model_module_version": "2.0.0",
       "_model_name": "HTMLModel",
       "_view_count": null,
       "_view_module": "@jupyter-widgets/controls",
       "_view_module_version": "2.0.0",
       "_view_name": "HTMLView",
       "description": "",
       "description_allow_html": false,
       "layout": "IPY_MODEL_7d19396ac0c04718839b81f9403c651b",
       "placeholder": "​",
       "style": "IPY_MODEL_7211f5eadd84483b881653500c0925fa",
       "tabbable": null,
       "tooltip": null,
       "value": "100%"
      }
     },
     "7211f5eadd84483b881653500c0925fa": {
      "model_module": "@jupyter-widgets/controls",
      "model_module_version": "2.0.0",
      "model_name": "HTMLStyleModel",
      "state": {
       "_model_module": "@jupyter-widgets/controls",
       "_model_module_version": "2.0.0",
       "_model_name": "HTMLStyleModel",
       "_view_count": null,
       "_view_module": "@jupyter-widgets/base",
       "_view_module_version": "2.0.0",
       "_view_name": "StyleView",
       "background": null,
       "description_width": "",
       "font_size": null,
       "text_color": null
      }
     },
     "7d19396ac0c04718839b81f9403c651b": {
      "model_module": "@jupyter-widgets/base",
      "model_module_version": "2.0.0",
      "model_name": "LayoutModel",
      "state": {
       "_model_module": "@jupyter-widgets/base",
       "_model_module_version": "2.0.0",
       "_model_name": "LayoutModel",
       "_view_count": null,
       "_view_module": "@jupyter-widgets/base",
       "_view_module_version": "2.0.0",
       "_view_name": "LayoutView",
       "align_content": null,
       "align_items": null,
       "align_self": null,
       "border_bottom": null,
       "border_left": null,
       "border_right": null,
       "border_top": null,
       "bottom": null,
       "display": null,
       "flex": null,
       "flex_flow": null,
       "grid_area": null,
       "grid_auto_columns": null,
       "grid_auto_flow": null,
       "grid_auto_rows": null,
       "grid_column": null,
       "grid_gap": null,
       "grid_row": null,
       "grid_template_areas": null,
       "grid_template_columns": null,
       "grid_template_rows": null,
       "height": null,
       "justify_content": null,
       "justify_items": null,
       "left": null,
       "margin": null,
       "max_height": null,
       "max_width": null,
       "min_height": null,
       "min_width": null,
       "object_fit": null,
       "object_position": null,
       "order": null,
       "overflow": null,
       "padding": null,
       "right": null,
       "top": null,
       "visibility": null,
       "width": null
      }
     },
     "80f9cbd6603f4d4892e18c776f0d6860": {
      "model_module": "@jupyter-widgets/controls",
      "model_module_version": "2.0.0",
      "model_name": "HBoxModel",
      "state": {
       "_dom_classes": [],
       "_model_module": "@jupyter-widgets/controls",
       "_model_module_version": "2.0.0",
       "_model_name": "HBoxModel",
       "_view_count": null,
       "_view_module": "@jupyter-widgets/controls",
       "_view_module_version": "2.0.0",
       "_view_name": "HBoxView",
       "box_style": "",
       "children": [
        "IPY_MODEL_64810295ab59441aa1f2172181714604",
        "IPY_MODEL_94da1d97985648c48b44a355a3463ed9",
        "IPY_MODEL_98a57bc0f5764fdeb58bd3d6b43e57d7"
       ],
       "layout": "IPY_MODEL_59681216f82a4d00bb3a160578577c08",
       "tabbable": null,
       "tooltip": null
      }
     },
     "92cc0942ed9f4604a231227f51381590": {
      "model_module": "@jupyter-widgets/controls",
      "model_module_version": "2.0.0",
      "model_name": "ProgressStyleModel",
      "state": {
       "_model_module": "@jupyter-widgets/controls",
       "_model_module_version": "2.0.0",
       "_model_name": "ProgressStyleModel",
       "_view_count": null,
       "_view_module": "@jupyter-widgets/base",
       "_view_module_version": "2.0.0",
       "_view_name": "StyleView",
       "bar_color": null,
       "description_width": ""
      }
     },
     "94da1d97985648c48b44a355a3463ed9": {
      "model_module": "@jupyter-widgets/controls",
      "model_module_version": "2.0.0",
      "model_name": "FloatProgressModel",
      "state": {
       "_dom_classes": [],
       "_model_module": "@jupyter-widgets/controls",
       "_model_module_version": "2.0.0",
       "_model_name": "FloatProgressModel",
       "_view_count": null,
       "_view_module": "@jupyter-widgets/controls",
       "_view_module_version": "2.0.0",
       "_view_name": "ProgressView",
       "bar_style": "success",
       "description": "",
       "description_allow_html": false,
       "layout": "IPY_MODEL_e384e86c43b74eba85aad4e02c03a921",
       "max": 196.0,
       "min": 0.0,
       "orientation": "horizontal",
       "style": "IPY_MODEL_92cc0942ed9f4604a231227f51381590",
       "tabbable": null,
       "tooltip": null,
       "value": 196.0
      }
     },
     "98a57bc0f5764fdeb58bd3d6b43e57d7": {
      "model_module": "@jupyter-widgets/controls",
      "model_module_version": "2.0.0",
      "model_name": "HTMLModel",
      "state": {
       "_dom_classes": [],
       "_model_module": "@jupyter-widgets/controls",
       "_model_module_version": "2.0.0",
       "_model_name": "HTMLModel",
       "_view_count": null,
       "_view_module": "@jupyter-widgets/controls",
       "_view_module_version": "2.0.0",
       "_view_name": "HTMLView",
       "description": "",
       "description_allow_html": false,
       "layout": "IPY_MODEL_314fe10e1e2a4c32b3ecaf0266e8ab59",
       "placeholder": "​",
       "style": "IPY_MODEL_07f32fbd808e4d619abe6150baae6f4e",
       "tabbable": null,
       "tooltip": null,
       "value": " 196/196 [00:36&lt;00:00,  6.41it/s]"
      }
     },
     "e384e86c43b74eba85aad4e02c03a921": {
      "model_module": "@jupyter-widgets/base",
      "model_module_version": "2.0.0",
      "model_name": "LayoutModel",
      "state": {
       "_model_module": "@jupyter-widgets/base",
       "_model_module_version": "2.0.0",
       "_model_name": "LayoutModel",
       "_view_count": null,
       "_view_module": "@jupyter-widgets/base",
       "_view_module_version": "2.0.0",
       "_view_name": "LayoutView",
       "align_content": null,
       "align_items": null,
       "align_self": null,
       "border_bottom": null,
       "border_left": null,
       "border_right": null,
       "border_top": null,
       "bottom": null,
       "display": null,
       "flex": null,
       "flex_flow": null,
       "grid_area": null,
       "grid_auto_columns": null,
       "grid_auto_flow": null,
       "grid_auto_rows": null,
       "grid_column": null,
       "grid_gap": null,
       "grid_row": null,
       "grid_template_areas": null,
       "grid_template_columns": null,
       "grid_template_rows": null,
       "height": null,
       "justify_content": null,
       "justify_items": null,
       "left": null,
       "margin": null,
       "max_height": null,
       "max_width": null,
       "min_height": null,
       "min_width": null,
       "object_fit": null,
       "object_position": null,
       "order": null,
       "overflow": null,
       "padding": null,
       "right": null,
       "top": null,
       "visibility": null,
       "width": null
      }
     }
    },
    "version_major": 2,
    "version_minor": 0
   }
  }
 },
 "nbformat": 4,
 "nbformat_minor": 5
}