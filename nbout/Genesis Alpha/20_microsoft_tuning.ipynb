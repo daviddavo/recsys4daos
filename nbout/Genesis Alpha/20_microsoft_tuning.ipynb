{
 "cells": [
  {
   "cell_type": "code",
   "execution_count": 1,
   "id": "00b53ab2",
   "metadata": {
    "editable": true,
    "execution": {
     "iopub.execute_input": "2024-09-05T09:05:48.768428Z",
     "iopub.status.busy": "2024-09-05T09:05:48.768327Z",
     "iopub.status.idle": "2024-09-05T09:05:51.610957Z",
     "shell.execute_reply": "2024-09-05T09:05:51.610618Z"
    },
    "papermill": {
     "duration": 2.850523,
     "end_time": "2024-09-05T09:05:51.611747",
     "exception": false,
     "start_time": "2024-09-05T09:05:48.761224",
     "status": "completed"
    },
    "slideshow": {
     "slide_type": ""
    },
    "tags": []
   },
   "outputs": [
    {
     "name": "stderr",
     "output_type": "stream",
     "text": [
      "/tmp/ipykernel_3813525/1371776918.py:11: TqdmExperimentalWarning: Using `tqdm.autonotebook.tqdm` in notebook mode. Use `tqdm.tqdm` instead to force console mode (e.g. in jupyter console)\n",
      "  from tqdm.autonotebook import tqdm\n"
     ]
    },
    {
     "name": "stdout",
     "output_type": "stream",
     "text": [
      "Ignoring warnings\n",
      "3.11.6 (main, Jun 24 2024, 07:45:26) [GCC 11.4.0]\n",
      "recommenders: 1.2.0\n",
      "ray: 2.30.0\n",
      "tensorflow: 2.16.1\n"
     ]
    }
   ],
   "source": [
    "from typing import List, Dict, Any\n",
    "\n",
    "from pathlib import Path\n",
    "import os, sys\n",
    "import time\n",
    "import datetime as dt\n",
    "import itertools as it\n",
    "\n",
    "import numpy as np\n",
    "import pandas as pd\n",
    "from tqdm.autonotebook import tqdm\n",
    "import ray\n",
    "from ray import train, tune\n",
    "import ipywidgets as widgets\n",
    "\n",
    "from recsys4daos.model_selection import cvtt_open\n",
    "from recsys4daos.datasets import to_microsoft, filter_window_size\n",
    "from recsys4daos.models import LightGCNCustom\n",
    "from recsys4daos.utils import Timer\n",
    "import recsys4daos.utils.notebooks as nbu\n",
    "\n",
    "import recommenders\n",
    "if recommenders.__version__ == '1.2.0':\n",
    "    print(\"Ignoring warnings\")\n",
    "    import warnings\n",
    "    warnings.simplefilter(action='ignore', category=FutureWarning)\n",
    "\n",
    "import paths\n",
    "\n",
    "nbu.print_versions('ray', 'tensorflow')\n",
    "\n",
    "%load_ext autoreload\n",
    "%autoreload 2"
   ]
  },
  {
   "cell_type": "code",
   "execution_count": 2,
   "id": "0bf1c357",
   "metadata": {
    "editable": true,
    "execution": {
     "iopub.execute_input": "2024-09-05T09:05:51.617884Z",
     "iopub.status.busy": "2024-09-05T09:05:51.617627Z",
     "iopub.status.idle": "2024-09-05T09:05:51.638819Z",
     "shell.execute_reply": "2024-09-05T09:05:51.638592Z"
    },
    "papermill": {
     "duration": 0.024948,
     "end_time": "2024-09-05T09:05:51.639524",
     "exception": false,
     "start_time": "2024-09-05T09:05:51.614576",
     "status": "completed"
    },
    "slideshow": {
     "slide_type": ""
    },
    "tags": [
     "parameters"
    ]
   },
   "outputs": [],
   "source": [
    "# Others config\n",
    "SEED: int = 57\n",
    "RAY_RESULTS_PATH: Path = '~/ray_results3.11'\n",
    "\n",
    "# Dataset splits config\n",
    "ORG_NAME = 'Decentraland'\n",
    "SPLITS_FREQ = 'W-THU'  # Split weekly\n",
    "LAST_FOLDS = 10  # Use just last 10 splits\n",
    "SPLITS_NORMALIZE = True\n",
    "LAST_FOLD_DATE_STR: str = '2023-07-13'\n",
    "\n",
    "# Training config\n",
    "MAX_EPOCHS: int = 200\n",
    "EPOCHS_PER_ITER: int = 5\n",
    "SAMPLES_PER_SPLIT: int = 100\n",
    "MAX_TIME_TOTAL_TRAIN: int = 300\n",
    "OPTIM_METRIC: str = 'map@10'\n",
    "\n",
    "# Search space config\n",
    "MAX_EMBEDDING_DIM = 1024\n",
    "MIN_BATCH_SIZE = 6\n",
    "MAX_BATCH_SIZE = 10 # 2**10\n",
    "MIN_LR = 1e-4\n",
    "# WINDOW_SIZES = ['7d', '14d', '21d', '30d', '60d', '90d', '10YE']\n",
    "WINDOW_SIZES = ['21d', '30d', '60d', '90d', '10YE']\n",
    "GPUS = 16\n",
    "\n",
    "# Eval config\n",
    "K_RECOMMENDATIONS: List[int] = [1,3,5,10,15,100]\n",
    "METRICS: List[str] = [\"recall\", \"ndcg\", \"precision\", \"map\"]"
   ]
  },
  {
   "cell_type": "code",
   "execution_count": 3,
   "id": "56f4780f",
   "metadata": {
    "execution": {
     "iopub.execute_input": "2024-09-05T09:05:51.644610Z",
     "iopub.status.busy": "2024-09-05T09:05:51.644467Z",
     "iopub.status.idle": "2024-09-05T09:05:51.662755Z",
     "shell.execute_reply": "2024-09-05T09:05:51.662557Z"
    },
    "papermill": {
     "duration": 0.021575,
     "end_time": "2024-09-05T09:05:51.663400",
     "exception": false,
     "start_time": "2024-09-05T09:05:51.641825",
     "status": "completed"
    },
    "tags": [
     "injected-parameters"
    ]
   },
   "outputs": [],
   "source": [
    "# Parameters\n",
    "EXECUTION_ID = \"2024-09-04T10:00\"\n",
    "ORG_NAME = \"Genesis Alpha\"\n",
    "SPLITS_FREQ = \"7d\"\n",
    "LAST_FOLDS = 10\n",
    "SPLITS_NORMALIZE = True\n",
    "LAST_FOLD_DATE_STR = \"2019-12-04\"\n"
   ]
  },
  {
   "cell_type": "code",
   "execution_count": 4,
   "id": "0c1dc7eb",
   "metadata": {
    "execution": {
     "iopub.execute_input": "2024-09-05T09:05:51.668206Z",
     "iopub.status.busy": "2024-09-05T09:05:51.668073Z",
     "iopub.status.idle": "2024-09-05T09:05:51.685021Z",
     "shell.execute_reply": "2024-09-05T09:05:51.684824Z"
    },
    "papermill": {
     "duration": 0.020148,
     "end_time": "2024-09-05T09:05:51.685678",
     "exception": false,
     "start_time": "2024-09-05T09:05:51.665530",
     "status": "completed"
    },
    "tags": []
   },
   "outputs": [],
   "source": [
    "RAY_RESULTS_PATH = Path(RAY_RESULTS_PATH).expanduser()"
   ]
  },
  {
   "cell_type": "markdown",
   "id": "fafee7e1",
   "metadata": {
    "papermill": {
     "duration": 0.002238,
     "end_time": "2024-09-05T09:05:51.690225",
     "exception": false,
     "start_time": "2024-09-05T09:05:51.687987",
     "status": "completed"
    },
    "tags": []
   },
   "source": [
    "## Obtain dataset"
   ]
  },
  {
   "cell_type": "code",
   "execution_count": 5,
   "id": "2a8cbb41",
   "metadata": {
    "execution": {
     "iopub.execute_input": "2024-09-05T09:05:51.695057Z",
     "iopub.status.busy": "2024-09-05T09:05:51.694919Z",
     "iopub.status.idle": "2024-09-05T09:05:51.840364Z",
     "shell.execute_reply": "2024-09-05T09:05:51.838057Z"
    },
    "papermill": {
     "duration": 0.152326,
     "end_time": "2024-09-05T09:05:51.844670",
     "exception": false,
     "start_time": "2024-09-05T09:05:51.692344",
     "status": "completed"
    },
    "tags": []
   },
   "outputs": [
    {
     "name": "stdout",
     "output_type": "stream",
     "text": [
      "/home/daviddavo/recsys4daos/notebooks\r\n"
     ]
    }
   ],
   "source": [
    "!pwd"
   ]
  },
  {
   "cell_type": "code",
   "execution_count": 6,
   "id": "96a9173d",
   "metadata": {
    "execution": {
     "iopub.execute_input": "2024-09-05T09:05:51.856649Z",
     "iopub.status.busy": "2024-09-05T09:05:51.856390Z",
     "iopub.status.idle": "2024-09-05T09:05:51.900291Z",
     "shell.execute_reply": "2024-09-05T09:05:51.900055Z"
    },
    "papermill": {
     "duration": 0.048445,
     "end_time": "2024-09-05T09:05:51.900865",
     "exception": false,
     "start_time": "2024-09-05T09:05:51.852420",
     "status": "completed"
    },
    "tags": []
   },
   "outputs": [
    {
     "name": "stdout",
     "output_type": "stream",
     "text": [
      "<class 'pandas.core.frame.DataFrame'>\n",
      "RangeIndex: 387 entries, 0 to 386\n",
      "Data columns (total 6 columns):\n",
      " #   Column             Non-Null Count  Dtype         \n",
      "---  ------             --------------  -----         \n",
      " 0   id                 387 non-null    object        \n",
      " 1   author             387 non-null    object        \n",
      " 2   date               387 non-null    datetime64[us]\n",
      " 3   start              387 non-null    datetime64[us]\n",
      " 4   end                387 non-null    datetime64[us]\n",
      " 5   platform_proposal  387 non-null    object        \n",
      "dtypes: datetime64[us](3), object(3)\n",
      "memory usage: 18.3+ KB\n",
      "None\n",
      "<class 'pandas.core.frame.DataFrame'>\n",
      "RangeIndex: 2203 entries, 0 to 2202\n",
      "Data columns (total 4 columns):\n",
      " #   Column    Non-Null Count  Dtype         \n",
      "---  ------    --------------  -----         \n",
      " 0   id        2203 non-null   object        \n",
      " 1   proposal  2203 non-null   object        \n",
      " 2   voter     2203 non-null   object        \n",
      " 3   date      2203 non-null   datetime64[us]\n",
      "dtypes: datetime64[us](1), object(3)\n",
      "memory usage: 69.0+ KB\n",
      "None\n"
     ]
    }
   ],
   "source": [
    "dfp = paths.load_proposals(ORG_NAME)\n",
    "dfv = paths.load_votes(ORG_NAME)\n",
    "\n",
    "print(dfp.info())\n",
    "print(dfv.info())"
   ]
  },
  {
   "cell_type": "markdown",
   "id": "dc1b1a86",
   "metadata": {
    "papermill": {
     "duration": 0.002368,
     "end_time": "2024-09-05T09:05:51.905699",
     "exception": false,
     "start_time": "2024-09-05T09:05:51.903331",
     "status": "completed"
    },
    "tags": []
   },
   "source": [
    "## Split data"
   ]
  },
  {
   "cell_type": "code",
   "execution_count": 7,
   "id": "fe6cceaa",
   "metadata": {
    "execution": {
     "iopub.execute_input": "2024-09-05T09:05:51.910792Z",
     "iopub.status.busy": "2024-09-05T09:05:51.910637Z",
     "iopub.status.idle": "2024-09-05T09:05:51.936918Z",
     "shell.execute_reply": "2024-09-05T09:05:51.936713Z"
    },
    "papermill": {
     "duration": 0.029559,
     "end_time": "2024-09-05T09:05:51.937570",
     "exception": false,
     "start_time": "2024-09-05T09:05:51.908011",
     "status": "completed"
    },
    "tags": []
   },
   "outputs": [
    {
     "data": {
      "text/html": [
       "<div>\n",
       "<style scoped>\n",
       "    .dataframe tbody tr th:only-of-type {\n",
       "        vertical-align: middle;\n",
       "    }\n",
       "\n",
       "    .dataframe tbody tr th {\n",
       "        vertical-align: top;\n",
       "    }\n",
       "\n",
       "    .dataframe thead th {\n",
       "        text-align: right;\n",
       "    }\n",
       "</style>\n",
       "<table border=\"1\" class=\"dataframe\">\n",
       "  <thead>\n",
       "    <tr style=\"text-align: right;\">\n",
       "      <th></th>\n",
       "      <th>userID</th>\n",
       "      <th>itemID</th>\n",
       "      <th>timestamp</th>\n",
       "      <th>rating</th>\n",
       "    </tr>\n",
       "  </thead>\n",
       "  <tbody>\n",
       "    <tr>\n",
       "      <th>0</th>\n",
       "      <td>0x144c4e5027b69f7798b2b162d924bcae5c149f15</td>\n",
       "      <td>5542b602-fae5-5894-8139-1bbc3f6fa3f9</td>\n",
       "      <td>2019-04-10 19:38:39</td>\n",
       "      <td>1</td>\n",
       "    </tr>\n",
       "    <tr>\n",
       "      <th>1</th>\n",
       "      <td>0xf3215bf9ad166213e2588baf81d7e932fda99d9e</td>\n",
       "      <td>5542b602-fae5-5894-8139-1bbc3f6fa3f9</td>\n",
       "      <td>2019-04-10 21:25:42</td>\n",
       "      <td>1</td>\n",
       "    </tr>\n",
       "    <tr>\n",
       "      <th>2</th>\n",
       "      <td>0x24597c5c68687e816ffc0c69e064cb70bb62a9cd</td>\n",
       "      <td>5542b602-fae5-5894-8139-1bbc3f6fa3f9</td>\n",
       "      <td>2019-04-10 22:06:20</td>\n",
       "      <td>1</td>\n",
       "    </tr>\n",
       "    <tr>\n",
       "      <th>3</th>\n",
       "      <td>0x6ac0a885ed84f4a2d062c60fb7daaf504fc8c47f</td>\n",
       "      <td>5542b602-fae5-5894-8139-1bbc3f6fa3f9</td>\n",
       "      <td>2019-04-11 07:24:41</td>\n",
       "      <td>1</td>\n",
       "    </tr>\n",
       "    <tr>\n",
       "      <th>4</th>\n",
       "      <td>0xc4d9d1a93068d311ab18e988244123430eb4f1cd</td>\n",
       "      <td>c56c81ad-7bf9-5aa7-bbbe-b643317cfc6d</td>\n",
       "      <td>2019-04-11 08:23:09</td>\n",
       "      <td>1</td>\n",
       "    </tr>\n",
       "    <tr>\n",
       "      <th>...</th>\n",
       "      <td>...</td>\n",
       "      <td>...</td>\n",
       "      <td>...</td>\n",
       "      <td>...</td>\n",
       "    </tr>\n",
       "    <tr>\n",
       "      <th>2198</th>\n",
       "      <td>0x0ebbda43014a6e6c32657a8db79376738d549b2f</td>\n",
       "      <td>c6ee2096-b2dc-51ee-bc1f-b96653e2c0bf</td>\n",
       "      <td>2020-04-29 05:44:45</td>\n",
       "      <td>1</td>\n",
       "    </tr>\n",
       "    <tr>\n",
       "      <th>2199</th>\n",
       "      <td>0x0ebbda43014a6e6c32657a8db79376738d549b2f</td>\n",
       "      <td>052958a4-180c-54ad-a4ba-dfc0c210dd3b</td>\n",
       "      <td>2020-05-02 06:32:56</td>\n",
       "      <td>1</td>\n",
       "    </tr>\n",
       "    <tr>\n",
       "      <th>2200</th>\n",
       "      <td>0x4171160db0e7e2c75a4973b7523b437c010dd9d4</td>\n",
       "      <td>c6ee2096-b2dc-51ee-bc1f-b96653e2c0bf</td>\n",
       "      <td>2020-05-07 14:36:22</td>\n",
       "      <td>1</td>\n",
       "    </tr>\n",
       "    <tr>\n",
       "      <th>2201</th>\n",
       "      <td>0x00234af289964cc53cae46452ddac6253fc3ec3a</td>\n",
       "      <td>d5234f86-22bc-5f5e-9b91-eb91719d4bfb</td>\n",
       "      <td>2020-12-12 18:37:20</td>\n",
       "      <td>1</td>\n",
       "    </tr>\n",
       "    <tr>\n",
       "      <th>2202</th>\n",
       "      <td>0xbaaea72417f4dc3e0f52a1783b0913d0f3516634</td>\n",
       "      <td>d5234f86-22bc-5f5e-9b91-eb91719d4bfb</td>\n",
       "      <td>2020-12-13 07:54:04</td>\n",
       "      <td>1</td>\n",
       "    </tr>\n",
       "  </tbody>\n",
       "</table>\n",
       "<p>2203 rows × 4 columns</p>\n",
       "</div>"
      ],
      "text/plain": [
       "                                          userID  \\\n",
       "0     0x144c4e5027b69f7798b2b162d924bcae5c149f15   \n",
       "1     0xf3215bf9ad166213e2588baf81d7e932fda99d9e   \n",
       "2     0x24597c5c68687e816ffc0c69e064cb70bb62a9cd   \n",
       "3     0x6ac0a885ed84f4a2d062c60fb7daaf504fc8c47f   \n",
       "4     0xc4d9d1a93068d311ab18e988244123430eb4f1cd   \n",
       "...                                          ...   \n",
       "2198  0x0ebbda43014a6e6c32657a8db79376738d549b2f   \n",
       "2199  0x0ebbda43014a6e6c32657a8db79376738d549b2f   \n",
       "2200  0x4171160db0e7e2c75a4973b7523b437c010dd9d4   \n",
       "2201  0x00234af289964cc53cae46452ddac6253fc3ec3a   \n",
       "2202  0xbaaea72417f4dc3e0f52a1783b0913d0f3516634   \n",
       "\n",
       "                                    itemID           timestamp  rating  \n",
       "0     5542b602-fae5-5894-8139-1bbc3f6fa3f9 2019-04-10 19:38:39       1  \n",
       "1     5542b602-fae5-5894-8139-1bbc3f6fa3f9 2019-04-10 21:25:42       1  \n",
       "2     5542b602-fae5-5894-8139-1bbc3f6fa3f9 2019-04-10 22:06:20       1  \n",
       "3     5542b602-fae5-5894-8139-1bbc3f6fa3f9 2019-04-11 07:24:41       1  \n",
       "4     c56c81ad-7bf9-5aa7-bbbe-b643317cfc6d 2019-04-11 08:23:09       1  \n",
       "...                                    ...                 ...     ...  \n",
       "2198  c6ee2096-b2dc-51ee-bc1f-b96653e2c0bf 2020-04-29 05:44:45       1  \n",
       "2199  052958a4-180c-54ad-a4ba-dfc0c210dd3b 2020-05-02 06:32:56       1  \n",
       "2200  c6ee2096-b2dc-51ee-bc1f-b96653e2c0bf 2020-05-07 14:36:22       1  \n",
       "2201  d5234f86-22bc-5f5e-9b91-eb91719d4bfb 2020-12-12 18:37:20       1  \n",
       "2202  d5234f86-22bc-5f5e-9b91-eb91719d4bfb 2020-12-13 07:54:04       1  \n",
       "\n",
       "[2203 rows x 4 columns]"
      ]
     },
     "execution_count": 7,
     "metadata": {},
     "output_type": "execute_result"
    }
   ],
   "source": [
    "df = to_microsoft(dfv)\n",
    "df"
   ]
  },
  {
   "cell_type": "code",
   "execution_count": 8,
   "id": "5b4e9306",
   "metadata": {
    "editable": true,
    "execution": {
     "iopub.execute_input": "2024-09-05T09:05:51.943129Z",
     "iopub.status.busy": "2024-09-05T09:05:51.942983Z",
     "iopub.status.idle": "2024-09-05T09:05:52.013457Z",
     "shell.execute_reply": "2024-09-05T09:05:52.013219Z"
    },
    "papermill": {
     "duration": 0.074149,
     "end_time": "2024-09-05T09:05:52.014173",
     "exception": false,
     "start_time": "2024-09-05T09:05:51.940024",
     "status": "completed"
    },
    "slideshow": {
     "slide_type": ""
    },
    "tags": []
   },
   "outputs": [
    {
     "name": "stdout",
     "output_type": "stream",
     "text": [
      "35 folds\n",
      "Using 10 folds, from 2019-10-02T00:00:00 to 2019-12-04T00:00:00\n"
     ]
    }
   ],
   "source": [
    "# USE INTEGER INDEX\n",
    "# folds_dict = list(cvtt_open(df, SPLITS_FREQ, dfp, remove_not_in_train_col='userID'))\n",
    "# use_folds_idx = range(len(folds_dict))[-LAST_FOLDS:]\n",
    "\n",
    "# USE TIMESTAMP INDEX\n",
    "# Note: NO need to used OrderedDict, dict is ordered since Python 3.6\n",
    "folds_dict = { f.end.isoformat():f for f in cvtt_open(df, SPLITS_FREQ, dfp, remove_not_in_train_col='userID', last_fold=LAST_FOLD_DATE_STR) }\n",
    "use_folds_idx = list(folds_dict.keys())[-LAST_FOLDS:]\n",
    "\n",
    "print(len(folds_dict), \"folds\")\n",
    "print(\"Using\", len(use_folds_idx), \"folds, from\", use_folds_idx[0], \"to\", use_folds_idx[-1])"
   ]
  },
  {
   "cell_type": "markdown",
   "id": "c56aa64c",
   "metadata": {
    "papermill": {
     "duration": 0.002778,
     "end_time": "2024-09-05T09:05:52.019713",
     "exception": false,
     "start_time": "2024-09-05T09:05:52.016935",
     "status": "completed"
    },
    "tags": []
   },
   "source": [
    "## Making some checks"
   ]
  },
  {
   "cell_type": "markdown",
   "id": "3000454c",
   "metadata": {
    "papermill": {
     "duration": 0.0024,
     "end_time": "2024-09-05T09:05:52.024591",
     "exception": false,
     "start_time": "2024-09-05T09:05:52.022191",
     "status": "completed"
    },
    "tags": []
   },
   "source": [
    "### Checking that all the folds have open proposals"
   ]
  },
  {
   "cell_type": "code",
   "execution_count": 9,
   "id": "7777d9fa",
   "metadata": {
    "execution": {
     "iopub.execute_input": "2024-09-05T09:05:52.029961Z",
     "iopub.status.busy": "2024-09-05T09:05:52.029860Z",
     "iopub.status.idle": "2024-09-05T09:05:52.049782Z",
     "shell.execute_reply": "2024-09-05T09:05:52.049577Z"
    },
    "papermill": {
     "duration": 0.023485,
     "end_time": "2024-09-05T09:05:52.050446",
     "exception": false,
     "start_time": "2024-09-05T09:05:52.026961",
     "status": "completed"
    },
    "tags": []
   },
   "outputs": [],
   "source": [
    "_nok_folds = []\n",
    "for idx in use_folds_idx:\n",
    "    if len(folds_dict[idx].open_proposals) == 0:\n",
    "        _nok_folds.append(idx)\n",
    "\n",
    "if _nok_folds:\n",
    "    raise ValueError(f\"Folds {', '.join(_nok_folds)} don't have any open proposals\")"
   ]
  },
  {
   "cell_type": "markdown",
   "id": "70201acd",
   "metadata": {
    "papermill": {
     "duration": 0.002445,
     "end_time": "2024-09-05T09:05:52.055283",
     "exception": false,
     "start_time": "2024-09-05T09:05:52.052838",
     "status": "completed"
    },
    "tags": []
   },
   "source": [
    "### Checking correct hparams"
   ]
  },
  {
   "cell_type": "code",
   "execution_count": 10,
   "id": "3fe93e8c",
   "metadata": {
    "execution": {
     "iopub.execute_input": "2024-09-05T09:05:52.060574Z",
     "iopub.status.busy": "2024-09-05T09:05:52.060475Z",
     "iopub.status.idle": "2024-09-05T09:05:52.092043Z",
     "shell.execute_reply": "2024-09-05T09:05:52.091829Z"
    },
    "papermill": {
     "duration": 0.035015,
     "end_time": "2024-09-05T09:05:52.092684",
     "exception": false,
     "start_time": "2024-09-05T09:05:52.057669",
     "status": "completed"
    },
    "tags": []
   },
   "outputs": [
    {
     "name": "stdout",
     "output_type": "stream",
     "text": [
      "All folds ok!\n"
     ]
    }
   ],
   "source": [
    "now = dt.datetime.now()\n",
    "max_bs = 2**MAX_BATCH_SIZE\n",
    "\n",
    "all_ok = True\n",
    "for idx in use_folds_idx:\n",
    "    valid_ws = WINDOW_SIZES[0]\n",
    "    for ws in sorted(WINDOW_SIZES, key=lambda ws: now + pd.tseries.frequencies.to_offset(ws)):\n",
    "        nusers = filter_window_size(folds_dict[idx].train, folds_dict[idx].end, ws)['userID'].nunique()\n",
    "        if nusers > max_bs:\n",
    "            print(f'On fold {idx} WINDOW_SIZE should be at least {ws}: {nusers} > {max_bs}', file=sys.stderr)\n",
    "            break\n",
    "\n",
    "print(\"All folds ok!\")"
   ]
  },
  {
   "cell_type": "markdown",
   "id": "3b2966a0",
   "metadata": {
    "editable": true,
    "papermill": {
     "duration": 0.002644,
     "end_time": "2024-09-05T09:05:52.097869",
     "exception": false,
     "start_time": "2024-09-05T09:05:52.095225",
     "status": "completed"
    },
    "slideshow": {
     "slide_type": ""
    },
    "tags": []
   },
   "source": [
    "## Testing model"
   ]
  },
  {
   "cell_type": "code",
   "execution_count": 11,
   "id": "43aee4b9",
   "metadata": {
    "execution": {
     "iopub.execute_input": "2024-09-05T09:05:52.103352Z",
     "iopub.status.busy": "2024-09-05T09:05:52.103229Z",
     "iopub.status.idle": "2024-09-05T09:05:52.121762Z",
     "shell.execute_reply": "2024-09-05T09:05:52.121563Z"
    },
    "papermill": {
     "duration": 0.022068,
     "end_time": "2024-09-05T09:05:52.122395",
     "exception": false,
     "start_time": "2024-09-05T09:05:52.100327",
     "status": "completed"
    },
    "tags": []
   },
   "outputs": [],
   "source": [
    "from recommenders.models.deeprec.DataModel.ImplicitCF import ImplicitCF\n",
    "from recommenders.models.deeprec.deeprec_utils import prepare_hparams"
   ]
  },
  {
   "cell_type": "code",
   "execution_count": 12,
   "id": "4c05ac41",
   "metadata": {
    "editable": true,
    "execution": {
     "iopub.execute_input": "2024-09-05T09:05:52.128440Z",
     "iopub.status.busy": "2024-09-05T09:05:52.128318Z",
     "iopub.status.idle": "2024-09-05T09:05:52.146057Z",
     "shell.execute_reply": "2024-09-05T09:05:52.145860Z"
    },
    "papermill": {
     "duration": 0.021375,
     "end_time": "2024-09-05T09:05:52.146647",
     "exception": false,
     "start_time": "2024-09-05T09:05:52.125272",
     "status": "completed"
    },
    "slideshow": {
     "slide_type": ""
    },
    "tags": []
   },
   "outputs": [],
   "source": [
    "# hparams = prepare_hparams(\n",
    "#     model_type='lightgcn',\n",
    "#     n_layers=3,\n",
    "#     batch_size=512,\n",
    "#     embed_size=64,\n",
    "#     epochs=2,\n",
    "#     learning_rate=0.001,\n",
    "#     decay=0.001,\n",
    "#     metrics=[\"recall\", \"ndcg\", \"precision\", \"map\"],\n",
    "#     eval_epoch=2,\n",
    "#     top_k=K_RECOMMENDATIONS[0],\n",
    "#     save_model=False,\n",
    "#     MODEL_DIR='./data/model/lightgcn/',\n",
    "# )\n",
    "# dataloader = ImplicitCF(train=folds_dict[use_folds_idx[0]].train, test=folds_dict[use_folds_idx[0]].test, seed=SEED)\n",
    "# print(\"items:\", dataloader.n_items, \"user:\", dataloader.n_users)\n",
    "# model = LightGCNCustom(data=dataloader, hparams=hparams)"
   ]
  },
  {
   "cell_type": "code",
   "execution_count": 13,
   "id": "2d87b892",
   "metadata": {
    "execution": {
     "iopub.execute_input": "2024-09-05T09:05:52.152177Z",
     "iopub.status.busy": "2024-09-05T09:05:52.152059Z",
     "iopub.status.idle": "2024-09-05T09:05:52.168987Z",
     "shell.execute_reply": "2024-09-05T09:05:52.168798Z"
    },
    "papermill": {
     "duration": 0.020564,
     "end_time": "2024-09-05T09:05:52.169660",
     "exception": false,
     "start_time": "2024-09-05T09:05:52.149096",
     "status": "completed"
    },
    "tags": []
   },
   "outputs": [],
   "source": [
    "# model.fit()\n",
    "# model.run_eval()"
   ]
  },
  {
   "cell_type": "code",
   "execution_count": 14,
   "id": "4ab586f4",
   "metadata": {
    "editable": true,
    "execution": {
     "iopub.execute_input": "2024-09-05T09:05:52.175335Z",
     "iopub.status.busy": "2024-09-05T09:05:52.175193Z",
     "iopub.status.idle": "2024-09-05T09:05:52.191301Z",
     "shell.execute_reply": "2024-09-05T09:05:52.191115Z"
    },
    "papermill": {
     "duration": 0.019741,
     "end_time": "2024-09-05T09:05:52.191979",
     "exception": false,
     "start_time": "2024-09-05T09:05:52.172238",
     "status": "completed"
    },
    "slideshow": {
     "slide_type": ""
    },
    "tags": []
   },
   "outputs": [],
   "source": [
    "# model.recommend_k_items(\n",
    "#     dataloader.test, \n",
    "#     top_k=3, \n",
    "#     use_id=True, \n",
    "#     remove_seen=True, \n",
    "#     recommend_from=folds_dict[use_folds_idx[0]].open_proposals\n",
    "# )"
   ]
  },
  {
   "cell_type": "markdown",
   "id": "9dfab7fa",
   "metadata": {
    "papermill": {
     "duration": 0.002623,
     "end_time": "2024-09-05T09:05:52.197220",
     "exception": false,
     "start_time": "2024-09-05T09:05:52.194597",
     "status": "completed"
    },
    "tags": []
   },
   "source": [
    "## Defining trainable"
   ]
  },
  {
   "cell_type": "code",
   "execution_count": 15,
   "id": "7269119e",
   "metadata": {
    "execution": {
     "iopub.execute_input": "2024-09-05T09:05:52.202827Z",
     "iopub.status.busy": "2024-09-05T09:05:52.202710Z",
     "iopub.status.idle": "2024-09-05T09:05:52.218975Z",
     "shell.execute_reply": "2024-09-05T09:05:52.218782Z"
    },
    "papermill": {
     "duration": 0.019948,
     "end_time": "2024-09-05T09:05:52.219663",
     "exception": false,
     "start_time": "2024-09-05T09:05:52.199715",
     "status": "completed"
    },
    "tags": []
   },
   "outputs": [],
   "source": [
    "from recsys4daos.evaluation import calculate_all_metrics"
   ]
  },
  {
   "cell_type": "code",
   "execution_count": 16,
   "id": "5a13d93f",
   "metadata": {
    "editable": true,
    "execution": {
     "iopub.execute_input": "2024-09-05T09:05:52.225458Z",
     "iopub.status.busy": "2024-09-05T09:05:52.225339Z",
     "iopub.status.idle": "2024-09-05T09:05:52.245153Z",
     "shell.execute_reply": "2024-09-05T09:05:52.244943Z"
    },
    "papermill": {
     "duration": 0.023585,
     "end_time": "2024-09-05T09:05:52.245810",
     "exception": false,
     "start_time": "2024-09-05T09:05:52.222225",
     "status": "completed"
    },
    "slideshow": {
     "slide_type": ""
    },
    "tags": []
   },
   "outputs": [],
   "source": [
    "class TrainLightGCN(tune.Trainable):\n",
    "    def setup(\n",
    "        self,\n",
    "        config: Dict[str, Any],\n",
    "        data,\n",
    "    ):\n",
    "        self.config = config\n",
    "        train, test, self.t, self.open_proposals = data\n",
    "        train_filtered = filter_window_size(train, self.t, config['window_size'])\n",
    "        self.dataloader = ImplicitCF(train=train_filtered, test=test, seed=SEED)\n",
    "        # Some experiments will run multiple times, but that's a price to pay for\n",
    "        # usability\n",
    "        self.real_batch_size = min(2**config['batch_size'], self.dataloader.n_users_in_train)\n",
    "\n",
    "        self.hparams = prepare_hparams(\n",
    "            model_type='lightgcn',\n",
    "            n_layers=config['conv_layers'],\n",
    "            batch_size=self.real_batch_size,\n",
    "            embed_size=config['embedding_dim'],\n",
    "            epochs=EPOCHS_PER_ITER,\n",
    "            learning_rate=config['learning_rate'],\n",
    "            decay=config['l2'],\n",
    "            metrics=METRICS,\n",
    "            eval_epoch=-1,\n",
    "            top_k=K_RECOMMENDATIONS[0],\n",
    "            save_model=False,\n",
    "            MODEL_DIR='./data/model/lightgcn/',\n",
    "        )\n",
    "        self.model = LightGCNCustom(self.hparams, self.dataloader, seed=SEED)\n",
    "        self.total_train = 0\n",
    "        self.total_eval = 0\n",
    "\n",
    "    @property\n",
    "    def iteration(self):\n",
    "        return self.model.epochs_done\n",
    "\n",
    "    @property\n",
    "    def training_iteration(self):\n",
    "        return self.model.epochs_done\n",
    "\n",
    "    def step(self):\n",
    "        \"\"\"\n",
    "        As a rule of thumb, the execution time of step should be large enough to avoid overheads \n",
    "        (i.e. more than a few seconds), but short enough to report progress periodically \n",
    "        (i.e. at most a few minutes).\n",
    "        \"\"\"\n",
    "        assert EPOCHS_PER_ITER > 0\n",
    "\n",
    "        with Timer() as t_train:\n",
    "            for _ in range(EPOCHS_PER_ITER):\n",
    "                ret = self.model.fit_epoch()\n",
    "\n",
    "\n",
    "        with Timer() as t_rec:\n",
    "            recs = self.model.recommend_k_items(\n",
    "                self.dataloader.test, # Used only to get user ids\n",
    "                top_k=max(K_RECOMMENDATIONS),\n",
    "                use_id=True,\n",
    "                remove_seen=True,\n",
    "                recommend_from=self.open_proposals,\n",
    "            )\n",
    "        \n",
    "        eval_dict = {'model_'+k:v for k,v in zip(self.model.metrics, self.model.run_eval())}\n",
    "        eval_dict |= calculate_all_metrics(self.dataloader.test, recs, K_RECOMMENDATIONS)\n",
    "\n",
    "        self.total_train += t_train.time\n",
    "        self.total_eval += eval_dict['time_eval']\n",
    "        \n",
    "        return {\n",
    "            'real_batch_size': self.real_batch_size,\n",
    "            'iteration': self.iteration,\n",
    "            'loss': ret[0],\n",
    "            'mf_loss': ret[1],\n",
    "            'emb_loss': ret[2],\n",
    "            **eval_dict,\n",
    "            'time_train': t_train.time,\n",
    "            'time_rec': t_rec.time,\n",
    "            'time_total_train': self.total_train,\n",
    "            'time_total_test': self.total_eval,\n",
    "        }\n",
    "\n",
    "    def save_checkpoint(self, checkpoint_dir):\n",
    "        checkpoint_path = os.path.join(checkpoint_dir, \"model\")\n",
    "        self.model.saver.save(\n",
    "            sess=self.model.sess,\n",
    "            save_path=checkpoint_path,\n",
    "        )\n",
    "        return checkpoint_dir\n",
    "\n",
    "    def load_checkpoint(self, checkpoint_path):\n",
    "        self.model.load(checkpoint_path)"
   ]
  },
  {
   "cell_type": "markdown",
   "id": "3f226d62",
   "metadata": {
    "editable": true,
    "papermill": {
     "duration": 0.002767,
     "end_time": "2024-09-05T09:05:52.251470",
     "exception": false,
     "start_time": "2024-09-05T09:05:52.248703",
     "status": "completed"
    },
    "slideshow": {
     "slide_type": ""
    },
    "tags": []
   },
   "source": [
    "## Big experiment"
   ]
  },
  {
   "cell_type": "code",
   "execution_count": 17,
   "id": "c224b75d",
   "metadata": {
    "editable": true,
    "execution": {
     "iopub.execute_input": "2024-09-05T09:05:52.257365Z",
     "iopub.status.busy": "2024-09-05T09:05:52.257245Z",
     "iopub.status.idle": "2024-09-05T09:05:52.274388Z",
     "shell.execute_reply": "2024-09-05T09:05:52.274203Z"
    },
    "papermill": {
     "duration": 0.020866,
     "end_time": "2024-09-05T09:05:52.275009",
     "exception": false,
     "start_time": "2024-09-05T09:05:52.254143",
     "status": "completed"
    },
    "slideshow": {
     "slide_type": ""
    },
    "tags": []
   },
   "outputs": [
    {
     "data": {
      "text/plain": [
       "PosixPath('/home/daviddavo/ray_results3.11')"
      ]
     },
     "execution_count": 17,
     "metadata": {},
     "output_type": "execute_result"
    }
   ],
   "source": [
    "RAY_RESULTS_PATH"
   ]
  },
  {
   "cell_type": "code",
   "execution_count": 18,
   "id": "253c44c5",
   "metadata": {
    "editable": true,
    "execution": {
     "iopub.execute_input": "2024-09-05T09:05:52.280833Z",
     "iopub.status.busy": "2024-09-05T09:05:52.280701Z",
     "iopub.status.idle": "2024-09-05T09:05:52.298966Z",
     "shell.execute_reply": "2024-09-05T09:05:52.298546Z"
    },
    "papermill": {
     "duration": 0.021961,
     "end_time": "2024-09-05T09:05:52.299626",
     "exception": false,
     "start_time": "2024-09-05T09:05:52.277665",
     "status": "completed"
    },
    "slideshow": {
     "slide_type": ""
    },
    "tags": []
   },
   "outputs": [
    {
     "name": "stdout",
     "output_type": "stream",
     "text": [
      "lamarck\n",
      "{'cpu': 1, 'gpu': 0.0625}\n"
     ]
    }
   ],
   "source": [
    "print(os.uname().nodename)\n",
    "\n",
    "### SET TRAINING RESOURCES\n",
    "if os.uname().nodename == 'lamarck':\n",
    "    # assert torch.cuda.is_available()\n",
    "\n",
    "    NUM_SAMPLES = SAMPLES_PER_SPLIT\n",
    "    # Every run takes approx half a gig of vram (no optimizations)\n",
    "    # The RTX 4090 has 24GB so we can run the model about 48 times\n",
    "    resources_per_trial={\n",
    "        'cpu': 1,\n",
    "        'gpu': 1 / GPUS,\n",
    "    }\n",
    "else:\n",
    "    NUM_SAMPLES = 1\n",
    "    resources_per_trial={\n",
    "        'cpu': 1,\n",
    "        # It takes about 1.5 GiB with full training data, but I put a bit more because\n",
    "        # this notebook also takes a bit of memory\n",
    "        'memory': 2e9,\n",
    "    }\n",
    "print(resources_per_trial)"
   ]
  },
  {
   "cell_type": "code",
   "execution_count": 19,
   "id": "7a41e968",
   "metadata": {
    "editable": true,
    "execution": {
     "iopub.execute_input": "2024-09-05T09:05:52.305697Z",
     "iopub.status.busy": "2024-09-05T09:05:52.305565Z",
     "iopub.status.idle": "2024-09-05T09:05:52.395549Z",
     "shell.execute_reply": "2024-09-05T09:05:52.395066Z"
    },
    "papermill": {
     "duration": 0.094002,
     "end_time": "2024-09-05T09:05:52.396453",
     "exception": false,
     "start_time": "2024-09-05T09:05:52.302451",
     "status": "completed"
    },
    "slideshow": {
     "slide_type": ""
    },
    "tags": []
   },
   "outputs": [],
   "source": [
    "from ray.tune.search.hyperopt import HyperOptSearch"
   ]
  },
  {
   "cell_type": "code",
   "execution_count": 20,
   "id": "9945d1cf",
   "metadata": {
    "editable": true,
    "execution": {
     "iopub.execute_input": "2024-09-05T09:05:52.402884Z",
     "iopub.status.busy": "2024-09-05T09:05:52.402563Z",
     "iopub.status.idle": "2024-09-05T09:05:52.426690Z",
     "shell.execute_reply": "2024-09-05T09:05:52.426256Z"
    },
    "papermill": {
     "duration": 0.028106,
     "end_time": "2024-09-05T09:05:52.427378",
     "exception": false,
     "start_time": "2024-09-05T09:05:52.399272",
     "status": "completed"
    },
    "slideshow": {
     "slide_type": ""
    },
    "tags": []
   },
   "outputs": [],
   "source": [
    "def getTunerOnFold(f_idx, points_to_evaluate = None):    \n",
    "    name = paths.lightgcn_ray_tune_fname(ORG_NAME, SPLITS_FREQ, SPLITS_NORMALIZE, OPTIM_METRIC, fold=f_idx)\n",
    "    experiments = list(RAY_RESULTS_PATH.glob(f'{name}_*'))\n",
    "    last_experiment = max(experiments, key=lambda x: x.stat().st_ctime) if experiments else None\n",
    "    f = folds_dict[f_idx]\n",
    "\n",
    "    dftrain,dftest,t,open_proposals = folds_dict[f_idx]\n",
    "    param_space = dict(\n",
    "        batch_size=tune.randint(MIN_BATCH_SIZE, MAX_BATCH_SIZE+1), # 64 - 2**MAX_BATCH_SIZE\n",
    "        embedding_dim=tune.lograndint(1, MAX_EMBEDDING_DIM, base=2),\n",
    "        conv_layers=tune.randint(1,5),\n",
    "        learning_rate=tune.qloguniform(MIN_LR, 1, 1e-4),\n",
    "        l2=tune.loguniform(1e-7, 1e-2, 1e-7),\n",
    "        window_size=tune.choice(WINDOW_SIZES),\n",
    "        # Just so it appears on the output\n",
    "        fold=f_idx,\n",
    "    )\n",
    "    \n",
    "    ### RESTORE EXPERIMENT OR CREATE A NEW ONE\n",
    "    if last_experiment and tune.Tuner.can_restore(last_experiment):\n",
    "        print(f\"Restoring last experiment: {last_experiment}\")\n",
    "        tuner = tune.Tuner.restore(\n",
    "            str(last_experiment),\n",
    "            trainable=tune.with_resources(\n",
    "                # tune.with_parameters(TrainLightGCN,  train=dftrain, test=dftest, open_proposals=open_proposals),\n",
    "                tune.with_parameters(TrainLightGCN, data=f),\n",
    "                resources_per_trial,\n",
    "            ),\n",
    "            restart_errored=True,\n",
    "            param_space=param_space,\n",
    "        )\n",
    "    else:\n",
    "        print(f\"No experiment found for fold {f_idx}, creating new tuner with {NUM_SAMPLES} samples\")\n",
    "        search_alg = None\n",
    "        \n",
    "        search_alg = HyperOptSearch(\n",
    "            points_to_evaluate = points_to_evaluate,\n",
    "            random_state_seed=SEED,\n",
    "        )\n",
    "        # search_alg = tune.search.Repeater(search_alg, N_SPLITS-SKIP_SPLIT)\n",
    "        \n",
    "        tuner = tune.Tuner(\n",
    "            tune.with_resources(\n",
    "                # tune.with_parameters(TrainLightGCN,  train=dftrain, test=dftest, open_proposals=open_proposals),\n",
    "                tune.with_parameters(TrainLightGCN, data=folds_dict[f_idx]),\n",
    "                resources_per_trial,\n",
    "            ),\n",
    "            run_config=train.RunConfig(\n",
    "                stop={'training_iteration': MAX_EPOCHS/EPOCHS_PER_ITER, 'time_total_train': MAX_TIME_TOTAL_TRAIN},\n",
    "                name=name + f'_{dt.datetime.now().isoformat()}',\n",
    "                storage_path=RAY_RESULTS_PATH,\n",
    "                # failure_config=train.FailureConfig(fail_fast='raise'),\n",
    "                failure_config=train.FailureConfig(max_failures=3),\n",
    "            ),\n",
    "            param_space=param_space,\n",
    "            tune_config=tune.TuneConfig(\n",
    "                search_alg=search_alg,\n",
    "                num_samples=NUM_SAMPLES,\n",
    "                metric=OPTIM_METRIC,\n",
    "                mode='max',\n",
    "            )\n",
    "        )\n",
    "\n",
    "    return tuner"
   ]
  },
  {
   "cell_type": "code",
   "execution_count": 21,
   "id": "f99ffaaa",
   "metadata": {
    "editable": true,
    "execution": {
     "iopub.execute_input": "2024-09-05T09:05:52.433800Z",
     "iopub.status.busy": "2024-09-05T09:05:52.433648Z",
     "iopub.status.idle": "2024-09-05T09:05:52.460799Z",
     "shell.execute_reply": "2024-09-05T09:05:52.460493Z"
    },
    "papermill": {
     "duration": 0.031192,
     "end_time": "2024-09-05T09:05:52.461502",
     "exception": false,
     "start_time": "2024-09-05T09:05:52.430310",
     "status": "completed"
    },
    "slideshow": {
     "slide_type": ""
    },
    "tags": []
   },
   "outputs": [
    {
     "data": {
      "application/vnd.jupyter.widget-view+json": {
       "model_id": "9775de8c82bb4ffb82691ca9289680b8",
       "version_major": 2,
       "version_minor": 0
      },
      "text/plain": [
       "fold:   0%|          | 0/10 [00:00<?, ?it/s]"
      ]
     },
     "metadata": {},
     "output_type": "display_data"
    },
    {
     "data": {
      "application/vnd.jupyter.widget-view+json": {
       "model_id": "9e7c1deedf0a4a39a68bc730dafe6fba",
       "version_major": 2,
       "version_minor": 0
      },
      "text/plain": [
       "Output(layout=Layout(border_bottom='1px solid black', border_left='1px solid black', border_right='1px solid b…"
      ]
     },
     "execution_count": 21,
     "metadata": {},
     "output_type": "execute_result"
    }
   ],
   "source": [
    "# We need to display the progress bar in another cell because ray tune \"overwrites\" the previous output\n",
    "pbar = tqdm(total=len(use_folds_idx), desc='fold')\n",
    "out = widgets.Output(layout={'border': '1px solid black'})\n",
    "with out:\n",
    "    print(\"In this cell important output from the next cell will be shown\")\n",
    "out"
   ]
  },
  {
   "cell_type": "code",
   "execution_count": 22,
   "id": "ad5fa6f8",
   "metadata": {
    "editable": true,
    "execution": {
     "iopub.execute_input": "2024-09-05T09:05:52.467994Z",
     "iopub.status.busy": "2024-09-05T09:05:52.467904Z",
     "iopub.status.idle": "2024-09-05T09:06:20.011976Z",
     "shell.execute_reply": "2024-09-05T09:06:20.011687Z"
    },
    "papermill": {
     "duration": 27.550112,
     "end_time": "2024-09-05T09:06:20.014682",
     "exception": false,
     "start_time": "2024-09-05T09:05:52.464570",
     "status": "completed"
    },
    "slideshow": {
     "slide_type": ""
    },
    "tags": []
   },
   "outputs": [
    {
     "data": {
      "text/html": [
       "<div class=\"tuneStatus\">\n",
       "  <div style=\"display: flex;flex-direction: row\">\n",
       "    <div style=\"display: flex;flex-direction: column;\">\n",
       "      <h3>Tune Status</h3>\n",
       "      <table>\n",
       "<tbody>\n",
       "<tr><td>Current time:</td><td>2024-09-05 09:06:19</td></tr>\n",
       "<tr><td>Running for: </td><td>00:00:00.37        </td></tr>\n",
       "<tr><td>Memory:      </td><td>8.3/125.6 GiB      </td></tr>\n",
       "</tbody>\n",
       "</table>\n",
       "    </div>\n",
       "    <div class=\"vDivider\"></div>\n",
       "    <div class=\"systemInfo\">\n",
       "      <h3>System Info</h3>\n",
       "      Using FIFO scheduling algorithm.<br>Logical resource usage: 0/24 CPUs, 0/1 GPUs (0.0/1.0 accelerator_type:G)\n",
       "    </div>\n",
       "    \n",
       "  </div>\n",
       "  <div class=\"hDivider\"></div>\n",
       "  <div class=\"trialStatus\">\n",
       "    <h3>Trial Status</h3>\n",
       "    <table>\n",
       "<thead>\n",
       "<tr><th>Trial name            </th><th>status    </th><th>loc                  </th><th style=\"text-align: right;\">  batch_size</th><th style=\"text-align: right;\">  conv_layers</th><th style=\"text-align: right;\">  embedding_dim</th><th>fold               </th><th style=\"text-align: right;\">         l2</th><th style=\"text-align: right;\">  learning_rate</th><th>window_size  </th><th style=\"text-align: right;\">  iter</th><th style=\"text-align: right;\">  total time (s)</th><th style=\"text-align: right;\">  real_batch_size</th><th style=\"text-align: right;\">  iteration</th><th style=\"text-align: right;\">       loss</th></tr>\n",
       "</thead>\n",
       "<tbody>\n",
       "<tr><td>TrainLightGCN_45d484b6</td><td>TERMINATED</td><td>147.96.81.131:3482590</td><td style=\"text-align: right;\">           9</td><td style=\"text-align: right;\">            1</td><td style=\"text-align: right;\">              9</td><td>2019-12-04T00:00:00</td><td style=\"text-align: right;\">5.2681e-05 </td><td style=\"text-align: right;\">         0.7552</td><td>21d          </td><td style=\"text-align: right;\">    40</td><td style=\"text-align: right;\">         6.63944</td><td style=\"text-align: right;\">               40</td><td style=\"text-align: right;\">        200</td><td style=\"text-align: right;\">0.734938   </td></tr>\n",
       "<tr><td>TrainLightGCN_cd183fca</td><td>TERMINATED</td><td>147.96.81.131:3482441</td><td style=\"text-align: right;\">           6</td><td style=\"text-align: right;\">            2</td><td style=\"text-align: right;\">            604</td><td>2019-12-04T00:00:00</td><td style=\"text-align: right;\">3.74393e-06</td><td style=\"text-align: right;\">         0.1445</td><td>21d          </td><td style=\"text-align: right;\">    40</td><td style=\"text-align: right;\">         6.81946</td><td style=\"text-align: right;\">               40</td><td style=\"text-align: right;\">        200</td><td style=\"text-align: right;\">0.0344287  </td></tr>\n",
       "<tr><td>TrainLightGCN_0d312d50</td><td>TERMINATED</td><td>147.96.81.131:3482292</td><td style=\"text-align: right;\">          10</td><td style=\"text-align: right;\">            2</td><td style=\"text-align: right;\">             21</td><td>2019-12-04T00:00:00</td><td style=\"text-align: right;\">1.04039e-05</td><td style=\"text-align: right;\">         0.0205</td><td>21d          </td><td style=\"text-align: right;\">    40</td><td style=\"text-align: right;\">         6.98849</td><td style=\"text-align: right;\">               40</td><td style=\"text-align: right;\">        200</td><td style=\"text-align: right;\">0.000741841</td></tr>\n",
       "<tr><td>TrainLightGCN_80753eaf</td><td>TERMINATED</td><td>147.96.81.131:3482143</td><td style=\"text-align: right;\">           8</td><td style=\"text-align: right;\">            1</td><td style=\"text-align: right;\">             43</td><td>2019-12-04T00:00:00</td><td style=\"text-align: right;\">7.77989e-07</td><td style=\"text-align: right;\">         0.3636</td><td>10YE         </td><td style=\"text-align: right;\">    40</td><td style=\"text-align: right;\">         9.55358</td><td style=\"text-align: right;\">              122</td><td style=\"text-align: right;\">        200</td><td style=\"text-align: right;\">0.645608   </td></tr>\n",
       "<tr><td>TrainLightGCN_6af7809a</td><td>TERMINATED</td><td>147.96.81.131:3481994</td><td style=\"text-align: right;\">           9</td><td style=\"text-align: right;\">            3</td><td style=\"text-align: right;\">             17</td><td>2019-12-04T00:00:00</td><td style=\"text-align: right;\">1.55623e-05</td><td style=\"text-align: right;\">         0.0716</td><td>21d          </td><td style=\"text-align: right;\">    40</td><td style=\"text-align: right;\">         7.16721</td><td style=\"text-align: right;\">               40</td><td style=\"text-align: right;\">        200</td><td style=\"text-align: right;\">0.00113769 </td></tr>\n",
       "<tr><td>TrainLightGCN_2d42c297</td><td>TERMINATED</td><td>147.96.81.131:3481847</td><td style=\"text-align: right;\">          10</td><td style=\"text-align: right;\">            1</td><td style=\"text-align: right;\">             13</td><td>2019-12-04T00:00:00</td><td style=\"text-align: right;\">0.000117219</td><td style=\"text-align: right;\">         0.016 </td><td>60d          </td><td style=\"text-align: right;\">    40</td><td style=\"text-align: right;\">         7.49555</td><td style=\"text-align: right;\">               73</td><td style=\"text-align: right;\">        200</td><td style=\"text-align: right;\">0.00490258 </td></tr>\n",
       "<tr><td>TrainLightGCN_e86c2fb8</td><td>TERMINATED</td><td>147.96.81.131:3481698</td><td style=\"text-align: right;\">           8</td><td style=\"text-align: right;\">            4</td><td style=\"text-align: right;\">            116</td><td>2019-12-04T00:00:00</td><td style=\"text-align: right;\">0.00468384 </td><td style=\"text-align: right;\">         0.5797</td><td>90d          </td><td style=\"text-align: right;\">    40</td><td style=\"text-align: right;\">         8.19116</td><td style=\"text-align: right;\">               83</td><td style=\"text-align: right;\">        200</td><td style=\"text-align: right;\">1.90533    </td></tr>\n",
       "<tr><td>TrainLightGCN_1e89b52b</td><td>TERMINATED</td><td>147.96.81.131:3481548</td><td style=\"text-align: right;\">           7</td><td style=\"text-align: right;\">            2</td><td style=\"text-align: right;\">             73</td><td>2019-12-04T00:00:00</td><td style=\"text-align: right;\">2.8304e-05 </td><td style=\"text-align: right;\">         0.0488</td><td>21d          </td><td style=\"text-align: right;\">    40</td><td style=\"text-align: right;\">         6.98109</td><td style=\"text-align: right;\">               40</td><td style=\"text-align: right;\">        200</td><td style=\"text-align: right;\">0.00126267 </td></tr>\n",
       "<tr><td>TrainLightGCN_40ccf6ae</td><td>TERMINATED</td><td>147.96.81.131:3481399</td><td style=\"text-align: right;\">           9</td><td style=\"text-align: right;\">            1</td><td style=\"text-align: right;\">            267</td><td>2019-12-04T00:00:00</td><td style=\"text-align: right;\">7.02282e-05</td><td style=\"text-align: right;\">         0.0028</td><td>10YE         </td><td style=\"text-align: right;\">    40</td><td style=\"text-align: right;\">         9.4913 </td><td style=\"text-align: right;\">              122</td><td style=\"text-align: right;\">        200</td><td style=\"text-align: right;\">0.0027098  </td></tr>\n",
       "<tr><td>TrainLightGCN_84d47c8c</td><td>TERMINATED</td><td>147.96.81.131:3481248</td><td style=\"text-align: right;\">          10</td><td style=\"text-align: right;\">            1</td><td style=\"text-align: right;\">              4</td><td>2019-12-04T00:00:00</td><td style=\"text-align: right;\">6.53167e-06</td><td style=\"text-align: right;\">         0.0304</td><td>21d          </td><td style=\"text-align: right;\">    40</td><td style=\"text-align: right;\">         6.90212</td><td style=\"text-align: right;\">               40</td><td style=\"text-align: right;\">        200</td><td style=\"text-align: right;\">0.0964301  </td></tr>\n",
       "<tr><td>TrainLightGCN_6cacc417</td><td>TERMINATED</td><td>147.96.81.131:3481100</td><td style=\"text-align: right;\">           8</td><td style=\"text-align: right;\">            3</td><td style=\"text-align: right;\">            411</td><td>2019-12-04T00:00:00</td><td style=\"text-align: right;\">2.65889e-06</td><td style=\"text-align: right;\">         0.0001</td><td>21d          </td><td style=\"text-align: right;\">    40</td><td style=\"text-align: right;\">         6.82596</td><td style=\"text-align: right;\">               40</td><td style=\"text-align: right;\">        200</td><td style=\"text-align: right;\">0.289787   </td></tr>\n",
       "<tr><td>TrainLightGCN_d31d9a99</td><td>TERMINATED</td><td>147.96.81.131:3480953</td><td style=\"text-align: right;\">           7</td><td style=\"text-align: right;\">            2</td><td style=\"text-align: right;\">             56</td><td>2019-12-04T00:00:00</td><td style=\"text-align: right;\">2.58213e-07</td><td style=\"text-align: right;\">         0.8777</td><td>21d          </td><td style=\"text-align: right;\">    40</td><td style=\"text-align: right;\">         6.96127</td><td style=\"text-align: right;\">               40</td><td style=\"text-align: right;\">        200</td><td style=\"text-align: right;\">0.00798704 </td></tr>\n",
       "<tr><td>TrainLightGCN_ccb56a61</td><td>TERMINATED</td><td>147.96.81.131:3480803</td><td style=\"text-align: right;\">           9</td><td style=\"text-align: right;\">            1</td><td style=\"text-align: right;\">              6</td><td>2019-12-04T00:00:00</td><td style=\"text-align: right;\">0.00022307 </td><td style=\"text-align: right;\">         0.1862</td><td>60d          </td><td style=\"text-align: right;\">    40</td><td style=\"text-align: right;\">         7.62445</td><td style=\"text-align: right;\">               73</td><td style=\"text-align: right;\">        200</td><td style=\"text-align: right;\">0.14288    </td></tr>\n",
       "<tr><td>TrainLightGCN_9df16dce</td><td>TERMINATED</td><td>147.96.81.131:3480653</td><td style=\"text-align: right;\">           8</td><td style=\"text-align: right;\">            2</td><td style=\"text-align: right;\">             10</td><td>2019-12-04T00:00:00</td><td style=\"text-align: right;\">8.71386e-05</td><td style=\"text-align: right;\">         0.0054</td><td>90d          </td><td style=\"text-align: right;\">    40</td><td style=\"text-align: right;\">         8.04631</td><td style=\"text-align: right;\">               83</td><td style=\"text-align: right;\">        200</td><td style=\"text-align: right;\">0.0271357  </td></tr>\n",
       "<tr><td>TrainLightGCN_85a7fea1</td><td>TERMINATED</td><td>147.96.81.131:3480502</td><td style=\"text-align: right;\">          10</td><td style=\"text-align: right;\">            1</td><td style=\"text-align: right;\">            968</td><td>2019-12-04T00:00:00</td><td style=\"text-align: right;\">4.23825e-05</td><td style=\"text-align: right;\">         0.1353</td><td>21d          </td><td style=\"text-align: right;\">    40</td><td style=\"text-align: right;\">         6.98707</td><td style=\"text-align: right;\">               40</td><td style=\"text-align: right;\">        200</td><td style=\"text-align: right;\">0.577111   </td></tr>\n",
       "<tr><td>TrainLightGCN_3be0fb7f</td><td>TERMINATED</td><td>147.96.81.131:3480355</td><td style=\"text-align: right;\">           9</td><td style=\"text-align: right;\">            4</td><td style=\"text-align: right;\">             31</td><td>2019-12-04T00:00:00</td><td style=\"text-align: right;\">4.55457e-07</td><td style=\"text-align: right;\">         0.2456</td><td>21d          </td><td style=\"text-align: right;\">    40</td><td style=\"text-align: right;\">         6.98812</td><td style=\"text-align: right;\">               40</td><td style=\"text-align: right;\">        200</td><td style=\"text-align: right;\">0.000833559</td></tr>\n",
       "<tr><td>TrainLightGCN_5143bb77</td><td>TERMINATED</td><td>147.96.81.131:3480204</td><td style=\"text-align: right;\">           8</td><td style=\"text-align: right;\">            2</td><td style=\"text-align: right;\">              3</td><td>2019-12-04T00:00:00</td><td style=\"text-align: right;\">1.08722e-06</td><td style=\"text-align: right;\">         0.0387</td><td>10YE         </td><td style=\"text-align: right;\">    40</td><td style=\"text-align: right;\">         9.49445</td><td style=\"text-align: right;\">              122</td><td style=\"text-align: right;\">        200</td><td style=\"text-align: right;\">0.154787   </td></tr>\n",
       "<tr><td>TrainLightGCN_bcc717f9</td><td>TERMINATED</td><td>147.96.81.131:3480056</td><td style=\"text-align: right;\">           6</td><td style=\"text-align: right;\">            3</td><td style=\"text-align: right;\">             24</td><td>2019-12-04T00:00:00</td><td style=\"text-align: right;\">1.7113e-06 </td><td style=\"text-align: right;\">         0.1082</td><td>21d          </td><td style=\"text-align: right;\">    40</td><td style=\"text-align: right;\">         7.13232</td><td style=\"text-align: right;\">               40</td><td style=\"text-align: right;\">        200</td><td style=\"text-align: right;\">0.000184716</td></tr>\n",
       "<tr><td>TrainLightGCN_7fe60245</td><td>TERMINATED</td><td>147.96.81.131:3479907</td><td style=\"text-align: right;\">          10</td><td style=\"text-align: right;\">            1</td><td style=\"text-align: right;\">             84</td><td>2019-12-04T00:00:00</td><td style=\"text-align: right;\">1.34871e-07</td><td style=\"text-align: right;\">         0.0114</td><td>60d          </td><td style=\"text-align: right;\">    40</td><td style=\"text-align: right;\">         7.61385</td><td style=\"text-align: right;\">               73</td><td style=\"text-align: right;\">        200</td><td style=\"text-align: right;\">8.76542e-05</td></tr>\n",
       "<tr><td>TrainLightGCN_8f5225c3</td><td>TERMINATED</td><td>147.96.81.131:3479757</td><td style=\"text-align: right;\">           9</td><td style=\"text-align: right;\">            2</td><td style=\"text-align: right;\">              1</td><td>2019-12-04T00:00:00</td><td style=\"text-align: right;\">2.77487e-06</td><td style=\"text-align: right;\">         0.3537</td><td>90d          </td><td style=\"text-align: right;\">    40</td><td style=\"text-align: right;\">         7.96866</td><td style=\"text-align: right;\">               83</td><td style=\"text-align: right;\">        200</td><td style=\"text-align: right;\">0.365834   </td></tr>\n",
       "<tr><td>TrainLightGCN_849d3ad4</td><td>TERMINATED</td><td>147.96.81.131:3479610</td><td style=\"text-align: right;\">           8</td><td style=\"text-align: right;\">            1</td><td style=\"text-align: right;\">             15</td><td>2019-12-04T00:00:00</td><td style=\"text-align: right;\">2.04325e-07</td><td style=\"text-align: right;\">         0.0078</td><td>21d          </td><td style=\"text-align: right;\">    40</td><td style=\"text-align: right;\">         6.93013</td><td style=\"text-align: right;\">               40</td><td style=\"text-align: right;\">        200</td><td style=\"text-align: right;\">0.00155973 </td></tr>\n",
       "<tr><td>TrainLightGCN_ca764893</td><td>TERMINATED</td><td>147.96.81.131:3479461</td><td style=\"text-align: right;\">           9</td><td style=\"text-align: right;\">            2</td><td style=\"text-align: right;\">             38</td><td>2019-12-04T00:00:00</td><td style=\"text-align: right;\">7.62889e-07</td><td style=\"text-align: right;\">         0.0868</td><td>21d          </td><td style=\"text-align: right;\">    40</td><td style=\"text-align: right;\">         7.03302</td><td style=\"text-align: right;\">               40</td><td style=\"text-align: right;\">        200</td><td style=\"text-align: right;\">7.0612e-05 </td></tr>\n",
       "<tr><td>TrainLightGCN_fd56e809</td><td>TERMINATED</td><td>147.96.81.131:3479312</td><td style=\"text-align: right;\">          10</td><td style=\"text-align: right;\">            1</td><td style=\"text-align: right;\">            176</td><td>2019-12-04T00:00:00</td><td style=\"text-align: right;\">4.30611e-06</td><td style=\"text-align: right;\">         0.0192</td><td>10YE         </td><td style=\"text-align: right;\">    40</td><td style=\"text-align: right;\">         9.58076</td><td style=\"text-align: right;\">              122</td><td style=\"text-align: right;\">        200</td><td style=\"text-align: right;\">0.000256544</td></tr>\n",
       "<tr><td>TrainLightGCN_019055d6</td><td>TERMINATED</td><td>147.96.81.131:3479163</td><td style=\"text-align: right;\">           8</td><td style=\"text-align: right;\">            1</td><td style=\"text-align: right;\">              2</td><td>2019-12-04T00:00:00</td><td style=\"text-align: right;\">6.69454e-06</td><td style=\"text-align: right;\">         0.0658</td><td>21d          </td><td style=\"text-align: right;\">    40</td><td style=\"text-align: right;\">         6.91979</td><td style=\"text-align: right;\">               40</td><td style=\"text-align: right;\">        200</td><td style=\"text-align: right;\">0.198865   </td></tr>\n",
       "<tr><td>TrainLightGCN_961743a1</td><td>TERMINATED</td><td>147.96.81.131:3479016</td><td style=\"text-align: right;\">           9</td><td style=\"text-align: right;\">            2</td><td style=\"text-align: right;\">            748</td><td>2019-12-04T00:00:00</td><td style=\"text-align: right;\">1.54137e-05</td><td style=\"text-align: right;\">         0.1607</td><td>60d          </td><td style=\"text-align: right;\">    40</td><td style=\"text-align: right;\">         7.77204</td><td style=\"text-align: right;\">               73</td><td style=\"text-align: right;\">        200</td><td style=\"text-align: right;\">2.26457    </td></tr>\n",
       "<tr><td>TrainLightGCN_f3696429</td><td>TERMINATED</td><td>147.96.81.131:3478868</td><td style=\"text-align: right;\">           9</td><td style=\"text-align: right;\">            1</td><td style=\"text-align: right;\">            501</td><td>2019-12-04T00:00:00</td><td style=\"text-align: right;\">1.05442e-05</td><td style=\"text-align: right;\">         0.2703</td><td>90d          </td><td style=\"text-align: right;\">    40</td><td style=\"text-align: right;\">         7.97629</td><td style=\"text-align: right;\">               83</td><td style=\"text-align: right;\">        200</td><td style=\"text-align: right;\">0.654736   </td></tr>\n",
       "<tr><td>TrainLightGCN_fc5a2371</td><td>TERMINATED</td><td>147.96.81.131:3478720</td><td style=\"text-align: right;\">          10</td><td style=\"text-align: right;\">            2</td><td style=\"text-align: right;\">            190</td><td>2019-12-04T00:00:00</td><td style=\"text-align: right;\">2.56285e-05</td><td style=\"text-align: right;\">         0.5758</td><td>21d          </td><td style=\"text-align: right;\">    40</td><td style=\"text-align: right;\">         6.90213</td><td style=\"text-align: right;\">               40</td><td style=\"text-align: right;\">        200</td><td style=\"text-align: right;\">2.41567    </td></tr>\n",
       "<tr><td>TrainLightGCN_3884b6d9</td><td>TERMINATED</td><td>147.96.81.131:3478572</td><td style=\"text-align: right;\">          10</td><td style=\"text-align: right;\">            1</td><td style=\"text-align: right;\">             27</td><td>2019-12-04T00:00:00</td><td style=\"text-align: right;\">3.27478e-07</td><td style=\"text-align: right;\">         0.0445</td><td>21d          </td><td style=\"text-align: right;\">    40</td><td style=\"text-align: right;\">         6.86494</td><td style=\"text-align: right;\">               40</td><td style=\"text-align: right;\">        200</td><td style=\"text-align: right;\">5.84968e-05</td></tr>\n",
       "<tr><td>TrainLightGCN_b13a8c0f</td><td>TERMINATED</td><td>147.96.81.131:3478424</td><td style=\"text-align: right;\">           9</td><td style=\"text-align: right;\">            1</td><td style=\"text-align: right;\">              6</td><td>2019-12-04T00:00:00</td><td style=\"text-align: right;\">4.92571e-06</td><td style=\"text-align: right;\">         0.0308</td><td>21d          </td><td style=\"text-align: right;\">    40</td><td style=\"text-align: right;\">         6.91312</td><td style=\"text-align: right;\">               40</td><td style=\"text-align: right;\">        200</td><td style=\"text-align: right;\">0.00168956 </td></tr>\n",
       "<tr><td>TrainLightGCN_80a9e5fc</td><td>TERMINATED</td><td>147.96.81.131:3478275</td><td style=\"text-align: right;\">           9</td><td style=\"text-align: right;\">            1</td><td style=\"text-align: right;\">             13</td><td>2019-12-04T00:00:00</td><td style=\"text-align: right;\">1.84831e-06</td><td style=\"text-align: right;\">         0.8322</td><td>21d          </td><td style=\"text-align: right;\">    40</td><td style=\"text-align: right;\">         6.80647</td><td style=\"text-align: right;\">               40</td><td style=\"text-align: right;\">        200</td><td style=\"text-align: right;\">0.0141762  </td></tr>\n",
       "<tr><td>TrainLightGCN_994fdafa</td><td>TERMINATED</td><td>147.96.81.131:3478125</td><td style=\"text-align: right;\">          10</td><td style=\"text-align: right;\">            1</td><td style=\"text-align: right;\">             19</td><td>2019-12-04T00:00:00</td><td style=\"text-align: right;\">1.35831e-06</td><td style=\"text-align: right;\">         0.4224</td><td>21d          </td><td style=\"text-align: right;\">    40</td><td style=\"text-align: right;\">         6.70289</td><td style=\"text-align: right;\">               40</td><td style=\"text-align: right;\">        200</td><td style=\"text-align: right;\">0.0787411  </td></tr>\n",
       "<tr><td>TrainLightGCN_70d49800</td><td>TERMINATED</td><td>147.96.81.131:3477976</td><td style=\"text-align: right;\">           9</td><td style=\"text-align: right;\">            1</td><td style=\"text-align: right;\">              9</td><td>2019-12-04T00:00:00</td><td style=\"text-align: right;\">6.37429e-07</td><td style=\"text-align: right;\">         0.0553</td><td>21d          </td><td style=\"text-align: right;\">    40</td><td style=\"text-align: right;\">         6.78481</td><td style=\"text-align: right;\">               40</td><td style=\"text-align: right;\">        200</td><td style=\"text-align: right;\">0.000120836</td></tr>\n",
       "<tr><td>TrainLightGCN_25527b8c</td><td>TERMINATED</td><td>147.96.81.131:3477827</td><td style=\"text-align: right;\">          10</td><td style=\"text-align: right;\">            1</td><td style=\"text-align: right;\">              4</td><td>2019-12-04T00:00:00</td><td style=\"text-align: right;\">1.59438e-05</td><td style=\"text-align: right;\">         0.1187</td><td>21d          </td><td style=\"text-align: right;\">    40</td><td style=\"text-align: right;\">         6.89409</td><td style=\"text-align: right;\">               40</td><td style=\"text-align: right;\">        200</td><td style=\"text-align: right;\">0.0775424  </td></tr>\n",
       "<tr><td>TrainLightGCN_cbf3ab9c</td><td>TERMINATED</td><td>147.96.81.131:3477678</td><td style=\"text-align: right;\">           9</td><td style=\"text-align: right;\">            1</td><td style=\"text-align: right;\">             62</td><td>2019-12-04T00:00:00</td><td style=\"text-align: right;\">8.5107e-06 </td><td style=\"text-align: right;\">         0.0238</td><td>21d          </td><td style=\"text-align: right;\">    40</td><td style=\"text-align: right;\">         6.80728</td><td style=\"text-align: right;\">               40</td><td style=\"text-align: right;\">        200</td><td style=\"text-align: right;\">0.00037258 </td></tr>\n",
       "<tr><td>TrainLightGCN_c9e6f3e5</td><td>TERMINATED</td><td>147.96.81.131:3477527</td><td style=\"text-align: right;\">          10</td><td style=\"text-align: right;\">            1</td><td style=\"text-align: right;\">            106</td><td>2019-12-04T00:00:00</td><td style=\"text-align: right;\">2.06518e-06</td><td style=\"text-align: right;\">         0.3114</td><td>21d          </td><td style=\"text-align: right;\">    40</td><td style=\"text-align: right;\">         6.83079</td><td style=\"text-align: right;\">               40</td><td style=\"text-align: right;\">        200</td><td style=\"text-align: right;\">0.0178554  </td></tr>\n",
       "<tr><td>TrainLightGCN_8c7041dc</td><td>TERMINATED</td><td>147.96.81.131:3477378</td><td style=\"text-align: right;\">          10</td><td style=\"text-align: right;\">            2</td><td style=\"text-align: right;\">            329</td><td>2019-12-04T00:00:00</td><td style=\"text-align: right;\">9.42965e-07</td><td style=\"text-align: right;\">         0.0931</td><td>21d          </td><td style=\"text-align: right;\">    40</td><td style=\"text-align: right;\">         6.90499</td><td style=\"text-align: right;\">               40</td><td style=\"text-align: right;\">        200</td><td style=\"text-align: right;\">0.00217441 </td></tr>\n",
       "<tr><td>TrainLightGCN_79f8f0a9</td><td>TERMINATED</td><td>147.96.81.131:3477226</td><td style=\"text-align: right;\">          10</td><td style=\"text-align: right;\">            1</td><td style=\"text-align: right;\">            152</td><td>2019-12-04T00:00:00</td><td style=\"text-align: right;\">3.71592e-07</td><td style=\"text-align: right;\">         0.0029</td><td>21d          </td><td style=\"text-align: right;\">    40</td><td style=\"text-align: right;\">         6.92524</td><td style=\"text-align: right;\">               40</td><td style=\"text-align: right;\">        200</td><td style=\"text-align: right;\">0.000977595</td></tr>\n",
       "<tr><td>TrainLightGCN_3f17605d</td><td>TERMINATED</td><td>147.96.81.131:3477077</td><td style=\"text-align: right;\">           9</td><td style=\"text-align: right;\">            2</td><td style=\"text-align: right;\">              5</td><td>2019-12-04T00:00:00</td><td style=\"text-align: right;\">3.80994e-06</td><td style=\"text-align: right;\">         0.0004</td><td>21d          </td><td style=\"text-align: right;\">    40</td><td style=\"text-align: right;\">         6.73635</td><td style=\"text-align: right;\">               40</td><td style=\"text-align: right;\">        200</td><td style=\"text-align: right;\">0.551714   </td></tr>\n",
       "<tr><td>TrainLightGCN_b00807c1</td><td>TERMINATED</td><td>147.96.81.131:3476928</td><td style=\"text-align: right;\">          10</td><td style=\"text-align: right;\">            3</td><td style=\"text-align: right;\">              3</td><td>2019-12-04T00:00:00</td><td style=\"text-align: right;\">1.902e-07  </td><td style=\"text-align: right;\">         0.0012</td><td>21d          </td><td style=\"text-align: right;\">    40</td><td style=\"text-align: right;\">         6.92383</td><td style=\"text-align: right;\">               40</td><td style=\"text-align: right;\">        200</td><td style=\"text-align: right;\">0.372731   </td></tr>\n",
       "<tr><td>TrainLightGCN_ceebf594</td><td>TERMINATED</td><td>147.96.81.131:3476779</td><td style=\"text-align: right;\">          10</td><td style=\"text-align: right;\">            2</td><td style=\"text-align: right;\">              8</td><td>2019-12-04T00:00:00</td><td style=\"text-align: right;\">8.28952e-06</td><td style=\"text-align: right;\">         0.3219</td><td>21d          </td><td style=\"text-align: right;\">    40</td><td style=\"text-align: right;\">         6.98399</td><td style=\"text-align: right;\">               40</td><td style=\"text-align: right;\">        200</td><td style=\"text-align: right;\">0.307636   </td></tr>\n",
       "<tr><td>TrainLightGCN_8caadb9b</td><td>TERMINATED</td><td>147.96.81.131:3476628</td><td style=\"text-align: right;\">           9</td><td style=\"text-align: right;\">            1</td><td style=\"text-align: right;\">            181</td><td>2019-12-04T00:00:00</td><td style=\"text-align: right;\">1.72683e-06</td><td style=\"text-align: right;\">         0.0957</td><td>21d          </td><td style=\"text-align: right;\">    40</td><td style=\"text-align: right;\">         6.94413</td><td style=\"text-align: right;\">               40</td><td style=\"text-align: right;\">        200</td><td style=\"text-align: right;\">0.00226003 </td></tr>\n",
       "<tr><td>TrainLightGCN_6d50017d</td><td>TERMINATED</td><td>147.96.81.131:3476480</td><td style=\"text-align: right;\">           7</td><td style=\"text-align: right;\">            3</td><td style=\"text-align: right;\">             18</td><td>2019-12-04T00:00:00</td><td style=\"text-align: right;\">1.9399e-05 </td><td style=\"text-align: right;\">         0.0122</td><td>10YE         </td><td style=\"text-align: right;\">    40</td><td style=\"text-align: right;\">         9.64822</td><td style=\"text-align: right;\">              122</td><td style=\"text-align: right;\">        200</td><td style=\"text-align: right;\">0.00352284 </td></tr>\n",
       "<tr><td>TrainLightGCN_f406adc8</td><td>TERMINATED</td><td>147.96.81.131:3476333</td><td style=\"text-align: right;\">          10</td><td style=\"text-align: right;\">            1</td><td style=\"text-align: right;\">            483</td><td>2019-12-04T00:00:00</td><td style=\"text-align: right;\">4.06782e-05</td><td style=\"text-align: right;\">         0.1565</td><td>30d          </td><td style=\"text-align: right;\">    40</td><td style=\"text-align: right;\">         7.03927</td><td style=\"text-align: right;\">               49</td><td style=\"text-align: right;\">        200</td><td style=\"text-align: right;\">0.477378   </td></tr>\n",
       "<tr><td>TrainLightGCN_eeaaf6bf</td><td>TERMINATED</td><td>147.96.81.131:3476183</td><td style=\"text-align: right;\">           9</td><td style=\"text-align: right;\">            2</td><td style=\"text-align: right;\">              8</td><td>2019-12-04T00:00:00</td><td style=\"text-align: right;\">8.98747e-06</td><td style=\"text-align: right;\">         0.2005</td><td>21d          </td><td style=\"text-align: right;\">    40</td><td style=\"text-align: right;\">         6.95285</td><td style=\"text-align: right;\">               40</td><td style=\"text-align: right;\">        200</td><td style=\"text-align: right;\">0.000830941</td></tr>\n",
       "<tr><td>TrainLightGCN_45e55c31</td><td>TERMINATED</td><td>147.96.81.131:3476033</td><td style=\"text-align: right;\">           8</td><td style=\"text-align: right;\">            1</td><td style=\"text-align: right;\">             40</td><td>2019-12-04T00:00:00</td><td style=\"text-align: right;\">9.00673e-05</td><td style=\"text-align: right;\">         0.5262</td><td>90d          </td><td style=\"text-align: right;\">    40</td><td style=\"text-align: right;\">         7.94972</td><td style=\"text-align: right;\">               83</td><td style=\"text-align: right;\">        200</td><td style=\"text-align: right;\">1.08388    </td></tr>\n",
       "<tr><td>TrainLightGCN_b8e3b8d5</td><td>TERMINATED</td><td>147.96.81.131:3475887</td><td style=\"text-align: right;\">           7</td><td style=\"text-align: right;\">            4</td><td style=\"text-align: right;\">              1</td><td>2019-12-04T00:00:00</td><td style=\"text-align: right;\">0.000983636</td><td style=\"text-align: right;\">         0.0378</td><td>60d          </td><td style=\"text-align: right;\">    40</td><td style=\"text-align: right;\">         7.57202</td><td style=\"text-align: right;\">               73</td><td style=\"text-align: right;\">        200</td><td style=\"text-align: right;\">0.347619   </td></tr>\n",
       "<tr><td>TrainLightGCN_8d71c841</td><td>TERMINATED</td><td>147.96.81.131:3475736</td><td style=\"text-align: right;\">           6</td><td style=\"text-align: right;\">            2</td><td style=\"text-align: right;\">             12</td><td>2019-12-04T00:00:00</td><td style=\"text-align: right;\">0.000158109</td><td style=\"text-align: right;\">         0.0009</td><td>30d          </td><td style=\"text-align: right;\">    40</td><td style=\"text-align: right;\">         7.13655</td><td style=\"text-align: right;\">               49</td><td style=\"text-align: right;\">        200</td><td style=\"text-align: right;\">0.167665   </td></tr>\n",
       "<tr><td>TrainLightGCN_389264d7</td><td>TERMINATED</td><td>147.96.81.131:3475587</td><td style=\"text-align: right;\">           8</td><td style=\"text-align: right;\">            3</td><td style=\"text-align: right;\">            270</td><td>2019-12-04T00:00:00</td><td style=\"text-align: right;\">5.62631e-07</td><td style=\"text-align: right;\">         0.0019</td><td>21d          </td><td style=\"text-align: right;\">    40</td><td style=\"text-align: right;\">         7.00912</td><td style=\"text-align: right;\">               40</td><td style=\"text-align: right;\">        200</td><td style=\"text-align: right;\">0.00287207 </td></tr>\n",
       "<tr><td>TrainLightGCN_650eb57d</td><td>TERMINATED</td><td>147.96.81.131:3475440</td><td style=\"text-align: right;\">          10</td><td style=\"text-align: right;\">            1</td><td style=\"text-align: right;\">              2</td><td>2019-12-04T00:00:00</td><td style=\"text-align: right;\">1.10698e-07</td><td style=\"text-align: right;\">         0.6902</td><td>30d          </td><td style=\"text-align: right;\">    40</td><td style=\"text-align: right;\">         7.08839</td><td style=\"text-align: right;\">               49</td><td style=\"text-align: right;\">        200</td><td style=\"text-align: right;\">0.332017   </td></tr>\n",
       "<tr><td>TrainLightGCN_8f8116e6</td><td>TERMINATED</td><td>147.96.81.131:3475291</td><td style=\"text-align: right;\">           9</td><td style=\"text-align: right;\">            2</td><td style=\"text-align: right;\">              5</td><td>2019-12-04T00:00:00</td><td style=\"text-align: right;\">3.61706e-06</td><td style=\"text-align: right;\">         0.0717</td><td>10YE         </td><td style=\"text-align: right;\">    40</td><td style=\"text-align: right;\">         9.59602</td><td style=\"text-align: right;\">              122</td><td style=\"text-align: right;\">        200</td><td style=\"text-align: right;\">0.091633   </td></tr>\n",
       "<tr><td>TrainLightGCN_b99de78c</td><td>TERMINATED</td><td>147.96.81.131:3475143</td><td style=\"text-align: right;\">           7</td><td style=\"text-align: right;\">            3</td><td style=\"text-align: right;\">             72</td><td>2019-12-04T00:00:00</td><td style=\"text-align: right;\">2.06457e-06</td><td style=\"text-align: right;\">         0.0068</td><td>21d          </td><td style=\"text-align: right;\">    40</td><td style=\"text-align: right;\">         7.03864</td><td style=\"text-align: right;\">               40</td><td style=\"text-align: right;\">        200</td><td style=\"text-align: right;\">0.000985586</td></tr>\n",
       "<tr><td>TrainLightGCN_f0f0f6dd</td><td>TERMINATED</td><td>147.96.81.131:3474995</td><td style=\"text-align: right;\">           8</td><td style=\"text-align: right;\">            1</td><td style=\"text-align: right;\">            121</td><td>2019-12-04T00:00:00</td><td style=\"text-align: right;\">5.55148e-05</td><td style=\"text-align: right;\">         0.2815</td><td>30d          </td><td style=\"text-align: right;\">    40</td><td style=\"text-align: right;\">         6.97624</td><td style=\"text-align: right;\">               49</td><td style=\"text-align: right;\">        200</td><td style=\"text-align: right;\">0.669105   </td></tr>\n",
       "<tr><td>TrainLightGCN_59f09f1b</td><td>TERMINATED</td><td>147.96.81.131:3474844</td><td style=\"text-align: right;\">           9</td><td style=\"text-align: right;\">            4</td><td style=\"text-align: right;\">             31</td><td>2019-12-04T00:00:00</td><td style=\"text-align: right;\">0.000243082</td><td style=\"text-align: right;\">         0.0165</td><td>90d          </td><td style=\"text-align: right;\">    40</td><td style=\"text-align: right;\">         8.16599</td><td style=\"text-align: right;\">               83</td><td style=\"text-align: right;\">        200</td><td style=\"text-align: right;\">0.0194609  </td></tr>\n",
       "<tr><td>TrainLightGCN_07c1a918</td><td>TERMINATED</td><td>147.96.81.131:3474696</td><td style=\"text-align: right;\">           7</td><td style=\"text-align: right;\">            2</td><td style=\"text-align: right;\">             61</td><td>2019-12-04T00:00:00</td><td style=\"text-align: right;\">1.41764e-06</td><td style=\"text-align: right;\">         0.0261</td><td>60d          </td><td style=\"text-align: right;\">    40</td><td style=\"text-align: right;\">         7.58994</td><td style=\"text-align: right;\">               73</td><td style=\"text-align: right;\">        200</td><td style=\"text-align: right;\">0.000144988</td></tr>\n",
       "<tr><td>TrainLightGCN_d4776237</td><td>TERMINATED</td><td>147.96.81.131:3474548</td><td style=\"text-align: right;\">           9</td><td style=\"text-align: right;\">            2</td><td style=\"text-align: right;\">             19</td><td>2019-12-04T00:00:00</td><td style=\"text-align: right;\">7.74103e-06</td><td style=\"text-align: right;\">         0.1216</td><td>21d          </td><td style=\"text-align: right;\">    40</td><td style=\"text-align: right;\">         6.87436</td><td style=\"text-align: right;\">               40</td><td style=\"text-align: right;\">        200</td><td style=\"text-align: right;\">0.00051105 </td></tr>\n",
       "<tr><td>TrainLightGCN_82625104</td><td>TERMINATED</td><td>147.96.81.131:3474397</td><td style=\"text-align: right;\">           8</td><td style=\"text-align: right;\">            3</td><td style=\"text-align: right;\">             11</td><td>2019-12-04T00:00:00</td><td style=\"text-align: right;\">2.98289e-06</td><td style=\"text-align: right;\">         0.0044</td><td>30d          </td><td style=\"text-align: right;\">    40</td><td style=\"text-align: right;\">         7.20391</td><td style=\"text-align: right;\">               49</td><td style=\"text-align: right;\">        200</td><td style=\"text-align: right;\">0.0301878  </td></tr>\n",
       "<tr><td>TrainLightGCN_77e2d526</td><td>TERMINATED</td><td>147.96.81.131:3474247</td><td style=\"text-align: right;\">          10</td><td style=\"text-align: right;\">            1</td><td style=\"text-align: right;\">              2</td><td>2019-12-04T00:00:00</td><td style=\"text-align: right;\">0.000647773</td><td style=\"text-align: right;\">         0.4497</td><td>10YE         </td><td style=\"text-align: right;\">    40</td><td style=\"text-align: right;\">         9.35453</td><td style=\"text-align: right;\">              122</td><td style=\"text-align: right;\">        200</td><td style=\"text-align: right;\">0.338414   </td></tr>\n",
       "<tr><td>TrainLightGCN_503eb42b</td><td>TERMINATED</td><td>147.96.81.131:3474100</td><td style=\"text-align: right;\">           8</td><td style=\"text-align: right;\">            4</td><td style=\"text-align: right;\">            149</td><td>2019-12-04T00:00:00</td><td style=\"text-align: right;\">3.73681e-05</td><td style=\"text-align: right;\">         0.076 </td><td>21d          </td><td style=\"text-align: right;\">    40</td><td style=\"text-align: right;\">         7.04788</td><td style=\"text-align: right;\">               40</td><td style=\"text-align: right;\">        200</td><td style=\"text-align: right;\">0.0026953  </td></tr>\n",
       "<tr><td>TrainLightGCN_cfc4cefe</td><td>TERMINATED</td><td>147.96.81.131:3473951</td><td style=\"text-align: right;\">           7</td><td style=\"text-align: right;\">            2</td><td style=\"text-align: right;\">             35</td><td>2019-12-04T00:00:00</td><td style=\"text-align: right;\">9.63441e-07</td><td style=\"text-align: right;\">         0.975 </td><td>60d          </td><td style=\"text-align: right;\">    40</td><td style=\"text-align: right;\">         7.57639</td><td style=\"text-align: right;\">               73</td><td style=\"text-align: right;\">        200</td><td style=\"text-align: right;\">0.0456377  </td></tr>\n",
       "<tr><td>TrainLightGCN_91453cf2</td><td>TERMINATED</td><td>147.96.81.131:3473803</td><td style=\"text-align: right;\">           9</td><td style=\"text-align: right;\">            2</td><td style=\"text-align: right;\">              1</td><td>2019-12-04T00:00:00</td><td style=\"text-align: right;\">0.000114317</td><td style=\"text-align: right;\">         0.2149</td><td>90d          </td><td style=\"text-align: right;\">    40</td><td style=\"text-align: right;\">         7.66455</td><td style=\"text-align: right;\">               83</td><td style=\"text-align: right;\">        200</td><td style=\"text-align: right;\">0.350048   </td></tr>\n",
       "<tr><td>TrainLightGCN_4c4a0b88</td><td>TERMINATED</td><td>147.96.81.131:3473655</td><td style=\"text-align: right;\">           8</td><td style=\"text-align: right;\">            2</td><td style=\"text-align: right;\">              4</td><td>2019-12-04T00:00:00</td><td style=\"text-align: right;\">0.000417883</td><td style=\"text-align: right;\">         0.0098</td><td>30d          </td><td style=\"text-align: right;\">    40</td><td style=\"text-align: right;\">         6.99078</td><td style=\"text-align: right;\">               49</td><td style=\"text-align: right;\">        200</td><td style=\"text-align: right;\">0.100384   </td></tr>\n",
       "<tr><td>TrainLightGCN_82b8438a</td><td>TERMINATED</td><td>147.96.81.131:3473504</td><td style=\"text-align: right;\">          10</td><td style=\"text-align: right;\">            3</td><td style=\"text-align: right;\">             23</td><td>2019-12-04T00:00:00</td><td style=\"text-align: right;\">0.00366735 </td><td style=\"text-align: right;\">         0.0448</td><td>21d          </td><td style=\"text-align: right;\">    40</td><td style=\"text-align: right;\">         7.13312</td><td style=\"text-align: right;\">               40</td><td style=\"text-align: right;\">        200</td><td style=\"text-align: right;\">0.0822668  </td></tr>\n",
       "<tr><td>TrainLightGCN_56f117e1</td><td>TERMINATED</td><td>147.96.81.131:3473356</td><td style=\"text-align: right;\">           9</td><td style=\"text-align: right;\">            1</td><td style=\"text-align: right;\">             49</td><td>2019-12-04T00:00:00</td><td style=\"text-align: right;\">6.05138e-06</td><td style=\"text-align: right;\">         0.1333</td><td>10YE         </td><td style=\"text-align: right;\">    40</td><td style=\"text-align: right;\">         9.64299</td><td style=\"text-align: right;\">              122</td><td style=\"text-align: right;\">        200</td><td style=\"text-align: right;\">0.0325502  </td></tr>\n",
       "<tr><td>TrainLightGCN_1f59bf00</td><td>TERMINATED</td><td>147.96.81.131:3473207</td><td style=\"text-align: right;\">           8</td><td style=\"text-align: right;\">            2</td><td style=\"text-align: right;\">              5</td><td>2019-12-04T00:00:00</td><td style=\"text-align: right;\">0.00921281 </td><td style=\"text-align: right;\">         0.0603</td><td>21d          </td><td style=\"text-align: right;\">    40</td><td style=\"text-align: right;\">         6.89388</td><td style=\"text-align: right;\">               40</td><td style=\"text-align: right;\">        200</td><td style=\"text-align: right;\">0.144103   </td></tr>\n",
       "<tr><td>TrainLightGCN_a758086f</td><td>TERMINATED</td><td>147.96.81.131:3473059</td><td style=\"text-align: right;\">           7</td><td style=\"text-align: right;\">            1</td><td style=\"text-align: right;\">             45</td><td>2019-12-04T00:00:00</td><td style=\"text-align: right;\">1.95551e-05</td><td style=\"text-align: right;\">         0.0186</td><td>60d          </td><td style=\"text-align: right;\">    40</td><td style=\"text-align: right;\">         7.8112 </td><td style=\"text-align: right;\">               73</td><td style=\"text-align: right;\">        200</td><td style=\"text-align: right;\">0.000852018</td></tr>\n",
       "<tr><td>TrainLightGCN_0a815403</td><td>TERMINATED</td><td>147.96.81.131:3472911</td><td style=\"text-align: right;\">           8</td><td style=\"text-align: right;\">            1</td><td style=\"text-align: right;\">             10</td><td>2019-12-04T00:00:00</td><td style=\"text-align: right;\">0.000342135</td><td style=\"text-align: right;\">         0.0046</td><td>30d          </td><td style=\"text-align: right;\">    40</td><td style=\"text-align: right;\">         7.18715</td><td style=\"text-align: right;\">               49</td><td style=\"text-align: right;\">        200</td><td style=\"text-align: right;\">0.024231   </td></tr>\n",
       "<tr><td>TrainLightGCN_caf7622c</td><td>TERMINATED</td><td>147.96.81.131:3472763</td><td style=\"text-align: right;\">           9</td><td style=\"text-align: right;\">            1</td><td style=\"text-align: right;\">             23</td><td>2019-12-04T00:00:00</td><td style=\"text-align: right;\">8.01482e-05</td><td style=\"text-align: right;\">         0.0135</td><td>10YE         </td><td style=\"text-align: right;\">    40</td><td style=\"text-align: right;\">         9.75897</td><td style=\"text-align: right;\">              122</td><td style=\"text-align: right;\">        200</td><td style=\"text-align: right;\">0.00336899 </td></tr>\n",
       "<tr><td>TrainLightGCN_81fa8df5</td><td>TERMINATED</td><td>147.96.81.131:3472614</td><td style=\"text-align: right;\">           8</td><td style=\"text-align: right;\">            1</td><td style=\"text-align: right;\">             15</td><td>2019-12-04T00:00:00</td><td style=\"text-align: right;\">5.25827e-06</td><td style=\"text-align: right;\">         0.1004</td><td>21d          </td><td style=\"text-align: right;\">    40</td><td style=\"text-align: right;\">         6.84291</td><td style=\"text-align: right;\">               40</td><td style=\"text-align: right;\">        200</td><td style=\"text-align: right;\">0.000265167</td></tr>\n",
       "<tr><td>TrainLightGCN_fbc0bc5e</td><td>TERMINATED</td><td>147.96.81.131:3472467</td><td style=\"text-align: right;\">           8</td><td style=\"text-align: right;\">            1</td><td style=\"text-align: right;\">              2</td><td>2019-12-04T00:00:00</td><td style=\"text-align: right;\">1.24356e-05</td><td style=\"text-align: right;\">         0.0511</td><td>21d          </td><td style=\"text-align: right;\">    40</td><td style=\"text-align: right;\">         6.87306</td><td style=\"text-align: right;\">               40</td><td style=\"text-align: right;\">        200</td><td style=\"text-align: right;\">0.199193   </td></tr>\n",
       "<tr><td>TrainLightGCN_e2a2465a</td><td>TERMINATED</td><td>147.96.81.131:3472319</td><td style=\"text-align: right;\">           6</td><td style=\"text-align: right;\">            2</td><td style=\"text-align: right;\">           1004</td><td>2019-12-04T00:00:00</td><td style=\"text-align: right;\">6.11796e-07</td><td style=\"text-align: right;\">         0.3699</td><td>90d          </td><td style=\"text-align: right;\">    40</td><td style=\"text-align: right;\">         8.17566</td><td style=\"text-align: right;\">               64</td><td style=\"text-align: right;\">        200</td><td style=\"text-align: right;\">0.170897   </td></tr>\n",
       "<tr><td>TrainLightGCN_59e54484</td><td>TERMINATED</td><td>147.96.81.131:3472169</td><td style=\"text-align: right;\">           8</td><td style=\"text-align: right;\">            3</td><td style=\"text-align: right;\">              7</td><td>2019-12-04T00:00:00</td><td style=\"text-align: right;\">3.03672e-05</td><td style=\"text-align: right;\">         0.0234</td><td>60d          </td><td style=\"text-align: right;\">    40</td><td style=\"text-align: right;\">         7.69475</td><td style=\"text-align: right;\">               73</td><td style=\"text-align: right;\">        200</td><td style=\"text-align: right;\">0.0170793  </td></tr>\n",
       "<tr><td>TrainLightGCN_874217b9</td><td>TERMINATED</td><td>147.96.81.131:3472020</td><td style=\"text-align: right;\">           7</td><td style=\"text-align: right;\">            3</td><td style=\"text-align: right;\">            647</td><td>2019-12-04T00:00:00</td><td style=\"text-align: right;\">2.21394e-05</td><td style=\"text-align: right;\">         0.0067</td><td>90d          </td><td style=\"text-align: right;\">    40</td><td style=\"text-align: right;\">         8.06127</td><td style=\"text-align: right;\">               83</td><td style=\"text-align: right;\">        200</td><td style=\"text-align: right;\">0.00196896 </td></tr>\n",
       "<tr><td>TrainLightGCN_d28a2ada</td><td>TERMINATED</td><td>147.96.81.131:3471871</td><td style=\"text-align: right;\">           8</td><td style=\"text-align: right;\">            1</td><td style=\"text-align: right;\">             17</td><td>2019-12-04T00:00:00</td><td style=\"text-align: right;\">6.76798e-06</td><td style=\"text-align: right;\">         0.0618</td><td>21d          </td><td style=\"text-align: right;\">    40</td><td style=\"text-align: right;\">         6.97028</td><td style=\"text-align: right;\">               40</td><td style=\"text-align: right;\">        200</td><td style=\"text-align: right;\">0.000317735</td></tr>\n",
       "<tr><td>TrainLightGCN_567677a4</td><td>TERMINATED</td><td>147.96.81.131:3471721</td><td style=\"text-align: right;\">           7</td><td style=\"text-align: right;\">            2</td><td style=\"text-align: right;\">             50</td><td>2019-12-04T00:00:00</td><td style=\"text-align: right;\">1.02954e-07</td><td style=\"text-align: right;\">         0.296 </td><td>30d          </td><td style=\"text-align: right;\">    40</td><td style=\"text-align: right;\">         6.97445</td><td style=\"text-align: right;\">               49</td><td style=\"text-align: right;\">        200</td><td style=\"text-align: right;\">0.000508027</td></tr>\n",
       "<tr><td>TrainLightGCN_c9f1d133</td><td>TERMINATED</td><td>147.96.81.131:3471572</td><td style=\"text-align: right;\">           6</td><td style=\"text-align: right;\">            1</td><td style=\"text-align: right;\">            142</td><td>2019-12-04T00:00:00</td><td style=\"text-align: right;\">3.98396e-07</td><td style=\"text-align: right;\">         0.9299</td><td>21d          </td><td style=\"text-align: right;\">    40</td><td style=\"text-align: right;\">         6.74779</td><td style=\"text-align: right;\">               40</td><td style=\"text-align: right;\">        200</td><td style=\"text-align: right;\">0.0321185  </td></tr>\n",
       "<tr><td>TrainLightGCN_a8235985</td><td>TERMINATED</td><td>147.96.81.131:3471422</td><td style=\"text-align: right;\">           8</td><td style=\"text-align: right;\">            3</td><td style=\"text-align: right;\">             15</td><td>2019-12-04T00:00:00</td><td style=\"text-align: right;\">1.29177e-05</td><td style=\"text-align: right;\">         0.6953</td><td>30d          </td><td style=\"text-align: right;\">    40</td><td style=\"text-align: right;\">         6.92024</td><td style=\"text-align: right;\">               49</td><td style=\"text-align: right;\">        200</td><td style=\"text-align: right;\">0.0853747  </td></tr>\n",
       "<tr><td>TrainLightGCN_85ef296c</td><td>TERMINATED</td><td>147.96.81.131:3471273</td><td style=\"text-align: right;\">           6</td><td style=\"text-align: right;\">            1</td><td style=\"text-align: right;\">              3</td><td>2019-12-04T00:00:00</td><td style=\"text-align: right;\">1.84392e-07</td><td style=\"text-align: right;\">         0.0312</td><td>30d          </td><td style=\"text-align: right;\">    40</td><td style=\"text-align: right;\">         6.65989</td><td style=\"text-align: right;\">               49</td><td style=\"text-align: right;\">        200</td><td style=\"text-align: right;\">0.168148   </td></tr>\n",
       "<tr><td>TrainLightGCN_b083d2bb</td><td>TERMINATED</td><td>147.96.81.131:3471123</td><td style=\"text-align: right;\">           7</td><td style=\"text-align: right;\">            1</td><td style=\"text-align: right;\">            795</td><td>2019-12-04T00:00:00</td><td style=\"text-align: right;\">2.63547e-07</td><td style=\"text-align: right;\">         0.2272</td><td>30d          </td><td style=\"text-align: right;\">    40</td><td style=\"text-align: right;\">         7.02484</td><td style=\"text-align: right;\">               49</td><td style=\"text-align: right;\">        200</td><td style=\"text-align: right;\">0.00984438 </td></tr>\n",
       "<tr><td>TrainLightGCN_66ab2b49</td><td>TERMINATED</td><td>147.96.81.131:3470975</td><td style=\"text-align: right;\">           7</td><td style=\"text-align: right;\">            1</td><td style=\"text-align: right;\">              8</td><td>2019-12-04T00:00:00</td><td style=\"text-align: right;\">1.21216e-05</td><td style=\"text-align: right;\">         0.0355</td><td>30d          </td><td style=\"text-align: right;\">    40</td><td style=\"text-align: right;\">         6.81872</td><td style=\"text-align: right;\">               49</td><td style=\"text-align: right;\">        200</td><td style=\"text-align: right;\">0.00157519 </td></tr>\n",
       "<tr><td>TrainLightGCN_d6977eef</td><td>TERMINATED</td><td>147.96.81.131:3470824</td><td style=\"text-align: right;\">           6</td><td style=\"text-align: right;\">            1</td><td style=\"text-align: right;\">             15</td><td>2019-12-04T00:00:00</td><td style=\"text-align: right;\">0.0078698  </td><td style=\"text-align: right;\">         0.0005</td><td>21d          </td><td style=\"text-align: right;\">    40</td><td style=\"text-align: right;\">         6.98913</td><td style=\"text-align: right;\">               40</td><td style=\"text-align: right;\">        200</td><td style=\"text-align: right;\">0.303367   </td></tr>\n",
       "<tr><td>TrainLightGCN_9a570cb3</td><td>TERMINATED</td><td>147.96.81.131:3470674</td><td style=\"text-align: right;\">           9</td><td style=\"text-align: right;\">            2</td><td style=\"text-align: right;\">              3</td><td>2019-12-04T00:00:00</td><td style=\"text-align: right;\">0.00158506 </td><td style=\"text-align: right;\">         0.0001</td><td>30d          </td><td style=\"text-align: right;\">    40</td><td style=\"text-align: right;\">         6.94177</td><td style=\"text-align: right;\">               49</td><td style=\"text-align: right;\">        200</td><td style=\"text-align: right;\">0.67779    </td></tr>\n",
       "<tr><td>TrainLightGCN_940dcf43</td><td>TERMINATED</td><td>147.96.81.131:3470526</td><td style=\"text-align: right;\">           7</td><td style=\"text-align: right;\">            4</td><td style=\"text-align: right;\">             97</td><td>2019-12-04T00:00:00</td><td style=\"text-align: right;\">6.09932e-05</td><td style=\"text-align: right;\">         0.0021</td><td>10YE         </td><td style=\"text-align: right;\">    40</td><td style=\"text-align: right;\">         9.6782 </td><td style=\"text-align: right;\">              122</td><td style=\"text-align: right;\">        200</td><td style=\"text-align: right;\">0.0147195  </td></tr>\n",
       "<tr><td>TrainLightGCN_6e328c1b</td><td>TERMINATED</td><td>147.96.81.131:3470377</td><td style=\"text-align: right;\">           8</td><td style=\"text-align: right;\">            2</td><td style=\"text-align: right;\">             27</td><td>2019-12-04T00:00:00</td><td style=\"text-align: right;\">3.06006e-05</td><td style=\"text-align: right;\">         0.2056</td><td>30d          </td><td style=\"text-align: right;\">    40</td><td style=\"text-align: right;\">         7.03431</td><td style=\"text-align: right;\">               49</td><td style=\"text-align: right;\">        200</td><td style=\"text-align: right;\">0.038505   </td></tr>\n",
       "<tr><td>TrainLightGCN_7869fcb2</td><td>TERMINATED</td><td>147.96.81.131:3470228</td><td style=\"text-align: right;\">           8</td><td style=\"text-align: right;\">            2</td><td style=\"text-align: right;\">            241</td><td>2019-12-04T00:00:00</td><td style=\"text-align: right;\">5.10482e-06</td><td style=\"text-align: right;\">         0.0017</td><td>90d          </td><td style=\"text-align: right;\">    40</td><td style=\"text-align: right;\">         7.999  </td><td style=\"text-align: right;\">               83</td><td style=\"text-align: right;\">        200</td><td style=\"text-align: right;\">0.00206734 </td></tr>\n",
       "<tr><td>TrainLightGCN_cb66c620</td><td>TERMINATED</td><td>147.96.81.131:3470079</td><td style=\"text-align: right;\">           9</td><td style=\"text-align: right;\">            4</td><td style=\"text-align: right;\">              7</td><td>2019-12-04T00:00:00</td><td style=\"text-align: right;\">2.91903e-06</td><td style=\"text-align: right;\">         0.1593</td><td>21d          </td><td style=\"text-align: right;\">    40</td><td style=\"text-align: right;\">         7.0638 </td><td style=\"text-align: right;\">               40</td><td style=\"text-align: right;\">        200</td><td style=\"text-align: right;\">0.00045432 </td></tr>\n",
       "<tr><td>TrainLightGCN_4ef2edc9</td><td>TERMINATED</td><td>147.96.81.131:3469930</td><td style=\"text-align: right;\">           9</td><td style=\"text-align: right;\">            3</td><td style=\"text-align: right;\">            447</td><td>2019-12-04T00:00:00</td><td style=\"text-align: right;\">0.000129301</td><td style=\"text-align: right;\">         0.0008</td><td>60d          </td><td style=\"text-align: right;\">    40</td><td style=\"text-align: right;\">         7.80743</td><td style=\"text-align: right;\">               73</td><td style=\"text-align: right;\">        200</td><td style=\"text-align: right;\">0.0150017  </td></tr>\n",
       "<tr><td>TrainLightGCN_0a7a1e19</td><td>TERMINATED</td><td>147.96.81.131:3469783</td><td style=\"text-align: right;\">           9</td><td style=\"text-align: right;\">            3</td><td style=\"text-align: right;\">             86</td><td>2019-12-04T00:00:00</td><td style=\"text-align: right;\">0.000166749</td><td style=\"text-align: right;\">         0.0002</td><td>30d          </td><td style=\"text-align: right;\">    40</td><td style=\"text-align: right;\">         7.16627</td><td style=\"text-align: right;\">               49</td><td style=\"text-align: right;\">        200</td><td style=\"text-align: right;\">0.326949   </td></tr>\n",
       "<tr><td>TrainLightGCN_fb05d4d0</td><td>TERMINATED</td><td>147.96.81.131:3469637</td><td style=\"text-align: right;\">          10</td><td style=\"text-align: right;\">            2</td><td style=\"text-align: right;\">            364</td><td>2019-12-04T00:00:00</td><td style=\"text-align: right;\">2.08113e-06</td><td style=\"text-align: right;\">         0.0002</td><td>90d          </td><td style=\"text-align: right;\">    40</td><td style=\"text-align: right;\">         8.03127</td><td style=\"text-align: right;\">               83</td><td style=\"text-align: right;\">        200</td><td style=\"text-align: right;\">0.0594165  </td></tr>\n",
       "<tr><td>TrainLightGCN_3557dc8e</td><td>TERMINATED</td><td>147.96.81.131:3469480</td><td style=\"text-align: right;\">           8</td><td style=\"text-align: right;\">            2</td><td style=\"text-align: right;\">             96</td><td>2019-12-04T00:00:00</td><td style=\"text-align: right;\">4.92424e-05</td><td style=\"text-align: right;\">         0.0784</td><td>21d          </td><td style=\"text-align: right;\">    40</td><td style=\"text-align: right;\">         6.67501</td><td style=\"text-align: right;\">               40</td><td style=\"text-align: right;\">        200</td><td style=\"text-align: right;\">0.0237354  </td></tr>\n",
       "<tr><td>TrainLightGCN_f7616e7c</td><td>TERMINATED</td><td>147.96.81.131:3469339</td><td style=\"text-align: right;\">           9</td><td style=\"text-align: right;\">            2</td><td style=\"text-align: right;\">             26</td><td>2019-12-04T00:00:00</td><td style=\"text-align: right;\">1.42721e-06</td><td style=\"text-align: right;\">         0.6694</td><td>30d          </td><td style=\"text-align: right;\">    40</td><td style=\"text-align: right;\">         7.08442</td><td style=\"text-align: right;\">               49</td><td style=\"text-align: right;\">        200</td><td style=\"text-align: right;\">0.0148241  </td></tr>\n",
       "<tr><td>TrainLightGCN_c0ff5f2b</td><td>TERMINATED</td><td>147.96.81.131:3469191</td><td style=\"text-align: right;\">           8</td><td style=\"text-align: right;\">            4</td><td style=\"text-align: right;\">            219</td><td>2019-12-04T00:00:00</td><td style=\"text-align: right;\">0.000261231</td><td style=\"text-align: right;\">         0.095 </td><td>60d          </td><td style=\"text-align: right;\">    40</td><td style=\"text-align: right;\">         7.75227</td><td style=\"text-align: right;\">               73</td><td style=\"text-align: right;\">        200</td><td style=\"text-align: right;\">0.0244373  </td></tr>\n",
       "<tr><td>TrainLightGCN_3eab2b96</td><td>TERMINATED</td><td>147.96.81.131:3469039</td><td style=\"text-align: right;\">          10</td><td style=\"text-align: right;\">            1</td><td style=\"text-align: right;\">              1</td><td>2019-12-04T00:00:00</td><td style=\"text-align: right;\">0.000699071</td><td style=\"text-align: right;\">         0.0029</td><td>21d          </td><td style=\"text-align: right;\">    40</td><td style=\"text-align: right;\">         7.00588</td><td style=\"text-align: right;\">               40</td><td style=\"text-align: right;\">        200</td><td style=\"text-align: right;\">0.332441   </td></tr>\n",
       "<tr><td>TrainLightGCN_b07aaf95</td><td>TERMINATED</td><td>147.96.81.131:3468890</td><td style=\"text-align: right;\">          10</td><td style=\"text-align: right;\">            3</td><td style=\"text-align: right;\">            332</td><td>2019-12-04T00:00:00</td><td style=\"text-align: right;\">0.00221159 </td><td style=\"text-align: right;\">         0.4863</td><td>10YE         </td><td style=\"text-align: right;\">    40</td><td style=\"text-align: right;\">        10.1479 </td><td style=\"text-align: right;\">              122</td><td style=\"text-align: right;\">        200</td><td style=\"text-align: right;\">1.06755    </td></tr>\n",
       "<tr><td>TrainLightGCN_f0f9c793</td><td>TERMINATED</td><td>147.96.81.131:3468740</td><td style=\"text-align: right;\">           7</td><td style=\"text-align: right;\">            2</td><td style=\"text-align: right;\">             74</td><td>2019-12-04T00:00:00</td><td style=\"text-align: right;\">8.63799e-07</td><td style=\"text-align: right;\">         0.1736</td><td>10YE         </td><td style=\"text-align: right;\">    40</td><td style=\"text-align: right;\">         9.67723</td><td style=\"text-align: right;\">              122</td><td style=\"text-align: right;\">        200</td><td style=\"text-align: right;\">0.00547719 </td></tr>\n",
       "<tr><td>TrainLightGCN_755dd2e3</td><td>TERMINATED</td><td>147.96.81.131:3468592</td><td style=\"text-align: right;\">           6</td><td style=\"text-align: right;\">            2</td><td style=\"text-align: right;\">            217</td><td>2019-12-04T00:00:00</td><td style=\"text-align: right;\">2.53991e-06</td><td style=\"text-align: right;\">         0.4785</td><td>21d          </td><td style=\"text-align: right;\">    40</td><td style=\"text-align: right;\">         6.89406</td><td style=\"text-align: right;\">               40</td><td style=\"text-align: right;\">        200</td><td style=\"text-align: right;\">0.0805838  </td></tr>\n",
       "<tr><td>TrainLightGCN_4c735303</td><td>TERMINATED</td><td>147.96.81.131:3468443</td><td style=\"text-align: right;\">           7</td><td style=\"text-align: right;\">            2</td><td style=\"text-align: right;\">             34</td><td>2019-12-04T00:00:00</td><td style=\"text-align: right;\">0.0007608  </td><td style=\"text-align: right;\">         0.0091</td><td>60d          </td><td style=\"text-align: right;\">    40</td><td style=\"text-align: right;\">         7.60406</td><td style=\"text-align: right;\">               73</td><td style=\"text-align: right;\">        200</td><td style=\"text-align: right;\">0.0261146  </td></tr>\n",
       "<tr><td>TrainLightGCN_faa5ec44</td><td>TERMINATED</td><td>147.96.81.131:3468294</td><td style=\"text-align: right;\">           9</td><td style=\"text-align: right;\">            2</td><td style=\"text-align: right;\">             86</td><td>2019-12-04T00:00:00</td><td style=\"text-align: right;\">0.00134325 </td><td style=\"text-align: right;\">         0.0006</td><td>21d          </td><td style=\"text-align: right;\">    40</td><td style=\"text-align: right;\">         6.97808</td><td style=\"text-align: right;\">               40</td><td style=\"text-align: right;\">        200</td><td style=\"text-align: right;\">0.0856044  </td></tr>\n",
       "<tr><td>TrainLightGCN_d7ee5ef0</td><td>TERMINATED</td><td>147.96.81.131:3468153</td><td style=\"text-align: right;\">           8</td><td style=\"text-align: right;\">            4</td><td style=\"text-align: right;\">             32</td><td>2019-12-04T00:00:00</td><td style=\"text-align: right;\">1.24202e-06</td><td style=\"text-align: right;\">         0.015 </td><td>10YE         </td><td style=\"text-align: right;\">    40</td><td style=\"text-align: right;\">         9.80899</td><td style=\"text-align: right;\">              122</td><td style=\"text-align: right;\">        200</td><td style=\"text-align: right;\">0.000653458</td></tr>\n",
       "<tr><td>TrainLightGCN_69753fa5</td><td>TERMINATED</td><td>147.96.81.131:3468012</td><td style=\"text-align: right;\">           9</td><td style=\"text-align: right;\">            3</td><td style=\"text-align: right;\">            665</td><td>2019-12-04T00:00:00</td><td style=\"text-align: right;\">2.74456e-05</td><td style=\"text-align: right;\">         0.0092</td><td>90d          </td><td style=\"text-align: right;\">    40</td><td style=\"text-align: right;\">         8.02917</td><td style=\"text-align: right;\">               83</td><td style=\"text-align: right;\">        200</td><td style=\"text-align: right;\">0.00231983 </td></tr>\n",
       "<tr><td>TrainLightGCN_c8fdc29e</td><td>TERMINATED</td><td>147.96.81.131:3467893</td><td style=\"text-align: right;\">           6</td><td style=\"text-align: right;\">            2</td><td style=\"text-align: right;\">            217</td><td>2019-12-04T00:00:00</td><td style=\"text-align: right;\">2.53991e-06</td><td style=\"text-align: right;\">         0.4785</td><td>21d          </td><td style=\"text-align: right;\">    40</td><td style=\"text-align: right;\">         6.71937</td><td style=\"text-align: right;\">               40</td><td style=\"text-align: right;\">        200</td><td style=\"text-align: right;\">0.101108   </td></tr>\n",
       "</tbody>\n",
       "</table>\n",
       "  </div>\n",
       "</div>\n",
       "<style>\n",
       ".tuneStatus {\n",
       "  color: var(--jp-ui-font-color1);\n",
       "}\n",
       ".tuneStatus .systemInfo {\n",
       "  display: flex;\n",
       "  flex-direction: column;\n",
       "}\n",
       ".tuneStatus td {\n",
       "  white-space: nowrap;\n",
       "}\n",
       ".tuneStatus .trialStatus {\n",
       "  display: flex;\n",
       "  flex-direction: column;\n",
       "}\n",
       ".tuneStatus h3 {\n",
       "  font-weight: bold;\n",
       "}\n",
       ".tuneStatus .hDivider {\n",
       "  border-bottom-width: var(--jp-border-width);\n",
       "  border-bottom-color: var(--jp-border-color0);\n",
       "  border-bottom-style: solid;\n",
       "}\n",
       ".tuneStatus .vDivider {\n",
       "  border-left-width: var(--jp-border-width);\n",
       "  border-left-color: var(--jp-border-color0);\n",
       "  border-left-style: solid;\n",
       "  margin: 0.5em 1em 0.5em 1em;\n",
       "}\n",
       "</style>\n"
      ],
      "text/plain": [
       "<IPython.core.display.HTML object>"
      ]
     },
     "metadata": {},
     "output_type": "display_data"
    },
    {
     "name": "stderr",
     "output_type": "stream",
     "text": [
      "2024-09-05 09:06:18,960\tINFO tune_controller.py:444 -- Restoring the run from the latest experiment state file: experiment_state-2024-09-05_09-06-17.json\n"
     ]
    },
    {
     "name": "stderr",
     "output_type": "stream",
     "text": [
      "2024-09-05 09:06:19,490\tINFO tune.py:1009 -- Wrote the latest version of all result files and experiment state to '/home/daviddavo/ray_results3.11/Genesis Alpha/LightGCN_7d_normalize_map@10_fold=2019-12-04T00:00:00_2024-09-03T16:13:26.995343' in 0.3710s.\n"
     ]
    },
    {
     "name": "stderr",
     "output_type": "stream",
     "text": [
      "2024-09-05 09:06:19,502\tINFO tune.py:1041 -- Total run time: 0.55 seconds (0.00 seconds for the tuning loop).\n"
     ]
    },
    {
     "name": "stdout",
     "output_type": "stream",
     "text": [
      "Finished training for fold 2019-12-04T00:00:00\n"
     ]
    }
   ],
   "source": [
    "import logging\n",
    "import requests\n",
    "\n",
    "def findConfig(rg):\n",
    "    for r in rg:\n",
    "        if r.config:\n",
    "            lbrc = last_best_result.config\n",
    "            if all((r.config[k] == v for k, v in last_best_result.config.items() if k != 'fold')):\n",
    "                return r\n",
    "            elif all((r.config[k] == v for k, v in last_best_result.config.items() if k != 'fold' and k != 'window_size')):\n",
    "                print(\"Possible coincidence:\", r.config, file=sys.stderr)\n",
    "\n",
    "    return None\n",
    "\n",
    "tuners = []\n",
    "results = []\n",
    "last_best_result = None\n",
    "pbar.reset()\n",
    "\n",
    "last_best_fold = None\n",
    "requests.post(\"https://ntfy.sh/grasia_notebooks\", data=f\"Start running microsoft_tuning for {ORG_NAME}\")\n",
    "for i, (prev_f_idx, f_idx) in enumerate(zip(it.chain([None], use_folds_idx), use_folds_idx)):\n",
    "    try:\n",
    "        with out:\n",
    "            best_prev_config = None\n",
    "            if last_best_result is not None:\n",
    "                best_prev_config = last_best_result.config.copy()\n",
    "                assert best_prev_config['fold'] == prev_f_idx\n",
    "                best_prev_config['fold'] = f_idx\n",
    "                print(f\"Also evaluating best_prev_config ({OPTIM_METRIC}={last_best_result.metrics[OPTIM_METRIC]}): {best_prev_config}\")\n",
    "                best_prev_config = [best_prev_config]\n",
    "        \n",
    "        t = getTunerOnFold(f_idx, best_prev_config)\n",
    "        tuners.append(t)\n",
    "    \n",
    "        rg = t.fit()\n",
    "        \n",
    "        # FIXME: load results from disk until ray-project/ray#47358 is solved\n",
    "        # https://github.com/ray-project/ray/issues/47358\n",
    "        t = getTunerOnFold(f_idx, best_prev_config)\n",
    "        tuners[-1] = t\n",
    "        rg = t.fit()\n",
    "    \n",
    "        assert rg.num_errors == 0, f\"There are {rg.num_errors} errors\"\n",
    "        assert rg.num_terminated >= NUM_SAMPLES, f'Some samples are not terminated ({rg.num_terminated} != {NUM_SAMPLES})'\n",
    "        assert len(rg.get_dataframe()) >= NUM_SAMPLES\n",
    "        results.append(rg)\n",
    "    \n",
    "        # Assert that the prev config has been tried\n",
    "        if last_best_result is not None:\n",
    "            # if not any( \n",
    "            #     all((r.config[k] == v for k, v in last_best_result.config.items() if k != 'fold'))\n",
    "            #     for r in rg if r.config\n",
    "            # ):\n",
    "            if not findConfig(rg):\n",
    "                print(\"Best config:\", last_best_result.config)\n",
    "                assert False, f\"The best config from previous fold has not been tested in fold {f_idx}\"    \n",
    "            else:\n",
    "                logging.info(f'Fold {f_idx}. Best prev result was {last_best_result.path} and config has been found {findConfig(rg).path}')\n",
    "        \n",
    "        last_best_result = rg.get_best_result()\n",
    "        pbar.update()\n",
    "    \n",
    "        print(f\"Finished training for fold {f_idx}\")\n",
    "        requests.post(\"https://ntfy.sh/grasia_notebooks\", data=f\"Finished running fold {i} for {ORG_NAME}\")\n",
    "    except Exception as e:\n",
    "        requests.post(\"https://ntfy.sh/grasia_notebooks\", data=f\"Error on fold {i} for {ORG_NAME}: {repr(e)}\")\n",
    "        raise\n",
    "\n",
    "pbar.close()"
   ]
  },
  {
   "cell_type": "code",
   "execution_count": 23,
   "id": "104eca93",
   "metadata": {
    "editable": true,
    "execution": {
     "iopub.execute_input": "2024-09-05T09:06:20.029125Z",
     "iopub.status.busy": "2024-09-05T09:06:20.028921Z",
     "iopub.status.idle": "2024-09-05T09:06:20.379340Z",
     "shell.execute_reply": "2024-09-05T09:06:20.377361Z"
    },
    "papermill": {
     "duration": 0.35907,
     "end_time": "2024-09-05T09:06:20.382642",
     "exception": false,
     "start_time": "2024-09-05T09:06:20.023572",
     "status": "completed"
    },
    "slideshow": {
     "slide_type": ""
    },
    "tags": []
   },
   "outputs": [
    {
     "name": "stdout",
     "output_type": "stream",
     "text": [
      "Finished!\n"
     ]
    }
   ],
   "source": [
    "requests.post(\"https://ntfy.sh/grasia_notebooks\", data=f\"Finished running everything for {ORG_NAME}\")\n",
    "print(\"Finished!\")"
   ]
  }
 ],
 "metadata": {
  "kernelspec": {
   "display_name": "Python 3 (ipykernel)",
   "language": "python",
   "name": "python3"
  },
  "language_info": {
   "codemirror_mode": {
    "name": "ipython",
    "version": 3
   },
   "file_extension": ".py",
   "mimetype": "text/x-python",
   "name": "python",
   "nbconvert_exporter": "python",
   "pygments_lexer": "ipython3",
   "version": "3.11.6"
  },
  "papermill": {
   "default_parameters": {},
   "duration": 37.395788,
   "end_time": "2024-09-05T09:06:25.522507",
   "environment_variables": {},
   "exception": null,
   "input_path": "20_microsoft_tuning.ipynb",
   "output_path": "../nbout/Genesis Alpha/20_microsoft_tuning.ipynb",
   "parameters": {
    "EXECUTION_ID": "2024-09-04T10:00",
    "LAST_FOLDS": 10,
    "LAST_FOLD_DATE_STR": "2019-12-04",
    "ORG_NAME": "Genesis Alpha",
    "SPLITS_FREQ": "7d",
    "SPLITS_NORMALIZE": true
   },
   "start_time": "2024-09-05T09:05:48.126719",
   "version": "2.6.0"
  },
  "widgets": {
   "application/vnd.jupyter.widget-state+json": {
    "state": {
     "0f22816e3f2e45a49f638ef4119da9d9": {
      "model_module": "@jupyter-widgets/controls",
      "model_module_version": "2.0.0",
      "model_name": "ProgressStyleModel",
      "state": {
       "_model_module": "@jupyter-widgets/controls",
       "_model_module_version": "2.0.0",
       "_model_name": "ProgressStyleModel",
       "_view_count": null,
       "_view_module": "@jupyter-widgets/base",
       "_view_module_version": "2.0.0",
       "_view_name": "StyleView",
       "bar_color": null,
       "description_width": ""
      }
     },
     "1eaae4e2da504ba789aa5af53c0848ea": {
      "model_module": "@jupyter-widgets/controls",
      "model_module_version": "2.0.0",
      "model_name": "HTMLStyleModel",
      "state": {
       "_model_module": "@jupyter-widgets/controls",
       "_model_module_version": "2.0.0",
       "_model_name": "HTMLStyleModel",
       "_view_count": null,
       "_view_module": "@jupyter-widgets/base",
       "_view_module_version": "2.0.0",
       "_view_name": "StyleView",
       "background": null,
       "description_width": "",
       "font_size": null,
       "text_color": null
      }
     },
     "2486448ecd5e4f8fb1d0f07c7c465824": {
      "model_module": "@jupyter-widgets/controls",
      "model_module_version": "2.0.0",
      "model_name": "HTMLStyleModel",
      "state": {
       "_model_module": "@jupyter-widgets/controls",
       "_model_module_version": "2.0.0",
       "_model_name": "HTMLStyleModel",
       "_view_count": null,
       "_view_module": "@jupyter-widgets/base",
       "_view_module_version": "2.0.0",
       "_view_name": "StyleView",
       "background": null,
       "description_width": "",
       "font_size": null,
       "text_color": null
      }
     },
     "25ca54cfe26344f5b4e23ba12bf68b14": {
      "model_module": "@jupyter-widgets/base",
      "model_module_version": "2.0.0",
      "model_name": "LayoutModel",
      "state": {
       "_model_module": "@jupyter-widgets/base",
       "_model_module_version": "2.0.0",
       "_model_name": "LayoutModel",
       "_view_count": null,
       "_view_module": "@jupyter-widgets/base",
       "_view_module_version": "2.0.0",
       "_view_name": "LayoutView",
       "align_content": null,
       "align_items": null,
       "align_self": null,
       "border_bottom": "1px solid black",
       "border_left": "1px solid black",
       "border_right": "1px solid black",
       "border_top": "1px solid black",
       "bottom": null,
       "display": null,
       "flex": null,
       "flex_flow": null,
       "grid_area": null,
       "grid_auto_columns": null,
       "grid_auto_flow": null,
       "grid_auto_rows": null,
       "grid_column": null,
       "grid_gap": null,
       "grid_row": null,
       "grid_template_areas": null,
       "grid_template_columns": null,
       "grid_template_rows": null,
       "height": null,
       "justify_content": null,
       "justify_items": null,
       "left": null,
       "margin": null,
       "max_height": null,
       "max_width": null,
       "min_height": null,
       "min_width": null,
       "object_fit": null,
       "object_position": null,
       "order": null,
       "overflow": null,
       "padding": null,
       "right": null,
       "top": null,
       "visibility": null,
       "width": null
      }
     },
     "26887a90c31042cc8531c8f45086e94e": {
      "model_module": "@jupyter-widgets/controls",
      "model_module_version": "2.0.0",
      "model_name": "HTMLModel",
      "state": {
       "_dom_classes": [],
       "_model_module": "@jupyter-widgets/controls",
       "_model_module_version": "2.0.0",
       "_model_name": "HTMLModel",
       "_view_count": null,
       "_view_module": "@jupyter-widgets/controls",
       "_view_module_version": "2.0.0",
       "_view_name": "HTMLView",
       "description": "",
       "description_allow_html": false,
       "layout": "IPY_MODEL_aa9b135b1ed8479ca96f0d5dd9f1a598",
       "placeholder": "​",
       "style": "IPY_MODEL_2486448ecd5e4f8fb1d0f07c7c465824",
       "tabbable": null,
       "tooltip": null,
       "value": " 10/10 [00:27&lt;00:00,  2.51s/it]"
      }
     },
     "92e6d18f9635451391bfc5f37cb8df3b": {
      "model_module": "@jupyter-widgets/base",
      "model_module_version": "2.0.0",
      "model_name": "LayoutModel",
      "state": {
       "_model_module": "@jupyter-widgets/base",
       "_model_module_version": "2.0.0",
       "_model_name": "LayoutModel",
       "_view_count": null,
       "_view_module": "@jupyter-widgets/base",
       "_view_module_version": "2.0.0",
       "_view_name": "LayoutView",
       "align_content": null,
       "align_items": null,
       "align_self": null,
       "border_bottom": null,
       "border_left": null,
       "border_right": null,
       "border_top": null,
       "bottom": null,
       "display": null,
       "flex": null,
       "flex_flow": null,
       "grid_area": null,
       "grid_auto_columns": null,
       "grid_auto_flow": null,
       "grid_auto_rows": null,
       "grid_column": null,
       "grid_gap": null,
       "grid_row": null,
       "grid_template_areas": null,
       "grid_template_columns": null,
       "grid_template_rows": null,
       "height": null,
       "justify_content": null,
       "justify_items": null,
       "left": null,
       "margin": null,
       "max_height": null,
       "max_width": null,
       "min_height": null,
       "min_width": null,
       "object_fit": null,
       "object_position": null,
       "order": null,
       "overflow": null,
       "padding": null,
       "right": null,
       "top": null,
       "visibility": null,
       "width": null
      }
     },
     "9775de8c82bb4ffb82691ca9289680b8": {
      "model_module": "@jupyter-widgets/controls",
      "model_module_version": "2.0.0",
      "model_name": "HBoxModel",
      "state": {
       "_dom_classes": [],
       "_model_module": "@jupyter-widgets/controls",
       "_model_module_version": "2.0.0",
       "_model_name": "HBoxModel",
       "_view_count": null,
       "_view_module": "@jupyter-widgets/controls",
       "_view_module_version": "2.0.0",
       "_view_name": "HBoxView",
       "box_style": "",
       "children": [
        "IPY_MODEL_a7aaa555c17d4de1a5ba7aa864270c83",
        "IPY_MODEL_b3f6ba6596034aa1bd0139d1119f4095",
        "IPY_MODEL_26887a90c31042cc8531c8f45086e94e"
       ],
       "layout": "IPY_MODEL_9bd7ed09de1d49d9a13ca76f5958486d",
       "tabbable": null,
       "tooltip": null
      }
     },
     "9bd7ed09de1d49d9a13ca76f5958486d": {
      "model_module": "@jupyter-widgets/base",
      "model_module_version": "2.0.0",
      "model_name": "LayoutModel",
      "state": {
       "_model_module": "@jupyter-widgets/base",
       "_model_module_version": "2.0.0",
       "_model_name": "LayoutModel",
       "_view_count": null,
       "_view_module": "@jupyter-widgets/base",
       "_view_module_version": "2.0.0",
       "_view_name": "LayoutView",
       "align_content": null,
       "align_items": null,
       "align_self": null,
       "border_bottom": null,
       "border_left": null,
       "border_right": null,
       "border_top": null,
       "bottom": null,
       "display": null,
       "flex": null,
       "flex_flow": null,
       "grid_area": null,
       "grid_auto_columns": null,
       "grid_auto_flow": null,
       "grid_auto_rows": null,
       "grid_column": null,
       "grid_gap": null,
       "grid_row": null,
       "grid_template_areas": null,
       "grid_template_columns": null,
       "grid_template_rows": null,
       "height": null,
       "justify_content": null,
       "justify_items": null,
       "left": null,
       "margin": null,
       "max_height": null,
       "max_width": null,
       "min_height": null,
       "min_width": null,
       "object_fit": null,
       "object_position": null,
       "order": null,
       "overflow": null,
       "padding": null,
       "right": null,
       "top": null,
       "visibility": null,
       "width": null
      }
     },
     "9e7c1deedf0a4a39a68bc730dafe6fba": {
      "model_module": "@jupyter-widgets/output",
      "model_module_version": "1.0.0",
      "model_name": "OutputModel",
      "state": {
       "_dom_classes": [],
       "_model_module": "@jupyter-widgets/output",
       "_model_module_version": "1.0.0",
       "_model_name": "OutputModel",
       "_view_count": null,
       "_view_module": "@jupyter-widgets/output",
       "_view_module_version": "1.0.0",
       "_view_name": "OutputView",
       "layout": "IPY_MODEL_25ca54cfe26344f5b4e23ba12bf68b14",
       "msg_id": "",
       "outputs": [
        {
         "name": "stdout",
         "output_type": "stream",
         "text": "In this cell important output from the next cell will be shown\nAlso evaluating best_prev_config (map@10=0.39544598765432093): {'batch_size': 9, 'embedding_dim': 227, 'conv_layers': 1, 'learning_rate': 0.0001, 'l2': 4.2373657945475265e-07, 'window_size': '90d', 'fold': '2019-10-09T00:00:00'}\nAlso evaluating best_prev_config (map@10=0.7553571428571427): {'batch_size': 10, 'embedding_dim': 1, 'conv_layers': 3, 'learning_rate': 0.004200000000000001, 'l2': 0.003909811182391166, 'window_size': '21d', 'fold': '2019-10-16T00:00:00'}\nAlso evaluating best_prev_config (map@10=0.7785714285714286): {'batch_size': 10, 'embedding_dim': 14, 'conv_layers': 3, 'learning_rate': 0.0002, 'l2': 1.6976478757694798e-07, 'window_size': '90d', 'fold': '2019-10-23T00:00:00'}\nAlso evaluating best_prev_config (map@10=0.6417328042328042): {'batch_size': 7, 'embedding_dim': 6, 'conv_layers': 3, 'learning_rate': 0.0001, 'l2': 5.501361577362616e-07, 'window_size': '90d', 'fold': '2019-10-30T00:00:00'}\nAlso evaluating best_prev_config (map@10=0.5966335978835979): {'batch_size': 10, 'embedding_dim': 253, 'conv_layers': 4, 'learning_rate': 0.0001, 'l2': 7.219341216911661e-07, 'window_size': '10YE', 'fold': '2019-11-06T00:00:00'}\nAlso evaluating best_prev_config (map@10=0.2933746031746031): {'batch_size': 9, 'embedding_dim': 341, 'conv_layers': 1, 'learning_rate': 0.22920000000000001, 'l2': 0.0005027971583482147, 'window_size': '21d', 'fold': '2019-11-13T00:00:00'}\nAlso evaluating best_prev_config (map@10=0.4005570818070818): {'batch_size': 7, 'embedding_dim': 6, 'conv_layers': 4, 'learning_rate': 0.0011, 'l2': 0.00020738661193291406, 'window_size': '10YE', 'fold': '2019-11-20T00:00:00'}\nAlso evaluating best_prev_config (map@10=0.39647525676937434): {'batch_size': 6, 'embedding_dim': 43, 'conv_layers': 3, 'learning_rate': 0.0002, 'l2': 4.962494309446608e-06, 'window_size': '21d', 'fold': '2019-11-27T00:00:00'}\nAlso evaluating best_prev_config (map@10=0.49368386243386236): {'batch_size': 6, 'embedding_dim': 217, 'conv_layers': 2, 'learning_rate': 0.47850000000000004, 'l2': 2.539908649333967e-06, 'window_size': '21d', 'fold': '2019-12-04T00:00:00'}\n"
        }
       ],
       "tabbable": null,
       "tooltip": null
      }
     },
     "a7aaa555c17d4de1a5ba7aa864270c83": {
      "model_module": "@jupyter-widgets/controls",
      "model_module_version": "2.0.0",
      "model_name": "HTMLModel",
      "state": {
       "_dom_classes": [],
       "_model_module": "@jupyter-widgets/controls",
       "_model_module_version": "2.0.0",
       "_model_name": "HTMLModel",
       "_view_count": null,
       "_view_module": "@jupyter-widgets/controls",
       "_view_module_version": "2.0.0",
       "_view_name": "HTMLView",
       "description": "",
       "description_allow_html": false,
       "layout": "IPY_MODEL_92e6d18f9635451391bfc5f37cb8df3b",
       "placeholder": "​",
       "style": "IPY_MODEL_1eaae4e2da504ba789aa5af53c0848ea",
       "tabbable": null,
       "tooltip": null,
       "value": "fold: 100%"
      }
     },
     "aa9b135b1ed8479ca96f0d5dd9f1a598": {
      "model_module": "@jupyter-widgets/base",
      "model_module_version": "2.0.0",
      "model_name": "LayoutModel",
      "state": {
       "_model_module": "@jupyter-widgets/base",
       "_model_module_version": "2.0.0",
       "_model_name": "LayoutModel",
       "_view_count": null,
       "_view_module": "@jupyter-widgets/base",
       "_view_module_version": "2.0.0",
       "_view_name": "LayoutView",
       "align_content": null,
       "align_items": null,
       "align_self": null,
       "border_bottom": null,
       "border_left": null,
       "border_right": null,
       "border_top": null,
       "bottom": null,
       "display": null,
       "flex": null,
       "flex_flow": null,
       "grid_area": null,
       "grid_auto_columns": null,
       "grid_auto_flow": null,
       "grid_auto_rows": null,
       "grid_column": null,
       "grid_gap": null,
       "grid_row": null,
       "grid_template_areas": null,
       "grid_template_columns": null,
       "grid_template_rows": null,
       "height": null,
       "justify_content": null,
       "justify_items": null,
       "left": null,
       "margin": null,
       "max_height": null,
       "max_width": null,
       "min_height": null,
       "min_width": null,
       "object_fit": null,
       "object_position": null,
       "order": null,
       "overflow": null,
       "padding": null,
       "right": null,
       "top": null,
       "visibility": null,
       "width": null
      }
     },
     "b3f6ba6596034aa1bd0139d1119f4095": {
      "model_module": "@jupyter-widgets/controls",
      "model_module_version": "2.0.0",
      "model_name": "FloatProgressModel",
      "state": {
       "_dom_classes": [],
       "_model_module": "@jupyter-widgets/controls",
       "_model_module_version": "2.0.0",
       "_model_name": "FloatProgressModel",
       "_view_count": null,
       "_view_module": "@jupyter-widgets/controls",
       "_view_module_version": "2.0.0",
       "_view_name": "ProgressView",
       "bar_style": "success",
       "description": "",
       "description_allow_html": false,
       "layout": "IPY_MODEL_c9a276fc0e624a3fbf3f2be2af47eae8",
       "max": 10.0,
       "min": 0.0,
       "orientation": "horizontal",
       "style": "IPY_MODEL_0f22816e3f2e45a49f638ef4119da9d9",
       "tabbable": null,
       "tooltip": null,
       "value": 10.0
      }
     },
     "c9a276fc0e624a3fbf3f2be2af47eae8": {
      "model_module": "@jupyter-widgets/base",
      "model_module_version": "2.0.0",
      "model_name": "LayoutModel",
      "state": {
       "_model_module": "@jupyter-widgets/base",
       "_model_module_version": "2.0.0",
       "_model_name": "LayoutModel",
       "_view_count": null,
       "_view_module": "@jupyter-widgets/base",
       "_view_module_version": "2.0.0",
       "_view_name": "LayoutView",
       "align_content": null,
       "align_items": null,
       "align_self": null,
       "border_bottom": null,
       "border_left": null,
       "border_right": null,
       "border_top": null,
       "bottom": null,
       "display": null,
       "flex": null,
       "flex_flow": null,
       "grid_area": null,
       "grid_auto_columns": null,
       "grid_auto_flow": null,
       "grid_auto_rows": null,
       "grid_column": null,
       "grid_gap": null,
       "grid_row": null,
       "grid_template_areas": null,
       "grid_template_columns": null,
       "grid_template_rows": null,
       "height": null,
       "justify_content": null,
       "justify_items": null,
       "left": null,
       "margin": null,
       "max_height": null,
       "max_width": null,
       "min_height": null,
       "min_width": null,
       "object_fit": null,
       "object_position": null,
       "order": null,
       "overflow": null,
       "padding": null,
       "right": null,
       "top": null,
       "visibility": null,
       "width": null
      }
     }
    },
    "version_major": 2,
    "version_minor": 0
   }
  }
 },
 "nbformat": 4,
 "nbformat_minor": 5
}