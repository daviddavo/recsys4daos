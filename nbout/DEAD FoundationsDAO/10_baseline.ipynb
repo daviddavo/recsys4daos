{
 "cells": [
  {
   "cell_type": "code",
   "execution_count": 1,
   "id": "bf0e7d59",
   "metadata": {
    "execution": {
     "iopub.execute_input": "2024-09-05T08:58:57.329900Z",
     "iopub.status.busy": "2024-09-05T08:58:57.329322Z",
     "iopub.status.idle": "2024-09-05T08:59:00.027867Z",
     "shell.execute_reply": "2024-09-05T08:59:00.027368Z"
    },
    "papermill": {
     "duration": 2.710065,
     "end_time": "2024-09-05T08:59:00.028625",
     "exception": false,
     "start_time": "2024-09-05T08:58:57.318560",
     "status": "completed"
    },
    "tags": []
   },
   "outputs": [
    {
     "name": "stderr",
     "output_type": "stream",
     "text": [
      "/tmp/ipykernel_3808473/2526015065.py:7: TqdmExperimentalWarning: Using `tqdm.autonotebook.tqdm` in notebook mode. Use `tqdm.tqdm` instead to force console mode (e.g. in jupyter console)\n",
      "  from tqdm.autonotebook import tqdm\n"
     ]
    },
    {
     "name": "stdout",
     "output_type": "stream",
     "text": [
      "Ignoring warnings\n"
     ]
    }
   ],
   "source": [
    "from typing import List\n",
    "import sys\n",
    "from collections import defaultdict\n",
    "\n",
    "import pandas as pd\n",
    "import numpy as np\n",
    "from tqdm.autonotebook import tqdm\n",
    "\n",
    "from recsys4daos.models import OpenPop\n",
    "from recsys4daos.datasets import to_microsoft\n",
    "from recsys4daos.model_selection import cvtt_open\n",
    "from recsys4daos.evaluation import calculate_all_metrics\n",
    "\n",
    "import paths\n",
    "\n",
    "import recommenders\n",
    "if recommenders.__version__ == '1.2.0':\n",
    "    print(\"Ignoring warnings\")\n",
    "    import warnings\n",
    "    warnings.simplefilter(action='ignore', category=FutureWarning)"
   ]
  },
  {
   "cell_type": "code",
   "execution_count": 2,
   "id": "159a3a9c",
   "metadata": {
    "editable": true,
    "execution": {
     "iopub.execute_input": "2024-09-05T08:59:00.033741Z",
     "iopub.status.busy": "2024-09-05T08:59:00.033520Z",
     "iopub.status.idle": "2024-09-05T08:59:00.036198Z",
     "shell.execute_reply": "2024-09-05T08:59:00.035804Z"
    },
    "papermill": {
     "duration": 0.005643,
     "end_time": "2024-09-05T08:59:00.036717",
     "exception": false,
     "start_time": "2024-09-05T08:59:00.031074",
     "status": "completed"
    },
    "slideshow": {
     "slide_type": ""
    },
    "tags": [
     "parameters"
    ]
   },
   "outputs": [],
   "source": [
    "SPLITS_FREQ = \"W-THU\"\n",
    "SPLITS_NORMALIZE = True\n",
    "ORG_NAME = 'Decentraland'\n",
    "LAST_FOLD_DATE_STR: str = None # Won't use it, we will just calculate for every fold\n",
    "\n",
    "# In this notebook this is just used for plotting and description, not \"training\"\n",
    "# every fold is saved into the results table\n",
    "LAST_FOLDS = 10\n",
    "\n",
    "K_RECOMMENDATIONS: List[int] = [1,3,5,10,15,100]"
   ]
  },
  {
   "cell_type": "code",
   "execution_count": 3,
   "id": "a81d9189",
   "metadata": {
    "execution": {
     "iopub.execute_input": "2024-09-05T08:59:00.040495Z",
     "iopub.status.busy": "2024-09-05T08:59:00.040337Z",
     "iopub.status.idle": "2024-09-05T08:59:00.042284Z",
     "shell.execute_reply": "2024-09-05T08:59:00.041978Z"
    },
    "papermill": {
     "duration": 0.004388,
     "end_time": "2024-09-05T08:59:00.042773",
     "exception": false,
     "start_time": "2024-09-05T08:59:00.038385",
     "status": "completed"
    },
    "tags": [
     "injected-parameters"
    ]
   },
   "outputs": [],
   "source": [
    "# Parameters\n",
    "EXECUTION_ID = \"2024-09-04T10:00\"\n",
    "MAX_BATCH_SIZE = 9\n",
    "GPUS = 32\n",
    "ORG_NAME = \"DEAD FoundationsDAO\"\n",
    "SPLITS_FREQ = \"2d\"\n",
    "LAST_FOLDS = 20\n",
    "SPLITS_NORMALIZE = True\n",
    "LAST_FOLD_DATE_STR = \"2021-11-28\"\n"
   ]
  },
  {
   "cell_type": "markdown",
   "id": "3b4fc38e",
   "metadata": {
    "papermill": {
     "duration": 0.001607,
     "end_time": "2024-09-05T08:59:00.046026",
     "exception": false,
     "start_time": "2024-09-05T08:59:00.044419",
     "status": "completed"
    },
    "tags": []
   },
   "source": [
    "## Obtain dataset"
   ]
  },
  {
   "cell_type": "code",
   "execution_count": 4,
   "id": "a9fe9671",
   "metadata": {
    "execution": {
     "iopub.execute_input": "2024-09-05T08:59:00.049711Z",
     "iopub.status.busy": "2024-09-05T08:59:00.049616Z",
     "iopub.status.idle": "2024-09-05T08:59:00.174705Z",
     "shell.execute_reply": "2024-09-05T08:59:00.172385Z"
    },
    "papermill": {
     "duration": 0.132504,
     "end_time": "2024-09-05T08:59:00.180204",
     "exception": false,
     "start_time": "2024-09-05T08:59:00.047700",
     "status": "completed"
    },
    "tags": []
   },
   "outputs": [
    {
     "name": "stdout",
     "output_type": "stream",
     "text": [
      "/home/daviddavo/recsys4daos/notebooks\r\n"
     ]
    }
   ],
   "source": [
    "!pwd"
   ]
  },
  {
   "cell_type": "code",
   "execution_count": 5,
   "id": "61bfb48a",
   "metadata": {
    "execution": {
     "iopub.execute_input": "2024-09-05T08:59:00.193331Z",
     "iopub.status.busy": "2024-09-05T08:59:00.191710Z",
     "iopub.status.idle": "2024-09-05T08:59:00.333550Z",
     "shell.execute_reply": "2024-09-05T08:59:00.330898Z"
    },
    "papermill": {
     "duration": 0.152049,
     "end_time": "2024-09-05T08:59:00.339274",
     "exception": false,
     "start_time": "2024-09-05T08:59:00.187225",
     "status": "completed"
    },
    "tags": []
   },
   "outputs": [
    {
     "name": "stdout",
     "output_type": "stream",
     "text": [
      "md5sum: '../data/decentraland/*': No such file or directory\r\n"
     ]
    }
   ],
   "source": [
    "!md5sum ../data/decentraland/*"
   ]
  },
  {
   "cell_type": "code",
   "execution_count": 6,
   "id": "da1ae1b1",
   "metadata": {
    "execution": {
     "iopub.execute_input": "2024-09-05T08:59:00.358881Z",
     "iopub.status.busy": "2024-09-05T08:59:00.358575Z",
     "iopub.status.idle": "2024-09-05T08:59:00.464056Z",
     "shell.execute_reply": "2024-09-05T08:59:00.463588Z"
    },
    "papermill": {
     "duration": 0.115384,
     "end_time": "2024-09-05T08:59:00.464694",
     "exception": false,
     "start_time": "2024-09-05T08:59:00.349310",
     "status": "completed"
    },
    "tags": []
   },
   "outputs": [
    {
     "name": "stdout",
     "output_type": "stream",
     "text": [
      "<class 'pandas.core.frame.DataFrame'>\n",
      "RangeIndex: 29681 entries, 0 to 29680\n",
      "Data columns (total 6 columns):\n",
      " #   Column             Non-Null Count  Dtype         \n",
      "---  ------             --------------  -----         \n",
      " 0   id                 29681 non-null  object        \n",
      " 1   author             29681 non-null  object        \n",
      " 2   date               29681 non-null  datetime64[us]\n",
      " 3   start              29681 non-null  datetime64[us]\n",
      " 4   end                5799 non-null   datetime64[us]\n",
      " 5   platform_proposal  29681 non-null  object        \n",
      "dtypes: datetime64[us](3), object(3)\n",
      "memory usage: 1.4+ MB\n",
      "None\n",
      "<class 'pandas.core.frame.DataFrame'>\n",
      "RangeIndex: 17738 entries, 0 to 17737\n",
      "Data columns (total 4 columns):\n",
      " #   Column    Non-Null Count  Dtype         \n",
      "---  ------    --------------  -----         \n",
      " 0   id        17738 non-null  object        \n",
      " 1   proposal  17738 non-null  object        \n",
      " 2   voter     17738 non-null  object        \n",
      " 3   date      17738 non-null  datetime64[us]\n",
      "dtypes: datetime64[us](1), object(3)\n",
      "memory usage: 554.4+ KB\n",
      "None\n",
      "<class 'pandas.core.frame.DataFrame'>\n",
      "RangeIndex: 17738 entries, 0 to 17737\n",
      "Data columns (total 4 columns):\n",
      " #   Column     Non-Null Count  Dtype         \n",
      "---  ------     --------------  -----         \n",
      " 0   userID     17738 non-null  object        \n",
      " 1   itemID     17738 non-null  object        \n",
      " 2   timestamp  17738 non-null  datetime64[us]\n",
      " 3   rating     17738 non-null  int64         \n",
      "dtypes: datetime64[us](1), int64(1), object(2)\n",
      "memory usage: 554.4+ KB\n",
      "None\n"
     ]
    }
   ],
   "source": [
    "dfp = paths.load_proposals(ORG_NAME)\n",
    "dfv = paths.load_votes(ORG_NAME)\n",
    "\n",
    "df = to_microsoft(dfv)\n",
    "\n",
    "print(dfp.info())\n",
    "print(dfv.info())\n",
    "print(df.info())"
   ]
  },
  {
   "cell_type": "markdown",
   "id": "830111c9",
   "metadata": {
    "papermill": {
     "duration": 0.002078,
     "end_time": "2024-09-05T08:59:00.469216",
     "exception": false,
     "start_time": "2024-09-05T08:59:00.467138",
     "status": "completed"
    },
    "tags": []
   },
   "source": [
    "## Showing some info of the folds"
   ]
  },
  {
   "cell_type": "code",
   "execution_count": 7,
   "id": "82b53eea",
   "metadata": {
    "execution": {
     "iopub.execute_input": "2024-09-05T08:59:00.473467Z",
     "iopub.status.busy": "2024-09-05T08:59:00.473330Z",
     "iopub.status.idle": "2024-09-05T08:59:02.192052Z",
     "shell.execute_reply": "2024-09-05T08:59:02.191607Z"
    },
    "papermill": {
     "duration": 1.721827,
     "end_time": "2024-09-05T08:59:02.192839",
     "exception": false,
     "start_time": "2024-09-05T08:59:00.471012",
     "status": "completed"
    },
    "tags": []
   },
   "outputs": [
    {
     "name": "stdout",
     "output_type": "stream",
     "text": [
      "Saved dataframe into /home/daviddavo/recsys4daos/data/output/DEAD FoundationsDAO/baseline/folds-info_2d_normalize.parquet\n",
      "fold\n",
      "2022-06-16    17723\n",
      "2022-06-18    17723\n",
      "2022-06-20    17723\n",
      "2022-06-22    17723\n",
      "2022-06-24    17723\n",
      "2022-06-26    17723\n",
      "2022-06-28    17723\n",
      "2022-06-30    17737\n",
      "2022-07-02    17737\n",
      "2022-07-04    17737\n",
      "2022-07-06    17737\n",
      "2022-07-08    17737\n",
      "2022-07-10    17737\n",
      "2022-07-12    17737\n",
      "2022-07-14    17737\n",
      "2022-07-16    17737\n",
      "2022-07-18    17737\n",
      "2022-07-20    17737\n",
      "2022-07-22    17737\n",
      "2022-07-24    17737\n",
      "Name: votes in train, dtype: int64\n"
     ]
    },
    {
     "data": {
      "text/html": [
       "<style type=\"text/css\">\n",
       "</style>\n",
       "<table id=\"T_9ce32\">\n",
       "  <thead>\n",
       "    <tr>\n",
       "      <th class=\"blank level0\" >&nbsp;</th>\n",
       "      <th id=\"T_9ce32_level0_col0\" class=\"col_heading level0 col0\" >open proposals</th>\n",
       "      <th id=\"T_9ce32_level0_col1\" class=\"col_heading level0 col1\" >votes in open proposals (train)</th>\n",
       "      <th id=\"T_9ce32_level0_col2\" class=\"col_heading level0 col2\" >users in open proposals (train)</th>\n",
       "      <th id=\"T_9ce32_level0_col3\" class=\"col_heading level0 col3\" >vpp in open proposals (train)</th>\n",
       "      <th id=\"T_9ce32_level0_col4\" class=\"col_heading level0 col4\" >vpu in open proposals (train)</th>\n",
       "      <th id=\"T_9ce32_level0_col5\" class=\"col_heading level0 col5\" >votes in test</th>\n",
       "      <th id=\"T_9ce32_level0_col6\" class=\"col_heading level0 col6\" >users in test</th>\n",
       "      <th id=\"T_9ce32_level0_col7\" class=\"col_heading level0 col7\" >vpp test</th>\n",
       "      <th id=\"T_9ce32_level0_col8\" class=\"col_heading level0 col8\" >vpu test</th>\n",
       "    </tr>\n",
       "    <tr>\n",
       "      <th class=\"index_name level0\" >fold</th>\n",
       "      <th class=\"blank col0\" >&nbsp;</th>\n",
       "      <th class=\"blank col1\" >&nbsp;</th>\n",
       "      <th class=\"blank col2\" >&nbsp;</th>\n",
       "      <th class=\"blank col3\" >&nbsp;</th>\n",
       "      <th class=\"blank col4\" >&nbsp;</th>\n",
       "      <th class=\"blank col5\" >&nbsp;</th>\n",
       "      <th class=\"blank col6\" >&nbsp;</th>\n",
       "      <th class=\"blank col7\" >&nbsp;</th>\n",
       "      <th class=\"blank col8\" >&nbsp;</th>\n",
       "    </tr>\n",
       "  </thead>\n",
       "  <tbody>\n",
       "    <tr>\n",
       "      <th id=\"T_9ce32_level0_row0\" class=\"row_heading level0 row0\" >2022-W24</th>\n",
       "      <td id=\"T_9ce32_row0_col0\" class=\"data row0 col0\" >14</td>\n",
       "      <td id=\"T_9ce32_row0_col1\" class=\"data row0 col1\" >0</td>\n",
       "      <td id=\"T_9ce32_row0_col2\" class=\"data row0 col2\" >0</td>\n",
       "      <td id=\"T_9ce32_row0_col3\" class=\"data row0 col3\" >0.00</td>\n",
       "      <td id=\"T_9ce32_row0_col4\" class=\"data row0 col4\" >nan</td>\n",
       "      <td id=\"T_9ce32_row0_col5\" class=\"data row0 col5\" >14</td>\n",
       "      <td id=\"T_9ce32_row0_col6\" class=\"data row0 col6\" >1</td>\n",
       "      <td id=\"T_9ce32_row0_col7\" class=\"data row0 col7\" >1.00</td>\n",
       "      <td id=\"T_9ce32_row0_col8\" class=\"data row0 col8\" >14.00</td>\n",
       "    </tr>\n",
       "    <tr>\n",
       "      <th id=\"T_9ce32_level0_row1\" class=\"row_heading level0 row1\" >2022-W24</th>\n",
       "      <td id=\"T_9ce32_row1_col0\" class=\"data row1 col0\" >14</td>\n",
       "      <td id=\"T_9ce32_row1_col1\" class=\"data row1 col1\" >0</td>\n",
       "      <td id=\"T_9ce32_row1_col2\" class=\"data row1 col2\" >0</td>\n",
       "      <td id=\"T_9ce32_row1_col3\" class=\"data row1 col3\" >0.00</td>\n",
       "      <td id=\"T_9ce32_row1_col4\" class=\"data row1 col4\" >nan</td>\n",
       "      <td id=\"T_9ce32_row1_col5\" class=\"data row1 col5\" >14</td>\n",
       "      <td id=\"T_9ce32_row1_col6\" class=\"data row1 col6\" >1</td>\n",
       "      <td id=\"T_9ce32_row1_col7\" class=\"data row1 col7\" >1.00</td>\n",
       "      <td id=\"T_9ce32_row1_col8\" class=\"data row1 col8\" >14.00</td>\n",
       "    </tr>\n",
       "    <tr>\n",
       "      <th id=\"T_9ce32_level0_row2\" class=\"row_heading level0 row2\" >2022-W25</th>\n",
       "      <td id=\"T_9ce32_row2_col0\" class=\"data row2 col0\" >14</td>\n",
       "      <td id=\"T_9ce32_row2_col1\" class=\"data row2 col1\" >0</td>\n",
       "      <td id=\"T_9ce32_row2_col2\" class=\"data row2 col2\" >0</td>\n",
       "      <td id=\"T_9ce32_row2_col3\" class=\"data row2 col3\" >0.00</td>\n",
       "      <td id=\"T_9ce32_row2_col4\" class=\"data row2 col4\" >nan</td>\n",
       "      <td id=\"T_9ce32_row2_col5\" class=\"data row2 col5\" >14</td>\n",
       "      <td id=\"T_9ce32_row2_col6\" class=\"data row2 col6\" >1</td>\n",
       "      <td id=\"T_9ce32_row2_col7\" class=\"data row2 col7\" >1.00</td>\n",
       "      <td id=\"T_9ce32_row2_col8\" class=\"data row2 col8\" >14.00</td>\n",
       "    </tr>\n",
       "    <tr>\n",
       "      <th id=\"T_9ce32_level0_row3\" class=\"row_heading level0 row3\" >2022-W25</th>\n",
       "      <td id=\"T_9ce32_row3_col0\" class=\"data row3 col0\" >14</td>\n",
       "      <td id=\"T_9ce32_row3_col1\" class=\"data row3 col1\" >0</td>\n",
       "      <td id=\"T_9ce32_row3_col2\" class=\"data row3 col2\" >0</td>\n",
       "      <td id=\"T_9ce32_row3_col3\" class=\"data row3 col3\" >0.00</td>\n",
       "      <td id=\"T_9ce32_row3_col4\" class=\"data row3 col4\" >nan</td>\n",
       "      <td id=\"T_9ce32_row3_col5\" class=\"data row3 col5\" >14</td>\n",
       "      <td id=\"T_9ce32_row3_col6\" class=\"data row3 col6\" >1</td>\n",
       "      <td id=\"T_9ce32_row3_col7\" class=\"data row3 col7\" >1.00</td>\n",
       "      <td id=\"T_9ce32_row3_col8\" class=\"data row3 col8\" >14.00</td>\n",
       "    </tr>\n",
       "    <tr>\n",
       "      <th id=\"T_9ce32_level0_row4\" class=\"row_heading level0 row4\" >2022-W25</th>\n",
       "      <td id=\"T_9ce32_row4_col0\" class=\"data row4 col0\" >14</td>\n",
       "      <td id=\"T_9ce32_row4_col1\" class=\"data row4 col1\" >0</td>\n",
       "      <td id=\"T_9ce32_row4_col2\" class=\"data row4 col2\" >0</td>\n",
       "      <td id=\"T_9ce32_row4_col3\" class=\"data row4 col3\" >0.00</td>\n",
       "      <td id=\"T_9ce32_row4_col4\" class=\"data row4 col4\" >nan</td>\n",
       "      <td id=\"T_9ce32_row4_col5\" class=\"data row4 col5\" >14</td>\n",
       "      <td id=\"T_9ce32_row4_col6\" class=\"data row4 col6\" >1</td>\n",
       "      <td id=\"T_9ce32_row4_col7\" class=\"data row4 col7\" >1.00</td>\n",
       "      <td id=\"T_9ce32_row4_col8\" class=\"data row4 col8\" >14.00</td>\n",
       "    </tr>\n",
       "    <tr>\n",
       "      <th id=\"T_9ce32_level0_row5\" class=\"row_heading level0 row5\" >2022-W25</th>\n",
       "      <td id=\"T_9ce32_row5_col0\" class=\"data row5 col0\" >14</td>\n",
       "      <td id=\"T_9ce32_row5_col1\" class=\"data row5 col1\" >0</td>\n",
       "      <td id=\"T_9ce32_row5_col2\" class=\"data row5 col2\" >0</td>\n",
       "      <td id=\"T_9ce32_row5_col3\" class=\"data row5 col3\" >0.00</td>\n",
       "      <td id=\"T_9ce32_row5_col4\" class=\"data row5 col4\" >nan</td>\n",
       "      <td id=\"T_9ce32_row5_col5\" class=\"data row5 col5\" >14</td>\n",
       "      <td id=\"T_9ce32_row5_col6\" class=\"data row5 col6\" >1</td>\n",
       "      <td id=\"T_9ce32_row5_col7\" class=\"data row5 col7\" >1.00</td>\n",
       "      <td id=\"T_9ce32_row5_col8\" class=\"data row5 col8\" >14.00</td>\n",
       "    </tr>\n",
       "    <tr>\n",
       "      <th id=\"T_9ce32_level0_row6\" class=\"row_heading level0 row6\" >2022-W26</th>\n",
       "      <td id=\"T_9ce32_row6_col0\" class=\"data row6 col0\" >14</td>\n",
       "      <td id=\"T_9ce32_row6_col1\" class=\"data row6 col1\" >0</td>\n",
       "      <td id=\"T_9ce32_row6_col2\" class=\"data row6 col2\" >0</td>\n",
       "      <td id=\"T_9ce32_row6_col3\" class=\"data row6 col3\" >0.00</td>\n",
       "      <td id=\"T_9ce32_row6_col4\" class=\"data row6 col4\" >nan</td>\n",
       "      <td id=\"T_9ce32_row6_col5\" class=\"data row6 col5\" >14</td>\n",
       "      <td id=\"T_9ce32_row6_col6\" class=\"data row6 col6\" >1</td>\n",
       "      <td id=\"T_9ce32_row6_col7\" class=\"data row6 col7\" >1.00</td>\n",
       "      <td id=\"T_9ce32_row6_col8\" class=\"data row6 col8\" >14.00</td>\n",
       "    </tr>\n",
       "    <tr>\n",
       "      <th id=\"T_9ce32_level0_row7\" class=\"row_heading level0 row7\" >2022-W26</th>\n",
       "      <td id=\"T_9ce32_row7_col0\" class=\"data row7 col0\" >14</td>\n",
       "      <td id=\"T_9ce32_row7_col1\" class=\"data row7 col1\" >14</td>\n",
       "      <td id=\"T_9ce32_row7_col2\" class=\"data row7 col2\" >1</td>\n",
       "      <td id=\"T_9ce32_row7_col3\" class=\"data row7 col3\" >1.00</td>\n",
       "      <td id=\"T_9ce32_row7_col4\" class=\"data row7 col4\" >14.00</td>\n",
       "      <td id=\"T_9ce32_row7_col5\" class=\"data row7 col5\" >0</td>\n",
       "      <td id=\"T_9ce32_row7_col6\" class=\"data row7 col6\" >0</td>\n",
       "      <td id=\"T_9ce32_row7_col7\" class=\"data row7 col7\" >0.00</td>\n",
       "      <td id=\"T_9ce32_row7_col8\" class=\"data row7 col8\" >nan</td>\n",
       "    </tr>\n",
       "    <tr>\n",
       "      <th id=\"T_9ce32_level0_row8\" class=\"row_heading level0 row8\" >2022-W26</th>\n",
       "      <td id=\"T_9ce32_row8_col0\" class=\"data row8 col0\" >14</td>\n",
       "      <td id=\"T_9ce32_row8_col1\" class=\"data row8 col1\" >14</td>\n",
       "      <td id=\"T_9ce32_row8_col2\" class=\"data row8 col2\" >1</td>\n",
       "      <td id=\"T_9ce32_row8_col3\" class=\"data row8 col3\" >1.00</td>\n",
       "      <td id=\"T_9ce32_row8_col4\" class=\"data row8 col4\" >14.00</td>\n",
       "      <td id=\"T_9ce32_row8_col5\" class=\"data row8 col5\" >0</td>\n",
       "      <td id=\"T_9ce32_row8_col6\" class=\"data row8 col6\" >0</td>\n",
       "      <td id=\"T_9ce32_row8_col7\" class=\"data row8 col7\" >0.00</td>\n",
       "      <td id=\"T_9ce32_row8_col8\" class=\"data row8 col8\" >nan</td>\n",
       "    </tr>\n",
       "    <tr>\n",
       "      <th id=\"T_9ce32_level0_row9\" class=\"row_heading level0 row9\" >2022-W27</th>\n",
       "      <td id=\"T_9ce32_row9_col0\" class=\"data row9 col0\" >14</td>\n",
       "      <td id=\"T_9ce32_row9_col1\" class=\"data row9 col1\" >14</td>\n",
       "      <td id=\"T_9ce32_row9_col2\" class=\"data row9 col2\" >1</td>\n",
       "      <td id=\"T_9ce32_row9_col3\" class=\"data row9 col3\" >1.00</td>\n",
       "      <td id=\"T_9ce32_row9_col4\" class=\"data row9 col4\" >14.00</td>\n",
       "      <td id=\"T_9ce32_row9_col5\" class=\"data row9 col5\" >0</td>\n",
       "      <td id=\"T_9ce32_row9_col6\" class=\"data row9 col6\" >0</td>\n",
       "      <td id=\"T_9ce32_row9_col7\" class=\"data row9 col7\" >0.00</td>\n",
       "      <td id=\"T_9ce32_row9_col8\" class=\"data row9 col8\" >nan</td>\n",
       "    </tr>\n",
       "    <tr>\n",
       "      <th id=\"T_9ce32_level0_row10\" class=\"row_heading level0 row10\" >2022-W27</th>\n",
       "      <td id=\"T_9ce32_row10_col0\" class=\"data row10 col0\" >14</td>\n",
       "      <td id=\"T_9ce32_row10_col1\" class=\"data row10 col1\" >14</td>\n",
       "      <td id=\"T_9ce32_row10_col2\" class=\"data row10 col2\" >1</td>\n",
       "      <td id=\"T_9ce32_row10_col3\" class=\"data row10 col3\" >1.00</td>\n",
       "      <td id=\"T_9ce32_row10_col4\" class=\"data row10 col4\" >14.00</td>\n",
       "      <td id=\"T_9ce32_row10_col5\" class=\"data row10 col5\" >0</td>\n",
       "      <td id=\"T_9ce32_row10_col6\" class=\"data row10 col6\" >0</td>\n",
       "      <td id=\"T_9ce32_row10_col7\" class=\"data row10 col7\" >0.00</td>\n",
       "      <td id=\"T_9ce32_row10_col8\" class=\"data row10 col8\" >nan</td>\n",
       "    </tr>\n",
       "    <tr>\n",
       "      <th id=\"T_9ce32_level0_row11\" class=\"row_heading level0 row11\" >2022-W27</th>\n",
       "      <td id=\"T_9ce32_row11_col0\" class=\"data row11 col0\" >14</td>\n",
       "      <td id=\"T_9ce32_row11_col1\" class=\"data row11 col1\" >14</td>\n",
       "      <td id=\"T_9ce32_row11_col2\" class=\"data row11 col2\" >1</td>\n",
       "      <td id=\"T_9ce32_row11_col3\" class=\"data row11 col3\" >1.00</td>\n",
       "      <td id=\"T_9ce32_row11_col4\" class=\"data row11 col4\" >14.00</td>\n",
       "      <td id=\"T_9ce32_row11_col5\" class=\"data row11 col5\" >0</td>\n",
       "      <td id=\"T_9ce32_row11_col6\" class=\"data row11 col6\" >0</td>\n",
       "      <td id=\"T_9ce32_row11_col7\" class=\"data row11 col7\" >0.00</td>\n",
       "      <td id=\"T_9ce32_row11_col8\" class=\"data row11 col8\" >nan</td>\n",
       "    </tr>\n",
       "    <tr>\n",
       "      <th id=\"T_9ce32_level0_row12\" class=\"row_heading level0 row12\" >2022-W27</th>\n",
       "      <td id=\"T_9ce32_row12_col0\" class=\"data row12 col0\" >14</td>\n",
       "      <td id=\"T_9ce32_row12_col1\" class=\"data row12 col1\" >14</td>\n",
       "      <td id=\"T_9ce32_row12_col2\" class=\"data row12 col2\" >1</td>\n",
       "      <td id=\"T_9ce32_row12_col3\" class=\"data row12 col3\" >1.00</td>\n",
       "      <td id=\"T_9ce32_row12_col4\" class=\"data row12 col4\" >14.00</td>\n",
       "      <td id=\"T_9ce32_row12_col5\" class=\"data row12 col5\" >0</td>\n",
       "      <td id=\"T_9ce32_row12_col6\" class=\"data row12 col6\" >0</td>\n",
       "      <td id=\"T_9ce32_row12_col7\" class=\"data row12 col7\" >0.00</td>\n",
       "      <td id=\"T_9ce32_row12_col8\" class=\"data row12 col8\" >nan</td>\n",
       "    </tr>\n",
       "    <tr>\n",
       "      <th id=\"T_9ce32_level0_row13\" class=\"row_heading level0 row13\" >2022-W28</th>\n",
       "      <td id=\"T_9ce32_row13_col0\" class=\"data row13 col0\" >14</td>\n",
       "      <td id=\"T_9ce32_row13_col1\" class=\"data row13 col1\" >14</td>\n",
       "      <td id=\"T_9ce32_row13_col2\" class=\"data row13 col2\" >1</td>\n",
       "      <td id=\"T_9ce32_row13_col3\" class=\"data row13 col3\" >1.00</td>\n",
       "      <td id=\"T_9ce32_row13_col4\" class=\"data row13 col4\" >14.00</td>\n",
       "      <td id=\"T_9ce32_row13_col5\" class=\"data row13 col5\" >0</td>\n",
       "      <td id=\"T_9ce32_row13_col6\" class=\"data row13 col6\" >0</td>\n",
       "      <td id=\"T_9ce32_row13_col7\" class=\"data row13 col7\" >0.00</td>\n",
       "      <td id=\"T_9ce32_row13_col8\" class=\"data row13 col8\" >nan</td>\n",
       "    </tr>\n",
       "    <tr>\n",
       "      <th id=\"T_9ce32_level0_row14\" class=\"row_heading level0 row14\" >2022-W28</th>\n",
       "      <td id=\"T_9ce32_row14_col0\" class=\"data row14 col0\" >14</td>\n",
       "      <td id=\"T_9ce32_row14_col1\" class=\"data row14 col1\" >14</td>\n",
       "      <td id=\"T_9ce32_row14_col2\" class=\"data row14 col2\" >1</td>\n",
       "      <td id=\"T_9ce32_row14_col3\" class=\"data row14 col3\" >1.00</td>\n",
       "      <td id=\"T_9ce32_row14_col4\" class=\"data row14 col4\" >14.00</td>\n",
       "      <td id=\"T_9ce32_row14_col5\" class=\"data row14 col5\" >0</td>\n",
       "      <td id=\"T_9ce32_row14_col6\" class=\"data row14 col6\" >0</td>\n",
       "      <td id=\"T_9ce32_row14_col7\" class=\"data row14 col7\" >0.00</td>\n",
       "      <td id=\"T_9ce32_row14_col8\" class=\"data row14 col8\" >nan</td>\n",
       "    </tr>\n",
       "    <tr>\n",
       "      <th id=\"T_9ce32_level0_row15\" class=\"row_heading level0 row15\" >2022-W28</th>\n",
       "      <td id=\"T_9ce32_row15_col0\" class=\"data row15 col0\" >14</td>\n",
       "      <td id=\"T_9ce32_row15_col1\" class=\"data row15 col1\" >14</td>\n",
       "      <td id=\"T_9ce32_row15_col2\" class=\"data row15 col2\" >1</td>\n",
       "      <td id=\"T_9ce32_row15_col3\" class=\"data row15 col3\" >1.00</td>\n",
       "      <td id=\"T_9ce32_row15_col4\" class=\"data row15 col4\" >14.00</td>\n",
       "      <td id=\"T_9ce32_row15_col5\" class=\"data row15 col5\" >0</td>\n",
       "      <td id=\"T_9ce32_row15_col6\" class=\"data row15 col6\" >0</td>\n",
       "      <td id=\"T_9ce32_row15_col7\" class=\"data row15 col7\" >0.00</td>\n",
       "      <td id=\"T_9ce32_row15_col8\" class=\"data row15 col8\" >nan</td>\n",
       "    </tr>\n",
       "    <tr>\n",
       "      <th id=\"T_9ce32_level0_row16\" class=\"row_heading level0 row16\" >2022-W29</th>\n",
       "      <td id=\"T_9ce32_row16_col0\" class=\"data row16 col0\" >14</td>\n",
       "      <td id=\"T_9ce32_row16_col1\" class=\"data row16 col1\" >14</td>\n",
       "      <td id=\"T_9ce32_row16_col2\" class=\"data row16 col2\" >1</td>\n",
       "      <td id=\"T_9ce32_row16_col3\" class=\"data row16 col3\" >1.00</td>\n",
       "      <td id=\"T_9ce32_row16_col4\" class=\"data row16 col4\" >14.00</td>\n",
       "      <td id=\"T_9ce32_row16_col5\" class=\"data row16 col5\" >0</td>\n",
       "      <td id=\"T_9ce32_row16_col6\" class=\"data row16 col6\" >0</td>\n",
       "      <td id=\"T_9ce32_row16_col7\" class=\"data row16 col7\" >0.00</td>\n",
       "      <td id=\"T_9ce32_row16_col8\" class=\"data row16 col8\" >nan</td>\n",
       "    </tr>\n",
       "    <tr>\n",
       "      <th id=\"T_9ce32_level0_row17\" class=\"row_heading level0 row17\" >2022-W29</th>\n",
       "      <td id=\"T_9ce32_row17_col0\" class=\"data row17 col0\" >14</td>\n",
       "      <td id=\"T_9ce32_row17_col1\" class=\"data row17 col1\" >14</td>\n",
       "      <td id=\"T_9ce32_row17_col2\" class=\"data row17 col2\" >1</td>\n",
       "      <td id=\"T_9ce32_row17_col3\" class=\"data row17 col3\" >1.00</td>\n",
       "      <td id=\"T_9ce32_row17_col4\" class=\"data row17 col4\" >14.00</td>\n",
       "      <td id=\"T_9ce32_row17_col5\" class=\"data row17 col5\" >0</td>\n",
       "      <td id=\"T_9ce32_row17_col6\" class=\"data row17 col6\" >0</td>\n",
       "      <td id=\"T_9ce32_row17_col7\" class=\"data row17 col7\" >0.00</td>\n",
       "      <td id=\"T_9ce32_row17_col8\" class=\"data row17 col8\" >nan</td>\n",
       "    </tr>\n",
       "    <tr>\n",
       "      <th id=\"T_9ce32_level0_row18\" class=\"row_heading level0 row18\" >2022-W29</th>\n",
       "      <td id=\"T_9ce32_row18_col0\" class=\"data row18 col0\" >14</td>\n",
       "      <td id=\"T_9ce32_row18_col1\" class=\"data row18 col1\" >14</td>\n",
       "      <td id=\"T_9ce32_row18_col2\" class=\"data row18 col2\" >1</td>\n",
       "      <td id=\"T_9ce32_row18_col3\" class=\"data row18 col3\" >1.00</td>\n",
       "      <td id=\"T_9ce32_row18_col4\" class=\"data row18 col4\" >14.00</td>\n",
       "      <td id=\"T_9ce32_row18_col5\" class=\"data row18 col5\" >0</td>\n",
       "      <td id=\"T_9ce32_row18_col6\" class=\"data row18 col6\" >0</td>\n",
       "      <td id=\"T_9ce32_row18_col7\" class=\"data row18 col7\" >0.00</td>\n",
       "      <td id=\"T_9ce32_row18_col8\" class=\"data row18 col8\" >nan</td>\n",
       "    </tr>\n",
       "    <tr>\n",
       "      <th id=\"T_9ce32_level0_row19\" class=\"row_heading level0 row19\" >2022-W29</th>\n",
       "      <td id=\"T_9ce32_row19_col0\" class=\"data row19 col0\" >14</td>\n",
       "      <td id=\"T_9ce32_row19_col1\" class=\"data row19 col1\" >14</td>\n",
       "      <td id=\"T_9ce32_row19_col2\" class=\"data row19 col2\" >1</td>\n",
       "      <td id=\"T_9ce32_row19_col3\" class=\"data row19 col3\" >1.00</td>\n",
       "      <td id=\"T_9ce32_row19_col4\" class=\"data row19 col4\" >14.00</td>\n",
       "      <td id=\"T_9ce32_row19_col5\" class=\"data row19 col5\" >0</td>\n",
       "      <td id=\"T_9ce32_row19_col6\" class=\"data row19 col6\" >0</td>\n",
       "      <td id=\"T_9ce32_row19_col7\" class=\"data row19 col7\" >0.00</td>\n",
       "      <td id=\"T_9ce32_row19_col8\" class=\"data row19 col8\" >nan</td>\n",
       "    </tr>\n",
       "  </tbody>\n",
       "</table>\n"
      ],
      "text/plain": [
       "<pandas.io.formats.style.Styler at 0x7f5b5e53c8d0>"
      ]
     },
     "execution_count": 7,
     "metadata": {},
     "output_type": "execute_result"
    }
   ],
   "source": [
    "sdd = defaultdict(list)\n",
    "\n",
    "for dftrain, dftest, t, openproposals in cvtt_open(to_microsoft(dfv), SPLITS_FREQ, dfp.reset_index(), remove_not_in_train_col='userID', normalize=SPLITS_NORMALIZE):\n",
    "    dftrain_filter = dftrain[dftrain['itemID'].isin(openproposals)]\n",
    "    \n",
    "    sdd['fold'].append(t)\n",
    "    sdd['open proposals'].append(len(openproposals))\n",
    "    \n",
    "    sdd['proposals in train'].append(dftrain['itemID'].nunique())\n",
    "    sdd['votes in train'].append(len(dftrain))\n",
    "    sdd['votes in open proposals (train)'].append(len(dftrain_filter))\n",
    "    sdd['users in open proposals (train)'].append(dftrain_filter['userID'].nunique())\n",
    "    sdd['votes in test'].append(len(dftest))\n",
    "    sdd['users in train'].append(dftrain['userID'].nunique())\n",
    "    sdd['users in test'].append(dftest['userID'].nunique())\n",
    "\n",
    "sdf_all = pd.DataFrame(sdd).set_index('fold')\n",
    "sdf_all['vpp in open proposals (train)'] = sdf_all['votes in open proposals (train)'] / sdf_all['open proposals']\n",
    "sdf_all['vpu in open proposals (train)'] = sdf_all['votes in open proposals (train)'] / sdf_all['users in open proposals (train)']\n",
    "sdf_all['vpp test'] = sdf_all['votes in test'] / sdf_all['open proposals']\n",
    "sdf_all['vpu test'] = sdf_all['votes in test'] / sdf_all['users in test']\n",
    "paths.save_folds_info(sdf_all, ORG_NAME, SPLITS_FREQ, SPLITS_NORMALIZE)\n",
    "sdf = sdf_all.tail(LAST_FOLDS)\n",
    "print(sdf['votes in train'])\n",
    "_style = sdf[['open proposals', 'votes in open proposals (train)', 'users in open proposals (train)', 'vpp in open proposals (train)', 'vpu in open proposals (train)', 'votes in test', 'users in test', 'vpp test', 'vpu test']].style\n",
    "_style = _style.format_index('{:%G-W%V}').format(precision=2)\n",
    "_style"
   ]
  },
  {
   "cell_type": "code",
   "execution_count": 8,
   "id": "0bcd45be",
   "metadata": {
    "execution": {
     "iopub.execute_input": "2024-09-05T08:59:02.198272Z",
     "iopub.status.busy": "2024-09-05T08:59:02.198100Z",
     "iopub.status.idle": "2024-09-05T08:59:02.209692Z",
     "shell.execute_reply": "2024-09-05T08:59:02.209295Z"
    },
    "papermill": {
     "duration": 0.014984,
     "end_time": "2024-09-05T08:59:02.210232",
     "exception": false,
     "start_time": "2024-09-05T08:59:02.195248",
     "status": "completed"
    },
    "tags": []
   },
   "outputs": [
    {
     "name": "stdout",
     "output_type": "stream",
     "text": [
      "\\begin{tabular}{lrrrrrrrrr}\n",
      " & \\textbf{open proposals} & \\textbf{votes in open proposals (train)} & \\textbf{users in open proposals (train)} & \\textbf{vpp in open proposals (train)} & \\textbf{vpu in open proposals (train)} & \\textbf{votes in test} & \\textbf{users in test} & \\textbf{vpp test} & \\textbf{vpu test} \\\\\n",
      "fold &  &  &  &  &  &  &  &  &  \\\\\n",
      "2022-W24 & 14 & 0 & 0 & 0.00 & nan & 14 & 1 & 1.00 & 14.00 \\\\\n",
      "2022-W24 & 14 & 0 & 0 & 0.00 & nan & 14 & 1 & 1.00 & 14.00 \\\\\n",
      "2022-W25 & 14 & 0 & 0 & 0.00 & nan & 14 & 1 & 1.00 & 14.00 \\\\\n",
      "2022-W25 & 14 & 0 & 0 & 0.00 & nan & 14 & 1 & 1.00 & 14.00 \\\\\n",
      "2022-W25 & 14 & 0 & 0 & 0.00 & nan & 14 & 1 & 1.00 & 14.00 \\\\\n",
      "2022-W25 & 14 & 0 & 0 & 0.00 & nan & 14 & 1 & 1.00 & 14.00 \\\\\n",
      "2022-W26 & 14 & 0 & 0 & 0.00 & nan & 14 & 1 & 1.00 & 14.00 \\\\\n",
      "2022-W26 & 14 & 14 & 1 & 1.00 & 14.00 & 0 & 0 & 0.00 & nan \\\\\n",
      "2022-W26 & 14 & 14 & 1 & 1.00 & 14.00 & 0 & 0 & 0.00 & nan \\\\\n",
      "2022-W27 & 14 & 14 & 1 & 1.00 & 14.00 & 0 & 0 & 0.00 & nan \\\\\n",
      "2022-W27 & 14 & 14 & 1 & 1.00 & 14.00 & 0 & 0 & 0.00 & nan \\\\\n",
      "2022-W27 & 14 & 14 & 1 & 1.00 & 14.00 & 0 & 0 & 0.00 & nan \\\\\n",
      "2022-W27 & 14 & 14 & 1 & 1.00 & 14.00 & 0 & 0 & 0.00 & nan \\\\\n",
      "2022-W28 & 14 & 14 & 1 & 1.00 & 14.00 & 0 & 0 & 0.00 & nan \\\\\n",
      "2022-W28 & 14 & 14 & 1 & 1.00 & 14.00 & 0 & 0 & 0.00 & nan \\\\\n",
      "2022-W28 & 14 & 14 & 1 & 1.00 & 14.00 & 0 & 0 & 0.00 & nan \\\\\n",
      "2022-W29 & 14 & 14 & 1 & 1.00 & 14.00 & 0 & 0 & 0.00 & nan \\\\\n",
      "2022-W29 & 14 & 14 & 1 & 1.00 & 14.00 & 0 & 0 & 0.00 & nan \\\\\n",
      "2022-W29 & 14 & 14 & 1 & 1.00 & 14.00 & 0 & 0 & 0.00 & nan \\\\\n",
      "2022-W29 & 14 & 14 & 1 & 1.00 & 14.00 & 0 & 0 & 0.00 & nan \\\\\n",
      "\\end{tabular}\n",
      "\n"
     ]
    }
   ],
   "source": [
    "print(_style\n",
    "  .format_index(\"\\\\textbf{{{}}}\", escape=\"latex\", axis=1)\n",
    "  .to_latex()\n",
    ")"
   ]
  },
  {
   "cell_type": "markdown",
   "id": "f45ec7c9",
   "metadata": {
    "papermill": {
     "duration": 0.002029,
     "end_time": "2024-09-05T08:59:02.214342",
     "exception": false,
     "start_time": "2024-09-05T08:59:02.212313",
     "status": "completed"
    },
    "tags": []
   },
   "source": [
    "## Running openpop baseline"
   ]
  },
  {
   "cell_type": "code",
   "execution_count": 9,
   "id": "53dd8200",
   "metadata": {
    "execution": {
     "iopub.execute_input": "2024-09-05T08:59:02.218839Z",
     "iopub.status.busy": "2024-09-05T08:59:02.218745Z",
     "iopub.status.idle": "2024-09-05T09:00:00.093568Z",
     "shell.execute_reply": "2024-09-05T09:00:00.093323Z"
    },
    "papermill": {
     "duration": 57.877901,
     "end_time": "2024-09-05T09:00:00.094238",
     "exception": false,
     "start_time": "2024-09-05T08:59:02.216337",
     "status": "completed"
    },
    "tags": []
   },
   "outputs": [
    {
     "data": {
      "application/vnd.jupyter.widget-view+json": {
       "model_id": "308e093d277a4a1ba5296102d7b447a1",
       "version_major": 2,
       "version_minor": 0
      },
      "text/plain": [
       "  0%|          | 0/304 [00:00<?, ?it/s]"
      ]
     },
     "metadata": {},
     "output_type": "display_data"
    },
    {
     "name": "stderr",
     "output_type": "stream",
     "text": [
      "Warning, empty test fold 0 (2020-11-25 00:00:00), all ok since 0 folds ago\n",
      "Warning, empty test fold 1 (2020-11-27 00:00:00), all ok since 1 folds ago\n"
     ]
    },
    {
     "name": "stderr",
     "output_type": "stream",
     "text": [
      "Warning, empty test fold 2 (2020-11-29 00:00:00), all ok since 1 folds ago\n",
      "Warning, empty test fold 3 (2020-12-01 00:00:00), all ok since 1 folds ago\n"
     ]
    },
    {
     "name": "stderr",
     "output_type": "stream",
     "text": [
      "Warning, empty test fold 4 (2020-12-03 00:00:00), all ok since 1 folds ago\n",
      "Warning, empty test fold 5 (2020-12-05 00:00:00), all ok since 1 folds ago\n"
     ]
    },
    {
     "name": "stderr",
     "output_type": "stream",
     "text": [
      "Warning, empty test fold 6 (2020-12-07 00:00:00), all ok since 1 folds ago\n",
      "Warning, empty test fold 7 (2020-12-09 00:00:00), all ok since 1 folds ago\n"
     ]
    },
    {
     "name": "stderr",
     "output_type": "stream",
     "text": [
      "Warning, empty test fold 9 (2020-12-13 00:00:00), all ok since 2 folds ago\n",
      "Warning, empty test fold 10 (2020-12-15 00:00:00), all ok since 1 folds ago\n"
     ]
    },
    {
     "name": "stderr",
     "output_type": "stream",
     "text": [
      "Warning, empty test fold 11 (2020-12-17 00:00:00), all ok since 1 folds ago\n",
      "Warning, empty test fold 12 (2020-12-19 00:00:00), all ok since 1 folds ago\n"
     ]
    },
    {
     "name": "stderr",
     "output_type": "stream",
     "text": [
      "Warning, empty test fold 13 (2020-12-21 00:00:00), all ok since 1 folds ago\n",
      "Warning, empty test fold 14 (2020-12-23 00:00:00), all ok since 1 folds ago\n"
     ]
    },
    {
     "name": "stderr",
     "output_type": "stream",
     "text": [
      "Warning, empty test fold 15 (2020-12-25 00:00:00), all ok since 1 folds ago\n",
      "Warning, empty test fold 16 (2020-12-27 00:00:00), all ok since 1 folds ago\n"
     ]
    },
    {
     "name": "stderr",
     "output_type": "stream",
     "text": [
      "Warning, empty test fold 17 (2020-12-29 00:00:00), all ok since 1 folds ago\n",
      "Warning, empty test fold 18 (2020-12-31 00:00:00), all ok since 1 folds ago\n"
     ]
    },
    {
     "name": "stderr",
     "output_type": "stream",
     "text": [
      "Warning, empty test fold 19 (2021-01-02 00:00:00), all ok since 1 folds ago\n",
      "Warning, empty test fold 20 (2021-01-04 00:00:00), all ok since 1 folds ago\n"
     ]
    },
    {
     "name": "stderr",
     "output_type": "stream",
     "text": [
      "Warning, empty test fold 21 (2021-01-06 00:00:00), all ok since 1 folds ago\n",
      "Warning, empty test fold 22 (2021-01-08 00:00:00), all ok since 1 folds ago\n"
     ]
    },
    {
     "name": "stderr",
     "output_type": "stream",
     "text": [
      "Warning, empty test fold 23 (2021-01-10 00:00:00), all ok since 1 folds ago\n",
      "Warning, empty test fold 24 (2021-01-12 00:00:00), all ok since 1 folds ago\n"
     ]
    },
    {
     "name": "stderr",
     "output_type": "stream",
     "text": [
      "Warning, empty test fold 25 (2021-01-14 00:00:00), all ok since 1 folds ago\n",
      "Warning, empty test fold 26 (2021-01-16 00:00:00), all ok since 1 folds ago\n"
     ]
    },
    {
     "name": "stderr",
     "output_type": "stream",
     "text": [
      "Warning, empty test fold 27 (2021-01-18 00:00:00), all ok since 1 folds ago\n",
      "Warning, empty test fold 28 (2021-01-20 00:00:00), all ok since 1 folds ago\n"
     ]
    },
    {
     "name": "stderr",
     "output_type": "stream",
     "text": [
      "Warning, empty test fold 29 (2021-01-22 00:00:00), all ok since 1 folds ago\n",
      "Warning, empty test fold 30 (2021-01-24 00:00:00), all ok since 1 folds ago\n"
     ]
    },
    {
     "name": "stderr",
     "output_type": "stream",
     "text": [
      "Warning, empty test fold 31 (2021-01-26 00:00:00), all ok since 1 folds ago\n"
     ]
    },
    {
     "name": "stderr",
     "output_type": "stream",
     "text": [
      "Warning, test fold 33 (2021-01-30 00:00:00) with less than 5 open proposals (1). all ok since 2 folds ago\n"
     ]
    },
    {
     "name": "stderr",
     "output_type": "stream",
     "text": [
      "Warning, empty test fold 34 (2021-02-01 00:00:00), all ok since 3 folds ago\n",
      "Warning, empty test fold 35 (2021-02-03 00:00:00), all ok since 1 folds ago\n"
     ]
    },
    {
     "name": "stderr",
     "output_type": "stream",
     "text": [
      "Warning, empty test fold 36 (2021-02-05 00:00:00), all ok since 1 folds ago\n",
      "Warning, empty test fold 37 (2021-02-07 00:00:00), all ok since 1 folds ago\n"
     ]
    },
    {
     "name": "stderr",
     "output_type": "stream",
     "text": [
      "Warning, empty test fold 38 (2021-02-09 00:00:00), all ok since 1 folds ago\n",
      "Warning, empty test fold 39 (2021-02-11 00:00:00), all ok since 1 folds ago\n"
     ]
    },
    {
     "name": "stderr",
     "output_type": "stream",
     "text": [
      "Warning, empty test fold 40 (2021-02-13 00:00:00), all ok since 1 folds ago\n",
      "Warning, empty test fold 41 (2021-02-15 00:00:00), all ok since 1 folds ago\n"
     ]
    },
    {
     "name": "stderr",
     "output_type": "stream",
     "text": [
      "Warning, test fold 42 (2021-02-17 00:00:00) with less than 5 open proposals (3). all ok since 1 folds ago\n",
      "Warning, empty test fold 43 (2021-02-19 00:00:00), all ok since 2 folds ago\n"
     ]
    },
    {
     "name": "stderr",
     "output_type": "stream",
     "text": [
      "Warning, empty test fold 44 (2021-02-21 00:00:00), all ok since 1 folds ago\n",
      "Warning, empty test fold 45 (2021-02-23 00:00:00), all ok since 1 folds ago\n"
     ]
    },
    {
     "name": "stderr",
     "output_type": "stream",
     "text": [
      "Warning, test fold 46 (2021-02-25 00:00:00) with less than 5 open proposals (3). all ok since 1 folds ago\n"
     ]
    },
    {
     "name": "stderr",
     "output_type": "stream",
     "text": [
      "Warning, empty test fold 47 (2021-02-27 00:00:00), all ok since 2 folds ago\n",
      "Warning, empty test fold 48 (2021-03-01 00:00:00), all ok since 1 folds ago\n"
     ]
    },
    {
     "name": "stderr",
     "output_type": "stream",
     "text": [
      "Warning, empty test fold 49 (2021-03-03 00:00:00), all ok since 1 folds ago\n"
     ]
    },
    {
     "name": "stderr",
     "output_type": "stream",
     "text": [
      "Warning, test fold 51 (2021-03-07 00:00:00) with less than 5 open proposals (1). all ok since 2 folds ago\n",
      "Warning, test fold 52 (2021-03-09 00:00:00) with less than 5 open proposals (2). all ok since 1 folds ago\n"
     ]
    },
    {
     "name": "stderr",
     "output_type": "stream",
     "text": [
      "Warning, test fold 53 (2021-03-11 00:00:00) with less than 5 open proposals (2). all ok since 1 folds ago\n",
      "Warning, empty test fold 54 (2021-03-13 00:00:00), all ok since 5 folds ago\n"
     ]
    },
    {
     "name": "stderr",
     "output_type": "stream",
     "text": [
      "Warning, empty test fold 55 (2021-03-15 00:00:00), all ok since 1 folds ago\n",
      "Warning, empty test fold 56 (2021-03-17 00:00:00), all ok since 1 folds ago\n"
     ]
    },
    {
     "name": "stderr",
     "output_type": "stream",
     "text": [
      "Warning, empty test fold 57 (2021-03-19 00:00:00), all ok since 1 folds ago\n",
      "Warning, empty test fold 58 (2021-03-21 00:00:00), all ok since 1 folds ago\n"
     ]
    },
    {
     "name": "stderr",
     "output_type": "stream",
     "text": [
      "Warning, empty test fold 59 (2021-03-23 00:00:00), all ok since 1 folds ago\n",
      "Warning, test fold 60 (2021-03-25 00:00:00) with less than 5 open proposals (1). all ok since 1 folds ago\n"
     ]
    },
    {
     "name": "stderr",
     "output_type": "stream",
     "text": [
      "Warning, test fold 61 (2021-03-27 00:00:00) with less than 5 open proposals (2). all ok since 1 folds ago\n",
      "Warning, test fold 62 (2021-03-29 00:00:00) with less than 5 open proposals (3). all ok since 1 folds ago\n"
     ]
    },
    {
     "name": "stderr",
     "output_type": "stream",
     "text": [
      "Warning, empty test fold 63 (2021-03-31 00:00:00), all ok since 4 folds ago\n",
      "Warning, empty test fold 64 (2021-04-02 00:00:00), all ok since 1 folds ago\n"
     ]
    },
    {
     "name": "stderr",
     "output_type": "stream",
     "text": [
      "Warning, empty test fold 65 (2021-04-04 00:00:00), all ok since 1 folds ago\n",
      "Warning, empty test fold 66 (2021-04-06 00:00:00), all ok since 1 folds ago\n"
     ]
    },
    {
     "name": "stderr",
     "output_type": "stream",
     "text": [
      "Warning, empty test fold 67 (2021-04-08 00:00:00), all ok since 1 folds ago\n",
      "Warning, empty test fold 68 (2021-04-10 00:00:00), all ok since 1 folds ago\n"
     ]
    },
    {
     "name": "stderr",
     "output_type": "stream",
     "text": [
      "Warning, empty test fold 69 (2021-04-12 00:00:00), all ok since 1 folds ago\n",
      "Warning, empty test fold 70 (2021-04-14 00:00:00), all ok since 1 folds ago\n"
     ]
    },
    {
     "name": "stderr",
     "output_type": "stream",
     "text": [
      "Warning, empty test fold 71 (2021-04-16 00:00:00), all ok since 1 folds ago\n",
      "Warning, empty test fold 72 (2021-04-18 00:00:00), all ok since 1 folds ago\n"
     ]
    },
    {
     "name": "stderr",
     "output_type": "stream",
     "text": [
      "Warning, test fold 73 (2021-04-20 00:00:00) with less than 5 open proposals (1). all ok since 1 folds ago\n",
      "Warning, test fold 74 (2021-04-22 00:00:00) with less than 5 open proposals (3). all ok since 1 folds ago\n"
     ]
    },
    {
     "name": "stderr",
     "output_type": "stream",
     "text": [
      "Warning, empty test fold 75 (2021-04-24 00:00:00), all ok since 3 folds ago\n",
      "Warning, empty test fold 76 (2021-04-26 00:00:00), all ok since 1 folds ago\n"
     ]
    },
    {
     "name": "stderr",
     "output_type": "stream",
     "text": [
      "Warning, empty test fold 77 (2021-04-28 00:00:00), all ok since 1 folds ago\n",
      "Warning, empty test fold 78 (2021-04-30 00:00:00), all ok since 1 folds ago\n"
     ]
    },
    {
     "name": "stderr",
     "output_type": "stream",
     "text": [
      "Warning, empty test fold 79 (2021-05-02 00:00:00), all ok since 1 folds ago\n",
      "Warning, empty test fold 80 (2021-05-04 00:00:00), all ok since 1 folds ago\n"
     ]
    },
    {
     "name": "stderr",
     "output_type": "stream",
     "text": [
      "Warning, empty test fold 81 (2021-05-06 00:00:00), all ok since 1 folds ago\n",
      "Warning, empty test fold 82 (2021-05-08 00:00:00), all ok since 1 folds ago\n"
     ]
    },
    {
     "name": "stderr",
     "output_type": "stream",
     "text": [
      "Warning, empty test fold 83 (2021-05-10 00:00:00), all ok since 1 folds ago\n",
      "Warning, empty test fold 84 (2021-05-12 00:00:00), all ok since 1 folds ago\n"
     ]
    },
    {
     "name": "stderr",
     "output_type": "stream",
     "text": [
      "Warning, empty test fold 85 (2021-05-14 00:00:00), all ok since 1 folds ago\n",
      "Warning, empty test fold 86 (2021-05-16 00:00:00), all ok since 1 folds ago\n"
     ]
    },
    {
     "name": "stderr",
     "output_type": "stream",
     "text": [
      "Warning, empty test fold 87 (2021-05-18 00:00:00), all ok since 1 folds ago\n",
      "Warning, empty test fold 88 (2021-05-20 00:00:00), all ok since 1 folds ago\n"
     ]
    },
    {
     "name": "stderr",
     "output_type": "stream",
     "text": [
      "Warning, empty test fold 89 (2021-05-22 00:00:00), all ok since 1 folds ago\n",
      "Warning, empty test fold 90 (2021-05-24 00:00:00), all ok since 1 folds ago\n"
     ]
    },
    {
     "name": "stderr",
     "output_type": "stream",
     "text": [
      "Warning, empty test fold 91 (2021-05-26 00:00:00), all ok since 1 folds ago\n",
      "Warning, empty test fold 92 (2021-05-28 00:00:00), all ok since 1 folds ago\n"
     ]
    },
    {
     "name": "stderr",
     "output_type": "stream",
     "text": [
      "Warning, empty test fold 93 (2021-05-30 00:00:00), all ok since 1 folds ago\n",
      "Warning, empty test fold 94 (2021-06-01 00:00:00), all ok since 1 folds ago\n"
     ]
    },
    {
     "name": "stderr",
     "output_type": "stream",
     "text": [
      "Warning, empty test fold 95 (2021-06-03 00:00:00), all ok since 1 folds ago\n",
      "Warning, empty test fold 96 (2021-06-05 00:00:00), all ok since 1 folds ago\n",
      "Warning, empty test fold 97 (2021-06-07 00:00:00), all ok since 1 folds ago\n"
     ]
    },
    {
     "name": "stderr",
     "output_type": "stream",
     "text": [
      "Warning, empty test fold 98 (2021-06-09 00:00:00), all ok since 1 folds ago\n",
      "Warning, empty test fold 99 (2021-06-11 00:00:00), all ok since 1 folds ago\n"
     ]
    },
    {
     "name": "stderr",
     "output_type": "stream",
     "text": [
      "Warning, empty test fold 100 (2021-06-13 00:00:00), all ok since 1 folds ago\n",
      "Warning, empty test fold 101 (2021-06-15 00:00:00), all ok since 1 folds ago\n"
     ]
    },
    {
     "name": "stderr",
     "output_type": "stream",
     "text": [
      "Warning, empty test fold 102 (2021-06-17 00:00:00), all ok since 1 folds ago\n",
      "Warning, empty test fold 103 (2021-06-19 00:00:00), all ok since 1 folds ago\n"
     ]
    },
    {
     "name": "stderr",
     "output_type": "stream",
     "text": [
      "Warning, empty test fold 104 (2021-06-21 00:00:00), all ok since 1 folds ago\n",
      "Warning, empty test fold 105 (2021-06-23 00:00:00), all ok since 1 folds ago\n"
     ]
    },
    {
     "name": "stderr",
     "output_type": "stream",
     "text": [
      "Warning, empty test fold 106 (2021-06-25 00:00:00), all ok since 1 folds ago\n",
      "Warning, empty test fold 107 (2021-06-27 00:00:00), all ok since 1 folds ago\n"
     ]
    },
    {
     "name": "stderr",
     "output_type": "stream",
     "text": [
      "Warning, empty test fold 108 (2021-06-29 00:00:00), all ok since 1 folds ago\n",
      "Warning, empty test fold 109 (2021-07-01 00:00:00), all ok since 1 folds ago\n"
     ]
    },
    {
     "name": "stderr",
     "output_type": "stream",
     "text": [
      "Warning, empty test fold 110 (2021-07-03 00:00:00), all ok since 1 folds ago\n",
      "Warning, empty test fold 111 (2021-07-05 00:00:00), all ok since 1 folds ago\n"
     ]
    },
    {
     "name": "stderr",
     "output_type": "stream",
     "text": [
      "Warning, empty test fold 112 (2021-07-07 00:00:00), all ok since 1 folds ago\n",
      "Warning, empty test fold 113 (2021-07-09 00:00:00), all ok since 1 folds ago\n"
     ]
    },
    {
     "name": "stderr",
     "output_type": "stream",
     "text": [
      "Warning, empty test fold 114 (2021-07-11 00:00:00), all ok since 1 folds ago\n",
      "Warning, empty test fold 115 (2021-07-13 00:00:00), all ok since 1 folds ago\n"
     ]
    },
    {
     "name": "stderr",
     "output_type": "stream",
     "text": [
      "Warning, empty test fold 116 (2021-07-15 00:00:00), all ok since 1 folds ago\n"
     ]
    },
    {
     "name": "stderr",
     "output_type": "stream",
     "text": [
      "Warning, empty test fold 119 (2021-07-21 00:00:00), all ok since 3 folds ago\n",
      "Warning, test fold 120 (2021-07-23 00:00:00) with less than 5 open proposals (3). all ok since 1 folds ago\n"
     ]
    },
    {
     "name": "stderr",
     "output_type": "stream",
     "text": [
      "Warning, empty test fold 121 (2021-07-25 00:00:00), all ok since 2 folds ago\n",
      "Warning, empty test fold 122 (2021-07-27 00:00:00), all ok since 1 folds ago\n"
     ]
    },
    {
     "name": "stderr",
     "output_type": "stream",
     "text": [
      "Warning, test fold 123 (2021-07-29 00:00:00) with less than 5 open proposals (2). all ok since 1 folds ago\n"
     ]
    },
    {
     "name": "stderr",
     "output_type": "stream",
     "text": [
      "Warning, empty test fold 124 (2021-07-31 00:00:00), all ok since 2 folds ago\n",
      "Warning, empty test fold 125 (2021-08-02 00:00:00), all ok since 1 folds ago\n"
     ]
    },
    {
     "name": "stderr",
     "output_type": "stream",
     "text": [
      "Warning, empty test fold 126 (2021-08-04 00:00:00), all ok since 1 folds ago\n",
      "Warning, empty test fold 127 (2021-08-06 00:00:00), all ok since 1 folds ago\n"
     ]
    },
    {
     "name": "stderr",
     "output_type": "stream",
     "text": [
      "Warning, empty test fold 128 (2021-08-08 00:00:00), all ok since 1 folds ago\n",
      "Warning, test fold 129 (2021-08-10 00:00:00) with less than 5 open proposals (1). all ok since 1 folds ago\n"
     ]
    },
    {
     "name": "stderr",
     "output_type": "stream",
     "text": [
      "Warning, empty test fold 130 (2021-08-12 00:00:00), all ok since 2 folds ago\n",
      "Warning, empty test fold 131 (2021-08-14 00:00:00), all ok since 1 folds ago\n"
     ]
    },
    {
     "name": "stderr",
     "output_type": "stream",
     "text": [
      "Warning, empty test fold 132 (2021-08-16 00:00:00), all ok since 1 folds ago\n",
      "Warning, empty test fold 133 (2021-08-18 00:00:00), all ok since 1 folds ago\n"
     ]
    },
    {
     "name": "stderr",
     "output_type": "stream",
     "text": [
      "Warning, empty test fold 134 (2021-08-20 00:00:00), all ok since 1 folds ago\n",
      "Warning, empty test fold 135 (2021-08-22 00:00:00), all ok since 1 folds ago\n"
     ]
    },
    {
     "name": "stderr",
     "output_type": "stream",
     "text": [
      "Warning, empty test fold 136 (2021-08-24 00:00:00), all ok since 1 folds ago\n"
     ]
    },
    {
     "name": "stderr",
     "output_type": "stream",
     "text": [
      "Warning, empty test fold 137 (2021-08-26 00:00:00), all ok since 1 folds ago\n",
      "Warning, test fold 138 (2021-08-28 00:00:00) with less than 5 open proposals (1). all ok since 1 folds ago\n"
     ]
    },
    {
     "name": "stderr",
     "output_type": "stream",
     "text": [
      "Warning, test fold 139 (2021-08-30 00:00:00) with less than 5 open proposals (1). all ok since 1 folds ago\n",
      "Warning, empty test fold 140 (2021-09-01 00:00:00), all ok since 3 folds ago\n"
     ]
    },
    {
     "name": "stderr",
     "output_type": "stream",
     "text": [
      "Warning, empty test fold 141 (2021-09-03 00:00:00), all ok since 1 folds ago\n",
      "Warning, empty test fold 142 (2021-09-05 00:00:00), all ok since 1 folds ago\n"
     ]
    },
    {
     "name": "stderr",
     "output_type": "stream",
     "text": [
      "Warning, empty test fold 143 (2021-09-07 00:00:00), all ok since 1 folds ago\n",
      "Warning, empty test fold 144 (2021-09-09 00:00:00), all ok since 1 folds ago\n"
     ]
    },
    {
     "name": "stderr",
     "output_type": "stream",
     "text": [
      "Warning, empty test fold 145 (2021-09-11 00:00:00), all ok since 1 folds ago\n",
      "Warning, empty test fold 146 (2021-09-13 00:00:00), all ok since 1 folds ago\n"
     ]
    },
    {
     "name": "stderr",
     "output_type": "stream",
     "text": [
      "Warning, empty test fold 147 (2021-09-15 00:00:00), all ok since 1 folds ago\n",
      "Warning, test fold 148 (2021-09-17 00:00:00) with less than 5 open proposals (4). all ok since 1 folds ago\n"
     ]
    },
    {
     "name": "stderr",
     "output_type": "stream",
     "text": [
      "Warning, test fold 149 (2021-09-19 00:00:00) with less than 5 open proposals (4). all ok since 1 folds ago\n"
     ]
    },
    {
     "name": "stderr",
     "output_type": "stream",
     "text": [
      "Warning, test fold 150 (2021-09-21 00:00:00) with less than 5 open proposals (1). all ok since 1 folds ago\n",
      "Warning, test fold 151 (2021-09-23 00:00:00) with less than 5 open proposals (3). all ok since 1 folds ago\n"
     ]
    },
    {
     "name": "stderr",
     "output_type": "stream",
     "text": [
      "Warning, test fold 152 (2021-09-25 00:00:00) with less than 5 open proposals (3). all ok since 1 folds ago\n"
     ]
    },
    {
     "name": "stderr",
     "output_type": "stream",
     "text": [
      "Warning, test fold 153 (2021-09-27 00:00:00) with less than 5 open proposals (1). all ok since 1 folds ago\n",
      "Warning, test fold 154 (2021-09-29 00:00:00) with less than 5 open proposals (1). all ok since 1 folds ago\n"
     ]
    },
    {
     "name": "stderr",
     "output_type": "stream",
     "text": [
      "Warning, test fold 155 (2021-10-01 00:00:00) with less than 5 open proposals (3). all ok since 1 folds ago\n"
     ]
    },
    {
     "name": "stderr",
     "output_type": "stream",
     "text": [
      "Warning, test fold 156 (2021-10-03 00:00:00) with less than 5 open proposals (3). all ok since 1 folds ago\n"
     ]
    },
    {
     "name": "stderr",
     "output_type": "stream",
     "text": [
      "Warning, test fold 157 (2021-10-05 00:00:00) with less than 5 open proposals (1). all ok since 1 folds ago\n",
      "Warning, test fold 158 (2021-10-07 00:00:00) with less than 5 open proposals (4). all ok since 1 folds ago\n"
     ]
    },
    {
     "name": "stderr",
     "output_type": "stream",
     "text": [
      "Warning, test fold 159 (2021-10-09 00:00:00) with less than 5 open proposals (1). all ok since 1 folds ago\n",
      "Warning, test fold 160 (2021-10-11 00:00:00) with less than 5 open proposals (1). all ok since 1 folds ago\n"
     ]
    },
    {
     "name": "stderr",
     "output_type": "stream",
     "text": [
      "Warning, test fold 161 (2021-10-13 00:00:00) with less than 5 open proposals (3). all ok since 1 folds ago\n"
     ]
    },
    {
     "name": "stderr",
     "output_type": "stream",
     "text": [
      "Warning, test fold 162 (2021-10-15 00:00:00) with less than 5 open proposals (3). all ok since 1 folds ago\n"
     ]
    },
    {
     "name": "stderr",
     "output_type": "stream",
     "text": [
      "Warning, test fold 163 (2021-10-17 00:00:00) with less than 5 open proposals (2). all ok since 1 folds ago\n"
     ]
    },
    {
     "name": "stderr",
     "output_type": "stream",
     "text": [
      "Warning, test fold 164 (2021-10-19 00:00:00) with less than 5 open proposals (3). all ok since 1 folds ago\n"
     ]
    },
    {
     "name": "stderr",
     "output_type": "stream",
     "text": [
      "Warning, test fold 165 (2021-10-21 00:00:00) with less than 5 open proposals (2). all ok since 1 folds ago\n"
     ]
    },
    {
     "name": "stderr",
     "output_type": "stream",
     "text": [
      "Warning, test fold 166 (2021-10-23 00:00:00) with less than 5 open proposals (1). all ok since 1 folds ago\n"
     ]
    },
    {
     "name": "stderr",
     "output_type": "stream",
     "text": [
      "Warning, empty test fold 291 (2022-06-30 00:00:00), all ok since 144 folds ago\n",
      "Warning, empty test fold 292 (2022-07-02 00:00:00), all ok since 1 folds ago\n"
     ]
    },
    {
     "name": "stderr",
     "output_type": "stream",
     "text": [
      "Warning, empty test fold 293 (2022-07-04 00:00:00), all ok since 1 folds ago\n",
      "Warning, empty test fold 294 (2022-07-06 00:00:00), all ok since 1 folds ago\n"
     ]
    },
    {
     "name": "stderr",
     "output_type": "stream",
     "text": [
      "Warning, empty test fold 295 (2022-07-08 00:00:00), all ok since 1 folds ago\n",
      "Warning, empty test fold 296 (2022-07-10 00:00:00), all ok since 1 folds ago\n"
     ]
    },
    {
     "name": "stderr",
     "output_type": "stream",
     "text": [
      "Warning, empty test fold 297 (2022-07-12 00:00:00), all ok since 1 folds ago\n",
      "Warning, empty test fold 298 (2022-07-14 00:00:00), all ok since 1 folds ago\n"
     ]
    },
    {
     "name": "stderr",
     "output_type": "stream",
     "text": [
      "Warning, empty test fold 299 (2022-07-16 00:00:00), all ok since 1 folds ago\n",
      "Warning, empty test fold 300 (2022-07-18 00:00:00), all ok since 1 folds ago\n"
     ]
    },
    {
     "name": "stderr",
     "output_type": "stream",
     "text": [
      "Warning, empty test fold 301 (2022-07-20 00:00:00), all ok since 1 folds ago\n",
      "Warning, empty test fold 302 (2022-07-22 00:00:00), all ok since 1 folds ago\n"
     ]
    },
    {
     "name": "stdout",
     "output_type": "stream",
     "text": [
      "Max ok in a row: (144, Timestamp('2022-06-30 00:00:00'))\n"
     ]
    },
    {
     "name": "stderr",
     "output_type": "stream",
     "text": [
      "Warning, empty test fold 303 (2022-07-24 00:00:00), all ok since 1 folds ago\n"
     ]
    }
   ],
   "source": [
    "WARNING_AT_LEAST_OPEN = 5\n",
    "\n",
    "folds = list(cvtt_open(df, SPLITS_FREQ, dfp, remove_not_in_train_col='userID', normalize=SPLITS_NORMALIZE))\n",
    "metrics = []\n",
    "perfectmetrics = []\n",
    "\n",
    "first_empty = True\n",
    "ok_in_a_row = best_in_a_row = 0\n",
    "max_ok_in_a_row = (-1, folds[-1].end)\n",
    "for i, (train, test, t, open_proposals) in enumerate(tqdm(folds)):   \n",
    "    if first_empty:\n",
    "        if not train.empty:\n",
    "            first_empty = False\n",
    "    else:\n",
    "        assert not train.empty, f\"Train should not be empty on fold {i}\"\n",
    "    if test.empty:\n",
    "        print(f\"Warning, empty test fold {i} ({t}), all ok since {ok_in_a_row} folds ago\", file=sys.stderr)\n",
    "        if ok_in_a_row > max_ok_in_a_row[0]:\n",
    "            max_ok_in_a_row = (ok_in_a_row, t)\n",
    "        ok_in_a_row = best_in_a_row = 0\n",
    "    elif len(open_proposals) < WARNING_AT_LEAST_OPEN:\n",
    "        print(f\"Warning, test fold {i} ({t}) with less than {WARNING_AT_LEAST_OPEN} open proposals ({len(open_proposals)}). all ok since {best_in_a_row} folds ago\", file=sys.stderr)\n",
    "        best_in_a_row = 0\n",
    "\n",
    "    mdict = {'fold': t}\n",
    "    pdict = {'fold': t}\n",
    "    model = OpenPop(train)\n",
    "    recs = model.recommend_k_items(test['userID'].unique(), max(K_RECOMMENDATIONS), recommend_from=open_proposals)\n",
    "    mdict |= calculate_all_metrics(test, recs, K_RECOMMENDATIONS)\n",
    "        # for m, f in metrics_f.items():\n",
    "        #     r = f(test, recs, k=k_recs)\n",
    "        #     metrics[m+f'@{k_recs}'].append(r)\n",
    "    \n",
    "    recs = test.copy()\n",
    "    recs['prediction'] = 1\n",
    "    pdict |= calculate_all_metrics(test, recs, K_RECOMMENDATIONS)\n",
    "\n",
    "        # for m, f in metrics_f.items():\n",
    "        #     # Need relevancy_method=None as they are unsorted\n",
    "        #     r = f(test, recs, k=k_recs)\n",
    "        #     perfectmetrics[m+f'@{k_recs}'].append(r)\n",
    "\n",
    "    metrics.append(mdict)\n",
    "    perfectmetrics.append(pdict)\n",
    "    ok_in_a_row += 1\n",
    "    best_in_a_row += 1\n",
    "\n",
    "paths.save_dao_datum(ORG_NAME, 'max_ok_folds', str(max_ok_in_a_row[0]))\n",
    "paths.save_dao_datum(ORG_NAME, 'max_ok_folds_date', str(max_ok_in_a_row[1]))\n",
    "if max_ok_in_a_row == -1:\n",
    "    print(\"All ok :>\")\n",
    "else:\n",
    "    print(\"Max ok in a row:\", max_ok_in_a_row)"
   ]
  },
  {
   "cell_type": "markdown",
   "id": "d4375f95",
   "metadata": {
    "papermill": {
     "duration": 0.004853,
     "end_time": "2024-09-05T09:00:00.104133",
     "exception": false,
     "start_time": "2024-09-05T09:00:00.099280",
     "status": "completed"
    },
    "tags": []
   },
   "source": [
    "### Caching these results"
   ]
  },
  {
   "cell_type": "code",
   "execution_count": 10,
   "id": "bc67e27a",
   "metadata": {
    "execution": {
     "iopub.execute_input": "2024-09-05T09:00:00.114091Z",
     "iopub.status.busy": "2024-09-05T09:00:00.113984Z",
     "iopub.status.idle": "2024-09-05T09:00:00.141085Z",
     "shell.execute_reply": "2024-09-05T09:00:00.140848Z"
    },
    "papermill": {
     "duration": 0.032944,
     "end_time": "2024-09-05T09:00:00.141788",
     "exception": false,
     "start_time": "2024-09-05T09:00:00.108844",
     "status": "completed"
    },
    "tags": []
   },
   "outputs": [
    {
     "name": "stdout",
     "output_type": "stream",
     "text": [
      "Saved dataframe into /home/daviddavo/recsys4daos/data/output/DEAD FoundationsDAO/baseline/openpop_2d_normalize.parquet\n"
     ]
    },
    {
     "data": {
      "text/html": [
       "<div>\n",
       "<style scoped>\n",
       "    .dataframe tbody tr th:only-of-type {\n",
       "        vertical-align: middle;\n",
       "    }\n",
       "\n",
       "    .dataframe tbody tr th {\n",
       "        vertical-align: top;\n",
       "    }\n",
       "\n",
       "    .dataframe thead th {\n",
       "        text-align: right;\n",
       "    }\n",
       "</style>\n",
       "<table border=\"1\" class=\"dataframe\">\n",
       "  <thead>\n",
       "    <tr style=\"text-align: right;\">\n",
       "      <th></th>\n",
       "      <th>precision@1</th>\n",
       "      <th>precision@3</th>\n",
       "      <th>precision@5</th>\n",
       "      <th>precision@10</th>\n",
       "      <th>precision@15</th>\n",
       "      <th>precision@100</th>\n",
       "      <th>ndcg@1</th>\n",
       "      <th>ndcg@3</th>\n",
       "      <th>ndcg@5</th>\n",
       "      <th>ndcg@10</th>\n",
       "      <th>...</th>\n",
       "      <th>recall@10</th>\n",
       "      <th>recall@15</th>\n",
       "      <th>recall@100</th>\n",
       "      <th>r-precision@1</th>\n",
       "      <th>r-precision@3</th>\n",
       "      <th>r-precision@5</th>\n",
       "      <th>r-precision@10</th>\n",
       "      <th>r-precision@15</th>\n",
       "      <th>r-precision@100</th>\n",
       "      <th>time_eval</th>\n",
       "    </tr>\n",
       "  </thead>\n",
       "  <tbody>\n",
       "    <tr>\n",
       "      <th>count</th>\n",
       "      <td>304.000000</td>\n",
       "      <td>304.000000</td>\n",
       "      <td>304.000000</td>\n",
       "      <td>304.000000</td>\n",
       "      <td>304.000000</td>\n",
       "      <td>304.000000</td>\n",
       "      <td>304.000000</td>\n",
       "      <td>304.000000</td>\n",
       "      <td>304.000000</td>\n",
       "      <td>304.000000</td>\n",
       "      <td>...</td>\n",
       "      <td>304.000000</td>\n",
       "      <td>304.000000</td>\n",
       "      <td>304.000000</td>\n",
       "      <td>304.000000</td>\n",
       "      <td>299.000000</td>\n",
       "      <td>296.000000</td>\n",
       "      <td>294.000000</td>\n",
       "      <td>291.000000</td>\n",
       "      <td>288.000000</td>\n",
       "      <td>304.000000</td>\n",
       "    </tr>\n",
       "    <tr>\n",
       "      <th>mean</th>\n",
       "      <td>0.010685</td>\n",
       "      <td>0.007328</td>\n",
       "      <td>0.005226</td>\n",
       "      <td>0.002711</td>\n",
       "      <td>0.001958</td>\n",
       "      <td>0.000629</td>\n",
       "      <td>0.010575</td>\n",
       "      <td>0.015811</td>\n",
       "      <td>0.016911</td>\n",
       "      <td>0.017037</td>\n",
       "      <td>...</td>\n",
       "      <td>0.021441</td>\n",
       "      <td>0.022066</td>\n",
       "      <td>0.028776</td>\n",
       "      <td>0.017701</td>\n",
       "      <td>0.023786</td>\n",
       "      <td>0.024027</td>\n",
       "      <td>0.024206</td>\n",
       "      <td>0.024488</td>\n",
       "      <td>0.025566</td>\n",
       "      <td>0.078843</td>\n",
       "    </tr>\n",
       "    <tr>\n",
       "      <th>std</th>\n",
       "      <td>0.099607</td>\n",
       "      <td>0.044354</td>\n",
       "      <td>0.033173</td>\n",
       "      <td>0.016631</td>\n",
       "      <td>0.011227</td>\n",
       "      <td>0.004279</td>\n",
       "      <td>0.099416</td>\n",
       "      <td>0.108910</td>\n",
       "      <td>0.112861</td>\n",
       "      <td>0.112853</td>\n",
       "      <td>...</td>\n",
       "      <td>0.130748</td>\n",
       "      <td>0.130877</td>\n",
       "      <td>0.137614</td>\n",
       "      <td>0.128691</td>\n",
       "      <td>0.135947</td>\n",
       "      <td>0.136615</td>\n",
       "      <td>0.137064</td>\n",
       "      <td>0.137747</td>\n",
       "      <td>0.139110</td>\n",
       "      <td>0.027289</td>\n",
       "    </tr>\n",
       "    <tr>\n",
       "      <th>min</th>\n",
       "      <td>0.000000</td>\n",
       "      <td>0.000000</td>\n",
       "      <td>0.000000</td>\n",
       "      <td>0.000000</td>\n",
       "      <td>0.000000</td>\n",
       "      <td>0.000000</td>\n",
       "      <td>0.000000</td>\n",
       "      <td>0.000000</td>\n",
       "      <td>0.000000</td>\n",
       "      <td>0.000000</td>\n",
       "      <td>...</td>\n",
       "      <td>0.000000</td>\n",
       "      <td>0.000000</td>\n",
       "      <td>0.000000</td>\n",
       "      <td>0.000000</td>\n",
       "      <td>0.000000</td>\n",
       "      <td>0.000000</td>\n",
       "      <td>0.000000</td>\n",
       "      <td>0.000000</td>\n",
       "      <td>0.000000</td>\n",
       "      <td>0.067575</td>\n",
       "    </tr>\n",
       "    <tr>\n",
       "      <th>25%</th>\n",
       "      <td>0.000000</td>\n",
       "      <td>0.000000</td>\n",
       "      <td>0.000000</td>\n",
       "      <td>0.000000</td>\n",
       "      <td>0.000000</td>\n",
       "      <td>0.000000</td>\n",
       "      <td>0.000000</td>\n",
       "      <td>0.000000</td>\n",
       "      <td>0.000000</td>\n",
       "      <td>0.000000</td>\n",
       "      <td>...</td>\n",
       "      <td>0.000000</td>\n",
       "      <td>0.000000</td>\n",
       "      <td>0.000000</td>\n",
       "      <td>0.000000</td>\n",
       "      <td>0.000000</td>\n",
       "      <td>0.000000</td>\n",
       "      <td>0.000000</td>\n",
       "      <td>0.000000</td>\n",
       "      <td>0.000000</td>\n",
       "      <td>0.068737</td>\n",
       "    </tr>\n",
       "    <tr>\n",
       "      <th>50%</th>\n",
       "      <td>0.000000</td>\n",
       "      <td>0.000000</td>\n",
       "      <td>0.000000</td>\n",
       "      <td>0.000000</td>\n",
       "      <td>0.000000</td>\n",
       "      <td>0.000000</td>\n",
       "      <td>0.000000</td>\n",
       "      <td>0.000000</td>\n",
       "      <td>0.000000</td>\n",
       "      <td>0.000000</td>\n",
       "      <td>...</td>\n",
       "      <td>0.000000</td>\n",
       "      <td>0.000000</td>\n",
       "      <td>0.000000</td>\n",
       "      <td>0.000000</td>\n",
       "      <td>0.000000</td>\n",
       "      <td>0.000000</td>\n",
       "      <td>0.000000</td>\n",
       "      <td>0.000000</td>\n",
       "      <td>0.000000</td>\n",
       "      <td>0.069511</td>\n",
       "    </tr>\n",
       "    <tr>\n",
       "      <th>75%</th>\n",
       "      <td>0.000000</td>\n",
       "      <td>0.000000</td>\n",
       "      <td>0.000000</td>\n",
       "      <td>0.000000</td>\n",
       "      <td>0.000000</td>\n",
       "      <td>0.000000</td>\n",
       "      <td>0.000000</td>\n",
       "      <td>0.000000</td>\n",
       "      <td>0.000000</td>\n",
       "      <td>0.000000</td>\n",
       "      <td>...</td>\n",
       "      <td>0.000000</td>\n",
       "      <td>0.000000</td>\n",
       "      <td>0.000000</td>\n",
       "      <td>0.000000</td>\n",
       "      <td>0.000000</td>\n",
       "      <td>0.000000</td>\n",
       "      <td>0.000000</td>\n",
       "      <td>0.000000</td>\n",
       "      <td>0.000000</td>\n",
       "      <td>0.071404</td>\n",
       "    </tr>\n",
       "    <tr>\n",
       "      <th>max</th>\n",
       "      <td>1.000000</td>\n",
       "      <td>0.333333</td>\n",
       "      <td>0.400000</td>\n",
       "      <td>0.200000</td>\n",
       "      <td>0.133333</td>\n",
       "      <td>0.067500</td>\n",
       "      <td>1.000000</td>\n",
       "      <td>1.000000</td>\n",
       "      <td>1.000000</td>\n",
       "      <td>1.000000</td>\n",
       "      <td>...</td>\n",
       "      <td>1.000000</td>\n",
       "      <td>1.000000</td>\n",
       "      <td>1.000000</td>\n",
       "      <td>1.000000</td>\n",
       "      <td>1.000000</td>\n",
       "      <td>1.000000</td>\n",
       "      <td>1.000000</td>\n",
       "      <td>1.000000</td>\n",
       "      <td>1.000000</td>\n",
       "      <td>0.244763</td>\n",
       "    </tr>\n",
       "  </tbody>\n",
       "</table>\n",
       "<p>8 rows × 31 columns</p>\n",
       "</div>"
      ],
      "text/plain": [
       "       precision@1  precision@3  precision@5  precision@10  precision@15  \\\n",
       "count   304.000000   304.000000   304.000000    304.000000    304.000000   \n",
       "mean      0.010685     0.007328     0.005226      0.002711      0.001958   \n",
       "std       0.099607     0.044354     0.033173      0.016631      0.011227   \n",
       "min       0.000000     0.000000     0.000000      0.000000      0.000000   \n",
       "25%       0.000000     0.000000     0.000000      0.000000      0.000000   \n",
       "50%       0.000000     0.000000     0.000000      0.000000      0.000000   \n",
       "75%       0.000000     0.000000     0.000000      0.000000      0.000000   \n",
       "max       1.000000     0.333333     0.400000      0.200000      0.133333   \n",
       "\n",
       "       precision@100      ndcg@1      ndcg@3      ndcg@5     ndcg@10  ...  \\\n",
       "count     304.000000  304.000000  304.000000  304.000000  304.000000  ...   \n",
       "mean        0.000629    0.010575    0.015811    0.016911    0.017037  ...   \n",
       "std         0.004279    0.099416    0.108910    0.112861    0.112853  ...   \n",
       "min         0.000000    0.000000    0.000000    0.000000    0.000000  ...   \n",
       "25%         0.000000    0.000000    0.000000    0.000000    0.000000  ...   \n",
       "50%         0.000000    0.000000    0.000000    0.000000    0.000000  ...   \n",
       "75%         0.000000    0.000000    0.000000    0.000000    0.000000  ...   \n",
       "max         0.067500    1.000000    1.000000    1.000000    1.000000  ...   \n",
       "\n",
       "        recall@10   recall@15  recall@100  r-precision@1  r-precision@3  \\\n",
       "count  304.000000  304.000000  304.000000     304.000000     299.000000   \n",
       "mean     0.021441    0.022066    0.028776       0.017701       0.023786   \n",
       "std      0.130748    0.130877    0.137614       0.128691       0.135947   \n",
       "min      0.000000    0.000000    0.000000       0.000000       0.000000   \n",
       "25%      0.000000    0.000000    0.000000       0.000000       0.000000   \n",
       "50%      0.000000    0.000000    0.000000       0.000000       0.000000   \n",
       "75%      0.000000    0.000000    0.000000       0.000000       0.000000   \n",
       "max      1.000000    1.000000    1.000000       1.000000       1.000000   \n",
       "\n",
       "       r-precision@5  r-precision@10  r-precision@15  r-precision@100  \\\n",
       "count     296.000000      294.000000      291.000000       288.000000   \n",
       "mean        0.024027        0.024206        0.024488         0.025566   \n",
       "std         0.136615        0.137064        0.137747         0.139110   \n",
       "min         0.000000        0.000000        0.000000         0.000000   \n",
       "25%         0.000000        0.000000        0.000000         0.000000   \n",
       "50%         0.000000        0.000000        0.000000         0.000000   \n",
       "75%         0.000000        0.000000        0.000000         0.000000   \n",
       "max         1.000000        1.000000        1.000000         1.000000   \n",
       "\n",
       "        time_eval  \n",
       "count  304.000000  \n",
       "mean     0.078843  \n",
       "std      0.027289  \n",
       "min      0.067575  \n",
       "25%      0.068737  \n",
       "50%      0.069511  \n",
       "75%      0.071404  \n",
       "max      0.244763  \n",
       "\n",
       "[8 rows x 31 columns]"
      ]
     },
     "execution_count": 10,
     "metadata": {},
     "output_type": "execute_result"
    }
   ],
   "source": [
    "odf = pd.DataFrame(metrics).set_index(\"fold\")\n",
    "paths.save_openpop(odf, ORG_NAME, SPLITS_FREQ, SPLITS_NORMALIZE)\n",
    "odf.describe()"
   ]
  },
  {
   "cell_type": "code",
   "execution_count": 11,
   "id": "c7cfe897",
   "metadata": {
    "execution": {
     "iopub.execute_input": "2024-09-05T09:00:00.151963Z",
     "iopub.status.busy": "2024-09-05T09:00:00.151868Z",
     "iopub.status.idle": "2024-09-05T09:00:00.177935Z",
     "shell.execute_reply": "2024-09-05T09:00:00.177741Z"
    },
    "papermill": {
     "duration": 0.032423,
     "end_time": "2024-09-05T09:00:00.179077",
     "exception": false,
     "start_time": "2024-09-05T09:00:00.146654",
     "status": "completed"
    },
    "tags": []
   },
   "outputs": [
    {
     "name": "stdout",
     "output_type": "stream",
     "text": [
      "Saved dataframe into /home/daviddavo/recsys4daos/data/output/DEAD FoundationsDAO/baseline/perfect_2d_normalize.parquet\n"
     ]
    },
    {
     "data": {
      "text/html": [
       "<div>\n",
       "<style scoped>\n",
       "    .dataframe tbody tr th:only-of-type {\n",
       "        vertical-align: middle;\n",
       "    }\n",
       "\n",
       "    .dataframe tbody tr th {\n",
       "        vertical-align: top;\n",
       "    }\n",
       "\n",
       "    .dataframe thead th {\n",
       "        text-align: right;\n",
       "    }\n",
       "</style>\n",
       "<table border=\"1\" class=\"dataframe\">\n",
       "  <thead>\n",
       "    <tr style=\"text-align: right;\">\n",
       "      <th></th>\n",
       "      <th>precision@1</th>\n",
       "      <th>precision@3</th>\n",
       "      <th>precision@5</th>\n",
       "      <th>precision@10</th>\n",
       "      <th>precision@15</th>\n",
       "      <th>precision@100</th>\n",
       "      <th>ndcg@1</th>\n",
       "      <th>ndcg@3</th>\n",
       "      <th>ndcg@5</th>\n",
       "      <th>ndcg@10</th>\n",
       "      <th>...</th>\n",
       "      <th>recall@10</th>\n",
       "      <th>recall@15</th>\n",
       "      <th>recall@100</th>\n",
       "      <th>r-precision@1</th>\n",
       "      <th>r-precision@3</th>\n",
       "      <th>r-precision@5</th>\n",
       "      <th>r-precision@10</th>\n",
       "      <th>r-precision@15</th>\n",
       "      <th>r-precision@100</th>\n",
       "      <th>time_eval</th>\n",
       "    </tr>\n",
       "  </thead>\n",
       "  <tbody>\n",
       "    <tr>\n",
       "      <th>count</th>\n",
       "      <td>304.000000</td>\n",
       "      <td>304.000000</td>\n",
       "      <td>304.000000</td>\n",
       "      <td>304.000000</td>\n",
       "      <td>304.000000</td>\n",
       "      <td>304.000000</td>\n",
       "      <td>304.000000</td>\n",
       "      <td>304.000000</td>\n",
       "      <td>304.000000</td>\n",
       "      <td>304.000000</td>\n",
       "      <td>...</td>\n",
       "      <td>304.000000</td>\n",
       "      <td>304.000000</td>\n",
       "      <td>304.000000</td>\n",
       "      <td>304.000000</td>\n",
       "      <td>304.000000</td>\n",
       "      <td>304.000000</td>\n",
       "      <td>304.000000</td>\n",
       "      <td>304.000000</td>\n",
       "      <td>304.000000</td>\n",
       "      <td>304.000000</td>\n",
       "    </tr>\n",
       "    <tr>\n",
       "      <th>mean</th>\n",
       "      <td>0.539474</td>\n",
       "      <td>0.406395</td>\n",
       "      <td>0.373810</td>\n",
       "      <td>0.348256</td>\n",
       "      <td>0.318277</td>\n",
       "      <td>0.050432</td>\n",
       "      <td>0.539474</td>\n",
       "      <td>0.539474</td>\n",
       "      <td>0.539474</td>\n",
       "      <td>0.539474</td>\n",
       "      <td>...</td>\n",
       "      <td>0.444244</td>\n",
       "      <td>0.534757</td>\n",
       "      <td>0.538706</td>\n",
       "      <td>0.224262</td>\n",
       "      <td>0.283973</td>\n",
       "      <td>0.330358</td>\n",
       "      <td>0.444244</td>\n",
       "      <td>0.534757</td>\n",
       "      <td>0.538706</td>\n",
       "      <td>0.101638</td>\n",
       "    </tr>\n",
       "    <tr>\n",
       "      <th>std</th>\n",
       "      <td>0.499261</td>\n",
       "      <td>0.436153</td>\n",
       "      <td>0.440025</td>\n",
       "      <td>0.448782</td>\n",
       "      <td>0.422633</td>\n",
       "      <td>0.067677</td>\n",
       "      <td>0.499261</td>\n",
       "      <td>0.499261</td>\n",
       "      <td>0.499261</td>\n",
       "      <td>0.499261</td>\n",
       "      <td>...</td>\n",
       "      <td>0.424444</td>\n",
       "      <td>0.496402</td>\n",
       "      <td>0.498636</td>\n",
       "      <td>0.371512</td>\n",
       "      <td>0.381429</td>\n",
       "      <td>0.381138</td>\n",
       "      <td>0.424444</td>\n",
       "      <td>0.496402</td>\n",
       "      <td>0.498636</td>\n",
       "      <td>0.027559</td>\n",
       "    </tr>\n",
       "    <tr>\n",
       "      <th>min</th>\n",
       "      <td>0.000000</td>\n",
       "      <td>0.000000</td>\n",
       "      <td>0.000000</td>\n",
       "      <td>0.000000</td>\n",
       "      <td>0.000000</td>\n",
       "      <td>0.000000</td>\n",
       "      <td>0.000000</td>\n",
       "      <td>0.000000</td>\n",
       "      <td>0.000000</td>\n",
       "      <td>0.000000</td>\n",
       "      <td>...</td>\n",
       "      <td>0.000000</td>\n",
       "      <td>0.000000</td>\n",
       "      <td>0.000000</td>\n",
       "      <td>0.000000</td>\n",
       "      <td>0.000000</td>\n",
       "      <td>0.000000</td>\n",
       "      <td>0.000000</td>\n",
       "      <td>0.000000</td>\n",
       "      <td>0.000000</td>\n",
       "      <td>0.071084</td>\n",
       "    </tr>\n",
       "    <tr>\n",
       "      <th>25%</th>\n",
       "      <td>0.000000</td>\n",
       "      <td>0.000000</td>\n",
       "      <td>0.000000</td>\n",
       "      <td>0.000000</td>\n",
       "      <td>0.000000</td>\n",
       "      <td>0.000000</td>\n",
       "      <td>0.000000</td>\n",
       "      <td>0.000000</td>\n",
       "      <td>0.000000</td>\n",
       "      <td>0.000000</td>\n",
       "      <td>...</td>\n",
       "      <td>0.000000</td>\n",
       "      <td>0.000000</td>\n",
       "      <td>0.000000</td>\n",
       "      <td>0.000000</td>\n",
       "      <td>0.000000</td>\n",
       "      <td>0.000000</td>\n",
       "      <td>0.000000</td>\n",
       "      <td>0.000000</td>\n",
       "      <td>0.000000</td>\n",
       "      <td>0.072024</td>\n",
       "    </tr>\n",
       "    <tr>\n",
       "      <th>50%</th>\n",
       "      <td>1.000000</td>\n",
       "      <td>0.333333</td>\n",
       "      <td>0.200000</td>\n",
       "      <td>0.100000</td>\n",
       "      <td>0.066667</td>\n",
       "      <td>0.010000</td>\n",
       "      <td>1.000000</td>\n",
       "      <td>1.000000</td>\n",
       "      <td>1.000000</td>\n",
       "      <td>1.000000</td>\n",
       "      <td>...</td>\n",
       "      <td>0.714286</td>\n",
       "      <td>0.990989</td>\n",
       "      <td>1.000000</td>\n",
       "      <td>0.071429</td>\n",
       "      <td>0.214286</td>\n",
       "      <td>0.357143</td>\n",
       "      <td>0.714286</td>\n",
       "      <td>0.990989</td>\n",
       "      <td>1.000000</td>\n",
       "      <td>0.119571</td>\n",
       "    </tr>\n",
       "    <tr>\n",
       "      <th>75%</th>\n",
       "      <td>1.000000</td>\n",
       "      <td>1.000000</td>\n",
       "      <td>1.000000</td>\n",
       "      <td>1.000000</td>\n",
       "      <td>0.933333</td>\n",
       "      <td>0.140000</td>\n",
       "      <td>1.000000</td>\n",
       "      <td>1.000000</td>\n",
       "      <td>1.000000</td>\n",
       "      <td>1.000000</td>\n",
       "      <td>...</td>\n",
       "      <td>0.714286</td>\n",
       "      <td>1.000000</td>\n",
       "      <td>1.000000</td>\n",
       "      <td>0.071429</td>\n",
       "      <td>0.214286</td>\n",
       "      <td>0.357143</td>\n",
       "      <td>0.714286</td>\n",
       "      <td>1.000000</td>\n",
       "      <td>1.000000</td>\n",
       "      <td>0.125560</td>\n",
       "    </tr>\n",
       "    <tr>\n",
       "      <th>max</th>\n",
       "      <td>1.000000</td>\n",
       "      <td>1.000000</td>\n",
       "      <td>1.000000</td>\n",
       "      <td>1.000000</td>\n",
       "      <td>1.000000</td>\n",
       "      <td>0.300000</td>\n",
       "      <td>1.000000</td>\n",
       "      <td>1.000000</td>\n",
       "      <td>1.000000</td>\n",
       "      <td>1.000000</td>\n",
       "      <td>...</td>\n",
       "      <td>1.000000</td>\n",
       "      <td>1.000000</td>\n",
       "      <td>1.000000</td>\n",
       "      <td>1.000000</td>\n",
       "      <td>1.000000</td>\n",
       "      <td>1.000000</td>\n",
       "      <td>1.000000</td>\n",
       "      <td>1.000000</td>\n",
       "      <td>1.000000</td>\n",
       "      <td>0.153125</td>\n",
       "    </tr>\n",
       "  </tbody>\n",
       "</table>\n",
       "<p>8 rows × 31 columns</p>\n",
       "</div>"
      ],
      "text/plain": [
       "       precision@1  precision@3  precision@5  precision@10  precision@15  \\\n",
       "count   304.000000   304.000000   304.000000    304.000000    304.000000   \n",
       "mean      0.539474     0.406395     0.373810      0.348256      0.318277   \n",
       "std       0.499261     0.436153     0.440025      0.448782      0.422633   \n",
       "min       0.000000     0.000000     0.000000      0.000000      0.000000   \n",
       "25%       0.000000     0.000000     0.000000      0.000000      0.000000   \n",
       "50%       1.000000     0.333333     0.200000      0.100000      0.066667   \n",
       "75%       1.000000     1.000000     1.000000      1.000000      0.933333   \n",
       "max       1.000000     1.000000     1.000000      1.000000      1.000000   \n",
       "\n",
       "       precision@100      ndcg@1      ndcg@3      ndcg@5     ndcg@10  ...  \\\n",
       "count     304.000000  304.000000  304.000000  304.000000  304.000000  ...   \n",
       "mean        0.050432    0.539474    0.539474    0.539474    0.539474  ...   \n",
       "std         0.067677    0.499261    0.499261    0.499261    0.499261  ...   \n",
       "min         0.000000    0.000000    0.000000    0.000000    0.000000  ...   \n",
       "25%         0.000000    0.000000    0.000000    0.000000    0.000000  ...   \n",
       "50%         0.010000    1.000000    1.000000    1.000000    1.000000  ...   \n",
       "75%         0.140000    1.000000    1.000000    1.000000    1.000000  ...   \n",
       "max         0.300000    1.000000    1.000000    1.000000    1.000000  ...   \n",
       "\n",
       "        recall@10   recall@15  recall@100  r-precision@1  r-precision@3  \\\n",
       "count  304.000000  304.000000  304.000000     304.000000     304.000000   \n",
       "mean     0.444244    0.534757    0.538706       0.224262       0.283973   \n",
       "std      0.424444    0.496402    0.498636       0.371512       0.381429   \n",
       "min      0.000000    0.000000    0.000000       0.000000       0.000000   \n",
       "25%      0.000000    0.000000    0.000000       0.000000       0.000000   \n",
       "50%      0.714286    0.990989    1.000000       0.071429       0.214286   \n",
       "75%      0.714286    1.000000    1.000000       0.071429       0.214286   \n",
       "max      1.000000    1.000000    1.000000       1.000000       1.000000   \n",
       "\n",
       "       r-precision@5  r-precision@10  r-precision@15  r-precision@100  \\\n",
       "count     304.000000      304.000000      304.000000       304.000000   \n",
       "mean        0.330358        0.444244        0.534757         0.538706   \n",
       "std         0.381138        0.424444        0.496402         0.498636   \n",
       "min         0.000000        0.000000        0.000000         0.000000   \n",
       "25%         0.000000        0.000000        0.000000         0.000000   \n",
       "50%         0.357143        0.714286        0.990989         1.000000   \n",
       "75%         0.357143        0.714286        1.000000         1.000000   \n",
       "max         1.000000        1.000000        1.000000         1.000000   \n",
       "\n",
       "        time_eval  \n",
       "count  304.000000  \n",
       "mean     0.101638  \n",
       "std      0.027559  \n",
       "min      0.071084  \n",
       "25%      0.072024  \n",
       "50%      0.119571  \n",
       "75%      0.125560  \n",
       "max      0.153125  \n",
       "\n",
       "[8 rows x 31 columns]"
      ]
     },
     "metadata": {},
     "output_type": "display_data"
    }
   ],
   "source": [
    "pdf = pd.DataFrame(perfectmetrics).set_index(\"fold\")\n",
    "cols = [ c for c in pdf.columns if not c.startswith('time_') ]\n",
    "paths.save_perfect(pdf, ORG_NAME, SPLITS_FREQ, SPLITS_NORMALIZE)\n",
    "display(pdf.describe())\n",
    "msk = (0 <= pdf[cols].min()) & (pdf[cols].max() <= 1)\n",
    "if not all(msk):\n",
    "    display(pdf.describe()[msk[~msk].index])\n",
    "assert all( msk ), \"There are metrics with wrong range\""
   ]
  },
  {
   "cell_type": "markdown",
   "id": "c0fecab6",
   "metadata": {
    "papermill": {
     "duration": 0.005031,
     "end_time": "2024-09-05T09:00:00.189097",
     "exception": false,
     "start_time": "2024-09-05T09:00:00.184066",
     "status": "completed"
    },
    "tags": []
   },
   "source": [
    "## Plotting some graphs"
   ]
  },
  {
   "cell_type": "code",
   "execution_count": 12,
   "id": "6c175a58",
   "metadata": {
    "execution": {
     "iopub.execute_input": "2024-09-05T09:00:00.199475Z",
     "iopub.status.busy": "2024-09-05T09:00:00.199392Z",
     "iopub.status.idle": "2024-09-05T09:00:00.331048Z",
     "shell.execute_reply": "2024-09-05T09:00:00.330609Z"
    },
    "papermill": {
     "duration": 0.137773,
     "end_time": "2024-09-05T09:00:00.331807",
     "exception": false,
     "start_time": "2024-09-05T09:00:00.194034",
     "status": "completed"
    },
    "tags": []
   },
   "outputs": [
    {
     "data": {
      "text/html": [
       "<div>\n",
       "<style scoped>\n",
       "    .dataframe tbody tr th:only-of-type {\n",
       "        vertical-align: middle;\n",
       "    }\n",
       "\n",
       "    .dataframe tbody tr th {\n",
       "        vertical-align: top;\n",
       "    }\n",
       "\n",
       "    .dataframe thead th {\n",
       "        text-align: right;\n",
       "    }\n",
       "</style>\n",
       "<table border=\"1\" class=\"dataframe\">\n",
       "  <thead>\n",
       "    <tr style=\"text-align: right;\">\n",
       "      <th></th>\n",
       "      <th>fold</th>\n",
       "      <th>precision@1</th>\n",
       "      <th>precision@3</th>\n",
       "      <th>precision@5</th>\n",
       "      <th>precision@10</th>\n",
       "      <th>precision@15</th>\n",
       "      <th>precision@100</th>\n",
       "      <th>ndcg@1</th>\n",
       "      <th>ndcg@3</th>\n",
       "      <th>ndcg@5</th>\n",
       "      <th>...</th>\n",
       "      <th>recall@100</th>\n",
       "      <th>r-precision@1</th>\n",
       "      <th>r-precision@3</th>\n",
       "      <th>r-precision@5</th>\n",
       "      <th>r-precision@10</th>\n",
       "      <th>r-precision@15</th>\n",
       "      <th>r-precision@100</th>\n",
       "      <th>time_eval</th>\n",
       "      <th>perfect precision@5</th>\n",
       "      <th>perfect precision@10</th>\n",
       "    </tr>\n",
       "  </thead>\n",
       "  <tbody>\n",
       "    <tr>\n",
       "      <th>count</th>\n",
       "      <td>304</td>\n",
       "      <td>304.000000</td>\n",
       "      <td>304.000000</td>\n",
       "      <td>304.000000</td>\n",
       "      <td>304.000000</td>\n",
       "      <td>304.000000</td>\n",
       "      <td>304.000000</td>\n",
       "      <td>304.000000</td>\n",
       "      <td>304.000000</td>\n",
       "      <td>304.000000</td>\n",
       "      <td>...</td>\n",
       "      <td>304.000000</td>\n",
       "      <td>304.000000</td>\n",
       "      <td>299.000000</td>\n",
       "      <td>296.000000</td>\n",
       "      <td>294.000000</td>\n",
       "      <td>291.000000</td>\n",
       "      <td>288.000000</td>\n",
       "      <td>304.000000</td>\n",
       "      <td>0.0</td>\n",
       "      <td>0.0</td>\n",
       "    </tr>\n",
       "    <tr>\n",
       "      <th>mean</th>\n",
       "      <td>2021-09-24 00:00:00</td>\n",
       "      <td>0.010685</td>\n",
       "      <td>0.007328</td>\n",
       "      <td>0.005226</td>\n",
       "      <td>0.002711</td>\n",
       "      <td>0.001958</td>\n",
       "      <td>0.000629</td>\n",
       "      <td>0.010575</td>\n",
       "      <td>0.015811</td>\n",
       "      <td>0.016911</td>\n",
       "      <td>...</td>\n",
       "      <td>0.028776</td>\n",
       "      <td>0.017701</td>\n",
       "      <td>0.023786</td>\n",
       "      <td>0.024027</td>\n",
       "      <td>0.024206</td>\n",
       "      <td>0.024488</td>\n",
       "      <td>0.025566</td>\n",
       "      <td>0.078843</td>\n",
       "      <td>NaN</td>\n",
       "      <td>NaN</td>\n",
       "    </tr>\n",
       "    <tr>\n",
       "      <th>min</th>\n",
       "      <td>2020-11-25 00:00:00</td>\n",
       "      <td>0.000000</td>\n",
       "      <td>0.000000</td>\n",
       "      <td>0.000000</td>\n",
       "      <td>0.000000</td>\n",
       "      <td>0.000000</td>\n",
       "      <td>0.000000</td>\n",
       "      <td>0.000000</td>\n",
       "      <td>0.000000</td>\n",
       "      <td>0.000000</td>\n",
       "      <td>...</td>\n",
       "      <td>0.000000</td>\n",
       "      <td>0.000000</td>\n",
       "      <td>0.000000</td>\n",
       "      <td>0.000000</td>\n",
       "      <td>0.000000</td>\n",
       "      <td>0.000000</td>\n",
       "      <td>0.000000</td>\n",
       "      <td>0.067575</td>\n",
       "      <td>NaN</td>\n",
       "      <td>NaN</td>\n",
       "    </tr>\n",
       "    <tr>\n",
       "      <th>25%</th>\n",
       "      <td>2021-04-25 12:00:00</td>\n",
       "      <td>0.000000</td>\n",
       "      <td>0.000000</td>\n",
       "      <td>0.000000</td>\n",
       "      <td>0.000000</td>\n",
       "      <td>0.000000</td>\n",
       "      <td>0.000000</td>\n",
       "      <td>0.000000</td>\n",
       "      <td>0.000000</td>\n",
       "      <td>0.000000</td>\n",
       "      <td>...</td>\n",
       "      <td>0.000000</td>\n",
       "      <td>0.000000</td>\n",
       "      <td>0.000000</td>\n",
       "      <td>0.000000</td>\n",
       "      <td>0.000000</td>\n",
       "      <td>0.000000</td>\n",
       "      <td>0.000000</td>\n",
       "      <td>0.068737</td>\n",
       "      <td>NaN</td>\n",
       "      <td>NaN</td>\n",
       "    </tr>\n",
       "    <tr>\n",
       "      <th>50%</th>\n",
       "      <td>2021-09-24 00:00:00</td>\n",
       "      <td>0.000000</td>\n",
       "      <td>0.000000</td>\n",
       "      <td>0.000000</td>\n",
       "      <td>0.000000</td>\n",
       "      <td>0.000000</td>\n",
       "      <td>0.000000</td>\n",
       "      <td>0.000000</td>\n",
       "      <td>0.000000</td>\n",
       "      <td>0.000000</td>\n",
       "      <td>...</td>\n",
       "      <td>0.000000</td>\n",
       "      <td>0.000000</td>\n",
       "      <td>0.000000</td>\n",
       "      <td>0.000000</td>\n",
       "      <td>0.000000</td>\n",
       "      <td>0.000000</td>\n",
       "      <td>0.000000</td>\n",
       "      <td>0.069511</td>\n",
       "      <td>NaN</td>\n",
       "      <td>NaN</td>\n",
       "    </tr>\n",
       "    <tr>\n",
       "      <th>75%</th>\n",
       "      <td>2022-02-22 12:00:00</td>\n",
       "      <td>0.000000</td>\n",
       "      <td>0.000000</td>\n",
       "      <td>0.000000</td>\n",
       "      <td>0.000000</td>\n",
       "      <td>0.000000</td>\n",
       "      <td>0.000000</td>\n",
       "      <td>0.000000</td>\n",
       "      <td>0.000000</td>\n",
       "      <td>0.000000</td>\n",
       "      <td>...</td>\n",
       "      <td>0.000000</td>\n",
       "      <td>0.000000</td>\n",
       "      <td>0.000000</td>\n",
       "      <td>0.000000</td>\n",
       "      <td>0.000000</td>\n",
       "      <td>0.000000</td>\n",
       "      <td>0.000000</td>\n",
       "      <td>0.071404</td>\n",
       "      <td>NaN</td>\n",
       "      <td>NaN</td>\n",
       "    </tr>\n",
       "    <tr>\n",
       "      <th>max</th>\n",
       "      <td>2022-07-24 00:00:00</td>\n",
       "      <td>1.000000</td>\n",
       "      <td>0.333333</td>\n",
       "      <td>0.400000</td>\n",
       "      <td>0.200000</td>\n",
       "      <td>0.133333</td>\n",
       "      <td>0.067500</td>\n",
       "      <td>1.000000</td>\n",
       "      <td>1.000000</td>\n",
       "      <td>1.000000</td>\n",
       "      <td>...</td>\n",
       "      <td>1.000000</td>\n",
       "      <td>1.000000</td>\n",
       "      <td>1.000000</td>\n",
       "      <td>1.000000</td>\n",
       "      <td>1.000000</td>\n",
       "      <td>1.000000</td>\n",
       "      <td>1.000000</td>\n",
       "      <td>0.244763</td>\n",
       "      <td>NaN</td>\n",
       "      <td>NaN</td>\n",
       "    </tr>\n",
       "    <tr>\n",
       "      <th>std</th>\n",
       "      <td>NaN</td>\n",
       "      <td>0.099607</td>\n",
       "      <td>0.044354</td>\n",
       "      <td>0.033173</td>\n",
       "      <td>0.016631</td>\n",
       "      <td>0.011227</td>\n",
       "      <td>0.004279</td>\n",
       "      <td>0.099416</td>\n",
       "      <td>0.108910</td>\n",
       "      <td>0.112861</td>\n",
       "      <td>...</td>\n",
       "      <td>0.137614</td>\n",
       "      <td>0.128691</td>\n",
       "      <td>0.135947</td>\n",
       "      <td>0.136615</td>\n",
       "      <td>0.137064</td>\n",
       "      <td>0.137747</td>\n",
       "      <td>0.139110</td>\n",
       "      <td>0.027289</td>\n",
       "      <td>NaN</td>\n",
       "      <td>NaN</td>\n",
       "    </tr>\n",
       "  </tbody>\n",
       "</table>\n",
       "<p>8 rows × 34 columns</p>\n",
       "</div>"
      ],
      "text/plain": [
       "                      fold  precision@1  precision@3  precision@5  \\\n",
       "count                  304   304.000000   304.000000   304.000000   \n",
       "mean   2021-09-24 00:00:00     0.010685     0.007328     0.005226   \n",
       "min    2020-11-25 00:00:00     0.000000     0.000000     0.000000   \n",
       "25%    2021-04-25 12:00:00     0.000000     0.000000     0.000000   \n",
       "50%    2021-09-24 00:00:00     0.000000     0.000000     0.000000   \n",
       "75%    2022-02-22 12:00:00     0.000000     0.000000     0.000000   \n",
       "max    2022-07-24 00:00:00     1.000000     0.333333     0.400000   \n",
       "std                    NaN     0.099607     0.044354     0.033173   \n",
       "\n",
       "       precision@10  precision@15  precision@100      ndcg@1      ndcg@3  \\\n",
       "count    304.000000    304.000000     304.000000  304.000000  304.000000   \n",
       "mean       0.002711      0.001958       0.000629    0.010575    0.015811   \n",
       "min        0.000000      0.000000       0.000000    0.000000    0.000000   \n",
       "25%        0.000000      0.000000       0.000000    0.000000    0.000000   \n",
       "50%        0.000000      0.000000       0.000000    0.000000    0.000000   \n",
       "75%        0.000000      0.000000       0.000000    0.000000    0.000000   \n",
       "max        0.200000      0.133333       0.067500    1.000000    1.000000   \n",
       "std        0.016631      0.011227       0.004279    0.099416    0.108910   \n",
       "\n",
       "           ndcg@5  ...  recall@100  r-precision@1  r-precision@3  \\\n",
       "count  304.000000  ...  304.000000     304.000000     299.000000   \n",
       "mean     0.016911  ...    0.028776       0.017701       0.023786   \n",
       "min      0.000000  ...    0.000000       0.000000       0.000000   \n",
       "25%      0.000000  ...    0.000000       0.000000       0.000000   \n",
       "50%      0.000000  ...    0.000000       0.000000       0.000000   \n",
       "75%      0.000000  ...    0.000000       0.000000       0.000000   \n",
       "max      1.000000  ...    1.000000       1.000000       1.000000   \n",
       "std      0.112861  ...    0.137614       0.128691       0.135947   \n",
       "\n",
       "       r-precision@5  r-precision@10  r-precision@15  r-precision@100  \\\n",
       "count     296.000000      294.000000      291.000000       288.000000   \n",
       "mean        0.024027        0.024206        0.024488         0.025566   \n",
       "min         0.000000        0.000000        0.000000         0.000000   \n",
       "25%         0.000000        0.000000        0.000000         0.000000   \n",
       "50%         0.000000        0.000000        0.000000         0.000000   \n",
       "75%         0.000000        0.000000        0.000000         0.000000   \n",
       "max         1.000000        1.000000        1.000000         1.000000   \n",
       "std         0.136615        0.137064        0.137747         0.139110   \n",
       "\n",
       "        time_eval  perfect precision@5  perfect precision@10  \n",
       "count  304.000000                  0.0                   0.0  \n",
       "mean     0.078843                  NaN                   NaN  \n",
       "min      0.067575                  NaN                   NaN  \n",
       "25%      0.068737                  NaN                   NaN  \n",
       "50%      0.069511                  NaN                   NaN  \n",
       "75%      0.071404                  NaN                   NaN  \n",
       "max      0.244763                  NaN                   NaN  \n",
       "std      0.027289                  NaN                   NaN  \n",
       "\n",
       "[8 rows x 34 columns]"
      ]
     },
     "execution_count": 12,
     "metadata": {},
     "output_type": "execute_result"
    },
    {
     "data": {
      "image/png": "[encoded data removed]",
      "text/plain": [
       "<Figure size 640x480 with 1 Axes>"
      ]
     },
     "metadata": {},
     "output_type": "display_data"
    }
   ],
   "source": [
    "mdf = pd.DataFrame(metrics)\n",
    "mdf['perfect precision@5'] = pdf['precision@5']\n",
    "mdf['perfect precision@10'] = pdf['precision@10']\n",
    "mdf[['precision@5', 'perfect precision@5', 'precision@10', 'perfect precision@10']].plot(title='Evaluación modelo baseline MP')\n",
    "mdf.describe()"
   ]
  },
  {
   "cell_type": "code",
   "execution_count": 13,
   "id": "a6dee0da",
   "metadata": {
    "execution": {
     "iopub.execute_input": "2024-09-05T09:00:00.343830Z",
     "iopub.status.busy": "2024-09-05T09:00:00.343688Z",
     "iopub.status.idle": "2024-09-05T09:00:00.370507Z",
     "shell.execute_reply": "2024-09-05T09:00:00.370202Z"
    },
    "papermill": {
     "duration": 0.033511,
     "end_time": "2024-09-05T09:00:00.371219",
     "exception": false,
     "start_time": "2024-09-05T09:00:00.337708",
     "status": "completed"
    },
    "tags": []
   },
   "outputs": [
    {
     "data": {
      "text/html": [
       "<div>\n",
       "<style scoped>\n",
       "    .dataframe tbody tr th:only-of-type {\n",
       "        vertical-align: middle;\n",
       "    }\n",
       "\n",
       "    .dataframe tbody tr th {\n",
       "        vertical-align: top;\n",
       "    }\n",
       "\n",
       "    .dataframe thead th {\n",
       "        text-align: right;\n",
       "    }\n",
       "</style>\n",
       "<table border=\"1\" class=\"dataframe\">\n",
       "  <thead>\n",
       "    <tr style=\"text-align: right;\">\n",
       "      <th></th>\n",
       "      <th>fold</th>\n",
       "      <th>precision@1</th>\n",
       "      <th>precision@3</th>\n",
       "      <th>precision@5</th>\n",
       "      <th>precision@10</th>\n",
       "      <th>precision@15</th>\n",
       "      <th>precision@100</th>\n",
       "      <th>ndcg@1</th>\n",
       "      <th>ndcg@3</th>\n",
       "      <th>ndcg@5</th>\n",
       "      <th>...</th>\n",
       "      <th>recall@100</th>\n",
       "      <th>r-precision@1</th>\n",
       "      <th>r-precision@3</th>\n",
       "      <th>r-precision@5</th>\n",
       "      <th>r-precision@10</th>\n",
       "      <th>r-precision@15</th>\n",
       "      <th>r-precision@100</th>\n",
       "      <th>time_eval</th>\n",
       "      <th>perfect precision@5</th>\n",
       "      <th>perfect precision@10</th>\n",
       "    </tr>\n",
       "  </thead>\n",
       "  <tbody>\n",
       "    <tr>\n",
       "      <th>count</th>\n",
       "      <td>20</td>\n",
       "      <td>20.0</td>\n",
       "      <td>20.0</td>\n",
       "      <td>20.0</td>\n",
       "      <td>20.0</td>\n",
       "      <td>20.0</td>\n",
       "      <td>20.0</td>\n",
       "      <td>20.0</td>\n",
       "      <td>20.0</td>\n",
       "      <td>20.0</td>\n",
       "      <td>...</td>\n",
       "      <td>20.0</td>\n",
       "      <td>20.0</td>\n",
       "      <td>20.0</td>\n",
       "      <td>20.0</td>\n",
       "      <td>20.0</td>\n",
       "      <td>20.0</td>\n",
       "      <td>20.0</td>\n",
       "      <td>20.000000</td>\n",
       "      <td>0.0</td>\n",
       "      <td>0.0</td>\n",
       "    </tr>\n",
       "    <tr>\n",
       "      <th>mean</th>\n",
       "      <td>2022-07-05 00:00:00</td>\n",
       "      <td>0.0</td>\n",
       "      <td>0.0</td>\n",
       "      <td>0.0</td>\n",
       "      <td>0.0</td>\n",
       "      <td>0.0</td>\n",
       "      <td>0.0</td>\n",
       "      <td>0.0</td>\n",
       "      <td>0.0</td>\n",
       "      <td>0.0</td>\n",
       "      <td>...</td>\n",
       "      <td>0.0</td>\n",
       "      <td>0.0</td>\n",
       "      <td>0.0</td>\n",
       "      <td>0.0</td>\n",
       "      <td>0.0</td>\n",
       "      <td>0.0</td>\n",
       "      <td>0.0</td>\n",
       "      <td>0.069180</td>\n",
       "      <td>NaN</td>\n",
       "      <td>NaN</td>\n",
       "    </tr>\n",
       "    <tr>\n",
       "      <th>min</th>\n",
       "      <td>2022-06-16 00:00:00</td>\n",
       "      <td>0.0</td>\n",
       "      <td>0.0</td>\n",
       "      <td>0.0</td>\n",
       "      <td>0.0</td>\n",
       "      <td>0.0</td>\n",
       "      <td>0.0</td>\n",
       "      <td>0.0</td>\n",
       "      <td>0.0</td>\n",
       "      <td>0.0</td>\n",
       "      <td>...</td>\n",
       "      <td>0.0</td>\n",
       "      <td>0.0</td>\n",
       "      <td>0.0</td>\n",
       "      <td>0.0</td>\n",
       "      <td>0.0</td>\n",
       "      <td>0.0</td>\n",
       "      <td>0.0</td>\n",
       "      <td>0.067741</td>\n",
       "      <td>NaN</td>\n",
       "      <td>NaN</td>\n",
       "    </tr>\n",
       "    <tr>\n",
       "      <th>25%</th>\n",
       "      <td>2022-06-25 12:00:00</td>\n",
       "      <td>0.0</td>\n",
       "      <td>0.0</td>\n",
       "      <td>0.0</td>\n",
       "      <td>0.0</td>\n",
       "      <td>0.0</td>\n",
       "      <td>0.0</td>\n",
       "      <td>0.0</td>\n",
       "      <td>0.0</td>\n",
       "      <td>0.0</td>\n",
       "      <td>...</td>\n",
       "      <td>0.0</td>\n",
       "      <td>0.0</td>\n",
       "      <td>0.0</td>\n",
       "      <td>0.0</td>\n",
       "      <td>0.0</td>\n",
       "      <td>0.0</td>\n",
       "      <td>0.0</td>\n",
       "      <td>0.068388</td>\n",
       "      <td>NaN</td>\n",
       "      <td>NaN</td>\n",
       "    </tr>\n",
       "    <tr>\n",
       "      <th>50%</th>\n",
       "      <td>2022-07-05 00:00:00</td>\n",
       "      <td>0.0</td>\n",
       "      <td>0.0</td>\n",
       "      <td>0.0</td>\n",
       "      <td>0.0</td>\n",
       "      <td>0.0</td>\n",
       "      <td>0.0</td>\n",
       "      <td>0.0</td>\n",
       "      <td>0.0</td>\n",
       "      <td>0.0</td>\n",
       "      <td>...</td>\n",
       "      <td>0.0</td>\n",
       "      <td>0.0</td>\n",
       "      <td>0.0</td>\n",
       "      <td>0.0</td>\n",
       "      <td>0.0</td>\n",
       "      <td>0.0</td>\n",
       "      <td>0.0</td>\n",
       "      <td>0.069066</td>\n",
       "      <td>NaN</td>\n",
       "      <td>NaN</td>\n",
       "    </tr>\n",
       "    <tr>\n",
       "      <th>75%</th>\n",
       "      <td>2022-07-14 12:00:00</td>\n",
       "      <td>0.0</td>\n",
       "      <td>0.0</td>\n",
       "      <td>0.0</td>\n",
       "      <td>0.0</td>\n",
       "      <td>0.0</td>\n",
       "      <td>0.0</td>\n",
       "      <td>0.0</td>\n",
       "      <td>0.0</td>\n",
       "      <td>0.0</td>\n",
       "      <td>...</td>\n",
       "      <td>0.0</td>\n",
       "      <td>0.0</td>\n",
       "      <td>0.0</td>\n",
       "      <td>0.0</td>\n",
       "      <td>0.0</td>\n",
       "      <td>0.0</td>\n",
       "      <td>0.0</td>\n",
       "      <td>0.069663</td>\n",
       "      <td>NaN</td>\n",
       "      <td>NaN</td>\n",
       "    </tr>\n",
       "    <tr>\n",
       "      <th>max</th>\n",
       "      <td>2022-07-24 00:00:00</td>\n",
       "      <td>0.0</td>\n",
       "      <td>0.0</td>\n",
       "      <td>0.0</td>\n",
       "      <td>0.0</td>\n",
       "      <td>0.0</td>\n",
       "      <td>0.0</td>\n",
       "      <td>0.0</td>\n",
       "      <td>0.0</td>\n",
       "      <td>0.0</td>\n",
       "      <td>...</td>\n",
       "      <td>0.0</td>\n",
       "      <td>0.0</td>\n",
       "      <td>0.0</td>\n",
       "      <td>0.0</td>\n",
       "      <td>0.0</td>\n",
       "      <td>0.0</td>\n",
       "      <td>0.0</td>\n",
       "      <td>0.071717</td>\n",
       "      <td>NaN</td>\n",
       "      <td>NaN</td>\n",
       "    </tr>\n",
       "    <tr>\n",
       "      <th>std</th>\n",
       "      <td>NaN</td>\n",
       "      <td>0.0</td>\n",
       "      <td>0.0</td>\n",
       "      <td>0.0</td>\n",
       "      <td>0.0</td>\n",
       "      <td>0.0</td>\n",
       "      <td>0.0</td>\n",
       "      <td>0.0</td>\n",
       "      <td>0.0</td>\n",
       "      <td>0.0</td>\n",
       "      <td>...</td>\n",
       "      <td>0.0</td>\n",
       "      <td>0.0</td>\n",
       "      <td>0.0</td>\n",
       "      <td>0.0</td>\n",
       "      <td>0.0</td>\n",
       "      <td>0.0</td>\n",
       "      <td>0.0</td>\n",
       "      <td>0.001132</td>\n",
       "      <td>NaN</td>\n",
       "      <td>NaN</td>\n",
       "    </tr>\n",
       "  </tbody>\n",
       "</table>\n",
       "<p>8 rows × 34 columns</p>\n",
       "</div>"
      ],
      "text/plain": [
       "                      fold  precision@1  precision@3  precision@5  \\\n",
       "count                   20         20.0         20.0         20.0   \n",
       "mean   2022-07-05 00:00:00          0.0          0.0          0.0   \n",
       "min    2022-06-16 00:00:00          0.0          0.0          0.0   \n",
       "25%    2022-06-25 12:00:00          0.0          0.0          0.0   \n",
       "50%    2022-07-05 00:00:00          0.0          0.0          0.0   \n",
       "75%    2022-07-14 12:00:00          0.0          0.0          0.0   \n",
       "max    2022-07-24 00:00:00          0.0          0.0          0.0   \n",
       "std                    NaN          0.0          0.0          0.0   \n",
       "\n",
       "       precision@10  precision@15  precision@100  ndcg@1  ndcg@3  ndcg@5  ...  \\\n",
       "count          20.0          20.0           20.0    20.0    20.0    20.0  ...   \n",
       "mean            0.0           0.0            0.0     0.0     0.0     0.0  ...   \n",
       "min             0.0           0.0            0.0     0.0     0.0     0.0  ...   \n",
       "25%             0.0           0.0            0.0     0.0     0.0     0.0  ...   \n",
       "50%             0.0           0.0            0.0     0.0     0.0     0.0  ...   \n",
       "75%             0.0           0.0            0.0     0.0     0.0     0.0  ...   \n",
       "max             0.0           0.0            0.0     0.0     0.0     0.0  ...   \n",
       "std             0.0           0.0            0.0     0.0     0.0     0.0  ...   \n",
       "\n",
       "       recall@100  r-precision@1  r-precision@3  r-precision@5  \\\n",
       "count        20.0           20.0           20.0           20.0   \n",
       "mean          0.0            0.0            0.0            0.0   \n",
       "min           0.0            0.0            0.0            0.0   \n",
       "25%           0.0            0.0            0.0            0.0   \n",
       "50%           0.0            0.0            0.0            0.0   \n",
       "75%           0.0            0.0            0.0            0.0   \n",
       "max           0.0            0.0            0.0            0.0   \n",
       "std           0.0            0.0            0.0            0.0   \n",
       "\n",
       "       r-precision@10  r-precision@15  r-precision@100  time_eval  \\\n",
       "count            20.0            20.0             20.0  20.000000   \n",
       "mean              0.0             0.0              0.0   0.069180   \n",
       "min               0.0             0.0              0.0   0.067741   \n",
       "25%               0.0             0.0              0.0   0.068388   \n",
       "50%               0.0             0.0              0.0   0.069066   \n",
       "75%               0.0             0.0              0.0   0.069663   \n",
       "max               0.0             0.0              0.0   0.071717   \n",
       "std               0.0             0.0              0.0   0.001132   \n",
       "\n",
       "       perfect precision@5  perfect precision@10  \n",
       "count                  0.0                   0.0  \n",
       "mean                   NaN                   NaN  \n",
       "min                    NaN                   NaN  \n",
       "25%                    NaN                   NaN  \n",
       "50%                    NaN                   NaN  \n",
       "75%                    NaN                   NaN  \n",
       "max                    NaN                   NaN  \n",
       "std                    NaN                   NaN  \n",
       "\n",
       "[8 rows x 34 columns]"
      ]
     },
     "execution_count": 13,
     "metadata": {},
     "output_type": "execute_result"
    }
   ],
   "source": [
    "mdf[-LAST_FOLDS:].describe()"
   ]
  },
  {
   "cell_type": "code",
   "execution_count": null,
   "id": "828797eb",
   "metadata": {
    "papermill": {
     "duration": 0.005362,
     "end_time": "2024-09-05T09:00:00.382021",
     "exception": false,
     "start_time": "2024-09-05T09:00:00.376659",
     "status": "completed"
    },
    "tags": []
   },
   "outputs": [],
   "source": []
  }
 ],
 "metadata": {
  "kernelspec": {
   "display_name": "Python 3 (ipykernel)",
   "language": "python",
   "name": "python3"
  },
  "language_info": {
   "codemirror_mode": {
    "name": "ipython",
    "version": 3
   },
   "file_extension": ".py",
   "mimetype": "text/x-python",
   "name": "python",
   "nbconvert_exporter": "python",
   "pygments_lexer": "ipython3",
   "version": "3.11.6"
  },
  "papermill": {
   "default_parameters": {},
   "duration": 64.730058,
   "end_time": "2024-09-05T09:00:01.508008",
   "environment_variables": {},
   "exception": null,
   "input_path": "10_baseline.ipynb",
   "output_path": "../nbout/DEAD FoundationsDAO/10_baseline.ipynb",
   "parameters": {
    "EXECUTION_ID": "2024-09-04T10:00",
    "GPUS": 32,
    "LAST_FOLDS": 20,
    "LAST_FOLD_DATE_STR": "2021-11-28",
    "MAX_BATCH_SIZE": 9,
    "ORG_NAME": "DEAD FoundationsDAO",
    "SPLITS_FREQ": "2d",
    "SPLITS_NORMALIZE": true
   },
   "start_time": "2024-09-05T08:58:56.777950",
   "version": "2.6.0"
  },
  "widgets": {
   "application/vnd.jupyter.widget-state+json": {
    "state": {
     "038176c861c9437d85e486ffd08e5ba9": {
      "model_module": "@jupyter-widgets/base",
      "model_module_version": "2.0.0",
      "model_name": "LayoutModel",
      "state": {
       "_model_module": "@jupyter-widgets/base",
       "_model_module_version": "2.0.0",
       "_model_name": "LayoutModel",
       "_view_count": null,
       "_view_module": "@jupyter-widgets/base",
       "_view_module_version": "2.0.0",
       "_view_name": "LayoutView",
       "align_content": null,
       "align_items": null,
       "align_self": null,
       "border_bottom": null,
       "border_left": null,
       "border_right": null,
       "border_top": null,
       "bottom": null,
       "display": null,
       "flex": null,
       "flex_flow": null,
       "grid_area": null,
       "grid_auto_columns": null,
       "grid_auto_flow": null,
       "grid_auto_rows": null,
       "grid_column": null,
       "grid_gap": null,
       "grid_row": null,
       "grid_template_areas": null,
       "grid_template_columns": null,
       "grid_template_rows": null,
       "height": null,
       "justify_content": null,
       "justify_items": null,
       "left": null,
       "margin": null,
       "max_height": null,
       "max_width": null,
       "min_height": null,
       "min_width": null,
       "object_fit": null,
       "object_position": null,
       "order": null,
       "overflow": null,
       "padding": null,
       "right": null,
       "top": null,
       "visibility": null,
       "width": null
      }
     },
     "23289dbec56b405c94f7e6322f776805": {
      "model_module": "@jupyter-widgets/base",
      "model_module_version": "2.0.0",
      "model_name": "LayoutModel",
      "state": {
       "_model_module": "@jupyter-widgets/base",
       "_model_module_version": "2.0.0",
       "_model_name": "LayoutModel",
       "_view_count": null,
       "_view_module": "@jupyter-widgets/base",
       "_view_module_version": "2.0.0",
       "_view_name": "LayoutView",
       "align_content": null,
       "align_items": null,
       "align_self": null,
       "border_bottom": null,
       "border_left": null,
       "border_right": null,
       "border_top": null,
       "bottom": null,
       "display": null,
       "flex": null,
       "flex_flow": null,
       "grid_area": null,
       "grid_auto_columns": null,
       "grid_auto_flow": null,
       "grid_auto_rows": null,
       "grid_column": null,
       "grid_gap": null,
       "grid_row": null,
       "grid_template_areas": null,
       "grid_template_columns": null,
       "grid_template_rows": null,
       "height": null,
       "justify_content": null,
       "justify_items": null,
       "left": null,
       "margin": null,
       "max_height": null,
       "max_width": null,
       "min_height": null,
       "min_width": null,
       "object_fit": null,
       "object_position": null,
       "order": null,
       "overflow": null,
       "padding": null,
       "right": null,
       "top": null,
       "visibility": null,
       "width": null
      }
     },
     "308e093d277a4a1ba5296102d7b447a1": {
      "model_module": "@jupyter-widgets/controls",
      "model_module_version": "2.0.0",
      "model_name": "HBoxModel",
      "state": {
       "_dom_classes": [],
       "_model_module": "@jupyter-widgets/controls",
       "_model_module_version": "2.0.0",
       "_model_name": "HBoxModel",
       "_view_count": null,
       "_view_module": "@jupyter-widgets/controls",
       "_view_module_version": "2.0.0",
       "_view_name": "HBoxView",
       "box_style": "",
       "children": [
        "IPY_MODEL_cbee3b33805e411489b35ad07a496499",
        "IPY_MODEL_70a7e8d11ba14e39a811c90e76025227",
        "IPY_MODEL_ab8cda124af342b9bafc6a4a456e941a"
       ],
       "layout": "IPY_MODEL_30ca658f68cb405cb34cfcdb623f52cc",
       "tabbable": null,
       "tooltip": null
      }
     },
     "30ca658f68cb405cb34cfcdb623f52cc": {
      "model_module": "@jupyter-widgets/base",
      "model_module_version": "2.0.0",
      "model_name": "LayoutModel",
      "state": {
       "_model_module": "@jupyter-widgets/base",
       "_model_module_version": "2.0.0",
       "_model_name": "LayoutModel",
       "_view_count": null,
       "_view_module": "@jupyter-widgets/base",
       "_view_module_version": "2.0.0",
       "_view_name": "LayoutView",
       "align_content": null,
       "align_items": null,
       "align_self": null,
       "border_bottom": null,
       "border_left": null,
       "border_right": null,
       "border_top": null,
       "bottom": null,
       "display": null,
       "flex": null,
       "flex_flow": null,
       "grid_area": null,
       "grid_auto_columns": null,
       "grid_auto_flow": null,
       "grid_auto_rows": null,
       "grid_column": null,
       "grid_gap": null,
       "grid_row": null,
       "grid_template_areas": null,
       "grid_template_columns": null,
       "grid_template_rows": null,
       "height": null,
       "justify_content": null,
       "justify_items": null,
       "left": null,
       "margin": null,
       "max_height": null,
       "max_width": null,
       "min_height": null,
       "min_width": null,
       "object_fit": null,
       "object_position": null,
       "order": null,
       "overflow": null,
       "padding": null,
       "right": null,
       "top": null,
       "visibility": null,
       "width": null
      }
     },
     "6611d10030fe4caba55121dff83b99df": {
      "model_module": "@jupyter-widgets/controls",
      "model_module_version": "2.0.0",
      "model_name": "HTMLStyleModel",
      "state": {
       "_model_module": "@jupyter-widgets/controls",
       "_model_module_version": "2.0.0",
       "_model_name": "HTMLStyleModel",
       "_view_count": null,
       "_view_module": "@jupyter-widgets/base",
       "_view_module_version": "2.0.0",
       "_view_name": "StyleView",
       "background": null,
       "description_width": "",
       "font_size": null,
       "text_color": null
      }
     },
     "70a7e8d11ba14e39a811c90e76025227": {
      "model_module": "@jupyter-widgets/controls",
      "model_module_version": "2.0.0",
      "model_name": "FloatProgressModel",
      "state": {
       "_dom_classes": [],
       "_model_module": "@jupyter-widgets/controls",
       "_model_module_version": "2.0.0",
       "_model_name": "FloatProgressModel",
       "_view_count": null,
       "_view_module": "@jupyter-widgets/controls",
       "_view_module_version": "2.0.0",
       "_view_name": "ProgressView",
       "bar_style": "success",
       "description": "",
       "description_allow_html": false,
       "layout": "IPY_MODEL_23289dbec56b405c94f7e6322f776805",
       "max": 304.0,
       "min": 0.0,
       "orientation": "horizontal",
       "style": "IPY_MODEL_b13823897ea9418897c2964dfa257073",
       "tabbable": null,
       "tooltip": null,
       "value": 304.0
      }
     },
     "a4251110c9ca4de09aa58cf836c8495d": {
      "model_module": "@jupyter-widgets/controls",
      "model_module_version": "2.0.0",
      "model_name": "HTMLStyleModel",
      "state": {
       "_model_module": "@jupyter-widgets/controls",
       "_model_module_version": "2.0.0",
       "_model_name": "HTMLStyleModel",
       "_view_count": null,
       "_view_module": "@jupyter-widgets/base",
       "_view_module_version": "2.0.0",
       "_view_name": "StyleView",
       "background": null,
       "description_width": "",
       "font_size": null,
       "text_color": null
      }
     },
     "ab8cda124af342b9bafc6a4a456e941a": {
      "model_module": "@jupyter-widgets/controls",
      "model_module_version": "2.0.0",
      "model_name": "HTMLModel",
      "state": {
       "_dom_classes": [],
       "_model_module": "@jupyter-widgets/controls",
       "_model_module_version": "2.0.0",
       "_model_name": "HTMLModel",
       "_view_count": null,
       "_view_module": "@jupyter-widgets/controls",
       "_view_module_version": "2.0.0",
       "_view_name": "HTMLView",
       "description": "",
       "description_allow_html": false,
       "layout": "IPY_MODEL_038176c861c9437d85e486ffd08e5ba9",
       "placeholder": "​",
       "style": "IPY_MODEL_6611d10030fe4caba55121dff83b99df",
       "tabbable": null,
       "tooltip": null,
       "value": " 304/304 [00:56&lt;00:00,  6.69it/s]"
      }
     },
     "b13823897ea9418897c2964dfa257073": {
      "model_module": "@jupyter-widgets/controls",
      "model_module_version": "2.0.0",
      "model_name": "ProgressStyleModel",
      "state": {
       "_model_module": "@jupyter-widgets/controls",
       "_model_module_version": "2.0.0",
       "_model_name": "ProgressStyleModel",
       "_view_count": null,
       "_view_module": "@jupyter-widgets/base",
       "_view_module_version": "2.0.0",
       "_view_name": "StyleView",
       "bar_color": null,
       "description_width": ""
      }
     },
     "c1e1bef4cc7647ab9f9549d7a5d58c8d": {
      "model_module": "@jupyter-widgets/base",
      "model_module_version": "2.0.0",
      "model_name": "LayoutModel",
      "state": {
       "_model_module": "@jupyter-widgets/base",
       "_model_module_version": "2.0.0",
       "_model_name": "LayoutModel",
       "_view_count": null,
       "_view_module": "@jupyter-widgets/base",
       "_view_module_version": "2.0.0",
       "_view_name": "LayoutView",
       "align_content": null,
       "align_items": null,
       "align_self": null,
       "border_bottom": null,
       "border_left": null,
       "border_right": null,
       "border_top": null,
       "bottom": null,
       "display": null,
       "flex": null,
       "flex_flow": null,
       "grid_area": null,
       "grid_auto_columns": null,
       "grid_auto_flow": null,
       "grid_auto_rows": null,
       "grid_column": null,
       "grid_gap": null,
       "grid_row": null,
       "grid_template_areas": null,
       "grid_template_columns": null,
       "grid_template_rows": null,
       "height": null,
       "justify_content": null,
       "justify_items": null,
       "left": null,
       "margin": null,
       "max_height": null,
       "max_width": null,
       "min_height": null,
       "min_width": null,
       "object_fit": null,
       "object_position": null,
       "order": null,
       "overflow": null,
       "padding": null,
       "right": null,
       "top": null,
       "visibility": null,
       "width": null
      }
     },
     "cbee3b33805e411489b35ad07a496499": {
      "model_module": "@jupyter-widgets/controls",
      "model_module_version": "2.0.0",
      "model_name": "HTMLModel",
      "state": {
       "_dom_classes": [],
       "_model_module": "@jupyter-widgets/controls",
       "_model_module_version": "2.0.0",
       "_model_name": "HTMLModel",
       "_view_count": null,
       "_view_module": "@jupyter-widgets/controls",
       "_view_module_version": "2.0.0",
       "_view_name": "HTMLView",
       "description": "",
       "description_allow_html": false,
       "layout": "IPY_MODEL_c1e1bef4cc7647ab9f9549d7a5d58c8d",
       "placeholder": "​",
       "style": "IPY_MODEL_a4251110c9ca4de09aa58cf836c8495d",
       "tabbable": null,
       "tooltip": null,
       "value": "100%"
      }
     }
    },
    "version_major": 2,
    "version_minor": 0
   }
  }
 },
 "nbformat": 4,
 "nbformat_minor": 5
}