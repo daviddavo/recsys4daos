{
 "cells": [
  {
   "cell_type": "code",
   "execution_count": 1,
   "id": "42e8a669",
   "metadata": {
    "editable": true,
    "execution": {
     "iopub.execute_input": "2024-09-05T09:00:25.923109Z",
     "iopub.status.busy": "2024-09-05T09:00:25.923016Z",
     "iopub.status.idle": "2024-09-05T09:00:28.745228Z",
     "shell.execute_reply": "2024-09-05T09:00:28.744803Z"
    },
    "papermill": {
     "duration": 2.83066,
     "end_time": "2024-09-05T09:00:28.746034",
     "exception": false,
     "start_time": "2024-09-05T09:00:25.915374",
     "status": "completed"
    },
    "slideshow": {
     "slide_type": ""
    },
    "tags": []
   },
   "outputs": [
    {
     "name": "stderr",
     "output_type": "stream",
     "text": [
      "/tmp/ipykernel_3808813/1371776918.py:11: TqdmExperimentalWarning: Using `tqdm.autonotebook.tqdm` in notebook mode. Use `tqdm.tqdm` instead to force console mode (e.g. in jupyter console)\n",
      "  from tqdm.autonotebook import tqdm\n"
     ]
    },
    {
     "name": "stdout",
     "output_type": "stream",
     "text": [
      "Ignoring warnings\n",
      "3.11.6 (main, Jun 24 2024, 07:45:26) [GCC 11.4.0]\n",
      "recommenders: 1.2.0\n",
      "ray: 2.30.0\n",
      "tensorflow: 2.16.1\n"
     ]
    }
   ],
   "source": [
    "from typing import List, Dict, Any\n",
    "\n",
    "from pathlib import Path\n",
    "import os, sys\n",
    "import time\n",
    "import datetime as dt\n",
    "import itertools as it\n",
    "\n",
    "import numpy as np\n",
    "import pandas as pd\n",
    "from tqdm.autonotebook import tqdm\n",
    "import ray\n",
    "from ray import train, tune\n",
    "import ipywidgets as widgets\n",
    "\n",
    "from recsys4daos.model_selection import cvtt_open\n",
    "from recsys4daos.datasets import to_microsoft, filter_window_size\n",
    "from recsys4daos.models import LightGCNCustom\n",
    "from recsys4daos.utils import Timer\n",
    "import recsys4daos.utils.notebooks as nbu\n",
    "\n",
    "import recommenders\n",
    "if recommenders.__version__ == '1.2.0':\n",
    "    print(\"Ignoring warnings\")\n",
    "    import warnings\n",
    "    warnings.simplefilter(action='ignore', category=FutureWarning)\n",
    "\n",
    "import paths\n",
    "\n",
    "nbu.print_versions('ray', 'tensorflow')\n",
    "\n",
    "%load_ext autoreload\n",
    "%autoreload 2"
   ]
  },
  {
   "cell_type": "code",
   "execution_count": 2,
   "id": "63c1a260",
   "metadata": {
    "editable": true,
    "execution": {
     "iopub.execute_input": "2024-09-05T09:00:28.751933Z",
     "iopub.status.busy": "2024-09-05T09:00:28.751713Z",
     "iopub.status.idle": "2024-09-05T09:00:28.773415Z",
     "shell.execute_reply": "2024-09-05T09:00:28.773189Z"
    },
    "papermill": {
     "duration": 0.025404,
     "end_time": "2024-09-05T09:00:28.774109",
     "exception": false,
     "start_time": "2024-09-05T09:00:28.748705",
     "status": "completed"
    },
    "slideshow": {
     "slide_type": ""
    },
    "tags": [
     "parameters"
    ]
   },
   "outputs": [],
   "source": [
    "# Others config\n",
    "SEED: int = 57\n",
    "RAY_RESULTS_PATH: Path = '~/ray_results3.11'\n",
    "\n",
    "# Dataset splits config\n",
    "ORG_NAME = 'Decentraland'\n",
    "SPLITS_FREQ = 'W-THU'  # Split weekly\n",
    "LAST_FOLDS = 10  # Use just last 10 splits\n",
    "SPLITS_NORMALIZE = True\n",
    "LAST_FOLD_DATE_STR: str = '2023-07-13'\n",
    "\n",
    "# Training config\n",
    "MAX_EPOCHS: int = 200\n",
    "EPOCHS_PER_ITER: int = 5\n",
    "SAMPLES_PER_SPLIT: int = 100\n",
    "MAX_TIME_TOTAL_TRAIN: int = 300\n",
    "OPTIM_METRIC: str = 'map@10'\n",
    "\n",
    "# Search space config\n",
    "MAX_EMBEDDING_DIM = 1024\n",
    "MIN_BATCH_SIZE = 6\n",
    "MAX_BATCH_SIZE = 10 # 2**10\n",
    "MIN_LR = 1e-4\n",
    "# WINDOW_SIZES = ['7d', '14d', '21d', '30d', '60d', '90d', '10YE']\n",
    "WINDOW_SIZES = ['21d', '30d', '60d', '90d', '10YE']\n",
    "GPUS = 16\n",
    "\n",
    "# Eval config\n",
    "K_RECOMMENDATIONS: List[int] = [1,3,5,10,15,100]\n",
    "METRICS: List[str] = [\"recall\", \"ndcg\", \"precision\", \"map\"]"
   ]
  },
  {
   "cell_type": "code",
   "execution_count": 3,
   "id": "21593559",
   "metadata": {
    "execution": {
     "iopub.execute_input": "2024-09-05T09:00:28.779286Z",
     "iopub.status.busy": "2024-09-05T09:00:28.779124Z",
     "iopub.status.idle": "2024-09-05T09:00:28.797823Z",
     "shell.execute_reply": "2024-09-05T09:00:28.797516Z"
    },
    "papermill": {
     "duration": 0.022051,
     "end_time": "2024-09-05T09:00:28.798471",
     "exception": false,
     "start_time": "2024-09-05T09:00:28.776420",
     "status": "completed"
    },
    "tags": [
     "injected-parameters"
    ]
   },
   "outputs": [],
   "source": [
    "# Parameters\n",
    "EXECUTION_ID = \"2024-09-04T10:00\"\n",
    "MAX_BATCH_SIZE = 9\n",
    "GPUS = 32\n",
    "ORG_NAME = \"DEAD FoundationsDAO\"\n",
    "SPLITS_FREQ = \"2d\"\n",
    "LAST_FOLDS = 20\n",
    "SPLITS_NORMALIZE = True\n",
    "LAST_FOLD_DATE_STR = \"2021-11-28\"\n"
   ]
  },
  {
   "cell_type": "code",
   "execution_count": 4,
   "id": "ef644ed3",
   "metadata": {
    "execution": {
     "iopub.execute_input": "2024-09-05T09:00:28.803477Z",
     "iopub.status.busy": "2024-09-05T09:00:28.803354Z",
     "iopub.status.idle": "2024-09-05T09:00:28.820063Z",
     "shell.execute_reply": "2024-09-05T09:00:28.819865Z"
    },
    "papermill": {
     "duration": 0.020059,
     "end_time": "2024-09-05T09:00:28.820710",
     "exception": false,
     "start_time": "2024-09-05T09:00:28.800651",
     "status": "completed"
    },
    "tags": []
   },
   "outputs": [],
   "source": [
    "RAY_RESULTS_PATH = Path(RAY_RESULTS_PATH).expanduser()"
   ]
  },
  {
   "cell_type": "markdown",
   "id": "9701d500",
   "metadata": {
    "papermill": {
     "duration": 0.002254,
     "end_time": "2024-09-05T09:00:28.825248",
     "exception": false,
     "start_time": "2024-09-05T09:00:28.822994",
     "status": "completed"
    },
    "tags": []
   },
   "source": [
    "## Obtain dataset"
   ]
  },
  {
   "cell_type": "code",
   "execution_count": 5,
   "id": "c6471365",
   "metadata": {
    "execution": {
     "iopub.execute_input": "2024-09-05T09:00:28.830119Z",
     "iopub.status.busy": "2024-09-05T09:00:28.829982Z",
     "iopub.status.idle": "2024-09-05T09:00:28.972614Z",
     "shell.execute_reply": "2024-09-05T09:00:28.971063Z"
    },
    "papermill": {
     "duration": 0.149406,
     "end_time": "2024-09-05T09:00:28.976807",
     "exception": false,
     "start_time": "2024-09-05T09:00:28.827401",
     "status": "completed"
    },
    "tags": []
   },
   "outputs": [
    {
     "name": "stdout",
     "output_type": "stream",
     "text": [
      "/home/daviddavo/recsys4daos/notebooks\r\n"
     ]
    }
   ],
   "source": [
    "!pwd"
   ]
  },
  {
   "cell_type": "code",
   "execution_count": 6,
   "id": "efb44b43",
   "metadata": {
    "execution": {
     "iopub.execute_input": "2024-09-05T09:00:28.992217Z",
     "iopub.status.busy": "2024-09-05T09:00:28.992072Z",
     "iopub.status.idle": "2024-09-05T09:00:29.119317Z",
     "shell.execute_reply": "2024-09-05T09:00:29.118958Z"
    },
    "papermill": {
     "duration": 0.133028,
     "end_time": "2024-09-05T09:00:29.119977",
     "exception": false,
     "start_time": "2024-09-05T09:00:28.986949",
     "status": "completed"
    },
    "tags": []
   },
   "outputs": [
    {
     "name": "stdout",
     "output_type": "stream",
     "text": [
      "<class 'pandas.core.frame.DataFrame'>\n",
      "RangeIndex: 29681 entries, 0 to 29680\n",
      "Data columns (total 6 columns):\n",
      " #   Column             Non-Null Count  Dtype         \n",
      "---  ------             --------------  -----         \n",
      " 0   id                 29681 non-null  object        \n",
      " 1   author             29681 non-null  object        \n",
      " 2   date               29681 non-null  datetime64[us]\n",
      " 3   start              29681 non-null  datetime64[us]\n",
      " 4   end                5799 non-null   datetime64[us]\n",
      " 5   platform_proposal  29681 non-null  object        \n",
      "dtypes: datetime64[us](3), object(3)\n",
      "memory usage: 1.4+ MB\n",
      "None\n",
      "<class 'pandas.core.frame.DataFrame'>\n",
      "RangeIndex: 17738 entries, 0 to 17737\n",
      "Data columns (total 4 columns):\n",
      " #   Column    Non-Null Count  Dtype         \n",
      "---  ------    --------------  -----         \n",
      " 0   id        17738 non-null  object        \n",
      " 1   proposal  17738 non-null  object        \n",
      " 2   voter     17738 non-null  object        \n",
      " 3   date      17738 non-null  datetime64[us]\n",
      "dtypes: datetime64[us](1), object(3)\n",
      "memory usage: 554.4+ KB\n",
      "None\n"
     ]
    }
   ],
   "source": [
    "dfp = paths.load_proposals(ORG_NAME)\n",
    "dfv = paths.load_votes(ORG_NAME)\n",
    "\n",
    "print(dfp.info())\n",
    "print(dfv.info())"
   ]
  },
  {
   "cell_type": "markdown",
   "id": "ad724020",
   "metadata": {
    "papermill": {
     "duration": 0.003778,
     "end_time": "2024-09-05T09:00:29.126444",
     "exception": false,
     "start_time": "2024-09-05T09:00:29.122666",
     "status": "completed"
    },
    "tags": []
   },
   "source": [
    "## Split data"
   ]
  },
  {
   "cell_type": "code",
   "execution_count": 7,
   "id": "55fc52cd",
   "metadata": {
    "execution": {
     "iopub.execute_input": "2024-09-05T09:00:29.135915Z",
     "iopub.status.busy": "2024-09-05T09:00:29.135730Z",
     "iopub.status.idle": "2024-09-05T09:00:29.164845Z",
     "shell.execute_reply": "2024-09-05T09:00:29.164401Z"
    },
    "papermill": {
     "duration": 0.034013,
     "end_time": "2024-09-05T09:00:29.165543",
     "exception": false,
     "start_time": "2024-09-05T09:00:29.131530",
     "status": "completed"
    },
    "tags": []
   },
   "outputs": [
    {
     "data": {
      "text/html": [
       "<div>\n",
       "<style scoped>\n",
       "    .dataframe tbody tr th:only-of-type {\n",
       "        vertical-align: middle;\n",
       "    }\n",
       "\n",
       "    .dataframe tbody tr th {\n",
       "        vertical-align: top;\n",
       "    }\n",
       "\n",
       "    .dataframe thead th {\n",
       "        text-align: right;\n",
       "    }\n",
       "</style>\n",
       "<table border=\"1\" class=\"dataframe\">\n",
       "  <thead>\n",
       "    <tr style=\"text-align: right;\">\n",
       "      <th></th>\n",
       "      <th>userID</th>\n",
       "      <th>itemID</th>\n",
       "      <th>timestamp</th>\n",
       "      <th>rating</th>\n",
       "    </tr>\n",
       "  </thead>\n",
       "  <tbody>\n",
       "    <tr>\n",
       "      <th>0</th>\n",
       "      <td>0x15c6ac4cf1b5e49c44332fb0a1043ccab19db80a</td>\n",
       "      <td>9b0951e8-192b-5b68-8e1a-1b392e5b704f</td>\n",
       "      <td>2020-11-25 14:31:40</td>\n",
       "      <td>1</td>\n",
       "    </tr>\n",
       "    <tr>\n",
       "      <th>1</th>\n",
       "      <td>0x15c6ac4cf1b5e49c44332fb0a1043ccab19db80a</td>\n",
       "      <td>9903573c-d495-5c45-8209-c16ac4527667</td>\n",
       "      <td>2020-11-25 14:34:40</td>\n",
       "      <td>1</td>\n",
       "    </tr>\n",
       "    <tr>\n",
       "      <th>2</th>\n",
       "      <td>0xa3564677fc4907a15c9a7eae1dbc1ae9ac57b8e1</td>\n",
       "      <td>83846b14-c310-5c84-a229-f8f88747a417</td>\n",
       "      <td>2020-12-04 01:16:40</td>\n",
       "      <td>1</td>\n",
       "    </tr>\n",
       "    <tr>\n",
       "      <th>3</th>\n",
       "      <td>0x15c6ac4cf1b5e49c44332fb0a1043ccab19db80a</td>\n",
       "      <td>83846b14-c310-5c84-a229-f8f88747a417</td>\n",
       "      <td>2020-12-04 01:41:40</td>\n",
       "      <td>1</td>\n",
       "    </tr>\n",
       "    <tr>\n",
       "      <th>4</th>\n",
       "      <td>0xa3564677fc4907a15c9a7eae1dbc1ae9ac57b8e1</td>\n",
       "      <td>e5b05bac-ebea-5d63-b09c-6721cb6c3b65</td>\n",
       "      <td>2020-12-05 00:14:50</td>\n",
       "      <td>1</td>\n",
       "    </tr>\n",
       "    <tr>\n",
       "      <th>...</th>\n",
       "      <td>...</td>\n",
       "      <td>...</td>\n",
       "      <td>...</td>\n",
       "      <td>...</td>\n",
       "    </tr>\n",
       "    <tr>\n",
       "      <th>17733</th>\n",
       "      <td>0x96e852000ec69fd7f1b5a552cb58a9d24f76e2c6</td>\n",
       "      <td>0d403a5d-a7ff-50ae-b3e9-7ab8020241eb</td>\n",
       "      <td>2022-06-28 08:18:00</td>\n",
       "      <td>1</td>\n",
       "    </tr>\n",
       "    <tr>\n",
       "      <th>17734</th>\n",
       "      <td>0x96e852000ec69fd7f1b5a552cb58a9d24f76e2c6</td>\n",
       "      <td>992cb72b-046d-55d8-81d0-f1e3f664c86a</td>\n",
       "      <td>2022-06-28 08:18:15</td>\n",
       "      <td>1</td>\n",
       "    </tr>\n",
       "    <tr>\n",
       "      <th>17735</th>\n",
       "      <td>0x96e852000ec69fd7f1b5a552cb58a9d24f76e2c6</td>\n",
       "      <td>6c40609b-866f-588e-947f-ae832a9e9af2</td>\n",
       "      <td>2022-06-28 08:18:30</td>\n",
       "      <td>1</td>\n",
       "    </tr>\n",
       "    <tr>\n",
       "      <th>17736</th>\n",
       "      <td>0x96e852000ec69fd7f1b5a552cb58a9d24f76e2c6</td>\n",
       "      <td>f4a42b8c-ee15-551f-8e65-86b17a237863</td>\n",
       "      <td>2022-06-28 08:19:45</td>\n",
       "      <td>1</td>\n",
       "    </tr>\n",
       "    <tr>\n",
       "      <th>17737</th>\n",
       "      <td>0x96e852000ec69fd7f1b5a552cb58a9d24f76e2c6</td>\n",
       "      <td>2abb72d8-410a-5ad6-9ceb-e2d6926eabc9</td>\n",
       "      <td>2022-07-26 17:09:25</td>\n",
       "      <td>1</td>\n",
       "    </tr>\n",
       "  </tbody>\n",
       "</table>\n",
       "<p>17738 rows × 4 columns</p>\n",
       "</div>"
      ],
      "text/plain": [
       "                                           userID  \\\n",
       "0      0x15c6ac4cf1b5e49c44332fb0a1043ccab19db80a   \n",
       "1      0x15c6ac4cf1b5e49c44332fb0a1043ccab19db80a   \n",
       "2      0xa3564677fc4907a15c9a7eae1dbc1ae9ac57b8e1   \n",
       "3      0x15c6ac4cf1b5e49c44332fb0a1043ccab19db80a   \n",
       "4      0xa3564677fc4907a15c9a7eae1dbc1ae9ac57b8e1   \n",
       "...                                           ...   \n",
       "17733  0x96e852000ec69fd7f1b5a552cb58a9d24f76e2c6   \n",
       "17734  0x96e852000ec69fd7f1b5a552cb58a9d24f76e2c6   \n",
       "17735  0x96e852000ec69fd7f1b5a552cb58a9d24f76e2c6   \n",
       "17736  0x96e852000ec69fd7f1b5a552cb58a9d24f76e2c6   \n",
       "17737  0x96e852000ec69fd7f1b5a552cb58a9d24f76e2c6   \n",
       "\n",
       "                                     itemID           timestamp  rating  \n",
       "0      9b0951e8-192b-5b68-8e1a-1b392e5b704f 2020-11-25 14:31:40       1  \n",
       "1      9903573c-d495-5c45-8209-c16ac4527667 2020-11-25 14:34:40       1  \n",
       "2      83846b14-c310-5c84-a229-f8f88747a417 2020-12-04 01:16:40       1  \n",
       "3      83846b14-c310-5c84-a229-f8f88747a417 2020-12-04 01:41:40       1  \n",
       "4      e5b05bac-ebea-5d63-b09c-6721cb6c3b65 2020-12-05 00:14:50       1  \n",
       "...                                     ...                 ...     ...  \n",
       "17733  0d403a5d-a7ff-50ae-b3e9-7ab8020241eb 2022-06-28 08:18:00       1  \n",
       "17734  992cb72b-046d-55d8-81d0-f1e3f664c86a 2022-06-28 08:18:15       1  \n",
       "17735  6c40609b-866f-588e-947f-ae832a9e9af2 2022-06-28 08:18:30       1  \n",
       "17736  f4a42b8c-ee15-551f-8e65-86b17a237863 2022-06-28 08:19:45       1  \n",
       "17737  2abb72d8-410a-5ad6-9ceb-e2d6926eabc9 2022-07-26 17:09:25       1  \n",
       "\n",
       "[17738 rows x 4 columns]"
      ]
     },
     "execution_count": 7,
     "metadata": {},
     "output_type": "execute_result"
    }
   ],
   "source": [
    "df = to_microsoft(dfv)\n",
    "df"
   ]
  },
  {
   "cell_type": "code",
   "execution_count": 8,
   "id": "59288939",
   "metadata": {
    "editable": true,
    "execution": {
     "iopub.execute_input": "2024-09-05T09:00:29.171170Z",
     "iopub.status.busy": "2024-09-05T09:00:29.170860Z",
     "iopub.status.idle": "2024-09-05T09:00:29.589652Z",
     "shell.execute_reply": "2024-09-05T09:00:29.589166Z"
    },
    "papermill": {
     "duration": 0.422482,
     "end_time": "2024-09-05T09:00:29.590392",
     "exception": false,
     "start_time": "2024-09-05T09:00:29.167910",
     "status": "completed"
    },
    "slideshow": {
     "slide_type": ""
    },
    "tags": []
   },
   "outputs": [
    {
     "name": "stdout",
     "output_type": "stream",
     "text": [
      "185 folds\n",
      "Using 20 folds, from 2021-10-21T00:00:00 to 2021-11-28T00:00:00\n"
     ]
    }
   ],
   "source": [
    "# USE INTEGER INDEX\n",
    "# folds_dict = list(cvtt_open(df, SPLITS_FREQ, dfp, remove_not_in_train_col='userID'))\n",
    "# use_folds_idx = range(len(folds_dict))[-LAST_FOLDS:]\n",
    "\n",
    "# USE TIMESTAMP INDEX\n",
    "# Note: NO need to used OrderedDict, dict is ordered since Python 3.6\n",
    "folds_dict = { f.end.isoformat():f for f in cvtt_open(df, SPLITS_FREQ, dfp, remove_not_in_train_col='userID', last_fold=LAST_FOLD_DATE_STR) }\n",
    "use_folds_idx = list(folds_dict.keys())[-LAST_FOLDS:]\n",
    "\n",
    "print(len(folds_dict), \"folds\")\n",
    "print(\"Using\", len(use_folds_idx), \"folds, from\", use_folds_idx[0], \"to\", use_folds_idx[-1])"
   ]
  },
  {
   "cell_type": "markdown",
   "id": "a3563173",
   "metadata": {
    "papermill": {
     "duration": 0.002713,
     "end_time": "2024-09-05T09:00:29.595961",
     "exception": false,
     "start_time": "2024-09-05T09:00:29.593248",
     "status": "completed"
    },
    "tags": []
   },
   "source": [
    "## Making some checks"
   ]
  },
  {
   "cell_type": "markdown",
   "id": "305274eb",
   "metadata": {
    "papermill": {
     "duration": 0.0024,
     "end_time": "2024-09-05T09:00:29.600885",
     "exception": false,
     "start_time": "2024-09-05T09:00:29.598485",
     "status": "completed"
    },
    "tags": []
   },
   "source": [
    "### Checking that all the folds have open proposals"
   ]
  },
  {
   "cell_type": "code",
   "execution_count": 9,
   "id": "5f1856d6",
   "metadata": {
    "execution": {
     "iopub.execute_input": "2024-09-05T09:00:29.606287Z",
     "iopub.status.busy": "2024-09-05T09:00:29.606158Z",
     "iopub.status.idle": "2024-09-05T09:00:29.627649Z",
     "shell.execute_reply": "2024-09-05T09:00:29.627205Z"
    },
    "papermill": {
     "duration": 0.025199,
     "end_time": "2024-09-05T09:00:29.628379",
     "exception": false,
     "start_time": "2024-09-05T09:00:29.603180",
     "status": "completed"
    },
    "tags": []
   },
   "outputs": [],
   "source": [
    "_nok_folds = []\n",
    "for idx in use_folds_idx:\n",
    "    if len(folds_dict[idx].open_proposals) == 0:\n",
    "        _nok_folds.append(idx)\n",
    "\n",
    "if _nok_folds:\n",
    "    raise ValueError(f\"Folds {', '.join(_nok_folds)} don't have any open proposals\")"
   ]
  },
  {
   "cell_type": "markdown",
   "id": "3cdf6380",
   "metadata": {
    "papermill": {
     "duration": 0.002385,
     "end_time": "2024-09-05T09:00:29.633131",
     "exception": false,
     "start_time": "2024-09-05T09:00:29.630746",
     "status": "completed"
    },
    "tags": []
   },
   "source": [
    "### Checking correct hparams"
   ]
  },
  {
   "cell_type": "code",
   "execution_count": 10,
   "id": "cbdb8650",
   "metadata": {
    "execution": {
     "iopub.execute_input": "2024-09-05T09:00:29.638498Z",
     "iopub.status.busy": "2024-09-05T09:00:29.638400Z",
     "iopub.status.idle": "2024-09-05T09:00:29.679892Z",
     "shell.execute_reply": "2024-09-05T09:00:29.679387Z"
    },
    "papermill": {
     "duration": 0.045116,
     "end_time": "2024-09-05T09:00:29.680620",
     "exception": false,
     "start_time": "2024-09-05T09:00:29.635504",
     "status": "completed"
    },
    "tags": []
   },
   "outputs": [
    {
     "name": "stdout",
     "output_type": "stream",
     "text": [
      "All folds ok!\n"
     ]
    },
    {
     "name": "stderr",
     "output_type": "stream",
     "text": [
      "On fold 2021-10-31T00:00:00 WINDOW_SIZE should be at least 21d: 968 > 512\n",
      "On fold 2021-11-02T00:00:00 WINDOW_SIZE should be at least 21d: 1366 > 512\n",
      "On fold 2021-11-04T00:00:00 WINDOW_SIZE should be at least 21d: 1531 > 512\n",
      "On fold 2021-11-06T00:00:00 WINDOW_SIZE should be at least 21d: 1609 > 512\n",
      "On fold 2021-11-08T00:00:00 WINDOW_SIZE should be at least 21d: 1654 > 512\n",
      "On fold 2021-11-10T00:00:00 WINDOW_SIZE should be at least 21d: 1704 > 512\n",
      "On fold 2021-11-12T00:00:00 WINDOW_SIZE should be at least 21d: 1774 > 512\n",
      "On fold 2021-11-14T00:00:00 WINDOW_SIZE should be at least 21d: 1881 > 512\n",
      "On fold 2021-11-16T00:00:00 WINDOW_SIZE should be at least 21d: 2090 > 512\n",
      "On fold 2021-11-18T00:00:00 WINDOW_SIZE should be at least 21d: 2190 > 512\n",
      "On fold 2021-11-20T00:00:00 WINDOW_SIZE should be at least 21d: 2083 > 512\n",
      "On fold 2021-11-22T00:00:00 WINDOW_SIZE should be at least 21d: 1733 > 512\n",
      "On fold 2021-11-24T00:00:00 WINDOW_SIZE should be at least 21d: 1590 > 512\n",
      "On fold 2021-11-26T00:00:00 WINDOW_SIZE should be at least 21d: 1676 > 512\n",
      "On fold 2021-11-28T00:00:00 WINDOW_SIZE should be at least 21d: 1813 > 512\n"
     ]
    }
   ],
   "source": [
    "now = dt.datetime.now()\n",
    "max_bs = 2**MAX_BATCH_SIZE\n",
    "\n",
    "all_ok = True\n",
    "for idx in use_folds_idx:\n",
    "    valid_ws = WINDOW_SIZES[0]\n",
    "    for ws in sorted(WINDOW_SIZES, key=lambda ws: now + pd.tseries.frequencies.to_offset(ws)):\n",
    "        nusers = filter_window_size(folds_dict[idx].train, folds_dict[idx].end, ws)['userID'].nunique()\n",
    "        if nusers > max_bs:\n",
    "            print(f'On fold {idx} WINDOW_SIZE should be at least {ws}: {nusers} > {max_bs}', file=sys.stderr)\n",
    "            break\n",
    "\n",
    "print(\"All folds ok!\")"
   ]
  },
  {
   "cell_type": "markdown",
   "id": "18546d66",
   "metadata": {
    "editable": true,
    "papermill": {
     "duration": 0.002729,
     "end_time": "2024-09-05T09:00:29.686020",
     "exception": false,
     "start_time": "2024-09-05T09:00:29.683291",
     "status": "completed"
    },
    "slideshow": {
     "slide_type": ""
    },
    "tags": []
   },
   "source": [
    "## Testing model"
   ]
  },
  {
   "cell_type": "code",
   "execution_count": 11,
   "id": "167a992e",
   "metadata": {
    "execution": {
     "iopub.execute_input": "2024-09-05T09:00:29.691668Z",
     "iopub.status.busy": "2024-09-05T09:00:29.691554Z",
     "iopub.status.idle": "2024-09-05T09:00:29.711911Z",
     "shell.execute_reply": "2024-09-05T09:00:29.711466Z"
    },
    "papermill": {
     "duration": 0.02416,
     "end_time": "2024-09-05T09:00:29.712681",
     "exception": false,
     "start_time": "2024-09-05T09:00:29.688521",
     "status": "completed"
    },
    "tags": []
   },
   "outputs": [],
   "source": [
    "from recommenders.models.deeprec.DataModel.ImplicitCF import ImplicitCF\n",
    "from recommenders.models.deeprec.deeprec_utils import prepare_hparams"
   ]
  },
  {
   "cell_type": "code",
   "execution_count": 12,
   "id": "efcdbf56",
   "metadata": {
    "editable": true,
    "execution": {
     "iopub.execute_input": "2024-09-05T09:00:29.718861Z",
     "iopub.status.busy": "2024-09-05T09:00:29.718745Z",
     "iopub.status.idle": "2024-09-05T09:00:29.737915Z",
     "shell.execute_reply": "2024-09-05T09:00:29.737696Z"
    },
    "papermill": {
     "duration": 0.023069,
     "end_time": "2024-09-05T09:00:29.738652",
     "exception": false,
     "start_time": "2024-09-05T09:00:29.715583",
     "status": "completed"
    },
    "slideshow": {
     "slide_type": ""
    },
    "tags": []
   },
   "outputs": [],
   "source": [
    "# hparams = prepare_hparams(\n",
    "#     model_type='lightgcn',\n",
    "#     n_layers=3,\n",
    "#     batch_size=512,\n",
    "#     embed_size=64,\n",
    "#     epochs=2,\n",
    "#     learning_rate=0.001,\n",
    "#     decay=0.001,\n",
    "#     metrics=[\"recall\", \"ndcg\", \"precision\", \"map\"],\n",
    "#     eval_epoch=2,\n",
    "#     top_k=K_RECOMMENDATIONS[0],\n",
    "#     save_model=False,\n",
    "#     MODEL_DIR='./data/model/lightgcn/',\n",
    "# )\n",
    "# dataloader = ImplicitCF(train=folds_dict[use_folds_idx[0]].train, test=folds_dict[use_folds_idx[0]].test, seed=SEED)\n",
    "# print(\"items:\", dataloader.n_items, \"user:\", dataloader.n_users)\n",
    "# model = LightGCNCustom(data=dataloader, hparams=hparams)"
   ]
  },
  {
   "cell_type": "code",
   "execution_count": 13,
   "id": "884d456a",
   "metadata": {
    "execution": {
     "iopub.execute_input": "2024-09-05T09:00:29.744509Z",
     "iopub.status.busy": "2024-09-05T09:00:29.744396Z",
     "iopub.status.idle": "2024-09-05T09:00:29.762582Z",
     "shell.execute_reply": "2024-09-05T09:00:29.762180Z"
    },
    "papermill": {
     "duration": 0.022005,
     "end_time": "2024-09-05T09:00:29.763289",
     "exception": false,
     "start_time": "2024-09-05T09:00:29.741284",
     "status": "completed"
    },
    "tags": []
   },
   "outputs": [],
   "source": [
    "# model.fit()\n",
    "# model.run_eval()"
   ]
  },
  {
   "cell_type": "code",
   "execution_count": 14,
   "id": "fdb99ada",
   "metadata": {
    "editable": true,
    "execution": {
     "iopub.execute_input": "2024-09-05T09:00:29.769069Z",
     "iopub.status.busy": "2024-09-05T09:00:29.768955Z",
     "iopub.status.idle": "2024-09-05T09:00:29.785902Z",
     "shell.execute_reply": "2024-09-05T09:00:29.785595Z"
    },
    "papermill": {
     "duration": 0.020739,
     "end_time": "2024-09-05T09:00:29.786629",
     "exception": false,
     "start_time": "2024-09-05T09:00:29.765890",
     "status": "completed"
    },
    "slideshow": {
     "slide_type": ""
    },
    "tags": []
   },
   "outputs": [],
   "source": [
    "# model.recommend_k_items(\n",
    "#     dataloader.test, \n",
    "#     top_k=3, \n",
    "#     use_id=True, \n",
    "#     remove_seen=True, \n",
    "#     recommend_from=folds_dict[use_folds_idx[0]].open_proposals\n",
    "# )"
   ]
  },
  {
   "cell_type": "markdown",
   "id": "20ff6c59",
   "metadata": {
    "papermill": {
     "duration": 0.002629,
     "end_time": "2024-09-05T09:00:29.791944",
     "exception": false,
     "start_time": "2024-09-05T09:00:29.789315",
     "status": "completed"
    },
    "tags": []
   },
   "source": [
    "## Defining trainable"
   ]
  },
  {
   "cell_type": "code",
   "execution_count": 15,
   "id": "030541a9",
   "metadata": {
    "execution": {
     "iopub.execute_input": "2024-09-05T09:00:29.797623Z",
     "iopub.status.busy": "2024-09-05T09:00:29.797500Z",
     "iopub.status.idle": "2024-09-05T09:00:29.813847Z",
     "shell.execute_reply": "2024-09-05T09:00:29.813626Z"
    },
    "papermill": {
     "duration": 0.020084,
     "end_time": "2024-09-05T09:00:29.814556",
     "exception": false,
     "start_time": "2024-09-05T09:00:29.794472",
     "status": "completed"
    },
    "tags": []
   },
   "outputs": [],
   "source": [
    "from recsys4daos.evaluation import calculate_all_metrics"
   ]
  },
  {
   "cell_type": "code",
   "execution_count": 16,
   "id": "377cb496",
   "metadata": {
    "editable": true,
    "execution": {
     "iopub.execute_input": "2024-09-05T09:00:29.820725Z",
     "iopub.status.busy": "2024-09-05T09:00:29.820614Z",
     "iopub.status.idle": "2024-09-05T09:00:29.841232Z",
     "shell.execute_reply": "2024-09-05T09:00:29.840694Z"
    },
    "papermill": {
     "duration": 0.024562,
     "end_time": "2024-09-05T09:00:29.841970",
     "exception": false,
     "start_time": "2024-09-05T09:00:29.817408",
     "status": "completed"
    },
    "slideshow": {
     "slide_type": ""
    },
    "tags": []
   },
   "outputs": [],
   "source": [
    "class TrainLightGCN(tune.Trainable):\n",
    "    def setup(\n",
    "        self,\n",
    "        config: Dict[str, Any],\n",
    "        data,\n",
    "    ):\n",
    "        self.config = config\n",
    "        train, test, self.t, self.open_proposals = data\n",
    "        train_filtered = filter_window_size(train, self.t, config['window_size'])\n",
    "        self.dataloader = ImplicitCF(train=train_filtered, test=test, seed=SEED)\n",
    "        # Some experiments will run multiple times, but that's a price to pay for\n",
    "        # usability\n",
    "        self.real_batch_size = min(2**config['batch_size'], self.dataloader.n_users_in_train)\n",
    "\n",
    "        self.hparams = prepare_hparams(\n",
    "            model_type='lightgcn',\n",
    "            n_layers=config['conv_layers'],\n",
    "            batch_size=self.real_batch_size,\n",
    "            embed_size=config['embedding_dim'],\n",
    "            epochs=EPOCHS_PER_ITER,\n",
    "            learning_rate=config['learning_rate'],\n",
    "            decay=config['l2'],\n",
    "            metrics=METRICS,\n",
    "            eval_epoch=-1,\n",
    "            top_k=K_RECOMMENDATIONS[0],\n",
    "            save_model=False,\n",
    "            MODEL_DIR='./data/model/lightgcn/',\n",
    "        )\n",
    "        self.model = LightGCNCustom(self.hparams, self.dataloader, seed=SEED)\n",
    "        self.total_train = 0\n",
    "        self.total_eval = 0\n",
    "\n",
    "    @property\n",
    "    def iteration(self):\n",
    "        return self.model.epochs_done\n",
    "\n",
    "    @property\n",
    "    def training_iteration(self):\n",
    "        return self.model.epochs_done\n",
    "\n",
    "    def step(self):\n",
    "        \"\"\"\n",
    "        As a rule of thumb, the execution time of step should be large enough to avoid overheads \n",
    "        (i.e. more than a few seconds), but short enough to report progress periodically \n",
    "        (i.e. at most a few minutes).\n",
    "        \"\"\"\n",
    "        assert EPOCHS_PER_ITER > 0\n",
    "\n",
    "        with Timer() as t_train:\n",
    "            for _ in range(EPOCHS_PER_ITER):\n",
    "                ret = self.model.fit_epoch()\n",
    "\n",
    "\n",
    "        with Timer() as t_rec:\n",
    "            recs = self.model.recommend_k_items(\n",
    "                self.dataloader.test, # Used only to get user ids\n",
    "                top_k=max(K_RECOMMENDATIONS),\n",
    "                use_id=True,\n",
    "                remove_seen=True,\n",
    "                recommend_from=self.open_proposals,\n",
    "            )\n",
    "        \n",
    "        eval_dict = {'model_'+k:v for k,v in zip(self.model.metrics, self.model.run_eval())}\n",
    "        eval_dict |= calculate_all_metrics(self.dataloader.test, recs, K_RECOMMENDATIONS)\n",
    "\n",
    "        self.total_train += t_train.time\n",
    "        self.total_eval += eval_dict['time_eval']\n",
    "        \n",
    "        return {\n",
    "            'real_batch_size': self.real_batch_size,\n",
    "            'iteration': self.iteration,\n",
    "            'loss': ret[0],\n",
    "            'mf_loss': ret[1],\n",
    "            'emb_loss': ret[2],\n",
    "            **eval_dict,\n",
    "            'time_train': t_train.time,\n",
    "            'time_rec': t_rec.time,\n",
    "            'time_total_train': self.total_train,\n",
    "            'time_total_test': self.total_eval,\n",
    "        }\n",
    "\n",
    "    def save_checkpoint(self, checkpoint_dir):\n",
    "        checkpoint_path = os.path.join(checkpoint_dir, \"model\")\n",
    "        self.model.saver.save(\n",
    "            sess=self.model.sess,\n",
    "            save_path=checkpoint_path,\n",
    "        )\n",
    "        return checkpoint_dir\n",
    "\n",
    "    def load_checkpoint(self, checkpoint_path):\n",
    "        self.model.load(checkpoint_path)"
   ]
  },
  {
   "cell_type": "markdown",
   "id": "07804e4d",
   "metadata": {
    "editable": true,
    "papermill": {
     "duration": 0.002703,
     "end_time": "2024-09-05T09:00:29.847363",
     "exception": false,
     "start_time": "2024-09-05T09:00:29.844660",
     "status": "completed"
    },
    "slideshow": {
     "slide_type": ""
    },
    "tags": []
   },
   "source": [
    "## Big experiment"
   ]
  },
  {
   "cell_type": "code",
   "execution_count": 17,
   "id": "aba2f945",
   "metadata": {
    "editable": true,
    "execution": {
     "iopub.execute_input": "2024-09-05T09:00:29.853292Z",
     "iopub.status.busy": "2024-09-05T09:00:29.853148Z",
     "iopub.status.idle": "2024-09-05T09:00:29.870560Z",
     "shell.execute_reply": "2024-09-05T09:00:29.870371Z"
    },
    "papermill": {
     "duration": 0.021123,
     "end_time": "2024-09-05T09:00:29.871079",
     "exception": false,
     "start_time": "2024-09-05T09:00:29.849956",
     "status": "completed"
    },
    "slideshow": {
     "slide_type": ""
    },
    "tags": []
   },
   "outputs": [
    {
     "data": {
      "text/plain": [
       "PosixPath('/home/daviddavo/ray_results3.11')"
      ]
     },
     "execution_count": 17,
     "metadata": {},
     "output_type": "execute_result"
    }
   ],
   "source": [
    "RAY_RESULTS_PATH"
   ]
  },
  {
   "cell_type": "code",
   "execution_count": 18,
   "id": "25b87b81",
   "metadata": {
    "editable": true,
    "execution": {
     "iopub.execute_input": "2024-09-05T09:00:29.876909Z",
     "iopub.status.busy": "2024-09-05T09:00:29.876779Z",
     "iopub.status.idle": "2024-09-05T09:00:29.894760Z",
     "shell.execute_reply": "2024-09-05T09:00:29.894334Z"
    },
    "papermill": {
     "duration": 0.021701,
     "end_time": "2024-09-05T09:00:29.895459",
     "exception": false,
     "start_time": "2024-09-05T09:00:29.873758",
     "status": "completed"
    },
    "slideshow": {
     "slide_type": ""
    },
    "tags": []
   },
   "outputs": [
    {
     "name": "stdout",
     "output_type": "stream",
     "text": [
      "lamarck\n",
      "{'cpu': 1, 'gpu': 0.03125}\n"
     ]
    }
   ],
   "source": [
    "print(os.uname().nodename)\n",
    "\n",
    "### SET TRAINING RESOURCES\n",
    "if os.uname().nodename == 'lamarck':\n",
    "    # assert torch.cuda.is_available()\n",
    "\n",
    "    NUM_SAMPLES = SAMPLES_PER_SPLIT\n",
    "    # Every run takes approx half a gig of vram (no optimizations)\n",
    "    # The RTX 4090 has 24GB so we can run the model about 48 times\n",
    "    resources_per_trial={\n",
    "        'cpu': 1,\n",
    "        'gpu': 1 / GPUS,\n",
    "    }\n",
    "else:\n",
    "    NUM_SAMPLES = 1\n",
    "    resources_per_trial={\n",
    "        'cpu': 1,\n",
    "        # It takes about 1.5 GiB with full training data, but I put a bit more because\n",
    "        # this notebook also takes a bit of memory\n",
    "        'memory': 2e9,\n",
    "    }\n",
    "print(resources_per_trial)"
   ]
  },
  {
   "cell_type": "code",
   "execution_count": 19,
   "id": "bdaea308",
   "metadata": {
    "editable": true,
    "execution": {
     "iopub.execute_input": "2024-09-05T09:00:29.901818Z",
     "iopub.status.busy": "2024-09-05T09:00:29.901685Z",
     "iopub.status.idle": "2024-09-05T09:00:29.991527Z",
     "shell.execute_reply": "2024-09-05T09:00:29.991031Z"
    },
    "papermill": {
     "duration": 0.094216,
     "end_time": "2024-09-05T09:00:29.992487",
     "exception": false,
     "start_time": "2024-09-05T09:00:29.898271",
     "status": "completed"
    },
    "slideshow": {
     "slide_type": ""
    },
    "tags": []
   },
   "outputs": [],
   "source": [
    "from ray.tune.search.hyperopt import HyperOptSearch"
   ]
  },
  {
   "cell_type": "code",
   "execution_count": 20,
   "id": "9c33b68f",
   "metadata": {
    "editable": true,
    "execution": {
     "iopub.execute_input": "2024-09-05T09:00:29.999783Z",
     "iopub.status.busy": "2024-09-05T09:00:29.999471Z",
     "iopub.status.idle": "2024-09-05T09:00:30.024056Z",
     "shell.execute_reply": "2024-09-05T09:00:30.023617Z"
    },
    "papermill": {
     "duration": 0.029074,
     "end_time": "2024-09-05T09:00:30.024790",
     "exception": false,
     "start_time": "2024-09-05T09:00:29.995716",
     "status": "completed"
    },
    "slideshow": {
     "slide_type": ""
    },
    "tags": []
   },
   "outputs": [],
   "source": [
    "def getTunerOnFold(f_idx, points_to_evaluate = None):    \n",
    "    name = paths.lightgcn_ray_tune_fname(ORG_NAME, SPLITS_FREQ, SPLITS_NORMALIZE, OPTIM_METRIC, fold=f_idx)\n",
    "    experiments = list(RAY_RESULTS_PATH.glob(f'{name}_*'))\n",
    "    last_experiment = max(experiments, key=lambda x: x.stat().st_ctime) if experiments else None\n",
    "    f = folds_dict[f_idx]\n",
    "\n",
    "    dftrain,dftest,t,open_proposals = folds_dict[f_idx]\n",
    "    param_space = dict(\n",
    "        batch_size=tune.randint(MIN_BATCH_SIZE, MAX_BATCH_SIZE+1), # 64 - 2**MAX_BATCH_SIZE\n",
    "        embedding_dim=tune.lograndint(1, MAX_EMBEDDING_DIM, base=2),\n",
    "        conv_layers=tune.randint(1,5),\n",
    "        learning_rate=tune.qloguniform(MIN_LR, 1, 1e-4),\n",
    "        l2=tune.loguniform(1e-7, 1e-2, 1e-7),\n",
    "        window_size=tune.choice(WINDOW_SIZES),\n",
    "        # Just so it appears on the output\n",
    "        fold=f_idx,\n",
    "    )\n",
    "    \n",
    "    ### RESTORE EXPERIMENT OR CREATE A NEW ONE\n",
    "    if last_experiment and tune.Tuner.can_restore(last_experiment):\n",
    "        print(f\"Restoring last experiment: {last_experiment}\")\n",
    "        tuner = tune.Tuner.restore(\n",
    "            str(last_experiment),\n",
    "            trainable=tune.with_resources(\n",
    "                # tune.with_parameters(TrainLightGCN,  train=dftrain, test=dftest, open_proposals=open_proposals),\n",
    "                tune.with_parameters(TrainLightGCN, data=f),\n",
    "                resources_per_trial,\n",
    "            ),\n",
    "            restart_errored=True,\n",
    "            param_space=param_space,\n",
    "        )\n",
    "    else:\n",
    "        print(f\"No experiment found for fold {f_idx}, creating new tuner with {NUM_SAMPLES} samples\")\n",
    "        search_alg = None\n",
    "        \n",
    "        search_alg = HyperOptSearch(\n",
    "            points_to_evaluate = points_to_evaluate,\n",
    "            random_state_seed=SEED,\n",
    "        )\n",
    "        # search_alg = tune.search.Repeater(search_alg, N_SPLITS-SKIP_SPLIT)\n",
    "        \n",
    "        tuner = tune.Tuner(\n",
    "            tune.with_resources(\n",
    "                # tune.with_parameters(TrainLightGCN,  train=dftrain, test=dftest, open_proposals=open_proposals),\n",
    "                tune.with_parameters(TrainLightGCN, data=folds_dict[f_idx]),\n",
    "                resources_per_trial,\n",
    "            ),\n",
    "            run_config=train.RunConfig(\n",
    "                stop={'training_iteration': MAX_EPOCHS/EPOCHS_PER_ITER, 'time_total_train': MAX_TIME_TOTAL_TRAIN},\n",
    "                name=name + f'_{dt.datetime.now().isoformat()}',\n",
    "                storage_path=RAY_RESULTS_PATH,\n",
    "                # failure_config=train.FailureConfig(fail_fast='raise'),\n",
    "                failure_config=train.FailureConfig(max_failures=3),\n",
    "            ),\n",
    "            param_space=param_space,\n",
    "            tune_config=tune.TuneConfig(\n",
    "                search_alg=search_alg,\n",
    "                num_samples=NUM_SAMPLES,\n",
    "                metric=OPTIM_METRIC,\n",
    "                mode='max',\n",
    "            )\n",
    "        )\n",
    "\n",
    "    return tuner"
   ]
  },
  {
   "cell_type": "code",
   "execution_count": 21,
   "id": "4ea4c4fd",
   "metadata": {
    "editable": true,
    "execution": {
     "iopub.execute_input": "2024-09-05T09:00:30.030854Z",
     "iopub.status.busy": "2024-09-05T09:00:30.030756Z",
     "iopub.status.idle": "2024-09-05T09:00:30.058476Z",
     "shell.execute_reply": "2024-09-05T09:00:30.058273Z"
    },
    "papermill": {
     "duration": 0.031531,
     "end_time": "2024-09-05T09:00:30.059084",
     "exception": false,
     "start_time": "2024-09-05T09:00:30.027553",
     "status": "completed"
    },
    "slideshow": {
     "slide_type": ""
    },
    "tags": []
   },
   "outputs": [
    {
     "data": {
      "application/vnd.jupyter.widget-view+json": {
       "model_id": "75281fe5d27d47a8a8a220937e220d42",
       "version_major": 2,
       "version_minor": 0
      },
      "text/plain": [
       "fold:   0%|          | 0/20 [00:00<?, ?it/s]"
      ]
     },
     "metadata": {},
     "output_type": "display_data"
    },
    {
     "data": {
      "application/vnd.jupyter.widget-view+json": {
       "model_id": "8da79dda35ca474491057a0479ac7b0b",
       "version_major": 2,
       "version_minor": 0
      },
      "text/plain": [
       "Output(layout=Layout(border_bottom='1px solid black', border_left='1px solid black', border_right='1px solid b…"
      ]
     },
     "execution_count": 21,
     "metadata": {},
     "output_type": "execute_result"
    }
   ],
   "source": [
    "# We need to display the progress bar in another cell because ray tune \"overwrites\" the previous output\n",
    "pbar = tqdm(total=len(use_folds_idx), desc='fold')\n",
    "out = widgets.Output(layout={'border': '1px solid black'})\n",
    "with out:\n",
    "    print(\"In this cell important output from the next cell will be shown\")\n",
    "out"
   ]
  },
  {
   "cell_type": "code",
   "execution_count": 22,
   "id": "543ed5bd",
   "metadata": {
    "editable": true,
    "execution": {
     "iopub.execute_input": "2024-09-05T09:00:30.065527Z",
     "iopub.status.busy": "2024-09-05T09:00:30.065411Z",
     "iopub.status.idle": "2024-09-05T09:01:28.486807Z",
     "shell.execute_reply": "2024-09-05T09:01:28.485506Z"
    },
    "papermill": {
     "duration": 58.427955,
     "end_time": "2024-09-05T09:01:28.490104",
     "exception": false,
     "start_time": "2024-09-05T09:00:30.062149",
     "status": "completed"
    },
    "slideshow": {
     "slide_type": ""
    },
    "tags": []
   },
   "outputs": [
    {
     "data": {
      "text/html": [
       "<div class=\"tuneStatus\">\n",
       "  <div style=\"display: flex;flex-direction: row\">\n",
       "    <div style=\"display: flex;flex-direction: column;\">\n",
       "      <h3>Tune Status</h3>\n",
       "      <table>\n",
       "<tbody>\n",
       "<tr><td>Current time:</td><td>2024-09-05 09:01:27</td></tr>\n",
       "<tr><td>Running for: </td><td>00:00:00.34        </td></tr>\n",
       "<tr><td>Memory:      </td><td>8.6/125.6 GiB      </td></tr>\n",
       "</tbody>\n",
       "</table>\n",
       "    </div>\n",
       "    <div class=\"vDivider\"></div>\n",
       "    <div class=\"systemInfo\">\n",
       "      <h3>System Info</h3>\n",
       "      Using FIFO scheduling algorithm.<br>Logical resource usage: 0/24 CPUs, 0/1 GPUs (0.0/1.0 accelerator_type:G)\n",
       "    </div>\n",
       "    \n",
       "  </div>\n",
       "  <div class=\"hDivider\"></div>\n",
       "  <div class=\"trialStatus\">\n",
       "    <h3>Trial Status</h3>\n",
       "    <table>\n",
       "<thead>\n",
       "<tr><th>Trial name            </th><th>status    </th><th>loc                  </th><th style=\"text-align: right;\">  batch_size</th><th style=\"text-align: right;\">  conv_layers</th><th style=\"text-align: right;\">  embedding_dim</th><th>fold               </th><th style=\"text-align: right;\">         l2</th><th style=\"text-align: right;\">  learning_rate</th><th>window_size  </th><th style=\"text-align: right;\">  iter</th><th style=\"text-align: right;\">  total time (s)</th><th style=\"text-align: right;\">  real_batch_size</th><th style=\"text-align: right;\">  iteration</th><th style=\"text-align: right;\">        loss</th></tr>\n",
       "</thead>\n",
       "<tbody>\n",
       "<tr><td>TrainLightGCN_82c0d490</td><td>TERMINATED</td><td>147.96.81.131:2734460</td><td style=\"text-align: right;\">           6</td><td style=\"text-align: right;\">            1</td><td style=\"text-align: right;\">            110</td><td>2021-11-28T00:00:00</td><td style=\"text-align: right;\">2.50028e-05</td><td style=\"text-align: right;\">         0.0009</td><td>60d          </td><td style=\"text-align: right;\">    40</td><td style=\"text-align: right;\">        279.425 </td><td style=\"text-align: right;\">               64</td><td style=\"text-align: right;\">        200</td><td style=\"text-align: right;\"> 0.000538633</td></tr>\n",
       "<tr><td>TrainLightGCN_7ee122ae</td><td>TERMINATED</td><td>147.96.81.131:2733870</td><td style=\"text-align: right;\">           6</td><td style=\"text-align: right;\">            3</td><td style=\"text-align: right;\">              2</td><td>2021-11-28T00:00:00</td><td style=\"text-align: right;\">0.000232112</td><td style=\"text-align: right;\">         0.0109</td><td>90d          </td><td style=\"text-align: right;\">    40</td><td style=\"text-align: right;\">        295.888 </td><td style=\"text-align: right;\">               64</td><td style=\"text-align: right;\">        200</td><td style=\"text-align: right;\"> 0.0730544  </td></tr>\n",
       "<tr><td>TrainLightGCN_682c5204</td><td>TERMINATED</td><td>147.96.81.131:2733426</td><td style=\"text-align: right;\">           6</td><td style=\"text-align: right;\">            1</td><td style=\"text-align: right;\">             14</td><td>2021-11-28T00:00:00</td><td style=\"text-align: right;\">1.46617e-07</td><td style=\"text-align: right;\">         0.0085</td><td>60d          </td><td style=\"text-align: right;\">    40</td><td style=\"text-align: right;\">        303.849 </td><td style=\"text-align: right;\">               64</td><td style=\"text-align: right;\">        200</td><td style=\"text-align: right;\"> 0.00373818 </td></tr>\n",
       "<tr><td>TrainLightGCN_c8ab31f5</td><td>TERMINATED</td><td>147.96.81.131:2733125</td><td style=\"text-align: right;\">           6</td><td style=\"text-align: right;\">            1</td><td style=\"text-align: right;\">              6</td><td>2021-11-28T00:00:00</td><td style=\"text-align: right;\">8.19152e-05</td><td style=\"text-align: right;\">         0.0152</td><td>90d          </td><td style=\"text-align: right;\">    40</td><td style=\"text-align: right;\">        313.567 </td><td style=\"text-align: right;\">               64</td><td style=\"text-align: right;\">        200</td><td style=\"text-align: right;\"> 0.0173905  </td></tr>\n",
       "<tr><td>TrainLightGCN_72a91217</td><td>TERMINATED</td><td>147.96.81.131:2732839</td><td style=\"text-align: right;\">           6</td><td style=\"text-align: right;\">            4</td><td style=\"text-align: right;\">              3</td><td>2021-11-28T00:00:00</td><td style=\"text-align: right;\">0.000839364</td><td style=\"text-align: right;\">         0.4217</td><td>90d          </td><td style=\"text-align: right;\">    38</td><td style=\"text-align: right;\">        316.234 </td><td style=\"text-align: right;\">               64</td><td style=\"text-align: right;\">        190</td><td style=\"text-align: right;\"> 1.15457    </td></tr>\n",
       "<tr><td>TrainLightGCN_f2fc4be4</td><td>TERMINATED</td><td>147.96.81.131:2732670</td><td style=\"text-align: right;\">           6</td><td style=\"text-align: right;\">            3</td><td style=\"text-align: right;\">             12</td><td>2021-11-28T00:00:00</td><td style=\"text-align: right;\">5.66588e-05</td><td style=\"text-align: right;\">         0.0256</td><td>10YE         </td><td style=\"text-align: right;\">    36</td><td style=\"text-align: right;\">        315.792 </td><td style=\"text-align: right;\">               64</td><td style=\"text-align: right;\">        180</td><td style=\"text-align: right;\"> 0.00748793 </td></tr>\n",
       "<tr><td>TrainLightGCN_2a262512</td><td>TERMINATED</td><td>147.96.81.131:2732209</td><td style=\"text-align: right;\">           6</td><td style=\"text-align: right;\">            1</td><td style=\"text-align: right;\">              4</td><td>2021-11-28T00:00:00</td><td style=\"text-align: right;\">0.00893828 </td><td style=\"text-align: right;\">         0.0467</td><td>90d          </td><td style=\"text-align: right;\">    34</td><td style=\"text-align: right;\">        314.089 </td><td style=\"text-align: right;\">               64</td><td style=\"text-align: right;\">        170</td><td style=\"text-align: right;\"> 0.127321   </td></tr>\n",
       "<tr><td>TrainLightGCN_746d74a5</td><td>TERMINATED</td><td>147.96.81.131:2732075</td><td style=\"text-align: right;\">           6</td><td style=\"text-align: right;\">            1</td><td style=\"text-align: right;\">              2</td><td>2021-11-28T00:00:00</td><td style=\"text-align: right;\">2.29414e-05</td><td style=\"text-align: right;\">         0.0358</td><td>90d          </td><td style=\"text-align: right;\">    33</td><td style=\"text-align: right;\">        314.399 </td><td style=\"text-align: right;\">               64</td><td style=\"text-align: right;\">        165</td><td style=\"text-align: right;\"> 0.10078    </td></tr>\n",
       "<tr><td>TrainLightGCN_878d7078</td><td>TERMINATED</td><td>147.96.81.131:2731720</td><td style=\"text-align: right;\">           6</td><td style=\"text-align: right;\">            1</td><td style=\"text-align: right;\">              1</td><td>2021-11-28T00:00:00</td><td style=\"text-align: right;\">0.00324534 </td><td style=\"text-align: right;\">         0.1345</td><td>90d          </td><td style=\"text-align: right;\">    31</td><td style=\"text-align: right;\">        314.529 </td><td style=\"text-align: right;\">               64</td><td style=\"text-align: right;\">        155</td><td style=\"text-align: right;\"> 0.347807   </td></tr>\n",
       "<tr><td>TrainLightGCN_7f191da2</td><td>TERMINATED</td><td>147.96.81.131:2734317</td><td style=\"text-align: right;\">           7</td><td style=\"text-align: right;\">            3</td><td style=\"text-align: right;\">             16</td><td>2021-11-28T00:00:00</td><td style=\"text-align: right;\">3.04721e-07</td><td style=\"text-align: right;\">         0.0335</td><td>90d          </td><td style=\"text-align: right;\">    40</td><td style=\"text-align: right;\">        211.314 </td><td style=\"text-align: right;\">              128</td><td style=\"text-align: right;\">        200</td><td style=\"text-align: right;\"> 0.00451303 </td></tr>\n",
       "<tr><td>TrainLightGCN_74353f89</td><td>TERMINATED</td><td>147.96.81.131:2734027</td><td style=\"text-align: right;\">           7</td><td style=\"text-align: right;\">            1</td><td style=\"text-align: right;\">              3</td><td>2021-11-28T00:00:00</td><td style=\"text-align: right;\">0.000125154</td><td style=\"text-align: right;\">         0.198 </td><td>10YE         </td><td style=\"text-align: right;\">    40</td><td style=\"text-align: right;\">        218.242 </td><td style=\"text-align: right;\">              128</td><td style=\"text-align: right;\">        200</td><td style=\"text-align: right;\"> 0.75115    </td></tr>\n",
       "<tr><td>TrainLightGCN_4701bcb4</td><td>TERMINATED</td><td>147.96.81.131:2733727</td><td style=\"text-align: right;\">           7</td><td style=\"text-align: right;\">            2</td><td style=\"text-align: right;\">              5</td><td>2021-11-28T00:00:00</td><td style=\"text-align: right;\">0.00247713 </td><td style=\"text-align: right;\">         0.0476</td><td>90d          </td><td style=\"text-align: right;\">    40</td><td style=\"text-align: right;\">        221.08  </td><td style=\"text-align: right;\">              128</td><td style=\"text-align: right;\">        200</td><td style=\"text-align: right;\"> 0.062207   </td></tr>\n",
       "<tr><td>TrainLightGCN_b4fe4bfe</td><td>TERMINATED</td><td>147.96.81.131:2733576</td><td style=\"text-align: right;\">           7</td><td style=\"text-align: right;\">            4</td><td style=\"text-align: right;\">             21</td><td>2021-11-28T00:00:00</td><td style=\"text-align: right;\">0.00730877 </td><td style=\"text-align: right;\">         0.0046</td><td>10YE         </td><td style=\"text-align: right;\">    40</td><td style=\"text-align: right;\">        224.774 </td><td style=\"text-align: right;\">              128</td><td style=\"text-align: right;\">        200</td><td style=\"text-align: right;\"> 0.0845461  </td></tr>\n",
       "<tr><td>TrainLightGCN_13c6a966</td><td>TERMINATED</td><td>147.96.81.131:2734177</td><td style=\"text-align: right;\">           6</td><td style=\"text-align: right;\">            2</td><td style=\"text-align: right;\">              4</td><td>2021-11-28T00:00:00</td><td style=\"text-align: right;\">0.00124592 </td><td style=\"text-align: right;\">         0.0032</td><td>21d          </td><td style=\"text-align: right;\">    40</td><td style=\"text-align: right;\">        197.287 </td><td style=\"text-align: right;\">               64</td><td style=\"text-align: right;\">        200</td><td style=\"text-align: right;\"> 0.0391008  </td></tr>\n",
       "<tr><td>TrainLightGCN_5a650bd5</td><td>TERMINATED</td><td>147.96.81.131:2732983</td><td style=\"text-align: right;\">           7</td><td style=\"text-align: right;\">            3</td><td style=\"text-align: right;\">              1</td><td>2021-11-28T00:00:00</td><td style=\"text-align: right;\">3.65812e-05</td><td style=\"text-align: right;\">         0.1527</td><td>10YE         </td><td style=\"text-align: right;\">    40</td><td style=\"text-align: right;\">        229.109 </td><td style=\"text-align: right;\">              128</td><td style=\"text-align: right;\">        200</td><td style=\"text-align: right;\"> 0.235227   </td></tr>\n",
       "<tr><td>TrainLightGCN_7e7ef73e</td><td>TERMINATED</td><td>147.96.81.131:2732512</td><td style=\"text-align: right;\">           7</td><td style=\"text-align: right;\">            1</td><td style=\"text-align: right;\">              2</td><td>2021-11-28T00:00:00</td><td style=\"text-align: right;\">7.87359e-06</td><td style=\"text-align: right;\">         0.2708</td><td>90d          </td><td style=\"text-align: right;\">    40</td><td style=\"text-align: right;\">        229.724 </td><td style=\"text-align: right;\">              128</td><td style=\"text-align: right;\">        200</td><td style=\"text-align: right;\"> 0.899493   </td></tr>\n",
       "<tr><td>TrainLightGCN_c9058f0d</td><td>TERMINATED</td><td>147.96.81.131:2732357</td><td style=\"text-align: right;\">           7</td><td style=\"text-align: right;\">            1</td><td style=\"text-align: right;\">              8</td><td>2021-11-28T00:00:00</td><td style=\"text-align: right;\">0.00016378 </td><td style=\"text-align: right;\">         0.0687</td><td>90d          </td><td style=\"text-align: right;\">    40</td><td style=\"text-align: right;\">        232.115 </td><td style=\"text-align: right;\">              128</td><td style=\"text-align: right;\">        200</td><td style=\"text-align: right;\"> 0.124321   </td></tr>\n",
       "<tr><td>TrainLightGCN_1c1e6bb2</td><td>TERMINATED</td><td>147.96.81.131:2731843</td><td style=\"text-align: right;\">           7</td><td style=\"text-align: right;\">            1</td><td style=\"text-align: right;\">              9</td><td>2021-11-28T00:00:00</td><td style=\"text-align: right;\">0.00586293 </td><td style=\"text-align: right;\">         0.0857</td><td>90d          </td><td style=\"text-align: right;\">    40</td><td style=\"text-align: right;\">        241.194 </td><td style=\"text-align: right;\">              128</td><td style=\"text-align: right;\">        200</td><td style=\"text-align: right;\"> 0.130912   </td></tr>\n",
       "<tr><td>TrainLightGCN_08737cef</td><td>TERMINATED</td><td>147.96.81.131:2734601</td><td style=\"text-align: right;\">           8</td><td style=\"text-align: right;\">            4</td><td style=\"text-align: right;\">             37</td><td>2021-11-28T00:00:00</td><td style=\"text-align: right;\">1.6536e-05 </td><td style=\"text-align: right;\">         0.0227</td><td>10YE         </td><td style=\"text-align: right;\">    40</td><td style=\"text-align: right;\">        131.261 </td><td style=\"text-align: right;\">              256</td><td style=\"text-align: right;\">        200</td><td style=\"text-align: right;\"> 0.00311248 </td></tr>\n",
       "<tr><td>TrainLightGCN_72a11988</td><td>TERMINATED</td><td>147.96.81.131:2731434</td><td style=\"text-align: right;\">           7</td><td style=\"text-align: right;\">            1</td><td style=\"text-align: right;\">              5</td><td>2021-11-28T00:00:00</td><td style=\"text-align: right;\">0.00047428 </td><td style=\"text-align: right;\">         0.0754</td><td>90d          </td><td style=\"text-align: right;\">    40</td><td style=\"text-align: right;\">        244.14  </td><td style=\"text-align: right;\">              128</td><td style=\"text-align: right;\">        200</td><td style=\"text-align: right;\"> 0.134035   </td></tr>\n",
       "<tr><td>TrainLightGCN_82b3a7de</td><td>TERMINATED</td><td>147.96.81.131:2733283</td><td style=\"text-align: right;\">           7</td><td style=\"text-align: right;\">            3</td><td style=\"text-align: right;\">             10</td><td>2021-11-28T00:00:00</td><td style=\"text-align: right;\">0.00048215 </td><td style=\"text-align: right;\">         0.0937</td><td>21d          </td><td style=\"text-align: right;\">    40</td><td style=\"text-align: right;\">        117.041 </td><td style=\"text-align: right;\">              128</td><td style=\"text-align: right;\">        200</td><td style=\"text-align: right;\"> 0.0552344  </td></tr>\n",
       "<tr><td>TrainLightGCN_07549cb0</td><td>TERMINATED</td><td>147.96.81.131:2730725</td><td style=\"text-align: right;\">           7</td><td style=\"text-align: right;\">            1</td><td style=\"text-align: right;\">            367</td><td>2021-11-28T00:00:00</td><td style=\"text-align: right;\">3.02219e-05</td><td style=\"text-align: right;\">         0.0173</td><td>30d          </td><td style=\"text-align: right;\">    40</td><td style=\"text-align: right;\">        201.364 </td><td style=\"text-align: right;\">              128</td><td style=\"text-align: right;\">        200</td><td style=\"text-align: right;\"> 0.00852226 </td></tr>\n",
       "<tr><td>TrainLightGCN_16307e49</td><td>TERMINATED</td><td>147.96.81.131:2731309</td><td style=\"text-align: right;\">           8</td><td style=\"text-align: right;\">            2</td><td style=\"text-align: right;\">             57</td><td>2021-11-28T00:00:00</td><td style=\"text-align: right;\">1.41175e-05</td><td style=\"text-align: right;\">         0.9226</td><td>60d          </td><td style=\"text-align: right;\">    40</td><td style=\"text-align: right;\">        133.811 </td><td style=\"text-align: right;\">              256</td><td style=\"text-align: right;\">        200</td><td style=\"text-align: right;\"> 3.9345     </td></tr>\n",
       "<tr><td>TrainLightGCN_f867e2f4</td><td>TERMINATED</td><td>147.96.81.131:2730869</td><td style=\"text-align: right;\">           8</td><td style=\"text-align: right;\">            2</td><td style=\"text-align: right;\">            207</td><td>2021-11-28T00:00:00</td><td style=\"text-align: right;\">2.05705e-07</td><td style=\"text-align: right;\">         0.6291</td><td>10YE         </td><td style=\"text-align: right;\">    40</td><td style=\"text-align: right;\">        140.817 </td><td style=\"text-align: right;\">              256</td><td style=\"text-align: right;\">        200</td><td style=\"text-align: right;\"> 3.72939    </td></tr>\n",
       "<tr><td>TrainLightGCN_67665d0b</td><td>TERMINATED</td><td>147.96.81.131:2727625</td><td style=\"text-align: right;\">           6</td><td style=\"text-align: right;\">            3</td><td style=\"text-align: right;\">              2</td><td>2021-11-28T00:00:00</td><td style=\"text-align: right;\">0.00182771 </td><td style=\"text-align: right;\">         0.0001</td><td>60d          </td><td style=\"text-align: right;\">    24</td><td style=\"text-align: right;\">        315.174 </td><td style=\"text-align: right;\">               64</td><td style=\"text-align: right;\">        120</td><td style=\"text-align: right;\"> 0.327146   </td></tr>\n",
       "<tr><td>TrainLightGCN_75dfa2f7</td><td>TERMINATED</td><td>147.96.81.131:2728446</td><td style=\"text-align: right;\">           7</td><td style=\"text-align: right;\">            3</td><td style=\"text-align: right;\">              3</td><td>2021-11-28T00:00:00</td><td style=\"text-align: right;\">0.000127659</td><td style=\"text-align: right;\">         0.0002</td><td>90d          </td><td style=\"text-align: right;\">    40</td><td style=\"text-align: right;\">        271.618 </td><td style=\"text-align: right;\">              128</td><td style=\"text-align: right;\">        200</td><td style=\"text-align: right;\"> 0.126311   </td></tr>\n",
       "<tr><td>TrainLightGCN_2de8bf4d</td><td>TERMINATED</td><td>147.96.81.131:2727249</td><td style=\"text-align: right;\">           6</td><td style=\"text-align: right;\">            4</td><td style=\"text-align: right;\">              4</td><td>2021-11-28T00:00:00</td><td style=\"text-align: right;\">2.23765e-05</td><td style=\"text-align: right;\">         0.0068</td><td>90d          </td><td style=\"text-align: right;\">    24</td><td style=\"text-align: right;\">        318.326 </td><td style=\"text-align: right;\">               64</td><td style=\"text-align: right;\">        120</td><td style=\"text-align: right;\"> 0.0260265  </td></tr>\n",
       "<tr><td>TrainLightGCN_97122370</td><td>TERMINATED</td><td>147.96.81.131:2731106</td><td style=\"text-align: right;\">           9</td><td style=\"text-align: right;\">            1</td><td style=\"text-align: right;\">             25</td><td>2021-11-28T00:00:00</td><td style=\"text-align: right;\">2.08145e-06</td><td style=\"text-align: right;\">         0.0072</td><td>90d          </td><td style=\"text-align: right;\">    40</td><td style=\"text-align: right;\">         80.6908</td><td style=\"text-align: right;\">              512</td><td style=\"text-align: right;\">        200</td><td style=\"text-align: right;\"> 0.00123897 </td></tr>\n",
       "<tr><td>TrainLightGCN_f0a9c272</td><td>TERMINATED</td><td>147.96.81.131:2730092</td><td style=\"text-align: right;\">           8</td><td style=\"text-align: right;\">            1</td><td style=\"text-align: right;\">             39</td><td>2021-11-28T00:00:00</td><td style=\"text-align: right;\">1.12753e-06</td><td style=\"text-align: right;\">         0.2022</td><td>60d          </td><td style=\"text-align: right;\">    40</td><td style=\"text-align: right;\">        145.374 </td><td style=\"text-align: right;\">              256</td><td style=\"text-align: right;\">        200</td><td style=\"text-align: right;\"> 0.101346   </td></tr>\n",
       "<tr><td>TrainLightGCN_94c3f08f</td><td>TERMINATED</td><td>147.96.81.131:2726812</td><td style=\"text-align: right;\">           6</td><td style=\"text-align: right;\">            3</td><td style=\"text-align: right;\">             11</td><td>2021-11-28T00:00:00</td><td style=\"text-align: right;\">4.33483e-05</td><td style=\"text-align: right;\">         0.0394</td><td>60d          </td><td style=\"text-align: right;\">    23</td><td style=\"text-align: right;\">        316.351 </td><td style=\"text-align: right;\">               64</td><td style=\"text-align: right;\">        115</td><td style=\"text-align: right;\"> 0.0150853  </td></tr>\n",
       "<tr><td>TrainLightGCN_73906aff</td><td>TERMINATED</td><td>147.96.81.131:2727393</td><td style=\"text-align: right;\">           7</td><td style=\"text-align: right;\">            3</td><td style=\"text-align: right;\">              1</td><td>2021-11-28T00:00:00</td><td style=\"text-align: right;\">9.33919e-05</td><td style=\"text-align: right;\">         0.0044</td><td>10YE         </td><td style=\"text-align: right;\">    40</td><td style=\"text-align: right;\">        282.747 </td><td style=\"text-align: right;\">              128</td><td style=\"text-align: right;\">        200</td><td style=\"text-align: right;\"> 0.192878   </td></tr>\n",
       "<tr><td>TrainLightGCN_1c5ae961</td><td>TERMINATED</td><td>147.96.81.131:2726514</td><td style=\"text-align: right;\">           6</td><td style=\"text-align: right;\">            3</td><td style=\"text-align: right;\">              2</td><td>2021-11-28T00:00:00</td><td style=\"text-align: right;\">0.0024829  </td><td style=\"text-align: right;\">         0.0225</td><td>10YE         </td><td style=\"text-align: right;\">    23</td><td style=\"text-align: right;\">        314.529 </td><td style=\"text-align: right;\">               64</td><td style=\"text-align: right;\">        115</td><td style=\"text-align: right;\"> 0.111242   </td></tr>\n",
       "<tr><td>TrainLightGCN_2afe18ae</td><td>TERMINATED</td><td>147.96.81.131:2728036</td><td style=\"text-align: right;\">           6</td><td style=\"text-align: right;\">            4</td><td style=\"text-align: right;\">              5</td><td>2021-11-28T00:00:00</td><td style=\"text-align: right;\">6.44859e-05</td><td style=\"text-align: right;\">         0.0012</td><td>21d          </td><td style=\"text-align: right;\">    40</td><td style=\"text-align: right;\">        250.337 </td><td style=\"text-align: right;\">               64</td><td style=\"text-align: right;\">        200</td><td style=\"text-align: right;\"> 0.0316877  </td></tr>\n",
       "<tr><td>TrainLightGCN_d9788dd5</td><td>TERMINATED</td><td>147.96.81.131:2726352</td><td style=\"text-align: right;\">           6</td><td style=\"text-align: right;\">            3</td><td style=\"text-align: right;\">              4</td><td>2021-11-28T00:00:00</td><td style=\"text-align: right;\">0.00102762 </td><td style=\"text-align: right;\">         0.0208</td><td>10YE         </td><td style=\"text-align: right;\">    23</td><td style=\"text-align: right;\">        316.528 </td><td style=\"text-align: right;\">               64</td><td style=\"text-align: right;\">        115</td><td style=\"text-align: right;\"> 0.0471675  </td></tr>\n",
       "<tr><td>TrainLightGCN_ea14092a</td><td>TERMINATED</td><td>147.96.81.131:2726227</td><td style=\"text-align: right;\">           6</td><td style=\"text-align: right;\">            4</td><td style=\"text-align: right;\">              1</td><td>2021-11-28T00:00:00</td><td style=\"text-align: right;\">0.00021702 </td><td style=\"text-align: right;\">         0.0085</td><td>10YE         </td><td style=\"text-align: right;\">    23</td><td style=\"text-align: right;\">        317.171 </td><td style=\"text-align: right;\">               64</td><td style=\"text-align: right;\">        115</td><td style=\"text-align: right;\"> 0.178025   </td></tr>\n",
       "<tr><td>TrainLightGCN_3e8243a1</td><td>TERMINATED</td><td>147.96.81.131:2727107</td><td style=\"text-align: right;\">           7</td><td style=\"text-align: right;\">            3</td><td style=\"text-align: right;\">             17</td><td>2021-11-28T00:00:00</td><td style=\"text-align: right;\">0.00552273 </td><td style=\"text-align: right;\">         0.0121</td><td>90d          </td><td style=\"text-align: right;\">    40</td><td style=\"text-align: right;\">        283.723 </td><td style=\"text-align: right;\">              128</td><td style=\"text-align: right;\">        200</td><td style=\"text-align: right;\"> 0.0640185  </td></tr>\n",
       "<tr><td>TrainLightGCN_9a1341c6</td><td>TERMINATED</td><td>147.96.81.131:2726957</td><td style=\"text-align: right;\">           7</td><td style=\"text-align: right;\">            4</td><td style=\"text-align: right;\">              1</td><td>2021-11-28T00:00:00</td><td style=\"text-align: right;\">0.000175596</td><td style=\"text-align: right;\">         0.0053</td><td>10YE         </td><td style=\"text-align: right;\">    40</td><td style=\"text-align: right;\">        287.317 </td><td style=\"text-align: right;\">              128</td><td style=\"text-align: right;\">        200</td><td style=\"text-align: right;\"> 0.183551   </td></tr>\n",
       "<tr><td>TrainLightGCN_d774320a</td><td>TERMINATED</td><td>147.96.81.131:2725989</td><td style=\"text-align: right;\">           6</td><td style=\"text-align: right;\">            4</td><td style=\"text-align: right;\">              3</td><td>2021-11-28T00:00:00</td><td style=\"text-align: right;\">0.0040546  </td><td style=\"text-align: right;\">         0.0137</td><td>10YE         </td><td style=\"text-align: right;\">    23</td><td style=\"text-align: right;\">        319.263 </td><td style=\"text-align: right;\">               64</td><td style=\"text-align: right;\">        115</td><td style=\"text-align: right;\"> 0.0921896  </td></tr>\n",
       "<tr><td>TrainLightGCN_d2e931b4</td><td>TERMINATED</td><td>147.96.81.131:2730428</td><td style=\"text-align: right;\">           9</td><td style=\"text-align: right;\">            2</td><td style=\"text-align: right;\">             87</td><td>2021-11-28T00:00:00</td><td style=\"text-align: right;\">4.38586e-05</td><td style=\"text-align: right;\">         0.0018</td><td>90d          </td><td style=\"text-align: right;\">    40</td><td style=\"text-align: right;\">         89.6305</td><td style=\"text-align: right;\">              512</td><td style=\"text-align: right;\">        200</td><td style=\"text-align: right;\"> 0.00159797 </td></tr>\n",
       "<tr><td>TrainLightGCN_788ecf01</td><td>TERMINATED</td><td>147.96.81.131:2726662</td><td style=\"text-align: right;\">           7</td><td style=\"text-align: right;\">            3</td><td style=\"text-align: right;\">              6</td><td>2021-11-28T00:00:00</td><td style=\"text-align: right;\">0.000363366</td><td style=\"text-align: right;\">         0.0024</td><td>10YE         </td><td style=\"text-align: right;\">    40</td><td style=\"text-align: right;\">        287.052 </td><td style=\"text-align: right;\">              128</td><td style=\"text-align: right;\">        200</td><td style=\"text-align: right;\"> 0.019867   </td></tr>\n",
       "<tr><td>TrainLightGCN_f54e873e</td><td>TERMINATED</td><td>147.96.81.131:2729679</td><td style=\"text-align: right;\">           8</td><td style=\"text-align: right;\">            1</td><td style=\"text-align: right;\">             10</td><td>2021-11-28T00:00:00</td><td style=\"text-align: right;\">7.45033e-07</td><td style=\"text-align: right;\">         0.0028</td><td>30d          </td><td style=\"text-align: right;\">    40</td><td style=\"text-align: right;\">        119.445 </td><td style=\"text-align: right;\">              256</td><td style=\"text-align: right;\">        200</td><td style=\"text-align: right;\"> 0.0066075  </td></tr>\n",
       "<tr><td>TrainLightGCN_f4718b0f</td><td>TERMINATED</td><td>147.96.81.131:2730584</td><td style=\"text-align: right;\">           8</td><td style=\"text-align: right;\">            3</td><td style=\"text-align: right;\">              7</td><td>2021-11-28T00:00:00</td><td style=\"text-align: right;\">7.28958e-06</td><td style=\"text-align: right;\">         0.0563</td><td>21d          </td><td style=\"text-align: right;\">    40</td><td style=\"text-align: right;\">         76.8811</td><td style=\"text-align: right;\">              256</td><td style=\"text-align: right;\">        200</td><td style=\"text-align: right;\"> 0.0125744  </td></tr>\n",
       "<tr><td>TrainLightGCN_d07e88bc</td><td>TERMINATED</td><td>147.96.81.131:2730298</td><td style=\"text-align: right;\">           9</td><td style=\"text-align: right;\">            3</td><td style=\"text-align: right;\">             14</td><td>2021-11-28T00:00:00</td><td style=\"text-align: right;\">4.17234e-06</td><td style=\"text-align: right;\">         0.0005</td><td>30d          </td><td style=\"text-align: right;\">    40</td><td style=\"text-align: right;\">         71.6532</td><td style=\"text-align: right;\">              512</td><td style=\"text-align: right;\">        200</td><td style=\"text-align: right;\"> 0.0349522  </td></tr>\n",
       "<tr><td>TrainLightGCN_283c2ec5</td><td>TERMINATED</td><td>147.96.81.131:2729884</td><td style=\"text-align: right;\">           9</td><td style=\"text-align: right;\">            2</td><td style=\"text-align: right;\">              7</td><td>2021-11-28T00:00:00</td><td style=\"text-align: right;\">4.51775e-06</td><td style=\"text-align: right;\">         0.3568</td><td>90d          </td><td style=\"text-align: right;\">    40</td><td style=\"text-align: right;\">         91.207 </td><td style=\"text-align: right;\">              512</td><td style=\"text-align: right;\">        200</td><td style=\"text-align: right;\"> 0.546931   </td></tr>\n",
       "<tr><td>TrainLightGCN_67260134</td><td>TERMINATED</td><td>147.96.81.131:2725839</td><td style=\"text-align: right;\">           7</td><td style=\"text-align: right;\">            1</td><td style=\"text-align: right;\">              9</td><td>2021-11-28T00:00:00</td><td style=\"text-align: right;\">3.32935e-05</td><td style=\"text-align: right;\">         0.0768</td><td>90d          </td><td style=\"text-align: right;\">    40</td><td style=\"text-align: right;\">        284.736 </td><td style=\"text-align: right;\">              128</td><td style=\"text-align: right;\">        200</td><td style=\"text-align: right;\"> 0.154109   </td></tr>\n",
       "<tr><td>TrainLightGCN_b4204589</td><td>TERMINATED</td><td>147.96.81.131:2729269</td><td style=\"text-align: right;\">           8</td><td style=\"text-align: right;\">            3</td><td style=\"text-align: right;\">             16</td><td>2021-11-28T00:00:00</td><td style=\"text-align: right;\">1.42714e-05</td><td style=\"text-align: right;\">         0.0108</td><td>30d          </td><td style=\"text-align: right;\">    40</td><td style=\"text-align: right;\">        120.166 </td><td style=\"text-align: right;\">              256</td><td style=\"text-align: right;\">        200</td><td style=\"text-align: right;\"> 0.00165974 </td></tr>\n",
       "<tr><td>TrainLightGCN_16f38091</td><td>TERMINATED</td><td>147.96.81.131:2728653</td><td style=\"text-align: right;\">           8</td><td style=\"text-align: right;\">            4</td><td style=\"text-align: right;\">            126</td><td>2021-11-28T00:00:00</td><td style=\"text-align: right;\">0.000301688</td><td style=\"text-align: right;\">         0.0179</td><td>10YE         </td><td style=\"text-align: right;\">    40</td><td style=\"text-align: right;\">        152.621 </td><td style=\"text-align: right;\">              256</td><td style=\"text-align: right;\">        200</td><td style=\"text-align: right;\"> 0.0110303  </td></tr>\n",
       "<tr><td>TrainLightGCN_f24959b3</td><td>TERMINATED</td><td>147.96.81.131:2724346</td><td style=\"text-align: right;\">           6</td><td style=\"text-align: right;\">            1</td><td style=\"text-align: right;\">             48</td><td>2021-11-28T00:00:00</td><td style=\"text-align: right;\">6.59848e-07</td><td style=\"text-align: right;\">         0.9753</td><td>10YE         </td><td style=\"text-align: right;\">    22</td><td style=\"text-align: right;\">        311.372 </td><td style=\"text-align: right;\">               64</td><td style=\"text-align: right;\">        110</td><td style=\"text-align: right;\"> 4.21566    </td></tr>\n",
       "<tr><td>TrainLightGCN_b207b9aa</td><td>TERMINATED</td><td>147.96.81.131:2727829</td><td style=\"text-align: right;\">           8</td><td style=\"text-align: right;\">            4</td><td style=\"text-align: right;\">             26</td><td>2021-11-28T00:00:00</td><td style=\"text-align: right;\">0.00106554 </td><td style=\"text-align: right;\">         0.076 </td><td>90d          </td><td style=\"text-align: right;\">    40</td><td style=\"text-align: right;\">        153.951 </td><td style=\"text-align: right;\">              256</td><td style=\"text-align: right;\">        200</td><td style=\"text-align: right;\"> 0.0380994  </td></tr>\n",
       "<tr><td>TrainLightGCN_0076ec39</td><td>TERMINATED</td><td>147.96.81.131:2724060</td><td style=\"text-align: right;\">           6</td><td style=\"text-align: right;\">            1</td><td style=\"text-align: right;\">             23</td><td>2021-11-28T00:00:00</td><td style=\"text-align: right;\">1.7169e-05 </td><td style=\"text-align: right;\">         0.8187</td><td>90d          </td><td style=\"text-align: right;\">    22</td><td style=\"text-align: right;\">        315.082 </td><td style=\"text-align: right;\">               64</td><td style=\"text-align: right;\">        110</td><td style=\"text-align: right;\"> 7.42422    </td></tr>\n",
       "<tr><td>TrainLightGCN_9d34140f</td><td>TERMINATED</td><td>147.96.81.131:2729472</td><td style=\"text-align: right;\">           9</td><td style=\"text-align: right;\">            2</td><td style=\"text-align: right;\">             30</td><td>2021-11-28T00:00:00</td><td style=\"text-align: right;\">3.76505e-07</td><td style=\"text-align: right;\">         0.0292</td><td>21d          </td><td style=\"text-align: right;\">    40</td><td style=\"text-align: right;\">         48.8563</td><td style=\"text-align: right;\">              512</td><td style=\"text-align: right;\">        200</td><td style=\"text-align: right;\"> 0.000223264</td></tr>\n",
       "<tr><td>TrainLightGCN_b807e757</td><td>TERMINATED</td><td>147.96.81.131:2729062</td><td style=\"text-align: right;\">           9</td><td style=\"text-align: right;\">            2</td><td style=\"text-align: right;\">             21</td><td>2021-11-28T00:00:00</td><td style=\"text-align: right;\">2.62834e-06</td><td style=\"text-align: right;\">         0.1164</td><td>30d          </td><td style=\"text-align: right;\">    40</td><td style=\"text-align: right;\">         70.3203</td><td style=\"text-align: right;\">              512</td><td style=\"text-align: right;\">        200</td><td style=\"text-align: right;\"> 0.0318737  </td></tr>\n",
       "<tr><td>TrainLightGCN_55067f70</td><td>TERMINATED</td><td>147.96.81.131:2728858</td><td style=\"text-align: right;\">           9</td><td style=\"text-align: right;\">            2</td><td style=\"text-align: right;\">             41</td><td>2021-11-28T00:00:00</td><td style=\"text-align: right;\">3.21325e-06</td><td style=\"text-align: right;\">         0.5693</td><td>30d          </td><td style=\"text-align: right;\">    40</td><td style=\"text-align: right;\">         71.6086</td><td style=\"text-align: right;\">              512</td><td style=\"text-align: right;\">        200</td><td style=\"text-align: right;\"> 0.386113   </td></tr>\n",
       "<tr><td>TrainLightGCN_549a0ebf</td><td>TERMINATED</td><td>147.96.81.131:2725354</td><td style=\"text-align: right;\">           7</td><td style=\"text-align: right;\">            1</td><td style=\"text-align: right;\">             19</td><td>2021-11-28T00:00:00</td><td style=\"text-align: right;\">2.50203e-07</td><td style=\"text-align: right;\">         0.1043</td><td>30d          </td><td style=\"text-align: right;\">    40</td><td style=\"text-align: right;\">        227.436 </td><td style=\"text-align: right;\">              128</td><td style=\"text-align: right;\">        200</td><td style=\"text-align: right;\"> 0.0502922  </td></tr>\n",
       "<tr><td>TrainLightGCN_4865b333</td><td>TERMINATED</td><td>147.96.81.131:2728242</td><td style=\"text-align: right;\">           9</td><td style=\"text-align: right;\">            3</td><td style=\"text-align: right;\">             60</td><td>2021-11-28T00:00:00</td><td style=\"text-align: right;\">7.4279e-06 </td><td style=\"text-align: right;\">         0.1749</td><td>10YE         </td><td style=\"text-align: right;\">    40</td><td style=\"text-align: right;\">         90.5043</td><td style=\"text-align: right;\">              512</td><td style=\"text-align: right;\">        200</td><td style=\"text-align: right;\"> 0.0506474  </td></tr>\n",
       "<tr><td>TrainLightGCN_6902f24b</td><td>TERMINATED</td><td>147.96.81.131:2722478</td><td style=\"text-align: right;\">           6</td><td style=\"text-align: right;\">            4</td><td style=\"text-align: right;\">             13</td><td>2021-11-28T00:00:00</td><td style=\"text-align: right;\">7.76963e-05</td><td style=\"text-align: right;\">         0.0147</td><td>60d          </td><td style=\"text-align: right;\">    21</td><td style=\"text-align: right;\">        314.445 </td><td style=\"text-align: right;\">               64</td><td style=\"text-align: right;\">        105</td><td style=\"text-align: right;\"> 0.00675959 </td></tr>\n",
       "<tr><td>TrainLightGCN_85bc1f2c</td><td>TERMINATED</td><td>147.96.81.131:2724581</td><td style=\"text-align: right;\">           7</td><td style=\"text-align: right;\">            2</td><td style=\"text-align: right;\">             12</td><td>2021-11-28T00:00:00</td><td style=\"text-align: right;\">1.71978e-06</td><td style=\"text-align: right;\">         0.0555</td><td>30d          </td><td style=\"text-align: right;\">    40</td><td style=\"text-align: right;\">        233.183 </td><td style=\"text-align: right;\">              128</td><td style=\"text-align: right;\">        200</td><td style=\"text-align: right;\"> 0.0274898  </td></tr>\n",
       "<tr><td>TrainLightGCN_232c04fc</td><td>TERMINATED</td><td>147.96.81.131:2723903</td><td style=\"text-align: right;\">           7</td><td style=\"text-align: right;\">            2</td><td style=\"text-align: right;\">             48</td><td>2021-11-28T00:00:00</td><td style=\"text-align: right;\">1.13106e-06</td><td style=\"text-align: right;\">         0.06  </td><td>30d          </td><td style=\"text-align: right;\">    40</td><td style=\"text-align: right;\">        238.54  </td><td style=\"text-align: right;\">              128</td><td style=\"text-align: right;\">        200</td><td style=\"text-align: right;\"> 0.0157227  </td></tr>\n",
       "<tr><td>TrainLightGCN_70057d25</td><td>TERMINATED</td><td>147.96.81.131:2723510</td><td style=\"text-align: right;\">           7</td><td style=\"text-align: right;\">            2</td><td style=\"text-align: right;\">            151</td><td>2021-11-28T00:00:00</td><td style=\"text-align: right;\">0.000556502</td><td style=\"text-align: right;\">         0.009 </td><td>30d          </td><td style=\"text-align: right;\">    40</td><td style=\"text-align: right;\">        237.152 </td><td style=\"text-align: right;\">              128</td><td style=\"text-align: right;\">        200</td><td style=\"text-align: right;\"> 0.0103839  </td></tr>\n",
       "<tr><td>TrainLightGCN_f719405a</td><td>TERMINATED</td><td>147.96.81.131:2725714</td><td style=\"text-align: right;\">           8</td><td style=\"text-align: right;\">            2</td><td style=\"text-align: right;\">              3</td><td>2021-11-28T00:00:00</td><td style=\"text-align: right;\">1.44627e-06</td><td style=\"text-align: right;\">         0.046 </td><td>30d          </td><td style=\"text-align: right;\">    40</td><td style=\"text-align: right;\">        120.781 </td><td style=\"text-align: right;\">              256</td><td style=\"text-align: right;\">        200</td><td style=\"text-align: right;\"> 0.0420821  </td></tr>\n",
       "<tr><td>TrainLightGCN_46c23f30</td><td>TERMINATED</td><td>147.96.81.131:2725145</td><td style=\"text-align: right;\">           8</td><td style=\"text-align: right;\">            2</td><td style=\"text-align: right;\">            141</td><td>2021-11-28T00:00:00</td><td style=\"text-align: right;\">1.09724e-07</td><td style=\"text-align: right;\">         0.0264</td><td>90d          </td><td style=\"text-align: right;\">    40</td><td style=\"text-align: right;\">        156.217 </td><td style=\"text-align: right;\">              256</td><td style=\"text-align: right;\">        200</td><td style=\"text-align: right;\"> 9.56427e-05</td></tr>\n",
       "<tr><td>TrainLightGCN_275921db</td><td>TERMINATED</td><td>147.96.81.131:2724705</td><td style=\"text-align: right;\">           8</td><td style=\"text-align: right;\">            2</td><td style=\"text-align: right;\">              6</td><td>2021-11-28T00:00:00</td><td style=\"text-align: right;\">3.27993e-06</td><td style=\"text-align: right;\">         0.1278</td><td>90d          </td><td style=\"text-align: right;\">    40</td><td style=\"text-align: right;\">        158.687 </td><td style=\"text-align: right;\">              256</td><td style=\"text-align: right;\">        200</td><td style=\"text-align: right;\"> 0.162382   </td></tr>\n",
       "<tr><td>TrainLightGCN_199c92b5</td><td>TERMINATED</td><td>147.96.81.131:2720536</td><td style=\"text-align: right;\">           7</td><td style=\"text-align: right;\">            4</td><td style=\"text-align: right;\">             97</td><td>2021-11-28T00:00:00</td><td style=\"text-align: right;\">6.09932e-05</td><td style=\"text-align: right;\">         0.0021</td><td>10YE         </td><td style=\"text-align: right;\">    39</td><td style=\"text-align: right;\">        323.427 </td><td style=\"text-align: right;\">              128</td><td style=\"text-align: right;\">        195</td><td style=\"text-align: right;\"> 0.00263202 </td></tr>\n",
       "<tr><td>TrainLightGCN_111b84cf</td><td>TERMINATED</td><td>147.96.81.131:2725479</td><td style=\"text-align: right;\">           9</td><td style=\"text-align: right;\">            2</td><td style=\"text-align: right;\">             66</td><td>2021-11-28T00:00:00</td><td style=\"text-align: right;\">0.000102219</td><td style=\"text-align: right;\">         0.3206</td><td>10YE         </td><td style=\"text-align: right;\">    40</td><td style=\"text-align: right;\">         90.1196</td><td style=\"text-align: right;\">              512</td><td style=\"text-align: right;\">        200</td><td style=\"text-align: right;\"> 0.756971   </td></tr>\n",
       "<tr><td>TrainLightGCN_4d76a917</td><td>TERMINATED</td><td>147.96.81.131:2723772</td><td style=\"text-align: right;\">           8</td><td style=\"text-align: right;\">            1</td><td style=\"text-align: right;\">              8</td><td>2021-11-28T00:00:00</td><td style=\"text-align: right;\">1.04193e-05</td><td style=\"text-align: right;\">         0.3094</td><td>10YE         </td><td style=\"text-align: right;\">    40</td><td style=\"text-align: right;\">        163.789 </td><td style=\"text-align: right;\">              256</td><td style=\"text-align: right;\">        200</td><td style=\"text-align: right;\"> 1.66304    </td></tr>\n",
       "<tr><td>TrainLightGCN_28027a88</td><td>TERMINATED</td><td>147.96.81.131:2719243</td><td style=\"text-align: right;\">           7</td><td style=\"text-align: right;\">            4</td><td style=\"text-align: right;\">            219</td><td>2021-11-28T00:00:00</td><td style=\"text-align: right;\">0.000261231</td><td style=\"text-align: right;\">         0.095 </td><td>60d          </td><td style=\"text-align: right;\">    40</td><td style=\"text-align: right;\">        319.178 </td><td style=\"text-align: right;\">              128</td><td style=\"text-align: right;\">        200</td><td style=\"text-align: right;\"> 0.275132   </td></tr>\n",
       "<tr><td>TrainLightGCN_fbdd8bb6</td><td>TERMINATED</td><td>147.96.81.131:2724938</td><td style=\"text-align: right;\">           9</td><td style=\"text-align: right;\">            1</td><td style=\"text-align: right;\">             33</td><td>2021-11-28T00:00:00</td><td style=\"text-align: right;\">1.05108e-05</td><td style=\"text-align: right;\">         0.2344</td><td>60d          </td><td style=\"text-align: right;\">    40</td><td style=\"text-align: right;\">         92.04  </td><td style=\"text-align: right;\">              512</td><td style=\"text-align: right;\">        200</td><td style=\"text-align: right;\"> 0.226059   </td></tr>\n",
       "<tr><td>TrainLightGCN_200df0e1</td><td>TERMINATED</td><td>147.96.81.131:2720387</td><td style=\"text-align: right;\">           7</td><td style=\"text-align: right;\">            2</td><td style=\"text-align: right;\">             27</td><td>2021-11-28T00:00:00</td><td style=\"text-align: right;\">3.06006e-05</td><td style=\"text-align: right;\">         0.2056</td><td>30d          </td><td style=\"text-align: right;\">    40</td><td style=\"text-align: right;\">        269.01  </td><td style=\"text-align: right;\">              128</td><td style=\"text-align: right;\">        200</td><td style=\"text-align: right;\"> 0.256823   </td></tr>\n",
       "<tr><td>TrainLightGCN_aef1dda0</td><td>TERMINATED</td><td>147.96.81.131:2722274</td><td style=\"text-align: right;\">           8</td><td style=\"text-align: right;\">            3</td><td style=\"text-align: right;\">              5</td><td>2021-11-28T00:00:00</td><td style=\"text-align: right;\">0.0041931  </td><td style=\"text-align: right;\">         0.0037</td><td>90d          </td><td style=\"text-align: right;\">    40</td><td style=\"text-align: right;\">        175.271 </td><td style=\"text-align: right;\">              256</td><td style=\"text-align: right;\">        200</td><td style=\"text-align: right;\"> 0.0657033  </td></tr>\n",
       "<tr><td>TrainLightGCN_98298f7c</td><td>TERMINATED</td><td>147.96.81.131:2718820</td><td style=\"text-align: right;\">           6</td><td style=\"text-align: right;\">            2</td><td style=\"text-align: right;\">             74</td><td>2021-11-28T00:00:00</td><td style=\"text-align: right;\">8.63799e-07</td><td style=\"text-align: right;\">         0.1736</td><td>10YE         </td><td style=\"text-align: right;\">    21</td><td style=\"text-align: right;\">        313.295 </td><td style=\"text-align: right;\">               64</td><td style=\"text-align: right;\">        105</td><td style=\"text-align: right;\"> 0.230469   </td></tr>\n",
       "<tr><td>TrainLightGCN_46a95515</td><td>TERMINATED</td><td>147.96.81.131:2723305</td><td style=\"text-align: right;\">           8</td><td style=\"text-align: right;\">            1</td><td style=\"text-align: right;\">              4</td><td>2021-11-28T00:00:00</td><td style=\"text-align: right;\">1.18095e-07</td><td style=\"text-align: right;\">         0.0004</td><td>30d          </td><td style=\"text-align: right;\">    40</td><td style=\"text-align: right;\">        135.098 </td><td style=\"text-align: right;\">              256</td><td style=\"text-align: right;\">        200</td><td style=\"text-align: right;\"> 0.103178   </td></tr>\n",
       "<tr><td>TrainLightGCN_c6d41273</td><td>TERMINATED</td><td>147.96.81.131:2723097</td><td style=\"text-align: right;\">           8</td><td style=\"text-align: right;\">            1</td><td style=\"text-align: right;\">              2</td><td>2021-11-28T00:00:00</td><td style=\"text-align: right;\">4.43646e-07</td><td style=\"text-align: right;\">         0.0011</td><td>30d          </td><td style=\"text-align: right;\">    40</td><td style=\"text-align: right;\">        136.025 </td><td style=\"text-align: right;\">              256</td><td style=\"text-align: right;\">        200</td><td style=\"text-align: right;\"> 0.131598   </td></tr>\n",
       "<tr><td>TrainLightGCN_7f97a393</td><td>TERMINATED</td><td>147.96.81.131:2724200</td><td style=\"text-align: right;\">           9</td><td style=\"text-align: right;\">            2</td><td style=\"text-align: right;\">              9</td><td>2021-11-28T00:00:00</td><td style=\"text-align: right;\">5.89197e-06</td><td style=\"text-align: right;\">         0.4428</td><td>60d          </td><td style=\"text-align: right;\">    40</td><td style=\"text-align: right;\">         95.9656</td><td style=\"text-align: right;\">              512</td><td style=\"text-align: right;\">        200</td><td style=\"text-align: right;\"> 0.931961   </td></tr>\n",
       "<tr><td>TrainLightGCN_2c37c503</td><td>TERMINATED</td><td>147.96.81.131:2722891</td><td style=\"text-align: right;\">           8</td><td style=\"text-align: right;\">            1</td><td style=\"text-align: right;\">             18</td><td>2021-11-28T00:00:00</td><td style=\"text-align: right;\">5.18108e-06</td><td style=\"text-align: right;\">         0.7109</td><td>30d          </td><td style=\"text-align: right;\">    40</td><td style=\"text-align: right;\">        138.672 </td><td style=\"text-align: right;\">              256</td><td style=\"text-align: right;\">        200</td><td style=\"text-align: right;\"> 4.55535    </td></tr>\n",
       "<tr><td>TrainLightGCN_e9ee5407</td><td>TERMINATED</td><td>147.96.81.131:2717995</td><td style=\"text-align: right;\">           6</td><td style=\"text-align: right;\">            3</td><td style=\"text-align: right;\">              4</td><td>2021-11-28T00:00:00</td><td style=\"text-align: right;\">0.00375774 </td><td style=\"text-align: right;\">         0.0146</td><td>10YE         </td><td style=\"text-align: right;\">    28</td><td style=\"text-align: right;\">        314.888 </td><td style=\"text-align: right;\">               64</td><td style=\"text-align: right;\">        140</td><td style=\"text-align: right;\"> 0.072003   </td></tr>\n",
       "<tr><td>TrainLightGCN_0d77d0eb</td><td>TERMINATED</td><td>147.96.81.131:2718538</td><td style=\"text-align: right;\">           7</td><td style=\"text-align: right;\">            2</td><td style=\"text-align: right;\">             34</td><td>2021-11-28T00:00:00</td><td style=\"text-align: right;\">0.0007608  </td><td style=\"text-align: right;\">         0.0091</td><td>60d          </td><td style=\"text-align: right;\">    40</td><td style=\"text-align: right;\">        293.795 </td><td style=\"text-align: right;\">              128</td><td style=\"text-align: right;\">        200</td><td style=\"text-align: right;\"> 0.0118457  </td></tr>\n",
       "<tr><td>TrainLightGCN_874866db</td><td>TERMINATED</td><td>147.96.81.131:2721683</td><td style=\"text-align: right;\">           8</td><td style=\"text-align: right;\">            3</td><td style=\"text-align: right;\">             14</td><td>2021-11-28T00:00:00</td><td style=\"text-align: right;\">2.41893e-07</td><td style=\"text-align: right;\">         0.0062</td><td>90d          </td><td style=\"text-align: right;\">    40</td><td style=\"text-align: right;\">        188.282 </td><td style=\"text-align: right;\">              256</td><td style=\"text-align: right;\">        200</td><td style=\"text-align: right;\"> 0.00206663 </td></tr>\n",
       "<tr><td>TrainLightGCN_b5492154</td><td>TERMINATED</td><td>147.96.81.131:2718679</td><td style=\"text-align: right;\">           6</td><td style=\"text-align: right;\">            2</td><td style=\"text-align: right;\">            217</td><td>2021-11-28T00:00:00</td><td style=\"text-align: right;\">2.53991e-06</td><td style=\"text-align: right;\">         0.4785</td><td>21d          </td><td style=\"text-align: right;\">    40</td><td style=\"text-align: right;\">        261.248 </td><td style=\"text-align: right;\">               64</td><td style=\"text-align: right;\">        200</td><td style=\"text-align: right;\"> 0.764592   </td></tr>\n",
       "<tr><td>TrainLightGCN_15c5bcde</td><td>TERMINATED</td><td>147.96.81.131:2718256</td><td style=\"text-align: right;\">           7</td><td style=\"text-align: right;\">            4</td><td style=\"text-align: right;\">             32</td><td>2021-11-28T00:00:00</td><td style=\"text-align: right;\">1.24202e-06</td><td style=\"text-align: right;\">         0.015 </td><td>10YE         </td><td style=\"text-align: right;\">    40</td><td style=\"text-align: right;\">        270.483 </td><td style=\"text-align: right;\">              128</td><td style=\"text-align: right;\">        200</td><td style=\"text-align: right;\"> 0.0150454  </td></tr>\n",
       "<tr><td>TrainLightGCN_8792015c</td><td>TERMINATED</td><td>147.96.81.131:2720244</td><td style=\"text-align: right;\">           8</td><td style=\"text-align: right;\">            2</td><td style=\"text-align: right;\">            241</td><td>2021-11-28T00:00:00</td><td style=\"text-align: right;\">5.10482e-06</td><td style=\"text-align: right;\">         0.0017</td><td>90d          </td><td style=\"text-align: right;\">    40</td><td style=\"text-align: right;\">        189.819 </td><td style=\"text-align: right;\">              256</td><td style=\"text-align: right;\">        200</td><td style=\"text-align: right;\"> 0.000236005</td></tr>\n",
       "<tr><td>TrainLightGCN_b3a583d1</td><td>TERMINATED</td><td>147.96.81.131:2719955</td><td style=\"text-align: right;\">           8</td><td style=\"text-align: right;\">            3</td><td style=\"text-align: right;\">            447</td><td>2021-11-28T00:00:00</td><td style=\"text-align: right;\">0.000129301</td><td style=\"text-align: right;\">         0.0008</td><td>60d          </td><td style=\"text-align: right;\">    40</td><td style=\"text-align: right;\">        189.797 </td><td style=\"text-align: right;\">              256</td><td style=\"text-align: right;\">        200</td><td style=\"text-align: right;\"> 0.00320942 </td></tr>\n",
       "<tr><td>TrainLightGCN_8471e71d</td><td>TERMINATED</td><td>147.96.81.131:2720677</td><td style=\"text-align: right;\">           8</td><td style=\"text-align: right;\">            2</td><td style=\"text-align: right;\">              3</td><td>2021-11-28T00:00:00</td><td style=\"text-align: right;\">0.00158506 </td><td style=\"text-align: right;\">         0.0001</td><td>30d          </td><td style=\"text-align: right;\">    40</td><td style=\"text-align: right;\">        157.12  </td><td style=\"text-align: right;\">              256</td><td style=\"text-align: right;\">        200</td><td style=\"text-align: right;\"> 0.407184   </td></tr>\n",
       "<tr><td>TrainLightGCN_c2566f3d</td><td>TERMINATED</td><td>147.96.81.131:2722686</td><td style=\"text-align: right;\">           9</td><td style=\"text-align: right;\">            1</td><td style=\"text-align: right;\">             47</td><td>2021-11-28T00:00:00</td><td style=\"text-align: right;\">4.94971e-07</td><td style=\"text-align: right;\">         0.0004</td><td>21d          </td><td style=\"text-align: right;\">    40</td><td style=\"text-align: right;\">         55.0002</td><td style=\"text-align: right;\">              512</td><td style=\"text-align: right;\">        200</td><td style=\"text-align: right;\"> 0.0141628  </td></tr>\n",
       "<tr><td>TrainLightGCN_2d6bcbfc</td><td>TERMINATED</td><td>147.96.81.131:2721391</td><td style=\"text-align: right;\">           9</td><td style=\"text-align: right;\">            3</td><td style=\"text-align: right;\">              2</td><td>2021-11-28T00:00:00</td><td style=\"text-align: right;\">1.13095e-05</td><td style=\"text-align: right;\">         0.0007</td><td>90d          </td><td style=\"text-align: right;\">    40</td><td style=\"text-align: right;\">        110.684 </td><td style=\"text-align: right;\">              512</td><td style=\"text-align: right;\">        200</td><td style=\"text-align: right;\"> 0.125534   </td></tr>\n",
       "<tr><td>TrainLightGCN_25371751</td><td>TERMINATED</td><td>147.96.81.131:2721250</td><td style=\"text-align: right;\">           9</td><td style=\"text-align: right;\">            3</td><td style=\"text-align: right;\">              1</td><td>2021-11-28T00:00:00</td><td style=\"text-align: right;\">0.000354172</td><td style=\"text-align: right;\">         0.0364</td><td>90d          </td><td style=\"text-align: right;\">    40</td><td style=\"text-align: right;\">        112.674 </td><td style=\"text-align: right;\">              512</td><td style=\"text-align: right;\">        200</td><td style=\"text-align: right;\"> 0.205134   </td></tr>\n",
       "<tr><td>TrainLightGCN_1cf462a7</td><td>TERMINATED</td><td>147.96.81.131:2722068</td><td style=\"text-align: right;\">           9</td><td style=\"text-align: right;\">            3</td><td style=\"text-align: right;\">            614</td><td>2021-11-28T00:00:00</td><td style=\"text-align: right;\">0.0006744  </td><td style=\"text-align: right;\">         0.0202</td><td>21d          </td><td style=\"text-align: right;\">    40</td><td style=\"text-align: right;\">         59.6599</td><td style=\"text-align: right;\">              512</td><td style=\"text-align: right;\">        200</td><td style=\"text-align: right;\"> 0.0235842  </td></tr>\n",
       "<tr><td>TrainLightGCN_cc803b3b</td><td>TERMINATED</td><td>147.96.81.131:2720964</td><td style=\"text-align: right;\">           9</td><td style=\"text-align: right;\">            1</td><td style=\"text-align: right;\">              9</td><td>2021-11-28T00:00:00</td><td style=\"text-align: right;\">1.31949e-05</td><td style=\"text-align: right;\">         0.0422</td><td>90d          </td><td style=\"text-align: right;\">    40</td><td style=\"text-align: right;\">        114.118 </td><td style=\"text-align: right;\">              512</td><td style=\"text-align: right;\">        200</td><td style=\"text-align: right;\"> 0.0142275  </td></tr>\n",
       "<tr><td>TrainLightGCN_fe958b8d</td><td>TERMINATED</td><td>147.96.81.131:2719531</td><td style=\"text-align: right;\">           7</td><td style=\"text-align: right;\">            2</td><td style=\"text-align: right;\">             96</td><td>2021-11-28T00:00:00</td><td style=\"text-align: right;\">4.92424e-05</td><td style=\"text-align: right;\">         0.0784</td><td>21d          </td><td style=\"text-align: right;\">    40</td><td style=\"text-align: right;\">        160.536 </td><td style=\"text-align: right;\">              128</td><td style=\"text-align: right;\">        200</td><td style=\"text-align: right;\"> 0.0745936  </td></tr>\n",
       "<tr><td>TrainLightGCN_39d2f237</td><td>TERMINATED</td><td>147.96.81.131:2719813</td><td style=\"text-align: right;\">           8</td><td style=\"text-align: right;\">            3</td><td style=\"text-align: right;\">             86</td><td>2021-11-28T00:00:00</td><td style=\"text-align: right;\">0.000166749</td><td style=\"text-align: right;\">         0.0002</td><td>30d          </td><td style=\"text-align: right;\">    40</td><td style=\"text-align: right;\">        148.075 </td><td style=\"text-align: right;\">              256</td><td style=\"text-align: right;\">        200</td><td style=\"text-align: right;\"> 0.0183917  </td></tr>\n",
       "<tr><td>TrainLightGCN_5bb0a5bf</td><td>TERMINATED</td><td>147.96.81.131:2720819</td><td style=\"text-align: right;\">           9</td><td style=\"text-align: right;\">            1</td><td style=\"text-align: right;\">            994</td><td>2021-11-28T00:00:00</td><td style=\"text-align: right;\">1.89807e-07</td><td style=\"text-align: right;\">         0.0053</td><td>90d          </td><td style=\"text-align: right;\">    40</td><td style=\"text-align: right;\">        107.48  </td><td style=\"text-align: right;\">              512</td><td style=\"text-align: right;\">        200</td><td style=\"text-align: right;\"> 0.000117471</td></tr>\n",
       "<tr><td>TrainLightGCN_9d772163</td><td>TERMINATED</td><td>147.96.81.131:2721834</td><td style=\"text-align: right;\">           9</td><td style=\"text-align: right;\">            4</td><td style=\"text-align: right;\">              2</td><td>2021-11-28T00:00:00</td><td style=\"text-align: right;\">1.92293e-05</td><td style=\"text-align: right;\">         0.0015</td><td>21d          </td><td style=\"text-align: right;\">    40</td><td style=\"text-align: right;\">         61.1641</td><td style=\"text-align: right;\">              512</td><td style=\"text-align: right;\">        200</td><td style=\"text-align: right;\"> 0.131596   </td></tr>\n",
       "<tr><td>TrainLightGCN_54139f6a</td><td>TERMINATED</td><td>147.96.81.131:2719381</td><td style=\"text-align: right;\">           8</td><td style=\"text-align: right;\">            2</td><td style=\"text-align: right;\">             26</td><td>2021-11-28T00:00:00</td><td style=\"text-align: right;\">1.42721e-06</td><td style=\"text-align: right;\">         0.6694</td><td>30d          </td><td style=\"text-align: right;\">    40</td><td style=\"text-align: right;\">        139.538 </td><td style=\"text-align: right;\">              256</td><td style=\"text-align: right;\">        200</td><td style=\"text-align: right;\"> 1.66467    </td></tr>\n",
       "<tr><td>TrainLightGCN_d02720fb</td><td>TERMINATED</td><td>147.96.81.131:2721534</td><td style=\"text-align: right;\">           9</td><td style=\"text-align: right;\">            1</td><td style=\"text-align: right;\">              1</td><td>2021-11-28T00:00:00</td><td style=\"text-align: right;\">0.009903   </td><td style=\"text-align: right;\">         0.0308</td><td>21d          </td><td style=\"text-align: right;\">    40</td><td style=\"text-align: right;\">         61.266 </td><td style=\"text-align: right;\">              512</td><td style=\"text-align: right;\">        200</td><td style=\"text-align: right;\"> 0.25407    </td></tr>\n",
       "<tr><td>TrainLightGCN_30a6ee28</td><td>TERMINATED</td><td>147.96.81.131:2721107</td><td style=\"text-align: right;\">           9</td><td style=\"text-align: right;\">            1</td><td style=\"text-align: right;\">            800</td><td>2021-11-28T00:00:00</td><td style=\"text-align: right;\">0.00957578 </td><td style=\"text-align: right;\">         0.0034</td><td>21d          </td><td style=\"text-align: right;\">    40</td><td style=\"text-align: right;\">         61.1498</td><td style=\"text-align: right;\">              512</td><td style=\"text-align: right;\">        200</td><td style=\"text-align: right;\"> 0.0730166  </td></tr>\n",
       "<tr><td>TrainLightGCN_5a8105e0</td><td>TERMINATED</td><td>147.96.81.131:2720096</td><td style=\"text-align: right;\">           8</td><td style=\"text-align: right;\">            4</td><td style=\"text-align: right;\">              7</td><td>2021-11-28T00:00:00</td><td style=\"text-align: right;\">2.91903e-06</td><td style=\"text-align: right;\">         0.1593</td><td>21d          </td><td style=\"text-align: right;\">    40</td><td style=\"text-align: right;\">         93.0931</td><td style=\"text-align: right;\">              256</td><td style=\"text-align: right;\">        200</td><td style=\"text-align: right;\"> 0.200279   </td></tr>\n",
       "<tr><td>TrainLightGCN_41dfae2f</td><td>TERMINATED</td><td>147.96.81.131:2719673</td><td style=\"text-align: right;\">           9</td><td style=\"text-align: right;\">            2</td><td style=\"text-align: right;\">            364</td><td>2021-11-28T00:00:00</td><td style=\"text-align: right;\">2.08113e-06</td><td style=\"text-align: right;\">         0.0002</td><td>90d          </td><td style=\"text-align: right;\">    40</td><td style=\"text-align: right;\">         98.9154</td><td style=\"text-align: right;\">              512</td><td style=\"text-align: right;\">        200</td><td style=\"text-align: right;\"> 0.00327261 </td></tr>\n",
       "<tr><td>TrainLightGCN_87486791</td><td>TERMINATED</td><td>147.96.81.131:2718962</td><td style=\"text-align: right;\">           9</td><td style=\"text-align: right;\">            3</td><td style=\"text-align: right;\">            332</td><td>2021-11-28T00:00:00</td><td style=\"text-align: right;\">0.00221159 </td><td style=\"text-align: right;\">         0.4863</td><td>10YE         </td><td style=\"text-align: right;\">    40</td><td style=\"text-align: right;\">         81.1662</td><td style=\"text-align: right;\">              512</td><td style=\"text-align: right;\">        200</td><td style=\"text-align: right;\">10.1496     </td></tr>\n",
       "<tr><td>TrainLightGCN_7da2c16c</td><td>TERMINATED</td><td>147.96.81.131:2719102</td><td style=\"text-align: right;\">           9</td><td style=\"text-align: right;\">            1</td><td style=\"text-align: right;\">              1</td><td>2021-11-28T00:00:00</td><td style=\"text-align: right;\">0.000699071</td><td style=\"text-align: right;\">         0.0029</td><td>21d          </td><td style=\"text-align: right;\">    40</td><td style=\"text-align: right;\">         38.9796</td><td style=\"text-align: right;\">              512</td><td style=\"text-align: right;\">        200</td><td style=\"text-align: right;\"> 0.234608   </td></tr>\n",
       "<tr><td>TrainLightGCN_8161ab60</td><td>TERMINATED</td><td>147.96.81.131:2718114</td><td style=\"text-align: right;\">           9</td><td style=\"text-align: right;\">            3</td><td style=\"text-align: right;\">            665</td><td>2021-11-28T00:00:00</td><td style=\"text-align: right;\">2.74456e-05</td><td style=\"text-align: right;\">         0.0092</td><td>90d          </td><td style=\"text-align: right;\">    40</td><td style=\"text-align: right;\">         55.5678</td><td style=\"text-align: right;\">              512</td><td style=\"text-align: right;\">        200</td><td style=\"text-align: right;\"> 0.00365119 </td></tr>\n",
       "<tr><td>TrainLightGCN_f3d0ea53</td><td>TERMINATED</td><td>147.96.81.131:2718398</td><td style=\"text-align: right;\">           9</td><td style=\"text-align: right;\">            2</td><td style=\"text-align: right;\">             86</td><td>2021-11-28T00:00:00</td><td style=\"text-align: right;\">0.00134325 </td><td style=\"text-align: right;\">         0.0006</td><td>21d          </td><td style=\"text-align: right;\">    40</td><td style=\"text-align: right;\">         26.615 </td><td style=\"text-align: right;\">              512</td><td style=\"text-align: right;\">        200</td><td style=\"text-align: right;\"> 0.0205671  </td></tr>\n",
       "</tbody>\n",
       "</table>\n",
       "  </div>\n",
       "</div>\n",
       "<style>\n",
       ".tuneStatus {\n",
       "  color: var(--jp-ui-font-color1);\n",
       "}\n",
       ".tuneStatus .systemInfo {\n",
       "  display: flex;\n",
       "  flex-direction: column;\n",
       "}\n",
       ".tuneStatus td {\n",
       "  white-space: nowrap;\n",
       "}\n",
       ".tuneStatus .trialStatus {\n",
       "  display: flex;\n",
       "  flex-direction: column;\n",
       "}\n",
       ".tuneStatus h3 {\n",
       "  font-weight: bold;\n",
       "}\n",
       ".tuneStatus .hDivider {\n",
       "  border-bottom-width: var(--jp-border-width);\n",
       "  border-bottom-color: var(--jp-border-color0);\n",
       "  border-bottom-style: solid;\n",
       "}\n",
       ".tuneStatus .vDivider {\n",
       "  border-left-width: var(--jp-border-width);\n",
       "  border-left-color: var(--jp-border-color0);\n",
       "  border-left-style: solid;\n",
       "  margin: 0.5em 1em 0.5em 1em;\n",
       "}\n",
       "</style>\n"
      ],
      "text/plain": [
       "<IPython.core.display.HTML object>"
      ]
     },
     "metadata": {},
     "output_type": "display_data"
    },
    {
     "name": "stderr",
     "output_type": "stream",
     "text": [
      "2024-09-05 09:01:27,458\tINFO tune_controller.py:444 -- Restoring the run from the latest experiment state file: experiment_state-2024-09-05_09-01-26.json\n"
     ]
    },
    {
     "name": "stderr",
     "output_type": "stream",
     "text": [
      "2024-09-05 09:01:27,976\tINFO tune.py:1009 -- Wrote the latest version of all result files and experiment state to '/home/daviddavo/ray_results3.11/DEAD FoundationsDAO/LightGCN_2d_normalize_map@10_fold=2021-11-28T00:00:00_2024-08-30T20:52:12.522378' in 0.3362s.\n"
     ]
    },
    {
     "name": "stderr",
     "output_type": "stream",
     "text": [
      "2024-09-05 09:01:27,989\tINFO tune.py:1041 -- Total run time: 0.54 seconds (0.00 seconds for the tuning loop).\n"
     ]
    },
    {
     "name": "stdout",
     "output_type": "stream",
     "text": [
      "Finished training for fold 2021-11-28T00:00:00\n"
     ]
    }
   ],
   "source": [
    "import logging\n",
    "import requests\n",
    "\n",
    "def findConfig(rg):\n",
    "    for r in rg:\n",
    "        if r.config:\n",
    "            lbrc = last_best_result.config\n",
    "            if all((r.config[k] == v for k, v in last_best_result.config.items() if k != 'fold')):\n",
    "                return r\n",
    "            elif all((r.config[k] == v for k, v in last_best_result.config.items() if k != 'fold' and k != 'window_size')):\n",
    "                print(\"Possible coincidence:\", r.config, file=sys.stderr)\n",
    "\n",
    "    return None\n",
    "\n",
    "tuners = []\n",
    "results = []\n",
    "last_best_result = None\n",
    "pbar.reset()\n",
    "\n",
    "last_best_fold = None\n",
    "requests.post(\"https://ntfy.sh/grasia_notebooks\", data=f\"Start running microsoft_tuning for {ORG_NAME}\")\n",
    "for i, (prev_f_idx, f_idx) in enumerate(zip(it.chain([None], use_folds_idx), use_folds_idx)):\n",
    "    try:\n",
    "        with out:\n",
    "            best_prev_config = None\n",
    "            if last_best_result is not None:\n",
    "                best_prev_config = last_best_result.config.copy()\n",
    "                assert best_prev_config['fold'] == prev_f_idx\n",
    "                best_prev_config['fold'] = f_idx\n",
    "                print(f\"Also evaluating best_prev_config ({OPTIM_METRIC}={last_best_result.metrics[OPTIM_METRIC]}): {best_prev_config}\")\n",
    "                best_prev_config = [best_prev_config]\n",
    "        \n",
    "        t = getTunerOnFold(f_idx, best_prev_config)\n",
    "        tuners.append(t)\n",
    "    \n",
    "        rg = t.fit()\n",
    "        \n",
    "        # FIXME: load results from disk until ray-project/ray#47358 is solved\n",
    "        # https://github.com/ray-project/ray/issues/47358\n",
    "        t = getTunerOnFold(f_idx, best_prev_config)\n",
    "        tuners[-1] = t\n",
    "        rg = t.fit()\n",
    "    \n",
    "        assert rg.num_errors == 0, f\"There are {rg.num_errors} errors\"\n",
    "        assert rg.num_terminated >= NUM_SAMPLES, f'Some samples are not terminated ({rg.num_terminated} != {NUM_SAMPLES})'\n",
    "        assert len(rg.get_dataframe()) >= NUM_SAMPLES\n",
    "        results.append(rg)\n",
    "    \n",
    "        # Assert that the prev config has been tried\n",
    "        if last_best_result is not None:\n",
    "            # if not any( \n",
    "            #     all((r.config[k] == v for k, v in last_best_result.config.items() if k != 'fold'))\n",
    "            #     for r in rg if r.config\n",
    "            # ):\n",
    "            if not findConfig(rg):\n",
    "                print(\"Best config:\", last_best_result.config)\n",
    "                assert False, f\"The best config from previous fold has not been tested in fold {f_idx}\"    \n",
    "            else:\n",
    "                logging.info(f'Fold {f_idx}. Best prev result was {last_best_result.path} and config has been found {findConfig(rg).path}')\n",
    "        \n",
    "        last_best_result = rg.get_best_result()\n",
    "        pbar.update()\n",
    "    \n",
    "        print(f\"Finished training for fold {f_idx}\")\n",
    "        requests.post(\"https://ntfy.sh/grasia_notebooks\", data=f\"Finished running fold {i} for {ORG_NAME}\")\n",
    "    except Exception as e:\n",
    "        requests.post(\"https://ntfy.sh/grasia_notebooks\", data=f\"Error on fold {i} for {ORG_NAME}: {repr(e)}\")\n",
    "        raise\n",
    "\n",
    "pbar.close()"
   ]
  },
  {
   "cell_type": "code",
   "execution_count": 23,
   "id": "3107944f",
   "metadata": {
    "editable": true,
    "execution": {
     "iopub.execute_input": "2024-09-05T09:01:28.514648Z",
     "iopub.status.busy": "2024-09-05T09:01:28.514572Z",
     "iopub.status.idle": "2024-09-05T09:01:28.855296Z",
     "shell.execute_reply": "2024-09-05T09:01:28.853068Z"
    },
    "papermill": {
     "duration": 0.359847,
     "end_time": "2024-09-05T09:01:28.859472",
     "exception": false,
     "start_time": "2024-09-05T09:01:28.499625",
     "status": "completed"
    },
    "slideshow": {
     "slide_type": ""
    },
    "tags": []
   },
   "outputs": [
    {
     "name": "stdout",
     "output_type": "stream",
     "text": [
      "Finished!\n"
     ]
    }
   ],
   "source": [
    "requests.post(\"https://ntfy.sh/grasia_notebooks\", data=f\"Finished running everything for {ORG_NAME}\")\n",
    "print(\"Finished!\")"
   ]
  }
 ],
 "metadata": {
  "kernelspec": {
   "display_name": "Python 3 (ipykernel)",
   "language": "python",
   "name": "python3"
  },
  "language_info": {
   "codemirror_mode": {
    "name": "ipython",
    "version": 3
   },
   "file_extension": ".py",
   "mimetype": "text/x-python",
   "name": "python",
   "nbconvert_exporter": "python",
   "pygments_lexer": "ipython3",
   "version": "3.11.6"
  },
  "papermill": {
   "default_parameters": {},
   "duration": 68.557725,
   "end_time": "2024-09-05T09:01:33.999950",
   "environment_variables": {},
   "exception": null,
   "input_path": "20_microsoft_tuning.ipynb",
   "output_path": "../nbout/DEAD FoundationsDAO/20_microsoft_tuning.ipynb",
   "parameters": {
    "EXECUTION_ID": "2024-09-04T10:00",
    "GPUS": 32,
    "LAST_FOLDS": 20,
    "LAST_FOLD_DATE_STR": "2021-11-28",
    "MAX_BATCH_SIZE": 9,
    "ORG_NAME": "DEAD FoundationsDAO",
    "SPLITS_FREQ": "2d",
    "SPLITS_NORMALIZE": true
   },
   "start_time": "2024-09-05T09:00:25.442225",
   "version": "2.6.0"
  },
  "widgets": {
   "application/vnd.jupyter.widget-state+json": {
    "state": {
     "2000ec1b393b487191f7b6ba9cbd4372": {
      "model_module": "@jupyter-widgets/controls",
      "model_module_version": "2.0.0",
      "model_name": "HTMLModel",
      "state": {
       "_dom_classes": [],
       "_model_module": "@jupyter-widgets/controls",
       "_model_module_version": "2.0.0",
       "_model_name": "HTMLModel",
       "_view_count": null,
       "_view_module": "@jupyter-widgets/controls",
       "_view_module_version": "2.0.0",
       "_view_name": "HTMLView",
       "description": "",
       "description_allow_html": false,
       "layout": "IPY_MODEL_4c35092769aa4e02a40eba1969cea3b4",
       "placeholder": "​",
       "style": "IPY_MODEL_f2f137e4daa6490792a6874b8365617e",
       "tabbable": null,
       "tooltip": null,
       "value": "fold: 100%"
      }
     },
     "39c6f5ace27c44e0983f8779e70b0ac6": {
      "model_module": "@jupyter-widgets/controls",
      "model_module_version": "2.0.0",
      "model_name": "ProgressStyleModel",
      "state": {
       "_model_module": "@jupyter-widgets/controls",
       "_model_module_version": "2.0.0",
       "_model_name": "ProgressStyleModel",
       "_view_count": null,
       "_view_module": "@jupyter-widgets/base",
       "_view_module_version": "2.0.0",
       "_view_name": "StyleView",
       "bar_color": null,
       "description_width": ""
      }
     },
     "46b196c9ad274b8ea6a0ec256dbdb0bd": {
      "model_module": "@jupyter-widgets/controls",
      "model_module_version": "2.0.0",
      "model_name": "FloatProgressModel",
      "state": {
       "_dom_classes": [],
       "_model_module": "@jupyter-widgets/controls",
       "_model_module_version": "2.0.0",
       "_model_name": "FloatProgressModel",
       "_view_count": null,
       "_view_module": "@jupyter-widgets/controls",
       "_view_module_version": "2.0.0",
       "_view_name": "ProgressView",
       "bar_style": "success",
       "description": "",
       "description_allow_html": false,
       "layout": "IPY_MODEL_b202f64223aa4d0795ca81ee7fa704c7",
       "max": 20.0,
       "min": 0.0,
       "orientation": "horizontal",
       "style": "IPY_MODEL_39c6f5ace27c44e0983f8779e70b0ac6",
       "tabbable": null,
       "tooltip": null,
       "value": 20.0
      }
     },
     "4b13e1d4ae414768903a00bb929c6206": {
      "model_module": "@jupyter-widgets/controls",
      "model_module_version": "2.0.0",
      "model_name": "HTMLModel",
      "state": {
       "_dom_classes": [],
       "_model_module": "@jupyter-widgets/controls",
       "_model_module_version": "2.0.0",
       "_model_name": "HTMLModel",
       "_view_count": null,
       "_view_module": "@jupyter-widgets/controls",
       "_view_module_version": "2.0.0",
       "_view_name": "HTMLView",
       "description": "",
       "description_allow_html": false,
       "layout": "IPY_MODEL_5738a6dffdc3493b9a4220d98300bb84",
       "placeholder": "​",
       "style": "IPY_MODEL_7a46e98b5e7b42b5892adfc830708287",
       "tabbable": null,
       "tooltip": null,
       "value": " 20/20 [00:58&lt;00:00,  2.54s/it]"
      }
     },
     "4c35092769aa4e02a40eba1969cea3b4": {
      "model_module": "@jupyter-widgets/base",
      "model_module_version": "2.0.0",
      "model_name": "LayoutModel",
      "state": {
       "_model_module": "@jupyter-widgets/base",
       "_model_module_version": "2.0.0",
       "_model_name": "LayoutModel",
       "_view_count": null,
       "_view_module": "@jupyter-widgets/base",
       "_view_module_version": "2.0.0",
       "_view_name": "LayoutView",
       "align_content": null,
       "align_items": null,
       "align_self": null,
       "border_bottom": null,
       "border_left": null,
       "border_right": null,
       "border_top": null,
       "bottom": null,
       "display": null,
       "flex": null,
       "flex_flow": null,
       "grid_area": null,
       "grid_auto_columns": null,
       "grid_auto_flow": null,
       "grid_auto_rows": null,
       "grid_column": null,
       "grid_gap": null,
       "grid_row": null,
       "grid_template_areas": null,
       "grid_template_columns": null,
       "grid_template_rows": null,
       "height": null,
       "justify_content": null,
       "justify_items": null,
       "left": null,
       "margin": null,
       "max_height": null,
       "max_width": null,
       "min_height": null,
       "min_width": null,
       "object_fit": null,
       "object_position": null,
       "order": null,
       "overflow": null,
       "padding": null,
       "right": null,
       "top": null,
       "visibility": null,
       "width": null
      }
     },
     "5738a6dffdc3493b9a4220d98300bb84": {
      "model_module": "@jupyter-widgets/base",
      "model_module_version": "2.0.0",
      "model_name": "LayoutModel",
      "state": {
       "_model_module": "@jupyter-widgets/base",
       "_model_module_version": "2.0.0",
       "_model_name": "LayoutModel",
       "_view_count": null,
       "_view_module": "@jupyter-widgets/base",
       "_view_module_version": "2.0.0",
       "_view_name": "LayoutView",
       "align_content": null,
       "align_items": null,
       "align_self": null,
       "border_bottom": null,
       "border_left": null,
       "border_right": null,
       "border_top": null,
       "bottom": null,
       "display": null,
       "flex": null,
       "flex_flow": null,
       "grid_area": null,
       "grid_auto_columns": null,
       "grid_auto_flow": null,
       "grid_auto_rows": null,
       "grid_column": null,
       "grid_gap": null,
       "grid_row": null,
       "grid_template_areas": null,
       "grid_template_columns": null,
       "grid_template_rows": null,
       "height": null,
       "justify_content": null,
       "justify_items": null,
       "left": null,
       "margin": null,
       "max_height": null,
       "max_width": null,
       "min_height": null,
       "min_width": null,
       "object_fit": null,
       "object_position": null,
       "order": null,
       "overflow": null,
       "padding": null,
       "right": null,
       "top": null,
       "visibility": null,
       "width": null
      }
     },
     "65dfb0cb65cd4e80b7c5a15b47c1d9f3": {
      "model_module": "@jupyter-widgets/base",
      "model_module_version": "2.0.0",
      "model_name": "LayoutModel",
      "state": {
       "_model_module": "@jupyter-widgets/base",
       "_model_module_version": "2.0.0",
       "_model_name": "LayoutModel",
       "_view_count": null,
       "_view_module": "@jupyter-widgets/base",
       "_view_module_version": "2.0.0",
       "_view_name": "LayoutView",
       "align_content": null,
       "align_items": null,
       "align_self": null,
       "border_bottom": null,
       "border_left": null,
       "border_right": null,
       "border_top": null,
       "bottom": null,
       "display": null,
       "flex": null,
       "flex_flow": null,
       "grid_area": null,
       "grid_auto_columns": null,
       "grid_auto_flow": null,
       "grid_auto_rows": null,
       "grid_column": null,
       "grid_gap": null,
       "grid_row": null,
       "grid_template_areas": null,
       "grid_template_columns": null,
       "grid_template_rows": null,
       "height": null,
       "justify_content": null,
       "justify_items": null,
       "left": null,
       "margin": null,
       "max_height": null,
       "max_width": null,
       "min_height": null,
       "min_width": null,
       "object_fit": null,
       "object_position": null,
       "order": null,
       "overflow": null,
       "padding": null,
       "right": null,
       "top": null,
       "visibility": null,
       "width": null
      }
     },
     "75281fe5d27d47a8a8a220937e220d42": {
      "model_module": "@jupyter-widgets/controls",
      "model_module_version": "2.0.0",
      "model_name": "HBoxModel",
      "state": {
       "_dom_classes": [],
       "_model_module": "@jupyter-widgets/controls",
       "_model_module_version": "2.0.0",
       "_model_name": "HBoxModel",
       "_view_count": null,
       "_view_module": "@jupyter-widgets/controls",
       "_view_module_version": "2.0.0",
       "_view_name": "HBoxView",
       "box_style": "",
       "children": [
        "IPY_MODEL_2000ec1b393b487191f7b6ba9cbd4372",
        "IPY_MODEL_46b196c9ad274b8ea6a0ec256dbdb0bd",
        "IPY_MODEL_4b13e1d4ae414768903a00bb929c6206"
       ],
       "layout": "IPY_MODEL_65dfb0cb65cd4e80b7c5a15b47c1d9f3",
       "tabbable": null,
       "tooltip": null
      }
     },
     "77fc6ccbabc04d779a01c63264ef30d1": {
      "model_module": "@jupyter-widgets/base",
      "model_module_version": "2.0.0",
      "model_name": "LayoutModel",
      "state": {
       "_model_module": "@jupyter-widgets/base",
       "_model_module_version": "2.0.0",
       "_model_name": "LayoutModel",
       "_view_count": null,
       "_view_module": "@jupyter-widgets/base",
       "_view_module_version": "2.0.0",
       "_view_name": "LayoutView",
       "align_content": null,
       "align_items": null,
       "align_self": null,
       "border_bottom": "1px solid black",
       "border_left": "1px solid black",
       "border_right": "1px solid black",
       "border_top": "1px solid black",
       "bottom": null,
       "display": null,
       "flex": null,
       "flex_flow": null,
       "grid_area": null,
       "grid_auto_columns": null,
       "grid_auto_flow": null,
       "grid_auto_rows": null,
       "grid_column": null,
       "grid_gap": null,
       "grid_row": null,
       "grid_template_areas": null,
       "grid_template_columns": null,
       "grid_template_rows": null,
       "height": null,
       "justify_content": null,
       "justify_items": null,
       "left": null,
       "margin": null,
       "max_height": null,
       "max_width": null,
       "min_height": null,
       "min_width": null,
       "object_fit": null,
       "object_position": null,
       "order": null,
       "overflow": null,
       "padding": null,
       "right": null,
       "top": null,
       "visibility": null,
       "width": null
      }
     },
     "7a46e98b5e7b42b5892adfc830708287": {
      "model_module": "@jupyter-widgets/controls",
      "model_module_version": "2.0.0",
      "model_name": "HTMLStyleModel",
      "state": {
       "_model_module": "@jupyter-widgets/controls",
       "_model_module_version": "2.0.0",
       "_model_name": "HTMLStyleModel",
       "_view_count": null,
       "_view_module": "@jupyter-widgets/base",
       "_view_module_version": "2.0.0",
       "_view_name": "StyleView",
       "background": null,
       "description_width": "",
       "font_size": null,
       "text_color": null
      }
     },
     "8da79dda35ca474491057a0479ac7b0b": {
      "model_module": "@jupyter-widgets/output",
      "model_module_version": "1.0.0",
      "model_name": "OutputModel",
      "state": {
       "_dom_classes": [],
       "_model_module": "@jupyter-widgets/output",
       "_model_module_version": "1.0.0",
       "_model_name": "OutputModel",
       "_view_count": null,
       "_view_module": "@jupyter-widgets/output",
       "_view_module_version": "1.0.0",
       "_view_name": "OutputView",
       "layout": "IPY_MODEL_77fc6ccbabc04d779a01c63264ef30d1",
       "msg_id": "",
       "outputs": [
        {
         "name": "stdout",
         "output_type": "stream",
         "text": "In this cell important output from the next cell will be shown\nAlso evaluating best_prev_config (map@10=1.0): {'batch_size': 7, 'embedding_dim': 1, 'conv_layers': 3, 'learning_rate': 0.0026000000000000003, 'l2': 0.00215186122177677, 'window_size': '21d', 'fold': '2021-10-23T00:00:00'}\nAlso evaluating best_prev_config (map@10=1.0): {'batch_size': 6, 'embedding_dim': 182, 'conv_layers': 3, 'learning_rate': 0.0034000000000000002, 'l2': 0.0006117956606832729, 'window_size': '60d', 'fold': '2021-10-25T00:00:00'}\nAlso evaluating best_prev_config (map@10=0.7666666666666667): {'batch_size': 8, 'embedding_dim': 42, 'conv_layers': 1, 'learning_rate': 0.9874, 'l2': 3.6470912535250567e-07, 'window_size': '60d', 'fold': '2021-10-27T00:00:00'}\nAlso evaluating best_prev_config (map@10=0.06427579365079365): {'batch_size': 8, 'embedding_dim': 138, 'conv_layers': 3, 'learning_rate': 0.0015, 'l2': 9.407352822540502e-05, 'window_size': '60d', 'fold': '2021-10-29T00:00:00'}\nAlso evaluating best_prev_config (map@10=0.06777777777777777): {'batch_size': 9, 'embedding_dim': 1, 'conv_layers': 4, 'learning_rate': 0.8177000000000001, 'l2': 2.7705633398370107e-05, 'window_size': '90d', 'fold': '2021-10-31T00:00:00'}\nAlso evaluating best_prev_config (map@10=0.03914760348583878): {'batch_size': 8, 'embedding_dim': 39, 'conv_layers': 3, 'learning_rate': 0.38070000000000004, 'l2': 0.003917111797158685, 'window_size': '60d', 'fold': '2021-11-02T00:00:00'}\nAlso evaluating best_prev_config (map@10=0.0860355253212396): {'batch_size': 7, 'embedding_dim': 128, 'conv_layers': 2, 'learning_rate': 0.9577, 'l2': 0.0055400360760158255, 'window_size': '30d', 'fold': '2021-11-04T00:00:00'}\nAlso evaluating best_prev_config (map@10=0.17722883597883599): {'batch_size': 6, 'embedding_dim': 3, 'conv_layers': 3, 'learning_rate': 0.0324, 'l2': 0.0003354590924768744, 'window_size': '21d', 'fold': '2021-11-06T00:00:00'}\nAlso evaluating best_prev_config (map@10=0.16556437389770723): {'batch_size': 9, 'embedding_dim': 4, 'conv_layers': 3, 'learning_rate': 0.0006000000000000001, 'l2': 5.648182294385928e-07, 'window_size': '90d', 'fold': '2021-11-08T00:00:00'}\nAlso evaluating best_prev_config (map@10=0.0501010101010101): {'batch_size': 9, 'embedding_dim': 434, 'conv_layers': 1, 'learning_rate': 0.2508, 'l2': 0.006014295359107247, 'window_size': '30d', 'fold': '2021-11-10T00:00:00'}\nAlso evaluating best_prev_config (map@10=0.04509433962264151): {'batch_size': 9, 'embedding_dim': 2, 'conv_layers': 2, 'learning_rate': 0.0001, 'l2': 0.0006712417834765226, 'window_size': '30d', 'fold': '2021-11-12T00:00:00'}\nAlso evaluating best_prev_config (map@10=0.02957875457875458): {'batch_size': 6, 'embedding_dim': 4, 'conv_layers': 1, 'learning_rate': 0.5711, 'l2': 3.9290377688035034e-05, 'window_size': '30d', 'fold': '2021-11-14T00:00:00'}\nAlso evaluating best_prev_config (map@10=0.04606413994169096): {'batch_size': 9, 'embedding_dim': 1, 'conv_layers': 1, 'learning_rate': 0.038700000000000005, 'l2': 0.000552120523766028, 'window_size': '60d', 'fold': '2021-11-16T00:00:00'}\nAlso evaluating best_prev_config (map@10=0.011540404040404044): {'batch_size': 9, 'embedding_dim': 819, 'conv_layers': 1, 'learning_rate': 0.013300000000000001, 'l2': 0.00018901233748994204, 'window_size': '21d', 'fold': '2021-11-18T00:00:00'}\nAlso evaluating best_prev_config (map@10=0.07973436993845157): {'batch_size': 8, 'embedding_dim': 1, 'conv_layers': 1, 'learning_rate': 0.0001, 'l2': 0.009315852271775367, 'window_size': '30d', 'fold': '2021-11-20T00:00:00'}\nAlso evaluating best_prev_config (map@10=0.04203598484848484): {'batch_size': 9, 'embedding_dim': 1, 'conv_layers': 1, 'learning_rate': 0.031100000000000003, 'l2': 0.009053175668071945, 'window_size': '21d', 'fold': '2021-11-22T00:00:00'}\nAlso evaluating best_prev_config (map@10=0.047157622739018086): {'batch_size': 9, 'embedding_dim': 1, 'conv_layers': 3, 'learning_rate': 0.0152, 'l2': 0.0059799036495128185, 'window_size': '30d', 'fold': '2021-11-24T00:00:00'}\nAlso evaluating best_prev_config (map@10=0.08952702702702703): {'batch_size': 9, 'embedding_dim': 565, 'conv_layers': 3, 'learning_rate': 0.025900000000000003, 'l2': 0.005134029970502322, 'window_size': '21d', 'fold': '2021-11-26T00:00:00'}\nAlso evaluating best_prev_config (map@10=0.0345679012345679): {'batch_size': 6, 'embedding_dim': 4, 'conv_layers': 3, 'learning_rate': 0.0146, 'l2': 0.003757744928154993, 'window_size': '10YE', 'fold': '2021-11-28T00:00:00'}\n"
        }
       ],
       "tabbable": null,
       "tooltip": null
      }
     },
     "b202f64223aa4d0795ca81ee7fa704c7": {
      "model_module": "@jupyter-widgets/base",
      "model_module_version": "2.0.0",
      "model_name": "LayoutModel",
      "state": {
       "_model_module": "@jupyter-widgets/base",
       "_model_module_version": "2.0.0",
       "_model_name": "LayoutModel",
       "_view_count": null,
       "_view_module": "@jupyter-widgets/base",
       "_view_module_version": "2.0.0",
       "_view_name": "LayoutView",
       "align_content": null,
       "align_items": null,
       "align_self": null,
       "border_bottom": null,
       "border_left": null,
       "border_right": null,
       "border_top": null,
       "bottom": null,
       "display": null,
       "flex": null,
       "flex_flow": null,
       "grid_area": null,
       "grid_auto_columns": null,
       "grid_auto_flow": null,
       "grid_auto_rows": null,
       "grid_column": null,
       "grid_gap": null,
       "grid_row": null,
       "grid_template_areas": null,
       "grid_template_columns": null,
       "grid_template_rows": null,
       "height": null,
       "justify_content": null,
       "justify_items": null,
       "left": null,
       "margin": null,
       "max_height": null,
       "max_width": null,
       "min_height": null,
       "min_width": null,
       "object_fit": null,
       "object_position": null,
       "order": null,
       "overflow": null,
       "padding": null,
       "right": null,
       "top": null,
       "visibility": null,
       "width": null
      }
     },
     "f2f137e4daa6490792a6874b8365617e": {
      "model_module": "@jupyter-widgets/controls",
      "model_module_version": "2.0.0",
      "model_name": "HTMLStyleModel",
      "state": {
       "_model_module": "@jupyter-widgets/controls",
       "_model_module_version": "2.0.0",
       "_model_name": "HTMLStyleModel",
       "_view_count": null,
       "_view_module": "@jupyter-widgets/base",
       "_view_module_version": "2.0.0",
       "_view_name": "StyleView",
       "background": null,
       "description_width": "",
       "font_size": null,
       "text_color": null
      }
     }
    },
    "version_major": 2,
    "version_minor": 0
   }
  }
 },
 "nbformat": 4,
 "nbformat_minor": 5
}