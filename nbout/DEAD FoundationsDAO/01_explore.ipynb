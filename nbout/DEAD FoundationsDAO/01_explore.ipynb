{
 "cells": [
  {
   "cell_type": "code",
   "execution_count": 1,
   "id": "640054cf-a577-4483-9273-e1e1f8dc7798",
   "metadata": {
    "execution": {
     "iopub.execute_input": "2024-09-26T16:57:00.741131Z",
     "iopub.status.busy": "2024-09-26T16:57:00.741041Z",
     "iopub.status.idle": "2024-09-26T16:57:01.476031Z",
     "shell.execute_reply": "2024-09-26T16:57:01.475774Z"
    },
    "papermill": {
     "duration": 0.742957,
     "end_time": "2024-09-26T16:57:01.476789",
     "exception": false,
     "start_time": "2024-09-26T16:57:00.733832",
     "status": "completed"
    },
    "tags": []
   },
   "outputs": [
    {
     "name": "stdout",
     "output_type": "stream",
     "text": [
      "Original size: [6.4, 4.8], Ratio: 1.3333333333333335\n",
      "New size: [3.5, 2.6249999999999996]\n"
     ]
    },
    {
     "name": "stderr",
     "output_type": "stream",
     "text": [
      "/home/daviddavo/recsys4daos/src/recsys4daos/model_selection.py:12: TqdmExperimentalWarning: Using `tqdm.autonotebook.tqdm` in notebook mode. Use `tqdm.tqdm` instead to force console mode (e.g. in jupyter console)\n",
      "  from tqdm.autonotebook import tqdm\n"
     ]
    }
   ],
   "source": [
    "import datetime as dt\n",
    "import itertools as it\n",
    "import warnings\n",
    "\n",
    "import pandas as pd\n",
    "import numpy as np\n",
    "\n",
    "import matplotlib.pyplot as plt\n",
    "%matplotlib inline\n",
    "import seaborn as sns\n",
    "\n",
    "from recsys4daos.utils import notebooks as nbutils\n",
    "from recsys4daos.model_selection import cvtt_open\n",
    "import paths\n",
    "\n",
    "sns.set_theme(rc = {\n",
    "})\n",
    "sns.set_context(\"paper\")\n",
    "\n",
    "# Paper column width in inches\n",
    "PAPER_COL_WIDTH = 3.5\n",
    "\n",
    "original = plt.rcParamsDefault['figure.figsize']\n",
    "ratio = original[0] / original[1]\n",
    "print(f\"Original size: {original}, Ratio: {ratio}\")\n",
    "plt.rcParams['figure.figsize'] = (PAPER_COL_WIDTH, PAPER_COL_WIDTH/ratio)\n",
    "print(\"New size:\", plt.rcParams['figure.figsize'])\n",
    "\n",
    "# In acmart, 9pt is the default\n",
    "# And 7pt for \\footnotesize\n",
    "# plt.rcParams['font.size'] = 7,\n",
    "\n",
    "# The following are already relatively defined\n",
    "# plt.rcParams['xtick.labelsize'] = plt.rcParams['ytick.labelsize'] = plt.rcParams['axes.labelsize'] = plt.rcParams['font.size']"
   ]
  },
  {
   "cell_type": "code",
   "execution_count": 2,
   "id": "c7f5ba70-4851-4988-bf55-e0f59bfac4fa",
   "metadata": {
    "editable": true,
    "execution": {
     "iopub.execute_input": "2024-09-26T16:57:01.482421Z",
     "iopub.status.busy": "2024-09-26T16:57:01.482263Z",
     "iopub.status.idle": "2024-09-26T16:57:01.484171Z",
     "shell.execute_reply": "2024-09-26T16:57:01.483955Z"
    },
    "papermill": {
     "duration": 0.005293,
     "end_time": "2024-09-26T16:57:01.484695",
     "exception": false,
     "start_time": "2024-09-26T16:57:01.479402",
     "status": "completed"
    },
    "slideshow": {
     "slide_type": ""
    },
    "tags": [
     "parameters"
    ]
   },
   "outputs": [],
   "source": [
    "ORG_NAME = 'Decentraland'\n",
    "SPLITS_FREQ: str = 'W-THU'\n",
    "SPLITS_NORMALIZE: bool = True\n",
    "LAST_FOLDS: int = 10\n",
    "LAST_FOLD_DATE_STR: str = None # Used just for plotting\n",
    "\n",
    "# Plotting hparams\n",
    "RECTANGLE_ALPHA = 0.3"
   ]
  },
  {
   "cell_type": "code",
   "execution_count": 3,
   "id": "8e3247eb",
   "metadata": {
    "execution": {
     "iopub.execute_input": "2024-09-26T16:57:01.489434Z",
     "iopub.status.busy": "2024-09-26T16:57:01.489273Z",
     "iopub.status.idle": "2024-09-26T16:57:01.491020Z",
     "shell.execute_reply": "2024-09-26T16:57:01.490806Z"
    },
    "papermill": {
     "duration": 0.004691,
     "end_time": "2024-09-26T16:57:01.491484",
     "exception": false,
     "start_time": "2024-09-26T16:57:01.486793",
     "status": "completed"
    },
    "tags": [
     "injected-parameters"
    ]
   },
   "outputs": [],
   "source": [
    "# Parameters\n",
    "EXECUTION_ID = \"2024-09-24T10:00\"\n",
    "MAX_BATCH_SIZE = 9\n",
    "GPUS = 32\n",
    "ORG_NAME = \"DEAD FoundationsDAO\"\n",
    "SPLITS_FREQ = \"2d\"\n",
    "LAST_FOLDS = 20\n",
    "SPLITS_NORMALIZE = True\n",
    "LAST_FOLD_DATE_STR = \"2021-11-28\"\n"
   ]
  },
  {
   "cell_type": "code",
   "execution_count": 4,
   "id": "18b57097-46f5-4181-a1a5-f095f406f3a6",
   "metadata": {
    "execution": {
     "iopub.execute_input": "2024-09-26T16:57:01.496023Z",
     "iopub.status.busy": "2024-09-26T16:57:01.495905Z",
     "iopub.status.idle": "2024-09-26T16:57:01.497486Z",
     "shell.execute_reply": "2024-09-26T16:57:01.497303Z"
    },
    "papermill": {
     "duration": 0.004326,
     "end_time": "2024-09-26T16:57:01.497942",
     "exception": false,
     "start_time": "2024-09-26T16:57:01.493616",
     "status": "completed"
    },
    "tags": []
   },
   "outputs": [],
   "source": [
    "LAST_FOLD_DATE: dt.datetime = dt.datetime.fromisoformat(LAST_FOLD_DATE_STR) if LAST_FOLD_DATE_STR else dt.datetime.now()"
   ]
  },
  {
   "cell_type": "code",
   "execution_count": 5,
   "id": "1291b8e7-03c8-48ad-b732-9f66a9ef4ff3",
   "metadata": {
    "execution": {
     "iopub.execute_input": "2024-09-26T16:57:01.502430Z",
     "iopub.status.busy": "2024-09-26T16:57:01.502316Z",
     "iopub.status.idle": "2024-09-26T16:57:01.578450Z",
     "shell.execute_reply": "2024-09-26T16:57:01.578084Z"
    },
    "papermill": {
     "duration": 0.079077,
     "end_time": "2024-09-26T16:57:01.579113",
     "exception": false,
     "start_time": "2024-09-26T16:57:01.500036",
     "status": "completed"
    },
    "tags": []
   },
   "outputs": [
    {
     "name": "stdout",
     "output_type": "stream",
     "text": [
      "<class 'pandas.core.frame.DataFrame'>\n",
      "RangeIndex: 29681 entries, 0 to 29680\n",
      "Data columns (total 6 columns):\n",
      " #   Column             Non-Null Count  Dtype         \n",
      "---  ------             --------------  -----         \n",
      " 0   id                 29681 non-null  object        \n",
      " 1   author             29681 non-null  object        \n",
      " 2   date               29681 non-null  datetime64[us]\n",
      " 3   start              29681 non-null  datetime64[us]\n",
      " 4   end                5799 non-null   datetime64[us]\n",
      " 5   platform_proposal  29681 non-null  object        \n",
      "dtypes: datetime64[us](3), object(3)\n",
      "memory usage: 1.4+ MB\n",
      "None\n",
      "<class 'pandas.core.frame.DataFrame'>\n",
      "RangeIndex: 17738 entries, 0 to 17737\n",
      "Data columns (total 4 columns):\n",
      " #   Column    Non-Null Count  Dtype         \n",
      "---  ------    --------------  -----         \n",
      " 0   id        17738 non-null  object        \n",
      " 1   proposal  17738 non-null  object        \n",
      " 2   voter     17738 non-null  object        \n",
      " 3   date      17738 non-null  datetime64[us]\n",
      "dtypes: datetime64[us](1), object(3)\n",
      "memory usage: 554.4+ KB\n",
      "None\n"
     ]
    }
   ],
   "source": [
    "dfp = paths.load_proposals(ORG_NAME)\n",
    "dfv = paths.load_votes(ORG_NAME)\n",
    "\n",
    "print(dfp.info())\n",
    "print(dfv.info())"
   ]
  },
  {
   "cell_type": "code",
   "execution_count": 6,
   "id": "91ae71b5-ba11-48d2-becd-047ee43af17d",
   "metadata": {
    "execution": {
     "iopub.execute_input": "2024-09-26T16:57:01.588182Z",
     "iopub.status.busy": "2024-09-26T16:57:01.587817Z",
     "iopub.status.idle": "2024-09-26T16:57:01.595740Z",
     "shell.execute_reply": "2024-09-26T16:57:01.595131Z"
    },
    "papermill": {
     "duration": 0.015173,
     "end_time": "2024-09-26T16:57:01.597345",
     "exception": false,
     "start_time": "2024-09-26T16:57:01.582172",
     "status": "completed"
    },
    "tags": []
   },
   "outputs": [
    {
     "name": "stdout",
     "output_type": "stream",
     "text": [
      "First vote: 2020-11-25 14:31:40\n",
      "Last vote: 2022-07-26 17:09:25\n"
     ]
    }
   ],
   "source": [
    "print(\"First vote:\", first_vote := dfv['date'].min())\n",
    "print(\"Last vote:\", last_vote := dfv['date'].max())\n",
    "paths.save_dao_datum(ORG_NAME, 'dfv_first_vote', str(first_vote))\n",
    "paths.save_dao_datum(ORG_NAME, 'dfv_last_vote', str(last_vote))"
   ]
  },
  {
   "cell_type": "code",
   "execution_count": 7,
   "id": "28628987-ada0-49cb-9b85-d8ee0ff417c1",
   "metadata": {
    "execution": {
     "iopub.execute_input": "2024-09-26T16:57:01.606852Z",
     "iopub.status.busy": "2024-09-26T16:57:01.606626Z",
     "iopub.status.idle": "2024-09-26T16:57:02.996412Z",
     "shell.execute_reply": "2024-09-26T16:57:02.996148Z"
    },
    "papermill": {
     "duration": 1.394384,
     "end_time": "2024-09-26T16:57:02.997140",
     "exception": false,
     "start_time": "2024-09-26T16:57:01.602756",
     "status": "completed"
    },
    "tags": []
   },
   "outputs": [
    {
     "name": "stdout",
     "output_type": "stream",
     "text": [
      "Using 20 folds from 2021-10-21 00:00:00 to 2021-11-28 00:00:00\n"
     ]
    }
   ],
   "source": [
    "folds = list(cvtt_open(dfv, SPLITS_FREQ, dfp, normalize=SPLITS_NORMALIZE, col_item='proposal', col_time='date', last_fold=LAST_FOLD_DATE_STR))[-LAST_FOLDS:]\n",
    "print(f\"Using {len(folds)} folds from {folds[0].end} to {folds[-1].end}\")\n",
    "paths.save_dao_datum(ORG_NAME, 'first_fold_date', str(folds[0].end))"
   ]
  },
  {
   "cell_type": "markdown",
   "id": "68ea9409-3b8c-4dfe-9c5d-4e89db8fd928",
   "metadata": {
    "papermill": {
     "duration": 0.002282,
     "end_time": "2024-09-26T16:57:03.001841",
     "exception": false,
     "start_time": "2024-09-26T16:57:02.999559",
     "status": "completed"
    },
    "tags": []
   },
   "source": [
    "## Proposals and time\n",
    "\n",
    "### How much time does each proposal take"
   ]
  },
  {
   "cell_type": "code",
   "execution_count": 8,
   "id": "a3ac7db5-d190-4ac5-8504-76a5c3eea938",
   "metadata": {
    "execution": {
     "iopub.execute_input": "2024-09-26T16:57:03.007235Z",
     "iopub.status.busy": "2024-09-26T16:57:03.007124Z",
     "iopub.status.idle": "2024-09-26T16:57:03.083030Z",
     "shell.execute_reply": "2024-09-26T16:57:03.082800Z"
    },
    "papermill": {
     "duration": 0.079435,
     "end_time": "2024-09-26T16:57:03.083711",
     "exception": false,
     "start_time": "2024-09-26T16:57:03.004276",
     "status": "completed"
    },
    "tags": []
   },
   "outputs": [
    {
     "name": "stdout",
     "output_type": "stream",
     "text": [
      "2 days 00:03:40     17\n",
      "2 days 00:04:30     16\n",
      "2 days 00:06:25     16\n",
      "2 days 00:05:00     14\n",
      "2 days 00:05:35     14\n",
      "                    ..\n",
      "2 days 06:01:10      1\n",
      "2 days 06:01:58      1\n",
      "2 days 05:53:48      1\n",
      "2 days 07:12:40      1\n",
      "61 days 02:31:55     1\n",
      "Name: count, Length: 4487, dtype: int64\n",
      "2 days 00:03:40     0.000573\n",
      "2 days 00:04:30     0.000539\n",
      "2 days 00:06:25     0.000539\n",
      "2 days 00:05:00     0.000472\n",
      "2 days 00:05:35     0.000472\n",
      "                      ...   \n",
      "2 days 06:01:10     0.000034\n",
      "2 days 06:01:58     0.000034\n",
      "2 days 05:53:48     0.000034\n",
      "2 days 07:12:40     0.000034\n",
      "61 days 02:31:55    0.000034\n",
      "Name: count, Length: 4487, dtype: float64\n"
     ]
    },
    {
     "data": {
      "text/plain": [
       "count                       5799\n",
       "mean      5 days 03:18:23.943093\n",
       "std      17 days 06:06:25.693416\n",
       "min              2 days 00:01:05\n",
       "25%              2 days 00:24:05\n",
       "50%              2 days 06:59:00\n",
       "75%       3 days 01:45:13.500000\n",
       "max            310 days 04:48:20\n",
       "dtype: object"
      ]
     },
     "execution_count": 8,
     "metadata": {},
     "output_type": "execute_result"
    },
    {
     "data": {
      "image/png": "[encoded data removed]",
      "text/plain": [
       "<Figure size 350x262.5 with 1 Axes>"
      ]
     },
     "metadata": {},
     "output_type": "display_data"
    }
   ],
   "source": [
    "# Original: Cell [5] at https://github.com/daviddavo/upm-tfm-notebooks/blob/bb2e45d4ec10962c987b6691fcb0cd4eeba7ea5b/10_baseline_mp.ipynb\n",
    "\n",
    "delta = dfp['end'] - dfp['start']\n",
    "delta.dt.days.hist(bins=14)\n",
    "print(vc := delta.value_counts())\n",
    "print(vc / len(delta))\n",
    "paths.save_dao_datum(ORG_NAME, 'median_open_time', str(delta.median()))\n",
    "delta.describe()"
   ]
  },
  {
   "cell_type": "markdown",
   "id": "e97489b7-f833-402c-a33c-8024a9540a1a",
   "metadata": {
    "execution": {
     "iopub.execute_input": "2024-03-20T19:22:14.246302Z",
     "iopub.status.busy": "2024-03-20T19:22:14.245740Z",
     "iopub.status.idle": "2024-03-20T19:22:14.252344Z",
     "shell.execute_reply": "2024-03-20T19:22:14.251090Z",
     "shell.execute_reply.started": "2024-03-20T19:22:14.246252Z"
    },
    "papermill": {
     "duration": 0.002483,
     "end_time": "2024-09-26T16:57:03.088678",
     "exception": false,
     "start_time": "2024-09-26T16:57:03.086195",
     "status": "completed"
    },
    "tags": []
   },
   "source": [
    "#### Avg. proposal length in time"
   ]
  },
  {
   "cell_type": "code",
   "execution_count": 9,
   "id": "d1fd19d5-722c-4e1c-9c56-e2ffd4c0a63f",
   "metadata": {
    "execution": {
     "iopub.execute_input": "2024-09-26T16:57:03.094118Z",
     "iopub.status.busy": "2024-09-26T16:57:03.094020Z",
     "iopub.status.idle": "2024-09-26T16:57:03.096664Z",
     "shell.execute_reply": "2024-09-26T16:57:03.096251Z"
    },
    "papermill": {
     "duration": 0.006229,
     "end_time": "2024-09-26T16:57:03.097324",
     "exception": false,
     "start_time": "2024-09-26T16:57:03.091095",
     "status": "completed"
    },
    "tags": []
   },
   "outputs": [],
   "source": [
    "def add_folds_to_plot(fig=plt, cont=True):\n",
    "\n",
    "    if cont:\n",
    "        start_date = folds[0].end\n",
    "        end_date = folds[-1].end\n",
    "        fig.axvspan(start_date, end_date, color='C2', alpha=RECTANGLE_ALPHA)\n",
    "    else:\n",
    "        for fprev, f, c in zip(folds, folds[1:], it.cycle([0,1])):\n",
    "            start_date = fprev.end\n",
    "            end_date = f.end\n",
    "            fig.axvspan(start_date, end_date, alpha=RECTANGLE_ALPHA, color='C1' if c else 'C2')"
   ]
  },
  {
   "cell_type": "code",
   "execution_count": 10,
   "id": "f619deb2-cf32-4e32-b125-c6d67b3acf87",
   "metadata": {
    "execution": {
     "iopub.execute_input": "2024-09-26T16:57:03.102820Z",
     "iopub.status.busy": "2024-09-26T16:57:03.102656Z",
     "iopub.status.idle": "2024-09-26T16:57:03.283803Z",
     "shell.execute_reply": "2024-09-26T16:57:03.283537Z"
    },
    "papermill": {
     "duration": 0.184769,
     "end_time": "2024-09-26T16:57:03.284486",
     "exception": false,
     "start_time": "2024-09-26T16:57:03.099717",
     "status": "completed"
    },
    "tags": []
   },
   "outputs": [
    {
     "data": {
      "image/png": "[encoded data removed]",
      "text/plain": [
       "<Figure size 350x262.5 with 1 Axes>"
      ]
     },
     "metadata": {},
     "output_type": "display_data"
    }
   ],
   "source": [
    "# Original: Cell [6] at https://github.com/daviddavo/upm-tfm-notebooks/blob/bb2e45d4ec10962c987b6691fcb0cd4eeba7ea5b/10_baseline_mp.ipynb\n",
    "ROLLING_LENGTH = '7d'\n",
    "\n",
    "_delta = dfp.assign(delta=delta).set_index('date').sort_index()['delta'].dt.days\n",
    "_delta.rolling(ROLLING_LENGTH).mean().plot()\n",
    "\n",
    "add_folds_to_plot()"
   ]
  },
  {
   "cell_type": "markdown",
   "id": "c481585c-8a02-4b48-b5c9-f9c0ed9e9c0c",
   "metadata": {
    "papermill": {
     "duration": 0.002729,
     "end_time": "2024-09-26T16:57:03.290199",
     "exception": false,
     "start_time": "2024-09-26T16:57:03.287470",
     "status": "completed"
    },
    "tags": []
   },
   "source": [
    "## How many proposals are created per week"
   ]
  },
  {
   "cell_type": "code",
   "execution_count": 11,
   "id": "b4559c9e-999a-45bc-bfe4-7997b5d71b76",
   "metadata": {
    "execution": {
     "iopub.execute_input": "2024-09-26T16:57:03.295870Z",
     "iopub.status.busy": "2024-09-26T16:57:03.295773Z",
     "iopub.status.idle": "2024-09-26T16:57:05.257258Z",
     "shell.execute_reply": "2024-09-26T16:57:05.257012Z"
    },
    "papermill": {
     "duration": 1.965204,
     "end_time": "2024-09-26T16:57:05.258019",
     "exception": false,
     "start_time": "2024-09-26T16:57:03.292815",
     "status": "completed"
    },
    "tags": []
   },
   "outputs": [
    {
     "name": "stdout",
     "output_type": "stream",
     "text": [
      "2511.0\n",
      "2021-11-01 17:44:00\n"
     ]
    },
    {
     "data": {
      "text/plain": [
       "<Figure size 350x262.5 with 0 Axes>"
      ]
     },
     "metadata": {},
     "output_type": "display_data"
    },
    {
     "data": {
      "image/png": "[encoded data removed]",
      "text/plain": [
       "<Figure size 700x157.5 with 1 Axes>"
      ]
     },
     "metadata": {},
     "output_type": "display_data"
    }
   ],
   "source": [
    "WINDOW_SIZE = '7d' # dt.timedelta(days=7)\n",
    "\n",
    "_toplot = dfv.groupby('proposal')['date'].min().sort_values()\n",
    "_toplot = _toplot.to_frame()\n",
    "_toplot['cnt'] = 1\n",
    "_toplot = _toplot.rolling(window=WINDOW_SIZE, on='date').count()\n",
    "print(max_cnt := _toplot['cnt'].max())\n",
    "print(max_date := _toplot[_toplot['cnt'] == max_cnt].iloc[0]['date'])\n",
    "paths.save_dao_datum(ORG_NAME, 'max_proposals_ws', WINDOW_SIZE)\n",
    "paths.save_dao_datum(ORG_NAME, 'max_proposals_cnt', int(max_cnt))\n",
    "paths.save_dao_datum(ORG_NAME, 'max_proposals_date', str(max_date))\n",
    "\n",
    "# Double the width of the figure\n",
    "fs = plt.gcf().get_size_inches()\n",
    "plt.figure(figsize=fs * (2,.6))\n",
    "# _toplot.set_index('date')['cnt'].plot()\n",
    "ax = sns.lineplot(_toplot.set_index('date')['cnt'])\n",
    "\n",
    "plt.xlabel('')\n",
    "plt.ylabel('# propuestas')\n",
    "plt.xlim(\n",
    "    _toplot['date'].min(),\n",
    "    _toplot['date'].max(),\n",
    ")\n",
    "add_folds_to_plot(cont=False)\n",
    "\n",
    "sns.despine()"
   ]
  },
  {
   "cell_type": "code",
   "execution_count": 12,
   "id": "a55fbdf4-f6dc-42d4-bb2f-050235674d9b",
   "metadata": {
    "execution": {
     "iopub.execute_input": "2024-09-26T16:57:05.265196Z",
     "iopub.status.busy": "2024-09-26T16:57:05.265068Z",
     "iopub.status.idle": "2024-09-26T16:57:07.010419Z",
     "shell.execute_reply": "2024-09-26T16:57:07.010152Z"
    },
    "papermill": {
     "duration": 1.749937,
     "end_time": "2024-09-26T16:57:07.011174",
     "exception": false,
     "start_time": "2024-09-26T16:57:05.261237",
     "status": "completed"
    },
    "tags": []
   },
   "outputs": [
    {
     "data": {
      "text/plain": [
       "<Figure size 350x262.5 with 0 Axes>"
      ]
     },
     "metadata": {},
     "output_type": "display_data"
    },
    {
     "data": {
      "image/png": "[encoded data removed]",
      "text/plain": [
       "<Figure size 700x157.5 with 1 Axes>"
      ]
     },
     "metadata": {},
     "output_type": "display_data"
    }
   ],
   "source": [
    "_toplot = _toplot[_toplot['date'] > (folds[0].end - pd.tseries.frequencies.to_offset(SPLITS_FREQ)*3)]\n",
    "_toplot = _toplot[_toplot['date'] < (folds[-1].end + pd.tseries.frequencies.to_offset(SPLITS_FREQ)*3)]\n",
    "fs = plt.gcf().get_size_inches()\n",
    "plt.figure(figsize=fs * (2,.6))\n",
    "# _toplot.set_index('date')['cnt'].plot()\n",
    "ax = sns.lineplot(_toplot.set_index('date')['cnt'])\n",
    "\n",
    "plt.xlabel('')\n",
    "plt.ylabel('# propuestas')\n",
    "plt.xlim(\n",
    "    _toplot['date'].min(),\n",
    "    _toplot['date'].max(),\n",
    ")\n",
    "add_folds_to_plot(cont=False)\n",
    "\n",
    "sns.despine()"
   ]
  },
  {
   "cell_type": "markdown",
   "id": "0e0d5099-512a-42bb-927b-0ed2fe518a6f",
   "metadata": {
    "papermill": {
     "duration": 0.003166,
     "end_time": "2024-09-26T16:57:07.017736",
     "exception": false,
     "start_time": "2024-09-26T16:57:07.014570",
     "status": "completed"
    },
    "tags": []
   },
   "source": [
    "## Queue size (open proposals)"
   ]
  },
  {
   "cell_type": "code",
   "execution_count": 13,
   "id": "1344879d-8030-45f8-8510-4889ebce489f",
   "metadata": {
    "execution": {
     "iopub.execute_input": "2024-09-26T16:57:07.024324Z",
     "iopub.status.busy": "2024-09-26T16:57:07.024213Z",
     "iopub.status.idle": "2024-09-26T16:57:07.779628Z",
     "shell.execute_reply": "2024-09-26T16:57:07.779331Z"
    },
    "papermill": {
     "duration": 0.759509,
     "end_time": "2024-09-26T16:57:07.780381",
     "exception": false,
     "start_time": "2024-09-26T16:57:07.020872",
     "status": "completed"
    },
    "tags": []
   },
   "outputs": [
    {
     "name": "stdout",
     "output_type": "stream",
     "text": [
      "23976\n",
      "2021-12-14 00:00:00\n"
     ]
    },
    {
     "data": {
      "image/png": "[encoded data removed]",
      "text/plain": [
       "<Figure size 800x300 with 1 Axes>"
      ]
     },
     "metadata": {},
     "output_type": "display_data"
    }
   ],
   "source": [
    "# This will be the \"resolution\" of the graph\n",
    "_GROUPER_FREQ = '12h'\n",
    "\n",
    "df_events = pd.concat((\n",
    "    dfp.groupby('start').size(),\n",
    "    -dfp.groupby('end').size(),\n",
    ")).sort_index()\n",
    "qsize = df_events.groupby(pd.Grouper(freq=_GROUPER_FREQ)).sum().cumsum()\n",
    "\n",
    "print(max_qsize := qsize.max())\n",
    "print(max_date := qsize[qsize == max_qsize].index[0])\n",
    "paths.save_dao_datum(ORG_NAME, 'max_open_freq', _GROUPER_FREQ)\n",
    "paths.save_dao_datum(ORG_NAME, 'max_open_cnt', int(max_qsize))\n",
    "paths.save_dao_datum(ORG_NAME, 'max_open_date', str(max_date))\n",
    "\n",
    "qsize.plot(figsize=(8,3))\n",
    "add_folds_to_plot(cont=False)"
   ]
  },
  {
   "cell_type": "code",
   "execution_count": 14,
   "id": "4abea220-e30a-4483-8853-3632bffca1c1",
   "metadata": {
    "execution": {
     "iopub.execute_input": "2024-09-26T16:57:07.788035Z",
     "iopub.status.busy": "2024-09-26T16:57:07.787928Z",
     "iopub.status.idle": "2024-09-26T16:57:08.029036Z",
     "shell.execute_reply": "2024-09-26T16:57:08.028825Z"
    },
    "papermill": {
     "duration": 0.245614,
     "end_time": "2024-09-26T16:57:08.029687",
     "exception": false,
     "start_time": "2024-09-26T16:57:07.784073",
     "status": "completed"
    },
    "tags": []
   },
   "outputs": [
    {
     "name": "stdout",
     "output_type": "stream",
     "text": [
      "23255\n",
      "2021-11-29 12:00:00\n"
     ]
    },
    {
     "data": {
      "image/png": "[encoded data removed]",
      "text/plain": [
       "<Figure size 800x300 with 1 Axes>"
      ]
     },
     "metadata": {},
     "output_type": "display_data"
    }
   ],
   "source": [
    "_toplot = qsize[qsize.index > (folds[0].end - pd.tseries.frequencies.to_offset(SPLITS_FREQ)*1)]\n",
    "_toplot = _toplot[_toplot.index < (folds[-1].end + pd.tseries.frequencies.to_offset(SPLITS_FREQ)*1)]\n",
    "\n",
    "print(max_qsize := _toplot.max())\n",
    "print(max_date := _toplot[_toplot == max_qsize].index[0])\n",
    "paths.save_dao_datum(ORG_NAME, 'max_open_freq_test', _GROUPER_FREQ)\n",
    "paths.save_dao_datum(ORG_NAME, 'max_open_cnt_test', int(max_qsize))\n",
    "paths.save_dao_datum(ORG_NAME, 'max_open_date_test', str(max_date))\n",
    "\n",
    "_toplot.plot(figsize=(8,3))\n",
    "add_folds_to_plot(cont=False)"
   ]
  },
  {
   "cell_type": "markdown",
   "id": "e356b832-bd11-4913-af31-5c630af68511",
   "metadata": {
    "papermill": {
     "duration": 0.00327,
     "end_time": "2024-09-26T16:57:08.036283",
     "exception": false,
     "start_time": "2024-09-26T16:57:08.033013",
     "status": "completed"
    },
    "tags": []
   },
   "source": [
    "## What day of the week are proposals created"
   ]
  },
  {
   "cell_type": "code",
   "execution_count": 15,
   "id": "9c02d601-3d7a-4f7f-9c86-a6f85d4fe7ad",
   "metadata": {
    "execution": {
     "iopub.execute_input": "2024-09-26T16:57:08.042929Z",
     "iopub.status.busy": "2024-09-26T16:57:08.042825Z",
     "iopub.status.idle": "2024-09-26T16:57:08.391590Z",
     "shell.execute_reply": "2024-09-26T16:57:08.391358Z"
    },
    "papermill": {
     "duration": 0.352987,
     "end_time": "2024-09-26T16:57:08.392326",
     "exception": false,
     "start_time": "2024-09-26T16:57:08.039339",
     "status": "completed"
    },
    "tags": []
   },
   "outputs": [
    {
     "name": "stdout",
     "output_type": "stream",
     "text": [
      "start\n",
      "Saturday     16157\n",
      "Friday        3532\n",
      "Tuesday       2655\n",
      "Sunday        2611\n",
      "Monday        2231\n",
      "Thursday      1481\n",
      "Wednesday     1014\n",
      "Name: count, dtype: int64\n"
     ]
    },
    {
     "name": "stderr",
     "output_type": "stream",
     "text": [
      "/tmp/ipykernel_1807542/3307774390.py:9: UserWarning: set_ticklabels() should only be used with a fixed number of ticks, i.e. after set_ticks() or using a FixedLocator.\n",
      "  ax.set_xticklabels(DAYS_OF_WEEK_ENG, rotation=30, ha='right')\n"
     ]
    },
    {
     "data": {
      "application/vnd.jupyter.widget-view+json": {
       "model_id": "93ad23209cee401ba940f27530dedfd8",
       "version_major": 2,
       "version_minor": 0
      },
      "text/html": [
       "Cannot show widget. You probably want to rerun the code cell above (<i>Click in the code cell, and press Shift+Enter <kbd>⇧</kbd>+<kbd>↩</kbd></i>)."
      ],
      "text/plain": [
       "Cannot show ipywidgets in text"
      ]
     },
     "metadata": {},
     "output_type": "display_data"
    },
    {
     "data": {
      "image/png": "[encoded data removed]",
      "text/plain": [
       "<Figure size 350x262.5 with 1 Axes>"
      ]
     },
     "metadata": {},
     "output_type": "display_data"
    }
   ],
   "source": [
    "# Original: Cell [7] at https://github.com/daviddavo/upm-tfm-notebooks/blob/bb2e45d4ec10962c987b6691fcb0cd4eeba7ea5b/10_baseline_mp.ipynb\n",
    "DAYS_OF_WEEK_ENG = ['Monday', 'Tuesday', 'Wednesday', 'Thursday', 'Friday', 'Saturday', 'Sunday']\n",
    "\n",
    "ax = sns.countplot(x=dfp['start'].dt.day_name(), order=DAYS_OF_WEEK_ENG)\n",
    "# ax.set_title(f'Número de propuestas por día de la semana en {ORG_NAME}')\n",
    "print(dfp['start'].dt.day_name().value_counts())\n",
    "ax.set_xlabel('')\n",
    "ax.set_ylabel('# proposals')\n",
    "ax.set_xticklabels(DAYS_OF_WEEK_ENG, rotation=30, ha='right')\n",
    "\n",
    "# Updates\n",
    "ax.set_ylabel('')\n",
    "\n",
    "nbutils.download_matplotlib(ax.figure, 'proposals_dow.pdf')"
   ]
  },
  {
   "cell_type": "markdown",
   "id": "38dc62ae-b8b7-451a-9ab2-18b211d89ec3",
   "metadata": {
    "papermill": {
     "duration": 0.00369,
     "end_time": "2024-09-26T16:57:08.400042",
     "exception": false,
     "start_time": "2024-09-26T16:57:08.396352",
     "status": "completed"
    },
    "tags": []
   },
   "source": [
    "## What day of the week are proposals voted"
   ]
  },
  {
   "cell_type": "code",
   "execution_count": 16,
   "id": "39967821-9f6e-4426-b896-e3898b27b334",
   "metadata": {
    "execution": {
     "iopub.execute_input": "2024-09-26T16:57:08.407221Z",
     "iopub.status.busy": "2024-09-26T16:57:08.407121Z",
     "iopub.status.idle": "2024-09-26T16:57:08.492269Z",
     "shell.execute_reply": "2024-09-26T16:57:08.492038Z"
    },
    "papermill": {
     "duration": 0.089578,
     "end_time": "2024-09-26T16:57:08.492963",
     "exception": false,
     "start_time": "2024-09-26T16:57:08.403385",
     "status": "completed"
    },
    "tags": []
   },
   "outputs": [
    {
     "name": "stdout",
     "output_type": "stream",
     "text": [
      "date\n",
      "Saturday     3089\n",
      "Thursday     2724\n",
      "Tuesday      2544\n",
      "Monday       2415\n",
      "Wednesday    2375\n",
      "Friday       2322\n",
      "Sunday       2269\n",
      "Name: count, dtype: int64\n"
     ]
    },
    {
     "name": "stderr",
     "output_type": "stream",
     "text": [
      "/tmp/ipykernel_1807542/3643726510.py:6: UserWarning: set_ticklabels() should only be used with a fixed number of ticks, i.e. after set_ticks() or using a FixedLocator.\n",
      "  ax.set_xticklabels(DAYS_OF_WEEK_ENG, rotation=30, ha='right')\n"
     ]
    },
    {
     "data": {
      "application/vnd.jupyter.widget-view+json": {
       "model_id": "002f0d0659854065bae33ddff3fcdf1f",
       "version_major": 2,
       "version_minor": 0
      },
      "text/html": [
       "Cannot show widget. You probably want to rerun the code cell above (<i>Click in the code cell, and press Shift+Enter <kbd>⇧</kbd>+<kbd>↩</kbd></i>)."
      ],
      "text/plain": [
       "Cannot show ipywidgets in text"
      ]
     },
     "metadata": {},
     "output_type": "display_data"
    },
    {
     "data": {
      "image/png": "[encoded data removed]",
      "text/plain": [
       "<Figure size 350x262.5 with 1 Axes>"
      ]
     },
     "metadata": {},
     "output_type": "display_data"
    }
   ],
   "source": [
    "ax = sns.countplot(x=dfv['date'].dt.day_name(), order=DAYS_OF_WEEK_ENG)\n",
    "# ax.set_title(f'Número de propuestas por día de la semana en {ORG_NAME}')\n",
    "print(dfv['date'].dt.day_name().value_counts())\n",
    "ax.set_xlabel('')\n",
    "ax.set_ylabel('# votes')\n",
    "ax.set_xticklabels(DAYS_OF_WEEK_ENG, rotation=30, ha='right')\n",
    "\n",
    "# Updates\n",
    "ax.set_ylabel('')\n",
    "\n",
    "nbutils.download_matplotlib(ax.figure, \"votes_dow.pdf\")"
   ]
  },
  {
   "cell_type": "markdown",
   "id": "8ec0e029-2f9d-47a1-9b1a-d86e29bbe513",
   "metadata": {
    "papermill": {
     "duration": 0.003895,
     "end_time": "2024-09-26T16:57:08.501069",
     "exception": false,
     "start_time": "2024-09-26T16:57:08.497174",
     "status": "completed"
    },
    "tags": []
   },
   "source": [
    "## In which moment of the proposal lifetime are votes cast"
   ]
  },
  {
   "cell_type": "code",
   "execution_count": 17,
   "id": "75803459-86cf-42b8-bc4a-83e2e673a824",
   "metadata": {
    "execution": {
     "iopub.execute_input": "2024-09-26T16:57:08.508722Z",
     "iopub.status.busy": "2024-09-26T16:57:08.508623Z",
     "iopub.status.idle": "2024-09-26T16:57:11.512262Z",
     "shell.execute_reply": "2024-09-26T16:57:11.512047Z"
    },
    "papermill": {
     "duration": 3.008503,
     "end_time": "2024-09-26T16:57:11.513055",
     "exception": false,
     "start_time": "2024-09-26T16:57:08.504552",
     "status": "completed"
    },
    "tags": []
   },
   "outputs": [
    {
     "data": {
      "text/html": [
       "<div>\n",
       "<style scoped>\n",
       "    .dataframe tbody tr th:only-of-type {\n",
       "        vertical-align: middle;\n",
       "    }\n",
       "\n",
       "    .dataframe tbody tr th {\n",
       "        vertical-align: top;\n",
       "    }\n",
       "\n",
       "    .dataframe thead tr th {\n",
       "        text-align: left;\n",
       "    }\n",
       "\n",
       "    .dataframe thead tr:last-of-type th {\n",
       "        text-align: right;\n",
       "    }\n",
       "</style>\n",
       "<table border=\"1\" class=\"dataframe\">\n",
       "  <thead>\n",
       "    <tr>\n",
       "      <th></th>\n",
       "      <th colspan=\"8\" halign=\"left\">time remaining</th>\n",
       "    </tr>\n",
       "    <tr>\n",
       "      <th></th>\n",
       "      <th>count</th>\n",
       "      <th>mean</th>\n",
       "      <th>std</th>\n",
       "      <th>min</th>\n",
       "      <th>25%</th>\n",
       "      <th>50%</th>\n",
       "      <th>75%</th>\n",
       "      <th>max</th>\n",
       "    </tr>\n",
       "    <tr>\n",
       "      <th>delta</th>\n",
       "      <th></th>\n",
       "      <th></th>\n",
       "      <th></th>\n",
       "      <th></th>\n",
       "      <th></th>\n",
       "      <th></th>\n",
       "      <th></th>\n",
       "      <th></th>\n",
       "    </tr>\n",
       "  </thead>\n",
       "  <tbody>\n",
       "    <tr>\n",
       "      <th>2 days 00:01:05</th>\n",
       "      <td>6.0</td>\n",
       "      <td>0.804274</td>\n",
       "      <td>0.213891</td>\n",
       "      <td>0.602580</td>\n",
       "      <td>0.610346</td>\n",
       "      <td>0.807812</td>\n",
       "      <td>0.999465</td>\n",
       "      <td>0.999566</td>\n",
       "    </tr>\n",
       "    <tr>\n",
       "      <th>2 days 00:01:30</th>\n",
       "      <td>3.0</td>\n",
       "      <td>0.999576</td>\n",
       "      <td>0.000073</td>\n",
       "      <td>0.999508</td>\n",
       "      <td>0.999537</td>\n",
       "      <td>0.999566</td>\n",
       "      <td>0.999610</td>\n",
       "      <td>0.999653</td>\n",
       "    </tr>\n",
       "    <tr>\n",
       "      <th>2 days 00:01:35</th>\n",
       "      <td>2.0</td>\n",
       "      <td>0.999566</td>\n",
       "      <td>0.000082</td>\n",
       "      <td>0.999508</td>\n",
       "      <td>0.999537</td>\n",
       "      <td>0.999566</td>\n",
       "      <td>0.999595</td>\n",
       "      <td>0.999624</td>\n",
       "    </tr>\n",
       "    <tr>\n",
       "      <th>2 days 00:01:43</th>\n",
       "      <td>2.0</td>\n",
       "      <td>0.999506</td>\n",
       "      <td>0.000102</td>\n",
       "      <td>0.999433</td>\n",
       "      <td>0.999469</td>\n",
       "      <td>0.999506</td>\n",
       "      <td>0.999542</td>\n",
       "      <td>0.999578</td>\n",
       "    </tr>\n",
       "    <tr>\n",
       "      <th>2 days 00:01:45</th>\n",
       "      <td>7.0</td>\n",
       "      <td>0.996135</td>\n",
       "      <td>0.004384</td>\n",
       "      <td>0.989937</td>\n",
       "      <td>0.992805</td>\n",
       "      <td>0.999075</td>\n",
       "      <td>0.999436</td>\n",
       "      <td>0.999451</td>\n",
       "    </tr>\n",
       "    <tr>\n",
       "      <th>...</th>\n",
       "      <td>...</td>\n",
       "      <td>...</td>\n",
       "      <td>...</td>\n",
       "      <td>...</td>\n",
       "      <td>...</td>\n",
       "      <td>...</td>\n",
       "      <td>...</td>\n",
       "      <td>...</td>\n",
       "    </tr>\n",
       "    <tr>\n",
       "      <th>309 days 16:59:45</th>\n",
       "      <td>1.0</td>\n",
       "      <td>0.288862</td>\n",
       "      <td>NaN</td>\n",
       "      <td>0.288862</td>\n",
       "      <td>0.288862</td>\n",
       "      <td>0.288862</td>\n",
       "      <td>0.288862</td>\n",
       "      <td>0.288862</td>\n",
       "    </tr>\n",
       "    <tr>\n",
       "      <th>309 days 18:26:35</th>\n",
       "      <td>1.0</td>\n",
       "      <td>0.288814</td>\n",
       "      <td>NaN</td>\n",
       "      <td>0.288814</td>\n",
       "      <td>0.288814</td>\n",
       "      <td>0.288814</td>\n",
       "      <td>0.288814</td>\n",
       "      <td>0.288814</td>\n",
       "    </tr>\n",
       "    <tr>\n",
       "      <th>310 days 00:41:30</th>\n",
       "      <td>1.0</td>\n",
       "      <td>0.288564</td>\n",
       "      <td>NaN</td>\n",
       "      <td>0.288564</td>\n",
       "      <td>0.288564</td>\n",
       "      <td>0.288564</td>\n",
       "      <td>0.288564</td>\n",
       "      <td>0.288564</td>\n",
       "    </tr>\n",
       "    <tr>\n",
       "      <th>310 days 01:59:48</th>\n",
       "      <td>1.0</td>\n",
       "      <td>0.288516</td>\n",
       "      <td>NaN</td>\n",
       "      <td>0.288516</td>\n",
       "      <td>0.288516</td>\n",
       "      <td>0.288516</td>\n",
       "      <td>0.288516</td>\n",
       "      <td>0.288516</td>\n",
       "    </tr>\n",
       "    <tr>\n",
       "      <th>310 days 04:48:20</th>\n",
       "      <td>1.0</td>\n",
       "      <td>0.288409</td>\n",
       "      <td>NaN</td>\n",
       "      <td>0.288409</td>\n",
       "      <td>0.288409</td>\n",
       "      <td>0.288409</td>\n",
       "      <td>0.288409</td>\n",
       "      <td>0.288409</td>\n",
       "    </tr>\n",
       "  </tbody>\n",
       "</table>\n",
       "<p>4329 rows × 8 columns</p>\n",
       "</div>"
      ],
      "text/plain": [
       "                  time remaining                                          \\\n",
       "                           count      mean       std       min       25%   \n",
       "delta                                                                      \n",
       "2 days 00:01:05              6.0  0.804274  0.213891  0.602580  0.610346   \n",
       "2 days 00:01:30              3.0  0.999576  0.000073  0.999508  0.999537   \n",
       "2 days 00:01:35              2.0  0.999566  0.000082  0.999508  0.999537   \n",
       "2 days 00:01:43              2.0  0.999506  0.000102  0.999433  0.999469   \n",
       "2 days 00:01:45              7.0  0.996135  0.004384  0.989937  0.992805   \n",
       "...                          ...       ...       ...       ...       ...   \n",
       "309 days 16:59:45            1.0  0.288862       NaN  0.288862  0.288862   \n",
       "309 days 18:26:35            1.0  0.288814       NaN  0.288814  0.288814   \n",
       "310 days 00:41:30            1.0  0.288564       NaN  0.288564  0.288564   \n",
       "310 days 01:59:48            1.0  0.288516       NaN  0.288516  0.288516   \n",
       "310 days 04:48:20            1.0  0.288409       NaN  0.288409  0.288409   \n",
       "\n",
       "                                                 \n",
       "                        50%       75%       max  \n",
       "delta                                            \n",
       "2 days 00:01:05    0.807812  0.999465  0.999566  \n",
       "2 days 00:01:30    0.999566  0.999610  0.999653  \n",
       "2 days 00:01:35    0.999566  0.999595  0.999624  \n",
       "2 days 00:01:43    0.999506  0.999542  0.999578  \n",
       "2 days 00:01:45    0.999075  0.999436  0.999451  \n",
       "...                     ...       ...       ...  \n",
       "309 days 16:59:45  0.288862  0.288862  0.288862  \n",
       "309 days 18:26:35  0.288814  0.288814  0.288814  \n",
       "310 days 00:41:30  0.288564  0.288564  0.288564  \n",
       "310 days 01:59:48  0.288516  0.288516  0.288516  \n",
       "310 days 04:48:20  0.288409  0.288409  0.288409  \n",
       "\n",
       "[4329 rows x 8 columns]"
      ]
     },
     "metadata": {},
     "output_type": "display_data"
    },
    {
     "name": "stdout",
     "output_type": "stream",
     "text": [
      "8860 (49.95%) of the votes are being cast on the first 14.29% of rel time\n",
      "15941 (89.87%) of the votes are being cast on the first 85.71% of rel time\n"
     ]
    },
    {
     "data": {
      "application/vnd.jupyter.widget-view+json": {
       "model_id": "e49f34fbdd4a4a31a6b4ba7f2f9ad272",
       "version_major": 2,
       "version_minor": 0
      },
      "text/html": [
       "Cannot show widget. You probably want to rerun the code cell above (<i>Click in the code cell, and press Shift+Enter <kbd>⇧</kbd>+<kbd>↩</kbd></i>)."
      ],
      "text/plain": [
       "Cannot show ipywidgets in text"
      ]
     },
     "metadata": {},
     "output_type": "display_data"
    },
    {
     "data": {
      "image/png": "[encoded data removed]",
      "text/plain": [
       "<Figure size 868.375x500 with 1 Axes>"
      ]
     },
     "metadata": {},
     "output_type": "display_data"
    }
   ],
   "source": [
    "from matplotlib import ticker\n",
    "\n",
    "PLOT_HUE = True\n",
    "BINS = 10\n",
    "\n",
    "_dfv = dfv[['proposal', 'date']].merge(dfp[['id', 'start', 'end']], left_on='proposal', right_on='id').sort_values('date')\n",
    "if not all(_dfv['date'] >= _dfv['start']):\n",
    "    warnings.warn('There cant be votes before the proposal started')\n",
    "if not all(_dfv['end'] >= _dfv['date']):\n",
    "    warnings.warn('There cant be votes after the proposal ended')\n",
    "_dfv['date_rel'] = (_dfv['date'] - _dfv['start']) / (_dfv['end'] - _dfv['start'])\n",
    "_dfv['delta'] = (_dfv['end'] - _dfv['start'])\n",
    "_dfv['time remaining'] = 1 - _dfv['date_rel']\n",
    "\n",
    "display(_dfv.groupby('delta')[['time remaining']].describe())\n",
    "\n",
    "for t in [1/7, 6/7]:\n",
    "    first_day = (_dfv['date_rel'] < t)\n",
    "    print(f\"{first_day.sum()} ({first_day.mean()*100:.2f}%) of the votes are being cast on the first {t*100:.2f}% of rel time\")\n",
    "\n",
    "if len(_dfv['delta'].value_counts()) > BINS:\n",
    "    _dfv['delta_original'] = _dfv['delta']\n",
    "    _dfv['delta'] = pd.cut(_dfv['delta'], BINS)\n",
    "\n",
    "_dfv['delta'] = _dfv['delta'].astype(str)\n",
    "fg = sns.displot(_dfv, x='date_rel', kind='ecdf', hue='delta' if PLOT_HUE else None)\n",
    "# fg.ax.xaxis.set_major_locator(ticker.MultipleLocator(1/7))\n",
    "\n",
    "fg.ax.yaxis.set_major_locator(ticker.MultipleLocator(1/10))\n",
    "fg.ax.yaxis.set_major_formatter(ticker.PercentFormatter(1))\n",
    "fg.ax.set_xticks(np.arange(8)/7)\n",
    "fg.ax.set_xticklabels([\"0\"] + [f\"{x}/7\" for x in range(1,7)] + [\"1\"])\n",
    "fg.ax.set_xlabel('Relative time elapsed');\n",
    "\n",
    "nbutils.download_matplotlib(fg, f\"votes_in_time{'-color' if PLOT_HUE else ''}.pdf\")"
   ]
  },
  {
   "cell_type": "markdown",
   "id": "9130dd8e-7e68-4dfb-b495-9fa0a926a933",
   "metadata": {
    "papermill": {
     "duration": 0.004043,
     "end_time": "2024-09-26T16:57:11.521836",
     "exception": false,
     "start_time": "2024-09-26T16:57:11.517793",
     "status": "completed"
    },
    "tags": []
   },
   "source": [
    "## Explore folds"
   ]
  },
  {
   "cell_type": "markdown",
   "id": "fccc5d7a-9987-474d-9c06-1e2c02996314",
   "metadata": {
    "papermill": {
     "duration": 0.00376,
     "end_time": "2024-09-26T16:57:11.529442",
     "exception": false,
     "start_time": "2024-09-26T16:57:11.525682",
     "status": "completed"
    },
    "tags": []
   },
   "source": [
    "### Just the folds that are used"
   ]
  },
  {
   "cell_type": "code",
   "execution_count": 18,
   "id": "cd043869-84a8-462c-9c01-dd75d130d520",
   "metadata": {
    "execution": {
     "iopub.execute_input": "2024-09-26T16:57:11.537581Z",
     "iopub.status.busy": "2024-09-26T16:57:11.537476Z",
     "iopub.status.idle": "2024-09-26T16:57:11.580915Z",
     "shell.execute_reply": "2024-09-26T16:57:11.580721Z"
    },
    "papermill": {
     "duration": 0.048456,
     "end_time": "2024-09-26T16:57:11.581711",
     "exception": false,
     "start_time": "2024-09-26T16:57:11.533255",
     "status": "completed"
    },
    "tags": []
   },
   "outputs": [
    {
     "data": {
      "text/html": [
       "<div>\n",
       "<style scoped>\n",
       "    .dataframe tbody tr th:only-of-type {\n",
       "        vertical-align: middle;\n",
       "    }\n",
       "\n",
       "    .dataframe tbody tr th {\n",
       "        vertical-align: top;\n",
       "    }\n",
       "\n",
       "    .dataframe thead th {\n",
       "        text-align: right;\n",
       "    }\n",
       "</style>\n",
       "<table border=\"1\" class=\"dataframe\">\n",
       "  <thead>\n",
       "    <tr style=\"text-align: right;\">\n",
       "      <th></th>\n",
       "      <th>open proposals</th>\n",
       "      <th>users in train</th>\n",
       "      <th>users in test</th>\n",
       "      <th>votes in train</th>\n",
       "      <th>votes in test</th>\n",
       "      <th>users in both</th>\n",
       "      <th>vpp test</th>\n",
       "      <th>vpv test</th>\n",
       "    </tr>\n",
       "    <tr>\n",
       "      <th>t</th>\n",
       "      <th></th>\n",
       "      <th></th>\n",
       "      <th></th>\n",
       "      <th></th>\n",
       "      <th></th>\n",
       "      <th></th>\n",
       "      <th></th>\n",
       "      <th></th>\n",
       "    </tr>\n",
       "  </thead>\n",
       "  <tbody>\n",
       "    <tr>\n",
       "      <th>2021-10-21</th>\n",
       "      <td>2</td>\n",
       "      <td>33</td>\n",
       "      <td>7</td>\n",
       "      <td>217</td>\n",
       "      <td>7</td>\n",
       "      <td>7</td>\n",
       "      <td>7.000000</td>\n",
       "      <td>1.000000</td>\n",
       "    </tr>\n",
       "    <tr>\n",
       "      <th>2021-10-23</th>\n",
       "      <td>1</td>\n",
       "      <td>33</td>\n",
       "      <td>7</td>\n",
       "      <td>217</td>\n",
       "      <td>7</td>\n",
       "      <td>7</td>\n",
       "      <td>7.000000</td>\n",
       "      <td>1.000000</td>\n",
       "    </tr>\n",
       "    <tr>\n",
       "      <th>2021-10-25</th>\n",
       "      <td>5</td>\n",
       "      <td>34</td>\n",
       "      <td>8</td>\n",
       "      <td>225</td>\n",
       "      <td>9</td>\n",
       "      <td>8</td>\n",
       "      <td>4.500000</td>\n",
       "      <td>1.125000</td>\n",
       "    </tr>\n",
       "    <tr>\n",
       "      <th>2021-10-27</th>\n",
       "      <td>1250</td>\n",
       "      <td>40</td>\n",
       "      <td>187</td>\n",
       "      <td>1426</td>\n",
       "      <td>1177</td>\n",
       "      <td>187</td>\n",
       "      <td>1.514801</td>\n",
       "      <td>6.294118</td>\n",
       "    </tr>\n",
       "    <tr>\n",
       "      <th>2021-10-29</th>\n",
       "      <td>1142</td>\n",
       "      <td>408</td>\n",
       "      <td>492</td>\n",
       "      <td>3861</td>\n",
       "      <td>683</td>\n",
       "      <td>492</td>\n",
       "      <td>12.418182</td>\n",
       "      <td>1.388211</td>\n",
       "    </tr>\n",
       "    <tr>\n",
       "      <th>2021-10-31</th>\n",
       "      <td>572</td>\n",
       "      <td>990</td>\n",
       "      <td>574</td>\n",
       "      <td>6500</td>\n",
       "      <td>1053</td>\n",
       "      <td>574</td>\n",
       "      <td>6.750000</td>\n",
       "      <td>1.834495</td>\n",
       "    </tr>\n",
       "    <tr>\n",
       "      <th>2021-11-02</th>\n",
       "      <td>235</td>\n",
       "      <td>1388</td>\n",
       "      <td>417</td>\n",
       "      <td>8219</td>\n",
       "      <td>682</td>\n",
       "      <td>417</td>\n",
       "      <td>8.525000</td>\n",
       "      <td>1.635492</td>\n",
       "    </tr>\n",
       "    <tr>\n",
       "      <th>2021-11-04</th>\n",
       "      <td>107</td>\n",
       "      <td>1553</td>\n",
       "      <td>407</td>\n",
       "      <td>8849</td>\n",
       "      <td>671</td>\n",
       "      <td>407</td>\n",
       "      <td>12.660377</td>\n",
       "      <td>1.648649</td>\n",
       "    </tr>\n",
       "    <tr>\n",
       "      <th>2021-11-06</th>\n",
       "      <td>68</td>\n",
       "      <td>1631</td>\n",
       "      <td>489</td>\n",
       "      <td>9194</td>\n",
       "      <td>808</td>\n",
       "      <td>489</td>\n",
       "      <td>17.191489</td>\n",
       "      <td>1.652352</td>\n",
       "    </tr>\n",
       "    <tr>\n",
       "      <th>2021-11-08</th>\n",
       "      <td>251</td>\n",
       "      <td>1676</td>\n",
       "      <td>848</td>\n",
       "      <td>9485</td>\n",
       "      <td>1656</td>\n",
       "      <td>848</td>\n",
       "      <td>11.913669</td>\n",
       "      <td>1.952830</td>\n",
       "    </tr>\n",
       "    <tr>\n",
       "      <th>2021-11-10</th>\n",
       "      <td>260</td>\n",
       "      <td>1726</td>\n",
       "      <td>966</td>\n",
       "      <td>9763</td>\n",
       "      <td>1971</td>\n",
       "      <td>966</td>\n",
       "      <td>11.198864</td>\n",
       "      <td>2.040373</td>\n",
       "    </tr>\n",
       "    <tr>\n",
       "      <th>2021-11-12</th>\n",
       "      <td>308</td>\n",
       "      <td>1795</td>\n",
       "      <td>951</td>\n",
       "      <td>10162</td>\n",
       "      <td>1957</td>\n",
       "      <td>951</td>\n",
       "      <td>11.718563</td>\n",
       "      <td>2.057834</td>\n",
       "    </tr>\n",
       "    <tr>\n",
       "      <th>2021-11-14</th>\n",
       "      <td>571</td>\n",
       "      <td>1902</td>\n",
       "      <td>992</td>\n",
       "      <td>10945</td>\n",
       "      <td>2099</td>\n",
       "      <td>992</td>\n",
       "      <td>7.605072</td>\n",
       "      <td>2.115927</td>\n",
       "    </tr>\n",
       "    <tr>\n",
       "      <th>2021-11-16</th>\n",
       "      <td>568</td>\n",
       "      <td>2113</td>\n",
       "      <td>854</td>\n",
       "      <td>12013</td>\n",
       "      <td>1715</td>\n",
       "      <td>854</td>\n",
       "      <td>7.976744</td>\n",
       "      <td>2.008197</td>\n",
       "    </tr>\n",
       "    <tr>\n",
       "      <th>2021-11-18</th>\n",
       "      <td>370</td>\n",
       "      <td>2251</td>\n",
       "      <td>756</td>\n",
       "      <td>12705</td>\n",
       "      <td>1481</td>\n",
       "      <td>756</td>\n",
       "      <td>8.711765</td>\n",
       "      <td>1.958995</td>\n",
       "    </tr>\n",
       "    <tr>\n",
       "      <th>2021-11-20</th>\n",
       "      <td>454</td>\n",
       "      <td>2476</td>\n",
       "      <td>622</td>\n",
       "      <td>13774</td>\n",
       "      <td>1124</td>\n",
       "      <td>622</td>\n",
       "      <td>8.781250</td>\n",
       "      <td>1.807074</td>\n",
       "    </tr>\n",
       "    <tr>\n",
       "      <th>2021-11-22</th>\n",
       "      <td>509</td>\n",
       "      <td>2679</td>\n",
       "      <td>520</td>\n",
       "      <td>14692</td>\n",
       "      <td>987</td>\n",
       "      <td>520</td>\n",
       "      <td>6.668919</td>\n",
       "      <td>1.898077</td>\n",
       "    </tr>\n",
       "    <tr>\n",
       "      <th>2021-11-24</th>\n",
       "      <td>524</td>\n",
       "      <td>2888</td>\n",
       "      <td>426</td>\n",
       "      <td>15538</td>\n",
       "      <td>817</td>\n",
       "      <td>426</td>\n",
       "      <td>4.951515</td>\n",
       "      <td>1.917840</td>\n",
       "    </tr>\n",
       "    <tr>\n",
       "      <th>2021-11-26</th>\n",
       "      <td>276</td>\n",
       "      <td>3098</td>\n",
       "      <td>264</td>\n",
       "      <td>16192</td>\n",
       "      <td>568</td>\n",
       "      <td>264</td>\n",
       "      <td>2.641860</td>\n",
       "      <td>2.151515</td>\n",
       "    </tr>\n",
       "    <tr>\n",
       "      <th>2021-11-28</th>\n",
       "      <td>330</td>\n",
       "      <td>3287</td>\n",
       "      <td>220</td>\n",
       "      <td>16601</td>\n",
       "      <td>636</td>\n",
       "      <td>220</td>\n",
       "      <td>2.058252</td>\n",
       "      <td>2.890909</td>\n",
       "    </tr>\n",
       "  </tbody>\n",
       "</table>\n",
       "</div>"
      ],
      "text/plain": [
       "            open proposals  users in train  users in test  votes in train  \\\n",
       "t                                                                           \n",
       "2021-10-21               2              33              7             217   \n",
       "2021-10-23               1              33              7             217   \n",
       "2021-10-25               5              34              8             225   \n",
       "2021-10-27            1250              40            187            1426   \n",
       "2021-10-29            1142             408            492            3861   \n",
       "2021-10-31             572             990            574            6500   \n",
       "2021-11-02             235            1388            417            8219   \n",
       "2021-11-04             107            1553            407            8849   \n",
       "2021-11-06              68            1631            489            9194   \n",
       "2021-11-08             251            1676            848            9485   \n",
       "2021-11-10             260            1726            966            9763   \n",
       "2021-11-12             308            1795            951           10162   \n",
       "2021-11-14             571            1902            992           10945   \n",
       "2021-11-16             568            2113            854           12013   \n",
       "2021-11-18             370            2251            756           12705   \n",
       "2021-11-20             454            2476            622           13774   \n",
       "2021-11-22             509            2679            520           14692   \n",
       "2021-11-24             524            2888            426           15538   \n",
       "2021-11-26             276            3098            264           16192   \n",
       "2021-11-28             330            3287            220           16601   \n",
       "\n",
       "            votes in test  users in both   vpp test  vpv test  \n",
       "t                                                              \n",
       "2021-10-21              7              7   7.000000  1.000000  \n",
       "2021-10-23              7              7   7.000000  1.000000  \n",
       "2021-10-25              9              8   4.500000  1.125000  \n",
       "2021-10-27           1177            187   1.514801  6.294118  \n",
       "2021-10-29            683            492  12.418182  1.388211  \n",
       "2021-10-31           1053            574   6.750000  1.834495  \n",
       "2021-11-02            682            417   8.525000  1.635492  \n",
       "2021-11-04            671            407  12.660377  1.648649  \n",
       "2021-11-06            808            489  17.191489  1.652352  \n",
       "2021-11-08           1656            848  11.913669  1.952830  \n",
       "2021-11-10           1971            966  11.198864  2.040373  \n",
       "2021-11-12           1957            951  11.718563  2.057834  \n",
       "2021-11-14           2099            992   7.605072  2.115927  \n",
       "2021-11-16           1715            854   7.976744  2.008197  \n",
       "2021-11-18           1481            756   8.711765  1.958995  \n",
       "2021-11-20           1124            622   8.781250  1.807074  \n",
       "2021-11-22            987            520   6.668919  1.898077  \n",
       "2021-11-24            817            426   4.951515  1.917840  \n",
       "2021-11-26            568            264   2.641860  2.151515  \n",
       "2021-11-28            636            220   2.058252  2.890909  "
      ]
     },
     "execution_count": 18,
     "metadata": {},
     "output_type": "execute_result"
    }
   ],
   "source": [
    "from collections import defaultdict\n",
    "\n",
    "foldsinfo = defaultdict(list)\n",
    "for f in folds:\n",
    "    # print(len(f.open_proposals), \"open proposals\")\n",
    "    foldsinfo['t'].append(f.end)\n",
    "    foldsinfo['open proposals'].append(len(f.open_proposals))\n",
    "    foldsinfo['users in train'].append(f.train['voter'].nunique())\n",
    "    foldsinfo['users in test'].append(f.test['voter'].nunique())\n",
    "    foldsinfo['votes in train'].append(len(f.train))\n",
    "    foldsinfo['votes in test'].append(len(f.test))\n",
    "    foldsinfo['users in both'].append(len(np.intersect1d(f.test['voter'].unique(), f.test['voter'].unique())))\n",
    "    # votes per proposal\n",
    "    foldsinfo['vpp test'].append(f.test.groupby('proposal').size().mean())\n",
    "    # votes per voter\n",
    "    foldsinfo['vpv test'].append(f.test.groupby('voter').size().mean())\n",
    "\n",
    "dff = pd.DataFrame(foldsinfo).set_index('t')\n",
    "paths.save_dao_datum(ORG_NAME, 'folds_avg_open_proposals', dff['open proposals'].mean())\n",
    "paths.save_dao_datum(ORG_NAME, 'folds_avg_test_votes', dff['votes in test'].mean())\n",
    "paths.save_dao_datum(ORG_NAME, 'folds_avg_test_users', dff['users in test'].mean())\n",
    "paths.save_dao_datum(ORG_NAME, 'folds_avg_test_vpp', dff['vpp test'].mean())\n",
    "paths.save_dao_datum(ORG_NAME, 'folds_avg_test_vpv', dff['vpv test'].mean())\n",
    "dff"
   ]
  },
  {
   "cell_type": "markdown",
   "id": "729479f0-153b-46ee-a4ac-fcf6a2902dbb",
   "metadata": {
    "papermill": {
     "duration": 0.004143,
     "end_time": "2024-09-26T16:57:11.590133",
     "exception": false,
     "start_time": "2024-09-26T16:57:11.585990",
     "status": "completed"
    },
    "tags": []
   },
   "source": [
    "## Histograms"
   ]
  },
  {
   "cell_type": "markdown",
   "id": "b700fb01",
   "metadata": {
    "papermill": {
     "duration": 0.004099,
     "end_time": "2024-09-26T16:57:11.598284",
     "exception": false,
     "start_time": "2024-09-26T16:57:11.594185",
     "status": "completed"
    },
    "tags": []
   },
   "source": [
    "### Votes per user"
   ]
  },
  {
   "cell_type": "code",
   "execution_count": 19,
   "id": "58c8912e",
   "metadata": {
    "execution": {
     "iopub.execute_input": "2024-09-26T16:57:11.607037Z",
     "iopub.status.busy": "2024-09-26T16:57:11.606941Z",
     "iopub.status.idle": "2024-09-26T16:57:11.776471Z",
     "shell.execute_reply": "2024-09-26T16:57:11.776017Z"
    },
    "papermill": {
     "duration": 0.17484,
     "end_time": "2024-09-26T16:57:11.777156",
     "exception": false,
     "start_time": "2024-09-26T16:57:11.602316",
     "status": "completed"
    },
    "tags": []
   },
   "outputs": [
    {
     "name": "stdout",
     "output_type": "stream",
     "text": [
      "count    3469.000000\n",
      "mean        5.113289\n",
      "std        70.003581\n",
      "min         1.000000\n",
      "10%         2.000000\n",
      "15%         2.000000\n",
      "50%         3.000000\n",
      "90%         5.000000\n",
      "95%         7.000000\n",
      "99%        15.000000\n",
      "max      4020.000000\n",
      "dtype: float64\n",
      "72 voters (2.08%) have voted more than 10 times\n",
      "8 voters (0.23%) have voted more than 100 times\n"
     ]
    },
    {
     "data": {
      "application/vnd.jupyter.widget-view+json": {
       "model_id": "0a1695ed484c4caeae7edae941b93d89",
       "version_major": 2,
       "version_minor": 0
      },
      "text/html": [
       "Cannot show widget. You probably want to rerun the code cell above (<i>Click in the code cell, and press Shift+Enter <kbd>⇧</kbd>+<kbd>↩</kbd></i>)."
      ],
      "text/plain": [
       "Cannot show ipywidgets in text"
      ]
     },
     "metadata": {},
     "output_type": "display_data"
    },
    {
     "data": {
      "image/png": "[encoded data removed]",
      "text/plain": [
       "<Figure size 350x262.5 with 1 Axes>"
      ]
     },
     "metadata": {},
     "output_type": "display_data"
    }
   ],
   "source": [
    "_toplot = dfv.groupby('voter').size()\n",
    "# _toplot = _toplot[_toplot < 40]\n",
    "print(_toplot.describe(percentiles=[.1, .15, .5, .9, .95, .99]))\n",
    "# _toplot.plot.hist(log=True)\n",
    "ax = sns.ecdfplot(_toplot, log_scale=True)\n",
    "plt.xlabel('# votes')\n",
    "plt.ylabel('% voters')\n",
    "\n",
    "_times_voted = [10, 100]\n",
    "for t in _times_voted:\n",
    "    _nusers = (_toplot > t).sum()\n",
    "    print(f\"{_nusers} voters ({_nusers/len(_toplot)*100:.2f}%) have voted more than {t} times\")\n",
    "\n",
    "ax.set_xticks([1, 5, 10, 50, 100, 500, 1000])\n",
    "# ax.xaxis.set_major_locator(mtick.MultipleLocator(10))\n",
    "ax.yaxis.set_major_formatter(ticker.PercentFormatter(1))\n",
    "\n",
    "# Updates by Javi\n",
    "plt.xlabel(\"\")\n",
    "plt.ylabel(\"\")\n",
    "\n",
    "nbutils.download_matplotlib(ax.figure, \"ecdf-vpv.pdf\")"
   ]
  },
  {
   "cell_type": "markdown",
   "id": "d11514db",
   "metadata": {
    "papermill": {
     "duration": 0.004764,
     "end_time": "2024-09-26T16:57:11.786607",
     "exception": false,
     "start_time": "2024-09-26T16:57:11.781843",
     "status": "completed"
    },
    "tags": []
   },
   "source": [
    "### Votes per proposal"
   ]
  },
  {
   "cell_type": "code",
   "execution_count": 20,
   "id": "66dba836",
   "metadata": {
    "execution": {
     "iopub.execute_input": "2024-09-26T16:57:11.795662Z",
     "iopub.status.busy": "2024-09-26T16:57:11.795540Z",
     "iopub.status.idle": "2024-09-26T16:57:11.937727Z",
     "shell.execute_reply": "2024-09-26T16:57:11.937417Z"
    },
    "papermill": {
     "duration": 0.147523,
     "end_time": "2024-09-26T16:57:11.938370",
     "exception": false,
     "start_time": "2024-09-26T16:57:11.790847",
     "status": "completed"
    },
    "tags": []
   },
   "outputs": [
    {
     "name": "stdout",
     "output_type": "stream",
     "text": [
      "count    5591.000000\n",
      "mean        3.172599\n",
      "std         5.710431\n",
      "min         1.000000\n",
      "10%         1.000000\n",
      "15%         1.000000\n",
      "20%         1.000000\n",
      "25%         1.000000\n",
      "50%         2.000000\n",
      "75%         3.000000\n",
      "90%         6.000000\n",
      "95%         9.000000\n",
      "99%        21.000000\n",
      "max       120.000000\n",
      "dtype: float64\n",
      "Total votes: 17738\n",
      "211 proposals (3.77%) have more than 10 votes\n",
      "8 proposals (0.14%) have more than 72 votes\n",
      "7 proposals (0.13%) have more than 73 votes\n",
      "6 proposals (0.11%) have more than 100 votes\n"
     ]
    },
    {
     "data": {
      "application/vnd.jupyter.widget-view+json": {
       "model_id": "20bd1f58819d470f848f8d73794e5f91",
       "version_major": 2,
       "version_minor": 0
      },
      "text/html": [
       "Cannot show widget. You probably want to rerun the code cell above (<i>Click in the code cell, and press Shift+Enter <kbd>⇧</kbd>+<kbd>↩</kbd></i>)."
      ],
      "text/plain": [
       "Cannot show ipywidgets in text"
      ]
     },
     "metadata": {},
     "output_type": "display_data"
    },
    {
     "data": {
      "image/png": "[encoded data removed]",
      "text/plain": [
       "<Figure size 350x262.5 with 1 Axes>"
      ]
     },
     "metadata": {},
     "output_type": "display_data"
    }
   ],
   "source": [
    "_toplot = dfv.groupby('proposal').size()\n",
    "print(_toplot.describe(percentiles=[.1, .15, .20, .25, .5,.75,.9, .95, .99]))\n",
    "\n",
    "print(\"Total votes:\", _toplot.sum())\n",
    "_times_voted = [10, 72, 73, 100]\n",
    "for t in _times_voted:\n",
    "    _nprops = (_toplot > t).sum()\n",
    "    print(f\"{_nprops} proposals ({_nprops/len(_toplot)*100:.2f}%) have more than {t} votes\")\n",
    "\n",
    "ax = sns.ecdfplot(_toplot, log_scale=True)\n",
    "ax.set_xticks([1, 5, 10, 50, 100, 500, 1000])\n",
    "ax.yaxis.set_major_formatter(ticker.PercentFormatter(1))\n",
    "\n",
    "plt.xlabel('# votes')\n",
    "plt.ylabel('% proposals')\n",
    "\n",
    "# Updates by Javi\n",
    "plt.xlabel(\"\")\n",
    "plt.ylabel(\"\")\n",
    "\n",
    "nbutils.download_matplotlib(ax.figure, \"ecdf-vpp.pdf\")"
   ]
  }
 ],
 "metadata": {
  "kernelspec": {
   "display_name": "Python 3 (ipykernel)",
   "language": "python",
   "name": "python3"
  },
  "language_info": {
   "codemirror_mode": {
    "name": "ipython",
    "version": 3
   },
   "file_extension": ".py",
   "mimetype": "text/x-python",
   "name": "python",
   "nbconvert_exporter": "python",
   "pygments_lexer": "ipython3",
   "version": "3.11.6"
  },
  "papermill": {
   "default_parameters": {},
   "duration": 12.35625,
   "end_time": "2024-09-26T16:57:12.362553",
   "environment_variables": {},
   "exception": null,
   "input_path": "01_explore.ipynb",
   "output_path": "../nbout/DEAD FoundationsDAO/01_explore.ipynb",
   "parameters": {
    "EXECUTION_ID": "2024-09-24T10:00",
    "GPUS": 32,
    "LAST_FOLDS": 20,
    "LAST_FOLD_DATE_STR": "2021-11-28",
    "MAX_BATCH_SIZE": 9,
    "ORG_NAME": "DEAD FoundationsDAO",
    "SPLITS_FREQ": "2d",
    "SPLITS_NORMALIZE": true
   },
   "start_time": "2024-09-26T16:57:00.006303",
   "version": "2.6.0"
  },
  "widgets": {
   "application/vnd.jupyter.widget-state+json": {
    "state": {
     "002f0d0659854065bae33ddff3fcdf1f": {
      "model_module": "@jupyter-widgets/controls",
      "model_module_version": "2.0.0",
      "model_name": "VBoxModel",
      "state": {
       "_dom_classes": [],
       "_model_module": "@jupyter-widgets/controls",
       "_model_module_version": "2.0.0",
       "_model_name": "VBoxModel",
       "_view_count": 0,
       "_view_module": "@jupyter-widgets/controls",
       "_view_module_version": "2.0.0",
       "_view_name": "VBoxView",
       "box_style": "",
       "children": [
        "IPY_MODEL_2420bfc4a01841bfab9b801566dfbc33"
       ],
       "layout": "IPY_MODEL_eac7e094d64a4a51b77b27e1e7563f34",
       "tabbable": null,
       "tooltip": null
      }
     },
     "03808477b11745699b910e545a3bd100": {
      "model_module": "@jupyter-widgets/base",
      "model_module_version": "2.0.0",
      "model_name": "LayoutModel",
      "state": {
       "_model_module": "@jupyter-widgets/base",
       "_model_module_version": "2.0.0",
       "_model_name": "LayoutModel",
       "_view_count": null,
       "_view_module": "@jupyter-widgets/base",
       "_view_module_version": "2.0.0",
       "_view_name": "LayoutView",
       "align_content": null,
       "align_items": null,
       "align_self": null,
       "border_bottom": null,
       "border_left": null,
       "border_right": null,
       "border_top": null,
       "bottom": null,
       "display": null,
       "flex": null,
       "flex_flow": null,
       "grid_area": null,
       "grid_auto_columns": null,
       "grid_auto_flow": null,
       "grid_auto_rows": null,
       "grid_column": null,
       "grid_gap": null,
       "grid_row": null,
       "grid_template_areas": null,
       "grid_template_columns": null,
       "grid_template_rows": null,
       "height": null,
       "justify_content": null,
       "justify_items": null,
       "left": null,
       "margin": null,
       "max_height": null,
       "max_width": null,
       "min_height": null,
       "min_width": null,
       "object_fit": null,
       "object_position": null,
       "order": null,
       "overflow": null,
       "padding": null,
       "right": null,
       "top": null,
       "visibility": null,
       "width": null
      }
     },
     "0a1695ed484c4caeae7edae941b93d89": {
      "model_module": "@jupyter-widgets/controls",
      "model_module_version": "2.0.0",
      "model_name": "VBoxModel",
      "state": {
       "_dom_classes": [],
       "_model_module": "@jupyter-widgets/controls",
       "_model_module_version": "2.0.0",
       "_model_name": "VBoxModel",
       "_view_count": 0,
       "_view_module": "@jupyter-widgets/controls",
       "_view_module_version": "2.0.0",
       "_view_name": "VBoxView",
       "box_style": "",
       "children": [
        "IPY_MODEL_bd004f978c1747c3a66175088015f1a4"
       ],
       "layout": "IPY_MODEL_507f10ec315d4fdbacd379f6a9ca85f2",
       "tabbable": null,
       "tooltip": null
      }
     },
     "131fea5efb6f423a856bf948b1a1b0fb": {
      "model_module": "jupyter-vuetify",
      "model_module_version": "^1.8.5",
      "model_name": "IconModel",
      "state": {
       "_dom_classes": [],
       "_events": [],
       "_jupyter_vue": "IPY_MODEL_c46ce2b53f654639b995d3d0a14b60dc",
       "_metadata": null,
       "_model_module": "jupyter-vuetify",
       "_model_module_version": "^1.8.5",
       "_model_name": "IconModel",
       "_view_count": null,
       "_view_module": "jupyter-vuetify",
       "_view_module_version": "^1.8.5",
       "_view_name": "VuetifyView",
       "attributes": {},
       "children": [
        "mdi-cloud-download-outline"
       ],
       "class_": null,
       "color": null,
       "dark": null,
       "dense": null,
       "disabled": null,
       "large": null,
       "layout": null,
       "left": true,
       "light": null,
       "right": null,
       "size": null,
       "slot": null,
       "small": null,
       "style_": null,
       "tabbable": null,
       "tag": null,
       "tooltip": null,
       "v_model": "!!disabled!!",
       "v_on": null,
       "v_slots": [],
       "x_large": null,
       "x_small": null
      }
     },
     "18fba77747504e1d839be96574c5198d": {
      "model_module": "jupyter-vuetify",
      "model_module_version": "^1.8.5",
      "model_name": "BtnModel",
      "state": {
       "_dom_classes": [],
       "_events": [
        "click"
       ],
       "_jupyter_vue": "IPY_MODEL_c46ce2b53f654639b995d3d0a14b60dc",
       "_metadata": null,
       "_model_module": "jupyter-vuetify",
       "_model_module_version": "^1.8.5",
       "_model_name": "BtnModel",
       "_view_count": null,
       "_view_module": "jupyter-vuetify",
       "_view_module_version": "^1.8.5",
       "_view_name": "VuetifyView",
       "absolute": null,
       "active_class": null,
       "append": null,
       "attributes": {},
       "block": null,
       "bottom": null,
       "children": [
        "IPY_MODEL_8823041f453144328e6523dbc79a27e6",
        "Download: votes_dow.pdf"
       ],
       "class_": "",
       "color": null,
       "dark": null,
       "depressed": null,
       "disabled": false,
       "elevation": null,
       "exact": null,
       "exact_active_class": null,
       "fab": null,
       "fixed": null,
       "height": null,
       "href": null,
       "icon": null,
       "input_value": null,
       "large": null,
       "layout": null,
       "left": null,
       "light": null,
       "link": null,
       "loading": false,
       "max_height": null,
       "max_width": null,
       "min_height": null,
       "min_width": null,
       "nuxt": null,
       "outlined": false,
       "replace": null,
       "retain_focus_on_click": null,
       "right": null,
       "ripple": null,
       "rounded": null,
       "slot": null,
       "small": null,
       "style_": "",
       "tabbable": null,
       "tag": null,
       "target": null,
       "text": false,
       "tile": null,
       "to": null,
       "tooltip": null,
       "top": null,
       "type": null,
       "v_model": "!!disabled!!",
       "v_on": null,
       "v_slots": [],
       "value": null,
       "width": null,
       "x_large": null,
       "x_small": null
      }
     },
     "1bb128b552be4c338efb29a626bc2ffb": {
      "model_module": "@jupyter-widgets/base",
      "model_module_version": "2.0.0",
      "model_name": "LayoutModel",
      "state": {
       "_model_module": "@jupyter-widgets/base",
       "_model_module_version": "2.0.0",
       "_model_name": "LayoutModel",
       "_view_count": null,
       "_view_module": "@jupyter-widgets/base",
       "_view_module_version": "2.0.0",
       "_view_name": "LayoutView",
       "align_content": null,
       "align_items": null,
       "align_self": null,
       "border_bottom": null,
       "border_left": null,
       "border_right": null,
       "border_top": null,
       "bottom": null,
       "display": null,
       "flex": null,
       "flex_flow": null,
       "grid_area": null,
       "grid_auto_columns": null,
       "grid_auto_flow": null,
       "grid_auto_rows": null,
       "grid_column": null,
       "grid_gap": null,
       "grid_row": null,
       "grid_template_areas": null,
       "grid_template_columns": null,
       "grid_template_rows": null,
       "height": null,
       "justify_content": null,
       "justify_items": null,
       "left": null,
       "margin": null,
       "max_height": null,
       "max_width": null,
       "min_height": null,
       "min_width": null,
       "object_fit": null,
       "object_position": null,
       "order": null,
       "overflow": null,
       "padding": null,
       "right": null,
       "top": null,
       "visibility": null,
       "width": null
      }
     },
     "20bd1f58819d470f848f8d73794e5f91": {
      "model_module": "@jupyter-widgets/controls",
      "model_module_version": "2.0.0",
      "model_name": "VBoxModel",
      "state": {
       "_dom_classes": [],
       "_model_module": "@jupyter-widgets/controls",
       "_model_module_version": "2.0.0",
       "_model_name": "VBoxModel",
       "_view_count": 0,
       "_view_module": "@jupyter-widgets/controls",
       "_view_module_version": "2.0.0",
       "_view_name": "VBoxView",
       "box_style": "",
       "children": [
        "IPY_MODEL_f707bf2ca8d44858b02b4f5852a560e5"
       ],
       "layout": "IPY_MODEL_bd0dd8feee28436988282cc163837a28",
       "tabbable": null,
       "tooltip": null
      }
     },
     "2420bfc4a01841bfab9b801566dfbc33": {
      "model_module": "jupyter-vuetify",
      "model_module_version": "^1.9.4",
      "model_name": "HtmlModel",
      "state": {
       "_dom_classes": [],
       "_events": [],
       "_jupyter_vue": "IPY_MODEL_c46ce2b53f654639b995d3d0a14b60dc",
       "_model_module": "jupyter-vuetify",
       "_model_module_version": "^1.9.4",
       "_model_name": "HtmlModel",
       "_view_count": null,
       "_view_module": "jupyter-vuetify",
       "_view_module_version": "^1.9.4",
       "_view_name": "VuetifyView",
       "attributes": {},
       "children": [
        "IPY_MODEL_36f12eeb40ed4fedb35cf765f1e32e1b"
       ],
       "class_": null,
       "layout": null,
       "slot": null,
       "style_": null,
       "tabbable": null,
       "tag": "div",
       "tooltip": null,
       "v_model": "!!disabled!!",
       "v_on": null,
       "v_slots": []
      }
     },
     "321b1e94ada34f658314f1c83605eddf": {
      "model_module": "jupyter-vuetify",
      "model_module_version": "^1.8.5",
      "model_name": "ColModel",
      "state": {
       "_dom_classes": [],
       "_events": [],
       "_jupyter_vue": "IPY_MODEL_c46ce2b53f654639b995d3d0a14b60dc",
       "_metadata": null,
       "_model_module": "jupyter-vuetify",
       "_model_module_version": "^1.8.5",
       "_model_name": "ColModel",
       "_view_count": null,
       "_view_module": "jupyter-vuetify",
       "_view_module_version": "^1.8.5",
       "_view_name": "VuetifyView",
       "align_self": null,
       "attributes": {},
       "children": [
        "IPY_MODEL_47421f770ca6424ab9ee1a95ab20b9e5"
       ],
       "class_": null,
       "cols": 12.0,
       "layout": null,
       "lg": null,
       "md": null,
       "offset": null,
       "offset_lg": null,
       "offset_md": null,
       "offset_sm": null,
       "offset_xl": null,
       "order": null,
       "order_lg": null,
       "order_md": null,
       "order_sm": null,
       "order_xl": null,
       "slot": null,
       "sm": null,
       "style_": null,
       "tabbable": null,
       "tag": null,
       "tooltip": null,
       "v_model": "!!disabled!!",
       "v_on": null,
       "v_slots": [],
       "xl": null
      }
     },
     "36f12eeb40ed4fedb35cf765f1e32e1b": {
      "model_module": "jupyter-vuetify",
      "model_module_version": "^1.8.5",
      "model_name": "RowModel",
      "state": {
       "_dom_classes": [],
       "_events": [],
       "_jupyter_vue": "IPY_MODEL_c46ce2b53f654639b995d3d0a14b60dc",
       "_metadata": null,
       "_model_module": "jupyter-vuetify",
       "_model_module_version": "^1.8.5",
       "_model_name": "RowModel",
       "_view_count": null,
       "_view_module": "jupyter-vuetify",
       "_view_module_version": "^1.8.5",
       "_view_name": "VuetifyView",
       "align": null,
       "align_content": null,
       "align_content_lg": null,
       "align_content_md": null,
       "align_content_sm": null,
       "align_content_xl": null,
       "align_lg": null,
       "align_md": null,
       "align_sm": null,
       "align_xl": null,
       "attributes": {},
       "children": [
        "IPY_MODEL_fb0990abd32147f7936ce5ab25a73af0"
       ],
       "class_": "solara-content-main",
       "dense": null,
       "justify": null,
       "justify_lg": null,
       "justify_md": null,
       "justify_sm": null,
       "justify_xl": null,
       "layout": null,
       "no_gutters": false,
       "slot": null,
       "style_": null,
       "tabbable": null,
       "tag": null,
       "tooltip": null,
       "v_model": "!!disabled!!",
       "v_on": null,
       "v_slots": []
      }
     },
     "374e1f0f01b245fda13c9e150773a568": {
      "model_module": "jupyter-vuetify",
      "model_module_version": "^1.8.5",
      "model_name": "BtnModel",
      "state": {
       "_dom_classes": [],
       "_events": [
        "click"
       ],
       "_jupyter_vue": "IPY_MODEL_c46ce2b53f654639b995d3d0a14b60dc",
       "_metadata": null,
       "_model_module": "jupyter-vuetify",
       "_model_module_version": "^1.8.5",
       "_model_name": "BtnModel",
       "_view_count": null,
       "_view_module": "jupyter-vuetify",
       "_view_module_version": "^1.8.5",
       "_view_name": "VuetifyView",
       "absolute": null,
       "active_class": null,
       "append": null,
       "attributes": {},
       "block": null,
       "bottom": null,
       "children": [
        "IPY_MODEL_734a668a108b4863a28d738a804035b9",
        "Download: proposals_dow.pdf"
       ],
       "class_": "",
       "color": null,
       "dark": null,
       "depressed": null,
       "disabled": false,
       "elevation": null,
       "exact": null,
       "exact_active_class": null,
       "fab": null,
       "fixed": null,
       "height": null,
       "href": null,
       "icon": null,
       "input_value": null,
       "large": null,
       "layout": null,
       "left": null,
       "light": null,
       "link": null,
       "loading": false,
       "max_height": null,
       "max_width": null,
       "min_height": null,
       "min_width": null,
       "nuxt": null,
       "outlined": false,
       "replace": null,
       "retain_focus_on_click": null,
       "right": null,
       "ripple": null,
       "rounded": null,
       "slot": null,
       "small": null,
       "style_": "",
       "tabbable": null,
       "tag": null,
       "target": null,
       "text": false,
       "tile": null,
       "to": null,
       "tooltip": null,
       "top": null,
       "type": null,
       "v_model": "!!disabled!!",
       "v_on": null,
       "v_slots": [],
       "value": null,
       "width": null,
       "x_large": null,
       "x_small": null
      }
     },
     "38c095b8d1054cc584dad8592e0206ab": {
      "model_module": "jupyter-vuetify",
      "model_module_version": "^1.8.5",
      "model_name": "RowModel",
      "state": {
       "_dom_classes": [],
       "_events": [],
       "_jupyter_vue": "IPY_MODEL_c46ce2b53f654639b995d3d0a14b60dc",
       "_metadata": null,
       "_model_module": "jupyter-vuetify",
       "_model_module_version": "^1.8.5",
       "_model_name": "RowModel",
       "_view_count": null,
       "_view_module": "jupyter-vuetify",
       "_view_module_version": "^1.8.5",
       "_view_name": "VuetifyView",
       "align": null,
       "align_content": null,
       "align_content_lg": null,
       "align_content_md": null,
       "align_content_sm": null,
       "align_content_xl": null,
       "align_lg": null,
       "align_md": null,
       "align_sm": null,
       "align_xl": null,
       "attributes": {},
       "children": [
        "IPY_MODEL_321b1e94ada34f658314f1c83605eddf"
       ],
       "class_": "solara-content-main",
       "dense": null,
       "justify": null,
       "justify_lg": null,
       "justify_md": null,
       "justify_sm": null,
       "justify_xl": null,
       "layout": null,
       "no_gutters": false,
       "slot": null,
       "style_": null,
       "tabbable": null,
       "tag": null,
       "tooltip": null,
       "v_model": "!!disabled!!",
       "v_on": null,
       "v_slots": []
      }
     },
     "4074a22643e340b98eb7154b49103cd8": {
      "model_module": "jupyter-vue",
      "model_module_version": "^1.11.1",
      "model_name": "TemplateModel",
      "state": {
       "_model_module": "jupyter-vue",
       "_model_module_version": "^1.11.1",
       "_model_name": "TemplateModel",
       "_view_count": null,
       "_view_module": null,
       "_view_module_version": "",
       "_view_name": null,
       "template": "<template>\n    <div @click=\"request_download = true\" class=\"solara-file-download-container\">\n        <jupyter-widget v-for=\"child in children\" :key=\"child\" :widget=\"child\"></jupyter-widget>\n    </div>\n</template>\n\n<script>\nmodule.exports = {\n    watch: {\n        bytes(value) {\n            if (this.request_download) {\n                const a = document.createElement('a');\n                a.download = this.filename;\n                const blob = new Blob([this.bytes], { type: this.mime_type });\n                const blobUrl = window.URL.createObjectURL(blob);\n                a.href = blobUrl;\n                document.body.appendChild(a);\n                a.click();\n                document.body.removeChild(a);\n                setTimeout(() => {\n                    // Make sure we clean up\n                    window.URL.revokeObjectURL(blobUrl);\n                }, 1000);\n                this.request_download = false;\n            }\n        }\n    }\n}\n</script>\n\n<style id=\"solara-file-download\">\n.solara-file-download-container {\n    cursor: pointer;\n}\n</style>\n"
      }
     },
     "44ef0256c7854940996f3333d5807b92": {
      "model_module": "jupyter-vuetify",
      "model_module_version": "^1.8.5",
      "model_name": "BtnModel",
      "state": {
       "_dom_classes": [],
       "_events": [
        "click"
       ],
       "_jupyter_vue": "IPY_MODEL_c46ce2b53f654639b995d3d0a14b60dc",
       "_metadata": null,
       "_model_module": "jupyter-vuetify",
       "_model_module_version": "^1.8.5",
       "_model_name": "BtnModel",
       "_view_count": null,
       "_view_module": "jupyter-vuetify",
       "_view_module_version": "^1.8.5",
       "_view_name": "VuetifyView",
       "absolute": null,
       "active_class": null,
       "append": null,
       "attributes": {},
       "block": null,
       "bottom": null,
       "children": [
        "IPY_MODEL_f44596f5b9a34c3d896e9d99c17d32fd",
        "Download: ecdf-vpv.pdf"
       ],
       "class_": "",
       "color": null,
       "dark": null,
       "depressed": null,
       "disabled": false,
       "elevation": null,
       "exact": null,
       "exact_active_class": null,
       "fab": null,
       "fixed": null,
       "height": null,
       "href": null,
       "icon": null,
       "input_value": null,
       "large": null,
       "layout": null,
       "left": null,
       "light": null,
       "link": null,
       "loading": false,
       "max_height": null,
       "max_width": null,
       "min_height": null,
       "min_width": null,
       "nuxt": null,
       "outlined": false,
       "replace": null,
       "retain_focus_on_click": null,
       "right": null,
       "ripple": null,
       "rounded": null,
       "slot": null,
       "small": null,
       "style_": "",
       "tabbable": null,
       "tag": null,
       "target": null,
       "text": false,
       "tile": null,
       "to": null,
       "tooltip": null,
       "top": null,
       "type": null,
       "v_model": "!!disabled!!",
       "v_on": null,
       "v_slots": [],
       "value": null,
       "width": null,
       "x_large": null,
       "x_small": null
      }
     },
     "47421f770ca6424ab9ee1a95ab20b9e5": {
      "model_module": "jupyter-vuetify",
      "model_module_version": "^1.9.4",
      "model_name": "VuetifyTemplateModel",
      "state": {
       "_component_instances": [],
       "_dom_classes": [],
       "_jupyter_vue": "IPY_MODEL_c46ce2b53f654639b995d3d0a14b60dc",
       "_model_module": "jupyter-vuetify",
       "_model_module_version": "^1.9.4",
       "_model_name": "VuetifyTemplateModel",
       "_view_count": null,
       "_view_module": "jupyter-vuetify",
       "_view_module_version": "^1.9.4",
       "_view_name": "VuetifyView",
       "bytes": null,
       "children": [
        "IPY_MODEL_374e1f0f01b245fda13c9e150773a568"
       ],
       "components": null,
       "css": null,
       "data": null,
       "events": [],
       "filename": "proposals_dow.pdf",
       "layout": "IPY_MODEL_db8f39d55829414194d8b346e4156157",
       "methods": null,
       "mime_type": "application/octet-stream",
       "request_download": false,
       "tabbable": null,
       "template": "IPY_MODEL_4074a22643e340b98eb7154b49103cd8",
       "tooltip": null
      }
     },
     "507f10ec315d4fdbacd379f6a9ca85f2": {
      "model_module": "@jupyter-widgets/base",
      "model_module_version": "2.0.0",
      "model_name": "LayoutModel",
      "state": {
       "_model_module": "@jupyter-widgets/base",
       "_model_module_version": "2.0.0",
       "_model_name": "LayoutModel",
       "_view_count": null,
       "_view_module": "@jupyter-widgets/base",
       "_view_module_version": "2.0.0",
       "_view_name": "LayoutView",
       "align_content": null,
       "align_items": null,
       "align_self": null,
       "border_bottom": null,
       "border_left": null,
       "border_right": null,
       "border_top": null,
       "bottom": null,
       "display": null,
       "flex": null,
       "flex_flow": null,
       "grid_area": null,
       "grid_auto_columns": null,
       "grid_auto_flow": null,
       "grid_auto_rows": null,
       "grid_column": null,
       "grid_gap": null,
       "grid_row": null,
       "grid_template_areas": null,
       "grid_template_columns": null,
       "grid_template_rows": null,
       "height": null,
       "justify_content": null,
       "justify_items": null,
       "left": null,
       "margin": null,
       "max_height": null,
       "max_width": null,
       "min_height": null,
       "min_width": null,
       "object_fit": null,
       "object_position": null,
       "order": null,
       "overflow": null,
       "padding": null,
       "right": null,
       "top": null,
       "visibility": null,
       "width": null
      }
     },
     "578f89c9586a43179e665c91c672c0ec": {
      "model_module": "@jupyter-widgets/base",
      "model_module_version": "2.0.0",
      "model_name": "LayoutModel",
      "state": {
       "_model_module": "@jupyter-widgets/base",
       "_model_module_version": "2.0.0",
       "_model_name": "LayoutModel",
       "_view_count": null,
       "_view_module": "@jupyter-widgets/base",
       "_view_module_version": "2.0.0",
       "_view_name": "LayoutView",
       "align_content": null,
       "align_items": null,
       "align_self": null,
       "border_bottom": null,
       "border_left": null,
       "border_right": null,
       "border_top": null,
       "bottom": null,
       "display": null,
       "flex": null,
       "flex_flow": null,
       "grid_area": null,
       "grid_auto_columns": null,
       "grid_auto_flow": null,
       "grid_auto_rows": null,
       "grid_column": null,
       "grid_gap": null,
       "grid_row": null,
       "grid_template_areas": null,
       "grid_template_columns": null,
       "grid_template_rows": null,
       "height": null,
       "justify_content": null,
       "justify_items": null,
       "left": null,
       "margin": null,
       "max_height": null,
       "max_width": null,
       "min_height": null,
       "min_width": null,
       "object_fit": null,
       "object_position": null,
       "order": null,
       "overflow": null,
       "padding": null,
       "right": null,
       "top": null,
       "visibility": null,
       "width": null
      }
     },
     "589ab92f992a4a2d8dba6543e9dc5ee3": {
      "model_module": "jupyter-vuetify",
      "model_module_version": "^1.9.4",
      "model_name": "HtmlModel",
      "state": {
       "_dom_classes": [],
       "_events": [],
       "_jupyter_vue": "IPY_MODEL_c46ce2b53f654639b995d3d0a14b60dc",
       "_model_module": "jupyter-vuetify",
       "_model_module_version": "^1.9.4",
       "_model_name": "HtmlModel",
       "_view_count": null,
       "_view_module": "jupyter-vuetify",
       "_view_module_version": "^1.9.4",
       "_view_name": "VuetifyView",
       "attributes": {},
       "children": [
        "IPY_MODEL_d83f81a1be854f3ca69265dafd9cfdfa"
       ],
       "class_": null,
       "layout": null,
       "slot": null,
       "style_": null,
       "tabbable": null,
       "tag": "div",
       "tooltip": null,
       "v_model": "!!disabled!!",
       "v_on": null,
       "v_slots": []
      }
     },
     "63cd3f6091ef42189bee71bbec3fcc1a": {
      "model_module": "jupyter-vuetify",
      "model_module_version": "^1.9.4",
      "model_name": "ThemeColorsModel",
      "state": {
       "_model_module": "jupyter-vuetify",
       "_model_module_version": "^1.9.4",
       "_model_name": "ThemeColorsModel",
       "_theme_name": "dark",
       "_view_count": null,
       "_view_module": null,
       "_view_module_version": "^1.9.4",
       "_view_name": null,
       "accent": "#FF4081",
       "anchor": null,
       "error": "#FF5252",
       "info": "#2196F3",
       "primary": "#2196F3",
       "secondary": "#424242",
       "success": "#4CAF50",
       "warning": "#FB8C00"
      }
     },
     "734a668a108b4863a28d738a804035b9": {
      "model_module": "jupyter-vuetify",
      "model_module_version": "^1.8.5",
      "model_name": "IconModel",
      "state": {
       "_dom_classes": [],
       "_events": [],
       "_jupyter_vue": "IPY_MODEL_c46ce2b53f654639b995d3d0a14b60dc",
       "_metadata": null,
       "_model_module": "jupyter-vuetify",
       "_model_module_version": "^1.8.5",
       "_model_name": "IconModel",
       "_view_count": null,
       "_view_module": "jupyter-vuetify",
       "_view_module_version": "^1.8.5",
       "_view_name": "VuetifyView",
       "attributes": {},
       "children": [
        "mdi-cloud-download-outline"
       ],
       "class_": null,
       "color": null,
       "dark": null,
       "dense": null,
       "disabled": null,
       "large": null,
       "layout": null,
       "left": true,
       "light": null,
       "right": null,
       "size": null,
       "slot": null,
       "small": null,
       "style_": null,
       "tabbable": null,
       "tag": null,
       "tooltip": null,
       "v_model": "!!disabled!!",
       "v_on": null,
       "v_slots": [],
       "x_large": null,
       "x_small": null
      }
     },
     "7852099b36bc466092a79d251d6bd296": {
      "model_module": "@jupyter-widgets/base",
      "model_module_version": "2.0.0",
      "model_name": "LayoutModel",
      "state": {
       "_model_module": "@jupyter-widgets/base",
       "_model_module_version": "2.0.0",
       "_model_name": "LayoutModel",
       "_view_count": null,
       "_view_module": "@jupyter-widgets/base",
       "_view_module_version": "2.0.0",
       "_view_name": "LayoutView",
       "align_content": null,
       "align_items": null,
       "align_self": null,
       "border_bottom": null,
       "border_left": null,
       "border_right": null,
       "border_top": null,
       "bottom": null,
       "display": null,
       "flex": null,
       "flex_flow": null,
       "grid_area": null,
       "grid_auto_columns": null,
       "grid_auto_flow": null,
       "grid_auto_rows": null,
       "grid_column": null,
       "grid_gap": null,
       "grid_row": null,
       "grid_template_areas": null,
       "grid_template_columns": null,
       "grid_template_rows": null,
       "height": null,
       "justify_content": null,
       "justify_items": null,
       "left": null,
       "margin": null,
       "max_height": null,
       "max_width": null,
       "min_height": null,
       "min_width": null,
       "object_fit": null,
       "object_position": null,
       "order": null,
       "overflow": null,
       "padding": null,
       "right": null,
       "top": null,
       "visibility": null,
       "width": null
      }
     },
     "87b50913be5a48e38a041478375861c7": {
      "model_module": "jupyter-vuetify",
      "model_module_version": "^1.9.4",
      "model_name": "VuetifyTemplateModel",
      "state": {
       "_component_instances": [],
       "_dom_classes": [],
       "_jupyter_vue": "IPY_MODEL_c46ce2b53f654639b995d3d0a14b60dc",
       "_model_module": "jupyter-vuetify",
       "_model_module_version": "^1.9.4",
       "_model_name": "VuetifyTemplateModel",
       "_view_count": null,
       "_view_module": "jupyter-vuetify",
       "_view_module_version": "^1.9.4",
       "_view_name": "VuetifyView",
       "bytes": null,
       "children": [
        "IPY_MODEL_8e265fb1ac5f4116ae2acdd62ee64af7"
       ],
       "components": null,
       "css": null,
       "data": null,
       "events": [],
       "filename": "ecdf-vpp.pdf",
       "layout": "IPY_MODEL_7852099b36bc466092a79d251d6bd296",
       "methods": null,
       "mime_type": "application/octet-stream",
       "request_download": false,
       "tabbable": null,
       "template": "IPY_MODEL_4074a22643e340b98eb7154b49103cd8",
       "tooltip": null
      }
     },
     "8823041f453144328e6523dbc79a27e6": {
      "model_module": "jupyter-vuetify",
      "model_module_version": "^1.8.5",
      "model_name": "IconModel",
      "state": {
       "_dom_classes": [],
       "_events": [],
       "_jupyter_vue": "IPY_MODEL_c46ce2b53f654639b995d3d0a14b60dc",
       "_metadata": null,
       "_model_module": "jupyter-vuetify",
       "_model_module_version": "^1.8.5",
       "_model_name": "IconModel",
       "_view_count": null,
       "_view_module": "jupyter-vuetify",
       "_view_module_version": "^1.8.5",
       "_view_name": "VuetifyView",
       "attributes": {},
       "children": [
        "mdi-cloud-download-outline"
       ],
       "class_": null,
       "color": null,
       "dark": null,
       "dense": null,
       "disabled": null,
       "large": null,
       "layout": null,
       "left": true,
       "light": null,
       "right": null,
       "size": null,
       "slot": null,
       "small": null,
       "style_": null,
       "tabbable": null,
       "tag": null,
       "tooltip": null,
       "v_model": "!!disabled!!",
       "v_on": null,
       "v_slots": [],
       "x_large": null,
       "x_small": null
      }
     },
     "88c5e05fcf174152852f681d8dc43ae3": {
      "model_module": "jupyter-vuetify",
      "model_module_version": "^1.8.5",
      "model_name": "BtnModel",
      "state": {
       "_dom_classes": [],
       "_events": [
        "click"
       ],
       "_jupyter_vue": "IPY_MODEL_c46ce2b53f654639b995d3d0a14b60dc",
       "_metadata": null,
       "_model_module": "jupyter-vuetify",
       "_model_module_version": "^1.8.5",
       "_model_name": "BtnModel",
       "_view_count": null,
       "_view_module": "jupyter-vuetify",
       "_view_module_version": "^1.8.5",
       "_view_name": "VuetifyView",
       "absolute": null,
       "active_class": null,
       "append": null,
       "attributes": {},
       "block": null,
       "bottom": null,
       "children": [
        "IPY_MODEL_131fea5efb6f423a856bf948b1a1b0fb",
        "Download: votes_in_time-color.pdf"
       ],
       "class_": "",
       "color": null,
       "dark": null,
       "depressed": null,
       "disabled": false,
       "elevation": null,
       "exact": null,
       "exact_active_class": null,
       "fab": null,
       "fixed": null,
       "height": null,
       "href": null,
       "icon": null,
       "input_value": null,
       "large": null,
       "layout": null,
       "left": null,
       "light": null,
       "link": null,
       "loading": false,
       "max_height": null,
       "max_width": null,
       "min_height": null,
       "min_width": null,
       "nuxt": null,
       "outlined": false,
       "replace": null,
       "retain_focus_on_click": null,
       "right": null,
       "ripple": null,
       "rounded": null,
       "slot": null,
       "small": null,
       "style_": "",
       "tabbable": null,
       "tag": null,
       "target": null,
       "text": false,
       "tile": null,
       "to": null,
       "tooltip": null,
       "top": null,
       "type": null,
       "v_model": "!!disabled!!",
       "v_on": null,
       "v_slots": [],
       "value": null,
       "width": null,
       "x_large": null,
       "x_small": null
      }
     },
     "8de4cfc91194464d9cd0fff7ae16070f": {
      "model_module": "jupyter-vuetify",
      "model_module_version": "^1.8.5",
      "model_name": "IconModel",
      "state": {
       "_dom_classes": [],
       "_events": [],
       "_jupyter_vue": "IPY_MODEL_c46ce2b53f654639b995d3d0a14b60dc",
       "_metadata": null,
       "_model_module": "jupyter-vuetify",
       "_model_module_version": "^1.8.5",
       "_model_name": "IconModel",
       "_view_count": null,
       "_view_module": "jupyter-vuetify",
       "_view_module_version": "^1.8.5",
       "_view_name": "VuetifyView",
       "attributes": {},
       "children": [
        "mdi-cloud-download-outline"
       ],
       "class_": null,
       "color": null,
       "dark": null,
       "dense": null,
       "disabled": null,
       "large": null,
       "layout": null,
       "left": true,
       "light": null,
       "right": null,
       "size": null,
       "slot": null,
       "small": null,
       "style_": null,
       "tabbable": null,
       "tag": null,
       "tooltip": null,
       "v_model": "!!disabled!!",
       "v_on": null,
       "v_slots": [],
       "x_large": null,
       "x_small": null
      }
     },
     "8e265fb1ac5f4116ae2acdd62ee64af7": {
      "model_module": "jupyter-vuetify",
      "model_module_version": "^1.8.5",
      "model_name": "BtnModel",
      "state": {
       "_dom_classes": [],
       "_events": [
        "click"
       ],
       "_jupyter_vue": "IPY_MODEL_c46ce2b53f654639b995d3d0a14b60dc",
       "_metadata": null,
       "_model_module": "jupyter-vuetify",
       "_model_module_version": "^1.8.5",
       "_model_name": "BtnModel",
       "_view_count": null,
       "_view_module": "jupyter-vuetify",
       "_view_module_version": "^1.8.5",
       "_view_name": "VuetifyView",
       "absolute": null,
       "active_class": null,
       "append": null,
       "attributes": {},
       "block": null,
       "bottom": null,
       "children": [
        "IPY_MODEL_8de4cfc91194464d9cd0fff7ae16070f",
        "Download: ecdf-vpp.pdf"
       ],
       "class_": "",
       "color": null,
       "dark": null,
       "depressed": null,
       "disabled": false,
       "elevation": null,
       "exact": null,
       "exact_active_class": null,
       "fab": null,
       "fixed": null,
       "height": null,
       "href": null,
       "icon": null,
       "input_value": null,
       "large": null,
       "layout": null,
       "left": null,
       "light": null,
       "link": null,
       "loading": false,
       "max_height": null,
       "max_width": null,
       "min_height": null,
       "min_width": null,
       "nuxt": null,
       "outlined": false,
       "replace": null,
       "retain_focus_on_click": null,
       "right": null,
       "ripple": null,
       "rounded": null,
       "slot": null,
       "small": null,
       "style_": "",
       "tabbable": null,
       "tag": null,
       "target": null,
       "text": false,
       "tile": null,
       "to": null,
       "tooltip": null,
       "top": null,
       "type": null,
       "v_model": "!!disabled!!",
       "v_on": null,
       "v_slots": [],
       "value": null,
       "width": null,
       "x_large": null,
       "x_small": null
      }
     },
     "8eabccae5c3a48389b4474b8bf72e0c4": {
      "model_module": "@jupyter-widgets/base",
      "model_module_version": "2.0.0",
      "model_name": "LayoutModel",
      "state": {
       "_model_module": "@jupyter-widgets/base",
       "_model_module_version": "2.0.0",
       "_model_name": "LayoutModel",
       "_view_count": null,
       "_view_module": "@jupyter-widgets/base",
       "_view_module_version": "2.0.0",
       "_view_name": "LayoutView",
       "align_content": null,
       "align_items": null,
       "align_self": null,
       "border_bottom": null,
       "border_left": null,
       "border_right": null,
       "border_top": null,
       "bottom": null,
       "display": null,
       "flex": null,
       "flex_flow": null,
       "grid_area": null,
       "grid_auto_columns": null,
       "grid_auto_flow": null,
       "grid_auto_rows": null,
       "grid_column": null,
       "grid_gap": null,
       "grid_row": null,
       "grid_template_areas": null,
       "grid_template_columns": null,
       "grid_template_rows": null,
       "height": null,
       "justify_content": null,
       "justify_items": null,
       "left": null,
       "margin": null,
       "max_height": null,
       "max_width": null,
       "min_height": null,
       "min_width": null,
       "object_fit": null,
       "object_position": null,
       "order": null,
       "overflow": null,
       "padding": null,
       "right": null,
       "top": null,
       "visibility": null,
       "width": null
      }
     },
     "93ad23209cee401ba940f27530dedfd8": {
      "model_module": "@jupyter-widgets/controls",
      "model_module_version": "2.0.0",
      "model_name": "VBoxModel",
      "state": {
       "_dom_classes": [],
       "_model_module": "@jupyter-widgets/controls",
       "_model_module_version": "2.0.0",
       "_model_name": "VBoxModel",
       "_view_count": 0,
       "_view_module": "@jupyter-widgets/controls",
       "_view_module_version": "2.0.0",
       "_view_name": "VBoxView",
       "box_style": "",
       "children": [
        "IPY_MODEL_ec7cfe66398d403997316c31ae8b0a6a"
       ],
       "layout": "IPY_MODEL_1bb128b552be4c338efb29a626bc2ffb",
       "tabbable": null,
       "tooltip": null
      }
     },
     "b30f6703b7934792aef309bf1ade40d9": {
      "model_module": "jupyter-vuetify",
      "model_module_version": "^1.8.5",
      "model_name": "RowModel",
      "state": {
       "_dom_classes": [],
       "_events": [],
       "_jupyter_vue": "IPY_MODEL_c46ce2b53f654639b995d3d0a14b60dc",
       "_metadata": null,
       "_model_module": "jupyter-vuetify",
       "_model_module_version": "^1.8.5",
       "_model_name": "RowModel",
       "_view_count": null,
       "_view_module": "jupyter-vuetify",
       "_view_module_version": "^1.8.5",
       "_view_name": "VuetifyView",
       "align": null,
       "align_content": null,
       "align_content_lg": null,
       "align_content_md": null,
       "align_content_sm": null,
       "align_content_xl": null,
       "align_lg": null,
       "align_md": null,
       "align_sm": null,
       "align_xl": null,
       "attributes": {},
       "children": [
        "IPY_MODEL_f087d728a0164476a63d40117a6adf66"
       ],
       "class_": "solara-content-main",
       "dense": null,
       "justify": null,
       "justify_lg": null,
       "justify_md": null,
       "justify_sm": null,
       "justify_xl": null,
       "layout": null,
       "no_gutters": false,
       "slot": null,
       "style_": null,
       "tabbable": null,
       "tag": null,
       "tooltip": null,
       "v_model": "!!disabled!!",
       "v_on": null,
       "v_slots": []
      }
     },
     "b4b2d4e9245541528558901b19e9479e": {
      "model_module": "jupyter-vuetify",
      "model_module_version": "^1.9.4",
      "model_name": "ThemeColorsModel",
      "state": {
       "_model_module": "jupyter-vuetify",
       "_model_module_version": "^1.9.4",
       "_model_name": "ThemeColorsModel",
       "_theme_name": "light",
       "_view_count": null,
       "_view_module": null,
       "_view_module_version": "^1.9.4",
       "_view_name": null,
       "accent": "#82B1FF",
       "anchor": null,
       "error": "#FF5252",
       "info": "#2196F3",
       "primary": "#1976D2",
       "secondary": "#424242",
       "success": "#4CAF50",
       "warning": "#FB8C00"
      }
     },
     "b637bf58096845cda827a303d4e282a2": {
      "model_module": "jupyter-vuetify",
      "model_module_version": "^1.9.4",
      "model_name": "VuetifyTemplateModel",
      "state": {
       "_component_instances": [],
       "_dom_classes": [],
       "_jupyter_vue": "IPY_MODEL_c46ce2b53f654639b995d3d0a14b60dc",
       "_model_module": "jupyter-vuetify",
       "_model_module_version": "^1.9.4",
       "_model_name": "VuetifyTemplateModel",
       "_view_count": null,
       "_view_module": "jupyter-vuetify",
       "_view_module_version": "^1.9.4",
       "_view_name": "VuetifyView",
       "bytes": null,
       "children": [
        "IPY_MODEL_18fba77747504e1d839be96574c5198d"
       ],
       "components": null,
       "css": null,
       "data": null,
       "events": [],
       "filename": "votes_dow.pdf",
       "layout": "IPY_MODEL_da282ad933ff442b9bb160246ca1a7b5",
       "methods": null,
       "mime_type": "application/octet-stream",
       "request_download": false,
       "tabbable": null,
       "template": "IPY_MODEL_4074a22643e340b98eb7154b49103cd8",
       "tooltip": null
      }
     },
     "ba129105bf3e4a98b67f84f01bf8090e": {
      "model_module": "jupyter-vuetify",
      "model_module_version": "^1.9.4",
      "model_name": "VuetifyTemplateModel",
      "state": {
       "_component_instances": [],
       "_dom_classes": [],
       "_jupyter_vue": "IPY_MODEL_c46ce2b53f654639b995d3d0a14b60dc",
       "_model_module": "jupyter-vuetify",
       "_model_module_version": "^1.9.4",
       "_model_name": "VuetifyTemplateModel",
       "_view_count": null,
       "_view_module": "jupyter-vuetify",
       "_view_module_version": "^1.9.4",
       "_view_name": "VuetifyView",
       "bytes": null,
       "children": [
        "IPY_MODEL_88c5e05fcf174152852f681d8dc43ae3"
       ],
       "components": null,
       "css": null,
       "data": null,
       "events": [],
       "filename": "votes_in_time-color.pdf",
       "layout": "IPY_MODEL_578f89c9586a43179e665c91c672c0ec",
       "methods": null,
       "mime_type": "application/octet-stream",
       "request_download": false,
       "tabbable": null,
       "template": "IPY_MODEL_4074a22643e340b98eb7154b49103cd8",
       "tooltip": null
      }
     },
     "bd004f978c1747c3a66175088015f1a4": {
      "model_module": "jupyter-vuetify",
      "model_module_version": "^1.9.4",
      "model_name": "HtmlModel",
      "state": {
       "_dom_classes": [],
       "_events": [],
       "_jupyter_vue": "IPY_MODEL_c46ce2b53f654639b995d3d0a14b60dc",
       "_model_module": "jupyter-vuetify",
       "_model_module_version": "^1.9.4",
       "_model_name": "HtmlModel",
       "_view_count": null,
       "_view_module": "jupyter-vuetify",
       "_view_module_version": "^1.9.4",
       "_view_name": "VuetifyView",
       "attributes": {},
       "children": [
        "IPY_MODEL_b30f6703b7934792aef309bf1ade40d9"
       ],
       "class_": null,
       "layout": null,
       "slot": null,
       "style_": null,
       "tabbable": null,
       "tag": "div",
       "tooltip": null,
       "v_model": "!!disabled!!",
       "v_on": null,
       "v_slots": []
      }
     },
     "bd0dd8feee28436988282cc163837a28": {
      "model_module": "@jupyter-widgets/base",
      "model_module_version": "2.0.0",
      "model_name": "LayoutModel",
      "state": {
       "_model_module": "@jupyter-widgets/base",
       "_model_module_version": "2.0.0",
       "_model_name": "LayoutModel",
       "_view_count": null,
       "_view_module": "@jupyter-widgets/base",
       "_view_module_version": "2.0.0",
       "_view_name": "LayoutView",
       "align_content": null,
       "align_items": null,
       "align_self": null,
       "border_bottom": null,
       "border_left": null,
       "border_right": null,
       "border_top": null,
       "bottom": null,
       "display": null,
       "flex": null,
       "flex_flow": null,
       "grid_area": null,
       "grid_auto_columns": null,
       "grid_auto_flow": null,
       "grid_auto_rows": null,
       "grid_column": null,
       "grid_gap": null,
       "grid_row": null,
       "grid_template_areas": null,
       "grid_template_columns": null,
       "grid_template_rows": null,
       "height": null,
       "justify_content": null,
       "justify_items": null,
       "left": null,
       "margin": null,
       "max_height": null,
       "max_width": null,
       "min_height": null,
       "min_width": null,
       "object_fit": null,
       "object_position": null,
       "order": null,
       "overflow": null,
       "padding": null,
       "right": null,
       "top": null,
       "visibility": null,
       "width": null
      }
     },
     "c46ce2b53f654639b995d3d0a14b60dc": {
      "model_module": "jupyter-vue",
      "model_module_version": "^1.11.1",
      "model_name": "ForceLoadModel",
      "state": {
       "_dom_classes": [],
       "_model_module": "jupyter-vue",
       "_model_module_version": "^1.11.1",
       "_model_name": "ForceLoadModel",
       "_view_count": null,
       "_view_module": null,
       "_view_module_version": "",
       "_view_name": null,
       "layout": "IPY_MODEL_03808477b11745699b910e545a3bd100",
       "tabbable": null,
       "tooltip": null
      }
     },
     "d4da97d6fb50489caf94e5cf2f32f70c": {
      "model_module": "jupyter-vuetify",
      "model_module_version": "^1.8.5",
      "model_name": "ColModel",
      "state": {
       "_dom_classes": [],
       "_events": [],
       "_jupyter_vue": "IPY_MODEL_c46ce2b53f654639b995d3d0a14b60dc",
       "_metadata": null,
       "_model_module": "jupyter-vuetify",
       "_model_module_version": "^1.8.5",
       "_model_name": "ColModel",
       "_view_count": null,
       "_view_module": "jupyter-vuetify",
       "_view_module_version": "^1.8.5",
       "_view_name": "VuetifyView",
       "align_self": null,
       "attributes": {},
       "children": [
        "IPY_MODEL_ba129105bf3e4a98b67f84f01bf8090e"
       ],
       "class_": null,
       "cols": 12.0,
       "layout": null,
       "lg": null,
       "md": null,
       "offset": null,
       "offset_lg": null,
       "offset_md": null,
       "offset_sm": null,
       "offset_xl": null,
       "order": null,
       "order_lg": null,
       "order_md": null,
       "order_sm": null,
       "order_xl": null,
       "slot": null,
       "sm": null,
       "style_": null,
       "tabbable": null,
       "tag": null,
       "tooltip": null,
       "v_model": "!!disabled!!",
       "v_on": null,
       "v_slots": [],
       "xl": null
      }
     },
     "d5aa1f1b24084dd19b412214802a119e": {
      "model_module": "jupyter-vuetify",
      "model_module_version": "^1.8.5",
      "model_name": "ColModel",
      "state": {
       "_dom_classes": [],
       "_events": [],
       "_jupyter_vue": "IPY_MODEL_c46ce2b53f654639b995d3d0a14b60dc",
       "_metadata": null,
       "_model_module": "jupyter-vuetify",
       "_model_module_version": "^1.8.5",
       "_model_name": "ColModel",
       "_view_count": null,
       "_view_module": "jupyter-vuetify",
       "_view_module_version": "^1.8.5",
       "_view_name": "VuetifyView",
       "align_self": null,
       "attributes": {},
       "children": [
        "IPY_MODEL_87b50913be5a48e38a041478375861c7"
       ],
       "class_": null,
       "cols": 12.0,
       "layout": null,
       "lg": null,
       "md": null,
       "offset": null,
       "offset_lg": null,
       "offset_md": null,
       "offset_sm": null,
       "offset_xl": null,
       "order": null,
       "order_lg": null,
       "order_md": null,
       "order_sm": null,
       "order_xl": null,
       "slot": null,
       "sm": null,
       "style_": null,
       "tabbable": null,
       "tag": null,
       "tooltip": null,
       "v_model": "!!disabled!!",
       "v_on": null,
       "v_slots": [],
       "xl": null
      }
     },
     "d83f81a1be854f3ca69265dafd9cfdfa": {
      "model_module": "jupyter-vuetify",
      "model_module_version": "^1.8.5",
      "model_name": "RowModel",
      "state": {
       "_dom_classes": [],
       "_events": [],
       "_jupyter_vue": "IPY_MODEL_c46ce2b53f654639b995d3d0a14b60dc",
       "_metadata": null,
       "_model_module": "jupyter-vuetify",
       "_model_module_version": "^1.8.5",
       "_model_name": "RowModel",
       "_view_count": null,
       "_view_module": "jupyter-vuetify",
       "_view_module_version": "^1.8.5",
       "_view_name": "VuetifyView",
       "align": null,
       "align_content": null,
       "align_content_lg": null,
       "align_content_md": null,
       "align_content_sm": null,
       "align_content_xl": null,
       "align_lg": null,
       "align_md": null,
       "align_sm": null,
       "align_xl": null,
       "attributes": {},
       "children": [
        "IPY_MODEL_d4da97d6fb50489caf94e5cf2f32f70c"
       ],
       "class_": "solara-content-main",
       "dense": null,
       "justify": null,
       "justify_lg": null,
       "justify_md": null,
       "justify_sm": null,
       "justify_xl": null,
       "layout": null,
       "no_gutters": false,
       "slot": null,
       "style_": null,
       "tabbable": null,
       "tag": null,
       "tooltip": null,
       "v_model": "!!disabled!!",
       "v_on": null,
       "v_slots": []
      }
     },
     "da282ad933ff442b9bb160246ca1a7b5": {
      "model_module": "@jupyter-widgets/base",
      "model_module_version": "2.0.0",
      "model_name": "LayoutModel",
      "state": {
       "_model_module": "@jupyter-widgets/base",
       "_model_module_version": "2.0.0",
       "_model_name": "LayoutModel",
       "_view_count": null,
       "_view_module": "@jupyter-widgets/base",
       "_view_module_version": "2.0.0",
       "_view_name": "LayoutView",
       "align_content": null,
       "align_items": null,
       "align_self": null,
       "border_bottom": null,
       "border_left": null,
       "border_right": null,
       "border_top": null,
       "bottom": null,
       "display": null,
       "flex": null,
       "flex_flow": null,
       "grid_area": null,
       "grid_auto_columns": null,
       "grid_auto_flow": null,
       "grid_auto_rows": null,
       "grid_column": null,
       "grid_gap": null,
       "grid_row": null,
       "grid_template_areas": null,
       "grid_template_columns": null,
       "grid_template_rows": null,
       "height": null,
       "justify_content": null,
       "justify_items": null,
       "left": null,
       "margin": null,
       "max_height": null,
       "max_width": null,
       "min_height": null,
       "min_width": null,
       "object_fit": null,
       "object_position": null,
       "order": null,
       "overflow": null,
       "padding": null,
       "right": null,
       "top": null,
       "visibility": null,
       "width": null
      }
     },
     "db8f39d55829414194d8b346e4156157": {
      "model_module": "@jupyter-widgets/base",
      "model_module_version": "2.0.0",
      "model_name": "LayoutModel",
      "state": {
       "_model_module": "@jupyter-widgets/base",
       "_model_module_version": "2.0.0",
       "_model_name": "LayoutModel",
       "_view_count": null,
       "_view_module": "@jupyter-widgets/base",
       "_view_module_version": "2.0.0",
       "_view_name": "LayoutView",
       "align_content": null,
       "align_items": null,
       "align_self": null,
       "border_bottom": null,
       "border_left": null,
       "border_right": null,
       "border_top": null,
       "bottom": null,
       "display": null,
       "flex": null,
       "flex_flow": null,
       "grid_area": null,
       "grid_auto_columns": null,
       "grid_auto_flow": null,
       "grid_auto_rows": null,
       "grid_column": null,
       "grid_gap": null,
       "grid_row": null,
       "grid_template_areas": null,
       "grid_template_columns": null,
       "grid_template_rows": null,
       "height": null,
       "justify_content": null,
       "justify_items": null,
       "left": null,
       "margin": null,
       "max_height": null,
       "max_width": null,
       "min_height": null,
       "min_width": null,
       "object_fit": null,
       "object_position": null,
       "order": null,
       "overflow": null,
       "padding": null,
       "right": null,
       "top": null,
       "visibility": null,
       "width": null
      }
     },
     "e03b7ff6f4684d6d8ff756eee36e0dd4": {
      "model_module": "jupyter-vuetify",
      "model_module_version": "^1.8.5",
      "model_name": "RowModel",
      "state": {
       "_dom_classes": [],
       "_events": [],
       "_jupyter_vue": "IPY_MODEL_c46ce2b53f654639b995d3d0a14b60dc",
       "_metadata": null,
       "_model_module": "jupyter-vuetify",
       "_model_module_version": "^1.8.5",
       "_model_name": "RowModel",
       "_view_count": null,
       "_view_module": "jupyter-vuetify",
       "_view_module_version": "^1.8.5",
       "_view_name": "VuetifyView",
       "align": null,
       "align_content": null,
       "align_content_lg": null,
       "align_content_md": null,
       "align_content_sm": null,
       "align_content_xl": null,
       "align_lg": null,
       "align_md": null,
       "align_sm": null,
       "align_xl": null,
       "attributes": {},
       "children": [
        "IPY_MODEL_d5aa1f1b24084dd19b412214802a119e"
       ],
       "class_": "solara-content-main",
       "dense": null,
       "justify": null,
       "justify_lg": null,
       "justify_md": null,
       "justify_sm": null,
       "justify_xl": null,
       "layout": null,
       "no_gutters": false,
       "slot": null,
       "style_": null,
       "tabbable": null,
       "tag": null,
       "tooltip": null,
       "v_model": "!!disabled!!",
       "v_on": null,
       "v_slots": []
      }
     },
     "e0f5189aa1df487fb6b057d757d3cd3b": {
      "model_module": "@jupyter-widgets/base",
      "model_module_version": "2.0.0",
      "model_name": "LayoutModel",
      "state": {
       "_model_module": "@jupyter-widgets/base",
       "_model_module_version": "2.0.0",
       "_model_name": "LayoutModel",
       "_view_count": null,
       "_view_module": "@jupyter-widgets/base",
       "_view_module_version": "2.0.0",
       "_view_name": "LayoutView",
       "align_content": null,
       "align_items": null,
       "align_self": null,
       "border_bottom": null,
       "border_left": null,
       "border_right": null,
       "border_top": null,
       "bottom": null,
       "display": null,
       "flex": null,
       "flex_flow": null,
       "grid_area": null,
       "grid_auto_columns": null,
       "grid_auto_flow": null,
       "grid_auto_rows": null,
       "grid_column": null,
       "grid_gap": null,
       "grid_row": null,
       "grid_template_areas": null,
       "grid_template_columns": null,
       "grid_template_rows": null,
       "height": null,
       "justify_content": null,
       "justify_items": null,
       "left": null,
       "margin": null,
       "max_height": null,
       "max_width": null,
       "min_height": null,
       "min_width": null,
       "object_fit": null,
       "object_position": null,
       "order": null,
       "overflow": null,
       "padding": null,
       "right": null,
       "top": null,
       "visibility": null,
       "width": null
      }
     },
     "e49f34fbdd4a4a31a6b4ba7f2f9ad272": {
      "model_module": "@jupyter-widgets/controls",
      "model_module_version": "2.0.0",
      "model_name": "VBoxModel",
      "state": {
       "_dom_classes": [],
       "_model_module": "@jupyter-widgets/controls",
       "_model_module_version": "2.0.0",
       "_model_name": "VBoxModel",
       "_view_count": 0,
       "_view_module": "@jupyter-widgets/controls",
       "_view_module_version": "2.0.0",
       "_view_name": "VBoxView",
       "box_style": "",
       "children": [
        "IPY_MODEL_589ab92f992a4a2d8dba6543e9dc5ee3"
       ],
       "layout": "IPY_MODEL_8eabccae5c3a48389b4474b8bf72e0c4",
       "tabbable": null,
       "tooltip": null
      }
     },
     "e4dc3a809f0e4cee965ee1fc11e4e75c": {
      "model_module": "jupyter-vuetify",
      "model_module_version": "^1.9.4",
      "model_name": "ThemeModel",
      "state": {
       "_model_module": "jupyter-vuetify",
       "_model_module_version": "^1.9.4",
       "_model_name": "ThemeModel",
       "_view_count": null,
       "_view_module": null,
       "_view_module_version": "^1.9.4",
       "_view_name": null,
       "dark": null,
       "dark_effective": null
      }
     },
     "eac7e094d64a4a51b77b27e1e7563f34": {
      "model_module": "@jupyter-widgets/base",
      "model_module_version": "2.0.0",
      "model_name": "LayoutModel",
      "state": {
       "_model_module": "@jupyter-widgets/base",
       "_model_module_version": "2.0.0",
       "_model_name": "LayoutModel",
       "_view_count": null,
       "_view_module": "@jupyter-widgets/base",
       "_view_module_version": "2.0.0",
       "_view_name": "LayoutView",
       "align_content": null,
       "align_items": null,
       "align_self": null,
       "border_bottom": null,
       "border_left": null,
       "border_right": null,
       "border_top": null,
       "bottom": null,
       "display": null,
       "flex": null,
       "flex_flow": null,
       "grid_area": null,
       "grid_auto_columns": null,
       "grid_auto_flow": null,
       "grid_auto_rows": null,
       "grid_column": null,
       "grid_gap": null,
       "grid_row": null,
       "grid_template_areas": null,
       "grid_template_columns": null,
       "grid_template_rows": null,
       "height": null,
       "justify_content": null,
       "justify_items": null,
       "left": null,
       "margin": null,
       "max_height": null,
       "max_width": null,
       "min_height": null,
       "min_width": null,
       "object_fit": null,
       "object_position": null,
       "order": null,
       "overflow": null,
       "padding": null,
       "right": null,
       "top": null,
       "visibility": null,
       "width": null
      }
     },
     "ec7cfe66398d403997316c31ae8b0a6a": {
      "model_module": "jupyter-vuetify",
      "model_module_version": "^1.9.4",
      "model_name": "HtmlModel",
      "state": {
       "_dom_classes": [],
       "_events": [],
       "_jupyter_vue": "IPY_MODEL_c46ce2b53f654639b995d3d0a14b60dc",
       "_model_module": "jupyter-vuetify",
       "_model_module_version": "^1.9.4",
       "_model_name": "HtmlModel",
       "_view_count": null,
       "_view_module": "jupyter-vuetify",
       "_view_module_version": "^1.9.4",
       "_view_name": "VuetifyView",
       "attributes": {},
       "children": [
        "IPY_MODEL_38c095b8d1054cc584dad8592e0206ab"
       ],
       "class_": null,
       "layout": null,
       "slot": null,
       "style_": null,
       "tabbable": null,
       "tag": "div",
       "tooltip": null,
       "v_model": "!!disabled!!",
       "v_on": null,
       "v_slots": []
      }
     },
     "f087d728a0164476a63d40117a6adf66": {
      "model_module": "jupyter-vuetify",
      "model_module_version": "^1.8.5",
      "model_name": "ColModel",
      "state": {
       "_dom_classes": [],
       "_events": [],
       "_jupyter_vue": "IPY_MODEL_c46ce2b53f654639b995d3d0a14b60dc",
       "_metadata": null,
       "_model_module": "jupyter-vuetify",
       "_model_module_version": "^1.8.5",
       "_model_name": "ColModel",
       "_view_count": null,
       "_view_module": "jupyter-vuetify",
       "_view_module_version": "^1.8.5",
       "_view_name": "VuetifyView",
       "align_self": null,
       "attributes": {},
       "children": [
        "IPY_MODEL_f84ce614401e424ea407658c1c5fd415"
       ],
       "class_": null,
       "cols": 12.0,
       "layout": null,
       "lg": null,
       "md": null,
       "offset": null,
       "offset_lg": null,
       "offset_md": null,
       "offset_sm": null,
       "offset_xl": null,
       "order": null,
       "order_lg": null,
       "order_md": null,
       "order_sm": null,
       "order_xl": null,
       "slot": null,
       "sm": null,
       "style_": null,
       "tabbable": null,
       "tag": null,
       "tooltip": null,
       "v_model": "!!disabled!!",
       "v_on": null,
       "v_slots": [],
       "xl": null
      }
     },
     "f44596f5b9a34c3d896e9d99c17d32fd": {
      "model_module": "jupyter-vuetify",
      "model_module_version": "^1.8.5",
      "model_name": "IconModel",
      "state": {
       "_dom_classes": [],
       "_events": [],
       "_jupyter_vue": "IPY_MODEL_c46ce2b53f654639b995d3d0a14b60dc",
       "_metadata": null,
       "_model_module": "jupyter-vuetify",
       "_model_module_version": "^1.8.5",
       "_model_name": "IconModel",
       "_view_count": null,
       "_view_module": "jupyter-vuetify",
       "_view_module_version": "^1.8.5",
       "_view_name": "VuetifyView",
       "attributes": {},
       "children": [
        "mdi-cloud-download-outline"
       ],
       "class_": null,
       "color": null,
       "dark": null,
       "dense": null,
       "disabled": null,
       "large": null,
       "layout": null,
       "left": true,
       "light": null,
       "right": null,
       "size": null,
       "slot": null,
       "small": null,
       "style_": null,
       "tabbable": null,
       "tag": null,
       "tooltip": null,
       "v_model": "!!disabled!!",
       "v_on": null,
       "v_slots": [],
       "x_large": null,
       "x_small": null
      }
     },
     "f707bf2ca8d44858b02b4f5852a560e5": {
      "model_module": "jupyter-vuetify",
      "model_module_version": "^1.9.4",
      "model_name": "HtmlModel",
      "state": {
       "_dom_classes": [],
       "_events": [],
       "_jupyter_vue": "IPY_MODEL_c46ce2b53f654639b995d3d0a14b60dc",
       "_model_module": "jupyter-vuetify",
       "_model_module_version": "^1.9.4",
       "_model_name": "HtmlModel",
       "_view_count": null,
       "_view_module": "jupyter-vuetify",
       "_view_module_version": "^1.9.4",
       "_view_name": "VuetifyView",
       "attributes": {},
       "children": [
        "IPY_MODEL_e03b7ff6f4684d6d8ff756eee36e0dd4"
       ],
       "class_": null,
       "layout": null,
       "slot": null,
       "style_": null,
       "tabbable": null,
       "tag": "div",
       "tooltip": null,
       "v_model": "!!disabled!!",
       "v_on": null,
       "v_slots": []
      }
     },
     "f84ce614401e424ea407658c1c5fd415": {
      "model_module": "jupyter-vuetify",
      "model_module_version": "^1.9.4",
      "model_name": "VuetifyTemplateModel",
      "state": {
       "_component_instances": [],
       "_dom_classes": [],
       "_jupyter_vue": "IPY_MODEL_c46ce2b53f654639b995d3d0a14b60dc",
       "_model_module": "jupyter-vuetify",
       "_model_module_version": "^1.9.4",
       "_model_name": "VuetifyTemplateModel",
       "_view_count": null,
       "_view_module": "jupyter-vuetify",
       "_view_module_version": "^1.9.4",
       "_view_name": "VuetifyView",
       "bytes": null,
       "children": [
        "IPY_MODEL_44ef0256c7854940996f3333d5807b92"
       ],
       "components": null,
       "css": null,
       "data": null,
       "events": [],
       "filename": "ecdf-vpv.pdf",
       "layout": "IPY_MODEL_e0f5189aa1df487fb6b057d757d3cd3b",
       "methods": null,
       "mime_type": "application/octet-stream",
       "request_download": false,
       "tabbable": null,
       "template": "IPY_MODEL_4074a22643e340b98eb7154b49103cd8",
       "tooltip": null
      }
     },
     "fb0990abd32147f7936ce5ab25a73af0": {
      "model_module": "jupyter-vuetify",
      "model_module_version": "^1.8.5",
      "model_name": "ColModel",
      "state": {
       "_dom_classes": [],
       "_events": [],
       "_jupyter_vue": "IPY_MODEL_c46ce2b53f654639b995d3d0a14b60dc",
       "_metadata": null,
       "_model_module": "jupyter-vuetify",
       "_model_module_version": "^1.8.5",
       "_model_name": "ColModel",
       "_view_count": null,
       "_view_module": "jupyter-vuetify",
       "_view_module_version": "^1.8.5",
       "_view_name": "VuetifyView",
       "align_self": null,
       "attributes": {},
       "children": [
        "IPY_MODEL_b637bf58096845cda827a303d4e282a2"
       ],
       "class_": null,
       "cols": 12.0,
       "layout": null,
       "lg": null,
       "md": null,
       "offset": null,
       "offset_lg": null,
       "offset_md": null,
       "offset_sm": null,
       "offset_xl": null,
       "order": null,
       "order_lg": null,
       "order_md": null,
       "order_sm": null,
       "order_xl": null,
       "slot": null,
       "sm": null,
       "style_": null,
       "tabbable": null,
       "tag": null,
       "tooltip": null,
       "v_model": "!!disabled!!",
       "v_on": null,
       "v_slots": [],
       "xl": null
      }
     }
    },
    "version_major": 2,
    "version_minor": 0
   }
  }
 },
 "nbformat": 4,
 "nbformat_minor": 5
}