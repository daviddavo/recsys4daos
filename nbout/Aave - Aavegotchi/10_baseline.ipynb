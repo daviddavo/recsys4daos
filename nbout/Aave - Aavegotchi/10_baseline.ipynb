{
 "cells": [
  {
   "cell_type": "code",
   "execution_count": 1,
   "id": "a313a4ae",
   "metadata": {
    "execution": {
     "iopub.execute_input": "2024-09-05T09:48:30.118545Z",
     "iopub.status.busy": "2024-09-05T09:48:30.118454Z",
     "iopub.status.idle": "2024-09-05T09:48:32.789604Z",
     "shell.execute_reply": "2024-09-05T09:48:32.789146Z"
    },
    "papermill": {
     "duration": 2.678578,
     "end_time": "2024-09-05T09:48:32.790360",
     "exception": false,
     "start_time": "2024-09-05T09:48:30.111782",
     "status": "completed"
    },
    "tags": []
   },
   "outputs": [
    {
     "name": "stderr",
     "output_type": "stream",
     "text": [
      "/tmp/ipykernel_3824655/2526015065.py:7: TqdmExperimentalWarning: Using `tqdm.autonotebook.tqdm` in notebook mode. Use `tqdm.tqdm` instead to force console mode (e.g. in jupyter console)\n",
      "  from tqdm.autonotebook import tqdm\n"
     ]
    },
    {
     "name": "stdout",
     "output_type": "stream",
     "text": [
      "Ignoring warnings\n"
     ]
    }
   ],
   "source": [
    "from typing import List\n",
    "import sys\n",
    "from collections import defaultdict\n",
    "\n",
    "import pandas as pd\n",
    "import numpy as np\n",
    "from tqdm.autonotebook import tqdm\n",
    "\n",
    "from recsys4daos.models import OpenPop\n",
    "from recsys4daos.datasets import to_microsoft\n",
    "from recsys4daos.model_selection import cvtt_open\n",
    "from recsys4daos.evaluation import calculate_all_metrics\n",
    "\n",
    "import paths\n",
    "\n",
    "import recommenders\n",
    "if recommenders.__version__ == '1.2.0':\n",
    "    print(\"Ignoring warnings\")\n",
    "    import warnings\n",
    "    warnings.simplefilter(action='ignore', category=FutureWarning)"
   ]
  },
  {
   "cell_type": "code",
   "execution_count": 2,
   "id": "5c74964a",
   "metadata": {
    "editable": true,
    "execution": {
     "iopub.execute_input": "2024-09-05T09:48:32.795383Z",
     "iopub.status.busy": "2024-09-05T09:48:32.795144Z",
     "iopub.status.idle": "2024-09-05T09:48:32.797115Z",
     "shell.execute_reply": "2024-09-05T09:48:32.796901Z"
    },
    "papermill": {
     "duration": 0.005002,
     "end_time": "2024-09-05T09:48:32.797690",
     "exception": false,
     "start_time": "2024-09-05T09:48:32.792688",
     "status": "completed"
    },
    "slideshow": {
     "slide_type": ""
    },
    "tags": [
     "parameters"
    ]
   },
   "outputs": [],
   "source": [
    "SPLITS_FREQ = \"W-THU\"\n",
    "SPLITS_NORMALIZE = True\n",
    "ORG_NAME = 'Decentraland'\n",
    "LAST_FOLD_DATE_STR: str = None # Won't use it, we will just calculate for every fold\n",
    "\n",
    "# In this notebook this is just used for plotting and description, not \"training\"\n",
    "# every fold is saved into the results table\n",
    "LAST_FOLDS = 10\n",
    "\n",
    "K_RECOMMENDATIONS: List[int] = [1,3,5,10,15,100]"
   ]
  },
  {
   "cell_type": "code",
   "execution_count": 3,
   "id": "2eb8e44e",
   "metadata": {
    "execution": {
     "iopub.execute_input": "2024-09-05T09:48:32.801435Z",
     "iopub.status.busy": "2024-09-05T09:48:32.801324Z",
     "iopub.status.idle": "2024-09-05T09:48:32.802996Z",
     "shell.execute_reply": "2024-09-05T09:48:32.802809Z"
    },
    "papermill": {
     "duration": 0.004162,
     "end_time": "2024-09-05T09:48:32.803490",
     "exception": false,
     "start_time": "2024-09-05T09:48:32.799328",
     "status": "completed"
    },
    "tags": [
     "injected-parameters"
    ]
   },
   "outputs": [],
   "source": [
    "# Parameters\n",
    "EXECUTION_ID = \"2024-09-04T10:00\"\n",
    "WINDOW_SIZES = [\"1d\", \"7d\", \"14d\"]\n",
    "MODEL_NAMES = [\"all-MiniLM-L12-v2\"]\n",
    "ORG_NAME = \"Aave - Aavegotchi\"\n",
    "SPLITS_FREQ = \"5d\"\n",
    "LAST_FOLDS = 10\n",
    "SPLITS_NORMALIZE = True\n",
    "LAST_FOLD_DATE_STR = \"2023-05-01\"\n"
   ]
  },
  {
   "cell_type": "markdown",
   "id": "0864fc15",
   "metadata": {
    "papermill": {
     "duration": 0.001587,
     "end_time": "2024-09-05T09:48:32.806701",
     "exception": false,
     "start_time": "2024-09-05T09:48:32.805114",
     "status": "completed"
    },
    "tags": []
   },
   "source": [
    "## Obtain dataset"
   ]
  },
  {
   "cell_type": "code",
   "execution_count": 4,
   "id": "da5d4ee8",
   "metadata": {
    "execution": {
     "iopub.execute_input": "2024-09-05T09:48:32.810741Z",
     "iopub.status.busy": "2024-09-05T09:48:32.810536Z",
     "iopub.status.idle": "2024-09-05T09:48:32.937571Z",
     "shell.execute_reply": "2024-09-05T09:48:32.934986Z"
    },
    "papermill": {
     "duration": 0.133106,
     "end_time": "2024-09-05T09:48:32.941498",
     "exception": false,
     "start_time": "2024-09-05T09:48:32.808392",
     "status": "completed"
    },
    "tags": []
   },
   "outputs": [
    {
     "name": "stdout",
     "output_type": "stream",
     "text": [
      "/home/daviddavo/recsys4daos/notebooks\r\n"
     ]
    }
   ],
   "source": [
    "!pwd"
   ]
  },
  {
   "cell_type": "code",
   "execution_count": 5,
   "id": "676d5187",
   "metadata": {
    "execution": {
     "iopub.execute_input": "2024-09-05T09:48:32.951377Z",
     "iopub.status.busy": "2024-09-05T09:48:32.951053Z",
     "iopub.status.idle": "2024-09-05T09:48:33.093168Z",
     "shell.execute_reply": "2024-09-05T09:48:33.090680Z"
    },
    "papermill": {
     "duration": 0.148619,
     "end_time": "2024-09-05T09:48:33.097143",
     "exception": false,
     "start_time": "2024-09-05T09:48:32.948524",
     "status": "completed"
    },
    "tags": []
   },
   "outputs": [
    {
     "name": "stdout",
     "output_type": "stream",
     "text": [
      "md5sum: '../data/decentraland/*': No such file or directory\r\n"
     ]
    }
   ],
   "source": [
    "!md5sum ../data/decentraland/*"
   ]
  },
  {
   "cell_type": "code",
   "execution_count": 6,
   "id": "1e13f087",
   "metadata": {
    "execution": {
     "iopub.execute_input": "2024-09-05T09:48:33.106452Z",
     "iopub.status.busy": "2024-09-05T09:48:33.106097Z",
     "iopub.status.idle": "2024-09-05T09:48:33.924589Z",
     "shell.execute_reply": "2024-09-05T09:48:33.924227Z"
    },
    "papermill": {
     "duration": 0.821987,
     "end_time": "2024-09-05T09:48:33.925346",
     "exception": false,
     "start_time": "2024-09-05T09:48:33.103359",
     "status": "completed"
    },
    "tags": []
   },
   "outputs": [
    {
     "name": "stdout",
     "output_type": "stream",
     "text": [
      "<class 'pandas.core.frame.DataFrame'>\n",
      "RangeIndex: 1081 entries, 0 to 1080\n",
      "Data columns (total 6 columns):\n",
      " #   Column             Non-Null Count  Dtype         \n",
      "---  ------             --------------  -----         \n",
      " 0   id                 1081 non-null   object        \n",
      " 1   author             1081 non-null   object        \n",
      " 2   date               1081 non-null   datetime64[us]\n",
      " 3   start              1081 non-null   datetime64[us]\n",
      " 4   end                1081 non-null   datetime64[us]\n",
      " 5   platform_proposal  1081 non-null   object        \n",
      "dtypes: datetime64[us](3), object(3)\n",
      "memory usage: 50.8+ KB\n",
      "None\n",
      "<class 'pandas.core.frame.DataFrame'>\n",
      "RangeIndex: 2328356 entries, 0 to 2328355\n",
      "Data columns (total 4 columns):\n",
      " #   Column    Dtype         \n",
      "---  ------    -----         \n",
      " 0   id        object        \n",
      " 1   proposal  object        \n",
      " 2   voter     object        \n",
      " 3   date      datetime64[us]\n",
      "dtypes: datetime64[us](1), object(3)\n",
      "memory usage: 71.1+ MB\n",
      "None\n",
      "<class 'pandas.core.frame.DataFrame'>\n",
      "RangeIndex: 2328356 entries, 0 to 2328355\n",
      "Data columns (total 4 columns):\n",
      " #   Column     Dtype         \n",
      "---  ------     -----         \n",
      " 0   userID     object        \n",
      " 1   itemID     object        \n",
      " 2   timestamp  datetime64[us]\n",
      " 3   rating     int64         \n",
      "dtypes: datetime64[us](1), int64(1), object(2)\n",
      "memory usage: 71.1+ MB\n",
      "None\n"
     ]
    }
   ],
   "source": [
    "dfp = paths.load_proposals(ORG_NAME)\n",
    "dfv = paths.load_votes(ORG_NAME)\n",
    "\n",
    "df = to_microsoft(dfv)\n",
    "\n",
    "print(dfp.info())\n",
    "print(dfv.info())\n",
    "print(df.info())"
   ]
  },
  {
   "cell_type": "markdown",
   "id": "39cddfb7",
   "metadata": {
    "papermill": {
     "duration": 0.001997,
     "end_time": "2024-09-05T09:48:33.929694",
     "exception": false,
     "start_time": "2024-09-05T09:48:33.927697",
     "status": "completed"
    },
    "tags": []
   },
   "source": [
    "## Showing some info of the folds"
   ]
  },
  {
   "cell_type": "code",
   "execution_count": 7,
   "id": "70a0a62d",
   "metadata": {
    "execution": {
     "iopub.execute_input": "2024-09-05T09:48:33.933839Z",
     "iopub.status.busy": "2024-09-05T09:48:33.933723Z",
     "iopub.status.idle": "2024-09-05T09:49:55.654407Z",
     "shell.execute_reply": "2024-09-05T09:49:55.654191Z"
    },
    "papermill": {
     "duration": 81.725474,
     "end_time": "2024-09-05T09:49:55.656964",
     "exception": false,
     "start_time": "2024-09-05T09:48:33.931490",
     "status": "completed"
    },
    "tags": []
   },
   "outputs": [
    {
     "name": "stdout",
     "output_type": "stream",
     "text": [
      "Saved dataframe into /home/daviddavo/recsys4daos/data/output/Aave - Aavegotchi/baseline/folds-info_5d_normalize.parquet\n",
      "fold\n",
      "2023-05-31    2064666\n",
      "2023-06-05    2073321\n",
      "2023-06-10    2082848\n",
      "2023-06-15    2089911\n",
      "2023-06-20    2101656\n",
      "2023-06-25    2111105\n",
      "2023-06-30    2119054\n",
      "2023-07-05    2131474\n",
      "2023-07-10    2228463\n",
      "2023-07-15    2311301\n",
      "Name: votes in train, dtype: int64\n"
     ]
    },
    {
     "data": {
      "text/html": [
       "<style type=\"text/css\">\n",
       "</style>\n",
       "<table id=\"T_72809\">\n",
       "  <thead>\n",
       "    <tr>\n",
       "      <th class=\"blank level0\" >&nbsp;</th>\n",
       "      <th id=\"T_72809_level0_col0\" class=\"col_heading level0 col0\" >open proposals</th>\n",
       "      <th id=\"T_72809_level0_col1\" class=\"col_heading level0 col1\" >votes in open proposals (train)</th>\n",
       "      <th id=\"T_72809_level0_col2\" class=\"col_heading level0 col2\" >users in open proposals (train)</th>\n",
       "      <th id=\"T_72809_level0_col3\" class=\"col_heading level0 col3\" >vpp in open proposals (train)</th>\n",
       "      <th id=\"T_72809_level0_col4\" class=\"col_heading level0 col4\" >vpu in open proposals (train)</th>\n",
       "      <th id=\"T_72809_level0_col5\" class=\"col_heading level0 col5\" >votes in test</th>\n",
       "      <th id=\"T_72809_level0_col6\" class=\"col_heading level0 col6\" >users in test</th>\n",
       "      <th id=\"T_72809_level0_col7\" class=\"col_heading level0 col7\" >vpp test</th>\n",
       "      <th id=\"T_72809_level0_col8\" class=\"col_heading level0 col8\" >vpu test</th>\n",
       "    </tr>\n",
       "    <tr>\n",
       "      <th class=\"index_name level0\" >fold</th>\n",
       "      <th class=\"blank col0\" >&nbsp;</th>\n",
       "      <th class=\"blank col1\" >&nbsp;</th>\n",
       "      <th class=\"blank col2\" >&nbsp;</th>\n",
       "      <th class=\"blank col3\" >&nbsp;</th>\n",
       "      <th class=\"blank col4\" >&nbsp;</th>\n",
       "      <th class=\"blank col5\" >&nbsp;</th>\n",
       "      <th class=\"blank col6\" >&nbsp;</th>\n",
       "      <th class=\"blank col7\" >&nbsp;</th>\n",
       "      <th class=\"blank col8\" >&nbsp;</th>\n",
       "    </tr>\n",
       "  </thead>\n",
       "  <tbody>\n",
       "    <tr>\n",
       "      <th id=\"T_72809_level0_row0\" class=\"row_heading level0 row0\" >2023-W22</th>\n",
       "      <td id=\"T_72809_row0_col0\" class=\"data row0 col0\" >6</td>\n",
       "      <td id=\"T_72809_row0_col1\" class=\"data row0 col1\" >5301</td>\n",
       "      <td id=\"T_72809_row0_col2\" class=\"data row0 col2\" >1403</td>\n",
       "      <td id=\"T_72809_row0_col3\" class=\"data row0 col3\" >883.50</td>\n",
       "      <td id=\"T_72809_row0_col4\" class=\"data row0 col4\" >3.78</td>\n",
       "      <td id=\"T_72809_row0_col5\" class=\"data row0 col5\" >5237</td>\n",
       "      <td id=\"T_72809_row0_col6\" class=\"data row0 col6\" >2008</td>\n",
       "      <td id=\"T_72809_row0_col7\" class=\"data row0 col7\" >872.83</td>\n",
       "      <td id=\"T_72809_row0_col8\" class=\"data row0 col8\" >2.61</td>\n",
       "    </tr>\n",
       "    <tr>\n",
       "      <th id=\"T_72809_level0_row1\" class=\"row_heading level0 row1\" >2023-W23</th>\n",
       "      <td id=\"T_72809_row1_col0\" class=\"data row1 col0\" >2</td>\n",
       "      <td id=\"T_72809_row1_col1\" class=\"data row1 col1\" >2256</td>\n",
       "      <td id=\"T_72809_row1_col2\" class=\"data row1 col2\" >2142</td>\n",
       "      <td id=\"T_72809_row1_col3\" class=\"data row1 col3\" >1128.00</td>\n",
       "      <td id=\"T_72809_row1_col4\" class=\"data row1 col4\" >1.05</td>\n",
       "      <td id=\"T_72809_row1_col5\" class=\"data row1 col5\" >445</td>\n",
       "      <td id=\"T_72809_row1_col6\" class=\"data row1 col6\" >442</td>\n",
       "      <td id=\"T_72809_row1_col7\" class=\"data row1 col7\" >222.50</td>\n",
       "      <td id=\"T_72809_row1_col8\" class=\"data row1 col8\" >1.01</td>\n",
       "    </tr>\n",
       "    <tr>\n",
       "      <th id=\"T_72809_level0_row2\" class=\"row_heading level0 row2\" >2023-W23</th>\n",
       "      <td id=\"T_72809_row2_col0\" class=\"data row2 col0\" >5</td>\n",
       "      <td id=\"T_72809_row2_col1\" class=\"data row2 col1\" >5297</td>\n",
       "      <td id=\"T_72809_row2_col2\" class=\"data row2 col2\" >3136</td>\n",
       "      <td id=\"T_72809_row2_col3\" class=\"data row2 col3\" >1059.40</td>\n",
       "      <td id=\"T_72809_row2_col4\" class=\"data row2 col4\" >1.69</td>\n",
       "      <td id=\"T_72809_row2_col5\" class=\"data row2 col5\" >2724</td>\n",
       "      <td id=\"T_72809_row2_col6\" class=\"data row2 col6\" >1834</td>\n",
       "      <td id=\"T_72809_row2_col7\" class=\"data row2 col7\" >544.80</td>\n",
       "      <td id=\"T_72809_row2_col8\" class=\"data row2 col8\" >1.49</td>\n",
       "    </tr>\n",
       "    <tr>\n",
       "      <th id=\"T_72809_level0_row3\" class=\"row_heading level0 row3\" >2023-W24</th>\n",
       "      <td id=\"T_72809_row3_col0\" class=\"data row3 col0\" >8</td>\n",
       "      <td id=\"T_72809_row3_col1\" class=\"data row3 col1\" >5485</td>\n",
       "      <td id=\"T_72809_row3_col2\" class=\"data row3 col2\" >2673</td>\n",
       "      <td id=\"T_72809_row3_col3\" class=\"data row3 col3\" >685.62</td>\n",
       "      <td id=\"T_72809_row3_col4\" class=\"data row3 col4\" >2.05</td>\n",
       "      <td id=\"T_72809_row3_col5\" class=\"data row3 col5\" >10058</td>\n",
       "      <td id=\"T_72809_row3_col6\" class=\"data row3 col6\" >3038</td>\n",
       "      <td id=\"T_72809_row3_col7\" class=\"data row3 col7\" >1257.25</td>\n",
       "      <td id=\"T_72809_row3_col8\" class=\"data row3 col8\" >3.31</td>\n",
       "    </tr>\n",
       "    <tr>\n",
       "      <th id=\"T_72809_level0_row4\" class=\"row_heading level0 row4\" >2023-W25</th>\n",
       "      <td id=\"T_72809_row4_col0\" class=\"data row4 col0\" >4</td>\n",
       "      <td id=\"T_72809_row4_col1\" class=\"data row4 col1\" >1275</td>\n",
       "      <td id=\"T_72809_row4_col2\" class=\"data row4 col2\" >1030</td>\n",
       "      <td id=\"T_72809_row4_col3\" class=\"data row4 col3\" >318.75</td>\n",
       "      <td id=\"T_72809_row4_col4\" class=\"data row4 col4\" >1.24</td>\n",
       "      <td id=\"T_72809_row4_col5\" class=\"data row4 col5\" >5628</td>\n",
       "      <td id=\"T_72809_row4_col6\" class=\"data row4 col6\" >3354</td>\n",
       "      <td id=\"T_72809_row4_col7\" class=\"data row4 col7\" >1407.00</td>\n",
       "      <td id=\"T_72809_row4_col8\" class=\"data row4 col8\" >1.68</td>\n",
       "    </tr>\n",
       "    <tr>\n",
       "      <th id=\"T_72809_level0_row5\" class=\"row_heading level0 row5\" >2023-W25</th>\n",
       "      <td id=\"T_72809_row5_col0\" class=\"data row5 col0\" >3</td>\n",
       "      <td id=\"T_72809_row5_col1\" class=\"data row5 col1\" >3171</td>\n",
       "      <td id=\"T_72809_row5_col2\" class=\"data row5 col2\" >2729</td>\n",
       "      <td id=\"T_72809_row5_col3\" class=\"data row5 col3\" >1057.00</td>\n",
       "      <td id=\"T_72809_row5_col4\" class=\"data row5 col4\" >1.16</td>\n",
       "      <td id=\"T_72809_row5_col5\" class=\"data row5 col5\" >1853</td>\n",
       "      <td id=\"T_72809_row5_col6\" class=\"data row5 col6\" >1529</td>\n",
       "      <td id=\"T_72809_row5_col7\" class=\"data row5 col7\" >617.67</td>\n",
       "      <td id=\"T_72809_row5_col8\" class=\"data row5 col8\" >1.21</td>\n",
       "    </tr>\n",
       "    <tr>\n",
       "      <th id=\"T_72809_level0_row6\" class=\"row_heading level0 row6\" >2023-W26</th>\n",
       "      <td id=\"T_72809_row6_col0\" class=\"data row6 col0\" >11</td>\n",
       "      <td id=\"T_72809_row6_col1\" class=\"data row6 col1\" >7554</td>\n",
       "      <td id=\"T_72809_row6_col2\" class=\"data row6 col2\" >2789</td>\n",
       "      <td id=\"T_72809_row6_col3\" class=\"data row6 col3\" >686.73</td>\n",
       "      <td id=\"T_72809_row6_col4\" class=\"data row6 col4\" >2.71</td>\n",
       "      <td id=\"T_72809_row6_col5\" class=\"data row6 col5\" >8509</td>\n",
       "      <td id=\"T_72809_row6_col6\" class=\"data row6 col6\" >2177</td>\n",
       "      <td id=\"T_72809_row6_col7\" class=\"data row6 col7\" >773.55</td>\n",
       "      <td id=\"T_72809_row6_col8\" class=\"data row6 col8\" >3.91</td>\n",
       "    </tr>\n",
       "    <tr>\n",
       "      <th id=\"T_72809_level0_row7\" class=\"row_heading level0 row7\" >2023-W27</th>\n",
       "      <td id=\"T_72809_row7_col0\" class=\"data row7 col0\" >4</td>\n",
       "      <td id=\"T_72809_row7_col1\" class=\"data row7 col1\" >3537</td>\n",
       "      <td id=\"T_72809_row7_col2\" class=\"data row7 col2\" >2424</td>\n",
       "      <td id=\"T_72809_row7_col3\" class=\"data row7 col3\" >884.25</td>\n",
       "      <td id=\"T_72809_row7_col4\" class=\"data row7 col4\" >1.46</td>\n",
       "      <td id=\"T_72809_row7_col5\" class=\"data row7 col5\" >26364</td>\n",
       "      <td id=\"T_72809_row7_col6\" class=\"data row7 col6\" >14173</td>\n",
       "      <td id=\"T_72809_row7_col7\" class=\"data row7 col7\" >6591.00</td>\n",
       "      <td id=\"T_72809_row7_col8\" class=\"data row7 col8\" >1.86</td>\n",
       "    </tr>\n",
       "    <tr>\n",
       "      <th id=\"T_72809_level0_row8\" class=\"row_heading level0 row8\" >2023-W28</th>\n",
       "      <td id=\"T_72809_row8_col0\" class=\"data row8 col0\" >0</td>\n",
       "      <td id=\"T_72809_row8_col1\" class=\"data row8 col1\" >0</td>\n",
       "      <td id=\"T_72809_row8_col2\" class=\"data row8 col2\" >0</td>\n",
       "      <td id=\"T_72809_row8_col3\" class=\"data row8 col3\" >nan</td>\n",
       "      <td id=\"T_72809_row8_col4\" class=\"data row8 col4\" >nan</td>\n",
       "      <td id=\"T_72809_row8_col5\" class=\"data row8 col5\" >0</td>\n",
       "      <td id=\"T_72809_row8_col6\" class=\"data row8 col6\" >0</td>\n",
       "      <td id=\"T_72809_row8_col7\" class=\"data row8 col7\" >nan</td>\n",
       "      <td id=\"T_72809_row8_col8\" class=\"data row8 col8\" >nan</td>\n",
       "    </tr>\n",
       "    <tr>\n",
       "      <th id=\"T_72809_level0_row9\" class=\"row_heading level0 row9\" >2023-W28</th>\n",
       "      <td id=\"T_72809_row9_col0\" class=\"data row9 col0\" >5</td>\n",
       "      <td id=\"T_72809_row9_col1\" class=\"data row9 col1\" >40641</td>\n",
       "      <td id=\"T_72809_row9_col2\" class=\"data row9 col2\" >14880</td>\n",
       "      <td id=\"T_72809_row9_col3\" class=\"data row9 col3\" >8128.20</td>\n",
       "      <td id=\"T_72809_row9_col4\" class=\"data row9 col4\" >2.73</td>\n",
       "      <td id=\"T_72809_row9_col5\" class=\"data row9 col5\" >4117</td>\n",
       "      <td id=\"T_72809_row9_col6\" class=\"data row9 col6\" >1912</td>\n",
       "      <td id=\"T_72809_row9_col7\" class=\"data row9 col7\" >823.40</td>\n",
       "      <td id=\"T_72809_row9_col8\" class=\"data row9 col8\" >2.15</td>\n",
       "    </tr>\n",
       "  </tbody>\n",
       "</table>\n"
      ],
      "text/plain": [
       "<pandas.io.formats.style.Styler at 0x7f3fee430dd0>"
      ]
     },
     "execution_count": 7,
     "metadata": {},
     "output_type": "execute_result"
    }
   ],
   "source": [
    "sdd = defaultdict(list)\n",
    "\n",
    "for dftrain, dftest, t, openproposals in cvtt_open(to_microsoft(dfv), SPLITS_FREQ, dfp.reset_index(), remove_not_in_train_col='userID', normalize=SPLITS_NORMALIZE):\n",
    "    dftrain_filter = dftrain[dftrain['itemID'].isin(openproposals)]\n",
    "    \n",
    "    sdd['fold'].append(t)\n",
    "    sdd['open proposals'].append(len(openproposals))\n",
    "    \n",
    "    sdd['proposals in train'].append(dftrain['itemID'].nunique())\n",
    "    sdd['votes in train'].append(len(dftrain))\n",
    "    sdd['votes in open proposals (train)'].append(len(dftrain_filter))\n",
    "    sdd['users in open proposals (train)'].append(dftrain_filter['userID'].nunique())\n",
    "    sdd['votes in test'].append(len(dftest))\n",
    "    sdd['users in train'].append(dftrain['userID'].nunique())\n",
    "    sdd['users in test'].append(dftest['userID'].nunique())\n",
    "\n",
    "sdf_all = pd.DataFrame(sdd).set_index('fold')\n",
    "sdf_all['vpp in open proposals (train)'] = sdf_all['votes in open proposals (train)'] / sdf_all['open proposals']\n",
    "sdf_all['vpu in open proposals (train)'] = sdf_all['votes in open proposals (train)'] / sdf_all['users in open proposals (train)']\n",
    "sdf_all['vpp test'] = sdf_all['votes in test'] / sdf_all['open proposals']\n",
    "sdf_all['vpu test'] = sdf_all['votes in test'] / sdf_all['users in test']\n",
    "paths.save_folds_info(sdf_all, ORG_NAME, SPLITS_FREQ, SPLITS_NORMALIZE)\n",
    "sdf = sdf_all.tail(LAST_FOLDS)\n",
    "print(sdf['votes in train'])\n",
    "_style = sdf[['open proposals', 'votes in open proposals (train)', 'users in open proposals (train)', 'vpp in open proposals (train)', 'vpu in open proposals (train)', 'votes in test', 'users in test', 'vpp test', 'vpu test']].style\n",
    "_style = _style.format_index('{:%G-W%V}').format(precision=2)\n",
    "_style"
   ]
  },
  {
   "cell_type": "code",
   "execution_count": 8,
   "id": "1a271b94",
   "metadata": {
    "execution": {
     "iopub.execute_input": "2024-09-05T09:49:55.662269Z",
     "iopub.status.busy": "2024-09-05T09:49:55.662078Z",
     "iopub.status.idle": "2024-09-05T09:49:55.672095Z",
     "shell.execute_reply": "2024-09-05T09:49:55.671884Z"
    },
    "papermill": {
     "duration": 0.013248,
     "end_time": "2024-09-05T09:49:55.672659",
     "exception": false,
     "start_time": "2024-09-05T09:49:55.659411",
     "status": "completed"
    },
    "tags": []
   },
   "outputs": [
    {
     "name": "stdout",
     "output_type": "stream",
     "text": [
      "\\begin{tabular}{lrrrrrrrrr}\n",
      " & \\textbf{open proposals} & \\textbf{votes in open proposals (train)} & \\textbf{users in open proposals (train)} & \\textbf{vpp in open proposals (train)} & \\textbf{vpu in open proposals (train)} & \\textbf{votes in test} & \\textbf{users in test} & \\textbf{vpp test} & \\textbf{vpu test} \\\\\n",
      "fold &  &  &  &  &  &  &  &  &  \\\\\n",
      "2023-W22 & 6 & 5301 & 1403 & 883.50 & 3.78 & 5237 & 2008 & 872.83 & 2.61 \\\\\n",
      "2023-W23 & 2 & 2256 & 2142 & 1128.00 & 1.05 & 445 & 442 & 222.50 & 1.01 \\\\\n",
      "2023-W23 & 5 & 5297 & 3136 & 1059.40 & 1.69 & 2724 & 1834 & 544.80 & 1.49 \\\\\n",
      "2023-W24 & 8 & 5485 & 2673 & 685.62 & 2.05 & 10058 & 3038 & 1257.25 & 3.31 \\\\\n",
      "2023-W25 & 4 & 1275 & 1030 & 318.75 & 1.24 & 5628 & 3354 & 1407.00 & 1.68 \\\\\n",
      "2023-W25 & 3 & 3171 & 2729 & 1057.00 & 1.16 & 1853 & 1529 & 617.67 & 1.21 \\\\\n",
      "2023-W26 & 11 & 7554 & 2789 & 686.73 & 2.71 & 8509 & 2177 & 773.55 & 3.91 \\\\\n",
      "2023-W27 & 4 & 3537 & 2424 & 884.25 & 1.46 & 26364 & 14173 & 6591.00 & 1.86 \\\\\n",
      "2023-W28 & 0 & 0 & 0 & nan & nan & 0 & 0 & nan & nan \\\\\n",
      "2023-W28 & 5 & 40641 & 14880 & 8128.20 & 2.73 & 4117 & 1912 & 823.40 & 2.15 \\\\\n",
      "\\end{tabular}\n",
      "\n"
     ]
    }
   ],
   "source": [
    "print(_style\n",
    "  .format_index(\"\\\\textbf{{{}}}\", escape=\"latex\", axis=1)\n",
    "  .to_latex()\n",
    ")"
   ]
  },
  {
   "cell_type": "markdown",
   "id": "4d1ab127",
   "metadata": {
    "papermill": {
     "duration": 0.001973,
     "end_time": "2024-09-05T09:49:55.676641",
     "exception": false,
     "start_time": "2024-09-05T09:49:55.674668",
     "status": "completed"
    },
    "tags": []
   },
   "source": [
    "## Running openpop baseline"
   ]
  },
  {
   "cell_type": "code",
   "execution_count": 9,
   "id": "aa7744d6",
   "metadata": {
    "execution": {
     "iopub.execute_input": "2024-09-05T09:49:55.681278Z",
     "iopub.status.busy": "2024-09-05T09:49:55.681096Z",
     "iopub.status.idle": "2024-09-05T09:55:04.889431Z",
     "shell.execute_reply": "2024-09-05T09:55:04.889204Z"
    },
    "papermill": {
     "duration": 309.211538,
     "end_time": "2024-09-05T09:55:04.890143",
     "exception": false,
     "start_time": "2024-09-05T09:49:55.678605",
     "status": "completed"
    },
    "tags": []
   },
   "outputs": [
    {
     "data": {
      "application/vnd.jupyter.widget-view+json": {
       "model_id": "0c9c08454e144f699defd3f7395eba52",
       "version_major": 2,
       "version_minor": 0
      },
      "text/plain": [
       "  0%|          | 0/263 [00:00<?, ?it/s]"
      ]
     },
     "metadata": {},
     "output_type": "display_data"
    },
    {
     "name": "stderr",
     "output_type": "stream",
     "text": [
      "Warning, empty test fold 0 (2019-12-13 00:00:00), all ok since 0 folds ago\n",
      "Warning, empty test fold 1 (2019-12-18 00:00:00), all ok since 1 folds ago\n"
     ]
    },
    {
     "name": "stderr",
     "output_type": "stream",
     "text": [
      "Warning, empty test fold 2 (2019-12-23 00:00:00), all ok since 1 folds ago\n",
      "Warning, empty test fold 3 (2019-12-28 00:00:00), all ok since 1 folds ago\n"
     ]
    },
    {
     "name": "stderr",
     "output_type": "stream",
     "text": [
      "Warning, empty test fold 4 (2020-01-02 00:00:00), all ok since 1 folds ago\n",
      "Warning, empty test fold 5 (2020-01-07 00:00:00), all ok since 1 folds ago\n"
     ]
    },
    {
     "name": "stderr",
     "output_type": "stream",
     "text": [
      "Warning, empty test fold 6 (2020-01-12 00:00:00), all ok since 1 folds ago\n",
      "Warning, empty test fold 7 (2020-01-17 00:00:00), all ok since 1 folds ago\n"
     ]
    },
    {
     "name": "stderr",
     "output_type": "stream",
     "text": [
      "Warning, empty test fold 8 (2020-01-22 00:00:00), all ok since 1 folds ago\n",
      "Warning, empty test fold 9 (2020-01-27 00:00:00), all ok since 1 folds ago\n"
     ]
    },
    {
     "name": "stderr",
     "output_type": "stream",
     "text": [
      "Warning, empty test fold 10 (2020-02-01 00:00:00), all ok since 1 folds ago\n",
      "Warning, empty test fold 11 (2020-02-06 00:00:00), all ok since 1 folds ago\n"
     ]
    },
    {
     "name": "stderr",
     "output_type": "stream",
     "text": [
      "Warning, empty test fold 12 (2020-02-11 00:00:00), all ok since 1 folds ago\n",
      "Warning, empty test fold 13 (2020-02-16 00:00:00), all ok since 1 folds ago\n"
     ]
    },
    {
     "name": "stderr",
     "output_type": "stream",
     "text": [
      "Warning, empty test fold 14 (2020-02-21 00:00:00), all ok since 1 folds ago\n",
      "Warning, empty test fold 15 (2020-02-26 00:00:00), all ok since 1 folds ago\n"
     ]
    },
    {
     "name": "stderr",
     "output_type": "stream",
     "text": [
      "Warning, empty test fold 16 (2020-03-02 00:00:00), all ok since 1 folds ago\n",
      "Warning, empty test fold 17 (2020-03-07 00:00:00), all ok since 1 folds ago\n"
     ]
    },
    {
     "name": "stderr",
     "output_type": "stream",
     "text": [
      "Warning, empty test fold 18 (2020-03-12 00:00:00), all ok since 1 folds ago\n",
      "Warning, empty test fold 19 (2020-03-17 00:00:00), all ok since 1 folds ago\n"
     ]
    },
    {
     "name": "stderr",
     "output_type": "stream",
     "text": [
      "Warning, empty test fold 20 (2020-03-22 00:00:00), all ok since 1 folds ago\n",
      "Warning, empty test fold 21 (2020-03-27 00:00:00), all ok since 1 folds ago\n"
     ]
    },
    {
     "name": "stderr",
     "output_type": "stream",
     "text": [
      "Warning, empty test fold 22 (2020-04-01 00:00:00), all ok since 1 folds ago\n",
      "Warning, empty test fold 23 (2020-04-06 00:00:00), all ok since 1 folds ago\n"
     ]
    },
    {
     "name": "stderr",
     "output_type": "stream",
     "text": [
      "Warning, empty test fold 24 (2020-04-11 00:00:00), all ok since 1 folds ago\n",
      "Warning, empty test fold 25 (2020-04-16 00:00:00), all ok since 1 folds ago\n"
     ]
    },
    {
     "name": "stderr",
     "output_type": "stream",
     "text": [
      "Warning, empty test fold 26 (2020-04-21 00:00:00), all ok since 1 folds ago\n",
      "Warning, empty test fold 27 (2020-04-26 00:00:00), all ok since 1 folds ago\n"
     ]
    },
    {
     "name": "stderr",
     "output_type": "stream",
     "text": [
      "Warning, empty test fold 28 (2020-05-01 00:00:00), all ok since 1 folds ago\n",
      "Warning, empty test fold 29 (2020-05-06 00:00:00), all ok since 1 folds ago\n"
     ]
    },
    {
     "name": "stderr",
     "output_type": "stream",
     "text": [
      "Warning, empty test fold 30 (2020-05-11 00:00:00), all ok since 1 folds ago\n",
      "Warning, empty test fold 31 (2020-05-16 00:00:00), all ok since 1 folds ago\n"
     ]
    },
    {
     "name": "stderr",
     "output_type": "stream",
     "text": [
      "Warning, empty test fold 32 (2020-05-21 00:00:00), all ok since 1 folds ago\n",
      "Warning, empty test fold 33 (2020-05-26 00:00:00), all ok since 1 folds ago\n"
     ]
    },
    {
     "name": "stderr",
     "output_type": "stream",
     "text": [
      "Warning, empty test fold 34 (2020-05-31 00:00:00), all ok since 1 folds ago\n",
      "Warning, empty test fold 35 (2020-06-05 00:00:00), all ok since 1 folds ago\n"
     ]
    },
    {
     "name": "stderr",
     "output_type": "stream",
     "text": [
      "Warning, empty test fold 36 (2020-06-10 00:00:00), all ok since 1 folds ago\n",
      "Warning, empty test fold 37 (2020-06-15 00:00:00), all ok since 1 folds ago\n"
     ]
    },
    {
     "name": "stderr",
     "output_type": "stream",
     "text": [
      "Warning, test fold 38 (2020-06-20 00:00:00) with less than 5 open proposals (1). all ok since 1 folds ago\n"
     ]
    },
    {
     "name": "stderr",
     "output_type": "stream",
     "text": [
      "Warning, empty test fold 39 (2020-06-25 00:00:00), all ok since 2 folds ago\n",
      "Warning, empty test fold 40 (2020-06-30 00:00:00), all ok since 1 folds ago\n"
     ]
    },
    {
     "name": "stderr",
     "output_type": "stream",
     "text": [
      "Warning, empty test fold 41 (2020-07-05 00:00:00), all ok since 1 folds ago\n",
      "Warning, empty test fold 42 (2020-07-10 00:00:00), all ok since 1 folds ago\n"
     ]
    },
    {
     "name": "stderr",
     "output_type": "stream",
     "text": [
      "Warning, empty test fold 43 (2020-07-15 00:00:00), all ok since 1 folds ago\n",
      "Warning, empty test fold 44 (2020-07-20 00:00:00), all ok since 1 folds ago\n"
     ]
    },
    {
     "name": "stderr",
     "output_type": "stream",
     "text": [
      "Warning, empty test fold 45 (2020-07-25 00:00:00), all ok since 1 folds ago\n",
      "Warning, empty test fold 46 (2020-07-30 00:00:00), all ok since 1 folds ago\n"
     ]
    },
    {
     "name": "stderr",
     "output_type": "stream",
     "text": [
      "Warning, empty test fold 47 (2020-08-04 00:00:00), all ok since 1 folds ago\n",
      "Warning, empty test fold 48 (2020-08-09 00:00:00), all ok since 1 folds ago\n"
     ]
    },
    {
     "name": "stderr",
     "output_type": "stream",
     "text": [
      "Warning, empty test fold 49 (2020-08-14 00:00:00), all ok since 1 folds ago\n",
      "Warning, empty test fold 50 (2020-08-19 00:00:00), all ok since 1 folds ago\n"
     ]
    },
    {
     "name": "stderr",
     "output_type": "stream",
     "text": [
      "Warning, empty test fold 51 (2020-08-24 00:00:00), all ok since 1 folds ago\n",
      "Warning, empty test fold 52 (2020-08-29 00:00:00), all ok since 1 folds ago\n"
     ]
    },
    {
     "name": "stderr",
     "output_type": "stream",
     "text": [
      "Warning, empty test fold 53 (2020-09-03 00:00:00), all ok since 1 folds ago\n",
      "Warning, empty test fold 54 (2020-09-08 00:00:00), all ok since 1 folds ago\n"
     ]
    },
    {
     "name": "stderr",
     "output_type": "stream",
     "text": [
      "Warning, empty test fold 55 (2020-09-13 00:00:00), all ok since 1 folds ago\n",
      "Warning, empty test fold 56 (2020-09-18 00:00:00), all ok since 1 folds ago\n"
     ]
    },
    {
     "name": "stderr",
     "output_type": "stream",
     "text": [
      "Warning, empty test fold 57 (2020-09-23 00:00:00), all ok since 1 folds ago\n",
      "Warning, empty test fold 58 (2020-09-28 00:00:00), all ok since 1 folds ago\n"
     ]
    },
    {
     "name": "stderr",
     "output_type": "stream",
     "text": [
      "Warning, empty test fold 59 (2020-10-03 00:00:00), all ok since 1 folds ago\n",
      "Warning, test fold 60 (2020-10-08 00:00:00) with less than 5 open proposals (3). all ok since 1 folds ago\n"
     ]
    },
    {
     "name": "stderr",
     "output_type": "stream",
     "text": [
      "Warning, empty test fold 61 (2020-10-13 00:00:00), all ok since 2 folds ago\n",
      "Warning, empty test fold 62 (2020-10-18 00:00:00), all ok since 1 folds ago\n"
     ]
    },
    {
     "name": "stderr",
     "output_type": "stream",
     "text": [
      "Warning, test fold 63 (2020-10-23 00:00:00) with less than 5 open proposals (2). all ok since 1 folds ago\n"
     ]
    },
    {
     "name": "stderr",
     "output_type": "stream",
     "text": [
      "Warning, empty test fold 64 (2020-10-28 00:00:00), all ok since 2 folds ago\n",
      "Warning, empty test fold 65 (2020-11-02 00:00:00), all ok since 1 folds ago\n"
     ]
    },
    {
     "name": "stderr",
     "output_type": "stream",
     "text": [
      "Warning, empty test fold 66 (2020-11-07 00:00:00), all ok since 1 folds ago\n",
      "Warning, empty test fold 67 (2020-11-12 00:00:00), all ok since 1 folds ago\n"
     ]
    },
    {
     "name": "stderr",
     "output_type": "stream",
     "text": [
      "Warning, test fold 68 (2020-11-17 00:00:00) with less than 5 open proposals (1). all ok since 1 folds ago\n"
     ]
    },
    {
     "name": "stderr",
     "output_type": "stream",
     "text": [
      "Warning, test fold 69 (2020-11-22 00:00:00) with less than 5 open proposals (1). all ok since 1 folds ago\n"
     ]
    },
    {
     "name": "stderr",
     "output_type": "stream",
     "text": [
      "Warning, test fold 70 (2020-11-27 00:00:00) with less than 5 open proposals (1). all ok since 1 folds ago\n"
     ]
    },
    {
     "name": "stderr",
     "output_type": "stream",
     "text": [
      "Warning, test fold 71 (2020-12-02 00:00:00) with less than 5 open proposals (1). all ok since 1 folds ago\n"
     ]
    },
    {
     "name": "stderr",
     "output_type": "stream",
     "text": [
      "Warning, test fold 72 (2020-12-07 00:00:00) with less than 5 open proposals (1). all ok since 1 folds ago\n"
     ]
    },
    {
     "name": "stderr",
     "output_type": "stream",
     "text": [
      "Warning, empty test fold 73 (2020-12-12 00:00:00), all ok since 6 folds ago\n",
      "Warning, empty test fold 74 (2020-12-17 00:00:00), all ok since 1 folds ago\n"
     ]
    },
    {
     "name": "stderr",
     "output_type": "stream",
     "text": [
      "Warning, empty test fold 75 (2020-12-22 00:00:00), all ok since 1 folds ago\n",
      "Warning, empty test fold 76 (2020-12-27 00:00:00), all ok since 1 folds ago\n"
     ]
    },
    {
     "name": "stderr",
     "output_type": "stream",
     "text": [
      "Warning, empty test fold 77 (2021-01-01 00:00:00), all ok since 1 folds ago\n",
      "Warning, empty test fold 78 (2021-01-06 00:00:00), all ok since 1 folds ago\n"
     ]
    },
    {
     "name": "stderr",
     "output_type": "stream",
     "text": [
      "Warning, empty test fold 79 (2021-01-11 00:00:00), all ok since 1 folds ago\n",
      "Warning, empty test fold 80 (2021-01-16 00:00:00), all ok since 1 folds ago\n"
     ]
    },
    {
     "name": "stderr",
     "output_type": "stream",
     "text": [
      "Warning, test fold 81 (2021-01-21 00:00:00) with less than 5 open proposals (2). all ok since 1 folds ago\n"
     ]
    },
    {
     "name": "stderr",
     "output_type": "stream",
     "text": [
      "Warning, empty test fold 82 (2021-01-26 00:00:00), all ok since 2 folds ago\n",
      "Warning, empty test fold 83 (2021-01-31 00:00:00), all ok since 1 folds ago\n"
     ]
    },
    {
     "name": "stderr",
     "output_type": "stream",
     "text": [
      "Warning, empty test fold 84 (2021-02-05 00:00:00), all ok since 1 folds ago\n",
      "Warning, empty test fold 85 (2021-02-10 00:00:00), all ok since 1 folds ago\n"
     ]
    },
    {
     "name": "stderr",
     "output_type": "stream",
     "text": [
      "Warning, empty test fold 86 (2021-02-15 00:00:00), all ok since 1 folds ago\n",
      "Warning, empty test fold 87 (2021-02-20 00:00:00), all ok since 1 folds ago\n"
     ]
    },
    {
     "name": "stderr",
     "output_type": "stream",
     "text": [
      "Warning, empty test fold 88 (2021-02-25 00:00:00), all ok since 1 folds ago\n",
      "Warning, empty test fold 89 (2021-03-02 00:00:00), all ok since 1 folds ago\n"
     ]
    },
    {
     "name": "stderr",
     "output_type": "stream",
     "text": [
      "Warning, test fold 112 (2021-06-25 00:00:00) with less than 5 open proposals (4). all ok since 23 folds ago\n"
     ]
    },
    {
     "name": "stderr",
     "output_type": "stream",
     "text": [
      "Warning, test fold 114 (2021-07-05 00:00:00) with less than 5 open proposals (3). all ok since 2 folds ago\n"
     ]
    },
    {
     "name": "stderr",
     "output_type": "stream",
     "text": [
      "Warning, test fold 115 (2021-07-10 00:00:00) with less than 5 open proposals (4). all ok since 1 folds ago\n"
     ]
    },
    {
     "name": "stderr",
     "output_type": "stream",
     "text": [
      "Warning, test fold 124 (2021-08-24 00:00:00) with less than 5 open proposals (1). all ok since 9 folds ago\n"
     ]
    },
    {
     "name": "stderr",
     "output_type": "stream",
     "text": [
      "Warning, test fold 125 (2021-08-29 00:00:00) with less than 5 open proposals (3). all ok since 1 folds ago\n"
     ]
    },
    {
     "name": "stderr",
     "output_type": "stream",
     "text": [
      "Warning, test fold 133 (2021-10-08 00:00:00) with less than 5 open proposals (3). all ok since 8 folds ago\n"
     ]
    },
    {
     "name": "stderr",
     "output_type": "stream",
     "text": [
      "Warning, test fold 134 (2021-10-13 00:00:00) with less than 5 open proposals (3). all ok since 1 folds ago\n"
     ]
    },
    {
     "name": "stderr",
     "output_type": "stream",
     "text": [
      "Warning, test fold 135 (2021-10-18 00:00:00) with less than 5 open proposals (4). all ok since 1 folds ago\n"
     ]
    },
    {
     "name": "stderr",
     "output_type": "stream",
     "text": [
      "Warning, test fold 136 (2021-10-23 00:00:00) with less than 5 open proposals (2). all ok since 1 folds ago\n"
     ]
    },
    {
     "name": "stderr",
     "output_type": "stream",
     "text": [
      "Warning, empty test fold 137 (2021-10-28 00:00:00), all ok since 48 folds ago\n",
      "Warning, test fold 138 (2021-11-02 00:00:00) with less than 5 open proposals (1). all ok since 1 folds ago\n"
     ]
    },
    {
     "name": "stderr",
     "output_type": "stream",
     "text": [
      "Warning, test fold 139 (2021-11-07 00:00:00) with less than 5 open proposals (2). all ok since 1 folds ago\n"
     ]
    },
    {
     "name": "stderr",
     "output_type": "stream",
     "text": [
      "Warning, test fold 140 (2021-11-12 00:00:00) with less than 5 open proposals (4). all ok since 1 folds ago\n"
     ]
    },
    {
     "name": "stderr",
     "output_type": "stream",
     "text": [
      "Warning, test fold 142 (2021-11-22 00:00:00) with less than 5 open proposals (4). all ok since 2 folds ago\n"
     ]
    },
    {
     "name": "stderr",
     "output_type": "stream",
     "text": [
      "Warning, test fold 143 (2021-11-27 00:00:00) with less than 5 open proposals (3). all ok since 1 folds ago\n"
     ]
    },
    {
     "name": "stderr",
     "output_type": "stream",
     "text": [
      "Warning, test fold 144 (2021-12-02 00:00:00) with less than 5 open proposals (3). all ok since 1 folds ago\n"
     ]
    },
    {
     "name": "stderr",
     "output_type": "stream",
     "text": [
      "Warning, test fold 148 (2021-12-22 00:00:00) with less than 5 open proposals (3). all ok since 4 folds ago\n"
     ]
    },
    {
     "name": "stderr",
     "output_type": "stream",
     "text": [
      "Warning, test fold 149 (2021-12-27 00:00:00) with less than 5 open proposals (2). all ok since 1 folds ago\n"
     ]
    },
    {
     "name": "stderr",
     "output_type": "stream",
     "text": [
      "Warning, test fold 150 (2022-01-01 00:00:00) with less than 5 open proposals (3). all ok since 1 folds ago\n"
     ]
    },
    {
     "name": "stderr",
     "output_type": "stream",
     "text": [
      "Warning, test fold 151 (2022-01-06 00:00:00) with less than 5 open proposals (4). all ok since 1 folds ago\n"
     ]
    },
    {
     "name": "stderr",
     "output_type": "stream",
     "text": [
      "Warning, test fold 152 (2022-01-11 00:00:00) with less than 5 open proposals (3). all ok since 1 folds ago\n"
     ]
    },
    {
     "name": "stderr",
     "output_type": "stream",
     "text": [
      "Warning, test fold 153 (2022-01-16 00:00:00) with less than 5 open proposals (4). all ok since 1 folds ago\n"
     ]
    },
    {
     "name": "stderr",
     "output_type": "stream",
     "text": [
      "Warning, test fold 154 (2022-01-21 00:00:00) with less than 5 open proposals (4). all ok since 1 folds ago\n"
     ]
    },
    {
     "name": "stderr",
     "output_type": "stream",
     "text": [
      "Warning, test fold 155 (2022-01-26 00:00:00) with less than 5 open proposals (2). all ok since 1 folds ago\n"
     ]
    },
    {
     "name": "stderr",
     "output_type": "stream",
     "text": [
      "Warning, test fold 160 (2022-02-20 00:00:00) with less than 5 open proposals (3). all ok since 5 folds ago\n"
     ]
    },
    {
     "name": "stderr",
     "output_type": "stream",
     "text": [
      "Warning, empty test fold 161 (2022-02-25 00:00:00), all ok since 24 folds ago\n",
      "Warning, test fold 162 (2022-03-02 00:00:00) with less than 5 open proposals (3). all ok since 1 folds ago\n"
     ]
    },
    {
     "name": "stderr",
     "output_type": "stream",
     "text": [
      "Warning, test fold 163 (2022-03-07 00:00:00) with less than 5 open proposals (1). all ok since 1 folds ago\n"
     ]
    },
    {
     "name": "stderr",
     "output_type": "stream",
     "text": [
      "Warning, test fold 164 (2022-03-12 00:00:00) with less than 5 open proposals (1). all ok since 1 folds ago\n"
     ]
    },
    {
     "name": "stderr",
     "output_type": "stream",
     "text": [
      "Warning, empty test fold 165 (2022-03-17 00:00:00), all ok since 4 folds ago\n",
      "Warning, test fold 166 (2022-03-22 00:00:00) with less than 5 open proposals (2). all ok since 1 folds ago\n"
     ]
    },
    {
     "name": "stderr",
     "output_type": "stream",
     "text": [
      "Warning, test fold 168 (2022-04-01 00:00:00) with less than 5 open proposals (1). all ok since 2 folds ago\n"
     ]
    },
    {
     "name": "stderr",
     "output_type": "stream",
     "text": [
      "Warning, test fold 169 (2022-04-06 00:00:00) with less than 5 open proposals (3). all ok since 1 folds ago\n"
     ]
    },
    {
     "name": "stderr",
     "output_type": "stream",
     "text": [
      "Warning, test fold 170 (2022-04-11 00:00:00) with less than 5 open proposals (4). all ok since 1 folds ago\n"
     ]
    },
    {
     "name": "stderr",
     "output_type": "stream",
     "text": [
      "Warning, test fold 171 (2022-04-16 00:00:00) with less than 5 open proposals (1). all ok since 1 folds ago\n"
     ]
    },
    {
     "name": "stderr",
     "output_type": "stream",
     "text": [
      "Warning, test fold 172 (2022-04-21 00:00:00) with less than 5 open proposals (1). all ok since 1 folds ago\n"
     ]
    },
    {
     "name": "stderr",
     "output_type": "stream",
     "text": [
      "Warning, test fold 173 (2022-04-26 00:00:00) with less than 5 open proposals (2). all ok since 1 folds ago\n"
     ]
    },
    {
     "name": "stderr",
     "output_type": "stream",
     "text": [
      "Warning, test fold 174 (2022-05-01 00:00:00) with less than 5 open proposals (1). all ok since 1 folds ago\n"
     ]
    },
    {
     "name": "stderr",
     "output_type": "stream",
     "text": [
      "Warning, test fold 175 (2022-05-06 00:00:00) with less than 5 open proposals (4). all ok since 1 folds ago\n"
     ]
    },
    {
     "name": "stderr",
     "output_type": "stream",
     "text": [
      "Warning, test fold 176 (2022-05-11 00:00:00) with less than 5 open proposals (4). all ok since 1 folds ago\n"
     ]
    },
    {
     "name": "stderr",
     "output_type": "stream",
     "text": [
      "Warning, empty test fold 177 (2022-05-16 00:00:00), all ok since 12 folds ago\n",
      "Warning, test fold 178 (2022-05-21 00:00:00) with less than 5 open proposals (3). all ok since 1 folds ago\n"
     ]
    },
    {
     "name": "stderr",
     "output_type": "stream",
     "text": [
      "Warning, test fold 179 (2022-05-26 00:00:00) with less than 5 open proposals (3). all ok since 1 folds ago\n"
     ]
    },
    {
     "name": "stderr",
     "output_type": "stream",
     "text": [
      "Warning, test fold 180 (2022-05-31 00:00:00) with less than 5 open proposals (3). all ok since 1 folds ago\n"
     ]
    },
    {
     "name": "stderr",
     "output_type": "stream",
     "text": [
      "Warning, test fold 184 (2022-06-20 00:00:00) with less than 5 open proposals (3). all ok since 4 folds ago\n"
     ]
    },
    {
     "name": "stderr",
     "output_type": "stream",
     "text": [
      "Warning, test fold 186 (2022-06-30 00:00:00) with less than 5 open proposals (3). all ok since 2 folds ago\n"
     ]
    },
    {
     "name": "stderr",
     "output_type": "stream",
     "text": [
      "Warning, empty test fold 187 (2022-07-05 00:00:00), all ok since 10 folds ago\n",
      "Warning, test fold 188 (2022-07-10 00:00:00) with less than 5 open proposals (4). all ok since 1 folds ago\n"
     ]
    },
    {
     "name": "stderr",
     "output_type": "stream",
     "text": [
      "Warning, test fold 189 (2022-07-15 00:00:00) with less than 5 open proposals (1). all ok since 1 folds ago\n"
     ]
    },
    {
     "name": "stderr",
     "output_type": "stream",
     "text": [
      "Warning, empty test fold 190 (2022-07-20 00:00:00), all ok since 3 folds ago\n"
     ]
    },
    {
     "name": "stderr",
     "output_type": "stream",
     "text": [
      "Warning, test fold 191 (2022-07-25 00:00:00) with less than 5 open proposals (3). all ok since 1 folds ago\n"
     ]
    },
    {
     "name": "stderr",
     "output_type": "stream",
     "text": [
      "Warning, test fold 193 (2022-08-04 00:00:00) with less than 5 open proposals (3). all ok since 2 folds ago\n"
     ]
    },
    {
     "name": "stderr",
     "output_type": "stream",
     "text": [
      "Warning, test fold 195 (2022-08-14 00:00:00) with less than 5 open proposals (3). all ok since 2 folds ago\n"
     ]
    },
    {
     "name": "stderr",
     "output_type": "stream",
     "text": [
      "Warning, test fold 197 (2022-08-24 00:00:00) with less than 5 open proposals (4). all ok since 2 folds ago\n"
     ]
    },
    {
     "name": "stderr",
     "output_type": "stream",
     "text": [
      "Warning, test fold 199 (2022-09-03 00:00:00) with less than 5 open proposals (2). all ok since 2 folds ago\n"
     ]
    },
    {
     "name": "stderr",
     "output_type": "stream",
     "text": [
      "Warning, test fold 200 (2022-09-08 00:00:00) with less than 5 open proposals (1). all ok since 1 folds ago\n"
     ]
    },
    {
     "name": "stderr",
     "output_type": "stream",
     "text": [
      "Warning, test fold 201 (2022-09-13 00:00:00) with less than 5 open proposals (1). all ok since 1 folds ago\n"
     ]
    },
    {
     "name": "stderr",
     "output_type": "stream",
     "text": [
      "Warning, empty test fold 202 (2022-09-18 00:00:00), all ok since 12 folds ago\n"
     ]
    },
    {
     "name": "stderr",
     "output_type": "stream",
     "text": [
      "Warning, test fold 203 (2022-09-23 00:00:00) with less than 5 open proposals (3). all ok since 1 folds ago\n"
     ]
    },
    {
     "name": "stderr",
     "output_type": "stream",
     "text": [
      "Warning, test fold 204 (2022-09-28 00:00:00) with less than 5 open proposals (2). all ok since 1 folds ago\n"
     ]
    },
    {
     "name": "stderr",
     "output_type": "stream",
     "text": [
      "Warning, test fold 205 (2022-10-03 00:00:00) with less than 5 open proposals (1). all ok since 1 folds ago\n"
     ]
    },
    {
     "name": "stderr",
     "output_type": "stream",
     "text": [
      "Warning, test fold 207 (2022-10-13 00:00:00) with less than 5 open proposals (2). all ok since 2 folds ago\n"
     ]
    },
    {
     "name": "stderr",
     "output_type": "stream",
     "text": [
      "Warning, test fold 209 (2022-10-23 00:00:00) with less than 5 open proposals (4). all ok since 2 folds ago\n"
     ]
    },
    {
     "name": "stderr",
     "output_type": "stream",
     "text": [
      "Warning, test fold 210 (2022-10-28 00:00:00) with less than 5 open proposals (4). all ok since 1 folds ago\n"
     ]
    },
    {
     "name": "stderr",
     "output_type": "stream",
     "text": [
      "Warning, test fold 213 (2022-11-12 00:00:00) with less than 5 open proposals (1). all ok since 3 folds ago\n"
     ]
    },
    {
     "name": "stderr",
     "output_type": "stream",
     "text": [
      "Warning, test fold 214 (2022-11-17 00:00:00) with less than 5 open proposals (4). all ok since 1 folds ago\n"
     ]
    },
    {
     "name": "stderr",
     "output_type": "stream",
     "text": [
      "Warning, test fold 216 (2022-11-27 00:00:00) with less than 5 open proposals (4). all ok since 2 folds ago\n"
     ]
    },
    {
     "name": "stderr",
     "output_type": "stream",
     "text": [
      "Warning, test fold 217 (2022-12-02 00:00:00) with less than 5 open proposals (4). all ok since 1 folds ago\n"
     ]
    },
    {
     "name": "stderr",
     "output_type": "stream",
     "text": [
      "Warning, test fold 218 (2022-12-07 00:00:00) with less than 5 open proposals (4). all ok since 1 folds ago\n"
     ]
    },
    {
     "name": "stderr",
     "output_type": "stream",
     "text": [
      "Warning, test fold 219 (2022-12-12 00:00:00) with less than 5 open proposals (4). all ok since 1 folds ago\n"
     ]
    },
    {
     "name": "stderr",
     "output_type": "stream",
     "text": [
      "Warning, test fold 220 (2022-12-17 00:00:00) with less than 5 open proposals (3). all ok since 1 folds ago\n"
     ]
    },
    {
     "name": "stderr",
     "output_type": "stream",
     "text": [
      "Warning, test fold 221 (2022-12-22 00:00:00) with less than 5 open proposals (4). all ok since 1 folds ago\n"
     ]
    },
    {
     "name": "stderr",
     "output_type": "stream",
     "text": [
      "Warning, empty test fold 222 (2022-12-27 00:00:00), all ok since 20 folds ago\n"
     ]
    },
    {
     "name": "stderr",
     "output_type": "stream",
     "text": [
      "Warning, test fold 223 (2023-01-01 00:00:00) with less than 5 open proposals (1). all ok since 1 folds ago\n"
     ]
    },
    {
     "name": "stderr",
     "output_type": "stream",
     "text": [
      "Warning, test fold 225 (2023-01-11 00:00:00) with less than 5 open proposals (4). all ok since 2 folds ago\n"
     ]
    },
    {
     "name": "stderr",
     "output_type": "stream",
     "text": [
      "Warning, test fold 226 (2023-01-16 00:00:00) with less than 5 open proposals (1). all ok since 1 folds ago\n"
     ]
    },
    {
     "name": "stderr",
     "output_type": "stream",
     "text": [
      "Warning, test fold 227 (2023-01-21 00:00:00) with less than 5 open proposals (2). all ok since 1 folds ago\n"
     ]
    },
    {
     "name": "stderr",
     "output_type": "stream",
     "text": [
      "Warning, test fold 228 (2023-01-26 00:00:00) with less than 5 open proposals (4). all ok since 1 folds ago\n"
     ]
    },
    {
     "name": "stderr",
     "output_type": "stream",
     "text": [
      "Warning, test fold 229 (2023-01-31 00:00:00) with less than 5 open proposals (4). all ok since 1 folds ago\n"
     ]
    },
    {
     "name": "stderr",
     "output_type": "stream",
     "text": [
      "Warning, test fold 230 (2023-02-05 00:00:00) with less than 5 open proposals (4). all ok since 1 folds ago\n"
     ]
    },
    {
     "name": "stderr",
     "output_type": "stream",
     "text": [
      "Warning, test fold 231 (2023-02-10 00:00:00) with less than 5 open proposals (3). all ok since 1 folds ago\n"
     ]
    },
    {
     "name": "stderr",
     "output_type": "stream",
     "text": [
      "Warning, test fold 235 (2023-03-02 00:00:00) with less than 5 open proposals (2). all ok since 4 folds ago\n"
     ]
    },
    {
     "name": "stderr",
     "output_type": "stream",
     "text": [
      "Warning, test fold 236 (2023-03-07 00:00:00) with less than 5 open proposals (2). all ok since 1 folds ago\n"
     ]
    },
    {
     "name": "stderr",
     "output_type": "stream",
     "text": [
      "Warning, test fold 246 (2023-04-26 00:00:00) with less than 5 open proposals (4). all ok since 10 folds ago\n"
     ]
    },
    {
     "name": "stderr",
     "output_type": "stream",
     "text": [
      "Warning, test fold 249 (2023-05-11 00:00:00) with less than 5 open proposals (4). all ok since 3 folds ago\n"
     ]
    },
    {
     "name": "stderr",
     "output_type": "stream",
     "text": [
      "Warning, test fold 252 (2023-05-26 00:00:00) with less than 5 open proposals (4). all ok since 3 folds ago\n"
     ]
    },
    {
     "name": "stderr",
     "output_type": "stream",
     "text": [
      "Warning, test fold 254 (2023-06-05 00:00:00) with less than 5 open proposals (2). all ok since 2 folds ago\n"
     ]
    },
    {
     "name": "stderr",
     "output_type": "stream",
     "text": [
      "Warning, test fold 257 (2023-06-20 00:00:00) with less than 5 open proposals (4). all ok since 3 folds ago\n"
     ]
    },
    {
     "name": "stderr",
     "output_type": "stream",
     "text": [
      "Warning, test fold 258 (2023-06-25 00:00:00) with less than 5 open proposals (3). all ok since 1 folds ago\n"
     ]
    },
    {
     "name": "stderr",
     "output_type": "stream",
     "text": [
      "Warning, test fold 260 (2023-07-05 00:00:00) with less than 5 open proposals (4). all ok since 2 folds ago\n"
     ]
    },
    {
     "name": "stderr",
     "output_type": "stream",
     "text": [
      "Warning, empty test fold 261 (2023-07-10 00:00:00), all ok since 39 folds ago\n"
     ]
    },
    {
     "name": "stdout",
     "output_type": "stream",
     "text": [
      "Max ok in a row: (48, Timestamp('2021-10-28 00:00:00'))\n"
     ]
    }
   ],
   "source": [
    "WARNING_AT_LEAST_OPEN = 5\n",
    "\n",
    "folds = list(cvtt_open(df, SPLITS_FREQ, dfp, remove_not_in_train_col='userID', normalize=SPLITS_NORMALIZE))\n",
    "metrics = []\n",
    "perfectmetrics = []\n",
    "\n",
    "first_empty = True\n",
    "ok_in_a_row = best_in_a_row = 0\n",
    "max_ok_in_a_row = (-1, folds[-1].end)\n",
    "for i, (train, test, t, open_proposals) in enumerate(tqdm(folds)):   \n",
    "    if first_empty:\n",
    "        if not train.empty:\n",
    "            first_empty = False\n",
    "    else:\n",
    "        assert not train.empty, f\"Train should not be empty on fold {i}\"\n",
    "    if test.empty:\n",
    "        print(f\"Warning, empty test fold {i} ({t}), all ok since {ok_in_a_row} folds ago\", file=sys.stderr)\n",
    "        if ok_in_a_row > max_ok_in_a_row[0]:\n",
    "            max_ok_in_a_row = (ok_in_a_row, t)\n",
    "        ok_in_a_row = best_in_a_row = 0\n",
    "    elif len(open_proposals) < WARNING_AT_LEAST_OPEN:\n",
    "        print(f\"Warning, test fold {i} ({t}) with less than {WARNING_AT_LEAST_OPEN} open proposals ({len(open_proposals)}). all ok since {best_in_a_row} folds ago\", file=sys.stderr)\n",
    "        best_in_a_row = 0\n",
    "\n",
    "    mdict = {'fold': t}\n",
    "    pdict = {'fold': t}\n",
    "    model = OpenPop(train)\n",
    "    recs = model.recommend_k_items(test['userID'].unique(), max(K_RECOMMENDATIONS), recommend_from=open_proposals)\n",
    "    mdict |= calculate_all_metrics(test, recs, K_RECOMMENDATIONS)\n",
    "        # for m, f in metrics_f.items():\n",
    "        #     r = f(test, recs, k=k_recs)\n",
    "        #     metrics[m+f'@{k_recs}'].append(r)\n",
    "    \n",
    "    recs = test.copy()\n",
    "    recs['prediction'] = 1\n",
    "    pdict |= calculate_all_metrics(test, recs, K_RECOMMENDATIONS)\n",
    "\n",
    "        # for m, f in metrics_f.items():\n",
    "        #     # Need relevancy_method=None as they are unsorted\n",
    "        #     r = f(test, recs, k=k_recs)\n",
    "        #     perfectmetrics[m+f'@{k_recs}'].append(r)\n",
    "\n",
    "    metrics.append(mdict)\n",
    "    perfectmetrics.append(pdict)\n",
    "    ok_in_a_row += 1\n",
    "    best_in_a_row += 1\n",
    "\n",
    "paths.save_dao_datum(ORG_NAME, 'max_ok_folds', str(max_ok_in_a_row[0]))\n",
    "paths.save_dao_datum(ORG_NAME, 'max_ok_folds_date', str(max_ok_in_a_row[1]))\n",
    "if max_ok_in_a_row == -1:\n",
    "    print(\"All ok :>\")\n",
    "else:\n",
    "    print(\"Max ok in a row:\", max_ok_in_a_row)"
   ]
  },
  {
   "cell_type": "markdown",
   "id": "b0a98735",
   "metadata": {
    "papermill": {
     "duration": 0.005892,
     "end_time": "2024-09-05T09:55:04.902085",
     "exception": false,
     "start_time": "2024-09-05T09:55:04.896193",
     "status": "completed"
    },
    "tags": []
   },
   "source": [
    "### Caching these results"
   ]
  },
  {
   "cell_type": "code",
   "execution_count": 10,
   "id": "9687090c",
   "metadata": {
    "execution": {
     "iopub.execute_input": "2024-09-05T09:55:04.913559Z",
     "iopub.status.busy": "2024-09-05T09:55:04.913423Z",
     "iopub.status.idle": "2024-09-05T09:55:04.940235Z",
     "shell.execute_reply": "2024-09-05T09:55:04.940035Z"
    },
    "papermill": {
     "duration": 0.033382,
     "end_time": "2024-09-05T09:55:04.940881",
     "exception": false,
     "start_time": "2024-09-05T09:55:04.907499",
     "status": "completed"
    },
    "tags": []
   },
   "outputs": [
    {
     "name": "stdout",
     "output_type": "stream",
     "text": [
      "Saved dataframe into /home/daviddavo/recsys4daos/data/output/Aave - Aavegotchi/baseline/openpop_5d_normalize.parquet\n"
     ]
    },
    {
     "data": {
      "text/html": [
       "<div>\n",
       "<style scoped>\n",
       "    .dataframe tbody tr th:only-of-type {\n",
       "        vertical-align: middle;\n",
       "    }\n",
       "\n",
       "    .dataframe tbody tr th {\n",
       "        vertical-align: top;\n",
       "    }\n",
       "\n",
       "    .dataframe thead th {\n",
       "        text-align: right;\n",
       "    }\n",
       "</style>\n",
       "<table border=\"1\" class=\"dataframe\">\n",
       "  <thead>\n",
       "    <tr style=\"text-align: right;\">\n",
       "      <th></th>\n",
       "      <th>precision@1</th>\n",
       "      <th>precision@3</th>\n",
       "      <th>precision@5</th>\n",
       "      <th>precision@10</th>\n",
       "      <th>precision@15</th>\n",
       "      <th>precision@100</th>\n",
       "      <th>ndcg@1</th>\n",
       "      <th>ndcg@3</th>\n",
       "      <th>ndcg@5</th>\n",
       "      <th>ndcg@10</th>\n",
       "      <th>...</th>\n",
       "      <th>recall@10</th>\n",
       "      <th>recall@15</th>\n",
       "      <th>recall@100</th>\n",
       "      <th>r-precision@1</th>\n",
       "      <th>r-precision@3</th>\n",
       "      <th>r-precision@5</th>\n",
       "      <th>r-precision@10</th>\n",
       "      <th>r-precision@15</th>\n",
       "      <th>r-precision@100</th>\n",
       "      <th>time_eval</th>\n",
       "    </tr>\n",
       "  </thead>\n",
       "  <tbody>\n",
       "    <tr>\n",
       "      <th>count</th>\n",
       "      <td>263.000000</td>\n",
       "      <td>263.000000</td>\n",
       "      <td>263.000000</td>\n",
       "      <td>263.000000</td>\n",
       "      <td>263.000000</td>\n",
       "      <td>263.000000</td>\n",
       "      <td>263.000000</td>\n",
       "      <td>263.000000</td>\n",
       "      <td>263.000000</td>\n",
       "      <td>263.000000</td>\n",
       "      <td>...</td>\n",
       "      <td>263.000000</td>\n",
       "      <td>263.000000</td>\n",
       "      <td>263.000000</td>\n",
       "      <td>263.000000</td>\n",
       "      <td>262.000000</td>\n",
       "      <td>262.000000</td>\n",
       "      <td>262.000000</td>\n",
       "      <td>262.000000</td>\n",
       "      <td>262.000000</td>\n",
       "      <td>263.000000</td>\n",
       "    </tr>\n",
       "    <tr>\n",
       "      <th>mean</th>\n",
       "      <td>0.342167</td>\n",
       "      <td>0.241610</td>\n",
       "      <td>0.185869</td>\n",
       "      <td>0.107349</td>\n",
       "      <td>0.073556</td>\n",
       "      <td>0.011091</td>\n",
       "      <td>0.341370</td>\n",
       "      <td>0.433022</td>\n",
       "      <td>0.471549</td>\n",
       "      <td>0.492691</td>\n",
       "      <td>...</td>\n",
       "      <td>0.627409</td>\n",
       "      <td>0.637804</td>\n",
       "      <td>0.639640</td>\n",
       "      <td>0.452344</td>\n",
       "      <td>0.518844</td>\n",
       "      <td>0.539878</td>\n",
       "      <td>0.546104</td>\n",
       "      <td>0.546576</td>\n",
       "      <td>0.546625</td>\n",
       "      <td>0.399813</td>\n",
       "    </tr>\n",
       "    <tr>\n",
       "      <th>std</th>\n",
       "      <td>0.354296</td>\n",
       "      <td>0.205735</td>\n",
       "      <td>0.161228</td>\n",
       "      <td>0.097412</td>\n",
       "      <td>0.067937</td>\n",
       "      <td>0.010280</td>\n",
       "      <td>0.353500</td>\n",
       "      <td>0.381461</td>\n",
       "      <td>0.388041</td>\n",
       "      <td>0.388850</td>\n",
       "      <td>...</td>\n",
       "      <td>0.467048</td>\n",
       "      <td>0.470627</td>\n",
       "      <td>0.471692</td>\n",
       "      <td>0.387363</td>\n",
       "      <td>0.411119</td>\n",
       "      <td>0.418112</td>\n",
       "      <td>0.418670</td>\n",
       "      <td>0.418701</td>\n",
       "      <td>0.418701</td>\n",
       "      <td>0.862810</td>\n",
       "    </tr>\n",
       "    <tr>\n",
       "      <th>min</th>\n",
       "      <td>0.000000</td>\n",
       "      <td>0.000000</td>\n",
       "      <td>0.000000</td>\n",
       "      <td>0.000000</td>\n",
       "      <td>0.000000</td>\n",
       "      <td>0.000000</td>\n",
       "      <td>0.000000</td>\n",
       "      <td>0.000000</td>\n",
       "      <td>0.000000</td>\n",
       "      <td>0.000000</td>\n",
       "      <td>...</td>\n",
       "      <td>0.000000</td>\n",
       "      <td>0.000000</td>\n",
       "      <td>0.000000</td>\n",
       "      <td>0.000000</td>\n",
       "      <td>0.000000</td>\n",
       "      <td>0.000000</td>\n",
       "      <td>0.000000</td>\n",
       "      <td>0.000000</td>\n",
       "      <td>0.000000</td>\n",
       "      <td>0.067465</td>\n",
       "    </tr>\n",
       "    <tr>\n",
       "      <th>25%</th>\n",
       "      <td>0.000000</td>\n",
       "      <td>0.000000</td>\n",
       "      <td>0.000000</td>\n",
       "      <td>0.000000</td>\n",
       "      <td>0.000000</td>\n",
       "      <td>0.000000</td>\n",
       "      <td>0.000000</td>\n",
       "      <td>0.000000</td>\n",
       "      <td>0.000000</td>\n",
       "      <td>0.000000</td>\n",
       "      <td>...</td>\n",
       "      <td>0.000000</td>\n",
       "      <td>0.000000</td>\n",
       "      <td>0.000000</td>\n",
       "      <td>0.000000</td>\n",
       "      <td>0.000000</td>\n",
       "      <td>0.000000</td>\n",
       "      <td>0.000000</td>\n",
       "      <td>0.000000</td>\n",
       "      <td>0.000000</td>\n",
       "      <td>0.069678</td>\n",
       "    </tr>\n",
       "    <tr>\n",
       "      <th>50%</th>\n",
       "      <td>0.244604</td>\n",
       "      <td>0.328676</td>\n",
       "      <td>0.203556</td>\n",
       "      <td>0.105287</td>\n",
       "      <td>0.070425</td>\n",
       "      <td>0.010564</td>\n",
       "      <td>0.244604</td>\n",
       "      <td>0.453065</td>\n",
       "      <td>0.552100</td>\n",
       "      <td>0.614442</td>\n",
       "      <td>...</td>\n",
       "      <td>1.000000</td>\n",
       "      <td>1.000000</td>\n",
       "      <td>1.000000</td>\n",
       "      <td>0.470668</td>\n",
       "      <td>0.610078</td>\n",
       "      <td>0.679015</td>\n",
       "      <td>0.686908</td>\n",
       "      <td>0.690911</td>\n",
       "      <td>0.691722</td>\n",
       "      <td>0.171493</td>\n",
       "    </tr>\n",
       "    <tr>\n",
       "      <th>75%</th>\n",
       "      <td>0.616912</td>\n",
       "      <td>0.381786</td>\n",
       "      <td>0.292647</td>\n",
       "      <td>0.166131</td>\n",
       "      <td>0.114017</td>\n",
       "      <td>0.017103</td>\n",
       "      <td>0.616912</td>\n",
       "      <td>0.785555</td>\n",
       "      <td>0.820169</td>\n",
       "      <td>0.821097</td>\n",
       "      <td>...</td>\n",
       "      <td>1.000000</td>\n",
       "      <td>1.000000</td>\n",
       "      <td>1.000000</td>\n",
       "      <td>0.840646</td>\n",
       "      <td>0.931646</td>\n",
       "      <td>0.951915</td>\n",
       "      <td>0.951915</td>\n",
       "      <td>0.951915</td>\n",
       "      <td>0.951915</td>\n",
       "      <td>0.347719</td>\n",
       "    </tr>\n",
       "    <tr>\n",
       "      <th>max</th>\n",
       "      <td>1.000000</td>\n",
       "      <td>0.961636</td>\n",
       "      <td>0.953529</td>\n",
       "      <td>0.476764</td>\n",
       "      <td>0.346093</td>\n",
       "      <td>0.051914</td>\n",
       "      <td>1.000000</td>\n",
       "      <td>1.000000</td>\n",
       "      <td>1.000000</td>\n",
       "      <td>1.000000</td>\n",
       "      <td>...</td>\n",
       "      <td>1.000000</td>\n",
       "      <td>1.000000</td>\n",
       "      <td>1.000000</td>\n",
       "      <td>1.000000</td>\n",
       "      <td>1.000000</td>\n",
       "      <td>1.000000</td>\n",
       "      <td>1.000000</td>\n",
       "      <td>1.000000</td>\n",
       "      <td>1.000000</td>\n",
       "      <td>6.501266</td>\n",
       "    </tr>\n",
       "  </tbody>\n",
       "</table>\n",
       "<p>8 rows × 31 columns</p>\n",
       "</div>"
      ],
      "text/plain": [
       "       precision@1  precision@3  precision@5  precision@10  precision@15  \\\n",
       "count   263.000000   263.000000   263.000000    263.000000    263.000000   \n",
       "mean      0.342167     0.241610     0.185869      0.107349      0.073556   \n",
       "std       0.354296     0.205735     0.161228      0.097412      0.067937   \n",
       "min       0.000000     0.000000     0.000000      0.000000      0.000000   \n",
       "25%       0.000000     0.000000     0.000000      0.000000      0.000000   \n",
       "50%       0.244604     0.328676     0.203556      0.105287      0.070425   \n",
       "75%       0.616912     0.381786     0.292647      0.166131      0.114017   \n",
       "max       1.000000     0.961636     0.953529      0.476764      0.346093   \n",
       "\n",
       "       precision@100      ndcg@1      ndcg@3      ndcg@5     ndcg@10  ...  \\\n",
       "count     263.000000  263.000000  263.000000  263.000000  263.000000  ...   \n",
       "mean        0.011091    0.341370    0.433022    0.471549    0.492691  ...   \n",
       "std         0.010280    0.353500    0.381461    0.388041    0.388850  ...   \n",
       "min         0.000000    0.000000    0.000000    0.000000    0.000000  ...   \n",
       "25%         0.000000    0.000000    0.000000    0.000000    0.000000  ...   \n",
       "50%         0.010564    0.244604    0.453065    0.552100    0.614442  ...   \n",
       "75%         0.017103    0.616912    0.785555    0.820169    0.821097  ...   \n",
       "max         0.051914    1.000000    1.000000    1.000000    1.000000  ...   \n",
       "\n",
       "        recall@10   recall@15  recall@100  r-precision@1  r-precision@3  \\\n",
       "count  263.000000  263.000000  263.000000     263.000000     262.000000   \n",
       "mean     0.627409    0.637804    0.639640       0.452344       0.518844   \n",
       "std      0.467048    0.470627    0.471692       0.387363       0.411119   \n",
       "min      0.000000    0.000000    0.000000       0.000000       0.000000   \n",
       "25%      0.000000    0.000000    0.000000       0.000000       0.000000   \n",
       "50%      1.000000    1.000000    1.000000       0.470668       0.610078   \n",
       "75%      1.000000    1.000000    1.000000       0.840646       0.931646   \n",
       "max      1.000000    1.000000    1.000000       1.000000       1.000000   \n",
       "\n",
       "       r-precision@5  r-precision@10  r-precision@15  r-precision@100  \\\n",
       "count     262.000000      262.000000      262.000000       262.000000   \n",
       "mean        0.539878        0.546104        0.546576         0.546625   \n",
       "std         0.418112        0.418670        0.418701         0.418701   \n",
       "min         0.000000        0.000000        0.000000         0.000000   \n",
       "25%         0.000000        0.000000        0.000000         0.000000   \n",
       "50%         0.679015        0.686908        0.690911         0.691722   \n",
       "75%         0.951915        0.951915        0.951915         0.951915   \n",
       "max         1.000000        1.000000        1.000000         1.000000   \n",
       "\n",
       "        time_eval  \n",
       "count  263.000000  \n",
       "mean     0.399813  \n",
       "std      0.862810  \n",
       "min      0.067465  \n",
       "25%      0.069678  \n",
       "50%      0.171493  \n",
       "75%      0.347719  \n",
       "max      6.501266  \n",
       "\n",
       "[8 rows x 31 columns]"
      ]
     },
     "execution_count": 10,
     "metadata": {},
     "output_type": "execute_result"
    }
   ],
   "source": [
    "odf = pd.DataFrame(metrics).set_index(\"fold\")\n",
    "paths.save_openpop(odf, ORG_NAME, SPLITS_FREQ, SPLITS_NORMALIZE)\n",
    "odf.describe()"
   ]
  },
  {
   "cell_type": "code",
   "execution_count": 11,
   "id": "944803aa",
   "metadata": {
    "execution": {
     "iopub.execute_input": "2024-09-05T09:55:04.952690Z",
     "iopub.status.busy": "2024-09-05T09:55:04.952591Z",
     "iopub.status.idle": "2024-09-05T09:55:04.978108Z",
     "shell.execute_reply": "2024-09-05T09:55:04.977922Z"
    },
    "papermill": {
     "duration": 0.032256,
     "end_time": "2024-09-05T09:55:04.978773",
     "exception": false,
     "start_time": "2024-09-05T09:55:04.946517",
     "status": "completed"
    },
    "tags": []
   },
   "outputs": [
    {
     "name": "stdout",
     "output_type": "stream",
     "text": [
      "Saved dataframe into /home/daviddavo/recsys4daos/data/output/Aave - Aavegotchi/baseline/perfect_5d_normalize.parquet\n"
     ]
    },
    {
     "data": {
      "text/html": [
       "<div>\n",
       "<style scoped>\n",
       "    .dataframe tbody tr th:only-of-type {\n",
       "        vertical-align: middle;\n",
       "    }\n",
       "\n",
       "    .dataframe tbody tr th {\n",
       "        vertical-align: top;\n",
       "    }\n",
       "\n",
       "    .dataframe thead th {\n",
       "        text-align: right;\n",
       "    }\n",
       "</style>\n",
       "<table border=\"1\" class=\"dataframe\">\n",
       "  <thead>\n",
       "    <tr style=\"text-align: right;\">\n",
       "      <th></th>\n",
       "      <th>precision@1</th>\n",
       "      <th>precision@3</th>\n",
       "      <th>precision@5</th>\n",
       "      <th>precision@10</th>\n",
       "      <th>precision@15</th>\n",
       "      <th>precision@100</th>\n",
       "      <th>ndcg@1</th>\n",
       "      <th>ndcg@3</th>\n",
       "      <th>ndcg@5</th>\n",
       "      <th>ndcg@10</th>\n",
       "      <th>...</th>\n",
       "      <th>recall@10</th>\n",
       "      <th>recall@15</th>\n",
       "      <th>recall@100</th>\n",
       "      <th>r-precision@1</th>\n",
       "      <th>r-precision@3</th>\n",
       "      <th>r-precision@5</th>\n",
       "      <th>r-precision@10</th>\n",
       "      <th>r-precision@15</th>\n",
       "      <th>r-precision@100</th>\n",
       "      <th>time_eval</th>\n",
       "    </tr>\n",
       "  </thead>\n",
       "  <tbody>\n",
       "    <tr>\n",
       "      <th>count</th>\n",
       "      <td>263.000000</td>\n",
       "      <td>263.000000</td>\n",
       "      <td>263.000000</td>\n",
       "      <td>263.000000</td>\n",
       "      <td>263.000000</td>\n",
       "      <td>263.000000</td>\n",
       "      <td>263.000000</td>\n",
       "      <td>263.000000</td>\n",
       "      <td>263.000000</td>\n",
       "      <td>263.000000</td>\n",
       "      <td>...</td>\n",
       "      <td>263.000000</td>\n",
       "      <td>263.000000</td>\n",
       "      <td>263.000000</td>\n",
       "      <td>263.000000</td>\n",
       "      <td>263.000000</td>\n",
       "      <td>263.000000</td>\n",
       "      <td>263.000000</td>\n",
       "      <td>263.000000</td>\n",
       "      <td>263.000000</td>\n",
       "      <td>263.000000</td>\n",
       "    </tr>\n",
       "    <tr>\n",
       "      <th>mean</th>\n",
       "      <td>0.657795</td>\n",
       "      <td>0.335419</td>\n",
       "      <td>0.220190</td>\n",
       "      <td>0.113523</td>\n",
       "      <td>0.075906</td>\n",
       "      <td>0.011389</td>\n",
       "      <td>0.657795</td>\n",
       "      <td>0.657795</td>\n",
       "      <td>0.657795</td>\n",
       "      <td>0.657795</td>\n",
       "      <td>...</td>\n",
       "      <td>0.657530</td>\n",
       "      <td>0.657778</td>\n",
       "      <td>0.657795</td>\n",
       "      <td>0.512787</td>\n",
       "      <td>0.634931</td>\n",
       "      <td>0.653300</td>\n",
       "      <td>0.657530</td>\n",
       "      <td>0.657778</td>\n",
       "      <td>0.657795</td>\n",
       "      <td>0.420420</td>\n",
       "    </tr>\n",
       "    <tr>\n",
       "      <th>std</th>\n",
       "      <td>0.475353</td>\n",
       "      <td>0.273626</td>\n",
       "      <td>0.194464</td>\n",
       "      <td>0.103651</td>\n",
       "      <td>0.069514</td>\n",
       "      <td>0.010432</td>\n",
       "      <td>0.475353</td>\n",
       "      <td>0.475353</td>\n",
       "      <td>0.475353</td>\n",
       "      <td>0.475353</td>\n",
       "      <td>...</td>\n",
       "      <td>0.475163</td>\n",
       "      <td>0.475340</td>\n",
       "      <td>0.475353</td>\n",
       "      <td>0.400529</td>\n",
       "      <td>0.461749</td>\n",
       "      <td>0.472380</td>\n",
       "      <td>0.475163</td>\n",
       "      <td>0.475340</td>\n",
       "      <td>0.475353</td>\n",
       "      <td>0.919317</td>\n",
       "    </tr>\n",
       "    <tr>\n",
       "      <th>min</th>\n",
       "      <td>0.000000</td>\n",
       "      <td>0.000000</td>\n",
       "      <td>0.000000</td>\n",
       "      <td>0.000000</td>\n",
       "      <td>0.000000</td>\n",
       "      <td>0.000000</td>\n",
       "      <td>0.000000</td>\n",
       "      <td>0.000000</td>\n",
       "      <td>0.000000</td>\n",
       "      <td>0.000000</td>\n",
       "      <td>...</td>\n",
       "      <td>0.000000</td>\n",
       "      <td>0.000000</td>\n",
       "      <td>0.000000</td>\n",
       "      <td>0.000000</td>\n",
       "      <td>0.000000</td>\n",
       "      <td>0.000000</td>\n",
       "      <td>0.000000</td>\n",
       "      <td>0.000000</td>\n",
       "      <td>0.000000</td>\n",
       "      <td>0.071303</td>\n",
       "    </tr>\n",
       "    <tr>\n",
       "      <th>25%</th>\n",
       "      <td>0.000000</td>\n",
       "      <td>0.000000</td>\n",
       "      <td>0.000000</td>\n",
       "      <td>0.000000</td>\n",
       "      <td>0.000000</td>\n",
       "      <td>0.000000</td>\n",
       "      <td>0.000000</td>\n",
       "      <td>0.000000</td>\n",
       "      <td>0.000000</td>\n",
       "      <td>0.000000</td>\n",
       "      <td>...</td>\n",
       "      <td>0.000000</td>\n",
       "      <td>0.000000</td>\n",
       "      <td>0.000000</td>\n",
       "      <td>0.000000</td>\n",
       "      <td>0.000000</td>\n",
       "      <td>0.000000</td>\n",
       "      <td>0.000000</td>\n",
       "      <td>0.000000</td>\n",
       "      <td>0.000000</td>\n",
       "      <td>0.073206</td>\n",
       "    </tr>\n",
       "    <tr>\n",
       "      <th>50%</th>\n",
       "      <td>1.000000</td>\n",
       "      <td>0.359763</td>\n",
       "      <td>0.216949</td>\n",
       "      <td>0.108475</td>\n",
       "      <td>0.072316</td>\n",
       "      <td>0.010847</td>\n",
       "      <td>1.000000</td>\n",
       "      <td>1.000000</td>\n",
       "      <td>1.000000</td>\n",
       "      <td>1.000000</td>\n",
       "      <td>...</td>\n",
       "      <td>1.000000</td>\n",
       "      <td>1.000000</td>\n",
       "      <td>1.000000</td>\n",
       "      <td>0.634432</td>\n",
       "      <td>0.948662</td>\n",
       "      <td>0.997076</td>\n",
       "      <td>1.000000</td>\n",
       "      <td>1.000000</td>\n",
       "      <td>1.000000</td>\n",
       "      <td>0.176701</td>\n",
       "    </tr>\n",
       "    <tr>\n",
       "      <th>75%</th>\n",
       "      <td>1.000000</td>\n",
       "      <td>0.546110</td>\n",
       "      <td>0.351864</td>\n",
       "      <td>0.176747</td>\n",
       "      <td>0.117831</td>\n",
       "      <td>0.017675</td>\n",
       "      <td>1.000000</td>\n",
       "      <td>1.000000</td>\n",
       "      <td>1.000000</td>\n",
       "      <td>1.000000</td>\n",
       "      <td>...</td>\n",
       "      <td>1.000000</td>\n",
       "      <td>1.000000</td>\n",
       "      <td>1.000000</td>\n",
       "      <td>0.877207</td>\n",
       "      <td>1.000000</td>\n",
       "      <td>1.000000</td>\n",
       "      <td>1.000000</td>\n",
       "      <td>1.000000</td>\n",
       "      <td>1.000000</td>\n",
       "      <td>0.345829</td>\n",
       "    </tr>\n",
       "    <tr>\n",
       "      <th>max</th>\n",
       "      <td>1.000000</td>\n",
       "      <td>0.968151</td>\n",
       "      <td>0.953529</td>\n",
       "      <td>0.509020</td>\n",
       "      <td>0.346093</td>\n",
       "      <td>0.051914</td>\n",
       "      <td>1.000000</td>\n",
       "      <td>1.000000</td>\n",
       "      <td>1.000000</td>\n",
       "      <td>1.000000</td>\n",
       "      <td>...</td>\n",
       "      <td>1.000000</td>\n",
       "      <td>1.000000</td>\n",
       "      <td>1.000000</td>\n",
       "      <td>1.000000</td>\n",
       "      <td>1.000000</td>\n",
       "      <td>1.000000</td>\n",
       "      <td>1.000000</td>\n",
       "      <td>1.000000</td>\n",
       "      <td>1.000000</td>\n",
       "      <td>7.390668</td>\n",
       "    </tr>\n",
       "  </tbody>\n",
       "</table>\n",
       "<p>8 rows × 31 columns</p>\n",
       "</div>"
      ],
      "text/plain": [
       "       precision@1  precision@3  precision@5  precision@10  precision@15  \\\n",
       "count   263.000000   263.000000   263.000000    263.000000    263.000000   \n",
       "mean      0.657795     0.335419     0.220190      0.113523      0.075906   \n",
       "std       0.475353     0.273626     0.194464      0.103651      0.069514   \n",
       "min       0.000000     0.000000     0.000000      0.000000      0.000000   \n",
       "25%       0.000000     0.000000     0.000000      0.000000      0.000000   \n",
       "50%       1.000000     0.359763     0.216949      0.108475      0.072316   \n",
       "75%       1.000000     0.546110     0.351864      0.176747      0.117831   \n",
       "max       1.000000     0.968151     0.953529      0.509020      0.346093   \n",
       "\n",
       "       precision@100      ndcg@1      ndcg@3      ndcg@5     ndcg@10  ...  \\\n",
       "count     263.000000  263.000000  263.000000  263.000000  263.000000  ...   \n",
       "mean        0.011389    0.657795    0.657795    0.657795    0.657795  ...   \n",
       "std         0.010432    0.475353    0.475353    0.475353    0.475353  ...   \n",
       "min         0.000000    0.000000    0.000000    0.000000    0.000000  ...   \n",
       "25%         0.000000    0.000000    0.000000    0.000000    0.000000  ...   \n",
       "50%         0.010847    1.000000    1.000000    1.000000    1.000000  ...   \n",
       "75%         0.017675    1.000000    1.000000    1.000000    1.000000  ...   \n",
       "max         0.051914    1.000000    1.000000    1.000000    1.000000  ...   \n",
       "\n",
       "        recall@10   recall@15  recall@100  r-precision@1  r-precision@3  \\\n",
       "count  263.000000  263.000000  263.000000     263.000000     263.000000   \n",
       "mean     0.657530    0.657778    0.657795       0.512787       0.634931   \n",
       "std      0.475163    0.475340    0.475353       0.400529       0.461749   \n",
       "min      0.000000    0.000000    0.000000       0.000000       0.000000   \n",
       "25%      0.000000    0.000000    0.000000       0.000000       0.000000   \n",
       "50%      1.000000    1.000000    1.000000       0.634432       0.948662   \n",
       "75%      1.000000    1.000000    1.000000       0.877207       1.000000   \n",
       "max      1.000000    1.000000    1.000000       1.000000       1.000000   \n",
       "\n",
       "       r-precision@5  r-precision@10  r-precision@15  r-precision@100  \\\n",
       "count     263.000000      263.000000      263.000000       263.000000   \n",
       "mean        0.653300        0.657530        0.657778         0.657795   \n",
       "std         0.472380        0.475163        0.475340         0.475353   \n",
       "min         0.000000        0.000000        0.000000         0.000000   \n",
       "25%         0.000000        0.000000        0.000000         0.000000   \n",
       "50%         0.997076        1.000000        1.000000         1.000000   \n",
       "75%         1.000000        1.000000        1.000000         1.000000   \n",
       "max         1.000000        1.000000        1.000000         1.000000   \n",
       "\n",
       "        time_eval  \n",
       "count  263.000000  \n",
       "mean     0.420420  \n",
       "std      0.919317  \n",
       "min      0.071303  \n",
       "25%      0.073206  \n",
       "50%      0.176701  \n",
       "75%      0.345829  \n",
       "max      7.390668  \n",
       "\n",
       "[8 rows x 31 columns]"
      ]
     },
     "metadata": {},
     "output_type": "display_data"
    }
   ],
   "source": [
    "pdf = pd.DataFrame(perfectmetrics).set_index(\"fold\")\n",
    "cols = [ c for c in pdf.columns if not c.startswith('time_') ]\n",
    "paths.save_perfect(pdf, ORG_NAME, SPLITS_FREQ, SPLITS_NORMALIZE)\n",
    "display(pdf.describe())\n",
    "msk = (0 <= pdf[cols].min()) & (pdf[cols].max() <= 1)\n",
    "if not all(msk):\n",
    "    display(pdf.describe()[msk[~msk].index])\n",
    "assert all( msk ), \"There are metrics with wrong range\""
   ]
  },
  {
   "cell_type": "markdown",
   "id": "94cb5209",
   "metadata": {
    "papermill": {
     "duration": 0.00581,
     "end_time": "2024-09-05T09:55:04.990428",
     "exception": false,
     "start_time": "2024-09-05T09:55:04.984618",
     "status": "completed"
    },
    "tags": []
   },
   "source": [
    "## Plotting some graphs"
   ]
  },
  {
   "cell_type": "code",
   "execution_count": 12,
   "id": "a10054b7",
   "metadata": {
    "execution": {
     "iopub.execute_input": "2024-09-05T09:55:05.003405Z",
     "iopub.status.busy": "2024-09-05T09:55:05.003118Z",
     "iopub.status.idle": "2024-09-05T09:55:05.137233Z",
     "shell.execute_reply": "2024-09-05T09:55:05.137012Z"
    },
    "papermill": {
     "duration": 0.141394,
     "end_time": "2024-09-05T09:55:05.137835",
     "exception": false,
     "start_time": "2024-09-05T09:55:04.996441",
     "status": "completed"
    },
    "tags": []
   },
   "outputs": [
    {
     "data": {
      "text/html": [
       "<div>\n",
       "<style scoped>\n",
       "    .dataframe tbody tr th:only-of-type {\n",
       "        vertical-align: middle;\n",
       "    }\n",
       "\n",
       "    .dataframe tbody tr th {\n",
       "        vertical-align: top;\n",
       "    }\n",
       "\n",
       "    .dataframe thead th {\n",
       "        text-align: right;\n",
       "    }\n",
       "</style>\n",
       "<table border=\"1\" class=\"dataframe\">\n",
       "  <thead>\n",
       "    <tr style=\"text-align: right;\">\n",
       "      <th></th>\n",
       "      <th>fold</th>\n",
       "      <th>precision@1</th>\n",
       "      <th>precision@3</th>\n",
       "      <th>precision@5</th>\n",
       "      <th>precision@10</th>\n",
       "      <th>precision@15</th>\n",
       "      <th>precision@100</th>\n",
       "      <th>ndcg@1</th>\n",
       "      <th>ndcg@3</th>\n",
       "      <th>ndcg@5</th>\n",
       "      <th>...</th>\n",
       "      <th>recall@100</th>\n",
       "      <th>r-precision@1</th>\n",
       "      <th>r-precision@3</th>\n",
       "      <th>r-precision@5</th>\n",
       "      <th>r-precision@10</th>\n",
       "      <th>r-precision@15</th>\n",
       "      <th>r-precision@100</th>\n",
       "      <th>time_eval</th>\n",
       "      <th>perfect precision@5</th>\n",
       "      <th>perfect precision@10</th>\n",
       "    </tr>\n",
       "  </thead>\n",
       "  <tbody>\n",
       "    <tr>\n",
       "      <th>count</th>\n",
       "      <td>263</td>\n",
       "      <td>263.000000</td>\n",
       "      <td>263.000000</td>\n",
       "      <td>263.000000</td>\n",
       "      <td>263.000000</td>\n",
       "      <td>263.000000</td>\n",
       "      <td>263.000000</td>\n",
       "      <td>263.000000</td>\n",
       "      <td>263.000000</td>\n",
       "      <td>263.000000</td>\n",
       "      <td>...</td>\n",
       "      <td>263.000000</td>\n",
       "      <td>263.000000</td>\n",
       "      <td>262.000000</td>\n",
       "      <td>262.000000</td>\n",
       "      <td>262.000000</td>\n",
       "      <td>262.000000</td>\n",
       "      <td>262.000000</td>\n",
       "      <td>263.000000</td>\n",
       "      <td>0.0</td>\n",
       "      <td>0.0</td>\n",
       "    </tr>\n",
       "    <tr>\n",
       "      <th>mean</th>\n",
       "      <td>2021-09-28 00:00:00</td>\n",
       "      <td>0.342167</td>\n",
       "      <td>0.241610</td>\n",
       "      <td>0.185869</td>\n",
       "      <td>0.107349</td>\n",
       "      <td>0.073556</td>\n",
       "      <td>0.011091</td>\n",
       "      <td>0.341370</td>\n",
       "      <td>0.433022</td>\n",
       "      <td>0.471549</td>\n",
       "      <td>...</td>\n",
       "      <td>0.639640</td>\n",
       "      <td>0.452344</td>\n",
       "      <td>0.518844</td>\n",
       "      <td>0.539878</td>\n",
       "      <td>0.546104</td>\n",
       "      <td>0.546576</td>\n",
       "      <td>0.546625</td>\n",
       "      <td>0.399813</td>\n",
       "      <td>NaN</td>\n",
       "      <td>NaN</td>\n",
       "    </tr>\n",
       "    <tr>\n",
       "      <th>min</th>\n",
       "      <td>2019-12-13 00:00:00</td>\n",
       "      <td>0.000000</td>\n",
       "      <td>0.000000</td>\n",
       "      <td>0.000000</td>\n",
       "      <td>0.000000</td>\n",
       "      <td>0.000000</td>\n",
       "      <td>0.000000</td>\n",
       "      <td>0.000000</td>\n",
       "      <td>0.000000</td>\n",
       "      <td>0.000000</td>\n",
       "      <td>...</td>\n",
       "      <td>0.000000</td>\n",
       "      <td>0.000000</td>\n",
       "      <td>0.000000</td>\n",
       "      <td>0.000000</td>\n",
       "      <td>0.000000</td>\n",
       "      <td>0.000000</td>\n",
       "      <td>0.000000</td>\n",
       "      <td>0.067465</td>\n",
       "      <td>NaN</td>\n",
       "      <td>NaN</td>\n",
       "    </tr>\n",
       "    <tr>\n",
       "      <th>25%</th>\n",
       "      <td>2020-11-04 12:00:00</td>\n",
       "      <td>0.000000</td>\n",
       "      <td>0.000000</td>\n",
       "      <td>0.000000</td>\n",
       "      <td>0.000000</td>\n",
       "      <td>0.000000</td>\n",
       "      <td>0.000000</td>\n",
       "      <td>0.000000</td>\n",
       "      <td>0.000000</td>\n",
       "      <td>0.000000</td>\n",
       "      <td>...</td>\n",
       "      <td>0.000000</td>\n",
       "      <td>0.000000</td>\n",
       "      <td>0.000000</td>\n",
       "      <td>0.000000</td>\n",
       "      <td>0.000000</td>\n",
       "      <td>0.000000</td>\n",
       "      <td>0.000000</td>\n",
       "      <td>0.069678</td>\n",
       "      <td>NaN</td>\n",
       "      <td>NaN</td>\n",
       "    </tr>\n",
       "    <tr>\n",
       "      <th>50%</th>\n",
       "      <td>2021-09-28 00:00:00</td>\n",
       "      <td>0.244604</td>\n",
       "      <td>0.328676</td>\n",
       "      <td>0.203556</td>\n",
       "      <td>0.105287</td>\n",
       "      <td>0.070425</td>\n",
       "      <td>0.010564</td>\n",
       "      <td>0.244604</td>\n",
       "      <td>0.453065</td>\n",
       "      <td>0.552100</td>\n",
       "      <td>...</td>\n",
       "      <td>1.000000</td>\n",
       "      <td>0.470668</td>\n",
       "      <td>0.610078</td>\n",
       "      <td>0.679015</td>\n",
       "      <td>0.686908</td>\n",
       "      <td>0.690911</td>\n",
       "      <td>0.691722</td>\n",
       "      <td>0.171493</td>\n",
       "      <td>NaN</td>\n",
       "      <td>NaN</td>\n",
       "    </tr>\n",
       "    <tr>\n",
       "      <th>75%</th>\n",
       "      <td>2022-08-21 12:00:00</td>\n",
       "      <td>0.616912</td>\n",
       "      <td>0.381786</td>\n",
       "      <td>0.292647</td>\n",
       "      <td>0.166131</td>\n",
       "      <td>0.114017</td>\n",
       "      <td>0.017103</td>\n",
       "      <td>0.616912</td>\n",
       "      <td>0.785555</td>\n",
       "      <td>0.820169</td>\n",
       "      <td>...</td>\n",
       "      <td>1.000000</td>\n",
       "      <td>0.840646</td>\n",
       "      <td>0.931646</td>\n",
       "      <td>0.951915</td>\n",
       "      <td>0.951915</td>\n",
       "      <td>0.951915</td>\n",
       "      <td>0.951915</td>\n",
       "      <td>0.347719</td>\n",
       "      <td>NaN</td>\n",
       "      <td>NaN</td>\n",
       "    </tr>\n",
       "    <tr>\n",
       "      <th>max</th>\n",
       "      <td>2023-07-15 00:00:00</td>\n",
       "      <td>1.000000</td>\n",
       "      <td>0.961636</td>\n",
       "      <td>0.953529</td>\n",
       "      <td>0.476764</td>\n",
       "      <td>0.346093</td>\n",
       "      <td>0.051914</td>\n",
       "      <td>1.000000</td>\n",
       "      <td>1.000000</td>\n",
       "      <td>1.000000</td>\n",
       "      <td>...</td>\n",
       "      <td>1.000000</td>\n",
       "      <td>1.000000</td>\n",
       "      <td>1.000000</td>\n",
       "      <td>1.000000</td>\n",
       "      <td>1.000000</td>\n",
       "      <td>1.000000</td>\n",
       "      <td>1.000000</td>\n",
       "      <td>6.501266</td>\n",
       "      <td>NaN</td>\n",
       "      <td>NaN</td>\n",
       "    </tr>\n",
       "    <tr>\n",
       "      <th>std</th>\n",
       "      <td>NaN</td>\n",
       "      <td>0.354296</td>\n",
       "      <td>0.205735</td>\n",
       "      <td>0.161228</td>\n",
       "      <td>0.097412</td>\n",
       "      <td>0.067937</td>\n",
       "      <td>0.010280</td>\n",
       "      <td>0.353500</td>\n",
       "      <td>0.381461</td>\n",
       "      <td>0.388041</td>\n",
       "      <td>...</td>\n",
       "      <td>0.471692</td>\n",
       "      <td>0.387363</td>\n",
       "      <td>0.411119</td>\n",
       "      <td>0.418112</td>\n",
       "      <td>0.418670</td>\n",
       "      <td>0.418701</td>\n",
       "      <td>0.418701</td>\n",
       "      <td>0.862810</td>\n",
       "      <td>NaN</td>\n",
       "      <td>NaN</td>\n",
       "    </tr>\n",
       "  </tbody>\n",
       "</table>\n",
       "<p>8 rows × 34 columns</p>\n",
       "</div>"
      ],
      "text/plain": [
       "                      fold  precision@1  precision@3  precision@5  \\\n",
       "count                  263   263.000000   263.000000   263.000000   \n",
       "mean   2021-09-28 00:00:00     0.342167     0.241610     0.185869   \n",
       "min    2019-12-13 00:00:00     0.000000     0.000000     0.000000   \n",
       "25%    2020-11-04 12:00:00     0.000000     0.000000     0.000000   \n",
       "50%    2021-09-28 00:00:00     0.244604     0.328676     0.203556   \n",
       "75%    2022-08-21 12:00:00     0.616912     0.381786     0.292647   \n",
       "max    2023-07-15 00:00:00     1.000000     0.961636     0.953529   \n",
       "std                    NaN     0.354296     0.205735     0.161228   \n",
       "\n",
       "       precision@10  precision@15  precision@100      ndcg@1      ndcg@3  \\\n",
       "count    263.000000    263.000000     263.000000  263.000000  263.000000   \n",
       "mean       0.107349      0.073556       0.011091    0.341370    0.433022   \n",
       "min        0.000000      0.000000       0.000000    0.000000    0.000000   \n",
       "25%        0.000000      0.000000       0.000000    0.000000    0.000000   \n",
       "50%        0.105287      0.070425       0.010564    0.244604    0.453065   \n",
       "75%        0.166131      0.114017       0.017103    0.616912    0.785555   \n",
       "max        0.476764      0.346093       0.051914    1.000000    1.000000   \n",
       "std        0.097412      0.067937       0.010280    0.353500    0.381461   \n",
       "\n",
       "           ndcg@5  ...  recall@100  r-precision@1  r-precision@3  \\\n",
       "count  263.000000  ...  263.000000     263.000000     262.000000   \n",
       "mean     0.471549  ...    0.639640       0.452344       0.518844   \n",
       "min      0.000000  ...    0.000000       0.000000       0.000000   \n",
       "25%      0.000000  ...    0.000000       0.000000       0.000000   \n",
       "50%      0.552100  ...    1.000000       0.470668       0.610078   \n",
       "75%      0.820169  ...    1.000000       0.840646       0.931646   \n",
       "max      1.000000  ...    1.000000       1.000000       1.000000   \n",
       "std      0.388041  ...    0.471692       0.387363       0.411119   \n",
       "\n",
       "       r-precision@5  r-precision@10  r-precision@15  r-precision@100  \\\n",
       "count     262.000000      262.000000      262.000000       262.000000   \n",
       "mean        0.539878        0.546104        0.546576         0.546625   \n",
       "min         0.000000        0.000000        0.000000         0.000000   \n",
       "25%         0.000000        0.000000        0.000000         0.000000   \n",
       "50%         0.679015        0.686908        0.690911         0.691722   \n",
       "75%         0.951915        0.951915        0.951915         0.951915   \n",
       "max         1.000000        1.000000        1.000000         1.000000   \n",
       "std         0.418112        0.418670        0.418701         0.418701   \n",
       "\n",
       "        time_eval  perfect precision@5  perfect precision@10  \n",
       "count  263.000000                  0.0                   0.0  \n",
       "mean     0.399813                  NaN                   NaN  \n",
       "min      0.067465                  NaN                   NaN  \n",
       "25%      0.069678                  NaN                   NaN  \n",
       "50%      0.171493                  NaN                   NaN  \n",
       "75%      0.347719                  NaN                   NaN  \n",
       "max      6.501266                  NaN                   NaN  \n",
       "std      0.862810                  NaN                   NaN  \n",
       "\n",
       "[8 rows x 34 columns]"
      ]
     },
     "execution_count": 12,
     "metadata": {},
     "output_type": "execute_result"
    },
    {
     "data": {
      "image/png": "[encoded data removed]",
      "text/plain": [
       "<Figure size 640x480 with 1 Axes>"
      ]
     },
     "metadata": {},
     "output_type": "display_data"
    }
   ],
   "source": [
    "mdf = pd.DataFrame(metrics)\n",
    "mdf['perfect precision@5'] = pdf['precision@5']\n",
    "mdf['perfect precision@10'] = pdf['precision@10']\n",
    "mdf[['precision@5', 'perfect precision@5', 'precision@10', 'perfect precision@10']].plot(title='Evaluación modelo baseline MP')\n",
    "mdf.describe()"
   ]
  },
  {
   "cell_type": "code",
   "execution_count": 13,
   "id": "f2ac168a",
   "metadata": {
    "execution": {
     "iopub.execute_input": "2024-09-05T09:55:05.151338Z",
     "iopub.status.busy": "2024-09-05T09:55:05.151235Z",
     "iopub.status.idle": "2024-09-05T09:55:05.352094Z",
     "shell.execute_reply": "2024-09-05T09:55:05.351875Z"
    },
    "papermill": {
     "duration": 0.208414,
     "end_time": "2024-09-05T09:55:05.352831",
     "exception": false,
     "start_time": "2024-09-05T09:55:05.144417",
     "status": "completed"
    },
    "tags": []
   },
   "outputs": [
    {
     "data": {
      "text/html": [
       "<div>\n",
       "<style scoped>\n",
       "    .dataframe tbody tr th:only-of-type {\n",
       "        vertical-align: middle;\n",
       "    }\n",
       "\n",
       "    .dataframe tbody tr th {\n",
       "        vertical-align: top;\n",
       "    }\n",
       "\n",
       "    .dataframe thead th {\n",
       "        text-align: right;\n",
       "    }\n",
       "</style>\n",
       "<table border=\"1\" class=\"dataframe\">\n",
       "  <thead>\n",
       "    <tr style=\"text-align: right;\">\n",
       "      <th></th>\n",
       "      <th>fold</th>\n",
       "      <th>precision@1</th>\n",
       "      <th>precision@3</th>\n",
       "      <th>precision@5</th>\n",
       "      <th>precision@10</th>\n",
       "      <th>precision@15</th>\n",
       "      <th>precision@100</th>\n",
       "      <th>ndcg@1</th>\n",
       "      <th>ndcg@3</th>\n",
       "      <th>ndcg@5</th>\n",
       "      <th>...</th>\n",
       "      <th>recall@100</th>\n",
       "      <th>r-precision@1</th>\n",
       "      <th>r-precision@3</th>\n",
       "      <th>r-precision@5</th>\n",
       "      <th>r-precision@10</th>\n",
       "      <th>r-precision@15</th>\n",
       "      <th>r-precision@100</th>\n",
       "      <th>time_eval</th>\n",
       "      <th>perfect precision@5</th>\n",
       "      <th>perfect precision@10</th>\n",
       "    </tr>\n",
       "  </thead>\n",
       "  <tbody>\n",
       "    <tr>\n",
       "      <th>count</th>\n",
       "      <td>10</td>\n",
       "      <td>10.000000</td>\n",
       "      <td>10.000000</td>\n",
       "      <td>10.000000</td>\n",
       "      <td>10.000000</td>\n",
       "      <td>10.000000</td>\n",
       "      <td>10.000000</td>\n",
       "      <td>10.000000</td>\n",
       "      <td>10.000000</td>\n",
       "      <td>10.000000</td>\n",
       "      <td>...</td>\n",
       "      <td>10.000000</td>\n",
       "      <td>10.000000</td>\n",
       "      <td>10.000000</td>\n",
       "      <td>10.000000</td>\n",
       "      <td>10.000000</td>\n",
       "      <td>10.000000</td>\n",
       "      <td>10.000000</td>\n",
       "      <td>10.000000</td>\n",
       "      <td>0.0</td>\n",
       "      <td>0.0</td>\n",
       "    </tr>\n",
       "    <tr>\n",
       "      <th>mean</th>\n",
       "      <td>2023-06-22 12:00:00</td>\n",
       "      <td>0.317190</td>\n",
       "      <td>0.317816</td>\n",
       "      <td>0.288777</td>\n",
       "      <td>0.183101</td>\n",
       "      <td>0.125662</td>\n",
       "      <td>0.018849</td>\n",
       "      <td>0.315270</td>\n",
       "      <td>0.450517</td>\n",
       "      <td>0.545863</td>\n",
       "      <td>...</td>\n",
       "      <td>0.859696</td>\n",
       "      <td>0.511116</td>\n",
       "      <td>0.603722</td>\n",
       "      <td>0.665269</td>\n",
       "      <td>0.669817</td>\n",
       "      <td>0.669817</td>\n",
       "      <td>0.669817</td>\n",
       "      <td>0.818719</td>\n",
       "      <td>NaN</td>\n",
       "      <td>NaN</td>\n",
       "    </tr>\n",
       "    <tr>\n",
       "      <th>min</th>\n",
       "      <td>2023-05-31 00:00:00</td>\n",
       "      <td>0.000000</td>\n",
       "      <td>0.000000</td>\n",
       "      <td>0.000000</td>\n",
       "      <td>0.000000</td>\n",
       "      <td>0.000000</td>\n",
       "      <td>0.000000</td>\n",
       "      <td>0.000000</td>\n",
       "      <td>0.000000</td>\n",
       "      <td>0.000000</td>\n",
       "      <td>...</td>\n",
       "      <td>0.000000</td>\n",
       "      <td>0.000000</td>\n",
       "      <td>0.000000</td>\n",
       "      <td>0.000000</td>\n",
       "      <td>0.000000</td>\n",
       "      <td>0.000000</td>\n",
       "      <td>0.000000</td>\n",
       "      <td>0.069665</td>\n",
       "      <td>NaN</td>\n",
       "      <td>NaN</td>\n",
       "    </tr>\n",
       "    <tr>\n",
       "      <th>25%</th>\n",
       "      <td>2023-06-11 06:00:00</td>\n",
       "      <td>0.138032</td>\n",
       "      <td>0.248221</td>\n",
       "      <td>0.217416</td>\n",
       "      <td>0.128025</td>\n",
       "      <td>0.085350</td>\n",
       "      <td>0.012802</td>\n",
       "      <td>0.138032</td>\n",
       "      <td>0.281046</td>\n",
       "      <td>0.447367</td>\n",
       "      <td>...</td>\n",
       "      <td>1.000000</td>\n",
       "      <td>0.354941</td>\n",
       "      <td>0.463679</td>\n",
       "      <td>0.531660</td>\n",
       "      <td>0.575494</td>\n",
       "      <td>0.575494</td>\n",
       "      <td>0.575494</td>\n",
       "      <td>0.405773</td>\n",
       "      <td>NaN</td>\n",
       "      <td>NaN</td>\n",
       "    </tr>\n",
       "    <tr>\n",
       "      <th>50%</th>\n",
       "      <td>2023-06-22 12:00:00</td>\n",
       "      <td>0.274652</td>\n",
       "      <td>0.324022</td>\n",
       "      <td>0.316327</td>\n",
       "      <td>0.176908</td>\n",
       "      <td>0.117938</td>\n",
       "      <td>0.017691</td>\n",
       "      <td>0.274652</td>\n",
       "      <td>0.533788</td>\n",
       "      <td>0.611794</td>\n",
       "      <td>...</td>\n",
       "      <td>1.000000</td>\n",
       "      <td>0.522883</td>\n",
       "      <td>0.632637</td>\n",
       "      <td>0.640868</td>\n",
       "      <td>0.640868</td>\n",
       "      <td>0.640868</td>\n",
       "      <td>0.640868</td>\n",
       "      <td>0.486306</td>\n",
       "      <td>NaN</td>\n",
       "      <td>NaN</td>\n",
       "    </tr>\n",
       "    <tr>\n",
       "      <th>75%</th>\n",
       "      <td>2023-07-03 18:00:00</td>\n",
       "      <td>0.436515</td>\n",
       "      <td>0.395800</td>\n",
       "      <td>0.367190</td>\n",
       "      <td>0.221430</td>\n",
       "      <td>0.147620</td>\n",
       "      <td>0.022143</td>\n",
       "      <td>0.436515</td>\n",
       "      <td>0.644431</td>\n",
       "      <td>0.727951</td>\n",
       "      <td>...</td>\n",
       "      <td>1.000000</td>\n",
       "      <td>0.690470</td>\n",
       "      <td>0.800210</td>\n",
       "      <td>0.885367</td>\n",
       "      <td>0.885367</td>\n",
       "      <td>0.885367</td>\n",
       "      <td>0.885367</td>\n",
       "      <td>0.841969</td>\n",
       "      <td>NaN</td>\n",
       "      <td>NaN</td>\n",
       "    </tr>\n",
       "    <tr>\n",
       "      <th>max</th>\n",
       "      <td>2023-07-15 00:00:00</td>\n",
       "      <td>0.850420</td>\n",
       "      <td>0.559275</td>\n",
       "      <td>0.446931</td>\n",
       "      <td>0.336932</td>\n",
       "      <td>0.260573</td>\n",
       "      <td>0.039086</td>\n",
       "      <td>0.850420</td>\n",
       "      <td>0.737810</td>\n",
       "      <td>0.820263</td>\n",
       "      <td>...</td>\n",
       "      <td>1.000000</td>\n",
       "      <td>0.988281</td>\n",
       "      <td>1.000000</td>\n",
       "      <td>1.000000</td>\n",
       "      <td>1.000000</td>\n",
       "      <td>1.000000</td>\n",
       "      <td>1.000000</td>\n",
       "      <td>3.529701</td>\n",
       "      <td>NaN</td>\n",
       "      <td>NaN</td>\n",
       "    </tr>\n",
       "    <tr>\n",
       "      <th>std</th>\n",
       "      <td>NaN</td>\n",
       "      <td>0.254062</td>\n",
       "      <td>0.156695</td>\n",
       "      <td>0.132477</td>\n",
       "      <td>0.102099</td>\n",
       "      <td>0.074710</td>\n",
       "      <td>0.011206</td>\n",
       "      <td>0.252101</td>\n",
       "      <td>0.240445</td>\n",
       "      <td>0.259633</td>\n",
       "      <td>...</td>\n",
       "      <td>0.327548</td>\n",
       "      <td>0.284841</td>\n",
       "      <td>0.304000</td>\n",
       "      <td>0.299615</td>\n",
       "      <td>0.297131</td>\n",
       "      <td>0.297131</td>\n",
       "      <td>0.297131</td>\n",
       "      <td>0.998635</td>\n",
       "      <td>NaN</td>\n",
       "      <td>NaN</td>\n",
       "    </tr>\n",
       "  </tbody>\n",
       "</table>\n",
       "<p>8 rows × 34 columns</p>\n",
       "</div>"
      ],
      "text/plain": [
       "                      fold  precision@1  precision@3  precision@5  \\\n",
       "count                   10    10.000000    10.000000    10.000000   \n",
       "mean   2023-06-22 12:00:00     0.317190     0.317816     0.288777   \n",
       "min    2023-05-31 00:00:00     0.000000     0.000000     0.000000   \n",
       "25%    2023-06-11 06:00:00     0.138032     0.248221     0.217416   \n",
       "50%    2023-06-22 12:00:00     0.274652     0.324022     0.316327   \n",
       "75%    2023-07-03 18:00:00     0.436515     0.395800     0.367190   \n",
       "max    2023-07-15 00:00:00     0.850420     0.559275     0.446931   \n",
       "std                    NaN     0.254062     0.156695     0.132477   \n",
       "\n",
       "       precision@10  precision@15  precision@100     ndcg@1     ndcg@3  \\\n",
       "count     10.000000     10.000000      10.000000  10.000000  10.000000   \n",
       "mean       0.183101      0.125662       0.018849   0.315270   0.450517   \n",
       "min        0.000000      0.000000       0.000000   0.000000   0.000000   \n",
       "25%        0.128025      0.085350       0.012802   0.138032   0.281046   \n",
       "50%        0.176908      0.117938       0.017691   0.274652   0.533788   \n",
       "75%        0.221430      0.147620       0.022143   0.436515   0.644431   \n",
       "max        0.336932      0.260573       0.039086   0.850420   0.737810   \n",
       "std        0.102099      0.074710       0.011206   0.252101   0.240445   \n",
       "\n",
       "          ndcg@5  ...  recall@100  r-precision@1  r-precision@3  \\\n",
       "count  10.000000  ...   10.000000      10.000000      10.000000   \n",
       "mean    0.545863  ...    0.859696       0.511116       0.603722   \n",
       "min     0.000000  ...    0.000000       0.000000       0.000000   \n",
       "25%     0.447367  ...    1.000000       0.354941       0.463679   \n",
       "50%     0.611794  ...    1.000000       0.522883       0.632637   \n",
       "75%     0.727951  ...    1.000000       0.690470       0.800210   \n",
       "max     0.820263  ...    1.000000       0.988281       1.000000   \n",
       "std     0.259633  ...    0.327548       0.284841       0.304000   \n",
       "\n",
       "       r-precision@5  r-precision@10  r-precision@15  r-precision@100  \\\n",
       "count      10.000000       10.000000       10.000000        10.000000   \n",
       "mean        0.665269        0.669817        0.669817         0.669817   \n",
       "min         0.000000        0.000000        0.000000         0.000000   \n",
       "25%         0.531660        0.575494        0.575494         0.575494   \n",
       "50%         0.640868        0.640868        0.640868         0.640868   \n",
       "75%         0.885367        0.885367        0.885367         0.885367   \n",
       "max         1.000000        1.000000        1.000000         1.000000   \n",
       "std         0.299615        0.297131        0.297131         0.297131   \n",
       "\n",
       "       time_eval  perfect precision@5  perfect precision@10  \n",
       "count  10.000000                  0.0                   0.0  \n",
       "mean    0.818719                  NaN                   NaN  \n",
       "min     0.069665                  NaN                   NaN  \n",
       "25%     0.405773                  NaN                   NaN  \n",
       "50%     0.486306                  NaN                   NaN  \n",
       "75%     0.841969                  NaN                   NaN  \n",
       "max     3.529701                  NaN                   NaN  \n",
       "std     0.998635                  NaN                   NaN  \n",
       "\n",
       "[8 rows x 34 columns]"
      ]
     },
     "execution_count": 13,
     "metadata": {},
     "output_type": "execute_result"
    }
   ],
   "source": [
    "mdf[-LAST_FOLDS:].describe()"
   ]
  },
  {
   "cell_type": "code",
   "execution_count": null,
   "id": "8762b222",
   "metadata": {
    "papermill": {
     "duration": 0.006445,
     "end_time": "2024-09-05T09:55:05.365968",
     "exception": false,
     "start_time": "2024-09-05T09:55:05.359523",
     "status": "completed"
    },
    "tags": []
   },
   "outputs": [],
   "source": []
  }
 ],
 "metadata": {
  "kernelspec": {
   "display_name": "Python 3 (ipykernel)",
   "language": "python",
   "name": "python3"
  },
  "language_info": {
   "codemirror_mode": {
    "name": "ipython",
    "version": 3
   },
   "file_extension": ".py",
   "mimetype": "text/x-python",
   "name": "python",
   "nbconvert_exporter": "python",
   "pygments_lexer": "ipython3",
   "version": "3.11.6"
  },
  "papermill": {
   "default_parameters": {},
   "duration": 397.100955,
   "end_time": "2024-09-05T09:55:06.792050",
   "environment_variables": {},
   "exception": null,
   "input_path": "10_baseline.ipynb",
   "output_path": "../nbout/Aave - Aavegotchi/10_baseline.ipynb",
   "parameters": {
    "EXECUTION_ID": "2024-09-04T10:00",
    "LAST_FOLDS": 10,
    "LAST_FOLD_DATE_STR": "2023-05-01",
    "MODEL_NAMES": [
     "all-MiniLM-L12-v2"
    ],
    "ORG_NAME": "Aave - Aavegotchi",
    "SPLITS_FREQ": "5d",
    "SPLITS_NORMALIZE": true,
    "WINDOW_SIZES": [
     "1d",
     "7d",
     "14d"
    ]
   },
   "start_time": "2024-09-05T09:48:29.691095",
   "version": "2.6.0"
  },
  "widgets": {
   "application/vnd.jupyter.widget-state+json": {
    "state": {
     "0c9c08454e144f699defd3f7395eba52": {
      "model_module": "@jupyter-widgets/controls",
      "model_module_version": "2.0.0",
      "model_name": "HBoxModel",
      "state": {
       "_dom_classes": [],
       "_model_module": "@jupyter-widgets/controls",
       "_model_module_version": "2.0.0",
       "_model_name": "HBoxModel",
       "_view_count": null,
       "_view_module": "@jupyter-widgets/controls",
       "_view_module_version": "2.0.0",
       "_view_name": "HBoxView",
       "box_style": "",
       "children": [
        "IPY_MODEL_7f5bba0deec64a84bcd4b4e7b84702fb",
        "IPY_MODEL_13254af624e2458f9642a0cd35b72c86",
        "IPY_MODEL_50fcda4649c341548bcbe6d5da92e1a5"
       ],
       "layout": "IPY_MODEL_ab108e03a0944e0a98f72e563db7c56f",
       "tabbable": null,
       "tooltip": null
      }
     },
     "13254af624e2458f9642a0cd35b72c86": {
      "model_module": "@jupyter-widgets/controls",
      "model_module_version": "2.0.0",
      "model_name": "FloatProgressModel",
      "state": {
       "_dom_classes": [],
       "_model_module": "@jupyter-widgets/controls",
       "_model_module_version": "2.0.0",
       "_model_name": "FloatProgressModel",
       "_view_count": null,
       "_view_module": "@jupyter-widgets/controls",
       "_view_module_version": "2.0.0",
       "_view_name": "ProgressView",
       "bar_style": "success",
       "description": "",
       "description_allow_html": false,
       "layout": "IPY_MODEL_8b149766dd424509aeb779848852d43f",
       "max": 263.0,
       "min": 0.0,
       "orientation": "horizontal",
       "style": "IPY_MODEL_6ec828143d1448d1b6ba1cb0033bdf49",
       "tabbable": null,
       "tooltip": null,
       "value": 263.0
      }
     },
     "50fcda4649c341548bcbe6d5da92e1a5": {
      "model_module": "@jupyter-widgets/controls",
      "model_module_version": "2.0.0",
      "model_name": "HTMLModel",
      "state": {
       "_dom_classes": [],
       "_model_module": "@jupyter-widgets/controls",
       "_model_module_version": "2.0.0",
       "_model_name": "HTMLModel",
       "_view_count": null,
       "_view_module": "@jupyter-widgets/controls",
       "_view_module_version": "2.0.0",
       "_view_name": "HTMLView",
       "description": "",
       "description_allow_html": false,
       "layout": "IPY_MODEL_bdfb02f6f6354532afcb6186c8f67bab",
       "placeholder": "​",
       "style": "IPY_MODEL_fbbc0c1f08b5437e9056c236ddd724cb",
       "tabbable": null,
       "tooltip": null,
       "value": " 263/263 [03:55&lt;00:00,  2.52s/it]"
      }
     },
     "6b99dc5a3c954debb652cc18beb0bed8": {
      "model_module": "@jupyter-widgets/base",
      "model_module_version": "2.0.0",
      "model_name": "LayoutModel",
      "state": {
       "_model_module": "@jupyter-widgets/base",
       "_model_module_version": "2.0.0",
       "_model_name": "LayoutModel",
       "_view_count": null,
       "_view_module": "@jupyter-widgets/base",
       "_view_module_version": "2.0.0",
       "_view_name": "LayoutView",
       "align_content": null,
       "align_items": null,
       "align_self": null,
       "border_bottom": null,
       "border_left": null,
       "border_right": null,
       "border_top": null,
       "bottom": null,
       "display": null,
       "flex": null,
       "flex_flow": null,
       "grid_area": null,
       "grid_auto_columns": null,
       "grid_auto_flow": null,
       "grid_auto_rows": null,
       "grid_column": null,
       "grid_gap": null,
       "grid_row": null,
       "grid_template_areas": null,
       "grid_template_columns": null,
       "grid_template_rows": null,
       "height": null,
       "justify_content": null,
       "justify_items": null,
       "left": null,
       "margin": null,
       "max_height": null,
       "max_width": null,
       "min_height": null,
       "min_width": null,
       "object_fit": null,
       "object_position": null,
       "order": null,
       "overflow": null,
       "padding": null,
       "right": null,
       "top": null,
       "visibility": null,
       "width": null
      }
     },
     "6ec828143d1448d1b6ba1cb0033bdf49": {
      "model_module": "@jupyter-widgets/controls",
      "model_module_version": "2.0.0",
      "model_name": "ProgressStyleModel",
      "state": {
       "_model_module": "@jupyter-widgets/controls",
       "_model_module_version": "2.0.0",
       "_model_name": "ProgressStyleModel",
       "_view_count": null,
       "_view_module": "@jupyter-widgets/base",
       "_view_module_version": "2.0.0",
       "_view_name": "StyleView",
       "bar_color": null,
       "description_width": ""
      }
     },
     "7f5bba0deec64a84bcd4b4e7b84702fb": {
      "model_module": "@jupyter-widgets/controls",
      "model_module_version": "2.0.0",
      "model_name": "HTMLModel",
      "state": {
       "_dom_classes": [],
       "_model_module": "@jupyter-widgets/controls",
       "_model_module_version": "2.0.0",
       "_model_name": "HTMLModel",
       "_view_count": null,
       "_view_module": "@jupyter-widgets/controls",
       "_view_module_version": "2.0.0",
       "_view_name": "HTMLView",
       "description": "",
       "description_allow_html": false,
       "layout": "IPY_MODEL_6b99dc5a3c954debb652cc18beb0bed8",
       "placeholder": "​",
       "style": "IPY_MODEL_e00789a2a5624166a0e265a47cc9f247",
       "tabbable": null,
       "tooltip": null,
       "value": "100%"
      }
     },
     "8b149766dd424509aeb779848852d43f": {
      "model_module": "@jupyter-widgets/base",
      "model_module_version": "2.0.0",
      "model_name": "LayoutModel",
      "state": {
       "_model_module": "@jupyter-widgets/base",
       "_model_module_version": "2.0.0",
       "_model_name": "LayoutModel",
       "_view_count": null,
       "_view_module": "@jupyter-widgets/base",
       "_view_module_version": "2.0.0",
       "_view_name": "LayoutView",
       "align_content": null,
       "align_items": null,
       "align_self": null,
       "border_bottom": null,
       "border_left": null,
       "border_right": null,
       "border_top": null,
       "bottom": null,
       "display": null,
       "flex": null,
       "flex_flow": null,
       "grid_area": null,
       "grid_auto_columns": null,
       "grid_auto_flow": null,
       "grid_auto_rows": null,
       "grid_column": null,
       "grid_gap": null,
       "grid_row": null,
       "grid_template_areas": null,
       "grid_template_columns": null,
       "grid_template_rows": null,
       "height": null,
       "justify_content": null,
       "justify_items": null,
       "left": null,
       "margin": null,
       "max_height": null,
       "max_width": null,
       "min_height": null,
       "min_width": null,
       "object_fit": null,
       "object_position": null,
       "order": null,
       "overflow": null,
       "padding": null,
       "right": null,
       "top": null,
       "visibility": null,
       "width": null
      }
     },
     "ab108e03a0944e0a98f72e563db7c56f": {
      "model_module": "@jupyter-widgets/base",
      "model_module_version": "2.0.0",
      "model_name": "LayoutModel",
      "state": {
       "_model_module": "@jupyter-widgets/base",
       "_model_module_version": "2.0.0",
       "_model_name": "LayoutModel",
       "_view_count": null,
       "_view_module": "@jupyter-widgets/base",
       "_view_module_version": "2.0.0",
       "_view_name": "LayoutView",
       "align_content": null,
       "align_items": null,
       "align_self": null,
       "border_bottom": null,
       "border_left": null,
       "border_right": null,
       "border_top": null,
       "bottom": null,
       "display": null,
       "flex": null,
       "flex_flow": null,
       "grid_area": null,
       "grid_auto_columns": null,
       "grid_auto_flow": null,
       "grid_auto_rows": null,
       "grid_column": null,
       "grid_gap": null,
       "grid_row": null,
       "grid_template_areas": null,
       "grid_template_columns": null,
       "grid_template_rows": null,
       "height": null,
       "justify_content": null,
       "justify_items": null,
       "left": null,
       "margin": null,
       "max_height": null,
       "max_width": null,
       "min_height": null,
       "min_width": null,
       "object_fit": null,
       "object_position": null,
       "order": null,
       "overflow": null,
       "padding": null,
       "right": null,
       "top": null,
       "visibility": null,
       "width": null
      }
     },
     "bdfb02f6f6354532afcb6186c8f67bab": {
      "model_module": "@jupyter-widgets/base",
      "model_module_version": "2.0.0",
      "model_name": "LayoutModel",
      "state": {
       "_model_module": "@jupyter-widgets/base",
       "_model_module_version": "2.0.0",
       "_model_name": "LayoutModel",
       "_view_count": null,
       "_view_module": "@jupyter-widgets/base",
       "_view_module_version": "2.0.0",
       "_view_name": "LayoutView",
       "align_content": null,
       "align_items": null,
       "align_self": null,
       "border_bottom": null,
       "border_left": null,
       "border_right": null,
       "border_top": null,
       "bottom": null,
       "display": null,
       "flex": null,
       "flex_flow": null,
       "grid_area": null,
       "grid_auto_columns": null,
       "grid_auto_flow": null,
       "grid_auto_rows": null,
       "grid_column": null,
       "grid_gap": null,
       "grid_row": null,
       "grid_template_areas": null,
       "grid_template_columns": null,
       "grid_template_rows": null,
       "height": null,
       "justify_content": null,
       "justify_items": null,
       "left": null,
       "margin": null,
       "max_height": null,
       "max_width": null,
       "min_height": null,
       "min_width": null,
       "object_fit": null,
       "object_position": null,
       "order": null,
       "overflow": null,
       "padding": null,
       "right": null,
       "top": null,
       "visibility": null,
       "width": null
      }
     },
     "e00789a2a5624166a0e265a47cc9f247": {
      "model_module": "@jupyter-widgets/controls",
      "model_module_version": "2.0.0",
      "model_name": "HTMLStyleModel",
      "state": {
       "_model_module": "@jupyter-widgets/controls",
       "_model_module_version": "2.0.0",
       "_model_name": "HTMLStyleModel",
       "_view_count": null,
       "_view_module": "@jupyter-widgets/base",
       "_view_module_version": "2.0.0",
       "_view_name": "StyleView",
       "background": null,
       "description_width": "",
       "font_size": null,
       "text_color": null
      }
     },
     "fbbc0c1f08b5437e9056c236ddd724cb": {
      "model_module": "@jupyter-widgets/controls",
      "model_module_version": "2.0.0",
      "model_name": "HTMLStyleModel",
      "state": {
       "_model_module": "@jupyter-widgets/controls",
       "_model_module_version": "2.0.0",
       "_model_name": "HTMLStyleModel",
       "_view_count": null,
       "_view_module": "@jupyter-widgets/base",
       "_view_module_version": "2.0.0",
       "_view_name": "StyleView",
       "background": null,
       "description_width": "",
       "font_size": null,
       "text_color": null
      }
     }
    },
    "version_major": 2,
    "version_minor": 0
   }
  }
 },
 "nbformat": 4,
 "nbformat_minor": 5
}