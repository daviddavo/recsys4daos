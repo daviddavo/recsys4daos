{
 "cells": [
  {
   "cell_type": "code",
   "execution_count": 1,
   "id": "dc77d6fc",
   "metadata": {
    "editable": true,
    "execution": {
     "iopub.execute_input": "2024-09-06T17:01:31.240579Z",
     "iopub.status.busy": "2024-09-06T17:01:31.240473Z",
     "iopub.status.idle": "2024-09-06T17:01:34.071810Z",
     "shell.execute_reply": "2024-09-06T17:01:34.071267Z"
    },
    "papermill": {
     "duration": 2.84292,
     "end_time": "2024-09-06T17:01:34.072546",
     "exception": false,
     "start_time": "2024-09-06T17:01:31.229626",
     "status": "completed"
    },
    "slideshow": {
     "slide_type": ""
    },
    "tags": []
   },
   "outputs": [
    {
     "name": "stderr",
     "output_type": "stream",
     "text": [
      "/tmp/ipykernel_291387/1371776918.py:11: TqdmExperimentalWarning: Using `tqdm.autonotebook.tqdm` in notebook mode. Use `tqdm.tqdm` instead to force console mode (e.g. in jupyter console)\n",
      "  from tqdm.autonotebook import tqdm\n"
     ]
    },
    {
     "name": "stdout",
     "output_type": "stream",
     "text": [
      "Ignoring warnings\n",
      "3.11.6 (main, Jun 24 2024, 07:45:26) [GCC 11.4.0]\n",
      "recommenders: 1.2.0\n",
      "ray: 2.30.0\n",
      "tensorflow: 2.16.1\n"
     ]
    }
   ],
   "source": [
    "from typing import List, Dict, Any\n",
    "\n",
    "from pathlib import Path\n",
    "import os, sys\n",
    "import time\n",
    "import datetime as dt\n",
    "import itertools as it\n",
    "\n",
    "import numpy as np\n",
    "import pandas as pd\n",
    "from tqdm.autonotebook import tqdm\n",
    "import ray\n",
    "from ray import train, tune\n",
    "import ipywidgets as widgets\n",
    "\n",
    "from recsys4daos.model_selection import cvtt_open\n",
    "from recsys4daos.datasets import to_microsoft, filter_window_size\n",
    "from recsys4daos.models import LightGCNCustom\n",
    "from recsys4daos.utils import Timer\n",
    "import recsys4daos.utils.notebooks as nbu\n",
    "\n",
    "import recommenders\n",
    "if recommenders.__version__ == '1.2.0':\n",
    "    print(\"Ignoring warnings\")\n",
    "    import warnings\n",
    "    warnings.simplefilter(action='ignore', category=FutureWarning)\n",
    "\n",
    "import paths\n",
    "\n",
    "nbu.print_versions('ray', 'tensorflow')\n",
    "\n",
    "%load_ext autoreload\n",
    "%autoreload 2"
   ]
  },
  {
   "cell_type": "code",
   "execution_count": 2,
   "id": "88cb8fe3",
   "metadata": {
    "editable": true,
    "execution": {
     "iopub.execute_input": "2024-09-06T17:01:34.079939Z",
     "iopub.status.busy": "2024-09-06T17:01:34.079643Z",
     "iopub.status.idle": "2024-09-06T17:01:34.101415Z",
     "shell.execute_reply": "2024-09-06T17:01:34.101078Z"
    },
    "papermill": {
     "duration": 0.026095,
     "end_time": "2024-09-06T17:01:34.102201",
     "exception": false,
     "start_time": "2024-09-06T17:01:34.076106",
     "status": "completed"
    },
    "slideshow": {
     "slide_type": ""
    },
    "tags": [
     "parameters"
    ]
   },
   "outputs": [],
   "source": [
    "# Others config\n",
    "SEED: int = 57\n",
    "RAY_RESULTS_PATH: Path = '~/ray_results3.11'\n",
    "\n",
    "# Dataset splits config\n",
    "ORG_NAME = 'Decentraland'\n",
    "SPLITS_FREQ = 'W-THU'  # Split weekly\n",
    "LAST_FOLDS = 10  # Use just last 10 splits\n",
    "SPLITS_NORMALIZE = True\n",
    "LAST_FOLD_DATE_STR: str = '2023-07-13'\n",
    "\n",
    "# Training config\n",
    "MAX_EPOCHS: int = 200\n",
    "EPOCHS_PER_ITER: int = 5\n",
    "SAMPLES_PER_SPLIT: int = 100\n",
    "MAX_TIME_TOTAL_TRAIN: int = 300\n",
    "OPTIM_METRIC: str = 'map@10'\n",
    "\n",
    "# Search space config\n",
    "MAX_EMBEDDING_DIM = 1024\n",
    "MIN_BATCH_SIZE = 6\n",
    "MAX_BATCH_SIZE = 10 # 2**10\n",
    "MIN_LR = 1e-4\n",
    "# WINDOW_SIZES = ['7d', '14d', '21d', '30d', '60d', '90d', '10YE']\n",
    "WINDOW_SIZES = ['21d', '30d', '60d', '90d', '10YE']\n",
    "GPUS = 16\n",
    "\n",
    "# Eval config\n",
    "K_RECOMMENDATIONS: List[int] = [1,3,5,10,15,100]\n",
    "METRICS: List[str] = [\"recall\", \"ndcg\", \"precision\", \"map\"]"
   ]
  },
  {
   "cell_type": "code",
   "execution_count": 3,
   "id": "31a978f9",
   "metadata": {
    "execution": {
     "iopub.execute_input": "2024-09-06T17:01:34.107605Z",
     "iopub.status.busy": "2024-09-06T17:01:34.107508Z",
     "iopub.status.idle": "2024-09-06T17:01:34.126361Z",
     "shell.execute_reply": "2024-09-06T17:01:34.126051Z"
    },
    "papermill": {
     "duration": 0.022478,
     "end_time": "2024-09-06T17:01:34.127107",
     "exception": false,
     "start_time": "2024-09-06T17:01:34.104629",
     "status": "completed"
    },
    "tags": [
     "injected-parameters"
    ]
   },
   "outputs": [],
   "source": [
    "# Parameters\n",
    "EXECUTION_ID = \"2024-09-04T10:00\"\n",
    "WINDOW_SIZES = [\"1d\", \"7d\", \"14d\"]\n",
    "MODEL_NAMES = [\"all-MiniLM-L12-v2\"]\n",
    "ORG_NAME = \"Aave - Aavegotchi\"\n",
    "SPLITS_FREQ = \"5d\"\n",
    "LAST_FOLDS = 10\n",
    "SPLITS_NORMALIZE = True\n",
    "LAST_FOLD_DATE_STR = \"2023-05-01\"\n"
   ]
  },
  {
   "cell_type": "code",
   "execution_count": 4,
   "id": "e5a393fa",
   "metadata": {
    "execution": {
     "iopub.execute_input": "2024-09-06T17:01:34.132208Z",
     "iopub.status.busy": "2024-09-06T17:01:34.132114Z",
     "iopub.status.idle": "2024-09-06T17:01:34.149638Z",
     "shell.execute_reply": "2024-09-06T17:01:34.149328Z"
    },
    "papermill": {
     "duration": 0.021037,
     "end_time": "2024-09-06T17:01:34.150393",
     "exception": false,
     "start_time": "2024-09-06T17:01:34.129356",
     "status": "completed"
    },
    "tags": []
   },
   "outputs": [],
   "source": [
    "RAY_RESULTS_PATH = Path(RAY_RESULTS_PATH).expanduser()"
   ]
  },
  {
   "cell_type": "markdown",
   "id": "f1523bda",
   "metadata": {
    "papermill": {
     "duration": 0.002301,
     "end_time": "2024-09-06T17:01:34.154983",
     "exception": false,
     "start_time": "2024-09-06T17:01:34.152682",
     "status": "completed"
    },
    "tags": []
   },
   "source": [
    "## Obtain dataset"
   ]
  },
  {
   "cell_type": "code",
   "execution_count": 5,
   "id": "ff76b5c2",
   "metadata": {
    "execution": {
     "iopub.execute_input": "2024-09-06T17:01:34.160032Z",
     "iopub.status.busy": "2024-09-06T17:01:34.159939Z",
     "iopub.status.idle": "2024-09-06T17:01:34.305975Z",
     "shell.execute_reply": "2024-09-06T17:01:34.302824Z"
    },
    "papermill": {
     "duration": 0.153085,
     "end_time": "2024-09-06T17:01:34.310272",
     "exception": false,
     "start_time": "2024-09-06T17:01:34.157187",
     "status": "completed"
    },
    "tags": []
   },
   "outputs": [
    {
     "name": "stdout",
     "output_type": "stream",
     "text": [
      "/home/daviddavo/recsys4daos/notebooks\r\n"
     ]
    }
   ],
   "source": [
    "!pwd"
   ]
  },
  {
   "cell_type": "code",
   "execution_count": 6,
   "id": "e02a6c0e",
   "metadata": {
    "execution": {
     "iopub.execute_input": "2024-09-06T17:01:34.327295Z",
     "iopub.status.busy": "2024-09-06T17:01:34.327100Z",
     "iopub.status.idle": "2024-09-06T17:01:34.964640Z",
     "shell.execute_reply": "2024-09-06T17:01:34.964392Z"
    },
    "papermill": {
     "duration": 0.643885,
     "end_time": "2024-09-06T17:01:34.965381",
     "exception": false,
     "start_time": "2024-09-06T17:01:34.321496",
     "status": "completed"
    },
    "tags": []
   },
   "outputs": [
    {
     "name": "stdout",
     "output_type": "stream",
     "text": [
      "<class 'pandas.core.frame.DataFrame'>\n",
      "RangeIndex: 1081 entries, 0 to 1080\n",
      "Data columns (total 6 columns):\n",
      " #   Column             Non-Null Count  Dtype         \n",
      "---  ------             --------------  -----         \n",
      " 0   id                 1081 non-null   object        \n",
      " 1   author             1081 non-null   object        \n",
      " 2   date               1081 non-null   datetime64[us]\n",
      " 3   start              1081 non-null   datetime64[us]\n",
      " 4   end                1081 non-null   datetime64[us]\n",
      " 5   platform_proposal  1081 non-null   object        \n",
      "dtypes: datetime64[us](3), object(3)\n",
      "memory usage: 50.8+ KB\n",
      "None\n",
      "<class 'pandas.core.frame.DataFrame'>\n",
      "RangeIndex: 2328356 entries, 0 to 2328355\n",
      "Data columns (total 4 columns):\n",
      " #   Column    Dtype         \n",
      "---  ------    -----         \n",
      " 0   id        object        \n",
      " 1   proposal  object        \n",
      " 2   voter     object        \n",
      " 3   date      datetime64[us]\n",
      "dtypes: datetime64[us](1), object(3)\n",
      "memory usage: 71.1+ MB\n",
      "None\n"
     ]
    }
   ],
   "source": [
    "dfp = paths.load_proposals(ORG_NAME)\n",
    "dfv = paths.load_votes(ORG_NAME)\n",
    "\n",
    "print(dfp.info())\n",
    "print(dfv.info())"
   ]
  },
  {
   "cell_type": "markdown",
   "id": "5eaec28b",
   "metadata": {
    "papermill": {
     "duration": 0.002566,
     "end_time": "2024-09-06T17:01:34.970550",
     "exception": false,
     "start_time": "2024-09-06T17:01:34.967984",
     "status": "completed"
    },
    "tags": []
   },
   "source": [
    "## Split data"
   ]
  },
  {
   "cell_type": "code",
   "execution_count": 7,
   "id": "f2058ebb",
   "metadata": {
    "execution": {
     "iopub.execute_input": "2024-09-06T17:01:34.976490Z",
     "iopub.status.busy": "2024-09-06T17:01:34.976337Z",
     "iopub.status.idle": "2024-09-06T17:01:35.179267Z",
     "shell.execute_reply": "2024-09-06T17:01:35.179037Z"
    },
    "papermill": {
     "duration": 0.206619,
     "end_time": "2024-09-06T17:01:35.179993",
     "exception": false,
     "start_time": "2024-09-06T17:01:34.973374",
     "status": "completed"
    },
    "tags": []
   },
   "outputs": [
    {
     "data": {
      "text/html": [
       "<div>\n",
       "<style scoped>\n",
       "    .dataframe tbody tr th:only-of-type {\n",
       "        vertical-align: middle;\n",
       "    }\n",
       "\n",
       "    .dataframe tbody tr th {\n",
       "        vertical-align: top;\n",
       "    }\n",
       "\n",
       "    .dataframe thead th {\n",
       "        text-align: right;\n",
       "    }\n",
       "</style>\n",
       "<table border=\"1\" class=\"dataframe\">\n",
       "  <thead>\n",
       "    <tr style=\"text-align: right;\">\n",
       "      <th></th>\n",
       "      <th>userID</th>\n",
       "      <th>itemID</th>\n",
       "      <th>timestamp</th>\n",
       "      <th>rating</th>\n",
       "    </tr>\n",
       "  </thead>\n",
       "  <tbody>\n",
       "    <tr>\n",
       "      <th>0</th>\n",
       "      <td>0x7e741fbdc71b8fa2310e9836146296c327b79dce-vot...</td>\n",
       "      <td>05fecd7e-ef0d-5804-a509-7c9bde951705</td>\n",
       "      <td>2019-12-13 15:27:14</td>\n",
       "      <td>1</td>\n",
       "    </tr>\n",
       "    <tr>\n",
       "      <th>1</th>\n",
       "      <td>0x7e741fbdc71b8fa2310e9836146296c327b79dce-vot...</td>\n",
       "      <td>05fecd7e-ef0d-5804-a509-7c9bde951705</td>\n",
       "      <td>2019-12-13 15:29:30</td>\n",
       "      <td>1</td>\n",
       "    </tr>\n",
       "    <tr>\n",
       "      <th>2</th>\n",
       "      <td>0x7e741fbdc71b8fa2310e9836146296c327b79dce-vot...</td>\n",
       "      <td>05fecd7e-ef0d-5804-a509-7c9bde951705</td>\n",
       "      <td>2019-12-13 15:31:45</td>\n",
       "      <td>1</td>\n",
       "    </tr>\n",
       "    <tr>\n",
       "      <th>3</th>\n",
       "      <td>0x7e741fbdc71b8fa2310e9836146296c327b79dce-vot...</td>\n",
       "      <td>a0847e79-6ad8-58ec-b525-d8dbff21b7af</td>\n",
       "      <td>2020-01-13 13:14:17</td>\n",
       "      <td>1</td>\n",
       "    </tr>\n",
       "    <tr>\n",
       "      <th>4</th>\n",
       "      <td>0x7e741fbdc71b8fa2310e9836146296c327b79dce-vot...</td>\n",
       "      <td>a0847e79-6ad8-58ec-b525-d8dbff21b7af</td>\n",
       "      <td>2020-01-13 13:17:14</td>\n",
       "      <td>1</td>\n",
       "    </tr>\n",
       "    <tr>\n",
       "      <th>...</th>\n",
       "      <td>...</td>\n",
       "      <td>...</td>\n",
       "      <td>...</td>\n",
       "      <td>...</td>\n",
       "    </tr>\n",
       "    <tr>\n",
       "      <th>2328351</th>\n",
       "      <td>0x4da0878ddd74208c1e67915f5c25db99b22ffdd1</td>\n",
       "      <td>a6bc61cd-cc0d-57f1-8c26-ecd7027eb461</td>\n",
       "      <td>2023-07-20 16:28:43</td>\n",
       "      <td>1</td>\n",
       "    </tr>\n",
       "    <tr>\n",
       "      <th>2328352</th>\n",
       "      <td>0x2415b3876ceb4bfd0c90467419039979b3ff7daa</td>\n",
       "      <td>a6bc61cd-cc0d-57f1-8c26-ecd7027eb461</td>\n",
       "      <td>2023-07-20 16:30:21</td>\n",
       "      <td>1</td>\n",
       "    </tr>\n",
       "    <tr>\n",
       "      <th>2328353</th>\n",
       "      <td>0x2975e77ff2954f27e0b18403ccf02c528053ae4c</td>\n",
       "      <td>a6bc61cd-cc0d-57f1-8c26-ecd7027eb461</td>\n",
       "      <td>2023-07-20 16:32:03</td>\n",
       "      <td>1</td>\n",
       "    </tr>\n",
       "    <tr>\n",
       "      <th>2328354</th>\n",
       "      <td>0xb7b827186385ed69023ed824fc8950ef07731be9</td>\n",
       "      <td>a6bc61cd-cc0d-57f1-8c26-ecd7027eb461</td>\n",
       "      <td>2023-07-20 16:33:32</td>\n",
       "      <td>1</td>\n",
       "    </tr>\n",
       "    <tr>\n",
       "      <th>2328355</th>\n",
       "      <td>0x851c20e88ef7f761a372cca9ce425c46f9a79fd8</td>\n",
       "      <td>a6bc61cd-cc0d-57f1-8c26-ecd7027eb461</td>\n",
       "      <td>2023-07-20 16:39:36</td>\n",
       "      <td>1</td>\n",
       "    </tr>\n",
       "  </tbody>\n",
       "</table>\n",
       "<p>2328356 rows × 4 columns</p>\n",
       "</div>"
      ],
      "text/plain": [
       "                                                    userID  \\\n",
       "0        0x7e741fbdc71b8fa2310e9836146296c327b79dce-vot...   \n",
       "1        0x7e741fbdc71b8fa2310e9836146296c327b79dce-vot...   \n",
       "2        0x7e741fbdc71b8fa2310e9836146296c327b79dce-vot...   \n",
       "3        0x7e741fbdc71b8fa2310e9836146296c327b79dce-vot...   \n",
       "4        0x7e741fbdc71b8fa2310e9836146296c327b79dce-vot...   \n",
       "...                                                    ...   \n",
       "2328351         0x4da0878ddd74208c1e67915f5c25db99b22ffdd1   \n",
       "2328352         0x2415b3876ceb4bfd0c90467419039979b3ff7daa   \n",
       "2328353         0x2975e77ff2954f27e0b18403ccf02c528053ae4c   \n",
       "2328354         0xb7b827186385ed69023ed824fc8950ef07731be9   \n",
       "2328355         0x851c20e88ef7f761a372cca9ce425c46f9a79fd8   \n",
       "\n",
       "                                       itemID           timestamp  rating  \n",
       "0        05fecd7e-ef0d-5804-a509-7c9bde951705 2019-12-13 15:27:14       1  \n",
       "1        05fecd7e-ef0d-5804-a509-7c9bde951705 2019-12-13 15:29:30       1  \n",
       "2        05fecd7e-ef0d-5804-a509-7c9bde951705 2019-12-13 15:31:45       1  \n",
       "3        a0847e79-6ad8-58ec-b525-d8dbff21b7af 2020-01-13 13:14:17       1  \n",
       "4        a0847e79-6ad8-58ec-b525-d8dbff21b7af 2020-01-13 13:17:14       1  \n",
       "...                                       ...                 ...     ...  \n",
       "2328351  a6bc61cd-cc0d-57f1-8c26-ecd7027eb461 2023-07-20 16:28:43       1  \n",
       "2328352  a6bc61cd-cc0d-57f1-8c26-ecd7027eb461 2023-07-20 16:30:21       1  \n",
       "2328353  a6bc61cd-cc0d-57f1-8c26-ecd7027eb461 2023-07-20 16:32:03       1  \n",
       "2328354  a6bc61cd-cc0d-57f1-8c26-ecd7027eb461 2023-07-20 16:33:32       1  \n",
       "2328355  a6bc61cd-cc0d-57f1-8c26-ecd7027eb461 2023-07-20 16:39:36       1  \n",
       "\n",
       "[2328356 rows x 4 columns]"
      ]
     },
     "execution_count": 7,
     "metadata": {},
     "output_type": "execute_result"
    }
   ],
   "source": [
    "df = to_microsoft(dfv)\n",
    "df"
   ]
  },
  {
   "cell_type": "code",
   "execution_count": 8,
   "id": "173fdd14",
   "metadata": {
    "editable": true,
    "execution": {
     "iopub.execute_input": "2024-09-06T17:01:35.186460Z",
     "iopub.status.busy": "2024-09-06T17:01:35.186294Z",
     "iopub.status.idle": "2024-09-06T17:02:37.129727Z",
     "shell.execute_reply": "2024-09-06T17:02:37.129226Z"
    },
    "papermill": {
     "duration": 61.94988,
     "end_time": "2024-09-06T17:02:37.132807",
     "exception": false,
     "start_time": "2024-09-06T17:01:35.182927",
     "status": "completed"
    },
    "slideshow": {
     "slide_type": ""
    },
    "tags": []
   },
   "outputs": [
    {
     "name": "stdout",
     "output_type": "stream",
     "text": [
      "248 folds\n",
      "Using 10 folds, from 2023-03-17T00:00:00 to 2023-05-01T00:00:00\n"
     ]
    }
   ],
   "source": [
    "# USE INTEGER INDEX\n",
    "# folds_dict = list(cvtt_open(df, SPLITS_FREQ, dfp, remove_not_in_train_col='userID'))\n",
    "# use_folds_idx = range(len(folds_dict))[-LAST_FOLDS:]\n",
    "\n",
    "# USE TIMESTAMP INDEX\n",
    "# Note: NO need to used OrderedDict, dict is ordered since Python 3.6\n",
    "folds_dict = { f.end.isoformat():f for f in cvtt_open(df, SPLITS_FREQ, dfp, remove_not_in_train_col='userID', last_fold=LAST_FOLD_DATE_STR) }\n",
    "use_folds_idx = list(folds_dict.keys())[-LAST_FOLDS:]\n",
    "\n",
    "print(len(folds_dict), \"folds\")\n",
    "print(\"Using\", len(use_folds_idx), \"folds, from\", use_folds_idx[0], \"to\", use_folds_idx[-1])"
   ]
  },
  {
   "cell_type": "markdown",
   "id": "d4ee198e",
   "metadata": {
    "papermill": {
     "duration": 0.002952,
     "end_time": "2024-09-06T17:02:37.138739",
     "exception": false,
     "start_time": "2024-09-06T17:02:37.135787",
     "status": "completed"
    },
    "tags": []
   },
   "source": [
    "## Making some checks"
   ]
  },
  {
   "cell_type": "markdown",
   "id": "4b70be58",
   "metadata": {
    "papermill": {
     "duration": 0.002562,
     "end_time": "2024-09-06T17:02:37.143792",
     "exception": false,
     "start_time": "2024-09-06T17:02:37.141230",
     "status": "completed"
    },
    "tags": []
   },
   "source": [
    "### Checking that all the folds have open proposals"
   ]
  },
  {
   "cell_type": "code",
   "execution_count": 9,
   "id": "d28f36b5",
   "metadata": {
    "execution": {
     "iopub.execute_input": "2024-09-06T17:02:37.149432Z",
     "iopub.status.busy": "2024-09-06T17:02:37.149274Z",
     "iopub.status.idle": "2024-09-06T17:02:37.171099Z",
     "shell.execute_reply": "2024-09-06T17:02:37.170664Z"
    },
    "papermill": {
     "duration": 0.025601,
     "end_time": "2024-09-06T17:02:37.171829",
     "exception": false,
     "start_time": "2024-09-06T17:02:37.146228",
     "status": "completed"
    },
    "tags": []
   },
   "outputs": [],
   "source": [
    "_nok_folds = []\n",
    "for idx in use_folds_idx:\n",
    "    if len(folds_dict[idx].open_proposals) == 0:\n",
    "        _nok_folds.append(idx)\n",
    "\n",
    "if _nok_folds:\n",
    "    raise ValueError(f\"Folds {', '.join(_nok_folds)} don't have any open proposals\")"
   ]
  },
  {
   "cell_type": "markdown",
   "id": "90b9fb57",
   "metadata": {
    "papermill": {
     "duration": 0.002587,
     "end_time": "2024-09-06T17:02:37.176945",
     "exception": false,
     "start_time": "2024-09-06T17:02:37.174358",
     "status": "completed"
    },
    "tags": []
   },
   "source": [
    "### Checking correct hparams"
   ]
  },
  {
   "cell_type": "code",
   "execution_count": 10,
   "id": "22493193",
   "metadata": {
    "execution": {
     "iopub.execute_input": "2024-09-06T17:02:37.182378Z",
     "iopub.status.busy": "2024-09-06T17:02:37.182254Z",
     "iopub.status.idle": "2024-09-06T17:02:37.801186Z",
     "shell.execute_reply": "2024-09-06T17:02:37.800826Z"
    },
    "papermill": {
     "duration": 0.622649,
     "end_time": "2024-09-06T17:02:37.801998",
     "exception": false,
     "start_time": "2024-09-06T17:02:37.179349",
     "status": "completed"
    },
    "tags": []
   },
   "outputs": [
    {
     "name": "stderr",
     "output_type": "stream",
     "text": [
      "On fold 2023-03-17T00:00:00 WINDOW_SIZE should be at least 1d: 13569 > 1024\n",
      "On fold 2023-03-22T00:00:00 WINDOW_SIZE should be at least 1d: 1410 > 1024\n",
      "On fold 2023-03-27T00:00:00 WINDOW_SIZE should be at least 1d: 13855 > 1024\n",
      "On fold 2023-04-01T00:00:00 WINDOW_SIZE should be at least 1d: 2514 > 1024\n",
      "On fold 2023-04-06T00:00:00 WINDOW_SIZE should be at least 1d: 9194 > 1024\n",
      "On fold 2023-04-11T00:00:00 WINDOW_SIZE should be at least 1d: 1486 > 1024\n",
      "On fold 2023-04-16T00:00:00 WINDOW_SIZE should be at least 1d: 2201 > 1024\n",
      "On fold 2023-04-21T00:00:00 WINDOW_SIZE should be at least 1d: 2123 > 1024\n",
      "On fold 2023-04-26T00:00:00 WINDOW_SIZE should be at least 1d: 2900 > 1024\n",
      "On fold 2023-05-01T00:00:00 WINDOW_SIZE should be at least 1d: 14830 > 1024\n"
     ]
    },
    {
     "name": "stdout",
     "output_type": "stream",
     "text": [
      "All folds ok!\n"
     ]
    }
   ],
   "source": [
    "now = dt.datetime.now()\n",
    "max_bs = 2**MAX_BATCH_SIZE\n",
    "min_bs = 2**MIN_BATCH_SIZE\n",
    "_sorted_ws = sorted(WINDOW_SIZES, key=lambda ws: now + pd.tseries.frequencies.to_offset(ws))\n",
    "\n",
    "# Checking that the max_bs is doable with every window size\n",
    "for idx in use_folds_idx:\n",
    "    for ws in _sorted_ws:\n",
    "        nusers = filter_window_size(folds_dict[idx].train, folds_dict[idx].end, ws)['userID'].nunique()\n",
    "        if nusers > max_bs:\n",
    "            print(f'On fold {idx} WINDOW_SIZE should be at least {ws}: {nusers} > {max_bs}', file=sys.stderr)\n",
    "            break\n",
    "\n",
    "# Checking that the min_bs is doable with every window size\n",
    "for idx in use_folds_idx:\n",
    "    for ws in reversed(_sorted_ws):\n",
    "        nusers = filter_window_size(folds_dict[idx].train, folds_dict[idx].end, ws)['userID'].nunique()\n",
    "        if nusers < min_bs:\n",
    "            print(f'On fold {idx} WINDOW_SIZE should be more than {ws}: {nusers} < {min_bs}', file=sys.stderr)\n",
    "            break\n",
    "\n",
    "# Checking that the max_ws is doable with every batch size\n",
    "max_ws = _sorted_ws[-1]\n",
    "for idx in use_folds_idx:\n",
    "    nusers = filter_window_size(folds_dict[idx].train, folds_dict[idx].end, max_ws)['userID'].nunique()\n",
    "    for bs in (2**x for x in reversed(range(MIN_BATCH_SIZE, MAX_BATCH_SIZE+1))):\n",
    "        if bs > nusers:\n",
    "            print(f\"On fold {idx} batch_size should be '<={bs/2}' with {max_ws}: {nusers} < {bs}\", file=sys.stderr)\n",
    "            break\n",
    "\n",
    "print(\"All folds ok!\")"
   ]
  },
  {
   "cell_type": "markdown",
   "id": "da9fb9bf",
   "metadata": {
    "papermill": {
     "duration": 0.00299,
     "end_time": "2024-09-06T17:02:37.808480",
     "exception": false,
     "start_time": "2024-09-06T17:02:37.805490",
     "status": "completed"
    },
    "tags": []
   },
   "source": [
    "### Number of users with the min window_size"
   ]
  },
  {
   "cell_type": "code",
   "execution_count": 11,
   "id": "3cf3849a",
   "metadata": {
    "execution": {
     "iopub.execute_input": "2024-09-06T17:02:37.814529Z",
     "iopub.status.busy": "2024-09-06T17:02:37.814394Z",
     "iopub.status.idle": "2024-09-06T17:02:38.070296Z",
     "shell.execute_reply": "2024-09-06T17:02:38.070017Z"
    },
    "papermill": {
     "duration": 0.259835,
     "end_time": "2024-09-06T17:02:38.070975",
     "exception": false,
     "start_time": "2024-09-06T17:02:37.811140",
     "status": "completed"
    },
    "tags": []
   },
   "outputs": [
    {
     "name": "stdout",
     "output_type": "stream",
     "text": [
      "On fold 2023-03-17T00:00:00 with ws 1d: 13569 users, ws 14d: 24382\n",
      "On fold 2023-03-22T00:00:00 with ws 1d: 1410 users, ws 14d: 24356\n",
      "On fold 2023-03-27T00:00:00 with ws 1d: 13855 users, ws 14d: 23096\n",
      "On fold 2023-04-01T00:00:00 with ws 1d: 2514 users, ws 14d: 23767\n",
      "On fold 2023-04-06T00:00:00 with ws 1d: 9194 users, ws 14d: 26693\n",
      "On fold 2023-04-11T00:00:00 with ws 1d: 1486 users, ws 14d: 26593\n"
     ]
    },
    {
     "name": "stdout",
     "output_type": "stream",
     "text": [
      "On fold 2023-04-16T00:00:00 with ws 1d: 2201 users, ws 14d: 27439\n",
      "On fold 2023-04-21T00:00:00 with ws 1d: 2123 users, ws 14d: 25601\n",
      "On fold 2023-04-26T00:00:00 with ws 1d: 2900 users, ws 14d: 24953\n"
     ]
    },
    {
     "name": "stdout",
     "output_type": "stream",
     "text": [
      "On fold 2023-05-01T00:00:00 with ws 1d: 14830 users, ws 14d: 23515\n"
     ]
    }
   ],
   "source": [
    "_min_ws = _sorted_ws[0]\n",
    "_max_ws = _sorted_ws[-1]\n",
    "for idx in use_folds_idx:\n",
    "    nusers = filter_window_size(folds_dict[idx].train, folds_dict[idx].end, _min_ws)['userID'].nunique()\n",
    "    nusers2 = filter_window_size(folds_dict[idx].train, folds_dict[idx].end, _max_ws)['userID'].nunique()\n",
    "    print(f'On fold {idx} with ws {_min_ws}: {nusers} users, ws {_max_ws}: {nusers2}')"
   ]
  },
  {
   "cell_type": "markdown",
   "id": "c81e53fe",
   "metadata": {
    "editable": true,
    "papermill": {
     "duration": 0.003083,
     "end_time": "2024-09-06T17:02:38.077464",
     "exception": false,
     "start_time": "2024-09-06T17:02:38.074381",
     "status": "completed"
    },
    "slideshow": {
     "slide_type": ""
    },
    "tags": []
   },
   "source": [
    "## Testing model"
   ]
  },
  {
   "cell_type": "code",
   "execution_count": 12,
   "id": "42c2333c",
   "metadata": {
    "execution": {
     "iopub.execute_input": "2024-09-06T17:02:38.083719Z",
     "iopub.status.busy": "2024-09-06T17:02:38.083570Z",
     "iopub.status.idle": "2024-09-06T17:02:38.106095Z",
     "shell.execute_reply": "2024-09-06T17:02:38.105796Z"
    },
    "papermill": {
     "duration": 0.026542,
     "end_time": "2024-09-06T17:02:38.106822",
     "exception": false,
     "start_time": "2024-09-06T17:02:38.080280",
     "status": "completed"
    },
    "tags": []
   },
   "outputs": [],
   "source": [
    "from recommenders.models.deeprec.DataModel.ImplicitCF import ImplicitCF\n",
    "from recommenders.models.deeprec.deeprec_utils import prepare_hparams"
   ]
  },
  {
   "cell_type": "code",
   "execution_count": 13,
   "id": "b3d462bf",
   "metadata": {
    "editable": true,
    "execution": {
     "iopub.execute_input": "2024-09-06T17:02:38.113118Z",
     "iopub.status.busy": "2024-09-06T17:02:38.112972Z",
     "iopub.status.idle": "2024-09-06T17:02:38.133349Z",
     "shell.execute_reply": "2024-09-06T17:02:38.133012Z"
    },
    "papermill": {
     "duration": 0.024477,
     "end_time": "2024-09-06T17:02:38.134072",
     "exception": false,
     "start_time": "2024-09-06T17:02:38.109595",
     "status": "completed"
    },
    "slideshow": {
     "slide_type": ""
    },
    "tags": []
   },
   "outputs": [],
   "source": [
    "# hparams = prepare_hparams(\n",
    "#     model_type='lightgcn',\n",
    "#     n_layers=3,\n",
    "#     batch_size=512,\n",
    "#     embed_size=64,\n",
    "#     epochs=2,\n",
    "#     learning_rate=0.001,\n",
    "#     decay=0.001,\n",
    "#     metrics=[\"recall\", \"ndcg\", \"precision\", \"map\"],\n",
    "#     eval_epoch=2,\n",
    "#     top_k=K_RECOMMENDATIONS[0],\n",
    "#     save_model=False,\n",
    "#     MODEL_DIR='./data/model/lightgcn/',\n",
    "# )\n",
    "# dataloader = ImplicitCF(train=folds_dict[use_folds_idx[0]].train, test=folds_dict[use_folds_idx[0]].test, seed=SEED)\n",
    "# print(\"items:\", dataloader.n_items, \"user:\", dataloader.n_users)\n",
    "# model = LightGCNCustom(data=dataloader, hparams=hparams)"
   ]
  },
  {
   "cell_type": "code",
   "execution_count": 14,
   "id": "0d90c201",
   "metadata": {
    "execution": {
     "iopub.execute_input": "2024-09-06T17:02:38.140321Z",
     "iopub.status.busy": "2024-09-06T17:02:38.140174Z",
     "iopub.status.idle": "2024-09-06T17:02:38.158306Z",
     "shell.execute_reply": "2024-09-06T17:02:38.158037Z"
    },
    "papermill": {
     "duration": 0.022053,
     "end_time": "2024-09-06T17:02:38.158935",
     "exception": false,
     "start_time": "2024-09-06T17:02:38.136882",
     "status": "completed"
    },
    "tags": []
   },
   "outputs": [],
   "source": [
    "# model.fit()\n",
    "# model.run_eval()"
   ]
  },
  {
   "cell_type": "code",
   "execution_count": 15,
   "id": "34adeaac",
   "metadata": {
    "editable": true,
    "execution": {
     "iopub.execute_input": "2024-09-06T17:02:38.165106Z",
     "iopub.status.busy": "2024-09-06T17:02:38.164922Z",
     "iopub.status.idle": "2024-09-06T17:02:38.182275Z",
     "shell.execute_reply": "2024-09-06T17:02:38.182078Z"
    },
    "papermill": {
     "duration": 0.021038,
     "end_time": "2024-09-06T17:02:38.182843",
     "exception": false,
     "start_time": "2024-09-06T17:02:38.161805",
     "status": "completed"
    },
    "slideshow": {
     "slide_type": ""
    },
    "tags": []
   },
   "outputs": [],
   "source": [
    "# model.recommend_k_items(\n",
    "#     dataloader.test, \n",
    "#     top_k=3, \n",
    "#     use_id=True, \n",
    "#     remove_seen=True, \n",
    "#     recommend_from=folds_dict[use_folds_idx[0]].open_proposals\n",
    "# )"
   ]
  },
  {
   "cell_type": "markdown",
   "id": "3fcaa8dd",
   "metadata": {
    "papermill": {
     "duration": 0.003018,
     "end_time": "2024-09-06T17:02:38.188941",
     "exception": false,
     "start_time": "2024-09-06T17:02:38.185923",
     "status": "completed"
    },
    "tags": []
   },
   "source": [
    "## Defining trainable"
   ]
  },
  {
   "cell_type": "code",
   "execution_count": 16,
   "id": "ec056ce5",
   "metadata": {
    "execution": {
     "iopub.execute_input": "2024-09-06T17:02:38.195172Z",
     "iopub.status.busy": "2024-09-06T17:02:38.194984Z",
     "iopub.status.idle": "2024-09-06T17:02:38.211503Z",
     "shell.execute_reply": "2024-09-06T17:02:38.211315Z"
    },
    "papermill": {
     "duration": 0.020443,
     "end_time": "2024-09-06T17:02:38.212178",
     "exception": false,
     "start_time": "2024-09-06T17:02:38.191735",
     "status": "completed"
    },
    "tags": []
   },
   "outputs": [],
   "source": [
    "from recsys4daos.evaluation import calculate_all_metrics"
   ]
  },
  {
   "cell_type": "code",
   "execution_count": 17,
   "id": "4ecab614",
   "metadata": {
    "editable": true,
    "execution": {
     "iopub.execute_input": "2024-09-06T17:02:38.218372Z",
     "iopub.status.busy": "2024-09-06T17:02:38.218255Z",
     "iopub.status.idle": "2024-09-06T17:02:38.238969Z",
     "shell.execute_reply": "2024-09-06T17:02:38.238773Z"
    },
    "papermill": {
     "duration": 0.024723,
     "end_time": "2024-09-06T17:02:38.239717",
     "exception": false,
     "start_time": "2024-09-06T17:02:38.214994",
     "status": "completed"
    },
    "slideshow": {
     "slide_type": ""
    },
    "tags": []
   },
   "outputs": [],
   "source": [
    "class TrainLightGCN(tune.Trainable):\n",
    "    def setup(\n",
    "        self,\n",
    "        config: Dict[str, Any],\n",
    "        data,\n",
    "    ):\n",
    "        self.config = config\n",
    "        train, test, self.t, self.open_proposals = data\n",
    "        train_filtered = filter_window_size(train, self.t, config['window_size'])\n",
    "        \n",
    "        # Remove users that voted in everything\n",
    "        # see https://github.com/recommenders-team/recommenders/issues/2163\n",
    "        msk = train_filtered.groupby('userID').size() == train_filtered['itemID'].nunique()\n",
    "        train_filtered = train_filtered[train_filtered['userID'].isin(msk[~msk].index)]\n",
    "        \n",
    "        self.dataloader = ImplicitCF(train=train_filtered, test=test, seed=SEED)\n",
    "        # Some experiments will run multiple times, but that's a price to pay for\n",
    "        # usability\n",
    "        self.real_batch_size = min(2**config['batch_size'], self.dataloader.n_users_in_train)\n",
    "\n",
    "        self.hparams = prepare_hparams(\n",
    "            model_type='lightgcn',\n",
    "            n_layers=config['conv_layers'],\n",
    "            batch_size=self.real_batch_size,\n",
    "            embed_size=config['embedding_dim'],\n",
    "            epochs=EPOCHS_PER_ITER,\n",
    "            learning_rate=config['learning_rate'],\n",
    "            decay=config['l2'],\n",
    "            metrics=METRICS,\n",
    "            eval_epoch=-1,\n",
    "            top_k=K_RECOMMENDATIONS[0],\n",
    "            save_model=False,\n",
    "            MODEL_DIR='./data/model/lightgcn/',\n",
    "        )\n",
    "        self.model = LightGCNCustom(self.hparams, self.dataloader, seed=SEED)\n",
    "        self.total_train = 0\n",
    "        self.total_eval = 0\n",
    "\n",
    "    @property\n",
    "    def iteration(self):\n",
    "        return self.model.epochs_done\n",
    "\n",
    "    @property\n",
    "    def training_iteration(self):\n",
    "        return self.model.epochs_done\n",
    "\n",
    "    def step(self):\n",
    "        \"\"\"\n",
    "        As a rule of thumb, the execution time of step should be large enough to avoid overheads \n",
    "        (i.e. more than a few seconds), but short enough to report progress periodically \n",
    "        (i.e. at most a few minutes).\n",
    "        \"\"\"\n",
    "        assert EPOCHS_PER_ITER > 0\n",
    "\n",
    "        with Timer() as t_train:\n",
    "            for _ in range(EPOCHS_PER_ITER):\n",
    "                ret = self.model.fit_epoch()\n",
    "\n",
    "\n",
    "        with Timer() as t_rec:\n",
    "            recs = self.model.recommend_k_items(\n",
    "                self.dataloader.test, # Used only to get user ids\n",
    "                top_k=max(K_RECOMMENDATIONS),\n",
    "                use_id=True,\n",
    "                remove_seen=True,\n",
    "                recommend_from=self.open_proposals,\n",
    "            )\n",
    "        \n",
    "        eval_dict = {'model_'+k:v for k,v in zip(self.model.metrics, self.model.run_eval())}\n",
    "        eval_dict |= calculate_all_metrics(self.dataloader.test, recs, K_RECOMMENDATIONS)\n",
    "\n",
    "        self.total_train += t_train.time\n",
    "        self.total_eval += eval_dict['time_eval']\n",
    "        \n",
    "        return {\n",
    "            'real_batch_size': self.real_batch_size,\n",
    "            'iteration': self.iteration,\n",
    "            'loss': ret[0],\n",
    "            'mf_loss': ret[1],\n",
    "            'emb_loss': ret[2],\n",
    "            **eval_dict,\n",
    "            'time_train': t_train.time,\n",
    "            'time_rec': t_rec.time,\n",
    "            'time_total_train': self.total_train,\n",
    "            'time_total_test': self.total_eval,\n",
    "        }\n",
    "\n",
    "    def save_checkpoint(self, checkpoint_dir):\n",
    "        checkpoint_path = os.path.join(checkpoint_dir, \"model\")\n",
    "        self.model.saver.save(\n",
    "            sess=self.model.sess,\n",
    "            save_path=checkpoint_path,\n",
    "        )\n",
    "        return checkpoint_dir\n",
    "\n",
    "    def load_checkpoint(self, checkpoint_path):\n",
    "        self.model.load(checkpoint_path)"
   ]
  },
  {
   "cell_type": "markdown",
   "id": "36fbf6db",
   "metadata": {
    "editable": true,
    "papermill": {
     "duration": 0.002912,
     "end_time": "2024-09-06T17:02:38.245487",
     "exception": false,
     "start_time": "2024-09-06T17:02:38.242575",
     "status": "completed"
    },
    "slideshow": {
     "slide_type": ""
    },
    "tags": []
   },
   "source": [
    "## Big experiment"
   ]
  },
  {
   "cell_type": "code",
   "execution_count": 18,
   "id": "158345f5",
   "metadata": {
    "editable": true,
    "execution": {
     "iopub.execute_input": "2024-09-06T17:02:38.251543Z",
     "iopub.status.busy": "2024-09-06T17:02:38.251420Z",
     "iopub.status.idle": "2024-09-06T17:02:38.268373Z",
     "shell.execute_reply": "2024-09-06T17:02:38.268195Z"
    },
    "papermill": {
     "duration": 0.020949,
     "end_time": "2024-09-06T17:02:38.269142",
     "exception": false,
     "start_time": "2024-09-06T17:02:38.248193",
     "status": "completed"
    },
    "slideshow": {
     "slide_type": ""
    },
    "tags": []
   },
   "outputs": [
    {
     "data": {
      "text/plain": [
       "PosixPath('/home/daviddavo/ray_results3.11')"
      ]
     },
     "execution_count": 18,
     "metadata": {},
     "output_type": "execute_result"
    }
   ],
   "source": [
    "RAY_RESULTS_PATH"
   ]
  },
  {
   "cell_type": "code",
   "execution_count": 19,
   "id": "7a367d89",
   "metadata": {
    "editable": true,
    "execution": {
     "iopub.execute_input": "2024-09-06T17:02:38.275596Z",
     "iopub.status.busy": "2024-09-06T17:02:38.275479Z",
     "iopub.status.idle": "2024-09-06T17:02:38.292543Z",
     "shell.execute_reply": "2024-09-06T17:02:38.292348Z"
    },
    "papermill": {
     "duration": 0.021201,
     "end_time": "2024-09-06T17:02:38.293295",
     "exception": false,
     "start_time": "2024-09-06T17:02:38.272094",
     "status": "completed"
    },
    "slideshow": {
     "slide_type": ""
    },
    "tags": []
   },
   "outputs": [
    {
     "name": "stdout",
     "output_type": "stream",
     "text": [
      "lamarck\n",
      "{'cpu': 1, 'gpu': 0.0625}\n"
     ]
    }
   ],
   "source": [
    "print(os.uname().nodename)\n",
    "\n",
    "### SET TRAINING RESOURCES\n",
    "if os.uname().nodename == 'lamarck':\n",
    "    # assert torch.cuda.is_available()\n",
    "\n",
    "    NUM_SAMPLES = SAMPLES_PER_SPLIT\n",
    "    # Every run takes approx half a gig of vram (no optimizations)\n",
    "    # The RTX 4090 has 24GB so we can run the model about 48 times\n",
    "    resources_per_trial={\n",
    "        'cpu': 1,\n",
    "        'gpu': 1 / GPUS,\n",
    "    }\n",
    "else:\n",
    "    NUM_SAMPLES = 1\n",
    "    resources_per_trial={\n",
    "        'cpu': 1,\n",
    "        # It takes about 1.5 GiB with full training data, but I put a bit more because\n",
    "        # this notebook also takes a bit of memory\n",
    "        'memory': 2e9,\n",
    "    }\n",
    "print(resources_per_trial)"
   ]
  },
  {
   "cell_type": "code",
   "execution_count": 20,
   "id": "28a6b896",
   "metadata": {
    "editable": true,
    "execution": {
     "iopub.execute_input": "2024-09-06T17:02:38.300166Z",
     "iopub.status.busy": "2024-09-06T17:02:38.300053Z",
     "iopub.status.idle": "2024-09-06T17:02:38.388845Z",
     "shell.execute_reply": "2024-09-06T17:02:38.388598Z"
    },
    "papermill": {
     "duration": 0.09323,
     "end_time": "2024-09-06T17:02:38.389745",
     "exception": false,
     "start_time": "2024-09-06T17:02:38.296515",
     "status": "completed"
    },
    "slideshow": {
     "slide_type": ""
    },
    "tags": []
   },
   "outputs": [],
   "source": [
    "from ray.tune.search.hyperopt import HyperOptSearch"
   ]
  },
  {
   "cell_type": "code",
   "execution_count": 21,
   "id": "3bb80946",
   "metadata": {
    "editable": true,
    "execution": {
     "iopub.execute_input": "2024-09-06T17:02:38.396902Z",
     "iopub.status.busy": "2024-09-06T17:02:38.396619Z",
     "iopub.status.idle": "2024-09-06T17:02:38.421105Z",
     "shell.execute_reply": "2024-09-06T17:02:38.420806Z"
    },
    "papermill": {
     "duration": 0.028669,
     "end_time": "2024-09-06T17:02:38.421753",
     "exception": false,
     "start_time": "2024-09-06T17:02:38.393084",
     "status": "completed"
    },
    "slideshow": {
     "slide_type": ""
    },
    "tags": []
   },
   "outputs": [],
   "source": [
    "def getTunerOnFold(f_idx, points_to_evaluate = None):    \n",
    "    name = paths.lightgcn_ray_tune_fname(ORG_NAME, SPLITS_FREQ, SPLITS_NORMALIZE, OPTIM_METRIC, fold=f_idx)\n",
    "    experiments = list(RAY_RESULTS_PATH.glob(f'{name}_*'))\n",
    "    last_experiment = max(experiments, key=lambda x: x.stat().st_ctime) if experiments else None\n",
    "    f = folds_dict[f_idx]\n",
    "\n",
    "    dftrain,dftest,t,open_proposals = folds_dict[f_idx]\n",
    "    param_space = dict(\n",
    "        batch_size=tune.randint(MIN_BATCH_SIZE, MAX_BATCH_SIZE+1), # 64 - 2**MAX_BATCH_SIZE\n",
    "        embedding_dim=tune.lograndint(1, MAX_EMBEDDING_DIM, base=2),\n",
    "        conv_layers=tune.randint(1,5),\n",
    "        learning_rate=tune.qloguniform(MIN_LR, 1, 1e-4),\n",
    "        l2=tune.loguniform(1e-7, 1e-2, 1e-7),\n",
    "        window_size=tune.choice(WINDOW_SIZES),\n",
    "        # Just so it appears on the output\n",
    "        fold=f_idx,\n",
    "    )\n",
    "    \n",
    "    ### RESTORE EXPERIMENT OR CREATE A NEW ONE\n",
    "    if last_experiment and tune.Tuner.can_restore(last_experiment):\n",
    "        print(f\"Restoring last experiment: {last_experiment}\")\n",
    "        tuner = tune.Tuner.restore(\n",
    "            str(last_experiment),\n",
    "            trainable=tune.with_resources(\n",
    "                # tune.with_parameters(TrainLightGCN,  train=dftrain, test=dftest, open_proposals=open_proposals),\n",
    "                tune.with_parameters(TrainLightGCN, data=f),\n",
    "                resources_per_trial,\n",
    "            ),\n",
    "            restart_errored=True,\n",
    "            param_space=param_space,\n",
    "        )\n",
    "    else:\n",
    "        print(f\"No experiment found for fold {f_idx}, creating new tuner with {NUM_SAMPLES} samples\")\n",
    "        search_alg = None\n",
    "        \n",
    "        search_alg = HyperOptSearch(\n",
    "            points_to_evaluate = points_to_evaluate,\n",
    "            random_state_seed=SEED,\n",
    "        )\n",
    "        # search_alg = tune.search.Repeater(search_alg, N_SPLITS-SKIP_SPLIT)\n",
    "        \n",
    "        tuner = tune.Tuner(\n",
    "            tune.with_resources(\n",
    "                # tune.with_parameters(TrainLightGCN,  train=dftrain, test=dftest, open_proposals=open_proposals),\n",
    "                tune.with_parameters(TrainLightGCN, data=folds_dict[f_idx]),\n",
    "                resources_per_trial,\n",
    "            ),\n",
    "            run_config=train.RunConfig(\n",
    "                stop={'training_iteration': MAX_EPOCHS/EPOCHS_PER_ITER, 'time_total_train': MAX_TIME_TOTAL_TRAIN},\n",
    "                name=name + f'_{dt.datetime.now().isoformat()}',\n",
    "                storage_path=RAY_RESULTS_PATH,\n",
    "                # failure_config=train.FailureConfig(fail_fast='raise'),\n",
    "                failure_config=train.FailureConfig(max_failures=3),\n",
    "            ),\n",
    "            param_space=param_space,\n",
    "            tune_config=tune.TuneConfig(\n",
    "                search_alg=search_alg,\n",
    "                num_samples=NUM_SAMPLES,\n",
    "                metric=OPTIM_METRIC,\n",
    "                mode='max',\n",
    "            )\n",
    "        )\n",
    "\n",
    "    return tuner"
   ]
  },
  {
   "cell_type": "code",
   "execution_count": 22,
   "id": "2c4f18e7",
   "metadata": {
    "editable": true,
    "execution": {
     "iopub.execute_input": "2024-09-06T17:02:38.428437Z",
     "iopub.status.busy": "2024-09-06T17:02:38.428314Z",
     "iopub.status.idle": "2024-09-06T17:02:38.454415Z",
     "shell.execute_reply": "2024-09-06T17:02:38.454130Z"
    },
    "papermill": {
     "duration": 0.03037,
     "end_time": "2024-09-06T17:02:38.455283",
     "exception": false,
     "start_time": "2024-09-06T17:02:38.424913",
     "status": "completed"
    },
    "slideshow": {
     "slide_type": ""
    },
    "tags": []
   },
   "outputs": [
    {
     "data": {
      "application/vnd.jupyter.widget-view+json": {
       "model_id": "a9ad7bd79663422999eebedffc3886b2",
       "version_major": 2,
       "version_minor": 0
      },
      "text/plain": [
       "fold:   0%|          | 0/10 [00:00<?, ?it/s]"
      ]
     },
     "metadata": {},
     "output_type": "display_data"
    },
    {
     "data": {
      "application/vnd.jupyter.widget-view+json": {
       "model_id": "e081102d77dd42a5956c8ec12db0a9b8",
       "version_major": 2,
       "version_minor": 0
      },
      "text/plain": [
       "Output(layout=Layout(border_bottom='1px solid black', border_left='1px solid black', border_right='1px solid b…"
      ]
     },
     "execution_count": 22,
     "metadata": {},
     "output_type": "execute_result"
    }
   ],
   "source": [
    "# We need to display the progress bar in another cell because ray tune \"overwrites\" the previous output\n",
    "pbar = tqdm(total=len(use_folds_idx), desc='fold')\n",
    "out = widgets.Output(layout={'border': '1px solid black'})\n",
    "with out:\n",
    "    print(\"In this cell important output from the next cell will be shown\")\n",
    "out"
   ]
  },
  {
   "cell_type": "code",
   "execution_count": 23,
   "id": "f06333fe",
   "metadata": {
    "editable": true,
    "execution": {
     "iopub.execute_input": "2024-09-06T17:02:38.462305Z",
     "iopub.status.busy": "2024-09-06T17:02:38.462200Z",
     "iopub.status.idle": "2024-09-07T01:44:48.461829Z",
     "shell.execute_reply": "2024-09-07T01:44:48.460509Z"
    },
    "papermill": {
     "duration": 31330.006943,
     "end_time": "2024-09-07T01:44:48.465568",
     "exception": false,
     "start_time": "2024-09-06T17:02:38.458625",
     "status": "completed"
    },
    "slideshow": {
     "slide_type": ""
    },
    "tags": []
   },
   "outputs": [
    {
     "data": {
      "text/html": [
       "<div class=\"tuneStatus\">\n",
       "  <div style=\"display: flex;flex-direction: row\">\n",
       "    <div style=\"display: flex;flex-direction: column;\">\n",
       "      <h3>Tune Status</h3>\n",
       "      <table>\n",
       "<tbody>\n",
       "<tr><td>Current time:</td><td>2024-09-07 01:44:47</td></tr>\n",
       "<tr><td>Running for: </td><td>00:00:00.32        </td></tr>\n",
       "<tr><td>Memory:      </td><td>13.4/125.6 GiB     </td></tr>\n",
       "</tbody>\n",
       "</table>\n",
       "    </div>\n",
       "    <div class=\"vDivider\"></div>\n",
       "    <div class=\"systemInfo\">\n",
       "      <h3>System Info</h3>\n",
       "      Using FIFO scheduling algorithm.<br>Logical resource usage: 0/24 CPUs, 0/1 GPUs (0.0/1.0 accelerator_type:G)\n",
       "    </div>\n",
       "    \n",
       "  </div>\n",
       "  <div class=\"hDivider\"></div>\n",
       "  <div class=\"trialStatus\">\n",
       "    <h3>Trial Status</h3>\n",
       "    <table>\n",
       "<thead>\n",
       "<tr><th>Trial name            </th><th>status    </th><th>loc                 </th><th style=\"text-align: right;\">  batch_size</th><th style=\"text-align: right;\">  conv_layers</th><th style=\"text-align: right;\">  embedding_dim</th><th>fold               </th><th style=\"text-align: right;\">         l2</th><th style=\"text-align: right;\">  learning_rate</th><th>window_size  </th><th style=\"text-align: right;\">  iter</th><th style=\"text-align: right;\">  total time (s)</th><th style=\"text-align: right;\">  real_batch_size</th><th style=\"text-align: right;\">  iteration</th><th style=\"text-align: right;\">         loss</th></tr>\n",
       "</thead>\n",
       "<tbody>\n",
       "<tr><td>TrainLightGCN_5dc382e0</td><td>TERMINATED</td><td>147.96.81.131:449700</td><td style=\"text-align: right;\">           6</td><td style=\"text-align: right;\">            2</td><td style=\"text-align: right;\">            804</td><td>2023-05-01T00:00:00</td><td style=\"text-align: right;\">3.39833e-05</td><td style=\"text-align: right;\">         0.2818</td><td>1d           </td><td style=\"text-align: right;\">     3</td><td style=\"text-align: right;\">         341.99 </td><td style=\"text-align: right;\">               64</td><td style=\"text-align: right;\">         15</td><td style=\"text-align: right;\"> 13.6187     </td></tr>\n",
       "<tr><td>TrainLightGCN_10d35677</td><td>TERMINATED</td><td>147.96.81.131:449549</td><td style=\"text-align: right;\">           7</td><td style=\"text-align: right;\">            4</td><td style=\"text-align: right;\">             45</td><td>2023-05-01T00:00:00</td><td style=\"text-align: right;\">1.51452e-05</td><td style=\"text-align: right;\">         0.4083</td><td>7d           </td><td style=\"text-align: right;\">     3</td><td style=\"text-align: right;\">         350.803</td><td style=\"text-align: right;\">              128</td><td style=\"text-align: right;\">         15</td><td style=\"text-align: right;\">  0.926074   </td></tr>\n",
       "<tr><td>TrainLightGCN_c924df3d</td><td>TERMINATED</td><td>147.96.81.131:449996</td><td style=\"text-align: right;\">           8</td><td style=\"text-align: right;\">            4</td><td style=\"text-align: right;\">              3</td><td>2023-05-01T00:00:00</td><td style=\"text-align: right;\">0.00065592 </td><td style=\"text-align: right;\">         0.0075</td><td>14d          </td><td style=\"text-align: right;\">     4</td><td style=\"text-align: right;\">         308.894</td><td style=\"text-align: right;\">              256</td><td style=\"text-align: right;\">         20</td><td style=\"text-align: right;\">  0.0240158  </td></tr>\n",
       "<tr><td>TrainLightGCN_c7ca2bbb</td><td>TERMINATED</td><td>147.96.81.131:449823</td><td style=\"text-align: right;\">           7</td><td style=\"text-align: right;\">            3</td><td style=\"text-align: right;\">            451</td><td>2023-05-01T00:00:00</td><td style=\"text-align: right;\">3.16434e-06</td><td style=\"text-align: right;\">         0.1637</td><td>14d          </td><td style=\"text-align: right;\">     1</td><td style=\"text-align: right;\">         305.987</td><td style=\"text-align: right;\">              128</td><td style=\"text-align: right;\">          5</td><td style=\"text-align: right;\">  3.64964    </td></tr>\n",
       "<tr><td>TrainLightGCN_dc837ed7</td><td>TERMINATED</td><td>147.96.81.131:449393</td><td style=\"text-align: right;\">           8</td><td style=\"text-align: right;\">            3</td><td style=\"text-align: right;\">             24</td><td>2023-05-01T00:00:00</td><td style=\"text-align: right;\">0.00237961 </td><td style=\"text-align: right;\">         0.0972</td><td>14d          </td><td style=\"text-align: right;\">     4</td><td style=\"text-align: right;\">         362.03 </td><td style=\"text-align: right;\">              256</td><td style=\"text-align: right;\">         20</td><td style=\"text-align: right;\">  0.109734   </td></tr>\n",
       "<tr><td>TrainLightGCN_83675d43</td><td>TERMINATED</td><td>147.96.81.131:449240</td><td style=\"text-align: right;\">           8</td><td style=\"text-align: right;\">            1</td><td style=\"text-align: right;\">            156</td><td>2023-05-01T00:00:00</td><td style=\"text-align: right;\">0.00039719 </td><td style=\"text-align: right;\">         0.0051</td><td>14d          </td><td style=\"text-align: right;\">     4</td><td style=\"text-align: right;\">         371.498</td><td style=\"text-align: right;\">              256</td><td style=\"text-align: right;\">         20</td><td style=\"text-align: right;\">  0.00222185 </td></tr>\n",
       "<tr><td>TrainLightGCN_148b0745</td><td>TERMINATED</td><td>147.96.81.131:449082</td><td style=\"text-align: right;\">           7</td><td style=\"text-align: right;\">            2</td><td style=\"text-align: right;\">              6</td><td>2023-05-01T00:00:00</td><td style=\"text-align: right;\">0.000102988</td><td style=\"text-align: right;\">         0.01  </td><td>14d          </td><td style=\"text-align: right;\">     2</td><td style=\"text-align: right;\">         380.39 </td><td style=\"text-align: right;\">              128</td><td style=\"text-align: right;\">         10</td><td style=\"text-align: right;\">  0.00697222 </td></tr>\n",
       "<tr><td>TrainLightGCN_910091f4</td><td>TERMINATED</td><td>147.96.81.131:448772</td><td style=\"text-align: right;\">           7</td><td style=\"text-align: right;\">            3</td><td style=\"text-align: right;\">             13</td><td>2023-05-01T00:00:00</td><td style=\"text-align: right;\">0.000528903</td><td style=\"text-align: right;\">         0.0344</td><td>14d          </td><td style=\"text-align: right;\">     2</td><td style=\"text-align: right;\">         398.226</td><td style=\"text-align: right;\">              128</td><td style=\"text-align: right;\">         10</td><td style=\"text-align: right;\">  0.0105549  </td></tr>\n",
       "<tr><td>TrainLightGCN_58dfd98d</td><td>TERMINATED</td><td>147.96.81.131:448302</td><td style=\"text-align: right;\">           8</td><td style=\"text-align: right;\">            3</td><td style=\"text-align: right;\">            198</td><td>2023-05-01T00:00:00</td><td style=\"text-align: right;\">0.000337718</td><td style=\"text-align: right;\">         0.0459</td><td>14d          </td><td style=\"text-align: right;\">     3</td><td style=\"text-align: right;\">         453.28 </td><td style=\"text-align: right;\">              256</td><td style=\"text-align: right;\">         15</td><td style=\"text-align: right;\">  0.13534    </td></tr>\n",
       "<tr><td>TrainLightGCN_bfaf5840</td><td>TERMINATED</td><td>147.96.81.131:448927</td><td style=\"text-align: right;\">           8</td><td style=\"text-align: right;\">            3</td><td style=\"text-align: right;\">             33</td><td>2023-05-01T00:00:00</td><td style=\"text-align: right;\">0.000907328</td><td style=\"text-align: right;\">         0.7387</td><td>1d           </td><td style=\"text-align: right;\">    10</td><td style=\"text-align: right;\">         318.453</td><td style=\"text-align: right;\">              256</td><td style=\"text-align: right;\">         50</td><td style=\"text-align: right;\">  3.99029    </td></tr>\n",
       "<tr><td>TrainLightGCN_93c253b4</td><td>TERMINATED</td><td>147.96.81.131:448153</td><td style=\"text-align: right;\">           7</td><td style=\"text-align: right;\">            2</td><td style=\"text-align: right;\">             18</td><td>2023-05-01T00:00:00</td><td style=\"text-align: right;\">8.42564e-05</td><td style=\"text-align: right;\">         0.0692</td><td>14d          </td><td style=\"text-align: right;\">     2</td><td style=\"text-align: right;\">         420.737</td><td style=\"text-align: right;\">              128</td><td style=\"text-align: right;\">         10</td><td style=\"text-align: right;\">  0.0461683  </td></tr>\n",
       "<tr><td>TrainLightGCN_d1b97ac9</td><td>TERMINATED</td><td>147.96.81.131:448612</td><td style=\"text-align: right;\">           6</td><td style=\"text-align: right;\">            3</td><td style=\"text-align: right;\">             87</td><td>2023-05-01T00:00:00</td><td style=\"text-align: right;\">5.06644e-05</td><td style=\"text-align: right;\">         0.1866</td><td>7d           </td><td style=\"text-align: right;\">     1</td><td style=\"text-align: right;\">         315.133</td><td style=\"text-align: right;\">               64</td><td style=\"text-align: right;\">          5</td><td style=\"text-align: right;\">  0.956934   </td></tr>\n",
       "<tr><td>TrainLightGCN_6f89f248</td><td>TERMINATED</td><td>147.96.81.131:448458</td><td style=\"text-align: right;\">           8</td><td style=\"text-align: right;\">            2</td><td style=\"text-align: right;\">             56</td><td>2023-05-01T00:00:00</td><td style=\"text-align: right;\">0.00144906 </td><td style=\"text-align: right;\">         0.0182</td><td>14d          </td><td style=\"text-align: right;\">     3</td><td style=\"text-align: right;\">         318.648</td><td style=\"text-align: right;\">              256</td><td style=\"text-align: right;\">         15</td><td style=\"text-align: right;\">  0.0083223  </td></tr>\n",
       "<tr><td>TrainLightGCN_f51c5d51</td><td>TERMINATED</td><td>147.96.81.131:447543</td><td style=\"text-align: right;\">           6</td><td style=\"text-align: right;\">            2</td><td style=\"text-align: right;\">              2</td><td>2023-05-01T00:00:00</td><td style=\"text-align: right;\">5.13409e-06</td><td style=\"text-align: right;\">         0.3701</td><td>14d          </td><td style=\"text-align: right;\">     1</td><td style=\"text-align: right;\">         426.795</td><td style=\"text-align: right;\">               64</td><td style=\"text-align: right;\">          5</td><td style=\"text-align: right;\">  0.613188   </td></tr>\n",
       "<tr><td>TrainLightGCN_70f53247</td><td>TERMINATED</td><td>147.96.81.131:447368</td><td style=\"text-align: right;\">           7</td><td style=\"text-align: right;\">            3</td><td style=\"text-align: right;\">              9</td><td>2023-05-01T00:00:00</td><td style=\"text-align: right;\">1.03662e-05</td><td style=\"text-align: right;\">         0.1118</td><td>14d          </td><td style=\"text-align: right;\">     2</td><td style=\"text-align: right;\">         428.081</td><td style=\"text-align: right;\">              128</td><td style=\"text-align: right;\">         10</td><td style=\"text-align: right;\">  0.105579   </td></tr>\n",
       "<tr><td>TrainLightGCN_78960f9c</td><td>TERMINATED</td><td>147.96.81.131:447228</td><td style=\"text-align: right;\">           7</td><td style=\"text-align: right;\">            3</td><td style=\"text-align: right;\">             12</td><td>2023-05-01T00:00:00</td><td style=\"text-align: right;\">0.000268153</td><td style=\"text-align: right;\">         0.1396</td><td>14d          </td><td style=\"text-align: right;\">     2</td><td style=\"text-align: right;\">         427.56 </td><td style=\"text-align: right;\">              128</td><td style=\"text-align: right;\">         10</td><td style=\"text-align: right;\">  0.195875   </td></tr>\n",
       "<tr><td>TrainLightGCN_69a4d98c</td><td>TERMINATED</td><td>147.96.81.131:447842</td><td style=\"text-align: right;\">           7</td><td style=\"text-align: right;\">            3</td><td style=\"text-align: right;\">            125</td><td>2023-05-01T00:00:00</td><td style=\"text-align: right;\">4.00355e-05</td><td style=\"text-align: right;\">         0.0275</td><td>7d           </td><td style=\"text-align: right;\">     2</td><td style=\"text-align: right;\">         382.548</td><td style=\"text-align: right;\">              128</td><td style=\"text-align: right;\">         10</td><td style=\"text-align: right;\">  0.0241953  </td></tr>\n",
       "<tr><td>TrainLightGCN_5151815e</td><td>TERMINATED</td><td>147.96.81.131:447999</td><td style=\"text-align: right;\">           8</td><td style=\"text-align: right;\">            3</td><td style=\"text-align: right;\">             66</td><td>2023-05-01T00:00:00</td><td style=\"text-align: right;\">0.000206388</td><td style=\"text-align: right;\">         0.5912</td><td>1d           </td><td style=\"text-align: right;\">    10</td><td style=\"text-align: right;\">         317.366</td><td style=\"text-align: right;\">              256</td><td style=\"text-align: right;\">         50</td><td style=\"text-align: right;\">  2.27208    </td></tr>\n",
       "<tr><td>TrainLightGCN_8c5b7c17</td><td>TERMINATED</td><td>147.96.81.131:447692</td><td style=\"text-align: right;\">           8</td><td style=\"text-align: right;\">            3</td><td style=\"text-align: right;\">            103</td><td>2023-05-01T00:00:00</td><td style=\"text-align: right;\">0.000131435</td><td style=\"text-align: right;\">         0.0208</td><td>14d          </td><td style=\"text-align: right;\">     3</td><td style=\"text-align: right;\">         367.321</td><td style=\"text-align: right;\">              256</td><td style=\"text-align: right;\">         15</td><td style=\"text-align: right;\">  0.0112631  </td></tr>\n",
       "<tr><td>TrainLightGCN_d9581122</td><td>TERMINATED</td><td>147.96.81.131:446942</td><td style=\"text-align: right;\">           7</td><td style=\"text-align: right;\">            2</td><td style=\"text-align: right;\">              7</td><td>2023-05-01T00:00:00</td><td style=\"text-align: right;\">8.78272e-05</td><td style=\"text-align: right;\">         0.0565</td><td>14d          </td><td style=\"text-align: right;\">     2</td><td style=\"text-align: right;\">         432.76 </td><td style=\"text-align: right;\">              128</td><td style=\"text-align: right;\">         10</td><td style=\"text-align: right;\">  0.035709   </td></tr>\n",
       "<tr><td>TrainLightGCN_2ce1ffcf</td><td>TERMINATED</td><td>147.96.81.131:446768</td><td style=\"text-align: right;\">           6</td><td style=\"text-align: right;\">            3</td><td style=\"text-align: right;\">             14</td><td>2023-05-01T00:00:00</td><td style=\"text-align: right;\">5.91256e-05</td><td style=\"text-align: right;\">         0.0955</td><td>1d           </td><td style=\"text-align: right;\">     3</td><td style=\"text-align: right;\">         392.982</td><td style=\"text-align: right;\">               64</td><td style=\"text-align: right;\">         15</td><td style=\"text-align: right;\">  0.0409137  </td></tr>\n",
       "<tr><td>TrainLightGCN_78e20cb6</td><td>TERMINATED</td><td>147.96.81.131:447098</td><td style=\"text-align: right;\">           6</td><td style=\"text-align: right;\">            3</td><td style=\"text-align: right;\">              5</td><td>2023-05-01T00:00:00</td><td style=\"text-align: right;\">2.07845e-05</td><td style=\"text-align: right;\">         0.0841</td><td>7d           </td><td style=\"text-align: right;\">     1</td><td style=\"text-align: right;\">         318.196</td><td style=\"text-align: right;\">               64</td><td style=\"text-align: right;\">          5</td><td style=\"text-align: right;\">  0.0700564  </td></tr>\n",
       "<tr><td>TrainLightGCN_f45467e8</td><td>TERMINATED</td><td>147.96.81.131:446643</td><td style=\"text-align: right;\">           9</td><td style=\"text-align: right;\">            4</td><td style=\"text-align: right;\">             28</td><td>2023-05-01T00:00:00</td><td style=\"text-align: right;\">0.000507609</td><td style=\"text-align: right;\">         0.2381</td><td>14d          </td><td style=\"text-align: right;\">     6</td><td style=\"text-align: right;\">         340.279</td><td style=\"text-align: right;\">              512</td><td style=\"text-align: right;\">         30</td><td style=\"text-align: right;\">  0.197187   </td></tr>\n",
       "<tr><td>TrainLightGCN_d35a260e</td><td>TERMINATED</td><td>147.96.81.131:446491</td><td style=\"text-align: right;\">          10</td><td style=\"text-align: right;\">            4</td><td style=\"text-align: right;\">             10</td><td>2023-05-01T00:00:00</td><td style=\"text-align: right;\">0.00206237 </td><td style=\"text-align: right;\">         0.0128</td><td>14d          </td><td style=\"text-align: right;\">    11</td><td style=\"text-align: right;\">         323.96 </td><td style=\"text-align: right;\">             1024</td><td style=\"text-align: right;\">         55</td><td style=\"text-align: right;\">  0.0121194  </td></tr>\n",
       "<tr><td>TrainLightGCN_cdbc6054</td><td>TERMINATED</td><td>147.96.81.131:446342</td><td style=\"text-align: right;\">          10</td><td style=\"text-align: right;\">            4</td><td style=\"text-align: right;\">             18</td><td>2023-05-01T00:00:00</td><td style=\"text-align: right;\">0.00348068 </td><td style=\"text-align: right;\">         0.4847</td><td>7d           </td><td style=\"text-align: right;\">    14</td><td style=\"text-align: right;\">         314.41 </td><td style=\"text-align: right;\">             1024</td><td style=\"text-align: right;\">         70</td><td style=\"text-align: right;\">  0.492104   </td></tr>\n",
       "<tr><td>TrainLightGCN_dbdf1953</td><td>TERMINATED</td><td>147.96.81.131:446179</td><td style=\"text-align: right;\">           9</td><td style=\"text-align: right;\">            4</td><td style=\"text-align: right;\">             25</td><td>2023-05-01T00:00:00</td><td style=\"text-align: right;\">0.000793296</td><td style=\"text-align: right;\">         0.1262</td><td>14d          </td><td style=\"text-align: right;\">     5</td><td style=\"text-align: right;\">         317.135</td><td style=\"text-align: right;\">              512</td><td style=\"text-align: right;\">         25</td><td style=\"text-align: right;\">  0.0616092  </td></tr>\n",
       "<tr><td>TrainLightGCN_2f1c630c</td><td>TERMINATED</td><td>147.96.81.131:446020</td><td style=\"text-align: right;\">           9</td><td style=\"text-align: right;\">            4</td><td style=\"text-align: right;\">             43</td><td>2023-05-01T00:00:00</td><td style=\"text-align: right;\">0.00652167 </td><td style=\"text-align: right;\">         0.0444</td><td>14d          </td><td style=\"text-align: right;\">     5</td><td style=\"text-align: right;\">         332.353</td><td style=\"text-align: right;\">              512</td><td style=\"text-align: right;\">         25</td><td style=\"text-align: right;\">  0.037507   </td></tr>\n",
       "<tr><td>TrainLightGCN_e396e165</td><td>TERMINATED</td><td>147.96.81.131:445252</td><td style=\"text-align: right;\">           7</td><td style=\"text-align: right;\">            3</td><td style=\"text-align: right;\">            334</td><td>2023-05-01T00:00:00</td><td style=\"text-align: right;\">2.7359e-05 </td><td style=\"text-align: right;\">         0.896 </td><td>14d          </td><td style=\"text-align: right;\">     1</td><td style=\"text-align: right;\">         443.39 </td><td style=\"text-align: right;\">              128</td><td style=\"text-align: right;\">          5</td><td style=\"text-align: right;\">101.43       </td></tr>\n",
       "<tr><td>TrainLightGCN_0892df22</td><td>TERMINATED</td><td>147.96.81.131:445719</td><td style=\"text-align: right;\">           9</td><td style=\"text-align: right;\">            4</td><td style=\"text-align: right;\">             69</td><td>2023-05-01T00:00:00</td><td style=\"text-align: right;\">0.00107208 </td><td style=\"text-align: right;\">         0.2599</td><td>14d          </td><td style=\"text-align: right;\">     4</td><td style=\"text-align: right;\">         353.88 </td><td style=\"text-align: right;\">              512</td><td style=\"text-align: right;\">         20</td><td style=\"text-align: right;\">  0.723682   </td></tr>\n",
       "<tr><td>TrainLightGCN_a115f939</td><td>TERMINATED</td><td>147.96.81.131:445834</td><td style=\"text-align: right;\">          10</td><td style=\"text-align: right;\">            4</td><td style=\"text-align: right;\">              4</td><td>2023-05-01T00:00:00</td><td style=\"text-align: right;\">0.000149898</td><td style=\"text-align: right;\">         0.7354</td><td>14d          </td><td style=\"text-align: right;\">     9</td><td style=\"text-align: right;\">         326.918</td><td style=\"text-align: right;\">             1024</td><td style=\"text-align: right;\">         45</td><td style=\"text-align: right;\">  0.884718   </td></tr>\n",
       "<tr><td>TrainLightGCN_8aab8964</td><td>TERMINATED</td><td>147.96.81.131:444027</td><td style=\"text-align: right;\">           6</td><td style=\"text-align: right;\">            2</td><td style=\"text-align: right;\">              1</td><td>2023-05-01T00:00:00</td><td style=\"text-align: right;\">6.79787e-05</td><td style=\"text-align: right;\">         0.0005</td><td>14d          </td><td style=\"text-align: right;\">     1</td><td style=\"text-align: right;\">         531.523</td><td style=\"text-align: right;\">               64</td><td style=\"text-align: right;\">          5</td><td style=\"text-align: right;\">  0.124626   </td></tr>\n",
       "<tr><td>TrainLightGCN_09374eea</td><td>TERMINATED</td><td>147.96.81.131:445072</td><td style=\"text-align: right;\">           8</td><td style=\"text-align: right;\">            3</td><td style=\"text-align: right;\">            176</td><td>2023-05-01T00:00:00</td><td style=\"text-align: right;\">0.00181611 </td><td style=\"text-align: right;\">         0.0287</td><td>14d          </td><td style=\"text-align: right;\">     2</td><td style=\"text-align: right;\">         373.035</td><td style=\"text-align: right;\">              256</td><td style=\"text-align: right;\">         10</td><td style=\"text-align: right;\">  0.0581132  </td></tr>\n",
       "<tr><td>TrainLightGCN_4fbd9094</td><td>TERMINATED</td><td>147.96.81.131:444800</td><td style=\"text-align: right;\">           8</td><td style=\"text-align: right;\">            3</td><td style=\"text-align: right;\">            140</td><td>2023-05-01T00:00:00</td><td style=\"text-align: right;\">0.000102179</td><td style=\"text-align: right;\">         0.022 </td><td>14d          </td><td style=\"text-align: right;\">     2</td><td style=\"text-align: right;\">         374.148</td><td style=\"text-align: right;\">              256</td><td style=\"text-align: right;\">         10</td><td style=\"text-align: right;\">  0.0170697  </td></tr>\n",
       "<tr><td>TrainLightGCN_f642a92a</td><td>TERMINATED</td><td>147.96.81.131:445523</td><td style=\"text-align: right;\">           9</td><td style=\"text-align: right;\">            4</td><td style=\"text-align: right;\">              3</td><td>2023-05-01T00:00:00</td><td style=\"text-align: right;\">0.004133   </td><td style=\"text-align: right;\">         0.4271</td><td>14d          </td><td style=\"text-align: right;\">     4</td><td style=\"text-align: right;\">         312.918</td><td style=\"text-align: right;\">              512</td><td style=\"text-align: right;\">         20</td><td style=\"text-align: right;\">  0.703586   </td></tr>\n",
       "<tr><td>TrainLightGCN_2e30d53c</td><td>TERMINATED</td><td>147.96.81.131:445375</td><td style=\"text-align: right;\">           9</td><td style=\"text-align: right;\">            4</td><td style=\"text-align: right;\">             36</td><td>2023-05-01T00:00:00</td><td style=\"text-align: right;\">0.00115493 </td><td style=\"text-align: right;\">         0.2015</td><td>14d          </td><td style=\"text-align: right;\">     4</td><td style=\"text-align: right;\">         314.222</td><td style=\"text-align: right;\">              512</td><td style=\"text-align: right;\">         20</td><td style=\"text-align: right;\">  0.302899   </td></tr>\n",
       "<tr><td>TrainLightGCN_8ffe9933</td><td>TERMINATED</td><td>147.96.81.131:444932</td><td style=\"text-align: right;\">           8</td><td style=\"text-align: right;\">            3</td><td style=\"text-align: right;\">            106</td><td>2023-05-01T00:00:00</td><td style=\"text-align: right;\">0.000240733</td><td style=\"text-align: right;\">         0.0601</td><td>14d          </td><td style=\"text-align: right;\">     2</td><td style=\"text-align: right;\">         340.228</td><td style=\"text-align: right;\">              256</td><td style=\"text-align: right;\">         10</td><td style=\"text-align: right;\">  0.102959   </td></tr>\n",
       "<tr><td>TrainLightGCN_42d4eeda</td><td>TERMINATED</td><td>147.96.81.131:444498</td><td style=\"text-align: right;\">           8</td><td style=\"text-align: right;\">            1</td><td style=\"text-align: right;\">             22</td><td>2023-05-01T00:00:00</td><td style=\"text-align: right;\">6.17093e-07</td><td style=\"text-align: right;\">         0.0074</td><td>1d           </td><td style=\"text-align: right;\">     7</td><td style=\"text-align: right;\">         325.427</td><td style=\"text-align: right;\">              256</td><td style=\"text-align: right;\">         35</td><td style=\"text-align: right;\">  5.24093e-05</td></tr>\n",
       "<tr><td>TrainLightGCN_8f8ae2ec</td><td>TERMINATED</td><td>147.96.81.131:440738</td><td style=\"text-align: right;\">           7</td><td style=\"text-align: right;\">            4</td><td style=\"text-align: right;\">            972</td><td>2023-05-01T00:00:00</td><td style=\"text-align: right;\">0.000654698</td><td style=\"text-align: right;\">         0.0092</td><td>14d          </td><td style=\"text-align: right;\">     1</td><td style=\"text-align: right;\">        1083.97 </td><td style=\"text-align: right;\">              128</td><td style=\"text-align: right;\">          5</td><td style=\"text-align: right;\">  0.0226975  </td></tr>\n",
       "<tr><td>TrainLightGCN_e21a8b09</td><td>TERMINATED</td><td>147.96.81.131:444647</td><td style=\"text-align: right;\">           7</td><td style=\"text-align: right;\">            3</td><td style=\"text-align: right;\">             14</td><td>2023-05-01T00:00:00</td><td style=\"text-align: right;\">0.000202039</td><td style=\"text-align: right;\">         0.1084</td><td>14d          </td><td style=\"text-align: right;\">     1</td><td style=\"text-align: right;\">         307.706</td><td style=\"text-align: right;\">              128</td><td style=\"text-align: right;\">          5</td><td style=\"text-align: right;\">  0.121527   </td></tr>\n",
       "<tr><td>TrainLightGCN_99e29c20</td><td>TERMINATED</td><td>147.96.81.131:444187</td><td style=\"text-align: right;\">          10</td><td style=\"text-align: right;\">            4</td><td style=\"text-align: right;\">            295</td><td>2023-05-01T00:00:00</td><td style=\"text-align: right;\">1.40819e-05</td><td style=\"text-align: right;\">         0.0018</td><td>14d          </td><td style=\"text-align: right;\">     6</td><td style=\"text-align: right;\">         378.837</td><td style=\"text-align: right;\">             1024</td><td style=\"text-align: right;\">         30</td><td style=\"text-align: right;\">  0.00232568 </td></tr>\n",
       "<tr><td>TrainLightGCN_3cd1971e</td><td>TERMINATED</td><td>147.96.81.131:444339</td><td style=\"text-align: right;\">          10</td><td style=\"text-align: right;\">            4</td><td style=\"text-align: right;\">             39</td><td>2023-05-01T00:00:00</td><td style=\"text-align: right;\">7.72175e-06</td><td style=\"text-align: right;\">         0.001 </td><td>14d          </td><td style=\"text-align: right;\">     9</td><td style=\"text-align: right;\">         333.571</td><td style=\"text-align: right;\">             1024</td><td style=\"text-align: right;\">         45</td><td style=\"text-align: right;\">  0.0098017  </td></tr>\n",
       "<tr><td>TrainLightGCN_ddfa0676</td><td>TERMINATED</td><td>147.96.81.131:443873</td><td style=\"text-align: right;\">           7</td><td style=\"text-align: right;\">            3</td><td style=\"text-align: right;\">             78</td><td>2023-05-01T00:00:00</td><td style=\"text-align: right;\">0.00552969 </td><td style=\"text-align: right;\">         0.0041</td><td>1d           </td><td style=\"text-align: right;\">     5</td><td style=\"text-align: right;\">         379.186</td><td style=\"text-align: right;\">              128</td><td style=\"text-align: right;\">         25</td><td style=\"text-align: right;\">  0.00761822 </td></tr>\n",
       "<tr><td>TrainLightGCN_7b10a5a3</td><td>TERMINATED</td><td>147.96.81.131:443545</td><td style=\"text-align: right;\">           8</td><td style=\"text-align: right;\">            2</td><td style=\"text-align: right;\">             21</td><td>2023-05-01T00:00:00</td><td style=\"text-align: right;\">0.000392517</td><td style=\"text-align: right;\">         0.0025</td><td>14d          </td><td style=\"text-align: right;\">     4</td><td style=\"text-align: right;\">         448.799</td><td style=\"text-align: right;\">              256</td><td style=\"text-align: right;\">         20</td><td style=\"text-align: right;\">  0.00485624 </td></tr>\n",
       "<tr><td>TrainLightGCN_5e97657e</td><td>TERMINATED</td><td>147.96.81.131:443696</td><td style=\"text-align: right;\">           9</td><td style=\"text-align: right;\">            3</td><td style=\"text-align: right;\">              2</td><td>2023-05-01T00:00:00</td><td style=\"text-align: right;\">3.70339e-05</td><td style=\"text-align: right;\">         0.1563</td><td>14d          </td><td style=\"text-align: right;\">     7</td><td style=\"text-align: right;\">         380.491</td><td style=\"text-align: right;\">              512</td><td style=\"text-align: right;\">         35</td><td style=\"text-align: right;\">  0.167909   </td></tr>\n",
       "<tr><td>TrainLightGCN_d1bedb7f</td><td>TERMINATED</td><td>147.96.81.131:443088</td><td style=\"text-align: right;\">           7</td><td style=\"text-align: right;\">            3</td><td style=\"text-align: right;\">              5</td><td>2023-05-01T00:00:00</td><td style=\"text-align: right;\">0.00017607 </td><td style=\"text-align: right;\">         0.0169</td><td>14d          </td><td style=\"text-align: right;\">     2</td><td style=\"text-align: right;\">         425.901</td><td style=\"text-align: right;\">              128</td><td style=\"text-align: right;\">         10</td><td style=\"text-align: right;\">  0.0123983  </td></tr>\n",
       "<tr><td>TrainLightGCN_d2bea356</td><td>TERMINATED</td><td>147.96.81.131:443391</td><td style=\"text-align: right;\">           9</td><td style=\"text-align: right;\">            4</td><td style=\"text-align: right;\">              8</td><td>2023-05-01T00:00:00</td><td style=\"text-align: right;\">0.00266175 </td><td style=\"text-align: right;\">         0.0002</td><td>1d           </td><td style=\"text-align: right;\">    21</td><td style=\"text-align: right;\">         330.382</td><td style=\"text-align: right;\">              512</td><td style=\"text-align: right;\">        105</td><td style=\"text-align: right;\">  0.0204882  </td></tr>\n",
       "<tr><td>TrainLightGCN_1fe79736</td><td>TERMINATED</td><td>147.96.81.131:442940</td><td style=\"text-align: right;\">           9</td><td style=\"text-align: right;\">            4</td><td style=\"text-align: right;\">             40</td><td>2023-05-01T00:00:00</td><td style=\"text-align: right;\">0.00107619 </td><td style=\"text-align: right;\">         0.2067</td><td>14d          </td><td style=\"text-align: right;\">     7</td><td style=\"text-align: right;\">         357.758</td><td style=\"text-align: right;\">              512</td><td style=\"text-align: right;\">         35</td><td style=\"text-align: right;\">  0.323939   </td></tr>\n",
       "<tr><td>TrainLightGCN_b972fc3c</td><td>TERMINATED</td><td>147.96.81.131:443211</td><td style=\"text-align: right;\">          10</td><td style=\"text-align: right;\">            1</td><td style=\"text-align: right;\">             12</td><td>2023-05-01T00:00:00</td><td style=\"text-align: right;\">1.9343e-06 </td><td style=\"text-align: right;\">         0.0341</td><td>14d          </td><td style=\"text-align: right;\">    13</td><td style=\"text-align: right;\">         339.082</td><td style=\"text-align: right;\">             1024</td><td style=\"text-align: right;\">         65</td><td style=\"text-align: right;\">  0.00375064 </td></tr>\n",
       "<tr><td>TrainLightGCN_661951d0</td><td>TERMINATED</td><td>147.96.81.131:442645</td><td style=\"text-align: right;\">          10</td><td style=\"text-align: right;\">            3</td><td style=\"text-align: right;\">             31</td><td>2023-05-01T00:00:00</td><td style=\"text-align: right;\">0.000105102</td><td style=\"text-align: right;\">         0.0067</td><td>14d          </td><td style=\"text-align: right;\">    13</td><td style=\"text-align: right;\">         340.906</td><td style=\"text-align: right;\">             1024</td><td style=\"text-align: right;\">         65</td><td style=\"text-align: right;\">  0.0010546  </td></tr>\n",
       "<tr><td>TrainLightGCN_8a48e4cc</td><td>TERMINATED</td><td>147.96.81.131:442769</td><td style=\"text-align: right;\">           8</td><td style=\"text-align: right;\">            2</td><td style=\"text-align: right;\">             61</td><td>2023-05-01T00:00:00</td><td style=\"text-align: right;\">1.15881e-06</td><td style=\"text-align: right;\">         0.0001</td><td>1d           </td><td style=\"text-align: right;\">    11</td><td style=\"text-align: right;\">         334.969</td><td style=\"text-align: right;\">              256</td><td style=\"text-align: right;\">         55</td><td style=\"text-align: right;\">  0.0130219  </td></tr>\n",
       "<tr><td>TrainLightGCN_a7c65633</td><td>TERMINATED</td><td>147.96.81.131:442495</td><td style=\"text-align: right;\">           8</td><td style=\"text-align: right;\">            2</td><td style=\"text-align: right;\">              2</td><td>2023-05-01T00:00:00</td><td style=\"text-align: right;\">0.00902598 </td><td style=\"text-align: right;\">         0.3486</td><td>1d           </td><td style=\"text-align: right;\">    11</td><td style=\"text-align: right;\">         344.335</td><td style=\"text-align: right;\">              256</td><td style=\"text-align: right;\">         55</td><td style=\"text-align: right;\">  0.149604   </td></tr>\n",
       "<tr><td>TrainLightGCN_b0eb714f</td><td>TERMINATED</td><td>147.96.81.131:441875</td><td style=\"text-align: right;\">           6</td><td style=\"text-align: right;\">            4</td><td style=\"text-align: right;\">              4</td><td>2023-05-01T00:00:00</td><td style=\"text-align: right;\">0.00123095 </td><td style=\"text-align: right;\">         0.0488</td><td>14d          </td><td style=\"text-align: right;\">     1</td><td style=\"text-align: right;\">         452.392</td><td style=\"text-align: right;\">               64</td><td style=\"text-align: right;\">          5</td><td style=\"text-align: right;\">  0.0647654  </td></tr>\n",
       "<tr><td>TrainLightGCN_b044671e</td><td>TERMINATED</td><td>147.96.81.131:441724</td><td style=\"text-align: right;\">           7</td><td style=\"text-align: right;\">            2</td><td style=\"text-align: right;\">              9</td><td>2023-05-01T00:00:00</td><td style=\"text-align: right;\">0.000475103</td><td style=\"text-align: right;\">         0.0028</td><td>14d          </td><td style=\"text-align: right;\">     2</td><td style=\"text-align: right;\">         457.549</td><td style=\"text-align: right;\">              128</td><td style=\"text-align: right;\">         10</td><td style=\"text-align: right;\">  0.0097929  </td></tr>\n",
       "<tr><td>TrainLightGCN_de851f6d</td><td>TERMINATED</td><td>147.96.81.131:442333</td><td style=\"text-align: right;\">           9</td><td style=\"text-align: right;\">            4</td><td style=\"text-align: right;\">             16</td><td>2023-05-01T00:00:00</td><td style=\"text-align: right;\">3.67335e-06</td><td style=\"text-align: right;\">         0.0004</td><td>14d          </td><td style=\"text-align: right;\">     6</td><td style=\"text-align: right;\">         319.247</td><td style=\"text-align: right;\">              512</td><td style=\"text-align: right;\">         30</td><td style=\"text-align: right;\">  0.0676296  </td></tr>\n",
       "<tr><td>TrainLightGCN_254ed1f0</td><td>TERMINATED</td><td>147.96.81.131:442175</td><td style=\"text-align: right;\">           9</td><td style=\"text-align: right;\">            1</td><td style=\"text-align: right;\">              6</td><td>2023-05-01T00:00:00</td><td style=\"text-align: right;\">7.28612e-06</td><td style=\"text-align: right;\">         0.0212</td><td>14d          </td><td style=\"text-align: right;\">     6</td><td style=\"text-align: right;\">         339.256</td><td style=\"text-align: right;\">              512</td><td style=\"text-align: right;\">         30</td><td style=\"text-align: right;\">  0.0112621  </td></tr>\n",
       "<tr><td>TrainLightGCN_cb1d6d26</td><td>TERMINATED</td><td>147.96.81.131:442024</td><td style=\"text-align: right;\">           8</td><td style=\"text-align: right;\">            4</td><td style=\"text-align: right;\">              1</td><td>2023-05-01T00:00:00</td><td style=\"text-align: right;\">4.12389e-05</td><td style=\"text-align: right;\">         0.5997</td><td>1d           </td><td style=\"text-align: right;\">     9</td><td style=\"text-align: right;\">         317.739</td><td style=\"text-align: right;\">              256</td><td style=\"text-align: right;\">         45</td><td style=\"text-align: right;\">  0.405      </td></tr>\n",
       "<tr><td>TrainLightGCN_8e0dc18c</td><td>TERMINATED</td><td>147.96.81.131:441572</td><td style=\"text-align: right;\">           9</td><td style=\"text-align: right;\">            2</td><td style=\"text-align: right;\">              3</td><td>2023-05-01T00:00:00</td><td style=\"text-align: right;\">0.000588667</td><td style=\"text-align: right;\">         0.0011</td><td>14d          </td><td style=\"text-align: right;\">     5</td><td style=\"text-align: right;\">         315.492</td><td style=\"text-align: right;\">              512</td><td style=\"text-align: right;\">         25</td><td style=\"text-align: right;\">  0.0630143  </td></tr>\n",
       "<tr><td>TrainLightGCN_dc33ec50</td><td>TERMINATED</td><td>147.96.81.131:441387</td><td style=\"text-align: right;\">           8</td><td style=\"text-align: right;\">            4</td><td style=\"text-align: right;\">             15</td><td>2023-05-01T00:00:00</td><td style=\"text-align: right;\">0.000202125</td><td style=\"text-align: right;\">         0.2946</td><td>14d          </td><td style=\"text-align: right;\">     2</td><td style=\"text-align: right;\">         359.602</td><td style=\"text-align: right;\">              256</td><td style=\"text-align: right;\">         10</td><td style=\"text-align: right;\">  0.339167   </td></tr>\n",
       "<tr><td>TrainLightGCN_2508d4b3</td><td>TERMINATED</td><td>147.96.81.131:440022</td><td style=\"text-align: right;\">           8</td><td style=\"text-align: right;\">            4</td><td style=\"text-align: right;\">            646</td><td>2023-05-01T00:00:00</td><td style=\"text-align: right;\">6.00575e-05</td><td style=\"text-align: right;\">         0.0156</td><td>14d          </td><td style=\"text-align: right;\">     1</td><td style=\"text-align: right;\">         540.192</td><td style=\"text-align: right;\">              256</td><td style=\"text-align: right;\">          5</td><td style=\"text-align: right;\">  0.0257303  </td></tr>\n",
       "<tr><td>TrainLightGCN_24776afe</td><td>TERMINATED</td><td>147.96.81.131:439041</td><td style=\"text-align: right;\">           6</td><td style=\"text-align: right;\">            3</td><td style=\"text-align: right;\">             11</td><td>2023-05-01T00:00:00</td><td style=\"text-align: right;\">0.00287964 </td><td style=\"text-align: right;\">         0.9427</td><td>14d          </td><td style=\"text-align: right;\">     1</td><td style=\"text-align: right;\">         827.252</td><td style=\"text-align: right;\">               64</td><td style=\"text-align: right;\">          5</td><td style=\"text-align: right;\"> 13.5573     </td></tr>\n",
       "<tr><td>TrainLightGCN_e14c6025</td><td>TERMINATED</td><td>147.96.81.131:441079</td><td style=\"text-align: right;\">           9</td><td style=\"text-align: right;\">            3</td><td style=\"text-align: right;\">            546</td><td>2023-05-01T00:00:00</td><td style=\"text-align: right;\">8.62323e-07</td><td style=\"text-align: right;\">         0.0125</td><td>14d          </td><td style=\"text-align: right;\">     2</td><td style=\"text-align: right;\">         361.733</td><td style=\"text-align: right;\">              512</td><td style=\"text-align: right;\">         10</td><td style=\"text-align: right;\">  0.00496444 </td></tr>\n",
       "<tr><td>TrainLightGCN_5e72db4e</td><td>TERMINATED</td><td>147.96.81.131:439724</td><td style=\"text-align: right;\">           8</td><td style=\"text-align: right;\">            3</td><td style=\"text-align: right;\">            131</td><td>2023-05-01T00:00:00</td><td style=\"text-align: right;\">0.000117772</td><td style=\"text-align: right;\">         0.0222</td><td>14d          </td><td style=\"text-align: right;\">     2</td><td style=\"text-align: right;\">         525.289</td><td style=\"text-align: right;\">              256</td><td style=\"text-align: right;\">         10</td><td style=\"text-align: right;\">  0.0151608  </td></tr>\n",
       "<tr><td>TrainLightGCN_f2968c68</td><td>TERMINATED</td><td>147.96.81.131:440444</td><td style=\"text-align: right;\">           8</td><td style=\"text-align: right;\">            3</td><td style=\"text-align: right;\">            264</td><td>2023-05-01T00:00:00</td><td style=\"text-align: right;\">1.18305e-05</td><td style=\"text-align: right;\">         0.0037</td><td>7d           </td><td style=\"text-align: right;\">     2</td><td style=\"text-align: right;\">         466.866</td><td style=\"text-align: right;\">              256</td><td style=\"text-align: right;\">         10</td><td style=\"text-align: right;\">  0.000693542</td></tr>\n",
       "<tr><td>TrainLightGCN_08760a9a</td><td>TERMINATED</td><td>147.96.81.131:438752</td><td style=\"text-align: right;\">           6</td><td style=\"text-align: right;\">            4</td><td style=\"text-align: right;\">            162</td><td>2023-05-01T00:00:00</td><td style=\"text-align: right;\">0.000311919</td><td style=\"text-align: right;\">         0.0706</td><td>7d           </td><td style=\"text-align: right;\">     1</td><td style=\"text-align: right;\">         799.46 </td><td style=\"text-align: right;\">               64</td><td style=\"text-align: right;\">          5</td><td style=\"text-align: right;\">  0.300235   </td></tr>\n",
       "<tr><td>TrainLightGCN_58f8c8a3</td><td>TERMINATED</td><td>147.96.81.131:440931</td><td style=\"text-align: right;\">           8</td><td style=\"text-align: right;\">            3</td><td style=\"text-align: right;\">            129</td><td>2023-05-01T00:00:00</td><td style=\"text-align: right;\">8.32211e-05</td><td style=\"text-align: right;\">         0.1219</td><td>7d           </td><td style=\"text-align: right;\">     2</td><td style=\"text-align: right;\">         350.208</td><td style=\"text-align: right;\">              256</td><td style=\"text-align: right;\">         10</td><td style=\"text-align: right;\">  0.181711   </td></tr>\n",
       "<tr><td>TrainLightGCN_96d3c7b7</td><td>TERMINATED</td><td>147.96.81.131:441234</td><td style=\"text-align: right;\">          10</td><td style=\"text-align: right;\">            3</td><td style=\"text-align: right;\">             21</td><td>2023-05-01T00:00:00</td><td style=\"text-align: right;\">2.40473e-05</td><td style=\"text-align: right;\">         0.0007</td><td>14d          </td><td style=\"text-align: right;\">     6</td><td style=\"text-align: right;\">         314.129</td><td style=\"text-align: right;\">             1024</td><td style=\"text-align: right;\">         30</td><td style=\"text-align: right;\">  0.039831   </td></tr>\n",
       "<tr><td>TrainLightGCN_c16d83d4</td><td>TERMINATED</td><td>147.96.81.131:440171</td><td style=\"text-align: right;\">           7</td><td style=\"text-align: right;\">            3</td><td style=\"text-align: right;\">            221</td><td>2023-05-01T00:00:00</td><td style=\"text-align: right;\">1.00975e-07</td><td style=\"text-align: right;\">         0.0067</td><td>7d           </td><td style=\"text-align: right;\">     1</td><td style=\"text-align: right;\">         408.16 </td><td style=\"text-align: right;\">              128</td><td style=\"text-align: right;\">          5</td><td style=\"text-align: right;\">  0.00117179 </td></tr>\n",
       "<tr><td>TrainLightGCN_8efe76ce</td><td>TERMINATED</td><td>147.96.81.131:440614</td><td style=\"text-align: right;\">           9</td><td style=\"text-align: right;\">            3</td><td style=\"text-align: right;\">             50</td><td>2023-05-01T00:00:00</td><td style=\"text-align: right;\">0.000322147</td><td style=\"text-align: right;\">         0.0014</td><td>14d          </td><td style=\"text-align: right;\">     3</td><td style=\"text-align: right;\">         341.181</td><td style=\"text-align: right;\">              512</td><td style=\"text-align: right;\">         15</td><td style=\"text-align: right;\">  0.0176305  </td></tr>\n",
       "<tr><td>TrainLightGCN_65de6603</td><td>TERMINATED</td><td>147.96.81.131:440294</td><td style=\"text-align: right;\">           9</td><td style=\"text-align: right;\">            4</td><td style=\"text-align: right;\">              2</td><td>2023-05-01T00:00:00</td><td style=\"text-align: right;\">0.000805239</td><td style=\"text-align: right;\">         0.0926</td><td>14d          </td><td style=\"text-align: right;\">     3</td><td style=\"text-align: right;\">         343.33 </td><td style=\"text-align: right;\">              512</td><td style=\"text-align: right;\">         15</td><td style=\"text-align: right;\">  0.0764809  </td></tr>\n",
       "<tr><td>TrainLightGCN_45fc456b</td><td>TERMINATED</td><td>147.96.81.131:438610</td><td style=\"text-align: right;\">           7</td><td style=\"text-align: right;\">            4</td><td style=\"text-align: right;\">            175</td><td>2023-05-01T00:00:00</td><td style=\"text-align: right;\">0.00895462 </td><td style=\"text-align: right;\">         0.318 </td><td>14d          </td><td style=\"text-align: right;\">     1</td><td style=\"text-align: right;\">         671.097</td><td style=\"text-align: right;\">              128</td><td style=\"text-align: right;\">          5</td><td style=\"text-align: right;\"> 10.3157     </td></tr>\n",
       "<tr><td>TrainLightGCN_80b2d7d8</td><td>TERMINATED</td><td>147.96.81.131:439572</td><td style=\"text-align: right;\">           8</td><td style=\"text-align: right;\">            4</td><td style=\"text-align: right;\">            696</td><td>2023-05-01T00:00:00</td><td style=\"text-align: right;\">6.61614e-06</td><td style=\"text-align: right;\">         0.0054</td><td>7d           </td><td style=\"text-align: right;\">     1</td><td style=\"text-align: right;\">         387.008</td><td style=\"text-align: right;\">              256</td><td style=\"text-align: right;\">          5</td><td style=\"text-align: right;\">  0.00133476 </td></tr>\n",
       "<tr><td>TrainLightGCN_8c393eaf</td><td>TERMINATED</td><td>147.96.81.131:439873</td><td style=\"text-align: right;\">           9</td><td style=\"text-align: right;\">            4</td><td style=\"text-align: right;\">             52</td><td>2023-05-01T00:00:00</td><td style=\"text-align: right;\">2.23293e-05</td><td style=\"text-align: right;\">         0.0387</td><td>7d           </td><td style=\"text-align: right;\">     4</td><td style=\"text-align: right;\">         345.562</td><td style=\"text-align: right;\">              512</td><td style=\"text-align: right;\">         20</td><td style=\"text-align: right;\">  0.00295554 </td></tr>\n",
       "<tr><td>TrainLightGCN_fa3acfc7</td><td>TERMINATED</td><td>147.96.81.131:437579</td><td style=\"text-align: right;\">           7</td><td style=\"text-align: right;\">            4</td><td style=\"text-align: right;\">             97</td><td>2023-05-01T00:00:00</td><td style=\"text-align: right;\">6.09932e-05</td><td style=\"text-align: right;\">         0.0021</td><td>14d          </td><td style=\"text-align: right;\">     1</td><td style=\"text-align: right;\">         538.978</td><td style=\"text-align: right;\">              128</td><td style=\"text-align: right;\">          5</td><td style=\"text-align: right;\">  0.0107894  </td></tr>\n",
       "<tr><td>TrainLightGCN_87f3ab51</td><td>TERMINATED</td><td>147.96.81.131:439218</td><td style=\"text-align: right;\">           8</td><td style=\"text-align: right;\">            4</td><td style=\"text-align: right;\">             14</td><td>2023-05-01T00:00:00</td><td style=\"text-align: right;\">0.000368568</td><td style=\"text-align: right;\">         0.3379</td><td>14d          </td><td style=\"text-align: right;\">     2</td><td style=\"text-align: right;\">         446.064</td><td style=\"text-align: right;\">              256</td><td style=\"text-align: right;\">         10</td><td style=\"text-align: right;\">  0.453297   </td></tr>\n",
       "<tr><td>TrainLightGCN_91b6c4e3</td><td>TERMINATED</td><td>147.96.81.131:437281</td><td style=\"text-align: right;\">           8</td><td style=\"text-align: right;\">            2</td><td style=\"text-align: right;\">            241</td><td>2023-05-01T00:00:00</td><td style=\"text-align: right;\">5.10482e-06</td><td style=\"text-align: right;\">         0.0017</td><td>14d          </td><td style=\"text-align: right;\">     2</td><td style=\"text-align: right;\">         516.726</td><td style=\"text-align: right;\">              256</td><td style=\"text-align: right;\">         10</td><td style=\"text-align: right;\">  0.00144457 </td></tr>\n",
       "<tr><td>TrainLightGCN_9d2afd23</td><td>TERMINATED</td><td>147.96.81.131:439373</td><td style=\"text-align: right;\">           9</td><td style=\"text-align: right;\">            3</td><td style=\"text-align: right;\">            508</td><td>2023-05-01T00:00:00</td><td style=\"text-align: right;\">1.74534e-05</td><td style=\"text-align: right;\">         0.0111</td><td>14d          </td><td style=\"text-align: right;\">     2</td><td style=\"text-align: right;\">         395.585</td><td style=\"text-align: right;\">              512</td><td style=\"text-align: right;\">         10</td><td style=\"text-align: right;\">  0.00527651 </td></tr>\n",
       "<tr><td>TrainLightGCN_4f5f5a00</td><td>TERMINATED</td><td>147.96.81.131:438308</td><td style=\"text-align: right;\">          10</td><td style=\"text-align: right;\">            3</td><td style=\"text-align: right;\">            390</td><td>2023-05-01T00:00:00</td><td style=\"text-align: right;\">1.15289e-05</td><td style=\"text-align: right;\">         0.0244</td><td>14d          </td><td style=\"text-align: right;\">     4</td><td style=\"text-align: right;\">         363.052</td><td style=\"text-align: right;\">             1024</td><td style=\"text-align: right;\">         20</td><td style=\"text-align: right;\">  0.0112586  </td></tr>\n",
       "<tr><td>TrainLightGCN_63a90dd7</td><td>TERMINATED</td><td>147.96.81.131:438158</td><td style=\"text-align: right;\">          10</td><td style=\"text-align: right;\">            3</td><td style=\"text-align: right;\">            400</td><td>2023-05-01T00:00:00</td><td style=\"text-align: right;\">3.03222e-07</td><td style=\"text-align: right;\">         0.0004</td><td>7d           </td><td style=\"text-align: right;\">     6</td><td style=\"text-align: right;\">         365.196</td><td style=\"text-align: right;\">             1024</td><td style=\"text-align: right;\">         30</td><td style=\"text-align: right;\">  0.0091873  </td></tr>\n",
       "<tr><td>TrainLightGCN_5226c5bd</td><td>TERMINATED</td><td>147.96.81.131:438901</td><td style=\"text-align: right;\">           7</td><td style=\"text-align: right;\">            4</td><td style=\"text-align: right;\">             50</td><td>2023-05-01T00:00:00</td><td style=\"text-align: right;\">0.00467826 </td><td style=\"text-align: right;\">         0.0628</td><td>7d           </td><td style=\"text-align: right;\">     1</td><td style=\"text-align: right;\">         326.218</td><td style=\"text-align: right;\">              128</td><td style=\"text-align: right;\">          5</td><td style=\"text-align: right;\">  0.0721397  </td></tr>\n",
       "<tr><td>TrainLightGCN_c22bcde8</td><td>TERMINATED</td><td>147.96.81.131:437849</td><td style=\"text-align: right;\">          10</td><td style=\"text-align: right;\">            1</td><td style=\"text-align: right;\">            770</td><td>2023-05-01T00:00:00</td><td style=\"text-align: right;\">0.0042698  </td><td style=\"text-align: right;\">         0.9479</td><td>7d           </td><td style=\"text-align: right;\">     7</td><td style=\"text-align: right;\">         358.433</td><td style=\"text-align: right;\">             1024</td><td style=\"text-align: right;\">         35</td><td style=\"text-align: right;\">164.395      </td></tr>\n",
       "<tr><td>TrainLightGCN_824600c6</td><td>TERMINATED</td><td>147.96.81.131:438004</td><td style=\"text-align: right;\">          10</td><td style=\"text-align: right;\">            1</td><td style=\"text-align: right;\">            962</td><td>2023-05-01T00:00:00</td><td style=\"text-align: right;\">2.15794e-07</td><td style=\"text-align: right;\">         0.0346</td><td>7d           </td><td style=\"text-align: right;\">     6</td><td style=\"text-align: right;\">         351.109</td><td style=\"text-align: right;\">             1024</td><td style=\"text-align: right;\">         30</td><td style=\"text-align: right;\">  0.0565795  </td></tr>\n",
       "<tr><td>TrainLightGCN_04b879c9</td><td>TERMINATED</td><td>147.96.81.131:437404</td><td style=\"text-align: right;\">           8</td><td style=\"text-align: right;\">            2</td><td style=\"text-align: right;\">             27</td><td>2023-05-01T00:00:00</td><td style=\"text-align: right;\">3.06006e-05</td><td style=\"text-align: right;\">         0.2056</td><td>1d           </td><td style=\"text-align: right;\">     6</td><td style=\"text-align: right;\">         370.5  </td><td style=\"text-align: right;\">              256</td><td style=\"text-align: right;\">         30</td><td style=\"text-align: right;\">  0.0374675  </td></tr>\n",
       "<tr><td>TrainLightGCN_695b6c09</td><td>TERMINATED</td><td>147.96.81.131:438452</td><td style=\"text-align: right;\">          10</td><td style=\"text-align: right;\">            1</td><td style=\"text-align: right;\">           1019</td><td>2023-05-01T00:00:00</td><td style=\"text-align: right;\">4.14753e-07</td><td style=\"text-align: right;\">         0.0047</td><td>7d           </td><td style=\"text-align: right;\">     5</td><td style=\"text-align: right;\">         304.838</td><td style=\"text-align: right;\">             1024</td><td style=\"text-align: right;\">         25</td><td style=\"text-align: right;\">  3.07552e-05</td></tr>\n",
       "<tr><td>TrainLightGCN_b90f4a07</td><td>TERMINATED</td><td>147.96.81.131:437703</td><td style=\"text-align: right;\">           9</td><td style=\"text-align: right;\">            2</td><td style=\"text-align: right;\">              3</td><td>2023-05-01T00:00:00</td><td style=\"text-align: right;\">0.00158506 </td><td style=\"text-align: right;\">         0.0001</td><td>1d           </td><td style=\"text-align: right;\">    10</td><td style=\"text-align: right;\">         321.668</td><td style=\"text-align: right;\">              512</td><td style=\"text-align: right;\">         50</td><td style=\"text-align: right;\">  0.0924965  </td></tr>\n",
       "<tr><td>TrainLightGCN_c6199aec</td><td>TERMINATED</td><td>147.96.81.131:435766</td><td style=\"text-align: right;\">           7</td><td style=\"text-align: right;\">            2</td><td style=\"text-align: right;\">             74</td><td>2023-05-01T00:00:00</td><td style=\"text-align: right;\">8.63799e-07</td><td style=\"text-align: right;\">         0.1736</td><td>14d          </td><td style=\"text-align: right;\">     2</td><td style=\"text-align: right;\">         648.008</td><td style=\"text-align: right;\">              128</td><td style=\"text-align: right;\">         10</td><td style=\"text-align: right;\">  0.502716   </td></tr>\n",
       "<tr><td>TrainLightGCN_1430770b</td><td>TERMINATED</td><td>147.96.81.131:436897</td><td style=\"text-align: right;\">           9</td><td style=\"text-align: right;\">            3</td><td style=\"text-align: right;\">            447</td><td>2023-05-01T00:00:00</td><td style=\"text-align: right;\">0.000129301</td><td style=\"text-align: right;\">         0.0008</td><td>7d           </td><td style=\"text-align: right;\">     4</td><td style=\"text-align: right;\">         385.623</td><td style=\"text-align: right;\">              512</td><td style=\"text-align: right;\">         20</td><td style=\"text-align: right;\">  0.00459813 </td></tr>\n",
       "<tr><td>TrainLightGCN_df0a9f95</td><td>TERMINATED</td><td>147.96.81.131:435062</td><td style=\"text-align: right;\">           9</td><td style=\"text-align: right;\">            3</td><td style=\"text-align: right;\">            665</td><td>2023-05-01T00:00:00</td><td style=\"text-align: right;\">2.74456e-05</td><td style=\"text-align: right;\">         0.0092</td><td>14d          </td><td style=\"text-align: right;\">     3</td><td style=\"text-align: right;\">         425.885</td><td style=\"text-align: right;\">              512</td><td style=\"text-align: right;\">         15</td><td style=\"text-align: right;\">  0.00320803 </td></tr>\n",
       "<tr><td>TrainLightGCN_5821a765</td><td>TERMINATED</td><td>147.96.81.131:435484</td><td style=\"text-align: right;\">           7</td><td style=\"text-align: right;\">            2</td><td style=\"text-align: right;\">             34</td><td>2023-05-01T00:00:00</td><td style=\"text-align: right;\">0.0007608  </td><td style=\"text-align: right;\">         0.0091</td><td>7d           </td><td style=\"text-align: right;\">     2</td><td style=\"text-align: right;\">         393.41 </td><td style=\"text-align: right;\">              128</td><td style=\"text-align: right;\">         10</td><td style=\"text-align: right;\">  0.0027566  </td></tr>\n",
       "<tr><td>TrainLightGCN_bb981934</td><td>TERMINATED</td><td>147.96.81.131:436473</td><td style=\"text-align: right;\">           8</td><td style=\"text-align: right;\">            2</td><td style=\"text-align: right;\">             96</td><td>2023-05-01T00:00:00</td><td style=\"text-align: right;\">4.92424e-05</td><td style=\"text-align: right;\">         0.0784</td><td>1d           </td><td style=\"text-align: right;\">     8</td><td style=\"text-align: right;\">         351.062</td><td style=\"text-align: right;\">              256</td><td style=\"text-align: right;\">         40</td><td style=\"text-align: right;\">  0.0319289  </td></tr>\n",
       "<tr><td>TrainLightGCN_a53876d2</td><td>TERMINATED</td><td>147.96.81.131:436189</td><td style=\"text-align: right;\">           8</td><td style=\"text-align: right;\">            4</td><td style=\"text-align: right;\">            219</td><td>2023-05-01T00:00:00</td><td style=\"text-align: right;\">0.000261231</td><td style=\"text-align: right;\">         0.095 </td><td>7d           </td><td style=\"text-align: right;\">     2</td><td style=\"text-align: right;\">         356.148</td><td style=\"text-align: right;\">              256</td><td style=\"text-align: right;\">         10</td><td style=\"text-align: right;\">  0.193216   </td></tr>\n",
       "<tr><td>TrainLightGCN_aba18e62</td><td>TERMINATED</td><td>147.96.81.131:437039</td><td style=\"text-align: right;\">           9</td><td style=\"text-align: right;\">            4</td><td style=\"text-align: right;\">              7</td><td>2023-05-01T00:00:00</td><td style=\"text-align: right;\">2.91903e-06</td><td style=\"text-align: right;\">         0.1593</td><td>1d           </td><td style=\"text-align: right;\">    14</td><td style=\"text-align: right;\">         315.844</td><td style=\"text-align: right;\">              512</td><td style=\"text-align: right;\">         70</td><td style=\"text-align: right;\">  0.00793709 </td></tr>\n",
       "<tr><td>TrainLightGCN_d70c7898</td><td>TERMINATED</td><td>147.96.81.131:434942</td><td style=\"text-align: right;\">           6</td><td style=\"text-align: right;\">            3</td><td style=\"text-align: right;\">              7</td><td>2023-05-01T00:00:00</td><td style=\"text-align: right;\">4.28572e-06</td><td style=\"text-align: right;\">         0.0001</td><td>14d          </td><td style=\"text-align: right;\">     1</td><td style=\"text-align: right;\">         382.992</td><td style=\"text-align: right;\">               64</td><td style=\"text-align: right;\">          5</td><td style=\"text-align: right;\">  0.138896   </td></tr>\n",
       "<tr><td>TrainLightGCN_9a418c45</td><td>TERMINATED</td><td>147.96.81.131:435203</td><td style=\"text-align: right;\">           8</td><td style=\"text-align: right;\">            4</td><td style=\"text-align: right;\">             32</td><td>2023-05-01T00:00:00</td><td style=\"text-align: right;\">1.24202e-06</td><td style=\"text-align: right;\">         0.015 </td><td>14d          </td><td style=\"text-align: right;\">     3</td><td style=\"text-align: right;\">         372.773</td><td style=\"text-align: right;\">              256</td><td style=\"text-align: right;\">         15</td><td style=\"text-align: right;\">  0.00104764 </td></tr>\n",
       "<tr><td>TrainLightGCN_69ba991c</td><td>TERMINATED</td><td>147.96.81.131:436330</td><td style=\"text-align: right;\">           9</td><td style=\"text-align: right;\">            2</td><td style=\"text-align: right;\">             26</td><td>2023-05-01T00:00:00</td><td style=\"text-align: right;\">1.42721e-06</td><td style=\"text-align: right;\">         0.6694</td><td>1d           </td><td style=\"text-align: right;\">    15</td><td style=\"text-align: right;\">         332.89 </td><td style=\"text-align: right;\">              512</td><td style=\"text-align: right;\">         75</td><td style=\"text-align: right;\">  0.0829906  </td></tr>\n",
       "<tr><td>TrainLightGCN_0b37b26a</td><td>TERMINATED</td><td>147.96.81.131:436756</td><td style=\"text-align: right;\">           9</td><td style=\"text-align: right;\">            3</td><td style=\"text-align: right;\">             86</td><td>2023-05-01T00:00:00</td><td style=\"text-align: right;\">0.000166749</td><td style=\"text-align: right;\">         0.0002</td><td>1d           </td><td style=\"text-align: right;\">    14</td><td style=\"text-align: right;\">         316.571</td><td style=\"text-align: right;\">              512</td><td style=\"text-align: right;\">         70</td><td style=\"text-align: right;\">  0.0100126  </td></tr>\n",
       "<tr><td>TrainLightGCN_879ac432</td><td>TERMINATED</td><td>147.96.81.131:435907</td><td style=\"text-align: right;\">          10</td><td style=\"text-align: right;\">            3</td><td style=\"text-align: right;\">            332</td><td>2023-05-01T00:00:00</td><td style=\"text-align: right;\">0.00221159 </td><td style=\"text-align: right;\">         0.4863</td><td>14d          </td><td style=\"text-align: right;\">     6</td><td style=\"text-align: right;\">         342.282</td><td style=\"text-align: right;\">             1024</td><td style=\"text-align: right;\">         30</td><td style=\"text-align: right;\"> 12.8093     </td></tr>\n",
       "<tr><td>TrainLightGCN_5a859546</td><td>TERMINATED</td><td>147.96.81.131:436616</td><td style=\"text-align: right;\">          10</td><td style=\"text-align: right;\">            2</td><td style=\"text-align: right;\">            364</td><td>2023-05-01T00:00:00</td><td style=\"text-align: right;\">2.08113e-06</td><td style=\"text-align: right;\">         0.0002</td><td>7d           </td><td style=\"text-align: right;\">     8</td><td style=\"text-align: right;\">         310.766</td><td style=\"text-align: right;\">             1024</td><td style=\"text-align: right;\">         40</td><td style=\"text-align: right;\">  0.00947576 </td></tr>\n",
       "<tr><td>TrainLightGCN_a5ab00b2</td><td>TERMINATED</td><td>147.96.81.131:436048</td><td style=\"text-align: right;\">          10</td><td style=\"text-align: right;\">            1</td><td style=\"text-align: right;\">              1</td><td>2023-05-01T00:00:00</td><td style=\"text-align: right;\">0.000699071</td><td style=\"text-align: right;\">         0.0029</td><td>1d           </td><td style=\"text-align: right;\">    28</td><td style=\"text-align: right;\">         328.47 </td><td style=\"text-align: right;\">             1024</td><td style=\"text-align: right;\">        140</td><td style=\"text-align: right;\">  0.0127133  </td></tr>\n",
       "<tr><td>TrainLightGCN_250823fd</td><td>TERMINATED</td><td>147.96.81.131:435343</td><td style=\"text-align: right;\">           9</td><td style=\"text-align: right;\">            2</td><td style=\"text-align: right;\">             86</td><td>2023-05-01T00:00:00</td><td style=\"text-align: right;\">0.00134325 </td><td style=\"text-align: right;\">         0.0006</td><td>1d           </td><td style=\"text-align: right;\">    17</td><td style=\"text-align: right;\">         333.661</td><td style=\"text-align: right;\">              512</td><td style=\"text-align: right;\">         85</td><td style=\"text-align: right;\">  0.00472464 </td></tr>\n",
       "<tr><td>TrainLightGCN_1e54fc3a</td><td>TERMINATED</td><td>147.96.81.131:435627</td><td style=\"text-align: right;\">           6</td><td style=\"text-align: right;\">            2</td><td style=\"text-align: right;\">            217</td><td>2023-05-01T00:00:00</td><td style=\"text-align: right;\">2.53991e-06</td><td style=\"text-align: right;\">         0.4785</td><td>1d           </td><td style=\"text-align: right;\">     2</td><td style=\"text-align: right;\">         318.954</td><td style=\"text-align: right;\">               64</td><td style=\"text-align: right;\">         10</td><td style=\"text-align: right;\">  9.44105    </td></tr>\n",
       "</tbody>\n",
       "</table>\n",
       "  </div>\n",
       "</div>\n",
       "<style>\n",
       ".tuneStatus {\n",
       "  color: var(--jp-ui-font-color1);\n",
       "}\n",
       ".tuneStatus .systemInfo {\n",
       "  display: flex;\n",
       "  flex-direction: column;\n",
       "}\n",
       ".tuneStatus td {\n",
       "  white-space: nowrap;\n",
       "}\n",
       ".tuneStatus .trialStatus {\n",
       "  display: flex;\n",
       "  flex-direction: column;\n",
       "}\n",
       ".tuneStatus h3 {\n",
       "  font-weight: bold;\n",
       "}\n",
       ".tuneStatus .hDivider {\n",
       "  border-bottom-width: var(--jp-border-width);\n",
       "  border-bottom-color: var(--jp-border-color0);\n",
       "  border-bottom-style: solid;\n",
       "}\n",
       ".tuneStatus .vDivider {\n",
       "  border-left-width: var(--jp-border-width);\n",
       "  border-left-color: var(--jp-border-color0);\n",
       "  border-left-style: solid;\n",
       "  margin: 0.5em 1em 0.5em 1em;\n",
       "}\n",
       "</style>\n"
      ],
      "text/plain": [
       "<IPython.core.display.HTML object>"
      ]
     },
     "metadata": {},
     "output_type": "display_data"
    },
    {
     "name": "stderr",
     "output_type": "stream",
     "text": [
      "2024-09-07 01:44:47,432\tINFO tune_controller.py:444 -- Restoring the run from the latest experiment state file: experiment_state-2024-09-07_01-00-18.json\n"
     ]
    },
    {
     "name": "stderr",
     "output_type": "stream",
     "text": [
      "2024-09-07 01:44:47,909\tINFO tune.py:1009 -- Wrote the latest version of all result files and experiment state to '/home/daviddavo/ray_results3.11/Aave - Aavegotchi/LightGCN_5d_normalize_map@10_fold=2023-05-01T00:00:00_2024-09-07T01:00:18.658957' in 0.3190s.\n"
     ]
    },
    {
     "name": "stderr",
     "output_type": "stream",
     "text": [
      "2024-09-07 01:44:47,922\tINFO tune.py:1041 -- Total run time: 0.50 seconds (0.00 seconds for the tuning loop).\n"
     ]
    },
    {
     "name": "stdout",
     "output_type": "stream",
     "text": [
      "Finished training for fold 2023-05-01T00:00:00\n"
     ]
    }
   ],
   "source": [
    "import logging\n",
    "import requests\n",
    "\n",
    "def findConfig(rg):\n",
    "    for r in rg:\n",
    "        if r.config:\n",
    "            lbrc = last_best_result.config\n",
    "            if all((r.config[k] == v for k, v in last_best_result.config.items() if k != 'fold')):\n",
    "                return r\n",
    "            elif all((r.config[k] == v for k, v in last_best_result.config.items() if k != 'fold' and k != 'window_size')):\n",
    "                print(\"Possible coincidence:\", r.config, file=sys.stderr)\n",
    "\n",
    "    return None\n",
    "\n",
    "tuners = []\n",
    "results = []\n",
    "last_best_result = None\n",
    "pbar.reset()\n",
    "\n",
    "last_best_fold = None\n",
    "requests.post(\"https://ntfy.sh/grasia_notebooks\", data=f\"Start running microsoft_tuning for {ORG_NAME}\")\n",
    "for i, (prev_f_idx, f_idx) in enumerate(zip(it.chain([None], use_folds_idx), use_folds_idx)):\n",
    "    try:\n",
    "        with out:\n",
    "            best_prev_config = None\n",
    "            if last_best_result is not None:\n",
    "                best_prev_config = last_best_result.config.copy()\n",
    "                assert best_prev_config['fold'] == prev_f_idx\n",
    "                best_prev_config['fold'] = f_idx\n",
    "                print(f\"Also evaluating best_prev_config ({OPTIM_METRIC}={last_best_result.metrics[OPTIM_METRIC]}): {best_prev_config}\")\n",
    "                best_prev_config = [best_prev_config]\n",
    "        \n",
    "        t = getTunerOnFold(f_idx, best_prev_config)\n",
    "        tuners.append(t)\n",
    "    \n",
    "        rg = t.fit()\n",
    "        \n",
    "        # FIXME: load results from disk until ray-project/ray#47358 is solved\n",
    "        # https://github.com/ray-project/ray/issues/47358\n",
    "        t = getTunerOnFold(f_idx, best_prev_config)\n",
    "        tuners[-1] = t\n",
    "        rg = t.fit()\n",
    "    \n",
    "        assert rg.num_errors == 0, f\"There are {rg.num_errors} errors\"\n",
    "        assert rg.num_terminated >= NUM_SAMPLES, f'Some samples are not terminated ({rg.num_terminated} != {NUM_SAMPLES})'\n",
    "        assert len(rg.get_dataframe()) >= NUM_SAMPLES\n",
    "        results.append(rg)\n",
    "    \n",
    "        # Assert that the prev config has been tried\n",
    "        if last_best_result is not None:\n",
    "            # if not any( \n",
    "            #     all((r.config[k] == v for k, v in last_best_result.config.items() if k != 'fold'))\n",
    "            #     for r in rg if r.config\n",
    "            # ):\n",
    "            if not findConfig(rg):\n",
    "                print(\"Best config:\", last_best_result.config)\n",
    "                assert False, f\"The best config from previous fold has not been tested in fold {f_idx}\"    \n",
    "            else:\n",
    "                logging.info(f'Fold {f_idx}. Best prev result was {last_best_result.path} and config has been found {findConfig(rg).path}')\n",
    "        \n",
    "        last_best_result = rg.get_best_result()\n",
    "        pbar.update()\n",
    "    \n",
    "        print(f\"Finished training for fold {f_idx}\")\n",
    "        requests.post(\"https://ntfy.sh/grasia_notebooks\", data=f\"Finished running fold {i} for {ORG_NAME}\")\n",
    "    except Exception as e:\n",
    "        requests.post(\"https://ntfy.sh/grasia_notebooks\", data=f\"Error on fold {i} for {ORG_NAME}: {repr(e)}\")\n",
    "        raise\n",
    "\n",
    "pbar.close()"
   ]
  },
  {
   "cell_type": "code",
   "execution_count": 24,
   "id": "8e8880ce",
   "metadata": {
    "editable": true,
    "execution": {
     "iopub.execute_input": "2024-09-07T01:44:48.488778Z",
     "iopub.status.busy": "2024-09-07T01:44:48.488673Z",
     "iopub.status.idle": "2024-09-07T01:44:48.833605Z",
     "shell.execute_reply": "2024-09-07T01:44:48.831873Z"
    },
    "papermill": {
     "duration": 0.357048,
     "end_time": "2024-09-07T01:44:48.837085",
     "exception": false,
     "start_time": "2024-09-07T01:44:48.480037",
     "status": "completed"
    },
    "slideshow": {
     "slide_type": ""
    },
    "tags": []
   },
   "outputs": [
    {
     "name": "stdout",
     "output_type": "stream",
     "text": [
      "Finished!\n"
     ]
    }
   ],
   "source": [
    "requests.post(\"https://ntfy.sh/grasia_notebooks\", data=f\"Finished running everything for {ORG_NAME}\")\n",
    "print(\"Finished!\")"
   ]
  }
 ],
 "metadata": {
  "kernelspec": {
   "display_name": "Python 3 (ipykernel)",
   "language": "python",
   "name": "python3"
  },
  "language_info": {
   "codemirror_mode": {
    "name": "ipython",
    "version": 3
   },
   "file_extension": ".py",
   "mimetype": "text/x-python",
   "name": "python",
   "nbconvert_exporter": "python",
   "pygments_lexer": "ipython3",
   "version": "3.11.6"
  },
  "papermill": {
   "default_parameters": {},
   "duration": 31403.388594,
   "end_time": "2024-09-07T01:44:54.064345",
   "environment_variables": {},
   "exception": null,
   "input_path": "20_microsoft_tuning.ipynb",
   "output_path": "../nbout/Aave - Aavegotchi/20_microsoft_tuning.ipynb",
   "parameters": {
    "EXECUTION_ID": "2024-09-04T10:00",
    "LAST_FOLDS": 10,
    "LAST_FOLD_DATE_STR": "2023-05-01",
    "MODEL_NAMES": [
     "all-MiniLM-L12-v2"
    ],
    "ORG_NAME": "Aave - Aavegotchi",
    "SPLITS_FREQ": "5d",
    "SPLITS_NORMALIZE": true,
    "WINDOW_SIZES": [
     "1d",
     "7d",
     "14d"
    ]
   },
   "start_time": "2024-09-06T17:01:30.675751",
   "version": "2.6.0"
  },
  "widgets": {
   "application/vnd.jupyter.widget-state+json": {
    "state": {
     "36a369d8d19b45eaa4bb33a2818e1a17": {
      "model_module": "@jupyter-widgets/base",
      "model_module_version": "2.0.0",
      "model_name": "LayoutModel",
      "state": {
       "_model_module": "@jupyter-widgets/base",
       "_model_module_version": "2.0.0",
       "_model_name": "LayoutModel",
       "_view_count": null,
       "_view_module": "@jupyter-widgets/base",
       "_view_module_version": "2.0.0",
       "_view_name": "LayoutView",
       "align_content": null,
       "align_items": null,
       "align_self": null,
       "border_bottom": null,
       "border_left": null,
       "border_right": null,
       "border_top": null,
       "bottom": null,
       "display": null,
       "flex": null,
       "flex_flow": null,
       "grid_area": null,
       "grid_auto_columns": null,
       "grid_auto_flow": null,
       "grid_auto_rows": null,
       "grid_column": null,
       "grid_gap": null,
       "grid_row": null,
       "grid_template_areas": null,
       "grid_template_columns": null,
       "grid_template_rows": null,
       "height": null,
       "justify_content": null,
       "justify_items": null,
       "left": null,
       "margin": null,
       "max_height": null,
       "max_width": null,
       "min_height": null,
       "min_width": null,
       "object_fit": null,
       "object_position": null,
       "order": null,
       "overflow": null,
       "padding": null,
       "right": null,
       "top": null,
       "visibility": null,
       "width": null
      }
     },
     "3a2fbdc922ea4dffaedad66fc2b644b5": {
      "model_module": "@jupyter-widgets/base",
      "model_module_version": "2.0.0",
      "model_name": "LayoutModel",
      "state": {
       "_model_module": "@jupyter-widgets/base",
       "_model_module_version": "2.0.0",
       "_model_name": "LayoutModel",
       "_view_count": null,
       "_view_module": "@jupyter-widgets/base",
       "_view_module_version": "2.0.0",
       "_view_name": "LayoutView",
       "align_content": null,
       "align_items": null,
       "align_self": null,
       "border_bottom": null,
       "border_left": null,
       "border_right": null,
       "border_top": null,
       "bottom": null,
       "display": null,
       "flex": null,
       "flex_flow": null,
       "grid_area": null,
       "grid_auto_columns": null,
       "grid_auto_flow": null,
       "grid_auto_rows": null,
       "grid_column": null,
       "grid_gap": null,
       "grid_row": null,
       "grid_template_areas": null,
       "grid_template_columns": null,
       "grid_template_rows": null,
       "height": null,
       "justify_content": null,
       "justify_items": null,
       "left": null,
       "margin": null,
       "max_height": null,
       "max_width": null,
       "min_height": null,
       "min_width": null,
       "object_fit": null,
       "object_position": null,
       "order": null,
       "overflow": null,
       "padding": null,
       "right": null,
       "top": null,
       "visibility": null,
       "width": null
      }
     },
     "a6a1da4abf9142d085261ea23f4c963a": {
      "model_module": "@jupyter-widgets/controls",
      "model_module_version": "2.0.0",
      "model_name": "FloatProgressModel",
      "state": {
       "_dom_classes": [],
       "_model_module": "@jupyter-widgets/controls",
       "_model_module_version": "2.0.0",
       "_model_name": "FloatProgressModel",
       "_view_count": null,
       "_view_module": "@jupyter-widgets/controls",
       "_view_module_version": "2.0.0",
       "_view_name": "ProgressView",
       "bar_style": "success",
       "description": "",
       "description_allow_html": false,
       "layout": "IPY_MODEL_e2a386b3cb8c416cadb8d6185df91835",
       "max": 10.0,
       "min": 0.0,
       "orientation": "horizontal",
       "style": "IPY_MODEL_f6f041e5b8964d62a6208499c702e308",
       "tabbable": null,
       "tooltip": null,
       "value": 10.0
      }
     },
     "a9ad7bd79663422999eebedffc3886b2": {
      "model_module": "@jupyter-widgets/controls",
      "model_module_version": "2.0.0",
      "model_name": "HBoxModel",
      "state": {
       "_dom_classes": [],
       "_model_module": "@jupyter-widgets/controls",
       "_model_module_version": "2.0.0",
       "_model_name": "HBoxModel",
       "_view_count": null,
       "_view_module": "@jupyter-widgets/controls",
       "_view_module_version": "2.0.0",
       "_view_name": "HBoxView",
       "box_style": "",
       "children": [
        "IPY_MODEL_d18cf74103404ce18748a48b0b9d61c5",
        "IPY_MODEL_a6a1da4abf9142d085261ea23f4c963a",
        "IPY_MODEL_c092c9f31ebf485a93bf867e9638aef4"
       ],
       "layout": "IPY_MODEL_3a2fbdc922ea4dffaedad66fc2b644b5",
       "tabbable": null,
       "tooltip": null
      }
     },
     "ae1eb799e8b34e2fb0b934bbdc7b29ce": {
      "model_module": "@jupyter-widgets/base",
      "model_module_version": "2.0.0",
      "model_name": "LayoutModel",
      "state": {
       "_model_module": "@jupyter-widgets/base",
       "_model_module_version": "2.0.0",
       "_model_name": "LayoutModel",
       "_view_count": null,
       "_view_module": "@jupyter-widgets/base",
       "_view_module_version": "2.0.0",
       "_view_name": "LayoutView",
       "align_content": null,
       "align_items": null,
       "align_self": null,
       "border_bottom": null,
       "border_left": null,
       "border_right": null,
       "border_top": null,
       "bottom": null,
       "display": null,
       "flex": null,
       "flex_flow": null,
       "grid_area": null,
       "grid_auto_columns": null,
       "grid_auto_flow": null,
       "grid_auto_rows": null,
       "grid_column": null,
       "grid_gap": null,
       "grid_row": null,
       "grid_template_areas": null,
       "grid_template_columns": null,
       "grid_template_rows": null,
       "height": null,
       "justify_content": null,
       "justify_items": null,
       "left": null,
       "margin": null,
       "max_height": null,
       "max_width": null,
       "min_height": null,
       "min_width": null,
       "object_fit": null,
       "object_position": null,
       "order": null,
       "overflow": null,
       "padding": null,
       "right": null,
       "top": null,
       "visibility": null,
       "width": null
      }
     },
     "c092c9f31ebf485a93bf867e9638aef4": {
      "model_module": "@jupyter-widgets/controls",
      "model_module_version": "2.0.0",
      "model_name": "HTMLModel",
      "state": {
       "_dom_classes": [],
       "_model_module": "@jupyter-widgets/controls",
       "_model_module_version": "2.0.0",
       "_model_name": "HTMLModel",
       "_view_count": null,
       "_view_module": "@jupyter-widgets/controls",
       "_view_module_version": "2.0.0",
       "_view_name": "HTMLView",
       "description": "",
       "description_allow_html": false,
       "layout": "IPY_MODEL_ae1eb799e8b34e2fb0b934bbdc7b29ce",
       "placeholder": "​",
       "style": "IPY_MODEL_c4ef8584d15341fea66fe5bbda7da26c",
       "tabbable": null,
       "tooltip": null,
       "value": " 10/10 [8:42:09&lt;00:00, 2868.77s/it]"
      }
     },
     "c4ef8584d15341fea66fe5bbda7da26c": {
      "model_module": "@jupyter-widgets/controls",
      "model_module_version": "2.0.0",
      "model_name": "HTMLStyleModel",
      "state": {
       "_model_module": "@jupyter-widgets/controls",
       "_model_module_version": "2.0.0",
       "_model_name": "HTMLStyleModel",
       "_view_count": null,
       "_view_module": "@jupyter-widgets/base",
       "_view_module_version": "2.0.0",
       "_view_name": "StyleView",
       "background": null,
       "description_width": "",
       "font_size": null,
       "text_color": null
      }
     },
     "cc7493d1932043bcb59003dde0d5e20f": {
      "model_module": "@jupyter-widgets/base",
      "model_module_version": "2.0.0",
      "model_name": "LayoutModel",
      "state": {
       "_model_module": "@jupyter-widgets/base",
       "_model_module_version": "2.0.0",
       "_model_name": "LayoutModel",
       "_view_count": null,
       "_view_module": "@jupyter-widgets/base",
       "_view_module_version": "2.0.0",
       "_view_name": "LayoutView",
       "align_content": null,
       "align_items": null,
       "align_self": null,
       "border_bottom": "1px solid black",
       "border_left": "1px solid black",
       "border_right": "1px solid black",
       "border_top": "1px solid black",
       "bottom": null,
       "display": null,
       "flex": null,
       "flex_flow": null,
       "grid_area": null,
       "grid_auto_columns": null,
       "grid_auto_flow": null,
       "grid_auto_rows": null,
       "grid_column": null,
       "grid_gap": null,
       "grid_row": null,
       "grid_template_areas": null,
       "grid_template_columns": null,
       "grid_template_rows": null,
       "height": null,
       "justify_content": null,
       "justify_items": null,
       "left": null,
       "margin": null,
       "max_height": null,
       "max_width": null,
       "min_height": null,
       "min_width": null,
       "object_fit": null,
       "object_position": null,
       "order": null,
       "overflow": null,
       "padding": null,
       "right": null,
       "top": null,
       "visibility": null,
       "width": null
      }
     },
     "d18cf74103404ce18748a48b0b9d61c5": {
      "model_module": "@jupyter-widgets/controls",
      "model_module_version": "2.0.0",
      "model_name": "HTMLModel",
      "state": {
       "_dom_classes": [],
       "_model_module": "@jupyter-widgets/controls",
       "_model_module_version": "2.0.0",
       "_model_name": "HTMLModel",
       "_view_count": null,
       "_view_module": "@jupyter-widgets/controls",
       "_view_module_version": "2.0.0",
       "_view_name": "HTMLView",
       "description": "",
       "description_allow_html": false,
       "layout": "IPY_MODEL_36a369d8d19b45eaa4bb33a2818e1a17",
       "placeholder": "​",
       "style": "IPY_MODEL_f33f819cf0f1456883ae2ad4272c556a",
       "tabbable": null,
       "tooltip": null,
       "value": "fold: 100%"
      }
     },
     "e081102d77dd42a5956c8ec12db0a9b8": {
      "model_module": "@jupyter-widgets/output",
      "model_module_version": "1.0.0",
      "model_name": "OutputModel",
      "state": {
       "_dom_classes": [],
       "_model_module": "@jupyter-widgets/output",
       "_model_module_version": "1.0.0",
       "_model_name": "OutputModel",
       "_view_count": null,
       "_view_module": "@jupyter-widgets/output",
       "_view_module_version": "1.0.0",
       "_view_name": "OutputView",
       "layout": "IPY_MODEL_cc7493d1932043bcb59003dde0d5e20f",
       "msg_id": "",
       "outputs": [
        {
         "name": "stdout",
         "output_type": "stream",
         "text": "In this cell important output from the next cell will be shown\nAlso evaluating best_prev_config (map@10=0.8713758623700987): {'batch_size': 10, 'embedding_dim': 8, 'conv_layers': 1, 'learning_rate': 0.031400000000000004, 'l2': 5.92794633496356e-07, 'window_size': '14d', 'fold': '2023-03-22T00:00:00'}\nAlso evaluating best_prev_config (map@10=0.7207923930269414): {'batch_size': 7, 'embedding_dim': 4, 'conv_layers': 4, 'learning_rate': 0.7328, 'l2': 8.781261643532998e-05, 'window_size': '14d', 'fold': '2023-03-27T00:00:00'}\nAlso evaluating best_prev_config (map@10=0.8220080910465012): {'batch_size': 8, 'embedding_dim': 4, 'conv_layers': 3, 'learning_rate': 0.2167, 'l2': 0.0007587126642007087, 'window_size': '14d', 'fold': '2023-04-01T00:00:00'}\nAlso evaluating best_prev_config (map@10=0.8652529485524041): {'batch_size': 6, 'embedding_dim': 910, 'conv_layers': 4, 'learning_rate': 0.0196, 'l2': 1.0605304250134682e-05, 'window_size': '14d', 'fold': '2023-04-06T00:00:00'}\nAlso evaluating best_prev_config (map@10=0.7576622271124827): {'batch_size': 6, 'embedding_dim': 133, 'conv_layers': 4, 'learning_rate': 0.8928, 'l2': 0.0017723356455697206, 'window_size': '14d', 'fold': '2023-04-11T00:00:00'}\nAlso evaluating best_prev_config (map@10=0.7813659405096164): {'batch_size': 8, 'embedding_dim': 110, 'conv_layers': 4, 'learning_rate': 0.0001, 'l2': 0.009571939731569922, 'window_size': '14d', 'fold': '2023-04-16T00:00:00'}\nAlso evaluating best_prev_config (map@10=0.8276677279438908): {'batch_size': 6, 'embedding_dim': 8, 'conv_layers': 1, 'learning_rate': 0.0006000000000000001, 'l2': 2.63654651721649e-07, 'window_size': '14d', 'fold': '2023-04-21T00:00:00'}\nAlso evaluating best_prev_config (map@10=0.9832487850161715): {'batch_size': 10, 'embedding_dim': 348, 'conv_layers': 3, 'learning_rate': 0.020200000000000003, 'l2': 0.002294823839094979, 'window_size': '14d', 'fold': '2023-04-26T00:00:00'}\nAlso evaluating best_prev_config (map@10=0.9564846307078392): {'batch_size': 6, 'embedding_dim': 7, 'conv_layers': 3, 'learning_rate': 0.0001, 'l2': 4.285718788306277e-06, 'window_size': '14d', 'fold': '2023-05-01T00:00:00'}\n"
        }
       ],
       "tabbable": null,
       "tooltip": null
      }
     },
     "e2a386b3cb8c416cadb8d6185df91835": {
      "model_module": "@jupyter-widgets/base",
      "model_module_version": "2.0.0",
      "model_name": "LayoutModel",
      "state": {
       "_model_module": "@jupyter-widgets/base",
       "_model_module_version": "2.0.0",
       "_model_name": "LayoutModel",
       "_view_count": null,
       "_view_module": "@jupyter-widgets/base",
       "_view_module_version": "2.0.0",
       "_view_name": "LayoutView",
       "align_content": null,
       "align_items": null,
       "align_self": null,
       "border_bottom": null,
       "border_left": null,
       "border_right": null,
       "border_top": null,
       "bottom": null,
       "display": null,
       "flex": null,
       "flex_flow": null,
       "grid_area": null,
       "grid_auto_columns": null,
       "grid_auto_flow": null,
       "grid_auto_rows": null,
       "grid_column": null,
       "grid_gap": null,
       "grid_row": null,
       "grid_template_areas": null,
       "grid_template_columns": null,
       "grid_template_rows": null,
       "height": null,
       "justify_content": null,
       "justify_items": null,
       "left": null,
       "margin": null,
       "max_height": null,
       "max_width": null,
       "min_height": null,
       "min_width": null,
       "object_fit": null,
       "object_position": null,
       "order": null,
       "overflow": null,
       "padding": null,
       "right": null,
       "top": null,
       "visibility": null,
       "width": null
      }
     },
     "f33f819cf0f1456883ae2ad4272c556a": {
      "model_module": "@jupyter-widgets/controls",
      "model_module_version": "2.0.0",
      "model_name": "HTMLStyleModel",
      "state": {
       "_model_module": "@jupyter-widgets/controls",
       "_model_module_version": "2.0.0",
       "_model_name": "HTMLStyleModel",
       "_view_count": null,
       "_view_module": "@jupyter-widgets/base",
       "_view_module_version": "2.0.0",
       "_view_name": "StyleView",
       "background": null,
       "description_width": "",
       "font_size": null,
       "text_color": null
      }
     },
     "f6f041e5b8964d62a6208499c702e308": {
      "model_module": "@jupyter-widgets/controls",
      "model_module_version": "2.0.0",
      "model_name": "ProgressStyleModel",
      "state": {
       "_model_module": "@jupyter-widgets/controls",
       "_model_module_version": "2.0.0",
       "_model_name": "ProgressStyleModel",
       "_view_count": null,
       "_view_module": "@jupyter-widgets/base",
       "_view_module_version": "2.0.0",
       "_view_name": "StyleView",
       "bar_color": null,
       "description_width": ""
      }
     }
    },
    "version_major": 2,
    "version_minor": 0
   }
  }
 },
 "nbformat": 4,
 "nbformat_minor": 5
}