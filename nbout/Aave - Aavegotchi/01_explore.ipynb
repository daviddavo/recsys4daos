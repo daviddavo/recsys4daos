{
 "cells": [
  {
   "cell_type": "code",
   "execution_count": 1,
   "id": "640054cf-a577-4483-9273-e1e1f8dc7798",
   "metadata": {
    "execution": {
     "iopub.execute_input": "2024-09-26T16:58:28.362069Z",
     "iopub.status.busy": "2024-09-26T16:58:28.361982Z",
     "iopub.status.idle": "2024-09-26T16:58:29.050853Z",
     "shell.execute_reply": "2024-09-26T16:58:29.050613Z"
    },
    "papermill": {
     "duration": 0.697007,
     "end_time": "2024-09-26T16:58:29.051462",
     "exception": false,
     "start_time": "2024-09-26T16:58:28.354455",
     "status": "completed"
    },
    "tags": []
   },
   "outputs": [
    {
     "name": "stdout",
     "output_type": "stream",
     "text": [
      "Original size: [6.4, 4.8], Ratio: 1.3333333333333335\n",
      "New size: [3.5, 2.6249999999999996]\n"
     ]
    },
    {
     "name": "stderr",
     "output_type": "stream",
     "text": [
      "/home/daviddavo/recsys4daos/src/recsys4daos/model_selection.py:12: TqdmExperimentalWarning: Using `tqdm.autonotebook.tqdm` in notebook mode. Use `tqdm.tqdm` instead to force console mode (e.g. in jupyter console)\n",
      "  from tqdm.autonotebook import tqdm\n"
     ]
    }
   ],
   "source": [
    "import datetime as dt\n",
    "import itertools as it\n",
    "import warnings\n",
    "\n",
    "import pandas as pd\n",
    "import numpy as np\n",
    "\n",
    "import matplotlib.pyplot as plt\n",
    "%matplotlib inline\n",
    "import seaborn as sns\n",
    "\n",
    "from recsys4daos.utils import notebooks as nbutils\n",
    "from recsys4daos.model_selection import cvtt_open\n",
    "import paths\n",
    "\n",
    "sns.set_theme(rc = {\n",
    "})\n",
    "sns.set_context(\"paper\")\n",
    "\n",
    "# Paper column width in inches\n",
    "PAPER_COL_WIDTH = 3.5\n",
    "\n",
    "original = plt.rcParamsDefault['figure.figsize']\n",
    "ratio = original[0] / original[1]\n",
    "print(f\"Original size: {original}, Ratio: {ratio}\")\n",
    "plt.rcParams['figure.figsize'] = (PAPER_COL_WIDTH, PAPER_COL_WIDTH/ratio)\n",
    "print(\"New size:\", plt.rcParams['figure.figsize'])\n",
    "\n",
    "# In acmart, 9pt is the default\n",
    "# And 7pt for \\footnotesize\n",
    "# plt.rcParams['font.size'] = 7,\n",
    "\n",
    "# The following are already relatively defined\n",
    "# plt.rcParams['xtick.labelsize'] = plt.rcParams['ytick.labelsize'] = plt.rcParams['axes.labelsize'] = plt.rcParams['font.size']"
   ]
  },
  {
   "cell_type": "code",
   "execution_count": 2,
   "id": "c7f5ba70-4851-4988-bf55-e0f59bfac4fa",
   "metadata": {
    "editable": true,
    "execution": {
     "iopub.execute_input": "2024-09-26T16:58:29.057124Z",
     "iopub.status.busy": "2024-09-26T16:58:29.056916Z",
     "iopub.status.idle": "2024-09-26T16:58:29.058971Z",
     "shell.execute_reply": "2024-09-26T16:58:29.058730Z"
    },
    "papermill": {
     "duration": 0.005473,
     "end_time": "2024-09-26T16:58:29.059614",
     "exception": false,
     "start_time": "2024-09-26T16:58:29.054141",
     "status": "completed"
    },
    "slideshow": {
     "slide_type": ""
    },
    "tags": [
     "parameters"
    ]
   },
   "outputs": [],
   "source": [
    "ORG_NAME = 'Decentraland'\n",
    "SPLITS_FREQ: str = 'W-THU'\n",
    "SPLITS_NORMALIZE: bool = True\n",
    "LAST_FOLDS: int = 10\n",
    "LAST_FOLD_DATE_STR: str = None # Used just for plotting\n",
    "\n",
    "# Plotting hparams\n",
    "RECTANGLE_ALPHA = 0.3"
   ]
  },
  {
   "cell_type": "code",
   "execution_count": 3,
   "id": "86ce5554",
   "metadata": {
    "execution": {
     "iopub.execute_input": "2024-09-26T16:58:29.064360Z",
     "iopub.status.busy": "2024-09-26T16:58:29.064205Z",
     "iopub.status.idle": "2024-09-26T16:58:29.065872Z",
     "shell.execute_reply": "2024-09-26T16:58:29.065684Z"
    },
    "papermill": {
     "duration": 0.004781,
     "end_time": "2024-09-26T16:58:29.066517",
     "exception": false,
     "start_time": "2024-09-26T16:58:29.061736",
     "status": "completed"
    },
    "tags": [
     "injected-parameters"
    ]
   },
   "outputs": [],
   "source": [
    "# Parameters\n",
    "EXECUTION_ID = \"2024-09-24T10:00\"\n",
    "WINDOW_SIZES = [\"1d\", \"7d\", \"14d\"]\n",
    "PLN_MODEL_NAMES = [\"all-MiniLM-L12-v2\"]\n",
    "ORG_NAME = \"Aave - Aavegotchi\"\n",
    "SPLITS_FREQ = \"5d\"\n",
    "LAST_FOLDS = 10\n",
    "SPLITS_NORMALIZE = True\n",
    "LAST_FOLD_DATE_STR = \"2023-05-01\"\n"
   ]
  },
  {
   "cell_type": "code",
   "execution_count": 4,
   "id": "18b57097-46f5-4181-a1a5-f095f406f3a6",
   "metadata": {
    "execution": {
     "iopub.execute_input": "2024-09-26T16:58:29.071362Z",
     "iopub.status.busy": "2024-09-26T16:58:29.071241Z",
     "iopub.status.idle": "2024-09-26T16:58:29.072738Z",
     "shell.execute_reply": "2024-09-26T16:58:29.072556Z"
    },
    "papermill": {
     "duration": 0.004622,
     "end_time": "2024-09-26T16:58:29.073393",
     "exception": false,
     "start_time": "2024-09-26T16:58:29.068771",
     "status": "completed"
    },
    "tags": []
   },
   "outputs": [],
   "source": [
    "LAST_FOLD_DATE: dt.datetime = dt.datetime.fromisoformat(LAST_FOLD_DATE_STR) if LAST_FOLD_DATE_STR else dt.datetime.now()"
   ]
  },
  {
   "cell_type": "code",
   "execution_count": 5,
   "id": "1291b8e7-03c8-48ad-b732-9f66a9ef4ff3",
   "metadata": {
    "execution": {
     "iopub.execute_input": "2024-09-26T16:58:29.078057Z",
     "iopub.status.busy": "2024-09-26T16:58:29.077919Z",
     "iopub.status.idle": "2024-09-26T16:58:29.668617Z",
     "shell.execute_reply": "2024-09-26T16:58:29.668347Z"
    },
    "papermill": {
     "duration": 0.593893,
     "end_time": "2024-09-26T16:58:29.669391",
     "exception": false,
     "start_time": "2024-09-26T16:58:29.075498",
     "status": "completed"
    },
    "tags": []
   },
   "outputs": [
    {
     "name": "stdout",
     "output_type": "stream",
     "text": [
      "<class 'pandas.core.frame.DataFrame'>\n",
      "RangeIndex: 1081 entries, 0 to 1080\n",
      "Data columns (total 6 columns):\n",
      " #   Column             Non-Null Count  Dtype         \n",
      "---  ------             --------------  -----         \n",
      " 0   id                 1081 non-null   object        \n",
      " 1   author             1081 non-null   object        \n",
      " 2   date               1081 non-null   datetime64[us]\n",
      " 3   start              1081 non-null   datetime64[us]\n",
      " 4   end                1081 non-null   datetime64[us]\n",
      " 5   platform_proposal  1081 non-null   object        \n",
      "dtypes: datetime64[us](3), object(3)\n",
      "memory usage: 50.8+ KB\n",
      "None\n",
      "<class 'pandas.core.frame.DataFrame'>\n",
      "RangeIndex: 2328356 entries, 0 to 2328355\n",
      "Data columns (total 4 columns):\n",
      " #   Column    Dtype         \n",
      "---  ------    -----         \n",
      " 0   id        object        \n",
      " 1   proposal  object        \n",
      " 2   voter     object        \n",
      " 3   date      datetime64[us]\n",
      "dtypes: datetime64[us](1), object(3)\n",
      "memory usage: 71.1+ MB\n",
      "None\n"
     ]
    }
   ],
   "source": [
    "dfp = paths.load_proposals(ORG_NAME)\n",
    "dfv = paths.load_votes(ORG_NAME)\n",
    "\n",
    "print(dfp.info())\n",
    "print(dfv.info())"
   ]
  },
  {
   "cell_type": "code",
   "execution_count": 6,
   "id": "91ae71b5-ba11-48d2-becd-047ee43af17d",
   "metadata": {
    "execution": {
     "iopub.execute_input": "2024-09-26T16:58:29.675643Z",
     "iopub.status.busy": "2024-09-26T16:58:29.675477Z",
     "iopub.status.idle": "2024-09-26T16:58:29.689157Z",
     "shell.execute_reply": "2024-09-26T16:58:29.688881Z"
    },
    "papermill": {
     "duration": 0.017792,
     "end_time": "2024-09-26T16:58:29.689991",
     "exception": false,
     "start_time": "2024-09-26T16:58:29.672199",
     "status": "completed"
    },
    "tags": []
   },
   "outputs": [
    {
     "name": "stdout",
     "output_type": "stream",
     "text": [
      "First vote: 2019-12-13 15:27:14\n",
      "Last vote: 2023-07-20 16:39:36\n"
     ]
    }
   ],
   "source": [
    "print(\"First vote:\", first_vote := dfv['date'].min())\n",
    "print(\"Last vote:\", last_vote := dfv['date'].max())\n",
    "paths.save_dao_datum(ORG_NAME, 'dfv_first_vote', str(first_vote))\n",
    "paths.save_dao_datum(ORG_NAME, 'dfv_last_vote', str(last_vote))"
   ]
  },
  {
   "cell_type": "code",
   "execution_count": 7,
   "id": "28628987-ada0-49cb-9b85-d8ee0ff417c1",
   "metadata": {
    "execution": {
     "iopub.execute_input": "2024-09-26T16:58:29.698408Z",
     "iopub.status.busy": "2024-09-26T16:58:29.698217Z",
     "iopub.status.idle": "2024-09-26T17:01:41.285496Z",
     "shell.execute_reply": "2024-09-26T17:01:41.285251Z"
    },
    "papermill": {
     "duration": 191.595097,
     "end_time": "2024-09-26T17:01:41.288398",
     "exception": false,
     "start_time": "2024-09-26T16:58:29.693301",
     "status": "completed"
    },
    "tags": []
   },
   "outputs": [
    {
     "name": "stdout",
     "output_type": "stream",
     "text": [
      "Using 10 folds from 2023-03-17 00:00:00 to 2023-05-01 00:00:00\n"
     ]
    }
   ],
   "source": [
    "folds = list(cvtt_open(dfv, SPLITS_FREQ, dfp, normalize=SPLITS_NORMALIZE, col_item='proposal', col_time='date', last_fold=LAST_FOLD_DATE_STR))[-LAST_FOLDS:]\n",
    "print(f\"Using {len(folds)} folds from {folds[0].end} to {folds[-1].end}\")\n",
    "paths.save_dao_datum(ORG_NAME, 'first_fold_date', str(folds[0].end))"
   ]
  },
  {
   "cell_type": "markdown",
   "id": "68ea9409-3b8c-4dfe-9c5d-4e89db8fd928",
   "metadata": {
    "papermill": {
     "duration": 0.002464,
     "end_time": "2024-09-26T17:01:41.293569",
     "exception": false,
     "start_time": "2024-09-26T17:01:41.291105",
     "status": "completed"
    },
    "tags": []
   },
   "source": [
    "## Proposals and time\n",
    "\n",
    "### How much time does each proposal take"
   ]
  },
  {
   "cell_type": "code",
   "execution_count": 8,
   "id": "a3ac7db5-d190-4ac5-8504-76a5c3eea938",
   "metadata": {
    "execution": {
     "iopub.execute_input": "2024-09-26T17:01:41.298853Z",
     "iopub.status.busy": "2024-09-26T17:01:41.298738Z",
     "iopub.status.idle": "2024-09-26T17:01:41.366570Z",
     "shell.execute_reply": "2024-09-26T17:01:41.366333Z"
    },
    "papermill": {
     "duration": 0.071262,
     "end_time": "2024-09-26T17:01:41.367170",
     "exception": false,
     "start_time": "2024-09-26T17:01:41.295908",
     "status": "completed"
    },
    "tags": []
   },
   "outputs": [
    {
     "name": "stdout",
     "output_type": "stream",
     "text": [
      "3 days 00:00:00     240\n",
      "7 days 00:00:00     101\n",
      "5 days 00:00:00      34\n",
      "4 days 00:00:00      28\n",
      "6 days 00:00:00      21\n",
      "                   ... \n",
      "29 days 21:00:00      1\n",
      "4 days 23:00:00       1\n",
      "10 days 23:00:00      1\n",
      "6 days 22:00:00       1\n",
      "6 days 23:38:12       1\n",
      "Name: count, Length: 546, dtype: int64\n",
      "3 days 00:00:00     0.222017\n",
      "7 days 00:00:00     0.093432\n",
      "5 days 00:00:00     0.031452\n",
      "4 days 00:00:00     0.025902\n",
      "6 days 00:00:00     0.019426\n",
      "                      ...   \n",
      "29 days 21:00:00    0.000925\n",
      "4 days 23:00:00     0.000925\n",
      "10 days 23:00:00    0.000925\n",
      "6 days 22:00:00     0.000925\n",
      "6 days 23:38:12     0.000925\n",
      "Name: count, Length: 546, dtype: float64\n"
     ]
    },
    {
     "data": {
      "text/plain": [
       "count                          1081\n",
       "mean     -393 days +01:07:19.035153\n",
       "std       2704 days 07:14:21.094238\n",
       "min           -19428 days +21:36:49\n",
       "25%                 3 days 00:00:00\n",
       "50%                 4 days 00:00:00\n",
       "75%                 7 days 00:00:00\n",
       "max                80 days 00:00:00\n",
       "dtype: object"
      ]
     },
     "execution_count": 8,
     "metadata": {},
     "output_type": "execute_result"
    },
    {
     "data": {
      "image/png": "[encoded data removed]",
      "text/plain": [
       "<Figure size 350x262.5 with 1 Axes>"
      ]
     },
     "metadata": {},
     "output_type": "display_data"
    }
   ],
   "source": [
    "# Original: Cell [5] at https://github.com/daviddavo/upm-tfm-notebooks/blob/bb2e45d4ec10962c987b6691fcb0cd4eeba7ea5b/10_baseline_mp.ipynb\n",
    "\n",
    "delta = dfp['end'] - dfp['start']\n",
    "delta.dt.days.hist(bins=14)\n",
    "print(vc := delta.value_counts())\n",
    "print(vc / len(delta))\n",
    "paths.save_dao_datum(ORG_NAME, 'median_open_time', str(delta.median()))\n",
    "delta.describe()"
   ]
  },
  {
   "cell_type": "markdown",
   "id": "e97489b7-f833-402c-a33c-8024a9540a1a",
   "metadata": {
    "execution": {
     "iopub.execute_input": "2024-03-20T19:22:14.246302Z",
     "iopub.status.busy": "2024-03-20T19:22:14.245740Z",
     "iopub.status.idle": "2024-03-20T19:22:14.252344Z",
     "shell.execute_reply": "2024-03-20T19:22:14.251090Z",
     "shell.execute_reply.started": "2024-03-20T19:22:14.246252Z"
    },
    "papermill": {
     "duration": 0.002512,
     "end_time": "2024-09-26T17:01:41.372151",
     "exception": false,
     "start_time": "2024-09-26T17:01:41.369639",
     "status": "completed"
    },
    "tags": []
   },
   "source": [
    "#### Avg. proposal length in time"
   ]
  },
  {
   "cell_type": "code",
   "execution_count": 9,
   "id": "d1fd19d5-722c-4e1c-9c56-e2ffd4c0a63f",
   "metadata": {
    "execution": {
     "iopub.execute_input": "2024-09-26T17:01:41.377407Z",
     "iopub.status.busy": "2024-09-26T17:01:41.377223Z",
     "iopub.status.idle": "2024-09-26T17:01:41.379564Z",
     "shell.execute_reply": "2024-09-26T17:01:41.379373Z"
    },
    "papermill": {
     "duration": 0.00559,
     "end_time": "2024-09-26T17:01:41.380086",
     "exception": false,
     "start_time": "2024-09-26T17:01:41.374496",
     "status": "completed"
    },
    "tags": []
   },
   "outputs": [],
   "source": [
    "def add_folds_to_plot(fig=plt, cont=True):\n",
    "\n",
    "    if cont:\n",
    "        start_date = folds[0].end\n",
    "        end_date = folds[-1].end\n",
    "        fig.axvspan(start_date, end_date, color='C2', alpha=RECTANGLE_ALPHA)\n",
    "    else:\n",
    "        for fprev, f, c in zip(folds, folds[1:], it.cycle([0,1])):\n",
    "            start_date = fprev.end\n",
    "            end_date = f.end\n",
    "            fig.axvspan(start_date, end_date, alpha=RECTANGLE_ALPHA, color='C1' if c else 'C2')"
   ]
  },
  {
   "cell_type": "code",
   "execution_count": 10,
   "id": "f619deb2-cf32-4e32-b125-c6d67b3acf87",
   "metadata": {
    "execution": {
     "iopub.execute_input": "2024-09-26T17:01:41.385422Z",
     "iopub.status.busy": "2024-09-26T17:01:41.385270Z",
     "iopub.status.idle": "2024-09-26T17:01:41.507116Z",
     "shell.execute_reply": "2024-09-26T17:01:41.506931Z"
    },
    "papermill": {
     "duration": 0.125349,
     "end_time": "2024-09-26T17:01:41.507885",
     "exception": false,
     "start_time": "2024-09-26T17:01:41.382536",
     "status": "completed"
    },
    "tags": []
   },
   "outputs": [
    {
     "data": {
      "image/png": "[encoded data removed]",
      "text/plain": [
       "<Figure size 350x262.5 with 1 Axes>"
      ]
     },
     "metadata": {},
     "output_type": "display_data"
    }
   ],
   "source": [
    "# Original: Cell [6] at https://github.com/daviddavo/upm-tfm-notebooks/blob/bb2e45d4ec10962c987b6691fcb0cd4eeba7ea5b/10_baseline_mp.ipynb\n",
    "ROLLING_LENGTH = '7d'\n",
    "\n",
    "_delta = dfp.assign(delta=delta).set_index('date').sort_index()['delta'].dt.days\n",
    "_delta.rolling(ROLLING_LENGTH).mean().plot()\n",
    "\n",
    "add_folds_to_plot()"
   ]
  },
  {
   "cell_type": "markdown",
   "id": "c481585c-8a02-4b48-b5c9-f9c0ed9e9c0c",
   "metadata": {
    "papermill": {
     "duration": 0.003001,
     "end_time": "2024-09-26T17:01:41.513753",
     "exception": false,
     "start_time": "2024-09-26T17:01:41.510752",
     "status": "completed"
    },
    "tags": []
   },
   "source": [
    "## How many proposals are created per week"
   ]
  },
  {
   "cell_type": "code",
   "execution_count": 11,
   "id": "b4559c9e-999a-45bc-bfe4-7997b5d71b76",
   "metadata": {
    "execution": {
     "iopub.execute_input": "2024-09-26T17:01:41.519177Z",
     "iopub.status.busy": "2024-09-26T17:01:41.519096Z",
     "iopub.status.idle": "2024-09-26T17:01:41.734706Z",
     "shell.execute_reply": "2024-09-26T17:01:41.734489Z"
    },
    "papermill": {
     "duration": 0.219222,
     "end_time": "2024-09-26T17:01:41.735456",
     "exception": false,
     "start_time": "2024-09-26T17:01:41.516234",
     "status": "completed"
    },
    "tags": []
   },
   "outputs": [
    {
     "name": "stdout",
     "output_type": "stream",
     "text": [
      "22.0\n",
      "2020-07-22 07:20:03\n"
     ]
    },
    {
     "data": {
      "text/plain": [
       "<Figure size 350x262.5 with 0 Axes>"
      ]
     },
     "metadata": {},
     "output_type": "display_data"
    },
    {
     "data": {
      "image/png": "[encoded data removed]",
      "text/plain": [
       "<Figure size 700x157.5 with 1 Axes>"
      ]
     },
     "metadata": {},
     "output_type": "display_data"
    }
   ],
   "source": [
    "WINDOW_SIZE = '7d' # dt.timedelta(days=7)\n",
    "\n",
    "_toplot = dfv.groupby('proposal')['date'].min().sort_values()\n",
    "_toplot = _toplot.to_frame()\n",
    "_toplot['cnt'] = 1\n",
    "_toplot = _toplot.rolling(window=WINDOW_SIZE, on='date').count()\n",
    "print(max_cnt := _toplot['cnt'].max())\n",
    "print(max_date := _toplot[_toplot['cnt'] == max_cnt].iloc[0]['date'])\n",
    "paths.save_dao_datum(ORG_NAME, 'max_proposals_ws', WINDOW_SIZE)\n",
    "paths.save_dao_datum(ORG_NAME, 'max_proposals_cnt', int(max_cnt))\n",
    "paths.save_dao_datum(ORG_NAME, 'max_proposals_date', str(max_date))\n",
    "\n",
    "# Double the width of the figure\n",
    "fs = plt.gcf().get_size_inches()\n",
    "plt.figure(figsize=fs * (2,.6))\n",
    "# _toplot.set_index('date')['cnt'].plot()\n",
    "ax = sns.lineplot(_toplot.set_index('date')['cnt'])\n",
    "\n",
    "plt.xlabel('')\n",
    "plt.ylabel('# propuestas')\n",
    "plt.xlim(\n",
    "    _toplot['date'].min(),\n",
    "    _toplot['date'].max(),\n",
    ")\n",
    "add_folds_to_plot(cont=False)\n",
    "\n",
    "sns.despine()"
   ]
  },
  {
   "cell_type": "code",
   "execution_count": 12,
   "id": "a55fbdf4-f6dc-42d4-bb2f-050235674d9b",
   "metadata": {
    "execution": {
     "iopub.execute_input": "2024-09-26T17:01:41.742437Z",
     "iopub.status.busy": "2024-09-26T17:01:41.742340Z",
     "iopub.status.idle": "2024-09-26T17:01:41.838300Z",
     "shell.execute_reply": "2024-09-26T17:01:41.838104Z"
    },
    "papermill": {
     "duration": 0.100221,
     "end_time": "2024-09-26T17:01:41.839033",
     "exception": false,
     "start_time": "2024-09-26T17:01:41.738812",
     "status": "completed"
    },
    "tags": []
   },
   "outputs": [
    {
     "data": {
      "text/plain": [
       "<Figure size 350x262.5 with 0 Axes>"
      ]
     },
     "metadata": {},
     "output_type": "display_data"
    },
    {
     "data": {
      "image/png": "[encoded data removed]",
      "text/plain": [
       "<Figure size 700x157.5 with 1 Axes>"
      ]
     },
     "metadata": {},
     "output_type": "display_data"
    }
   ],
   "source": [
    "_toplot = _toplot[_toplot['date'] > (folds[0].end - pd.tseries.frequencies.to_offset(SPLITS_FREQ)*3)]\n",
    "_toplot = _toplot[_toplot['date'] < (folds[-1].end + pd.tseries.frequencies.to_offset(SPLITS_FREQ)*3)]\n",
    "fs = plt.gcf().get_size_inches()\n",
    "plt.figure(figsize=fs * (2,.6))\n",
    "# _toplot.set_index('date')['cnt'].plot()\n",
    "ax = sns.lineplot(_toplot.set_index('date')['cnt'])\n",
    "\n",
    "plt.xlabel('')\n",
    "plt.ylabel('# propuestas')\n",
    "plt.xlim(\n",
    "    _toplot['date'].min(),\n",
    "    _toplot['date'].max(),\n",
    ")\n",
    "add_folds_to_plot(cont=False)\n",
    "\n",
    "sns.despine()"
   ]
  },
  {
   "cell_type": "markdown",
   "id": "0e0d5099-512a-42bb-927b-0ed2fe518a6f",
   "metadata": {
    "papermill": {
     "duration": 0.002968,
     "end_time": "2024-09-26T17:01:41.844965",
     "exception": false,
     "start_time": "2024-09-26T17:01:41.841997",
     "status": "completed"
    },
    "tags": []
   },
   "source": [
    "## Queue size (open proposals)"
   ]
  },
  {
   "cell_type": "code",
   "execution_count": 13,
   "id": "1344879d-8030-45f8-8510-4889ebce489f",
   "metadata": {
    "execution": {
     "iopub.execute_input": "2024-09-26T17:01:41.851841Z",
     "iopub.status.busy": "2024-09-26T17:01:41.851731Z",
     "iopub.status.idle": "2024-09-26T17:01:49.152891Z",
     "shell.execute_reply": "2024-09-26T17:01:49.152663Z"
    },
    "papermill": {
     "duration": 7.306118,
     "end_time": "2024-09-26T17:01:49.154176",
     "exception": false,
     "start_time": "2024-09-26T17:01:41.848058",
     "status": "completed"
    },
    "tags": []
   },
   "outputs": [
    {
     "name": "stdout",
     "output_type": "stream",
     "text": [
      "22\n",
      "2020-09-22 00:00:00\n"
     ]
    },
    {
     "data": {
      "image/png": "[encoded data removed]",
      "text/plain": [
       "<Figure size 800x300 with 1 Axes>"
      ]
     },
     "metadata": {},
     "output_type": "display_data"
    }
   ],
   "source": [
    "# This will be the \"resolution\" of the graph\n",
    "_GROUPER_FREQ = '12h'\n",
    "\n",
    "df_events = pd.concat((\n",
    "    dfp.groupby('start').size(),\n",
    "    -dfp.groupby('end').size(),\n",
    ")).sort_index()\n",
    "qsize = df_events.groupby(pd.Grouper(freq=_GROUPER_FREQ)).sum().cumsum()\n",
    "\n",
    "print(max_qsize := qsize.max())\n",
    "print(max_date := qsize[qsize == max_qsize].index[0])\n",
    "paths.save_dao_datum(ORG_NAME, 'max_open_freq', _GROUPER_FREQ)\n",
    "paths.save_dao_datum(ORG_NAME, 'max_open_cnt', int(max_qsize))\n",
    "paths.save_dao_datum(ORG_NAME, 'max_open_date', str(max_date))\n",
    "\n",
    "qsize.plot(figsize=(8,3))\n",
    "add_folds_to_plot(cont=False)"
   ]
  },
  {
   "cell_type": "code",
   "execution_count": 14,
   "id": "4abea220-e30a-4483-8853-3632bffca1c1",
   "metadata": {
    "execution": {
     "iopub.execute_input": "2024-09-26T17:01:49.161364Z",
     "iopub.status.busy": "2024-09-26T17:01:49.161247Z",
     "iopub.status.idle": "2024-09-26T17:01:49.432331Z",
     "shell.execute_reply": "2024-09-26T17:01:49.432122Z"
    },
    "papermill": {
     "duration": 0.27555,
     "end_time": "2024-09-26T17:01:49.433133",
     "exception": false,
     "start_time": "2024-09-26T17:01:49.157583",
     "status": "completed"
    },
    "tags": []
   },
   "outputs": [
    {
     "name": "stdout",
     "output_type": "stream",
     "text": [
      "15\n",
      "2023-03-29 12:00:00\n"
     ]
    },
    {
     "data": {
      "image/png": "[encoded data removed]",
      "text/plain": [
       "<Figure size 800x300 with 1 Axes>"
      ]
     },
     "metadata": {},
     "output_type": "display_data"
    }
   ],
   "source": [
    "_toplot = qsize[qsize.index > (folds[0].end - pd.tseries.frequencies.to_offset(SPLITS_FREQ)*1)]\n",
    "_toplot = _toplot[_toplot.index < (folds[-1].end + pd.tseries.frequencies.to_offset(SPLITS_FREQ)*1)]\n",
    "\n",
    "print(max_qsize := _toplot.max())\n",
    "print(max_date := _toplot[_toplot == max_qsize].index[0])\n",
    "paths.save_dao_datum(ORG_NAME, 'max_open_freq_test', _GROUPER_FREQ)\n",
    "paths.save_dao_datum(ORG_NAME, 'max_open_cnt_test', int(max_qsize))\n",
    "paths.save_dao_datum(ORG_NAME, 'max_open_date_test', str(max_date))\n",
    "\n",
    "_toplot.plot(figsize=(8,3))\n",
    "add_folds_to_plot(cont=False)"
   ]
  },
  {
   "cell_type": "markdown",
   "id": "e356b832-bd11-4913-af31-5c630af68511",
   "metadata": {
    "papermill": {
     "duration": 0.003582,
     "end_time": "2024-09-26T17:01:49.440230",
     "exception": false,
     "start_time": "2024-09-26T17:01:49.436648",
     "status": "completed"
    },
    "tags": []
   },
   "source": [
    "## What day of the week are proposals created"
   ]
  },
  {
   "cell_type": "code",
   "execution_count": 15,
   "id": "9c02d601-3d7a-4f7f-9c86-a6f85d4fe7ad",
   "metadata": {
    "execution": {
     "iopub.execute_input": "2024-09-26T17:01:49.447234Z",
     "iopub.status.busy": "2024-09-26T17:01:49.447134Z",
     "iopub.status.idle": "2024-09-26T17:01:49.712234Z",
     "shell.execute_reply": "2024-09-26T17:01:49.712022Z"
    },
    "papermill": {
     "duration": 0.269666,
     "end_time": "2024-09-26T17:01:49.713301",
     "exception": false,
     "start_time": "2024-09-26T17:01:49.443635",
     "status": "completed"
    },
    "tags": []
   },
   "outputs": [
    {
     "name": "stdout",
     "output_type": "stream",
     "text": [
      "start\n",
      "Tuesday      210\n",
      "Wednesday    202\n",
      "Thursday     198\n",
      "Monday       171\n",
      "Friday       144\n",
      "Saturday      85\n",
      "Sunday        71\n",
      "Name: count, dtype: int64\n"
     ]
    },
    {
     "name": "stderr",
     "output_type": "stream",
     "text": [
      "/tmp/ipykernel_1808904/3307774390.py:9: UserWarning: set_ticklabels() should only be used with a fixed number of ticks, i.e. after set_ticks() or using a FixedLocator.\n",
      "  ax.set_xticklabels(DAYS_OF_WEEK_ENG, rotation=30, ha='right')\n"
     ]
    },
    {
     "data": {
      "application/vnd.jupyter.widget-view+json": {
       "model_id": "2edf96904ab14134a554c671345c94e8",
       "version_major": 2,
       "version_minor": 0
      },
      "text/html": [
       "Cannot show widget. You probably want to rerun the code cell above (<i>Click in the code cell, and press Shift+Enter <kbd>⇧</kbd>+<kbd>↩</kbd></i>)."
      ],
      "text/plain": [
       "Cannot show ipywidgets in text"
      ]
     },
     "metadata": {},
     "output_type": "display_data"
    },
    {
     "data": {
      "image/png": "[encoded data removed]",
      "text/plain": [
       "<Figure size 350x262.5 with 1 Axes>"
      ]
     },
     "metadata": {},
     "output_type": "display_data"
    }
   ],
   "source": [
    "# Original: Cell [7] at https://github.com/daviddavo/upm-tfm-notebooks/blob/bb2e45d4ec10962c987b6691fcb0cd4eeba7ea5b/10_baseline_mp.ipynb\n",
    "DAYS_OF_WEEK_ENG = ['Monday', 'Tuesday', 'Wednesday', 'Thursday', 'Friday', 'Saturday', 'Sunday']\n",
    "\n",
    "ax = sns.countplot(x=dfp['start'].dt.day_name(), order=DAYS_OF_WEEK_ENG)\n",
    "# ax.set_title(f'Número de propuestas por día de la semana en {ORG_NAME}')\n",
    "print(dfp['start'].dt.day_name().value_counts())\n",
    "ax.set_xlabel('')\n",
    "ax.set_ylabel('# proposals')\n",
    "ax.set_xticklabels(DAYS_OF_WEEK_ENG, rotation=30, ha='right')\n",
    "\n",
    "# Updates\n",
    "ax.set_ylabel('')\n",
    "\n",
    "nbutils.download_matplotlib(ax.figure, 'proposals_dow.pdf')"
   ]
  },
  {
   "cell_type": "markdown",
   "id": "38dc62ae-b8b7-451a-9ab2-18b211d89ec3",
   "metadata": {
    "papermill": {
     "duration": 0.003671,
     "end_time": "2024-09-26T17:01:49.721169",
     "exception": false,
     "start_time": "2024-09-26T17:01:49.717498",
     "status": "completed"
    },
    "tags": []
   },
   "source": [
    "## What day of the week are proposals voted"
   ]
  },
  {
   "cell_type": "code",
   "execution_count": 16,
   "id": "39967821-9f6e-4426-b896-e3898b27b334",
   "metadata": {
    "execution": {
     "iopub.execute_input": "2024-09-26T17:01:49.728477Z",
     "iopub.status.busy": "2024-09-26T17:01:49.728346Z",
     "iopub.status.idle": "2024-09-26T17:01:51.837097Z",
     "shell.execute_reply": "2024-09-26T17:01:51.836831Z"
    },
    "papermill": {
     "duration": 2.113281,
     "end_time": "2024-09-26T17:01:51.837753",
     "exception": false,
     "start_time": "2024-09-26T17:01:49.724472",
     "status": "completed"
    },
    "tags": []
   },
   "outputs": [
    {
     "name": "stdout",
     "output_type": "stream",
     "text": [
      "date\n",
      "Thursday     490370\n",
      "Wednesday    371840\n",
      "Friday       337834\n",
      "Sunday       318345\n",
      "Tuesday      299131\n",
      "Saturday     279581\n",
      "Monday       231255\n",
      "Name: count, dtype: int64\n"
     ]
    },
    {
     "name": "stderr",
     "output_type": "stream",
     "text": [
      "/tmp/ipykernel_1808904/3643726510.py:6: UserWarning: set_ticklabels() should only be used with a fixed number of ticks, i.e. after set_ticks() or using a FixedLocator.\n",
      "  ax.set_xticklabels(DAYS_OF_WEEK_ENG, rotation=30, ha='right')\n"
     ]
    },
    {
     "data": {
      "application/vnd.jupyter.widget-view+json": {
       "model_id": "f6af6af4e21c4d02ae615b873373b7bc",
       "version_major": 2,
       "version_minor": 0
      },
      "text/html": [
       "Cannot show widget. You probably want to rerun the code cell above (<i>Click in the code cell, and press Shift+Enter <kbd>⇧</kbd>+<kbd>↩</kbd></i>)."
      ],
      "text/plain": [
       "Cannot show ipywidgets in text"
      ]
     },
     "metadata": {},
     "output_type": "display_data"
    },
    {
     "data": {
      "image/png": "[encoded data removed]",
      "text/plain": [
       "<Figure size 350x262.5 with 1 Axes>"
      ]
     },
     "metadata": {},
     "output_type": "display_data"
    }
   ],
   "source": [
    "ax = sns.countplot(x=dfv['date'].dt.day_name(), order=DAYS_OF_WEEK_ENG)\n",
    "# ax.set_title(f'Número de propuestas por día de la semana en {ORG_NAME}')\n",
    "print(dfv['date'].dt.day_name().value_counts())\n",
    "ax.set_xlabel('')\n",
    "ax.set_ylabel('# votes')\n",
    "ax.set_xticklabels(DAYS_OF_WEEK_ENG, rotation=30, ha='right')\n",
    "\n",
    "# Updates\n",
    "ax.set_ylabel('')\n",
    "\n",
    "nbutils.download_matplotlib(ax.figure, \"votes_dow.pdf\")"
   ]
  },
  {
   "cell_type": "markdown",
   "id": "8ec0e029-2f9d-47a1-9b1a-d86e29bbe513",
   "metadata": {
    "papermill": {
     "duration": 0.003932,
     "end_time": "2024-09-26T17:01:51.845967",
     "exception": false,
     "start_time": "2024-09-26T17:01:51.842035",
     "status": "completed"
    },
    "tags": []
   },
   "source": [
    "## In which moment of the proposal lifetime are votes cast"
   ]
  },
  {
   "cell_type": "code",
   "execution_count": 17,
   "id": "75803459-86cf-42b8-bc4a-83e2e673a824",
   "metadata": {
    "execution": {
     "iopub.execute_input": "2024-09-26T17:01:51.853634Z",
     "iopub.status.busy": "2024-09-26T17:01:51.853541Z",
     "iopub.status.idle": "2024-09-26T17:01:55.606456Z",
     "shell.execute_reply": "2024-09-26T17:01:55.606229Z"
    },
    "papermill": {
     "duration": 3.757721,
     "end_time": "2024-09-26T17:01:55.607231",
     "exception": false,
     "start_time": "2024-09-26T17:01:51.849510",
     "status": "completed"
    },
    "tags": []
   },
   "outputs": [
    {
     "name": "stderr",
     "output_type": "stream",
     "text": [
      "/tmp/ipykernel_1808904/805177844.py:10: UserWarning: There cant be votes after the proposal ended\n",
      "  warnings.warn('There cant be votes after the proposal ended')\n"
     ]
    },
    {
     "data": {
      "text/html": [
       "<div>\n",
       "<style scoped>\n",
       "    .dataframe tbody tr th:only-of-type {\n",
       "        vertical-align: middle;\n",
       "    }\n",
       "\n",
       "    .dataframe tbody tr th {\n",
       "        vertical-align: top;\n",
       "    }\n",
       "\n",
       "    .dataframe thead tr th {\n",
       "        text-align: left;\n",
       "    }\n",
       "\n",
       "    .dataframe thead tr:last-of-type th {\n",
       "        text-align: right;\n",
       "    }\n",
       "</style>\n",
       "<table border=\"1\" class=\"dataframe\">\n",
       "  <thead>\n",
       "    <tr>\n",
       "      <th></th>\n",
       "      <th colspan=\"8\" halign=\"left\">time remaining</th>\n",
       "    </tr>\n",
       "    <tr>\n",
       "      <th></th>\n",
       "      <th>count</th>\n",
       "      <th>mean</th>\n",
       "      <th>std</th>\n",
       "      <th>min</th>\n",
       "      <th>25%</th>\n",
       "      <th>50%</th>\n",
       "      <th>75%</th>\n",
       "      <th>max</th>\n",
       "    </tr>\n",
       "    <tr>\n",
       "      <th>delta</th>\n",
       "      <th></th>\n",
       "      <th></th>\n",
       "      <th></th>\n",
       "      <th></th>\n",
       "      <th></th>\n",
       "      <th></th>\n",
       "      <th></th>\n",
       "      <th></th>\n",
       "    </tr>\n",
       "  </thead>\n",
       "  <tbody>\n",
       "    <tr>\n",
       "      <th>-19428 days +21:36:49</th>\n",
       "      <td>337.0</td>\n",
       "      <td>1.000058</td>\n",
       "      <td>3.812993e-05</td>\n",
       "      <td>1.000001</td>\n",
       "      <td>1.000027</td>\n",
       "      <td>1.000045</td>\n",
       "      <td>1.000081</td>\n",
       "      <td>1.000154</td>\n",
       "    </tr>\n",
       "    <tr>\n",
       "      <th>-19269 days +14:57:13</th>\n",
       "      <td>1.0</td>\n",
       "      <td>1.000001</td>\n",
       "      <td>NaN</td>\n",
       "      <td>1.000001</td>\n",
       "      <td>1.000001</td>\n",
       "      <td>1.000001</td>\n",
       "      <td>1.000001</td>\n",
       "      <td>1.000001</td>\n",
       "    </tr>\n",
       "    <tr>\n",
       "      <th>-19214 days +20:12:47</th>\n",
       "      <td>2.0</td>\n",
       "      <td>1.000000</td>\n",
       "      <td>0.000000e+00</td>\n",
       "      <td>1.000000</td>\n",
       "      <td>1.000000</td>\n",
       "      <td>1.000000</td>\n",
       "      <td>1.000000</td>\n",
       "      <td>1.000000</td>\n",
       "    </tr>\n",
       "    <tr>\n",
       "      <th>-19214 days +20:39:28</th>\n",
       "      <td>2.0</td>\n",
       "      <td>1.000000</td>\n",
       "      <td>6.389460e-09</td>\n",
       "      <td>1.000000</td>\n",
       "      <td>1.000000</td>\n",
       "      <td>1.000000</td>\n",
       "      <td>1.000000</td>\n",
       "      <td>1.000000</td>\n",
       "    </tr>\n",
       "    <tr>\n",
       "      <th>-19070 days +09:25:14</th>\n",
       "      <td>3.0</td>\n",
       "      <td>1.000000</td>\n",
       "      <td>5.944381e-08</td>\n",
       "      <td>1.000000</td>\n",
       "      <td>1.000000</td>\n",
       "      <td>1.000000</td>\n",
       "      <td>1.000000</td>\n",
       "      <td>1.000000</td>\n",
       "    </tr>\n",
       "    <tr>\n",
       "      <th>...</th>\n",
       "      <td>...</td>\n",
       "      <td>...</td>\n",
       "      <td>...</td>\n",
       "      <td>...</td>\n",
       "      <td>...</td>\n",
       "      <td>...</td>\n",
       "      <td>...</td>\n",
       "      <td>...</td>\n",
       "    </tr>\n",
       "    <tr>\n",
       "      <th>33 days 00:00:00</th>\n",
       "      <td>366.0</td>\n",
       "      <td>0.519353</td>\n",
       "      <td>2.617390e-01</td>\n",
       "      <td>0.001577</td>\n",
       "      <td>0.339587</td>\n",
       "      <td>0.542455</td>\n",
       "      <td>0.673986</td>\n",
       "      <td>0.994988</td>\n",
       "    </tr>\n",
       "    <tr>\n",
       "      <th>37 days 00:00:00</th>\n",
       "      <td>266.0</td>\n",
       "      <td>0.545885</td>\n",
       "      <td>2.548651e-01</td>\n",
       "      <td>0.001939</td>\n",
       "      <td>0.344450</td>\n",
       "      <td>0.530437</td>\n",
       "      <td>0.719124</td>\n",
       "      <td>0.991987</td>\n",
       "    </tr>\n",
       "    <tr>\n",
       "      <th>39 days 00:00:00</th>\n",
       "      <td>514.0</td>\n",
       "      <td>0.631575</td>\n",
       "      <td>1.769031e-01</td>\n",
       "      <td>0.026917</td>\n",
       "      <td>0.595240</td>\n",
       "      <td>0.595312</td>\n",
       "      <td>0.764310</td>\n",
       "      <td>0.999802</td>\n",
       "    </tr>\n",
       "    <tr>\n",
       "      <th>59 days 00:00:00</th>\n",
       "      <td>629.0</td>\n",
       "      <td>0.746976</td>\n",
       "      <td>2.140550e-01</td>\n",
       "      <td>0.002466</td>\n",
       "      <td>0.744310</td>\n",
       "      <td>0.801053</td>\n",
       "      <td>0.864104</td>\n",
       "      <td>0.999877</td>\n",
       "    </tr>\n",
       "    <tr>\n",
       "      <th>80 days 00:00:00</th>\n",
       "      <td>452.0</td>\n",
       "      <td>0.655736</td>\n",
       "      <td>2.580047e-01</td>\n",
       "      <td>0.000602</td>\n",
       "      <td>0.516393</td>\n",
       "      <td>0.695791</td>\n",
       "      <td>0.863286</td>\n",
       "      <td>0.999832</td>\n",
       "    </tr>\n",
       "  </tbody>\n",
       "</table>\n",
       "<p>511 rows × 8 columns</p>\n",
       "</div>"
      ],
      "text/plain": [
       "                      time remaining                                    \\\n",
       "                               count      mean           std       min   \n",
       "delta                                                                    \n",
       "-19428 days +21:36:49          337.0  1.000058  3.812993e-05  1.000001   \n",
       "-19269 days +14:57:13            1.0  1.000001           NaN  1.000001   \n",
       "-19214 days +20:12:47            2.0  1.000000  0.000000e+00  1.000000   \n",
       "-19214 days +20:39:28            2.0  1.000000  6.389460e-09  1.000000   \n",
       "-19070 days +09:25:14            3.0  1.000000  5.944381e-08  1.000000   \n",
       "...                              ...       ...           ...       ...   \n",
       "33 days 00:00:00               366.0  0.519353  2.617390e-01  0.001577   \n",
       "37 days 00:00:00               266.0  0.545885  2.548651e-01  0.001939   \n",
       "39 days 00:00:00               514.0  0.631575  1.769031e-01  0.026917   \n",
       "59 days 00:00:00               629.0  0.746976  2.140550e-01  0.002466   \n",
       "80 days 00:00:00               452.0  0.655736  2.580047e-01  0.000602   \n",
       "\n",
       "                                                               \n",
       "                            25%       50%       75%       max  \n",
       "delta                                                          \n",
       "-19428 days +21:36:49  1.000027  1.000045  1.000081  1.000154  \n",
       "-19269 days +14:57:13  1.000001  1.000001  1.000001  1.000001  \n",
       "-19214 days +20:12:47  1.000000  1.000000  1.000000  1.000000  \n",
       "-19214 days +20:39:28  1.000000  1.000000  1.000000  1.000000  \n",
       "-19070 days +09:25:14  1.000000  1.000000  1.000000  1.000000  \n",
       "...                         ...       ...       ...       ...  \n",
       "33 days 00:00:00       0.339587  0.542455  0.673986  0.994988  \n",
       "37 days 00:00:00       0.344450  0.530437  0.719124  0.991987  \n",
       "39 days 00:00:00       0.595240  0.595312  0.764310  0.999802  \n",
       "59 days 00:00:00       0.744310  0.801053  0.864104  0.999877  \n",
       "80 days 00:00:00       0.516393  0.695791  0.863286  0.999832  \n",
       "\n",
       "[511 rows x 8 columns]"
      ]
     },
     "metadata": {},
     "output_type": "display_data"
    },
    {
     "name": "stdout",
     "output_type": "stream",
     "text": [
      "819505 (35.20%) of the votes are being cast on the first 14.29% of rel time\n",
      "2199172 (94.45%) of the votes are being cast on the first 85.71% of rel time\n"
     ]
    },
    {
     "data": {
      "application/vnd.jupyter.widget-view+json": {
       "model_id": "1f5fdb80760c4221b1fbd1f3e9910bab",
       "version_major": 2,
       "version_minor": 0
      },
      "text/html": [
       "Cannot show widget. You probably want to rerun the code cell above (<i>Click in the code cell, and press Shift+Enter <kbd>⇧</kbd>+<kbd>↩</kbd></i>)."
      ],
      "text/plain": [
       "Cannot show ipywidgets in text"
      ]
     },
     "metadata": {},
     "output_type": "display_data"
    },
    {
     "data": {
      "image/png": "[encoded data removed]",
      "text/plain": [
       "<Figure size 951.625x500 with 1 Axes>"
      ]
     },
     "metadata": {},
     "output_type": "display_data"
    }
   ],
   "source": [
    "from matplotlib import ticker\n",
    "\n",
    "PLOT_HUE = True\n",
    "BINS = 10\n",
    "\n",
    "_dfv = dfv[['proposal', 'date']].merge(dfp[['id', 'start', 'end']], left_on='proposal', right_on='id').sort_values('date')\n",
    "if not all(_dfv['date'] >= _dfv['start']):\n",
    "    warnings.warn('There cant be votes before the proposal started')\n",
    "if not all(_dfv['end'] >= _dfv['date']):\n",
    "    warnings.warn('There cant be votes after the proposal ended')\n",
    "_dfv['date_rel'] = (_dfv['date'] - _dfv['start']) / (_dfv['end'] - _dfv['start'])\n",
    "_dfv['delta'] = (_dfv['end'] - _dfv['start'])\n",
    "_dfv['time remaining'] = 1 - _dfv['date_rel']\n",
    "\n",
    "display(_dfv.groupby('delta')[['time remaining']].describe())\n",
    "\n",
    "for t in [1/7, 6/7]:\n",
    "    first_day = (_dfv['date_rel'] < t)\n",
    "    print(f\"{first_day.sum()} ({first_day.mean()*100:.2f}%) of the votes are being cast on the first {t*100:.2f}% of rel time\")\n",
    "\n",
    "if len(_dfv['delta'].value_counts()) > BINS:\n",
    "    _dfv['delta_original'] = _dfv['delta']\n",
    "    _dfv['delta'] = pd.cut(_dfv['delta'], BINS)\n",
    "\n",
    "_dfv['delta'] = _dfv['delta'].astype(str)\n",
    "fg = sns.displot(_dfv, x='date_rel', kind='ecdf', hue='delta' if PLOT_HUE else None)\n",
    "# fg.ax.xaxis.set_major_locator(ticker.MultipleLocator(1/7))\n",
    "\n",
    "fg.ax.yaxis.set_major_locator(ticker.MultipleLocator(1/10))\n",
    "fg.ax.yaxis.set_major_formatter(ticker.PercentFormatter(1))\n",
    "fg.ax.set_xticks(np.arange(8)/7)\n",
    "fg.ax.set_xticklabels([\"0\"] + [f\"{x}/7\" for x in range(1,7)] + [\"1\"])\n",
    "fg.ax.set_xlabel('Relative time elapsed');\n",
    "\n",
    "nbutils.download_matplotlib(fg, f\"votes_in_time{'-color' if PLOT_HUE else ''}.pdf\")"
   ]
  },
  {
   "cell_type": "markdown",
   "id": "9130dd8e-7e68-4dfb-b495-9fa0a926a933",
   "metadata": {
    "papermill": {
     "duration": 0.004209,
     "end_time": "2024-09-26T17:01:55.616254",
     "exception": false,
     "start_time": "2024-09-26T17:01:55.612045",
     "status": "completed"
    },
    "tags": []
   },
   "source": [
    "## Explore folds"
   ]
  },
  {
   "cell_type": "markdown",
   "id": "fccc5d7a-9987-474d-9c06-1e2c02996314",
   "metadata": {
    "papermill": {
     "duration": 0.003977,
     "end_time": "2024-09-26T17:01:55.624264",
     "exception": false,
     "start_time": "2024-09-26T17:01:55.620287",
     "status": "completed"
    },
    "tags": []
   },
   "source": [
    "### Just the folds that are used"
   ]
  },
  {
   "cell_type": "code",
   "execution_count": 18,
   "id": "cd043869-84a8-462c-9c01-dd75d130d520",
   "metadata": {
    "execution": {
     "iopub.execute_input": "2024-09-26T17:01:55.632790Z",
     "iopub.status.busy": "2024-09-26T17:01:55.632677Z",
     "iopub.status.idle": "2024-09-26T17:01:56.530755Z",
     "shell.execute_reply": "2024-09-26T17:01:56.530524Z"
    },
    "papermill": {
     "duration": 0.903401,
     "end_time": "2024-09-26T17:01:56.531558",
     "exception": false,
     "start_time": "2024-09-26T17:01:55.628157",
     "status": "completed"
    },
    "tags": []
   },
   "outputs": [
    {
     "data": {
      "text/html": [
       "<div>\n",
       "<style scoped>\n",
       "    .dataframe tbody tr th:only-of-type {\n",
       "        vertical-align: middle;\n",
       "    }\n",
       "\n",
       "    .dataframe tbody tr th {\n",
       "        vertical-align: top;\n",
       "    }\n",
       "\n",
       "    .dataframe thead th {\n",
       "        text-align: right;\n",
       "    }\n",
       "</style>\n",
       "<table border=\"1\" class=\"dataframe\">\n",
       "  <thead>\n",
       "    <tr style=\"text-align: right;\">\n",
       "      <th></th>\n",
       "      <th>open proposals</th>\n",
       "      <th>users in train</th>\n",
       "      <th>users in test</th>\n",
       "      <th>votes in train</th>\n",
       "      <th>votes in test</th>\n",
       "      <th>users in both</th>\n",
       "      <th>vpp test</th>\n",
       "      <th>vpv test</th>\n",
       "    </tr>\n",
       "    <tr>\n",
       "      <th>t</th>\n",
       "      <th></th>\n",
       "      <th></th>\n",
       "      <th></th>\n",
       "      <th></th>\n",
       "      <th></th>\n",
       "      <th></th>\n",
       "      <th></th>\n",
       "      <th></th>\n",
       "    </tr>\n",
       "  </thead>\n",
       "  <tbody>\n",
       "    <tr>\n",
       "      <th>2023-03-17</th>\n",
       "      <td>5</td>\n",
       "      <td>67137</td>\n",
       "      <td>3916</td>\n",
       "      <td>1281148</td>\n",
       "      <td>6753</td>\n",
       "      <td>3916</td>\n",
       "      <td>1350.600000</td>\n",
       "      <td>1.724464</td>\n",
       "    </tr>\n",
       "    <tr>\n",
       "      <th>2023-03-22</th>\n",
       "      <td>5</td>\n",
       "      <td>67306</td>\n",
       "      <td>3254</td>\n",
       "      <td>1332986</td>\n",
       "      <td>4321</td>\n",
       "      <td>3254</td>\n",
       "      <td>864.200000</td>\n",
       "      <td>1.327904</td>\n",
       "    </tr>\n",
       "    <tr>\n",
       "      <th>2023-03-27</th>\n",
       "      <td>5</td>\n",
       "      <td>67722</td>\n",
       "      <td>3839</td>\n",
       "      <td>1410000</td>\n",
       "      <td>9032</td>\n",
       "      <td>3839</td>\n",
       "      <td>1806.400000</td>\n",
       "      <td>2.352696</td>\n",
       "    </tr>\n",
       "    <tr>\n",
       "      <th>2023-04-01</th>\n",
       "      <td>11</td>\n",
       "      <td>68431</td>\n",
       "      <td>17023</td>\n",
       "      <td>1558442</td>\n",
       "      <td>35396</td>\n",
       "      <td>17023</td>\n",
       "      <td>3217.818182</td>\n",
       "      <td>2.079304</td>\n",
       "    </tr>\n",
       "    <tr>\n",
       "      <th>2023-04-06</th>\n",
       "      <td>14</td>\n",
       "      <td>69506</td>\n",
       "      <td>14905</td>\n",
       "      <td>1652941</td>\n",
       "      <td>37473</td>\n",
       "      <td>14905</td>\n",
       "      <td>2676.642857</td>\n",
       "      <td>2.514123</td>\n",
       "    </tr>\n",
       "    <tr>\n",
       "      <th>2023-04-11</th>\n",
       "      <td>9</td>\n",
       "      <td>69768</td>\n",
       "      <td>1817</td>\n",
       "      <td>1691249</td>\n",
       "      <td>3390</td>\n",
       "      <td>1817</td>\n",
       "      <td>376.666667</td>\n",
       "      <td>1.865713</td>\n",
       "    </tr>\n",
       "    <tr>\n",
       "      <th>2023-04-16</th>\n",
       "      <td>6</td>\n",
       "      <td>70375</td>\n",
       "      <td>2543</td>\n",
       "      <td>1781344</td>\n",
       "      <td>3935</td>\n",
       "      <td>2543</td>\n",
       "      <td>655.833333</td>\n",
       "      <td>1.547385</td>\n",
       "    </tr>\n",
       "    <tr>\n",
       "      <th>2023-04-21</th>\n",
       "      <td>9</td>\n",
       "      <td>70767</td>\n",
       "      <td>13689</td>\n",
       "      <td>1798158</td>\n",
       "      <td>16097</td>\n",
       "      <td>13689</td>\n",
       "      <td>1788.555556</td>\n",
       "      <td>1.175908</td>\n",
       "    </tr>\n",
       "    <tr>\n",
       "      <th>2023-04-26</th>\n",
       "      <td>4</td>\n",
       "      <td>71021</td>\n",
       "      <td>17557</td>\n",
       "      <td>1842759</td>\n",
       "      <td>48107</td>\n",
       "      <td>17557</td>\n",
       "      <td>12026.750000</td>\n",
       "      <td>2.740047</td>\n",
       "    </tr>\n",
       "    <tr>\n",
       "      <th>2023-05-01</th>\n",
       "      <td>6</td>\n",
       "      <td>71336</td>\n",
       "      <td>3095</td>\n",
       "      <td>1963436</td>\n",
       "      <td>4719</td>\n",
       "      <td>3095</td>\n",
       "      <td>786.500000</td>\n",
       "      <td>1.524717</td>\n",
       "    </tr>\n",
       "  </tbody>\n",
       "</table>\n",
       "</div>"
      ],
      "text/plain": [
       "            open proposals  users in train  users in test  votes in train  \\\n",
       "t                                                                           \n",
       "2023-03-17               5           67137           3916         1281148   \n",
       "2023-03-22               5           67306           3254         1332986   \n",
       "2023-03-27               5           67722           3839         1410000   \n",
       "2023-04-01              11           68431          17023         1558442   \n",
       "2023-04-06              14           69506          14905         1652941   \n",
       "2023-04-11               9           69768           1817         1691249   \n",
       "2023-04-16               6           70375           2543         1781344   \n",
       "2023-04-21               9           70767          13689         1798158   \n",
       "2023-04-26               4           71021          17557         1842759   \n",
       "2023-05-01               6           71336           3095         1963436   \n",
       "\n",
       "            votes in test  users in both      vpp test  vpv test  \n",
       "t                                                                 \n",
       "2023-03-17           6753           3916   1350.600000  1.724464  \n",
       "2023-03-22           4321           3254    864.200000  1.327904  \n",
       "2023-03-27           9032           3839   1806.400000  2.352696  \n",
       "2023-04-01          35396          17023   3217.818182  2.079304  \n",
       "2023-04-06          37473          14905   2676.642857  2.514123  \n",
       "2023-04-11           3390           1817    376.666667  1.865713  \n",
       "2023-04-16           3935           2543    655.833333  1.547385  \n",
       "2023-04-21          16097          13689   1788.555556  1.175908  \n",
       "2023-04-26          48107          17557  12026.750000  2.740047  \n",
       "2023-05-01           4719           3095    786.500000  1.524717  "
      ]
     },
     "execution_count": 18,
     "metadata": {},
     "output_type": "execute_result"
    }
   ],
   "source": [
    "from collections import defaultdict\n",
    "\n",
    "foldsinfo = defaultdict(list)\n",
    "for f in folds:\n",
    "    # print(len(f.open_proposals), \"open proposals\")\n",
    "    foldsinfo['t'].append(f.end)\n",
    "    foldsinfo['open proposals'].append(len(f.open_proposals))\n",
    "    foldsinfo['users in train'].append(f.train['voter'].nunique())\n",
    "    foldsinfo['users in test'].append(f.test['voter'].nunique())\n",
    "    foldsinfo['votes in train'].append(len(f.train))\n",
    "    foldsinfo['votes in test'].append(len(f.test))\n",
    "    foldsinfo['users in both'].append(len(np.intersect1d(f.test['voter'].unique(), f.test['voter'].unique())))\n",
    "    # votes per proposal\n",
    "    foldsinfo['vpp test'].append(f.test.groupby('proposal').size().mean())\n",
    "    # votes per voter\n",
    "    foldsinfo['vpv test'].append(f.test.groupby('voter').size().mean())\n",
    "\n",
    "dff = pd.DataFrame(foldsinfo).set_index('t')\n",
    "paths.save_dao_datum(ORG_NAME, 'folds_avg_open_proposals', dff['open proposals'].mean())\n",
    "paths.save_dao_datum(ORG_NAME, 'folds_avg_test_votes', dff['votes in test'].mean())\n",
    "paths.save_dao_datum(ORG_NAME, 'folds_avg_test_users', dff['users in test'].mean())\n",
    "paths.save_dao_datum(ORG_NAME, 'folds_avg_test_vpp', dff['vpp test'].mean())\n",
    "paths.save_dao_datum(ORG_NAME, 'folds_avg_test_vpv', dff['vpv test'].mean())\n",
    "dff"
   ]
  },
  {
   "cell_type": "markdown",
   "id": "729479f0-153b-46ee-a4ac-fcf6a2902dbb",
   "metadata": {
    "papermill": {
     "duration": 0.004463,
     "end_time": "2024-09-26T17:01:56.541038",
     "exception": false,
     "start_time": "2024-09-26T17:01:56.536575",
     "status": "completed"
    },
    "tags": []
   },
   "source": [
    "## Histograms"
   ]
  },
  {
   "cell_type": "markdown",
   "id": "b700fb01",
   "metadata": {
    "papermill": {
     "duration": 0.004054,
     "end_time": "2024-09-26T17:01:56.549292",
     "exception": false,
     "start_time": "2024-09-26T17:01:56.545238",
     "status": "completed"
    },
    "tags": []
   },
   "source": [
    "### Votes per user"
   ]
  },
  {
   "cell_type": "code",
   "execution_count": 19,
   "id": "58c8912e",
   "metadata": {
    "execution": {
     "iopub.execute_input": "2024-09-26T17:01:56.557917Z",
     "iopub.status.busy": "2024-09-26T17:01:56.557800Z",
     "iopub.status.idle": "2024-09-26T17:01:56.911378Z",
     "shell.execute_reply": "2024-09-26T17:01:56.911169Z"
    },
    "papermill": {
     "duration": 0.35891,
     "end_time": "2024-09-26T17:01:56.912155",
     "exception": false,
     "start_time": "2024-09-26T17:01:56.553245",
     "status": "completed"
    },
    "tags": []
   },
   "outputs": [
    {
     "name": "stdout",
     "output_type": "stream",
     "text": [
      "count    74399.000000\n",
      "mean        31.295528\n",
      "std         38.711762\n",
      "min          1.000000\n",
      "10%          1.000000\n",
      "15%          2.000000\n",
      "50%         13.000000\n",
      "90%         83.200000\n",
      "95%        107.000000\n",
      "99%        165.000000\n",
      "max        408.000000\n",
      "dtype: float64\n",
      "42388 voters (56.97%) have voted more than 10 times\n",
      "4204 voters (5.65%) have voted more than 100 times\n"
     ]
    },
    {
     "data": {
      "application/vnd.jupyter.widget-view+json": {
       "model_id": "4b7492496ad74a4293a2f9cd5354a49a",
       "version_major": 2,
       "version_minor": 0
      },
      "text/html": [
       "Cannot show widget. You probably want to rerun the code cell above (<i>Click in the code cell, and press Shift+Enter <kbd>⇧</kbd>+<kbd>↩</kbd></i>)."
      ],
      "text/plain": [
       "Cannot show ipywidgets in text"
      ]
     },
     "metadata": {},
     "output_type": "display_data"
    },
    {
     "data": {
      "image/png": "[encoded data removed]",
      "text/plain": [
       "<Figure size 350x262.5 with 1 Axes>"
      ]
     },
     "metadata": {},
     "output_type": "display_data"
    }
   ],
   "source": [
    "_toplot = dfv.groupby('voter').size()\n",
    "# _toplot = _toplot[_toplot < 40]\n",
    "print(_toplot.describe(percentiles=[.1, .15, .5, .9, .95, .99]))\n",
    "# _toplot.plot.hist(log=True)\n",
    "ax = sns.ecdfplot(_toplot, log_scale=True)\n",
    "plt.xlabel('# votes')\n",
    "plt.ylabel('% voters')\n",
    "\n",
    "_times_voted = [10, 100]\n",
    "for t in _times_voted:\n",
    "    _nusers = (_toplot > t).sum()\n",
    "    print(f\"{_nusers} voters ({_nusers/len(_toplot)*100:.2f}%) have voted more than {t} times\")\n",
    "\n",
    "ax.set_xticks([1, 5, 10, 50, 100, 500, 1000])\n",
    "# ax.xaxis.set_major_locator(mtick.MultipleLocator(10))\n",
    "ax.yaxis.set_major_formatter(ticker.PercentFormatter(1))\n",
    "\n",
    "# Updates by Javi\n",
    "plt.xlabel(\"\")\n",
    "plt.ylabel(\"\")\n",
    "\n",
    "nbutils.download_matplotlib(ax.figure, \"ecdf-vpv.pdf\")"
   ]
  },
  {
   "cell_type": "markdown",
   "id": "d11514db",
   "metadata": {
    "papermill": {
     "duration": 0.004361,
     "end_time": "2024-09-26T17:01:56.921267",
     "exception": false,
     "start_time": "2024-09-26T17:01:56.916906",
     "status": "completed"
    },
    "tags": []
   },
   "source": [
    "### Votes per proposal"
   ]
  },
  {
   "cell_type": "code",
   "execution_count": 20,
   "id": "66dba836",
   "metadata": {
    "execution": {
     "iopub.execute_input": "2024-09-26T17:01:56.930489Z",
     "iopub.status.busy": "2024-09-26T17:01:56.930351Z",
     "iopub.status.idle": "2024-09-26T17:01:57.162959Z",
     "shell.execute_reply": "2024-09-26T17:01:57.162660Z"
    },
    "papermill": {
     "duration": 0.238254,
     "end_time": "2024-09-26T17:01:57.163740",
     "exception": false,
     "start_time": "2024-09-26T17:01:56.925486",
     "status": "completed"
    },
    "tags": []
   },
   "outputs": [
    {
     "name": "stdout",
     "output_type": "stream",
     "text": [
      "count      918.000000\n",
      "mean      2536.335512\n",
      "std       4390.630009\n",
      "min          1.000000\n",
      "10%          2.000000\n",
      "15%          3.000000\n",
      "20%          6.000000\n",
      "25%         63.250000\n",
      "50%        810.000000\n",
      "75%       2025.750000\n",
      "90%       9076.200000\n",
      "95%      15076.250000\n",
      "99%      17088.790000\n",
      "max      21321.000000\n",
      "dtype: float64\n",
      "Total votes: 2328356\n",
      "722 proposals (78.65%) have more than 10 votes\n",
      "681 proposals (74.18%) have more than 72 votes\n",
      "680 proposals (74.07%) have more than 73 votes\n",
      "671 proposals (73.09%) have more than 100 votes\n"
     ]
    },
    {
     "data": {
      "application/vnd.jupyter.widget-view+json": {
       "model_id": "d9f1c07f044a43f59eeb41363aec0e96",
       "version_major": 2,
       "version_minor": 0
      },
      "text/html": [
       "Cannot show widget. You probably want to rerun the code cell above (<i>Click in the code cell, and press Shift+Enter <kbd>⇧</kbd>+<kbd>↩</kbd></i>)."
      ],
      "text/plain": [
       "Cannot show ipywidgets in text"
      ]
     },
     "metadata": {},
     "output_type": "display_data"
    },
    {
     "data": {
      "image/png": "[encoded data removed]",
      "text/plain": [
       "<Figure size 350x262.5 with 1 Axes>"
      ]
     },
     "metadata": {},
     "output_type": "display_data"
    }
   ],
   "source": [
    "_toplot = dfv.groupby('proposal').size()\n",
    "print(_toplot.describe(percentiles=[.1, .15, .20, .25, .5,.75,.9, .95, .99]))\n",
    "\n",
    "print(\"Total votes:\", _toplot.sum())\n",
    "_times_voted = [10, 72, 73, 100]\n",
    "for t in _times_voted:\n",
    "    _nprops = (_toplot > t).sum()\n",
    "    print(f\"{_nprops} proposals ({_nprops/len(_toplot)*100:.2f}%) have more than {t} votes\")\n",
    "\n",
    "ax = sns.ecdfplot(_toplot, log_scale=True)\n",
    "ax.set_xticks([1, 5, 10, 50, 100, 500, 1000])\n",
    "ax.yaxis.set_major_formatter(ticker.PercentFormatter(1))\n",
    "\n",
    "plt.xlabel('# votes')\n",
    "plt.ylabel('% proposals')\n",
    "\n",
    "# Updates by Javi\n",
    "plt.xlabel(\"\")\n",
    "plt.ylabel(\"\")\n",
    "\n",
    "nbutils.download_matplotlib(ax.figure, \"ecdf-vpp.pdf\")"
   ]
  }
 ],
 "metadata": {
  "kernelspec": {
   "display_name": "Python 3 (ipykernel)",
   "language": "python",
   "name": "python3"
  },
  "language_info": {
   "codemirror_mode": {
    "name": "ipython",
    "version": 3
   },
   "file_extension": ".py",
   "mimetype": "text/x-python",
   "name": "python",
   "nbconvert_exporter": "python",
   "pygments_lexer": "ipython3",
   "version": "3.11.6"
  },
  "papermill": {
   "default_parameters": {},
   "duration": 210.068099,
   "end_time": "2024-09-26T17:01:57.788254",
   "environment_variables": {},
   "exception": null,
   "input_path": "01_explore.ipynb",
   "output_path": "../nbout/Aave - Aavegotchi/01_explore.ipynb",
   "parameters": {
    "EXECUTION_ID": "2024-09-24T10:00",
    "LAST_FOLDS": 10,
    "LAST_FOLD_DATE_STR": "2023-05-01",
    "ORG_NAME": "Aave - Aavegotchi",
    "PLN_MODEL_NAMES": [
     "all-MiniLM-L12-v2"
    ],
    "SPLITS_FREQ": "5d",
    "SPLITS_NORMALIZE": true,
    "WINDOW_SIZES": [
     "1d",
     "7d",
     "14d"
    ]
   },
   "start_time": "2024-09-26T16:58:27.720155",
   "version": "2.6.0"
  },
  "widgets": {
   "application/vnd.jupyter.widget-state+json": {
    "state": {
     "024c735304634458a4fc9710dfedb168": {
      "model_module": "jupyter-vuetify",
      "model_module_version": "^1.9.4",
      "model_name": "HtmlModel",
      "state": {
       "_dom_classes": [],
       "_events": [],
       "_jupyter_vue": "IPY_MODEL_b1fb223d83bc43e2a4f5126091a99377",
       "_model_module": "jupyter-vuetify",
       "_model_module_version": "^1.9.4",
       "_model_name": "HtmlModel",
       "_view_count": null,
       "_view_module": "jupyter-vuetify",
       "_view_module_version": "^1.9.4",
       "_view_name": "VuetifyView",
       "attributes": {},
       "children": [
        "IPY_MODEL_f3802d457d9d411f8050e497e6c8d399"
       ],
       "class_": null,
       "layout": null,
       "slot": null,
       "style_": null,
       "tabbable": null,
       "tag": "div",
       "tooltip": null,
       "v_model": "!!disabled!!",
       "v_on": null,
       "v_slots": []
      }
     },
     "04860491acf1413ebcc3f3765d5138c6": {
      "model_module": "jupyter-vuetify",
      "model_module_version": "^1.9.4",
      "model_name": "ThemeColorsModel",
      "state": {
       "_model_module": "jupyter-vuetify",
       "_model_module_version": "^1.9.4",
       "_model_name": "ThemeColorsModel",
       "_theme_name": "light",
       "_view_count": null,
       "_view_module": null,
       "_view_module_version": "^1.9.4",
       "_view_name": null,
       "accent": "#82B1FF",
       "anchor": null,
       "error": "#FF5252",
       "info": "#2196F3",
       "primary": "#1976D2",
       "secondary": "#424242",
       "success": "#4CAF50",
       "warning": "#FB8C00"
      }
     },
     "0aa278c364804b8b835be8a73d543412": {
      "model_module": "jupyter-vuetify",
      "model_module_version": "^1.8.5",
      "model_name": "IconModel",
      "state": {
       "_dom_classes": [],
       "_events": [],
       "_jupyter_vue": "IPY_MODEL_b1fb223d83bc43e2a4f5126091a99377",
       "_metadata": null,
       "_model_module": "jupyter-vuetify",
       "_model_module_version": "^1.8.5",
       "_model_name": "IconModel",
       "_view_count": null,
       "_view_module": "jupyter-vuetify",
       "_view_module_version": "^1.8.5",
       "_view_name": "VuetifyView",
       "attributes": {},
       "children": [
        "mdi-cloud-download-outline"
       ],
       "class_": null,
       "color": null,
       "dark": null,
       "dense": null,
       "disabled": null,
       "large": null,
       "layout": null,
       "left": true,
       "light": null,
       "right": null,
       "size": null,
       "slot": null,
       "small": null,
       "style_": null,
       "tabbable": null,
       "tag": null,
       "tooltip": null,
       "v_model": "!!disabled!!",
       "v_on": null,
       "v_slots": [],
       "x_large": null,
       "x_small": null
      }
     },
     "0dcaaf56d56a42ae94d1385163c9ae28": {
      "model_module": "@jupyter-widgets/base",
      "model_module_version": "2.0.0",
      "model_name": "LayoutModel",
      "state": {
       "_model_module": "@jupyter-widgets/base",
       "_model_module_version": "2.0.0",
       "_model_name": "LayoutModel",
       "_view_count": null,
       "_view_module": "@jupyter-widgets/base",
       "_view_module_version": "2.0.0",
       "_view_name": "LayoutView",
       "align_content": null,
       "align_items": null,
       "align_self": null,
       "border_bottom": null,
       "border_left": null,
       "border_right": null,
       "border_top": null,
       "bottom": null,
       "display": null,
       "flex": null,
       "flex_flow": null,
       "grid_area": null,
       "grid_auto_columns": null,
       "grid_auto_flow": null,
       "grid_auto_rows": null,
       "grid_column": null,
       "grid_gap": null,
       "grid_row": null,
       "grid_template_areas": null,
       "grid_template_columns": null,
       "grid_template_rows": null,
       "height": null,
       "justify_content": null,
       "justify_items": null,
       "left": null,
       "margin": null,
       "max_height": null,
       "max_width": null,
       "min_height": null,
       "min_width": null,
       "object_fit": null,
       "object_position": null,
       "order": null,
       "overflow": null,
       "padding": null,
       "right": null,
       "top": null,
       "visibility": null,
       "width": null
      }
     },
     "133221a240ef414cb170285353397155": {
      "model_module": "@jupyter-widgets/base",
      "model_module_version": "2.0.0",
      "model_name": "LayoutModel",
      "state": {
       "_model_module": "@jupyter-widgets/base",
       "_model_module_version": "2.0.0",
       "_model_name": "LayoutModel",
       "_view_count": null,
       "_view_module": "@jupyter-widgets/base",
       "_view_module_version": "2.0.0",
       "_view_name": "LayoutView",
       "align_content": null,
       "align_items": null,
       "align_self": null,
       "border_bottom": null,
       "border_left": null,
       "border_right": null,
       "border_top": null,
       "bottom": null,
       "display": null,
       "flex": null,
       "flex_flow": null,
       "grid_area": null,
       "grid_auto_columns": null,
       "grid_auto_flow": null,
       "grid_auto_rows": null,
       "grid_column": null,
       "grid_gap": null,
       "grid_row": null,
       "grid_template_areas": null,
       "grid_template_columns": null,
       "grid_template_rows": null,
       "height": null,
       "justify_content": null,
       "justify_items": null,
       "left": null,
       "margin": null,
       "max_height": null,
       "max_width": null,
       "min_height": null,
       "min_width": null,
       "object_fit": null,
       "object_position": null,
       "order": null,
       "overflow": null,
       "padding": null,
       "right": null,
       "top": null,
       "visibility": null,
       "width": null
      }
     },
     "1539d1f3740a47dc93164b89ca001828": {
      "model_module": "jupyter-vuetify",
      "model_module_version": "^1.8.5",
      "model_name": "ColModel",
      "state": {
       "_dom_classes": [],
       "_events": [],
       "_jupyter_vue": "IPY_MODEL_b1fb223d83bc43e2a4f5126091a99377",
       "_metadata": null,
       "_model_module": "jupyter-vuetify",
       "_model_module_version": "^1.8.5",
       "_model_name": "ColModel",
       "_view_count": null,
       "_view_module": "jupyter-vuetify",
       "_view_module_version": "^1.8.5",
       "_view_name": "VuetifyView",
       "align_self": null,
       "attributes": {},
       "children": [
        "IPY_MODEL_3d79315f9a3b4dbfab7a8fb1dcc63b4f"
       ],
       "class_": null,
       "cols": 12.0,
       "layout": null,
       "lg": null,
       "md": null,
       "offset": null,
       "offset_lg": null,
       "offset_md": null,
       "offset_sm": null,
       "offset_xl": null,
       "order": null,
       "order_lg": null,
       "order_md": null,
       "order_sm": null,
       "order_xl": null,
       "slot": null,
       "sm": null,
       "style_": null,
       "tabbable": null,
       "tag": null,
       "tooltip": null,
       "v_model": "!!disabled!!",
       "v_on": null,
       "v_slots": [],
       "xl": null
      }
     },
     "1dd4b0663b2345e182cde887163ff09d": {
      "model_module": "jupyter-vuetify",
      "model_module_version": "^1.9.4",
      "model_name": "VuetifyTemplateModel",
      "state": {
       "_component_instances": [],
       "_dom_classes": [],
       "_jupyter_vue": "IPY_MODEL_b1fb223d83bc43e2a4f5126091a99377",
       "_model_module": "jupyter-vuetify",
       "_model_module_version": "^1.9.4",
       "_model_name": "VuetifyTemplateModel",
       "_view_count": null,
       "_view_module": "jupyter-vuetify",
       "_view_module_version": "^1.9.4",
       "_view_name": "VuetifyView",
       "bytes": null,
       "children": [
        "IPY_MODEL_d3674d8e56314dd0baf3a0eff7aaa7cd"
       ],
       "components": null,
       "css": null,
       "data": null,
       "events": [],
       "filename": "ecdf-vpp.pdf",
       "layout": "IPY_MODEL_a316972f07b2427cb7e53dc7330df9ac",
       "methods": null,
       "mime_type": "application/octet-stream",
       "request_download": false,
       "tabbable": null,
       "template": "IPY_MODEL_41ba204b68014e80a93fddbb8d08437d",
       "tooltip": null
      }
     },
     "1f5fdb80760c4221b1fbd1f3e9910bab": {
      "model_module": "@jupyter-widgets/controls",
      "model_module_version": "2.0.0",
      "model_name": "VBoxModel",
      "state": {
       "_dom_classes": [],
       "_model_module": "@jupyter-widgets/controls",
       "_model_module_version": "2.0.0",
       "_model_name": "VBoxModel",
       "_view_count": 0,
       "_view_module": "@jupyter-widgets/controls",
       "_view_module_version": "2.0.0",
       "_view_name": "VBoxView",
       "box_style": "",
       "children": [
        "IPY_MODEL_024c735304634458a4fc9710dfedb168"
       ],
       "layout": "IPY_MODEL_9ded63f401a94ad0a4a8cb89e486c069",
       "tabbable": null,
       "tooltip": null
      }
     },
     "280210fb0a6d48518a08d71f8c5c0889": {
      "model_module": "jupyter-vuetify",
      "model_module_version": "^1.9.4",
      "model_name": "VuetifyTemplateModel",
      "state": {
       "_component_instances": [],
       "_dom_classes": [],
       "_jupyter_vue": "IPY_MODEL_b1fb223d83bc43e2a4f5126091a99377",
       "_model_module": "jupyter-vuetify",
       "_model_module_version": "^1.9.4",
       "_model_name": "VuetifyTemplateModel",
       "_view_count": null,
       "_view_module": "jupyter-vuetify",
       "_view_module_version": "^1.9.4",
       "_view_name": "VuetifyView",
       "bytes": null,
       "children": [
        "IPY_MODEL_65e9158bed6c47aabe5754fa0912e7e0"
       ],
       "components": null,
       "css": null,
       "data": null,
       "events": [],
       "filename": "ecdf-vpv.pdf",
       "layout": "IPY_MODEL_133221a240ef414cb170285353397155",
       "methods": null,
       "mime_type": "application/octet-stream",
       "request_download": false,
       "tabbable": null,
       "template": "IPY_MODEL_41ba204b68014e80a93fddbb8d08437d",
       "tooltip": null
      }
     },
     "2edf96904ab14134a554c671345c94e8": {
      "model_module": "@jupyter-widgets/controls",
      "model_module_version": "2.0.0",
      "model_name": "VBoxModel",
      "state": {
       "_dom_classes": [],
       "_model_module": "@jupyter-widgets/controls",
       "_model_module_version": "2.0.0",
       "_model_name": "VBoxModel",
       "_view_count": 0,
       "_view_module": "@jupyter-widgets/controls",
       "_view_module_version": "2.0.0",
       "_view_name": "VBoxView",
       "box_style": "",
       "children": [
        "IPY_MODEL_f443e2b10198405781dc0628d554d504"
       ],
       "layout": "IPY_MODEL_5bbd06d7e029425594ab056a53c6f133",
       "tabbable": null,
       "tooltip": null
      }
     },
     "2fde0d155f8744e280b6b000b4f60e0c": {
      "model_module": "jupyter-vuetify",
      "model_module_version": "^1.9.4",
      "model_name": "VuetifyTemplateModel",
      "state": {
       "_component_instances": [],
       "_dom_classes": [],
       "_jupyter_vue": "IPY_MODEL_b1fb223d83bc43e2a4f5126091a99377",
       "_model_module": "jupyter-vuetify",
       "_model_module_version": "^1.9.4",
       "_model_name": "VuetifyTemplateModel",
       "_view_count": null,
       "_view_module": "jupyter-vuetify",
       "_view_module_version": "^1.9.4",
       "_view_name": "VuetifyView",
       "bytes": null,
       "children": [
        "IPY_MODEL_ed55453d2fa348f09ae584884f97dc06"
       ],
       "components": null,
       "css": null,
       "data": null,
       "events": [],
       "filename": "votes_dow.pdf",
       "layout": "IPY_MODEL_a218a99f16794c5aa7f395b0b8e63274",
       "methods": null,
       "mime_type": "application/octet-stream",
       "request_download": false,
       "tabbable": null,
       "template": "IPY_MODEL_41ba204b68014e80a93fddbb8d08437d",
       "tooltip": null
      }
     },
     "32be819530c743f6912a4b2e40866d89": {
      "model_module": "@jupyter-widgets/base",
      "model_module_version": "2.0.0",
      "model_name": "LayoutModel",
      "state": {
       "_model_module": "@jupyter-widgets/base",
       "_model_module_version": "2.0.0",
       "_model_name": "LayoutModel",
       "_view_count": null,
       "_view_module": "@jupyter-widgets/base",
       "_view_module_version": "2.0.0",
       "_view_name": "LayoutView",
       "align_content": null,
       "align_items": null,
       "align_self": null,
       "border_bottom": null,
       "border_left": null,
       "border_right": null,
       "border_top": null,
       "bottom": null,
       "display": null,
       "flex": null,
       "flex_flow": null,
       "grid_area": null,
       "grid_auto_columns": null,
       "grid_auto_flow": null,
       "grid_auto_rows": null,
       "grid_column": null,
       "grid_gap": null,
       "grid_row": null,
       "grid_template_areas": null,
       "grid_template_columns": null,
       "grid_template_rows": null,
       "height": null,
       "justify_content": null,
       "justify_items": null,
       "left": null,
       "margin": null,
       "max_height": null,
       "max_width": null,
       "min_height": null,
       "min_width": null,
       "object_fit": null,
       "object_position": null,
       "order": null,
       "overflow": null,
       "padding": null,
       "right": null,
       "top": null,
       "visibility": null,
       "width": null
      }
     },
     "34a5566b81414fa0bb76e2d00803ef9d": {
      "model_module": "@jupyter-widgets/base",
      "model_module_version": "2.0.0",
      "model_name": "LayoutModel",
      "state": {
       "_model_module": "@jupyter-widgets/base",
       "_model_module_version": "2.0.0",
       "_model_name": "LayoutModel",
       "_view_count": null,
       "_view_module": "@jupyter-widgets/base",
       "_view_module_version": "2.0.0",
       "_view_name": "LayoutView",
       "align_content": null,
       "align_items": null,
       "align_self": null,
       "border_bottom": null,
       "border_left": null,
       "border_right": null,
       "border_top": null,
       "bottom": null,
       "display": null,
       "flex": null,
       "flex_flow": null,
       "grid_area": null,
       "grid_auto_columns": null,
       "grid_auto_flow": null,
       "grid_auto_rows": null,
       "grid_column": null,
       "grid_gap": null,
       "grid_row": null,
       "grid_template_areas": null,
       "grid_template_columns": null,
       "grid_template_rows": null,
       "height": null,
       "justify_content": null,
       "justify_items": null,
       "left": null,
       "margin": null,
       "max_height": null,
       "max_width": null,
       "min_height": null,
       "min_width": null,
       "object_fit": null,
       "object_position": null,
       "order": null,
       "overflow": null,
       "padding": null,
       "right": null,
       "top": null,
       "visibility": null,
       "width": null
      }
     },
     "354d75ce5c844b8793b6b01e11330957": {
      "model_module": "jupyter-vuetify",
      "model_module_version": "^1.8.5",
      "model_name": "IconModel",
      "state": {
       "_dom_classes": [],
       "_events": [],
       "_jupyter_vue": "IPY_MODEL_b1fb223d83bc43e2a4f5126091a99377",
       "_metadata": null,
       "_model_module": "jupyter-vuetify",
       "_model_module_version": "^1.8.5",
       "_model_name": "IconModel",
       "_view_count": null,
       "_view_module": "jupyter-vuetify",
       "_view_module_version": "^1.8.5",
       "_view_name": "VuetifyView",
       "attributes": {},
       "children": [
        "mdi-cloud-download-outline"
       ],
       "class_": null,
       "color": null,
       "dark": null,
       "dense": null,
       "disabled": null,
       "large": null,
       "layout": null,
       "left": true,
       "light": null,
       "right": null,
       "size": null,
       "slot": null,
       "small": null,
       "style_": null,
       "tabbable": null,
       "tag": null,
       "tooltip": null,
       "v_model": "!!disabled!!",
       "v_on": null,
       "v_slots": [],
       "x_large": null,
       "x_small": null
      }
     },
     "3d79315f9a3b4dbfab7a8fb1dcc63b4f": {
      "model_module": "jupyter-vuetify",
      "model_module_version": "^1.9.4",
      "model_name": "VuetifyTemplateModel",
      "state": {
       "_component_instances": [],
       "_dom_classes": [],
       "_jupyter_vue": "IPY_MODEL_b1fb223d83bc43e2a4f5126091a99377",
       "_model_module": "jupyter-vuetify",
       "_model_module_version": "^1.9.4",
       "_model_name": "VuetifyTemplateModel",
       "_view_count": null,
       "_view_module": "jupyter-vuetify",
       "_view_module_version": "^1.9.4",
       "_view_name": "VuetifyView",
       "bytes": null,
       "children": [
        "IPY_MODEL_4646160ad1624af1a30c33338f3d3814"
       ],
       "components": null,
       "css": null,
       "data": null,
       "events": [],
       "filename": "proposals_dow.pdf",
       "layout": "IPY_MODEL_34a5566b81414fa0bb76e2d00803ef9d",
       "methods": null,
       "mime_type": "application/octet-stream",
       "request_download": false,
       "tabbable": null,
       "template": "IPY_MODEL_41ba204b68014e80a93fddbb8d08437d",
       "tooltip": null
      }
     },
     "41ba204b68014e80a93fddbb8d08437d": {
      "model_module": "jupyter-vue",
      "model_module_version": "^1.11.1",
      "model_name": "TemplateModel",
      "state": {
       "_model_module": "jupyter-vue",
       "_model_module_version": "^1.11.1",
       "_model_name": "TemplateModel",
       "_view_count": null,
       "_view_module": null,
       "_view_module_version": "",
       "_view_name": null,
       "template": "<template>\n    <div @click=\"request_download = true\" class=\"solara-file-download-container\">\n        <jupyter-widget v-for=\"child in children\" :key=\"child\" :widget=\"child\"></jupyter-widget>\n    </div>\n</template>\n\n<script>\nmodule.exports = {\n    watch: {\n        bytes(value) {\n            if (this.request_download) {\n                const a = document.createElement('a');\n                a.download = this.filename;\n                const blob = new Blob([this.bytes], { type: this.mime_type });\n                const blobUrl = window.URL.createObjectURL(blob);\n                a.href = blobUrl;\n                document.body.appendChild(a);\n                a.click();\n                document.body.removeChild(a);\n                setTimeout(() => {\n                    // Make sure we clean up\n                    window.URL.revokeObjectURL(blobUrl);\n                }, 1000);\n                this.request_download = false;\n            }\n        }\n    }\n}\n</script>\n\n<style id=\"solara-file-download\">\n.solara-file-download-container {\n    cursor: pointer;\n}\n</style>\n"
      }
     },
     "4646160ad1624af1a30c33338f3d3814": {
      "model_module": "jupyter-vuetify",
      "model_module_version": "^1.8.5",
      "model_name": "BtnModel",
      "state": {
       "_dom_classes": [],
       "_events": [
        "click"
       ],
       "_jupyter_vue": "IPY_MODEL_b1fb223d83bc43e2a4f5126091a99377",
       "_metadata": null,
       "_model_module": "jupyter-vuetify",
       "_model_module_version": "^1.8.5",
       "_model_name": "BtnModel",
       "_view_count": null,
       "_view_module": "jupyter-vuetify",
       "_view_module_version": "^1.8.5",
       "_view_name": "VuetifyView",
       "absolute": null,
       "active_class": null,
       "append": null,
       "attributes": {},
       "block": null,
       "bottom": null,
       "children": [
        "IPY_MODEL_0aa278c364804b8b835be8a73d543412",
        "Download: proposals_dow.pdf"
       ],
       "class_": "",
       "color": null,
       "dark": null,
       "depressed": null,
       "disabled": false,
       "elevation": null,
       "exact": null,
       "exact_active_class": null,
       "fab": null,
       "fixed": null,
       "height": null,
       "href": null,
       "icon": null,
       "input_value": null,
       "large": null,
       "layout": null,
       "left": null,
       "light": null,
       "link": null,
       "loading": false,
       "max_height": null,
       "max_width": null,
       "min_height": null,
       "min_width": null,
       "nuxt": null,
       "outlined": false,
       "replace": null,
       "retain_focus_on_click": null,
       "right": null,
       "ripple": null,
       "rounded": null,
       "slot": null,
       "small": null,
       "style_": "",
       "tabbable": null,
       "tag": null,
       "target": null,
       "text": false,
       "tile": null,
       "to": null,
       "tooltip": null,
       "top": null,
       "type": null,
       "v_model": "!!disabled!!",
       "v_on": null,
       "v_slots": [],
       "value": null,
       "width": null,
       "x_large": null,
       "x_small": null
      }
     },
     "471c995651264b97a2a05710fc0ddc1a": {
      "model_module": "jupyter-vuetify",
      "model_module_version": "^1.8.5",
      "model_name": "RowModel",
      "state": {
       "_dom_classes": [],
       "_events": [],
       "_jupyter_vue": "IPY_MODEL_b1fb223d83bc43e2a4f5126091a99377",
       "_metadata": null,
       "_model_module": "jupyter-vuetify",
       "_model_module_version": "^1.8.5",
       "_model_name": "RowModel",
       "_view_count": null,
       "_view_module": "jupyter-vuetify",
       "_view_module_version": "^1.8.5",
       "_view_name": "VuetifyView",
       "align": null,
       "align_content": null,
       "align_content_lg": null,
       "align_content_md": null,
       "align_content_sm": null,
       "align_content_xl": null,
       "align_lg": null,
       "align_md": null,
       "align_sm": null,
       "align_xl": null,
       "attributes": {},
       "children": [
        "IPY_MODEL_d0ccdfb4e5774183a295dd4293ffe064"
       ],
       "class_": "solara-content-main",
       "dense": null,
       "justify": null,
       "justify_lg": null,
       "justify_md": null,
       "justify_sm": null,
       "justify_xl": null,
       "layout": null,
       "no_gutters": false,
       "slot": null,
       "style_": null,
       "tabbable": null,
       "tag": null,
       "tooltip": null,
       "v_model": "!!disabled!!",
       "v_on": null,
       "v_slots": []
      }
     },
     "4b7492496ad74a4293a2f9cd5354a49a": {
      "model_module": "@jupyter-widgets/controls",
      "model_module_version": "2.0.0",
      "model_name": "VBoxModel",
      "state": {
       "_dom_classes": [],
       "_model_module": "@jupyter-widgets/controls",
       "_model_module_version": "2.0.0",
       "_model_name": "VBoxModel",
       "_view_count": 0,
       "_view_module": "@jupyter-widgets/controls",
       "_view_module_version": "2.0.0",
       "_view_name": "VBoxView",
       "box_style": "",
       "children": [
        "IPY_MODEL_fbf4f7f2c0d54283b1831be7504bac4b"
       ],
       "layout": "IPY_MODEL_d19257b47ce4435daffe4357277b28e2",
       "tabbable": null,
       "tooltip": null
      }
     },
     "500aae8b69cf4e10b91c8fcc951bc7b3": {
      "model_module": "@jupyter-widgets/base",
      "model_module_version": "2.0.0",
      "model_name": "LayoutModel",
      "state": {
       "_model_module": "@jupyter-widgets/base",
       "_model_module_version": "2.0.0",
       "_model_name": "LayoutModel",
       "_view_count": null,
       "_view_module": "@jupyter-widgets/base",
       "_view_module_version": "2.0.0",
       "_view_name": "LayoutView",
       "align_content": null,
       "align_items": null,
       "align_self": null,
       "border_bottom": null,
       "border_left": null,
       "border_right": null,
       "border_top": null,
       "bottom": null,
       "display": null,
       "flex": null,
       "flex_flow": null,
       "grid_area": null,
       "grid_auto_columns": null,
       "grid_auto_flow": null,
       "grid_auto_rows": null,
       "grid_column": null,
       "grid_gap": null,
       "grid_row": null,
       "grid_template_areas": null,
       "grid_template_columns": null,
       "grid_template_rows": null,
       "height": null,
       "justify_content": null,
       "justify_items": null,
       "left": null,
       "margin": null,
       "max_height": null,
       "max_width": null,
       "min_height": null,
       "min_width": null,
       "object_fit": null,
       "object_position": null,
       "order": null,
       "overflow": null,
       "padding": null,
       "right": null,
       "top": null,
       "visibility": null,
       "width": null
      }
     },
     "55761f5a4ecf4c229072ad87dc00220e": {
      "model_module": "jupyter-vuetify",
      "model_module_version": "^1.8.5",
      "model_name": "BtnModel",
      "state": {
       "_dom_classes": [],
       "_events": [
        "click"
       ],
       "_jupyter_vue": "IPY_MODEL_b1fb223d83bc43e2a4f5126091a99377",
       "_metadata": null,
       "_model_module": "jupyter-vuetify",
       "_model_module_version": "^1.8.5",
       "_model_name": "BtnModel",
       "_view_count": null,
       "_view_module": "jupyter-vuetify",
       "_view_module_version": "^1.8.5",
       "_view_name": "VuetifyView",
       "absolute": null,
       "active_class": null,
       "append": null,
       "attributes": {},
       "block": null,
       "bottom": null,
       "children": [
        "IPY_MODEL_a0a1a8de46214503bf966c2bf2407fb8",
        "Download: votes_in_time-color.pdf"
       ],
       "class_": "",
       "color": null,
       "dark": null,
       "depressed": null,
       "disabled": false,
       "elevation": null,
       "exact": null,
       "exact_active_class": null,
       "fab": null,
       "fixed": null,
       "height": null,
       "href": null,
       "icon": null,
       "input_value": null,
       "large": null,
       "layout": null,
       "left": null,
       "light": null,
       "link": null,
       "loading": false,
       "max_height": null,
       "max_width": null,
       "min_height": null,
       "min_width": null,
       "nuxt": null,
       "outlined": false,
       "replace": null,
       "retain_focus_on_click": null,
       "right": null,
       "ripple": null,
       "rounded": null,
       "slot": null,
       "small": null,
       "style_": "",
       "tabbable": null,
       "tag": null,
       "target": null,
       "text": false,
       "tile": null,
       "to": null,
       "tooltip": null,
       "top": null,
       "type": null,
       "v_model": "!!disabled!!",
       "v_on": null,
       "v_slots": [],
       "value": null,
       "width": null,
       "x_large": null,
       "x_small": null
      }
     },
     "5bbd06d7e029425594ab056a53c6f133": {
      "model_module": "@jupyter-widgets/base",
      "model_module_version": "2.0.0",
      "model_name": "LayoutModel",
      "state": {
       "_model_module": "@jupyter-widgets/base",
       "_model_module_version": "2.0.0",
       "_model_name": "LayoutModel",
       "_view_count": null,
       "_view_module": "@jupyter-widgets/base",
       "_view_module_version": "2.0.0",
       "_view_name": "LayoutView",
       "align_content": null,
       "align_items": null,
       "align_self": null,
       "border_bottom": null,
       "border_left": null,
       "border_right": null,
       "border_top": null,
       "bottom": null,
       "display": null,
       "flex": null,
       "flex_flow": null,
       "grid_area": null,
       "grid_auto_columns": null,
       "grid_auto_flow": null,
       "grid_auto_rows": null,
       "grid_column": null,
       "grid_gap": null,
       "grid_row": null,
       "grid_template_areas": null,
       "grid_template_columns": null,
       "grid_template_rows": null,
       "height": null,
       "justify_content": null,
       "justify_items": null,
       "left": null,
       "margin": null,
       "max_height": null,
       "max_width": null,
       "min_height": null,
       "min_width": null,
       "object_fit": null,
       "object_position": null,
       "order": null,
       "overflow": null,
       "padding": null,
       "right": null,
       "top": null,
       "visibility": null,
       "width": null
      }
     },
     "62b2c46cca88419c8f6c377ed49ba937": {
      "model_module": "jupyter-vuetify",
      "model_module_version": "^1.9.4",
      "model_name": "HtmlModel",
      "state": {
       "_dom_classes": [],
       "_events": [],
       "_jupyter_vue": "IPY_MODEL_b1fb223d83bc43e2a4f5126091a99377",
       "_model_module": "jupyter-vuetify",
       "_model_module_version": "^1.9.4",
       "_model_name": "HtmlModel",
       "_view_count": null,
       "_view_module": "jupyter-vuetify",
       "_view_module_version": "^1.9.4",
       "_view_name": "VuetifyView",
       "attributes": {},
       "children": [
        "IPY_MODEL_92f3ba60794549d7bfacd1ce8de500d5"
       ],
       "class_": null,
       "layout": null,
       "slot": null,
       "style_": null,
       "tabbable": null,
       "tag": "div",
       "tooltip": null,
       "v_model": "!!disabled!!",
       "v_on": null,
       "v_slots": []
      }
     },
     "65e9158bed6c47aabe5754fa0912e7e0": {
      "model_module": "jupyter-vuetify",
      "model_module_version": "^1.8.5",
      "model_name": "BtnModel",
      "state": {
       "_dom_classes": [],
       "_events": [
        "click"
       ],
       "_jupyter_vue": "IPY_MODEL_b1fb223d83bc43e2a4f5126091a99377",
       "_metadata": null,
       "_model_module": "jupyter-vuetify",
       "_model_module_version": "^1.8.5",
       "_model_name": "BtnModel",
       "_view_count": null,
       "_view_module": "jupyter-vuetify",
       "_view_module_version": "^1.8.5",
       "_view_name": "VuetifyView",
       "absolute": null,
       "active_class": null,
       "append": null,
       "attributes": {},
       "block": null,
       "bottom": null,
       "children": [
        "IPY_MODEL_354d75ce5c844b8793b6b01e11330957",
        "Download: ecdf-vpv.pdf"
       ],
       "class_": "",
       "color": null,
       "dark": null,
       "depressed": null,
       "disabled": false,
       "elevation": null,
       "exact": null,
       "exact_active_class": null,
       "fab": null,
       "fixed": null,
       "height": null,
       "href": null,
       "icon": null,
       "input_value": null,
       "large": null,
       "layout": null,
       "left": null,
       "light": null,
       "link": null,
       "loading": false,
       "max_height": null,
       "max_width": null,
       "min_height": null,
       "min_width": null,
       "nuxt": null,
       "outlined": false,
       "replace": null,
       "retain_focus_on_click": null,
       "right": null,
       "ripple": null,
       "rounded": null,
       "slot": null,
       "small": null,
       "style_": "",
       "tabbable": null,
       "tag": null,
       "target": null,
       "text": false,
       "tile": null,
       "to": null,
       "tooltip": null,
       "top": null,
       "type": null,
       "v_model": "!!disabled!!",
       "v_on": null,
       "v_slots": [],
       "value": null,
       "width": null,
       "x_large": null,
       "x_small": null
      }
     },
     "742e5a416cc14c209ee8fb698fb498d5": {
      "model_module": "jupyter-vuetify",
      "model_module_version": "^1.8.5",
      "model_name": "RowModel",
      "state": {
       "_dom_classes": [],
       "_events": [],
       "_jupyter_vue": "IPY_MODEL_b1fb223d83bc43e2a4f5126091a99377",
       "_metadata": null,
       "_model_module": "jupyter-vuetify",
       "_model_module_version": "^1.8.5",
       "_model_name": "RowModel",
       "_view_count": null,
       "_view_module": "jupyter-vuetify",
       "_view_module_version": "^1.8.5",
       "_view_name": "VuetifyView",
       "align": null,
       "align_content": null,
       "align_content_lg": null,
       "align_content_md": null,
       "align_content_sm": null,
       "align_content_xl": null,
       "align_lg": null,
       "align_md": null,
       "align_sm": null,
       "align_xl": null,
       "attributes": {},
       "children": [
        "IPY_MODEL_81f5b4a82e72479bbb11eba4a9e6efab"
       ],
       "class_": "solara-content-main",
       "dense": null,
       "justify": null,
       "justify_lg": null,
       "justify_md": null,
       "justify_sm": null,
       "justify_xl": null,
       "layout": null,
       "no_gutters": false,
       "slot": null,
       "style_": null,
       "tabbable": null,
       "tag": null,
       "tooltip": null,
       "v_model": "!!disabled!!",
       "v_on": null,
       "v_slots": []
      }
     },
     "7c8debfa5aae401ba921138899f3b4b5": {
      "model_module": "@jupyter-widgets/base",
      "model_module_version": "2.0.0",
      "model_name": "LayoutModel",
      "state": {
       "_model_module": "@jupyter-widgets/base",
       "_model_module_version": "2.0.0",
       "_model_name": "LayoutModel",
       "_view_count": null,
       "_view_module": "@jupyter-widgets/base",
       "_view_module_version": "2.0.0",
       "_view_name": "LayoutView",
       "align_content": null,
       "align_items": null,
       "align_self": null,
       "border_bottom": null,
       "border_left": null,
       "border_right": null,
       "border_top": null,
       "bottom": null,
       "display": null,
       "flex": null,
       "flex_flow": null,
       "grid_area": null,
       "grid_auto_columns": null,
       "grid_auto_flow": null,
       "grid_auto_rows": null,
       "grid_column": null,
       "grid_gap": null,
       "grid_row": null,
       "grid_template_areas": null,
       "grid_template_columns": null,
       "grid_template_rows": null,
       "height": null,
       "justify_content": null,
       "justify_items": null,
       "left": null,
       "margin": null,
       "max_height": null,
       "max_width": null,
       "min_height": null,
       "min_width": null,
       "object_fit": null,
       "object_position": null,
       "order": null,
       "overflow": null,
       "padding": null,
       "right": null,
       "top": null,
       "visibility": null,
       "width": null
      }
     },
     "7e126b71b4264c42af300f60163b6fb2": {
      "model_module": "jupyter-vuetify",
      "model_module_version": "^1.8.5",
      "model_name": "ColModel",
      "state": {
       "_dom_classes": [],
       "_events": [],
       "_jupyter_vue": "IPY_MODEL_b1fb223d83bc43e2a4f5126091a99377",
       "_metadata": null,
       "_model_module": "jupyter-vuetify",
       "_model_module_version": "^1.8.5",
       "_model_name": "ColModel",
       "_view_count": null,
       "_view_module": "jupyter-vuetify",
       "_view_module_version": "^1.8.5",
       "_view_name": "VuetifyView",
       "align_self": null,
       "attributes": {},
       "children": [
        "IPY_MODEL_1dd4b0663b2345e182cde887163ff09d"
       ],
       "class_": null,
       "cols": 12.0,
       "layout": null,
       "lg": null,
       "md": null,
       "offset": null,
       "offset_lg": null,
       "offset_md": null,
       "offset_sm": null,
       "offset_xl": null,
       "order": null,
       "order_lg": null,
       "order_md": null,
       "order_sm": null,
       "order_xl": null,
       "slot": null,
       "sm": null,
       "style_": null,
       "tabbable": null,
       "tag": null,
       "tooltip": null,
       "v_model": "!!disabled!!",
       "v_on": null,
       "v_slots": [],
       "xl": null
      }
     },
     "81f5b4a82e72479bbb11eba4a9e6efab": {
      "model_module": "jupyter-vuetify",
      "model_module_version": "^1.8.5",
      "model_name": "ColModel",
      "state": {
       "_dom_classes": [],
       "_events": [],
       "_jupyter_vue": "IPY_MODEL_b1fb223d83bc43e2a4f5126091a99377",
       "_metadata": null,
       "_model_module": "jupyter-vuetify",
       "_model_module_version": "^1.8.5",
       "_model_name": "ColModel",
       "_view_count": null,
       "_view_module": "jupyter-vuetify",
       "_view_module_version": "^1.8.5",
       "_view_name": "VuetifyView",
       "align_self": null,
       "attributes": {},
       "children": [
        "IPY_MODEL_280210fb0a6d48518a08d71f8c5c0889"
       ],
       "class_": null,
       "cols": 12.0,
       "layout": null,
       "lg": null,
       "md": null,
       "offset": null,
       "offset_lg": null,
       "offset_md": null,
       "offset_sm": null,
       "offset_xl": null,
       "order": null,
       "order_lg": null,
       "order_md": null,
       "order_sm": null,
       "order_xl": null,
       "slot": null,
       "sm": null,
       "style_": null,
       "tabbable": null,
       "tag": null,
       "tooltip": null,
       "v_model": "!!disabled!!",
       "v_on": null,
       "v_slots": [],
       "xl": null
      }
     },
     "8a7a85a9a1194f37bfbf074958a624f0": {
      "model_module": "jupyter-vuetify",
      "model_module_version": "^1.9.4",
      "model_name": "HtmlModel",
      "state": {
       "_dom_classes": [],
       "_events": [],
       "_jupyter_vue": "IPY_MODEL_b1fb223d83bc43e2a4f5126091a99377",
       "_model_module": "jupyter-vuetify",
       "_model_module_version": "^1.9.4",
       "_model_name": "HtmlModel",
       "_view_count": null,
       "_view_module": "jupyter-vuetify",
       "_view_module_version": "^1.9.4",
       "_view_name": "VuetifyView",
       "attributes": {},
       "children": [
        "IPY_MODEL_471c995651264b97a2a05710fc0ddc1a"
       ],
       "class_": null,
       "layout": null,
       "slot": null,
       "style_": null,
       "tabbable": null,
       "tag": "div",
       "tooltip": null,
       "v_model": "!!disabled!!",
       "v_on": null,
       "v_slots": []
      }
     },
     "91154f2a0b4d4b029cd6553fb83d0317": {
      "model_module": "jupyter-vuetify",
      "model_module_version": "^1.9.4",
      "model_name": "ThemeColorsModel",
      "state": {
       "_model_module": "jupyter-vuetify",
       "_model_module_version": "^1.9.4",
       "_model_name": "ThemeColorsModel",
       "_theme_name": "dark",
       "_view_count": null,
       "_view_module": null,
       "_view_module_version": "^1.9.4",
       "_view_name": null,
       "accent": "#FF4081",
       "anchor": null,
       "error": "#FF5252",
       "info": "#2196F3",
       "primary": "#2196F3",
       "secondary": "#424242",
       "success": "#4CAF50",
       "warning": "#FB8C00"
      }
     },
     "92f3ba60794549d7bfacd1ce8de500d5": {
      "model_module": "jupyter-vuetify",
      "model_module_version": "^1.8.5",
      "model_name": "RowModel",
      "state": {
       "_dom_classes": [],
       "_events": [],
       "_jupyter_vue": "IPY_MODEL_b1fb223d83bc43e2a4f5126091a99377",
       "_metadata": null,
       "_model_module": "jupyter-vuetify",
       "_model_module_version": "^1.8.5",
       "_model_name": "RowModel",
       "_view_count": null,
       "_view_module": "jupyter-vuetify",
       "_view_module_version": "^1.8.5",
       "_view_name": "VuetifyView",
       "align": null,
       "align_content": null,
       "align_content_lg": null,
       "align_content_md": null,
       "align_content_sm": null,
       "align_content_xl": null,
       "align_lg": null,
       "align_md": null,
       "align_sm": null,
       "align_xl": null,
       "attributes": {},
       "children": [
        "IPY_MODEL_7e126b71b4264c42af300f60163b6fb2"
       ],
       "class_": "solara-content-main",
       "dense": null,
       "justify": null,
       "justify_lg": null,
       "justify_md": null,
       "justify_sm": null,
       "justify_xl": null,
       "layout": null,
       "no_gutters": false,
       "slot": null,
       "style_": null,
       "tabbable": null,
       "tag": null,
       "tooltip": null,
       "v_model": "!!disabled!!",
       "v_on": null,
       "v_slots": []
      }
     },
     "93c4aaaf5e5149c8b538fcaf9f3cd296": {
      "model_module": "jupyter-vuetify",
      "model_module_version": "^1.8.5",
      "model_name": "IconModel",
      "state": {
       "_dom_classes": [],
       "_events": [],
       "_jupyter_vue": "IPY_MODEL_b1fb223d83bc43e2a4f5126091a99377",
       "_metadata": null,
       "_model_module": "jupyter-vuetify",
       "_model_module_version": "^1.8.5",
       "_model_name": "IconModel",
       "_view_count": null,
       "_view_module": "jupyter-vuetify",
       "_view_module_version": "^1.8.5",
       "_view_name": "VuetifyView",
       "attributes": {},
       "children": [
        "mdi-cloud-download-outline"
       ],
       "class_": null,
       "color": null,
       "dark": null,
       "dense": null,
       "disabled": null,
       "large": null,
       "layout": null,
       "left": true,
       "light": null,
       "right": null,
       "size": null,
       "slot": null,
       "small": null,
       "style_": null,
       "tabbable": null,
       "tag": null,
       "tooltip": null,
       "v_model": "!!disabled!!",
       "v_on": null,
       "v_slots": [],
       "x_large": null,
       "x_small": null
      }
     },
     "9d3d300000e24794809bd5e970fd7bc3": {
      "model_module": "jupyter-vuetify",
      "model_module_version": "^1.8.5",
      "model_name": "RowModel",
      "state": {
       "_dom_classes": [],
       "_events": [],
       "_jupyter_vue": "IPY_MODEL_b1fb223d83bc43e2a4f5126091a99377",
       "_metadata": null,
       "_model_module": "jupyter-vuetify",
       "_model_module_version": "^1.8.5",
       "_model_name": "RowModel",
       "_view_count": null,
       "_view_module": "jupyter-vuetify",
       "_view_module_version": "^1.8.5",
       "_view_name": "VuetifyView",
       "align": null,
       "align_content": null,
       "align_content_lg": null,
       "align_content_md": null,
       "align_content_sm": null,
       "align_content_xl": null,
       "align_lg": null,
       "align_md": null,
       "align_sm": null,
       "align_xl": null,
       "attributes": {},
       "children": [
        "IPY_MODEL_1539d1f3740a47dc93164b89ca001828"
       ],
       "class_": "solara-content-main",
       "dense": null,
       "justify": null,
       "justify_lg": null,
       "justify_md": null,
       "justify_sm": null,
       "justify_xl": null,
       "layout": null,
       "no_gutters": false,
       "slot": null,
       "style_": null,
       "tabbable": null,
       "tag": null,
       "tooltip": null,
       "v_model": "!!disabled!!",
       "v_on": null,
       "v_slots": []
      }
     },
     "9ded63f401a94ad0a4a8cb89e486c069": {
      "model_module": "@jupyter-widgets/base",
      "model_module_version": "2.0.0",
      "model_name": "LayoutModel",
      "state": {
       "_model_module": "@jupyter-widgets/base",
       "_model_module_version": "2.0.0",
       "_model_name": "LayoutModel",
       "_view_count": null,
       "_view_module": "@jupyter-widgets/base",
       "_view_module_version": "2.0.0",
       "_view_name": "LayoutView",
       "align_content": null,
       "align_items": null,
       "align_self": null,
       "border_bottom": null,
       "border_left": null,
       "border_right": null,
       "border_top": null,
       "bottom": null,
       "display": null,
       "flex": null,
       "flex_flow": null,
       "grid_area": null,
       "grid_auto_columns": null,
       "grid_auto_flow": null,
       "grid_auto_rows": null,
       "grid_column": null,
       "grid_gap": null,
       "grid_row": null,
       "grid_template_areas": null,
       "grid_template_columns": null,
       "grid_template_rows": null,
       "height": null,
       "justify_content": null,
       "justify_items": null,
       "left": null,
       "margin": null,
       "max_height": null,
       "max_width": null,
       "min_height": null,
       "min_width": null,
       "object_fit": null,
       "object_position": null,
       "order": null,
       "overflow": null,
       "padding": null,
       "right": null,
       "top": null,
       "visibility": null,
       "width": null
      }
     },
     "a0a1a8de46214503bf966c2bf2407fb8": {
      "model_module": "jupyter-vuetify",
      "model_module_version": "^1.8.5",
      "model_name": "IconModel",
      "state": {
       "_dom_classes": [],
       "_events": [],
       "_jupyter_vue": "IPY_MODEL_b1fb223d83bc43e2a4f5126091a99377",
       "_metadata": null,
       "_model_module": "jupyter-vuetify",
       "_model_module_version": "^1.8.5",
       "_model_name": "IconModel",
       "_view_count": null,
       "_view_module": "jupyter-vuetify",
       "_view_module_version": "^1.8.5",
       "_view_name": "VuetifyView",
       "attributes": {},
       "children": [
        "mdi-cloud-download-outline"
       ],
       "class_": null,
       "color": null,
       "dark": null,
       "dense": null,
       "disabled": null,
       "large": null,
       "layout": null,
       "left": true,
       "light": null,
       "right": null,
       "size": null,
       "slot": null,
       "small": null,
       "style_": null,
       "tabbable": null,
       "tag": null,
       "tooltip": null,
       "v_model": "!!disabled!!",
       "v_on": null,
       "v_slots": [],
       "x_large": null,
       "x_small": null
      }
     },
     "a218a99f16794c5aa7f395b0b8e63274": {
      "model_module": "@jupyter-widgets/base",
      "model_module_version": "2.0.0",
      "model_name": "LayoutModel",
      "state": {
       "_model_module": "@jupyter-widgets/base",
       "_model_module_version": "2.0.0",
       "_model_name": "LayoutModel",
       "_view_count": null,
       "_view_module": "@jupyter-widgets/base",
       "_view_module_version": "2.0.0",
       "_view_name": "LayoutView",
       "align_content": null,
       "align_items": null,
       "align_self": null,
       "border_bottom": null,
       "border_left": null,
       "border_right": null,
       "border_top": null,
       "bottom": null,
       "display": null,
       "flex": null,
       "flex_flow": null,
       "grid_area": null,
       "grid_auto_columns": null,
       "grid_auto_flow": null,
       "grid_auto_rows": null,
       "grid_column": null,
       "grid_gap": null,
       "grid_row": null,
       "grid_template_areas": null,
       "grid_template_columns": null,
       "grid_template_rows": null,
       "height": null,
       "justify_content": null,
       "justify_items": null,
       "left": null,
       "margin": null,
       "max_height": null,
       "max_width": null,
       "min_height": null,
       "min_width": null,
       "object_fit": null,
       "object_position": null,
       "order": null,
       "overflow": null,
       "padding": null,
       "right": null,
       "top": null,
       "visibility": null,
       "width": null
      }
     },
     "a316972f07b2427cb7e53dc7330df9ac": {
      "model_module": "@jupyter-widgets/base",
      "model_module_version": "2.0.0",
      "model_name": "LayoutModel",
      "state": {
       "_model_module": "@jupyter-widgets/base",
       "_model_module_version": "2.0.0",
       "_model_name": "LayoutModel",
       "_view_count": null,
       "_view_module": "@jupyter-widgets/base",
       "_view_module_version": "2.0.0",
       "_view_name": "LayoutView",
       "align_content": null,
       "align_items": null,
       "align_self": null,
       "border_bottom": null,
       "border_left": null,
       "border_right": null,
       "border_top": null,
       "bottom": null,
       "display": null,
       "flex": null,
       "flex_flow": null,
       "grid_area": null,
       "grid_auto_columns": null,
       "grid_auto_flow": null,
       "grid_auto_rows": null,
       "grid_column": null,
       "grid_gap": null,
       "grid_row": null,
       "grid_template_areas": null,
       "grid_template_columns": null,
       "grid_template_rows": null,
       "height": null,
       "justify_content": null,
       "justify_items": null,
       "left": null,
       "margin": null,
       "max_height": null,
       "max_width": null,
       "min_height": null,
       "min_width": null,
       "object_fit": null,
       "object_position": null,
       "order": null,
       "overflow": null,
       "padding": null,
       "right": null,
       "top": null,
       "visibility": null,
       "width": null
      }
     },
     "a7f032f5f21748e5b72e61e9b2a3b466": {
      "model_module": "jupyter-vuetify",
      "model_module_version": "^1.9.4",
      "model_name": "ThemeModel",
      "state": {
       "_model_module": "jupyter-vuetify",
       "_model_module_version": "^1.9.4",
       "_model_name": "ThemeModel",
       "_view_count": null,
       "_view_module": null,
       "_view_module_version": "^1.9.4",
       "_view_name": null,
       "dark": null,
       "dark_effective": null
      }
     },
     "b1fb223d83bc43e2a4f5126091a99377": {
      "model_module": "jupyter-vue",
      "model_module_version": "^1.11.1",
      "model_name": "ForceLoadModel",
      "state": {
       "_dom_classes": [],
       "_model_module": "jupyter-vue",
       "_model_module_version": "^1.11.1",
       "_model_name": "ForceLoadModel",
       "_view_count": null,
       "_view_module": null,
       "_view_module_version": "",
       "_view_name": null,
       "layout": "IPY_MODEL_0dcaaf56d56a42ae94d1385163c9ae28",
       "tabbable": null,
       "tooltip": null
      }
     },
     "c3dbd97341e14adea2e624819a4df616": {
      "model_module": "jupyter-vuetify",
      "model_module_version": "^1.8.5",
      "model_name": "IconModel",
      "state": {
       "_dom_classes": [],
       "_events": [],
       "_jupyter_vue": "IPY_MODEL_b1fb223d83bc43e2a4f5126091a99377",
       "_metadata": null,
       "_model_module": "jupyter-vuetify",
       "_model_module_version": "^1.8.5",
       "_model_name": "IconModel",
       "_view_count": null,
       "_view_module": "jupyter-vuetify",
       "_view_module_version": "^1.8.5",
       "_view_name": "VuetifyView",
       "attributes": {},
       "children": [
        "mdi-cloud-download-outline"
       ],
       "class_": null,
       "color": null,
       "dark": null,
       "dense": null,
       "disabled": null,
       "large": null,
       "layout": null,
       "left": true,
       "light": null,
       "right": null,
       "size": null,
       "slot": null,
       "small": null,
       "style_": null,
       "tabbable": null,
       "tag": null,
       "tooltip": null,
       "v_model": "!!disabled!!",
       "v_on": null,
       "v_slots": [],
       "x_large": null,
       "x_small": null
      }
     },
     "c6f3268f078549768f82e12ae9449afc": {
      "model_module": "jupyter-vuetify",
      "model_module_version": "^1.8.5",
      "model_name": "ColModel",
      "state": {
       "_dom_classes": [],
       "_events": [],
       "_jupyter_vue": "IPY_MODEL_b1fb223d83bc43e2a4f5126091a99377",
       "_metadata": null,
       "_model_module": "jupyter-vuetify",
       "_model_module_version": "^1.8.5",
       "_model_name": "ColModel",
       "_view_count": null,
       "_view_module": "jupyter-vuetify",
       "_view_module_version": "^1.8.5",
       "_view_name": "VuetifyView",
       "align_self": null,
       "attributes": {},
       "children": [
        "IPY_MODEL_ed2c73741b824553be7c95e66bc69d21"
       ],
       "class_": null,
       "cols": 12.0,
       "layout": null,
       "lg": null,
       "md": null,
       "offset": null,
       "offset_lg": null,
       "offset_md": null,
       "offset_sm": null,
       "offset_xl": null,
       "order": null,
       "order_lg": null,
       "order_md": null,
       "order_sm": null,
       "order_xl": null,
       "slot": null,
       "sm": null,
       "style_": null,
       "tabbable": null,
       "tag": null,
       "tooltip": null,
       "v_model": "!!disabled!!",
       "v_on": null,
       "v_slots": [],
       "xl": null
      }
     },
     "d0ccdfb4e5774183a295dd4293ffe064": {
      "model_module": "jupyter-vuetify",
      "model_module_version": "^1.8.5",
      "model_name": "ColModel",
      "state": {
       "_dom_classes": [],
       "_events": [],
       "_jupyter_vue": "IPY_MODEL_b1fb223d83bc43e2a4f5126091a99377",
       "_metadata": null,
       "_model_module": "jupyter-vuetify",
       "_model_module_version": "^1.8.5",
       "_model_name": "ColModel",
       "_view_count": null,
       "_view_module": "jupyter-vuetify",
       "_view_module_version": "^1.8.5",
       "_view_name": "VuetifyView",
       "align_self": null,
       "attributes": {},
       "children": [
        "IPY_MODEL_2fde0d155f8744e280b6b000b4f60e0c"
       ],
       "class_": null,
       "cols": 12.0,
       "layout": null,
       "lg": null,
       "md": null,
       "offset": null,
       "offset_lg": null,
       "offset_md": null,
       "offset_sm": null,
       "offset_xl": null,
       "order": null,
       "order_lg": null,
       "order_md": null,
       "order_sm": null,
       "order_xl": null,
       "slot": null,
       "sm": null,
       "style_": null,
       "tabbable": null,
       "tag": null,
       "tooltip": null,
       "v_model": "!!disabled!!",
       "v_on": null,
       "v_slots": [],
       "xl": null
      }
     },
     "d19257b47ce4435daffe4357277b28e2": {
      "model_module": "@jupyter-widgets/base",
      "model_module_version": "2.0.0",
      "model_name": "LayoutModel",
      "state": {
       "_model_module": "@jupyter-widgets/base",
       "_model_module_version": "2.0.0",
       "_model_name": "LayoutModel",
       "_view_count": null,
       "_view_module": "@jupyter-widgets/base",
       "_view_module_version": "2.0.0",
       "_view_name": "LayoutView",
       "align_content": null,
       "align_items": null,
       "align_self": null,
       "border_bottom": null,
       "border_left": null,
       "border_right": null,
       "border_top": null,
       "bottom": null,
       "display": null,
       "flex": null,
       "flex_flow": null,
       "grid_area": null,
       "grid_auto_columns": null,
       "grid_auto_flow": null,
       "grid_auto_rows": null,
       "grid_column": null,
       "grid_gap": null,
       "grid_row": null,
       "grid_template_areas": null,
       "grid_template_columns": null,
       "grid_template_rows": null,
       "height": null,
       "justify_content": null,
       "justify_items": null,
       "left": null,
       "margin": null,
       "max_height": null,
       "max_width": null,
       "min_height": null,
       "min_width": null,
       "object_fit": null,
       "object_position": null,
       "order": null,
       "overflow": null,
       "padding": null,
       "right": null,
       "top": null,
       "visibility": null,
       "width": null
      }
     },
     "d3674d8e56314dd0baf3a0eff7aaa7cd": {
      "model_module": "jupyter-vuetify",
      "model_module_version": "^1.8.5",
      "model_name": "BtnModel",
      "state": {
       "_dom_classes": [],
       "_events": [
        "click"
       ],
       "_jupyter_vue": "IPY_MODEL_b1fb223d83bc43e2a4f5126091a99377",
       "_metadata": null,
       "_model_module": "jupyter-vuetify",
       "_model_module_version": "^1.8.5",
       "_model_name": "BtnModel",
       "_view_count": null,
       "_view_module": "jupyter-vuetify",
       "_view_module_version": "^1.8.5",
       "_view_name": "VuetifyView",
       "absolute": null,
       "active_class": null,
       "append": null,
       "attributes": {},
       "block": null,
       "bottom": null,
       "children": [
        "IPY_MODEL_c3dbd97341e14adea2e624819a4df616",
        "Download: ecdf-vpp.pdf"
       ],
       "class_": "",
       "color": null,
       "dark": null,
       "depressed": null,
       "disabled": false,
       "elevation": null,
       "exact": null,
       "exact_active_class": null,
       "fab": null,
       "fixed": null,
       "height": null,
       "href": null,
       "icon": null,
       "input_value": null,
       "large": null,
       "layout": null,
       "left": null,
       "light": null,
       "link": null,
       "loading": false,
       "max_height": null,
       "max_width": null,
       "min_height": null,
       "min_width": null,
       "nuxt": null,
       "outlined": false,
       "replace": null,
       "retain_focus_on_click": null,
       "right": null,
       "ripple": null,
       "rounded": null,
       "slot": null,
       "small": null,
       "style_": "",
       "tabbable": null,
       "tag": null,
       "target": null,
       "text": false,
       "tile": null,
       "to": null,
       "tooltip": null,
       "top": null,
       "type": null,
       "v_model": "!!disabled!!",
       "v_on": null,
       "v_slots": [],
       "value": null,
       "width": null,
       "x_large": null,
       "x_small": null
      }
     },
     "d9f1c07f044a43f59eeb41363aec0e96": {
      "model_module": "@jupyter-widgets/controls",
      "model_module_version": "2.0.0",
      "model_name": "VBoxModel",
      "state": {
       "_dom_classes": [],
       "_model_module": "@jupyter-widgets/controls",
       "_model_module_version": "2.0.0",
       "_model_name": "VBoxModel",
       "_view_count": 0,
       "_view_module": "@jupyter-widgets/controls",
       "_view_module_version": "2.0.0",
       "_view_name": "VBoxView",
       "box_style": "",
       "children": [
        "IPY_MODEL_62b2c46cca88419c8f6c377ed49ba937"
       ],
       "layout": "IPY_MODEL_32be819530c743f6912a4b2e40866d89",
       "tabbable": null,
       "tooltip": null
      }
     },
     "ed2c73741b824553be7c95e66bc69d21": {
      "model_module": "jupyter-vuetify",
      "model_module_version": "^1.9.4",
      "model_name": "VuetifyTemplateModel",
      "state": {
       "_component_instances": [],
       "_dom_classes": [],
       "_jupyter_vue": "IPY_MODEL_b1fb223d83bc43e2a4f5126091a99377",
       "_model_module": "jupyter-vuetify",
       "_model_module_version": "^1.9.4",
       "_model_name": "VuetifyTemplateModel",
       "_view_count": null,
       "_view_module": "jupyter-vuetify",
       "_view_module_version": "^1.9.4",
       "_view_name": "VuetifyView",
       "bytes": null,
       "children": [
        "IPY_MODEL_55761f5a4ecf4c229072ad87dc00220e"
       ],
       "components": null,
       "css": null,
       "data": null,
       "events": [],
       "filename": "votes_in_time-color.pdf",
       "layout": "IPY_MODEL_7c8debfa5aae401ba921138899f3b4b5",
       "methods": null,
       "mime_type": "application/octet-stream",
       "request_download": false,
       "tabbable": null,
       "template": "IPY_MODEL_41ba204b68014e80a93fddbb8d08437d",
       "tooltip": null
      }
     },
     "ed55453d2fa348f09ae584884f97dc06": {
      "model_module": "jupyter-vuetify",
      "model_module_version": "^1.8.5",
      "model_name": "BtnModel",
      "state": {
       "_dom_classes": [],
       "_events": [
        "click"
       ],
       "_jupyter_vue": "IPY_MODEL_b1fb223d83bc43e2a4f5126091a99377",
       "_metadata": null,
       "_model_module": "jupyter-vuetify",
       "_model_module_version": "^1.8.5",
       "_model_name": "BtnModel",
       "_view_count": null,
       "_view_module": "jupyter-vuetify",
       "_view_module_version": "^1.8.5",
       "_view_name": "VuetifyView",
       "absolute": null,
       "active_class": null,
       "append": null,
       "attributes": {},
       "block": null,
       "bottom": null,
       "children": [
        "IPY_MODEL_93c4aaaf5e5149c8b538fcaf9f3cd296",
        "Download: votes_dow.pdf"
       ],
       "class_": "",
       "color": null,
       "dark": null,
       "depressed": null,
       "disabled": false,
       "elevation": null,
       "exact": null,
       "exact_active_class": null,
       "fab": null,
       "fixed": null,
       "height": null,
       "href": null,
       "icon": null,
       "input_value": null,
       "large": null,
       "layout": null,
       "left": null,
       "light": null,
       "link": null,
       "loading": false,
       "max_height": null,
       "max_width": null,
       "min_height": null,
       "min_width": null,
       "nuxt": null,
       "outlined": false,
       "replace": null,
       "retain_focus_on_click": null,
       "right": null,
       "ripple": null,
       "rounded": null,
       "slot": null,
       "small": null,
       "style_": "",
       "tabbable": null,
       "tag": null,
       "target": null,
       "text": false,
       "tile": null,
       "to": null,
       "tooltip": null,
       "top": null,
       "type": null,
       "v_model": "!!disabled!!",
       "v_on": null,
       "v_slots": [],
       "value": null,
       "width": null,
       "x_large": null,
       "x_small": null
      }
     },
     "f3802d457d9d411f8050e497e6c8d399": {
      "model_module": "jupyter-vuetify",
      "model_module_version": "^1.8.5",
      "model_name": "RowModel",
      "state": {
       "_dom_classes": [],
       "_events": [],
       "_jupyter_vue": "IPY_MODEL_b1fb223d83bc43e2a4f5126091a99377",
       "_metadata": null,
       "_model_module": "jupyter-vuetify",
       "_model_module_version": "^1.8.5",
       "_model_name": "RowModel",
       "_view_count": null,
       "_view_module": "jupyter-vuetify",
       "_view_module_version": "^1.8.5",
       "_view_name": "VuetifyView",
       "align": null,
       "align_content": null,
       "align_content_lg": null,
       "align_content_md": null,
       "align_content_sm": null,
       "align_content_xl": null,
       "align_lg": null,
       "align_md": null,
       "align_sm": null,
       "align_xl": null,
       "attributes": {},
       "children": [
        "IPY_MODEL_c6f3268f078549768f82e12ae9449afc"
       ],
       "class_": "solara-content-main",
       "dense": null,
       "justify": null,
       "justify_lg": null,
       "justify_md": null,
       "justify_sm": null,
       "justify_xl": null,
       "layout": null,
       "no_gutters": false,
       "slot": null,
       "style_": null,
       "tabbable": null,
       "tag": null,
       "tooltip": null,
       "v_model": "!!disabled!!",
       "v_on": null,
       "v_slots": []
      }
     },
     "f443e2b10198405781dc0628d554d504": {
      "model_module": "jupyter-vuetify",
      "model_module_version": "^1.9.4",
      "model_name": "HtmlModel",
      "state": {
       "_dom_classes": [],
       "_events": [],
       "_jupyter_vue": "IPY_MODEL_b1fb223d83bc43e2a4f5126091a99377",
       "_model_module": "jupyter-vuetify",
       "_model_module_version": "^1.9.4",
       "_model_name": "HtmlModel",
       "_view_count": null,
       "_view_module": "jupyter-vuetify",
       "_view_module_version": "^1.9.4",
       "_view_name": "VuetifyView",
       "attributes": {},
       "children": [
        "IPY_MODEL_9d3d300000e24794809bd5e970fd7bc3"
       ],
       "class_": null,
       "layout": null,
       "slot": null,
       "style_": null,
       "tabbable": null,
       "tag": "div",
       "tooltip": null,
       "v_model": "!!disabled!!",
       "v_on": null,
       "v_slots": []
      }
     },
     "f6af6af4e21c4d02ae615b873373b7bc": {
      "model_module": "@jupyter-widgets/controls",
      "model_module_version": "2.0.0",
      "model_name": "VBoxModel",
      "state": {
       "_dom_classes": [],
       "_model_module": "@jupyter-widgets/controls",
       "_model_module_version": "2.0.0",
       "_model_name": "VBoxModel",
       "_view_count": 0,
       "_view_module": "@jupyter-widgets/controls",
       "_view_module_version": "2.0.0",
       "_view_name": "VBoxView",
       "box_style": "",
       "children": [
        "IPY_MODEL_8a7a85a9a1194f37bfbf074958a624f0"
       ],
       "layout": "IPY_MODEL_500aae8b69cf4e10b91c8fcc951bc7b3",
       "tabbable": null,
       "tooltip": null
      }
     },
     "fbf4f7f2c0d54283b1831be7504bac4b": {
      "model_module": "jupyter-vuetify",
      "model_module_version": "^1.9.4",
      "model_name": "HtmlModel",
      "state": {
       "_dom_classes": [],
       "_events": [],
       "_jupyter_vue": "IPY_MODEL_b1fb223d83bc43e2a4f5126091a99377",
       "_model_module": "jupyter-vuetify",
       "_model_module_version": "^1.9.4",
       "_model_name": "HtmlModel",
       "_view_count": null,
       "_view_module": "jupyter-vuetify",
       "_view_module_version": "^1.9.4",
       "_view_name": "VuetifyView",
       "attributes": {},
       "children": [
        "IPY_MODEL_742e5a416cc14c209ee8fb698fb498d5"
       ],
       "class_": null,
       "layout": null,
       "slot": null,
       "style_": null,
       "tabbable": null,
       "tag": "div",
       "tooltip": null,
       "v_model": "!!disabled!!",
       "v_on": null,
       "v_slots": []
      }
     }
    },
    "version_major": 2,
    "version_minor": 0
   }
  }
 },
 "nbformat": 4,
 "nbformat_minor": 5
}