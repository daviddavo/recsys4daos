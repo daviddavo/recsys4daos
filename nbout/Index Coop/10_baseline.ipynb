{
 "cells": [
  {
   "cell_type": "code",
   "execution_count": 1,
   "id": "af8b37f6",
   "metadata": {
    "execution": {
     "iopub.execute_input": "2024-09-05T09:26:09.067225Z",
     "iopub.status.busy": "2024-09-05T09:26:09.066622Z",
     "iopub.status.idle": "2024-09-05T09:26:11.749368Z",
     "shell.execute_reply": "2024-09-05T09:26:11.749018Z"
    },
    "papermill": {
     "duration": 2.692617,
     "end_time": "2024-09-05T09:26:11.750634",
     "exception": false,
     "start_time": "2024-09-05T09:26:09.058017",
     "status": "completed"
    },
    "tags": []
   },
   "outputs": [
    {
     "name": "stderr",
     "output_type": "stream",
     "text": [
      "/tmp/ipykernel_3818122/2526015065.py:7: TqdmExperimentalWarning: Using `tqdm.autonotebook.tqdm` in notebook mode. Use `tqdm.tqdm` instead to force console mode (e.g. in jupyter console)\n",
      "  from tqdm.autonotebook import tqdm\n"
     ]
    },
    {
     "name": "stdout",
     "output_type": "stream",
     "text": [
      "Ignoring warnings\n"
     ]
    }
   ],
   "source": [
    "from typing import List\n",
    "import sys\n",
    "from collections import defaultdict\n",
    "\n",
    "import pandas as pd\n",
    "import numpy as np\n",
    "from tqdm.autonotebook import tqdm\n",
    "\n",
    "from recsys4daos.models import OpenPop\n",
    "from recsys4daos.datasets import to_microsoft\n",
    "from recsys4daos.model_selection import cvtt_open\n",
    "from recsys4daos.evaluation import calculate_all_metrics\n",
    "\n",
    "import paths\n",
    "\n",
    "import recommenders\n",
    "if recommenders.__version__ == '1.2.0':\n",
    "    print(\"Ignoring warnings\")\n",
    "    import warnings\n",
    "    warnings.simplefilter(action='ignore', category=FutureWarning)"
   ]
  },
  {
   "cell_type": "code",
   "execution_count": 2,
   "id": "9851cf69",
   "metadata": {
    "editable": true,
    "execution": {
     "iopub.execute_input": "2024-09-05T09:26:11.755646Z",
     "iopub.status.busy": "2024-09-05T09:26:11.755451Z",
     "iopub.status.idle": "2024-09-05T09:26:11.757489Z",
     "shell.execute_reply": "2024-09-05T09:26:11.757279Z"
    },
    "papermill": {
     "duration": 0.005762,
     "end_time": "2024-09-05T09:26:11.758662",
     "exception": false,
     "start_time": "2024-09-05T09:26:11.752900",
     "status": "completed"
    },
    "slideshow": {
     "slide_type": ""
    },
    "tags": [
     "parameters"
    ]
   },
   "outputs": [],
   "source": [
    "SPLITS_FREQ = \"W-THU\"\n",
    "SPLITS_NORMALIZE = True\n",
    "ORG_NAME = 'Decentraland'\n",
    "LAST_FOLD_DATE_STR: str = None # Won't use it, we will just calculate for every fold\n",
    "\n",
    "# In this notebook this is just used for plotting and description, not \"training\"\n",
    "# every fold is saved into the results table\n",
    "LAST_FOLDS = 10\n",
    "\n",
    "K_RECOMMENDATIONS: List[int] = [1,3,5,10,15,100]"
   ]
  },
  {
   "cell_type": "code",
   "execution_count": 3,
   "id": "308fd597",
   "metadata": {
    "execution": {
     "iopub.execute_input": "2024-09-05T09:26:11.762625Z",
     "iopub.status.busy": "2024-09-05T09:26:11.762509Z",
     "iopub.status.idle": "2024-09-05T09:26:11.764061Z",
     "shell.execute_reply": "2024-09-05T09:26:11.763874Z"
    },
    "papermill": {
     "duration": 0.004748,
     "end_time": "2024-09-05T09:26:11.765070",
     "exception": false,
     "start_time": "2024-09-05T09:26:11.760322",
     "status": "completed"
    },
    "tags": [
     "injected-parameters"
    ]
   },
   "outputs": [],
   "source": [
    "# Parameters\n",
    "EXECUTION_ID = \"2024-09-04T10:00\"\n",
    "ORG_NAME = \"Index Coop\"\n",
    "SPLITS_FREQ = \"W-THU\"\n",
    "LAST_FOLDS = 10\n",
    "SPLITS_NORMALIZE = True\n",
    "LAST_FOLD_DATE_STR = \"2023-07-13\"\n"
   ]
  },
  {
   "cell_type": "markdown",
   "id": "9b490c84",
   "metadata": {
    "papermill": {
     "duration": 0.001731,
     "end_time": "2024-09-05T09:26:11.768444",
     "exception": false,
     "start_time": "2024-09-05T09:26:11.766713",
     "status": "completed"
    },
    "tags": []
   },
   "source": [
    "## Obtain dataset"
   ]
  },
  {
   "cell_type": "code",
   "execution_count": 4,
   "id": "02aed338",
   "metadata": {
    "execution": {
     "iopub.execute_input": "2024-09-05T09:26:11.772820Z",
     "iopub.status.busy": "2024-09-05T09:26:11.772714Z",
     "iopub.status.idle": "2024-09-05T09:26:11.897581Z",
     "shell.execute_reply": "2024-09-05T09:26:11.895263Z"
    },
    "papermill": {
     "duration": 0.132544,
     "end_time": "2024-09-05T09:26:11.902910",
     "exception": false,
     "start_time": "2024-09-05T09:26:11.770366",
     "status": "completed"
    },
    "tags": []
   },
   "outputs": [
    {
     "name": "stdout",
     "output_type": "stream",
     "text": [
      "/home/daviddavo/recsys4daos/notebooks\r\n"
     ]
    }
   ],
   "source": [
    "!pwd"
   ]
  },
  {
   "cell_type": "code",
   "execution_count": 5,
   "id": "092f3bfd",
   "metadata": {
    "execution": {
     "iopub.execute_input": "2024-09-05T09:26:11.913223Z",
     "iopub.status.busy": "2024-09-05T09:26:11.912832Z",
     "iopub.status.idle": "2024-09-05T09:26:12.048776Z",
     "shell.execute_reply": "2024-09-05T09:26:12.046026Z"
    },
    "papermill": {
     "duration": 0.142808,
     "end_time": "2024-09-05T09:26:12.052353",
     "exception": false,
     "start_time": "2024-09-05T09:26:11.909545",
     "status": "completed"
    },
    "tags": []
   },
   "outputs": [
    {
     "name": "stdout",
     "output_type": "stream",
     "text": [
      "md5sum: '../data/decentraland/*': No such file or directory\r\n"
     ]
    }
   ],
   "source": [
    "!md5sum ../data/decentraland/*"
   ]
  },
  {
   "cell_type": "code",
   "execution_count": 6,
   "id": "af9c0dde",
   "metadata": {
    "execution": {
     "iopub.execute_input": "2024-09-05T09:26:12.072898Z",
     "iopub.status.busy": "2024-09-05T09:26:12.072205Z",
     "iopub.status.idle": "2024-09-05T09:26:12.118404Z",
     "shell.execute_reply": "2024-09-05T09:26:12.118169Z"
    },
    "papermill": {
     "duration": 0.056813,
     "end_time": "2024-09-05T09:26:12.119133",
     "exception": false,
     "start_time": "2024-09-05T09:26:12.062320",
     "status": "completed"
    },
    "tags": []
   },
   "outputs": [
    {
     "name": "stdout",
     "output_type": "stream",
     "text": [
      "<class 'pandas.core.frame.DataFrame'>\n",
      "RangeIndex: 1052 entries, 0 to 1051\n",
      "Data columns (total 6 columns):\n",
      " #   Column             Non-Null Count  Dtype         \n",
      "---  ------             --------------  -----         \n",
      " 0   id                 1052 non-null   object        \n",
      " 1   author             1052 non-null   object        \n",
      " 2   date               1052 non-null   datetime64[us]\n",
      " 3   start              1052 non-null   datetime64[us]\n",
      " 4   end                1052 non-null   datetime64[us]\n",
      " 5   platform_proposal  1052 non-null   object        \n",
      "dtypes: datetime64[us](3), object(3)\n",
      "memory usage: 49.4+ KB\n",
      "None\n",
      "<class 'pandas.core.frame.DataFrame'>\n",
      "RangeIndex: 24031 entries, 0 to 24030\n",
      "Data columns (total 4 columns):\n",
      " #   Column    Non-Null Count  Dtype         \n",
      "---  ------    --------------  -----         \n",
      " 0   id        24031 non-null  object        \n",
      " 1   proposal  24031 non-null  object        \n",
      " 2   voter     24031 non-null  object        \n",
      " 3   date      24031 non-null  datetime64[us]\n",
      "dtypes: datetime64[us](1), object(3)\n",
      "memory usage: 751.1+ KB\n",
      "None\n",
      "<class 'pandas.core.frame.DataFrame'>\n",
      "RangeIndex: 24031 entries, 0 to 24030\n",
      "Data columns (total 4 columns):\n",
      " #   Column     Non-Null Count  Dtype         \n",
      "---  ------     --------------  -----         \n",
      " 0   userID     24031 non-null  object        \n",
      " 1   itemID     24031 non-null  object        \n",
      " 2   timestamp  24031 non-null  datetime64[us]\n",
      " 3   rating     24031 non-null  int64         \n",
      "dtypes: datetime64[us](1), int64(1), object(2)\n",
      "memory usage: 751.1+ KB\n",
      "None\n"
     ]
    }
   ],
   "source": [
    "dfp = paths.load_proposals(ORG_NAME)\n",
    "dfv = paths.load_votes(ORG_NAME)\n",
    "\n",
    "df = to_microsoft(dfv)\n",
    "\n",
    "print(dfp.info())\n",
    "print(dfv.info())\n",
    "print(df.info())"
   ]
  },
  {
   "cell_type": "markdown",
   "id": "061581c6",
   "metadata": {
    "papermill": {
     "duration": 0.0021,
     "end_time": "2024-09-05T09:26:12.123664",
     "exception": false,
     "start_time": "2024-09-05T09:26:12.121564",
     "status": "completed"
    },
    "tags": []
   },
   "source": [
    "## Showing some info of the folds"
   ]
  },
  {
   "cell_type": "code",
   "execution_count": 7,
   "id": "4ca36546",
   "metadata": {
    "execution": {
     "iopub.execute_input": "2024-09-05T09:26:12.127950Z",
     "iopub.status.busy": "2024-09-05T09:26:12.127833Z",
     "iopub.status.idle": "2024-09-05T09:26:13.172920Z",
     "shell.execute_reply": "2024-09-05T09:26:13.172708Z"
    },
    "papermill": {
     "duration": 1.048146,
     "end_time": "2024-09-05T09:26:13.173622",
     "exception": false,
     "start_time": "2024-09-05T09:26:12.125476",
     "status": "completed"
    },
    "tags": []
   },
   "outputs": [
    {
     "name": "stdout",
     "output_type": "stream",
     "text": [
      "Saved dataframe into /home/daviddavo/recsys4daos/data/output/Index Coop/baseline/folds-info_W-THU_normalize.parquet\n",
      "fold\n",
      "2023-05-11    23374\n",
      "2023-05-18    23478\n",
      "2023-05-25    23553\n",
      "2023-06-01    23677\n",
      "2023-06-08    23744\n",
      "2023-06-15    23801\n",
      "2023-06-22    23847\n",
      "2023-06-29    23908\n",
      "2023-07-06    23954\n",
      "2023-07-13    24006\n",
      "Name: votes in train, dtype: int64\n"
     ]
    },
    {
     "data": {
      "text/html": [
       "<style type=\"text/css\">\n",
       "</style>\n",
       "<table id=\"T_b7023\">\n",
       "  <thead>\n",
       "    <tr>\n",
       "      <th class=\"blank level0\" >&nbsp;</th>\n",
       "      <th id=\"T_b7023_level0_col0\" class=\"col_heading level0 col0\" >open proposals</th>\n",
       "      <th id=\"T_b7023_level0_col1\" class=\"col_heading level0 col1\" >votes in open proposals (train)</th>\n",
       "      <th id=\"T_b7023_level0_col2\" class=\"col_heading level0 col2\" >users in open proposals (train)</th>\n",
       "      <th id=\"T_b7023_level0_col3\" class=\"col_heading level0 col3\" >vpp in open proposals (train)</th>\n",
       "      <th id=\"T_b7023_level0_col4\" class=\"col_heading level0 col4\" >vpu in open proposals (train)</th>\n",
       "      <th id=\"T_b7023_level0_col5\" class=\"col_heading level0 col5\" >votes in test</th>\n",
       "      <th id=\"T_b7023_level0_col6\" class=\"col_heading level0 col6\" >users in test</th>\n",
       "      <th id=\"T_b7023_level0_col7\" class=\"col_heading level0 col7\" >vpp test</th>\n",
       "      <th id=\"T_b7023_level0_col8\" class=\"col_heading level0 col8\" >vpu test</th>\n",
       "    </tr>\n",
       "    <tr>\n",
       "      <th class=\"index_name level0\" >fold</th>\n",
       "      <th class=\"blank col0\" >&nbsp;</th>\n",
       "      <th class=\"blank col1\" >&nbsp;</th>\n",
       "      <th class=\"blank col2\" >&nbsp;</th>\n",
       "      <th class=\"blank col3\" >&nbsp;</th>\n",
       "      <th class=\"blank col4\" >&nbsp;</th>\n",
       "      <th class=\"blank col5\" >&nbsp;</th>\n",
       "      <th class=\"blank col6\" >&nbsp;</th>\n",
       "      <th class=\"blank col7\" >&nbsp;</th>\n",
       "      <th class=\"blank col8\" >&nbsp;</th>\n",
       "    </tr>\n",
       "  </thead>\n",
       "  <tbody>\n",
       "    <tr>\n",
       "      <th id=\"T_b7023_level0_row0\" class=\"row_heading level0 row0\" >2023-W19</th>\n",
       "      <td id=\"T_b7023_row0_col0\" class=\"data row0 col0\" >10</td>\n",
       "      <td id=\"T_b7023_row0_col1\" class=\"data row0 col1\" >70</td>\n",
       "      <td id=\"T_b7023_row0_col2\" class=\"data row0 col2\" >21</td>\n",
       "      <td id=\"T_b7023_row0_col3\" class=\"data row0 col3\" >7.00</td>\n",
       "      <td id=\"T_b7023_row0_col4\" class=\"data row0 col4\" >3.33</td>\n",
       "      <td id=\"T_b7023_row0_col5\" class=\"data row0 col5\" >33</td>\n",
       "      <td id=\"T_b7023_row0_col6\" class=\"data row0 col6\" >10</td>\n",
       "      <td id=\"T_b7023_row0_col7\" class=\"data row0 col7\" >3.30</td>\n",
       "      <td id=\"T_b7023_row0_col8\" class=\"data row0 col8\" >3.30</td>\n",
       "    </tr>\n",
       "    <tr>\n",
       "      <th id=\"T_b7023_level0_row1\" class=\"row_heading level0 row1\" >2023-W20</th>\n",
       "      <td id=\"T_b7023_row1_col0\" class=\"data row1 col0\" >16</td>\n",
       "      <td id=\"T_b7023_row1_col1\" class=\"data row1 col1\" >48</td>\n",
       "      <td id=\"T_b7023_row1_col2\" class=\"data row1 col2\" >9</td>\n",
       "      <td id=\"T_b7023_row1_col3\" class=\"data row1 col3\" >3.00</td>\n",
       "      <td id=\"T_b7023_row1_col4\" class=\"data row1 col4\" >5.33</td>\n",
       "      <td id=\"T_b7023_row1_col5\" class=\"data row1 col5\" >22</td>\n",
       "      <td id=\"T_b7023_row1_col6\" class=\"data row1 col6\" >8</td>\n",
       "      <td id=\"T_b7023_row1_col7\" class=\"data row1 col7\" >1.38</td>\n",
       "      <td id=\"T_b7023_row1_col8\" class=\"data row1 col8\" >2.75</td>\n",
       "    </tr>\n",
       "    <tr>\n",
       "      <th id=\"T_b7023_level0_row2\" class=\"row_heading level0 row2\" >2023-W21</th>\n",
       "      <td id=\"T_b7023_row2_col0\" class=\"data row2 col0\" >4</td>\n",
       "      <td id=\"T_b7023_row2_col1\" class=\"data row2 col1\" >9</td>\n",
       "      <td id=\"T_b7023_row2_col2\" class=\"data row2 col2\" >4</td>\n",
       "      <td id=\"T_b7023_row2_col3\" class=\"data row2 col3\" >2.25</td>\n",
       "      <td id=\"T_b7023_row2_col4\" class=\"data row2 col4\" >2.25</td>\n",
       "      <td id=\"T_b7023_row2_col5\" class=\"data row2 col5\" >14</td>\n",
       "      <td id=\"T_b7023_row2_col6\" class=\"data row2 col6\" >10</td>\n",
       "      <td id=\"T_b7023_row2_col7\" class=\"data row2 col7\" >3.50</td>\n",
       "      <td id=\"T_b7023_row2_col8\" class=\"data row2 col8\" >1.40</td>\n",
       "    </tr>\n",
       "    <tr>\n",
       "      <th id=\"T_b7023_level0_row3\" class=\"row_heading level0 row3\" >2023-W22</th>\n",
       "      <td id=\"T_b7023_row3_col0\" class=\"data row3 col0\" >3</td>\n",
       "      <td id=\"T_b7023_row3_col1\" class=\"data row3 col1\" >18</td>\n",
       "      <td id=\"T_b7023_row3_col2\" class=\"data row3 col2\" >8</td>\n",
       "      <td id=\"T_b7023_row3_col3\" class=\"data row3 col3\" >6.00</td>\n",
       "      <td id=\"T_b7023_row3_col4\" class=\"data row3 col4\" >2.25</td>\n",
       "      <td id=\"T_b7023_row3_col5\" class=\"data row3 col5\" >6</td>\n",
       "      <td id=\"T_b7023_row3_col6\" class=\"data row3 col6\" >6</td>\n",
       "      <td id=\"T_b7023_row3_col7\" class=\"data row3 col7\" >2.00</td>\n",
       "      <td id=\"T_b7023_row3_col8\" class=\"data row3 col8\" >1.00</td>\n",
       "    </tr>\n",
       "    <tr>\n",
       "      <th id=\"T_b7023_level0_row4\" class=\"row_heading level0 row4\" >2023-W23</th>\n",
       "      <td id=\"T_b7023_row4_col0\" class=\"data row4 col0\" >3</td>\n",
       "      <td id=\"T_b7023_row4_col1\" class=\"data row4 col1\" >4</td>\n",
       "      <td id=\"T_b7023_row4_col2\" class=\"data row4 col2\" >2</td>\n",
       "      <td id=\"T_b7023_row4_col3\" class=\"data row4 col3\" >1.33</td>\n",
       "      <td id=\"T_b7023_row4_col4\" class=\"data row4 col4\" >2.00</td>\n",
       "      <td id=\"T_b7023_row4_col5\" class=\"data row4 col5\" >7</td>\n",
       "      <td id=\"T_b7023_row4_col6\" class=\"data row4 col6\" >6</td>\n",
       "      <td id=\"T_b7023_row4_col7\" class=\"data row4 col7\" >2.33</td>\n",
       "      <td id=\"T_b7023_row4_col8\" class=\"data row4 col8\" >1.17</td>\n",
       "    </tr>\n",
       "    <tr>\n",
       "      <th id=\"T_b7023_level0_row5\" class=\"row_heading level0 row5\" >2023-W24</th>\n",
       "      <td id=\"T_b7023_row5_col0\" class=\"data row5 col0\" >10</td>\n",
       "      <td id=\"T_b7023_row5_col1\" class=\"data row5 col1\" >19</td>\n",
       "      <td id=\"T_b7023_row5_col2\" class=\"data row5 col2\" >12</td>\n",
       "      <td id=\"T_b7023_row5_col3\" class=\"data row5 col3\" >1.90</td>\n",
       "      <td id=\"T_b7023_row5_col4\" class=\"data row5 col4\" >1.58</td>\n",
       "      <td id=\"T_b7023_row5_col5\" class=\"data row5 col5\" >18</td>\n",
       "      <td id=\"T_b7023_row5_col6\" class=\"data row5 col6\" >6</td>\n",
       "      <td id=\"T_b7023_row5_col7\" class=\"data row5 col7\" >1.80</td>\n",
       "      <td id=\"T_b7023_row5_col8\" class=\"data row5 col8\" >3.00</td>\n",
       "    </tr>\n",
       "    <tr>\n",
       "      <th id=\"T_b7023_level0_row6\" class=\"row_heading level0 row6\" >2023-W25</th>\n",
       "      <td id=\"T_b7023_row6_col0\" class=\"data row6 col0\" >2</td>\n",
       "      <td id=\"T_b7023_row6_col1\" class=\"data row6 col1\" >2</td>\n",
       "      <td id=\"T_b7023_row6_col2\" class=\"data row6 col2\" >2</td>\n",
       "      <td id=\"T_b7023_row6_col3\" class=\"data row6 col3\" >1.00</td>\n",
       "      <td id=\"T_b7023_row6_col4\" class=\"data row6 col4\" >1.00</td>\n",
       "      <td id=\"T_b7023_row6_col5\" class=\"data row6 col5\" >9</td>\n",
       "      <td id=\"T_b7023_row6_col6\" class=\"data row6 col6\" >7</td>\n",
       "      <td id=\"T_b7023_row6_col7\" class=\"data row6 col7\" >4.50</td>\n",
       "      <td id=\"T_b7023_row6_col8\" class=\"data row6 col8\" >1.29</td>\n",
       "    </tr>\n",
       "    <tr>\n",
       "      <th id=\"T_b7023_level0_row7\" class=\"row_heading level0 row7\" >2023-W26</th>\n",
       "      <td id=\"T_b7023_row7_col0\" class=\"data row7 col0\" >10</td>\n",
       "      <td id=\"T_b7023_row7_col1\" class=\"data row7 col1\" >30</td>\n",
       "      <td id=\"T_b7023_row7_col2\" class=\"data row7 col2\" >9</td>\n",
       "      <td id=\"T_b7023_row7_col3\" class=\"data row7 col3\" >3.00</td>\n",
       "      <td id=\"T_b7023_row7_col4\" class=\"data row7 col4\" >3.33</td>\n",
       "      <td id=\"T_b7023_row7_col5\" class=\"data row7 col5\" >8</td>\n",
       "      <td id=\"T_b7023_row7_col6\" class=\"data row7 col6\" >7</td>\n",
       "      <td id=\"T_b7023_row7_col7\" class=\"data row7 col7\" >0.80</td>\n",
       "      <td id=\"T_b7023_row7_col8\" class=\"data row7 col8\" >1.14</td>\n",
       "    </tr>\n",
       "    <tr>\n",
       "      <th id=\"T_b7023_level0_row8\" class=\"row_heading level0 row8\" >2023-W27</th>\n",
       "      <td id=\"T_b7023_row8_col0\" class=\"data row8 col0\" >4</td>\n",
       "      <td id=\"T_b7023_row8_col1\" class=\"data row8 col1\" >5</td>\n",
       "      <td id=\"T_b7023_row8_col2\" class=\"data row8 col2\" >2</td>\n",
       "      <td id=\"T_b7023_row8_col3\" class=\"data row8 col3\" >1.25</td>\n",
       "      <td id=\"T_b7023_row8_col4\" class=\"data row8 col4\" >2.50</td>\n",
       "      <td id=\"T_b7023_row8_col5\" class=\"data row8 col5\" >25</td>\n",
       "      <td id=\"T_b7023_row8_col6\" class=\"data row8 col6\" >9</td>\n",
       "      <td id=\"T_b7023_row8_col7\" class=\"data row8 col7\" >6.25</td>\n",
       "      <td id=\"T_b7023_row8_col8\" class=\"data row8 col8\" >2.78</td>\n",
       "    </tr>\n",
       "    <tr>\n",
       "      <th id=\"T_b7023_level0_row9\" class=\"row_heading level0 row9\" >2023-W28</th>\n",
       "      <td id=\"T_b7023_row9_col0\" class=\"data row9 col0\" >8</td>\n",
       "      <td id=\"T_b7023_row9_col1\" class=\"data row9 col1\" >18</td>\n",
       "      <td id=\"T_b7023_row9_col2\" class=\"data row9 col2\" >8</td>\n",
       "      <td id=\"T_b7023_row9_col3\" class=\"data row9 col3\" >2.25</td>\n",
       "      <td id=\"T_b7023_row9_col4\" class=\"data row9 col4\" >2.25</td>\n",
       "      <td id=\"T_b7023_row9_col5\" class=\"data row9 col5\" >11</td>\n",
       "      <td id=\"T_b7023_row9_col6\" class=\"data row9 col6\" >4</td>\n",
       "      <td id=\"T_b7023_row9_col7\" class=\"data row9 col7\" >1.38</td>\n",
       "      <td id=\"T_b7023_row9_col8\" class=\"data row9 col8\" >2.75</td>\n",
       "    </tr>\n",
       "  </tbody>\n",
       "</table>\n"
      ],
      "text/plain": [
       "<pandas.io.formats.style.Styler at 0x7f9e1e782c10>"
      ]
     },
     "execution_count": 7,
     "metadata": {},
     "output_type": "execute_result"
    }
   ],
   "source": [
    "sdd = defaultdict(list)\n",
    "\n",
    "for dftrain, dftest, t, openproposals in cvtt_open(to_microsoft(dfv), SPLITS_FREQ, dfp.reset_index(), remove_not_in_train_col='userID', normalize=SPLITS_NORMALIZE):\n",
    "    dftrain_filter = dftrain[dftrain['itemID'].isin(openproposals)]\n",
    "    \n",
    "    sdd['fold'].append(t)\n",
    "    sdd['open proposals'].append(len(openproposals))\n",
    "    \n",
    "    sdd['proposals in train'].append(dftrain['itemID'].nunique())\n",
    "    sdd['votes in train'].append(len(dftrain))\n",
    "    sdd['votes in open proposals (train)'].append(len(dftrain_filter))\n",
    "    sdd['users in open proposals (train)'].append(dftrain_filter['userID'].nunique())\n",
    "    sdd['votes in test'].append(len(dftest))\n",
    "    sdd['users in train'].append(dftrain['userID'].nunique())\n",
    "    sdd['users in test'].append(dftest['userID'].nunique())\n",
    "\n",
    "sdf_all = pd.DataFrame(sdd).set_index('fold')\n",
    "sdf_all['vpp in open proposals (train)'] = sdf_all['votes in open proposals (train)'] / sdf_all['open proposals']\n",
    "sdf_all['vpu in open proposals (train)'] = sdf_all['votes in open proposals (train)'] / sdf_all['users in open proposals (train)']\n",
    "sdf_all['vpp test'] = sdf_all['votes in test'] / sdf_all['open proposals']\n",
    "sdf_all['vpu test'] = sdf_all['votes in test'] / sdf_all['users in test']\n",
    "paths.save_folds_info(sdf_all, ORG_NAME, SPLITS_FREQ, SPLITS_NORMALIZE)\n",
    "sdf = sdf_all.tail(LAST_FOLDS)\n",
    "print(sdf['votes in train'])\n",
    "_style = sdf[['open proposals', 'votes in open proposals (train)', 'users in open proposals (train)', 'vpp in open proposals (train)', 'vpu in open proposals (train)', 'votes in test', 'users in test', 'vpp test', 'vpu test']].style\n",
    "_style = _style.format_index('{:%G-W%V}').format(precision=2)\n",
    "_style"
   ]
  },
  {
   "cell_type": "code",
   "execution_count": 8,
   "id": "9525c6ac",
   "metadata": {
    "execution": {
     "iopub.execute_input": "2024-09-05T09:26:13.179041Z",
     "iopub.status.busy": "2024-09-05T09:26:13.178839Z",
     "iopub.status.idle": "2024-09-05T09:26:13.188882Z",
     "shell.execute_reply": "2024-09-05T09:26:13.188679Z"
    },
    "papermill": {
     "duration": 0.0135,
     "end_time": "2024-09-05T09:26:13.189502",
     "exception": false,
     "start_time": "2024-09-05T09:26:13.176002",
     "status": "completed"
    },
    "tags": []
   },
   "outputs": [
    {
     "name": "stdout",
     "output_type": "stream",
     "text": [
      "\\begin{tabular}{lrrrrrrrrr}\n",
      " & \\textbf{open proposals} & \\textbf{votes in open proposals (train)} & \\textbf{users in open proposals (train)} & \\textbf{vpp in open proposals (train)} & \\textbf{vpu in open proposals (train)} & \\textbf{votes in test} & \\textbf{users in test} & \\textbf{vpp test} & \\textbf{vpu test} \\\\\n",
      "fold &  &  &  &  &  &  &  &  &  \\\\\n",
      "2023-W19 & 10 & 70 & 21 & 7.00 & 3.33 & 33 & 10 & 3.30 & 3.30 \\\\\n",
      "2023-W20 & 16 & 48 & 9 & 3.00 & 5.33 & 22 & 8 & 1.38 & 2.75 \\\\\n",
      "2023-W21 & 4 & 9 & 4 & 2.25 & 2.25 & 14 & 10 & 3.50 & 1.40 \\\\\n",
      "2023-W22 & 3 & 18 & 8 & 6.00 & 2.25 & 6 & 6 & 2.00 & 1.00 \\\\\n",
      "2023-W23 & 3 & 4 & 2 & 1.33 & 2.00 & 7 & 6 & 2.33 & 1.17 \\\\\n",
      "2023-W24 & 10 & 19 & 12 & 1.90 & 1.58 & 18 & 6 & 1.80 & 3.00 \\\\\n",
      "2023-W25 & 2 & 2 & 2 & 1.00 & 1.00 & 9 & 7 & 4.50 & 1.29 \\\\\n",
      "2023-W26 & 10 & 30 & 9 & 3.00 & 3.33 & 8 & 7 & 0.80 & 1.14 \\\\\n",
      "2023-W27 & 4 & 5 & 2 & 1.25 & 2.50 & 25 & 9 & 6.25 & 2.78 \\\\\n",
      "2023-W28 & 8 & 18 & 8 & 2.25 & 2.25 & 11 & 4 & 1.38 & 2.75 \\\\\n",
      "\\end{tabular}\n",
      "\n"
     ]
    }
   ],
   "source": [
    "print(_style\n",
    "  .format_index(\"\\\\textbf{{{}}}\", escape=\"latex\", axis=1)\n",
    "  .to_latex()\n",
    ")"
   ]
  },
  {
   "cell_type": "markdown",
   "id": "99cf4f17",
   "metadata": {
    "papermill": {
     "duration": 0.002104,
     "end_time": "2024-09-05T09:26:13.193617",
     "exception": false,
     "start_time": "2024-09-05T09:26:13.191513",
     "status": "completed"
    },
    "tags": []
   },
   "source": [
    "## Running openpop baseline"
   ]
  },
  {
   "cell_type": "code",
   "execution_count": 9,
   "id": "f4b155aa",
   "metadata": {
    "execution": {
     "iopub.execute_input": "2024-09-05T09:26:13.198117Z",
     "iopub.status.busy": "2024-09-05T09:26:13.198027Z",
     "iopub.status.idle": "2024-09-05T09:26:48.014322Z",
     "shell.execute_reply": "2024-09-05T09:26:48.014105Z"
    },
    "papermill": {
     "duration": 34.819492,
     "end_time": "2024-09-05T09:26:48.015054",
     "exception": false,
     "start_time": "2024-09-05T09:26:13.195562",
     "status": "completed"
    },
    "tags": []
   },
   "outputs": [
    {
     "data": {
      "application/vnd.jupyter.widget-view+json": {
       "model_id": "61035f6e4a2b4b7992470370f79097e7",
       "version_major": 2,
       "version_minor": 0
      },
      "text/plain": [
       "  0%|          | 0/139 [00:00<?, ?it/s]"
      ]
     },
     "metadata": {},
     "output_type": "display_data"
    },
    {
     "name": "stderr",
     "output_type": "stream",
     "text": [
      "Warning, empty test fold 0 (2020-11-19 00:00:00), all ok since 0 folds ago\n",
      "Warning, empty test fold 1 (2020-11-26 00:00:00), all ok since 1 folds ago\n"
     ]
    },
    {
     "name": "stderr",
     "output_type": "stream",
     "text": [
      "Warning, empty test fold 2 (2020-12-03 00:00:00), all ok since 1 folds ago\n",
      "Warning, test fold 3 (2020-12-10 00:00:00) with less than 5 open proposals (1). all ok since 1 folds ago\n"
     ]
    },
    {
     "name": "stderr",
     "output_type": "stream",
     "text": [
      "Warning, test fold 4 (2020-12-17 00:00:00) with less than 5 open proposals (1). all ok since 1 folds ago\n"
     ]
    },
    {
     "name": "stderr",
     "output_type": "stream",
     "text": [
      "Warning, empty test fold 5 (2020-12-24 00:00:00), all ok since 3 folds ago\n",
      "Warning, empty test fold 6 (2020-12-31 00:00:00), all ok since 1 folds ago\n"
     ]
    },
    {
     "name": "stderr",
     "output_type": "stream",
     "text": [
      "Warning, empty test fold 7 (2021-01-07 00:00:00), all ok since 1 folds ago\n",
      "Warning, test fold 8 (2021-01-14 00:00:00) with less than 5 open proposals (1). all ok since 1 folds ago\n"
     ]
    },
    {
     "name": "stderr",
     "output_type": "stream",
     "text": [
      "Warning, test fold 9 (2021-01-21 00:00:00) with less than 5 open proposals (1). all ok since 1 folds ago\n"
     ]
    },
    {
     "name": "stderr",
     "output_type": "stream",
     "text": [
      "Warning, empty test fold 10 (2021-01-28 00:00:00), all ok since 3 folds ago\n",
      "Warning, test fold 11 (2021-02-04 00:00:00) with less than 5 open proposals (2). all ok since 1 folds ago\n"
     ]
    },
    {
     "name": "stderr",
     "output_type": "stream",
     "text": [
      "Warning, test fold 12 (2021-02-11 00:00:00) with less than 5 open proposals (1). all ok since 1 folds ago\n"
     ]
    },
    {
     "name": "stderr",
     "output_type": "stream",
     "text": [
      "Warning, empty test fold 13 (2021-02-18 00:00:00), all ok since 3 folds ago\n",
      "Warning, test fold 14 (2021-02-25 00:00:00) with less than 5 open proposals (1). all ok since 1 folds ago\n"
     ]
    },
    {
     "name": "stderr",
     "output_type": "stream",
     "text": [
      "Warning, test fold 15 (2021-03-04 00:00:00) with less than 5 open proposals (1). all ok since 1 folds ago\n"
     ]
    },
    {
     "name": "stderr",
     "output_type": "stream",
     "text": [
      "Warning, test fold 16 (2021-03-11 00:00:00) with less than 5 open proposals (2). all ok since 1 folds ago\n"
     ]
    },
    {
     "name": "stderr",
     "output_type": "stream",
     "text": [
      "Warning, empty test fold 17 (2021-03-18 00:00:00), all ok since 4 folds ago\n",
      "Warning, test fold 18 (2021-03-25 00:00:00) with less than 5 open proposals (1). all ok since 1 folds ago\n"
     ]
    },
    {
     "name": "stderr",
     "output_type": "stream",
     "text": [
      "Warning, test fold 19 (2021-04-01 00:00:00) with less than 5 open proposals (2). all ok since 1 folds ago\n"
     ]
    },
    {
     "name": "stderr",
     "output_type": "stream",
     "text": [
      "Warning, test fold 20 (2021-04-08 00:00:00) with less than 5 open proposals (2). all ok since 1 folds ago\n"
     ]
    },
    {
     "name": "stderr",
     "output_type": "stream",
     "text": [
      "Warning, test fold 21 (2021-04-15 00:00:00) with less than 5 open proposals (1). all ok since 1 folds ago\n"
     ]
    },
    {
     "name": "stderr",
     "output_type": "stream",
     "text": [
      "Warning, test fold 23 (2021-04-29 00:00:00) with less than 5 open proposals (4). all ok since 2 folds ago\n"
     ]
    },
    {
     "name": "stderr",
     "output_type": "stream",
     "text": [
      "Warning, test fold 25 (2021-05-13 00:00:00) with less than 5 open proposals (1). all ok since 2 folds ago\n"
     ]
    },
    {
     "name": "stderr",
     "output_type": "stream",
     "text": [
      "Warning, test fold 26 (2021-05-20 00:00:00) with less than 5 open proposals (2). all ok since 1 folds ago\n"
     ]
    },
    {
     "name": "stderr",
     "output_type": "stream",
     "text": [
      "Warning, test fold 27 (2021-05-27 00:00:00) with less than 5 open proposals (1). all ok since 1 folds ago\n"
     ]
    },
    {
     "name": "stderr",
     "output_type": "stream",
     "text": [
      "Warning, test fold 28 (2021-06-03 00:00:00) with less than 5 open proposals (1). all ok since 1 folds ago\n"
     ]
    },
    {
     "name": "stderr",
     "output_type": "stream",
     "text": [
      "Warning, test fold 29 (2021-06-10 00:00:00) with less than 5 open proposals (3). all ok since 1 folds ago\n"
     ]
    },
    {
     "name": "stderr",
     "output_type": "stream",
     "text": [
      "Warning, test fold 30 (2021-06-17 00:00:00) with less than 5 open proposals (3). all ok since 1 folds ago\n"
     ]
    },
    {
     "name": "stderr",
     "output_type": "stream",
     "text": [
      "Warning, test fold 31 (2021-06-24 00:00:00) with less than 5 open proposals (2). all ok since 1 folds ago\n"
     ]
    },
    {
     "name": "stderr",
     "output_type": "stream",
     "text": [
      "Warning, test fold 32 (2021-07-01 00:00:00) with less than 5 open proposals (2). all ok since 1 folds ago\n"
     ]
    },
    {
     "name": "stderr",
     "output_type": "stream",
     "text": [
      "Warning, test fold 34 (2021-07-15 00:00:00) with less than 5 open proposals (4). all ok since 2 folds ago\n"
     ]
    },
    {
     "name": "stderr",
     "output_type": "stream",
     "text": [
      "Warning, test fold 35 (2021-07-22 00:00:00) with less than 5 open proposals (2). all ok since 1 folds ago\n"
     ]
    },
    {
     "name": "stderr",
     "output_type": "stream",
     "text": [
      "Warning, test fold 39 (2021-08-19 00:00:00) with less than 5 open proposals (2). all ok since 4 folds ago\n"
     ]
    },
    {
     "name": "stderr",
     "output_type": "stream",
     "text": [
      "Warning, test fold 40 (2021-08-26 00:00:00) with less than 5 open proposals (3). all ok since 1 folds ago\n"
     ]
    },
    {
     "name": "stderr",
     "output_type": "stream",
     "text": [
      "Warning, test fold 41 (2021-09-02 00:00:00) with less than 5 open proposals (3). all ok since 1 folds ago\n"
     ]
    },
    {
     "name": "stderr",
     "output_type": "stream",
     "text": [
      "Warning, test fold 42 (2021-09-09 00:00:00) with less than 5 open proposals (2). all ok since 1 folds ago\n"
     ]
    },
    {
     "name": "stderr",
     "output_type": "stream",
     "text": [
      "Warning, test fold 43 (2021-09-16 00:00:00) with less than 5 open proposals (3). all ok since 1 folds ago\n"
     ]
    },
    {
     "name": "stderr",
     "output_type": "stream",
     "text": [
      "Warning, test fold 44 (2021-09-23 00:00:00) with less than 5 open proposals (2). all ok since 1 folds ago\n"
     ]
    },
    {
     "name": "stderr",
     "output_type": "stream",
     "text": [
      "Warning, test fold 46 (2021-10-07 00:00:00) with less than 5 open proposals (2). all ok since 2 folds ago\n"
     ]
    },
    {
     "name": "stderr",
     "output_type": "stream",
     "text": [
      "Warning, test fold 47 (2021-10-14 00:00:00) with less than 5 open proposals (2). all ok since 1 folds ago\n"
     ]
    },
    {
     "name": "stderr",
     "output_type": "stream",
     "text": [
      "Warning, test fold 49 (2021-10-28 00:00:00) with less than 5 open proposals (2). all ok since 2 folds ago\n"
     ]
    },
    {
     "name": "stderr",
     "output_type": "stream",
     "text": [
      "Warning, test fold 52 (2021-11-18 00:00:00) with less than 5 open proposals (4). all ok since 3 folds ago\n"
     ]
    },
    {
     "name": "stderr",
     "output_type": "stream",
     "text": [
      "Warning, test fold 53 (2021-11-25 00:00:00) with less than 5 open proposals (2). all ok since 1 folds ago\n"
     ]
    },
    {
     "name": "stderr",
     "output_type": "stream",
     "text": [
      "Warning, test fold 55 (2021-12-09 00:00:00) with less than 5 open proposals (2). all ok since 2 folds ago\n"
     ]
    },
    {
     "name": "stderr",
     "output_type": "stream",
     "text": [
      "Warning, test fold 57 (2021-12-23 00:00:00) with less than 5 open proposals (4). all ok since 2 folds ago\n"
     ]
    },
    {
     "name": "stderr",
     "output_type": "stream",
     "text": [
      "Warning, test fold 58 (2021-12-30 00:00:00) with less than 5 open proposals (1). all ok since 1 folds ago\n"
     ]
    },
    {
     "name": "stderr",
     "output_type": "stream",
     "text": [
      "Warning, test fold 61 (2022-01-20 00:00:00) with less than 5 open proposals (4). all ok since 3 folds ago\n"
     ]
    },
    {
     "name": "stderr",
     "output_type": "stream",
     "text": [
      "Warning, test fold 63 (2022-02-03 00:00:00) with less than 5 open proposals (1). all ok since 2 folds ago\n"
     ]
    },
    {
     "name": "stderr",
     "output_type": "stream",
     "text": [
      "Warning, test fold 64 (2022-02-10 00:00:00) with less than 5 open proposals (3). all ok since 1 folds ago\n"
     ]
    },
    {
     "name": "stderr",
     "output_type": "stream",
     "text": [
      "Warning, test fold 65 (2022-02-17 00:00:00) with less than 5 open proposals (2). all ok since 1 folds ago\n"
     ]
    },
    {
     "name": "stderr",
     "output_type": "stream",
     "text": [
      "Warning, test fold 67 (2022-03-03 00:00:00) with less than 5 open proposals (4). all ok since 2 folds ago\n"
     ]
    },
    {
     "name": "stderr",
     "output_type": "stream",
     "text": [
      "Warning, test fold 68 (2022-03-10 00:00:00) with less than 5 open proposals (3). all ok since 1 folds ago\n"
     ]
    },
    {
     "name": "stderr",
     "output_type": "stream",
     "text": [
      "Warning, test fold 71 (2022-03-31 00:00:00) with less than 5 open proposals (1). all ok since 3 folds ago\n"
     ]
    },
    {
     "name": "stderr",
     "output_type": "stream",
     "text": [
      "Warning, test fold 73 (2022-04-14 00:00:00) with less than 5 open proposals (1). all ok since 2 folds ago\n"
     ]
    },
    {
     "name": "stderr",
     "output_type": "stream",
     "text": [
      "Warning, empty test fold 74 (2022-04-21 00:00:00), all ok since 57 folds ago\n",
      "Warning, test fold 75 (2022-04-28 00:00:00) with less than 5 open proposals (4). all ok since 1 folds ago\n"
     ]
    },
    {
     "name": "stderr",
     "output_type": "stream",
     "text": [
      "Warning, test fold 76 (2022-05-05 00:00:00) with less than 5 open proposals (3). all ok since 1 folds ago\n"
     ]
    },
    {
     "name": "stderr",
     "output_type": "stream",
     "text": [
      "Warning, test fold 77 (2022-05-12 00:00:00) with less than 5 open proposals (4). all ok since 1 folds ago\n"
     ]
    },
    {
     "name": "stderr",
     "output_type": "stream",
     "text": [
      "Warning, test fold 78 (2022-05-19 00:00:00) with less than 5 open proposals (3). all ok since 1 folds ago\n"
     ]
    },
    {
     "name": "stderr",
     "output_type": "stream",
     "text": [
      "Warning, test fold 79 (2022-05-26 00:00:00) with less than 5 open proposals (2). all ok since 1 folds ago\n"
     ]
    },
    {
     "name": "stderr",
     "output_type": "stream",
     "text": [
      "Warning, test fold 80 (2022-06-02 00:00:00) with less than 5 open proposals (1). all ok since 1 folds ago\n"
     ]
    },
    {
     "name": "stderr",
     "output_type": "stream",
     "text": [
      "Warning, test fold 82 (2022-06-16 00:00:00) with less than 5 open proposals (1). all ok since 2 folds ago\n"
     ]
    },
    {
     "name": "stderr",
     "output_type": "stream",
     "text": [
      "Warning, test fold 83 (2022-06-23 00:00:00) with less than 5 open proposals (2). all ok since 1 folds ago\n"
     ]
    },
    {
     "name": "stderr",
     "output_type": "stream",
     "text": [
      "Warning, test fold 84 (2022-06-30 00:00:00) with less than 5 open proposals (1). all ok since 1 folds ago\n"
     ]
    },
    {
     "name": "stderr",
     "output_type": "stream",
     "text": [
      "Warning, empty test fold 85 (2022-07-07 00:00:00), all ok since 11 folds ago\n",
      "Warning, test fold 86 (2022-07-14 00:00:00) with less than 5 open proposals (1). all ok since 1 folds ago\n"
     ]
    },
    {
     "name": "stderr",
     "output_type": "stream",
     "text": [
      "Warning, empty test fold 87 (2022-07-21 00:00:00), all ok since 2 folds ago\n",
      "Warning, test fold 88 (2022-07-28 00:00:00) with less than 5 open proposals (1). all ok since 1 folds ago\n"
     ]
    },
    {
     "name": "stderr",
     "output_type": "stream",
     "text": [
      "Warning, empty test fold 89 (2022-08-04 00:00:00), all ok since 2 folds ago\n",
      "Warning, test fold 90 (2022-08-11 00:00:00) with less than 5 open proposals (2). all ok since 1 folds ago\n"
     ]
    },
    {
     "name": "stderr",
     "output_type": "stream",
     "text": [
      "Warning, test fold 92 (2022-08-25 00:00:00) with less than 5 open proposals (2). all ok since 2 folds ago\n"
     ]
    },
    {
     "name": "stderr",
     "output_type": "stream",
     "text": [
      "Warning, empty test fold 94 (2022-09-08 00:00:00), all ok since 5 folds ago\n"
     ]
    },
    {
     "name": "stderr",
     "output_type": "stream",
     "text": [
      "Warning, test fold 97 (2022-09-29 00:00:00) with less than 5 open proposals (2). all ok since 3 folds ago\n"
     ]
    },
    {
     "name": "stderr",
     "output_type": "stream",
     "text": [
      "Warning, test fold 98 (2022-10-06 00:00:00) with less than 5 open proposals (4). all ok since 1 folds ago\n"
     ]
    },
    {
     "name": "stderr",
     "output_type": "stream",
     "text": [
      "Warning, test fold 99 (2022-10-13 00:00:00) with less than 5 open proposals (3). all ok since 1 folds ago\n"
     ]
    },
    {
     "name": "stderr",
     "output_type": "stream",
     "text": [
      "Warning, test fold 100 (2022-10-20 00:00:00) with less than 5 open proposals (3). all ok since 1 folds ago\n"
     ]
    },
    {
     "name": "stderr",
     "output_type": "stream",
     "text": [
      "Warning, test fold 103 (2022-11-10 00:00:00) with less than 5 open proposals (2). all ok since 3 folds ago\n"
     ]
    },
    {
     "name": "stderr",
     "output_type": "stream",
     "text": [
      "Warning, test fold 104 (2022-11-17 00:00:00) with less than 5 open proposals (3). all ok since 1 folds ago\n"
     ]
    },
    {
     "name": "stderr",
     "output_type": "stream",
     "text": [
      "Warning, test fold 106 (2022-12-01 00:00:00) with less than 5 open proposals (4). all ok since 2 folds ago\n"
     ]
    },
    {
     "name": "stderr",
     "output_type": "stream",
     "text": [
      "Warning, test fold 110 (2022-12-29 00:00:00) with less than 5 open proposals (1). all ok since 4 folds ago\n"
     ]
    },
    {
     "name": "stderr",
     "output_type": "stream",
     "text": [
      "Warning, empty test fold 113 (2023-01-19 00:00:00), all ok since 19 folds ago\n",
      "Warning, empty test fold 114 (2023-01-26 00:00:00), all ok since 1 folds ago\n"
     ]
    },
    {
     "name": "stderr",
     "output_type": "stream",
     "text": [
      "Warning, empty test fold 115 (2023-02-02 00:00:00), all ok since 1 folds ago\n"
     ]
    },
    {
     "name": "stderr",
     "output_type": "stream",
     "text": [
      "Warning, test fold 122 (2023-03-23 00:00:00) with less than 5 open proposals (2). all ok since 7 folds ago\n"
     ]
    },
    {
     "name": "stderr",
     "output_type": "stream",
     "text": [
      "Warning, test fold 126 (2023-04-20 00:00:00) with less than 5 open proposals (4). all ok since 4 folds ago\n"
     ]
    },
    {
     "name": "stderr",
     "output_type": "stream",
     "text": [
      "Warning, test fold 131 (2023-05-25 00:00:00) with less than 5 open proposals (4). all ok since 5 folds ago\n"
     ]
    },
    {
     "name": "stderr",
     "output_type": "stream",
     "text": [
      "Warning, test fold 132 (2023-06-01 00:00:00) with less than 5 open proposals (3). all ok since 1 folds ago\n"
     ]
    },
    {
     "name": "stderr",
     "output_type": "stream",
     "text": [
      "Warning, test fold 133 (2023-06-08 00:00:00) with less than 5 open proposals (3). all ok since 1 folds ago\n"
     ]
    },
    {
     "name": "stderr",
     "output_type": "stream",
     "text": [
      "Warning, test fold 135 (2023-06-22 00:00:00) with less than 5 open proposals (2). all ok since 2 folds ago\n"
     ]
    },
    {
     "name": "stderr",
     "output_type": "stream",
     "text": [
      "Warning, test fold 137 (2023-07-06 00:00:00) with less than 5 open proposals (4). all ok since 2 folds ago\n"
     ]
    },
    {
     "name": "stdout",
     "output_type": "stream",
     "text": [
      "Max ok in a row: (57, Timestamp('2022-04-21 00:00:00'))\n"
     ]
    }
   ],
   "source": [
    "WARNING_AT_LEAST_OPEN = 5\n",
    "\n",
    "folds = list(cvtt_open(df, SPLITS_FREQ, dfp, remove_not_in_train_col='userID', normalize=SPLITS_NORMALIZE))\n",
    "metrics = []\n",
    "perfectmetrics = []\n",
    "\n",
    "first_empty = True\n",
    "ok_in_a_row = best_in_a_row = 0\n",
    "max_ok_in_a_row = (-1, folds[-1].end)\n",
    "for i, (train, test, t, open_proposals) in enumerate(tqdm(folds)):   \n",
    "    if first_empty:\n",
    "        if not train.empty:\n",
    "            first_empty = False\n",
    "    else:\n",
    "        assert not train.empty, f\"Train should not be empty on fold {i}\"\n",
    "    if test.empty:\n",
    "        print(f\"Warning, empty test fold {i} ({t}), all ok since {ok_in_a_row} folds ago\", file=sys.stderr)\n",
    "        if ok_in_a_row > max_ok_in_a_row[0]:\n",
    "            max_ok_in_a_row = (ok_in_a_row, t)\n",
    "        ok_in_a_row = best_in_a_row = 0\n",
    "    elif len(open_proposals) < WARNING_AT_LEAST_OPEN:\n",
    "        print(f\"Warning, test fold {i} ({t}) with less than {WARNING_AT_LEAST_OPEN} open proposals ({len(open_proposals)}). all ok since {best_in_a_row} folds ago\", file=sys.stderr)\n",
    "        best_in_a_row = 0\n",
    "\n",
    "    mdict = {'fold': t}\n",
    "    pdict = {'fold': t}\n",
    "    model = OpenPop(train)\n",
    "    recs = model.recommend_k_items(test['userID'].unique(), max(K_RECOMMENDATIONS), recommend_from=open_proposals)\n",
    "    mdict |= calculate_all_metrics(test, recs, K_RECOMMENDATIONS)\n",
    "        # for m, f in metrics_f.items():\n",
    "        #     r = f(test, recs, k=k_recs)\n",
    "        #     metrics[m+f'@{k_recs}'].append(r)\n",
    "    \n",
    "    recs = test.copy()\n",
    "    recs['prediction'] = 1\n",
    "    pdict |= calculate_all_metrics(test, recs, K_RECOMMENDATIONS)\n",
    "\n",
    "        # for m, f in metrics_f.items():\n",
    "        #     # Need relevancy_method=None as they are unsorted\n",
    "        #     r = f(test, recs, k=k_recs)\n",
    "        #     perfectmetrics[m+f'@{k_recs}'].append(r)\n",
    "\n",
    "    metrics.append(mdict)\n",
    "    perfectmetrics.append(pdict)\n",
    "    ok_in_a_row += 1\n",
    "    best_in_a_row += 1\n",
    "\n",
    "paths.save_dao_datum(ORG_NAME, 'max_ok_folds', str(max_ok_in_a_row[0]))\n",
    "paths.save_dao_datum(ORG_NAME, 'max_ok_folds_date', str(max_ok_in_a_row[1]))\n",
    "if max_ok_in_a_row == -1:\n",
    "    print(\"All ok :>\")\n",
    "else:\n",
    "    print(\"Max ok in a row:\", max_ok_in_a_row)"
   ]
  },
  {
   "cell_type": "markdown",
   "id": "ae9f3342",
   "metadata": {
    "papermill": {
     "duration": 0.004407,
     "end_time": "2024-09-05T09:26:48.024073",
     "exception": false,
     "start_time": "2024-09-05T09:26:48.019666",
     "status": "completed"
    },
    "tags": []
   },
   "source": [
    "### Caching these results"
   ]
  },
  {
   "cell_type": "code",
   "execution_count": 10,
   "id": "0d401f2a",
   "metadata": {
    "execution": {
     "iopub.execute_input": "2024-09-05T09:26:48.032922Z",
     "iopub.status.busy": "2024-09-05T09:26:48.032789Z",
     "iopub.status.idle": "2024-09-05T09:26:48.059040Z",
     "shell.execute_reply": "2024-09-05T09:26:48.058851Z"
    },
    "papermill": {
     "duration": 0.031463,
     "end_time": "2024-09-05T09:26:48.059658",
     "exception": false,
     "start_time": "2024-09-05T09:26:48.028195",
     "status": "completed"
    },
    "tags": []
   },
   "outputs": [
    {
     "name": "stdout",
     "output_type": "stream",
     "text": [
      "Saved dataframe into /home/daviddavo/recsys4daos/data/output/Index Coop/baseline/openpop_W-THU_normalize.parquet\n"
     ]
    },
    {
     "data": {
      "text/html": [
       "<div>\n",
       "<style scoped>\n",
       "    .dataframe tbody tr th:only-of-type {\n",
       "        vertical-align: middle;\n",
       "    }\n",
       "\n",
       "    .dataframe tbody tr th {\n",
       "        vertical-align: top;\n",
       "    }\n",
       "\n",
       "    .dataframe thead th {\n",
       "        text-align: right;\n",
       "    }\n",
       "</style>\n",
       "<table border=\"1\" class=\"dataframe\">\n",
       "  <thead>\n",
       "    <tr style=\"text-align: right;\">\n",
       "      <th></th>\n",
       "      <th>precision@1</th>\n",
       "      <th>precision@3</th>\n",
       "      <th>precision@5</th>\n",
       "      <th>precision@10</th>\n",
       "      <th>precision@15</th>\n",
       "      <th>precision@100</th>\n",
       "      <th>ndcg@1</th>\n",
       "      <th>ndcg@3</th>\n",
       "      <th>ndcg@5</th>\n",
       "      <th>ndcg@10</th>\n",
       "      <th>...</th>\n",
       "      <th>recall@10</th>\n",
       "      <th>recall@15</th>\n",
       "      <th>recall@100</th>\n",
       "      <th>r-precision@1</th>\n",
       "      <th>r-precision@3</th>\n",
       "      <th>r-precision@5</th>\n",
       "      <th>r-precision@10</th>\n",
       "      <th>r-precision@15</th>\n",
       "      <th>r-precision@100</th>\n",
       "      <th>time_eval</th>\n",
       "    </tr>\n",
       "  </thead>\n",
       "  <tbody>\n",
       "    <tr>\n",
       "      <th>count</th>\n",
       "      <td>139.000000</td>\n",
       "      <td>139.000000</td>\n",
       "      <td>139.000000</td>\n",
       "      <td>139.000000</td>\n",
       "      <td>139.000000</td>\n",
       "      <td>139.000000</td>\n",
       "      <td>139.000000</td>\n",
       "      <td>139.000000</td>\n",
       "      <td>139.000000</td>\n",
       "      <td>139.000000</td>\n",
       "      <td>...</td>\n",
       "      <td>139.000000</td>\n",
       "      <td>139.000000</td>\n",
       "      <td>139.000000</td>\n",
       "      <td>139.000000</td>\n",
       "      <td>139.000000</td>\n",
       "      <td>138.000000</td>\n",
       "      <td>138.000000</td>\n",
       "      <td>138.000000</td>\n",
       "      <td>138.000000</td>\n",
       "      <td>139.000000</td>\n",
       "    </tr>\n",
       "    <tr>\n",
       "      <th>mean</th>\n",
       "      <td>0.505517</td>\n",
       "      <td>0.335204</td>\n",
       "      <td>0.249468</td>\n",
       "      <td>0.138934</td>\n",
       "      <td>0.093654</td>\n",
       "      <td>0.014057</td>\n",
       "      <td>0.499754</td>\n",
       "      <td>0.590848</td>\n",
       "      <td>0.632189</td>\n",
       "      <td>0.649055</td>\n",
       "      <td>...</td>\n",
       "      <td>0.788153</td>\n",
       "      <td>0.794850</td>\n",
       "      <td>0.794950</td>\n",
       "      <td>0.563778</td>\n",
       "      <td>0.701208</td>\n",
       "      <td>0.739587</td>\n",
       "      <td>0.753230</td>\n",
       "      <td>0.753255</td>\n",
       "      <td>0.753255</td>\n",
       "      <td>0.116795</td>\n",
       "    </tr>\n",
       "    <tr>\n",
       "      <th>std</th>\n",
       "      <td>0.340587</td>\n",
       "      <td>0.190506</td>\n",
       "      <td>0.139919</td>\n",
       "      <td>0.082077</td>\n",
       "      <td>0.055898</td>\n",
       "      <td>0.008398</td>\n",
       "      <td>0.341224</td>\n",
       "      <td>0.349267</td>\n",
       "      <td>0.338163</td>\n",
       "      <td>0.330867</td>\n",
       "      <td>...</td>\n",
       "      <td>0.364016</td>\n",
       "      <td>0.364092</td>\n",
       "      <td>0.364147</td>\n",
       "      <td>0.334437</td>\n",
       "      <td>0.341949</td>\n",
       "      <td>0.331854</td>\n",
       "      <td>0.327313</td>\n",
       "      <td>0.327318</td>\n",
       "      <td>0.327318</td>\n",
       "      <td>0.019165</td>\n",
       "    </tr>\n",
       "    <tr>\n",
       "      <th>min</th>\n",
       "      <td>0.000000</td>\n",
       "      <td>0.000000</td>\n",
       "      <td>0.000000</td>\n",
       "      <td>0.000000</td>\n",
       "      <td>0.000000</td>\n",
       "      <td>0.000000</td>\n",
       "      <td>0.000000</td>\n",
       "      <td>0.000000</td>\n",
       "      <td>0.000000</td>\n",
       "      <td>0.000000</td>\n",
       "      <td>...</td>\n",
       "      <td>0.000000</td>\n",
       "      <td>0.000000</td>\n",
       "      <td>0.000000</td>\n",
       "      <td>0.000000</td>\n",
       "      <td>0.000000</td>\n",
       "      <td>0.000000</td>\n",
       "      <td>0.000000</td>\n",
       "      <td>0.000000</td>\n",
       "      <td>0.000000</td>\n",
       "      <td>0.067421</td>\n",
       "    </tr>\n",
       "    <tr>\n",
       "      <th>25%</th>\n",
       "      <td>0.244048</td>\n",
       "      <td>0.256360</td>\n",
       "      <td>0.200000</td>\n",
       "      <td>0.100000</td>\n",
       "      <td>0.066667</td>\n",
       "      <td>0.010000</td>\n",
       "      <td>0.235714</td>\n",
       "      <td>0.309067</td>\n",
       "      <td>0.449418</td>\n",
       "      <td>0.492532</td>\n",
       "      <td>...</td>\n",
       "      <td>0.696305</td>\n",
       "      <td>0.723767</td>\n",
       "      <td>0.723767</td>\n",
       "      <td>0.339841</td>\n",
       "      <td>0.550000</td>\n",
       "      <td>0.631250</td>\n",
       "      <td>0.669872</td>\n",
       "      <td>0.669872</td>\n",
       "      <td>0.669872</td>\n",
       "      <td>0.120335</td>\n",
       "    </tr>\n",
       "    <tr>\n",
       "      <th>50%</th>\n",
       "      <td>0.480000</td>\n",
       "      <td>0.333333</td>\n",
       "      <td>0.243478</td>\n",
       "      <td>0.138372</td>\n",
       "      <td>0.094118</td>\n",
       "      <td>0.014118</td>\n",
       "      <td>0.480000</td>\n",
       "      <td>0.683083</td>\n",
       "      <td>0.750241</td>\n",
       "      <td>0.750241</td>\n",
       "      <td>...</td>\n",
       "      <td>1.000000</td>\n",
       "      <td>1.000000</td>\n",
       "      <td>1.000000</td>\n",
       "      <td>0.607143</td>\n",
       "      <td>0.800000</td>\n",
       "      <td>0.853274</td>\n",
       "      <td>0.887745</td>\n",
       "      <td>0.887745</td>\n",
       "      <td>0.887745</td>\n",
       "      <td>0.122674</td>\n",
       "    </tr>\n",
       "    <tr>\n",
       "      <th>75%</th>\n",
       "      <td>0.788889</td>\n",
       "      <td>0.450980</td>\n",
       "      <td>0.327619</td>\n",
       "      <td>0.187083</td>\n",
       "      <td>0.125463</td>\n",
       "      <td>0.018819</td>\n",
       "      <td>0.788889</td>\n",
       "      <td>0.910413</td>\n",
       "      <td>0.915225</td>\n",
       "      <td>0.915225</td>\n",
       "      <td>...</td>\n",
       "      <td>1.000000</td>\n",
       "      <td>1.000000</td>\n",
       "      <td>1.000000</td>\n",
       "      <td>0.859127</td>\n",
       "      <td>1.000000</td>\n",
       "      <td>1.000000</td>\n",
       "      <td>1.000000</td>\n",
       "      <td>1.000000</td>\n",
       "      <td>1.000000</td>\n",
       "      <td>0.125612</td>\n",
       "    </tr>\n",
       "    <tr>\n",
       "      <th>max</th>\n",
       "      <td>1.000000</td>\n",
       "      <td>0.800000</td>\n",
       "      <td>0.576471</td>\n",
       "      <td>0.335714</td>\n",
       "      <td>0.236667</td>\n",
       "      <td>0.035500</td>\n",
       "      <td>1.000000</td>\n",
       "      <td>1.000000</td>\n",
       "      <td>1.000000</td>\n",
       "      <td>1.000000</td>\n",
       "      <td>...</td>\n",
       "      <td>1.000000</td>\n",
       "      <td>1.000000</td>\n",
       "      <td>1.000000</td>\n",
       "      <td>1.000000</td>\n",
       "      <td>1.000000</td>\n",
       "      <td>1.000000</td>\n",
       "      <td>1.000000</td>\n",
       "      <td>1.000000</td>\n",
       "      <td>1.000000</td>\n",
       "      <td>0.144458</td>\n",
       "    </tr>\n",
       "  </tbody>\n",
       "</table>\n",
       "<p>8 rows × 31 columns</p>\n",
       "</div>"
      ],
      "text/plain": [
       "       precision@1  precision@3  precision@5  precision@10  precision@15  \\\n",
       "count   139.000000   139.000000   139.000000    139.000000    139.000000   \n",
       "mean      0.505517     0.335204     0.249468      0.138934      0.093654   \n",
       "std       0.340587     0.190506     0.139919      0.082077      0.055898   \n",
       "min       0.000000     0.000000     0.000000      0.000000      0.000000   \n",
       "25%       0.244048     0.256360     0.200000      0.100000      0.066667   \n",
       "50%       0.480000     0.333333     0.243478      0.138372      0.094118   \n",
       "75%       0.788889     0.450980     0.327619      0.187083      0.125463   \n",
       "max       1.000000     0.800000     0.576471      0.335714      0.236667   \n",
       "\n",
       "       precision@100      ndcg@1      ndcg@3      ndcg@5     ndcg@10  ...  \\\n",
       "count     139.000000  139.000000  139.000000  139.000000  139.000000  ...   \n",
       "mean        0.014057    0.499754    0.590848    0.632189    0.649055  ...   \n",
       "std         0.008398    0.341224    0.349267    0.338163    0.330867  ...   \n",
       "min         0.000000    0.000000    0.000000    0.000000    0.000000  ...   \n",
       "25%         0.010000    0.235714    0.309067    0.449418    0.492532  ...   \n",
       "50%         0.014118    0.480000    0.683083    0.750241    0.750241  ...   \n",
       "75%         0.018819    0.788889    0.910413    0.915225    0.915225  ...   \n",
       "max         0.035500    1.000000    1.000000    1.000000    1.000000  ...   \n",
       "\n",
       "        recall@10   recall@15  recall@100  r-precision@1  r-precision@3  \\\n",
       "count  139.000000  139.000000  139.000000     139.000000     139.000000   \n",
       "mean     0.788153    0.794850    0.794950       0.563778       0.701208   \n",
       "std      0.364016    0.364092    0.364147       0.334437       0.341949   \n",
       "min      0.000000    0.000000    0.000000       0.000000       0.000000   \n",
       "25%      0.696305    0.723767    0.723767       0.339841       0.550000   \n",
       "50%      1.000000    1.000000    1.000000       0.607143       0.800000   \n",
       "75%      1.000000    1.000000    1.000000       0.859127       1.000000   \n",
       "max      1.000000    1.000000    1.000000       1.000000       1.000000   \n",
       "\n",
       "       r-precision@5  r-precision@10  r-precision@15  r-precision@100  \\\n",
       "count     138.000000      138.000000      138.000000       138.000000   \n",
       "mean        0.739587        0.753230        0.753255         0.753255   \n",
       "std         0.331854        0.327313        0.327318         0.327318   \n",
       "min         0.000000        0.000000        0.000000         0.000000   \n",
       "25%         0.631250        0.669872        0.669872         0.669872   \n",
       "50%         0.853274        0.887745        0.887745         0.887745   \n",
       "75%         1.000000        1.000000        1.000000         1.000000   \n",
       "max         1.000000        1.000000        1.000000         1.000000   \n",
       "\n",
       "        time_eval  \n",
       "count  139.000000  \n",
       "mean     0.116795  \n",
       "std      0.019165  \n",
       "min      0.067421  \n",
       "25%      0.120335  \n",
       "50%      0.122674  \n",
       "75%      0.125612  \n",
       "max      0.144458  \n",
       "\n",
       "[8 rows x 31 columns]"
      ]
     },
     "execution_count": 10,
     "metadata": {},
     "output_type": "execute_result"
    }
   ],
   "source": [
    "odf = pd.DataFrame(metrics).set_index(\"fold\")\n",
    "paths.save_openpop(odf, ORG_NAME, SPLITS_FREQ, SPLITS_NORMALIZE)\n",
    "odf.describe()"
   ]
  },
  {
   "cell_type": "code",
   "execution_count": 11,
   "id": "20501e65",
   "metadata": {
    "execution": {
     "iopub.execute_input": "2024-09-05T09:26:48.068921Z",
     "iopub.status.busy": "2024-09-05T09:26:48.068797Z",
     "iopub.status.idle": "2024-09-05T09:26:48.094008Z",
     "shell.execute_reply": "2024-09-05T09:26:48.093695Z"
    },
    "papermill": {
     "duration": 0.030492,
     "end_time": "2024-09-05T09:26:48.094589",
     "exception": false,
     "start_time": "2024-09-05T09:26:48.064097",
     "status": "completed"
    },
    "tags": []
   },
   "outputs": [
    {
     "name": "stdout",
     "output_type": "stream",
     "text": [
      "Saved dataframe into /home/daviddavo/recsys4daos/data/output/Index Coop/baseline/perfect_W-THU_normalize.parquet\n"
     ]
    },
    {
     "data": {
      "text/html": [
       "<div>\n",
       "<style scoped>\n",
       "    .dataframe tbody tr th:only-of-type {\n",
       "        vertical-align: middle;\n",
       "    }\n",
       "\n",
       "    .dataframe tbody tr th {\n",
       "        vertical-align: top;\n",
       "    }\n",
       "\n",
       "    .dataframe thead th {\n",
       "        text-align: right;\n",
       "    }\n",
       "</style>\n",
       "<table border=\"1\" class=\"dataframe\">\n",
       "  <thead>\n",
       "    <tr style=\"text-align: right;\">\n",
       "      <th></th>\n",
       "      <th>precision@1</th>\n",
       "      <th>precision@3</th>\n",
       "      <th>precision@5</th>\n",
       "      <th>precision@10</th>\n",
       "      <th>precision@15</th>\n",
       "      <th>precision@100</th>\n",
       "      <th>ndcg@1</th>\n",
       "      <th>ndcg@3</th>\n",
       "      <th>ndcg@5</th>\n",
       "      <th>ndcg@10</th>\n",
       "      <th>...</th>\n",
       "      <th>recall@10</th>\n",
       "      <th>recall@15</th>\n",
       "      <th>recall@100</th>\n",
       "      <th>r-precision@1</th>\n",
       "      <th>r-precision@3</th>\n",
       "      <th>r-precision@5</th>\n",
       "      <th>r-precision@10</th>\n",
       "      <th>r-precision@15</th>\n",
       "      <th>r-precision@100</th>\n",
       "      <th>time_eval</th>\n",
       "    </tr>\n",
       "  </thead>\n",
       "  <tbody>\n",
       "    <tr>\n",
       "      <th>count</th>\n",
       "      <td>139.000000</td>\n",
       "      <td>139.000000</td>\n",
       "      <td>139.000000</td>\n",
       "      <td>139.000000</td>\n",
       "      <td>139.000000</td>\n",
       "      <td>139.000000</td>\n",
       "      <td>139.000000</td>\n",
       "      <td>139.000000</td>\n",
       "      <td>139.000000</td>\n",
       "      <td>139.000000</td>\n",
       "      <td>...</td>\n",
       "      <td>139.000000</td>\n",
       "      <td>139.000000</td>\n",
       "      <td>139.000000</td>\n",
       "      <td>139.000000</td>\n",
       "      <td>139.000000</td>\n",
       "      <td>139.000000</td>\n",
       "      <td>139.000000</td>\n",
       "      <td>139.000000</td>\n",
       "      <td>139.000000</td>\n",
       "      <td>139.000000</td>\n",
       "    </tr>\n",
       "    <tr>\n",
       "      <th>mean</th>\n",
       "      <td>0.877698</td>\n",
       "      <td>0.453613</td>\n",
       "      <td>0.298449</td>\n",
       "      <td>0.154826</td>\n",
       "      <td>0.103278</td>\n",
       "      <td>0.015492</td>\n",
       "      <td>0.877698</td>\n",
       "      <td>0.877698</td>\n",
       "      <td>0.877698</td>\n",
       "      <td>0.877698</td>\n",
       "      <td>...</td>\n",
       "      <td>0.877615</td>\n",
       "      <td>0.877698</td>\n",
       "      <td>0.877698</td>\n",
       "      <td>0.674862</td>\n",
       "      <td>0.844954</td>\n",
       "      <td>0.870333</td>\n",
       "      <td>0.877615</td>\n",
       "      <td>0.877698</td>\n",
       "      <td>0.877698</td>\n",
       "      <td>0.121956</td>\n",
       "    </tr>\n",
       "    <tr>\n",
       "      <th>std</th>\n",
       "      <td>0.328819</td>\n",
       "      <td>0.223539</td>\n",
       "      <td>0.165192</td>\n",
       "      <td>0.090456</td>\n",
       "      <td>0.060426</td>\n",
       "      <td>0.009064</td>\n",
       "      <td>0.328819</td>\n",
       "      <td>0.328819</td>\n",
       "      <td>0.328819</td>\n",
       "      <td>0.328819</td>\n",
       "      <td>...</td>\n",
       "      <td>0.328789</td>\n",
       "      <td>0.328819</td>\n",
       "      <td>0.328819</td>\n",
       "      <td>0.305721</td>\n",
       "      <td>0.321120</td>\n",
       "      <td>0.326584</td>\n",
       "      <td>0.328789</td>\n",
       "      <td>0.328819</td>\n",
       "      <td>0.328819</td>\n",
       "      <td>0.019074</td>\n",
       "    </tr>\n",
       "    <tr>\n",
       "      <th>min</th>\n",
       "      <td>0.000000</td>\n",
       "      <td>0.000000</td>\n",
       "      <td>0.000000</td>\n",
       "      <td>0.000000</td>\n",
       "      <td>0.000000</td>\n",
       "      <td>0.000000</td>\n",
       "      <td>0.000000</td>\n",
       "      <td>0.000000</td>\n",
       "      <td>0.000000</td>\n",
       "      <td>0.000000</td>\n",
       "      <td>...</td>\n",
       "      <td>0.000000</td>\n",
       "      <td>0.000000</td>\n",
       "      <td>0.000000</td>\n",
       "      <td>0.000000</td>\n",
       "      <td>0.000000</td>\n",
       "      <td>0.000000</td>\n",
       "      <td>0.000000</td>\n",
       "      <td>0.000000</td>\n",
       "      <td>0.000000</td>\n",
       "      <td>0.071133</td>\n",
       "    </tr>\n",
       "    <tr>\n",
       "      <th>25%</th>\n",
       "      <td>1.000000</td>\n",
       "      <td>0.333333</td>\n",
       "      <td>0.200000</td>\n",
       "      <td>0.100000</td>\n",
       "      <td>0.066667</td>\n",
       "      <td>0.010000</td>\n",
       "      <td>1.000000</td>\n",
       "      <td>1.000000</td>\n",
       "      <td>1.000000</td>\n",
       "      <td>1.000000</td>\n",
       "      <td>...</td>\n",
       "      <td>1.000000</td>\n",
       "      <td>1.000000</td>\n",
       "      <td>1.000000</td>\n",
       "      <td>0.559375</td>\n",
       "      <td>0.901994</td>\n",
       "      <td>0.973408</td>\n",
       "      <td>1.000000</td>\n",
       "      <td>1.000000</td>\n",
       "      <td>1.000000</td>\n",
       "      <td>0.126051</td>\n",
       "    </tr>\n",
       "    <tr>\n",
       "      <th>50%</th>\n",
       "      <td>1.000000</td>\n",
       "      <td>0.470588</td>\n",
       "      <td>0.288889</td>\n",
       "      <td>0.145455</td>\n",
       "      <td>0.096970</td>\n",
       "      <td>0.014545</td>\n",
       "      <td>1.000000</td>\n",
       "      <td>1.000000</td>\n",
       "      <td>1.000000</td>\n",
       "      <td>1.000000</td>\n",
       "      <td>...</td>\n",
       "      <td>1.000000</td>\n",
       "      <td>1.000000</td>\n",
       "      <td>1.000000</td>\n",
       "      <td>0.750000</td>\n",
       "      <td>1.000000</td>\n",
       "      <td>1.000000</td>\n",
       "      <td>1.000000</td>\n",
       "      <td>1.000000</td>\n",
       "      <td>1.000000</td>\n",
       "      <td>0.127610</td>\n",
       "    </tr>\n",
       "    <tr>\n",
       "      <th>75%</th>\n",
       "      <td>1.000000</td>\n",
       "      <td>0.606061</td>\n",
       "      <td>0.400000</td>\n",
       "      <td>0.208466</td>\n",
       "      <td>0.138977</td>\n",
       "      <td>0.020847</td>\n",
       "      <td>1.000000</td>\n",
       "      <td>1.000000</td>\n",
       "      <td>1.000000</td>\n",
       "      <td>1.000000</td>\n",
       "      <td>...</td>\n",
       "      <td>1.000000</td>\n",
       "      <td>1.000000</td>\n",
       "      <td>1.000000</td>\n",
       "      <td>0.909091</td>\n",
       "      <td>1.000000</td>\n",
       "      <td>1.000000</td>\n",
       "      <td>1.000000</td>\n",
       "      <td>1.000000</td>\n",
       "      <td>1.000000</td>\n",
       "      <td>0.130021</td>\n",
       "    </tr>\n",
       "    <tr>\n",
       "      <th>max</th>\n",
       "      <td>1.000000</td>\n",
       "      <td>0.962963</td>\n",
       "      <td>0.711111</td>\n",
       "      <td>0.380000</td>\n",
       "      <td>0.253333</td>\n",
       "      <td>0.038000</td>\n",
       "      <td>1.000000</td>\n",
       "      <td>1.000000</td>\n",
       "      <td>1.000000</td>\n",
       "      <td>1.000000</td>\n",
       "      <td>...</td>\n",
       "      <td>1.000000</td>\n",
       "      <td>1.000000</td>\n",
       "      <td>1.000000</td>\n",
       "      <td>1.000000</td>\n",
       "      <td>1.000000</td>\n",
       "      <td>1.000000</td>\n",
       "      <td>1.000000</td>\n",
       "      <td>1.000000</td>\n",
       "      <td>1.000000</td>\n",
       "      <td>0.147320</td>\n",
       "    </tr>\n",
       "  </tbody>\n",
       "</table>\n",
       "<p>8 rows × 31 columns</p>\n",
       "</div>"
      ],
      "text/plain": [
       "       precision@1  precision@3  precision@5  precision@10  precision@15  \\\n",
       "count   139.000000   139.000000   139.000000    139.000000    139.000000   \n",
       "mean      0.877698     0.453613     0.298449      0.154826      0.103278   \n",
       "std       0.328819     0.223539     0.165192      0.090456      0.060426   \n",
       "min       0.000000     0.000000     0.000000      0.000000      0.000000   \n",
       "25%       1.000000     0.333333     0.200000      0.100000      0.066667   \n",
       "50%       1.000000     0.470588     0.288889      0.145455      0.096970   \n",
       "75%       1.000000     0.606061     0.400000      0.208466      0.138977   \n",
       "max       1.000000     0.962963     0.711111      0.380000      0.253333   \n",
       "\n",
       "       precision@100      ndcg@1      ndcg@3      ndcg@5     ndcg@10  ...  \\\n",
       "count     139.000000  139.000000  139.000000  139.000000  139.000000  ...   \n",
       "mean        0.015492    0.877698    0.877698    0.877698    0.877698  ...   \n",
       "std         0.009064    0.328819    0.328819    0.328819    0.328819  ...   \n",
       "min         0.000000    0.000000    0.000000    0.000000    0.000000  ...   \n",
       "25%         0.010000    1.000000    1.000000    1.000000    1.000000  ...   \n",
       "50%         0.014545    1.000000    1.000000    1.000000    1.000000  ...   \n",
       "75%         0.020847    1.000000    1.000000    1.000000    1.000000  ...   \n",
       "max         0.038000    1.000000    1.000000    1.000000    1.000000  ...   \n",
       "\n",
       "        recall@10   recall@15  recall@100  r-precision@1  r-precision@3  \\\n",
       "count  139.000000  139.000000  139.000000     139.000000     139.000000   \n",
       "mean     0.877615    0.877698    0.877698       0.674862       0.844954   \n",
       "std      0.328789    0.328819    0.328819       0.305721       0.321120   \n",
       "min      0.000000    0.000000    0.000000       0.000000       0.000000   \n",
       "25%      1.000000    1.000000    1.000000       0.559375       0.901994   \n",
       "50%      1.000000    1.000000    1.000000       0.750000       1.000000   \n",
       "75%      1.000000    1.000000    1.000000       0.909091       1.000000   \n",
       "max      1.000000    1.000000    1.000000       1.000000       1.000000   \n",
       "\n",
       "       r-precision@5  r-precision@10  r-precision@15  r-precision@100  \\\n",
       "count     139.000000      139.000000      139.000000       139.000000   \n",
       "mean        0.870333        0.877615        0.877698         0.877698   \n",
       "std         0.326584        0.328789        0.328819         0.328819   \n",
       "min         0.000000        0.000000        0.000000         0.000000   \n",
       "25%         0.973408        1.000000        1.000000         1.000000   \n",
       "50%         1.000000        1.000000        1.000000         1.000000   \n",
       "75%         1.000000        1.000000        1.000000         1.000000   \n",
       "max         1.000000        1.000000        1.000000         1.000000   \n",
       "\n",
       "        time_eval  \n",
       "count  139.000000  \n",
       "mean     0.121956  \n",
       "std      0.019074  \n",
       "min      0.071133  \n",
       "25%      0.126051  \n",
       "50%      0.127610  \n",
       "75%      0.130021  \n",
       "max      0.147320  \n",
       "\n",
       "[8 rows x 31 columns]"
      ]
     },
     "metadata": {},
     "output_type": "display_data"
    }
   ],
   "source": [
    "pdf = pd.DataFrame(perfectmetrics).set_index(\"fold\")\n",
    "cols = [ c for c in pdf.columns if not c.startswith('time_') ]\n",
    "paths.save_perfect(pdf, ORG_NAME, SPLITS_FREQ, SPLITS_NORMALIZE)\n",
    "display(pdf.describe())\n",
    "msk = (0 <= pdf[cols].min()) & (pdf[cols].max() <= 1)\n",
    "if not all(msk):\n",
    "    display(pdf.describe()[msk[~msk].index])\n",
    "assert all( msk ), \"There are metrics with wrong range\""
   ]
  },
  {
   "cell_type": "markdown",
   "id": "d27fcc3f",
   "metadata": {
    "papermill": {
     "duration": 0.00447,
     "end_time": "2024-09-05T09:26:48.103613",
     "exception": false,
     "start_time": "2024-09-05T09:26:48.099143",
     "status": "completed"
    },
    "tags": []
   },
   "source": [
    "## Plotting some graphs"
   ]
  },
  {
   "cell_type": "code",
   "execution_count": 12,
   "id": "76b74cd6",
   "metadata": {
    "execution": {
     "iopub.execute_input": "2024-09-05T09:26:48.112943Z",
     "iopub.status.busy": "2024-09-05T09:26:48.112826Z",
     "iopub.status.idle": "2024-09-05T09:26:48.422699Z",
     "shell.execute_reply": "2024-09-05T09:26:48.422438Z"
    },
    "papermill": {
     "duration": 0.315772,
     "end_time": "2024-09-05T09:26:48.423839",
     "exception": false,
     "start_time": "2024-09-05T09:26:48.108067",
     "status": "completed"
    },
    "tags": []
   },
   "outputs": [
    {
     "data": {
      "text/html": [
       "<div>\n",
       "<style scoped>\n",
       "    .dataframe tbody tr th:only-of-type {\n",
       "        vertical-align: middle;\n",
       "    }\n",
       "\n",
       "    .dataframe tbody tr th {\n",
       "        vertical-align: top;\n",
       "    }\n",
       "\n",
       "    .dataframe thead th {\n",
       "        text-align: right;\n",
       "    }\n",
       "</style>\n",
       "<table border=\"1\" class=\"dataframe\">\n",
       "  <thead>\n",
       "    <tr style=\"text-align: right;\">\n",
       "      <th></th>\n",
       "      <th>fold</th>\n",
       "      <th>precision@1</th>\n",
       "      <th>precision@3</th>\n",
       "      <th>precision@5</th>\n",
       "      <th>precision@10</th>\n",
       "      <th>precision@15</th>\n",
       "      <th>precision@100</th>\n",
       "      <th>ndcg@1</th>\n",
       "      <th>ndcg@3</th>\n",
       "      <th>ndcg@5</th>\n",
       "      <th>...</th>\n",
       "      <th>recall@100</th>\n",
       "      <th>r-precision@1</th>\n",
       "      <th>r-precision@3</th>\n",
       "      <th>r-precision@5</th>\n",
       "      <th>r-precision@10</th>\n",
       "      <th>r-precision@15</th>\n",
       "      <th>r-precision@100</th>\n",
       "      <th>time_eval</th>\n",
       "      <th>perfect precision@5</th>\n",
       "      <th>perfect precision@10</th>\n",
       "    </tr>\n",
       "  </thead>\n",
       "  <tbody>\n",
       "    <tr>\n",
       "      <th>count</th>\n",
       "      <td>139</td>\n",
       "      <td>139.000000</td>\n",
       "      <td>139.000000</td>\n",
       "      <td>139.000000</td>\n",
       "      <td>139.000000</td>\n",
       "      <td>139.000000</td>\n",
       "      <td>139.000000</td>\n",
       "      <td>139.000000</td>\n",
       "      <td>139.000000</td>\n",
       "      <td>139.000000</td>\n",
       "      <td>...</td>\n",
       "      <td>139.000000</td>\n",
       "      <td>139.000000</td>\n",
       "      <td>139.000000</td>\n",
       "      <td>138.000000</td>\n",
       "      <td>138.000000</td>\n",
       "      <td>138.000000</td>\n",
       "      <td>138.000000</td>\n",
       "      <td>139.000000</td>\n",
       "      <td>0.0</td>\n",
       "      <td>0.0</td>\n",
       "    </tr>\n",
       "    <tr>\n",
       "      <th>mean</th>\n",
       "      <td>2022-03-17 00:00:00</td>\n",
       "      <td>0.505517</td>\n",
       "      <td>0.335204</td>\n",
       "      <td>0.249468</td>\n",
       "      <td>0.138934</td>\n",
       "      <td>0.093654</td>\n",
       "      <td>0.014057</td>\n",
       "      <td>0.499754</td>\n",
       "      <td>0.590848</td>\n",
       "      <td>0.632189</td>\n",
       "      <td>...</td>\n",
       "      <td>0.794950</td>\n",
       "      <td>0.563778</td>\n",
       "      <td>0.701208</td>\n",
       "      <td>0.739587</td>\n",
       "      <td>0.753230</td>\n",
       "      <td>0.753255</td>\n",
       "      <td>0.753255</td>\n",
       "      <td>0.116795</td>\n",
       "      <td>NaN</td>\n",
       "      <td>NaN</td>\n",
       "    </tr>\n",
       "    <tr>\n",
       "      <th>min</th>\n",
       "      <td>2020-11-19 00:00:00</td>\n",
       "      <td>0.000000</td>\n",
       "      <td>0.000000</td>\n",
       "      <td>0.000000</td>\n",
       "      <td>0.000000</td>\n",
       "      <td>0.000000</td>\n",
       "      <td>0.000000</td>\n",
       "      <td>0.000000</td>\n",
       "      <td>0.000000</td>\n",
       "      <td>0.000000</td>\n",
       "      <td>...</td>\n",
       "      <td>0.000000</td>\n",
       "      <td>0.000000</td>\n",
       "      <td>0.000000</td>\n",
       "      <td>0.000000</td>\n",
       "      <td>0.000000</td>\n",
       "      <td>0.000000</td>\n",
       "      <td>0.000000</td>\n",
       "      <td>0.067421</td>\n",
       "      <td>NaN</td>\n",
       "      <td>NaN</td>\n",
       "    </tr>\n",
       "    <tr>\n",
       "      <th>25%</th>\n",
       "      <td>2021-07-18 12:00:00</td>\n",
       "      <td>0.244048</td>\n",
       "      <td>0.256360</td>\n",
       "      <td>0.200000</td>\n",
       "      <td>0.100000</td>\n",
       "      <td>0.066667</td>\n",
       "      <td>0.010000</td>\n",
       "      <td>0.235714</td>\n",
       "      <td>0.309067</td>\n",
       "      <td>0.449418</td>\n",
       "      <td>...</td>\n",
       "      <td>0.723767</td>\n",
       "      <td>0.339841</td>\n",
       "      <td>0.550000</td>\n",
       "      <td>0.631250</td>\n",
       "      <td>0.669872</td>\n",
       "      <td>0.669872</td>\n",
       "      <td>0.669872</td>\n",
       "      <td>0.120335</td>\n",
       "      <td>NaN</td>\n",
       "      <td>NaN</td>\n",
       "    </tr>\n",
       "    <tr>\n",
       "      <th>50%</th>\n",
       "      <td>2022-03-17 00:00:00</td>\n",
       "      <td>0.480000</td>\n",
       "      <td>0.333333</td>\n",
       "      <td>0.243478</td>\n",
       "      <td>0.138372</td>\n",
       "      <td>0.094118</td>\n",
       "      <td>0.014118</td>\n",
       "      <td>0.480000</td>\n",
       "      <td>0.683083</td>\n",
       "      <td>0.750241</td>\n",
       "      <td>...</td>\n",
       "      <td>1.000000</td>\n",
       "      <td>0.607143</td>\n",
       "      <td>0.800000</td>\n",
       "      <td>0.853274</td>\n",
       "      <td>0.887745</td>\n",
       "      <td>0.887745</td>\n",
       "      <td>0.887745</td>\n",
       "      <td>0.122674</td>\n",
       "      <td>NaN</td>\n",
       "      <td>NaN</td>\n",
       "    </tr>\n",
       "    <tr>\n",
       "      <th>75%</th>\n",
       "      <td>2022-11-13 12:00:00</td>\n",
       "      <td>0.788889</td>\n",
       "      <td>0.450980</td>\n",
       "      <td>0.327619</td>\n",
       "      <td>0.187083</td>\n",
       "      <td>0.125463</td>\n",
       "      <td>0.018819</td>\n",
       "      <td>0.788889</td>\n",
       "      <td>0.910413</td>\n",
       "      <td>0.915225</td>\n",
       "      <td>...</td>\n",
       "      <td>1.000000</td>\n",
       "      <td>0.859127</td>\n",
       "      <td>1.000000</td>\n",
       "      <td>1.000000</td>\n",
       "      <td>1.000000</td>\n",
       "      <td>1.000000</td>\n",
       "      <td>1.000000</td>\n",
       "      <td>0.125612</td>\n",
       "      <td>NaN</td>\n",
       "      <td>NaN</td>\n",
       "    </tr>\n",
       "    <tr>\n",
       "      <th>max</th>\n",
       "      <td>2023-07-13 00:00:00</td>\n",
       "      <td>1.000000</td>\n",
       "      <td>0.800000</td>\n",
       "      <td>0.576471</td>\n",
       "      <td>0.335714</td>\n",
       "      <td>0.236667</td>\n",
       "      <td>0.035500</td>\n",
       "      <td>1.000000</td>\n",
       "      <td>1.000000</td>\n",
       "      <td>1.000000</td>\n",
       "      <td>...</td>\n",
       "      <td>1.000000</td>\n",
       "      <td>1.000000</td>\n",
       "      <td>1.000000</td>\n",
       "      <td>1.000000</td>\n",
       "      <td>1.000000</td>\n",
       "      <td>1.000000</td>\n",
       "      <td>1.000000</td>\n",
       "      <td>0.144458</td>\n",
       "      <td>NaN</td>\n",
       "      <td>NaN</td>\n",
       "    </tr>\n",
       "    <tr>\n",
       "      <th>std</th>\n",
       "      <td>NaN</td>\n",
       "      <td>0.340587</td>\n",
       "      <td>0.190506</td>\n",
       "      <td>0.139919</td>\n",
       "      <td>0.082077</td>\n",
       "      <td>0.055898</td>\n",
       "      <td>0.008398</td>\n",
       "      <td>0.341224</td>\n",
       "      <td>0.349267</td>\n",
       "      <td>0.338163</td>\n",
       "      <td>...</td>\n",
       "      <td>0.364147</td>\n",
       "      <td>0.334437</td>\n",
       "      <td>0.341949</td>\n",
       "      <td>0.331854</td>\n",
       "      <td>0.327313</td>\n",
       "      <td>0.327318</td>\n",
       "      <td>0.327318</td>\n",
       "      <td>0.019165</td>\n",
       "      <td>NaN</td>\n",
       "      <td>NaN</td>\n",
       "    </tr>\n",
       "  </tbody>\n",
       "</table>\n",
       "<p>8 rows × 34 columns</p>\n",
       "</div>"
      ],
      "text/plain": [
       "                      fold  precision@1  precision@3  precision@5  \\\n",
       "count                  139   139.000000   139.000000   139.000000   \n",
       "mean   2022-03-17 00:00:00     0.505517     0.335204     0.249468   \n",
       "min    2020-11-19 00:00:00     0.000000     0.000000     0.000000   \n",
       "25%    2021-07-18 12:00:00     0.244048     0.256360     0.200000   \n",
       "50%    2022-03-17 00:00:00     0.480000     0.333333     0.243478   \n",
       "75%    2022-11-13 12:00:00     0.788889     0.450980     0.327619   \n",
       "max    2023-07-13 00:00:00     1.000000     0.800000     0.576471   \n",
       "std                    NaN     0.340587     0.190506     0.139919   \n",
       "\n",
       "       precision@10  precision@15  precision@100      ndcg@1      ndcg@3  \\\n",
       "count    139.000000    139.000000     139.000000  139.000000  139.000000   \n",
       "mean       0.138934      0.093654       0.014057    0.499754    0.590848   \n",
       "min        0.000000      0.000000       0.000000    0.000000    0.000000   \n",
       "25%        0.100000      0.066667       0.010000    0.235714    0.309067   \n",
       "50%        0.138372      0.094118       0.014118    0.480000    0.683083   \n",
       "75%        0.187083      0.125463       0.018819    0.788889    0.910413   \n",
       "max        0.335714      0.236667       0.035500    1.000000    1.000000   \n",
       "std        0.082077      0.055898       0.008398    0.341224    0.349267   \n",
       "\n",
       "           ndcg@5  ...  recall@100  r-precision@1  r-precision@3  \\\n",
       "count  139.000000  ...  139.000000     139.000000     139.000000   \n",
       "mean     0.632189  ...    0.794950       0.563778       0.701208   \n",
       "min      0.000000  ...    0.000000       0.000000       0.000000   \n",
       "25%      0.449418  ...    0.723767       0.339841       0.550000   \n",
       "50%      0.750241  ...    1.000000       0.607143       0.800000   \n",
       "75%      0.915225  ...    1.000000       0.859127       1.000000   \n",
       "max      1.000000  ...    1.000000       1.000000       1.000000   \n",
       "std      0.338163  ...    0.364147       0.334437       0.341949   \n",
       "\n",
       "       r-precision@5  r-precision@10  r-precision@15  r-precision@100  \\\n",
       "count     138.000000      138.000000      138.000000       138.000000   \n",
       "mean        0.739587        0.753230        0.753255         0.753255   \n",
       "min         0.000000        0.000000        0.000000         0.000000   \n",
       "25%         0.631250        0.669872        0.669872         0.669872   \n",
       "50%         0.853274        0.887745        0.887745         0.887745   \n",
       "75%         1.000000        1.000000        1.000000         1.000000   \n",
       "max         1.000000        1.000000        1.000000         1.000000   \n",
       "std         0.331854        0.327313        0.327318         0.327318   \n",
       "\n",
       "        time_eval  perfect precision@5  perfect precision@10  \n",
       "count  139.000000                  0.0                   0.0  \n",
       "mean     0.116795                  NaN                   NaN  \n",
       "min      0.067421                  NaN                   NaN  \n",
       "25%      0.120335                  NaN                   NaN  \n",
       "50%      0.122674                  NaN                   NaN  \n",
       "75%      0.125612                  NaN                   NaN  \n",
       "max      0.144458                  NaN                   NaN  \n",
       "std      0.019165                  NaN                   NaN  \n",
       "\n",
       "[8 rows x 34 columns]"
      ]
     },
     "execution_count": 12,
     "metadata": {},
     "output_type": "execute_result"
    },
    {
     "data": {
      "image/png": "[encoded data removed]",
      "text/plain": [
       "<Figure size 640x480 with 1 Axes>"
      ]
     },
     "metadata": {},
     "output_type": "display_data"
    }
   ],
   "source": [
    "mdf = pd.DataFrame(metrics)\n",
    "mdf['perfect precision@5'] = pdf['precision@5']\n",
    "mdf['perfect precision@10'] = pdf['precision@10']\n",
    "mdf[['precision@5', 'perfect precision@5', 'precision@10', 'perfect precision@10']].plot(title='Evaluación modelo baseline MP')\n",
    "mdf.describe()"
   ]
  },
  {
   "cell_type": "code",
   "execution_count": 13,
   "id": "611d681c",
   "metadata": {
    "execution": {
     "iopub.execute_input": "2024-09-05T09:26:48.435141Z",
     "iopub.status.busy": "2024-09-05T09:26:48.435039Z",
     "iopub.status.idle": "2024-09-05T09:26:48.459524Z",
     "shell.execute_reply": "2024-09-05T09:26:48.459338Z"
    },
    "papermill": {
     "duration": 0.030821,
     "end_time": "2024-09-05T09:26:48.460187",
     "exception": false,
     "start_time": "2024-09-05T09:26:48.429366",
     "status": "completed"
    },
    "tags": []
   },
   "outputs": [
    {
     "data": {
      "text/html": [
       "<div>\n",
       "<style scoped>\n",
       "    .dataframe tbody tr th:only-of-type {\n",
       "        vertical-align: middle;\n",
       "    }\n",
       "\n",
       "    .dataframe tbody tr th {\n",
       "        vertical-align: top;\n",
       "    }\n",
       "\n",
       "    .dataframe thead th {\n",
       "        text-align: right;\n",
       "    }\n",
       "</style>\n",
       "<table border=\"1\" class=\"dataframe\">\n",
       "  <thead>\n",
       "    <tr style=\"text-align: right;\">\n",
       "      <th></th>\n",
       "      <th>fold</th>\n",
       "      <th>precision@1</th>\n",
       "      <th>precision@3</th>\n",
       "      <th>precision@5</th>\n",
       "      <th>precision@10</th>\n",
       "      <th>precision@15</th>\n",
       "      <th>precision@100</th>\n",
       "      <th>ndcg@1</th>\n",
       "      <th>ndcg@3</th>\n",
       "      <th>ndcg@5</th>\n",
       "      <th>...</th>\n",
       "      <th>recall@100</th>\n",
       "      <th>r-precision@1</th>\n",
       "      <th>r-precision@3</th>\n",
       "      <th>r-precision@5</th>\n",
       "      <th>r-precision@10</th>\n",
       "      <th>r-precision@15</th>\n",
       "      <th>r-precision@100</th>\n",
       "      <th>time_eval</th>\n",
       "      <th>perfect precision@5</th>\n",
       "      <th>perfect precision@10</th>\n",
       "    </tr>\n",
       "  </thead>\n",
       "  <tbody>\n",
       "    <tr>\n",
       "      <th>count</th>\n",
       "      <td>10</td>\n",
       "      <td>10.000000</td>\n",
       "      <td>10.000000</td>\n",
       "      <td>10.000000</td>\n",
       "      <td>10.000000</td>\n",
       "      <td>10.000000</td>\n",
       "      <td>10.000000</td>\n",
       "      <td>10.000000</td>\n",
       "      <td>10.000000</td>\n",
       "      <td>10.000000</td>\n",
       "      <td>...</td>\n",
       "      <td>10.000000</td>\n",
       "      <td>10.000000</td>\n",
       "      <td>10.000000</td>\n",
       "      <td>9.000000</td>\n",
       "      <td>9.000000</td>\n",
       "      <td>9.000000</td>\n",
       "      <td>9.000000</td>\n",
       "      <td>10.000000</td>\n",
       "      <td>0.0</td>\n",
       "      <td>0.0</td>\n",
       "    </tr>\n",
       "    <tr>\n",
       "      <th>mean</th>\n",
       "      <td>2023-06-11 12:00:00</td>\n",
       "      <td>0.370357</td>\n",
       "      <td>0.274101</td>\n",
       "      <td>0.264175</td>\n",
       "      <td>0.157337</td>\n",
       "      <td>0.113225</td>\n",
       "      <td>0.017109</td>\n",
       "      <td>0.345357</td>\n",
       "      <td>0.418703</td>\n",
       "      <td>0.519397</td>\n",
       "      <td>...</td>\n",
       "      <td>0.816101</td>\n",
       "      <td>0.559375</td>\n",
       "      <td>0.614516</td>\n",
       "      <td>0.752302</td>\n",
       "      <td>0.788589</td>\n",
       "      <td>0.788589</td>\n",
       "      <td>0.788589</td>\n",
       "      <td>0.121238</td>\n",
       "      <td>NaN</td>\n",
       "      <td>NaN</td>\n",
       "    </tr>\n",
       "    <tr>\n",
       "      <th>min</th>\n",
       "      <td>2023-05-11 00:00:00</td>\n",
       "      <td>0.000000</td>\n",
       "      <td>0.000000</td>\n",
       "      <td>0.057143</td>\n",
       "      <td>0.028571</td>\n",
       "      <td>0.019048</td>\n",
       "      <td>0.002857</td>\n",
       "      <td>0.000000</td>\n",
       "      <td>0.000000</td>\n",
       "      <td>0.110529</td>\n",
       "      <td>...</td>\n",
       "      <td>0.285714</td>\n",
       "      <td>0.000000</td>\n",
       "      <td>0.000000</td>\n",
       "      <td>0.444444</td>\n",
       "      <td>0.555556</td>\n",
       "      <td>0.555556</td>\n",
       "      <td>0.555556</td>\n",
       "      <td>0.109754</td>\n",
       "      <td>NaN</td>\n",
       "      <td>NaN</td>\n",
       "    </tr>\n",
       "    <tr>\n",
       "      <th>25%</th>\n",
       "      <td>2023-05-26 18:00:00</td>\n",
       "      <td>0.135417</td>\n",
       "      <td>0.165476</td>\n",
       "      <td>0.162500</td>\n",
       "      <td>0.100000</td>\n",
       "      <td>0.066667</td>\n",
       "      <td>0.010000</td>\n",
       "      <td>0.135417</td>\n",
       "      <td>0.299823</td>\n",
       "      <td>0.351431</td>\n",
       "      <td>...</td>\n",
       "      <td>0.778125</td>\n",
       "      <td>0.298611</td>\n",
       "      <td>0.458661</td>\n",
       "      <td>0.666667</td>\n",
       "      <td>0.666667</td>\n",
       "      <td>0.666667</td>\n",
       "      <td>0.666667</td>\n",
       "      <td>0.120988</td>\n",
       "      <td>NaN</td>\n",
       "      <td>NaN</td>\n",
       "    </tr>\n",
       "    <tr>\n",
       "      <th>50%</th>\n",
       "      <td>2023-06-11 12:00:00</td>\n",
       "      <td>0.364286</td>\n",
       "      <td>0.288889</td>\n",
       "      <td>0.240000</td>\n",
       "      <td>0.138750</td>\n",
       "      <td>0.102222</td>\n",
       "      <td>0.015333</td>\n",
       "      <td>0.364286</td>\n",
       "      <td>0.447400</td>\n",
       "      <td>0.595726</td>\n",
       "      <td>...</td>\n",
       "      <td>0.984375</td>\n",
       "      <td>0.614583</td>\n",
       "      <td>0.677083</td>\n",
       "      <td>0.812500</td>\n",
       "      <td>0.812500</td>\n",
       "      <td>0.812500</td>\n",
       "      <td>0.812500</td>\n",
       "      <td>0.121856</td>\n",
       "      <td>NaN</td>\n",
       "      <td>NaN</td>\n",
       "    </tr>\n",
       "    <tr>\n",
       "      <th>75%</th>\n",
       "      <td>2023-06-27 06:00:00</td>\n",
       "      <td>0.625000</td>\n",
       "      <td>0.333333</td>\n",
       "      <td>0.368333</td>\n",
       "      <td>0.229167</td>\n",
       "      <td>0.172917</td>\n",
       "      <td>0.026875</td>\n",
       "      <td>0.500000</td>\n",
       "      <td>0.604109</td>\n",
       "      <td>0.688310</td>\n",
       "      <td>...</td>\n",
       "      <td>1.000000</td>\n",
       "      <td>0.780382</td>\n",
       "      <td>0.843750</td>\n",
       "      <td>0.875000</td>\n",
       "      <td>0.888889</td>\n",
       "      <td>0.888889</td>\n",
       "      <td>0.888889</td>\n",
       "      <td>0.123213</td>\n",
       "      <td>NaN</td>\n",
       "      <td>NaN</td>\n",
       "    </tr>\n",
       "    <tr>\n",
       "      <th>max</th>\n",
       "      <td>2023-07-13 00:00:00</td>\n",
       "      <td>0.750000</td>\n",
       "      <td>0.703704</td>\n",
       "      <td>0.555556</td>\n",
       "      <td>0.330000</td>\n",
       "      <td>0.220000</td>\n",
       "      <td>0.033000</td>\n",
       "      <td>0.666667</td>\n",
       "      <td>0.783678</td>\n",
       "      <td>0.880388</td>\n",
       "      <td>...</td>\n",
       "      <td>1.000000</td>\n",
       "      <td>1.000000</td>\n",
       "      <td>1.000000</td>\n",
       "      <td>1.000000</td>\n",
       "      <td>1.000000</td>\n",
       "      <td>1.000000</td>\n",
       "      <td>1.000000</td>\n",
       "      <td>0.124990</td>\n",
       "      <td>NaN</td>\n",
       "      <td>NaN</td>\n",
       "    </tr>\n",
       "    <tr>\n",
       "      <th>std</th>\n",
       "      <td>NaN</td>\n",
       "      <td>0.270148</td>\n",
       "      <td>0.190374</td>\n",
       "      <td>0.155557</td>\n",
       "      <td>0.099971</td>\n",
       "      <td>0.069938</td>\n",
       "      <td>0.010620</td>\n",
       "      <td>0.241120</td>\n",
       "      <td>0.248304</td>\n",
       "      <td>0.250222</td>\n",
       "      <td>...</td>\n",
       "      <td>0.291247</td>\n",
       "      <td>0.352690</td>\n",
       "      <td>0.316696</td>\n",
       "      <td>0.187998</td>\n",
       "      <td>0.159546</td>\n",
       "      <td>0.159546</td>\n",
       "      <td>0.159546</td>\n",
       "      <td>0.004310</td>\n",
       "      <td>NaN</td>\n",
       "      <td>NaN</td>\n",
       "    </tr>\n",
       "  </tbody>\n",
       "</table>\n",
       "<p>8 rows × 34 columns</p>\n",
       "</div>"
      ],
      "text/plain": [
       "                      fold  precision@1  precision@3  precision@5  \\\n",
       "count                   10    10.000000    10.000000    10.000000   \n",
       "mean   2023-06-11 12:00:00     0.370357     0.274101     0.264175   \n",
       "min    2023-05-11 00:00:00     0.000000     0.000000     0.057143   \n",
       "25%    2023-05-26 18:00:00     0.135417     0.165476     0.162500   \n",
       "50%    2023-06-11 12:00:00     0.364286     0.288889     0.240000   \n",
       "75%    2023-06-27 06:00:00     0.625000     0.333333     0.368333   \n",
       "max    2023-07-13 00:00:00     0.750000     0.703704     0.555556   \n",
       "std                    NaN     0.270148     0.190374     0.155557   \n",
       "\n",
       "       precision@10  precision@15  precision@100     ndcg@1     ndcg@3  \\\n",
       "count     10.000000     10.000000      10.000000  10.000000  10.000000   \n",
       "mean       0.157337      0.113225       0.017109   0.345357   0.418703   \n",
       "min        0.028571      0.019048       0.002857   0.000000   0.000000   \n",
       "25%        0.100000      0.066667       0.010000   0.135417   0.299823   \n",
       "50%        0.138750      0.102222       0.015333   0.364286   0.447400   \n",
       "75%        0.229167      0.172917       0.026875   0.500000   0.604109   \n",
       "max        0.330000      0.220000       0.033000   0.666667   0.783678   \n",
       "std        0.099971      0.069938       0.010620   0.241120   0.248304   \n",
       "\n",
       "          ndcg@5  ...  recall@100  r-precision@1  r-precision@3  \\\n",
       "count  10.000000  ...   10.000000      10.000000      10.000000   \n",
       "mean    0.519397  ...    0.816101       0.559375       0.614516   \n",
       "min     0.110529  ...    0.285714       0.000000       0.000000   \n",
       "25%     0.351431  ...    0.778125       0.298611       0.458661   \n",
       "50%     0.595726  ...    0.984375       0.614583       0.677083   \n",
       "75%     0.688310  ...    1.000000       0.780382       0.843750   \n",
       "max     0.880388  ...    1.000000       1.000000       1.000000   \n",
       "std     0.250222  ...    0.291247       0.352690       0.316696   \n",
       "\n",
       "       r-precision@5  r-precision@10  r-precision@15  r-precision@100  \\\n",
       "count       9.000000        9.000000        9.000000         9.000000   \n",
       "mean        0.752302        0.788589        0.788589         0.788589   \n",
       "min         0.444444        0.555556        0.555556         0.555556   \n",
       "25%         0.666667        0.666667        0.666667         0.666667   \n",
       "50%         0.812500        0.812500        0.812500         0.812500   \n",
       "75%         0.875000        0.888889        0.888889         0.888889   \n",
       "max         1.000000        1.000000        1.000000         1.000000   \n",
       "std         0.187998        0.159546        0.159546         0.159546   \n",
       "\n",
       "       time_eval  perfect precision@5  perfect precision@10  \n",
       "count  10.000000                  0.0                   0.0  \n",
       "mean    0.121238                  NaN                   NaN  \n",
       "min     0.109754                  NaN                   NaN  \n",
       "25%     0.120988                  NaN                   NaN  \n",
       "50%     0.121856                  NaN                   NaN  \n",
       "75%     0.123213                  NaN                   NaN  \n",
       "max     0.124990                  NaN                   NaN  \n",
       "std     0.004310                  NaN                   NaN  \n",
       "\n",
       "[8 rows x 34 columns]"
      ]
     },
     "execution_count": 13,
     "metadata": {},
     "output_type": "execute_result"
    }
   ],
   "source": [
    "mdf[-LAST_FOLDS:].describe()"
   ]
  },
  {
   "cell_type": "code",
   "execution_count": null,
   "id": "4d52570b",
   "metadata": {
    "papermill": {
     "duration": 0.00497,
     "end_time": "2024-09-05T09:26:48.470263",
     "exception": false,
     "start_time": "2024-09-05T09:26:48.465293",
     "status": "completed"
    },
    "tags": []
   },
   "outputs": [],
   "source": []
  }
 ],
 "metadata": {
  "kernelspec": {
   "display_name": "Python 3 (ipykernel)",
   "language": "python",
   "name": "python3"
  },
  "language_info": {
   "codemirror_mode": {
    "name": "ipython",
    "version": 3
   },
   "file_extension": ".py",
   "mimetype": "text/x-python",
   "name": "python",
   "nbconvert_exporter": "python",
   "pygments_lexer": "ipython3",
   "version": "3.11.6"
  },
  "papermill": {
   "default_parameters": {},
   "duration": 40.988538,
   "end_time": "2024-09-05T09:26:49.494251",
   "environment_variables": {},
   "exception": null,
   "input_path": "10_baseline.ipynb",
   "output_path": "../nbout/Index Coop/10_baseline.ipynb",
   "parameters": {
    "EXECUTION_ID": "2024-09-04T10:00",
    "LAST_FOLDS": 10,
    "LAST_FOLD_DATE_STR": "2023-07-13",
    "ORG_NAME": "Index Coop",
    "SPLITS_FREQ": "W-THU",
    "SPLITS_NORMALIZE": true
   },
   "start_time": "2024-09-05T09:26:08.505713",
   "version": "2.6.0"
  },
  "widgets": {
   "application/vnd.jupyter.widget-state+json": {
    "state": {
     "1485aa73863d40a88bedc163018cdc4d": {
      "model_module": "@jupyter-widgets/base",
      "model_module_version": "2.0.0",
      "model_name": "LayoutModel",
      "state": {
       "_model_module": "@jupyter-widgets/base",
       "_model_module_version": "2.0.0",
       "_model_name": "LayoutModel",
       "_view_count": null,
       "_view_module": "@jupyter-widgets/base",
       "_view_module_version": "2.0.0",
       "_view_name": "LayoutView",
       "align_content": null,
       "align_items": null,
       "align_self": null,
       "border_bottom": null,
       "border_left": null,
       "border_right": null,
       "border_top": null,
       "bottom": null,
       "display": null,
       "flex": null,
       "flex_flow": null,
       "grid_area": null,
       "grid_auto_columns": null,
       "grid_auto_flow": null,
       "grid_auto_rows": null,
       "grid_column": null,
       "grid_gap": null,
       "grid_row": null,
       "grid_template_areas": null,
       "grid_template_columns": null,
       "grid_template_rows": null,
       "height": null,
       "justify_content": null,
       "justify_items": null,
       "left": null,
       "margin": null,
       "max_height": null,
       "max_width": null,
       "min_height": null,
       "min_width": null,
       "object_fit": null,
       "object_position": null,
       "order": null,
       "overflow": null,
       "padding": null,
       "right": null,
       "top": null,
       "visibility": null,
       "width": null
      }
     },
     "1fa311981a224466894859dd89c6b138": {
      "model_module": "@jupyter-widgets/controls",
      "model_module_version": "2.0.0",
      "model_name": "FloatProgressModel",
      "state": {
       "_dom_classes": [],
       "_model_module": "@jupyter-widgets/controls",
       "_model_module_version": "2.0.0",
       "_model_name": "FloatProgressModel",
       "_view_count": null,
       "_view_module": "@jupyter-widgets/controls",
       "_view_module_version": "2.0.0",
       "_view_name": "ProgressView",
       "bar_style": "success",
       "description": "",
       "description_allow_html": false,
       "layout": "IPY_MODEL_9235de0a4b7d46ad8b3c518d2f9794df",
       "max": 139.0,
       "min": 0.0,
       "orientation": "horizontal",
       "style": "IPY_MODEL_f521545e89454c829ee3a82ff9137cff",
       "tabbable": null,
       "tooltip": null,
       "value": 139.0
      }
     },
     "35073766fbe94b3f9612774548c01a2f": {
      "model_module": "@jupyter-widgets/controls",
      "model_module_version": "2.0.0",
      "model_name": "HTMLModel",
      "state": {
       "_dom_classes": [],
       "_model_module": "@jupyter-widgets/controls",
       "_model_module_version": "2.0.0",
       "_model_name": "HTMLModel",
       "_view_count": null,
       "_view_module": "@jupyter-widgets/controls",
       "_view_module_version": "2.0.0",
       "_view_name": "HTMLView",
       "description": "",
       "description_allow_html": false,
       "layout": "IPY_MODEL_1485aa73863d40a88bedc163018cdc4d",
       "placeholder": "​",
       "style": "IPY_MODEL_dcd410a43ab142319ca84bb6a088e1a8",
       "tabbable": null,
       "tooltip": null,
       "value": "100%"
      }
     },
     "3b5ecd8bbd1c453ca9174971c6d2ab18": {
      "model_module": "@jupyter-widgets/base",
      "model_module_version": "2.0.0",
      "model_name": "LayoutModel",
      "state": {
       "_model_module": "@jupyter-widgets/base",
       "_model_module_version": "2.0.0",
       "_model_name": "LayoutModel",
       "_view_count": null,
       "_view_module": "@jupyter-widgets/base",
       "_view_module_version": "2.0.0",
       "_view_name": "LayoutView",
       "align_content": null,
       "align_items": null,
       "align_self": null,
       "border_bottom": null,
       "border_left": null,
       "border_right": null,
       "border_top": null,
       "bottom": null,
       "display": null,
       "flex": null,
       "flex_flow": null,
       "grid_area": null,
       "grid_auto_columns": null,
       "grid_auto_flow": null,
       "grid_auto_rows": null,
       "grid_column": null,
       "grid_gap": null,
       "grid_row": null,
       "grid_template_areas": null,
       "grid_template_columns": null,
       "grid_template_rows": null,
       "height": null,
       "justify_content": null,
       "justify_items": null,
       "left": null,
       "margin": null,
       "max_height": null,
       "max_width": null,
       "min_height": null,
       "min_width": null,
       "object_fit": null,
       "object_position": null,
       "order": null,
       "overflow": null,
       "padding": null,
       "right": null,
       "top": null,
       "visibility": null,
       "width": null
      }
     },
     "4fd6e6f0a1d54fb098d7bf437185df62": {
      "model_module": "@jupyter-widgets/controls",
      "model_module_version": "2.0.0",
      "model_name": "HTMLModel",
      "state": {
       "_dom_classes": [],
       "_model_module": "@jupyter-widgets/controls",
       "_model_module_version": "2.0.0",
       "_model_name": "HTMLModel",
       "_view_count": null,
       "_view_module": "@jupyter-widgets/controls",
       "_view_module_version": "2.0.0",
       "_view_name": "HTMLView",
       "description": "",
       "description_allow_html": false,
       "layout": "IPY_MODEL_3b5ecd8bbd1c453ca9174971c6d2ab18",
       "placeholder": "​",
       "style": "IPY_MODEL_64ef9d7d2cb2455ba6a19281eebca762",
       "tabbable": null,
       "tooltip": null,
       "value": " 139/139 [00:33&lt;00:00,  3.92it/s]"
      }
     },
     "61035f6e4a2b4b7992470370f79097e7": {
      "model_module": "@jupyter-widgets/controls",
      "model_module_version": "2.0.0",
      "model_name": "HBoxModel",
      "state": {
       "_dom_classes": [],
       "_model_module": "@jupyter-widgets/controls",
       "_model_module_version": "2.0.0",
       "_model_name": "HBoxModel",
       "_view_count": null,
       "_view_module": "@jupyter-widgets/controls",
       "_view_module_version": "2.0.0",
       "_view_name": "HBoxView",
       "box_style": "",
       "children": [
        "IPY_MODEL_35073766fbe94b3f9612774548c01a2f",
        "IPY_MODEL_1fa311981a224466894859dd89c6b138",
        "IPY_MODEL_4fd6e6f0a1d54fb098d7bf437185df62"
       ],
       "layout": "IPY_MODEL_7385417ab73748f994e07f9d835a838c",
       "tabbable": null,
       "tooltip": null
      }
     },
     "64ef9d7d2cb2455ba6a19281eebca762": {
      "model_module": "@jupyter-widgets/controls",
      "model_module_version": "2.0.0",
      "model_name": "HTMLStyleModel",
      "state": {
       "_model_module": "@jupyter-widgets/controls",
       "_model_module_version": "2.0.0",
       "_model_name": "HTMLStyleModel",
       "_view_count": null,
       "_view_module": "@jupyter-widgets/base",
       "_view_module_version": "2.0.0",
       "_view_name": "StyleView",
       "background": null,
       "description_width": "",
       "font_size": null,
       "text_color": null
      }
     },
     "7385417ab73748f994e07f9d835a838c": {
      "model_module": "@jupyter-widgets/base",
      "model_module_version": "2.0.0",
      "model_name": "LayoutModel",
      "state": {
       "_model_module": "@jupyter-widgets/base",
       "_model_module_version": "2.0.0",
       "_model_name": "LayoutModel",
       "_view_count": null,
       "_view_module": "@jupyter-widgets/base",
       "_view_module_version": "2.0.0",
       "_view_name": "LayoutView",
       "align_content": null,
       "align_items": null,
       "align_self": null,
       "border_bottom": null,
       "border_left": null,
       "border_right": null,
       "border_top": null,
       "bottom": null,
       "display": null,
       "flex": null,
       "flex_flow": null,
       "grid_area": null,
       "grid_auto_columns": null,
       "grid_auto_flow": null,
       "grid_auto_rows": null,
       "grid_column": null,
       "grid_gap": null,
       "grid_row": null,
       "grid_template_areas": null,
       "grid_template_columns": null,
       "grid_template_rows": null,
       "height": null,
       "justify_content": null,
       "justify_items": null,
       "left": null,
       "margin": null,
       "max_height": null,
       "max_width": null,
       "min_height": null,
       "min_width": null,
       "object_fit": null,
       "object_position": null,
       "order": null,
       "overflow": null,
       "padding": null,
       "right": null,
       "top": null,
       "visibility": null,
       "width": null
      }
     },
     "9235de0a4b7d46ad8b3c518d2f9794df": {
      "model_module": "@jupyter-widgets/base",
      "model_module_version": "2.0.0",
      "model_name": "LayoutModel",
      "state": {
       "_model_module": "@jupyter-widgets/base",
       "_model_module_version": "2.0.0",
       "_model_name": "LayoutModel",
       "_view_count": null,
       "_view_module": "@jupyter-widgets/base",
       "_view_module_version": "2.0.0",
       "_view_name": "LayoutView",
       "align_content": null,
       "align_items": null,
       "align_self": null,
       "border_bottom": null,
       "border_left": null,
       "border_right": null,
       "border_top": null,
       "bottom": null,
       "display": null,
       "flex": null,
       "flex_flow": null,
       "grid_area": null,
       "grid_auto_columns": null,
       "grid_auto_flow": null,
       "grid_auto_rows": null,
       "grid_column": null,
       "grid_gap": null,
       "grid_row": null,
       "grid_template_areas": null,
       "grid_template_columns": null,
       "grid_template_rows": null,
       "height": null,
       "justify_content": null,
       "justify_items": null,
       "left": null,
       "margin": null,
       "max_height": null,
       "max_width": null,
       "min_height": null,
       "min_width": null,
       "object_fit": null,
       "object_position": null,
       "order": null,
       "overflow": null,
       "padding": null,
       "right": null,
       "top": null,
       "visibility": null,
       "width": null
      }
     },
     "dcd410a43ab142319ca84bb6a088e1a8": {
      "model_module": "@jupyter-widgets/controls",
      "model_module_version": "2.0.0",
      "model_name": "HTMLStyleModel",
      "state": {
       "_model_module": "@jupyter-widgets/controls",
       "_model_module_version": "2.0.0",
       "_model_name": "HTMLStyleModel",
       "_view_count": null,
       "_view_module": "@jupyter-widgets/base",
       "_view_module_version": "2.0.0",
       "_view_name": "StyleView",
       "background": null,
       "description_width": "",
       "font_size": null,
       "text_color": null
      }
     },
     "f521545e89454c829ee3a82ff9137cff": {
      "model_module": "@jupyter-widgets/controls",
      "model_module_version": "2.0.0",
      "model_name": "ProgressStyleModel",
      "state": {
       "_model_module": "@jupyter-widgets/controls",
       "_model_module_version": "2.0.0",
       "_model_name": "ProgressStyleModel",
       "_view_count": null,
       "_view_module": "@jupyter-widgets/base",
       "_view_module_version": "2.0.0",
       "_view_name": "StyleView",
       "bar_color": null,
       "description_width": ""
      }
     }
    },
    "version_major": 2,
    "version_minor": 0
   }
  }
 },
 "nbformat": 4,
 "nbformat_minor": 5
}