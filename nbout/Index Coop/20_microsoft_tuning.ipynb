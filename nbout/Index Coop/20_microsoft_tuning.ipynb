{
 "cells": [
  {
   "cell_type": "code",
   "execution_count": 1,
   "id": "727abed0",
   "metadata": {
    "editable": true,
    "execution": {
     "iopub.execute_input": "2024-09-05T09:27:12.950876Z",
     "iopub.status.busy": "2024-09-05T09:27:12.950765Z",
     "iopub.status.idle": "2024-09-05T09:27:15.784760Z",
     "shell.execute_reply": "2024-09-05T09:27:15.784491Z"
    },
    "papermill": {
     "duration": 2.842551,
     "end_time": "2024-09-05T09:27:15.785541",
     "exception": false,
     "start_time": "2024-09-05T09:27:12.942990",
     "status": "completed"
    },
    "slideshow": {
     "slide_type": ""
    },
    "tags": []
   },
   "outputs": [
    {
     "name": "stderr",
     "output_type": "stream",
     "text": [
      "/tmp/ipykernel_3818450/1371776918.py:11: TqdmExperimentalWarning: Using `tqdm.autonotebook.tqdm` in notebook mode. Use `tqdm.tqdm` instead to force console mode (e.g. in jupyter console)\n",
      "  from tqdm.autonotebook import tqdm\n"
     ]
    },
    {
     "name": "stdout",
     "output_type": "stream",
     "text": [
      "Ignoring warnings\n",
      "3.11.6 (main, Jun 24 2024, 07:45:26) [GCC 11.4.0]\n",
      "recommenders: 1.2.0\n",
      "ray: 2.30.0\n",
      "tensorflow: 2.16.1\n"
     ]
    }
   ],
   "source": [
    "from typing import List, Dict, Any\n",
    "\n",
    "from pathlib import Path\n",
    "import os, sys\n",
    "import time\n",
    "import datetime as dt\n",
    "import itertools as it\n",
    "\n",
    "import numpy as np\n",
    "import pandas as pd\n",
    "from tqdm.autonotebook import tqdm\n",
    "import ray\n",
    "from ray import train, tune\n",
    "import ipywidgets as widgets\n",
    "\n",
    "from recsys4daos.model_selection import cvtt_open\n",
    "from recsys4daos.datasets import to_microsoft, filter_window_size\n",
    "from recsys4daos.models import LightGCNCustom\n",
    "from recsys4daos.utils import Timer\n",
    "import recsys4daos.utils.notebooks as nbu\n",
    "\n",
    "import recommenders\n",
    "if recommenders.__version__ == '1.2.0':\n",
    "    print(\"Ignoring warnings\")\n",
    "    import warnings\n",
    "    warnings.simplefilter(action='ignore', category=FutureWarning)\n",
    "\n",
    "import paths\n",
    "\n",
    "nbu.print_versions('ray', 'tensorflow')\n",
    "\n",
    "%load_ext autoreload\n",
    "%autoreload 2"
   ]
  },
  {
   "cell_type": "code",
   "execution_count": 2,
   "id": "fdf10201",
   "metadata": {
    "editable": true,
    "execution": {
     "iopub.execute_input": "2024-09-05T09:27:15.791332Z",
     "iopub.status.busy": "2024-09-05T09:27:15.791072Z",
     "iopub.status.idle": "2024-09-05T09:27:15.812406Z",
     "shell.execute_reply": "2024-09-05T09:27:15.812150Z"
    },
    "papermill": {
     "duration": 0.024847,
     "end_time": "2024-09-05T09:27:15.813000",
     "exception": false,
     "start_time": "2024-09-05T09:27:15.788153",
     "status": "completed"
    },
    "slideshow": {
     "slide_type": ""
    },
    "tags": [
     "parameters"
    ]
   },
   "outputs": [],
   "source": [
    "# Others config\n",
    "SEED: int = 57\n",
    "RAY_RESULTS_PATH: Path = '~/ray_results3.11'\n",
    "\n",
    "# Dataset splits config\n",
    "ORG_NAME = 'Decentraland'\n",
    "SPLITS_FREQ = 'W-THU'  # Split weekly\n",
    "LAST_FOLDS = 10  # Use just last 10 splits\n",
    "SPLITS_NORMALIZE = True\n",
    "LAST_FOLD_DATE_STR: str = '2023-07-13'\n",
    "\n",
    "# Training config\n",
    "MAX_EPOCHS: int = 200\n",
    "EPOCHS_PER_ITER: int = 5\n",
    "SAMPLES_PER_SPLIT: int = 100\n",
    "MAX_TIME_TOTAL_TRAIN: int = 300\n",
    "OPTIM_METRIC: str = 'map@10'\n",
    "\n",
    "# Search space config\n",
    "MAX_EMBEDDING_DIM = 1024\n",
    "MIN_BATCH_SIZE = 6\n",
    "MAX_BATCH_SIZE = 10 # 2**10\n",
    "MIN_LR = 1e-4\n",
    "# WINDOW_SIZES = ['7d', '14d', '21d', '30d', '60d', '90d', '10YE']\n",
    "WINDOW_SIZES = ['21d', '30d', '60d', '90d', '10YE']\n",
    "GPUS = 16\n",
    "\n",
    "# Eval config\n",
    "K_RECOMMENDATIONS: List[int] = [1,3,5,10,15,100]\n",
    "METRICS: List[str] = [\"recall\", \"ndcg\", \"precision\", \"map\"]"
   ]
  },
  {
   "cell_type": "code",
   "execution_count": 3,
   "id": "b27497f8",
   "metadata": {
    "execution": {
     "iopub.execute_input": "2024-09-05T09:27:15.818025Z",
     "iopub.status.busy": "2024-09-05T09:27:15.817931Z",
     "iopub.status.idle": "2024-09-05T09:27:15.836095Z",
     "shell.execute_reply": "2024-09-05T09:27:15.835875Z"
    },
    "papermill": {
     "duration": 0.021526,
     "end_time": "2024-09-05T09:27:15.836863",
     "exception": false,
     "start_time": "2024-09-05T09:27:15.815337",
     "status": "completed"
    },
    "tags": [
     "injected-parameters"
    ]
   },
   "outputs": [],
   "source": [
    "# Parameters\n",
    "EXECUTION_ID = \"2024-09-04T10:00\"\n",
    "ORG_NAME = \"Index Coop\"\n",
    "SPLITS_FREQ = \"W-THU\"\n",
    "LAST_FOLDS = 10\n",
    "SPLITS_NORMALIZE = True\n",
    "LAST_FOLD_DATE_STR = \"2023-07-13\"\n"
   ]
  },
  {
   "cell_type": "code",
   "execution_count": 4,
   "id": "bf31969b",
   "metadata": {
    "execution": {
     "iopub.execute_input": "2024-09-05T09:27:15.841749Z",
     "iopub.status.busy": "2024-09-05T09:27:15.841638Z",
     "iopub.status.idle": "2024-09-05T09:27:15.858209Z",
     "shell.execute_reply": "2024-09-05T09:27:15.857993Z"
    },
    "papermill": {
     "duration": 0.019909,
     "end_time": "2024-09-05T09:27:15.858977",
     "exception": false,
     "start_time": "2024-09-05T09:27:15.839068",
     "status": "completed"
    },
    "tags": []
   },
   "outputs": [],
   "source": [
    "RAY_RESULTS_PATH = Path(RAY_RESULTS_PATH).expanduser()"
   ]
  },
  {
   "cell_type": "markdown",
   "id": "b15bebc9",
   "metadata": {
    "papermill": {
     "duration": 0.002203,
     "end_time": "2024-09-05T09:27:15.863445",
     "exception": false,
     "start_time": "2024-09-05T09:27:15.861242",
     "status": "completed"
    },
    "tags": []
   },
   "source": [
    "## Obtain dataset"
   ]
  },
  {
   "cell_type": "code",
   "execution_count": 5,
   "id": "1ebb17c6",
   "metadata": {
    "execution": {
     "iopub.execute_input": "2024-09-05T09:27:15.868131Z",
     "iopub.status.busy": "2024-09-05T09:27:15.868019Z",
     "iopub.status.idle": "2024-09-05T09:27:16.013183Z",
     "shell.execute_reply": "2024-09-05T09:27:16.011778Z"
    },
    "papermill": {
     "duration": 0.151458,
     "end_time": "2024-09-05T09:27:16.016998",
     "exception": false,
     "start_time": "2024-09-05T09:27:15.865540",
     "status": "completed"
    },
    "tags": []
   },
   "outputs": [
    {
     "name": "stdout",
     "output_type": "stream",
     "text": [
      "/home/daviddavo/recsys4daos/notebooks\r\n"
     ]
    }
   ],
   "source": [
    "!pwd"
   ]
  },
  {
   "cell_type": "code",
   "execution_count": 6,
   "id": "e638353a",
   "metadata": {
    "execution": {
     "iopub.execute_input": "2024-09-05T09:27:16.028181Z",
     "iopub.status.busy": "2024-09-05T09:27:16.028042Z",
     "iopub.status.idle": "2024-09-05T09:27:16.094742Z",
     "shell.execute_reply": "2024-09-05T09:27:16.094357Z"
    },
    "papermill": {
     "duration": 0.070841,
     "end_time": "2024-09-05T09:27:16.095564",
     "exception": false,
     "start_time": "2024-09-05T09:27:16.024723",
     "status": "completed"
    },
    "tags": []
   },
   "outputs": [
    {
     "name": "stdout",
     "output_type": "stream",
     "text": [
      "<class 'pandas.core.frame.DataFrame'>\n",
      "RangeIndex: 1052 entries, 0 to 1051\n",
      "Data columns (total 6 columns):\n",
      " #   Column             Non-Null Count  Dtype         \n",
      "---  ------             --------------  -----         \n",
      " 0   id                 1052 non-null   object        \n",
      " 1   author             1052 non-null   object        \n",
      " 2   date               1052 non-null   datetime64[us]\n",
      " 3   start              1052 non-null   datetime64[us]\n",
      " 4   end                1052 non-null   datetime64[us]\n",
      " 5   platform_proposal  1052 non-null   object        \n",
      "dtypes: datetime64[us](3), object(3)\n",
      "memory usage: 49.4+ KB\n",
      "None\n",
      "<class 'pandas.core.frame.DataFrame'>\n",
      "RangeIndex: 24031 entries, 0 to 24030\n",
      "Data columns (total 4 columns):\n",
      " #   Column    Non-Null Count  Dtype         \n",
      "---  ------    --------------  -----         \n",
      " 0   id        24031 non-null  object        \n",
      " 1   proposal  24031 non-null  object        \n",
      " 2   voter     24031 non-null  object        \n",
      " 3   date      24031 non-null  datetime64[us]\n",
      "dtypes: datetime64[us](1), object(3)\n",
      "memory usage: 751.1+ KB\n",
      "None\n"
     ]
    }
   ],
   "source": [
    "dfp = paths.load_proposals(ORG_NAME)\n",
    "dfv = paths.load_votes(ORG_NAME)\n",
    "\n",
    "print(dfp.info())\n",
    "print(dfv.info())"
   ]
  },
  {
   "cell_type": "markdown",
   "id": "1cc44277",
   "metadata": {
    "papermill": {
     "duration": 0.002378,
     "end_time": "2024-09-05T09:27:16.100966",
     "exception": false,
     "start_time": "2024-09-05T09:27:16.098588",
     "status": "completed"
    },
    "tags": []
   },
   "source": [
    "## Split data"
   ]
  },
  {
   "cell_type": "code",
   "execution_count": 7,
   "id": "acfe75d4",
   "metadata": {
    "execution": {
     "iopub.execute_input": "2024-09-05T09:27:16.106256Z",
     "iopub.status.busy": "2024-09-05T09:27:16.106141Z",
     "iopub.status.idle": "2024-09-05T09:27:16.134520Z",
     "shell.execute_reply": "2024-09-05T09:27:16.134290Z"
    },
    "papermill": {
     "duration": 0.031795,
     "end_time": "2024-09-05T09:27:16.135137",
     "exception": false,
     "start_time": "2024-09-05T09:27:16.103342",
     "status": "completed"
    },
    "tags": []
   },
   "outputs": [
    {
     "data": {
      "text/html": [
       "<div>\n",
       "<style scoped>\n",
       "    .dataframe tbody tr th:only-of-type {\n",
       "        vertical-align: middle;\n",
       "    }\n",
       "\n",
       "    .dataframe tbody tr th {\n",
       "        vertical-align: top;\n",
       "    }\n",
       "\n",
       "    .dataframe thead th {\n",
       "        text-align: right;\n",
       "    }\n",
       "</style>\n",
       "<table border=\"1\" class=\"dataframe\">\n",
       "  <thead>\n",
       "    <tr style=\"text-align: right;\">\n",
       "      <th></th>\n",
       "      <th>userID</th>\n",
       "      <th>itemID</th>\n",
       "      <th>timestamp</th>\n",
       "      <th>rating</th>\n",
       "    </tr>\n",
       "  </thead>\n",
       "  <tbody>\n",
       "    <tr>\n",
       "      <th>0</th>\n",
       "      <td>0xf3862af14cbb4d9b781e41a3d4d74e7c2cdb73e2</td>\n",
       "      <td>e03585d8-6ab1-52d0-8d05-6b20a2f457b9</td>\n",
       "      <td>2020-11-18 20:56:32</td>\n",
       "      <td>1</td>\n",
       "    </tr>\n",
       "    <tr>\n",
       "      <th>1</th>\n",
       "      <td>0xba71dfe1801d125ba201e8bebf7f0b9764d4b19b</td>\n",
       "      <td>e03585d8-6ab1-52d0-8d05-6b20a2f457b9</td>\n",
       "      <td>2020-11-18 21:23:13</td>\n",
       "      <td>1</td>\n",
       "    </tr>\n",
       "    <tr>\n",
       "      <th>2</th>\n",
       "      <td>0x042a135bd342910ad7f67bbda74e3fd4125d1272</td>\n",
       "      <td>e03585d8-6ab1-52d0-8d05-6b20a2f457b9</td>\n",
       "      <td>2020-11-18 21:23:55</td>\n",
       "      <td>1</td>\n",
       "    </tr>\n",
       "    <tr>\n",
       "      <th>3</th>\n",
       "      <td>0x21f3ef56cd8bafd9448515e4508077c16ecc1f35</td>\n",
       "      <td>e03585d8-6ab1-52d0-8d05-6b20a2f457b9</td>\n",
       "      <td>2020-11-18 21:42:37</td>\n",
       "      <td>1</td>\n",
       "    </tr>\n",
       "    <tr>\n",
       "      <th>4</th>\n",
       "      <td>0x506f92308f4d9a2f764d80c68ebc50830a2f7a11</td>\n",
       "      <td>e03585d8-6ab1-52d0-8d05-6b20a2f457b9</td>\n",
       "      <td>2020-11-18 21:45:10</td>\n",
       "      <td>1</td>\n",
       "    </tr>\n",
       "    <tr>\n",
       "      <th>...</th>\n",
       "      <td>...</td>\n",
       "      <td>...</td>\n",
       "      <td>...</td>\n",
       "      <td>...</td>\n",
       "    </tr>\n",
       "    <tr>\n",
       "      <th>24026</th>\n",
       "      <td>0x9ec14a04cb7822b56bef9d46357604b6f3a673cc</td>\n",
       "      <td>a3350420-69f0-5ca3-98a5-ebe60952bed1</td>\n",
       "      <td>2023-07-18 05:34:29</td>\n",
       "      <td>1</td>\n",
       "    </tr>\n",
       "    <tr>\n",
       "      <th>24027</th>\n",
       "      <td>0x53c40473dcdfd927c4201ccfe24e314a7d7c3584</td>\n",
       "      <td>a3350420-69f0-5ca3-98a5-ebe60952bed1</td>\n",
       "      <td>2023-07-18 18:42:04</td>\n",
       "      <td>1</td>\n",
       "    </tr>\n",
       "    <tr>\n",
       "      <th>24028</th>\n",
       "      <td>0x197008a1d3e26a97a19f46c121482969cef95b7d</td>\n",
       "      <td>a3350420-69f0-5ca3-98a5-ebe60952bed1</td>\n",
       "      <td>2023-07-18 23:58:06</td>\n",
       "      <td>1</td>\n",
       "    </tr>\n",
       "    <tr>\n",
       "      <th>24029</th>\n",
       "      <td>0x24749aedf18208ab74a8110e07e820286bb5acf8</td>\n",
       "      <td>a3350420-69f0-5ca3-98a5-ebe60952bed1</td>\n",
       "      <td>2023-07-19 00:31:54</td>\n",
       "      <td>1</td>\n",
       "    </tr>\n",
       "    <tr>\n",
       "      <th>24030</th>\n",
       "      <td>0x7f248e4301f5a16b2a8289989584a509f7157845</td>\n",
       "      <td>a3350420-69f0-5ca3-98a5-ebe60952bed1</td>\n",
       "      <td>2023-07-19 14:30:54</td>\n",
       "      <td>1</td>\n",
       "    </tr>\n",
       "  </tbody>\n",
       "</table>\n",
       "<p>24031 rows × 4 columns</p>\n",
       "</div>"
      ],
      "text/plain": [
       "                                           userID  \\\n",
       "0      0xf3862af14cbb4d9b781e41a3d4d74e7c2cdb73e2   \n",
       "1      0xba71dfe1801d125ba201e8bebf7f0b9764d4b19b   \n",
       "2      0x042a135bd342910ad7f67bbda74e3fd4125d1272   \n",
       "3      0x21f3ef56cd8bafd9448515e4508077c16ecc1f35   \n",
       "4      0x506f92308f4d9a2f764d80c68ebc50830a2f7a11   \n",
       "...                                           ...   \n",
       "24026  0x9ec14a04cb7822b56bef9d46357604b6f3a673cc   \n",
       "24027  0x53c40473dcdfd927c4201ccfe24e314a7d7c3584   \n",
       "24028  0x197008a1d3e26a97a19f46c121482969cef95b7d   \n",
       "24029  0x24749aedf18208ab74a8110e07e820286bb5acf8   \n",
       "24030  0x7f248e4301f5a16b2a8289989584a509f7157845   \n",
       "\n",
       "                                     itemID           timestamp  rating  \n",
       "0      e03585d8-6ab1-52d0-8d05-6b20a2f457b9 2020-11-18 20:56:32       1  \n",
       "1      e03585d8-6ab1-52d0-8d05-6b20a2f457b9 2020-11-18 21:23:13       1  \n",
       "2      e03585d8-6ab1-52d0-8d05-6b20a2f457b9 2020-11-18 21:23:55       1  \n",
       "3      e03585d8-6ab1-52d0-8d05-6b20a2f457b9 2020-11-18 21:42:37       1  \n",
       "4      e03585d8-6ab1-52d0-8d05-6b20a2f457b9 2020-11-18 21:45:10       1  \n",
       "...                                     ...                 ...     ...  \n",
       "24026  a3350420-69f0-5ca3-98a5-ebe60952bed1 2023-07-18 05:34:29       1  \n",
       "24027  a3350420-69f0-5ca3-98a5-ebe60952bed1 2023-07-18 18:42:04       1  \n",
       "24028  a3350420-69f0-5ca3-98a5-ebe60952bed1 2023-07-18 23:58:06       1  \n",
       "24029  a3350420-69f0-5ca3-98a5-ebe60952bed1 2023-07-19 00:31:54       1  \n",
       "24030  a3350420-69f0-5ca3-98a5-ebe60952bed1 2023-07-19 14:30:54       1  \n",
       "\n",
       "[24031 rows x 4 columns]"
      ]
     },
     "execution_count": 7,
     "metadata": {},
     "output_type": "execute_result"
    }
   ],
   "source": [
    "df = to_microsoft(dfv)\n",
    "df"
   ]
  },
  {
   "cell_type": "code",
   "execution_count": 8,
   "id": "c83bdec3",
   "metadata": {
    "editable": true,
    "execution": {
     "iopub.execute_input": "2024-09-05T09:27:16.141116Z",
     "iopub.status.busy": "2024-09-05T09:27:16.140955Z",
     "iopub.status.idle": "2024-09-05T09:27:17.021630Z",
     "shell.execute_reply": "2024-09-05T09:27:17.021339Z"
    },
    "papermill": {
     "duration": 0.884439,
     "end_time": "2024-09-05T09:27:17.022315",
     "exception": false,
     "start_time": "2024-09-05T09:27:16.137876",
     "status": "completed"
    },
    "slideshow": {
     "slide_type": ""
    },
    "tags": []
   },
   "outputs": [
    {
     "name": "stdout",
     "output_type": "stream",
     "text": [
      "139 folds\n",
      "Using 10 folds, from 2023-05-11T00:00:00 to 2023-07-13T00:00:00\n"
     ]
    }
   ],
   "source": [
    "# USE INTEGER INDEX\n",
    "# folds_dict = list(cvtt_open(df, SPLITS_FREQ, dfp, remove_not_in_train_col='userID'))\n",
    "# use_folds_idx = range(len(folds_dict))[-LAST_FOLDS:]\n",
    "\n",
    "# USE TIMESTAMP INDEX\n",
    "# Note: NO need to used OrderedDict, dict is ordered since Python 3.6\n",
    "folds_dict = { f.end.isoformat():f for f in cvtt_open(df, SPLITS_FREQ, dfp, remove_not_in_train_col='userID', last_fold=LAST_FOLD_DATE_STR) }\n",
    "use_folds_idx = list(folds_dict.keys())[-LAST_FOLDS:]\n",
    "\n",
    "print(len(folds_dict), \"folds\")\n",
    "print(\"Using\", len(use_folds_idx), \"folds, from\", use_folds_idx[0], \"to\", use_folds_idx[-1])"
   ]
  },
  {
   "cell_type": "markdown",
   "id": "7b828641",
   "metadata": {
    "papermill": {
     "duration": 0.002575,
     "end_time": "2024-09-05T09:27:17.027485",
     "exception": false,
     "start_time": "2024-09-05T09:27:17.024910",
     "status": "completed"
    },
    "tags": []
   },
   "source": [
    "## Making some checks"
   ]
  },
  {
   "cell_type": "markdown",
   "id": "c81c9cc2",
   "metadata": {
    "papermill": {
     "duration": 0.002516,
     "end_time": "2024-09-05T09:27:17.032775",
     "exception": false,
     "start_time": "2024-09-05T09:27:17.030259",
     "status": "completed"
    },
    "tags": []
   },
   "source": [
    "### Checking that all the folds have open proposals"
   ]
  },
  {
   "cell_type": "code",
   "execution_count": 9,
   "id": "acf31dfe",
   "metadata": {
    "execution": {
     "iopub.execute_input": "2024-09-05T09:27:17.038111Z",
     "iopub.status.busy": "2024-09-05T09:27:17.038005Z",
     "iopub.status.idle": "2024-09-05T09:27:17.059495Z",
     "shell.execute_reply": "2024-09-05T09:27:17.059290Z"
    },
    "papermill": {
     "duration": 0.025032,
     "end_time": "2024-09-05T09:27:17.060203",
     "exception": false,
     "start_time": "2024-09-05T09:27:17.035171",
     "status": "completed"
    },
    "tags": []
   },
   "outputs": [],
   "source": [
    "_nok_folds = []\n",
    "for idx in use_folds_idx:\n",
    "    if len(folds_dict[idx].open_proposals) == 0:\n",
    "        _nok_folds.append(idx)\n",
    "\n",
    "if _nok_folds:\n",
    "    raise ValueError(f\"Folds {', '.join(_nok_folds)} don't have any open proposals\")"
   ]
  },
  {
   "cell_type": "markdown",
   "id": "3077adfe",
   "metadata": {
    "papermill": {
     "duration": 0.002464,
     "end_time": "2024-09-05T09:27:17.065090",
     "exception": false,
     "start_time": "2024-09-05T09:27:17.062626",
     "status": "completed"
    },
    "tags": []
   },
   "source": [
    "### Checking correct hparams"
   ]
  },
  {
   "cell_type": "code",
   "execution_count": 10,
   "id": "f688142e",
   "metadata": {
    "execution": {
     "iopub.execute_input": "2024-09-05T09:27:17.070454Z",
     "iopub.status.busy": "2024-09-05T09:27:17.070333Z",
     "iopub.status.idle": "2024-09-05T09:27:17.115859Z",
     "shell.execute_reply": "2024-09-05T09:27:17.115552Z"
    },
    "papermill": {
     "duration": 0.048886,
     "end_time": "2024-09-05T09:27:17.116419",
     "exception": false,
     "start_time": "2024-09-05T09:27:17.067533",
     "status": "completed"
    },
    "tags": []
   },
   "outputs": [
    {
     "name": "stdout",
     "output_type": "stream",
     "text": [
      "All folds ok!\n"
     ]
    },
    {
     "name": "stderr",
     "output_type": "stream",
     "text": [
      "On fold 2023-05-11T00:00:00 WINDOW_SIZE should be at least 10YE: 2866 > 1024\n",
      "On fold 2023-05-18T00:00:00 WINDOW_SIZE should be at least 10YE: 2866 > 1024\n",
      "On fold 2023-05-25T00:00:00 WINDOW_SIZE should be at least 10YE: 2866 > 1024\n",
      "On fold 2023-06-01T00:00:00 WINDOW_SIZE should be at least 10YE: 2867 > 1024\n",
      "On fold 2023-06-08T00:00:00 WINDOW_SIZE should be at least 10YE: 2867 > 1024\n",
      "On fold 2023-06-15T00:00:00 WINDOW_SIZE should be at least 10YE: 2868 > 1024\n",
      "On fold 2023-06-22T00:00:00 WINDOW_SIZE should be at least 10YE: 2868 > 1024\n",
      "On fold 2023-06-29T00:00:00 WINDOW_SIZE should be at least 10YE: 2869 > 1024\n",
      "On fold 2023-07-06T00:00:00 WINDOW_SIZE should be at least 10YE: 2870 > 1024\n",
      "On fold 2023-07-13T00:00:00 WINDOW_SIZE should be at least 10YE: 2871 > 1024\n"
     ]
    }
   ],
   "source": [
    "now = dt.datetime.now()\n",
    "max_bs = 2**MAX_BATCH_SIZE\n",
    "\n",
    "all_ok = True\n",
    "for idx in use_folds_idx:\n",
    "    valid_ws = WINDOW_SIZES[0]\n",
    "    for ws in sorted(WINDOW_SIZES, key=lambda ws: now + pd.tseries.frequencies.to_offset(ws)):\n",
    "        nusers = filter_window_size(folds_dict[idx].train, folds_dict[idx].end, ws)['userID'].nunique()\n",
    "        if nusers > max_bs:\n",
    "            print(f'On fold {idx} WINDOW_SIZE should be at least {ws}: {nusers} > {max_bs}', file=sys.stderr)\n",
    "            break\n",
    "\n",
    "print(\"All folds ok!\")"
   ]
  },
  {
   "cell_type": "markdown",
   "id": "9560abbf",
   "metadata": {
    "editable": true,
    "papermill": {
     "duration": 0.002675,
     "end_time": "2024-09-05T09:27:17.121799",
     "exception": false,
     "start_time": "2024-09-05T09:27:17.119124",
     "status": "completed"
    },
    "slideshow": {
     "slide_type": ""
    },
    "tags": []
   },
   "source": [
    "## Testing model"
   ]
  },
  {
   "cell_type": "code",
   "execution_count": 11,
   "id": "caee44d7",
   "metadata": {
    "execution": {
     "iopub.execute_input": "2024-09-05T09:27:17.127269Z",
     "iopub.status.busy": "2024-09-05T09:27:17.127184Z",
     "iopub.status.idle": "2024-09-05T09:27:17.147912Z",
     "shell.execute_reply": "2024-09-05T09:27:17.147608Z"
    },
    "papermill": {
     "duration": 0.024414,
     "end_time": "2024-09-05T09:27:17.148714",
     "exception": false,
     "start_time": "2024-09-05T09:27:17.124300",
     "status": "completed"
    },
    "tags": []
   },
   "outputs": [],
   "source": [
    "from recommenders.models.deeprec.DataModel.ImplicitCF import ImplicitCF\n",
    "from recommenders.models.deeprec.deeprec_utils import prepare_hparams"
   ]
  },
  {
   "cell_type": "code",
   "execution_count": 12,
   "id": "452ffd32",
   "metadata": {
    "editable": true,
    "execution": {
     "iopub.execute_input": "2024-09-05T09:27:17.155818Z",
     "iopub.status.busy": "2024-09-05T09:27:17.155676Z",
     "iopub.status.idle": "2024-09-05T09:27:17.174878Z",
     "shell.execute_reply": "2024-09-05T09:27:17.174651Z"
    },
    "papermill": {
     "duration": 0.02311,
     "end_time": "2024-09-05T09:27:17.175541",
     "exception": false,
     "start_time": "2024-09-05T09:27:17.152431",
     "status": "completed"
    },
    "slideshow": {
     "slide_type": ""
    },
    "tags": []
   },
   "outputs": [],
   "source": [
    "# hparams = prepare_hparams(\n",
    "#     model_type='lightgcn',\n",
    "#     n_layers=3,\n",
    "#     batch_size=512,\n",
    "#     embed_size=64,\n",
    "#     epochs=2,\n",
    "#     learning_rate=0.001,\n",
    "#     decay=0.001,\n",
    "#     metrics=[\"recall\", \"ndcg\", \"precision\", \"map\"],\n",
    "#     eval_epoch=2,\n",
    "#     top_k=K_RECOMMENDATIONS[0],\n",
    "#     save_model=False,\n",
    "#     MODEL_DIR='./data/model/lightgcn/',\n",
    "# )\n",
    "# dataloader = ImplicitCF(train=folds_dict[use_folds_idx[0]].train, test=folds_dict[use_folds_idx[0]].test, seed=SEED)\n",
    "# print(\"items:\", dataloader.n_items, \"user:\", dataloader.n_users)\n",
    "# model = LightGCNCustom(data=dataloader, hparams=hparams)"
   ]
  },
  {
   "cell_type": "code",
   "execution_count": 13,
   "id": "31938f94",
   "metadata": {
    "execution": {
     "iopub.execute_input": "2024-09-05T09:27:17.181324Z",
     "iopub.status.busy": "2024-09-05T09:27:17.181168Z",
     "iopub.status.idle": "2024-09-05T09:27:17.198856Z",
     "shell.execute_reply": "2024-09-05T09:27:17.198591Z"
    },
    "papermill": {
     "duration": 0.02146,
     "end_time": "2024-09-05T09:27:17.199589",
     "exception": false,
     "start_time": "2024-09-05T09:27:17.178129",
     "status": "completed"
    },
    "tags": []
   },
   "outputs": [],
   "source": [
    "# model.fit()\n",
    "# model.run_eval()"
   ]
  },
  {
   "cell_type": "code",
   "execution_count": 14,
   "id": "b8ca72c9",
   "metadata": {
    "editable": true,
    "execution": {
     "iopub.execute_input": "2024-09-05T09:27:17.205229Z",
     "iopub.status.busy": "2024-09-05T09:27:17.205138Z",
     "iopub.status.idle": "2024-09-05T09:27:17.222146Z",
     "shell.execute_reply": "2024-09-05T09:27:17.221955Z"
    },
    "papermill": {
     "duration": 0.020637,
     "end_time": "2024-09-05T09:27:17.222797",
     "exception": false,
     "start_time": "2024-09-05T09:27:17.202160",
     "status": "completed"
    },
    "slideshow": {
     "slide_type": ""
    },
    "tags": []
   },
   "outputs": [],
   "source": [
    "# model.recommend_k_items(\n",
    "#     dataloader.test, \n",
    "#     top_k=3, \n",
    "#     use_id=True, \n",
    "#     remove_seen=True, \n",
    "#     recommend_from=folds_dict[use_folds_idx[0]].open_proposals\n",
    "# )"
   ]
  },
  {
   "cell_type": "markdown",
   "id": "c8db5ef7",
   "metadata": {
    "papermill": {
     "duration": 0.002634,
     "end_time": "2024-09-05T09:27:17.228100",
     "exception": false,
     "start_time": "2024-09-05T09:27:17.225466",
     "status": "completed"
    },
    "tags": []
   },
   "source": [
    "## Defining trainable"
   ]
  },
  {
   "cell_type": "code",
   "execution_count": 15,
   "id": "b871f3fb",
   "metadata": {
    "execution": {
     "iopub.execute_input": "2024-09-05T09:27:17.233863Z",
     "iopub.status.busy": "2024-09-05T09:27:17.233747Z",
     "iopub.status.idle": "2024-09-05T09:27:17.250320Z",
     "shell.execute_reply": "2024-09-05T09:27:17.250122Z"
    },
    "papermill": {
     "duration": 0.020378,
     "end_time": "2024-09-05T09:27:17.251016",
     "exception": false,
     "start_time": "2024-09-05T09:27:17.230638",
     "status": "completed"
    },
    "tags": []
   },
   "outputs": [],
   "source": [
    "from recsys4daos.evaluation import calculate_all_metrics"
   ]
  },
  {
   "cell_type": "code",
   "execution_count": 16,
   "id": "df187c8a",
   "metadata": {
    "editable": true,
    "execution": {
     "iopub.execute_input": "2024-09-05T09:27:17.257344Z",
     "iopub.status.busy": "2024-09-05T09:27:17.257252Z",
     "iopub.status.idle": "2024-09-05T09:27:17.277422Z",
     "shell.execute_reply": "2024-09-05T09:27:17.277223Z"
    },
    "papermill": {
     "duration": 0.024125,
     "end_time": "2024-09-05T09:27:17.278014",
     "exception": false,
     "start_time": "2024-09-05T09:27:17.253889",
     "status": "completed"
    },
    "slideshow": {
     "slide_type": ""
    },
    "tags": []
   },
   "outputs": [],
   "source": [
    "class TrainLightGCN(tune.Trainable):\n",
    "    def setup(\n",
    "        self,\n",
    "        config: Dict[str, Any],\n",
    "        data,\n",
    "    ):\n",
    "        self.config = config\n",
    "        train, test, self.t, self.open_proposals = data\n",
    "        train_filtered = filter_window_size(train, self.t, config['window_size'])\n",
    "        self.dataloader = ImplicitCF(train=train_filtered, test=test, seed=SEED)\n",
    "        # Some experiments will run multiple times, but that's a price to pay for\n",
    "        # usability\n",
    "        self.real_batch_size = min(2**config['batch_size'], self.dataloader.n_users_in_train)\n",
    "\n",
    "        self.hparams = prepare_hparams(\n",
    "            model_type='lightgcn',\n",
    "            n_layers=config['conv_layers'],\n",
    "            batch_size=self.real_batch_size,\n",
    "            embed_size=config['embedding_dim'],\n",
    "            epochs=EPOCHS_PER_ITER,\n",
    "            learning_rate=config['learning_rate'],\n",
    "            decay=config['l2'],\n",
    "            metrics=METRICS,\n",
    "            eval_epoch=-1,\n",
    "            top_k=K_RECOMMENDATIONS[0],\n",
    "            save_model=False,\n",
    "            MODEL_DIR='./data/model/lightgcn/',\n",
    "        )\n",
    "        self.model = LightGCNCustom(self.hparams, self.dataloader, seed=SEED)\n",
    "        self.total_train = 0\n",
    "        self.total_eval = 0\n",
    "\n",
    "    @property\n",
    "    def iteration(self):\n",
    "        return self.model.epochs_done\n",
    "\n",
    "    @property\n",
    "    def training_iteration(self):\n",
    "        return self.model.epochs_done\n",
    "\n",
    "    def step(self):\n",
    "        \"\"\"\n",
    "        As a rule of thumb, the execution time of step should be large enough to avoid overheads \n",
    "        (i.e. more than a few seconds), but short enough to report progress periodically \n",
    "        (i.e. at most a few minutes).\n",
    "        \"\"\"\n",
    "        assert EPOCHS_PER_ITER > 0\n",
    "\n",
    "        with Timer() as t_train:\n",
    "            for _ in range(EPOCHS_PER_ITER):\n",
    "                ret = self.model.fit_epoch()\n",
    "\n",
    "\n",
    "        with Timer() as t_rec:\n",
    "            recs = self.model.recommend_k_items(\n",
    "                self.dataloader.test, # Used only to get user ids\n",
    "                top_k=max(K_RECOMMENDATIONS),\n",
    "                use_id=True,\n",
    "                remove_seen=True,\n",
    "                recommend_from=self.open_proposals,\n",
    "            )\n",
    "        \n",
    "        eval_dict = {'model_'+k:v for k,v in zip(self.model.metrics, self.model.run_eval())}\n",
    "        eval_dict |= calculate_all_metrics(self.dataloader.test, recs, K_RECOMMENDATIONS)\n",
    "\n",
    "        self.total_train += t_train.time\n",
    "        self.total_eval += eval_dict['time_eval']\n",
    "        \n",
    "        return {\n",
    "            'real_batch_size': self.real_batch_size,\n",
    "            'iteration': self.iteration,\n",
    "            'loss': ret[0],\n",
    "            'mf_loss': ret[1],\n",
    "            'emb_loss': ret[2],\n",
    "            **eval_dict,\n",
    "            'time_train': t_train.time,\n",
    "            'time_rec': t_rec.time,\n",
    "            'time_total_train': self.total_train,\n",
    "            'time_total_test': self.total_eval,\n",
    "        }\n",
    "\n",
    "    def save_checkpoint(self, checkpoint_dir):\n",
    "        checkpoint_path = os.path.join(checkpoint_dir, \"model\")\n",
    "        self.model.saver.save(\n",
    "            sess=self.model.sess,\n",
    "            save_path=checkpoint_path,\n",
    "        )\n",
    "        return checkpoint_dir\n",
    "\n",
    "    def load_checkpoint(self, checkpoint_path):\n",
    "        self.model.load(checkpoint_path)"
   ]
  },
  {
   "cell_type": "markdown",
   "id": "cf94f082",
   "metadata": {
    "editable": true,
    "papermill": {
     "duration": 0.002609,
     "end_time": "2024-09-05T09:27:17.283328",
     "exception": false,
     "start_time": "2024-09-05T09:27:17.280719",
     "status": "completed"
    },
    "slideshow": {
     "slide_type": ""
    },
    "tags": []
   },
   "source": [
    "## Big experiment"
   ]
  },
  {
   "cell_type": "code",
   "execution_count": 17,
   "id": "9b31347c",
   "metadata": {
    "editable": true,
    "execution": {
     "iopub.execute_input": "2024-09-05T09:27:17.289011Z",
     "iopub.status.busy": "2024-09-05T09:27:17.288888Z",
     "iopub.status.idle": "2024-09-05T09:27:17.305991Z",
     "shell.execute_reply": "2024-09-05T09:27:17.305808Z"
    },
    "papermill": {
     "duration": 0.020797,
     "end_time": "2024-09-05T09:27:17.306682",
     "exception": false,
     "start_time": "2024-09-05T09:27:17.285885",
     "status": "completed"
    },
    "slideshow": {
     "slide_type": ""
    },
    "tags": []
   },
   "outputs": [
    {
     "data": {
      "text/plain": [
       "PosixPath('/home/daviddavo/ray_results3.11')"
      ]
     },
     "execution_count": 17,
     "metadata": {},
     "output_type": "execute_result"
    }
   ],
   "source": [
    "RAY_RESULTS_PATH"
   ]
  },
  {
   "cell_type": "code",
   "execution_count": 18,
   "id": "a99d71ed",
   "metadata": {
    "editable": true,
    "execution": {
     "iopub.execute_input": "2024-09-05T09:27:17.312555Z",
     "iopub.status.busy": "2024-09-05T09:27:17.312437Z",
     "iopub.status.idle": "2024-09-05T09:27:17.329284Z",
     "shell.execute_reply": "2024-09-05T09:27:17.329071Z"
    },
    "papermill": {
     "duration": 0.020608,
     "end_time": "2024-09-05T09:27:17.329961",
     "exception": false,
     "start_time": "2024-09-05T09:27:17.309353",
     "status": "completed"
    },
    "slideshow": {
     "slide_type": ""
    },
    "tags": []
   },
   "outputs": [
    {
     "name": "stdout",
     "output_type": "stream",
     "text": [
      "lamarck\n",
      "{'cpu': 1, 'gpu': 0.0625}\n"
     ]
    }
   ],
   "source": [
    "print(os.uname().nodename)\n",
    "\n",
    "### SET TRAINING RESOURCES\n",
    "if os.uname().nodename == 'lamarck':\n",
    "    # assert torch.cuda.is_available()\n",
    "\n",
    "    NUM_SAMPLES = SAMPLES_PER_SPLIT\n",
    "    # Every run takes approx half a gig of vram (no optimizations)\n",
    "    # The RTX 4090 has 24GB so we can run the model about 48 times\n",
    "    resources_per_trial={\n",
    "        'cpu': 1,\n",
    "        'gpu': 1 / GPUS,\n",
    "    }\n",
    "else:\n",
    "    NUM_SAMPLES = 1\n",
    "    resources_per_trial={\n",
    "        'cpu': 1,\n",
    "        # It takes about 1.5 GiB with full training data, but I put a bit more because\n",
    "        # this notebook also takes a bit of memory\n",
    "        'memory': 2e9,\n",
    "    }\n",
    "print(resources_per_trial)"
   ]
  },
  {
   "cell_type": "code",
   "execution_count": 19,
   "id": "40d4c4a0",
   "metadata": {
    "editable": true,
    "execution": {
     "iopub.execute_input": "2024-09-05T09:27:17.335895Z",
     "iopub.status.busy": "2024-09-05T09:27:17.335804Z",
     "iopub.status.idle": "2024-09-05T09:27:17.424317Z",
     "shell.execute_reply": "2024-09-05T09:27:17.423994Z"
    },
    "papermill": {
     "duration": 0.092559,
     "end_time": "2024-09-05T09:27:17.425318",
     "exception": false,
     "start_time": "2024-09-05T09:27:17.332759",
     "status": "completed"
    },
    "slideshow": {
     "slide_type": ""
    },
    "tags": []
   },
   "outputs": [],
   "source": [
    "from ray.tune.search.hyperopt import HyperOptSearch"
   ]
  },
  {
   "cell_type": "code",
   "execution_count": 20,
   "id": "467623ed",
   "metadata": {
    "editable": true,
    "execution": {
     "iopub.execute_input": "2024-09-05T09:27:17.432580Z",
     "iopub.status.busy": "2024-09-05T09:27:17.432236Z",
     "iopub.status.idle": "2024-09-05T09:27:17.456272Z",
     "shell.execute_reply": "2024-09-05T09:27:17.456065Z"
    },
    "papermill": {
     "duration": 0.028301,
     "end_time": "2024-09-05T09:27:17.456879",
     "exception": false,
     "start_time": "2024-09-05T09:27:17.428578",
     "status": "completed"
    },
    "slideshow": {
     "slide_type": ""
    },
    "tags": []
   },
   "outputs": [],
   "source": [
    "def getTunerOnFold(f_idx, points_to_evaluate = None):    \n",
    "    name = paths.lightgcn_ray_tune_fname(ORG_NAME, SPLITS_FREQ, SPLITS_NORMALIZE, OPTIM_METRIC, fold=f_idx)\n",
    "    experiments = list(RAY_RESULTS_PATH.glob(f'{name}_*'))\n",
    "    last_experiment = max(experiments, key=lambda x: x.stat().st_ctime) if experiments else None\n",
    "    f = folds_dict[f_idx]\n",
    "\n",
    "    dftrain,dftest,t,open_proposals = folds_dict[f_idx]\n",
    "    param_space = dict(\n",
    "        batch_size=tune.randint(MIN_BATCH_SIZE, MAX_BATCH_SIZE+1), # 64 - 2**MAX_BATCH_SIZE\n",
    "        embedding_dim=tune.lograndint(1, MAX_EMBEDDING_DIM, base=2),\n",
    "        conv_layers=tune.randint(1,5),\n",
    "        learning_rate=tune.qloguniform(MIN_LR, 1, 1e-4),\n",
    "        l2=tune.loguniform(1e-7, 1e-2, 1e-7),\n",
    "        window_size=tune.choice(WINDOW_SIZES),\n",
    "        # Just so it appears on the output\n",
    "        fold=f_idx,\n",
    "    )\n",
    "    \n",
    "    ### RESTORE EXPERIMENT OR CREATE A NEW ONE\n",
    "    if last_experiment and tune.Tuner.can_restore(last_experiment):\n",
    "        print(f\"Restoring last experiment: {last_experiment}\")\n",
    "        tuner = tune.Tuner.restore(\n",
    "            str(last_experiment),\n",
    "            trainable=tune.with_resources(\n",
    "                # tune.with_parameters(TrainLightGCN,  train=dftrain, test=dftest, open_proposals=open_proposals),\n",
    "                tune.with_parameters(TrainLightGCN, data=f),\n",
    "                resources_per_trial,\n",
    "            ),\n",
    "            restart_errored=True,\n",
    "            param_space=param_space,\n",
    "        )\n",
    "    else:\n",
    "        print(f\"No experiment found for fold {f_idx}, creating new tuner with {NUM_SAMPLES} samples\")\n",
    "        search_alg = None\n",
    "        \n",
    "        search_alg = HyperOptSearch(\n",
    "            points_to_evaluate = points_to_evaluate,\n",
    "            random_state_seed=SEED,\n",
    "        )\n",
    "        # search_alg = tune.search.Repeater(search_alg, N_SPLITS-SKIP_SPLIT)\n",
    "        \n",
    "        tuner = tune.Tuner(\n",
    "            tune.with_resources(\n",
    "                # tune.with_parameters(TrainLightGCN,  train=dftrain, test=dftest, open_proposals=open_proposals),\n",
    "                tune.with_parameters(TrainLightGCN, data=folds_dict[f_idx]),\n",
    "                resources_per_trial,\n",
    "            ),\n",
    "            run_config=train.RunConfig(\n",
    "                stop={'training_iteration': MAX_EPOCHS/EPOCHS_PER_ITER, 'time_total_train': MAX_TIME_TOTAL_TRAIN},\n",
    "                name=name + f'_{dt.datetime.now().isoformat()}',\n",
    "                storage_path=RAY_RESULTS_PATH,\n",
    "                # failure_config=train.FailureConfig(fail_fast='raise'),\n",
    "                failure_config=train.FailureConfig(max_failures=3),\n",
    "            ),\n",
    "            param_space=param_space,\n",
    "            tune_config=tune.TuneConfig(\n",
    "                search_alg=search_alg,\n",
    "                num_samples=NUM_SAMPLES,\n",
    "                metric=OPTIM_METRIC,\n",
    "                mode='max',\n",
    "            )\n",
    "        )\n",
    "\n",
    "    return tuner"
   ]
  },
  {
   "cell_type": "code",
   "execution_count": 21,
   "id": "952053ac",
   "metadata": {
    "editable": true,
    "execution": {
     "iopub.execute_input": "2024-09-05T09:27:17.462903Z",
     "iopub.status.busy": "2024-09-05T09:27:17.462781Z",
     "iopub.status.idle": "2024-09-05T09:27:17.489495Z",
     "shell.execute_reply": "2024-09-05T09:27:17.489093Z"
    },
    "papermill": {
     "duration": 0.032176,
     "end_time": "2024-09-05T09:27:17.491895",
     "exception": false,
     "start_time": "2024-09-05T09:27:17.459719",
     "status": "completed"
    },
    "slideshow": {
     "slide_type": ""
    },
    "tags": []
   },
   "outputs": [
    {
     "data": {
      "application/vnd.jupyter.widget-view+json": {
       "model_id": "b231504e9efc4c30b7db037de8744ffd",
       "version_major": 2,
       "version_minor": 0
      },
      "text/plain": [
       "fold:   0%|          | 0/10 [00:00<?, ?it/s]"
      ]
     },
     "metadata": {},
     "output_type": "display_data"
    },
    {
     "data": {
      "application/vnd.jupyter.widget-view+json": {
       "model_id": "ecbb58fede3e4ad6a98b17a1209c72b0",
       "version_major": 2,
       "version_minor": 0
      },
      "text/plain": [
       "Output(layout=Layout(border_bottom='1px solid black', border_left='1px solid black', border_right='1px solid b…"
      ]
     },
     "execution_count": 21,
     "metadata": {},
     "output_type": "execute_result"
    }
   ],
   "source": [
    "# We need to display the progress bar in another cell because ray tune \"overwrites\" the previous output\n",
    "pbar = tqdm(total=len(use_folds_idx), desc='fold')\n",
    "out = widgets.Output(layout={'border': '1px solid black'})\n",
    "with out:\n",
    "    print(\"In this cell important output from the next cell will be shown\")\n",
    "out"
   ]
  },
  {
   "cell_type": "code",
   "execution_count": 22,
   "id": "887802ab",
   "metadata": {
    "editable": true,
    "execution": {
     "iopub.execute_input": "2024-09-05T09:27:17.498559Z",
     "iopub.status.busy": "2024-09-05T09:27:17.498395Z",
     "iopub.status.idle": "2024-09-05T09:27:45.121357Z",
     "shell.execute_reply": "2024-09-05T09:27:45.120868Z"
    },
    "papermill": {
     "duration": 27.628754,
     "end_time": "2024-09-05T09:27:45.123759",
     "exception": false,
     "start_time": "2024-09-05T09:27:17.495005",
     "status": "completed"
    },
    "slideshow": {
     "slide_type": ""
    },
    "tags": []
   },
   "outputs": [
    {
     "data": {
      "text/html": [
       "<div class=\"tuneStatus\">\n",
       "  <div style=\"display: flex;flex-direction: row\">\n",
       "    <div style=\"display: flex;flex-direction: column;\">\n",
       "      <h3>Tune Status</h3>\n",
       "      <table>\n",
       "<tbody>\n",
       "<tr><td>Current time:</td><td>2024-09-05 09:27:44</td></tr>\n",
       "<tr><td>Running for: </td><td>00:00:00.35        </td></tr>\n",
       "<tr><td>Memory:      </td><td>8.4/125.6 GiB      </td></tr>\n",
       "</tbody>\n",
       "</table>\n",
       "    </div>\n",
       "    <div class=\"vDivider\"></div>\n",
       "    <div class=\"systemInfo\">\n",
       "      <h3>System Info</h3>\n",
       "      Using FIFO scheduling algorithm.<br>Logical resource usage: 0/24 CPUs, 0/1 GPUs (0.0/1.0 accelerator_type:G)\n",
       "    </div>\n",
       "    \n",
       "  </div>\n",
       "  <div class=\"hDivider\"></div>\n",
       "  <div class=\"trialStatus\">\n",
       "    <h3>Trial Status</h3>\n",
       "    <table>\n",
       "<thead>\n",
       "<tr><th>Trial name            </th><th>status    </th><th>loc                  </th><th style=\"text-align: right;\">  batch_size</th><th style=\"text-align: right;\">  conv_layers</th><th style=\"text-align: right;\">  embedding_dim</th><th>fold               </th><th style=\"text-align: right;\">         l2</th><th style=\"text-align: right;\">  learning_rate</th><th>window_size  </th><th style=\"text-align: right;\">  iter</th><th style=\"text-align: right;\">  total time (s)</th><th style=\"text-align: right;\">  real_batch_size</th><th style=\"text-align: right;\">  iteration</th><th style=\"text-align: right;\">         loss</th></tr>\n",
       "</thead>\n",
       "<tbody>\n",
       "<tr><td>TrainLightGCN_1c9442fc</td><td>TERMINATED</td><td>147.96.81.131:3070563</td><td style=\"text-align: right;\">          10</td><td style=\"text-align: right;\">            3</td><td style=\"text-align: right;\">             16</td><td>2023-07-13T00:00:00</td><td style=\"text-align: right;\">1.5385e-06 </td><td style=\"text-align: right;\">         0.4224</td><td>10YE         </td><td style=\"text-align: right;\">    40</td><td style=\"text-align: right;\">        17.9176 </td><td style=\"text-align: right;\">             1024</td><td style=\"text-align: right;\">        200</td><td style=\"text-align: right;\">  0.502287   </td></tr>\n",
       "<tr><td>TrainLightGCN_13c283f0</td><td>TERMINATED</td><td>147.96.81.131:3070411</td><td style=\"text-align: right;\">           9</td><td style=\"text-align: right;\">            2</td><td style=\"text-align: right;\">            110</td><td>2023-07-13T00:00:00</td><td style=\"text-align: right;\">0.00168644 </td><td style=\"text-align: right;\">         0.2764</td><td>30d          </td><td style=\"text-align: right;\">    40</td><td style=\"text-align: right;\">         7.27521</td><td style=\"text-align: right;\">               40</td><td style=\"text-align: right;\">        200</td><td style=\"text-align: right;\">  0.0370689  </td></tr>\n",
       "<tr><td>TrainLightGCN_c5c3fb3a</td><td>TERMINATED</td><td>147.96.81.131:3069645</td><td style=\"text-align: right;\">           9</td><td style=\"text-align: right;\">            3</td><td style=\"text-align: right;\">              1</td><td>2023-07-13T00:00:00</td><td style=\"text-align: right;\">0.0010773  </td><td style=\"text-align: right;\">         0.5943</td><td>10YE         </td><td style=\"text-align: right;\">    40</td><td style=\"text-align: right;\">        24.0748 </td><td style=\"text-align: right;\">              512</td><td style=\"text-align: right;\">        200</td><td style=\"text-align: right;\">  0.188582   </td></tr>\n",
       "<tr><td>TrainLightGCN_a368ebe9</td><td>TERMINATED</td><td>147.96.81.131:3070257</td><td style=\"text-align: right;\">           9</td><td style=\"text-align: right;\">            4</td><td style=\"text-align: right;\">             47</td><td>2023-07-13T00:00:00</td><td style=\"text-align: right;\">0.0001059  </td><td style=\"text-align: right;\">         0.3623</td><td>90d          </td><td style=\"text-align: right;\">    40</td><td style=\"text-align: right;\">         9.60813</td><td style=\"text-align: right;\">               84</td><td style=\"text-align: right;\">        200</td><td style=\"text-align: right;\">  0.576976   </td></tr>\n",
       "<tr><td>TrainLightGCN_4cb84ecd</td><td>TERMINATED</td><td>147.96.81.131:3070111</td><td style=\"text-align: right;\">          10</td><td style=\"text-align: right;\">            1</td><td style=\"text-align: right;\">              7</td><td>2023-07-13T00:00:00</td><td style=\"text-align: right;\">1.2842e-05 </td><td style=\"text-align: right;\">         0.0389</td><td>60d          </td><td style=\"text-align: right;\">    40</td><td style=\"text-align: right;\">         8.55317</td><td style=\"text-align: right;\">               56</td><td style=\"text-align: right;\">        200</td><td style=\"text-align: right;\">  0.00245158 </td></tr>\n",
       "<tr><td>TrainLightGCN_daface0b</td><td>TERMINATED</td><td>147.96.81.131:3069959</td><td style=\"text-align: right;\">          10</td><td style=\"text-align: right;\">            2</td><td style=\"text-align: right;\">              5</td><td>2023-07-13T00:00:00</td><td style=\"text-align: right;\">3.6686e-05 </td><td style=\"text-align: right;\">         0.0556</td><td>30d          </td><td style=\"text-align: right;\">    40</td><td style=\"text-align: right;\">         7.24284</td><td style=\"text-align: right;\">               40</td><td style=\"text-align: right;\">        200</td><td style=\"text-align: right;\">  0.00311532 </td></tr>\n",
       "<tr><td>TrainLightGCN_d6e5b222</td><td>TERMINATED</td><td>147.96.81.131:3069806</td><td style=\"text-align: right;\">           7</td><td style=\"text-align: right;\">            1</td><td style=\"text-align: right;\">              4</td><td>2023-07-13T00:00:00</td><td style=\"text-align: right;\">1.91378e-07</td><td style=\"text-align: right;\">         0.0334</td><td>90d          </td><td style=\"text-align: right;\">    40</td><td style=\"text-align: right;\">         9.13398</td><td style=\"text-align: right;\">               84</td><td style=\"text-align: right;\">        200</td><td style=\"text-align: right;\">  0.0825009  </td></tr>\n",
       "<tr><td>TrainLightGCN_227bcaf8</td><td>TERMINATED</td><td>147.96.81.131:3069493</td><td style=\"text-align: right;\">           6</td><td style=\"text-align: right;\">            1</td><td style=\"text-align: right;\">              3</td><td>2023-07-13T00:00:00</td><td style=\"text-align: right;\">3.86852e-06</td><td style=\"text-align: right;\">         0.9741</td><td>90d          </td><td style=\"text-align: right;\">    40</td><td style=\"text-align: right;\">         9.58501</td><td style=\"text-align: right;\">               64</td><td style=\"text-align: right;\">        200</td><td style=\"text-align: right;\">  1.36705    </td></tr>\n",
       "<tr><td>TrainLightGCN_459b7a9b</td><td>TERMINATED</td><td>147.96.81.131:3069332</td><td style=\"text-align: right;\">          10</td><td style=\"text-align: right;\">            1</td><td style=\"text-align: right;\">              2</td><td>2023-07-13T00:00:00</td><td style=\"text-align: right;\">1.85404e-05</td><td style=\"text-align: right;\">         0.085 </td><td>30d          </td><td style=\"text-align: right;\">    40</td><td style=\"text-align: right;\">         7.31798</td><td style=\"text-align: right;\">               40</td><td style=\"text-align: right;\">        200</td><td style=\"text-align: right;\">  0.137459   </td></tr>\n",
       "<tr><td>TrainLightGCN_2358b027</td><td>TERMINATED</td><td>147.96.81.131:3069177</td><td style=\"text-align: right;\">           7</td><td style=\"text-align: right;\">            1</td><td style=\"text-align: right;\">              8</td><td>2023-07-13T00:00:00</td><td style=\"text-align: right;\">0.00780038 </td><td style=\"text-align: right;\">         0.1407</td><td>60d          </td><td style=\"text-align: right;\">    40</td><td style=\"text-align: right;\">         9.08237</td><td style=\"text-align: right;\">               56</td><td style=\"text-align: right;\">        200</td><td style=\"text-align: right;\">  0.155806   </td></tr>\n",
       "<tr><td>TrainLightGCN_43ec2d8c</td><td>TERMINATED</td><td>147.96.81.131:3069027</td><td style=\"text-align: right;\">           9</td><td style=\"text-align: right;\">            1</td><td style=\"text-align: right;\">             27</td><td>2023-07-13T00:00:00</td><td style=\"text-align: right;\">6.19687e-06</td><td style=\"text-align: right;\">         0.2198</td><td>90d          </td><td style=\"text-align: right;\">    40</td><td style=\"text-align: right;\">        10.3314 </td><td style=\"text-align: right;\">               84</td><td style=\"text-align: right;\">        200</td><td style=\"text-align: right;\">  0.169692   </td></tr>\n",
       "<tr><td>TrainLightGCN_20624164</td><td>TERMINATED</td><td>147.96.81.131:3067502</td><td style=\"text-align: right;\">           8</td><td style=\"text-align: right;\">            2</td><td style=\"text-align: right;\">            451</td><td>2023-07-13T00:00:00</td><td style=\"text-align: right;\">9.97741e-06</td><td style=\"text-align: right;\">         0.5299</td><td>10YE         </td><td style=\"text-align: right;\">    40</td><td style=\"text-align: right;\">        44.2501 </td><td style=\"text-align: right;\">              256</td><td style=\"text-align: right;\">        200</td><td style=\"text-align: right;\"> 19.6854     </td></tr>\n",
       "<tr><td>TrainLightGCN_5ade81fd</td><td>TERMINATED</td><td>147.96.81.131:3068874</td><td style=\"text-align: right;\">          10</td><td style=\"text-align: right;\">            1</td><td style=\"text-align: right;\">             11</td><td>2023-07-13T00:00:00</td><td style=\"text-align: right;\">1.10488e-07</td><td style=\"text-align: right;\">         0.0733</td><td>30d          </td><td style=\"text-align: right;\">    40</td><td style=\"text-align: right;\">         8.22049</td><td style=\"text-align: right;\">               40</td><td style=\"text-align: right;\">        200</td><td style=\"text-align: right;\">  3.22385e-05</td></tr>\n",
       "<tr><td>TrainLightGCN_8c08f89b</td><td>TERMINATED</td><td>147.96.81.131:3068720</td><td style=\"text-align: right;\">          10</td><td style=\"text-align: right;\">            1</td><td style=\"text-align: right;\">              6</td><td>2023-07-13T00:00:00</td><td style=\"text-align: right;\">4.54385e-07</td><td style=\"text-align: right;\">         0.4864</td><td>90d          </td><td style=\"text-align: right;\">    40</td><td style=\"text-align: right;\">        10.8812 </td><td style=\"text-align: right;\">               84</td><td style=\"text-align: right;\">        200</td><td style=\"text-align: right;\">  1.52039    </td></tr>\n",
       "<tr><td>TrainLightGCN_924bc5ff</td><td>TERMINATED</td><td>147.96.81.131:3068569</td><td style=\"text-align: right;\">           6</td><td style=\"text-align: right;\">            1</td><td style=\"text-align: right;\">             16</td><td>2023-07-13T00:00:00</td><td style=\"text-align: right;\">2.1212e-06 </td><td style=\"text-align: right;\">         0.0488</td><td>90d          </td><td style=\"text-align: right;\">    40</td><td style=\"text-align: right;\">        12.0955 </td><td style=\"text-align: right;\">               64</td><td style=\"text-align: right;\">        200</td><td style=\"text-align: right;\">  0.00366902 </td></tr>\n",
       "<tr><td>TrainLightGCN_5a705b37</td><td>TERMINATED</td><td>147.96.81.131:3068421</td><td style=\"text-align: right;\">          10</td><td style=\"text-align: right;\">            1</td><td style=\"text-align: right;\">             59</td><td>2023-07-13T00:00:00</td><td style=\"text-align: right;\">7.15603e-05</td><td style=\"text-align: right;\">         0.1043</td><td>90d          </td><td style=\"text-align: right;\">    40</td><td style=\"text-align: right;\">        11.0778 </td><td style=\"text-align: right;\">               84</td><td style=\"text-align: right;\">        200</td><td style=\"text-align: right;\">  0.0759819  </td></tr>\n",
       "<tr><td>TrainLightGCN_15f94ae1</td><td>TERMINATED</td><td>147.96.81.131:3068268</td><td style=\"text-align: right;\">          10</td><td style=\"text-align: right;\">            1</td><td style=\"text-align: right;\">             21</td><td>2023-07-13T00:00:00</td><td style=\"text-align: right;\">0.00243701 </td><td style=\"text-align: right;\">         0.7748</td><td>90d          </td><td style=\"text-align: right;\">    40</td><td style=\"text-align: right;\">        11.0621 </td><td style=\"text-align: right;\">               84</td><td style=\"text-align: right;\">        200</td><td style=\"text-align: right;\">  4.59053    </td></tr>\n",
       "<tr><td>TrainLightGCN_b773295f</td><td>TERMINATED</td><td>147.96.81.131:3068116</td><td style=\"text-align: right;\">           6</td><td style=\"text-align: right;\">            1</td><td style=\"text-align: right;\">              4</td><td>2023-07-13T00:00:00</td><td style=\"text-align: right;\">0.000327654</td><td style=\"text-align: right;\">         0.1428</td><td>90d          </td><td style=\"text-align: right;\">    40</td><td style=\"text-align: right;\">        12.1491 </td><td style=\"text-align: right;\">               64</td><td style=\"text-align: right;\">        200</td><td style=\"text-align: right;\">  0.124301   </td></tr>\n",
       "<tr><td>TrainLightGCN_12ecb875</td><td>TERMINATED</td><td>147.96.81.131:3067968</td><td style=\"text-align: right;\">          10</td><td style=\"text-align: right;\">            1</td><td style=\"text-align: right;\">             11</td><td>2023-07-13T00:00:00</td><td style=\"text-align: right;\">3.78879e-05</td><td style=\"text-align: right;\">         0.4456</td><td>90d          </td><td style=\"text-align: right;\">    40</td><td style=\"text-align: right;\">        10.7712 </td><td style=\"text-align: right;\">               84</td><td style=\"text-align: right;\">        200</td><td style=\"text-align: right;\">  0.676983   </td></tr>\n",
       "<tr><td>TrainLightGCN_7474ad89</td><td>TERMINATED</td><td>147.96.81.131:3067814</td><td style=\"text-align: right;\">          10</td><td style=\"text-align: right;\">            1</td><td style=\"text-align: right;\">             28</td><td>2023-07-13T00:00:00</td><td style=\"text-align: right;\">0.00160959 </td><td style=\"text-align: right;\">         0.3342</td><td>90d          </td><td style=\"text-align: right;\">    40</td><td style=\"text-align: right;\">        10.2006 </td><td style=\"text-align: right;\">               84</td><td style=\"text-align: right;\">        200</td><td style=\"text-align: right;\">  1.07806    </td></tr>\n",
       "<tr><td>TrainLightGCN_786890ee</td><td>TERMINATED</td><td>147.96.81.131:3067663</td><td style=\"text-align: right;\">          10</td><td style=\"text-align: right;\">            1</td><td style=\"text-align: right;\">             14</td><td>2023-07-13T00:00:00</td><td style=\"text-align: right;\">0.00395161 </td><td style=\"text-align: right;\">         0.0202</td><td>21d          </td><td style=\"text-align: right;\">    40</td><td style=\"text-align: right;\">         7.61149</td><td style=\"text-align: right;\">               29</td><td style=\"text-align: right;\">        200</td><td style=\"text-align: right;\">  0.0528936  </td></tr>\n",
       "<tr><td>TrainLightGCN_30c4cce8</td><td>TERMINATED</td><td>147.96.81.131:3067348</td><td style=\"text-align: right;\">           9</td><td style=\"text-align: right;\">            4</td><td style=\"text-align: right;\">              2</td><td>2023-07-13T00:00:00</td><td style=\"text-align: right;\">0.000190412</td><td style=\"text-align: right;\">         0.0078</td><td>30d          </td><td style=\"text-align: right;\">    40</td><td style=\"text-align: right;\">         7.32948</td><td style=\"text-align: right;\">               40</td><td style=\"text-align: right;\">        200</td><td style=\"text-align: right;\">  0.180964   </td></tr>\n",
       "<tr><td>TrainLightGCN_1d28822d</td><td>TERMINATED</td><td>147.96.81.131:3067187</td><td style=\"text-align: right;\">          10</td><td style=\"text-align: right;\">            1</td><td style=\"text-align: right;\">             27</td><td>2023-07-13T00:00:00</td><td style=\"text-align: right;\">0.00157337 </td><td style=\"text-align: right;\">         0.377 </td><td>90d          </td><td style=\"text-align: right;\">    40</td><td style=\"text-align: right;\">         9.34734</td><td style=\"text-align: right;\">               84</td><td style=\"text-align: right;\">        200</td><td style=\"text-align: right;\">  1.53999    </td></tr>\n",
       "<tr><td>TrainLightGCN_704a5de1</td><td>TERMINATED</td><td>147.96.81.131:3066257</td><td style=\"text-align: right;\">           9</td><td style=\"text-align: right;\">            2</td><td style=\"text-align: right;\">             10</td><td>2023-07-13T00:00:00</td><td style=\"text-align: right;\">5.77433e-05</td><td style=\"text-align: right;\">         0.0388</td><td>10YE         </td><td style=\"text-align: right;\">    40</td><td style=\"text-align: right;\">        27.0768 </td><td style=\"text-align: right;\">              512</td><td style=\"text-align: right;\">        200</td><td style=\"text-align: right;\">  0.0176268  </td></tr>\n",
       "<tr><td>TrainLightGCN_4d67af83</td><td>TERMINATED</td><td>147.96.81.131:3067033</td><td style=\"text-align: right;\">           9</td><td style=\"text-align: right;\">            3</td><td style=\"text-align: right;\">              8</td><td>2023-07-13T00:00:00</td><td style=\"text-align: right;\">0.000289957</td><td style=\"text-align: right;\">         0.1928</td><td>60d          </td><td style=\"text-align: right;\">    40</td><td style=\"text-align: right;\">         8.64726</td><td style=\"text-align: right;\">               56</td><td style=\"text-align: right;\">        200</td><td style=\"text-align: right;\">  0.0599753  </td></tr>\n",
       "<tr><td>TrainLightGCN_7fba4028</td><td>TERMINATED</td><td>147.96.81.131:3066876</td><td style=\"text-align: right;\">          10</td><td style=\"text-align: right;\">            2</td><td style=\"text-align: right;\">             90</td><td>2023-07-13T00:00:00</td><td style=\"text-align: right;\">0.00094459 </td><td style=\"text-align: right;\">         0.0236</td><td>30d          </td><td style=\"text-align: right;\">    40</td><td style=\"text-align: right;\">         7.76968</td><td style=\"text-align: right;\">               40</td><td style=\"text-align: right;\">        200</td><td style=\"text-align: right;\">  0.0229993  </td></tr>\n",
       "<tr><td>TrainLightGCN_00156338</td><td>TERMINATED</td><td>147.96.81.131:3066731</td><td style=\"text-align: right;\">           9</td><td style=\"text-align: right;\">            1</td><td style=\"text-align: right;\">              1</td><td>2023-07-13T00:00:00</td><td style=\"text-align: right;\">0.0032126  </td><td style=\"text-align: right;\">         0.013 </td><td>90d          </td><td style=\"text-align: right;\">    40</td><td style=\"text-align: right;\">        10.0388 </td><td style=\"text-align: right;\">               84</td><td style=\"text-align: right;\">        200</td><td style=\"text-align: right;\">  0.307258   </td></tr>\n",
       "<tr><td>TrainLightGCN_85f7587e</td><td>TERMINATED</td><td>147.96.81.131:3063929</td><td style=\"text-align: right;\">           7</td><td style=\"text-align: right;\">            2</td><td style=\"text-align: right;\">            188</td><td>2023-07-13T00:00:00</td><td style=\"text-align: right;\">0.00300786 </td><td style=\"text-align: right;\">         0.0057</td><td>10YE         </td><td style=\"text-align: right;\">    40</td><td style=\"text-align: right;\">        73.2604 </td><td style=\"text-align: right;\">              128</td><td style=\"text-align: right;\">        200</td><td style=\"text-align: right;\">  0.0431736  </td></tr>\n",
       "<tr><td>TrainLightGCN_248871df</td><td>TERMINATED</td><td>147.96.81.131:3066570</td><td style=\"text-align: right;\">           8</td><td style=\"text-align: right;\">            2</td><td style=\"text-align: right;\">              5</td><td>2023-07-13T00:00:00</td><td style=\"text-align: right;\">0.000533409</td><td style=\"text-align: right;\">         0.0031</td><td>21d          </td><td style=\"text-align: right;\">    40</td><td style=\"text-align: right;\">         7.98182</td><td style=\"text-align: right;\">               29</td><td style=\"text-align: right;\">        200</td><td style=\"text-align: right;\">  0.0368118  </td></tr>\n",
       "<tr><td>TrainLightGCN_eb74ef49</td><td>TERMINATED</td><td>147.96.81.131:3066414</td><td style=\"text-align: right;\">          10</td><td style=\"text-align: right;\">            4</td><td style=\"text-align: right;\">              1</td><td>2023-07-13T00:00:00</td><td style=\"text-align: right;\">2.25276e-05</td><td style=\"text-align: right;\">         0.3065</td><td>21d          </td><td style=\"text-align: right;\">    40</td><td style=\"text-align: right;\">         7.71555</td><td style=\"text-align: right;\">               29</td><td style=\"text-align: right;\">        200</td><td style=\"text-align: right;\">  0.243293   </td></tr>\n",
       "<tr><td>TrainLightGCN_97ed91b4</td><td>TERMINATED</td><td>147.96.81.131:3066100</td><td style=\"text-align: right;\">          10</td><td style=\"text-align: right;\">            1</td><td style=\"text-align: right;\">             70</td><td>2023-07-13T00:00:00</td><td style=\"text-align: right;\">0.00015835 </td><td style=\"text-align: right;\">         0.8641</td><td>90d          </td><td style=\"text-align: right;\">    40</td><td style=\"text-align: right;\">        10.4552 </td><td style=\"text-align: right;\">               84</td><td style=\"text-align: right;\">        200</td><td style=\"text-align: right;\"> 10.5461     </td></tr>\n",
       "<tr><td>TrainLightGCN_68411a17</td><td>TERMINATED</td><td>147.96.81.131:3065944</td><td style=\"text-align: right;\">          10</td><td style=\"text-align: right;\">            2</td><td style=\"text-align: right;\">              4</td><td>2023-07-13T00:00:00</td><td style=\"text-align: right;\">0.00936873 </td><td style=\"text-align: right;\">         0.0669</td><td>90d          </td><td style=\"text-align: right;\">    40</td><td style=\"text-align: right;\">        11.0429 </td><td style=\"text-align: right;\">               84</td><td style=\"text-align: right;\">        200</td><td style=\"text-align: right;\">  0.217888   </td></tr>\n",
       "<tr><td>TrainLightGCN_f82ff68c</td><td>TERMINATED</td><td>147.96.81.131:3065790</td><td style=\"text-align: right;\">           7</td><td style=\"text-align: right;\">            2</td><td style=\"text-align: right;\">             18</td><td>2023-07-13T00:00:00</td><td style=\"text-align: right;\">0.00595677 </td><td style=\"text-align: right;\">         0.0011</td><td>90d          </td><td style=\"text-align: right;\">    40</td><td style=\"text-align: right;\">        11.6565 </td><td style=\"text-align: right;\">               84</td><td style=\"text-align: right;\">        200</td><td style=\"text-align: right;\">  0.136924   </td></tr>\n",
       "<tr><td>TrainLightGCN_931003eb</td><td>TERMINATED</td><td>147.96.81.131:3065642</td><td style=\"text-align: right;\">          10</td><td style=\"text-align: right;\">            1</td><td style=\"text-align: right;\">              3</td><td>2023-07-13T00:00:00</td><td style=\"text-align: right;\">0.00229438 </td><td style=\"text-align: right;\">         0.1836</td><td>90d          </td><td style=\"text-align: right;\">    40</td><td style=\"text-align: right;\">        11.96   </td><td style=\"text-align: right;\">               84</td><td style=\"text-align: right;\">        200</td><td style=\"text-align: right;\">  0.187731   </td></tr>\n",
       "<tr><td>TrainLightGCN_0b3e9346</td><td>TERMINATED</td><td>147.96.81.131:3060411</td><td style=\"text-align: right;\">           6</td><td style=\"text-align: right;\">            3</td><td style=\"text-align: right;\">             24</td><td>2023-07-13T00:00:00</td><td style=\"text-align: right;\">4.66127e-07</td><td style=\"text-align: right;\">         0.0001</td><td>10YE         </td><td style=\"text-align: right;\">    40</td><td style=\"text-align: right;\">       136.753  </td><td style=\"text-align: right;\">               64</td><td style=\"text-align: right;\">        200</td><td style=\"text-align: right;\">  0.0632815  </td></tr>\n",
       "<tr><td>TrainLightGCN_f83a84f7</td><td>TERMINATED</td><td>147.96.81.131:3065491</td><td style=\"text-align: right;\">           8</td><td style=\"text-align: right;\">            1</td><td style=\"text-align: right;\">              1</td><td>2023-07-13T00:00:00</td><td style=\"text-align: right;\">0.00638523 </td><td style=\"text-align: right;\">         0.1133</td><td>90d          </td><td style=\"text-align: right;\">    40</td><td style=\"text-align: right;\">        12.1983 </td><td style=\"text-align: right;\">               84</td><td style=\"text-align: right;\">        200</td><td style=\"text-align: right;\">  0.349327   </td></tr>\n",
       "<tr><td>TrainLightGCN_b7e1dcba</td><td>TERMINATED</td><td>147.96.81.131:3065336</td><td style=\"text-align: right;\">           6</td><td style=\"text-align: right;\">            1</td><td style=\"text-align: right;\">              3</td><td>2023-07-13T00:00:00</td><td style=\"text-align: right;\">0.000542646</td><td style=\"text-align: right;\">         0.6945</td><td>90d          </td><td style=\"text-align: right;\">    40</td><td style=\"text-align: right;\">        13.3949 </td><td style=\"text-align: right;\">               64</td><td style=\"text-align: right;\">        200</td><td style=\"text-align: right;\">  0.861312   </td></tr>\n",
       "<tr><td>TrainLightGCN_c8ef010b</td><td>TERMINATED</td><td>147.96.81.131:3065181</td><td style=\"text-align: right;\">          10</td><td style=\"text-align: right;\">            1</td><td style=\"text-align: right;\">              2</td><td>2023-07-13T00:00:00</td><td style=\"text-align: right;\">0.000111525</td><td style=\"text-align: right;\">         0.2519</td><td>90d          </td><td style=\"text-align: right;\">    40</td><td style=\"text-align: right;\">        11.6719 </td><td style=\"text-align: right;\">               84</td><td style=\"text-align: right;\">        200</td><td style=\"text-align: right;\">  0.224331   </td></tr>\n",
       "<tr><td>TrainLightGCN_3b3a8f64</td><td>TERMINATED</td><td>147.96.81.131:3065020</td><td style=\"text-align: right;\">           9</td><td style=\"text-align: right;\">            3</td><td style=\"text-align: right;\">             42</td><td>2023-07-13T00:00:00</td><td style=\"text-align: right;\">4.07034e-06</td><td style=\"text-align: right;\">         0.0007</td><td>30d          </td><td style=\"text-align: right;\">    40</td><td style=\"text-align: right;\">         8.66297</td><td style=\"text-align: right;\">               40</td><td style=\"text-align: right;\">        200</td><td style=\"text-align: right;\">  0.0634788  </td></tr>\n",
       "<tr><td>TrainLightGCN_ccebc9a2</td><td>TERMINATED</td><td>147.96.81.131:3064876</td><td style=\"text-align: right;\">           7</td><td style=\"text-align: right;\">            1</td><td style=\"text-align: right;\">            721</td><td>2023-07-13T00:00:00</td><td style=\"text-align: right;\">0.00128806 </td><td style=\"text-align: right;\">         0.0017</td><td>60d          </td><td style=\"text-align: right;\">    40</td><td style=\"text-align: right;\">        10.0944 </td><td style=\"text-align: right;\">               56</td><td style=\"text-align: right;\">        200</td><td style=\"text-align: right;\">  0.0246326  </td></tr>\n",
       "<tr><td>TrainLightGCN_aa8d0edf</td><td>TERMINATED</td><td>147.96.81.131:3064720</td><td style=\"text-align: right;\">           8</td><td style=\"text-align: right;\">            2</td><td style=\"text-align: right;\">             54</td><td>2023-07-13T00:00:00</td><td style=\"text-align: right;\">0.000500155</td><td style=\"text-align: right;\">         0.0012</td><td>21d          </td><td style=\"text-align: right;\">    40</td><td style=\"text-align: right;\">         8.69879</td><td style=\"text-align: right;\">               29</td><td style=\"text-align: right;\">        200</td><td style=\"text-align: right;\">  0.0208629  </td></tr>\n",
       "<tr><td>TrainLightGCN_69f9d5d2</td><td>TERMINATED</td><td>147.96.81.131:3064568</td><td style=\"text-align: right;\">           6</td><td style=\"text-align: right;\">            2</td><td style=\"text-align: right;\">            114</td><td>2023-07-13T00:00:00</td><td style=\"text-align: right;\">3.50294e-05</td><td style=\"text-align: right;\">         0.0255</td><td>30d          </td><td style=\"text-align: right;\">    40</td><td style=\"text-align: right;\">         8.35921</td><td style=\"text-align: right;\">               40</td><td style=\"text-align: right;\">        200</td><td style=\"text-align: right;\">  0.00142644 </td></tr>\n",
       "<tr><td>TrainLightGCN_25137202</td><td>TERMINATED</td><td>147.96.81.131:3064418</td><td style=\"text-align: right;\">          10</td><td style=\"text-align: right;\">            1</td><td style=\"text-align: right;\">              3</td><td>2023-07-13T00:00:00</td><td style=\"text-align: right;\">0.00683384 </td><td style=\"text-align: right;\">         0.2357</td><td>90d          </td><td style=\"text-align: right;\">    40</td><td style=\"text-align: right;\">        11.1562 </td><td style=\"text-align: right;\">               84</td><td style=\"text-align: right;\">        200</td><td style=\"text-align: right;\">  0.249287   </td></tr>\n",
       "<tr><td>TrainLightGCN_ec49cebc</td><td>TERMINATED</td><td>147.96.81.131:3064256</td><td style=\"text-align: right;\">           8</td><td style=\"text-align: right;\">            3</td><td style=\"text-align: right;\">             10</td><td>2023-07-13T00:00:00</td><td style=\"text-align: right;\">9.55369e-07</td><td style=\"text-align: right;\">         0.0003</td><td>21d          </td><td style=\"text-align: right;\">    40</td><td style=\"text-align: right;\">         8.41129</td><td style=\"text-align: right;\">               29</td><td style=\"text-align: right;\">        200</td><td style=\"text-align: right;\">  0.372034   </td></tr>\n",
       "<tr><td>TrainLightGCN_fb1a17a1</td><td>TERMINATED</td><td>147.96.81.131:3064098</td><td style=\"text-align: right;\">           9</td><td style=\"text-align: right;\">            4</td><td style=\"text-align: right;\">             32</td><td>2023-07-13T00:00:00</td><td style=\"text-align: right;\">1.14515e-05</td><td style=\"text-align: right;\">         0.4113</td><td>30d          </td><td style=\"text-align: right;\">    40</td><td style=\"text-align: right;\">         8.43836</td><td style=\"text-align: right;\">               40</td><td style=\"text-align: right;\">        200</td><td style=\"text-align: right;\">  0.0630196  </td></tr>\n",
       "<tr><td>TrainLightGCN_b1aed9b7</td><td>TERMINATED</td><td>147.96.81.131:3062862</td><td style=\"text-align: right;\">           9</td><td style=\"text-align: right;\">            2</td><td style=\"text-align: right;\">            176</td><td>2023-07-13T00:00:00</td><td style=\"text-align: right;\">1.67168e-06</td><td style=\"text-align: right;\">         0.0013</td><td>10YE         </td><td style=\"text-align: right;\">    40</td><td style=\"text-align: right;\">        34.674  </td><td style=\"text-align: right;\">              512</td><td style=\"text-align: right;\">        200</td><td style=\"text-align: right;\">  0.00367167 </td></tr>\n",
       "<tr><td>TrainLightGCN_d4b00972</td><td>TERMINATED</td><td>147.96.81.131:3063781</td><td style=\"text-align: right;\">          10</td><td style=\"text-align: right;\">            3</td><td style=\"text-align: right;\">             22</td><td>2023-07-13T00:00:00</td><td style=\"text-align: right;\">7.61507e-05</td><td style=\"text-align: right;\">         0.0002</td><td>21d          </td><td style=\"text-align: right;\">    40</td><td style=\"text-align: right;\">         9.81626</td><td style=\"text-align: right;\">               29</td><td style=\"text-align: right;\">        200</td><td style=\"text-align: right;\">  0.383693   </td></tr>\n",
       "<tr><td>TrainLightGCN_4102270b</td><td>TERMINATED</td><td>147.96.81.131:3063626</td><td style=\"text-align: right;\">           9</td><td style=\"text-align: right;\">            1</td><td style=\"text-align: right;\">             48</td><td>2023-07-13T00:00:00</td><td style=\"text-align: right;\">0.000246559</td><td style=\"text-align: right;\">         0.0649</td><td>60d          </td><td style=\"text-align: right;\">    40</td><td style=\"text-align: right;\">        12.0752 </td><td style=\"text-align: right;\">               56</td><td style=\"text-align: right;\">        200</td><td style=\"text-align: right;\">  0.0677101  </td></tr>\n",
       "<tr><td>TrainLightGCN_a1f5e1ed</td><td>TERMINATED</td><td>147.96.81.131:3060874</td><td style=\"text-align: right;\">           7</td><td style=\"text-align: right;\">            2</td><td style=\"text-align: right;\">             13</td><td>2023-07-13T00:00:00</td><td style=\"text-align: right;\">0.000897805</td><td style=\"text-align: right;\">         0.2292</td><td>10YE         </td><td style=\"text-align: right;\">    40</td><td style=\"text-align: right;\">        78.1038 </td><td style=\"text-align: right;\">              128</td><td style=\"text-align: right;\">        200</td><td style=\"text-align: right;\">  0.548914   </td></tr>\n",
       "<tr><td>TrainLightGCN_c18415a5</td><td>TERMINATED</td><td>147.96.81.131:3063472</td><td style=\"text-align: right;\">           9</td><td style=\"text-align: right;\">            2</td><td style=\"text-align: right;\">             14</td><td>2023-07-13T00:00:00</td><td style=\"text-align: right;\">1.87711e-05</td><td style=\"text-align: right;\">         0.0099</td><td>30d          </td><td style=\"text-align: right;\">    40</td><td style=\"text-align: right;\">        10.1848 </td><td style=\"text-align: right;\">               40</td><td style=\"text-align: right;\">        200</td><td style=\"text-align: right;\">  0.00119728 </td></tr>\n",
       "<tr><td>TrainLightGCN_a9b0f139</td><td>TERMINATED</td><td>147.96.81.131:3063324</td><td style=\"text-align: right;\">           8</td><td style=\"text-align: right;\">            1</td><td style=\"text-align: right;\">             81</td><td>2023-07-13T00:00:00</td><td style=\"text-align: right;\">2.87837e-06</td><td style=\"text-align: right;\">         0.0001</td><td>90d          </td><td style=\"text-align: right;\">    40</td><td style=\"text-align: right;\">        13.7456 </td><td style=\"text-align: right;\">               84</td><td style=\"text-align: right;\">        200</td><td style=\"text-align: right;\">  0.218256   </td></tr>\n",
       "<tr><td>TrainLightGCN_de31b98f</td><td>TERMINATED</td><td>147.96.81.131:3061792</td><td style=\"text-align: right;\">           8</td><td style=\"text-align: right;\">            2</td><td style=\"text-align: right;\">              8</td><td>2023-07-13T00:00:00</td><td style=\"text-align: right;\">0.00330652 </td><td style=\"text-align: right;\">         0.0508</td><td>10YE         </td><td style=\"text-align: right;\">    40</td><td style=\"text-align: right;\">        50.0332 </td><td style=\"text-align: right;\">              256</td><td style=\"text-align: right;\">        200</td><td style=\"text-align: right;\">  0.0570482  </td></tr>\n",
       "<tr><td>TrainLightGCN_6bd57278</td><td>TERMINATED</td><td>147.96.81.131:3063165</td><td style=\"text-align: right;\">           7</td><td style=\"text-align: right;\">            2</td><td style=\"text-align: right;\">            359</td><td>2023-07-13T00:00:00</td><td style=\"text-align: right;\">6.35376e-06</td><td style=\"text-align: right;\">         0.0037</td><td>21d          </td><td style=\"text-align: right;\">    40</td><td style=\"text-align: right;\">        10.3659 </td><td style=\"text-align: right;\">               29</td><td style=\"text-align: right;\">        200</td><td style=\"text-align: right;\">  0.000404545</td></tr>\n",
       "<tr><td>TrainLightGCN_a9a6276e</td><td>TERMINATED</td><td>147.96.81.131:3063016</td><td style=\"text-align: right;\">           8</td><td style=\"text-align: right;\">            1</td><td style=\"text-align: right;\">              6</td><td>2023-07-13T00:00:00</td><td style=\"text-align: right;\">0.000143346</td><td style=\"text-align: right;\">         0.1182</td><td>30d          </td><td style=\"text-align: right;\">    40</td><td style=\"text-align: right;\">         9.71028</td><td style=\"text-align: right;\">               40</td><td style=\"text-align: right;\">        200</td><td style=\"text-align: right;\">  0.0294578  </td></tr>\n",
       "<tr><td>TrainLightGCN_26953e8c</td><td>TERMINATED</td><td>147.96.81.131:3062553</td><td style=\"text-align: right;\">           8</td><td style=\"text-align: right;\">            4</td><td style=\"text-align: right;\">            573</td><td>2023-07-13T00:00:00</td><td style=\"text-align: right;\">4.59795e-05</td><td style=\"text-align: right;\">         0.5931</td><td>90d          </td><td style=\"text-align: right;\">    40</td><td style=\"text-align: right;\">        13.3114 </td><td style=\"text-align: right;\">               84</td><td style=\"text-align: right;\">        200</td><td style=\"text-align: right;\"> 13.7249     </td></tr>\n",
       "<tr><td>TrainLightGCN_aa02631d</td><td>TERMINATED</td><td>147.96.81.131:3062705</td><td style=\"text-align: right;\">          10</td><td style=\"text-align: right;\">            3</td><td style=\"text-align: right;\">            296</td><td>2023-07-13T00:00:00</td><td style=\"text-align: right;\">0.000713841</td><td style=\"text-align: right;\">         0.0165</td><td>30d          </td><td style=\"text-align: right;\">    40</td><td style=\"text-align: right;\">         9.36505</td><td style=\"text-align: right;\">               40</td><td style=\"text-align: right;\">        200</td><td style=\"text-align: right;\">  0.0234633  </td></tr>\n",
       "<tr><td>TrainLightGCN_6e93523b</td><td>TERMINATED</td><td>147.96.81.131:3062399</td><td style=\"text-align: right;\">           9</td><td style=\"text-align: right;\">            3</td><td style=\"text-align: right;\">            110</td><td>2023-07-13T00:00:00</td><td style=\"text-align: right;\">4.17203e-06</td><td style=\"text-align: right;\">         0.0002</td><td>21d          </td><td style=\"text-align: right;\">    40</td><td style=\"text-align: right;\">         9.96023</td><td style=\"text-align: right;\">               29</td><td style=\"text-align: right;\">        200</td><td style=\"text-align: right;\">  0.143574   </td></tr>\n",
       "<tr><td>TrainLightGCN_3e8fa1bb</td><td>TERMINATED</td><td>147.96.81.131:3062246</td><td style=\"text-align: right;\">           7</td><td style=\"text-align: right;\">            2</td><td style=\"text-align: right;\">            249</td><td>2023-07-13T00:00:00</td><td style=\"text-align: right;\">8.08859e-07</td><td style=\"text-align: right;\">         0.0024</td><td>60d          </td><td style=\"text-align: right;\">    40</td><td style=\"text-align: right;\">        11.0524 </td><td style=\"text-align: right;\">               56</td><td style=\"text-align: right;\">        200</td><td style=\"text-align: right;\">  0.000443248</td></tr>\n",
       "<tr><td>TrainLightGCN_84fa4f6c</td><td>TERMINATED</td><td>147.96.81.131:3062101</td><td style=\"text-align: right;\">           6</td><td style=\"text-align: right;\">            1</td><td style=\"text-align: right;\">             36</td><td>2023-07-13T00:00:00</td><td style=\"text-align: right;\">1.34868e-05</td><td style=\"text-align: right;\">         0.0005</td><td>30d          </td><td style=\"text-align: right;\">    40</td><td style=\"text-align: right;\">         9.60366</td><td style=\"text-align: right;\">               40</td><td style=\"text-align: right;\">        200</td><td style=\"text-align: right;\">  0.078757   </td></tr>\n",
       "<tr><td>TrainLightGCN_6a0e687c</td><td>TERMINATED</td><td>147.96.81.131:3061948</td><td style=\"text-align: right;\">          10</td><td style=\"text-align: right;\">            2</td><td style=\"text-align: right;\">              2</td><td>2023-07-13T00:00:00</td><td style=\"text-align: right;\">0.000376663</td><td style=\"text-align: right;\">         0.1456</td><td>21d          </td><td style=\"text-align: right;\">    40</td><td style=\"text-align: right;\">         8.86895</td><td style=\"text-align: right;\">               29</td><td style=\"text-align: right;\">        200</td><td style=\"text-align: right;\">  0.119479   </td></tr>\n",
       "<tr><td>TrainLightGCN_56f03507</td><td>TERMINATED</td><td>147.96.81.131:3061637</td><td style=\"text-align: right;\">           9</td><td style=\"text-align: right;\">            3</td><td style=\"text-align: right;\">             67</td><td>2023-07-13T00:00:00</td><td style=\"text-align: right;\">0.00115562 </td><td style=\"text-align: right;\">         0.0363</td><td>90d          </td><td style=\"text-align: right;\">    40</td><td style=\"text-align: right;\">        11.6827 </td><td style=\"text-align: right;\">               84</td><td style=\"text-align: right;\">        200</td><td style=\"text-align: right;\">  0.0557112  </td></tr>\n",
       "<tr><td>TrainLightGCN_ab16331c</td><td>TERMINATED</td><td>147.96.81.131:3061480</td><td style=\"text-align: right;\">           8</td><td style=\"text-align: right;\">            2</td><td style=\"text-align: right;\">             28</td><td>2023-07-13T00:00:00</td><td style=\"text-align: right;\">8.65875e-05</td><td style=\"text-align: right;\">         0.0012</td><td>60d          </td><td style=\"text-align: right;\">    40</td><td style=\"text-align: right;\">        10.1903 </td><td style=\"text-align: right;\">               56</td><td style=\"text-align: right;\">        200</td><td style=\"text-align: right;\">  0.0185463  </td></tr>\n",
       "<tr><td>TrainLightGCN_58e074cf</td><td>TERMINATED</td><td>147.96.81.131:3061333</td><td style=\"text-align: right;\">           9</td><td style=\"text-align: right;\">            1</td><td style=\"text-align: right;\">            933</td><td>2023-07-13T00:00:00</td><td style=\"text-align: right;\">0.000216309</td><td style=\"text-align: right;\">         0.9246</td><td>21d          </td><td style=\"text-align: right;\">    40</td><td style=\"text-align: right;\">         8.04251</td><td style=\"text-align: right;\">               29</td><td style=\"text-align: right;\">        200</td><td style=\"text-align: right;\">106.017      </td></tr>\n",
       "<tr><td>TrainLightGCN_876c2ca9</td><td>TERMINATED</td><td>147.96.81.131:3061172</td><td style=\"text-align: right;\">          10</td><td style=\"text-align: right;\">            2</td><td style=\"text-align: right;\">            506</td><td>2023-07-13T00:00:00</td><td style=\"text-align: right;\">2.8648e-05 </td><td style=\"text-align: right;\">         0.377 </td><td>30d          </td><td style=\"text-align: right;\">    40</td><td style=\"text-align: right;\">         8.27201</td><td style=\"text-align: right;\">               40</td><td style=\"text-align: right;\">        200</td><td style=\"text-align: right;\">  6.53015    </td></tr>\n",
       "<tr><td>TrainLightGCN_c6ca4317</td><td>TERMINATED</td><td>147.96.81.131:3061018</td><td style=\"text-align: right;\">           8</td><td style=\"text-align: right;\">            1</td><td style=\"text-align: right;\">            134</td><td>2023-07-13T00:00:00</td><td style=\"text-align: right;\">0.0047448  </td><td style=\"text-align: right;\">         0.0878</td><td>21d          </td><td style=\"text-align: right;\">    40</td><td style=\"text-align: right;\">         7.94843</td><td style=\"text-align: right;\">               29</td><td style=\"text-align: right;\">        200</td><td style=\"text-align: right;\">  0.0698419  </td></tr>\n",
       "<tr><td>TrainLightGCN_493b3be0</td><td>TERMINATED</td><td>147.96.81.131:3060719</td><td style=\"text-align: right;\">          10</td><td style=\"text-align: right;\">            3</td><td style=\"text-align: right;\">             37</td><td>2023-07-13T00:00:00</td><td style=\"text-align: right;\">1.12583e-07</td><td style=\"text-align: right;\">         0.0081</td><td>60d          </td><td style=\"text-align: right;\">    40</td><td style=\"text-align: right;\">         9.95947</td><td style=\"text-align: right;\">               56</td><td style=\"text-align: right;\">        200</td><td style=\"text-align: right;\">  0.000415389</td></tr>\n",
       "<tr><td>TrainLightGCN_69657909</td><td>TERMINATED</td><td>147.96.81.131:3058102</td><td style=\"text-align: right;\">           7</td><td style=\"text-align: right;\">            4</td><td style=\"text-align: right;\">             97</td><td>2023-07-13T00:00:00</td><td style=\"text-align: right;\">6.09932e-05</td><td style=\"text-align: right;\">         0.0021</td><td>10YE         </td><td style=\"text-align: right;\">    40</td><td style=\"text-align: right;\">        67.2243 </td><td style=\"text-align: right;\">              128</td><td style=\"text-align: right;\">        200</td><td style=\"text-align: right;\">  0.0067921  </td></tr>\n",
       "<tr><td>TrainLightGCN_78243227</td><td>TERMINATED</td><td>147.96.81.131:3060563</td><td style=\"text-align: right;\">           9</td><td style=\"text-align: right;\">            2</td><td style=\"text-align: right;\">            139</td><td>2023-07-13T00:00:00</td><td style=\"text-align: right;\">0.000387873</td><td style=\"text-align: right;\">         0.0171</td><td>30d          </td><td style=\"text-align: right;\">    40</td><td style=\"text-align: right;\">         7.82787</td><td style=\"text-align: right;\">               40</td><td style=\"text-align: right;\">        200</td><td style=\"text-align: right;\">  0.0106323  </td></tr>\n",
       "<tr><td>TrainLightGCN_14be28ec</td><td>TERMINATED</td><td>147.96.81.131:3060255</td><td style=\"text-align: right;\">           7</td><td style=\"text-align: right;\">            2</td><td style=\"text-align: right;\">              2</td><td>2023-07-13T00:00:00</td><td style=\"text-align: right;\">0.00969463 </td><td style=\"text-align: right;\">         0.006 </td><td>21d          </td><td style=\"text-align: right;\">    40</td><td style=\"text-align: right;\">         7.92625</td><td style=\"text-align: right;\">               29</td><td style=\"text-align: right;\">        200</td><td style=\"text-align: right;\">  0.174096   </td></tr>\n",
       "<tr><td>TrainLightGCN_ecc139f2</td><td>TERMINATED</td><td>147.96.81.131:3060101</td><td style=\"text-align: right;\">           8</td><td style=\"text-align: right;\">            1</td><td style=\"text-align: right;\">             60</td><td>2023-07-13T00:00:00</td><td style=\"text-align: right;\">4.56629e-05</td><td style=\"text-align: right;\">         0.0139</td><td>90d          </td><td style=\"text-align: right;\">    40</td><td style=\"text-align: right;\">        10.2531 </td><td style=\"text-align: right;\">               84</td><td style=\"text-align: right;\">        200</td><td style=\"text-align: right;\">  0.00163706 </td></tr>\n",
       "<tr><td>TrainLightGCN_7f99d8be</td><td>TERMINATED</td><td>147.96.81.131:3059948</td><td style=\"text-align: right;\">           9</td><td style=\"text-align: right;\">            3</td><td style=\"text-align: right;\">              5</td><td>2023-07-13T00:00:00</td><td style=\"text-align: right;\">0.0019546  </td><td style=\"text-align: right;\">         0.0003</td><td>60d          </td><td style=\"text-align: right;\">    40</td><td style=\"text-align: right;\">         9.17097</td><td style=\"text-align: right;\">               56</td><td style=\"text-align: right;\">        200</td><td style=\"text-align: right;\">  0.421224   </td></tr>\n",
       "<tr><td>TrainLightGCN_faad3ccb</td><td>TERMINATED</td><td>147.96.81.131:3059793</td><td style=\"text-align: right;\">           8</td><td style=\"text-align: right;\">            2</td><td style=\"text-align: right;\">            154</td><td>2023-07-13T00:00:00</td><td style=\"text-align: right;\">7.96182e-06</td><td style=\"text-align: right;\">         0.0008</td><td>30d          </td><td style=\"text-align: right;\">    40</td><td style=\"text-align: right;\">         7.64897</td><td style=\"text-align: right;\">               40</td><td style=\"text-align: right;\">        200</td><td style=\"text-align: right;\">  0.0110292  </td></tr>\n",
       "<tr><td>TrainLightGCN_835644db</td><td>TERMINATED</td><td>147.96.81.131:3059638</td><td style=\"text-align: right;\">          10</td><td style=\"text-align: right;\">            3</td><td style=\"text-align: right;\">             17</td><td>2023-07-13T00:00:00</td><td style=\"text-align: right;\">1.89611e-07</td><td style=\"text-align: right;\">         0.2711</td><td>21d          </td><td style=\"text-align: right;\">    40</td><td style=\"text-align: right;\">         7.52454</td><td style=\"text-align: right;\">               29</td><td style=\"text-align: right;\">        200</td><td style=\"text-align: right;\">  0.139094   </td></tr>\n",
       "<tr><td>TrainLightGCN_4b226de7</td><td>TERMINATED</td><td>147.96.81.131:3059488</td><td style=\"text-align: right;\">           9</td><td style=\"text-align: right;\">            1</td><td style=\"text-align: right;\">             18</td><td>2023-07-13T00:00:00</td><td style=\"text-align: right;\">2.14857e-05</td><td style=\"text-align: right;\">         0.0041</td><td>21d          </td><td style=\"text-align: right;\">    40</td><td style=\"text-align: right;\">         7.35367</td><td style=\"text-align: right;\">               29</td><td style=\"text-align: right;\">        200</td><td style=\"text-align: right;\">  0.00242535 </td></tr>\n",
       "<tr><td>TrainLightGCN_075ad8eb</td><td>TERMINATED</td><td>147.96.81.131:3059326</td><td style=\"text-align: right;\">          10</td><td style=\"text-align: right;\">            2</td><td style=\"text-align: right;\">             43</td><td>2023-07-13T00:00:00</td><td style=\"text-align: right;\">9.51951e-05</td><td style=\"text-align: right;\">         0.0303</td><td>30d          </td><td style=\"text-align: right;\">    40</td><td style=\"text-align: right;\">         7.64674</td><td style=\"text-align: right;\">               40</td><td style=\"text-align: right;\">        200</td><td style=\"text-align: right;\">  0.00327482 </td></tr>\n",
       "<tr><td>TrainLightGCN_baa6cb1b</td><td>TERMINATED</td><td>147.96.81.131:3059170</td><td style=\"text-align: right;\">           7</td><td style=\"text-align: right;\">            2</td><td style=\"text-align: right;\">              1</td><td>2023-07-13T00:00:00</td><td style=\"text-align: right;\">3.32133e-07</td><td style=\"text-align: right;\">         0.9922</td><td>21d          </td><td style=\"text-align: right;\">    40</td><td style=\"text-align: right;\">         7.40362</td><td style=\"text-align: right;\">               29</td><td style=\"text-align: right;\">        200</td><td style=\"text-align: right;\">  0.416091   </td></tr>\n",
       "<tr><td>TrainLightGCN_61e75ef8</td><td>TERMINATED</td><td>147.96.81.131:3059013</td><td style=\"text-align: right;\">           8</td><td style=\"text-align: right;\">            1</td><td style=\"text-align: right;\">             51</td><td>2023-07-13T00:00:00</td><td style=\"text-align: right;\">0.000424346</td><td style=\"text-align: right;\">         0.0007</td><td>30d          </td><td style=\"text-align: right;\">    40</td><td style=\"text-align: right;\">         8.07053</td><td style=\"text-align: right;\">               40</td><td style=\"text-align: right;\">        200</td><td style=\"text-align: right;\">  0.0339102  </td></tr>\n",
       "<tr><td>TrainLightGCN_6ef4a3b4</td><td>TERMINATED</td><td>147.96.81.131:3058866</td><td style=\"text-align: right;\">           6</td><td style=\"text-align: right;\">            1</td><td style=\"text-align: right;\">              4</td><td>2023-07-13T00:00:00</td><td style=\"text-align: right;\">9.15029e-06</td><td style=\"text-align: right;\">         0.0483</td><td>21d          </td><td style=\"text-align: right;\">    40</td><td style=\"text-align: right;\">         8.24379</td><td style=\"text-align: right;\">               29</td><td style=\"text-align: right;\">        200</td><td style=\"text-align: right;\">  0.00723637 </td></tr>\n",
       "<tr><td>TrainLightGCN_0ffd5c57</td><td>TERMINATED</td><td>147.96.81.131:3056259</td><td style=\"text-align: right;\">           7</td><td style=\"text-align: right;\">            2</td><td style=\"text-align: right;\">             74</td><td>2023-07-13T00:00:00</td><td style=\"text-align: right;\">8.63799e-07</td><td style=\"text-align: right;\">         0.1736</td><td>10YE         </td><td style=\"text-align: right;\">    40</td><td style=\"text-align: right;\">        68.7031 </td><td style=\"text-align: right;\">              128</td><td style=\"text-align: right;\">        200</td><td style=\"text-align: right;\">  1.02524    </td></tr>\n",
       "<tr><td>TrainLightGCN_32c39260</td><td>TERMINATED</td><td>147.96.81.131:3058710</td><td style=\"text-align: right;\">           9</td><td style=\"text-align: right;\">            1</td><td style=\"text-align: right;\">             12</td><td>2023-07-13T00:00:00</td><td style=\"text-align: right;\">0.00453319 </td><td style=\"text-align: right;\">         0.0046</td><td>30d          </td><td style=\"text-align: right;\">    40</td><td style=\"text-align: right;\">         8.48851</td><td style=\"text-align: right;\">               40</td><td style=\"text-align: right;\">        200</td><td style=\"text-align: right;\">  0.0620803  </td></tr>\n",
       "<tr><td>TrainLightGCN_5578a9ed</td><td>TERMINATED</td><td>147.96.81.131:3058566</td><td style=\"text-align: right;\">           8</td><td style=\"text-align: right;\">            1</td><td style=\"text-align: right;\">             10</td><td>2023-07-13T00:00:00</td><td style=\"text-align: right;\">1.51566e-05</td><td style=\"text-align: right;\">         0.0263</td><td>30d          </td><td style=\"text-align: right;\">    40</td><td style=\"text-align: right;\">         8.62479</td><td style=\"text-align: right;\">               40</td><td style=\"text-align: right;\">        200</td><td style=\"text-align: right;\">  0.000604868</td></tr>\n",
       "<tr><td>TrainLightGCN_b29b711e</td><td>TERMINATED</td><td>147.96.81.131:3058413</td><td style=\"text-align: right;\">           7</td><td style=\"text-align: right;\">            1</td><td style=\"text-align: right;\">            790</td><td>2023-07-13T00:00:00</td><td style=\"text-align: right;\">0.0078698  </td><td style=\"text-align: right;\">         0.0004</td><td>90d          </td><td style=\"text-align: right;\">    40</td><td style=\"text-align: right;\">        11.3434 </td><td style=\"text-align: right;\">               84</td><td style=\"text-align: right;\">        200</td><td style=\"text-align: right;\">  0.109943   </td></tr>\n",
       "<tr><td>TrainLightGCN_74f21b8c</td><td>TERMINATED</td><td>147.96.81.131:3058256</td><td style=\"text-align: right;\">           9</td><td style=\"text-align: right;\">            2</td><td style=\"text-align: right;\">              3</td><td>2023-07-13T00:00:00</td><td style=\"text-align: right;\">0.00158506 </td><td style=\"text-align: right;\">         0.0001</td><td>30d          </td><td style=\"text-align: right;\">    40</td><td style=\"text-align: right;\">         8.21947</td><td style=\"text-align: right;\">               40</td><td style=\"text-align: right;\">        200</td><td style=\"text-align: right;\">  0.666574   </td></tr>\n",
       "<tr><td>TrainLightGCN_0f6502a8</td><td>TERMINATED</td><td>147.96.81.131:3057950</td><td style=\"text-align: right;\">           8</td><td style=\"text-align: right;\">            2</td><td style=\"text-align: right;\">             27</td><td>2023-07-13T00:00:00</td><td style=\"text-align: right;\">3.06006e-05</td><td style=\"text-align: right;\">         0.2056</td><td>30d          </td><td style=\"text-align: right;\">    40</td><td style=\"text-align: right;\">         7.63805</td><td style=\"text-align: right;\">               40</td><td style=\"text-align: right;\">        200</td><td style=\"text-align: right;\">  0.031105   </td></tr>\n",
       "<tr><td>TrainLightGCN_ad35430f</td><td>TERMINATED</td><td>147.96.81.131:3057789</td><td style=\"text-align: right;\">           8</td><td style=\"text-align: right;\">            2</td><td style=\"text-align: right;\">            241</td><td>2023-07-13T00:00:00</td><td style=\"text-align: right;\">5.10482e-06</td><td style=\"text-align: right;\">         0.0017</td><td>90d          </td><td style=\"text-align: right;\">    40</td><td style=\"text-align: right;\">         9.95101</td><td style=\"text-align: right;\">               84</td><td style=\"text-align: right;\">        200</td><td style=\"text-align: right;\">  0.00123288 </td></tr>\n",
       "<tr><td>TrainLightGCN_28f8ad36</td><td>TERMINATED</td><td>147.96.81.131:3057634</td><td style=\"text-align: right;\">           9</td><td style=\"text-align: right;\">            4</td><td style=\"text-align: right;\">              7</td><td>2023-07-13T00:00:00</td><td style=\"text-align: right;\">2.91903e-06</td><td style=\"text-align: right;\">         0.1593</td><td>21d          </td><td style=\"text-align: right;\">    40</td><td style=\"text-align: right;\">         7.5993 </td><td style=\"text-align: right;\">               29</td><td style=\"text-align: right;\">        200</td><td style=\"text-align: right;\">  0.000363178</td></tr>\n",
       "<tr><td>TrainLightGCN_46730740</td><td>TERMINATED</td><td>147.96.81.131:3057474</td><td style=\"text-align: right;\">           9</td><td style=\"text-align: right;\">            3</td><td style=\"text-align: right;\">            447</td><td>2023-07-13T00:00:00</td><td style=\"text-align: right;\">0.000129301</td><td style=\"text-align: right;\">         0.0008</td><td>60d          </td><td style=\"text-align: right;\">    40</td><td style=\"text-align: right;\">         9.26627</td><td style=\"text-align: right;\">               56</td><td style=\"text-align: right;\">        200</td><td style=\"text-align: right;\">  0.00906293 </td></tr>\n",
       "<tr><td>TrainLightGCN_7d210d7b</td><td>TERMINATED</td><td>147.96.81.131:3057314</td><td style=\"text-align: right;\">           9</td><td style=\"text-align: right;\">            3</td><td style=\"text-align: right;\">             86</td><td>2023-07-13T00:00:00</td><td style=\"text-align: right;\">0.000166749</td><td style=\"text-align: right;\">         0.0002</td><td>30d          </td><td style=\"text-align: right;\">    40</td><td style=\"text-align: right;\">         8.23888</td><td style=\"text-align: right;\">               40</td><td style=\"text-align: right;\">        200</td><td style=\"text-align: right;\">  0.195339   </td></tr>\n",
       "<tr><td>TrainLightGCN_045cc81c</td><td>TERMINATED</td><td>147.96.81.131:3057169</td><td style=\"text-align: right;\">          10</td><td style=\"text-align: right;\">            2</td><td style=\"text-align: right;\">            364</td><td>2023-07-13T00:00:00</td><td style=\"text-align: right;\">2.08113e-06</td><td style=\"text-align: right;\">         0.0002</td><td>90d          </td><td style=\"text-align: right;\">    40</td><td style=\"text-align: right;\">        11.3194 </td><td style=\"text-align: right;\">               84</td><td style=\"text-align: right;\">        200</td><td style=\"text-align: right;\">  0.0378821  </td></tr>\n",
       "<tr><td>TrainLightGCN_bdfb3cc2</td><td>TERMINATED</td><td>147.96.81.131:3056414</td><td style=\"text-align: right;\">          10</td><td style=\"text-align: right;\">            3</td><td style=\"text-align: right;\">            332</td><td>2023-07-13T00:00:00</td><td style=\"text-align: right;\">0.00221159 </td><td style=\"text-align: right;\">         0.4863</td><td>10YE         </td><td style=\"text-align: right;\">    40</td><td style=\"text-align: right;\">        26.2386 </td><td style=\"text-align: right;\">             1024</td><td style=\"text-align: right;\">        200</td><td style=\"text-align: right;\">  5.12398    </td></tr>\n",
       "<tr><td>TrainLightGCN_a9535147</td><td>TERMINATED</td><td>147.96.81.131:3055656</td><td style=\"text-align: right;\">           8</td><td style=\"text-align: right;\">            4</td><td style=\"text-align: right;\">             32</td><td>2023-07-13T00:00:00</td><td style=\"text-align: right;\">1.24202e-06</td><td style=\"text-align: right;\">         0.015 </td><td>10YE         </td><td style=\"text-align: right;\">    40</td><td style=\"text-align: right;\">        41.8894 </td><td style=\"text-align: right;\">              256</td><td style=\"text-align: right;\">        200</td><td style=\"text-align: right;\">  0.00292419 </td></tr>\n",
       "<tr><td>TrainLightGCN_62597fe6</td><td>TERMINATED</td><td>147.96.81.131:3057013</td><td style=\"text-align: right;\">           8</td><td style=\"text-align: right;\">            2</td><td style=\"text-align: right;\">             96</td><td>2023-07-13T00:00:00</td><td style=\"text-align: right;\">4.92424e-05</td><td style=\"text-align: right;\">         0.0784</td><td>21d          </td><td style=\"text-align: right;\">    40</td><td style=\"text-align: right;\">         9.55428</td><td style=\"text-align: right;\">               29</td><td style=\"text-align: right;\">        200</td><td style=\"text-align: right;\">  0.0905931  </td></tr>\n",
       "<tr><td>TrainLightGCN_a4e05795</td><td>TERMINATED</td><td>147.96.81.131:3056869</td><td style=\"text-align: right;\">           9</td><td style=\"text-align: right;\">            2</td><td style=\"text-align: right;\">             26</td><td>2023-07-13T00:00:00</td><td style=\"text-align: right;\">1.42721e-06</td><td style=\"text-align: right;\">         0.6694</td><td>30d          </td><td style=\"text-align: right;\">    40</td><td style=\"text-align: right;\">         9.17144</td><td style=\"text-align: right;\">               40</td><td style=\"text-align: right;\">        200</td><td style=\"text-align: right;\">  0.0167716  </td></tr>\n",
       "<tr><td>TrainLightGCN_3b909db6</td><td>TERMINATED</td><td>147.96.81.131:3056721</td><td style=\"text-align: right;\">           8</td><td style=\"text-align: right;\">            4</td><td style=\"text-align: right;\">            219</td><td>2023-07-13T00:00:00</td><td style=\"text-align: right;\">0.000261231</td><td style=\"text-align: right;\">         0.095 </td><td>60d          </td><td style=\"text-align: right;\">    40</td><td style=\"text-align: right;\">        11.1625 </td><td style=\"text-align: right;\">               56</td><td style=\"text-align: right;\">        200</td><td style=\"text-align: right;\">  0.0233916  </td></tr>\n",
       "<tr><td>TrainLightGCN_818c665e</td><td>TERMINATED</td><td>147.96.81.131:3056566</td><td style=\"text-align: right;\">          10</td><td style=\"text-align: right;\">            1</td><td style=\"text-align: right;\">              1</td><td>2023-07-13T00:00:00</td><td style=\"text-align: right;\">0.000699071</td><td style=\"text-align: right;\">         0.0029</td><td>21d          </td><td style=\"text-align: right;\">    40</td><td style=\"text-align: right;\">         8.45575</td><td style=\"text-align: right;\">               29</td><td style=\"text-align: right;\">        200</td><td style=\"text-align: right;\">  0.298434   </td></tr>\n",
       "<tr><td>TrainLightGCN_1a583753</td><td>TERMINATED</td><td>147.96.81.131:3056111</td><td style=\"text-align: right;\">           6</td><td style=\"text-align: right;\">            2</td><td style=\"text-align: right;\">            217</td><td>2023-07-13T00:00:00</td><td style=\"text-align: right;\">2.53991e-06</td><td style=\"text-align: right;\">         0.4785</td><td>21d          </td><td style=\"text-align: right;\">    40</td><td style=\"text-align: right;\">         7.60082</td><td style=\"text-align: right;\">               29</td><td style=\"text-align: right;\">        200</td><td style=\"text-align: right;\">  0.136655   </td></tr>\n",
       "<tr><td>TrainLightGCN_a30f7e24</td><td>TERMINATED</td><td>147.96.81.131:3055959</td><td style=\"text-align: right;\">           7</td><td style=\"text-align: right;\">            2</td><td style=\"text-align: right;\">             34</td><td>2023-07-13T00:00:00</td><td style=\"text-align: right;\">0.0007608  </td><td style=\"text-align: right;\">         0.0091</td><td>60d          </td><td style=\"text-align: right;\">    40</td><td style=\"text-align: right;\">         8.61104</td><td style=\"text-align: right;\">               56</td><td style=\"text-align: right;\">        200</td><td style=\"text-align: right;\">  0.0226368  </td></tr>\n",
       "<tr><td>TrainLightGCN_4468f473</td><td>TERMINATED</td><td>147.96.81.131:3055804</td><td style=\"text-align: right;\">           9</td><td style=\"text-align: right;\">            2</td><td style=\"text-align: right;\">             86</td><td>2023-07-13T00:00:00</td><td style=\"text-align: right;\">0.00134325 </td><td style=\"text-align: right;\">         0.0006</td><td>21d          </td><td style=\"text-align: right;\">    40</td><td style=\"text-align: right;\">         7.21253</td><td style=\"text-align: right;\">               29</td><td style=\"text-align: right;\">        200</td><td style=\"text-align: right;\">  0.0478827  </td></tr>\n",
       "<tr><td>TrainLightGCN_f56f8643</td><td>TERMINATED</td><td>147.96.81.131:3055509</td><td style=\"text-align: right;\">           9</td><td style=\"text-align: right;\">            3</td><td style=\"text-align: right;\">            665</td><td>2023-07-13T00:00:00</td><td style=\"text-align: right;\">2.74456e-05</td><td style=\"text-align: right;\">         0.0092</td><td>90d          </td><td style=\"text-align: right;\">    40</td><td style=\"text-align: right;\">         9.09927</td><td style=\"text-align: right;\">               84</td><td style=\"text-align: right;\">        200</td><td style=\"text-align: right;\">  0.00227586 </td></tr>\n",
       "<tr><td>TrainLightGCN_9c81800d</td><td>TERMINATED</td><td>147.96.81.131:3055384</td><td style=\"text-align: right;\">          10</td><td style=\"text-align: right;\">            3</td><td style=\"text-align: right;\">             20</td><td>2023-07-13T00:00:00</td><td style=\"text-align: right;\">1.90558e-07</td><td style=\"text-align: right;\">         0.0012</td><td>60d          </td><td style=\"text-align: right;\">    40</td><td style=\"text-align: right;\">         7.92431</td><td style=\"text-align: right;\">               56</td><td style=\"text-align: right;\">        200</td><td style=\"text-align: right;\">  0.0363404  </td></tr>\n",
       "</tbody>\n",
       "</table>\n",
       "  </div>\n",
       "</div>\n",
       "<style>\n",
       ".tuneStatus {\n",
       "  color: var(--jp-ui-font-color1);\n",
       "}\n",
       ".tuneStatus .systemInfo {\n",
       "  display: flex;\n",
       "  flex-direction: column;\n",
       "}\n",
       ".tuneStatus td {\n",
       "  white-space: nowrap;\n",
       "}\n",
       ".tuneStatus .trialStatus {\n",
       "  display: flex;\n",
       "  flex-direction: column;\n",
       "}\n",
       ".tuneStatus h3 {\n",
       "  font-weight: bold;\n",
       "}\n",
       ".tuneStatus .hDivider {\n",
       "  border-bottom-width: var(--jp-border-width);\n",
       "  border-bottom-color: var(--jp-border-color0);\n",
       "  border-bottom-style: solid;\n",
       "}\n",
       ".tuneStatus .vDivider {\n",
       "  border-left-width: var(--jp-border-width);\n",
       "  border-left-color: var(--jp-border-color0);\n",
       "  border-left-style: solid;\n",
       "  margin: 0.5em 1em 0.5em 1em;\n",
       "}\n",
       "</style>\n"
      ],
      "text/plain": [
       "<IPython.core.display.HTML object>"
      ]
     },
     "metadata": {},
     "output_type": "display_data"
    },
    {
     "name": "stderr",
     "output_type": "stream",
     "text": [
      "2024-09-05 09:27:44,053\tINFO tune_controller.py:444 -- Restoring the run from the latest experiment state file: experiment_state-2024-09-05_09-27-43.json\n"
     ]
    },
    {
     "name": "stderr",
     "output_type": "stream",
     "text": [
      "2024-09-05 09:27:44,612\tINFO tune.py:1009 -- Wrote the latest version of all result files and experiment state to '/home/daviddavo/ray_results3.11/Index Coop/LightGCN_W-THU_normalize_map@10_fold=2023-07-13T00:00:00_2024-08-31T10:33:23.003732' in 0.3505s.\n"
     ]
    },
    {
     "name": "stderr",
     "output_type": "stream",
     "text": [
      "2024-09-05 09:27:44,625\tINFO tune.py:1041 -- Total run time: 0.58 seconds (0.00 seconds for the tuning loop).\n"
     ]
    },
    {
     "name": "stdout",
     "output_type": "stream",
     "text": [
      "Finished training for fold 2023-07-13T00:00:00\n"
     ]
    }
   ],
   "source": [
    "import logging\n",
    "import requests\n",
    "\n",
    "def findConfig(rg):\n",
    "    for r in rg:\n",
    "        if r.config:\n",
    "            lbrc = last_best_result.config\n",
    "            if all((r.config[k] == v for k, v in last_best_result.config.items() if k != 'fold')):\n",
    "                return r\n",
    "            elif all((r.config[k] == v for k, v in last_best_result.config.items() if k != 'fold' and k != 'window_size')):\n",
    "                print(\"Possible coincidence:\", r.config, file=sys.stderr)\n",
    "\n",
    "    return None\n",
    "\n",
    "tuners = []\n",
    "results = []\n",
    "last_best_result = None\n",
    "pbar.reset()\n",
    "\n",
    "last_best_fold = None\n",
    "requests.post(\"https://ntfy.sh/grasia_notebooks\", data=f\"Start running microsoft_tuning for {ORG_NAME}\")\n",
    "for i, (prev_f_idx, f_idx) in enumerate(zip(it.chain([None], use_folds_idx), use_folds_idx)):\n",
    "    try:\n",
    "        with out:\n",
    "            best_prev_config = None\n",
    "            if last_best_result is not None:\n",
    "                best_prev_config = last_best_result.config.copy()\n",
    "                assert best_prev_config['fold'] == prev_f_idx\n",
    "                best_prev_config['fold'] = f_idx\n",
    "                print(f\"Also evaluating best_prev_config ({OPTIM_METRIC}={last_best_result.metrics[OPTIM_METRIC]}): {best_prev_config}\")\n",
    "                best_prev_config = [best_prev_config]\n",
    "        \n",
    "        t = getTunerOnFold(f_idx, best_prev_config)\n",
    "        tuners.append(t)\n",
    "    \n",
    "        rg = t.fit()\n",
    "        \n",
    "        # FIXME: load results from disk until ray-project/ray#47358 is solved\n",
    "        # https://github.com/ray-project/ray/issues/47358\n",
    "        t = getTunerOnFold(f_idx, best_prev_config)\n",
    "        tuners[-1] = t\n",
    "        rg = t.fit()\n",
    "    \n",
    "        assert rg.num_errors == 0, f\"There are {rg.num_errors} errors\"\n",
    "        assert rg.num_terminated >= NUM_SAMPLES, f'Some samples are not terminated ({rg.num_terminated} != {NUM_SAMPLES})'\n",
    "        assert len(rg.get_dataframe()) >= NUM_SAMPLES\n",
    "        results.append(rg)\n",
    "    \n",
    "        # Assert that the prev config has been tried\n",
    "        if last_best_result is not None:\n",
    "            # if not any( \n",
    "            #     all((r.config[k] == v for k, v in last_best_result.config.items() if k != 'fold'))\n",
    "            #     for r in rg if r.config\n",
    "            # ):\n",
    "            if not findConfig(rg):\n",
    "                print(\"Best config:\", last_best_result.config)\n",
    "                assert False, f\"The best config from previous fold has not been tested in fold {f_idx}\"    \n",
    "            else:\n",
    "                logging.info(f'Fold {f_idx}. Best prev result was {last_best_result.path} and config has been found {findConfig(rg).path}')\n",
    "        \n",
    "        last_best_result = rg.get_best_result()\n",
    "        pbar.update()\n",
    "    \n",
    "        print(f\"Finished training for fold {f_idx}\")\n",
    "        requests.post(\"https://ntfy.sh/grasia_notebooks\", data=f\"Finished running fold {i} for {ORG_NAME}\")\n",
    "    except Exception as e:\n",
    "        requests.post(\"https://ntfy.sh/grasia_notebooks\", data=f\"Error on fold {i} for {ORG_NAME}: {repr(e)}\")\n",
    "        raise\n",
    "\n",
    "pbar.close()"
   ]
  },
  {
   "cell_type": "code",
   "execution_count": 23,
   "id": "a018151c",
   "metadata": {
    "editable": true,
    "execution": {
     "iopub.execute_input": "2024-09-05T09:27:45.140048Z",
     "iopub.status.busy": "2024-09-05T09:27:45.139971Z",
     "iopub.status.idle": "2024-09-05T09:27:45.572568Z",
     "shell.execute_reply": "2024-09-05T09:27:45.570217Z"
    },
    "papermill": {
     "duration": 0.442539,
     "end_time": "2024-09-05T09:27:45.576815",
     "exception": false,
     "start_time": "2024-09-05T09:27:45.134276",
     "status": "completed"
    },
    "slideshow": {
     "slide_type": ""
    },
    "tags": []
   },
   "outputs": [
    {
     "name": "stdout",
     "output_type": "stream",
     "text": [
      "Finished!\n"
     ]
    }
   ],
   "source": [
    "requests.post(\"https://ntfy.sh/grasia_notebooks\", data=f\"Finished running everything for {ORG_NAME}\")\n",
    "print(\"Finished!\")"
   ]
  }
 ],
 "metadata": {
  "kernelspec": {
   "display_name": "Python 3 (ipykernel)",
   "language": "python",
   "name": "python3"
  },
  "language_info": {
   "codemirror_mode": {
    "name": "ipython",
    "version": 3
   },
   "file_extension": ".py",
   "mimetype": "text/x-python",
   "name": "python",
   "nbconvert_exporter": "python",
   "pygments_lexer": "ipython3",
   "version": "3.11.6"
  },
  "papermill": {
   "default_parameters": {},
   "duration": 38.283853,
   "end_time": "2024-09-05T09:27:50.717424",
   "environment_variables": {},
   "exception": null,
   "input_path": "20_microsoft_tuning.ipynb",
   "output_path": "../nbout/Index Coop/20_microsoft_tuning.ipynb",
   "parameters": {
    "EXECUTION_ID": "2024-09-04T10:00",
    "LAST_FOLDS": 10,
    "LAST_FOLD_DATE_STR": "2023-07-13",
    "ORG_NAME": "Index Coop",
    "SPLITS_FREQ": "W-THU",
    "SPLITS_NORMALIZE": true
   },
   "start_time": "2024-09-05T09:27:12.433571",
   "version": "2.6.0"
  },
  "widgets": {
   "application/vnd.jupyter.widget-state+json": {
    "state": {
     "283ddead4ef046eeaa7e9f40f9fcd2f9": {
      "model_module": "@jupyter-widgets/controls",
      "model_module_version": "2.0.0",
      "model_name": "HTMLModel",
      "state": {
       "_dom_classes": [],
       "_model_module": "@jupyter-widgets/controls",
       "_model_module_version": "2.0.0",
       "_model_name": "HTMLModel",
       "_view_count": null,
       "_view_module": "@jupyter-widgets/controls",
       "_view_module_version": "2.0.0",
       "_view_name": "HTMLView",
       "description": "",
       "description_allow_html": false,
       "layout": "IPY_MODEL_c156f161f8334f7498e9d7a10110a169",
       "placeholder": "​",
       "style": "IPY_MODEL_41462404c96d49c49635ac034d1755a2",
       "tabbable": null,
       "tooltip": null,
       "value": "fold: 100%"
      }
     },
     "2c551c57daf24e508f68f92273e8a10b": {
      "model_module": "@jupyter-widgets/controls",
      "model_module_version": "2.0.0",
      "model_name": "FloatProgressModel",
      "state": {
       "_dom_classes": [],
       "_model_module": "@jupyter-widgets/controls",
       "_model_module_version": "2.0.0",
       "_model_name": "FloatProgressModel",
       "_view_count": null,
       "_view_module": "@jupyter-widgets/controls",
       "_view_module_version": "2.0.0",
       "_view_name": "ProgressView",
       "bar_style": "success",
       "description": "",
       "description_allow_html": false,
       "layout": "IPY_MODEL_4211c6ab4c1d43f1b0fc24beb315b392",
       "max": 10.0,
       "min": 0.0,
       "orientation": "horizontal",
       "style": "IPY_MODEL_483d3d03baea4962b1c2c467aef9e45a",
       "tabbable": null,
       "tooltip": null,
       "value": 10.0
      }
     },
     "41462404c96d49c49635ac034d1755a2": {
      "model_module": "@jupyter-widgets/controls",
      "model_module_version": "2.0.0",
      "model_name": "HTMLStyleModel",
      "state": {
       "_model_module": "@jupyter-widgets/controls",
       "_model_module_version": "2.0.0",
       "_model_name": "HTMLStyleModel",
       "_view_count": null,
       "_view_module": "@jupyter-widgets/base",
       "_view_module_version": "2.0.0",
       "_view_name": "StyleView",
       "background": null,
       "description_width": "",
       "font_size": null,
       "text_color": null
      }
     },
     "4211c6ab4c1d43f1b0fc24beb315b392": {
      "model_module": "@jupyter-widgets/base",
      "model_module_version": "2.0.0",
      "model_name": "LayoutModel",
      "state": {
       "_model_module": "@jupyter-widgets/base",
       "_model_module_version": "2.0.0",
       "_model_name": "LayoutModel",
       "_view_count": null,
       "_view_module": "@jupyter-widgets/base",
       "_view_module_version": "2.0.0",
       "_view_name": "LayoutView",
       "align_content": null,
       "align_items": null,
       "align_self": null,
       "border_bottom": null,
       "border_left": null,
       "border_right": null,
       "border_top": null,
       "bottom": null,
       "display": null,
       "flex": null,
       "flex_flow": null,
       "grid_area": null,
       "grid_auto_columns": null,
       "grid_auto_flow": null,
       "grid_auto_rows": null,
       "grid_column": null,
       "grid_gap": null,
       "grid_row": null,
       "grid_template_areas": null,
       "grid_template_columns": null,
       "grid_template_rows": null,
       "height": null,
       "justify_content": null,
       "justify_items": null,
       "left": null,
       "margin": null,
       "max_height": null,
       "max_width": null,
       "min_height": null,
       "min_width": null,
       "object_fit": null,
       "object_position": null,
       "order": null,
       "overflow": null,
       "padding": null,
       "right": null,
       "top": null,
       "visibility": null,
       "width": null
      }
     },
     "483d3d03baea4962b1c2c467aef9e45a": {
      "model_module": "@jupyter-widgets/controls",
      "model_module_version": "2.0.0",
      "model_name": "ProgressStyleModel",
      "state": {
       "_model_module": "@jupyter-widgets/controls",
       "_model_module_version": "2.0.0",
       "_model_name": "ProgressStyleModel",
       "_view_count": null,
       "_view_module": "@jupyter-widgets/base",
       "_view_module_version": "2.0.0",
       "_view_name": "StyleView",
       "bar_color": null,
       "description_width": ""
      }
     },
     "626b065eeffe452790ff0e01f4555a71": {
      "model_module": "@jupyter-widgets/controls",
      "model_module_version": "2.0.0",
      "model_name": "HTMLStyleModel",
      "state": {
       "_model_module": "@jupyter-widgets/controls",
       "_model_module_version": "2.0.0",
       "_model_name": "HTMLStyleModel",
       "_view_count": null,
       "_view_module": "@jupyter-widgets/base",
       "_view_module_version": "2.0.0",
       "_view_name": "StyleView",
       "background": null,
       "description_width": "",
       "font_size": null,
       "text_color": null
      }
     },
     "b231504e9efc4c30b7db037de8744ffd": {
      "model_module": "@jupyter-widgets/controls",
      "model_module_version": "2.0.0",
      "model_name": "HBoxModel",
      "state": {
       "_dom_classes": [],
       "_model_module": "@jupyter-widgets/controls",
       "_model_module_version": "2.0.0",
       "_model_name": "HBoxModel",
       "_view_count": null,
       "_view_module": "@jupyter-widgets/controls",
       "_view_module_version": "2.0.0",
       "_view_name": "HBoxView",
       "box_style": "",
       "children": [
        "IPY_MODEL_283ddead4ef046eeaa7e9f40f9fcd2f9",
        "IPY_MODEL_2c551c57daf24e508f68f92273e8a10b",
        "IPY_MODEL_bcd6631372fc4b8c883030ee5ccfc0c4"
       ],
       "layout": "IPY_MODEL_df41d3188396437f86ab409002b7e27f",
       "tabbable": null,
       "tooltip": null
      }
     },
     "bcd6631372fc4b8c883030ee5ccfc0c4": {
      "model_module": "@jupyter-widgets/controls",
      "model_module_version": "2.0.0",
      "model_name": "HTMLModel",
      "state": {
       "_dom_classes": [],
       "_model_module": "@jupyter-widgets/controls",
       "_model_module_version": "2.0.0",
       "_model_name": "HTMLModel",
       "_view_count": null,
       "_view_module": "@jupyter-widgets/controls",
       "_view_module_version": "2.0.0",
       "_view_name": "HTMLView",
       "description": "",
       "description_allow_html": false,
       "layout": "IPY_MODEL_fe7b87296cf64a9fbaf6345ffd6478ef",
       "placeholder": "​",
       "style": "IPY_MODEL_626b065eeffe452790ff0e01f4555a71",
       "tabbable": null,
       "tooltip": null,
       "value": " 10/10 [00:27&lt;00:00,  2.53s/it]"
      }
     },
     "c156f161f8334f7498e9d7a10110a169": {
      "model_module": "@jupyter-widgets/base",
      "model_module_version": "2.0.0",
      "model_name": "LayoutModel",
      "state": {
       "_model_module": "@jupyter-widgets/base",
       "_model_module_version": "2.0.0",
       "_model_name": "LayoutModel",
       "_view_count": null,
       "_view_module": "@jupyter-widgets/base",
       "_view_module_version": "2.0.0",
       "_view_name": "LayoutView",
       "align_content": null,
       "align_items": null,
       "align_self": null,
       "border_bottom": null,
       "border_left": null,
       "border_right": null,
       "border_top": null,
       "bottom": null,
       "display": null,
       "flex": null,
       "flex_flow": null,
       "grid_area": null,
       "grid_auto_columns": null,
       "grid_auto_flow": null,
       "grid_auto_rows": null,
       "grid_column": null,
       "grid_gap": null,
       "grid_row": null,
       "grid_template_areas": null,
       "grid_template_columns": null,
       "grid_template_rows": null,
       "height": null,
       "justify_content": null,
       "justify_items": null,
       "left": null,
       "margin": null,
       "max_height": null,
       "max_width": null,
       "min_height": null,
       "min_width": null,
       "object_fit": null,
       "object_position": null,
       "order": null,
       "overflow": null,
       "padding": null,
       "right": null,
       "top": null,
       "visibility": null,
       "width": null
      }
     },
     "d0f16c9f15b64735ac141e28b80d949e": {
      "model_module": "@jupyter-widgets/base",
      "model_module_version": "2.0.0",
      "model_name": "LayoutModel",
      "state": {
       "_model_module": "@jupyter-widgets/base",
       "_model_module_version": "2.0.0",
       "_model_name": "LayoutModel",
       "_view_count": null,
       "_view_module": "@jupyter-widgets/base",
       "_view_module_version": "2.0.0",
       "_view_name": "LayoutView",
       "align_content": null,
       "align_items": null,
       "align_self": null,
       "border_bottom": "1px solid black",
       "border_left": "1px solid black",
       "border_right": "1px solid black",
       "border_top": "1px solid black",
       "bottom": null,
       "display": null,
       "flex": null,
       "flex_flow": null,
       "grid_area": null,
       "grid_auto_columns": null,
       "grid_auto_flow": null,
       "grid_auto_rows": null,
       "grid_column": null,
       "grid_gap": null,
       "grid_row": null,
       "grid_template_areas": null,
       "grid_template_columns": null,
       "grid_template_rows": null,
       "height": null,
       "justify_content": null,
       "justify_items": null,
       "left": null,
       "margin": null,
       "max_height": null,
       "max_width": null,
       "min_height": null,
       "min_width": null,
       "object_fit": null,
       "object_position": null,
       "order": null,
       "overflow": null,
       "padding": null,
       "right": null,
       "top": null,
       "visibility": null,
       "width": null
      }
     },
     "df41d3188396437f86ab409002b7e27f": {
      "model_module": "@jupyter-widgets/base",
      "model_module_version": "2.0.0",
      "model_name": "LayoutModel",
      "state": {
       "_model_module": "@jupyter-widgets/base",
       "_model_module_version": "2.0.0",
       "_model_name": "LayoutModel",
       "_view_count": null,
       "_view_module": "@jupyter-widgets/base",
       "_view_module_version": "2.0.0",
       "_view_name": "LayoutView",
       "align_content": null,
       "align_items": null,
       "align_self": null,
       "border_bottom": null,
       "border_left": null,
       "border_right": null,
       "border_top": null,
       "bottom": null,
       "display": null,
       "flex": null,
       "flex_flow": null,
       "grid_area": null,
       "grid_auto_columns": null,
       "grid_auto_flow": null,
       "grid_auto_rows": null,
       "grid_column": null,
       "grid_gap": null,
       "grid_row": null,
       "grid_template_areas": null,
       "grid_template_columns": null,
       "grid_template_rows": null,
       "height": null,
       "justify_content": null,
       "justify_items": null,
       "left": null,
       "margin": null,
       "max_height": null,
       "max_width": null,
       "min_height": null,
       "min_width": null,
       "object_fit": null,
       "object_position": null,
       "order": null,
       "overflow": null,
       "padding": null,
       "right": null,
       "top": null,
       "visibility": null,
       "width": null
      }
     },
     "ecbb58fede3e4ad6a98b17a1209c72b0": {
      "model_module": "@jupyter-widgets/output",
      "model_module_version": "1.0.0",
      "model_name": "OutputModel",
      "state": {
       "_dom_classes": [],
       "_model_module": "@jupyter-widgets/output",
       "_model_module_version": "1.0.0",
       "_model_name": "OutputModel",
       "_view_count": null,
       "_view_module": "@jupyter-widgets/output",
       "_view_module_version": "1.0.0",
       "_view_name": "OutputView",
       "layout": "IPY_MODEL_d0f16c9f15b64735ac141e28b80d949e",
       "msg_id": "",
       "outputs": [
        {
         "name": "stdout",
         "output_type": "stream",
         "text": "In this cell important output from the next cell will be shown\nAlso evaluating best_prev_config (map@10=0.6361139455782313): {'batch_size': 9, 'embedding_dim': 1, 'conv_layers': 2, 'learning_rate': 0.0027, 'l2': 0.003126821834276908, 'window_size': '60d', 'fold': '2023-05-18T00:00:00'}\nAlso evaluating best_prev_config (map@10=0.3656746031746032): {'batch_size': 10, 'embedding_dim': 1, 'conv_layers': 1, 'learning_rate': 0.0039000000000000003, 'l2': 9.701862116090128e-06, 'window_size': '60d', 'fold': '2023-05-25T00:00:00'}\nAlso evaluating best_prev_config (map@10=0.8555555555555555): {'batch_size': 10, 'embedding_dim': 3, 'conv_layers': 2, 'learning_rate': 0.0001, 'l2': 0.0005536866002347543, 'window_size': '21d', 'fold': '2023-06-01T00:00:00'}\nAlso evaluating best_prev_config (map@10=0.888888888888889): {'batch_size': 6, 'embedding_dim': 34, 'conv_layers': 2, 'learning_rate': 0.0512, 'l2': 0.000366554065670449, 'window_size': '30d', 'fold': '2023-06-08T00:00:00'}\nAlso evaluating best_prev_config (map@10=0.9722222222222222): {'batch_size': 7, 'embedding_dim': 22, 'conv_layers': 1, 'learning_rate': 0.07540000000000001, 'l2': 0.0024705515439863907, 'window_size': '21d', 'fold': '2023-06-15T00:00:00'}\nAlso evaluating best_prev_config (map@10=0.7682837301587302): {'batch_size': 10, 'embedding_dim': 44, 'conv_layers': 1, 'learning_rate': 0.004200000000000001, 'l2': 3.6238048137009436e-07, 'window_size': '10YE', 'fold': '2023-06-22T00:00:00'}\nAlso evaluating best_prev_config (map@10=0.9285714285714286): {'batch_size': 9, 'embedding_dim': 106, 'conv_layers': 3, 'learning_rate': 0.018600000000000002, 'l2': 3.5840532930182266e-05, 'window_size': '90d', 'fold': '2023-06-29T00:00:00'}\nAlso evaluating best_prev_config (map@10=0.6488095238095237): {'batch_size': 9, 'embedding_dim': 60, 'conv_layers': 2, 'learning_rate': 0.0002, 'l2': 9.758012363315922e-05, 'window_size': '30d', 'fold': '2023-07-06T00:00:00'}\nAlso evaluating best_prev_config (map@10=0.9907407407407407): {'batch_size': 10, 'embedding_dim': 20, 'conv_layers': 3, 'learning_rate': 0.0012000000000000001, 'l2': 1.905575566024218e-07, 'window_size': '60d', 'fold': '2023-07-13T00:00:00'}\n"
        }
       ],
       "tabbable": null,
       "tooltip": null
      }
     },
     "fe7b87296cf64a9fbaf6345ffd6478ef": {
      "model_module": "@jupyter-widgets/base",
      "model_module_version": "2.0.0",
      "model_name": "LayoutModel",
      "state": {
       "_model_module": "@jupyter-widgets/base",
       "_model_module_version": "2.0.0",
       "_model_name": "LayoutModel",
       "_view_count": null,
       "_view_module": "@jupyter-widgets/base",
       "_view_module_version": "2.0.0",
       "_view_name": "LayoutView",
       "align_content": null,
       "align_items": null,
       "align_self": null,
       "border_bottom": null,
       "border_left": null,
       "border_right": null,
       "border_top": null,
       "bottom": null,
       "display": null,
       "flex": null,
       "flex_flow": null,
       "grid_area": null,
       "grid_auto_columns": null,
       "grid_auto_flow": null,
       "grid_auto_rows": null,
       "grid_column": null,
       "grid_gap": null,
       "grid_row": null,
       "grid_template_areas": null,
       "grid_template_columns": null,
       "grid_template_rows": null,
       "height": null,
       "justify_content": null,
       "justify_items": null,
       "left": null,
       "margin": null,
       "max_height": null,
       "max_width": null,
       "min_height": null,
       "min_width": null,
       "object_fit": null,
       "object_position": null,
       "order": null,
       "overflow": null,
       "padding": null,
       "right": null,
       "top": null,
       "visibility": null,
       "width": null
      }
     }
    },
    "version_major": 2,
    "version_minor": 0
   }
  }
 },
 "nbformat": 4,
 "nbformat_minor": 5
}