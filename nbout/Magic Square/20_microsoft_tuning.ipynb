{
 "cells": [
  {
   "cell_type": "markdown",
   "id": "ae63a30c",
   "metadata": {
    "tags": [
     "papermill-error-cell-tag"
    ]
   },
   "source": [
    "<span style=\"color:red; font-family:Helvetica Neue, Helvetica, Arial, sans-serif; font-size:2em;\">An Exception was encountered at '<a href=\"#papermill-error-cell\">In [23]</a>'.</span>"
   ]
  },
  {
   "cell_type": "code",
   "execution_count": 1,
   "id": "a77d3ab9",
   "metadata": {
    "editable": true,
    "papermill": {
     "duration": 2.902878,
     "end_time": "2024-09-09T10:20:13.420574",
     "exception": false,
     "start_time": "2024-09-09T10:20:10.517696",
     "status": "completed"
    },
    "slideshow": {
     "slide_type": ""
    },
    "tags": []
   },
   "outputs": [
    {
     "name": "stdout",
     "output_type": "stream",
     "text": [
      "/home/daviddavo/recsys4daos/notebooks\n"
     ]
    },
    {
     "name": "stderr",
     "output_type": "stream",
     "text": [
      "/home/daviddavo/recsys4daos/.direnv/python-3.11/lib/python3.11/site-packages/IPython/core/magics/osm.py:417: UserWarning: This is now an optional IPython functionality, setting dhist requires you to install the `pickleshare` library.\n",
      "  self.shell.db['dhist'] = compress_dhist(dhist)[-100:]\n",
      "/tmp/ipykernel_1312344/2796633904.py:12: TqdmExperimentalWarning: Using `tqdm.autonotebook.tqdm` in notebook mode. Use `tqdm.tqdm` instead to force console mode (e.g. in jupyter console)\n",
      "  from tqdm.autonotebook import tqdm\n"
     ]
    },
    {
     "name": "stdout",
     "output_type": "stream",
     "text": [
      "Ignoring warnings\n",
      "3.11.6 (main, Jun 24 2024, 07:45:26) [GCC 11.4.0]\n",
      "recommenders: 1.2.0\n",
      "ray: 2.30.0\n",
      "tensorflow: 2.16.1\n"
     ]
    }
   ],
   "source": [
    "%cd ../../notebooks\n",
    "from typing import List, Dict, Any\n",
    "\n",
    "from pathlib import Path\n",
    "import os, sys\n",
    "import time\n",
    "import datetime as dt\n",
    "import itertools as it\n",
    "\n",
    "import numpy as np\n",
    "import pandas as pd\n",
    "from tqdm.autonotebook import tqdm\n",
    "import ray\n",
    "from ray import train, tune\n",
    "import ipywidgets as widgets\n",
    "\n",
    "from recsys4daos.model_selection import cvtt_open\n",
    "from recsys4daos.datasets import to_microsoft, filter_window_size\n",
    "from recsys4daos.models import LightGCNCustom\n",
    "from recsys4daos.utils import Timer\n",
    "import recsys4daos.utils.notebooks as nbu\n",
    "\n",
    "import recommenders\n",
    "if recommenders.__version__ == '1.2.0':\n",
    "    print(\"Ignoring warnings\")\n",
    "    import warnings\n",
    "    warnings.simplefilter(action='ignore', category=FutureWarning)\n",
    "\n",
    "import paths\n",
    "\n",
    "nbu.print_versions('ray', 'tensorflow')\n",
    "\n",
    "%load_ext autoreload\n",
    "%autoreload 2"
   ]
  },
  {
   "cell_type": "code",
   "execution_count": 2,
   "id": "103ef6bf",
   "metadata": {
    "editable": true,
    "papermill": {
     "duration": 0.025703,
     "end_time": "2024-09-09T10:20:13.449124",
     "exception": false,
     "start_time": "2024-09-09T10:20:13.423421",
     "status": "completed"
    },
    "slideshow": {
     "slide_type": ""
    },
    "tags": [
     "parameters"
    ]
   },
   "outputs": [],
   "source": [
    "# Others config\n",
    "SEED: int = 57\n",
    "RAY_RESULTS_PATH: Path = '~/ray_results3.11'\n",
    "\n",
    "# Dataset splits config\n",
    "ORG_NAME = 'Decentraland'\n",
    "SPLITS_FREQ = 'W-THU'  # Split weekly\n",
    "LAST_FOLDS = 10  # Use just last 10 splits\n",
    "SPLITS_NORMALIZE = True\n",
    "LAST_FOLD_DATE_STR: str = '2023-07-13'\n",
    "\n",
    "# Training config\n",
    "MAX_EPOCHS: int = 200\n",
    "EPOCHS_PER_ITER: int = 5\n",
    "SAMPLES_PER_SPLIT: int = 100\n",
    "MAX_TIME_TOTAL_TRAIN: int = 300\n",
    "OPTIM_METRIC: str = 'map@10'\n",
    "\n",
    "# Search space config\n",
    "MAX_EMBEDDING_DIM = 1024\n",
    "MIN_BATCH_SIZE = 6\n",
    "MAX_BATCH_SIZE = 10 # 2**10\n",
    "MIN_LR = 1e-4\n",
    "# WINDOW_SIZES = ['7d', '14d', '21d', '30d', '60d', '90d', '10YE']\n",
    "WINDOW_SIZES = ['21d', '30d', '60d', '90d', '10YE']\n",
    "GPUS = 16\n",
    "\n",
    "# Eval config\n",
    "K_RECOMMENDATIONS: List[int] = [1,3,5,10,15,100]\n",
    "METRICS: List[str] = [\"recall\", \"ndcg\", \"precision\", \"map\"]"
   ]
  },
  {
   "cell_type": "code",
   "execution_count": 3,
   "id": "8e7cd451",
   "metadata": {
    "papermill": {
     "duration": 0.022585,
     "end_time": "2024-09-09T10:20:13.474123",
     "exception": false,
     "start_time": "2024-09-09T10:20:13.451538",
     "status": "completed"
    },
    "tags": [
     "injected-parameters"
    ]
   },
   "outputs": [],
   "source": [
    "# Parameters\n",
    "EXECUTION_ID = \"2024-09-04T10:00\"\n",
    "MIN_BATCH_SIZE = 4\n",
    "ORG_NAME = \"Magic Square\"\n",
    "SPLITS_FREQ = \"7d\"\n",
    "LAST_FOLDS = 10\n",
    "SPLITS_NORMALIZE = True\n",
    "LAST_FOLD_DATE_STR = \"2023-07-17\"\n"
   ]
  },
  {
   "cell_type": "code",
   "execution_count": 4,
   "id": "63c8ed8f",
   "metadata": {
    "papermill": {
     "duration": 0.02161,
     "end_time": "2024-09-09T10:20:13.497977",
     "exception": false,
     "start_time": "2024-09-09T10:20:13.476367",
     "status": "completed"
    },
    "tags": []
   },
   "outputs": [],
   "source": [
    "RAY_RESULTS_PATH = Path(RAY_RESULTS_PATH).expanduser()"
   ]
  },
  {
   "cell_type": "markdown",
   "id": "00da9c99",
   "metadata": {
    "papermill": {
     "duration": 0.002339,
     "end_time": "2024-09-09T10:20:13.502615",
     "exception": false,
     "start_time": "2024-09-09T10:20:13.500276",
     "status": "completed"
    },
    "tags": []
   },
   "source": [
    "## Obtain dataset"
   ]
  },
  {
   "cell_type": "code",
   "execution_count": 5,
   "id": "d10681ea",
   "metadata": {
    "papermill": {
     "duration": 0.151196,
     "end_time": "2024-09-09T10:20:13.656060",
     "exception": false,
     "start_time": "2024-09-09T10:20:13.504864",
     "status": "completed"
    },
    "tags": []
   },
   "outputs": [
    {
     "name": "stdout",
     "output_type": "stream",
     "text": [
      "/home/daviddavo/recsys4daos/notebooks\n"
     ]
    }
   ],
   "source": [
    "!pwd"
   ]
  },
  {
   "cell_type": "code",
   "execution_count": 6,
   "id": "38ddea54",
   "metadata": {
    "papermill": {
     "duration": 0.341968,
     "end_time": "2024-09-09T10:20:14.006237",
     "exception": false,
     "start_time": "2024-09-09T10:20:13.664269",
     "status": "completed"
    },
    "tags": []
   },
   "outputs": [
    {
     "name": "stdout",
     "output_type": "stream",
     "text": [
      "<class 'pandas.core.frame.DataFrame'>\n",
      "RangeIndex: 316 entries, 0 to 315\n",
      "Data columns (total 6 columns):\n",
      " #   Column             Non-Null Count  Dtype         \n",
      "---  ------             --------------  -----         \n",
      " 0   id                 316 non-null    object        \n",
      " 1   author             316 non-null    object        \n",
      " 2   date               316 non-null    datetime64[us]\n",
      " 3   start              316 non-null    datetime64[us]\n",
      " 4   end                316 non-null    datetime64[us]\n",
      " 5   platform_proposal  316 non-null    object        \n",
      "dtypes: datetime64[us](3), object(3)\n",
      "memory usage: 14.9+ KB\n",
      "None\n",
      "<class 'pandas.core.frame.DataFrame'>\n",
      "RangeIndex: 899961 entries, 0 to 899960\n",
      "Data columns (total 4 columns):\n",
      " #   Column    Non-Null Count   Dtype         \n",
      "---  ------    --------------   -----         \n",
      " 0   id        899961 non-null  object        \n",
      " 1   proposal  899961 non-null  object        \n",
      " 2   voter     899961 non-null  object        \n",
      " 3   date      899961 non-null  datetime64[us]\n",
      "dtypes: datetime64[us](1), object(3)\n",
      "memory usage: 27.5+ MB\n",
      "None\n"
     ]
    }
   ],
   "source": [
    "dfp = paths.load_proposals(ORG_NAME)\n",
    "dfv = paths.load_votes(ORG_NAME)\n",
    "\n",
    "print(dfp.info())\n",
    "print(dfv.info())"
   ]
  },
  {
   "cell_type": "markdown",
   "id": "4e56d98a",
   "metadata": {
    "papermill": {
     "duration": 0.002603,
     "end_time": "2024-09-09T10:20:14.011479",
     "exception": false,
     "start_time": "2024-09-09T10:20:14.008876",
     "status": "completed"
    },
    "tags": []
   },
   "source": [
    "## Split data"
   ]
  },
  {
   "cell_type": "code",
   "execution_count": 7,
   "id": "def86dba",
   "metadata": {
    "papermill": {
     "duration": 0.089148,
     "end_time": "2024-09-09T10:20:14.103357",
     "exception": false,
     "start_time": "2024-09-09T10:20:14.014209",
     "status": "completed"
    },
    "tags": []
   },
   "outputs": [
    {
     "data": {
      "text/html": [
       "<div>\n",
       "<style scoped>\n",
       "    .dataframe tbody tr th:only-of-type {\n",
       "        vertical-align: middle;\n",
       "    }\n",
       "\n",
       "    .dataframe tbody tr th {\n",
       "        vertical-align: top;\n",
       "    }\n",
       "\n",
       "    .dataframe thead th {\n",
       "        text-align: right;\n",
       "    }\n",
       "</style>\n",
       "<table border=\"1\" class=\"dataframe\">\n",
       "  <thead>\n",
       "    <tr style=\"text-align: right;\">\n",
       "      <th></th>\n",
       "      <th>userID</th>\n",
       "      <th>itemID</th>\n",
       "      <th>timestamp</th>\n",
       "      <th>rating</th>\n",
       "    </tr>\n",
       "  </thead>\n",
       "  <tbody>\n",
       "    <tr>\n",
       "      <th>0</th>\n",
       "      <td>0x2212d5f1e531d9786f12df2af0661cfd58cbae71</td>\n",
       "      <td>5611034c-c172-5e23-9c3b-1268fde09c85</td>\n",
       "      <td>2023-05-08 11:56:03</td>\n",
       "      <td>1</td>\n",
       "    </tr>\n",
       "    <tr>\n",
       "      <th>1</th>\n",
       "      <td>0x5f8ba595ede4554929a04a0ce9c0d7b31aa3661f</td>\n",
       "      <td>5611034c-c172-5e23-9c3b-1268fde09c85</td>\n",
       "      <td>2023-05-08 11:57:28</td>\n",
       "      <td>1</td>\n",
       "    </tr>\n",
       "    <tr>\n",
       "      <th>2</th>\n",
       "      <td>0xef6ad4fcaf7be57f244e617394b5968d3db9ffa0</td>\n",
       "      <td>5611034c-c172-5e23-9c3b-1268fde09c85</td>\n",
       "      <td>2023-05-08 11:57:48</td>\n",
       "      <td>1</td>\n",
       "    </tr>\n",
       "    <tr>\n",
       "      <th>3</th>\n",
       "      <td>0xa7db4f21096c45d9392affb9f9ed65110c2838d1</td>\n",
       "      <td>5611034c-c172-5e23-9c3b-1268fde09c85</td>\n",
       "      <td>2023-05-08 12:02:28</td>\n",
       "      <td>1</td>\n",
       "    </tr>\n",
       "    <tr>\n",
       "      <th>4</th>\n",
       "      <td>0xe39a6e7d1cfa126b2dcdba9bf8124ba403f37a68</td>\n",
       "      <td>5611034c-c172-5e23-9c3b-1268fde09c85</td>\n",
       "      <td>2023-05-08 12:02:33</td>\n",
       "      <td>1</td>\n",
       "    </tr>\n",
       "    <tr>\n",
       "      <th>...</th>\n",
       "      <td>...</td>\n",
       "      <td>...</td>\n",
       "      <td>...</td>\n",
       "      <td>...</td>\n",
       "    </tr>\n",
       "    <tr>\n",
       "      <th>899956</th>\n",
       "      <td>0xa607a4b265dd82fc99169faeb29470e2bf3566ce</td>\n",
       "      <td>cdcb5a6f-c0c6-5b1a-840b-85715450033b</td>\n",
       "      <td>2023-07-20 07:53:03</td>\n",
       "      <td>1</td>\n",
       "    </tr>\n",
       "    <tr>\n",
       "      <th>899957</th>\n",
       "      <td>0xa607a4b265dd82fc99169faeb29470e2bf3566ce</td>\n",
       "      <td>6b685db4-bf17-5c9a-9214-3ffa835699a3</td>\n",
       "      <td>2023-07-20 07:53:58</td>\n",
       "      <td>1</td>\n",
       "    </tr>\n",
       "    <tr>\n",
       "      <th>899958</th>\n",
       "      <td>0xa3d904e8cd2366d27724e0454cb5641cf1380be8</td>\n",
       "      <td>ceb1134c-c268-5d54-9ed6-4edbf129cd87</td>\n",
       "      <td>2023-07-20 08:15:16</td>\n",
       "      <td>1</td>\n",
       "    </tr>\n",
       "    <tr>\n",
       "      <th>899959</th>\n",
       "      <td>0xa3d904e8cd2366d27724e0454cb5641cf1380be8</td>\n",
       "      <td>6b685db4-bf17-5c9a-9214-3ffa835699a3</td>\n",
       "      <td>2023-07-20 08:15:59</td>\n",
       "      <td>1</td>\n",
       "    </tr>\n",
       "    <tr>\n",
       "      <th>899960</th>\n",
       "      <td>0x5e8985136579c49854dfca90eda4da1329e92556</td>\n",
       "      <td>ceb1134c-c268-5d54-9ed6-4edbf129cd87</td>\n",
       "      <td>2023-07-20 08:19:43</td>\n",
       "      <td>1</td>\n",
       "    </tr>\n",
       "  </tbody>\n",
       "</table>\n",
       "<p>899961 rows × 4 columns</p>\n",
       "</div>"
      ],
      "text/plain": [
       "                                            userID  \\\n",
       "0       0x2212d5f1e531d9786f12df2af0661cfd58cbae71   \n",
       "1       0x5f8ba595ede4554929a04a0ce9c0d7b31aa3661f   \n",
       "2       0xef6ad4fcaf7be57f244e617394b5968d3db9ffa0   \n",
       "3       0xa7db4f21096c45d9392affb9f9ed65110c2838d1   \n",
       "4       0xe39a6e7d1cfa126b2dcdba9bf8124ba403f37a68   \n",
       "...                                            ...   \n",
       "899956  0xa607a4b265dd82fc99169faeb29470e2bf3566ce   \n",
       "899957  0xa607a4b265dd82fc99169faeb29470e2bf3566ce   \n",
       "899958  0xa3d904e8cd2366d27724e0454cb5641cf1380be8   \n",
       "899959  0xa3d904e8cd2366d27724e0454cb5641cf1380be8   \n",
       "899960  0x5e8985136579c49854dfca90eda4da1329e92556   \n",
       "\n",
       "                                      itemID           timestamp  rating  \n",
       "0       5611034c-c172-5e23-9c3b-1268fde09c85 2023-05-08 11:56:03       1  \n",
       "1       5611034c-c172-5e23-9c3b-1268fde09c85 2023-05-08 11:57:28       1  \n",
       "2       5611034c-c172-5e23-9c3b-1268fde09c85 2023-05-08 11:57:48       1  \n",
       "3       5611034c-c172-5e23-9c3b-1268fde09c85 2023-05-08 12:02:28       1  \n",
       "4       5611034c-c172-5e23-9c3b-1268fde09c85 2023-05-08 12:02:33       1  \n",
       "...                                      ...                 ...     ...  \n",
       "899956  cdcb5a6f-c0c6-5b1a-840b-85715450033b 2023-07-20 07:53:03       1  \n",
       "899957  6b685db4-bf17-5c9a-9214-3ffa835699a3 2023-07-20 07:53:58       1  \n",
       "899958  ceb1134c-c268-5d54-9ed6-4edbf129cd87 2023-07-20 08:15:16       1  \n",
       "899959  6b685db4-bf17-5c9a-9214-3ffa835699a3 2023-07-20 08:15:59       1  \n",
       "899960  ceb1134c-c268-5d54-9ed6-4edbf129cd87 2023-07-20 08:19:43       1  \n",
       "\n",
       "[899961 rows x 4 columns]"
      ]
     },
     "execution_count": 7,
     "metadata": {},
     "output_type": "execute_result"
    }
   ],
   "source": [
    "df = to_microsoft(dfv)\n",
    "df"
   ]
  },
  {
   "cell_type": "code",
   "execution_count": 8,
   "id": "5484593a",
   "metadata": {
    "editable": true,
    "papermill": {
     "duration": 1.818354,
     "end_time": "2024-09-09T10:20:15.924421",
     "exception": false,
     "start_time": "2024-09-09T10:20:14.106067",
     "status": "completed"
    },
    "slideshow": {
     "slide_type": ""
    },
    "tags": []
   },
   "outputs": [
    {
     "name": "stdout",
     "output_type": "stream",
     "text": [
      "11 folds\n",
      "Using 10 folds, from 2023-05-15T00:00:00 to 2023-07-17T00:00:00\n"
     ]
    }
   ],
   "source": [
    "# USE INTEGER INDEX\n",
    "# folds_dict = list(cvtt_open(df, SPLITS_FREQ, dfp, remove_not_in_train_col='userID'))\n",
    "# use_folds_idx = range(len(folds_dict))[-LAST_FOLDS:]\n",
    "\n",
    "# USE TIMESTAMP INDEX\n",
    "# Note: NO need to used OrderedDict, dict is ordered since Python 3.6\n",
    "folds_dict = { f.end.isoformat():f for f in cvtt_open(df, SPLITS_FREQ, dfp, remove_not_in_train_col='userID', last_fold=LAST_FOLD_DATE_STR) }\n",
    "use_folds_idx = list(folds_dict.keys())[-LAST_FOLDS:]\n",
    "\n",
    "print(len(folds_dict), \"folds\")\n",
    "print(\"Using\", len(use_folds_idx), \"folds, from\", use_folds_idx[0], \"to\", use_folds_idx[-1])"
   ]
  },
  {
   "cell_type": "markdown",
   "id": "03f79c3d",
   "metadata": {
    "papermill": {
     "duration": 0.002889,
     "end_time": "2024-09-09T10:20:15.930325",
     "exception": false,
     "start_time": "2024-09-09T10:20:15.927436",
     "status": "completed"
    },
    "tags": []
   },
   "source": [
    "## Making some checks"
   ]
  },
  {
   "cell_type": "markdown",
   "id": "d563c2fe",
   "metadata": {
    "papermill": {
     "duration": 0.002551,
     "end_time": "2024-09-09T10:20:15.935602",
     "exception": false,
     "start_time": "2024-09-09T10:20:15.933051",
     "status": "completed"
    },
    "tags": []
   },
   "source": [
    "### Checking that all the folds have open proposals"
   ]
  },
  {
   "cell_type": "code",
   "execution_count": 9,
   "id": "3740d4a9",
   "metadata": {
    "papermill": {
     "duration": 0.025627,
     "end_time": "2024-09-09T10:20:15.963606",
     "exception": false,
     "start_time": "2024-09-09T10:20:15.937979",
     "status": "completed"
    },
    "tags": []
   },
   "outputs": [],
   "source": [
    "_nok_folds = []\n",
    "for idx in use_folds_idx:\n",
    "    if len(folds_dict[idx].open_proposals) == 0:\n",
    "        _nok_folds.append(idx)\n",
    "\n",
    "if _nok_folds:\n",
    "    raise ValueError(f\"Folds {', '.join(_nok_folds)} don't have any open proposals\")"
   ]
  },
  {
   "cell_type": "markdown",
   "id": "5ef93c59",
   "metadata": {
    "papermill": {
     "duration": 0.002662,
     "end_time": "2024-09-09T10:20:15.968794",
     "exception": false,
     "start_time": "2024-09-09T10:20:15.966132",
     "status": "completed"
    },
    "tags": []
   },
   "source": [
    "### Checking correct hparams"
   ]
  },
  {
   "cell_type": "code",
   "execution_count": 10,
   "id": "d63c9984",
   "metadata": {
    "papermill": {
     "duration": 1.156195,
     "end_time": "2024-09-09T10:20:17.127587",
     "exception": false,
     "start_time": "2024-09-09T10:20:15.971392",
     "status": "completed"
    },
    "tags": []
   },
   "outputs": [
    {
     "name": "stderr",
     "output_type": "stream",
     "text": [
      "On fold 2023-05-15T00:00:00 WINDOW_SIZE should be at least 21d: 1518 > 1024\n",
      "On fold 2023-05-22T00:00:00 WINDOW_SIZE should be at least 21d: 2668 > 1024\n",
      "On fold 2023-05-29T00:00:00 WINDOW_SIZE should be at least 21d: 5046 > 1024\n",
      "On fold 2023-06-05T00:00:00 WINDOW_SIZE should be at least 21d: 10407 > 1024\n",
      "On fold 2023-06-12T00:00:00 WINDOW_SIZE should be at least 21d: 15580 > 1024\n",
      "On fold 2023-06-19T00:00:00 WINDOW_SIZE should be at least 21d: 20468 > 1024\n",
      "On fold 2023-06-26T00:00:00 WINDOW_SIZE should be at least 21d: 19278 > 1024\n",
      "On fold 2023-07-03T00:00:00 WINDOW_SIZE should be at least 21d: 33397 > 1024\n",
      "On fold 2023-07-10T00:00:00 WINDOW_SIZE should be at least 21d: 31431 > 1024\n",
      "On fold 2023-07-17T00:00:00 WINDOW_SIZE should be at least 21d: 37367 > 1024\n"
     ]
    },
    {
     "name": "stdout",
     "output_type": "stream",
     "text": [
      "All folds ok!\n"
     ]
    }
   ],
   "source": [
    "now = dt.datetime.now()\n",
    "max_bs = 2**MAX_BATCH_SIZE\n",
    "min_bs = 2**MIN_BATCH_SIZE\n",
    "_sorted_ws = sorted(WINDOW_SIZES, key=lambda ws: now + pd.tseries.frequencies.to_offset(ws))\n",
    "\n",
    "# Checking that the max_bs is doable with every window size\n",
    "for idx in use_folds_idx:\n",
    "    for ws in _sorted_ws:\n",
    "        nusers = filter_window_size(folds_dict[idx].train, folds_dict[idx].end, ws)['userID'].nunique()\n",
    "        if nusers > max_bs:\n",
    "            print(f'On fold {idx} WINDOW_SIZE should be at least {ws}: {nusers} > {max_bs}', file=sys.stderr)\n",
    "            break\n",
    "\n",
    "# Checking that the min_bs is doable with every window size\n",
    "for idx in use_folds_idx:\n",
    "    for ws in reversed(_sorted_ws):\n",
    "        nusers = filter_window_size(folds_dict[idx].train, folds_dict[idx].end, ws)['userID'].nunique()\n",
    "        if nusers < min_bs:\n",
    "            print(f'On fold {idx} WINDOW_SIZE should be more than {ws}: {nusers} < {min_bs}', file=sys.stderr)\n",
    "            break\n",
    "\n",
    "# Checking that the max_ws is doable with every batch size\n",
    "max_ws = _sorted_ws[-1]\n",
    "for idx in use_folds_idx:\n",
    "    nusers = filter_window_size(folds_dict[idx].train, folds_dict[idx].end, max_ws)['userID'].nunique()\n",
    "    for bs in (2**x for x in reversed(range(MIN_BATCH_SIZE, MAX_BATCH_SIZE+1))):\n",
    "        if bs > nusers:\n",
    "            print(f\"On fold {idx} batch_size should be '<={bs/2}' with {max_ws}: {nusers} < {bs}\", file=sys.stderr)\n",
    "            break\n",
    "\n",
    "print(\"All folds ok!\")"
   ]
  },
  {
   "cell_type": "markdown",
   "id": "98400ab1",
   "metadata": {
    "papermill": {
     "duration": 0.003067,
     "end_time": "2024-09-09T10:20:17.133774",
     "exception": false,
     "start_time": "2024-09-09T10:20:17.130707",
     "status": "completed"
    },
    "tags": []
   },
   "source": [
    "### Number of users with the min window_size"
   ]
  },
  {
   "cell_type": "code",
   "execution_count": 11,
   "id": "96566ec7",
   "metadata": {
    "papermill": {
     "duration": 0.344081,
     "end_time": "2024-09-09T10:20:17.480563",
     "exception": false,
     "start_time": "2024-09-09T10:20:17.136482",
     "status": "completed"
    },
    "tags": []
   },
   "outputs": [
    {
     "name": "stdout",
     "output_type": "stream",
     "text": [
      "On fold 2023-05-15T00:00:00 with ws 21d: 1518 users, ws 10YE: 1518\n",
      "On fold 2023-05-22T00:00:00 with ws 21d: 2668 users, ws 10YE: 2668\n",
      "On fold 2023-05-29T00:00:00 with ws 21d: 5046 users, ws 10YE: 5046\n",
      "On fold 2023-06-05T00:00:00 with ws 21d: 10407 users, ws 10YE: 11200\n",
      "On fold 2023-06-12T00:00:00 with ws 21d: 15580 users, ws 10YE: 17262\n",
      "On fold 2023-06-19T00:00:00 with ws 21d: 20468 users, ws 10YE: 23522\n",
      "On fold 2023-06-26T00:00:00 with ws 21d: 19278 users, ws 10YE: 25944\n",
      "On fold 2023-07-03T00:00:00 with ws 21d: 33397 users, ws 10YE: 44192\n",
      "On fold 2023-07-10T00:00:00 with ws 21d: 31431 users, ws 10YE: 48097\n",
      "On fold 2023-07-17T00:00:00 with ws 21d: 37367 users, ws 10YE: 55529\n"
     ]
    }
   ],
   "source": [
    "_min_ws = _sorted_ws[0]\n",
    "_max_ws = _sorted_ws[-1]\n",
    "for idx in use_folds_idx:\n",
    "    nusers = filter_window_size(folds_dict[idx].train, folds_dict[idx].end, _min_ws)['userID'].nunique()\n",
    "    nusers2 = filter_window_size(folds_dict[idx].train, folds_dict[idx].end, _max_ws)['userID'].nunique()\n",
    "    print(f'On fold {idx} with ws {_min_ws}: {nusers} users, ws {_max_ws}: {nusers2}')"
   ]
  },
  {
   "cell_type": "markdown",
   "id": "f269885f",
   "metadata": {
    "editable": true,
    "papermill": {
     "duration": 0.003108,
     "end_time": "2024-09-09T10:20:17.487243",
     "exception": false,
     "start_time": "2024-09-09T10:20:17.484135",
     "status": "completed"
    },
    "slideshow": {
     "slide_type": ""
    },
    "tags": []
   },
   "source": [
    "## Testing model"
   ]
  },
  {
   "cell_type": "code",
   "execution_count": 12,
   "id": "cb2b5f55",
   "metadata": {
    "papermill": {
     "duration": 0.026591,
     "end_time": "2024-09-09T10:20:17.516507",
     "exception": false,
     "start_time": "2024-09-09T10:20:17.489916",
     "status": "completed"
    },
    "tags": []
   },
   "outputs": [],
   "source": [
    "from recommenders.models.deeprec.DataModel.ImplicitCF import ImplicitCF\n",
    "from recommenders.models.deeprec.deeprec_utils import prepare_hparams"
   ]
  },
  {
   "cell_type": "code",
   "execution_count": 13,
   "id": "64899c45",
   "metadata": {
    "editable": true,
    "papermill": {
     "duration": 0.024807,
     "end_time": "2024-09-09T10:20:17.544092",
     "exception": false,
     "start_time": "2024-09-09T10:20:17.519285",
     "status": "completed"
    },
    "slideshow": {
     "slide_type": ""
    },
    "tags": []
   },
   "outputs": [],
   "source": [
    "# hparams = prepare_hparams(\n",
    "#     model_type='lightgcn',\n",
    "#     n_layers=3,\n",
    "#     batch_size=512,\n",
    "#     embed_size=64,\n",
    "#     epochs=2,\n",
    "#     learning_rate=0.001,\n",
    "#     decay=0.001,\n",
    "#     metrics=[\"recall\", \"ndcg\", \"precision\", \"map\"],\n",
    "#     eval_epoch=2,\n",
    "#     top_k=K_RECOMMENDATIONS[0],\n",
    "#     save_model=False,\n",
    "#     MODEL_DIR='./data/model/lightgcn/',\n",
    "# )\n",
    "# dataloader = ImplicitCF(train=folds_dict[use_folds_idx[0]].train, test=folds_dict[use_folds_idx[0]].test, seed=SEED)\n",
    "# print(\"items:\", dataloader.n_items, \"user:\", dataloader.n_users)\n",
    "# model = LightGCNCustom(data=dataloader, hparams=hparams)"
   ]
  },
  {
   "cell_type": "code",
   "execution_count": 14,
   "id": "3962af20",
   "metadata": {
    "papermill": {
     "duration": 0.02225,
     "end_time": "2024-09-09T10:20:17.569216",
     "exception": false,
     "start_time": "2024-09-09T10:20:17.546966",
     "status": "completed"
    },
    "tags": []
   },
   "outputs": [],
   "source": [
    "# model.fit()\n",
    "# model.run_eval()"
   ]
  },
  {
   "cell_type": "code",
   "execution_count": 15,
   "id": "f970424f",
   "metadata": {
    "editable": true,
    "papermill": {
     "duration": 0.021068,
     "end_time": "2024-09-09T10:20:17.593109",
     "exception": false,
     "start_time": "2024-09-09T10:20:17.572041",
     "status": "completed"
    },
    "slideshow": {
     "slide_type": ""
    },
    "tags": []
   },
   "outputs": [],
   "source": [
    "# model.recommend_k_items(\n",
    "#     dataloader.test, \n",
    "#     top_k=3, \n",
    "#     use_id=True, \n",
    "#     remove_seen=True, \n",
    "#     recommend_from=folds_dict[use_folds_idx[0]].open_proposals\n",
    "# )"
   ]
  },
  {
   "cell_type": "markdown",
   "id": "6be3aff2",
   "metadata": {
    "papermill": {
     "duration": 0.003008,
     "end_time": "2024-09-09T10:20:17.599149",
     "exception": false,
     "start_time": "2024-09-09T10:20:17.596141",
     "status": "completed"
    },
    "tags": []
   },
   "source": [
    "## Defining trainable"
   ]
  },
  {
   "cell_type": "code",
   "execution_count": 16,
   "id": "4c55c67a",
   "metadata": {
    "papermill": {
     "duration": 0.021607,
     "end_time": "2024-09-09T10:20:17.623601",
     "exception": false,
     "start_time": "2024-09-09T10:20:17.601994",
     "status": "completed"
    },
    "tags": []
   },
   "outputs": [],
   "source": [
    "from recsys4daos.evaluation import calculate_all_metrics"
   ]
  },
  {
   "cell_type": "code",
   "execution_count": 17,
   "id": "f6b68d78",
   "metadata": {
    "editable": true,
    "papermill": {
     "duration": 0.025426,
     "end_time": "2024-09-09T10:20:17.651833",
     "exception": false,
     "start_time": "2024-09-09T10:20:17.626407",
     "status": "completed"
    },
    "slideshow": {
     "slide_type": ""
    },
    "tags": []
   },
   "outputs": [],
   "source": [
    "class TrainLightGCN(tune.Trainable):\n",
    "    def setup(\n",
    "        self,\n",
    "        config: Dict[str, Any],\n",
    "        data,\n",
    "    ):\n",
    "        self.config = config\n",
    "        train, test, self.t, self.open_proposals = data\n",
    "        train_filtered = filter_window_size(train, self.t, config['window_size'])\n",
    "        \n",
    "        # Remove users that voted in everything\n",
    "        # see https://github.com/recommenders-team/recommenders/issues/2163\n",
    "        msk = train_filtered.groupby('userID').size() == train_filtered['itemID'].nunique()\n",
    "        train_filtered = train_filtered[train_filtered['userID'].isin(msk[~msk].index)]\n",
    "        \n",
    "        self.dataloader = ImplicitCF(train=train_filtered, test=test, seed=SEED)\n",
    "        # Some experiments will run multiple times, but that's a price to pay for\n",
    "        # usability\n",
    "        self.real_batch_size = min(2**config['batch_size'], self.dataloader.n_users_in_train)\n",
    "\n",
    "        self.hparams = prepare_hparams(\n",
    "            model_type='lightgcn',\n",
    "            n_layers=config['conv_layers'],\n",
    "            batch_size=self.real_batch_size,\n",
    "            embed_size=config['embedding_dim'],\n",
    "            epochs=EPOCHS_PER_ITER,\n",
    "            learning_rate=config['learning_rate'],\n",
    "            decay=config['l2'],\n",
    "            metrics=METRICS,\n",
    "            eval_epoch=-1,\n",
    "            top_k=K_RECOMMENDATIONS[0],\n",
    "            save_model=False,\n",
    "            MODEL_DIR='./data/model/lightgcn/',\n",
    "        )\n",
    "        self.model = LightGCNCustom(self.hparams, self.dataloader, seed=SEED)\n",
    "        self.total_train = 0\n",
    "        self.total_eval = 0\n",
    "\n",
    "    @property\n",
    "    def iteration(self):\n",
    "        return self.model.epochs_done\n",
    "\n",
    "    @property\n",
    "    def training_iteration(self):\n",
    "        return self.model.epochs_done\n",
    "\n",
    "    def step(self):\n",
    "        \"\"\"\n",
    "        As a rule of thumb, the execution time of step should be large enough to avoid overheads \n",
    "        (i.e. more than a few seconds), but short enough to report progress periodically \n",
    "        (i.e. at most a few minutes).\n",
    "        \"\"\"\n",
    "        assert EPOCHS_PER_ITER > 0\n",
    "\n",
    "        with Timer() as t_train:\n",
    "            for _ in range(EPOCHS_PER_ITER):\n",
    "                ret = self.model.fit_epoch()\n",
    "\n",
    "\n",
    "        with Timer() as t_rec:\n",
    "            recs = self.model.recommend_k_items(\n",
    "                self.dataloader.test, # Used only to get user ids\n",
    "                top_k=max(K_RECOMMENDATIONS),\n",
    "                use_id=True,\n",
    "                remove_seen=True,\n",
    "                recommend_from=self.open_proposals,\n",
    "            )\n",
    "        \n",
    "        eval_dict = {'model_'+k:v for k,v in zip(self.model.metrics, self.model.run_eval())}\n",
    "        eval_dict |= calculate_all_metrics(self.dataloader.test, recs, K_RECOMMENDATIONS)\n",
    "\n",
    "        self.total_train += t_train.time\n",
    "        self.total_eval += eval_dict['time_eval']\n",
    "        \n",
    "        return {\n",
    "            'real_batch_size': self.real_batch_size,\n",
    "            'iteration': self.iteration,\n",
    "            'loss': ret[0],\n",
    "            'mf_loss': ret[1],\n",
    "            'emb_loss': ret[2],\n",
    "            **eval_dict,\n",
    "            'time_train': t_train.time,\n",
    "            'time_rec': t_rec.time,\n",
    "            'time_total_train': self.total_train,\n",
    "            'time_total_test': self.total_eval,\n",
    "        }\n",
    "\n",
    "    def save_checkpoint(self, checkpoint_dir):\n",
    "        checkpoint_path = os.path.join(checkpoint_dir, \"model\")\n",
    "        self.model.saver.save(\n",
    "            sess=self.model.sess,\n",
    "            save_path=checkpoint_path,\n",
    "        )\n",
    "        return checkpoint_dir\n",
    "\n",
    "    def load_checkpoint(self, checkpoint_path):\n",
    "        self.model.load(checkpoint_path)"
   ]
  },
  {
   "cell_type": "markdown",
   "id": "af525c3c",
   "metadata": {
    "editable": true,
    "papermill": {
     "duration": 0.002749,
     "end_time": "2024-09-09T10:20:17.657283",
     "exception": false,
     "start_time": "2024-09-09T10:20:17.654534",
     "status": "completed"
    },
    "slideshow": {
     "slide_type": ""
    },
    "tags": []
   },
   "source": [
    "## Big experiment"
   ]
  },
  {
   "cell_type": "code",
   "execution_count": 18,
   "id": "3ae7d95a",
   "metadata": {
    "editable": true,
    "papermill": {
     "duration": 0.021086,
     "end_time": "2024-09-09T10:20:17.681043",
     "exception": false,
     "start_time": "2024-09-09T10:20:17.659957",
     "status": "completed"
    },
    "slideshow": {
     "slide_type": ""
    },
    "tags": []
   },
   "outputs": [
    {
     "data": {
      "text/plain": [
       "PosixPath('/home/daviddavo/ray_results3.11')"
      ]
     },
     "execution_count": 18,
     "metadata": {},
     "output_type": "execute_result"
    }
   ],
   "source": [
    "RAY_RESULTS_PATH"
   ]
  },
  {
   "cell_type": "code",
   "execution_count": 19,
   "id": "f7cfc283",
   "metadata": {
    "editable": true,
    "papermill": {
     "duration": 0.021936,
     "end_time": "2024-09-09T10:20:17.705700",
     "exception": false,
     "start_time": "2024-09-09T10:20:17.683764",
     "status": "completed"
    },
    "slideshow": {
     "slide_type": ""
    },
    "tags": []
   },
   "outputs": [
    {
     "name": "stdout",
     "output_type": "stream",
     "text": [
      "lamarck\n",
      "{'cpu': 1, 'gpu': 0.0625}\n"
     ]
    }
   ],
   "source": [
    "print(os.uname().nodename)\n",
    "\n",
    "### SET TRAINING RESOURCES\n",
    "if os.uname().nodename == 'lamarck':\n",
    "    # assert torch.cuda.is_available()\n",
    "\n",
    "    NUM_SAMPLES = SAMPLES_PER_SPLIT\n",
    "    # Every run takes approx half a gig of vram (no optimizations)\n",
    "    # The RTX 4090 has 24GB so we can run the model about 48 times\n",
    "    resources_per_trial={\n",
    "        'cpu': 1,\n",
    "        'gpu': 1 / GPUS,\n",
    "    }\n",
    "else:\n",
    "    NUM_SAMPLES = 1\n",
    "    resources_per_trial={\n",
    "        'cpu': 1,\n",
    "        # It takes about 1.5 GiB with full training data, but I put a bit more because\n",
    "        # this notebook also takes a bit of memory\n",
    "        'memory': 2e9,\n",
    "    }\n",
    "print(resources_per_trial)"
   ]
  },
  {
   "cell_type": "code",
   "execution_count": 20,
   "id": "64e0e1a7",
   "metadata": {
    "editable": true,
    "papermill": {
     "duration": 0.094948,
     "end_time": "2024-09-09T10:20:17.803837",
     "exception": false,
     "start_time": "2024-09-09T10:20:17.708889",
     "status": "completed"
    },
    "slideshow": {
     "slide_type": ""
    },
    "tags": []
   },
   "outputs": [],
   "source": [
    "from ray.tune.search.hyperopt import HyperOptSearch"
   ]
  },
  {
   "cell_type": "code",
   "execution_count": 21,
   "id": "7179a31f",
   "metadata": {
    "editable": true,
    "papermill": {
     "duration": 0.029093,
     "end_time": "2024-09-09T10:20:17.838411",
     "exception": false,
     "start_time": "2024-09-09T10:20:17.809318",
     "status": "completed"
    },
    "slideshow": {
     "slide_type": ""
    },
    "tags": []
   },
   "outputs": [],
   "source": [
    "def getTunerOnFold(f_idx, points_to_evaluate = None):    \n",
    "    name = paths.lightgcn_ray_tune_fname(ORG_NAME, SPLITS_FREQ, SPLITS_NORMALIZE, OPTIM_METRIC, fold=f_idx)\n",
    "    experiments = list(RAY_RESULTS_PATH.glob(f'{name}_*'))\n",
    "    last_experiment = max(experiments, key=lambda x: x.stat().st_ctime) if experiments else None\n",
    "    f = folds_dict[f_idx]\n",
    "\n",
    "    dftrain,dftest,t,open_proposals = folds_dict[f_idx]\n",
    "    param_space = dict(\n",
    "        batch_size=tune.randint(MIN_BATCH_SIZE, MAX_BATCH_SIZE+1), # 64 - 2**MAX_BATCH_SIZE\n",
    "        embedding_dim=tune.lograndint(1, MAX_EMBEDDING_DIM, base=2),\n",
    "        conv_layers=tune.randint(1,5),\n",
    "        learning_rate=tune.qloguniform(MIN_LR, 1, 1e-4),\n",
    "        l2=tune.loguniform(1e-7, 1e-2, 1e-7),\n",
    "        window_size=tune.choice(WINDOW_SIZES),\n",
    "        # Just so it appears on the output\n",
    "        fold=f_idx,\n",
    "    )\n",
    "    \n",
    "    ### RESTORE EXPERIMENT OR CREATE A NEW ONE\n",
    "    if last_experiment and tune.Tuner.can_restore(last_experiment):\n",
    "        print(f\"Restoring last experiment: {last_experiment}\")\n",
    "        tuner = tune.Tuner.restore(\n",
    "            str(last_experiment),\n",
    "            trainable=tune.with_resources(\n",
    "                # tune.with_parameters(TrainLightGCN,  train=dftrain, test=dftest, open_proposals=open_proposals),\n",
    "                tune.with_parameters(TrainLightGCN, data=f),\n",
    "                resources_per_trial,\n",
    "            ),\n",
    "            restart_errored=True,\n",
    "            param_space=param_space,\n",
    "        )\n",
    "    else:\n",
    "        print(f\"No experiment found for fold {f_idx}, creating new tuner with {NUM_SAMPLES} samples\")\n",
    "        search_alg = None\n",
    "        \n",
    "        search_alg = HyperOptSearch(\n",
    "            points_to_evaluate = points_to_evaluate,\n",
    "            random_state_seed=SEED,\n",
    "        )\n",
    "        # search_alg = tune.search.Repeater(search_alg, N_SPLITS-SKIP_SPLIT)\n",
    "        \n",
    "        tuner = tune.Tuner(\n",
    "            tune.with_resources(\n",
    "                # tune.with_parameters(TrainLightGCN,  train=dftrain, test=dftest, open_proposals=open_proposals),\n",
    "                tune.with_parameters(TrainLightGCN, data=folds_dict[f_idx]),\n",
    "                resources_per_trial,\n",
    "            ),\n",
    "            run_config=train.RunConfig(\n",
    "                stop={'training_iteration': MAX_EPOCHS/EPOCHS_PER_ITER, 'time_total_train': MAX_TIME_TOTAL_TRAIN},\n",
    "                name=name + f'_{dt.datetime.now().isoformat()}',\n",
    "                storage_path=RAY_RESULTS_PATH,\n",
    "                # failure_config=train.FailureConfig(fail_fast='raise'),\n",
    "                failure_config=train.FailureConfig(max_failures=3),\n",
    "            ),\n",
    "            param_space=param_space,\n",
    "            tune_config=tune.TuneConfig(\n",
    "                search_alg=search_alg,\n",
    "                num_samples=NUM_SAMPLES,\n",
    "                metric=OPTIM_METRIC,\n",
    "                mode='max',\n",
    "            )\n",
    "        )\n",
    "\n",
    "    return tuner"
   ]
  },
  {
   "cell_type": "code",
   "execution_count": 22,
   "id": "8d7f9b66",
   "metadata": {
    "editable": true,
    "papermill": {
     "duration": 0.03091,
     "end_time": "2024-09-09T10:20:17.872412",
     "exception": false,
     "start_time": "2024-09-09T10:20:17.841502",
     "status": "completed"
    },
    "slideshow": {
     "slide_type": ""
    },
    "tags": []
   },
   "outputs": [
    {
     "data": {
      "application/vnd.jupyter.widget-view+json": {
       "model_id": "e001118b47464190bc274d273784efc4",
       "version_major": 2,
       "version_minor": 0
      },
      "text/plain": [
       "fold:   0%|          | 0/10 [00:00<?, ?it/s]"
      ]
     },
     "metadata": {},
     "output_type": "display_data"
    },
    {
     "data": {
      "application/vnd.jupyter.widget-view+json": {
       "model_id": "aafe6a2fe2784d23988c344b47c65f41",
       "version_major": 2,
       "version_minor": 0
      },
      "text/plain": [
       "Output(layout=Layout(border_bottom='1px solid black', border_left='1px solid black', border_right='1px solid b…"
      ]
     },
     "execution_count": 22,
     "metadata": {},
     "output_type": "execute_result"
    }
   ],
   "source": [
    "# We need to display the progress bar in another cell because ray tune \"overwrites\" the previous output\n",
    "pbar = tqdm(total=len(use_folds_idx), desc='fold')\n",
    "out = widgets.Output(layout={'border': '1px solid black'})\n",
    "with out:\n",
    "    print(\"In this cell important output from the next cell will be shown\")\n",
    "out"
   ]
  },
  {
   "cell_type": "markdown",
   "id": "053b9bd9",
   "metadata": {
    "tags": [
     "papermill-error-cell-tag"
    ]
   },
   "source": [
    "<span id=\"papermill-error-cell\" style=\"color:red; font-family:Helvetica Neue, Helvetica, Arial, sans-serif; font-size:2em;\">Execution using papermill encountered an exception here and stopped:</span>"
   ]
  },
  {
   "cell_type": "code",
   "execution_count": 23,
   "id": "97ff29ac",
   "metadata": {
    "editable": true,
    "papermill": {
     "duration": 43828.658487,
     "end_time": "2024-09-09T22:30:46.534418",
     "exception": true,
     "start_time": "2024-09-09T10:20:17.875931",
     "status": "failed"
    },
    "slideshow": {
     "slide_type": ""
    },
    "tags": []
   },
   "outputs": [
    {
     "data": {
      "text/html": [
       "<div class=\"tuneStatus\">\n",
       "  <div style=\"display: flex;flex-direction: row\">\n",
       "    <div style=\"display: flex;flex-direction: column;\">\n",
       "      <h3>Tune Status</h3>\n",
       "      <table>\n",
       "<tbody>\n",
       "<tr><td>Current time:</td><td>2024-09-16 11:12:25</td></tr>\n",
       "<tr><td>Running for: </td><td>00:00:00.27        </td></tr>\n",
       "<tr><td>Memory:      </td><td>13.2/125.6 GiB     </td></tr>\n",
       "</tbody>\n",
       "</table>\n",
       "    </div>\n",
       "    <div class=\"vDivider\"></div>\n",
       "    <div class=\"systemInfo\">\n",
       "      <h3>System Info</h3>\n",
       "      Using FIFO scheduling algorithm.<br>Logical resource usage: 0/24 CPUs, 0/1 GPUs (0.0/1.0 accelerator_type:G)\n",
       "    </div>\n",
       "    <div class=\"vDivider\"></div>\n",
       "<div class=\"messages\">\n",
       "  <h3>Messages</h3>\n",
       "  \n",
       "  \n",
       "  Number of errored trials: 1<br><table>\n",
       "<thead>\n",
       "<tr><th>Trial name            </th><th style=\"text-align: right;\">  # failures</th><th>error file                                                                                                                                                                                                                                                                                                                                          </th></tr>\n",
       "</thead>\n",
       "<tbody>\n",
       "<tr><td>TrainLightGCN_48d50df5</td><td style=\"text-align: right;\">          2*</td><td>/tmp/ray/session_2024-09-16_07-40-51_621665_1312344/artifacts/2024-09-16_07-41-11/LightGCN_7d_normalize_map@10_fold=2023-07-17T00:00:00_2024-09-16T07:41:11.882650/driver_artifacts/TrainLightGCN_48d50df5_17_batch_size=7,conv_layers=2,embedding_dim=241,fold=2023-07-17T00_00_00,l2=0.0000,learning_rate=0.0017,win_2024-09-16_07-43-51/error.txt</td></tr>\n",
       "</tbody>\n",
       "</table><br>* The trial terminated successfully after retrying.\n",
       "</div>\n",
       "<style>\n",
       ".messages {\n",
       "  color: var(--jp-ui-font-color1);\n",
       "  display: flex;\n",
       "  flex-direction: column;\n",
       "  padding-left: 1em;\n",
       "  overflow-y: auto;\n",
       "}\n",
       ".messages h3 {\n",
       "  font-weight: bold;\n",
       "}\n",
       ".vDivider {\n",
       "  border-left-width: var(--jp-border-width);\n",
       "  border-left-color: var(--jp-border-color0);\n",
       "  border-left-style: solid;\n",
       "  margin: 0.5em 1em 0.5em 1em;\n",
       "}\n",
       "</style>\n",
       "\n",
       "  </div>\n",
       "  <div class=\"hDivider\"></div>\n",
       "  <div class=\"trialStatus\">\n",
       "    <h3>Trial Status</h3>\n",
       "    <table>\n",
       "<thead>\n",
       "<tr><th>Trial name            </th><th>status    </th><th>loc                  </th><th style=\"text-align: right;\">  batch_size</th><th style=\"text-align: right;\">  conv_layers</th><th style=\"text-align: right;\">  embedding_dim</th><th>fold               </th><th style=\"text-align: right;\">         l2</th><th style=\"text-align: right;\">  learning_rate</th><th>window_size  </th><th style=\"text-align: right;\">  iter</th><th style=\"text-align: right;\">  total time (s)</th><th style=\"text-align: right;\">  real_batch_size</th><th style=\"text-align: right;\">  iteration</th><th style=\"text-align: right;\">        loss</th></tr>\n",
       "</thead>\n",
       "<tbody>\n",
       "<tr><td>TrainLightGCN_3672f849</td><td>TERMINATED</td><td>147.96.81.131:1322217</td><td style=\"text-align: right;\">           4</td><td style=\"text-align: right;\">            2</td><td style=\"text-align: right;\">              2</td><td>2023-07-17T00:00:00</td><td style=\"text-align: right;\">0.000426525</td><td style=\"text-align: right;\">         0.0012</td><td>60d          </td><td style=\"text-align: right;\">     1</td><td style=\"text-align: right;\">        8922.72 </td><td style=\"text-align: right;\">               16</td><td style=\"text-align: right;\">          5</td><td style=\"text-align: right;\">  0.160473  </td></tr>\n",
       "<tr><td>TrainLightGCN_bbf9bc21</td><td>TERMINATED</td><td>147.96.81.131:1335673</td><td style=\"text-align: right;\">           5</td><td style=\"text-align: right;\">            4</td><td style=\"text-align: right;\">             16</td><td>2023-07-17T00:00:00</td><td style=\"text-align: right;\">0.00039879 </td><td style=\"text-align: right;\">         0.038 </td><td>10YE         </td><td style=\"text-align: right;\">     1</td><td style=\"text-align: right;\">        2904.79 </td><td style=\"text-align: right;\">               32</td><td style=\"text-align: right;\">          5</td><td style=\"text-align: right;\">  0.0992758 </td></tr>\n",
       "<tr><td>TrainLightGCN_a0897030</td><td>TERMINATED</td><td>147.96.81.131:1317883</td><td style=\"text-align: right;\">           5</td><td style=\"text-align: right;\">            4</td><td style=\"text-align: right;\">             97</td><td>2023-07-17T00:00:00</td><td style=\"text-align: right;\">6.09932e-05</td><td style=\"text-align: right;\">         0.0021</td><td>10YE         </td><td style=\"text-align: right;\">     1</td><td style=\"text-align: right;\">       11847.3  </td><td style=\"text-align: right;\">               32</td><td style=\"text-align: right;\">          5</td><td style=\"text-align: right;\">  0.00491038</td></tr>\n",
       "<tr><td>TrainLightGCN_1ce95d57</td><td>TERMINATED</td><td>147.96.81.131:1325940</td><td style=\"text-align: right;\">           4</td><td style=\"text-align: right;\">            4</td><td style=\"text-align: right;\">              4</td><td>2023-07-17T00:00:00</td><td style=\"text-align: right;\">0.0062739  </td><td style=\"text-align: right;\">         0.0038</td><td>21d          </td><td style=\"text-align: right;\">     1</td><td style=\"text-align: right;\">        6282.41 </td><td style=\"text-align: right;\">               16</td><td style=\"text-align: right;\">          5</td><td style=\"text-align: right;\">  0.0737498 </td></tr>\n",
       "<tr><td>TrainLightGCN_e8502921</td><td>TERMINATED</td><td>147.96.81.131:1335138</td><td style=\"text-align: right;\">           6</td><td style=\"text-align: right;\">            4</td><td style=\"text-align: right;\">              6</td><td>2023-07-17T00:00:00</td><td style=\"text-align: right;\">0.00114208 </td><td style=\"text-align: right;\">         0.2629</td><td>90d          </td><td style=\"text-align: right;\">     1</td><td style=\"text-align: right;\">        2544.5  </td><td style=\"text-align: right;\">               64</td><td style=\"text-align: right;\">          5</td><td style=\"text-align: right;\">  1.96685   </td></tr>\n",
       "<tr><td>TrainLightGCN_c7fb91fd</td><td>TERMINATED</td><td>147.96.81.131:1322550</td><td style=\"text-align: right;\">           4</td><td style=\"text-align: right;\">            3</td><td style=\"text-align: right;\">              1</td><td>2023-07-17T00:00:00</td><td style=\"text-align: right;\">0.00268588 </td><td style=\"text-align: right;\">         0.0079</td><td>21d          </td><td style=\"text-align: right;\">     1</td><td style=\"text-align: right;\">        7671.01 </td><td style=\"text-align: right;\">               16</td><td style=\"text-align: right;\">          5</td><td style=\"text-align: right;\">  0.610435  </td></tr>\n",
       "<tr><td>TrainLightGCN_80975fd0</td><td>TERMINATED</td><td>147.96.81.131:1323598</td><td style=\"text-align: right;\">           5</td><td style=\"text-align: right;\">            1</td><td style=\"text-align: right;\">            552</td><td>2023-07-17T00:00:00</td><td style=\"text-align: right;\">0.0020047  </td><td style=\"text-align: right;\">         0.0029</td><td>21d          </td><td style=\"text-align: right;\">     1</td><td style=\"text-align: right;\">        6904.03 </td><td style=\"text-align: right;\">               32</td><td style=\"text-align: right;\">          5</td><td style=\"text-align: right;\">  0.0231684 </td></tr>\n",
       "<tr><td>TrainLightGCN_0e404db3</td><td>TERMINATED</td><td>147.96.81.131:1334556</td><td style=\"text-align: right;\">           7</td><td style=\"text-align: right;\">            4</td><td style=\"text-align: right;\">              2</td><td>2023-07-17T00:00:00</td><td style=\"text-align: right;\">0.00640252 </td><td style=\"text-align: right;\">         0.0951</td><td>60d          </td><td style=\"text-align: right;\">     1</td><td style=\"text-align: right;\">        1832.01 </td><td style=\"text-align: right;\">              128</td><td style=\"text-align: right;\">          5</td><td style=\"text-align: right;\">  0.657955  </td></tr>\n",
       "<tr><td>TrainLightGCN_06700b4a</td><td>TERMINATED</td><td>147.96.81.131:1329682</td><td style=\"text-align: right;\">           6</td><td style=\"text-align: right;\">            2</td><td style=\"text-align: right;\">              1</td><td>2023-07-17T00:00:00</td><td style=\"text-align: right;\">2.54826e-06</td><td style=\"text-align: right;\">         0.2646</td><td>10YE         </td><td style=\"text-align: right;\">     1</td><td style=\"text-align: right;\">        3404.08 </td><td style=\"text-align: right;\">               64</td><td style=\"text-align: right;\">          5</td><td style=\"text-align: right;\">  0.596523  </td></tr>\n",
       "<tr><td>TrainLightGCN_42e9082b</td><td>TERMINATED</td><td>147.96.81.131:1334725</td><td style=\"text-align: right;\">           6</td><td style=\"text-align: right;\">            4</td><td style=\"text-align: right;\">             11</td><td>2023-07-17T00:00:00</td><td style=\"text-align: right;\">0.00543534 </td><td style=\"text-align: right;\">         0.4095</td><td>21d          </td><td style=\"text-align: right;\">     1</td><td style=\"text-align: right;\">        1709.6  </td><td style=\"text-align: right;\">               64</td><td style=\"text-align: right;\">          5</td><td style=\"text-align: right;\">  5.38875   </td></tr>\n",
       "<tr><td>TrainLightGCN_82c45da3</td><td>TERMINATED</td><td>147.96.81.131:1315235</td><td style=\"text-align: right;\">           5</td><td style=\"text-align: right;\">            2</td><td style=\"text-align: right;\">             74</td><td>2023-07-17T00:00:00</td><td style=\"text-align: right;\">8.63799e-07</td><td style=\"text-align: right;\">         0.1736</td><td>10YE         </td><td style=\"text-align: right;\">     1</td><td style=\"text-align: right;\">       10877.1  </td><td style=\"text-align: right;\">               32</td><td style=\"text-align: right;\">          5</td><td style=\"text-align: right;\">  5.51609   </td></tr>\n",
       "<tr><td>TrainLightGCN_a968dc2f</td><td>TERMINATED</td><td>147.96.81.131:1335903</td><td style=\"text-align: right;\">           7</td><td style=\"text-align: right;\">            4</td><td style=\"text-align: right;\">              3</td><td>2023-07-17T00:00:00</td><td style=\"text-align: right;\">4.53948e-06</td><td style=\"text-align: right;\">         0.0203</td><td>21d          </td><td style=\"text-align: right;\">     1</td><td style=\"text-align: right;\">         841.112</td><td style=\"text-align: right;\">              128</td><td style=\"text-align: right;\">          5</td><td style=\"text-align: right;\">  0.0607214 </td></tr>\n",
       "<tr><td>TrainLightGCN_2216ddf7</td><td>TERMINATED</td><td>147.96.81.131:1335353</td><td style=\"text-align: right;\">           7</td><td style=\"text-align: right;\">            4</td><td style=\"text-align: right;\">              1</td><td>2023-07-17T00:00:00</td><td style=\"text-align: right;\">0.000120267</td><td style=\"text-align: right;\">         0.1498</td><td>21d          </td><td style=\"text-align: right;\">     1</td><td style=\"text-align: right;\">         957.488</td><td style=\"text-align: right;\">              128</td><td style=\"text-align: right;\">          5</td><td style=\"text-align: right;\">  0.556761  </td></tr>\n",
       "<tr><td>TrainLightGCN_64fad5fb</td><td>TERMINATED</td><td>147.96.81.131:1330509</td><td style=\"text-align: right;\">           7</td><td style=\"text-align: right;\">            4</td><td style=\"text-align: right;\">              1</td><td>2023-07-17T00:00:00</td><td style=\"text-align: right;\">0.00143811 </td><td style=\"text-align: right;\">         0.0501</td><td>60d          </td><td style=\"text-align: right;\">     1</td><td style=\"text-align: right;\">        2351.91 </td><td style=\"text-align: right;\">              128</td><td style=\"text-align: right;\">          5</td><td style=\"text-align: right;\">  0.5144    </td></tr>\n",
       "<tr><td>TrainLightGCN_bf68d738</td><td>TERMINATED</td><td>147.96.81.131:1334044</td><td style=\"text-align: right;\">           7</td><td style=\"text-align: right;\">            4</td><td style=\"text-align: right;\">              1</td><td>2023-07-17T00:00:00</td><td style=\"text-align: right;\">1.63395e-07</td><td style=\"text-align: right;\">         0.0661</td><td>30d          </td><td style=\"text-align: right;\">     1</td><td style=\"text-align: right;\">        1313.29 </td><td style=\"text-align: right;\">              128</td><td style=\"text-align: right;\">          5</td><td style=\"text-align: right;\">  0.364648  </td></tr>\n",
       "<tr><td>TrainLightGCN_253fddce</td><td>TERMINATED</td><td>147.96.81.131:1324486</td><td style=\"text-align: right;\">           5</td><td style=\"text-align: right;\">            4</td><td style=\"text-align: right;\">             21</td><td>2023-07-17T00:00:00</td><td style=\"text-align: right;\">0.00520642 </td><td style=\"text-align: right;\">         0.0154</td><td>21d          </td><td style=\"text-align: right;\">     1</td><td style=\"text-align: right;\">        5325.67 </td><td style=\"text-align: right;\">               32</td><td style=\"text-align: right;\">          5</td><td style=\"text-align: right;\">  0.0698112 </td></tr>\n",
       "<tr><td>TrainLightGCN_a6cf151c</td><td>TERMINATED</td><td>147.96.81.131:1333382</td><td style=\"text-align: right;\">           8</td><td style=\"text-align: right;\">            4</td><td style=\"text-align: right;\">             13</td><td>2023-07-17T00:00:00</td><td style=\"text-align: right;\">0.000555582</td><td style=\"text-align: right;\">         0.0872</td><td>10YE         </td><td style=\"text-align: right;\">     1</td><td style=\"text-align: right;\">        1215.55 </td><td style=\"text-align: right;\">              256</td><td style=\"text-align: right;\">          5</td><td style=\"text-align: right;\">  0.67224   </td></tr>\n",
       "<tr><td>TrainLightGCN_55ba1a25</td><td>TERMINATED</td><td>147.96.81.131:1328879</td><td style=\"text-align: right;\">           9</td><td style=\"text-align: right;\">            4</td><td style=\"text-align: right;\">            732</td><td>2023-07-17T00:00:00</td><td style=\"text-align: right;\">0.00227999 </td><td style=\"text-align: right;\">         0.745 </td><td>30d          </td><td style=\"text-align: right;\">     1</td><td style=\"text-align: right;\">        2187.03 </td><td style=\"text-align: right;\">              512</td><td style=\"text-align: right;\">          5</td><td style=\"text-align: right;\">128.444     </td></tr>\n",
       "<tr><td>TrainLightGCN_98f325c9</td><td>TERMINATED</td><td>147.96.81.131:1333692</td><td style=\"text-align: right;\">           9</td><td style=\"text-align: right;\">            4</td><td style=\"text-align: right;\">            118</td><td>2023-07-17T00:00:00</td><td style=\"text-align: right;\">0.00820253 </td><td style=\"text-align: right;\">         0.0293</td><td>21d          </td><td style=\"text-align: right;\">     1</td><td style=\"text-align: right;\">         531.962</td><td style=\"text-align: right;\">              512</td><td style=\"text-align: right;\">          5</td><td style=\"text-align: right;\">  0.0774289 </td></tr>\n",
       "<tr><td>TrainLightGCN_41e82c97</td><td>TERMINATED</td><td>147.96.81.131:1331593</td><td style=\"text-align: right;\">           8</td><td style=\"text-align: right;\">            4</td><td style=\"text-align: right;\">             20</td><td>2023-07-17T00:00:00</td><td style=\"text-align: right;\">0.00252529 </td><td style=\"text-align: right;\">         0.8777</td><td>90d          </td><td style=\"text-align: right;\">     1</td><td style=\"text-align: right;\">        1164.81 </td><td style=\"text-align: right;\">              256</td><td style=\"text-align: right;\">          5</td><td style=\"text-align: right;\"> 30.015     </td></tr>\n",
       "<tr><td>TrainLightGCN_9a32050e</td><td>TERMINATED</td><td>147.96.81.131:1329873</td><td style=\"text-align: right;\">           8</td><td style=\"text-align: right;\">            4</td><td style=\"text-align: right;\">            267</td><td>2023-07-17T00:00:00</td><td style=\"text-align: right;\">0.00350821 </td><td style=\"text-align: right;\">         0.065 </td><td>21d          </td><td style=\"text-align: right;\">     1</td><td style=\"text-align: right;\">        1517.59 </td><td style=\"text-align: right;\">              256</td><td style=\"text-align: right;\">          5</td><td style=\"text-align: right;\">  0.509376  </td></tr>\n",
       "<tr><td>TrainLightGCN_8c9242ef</td><td>TERMINATED</td><td>147.96.81.131:1332093</td><td style=\"text-align: right;\">           8</td><td style=\"text-align: right;\">            4</td><td style=\"text-align: right;\">              5</td><td>2023-07-17T00:00:00</td><td style=\"text-align: right;\">0.00302049 </td><td style=\"text-align: right;\">         0.1939</td><td>21d          </td><td style=\"text-align: right;\">     1</td><td style=\"text-align: right;\">         608.119</td><td style=\"text-align: right;\">              256</td><td style=\"text-align: right;\">          5</td><td style=\"text-align: right;\">  0.727974  </td></tr>\n",
       "<tr><td>TrainLightGCN_f3cd737c</td><td>TERMINATED</td><td>147.96.81.131:1330026</td><td style=\"text-align: right;\">           7</td><td style=\"text-align: right;\">            4</td><td style=\"text-align: right;\">              1</td><td>2023-07-17T00:00:00</td><td style=\"text-align: right;\">0.00662039 </td><td style=\"text-align: right;\">         0.0814</td><td>21d          </td><td style=\"text-align: right;\">     1</td><td style=\"text-align: right;\">        1161.02 </td><td style=\"text-align: right;\">              128</td><td style=\"text-align: right;\">          5</td><td style=\"text-align: right;\">  0.566065  </td></tr>\n",
       "<tr><td>TrainLightGCN_ff218d06</td><td>TERMINATED</td><td>147.96.81.131:1331885</td><td style=\"text-align: right;\">           9</td><td style=\"text-align: right;\">            4</td><td style=\"text-align: right;\">             38</td><td>2023-07-17T00:00:00</td><td style=\"text-align: right;\">1.78074e-06</td><td style=\"text-align: right;\">         0.1246</td><td>21d          </td><td style=\"text-align: right;\">     1</td><td style=\"text-align: right;\">         370.248</td><td style=\"text-align: right;\">              512</td><td style=\"text-align: right;\">          5</td><td style=\"text-align: right;\">  0.133297  </td></tr>\n",
       "<tr><td>TrainLightGCN_b4195b4b</td><td>TERMINATED</td><td>147.96.81.131:1329314</td><td style=\"text-align: right;\">           8</td><td style=\"text-align: right;\">            4</td><td style=\"text-align: right;\">              1</td><td>2023-07-17T00:00:00</td><td style=\"text-align: right;\">0.00922038 </td><td style=\"text-align: right;\">         0.0232</td><td>90d          </td><td style=\"text-align: right;\">     1</td><td style=\"text-align: right;\">        1217.97 </td><td style=\"text-align: right;\">              256</td><td style=\"text-align: right;\">          5</td><td style=\"text-align: right;\">  0.283059  </td></tr>\n",
       "<tr><td>TrainLightGCN_789bb34e</td><td>TERMINATED</td><td>147.96.81.131:1330186</td><td style=\"text-align: right;\">           8</td><td style=\"text-align: right;\">            4</td><td style=\"text-align: right;\">              3</td><td>2023-07-17T00:00:00</td><td style=\"text-align: right;\">0.0043672  </td><td style=\"text-align: right;\">         0.5928</td><td>30d          </td><td style=\"text-align: right;\">     1</td><td style=\"text-align: right;\">         752.924</td><td style=\"text-align: right;\">              256</td><td style=\"text-align: right;\">          5</td><td style=\"text-align: right;\">  1.0699    </td></tr>\n",
       "<tr><td>TrainLightGCN_e0ad4fff</td><td>TERMINATED</td><td>147.96.81.131:1330342</td><td style=\"text-align: right;\">           8</td><td style=\"text-align: right;\">            4</td><td style=\"text-align: right;\">              9</td><td>2023-07-17T00:00:00</td><td style=\"text-align: right;\">0.00604942 </td><td style=\"text-align: right;\">         0.38  </td><td>21d          </td><td style=\"text-align: right;\">     1</td><td style=\"text-align: right;\">         585.969</td><td style=\"text-align: right;\">              256</td><td style=\"text-align: right;\">          5</td><td style=\"text-align: right;\">  1.44908   </td></tr>\n",
       "<tr><td>TrainLightGCN_b94994e1</td><td>TERMINATED</td><td>147.96.81.131:1314703</td><td style=\"text-align: right;\">           5</td><td style=\"text-align: right;\">            2</td><td style=\"text-align: right;\">             34</td><td>2023-07-17T00:00:00</td><td style=\"text-align: right;\">0.0007608  </td><td style=\"text-align: right;\">         0.0091</td><td>60d          </td><td style=\"text-align: right;\">     1</td><td style=\"text-align: right;\">        8237.28 </td><td style=\"text-align: right;\">               32</td><td style=\"text-align: right;\">          5</td><td style=\"text-align: right;\">  0.0188074 </td></tr>\n",
       "<tr><td>TrainLightGCN_68d3666d</td><td>TERMINATED</td><td>147.96.81.131:1329501</td><td style=\"text-align: right;\">          10</td><td style=\"text-align: right;\">            4</td><td style=\"text-align: right;\">              2</td><td>2023-07-17T00:00:00</td><td style=\"text-align: right;\">0.00194699 </td><td style=\"text-align: right;\">         0.4695</td><td>21d          </td><td style=\"text-align: right;\">     3</td><td style=\"text-align: right;\">         403.927</td><td style=\"text-align: right;\">             1024</td><td style=\"text-align: right;\">         15</td><td style=\"text-align: right;\">  0.65593   </td></tr>\n",
       "<tr><td>TrainLightGCN_31a68cec</td><td>TERMINATED</td><td>147.96.81.131:1329039</td><td style=\"text-align: right;\">          10</td><td style=\"text-align: right;\">            2</td><td style=\"text-align: right;\">              4</td><td>2023-07-17T00:00:00</td><td style=\"text-align: right;\">0.00348656 </td><td style=\"text-align: right;\">         0.1046</td><td>60d          </td><td style=\"text-align: right;\">     2</td><td style=\"text-align: right;\">         457.59 </td><td style=\"text-align: right;\">             1024</td><td style=\"text-align: right;\">         10</td><td style=\"text-align: right;\">  0.293724  </td></tr>\n",
       "<tr><td>TrainLightGCN_92def9d4</td><td>TERMINATED</td><td>147.96.81.131:1325724</td><td style=\"text-align: right;\">           6</td><td style=\"text-align: right;\">            2</td><td style=\"text-align: right;\">              1</td><td>2023-07-17T00:00:00</td><td style=\"text-align: right;\">0.00167027 </td><td style=\"text-align: right;\">         0.0118</td><td>30d          </td><td style=\"text-align: right;\">     1</td><td style=\"text-align: right;\">        2416.46 </td><td style=\"text-align: right;\">               64</td><td style=\"text-align: right;\">          5</td><td style=\"text-align: right;\">  0.40946   </td></tr>\n",
       "<tr><td>TrainLightGCN_cf1efa8c</td><td>TERMINATED</td><td>147.96.81.131:1329164</td><td style=\"text-align: right;\">           9</td><td style=\"text-align: right;\">            1</td><td style=\"text-align: right;\">            336</td><td>2023-07-17T00:00:00</td><td style=\"text-align: right;\">0.00097377 </td><td style=\"text-align: right;\">         0.1758</td><td>21d          </td><td style=\"text-align: right;\">     1</td><td style=\"text-align: right;\">         348.75 </td><td style=\"text-align: right;\">              512</td><td style=\"text-align: right;\">          5</td><td style=\"text-align: right;\">  8.05941   </td></tr>\n",
       "<tr><td>TrainLightGCN_566c7107</td><td>TERMINATED</td><td>147.96.81.131:1328698</td><td style=\"text-align: right;\">           8</td><td style=\"text-align: right;\">            4</td><td style=\"text-align: right;\">              1</td><td>2023-07-17T00:00:00</td><td style=\"text-align: right;\">0.00629081 </td><td style=\"text-align: right;\">         0.0873</td><td>21d          </td><td style=\"text-align: right;\">     1</td><td style=\"text-align: right;\">         497.815</td><td style=\"text-align: right;\">              256</td><td style=\"text-align: right;\">          5</td><td style=\"text-align: right;\">  0.472165  </td></tr>\n",
       "<tr><td>TrainLightGCN_81dc9b63</td><td>TERMINATED</td><td>147.96.81.131:1328508</td><td style=\"text-align: right;\">           9</td><td style=\"text-align: right;\">            4</td><td style=\"text-align: right;\">              1</td><td>2023-07-17T00:00:00</td><td style=\"text-align: right;\">0.00369005 </td><td style=\"text-align: right;\">         0.0653</td><td>21d          </td><td style=\"text-align: right;\">     2</td><td style=\"text-align: right;\">         485.161</td><td style=\"text-align: right;\">              512</td><td style=\"text-align: right;\">         10</td><td style=\"text-align: right;\">  0.38904   </td></tr>\n",
       "<tr><td>TrainLightGCN_1c62b808</td><td>TERMINATED</td><td>147.96.81.131:1328353</td><td style=\"text-align: right;\">          10</td><td style=\"text-align: right;\">            3</td><td style=\"text-align: right;\">              1</td><td>2023-07-17T00:00:00</td><td style=\"text-align: right;\">3.5244e-05 </td><td style=\"text-align: right;\">         0.2239</td><td>10YE         </td><td style=\"text-align: right;\">     2</td><td style=\"text-align: right;\">         415.163</td><td style=\"text-align: right;\">             1024</td><td style=\"text-align: right;\">         10</td><td style=\"text-align: right;\">  0.515138  </td></tr>\n",
       "<tr><td>TrainLightGCN_263f8973</td><td>TERMINATED</td><td>147.96.81.131:1328165</td><td style=\"text-align: right;\">           9</td><td style=\"text-align: right;\">            4</td><td style=\"text-align: right;\">              3</td><td>2023-07-17T00:00:00</td><td style=\"text-align: right;\">0.00018178 </td><td style=\"text-align: right;\">         0.006 </td><td>21d          </td><td style=\"text-align: right;\">     2</td><td style=\"text-align: right;\">         464.411</td><td style=\"text-align: right;\">              512</td><td style=\"text-align: right;\">         10</td><td style=\"text-align: right;\">  0.0467917 </td></tr>\n",
       "<tr><td>TrainLightGCN_cd249cab</td><td>TERMINATED</td><td>147.96.81.131:1326095</td><td style=\"text-align: right;\">           7</td><td style=\"text-align: right;\">            1</td><td style=\"text-align: right;\">             27</td><td>2023-07-17T00:00:00</td><td style=\"text-align: right;\">5.04596e-05</td><td style=\"text-align: right;\">         0.0019</td><td>60d          </td><td style=\"text-align: right;\">     1</td><td style=\"text-align: right;\">        1715.12 </td><td style=\"text-align: right;\">              128</td><td style=\"text-align: right;\">          5</td><td style=\"text-align: right;\">  0.0103931 </td></tr>\n",
       "<tr><td>TrainLightGCN_50c0c241</td><td>TERMINATED</td><td>147.96.81.131:1327987</td><td style=\"text-align: right;\">           9</td><td style=\"text-align: right;\">            3</td><td style=\"text-align: right;\">              1</td><td>2023-07-17T00:00:00</td><td style=\"text-align: right;\">0.000209878</td><td style=\"text-align: right;\">         0.0169</td><td>21d          </td><td style=\"text-align: right;\">     2</td><td style=\"text-align: right;\">         463.236</td><td style=\"text-align: right;\">              512</td><td style=\"text-align: right;\">         10</td><td style=\"text-align: right;\">  0.275233  </td></tr>\n",
       "<tr><td>TrainLightGCN_17ef6f56</td><td>TERMINATED</td><td>147.96.81.131:1327863</td><td style=\"text-align: right;\">          10</td><td style=\"text-align: right;\">            3</td><td style=\"text-align: right;\">              6</td><td>2023-07-17T00:00:00</td><td style=\"text-align: right;\">0.000328748</td><td style=\"text-align: right;\">         0.0094</td><td>30d          </td><td style=\"text-align: right;\">     3</td><td style=\"text-align: right;\">         411.926</td><td style=\"text-align: right;\">             1024</td><td style=\"text-align: right;\">         15</td><td style=\"text-align: right;\">  0.0233697 </td></tr>\n",
       "<tr><td>TrainLightGCN_324f32f0</td><td>TERMINATED</td><td>147.96.81.131:1314852</td><td style=\"text-align: right;\">           5</td><td style=\"text-align: right;\">            2</td><td style=\"text-align: right;\">            217</td><td>2023-07-17T00:00:00</td><td style=\"text-align: right;\">2.53991e-06</td><td style=\"text-align: right;\">         0.4785</td><td>21d          </td><td style=\"text-align: right;\">     1</td><td style=\"text-align: right;\">        7296.42 </td><td style=\"text-align: right;\">               32</td><td style=\"text-align: right;\">          5</td><td style=\"text-align: right;\"> 43.7416    </td></tr>\n",
       "<tr><td>TrainLightGCN_24052282</td><td>TERMINATED</td><td>147.96.81.131:1327662</td><td style=\"text-align: right;\">          10</td><td style=\"text-align: right;\">            3</td><td style=\"text-align: right;\">              2</td><td>2023-07-17T00:00:00</td><td style=\"text-align: right;\">0.000798921</td><td style=\"text-align: right;\">         0.0073</td><td>21d          </td><td style=\"text-align: right;\">     3</td><td style=\"text-align: right;\">         350.481</td><td style=\"text-align: right;\">             1024</td><td style=\"text-align: right;\">         15</td><td style=\"text-align: right;\">  0.102985  </td></tr>\n",
       "<tr><td>TrainLightGCN_5c242ac4</td><td>TERMINATED</td><td>147.96.81.131:1327474</td><td style=\"text-align: right;\">           9</td><td style=\"text-align: right;\">            4</td><td style=\"text-align: right;\">              1</td><td>2023-07-17T00:00:00</td><td style=\"text-align: right;\">0.00348286 </td><td style=\"text-align: right;\">         0.091 </td><td>21d          </td><td style=\"text-align: right;\">     2</td><td style=\"text-align: right;\">         464.467</td><td style=\"text-align: right;\">              512</td><td style=\"text-align: right;\">         10</td><td style=\"text-align: right;\">  0.413695  </td></tr>\n",
       "<tr><td>TrainLightGCN_22cecf32</td><td>TERMINATED</td><td>147.96.81.131:1324998</td><td style=\"text-align: right;\">           7</td><td style=\"text-align: right;\">            3</td><td style=\"text-align: right;\">              2</td><td>2023-07-17T00:00:00</td><td style=\"text-align: right;\">8.92859e-05</td><td style=\"text-align: right;\">         0.1567</td><td>90d          </td><td style=\"text-align: right;\">     1</td><td style=\"text-align: right;\">        1845.12 </td><td style=\"text-align: right;\">              128</td><td style=\"text-align: right;\">          5</td><td style=\"text-align: right;\">  0.751029  </td></tr>\n",
       "<tr><td>TrainLightGCN_fd5e20b5</td><td>TERMINATED</td><td>147.96.81.131:1327320</td><td style=\"text-align: right;\">          10</td><td style=\"text-align: right;\">            3</td><td style=\"text-align: right;\">              5</td><td>2023-07-17T00:00:00</td><td style=\"text-align: right;\">0.00144434 </td><td style=\"text-align: right;\">         0.0492</td><td>21d          </td><td style=\"text-align: right;\">     3</td><td style=\"text-align: right;\">         350.629</td><td style=\"text-align: right;\">             1024</td><td style=\"text-align: right;\">         15</td><td style=\"text-align: right;\">  0.0495342 </td></tr>\n",
       "<tr><td>TrainLightGCN_5cb3ccf7</td><td>TERMINATED</td><td>147.96.81.131:1327168</td><td style=\"text-align: right;\">          10</td><td style=\"text-align: right;\">            3</td><td style=\"text-align: right;\">              2</td><td>2023-07-17T00:00:00</td><td style=\"text-align: right;\">0.000211483</td><td style=\"text-align: right;\">         0.0152</td><td>21d          </td><td style=\"text-align: right;\">     3</td><td style=\"text-align: right;\">         350.079</td><td style=\"text-align: right;\">             1024</td><td style=\"text-align: right;\">         15</td><td style=\"text-align: right;\">  0.103707  </td></tr>\n",
       "<tr><td>TrainLightGCN_d603711d</td><td>TERMINATED</td><td>147.96.81.131:1326965</td><td style=\"text-align: right;\">          10</td><td style=\"text-align: right;\">            3</td><td style=\"text-align: right;\">              1</td><td>2023-07-17T00:00:00</td><td style=\"text-align: right;\">0.000607239</td><td style=\"text-align: right;\">         0.0286</td><td>21d          </td><td style=\"text-align: right;\">     3</td><td style=\"text-align: right;\">         377.621</td><td style=\"text-align: right;\">             1024</td><td style=\"text-align: right;\">         15</td><td style=\"text-align: right;\">  0.277973  </td></tr>\n",
       "<tr><td>TrainLightGCN_40884a75</td><td>TERMINATED</td><td>147.96.81.131:1326766</td><td style=\"text-align: right;\">          10</td><td style=\"text-align: right;\">            3</td><td style=\"text-align: right;\">              2</td><td>2023-07-17T00:00:00</td><td style=\"text-align: right;\">0.000764172</td><td style=\"text-align: right;\">         0.01  </td><td>21d          </td><td style=\"text-align: right;\">     3</td><td style=\"text-align: right;\">         401.523</td><td style=\"text-align: right;\">             1024</td><td style=\"text-align: right;\">         15</td><td style=\"text-align: right;\">  0.103708  </td></tr>\n",
       "<tr><td>TrainLightGCN_c3139875</td><td>TERMINATED</td><td>147.96.81.131:1316239</td><td style=\"text-align: right;\">           7</td><td style=\"text-align: right;\">            4</td><td style=\"text-align: right;\">            219</td><td>2023-07-17T00:00:00</td><td style=\"text-align: right;\">0.000261231</td><td style=\"text-align: right;\">         0.095 </td><td>60d          </td><td style=\"text-align: right;\">     1</td><td style=\"text-align: right;\">        6584.28 </td><td style=\"text-align: right;\">              128</td><td style=\"text-align: right;\">          5</td><td style=\"text-align: right;\">  1.01674   </td></tr>\n",
       "<tr><td>TrainLightGCN_b12c2f31</td><td>TERMINATED</td><td>147.96.81.131:1326416</td><td style=\"text-align: right;\">           8</td><td style=\"text-align: right;\">            4</td><td style=\"text-align: right;\">             69</td><td>2023-07-17T00:00:00</td><td style=\"text-align: right;\">7.86694e-06</td><td style=\"text-align: right;\">         0.1368</td><td>21d          </td><td style=\"text-align: right;\">     1</td><td style=\"text-align: right;\">         814.866</td><td style=\"text-align: right;\">              256</td><td style=\"text-align: right;\">          5</td><td style=\"text-align: right;\">  0.269537  </td></tr>\n",
       "<tr><td>TrainLightGCN_745a6cfb</td><td>TERMINATED</td><td>147.96.81.131:1323769</td><td style=\"text-align: right;\">           7</td><td style=\"text-align: right;\">            2</td><td style=\"text-align: right;\">              8</td><td>2023-07-17T00:00:00</td><td style=\"text-align: right;\">0.000107299</td><td style=\"text-align: right;\">         0.0004</td><td>60d          </td><td style=\"text-align: right;\">     1</td><td style=\"text-align: right;\">        1929.08 </td><td style=\"text-align: right;\">              128</td><td style=\"text-align: right;\">          5</td><td style=\"text-align: right;\">  0.0684061 </td></tr>\n",
       "<tr><td>TrainLightGCN_dd27aae4</td><td>TERMINATED</td><td>147.96.81.131:1326259</td><td style=\"text-align: right;\">           9</td><td style=\"text-align: right;\">            3</td><td style=\"text-align: right;\">              3</td><td>2023-07-17T00:00:00</td><td style=\"text-align: right;\">1.09929e-06</td><td style=\"text-align: right;\">         0.3544</td><td>90d          </td><td style=\"text-align: right;\">     1</td><td style=\"text-align: right;\">         477.097</td><td style=\"text-align: right;\">              512</td><td style=\"text-align: right;\">          5</td><td style=\"text-align: right;\">  0.734962  </td></tr>\n",
       "<tr><td>TrainLightGCN_11565735</td><td>TERMINATED</td><td>147.96.81.131:1325337</td><td style=\"text-align: right;\">           9</td><td style=\"text-align: right;\">            2</td><td style=\"text-align: right;\">             13</td><td>2023-07-17T00:00:00</td><td style=\"text-align: right;\">0.00262925 </td><td style=\"text-align: right;\">         0.0243</td><td>10YE         </td><td style=\"text-align: right;\">     1</td><td style=\"text-align: right;\">         498.312</td><td style=\"text-align: right;\">              512</td><td style=\"text-align: right;\">          5</td><td style=\"text-align: right;\">  0.0370471 </td></tr>\n",
       "<tr><td>TrainLightGCN_d5415e3a</td><td>TERMINATED</td><td>147.96.81.131:1325492</td><td style=\"text-align: right;\">          10</td><td style=\"text-align: right;\">            3</td><td style=\"text-align: right;\">            152</td><td>2023-07-17T00:00:00</td><td style=\"text-align: right;\">0.00971817 </td><td style=\"text-align: right;\">         0.0388</td><td>21d          </td><td style=\"text-align: right;\">     2</td><td style=\"text-align: right;\">         431.955</td><td style=\"text-align: right;\">             1024</td><td style=\"text-align: right;\">         10</td><td style=\"text-align: right;\">  0.0983818 </td></tr>\n",
       "<tr><td>TrainLightGCN_d4f582ea</td><td>TERMINATED</td><td>147.96.81.131:1325149</td><td style=\"text-align: right;\">           8</td><td style=\"text-align: right;\">            1</td><td style=\"text-align: right;\">              7</td><td>2023-07-17T00:00:00</td><td style=\"text-align: right;\">0.000479329</td><td style=\"text-align: right;\">         0.0063</td><td>21d          </td><td style=\"text-align: right;\">     1</td><td style=\"text-align: right;\">         570.252</td><td style=\"text-align: right;\">              256</td><td style=\"text-align: right;\">          5</td><td style=\"text-align: right;\">  0.03118   </td></tr>\n",
       "<tr><td>TrainLightGCN_48d50df5</td><td>TERMINATED</td><td>147.96.81.131:1318072</td><td style=\"text-align: right;\">           7</td><td style=\"text-align: right;\">            2</td><td style=\"text-align: right;\">            241</td><td>2023-07-17T00:00:00</td><td style=\"text-align: right;\">5.10482e-06</td><td style=\"text-align: right;\">         0.0017</td><td>90d          </td><td style=\"text-align: right;\">     1</td><td style=\"text-align: right;\">        5027.86 </td><td style=\"text-align: right;\">              128</td><td style=\"text-align: right;\">          5</td><td style=\"text-align: right;\">  0.00322818</td></tr>\n",
       "<tr><td>TrainLightGCN_baffcad9</td><td>TERMINATED</td><td>147.96.81.131:1324611</td><td style=\"text-align: right;\">           8</td><td style=\"text-align: right;\">            3</td><td style=\"text-align: right;\">              3</td><td>2023-07-17T00:00:00</td><td style=\"text-align: right;\">0.000207206</td><td style=\"text-align: right;\">         0.0778</td><td>21d          </td><td style=\"text-align: right;\">     1</td><td style=\"text-align: right;\">         563.904</td><td style=\"text-align: right;\">              256</td><td style=\"text-align: right;\">          5</td><td style=\"text-align: right;\">  0.535413  </td></tr>\n",
       "<tr><td>TrainLightGCN_ad41c830</td><td>TERMINATED</td><td>147.96.81.131:1324316</td><td style=\"text-align: right;\">           9</td><td style=\"text-align: right;\">            1</td><td style=\"text-align: right;\">              4</td><td>2023-07-17T00:00:00</td><td style=\"text-align: right;\">0.000845618</td><td style=\"text-align: right;\">         0.0013</td><td>10YE         </td><td style=\"text-align: right;\">     1</td><td style=\"text-align: right;\">         485.474</td><td style=\"text-align: right;\">              512</td><td style=\"text-align: right;\">          5</td><td style=\"text-align: right;\">  0.106578  </td></tr>\n",
       "<tr><td>TrainLightGCN_c5e074d9</td><td>TERMINATED</td><td>147.96.81.131:1324804</td><td style=\"text-align: right;\">          10</td><td style=\"text-align: right;\">            4</td><td style=\"text-align: right;\">              1</td><td>2023-07-17T00:00:00</td><td style=\"text-align: right;\">2.24056e-05</td><td style=\"text-align: right;\">         0.0029</td><td>60d          </td><td style=\"text-align: right;\">     1</td><td style=\"text-align: right;\">         303.301</td><td style=\"text-align: right;\">             1024</td><td style=\"text-align: right;\">          5</td><td style=\"text-align: right;\">  0.252743  </td></tr>\n",
       "<tr><td>TrainLightGCN_8699f621</td><td>TERMINATED</td><td>147.96.81.131:1324113</td><td style=\"text-align: right;\">          10</td><td style=\"text-align: right;\">            2</td><td style=\"text-align: right;\">              1</td><td>2023-07-17T00:00:00</td><td style=\"text-align: right;\">3.73509e-05</td><td style=\"text-align: right;\">         0.5482</td><td>90d          </td><td style=\"text-align: right;\">     2</td><td style=\"text-align: right;\">         500.229</td><td style=\"text-align: right;\">             1024</td><td style=\"text-align: right;\">         10</td><td style=\"text-align: right;\">  0.477805  </td></tr>\n",
       "<tr><td>TrainLightGCN_89f031b8</td><td>TERMINATED</td><td>147.96.81.131:1323949</td><td style=\"text-align: right;\">           9</td><td style=\"text-align: right;\">            3</td><td style=\"text-align: right;\">             37</td><td>2023-07-17T00:00:00</td><td style=\"text-align: right;\">0.000275208</td><td style=\"text-align: right;\">         0.1072</td><td>21d          </td><td style=\"text-align: right;\">     2</td><td style=\"text-align: right;\">         576.126</td><td style=\"text-align: right;\">              512</td><td style=\"text-align: right;\">         10</td><td style=\"text-align: right;\">  0.200529  </td></tr>\n",
       "<tr><td>TrainLightGCN_b1e95139</td><td>TERMINATED</td><td>147.96.81.131:1323472</td><td style=\"text-align: right;\">           9</td><td style=\"text-align: right;\">            2</td><td style=\"text-align: right;\">              2</td><td>2023-07-17T00:00:00</td><td style=\"text-align: right;\">0.000432662</td><td style=\"text-align: right;\">         0.0566</td><td>10YE         </td><td style=\"text-align: right;\">     1</td><td style=\"text-align: right;\">         504.172</td><td style=\"text-align: right;\">              512</td><td style=\"text-align: right;\">          5</td><td style=\"text-align: right;\">  0.222789  </td></tr>\n",
       "<tr><td>TrainLightGCN_b761fe46</td><td>TERMINATED</td><td>147.96.81.131:1320543</td><td style=\"text-align: right;\">           6</td><td style=\"text-align: right;\">            3</td><td style=\"text-align: right;\">              1</td><td>2023-07-17T00:00:00</td><td style=\"text-align: right;\">5.49e-07   </td><td style=\"text-align: right;\">         0.1233</td><td>21d          </td><td style=\"text-align: right;\">     1</td><td style=\"text-align: right;\">        2398.94 </td><td style=\"text-align: right;\">               64</td><td style=\"text-align: right;\">          5</td><td style=\"text-align: right;\">  0.573802  </td></tr>\n",
       "<tr><td>TrainLightGCN_c5239372</td><td>TERMINATED</td><td>147.96.81.131:1319337</td><td style=\"text-align: right;\">           6</td><td style=\"text-align: right;\">            4</td><td style=\"text-align: right;\">              2</td><td>2023-07-17T00:00:00</td><td style=\"text-align: right;\">1.13095e-05</td><td style=\"text-align: right;\">         0.0001</td><td>30d          </td><td style=\"text-align: right;\">     1</td><td style=\"text-align: right;\">        2905.6  </td><td style=\"text-align: right;\">               64</td><td style=\"text-align: right;\">          5</td><td style=\"text-align: right;\">  0.378758  </td></tr>\n",
       "<tr><td>TrainLightGCN_e910fb2e</td><td>TERMINATED</td><td>147.96.81.131:1322913</td><td style=\"text-align: right;\">           9</td><td style=\"text-align: right;\">            2</td><td style=\"text-align: right;\">            141</td><td>2023-07-17T00:00:00</td><td style=\"text-align: right;\">0.000143656</td><td style=\"text-align: right;\">         0.0207</td><td>60d          </td><td style=\"text-align: right;\">     1</td><td style=\"text-align: right;\">         773.427</td><td style=\"text-align: right;\">              512</td><td style=\"text-align: right;\">          5</td><td style=\"text-align: right;\">  0.026756  </td></tr>\n",
       "<tr><td>TrainLightGCN_d2508281</td><td>TERMINATED</td><td>147.96.81.131:1319842</td><td style=\"text-align: right;\">           6</td><td style=\"text-align: right;\">            1</td><td style=\"text-align: right;\">             10</td><td>2023-07-17T00:00:00</td><td style=\"text-align: right;\">1.06696e-07</td><td style=\"text-align: right;\">         0.0337</td><td>21d          </td><td style=\"text-align: right;\">     1</td><td style=\"text-align: right;\">        2428.12 </td><td style=\"text-align: right;\">               64</td><td style=\"text-align: right;\">          5</td><td style=\"text-align: right;\">  0.74534   </td></tr>\n",
       "<tr><td>TrainLightGCN_0abcea24</td><td>TERMINATED</td><td>147.96.81.131:1323266</td><td style=\"text-align: right;\">          10</td><td style=\"text-align: right;\">            4</td><td style=\"text-align: right;\">             13</td><td>2023-07-17T00:00:00</td><td style=\"text-align: right;\">0.00416736 </td><td style=\"text-align: right;\">         0.012 </td><td>21d          </td><td style=\"text-align: right;\">     2</td><td style=\"text-align: right;\">         306.026</td><td style=\"text-align: right;\">             1024</td><td style=\"text-align: right;\">         10</td><td style=\"text-align: right;\">  0.0416066 </td></tr>\n",
       "<tr><td>TrainLightGCN_87cbb1d3</td><td>TERMINATED</td><td>147.96.81.131:1323066</td><td style=\"text-align: right;\">          10</td><td style=\"text-align: right;\">            3</td><td style=\"text-align: right;\">             54</td><td>2023-07-17T00:00:00</td><td style=\"text-align: right;\">0.00116972 </td><td style=\"text-align: right;\">         0.0004</td><td>90d          </td><td style=\"text-align: right;\">     1</td><td style=\"text-align: right;\">         401.344</td><td style=\"text-align: right;\">             1024</td><td style=\"text-align: right;\">          5</td><td style=\"text-align: right;\">  0.11968   </td></tr>\n",
       "<tr><td>TrainLightGCN_6a7bee1d</td><td>TERMINATED</td><td>147.96.81.131:1322049</td><td style=\"text-align: right;\">          10</td><td style=\"text-align: right;\">            3</td><td style=\"text-align: right;\">            906</td><td>2023-07-17T00:00:00</td><td style=\"text-align: right;\">0.000310846</td><td style=\"text-align: right;\">         0.0007</td><td>21d          </td><td style=\"text-align: right;\">     1</td><td style=\"text-align: right;\">         868.474</td><td style=\"text-align: right;\">             1024</td><td style=\"text-align: right;\">          5</td><td style=\"text-align: right;\">  0.0378278 </td></tr>\n",
       "<tr><td>TrainLightGCN_d8505330</td><td>TERMINATED</td><td>147.96.81.131:1322712</td><td style=\"text-align: right;\">           9</td><td style=\"text-align: right;\">            2</td><td style=\"text-align: right;\">              4</td><td>2023-07-17T00:00:00</td><td style=\"text-align: right;\">0.00815473 </td><td style=\"text-align: right;\">         0.0398</td><td>21d          </td><td style=\"text-align: right;\">     2</td><td style=\"text-align: right;\">         595.492</td><td style=\"text-align: right;\">              512</td><td style=\"text-align: right;\">         10</td><td style=\"text-align: right;\">  0.0743616 </td></tr>\n",
       "<tr><td>TrainLightGCN_60c99f06</td><td>TERMINATED</td><td>147.96.81.131:1322377</td><td style=\"text-align: right;\">           9</td><td style=\"text-align: right;\">            3</td><td style=\"text-align: right;\">              1</td><td>2023-07-17T00:00:00</td><td style=\"text-align: right;\">0.00111862 </td><td style=\"text-align: right;\">         0.0041</td><td>10YE         </td><td style=\"text-align: right;\">     1</td><td style=\"text-align: right;\">         508.312</td><td style=\"text-align: right;\">              512</td><td style=\"text-align: right;\">          5</td><td style=\"text-align: right;\">  0.261706  </td></tr>\n",
       "<tr><td>TrainLightGCN_927fc78a</td><td>TERMINATED</td><td>147.96.81.131:1321437</td><td style=\"text-align: right;\">           8</td><td style=\"text-align: right;\">            3</td><td style=\"text-align: right;\">              3</td><td>2023-07-17T00:00:00</td><td style=\"text-align: right;\">7.28052e-05</td><td style=\"text-align: right;\">         0.33  </td><td>10YE         </td><td style=\"text-align: right;\">     1</td><td style=\"text-align: right;\">        1026.27 </td><td style=\"text-align: right;\">              256</td><td style=\"text-align: right;\">          5</td><td style=\"text-align: right;\">  0.953025  </td></tr>\n",
       "<tr><td>TrainLightGCN_36c94c25</td><td>TERMINATED</td><td>147.96.81.131:1321099</td><td style=\"text-align: right;\">           7</td><td style=\"text-align: right;\">            1</td><td style=\"text-align: right;\">             18</td><td>2023-07-17T00:00:00</td><td style=\"text-align: right;\">0.00900099 </td><td style=\"text-align: right;\">         0.2993</td><td>21d          </td><td style=\"text-align: right;\">     1</td><td style=\"text-align: right;\">        1182.36 </td><td style=\"text-align: right;\">              128</td><td style=\"text-align: right;\">          5</td><td style=\"text-align: right;\"> 18.6325    </td></tr>\n",
       "<tr><td>TrainLightGCN_dbf49048</td><td>TERMINATED</td><td>147.96.81.131:1321825</td><td style=\"text-align: right;\">          10</td><td style=\"text-align: right;\">            3</td><td style=\"text-align: right;\">              1</td><td>2023-07-17T00:00:00</td><td style=\"text-align: right;\">0.00347836 </td><td style=\"text-align: right;\">         0.0051</td><td>90d          </td><td style=\"text-align: right;\">     2</td><td style=\"text-align: right;\">         523.857</td><td style=\"text-align: right;\">             1024</td><td style=\"text-align: right;\">         10</td><td style=\"text-align: right;\">  0.260604  </td></tr>\n",
       "<tr><td>TrainLightGCN_288e8f0d</td><td>TERMINATED</td><td>147.96.81.131:1314251</td><td style=\"text-align: right;\">           9</td><td style=\"text-align: right;\">            3</td><td style=\"text-align: right;\">            665</td><td>2023-07-17T00:00:00</td><td style=\"text-align: right;\">2.74456e-05</td><td style=\"text-align: right;\">         0.0092</td><td>90d          </td><td style=\"text-align: right;\">     1</td><td style=\"text-align: right;\">        3822.29 </td><td style=\"text-align: right;\">              512</td><td style=\"text-align: right;\">          5</td><td style=\"text-align: right;\">  0.0124199 </td></tr>\n",
       "<tr><td>TrainLightGCN_1e232ec0</td><td>TERMINATED</td><td>147.96.81.131:1317550</td><td style=\"text-align: right;\">           6</td><td style=\"text-align: right;\">            2</td><td style=\"text-align: right;\">             27</td><td>2023-07-17T00:00:00</td><td style=\"text-align: right;\">3.06006e-05</td><td style=\"text-align: right;\">         0.2056</td><td>30d          </td><td style=\"text-align: right;\">     1</td><td style=\"text-align: right;\">        3298.81 </td><td style=\"text-align: right;\">               64</td><td style=\"text-align: right;\">          5</td><td style=\"text-align: right;\">  3.09717   </td></tr>\n",
       "<tr><td>TrainLightGCN_ded7acc5</td><td>TERMINATED</td><td>147.96.81.131:1320173</td><td style=\"text-align: right;\">           8</td><td style=\"text-align: right;\">            4</td><td style=\"text-align: right;\">              5</td><td>2023-07-17T00:00:00</td><td style=\"text-align: right;\">1.26958e-05</td><td style=\"text-align: right;\">         0.0185</td><td>90d          </td><td style=\"text-align: right;\">     1</td><td style=\"text-align: right;\">        1346.85 </td><td style=\"text-align: right;\">              256</td><td style=\"text-align: right;\">          5</td><td style=\"text-align: right;\">  0.044409  </td></tr>\n",
       "<tr><td>TrainLightGCN_60010e9b</td><td>TERMINATED</td><td>147.96.81.131:1321620</td><td style=\"text-align: right;\">          10</td><td style=\"text-align: right;\">            3</td><td style=\"text-align: right;\">              2</td><td>2023-07-17T00:00:00</td><td style=\"text-align: right;\">0.000703686</td><td style=\"text-align: right;\">         0.012 </td><td>21d          </td><td style=\"text-align: right;\">     3</td><td style=\"text-align: right;\">         445.273</td><td style=\"text-align: right;\">             1024</td><td style=\"text-align: right;\">         15</td><td style=\"text-align: right;\">  0.104368  </td></tr>\n",
       "<tr><td>TrainLightGCN_a9259127</td><td>TERMINATED</td><td>147.96.81.131:1321259</td><td style=\"text-align: right;\">           9</td><td style=\"text-align: right;\">            4</td><td style=\"text-align: right;\">             49</td><td>2023-07-17T00:00:00</td><td style=\"text-align: right;\">2.41593e-07</td><td style=\"text-align: right;\">         0.9558</td><td>21d          </td><td style=\"text-align: right;\">     1</td><td style=\"text-align: right;\">         412.571</td><td style=\"text-align: right;\">              512</td><td style=\"text-align: right;\">          5</td><td style=\"text-align: right;\">  6.56756   </td></tr>\n",
       "<tr><td>TrainLightGCN_b03953f3</td><td>TERMINATED</td><td>147.96.81.131:1320706</td><td style=\"text-align: right;\">           8</td><td style=\"text-align: right;\">            4</td><td style=\"text-align: right;\">              6</td><td>2023-07-17T00:00:00</td><td style=\"text-align: right;\">1.66352e-05</td><td style=\"text-align: right;\">         0.0075</td><td>21d          </td><td style=\"text-align: right;\">     1</td><td style=\"text-align: right;\">         629.668</td><td style=\"text-align: right;\">              256</td><td style=\"text-align: right;\">          5</td><td style=\"text-align: right;\">  0.0291713 </td></tr>\n",
       "<tr><td>TrainLightGCN_b22f01f1</td><td>TERMINATED</td><td>147.96.81.131:1320910</td><td style=\"text-align: right;\">          10</td><td style=\"text-align: right;\">            3</td><td style=\"text-align: right;\">              2</td><td>2023-07-17T00:00:00</td><td style=\"text-align: right;\">0.000478237</td><td style=\"text-align: right;\">         0.0122</td><td>21d          </td><td style=\"text-align: right;\">     2</td><td style=\"text-align: right;\">         316.754</td><td style=\"text-align: right;\">             1024</td><td style=\"text-align: right;\">         10</td><td style=\"text-align: right;\">  0.105001  </td></tr>\n",
       "<tr><td>TrainLightGCN_a1be7113</td><td>TERMINATED</td><td>147.96.81.131:1316982</td><td style=\"text-align: right;\">           9</td><td style=\"text-align: right;\">            3</td><td style=\"text-align: right;\">            447</td><td>2023-07-17T00:00:00</td><td style=\"text-align: right;\">0.000129301</td><td style=\"text-align: right;\">         0.0008</td><td>60d          </td><td style=\"text-align: right;\">     1</td><td style=\"text-align: right;\">        2808.89 </td><td style=\"text-align: right;\">              512</td><td style=\"text-align: right;\">          5</td><td style=\"text-align: right;\">  0.0229095 </td></tr>\n",
       "<tr><td>TrainLightGCN_920e22f8</td><td>TERMINATED</td><td>147.96.81.131:1320006</td><td style=\"text-align: right;\">          10</td><td style=\"text-align: right;\">            3</td><td style=\"text-align: right;\">              2</td><td>2023-07-17T00:00:00</td><td style=\"text-align: right;\">2.3865e-07 </td><td style=\"text-align: right;\">         0.0666</td><td>60d          </td><td style=\"text-align: right;\">     2</td><td style=\"text-align: right;\">         566.065</td><td style=\"text-align: right;\">             1024</td><td style=\"text-align: right;\">         10</td><td style=\"text-align: right;\">  0.242951  </td></tr>\n",
       "<tr><td>TrainLightGCN_b103c0be</td><td>TERMINATED</td><td>147.96.81.131:1320336</td><td style=\"text-align: right;\">          10</td><td style=\"text-align: right;\">            1</td><td style=\"text-align: right;\">             16</td><td>2023-07-17T00:00:00</td><td style=\"text-align: right;\">3.89541e-06</td><td style=\"text-align: right;\">         0.0493</td><td>21d          </td><td style=\"text-align: right;\">     2</td><td style=\"text-align: right;\">         328    </td><td style=\"text-align: right;\">             1024</td><td style=\"text-align: right;\">         10</td><td style=\"text-align: right;\">  0.201402  </td></tr>\n",
       "<tr><td>TrainLightGCN_05edd6df</td><td>TERMINATED</td><td>147.96.81.131:1314406</td><td style=\"text-align: right;\">           7</td><td style=\"text-align: right;\">            4</td><td style=\"text-align: right;\">             32</td><td>2023-07-17T00:00:00</td><td style=\"text-align: right;\">1.24202e-06</td><td style=\"text-align: right;\">         0.015 </td><td>10YE         </td><td style=\"text-align: right;\">     1</td><td style=\"text-align: right;\">        2524.81 </td><td style=\"text-align: right;\">              128</td><td style=\"text-align: right;\">          5</td><td style=\"text-align: right;\">  0.00865096</td></tr>\n",
       "<tr><td>TrainLightGCN_52efc383</td><td>TERMINATED</td><td>147.96.81.131:1319638</td><td style=\"text-align: right;\">          10</td><td style=\"text-align: right;\">            4</td><td style=\"text-align: right;\">             11</td><td>2023-07-17T00:00:00</td><td style=\"text-align: right;\">4.40068e-07</td><td style=\"text-align: right;\">         0.2325</td><td>30d          </td><td style=\"text-align: right;\">     2</td><td style=\"text-align: right;\">         477.922</td><td style=\"text-align: right;\">             1024</td><td style=\"text-align: right;\">         10</td><td style=\"text-align: right;\">  0.155175  </td></tr>\n",
       "<tr><td>TrainLightGCN_3be4c712</td><td>TERMINATED</td><td>147.96.81.131:1319113</td><td style=\"text-align: right;\">           8</td><td style=\"text-align: right;\">            3</td><td style=\"text-align: right;\">              3</td><td>2023-07-17T00:00:00</td><td style=\"text-align: right;\">0.00661372 </td><td style=\"text-align: right;\">         0.0047</td><td>21d          </td><td style=\"text-align: right;\">     1</td><td style=\"text-align: right;\">         706.513</td><td style=\"text-align: right;\">              256</td><td style=\"text-align: right;\">          5</td><td style=\"text-align: right;\">  0.0669223 </td></tr>\n",
       "<tr><td>TrainLightGCN_f8ace37d</td><td>TERMINATED</td><td>147.96.81.131:1319462</td><td style=\"text-align: right;\">          10</td><td style=\"text-align: right;\">            1</td><td style=\"text-align: right;\">              1</td><td>2023-07-17T00:00:00</td><td style=\"text-align: right;\">0.009903   </td><td style=\"text-align: right;\">         0.0389</td><td>21d          </td><td style=\"text-align: right;\">     2</td><td style=\"text-align: right;\">         347.167</td><td style=\"text-align: right;\">             1024</td><td style=\"text-align: right;\">         10</td><td style=\"text-align: right;\">  0.399542  </td></tr>\n",
       "<tr><td>TrainLightGCN_38543d07</td><td>TERMINATED</td><td>147.96.81.131:1318760</td><td style=\"text-align: right;\">           8</td><td style=\"text-align: right;\">            1</td><td style=\"text-align: right;\">              9</td><td>2023-07-17T00:00:00</td><td style=\"text-align: right;\">7.81126e-06</td><td style=\"text-align: right;\">         0.025 </td><td>30d          </td><td style=\"text-align: right;\">     1</td><td style=\"text-align: right;\">         860.257</td><td style=\"text-align: right;\">              256</td><td style=\"text-align: right;\">          5</td><td style=\"text-align: right;\">  0.487196  </td></tr>\n",
       "<tr><td>TrainLightGCN_6f94f0ed</td><td>TERMINATED</td><td>147.96.81.131:1315939</td><td style=\"text-align: right;\">           9</td><td style=\"text-align: right;\">            3</td><td style=\"text-align: right;\">            332</td><td>2023-07-17T00:00:00</td><td style=\"text-align: right;\">0.00221159 </td><td style=\"text-align: right;\">         0.4863</td><td>10YE         </td><td style=\"text-align: right;\">     1</td><td style=\"text-align: right;\">        2190.19 </td><td style=\"text-align: right;\">              512</td><td style=\"text-align: right;\">          5</td><td style=\"text-align: right;\"> 47.5526    </td></tr>\n",
       "<tr><td>TrainLightGCN_54324c98</td><td>TERMINATED</td><td>147.96.81.131:1318521</td><td style=\"text-align: right;\">           8</td><td style=\"text-align: right;\">            1</td><td style=\"text-align: right;\">              5</td><td>2023-07-17T00:00:00</td><td style=\"text-align: right;\">1.32954e-07</td><td style=\"text-align: right;\">         0.7932</td><td>30d          </td><td style=\"text-align: right;\">     1</td><td style=\"text-align: right;\">         896.772</td><td style=\"text-align: right;\">              256</td><td style=\"text-align: right;\">          5</td><td style=\"text-align: right;\"> 12.0285    </td></tr>\n",
       "<tr><td>TrainLightGCN_f9d2ba14</td><td>TERMINATED</td><td>147.96.81.131:1318933</td><td style=\"text-align: right;\">          10</td><td style=\"text-align: right;\">            1</td><td style=\"text-align: right;\">              1</td><td>2023-07-17T00:00:00</td><td style=\"text-align: right;\">0.00462751 </td><td style=\"text-align: right;\">         0.0311</td><td>30d          </td><td style=\"text-align: right;\">     2</td><td style=\"text-align: right;\">         440.858</td><td style=\"text-align: right;\">             1024</td><td style=\"text-align: right;\">         10</td><td style=\"text-align: right;\">  0.377827  </td></tr>\n",
       "<tr><td>TrainLightGCN_8f345e66</td><td>TERMINATED</td><td>147.96.81.131:1316687</td><td style=\"text-align: right;\">           9</td><td style=\"text-align: right;\">            2</td><td style=\"text-align: right;\">            364</td><td>2023-07-17T00:00:00</td><td style=\"text-align: right;\">2.08113e-06</td><td style=\"text-align: right;\">         0.0002</td><td>90d          </td><td style=\"text-align: right;\">     1</td><td style=\"text-align: right;\">        1888.14 </td><td style=\"text-align: right;\">              512</td><td style=\"text-align: right;\">          5</td><td style=\"text-align: right;\">  0.045954  </td></tr>\n",
       "<tr><td>TrainLightGCN_1ed275b9</td><td>TERMINATED</td><td>147.96.81.131:1316540</td><td style=\"text-align: right;\">           7</td><td style=\"text-align: right;\">            2</td><td style=\"text-align: right;\">             96</td><td>2023-07-17T00:00:00</td><td style=\"text-align: right;\">4.92424e-05</td><td style=\"text-align: right;\">         0.0784</td><td>21d          </td><td style=\"text-align: right;\">     1</td><td style=\"text-align: right;\">        1592.7  </td><td style=\"text-align: right;\">              128</td><td style=\"text-align: right;\">          5</td><td style=\"text-align: right;\">  0.372876  </td></tr>\n",
       "<tr><td>TrainLightGCN_74fd96cf</td><td>TERMINATED</td><td>147.96.81.131:1316835</td><td style=\"text-align: right;\">           8</td><td style=\"text-align: right;\">            3</td><td style=\"text-align: right;\">             86</td><td>2023-07-17T00:00:00</td><td style=\"text-align: right;\">0.000166749</td><td style=\"text-align: right;\">         0.0002</td><td>30d          </td><td style=\"text-align: right;\">     1</td><td style=\"text-align: right;\">        1433.78 </td><td style=\"text-align: right;\">              256</td><td style=\"text-align: right;\">          5</td><td style=\"text-align: right;\">  0.10648   </td></tr>\n",
       "<tr><td>TrainLightGCN_a7765e64</td><td>TERMINATED</td><td>147.96.81.131:1318339</td><td style=\"text-align: right;\">           9</td><td style=\"text-align: right;\">            2</td><td style=\"text-align: right;\">              3</td><td>2023-07-17T00:00:00</td><td style=\"text-align: right;\">0.00158506 </td><td style=\"text-align: right;\">         0.0001</td><td>30d          </td><td style=\"text-align: right;\">     1</td><td style=\"text-align: right;\">         476.378</td><td style=\"text-align: right;\">              512</td><td style=\"text-align: right;\">          5</td><td style=\"text-align: right;\">  0.519405  </td></tr>\n",
       "<tr><td>TrainLightGCN_d6273cac</td><td>TERMINATED</td><td>147.96.81.131:1314124</td><td style=\"text-align: right;\">           9</td><td style=\"text-align: right;\">            2</td><td style=\"text-align: right;\">            832</td><td>2023-07-17T00:00:00</td><td style=\"text-align: right;\">2.63678e-07</td><td style=\"text-align: right;\">         0.0705</td><td>21d          </td><td style=\"text-align: right;\">     1</td><td style=\"text-align: right;\">        1125.85 </td><td style=\"text-align: right;\">              512</td><td style=\"text-align: right;\">          5</td><td style=\"text-align: right;\">  0.488103  </td></tr>\n",
       "<tr><td>TrainLightGCN_21e290a8</td><td>TERMINATED</td><td>147.96.81.131:1317130</td><td style=\"text-align: right;\">           8</td><td style=\"text-align: right;\">            4</td><td style=\"text-align: right;\">              7</td><td>2023-07-17T00:00:00</td><td style=\"text-align: right;\">2.91903e-06</td><td style=\"text-align: right;\">         0.1593</td><td>21d          </td><td style=\"text-align: right;\">     1</td><td style=\"text-align: right;\">         818.129</td><td style=\"text-align: right;\">              256</td><td style=\"text-align: right;\">          5</td><td style=\"text-align: right;\">  0.257638  </td></tr>\n",
       "<tr><td>TrainLightGCN_3f46a448</td><td>TERMINATED</td><td>147.96.81.131:1314557</td><td style=\"text-align: right;\">           9</td><td style=\"text-align: right;\">            2</td><td style=\"text-align: right;\">             86</td><td>2023-07-17T00:00:00</td><td style=\"text-align: right;\">0.00134325 </td><td style=\"text-align: right;\">         0.0006</td><td>21d          </td><td style=\"text-align: right;\">     2</td><td style=\"text-align: right;\">         680.756</td><td style=\"text-align: right;\">              512</td><td style=\"text-align: right;\">         10</td><td style=\"text-align: right;\">  0.0349188 </td></tr>\n",
       "<tr><td>TrainLightGCN_17445adc</td><td>TERMINATED</td><td>147.96.81.131:1316390</td><td style=\"text-align: right;\">           9</td><td style=\"text-align: right;\">            2</td><td style=\"text-align: right;\">             26</td><td>2023-07-17T00:00:00</td><td style=\"text-align: right;\">1.42721e-06</td><td style=\"text-align: right;\">         0.6694</td><td>30d          </td><td style=\"text-align: right;\">     1</td><td style=\"text-align: right;\">         457.762</td><td style=\"text-align: right;\">              512</td><td style=\"text-align: right;\">          5</td><td style=\"text-align: right;\">  7.59956   </td></tr>\n",
       "<tr><td>TrainLightGCN_8d0bcd3a</td><td>TERMINATED</td><td>147.96.81.131:1316093</td><td style=\"text-align: right;\">          10</td><td style=\"text-align: right;\">            1</td><td style=\"text-align: right;\">              1</td><td>2023-07-17T00:00:00</td><td style=\"text-align: right;\">0.000699071</td><td style=\"text-align: right;\">         0.0029</td><td>21d          </td><td style=\"text-align: right;\">     2</td><td style=\"text-align: right;\">         367.339</td><td style=\"text-align: right;\">             1024</td><td style=\"text-align: right;\">         10</td><td style=\"text-align: right;\">  0.269496  </td></tr>\n",
       "</tbody>\n",
       "</table>\n",
       "  </div>\n",
       "</div>\n",
       "<style>\n",
       ".tuneStatus {\n",
       "  color: var(--jp-ui-font-color1);\n",
       "}\n",
       ".tuneStatus .systemInfo {\n",
       "  display: flex;\n",
       "  flex-direction: column;\n",
       "}\n",
       ".tuneStatus td {\n",
       "  white-space: nowrap;\n",
       "}\n",
       ".tuneStatus .trialStatus {\n",
       "  display: flex;\n",
       "  flex-direction: column;\n",
       "}\n",
       ".tuneStatus h3 {\n",
       "  font-weight: bold;\n",
       "}\n",
       ".tuneStatus .hDivider {\n",
       "  border-bottom-width: var(--jp-border-width);\n",
       "  border-bottom-color: var(--jp-border-color0);\n",
       "  border-bottom-style: solid;\n",
       "}\n",
       ".tuneStatus .vDivider {\n",
       "  border-left-width: var(--jp-border-width);\n",
       "  border-left-color: var(--jp-border-color0);\n",
       "  border-left-style: solid;\n",
       "  margin: 0.5em 1em 0.5em 1em;\n",
       "}\n",
       "</style>\n"
      ],
      "text/plain": [
       "<IPython.core.display.HTML object>"
      ]
     },
     "metadata": {},
     "output_type": "display_data"
    },
    {
     "name": "stderr",
     "output_type": "stream",
     "text": [
      "2024-09-16 11:12:24,727\tINFO tune_controller.py:444 -- Restoring the run from the latest experiment state file: experiment_state-2024-09-16_07-41-11.json\n",
      "2024-09-16 11:12:25,154\tINFO tune.py:1009 -- Wrote the latest version of all result files and experiment state to '/home/daviddavo/ray_results3.11/Magic Square/LightGCN_7d_normalize_map@10_fold=2023-07-17T00:00:00_2024-09-16T07:41:11.882650' in 0.2676s.\n",
      "2024-09-16 11:12:25,168\tINFO tune.py:1041 -- Total run time: 0.45 seconds (0.00 seconds for the tuning loop).\n"
     ]
    },
    {
     "name": "stdout",
     "output_type": "stream",
     "text": [
      "Finished training for fold 2023-07-17T00:00:00\n"
     ]
    },
    {
     "name": "stderr",
     "output_type": "stream",
     "text": [
      "\u001b[36m(TrainLightGCN pid=812333)\u001b[0m Checkpoint successfully created at: Checkpoint(filesystem=local, path=/home/daviddavo/ray_results3.11/Magic Square/LightGCN_7d_normalize_map@10_fold=2023-07-03T00:00:00_2024-09-09T18:42:44.802727/TrainLightGCN_fe7b025e_26_batch_size=8,conv_layers=4,embedding_dim=1,fold=2023-07-03T00_00_00,l2=0.0000,learning_rate=0.0002,windo_2024-09-09_21-10-11/checkpoint_000000)\n"
     ]
    },
    {
     "name": "stderr",
     "output_type": "stream",
     "text": [
      "\u001b[36m(TrainLightGCN pid=815229)\u001b[0m Checkpoint successfully created at: Checkpoint(filesystem=local, path=/home/daviddavo/ray_results3.11/Magic Square/LightGCN_7d_normalize_map@10_fold=2023-07-03T00:00:00_2024-09-09T18:42:44.802727/TrainLightGCN_dd0ea308_31_batch_size=9,conv_layers=1,embedding_dim=139,fold=2023-07-03T00_00_00,l2=0.0001,learning_rate=0.0003,win_2024-09-09_21-10-11/checkpoint_000000)\n"
     ]
    },
    {
     "name": "stderr",
     "output_type": "stream",
     "text": [
      "\u001b[36m(TrainLightGCN pid=812003)\u001b[0m Checkpoint successfully created at: Checkpoint(filesystem=local, path=/home/daviddavo/ray_results3.11/Magic Square/LightGCN_7d_normalize_map@10_fold=2023-07-03T00:00:00_2024-09-09T18:42:44.802727/TrainLightGCN_dfef496a_13_batch_size=9,conv_layers=2,embedding_dim=364,fold=2023-07-03T00_00_00,l2=0.0000,learning_rate=0.0002,win_2024-09-09_21-10-10/checkpoint_000000)\n"
     ]
    },
    {
     "name": "stderr",
     "output_type": "stream",
     "text": [
      "\u001b[36m(TrainLightGCN pid=814725)\u001b[0m Number of items is less than top_k, limiting top_k to number of items\n"
     ]
    },
    {
     "name": "stderr",
     "output_type": "stream",
     "text": [
      "\u001b[36m(TrainLightGCN pid=814725)\u001b[0m Checkpoint successfully created at: Checkpoint(filesystem=local, path=/home/daviddavo/ray_results3.11/Magic Square/LightGCN_7d_normalize_map@10_fold=2023-07-03T00:00:00_2024-09-09T18:42:44.802727/TrainLightGCN_3a03b874_23_batch_size=9,conv_layers=2,embedding_dim=3,fold=2023-07-03T00_00_00,l2=0.0021,learning_rate=0.2778,windo_2024-09-09_21-10-11/checkpoint_000000)\n"
     ]
    },
    {
     "name": "stderr",
     "output_type": "stream",
     "text": [
      "\u001b[36m(TrainLightGCN pid=812280)\u001b[0m Number of items is less than top_k, limiting top_k to number of items\n"
     ]
    },
    {
     "name": "stderr",
     "output_type": "stream",
     "text": [
      "\u001b[36m(TrainLightGCN pid=812280)\u001b[0m Checkpoint successfully created at: Checkpoint(filesystem=local, path=/home/daviddavo/ray_results3.11/Magic Square/LightGCN_7d_normalize_map@10_fold=2023-07-03T00:00:00_2024-09-09T18:42:44.802727/TrainLightGCN_88f3b33c_24_batch_size=7,conv_layers=1,embedding_dim=19,fold=2023-07-03T00_00_00,l2=0.0000,learning_rate=0.0091,wind_2024-09-09_21-10-11/checkpoint_000000)\n"
     ]
    },
    {
     "name": "stderr",
     "output_type": "stream",
     "text": [
      "\u001b[36m(TrainLightGCN pid=812177)\u001b[0m Checkpoint successfully created at: Checkpoint(filesystem=local, path=/home/daviddavo/ray_results3.11/Magic Square/LightGCN_7d_normalize_map@10_fold=2023-07-03T00:00:00_2024-09-09T18:42:44.802727/TrainLightGCN_123b3769_22_batch_size=9,conv_layers=2,embedding_dim=717,fold=2023-07-03T00_00_00,l2=0.0001,learning_rate=0.0145,win_2024-09-09_21-10-11/checkpoint_000000)\n"
     ]
    },
    {
     "name": "stderr",
     "output_type": "stream",
     "text": [
      "\u001b[36m(TrainLightGCN pid=812062)\u001b[0m Number of items is less than top_k, limiting top_k to number of items\n"
     ]
    },
    {
     "name": "stderr",
     "output_type": "stream",
     "text": [
      "\u001b[36m(TrainLightGCN pid=812062)\u001b[0m Checkpoint successfully created at: Checkpoint(filesystem=local, path=/home/daviddavo/ray_results3.11/Magic Square/LightGCN_7d_normalize_map@10_fold=2023-07-03T00:00:00_2024-09-09T18:42:44.802727/TrainLightGCN_500e164d_18_batch_size=6,conv_layers=2,embedding_dim=27,fold=2023-07-03T00_00_00,l2=0.0000,learning_rate=0.2056,wind_2024-09-09_21-10-10/checkpoint_000000)\n"
     ]
    },
    {
     "name": "stderr",
     "output_type": "stream",
     "text": [
      "\u001b[36m(TrainLightGCN pid=812057)\u001b[0m Checkpoint successfully created at: Checkpoint(filesystem=local, path=/home/daviddavo/ray_results3.11/Magic Square/LightGCN_7d_normalize_map@10_fold=2023-07-03T00:00:00_2024-09-09T18:42:44.802727/TrainLightGCN_e8316606_17_batch_size=7,conv_layers=2,embedding_dim=241,fold=2023-07-03T00_00_00,l2=0.0000,learning_rate=0.0017,win_2024-09-09_21-10-10/checkpoint_000000)\n"
     ]
    },
    {
     "name": "stderr",
     "output_type": "stream",
     "text": [
      "\u001b[36m(TrainLightGCN pid=812501)\u001b[0m Checkpoint successfully created at: Checkpoint(filesystem=local, path=/home/daviddavo/ray_results3.11/Magic Square/LightGCN_7d_normalize_map@10_fold=2023-07-03T00:00:00_2024-09-09T18:42:44.802727/TrainLightGCN_f6134ff3_33_batch_size=5,conv_layers=2,embedding_dim=47,fold=2023-07-03T00_00_00,l2=0.0000,learning_rate=0.0361,wind_2024-09-09_21-10-12/checkpoint_000000)\n"
     ]
    },
    {
     "name": "stderr",
     "output_type": "stream",
     "text": [
      "\u001b[36m(TrainLightGCN pid=812066)\u001b[0m Checkpoint successfully created at: Checkpoint(filesystem=local, path=/home/daviddavo/ray_results3.11/Magic Square/LightGCN_7d_normalize_map@10_fold=2023-07-03T00:00:00_2024-09-09T18:42:44.802727/TrainLightGCN_de7141ee_19_batch_size=5,conv_layers=4,embedding_dim=97,fold=2023-07-03T00_00_00,l2=0.0001,learning_rate=0.0021,wind_2024-09-09_21-10-10/checkpoint_000000)\n"
     ]
    },
    {
     "name": "stderr",
     "output_type": "stream",
     "text": [
      "2024-09-09 22:30:44,239\tINFO tune.py:1009 -- Wrote the latest version of all result files and experiment state to '/home/daviddavo/ray_results3.11/Magic Square/LightGCN_7d_normalize_map@10_fold=2023-07-03T00:00:00_2024-09-09T18:42:44.802727' in 0.0262s.\n"
     ]
    },
    {
     "name": "stderr",
     "output_type": "stream",
     "text": [
      "\u001b[36m(TrainLightGCN pid=812498)\u001b[0m Checkpoint successfully created at: Checkpoint(filesystem=local, path=/home/daviddavo/ray_results3.11/Magic Square/LightGCN_7d_normalize_map@10_fold=2023-07-03T00:00:00_2024-09-09T18:42:44.802727/TrainLightGCN_7c350a84_32_batch_size=5,conv_layers=4,embedding_dim=323,fold=2023-07-03T00_00_00,l2=0.0004,learning_rate=0.1294,win_2024-09-09_21-10-11/checkpoint_000000)\n"
     ]
    },
    {
     "name": "stderr",
     "output_type": "stream",
     "text": [
      "2024-09-09 22:30:44,255\tERROR tune.py:1037 -- Trials did not complete: [TrainLightGCN_216d91fd, TrainLightGCN_b43ee02b, TrainLightGCN_20ccbb87]\n"
     ]
    },
    {
     "name": "stderr",
     "output_type": "stream",
     "text": [
      "2024-09-09 22:30:44,255\tINFO tune.py:1041 -- Total run time: 4834.10 seconds (4833.91 seconds for the tuning loop).\n"
     ]
    },
    {
     "name": "stderr",
     "output_type": "stream",
     "text": [
      "2024-09-09 22:30:44,309\tWARNING experiment_analysis.py:180 -- Failed to fetch metrics for 1 trial(s):\n",
      "- TrainLightGCN_216d91fd: FileNotFoundError('Could not fetch metrics for TrainLightGCN_216d91fd: both result.json and progress.csv were not found at /home/daviddavo/ray_results3.11/Magic Square/LightGCN_7d_normalize_map@10_fold=2023-07-03T00:00:00_2024-09-09T18:42:44.802727/TrainLightGCN_216d91fd_36_batch_size=6,conv_layers=4,embedding_dim=896,fold=2023-07-03T00_00_00,l2=0.0000,learning_rate=0.4861,win_2024-09-09_21-15-44')\n"
     ]
    },
    {
     "ename": "AssertionError",
     "evalue": "There are 3 errors",
     "output_type": "error",
     "traceback": [
      "\u001b[0;31m---------------------------------------------------------------------------\u001b[0m",
      "\u001b[0;31mAssertionError\u001b[0m                            Traceback (most recent call last)",
      "Cell \u001b[0;32mIn[23], line 44\u001b[0m\n\u001b[1;32m     41\u001b[0m tuners[\u001b[38;5;241m-\u001b[39m\u001b[38;5;241m1\u001b[39m] \u001b[38;5;241m=\u001b[39m t\n\u001b[1;32m     42\u001b[0m rg \u001b[38;5;241m=\u001b[39m t\u001b[38;5;241m.\u001b[39mfit()\n\u001b[0;32m---> 44\u001b[0m \u001b[38;5;28;01massert\u001b[39;00m rg\u001b[38;5;241m.\u001b[39mnum_errors \u001b[38;5;241m==\u001b[39m \u001b[38;5;241m0\u001b[39m, \u001b[38;5;124mf\u001b[39m\u001b[38;5;124m\"\u001b[39m\u001b[38;5;124mThere are \u001b[39m\u001b[38;5;132;01m{\u001b[39;00mrg\u001b[38;5;241m.\u001b[39mnum_errors\u001b[38;5;132;01m}\u001b[39;00m\u001b[38;5;124m errors\u001b[39m\u001b[38;5;124m\"\u001b[39m\n\u001b[1;32m     45\u001b[0m \u001b[38;5;28;01massert\u001b[39;00m rg\u001b[38;5;241m.\u001b[39mnum_terminated \u001b[38;5;241m>\u001b[39m\u001b[38;5;241m=\u001b[39m NUM_SAMPLES, \u001b[38;5;124mf\u001b[39m\u001b[38;5;124m'\u001b[39m\u001b[38;5;124mSome samples are not terminated (\u001b[39m\u001b[38;5;132;01m{\u001b[39;00mrg\u001b[38;5;241m.\u001b[39mnum_terminated\u001b[38;5;132;01m}\u001b[39;00m\u001b[38;5;124m != \u001b[39m\u001b[38;5;132;01m{\u001b[39;00mNUM_SAMPLES\u001b[38;5;132;01m}\u001b[39;00m\u001b[38;5;124m)\u001b[39m\u001b[38;5;124m'\u001b[39m\n\u001b[1;32m     46\u001b[0m \u001b[38;5;28;01massert\u001b[39;00m \u001b[38;5;28mlen\u001b[39m(rg\u001b[38;5;241m.\u001b[39mget_dataframe()) \u001b[38;5;241m>\u001b[39m\u001b[38;5;241m=\u001b[39m NUM_SAMPLES\n",
      "\u001b[0;31mAssertionError\u001b[0m: There are 3 errors"
     ]
    }
   ],
   "source": [
    "import logging\n",
    "import requests\n",
    "\n",
    "def findConfig(rg):\n",
    "    for r in rg:\n",
    "        if r.config:\n",
    "            lbrc = last_best_result.config\n",
    "            if all((r.config[k] == v for k, v in last_best_result.config.items() if k != 'fold')):\n",
    "                return r\n",
    "            elif all((r.config[k] == v for k, v in last_best_result.config.items() if k != 'fold' and k != 'window_size')):\n",
    "                print(\"Possible coincidence:\", r.config, file=sys.stderr)\n",
    "\n",
    "    return None\n",
    "\n",
    "tuners = []\n",
    "results = []\n",
    "last_best_result = None\n",
    "pbar.reset()\n",
    "\n",
    "last_best_fold = None\n",
    "requests.post(\"https://ntfy.sh/grasia_notebooks\", data=f\"Start running microsoft_tuning for {ORG_NAME}\")\n",
    "for i, (prev_f_idx, f_idx) in enumerate(zip(it.chain([None], use_folds_idx), use_folds_idx)):\n",
    "    try:\n",
    "        with out:\n",
    "            best_prev_config = None\n",
    "            if last_best_result is not None:\n",
    "                best_prev_config = last_best_result.config.copy()\n",
    "                assert best_prev_config['fold'] == prev_f_idx\n",
    "                best_prev_config['fold'] = f_idx\n",
    "                print(f\"Also evaluating best_prev_config ({OPTIM_METRIC}={last_best_result.metrics[OPTIM_METRIC]}): {best_prev_config}\")\n",
    "                best_prev_config = [best_prev_config]\n",
    "        \n",
    "        t = getTunerOnFold(f_idx, best_prev_config)\n",
    "        tuners.append(t)\n",
    "    \n",
    "        rg = t.fit()\n",
    "        \n",
    "        # FIXME: load results from disk until ray-project/ray#47358 is solved\n",
    "        # https://github.com/ray-project/ray/issues/47358\n",
    "        t = getTunerOnFold(f_idx, best_prev_config)\n",
    "        tuners[-1] = t\n",
    "        rg = t.fit()\n",
    "    \n",
    "        assert rg.num_errors == 0, f\"There are {rg.num_errors} errors\"\n",
    "        assert rg.num_terminated >= NUM_SAMPLES, f'Some samples are not terminated ({rg.num_terminated} != {NUM_SAMPLES})'\n",
    "        assert len(rg.get_dataframe()) >= NUM_SAMPLES\n",
    "        results.append(rg)\n",
    "    \n",
    "        # Assert that the prev config has been tried\n",
    "        if last_best_result is not None:\n",
    "            # if not any( \n",
    "            #     all((r.config[k] == v for k, v in last_best_result.config.items() if k != 'fold'))\n",
    "            #     for r in rg if r.config\n",
    "            # ):\n",
    "            if not findConfig(rg):\n",
    "                print(\"Best config:\", last_best_result.config)\n",
    "                assert False, f\"The best config from previous fold has not been tested in fold {f_idx}\"    \n",
    "            else:\n",
    "                logging.info(f'Fold {f_idx}. Best prev result was {last_best_result.path} and config has been found {findConfig(rg).path}')\n",
    "        \n",
    "        last_best_result = rg.get_best_result()\n",
    "        pbar.update()\n",
    "    \n",
    "        print(f\"Finished training for fold {f_idx}\")\n",
    "        requests.post(\"https://ntfy.sh/grasia_notebooks\", data=f\"Finished running fold {i} for {ORG_NAME}\")\n",
    "    except Exception as e:\n",
    "        requests.post(\"https://ntfy.sh/grasia_notebooks\", data=f\"Error on fold {i} for {ORG_NAME}: {repr(e)}\")\n",
    "        raise\n",
    "\n",
    "pbar.close()"
   ]
  },
  {
   "cell_type": "code",
   "execution_count": 24,
   "id": "0861fd77",
   "metadata": {
    "editable": true,
    "papermill": {
     "duration": null,
     "end_time": null,
     "exception": null,
     "start_time": null,
     "status": "pending"
    },
    "slideshow": {
     "slide_type": ""
    },
    "tags": []
   },
   "outputs": [
    {
     "name": "stdout",
     "output_type": "stream",
     "text": [
      "Finished!\n"
     ]
    }
   ],
   "source": [
    "requests.post(\"https://ntfy.sh/grasia_notebooks\", data=f\"Finished running everything for {ORG_NAME}\")\n",
    "print(\"Finished!\")"
   ]
  }
 ],
 "metadata": {
  "kernelspec": {
   "display_name": "Python 3 (ipykernel)",
   "language": "python",
   "name": "python3"
  },
  "language_info": {
   "codemirror_mode": {
    "name": "ipython",
    "version": 3
   },
   "file_extension": ".py",
   "mimetype": "text/x-python",
   "name": "python",
   "nbconvert_exporter": "python",
   "pygments_lexer": "ipython3",
   "version": "3.11.6"
  },
  "papermill": {
   "default_parameters": {},
   "duration": 43841.859901,
   "end_time": "2024-09-09T22:30:51.661061",
   "environment_variables": {},
   "exception": true,
   "input_path": "20_microsoft_tuning.ipynb",
   "output_path": "../nbout/Magic Square/20_microsoft_tuning.ipynb",
   "parameters": {
    "EXECUTION_ID": "2024-09-04T10:00",
    "LAST_FOLDS": 10,
    "LAST_FOLD_DATE_STR": "2023-07-17",
    "MIN_BATCH_SIZE": 4,
    "ORG_NAME": "Magic Square",
    "SPLITS_FREQ": "7d",
    "SPLITS_NORMALIZE": true
   },
   "start_time": "2024-09-09T10:20:09.801160",
   "version": "2.6.0"
  },
  "widgets": {
   "application/vnd.jupyter.widget-state+json": {
    "state": {
     "10bb10a596e94c42993afa9fdbbded47": {
      "model_module": "@jupyter-widgets/base",
      "model_module_version": "2.0.0",
      "model_name": "LayoutModel",
      "state": {
       "_model_module": "@jupyter-widgets/base",
       "_model_module_version": "2.0.0",
       "_model_name": "LayoutModel",
       "_view_count": null,
       "_view_module": "@jupyter-widgets/base",
       "_view_module_version": "2.0.0",
       "_view_name": "LayoutView",
       "align_content": null,
       "align_items": null,
       "align_self": null,
       "border_bottom": "1px solid black",
       "border_left": "1px solid black",
       "border_right": "1px solid black",
       "border_top": "1px solid black",
       "bottom": null,
       "display": null,
       "flex": null,
       "flex_flow": null,
       "grid_area": null,
       "grid_auto_columns": null,
       "grid_auto_flow": null,
       "grid_auto_rows": null,
       "grid_column": null,
       "grid_gap": null,
       "grid_row": null,
       "grid_template_areas": null,
       "grid_template_columns": null,
       "grid_template_rows": null,
       "height": null,
       "justify_content": null,
       "justify_items": null,
       "left": null,
       "margin": null,
       "max_height": null,
       "max_width": null,
       "min_height": null,
       "min_width": null,
       "object_fit": null,
       "object_position": null,
       "order": null,
       "overflow": null,
       "padding": null,
       "right": null,
       "top": null,
       "visibility": null,
       "width": null
      }
     },
     "3094942d08a14092afd57e1b9e6091d1": {
      "model_module": "@jupyter-widgets/base",
      "model_module_version": "2.0.0",
      "model_name": "LayoutModel",
      "state": {
       "_model_module": "@jupyter-widgets/base",
       "_model_module_version": "2.0.0",
       "_model_name": "LayoutModel",
       "_view_count": null,
       "_view_module": "@jupyter-widgets/base",
       "_view_module_version": "2.0.0",
       "_view_name": "LayoutView",
       "align_content": null,
       "align_items": null,
       "align_self": null,
       "border_bottom": null,
       "border_left": null,
       "border_right": null,
       "border_top": null,
       "bottom": null,
       "display": null,
       "flex": null,
       "flex_flow": null,
       "grid_area": null,
       "grid_auto_columns": null,
       "grid_auto_flow": null,
       "grid_auto_rows": null,
       "grid_column": null,
       "grid_gap": null,
       "grid_row": null,
       "grid_template_areas": null,
       "grid_template_columns": null,
       "grid_template_rows": null,
       "height": null,
       "justify_content": null,
       "justify_items": null,
       "left": null,
       "margin": null,
       "max_height": null,
       "max_width": null,
       "min_height": null,
       "min_width": null,
       "object_fit": null,
       "object_position": null,
       "order": null,
       "overflow": null,
       "padding": null,
       "right": null,
       "top": null,
       "visibility": null,
       "width": null
      }
     },
     "3e19f4619d944fd892f9416ba7988433": {
      "model_module": "@jupyter-widgets/base",
      "model_module_version": "2.0.0",
      "model_name": "LayoutModel",
      "state": {
       "_model_module": "@jupyter-widgets/base",
       "_model_module_version": "2.0.0",
       "_model_name": "LayoutModel",
       "_view_count": null,
       "_view_module": "@jupyter-widgets/base",
       "_view_module_version": "2.0.0",
       "_view_name": "LayoutView",
       "align_content": null,
       "align_items": null,
       "align_self": null,
       "border_bottom": null,
       "border_left": null,
       "border_right": null,
       "border_top": null,
       "bottom": null,
       "display": null,
       "flex": null,
       "flex_flow": null,
       "grid_area": null,
       "grid_auto_columns": null,
       "grid_auto_flow": null,
       "grid_auto_rows": null,
       "grid_column": null,
       "grid_gap": null,
       "grid_row": null,
       "grid_template_areas": null,
       "grid_template_columns": null,
       "grid_template_rows": null,
       "height": null,
       "justify_content": null,
       "justify_items": null,
       "left": null,
       "margin": null,
       "max_height": null,
       "max_width": null,
       "min_height": null,
       "min_width": null,
       "object_fit": null,
       "object_position": null,
       "order": null,
       "overflow": null,
       "padding": null,
       "right": null,
       "top": null,
       "visibility": null,
       "width": null
      }
     },
     "48220b9e2510478baae92ab301d7fac9": {
      "model_module": "@jupyter-widgets/controls",
      "model_module_version": "2.0.0",
      "model_name": "ProgressStyleModel",
      "state": {
       "_model_module": "@jupyter-widgets/controls",
       "_model_module_version": "2.0.0",
       "_model_name": "ProgressStyleModel",
       "_view_count": null,
       "_view_module": "@jupyter-widgets/base",
       "_view_module_version": "2.0.0",
       "_view_name": "StyleView",
       "bar_color": null,
       "description_width": ""
      }
     },
     "4f1e28ea77cf4594a5646dd1457c846d": {
      "model_module": "@jupyter-widgets/controls",
      "model_module_version": "2.0.0",
      "model_name": "HTMLStyleModel",
      "state": {
       "_model_module": "@jupyter-widgets/controls",
       "_model_module_version": "2.0.0",
       "_model_name": "HTMLStyleModel",
       "_view_count": null,
       "_view_module": "@jupyter-widgets/base",
       "_view_module_version": "2.0.0",
       "_view_name": "StyleView",
       "background": null,
       "description_width": "",
       "font_size": null,
       "text_color": null
      }
     },
     "81f606857db344a0a831f640f5de66e7": {
      "model_module": "@jupyter-widgets/controls",
      "model_module_version": "2.0.0",
      "model_name": "HTMLModel",
      "state": {
       "_dom_classes": [],
       "_model_module": "@jupyter-widgets/controls",
       "_model_module_version": "2.0.0",
       "_model_name": "HTMLModel",
       "_view_count": null,
       "_view_module": "@jupyter-widgets/controls",
       "_view_module_version": "2.0.0",
       "_view_name": "HTMLView",
       "description": "",
       "description_allow_html": false,
       "layout": "IPY_MODEL_d121c1b26788403b8bf403fd99f2c5d6",
       "placeholder": "​",
       "style": "IPY_MODEL_866dfff96b054ada92c8cbce1eeaff34",
       "tabbable": null,
       "tooltip": null,
       "value": " 7/10 [8:22:26&lt;5:21:47, 6435.86s/it]"
      }
     },
     "866dfff96b054ada92c8cbce1eeaff34": {
      "model_module": "@jupyter-widgets/controls",
      "model_module_version": "2.0.0",
      "model_name": "HTMLStyleModel",
      "state": {
       "_model_module": "@jupyter-widgets/controls",
       "_model_module_version": "2.0.0",
       "_model_name": "HTMLStyleModel",
       "_view_count": null,
       "_view_module": "@jupyter-widgets/base",
       "_view_module_version": "2.0.0",
       "_view_name": "StyleView",
       "background": null,
       "description_width": "",
       "font_size": null,
       "text_color": null
      }
     },
     "8760f9fe7d804402a1b824b6f4534753": {
      "model_module": "@jupyter-widgets/controls",
      "model_module_version": "2.0.0",
      "model_name": "HBoxModel",
      "state": {
       "_dom_classes": [],
       "_model_module": "@jupyter-widgets/controls",
       "_model_module_version": "2.0.0",
       "_model_name": "HBoxModel",
       "_view_count": null,
       "_view_module": "@jupyter-widgets/controls",
       "_view_module_version": "2.0.0",
       "_view_name": "HBoxView",
       "box_style": "",
       "children": [
        "IPY_MODEL_a0fd7c11a6124c3791347c4ec556d035",
        "IPY_MODEL_de5adf0d9b9e4b0d96bd314519687830",
        "IPY_MODEL_81f606857db344a0a831f640f5de66e7"
       ],
       "layout": "IPY_MODEL_3094942d08a14092afd57e1b9e6091d1",
       "tabbable": null,
       "tooltip": null
      }
     },
     "a0fd7c11a6124c3791347c4ec556d035": {
      "model_module": "@jupyter-widgets/controls",
      "model_module_version": "2.0.0",
      "model_name": "HTMLModel",
      "state": {
       "_dom_classes": [],
       "_model_module": "@jupyter-widgets/controls",
       "_model_module_version": "2.0.0",
       "_model_name": "HTMLModel",
       "_view_count": null,
       "_view_module": "@jupyter-widgets/controls",
       "_view_module_version": "2.0.0",
       "_view_name": "HTMLView",
       "description": "",
       "description_allow_html": false,
       "layout": "IPY_MODEL_3e19f4619d944fd892f9416ba7988433",
       "placeholder": "​",
       "style": "IPY_MODEL_4f1e28ea77cf4594a5646dd1457c846d",
       "tabbable": null,
       "tooltip": null,
       "value": "fold:  70%"
      }
     },
     "b7ccfc2eb13e47ba88902a8708797c88": {
      "model_module": "@jupyter-widgets/base",
      "model_module_version": "2.0.0",
      "model_name": "LayoutModel",
      "state": {
       "_model_module": "@jupyter-widgets/base",
       "_model_module_version": "2.0.0",
       "_model_name": "LayoutModel",
       "_view_count": null,
       "_view_module": "@jupyter-widgets/base",
       "_view_module_version": "2.0.0",
       "_view_name": "LayoutView",
       "align_content": null,
       "align_items": null,
       "align_self": null,
       "border_bottom": null,
       "border_left": null,
       "border_right": null,
       "border_top": null,
       "bottom": null,
       "display": null,
       "flex": null,
       "flex_flow": null,
       "grid_area": null,
       "grid_auto_columns": null,
       "grid_auto_flow": null,
       "grid_auto_rows": null,
       "grid_column": null,
       "grid_gap": null,
       "grid_row": null,
       "grid_template_areas": null,
       "grid_template_columns": null,
       "grid_template_rows": null,
       "height": null,
       "justify_content": null,
       "justify_items": null,
       "left": null,
       "margin": null,
       "max_height": null,
       "max_width": null,
       "min_height": null,
       "min_width": null,
       "object_fit": null,
       "object_position": null,
       "order": null,
       "overflow": null,
       "padding": null,
       "right": null,
       "top": null,
       "visibility": null,
       "width": null
      }
     },
     "d121c1b26788403b8bf403fd99f2c5d6": {
      "model_module": "@jupyter-widgets/base",
      "model_module_version": "2.0.0",
      "model_name": "LayoutModel",
      "state": {
       "_model_module": "@jupyter-widgets/base",
       "_model_module_version": "2.0.0",
       "_model_name": "LayoutModel",
       "_view_count": null,
       "_view_module": "@jupyter-widgets/base",
       "_view_module_version": "2.0.0",
       "_view_name": "LayoutView",
       "align_content": null,
       "align_items": null,
       "align_self": null,
       "border_bottom": null,
       "border_left": null,
       "border_right": null,
       "border_top": null,
       "bottom": null,
       "display": null,
       "flex": null,
       "flex_flow": null,
       "grid_area": null,
       "grid_auto_columns": null,
       "grid_auto_flow": null,
       "grid_auto_rows": null,
       "grid_column": null,
       "grid_gap": null,
       "grid_row": null,
       "grid_template_areas": null,
       "grid_template_columns": null,
       "grid_template_rows": null,
       "height": null,
       "justify_content": null,
       "justify_items": null,
       "left": null,
       "margin": null,
       "max_height": null,
       "max_width": null,
       "min_height": null,
       "min_width": null,
       "object_fit": null,
       "object_position": null,
       "order": null,
       "overflow": null,
       "padding": null,
       "right": null,
       "top": null,
       "visibility": null,
       "width": null
      }
     },
     "de5adf0d9b9e4b0d96bd314519687830": {
      "model_module": "@jupyter-widgets/controls",
      "model_module_version": "2.0.0",
      "model_name": "FloatProgressModel",
      "state": {
       "_dom_classes": [],
       "_model_module": "@jupyter-widgets/controls",
       "_model_module_version": "2.0.0",
       "_model_name": "FloatProgressModel",
       "_view_count": null,
       "_view_module": "@jupyter-widgets/controls",
       "_view_module_version": "2.0.0",
       "_view_name": "ProgressView",
       "bar_style": "",
       "description": "",
       "description_allow_html": false,
       "layout": "IPY_MODEL_b7ccfc2eb13e47ba88902a8708797c88",
       "max": 10,
       "min": 0,
       "orientation": "horizontal",
       "style": "IPY_MODEL_48220b9e2510478baae92ab301d7fac9",
       "tabbable": null,
       "tooltip": null,
       "value": 7
      }
     },
     "f1845c90a94d410f973e2d9df75cd2cb": {
      "model_module": "@jupyter-widgets/output",
      "model_module_version": "1.0.0",
      "model_name": "OutputModel",
      "state": {
       "_dom_classes": [],
       "_model_module": "@jupyter-widgets/output",
       "_model_module_version": "1.0.0",
       "_model_name": "OutputModel",
       "_view_count": null,
       "_view_module": "@jupyter-widgets/output",
       "_view_module_version": "1.0.0",
       "_view_name": "OutputView",
       "layout": "IPY_MODEL_10bb10a596e94c42993afa9fdbbded47",
       "msg_id": "",
       "outputs": [
        {
         "name": "stdout",
         "output_type": "stream",
         "text": "In this cell important output from the next cell will be shown\nAlso evaluating best_prev_config (map@10=0.8492119992927817): {'batch_size': 6, 'embedding_dim': 2, 'conv_layers': 1, 'learning_rate': 0.3191, 'l2': 0.0011810203281316278, 'window_size': '90d', 'fold': '2023-05-22T00:00:00'}\nAlso evaluating best_prev_config (map@10=0.5925990308530419): {'batch_size': 10, 'embedding_dim': 223, 'conv_layers': 1, 'learning_rate': 0.29710000000000003, 'l2': 2.143329211106706e-06, 'window_size': '90d', 'fold': '2023-05-29T00:00:00'}\nAlso evaluating best_prev_config (map@10=0.6334138007054673): {'batch_size': 4, 'embedding_dim': 1, 'conv_layers': 1, 'learning_rate': 0.0078000000000000005, 'l2': 1.9166784088922103e-07, 'window_size': '10YE', 'fold': '2023-06-05T00:00:00'}\nAlso evaluating best_prev_config (map@10=0.6295384939903212): {'batch_size': 7, 'embedding_dim': 2, 'conv_layers': 3, 'learning_rate': 0.0049, 'l2': 0.0006887400114564803, 'window_size': '60d', 'fold': '2023-06-12T00:00:00'}\nAlso evaluating best_prev_config (map@10=0.554325547270535): {'batch_size': 5, 'embedding_dim': 135, 'conv_layers': 1, 'learning_rate': 0.0086, 'l2': 0.0007561544592823426, 'window_size': '60d', 'fold': '2023-06-19T00:00:00'}\nAlso evaluating best_prev_config (map@10=0.5842453006266846): {'batch_size': 7, 'embedding_dim': 90, 'conv_layers': 4, 'learning_rate': 0.0005, 'l2': 0.0002808846157928507, 'window_size': '60d', 'fold': '2023-06-26T00:00:00'}\nAlso evaluating best_prev_config (map@10=0.5946009755077208): {'batch_size': 7, 'embedding_dim': 2, 'conv_layers': 1, 'learning_rate': 0.2073, 'l2': 0.0001055459444934651, 'window_size': '10YE', 'fold': '2023-07-03T00:00:00'}\n"
        }
       ],
       "tabbable": null,
       "tooltip": null
      }
     }
    },
    "version_major": 2,
    "version_minor": 0
   }
  }
 },
 "nbformat": 4,
 "nbformat_minor": 5
}
