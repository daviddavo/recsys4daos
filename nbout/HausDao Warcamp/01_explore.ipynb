{
 "cells": [
  {
   "cell_type": "code",
   "execution_count": 1,
   "id": "640054cf-a577-4483-9273-e1e1f8dc7798",
   "metadata": {
    "execution": {
     "iopub.execute_input": "2024-09-26T16:55:47.634999Z",
     "iopub.status.busy": "2024-09-26T16:55:47.634907Z",
     "iopub.status.idle": "2024-09-26T16:55:48.366280Z",
     "shell.execute_reply": "2024-09-26T16:55:48.366020Z"
    },
    "papermill": {
     "duration": 0.739615,
     "end_time": "2024-09-26T16:55:48.366923",
     "exception": false,
     "start_time": "2024-09-26T16:55:47.627308",
     "status": "completed"
    },
    "tags": []
   },
   "outputs": [
    {
     "name": "stdout",
     "output_type": "stream",
     "text": [
      "Original size: [6.4, 4.8], Ratio: 1.3333333333333335\n",
      "New size: [3.5, 2.6249999999999996]\n"
     ]
    },
    {
     "name": "stderr",
     "output_type": "stream",
     "text": [
      "/home/daviddavo/recsys4daos/src/recsys4daos/model_selection.py:12: TqdmExperimentalWarning: Using `tqdm.autonotebook.tqdm` in notebook mode. Use `tqdm.tqdm` instead to force console mode (e.g. in jupyter console)\n",
      "  from tqdm.autonotebook import tqdm\n"
     ]
    }
   ],
   "source": [
    "import datetime as dt\n",
    "import itertools as it\n",
    "import warnings\n",
    "\n",
    "import pandas as pd\n",
    "import numpy as np\n",
    "\n",
    "import matplotlib.pyplot as plt\n",
    "%matplotlib inline\n",
    "import seaborn as sns\n",
    "\n",
    "from recsys4daos.utils import notebooks as nbutils\n",
    "from recsys4daos.model_selection import cvtt_open\n",
    "import paths\n",
    "\n",
    "sns.set_theme(rc = {\n",
    "})\n",
    "sns.set_context(\"paper\")\n",
    "\n",
    "# Paper column width in inches\n",
    "PAPER_COL_WIDTH = 3.5\n",
    "\n",
    "original = plt.rcParamsDefault['figure.figsize']\n",
    "ratio = original[0] / original[1]\n",
    "print(f\"Original size: {original}, Ratio: {ratio}\")\n",
    "plt.rcParams['figure.figsize'] = (PAPER_COL_WIDTH, PAPER_COL_WIDTH/ratio)\n",
    "print(\"New size:\", plt.rcParams['figure.figsize'])\n",
    "\n",
    "# In acmart, 9pt is the default\n",
    "# And 7pt for \\footnotesize\n",
    "# plt.rcParams['font.size'] = 7,\n",
    "\n",
    "# The following are already relatively defined\n",
    "# plt.rcParams['xtick.labelsize'] = plt.rcParams['ytick.labelsize'] = plt.rcParams['axes.labelsize'] = plt.rcParams['font.size']"
   ]
  },
  {
   "cell_type": "code",
   "execution_count": 2,
   "id": "c7f5ba70-4851-4988-bf55-e0f59bfac4fa",
   "metadata": {
    "editable": true,
    "execution": {
     "iopub.execute_input": "2024-09-26T16:55:48.373178Z",
     "iopub.status.busy": "2024-09-26T16:55:48.372989Z",
     "iopub.status.idle": "2024-09-26T16:55:48.374870Z",
     "shell.execute_reply": "2024-09-26T16:55:48.374668Z"
    },
    "papermill": {
     "duration": 0.00602,
     "end_time": "2024-09-26T16:55:48.375972",
     "exception": false,
     "start_time": "2024-09-26T16:55:48.369952",
     "status": "completed"
    },
    "slideshow": {
     "slide_type": ""
    },
    "tags": [
     "parameters"
    ]
   },
   "outputs": [],
   "source": [
    "ORG_NAME = 'Decentraland'\n",
    "SPLITS_FREQ: str = 'W-THU'\n",
    "SPLITS_NORMALIZE: bool = True\n",
    "LAST_FOLDS: int = 10\n",
    "LAST_FOLD_DATE_STR: str = None # Used just for plotting\n",
    "\n",
    "# Plotting hparams\n",
    "RECTANGLE_ALPHA = 0.3"
   ]
  },
  {
   "cell_type": "code",
   "execution_count": 3,
   "id": "31ef7eae",
   "metadata": {
    "execution": {
     "iopub.execute_input": "2024-09-26T16:55:48.380785Z",
     "iopub.status.busy": "2024-09-26T16:55:48.380652Z",
     "iopub.status.idle": "2024-09-26T16:55:48.382257Z",
     "shell.execute_reply": "2024-09-26T16:55:48.382054Z"
    },
    "papermill": {
     "duration": 0.005253,
     "end_time": "2024-09-26T16:55:48.383312",
     "exception": false,
     "start_time": "2024-09-26T16:55:48.378059",
     "status": "completed"
    },
    "tags": [
     "injected-parameters"
    ]
   },
   "outputs": [],
   "source": [
    "# Parameters\n",
    "EXECUTION_ID = \"2024-09-24T10:00\"\n",
    "ORG_NAME = \"HausDao Warcamp\"\n",
    "SPLITS_FREQ = \"7d\"\n",
    "LAST_FOLDS = 10\n",
    "SPLITS_NORMALIZE = True\n",
    "LAST_FOLD_DATE_STR = None\n"
   ]
  },
  {
   "cell_type": "code",
   "execution_count": 4,
   "id": "18b57097-46f5-4181-a1a5-f095f406f3a6",
   "metadata": {
    "execution": {
     "iopub.execute_input": "2024-09-26T16:55:48.388599Z",
     "iopub.status.busy": "2024-09-26T16:55:48.388457Z",
     "iopub.status.idle": "2024-09-26T16:55:48.389971Z",
     "shell.execute_reply": "2024-09-26T16:55:48.389781Z"
    },
    "papermill": {
     "duration": 0.005036,
     "end_time": "2024-09-26T16:55:48.390878",
     "exception": false,
     "start_time": "2024-09-26T16:55:48.385842",
     "status": "completed"
    },
    "tags": []
   },
   "outputs": [],
   "source": [
    "LAST_FOLD_DATE: dt.datetime = dt.datetime.fromisoformat(LAST_FOLD_DATE_STR) if LAST_FOLD_DATE_STR else dt.datetime.now()"
   ]
  },
  {
   "cell_type": "code",
   "execution_count": 5,
   "id": "1291b8e7-03c8-48ad-b732-9f66a9ef4ff3",
   "metadata": {
    "execution": {
     "iopub.execute_input": "2024-09-26T16:55:48.395630Z",
     "iopub.status.busy": "2024-09-26T16:55:48.395505Z",
     "iopub.status.idle": "2024-09-26T16:55:48.412045Z",
     "shell.execute_reply": "2024-09-26T16:55:48.411842Z"
    },
    "papermill": {
     "duration": 0.019626,
     "end_time": "2024-09-26T16:55:48.412561",
     "exception": false,
     "start_time": "2024-09-26T16:55:48.392935",
     "status": "completed"
    },
    "tags": []
   },
   "outputs": [
    {
     "name": "stdout",
     "output_type": "stream",
     "text": [
      "<class 'pandas.core.frame.DataFrame'>\n",
      "RangeIndex: 383 entries, 0 to 382\n",
      "Data columns (total 6 columns):\n",
      " #   Column             Non-Null Count  Dtype         \n",
      "---  ------             --------------  -----         \n",
      " 0   id                 383 non-null    object        \n",
      " 1   author             383 non-null    object        \n",
      " 2   date               383 non-null    datetime64[us]\n",
      " 3   start              383 non-null    datetime64[us]\n",
      " 4   end                360 non-null    datetime64[us]\n",
      " 5   platform_proposal  383 non-null    object        \n",
      "dtypes: datetime64[us](3), object(3)\n",
      "memory usage: 18.1+ KB\n",
      "None\n",
      "<class 'pandas.core.frame.DataFrame'>\n",
      "RangeIndex: 1018 entries, 0 to 1017\n",
      "Data columns (total 4 columns):\n",
      " #   Column    Non-Null Count  Dtype         \n",
      "---  ------    --------------  -----         \n",
      " 0   id        1018 non-null   object        \n",
      " 1   proposal  1018 non-null   object        \n",
      " 2   voter     1018 non-null   object        \n",
      " 3   date      1018 non-null   datetime64[us]\n",
      "dtypes: datetime64[us](1), object(3)\n",
      "memory usage: 31.9+ KB\n",
      "None\n"
     ]
    }
   ],
   "source": [
    "dfp = paths.load_proposals(ORG_NAME)\n",
    "dfv = paths.load_votes(ORG_NAME)\n",
    "\n",
    "print(dfp.info())\n",
    "print(dfv.info())"
   ]
  },
  {
   "cell_type": "code",
   "execution_count": 6,
   "id": "91ae71b5-ba11-48d2-becd-047ee43af17d",
   "metadata": {
    "execution": {
     "iopub.execute_input": "2024-09-26T16:55:48.417544Z",
     "iopub.status.busy": "2024-09-26T16:55:48.417421Z",
     "iopub.status.idle": "2024-09-26T16:55:48.420682Z",
     "shell.execute_reply": "2024-09-26T16:55:48.420482Z"
    },
    "papermill": {
     "duration": 0.006301,
     "end_time": "2024-09-26T16:55:48.421168",
     "exception": false,
     "start_time": "2024-09-26T16:55:48.414867",
     "status": "completed"
    },
    "tags": []
   },
   "outputs": [
    {
     "name": "stdout",
     "output_type": "stream",
     "text": [
      "First vote: 2021-03-26 22:12:15\n",
      "Last vote: 2023-05-10 20:15:25\n"
     ]
    }
   ],
   "source": [
    "print(\"First vote:\", first_vote := dfv['date'].min())\n",
    "print(\"Last vote:\", last_vote := dfv['date'].max())\n",
    "paths.save_dao_datum(ORG_NAME, 'dfv_first_vote', str(first_vote))\n",
    "paths.save_dao_datum(ORG_NAME, 'dfv_last_vote', str(last_vote))"
   ]
  },
  {
   "cell_type": "code",
   "execution_count": 7,
   "id": "28628987-ada0-49cb-9b85-d8ee0ff417c1",
   "metadata": {
    "execution": {
     "iopub.execute_input": "2024-09-26T16:55:48.425943Z",
     "iopub.status.busy": "2024-09-26T16:55:48.425814Z",
     "iopub.status.idle": "2024-09-26T16:55:48.523261Z",
     "shell.execute_reply": "2024-09-26T16:55:48.523071Z"
    },
    "papermill": {
     "duration": 0.100563,
     "end_time": "2024-09-26T16:55:48.523931",
     "exception": false,
     "start_time": "2024-09-26T16:55:48.423368",
     "status": "completed"
    },
    "tags": []
   },
   "outputs": [
    {
     "name": "stdout",
     "output_type": "stream",
     "text": [
      "Using 10 folds from 2023-03-03 00:00:00 to 2023-05-05 00:00:00\n"
     ]
    }
   ],
   "source": [
    "folds = list(cvtt_open(dfv, SPLITS_FREQ, dfp, normalize=SPLITS_NORMALIZE, col_item='proposal', col_time='date', last_fold=LAST_FOLD_DATE_STR))[-LAST_FOLDS:]\n",
    "print(f\"Using {len(folds)} folds from {folds[0].end} to {folds[-1].end}\")\n",
    "paths.save_dao_datum(ORG_NAME, 'first_fold_date', str(folds[0].end))"
   ]
  },
  {
   "cell_type": "markdown",
   "id": "68ea9409-3b8c-4dfe-9c5d-4e89db8fd928",
   "metadata": {
    "papermill": {
     "duration": 0.002415,
     "end_time": "2024-09-26T16:55:48.528851",
     "exception": false,
     "start_time": "2024-09-26T16:55:48.526436",
     "status": "completed"
    },
    "tags": []
   },
   "source": [
    "## Proposals and time\n",
    "\n",
    "### How much time does each proposal take"
   ]
  },
  {
   "cell_type": "code",
   "execution_count": 8,
   "id": "a3ac7db5-d190-4ac5-8504-76a5c3eea938",
   "metadata": {
    "execution": {
     "iopub.execute_input": "2024-09-26T16:55:48.533970Z",
     "iopub.status.busy": "2024-09-26T16:55:48.533849Z",
     "iopub.status.idle": "2024-09-26T16:55:48.597246Z",
     "shell.execute_reply": "2024-09-26T16:55:48.597017Z"
    },
    "papermill": {
     "duration": 0.066702,
     "end_time": "2024-09-26T16:55:48.597800",
     "exception": false,
     "start_time": "2024-09-26T16:55:48.531098",
     "status": "completed"
    },
    "tags": []
   },
   "outputs": [
    {
     "name": "stdout",
     "output_type": "stream",
     "text": [
      "7 days 03:08:10     2\n",
      "7 days 13:52:40     1\n",
      "13 days 00:23:00    1\n",
      "8 days 06:44:30     1\n",
      "8 days 10:43:45     1\n",
      "                   ..\n",
      "7 days 12:44:15     1\n",
      "7 days 07:34:05     1\n",
      "7 days 17:02:40     1\n",
      "7 days 18:28:10     1\n",
      "7 days 20:57:45     1\n",
      "Name: count, Length: 359, dtype: int64\n",
      "7 days 03:08:10     0.005222\n",
      "7 days 13:52:40     0.002611\n",
      "13 days 00:23:00    0.002611\n",
      "8 days 06:44:30     0.002611\n",
      "8 days 10:43:45     0.002611\n",
      "                      ...   \n",
      "7 days 12:44:15     0.002611\n",
      "7 days 07:34:05     0.002611\n",
      "7 days 17:02:40     0.002611\n",
      "7 days 18:28:10     0.002611\n",
      "7 days 20:57:45     0.002611\n",
      "Name: count, Length: 359, dtype: float64\n"
     ]
    },
    {
     "data": {
      "text/plain": [
       "count                       360\n",
       "mean     8 days 11:05:50.227777\n",
       "std      1 days 15:36:26.106701\n",
       "min             7 days 00:16:55\n",
       "25%      7 days 09:06:06.250000\n",
       "50%             7 days 19:40:54\n",
       "75%      8 days 20:26:32.500000\n",
       "max            15 days 01:33:40\n",
       "dtype: object"
      ]
     },
     "execution_count": 8,
     "metadata": {},
     "output_type": "execute_result"
    },
    {
     "data": {
      "image/png": "[encoded data removed]",
      "text/plain": [
       "<Figure size 350x262.5 with 1 Axes>"
      ]
     },
     "metadata": {},
     "output_type": "display_data"
    }
   ],
   "source": [
    "# Original: Cell [5] at https://github.com/daviddavo/upm-tfm-notebooks/blob/bb2e45d4ec10962c987b6691fcb0cd4eeba7ea5b/10_baseline_mp.ipynb\n",
    "\n",
    "delta = dfp['end'] - dfp['start']\n",
    "delta.dt.days.hist(bins=14)\n",
    "print(vc := delta.value_counts())\n",
    "print(vc / len(delta))\n",
    "paths.save_dao_datum(ORG_NAME, 'median_open_time', str(delta.median()))\n",
    "delta.describe()"
   ]
  },
  {
   "cell_type": "markdown",
   "id": "e97489b7-f833-402c-a33c-8024a9540a1a",
   "metadata": {
    "execution": {
     "iopub.execute_input": "2024-03-20T19:22:14.246302Z",
     "iopub.status.busy": "2024-03-20T19:22:14.245740Z",
     "iopub.status.idle": "2024-03-20T19:22:14.252344Z",
     "shell.execute_reply": "2024-03-20T19:22:14.251090Z",
     "shell.execute_reply.started": "2024-03-20T19:22:14.246252Z"
    },
    "papermill": {
     "duration": 0.002361,
     "end_time": "2024-09-26T16:55:48.602726",
     "exception": false,
     "start_time": "2024-09-26T16:55:48.600365",
     "status": "completed"
    },
    "tags": []
   },
   "source": [
    "#### Avg. proposal length in time"
   ]
  },
  {
   "cell_type": "code",
   "execution_count": 9,
   "id": "d1fd19d5-722c-4e1c-9c56-e2ffd4c0a63f",
   "metadata": {
    "execution": {
     "iopub.execute_input": "2024-09-26T16:55:48.607950Z",
     "iopub.status.busy": "2024-09-26T16:55:48.607857Z",
     "iopub.status.idle": "2024-09-26T16:55:48.610167Z",
     "shell.execute_reply": "2024-09-26T16:55:48.609972Z"
    },
    "papermill": {
     "duration": 0.006112,
     "end_time": "2024-09-26T16:55:48.611180",
     "exception": false,
     "start_time": "2024-09-26T16:55:48.605068",
     "status": "completed"
    },
    "tags": []
   },
   "outputs": [],
   "source": [
    "def add_folds_to_plot(fig=plt, cont=True):\n",
    "\n",
    "    if cont:\n",
    "        start_date = folds[0].end\n",
    "        end_date = folds[-1].end\n",
    "        fig.axvspan(start_date, end_date, color='C2', alpha=RECTANGLE_ALPHA)\n",
    "    else:\n",
    "        for fprev, f, c in zip(folds, folds[1:], it.cycle([0,1])):\n",
    "            start_date = fprev.end\n",
    "            end_date = f.end\n",
    "            fig.axvspan(start_date, end_date, alpha=RECTANGLE_ALPHA, color='C1' if c else 'C2')"
   ]
  },
  {
   "cell_type": "code",
   "execution_count": 10,
   "id": "f619deb2-cf32-4e32-b125-c6d67b3acf87",
   "metadata": {
    "execution": {
     "iopub.execute_input": "2024-09-26T16:55:48.616633Z",
     "iopub.status.busy": "2024-09-26T16:55:48.616468Z",
     "iopub.status.idle": "2024-09-26T16:55:48.748329Z",
     "shell.execute_reply": "2024-09-26T16:55:48.748132Z"
    },
    "papermill": {
     "duration": 0.135768,
     "end_time": "2024-09-26T16:55:48.749348",
     "exception": false,
     "start_time": "2024-09-26T16:55:48.613580",
     "status": "completed"
    },
    "tags": []
   },
   "outputs": [
    {
     "data": {
      "image/png": "[encoded data removed]",
      "text/plain": [
       "<Figure size 350x262.5 with 1 Axes>"
      ]
     },
     "metadata": {},
     "output_type": "display_data"
    }
   ],
   "source": [
    "# Original: Cell [6] at https://github.com/daviddavo/upm-tfm-notebooks/blob/bb2e45d4ec10962c987b6691fcb0cd4eeba7ea5b/10_baseline_mp.ipynb\n",
    "ROLLING_LENGTH = '7d'\n",
    "\n",
    "_delta = dfp.assign(delta=delta).set_index('date').sort_index()['delta'].dt.days\n",
    "_delta.rolling(ROLLING_LENGTH).mean().plot()\n",
    "\n",
    "add_folds_to_plot()"
   ]
  },
  {
   "cell_type": "markdown",
   "id": "c481585c-8a02-4b48-b5c9-f9c0ed9e9c0c",
   "metadata": {
    "papermill": {
     "duration": 0.002735,
     "end_time": "2024-09-26T16:55:48.755131",
     "exception": false,
     "start_time": "2024-09-26T16:55:48.752396",
     "status": "completed"
    },
    "tags": []
   },
   "source": [
    "## How many proposals are created per week"
   ]
  },
  {
   "cell_type": "code",
   "execution_count": 11,
   "id": "b4559c9e-999a-45bc-bfe4-7997b5d71b76",
   "metadata": {
    "execution": {
     "iopub.execute_input": "2024-09-26T16:55:48.760619Z",
     "iopub.status.busy": "2024-09-26T16:55:48.760501Z",
     "iopub.status.idle": "2024-09-26T16:55:48.881214Z",
     "shell.execute_reply": "2024-09-26T16:55:48.881011Z"
    },
    "papermill": {
     "duration": 0.124749,
     "end_time": "2024-09-26T16:55:48.882372",
     "exception": false,
     "start_time": "2024-09-26T16:55:48.757623",
     "status": "completed"
    },
    "tags": []
   },
   "outputs": [
    {
     "name": "stdout",
     "output_type": "stream",
     "text": [
      "21.0\n",
      "2021-12-03 16:33:15\n"
     ]
    },
    {
     "data": {
      "text/plain": [
       "<Figure size 350x262.5 with 0 Axes>"
      ]
     },
     "metadata": {},
     "output_type": "display_data"
    },
    {
     "data": {
      "image/png": "[encoded data removed]",
      "text/plain": [
       "<Figure size 700x157.5 with 1 Axes>"
      ]
     },
     "metadata": {},
     "output_type": "display_data"
    }
   ],
   "source": [
    "WINDOW_SIZE = '7d' # dt.timedelta(days=7)\n",
    "\n",
    "_toplot = dfv.groupby('proposal')['date'].min().sort_values()\n",
    "_toplot = _toplot.to_frame()\n",
    "_toplot['cnt'] = 1\n",
    "_toplot = _toplot.rolling(window=WINDOW_SIZE, on='date').count()\n",
    "print(max_cnt := _toplot['cnt'].max())\n",
    "print(max_date := _toplot[_toplot['cnt'] == max_cnt].iloc[0]['date'])\n",
    "paths.save_dao_datum(ORG_NAME, 'max_proposals_ws', WINDOW_SIZE)\n",
    "paths.save_dao_datum(ORG_NAME, 'max_proposals_cnt', int(max_cnt))\n",
    "paths.save_dao_datum(ORG_NAME, 'max_proposals_date', str(max_date))\n",
    "\n",
    "# Double the width of the figure\n",
    "fs = plt.gcf().get_size_inches()\n",
    "plt.figure(figsize=fs * (2,.6))\n",
    "# _toplot.set_index('date')['cnt'].plot()\n",
    "ax = sns.lineplot(_toplot.set_index('date')['cnt'])\n",
    "\n",
    "plt.xlabel('')\n",
    "plt.ylabel('# propuestas')\n",
    "plt.xlim(\n",
    "    _toplot['date'].min(),\n",
    "    _toplot['date'].max(),\n",
    ")\n",
    "add_folds_to_plot(cont=False)\n",
    "\n",
    "sns.despine()"
   ]
  },
  {
   "cell_type": "code",
   "execution_count": 12,
   "id": "a55fbdf4-f6dc-42d4-bb2f-050235674d9b",
   "metadata": {
    "execution": {
     "iopub.execute_input": "2024-09-26T16:55:48.888698Z",
     "iopub.status.busy": "2024-09-26T16:55:48.888520Z",
     "iopub.status.idle": "2024-09-26T16:55:49.000153Z",
     "shell.execute_reply": "2024-09-26T16:55:48.999711Z"
    },
    "papermill": {
     "duration": 0.115604,
     "end_time": "2024-09-26T16:55:49.000829",
     "exception": false,
     "start_time": "2024-09-26T16:55:48.885225",
     "status": "completed"
    },
    "tags": []
   },
   "outputs": [
    {
     "data": {
      "text/plain": [
       "<Figure size 350x262.5 with 0 Axes>"
      ]
     },
     "metadata": {},
     "output_type": "display_data"
    },
    {
     "data": {
      "image/png": "[encoded data removed]",
      "text/plain": [
       "<Figure size 700x157.5 with 1 Axes>"
      ]
     },
     "metadata": {},
     "output_type": "display_data"
    }
   ],
   "source": [
    "_toplot = _toplot[_toplot['date'] > (folds[0].end - pd.tseries.frequencies.to_offset(SPLITS_FREQ)*3)]\n",
    "_toplot = _toplot[_toplot['date'] < (folds[-1].end + pd.tseries.frequencies.to_offset(SPLITS_FREQ)*3)]\n",
    "fs = plt.gcf().get_size_inches()\n",
    "plt.figure(figsize=fs * (2,.6))\n",
    "# _toplot.set_index('date')['cnt'].plot()\n",
    "ax = sns.lineplot(_toplot.set_index('date')['cnt'])\n",
    "\n",
    "plt.xlabel('')\n",
    "plt.ylabel('# propuestas')\n",
    "plt.xlim(\n",
    "    _toplot['date'].min(),\n",
    "    _toplot['date'].max(),\n",
    ")\n",
    "add_folds_to_plot(cont=False)\n",
    "\n",
    "sns.despine()"
   ]
  },
  {
   "cell_type": "markdown",
   "id": "0e0d5099-512a-42bb-927b-0ed2fe518a6f",
   "metadata": {
    "papermill": {
     "duration": 0.00291,
     "end_time": "2024-09-26T16:55:49.007187",
     "exception": false,
     "start_time": "2024-09-26T16:55:49.004277",
     "status": "completed"
    },
    "tags": []
   },
   "source": [
    "## Queue size (open proposals)"
   ]
  },
  {
   "cell_type": "code",
   "execution_count": 13,
   "id": "1344879d-8030-45f8-8510-4889ebce489f",
   "metadata": {
    "execution": {
     "iopub.execute_input": "2024-09-26T16:55:49.013817Z",
     "iopub.status.busy": "2024-09-26T16:55:49.013653Z",
     "iopub.status.idle": "2024-09-26T16:55:49.965889Z",
     "shell.execute_reply": "2024-09-26T16:55:49.965463Z"
    },
    "papermill": {
     "duration": 0.956454,
     "end_time": "2024-09-26T16:55:49.966612",
     "exception": false,
     "start_time": "2024-09-26T16:55:49.010158",
     "status": "completed"
    },
    "tags": []
   },
   "outputs": [
    {
     "name": "stdout",
     "output_type": "stream",
     "text": [
      "38\n",
      "2022-05-17 12:00:00\n"
     ]
    },
    {
     "data": {
      "image/png": "[encoded data removed]",
      "text/plain": [
       "<Figure size 800x300 with 1 Axes>"
      ]
     },
     "metadata": {},
     "output_type": "display_data"
    }
   ],
   "source": [
    "# This will be the \"resolution\" of the graph\n",
    "_GROUPER_FREQ = '12h'\n",
    "\n",
    "df_events = pd.concat((\n",
    "    dfp.groupby('start').size(),\n",
    "    -dfp.groupby('end').size(),\n",
    ")).sort_index()\n",
    "qsize = df_events.groupby(pd.Grouper(freq=_GROUPER_FREQ)).sum().cumsum()\n",
    "\n",
    "print(max_qsize := qsize.max())\n",
    "print(max_date := qsize[qsize == max_qsize].index[0])\n",
    "paths.save_dao_datum(ORG_NAME, 'max_open_freq', _GROUPER_FREQ)\n",
    "paths.save_dao_datum(ORG_NAME, 'max_open_cnt', int(max_qsize))\n",
    "paths.save_dao_datum(ORG_NAME, 'max_open_date', str(max_date))\n",
    "\n",
    "qsize.plot(figsize=(8,3))\n",
    "add_folds_to_plot(cont=False)"
   ]
  },
  {
   "cell_type": "code",
   "execution_count": 14,
   "id": "4abea220-e30a-4483-8853-3632bffca1c1",
   "metadata": {
    "execution": {
     "iopub.execute_input": "2024-09-26T16:55:49.974024Z",
     "iopub.status.busy": "2024-09-26T16:55:49.973865Z",
     "iopub.status.idle": "2024-09-26T16:55:50.308991Z",
     "shell.execute_reply": "2024-09-26T16:55:50.308568Z"
    },
    "papermill": {
     "duration": 0.339537,
     "end_time": "2024-09-26T16:55:50.309733",
     "exception": false,
     "start_time": "2024-09-26T16:55:49.970196",
     "status": "completed"
    },
    "tags": []
   },
   "outputs": [
    {
     "name": "stdout",
     "output_type": "stream",
     "text": [
      "27\n",
      "2023-04-26 12:00:00\n"
     ]
    },
    {
     "data": {
      "image/png": "[encoded data removed]",
      "text/plain": [
       "<Figure size 800x300 with 1 Axes>"
      ]
     },
     "metadata": {},
     "output_type": "display_data"
    }
   ],
   "source": [
    "_toplot = qsize[qsize.index > (folds[0].end - pd.tseries.frequencies.to_offset(SPLITS_FREQ)*1)]\n",
    "_toplot = _toplot[_toplot.index < (folds[-1].end + pd.tseries.frequencies.to_offset(SPLITS_FREQ)*1)]\n",
    "\n",
    "print(max_qsize := _toplot.max())\n",
    "print(max_date := _toplot[_toplot == max_qsize].index[0])\n",
    "paths.save_dao_datum(ORG_NAME, 'max_open_freq_test', _GROUPER_FREQ)\n",
    "paths.save_dao_datum(ORG_NAME, 'max_open_cnt_test', int(max_qsize))\n",
    "paths.save_dao_datum(ORG_NAME, 'max_open_date_test', str(max_date))\n",
    "\n",
    "_toplot.plot(figsize=(8,3))\n",
    "add_folds_to_plot(cont=False)"
   ]
  },
  {
   "cell_type": "markdown",
   "id": "e356b832-bd11-4913-af31-5c630af68511",
   "metadata": {
    "papermill": {
     "duration": 0.003149,
     "end_time": "2024-09-26T16:55:50.316618",
     "exception": false,
     "start_time": "2024-09-26T16:55:50.313469",
     "status": "completed"
    },
    "tags": []
   },
   "source": [
    "## What day of the week are proposals created"
   ]
  },
  {
   "cell_type": "code",
   "execution_count": 15,
   "id": "9c02d601-3d7a-4f7f-9c86-a6f85d4fe7ad",
   "metadata": {
    "execution": {
     "iopub.execute_input": "2024-09-26T16:55:50.323630Z",
     "iopub.status.busy": "2024-09-26T16:55:50.323488Z",
     "iopub.status.idle": "2024-09-26T16:55:50.650323Z",
     "shell.execute_reply": "2024-09-26T16:55:50.649893Z"
    },
    "papermill": {
     "duration": 0.33127,
     "end_time": "2024-09-26T16:55:50.651105",
     "exception": false,
     "start_time": "2024-09-26T16:55:50.319835",
     "status": "completed"
    },
    "tags": []
   },
   "outputs": [
    {
     "name": "stdout",
     "output_type": "stream",
     "text": [
      "start\n",
      "Tuesday      99\n",
      "Monday       72\n",
      "Wednesday    69\n",
      "Thursday     64\n",
      "Friday       61\n",
      "Sunday        9\n",
      "Saturday      9\n",
      "Name: count, dtype: int64\n"
     ]
    },
    {
     "name": "stderr",
     "output_type": "stream",
     "text": [
      "/tmp/ipykernel_1807266/3307774390.py:9: UserWarning: set_ticklabels() should only be used with a fixed number of ticks, i.e. after set_ticks() or using a FixedLocator.\n",
      "  ax.set_xticklabels(DAYS_OF_WEEK_ENG, rotation=30, ha='right')\n"
     ]
    },
    {
     "data": {
      "application/vnd.jupyter.widget-view+json": {
       "model_id": "bf8a35c44d9a4192b23c6ea55ddb635a",
       "version_major": 2,
       "version_minor": 0
      },
      "text/html": [
       "Cannot show widget. You probably want to rerun the code cell above (<i>Click in the code cell, and press Shift+Enter <kbd>⇧</kbd>+<kbd>↩</kbd></i>)."
      ],
      "text/plain": [
       "Cannot show ipywidgets in text"
      ]
     },
     "metadata": {},
     "output_type": "display_data"
    },
    {
     "data": {
      "image/png": "[encoded data removed]",
      "text/plain": [
       "<Figure size 350x262.5 with 1 Axes>"
      ]
     },
     "metadata": {},
     "output_type": "display_data"
    }
   ],
   "source": [
    "# Original: Cell [7] at https://github.com/daviddavo/upm-tfm-notebooks/blob/bb2e45d4ec10962c987b6691fcb0cd4eeba7ea5b/10_baseline_mp.ipynb\n",
    "DAYS_OF_WEEK_ENG = ['Monday', 'Tuesday', 'Wednesday', 'Thursday', 'Friday', 'Saturday', 'Sunday']\n",
    "\n",
    "ax = sns.countplot(x=dfp['start'].dt.day_name(), order=DAYS_OF_WEEK_ENG)\n",
    "# ax.set_title(f'Número de propuestas por día de la semana en {ORG_NAME}')\n",
    "print(dfp['start'].dt.day_name().value_counts())\n",
    "ax.set_xlabel('')\n",
    "ax.set_ylabel('# proposals')\n",
    "ax.set_xticklabels(DAYS_OF_WEEK_ENG, rotation=30, ha='right')\n",
    "\n",
    "# Updates\n",
    "ax.set_ylabel('')\n",
    "\n",
    "nbutils.download_matplotlib(ax.figure, 'proposals_dow.pdf')"
   ]
  },
  {
   "cell_type": "markdown",
   "id": "38dc62ae-b8b7-451a-9ab2-18b211d89ec3",
   "metadata": {
    "papermill": {
     "duration": 0.003527,
     "end_time": "2024-09-26T16:55:50.658227",
     "exception": false,
     "start_time": "2024-09-26T16:55:50.654700",
     "status": "completed"
    },
    "tags": []
   },
   "source": [
    "## What day of the week are proposals voted"
   ]
  },
  {
   "cell_type": "code",
   "execution_count": 16,
   "id": "39967821-9f6e-4426-b896-e3898b27b334",
   "metadata": {
    "execution": {
     "iopub.execute_input": "2024-09-26T16:55:50.665833Z",
     "iopub.status.busy": "2024-09-26T16:55:50.665690Z",
     "iopub.status.idle": "2024-09-26T16:55:50.729700Z",
     "shell.execute_reply": "2024-09-26T16:55:50.729475Z"
    },
    "papermill": {
     "duration": 0.069033,
     "end_time": "2024-09-26T16:55:50.730767",
     "exception": false,
     "start_time": "2024-09-26T16:55:50.661734",
     "status": "completed"
    },
    "tags": []
   },
   "outputs": [
    {
     "name": "stdout",
     "output_type": "stream",
     "text": [
      "date\n",
      "Friday       226\n",
      "Wednesday    214\n",
      "Thursday     189\n",
      "Tuesday      183\n",
      "Monday       114\n",
      "Saturday      67\n",
      "Sunday        25\n",
      "Name: count, dtype: int64\n"
     ]
    },
    {
     "name": "stderr",
     "output_type": "stream",
     "text": [
      "/tmp/ipykernel_1807266/3643726510.py:6: UserWarning: set_ticklabels() should only be used with a fixed number of ticks, i.e. after set_ticks() or using a FixedLocator.\n",
      "  ax.set_xticklabels(DAYS_OF_WEEK_ENG, rotation=30, ha='right')\n"
     ]
    },
    {
     "data": {
      "application/vnd.jupyter.widget-view+json": {
       "model_id": "7e9901e57ffe4a09a94a8e9eaa4294fe",
       "version_major": 2,
       "version_minor": 0
      },
      "text/html": [
       "Cannot show widget. You probably want to rerun the code cell above (<i>Click in the code cell, and press Shift+Enter <kbd>⇧</kbd>+<kbd>↩</kbd></i>)."
      ],
      "text/plain": [
       "Cannot show ipywidgets in text"
      ]
     },
     "metadata": {},
     "output_type": "display_data"
    },
    {
     "data": {
      "image/png": "[encoded data removed]",
      "text/plain": [
       "<Figure size 350x262.5 with 1 Axes>"
      ]
     },
     "metadata": {},
     "output_type": "display_data"
    }
   ],
   "source": [
    "ax = sns.countplot(x=dfv['date'].dt.day_name(), order=DAYS_OF_WEEK_ENG)\n",
    "# ax.set_title(f'Número de propuestas por día de la semana en {ORG_NAME}')\n",
    "print(dfv['date'].dt.day_name().value_counts())\n",
    "ax.set_xlabel('')\n",
    "ax.set_ylabel('# votes')\n",
    "ax.set_xticklabels(DAYS_OF_WEEK_ENG, rotation=30, ha='right')\n",
    "\n",
    "# Updates\n",
    "ax.set_ylabel('')\n",
    "\n",
    "nbutils.download_matplotlib(ax.figure, \"votes_dow.pdf\")"
   ]
  },
  {
   "cell_type": "markdown",
   "id": "8ec0e029-2f9d-47a1-9b1a-d86e29bbe513",
   "metadata": {
    "papermill": {
     "duration": 0.003802,
     "end_time": "2024-09-26T16:55:50.738330",
     "exception": false,
     "start_time": "2024-09-26T16:55:50.734528",
     "status": "completed"
    },
    "tags": []
   },
   "source": [
    "## In which moment of the proposal lifetime are votes cast"
   ]
  },
  {
   "cell_type": "code",
   "execution_count": 17,
   "id": "75803459-86cf-42b8-bc4a-83e2e673a824",
   "metadata": {
    "execution": {
     "iopub.execute_input": "2024-09-26T16:55:50.746109Z",
     "iopub.status.busy": "2024-09-26T16:55:50.745995Z",
     "iopub.status.idle": "2024-09-26T16:55:51.182698Z",
     "shell.execute_reply": "2024-09-26T16:55:51.182393Z"
    },
    "papermill": {
     "duration": 0.441546,
     "end_time": "2024-09-26T16:55:51.183335",
     "exception": false,
     "start_time": "2024-09-26T16:55:50.741789",
     "status": "completed"
    },
    "tags": []
   },
   "outputs": [
    {
     "data": {
      "text/html": [
       "<div>\n",
       "<style scoped>\n",
       "    .dataframe tbody tr th:only-of-type {\n",
       "        vertical-align: middle;\n",
       "    }\n",
       "\n",
       "    .dataframe tbody tr th {\n",
       "        vertical-align: top;\n",
       "    }\n",
       "\n",
       "    .dataframe thead tr th {\n",
       "        text-align: left;\n",
       "    }\n",
       "\n",
       "    .dataframe thead tr:last-of-type th {\n",
       "        text-align: right;\n",
       "    }\n",
       "</style>\n",
       "<table border=\"1\" class=\"dataframe\">\n",
       "  <thead>\n",
       "    <tr>\n",
       "      <th></th>\n",
       "      <th colspan=\"8\" halign=\"left\">time remaining</th>\n",
       "    </tr>\n",
       "    <tr>\n",
       "      <th></th>\n",
       "      <th>count</th>\n",
       "      <th>mean</th>\n",
       "      <th>std</th>\n",
       "      <th>min</th>\n",
       "      <th>25%</th>\n",
       "      <th>50%</th>\n",
       "      <th>75%</th>\n",
       "      <th>max</th>\n",
       "    </tr>\n",
       "    <tr>\n",
       "      <th>delta</th>\n",
       "      <th></th>\n",
       "      <th></th>\n",
       "      <th></th>\n",
       "      <th></th>\n",
       "      <th></th>\n",
       "      <th></th>\n",
       "      <th></th>\n",
       "      <th></th>\n",
       "    </tr>\n",
       "  </thead>\n",
       "  <tbody>\n",
       "    <tr>\n",
       "      <th>7 days 00:16:55</th>\n",
       "      <td>6.0</td>\n",
       "      <td>0.918757</td>\n",
       "      <td>0.124215</td>\n",
       "      <td>0.730025</td>\n",
       "      <td>0.842314</td>\n",
       "      <td>0.997640</td>\n",
       "      <td>0.998172</td>\n",
       "      <td>0.998349</td>\n",
       "    </tr>\n",
       "    <tr>\n",
       "      <th>7 days 00:33:20</th>\n",
       "      <td>2.0</td>\n",
       "      <td>0.725915</td>\n",
       "      <td>0.213309</td>\n",
       "      <td>0.575082</td>\n",
       "      <td>0.650499</td>\n",
       "      <td>0.725915</td>\n",
       "      <td>0.801331</td>\n",
       "      <td>0.876747</td>\n",
       "    </tr>\n",
       "    <tr>\n",
       "      <th>7 days 00:52:30</th>\n",
       "      <td>4.0</td>\n",
       "      <td>0.867660</td>\n",
       "      <td>0.108580</td>\n",
       "      <td>0.730817</td>\n",
       "      <td>0.820812</td>\n",
       "      <td>0.873814</td>\n",
       "      <td>0.920662</td>\n",
       "      <td>0.992195</td>\n",
       "    </tr>\n",
       "    <tr>\n",
       "      <th>7 days 00:59:20</th>\n",
       "      <td>5.0</td>\n",
       "      <td>0.860630</td>\n",
       "      <td>0.147999</td>\n",
       "      <td>0.684447</td>\n",
       "      <td>0.715966</td>\n",
       "      <td>0.948197</td>\n",
       "      <td>0.957665</td>\n",
       "      <td>0.996877</td>\n",
       "    </tr>\n",
       "    <tr>\n",
       "      <th>7 days 01:15:15</th>\n",
       "      <td>4.0</td>\n",
       "      <td>0.870902</td>\n",
       "      <td>0.097498</td>\n",
       "      <td>0.725019</td>\n",
       "      <td>0.866701</td>\n",
       "      <td>0.914691</td>\n",
       "      <td>0.918893</td>\n",
       "      <td>0.929207</td>\n",
       "    </tr>\n",
       "    <tr>\n",
       "      <th>...</th>\n",
       "      <td>...</td>\n",
       "      <td>...</td>\n",
       "      <td>...</td>\n",
       "      <td>...</td>\n",
       "      <td>...</td>\n",
       "      <td>...</td>\n",
       "      <td>...</td>\n",
       "      <td>...</td>\n",
       "    </tr>\n",
       "    <tr>\n",
       "      <th>14 days 05:28:10</th>\n",
       "      <td>3.0</td>\n",
       "      <td>0.928659</td>\n",
       "      <td>0.091753</td>\n",
       "      <td>0.822918</td>\n",
       "      <td>0.899367</td>\n",
       "      <td>0.975815</td>\n",
       "      <td>0.981530</td>\n",
       "      <td>0.987245</td>\n",
       "    </tr>\n",
       "    <tr>\n",
       "      <th>14 days 05:31:25</th>\n",
       "      <td>4.0</td>\n",
       "      <td>0.946251</td>\n",
       "      <td>0.082810</td>\n",
       "      <td>0.822747</td>\n",
       "      <td>0.937402</td>\n",
       "      <td>0.982659</td>\n",
       "      <td>0.991509</td>\n",
       "      <td>0.996938</td>\n",
       "    </tr>\n",
       "    <tr>\n",
       "      <th>14 days 06:25:10</th>\n",
       "      <td>1.0</td>\n",
       "      <td>0.994196</td>\n",
       "      <td>NaN</td>\n",
       "      <td>0.994196</td>\n",
       "      <td>0.994196</td>\n",
       "      <td>0.994196</td>\n",
       "      <td>0.994196</td>\n",
       "      <td>0.994196</td>\n",
       "    </tr>\n",
       "    <tr>\n",
       "      <th>14 days 22:51:15</th>\n",
       "      <td>3.0</td>\n",
       "      <td>0.555092</td>\n",
       "      <td>0.017446</td>\n",
       "      <td>0.542285</td>\n",
       "      <td>0.545157</td>\n",
       "      <td>0.548029</td>\n",
       "      <td>0.561496</td>\n",
       "      <td>0.574963</td>\n",
       "    </tr>\n",
       "    <tr>\n",
       "      <th>15 days 01:33:40</th>\n",
       "      <td>1.0</td>\n",
       "      <td>0.538172</td>\n",
       "      <td>NaN</td>\n",
       "      <td>0.538172</td>\n",
       "      <td>0.538172</td>\n",
       "      <td>0.538172</td>\n",
       "      <td>0.538172</td>\n",
       "      <td>0.538172</td>\n",
       "    </tr>\n",
       "  </tbody>\n",
       "</table>\n",
       "<p>350 rows × 8 columns</p>\n",
       "</div>"
      ],
      "text/plain": [
       "                 time remaining                                          \\\n",
       "                          count      mean       std       min       25%   \n",
       "delta                                                                     \n",
       "7 days 00:16:55             6.0  0.918757  0.124215  0.730025  0.842314   \n",
       "7 days 00:33:20             2.0  0.725915  0.213309  0.575082  0.650499   \n",
       "7 days 00:52:30             4.0  0.867660  0.108580  0.730817  0.820812   \n",
       "7 days 00:59:20             5.0  0.860630  0.147999  0.684447  0.715966   \n",
       "7 days 01:15:15             4.0  0.870902  0.097498  0.725019  0.866701   \n",
       "...                         ...       ...       ...       ...       ...   \n",
       "14 days 05:28:10            3.0  0.928659  0.091753  0.822918  0.899367   \n",
       "14 days 05:31:25            4.0  0.946251  0.082810  0.822747  0.937402   \n",
       "14 days 06:25:10            1.0  0.994196       NaN  0.994196  0.994196   \n",
       "14 days 22:51:15            3.0  0.555092  0.017446  0.542285  0.545157   \n",
       "15 days 01:33:40            1.0  0.538172       NaN  0.538172  0.538172   \n",
       "\n",
       "                                                \n",
       "                       50%       75%       max  \n",
       "delta                                           \n",
       "7 days 00:16:55   0.997640  0.998172  0.998349  \n",
       "7 days 00:33:20   0.725915  0.801331  0.876747  \n",
       "7 days 00:52:30   0.873814  0.920662  0.992195  \n",
       "7 days 00:59:20   0.948197  0.957665  0.996877  \n",
       "7 days 01:15:15   0.914691  0.918893  0.929207  \n",
       "...                    ...       ...       ...  \n",
       "14 days 05:28:10  0.975815  0.981530  0.987245  \n",
       "14 days 05:31:25  0.982659  0.991509  0.996938  \n",
       "14 days 06:25:10  0.994196  0.994196  0.994196  \n",
       "14 days 22:51:15  0.548029  0.561496  0.574963  \n",
       "15 days 01:33:40  0.538172  0.538172  0.538172  \n",
       "\n",
       "[350 rows x 8 columns]"
      ]
     },
     "metadata": {},
     "output_type": "display_data"
    },
    {
     "name": "stdout",
     "output_type": "stream",
     "text": [
      "625 (61.39%) of the votes are being cast on the first 14.29% of rel time\n",
      "1018 (100.00%) of the votes are being cast on the first 85.71% of rel time\n"
     ]
    },
    {
     "data": {
      "application/vnd.jupyter.widget-view+json": {
       "model_id": "a27613381d714c70b5d3f5c0524ff7b5",
       "version_major": 2,
       "version_minor": 0
      },
      "text/html": [
       "Cannot show widget. You probably want to rerun the code cell above (<i>Click in the code cell, and press Shift+Enter <kbd>⇧</kbd>+<kbd>↩</kbd></i>)."
      ],
      "text/plain": [
       "Cannot show ipywidgets in text"
      ]
     },
     "metadata": {},
     "output_type": "display_data"
    },
    {
     "data": {
      "image/png": "[encoded data removed]",
      "text/plain": [
       "<Figure size 860.625x500 with 1 Axes>"
      ]
     },
     "metadata": {},
     "output_type": "display_data"
    }
   ],
   "source": [
    "from matplotlib import ticker\n",
    "\n",
    "PLOT_HUE = True\n",
    "BINS = 10\n",
    "\n",
    "_dfv = dfv[['proposal', 'date']].merge(dfp[['id', 'start', 'end']], left_on='proposal', right_on='id').sort_values('date')\n",
    "if not all(_dfv['date'] >= _dfv['start']):\n",
    "    warnings.warn('There cant be votes before the proposal started')\n",
    "if not all(_dfv['end'] >= _dfv['date']):\n",
    "    warnings.warn('There cant be votes after the proposal ended')\n",
    "_dfv['date_rel'] = (_dfv['date'] - _dfv['start']) / (_dfv['end'] - _dfv['start'])\n",
    "_dfv['delta'] = (_dfv['end'] - _dfv['start'])\n",
    "_dfv['time remaining'] = 1 - _dfv['date_rel']\n",
    "\n",
    "display(_dfv.groupby('delta')[['time remaining']].describe())\n",
    "\n",
    "for t in [1/7, 6/7]:\n",
    "    first_day = (_dfv['date_rel'] < t)\n",
    "    print(f\"{first_day.sum()} ({first_day.mean()*100:.2f}%) of the votes are being cast on the first {t*100:.2f}% of rel time\")\n",
    "\n",
    "if len(_dfv['delta'].value_counts()) > BINS:\n",
    "    _dfv['delta_original'] = _dfv['delta']\n",
    "    _dfv['delta'] = pd.cut(_dfv['delta'], BINS)\n",
    "\n",
    "_dfv['delta'] = _dfv['delta'].astype(str)\n",
    "fg = sns.displot(_dfv, x='date_rel', kind='ecdf', hue='delta' if PLOT_HUE else None)\n",
    "# fg.ax.xaxis.set_major_locator(ticker.MultipleLocator(1/7))\n",
    "\n",
    "fg.ax.yaxis.set_major_locator(ticker.MultipleLocator(1/10))\n",
    "fg.ax.yaxis.set_major_formatter(ticker.PercentFormatter(1))\n",
    "fg.ax.set_xticks(np.arange(8)/7)\n",
    "fg.ax.set_xticklabels([\"0\"] + [f\"{x}/7\" for x in range(1,7)] + [\"1\"])\n",
    "fg.ax.set_xlabel('Relative time elapsed');\n",
    "\n",
    "nbutils.download_matplotlib(fg, f\"votes_in_time{'-color' if PLOT_HUE else ''}.pdf\")"
   ]
  },
  {
   "cell_type": "markdown",
   "id": "9130dd8e-7e68-4dfb-b495-9fa0a926a933",
   "metadata": {
    "papermill": {
     "duration": 0.004111,
     "end_time": "2024-09-26T16:55:51.192304",
     "exception": false,
     "start_time": "2024-09-26T16:55:51.188193",
     "status": "completed"
    },
    "tags": []
   },
   "source": [
    "## Explore folds"
   ]
  },
  {
   "cell_type": "markdown",
   "id": "fccc5d7a-9987-474d-9c06-1e2c02996314",
   "metadata": {
    "papermill": {
     "duration": 0.004071,
     "end_time": "2024-09-26T16:55:51.200369",
     "exception": false,
     "start_time": "2024-09-26T16:55:51.196298",
     "status": "completed"
    },
    "tags": []
   },
   "source": [
    "### Just the folds that are used"
   ]
  },
  {
   "cell_type": "code",
   "execution_count": 18,
   "id": "cd043869-84a8-462c-9c01-dd75d130d520",
   "metadata": {
    "execution": {
     "iopub.execute_input": "2024-09-26T16:55:51.208926Z",
     "iopub.status.busy": "2024-09-26T16:55:51.208771Z",
     "iopub.status.idle": "2024-09-26T16:55:51.222533Z",
     "shell.execute_reply": "2024-09-26T16:55:51.222334Z"
    },
    "papermill": {
     "duration": 0.018898,
     "end_time": "2024-09-26T16:55:51.223170",
     "exception": false,
     "start_time": "2024-09-26T16:55:51.204272",
     "status": "completed"
    },
    "tags": []
   },
   "outputs": [
    {
     "data": {
      "text/html": [
       "<div>\n",
       "<style scoped>\n",
       "    .dataframe tbody tr th:only-of-type {\n",
       "        vertical-align: middle;\n",
       "    }\n",
       "\n",
       "    .dataframe tbody tr th {\n",
       "        vertical-align: top;\n",
       "    }\n",
       "\n",
       "    .dataframe thead th {\n",
       "        text-align: right;\n",
       "    }\n",
       "</style>\n",
       "<table border=\"1\" class=\"dataframe\">\n",
       "  <thead>\n",
       "    <tr style=\"text-align: right;\">\n",
       "      <th></th>\n",
       "      <th>open proposals</th>\n",
       "      <th>users in train</th>\n",
       "      <th>users in test</th>\n",
       "      <th>votes in train</th>\n",
       "      <th>votes in test</th>\n",
       "      <th>users in both</th>\n",
       "      <th>vpp test</th>\n",
       "      <th>vpv test</th>\n",
       "    </tr>\n",
       "    <tr>\n",
       "      <th>t</th>\n",
       "      <th></th>\n",
       "      <th></th>\n",
       "      <th></th>\n",
       "      <th></th>\n",
       "      <th></th>\n",
       "      <th></th>\n",
       "      <th></th>\n",
       "      <th></th>\n",
       "    </tr>\n",
       "  </thead>\n",
       "  <tbody>\n",
       "    <tr>\n",
       "      <th>2023-03-03</th>\n",
       "      <td>0</td>\n",
       "      <td>29</td>\n",
       "      <td>0</td>\n",
       "      <td>1004</td>\n",
       "      <td>0</td>\n",
       "      <td>0</td>\n",
       "      <td>NaN</td>\n",
       "      <td>NaN</td>\n",
       "    </tr>\n",
       "    <tr>\n",
       "      <th>2023-03-10</th>\n",
       "      <td>0</td>\n",
       "      <td>29</td>\n",
       "      <td>0</td>\n",
       "      <td>1004</td>\n",
       "      <td>0</td>\n",
       "      <td>0</td>\n",
       "      <td>NaN</td>\n",
       "      <td>NaN</td>\n",
       "    </tr>\n",
       "    <tr>\n",
       "      <th>2023-03-17</th>\n",
       "      <td>1</td>\n",
       "      <td>29</td>\n",
       "      <td>0</td>\n",
       "      <td>1006</td>\n",
       "      <td>0</td>\n",
       "      <td>0</td>\n",
       "      <td>NaN</td>\n",
       "      <td>NaN</td>\n",
       "    </tr>\n",
       "    <tr>\n",
       "      <th>2023-03-24</th>\n",
       "      <td>0</td>\n",
       "      <td>29</td>\n",
       "      <td>0</td>\n",
       "      <td>1006</td>\n",
       "      <td>0</td>\n",
       "      <td>0</td>\n",
       "      <td>NaN</td>\n",
       "      <td>NaN</td>\n",
       "    </tr>\n",
       "    <tr>\n",
       "      <th>2023-03-31</th>\n",
       "      <td>1</td>\n",
       "      <td>29</td>\n",
       "      <td>0</td>\n",
       "      <td>1011</td>\n",
       "      <td>0</td>\n",
       "      <td>0</td>\n",
       "      <td>NaN</td>\n",
       "      <td>NaN</td>\n",
       "    </tr>\n",
       "    <tr>\n",
       "      <th>2023-04-07</th>\n",
       "      <td>0</td>\n",
       "      <td>29</td>\n",
       "      <td>0</td>\n",
       "      <td>1011</td>\n",
       "      <td>0</td>\n",
       "      <td>0</td>\n",
       "      <td>NaN</td>\n",
       "      <td>NaN</td>\n",
       "    </tr>\n",
       "    <tr>\n",
       "      <th>2023-04-14</th>\n",
       "      <td>1</td>\n",
       "      <td>29</td>\n",
       "      <td>0</td>\n",
       "      <td>1012</td>\n",
       "      <td>0</td>\n",
       "      <td>0</td>\n",
       "      <td>NaN</td>\n",
       "      <td>NaN</td>\n",
       "    </tr>\n",
       "    <tr>\n",
       "      <th>2023-04-21</th>\n",
       "      <td>1</td>\n",
       "      <td>29</td>\n",
       "      <td>0</td>\n",
       "      <td>1012</td>\n",
       "      <td>0</td>\n",
       "      <td>0</td>\n",
       "      <td>NaN</td>\n",
       "      <td>NaN</td>\n",
       "    </tr>\n",
       "    <tr>\n",
       "      <th>2023-04-28</th>\n",
       "      <td>5</td>\n",
       "      <td>29</td>\n",
       "      <td>0</td>\n",
       "      <td>1017</td>\n",
       "      <td>0</td>\n",
       "      <td>0</td>\n",
       "      <td>NaN</td>\n",
       "      <td>NaN</td>\n",
       "    </tr>\n",
       "    <tr>\n",
       "      <th>2023-05-05</th>\n",
       "      <td>4</td>\n",
       "      <td>29</td>\n",
       "      <td>0</td>\n",
       "      <td>1017</td>\n",
       "      <td>0</td>\n",
       "      <td>0</td>\n",
       "      <td>NaN</td>\n",
       "      <td>NaN</td>\n",
       "    </tr>\n",
       "  </tbody>\n",
       "</table>\n",
       "</div>"
      ],
      "text/plain": [
       "            open proposals  users in train  users in test  votes in train  \\\n",
       "t                                                                           \n",
       "2023-03-03               0              29              0            1004   \n",
       "2023-03-10               0              29              0            1004   \n",
       "2023-03-17               1              29              0            1006   \n",
       "2023-03-24               0              29              0            1006   \n",
       "2023-03-31               1              29              0            1011   \n",
       "2023-04-07               0              29              0            1011   \n",
       "2023-04-14               1              29              0            1012   \n",
       "2023-04-21               1              29              0            1012   \n",
       "2023-04-28               5              29              0            1017   \n",
       "2023-05-05               4              29              0            1017   \n",
       "\n",
       "            votes in test  users in both  vpp test  vpv test  \n",
       "t                                                             \n",
       "2023-03-03              0              0       NaN       NaN  \n",
       "2023-03-10              0              0       NaN       NaN  \n",
       "2023-03-17              0              0       NaN       NaN  \n",
       "2023-03-24              0              0       NaN       NaN  \n",
       "2023-03-31              0              0       NaN       NaN  \n",
       "2023-04-07              0              0       NaN       NaN  \n",
       "2023-04-14              0              0       NaN       NaN  \n",
       "2023-04-21              0              0       NaN       NaN  \n",
       "2023-04-28              0              0       NaN       NaN  \n",
       "2023-05-05              0              0       NaN       NaN  "
      ]
     },
     "execution_count": 18,
     "metadata": {},
     "output_type": "execute_result"
    }
   ],
   "source": [
    "from collections import defaultdict\n",
    "\n",
    "foldsinfo = defaultdict(list)\n",
    "for f in folds:\n",
    "    # print(len(f.open_proposals), \"open proposals\")\n",
    "    foldsinfo['t'].append(f.end)\n",
    "    foldsinfo['open proposals'].append(len(f.open_proposals))\n",
    "    foldsinfo['users in train'].append(f.train['voter'].nunique())\n",
    "    foldsinfo['users in test'].append(f.test['voter'].nunique())\n",
    "    foldsinfo['votes in train'].append(len(f.train))\n",
    "    foldsinfo['votes in test'].append(len(f.test))\n",
    "    foldsinfo['users in both'].append(len(np.intersect1d(f.test['voter'].unique(), f.test['voter'].unique())))\n",
    "    # votes per proposal\n",
    "    foldsinfo['vpp test'].append(f.test.groupby('proposal').size().mean())\n",
    "    # votes per voter\n",
    "    foldsinfo['vpv test'].append(f.test.groupby('voter').size().mean())\n",
    "\n",
    "dff = pd.DataFrame(foldsinfo).set_index('t')\n",
    "paths.save_dao_datum(ORG_NAME, 'folds_avg_open_proposals', dff['open proposals'].mean())\n",
    "paths.save_dao_datum(ORG_NAME, 'folds_avg_test_votes', dff['votes in test'].mean())\n",
    "paths.save_dao_datum(ORG_NAME, 'folds_avg_test_users', dff['users in test'].mean())\n",
    "paths.save_dao_datum(ORG_NAME, 'folds_avg_test_vpp', dff['vpp test'].mean())\n",
    "paths.save_dao_datum(ORG_NAME, 'folds_avg_test_vpv', dff['vpv test'].mean())\n",
    "dff"
   ]
  },
  {
   "cell_type": "markdown",
   "id": "729479f0-153b-46ee-a4ac-fcf6a2902dbb",
   "metadata": {
    "papermill": {
     "duration": 0.004166,
     "end_time": "2024-09-26T16:55:51.231457",
     "exception": false,
     "start_time": "2024-09-26T16:55:51.227291",
     "status": "completed"
    },
    "tags": []
   },
   "source": [
    "## Histograms"
   ]
  },
  {
   "cell_type": "markdown",
   "id": "b700fb01",
   "metadata": {
    "papermill": {
     "duration": 0.004026,
     "end_time": "2024-09-26T16:55:51.239486",
     "exception": false,
     "start_time": "2024-09-26T16:55:51.235460",
     "status": "completed"
    },
    "tags": []
   },
   "source": [
    "### Votes per user"
   ]
  },
  {
   "cell_type": "code",
   "execution_count": 19,
   "id": "58c8912e",
   "metadata": {
    "execution": {
     "iopub.execute_input": "2024-09-26T16:55:51.248047Z",
     "iopub.status.busy": "2024-09-26T16:55:51.247931Z",
     "iopub.status.idle": "2024-09-26T16:55:51.467664Z",
     "shell.execute_reply": "2024-09-26T16:55:51.467455Z"
    },
    "papermill": {
     "duration": 0.225086,
     "end_time": "2024-09-26T16:55:51.468507",
     "exception": false,
     "start_time": "2024-09-26T16:55:51.243421",
     "status": "completed"
    },
    "tags": []
   },
   "outputs": [
    {
     "name": "stdout",
     "output_type": "stream",
     "text": [
      "count     29.000000\n",
      "mean      35.103448\n",
      "std       38.723696\n",
      "min        1.000000\n",
      "10%        1.000000\n",
      "15%        3.200000\n",
      "50%       23.000000\n",
      "90%       87.200000\n",
      "95%      111.800000\n",
      "99%      136.520000\n",
      "max      141.000000\n",
      "dtype: float64\n",
      "18 voters (62.07%) have voted more than 10 times\n",
      "2 voters (6.90%) have voted more than 100 times\n"
     ]
    },
    {
     "data": {
      "application/vnd.jupyter.widget-view+json": {
       "model_id": "534885b9bd8344a280adbde94a11570a",
       "version_major": 2,
       "version_minor": 0
      },
      "text/html": [
       "Cannot show widget. You probably want to rerun the code cell above (<i>Click in the code cell, and press Shift+Enter <kbd>⇧</kbd>+<kbd>↩</kbd></i>)."
      ],
      "text/plain": [
       "Cannot show ipywidgets in text"
      ]
     },
     "metadata": {},
     "output_type": "display_data"
    },
    {
     "data": {
      "image/png": "[encoded data removed]",
      "text/plain": [
       "<Figure size 350x262.5 with 1 Axes>"
      ]
     },
     "metadata": {},
     "output_type": "display_data"
    }
   ],
   "source": [
    "_toplot = dfv.groupby('voter').size()\n",
    "# _toplot = _toplot[_toplot < 40]\n",
    "print(_toplot.describe(percentiles=[.1, .15, .5, .9, .95, .99]))\n",
    "# _toplot.plot.hist(log=True)\n",
    "ax = sns.ecdfplot(_toplot, log_scale=True)\n",
    "plt.xlabel('# votes')\n",
    "plt.ylabel('% voters')\n",
    "\n",
    "_times_voted = [10, 100]\n",
    "for t in _times_voted:\n",
    "    _nusers = (_toplot > t).sum()\n",
    "    print(f\"{_nusers} voters ({_nusers/len(_toplot)*100:.2f}%) have voted more than {t} times\")\n",
    "\n",
    "ax.set_xticks([1, 5, 10, 50, 100, 500, 1000])\n",
    "# ax.xaxis.set_major_locator(mtick.MultipleLocator(10))\n",
    "ax.yaxis.set_major_formatter(ticker.PercentFormatter(1))\n",
    "\n",
    "# Updates by Javi\n",
    "plt.xlabel(\"\")\n",
    "plt.ylabel(\"\")\n",
    "\n",
    "nbutils.download_matplotlib(ax.figure, \"ecdf-vpv.pdf\")"
   ]
  },
  {
   "cell_type": "markdown",
   "id": "d11514db",
   "metadata": {
    "papermill": {
     "duration": 0.004814,
     "end_time": "2024-09-26T16:55:51.478650",
     "exception": false,
     "start_time": "2024-09-26T16:55:51.473836",
     "status": "completed"
    },
    "tags": []
   },
   "source": [
    "### Votes per proposal"
   ]
  },
  {
   "cell_type": "code",
   "execution_count": 20,
   "id": "66dba836",
   "metadata": {
    "execution": {
     "iopub.execute_input": "2024-09-26T16:55:51.487903Z",
     "iopub.status.busy": "2024-09-26T16:55:51.487798Z",
     "iopub.status.idle": "2024-09-26T16:55:51.623012Z",
     "shell.execute_reply": "2024-09-26T16:55:51.622817Z"
    },
    "papermill": {
     "duration": 0.140826,
     "end_time": "2024-09-26T16:55:51.623790",
     "exception": false,
     "start_time": "2024-09-26T16:55:51.482964",
     "status": "completed"
    },
    "tags": []
   },
   "outputs": [
    {
     "name": "stdout",
     "output_type": "stream",
     "text": [
      "count    351.000000\n",
      "mean       2.900285\n",
      "std        1.904513\n",
      "min        1.000000\n",
      "10%        1.000000\n",
      "15%        1.000000\n",
      "20%        1.000000\n",
      "25%        2.000000\n",
      "50%        2.000000\n",
      "75%        4.000000\n",
      "90%        5.000000\n",
      "95%        7.000000\n",
      "99%        9.000000\n",
      "max       15.000000\n",
      "dtype: float64\n",
      "Total votes: 1018\n",
      "2 proposals (0.57%) have more than 10 votes\n",
      "0 proposals (0.00%) have more than 72 votes\n",
      "0 proposals (0.00%) have more than 73 votes\n",
      "0 proposals (0.00%) have more than 100 votes\n"
     ]
    },
    {
     "data": {
      "application/vnd.jupyter.widget-view+json": {
       "model_id": "fb33bd91a6cb44d1902ee65a4c534554",
       "version_major": 2,
       "version_minor": 0
      },
      "text/html": [
       "Cannot show widget. You probably want to rerun the code cell above (<i>Click in the code cell, and press Shift+Enter <kbd>⇧</kbd>+<kbd>↩</kbd></i>)."
      ],
      "text/plain": [
       "Cannot show ipywidgets in text"
      ]
     },
     "metadata": {},
     "output_type": "display_data"
    },
    {
     "data": {
      "image/png": "[encoded data removed]",
      "text/plain": [
       "<Figure size 350x262.5 with 1 Axes>"
      ]
     },
     "metadata": {},
     "output_type": "display_data"
    }
   ],
   "source": [
    "_toplot = dfv.groupby('proposal').size()\n",
    "print(_toplot.describe(percentiles=[.1, .15, .20, .25, .5,.75,.9, .95, .99]))\n",
    "\n",
    "print(\"Total votes:\", _toplot.sum())\n",
    "_times_voted = [10, 72, 73, 100]\n",
    "for t in _times_voted:\n",
    "    _nprops = (_toplot > t).sum()\n",
    "    print(f\"{_nprops} proposals ({_nprops/len(_toplot)*100:.2f}%) have more than {t} votes\")\n",
    "\n",
    "ax = sns.ecdfplot(_toplot, log_scale=True)\n",
    "ax.set_xticks([1, 5, 10, 50, 100, 500, 1000])\n",
    "ax.yaxis.set_major_formatter(ticker.PercentFormatter(1))\n",
    "\n",
    "plt.xlabel('# votes')\n",
    "plt.ylabel('% proposals')\n",
    "\n",
    "# Updates by Javi\n",
    "plt.xlabel(\"\")\n",
    "plt.ylabel(\"\")\n",
    "\n",
    "nbutils.download_matplotlib(ax.figure, \"ecdf-vpp.pdf\")"
   ]
  }
 ],
 "metadata": {
  "kernelspec": {
   "display_name": "Python 3 (ipykernel)",
   "language": "python",
   "name": "python3"
  },
  "language_info": {
   "codemirror_mode": {
    "name": "ipython",
    "version": 3
   },
   "file_extension": ".py",
   "mimetype": "text/x-python",
   "name": "python",
   "nbconvert_exporter": "python",
   "pygments_lexer": "ipython3",
   "version": "3.11.6"
  },
  "papermill": {
   "default_parameters": {},
   "duration": 5.055498,
   "end_time": "2024-09-26T16:55:52.049081",
   "environment_variables": {},
   "exception": null,
   "input_path": "01_explore.ipynb",
   "output_path": "../nbout/HausDao Warcamp/01_explore.ipynb",
   "parameters": {
    "EXECUTION_ID": "2024-09-24T10:00",
    "LAST_FOLDS": 10,
    "LAST_FOLD_DATE_STR": null,
    "ORG_NAME": "HausDao Warcamp",
    "SPLITS_FREQ": "7d",
    "SPLITS_NORMALIZE": true
   },
   "start_time": "2024-09-26T16:55:46.993583",
   "version": "2.6.0"
  },
  "widgets": {
   "application/vnd.jupyter.widget-state+json": {
    "state": {
     "03436d2957224fef9dabee2fa6c4607a": {
      "model_module": "jupyter-vuetify",
      "model_module_version": "^1.8.5",
      "model_name": "BtnModel",
      "state": {
       "_dom_classes": [],
       "_events": [
        "click"
       ],
       "_jupyter_vue": "IPY_MODEL_108e699e5c8a45568c18e61742e668a2",
       "_metadata": null,
       "_model_module": "jupyter-vuetify",
       "_model_module_version": "^1.8.5",
       "_model_name": "BtnModel",
       "_view_count": null,
       "_view_module": "jupyter-vuetify",
       "_view_module_version": "^1.8.5",
       "_view_name": "VuetifyView",
       "absolute": null,
       "active_class": null,
       "append": null,
       "attributes": {},
       "block": null,
       "bottom": null,
       "children": [
        "IPY_MODEL_c865904a68c24013a80428944f23861e",
        "Download: votes_in_time-color.pdf"
       ],
       "class_": "",
       "color": null,
       "dark": null,
       "depressed": null,
       "disabled": false,
       "elevation": null,
       "exact": null,
       "exact_active_class": null,
       "fab": null,
       "fixed": null,
       "height": null,
       "href": null,
       "icon": null,
       "input_value": null,
       "large": null,
       "layout": null,
       "left": null,
       "light": null,
       "link": null,
       "loading": false,
       "max_height": null,
       "max_width": null,
       "min_height": null,
       "min_width": null,
       "nuxt": null,
       "outlined": false,
       "replace": null,
       "retain_focus_on_click": null,
       "right": null,
       "ripple": null,
       "rounded": null,
       "slot": null,
       "small": null,
       "style_": "",
       "tabbable": null,
       "tag": null,
       "target": null,
       "text": false,
       "tile": null,
       "to": null,
       "tooltip": null,
       "top": null,
       "type": null,
       "v_model": "!!disabled!!",
       "v_on": null,
       "v_slots": [],
       "value": null,
       "width": null,
       "x_large": null,
       "x_small": null
      }
     },
     "07ac0bb9782f428c810a04e679931b80": {
      "model_module": "jupyter-vuetify",
      "model_module_version": "^1.8.5",
      "model_name": "IconModel",
      "state": {
       "_dom_classes": [],
       "_events": [],
       "_jupyter_vue": "IPY_MODEL_108e699e5c8a45568c18e61742e668a2",
       "_metadata": null,
       "_model_module": "jupyter-vuetify",
       "_model_module_version": "^1.8.5",
       "_model_name": "IconModel",
       "_view_count": null,
       "_view_module": "jupyter-vuetify",
       "_view_module_version": "^1.8.5",
       "_view_name": "VuetifyView",
       "attributes": {},
       "children": [
        "mdi-cloud-download-outline"
       ],
       "class_": null,
       "color": null,
       "dark": null,
       "dense": null,
       "disabled": null,
       "large": null,
       "layout": null,
       "left": true,
       "light": null,
       "right": null,
       "size": null,
       "slot": null,
       "small": null,
       "style_": null,
       "tabbable": null,
       "tag": null,
       "tooltip": null,
       "v_model": "!!disabled!!",
       "v_on": null,
       "v_slots": [],
       "x_large": null,
       "x_small": null
      }
     },
     "07e1090fa66645239d6522c4566297ff": {
      "model_module": "jupyter-vuetify",
      "model_module_version": "^1.8.5",
      "model_name": "RowModel",
      "state": {
       "_dom_classes": [],
       "_events": [],
       "_jupyter_vue": "IPY_MODEL_108e699e5c8a45568c18e61742e668a2",
       "_metadata": null,
       "_model_module": "jupyter-vuetify",
       "_model_module_version": "^1.8.5",
       "_model_name": "RowModel",
       "_view_count": null,
       "_view_module": "jupyter-vuetify",
       "_view_module_version": "^1.8.5",
       "_view_name": "VuetifyView",
       "align": null,
       "align_content": null,
       "align_content_lg": null,
       "align_content_md": null,
       "align_content_sm": null,
       "align_content_xl": null,
       "align_lg": null,
       "align_md": null,
       "align_sm": null,
       "align_xl": null,
       "attributes": {},
       "children": [
        "IPY_MODEL_40ead6ff2ba547db9c75086b6e925786"
       ],
       "class_": "solara-content-main",
       "dense": null,
       "justify": null,
       "justify_lg": null,
       "justify_md": null,
       "justify_sm": null,
       "justify_xl": null,
       "layout": null,
       "no_gutters": false,
       "slot": null,
       "style_": null,
       "tabbable": null,
       "tag": null,
       "tooltip": null,
       "v_model": "!!disabled!!",
       "v_on": null,
       "v_slots": []
      }
     },
     "108e699e5c8a45568c18e61742e668a2": {
      "model_module": "jupyter-vue",
      "model_module_version": "^1.11.1",
      "model_name": "ForceLoadModel",
      "state": {
       "_dom_classes": [],
       "_model_module": "jupyter-vue",
       "_model_module_version": "^1.11.1",
       "_model_name": "ForceLoadModel",
       "_view_count": null,
       "_view_module": null,
       "_view_module_version": "",
       "_view_name": null,
       "layout": "IPY_MODEL_48f8aec694224741a0d67c7e70e1540a",
       "tabbable": null,
       "tooltip": null
      }
     },
     "13d29f55eced44bd9fa0c9a3f0a006de": {
      "model_module": "jupyter-vuetify",
      "model_module_version": "^1.9.4",
      "model_name": "ThemeModel",
      "state": {
       "_model_module": "jupyter-vuetify",
       "_model_module_version": "^1.9.4",
       "_model_name": "ThemeModel",
       "_view_count": null,
       "_view_module": null,
       "_view_module_version": "^1.9.4",
       "_view_name": null,
       "dark": null,
       "dark_effective": null
      }
     },
     "1475849d99854c519c58061615b90d53": {
      "model_module": "@jupyter-widgets/base",
      "model_module_version": "2.0.0",
      "model_name": "LayoutModel",
      "state": {
       "_model_module": "@jupyter-widgets/base",
       "_model_module_version": "2.0.0",
       "_model_name": "LayoutModel",
       "_view_count": null,
       "_view_module": "@jupyter-widgets/base",
       "_view_module_version": "2.0.0",
       "_view_name": "LayoutView",
       "align_content": null,
       "align_items": null,
       "align_self": null,
       "border_bottom": null,
       "border_left": null,
       "border_right": null,
       "border_top": null,
       "bottom": null,
       "display": null,
       "flex": null,
       "flex_flow": null,
       "grid_area": null,
       "grid_auto_columns": null,
       "grid_auto_flow": null,
       "grid_auto_rows": null,
       "grid_column": null,
       "grid_gap": null,
       "grid_row": null,
       "grid_template_areas": null,
       "grid_template_columns": null,
       "grid_template_rows": null,
       "height": null,
       "justify_content": null,
       "justify_items": null,
       "left": null,
       "margin": null,
       "max_height": null,
       "max_width": null,
       "min_height": null,
       "min_width": null,
       "object_fit": null,
       "object_position": null,
       "order": null,
       "overflow": null,
       "padding": null,
       "right": null,
       "top": null,
       "visibility": null,
       "width": null
      }
     },
     "15a6b5419d2948abbe131a5bd77075b0": {
      "model_module": "jupyter-vuetify",
      "model_module_version": "^1.8.5",
      "model_name": "ColModel",
      "state": {
       "_dom_classes": [],
       "_events": [],
       "_jupyter_vue": "IPY_MODEL_108e699e5c8a45568c18e61742e668a2",
       "_metadata": null,
       "_model_module": "jupyter-vuetify",
       "_model_module_version": "^1.8.5",
       "_model_name": "ColModel",
       "_view_count": null,
       "_view_module": "jupyter-vuetify",
       "_view_module_version": "^1.8.5",
       "_view_name": "VuetifyView",
       "align_self": null,
       "attributes": {},
       "children": [
        "IPY_MODEL_d96a36e9eda242c5a2c8d74cb7244507"
       ],
       "class_": null,
       "cols": 12.0,
       "layout": null,
       "lg": null,
       "md": null,
       "offset": null,
       "offset_lg": null,
       "offset_md": null,
       "offset_sm": null,
       "offset_xl": null,
       "order": null,
       "order_lg": null,
       "order_md": null,
       "order_sm": null,
       "order_xl": null,
       "slot": null,
       "sm": null,
       "style_": null,
       "tabbable": null,
       "tag": null,
       "tooltip": null,
       "v_model": "!!disabled!!",
       "v_on": null,
       "v_slots": [],
       "xl": null
      }
     },
     "1d9bed0e1d3c40c89427b8b40c3f4649": {
      "model_module": "@jupyter-widgets/base",
      "model_module_version": "2.0.0",
      "model_name": "LayoutModel",
      "state": {
       "_model_module": "@jupyter-widgets/base",
       "_model_module_version": "2.0.0",
       "_model_name": "LayoutModel",
       "_view_count": null,
       "_view_module": "@jupyter-widgets/base",
       "_view_module_version": "2.0.0",
       "_view_name": "LayoutView",
       "align_content": null,
       "align_items": null,
       "align_self": null,
       "border_bottom": null,
       "border_left": null,
       "border_right": null,
       "border_top": null,
       "bottom": null,
       "display": null,
       "flex": null,
       "flex_flow": null,
       "grid_area": null,
       "grid_auto_columns": null,
       "grid_auto_flow": null,
       "grid_auto_rows": null,
       "grid_column": null,
       "grid_gap": null,
       "grid_row": null,
       "grid_template_areas": null,
       "grid_template_columns": null,
       "grid_template_rows": null,
       "height": null,
       "justify_content": null,
       "justify_items": null,
       "left": null,
       "margin": null,
       "max_height": null,
       "max_width": null,
       "min_height": null,
       "min_width": null,
       "object_fit": null,
       "object_position": null,
       "order": null,
       "overflow": null,
       "padding": null,
       "right": null,
       "top": null,
       "visibility": null,
       "width": null
      }
     },
     "20a5651a704846e6a50b19403cff16ef": {
      "model_module": "@jupyter-widgets/base",
      "model_module_version": "2.0.0",
      "model_name": "LayoutModel",
      "state": {
       "_model_module": "@jupyter-widgets/base",
       "_model_module_version": "2.0.0",
       "_model_name": "LayoutModel",
       "_view_count": null,
       "_view_module": "@jupyter-widgets/base",
       "_view_module_version": "2.0.0",
       "_view_name": "LayoutView",
       "align_content": null,
       "align_items": null,
       "align_self": null,
       "border_bottom": null,
       "border_left": null,
       "border_right": null,
       "border_top": null,
       "bottom": null,
       "display": null,
       "flex": null,
       "flex_flow": null,
       "grid_area": null,
       "grid_auto_columns": null,
       "grid_auto_flow": null,
       "grid_auto_rows": null,
       "grid_column": null,
       "grid_gap": null,
       "grid_row": null,
       "grid_template_areas": null,
       "grid_template_columns": null,
       "grid_template_rows": null,
       "height": null,
       "justify_content": null,
       "justify_items": null,
       "left": null,
       "margin": null,
       "max_height": null,
       "max_width": null,
       "min_height": null,
       "min_width": null,
       "object_fit": null,
       "object_position": null,
       "order": null,
       "overflow": null,
       "padding": null,
       "right": null,
       "top": null,
       "visibility": null,
       "width": null
      }
     },
     "27db83c4ee1847c6afd70d92b8a89353": {
      "model_module": "jupyter-vuetify",
      "model_module_version": "^1.8.5",
      "model_name": "IconModel",
      "state": {
       "_dom_classes": [],
       "_events": [],
       "_jupyter_vue": "IPY_MODEL_108e699e5c8a45568c18e61742e668a2",
       "_metadata": null,
       "_model_module": "jupyter-vuetify",
       "_model_module_version": "^1.8.5",
       "_model_name": "IconModel",
       "_view_count": null,
       "_view_module": "jupyter-vuetify",
       "_view_module_version": "^1.8.5",
       "_view_name": "VuetifyView",
       "attributes": {},
       "children": [
        "mdi-cloud-download-outline"
       ],
       "class_": null,
       "color": null,
       "dark": null,
       "dense": null,
       "disabled": null,
       "large": null,
       "layout": null,
       "left": true,
       "light": null,
       "right": null,
       "size": null,
       "slot": null,
       "small": null,
       "style_": null,
       "tabbable": null,
       "tag": null,
       "tooltip": null,
       "v_model": "!!disabled!!",
       "v_on": null,
       "v_slots": [],
       "x_large": null,
       "x_small": null
      }
     },
     "2b1282d78f21441fb7919e118f33e915": {
      "model_module": "@jupyter-widgets/base",
      "model_module_version": "2.0.0",
      "model_name": "LayoutModel",
      "state": {
       "_model_module": "@jupyter-widgets/base",
       "_model_module_version": "2.0.0",
       "_model_name": "LayoutModel",
       "_view_count": null,
       "_view_module": "@jupyter-widgets/base",
       "_view_module_version": "2.0.0",
       "_view_name": "LayoutView",
       "align_content": null,
       "align_items": null,
       "align_self": null,
       "border_bottom": null,
       "border_left": null,
       "border_right": null,
       "border_top": null,
       "bottom": null,
       "display": null,
       "flex": null,
       "flex_flow": null,
       "grid_area": null,
       "grid_auto_columns": null,
       "grid_auto_flow": null,
       "grid_auto_rows": null,
       "grid_column": null,
       "grid_gap": null,
       "grid_row": null,
       "grid_template_areas": null,
       "grid_template_columns": null,
       "grid_template_rows": null,
       "height": null,
       "justify_content": null,
       "justify_items": null,
       "left": null,
       "margin": null,
       "max_height": null,
       "max_width": null,
       "min_height": null,
       "min_width": null,
       "object_fit": null,
       "object_position": null,
       "order": null,
       "overflow": null,
       "padding": null,
       "right": null,
       "top": null,
       "visibility": null,
       "width": null
      }
     },
     "2cd137720e5c4a499792603c2bee8b8d": {
      "model_module": "@jupyter-widgets/base",
      "model_module_version": "2.0.0",
      "model_name": "LayoutModel",
      "state": {
       "_model_module": "@jupyter-widgets/base",
       "_model_module_version": "2.0.0",
       "_model_name": "LayoutModel",
       "_view_count": null,
       "_view_module": "@jupyter-widgets/base",
       "_view_module_version": "2.0.0",
       "_view_name": "LayoutView",
       "align_content": null,
       "align_items": null,
       "align_self": null,
       "border_bottom": null,
       "border_left": null,
       "border_right": null,
       "border_top": null,
       "bottom": null,
       "display": null,
       "flex": null,
       "flex_flow": null,
       "grid_area": null,
       "grid_auto_columns": null,
       "grid_auto_flow": null,
       "grid_auto_rows": null,
       "grid_column": null,
       "grid_gap": null,
       "grid_row": null,
       "grid_template_areas": null,
       "grid_template_columns": null,
       "grid_template_rows": null,
       "height": null,
       "justify_content": null,
       "justify_items": null,
       "left": null,
       "margin": null,
       "max_height": null,
       "max_width": null,
       "min_height": null,
       "min_width": null,
       "object_fit": null,
       "object_position": null,
       "order": null,
       "overflow": null,
       "padding": null,
       "right": null,
       "top": null,
       "visibility": null,
       "width": null
      }
     },
     "36897d50fb694c11b4203008d4f93399": {
      "model_module": "jupyter-vuetify",
      "model_module_version": "^1.8.5",
      "model_name": "BtnModel",
      "state": {
       "_dom_classes": [],
       "_events": [
        "click"
       ],
       "_jupyter_vue": "IPY_MODEL_108e699e5c8a45568c18e61742e668a2",
       "_metadata": null,
       "_model_module": "jupyter-vuetify",
       "_model_module_version": "^1.8.5",
       "_model_name": "BtnModel",
       "_view_count": null,
       "_view_module": "jupyter-vuetify",
       "_view_module_version": "^1.8.5",
       "_view_name": "VuetifyView",
       "absolute": null,
       "active_class": null,
       "append": null,
       "attributes": {},
       "block": null,
       "bottom": null,
       "children": [
        "IPY_MODEL_82f7963fddb246e19700d4bfd03d8bfb",
        "Download: ecdf-vpp.pdf"
       ],
       "class_": "",
       "color": null,
       "dark": null,
       "depressed": null,
       "disabled": false,
       "elevation": null,
       "exact": null,
       "exact_active_class": null,
       "fab": null,
       "fixed": null,
       "height": null,
       "href": null,
       "icon": null,
       "input_value": null,
       "large": null,
       "layout": null,
       "left": null,
       "light": null,
       "link": null,
       "loading": false,
       "max_height": null,
       "max_width": null,
       "min_height": null,
       "min_width": null,
       "nuxt": null,
       "outlined": false,
       "replace": null,
       "retain_focus_on_click": null,
       "right": null,
       "ripple": null,
       "rounded": null,
       "slot": null,
       "small": null,
       "style_": "",
       "tabbable": null,
       "tag": null,
       "target": null,
       "text": false,
       "tile": null,
       "to": null,
       "tooltip": null,
       "top": null,
       "type": null,
       "v_model": "!!disabled!!",
       "v_on": null,
       "v_slots": [],
       "value": null,
       "width": null,
       "x_large": null,
       "x_small": null
      }
     },
     "40ead6ff2ba547db9c75086b6e925786": {
      "model_module": "jupyter-vuetify",
      "model_module_version": "^1.8.5",
      "model_name": "ColModel",
      "state": {
       "_dom_classes": [],
       "_events": [],
       "_jupyter_vue": "IPY_MODEL_108e699e5c8a45568c18e61742e668a2",
       "_metadata": null,
       "_model_module": "jupyter-vuetify",
       "_model_module_version": "^1.8.5",
       "_model_name": "ColModel",
       "_view_count": null,
       "_view_module": "jupyter-vuetify",
       "_view_module_version": "^1.8.5",
       "_view_name": "VuetifyView",
       "align_self": null,
       "attributes": {},
       "children": [
        "IPY_MODEL_e3c24051a8f74bd9bc53bea5289da8b2"
       ],
       "class_": null,
       "cols": 12.0,
       "layout": null,
       "lg": null,
       "md": null,
       "offset": null,
       "offset_lg": null,
       "offset_md": null,
       "offset_sm": null,
       "offset_xl": null,
       "order": null,
       "order_lg": null,
       "order_md": null,
       "order_sm": null,
       "order_xl": null,
       "slot": null,
       "sm": null,
       "style_": null,
       "tabbable": null,
       "tag": null,
       "tooltip": null,
       "v_model": "!!disabled!!",
       "v_on": null,
       "v_slots": [],
       "xl": null
      }
     },
     "420287c11bcf41fcac7929b65ba25080": {
      "model_module": "@jupyter-widgets/base",
      "model_module_version": "2.0.0",
      "model_name": "LayoutModel",
      "state": {
       "_model_module": "@jupyter-widgets/base",
       "_model_module_version": "2.0.0",
       "_model_name": "LayoutModel",
       "_view_count": null,
       "_view_module": "@jupyter-widgets/base",
       "_view_module_version": "2.0.0",
       "_view_name": "LayoutView",
       "align_content": null,
       "align_items": null,
       "align_self": null,
       "border_bottom": null,
       "border_left": null,
       "border_right": null,
       "border_top": null,
       "bottom": null,
       "display": null,
       "flex": null,
       "flex_flow": null,
       "grid_area": null,
       "grid_auto_columns": null,
       "grid_auto_flow": null,
       "grid_auto_rows": null,
       "grid_column": null,
       "grid_gap": null,
       "grid_row": null,
       "grid_template_areas": null,
       "grid_template_columns": null,
       "grid_template_rows": null,
       "height": null,
       "justify_content": null,
       "justify_items": null,
       "left": null,
       "margin": null,
       "max_height": null,
       "max_width": null,
       "min_height": null,
       "min_width": null,
       "object_fit": null,
       "object_position": null,
       "order": null,
       "overflow": null,
       "padding": null,
       "right": null,
       "top": null,
       "visibility": null,
       "width": null
      }
     },
     "42510c72f5314da7aa76c0b379543213": {
      "model_module": "jupyter-vuetify",
      "model_module_version": "^1.9.4",
      "model_name": "HtmlModel",
      "state": {
       "_dom_classes": [],
       "_events": [],
       "_jupyter_vue": "IPY_MODEL_108e699e5c8a45568c18e61742e668a2",
       "_model_module": "jupyter-vuetify",
       "_model_module_version": "^1.9.4",
       "_model_name": "HtmlModel",
       "_view_count": null,
       "_view_module": "jupyter-vuetify",
       "_view_module_version": "^1.9.4",
       "_view_name": "VuetifyView",
       "attributes": {},
       "children": [
        "IPY_MODEL_631d7c1b768940e3a5cdd172acfd763c"
       ],
       "class_": null,
       "layout": null,
       "slot": null,
       "style_": null,
       "tabbable": null,
       "tag": "div",
       "tooltip": null,
       "v_model": "!!disabled!!",
       "v_on": null,
       "v_slots": []
      }
     },
     "48f8aec694224741a0d67c7e70e1540a": {
      "model_module": "@jupyter-widgets/base",
      "model_module_version": "2.0.0",
      "model_name": "LayoutModel",
      "state": {
       "_model_module": "@jupyter-widgets/base",
       "_model_module_version": "2.0.0",
       "_model_name": "LayoutModel",
       "_view_count": null,
       "_view_module": "@jupyter-widgets/base",
       "_view_module_version": "2.0.0",
       "_view_name": "LayoutView",
       "align_content": null,
       "align_items": null,
       "align_self": null,
       "border_bottom": null,
       "border_left": null,
       "border_right": null,
       "border_top": null,
       "bottom": null,
       "display": null,
       "flex": null,
       "flex_flow": null,
       "grid_area": null,
       "grid_auto_columns": null,
       "grid_auto_flow": null,
       "grid_auto_rows": null,
       "grid_column": null,
       "grid_gap": null,
       "grid_row": null,
       "grid_template_areas": null,
       "grid_template_columns": null,
       "grid_template_rows": null,
       "height": null,
       "justify_content": null,
       "justify_items": null,
       "left": null,
       "margin": null,
       "max_height": null,
       "max_width": null,
       "min_height": null,
       "min_width": null,
       "object_fit": null,
       "object_position": null,
       "order": null,
       "overflow": null,
       "padding": null,
       "right": null,
       "top": null,
       "visibility": null,
       "width": null
      }
     },
     "534885b9bd8344a280adbde94a11570a": {
      "model_module": "@jupyter-widgets/controls",
      "model_module_version": "2.0.0",
      "model_name": "VBoxModel",
      "state": {
       "_dom_classes": [],
       "_model_module": "@jupyter-widgets/controls",
       "_model_module_version": "2.0.0",
       "_model_name": "VBoxModel",
       "_view_count": 0,
       "_view_module": "@jupyter-widgets/controls",
       "_view_module_version": "2.0.0",
       "_view_name": "VBoxView",
       "box_style": "",
       "children": [
        "IPY_MODEL_7c40e605f5734dae81ed5a08b74f4293"
       ],
       "layout": "IPY_MODEL_e5f7a6b7a9394a3daf5e689a3841b690",
       "tabbable": null,
       "tooltip": null
      }
     },
     "5763004b2fa64509b5134abcefe4db27": {
      "model_module": "jupyter-vuetify",
      "model_module_version": "^1.9.4",
      "model_name": "VuetifyTemplateModel",
      "state": {
       "_component_instances": [],
       "_dom_classes": [],
       "_jupyter_vue": "IPY_MODEL_108e699e5c8a45568c18e61742e668a2",
       "_model_module": "jupyter-vuetify",
       "_model_module_version": "^1.9.4",
       "_model_name": "VuetifyTemplateModel",
       "_view_count": null,
       "_view_module": "jupyter-vuetify",
       "_view_module_version": "^1.9.4",
       "_view_name": "VuetifyView",
       "bytes": null,
       "children": [
        "IPY_MODEL_03436d2957224fef9dabee2fa6c4607a"
       ],
       "components": null,
       "css": null,
       "data": null,
       "events": [],
       "filename": "votes_in_time-color.pdf",
       "layout": "IPY_MODEL_2cd137720e5c4a499792603c2bee8b8d",
       "methods": null,
       "mime_type": "application/octet-stream",
       "request_download": false,
       "tabbable": null,
       "template": "IPY_MODEL_e41cf24504fc4ea5b6a1de0fce4ddee1",
       "tooltip": null
      }
     },
     "58bc7cc80d4e4ebc8c013174421109d4": {
      "model_module": "jupyter-vuetify",
      "model_module_version": "^1.9.4",
      "model_name": "ThemeColorsModel",
      "state": {
       "_model_module": "jupyter-vuetify",
       "_model_module_version": "^1.9.4",
       "_model_name": "ThemeColorsModel",
       "_theme_name": "light",
       "_view_count": null,
       "_view_module": null,
       "_view_module_version": "^1.9.4",
       "_view_name": null,
       "accent": "#82B1FF",
       "anchor": null,
       "error": "#FF5252",
       "info": "#2196F3",
       "primary": "#1976D2",
       "secondary": "#424242",
       "success": "#4CAF50",
       "warning": "#FB8C00"
      }
     },
     "5b6c83039d784aa49a990db4b681a13d": {
      "model_module": "@jupyter-widgets/base",
      "model_module_version": "2.0.0",
      "model_name": "LayoutModel",
      "state": {
       "_model_module": "@jupyter-widgets/base",
       "_model_module_version": "2.0.0",
       "_model_name": "LayoutModel",
       "_view_count": null,
       "_view_module": "@jupyter-widgets/base",
       "_view_module_version": "2.0.0",
       "_view_name": "LayoutView",
       "align_content": null,
       "align_items": null,
       "align_self": null,
       "border_bottom": null,
       "border_left": null,
       "border_right": null,
       "border_top": null,
       "bottom": null,
       "display": null,
       "flex": null,
       "flex_flow": null,
       "grid_area": null,
       "grid_auto_columns": null,
       "grid_auto_flow": null,
       "grid_auto_rows": null,
       "grid_column": null,
       "grid_gap": null,
       "grid_row": null,
       "grid_template_areas": null,
       "grid_template_columns": null,
       "grid_template_rows": null,
       "height": null,
       "justify_content": null,
       "justify_items": null,
       "left": null,
       "margin": null,
       "max_height": null,
       "max_width": null,
       "min_height": null,
       "min_width": null,
       "object_fit": null,
       "object_position": null,
       "order": null,
       "overflow": null,
       "padding": null,
       "right": null,
       "top": null,
       "visibility": null,
       "width": null
      }
     },
     "5b73999011094f48a7cd2a08d3814571": {
      "model_module": "jupyter-vuetify",
      "model_module_version": "^1.9.4",
      "model_name": "ThemeColorsModel",
      "state": {
       "_model_module": "jupyter-vuetify",
       "_model_module_version": "^1.9.4",
       "_model_name": "ThemeColorsModel",
       "_theme_name": "dark",
       "_view_count": null,
       "_view_module": null,
       "_view_module_version": "^1.9.4",
       "_view_name": null,
       "accent": "#FF4081",
       "anchor": null,
       "error": "#FF5252",
       "info": "#2196F3",
       "primary": "#2196F3",
       "secondary": "#424242",
       "success": "#4CAF50",
       "warning": "#FB8C00"
      }
     },
     "631d7c1b768940e3a5cdd172acfd763c": {
      "model_module": "jupyter-vuetify",
      "model_module_version": "^1.8.5",
      "model_name": "RowModel",
      "state": {
       "_dom_classes": [],
       "_events": [],
       "_jupyter_vue": "IPY_MODEL_108e699e5c8a45568c18e61742e668a2",
       "_metadata": null,
       "_model_module": "jupyter-vuetify",
       "_model_module_version": "^1.8.5",
       "_model_name": "RowModel",
       "_view_count": null,
       "_view_module": "jupyter-vuetify",
       "_view_module_version": "^1.8.5",
       "_view_name": "VuetifyView",
       "align": null,
       "align_content": null,
       "align_content_lg": null,
       "align_content_md": null,
       "align_content_sm": null,
       "align_content_xl": null,
       "align_lg": null,
       "align_md": null,
       "align_sm": null,
       "align_xl": null,
       "attributes": {},
       "children": [
        "IPY_MODEL_15a6b5419d2948abbe131a5bd77075b0"
       ],
       "class_": "solara-content-main",
       "dense": null,
       "justify": null,
       "justify_lg": null,
       "justify_md": null,
       "justify_sm": null,
       "justify_xl": null,
       "layout": null,
       "no_gutters": false,
       "slot": null,
       "style_": null,
       "tabbable": null,
       "tag": null,
       "tooltip": null,
       "v_model": "!!disabled!!",
       "v_on": null,
       "v_slots": []
      }
     },
     "75bfc6cd5d7e48bfa7bae8ce17739ea0": {
      "model_module": "jupyter-vuetify",
      "model_module_version": "^1.9.4",
      "model_name": "HtmlModel",
      "state": {
       "_dom_classes": [],
       "_events": [],
       "_jupyter_vue": "IPY_MODEL_108e699e5c8a45568c18e61742e668a2",
       "_model_module": "jupyter-vuetify",
       "_model_module_version": "^1.9.4",
       "_model_name": "HtmlModel",
       "_view_count": null,
       "_view_module": "jupyter-vuetify",
       "_view_module_version": "^1.9.4",
       "_view_name": "VuetifyView",
       "attributes": {},
       "children": [
        "IPY_MODEL_cb7ab4b55edd456da098be1f465a4acb"
       ],
       "class_": null,
       "layout": null,
       "slot": null,
       "style_": null,
       "tabbable": null,
       "tag": "div",
       "tooltip": null,
       "v_model": "!!disabled!!",
       "v_on": null,
       "v_slots": []
      }
     },
     "7c40e605f5734dae81ed5a08b74f4293": {
      "model_module": "jupyter-vuetify",
      "model_module_version": "^1.9.4",
      "model_name": "HtmlModel",
      "state": {
       "_dom_classes": [],
       "_events": [],
       "_jupyter_vue": "IPY_MODEL_108e699e5c8a45568c18e61742e668a2",
       "_model_module": "jupyter-vuetify",
       "_model_module_version": "^1.9.4",
       "_model_name": "HtmlModel",
       "_view_count": null,
       "_view_module": "jupyter-vuetify",
       "_view_module_version": "^1.9.4",
       "_view_name": "VuetifyView",
       "attributes": {},
       "children": [
        "IPY_MODEL_f97c73f673bc404bab3be3d38468cf4d"
       ],
       "class_": null,
       "layout": null,
       "slot": null,
       "style_": null,
       "tabbable": null,
       "tag": "div",
       "tooltip": null,
       "v_model": "!!disabled!!",
       "v_on": null,
       "v_slots": []
      }
     },
     "7e82046f320d42d2900b753f99d58b02": {
      "model_module": "@jupyter-widgets/base",
      "model_module_version": "2.0.0",
      "model_name": "LayoutModel",
      "state": {
       "_model_module": "@jupyter-widgets/base",
       "_model_module_version": "2.0.0",
       "_model_name": "LayoutModel",
       "_view_count": null,
       "_view_module": "@jupyter-widgets/base",
       "_view_module_version": "2.0.0",
       "_view_name": "LayoutView",
       "align_content": null,
       "align_items": null,
       "align_self": null,
       "border_bottom": null,
       "border_left": null,
       "border_right": null,
       "border_top": null,
       "bottom": null,
       "display": null,
       "flex": null,
       "flex_flow": null,
       "grid_area": null,
       "grid_auto_columns": null,
       "grid_auto_flow": null,
       "grid_auto_rows": null,
       "grid_column": null,
       "grid_gap": null,
       "grid_row": null,
       "grid_template_areas": null,
       "grid_template_columns": null,
       "grid_template_rows": null,
       "height": null,
       "justify_content": null,
       "justify_items": null,
       "left": null,
       "margin": null,
       "max_height": null,
       "max_width": null,
       "min_height": null,
       "min_width": null,
       "object_fit": null,
       "object_position": null,
       "order": null,
       "overflow": null,
       "padding": null,
       "right": null,
       "top": null,
       "visibility": null,
       "width": null
      }
     },
     "7e9901e57ffe4a09a94a8e9eaa4294fe": {
      "model_module": "@jupyter-widgets/controls",
      "model_module_version": "2.0.0",
      "model_name": "VBoxModel",
      "state": {
       "_dom_classes": [],
       "_model_module": "@jupyter-widgets/controls",
       "_model_module_version": "2.0.0",
       "_model_name": "VBoxModel",
       "_view_count": 0,
       "_view_module": "@jupyter-widgets/controls",
       "_view_module_version": "2.0.0",
       "_view_name": "VBoxView",
       "box_style": "",
       "children": [
        "IPY_MODEL_c61cd8115211436888c9f5be7f735694"
       ],
       "layout": "IPY_MODEL_420287c11bcf41fcac7929b65ba25080",
       "tabbable": null,
       "tooltip": null
      }
     },
     "82f7963fddb246e19700d4bfd03d8bfb": {
      "model_module": "jupyter-vuetify",
      "model_module_version": "^1.8.5",
      "model_name": "IconModel",
      "state": {
       "_dom_classes": [],
       "_events": [],
       "_jupyter_vue": "IPY_MODEL_108e699e5c8a45568c18e61742e668a2",
       "_metadata": null,
       "_model_module": "jupyter-vuetify",
       "_model_module_version": "^1.8.5",
       "_model_name": "IconModel",
       "_view_count": null,
       "_view_module": "jupyter-vuetify",
       "_view_module_version": "^1.8.5",
       "_view_name": "VuetifyView",
       "attributes": {},
       "children": [
        "mdi-cloud-download-outline"
       ],
       "class_": null,
       "color": null,
       "dark": null,
       "dense": null,
       "disabled": null,
       "large": null,
       "layout": null,
       "left": true,
       "light": null,
       "right": null,
       "size": null,
       "slot": null,
       "small": null,
       "style_": null,
       "tabbable": null,
       "tag": null,
       "tooltip": null,
       "v_model": "!!disabled!!",
       "v_on": null,
       "v_slots": [],
       "x_large": null,
       "x_small": null
      }
     },
     "84dd7df7c98b4b7f978ef23f61e816fe": {
      "model_module": "jupyter-vuetify",
      "model_module_version": "^1.8.5",
      "model_name": "ColModel",
      "state": {
       "_dom_classes": [],
       "_events": [],
       "_jupyter_vue": "IPY_MODEL_108e699e5c8a45568c18e61742e668a2",
       "_metadata": null,
       "_model_module": "jupyter-vuetify",
       "_model_module_version": "^1.8.5",
       "_model_name": "ColModel",
       "_view_count": null,
       "_view_module": "jupyter-vuetify",
       "_view_module_version": "^1.8.5",
       "_view_name": "VuetifyView",
       "align_self": null,
       "attributes": {},
       "children": [
        "IPY_MODEL_cc2b52f72315428987ed230f1d32f49c"
       ],
       "class_": null,
       "cols": 12.0,
       "layout": null,
       "lg": null,
       "md": null,
       "offset": null,
       "offset_lg": null,
       "offset_md": null,
       "offset_sm": null,
       "offset_xl": null,
       "order": null,
       "order_lg": null,
       "order_md": null,
       "order_sm": null,
       "order_xl": null,
       "slot": null,
       "sm": null,
       "style_": null,
       "tabbable": null,
       "tag": null,
       "tooltip": null,
       "v_model": "!!disabled!!",
       "v_on": null,
       "v_slots": [],
       "xl": null
      }
     },
     "9353273176ad4172a38cd3742df195ac": {
      "model_module": "jupyter-vuetify",
      "model_module_version": "^1.8.5",
      "model_name": "BtnModel",
      "state": {
       "_dom_classes": [],
       "_events": [
        "click"
       ],
       "_jupyter_vue": "IPY_MODEL_108e699e5c8a45568c18e61742e668a2",
       "_metadata": null,
       "_model_module": "jupyter-vuetify",
       "_model_module_version": "^1.8.5",
       "_model_name": "BtnModel",
       "_view_count": null,
       "_view_module": "jupyter-vuetify",
       "_view_module_version": "^1.8.5",
       "_view_name": "VuetifyView",
       "absolute": null,
       "active_class": null,
       "append": null,
       "attributes": {},
       "block": null,
       "bottom": null,
       "children": [
        "IPY_MODEL_07ac0bb9782f428c810a04e679931b80",
        "Download: votes_dow.pdf"
       ],
       "class_": "",
       "color": null,
       "dark": null,
       "depressed": null,
       "disabled": false,
       "elevation": null,
       "exact": null,
       "exact_active_class": null,
       "fab": null,
       "fixed": null,
       "height": null,
       "href": null,
       "icon": null,
       "input_value": null,
       "large": null,
       "layout": null,
       "left": null,
       "light": null,
       "link": null,
       "loading": false,
       "max_height": null,
       "max_width": null,
       "min_height": null,
       "min_width": null,
       "nuxt": null,
       "outlined": false,
       "replace": null,
       "retain_focus_on_click": null,
       "right": null,
       "ripple": null,
       "rounded": null,
       "slot": null,
       "small": null,
       "style_": "",
       "tabbable": null,
       "tag": null,
       "target": null,
       "text": false,
       "tile": null,
       "to": null,
       "tooltip": null,
       "top": null,
       "type": null,
       "v_model": "!!disabled!!",
       "v_on": null,
       "v_slots": [],
       "value": null,
       "width": null,
       "x_large": null,
       "x_small": null
      }
     },
     "9dfe906250f745d3a1ac264b5889f82c": {
      "model_module": "jupyter-vuetify",
      "model_module_version": "^1.9.4",
      "model_name": "HtmlModel",
      "state": {
       "_dom_classes": [],
       "_events": [],
       "_jupyter_vue": "IPY_MODEL_108e699e5c8a45568c18e61742e668a2",
       "_model_module": "jupyter-vuetify",
       "_model_module_version": "^1.9.4",
       "_model_name": "HtmlModel",
       "_view_count": null,
       "_view_module": "jupyter-vuetify",
       "_view_module_version": "^1.9.4",
       "_view_name": "VuetifyView",
       "attributes": {},
       "children": [
        "IPY_MODEL_adeed39c9a36480e943dea13310baf74"
       ],
       "class_": null,
       "layout": null,
       "slot": null,
       "style_": null,
       "tabbable": null,
       "tag": "div",
       "tooltip": null,
       "v_model": "!!disabled!!",
       "v_on": null,
       "v_slots": []
      }
     },
     "a27613381d714c70b5d3f5c0524ff7b5": {
      "model_module": "@jupyter-widgets/controls",
      "model_module_version": "2.0.0",
      "model_name": "VBoxModel",
      "state": {
       "_dom_classes": [],
       "_model_module": "@jupyter-widgets/controls",
       "_model_module_version": "2.0.0",
       "_model_name": "VBoxModel",
       "_view_count": 0,
       "_view_module": "@jupyter-widgets/controls",
       "_view_module_version": "2.0.0",
       "_view_name": "VBoxView",
       "box_style": "",
       "children": [
        "IPY_MODEL_75bfc6cd5d7e48bfa7bae8ce17739ea0"
       ],
       "layout": "IPY_MODEL_1475849d99854c519c58061615b90d53",
       "tabbable": null,
       "tooltip": null
      }
     },
     "a4313349f5a4410e80046b94fc854bd9": {
      "model_module": "jupyter-vuetify",
      "model_module_version": "^1.8.5",
      "model_name": "BtnModel",
      "state": {
       "_dom_classes": [],
       "_events": [
        "click"
       ],
       "_jupyter_vue": "IPY_MODEL_108e699e5c8a45568c18e61742e668a2",
       "_metadata": null,
       "_model_module": "jupyter-vuetify",
       "_model_module_version": "^1.8.5",
       "_model_name": "BtnModel",
       "_view_count": null,
       "_view_module": "jupyter-vuetify",
       "_view_module_version": "^1.8.5",
       "_view_name": "VuetifyView",
       "absolute": null,
       "active_class": null,
       "append": null,
       "attributes": {},
       "block": null,
       "bottom": null,
       "children": [
        "IPY_MODEL_bf7151593bd541dd91ea3bfa372eb53c",
        "Download: ecdf-vpv.pdf"
       ],
       "class_": "",
       "color": null,
       "dark": null,
       "depressed": null,
       "disabled": false,
       "elevation": null,
       "exact": null,
       "exact_active_class": null,
       "fab": null,
       "fixed": null,
       "height": null,
       "href": null,
       "icon": null,
       "input_value": null,
       "large": null,
       "layout": null,
       "left": null,
       "light": null,
       "link": null,
       "loading": false,
       "max_height": null,
       "max_width": null,
       "min_height": null,
       "min_width": null,
       "nuxt": null,
       "outlined": false,
       "replace": null,
       "retain_focus_on_click": null,
       "right": null,
       "ripple": null,
       "rounded": null,
       "slot": null,
       "small": null,
       "style_": "",
       "tabbable": null,
       "tag": null,
       "target": null,
       "text": false,
       "tile": null,
       "to": null,
       "tooltip": null,
       "top": null,
       "type": null,
       "v_model": "!!disabled!!",
       "v_on": null,
       "v_slots": [],
       "value": null,
       "width": null,
       "x_large": null,
       "x_small": null
      }
     },
     "adeed39c9a36480e943dea13310baf74": {
      "model_module": "jupyter-vuetify",
      "model_module_version": "^1.8.5",
      "model_name": "RowModel",
      "state": {
       "_dom_classes": [],
       "_events": [],
       "_jupyter_vue": "IPY_MODEL_108e699e5c8a45568c18e61742e668a2",
       "_metadata": null,
       "_model_module": "jupyter-vuetify",
       "_model_module_version": "^1.8.5",
       "_model_name": "RowModel",
       "_view_count": null,
       "_view_module": "jupyter-vuetify",
       "_view_module_version": "^1.8.5",
       "_view_name": "VuetifyView",
       "align": null,
       "align_content": null,
       "align_content_lg": null,
       "align_content_md": null,
       "align_content_sm": null,
       "align_content_xl": null,
       "align_lg": null,
       "align_md": null,
       "align_sm": null,
       "align_xl": null,
       "attributes": {},
       "children": [
        "IPY_MODEL_d098603c5ae64d3a9b1ff910aa6b234e"
       ],
       "class_": "solara-content-main",
       "dense": null,
       "justify": null,
       "justify_lg": null,
       "justify_md": null,
       "justify_sm": null,
       "justify_xl": null,
       "layout": null,
       "no_gutters": false,
       "slot": null,
       "style_": null,
       "tabbable": null,
       "tag": null,
       "tooltip": null,
       "v_model": "!!disabled!!",
       "v_on": null,
       "v_slots": []
      }
     },
     "bf7151593bd541dd91ea3bfa372eb53c": {
      "model_module": "jupyter-vuetify",
      "model_module_version": "^1.8.5",
      "model_name": "IconModel",
      "state": {
       "_dom_classes": [],
       "_events": [],
       "_jupyter_vue": "IPY_MODEL_108e699e5c8a45568c18e61742e668a2",
       "_metadata": null,
       "_model_module": "jupyter-vuetify",
       "_model_module_version": "^1.8.5",
       "_model_name": "IconModel",
       "_view_count": null,
       "_view_module": "jupyter-vuetify",
       "_view_module_version": "^1.8.5",
       "_view_name": "VuetifyView",
       "attributes": {},
       "children": [
        "mdi-cloud-download-outline"
       ],
       "class_": null,
       "color": null,
       "dark": null,
       "dense": null,
       "disabled": null,
       "large": null,
       "layout": null,
       "left": true,
       "light": null,
       "right": null,
       "size": null,
       "slot": null,
       "small": null,
       "style_": null,
       "tabbable": null,
       "tag": null,
       "tooltip": null,
       "v_model": "!!disabled!!",
       "v_on": null,
       "v_slots": [],
       "x_large": null,
       "x_small": null
      }
     },
     "bf8a35c44d9a4192b23c6ea55ddb635a": {
      "model_module": "@jupyter-widgets/controls",
      "model_module_version": "2.0.0",
      "model_name": "VBoxModel",
      "state": {
       "_dom_classes": [],
       "_model_module": "@jupyter-widgets/controls",
       "_model_module_version": "2.0.0",
       "_model_name": "VBoxModel",
       "_view_count": 0,
       "_view_module": "@jupyter-widgets/controls",
       "_view_module_version": "2.0.0",
       "_view_name": "VBoxView",
       "box_style": "",
       "children": [
        "IPY_MODEL_42510c72f5314da7aa76c0b379543213"
       ],
       "layout": "IPY_MODEL_2b1282d78f21441fb7919e118f33e915",
       "tabbable": null,
       "tooltip": null
      }
     },
     "c61cd8115211436888c9f5be7f735694": {
      "model_module": "jupyter-vuetify",
      "model_module_version": "^1.9.4",
      "model_name": "HtmlModel",
      "state": {
       "_dom_classes": [],
       "_events": [],
       "_jupyter_vue": "IPY_MODEL_108e699e5c8a45568c18e61742e668a2",
       "_model_module": "jupyter-vuetify",
       "_model_module_version": "^1.9.4",
       "_model_name": "HtmlModel",
       "_view_count": null,
       "_view_module": "jupyter-vuetify",
       "_view_module_version": "^1.9.4",
       "_view_name": "VuetifyView",
       "attributes": {},
       "children": [
        "IPY_MODEL_07e1090fa66645239d6522c4566297ff"
       ],
       "class_": null,
       "layout": null,
       "slot": null,
       "style_": null,
       "tabbable": null,
       "tag": "div",
       "tooltip": null,
       "v_model": "!!disabled!!",
       "v_on": null,
       "v_slots": []
      }
     },
     "c865904a68c24013a80428944f23861e": {
      "model_module": "jupyter-vuetify",
      "model_module_version": "^1.8.5",
      "model_name": "IconModel",
      "state": {
       "_dom_classes": [],
       "_events": [],
       "_jupyter_vue": "IPY_MODEL_108e699e5c8a45568c18e61742e668a2",
       "_metadata": null,
       "_model_module": "jupyter-vuetify",
       "_model_module_version": "^1.8.5",
       "_model_name": "IconModel",
       "_view_count": null,
       "_view_module": "jupyter-vuetify",
       "_view_module_version": "^1.8.5",
       "_view_name": "VuetifyView",
       "attributes": {},
       "children": [
        "mdi-cloud-download-outline"
       ],
       "class_": null,
       "color": null,
       "dark": null,
       "dense": null,
       "disabled": null,
       "large": null,
       "layout": null,
       "left": true,
       "light": null,
       "right": null,
       "size": null,
       "slot": null,
       "small": null,
       "style_": null,
       "tabbable": null,
       "tag": null,
       "tooltip": null,
       "v_model": "!!disabled!!",
       "v_on": null,
       "v_slots": [],
       "x_large": null,
       "x_small": null
      }
     },
     "c8b07f84a69c4abeba0c071dbdaf8232": {
      "model_module": "@jupyter-widgets/base",
      "model_module_version": "2.0.0",
      "model_name": "LayoutModel",
      "state": {
       "_model_module": "@jupyter-widgets/base",
       "_model_module_version": "2.0.0",
       "_model_name": "LayoutModel",
       "_view_count": null,
       "_view_module": "@jupyter-widgets/base",
       "_view_module_version": "2.0.0",
       "_view_name": "LayoutView",
       "align_content": null,
       "align_items": null,
       "align_self": null,
       "border_bottom": null,
       "border_left": null,
       "border_right": null,
       "border_top": null,
       "bottom": null,
       "display": null,
       "flex": null,
       "flex_flow": null,
       "grid_area": null,
       "grid_auto_columns": null,
       "grid_auto_flow": null,
       "grid_auto_rows": null,
       "grid_column": null,
       "grid_gap": null,
       "grid_row": null,
       "grid_template_areas": null,
       "grid_template_columns": null,
       "grid_template_rows": null,
       "height": null,
       "justify_content": null,
       "justify_items": null,
       "left": null,
       "margin": null,
       "max_height": null,
       "max_width": null,
       "min_height": null,
       "min_width": null,
       "object_fit": null,
       "object_position": null,
       "order": null,
       "overflow": null,
       "padding": null,
       "right": null,
       "top": null,
       "visibility": null,
       "width": null
      }
     },
     "cb7ab4b55edd456da098be1f465a4acb": {
      "model_module": "jupyter-vuetify",
      "model_module_version": "^1.8.5",
      "model_name": "RowModel",
      "state": {
       "_dom_classes": [],
       "_events": [],
       "_jupyter_vue": "IPY_MODEL_108e699e5c8a45568c18e61742e668a2",
       "_metadata": null,
       "_model_module": "jupyter-vuetify",
       "_model_module_version": "^1.8.5",
       "_model_name": "RowModel",
       "_view_count": null,
       "_view_module": "jupyter-vuetify",
       "_view_module_version": "^1.8.5",
       "_view_name": "VuetifyView",
       "align": null,
       "align_content": null,
       "align_content_lg": null,
       "align_content_md": null,
       "align_content_sm": null,
       "align_content_xl": null,
       "align_lg": null,
       "align_md": null,
       "align_sm": null,
       "align_xl": null,
       "attributes": {},
       "children": [
        "IPY_MODEL_e5309dd7039448dfad8c235980450c06"
       ],
       "class_": "solara-content-main",
       "dense": null,
       "justify": null,
       "justify_lg": null,
       "justify_md": null,
       "justify_sm": null,
       "justify_xl": null,
       "layout": null,
       "no_gutters": false,
       "slot": null,
       "style_": null,
       "tabbable": null,
       "tag": null,
       "tooltip": null,
       "v_model": "!!disabled!!",
       "v_on": null,
       "v_slots": []
      }
     },
     "cc2b52f72315428987ed230f1d32f49c": {
      "model_module": "jupyter-vuetify",
      "model_module_version": "^1.9.4",
      "model_name": "VuetifyTemplateModel",
      "state": {
       "_component_instances": [],
       "_dom_classes": [],
       "_jupyter_vue": "IPY_MODEL_108e699e5c8a45568c18e61742e668a2",
       "_model_module": "jupyter-vuetify",
       "_model_module_version": "^1.9.4",
       "_model_name": "VuetifyTemplateModel",
       "_view_count": null,
       "_view_module": "jupyter-vuetify",
       "_view_module_version": "^1.9.4",
       "_view_name": "VuetifyView",
       "bytes": null,
       "children": [
        "IPY_MODEL_a4313349f5a4410e80046b94fc854bd9"
       ],
       "components": null,
       "css": null,
       "data": null,
       "events": [],
       "filename": "ecdf-vpv.pdf",
       "layout": "IPY_MODEL_7e82046f320d42d2900b753f99d58b02",
       "methods": null,
       "mime_type": "application/octet-stream",
       "request_download": false,
       "tabbable": null,
       "template": "IPY_MODEL_e41cf24504fc4ea5b6a1de0fce4ddee1",
       "tooltip": null
      }
     },
     "d07b5beb6a284b85b2e505a22a4396b3": {
      "model_module": "jupyter-vuetify",
      "model_module_version": "^1.8.5",
      "model_name": "BtnModel",
      "state": {
       "_dom_classes": [],
       "_events": [
        "click"
       ],
       "_jupyter_vue": "IPY_MODEL_108e699e5c8a45568c18e61742e668a2",
       "_metadata": null,
       "_model_module": "jupyter-vuetify",
       "_model_module_version": "^1.8.5",
       "_model_name": "BtnModel",
       "_view_count": null,
       "_view_module": "jupyter-vuetify",
       "_view_module_version": "^1.8.5",
       "_view_name": "VuetifyView",
       "absolute": null,
       "active_class": null,
       "append": null,
       "attributes": {},
       "block": null,
       "bottom": null,
       "children": [
        "IPY_MODEL_27db83c4ee1847c6afd70d92b8a89353",
        "Download: proposals_dow.pdf"
       ],
       "class_": "",
       "color": null,
       "dark": null,
       "depressed": null,
       "disabled": false,
       "elevation": null,
       "exact": null,
       "exact_active_class": null,
       "fab": null,
       "fixed": null,
       "height": null,
       "href": null,
       "icon": null,
       "input_value": null,
       "large": null,
       "layout": null,
       "left": null,
       "light": null,
       "link": null,
       "loading": false,
       "max_height": null,
       "max_width": null,
       "min_height": null,
       "min_width": null,
       "nuxt": null,
       "outlined": false,
       "replace": null,
       "retain_focus_on_click": null,
       "right": null,
       "ripple": null,
       "rounded": null,
       "slot": null,
       "small": null,
       "style_": "",
       "tabbable": null,
       "tag": null,
       "target": null,
       "text": false,
       "tile": null,
       "to": null,
       "tooltip": null,
       "top": null,
       "type": null,
       "v_model": "!!disabled!!",
       "v_on": null,
       "v_slots": [],
       "value": null,
       "width": null,
       "x_large": null,
       "x_small": null
      }
     },
     "d098603c5ae64d3a9b1ff910aa6b234e": {
      "model_module": "jupyter-vuetify",
      "model_module_version": "^1.8.5",
      "model_name": "ColModel",
      "state": {
       "_dom_classes": [],
       "_events": [],
       "_jupyter_vue": "IPY_MODEL_108e699e5c8a45568c18e61742e668a2",
       "_metadata": null,
       "_model_module": "jupyter-vuetify",
       "_model_module_version": "^1.8.5",
       "_model_name": "ColModel",
       "_view_count": null,
       "_view_module": "jupyter-vuetify",
       "_view_module_version": "^1.8.5",
       "_view_name": "VuetifyView",
       "align_self": null,
       "attributes": {},
       "children": [
        "IPY_MODEL_e1fda6f236794cabb6ff0abf8f8b5242"
       ],
       "class_": null,
       "cols": 12.0,
       "layout": null,
       "lg": null,
       "md": null,
       "offset": null,
       "offset_lg": null,
       "offset_md": null,
       "offset_sm": null,
       "offset_xl": null,
       "order": null,
       "order_lg": null,
       "order_md": null,
       "order_sm": null,
       "order_xl": null,
       "slot": null,
       "sm": null,
       "style_": null,
       "tabbable": null,
       "tag": null,
       "tooltip": null,
       "v_model": "!!disabled!!",
       "v_on": null,
       "v_slots": [],
       "xl": null
      }
     },
     "d96a36e9eda242c5a2c8d74cb7244507": {
      "model_module": "jupyter-vuetify",
      "model_module_version": "^1.9.4",
      "model_name": "VuetifyTemplateModel",
      "state": {
       "_component_instances": [],
       "_dom_classes": [],
       "_jupyter_vue": "IPY_MODEL_108e699e5c8a45568c18e61742e668a2",
       "_model_module": "jupyter-vuetify",
       "_model_module_version": "^1.9.4",
       "_model_name": "VuetifyTemplateModel",
       "_view_count": null,
       "_view_module": "jupyter-vuetify",
       "_view_module_version": "^1.9.4",
       "_view_name": "VuetifyView",
       "bytes": null,
       "children": [
        "IPY_MODEL_d07b5beb6a284b85b2e505a22a4396b3"
       ],
       "components": null,
       "css": null,
       "data": null,
       "events": [],
       "filename": "proposals_dow.pdf",
       "layout": "IPY_MODEL_20a5651a704846e6a50b19403cff16ef",
       "methods": null,
       "mime_type": "application/octet-stream",
       "request_download": false,
       "tabbable": null,
       "template": "IPY_MODEL_e41cf24504fc4ea5b6a1de0fce4ddee1",
       "tooltip": null
      }
     },
     "e1fda6f236794cabb6ff0abf8f8b5242": {
      "model_module": "jupyter-vuetify",
      "model_module_version": "^1.9.4",
      "model_name": "VuetifyTemplateModel",
      "state": {
       "_component_instances": [],
       "_dom_classes": [],
       "_jupyter_vue": "IPY_MODEL_108e699e5c8a45568c18e61742e668a2",
       "_model_module": "jupyter-vuetify",
       "_model_module_version": "^1.9.4",
       "_model_name": "VuetifyTemplateModel",
       "_view_count": null,
       "_view_module": "jupyter-vuetify",
       "_view_module_version": "^1.9.4",
       "_view_name": "VuetifyView",
       "bytes": null,
       "children": [
        "IPY_MODEL_36897d50fb694c11b4203008d4f93399"
       ],
       "components": null,
       "css": null,
       "data": null,
       "events": [],
       "filename": "ecdf-vpp.pdf",
       "layout": "IPY_MODEL_1d9bed0e1d3c40c89427b8b40c3f4649",
       "methods": null,
       "mime_type": "application/octet-stream",
       "request_download": false,
       "tabbable": null,
       "template": "IPY_MODEL_e41cf24504fc4ea5b6a1de0fce4ddee1",
       "tooltip": null
      }
     },
     "e3c24051a8f74bd9bc53bea5289da8b2": {
      "model_module": "jupyter-vuetify",
      "model_module_version": "^1.9.4",
      "model_name": "VuetifyTemplateModel",
      "state": {
       "_component_instances": [],
       "_dom_classes": [],
       "_jupyter_vue": "IPY_MODEL_108e699e5c8a45568c18e61742e668a2",
       "_model_module": "jupyter-vuetify",
       "_model_module_version": "^1.9.4",
       "_model_name": "VuetifyTemplateModel",
       "_view_count": null,
       "_view_module": "jupyter-vuetify",
       "_view_module_version": "^1.9.4",
       "_view_name": "VuetifyView",
       "bytes": null,
       "children": [
        "IPY_MODEL_9353273176ad4172a38cd3742df195ac"
       ],
       "components": null,
       "css": null,
       "data": null,
       "events": [],
       "filename": "votes_dow.pdf",
       "layout": "IPY_MODEL_5b6c83039d784aa49a990db4b681a13d",
       "methods": null,
       "mime_type": "application/octet-stream",
       "request_download": false,
       "tabbable": null,
       "template": "IPY_MODEL_e41cf24504fc4ea5b6a1de0fce4ddee1",
       "tooltip": null
      }
     },
     "e41cf24504fc4ea5b6a1de0fce4ddee1": {
      "model_module": "jupyter-vue",
      "model_module_version": "^1.11.1",
      "model_name": "TemplateModel",
      "state": {
       "_model_module": "jupyter-vue",
       "_model_module_version": "^1.11.1",
       "_model_name": "TemplateModel",
       "_view_count": null,
       "_view_module": null,
       "_view_module_version": "",
       "_view_name": null,
       "template": "<template>\n    <div @click=\"request_download = true\" class=\"solara-file-download-container\">\n        <jupyter-widget v-for=\"child in children\" :key=\"child\" :widget=\"child\"></jupyter-widget>\n    </div>\n</template>\n\n<script>\nmodule.exports = {\n    watch: {\n        bytes(value) {\n            if (this.request_download) {\n                const a = document.createElement('a');\n                a.download = this.filename;\n                const blob = new Blob([this.bytes], { type: this.mime_type });\n                const blobUrl = window.URL.createObjectURL(blob);\n                a.href = blobUrl;\n                document.body.appendChild(a);\n                a.click();\n                document.body.removeChild(a);\n                setTimeout(() => {\n                    // Make sure we clean up\n                    window.URL.revokeObjectURL(blobUrl);\n                }, 1000);\n                this.request_download = false;\n            }\n        }\n    }\n}\n</script>\n\n<style id=\"solara-file-download\">\n.solara-file-download-container {\n    cursor: pointer;\n}\n</style>\n"
      }
     },
     "e5309dd7039448dfad8c235980450c06": {
      "model_module": "jupyter-vuetify",
      "model_module_version": "^1.8.5",
      "model_name": "ColModel",
      "state": {
       "_dom_classes": [],
       "_events": [],
       "_jupyter_vue": "IPY_MODEL_108e699e5c8a45568c18e61742e668a2",
       "_metadata": null,
       "_model_module": "jupyter-vuetify",
       "_model_module_version": "^1.8.5",
       "_model_name": "ColModel",
       "_view_count": null,
       "_view_module": "jupyter-vuetify",
       "_view_module_version": "^1.8.5",
       "_view_name": "VuetifyView",
       "align_self": null,
       "attributes": {},
       "children": [
        "IPY_MODEL_5763004b2fa64509b5134abcefe4db27"
       ],
       "class_": null,
       "cols": 12.0,
       "layout": null,
       "lg": null,
       "md": null,
       "offset": null,
       "offset_lg": null,
       "offset_md": null,
       "offset_sm": null,
       "offset_xl": null,
       "order": null,
       "order_lg": null,
       "order_md": null,
       "order_sm": null,
       "order_xl": null,
       "slot": null,
       "sm": null,
       "style_": null,
       "tabbable": null,
       "tag": null,
       "tooltip": null,
       "v_model": "!!disabled!!",
       "v_on": null,
       "v_slots": [],
       "xl": null
      }
     },
     "e5f7a6b7a9394a3daf5e689a3841b690": {
      "model_module": "@jupyter-widgets/base",
      "model_module_version": "2.0.0",
      "model_name": "LayoutModel",
      "state": {
       "_model_module": "@jupyter-widgets/base",
       "_model_module_version": "2.0.0",
       "_model_name": "LayoutModel",
       "_view_count": null,
       "_view_module": "@jupyter-widgets/base",
       "_view_module_version": "2.0.0",
       "_view_name": "LayoutView",
       "align_content": null,
       "align_items": null,
       "align_self": null,
       "border_bottom": null,
       "border_left": null,
       "border_right": null,
       "border_top": null,
       "bottom": null,
       "display": null,
       "flex": null,
       "flex_flow": null,
       "grid_area": null,
       "grid_auto_columns": null,
       "grid_auto_flow": null,
       "grid_auto_rows": null,
       "grid_column": null,
       "grid_gap": null,
       "grid_row": null,
       "grid_template_areas": null,
       "grid_template_columns": null,
       "grid_template_rows": null,
       "height": null,
       "justify_content": null,
       "justify_items": null,
       "left": null,
       "margin": null,
       "max_height": null,
       "max_width": null,
       "min_height": null,
       "min_width": null,
       "object_fit": null,
       "object_position": null,
       "order": null,
       "overflow": null,
       "padding": null,
       "right": null,
       "top": null,
       "visibility": null,
       "width": null
      }
     },
     "f97c73f673bc404bab3be3d38468cf4d": {
      "model_module": "jupyter-vuetify",
      "model_module_version": "^1.8.5",
      "model_name": "RowModel",
      "state": {
       "_dom_classes": [],
       "_events": [],
       "_jupyter_vue": "IPY_MODEL_108e699e5c8a45568c18e61742e668a2",
       "_metadata": null,
       "_model_module": "jupyter-vuetify",
       "_model_module_version": "^1.8.5",
       "_model_name": "RowModel",
       "_view_count": null,
       "_view_module": "jupyter-vuetify",
       "_view_module_version": "^1.8.5",
       "_view_name": "VuetifyView",
       "align": null,
       "align_content": null,
       "align_content_lg": null,
       "align_content_md": null,
       "align_content_sm": null,
       "align_content_xl": null,
       "align_lg": null,
       "align_md": null,
       "align_sm": null,
       "align_xl": null,
       "attributes": {},
       "children": [
        "IPY_MODEL_84dd7df7c98b4b7f978ef23f61e816fe"
       ],
       "class_": "solara-content-main",
       "dense": null,
       "justify": null,
       "justify_lg": null,
       "justify_md": null,
       "justify_sm": null,
       "justify_xl": null,
       "layout": null,
       "no_gutters": false,
       "slot": null,
       "style_": null,
       "tabbable": null,
       "tag": null,
       "tooltip": null,
       "v_model": "!!disabled!!",
       "v_on": null,
       "v_slots": []
      }
     },
     "fb33bd91a6cb44d1902ee65a4c534554": {
      "model_module": "@jupyter-widgets/controls",
      "model_module_version": "2.0.0",
      "model_name": "VBoxModel",
      "state": {
       "_dom_classes": [],
       "_model_module": "@jupyter-widgets/controls",
       "_model_module_version": "2.0.0",
       "_model_name": "VBoxModel",
       "_view_count": 0,
       "_view_module": "@jupyter-widgets/controls",
       "_view_module_version": "2.0.0",
       "_view_name": "VBoxView",
       "box_style": "",
       "children": [
        "IPY_MODEL_9dfe906250f745d3a1ac264b5889f82c"
       ],
       "layout": "IPY_MODEL_c8b07f84a69c4abeba0c071dbdaf8232",
       "tabbable": null,
       "tooltip": null
      }
     }
    },
    "version_major": 2,
    "version_minor": 0
   }
  }
 },
 "nbformat": 4,
 "nbformat_minor": 5
}