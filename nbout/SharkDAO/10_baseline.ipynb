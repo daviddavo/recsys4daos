{
 "cells": [
  {
   "cell_type": "code",
   "execution_count": 1,
   "id": "535a3164",
   "metadata": {
    "execution": {
     "iopub.execute_input": "2024-09-05T10:15:57.939330Z",
     "iopub.status.busy": "2024-09-05T10:15:57.939245Z",
     "iopub.status.idle": "2024-09-05T10:16:00.600150Z",
     "shell.execute_reply": "2024-09-05T10:16:00.599792Z"
    },
    "papermill": {
     "duration": 2.66835,
     "end_time": "2024-09-05T10:16:00.600975",
     "exception": false,
     "start_time": "2024-09-05T10:15:57.932625",
     "status": "completed"
    },
    "tags": []
   },
   "outputs": [
    {
     "name": "stderr",
     "output_type": "stream",
     "text": [
      "/tmp/ipykernel_3830884/2526015065.py:7: TqdmExperimentalWarning: Using `tqdm.autonotebook.tqdm` in notebook mode. Use `tqdm.tqdm` instead to force console mode (e.g. in jupyter console)\n",
      "  from tqdm.autonotebook import tqdm\n"
     ]
    },
    {
     "name": "stdout",
     "output_type": "stream",
     "text": [
      "Ignoring warnings\n"
     ]
    }
   ],
   "source": [
    "from typing import List\n",
    "import sys\n",
    "from collections import defaultdict\n",
    "\n",
    "import pandas as pd\n",
    "import numpy as np\n",
    "from tqdm.autonotebook import tqdm\n",
    "\n",
    "from recsys4daos.models import OpenPop\n",
    "from recsys4daos.datasets import to_microsoft\n",
    "from recsys4daos.model_selection import cvtt_open\n",
    "from recsys4daos.evaluation import calculate_all_metrics\n",
    "\n",
    "import paths\n",
    "\n",
    "import recommenders\n",
    "if recommenders.__version__ == '1.2.0':\n",
    "    print(\"Ignoring warnings\")\n",
    "    import warnings\n",
    "    warnings.simplefilter(action='ignore', category=FutureWarning)"
   ]
  },
  {
   "cell_type": "code",
   "execution_count": 2,
   "id": "a300cd38",
   "metadata": {
    "editable": true,
    "execution": {
     "iopub.execute_input": "2024-09-05T10:16:00.605842Z",
     "iopub.status.busy": "2024-09-05T10:16:00.605634Z",
     "iopub.status.idle": "2024-09-05T10:16:00.607688Z",
     "shell.execute_reply": "2024-09-05T10:16:00.607486Z"
    },
    "papermill": {
     "duration": 0.005115,
     "end_time": "2024-09-05T10:16:00.608309",
     "exception": false,
     "start_time": "2024-09-05T10:16:00.603194",
     "status": "completed"
    },
    "slideshow": {
     "slide_type": ""
    },
    "tags": [
     "parameters"
    ]
   },
   "outputs": [],
   "source": [
    "SPLITS_FREQ = \"W-THU\"\n",
    "SPLITS_NORMALIZE = True\n",
    "ORG_NAME = 'Decentraland'\n",
    "LAST_FOLD_DATE_STR: str = None # Won't use it, we will just calculate for every fold\n",
    "\n",
    "# In this notebook this is just used for plotting and description, not \"training\"\n",
    "# every fold is saved into the results table\n",
    "LAST_FOLDS = 10\n",
    "\n",
    "K_RECOMMENDATIONS: List[int] = [1,3,5,10,15,100]"
   ]
  },
  {
   "cell_type": "code",
   "execution_count": 3,
   "id": "d54031bc",
   "metadata": {
    "execution": {
     "iopub.execute_input": "2024-09-05T10:16:00.612247Z",
     "iopub.status.busy": "2024-09-05T10:16:00.612125Z",
     "iopub.status.idle": "2024-09-05T10:16:00.613688Z",
     "shell.execute_reply": "2024-09-05T10:16:00.613501Z"
    },
    "papermill": {
     "duration": 0.004317,
     "end_time": "2024-09-05T10:16:00.614279",
     "exception": false,
     "start_time": "2024-09-05T10:16:00.609962",
     "status": "completed"
    },
    "tags": [
     "injected-parameters"
    ]
   },
   "outputs": [],
   "source": [
    "# Parameters\n",
    "EXECUTION_ID = \"2024-09-04T10:00\"\n",
    "ORG_NAME = \"SharkDAO\"\n",
    "SPLITS_FREQ = \"3d\"\n",
    "LAST_FOLDS = 10\n",
    "SPLITS_NORMALIZE = True\n",
    "LAST_FOLD_DATE_STR = \"2022-04-27\"\n"
   ]
  },
  {
   "cell_type": "markdown",
   "id": "7e03e060",
   "metadata": {
    "papermill": {
     "duration": 0.001623,
     "end_time": "2024-09-05T10:16:00.617540",
     "exception": false,
     "start_time": "2024-09-05T10:16:00.615917",
     "status": "completed"
    },
    "tags": []
   },
   "source": [
    "## Obtain dataset"
   ]
  },
  {
   "cell_type": "code",
   "execution_count": 4,
   "id": "7d81da38",
   "metadata": {
    "execution": {
     "iopub.execute_input": "2024-09-05T10:16:00.621281Z",
     "iopub.status.busy": "2024-09-05T10:16:00.621189Z",
     "iopub.status.idle": "2024-09-05T10:16:00.745830Z",
     "shell.execute_reply": "2024-09-05T10:16:00.743493Z"
    },
    "papermill": {
     "duration": 0.13063,
     "end_time": "2024-09-05T10:16:00.749808",
     "exception": false,
     "start_time": "2024-09-05T10:16:00.619178",
     "status": "completed"
    },
    "tags": []
   },
   "outputs": [
    {
     "name": "stdout",
     "output_type": "stream",
     "text": [
      "/home/daviddavo/recsys4daos/notebooks\r\n"
     ]
    }
   ],
   "source": [
    "!pwd"
   ]
  },
  {
   "cell_type": "code",
   "execution_count": 5,
   "id": "16c1d42f",
   "metadata": {
    "execution": {
     "iopub.execute_input": "2024-09-05T10:16:00.768751Z",
     "iopub.status.busy": "2024-09-05T10:16:00.768502Z",
     "iopub.status.idle": "2024-09-05T10:16:00.891615Z",
     "shell.execute_reply": "2024-09-05T10:16:00.889265Z"
    },
    "papermill": {
     "duration": 0.134949,
     "end_time": "2024-09-05T10:16:00.895594",
     "exception": false,
     "start_time": "2024-09-05T10:16:00.760645",
     "status": "completed"
    },
    "tags": []
   },
   "outputs": [
    {
     "name": "stdout",
     "output_type": "stream",
     "text": [
      "md5sum: '../data/decentraland/*': No such file or directory\r\n"
     ]
    }
   ],
   "source": [
    "!md5sum ../data/decentraland/*"
   ]
  },
  {
   "cell_type": "code",
   "execution_count": 6,
   "id": "9d39f173",
   "metadata": {
    "execution": {
     "iopub.execute_input": "2024-09-05T10:16:00.905323Z",
     "iopub.status.busy": "2024-09-05T10:16:00.904952Z",
     "iopub.status.idle": "2024-09-05T10:16:00.961532Z",
     "shell.execute_reply": "2024-09-05T10:16:00.961283Z"
    },
    "papermill": {
     "duration": 0.060586,
     "end_time": "2024-09-05T10:16:00.962343",
     "exception": false,
     "start_time": "2024-09-05T10:16:00.901757",
     "status": "completed"
    },
    "tags": []
   },
   "outputs": [
    {
     "name": "stdout",
     "output_type": "stream",
     "text": [
      "<class 'pandas.core.frame.DataFrame'>\n",
      "RangeIndex: 471 entries, 0 to 470\n",
      "Data columns (total 6 columns):\n",
      " #   Column             Non-Null Count  Dtype         \n",
      "---  ------             --------------  -----         \n",
      " 0   id                 471 non-null    object        \n",
      " 1   author             471 non-null    object        \n",
      " 2   date               471 non-null    datetime64[us]\n",
      " 3   start              471 non-null    datetime64[us]\n",
      " 4   end                471 non-null    datetime64[us]\n",
      " 5   platform_proposal  471 non-null    object        \n",
      "dtypes: datetime64[us](3), object(3)\n",
      "memory usage: 22.2+ KB\n",
      "None\n",
      "<class 'pandas.core.frame.DataFrame'>\n",
      "RangeIndex: 7577 entries, 0 to 7576\n",
      "Data columns (total 4 columns):\n",
      " #   Column    Non-Null Count  Dtype         \n",
      "---  ------    --------------  -----         \n",
      " 0   id        7577 non-null   object        \n",
      " 1   proposal  7577 non-null   object        \n",
      " 2   voter     7577 non-null   object        \n",
      " 3   date      7577 non-null   datetime64[us]\n",
      "dtypes: datetime64[us](1), object(3)\n",
      "memory usage: 236.9+ KB\n",
      "None\n",
      "<class 'pandas.core.frame.DataFrame'>\n",
      "RangeIndex: 7577 entries, 0 to 7576\n",
      "Data columns (total 4 columns):\n",
      " #   Column     Non-Null Count  Dtype         \n",
      "---  ------     --------------  -----         \n",
      " 0   userID     7577 non-null   object        \n",
      " 1   itemID     7577 non-null   object        \n",
      " 2   timestamp  7577 non-null   datetime64[us]\n",
      " 3   rating     7577 non-null   int64         \n",
      "dtypes: datetime64[us](1), int64(1), object(2)\n",
      "memory usage: 236.9+ KB\n",
      "None\n"
     ]
    }
   ],
   "source": [
    "dfp = paths.load_proposals(ORG_NAME)\n",
    "dfv = paths.load_votes(ORG_NAME)\n",
    "\n",
    "df = to_microsoft(dfv)\n",
    "\n",
    "print(dfp.info())\n",
    "print(dfv.info())\n",
    "print(df.info())"
   ]
  },
  {
   "cell_type": "markdown",
   "id": "ca8464a0",
   "metadata": {
    "papermill": {
     "duration": 0.002158,
     "end_time": "2024-09-05T10:16:00.966844",
     "exception": false,
     "start_time": "2024-09-05T10:16:00.964686",
     "status": "completed"
    },
    "tags": []
   },
   "source": [
    "## Showing some info of the folds"
   ]
  },
  {
   "cell_type": "code",
   "execution_count": 7,
   "id": "1dc4bda7",
   "metadata": {
    "execution": {
     "iopub.execute_input": "2024-09-05T10:16:00.971321Z",
     "iopub.status.busy": "2024-09-05T10:16:00.971218Z",
     "iopub.status.idle": "2024-09-05T10:16:01.739340Z",
     "shell.execute_reply": "2024-09-05T10:16:01.739139Z"
    },
    "papermill": {
     "duration": 0.771406,
     "end_time": "2024-09-05T10:16:01.740066",
     "exception": false,
     "start_time": "2024-09-05T10:16:00.968660",
     "status": "completed"
    },
    "tags": []
   },
   "outputs": [
    {
     "name": "stdout",
     "output_type": "stream",
     "text": [
      "Saved dataframe into /home/daviddavo/recsys4daos/data/output/SharkDAO/baseline/folds-info_3d_normalize.parquet\n",
      "fold\n",
      "2023-06-21    7374\n",
      "2023-06-24    7390\n",
      "2023-06-27    7397\n",
      "2023-06-30    7399\n",
      "2023-07-03    7423\n",
      "2023-07-06    7458\n",
      "2023-07-09    7497\n",
      "2023-07-12    7516\n",
      "2023-07-15    7534\n",
      "2023-07-18    7561\n",
      "Name: votes in train, dtype: int64\n"
     ]
    },
    {
     "data": {
      "text/html": [
       "<style type=\"text/css\">\n",
       "</style>\n",
       "<table id=\"T_2ed22\">\n",
       "  <thead>\n",
       "    <tr>\n",
       "      <th class=\"blank level0\" >&nbsp;</th>\n",
       "      <th id=\"T_2ed22_level0_col0\" class=\"col_heading level0 col0\" >open proposals</th>\n",
       "      <th id=\"T_2ed22_level0_col1\" class=\"col_heading level0 col1\" >votes in open proposals (train)</th>\n",
       "      <th id=\"T_2ed22_level0_col2\" class=\"col_heading level0 col2\" >users in open proposals (train)</th>\n",
       "      <th id=\"T_2ed22_level0_col3\" class=\"col_heading level0 col3\" >vpp in open proposals (train)</th>\n",
       "      <th id=\"T_2ed22_level0_col4\" class=\"col_heading level0 col4\" >vpu in open proposals (train)</th>\n",
       "      <th id=\"T_2ed22_level0_col5\" class=\"col_heading level0 col5\" >votes in test</th>\n",
       "      <th id=\"T_2ed22_level0_col6\" class=\"col_heading level0 col6\" >users in test</th>\n",
       "      <th id=\"T_2ed22_level0_col7\" class=\"col_heading level0 col7\" >vpp test</th>\n",
       "      <th id=\"T_2ed22_level0_col8\" class=\"col_heading level0 col8\" >vpu test</th>\n",
       "    </tr>\n",
       "    <tr>\n",
       "      <th class=\"index_name level0\" >fold</th>\n",
       "      <th class=\"blank col0\" >&nbsp;</th>\n",
       "      <th class=\"blank col1\" >&nbsp;</th>\n",
       "      <th class=\"blank col2\" >&nbsp;</th>\n",
       "      <th class=\"blank col3\" >&nbsp;</th>\n",
       "      <th class=\"blank col4\" >&nbsp;</th>\n",
       "      <th class=\"blank col5\" >&nbsp;</th>\n",
       "      <th class=\"blank col6\" >&nbsp;</th>\n",
       "      <th class=\"blank col7\" >&nbsp;</th>\n",
       "      <th class=\"blank col8\" >&nbsp;</th>\n",
       "    </tr>\n",
       "  </thead>\n",
       "  <tbody>\n",
       "    <tr>\n",
       "      <th id=\"T_2ed22_level0_row0\" class=\"row_heading level0 row0\" >2023-W25</th>\n",
       "      <td id=\"T_2ed22_row0_col0\" class=\"data row0 col0\" >5</td>\n",
       "      <td id=\"T_2ed22_row0_col1\" class=\"data row0 col1\" >3</td>\n",
       "      <td id=\"T_2ed22_row0_col2\" class=\"data row0 col2\" >1</td>\n",
       "      <td id=\"T_2ed22_row0_col3\" class=\"data row0 col3\" >0.60</td>\n",
       "      <td id=\"T_2ed22_row0_col4\" class=\"data row0 col4\" >3.00</td>\n",
       "      <td id=\"T_2ed22_row0_col5\" class=\"data row0 col5\" >10</td>\n",
       "      <td id=\"T_2ed22_row0_col6\" class=\"data row0 col6\" >6</td>\n",
       "      <td id=\"T_2ed22_row0_col7\" class=\"data row0 col7\" >2.00</td>\n",
       "      <td id=\"T_2ed22_row0_col8\" class=\"data row0 col8\" >1.67</td>\n",
       "    </tr>\n",
       "    <tr>\n",
       "      <th id=\"T_2ed22_level0_row1\" class=\"row_heading level0 row1\" >2023-W25</th>\n",
       "      <td id=\"T_2ed22_row1_col0\" class=\"data row1 col0\" >6</td>\n",
       "      <td id=\"T_2ed22_row1_col1\" class=\"data row1 col1\" >14</td>\n",
       "      <td id=\"T_2ed22_row1_col2\" class=\"data row1 col2\" >4</td>\n",
       "      <td id=\"T_2ed22_row1_col3\" class=\"data row1 col3\" >2.33</td>\n",
       "      <td id=\"T_2ed22_row1_col4\" class=\"data row1 col4\" >3.50</td>\n",
       "      <td id=\"T_2ed22_row1_col5\" class=\"data row1 col5\" >12</td>\n",
       "      <td id=\"T_2ed22_row1_col6\" class=\"data row1 col6\" >7</td>\n",
       "      <td id=\"T_2ed22_row1_col7\" class=\"data row1 col7\" >2.00</td>\n",
       "      <td id=\"T_2ed22_row1_col8\" class=\"data row1 col8\" >1.71</td>\n",
       "    </tr>\n",
       "    <tr>\n",
       "      <th id=\"T_2ed22_level0_row2\" class=\"row_heading level0 row2\" >2023-W26</th>\n",
       "      <td id=\"T_2ed22_row2_col0\" class=\"data row2 col0\" >5</td>\n",
       "      <td id=\"T_2ed22_row2_col1\" class=\"data row2 col1\" >17</td>\n",
       "      <td id=\"T_2ed22_row2_col2\" class=\"data row2 col2\" >4</td>\n",
       "      <td id=\"T_2ed22_row2_col3\" class=\"data row2 col3\" >3.40</td>\n",
       "      <td id=\"T_2ed22_row2_col4\" class=\"data row2 col4\" >4.25</td>\n",
       "      <td id=\"T_2ed22_row2_col5\" class=\"data row2 col5\" >5</td>\n",
       "      <td id=\"T_2ed22_row2_col6\" class=\"data row2 col6\" >5</td>\n",
       "      <td id=\"T_2ed22_row2_col7\" class=\"data row2 col7\" >1.00</td>\n",
       "      <td id=\"T_2ed22_row2_col8\" class=\"data row2 col8\" >1.00</td>\n",
       "    </tr>\n",
       "    <tr>\n",
       "      <th id=\"T_2ed22_level0_row3\" class=\"row_heading level0 row3\" >2023-W26</th>\n",
       "      <td id=\"T_2ed22_row3_col0\" class=\"data row3 col0\" >4</td>\n",
       "      <td id=\"T_2ed22_row3_col1\" class=\"data row3 col1\" >10</td>\n",
       "      <td id=\"T_2ed22_row3_col2\" class=\"data row3 col2\" >5</td>\n",
       "      <td id=\"T_2ed22_row3_col3\" class=\"data row3 col3\" >2.50</td>\n",
       "      <td id=\"T_2ed22_row3_col4\" class=\"data row3 col4\" >2.00</td>\n",
       "      <td id=\"T_2ed22_row3_col5\" class=\"data row3 col5\" >24</td>\n",
       "      <td id=\"T_2ed22_row3_col6\" class=\"data row3 col6\" >15</td>\n",
       "      <td id=\"T_2ed22_row3_col7\" class=\"data row3 col7\" >6.00</td>\n",
       "      <td id=\"T_2ed22_row3_col8\" class=\"data row3 col8\" >1.60</td>\n",
       "    </tr>\n",
       "    <tr>\n",
       "      <th id=\"T_2ed22_level0_row4\" class=\"row_heading level0 row4\" >2023-W27</th>\n",
       "      <td id=\"T_2ed22_row4_col0\" class=\"data row4 col0\" >7</td>\n",
       "      <td id=\"T_2ed22_row4_col1\" class=\"data row4 col1\" >18</td>\n",
       "      <td id=\"T_2ed22_row4_col2\" class=\"data row4 col2\" >7</td>\n",
       "      <td id=\"T_2ed22_row4_col3\" class=\"data row4 col3\" >2.57</td>\n",
       "      <td id=\"T_2ed22_row4_col4\" class=\"data row4 col4\" >2.57</td>\n",
       "      <td id=\"T_2ed22_row4_col5\" class=\"data row4 col5\" >53</td>\n",
       "      <td id=\"T_2ed22_row4_col6\" class=\"data row4 col6\" >16</td>\n",
       "      <td id=\"T_2ed22_row4_col7\" class=\"data row4 col7\" >7.57</td>\n",
       "      <td id=\"T_2ed22_row4_col8\" class=\"data row4 col8\" >3.31</td>\n",
       "    </tr>\n",
       "    <tr>\n",
       "      <th id=\"T_2ed22_level0_row5\" class=\"row_heading level0 row5\" >2023-W27</th>\n",
       "      <td id=\"T_2ed22_row5_col0\" class=\"data row5 col0\" >8</td>\n",
       "      <td id=\"T_2ed22_row5_col1\" class=\"data row5 col1\" >44</td>\n",
       "      <td id=\"T_2ed22_row5_col2\" class=\"data row5 col2\" >14</td>\n",
       "      <td id=\"T_2ed22_row5_col3\" class=\"data row5 col3\" >5.50</td>\n",
       "      <td id=\"T_2ed22_row5_col4\" class=\"data row5 col4\" >3.14</td>\n",
       "      <td id=\"T_2ed22_row5_col5\" class=\"data row5 col5\" >38</td>\n",
       "      <td id=\"T_2ed22_row5_col6\" class=\"data row5 col6\" >15</td>\n",
       "      <td id=\"T_2ed22_row5_col7\" class=\"data row5 col7\" >4.75</td>\n",
       "      <td id=\"T_2ed22_row5_col8\" class=\"data row5 col8\" >2.53</td>\n",
       "    </tr>\n",
       "    <tr>\n",
       "      <th id=\"T_2ed22_level0_row6\" class=\"row_heading level0 row6\" >2023-W27</th>\n",
       "      <td id=\"T_2ed22_row6_col0\" class=\"data row6 col0\" >6</td>\n",
       "      <td id=\"T_2ed22_row6_col1\" class=\"data row6 col1\" >31</td>\n",
       "      <td id=\"T_2ed22_row6_col2\" class=\"data row6 col2\" >17</td>\n",
       "      <td id=\"T_2ed22_row6_col3\" class=\"data row6 col3\" >5.17</td>\n",
       "      <td id=\"T_2ed22_row6_col4\" class=\"data row6 col4\" >1.82</td>\n",
       "      <td id=\"T_2ed22_row6_col5\" class=\"data row6 col5\" >34</td>\n",
       "      <td id=\"T_2ed22_row6_col6\" class=\"data row6 col6\" >25</td>\n",
       "      <td id=\"T_2ed22_row6_col7\" class=\"data row6 col7\" >5.67</td>\n",
       "      <td id=\"T_2ed22_row6_col8\" class=\"data row6 col8\" >1.36</td>\n",
       "    </tr>\n",
       "    <tr>\n",
       "      <th id=\"T_2ed22_level0_row7\" class=\"row_heading level0 row7\" >2023-W28</th>\n",
       "      <td id=\"T_2ed22_row7_col0\" class=\"data row7 col0\" >6</td>\n",
       "      <td id=\"T_2ed22_row7_col1\" class=\"data row7 col1\" >40</td>\n",
       "      <td id=\"T_2ed22_row7_col2\" class=\"data row7 col2\" >22</td>\n",
       "      <td id=\"T_2ed22_row7_col3\" class=\"data row7 col3\" >6.67</td>\n",
       "      <td id=\"T_2ed22_row7_col4\" class=\"data row7 col4\" >1.82</td>\n",
       "      <td id=\"T_2ed22_row7_col5\" class=\"data row7 col5\" >23</td>\n",
       "      <td id=\"T_2ed22_row7_col6\" class=\"data row7 col6\" >18</td>\n",
       "      <td id=\"T_2ed22_row7_col7\" class=\"data row7 col7\" >3.83</td>\n",
       "      <td id=\"T_2ed22_row7_col8\" class=\"data row7 col8\" >1.28</td>\n",
       "    </tr>\n",
       "    <tr>\n",
       "      <th id=\"T_2ed22_level0_row8\" class=\"row_heading level0 row8\" >2023-W28</th>\n",
       "      <td id=\"T_2ed22_row8_col0\" class=\"data row8 col0\" >9</td>\n",
       "      <td id=\"T_2ed22_row8_col1\" class=\"data row8 col1\" >38</td>\n",
       "      <td id=\"T_2ed22_row8_col2\" class=\"data row8 col2\" >25</td>\n",
       "      <td id=\"T_2ed22_row8_col3\" class=\"data row8 col3\" >4.22</td>\n",
       "      <td id=\"T_2ed22_row8_col4\" class=\"data row8 col4\" >1.52</td>\n",
       "      <td id=\"T_2ed22_row8_col5\" class=\"data row8 col5\" >37</td>\n",
       "      <td id=\"T_2ed22_row8_col6\" class=\"data row8 col6\" >12</td>\n",
       "      <td id=\"T_2ed22_row8_col7\" class=\"data row8 col7\" >4.11</td>\n",
       "      <td id=\"T_2ed22_row8_col8\" class=\"data row8 col8\" >3.08</td>\n",
       "    </tr>\n",
       "    <tr>\n",
       "      <th id=\"T_2ed22_level0_row9\" class=\"row_heading level0 row9\" >2023-W29</th>\n",
       "      <td id=\"T_2ed22_row9_col0\" class=\"data row9 col0\" >6</td>\n",
       "      <td id=\"T_2ed22_row9_col1\" class=\"data row9 col1\" >23</td>\n",
       "      <td id=\"T_2ed22_row9_col2\" class=\"data row9 col2\" >8</td>\n",
       "      <td id=\"T_2ed22_row9_col3\" class=\"data row9 col3\" >3.83</td>\n",
       "      <td id=\"T_2ed22_row9_col4\" class=\"data row9 col4\" >2.88</td>\n",
       "      <td id=\"T_2ed22_row9_col5\" class=\"data row9 col5\" >16</td>\n",
       "      <td id=\"T_2ed22_row9_col6\" class=\"data row9 col6\" >6</td>\n",
       "      <td id=\"T_2ed22_row9_col7\" class=\"data row9 col7\" >2.67</td>\n",
       "      <td id=\"T_2ed22_row9_col8\" class=\"data row9 col8\" >2.67</td>\n",
       "    </tr>\n",
       "  </tbody>\n",
       "</table>\n"
      ],
      "text/plain": [
       "<pandas.io.formats.style.Styler at 0x7f6331942390>"
      ]
     },
     "execution_count": 7,
     "metadata": {},
     "output_type": "execute_result"
    }
   ],
   "source": [
    "sdd = defaultdict(list)\n",
    "\n",
    "for dftrain, dftest, t, openproposals in cvtt_open(to_microsoft(dfv), SPLITS_FREQ, dfp.reset_index(), remove_not_in_train_col='userID', normalize=SPLITS_NORMALIZE):\n",
    "    dftrain_filter = dftrain[dftrain['itemID'].isin(openproposals)]\n",
    "    \n",
    "    sdd['fold'].append(t)\n",
    "    sdd['open proposals'].append(len(openproposals))\n",
    "    \n",
    "    sdd['proposals in train'].append(dftrain['itemID'].nunique())\n",
    "    sdd['votes in train'].append(len(dftrain))\n",
    "    sdd['votes in open proposals (train)'].append(len(dftrain_filter))\n",
    "    sdd['users in open proposals (train)'].append(dftrain_filter['userID'].nunique())\n",
    "    sdd['votes in test'].append(len(dftest))\n",
    "    sdd['users in train'].append(dftrain['userID'].nunique())\n",
    "    sdd['users in test'].append(dftest['userID'].nunique())\n",
    "\n",
    "sdf_all = pd.DataFrame(sdd).set_index('fold')\n",
    "sdf_all['vpp in open proposals (train)'] = sdf_all['votes in open proposals (train)'] / sdf_all['open proposals']\n",
    "sdf_all['vpu in open proposals (train)'] = sdf_all['votes in open proposals (train)'] / sdf_all['users in open proposals (train)']\n",
    "sdf_all['vpp test'] = sdf_all['votes in test'] / sdf_all['open proposals']\n",
    "sdf_all['vpu test'] = sdf_all['votes in test'] / sdf_all['users in test']\n",
    "paths.save_folds_info(sdf_all, ORG_NAME, SPLITS_FREQ, SPLITS_NORMALIZE)\n",
    "sdf = sdf_all.tail(LAST_FOLDS)\n",
    "print(sdf['votes in train'])\n",
    "_style = sdf[['open proposals', 'votes in open proposals (train)', 'users in open proposals (train)', 'vpp in open proposals (train)', 'vpu in open proposals (train)', 'votes in test', 'users in test', 'vpp test', 'vpu test']].style\n",
    "_style = _style.format_index('{:%G-W%V}').format(precision=2)\n",
    "_style"
   ]
  },
  {
   "cell_type": "code",
   "execution_count": 8,
   "id": "790cf285",
   "metadata": {
    "execution": {
     "iopub.execute_input": "2024-09-05T10:16:01.745351Z",
     "iopub.status.busy": "2024-09-05T10:16:01.745148Z",
     "iopub.status.idle": "2024-09-05T10:16:01.755352Z",
     "shell.execute_reply": "2024-09-05T10:16:01.755148Z"
    },
    "papermill": {
     "duration": 0.013576,
     "end_time": "2024-09-05T10:16:01.755941",
     "exception": false,
     "start_time": "2024-09-05T10:16:01.742365",
     "status": "completed"
    },
    "tags": []
   },
   "outputs": [
    {
     "name": "stdout",
     "output_type": "stream",
     "text": [
      "\\begin{tabular}{lrrrrrrrrr}\n",
      " & \\textbf{open proposals} & \\textbf{votes in open proposals (train)} & \\textbf{users in open proposals (train)} & \\textbf{vpp in open proposals (train)} & \\textbf{vpu in open proposals (train)} & \\textbf{votes in test} & \\textbf{users in test} & \\textbf{vpp test} & \\textbf{vpu test} \\\\\n",
      "fold &  &  &  &  &  &  &  &  &  \\\\\n",
      "2023-W25 & 5 & 3 & 1 & 0.60 & 3.00 & 10 & 6 & 2.00 & 1.67 \\\\\n",
      "2023-W25 & 6 & 14 & 4 & 2.33 & 3.50 & 12 & 7 & 2.00 & 1.71 \\\\\n",
      "2023-W26 & 5 & 17 & 4 & 3.40 & 4.25 & 5 & 5 & 1.00 & 1.00 \\\\\n",
      "2023-W26 & 4 & 10 & 5 & 2.50 & 2.00 & 24 & 15 & 6.00 & 1.60 \\\\\n",
      "2023-W27 & 7 & 18 & 7 & 2.57 & 2.57 & 53 & 16 & 7.57 & 3.31 \\\\\n",
      "2023-W27 & 8 & 44 & 14 & 5.50 & 3.14 & 38 & 15 & 4.75 & 2.53 \\\\\n",
      "2023-W27 & 6 & 31 & 17 & 5.17 & 1.82 & 34 & 25 & 5.67 & 1.36 \\\\\n",
      "2023-W28 & 6 & 40 & 22 & 6.67 & 1.82 & 23 & 18 & 3.83 & 1.28 \\\\\n",
      "2023-W28 & 9 & 38 & 25 & 4.22 & 1.52 & 37 & 12 & 4.11 & 3.08 \\\\\n",
      "2023-W29 & 6 & 23 & 8 & 3.83 & 2.88 & 16 & 6 & 2.67 & 2.67 \\\\\n",
      "\\end{tabular}\n",
      "\n"
     ]
    }
   ],
   "source": [
    "print(_style\n",
    "  .format_index(\"\\\\textbf{{{}}}\", escape=\"latex\", axis=1)\n",
    "  .to_latex()\n",
    ")"
   ]
  },
  {
   "cell_type": "markdown",
   "id": "7e41df7f",
   "metadata": {
    "papermill": {
     "duration": 0.002052,
     "end_time": "2024-09-05T10:16:01.760018",
     "exception": false,
     "start_time": "2024-09-05T10:16:01.757966",
     "status": "completed"
    },
    "tags": []
   },
   "source": [
    "## Running openpop baseline"
   ]
  },
  {
   "cell_type": "code",
   "execution_count": 9,
   "id": "7bf31ee9",
   "metadata": {
    "execution": {
     "iopub.execute_input": "2024-09-05T10:16:01.764420Z",
     "iopub.status.busy": "2024-09-05T10:16:01.764329Z",
     "iopub.status.idle": "2024-09-05T10:16:57.189925Z",
     "shell.execute_reply": "2024-09-05T10:16:57.189704Z"
    },
    "papermill": {
     "duration": 55.428638,
     "end_time": "2024-09-05T10:16:57.190599",
     "exception": false,
     "start_time": "2024-09-05T10:16:01.761961",
     "status": "completed"
    },
    "tags": []
   },
   "outputs": [
    {
     "data": {
      "application/vnd.jupyter.widget-view+json": {
       "model_id": "6c55a114947744fcb5ab79f9d53ff468",
       "version_major": 2,
       "version_minor": 0
      },
      "text/plain": [
       "  0%|          | 0/237 [00:00<?, ?it/s]"
      ]
     },
     "metadata": {},
     "output_type": "display_data"
    },
    {
     "name": "stderr",
     "output_type": "stream",
     "text": [
      "Warning, empty test fold 0 (2021-08-09 00:00:00), all ok since 0 folds ago\n",
      "Warning, empty test fold 1 (2021-08-12 00:00:00), all ok since 1 folds ago\n"
     ]
    },
    {
     "name": "stderr",
     "output_type": "stream",
     "text": [
      "Warning, empty test fold 2 (2021-08-15 00:00:00), all ok since 1 folds ago\n",
      "Warning, test fold 3 (2021-08-18 00:00:00) with less than 5 open proposals (1). all ok since 1 folds ago\n"
     ]
    },
    {
     "name": "stderr",
     "output_type": "stream",
     "text": [
      "Warning, test fold 4 (2021-08-21 00:00:00) with less than 5 open proposals (2). all ok since 1 folds ago\n"
     ]
    },
    {
     "name": "stderr",
     "output_type": "stream",
     "text": [
      "Warning, test fold 5 (2021-08-24 00:00:00) with less than 5 open proposals (2). all ok since 1 folds ago\n"
     ]
    },
    {
     "name": "stderr",
     "output_type": "stream",
     "text": [
      "Warning, test fold 6 (2021-08-27 00:00:00) with less than 5 open proposals (1). all ok since 1 folds ago\n"
     ]
    },
    {
     "name": "stderr",
     "output_type": "stream",
     "text": [
      "Warning, empty test fold 7 (2021-08-30 00:00:00), all ok since 5 folds ago\n",
      "Warning, test fold 8 (2021-09-02 00:00:00) with less than 5 open proposals (1). all ok since 1 folds ago\n"
     ]
    },
    {
     "name": "stderr",
     "output_type": "stream",
     "text": [
      "Warning, test fold 9 (2021-09-05 00:00:00) with less than 5 open proposals (1). all ok since 1 folds ago\n"
     ]
    },
    {
     "name": "stderr",
     "output_type": "stream",
     "text": [
      "Warning, empty test fold 10 (2021-09-08 00:00:00), all ok since 3 folds ago\n",
      "Warning, empty test fold 11 (2021-09-11 00:00:00), all ok since 1 folds ago\n"
     ]
    },
    {
     "name": "stderr",
     "output_type": "stream",
     "text": [
      "Warning, empty test fold 12 (2021-09-14 00:00:00), all ok since 1 folds ago\n",
      "Warning, test fold 13 (2021-09-17 00:00:00) with less than 5 open proposals (2). all ok since 1 folds ago\n"
     ]
    },
    {
     "name": "stderr",
     "output_type": "stream",
     "text": [
      "Warning, empty test fold 14 (2021-09-20 00:00:00), all ok since 2 folds ago\n",
      "Warning, test fold 15 (2021-09-23 00:00:00) with less than 5 open proposals (3). all ok since 1 folds ago\n"
     ]
    },
    {
     "name": "stderr",
     "output_type": "stream",
     "text": [
      "Warning, test fold 16 (2021-09-26 00:00:00) with less than 5 open proposals (1). all ok since 1 folds ago\n"
     ]
    },
    {
     "name": "stderr",
     "output_type": "stream",
     "text": [
      "Warning, test fold 17 (2021-09-29 00:00:00) with less than 5 open proposals (2). all ok since 1 folds ago\n"
     ]
    },
    {
     "name": "stderr",
     "output_type": "stream",
     "text": [
      "Warning, test fold 18 (2021-10-02 00:00:00) with less than 5 open proposals (2). all ok since 1 folds ago\n"
     ]
    },
    {
     "name": "stderr",
     "output_type": "stream",
     "text": [
      "Warning, empty test fold 19 (2021-10-05 00:00:00), all ok since 5 folds ago\n",
      "Warning, empty test fold 20 (2021-10-08 00:00:00), all ok since 1 folds ago\n"
     ]
    },
    {
     "name": "stderr",
     "output_type": "stream",
     "text": [
      "Warning, test fold 21 (2021-10-11 00:00:00) with less than 5 open proposals (2). all ok since 1 folds ago\n"
     ]
    },
    {
     "name": "stderr",
     "output_type": "stream",
     "text": [
      "Warning, test fold 22 (2021-10-14 00:00:00) with less than 5 open proposals (2). all ok since 1 folds ago\n"
     ]
    },
    {
     "name": "stderr",
     "output_type": "stream",
     "text": [
      "Warning, test fold 23 (2021-10-17 00:00:00) with less than 5 open proposals (2). all ok since 1 folds ago\n"
     ]
    },
    {
     "name": "stderr",
     "output_type": "stream",
     "text": [
      "Warning, empty test fold 24 (2021-10-20 00:00:00), all ok since 4 folds ago\n",
      "Warning, test fold 25 (2021-10-23 00:00:00) with less than 5 open proposals (3). all ok since 1 folds ago\n"
     ]
    },
    {
     "name": "stderr",
     "output_type": "stream",
     "text": [
      "Warning, empty test fold 26 (2021-10-26 00:00:00), all ok since 2 folds ago\n",
      "Warning, empty test fold 27 (2021-10-29 00:00:00), all ok since 1 folds ago\n"
     ]
    },
    {
     "name": "stderr",
     "output_type": "stream",
     "text": [
      "Warning, empty test fold 28 (2021-11-01 00:00:00), all ok since 1 folds ago\n",
      "Warning, empty test fold 29 (2021-11-04 00:00:00), all ok since 1 folds ago\n"
     ]
    },
    {
     "name": "stderr",
     "output_type": "stream",
     "text": [
      "Warning, test fold 30 (2021-11-07 00:00:00) with less than 5 open proposals (2). all ok since 1 folds ago\n"
     ]
    },
    {
     "name": "stderr",
     "output_type": "stream",
     "text": [
      "Warning, test fold 31 (2021-11-10 00:00:00) with less than 5 open proposals (1). all ok since 1 folds ago\n"
     ]
    },
    {
     "name": "stderr",
     "output_type": "stream",
     "text": [
      "Warning, test fold 32 (2021-11-13 00:00:00) with less than 5 open proposals (1). all ok since 1 folds ago\n"
     ]
    },
    {
     "name": "stderr",
     "output_type": "stream",
     "text": [
      "Warning, empty test fold 33 (2021-11-16 00:00:00), all ok since 4 folds ago\n",
      "Warning, empty test fold 34 (2021-11-19 00:00:00), all ok since 1 folds ago\n"
     ]
    },
    {
     "name": "stderr",
     "output_type": "stream",
     "text": [
      "Warning, empty test fold 35 (2021-11-22 00:00:00), all ok since 1 folds ago\n",
      "Warning, test fold 36 (2021-11-25 00:00:00) with less than 5 open proposals (1). all ok since 1 folds ago\n"
     ]
    },
    {
     "name": "stderr",
     "output_type": "stream",
     "text": [
      "Warning, empty test fold 37 (2021-11-28 00:00:00), all ok since 2 folds ago\n",
      "Warning, test fold 38 (2021-12-01 00:00:00) with less than 5 open proposals (4). all ok since 1 folds ago\n"
     ]
    },
    {
     "name": "stderr",
     "output_type": "stream",
     "text": [
      "Warning, empty test fold 40 (2021-12-07 00:00:00), all ok since 3 folds ago\n",
      "Warning, empty test fold 41 (2021-12-10 00:00:00), all ok since 1 folds ago\n"
     ]
    },
    {
     "name": "stderr",
     "output_type": "stream",
     "text": [
      "Warning, test fold 42 (2021-12-13 00:00:00) with less than 5 open proposals (1). all ok since 1 folds ago\n"
     ]
    },
    {
     "name": "stderr",
     "output_type": "stream",
     "text": [
      "Warning, test fold 43 (2021-12-16 00:00:00) with less than 5 open proposals (1). all ok since 1 folds ago\n"
     ]
    },
    {
     "name": "stderr",
     "output_type": "stream",
     "text": [
      "Warning, test fold 44 (2021-12-19 00:00:00) with less than 5 open proposals (2). all ok since 1 folds ago\n"
     ]
    },
    {
     "name": "stderr",
     "output_type": "stream",
     "text": [
      "Warning, empty test fold 45 (2021-12-22 00:00:00), all ok since 4 folds ago\n",
      "Warning, empty test fold 46 (2021-12-25 00:00:00), all ok since 1 folds ago\n"
     ]
    },
    {
     "name": "stderr",
     "output_type": "stream",
     "text": [
      "Warning, empty test fold 47 (2021-12-28 00:00:00), all ok since 1 folds ago\n",
      "Warning, test fold 48 (2021-12-31 00:00:00) with less than 5 open proposals (1). all ok since 1 folds ago\n"
     ]
    },
    {
     "name": "stderr",
     "output_type": "stream",
     "text": [
      "Warning, empty test fold 49 (2022-01-03 00:00:00), all ok since 2 folds ago\n",
      "Warning, empty test fold 50 (2022-01-06 00:00:00), all ok since 1 folds ago\n"
     ]
    },
    {
     "name": "stderr",
     "output_type": "stream",
     "text": [
      "Warning, test fold 51 (2022-01-09 00:00:00) with less than 5 open proposals (1). all ok since 1 folds ago\n"
     ]
    },
    {
     "name": "stderr",
     "output_type": "stream",
     "text": [
      "Warning, test fold 52 (2022-01-12 00:00:00) with less than 5 open proposals (2). all ok since 1 folds ago\n"
     ]
    },
    {
     "name": "stderr",
     "output_type": "stream",
     "text": [
      "Warning, test fold 53 (2022-01-15 00:00:00) with less than 5 open proposals (2). all ok since 1 folds ago\n"
     ]
    },
    {
     "name": "stderr",
     "output_type": "stream",
     "text": [
      "Warning, empty test fold 54 (2022-01-18 00:00:00), all ok since 4 folds ago\n",
      "Warning, empty test fold 55 (2022-01-21 00:00:00), all ok since 1 folds ago\n"
     ]
    },
    {
     "name": "stderr",
     "output_type": "stream",
     "text": [
      "Warning, test fold 56 (2022-01-24 00:00:00) with less than 5 open proposals (1). all ok since 1 folds ago\n"
     ]
    },
    {
     "name": "stderr",
     "output_type": "stream",
     "text": [
      "Warning, test fold 57 (2022-01-27 00:00:00) with less than 5 open proposals (1). all ok since 1 folds ago\n"
     ]
    },
    {
     "name": "stderr",
     "output_type": "stream",
     "text": [
      "Warning, empty test fold 58 (2022-01-30 00:00:00), all ok since 3 folds ago\n",
      "Warning, empty test fold 59 (2022-02-02 00:00:00), all ok since 1 folds ago\n"
     ]
    },
    {
     "name": "stderr",
     "output_type": "stream",
     "text": [
      "Warning, test fold 60 (2022-02-05 00:00:00) with less than 5 open proposals (1). all ok since 1 folds ago\n"
     ]
    },
    {
     "name": "stderr",
     "output_type": "stream",
     "text": [
      "Warning, empty test fold 61 (2022-02-08 00:00:00), all ok since 2 folds ago\n",
      "Warning, empty test fold 62 (2022-02-11 00:00:00), all ok since 1 folds ago\n"
     ]
    },
    {
     "name": "stderr",
     "output_type": "stream",
     "text": [
      "Warning, empty test fold 63 (2022-02-14 00:00:00), all ok since 1 folds ago\n",
      "Warning, empty test fold 64 (2022-02-17 00:00:00), all ok since 1 folds ago\n"
     ]
    },
    {
     "name": "stderr",
     "output_type": "stream",
     "text": [
      "Warning, empty test fold 65 (2022-02-20 00:00:00), all ok since 1 folds ago\n",
      "Warning, test fold 66 (2022-02-23 00:00:00) with less than 5 open proposals (1). all ok since 1 folds ago\n"
     ]
    },
    {
     "name": "stderr",
     "output_type": "stream",
     "text": [
      "Warning, test fold 67 (2022-02-26 00:00:00) with less than 5 open proposals (2). all ok since 1 folds ago\n"
     ]
    },
    {
     "name": "stderr",
     "output_type": "stream",
     "text": [
      "Warning, empty test fold 68 (2022-03-01 00:00:00), all ok since 3 folds ago\n",
      "Warning, test fold 69 (2022-03-04 00:00:00) with less than 5 open proposals (2). all ok since 1 folds ago\n"
     ]
    },
    {
     "name": "stderr",
     "output_type": "stream",
     "text": [
      "Warning, test fold 70 (2022-03-07 00:00:00) with less than 5 open proposals (1). all ok since 1 folds ago\n"
     ]
    },
    {
     "name": "stderr",
     "output_type": "stream",
     "text": [
      "Warning, test fold 71 (2022-03-10 00:00:00) with less than 5 open proposals (1). all ok since 1 folds ago\n"
     ]
    },
    {
     "name": "stderr",
     "output_type": "stream",
     "text": [
      "Warning, test fold 72 (2022-03-13 00:00:00) with less than 5 open proposals (1). all ok since 1 folds ago\n"
     ]
    },
    {
     "name": "stderr",
     "output_type": "stream",
     "text": [
      "Warning, empty test fold 73 (2022-03-16 00:00:00), all ok since 5 folds ago\n",
      "Warning, test fold 74 (2022-03-19 00:00:00) with less than 5 open proposals (1). all ok since 1 folds ago\n"
     ]
    },
    {
     "name": "stderr",
     "output_type": "stream",
     "text": [
      "Warning, empty test fold 75 (2022-03-22 00:00:00), all ok since 2 folds ago\n",
      "Warning, test fold 76 (2022-03-25 00:00:00) with less than 5 open proposals (2). all ok since 1 folds ago\n"
     ]
    },
    {
     "name": "stderr",
     "output_type": "stream",
     "text": [
      "Warning, test fold 77 (2022-03-28 00:00:00) with less than 5 open proposals (1). all ok since 1 folds ago\n"
     ]
    },
    {
     "name": "stderr",
     "output_type": "stream",
     "text": [
      "Warning, test fold 78 (2022-03-31 00:00:00) with less than 5 open proposals (1). all ok since 1 folds ago\n"
     ]
    },
    {
     "name": "stderr",
     "output_type": "stream",
     "text": [
      "Warning, test fold 79 (2022-04-03 00:00:00) with less than 5 open proposals (3). all ok since 1 folds ago\n"
     ]
    },
    {
     "name": "stderr",
     "output_type": "stream",
     "text": [
      "Warning, test fold 80 (2022-04-06 00:00:00) with less than 5 open proposals (2). all ok since 1 folds ago\n"
     ]
    },
    {
     "name": "stderr",
     "output_type": "stream",
     "text": [
      "Warning, test fold 81 (2022-04-09 00:00:00) with less than 5 open proposals (3). all ok since 1 folds ago\n"
     ]
    },
    {
     "name": "stderr",
     "output_type": "stream",
     "text": [
      "Warning, test fold 84 (2022-04-18 00:00:00) with less than 5 open proposals (3). all ok since 3 folds ago\n"
     ]
    },
    {
     "name": "stderr",
     "output_type": "stream",
     "text": [
      "Warning, empty test fold 88 (2022-04-30 00:00:00), all ok since 13 folds ago\n",
      "Warning, empty test fold 89 (2022-05-03 00:00:00), all ok since 1 folds ago\n"
     ]
    },
    {
     "name": "stderr",
     "output_type": "stream",
     "text": [
      "Warning, test fold 90 (2022-05-06 00:00:00) with less than 5 open proposals (2). all ok since 1 folds ago\n"
     ]
    },
    {
     "name": "stderr",
     "output_type": "stream",
     "text": [
      "Warning, test fold 91 (2022-05-09 00:00:00) with less than 5 open proposals (1). all ok since 1 folds ago\n"
     ]
    },
    {
     "name": "stderr",
     "output_type": "stream",
     "text": [
      "Warning, test fold 92 (2022-05-12 00:00:00) with less than 5 open proposals (4). all ok since 1 folds ago\n"
     ]
    },
    {
     "name": "stderr",
     "output_type": "stream",
     "text": [
      "Warning, test fold 93 (2022-05-15 00:00:00) with less than 5 open proposals (3). all ok since 1 folds ago\n"
     ]
    },
    {
     "name": "stderr",
     "output_type": "stream",
     "text": [
      "Warning, test fold 94 (2022-05-18 00:00:00) with less than 5 open proposals (3). all ok since 1 folds ago\n"
     ]
    },
    {
     "name": "stderr",
     "output_type": "stream",
     "text": [
      "Warning, empty test fold 96 (2022-05-24 00:00:00), all ok since 7 folds ago\n",
      "Warning, test fold 97 (2022-05-27 00:00:00) with less than 5 open proposals (3). all ok since 1 folds ago\n"
     ]
    },
    {
     "name": "stderr",
     "output_type": "stream",
     "text": [
      "Warning, test fold 99 (2022-06-02 00:00:00) with less than 5 open proposals (3). all ok since 2 folds ago\n"
     ]
    },
    {
     "name": "stderr",
     "output_type": "stream",
     "text": [
      "Warning, test fold 100 (2022-06-05 00:00:00) with less than 5 open proposals (2). all ok since 1 folds ago\n"
     ]
    },
    {
     "name": "stderr",
     "output_type": "stream",
     "text": [
      "Warning, test fold 101 (2022-06-08 00:00:00) with less than 5 open proposals (4). all ok since 1 folds ago\n"
     ]
    },
    {
     "name": "stderr",
     "output_type": "stream",
     "text": [
      "Warning, test fold 102 (2022-06-11 00:00:00) with less than 5 open proposals (4). all ok since 1 folds ago\n"
     ]
    },
    {
     "name": "stderr",
     "output_type": "stream",
     "text": [
      "Warning, test fold 103 (2022-06-14 00:00:00) with less than 5 open proposals (4). all ok since 1 folds ago\n"
     ]
    },
    {
     "name": "stderr",
     "output_type": "stream",
     "text": [
      "Warning, empty test fold 104 (2022-06-17 00:00:00), all ok since 8 folds ago\n",
      "Warning, test fold 105 (2022-06-20 00:00:00) with less than 5 open proposals (1). all ok since 1 folds ago\n"
     ]
    },
    {
     "name": "stderr",
     "output_type": "stream",
     "text": [
      "Warning, test fold 106 (2022-06-23 00:00:00) with less than 5 open proposals (3). all ok since 1 folds ago\n"
     ]
    },
    {
     "name": "stderr",
     "output_type": "stream",
     "text": [
      "Warning, test fold 107 (2022-06-26 00:00:00) with less than 5 open proposals (1). all ok since 1 folds ago\n"
     ]
    },
    {
     "name": "stderr",
     "output_type": "stream",
     "text": [
      "Warning, test fold 108 (2022-06-29 00:00:00) with less than 5 open proposals (3). all ok since 1 folds ago\n"
     ]
    },
    {
     "name": "stderr",
     "output_type": "stream",
     "text": [
      "Warning, test fold 109 (2022-07-02 00:00:00) with less than 5 open proposals (4). all ok since 1 folds ago\n"
     ]
    },
    {
     "name": "stderr",
     "output_type": "stream",
     "text": [
      "Warning, test fold 110 (2022-07-05 00:00:00) with less than 5 open proposals (2). all ok since 1 folds ago\n"
     ]
    },
    {
     "name": "stderr",
     "output_type": "stream",
     "text": [
      "Warning, test fold 111 (2022-07-08 00:00:00) with less than 5 open proposals (3). all ok since 1 folds ago\n"
     ]
    },
    {
     "name": "stderr",
     "output_type": "stream",
     "text": [
      "Warning, test fold 112 (2022-07-11 00:00:00) with less than 5 open proposals (2). all ok since 1 folds ago\n"
     ]
    },
    {
     "name": "stderr",
     "output_type": "stream",
     "text": [
      "Warning, test fold 115 (2022-07-20 00:00:00) with less than 5 open proposals (1). all ok since 3 folds ago\n"
     ]
    },
    {
     "name": "stderr",
     "output_type": "stream",
     "text": [
      "Warning, test fold 116 (2022-07-23 00:00:00) with less than 5 open proposals (1). all ok since 1 folds ago\n"
     ]
    },
    {
     "name": "stderr",
     "output_type": "stream",
     "text": [
      "Warning, test fold 117 (2022-07-26 00:00:00) with less than 5 open proposals (2). all ok since 1 folds ago\n"
     ]
    },
    {
     "name": "stderr",
     "output_type": "stream",
     "text": [
      "Warning, test fold 118 (2022-07-29 00:00:00) with less than 5 open proposals (3). all ok since 1 folds ago\n"
     ]
    },
    {
     "name": "stderr",
     "output_type": "stream",
     "text": [
      "Warning, test fold 119 (2022-08-01 00:00:00) with less than 5 open proposals (4). all ok since 1 folds ago\n"
     ]
    },
    {
     "name": "stderr",
     "output_type": "stream",
     "text": [
      "Warning, test fold 120 (2022-08-04 00:00:00) with less than 5 open proposals (1). all ok since 1 folds ago\n"
     ]
    },
    {
     "name": "stderr",
     "output_type": "stream",
     "text": [
      "Warning, test fold 121 (2022-08-07 00:00:00) with less than 5 open proposals (2). all ok since 1 folds ago\n"
     ]
    },
    {
     "name": "stderr",
     "output_type": "stream",
     "text": [
      "Warning, test fold 122 (2022-08-10 00:00:00) with less than 5 open proposals (3). all ok since 1 folds ago\n"
     ]
    },
    {
     "name": "stderr",
     "output_type": "stream",
     "text": [
      "Warning, test fold 123 (2022-08-13 00:00:00) with less than 5 open proposals (3). all ok since 1 folds ago\n"
     ]
    },
    {
     "name": "stderr",
     "output_type": "stream",
     "text": [
      "Warning, test fold 124 (2022-08-16 00:00:00) with less than 5 open proposals (1). all ok since 1 folds ago\n",
      "Warning, test fold 125 (2022-08-19 00:00:00) with less than 5 open proposals (3). all ok since 1 folds ago\n"
     ]
    },
    {
     "name": "stderr",
     "output_type": "stream",
     "text": [
      "Warning, test fold 126 (2022-08-22 00:00:00) with less than 5 open proposals (2). all ok since 1 folds ago\n"
     ]
    },
    {
     "name": "stderr",
     "output_type": "stream",
     "text": [
      "Warning, empty test fold 127 (2022-08-25 00:00:00), all ok since 23 folds ago\n",
      "Warning, test fold 128 (2022-08-28 00:00:00) with less than 5 open proposals (1). all ok since 1 folds ago\n"
     ]
    },
    {
     "name": "stderr",
     "output_type": "stream",
     "text": [
      "Warning, empty test fold 129 (2022-08-31 00:00:00), all ok since 2 folds ago\n",
      "Warning, test fold 130 (2022-09-03 00:00:00) with less than 5 open proposals (3). all ok since 1 folds ago\n"
     ]
    },
    {
     "name": "stderr",
     "output_type": "stream",
     "text": [
      "Warning, empty test fold 131 (2022-09-06 00:00:00), all ok since 2 folds ago\n",
      "Warning, test fold 132 (2022-09-09 00:00:00) with less than 5 open proposals (3). all ok since 1 folds ago\n"
     ]
    },
    {
     "name": "stderr",
     "output_type": "stream",
     "text": [
      "Warning, test fold 133 (2022-09-12 00:00:00) with less than 5 open proposals (1). all ok since 1 folds ago\n"
     ]
    },
    {
     "name": "stderr",
     "output_type": "stream",
     "text": [
      "Warning, test fold 134 (2022-09-15 00:00:00) with less than 5 open proposals (1). all ok since 1 folds ago\n"
     ]
    },
    {
     "name": "stderr",
     "output_type": "stream",
     "text": [
      "Warning, test fold 135 (2022-09-18 00:00:00) with less than 5 open proposals (2). all ok since 1 folds ago\n"
     ]
    },
    {
     "name": "stderr",
     "output_type": "stream",
     "text": [
      "Warning, test fold 136 (2022-09-21 00:00:00) with less than 5 open proposals (2). all ok since 1 folds ago\n"
     ]
    },
    {
     "name": "stderr",
     "output_type": "stream",
     "text": [
      "Warning, empty test fold 137 (2022-09-24 00:00:00), all ok since 6 folds ago\n",
      "Warning, test fold 138 (2022-09-27 00:00:00) with less than 5 open proposals (1). all ok since 1 folds ago\n"
     ]
    },
    {
     "name": "stderr",
     "output_type": "stream",
     "text": [
      "Warning, test fold 139 (2022-09-30 00:00:00) with less than 5 open proposals (4). all ok since 1 folds ago\n"
     ]
    },
    {
     "name": "stderr",
     "output_type": "stream",
     "text": [
      "Warning, test fold 140 (2022-10-03 00:00:00) with less than 5 open proposals (1). all ok since 1 folds ago\n"
     ]
    },
    {
     "name": "stderr",
     "output_type": "stream",
     "text": [
      "Warning, test fold 142 (2022-10-09 00:00:00) with less than 5 open proposals (2). all ok since 2 folds ago\n"
     ]
    },
    {
     "name": "stderr",
     "output_type": "stream",
     "text": [
      "Warning, test fold 143 (2022-10-12 00:00:00) with less than 5 open proposals (2). all ok since 1 folds ago\n"
     ]
    },
    {
     "name": "stderr",
     "output_type": "stream",
     "text": [
      "Warning, test fold 144 (2022-10-15 00:00:00) with less than 5 open proposals (3). all ok since 1 folds ago\n"
     ]
    },
    {
     "name": "stderr",
     "output_type": "stream",
     "text": [
      "Warning, test fold 145 (2022-10-18 00:00:00) with less than 5 open proposals (2). all ok since 1 folds ago\n"
     ]
    },
    {
     "name": "stderr",
     "output_type": "stream",
     "text": [
      "Warning, test fold 147 (2022-10-24 00:00:00) with less than 5 open proposals (4). all ok since 2 folds ago\n"
     ]
    },
    {
     "name": "stderr",
     "output_type": "stream",
     "text": [
      "Warning, test fold 148 (2022-10-27 00:00:00) with less than 5 open proposals (2). all ok since 1 folds ago\n"
     ]
    },
    {
     "name": "stderr",
     "output_type": "stream",
     "text": [
      "Warning, test fold 149 (2022-10-30 00:00:00) with less than 5 open proposals (3). all ok since 1 folds ago\n"
     ]
    },
    {
     "name": "stderr",
     "output_type": "stream",
     "text": [
      "Warning, test fold 150 (2022-11-02 00:00:00) with less than 5 open proposals (1). all ok since 1 folds ago\n"
     ]
    },
    {
     "name": "stderr",
     "output_type": "stream",
     "text": [
      "Warning, empty test fold 151 (2022-11-05 00:00:00), all ok since 14 folds ago\n",
      "Warning, test fold 152 (2022-11-08 00:00:00) with less than 5 open proposals (1). all ok since 1 folds ago\n"
     ]
    },
    {
     "name": "stderr",
     "output_type": "stream",
     "text": [
      "Warning, test fold 153 (2022-11-11 00:00:00) with less than 5 open proposals (1). all ok since 1 folds ago\n"
     ]
    },
    {
     "name": "stderr",
     "output_type": "stream",
     "text": [
      "Warning, empty test fold 154 (2022-11-14 00:00:00), all ok since 3 folds ago\n",
      "Warning, test fold 155 (2022-11-17 00:00:00) with less than 5 open proposals (3). all ok since 1 folds ago\n"
     ]
    },
    {
     "name": "stderr",
     "output_type": "stream",
     "text": [
      "Warning, test fold 156 (2022-11-20 00:00:00) with less than 5 open proposals (3). all ok since 1 folds ago\n"
     ]
    },
    {
     "name": "stderr",
     "output_type": "stream",
     "text": [
      "Warning, test fold 157 (2022-11-23 00:00:00) with less than 5 open proposals (1). all ok since 1 folds ago\n"
     ]
    },
    {
     "name": "stderr",
     "output_type": "stream",
     "text": [
      "Warning, test fold 158 (2022-11-26 00:00:00) with less than 5 open proposals (2). all ok since 1 folds ago\n"
     ]
    },
    {
     "name": "stderr",
     "output_type": "stream",
     "text": [
      "Warning, empty test fold 159 (2022-11-29 00:00:00), all ok since 5 folds ago\n",
      "Warning, test fold 160 (2022-12-02 00:00:00) with less than 5 open proposals (1). all ok since 1 folds ago\n"
     ]
    },
    {
     "name": "stderr",
     "output_type": "stream",
     "text": [
      "Warning, test fold 162 (2022-12-08 00:00:00) with less than 5 open proposals (4). all ok since 2 folds ago\n"
     ]
    },
    {
     "name": "stderr",
     "output_type": "stream",
     "text": [
      "Warning, test fold 164 (2022-12-14 00:00:00) with less than 5 open proposals (3). all ok since 2 folds ago\n"
     ]
    },
    {
     "name": "stderr",
     "output_type": "stream",
     "text": [
      "Warning, test fold 168 (2022-12-26 00:00:00) with less than 5 open proposals (3). all ok since 4 folds ago\n"
     ]
    },
    {
     "name": "stderr",
     "output_type": "stream",
     "text": [
      "Warning, test fold 169 (2022-12-29 00:00:00) with less than 5 open proposals (2). all ok since 1 folds ago\n"
     ]
    },
    {
     "name": "stderr",
     "output_type": "stream",
     "text": [
      "Warning, test fold 170 (2023-01-01 00:00:00) with less than 5 open proposals (2). all ok since 1 folds ago\n"
     ]
    },
    {
     "name": "stderr",
     "output_type": "stream",
     "text": [
      "Warning, test fold 171 (2023-01-04 00:00:00) with less than 5 open proposals (3). all ok since 1 folds ago\n"
     ]
    },
    {
     "name": "stderr",
     "output_type": "stream",
     "text": [
      "Warning, empty test fold 172 (2023-01-07 00:00:00), all ok since 13 folds ago\n",
      "Warning, test fold 173 (2023-01-10 00:00:00) with less than 5 open proposals (4). all ok since 1 folds ago\n"
     ]
    },
    {
     "name": "stderr",
     "output_type": "stream",
     "text": [
      "Warning, test fold 179 (2023-01-28 00:00:00) with less than 5 open proposals (3). all ok since 6 folds ago\n"
     ]
    },
    {
     "name": "stderr",
     "output_type": "stream",
     "text": [
      "Warning, test fold 180 (2023-01-31 00:00:00) with less than 5 open proposals (3). all ok since 1 folds ago\n"
     ]
    },
    {
     "name": "stderr",
     "output_type": "stream",
     "text": [
      "Warning, test fold 186 (2023-02-18 00:00:00) with less than 5 open proposals (2). all ok since 6 folds ago\n"
     ]
    },
    {
     "name": "stderr",
     "output_type": "stream",
     "text": [
      "Warning, test fold 187 (2023-02-21 00:00:00) with less than 5 open proposals (2). all ok since 1 folds ago\n"
     ]
    },
    {
     "name": "stderr",
     "output_type": "stream",
     "text": [
      "Warning, test fold 188 (2023-02-24 00:00:00) with less than 5 open proposals (3). all ok since 1 folds ago\n"
     ]
    },
    {
     "name": "stderr",
     "output_type": "stream",
     "text": [
      "Warning, test fold 189 (2023-02-27 00:00:00) with less than 5 open proposals (3). all ok since 1 folds ago\n"
     ]
    },
    {
     "name": "stderr",
     "output_type": "stream",
     "text": [
      "Warning, test fold 193 (2023-03-11 00:00:00) with less than 5 open proposals (3). all ok since 4 folds ago\n"
     ]
    },
    {
     "name": "stderr",
     "output_type": "stream",
     "text": [
      "Warning, test fold 194 (2023-03-14 00:00:00) with less than 5 open proposals (3). all ok since 1 folds ago\n"
     ]
    },
    {
     "name": "stderr",
     "output_type": "stream",
     "text": [
      "Warning, test fold 198 (2023-03-26 00:00:00) with less than 5 open proposals (3). all ok since 4 folds ago\n"
     ]
    },
    {
     "name": "stderr",
     "output_type": "stream",
     "text": [
      "Warning, test fold 199 (2023-03-29 00:00:00) with less than 5 open proposals (2). all ok since 1 folds ago\n"
     ]
    },
    {
     "name": "stderr",
     "output_type": "stream",
     "text": [
      "Warning, test fold 200 (2023-04-01 00:00:00) with less than 5 open proposals (4). all ok since 1 folds ago\n"
     ]
    },
    {
     "name": "stderr",
     "output_type": "stream",
     "text": [
      "Warning, test fold 203 (2023-04-10 00:00:00) with less than 5 open proposals (3). all ok since 3 folds ago\n"
     ]
    },
    {
     "name": "stderr",
     "output_type": "stream",
     "text": [
      "Warning, test fold 204 (2023-04-13 00:00:00) with less than 5 open proposals (4). all ok since 1 folds ago\n"
     ]
    },
    {
     "name": "stderr",
     "output_type": "stream",
     "text": [
      "Warning, test fold 205 (2023-04-16 00:00:00) with less than 5 open proposals (4). all ok since 1 folds ago\n"
     ]
    },
    {
     "name": "stderr",
     "output_type": "stream",
     "text": [
      "Warning, test fold 206 (2023-04-19 00:00:00) with less than 5 open proposals (2). all ok since 1 folds ago\n"
     ]
    },
    {
     "name": "stderr",
     "output_type": "stream",
     "text": [
      "Warning, test fold 207 (2023-04-22 00:00:00) with less than 5 open proposals (1). all ok since 1 folds ago\n"
     ]
    },
    {
     "name": "stderr",
     "output_type": "stream",
     "text": [
      "Warning, test fold 208 (2023-04-25 00:00:00) with less than 5 open proposals (3). all ok since 1 folds ago\n"
     ]
    },
    {
     "name": "stderr",
     "output_type": "stream",
     "text": [
      "Warning, test fold 217 (2023-05-22 00:00:00) with less than 5 open proposals (3). all ok since 9 folds ago\n"
     ]
    },
    {
     "name": "stderr",
     "output_type": "stream",
     "text": [
      "Warning, test fold 218 (2023-05-25 00:00:00) with less than 5 open proposals (3). all ok since 1 folds ago\n"
     ]
    },
    {
     "name": "stderr",
     "output_type": "stream",
     "text": [
      "Warning, test fold 219 (2023-05-28 00:00:00) with less than 5 open proposals (4). all ok since 1 folds ago\n"
     ]
    },
    {
     "name": "stderr",
     "output_type": "stream",
     "text": [
      "Warning, test fold 220 (2023-05-31 00:00:00) with less than 5 open proposals (3). all ok since 1 folds ago\n"
     ]
    },
    {
     "name": "stderr",
     "output_type": "stream",
     "text": [
      "Warning, test fold 225 (2023-06-15 00:00:00) with less than 5 open proposals (4). all ok since 5 folds ago\n"
     ]
    },
    {
     "name": "stderr",
     "output_type": "stream",
     "text": [
      "Warning, test fold 230 (2023-06-30 00:00:00) with less than 5 open proposals (4). all ok since 5 folds ago\n"
     ]
    },
    {
     "name": "stdout",
     "output_type": "stream",
     "text": [
      "Max ok in a row: (23, Timestamp('2022-08-25 00:00:00'))\n"
     ]
    }
   ],
   "source": [
    "WARNING_AT_LEAST_OPEN = 5\n",
    "\n",
    "folds = list(cvtt_open(df, SPLITS_FREQ, dfp, remove_not_in_train_col='userID', normalize=SPLITS_NORMALIZE))\n",
    "metrics = []\n",
    "perfectmetrics = []\n",
    "\n",
    "first_empty = True\n",
    "ok_in_a_row = best_in_a_row = 0\n",
    "max_ok_in_a_row = (-1, folds[-1].end)\n",
    "for i, (train, test, t, open_proposals) in enumerate(tqdm(folds)):   \n",
    "    if first_empty:\n",
    "        if not train.empty:\n",
    "            first_empty = False\n",
    "    else:\n",
    "        assert not train.empty, f\"Train should not be empty on fold {i}\"\n",
    "    if test.empty:\n",
    "        print(f\"Warning, empty test fold {i} ({t}), all ok since {ok_in_a_row} folds ago\", file=sys.stderr)\n",
    "        if ok_in_a_row > max_ok_in_a_row[0]:\n",
    "            max_ok_in_a_row = (ok_in_a_row, t)\n",
    "        ok_in_a_row = best_in_a_row = 0\n",
    "    elif len(open_proposals) < WARNING_AT_LEAST_OPEN:\n",
    "        print(f\"Warning, test fold {i} ({t}) with less than {WARNING_AT_LEAST_OPEN} open proposals ({len(open_proposals)}). all ok since {best_in_a_row} folds ago\", file=sys.stderr)\n",
    "        best_in_a_row = 0\n",
    "\n",
    "    mdict = {'fold': t}\n",
    "    pdict = {'fold': t}\n",
    "    model = OpenPop(train)\n",
    "    recs = model.recommend_k_items(test['userID'].unique(), max(K_RECOMMENDATIONS), recommend_from=open_proposals)\n",
    "    mdict |= calculate_all_metrics(test, recs, K_RECOMMENDATIONS)\n",
    "        # for m, f in metrics_f.items():\n",
    "        #     r = f(test, recs, k=k_recs)\n",
    "        #     metrics[m+f'@{k_recs}'].append(r)\n",
    "    \n",
    "    recs = test.copy()\n",
    "    recs['prediction'] = 1\n",
    "    pdict |= calculate_all_metrics(test, recs, K_RECOMMENDATIONS)\n",
    "\n",
    "        # for m, f in metrics_f.items():\n",
    "        #     # Need relevancy_method=None as they are unsorted\n",
    "        #     r = f(test, recs, k=k_recs)\n",
    "        #     perfectmetrics[m+f'@{k_recs}'].append(r)\n",
    "\n",
    "    metrics.append(mdict)\n",
    "    perfectmetrics.append(pdict)\n",
    "    ok_in_a_row += 1\n",
    "    best_in_a_row += 1\n",
    "\n",
    "paths.save_dao_datum(ORG_NAME, 'max_ok_folds', str(max_ok_in_a_row[0]))\n",
    "paths.save_dao_datum(ORG_NAME, 'max_ok_folds_date', str(max_ok_in_a_row[1]))\n",
    "if max_ok_in_a_row == -1:\n",
    "    print(\"All ok :>\")\n",
    "else:\n",
    "    print(\"Max ok in a row:\", max_ok_in_a_row)"
   ]
  },
  {
   "cell_type": "markdown",
   "id": "c223567e",
   "metadata": {
    "papermill": {
     "duration": 0.005856,
     "end_time": "2024-09-05T10:16:57.202637",
     "exception": false,
     "start_time": "2024-09-05T10:16:57.196781",
     "status": "completed"
    },
    "tags": []
   },
   "source": [
    "### Caching these results"
   ]
  },
  {
   "cell_type": "code",
   "execution_count": 10,
   "id": "378c819f",
   "metadata": {
    "execution": {
     "iopub.execute_input": "2024-09-05T10:16:57.214895Z",
     "iopub.status.busy": "2024-09-05T10:16:57.214763Z",
     "iopub.status.idle": "2024-09-05T10:16:57.241921Z",
     "shell.execute_reply": "2024-09-05T10:16:57.241633Z"
    },
    "papermill": {
     "duration": 0.034047,
     "end_time": "2024-09-05T10:16:57.242529",
     "exception": false,
     "start_time": "2024-09-05T10:16:57.208482",
     "status": "completed"
    },
    "tags": []
   },
   "outputs": [
    {
     "name": "stdout",
     "output_type": "stream",
     "text": [
      "Saved dataframe into /home/daviddavo/recsys4daos/data/output/SharkDAO/baseline/openpop_3d_normalize.parquet\n"
     ]
    },
    {
     "data": {
      "text/html": [
       "<div>\n",
       "<style scoped>\n",
       "    .dataframe tbody tr th:only-of-type {\n",
       "        vertical-align: middle;\n",
       "    }\n",
       "\n",
       "    .dataframe tbody tr th {\n",
       "        vertical-align: top;\n",
       "    }\n",
       "\n",
       "    .dataframe thead th {\n",
       "        text-align: right;\n",
       "    }\n",
       "</style>\n",
       "<table border=\"1\" class=\"dataframe\">\n",
       "  <thead>\n",
       "    <tr style=\"text-align: right;\">\n",
       "      <th></th>\n",
       "      <th>precision@1</th>\n",
       "      <th>precision@3</th>\n",
       "      <th>precision@5</th>\n",
       "      <th>precision@10</th>\n",
       "      <th>precision@15</th>\n",
       "      <th>precision@100</th>\n",
       "      <th>ndcg@1</th>\n",
       "      <th>ndcg@3</th>\n",
       "      <th>ndcg@5</th>\n",
       "      <th>ndcg@10</th>\n",
       "      <th>...</th>\n",
       "      <th>recall@10</th>\n",
       "      <th>recall@15</th>\n",
       "      <th>recall@100</th>\n",
       "      <th>r-precision@1</th>\n",
       "      <th>r-precision@3</th>\n",
       "      <th>r-precision@5</th>\n",
       "      <th>r-precision@10</th>\n",
       "      <th>r-precision@15</th>\n",
       "      <th>r-precision@100</th>\n",
       "      <th>time_eval</th>\n",
       "    </tr>\n",
       "  </thead>\n",
       "  <tbody>\n",
       "    <tr>\n",
       "      <th>count</th>\n",
       "      <td>237.000000</td>\n",
       "      <td>237.000000</td>\n",
       "      <td>237.000000</td>\n",
       "      <td>237.000000</td>\n",
       "      <td>237.000000</td>\n",
       "      <td>237.000000</td>\n",
       "      <td>237.000000</td>\n",
       "      <td>237.000000</td>\n",
       "      <td>237.000000</td>\n",
       "      <td>237.000000</td>\n",
       "      <td>...</td>\n",
       "      <td>237.000000</td>\n",
       "      <td>237.000000</td>\n",
       "      <td>237.000000</td>\n",
       "      <td>237.000000</td>\n",
       "      <td>235.000000</td>\n",
       "      <td>232.000000</td>\n",
       "      <td>232.000000</td>\n",
       "      <td>232.000000</td>\n",
       "      <td>232.000000</td>\n",
       "      <td>237.000000</td>\n",
       "    </tr>\n",
       "    <tr>\n",
       "      <th>mean</th>\n",
       "      <td>0.418226</td>\n",
       "      <td>0.272126</td>\n",
       "      <td>0.186478</td>\n",
       "      <td>0.097022</td>\n",
       "      <td>0.064681</td>\n",
       "      <td>0.009702</td>\n",
       "      <td>0.412678</td>\n",
       "      <td>0.495799</td>\n",
       "      <td>0.514332</td>\n",
       "      <td>0.519609</td>\n",
       "      <td>...</td>\n",
       "      <td>0.611768</td>\n",
       "      <td>0.611768</td>\n",
       "      <td>0.611768</td>\n",
       "      <td>0.496295</td>\n",
       "      <td>0.586647</td>\n",
       "      <td>0.608002</td>\n",
       "      <td>0.609625</td>\n",
       "      <td>0.609625</td>\n",
       "      <td>0.609625</td>\n",
       "      <td>0.110432</td>\n",
       "    </tr>\n",
       "    <tr>\n",
       "      <th>std</th>\n",
       "      <td>0.380736</td>\n",
       "      <td>0.214594</td>\n",
       "      <td>0.149517</td>\n",
       "      <td>0.079399</td>\n",
       "      <td>0.052933</td>\n",
       "      <td>0.007940</td>\n",
       "      <td>0.380073</td>\n",
       "      <td>0.393326</td>\n",
       "      <td>0.391899</td>\n",
       "      <td>0.392097</td>\n",
       "      <td>...</td>\n",
       "      <td>0.441351</td>\n",
       "      <td>0.441351</td>\n",
       "      <td>0.441351</td>\n",
       "      <td>0.390694</td>\n",
       "      <td>0.406578</td>\n",
       "      <td>0.406155</td>\n",
       "      <td>0.406535</td>\n",
       "      <td>0.406535</td>\n",
       "      <td>0.406535</td>\n",
       "      <td>0.026060</td>\n",
       "    </tr>\n",
       "    <tr>\n",
       "      <th>min</th>\n",
       "      <td>0.000000</td>\n",
       "      <td>0.000000</td>\n",
       "      <td>0.000000</td>\n",
       "      <td>0.000000</td>\n",
       "      <td>0.000000</td>\n",
       "      <td>0.000000</td>\n",
       "      <td>0.000000</td>\n",
       "      <td>0.000000</td>\n",
       "      <td>0.000000</td>\n",
       "      <td>0.000000</td>\n",
       "      <td>...</td>\n",
       "      <td>0.000000</td>\n",
       "      <td>0.000000</td>\n",
       "      <td>0.000000</td>\n",
       "      <td>0.000000</td>\n",
       "      <td>0.000000</td>\n",
       "      <td>0.000000</td>\n",
       "      <td>0.000000</td>\n",
       "      <td>0.000000</td>\n",
       "      <td>0.000000</td>\n",
       "      <td>0.068196</td>\n",
       "    </tr>\n",
       "    <tr>\n",
       "      <th>25%</th>\n",
       "      <td>0.000000</td>\n",
       "      <td>0.000000</td>\n",
       "      <td>0.000000</td>\n",
       "      <td>0.000000</td>\n",
       "      <td>0.000000</td>\n",
       "      <td>0.000000</td>\n",
       "      <td>0.000000</td>\n",
       "      <td>0.000000</td>\n",
       "      <td>0.000000</td>\n",
       "      <td>0.000000</td>\n",
       "      <td>...</td>\n",
       "      <td>0.000000</td>\n",
       "      <td>0.000000</td>\n",
       "      <td>0.000000</td>\n",
       "      <td>0.000000</td>\n",
       "      <td>0.000000</td>\n",
       "      <td>0.000000</td>\n",
       "      <td>0.000000</td>\n",
       "      <td>0.000000</td>\n",
       "      <td>0.000000</td>\n",
       "      <td>0.084676</td>\n",
       "    </tr>\n",
       "    <tr>\n",
       "      <th>50%</th>\n",
       "      <td>0.333333</td>\n",
       "      <td>0.333333</td>\n",
       "      <td>0.200000</td>\n",
       "      <td>0.100000</td>\n",
       "      <td>0.066667</td>\n",
       "      <td>0.010000</td>\n",
       "      <td>0.333333</td>\n",
       "      <td>0.545259</td>\n",
       "      <td>0.599166</td>\n",
       "      <td>0.619290</td>\n",
       "      <td>...</td>\n",
       "      <td>1.000000</td>\n",
       "      <td>1.000000</td>\n",
       "      <td>1.000000</td>\n",
       "      <td>0.520000</td>\n",
       "      <td>0.708333</td>\n",
       "      <td>0.746795</td>\n",
       "      <td>0.750000</td>\n",
       "      <td>0.750000</td>\n",
       "      <td>0.750000</td>\n",
       "      <td>0.122438</td>\n",
       "    </tr>\n",
       "    <tr>\n",
       "      <th>75%</th>\n",
       "      <td>0.800000</td>\n",
       "      <td>0.400000</td>\n",
       "      <td>0.288889</td>\n",
       "      <td>0.147619</td>\n",
       "      <td>0.098413</td>\n",
       "      <td>0.014762</td>\n",
       "      <td>0.800000</td>\n",
       "      <td>0.872600</td>\n",
       "      <td>0.876977</td>\n",
       "      <td>0.876977</td>\n",
       "      <td>...</td>\n",
       "      <td>1.000000</td>\n",
       "      <td>1.000000</td>\n",
       "      <td>1.000000</td>\n",
       "      <td>0.875000</td>\n",
       "      <td>1.000000</td>\n",
       "      <td>1.000000</td>\n",
       "      <td>1.000000</td>\n",
       "      <td>1.000000</td>\n",
       "      <td>1.000000</td>\n",
       "      <td>0.125065</td>\n",
       "    </tr>\n",
       "    <tr>\n",
       "      <th>max</th>\n",
       "      <td>1.000000</td>\n",
       "      <td>0.787879</td>\n",
       "      <td>0.560000</td>\n",
       "      <td>0.300000</td>\n",
       "      <td>0.200000</td>\n",
       "      <td>0.030000</td>\n",
       "      <td>1.000000</td>\n",
       "      <td>1.000000</td>\n",
       "      <td>1.000000</td>\n",
       "      <td>1.000000</td>\n",
       "      <td>...</td>\n",
       "      <td>1.000000</td>\n",
       "      <td>1.000000</td>\n",
       "      <td>1.000000</td>\n",
       "      <td>1.000000</td>\n",
       "      <td>1.000000</td>\n",
       "      <td>1.000000</td>\n",
       "      <td>1.000000</td>\n",
       "      <td>1.000000</td>\n",
       "      <td>1.000000</td>\n",
       "      <td>0.290368</td>\n",
       "    </tr>\n",
       "  </tbody>\n",
       "</table>\n",
       "<p>8 rows × 31 columns</p>\n",
       "</div>"
      ],
      "text/plain": [
       "       precision@1  precision@3  precision@5  precision@10  precision@15  \\\n",
       "count   237.000000   237.000000   237.000000    237.000000    237.000000   \n",
       "mean      0.418226     0.272126     0.186478      0.097022      0.064681   \n",
       "std       0.380736     0.214594     0.149517      0.079399      0.052933   \n",
       "min       0.000000     0.000000     0.000000      0.000000      0.000000   \n",
       "25%       0.000000     0.000000     0.000000      0.000000      0.000000   \n",
       "50%       0.333333     0.333333     0.200000      0.100000      0.066667   \n",
       "75%       0.800000     0.400000     0.288889      0.147619      0.098413   \n",
       "max       1.000000     0.787879     0.560000      0.300000      0.200000   \n",
       "\n",
       "       precision@100      ndcg@1      ndcg@3      ndcg@5     ndcg@10  ...  \\\n",
       "count     237.000000  237.000000  237.000000  237.000000  237.000000  ...   \n",
       "mean        0.009702    0.412678    0.495799    0.514332    0.519609  ...   \n",
       "std         0.007940    0.380073    0.393326    0.391899    0.392097  ...   \n",
       "min         0.000000    0.000000    0.000000    0.000000    0.000000  ...   \n",
       "25%         0.000000    0.000000    0.000000    0.000000    0.000000  ...   \n",
       "50%         0.010000    0.333333    0.545259    0.599166    0.619290  ...   \n",
       "75%         0.014762    0.800000    0.872600    0.876977    0.876977  ...   \n",
       "max         0.030000    1.000000    1.000000    1.000000    1.000000  ...   \n",
       "\n",
       "        recall@10   recall@15  recall@100  r-precision@1  r-precision@3  \\\n",
       "count  237.000000  237.000000  237.000000     237.000000     235.000000   \n",
       "mean     0.611768    0.611768    0.611768       0.496295       0.586647   \n",
       "std      0.441351    0.441351    0.441351       0.390694       0.406578   \n",
       "min      0.000000    0.000000    0.000000       0.000000       0.000000   \n",
       "25%      0.000000    0.000000    0.000000       0.000000       0.000000   \n",
       "50%      1.000000    1.000000    1.000000       0.520000       0.708333   \n",
       "75%      1.000000    1.000000    1.000000       0.875000       1.000000   \n",
       "max      1.000000    1.000000    1.000000       1.000000       1.000000   \n",
       "\n",
       "       r-precision@5  r-precision@10  r-precision@15  r-precision@100  \\\n",
       "count     232.000000      232.000000      232.000000       232.000000   \n",
       "mean        0.608002        0.609625        0.609625         0.609625   \n",
       "std         0.406155        0.406535        0.406535         0.406535   \n",
       "min         0.000000        0.000000        0.000000         0.000000   \n",
       "25%         0.000000        0.000000        0.000000         0.000000   \n",
       "50%         0.746795        0.750000        0.750000         0.750000   \n",
       "75%         1.000000        1.000000        1.000000         1.000000   \n",
       "max         1.000000        1.000000        1.000000         1.000000   \n",
       "\n",
       "        time_eval  \n",
       "count  237.000000  \n",
       "mean     0.110432  \n",
       "std      0.026060  \n",
       "min      0.068196  \n",
       "25%      0.084676  \n",
       "50%      0.122438  \n",
       "75%      0.125065  \n",
       "max      0.290368  \n",
       "\n",
       "[8 rows x 31 columns]"
      ]
     },
     "execution_count": 10,
     "metadata": {},
     "output_type": "execute_result"
    }
   ],
   "source": [
    "odf = pd.DataFrame(metrics).set_index(\"fold\")\n",
    "paths.save_openpop(odf, ORG_NAME, SPLITS_FREQ, SPLITS_NORMALIZE)\n",
    "odf.describe()"
   ]
  },
  {
   "cell_type": "code",
   "execution_count": 11,
   "id": "f4da7819",
   "metadata": {
    "execution": {
     "iopub.execute_input": "2024-09-05T10:16:57.254828Z",
     "iopub.status.busy": "2024-09-05T10:16:57.254727Z",
     "iopub.status.idle": "2024-09-05T10:16:57.280751Z",
     "shell.execute_reply": "2024-09-05T10:16:57.280559Z"
    },
    "papermill": {
     "duration": 0.033038,
     "end_time": "2024-09-05T10:16:57.281459",
     "exception": false,
     "start_time": "2024-09-05T10:16:57.248421",
     "status": "completed"
    },
    "tags": []
   },
   "outputs": [
    {
     "name": "stdout",
     "output_type": "stream",
     "text": [
      "Saved dataframe into /home/daviddavo/recsys4daos/data/output/SharkDAO/baseline/perfect_3d_normalize.parquet\n"
     ]
    },
    {
     "data": {
      "text/html": [
       "<div>\n",
       "<style scoped>\n",
       "    .dataframe tbody tr th:only-of-type {\n",
       "        vertical-align: middle;\n",
       "    }\n",
       "\n",
       "    .dataframe tbody tr th {\n",
       "        vertical-align: top;\n",
       "    }\n",
       "\n",
       "    .dataframe thead th {\n",
       "        text-align: right;\n",
       "    }\n",
       "</style>\n",
       "<table border=\"1\" class=\"dataframe\">\n",
       "  <thead>\n",
       "    <tr style=\"text-align: right;\">\n",
       "      <th></th>\n",
       "      <th>precision@1</th>\n",
       "      <th>precision@3</th>\n",
       "      <th>precision@5</th>\n",
       "      <th>precision@10</th>\n",
       "      <th>precision@15</th>\n",
       "      <th>precision@100</th>\n",
       "      <th>ndcg@1</th>\n",
       "      <th>ndcg@3</th>\n",
       "      <th>ndcg@5</th>\n",
       "      <th>ndcg@10</th>\n",
       "      <th>...</th>\n",
       "      <th>recall@10</th>\n",
       "      <th>recall@15</th>\n",
       "      <th>recall@100</th>\n",
       "      <th>r-precision@1</th>\n",
       "      <th>r-precision@3</th>\n",
       "      <th>r-precision@5</th>\n",
       "      <th>r-precision@10</th>\n",
       "      <th>r-precision@15</th>\n",
       "      <th>r-precision@100</th>\n",
       "      <th>time_eval</th>\n",
       "    </tr>\n",
       "  </thead>\n",
       "  <tbody>\n",
       "    <tr>\n",
       "      <th>count</th>\n",
       "      <td>237.000000</td>\n",
       "      <td>237.000000</td>\n",
       "      <td>237.000000</td>\n",
       "      <td>237.000000</td>\n",
       "      <td>237.000000</td>\n",
       "      <td>237.000000</td>\n",
       "      <td>237.000000</td>\n",
       "      <td>237.000000</td>\n",
       "      <td>237.000000</td>\n",
       "      <td>237.000000</td>\n",
       "      <td>...</td>\n",
       "      <td>237.000000</td>\n",
       "      <td>237.000000</td>\n",
       "      <td>237.000000</td>\n",
       "      <td>237.000000</td>\n",
       "      <td>237.000000</td>\n",
       "      <td>237.000000</td>\n",
       "      <td>237.000000</td>\n",
       "      <td>237.000000</td>\n",
       "      <td>237.000000</td>\n",
       "      <td>237.000000</td>\n",
       "    </tr>\n",
       "    <tr>\n",
       "      <th>mean</th>\n",
       "      <td>0.789030</td>\n",
       "      <td>0.397804</td>\n",
       "      <td>0.253311</td>\n",
       "      <td>0.128495</td>\n",
       "      <td>0.085664</td>\n",
       "      <td>0.012850</td>\n",
       "      <td>0.789030</td>\n",
       "      <td>0.789030</td>\n",
       "      <td>0.789030</td>\n",
       "      <td>0.789030</td>\n",
       "      <td>...</td>\n",
       "      <td>0.789030</td>\n",
       "      <td>0.789030</td>\n",
       "      <td>0.789030</td>\n",
       "      <td>0.622684</td>\n",
       "      <td>0.771302</td>\n",
       "      <td>0.786325</td>\n",
       "      <td>0.789030</td>\n",
       "      <td>0.789030</td>\n",
       "      <td>0.789030</td>\n",
       "      <td>0.117022</td>\n",
       "    </tr>\n",
       "    <tr>\n",
       "      <th>std</th>\n",
       "      <td>0.408861</td>\n",
       "      <td>0.249446</td>\n",
       "      <td>0.170074</td>\n",
       "      <td>0.088719</td>\n",
       "      <td>0.059146</td>\n",
       "      <td>0.008872</td>\n",
       "      <td>0.408861</td>\n",
       "      <td>0.408861</td>\n",
       "      <td>0.408861</td>\n",
       "      <td>0.408861</td>\n",
       "      <td>...</td>\n",
       "      <td>0.408861</td>\n",
       "      <td>0.408861</td>\n",
       "      <td>0.408861</td>\n",
       "      <td>0.362758</td>\n",
       "      <td>0.401948</td>\n",
       "      <td>0.407646</td>\n",
       "      <td>0.408861</td>\n",
       "      <td>0.408861</td>\n",
       "      <td>0.408861</td>\n",
       "      <td>0.022751</td>\n",
       "    </tr>\n",
       "    <tr>\n",
       "      <th>min</th>\n",
       "      <td>0.000000</td>\n",
       "      <td>0.000000</td>\n",
       "      <td>0.000000</td>\n",
       "      <td>0.000000</td>\n",
       "      <td>0.000000</td>\n",
       "      <td>0.000000</td>\n",
       "      <td>0.000000</td>\n",
       "      <td>0.000000</td>\n",
       "      <td>0.000000</td>\n",
       "      <td>0.000000</td>\n",
       "      <td>...</td>\n",
       "      <td>0.000000</td>\n",
       "      <td>0.000000</td>\n",
       "      <td>0.000000</td>\n",
       "      <td>0.000000</td>\n",
       "      <td>0.000000</td>\n",
       "      <td>0.000000</td>\n",
       "      <td>0.000000</td>\n",
       "      <td>0.000000</td>\n",
       "      <td>0.000000</td>\n",
       "      <td>0.072086</td>\n",
       "    </tr>\n",
       "    <tr>\n",
       "      <th>25%</th>\n",
       "      <td>1.000000</td>\n",
       "      <td>0.333333</td>\n",
       "      <td>0.200000</td>\n",
       "      <td>0.100000</td>\n",
       "      <td>0.066667</td>\n",
       "      <td>0.010000</td>\n",
       "      <td>1.000000</td>\n",
       "      <td>1.000000</td>\n",
       "      <td>1.000000</td>\n",
       "      <td>1.000000</td>\n",
       "      <td>...</td>\n",
       "      <td>1.000000</td>\n",
       "      <td>1.000000</td>\n",
       "      <td>1.000000</td>\n",
       "      <td>0.479167</td>\n",
       "      <td>0.850000</td>\n",
       "      <td>0.966667</td>\n",
       "      <td>1.000000</td>\n",
       "      <td>1.000000</td>\n",
       "      <td>1.000000</td>\n",
       "      <td>0.124716</td>\n",
       "    </tr>\n",
       "    <tr>\n",
       "      <th>50%</th>\n",
       "      <td>1.000000</td>\n",
       "      <td>0.400000</td>\n",
       "      <td>0.240000</td>\n",
       "      <td>0.120000</td>\n",
       "      <td>0.080000</td>\n",
       "      <td>0.012000</td>\n",
       "      <td>1.000000</td>\n",
       "      <td>1.000000</td>\n",
       "      <td>1.000000</td>\n",
       "      <td>1.000000</td>\n",
       "      <td>...</td>\n",
       "      <td>1.000000</td>\n",
       "      <td>1.000000</td>\n",
       "      <td>1.000000</td>\n",
       "      <td>0.708333</td>\n",
       "      <td>1.000000</td>\n",
       "      <td>1.000000</td>\n",
       "      <td>1.000000</td>\n",
       "      <td>1.000000</td>\n",
       "      <td>1.000000</td>\n",
       "      <td>0.128092</td>\n",
       "    </tr>\n",
       "    <tr>\n",
       "      <th>75%</th>\n",
       "      <td>1.000000</td>\n",
       "      <td>0.595745</td>\n",
       "      <td>0.366667</td>\n",
       "      <td>0.183333</td>\n",
       "      <td>0.122222</td>\n",
       "      <td>0.018333</td>\n",
       "      <td>1.000000</td>\n",
       "      <td>1.000000</td>\n",
       "      <td>1.000000</td>\n",
       "      <td>1.000000</td>\n",
       "      <td>...</td>\n",
       "      <td>1.000000</td>\n",
       "      <td>1.000000</td>\n",
       "      <td>1.000000</td>\n",
       "      <td>0.958333</td>\n",
       "      <td>1.000000</td>\n",
       "      <td>1.000000</td>\n",
       "      <td>1.000000</td>\n",
       "      <td>1.000000</td>\n",
       "      <td>1.000000</td>\n",
       "      <td>0.129393</td>\n",
       "    </tr>\n",
       "    <tr>\n",
       "      <th>max</th>\n",
       "      <td>1.000000</td>\n",
       "      <td>0.937500</td>\n",
       "      <td>0.662500</td>\n",
       "      <td>0.400000</td>\n",
       "      <td>0.266667</td>\n",
       "      <td>0.040000</td>\n",
       "      <td>1.000000</td>\n",
       "      <td>1.000000</td>\n",
       "      <td>1.000000</td>\n",
       "      <td>1.000000</td>\n",
       "      <td>...</td>\n",
       "      <td>1.000000</td>\n",
       "      <td>1.000000</td>\n",
       "      <td>1.000000</td>\n",
       "      <td>1.000000</td>\n",
       "      <td>1.000000</td>\n",
       "      <td>1.000000</td>\n",
       "      <td>1.000000</td>\n",
       "      <td>1.000000</td>\n",
       "      <td>1.000000</td>\n",
       "      <td>0.139061</td>\n",
       "    </tr>\n",
       "  </tbody>\n",
       "</table>\n",
       "<p>8 rows × 31 columns</p>\n",
       "</div>"
      ],
      "text/plain": [
       "       precision@1  precision@3  precision@5  precision@10  precision@15  \\\n",
       "count   237.000000   237.000000   237.000000    237.000000    237.000000   \n",
       "mean      0.789030     0.397804     0.253311      0.128495      0.085664   \n",
       "std       0.408861     0.249446     0.170074      0.088719      0.059146   \n",
       "min       0.000000     0.000000     0.000000      0.000000      0.000000   \n",
       "25%       1.000000     0.333333     0.200000      0.100000      0.066667   \n",
       "50%       1.000000     0.400000     0.240000      0.120000      0.080000   \n",
       "75%       1.000000     0.595745     0.366667      0.183333      0.122222   \n",
       "max       1.000000     0.937500     0.662500      0.400000      0.266667   \n",
       "\n",
       "       precision@100      ndcg@1      ndcg@3      ndcg@5     ndcg@10  ...  \\\n",
       "count     237.000000  237.000000  237.000000  237.000000  237.000000  ...   \n",
       "mean        0.012850    0.789030    0.789030    0.789030    0.789030  ...   \n",
       "std         0.008872    0.408861    0.408861    0.408861    0.408861  ...   \n",
       "min         0.000000    0.000000    0.000000    0.000000    0.000000  ...   \n",
       "25%         0.010000    1.000000    1.000000    1.000000    1.000000  ...   \n",
       "50%         0.012000    1.000000    1.000000    1.000000    1.000000  ...   \n",
       "75%         0.018333    1.000000    1.000000    1.000000    1.000000  ...   \n",
       "max         0.040000    1.000000    1.000000    1.000000    1.000000  ...   \n",
       "\n",
       "        recall@10   recall@15  recall@100  r-precision@1  r-precision@3  \\\n",
       "count  237.000000  237.000000  237.000000     237.000000     237.000000   \n",
       "mean     0.789030    0.789030    0.789030       0.622684       0.771302   \n",
       "std      0.408861    0.408861    0.408861       0.362758       0.401948   \n",
       "min      0.000000    0.000000    0.000000       0.000000       0.000000   \n",
       "25%      1.000000    1.000000    1.000000       0.479167       0.850000   \n",
       "50%      1.000000    1.000000    1.000000       0.708333       1.000000   \n",
       "75%      1.000000    1.000000    1.000000       0.958333       1.000000   \n",
       "max      1.000000    1.000000    1.000000       1.000000       1.000000   \n",
       "\n",
       "       r-precision@5  r-precision@10  r-precision@15  r-precision@100  \\\n",
       "count     237.000000      237.000000      237.000000       237.000000   \n",
       "mean        0.786325        0.789030        0.789030         0.789030   \n",
       "std         0.407646        0.408861        0.408861         0.408861   \n",
       "min         0.000000        0.000000        0.000000         0.000000   \n",
       "25%         0.966667        1.000000        1.000000         1.000000   \n",
       "50%         1.000000        1.000000        1.000000         1.000000   \n",
       "75%         1.000000        1.000000        1.000000         1.000000   \n",
       "max         1.000000        1.000000        1.000000         1.000000   \n",
       "\n",
       "        time_eval  \n",
       "count  237.000000  \n",
       "mean     0.117022  \n",
       "std      0.022751  \n",
       "min      0.072086  \n",
       "25%      0.124716  \n",
       "50%      0.128092  \n",
       "75%      0.129393  \n",
       "max      0.139061  \n",
       "\n",
       "[8 rows x 31 columns]"
      ]
     },
     "metadata": {},
     "output_type": "display_data"
    }
   ],
   "source": [
    "pdf = pd.DataFrame(perfectmetrics).set_index(\"fold\")\n",
    "cols = [ c for c in pdf.columns if not c.startswith('time_') ]\n",
    "paths.save_perfect(pdf, ORG_NAME, SPLITS_FREQ, SPLITS_NORMALIZE)\n",
    "display(pdf.describe())\n",
    "msk = (0 <= pdf[cols].min()) & (pdf[cols].max() <= 1)\n",
    "if not all(msk):\n",
    "    display(pdf.describe()[msk[~msk].index])\n",
    "assert all( msk ), \"There are metrics with wrong range\""
   ]
  },
  {
   "cell_type": "markdown",
   "id": "f65eb139",
   "metadata": {
    "papermill": {
     "duration": 0.006016,
     "end_time": "2024-09-05T10:16:57.293407",
     "exception": false,
     "start_time": "2024-09-05T10:16:57.287391",
     "status": "completed"
    },
    "tags": []
   },
   "source": [
    "## Plotting some graphs"
   ]
  },
  {
   "cell_type": "code",
   "execution_count": 12,
   "id": "e8b51bcc",
   "metadata": {
    "execution": {
     "iopub.execute_input": "2024-09-05T10:16:57.306099Z",
     "iopub.status.busy": "2024-09-05T10:16:57.305983Z",
     "iopub.status.idle": "2024-09-05T10:16:57.443254Z",
     "shell.execute_reply": "2024-09-05T10:16:57.443052Z"
    },
    "papermill": {
     "duration": 0.14436,
     "end_time": "2024-09-05T10:16:57.443876",
     "exception": false,
     "start_time": "2024-09-05T10:16:57.299516",
     "status": "completed"
    },
    "tags": []
   },
   "outputs": [
    {
     "data": {
      "text/html": [
       "<div>\n",
       "<style scoped>\n",
       "    .dataframe tbody tr th:only-of-type {\n",
       "        vertical-align: middle;\n",
       "    }\n",
       "\n",
       "    .dataframe tbody tr th {\n",
       "        vertical-align: top;\n",
       "    }\n",
       "\n",
       "    .dataframe thead th {\n",
       "        text-align: right;\n",
       "    }\n",
       "</style>\n",
       "<table border=\"1\" class=\"dataframe\">\n",
       "  <thead>\n",
       "    <tr style=\"text-align: right;\">\n",
       "      <th></th>\n",
       "      <th>fold</th>\n",
       "      <th>precision@1</th>\n",
       "      <th>precision@3</th>\n",
       "      <th>precision@5</th>\n",
       "      <th>precision@10</th>\n",
       "      <th>precision@15</th>\n",
       "      <th>precision@100</th>\n",
       "      <th>ndcg@1</th>\n",
       "      <th>ndcg@3</th>\n",
       "      <th>ndcg@5</th>\n",
       "      <th>...</th>\n",
       "      <th>recall@100</th>\n",
       "      <th>r-precision@1</th>\n",
       "      <th>r-precision@3</th>\n",
       "      <th>r-precision@5</th>\n",
       "      <th>r-precision@10</th>\n",
       "      <th>r-precision@15</th>\n",
       "      <th>r-precision@100</th>\n",
       "      <th>time_eval</th>\n",
       "      <th>perfect precision@5</th>\n",
       "      <th>perfect precision@10</th>\n",
       "    </tr>\n",
       "  </thead>\n",
       "  <tbody>\n",
       "    <tr>\n",
       "      <th>count</th>\n",
       "      <td>237</td>\n",
       "      <td>237.000000</td>\n",
       "      <td>237.000000</td>\n",
       "      <td>237.000000</td>\n",
       "      <td>237.000000</td>\n",
       "      <td>237.000000</td>\n",
       "      <td>237.000000</td>\n",
       "      <td>237.000000</td>\n",
       "      <td>237.000000</td>\n",
       "      <td>237.000000</td>\n",
       "      <td>...</td>\n",
       "      <td>237.000000</td>\n",
       "      <td>237.000000</td>\n",
       "      <td>235.000000</td>\n",
       "      <td>232.000000</td>\n",
       "      <td>232.000000</td>\n",
       "      <td>232.000000</td>\n",
       "      <td>232.000000</td>\n",
       "      <td>237.000000</td>\n",
       "      <td>0.0</td>\n",
       "      <td>0.0</td>\n",
       "    </tr>\n",
       "    <tr>\n",
       "      <th>mean</th>\n",
       "      <td>2022-07-29 00:00:00</td>\n",
       "      <td>0.418226</td>\n",
       "      <td>0.272126</td>\n",
       "      <td>0.186478</td>\n",
       "      <td>0.097022</td>\n",
       "      <td>0.064681</td>\n",
       "      <td>0.009702</td>\n",
       "      <td>0.412678</td>\n",
       "      <td>0.495799</td>\n",
       "      <td>0.514332</td>\n",
       "      <td>...</td>\n",
       "      <td>0.611768</td>\n",
       "      <td>0.496295</td>\n",
       "      <td>0.586647</td>\n",
       "      <td>0.608002</td>\n",
       "      <td>0.609625</td>\n",
       "      <td>0.609625</td>\n",
       "      <td>0.609625</td>\n",
       "      <td>0.110432</td>\n",
       "      <td>NaN</td>\n",
       "      <td>NaN</td>\n",
       "    </tr>\n",
       "    <tr>\n",
       "      <th>min</th>\n",
       "      <td>2021-08-09 00:00:00</td>\n",
       "      <td>0.000000</td>\n",
       "      <td>0.000000</td>\n",
       "      <td>0.000000</td>\n",
       "      <td>0.000000</td>\n",
       "      <td>0.000000</td>\n",
       "      <td>0.000000</td>\n",
       "      <td>0.000000</td>\n",
       "      <td>0.000000</td>\n",
       "      <td>0.000000</td>\n",
       "      <td>...</td>\n",
       "      <td>0.000000</td>\n",
       "      <td>0.000000</td>\n",
       "      <td>0.000000</td>\n",
       "      <td>0.000000</td>\n",
       "      <td>0.000000</td>\n",
       "      <td>0.000000</td>\n",
       "      <td>0.000000</td>\n",
       "      <td>0.068196</td>\n",
       "      <td>NaN</td>\n",
       "      <td>NaN</td>\n",
       "    </tr>\n",
       "    <tr>\n",
       "      <th>25%</th>\n",
       "      <td>2022-02-02 00:00:00</td>\n",
       "      <td>0.000000</td>\n",
       "      <td>0.000000</td>\n",
       "      <td>0.000000</td>\n",
       "      <td>0.000000</td>\n",
       "      <td>0.000000</td>\n",
       "      <td>0.000000</td>\n",
       "      <td>0.000000</td>\n",
       "      <td>0.000000</td>\n",
       "      <td>0.000000</td>\n",
       "      <td>...</td>\n",
       "      <td>0.000000</td>\n",
       "      <td>0.000000</td>\n",
       "      <td>0.000000</td>\n",
       "      <td>0.000000</td>\n",
       "      <td>0.000000</td>\n",
       "      <td>0.000000</td>\n",
       "      <td>0.000000</td>\n",
       "      <td>0.084676</td>\n",
       "      <td>NaN</td>\n",
       "      <td>NaN</td>\n",
       "    </tr>\n",
       "    <tr>\n",
       "      <th>50%</th>\n",
       "      <td>2022-07-29 00:00:00</td>\n",
       "      <td>0.333333</td>\n",
       "      <td>0.333333</td>\n",
       "      <td>0.200000</td>\n",
       "      <td>0.100000</td>\n",
       "      <td>0.066667</td>\n",
       "      <td>0.010000</td>\n",
       "      <td>0.333333</td>\n",
       "      <td>0.545259</td>\n",
       "      <td>0.599166</td>\n",
       "      <td>...</td>\n",
       "      <td>1.000000</td>\n",
       "      <td>0.520000</td>\n",
       "      <td>0.708333</td>\n",
       "      <td>0.746795</td>\n",
       "      <td>0.750000</td>\n",
       "      <td>0.750000</td>\n",
       "      <td>0.750000</td>\n",
       "      <td>0.122438</td>\n",
       "      <td>NaN</td>\n",
       "      <td>NaN</td>\n",
       "    </tr>\n",
       "    <tr>\n",
       "      <th>75%</th>\n",
       "      <td>2023-01-22 00:00:00</td>\n",
       "      <td>0.800000</td>\n",
       "      <td>0.400000</td>\n",
       "      <td>0.288889</td>\n",
       "      <td>0.147619</td>\n",
       "      <td>0.098413</td>\n",
       "      <td>0.014762</td>\n",
       "      <td>0.800000</td>\n",
       "      <td>0.872600</td>\n",
       "      <td>0.876977</td>\n",
       "      <td>...</td>\n",
       "      <td>1.000000</td>\n",
       "      <td>0.875000</td>\n",
       "      <td>1.000000</td>\n",
       "      <td>1.000000</td>\n",
       "      <td>1.000000</td>\n",
       "      <td>1.000000</td>\n",
       "      <td>1.000000</td>\n",
       "      <td>0.125065</td>\n",
       "      <td>NaN</td>\n",
       "      <td>NaN</td>\n",
       "    </tr>\n",
       "    <tr>\n",
       "      <th>max</th>\n",
       "      <td>2023-07-18 00:00:00</td>\n",
       "      <td>1.000000</td>\n",
       "      <td>0.787879</td>\n",
       "      <td>0.560000</td>\n",
       "      <td>0.300000</td>\n",
       "      <td>0.200000</td>\n",
       "      <td>0.030000</td>\n",
       "      <td>1.000000</td>\n",
       "      <td>1.000000</td>\n",
       "      <td>1.000000</td>\n",
       "      <td>...</td>\n",
       "      <td>1.000000</td>\n",
       "      <td>1.000000</td>\n",
       "      <td>1.000000</td>\n",
       "      <td>1.000000</td>\n",
       "      <td>1.000000</td>\n",
       "      <td>1.000000</td>\n",
       "      <td>1.000000</td>\n",
       "      <td>0.290368</td>\n",
       "      <td>NaN</td>\n",
       "      <td>NaN</td>\n",
       "    </tr>\n",
       "    <tr>\n",
       "      <th>std</th>\n",
       "      <td>NaN</td>\n",
       "      <td>0.380736</td>\n",
       "      <td>0.214594</td>\n",
       "      <td>0.149517</td>\n",
       "      <td>0.079399</td>\n",
       "      <td>0.052933</td>\n",
       "      <td>0.007940</td>\n",
       "      <td>0.380073</td>\n",
       "      <td>0.393326</td>\n",
       "      <td>0.391899</td>\n",
       "      <td>...</td>\n",
       "      <td>0.441351</td>\n",
       "      <td>0.390694</td>\n",
       "      <td>0.406578</td>\n",
       "      <td>0.406155</td>\n",
       "      <td>0.406535</td>\n",
       "      <td>0.406535</td>\n",
       "      <td>0.406535</td>\n",
       "      <td>0.026060</td>\n",
       "      <td>NaN</td>\n",
       "      <td>NaN</td>\n",
       "    </tr>\n",
       "  </tbody>\n",
       "</table>\n",
       "<p>8 rows × 34 columns</p>\n",
       "</div>"
      ],
      "text/plain": [
       "                      fold  precision@1  precision@3  precision@5  \\\n",
       "count                  237   237.000000   237.000000   237.000000   \n",
       "mean   2022-07-29 00:00:00     0.418226     0.272126     0.186478   \n",
       "min    2021-08-09 00:00:00     0.000000     0.000000     0.000000   \n",
       "25%    2022-02-02 00:00:00     0.000000     0.000000     0.000000   \n",
       "50%    2022-07-29 00:00:00     0.333333     0.333333     0.200000   \n",
       "75%    2023-01-22 00:00:00     0.800000     0.400000     0.288889   \n",
       "max    2023-07-18 00:00:00     1.000000     0.787879     0.560000   \n",
       "std                    NaN     0.380736     0.214594     0.149517   \n",
       "\n",
       "       precision@10  precision@15  precision@100      ndcg@1      ndcg@3  \\\n",
       "count    237.000000    237.000000     237.000000  237.000000  237.000000   \n",
       "mean       0.097022      0.064681       0.009702    0.412678    0.495799   \n",
       "min        0.000000      0.000000       0.000000    0.000000    0.000000   \n",
       "25%        0.000000      0.000000       0.000000    0.000000    0.000000   \n",
       "50%        0.100000      0.066667       0.010000    0.333333    0.545259   \n",
       "75%        0.147619      0.098413       0.014762    0.800000    0.872600   \n",
       "max        0.300000      0.200000       0.030000    1.000000    1.000000   \n",
       "std        0.079399      0.052933       0.007940    0.380073    0.393326   \n",
       "\n",
       "           ndcg@5  ...  recall@100  r-precision@1  r-precision@3  \\\n",
       "count  237.000000  ...  237.000000     237.000000     235.000000   \n",
       "mean     0.514332  ...    0.611768       0.496295       0.586647   \n",
       "min      0.000000  ...    0.000000       0.000000       0.000000   \n",
       "25%      0.000000  ...    0.000000       0.000000       0.000000   \n",
       "50%      0.599166  ...    1.000000       0.520000       0.708333   \n",
       "75%      0.876977  ...    1.000000       0.875000       1.000000   \n",
       "max      1.000000  ...    1.000000       1.000000       1.000000   \n",
       "std      0.391899  ...    0.441351       0.390694       0.406578   \n",
       "\n",
       "       r-precision@5  r-precision@10  r-precision@15  r-precision@100  \\\n",
       "count     232.000000      232.000000      232.000000       232.000000   \n",
       "mean        0.608002        0.609625        0.609625         0.609625   \n",
       "min         0.000000        0.000000        0.000000         0.000000   \n",
       "25%         0.000000        0.000000        0.000000         0.000000   \n",
       "50%         0.746795        0.750000        0.750000         0.750000   \n",
       "75%         1.000000        1.000000        1.000000         1.000000   \n",
       "max         1.000000        1.000000        1.000000         1.000000   \n",
       "std         0.406155        0.406535        0.406535         0.406535   \n",
       "\n",
       "        time_eval  perfect precision@5  perfect precision@10  \n",
       "count  237.000000                  0.0                   0.0  \n",
       "mean     0.110432                  NaN                   NaN  \n",
       "min      0.068196                  NaN                   NaN  \n",
       "25%      0.084676                  NaN                   NaN  \n",
       "50%      0.122438                  NaN                   NaN  \n",
       "75%      0.125065                  NaN                   NaN  \n",
       "max      0.290368                  NaN                   NaN  \n",
       "std      0.026060                  NaN                   NaN  \n",
       "\n",
       "[8 rows x 34 columns]"
      ]
     },
     "execution_count": 12,
     "metadata": {},
     "output_type": "execute_result"
    },
    {
     "data": {
      "image/png": "[encoded data removed]",
      "text/plain": [
       "<Figure size 640x480 with 1 Axes>"
      ]
     },
     "metadata": {},
     "output_type": "display_data"
    }
   ],
   "source": [
    "mdf = pd.DataFrame(metrics)\n",
    "mdf['perfect precision@5'] = pdf['precision@5']\n",
    "mdf['perfect precision@10'] = pdf['precision@10']\n",
    "mdf[['precision@5', 'perfect precision@5', 'precision@10', 'perfect precision@10']].plot(title='Evaluación modelo baseline MP')\n",
    "mdf.describe()"
   ]
  },
  {
   "cell_type": "code",
   "execution_count": 13,
   "id": "0d069036",
   "metadata": {
    "execution": {
     "iopub.execute_input": "2024-09-05T10:16:57.457906Z",
     "iopub.status.busy": "2024-09-05T10:16:57.457771Z",
     "iopub.status.idle": "2024-09-05T10:16:57.481977Z",
     "shell.execute_reply": "2024-09-05T10:16:57.481768Z"
    },
    "papermill": {
     "duration": 0.031936,
     "end_time": "2024-09-05T10:16:57.482698",
     "exception": false,
     "start_time": "2024-09-05T10:16:57.450762",
     "status": "completed"
    },
    "tags": []
   },
   "outputs": [
    {
     "data": {
      "text/html": [
       "<div>\n",
       "<style scoped>\n",
       "    .dataframe tbody tr th:only-of-type {\n",
       "        vertical-align: middle;\n",
       "    }\n",
       "\n",
       "    .dataframe tbody tr th {\n",
       "        vertical-align: top;\n",
       "    }\n",
       "\n",
       "    .dataframe thead th {\n",
       "        text-align: right;\n",
       "    }\n",
       "</style>\n",
       "<table border=\"1\" class=\"dataframe\">\n",
       "  <thead>\n",
       "    <tr style=\"text-align: right;\">\n",
       "      <th></th>\n",
       "      <th>fold</th>\n",
       "      <th>precision@1</th>\n",
       "      <th>precision@3</th>\n",
       "      <th>precision@5</th>\n",
       "      <th>precision@10</th>\n",
       "      <th>precision@15</th>\n",
       "      <th>precision@100</th>\n",
       "      <th>ndcg@1</th>\n",
       "      <th>ndcg@3</th>\n",
       "      <th>ndcg@5</th>\n",
       "      <th>...</th>\n",
       "      <th>recall@100</th>\n",
       "      <th>r-precision@1</th>\n",
       "      <th>r-precision@3</th>\n",
       "      <th>r-precision@5</th>\n",
       "      <th>r-precision@10</th>\n",
       "      <th>r-precision@15</th>\n",
       "      <th>r-precision@100</th>\n",
       "      <th>time_eval</th>\n",
       "      <th>perfect precision@5</th>\n",
       "      <th>perfect precision@10</th>\n",
       "    </tr>\n",
       "  </thead>\n",
       "  <tbody>\n",
       "    <tr>\n",
       "      <th>count</th>\n",
       "      <td>10</td>\n",
       "      <td>10.000000</td>\n",
       "      <td>10.000000</td>\n",
       "      <td>10.000000</td>\n",
       "      <td>10.000000</td>\n",
       "      <td>10.000000</td>\n",
       "      <td>10.000000</td>\n",
       "      <td>10.000000</td>\n",
       "      <td>10.000000</td>\n",
       "      <td>10.000000</td>\n",
       "      <td>...</td>\n",
       "      <td>10.000000</td>\n",
       "      <td>10.000000</td>\n",
       "      <td>10.000000</td>\n",
       "      <td>9.000000</td>\n",
       "      <td>9.000000</td>\n",
       "      <td>9.000000</td>\n",
       "      <td>9.000000</td>\n",
       "      <td>10.000000</td>\n",
       "      <td>0.0</td>\n",
       "      <td>0.0</td>\n",
       "    </tr>\n",
       "    <tr>\n",
       "      <th>mean</th>\n",
       "      <td>2023-07-04 12:00:00</td>\n",
       "      <td>0.280397</td>\n",
       "      <td>0.276647</td>\n",
       "      <td>0.271091</td>\n",
       "      <td>0.155462</td>\n",
       "      <td>0.103642</td>\n",
       "      <td>0.015546</td>\n",
       "      <td>0.270063</td>\n",
       "      <td>0.368180</td>\n",
       "      <td>0.477698</td>\n",
       "      <td>...</td>\n",
       "      <td>0.764451</td>\n",
       "      <td>0.402127</td>\n",
       "      <td>0.509333</td>\n",
       "      <td>0.639527</td>\n",
       "      <td>0.649403</td>\n",
       "      <td>0.649403</td>\n",
       "      <td>0.649403</td>\n",
       "      <td>0.123934</td>\n",
       "      <td>NaN</td>\n",
       "      <td>NaN</td>\n",
       "    </tr>\n",
       "    <tr>\n",
       "      <th>min</th>\n",
       "      <td>2023-06-21 00:00:00</td>\n",
       "      <td>0.000000</td>\n",
       "      <td>0.000000</td>\n",
       "      <td>0.083333</td>\n",
       "      <td>0.041667</td>\n",
       "      <td>0.027778</td>\n",
       "      <td>0.004167</td>\n",
       "      <td>0.000000</td>\n",
       "      <td>0.000000</td>\n",
       "      <td>0.116848</td>\n",
       "      <td>...</td>\n",
       "      <td>0.180556</td>\n",
       "      <td>0.000000</td>\n",
       "      <td>0.000000</td>\n",
       "      <td>0.424074</td>\n",
       "      <td>0.424074</td>\n",
       "      <td>0.424074</td>\n",
       "      <td>0.424074</td>\n",
       "      <td>0.108643</td>\n",
       "      <td>NaN</td>\n",
       "      <td>NaN</td>\n",
       "    </tr>\n",
       "    <tr>\n",
       "      <th>25%</th>\n",
       "      <td>2023-06-27 18:00:00</td>\n",
       "      <td>0.098214</td>\n",
       "      <td>0.154167</td>\n",
       "      <td>0.200000</td>\n",
       "      <td>0.102083</td>\n",
       "      <td>0.068056</td>\n",
       "      <td>0.010208</td>\n",
       "      <td>0.095714</td>\n",
       "      <td>0.176340</td>\n",
       "      <td>0.432692</td>\n",
       "      <td>...</td>\n",
       "      <td>0.643490</td>\n",
       "      <td>0.239583</td>\n",
       "      <td>0.400521</td>\n",
       "      <td>0.555556</td>\n",
       "      <td>0.611111</td>\n",
       "      <td>0.611111</td>\n",
       "      <td>0.611111</td>\n",
       "      <td>0.123639</td>\n",
       "      <td>NaN</td>\n",
       "      <td>NaN</td>\n",
       "    </tr>\n",
       "    <tr>\n",
       "      <th>50%</th>\n",
       "      <td>2023-07-04 12:00:00</td>\n",
       "      <td>0.225000</td>\n",
       "      <td>0.333333</td>\n",
       "      <td>0.236111</td>\n",
       "      <td>0.123889</td>\n",
       "      <td>0.082593</td>\n",
       "      <td>0.012389</td>\n",
       "      <td>0.225000</td>\n",
       "      <td>0.405668</td>\n",
       "      <td>0.453082</td>\n",
       "      <td>...</td>\n",
       "      <td>0.825000</td>\n",
       "      <td>0.444167</td>\n",
       "      <td>0.496319</td>\n",
       "      <td>0.625000</td>\n",
       "      <td>0.641667</td>\n",
       "      <td>0.641667</td>\n",
       "      <td>0.641667</td>\n",
       "      <td>0.125976</td>\n",
       "      <td>NaN</td>\n",
       "      <td>NaN</td>\n",
       "    </tr>\n",
       "    <tr>\n",
       "      <th>75%</th>\n",
       "      <td>2023-07-11 06:00:00</td>\n",
       "      <td>0.395833</td>\n",
       "      <td>0.354167</td>\n",
       "      <td>0.360714</td>\n",
       "      <td>0.230357</td>\n",
       "      <td>0.153571</td>\n",
       "      <td>0.023036</td>\n",
       "      <td>0.395833</td>\n",
       "      <td>0.514376</td>\n",
       "      <td>0.572837</td>\n",
       "      <td>...</td>\n",
       "      <td>1.000000</td>\n",
       "      <td>0.576389</td>\n",
       "      <td>0.645833</td>\n",
       "      <td>0.666667</td>\n",
       "      <td>0.666667</td>\n",
       "      <td>0.666667</td>\n",
       "      <td>0.666667</td>\n",
       "      <td>0.126961</td>\n",
       "      <td>NaN</td>\n",
       "      <td>NaN</td>\n",
       "    </tr>\n",
       "    <tr>\n",
       "      <th>max</th>\n",
       "      <td>2023-07-18 00:00:00</td>\n",
       "      <td>0.777778</td>\n",
       "      <td>0.479167</td>\n",
       "      <td>0.462500</td>\n",
       "      <td>0.268750</td>\n",
       "      <td>0.179167</td>\n",
       "      <td>0.026875</td>\n",
       "      <td>0.777778</td>\n",
       "      <td>0.782357</td>\n",
       "      <td>0.866194</td>\n",
       "      <td>...</td>\n",
       "      <td>1.000000</td>\n",
       "      <td>0.869048</td>\n",
       "      <td>0.916667</td>\n",
       "      <td>0.916667</td>\n",
       "      <td>0.916667</td>\n",
       "      <td>0.916667</td>\n",
       "      <td>0.916667</td>\n",
       "      <td>0.129676</td>\n",
       "      <td>NaN</td>\n",
       "      <td>NaN</td>\n",
       "    </tr>\n",
       "    <tr>\n",
       "      <th>std</th>\n",
       "      <td>NaN</td>\n",
       "      <td>0.256751</td>\n",
       "      <td>0.158603</td>\n",
       "      <td>0.114085</td>\n",
       "      <td>0.080097</td>\n",
       "      <td>0.053398</td>\n",
       "      <td>0.008010</td>\n",
       "      <td>0.244864</td>\n",
       "      <td>0.239887</td>\n",
       "      <td>0.196135</td>\n",
       "      <td>...</td>\n",
       "      <td>0.280397</td>\n",
       "      <td>0.274239</td>\n",
       "      <td>0.248535</td>\n",
       "      <td>0.169435</td>\n",
       "      <td>0.166660</td>\n",
       "      <td>0.166660</td>\n",
       "      <td>0.166660</td>\n",
       "      <td>0.005961</td>\n",
       "      <td>NaN</td>\n",
       "      <td>NaN</td>\n",
       "    </tr>\n",
       "  </tbody>\n",
       "</table>\n",
       "<p>8 rows × 34 columns</p>\n",
       "</div>"
      ],
      "text/plain": [
       "                      fold  precision@1  precision@3  precision@5  \\\n",
       "count                   10    10.000000    10.000000    10.000000   \n",
       "mean   2023-07-04 12:00:00     0.280397     0.276647     0.271091   \n",
       "min    2023-06-21 00:00:00     0.000000     0.000000     0.083333   \n",
       "25%    2023-06-27 18:00:00     0.098214     0.154167     0.200000   \n",
       "50%    2023-07-04 12:00:00     0.225000     0.333333     0.236111   \n",
       "75%    2023-07-11 06:00:00     0.395833     0.354167     0.360714   \n",
       "max    2023-07-18 00:00:00     0.777778     0.479167     0.462500   \n",
       "std                    NaN     0.256751     0.158603     0.114085   \n",
       "\n",
       "       precision@10  precision@15  precision@100     ndcg@1     ndcg@3  \\\n",
       "count     10.000000     10.000000      10.000000  10.000000  10.000000   \n",
       "mean       0.155462      0.103642       0.015546   0.270063   0.368180   \n",
       "min        0.041667      0.027778       0.004167   0.000000   0.000000   \n",
       "25%        0.102083      0.068056       0.010208   0.095714   0.176340   \n",
       "50%        0.123889      0.082593       0.012389   0.225000   0.405668   \n",
       "75%        0.230357      0.153571       0.023036   0.395833   0.514376   \n",
       "max        0.268750      0.179167       0.026875   0.777778   0.782357   \n",
       "std        0.080097      0.053398       0.008010   0.244864   0.239887   \n",
       "\n",
       "          ndcg@5  ...  recall@100  r-precision@1  r-precision@3  \\\n",
       "count  10.000000  ...   10.000000      10.000000      10.000000   \n",
       "mean    0.477698  ...    0.764451       0.402127       0.509333   \n",
       "min     0.116848  ...    0.180556       0.000000       0.000000   \n",
       "25%     0.432692  ...    0.643490       0.239583       0.400521   \n",
       "50%     0.453082  ...    0.825000       0.444167       0.496319   \n",
       "75%     0.572837  ...    1.000000       0.576389       0.645833   \n",
       "max     0.866194  ...    1.000000       0.869048       0.916667   \n",
       "std     0.196135  ...    0.280397       0.274239       0.248535   \n",
       "\n",
       "       r-precision@5  r-precision@10  r-precision@15  r-precision@100  \\\n",
       "count       9.000000        9.000000        9.000000         9.000000   \n",
       "mean        0.639527        0.649403        0.649403         0.649403   \n",
       "min         0.424074        0.424074        0.424074         0.424074   \n",
       "25%         0.555556        0.611111        0.611111         0.611111   \n",
       "50%         0.625000        0.641667        0.641667         0.641667   \n",
       "75%         0.666667        0.666667        0.666667         0.666667   \n",
       "max         0.916667        0.916667        0.916667         0.916667   \n",
       "std         0.169435        0.166660        0.166660         0.166660   \n",
       "\n",
       "       time_eval  perfect precision@5  perfect precision@10  \n",
       "count  10.000000                  0.0                   0.0  \n",
       "mean    0.123934                  NaN                   NaN  \n",
       "min     0.108643                  NaN                   NaN  \n",
       "25%     0.123639                  NaN                   NaN  \n",
       "50%     0.125976                  NaN                   NaN  \n",
       "75%     0.126961                  NaN                   NaN  \n",
       "max     0.129676                  NaN                   NaN  \n",
       "std     0.005961                  NaN                   NaN  \n",
       "\n",
       "[8 rows x 34 columns]"
      ]
     },
     "execution_count": 13,
     "metadata": {},
     "output_type": "execute_result"
    }
   ],
   "source": [
    "mdf[-LAST_FOLDS:].describe()"
   ]
  },
  {
   "cell_type": "code",
   "execution_count": null,
   "id": "81d62a43",
   "metadata": {
    "papermill": {
     "duration": 0.00665,
     "end_time": "2024-09-05T10:16:57.496372",
     "exception": false,
     "start_time": "2024-09-05T10:16:57.489722",
     "status": "completed"
    },
    "tags": []
   },
   "outputs": [],
   "source": []
  }
 ],
 "metadata": {
  "kernelspec": {
   "display_name": "Python 3 (ipykernel)",
   "language": "python",
   "name": "python3"
  },
  "language_info": {
   "codemirror_mode": {
    "name": "ipython",
    "version": 3
   },
   "file_extension": ".py",
   "mimetype": "text/x-python",
   "name": "python",
   "nbconvert_exporter": "python",
   "pygments_lexer": "ipython3",
   "version": "3.11.6"
  },
  "papermill": {
   "default_parameters": {},
   "duration": 61.219774,
   "end_time": "2024-09-05T10:16:58.520782",
   "environment_variables": {},
   "exception": null,
   "input_path": "10_baseline.ipynb",
   "output_path": "../nbout/SharkDAO/10_baseline.ipynb",
   "parameters": {
    "EXECUTION_ID": "2024-09-04T10:00",
    "LAST_FOLDS": 10,
    "LAST_FOLD_DATE_STR": "2022-04-27",
    "ORG_NAME": "SharkDAO",
    "SPLITS_FREQ": "3d",
    "SPLITS_NORMALIZE": true
   },
   "start_time": "2024-09-05T10:15:57.301008",
   "version": "2.6.0"
  },
  "widgets": {
   "application/vnd.jupyter.widget-state+json": {
    "state": {
     "692926c335194f21910e2fe68d9fcc07": {
      "model_module": "@jupyter-widgets/base",
      "model_module_version": "2.0.0",
      "model_name": "LayoutModel",
      "state": {
       "_model_module": "@jupyter-widgets/base",
       "_model_module_version": "2.0.0",
       "_model_name": "LayoutModel",
       "_view_count": null,
       "_view_module": "@jupyter-widgets/base",
       "_view_module_version": "2.0.0",
       "_view_name": "LayoutView",
       "align_content": null,
       "align_items": null,
       "align_self": null,
       "border_bottom": null,
       "border_left": null,
       "border_right": null,
       "border_top": null,
       "bottom": null,
       "display": null,
       "flex": null,
       "flex_flow": null,
       "grid_area": null,
       "grid_auto_columns": null,
       "grid_auto_flow": null,
       "grid_auto_rows": null,
       "grid_column": null,
       "grid_gap": null,
       "grid_row": null,
       "grid_template_areas": null,
       "grid_template_columns": null,
       "grid_template_rows": null,
       "height": null,
       "justify_content": null,
       "justify_items": null,
       "left": null,
       "margin": null,
       "max_height": null,
       "max_width": null,
       "min_height": null,
       "min_width": null,
       "object_fit": null,
       "object_position": null,
       "order": null,
       "overflow": null,
       "padding": null,
       "right": null,
       "top": null,
       "visibility": null,
       "width": null
      }
     },
     "6c55a114947744fcb5ab79f9d53ff468": {
      "model_module": "@jupyter-widgets/controls",
      "model_module_version": "2.0.0",
      "model_name": "HBoxModel",
      "state": {
       "_dom_classes": [],
       "_model_module": "@jupyter-widgets/controls",
       "_model_module_version": "2.0.0",
       "_model_name": "HBoxModel",
       "_view_count": null,
       "_view_module": "@jupyter-widgets/controls",
       "_view_module_version": "2.0.0",
       "_view_name": "HBoxView",
       "box_style": "",
       "children": [
        "IPY_MODEL_f10512010ddc4e66b18a4d6833d4730f",
        "IPY_MODEL_c286d6be3e2b4f619a053ccaf956cc43",
        "IPY_MODEL_aaf868f3e24f4e339ee158278f3ab5b1"
       ],
       "layout": "IPY_MODEL_86fd43e9a77b4fb69ae8b746af66e0ea",
       "tabbable": null,
       "tooltip": null
      }
     },
     "839064a3422b4d019ec3a0368e16b165": {
      "model_module": "@jupyter-widgets/controls",
      "model_module_version": "2.0.0",
      "model_name": "HTMLStyleModel",
      "state": {
       "_model_module": "@jupyter-widgets/controls",
       "_model_module_version": "2.0.0",
       "_model_name": "HTMLStyleModel",
       "_view_count": null,
       "_view_module": "@jupyter-widgets/base",
       "_view_module_version": "2.0.0",
       "_view_name": "StyleView",
       "background": null,
       "description_width": "",
       "font_size": null,
       "text_color": null
      }
     },
     "86fd43e9a77b4fb69ae8b746af66e0ea": {
      "model_module": "@jupyter-widgets/base",
      "model_module_version": "2.0.0",
      "model_name": "LayoutModel",
      "state": {
       "_model_module": "@jupyter-widgets/base",
       "_model_module_version": "2.0.0",
       "_model_name": "LayoutModel",
       "_view_count": null,
       "_view_module": "@jupyter-widgets/base",
       "_view_module_version": "2.0.0",
       "_view_name": "LayoutView",
       "align_content": null,
       "align_items": null,
       "align_self": null,
       "border_bottom": null,
       "border_left": null,
       "border_right": null,
       "border_top": null,
       "bottom": null,
       "display": null,
       "flex": null,
       "flex_flow": null,
       "grid_area": null,
       "grid_auto_columns": null,
       "grid_auto_flow": null,
       "grid_auto_rows": null,
       "grid_column": null,
       "grid_gap": null,
       "grid_row": null,
       "grid_template_areas": null,
       "grid_template_columns": null,
       "grid_template_rows": null,
       "height": null,
       "justify_content": null,
       "justify_items": null,
       "left": null,
       "margin": null,
       "max_height": null,
       "max_width": null,
       "min_height": null,
       "min_width": null,
       "object_fit": null,
       "object_position": null,
       "order": null,
       "overflow": null,
       "padding": null,
       "right": null,
       "top": null,
       "visibility": null,
       "width": null
      }
     },
     "a624ca0e0d2c46a3bc6553d156210f2a": {
      "model_module": "@jupyter-widgets/controls",
      "model_module_version": "2.0.0",
      "model_name": "HTMLStyleModel",
      "state": {
       "_model_module": "@jupyter-widgets/controls",
       "_model_module_version": "2.0.0",
       "_model_name": "HTMLStyleModel",
       "_view_count": null,
       "_view_module": "@jupyter-widgets/base",
       "_view_module_version": "2.0.0",
       "_view_name": "StyleView",
       "background": null,
       "description_width": "",
       "font_size": null,
       "text_color": null
      }
     },
     "aaf868f3e24f4e339ee158278f3ab5b1": {
      "model_module": "@jupyter-widgets/controls",
      "model_module_version": "2.0.0",
      "model_name": "HTMLModel",
      "state": {
       "_dom_classes": [],
       "_model_module": "@jupyter-widgets/controls",
       "_model_module_version": "2.0.0",
       "_model_name": "HTMLModel",
       "_view_count": null,
       "_view_module": "@jupyter-widgets/controls",
       "_view_module_version": "2.0.0",
       "_view_name": "HTMLView",
       "description": "",
       "description_allow_html": false,
       "layout": "IPY_MODEL_ee0ea8b031f34860a91a002189bf04cb",
       "placeholder": "​",
       "style": "IPY_MODEL_839064a3422b4d019ec3a0368e16b165",
       "tabbable": null,
       "tooltip": null,
       "value": " 237/237 [00:54&lt;00:00,  3.88it/s]"
      }
     },
     "c286d6be3e2b4f619a053ccaf956cc43": {
      "model_module": "@jupyter-widgets/controls",
      "model_module_version": "2.0.0",
      "model_name": "FloatProgressModel",
      "state": {
       "_dom_classes": [],
       "_model_module": "@jupyter-widgets/controls",
       "_model_module_version": "2.0.0",
       "_model_name": "FloatProgressModel",
       "_view_count": null,
       "_view_module": "@jupyter-widgets/controls",
       "_view_module_version": "2.0.0",
       "_view_name": "ProgressView",
       "bar_style": "success",
       "description": "",
       "description_allow_html": false,
       "layout": "IPY_MODEL_d8c2b1c8c04b4eeb927e8fcc6f6e91ce",
       "max": 237.0,
       "min": 0.0,
       "orientation": "horizontal",
       "style": "IPY_MODEL_f9b34a18e2e84a53b4366172851b7197",
       "tabbable": null,
       "tooltip": null,
       "value": 237.0
      }
     },
     "d8c2b1c8c04b4eeb927e8fcc6f6e91ce": {
      "model_module": "@jupyter-widgets/base",
      "model_module_version": "2.0.0",
      "model_name": "LayoutModel",
      "state": {
       "_model_module": "@jupyter-widgets/base",
       "_model_module_version": "2.0.0",
       "_model_name": "LayoutModel",
       "_view_count": null,
       "_view_module": "@jupyter-widgets/base",
       "_view_module_version": "2.0.0",
       "_view_name": "LayoutView",
       "align_content": null,
       "align_items": null,
       "align_self": null,
       "border_bottom": null,
       "border_left": null,
       "border_right": null,
       "border_top": null,
       "bottom": null,
       "display": null,
       "flex": null,
       "flex_flow": null,
       "grid_area": null,
       "grid_auto_columns": null,
       "grid_auto_flow": null,
       "grid_auto_rows": null,
       "grid_column": null,
       "grid_gap": null,
       "grid_row": null,
       "grid_template_areas": null,
       "grid_template_columns": null,
       "grid_template_rows": null,
       "height": null,
       "justify_content": null,
       "justify_items": null,
       "left": null,
       "margin": null,
       "max_height": null,
       "max_width": null,
       "min_height": null,
       "min_width": null,
       "object_fit": null,
       "object_position": null,
       "order": null,
       "overflow": null,
       "padding": null,
       "right": null,
       "top": null,
       "visibility": null,
       "width": null
      }
     },
     "ee0ea8b031f34860a91a002189bf04cb": {
      "model_module": "@jupyter-widgets/base",
      "model_module_version": "2.0.0",
      "model_name": "LayoutModel",
      "state": {
       "_model_module": "@jupyter-widgets/base",
       "_model_module_version": "2.0.0",
       "_model_name": "LayoutModel",
       "_view_count": null,
       "_view_module": "@jupyter-widgets/base",
       "_view_module_version": "2.0.0",
       "_view_name": "LayoutView",
       "align_content": null,
       "align_items": null,
       "align_self": null,
       "border_bottom": null,
       "border_left": null,
       "border_right": null,
       "border_top": null,
       "bottom": null,
       "display": null,
       "flex": null,
       "flex_flow": null,
       "grid_area": null,
       "grid_auto_columns": null,
       "grid_auto_flow": null,
       "grid_auto_rows": null,
       "grid_column": null,
       "grid_gap": null,
       "grid_row": null,
       "grid_template_areas": null,
       "grid_template_columns": null,
       "grid_template_rows": null,
       "height": null,
       "justify_content": null,
       "justify_items": null,
       "left": null,
       "margin": null,
       "max_height": null,
       "max_width": null,
       "min_height": null,
       "min_width": null,
       "object_fit": null,
       "object_position": null,
       "order": null,
       "overflow": null,
       "padding": null,
       "right": null,
       "top": null,
       "visibility": null,
       "width": null
      }
     },
     "f10512010ddc4e66b18a4d6833d4730f": {
      "model_module": "@jupyter-widgets/controls",
      "model_module_version": "2.0.0",
      "model_name": "HTMLModel",
      "state": {
       "_dom_classes": [],
       "_model_module": "@jupyter-widgets/controls",
       "_model_module_version": "2.0.0",
       "_model_name": "HTMLModel",
       "_view_count": null,
       "_view_module": "@jupyter-widgets/controls",
       "_view_module_version": "2.0.0",
       "_view_name": "HTMLView",
       "description": "",
       "description_allow_html": false,
       "layout": "IPY_MODEL_692926c335194f21910e2fe68d9fcc07",
       "placeholder": "​",
       "style": "IPY_MODEL_a624ca0e0d2c46a3bc6553d156210f2a",
       "tabbable": null,
       "tooltip": null,
       "value": "100%"
      }
     },
     "f9b34a18e2e84a53b4366172851b7197": {
      "model_module": "@jupyter-widgets/controls",
      "model_module_version": "2.0.0",
      "model_name": "ProgressStyleModel",
      "state": {
       "_model_module": "@jupyter-widgets/controls",
       "_model_module_version": "2.0.0",
       "_model_name": "ProgressStyleModel",
       "_view_count": null,
       "_view_module": "@jupyter-widgets/base",
       "_view_module_version": "2.0.0",
       "_view_name": "StyleView",
       "bar_color": null,
       "description_width": ""
      }
     }
    },
    "version_major": 2,
    "version_minor": 0
   }
  }
 },
 "nbformat": 4,
 "nbformat_minor": 5
}