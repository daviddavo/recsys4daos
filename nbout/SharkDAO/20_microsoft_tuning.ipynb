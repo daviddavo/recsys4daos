{
 "cells": [
  {
   "cell_type": "code",
   "execution_count": 1,
   "id": "8bb1b84b",
   "metadata": {
    "editable": true,
    "execution": {
     "iopub.execute_input": "2024-09-06T08:22:00.643396Z",
     "iopub.status.busy": "2024-09-06T08:22:00.642871Z",
     "iopub.status.idle": "2024-09-06T08:22:03.473512Z",
     "shell.execute_reply": "2024-09-06T08:22:03.473185Z"
    },
    "papermill": {
     "duration": 2.840513,
     "end_time": "2024-09-06T08:22:03.474392",
     "exception": false,
     "start_time": "2024-09-06T08:22:00.633879",
     "status": "completed"
    },
    "slideshow": {
     "slide_type": ""
    },
    "tags": []
   },
   "outputs": [
    {
     "name": "stderr",
     "output_type": "stream",
     "text": [
      "/tmp/ipykernel_4011769/1371776918.py:11: TqdmExperimentalWarning: Using `tqdm.autonotebook.tqdm` in notebook mode. Use `tqdm.tqdm` instead to force console mode (e.g. in jupyter console)\n",
      "  from tqdm.autonotebook import tqdm\n"
     ]
    },
    {
     "name": "stdout",
     "output_type": "stream",
     "text": [
      "Ignoring warnings\n",
      "3.11.6 (main, Jun 24 2024, 07:45:26) [GCC 11.4.0]\n",
      "recommenders: 1.2.0\n",
      "ray: 2.30.0\n",
      "tensorflow: 2.16.1\n"
     ]
    }
   ],
   "source": [
    "from typing import List, Dict, Any\n",
    "\n",
    "from pathlib import Path\n",
    "import os, sys\n",
    "import time\n",
    "import datetime as dt\n",
    "import itertools as it\n",
    "\n",
    "import numpy as np\n",
    "import pandas as pd\n",
    "from tqdm.autonotebook import tqdm\n",
    "import ray\n",
    "from ray import train, tune\n",
    "import ipywidgets as widgets\n",
    "\n",
    "from recsys4daos.model_selection import cvtt_open\n",
    "from recsys4daos.datasets import to_microsoft, filter_window_size\n",
    "from recsys4daos.models import LightGCNCustom\n",
    "from recsys4daos.utils import Timer\n",
    "import recsys4daos.utils.notebooks as nbu\n",
    "\n",
    "import recommenders\n",
    "if recommenders.__version__ == '1.2.0':\n",
    "    print(\"Ignoring warnings\")\n",
    "    import warnings\n",
    "    warnings.simplefilter(action='ignore', category=FutureWarning)\n",
    "\n",
    "import paths\n",
    "\n",
    "nbu.print_versions('ray', 'tensorflow')\n",
    "\n",
    "%load_ext autoreload\n",
    "%autoreload 2"
   ]
  },
  {
   "cell_type": "code",
   "execution_count": 2,
   "id": "b65b416a",
   "metadata": {
    "editable": true,
    "execution": {
     "iopub.execute_input": "2024-09-06T08:22:03.480749Z",
     "iopub.status.busy": "2024-09-06T08:22:03.480509Z",
     "iopub.status.idle": "2024-09-06T08:22:03.501650Z",
     "shell.execute_reply": "2024-09-06T08:22:03.501437Z"
    },
    "papermill": {
     "duration": 0.025117,
     "end_time": "2024-09-06T08:22:03.502439",
     "exception": false,
     "start_time": "2024-09-06T08:22:03.477322",
     "status": "completed"
    },
    "slideshow": {
     "slide_type": ""
    },
    "tags": [
     "parameters"
    ]
   },
   "outputs": [],
   "source": [
    "# Others config\n",
    "SEED: int = 57\n",
    "RAY_RESULTS_PATH: Path = '~/ray_results3.11'\n",
    "\n",
    "# Dataset splits config\n",
    "ORG_NAME = 'Decentraland'\n",
    "SPLITS_FREQ = 'W-THU'  # Split weekly\n",
    "LAST_FOLDS = 10  # Use just last 10 splits\n",
    "SPLITS_NORMALIZE = True\n",
    "LAST_FOLD_DATE_STR: str = '2023-07-13'\n",
    "\n",
    "# Training config\n",
    "MAX_EPOCHS: int = 200\n",
    "EPOCHS_PER_ITER: int = 5\n",
    "SAMPLES_PER_SPLIT: int = 100\n",
    "MAX_TIME_TOTAL_TRAIN: int = 300\n",
    "OPTIM_METRIC: str = 'map@10'\n",
    "\n",
    "# Search space config\n",
    "MAX_EMBEDDING_DIM = 1024\n",
    "MIN_BATCH_SIZE = 6\n",
    "MAX_BATCH_SIZE = 10 # 2**10\n",
    "MIN_LR = 1e-4\n",
    "# WINDOW_SIZES = ['7d', '14d', '21d', '30d', '60d', '90d', '10YE']\n",
    "WINDOW_SIZES = ['21d', '30d', '60d', '90d', '10YE']\n",
    "GPUS = 16\n",
    "\n",
    "# Eval config\n",
    "K_RECOMMENDATIONS: List[int] = [1,3,5,10,15,100]\n",
    "METRICS: List[str] = [\"recall\", \"ndcg\", \"precision\", \"map\"]"
   ]
  },
  {
   "cell_type": "code",
   "execution_count": 3,
   "id": "d18d3363",
   "metadata": {
    "execution": {
     "iopub.execute_input": "2024-09-06T08:22:03.507864Z",
     "iopub.status.busy": "2024-09-06T08:22:03.507752Z",
     "iopub.status.idle": "2024-09-06T08:22:03.526324Z",
     "shell.execute_reply": "2024-09-06T08:22:03.526038Z"
    },
    "papermill": {
     "duration": 0.022239,
     "end_time": "2024-09-06T08:22:03.527079",
     "exception": false,
     "start_time": "2024-09-06T08:22:03.504840",
     "status": "completed"
    },
    "tags": [
     "injected-parameters"
    ]
   },
   "outputs": [],
   "source": [
    "# Parameters\n",
    "EXECUTION_ID = \"2024-09-04T10:00\"\n",
    "ORG_NAME = \"SharkDAO\"\n",
    "SPLITS_FREQ = \"3d\"\n",
    "LAST_FOLDS = 10\n",
    "SPLITS_NORMALIZE = True\n",
    "LAST_FOLD_DATE_STR = \"2022-04-27\"\n"
   ]
  },
  {
   "cell_type": "code",
   "execution_count": 4,
   "id": "4ff3774b",
   "metadata": {
    "execution": {
     "iopub.execute_input": "2024-09-06T08:22:03.532399Z",
     "iopub.status.busy": "2024-09-06T08:22:03.532265Z",
     "iopub.status.idle": "2024-09-06T08:22:03.549506Z",
     "shell.execute_reply": "2024-09-06T08:22:03.549179Z"
    },
    "papermill": {
     "duration": 0.020667,
     "end_time": "2024-09-06T08:22:03.550169",
     "exception": false,
     "start_time": "2024-09-06T08:22:03.529502",
     "status": "completed"
    },
    "tags": []
   },
   "outputs": [],
   "source": [
    "RAY_RESULTS_PATH = Path(RAY_RESULTS_PATH).expanduser()"
   ]
  },
  {
   "cell_type": "markdown",
   "id": "fad28fdc",
   "metadata": {
    "papermill": {
     "duration": 0.002546,
     "end_time": "2024-09-06T08:22:03.555007",
     "exception": false,
     "start_time": "2024-09-06T08:22:03.552461",
     "status": "completed"
    },
    "tags": []
   },
   "source": [
    "## Obtain dataset"
   ]
  },
  {
   "cell_type": "code",
   "execution_count": 5,
   "id": "58c13e21",
   "metadata": {
    "execution": {
     "iopub.execute_input": "2024-09-06T08:22:03.560134Z",
     "iopub.status.busy": "2024-09-06T08:22:03.560015Z",
     "iopub.status.idle": "2024-09-06T08:22:03.703803Z",
     "shell.execute_reply": "2024-09-06T08:22:03.702309Z"
    },
    "papermill": {
     "duration": 0.150727,
     "end_time": "2024-09-06T08:22:03.707995",
     "exception": false,
     "start_time": "2024-09-06T08:22:03.557268",
     "status": "completed"
    },
    "tags": []
   },
   "outputs": [
    {
     "name": "stdout",
     "output_type": "stream",
     "text": [
      "/home/daviddavo/recsys4daos/notebooks\r\n"
     ]
    }
   ],
   "source": [
    "!pwd"
   ]
  },
  {
   "cell_type": "code",
   "execution_count": 6,
   "id": "f661bd90",
   "metadata": {
    "execution": {
     "iopub.execute_input": "2024-09-06T08:22:03.719276Z",
     "iopub.status.busy": "2024-09-06T08:22:03.719148Z",
     "iopub.status.idle": "2024-09-06T08:22:03.778107Z",
     "shell.execute_reply": "2024-09-06T08:22:03.777853Z"
    },
    "papermill": {
     "duration": 0.063015,
     "end_time": "2024-09-06T08:22:03.778768",
     "exception": false,
     "start_time": "2024-09-06T08:22:03.715753",
     "status": "completed"
    },
    "tags": []
   },
   "outputs": [
    {
     "name": "stdout",
     "output_type": "stream",
     "text": [
      "<class 'pandas.core.frame.DataFrame'>\n",
      "RangeIndex: 471 entries, 0 to 470\n",
      "Data columns (total 6 columns):\n",
      " #   Column             Non-Null Count  Dtype         \n",
      "---  ------             --------------  -----         \n",
      " 0   id                 471 non-null    object        \n",
      " 1   author             471 non-null    object        \n",
      " 2   date               471 non-null    datetime64[us]\n",
      " 3   start              471 non-null    datetime64[us]\n",
      " 4   end                471 non-null    datetime64[us]\n",
      " 5   platform_proposal  471 non-null    object        \n",
      "dtypes: datetime64[us](3), object(3)\n",
      "memory usage: 22.2+ KB\n",
      "None\n",
      "<class 'pandas.core.frame.DataFrame'>\n",
      "RangeIndex: 7577 entries, 0 to 7576\n",
      "Data columns (total 4 columns):\n",
      " #   Column    Non-Null Count  Dtype         \n",
      "---  ------    --------------  -----         \n",
      " 0   id        7577 non-null   object        \n",
      " 1   proposal  7577 non-null   object        \n",
      " 2   voter     7577 non-null   object        \n",
      " 3   date      7577 non-null   datetime64[us]\n",
      "dtypes: datetime64[us](1), object(3)\n",
      "memory usage: 236.9+ KB\n",
      "None\n"
     ]
    }
   ],
   "source": [
    "dfp = paths.load_proposals(ORG_NAME)\n",
    "dfv = paths.load_votes(ORG_NAME)\n",
    "\n",
    "print(dfp.info())\n",
    "print(dfv.info())"
   ]
  },
  {
   "cell_type": "markdown",
   "id": "8c5d99fb",
   "metadata": {
    "papermill": {
     "duration": 0.002551,
     "end_time": "2024-09-06T08:22:03.784070",
     "exception": false,
     "start_time": "2024-09-06T08:22:03.781519",
     "status": "completed"
    },
    "tags": []
   },
   "source": [
    "## Split data"
   ]
  },
  {
   "cell_type": "code",
   "execution_count": 7,
   "id": "3f91c381",
   "metadata": {
    "execution": {
     "iopub.execute_input": "2024-09-06T08:22:03.789489Z",
     "iopub.status.busy": "2024-09-06T08:22:03.789357Z",
     "iopub.status.idle": "2024-09-06T08:22:03.816161Z",
     "shell.execute_reply": "2024-09-06T08:22:03.815966Z"
    },
    "papermill": {
     "duration": 0.030146,
     "end_time": "2024-09-06T08:22:03.816711",
     "exception": false,
     "start_time": "2024-09-06T08:22:03.786565",
     "status": "completed"
    },
    "tags": []
   },
   "outputs": [
    {
     "data": {
      "text/html": [
       "<div>\n",
       "<style scoped>\n",
       "    .dataframe tbody tr th:only-of-type {\n",
       "        vertical-align: middle;\n",
       "    }\n",
       "\n",
       "    .dataframe tbody tr th {\n",
       "        vertical-align: top;\n",
       "    }\n",
       "\n",
       "    .dataframe thead th {\n",
       "        text-align: right;\n",
       "    }\n",
       "</style>\n",
       "<table border=\"1\" class=\"dataframe\">\n",
       "  <thead>\n",
       "    <tr style=\"text-align: right;\">\n",
       "      <th></th>\n",
       "      <th>userID</th>\n",
       "      <th>itemID</th>\n",
       "      <th>timestamp</th>\n",
       "      <th>rating</th>\n",
       "    </tr>\n",
       "  </thead>\n",
       "  <tbody>\n",
       "    <tr>\n",
       "      <th>0</th>\n",
       "      <td>0xde30040413b26d7aa2b6fc4761d80eb35dcf97ad</td>\n",
       "      <td>71fd3375-6164-5810-a77c-2279e0a7a93d</td>\n",
       "      <td>2021-08-09 23:44:27</td>\n",
       "      <td>1</td>\n",
       "    </tr>\n",
       "    <tr>\n",
       "      <th>1</th>\n",
       "      <td>0x823b92d6a4b2aed4b15675c7917c9f922ea8adad</td>\n",
       "      <td>71fd3375-6164-5810-a77c-2279e0a7a93d</td>\n",
       "      <td>2021-08-09 23:44:52</td>\n",
       "      <td>1</td>\n",
       "    </tr>\n",
       "    <tr>\n",
       "      <th>2</th>\n",
       "      <td>0x397fbd1e27352175cc5b6baf171a30911268823c</td>\n",
       "      <td>71fd3375-6164-5810-a77c-2279e0a7a93d</td>\n",
       "      <td>2021-08-09 23:48:54</td>\n",
       "      <td>1</td>\n",
       "    </tr>\n",
       "    <tr>\n",
       "      <th>3</th>\n",
       "      <td>0x40b6df5f6217fb1a1beaf8fdbb9572304aa78c4d</td>\n",
       "      <td>71fd3375-6164-5810-a77c-2279e0a7a93d</td>\n",
       "      <td>2021-08-09 23:49:58</td>\n",
       "      <td>1</td>\n",
       "    </tr>\n",
       "    <tr>\n",
       "      <th>4</th>\n",
       "      <td>0xf33364a83b6002d5070ec5fa31f5d9eb93572732</td>\n",
       "      <td>86ab69e0-1e59-5d8a-90d0-33c00a5934b2</td>\n",
       "      <td>2021-08-10 00:09:04</td>\n",
       "      <td>1</td>\n",
       "    </tr>\n",
       "    <tr>\n",
       "      <th>...</th>\n",
       "      <td>...</td>\n",
       "      <td>...</td>\n",
       "      <td>...</td>\n",
       "      <td>...</td>\n",
       "    </tr>\n",
       "    <tr>\n",
       "      <th>7572</th>\n",
       "      <td>0xe3f27deff96fe178e87559f36cbf868b9e75967d</td>\n",
       "      <td>51c2826f-fced-5e49-8746-5bbed3d189f5</td>\n",
       "      <td>2023-07-19 15:21:54</td>\n",
       "      <td>1</td>\n",
       "    </tr>\n",
       "    <tr>\n",
       "      <th>7573</th>\n",
       "      <td>0xbd7dbab9aeb52d6c8d0e80fcebde3af4cc86204a</td>\n",
       "      <td>be6c0ebe-be38-52d6-b766-c55b7489f245</td>\n",
       "      <td>2023-07-20 18:25:20</td>\n",
       "      <td>1</td>\n",
       "    </tr>\n",
       "    <tr>\n",
       "      <th>7574</th>\n",
       "      <td>0xbd7dbab9aeb52d6c8d0e80fcebde3af4cc86204a</td>\n",
       "      <td>ac915362-a23d-5498-9f08-38bbbf0a8bbc</td>\n",
       "      <td>2023-07-20 18:26:23</td>\n",
       "      <td>1</td>\n",
       "    </tr>\n",
       "    <tr>\n",
       "      <th>7575</th>\n",
       "      <td>0xbd7dbab9aeb52d6c8d0e80fcebde3af4cc86204a</td>\n",
       "      <td>dfa74f32-39e0-5609-8e00-a821f32f8ef2</td>\n",
       "      <td>2023-07-20 18:27:16</td>\n",
       "      <td>1</td>\n",
       "    </tr>\n",
       "    <tr>\n",
       "      <th>7576</th>\n",
       "      <td>0xbd7dbab9aeb52d6c8d0e80fcebde3af4cc86204a</td>\n",
       "      <td>c09dbe4f-4b37-564c-ad04-6f02b41ec237</td>\n",
       "      <td>2023-07-20 18:27:32</td>\n",
       "      <td>1</td>\n",
       "    </tr>\n",
       "  </tbody>\n",
       "</table>\n",
       "<p>7577 rows × 4 columns</p>\n",
       "</div>"
      ],
      "text/plain": [
       "                                          userID  \\\n",
       "0     0xde30040413b26d7aa2b6fc4761d80eb35dcf97ad   \n",
       "1     0x823b92d6a4b2aed4b15675c7917c9f922ea8adad   \n",
       "2     0x397fbd1e27352175cc5b6baf171a30911268823c   \n",
       "3     0x40b6df5f6217fb1a1beaf8fdbb9572304aa78c4d   \n",
       "4     0xf33364a83b6002d5070ec5fa31f5d9eb93572732   \n",
       "...                                          ...   \n",
       "7572  0xe3f27deff96fe178e87559f36cbf868b9e75967d   \n",
       "7573  0xbd7dbab9aeb52d6c8d0e80fcebde3af4cc86204a   \n",
       "7574  0xbd7dbab9aeb52d6c8d0e80fcebde3af4cc86204a   \n",
       "7575  0xbd7dbab9aeb52d6c8d0e80fcebde3af4cc86204a   \n",
       "7576  0xbd7dbab9aeb52d6c8d0e80fcebde3af4cc86204a   \n",
       "\n",
       "                                    itemID           timestamp  rating  \n",
       "0     71fd3375-6164-5810-a77c-2279e0a7a93d 2021-08-09 23:44:27       1  \n",
       "1     71fd3375-6164-5810-a77c-2279e0a7a93d 2021-08-09 23:44:52       1  \n",
       "2     71fd3375-6164-5810-a77c-2279e0a7a93d 2021-08-09 23:48:54       1  \n",
       "3     71fd3375-6164-5810-a77c-2279e0a7a93d 2021-08-09 23:49:58       1  \n",
       "4     86ab69e0-1e59-5d8a-90d0-33c00a5934b2 2021-08-10 00:09:04       1  \n",
       "...                                    ...                 ...     ...  \n",
       "7572  51c2826f-fced-5e49-8746-5bbed3d189f5 2023-07-19 15:21:54       1  \n",
       "7573  be6c0ebe-be38-52d6-b766-c55b7489f245 2023-07-20 18:25:20       1  \n",
       "7574  ac915362-a23d-5498-9f08-38bbbf0a8bbc 2023-07-20 18:26:23       1  \n",
       "7575  dfa74f32-39e0-5609-8e00-a821f32f8ef2 2023-07-20 18:27:16       1  \n",
       "7576  c09dbe4f-4b37-564c-ad04-6f02b41ec237 2023-07-20 18:27:32       1  \n",
       "\n",
       "[7577 rows x 4 columns]"
      ]
     },
     "execution_count": 7,
     "metadata": {},
     "output_type": "execute_result"
    }
   ],
   "source": [
    "df = to_microsoft(dfv)\n",
    "df"
   ]
  },
  {
   "cell_type": "code",
   "execution_count": 8,
   "id": "a6bcbd43",
   "metadata": {
    "editable": true,
    "execution": {
     "iopub.execute_input": "2024-09-06T08:22:03.822761Z",
     "iopub.status.busy": "2024-09-06T08:22:03.822660Z",
     "iopub.status.idle": "2024-09-06T08:22:04.052196Z",
     "shell.execute_reply": "2024-09-06T08:22:04.051945Z"
    },
    "papermill": {
     "duration": 0.23348,
     "end_time": "2024-09-06T08:22:04.053052",
     "exception": false,
     "start_time": "2024-09-06T08:22:03.819572",
     "status": "completed"
    },
    "slideshow": {
     "slide_type": ""
    },
    "tags": []
   },
   "outputs": [
    {
     "name": "stdout",
     "output_type": "stream",
     "text": [
      "88 folds\n",
      "Using 10 folds, from 2022-03-31T00:00:00 to 2022-04-27T00:00:00\n"
     ]
    }
   ],
   "source": [
    "# USE INTEGER INDEX\n",
    "# folds_dict = list(cvtt_open(df, SPLITS_FREQ, dfp, remove_not_in_train_col='userID'))\n",
    "# use_folds_idx = range(len(folds_dict))[-LAST_FOLDS:]\n",
    "\n",
    "# USE TIMESTAMP INDEX\n",
    "# Note: NO need to used OrderedDict, dict is ordered since Python 3.6\n",
    "folds_dict = { f.end.isoformat():f for f in cvtt_open(df, SPLITS_FREQ, dfp, remove_not_in_train_col='userID', last_fold=LAST_FOLD_DATE_STR) }\n",
    "use_folds_idx = list(folds_dict.keys())[-LAST_FOLDS:]\n",
    "\n",
    "print(len(folds_dict), \"folds\")\n",
    "print(\"Using\", len(use_folds_idx), \"folds, from\", use_folds_idx[0], \"to\", use_folds_idx[-1])"
   ]
  },
  {
   "cell_type": "markdown",
   "id": "718ed010",
   "metadata": {
    "papermill": {
     "duration": 0.00283,
     "end_time": "2024-09-06T08:22:04.058652",
     "exception": false,
     "start_time": "2024-09-06T08:22:04.055822",
     "status": "completed"
    },
    "tags": []
   },
   "source": [
    "## Making some checks"
   ]
  },
  {
   "cell_type": "markdown",
   "id": "6e63a6e8",
   "metadata": {
    "papermill": {
     "duration": 0.002768,
     "end_time": "2024-09-06T08:22:04.064359",
     "exception": false,
     "start_time": "2024-09-06T08:22:04.061591",
     "status": "completed"
    },
    "tags": []
   },
   "source": [
    "### Checking that all the folds have open proposals"
   ]
  },
  {
   "cell_type": "code",
   "execution_count": 9,
   "id": "28b5ab3d",
   "metadata": {
    "execution": {
     "iopub.execute_input": "2024-09-06T08:22:04.070446Z",
     "iopub.status.busy": "2024-09-06T08:22:04.070320Z",
     "iopub.status.idle": "2024-09-06T08:22:04.091608Z",
     "shell.execute_reply": "2024-09-06T08:22:04.091307Z"
    },
    "papermill": {
     "duration": 0.025228,
     "end_time": "2024-09-06T08:22:04.092367",
     "exception": false,
     "start_time": "2024-09-06T08:22:04.067139",
     "status": "completed"
    },
    "tags": []
   },
   "outputs": [],
   "source": [
    "_nok_folds = []\n",
    "for idx in use_folds_idx:\n",
    "    if len(folds_dict[idx].open_proposals) == 0:\n",
    "        _nok_folds.append(idx)\n",
    "\n",
    "if _nok_folds:\n",
    "    raise ValueError(f\"Folds {', '.join(_nok_folds)} don't have any open proposals\")"
   ]
  },
  {
   "cell_type": "markdown",
   "id": "f8157ad3",
   "metadata": {
    "papermill": {
     "duration": 0.002626,
     "end_time": "2024-09-06T08:22:04.097593",
     "exception": false,
     "start_time": "2024-09-06T08:22:04.094967",
     "status": "completed"
    },
    "tags": []
   },
   "source": [
    "### Checking correct hparams"
   ]
  },
  {
   "cell_type": "code",
   "execution_count": 10,
   "id": "799a28da",
   "metadata": {
    "execution": {
     "iopub.execute_input": "2024-09-06T08:22:04.103312Z",
     "iopub.status.busy": "2024-09-06T08:22:04.103195Z",
     "iopub.status.idle": "2024-09-06T08:22:04.154643Z",
     "shell.execute_reply": "2024-09-06T08:22:04.154338Z"
    },
    "papermill": {
     "duration": 0.055162,
     "end_time": "2024-09-06T08:22:04.155357",
     "exception": false,
     "start_time": "2024-09-06T08:22:04.100195",
     "status": "completed"
    },
    "tags": []
   },
   "outputs": [
    {
     "name": "stdout",
     "output_type": "stream",
     "text": [
      "All folds ok!\n"
     ]
    },
    {
     "name": "stderr",
     "output_type": "stream",
     "text": [
      "On fold 2022-03-31T00:00:00 WINDOW_SIZE should be more than 21d: 63 < 64\n",
      "On fold 2022-03-31T00:00:00 batch_size should be '<=512.0' with 10YE: 559 < 1024\n",
      "On fold 2022-04-03T00:00:00 batch_size should be '<=512.0' with 10YE: 561 < 1024\n",
      "On fold 2022-04-06T00:00:00 batch_size should be '<=512.0' with 10YE: 565 < 1024\n",
      "On fold 2022-04-09T00:00:00 batch_size should be '<=512.0' with 10YE: 567 < 1024\n",
      "On fold 2022-04-12T00:00:00 batch_size should be '<=512.0' with 10YE: 569 < 1024\n",
      "On fold 2022-04-15T00:00:00 batch_size should be '<=512.0' with 10YE: 573 < 1024\n",
      "On fold 2022-04-18T00:00:00 batch_size should be '<=512.0' with 10YE: 573 < 1024\n",
      "On fold 2022-04-21T00:00:00 batch_size should be '<=512.0' with 10YE: 576 < 1024\n",
      "On fold 2022-04-24T00:00:00 batch_size should be '<=512.0' with 10YE: 580 < 1024\n",
      "On fold 2022-04-27T00:00:00 batch_size should be '<=512.0' with 10YE: 583 < 1024\n"
     ]
    }
   ],
   "source": [
    "now = dt.datetime.now()\n",
    "max_bs = 2**MAX_BATCH_SIZE\n",
    "min_bs = 2**MIN_BATCH_SIZE\n",
    "_sorted_ws = sorted(WINDOW_SIZES, key=lambda ws: now + pd.tseries.frequencies.to_offset(ws))\n",
    "\n",
    "# Checking that the max_bs is doable with every window size\n",
    "for idx in use_folds_idx:\n",
    "    for ws in _sorted_ws:\n",
    "        nusers = filter_window_size(folds_dict[idx].train, folds_dict[idx].end, ws)['userID'].nunique()\n",
    "        if nusers > max_bs:\n",
    "            print(f'On fold {idx} WINDOW_SIZE should be at least {ws}: {nusers} > {max_bs}', file=sys.stderr)\n",
    "            break\n",
    "\n",
    "# Checking that the min_bs is doable with every window size\n",
    "for idx in use_folds_idx:\n",
    "    for ws in reversed(_sorted_ws):\n",
    "        nusers = filter_window_size(folds_dict[idx].train, folds_dict[idx].end, ws)['userID'].nunique()\n",
    "        if nusers < min_bs:\n",
    "            print(f'On fold {idx} WINDOW_SIZE should be more than {ws}: {nusers} < {min_bs}', file=sys.stderr)\n",
    "            break\n",
    "\n",
    "# Checking that the max_ws is doable with every batch size\n",
    "max_ws = _sorted_ws[-1]\n",
    "for idx in use_folds_idx:\n",
    "    nusers = filter_window_size(folds_dict[idx].train, folds_dict[idx].end, max_ws)['userID'].nunique()\n",
    "    for bs in (2**x for x in reversed(range(MIN_BATCH_SIZE, MAX_BATCH_SIZE+1))):\n",
    "        if bs > nusers:\n",
    "            print(f\"On fold {idx} batch_size should be '<={bs/2}' with {max_ws}: {nusers} < {bs}\", file=sys.stderr)\n",
    "            break\n",
    "\n",
    "print(\"All folds ok!\")"
   ]
  },
  {
   "cell_type": "markdown",
   "id": "0885777f",
   "metadata": {
    "papermill": {
     "duration": 0.002822,
     "end_time": "2024-09-06T08:22:04.161000",
     "exception": false,
     "start_time": "2024-09-06T08:22:04.158178",
     "status": "completed"
    },
    "tags": []
   },
   "source": [
    "### Number of users with the min window_size"
   ]
  },
  {
   "cell_type": "code",
   "execution_count": 11,
   "id": "94fb047d",
   "metadata": {
    "execution": {
     "iopub.execute_input": "2024-09-06T08:22:04.167402Z",
     "iopub.status.busy": "2024-09-06T08:22:04.167304Z",
     "iopub.status.idle": "2024-09-06T08:22:04.193410Z",
     "shell.execute_reply": "2024-09-06T08:22:04.193197Z"
    },
    "papermill": {
     "duration": 0.030199,
     "end_time": "2024-09-06T08:22:04.194084",
     "exception": false,
     "start_time": "2024-09-06T08:22:04.163885",
     "status": "completed"
    },
    "tags": []
   },
   "outputs": [
    {
     "name": "stdout",
     "output_type": "stream",
     "text": [
      "On fold 2022-03-31T00:00:00 with ws 21d: 63 users, ws 10YE: 559\n",
      "On fold 2022-04-03T00:00:00 with ws 21d: 69 users, ws 10YE: 561\n",
      "On fold 2022-04-06T00:00:00 with ws 21d: 78 users, ws 10YE: 565\n",
      "On fold 2022-04-09T00:00:00 with ws 21d: 82 users, ws 10YE: 567\n",
      "On fold 2022-04-12T00:00:00 with ws 21d: 84 users, ws 10YE: 569\n",
      "On fold 2022-04-15T00:00:00 with ws 21d: 86 users, ws 10YE: 573\n",
      "On fold 2022-04-18T00:00:00 with ws 21d: 84 users, ws 10YE: 573\n",
      "On fold 2022-04-21T00:00:00 with ws 21d: 89 users, ws 10YE: 576\n",
      "On fold 2022-04-24T00:00:00 with ws 21d: 96 users, ws 10YE: 580\n",
      "On fold 2022-04-27T00:00:00 with ws 21d: 94 users, ws 10YE: 583\n"
     ]
    }
   ],
   "source": [
    "_min_ws = _sorted_ws[0]\n",
    "_max_ws = _sorted_ws[-1]\n",
    "for idx in use_folds_idx:\n",
    "    nusers = filter_window_size(folds_dict[idx].train, folds_dict[idx].end, _min_ws)['userID'].nunique()\n",
    "    nusers2 = filter_window_size(folds_dict[idx].train, folds_dict[idx].end, _max_ws)['userID'].nunique()\n",
    "    print(f'On fold {idx} with ws {_min_ws}: {nusers} users, ws {_max_ws}: {nusers2}')"
   ]
  },
  {
   "cell_type": "markdown",
   "id": "0f06f764",
   "metadata": {
    "editable": true,
    "papermill": {
     "duration": 0.002765,
     "end_time": "2024-09-06T08:22:04.199580",
     "exception": false,
     "start_time": "2024-09-06T08:22:04.196815",
     "status": "completed"
    },
    "slideshow": {
     "slide_type": ""
    },
    "tags": []
   },
   "source": [
    "## Testing model"
   ]
  },
  {
   "cell_type": "code",
   "execution_count": 12,
   "id": "c23bae90",
   "metadata": {
    "execution": {
     "iopub.execute_input": "2024-09-06T08:22:04.205436Z",
     "iopub.status.busy": "2024-09-06T08:22:04.205319Z",
     "iopub.status.idle": "2024-09-06T08:22:04.225449Z",
     "shell.execute_reply": "2024-09-06T08:22:04.225162Z"
    },
    "papermill": {
     "duration": 0.024014,
     "end_time": "2024-09-06T08:22:04.226172",
     "exception": false,
     "start_time": "2024-09-06T08:22:04.202158",
     "status": "completed"
    },
    "tags": []
   },
   "outputs": [],
   "source": [
    "from recommenders.models.deeprec.DataModel.ImplicitCF import ImplicitCF\n",
    "from recommenders.models.deeprec.deeprec_utils import prepare_hparams"
   ]
  },
  {
   "cell_type": "code",
   "execution_count": 13,
   "id": "0a2870b5",
   "metadata": {
    "editable": true,
    "execution": {
     "iopub.execute_input": "2024-09-06T08:22:04.232068Z",
     "iopub.status.busy": "2024-09-06T08:22:04.231948Z",
     "iopub.status.idle": "2024-09-06T08:22:04.250337Z",
     "shell.execute_reply": "2024-09-06T08:22:04.250141Z"
    },
    "papermill": {
     "duration": 0.022253,
     "end_time": "2024-09-06T08:22:04.251067",
     "exception": false,
     "start_time": "2024-09-06T08:22:04.228814",
     "status": "completed"
    },
    "slideshow": {
     "slide_type": ""
    },
    "tags": []
   },
   "outputs": [],
   "source": [
    "# hparams = prepare_hparams(\n",
    "#     model_type='lightgcn',\n",
    "#     n_layers=3,\n",
    "#     batch_size=512,\n",
    "#     embed_size=64,\n",
    "#     epochs=2,\n",
    "#     learning_rate=0.001,\n",
    "#     decay=0.001,\n",
    "#     metrics=[\"recall\", \"ndcg\", \"precision\", \"map\"],\n",
    "#     eval_epoch=2,\n",
    "#     top_k=K_RECOMMENDATIONS[0],\n",
    "#     save_model=False,\n",
    "#     MODEL_DIR='./data/model/lightgcn/',\n",
    "# )\n",
    "# dataloader = ImplicitCF(train=folds_dict[use_folds_idx[0]].train, test=folds_dict[use_folds_idx[0]].test, seed=SEED)\n",
    "# print(\"items:\", dataloader.n_items, \"user:\", dataloader.n_users)\n",
    "# model = LightGCNCustom(data=dataloader, hparams=hparams)"
   ]
  },
  {
   "cell_type": "code",
   "execution_count": 14,
   "id": "801d52b4",
   "metadata": {
    "execution": {
     "iopub.execute_input": "2024-09-06T08:22:04.257071Z",
     "iopub.status.busy": "2024-09-06T08:22:04.256930Z",
     "iopub.status.idle": "2024-09-06T08:22:04.273951Z",
     "shell.execute_reply": "2024-09-06T08:22:04.273753Z"
    },
    "papermill": {
     "duration": 0.020862,
     "end_time": "2024-09-06T08:22:04.274661",
     "exception": false,
     "start_time": "2024-09-06T08:22:04.253799",
     "status": "completed"
    },
    "tags": []
   },
   "outputs": [],
   "source": [
    "# model.fit()\n",
    "# model.run_eval()"
   ]
  },
  {
   "cell_type": "code",
   "execution_count": 15,
   "id": "70d1906c",
   "metadata": {
    "editable": true,
    "execution": {
     "iopub.execute_input": "2024-09-06T08:22:04.281128Z",
     "iopub.status.busy": "2024-09-06T08:22:04.281031Z",
     "iopub.status.idle": "2024-09-06T08:22:04.298150Z",
     "shell.execute_reply": "2024-09-06T08:22:04.297958Z"
    },
    "papermill": {
     "duration": 0.021307,
     "end_time": "2024-09-06T08:22:04.298872",
     "exception": false,
     "start_time": "2024-09-06T08:22:04.277565",
     "status": "completed"
    },
    "slideshow": {
     "slide_type": ""
    },
    "tags": []
   },
   "outputs": [],
   "source": [
    "# model.recommend_k_items(\n",
    "#     dataloader.test, \n",
    "#     top_k=3, \n",
    "#     use_id=True, \n",
    "#     remove_seen=True, \n",
    "#     recommend_from=folds_dict[use_folds_idx[0]].open_proposals\n",
    "# )"
   ]
  },
  {
   "cell_type": "markdown",
   "id": "94a43b5b",
   "metadata": {
    "papermill": {
     "duration": 0.002692,
     "end_time": "2024-09-06T08:22:04.304309",
     "exception": false,
     "start_time": "2024-09-06T08:22:04.301617",
     "status": "completed"
    },
    "tags": []
   },
   "source": [
    "## Defining trainable"
   ]
  },
  {
   "cell_type": "code",
   "execution_count": 16,
   "id": "9e5688f9",
   "metadata": {
    "execution": {
     "iopub.execute_input": "2024-09-06T08:22:04.310330Z",
     "iopub.status.busy": "2024-09-06T08:22:04.310213Z",
     "iopub.status.idle": "2024-09-06T08:22:04.328042Z",
     "shell.execute_reply": "2024-09-06T08:22:04.327828Z"
    },
    "papermill": {
     "duration": 0.021723,
     "end_time": "2024-09-06T08:22:04.328812",
     "exception": false,
     "start_time": "2024-09-06T08:22:04.307089",
     "status": "completed"
    },
    "tags": []
   },
   "outputs": [],
   "source": [
    "from recsys4daos.evaluation import calculate_all_metrics"
   ]
  },
  {
   "cell_type": "code",
   "execution_count": 17,
   "id": "3b12bc8b",
   "metadata": {
    "editable": true,
    "execution": {
     "iopub.execute_input": "2024-09-06T08:22:04.334941Z",
     "iopub.status.busy": "2024-09-06T08:22:04.334821Z",
     "iopub.status.idle": "2024-09-06T08:22:04.356615Z",
     "shell.execute_reply": "2024-09-06T08:22:04.356313Z"
    },
    "papermill": {
     "duration": 0.025888,
     "end_time": "2024-09-06T08:22:04.357431",
     "exception": false,
     "start_time": "2024-09-06T08:22:04.331543",
     "status": "completed"
    },
    "slideshow": {
     "slide_type": ""
    },
    "tags": []
   },
   "outputs": [],
   "source": [
    "class TrainLightGCN(tune.Trainable):\n",
    "    def setup(\n",
    "        self,\n",
    "        config: Dict[str, Any],\n",
    "        data,\n",
    "    ):\n",
    "        self.config = config\n",
    "        train, test, self.t, self.open_proposals = data\n",
    "        train_filtered = filter_window_size(train, self.t, config['window_size'])\n",
    "        \n",
    "        # Remove users that voted in everything\n",
    "        # see https://github.com/recommenders-team/recommenders/issues/2163\n",
    "        msk = train_filtered.groupby('userID').size() == train_filtered['itemID'].nunique()\n",
    "        train_filtered = train_filtered[train_filtered['userID'].isin(msk[~msk].index)]\n",
    "        \n",
    "        self.dataloader = ImplicitCF(train=train_filtered, test=test, seed=SEED)\n",
    "        # Some experiments will run multiple times, but that's a price to pay for\n",
    "        # usability\n",
    "        self.real_batch_size = min(2**config['batch_size'], self.dataloader.n_users_in_train)\n",
    "\n",
    "        self.hparams = prepare_hparams(\n",
    "            model_type='lightgcn',\n",
    "            n_layers=config['conv_layers'],\n",
    "            batch_size=self.real_batch_size,\n",
    "            embed_size=config['embedding_dim'],\n",
    "            epochs=EPOCHS_PER_ITER,\n",
    "            learning_rate=config['learning_rate'],\n",
    "            decay=config['l2'],\n",
    "            metrics=METRICS,\n",
    "            eval_epoch=-1,\n",
    "            top_k=K_RECOMMENDATIONS[0],\n",
    "            save_model=False,\n",
    "            MODEL_DIR='./data/model/lightgcn/',\n",
    "        )\n",
    "        self.model = LightGCNCustom(self.hparams, self.dataloader, seed=SEED)\n",
    "        self.total_train = 0\n",
    "        self.total_eval = 0\n",
    "\n",
    "    @property\n",
    "    def iteration(self):\n",
    "        return self.model.epochs_done\n",
    "\n",
    "    @property\n",
    "    def training_iteration(self):\n",
    "        return self.model.epochs_done\n",
    "\n",
    "    def step(self):\n",
    "        \"\"\"\n",
    "        As a rule of thumb, the execution time of step should be large enough to avoid overheads \n",
    "        (i.e. more than a few seconds), but short enough to report progress periodically \n",
    "        (i.e. at most a few minutes).\n",
    "        \"\"\"\n",
    "        assert EPOCHS_PER_ITER > 0\n",
    "\n",
    "        with Timer() as t_train:\n",
    "            for _ in range(EPOCHS_PER_ITER):\n",
    "                ret = self.model.fit_epoch()\n",
    "\n",
    "\n",
    "        with Timer() as t_rec:\n",
    "            recs = self.model.recommend_k_items(\n",
    "                self.dataloader.test, # Used only to get user ids\n",
    "                top_k=max(K_RECOMMENDATIONS),\n",
    "                use_id=True,\n",
    "                remove_seen=True,\n",
    "                recommend_from=self.open_proposals,\n",
    "            )\n",
    "        \n",
    "        eval_dict = {'model_'+k:v for k,v in zip(self.model.metrics, self.model.run_eval())}\n",
    "        eval_dict |= calculate_all_metrics(self.dataloader.test, recs, K_RECOMMENDATIONS)\n",
    "\n",
    "        self.total_train += t_train.time\n",
    "        self.total_eval += eval_dict['time_eval']\n",
    "        \n",
    "        return {\n",
    "            'real_batch_size': self.real_batch_size,\n",
    "            'iteration': self.iteration,\n",
    "            'loss': ret[0],\n",
    "            'mf_loss': ret[1],\n",
    "            'emb_loss': ret[2],\n",
    "            **eval_dict,\n",
    "            'time_train': t_train.time,\n",
    "            'time_rec': t_rec.time,\n",
    "            'time_total_train': self.total_train,\n",
    "            'time_total_test': self.total_eval,\n",
    "        }\n",
    "\n",
    "    def save_checkpoint(self, checkpoint_dir):\n",
    "        checkpoint_path = os.path.join(checkpoint_dir, \"model\")\n",
    "        self.model.saver.save(\n",
    "            sess=self.model.sess,\n",
    "            save_path=checkpoint_path,\n",
    "        )\n",
    "        return checkpoint_dir\n",
    "\n",
    "    def load_checkpoint(self, checkpoint_path):\n",
    "        self.model.load(checkpoint_path)"
   ]
  },
  {
   "cell_type": "markdown",
   "id": "be8d4182",
   "metadata": {
    "editable": true,
    "papermill": {
     "duration": 0.002792,
     "end_time": "2024-09-06T08:22:04.363042",
     "exception": false,
     "start_time": "2024-09-06T08:22:04.360250",
     "status": "completed"
    },
    "slideshow": {
     "slide_type": ""
    },
    "tags": []
   },
   "source": [
    "## Big experiment"
   ]
  },
  {
   "cell_type": "code",
   "execution_count": 18,
   "id": "ef1da781",
   "metadata": {
    "editable": true,
    "execution": {
     "iopub.execute_input": "2024-09-06T08:22:04.369147Z",
     "iopub.status.busy": "2024-09-06T08:22:04.369049Z",
     "iopub.status.idle": "2024-09-06T08:22:04.386776Z",
     "shell.execute_reply": "2024-09-06T08:22:04.386585Z"
    },
    "papermill": {
     "duration": 0.021627,
     "end_time": "2024-09-06T08:22:04.387493",
     "exception": false,
     "start_time": "2024-09-06T08:22:04.365866",
     "status": "completed"
    },
    "slideshow": {
     "slide_type": ""
    },
    "tags": []
   },
   "outputs": [
    {
     "data": {
      "text/plain": [
       "PosixPath('/home/daviddavo/ray_results3.11')"
      ]
     },
     "execution_count": 18,
     "metadata": {},
     "output_type": "execute_result"
    }
   ],
   "source": [
    "RAY_RESULTS_PATH"
   ]
  },
  {
   "cell_type": "code",
   "execution_count": 19,
   "id": "7e55645d",
   "metadata": {
    "editable": true,
    "execution": {
     "iopub.execute_input": "2024-09-06T08:22:04.394033Z",
     "iopub.status.busy": "2024-09-06T08:22:04.393900Z",
     "iopub.status.idle": "2024-09-06T08:22:04.411563Z",
     "shell.execute_reply": "2024-09-06T08:22:04.411370Z"
    },
    "papermill": {
     "duration": 0.021704,
     "end_time": "2024-09-06T08:22:04.412202",
     "exception": false,
     "start_time": "2024-09-06T08:22:04.390498",
     "status": "completed"
    },
    "slideshow": {
     "slide_type": ""
    },
    "tags": []
   },
   "outputs": [
    {
     "name": "stdout",
     "output_type": "stream",
     "text": [
      "lamarck\n",
      "{'cpu': 1, 'gpu': 0.0625}\n"
     ]
    }
   ],
   "source": [
    "print(os.uname().nodename)\n",
    "\n",
    "### SET TRAINING RESOURCES\n",
    "if os.uname().nodename == 'lamarck':\n",
    "    # assert torch.cuda.is_available()\n",
    "\n",
    "    NUM_SAMPLES = SAMPLES_PER_SPLIT\n",
    "    # Every run takes approx half a gig of vram (no optimizations)\n",
    "    # The RTX 4090 has 24GB so we can run the model about 48 times\n",
    "    resources_per_trial={\n",
    "        'cpu': 1,\n",
    "        'gpu': 1 / GPUS,\n",
    "    }\n",
    "else:\n",
    "    NUM_SAMPLES = 1\n",
    "    resources_per_trial={\n",
    "        'cpu': 1,\n",
    "        # It takes about 1.5 GiB with full training data, but I put a bit more because\n",
    "        # this notebook also takes a bit of memory\n",
    "        'memory': 2e9,\n",
    "    }\n",
    "print(resources_per_trial)"
   ]
  },
  {
   "cell_type": "code",
   "execution_count": 20,
   "id": "265b6a4a",
   "metadata": {
    "editable": true,
    "execution": {
     "iopub.execute_input": "2024-09-06T08:22:04.418602Z",
     "iopub.status.busy": "2024-09-06T08:22:04.418490Z",
     "iopub.status.idle": "2024-09-06T08:22:04.508282Z",
     "shell.execute_reply": "2024-09-06T08:22:04.507962Z"
    },
    "papermill": {
     "duration": 0.094142,
     "end_time": "2024-09-06T08:22:04.509278",
     "exception": false,
     "start_time": "2024-09-06T08:22:04.415136",
     "status": "completed"
    },
    "slideshow": {
     "slide_type": ""
    },
    "tags": []
   },
   "outputs": [],
   "source": [
    "from ray.tune.search.hyperopt import HyperOptSearch"
   ]
  },
  {
   "cell_type": "code",
   "execution_count": 21,
   "id": "bc885be0",
   "metadata": {
    "editable": true,
    "execution": {
     "iopub.execute_input": "2024-09-06T08:22:04.516122Z",
     "iopub.status.busy": "2024-09-06T08:22:04.515828Z",
     "iopub.status.idle": "2024-09-06T08:22:04.539784Z",
     "shell.execute_reply": "2024-09-06T08:22:04.539571Z"
    },
    "papermill": {
     "duration": 0.028122,
     "end_time": "2024-09-06T08:22:04.540504",
     "exception": false,
     "start_time": "2024-09-06T08:22:04.512382",
     "status": "completed"
    },
    "slideshow": {
     "slide_type": ""
    },
    "tags": []
   },
   "outputs": [],
   "source": [
    "def getTunerOnFold(f_idx, points_to_evaluate = None):    \n",
    "    name = paths.lightgcn_ray_tune_fname(ORG_NAME, SPLITS_FREQ, SPLITS_NORMALIZE, OPTIM_METRIC, fold=f_idx)\n",
    "    experiments = list(RAY_RESULTS_PATH.glob(f'{name}_*'))\n",
    "    last_experiment = max(experiments, key=lambda x: x.stat().st_ctime) if experiments else None\n",
    "    f = folds_dict[f_idx]\n",
    "\n",
    "    dftrain,dftest,t,open_proposals = folds_dict[f_idx]\n",
    "    param_space = dict(\n",
    "        batch_size=tune.randint(MIN_BATCH_SIZE, MAX_BATCH_SIZE+1), # 64 - 2**MAX_BATCH_SIZE\n",
    "        embedding_dim=tune.lograndint(1, MAX_EMBEDDING_DIM, base=2),\n",
    "        conv_layers=tune.randint(1,5),\n",
    "        learning_rate=tune.qloguniform(MIN_LR, 1, 1e-4),\n",
    "        l2=tune.loguniform(1e-7, 1e-2, 1e-7),\n",
    "        window_size=tune.choice(WINDOW_SIZES),\n",
    "        # Just so it appears on the output\n",
    "        fold=f_idx,\n",
    "    )\n",
    "    \n",
    "    ### RESTORE EXPERIMENT OR CREATE A NEW ONE\n",
    "    if last_experiment and tune.Tuner.can_restore(last_experiment):\n",
    "        print(f\"Restoring last experiment: {last_experiment}\")\n",
    "        tuner = tune.Tuner.restore(\n",
    "            str(last_experiment),\n",
    "            trainable=tune.with_resources(\n",
    "                # tune.with_parameters(TrainLightGCN,  train=dftrain, test=dftest, open_proposals=open_proposals),\n",
    "                tune.with_parameters(TrainLightGCN, data=f),\n",
    "                resources_per_trial,\n",
    "            ),\n",
    "            restart_errored=True,\n",
    "            param_space=param_space,\n",
    "        )\n",
    "    else:\n",
    "        print(f\"No experiment found for fold {f_idx}, creating new tuner with {NUM_SAMPLES} samples\")\n",
    "        search_alg = None\n",
    "        \n",
    "        search_alg = HyperOptSearch(\n",
    "            points_to_evaluate = points_to_evaluate,\n",
    "            random_state_seed=SEED,\n",
    "        )\n",
    "        # search_alg = tune.search.Repeater(search_alg, N_SPLITS-SKIP_SPLIT)\n",
    "        \n",
    "        tuner = tune.Tuner(\n",
    "            tune.with_resources(\n",
    "                # tune.with_parameters(TrainLightGCN,  train=dftrain, test=dftest, open_proposals=open_proposals),\n",
    "                tune.with_parameters(TrainLightGCN, data=folds_dict[f_idx]),\n",
    "                resources_per_trial,\n",
    "            ),\n",
    "            run_config=train.RunConfig(\n",
    "                stop={'training_iteration': MAX_EPOCHS/EPOCHS_PER_ITER, 'time_total_train': MAX_TIME_TOTAL_TRAIN},\n",
    "                name=name + f'_{dt.datetime.now().isoformat()}',\n",
    "                storage_path=RAY_RESULTS_PATH,\n",
    "                # failure_config=train.FailureConfig(fail_fast='raise'),\n",
    "                failure_config=train.FailureConfig(max_failures=3),\n",
    "            ),\n",
    "            param_space=param_space,\n",
    "            tune_config=tune.TuneConfig(\n",
    "                search_alg=search_alg,\n",
    "                num_samples=NUM_SAMPLES,\n",
    "                metric=OPTIM_METRIC,\n",
    "                mode='max',\n",
    "            )\n",
    "        )\n",
    "\n",
    "    return tuner"
   ]
  },
  {
   "cell_type": "code",
   "execution_count": 22,
   "id": "eb6ad827",
   "metadata": {
    "editable": true,
    "execution": {
     "iopub.execute_input": "2024-09-06T08:22:04.547018Z",
     "iopub.status.busy": "2024-09-06T08:22:04.546900Z",
     "iopub.status.idle": "2024-09-06T08:22:04.572509Z",
     "shell.execute_reply": "2024-09-06T08:22:04.572322Z"
    },
    "papermill": {
     "duration": 0.030071,
     "end_time": "2024-09-06T08:22:04.573497",
     "exception": false,
     "start_time": "2024-09-06T08:22:04.543426",
     "status": "completed"
    },
    "slideshow": {
     "slide_type": ""
    },
    "tags": []
   },
   "outputs": [
    {
     "data": {
      "application/vnd.jupyter.widget-view+json": {
       "model_id": "f4fc9b7dd668441392802b35df6baf41",
       "version_major": 2,
       "version_minor": 0
      },
      "text/plain": [
       "fold:   0%|          | 0/10 [00:00<?, ?it/s]"
      ]
     },
     "metadata": {},
     "output_type": "display_data"
    },
    {
     "data": {
      "application/vnd.jupyter.widget-view+json": {
       "model_id": "1782b6ee913840eb924bd4eadfd4e78b",
       "version_major": 2,
       "version_minor": 0
      },
      "text/plain": [
       "Output(layout=Layout(border_bottom='1px solid black', border_left='1px solid black', border_right='1px solid b…"
      ]
     },
     "execution_count": 22,
     "metadata": {},
     "output_type": "execute_result"
    }
   ],
   "source": [
    "# We need to display the progress bar in another cell because ray tune \"overwrites\" the previous output\n",
    "pbar = tqdm(total=len(use_folds_idx), desc='fold')\n",
    "out = widgets.Output(layout={'border': '1px solid black'})\n",
    "with out:\n",
    "    print(\"In this cell important output from the next cell will be shown\")\n",
    "out"
   ]
  },
  {
   "cell_type": "code",
   "execution_count": 23,
   "id": "c3a6a8c0",
   "metadata": {
    "editable": true,
    "execution": {
     "iopub.execute_input": "2024-09-06T08:22:04.580693Z",
     "iopub.status.busy": "2024-09-06T08:22:04.580605Z",
     "iopub.status.idle": "2024-09-06T09:20:20.103553Z",
     "shell.execute_reply": "2024-09-06T09:20:20.103269Z"
    },
    "papermill": {
     "duration": 3495.528536,
     "end_time": "2024-09-06T09:20:20.105504",
     "exception": false,
     "start_time": "2024-09-06T08:22:04.576968",
     "status": "completed"
    },
    "slideshow": {
     "slide_type": ""
    },
    "tags": []
   },
   "outputs": [
    {
     "data": {
      "text/html": [
       "<div class=\"tuneStatus\">\n",
       "  <div style=\"display: flex;flex-direction: row\">\n",
       "    <div style=\"display: flex;flex-direction: column;\">\n",
       "      <h3>Tune Status</h3>\n",
       "      <table>\n",
       "<tbody>\n",
       "<tr><td>Current time:</td><td>2024-09-06 09:20:19</td></tr>\n",
       "<tr><td>Running for: </td><td>00:00:00.36        </td></tr>\n",
       "<tr><td>Memory:      </td><td>8.6/125.6 GiB      </td></tr>\n",
       "</tbody>\n",
       "</table>\n",
       "    </div>\n",
       "    <div class=\"vDivider\"></div>\n",
       "    <div class=\"systemInfo\">\n",
       "      <h3>System Info</h3>\n",
       "      Using FIFO scheduling algorithm.<br>Logical resource usage: 0/24 CPUs, 0/1 GPUs (0.0/1.0 accelerator_type:G)\n",
       "    </div>\n",
       "    \n",
       "  </div>\n",
       "  <div class=\"hDivider\"></div>\n",
       "  <div class=\"trialStatus\">\n",
       "    <h3>Trial Status</h3>\n",
       "    <table>\n",
       "<thead>\n",
       "<tr><th>Trial name            </th><th>status    </th><th>loc                  </th><th style=\"text-align: right;\">  batch_size</th><th style=\"text-align: right;\">  conv_layers</th><th style=\"text-align: right;\">  embedding_dim</th><th>fold               </th><th style=\"text-align: right;\">         l2</th><th style=\"text-align: right;\">  learning_rate</th><th>window_size  </th><th style=\"text-align: right;\">  iter</th><th style=\"text-align: right;\">  total time (s)</th><th style=\"text-align: right;\">  real_batch_size</th><th style=\"text-align: right;\">  iteration</th><th style=\"text-align: right;\">       loss</th></tr>\n",
       "</thead>\n",
       "<tbody>\n",
       "<tr><td>TrainLightGCN_06ac1e56</td><td>TERMINATED</td><td>147.96.81.131:4163526</td><td style=\"text-align: right;\">           7</td><td style=\"text-align: right;\">            1</td><td style=\"text-align: right;\">            145</td><td>2022-04-27T00:00:00</td><td style=\"text-align: right;\">1.07179e-06</td><td style=\"text-align: right;\">         0.0014</td><td>60d          </td><td style=\"text-align: right;\">    40</td><td style=\"text-align: right;\">         6.94418</td><td style=\"text-align: right;\">              128</td><td style=\"text-align: right;\">        200</td><td style=\"text-align: right;\">0.00450691 </td></tr>\n",
       "<tr><td>TrainLightGCN_34a62e3c</td><td>TERMINATED</td><td>147.96.81.131:4163377</td><td style=\"text-align: right;\">           6</td><td style=\"text-align: right;\">            3</td><td style=\"text-align: right;\">             83</td><td>2022-04-27T00:00:00</td><td style=\"text-align: right;\">1.63318e-06</td><td style=\"text-align: right;\">         0.0068</td><td>60d          </td><td style=\"text-align: right;\">    40</td><td style=\"text-align: right;\">         8.13234</td><td style=\"text-align: right;\">               64</td><td style=\"text-align: right;\">        200</td><td style=\"text-align: right;\">0.000724751</td></tr>\n",
       "<tr><td>TrainLightGCN_803fda2a</td><td>TERMINATED</td><td>147.96.81.131:4163230</td><td style=\"text-align: right;\">           8</td><td style=\"text-align: right;\">            3</td><td style=\"text-align: right;\">            180</td><td>2022-04-27T00:00:00</td><td style=\"text-align: right;\">4.80263e-06</td><td style=\"text-align: right;\">         0.0273</td><td>60d          </td><td style=\"text-align: right;\">    40</td><td style=\"text-align: right;\">         7.17516</td><td style=\"text-align: right;\">              143</td><td style=\"text-align: right;\">        200</td><td style=\"text-align: right;\">0.000653358</td></tr>\n",
       "<tr><td>TrainLightGCN_20b87582</td><td>TERMINATED</td><td>147.96.81.131:4163081</td><td style=\"text-align: right;\">          10</td><td style=\"text-align: right;\">            1</td><td style=\"text-align: right;\">            292</td><td>2022-04-27T00:00:00</td><td style=\"text-align: right;\">6.97516e-07</td><td style=\"text-align: right;\">         0.0136</td><td>60d          </td><td style=\"text-align: right;\">    40</td><td style=\"text-align: right;\">         7.00388</td><td style=\"text-align: right;\">              143</td><td style=\"text-align: right;\">        200</td><td style=\"text-align: right;\">7.69287e-05</td></tr>\n",
       "<tr><td>TrainLightGCN_e7d6d021</td><td>TERMINATED</td><td>147.96.81.131:4162933</td><td style=\"text-align: right;\">           7</td><td style=\"text-align: right;\">            1</td><td style=\"text-align: right;\">            434</td><td>2022-04-27T00:00:00</td><td style=\"text-align: right;\">2.94425e-05</td><td style=\"text-align: right;\">         0.0048</td><td>60d          </td><td style=\"text-align: right;\">    40</td><td style=\"text-align: right;\">         6.9575 </td><td style=\"text-align: right;\">              128</td><td style=\"text-align: right;\">        200</td><td style=\"text-align: right;\">0.00145105 </td></tr>\n",
       "<tr><td>TrainLightGCN_043d19ad</td><td>TERMINATED</td><td>147.96.81.131:4162784</td><td style=\"text-align: right;\">           6</td><td style=\"text-align: right;\">            1</td><td style=\"text-align: right;\">            304</td><td>2022-04-27T00:00:00</td><td style=\"text-align: right;\">3.16862e-06</td><td style=\"text-align: right;\">         0.0078</td><td>60d          </td><td style=\"text-align: right;\">    40</td><td style=\"text-align: right;\">         8.18321</td><td style=\"text-align: right;\">               64</td><td style=\"text-align: right;\">        200</td><td style=\"text-align: right;\">0.000233065</td></tr>\n",
       "<tr><td>TrainLightGCN_2ca26deb</td><td>TERMINATED</td><td>147.96.81.131:4162635</td><td style=\"text-align: right;\">           9</td><td style=\"text-align: right;\">            1</td><td style=\"text-align: right;\">            104</td><td>2022-04-27T00:00:00</td><td style=\"text-align: right;\">0.000959665</td><td style=\"text-align: right;\">         0.0185</td><td>60d          </td><td style=\"text-align: right;\">    40</td><td style=\"text-align: right;\">         7.04062</td><td style=\"text-align: right;\">              143</td><td style=\"text-align: right;\">        200</td><td style=\"text-align: right;\">0.017611   </td></tr>\n",
       "<tr><td>TrainLightGCN_abaf298b</td><td>TERMINATED</td><td>147.96.81.131:4162486</td><td style=\"text-align: right;\">           7</td><td style=\"text-align: right;\">            1</td><td style=\"text-align: right;\">            834</td><td>2022-04-27T00:00:00</td><td style=\"text-align: right;\">2.06954e-05</td><td style=\"text-align: right;\">         0.0121</td><td>60d          </td><td style=\"text-align: right;\">    40</td><td style=\"text-align: right;\">         7.20349</td><td style=\"text-align: right;\">              128</td><td style=\"text-align: right;\">        200</td><td style=\"text-align: right;\">0.000845193</td></tr>\n",
       "<tr><td>TrainLightGCN_de1620ad</td><td>TERMINATED</td><td>147.96.81.131:4162338</td><td style=\"text-align: right;\">           6</td><td style=\"text-align: right;\">            1</td><td style=\"text-align: right;\">            758</td><td>2022-04-27T00:00:00</td><td style=\"text-align: right;\">4.46402e-07</td><td style=\"text-align: right;\">         0.0463</td><td>60d          </td><td style=\"text-align: right;\">    40</td><td style=\"text-align: right;\">         8.59983</td><td style=\"text-align: right;\">               64</td><td style=\"text-align: right;\">        200</td><td style=\"text-align: right;\">0.44821    </td></tr>\n",
       "<tr><td>TrainLightGCN_6e475e4d</td><td>TERMINATED</td><td>147.96.81.131:4162190</td><td style=\"text-align: right;\">           9</td><td style=\"text-align: right;\">            1</td><td style=\"text-align: right;\">            611</td><td>2022-04-27T00:00:00</td><td style=\"text-align: right;\">3.92549e-05</td><td style=\"text-align: right;\">         0.003 </td><td>60d          </td><td style=\"text-align: right;\">    40</td><td style=\"text-align: right;\">         7.03851</td><td style=\"text-align: right;\">              143</td><td style=\"text-align: right;\">        200</td><td style=\"text-align: right;\">0.0019177  </td></tr>\n",
       "<tr><td>TrainLightGCN_6dd87da3</td><td>TERMINATED</td><td>147.96.81.131:4162041</td><td style=\"text-align: right;\">           6</td><td style=\"text-align: right;\">            1</td><td style=\"text-align: right;\">           1004</td><td>2022-04-27T00:00:00</td><td style=\"text-align: right;\">2.09527e-06</td><td style=\"text-align: right;\">         0.0057</td><td>60d          </td><td style=\"text-align: right;\">    40</td><td style=\"text-align: right;\">         8.12687</td><td style=\"text-align: right;\">               64</td><td style=\"text-align: right;\">        200</td><td style=\"text-align: right;\">0.000156713</td></tr>\n",
       "<tr><td>TrainLightGCN_a4d782db</td><td>TERMINATED</td><td>147.96.81.131:4161890</td><td style=\"text-align: right;\">           7</td><td style=\"text-align: right;\">            3</td><td style=\"text-align: right;\">            133</td><td>2022-04-27T00:00:00</td><td style=\"text-align: right;\">1.88171e-07</td><td style=\"text-align: right;\">         0.0018</td><td>60d          </td><td style=\"text-align: right;\">    40</td><td style=\"text-align: right;\">         6.93127</td><td style=\"text-align: right;\">              128</td><td style=\"text-align: right;\">        200</td><td style=\"text-align: right;\">0.00977823 </td></tr>\n",
       "<tr><td>TrainLightGCN_1522f60f</td><td>TERMINATED</td><td>147.96.81.131:4161743</td><td style=\"text-align: right;\">           6</td><td style=\"text-align: right;\">            1</td><td style=\"text-align: right;\">            517</td><td>2022-04-27T00:00:00</td><td style=\"text-align: right;\">0.000490854</td><td style=\"text-align: right;\">         0.0009</td><td>60d          </td><td style=\"text-align: right;\">    40</td><td style=\"text-align: right;\">         8.17077</td><td style=\"text-align: right;\">               64</td><td style=\"text-align: right;\">        200</td><td style=\"text-align: right;\">0.0143754  </td></tr>\n",
       "<tr><td>TrainLightGCN_d41725db</td><td>TERMINATED</td><td>147.96.81.131:4161595</td><td style=\"text-align: right;\">          10</td><td style=\"text-align: right;\">            1</td><td style=\"text-align: right;\">            386</td><td>2022-04-27T00:00:00</td><td style=\"text-align: right;\">7.95183e-06</td><td style=\"text-align: right;\">         0.0085</td><td>60d          </td><td style=\"text-align: right;\">    40</td><td style=\"text-align: right;\">         6.98141</td><td style=\"text-align: right;\">              143</td><td style=\"text-align: right;\">        200</td><td style=\"text-align: right;\">0.000480333</td></tr>\n",
       "<tr><td>TrainLightGCN_507f8ee5</td><td>TERMINATED</td><td>147.96.81.131:4161445</td><td style=\"text-align: right;\">           6</td><td style=\"text-align: right;\">            1</td><td style=\"text-align: right;\">           1009</td><td>2022-04-27T00:00:00</td><td style=\"text-align: right;\">2.07852e-06</td><td style=\"text-align: right;\">         0.0069</td><td>60d          </td><td style=\"text-align: right;\">    40</td><td style=\"text-align: right;\">         8.10471</td><td style=\"text-align: right;\">               64</td><td style=\"text-align: right;\">        200</td><td style=\"text-align: right;\">0.000151009</td></tr>\n",
       "<tr><td>TrainLightGCN_c4904cb3</td><td>TERMINATED</td><td>147.96.81.131:4161296</td><td style=\"text-align: right;\">           7</td><td style=\"text-align: right;\">            1</td><td style=\"text-align: right;\">            253</td><td>2022-04-27T00:00:00</td><td style=\"text-align: right;\">0.00175712 </td><td style=\"text-align: right;\">         0.0024</td><td>60d          </td><td style=\"text-align: right;\">    40</td><td style=\"text-align: right;\">         7.1394 </td><td style=\"text-align: right;\">              128</td><td style=\"text-align: right;\">        200</td><td style=\"text-align: right;\">0.0307684  </td></tr>\n",
       "<tr><td>TrainLightGCN_9e25df78</td><td>TERMINATED</td><td>147.96.81.131:4161148</td><td style=\"text-align: right;\">          10</td><td style=\"text-align: right;\">            1</td><td style=\"text-align: right;\">            190</td><td>2022-04-27T00:00:00</td><td style=\"text-align: right;\">1.26906e-05</td><td style=\"text-align: right;\">         0.0016</td><td>60d          </td><td style=\"text-align: right;\">    40</td><td style=\"text-align: right;\">         7.19026</td><td style=\"text-align: right;\">              143</td><td style=\"text-align: right;\">        200</td><td style=\"text-align: right;\">0.00337614 </td></tr>\n",
       "<tr><td>TrainLightGCN_59f9014d</td><td>TERMINATED</td><td>147.96.81.131:4160999</td><td style=\"text-align: right;\">           6</td><td style=\"text-align: right;\">            3</td><td style=\"text-align: right;\">             45</td><td>2022-04-27T00:00:00</td><td style=\"text-align: right;\">1.01247e-06</td><td style=\"text-align: right;\">         0.0035</td><td>30d          </td><td style=\"text-align: right;\">    40</td><td style=\"text-align: right;\">         7.60321</td><td style=\"text-align: right;\">               64</td><td style=\"text-align: right;\">        200</td><td style=\"text-align: right;\">0.00394503 </td></tr>\n",
       "<tr><td>TrainLightGCN_5eed161a</td><td>TERMINATED</td><td>147.96.81.131:4160850</td><td style=\"text-align: right;\">           9</td><td style=\"text-align: right;\">            2</td><td style=\"text-align: right;\">             34</td><td>2022-04-27T00:00:00</td><td style=\"text-align: right;\">0.000116182</td><td style=\"text-align: right;\">         0.9963</td><td>21d          </td><td style=\"text-align: right;\">    40</td><td style=\"text-align: right;\">         6.88971</td><td style=\"text-align: right;\">               94</td><td style=\"text-align: right;\">        200</td><td style=\"text-align: right;\">2.77556    </td></tr>\n",
       "<tr><td>TrainLightGCN_634b038c</td><td>TERMINATED</td><td>147.96.81.131:4160702</td><td style=\"text-align: right;\">           9</td><td style=\"text-align: right;\">            4</td><td style=\"text-align: right;\">             65</td><td>2022-04-27T00:00:00</td><td style=\"text-align: right;\">0.00117121 </td><td style=\"text-align: right;\">         0.523 </td><td>10YE         </td><td style=\"text-align: right;\">    40</td><td style=\"text-align: right;\">         9.23783</td><td style=\"text-align: right;\">              512</td><td style=\"text-align: right;\">        200</td><td style=\"text-align: right;\">0.113521   </td></tr>\n",
       "<tr><td>TrainLightGCN_8c37d637</td><td>TERMINATED</td><td>147.96.81.131:4160555</td><td style=\"text-align: right;\">           9</td><td style=\"text-align: right;\">            1</td><td style=\"text-align: right;\">            264</td><td>2022-04-27T00:00:00</td><td style=\"text-align: right;\">0.000488447</td><td style=\"text-align: right;\">         0.0025</td><td>60d          </td><td style=\"text-align: right;\">    40</td><td style=\"text-align: right;\">         7.02642</td><td style=\"text-align: right;\">              143</td><td style=\"text-align: right;\">        200</td><td style=\"text-align: right;\">0.013054   </td></tr>\n",
       "<tr><td>TrainLightGCN_4c4d3367</td><td>TERMINATED</td><td>147.96.81.131:4160408</td><td style=\"text-align: right;\">          10</td><td style=\"text-align: right;\">            3</td><td style=\"text-align: right;\">             16</td><td>2022-04-27T00:00:00</td><td style=\"text-align: right;\">0.00559721 </td><td style=\"text-align: right;\">         0.1763</td><td>90d          </td><td style=\"text-align: right;\">    40</td><td style=\"text-align: right;\">         7.14919</td><td style=\"text-align: right;\">              157</td><td style=\"text-align: right;\">        200</td><td style=\"text-align: right;\">0.154577   </td></tr>\n",
       "<tr><td>TrainLightGCN_cb7df379</td><td>TERMINATED</td><td>147.96.81.131:4160257</td><td style=\"text-align: right;\">           9</td><td style=\"text-align: right;\">            2</td><td style=\"text-align: right;\">              1</td><td>2022-04-27T00:00:00</td><td style=\"text-align: right;\">3.8607e-06 </td><td style=\"text-align: right;\">         0.0003</td><td>21d          </td><td style=\"text-align: right;\">    40</td><td style=\"text-align: right;\">         6.95169</td><td style=\"text-align: right;\">               94</td><td style=\"text-align: right;\">        200</td><td style=\"text-align: right;\">0.670746   </td></tr>\n",
       "<tr><td>TrainLightGCN_377d80ef</td><td>TERMINATED</td><td>147.96.81.131:4160111</td><td style=\"text-align: right;\">           9</td><td style=\"text-align: right;\">            4</td><td style=\"text-align: right;\">              5</td><td>2022-04-27T00:00:00</td><td style=\"text-align: right;\">0.00866536 </td><td style=\"text-align: right;\">         0.3067</td><td>60d          </td><td style=\"text-align: right;\">    40</td><td style=\"text-align: right;\">         7.1943 </td><td style=\"text-align: right;\">              143</td><td style=\"text-align: right;\">        200</td><td style=\"text-align: right;\">0.266228   </td></tr>\n",
       "<tr><td>TrainLightGCN_2f2c5080</td><td>TERMINATED</td><td>147.96.81.131:4159964</td><td style=\"text-align: right;\">          10</td><td style=\"text-align: right;\">            3</td><td style=\"text-align: right;\">              8</td><td>2022-04-27T00:00:00</td><td style=\"text-align: right;\">1.69562e-05</td><td style=\"text-align: right;\">         0.1242</td><td>30d          </td><td style=\"text-align: right;\">    40</td><td style=\"text-align: right;\">         7.05604</td><td style=\"text-align: right;\">              111</td><td style=\"text-align: right;\">        200</td><td style=\"text-align: right;\">0.00434607 </td></tr>\n",
       "<tr><td>TrainLightGCN_f66b444a</td><td>TERMINATED</td><td>147.96.81.131:4159814</td><td style=\"text-align: right;\">           9</td><td style=\"text-align: right;\">            2</td><td style=\"text-align: right;\">              7</td><td>2022-04-27T00:00:00</td><td style=\"text-align: right;\">0.00015624 </td><td style=\"text-align: right;\">         0.0001</td><td>21d          </td><td style=\"text-align: right;\">    40</td><td style=\"text-align: right;\">         6.9513 </td><td style=\"text-align: right;\">               94</td><td style=\"text-align: right;\">        200</td><td style=\"text-align: right;\">0.663357   </td></tr>\n",
       "<tr><td>TrainLightGCN_affe9227</td><td>TERMINATED</td><td>147.96.81.131:4159666</td><td style=\"text-align: right;\">          10</td><td style=\"text-align: right;\">            1</td><td style=\"text-align: right;\">             24</td><td>2022-04-27T00:00:00</td><td style=\"text-align: right;\">0.000726456</td><td style=\"text-align: right;\">         0.0047</td><td>90d          </td><td style=\"text-align: right;\">    40</td><td style=\"text-align: right;\">         7.13462</td><td style=\"text-align: right;\">              157</td><td style=\"text-align: right;\">        200</td><td style=\"text-align: right;\">0.0222691  </td></tr>\n",
       "<tr><td>TrainLightGCN_3f91974a</td><td>TERMINATED</td><td>147.96.81.131:4159519</td><td style=\"text-align: right;\">          10</td><td style=\"text-align: right;\">            2</td><td style=\"text-align: right;\">             11</td><td>2022-04-27T00:00:00</td><td style=\"text-align: right;\">0.000224177</td><td style=\"text-align: right;\">         0.0002</td><td>10YE         </td><td style=\"text-align: right;\">    40</td><td style=\"text-align: right;\">         8.89222</td><td style=\"text-align: right;\">              583</td><td style=\"text-align: right;\">        200</td><td style=\"text-align: right;\">0.393603   </td></tr>\n",
       "<tr><td>TrainLightGCN_ed58ae6b</td><td>TERMINATED</td><td>147.96.81.131:4159368</td><td style=\"text-align: right;\">           8</td><td style=\"text-align: right;\">            4</td><td style=\"text-align: right;\">              2</td><td>2022-04-27T00:00:00</td><td style=\"text-align: right;\">1.0163e-05 </td><td style=\"text-align: right;\">         0.0013</td><td>30d          </td><td style=\"text-align: right;\">    40</td><td style=\"text-align: right;\">         7.10049</td><td style=\"text-align: right;\">              111</td><td style=\"text-align: right;\">        200</td><td style=\"text-align: right;\">0.43655    </td></tr>\n",
       "<tr><td>TrainLightGCN_605e2c4f</td><td>TERMINATED</td><td>147.96.81.131:4159221</td><td style=\"text-align: right;\">           9</td><td style=\"text-align: right;\">            1</td><td style=\"text-align: right;\">             18</td><td>2022-04-27T00:00:00</td><td style=\"text-align: right;\">5.36993e-06</td><td style=\"text-align: right;\">         0.0007</td><td>30d          </td><td style=\"text-align: right;\">    40</td><td style=\"text-align: right;\">         7.04718</td><td style=\"text-align: right;\">              111</td><td style=\"text-align: right;\">        200</td><td style=\"text-align: right;\">0.104014   </td></tr>\n",
       "<tr><td>TrainLightGCN_6c00e352</td><td>TERMINATED</td><td>147.96.81.131:4159072</td><td style=\"text-align: right;\">           8</td><td style=\"text-align: right;\">            4</td><td style=\"text-align: right;\">              2</td><td>2022-04-27T00:00:00</td><td style=\"text-align: right;\">2.58768e-05</td><td style=\"text-align: right;\">         0.0107</td><td>30d          </td><td style=\"text-align: right;\">    40</td><td style=\"text-align: right;\">         7.17096</td><td style=\"text-align: right;\">              111</td><td style=\"text-align: right;\">        200</td><td style=\"text-align: right;\">0.214774   </td></tr>\n",
       "<tr><td>TrainLightGCN_38c01a4e</td><td>TERMINATED</td><td>147.96.81.131:4158922</td><td style=\"text-align: right;\">           9</td><td style=\"text-align: right;\">            4</td><td style=\"text-align: right;\">              6</td><td>2022-04-27T00:00:00</td><td style=\"text-align: right;\">0.000159688</td><td style=\"text-align: right;\">         0.0003</td><td>30d          </td><td style=\"text-align: right;\">    40</td><td style=\"text-align: right;\">         7.0264 </td><td style=\"text-align: right;\">              111</td><td style=\"text-align: right;\">        200</td><td style=\"text-align: right;\">0.569377   </td></tr>\n",
       "<tr><td>TrainLightGCN_67314d02</td><td>TERMINATED</td><td>147.96.81.131:4158773</td><td style=\"text-align: right;\">           8</td><td style=\"text-align: right;\">            4</td><td style=\"text-align: right;\">            115</td><td>2022-04-27T00:00:00</td><td style=\"text-align: right;\">0.00299966 </td><td style=\"text-align: right;\">         0.0002</td><td>30d          </td><td style=\"text-align: right;\">    40</td><td style=\"text-align: right;\">         7.16429</td><td style=\"text-align: right;\">              111</td><td style=\"text-align: right;\">        200</td><td style=\"text-align: right;\">0.325763   </td></tr>\n",
       "<tr><td>TrainLightGCN_deca38c2</td><td>TERMINATED</td><td>147.96.81.131:4158624</td><td style=\"text-align: right;\">           8</td><td style=\"text-align: right;\">            4</td><td style=\"text-align: right;\">              4</td><td>2022-04-27T00:00:00</td><td style=\"text-align: right;\">5.22873e-05</td><td style=\"text-align: right;\">         0.0006</td><td>30d          </td><td style=\"text-align: right;\">    40</td><td style=\"text-align: right;\">         7.19815</td><td style=\"text-align: right;\">              111</td><td style=\"text-align: right;\">        200</td><td style=\"text-align: right;\">0.462327   </td></tr>\n",
       "<tr><td>TrainLightGCN_cc7ee15b</td><td>TERMINATED</td><td>147.96.81.131:4158473</td><td style=\"text-align: right;\">           8</td><td style=\"text-align: right;\">            4</td><td style=\"text-align: right;\">              2</td><td>2022-04-27T00:00:00</td><td style=\"text-align: right;\">7.84504e-05</td><td style=\"text-align: right;\">         0.0004</td><td>30d          </td><td style=\"text-align: right;\">    40</td><td style=\"text-align: right;\">         7.24622</td><td style=\"text-align: right;\">              111</td><td style=\"text-align: right;\">        200</td><td style=\"text-align: right;\">0.600179   </td></tr>\n",
       "<tr><td>TrainLightGCN_c7d96a0e</td><td>TERMINATED</td><td>147.96.81.131:4158323</td><td style=\"text-align: right;\">           8</td><td style=\"text-align: right;\">            3</td><td style=\"text-align: right;\">            196</td><td>2022-04-27T00:00:00</td><td style=\"text-align: right;\">1.53415e-05</td><td style=\"text-align: right;\">         0.0023</td><td>60d          </td><td style=\"text-align: right;\">    40</td><td style=\"text-align: right;\">         7.10153</td><td style=\"text-align: right;\">              143</td><td style=\"text-align: right;\">        200</td><td style=\"text-align: right;\">0.00564166 </td></tr>\n",
       "<tr><td>TrainLightGCN_a147b2ca</td><td>TERMINATED</td><td>147.96.81.131:4158175</td><td style=\"text-align: right;\">           7</td><td style=\"text-align: right;\">            2</td><td style=\"text-align: right;\">            453</td><td>2022-04-27T00:00:00</td><td style=\"text-align: right;\">2.75189e-06</td><td style=\"text-align: right;\">         0.0224</td><td>30d          </td><td style=\"text-align: right;\">    40</td><td style=\"text-align: right;\">         7.03792</td><td style=\"text-align: right;\">              111</td><td style=\"text-align: right;\">        200</td><td style=\"text-align: right;\">0.000277567</td></tr>\n",
       "<tr><td>TrainLightGCN_8f0728af</td><td>TERMINATED</td><td>147.96.81.131:4158025</td><td style=\"text-align: right;\">           6</td><td style=\"text-align: right;\">            3</td><td style=\"text-align: right;\">             90</td><td>2022-04-27T00:00:00</td><td style=\"text-align: right;\">5.61016e-07</td><td style=\"text-align: right;\">         0.2256</td><td>21d          </td><td style=\"text-align: right;\">    40</td><td style=\"text-align: right;\">         7.51407</td><td style=\"text-align: right;\">               64</td><td style=\"text-align: right;\">        200</td><td style=\"text-align: right;\">0.00392914 </td></tr>\n",
       "<tr><td>TrainLightGCN_37c64509</td><td>TERMINATED</td><td>147.96.81.131:4157876</td><td style=\"text-align: right;\">           6</td><td style=\"text-align: right;\">            2</td><td style=\"text-align: right;\">              1</td><td>2022-04-27T00:00:00</td><td style=\"text-align: right;\">7.25114e-06</td><td style=\"text-align: right;\">         0.0762</td><td>60d          </td><td style=\"text-align: right;\">    40</td><td style=\"text-align: right;\">         8.18702</td><td style=\"text-align: right;\">               64</td><td style=\"text-align: right;\">        200</td><td style=\"text-align: right;\">0.408824   </td></tr>\n",
       "<tr><td>TrainLightGCN_5acab5cc</td><td>TERMINATED</td><td>147.96.81.131:4157728</td><td style=\"text-align: right;\">           9</td><td style=\"text-align: right;\">            3</td><td style=\"text-align: right;\">            704</td><td>2022-04-27T00:00:00</td><td style=\"text-align: right;\">3.16288e-07</td><td style=\"text-align: right;\">         0.4292</td><td>21d          </td><td style=\"text-align: right;\">    40</td><td style=\"text-align: right;\">         6.9579 </td><td style=\"text-align: right;\">               94</td><td style=\"text-align: right;\">        200</td><td style=\"text-align: right;\">0.0378958  </td></tr>\n",
       "<tr><td>TrainLightGCN_28d7e8ec</td><td>TERMINATED</td><td>147.96.81.131:4157576</td><td style=\"text-align: right;\">          10</td><td style=\"text-align: right;\">            2</td><td style=\"text-align: right;\">            331</td><td>2022-04-27T00:00:00</td><td style=\"text-align: right;\">9.38619e-07</td><td style=\"text-align: right;\">         0.0001</td><td>10YE         </td><td style=\"text-align: right;\">    40</td><td style=\"text-align: right;\">         8.82169</td><td style=\"text-align: right;\">              583</td><td style=\"text-align: right;\">        200</td><td style=\"text-align: right;\">0.156157   </td></tr>\n",
       "<tr><td>TrainLightGCN_73ac102d</td><td>TERMINATED</td><td>147.96.81.131:4157429</td><td style=\"text-align: right;\">           7</td><td style=\"text-align: right;\">            3</td><td style=\"text-align: right;\">             30</td><td>2022-04-27T00:00:00</td><td style=\"text-align: right;\">0.00110305 </td><td style=\"text-align: right;\">         0.0108</td><td>60d          </td><td style=\"text-align: right;\">    40</td><td style=\"text-align: right;\">         7.22394</td><td style=\"text-align: right;\">              128</td><td style=\"text-align: right;\">        200</td><td style=\"text-align: right;\">0.0429484  </td></tr>\n",
       "<tr><td>TrainLightGCN_fcd69dd7</td><td>TERMINATED</td><td>147.96.81.131:4157283</td><td style=\"text-align: right;\">           8</td><td style=\"text-align: right;\">            4</td><td style=\"text-align: right;\">             11</td><td>2022-04-27T00:00:00</td><td style=\"text-align: right;\">1.65849e-07</td><td style=\"text-align: right;\">         0.7277</td><td>30d          </td><td style=\"text-align: right;\">    40</td><td style=\"text-align: right;\">         7.23711</td><td style=\"text-align: right;\">              111</td><td style=\"text-align: right;\">        200</td><td style=\"text-align: right;\">0.0733797  </td></tr>\n",
       "<tr><td>TrainLightGCN_0ee14356</td><td>TERMINATED</td><td>147.96.81.131:4157132</td><td style=\"text-align: right;\">           6</td><td style=\"text-align: right;\">            2</td><td style=\"text-align: right;\">            223</td><td>2022-04-27T00:00:00</td><td style=\"text-align: right;\">2.09986e-06</td><td style=\"text-align: right;\">         0.0407</td><td>21d          </td><td style=\"text-align: right;\">    40</td><td style=\"text-align: right;\">         7.47405</td><td style=\"text-align: right;\">               64</td><td style=\"text-align: right;\">        200</td><td style=\"text-align: right;\">0.0560045  </td></tr>\n",
       "<tr><td>TrainLightGCN_01e0aa50</td><td>TERMINATED</td><td>147.96.81.131:4156983</td><td style=\"text-align: right;\">           7</td><td style=\"text-align: right;\">            3</td><td style=\"text-align: right;\">            115</td><td>2022-04-27T00:00:00</td><td style=\"text-align: right;\">3.51795e-05</td><td style=\"text-align: right;\">         0.0036</td><td>21d          </td><td style=\"text-align: right;\">    40</td><td style=\"text-align: right;\">         6.94875</td><td style=\"text-align: right;\">               94</td><td style=\"text-align: right;\">        200</td><td style=\"text-align: right;\">0.0047177  </td></tr>\n",
       "<tr><td>TrainLightGCN_098bdb46</td><td>TERMINATED</td><td>147.96.81.131:4156834</td><td style=\"text-align: right;\">           6</td><td style=\"text-align: right;\">            2</td><td style=\"text-align: right;\">             39</td><td>2022-04-27T00:00:00</td><td style=\"text-align: right;\">0.000203207</td><td style=\"text-align: right;\">         0.0894</td><td>60d          </td><td style=\"text-align: right;\">    40</td><td style=\"text-align: right;\">         8.43229</td><td style=\"text-align: right;\">               64</td><td style=\"text-align: right;\">        200</td><td style=\"text-align: right;\">0.0284762  </td></tr>\n",
       "<tr><td>TrainLightGCN_29aa2c52</td><td>TERMINATED</td><td>147.96.81.131:4156675</td><td style=\"text-align: right;\">           8</td><td style=\"text-align: right;\">            4</td><td style=\"text-align: right;\">              2</td><td>2022-04-27T00:00:00</td><td style=\"text-align: right;\">8.91036e-05</td><td style=\"text-align: right;\">         0.0004</td><td>30d          </td><td style=\"text-align: right;\">    40</td><td style=\"text-align: right;\">         7.25403</td><td style=\"text-align: right;\">              111</td><td style=\"text-align: right;\">        200</td><td style=\"text-align: right;\">0.600191   </td></tr>\n",
       "<tr><td>TrainLightGCN_8be0b315</td><td>TERMINATED</td><td>147.96.81.131:4156527</td><td style=\"text-align: right;\">           9</td><td style=\"text-align: right;\">            3</td><td style=\"text-align: right;\">            327</td><td>2022-04-27T00:00:00</td><td style=\"text-align: right;\">0.000515715</td><td style=\"text-align: right;\">         0.5524</td><td>10YE         </td><td style=\"text-align: right;\">    40</td><td style=\"text-align: right;\">         9.1827 </td><td style=\"text-align: right;\">              512</td><td style=\"text-align: right;\">        200</td><td style=\"text-align: right;\">3.28609    </td></tr>\n",
       "<tr><td>TrainLightGCN_a8181d96</td><td>TERMINATED</td><td>147.96.81.131:4156380</td><td style=\"text-align: right;\">          10</td><td style=\"text-align: right;\">            2</td><td style=\"text-align: right;\">             77</td><td>2022-04-27T00:00:00</td><td style=\"text-align: right;\">1.70382e-06</td><td style=\"text-align: right;\">         0.1455</td><td>21d          </td><td style=\"text-align: right;\">    40</td><td style=\"text-align: right;\">         6.80816</td><td style=\"text-align: right;\">               94</td><td style=\"text-align: right;\">        200</td><td style=\"text-align: right;\">0.00345975 </td></tr>\n",
       "<tr><td>TrainLightGCN_d4ac47d1</td><td>TERMINATED</td><td>147.96.81.131:4156232</td><td style=\"text-align: right;\">           6</td><td style=\"text-align: right;\">            4</td><td style=\"text-align: right;\">            553</td><td>2022-04-27T00:00:00</td><td style=\"text-align: right;\">0.000314381</td><td style=\"text-align: right;\">         0.0241</td><td>60d          </td><td style=\"text-align: right;\">    40</td><td style=\"text-align: right;\">         8.47157</td><td style=\"text-align: right;\">               64</td><td style=\"text-align: right;\">        200</td><td style=\"text-align: right;\">0.0220091  </td></tr>\n",
       "<tr><td>TrainLightGCN_17e4a1f7</td><td>TERMINATED</td><td>147.96.81.131:4156086</td><td style=\"text-align: right;\">           6</td><td style=\"text-align: right;\">            2</td><td style=\"text-align: right;\">              7</td><td>2022-04-27T00:00:00</td><td style=\"text-align: right;\">7.40158e-07</td><td style=\"text-align: right;\">         0.2545</td><td>21d          </td><td style=\"text-align: right;\">    40</td><td style=\"text-align: right;\">         7.67479</td><td style=\"text-align: right;\">               64</td><td style=\"text-align: right;\">        200</td><td style=\"text-align: right;\">0.0363671  </td></tr>\n",
       "<tr><td>TrainLightGCN_a97f8fa5</td><td>TERMINATED</td><td>147.96.81.131:4155938</td><td style=\"text-align: right;\">           7</td><td style=\"text-align: right;\">            3</td><td style=\"text-align: right;\">            210</td><td>2022-04-27T00:00:00</td><td style=\"text-align: right;\">4.37378e-06</td><td style=\"text-align: right;\">         0.0549</td><td>30d          </td><td style=\"text-align: right;\">    40</td><td style=\"text-align: right;\">         7.22756</td><td style=\"text-align: right;\">              111</td><td style=\"text-align: right;\">        200</td><td style=\"text-align: right;\">0.000617915</td></tr>\n",
       "<tr><td>TrainLightGCN_83851b1b</td><td>TERMINATED</td><td>147.96.81.131:4155787</td><td style=\"text-align: right;\">           9</td><td style=\"text-align: right;\">            3</td><td style=\"text-align: right;\">             20</td><td>2022-04-27T00:00:00</td><td style=\"text-align: right;\">4.15578e-05</td><td style=\"text-align: right;\">         0.9082</td><td>10YE         </td><td style=\"text-align: right;\">    40</td><td style=\"text-align: right;\">         9.00962</td><td style=\"text-align: right;\">              512</td><td style=\"text-align: right;\">        200</td><td style=\"text-align: right;\">1.32119    </td></tr>\n",
       "<tr><td>TrainLightGCN_c41926db</td><td>TERMINATED</td><td>147.96.81.131:4155639</td><td style=\"text-align: right;\">           8</td><td style=\"text-align: right;\">            2</td><td style=\"text-align: right;\">             65</td><td>2022-04-27T00:00:00</td><td style=\"text-align: right;\">0.000113916</td><td style=\"text-align: right;\">         0.2003</td><td>60d          </td><td style=\"text-align: right;\">    40</td><td style=\"text-align: right;\">         7.06272</td><td style=\"text-align: right;\">              143</td><td style=\"text-align: right;\">        200</td><td style=\"text-align: right;\">0.13455    </td></tr>\n",
       "<tr><td>TrainLightGCN_b8894fa3</td><td>TERMINATED</td><td>147.96.81.131:4155488</td><td style=\"text-align: right;\">           7</td><td style=\"text-align: right;\">            2</td><td style=\"text-align: right;\">             40</td><td>2022-04-27T00:00:00</td><td style=\"text-align: right;\">1.29471e-06</td><td style=\"text-align: right;\">         0.1021</td><td>21d          </td><td style=\"text-align: right;\">    40</td><td style=\"text-align: right;\">         6.92831</td><td style=\"text-align: right;\">               94</td><td style=\"text-align: right;\">        200</td><td style=\"text-align: right;\">0.000899609</td></tr>\n",
       "<tr><td>TrainLightGCN_b8deac36</td><td>TERMINATED</td><td>147.96.81.131:4155337</td><td style=\"text-align: right;\">           6</td><td style=\"text-align: right;\">            4</td><td style=\"text-align: right;\">            403</td><td>2022-04-27T00:00:00</td><td style=\"text-align: right;\">2.3716e-05 </td><td style=\"text-align: right;\">         0.0582</td><td>30d          </td><td style=\"text-align: right;\">    40</td><td style=\"text-align: right;\">         7.82055</td><td style=\"text-align: right;\">               64</td><td style=\"text-align: right;\">        200</td><td style=\"text-align: right;\">0.083595   </td></tr>\n",
       "<tr><td>TrainLightGCN_742d2e51</td><td>TERMINATED</td><td>147.96.81.131:4155187</td><td style=\"text-align: right;\">           7</td><td style=\"text-align: right;\">            3</td><td style=\"text-align: right;\">            115</td><td>2022-04-27T00:00:00</td><td style=\"text-align: right;\">2.59389e-06</td><td style=\"text-align: right;\">         0.8694</td><td>60d          </td><td style=\"text-align: right;\">    40</td><td style=\"text-align: right;\">         7.34079</td><td style=\"text-align: right;\">              128</td><td style=\"text-align: right;\">        200</td><td style=\"text-align: right;\">1.08378    </td></tr>\n",
       "<tr><td>TrainLightGCN_b524d556</td><td>TERMINATED</td><td>147.96.81.131:4155031</td><td style=\"text-align: right;\">           8</td><td style=\"text-align: right;\">            3</td><td style=\"text-align: right;\">            135</td><td>2022-04-27T00:00:00</td><td style=\"text-align: right;\">0.00362968 </td><td style=\"text-align: right;\">         0.6768</td><td>60d          </td><td style=\"text-align: right;\">    40</td><td style=\"text-align: right;\">         7.30523</td><td style=\"text-align: right;\">              143</td><td style=\"text-align: right;\">        200</td><td style=\"text-align: right;\">0.244232   </td></tr>\n",
       "<tr><td>TrainLightGCN_312145f3</td><td>TERMINATED</td><td>147.96.81.131:4154881</td><td style=\"text-align: right;\">           6</td><td style=\"text-align: right;\">            4</td><td style=\"text-align: right;\">             58</td><td>2022-04-27T00:00:00</td><td style=\"text-align: right;\">6.2896e-06 </td><td style=\"text-align: right;\">         0.5382</td><td>60d          </td><td style=\"text-align: right;\">    40</td><td style=\"text-align: right;\">         8.61257</td><td style=\"text-align: right;\">               64</td><td style=\"text-align: right;\">        200</td><td style=\"text-align: right;\">0.509612   </td></tr>\n",
       "<tr><td>TrainLightGCN_64bfda79</td><td>TERMINATED</td><td>147.96.81.131:4154738</td><td style=\"text-align: right;\">           8</td><td style=\"text-align: right;\">            3</td><td style=\"text-align: right;\">              3</td><td>2022-04-27T00:00:00</td><td style=\"text-align: right;\">0.0003913  </td><td style=\"text-align: right;\">         0.2789</td><td>60d          </td><td style=\"text-align: right;\">    40</td><td style=\"text-align: right;\">         7.68251</td><td style=\"text-align: right;\">              143</td><td style=\"text-align: right;\">        200</td><td style=\"text-align: right;\">0.194661   </td></tr>\n",
       "<tr><td>TrainLightGCN_269710ed</td><td>TERMINATED</td><td>147.96.81.131:4154590</td><td style=\"text-align: right;\">           6</td><td style=\"text-align: right;\">            4</td><td style=\"text-align: right;\">             21</td><td>2022-04-27T00:00:00</td><td style=\"text-align: right;\">1.45719e-06</td><td style=\"text-align: right;\">         0.126 </td><td>60d          </td><td style=\"text-align: right;\">    40</td><td style=\"text-align: right;\">         9.04715</td><td style=\"text-align: right;\">               64</td><td style=\"text-align: right;\">        200</td><td style=\"text-align: right;\">0.00152913 </td></tr>\n",
       "<tr><td>TrainLightGCN_8cb5e8a9</td><td>TERMINATED</td><td>147.96.81.131:4154286</td><td style=\"text-align: right;\">           7</td><td style=\"text-align: right;\">            2</td><td style=\"text-align: right;\">             50</td><td>2022-04-27T00:00:00</td><td style=\"text-align: right;\">7.15892e-05</td><td style=\"text-align: right;\">         0.0012</td><td>10YE         </td><td style=\"text-align: right;\">    40</td><td style=\"text-align: right;\">        14.9349 </td><td style=\"text-align: right;\">              128</td><td style=\"text-align: right;\">        200</td><td style=\"text-align: right;\">0.0182619  </td></tr>\n",
       "<tr><td>TrainLightGCN_71f8b02b</td><td>TERMINATED</td><td>147.96.81.131:4154433</td><td style=\"text-align: right;\">           6</td><td style=\"text-align: right;\">            3</td><td style=\"text-align: right;\">            136</td><td>2022-04-27T00:00:00</td><td style=\"text-align: right;\">6.06792e-06</td><td style=\"text-align: right;\">         0.7859</td><td>60d          </td><td style=\"text-align: right;\">    40</td><td style=\"text-align: right;\">         8.79706</td><td style=\"text-align: right;\">               64</td><td style=\"text-align: right;\">        200</td><td style=\"text-align: right;\">4.50163    </td></tr>\n",
       "<tr><td>TrainLightGCN_b115afd5</td><td>TERMINATED</td><td>147.96.81.131:4154143</td><td style=\"text-align: right;\">           7</td><td style=\"text-align: right;\">            1</td><td style=\"text-align: right;\">            273</td><td>2022-04-27T00:00:00</td><td style=\"text-align: right;\">1.94139e-05</td><td style=\"text-align: right;\">         0.0073</td><td>21d          </td><td style=\"text-align: right;\">    40</td><td style=\"text-align: right;\">         7.08199</td><td style=\"text-align: right;\">               94</td><td style=\"text-align: right;\">        200</td><td style=\"text-align: right;\">0.000912132</td></tr>\n",
       "<tr><td>TrainLightGCN_c7d574d4</td><td>TERMINATED</td><td>147.96.81.131:4153695</td><td style=\"text-align: right;\">           7</td><td style=\"text-align: right;\">            3</td><td style=\"text-align: right;\">             52</td><td>2022-04-27T00:00:00</td><td style=\"text-align: right;\">8.19244e-07</td><td style=\"text-align: right;\">         0.0174</td><td>10YE         </td><td style=\"text-align: right;\">    40</td><td style=\"text-align: right;\">        15.0699 </td><td style=\"text-align: right;\">              128</td><td style=\"text-align: right;\">        200</td><td style=\"text-align: right;\">0.000365484</td></tr>\n",
       "<tr><td>TrainLightGCN_1af716a6</td><td>TERMINATED</td><td>147.96.81.131:4153995</td><td style=\"text-align: right;\">           7</td><td style=\"text-align: right;\">            2</td><td style=\"text-align: right;\">             14</td><td>2022-04-27T00:00:00</td><td style=\"text-align: right;\">1.51594e-05</td><td style=\"text-align: right;\">         0.0062</td><td>90d          </td><td style=\"text-align: right;\">    40</td><td style=\"text-align: right;\">         8.03576</td><td style=\"text-align: right;\">              128</td><td style=\"text-align: right;\">        200</td><td style=\"text-align: right;\">0.00851971 </td></tr>\n",
       "<tr><td>TrainLightGCN_229444da</td><td>TERMINATED</td><td>147.96.81.131:4153848</td><td style=\"text-align: right;\">           6</td><td style=\"text-align: right;\">            3</td><td style=\"text-align: right;\">            165</td><td>2022-04-27T00:00:00</td><td style=\"text-align: right;\">7.40642e-06</td><td style=\"text-align: right;\">         0.3853</td><td>60d          </td><td style=\"text-align: right;\">    40</td><td style=\"text-align: right;\">         8.83278</td><td style=\"text-align: right;\">               64</td><td style=\"text-align: right;\">        200</td><td style=\"text-align: right;\">0.329505   </td></tr>\n",
       "<tr><td>TrainLightGCN_bf976c56</td><td>TERMINATED</td><td>147.96.81.131:4153546</td><td style=\"text-align: right;\">           6</td><td style=\"text-align: right;\">            2</td><td style=\"text-align: right;\">            739</td><td>2022-04-27T00:00:00</td><td style=\"text-align: right;\">3.61437e-06</td><td style=\"text-align: right;\">         0.001 </td><td>21d          </td><td style=\"text-align: right;\">    40</td><td style=\"text-align: right;\">         7.69236</td><td style=\"text-align: right;\">               64</td><td style=\"text-align: right;\">        200</td><td style=\"text-align: right;\">0.00180606 </td></tr>\n",
       "<tr><td>TrainLightGCN_f593a5fa</td><td>TERMINATED</td><td>147.96.81.131:4153395</td><td style=\"text-align: right;\">           7</td><td style=\"text-align: right;\">            1</td><td style=\"text-align: right;\">            271</td><td>2022-04-27T00:00:00</td><td style=\"text-align: right;\">1.12771e-05</td><td style=\"text-align: right;\">         0.006 </td><td>90d          </td><td style=\"text-align: right;\">    40</td><td style=\"text-align: right;\">         7.26464</td><td style=\"text-align: right;\">              128</td><td style=\"text-align: right;\">        200</td><td style=\"text-align: right;\">0.000703256</td></tr>\n",
       "<tr><td>TrainLightGCN_e2a3df8f</td><td>TERMINATED</td><td>147.96.81.131:4153246</td><td style=\"text-align: right;\">           6</td><td style=\"text-align: right;\">            3</td><td style=\"text-align: right;\">            151</td><td>2022-04-27T00:00:00</td><td style=\"text-align: right;\">1.15205e-07</td><td style=\"text-align: right;\">         0.325 </td><td>60d          </td><td style=\"text-align: right;\">    40</td><td style=\"text-align: right;\">         8.56804</td><td style=\"text-align: right;\">               64</td><td style=\"text-align: right;\">        200</td><td style=\"text-align: right;\">0.00409305 </td></tr>\n",
       "<tr><td>TrainLightGCN_fe9e2c8d</td><td>TERMINATED</td><td>147.96.81.131:4153098</td><td style=\"text-align: right;\">           7</td><td style=\"text-align: right;\">            1</td><td style=\"text-align: right;\">            608</td><td>2022-04-27T00:00:00</td><td style=\"text-align: right;\">5.60342e-07</td><td style=\"text-align: right;\">         0.0152</td><td>90d          </td><td style=\"text-align: right;\">    40</td><td style=\"text-align: right;\">         7.25492</td><td style=\"text-align: right;\">              128</td><td style=\"text-align: right;\">        200</td><td style=\"text-align: right;\">5.27607e-05</td></tr>\n",
       "<tr><td>TrainLightGCN_4c6e0c7d</td><td>TERMINATED</td><td>147.96.81.131:4152950</td><td style=\"text-align: right;\">           6</td><td style=\"text-align: right;\">            3</td><td style=\"text-align: right;\">             11</td><td>2022-04-27T00:00:00</td><td style=\"text-align: right;\">3.31422e-07</td><td style=\"text-align: right;\">         0.0574</td><td>21d          </td><td style=\"text-align: right;\">    40</td><td style=\"text-align: right;\">         7.68718</td><td style=\"text-align: right;\">               64</td><td style=\"text-align: right;\">        200</td><td style=\"text-align: right;\">0.000156117</td></tr>\n",
       "<tr><td>TrainLightGCN_184a375a</td><td>TERMINATED</td><td>147.96.81.131:4152801</td><td style=\"text-align: right;\">           7</td><td style=\"text-align: right;\">            1</td><td style=\"text-align: right;\">             50</td><td>2022-04-27T00:00:00</td><td style=\"text-align: right;\">4.16879e-07</td><td style=\"text-align: right;\">         0.0286</td><td>21d          </td><td style=\"text-align: right;\">    40</td><td style=\"text-align: right;\">         6.89117</td><td style=\"text-align: right;\">               94</td><td style=\"text-align: right;\">        200</td><td style=\"text-align: right;\">6.96836e-05</td></tr>\n",
       "<tr><td>TrainLightGCN_fa32d49c</td><td>TERMINATED</td><td>147.96.81.131:4152654</td><td style=\"text-align: right;\">           6</td><td style=\"text-align: right;\">            1</td><td style=\"text-align: right;\">            161</td><td>2022-04-27T00:00:00</td><td style=\"text-align: right;\">0.00983323 </td><td style=\"text-align: right;\">         0.0043</td><td>90d          </td><td style=\"text-align: right;\">    40</td><td style=\"text-align: right;\">         8.77026</td><td style=\"text-align: right;\">               64</td><td style=\"text-align: right;\">        200</td><td style=\"text-align: right;\">0.118907   </td></tr>\n",
       "<tr><td>TrainLightGCN_29f8eb26</td><td>TERMINATED</td><td>147.96.81.131:4152506</td><td style=\"text-align: right;\">           6</td><td style=\"text-align: right;\">            1</td><td style=\"text-align: right;\">            910</td><td>2022-04-27T00:00:00</td><td style=\"text-align: right;\">2.41841e-07</td><td style=\"text-align: right;\">         0.9155</td><td>21d          </td><td style=\"text-align: right;\">    40</td><td style=\"text-align: right;\">         7.5181 </td><td style=\"text-align: right;\">               64</td><td style=\"text-align: right;\">        200</td><td style=\"text-align: right;\">0.283169   </td></tr>\n",
       "<tr><td>TrainLightGCN_01d57b4d</td><td>TERMINATED</td><td>147.96.81.131:4152358</td><td style=\"text-align: right;\">           6</td><td style=\"text-align: right;\">            1</td><td style=\"text-align: right;\">            882</td><td>2022-04-27T00:00:00</td><td style=\"text-align: right;\">1.08651e-07</td><td style=\"text-align: right;\">         0.3759</td><td>90d          </td><td style=\"text-align: right;\">    40</td><td style=\"text-align: right;\">         8.64148</td><td style=\"text-align: right;\">               64</td><td style=\"text-align: right;\">        200</td><td style=\"text-align: right;\">7.82172    </td></tr>\n",
       "<tr><td>TrainLightGCN_7e12e3ae</td><td>TERMINATED</td><td>147.96.81.131:4152200</td><td style=\"text-align: right;\">          10</td><td style=\"text-align: right;\">            1</td><td style=\"text-align: right;\">            495</td><td>2022-04-27T00:00:00</td><td style=\"text-align: right;\">1.09732e-05</td><td style=\"text-align: right;\">         0.0345</td><td>90d          </td><td style=\"text-align: right;\">    40</td><td style=\"text-align: right;\">         7.23664</td><td style=\"text-align: right;\">              157</td><td style=\"text-align: right;\">        200</td><td style=\"text-align: right;\">0.00970549 </td></tr>\n",
       "<tr><td>TrainLightGCN_038c3d5c</td><td>TERMINATED</td><td>147.96.81.131:4152051</td><td style=\"text-align: right;\">           6</td><td style=\"text-align: right;\">            1</td><td style=\"text-align: right;\">            166</td><td>2022-04-27T00:00:00</td><td style=\"text-align: right;\">1.69765e-07</td><td style=\"text-align: right;\">         0.0003</td><td>21d          </td><td style=\"text-align: right;\">    40</td><td style=\"text-align: right;\">         7.91029</td><td style=\"text-align: right;\">               64</td><td style=\"text-align: right;\">        200</td><td style=\"text-align: right;\">0.0376796  </td></tr>\n",
       "<tr><td>TrainLightGCN_9f4b3000</td><td>TERMINATED</td><td>147.96.81.131:4151911</td><td style=\"text-align: right;\">           6</td><td style=\"text-align: right;\">            1</td><td style=\"text-align: right;\">            985</td><td>2022-04-27T00:00:00</td><td style=\"text-align: right;\">9.93209e-06</td><td style=\"text-align: right;\">         0.0345</td><td>90d          </td><td style=\"text-align: right;\">    40</td><td style=\"text-align: right;\">         9.32904</td><td style=\"text-align: right;\">               64</td><td style=\"text-align: right;\">        200</td><td style=\"text-align: right;\">0.200659   </td></tr>\n",
       "<tr><td>TrainLightGCN_e0e9ef80</td><td>TERMINATED</td><td>147.96.81.131:4151762</td><td style=\"text-align: right;\">           6</td><td style=\"text-align: right;\">            1</td><td style=\"text-align: right;\">            870</td><td>2022-04-27T00:00:00</td><td style=\"text-align: right;\">1.15686e-07</td><td style=\"text-align: right;\">         0.015 </td><td>90d          </td><td style=\"text-align: right;\">    40</td><td style=\"text-align: right;\">         9.41303</td><td style=\"text-align: right;\">               64</td><td style=\"text-align: right;\">        200</td><td style=\"text-align: right;\">6.78798e-05</td></tr>\n",
       "<tr><td>TrainLightGCN_fbdce6d1</td><td>TERMINATED</td><td>147.96.81.131:4151463</td><td style=\"text-align: right;\">           7</td><td style=\"text-align: right;\">            4</td><td style=\"text-align: right;\">             97</td><td>2022-04-27T00:00:00</td><td style=\"text-align: right;\">6.09932e-05</td><td style=\"text-align: right;\">         0.0021</td><td>10YE         </td><td style=\"text-align: right;\">    40</td><td style=\"text-align: right;\">        15.4622 </td><td style=\"text-align: right;\">              128</td><td style=\"text-align: right;\">        200</td><td style=\"text-align: right;\">0.0158986  </td></tr>\n",
       "<tr><td>TrainLightGCN_d82248bd</td><td>TERMINATED</td><td>147.96.81.131:4151613</td><td style=\"text-align: right;\">           9</td><td style=\"text-align: right;\">            2</td><td style=\"text-align: right;\">              3</td><td>2022-04-27T00:00:00</td><td style=\"text-align: right;\">0.00158506 </td><td style=\"text-align: right;\">         0.0001</td><td>30d          </td><td style=\"text-align: right;\">    40</td><td style=\"text-align: right;\">         7.29265</td><td style=\"text-align: right;\">              111</td><td style=\"text-align: right;\">        200</td><td style=\"text-align: right;\">0.679564   </td></tr>\n",
       "<tr><td>TrainLightGCN_9feb7f39</td><td>TERMINATED</td><td>147.96.81.131:4151314</td><td style=\"text-align: right;\">           8</td><td style=\"text-align: right;\">            2</td><td style=\"text-align: right;\">             27</td><td>2022-04-27T00:00:00</td><td style=\"text-align: right;\">3.06006e-05</td><td style=\"text-align: right;\">         0.2056</td><td>30d          </td><td style=\"text-align: right;\">    40</td><td style=\"text-align: right;\">         7.18412</td><td style=\"text-align: right;\">              111</td><td style=\"text-align: right;\">        200</td><td style=\"text-align: right;\">0.0330218  </td></tr>\n",
       "<tr><td>TrainLightGCN_04c11c7b</td><td>TERMINATED</td><td>147.96.81.131:4151166</td><td style=\"text-align: right;\">           8</td><td style=\"text-align: right;\">            2</td><td style=\"text-align: right;\">            241</td><td>2022-04-27T00:00:00</td><td style=\"text-align: right;\">5.10482e-06</td><td style=\"text-align: right;\">         0.0017</td><td>90d          </td><td style=\"text-align: right;\">    40</td><td style=\"text-align: right;\">         7.00917</td><td style=\"text-align: right;\">              157</td><td style=\"text-align: right;\">        200</td><td style=\"text-align: right;\">0.00304939 </td></tr>\n",
       "<tr><td>TrainLightGCN_f854380d</td><td>TERMINATED</td><td>147.96.81.131:4151017</td><td style=\"text-align: right;\">           9</td><td style=\"text-align: right;\">            4</td><td style=\"text-align: right;\">              7</td><td>2022-04-27T00:00:00</td><td style=\"text-align: right;\">2.91903e-06</td><td style=\"text-align: right;\">         0.1593</td><td>21d          </td><td style=\"text-align: right;\">    40</td><td style=\"text-align: right;\">         6.92901</td><td style=\"text-align: right;\">               94</td><td style=\"text-align: right;\">        200</td><td style=\"text-align: right;\">0.000702087</td></tr>\n",
       "<tr><td>TrainLightGCN_4c774856</td><td>TERMINATED</td><td>147.96.81.131:4150868</td><td style=\"text-align: right;\">           9</td><td style=\"text-align: right;\">            3</td><td style=\"text-align: right;\">            447</td><td>2022-04-27T00:00:00</td><td style=\"text-align: right;\">0.000129301</td><td style=\"text-align: right;\">         0.0008</td><td>60d          </td><td style=\"text-align: right;\">    40</td><td style=\"text-align: right;\">         7.10286</td><td style=\"text-align: right;\">              143</td><td style=\"text-align: right;\">        200</td><td style=\"text-align: right;\">0.0201511  </td></tr>\n",
       "<tr><td>TrainLightGCN_6fb1309b</td><td>TERMINATED</td><td>147.96.81.131:4150721</td><td style=\"text-align: right;\">           9</td><td style=\"text-align: right;\">            3</td><td style=\"text-align: right;\">             86</td><td>2022-04-27T00:00:00</td><td style=\"text-align: right;\">0.000166749</td><td style=\"text-align: right;\">         0.0002</td><td>30d          </td><td style=\"text-align: right;\">    40</td><td style=\"text-align: right;\">         7.02867</td><td style=\"text-align: right;\">              111</td><td style=\"text-align: right;\">        200</td><td style=\"text-align: right;\">0.270539   </td></tr>\n",
       "<tr><td>TrainLightGCN_9960422b</td><td>TERMINATED</td><td>147.96.81.131:4150574</td><td style=\"text-align: right;\">          10</td><td style=\"text-align: right;\">            2</td><td style=\"text-align: right;\">            364</td><td>2022-04-27T00:00:00</td><td style=\"text-align: right;\">2.08113e-06</td><td style=\"text-align: right;\">         0.0002</td><td>90d          </td><td style=\"text-align: right;\">    40</td><td style=\"text-align: right;\">         7.06247</td><td style=\"text-align: right;\">              157</td><td style=\"text-align: right;\">        200</td><td style=\"text-align: right;\">0.0763068  </td></tr>\n",
       "<tr><td>TrainLightGCN_104bdf2a</td><td>TERMINATED</td><td>147.96.81.131:4150416</td><td style=\"text-align: right;\">           8</td><td style=\"text-align: right;\">            2</td><td style=\"text-align: right;\">             96</td><td>2022-04-27T00:00:00</td><td style=\"text-align: right;\">4.92424e-05</td><td style=\"text-align: right;\">         0.0784</td><td>21d          </td><td style=\"text-align: right;\">    40</td><td style=\"text-align: right;\">         6.84277</td><td style=\"text-align: right;\">               94</td><td style=\"text-align: right;\">        200</td><td style=\"text-align: right;\">0.0247371  </td></tr>\n",
       "<tr><td>TrainLightGCN_49fa0653</td><td>TERMINATED</td><td>147.96.81.131:4150266</td><td style=\"text-align: right;\">           9</td><td style=\"text-align: right;\">            2</td><td style=\"text-align: right;\">             26</td><td>2022-04-27T00:00:00</td><td style=\"text-align: right;\">1.42721e-06</td><td style=\"text-align: right;\">         0.6694</td><td>30d          </td><td style=\"text-align: right;\">    40</td><td style=\"text-align: right;\">         7.03781</td><td style=\"text-align: right;\">              111</td><td style=\"text-align: right;\">        200</td><td style=\"text-align: right;\">0.020844   </td></tr>\n",
       "<tr><td>TrainLightGCN_8b98b233</td><td>TERMINATED</td><td>147.96.81.131:4150124</td><td style=\"text-align: right;\">           8</td><td style=\"text-align: right;\">            4</td><td style=\"text-align: right;\">            219</td><td>2022-04-27T00:00:00</td><td style=\"text-align: right;\">0.000261231</td><td style=\"text-align: right;\">         0.095 </td><td>60d          </td><td style=\"text-align: right;\">    40</td><td style=\"text-align: right;\">         7.48487</td><td style=\"text-align: right;\">              143</td><td style=\"text-align: right;\">        200</td><td style=\"text-align: right;\">0.0220456  </td></tr>\n",
       "<tr><td>TrainLightGCN_692365e1</td><td>TERMINATED</td><td>147.96.81.131:4149664</td><td style=\"text-align: right;\">           7</td><td style=\"text-align: right;\">            2</td><td style=\"text-align: right;\">             74</td><td>2022-04-27T00:00:00</td><td style=\"text-align: right;\">8.63799e-07</td><td style=\"text-align: right;\">         0.1736</td><td>10YE         </td><td style=\"text-align: right;\">    40</td><td style=\"text-align: right;\">        14.8123 </td><td style=\"text-align: right;\">              128</td><td style=\"text-align: right;\">        200</td><td style=\"text-align: right;\">0.162087   </td></tr>\n",
       "<tr><td>TrainLightGCN_37fdd1ce</td><td>TERMINATED</td><td>147.96.81.131:4149971</td><td style=\"text-align: right;\">          10</td><td style=\"text-align: right;\">            1</td><td style=\"text-align: right;\">              1</td><td>2022-04-27T00:00:00</td><td style=\"text-align: right;\">0.000699071</td><td style=\"text-align: right;\">         0.0029</td><td>21d          </td><td style=\"text-align: right;\">    40</td><td style=\"text-align: right;\">         7.24594</td><td style=\"text-align: right;\">               94</td><td style=\"text-align: right;\">        200</td><td style=\"text-align: right;\">0.442708   </td></tr>\n",
       "<tr><td>TrainLightGCN_baee089f</td><td>TERMINATED</td><td>147.96.81.131:4149820</td><td style=\"text-align: right;\">          10</td><td style=\"text-align: right;\">            3</td><td style=\"text-align: right;\">            332</td><td>2022-04-27T00:00:00</td><td style=\"text-align: right;\">0.00221159 </td><td style=\"text-align: right;\">         0.4863</td><td>10YE         </td><td style=\"text-align: right;\">    40</td><td style=\"text-align: right;\">         9.353  </td><td style=\"text-align: right;\">              583</td><td style=\"text-align: right;\">        200</td><td style=\"text-align: right;\">0.116788   </td></tr>\n",
       "<tr><td>TrainLightGCN_cf0384a1</td><td>TERMINATED</td><td>147.96.81.131:4149523</td><td style=\"text-align: right;\">           6</td><td style=\"text-align: right;\">            2</td><td style=\"text-align: right;\">            217</td><td>2022-04-27T00:00:00</td><td style=\"text-align: right;\">2.53991e-06</td><td style=\"text-align: right;\">         0.4785</td><td>21d          </td><td style=\"text-align: right;\">    40</td><td style=\"text-align: right;\">         7.69579</td><td style=\"text-align: right;\">               64</td><td style=\"text-align: right;\">        200</td><td style=\"text-align: right;\">0.167973   </td></tr>\n",
       "<tr><td>TrainLightGCN_b4c90afe</td><td>TERMINATED</td><td>147.96.81.131:4149373</td><td style=\"text-align: right;\">           7</td><td style=\"text-align: right;\">            2</td><td style=\"text-align: right;\">             34</td><td>2022-04-27T00:00:00</td><td style=\"text-align: right;\">0.0007608  </td><td style=\"text-align: right;\">         0.0091</td><td>60d          </td><td style=\"text-align: right;\">    40</td><td style=\"text-align: right;\">         7.20846</td><td style=\"text-align: right;\">              128</td><td style=\"text-align: right;\">        200</td><td style=\"text-align: right;\">0.0248688  </td></tr>\n",
       "<tr><td>TrainLightGCN_e9d153bd</td><td>TERMINATED</td><td>147.96.81.131:4149083</td><td style=\"text-align: right;\">           8</td><td style=\"text-align: right;\">            4</td><td style=\"text-align: right;\">             32</td><td>2022-04-27T00:00:00</td><td style=\"text-align: right;\">1.24202e-06</td><td style=\"text-align: right;\">         0.015 </td><td>10YE         </td><td style=\"text-align: right;\">    40</td><td style=\"text-align: right;\">        11.1332 </td><td style=\"text-align: right;\">              256</td><td style=\"text-align: right;\">        200</td><td style=\"text-align: right;\">0.00237704 </td></tr>\n",
       "<tr><td>TrainLightGCN_1a8e44a0</td><td>TERMINATED</td><td>147.96.81.131:4149223</td><td style=\"text-align: right;\">           9</td><td style=\"text-align: right;\">            2</td><td style=\"text-align: right;\">             86</td><td>2022-04-27T00:00:00</td><td style=\"text-align: right;\">0.00134325 </td><td style=\"text-align: right;\">         0.0006</td><td>21d          </td><td style=\"text-align: right;\">    40</td><td style=\"text-align: right;\">         7.07308</td><td style=\"text-align: right;\">               94</td><td style=\"text-align: right;\">        200</td><td style=\"text-align: right;\">0.080094   </td></tr>\n",
       "<tr><td>TrainLightGCN_403a6123</td><td>TERMINATED</td><td>147.96.81.131:4148941</td><td style=\"text-align: right;\">           9</td><td style=\"text-align: right;\">            3</td><td style=\"text-align: right;\">            665</td><td>2022-04-27T00:00:00</td><td style=\"text-align: right;\">2.74456e-05</td><td style=\"text-align: right;\">         0.0092</td><td>90d          </td><td style=\"text-align: right;\">    40</td><td style=\"text-align: right;\">         7.04241</td><td style=\"text-align: right;\">              157</td><td style=\"text-align: right;\">        200</td><td style=\"text-align: right;\">0.00241005 </td></tr>\n",
       "<tr><td>TrainLightGCN_29cfa731</td><td>TERMINATED</td><td>147.96.81.131:4148814</td><td style=\"text-align: right;\">           7</td><td style=\"text-align: right;\">            4</td><td style=\"text-align: right;\">             13</td><td>2022-04-27T00:00:00</td><td style=\"text-align: right;\">5.37011e-07</td><td style=\"text-align: right;\">         0.0001</td><td>60d          </td><td style=\"text-align: right;\">    40</td><td style=\"text-align: right;\">         6.98898</td><td style=\"text-align: right;\">              128</td><td style=\"text-align: right;\">        200</td><td style=\"text-align: right;\">0.663052   </td></tr>\n",
       "</tbody>\n",
       "</table>\n",
       "  </div>\n",
       "</div>\n",
       "<style>\n",
       ".tuneStatus {\n",
       "  color: var(--jp-ui-font-color1);\n",
       "}\n",
       ".tuneStatus .systemInfo {\n",
       "  display: flex;\n",
       "  flex-direction: column;\n",
       "}\n",
       ".tuneStatus td {\n",
       "  white-space: nowrap;\n",
       "}\n",
       ".tuneStatus .trialStatus {\n",
       "  display: flex;\n",
       "  flex-direction: column;\n",
       "}\n",
       ".tuneStatus h3 {\n",
       "  font-weight: bold;\n",
       "}\n",
       ".tuneStatus .hDivider {\n",
       "  border-bottom-width: var(--jp-border-width);\n",
       "  border-bottom-color: var(--jp-border-color0);\n",
       "  border-bottom-style: solid;\n",
       "}\n",
       ".tuneStatus .vDivider {\n",
       "  border-left-width: var(--jp-border-width);\n",
       "  border-left-color: var(--jp-border-color0);\n",
       "  border-left-style: solid;\n",
       "  margin: 0.5em 1em 0.5em 1em;\n",
       "}\n",
       "</style>\n"
      ],
      "text/plain": [
       "<IPython.core.display.HTML object>"
      ]
     },
     "metadata": {},
     "output_type": "display_data"
    },
    {
     "name": "stderr",
     "output_type": "stream",
     "text": [
      "2024-09-06 09:20:19,085\tINFO tune_controller.py:444 -- Restoring the run from the latest experiment state file: experiment_state-2024-09-06_09-14-31.json\n"
     ]
    },
    {
     "name": "stderr",
     "output_type": "stream",
     "text": [
      "2024-09-06 09:20:19,601\tINFO tune.py:1009 -- Wrote the latest version of all result files and experiment state to '/home/daviddavo/ray_results3.11/SharkDAO/LightGCN_3d_normalize_map@10_fold=2022-04-27T00:00:00_2024-09-06T09:14:31.598265' in 0.3605s.\n"
     ]
    },
    {
     "name": "stderr",
     "output_type": "stream",
     "text": [
      "2024-09-06 09:20:19,614\tINFO tune.py:1041 -- Total run time: 0.54 seconds (0.00 seconds for the tuning loop).\n"
     ]
    },
    {
     "name": "stdout",
     "output_type": "stream",
     "text": [
      "Finished training for fold 2022-04-27T00:00:00\n"
     ]
    }
   ],
   "source": [
    "import logging\n",
    "import requests\n",
    "\n",
    "def findConfig(rg):\n",
    "    for r in rg:\n",
    "        if r.config:\n",
    "            lbrc = last_best_result.config\n",
    "            if all((r.config[k] == v for k, v in last_best_result.config.items() if k != 'fold')):\n",
    "                return r\n",
    "            elif all((r.config[k] == v for k, v in last_best_result.config.items() if k != 'fold' and k != 'window_size')):\n",
    "                print(\"Possible coincidence:\", r.config, file=sys.stderr)\n",
    "\n",
    "    return None\n",
    "\n",
    "tuners = []\n",
    "results = []\n",
    "last_best_result = None\n",
    "pbar.reset()\n",
    "\n",
    "last_best_fold = None\n",
    "requests.post(\"https://ntfy.sh/grasia_notebooks\", data=f\"Start running microsoft_tuning for {ORG_NAME}\")\n",
    "for i, (prev_f_idx, f_idx) in enumerate(zip(it.chain([None], use_folds_idx), use_folds_idx)):\n",
    "    try:\n",
    "        with out:\n",
    "            best_prev_config = None\n",
    "            if last_best_result is not None:\n",
    "                best_prev_config = last_best_result.config.copy()\n",
    "                assert best_prev_config['fold'] == prev_f_idx\n",
    "                best_prev_config['fold'] = f_idx\n",
    "                print(f\"Also evaluating best_prev_config ({OPTIM_METRIC}={last_best_result.metrics[OPTIM_METRIC]}): {best_prev_config}\")\n",
    "                best_prev_config = [best_prev_config]\n",
    "        \n",
    "        t = getTunerOnFold(f_idx, best_prev_config)\n",
    "        tuners.append(t)\n",
    "    \n",
    "        rg = t.fit()\n",
    "        \n",
    "        # FIXME: load results from disk until ray-project/ray#47358 is solved\n",
    "        # https://github.com/ray-project/ray/issues/47358\n",
    "        t = getTunerOnFold(f_idx, best_prev_config)\n",
    "        tuners[-1] = t\n",
    "        rg = t.fit()\n",
    "    \n",
    "        assert rg.num_errors == 0, f\"There are {rg.num_errors} errors\"\n",
    "        assert rg.num_terminated >= NUM_SAMPLES, f'Some samples are not terminated ({rg.num_terminated} != {NUM_SAMPLES})'\n",
    "        assert len(rg.get_dataframe()) >= NUM_SAMPLES\n",
    "        results.append(rg)\n",
    "    \n",
    "        # Assert that the prev config has been tried\n",
    "        if last_best_result is not None:\n",
    "            # if not any( \n",
    "            #     all((r.config[k] == v for k, v in last_best_result.config.items() if k != 'fold'))\n",
    "            #     for r in rg if r.config\n",
    "            # ):\n",
    "            if not findConfig(rg):\n",
    "                print(\"Best config:\", last_best_result.config)\n",
    "                assert False, f\"The best config from previous fold has not been tested in fold {f_idx}\"    \n",
    "            else:\n",
    "                logging.info(f'Fold {f_idx}. Best prev result was {last_best_result.path} and config has been found {findConfig(rg).path}')\n",
    "        \n",
    "        last_best_result = rg.get_best_result()\n",
    "        pbar.update()\n",
    "    \n",
    "        print(f\"Finished training for fold {f_idx}\")\n",
    "        requests.post(\"https://ntfy.sh/grasia_notebooks\", data=f\"Finished running fold {i} for {ORG_NAME}\")\n",
    "    except Exception as e:\n",
    "        requests.post(\"https://ntfy.sh/grasia_notebooks\", data=f\"Error on fold {i} for {ORG_NAME}: {repr(e)}\")\n",
    "        raise\n",
    "\n",
    "pbar.close()"
   ]
  },
  {
   "cell_type": "code",
   "execution_count": 24,
   "id": "e00f3d4b",
   "metadata": {
    "editable": true,
    "execution": {
     "iopub.execute_input": "2024-09-06T09:20:20.122190Z",
     "iopub.status.busy": "2024-09-06T09:20:20.122059Z",
     "iopub.status.idle": "2024-09-06T09:20:20.476153Z",
     "shell.execute_reply": "2024-09-06T09:20:20.474873Z"
    },
    "papermill": {
     "duration": 0.364955,
     "end_time": "2024-09-06T09:20:20.479494",
     "exception": false,
     "start_time": "2024-09-06T09:20:20.114539",
     "status": "completed"
    },
    "slideshow": {
     "slide_type": ""
    },
    "tags": []
   },
   "outputs": [
    {
     "name": "stdout",
     "output_type": "stream",
     "text": [
      "Finished!\n"
     ]
    }
   ],
   "source": [
    "requests.post(\"https://ntfy.sh/grasia_notebooks\", data=f\"Finished running everything for {ORG_NAME}\")\n",
    "print(\"Finished!\")"
   ]
  }
 ],
 "metadata": {
  "kernelspec": {
   "display_name": "Python 3 (ipykernel)",
   "language": "python",
   "name": "python3"
  },
  "language_info": {
   "codemirror_mode": {
    "name": "ipython",
    "version": 3
   },
   "file_extension": ".py",
   "mimetype": "text/x-python",
   "name": "python",
   "nbconvert_exporter": "python",
   "pygments_lexer": "ipython3",
   "version": "3.11.6"
  },
  "papermill": {
   "default_parameters": {},
   "duration": 3505.62563,
   "end_time": "2024-09-06T09:20:25.616538",
   "environment_variables": {},
   "exception": null,
   "input_path": "20_microsoft_tuning.ipynb",
   "output_path": "../nbout/SharkDAO/20_microsoft_tuning.ipynb",
   "parameters": {
    "EXECUTION_ID": "2024-09-04T10:00",
    "LAST_FOLDS": 10,
    "LAST_FOLD_DATE_STR": "2022-04-27",
    "ORG_NAME": "SharkDAO",
    "SPLITS_FREQ": "3d",
    "SPLITS_NORMALIZE": true
   },
   "start_time": "2024-09-06T08:21:59.990908",
   "version": "2.6.0"
  },
  "widgets": {
   "application/vnd.jupyter.widget-state+json": {
    "state": {
     "1782b6ee913840eb924bd4eadfd4e78b": {
      "model_module": "@jupyter-widgets/output",
      "model_module_version": "1.0.0",
      "model_name": "OutputModel",
      "state": {
       "_dom_classes": [],
       "_model_module": "@jupyter-widgets/output",
       "_model_module_version": "1.0.0",
       "_model_name": "OutputModel",
       "_view_count": null,
       "_view_module": "@jupyter-widgets/output",
       "_view_module_version": "1.0.0",
       "_view_name": "OutputView",
       "layout": "IPY_MODEL_887e964aabbf403db8211d3a231e1157",
       "msg_id": "",
       "outputs": [
        {
         "name": "stdout",
         "output_type": "stream",
         "text": "In this cell important output from the next cell will be shown\nAlso evaluating best_prev_config (map@10=1.0): {'batch_size': 9, 'embedding_dim': 221, 'conv_layers': 3, 'learning_rate': 0.0019, 'l2': 8.484430751193447e-05, 'window_size': '30d', 'fold': '2022-04-03T00:00:00'}\nAlso evaluating best_prev_config (map@10=0.8305555555555555): {'batch_size': 8, 'embedding_dim': 1, 'conv_layers': 3, 'learning_rate': 0.0497, 'l2': 2.0547358636780628e-06, 'window_size': '30d', 'fold': '2022-04-06T00:00:00'}\nAlso evaluating best_prev_config (map@10=0.9444444444444444): {'batch_size': 10, 'embedding_dim': 896, 'conv_layers': 3, 'learning_rate': 0.0274, 'l2': 2.117499226873604e-07, 'window_size': '10YE', 'fold': '2022-04-09T00:00:00'}\nAlso evaluating best_prev_config (map@10=0.8633333333333333): {'batch_size': 10, 'embedding_dim': 464, 'conv_layers': 2, 'learning_rate': 0.00030000000000000003, 'l2': 1.0963658708619861e-07, 'window_size': '21d', 'fold': '2022-04-12T00:00:00'}\nAlso evaluating best_prev_config (map@10=0.7061403508771931): {'batch_size': 8, 'embedding_dim': 1, 'conv_layers': 1, 'learning_rate': 0.0067, 'l2': 0.0003315955677679541, 'window_size': '60d', 'fold': '2022-04-15T00:00:00'}\nAlso evaluating best_prev_config (map@10=0.8268162393162393): {'batch_size': 7, 'embedding_dim': 1, 'conv_layers': 1, 'learning_rate': 0.0011, 'l2': 1.0757817017662378e-06, 'window_size': '21d', 'fold': '2022-04-18T00:00:00'}\nAlso evaluating best_prev_config (map@10=0.8888888888888888): {'batch_size': 9, 'embedding_dim': 1, 'conv_layers': 4, 'learning_rate': 0.030000000000000002, 'l2': 0.0015336015851340236, 'window_size': '30d', 'fold': '2022-04-21T00:00:00'}\nAlso evaluating best_prev_config (map@10=0.8500000000000001): {'batch_size': 10, 'embedding_dim': 1, 'conv_layers': 1, 'learning_rate': 0.0029000000000000002, 'l2': 0.0006990705221345083, 'window_size': '21d', 'fold': '2022-04-24T00:00:00'}\nAlso evaluating best_prev_config (map@10=0.6591175359032503): {'batch_size': 7, 'embedding_dim': 13, 'conv_layers': 4, 'learning_rate': 0.0001, 'l2': 5.370110916904851e-07, 'window_size': '60d', 'fold': '2022-04-27T00:00:00'}\n"
        }
       ],
       "tabbable": null,
       "tooltip": null
      }
     },
     "57d01be72d7d44379d1bdf882829a43e": {
      "model_module": "@jupyter-widgets/controls",
      "model_module_version": "2.0.0",
      "model_name": "HTMLModel",
      "state": {
       "_dom_classes": [],
       "_model_module": "@jupyter-widgets/controls",
       "_model_module_version": "2.0.0",
       "_model_name": "HTMLModel",
       "_view_count": null,
       "_view_module": "@jupyter-widgets/controls",
       "_view_module_version": "2.0.0",
       "_view_name": "HTMLView",
       "description": "",
       "description_allow_html": false,
       "layout": "IPY_MODEL_d6ce330303a9405a914fcc43013a719a",
       "placeholder": "​",
       "style": "IPY_MODEL_a26e88295f2b4c4699d473991dd814fd",
       "tabbable": null,
       "tooltip": null,
       "value": " 10/10 [58:15&lt;00:00, 349.04s/it]"
      }
     },
     "5ff3287eaafc440d8a1d87ea05be1d94": {
      "model_module": "@jupyter-widgets/base",
      "model_module_version": "2.0.0",
      "model_name": "LayoutModel",
      "state": {
       "_model_module": "@jupyter-widgets/base",
       "_model_module_version": "2.0.0",
       "_model_name": "LayoutModel",
       "_view_count": null,
       "_view_module": "@jupyter-widgets/base",
       "_view_module_version": "2.0.0",
       "_view_name": "LayoutView",
       "align_content": null,
       "align_items": null,
       "align_self": null,
       "border_bottom": null,
       "border_left": null,
       "border_right": null,
       "border_top": null,
       "bottom": null,
       "display": null,
       "flex": null,
       "flex_flow": null,
       "grid_area": null,
       "grid_auto_columns": null,
       "grid_auto_flow": null,
       "grid_auto_rows": null,
       "grid_column": null,
       "grid_gap": null,
       "grid_row": null,
       "grid_template_areas": null,
       "grid_template_columns": null,
       "grid_template_rows": null,
       "height": null,
       "justify_content": null,
       "justify_items": null,
       "left": null,
       "margin": null,
       "max_height": null,
       "max_width": null,
       "min_height": null,
       "min_width": null,
       "object_fit": null,
       "object_position": null,
       "order": null,
       "overflow": null,
       "padding": null,
       "right": null,
       "top": null,
       "visibility": null,
       "width": null
      }
     },
     "602972d4143349e2bf8bd141a04736ab": {
      "model_module": "@jupyter-widgets/base",
      "model_module_version": "2.0.0",
      "model_name": "LayoutModel",
      "state": {
       "_model_module": "@jupyter-widgets/base",
       "_model_module_version": "2.0.0",
       "_model_name": "LayoutModel",
       "_view_count": null,
       "_view_module": "@jupyter-widgets/base",
       "_view_module_version": "2.0.0",
       "_view_name": "LayoutView",
       "align_content": null,
       "align_items": null,
       "align_self": null,
       "border_bottom": null,
       "border_left": null,
       "border_right": null,
       "border_top": null,
       "bottom": null,
       "display": null,
       "flex": null,
       "flex_flow": null,
       "grid_area": null,
       "grid_auto_columns": null,
       "grid_auto_flow": null,
       "grid_auto_rows": null,
       "grid_column": null,
       "grid_gap": null,
       "grid_row": null,
       "grid_template_areas": null,
       "grid_template_columns": null,
       "grid_template_rows": null,
       "height": null,
       "justify_content": null,
       "justify_items": null,
       "left": null,
       "margin": null,
       "max_height": null,
       "max_width": null,
       "min_height": null,
       "min_width": null,
       "object_fit": null,
       "object_position": null,
       "order": null,
       "overflow": null,
       "padding": null,
       "right": null,
       "top": null,
       "visibility": null,
       "width": null
      }
     },
     "60297cbd11104a179c3edc3e252cc6ac": {
      "model_module": "@jupyter-widgets/controls",
      "model_module_version": "2.0.0",
      "model_name": "FloatProgressModel",
      "state": {
       "_dom_classes": [],
       "_model_module": "@jupyter-widgets/controls",
       "_model_module_version": "2.0.0",
       "_model_name": "FloatProgressModel",
       "_view_count": null,
       "_view_module": "@jupyter-widgets/controls",
       "_view_module_version": "2.0.0",
       "_view_name": "ProgressView",
       "bar_style": "success",
       "description": "",
       "description_allow_html": false,
       "layout": "IPY_MODEL_b5499d7c1fce468aa7563b77268bc470",
       "max": 10.0,
       "min": 0.0,
       "orientation": "horizontal",
       "style": "IPY_MODEL_deecc68e84e2461da1f493b34195742b",
       "tabbable": null,
       "tooltip": null,
       "value": 10.0
      }
     },
     "887e964aabbf403db8211d3a231e1157": {
      "model_module": "@jupyter-widgets/base",
      "model_module_version": "2.0.0",
      "model_name": "LayoutModel",
      "state": {
       "_model_module": "@jupyter-widgets/base",
       "_model_module_version": "2.0.0",
       "_model_name": "LayoutModel",
       "_view_count": null,
       "_view_module": "@jupyter-widgets/base",
       "_view_module_version": "2.0.0",
       "_view_name": "LayoutView",
       "align_content": null,
       "align_items": null,
       "align_self": null,
       "border_bottom": "1px solid black",
       "border_left": "1px solid black",
       "border_right": "1px solid black",
       "border_top": "1px solid black",
       "bottom": null,
       "display": null,
       "flex": null,
       "flex_flow": null,
       "grid_area": null,
       "grid_auto_columns": null,
       "grid_auto_flow": null,
       "grid_auto_rows": null,
       "grid_column": null,
       "grid_gap": null,
       "grid_row": null,
       "grid_template_areas": null,
       "grid_template_columns": null,
       "grid_template_rows": null,
       "height": null,
       "justify_content": null,
       "justify_items": null,
       "left": null,
       "margin": null,
       "max_height": null,
       "max_width": null,
       "min_height": null,
       "min_width": null,
       "object_fit": null,
       "object_position": null,
       "order": null,
       "overflow": null,
       "padding": null,
       "right": null,
       "top": null,
       "visibility": null,
       "width": null
      }
     },
     "a26e88295f2b4c4699d473991dd814fd": {
      "model_module": "@jupyter-widgets/controls",
      "model_module_version": "2.0.0",
      "model_name": "HTMLStyleModel",
      "state": {
       "_model_module": "@jupyter-widgets/controls",
       "_model_module_version": "2.0.0",
       "_model_name": "HTMLStyleModel",
       "_view_count": null,
       "_view_module": "@jupyter-widgets/base",
       "_view_module_version": "2.0.0",
       "_view_name": "StyleView",
       "background": null,
       "description_width": "",
       "font_size": null,
       "text_color": null
      }
     },
     "b2c950b2a27e4880b43ebdc49d84eeec": {
      "model_module": "@jupyter-widgets/controls",
      "model_module_version": "2.0.0",
      "model_name": "HTMLStyleModel",
      "state": {
       "_model_module": "@jupyter-widgets/controls",
       "_model_module_version": "2.0.0",
       "_model_name": "HTMLStyleModel",
       "_view_count": null,
       "_view_module": "@jupyter-widgets/base",
       "_view_module_version": "2.0.0",
       "_view_name": "StyleView",
       "background": null,
       "description_width": "",
       "font_size": null,
       "text_color": null
      }
     },
     "b5499d7c1fce468aa7563b77268bc470": {
      "model_module": "@jupyter-widgets/base",
      "model_module_version": "2.0.0",
      "model_name": "LayoutModel",
      "state": {
       "_model_module": "@jupyter-widgets/base",
       "_model_module_version": "2.0.0",
       "_model_name": "LayoutModel",
       "_view_count": null,
       "_view_module": "@jupyter-widgets/base",
       "_view_module_version": "2.0.0",
       "_view_name": "LayoutView",
       "align_content": null,
       "align_items": null,
       "align_self": null,
       "border_bottom": null,
       "border_left": null,
       "border_right": null,
       "border_top": null,
       "bottom": null,
       "display": null,
       "flex": null,
       "flex_flow": null,
       "grid_area": null,
       "grid_auto_columns": null,
       "grid_auto_flow": null,
       "grid_auto_rows": null,
       "grid_column": null,
       "grid_gap": null,
       "grid_row": null,
       "grid_template_areas": null,
       "grid_template_columns": null,
       "grid_template_rows": null,
       "height": null,
       "justify_content": null,
       "justify_items": null,
       "left": null,
       "margin": null,
       "max_height": null,
       "max_width": null,
       "min_height": null,
       "min_width": null,
       "object_fit": null,
       "object_position": null,
       "order": null,
       "overflow": null,
       "padding": null,
       "right": null,
       "top": null,
       "visibility": null,
       "width": null
      }
     },
     "d26a3ff598f34d6e91a0883977accff0": {
      "model_module": "@jupyter-widgets/controls",
      "model_module_version": "2.0.0",
      "model_name": "HTMLModel",
      "state": {
       "_dom_classes": [],
       "_model_module": "@jupyter-widgets/controls",
       "_model_module_version": "2.0.0",
       "_model_name": "HTMLModel",
       "_view_count": null,
       "_view_module": "@jupyter-widgets/controls",
       "_view_module_version": "2.0.0",
       "_view_name": "HTMLView",
       "description": "",
       "description_allow_html": false,
       "layout": "IPY_MODEL_5ff3287eaafc440d8a1d87ea05be1d94",
       "placeholder": "​",
       "style": "IPY_MODEL_b2c950b2a27e4880b43ebdc49d84eeec",
       "tabbable": null,
       "tooltip": null,
       "value": "fold: 100%"
      }
     },
     "d6ce330303a9405a914fcc43013a719a": {
      "model_module": "@jupyter-widgets/base",
      "model_module_version": "2.0.0",
      "model_name": "LayoutModel",
      "state": {
       "_model_module": "@jupyter-widgets/base",
       "_model_module_version": "2.0.0",
       "_model_name": "LayoutModel",
       "_view_count": null,
       "_view_module": "@jupyter-widgets/base",
       "_view_module_version": "2.0.0",
       "_view_name": "LayoutView",
       "align_content": null,
       "align_items": null,
       "align_self": null,
       "border_bottom": null,
       "border_left": null,
       "border_right": null,
       "border_top": null,
       "bottom": null,
       "display": null,
       "flex": null,
       "flex_flow": null,
       "grid_area": null,
       "grid_auto_columns": null,
       "grid_auto_flow": null,
       "grid_auto_rows": null,
       "grid_column": null,
       "grid_gap": null,
       "grid_row": null,
       "grid_template_areas": null,
       "grid_template_columns": null,
       "grid_template_rows": null,
       "height": null,
       "justify_content": null,
       "justify_items": null,
       "left": null,
       "margin": null,
       "max_height": null,
       "max_width": null,
       "min_height": null,
       "min_width": null,
       "object_fit": null,
       "object_position": null,
       "order": null,
       "overflow": null,
       "padding": null,
       "right": null,
       "top": null,
       "visibility": null,
       "width": null
      }
     },
     "deecc68e84e2461da1f493b34195742b": {
      "model_module": "@jupyter-widgets/controls",
      "model_module_version": "2.0.0",
      "model_name": "ProgressStyleModel",
      "state": {
       "_model_module": "@jupyter-widgets/controls",
       "_model_module_version": "2.0.0",
       "_model_name": "ProgressStyleModel",
       "_view_count": null,
       "_view_module": "@jupyter-widgets/base",
       "_view_module_version": "2.0.0",
       "_view_name": "StyleView",
       "bar_color": null,
       "description_width": ""
      }
     },
     "f4fc9b7dd668441392802b35df6baf41": {
      "model_module": "@jupyter-widgets/controls",
      "model_module_version": "2.0.0",
      "model_name": "HBoxModel",
      "state": {
       "_dom_classes": [],
       "_model_module": "@jupyter-widgets/controls",
       "_model_module_version": "2.0.0",
       "_model_name": "HBoxModel",
       "_view_count": null,
       "_view_module": "@jupyter-widgets/controls",
       "_view_module_version": "2.0.0",
       "_view_name": "HBoxView",
       "box_style": "",
       "children": [
        "IPY_MODEL_d26a3ff598f34d6e91a0883977accff0",
        "IPY_MODEL_60297cbd11104a179c3edc3e252cc6ac",
        "IPY_MODEL_57d01be72d7d44379d1bdf882829a43e"
       ],
       "layout": "IPY_MODEL_602972d4143349e2bf8bd141a04736ab",
       "tabbable": null,
       "tooltip": null
      }
     }
    },
    "version_major": 2,
    "version_minor": 0
   }
  }
 },
 "nbformat": 4,
 "nbformat_minor": 5
}