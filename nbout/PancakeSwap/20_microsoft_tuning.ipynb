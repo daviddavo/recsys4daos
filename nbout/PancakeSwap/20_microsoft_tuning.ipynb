{
 "cells": [
  {
   "cell_type": "code",
   "execution_count": 1,
   "id": "d9599525",
   "metadata": {
    "editable": true,
    "execution": {
     "iopub.execute_input": "2024-09-05T08:55:01.253866Z",
     "iopub.status.busy": "2024-09-05T08:55:01.253361Z",
     "iopub.status.idle": "2024-09-05T08:55:04.143962Z",
     "shell.execute_reply": "2024-09-05T08:55:04.143714Z"
    },
    "papermill": {
     "duration": 2.899855,
     "end_time": "2024-09-05T08:55:04.144815",
     "exception": false,
     "start_time": "2024-09-05T08:55:01.244960",
     "status": "completed"
    },
    "slideshow": {
     "slide_type": ""
    },
    "tags": []
   },
   "outputs": [
    {
     "name": "stderr",
     "output_type": "stream",
     "text": [
      "/tmp/ipykernel_3805857/1371776918.py:11: TqdmExperimentalWarning: Using `tqdm.autonotebook.tqdm` in notebook mode. Use `tqdm.tqdm` instead to force console mode (e.g. in jupyter console)\n",
      "  from tqdm.autonotebook import tqdm\n"
     ]
    },
    {
     "name": "stdout",
     "output_type": "stream",
     "text": [
      "Ignoring warnings\n",
      "3.11.6 (main, Jun 24 2024, 07:45:26) [GCC 11.4.0]\n",
      "recommenders: 1.2.0\n",
      "ray: 2.30.0\n",
      "tensorflow: 2.16.1\n"
     ]
    }
   ],
   "source": [
    "from typing import List, Dict, Any\n",
    "\n",
    "from pathlib import Path\n",
    "import os, sys\n",
    "import time\n",
    "import datetime as dt\n",
    "import itertools as it\n",
    "\n",
    "import numpy as np\n",
    "import pandas as pd\n",
    "from tqdm.autonotebook import tqdm\n",
    "import ray\n",
    "from ray import train, tune\n",
    "import ipywidgets as widgets\n",
    "\n",
    "from recsys4daos.model_selection import cvtt_open\n",
    "from recsys4daos.datasets import to_microsoft, filter_window_size\n",
    "from recsys4daos.models import LightGCNCustom\n",
    "from recsys4daos.utils import Timer\n",
    "import recsys4daos.utils.notebooks as nbu\n",
    "\n",
    "import recommenders\n",
    "if recommenders.__version__ == '1.2.0':\n",
    "    print(\"Ignoring warnings\")\n",
    "    import warnings\n",
    "    warnings.simplefilter(action='ignore', category=FutureWarning)\n",
    "\n",
    "import paths\n",
    "\n",
    "nbu.print_versions('ray', 'tensorflow')\n",
    "\n",
    "%load_ext autoreload\n",
    "%autoreload 2"
   ]
  },
  {
   "cell_type": "code",
   "execution_count": 2,
   "id": "3a0a5693",
   "metadata": {
    "editable": true,
    "execution": {
     "iopub.execute_input": "2024-09-05T08:55:04.151228Z",
     "iopub.status.busy": "2024-09-05T08:55:04.150961Z",
     "iopub.status.idle": "2024-09-05T08:55:04.172798Z",
     "shell.execute_reply": "2024-09-05T08:55:04.172448Z"
    },
    "papermill": {
     "duration": 0.025903,
     "end_time": "2024-09-05T08:55:04.173641",
     "exception": false,
     "start_time": "2024-09-05T08:55:04.147738",
     "status": "completed"
    },
    "slideshow": {
     "slide_type": ""
    },
    "tags": [
     "parameters"
    ]
   },
   "outputs": [],
   "source": [
    "# Others config\n",
    "SEED: int = 57\n",
    "RAY_RESULTS_PATH: Path = '~/ray_results3.11'\n",
    "\n",
    "# Dataset splits config\n",
    "ORG_NAME = 'Decentraland'\n",
    "SPLITS_FREQ = 'W-THU'  # Split weekly\n",
    "LAST_FOLDS = 10  # Use just last 10 splits\n",
    "SPLITS_NORMALIZE = True\n",
    "LAST_FOLD_DATE_STR: str = '2023-07-13'\n",
    "\n",
    "# Training config\n",
    "MAX_EPOCHS: int = 200\n",
    "EPOCHS_PER_ITER: int = 5\n",
    "SAMPLES_PER_SPLIT: int = 100\n",
    "MAX_TIME_TOTAL_TRAIN: int = 300\n",
    "OPTIM_METRIC: str = 'map@10'\n",
    "\n",
    "# Search space config\n",
    "MAX_EMBEDDING_DIM = 1024\n",
    "MIN_BATCH_SIZE = 6\n",
    "MAX_BATCH_SIZE = 10 # 2**10\n",
    "MIN_LR = 1e-4\n",
    "# WINDOW_SIZES = ['7d', '14d', '21d', '30d', '60d', '90d', '10YE']\n",
    "WINDOW_SIZES = ['21d', '30d', '60d', '90d', '10YE']\n",
    "GPUS = 16\n",
    "\n",
    "# Eval config\n",
    "K_RECOMMENDATIONS: List[int] = [1,3,5,10,15,100]\n",
    "METRICS: List[str] = [\"recall\", \"ndcg\", \"precision\", \"map\"]"
   ]
  },
  {
   "cell_type": "code",
   "execution_count": 3,
   "id": "214796d1",
   "metadata": {
    "execution": {
     "iopub.execute_input": "2024-09-05T08:55:04.178851Z",
     "iopub.status.busy": "2024-09-05T08:55:04.178758Z",
     "iopub.status.idle": "2024-09-05T08:55:04.197303Z",
     "shell.execute_reply": "2024-09-05T08:55:04.196981Z"
    },
    "papermill": {
     "duration": 0.022104,
     "end_time": "2024-09-05T08:55:04.198041",
     "exception": false,
     "start_time": "2024-09-05T08:55:04.175937",
     "status": "completed"
    },
    "tags": [
     "injected-parameters"
    ]
   },
   "outputs": [],
   "source": [
    "# Parameters\n",
    "EXECUTION_ID = \"2024-09-04T10:00\"\n",
    "MAX_BATCH_SIZE = 9\n",
    "ORG_NAME = \"PancakeSwap\"\n",
    "SPLITS_FREQ = \"3d\"\n",
    "LAST_FOLDS = 10\n",
    "SPLITS_NORMALIZE = True\n",
    "LAST_FOLD_DATE_STR = \"2023-06-27\"\n"
   ]
  },
  {
   "cell_type": "code",
   "execution_count": 4,
   "id": "3ffa71d2",
   "metadata": {
    "execution": {
     "iopub.execute_input": "2024-09-05T08:55:04.202909Z",
     "iopub.status.busy": "2024-09-05T08:55:04.202796Z",
     "iopub.status.idle": "2024-09-05T08:55:04.220147Z",
     "shell.execute_reply": "2024-09-05T08:55:04.219725Z"
    },
    "papermill": {
     "duration": 0.020729,
     "end_time": "2024-09-05T08:55:04.220929",
     "exception": false,
     "start_time": "2024-09-05T08:55:04.200200",
     "status": "completed"
    },
    "tags": []
   },
   "outputs": [],
   "source": [
    "RAY_RESULTS_PATH = Path(RAY_RESULTS_PATH).expanduser()"
   ]
  },
  {
   "cell_type": "markdown",
   "id": "029496da",
   "metadata": {
    "papermill": {
     "duration": 0.002288,
     "end_time": "2024-09-05T08:55:04.225414",
     "exception": false,
     "start_time": "2024-09-05T08:55:04.223126",
     "status": "completed"
    },
    "tags": []
   },
   "source": [
    "## Obtain dataset"
   ]
  },
  {
   "cell_type": "code",
   "execution_count": 5,
   "id": "97c19846",
   "metadata": {
    "execution": {
     "iopub.execute_input": "2024-09-05T08:55:04.230203Z",
     "iopub.status.busy": "2024-09-05T08:55:04.230086Z",
     "iopub.status.idle": "2024-09-05T08:55:04.375857Z",
     "shell.execute_reply": "2024-09-05T08:55:04.372596Z"
    },
    "papermill": {
     "duration": 0.152826,
     "end_time": "2024-09-05T08:55:04.380350",
     "exception": false,
     "start_time": "2024-09-05T08:55:04.227524",
     "status": "completed"
    },
    "tags": []
   },
   "outputs": [
    {
     "name": "stdout",
     "output_type": "stream",
     "text": [
      "/home/daviddavo/recsys4daos/notebooks\r\n"
     ]
    }
   ],
   "source": [
    "!pwd"
   ]
  },
  {
   "cell_type": "code",
   "execution_count": 6,
   "id": "c9a18719",
   "metadata": {
    "execution": {
     "iopub.execute_input": "2024-09-05T08:55:04.396973Z",
     "iopub.status.busy": "2024-09-05T08:55:04.396823Z",
     "iopub.status.idle": "2024-09-05T08:55:04.655711Z",
     "shell.execute_reply": "2024-09-05T08:55:04.655210Z"
    },
    "papermill": {
     "duration": 0.265333,
     "end_time": "2024-09-05T08:55:04.656596",
     "exception": false,
     "start_time": "2024-09-05T08:55:04.391263",
     "status": "completed"
    },
    "tags": []
   },
   "outputs": [
    {
     "name": "stdout",
     "output_type": "stream",
     "text": [
      "<class 'pandas.core.frame.DataFrame'>\n",
      "RangeIndex: 3119 entries, 0 to 3118\n",
      "Data columns (total 6 columns):\n",
      " #   Column             Non-Null Count  Dtype         \n",
      "---  ------             --------------  -----         \n",
      " 0   id                 3119 non-null   object        \n",
      " 1   author             3119 non-null   object        \n",
      " 2   date               3119 non-null   datetime64[us]\n",
      " 3   start              3119 non-null   datetime64[us]\n",
      " 4   end                3119 non-null   datetime64[us]\n",
      " 5   platform_proposal  3119 non-null   object        \n",
      "dtypes: datetime64[us](3), object(3)\n",
      "memory usage: 146.3+ KB\n",
      "None\n",
      "<class 'pandas.core.frame.DataFrame'>\n",
      "RangeIndex: 532830 entries, 0 to 532829\n",
      "Data columns (total 4 columns):\n",
      " #   Column    Non-Null Count   Dtype         \n",
      "---  ------    --------------   -----         \n",
      " 0   id        532830 non-null  object        \n",
      " 1   proposal  532830 non-null  object        \n",
      " 2   voter     532830 non-null  object        \n",
      " 3   date      532830 non-null  datetime64[us]\n",
      "dtypes: datetime64[us](1), object(3)\n",
      "memory usage: 16.3+ MB\n",
      "None\n"
     ]
    }
   ],
   "source": [
    "dfp = paths.load_proposals(ORG_NAME)\n",
    "dfv = paths.load_votes(ORG_NAME)\n",
    "\n",
    "print(dfp.info())\n",
    "print(dfv.info())"
   ]
  },
  {
   "cell_type": "markdown",
   "id": "4b6675b0",
   "metadata": {
    "papermill": {
     "duration": 0.002624,
     "end_time": "2024-09-05T08:55:04.661841",
     "exception": false,
     "start_time": "2024-09-05T08:55:04.659217",
     "status": "completed"
    },
    "tags": []
   },
   "source": [
    "## Split data"
   ]
  },
  {
   "cell_type": "code",
   "execution_count": 7,
   "id": "689275ac",
   "metadata": {
    "execution": {
     "iopub.execute_input": "2024-09-05T08:55:04.667333Z",
     "iopub.status.busy": "2024-09-05T08:55:04.667210Z",
     "iopub.status.idle": "2024-09-05T08:55:04.734108Z",
     "shell.execute_reply": "2024-09-05T08:55:04.733804Z"
    },
    "papermill": {
     "duration": 0.070628,
     "end_time": "2024-09-05T08:55:04.734932",
     "exception": false,
     "start_time": "2024-09-05T08:55:04.664304",
     "status": "completed"
    },
    "tags": []
   },
   "outputs": [
    {
     "data": {
      "text/html": [
       "<div>\n",
       "<style scoped>\n",
       "    .dataframe tbody tr th:only-of-type {\n",
       "        vertical-align: middle;\n",
       "    }\n",
       "\n",
       "    .dataframe tbody tr th {\n",
       "        vertical-align: top;\n",
       "    }\n",
       "\n",
       "    .dataframe thead th {\n",
       "        text-align: right;\n",
       "    }\n",
       "</style>\n",
       "<table border=\"1\" class=\"dataframe\">\n",
       "  <thead>\n",
       "    <tr style=\"text-align: right;\">\n",
       "      <th></th>\n",
       "      <th>userID</th>\n",
       "      <th>itemID</th>\n",
       "      <th>timestamp</th>\n",
       "      <th>rating</th>\n",
       "    </tr>\n",
       "  </thead>\n",
       "  <tbody>\n",
       "    <tr>\n",
       "      <th>0</th>\n",
       "      <td>0x8b017905dc96b38f817473dc885f84d4c76bc113</td>\n",
       "      <td>c3d4fe9b-5193-5b39-a85d-60cdf62f8ebe</td>\n",
       "      <td>2021-06-28 12:14:46</td>\n",
       "      <td>1</td>\n",
       "    </tr>\n",
       "    <tr>\n",
       "      <th>1</th>\n",
       "      <td>0x9e882c739493886ab2865803432d3140b6473bfc</td>\n",
       "      <td>c3d4fe9b-5193-5b39-a85d-60cdf62f8ebe</td>\n",
       "      <td>2021-06-28 12:41:42</td>\n",
       "      <td>1</td>\n",
       "    </tr>\n",
       "    <tr>\n",
       "      <th>2</th>\n",
       "      <td>0x1e5c8c04e56f88c09ad775e43a164de264d6dad7</td>\n",
       "      <td>c3d4fe9b-5193-5b39-a85d-60cdf62f8ebe</td>\n",
       "      <td>2021-06-28 12:42:56</td>\n",
       "      <td>1</td>\n",
       "    </tr>\n",
       "    <tr>\n",
       "      <th>3</th>\n",
       "      <td>0x977e0c1005dff8749f8cac22f4df0bd5f013d1a7</td>\n",
       "      <td>c3d4fe9b-5193-5b39-a85d-60cdf62f8ebe</td>\n",
       "      <td>2021-06-28 12:54:31</td>\n",
       "      <td>1</td>\n",
       "    </tr>\n",
       "    <tr>\n",
       "      <th>4</th>\n",
       "      <td>0x1ce49ed469b2c0edf50b574cea9a196bbe23655b</td>\n",
       "      <td>c3d4fe9b-5193-5b39-a85d-60cdf62f8ebe</td>\n",
       "      <td>2021-06-28 16:02:34</td>\n",
       "      <td>1</td>\n",
       "    </tr>\n",
       "    <tr>\n",
       "      <th>...</th>\n",
       "      <td>...</td>\n",
       "      <td>...</td>\n",
       "      <td>...</td>\n",
       "      <td>...</td>\n",
       "    </tr>\n",
       "    <tr>\n",
       "      <th>532825</th>\n",
       "      <td>0xd554664fb7e5c4ad17a5f32343843f30eb4c093d</td>\n",
       "      <td>718fe10e-25cf-5c87-b966-99e1ca411fb1</td>\n",
       "      <td>2023-07-20 03:06:58</td>\n",
       "      <td>1</td>\n",
       "    </tr>\n",
       "    <tr>\n",
       "      <th>532826</th>\n",
       "      <td>0x71c9137eb29ce52e7bdab9ee5cac25208f910665</td>\n",
       "      <td>718fe10e-25cf-5c87-b966-99e1ca411fb1</td>\n",
       "      <td>2023-07-20 03:16:03</td>\n",
       "      <td>1</td>\n",
       "    </tr>\n",
       "    <tr>\n",
       "      <th>532827</th>\n",
       "      <td>0x843146d71d57af0e731f85db1f094643776c8e91</td>\n",
       "      <td>718fe10e-25cf-5c87-b966-99e1ca411fb1</td>\n",
       "      <td>2023-07-20 03:33:17</td>\n",
       "      <td>1</td>\n",
       "    </tr>\n",
       "    <tr>\n",
       "      <th>532828</th>\n",
       "      <td>0x8dcad3b779415f519c21bb42c9a6743e8cef1c5d</td>\n",
       "      <td>718fe10e-25cf-5c87-b966-99e1ca411fb1</td>\n",
       "      <td>2023-07-20 03:47:32</td>\n",
       "      <td>1</td>\n",
       "    </tr>\n",
       "    <tr>\n",
       "      <th>532829</th>\n",
       "      <td>0x65e41e4b4586f86317b151cfeae9928b7d3d9f22</td>\n",
       "      <td>718fe10e-25cf-5c87-b966-99e1ca411fb1</td>\n",
       "      <td>2023-07-20 03:54:45</td>\n",
       "      <td>1</td>\n",
       "    </tr>\n",
       "  </tbody>\n",
       "</table>\n",
       "<p>532830 rows × 4 columns</p>\n",
       "</div>"
      ],
      "text/plain": [
       "                                            userID  \\\n",
       "0       0x8b017905dc96b38f817473dc885f84d4c76bc113   \n",
       "1       0x9e882c739493886ab2865803432d3140b6473bfc   \n",
       "2       0x1e5c8c04e56f88c09ad775e43a164de264d6dad7   \n",
       "3       0x977e0c1005dff8749f8cac22f4df0bd5f013d1a7   \n",
       "4       0x1ce49ed469b2c0edf50b574cea9a196bbe23655b   \n",
       "...                                            ...   \n",
       "532825  0xd554664fb7e5c4ad17a5f32343843f30eb4c093d   \n",
       "532826  0x71c9137eb29ce52e7bdab9ee5cac25208f910665   \n",
       "532827  0x843146d71d57af0e731f85db1f094643776c8e91   \n",
       "532828  0x8dcad3b779415f519c21bb42c9a6743e8cef1c5d   \n",
       "532829  0x65e41e4b4586f86317b151cfeae9928b7d3d9f22   \n",
       "\n",
       "                                      itemID           timestamp  rating  \n",
       "0       c3d4fe9b-5193-5b39-a85d-60cdf62f8ebe 2021-06-28 12:14:46       1  \n",
       "1       c3d4fe9b-5193-5b39-a85d-60cdf62f8ebe 2021-06-28 12:41:42       1  \n",
       "2       c3d4fe9b-5193-5b39-a85d-60cdf62f8ebe 2021-06-28 12:42:56       1  \n",
       "3       c3d4fe9b-5193-5b39-a85d-60cdf62f8ebe 2021-06-28 12:54:31       1  \n",
       "4       c3d4fe9b-5193-5b39-a85d-60cdf62f8ebe 2021-06-28 16:02:34       1  \n",
       "...                                      ...                 ...     ...  \n",
       "532825  718fe10e-25cf-5c87-b966-99e1ca411fb1 2023-07-20 03:06:58       1  \n",
       "532826  718fe10e-25cf-5c87-b966-99e1ca411fb1 2023-07-20 03:16:03       1  \n",
       "532827  718fe10e-25cf-5c87-b966-99e1ca411fb1 2023-07-20 03:33:17       1  \n",
       "532828  718fe10e-25cf-5c87-b966-99e1ca411fb1 2023-07-20 03:47:32       1  \n",
       "532829  718fe10e-25cf-5c87-b966-99e1ca411fb1 2023-07-20 03:54:45       1  \n",
       "\n",
       "[532830 rows x 4 columns]"
      ]
     },
     "execution_count": 7,
     "metadata": {},
     "output_type": "execute_result"
    }
   ],
   "source": [
    "df = to_microsoft(dfv)\n",
    "df"
   ]
  },
  {
   "cell_type": "code",
   "execution_count": 8,
   "id": "ce915824",
   "metadata": {
    "editable": true,
    "execution": {
     "iopub.execute_input": "2024-09-05T08:55:04.740816Z",
     "iopub.status.busy": "2024-09-05T08:55:04.740709Z",
     "iopub.status.idle": "2024-09-05T08:55:38.563153Z",
     "shell.execute_reply": "2024-09-05T08:55:38.562900Z"
    },
    "papermill": {
     "duration": 33.828598,
     "end_time": "2024-09-05T08:55:38.566309",
     "exception": false,
     "start_time": "2024-09-05T08:55:04.737711",
     "status": "completed"
    },
    "slideshow": {
     "slide_type": ""
    },
    "tags": []
   },
   "outputs": [
    {
     "name": "stdout",
     "output_type": "stream",
     "text": [
      "244 folds\n",
      "Using 10 folds, from 2023-05-31T00:00:00 to 2023-06-27T00:00:00\n"
     ]
    }
   ],
   "source": [
    "# USE INTEGER INDEX\n",
    "# folds_dict = list(cvtt_open(df, SPLITS_FREQ, dfp, remove_not_in_train_col='userID'))\n",
    "# use_folds_idx = range(len(folds_dict))[-LAST_FOLDS:]\n",
    "\n",
    "# USE TIMESTAMP INDEX\n",
    "# Note: NO need to used OrderedDict, dict is ordered since Python 3.6\n",
    "folds_dict = { f.end.isoformat():f for f in cvtt_open(df, SPLITS_FREQ, dfp, remove_not_in_train_col='userID', last_fold=LAST_FOLD_DATE_STR) }\n",
    "use_folds_idx = list(folds_dict.keys())[-LAST_FOLDS:]\n",
    "\n",
    "print(len(folds_dict), \"folds\")\n",
    "print(\"Using\", len(use_folds_idx), \"folds, from\", use_folds_idx[0], \"to\", use_folds_idx[-1])"
   ]
  },
  {
   "cell_type": "markdown",
   "id": "7024f0af",
   "metadata": {
    "papermill": {
     "duration": 0.00265,
     "end_time": "2024-09-05T08:55:38.571876",
     "exception": false,
     "start_time": "2024-09-05T08:55:38.569226",
     "status": "completed"
    },
    "tags": []
   },
   "source": [
    "## Making some checks"
   ]
  },
  {
   "cell_type": "markdown",
   "id": "91f2695d",
   "metadata": {
    "papermill": {
     "duration": 0.002433,
     "end_time": "2024-09-05T08:55:38.576783",
     "exception": false,
     "start_time": "2024-09-05T08:55:38.574350",
     "status": "completed"
    },
    "tags": []
   },
   "source": [
    "### Checking that all the folds have open proposals"
   ]
  },
  {
   "cell_type": "code",
   "execution_count": 9,
   "id": "45c31584",
   "metadata": {
    "execution": {
     "iopub.execute_input": "2024-09-05T08:55:38.582184Z",
     "iopub.status.busy": "2024-09-05T08:55:38.582079Z",
     "iopub.status.idle": "2024-09-05T08:55:38.603735Z",
     "shell.execute_reply": "2024-09-05T08:55:38.603445Z"
    },
    "papermill": {
     "duration": 0.025335,
     "end_time": "2024-09-05T08:55:38.604523",
     "exception": false,
     "start_time": "2024-09-05T08:55:38.579188",
     "status": "completed"
    },
    "tags": []
   },
   "outputs": [],
   "source": [
    "_nok_folds = []\n",
    "for idx in use_folds_idx:\n",
    "    if len(folds_dict[idx].open_proposals) == 0:\n",
    "        _nok_folds.append(idx)\n",
    "\n",
    "if _nok_folds:\n",
    "    raise ValueError(f\"Folds {', '.join(_nok_folds)} don't have any open proposals\")"
   ]
  },
  {
   "cell_type": "markdown",
   "id": "7e9803b4",
   "metadata": {
    "papermill": {
     "duration": 0.002531,
     "end_time": "2024-09-05T08:55:38.609673",
     "exception": false,
     "start_time": "2024-09-05T08:55:38.607142",
     "status": "completed"
    },
    "tags": []
   },
   "source": [
    "### Checking correct hparams"
   ]
  },
  {
   "cell_type": "code",
   "execution_count": 10,
   "id": "88a36590",
   "metadata": {
    "execution": {
     "iopub.execute_input": "2024-09-05T08:55:38.615104Z",
     "iopub.status.busy": "2024-09-05T08:55:38.614964Z",
     "iopub.status.idle": "2024-09-05T08:55:38.657657Z",
     "shell.execute_reply": "2024-09-05T08:55:38.657339Z"
    },
    "papermill": {
     "duration": 0.046421,
     "end_time": "2024-09-05T08:55:38.658432",
     "exception": false,
     "start_time": "2024-09-05T08:55:38.612011",
     "status": "completed"
    },
    "tags": []
   },
   "outputs": [
    {
     "name": "stdout",
     "output_type": "stream",
     "text": [
      "All folds ok!\n"
     ]
    },
    {
     "name": "stderr",
     "output_type": "stream",
     "text": [
      "On fold 2023-05-31T00:00:00 WINDOW_SIZE should be at least 21d: 3008 > 512\n",
      "On fold 2023-06-03T00:00:00 WINDOW_SIZE should be at least 21d: 3324 > 512\n",
      "On fold 2023-06-06T00:00:00 WINDOW_SIZE should be at least 21d: 3220 > 512\n",
      "On fold 2023-06-09T00:00:00 WINDOW_SIZE should be at least 21d: 3017 > 512\n",
      "On fold 2023-06-12T00:00:00 WINDOW_SIZE should be at least 21d: 3177 > 512\n",
      "On fold 2023-06-15T00:00:00 WINDOW_SIZE should be at least 21d: 3319 > 512\n",
      "On fold 2023-06-18T00:00:00 WINDOW_SIZE should be at least 21d: 3611 > 512\n",
      "On fold 2023-06-21T00:00:00 WINDOW_SIZE should be at least 21d: 3384 > 512\n",
      "On fold 2023-06-24T00:00:00 WINDOW_SIZE should be at least 21d: 2982 > 512\n",
      "On fold 2023-06-27T00:00:00 WINDOW_SIZE should be at least 21d: 3082 > 512\n"
     ]
    }
   ],
   "source": [
    "now = dt.datetime.now()\n",
    "max_bs = 2**MAX_BATCH_SIZE\n",
    "\n",
    "all_ok = True\n",
    "for idx in use_folds_idx:\n",
    "    valid_ws = WINDOW_SIZES[0]\n",
    "    for ws in sorted(WINDOW_SIZES, key=lambda ws: now + pd.tseries.frequencies.to_offset(ws)):\n",
    "        nusers = filter_window_size(folds_dict[idx].train, folds_dict[idx].end, ws)['userID'].nunique()\n",
    "        if nusers > max_bs:\n",
    "            print(f'On fold {idx} WINDOW_SIZE should be at least {ws}: {nusers} > {max_bs}', file=sys.stderr)\n",
    "            break\n",
    "\n",
    "print(\"All folds ok!\")"
   ]
  },
  {
   "cell_type": "markdown",
   "id": "c2d9aef1",
   "metadata": {
    "editable": true,
    "papermill": {
     "duration": 0.002699,
     "end_time": "2024-09-05T08:55:38.663884",
     "exception": false,
     "start_time": "2024-09-05T08:55:38.661185",
     "status": "completed"
    },
    "slideshow": {
     "slide_type": ""
    },
    "tags": []
   },
   "source": [
    "## Testing model"
   ]
  },
  {
   "cell_type": "code",
   "execution_count": 11,
   "id": "a2d3d10d",
   "metadata": {
    "execution": {
     "iopub.execute_input": "2024-09-05T08:55:38.669820Z",
     "iopub.status.busy": "2024-09-05T08:55:38.669596Z",
     "iopub.status.idle": "2024-09-05T08:55:38.691262Z",
     "shell.execute_reply": "2024-09-05T08:55:38.690975Z"
    },
    "papermill": {
     "duration": 0.025525,
     "end_time": "2024-09-05T08:55:38.692004",
     "exception": false,
     "start_time": "2024-09-05T08:55:38.666479",
     "status": "completed"
    },
    "tags": []
   },
   "outputs": [],
   "source": [
    "from recommenders.models.deeprec.DataModel.ImplicitCF import ImplicitCF\n",
    "from recommenders.models.deeprec.deeprec_utils import prepare_hparams"
   ]
  },
  {
   "cell_type": "code",
   "execution_count": 12,
   "id": "15eebf1d",
   "metadata": {
    "editable": true,
    "execution": {
     "iopub.execute_input": "2024-09-05T08:55:38.698080Z",
     "iopub.status.busy": "2024-09-05T08:55:38.697953Z",
     "iopub.status.idle": "2024-09-05T08:55:38.718559Z",
     "shell.execute_reply": "2024-09-05T08:55:38.718324Z"
    },
    "papermill": {
     "duration": 0.024569,
     "end_time": "2024-09-05T08:55:38.719310",
     "exception": false,
     "start_time": "2024-09-05T08:55:38.694741",
     "status": "completed"
    },
    "slideshow": {
     "slide_type": ""
    },
    "tags": []
   },
   "outputs": [],
   "source": [
    "# hparams = prepare_hparams(\n",
    "#     model_type='lightgcn',\n",
    "#     n_layers=3,\n",
    "#     batch_size=512,\n",
    "#     embed_size=64,\n",
    "#     epochs=2,\n",
    "#     learning_rate=0.001,\n",
    "#     decay=0.001,\n",
    "#     metrics=[\"recall\", \"ndcg\", \"precision\", \"map\"],\n",
    "#     eval_epoch=2,\n",
    "#     top_k=K_RECOMMENDATIONS[0],\n",
    "#     save_model=False,\n",
    "#     MODEL_DIR='./data/model/lightgcn/',\n",
    "# )\n",
    "# dataloader = ImplicitCF(train=folds_dict[use_folds_idx[0]].train, test=folds_dict[use_folds_idx[0]].test, seed=SEED)\n",
    "# print(\"items:\", dataloader.n_items, \"user:\", dataloader.n_users)\n",
    "# model = LightGCNCustom(data=dataloader, hparams=hparams)"
   ]
  },
  {
   "cell_type": "code",
   "execution_count": 13,
   "id": "83cb2db1",
   "metadata": {
    "execution": {
     "iopub.execute_input": "2024-09-05T08:55:38.724993Z",
     "iopub.status.busy": "2024-09-05T08:55:38.724870Z",
     "iopub.status.idle": "2024-09-05T08:55:38.742646Z",
     "shell.execute_reply": "2024-09-05T08:55:38.742454Z"
    },
    "papermill": {
     "duration": 0.02139,
     "end_time": "2024-09-05T08:55:38.743316",
     "exception": false,
     "start_time": "2024-09-05T08:55:38.721926",
     "status": "completed"
    },
    "tags": []
   },
   "outputs": [],
   "source": [
    "# model.fit()\n",
    "# model.run_eval()"
   ]
  },
  {
   "cell_type": "code",
   "execution_count": 14,
   "id": "cc4985a3",
   "metadata": {
    "editable": true,
    "execution": {
     "iopub.execute_input": "2024-09-05T08:55:38.749110Z",
     "iopub.status.busy": "2024-09-05T08:55:38.748983Z",
     "iopub.status.idle": "2024-09-05T08:55:38.765567Z",
     "shell.execute_reply": "2024-09-05T08:55:38.765379Z"
    },
    "papermill": {
     "duration": 0.020276,
     "end_time": "2024-09-05T08:55:38.766249",
     "exception": false,
     "start_time": "2024-09-05T08:55:38.745973",
     "status": "completed"
    },
    "slideshow": {
     "slide_type": ""
    },
    "tags": []
   },
   "outputs": [],
   "source": [
    "# model.recommend_k_items(\n",
    "#     dataloader.test, \n",
    "#     top_k=3, \n",
    "#     use_id=True, \n",
    "#     remove_seen=True, \n",
    "#     recommend_from=folds_dict[use_folds_idx[0]].open_proposals\n",
    "# )"
   ]
  },
  {
   "cell_type": "markdown",
   "id": "b9e279d6",
   "metadata": {
    "papermill": {
     "duration": 0.002627,
     "end_time": "2024-09-05T08:55:38.771468",
     "exception": false,
     "start_time": "2024-09-05T08:55:38.768841",
     "status": "completed"
    },
    "tags": []
   },
   "source": [
    "## Defining trainable"
   ]
  },
  {
   "cell_type": "code",
   "execution_count": 15,
   "id": "a1c73302",
   "metadata": {
    "execution": {
     "iopub.execute_input": "2024-09-05T08:55:38.776915Z",
     "iopub.status.busy": "2024-09-05T08:55:38.776793Z",
     "iopub.status.idle": "2024-09-05T08:55:38.793177Z",
     "shell.execute_reply": "2024-09-05T08:55:38.792984Z"
    },
    "papermill": {
     "duration": 0.019974,
     "end_time": "2024-09-05T08:55:38.793873",
     "exception": false,
     "start_time": "2024-09-05T08:55:38.773899",
     "status": "completed"
    },
    "tags": []
   },
   "outputs": [],
   "source": [
    "from recsys4daos.evaluation import calculate_all_metrics"
   ]
  },
  {
   "cell_type": "code",
   "execution_count": 16,
   "id": "c1903cba",
   "metadata": {
    "editable": true,
    "execution": {
     "iopub.execute_input": "2024-09-05T08:55:38.799976Z",
     "iopub.status.busy": "2024-09-05T08:55:38.799856Z",
     "iopub.status.idle": "2024-09-05T08:55:38.820279Z",
     "shell.execute_reply": "2024-09-05T08:55:38.820081Z"
    },
    "papermill": {
     "duration": 0.024238,
     "end_time": "2024-09-05T08:55:38.820973",
     "exception": false,
     "start_time": "2024-09-05T08:55:38.796735",
     "status": "completed"
    },
    "slideshow": {
     "slide_type": ""
    },
    "tags": []
   },
   "outputs": [],
   "source": [
    "class TrainLightGCN(tune.Trainable):\n",
    "    def setup(\n",
    "        self,\n",
    "        config: Dict[str, Any],\n",
    "        data,\n",
    "    ):\n",
    "        self.config = config\n",
    "        train, test, self.t, self.open_proposals = data\n",
    "        train_filtered = filter_window_size(train, self.t, config['window_size'])\n",
    "        self.dataloader = ImplicitCF(train=train_filtered, test=test, seed=SEED)\n",
    "        # Some experiments will run multiple times, but that's a price to pay for\n",
    "        # usability\n",
    "        self.real_batch_size = min(2**config['batch_size'], self.dataloader.n_users_in_train)\n",
    "\n",
    "        self.hparams = prepare_hparams(\n",
    "            model_type='lightgcn',\n",
    "            n_layers=config['conv_layers'],\n",
    "            batch_size=self.real_batch_size,\n",
    "            embed_size=config['embedding_dim'],\n",
    "            epochs=EPOCHS_PER_ITER,\n",
    "            learning_rate=config['learning_rate'],\n",
    "            decay=config['l2'],\n",
    "            metrics=METRICS,\n",
    "            eval_epoch=-1,\n",
    "            top_k=K_RECOMMENDATIONS[0],\n",
    "            save_model=False,\n",
    "            MODEL_DIR='./data/model/lightgcn/',\n",
    "        )\n",
    "        self.model = LightGCNCustom(self.hparams, self.dataloader, seed=SEED)\n",
    "        self.total_train = 0\n",
    "        self.total_eval = 0\n",
    "\n",
    "    @property\n",
    "    def iteration(self):\n",
    "        return self.model.epochs_done\n",
    "\n",
    "    @property\n",
    "    def training_iteration(self):\n",
    "        return self.model.epochs_done\n",
    "\n",
    "    def step(self):\n",
    "        \"\"\"\n",
    "        As a rule of thumb, the execution time of step should be large enough to avoid overheads \n",
    "        (i.e. more than a few seconds), but short enough to report progress periodically \n",
    "        (i.e. at most a few minutes).\n",
    "        \"\"\"\n",
    "        assert EPOCHS_PER_ITER > 0\n",
    "\n",
    "        with Timer() as t_train:\n",
    "            for _ in range(EPOCHS_PER_ITER):\n",
    "                ret = self.model.fit_epoch()\n",
    "\n",
    "\n",
    "        with Timer() as t_rec:\n",
    "            recs = self.model.recommend_k_items(\n",
    "                self.dataloader.test, # Used only to get user ids\n",
    "                top_k=max(K_RECOMMENDATIONS),\n",
    "                use_id=True,\n",
    "                remove_seen=True,\n",
    "                recommend_from=self.open_proposals,\n",
    "            )\n",
    "        \n",
    "        eval_dict = {'model_'+k:v for k,v in zip(self.model.metrics, self.model.run_eval())}\n",
    "        eval_dict |= calculate_all_metrics(self.dataloader.test, recs, K_RECOMMENDATIONS)\n",
    "\n",
    "        self.total_train += t_train.time\n",
    "        self.total_eval += eval_dict['time_eval']\n",
    "        \n",
    "        return {\n",
    "            'real_batch_size': self.real_batch_size,\n",
    "            'iteration': self.iteration,\n",
    "            'loss': ret[0],\n",
    "            'mf_loss': ret[1],\n",
    "            'emb_loss': ret[2],\n",
    "            **eval_dict,\n",
    "            'time_train': t_train.time,\n",
    "            'time_rec': t_rec.time,\n",
    "            'time_total_train': self.total_train,\n",
    "            'time_total_test': self.total_eval,\n",
    "        }\n",
    "\n",
    "    def save_checkpoint(self, checkpoint_dir):\n",
    "        checkpoint_path = os.path.join(checkpoint_dir, \"model\")\n",
    "        self.model.saver.save(\n",
    "            sess=self.model.sess,\n",
    "            save_path=checkpoint_path,\n",
    "        )\n",
    "        return checkpoint_dir\n",
    "\n",
    "    def load_checkpoint(self, checkpoint_path):\n",
    "        self.model.load(checkpoint_path)"
   ]
  },
  {
   "cell_type": "markdown",
   "id": "0ab4b9cd",
   "metadata": {
    "editable": true,
    "papermill": {
     "duration": 0.00277,
     "end_time": "2024-09-05T08:55:38.826373",
     "exception": false,
     "start_time": "2024-09-05T08:55:38.823603",
     "status": "completed"
    },
    "slideshow": {
     "slide_type": ""
    },
    "tags": []
   },
   "source": [
    "## Big experiment"
   ]
  },
  {
   "cell_type": "code",
   "execution_count": 17,
   "id": "aad13db9",
   "metadata": {
    "editable": true,
    "execution": {
     "iopub.execute_input": "2024-09-05T08:55:38.831984Z",
     "iopub.status.busy": "2024-09-05T08:55:38.831865Z",
     "iopub.status.idle": "2024-09-05T08:55:38.848585Z",
     "shell.execute_reply": "2024-09-05T08:55:38.848390Z"
    },
    "papermill": {
     "duration": 0.020326,
     "end_time": "2024-09-05T08:55:38.849260",
     "exception": false,
     "start_time": "2024-09-05T08:55:38.828934",
     "status": "completed"
    },
    "slideshow": {
     "slide_type": ""
    },
    "tags": []
   },
   "outputs": [
    {
     "data": {
      "text/plain": [
       "PosixPath('/home/daviddavo/ray_results3.11')"
      ]
     },
     "execution_count": 17,
     "metadata": {},
     "output_type": "execute_result"
    }
   ],
   "source": [
    "RAY_RESULTS_PATH"
   ]
  },
  {
   "cell_type": "code",
   "execution_count": 18,
   "id": "b7470f1d",
   "metadata": {
    "editable": true,
    "execution": {
     "iopub.execute_input": "2024-09-05T08:55:38.855053Z",
     "iopub.status.busy": "2024-09-05T08:55:38.854961Z",
     "iopub.status.idle": "2024-09-05T08:55:38.871892Z",
     "shell.execute_reply": "2024-09-05T08:55:38.871690Z"
    },
    "papermill": {
     "duration": 0.02063,
     "end_time": "2024-09-05T08:55:38.872562",
     "exception": false,
     "start_time": "2024-09-05T08:55:38.851932",
     "status": "completed"
    },
    "slideshow": {
     "slide_type": ""
    },
    "tags": []
   },
   "outputs": [
    {
     "name": "stdout",
     "output_type": "stream",
     "text": [
      "lamarck\n",
      "{'cpu': 1, 'gpu': 0.0625}\n"
     ]
    }
   ],
   "source": [
    "print(os.uname().nodename)\n",
    "\n",
    "### SET TRAINING RESOURCES\n",
    "if os.uname().nodename == 'lamarck':\n",
    "    # assert torch.cuda.is_available()\n",
    "\n",
    "    NUM_SAMPLES = SAMPLES_PER_SPLIT\n",
    "    # Every run takes approx half a gig of vram (no optimizations)\n",
    "    # The RTX 4090 has 24GB so we can run the model about 48 times\n",
    "    resources_per_trial={\n",
    "        'cpu': 1,\n",
    "        'gpu': 1 / GPUS,\n",
    "    }\n",
    "else:\n",
    "    NUM_SAMPLES = 1\n",
    "    resources_per_trial={\n",
    "        'cpu': 1,\n",
    "        # It takes about 1.5 GiB with full training data, but I put a bit more because\n",
    "        # this notebook also takes a bit of memory\n",
    "        'memory': 2e9,\n",
    "    }\n",
    "print(resources_per_trial)"
   ]
  },
  {
   "cell_type": "code",
   "execution_count": 19,
   "id": "5fc32d22",
   "metadata": {
    "editable": true,
    "execution": {
     "iopub.execute_input": "2024-09-05T08:55:38.878540Z",
     "iopub.status.busy": "2024-09-05T08:55:38.878423Z",
     "iopub.status.idle": "2024-09-05T08:55:38.966165Z",
     "shell.execute_reply": "2024-09-05T08:55:38.965835Z"
    },
    "papermill": {
     "duration": 0.09178,
     "end_time": "2024-09-05T08:55:38.967047",
     "exception": false,
     "start_time": "2024-09-05T08:55:38.875267",
     "status": "completed"
    },
    "slideshow": {
     "slide_type": ""
    },
    "tags": []
   },
   "outputs": [],
   "source": [
    "from ray.tune.search.hyperopt import HyperOptSearch"
   ]
  },
  {
   "cell_type": "code",
   "execution_count": 20,
   "id": "11c077ab",
   "metadata": {
    "editable": true,
    "execution": {
     "iopub.execute_input": "2024-09-05T08:55:38.974006Z",
     "iopub.status.busy": "2024-09-05T08:55:38.973729Z",
     "iopub.status.idle": "2024-09-05T08:55:38.998056Z",
     "shell.execute_reply": "2024-09-05T08:55:38.997837Z"
    },
    "papermill": {
     "duration": 0.028512,
     "end_time": "2024-09-05T08:55:38.998771",
     "exception": false,
     "start_time": "2024-09-05T08:55:38.970259",
     "status": "completed"
    },
    "slideshow": {
     "slide_type": ""
    },
    "tags": []
   },
   "outputs": [],
   "source": [
    "def getTunerOnFold(f_idx, points_to_evaluate = None):    \n",
    "    name = paths.lightgcn_ray_tune_fname(ORG_NAME, SPLITS_FREQ, SPLITS_NORMALIZE, OPTIM_METRIC, fold=f_idx)\n",
    "    experiments = list(RAY_RESULTS_PATH.glob(f'{name}_*'))\n",
    "    last_experiment = max(experiments, key=lambda x: x.stat().st_ctime) if experiments else None\n",
    "    f = folds_dict[f_idx]\n",
    "\n",
    "    dftrain,dftest,t,open_proposals = folds_dict[f_idx]\n",
    "    param_space = dict(\n",
    "        batch_size=tune.randint(MIN_BATCH_SIZE, MAX_BATCH_SIZE+1), # 64 - 2**MAX_BATCH_SIZE\n",
    "        embedding_dim=tune.lograndint(1, MAX_EMBEDDING_DIM, base=2),\n",
    "        conv_layers=tune.randint(1,5),\n",
    "        learning_rate=tune.qloguniform(MIN_LR, 1, 1e-4),\n",
    "        l2=tune.loguniform(1e-7, 1e-2, 1e-7),\n",
    "        window_size=tune.choice(WINDOW_SIZES),\n",
    "        # Just so it appears on the output\n",
    "        fold=f_idx,\n",
    "    )\n",
    "    \n",
    "    ### RESTORE EXPERIMENT OR CREATE A NEW ONE\n",
    "    if last_experiment and tune.Tuner.can_restore(last_experiment):\n",
    "        print(f\"Restoring last experiment: {last_experiment}\")\n",
    "        tuner = tune.Tuner.restore(\n",
    "            str(last_experiment),\n",
    "            trainable=tune.with_resources(\n",
    "                # tune.with_parameters(TrainLightGCN,  train=dftrain, test=dftest, open_proposals=open_proposals),\n",
    "                tune.with_parameters(TrainLightGCN, data=f),\n",
    "                resources_per_trial,\n",
    "            ),\n",
    "            restart_errored=True,\n",
    "            param_space=param_space,\n",
    "        )\n",
    "    else:\n",
    "        print(f\"No experiment found for fold {f_idx}, creating new tuner with {NUM_SAMPLES} samples\")\n",
    "        search_alg = None\n",
    "        \n",
    "        search_alg = HyperOptSearch(\n",
    "            points_to_evaluate = points_to_evaluate,\n",
    "            random_state_seed=SEED,\n",
    "        )\n",
    "        # search_alg = tune.search.Repeater(search_alg, N_SPLITS-SKIP_SPLIT)\n",
    "        \n",
    "        tuner = tune.Tuner(\n",
    "            tune.with_resources(\n",
    "                # tune.with_parameters(TrainLightGCN,  train=dftrain, test=dftest, open_proposals=open_proposals),\n",
    "                tune.with_parameters(TrainLightGCN, data=folds_dict[f_idx]),\n",
    "                resources_per_trial,\n",
    "            ),\n",
    "            run_config=train.RunConfig(\n",
    "                stop={'training_iteration': MAX_EPOCHS/EPOCHS_PER_ITER, 'time_total_train': MAX_TIME_TOTAL_TRAIN},\n",
    "                name=name + f'_{dt.datetime.now().isoformat()}',\n",
    "                storage_path=RAY_RESULTS_PATH,\n",
    "                # failure_config=train.FailureConfig(fail_fast='raise'),\n",
    "                failure_config=train.FailureConfig(max_failures=3),\n",
    "            ),\n",
    "            param_space=param_space,\n",
    "            tune_config=tune.TuneConfig(\n",
    "                search_alg=search_alg,\n",
    "                num_samples=NUM_SAMPLES,\n",
    "                metric=OPTIM_METRIC,\n",
    "                mode='max',\n",
    "            )\n",
    "        )\n",
    "\n",
    "    return tuner"
   ]
  },
  {
   "cell_type": "code",
   "execution_count": 21,
   "id": "1f0bd24a",
   "metadata": {
    "editable": true,
    "execution": {
     "iopub.execute_input": "2024-09-05T08:55:39.005205Z",
     "iopub.status.busy": "2024-09-05T08:55:39.005074Z",
     "iopub.status.idle": "2024-09-05T08:55:39.031439Z",
     "shell.execute_reply": "2024-09-05T08:55:39.031240Z"
    },
    "papermill": {
     "duration": 0.030636,
     "end_time": "2024-09-05T08:55:39.032357",
     "exception": false,
     "start_time": "2024-09-05T08:55:39.001721",
     "status": "completed"
    },
    "slideshow": {
     "slide_type": ""
    },
    "tags": []
   },
   "outputs": [
    {
     "data": {
      "application/vnd.jupyter.widget-view+json": {
       "model_id": "34e9ba83d4b14d4a87180e9a45b37c9c",
       "version_major": 2,
       "version_minor": 0
      },
      "text/plain": [
       "fold:   0%|          | 0/10 [00:00<?, ?it/s]"
      ]
     },
     "metadata": {},
     "output_type": "display_data"
    },
    {
     "data": {
      "application/vnd.jupyter.widget-view+json": {
       "model_id": "6efe1ac1c6c4400081527ba3f7870b9f",
       "version_major": 2,
       "version_minor": 0
      },
      "text/plain": [
       "Output(layout=Layout(border_bottom='1px solid black', border_left='1px solid black', border_right='1px solid b…"
      ]
     },
     "execution_count": 21,
     "metadata": {},
     "output_type": "execute_result"
    }
   ],
   "source": [
    "# We need to display the progress bar in another cell because ray tune \"overwrites\" the previous output\n",
    "pbar = tqdm(total=len(use_folds_idx), desc='fold')\n",
    "out = widgets.Output(layout={'border': '1px solid black'})\n",
    "with out:\n",
    "    print(\"In this cell important output from the next cell will be shown\")\n",
    "out"
   ]
  },
  {
   "cell_type": "code",
   "execution_count": 22,
   "id": "0aa49018",
   "metadata": {
    "editable": true,
    "execution": {
     "iopub.execute_input": "2024-09-05T08:55:39.038993Z",
     "iopub.status.busy": "2024-09-05T08:55:39.038898Z",
     "iopub.status.idle": "2024-09-05T08:56:09.453254Z",
     "shell.execute_reply": "2024-09-05T08:56:09.451959Z"
    },
    "papermill": {
     "duration": 30.421175,
     "end_time": "2024-09-05T08:56:09.456666",
     "exception": false,
     "start_time": "2024-09-05T08:55:39.035491",
     "status": "completed"
    },
    "slideshow": {
     "slide_type": ""
    },
    "tags": []
   },
   "outputs": [
    {
     "data": {
      "text/html": [
       "<div class=\"tuneStatus\">\n",
       "  <div style=\"display: flex;flex-direction: row\">\n",
       "    <div style=\"display: flex;flex-direction: column;\">\n",
       "      <h3>Tune Status</h3>\n",
       "      <table>\n",
       "<tbody>\n",
       "<tr><td>Current time:</td><td>2024-09-05 08:56:08</td></tr>\n",
       "<tr><td>Running for: </td><td>00:00:00.36        </td></tr>\n",
       "<tr><td>Memory:      </td><td>11.6/125.6 GiB     </td></tr>\n",
       "</tbody>\n",
       "</table>\n",
       "    </div>\n",
       "    <div class=\"vDivider\"></div>\n",
       "    <div class=\"systemInfo\">\n",
       "      <h3>System Info</h3>\n",
       "      Using FIFO scheduling algorithm.<br>Logical resource usage: 0/24 CPUs, 0/1 GPUs (0.0/1.0 accelerator_type:G)\n",
       "    </div>\n",
       "    \n",
       "  </div>\n",
       "  <div class=\"hDivider\"></div>\n",
       "  <div class=\"trialStatus\">\n",
       "    <h3>Trial Status</h3>\n",
       "    <table>\n",
       "<thead>\n",
       "<tr><th>Trial name            </th><th>status    </th><th>loc                  </th><th style=\"text-align: right;\">  batch_size</th><th style=\"text-align: right;\">  conv_layers</th><th style=\"text-align: right;\">  embedding_dim</th><th>fold               </th><th style=\"text-align: right;\">         l2</th><th style=\"text-align: right;\">  learning_rate</th><th>window_size  </th><th style=\"text-align: right;\">  iter</th><th style=\"text-align: right;\">  total time (s)</th><th style=\"text-align: right;\">  real_batch_size</th><th style=\"text-align: right;\">  iteration</th><th style=\"text-align: right;\">        loss</th></tr>\n",
       "</thead>\n",
       "<tbody>\n",
       "<tr><td>TrainLightGCN_06897a36</td><td>TERMINATED</td><td>147.96.81.131:2538265</td><td style=\"text-align: right;\">           7</td><td style=\"text-align: right;\">            2</td><td style=\"text-align: right;\">            317</td><td>2023-06-27T00:00:00</td><td style=\"text-align: right;\">8.79027e-06</td><td style=\"text-align: right;\">         0.0008</td><td>10YE         </td><td style=\"text-align: right;\">     1</td><td style=\"text-align: right;\">        829.547 </td><td style=\"text-align: right;\">              128</td><td style=\"text-align: right;\">          5</td><td style=\"text-align: right;\"> 0.00645565 </td></tr>\n",
       "<tr><td>TrainLightGCN_00469c90</td><td>TERMINATED</td><td>147.96.81.131:2539033</td><td style=\"text-align: right;\">           6</td><td style=\"text-align: right;\">            1</td><td style=\"text-align: right;\">             56</td><td>2023-06-27T00:00:00</td><td style=\"text-align: right;\">1.69998e-05</td><td style=\"text-align: right;\">         0.0629</td><td>10YE         </td><td style=\"text-align: right;\">     1</td><td style=\"text-align: right;\">        575.277 </td><td style=\"text-align: right;\">               64</td><td style=\"text-align: right;\">          5</td><td style=\"text-align: right;\"> 2.1914     </td></tr>\n",
       "<tr><td>TrainLightGCN_5e789092</td><td>TERMINATED</td><td>147.96.81.131:2539202</td><td style=\"text-align: right;\">           7</td><td style=\"text-align: right;\">            1</td><td style=\"text-align: right;\">             10</td><td>2023-06-27T00:00:00</td><td style=\"text-align: right;\">0.000151037</td><td style=\"text-align: right;\">         0.0064</td><td>21d          </td><td style=\"text-align: right;\">    40</td><td style=\"text-align: right;\">        231.497 </td><td style=\"text-align: right;\">              128</td><td style=\"text-align: right;\">        200</td><td style=\"text-align: right;\"> 0.00595066 </td></tr>\n",
       "<tr><td>TrainLightGCN_5eec1728</td><td>TERMINATED</td><td>147.96.81.131:2538083</td><td style=\"text-align: right;\">           6</td><td style=\"text-align: right;\">            1</td><td style=\"text-align: right;\">             22</td><td>2023-06-27T00:00:00</td><td style=\"text-align: right;\">1.3292e-05 </td><td style=\"text-align: right;\">         0.0002</td><td>10YE         </td><td style=\"text-align: right;\">     1</td><td style=\"text-align: right;\">        676.458 </td><td style=\"text-align: right;\">               64</td><td style=\"text-align: right;\">          5</td><td style=\"text-align: right;\"> 0.0534754  </td></tr>\n",
       "<tr><td>TrainLightGCN_5a74a36c</td><td>TERMINATED</td><td>147.96.81.131:2538721</td><td style=\"text-align: right;\">           7</td><td style=\"text-align: right;\">            1</td><td style=\"text-align: right;\">             31</td><td>2023-06-27T00:00:00</td><td style=\"text-align: right;\">4.72058e-06</td><td style=\"text-align: right;\">         0.0003</td><td>10YE         </td><td style=\"text-align: right;\">     1</td><td style=\"text-align: right;\">        434.248 </td><td style=\"text-align: right;\">              128</td><td style=\"text-align: right;\">          5</td><td style=\"text-align: right;\"> 0.0454921  </td></tr>\n",
       "<tr><td>TrainLightGCN_423bf851</td><td>TERMINATED</td><td>147.96.81.131:2538571</td><td style=\"text-align: right;\">           8</td><td style=\"text-align: right;\">            2</td><td style=\"text-align: right;\">             17</td><td>2023-06-27T00:00:00</td><td style=\"text-align: right;\">1.06656e-06</td><td style=\"text-align: right;\">         0.0002</td><td>10YE         </td><td style=\"text-align: right;\">     2</td><td style=\"text-align: right;\">        441.599 </td><td style=\"text-align: right;\">              256</td><td style=\"text-align: right;\">         10</td><td style=\"text-align: right;\"> 0.0597129  </td></tr>\n",
       "<tr><td>TrainLightGCN_ebab17a5</td><td>TERMINATED</td><td>147.96.81.131:2538872</td><td style=\"text-align: right;\">           8</td><td style=\"text-align: right;\">            2</td><td style=\"text-align: right;\">            156</td><td>2023-06-27T00:00:00</td><td style=\"text-align: right;\">6.82734e-07</td><td style=\"text-align: right;\">         0.0032</td><td>10YE         </td><td style=\"text-align: right;\">     1</td><td style=\"text-align: right;\">        364.584 </td><td style=\"text-align: right;\">              256</td><td style=\"text-align: right;\">          5</td><td style=\"text-align: right;\"> 0.00430796 </td></tr>\n",
       "<tr><td>TrainLightGCN_c648278c</td><td>TERMINATED</td><td>147.96.81.131:2537964</td><td style=\"text-align: right;\">           8</td><td style=\"text-align: right;\">            1</td><td style=\"text-align: right;\">            100</td><td>2023-06-27T00:00:00</td><td style=\"text-align: right;\">2.02953e-06</td><td style=\"text-align: right;\">         0.0014</td><td>10YE         </td><td style=\"text-align: right;\">     3</td><td style=\"text-align: right;\">        546.03  </td><td style=\"text-align: right;\">              256</td><td style=\"text-align: right;\">         15</td><td style=\"text-align: right;\"> 0.00254899 </td></tr>\n",
       "<tr><td>TrainLightGCN_14dee56a</td><td>TERMINATED</td><td>147.96.81.131:2538421</td><td style=\"text-align: right;\">           9</td><td style=\"text-align: right;\">            1</td><td style=\"text-align: right;\">             14</td><td>2023-06-27T00:00:00</td><td style=\"text-align: right;\">2.39108e-05</td><td style=\"text-align: right;\">         0.0784</td><td>10YE         </td><td style=\"text-align: right;\">     3</td><td style=\"text-align: right;\">        342.804 </td><td style=\"text-align: right;\">              512</td><td style=\"text-align: right;\">         15</td><td style=\"text-align: right;\"> 0.726309   </td></tr>\n",
       "<tr><td>TrainLightGCN_3d80be14</td><td>TERMINATED</td><td>147.96.81.131:2537657</td><td style=\"text-align: right;\">           9</td><td style=\"text-align: right;\">            1</td><td style=\"text-align: right;\">             42</td><td>2023-06-27T00:00:00</td><td style=\"text-align: right;\">0.00670424 </td><td style=\"text-align: right;\">         0.0249</td><td>10YE         </td><td style=\"text-align: right;\">     6</td><td style=\"text-align: right;\">        376.658 </td><td style=\"text-align: right;\">              512</td><td style=\"text-align: right;\">         30</td><td style=\"text-align: right;\"> 0.0775966  </td></tr>\n",
       "<tr><td>TrainLightGCN_bb25729a</td><td>TERMINATED</td><td>147.96.81.131:2537358</td><td style=\"text-align: right;\">           7</td><td style=\"text-align: right;\">            1</td><td style=\"text-align: right;\">             75</td><td>2023-06-27T00:00:00</td><td style=\"text-align: right;\">0.00103129 </td><td style=\"text-align: right;\">         0.001 </td><td>60d          </td><td style=\"text-align: right;\">    36</td><td style=\"text-align: right;\">        328.97  </td><td style=\"text-align: right;\">              128</td><td style=\"text-align: right;\">        180</td><td style=\"text-align: right;\"> 0.0079397  </td></tr>\n",
       "<tr><td>TrainLightGCN_8e543f26</td><td>TERMINATED</td><td>147.96.81.131:2536906</td><td style=\"text-align: right;\">           6</td><td style=\"text-align: right;\">            1</td><td style=\"text-align: right;\">              8</td><td>2023-06-27T00:00:00</td><td style=\"text-align: right;\">0.00954286 </td><td style=\"text-align: right;\">         0.2437</td><td>90d          </td><td style=\"text-align: right;\">    11</td><td style=\"text-align: right;\">        343.271 </td><td style=\"text-align: right;\">               64</td><td style=\"text-align: right;\">         55</td><td style=\"text-align: right;\"> 9.06831    </td></tr>\n",
       "<tr><td>TrainLightGCN_87cfcbc3</td><td>TERMINATED</td><td>147.96.81.131:2536604</td><td style=\"text-align: right;\">           8</td><td style=\"text-align: right;\">            3</td><td style=\"text-align: right;\">              1</td><td>2023-06-27T00:00:00</td><td style=\"text-align: right;\">3.28084e-06</td><td style=\"text-align: right;\">         0.191 </td><td>10YE         </td><td style=\"text-align: right;\">     5</td><td style=\"text-align: right;\">        341.726 </td><td style=\"text-align: right;\">              256</td><td style=\"text-align: right;\">         25</td><td style=\"text-align: right;\"> 0.637526   </td></tr>\n",
       "<tr><td>TrainLightGCN_47570e04</td><td>TERMINATED</td><td>147.96.81.131:2537508</td><td style=\"text-align: right;\">           6</td><td style=\"text-align: right;\">            1</td><td style=\"text-align: right;\">              5</td><td>2023-06-27T00:00:00</td><td style=\"text-align: right;\">0.000475105</td><td style=\"text-align: right;\">         0.0047</td><td>21d          </td><td style=\"text-align: right;\">    40</td><td style=\"text-align: right;\">        233.307 </td><td style=\"text-align: right;\">               64</td><td style=\"text-align: right;\">        200</td><td style=\"text-align: right;\"> 0.0267397  </td></tr>\n",
       "<tr><td>TrainLightGCN_b2863a9b</td><td>TERMINATED</td><td>147.96.81.131:2537807</td><td style=\"text-align: right;\">           7</td><td style=\"text-align: right;\">            1</td><td style=\"text-align: right;\">              6</td><td>2023-06-27T00:00:00</td><td style=\"text-align: right;\">0.0019529  </td><td style=\"text-align: right;\">         0.0018</td><td>21d          </td><td style=\"text-align: right;\">    40</td><td style=\"text-align: right;\">        114.42  </td><td style=\"text-align: right;\">              128</td><td style=\"text-align: right;\">        200</td><td style=\"text-align: right;\"> 0.0361956  </td></tr>\n",
       "<tr><td>TrainLightGCN_a7a8c6fd</td><td>TERMINATED</td><td>147.96.81.131:2537029</td><td style=\"text-align: right;\">           7</td><td style=\"text-align: right;\">            1</td><td style=\"text-align: right;\">             28</td><td>2023-06-27T00:00:00</td><td style=\"text-align: right;\">5.85526e-05</td><td style=\"text-align: right;\">         0.0083</td><td>30d          </td><td style=\"text-align: right;\">    40</td><td style=\"text-align: right;\">        102.606 </td><td style=\"text-align: right;\">              128</td><td style=\"text-align: right;\">        200</td><td style=\"text-align: right;\"> 0.00273087 </td></tr>\n",
       "<tr><td>TrainLightGCN_de30e4e5</td><td>TERMINATED</td><td>147.96.81.131:2536302</td><td style=\"text-align: right;\">           8</td><td style=\"text-align: right;\">            1</td><td style=\"text-align: right;\">             35</td><td>2023-06-27T00:00:00</td><td style=\"text-align: right;\">0.000250278</td><td style=\"text-align: right;\">         0.0161</td><td>90d          </td><td style=\"text-align: right;\">    40</td><td style=\"text-align: right;\">        205.164 </td><td style=\"text-align: right;\">              256</td><td style=\"text-align: right;\">        200</td><td style=\"text-align: right;\"> 0.0161725  </td></tr>\n",
       "<tr><td>TrainLightGCN_1dc751ca</td><td>TERMINATED</td><td>147.96.81.131:2535544</td><td style=\"text-align: right;\">           7</td><td style=\"text-align: right;\">            1</td><td style=\"text-align: right;\">             15</td><td>2023-06-27T00:00:00</td><td style=\"text-align: right;\">1.28624e-05</td><td style=\"text-align: right;\">         0.0002</td><td>10YE         </td><td style=\"text-align: right;\">     4</td><td style=\"text-align: right;\">        309.784 </td><td style=\"text-align: right;\">              128</td><td style=\"text-align: right;\">         20</td><td style=\"text-align: right;\"> 0.0297105  </td></tr>\n",
       "<tr><td>TrainLightGCN_00a790f1</td><td>TERMINATED</td><td>147.96.81.131:2537206</td><td style=\"text-align: right;\">           8</td><td style=\"text-align: right;\">            1</td><td style=\"text-align: right;\">             18</td><td>2023-06-27T00:00:00</td><td style=\"text-align: right;\">5.92391e-06</td><td style=\"text-align: right;\">         0.0006</td><td>21d          </td><td style=\"text-align: right;\">    40</td><td style=\"text-align: right;\">         48.0051</td><td style=\"text-align: right;\">              256</td><td style=\"text-align: right;\">        200</td><td style=\"text-align: right;\"> 0.0119361  </td></tr>\n",
       "<tr><td>TrainLightGCN_bccddbc7</td><td>TERMINATED</td><td>147.96.81.131:2536154</td><td style=\"text-align: right;\">           7</td><td style=\"text-align: right;\">            2</td><td style=\"text-align: right;\">              2</td><td>2023-06-27T00:00:00</td><td style=\"text-align: right;\">4.7728e-05 </td><td style=\"text-align: right;\">         0.0004</td><td>60d          </td><td style=\"text-align: right;\">    40</td><td style=\"text-align: right;\">        170.713 </td><td style=\"text-align: right;\">              128</td><td style=\"text-align: right;\">        200</td><td style=\"text-align: right;\"> 0.131175   </td></tr>\n",
       "<tr><td>TrainLightGCN_231329b4</td><td>TERMINATED</td><td>147.96.81.131:2535702</td><td style=\"text-align: right;\">           8</td><td style=\"text-align: right;\">            1</td><td style=\"text-align: right;\">              7</td><td>2023-06-27T00:00:00</td><td style=\"text-align: right;\">3.14182e-05</td><td style=\"text-align: right;\">         0.0017</td><td>90d          </td><td style=\"text-align: right;\">    40</td><td style=\"text-align: right;\">        203.048 </td><td style=\"text-align: right;\">              256</td><td style=\"text-align: right;\">        200</td><td style=\"text-align: right;\"> 0.0177395  </td></tr>\n",
       "<tr><td>TrainLightGCN_436b93ce</td><td>TERMINATED</td><td>147.96.81.131:2536729</td><td style=\"text-align: right;\">           9</td><td style=\"text-align: right;\">            2</td><td style=\"text-align: right;\">              3</td><td>2023-06-27T00:00:00</td><td style=\"text-align: right;\">4.96434e-07</td><td style=\"text-align: right;\">         0.0033</td><td>21d          </td><td style=\"text-align: right;\">    40</td><td style=\"text-align: right;\">         32.2259</td><td style=\"text-align: right;\">              512</td><td style=\"text-align: right;\">        200</td><td style=\"text-align: right;\"> 0.0572242  </td></tr>\n",
       "<tr><td>TrainLightGCN_08968020</td><td>TERMINATED</td><td>147.96.81.131:2536454</td><td style=\"text-align: right;\">           7</td><td style=\"text-align: right;\">            1</td><td style=\"text-align: right;\">              5</td><td>2023-06-27T00:00:00</td><td style=\"text-align: right;\">5.1202e-06 </td><td style=\"text-align: right;\">         0.0013</td><td>21d          </td><td style=\"text-align: right;\">    40</td><td style=\"text-align: right;\">         65.2603</td><td style=\"text-align: right;\">              128</td><td style=\"text-align: right;\">        200</td><td style=\"text-align: right;\"> 0.0332467  </td></tr>\n",
       "<tr><td>TrainLightGCN_bc22520b</td><td>TERMINATED</td><td>147.96.81.131:2535978</td><td style=\"text-align: right;\">           6</td><td style=\"text-align: right;\">            1</td><td style=\"text-align: right;\">              1</td><td>2023-06-27T00:00:00</td><td style=\"text-align: right;\">1.61703e-05</td><td style=\"text-align: right;\">         0.0116</td><td>21d          </td><td style=\"text-align: right;\">    40</td><td style=\"text-align: right;\">        114.126 </td><td style=\"text-align: right;\">               64</td><td style=\"text-align: right;\">        200</td><td style=\"text-align: right;\"> 0.198865   </td></tr>\n",
       "<tr><td>TrainLightGCN_eb114b64</td><td>TERMINATED</td><td>147.96.81.131:2535855</td><td style=\"text-align: right;\">           7</td><td style=\"text-align: right;\">            2</td><td style=\"text-align: right;\">              3</td><td>2023-06-27T00:00:00</td><td style=\"text-align: right;\">9.65419e-05</td><td style=\"text-align: right;\">         0.0052</td><td>30d          </td><td style=\"text-align: right;\">    40</td><td style=\"text-align: right;\">         94.376 </td><td style=\"text-align: right;\">              128</td><td style=\"text-align: right;\">        200</td><td style=\"text-align: right;\"> 0.0474283  </td></tr>\n",
       "<tr><td>TrainLightGCN_287b894b</td><td>TERMINATED</td><td>147.96.81.131:2535203</td><td style=\"text-align: right;\">           7</td><td style=\"text-align: right;\">            1</td><td style=\"text-align: right;\">              1</td><td>2023-06-27T00:00:00</td><td style=\"text-align: right;\">0.00023213 </td><td style=\"text-align: right;\">         0.0363</td><td>90d          </td><td style=\"text-align: right;\">    37</td><td style=\"text-align: right;\">        323.092 </td><td style=\"text-align: right;\">              128</td><td style=\"text-align: right;\">        185</td><td style=\"text-align: right;\"> 0.29498    </td></tr>\n",
       "<tr><td>TrainLightGCN_98d798a0</td><td>TERMINATED</td><td>147.96.81.131:2534927</td><td style=\"text-align: right;\">           7</td><td style=\"text-align: right;\">            1</td><td style=\"text-align: right;\">             12</td><td>2023-06-27T00:00:00</td><td style=\"text-align: right;\">4.67466e-05</td><td style=\"text-align: right;\">         0.0011</td><td>90d          </td><td style=\"text-align: right;\">    37</td><td style=\"text-align: right;\">        325.792 </td><td style=\"text-align: right;\">              128</td><td style=\"text-align: right;\">        185</td><td style=\"text-align: right;\"> 0.00957271 </td></tr>\n",
       "<tr><td>TrainLightGCN_48796de2</td><td>TERMINATED</td><td>147.96.81.131:2534773</td><td style=\"text-align: right;\">           7</td><td style=\"text-align: right;\">            1</td><td style=\"text-align: right;\">             25</td><td>2023-06-27T00:00:00</td><td style=\"text-align: right;\">8.0346e-05 </td><td style=\"text-align: right;\">         0.0006</td><td>90d          </td><td style=\"text-align: right;\">    37</td><td style=\"text-align: right;\">        326.823 </td><td style=\"text-align: right;\">              128</td><td style=\"text-align: right;\">        185</td><td style=\"text-align: right;\"> 0.00525973 </td></tr>\n",
       "<tr><td>TrainLightGCN_a1dd52c3</td><td>TERMINATED</td><td>147.96.81.131:2534598</td><td style=\"text-align: right;\">           7</td><td style=\"text-align: right;\">            1</td><td style=\"text-align: right;\">              1</td><td>2023-06-27T00:00:00</td><td style=\"text-align: right;\">0.0001583  </td><td style=\"text-align: right;\">         0.0003</td><td>90d          </td><td style=\"text-align: right;\">    37</td><td style=\"text-align: right;\">        322.315 </td><td style=\"text-align: right;\">              128</td><td style=\"text-align: right;\">        185</td><td style=\"text-align: right;\"> 0.15699    </td></tr>\n",
       "<tr><td>TrainLightGCN_3ea28445</td><td>TERMINATED</td><td>147.96.81.131:2534475</td><td style=\"text-align: right;\">           7</td><td style=\"text-align: right;\">            1</td><td style=\"text-align: right;\">              7</td><td>2023-06-27T00:00:00</td><td style=\"text-align: right;\">1.13601e-05</td><td style=\"text-align: right;\">         0.0001</td><td>90d          </td><td style=\"text-align: right;\">    36</td><td style=\"text-align: right;\">        318.271 </td><td style=\"text-align: right;\">              128</td><td style=\"text-align: right;\">        180</td><td style=\"text-align: right;\"> 0.098838   </td></tr>\n",
       "<tr><td>TrainLightGCN_3801b4df</td><td>TERMINATED</td><td>147.96.81.131:2534297</td><td style=\"text-align: right;\">           7</td><td style=\"text-align: right;\">            1</td><td style=\"text-align: right;\">              6</td><td>2023-06-27T00:00:00</td><td style=\"text-align: right;\">3.66565e-05</td><td style=\"text-align: right;\">         0.0001</td><td>90d          </td><td style=\"text-align: right;\">    37</td><td style=\"text-align: right;\">        325.639 </td><td style=\"text-align: right;\">              128</td><td style=\"text-align: right;\">        185</td><td style=\"text-align: right;\"> 0.115418   </td></tr>\n",
       "<tr><td>TrainLightGCN_6dba0ab7</td><td>TERMINATED</td><td>147.96.81.131:2535079</td><td style=\"text-align: right;\">           8</td><td style=\"text-align: right;\">            1</td><td style=\"text-align: right;\">              2</td><td>2023-06-27T00:00:00</td><td style=\"text-align: right;\">0.000803473</td><td style=\"text-align: right;\">         0.0001</td><td>90d          </td><td style=\"text-align: right;\">    40</td><td style=\"text-align: right;\">        200.757 </td><td style=\"text-align: right;\">              256</td><td style=\"text-align: right;\">        200</td><td style=\"text-align: right;\"> 0.169494   </td></tr>\n",
       "<tr><td>TrainLightGCN_38c63aa6</td><td>TERMINATED</td><td>147.96.81.131:2535384</td><td style=\"text-align: right;\">           8</td><td style=\"text-align: right;\">            1</td><td style=\"text-align: right;\">             10</td><td>2023-06-27T00:00:00</td><td style=\"text-align: right;\">2.44311e-05</td><td style=\"text-align: right;\">         0.0024</td><td>60d          </td><td style=\"text-align: right;\">    40</td><td style=\"text-align: right;\">         98.4127</td><td style=\"text-align: right;\">              256</td><td style=\"text-align: right;\">        200</td><td style=\"text-align: right;\"> 0.0105159  </td></tr>\n",
       "<tr><td>TrainLightGCN_f2e5c8ae</td><td>TERMINATED</td><td>147.96.81.131:2534174</td><td style=\"text-align: right;\">           6</td><td style=\"text-align: right;\">            2</td><td style=\"text-align: right;\">              4</td><td>2023-06-27T00:00:00</td><td style=\"text-align: right;\">2.50839e-06</td><td style=\"text-align: right;\">         0.0001</td><td>21d          </td><td style=\"text-align: right;\">    40</td><td style=\"text-align: right;\">        114.896 </td><td style=\"text-align: right;\">               64</td><td style=\"text-align: right;\">        200</td><td style=\"text-align: right;\"> 0.175648   </td></tr>\n",
       "<tr><td>TrainLightGCN_a9fcccd8</td><td>TERMINATED</td><td>147.96.81.131:2534022</td><td style=\"text-align: right;\">           6</td><td style=\"text-align: right;\">            1</td><td style=\"text-align: right;\">              4</td><td>2023-06-27T00:00:00</td><td style=\"text-align: right;\">6.91315e-06</td><td style=\"text-align: right;\">         0.0002</td><td>21d          </td><td style=\"text-align: right;\">    40</td><td style=\"text-align: right;\">        116.651 </td><td style=\"text-align: right;\">               64</td><td style=\"text-align: right;\">        200</td><td style=\"text-align: right;\"> 0.108746   </td></tr>\n",
       "<tr><td>TrainLightGCN_575515a4</td><td>TERMINATED</td><td>147.96.81.131:2532958</td><td style=\"text-align: right;\">           8</td><td style=\"text-align: right;\">            3</td><td style=\"text-align: right;\">              4</td><td>2023-06-27T00:00:00</td><td style=\"text-align: right;\">0.000673152</td><td style=\"text-align: right;\">         0.0003</td><td>10YE         </td><td style=\"text-align: right;\">     5</td><td style=\"text-align: right;\">        331.53  </td><td style=\"text-align: right;\">              256</td><td style=\"text-align: right;\">         25</td><td style=\"text-align: right;\"> 0.0597946  </td></tr>\n",
       "<tr><td>TrainLightGCN_c91e9078</td><td>TERMINATED</td><td>147.96.81.131:2533570</td><td style=\"text-align: right;\">           9</td><td style=\"text-align: right;\">            3</td><td style=\"text-align: right;\">              9</td><td>2023-06-27T00:00:00</td><td style=\"text-align: right;\">5.76762e-07</td><td style=\"text-align: right;\">         0.007 </td><td>90d          </td><td style=\"text-align: right;\">    40</td><td style=\"text-align: right;\">        128.37  </td><td style=\"text-align: right;\">              512</td><td style=\"text-align: right;\">        200</td><td style=\"text-align: right;\"> 0.0100219  </td></tr>\n",
       "<tr><td>TrainLightGCN_151fa638</td><td>TERMINATED</td><td>147.96.81.131:2533413</td><td style=\"text-align: right;\">           6</td><td style=\"text-align: right;\">            1</td><td style=\"text-align: right;\">              2</td><td>2023-06-27T00:00:00</td><td style=\"text-align: right;\">0.00322104 </td><td style=\"text-align: right;\">         0.0041</td><td>21d          </td><td style=\"text-align: right;\">    40</td><td style=\"text-align: right;\">        188.78  </td><td style=\"text-align: right;\">               64</td><td style=\"text-align: right;\">        200</td><td style=\"text-align: right;\"> 0.117788   </td></tr>\n",
       "<tr><td>TrainLightGCN_a2cbbcd3</td><td>TERMINATED</td><td>147.96.81.131:2533724</td><td style=\"text-align: right;\">           7</td><td style=\"text-align: right;\">            4</td><td style=\"text-align: right;\">             59</td><td>2023-06-27T00:00:00</td><td style=\"text-align: right;\">1.19626e-06</td><td style=\"text-align: right;\">         0.0206</td><td>21d          </td><td style=\"text-align: right;\">    40</td><td style=\"text-align: right;\">         65.1501</td><td style=\"text-align: right;\">              128</td><td style=\"text-align: right;\">        200</td><td style=\"text-align: right;\"> 0.00376581 </td></tr>\n",
       "<tr><td>TrainLightGCN_2799158e</td><td>TERMINATED</td><td>147.96.81.131:2533872</td><td style=\"text-align: right;\">           8</td><td style=\"text-align: right;\">            2</td><td style=\"text-align: right;\">              3</td><td>2023-06-27T00:00:00</td><td style=\"text-align: right;\">1.6069e-07 </td><td style=\"text-align: right;\">         0.7243</td><td>30d          </td><td style=\"text-align: right;\">    40</td><td style=\"text-align: right;\">         54.7179</td><td style=\"text-align: right;\">              256</td><td style=\"text-align: right;\">        200</td><td style=\"text-align: right;\"> 1.44813    </td></tr>\n",
       "<tr><td>TrainLightGCN_aae0bf4d</td><td>TERMINATED</td><td>147.96.81.131:2532630</td><td style=\"text-align: right;\">           7</td><td style=\"text-align: right;\">            1</td><td style=\"text-align: right;\">              7</td><td>2023-06-27T00:00:00</td><td style=\"text-align: right;\">3.41241e-05</td><td style=\"text-align: right;\">         0.0001</td><td>90d          </td><td style=\"text-align: right;\">    15</td><td style=\"text-align: right;\">        311.263 </td><td style=\"text-align: right;\">              128</td><td style=\"text-align: right;\">         75</td><td style=\"text-align: right;\"> 0.161602   </td></tr>\n",
       "<tr><td>TrainLightGCN_09fe98a0</td><td>TERMINATED</td><td>147.96.81.131:2532508</td><td style=\"text-align: right;\">           6</td><td style=\"text-align: right;\">            2</td><td style=\"text-align: right;\">             13</td><td>2023-06-27T00:00:00</td><td style=\"text-align: right;\">2.87176e-06</td><td style=\"text-align: right;\">         0.0292</td><td>60d          </td><td style=\"text-align: right;\">    17</td><td style=\"text-align: right;\">        311.992 </td><td style=\"text-align: right;\">               64</td><td style=\"text-align: right;\">         85</td><td style=\"text-align: right;\"> 0.0338663  </td></tr>\n",
       "<tr><td>TrainLightGCN_5357a2b3</td><td>TERMINATED</td><td>147.96.81.131:2533113</td><td style=\"text-align: right;\">           7</td><td style=\"text-align: right;\">            2</td><td style=\"text-align: right;\">            152</td><td>2023-06-27T00:00:00</td><td style=\"text-align: right;\">3.19475e-07</td><td style=\"text-align: right;\">         0.0575</td><td>21d          </td><td style=\"text-align: right;\">    40</td><td style=\"text-align: right;\">        154.688 </td><td style=\"text-align: right;\">              128</td><td style=\"text-align: right;\">        200</td><td style=\"text-align: right;\"> 0.0530029  </td></tr>\n",
       "<tr><td>TrainLightGCN_baf7fb8e</td><td>TERMINATED</td><td>147.96.81.131:2533236</td><td style=\"text-align: right;\">           8</td><td style=\"text-align: right;\">            4</td><td style=\"text-align: right;\">              1</td><td>2023-06-27T00:00:00</td><td style=\"text-align: right;\">0.000339823</td><td style=\"text-align: right;\">         0.1245</td><td>30d          </td><td style=\"text-align: right;\">    40</td><td style=\"text-align: right;\">        136.998 </td><td style=\"text-align: right;\">              256</td><td style=\"text-align: right;\">        200</td><td style=\"text-align: right;\"> 0.170015   </td></tr>\n",
       "<tr><td>TrainLightGCN_e6f95193</td><td>TERMINATED</td><td>147.96.81.131:2529600</td><td style=\"text-align: right;\">           8</td><td style=\"text-align: right;\">            3</td><td style=\"text-align: right;\">            876</td><td>2023-06-27T00:00:00</td><td style=\"text-align: right;\">3.48799e-07</td><td style=\"text-align: right;\">         0.0079</td><td>10YE         </td><td style=\"text-align: right;\">     1</td><td style=\"text-align: right;\">       1109.93  </td><td style=\"text-align: right;\">              256</td><td style=\"text-align: right;\">          5</td><td style=\"text-align: right;\"> 0.044962   </td></tr>\n",
       "<tr><td>TrainLightGCN_3d689e84</td><td>TERMINATED</td><td>147.96.81.131:2531884</td><td style=\"text-align: right;\">           7</td><td style=\"text-align: right;\">            4</td><td style=\"text-align: right;\">              3</td><td>2023-06-27T00:00:00</td><td style=\"text-align: right;\">8.26372e-07</td><td style=\"text-align: right;\">         0.0123</td><td>10YE         </td><td style=\"text-align: right;\">     2</td><td style=\"text-align: right;\">        523.959 </td><td style=\"text-align: right;\">              128</td><td style=\"text-align: right;\">         10</td><td style=\"text-align: right;\"> 0.0455764  </td></tr>\n",
       "<tr><td>TrainLightGCN_c09d25e6</td><td>TERMINATED</td><td>147.96.81.131:2532808</td><td style=\"text-align: right;\">           8</td><td style=\"text-align: right;\">            4</td><td style=\"text-align: right;\">              2</td><td>2023-06-27T00:00:00</td><td style=\"text-align: right;\">1.7677e-07 </td><td style=\"text-align: right;\">         0.0008</td><td>21d          </td><td style=\"text-align: right;\">    40</td><td style=\"text-align: right;\">        106.864 </td><td style=\"text-align: right;\">              256</td><td style=\"text-align: right;\">        200</td><td style=\"text-align: right;\"> 0.13863    </td></tr>\n",
       "<tr><td>TrainLightGCN_425822a3</td><td>TERMINATED</td><td>147.96.81.131:2532045</td><td style=\"text-align: right;\">           6</td><td style=\"text-align: right;\">            2</td><td style=\"text-align: right;\">              1</td><td>2023-06-27T00:00:00</td><td style=\"text-align: right;\">3.76904e-07</td><td style=\"text-align: right;\">         0.1371</td><td>21d          </td><td style=\"text-align: right;\">    32</td><td style=\"text-align: right;\">        311.322 </td><td style=\"text-align: right;\">               64</td><td style=\"text-align: right;\">        160</td><td style=\"text-align: right;\"> 0.21703    </td></tr>\n",
       "<tr><td>TrainLightGCN_fcf79d72</td><td>TERMINATED</td><td>147.96.81.131:2532351</td><td style=\"text-align: right;\">           7</td><td style=\"text-align: right;\">            1</td><td style=\"text-align: right;\">            520</td><td>2023-06-27T00:00:00</td><td style=\"text-align: right;\">1.64692e-06</td><td style=\"text-align: right;\">         0.0017</td><td>21d          </td><td style=\"text-align: right;\">    40</td><td style=\"text-align: right;\">        198.707 </td><td style=\"text-align: right;\">              128</td><td style=\"text-align: right;\">        200</td><td style=\"text-align: right;\"> 0.000716661</td></tr>\n",
       "<tr><td>TrainLightGCN_c2b0a47d</td><td>TERMINATED</td><td>147.96.81.131:2531273</td><td style=\"text-align: right;\">           7</td><td style=\"text-align: right;\">            1</td><td style=\"text-align: right;\">              9</td><td>2023-06-27T00:00:00</td><td style=\"text-align: right;\">6.89828e-05</td><td style=\"text-align: right;\">         0.0005</td><td>10YE         </td><td style=\"text-align: right;\">     2</td><td style=\"text-align: right;\">        530.136 </td><td style=\"text-align: right;\">              128</td><td style=\"text-align: right;\">         10</td><td style=\"text-align: right;\"> 0.0346909  </td></tr>\n",
       "<tr><td>TrainLightGCN_c69a62ef</td><td>TERMINATED</td><td>147.96.81.131:2532195</td><td style=\"text-align: right;\">           7</td><td style=\"text-align: right;\">            3</td><td style=\"text-align: right;\">             21</td><td>2023-06-27T00:00:00</td><td style=\"text-align: right;\">7.42636e-06</td><td style=\"text-align: right;\">         0.439 </td><td>21d          </td><td style=\"text-align: right;\">    40</td><td style=\"text-align: right;\">        206.37  </td><td style=\"text-align: right;\">              128</td><td style=\"text-align: right;\">        200</td><td style=\"text-align: right;\"> 2.96003    </td></tr>\n",
       "<tr><td>TrainLightGCN_493543fa</td><td>TERMINATED</td><td>147.96.81.131:2531710</td><td style=\"text-align: right;\">           7</td><td style=\"text-align: right;\">            2</td><td style=\"text-align: right;\">             37</td><td>2023-06-27T00:00:00</td><td style=\"text-align: right;\">0.000105669</td><td style=\"text-align: right;\">         0.2966</td><td>90d          </td><td style=\"text-align: right;\">    10</td><td style=\"text-align: right;\">        310.551 </td><td style=\"text-align: right;\">              128</td><td style=\"text-align: right;\">         50</td><td style=\"text-align: right;\"> 4.35182    </td></tr>\n",
       "<tr><td>TrainLightGCN_fff6d3f8</td><td>TERMINATED</td><td>147.96.81.131:2531587</td><td style=\"text-align: right;\">           6</td><td style=\"text-align: right;\">            4</td><td style=\"text-align: right;\">              1</td><td>2023-06-27T00:00:00</td><td style=\"text-align: right;\">3.81706e-06</td><td style=\"text-align: right;\">         0.0724</td><td>21d          </td><td style=\"text-align: right;\">    31</td><td style=\"text-align: right;\">        311.869 </td><td style=\"text-align: right;\">               64</td><td style=\"text-align: right;\">        155</td><td style=\"text-align: right;\"> 0.172573   </td></tr>\n",
       "<tr><td>TrainLightGCN_2783110d</td><td>TERMINATED</td><td>147.96.81.131:2531429</td><td style=\"text-align: right;\">           7</td><td style=\"text-align: right;\">            3</td><td style=\"text-align: right;\">              2</td><td>2023-06-27T00:00:00</td><td style=\"text-align: right;\">2.08129e-05</td><td style=\"text-align: right;\">         0.0444</td><td>60d          </td><td style=\"text-align: right;\">    23</td><td style=\"text-align: right;\">        320.816 </td><td style=\"text-align: right;\">              128</td><td style=\"text-align: right;\">        115</td><td style=\"text-align: right;\"> 0.097266   </td></tr>\n",
       "<tr><td>TrainLightGCN_703cf0c8</td><td>TERMINATED</td><td>147.96.81.131:2531125</td><td style=\"text-align: right;\">           6</td><td style=\"text-align: right;\">            2</td><td style=\"text-align: right;\">              4</td><td>2023-06-27T00:00:00</td><td style=\"text-align: right;\">2.10092e-06</td><td style=\"text-align: right;\">         0.0002</td><td>21d          </td><td style=\"text-align: right;\">    31</td><td style=\"text-align: right;\">        316.055 </td><td style=\"text-align: right;\">               64</td><td style=\"text-align: right;\">        155</td><td style=\"text-align: right;\"> 0.116873   </td></tr>\n",
       "<tr><td>TrainLightGCN_966dc815</td><td>TERMINATED</td><td>147.96.81.131:2530822</td><td style=\"text-align: right;\">           6</td><td style=\"text-align: right;\">            3</td><td style=\"text-align: right;\">            141</td><td>2023-06-27T00:00:00</td><td style=\"text-align: right;\">8.37703e-07</td><td style=\"text-align: right;\">         0.0004</td><td>90d          </td><td style=\"text-align: right;\">     6</td><td style=\"text-align: right;\">        359.638 </td><td style=\"text-align: right;\">               64</td><td style=\"text-align: right;\">         30</td><td style=\"text-align: right;\"> 0.0141502  </td></tr>\n",
       "<tr><td>TrainLightGCN_a2ca42f9</td><td>TERMINATED</td><td>147.96.81.131:2530671</td><td style=\"text-align: right;\">           8</td><td style=\"text-align: right;\">            4</td><td style=\"text-align: right;\">              1</td><td>2023-06-27T00:00:00</td><td style=\"text-align: right;\">1.48786e-06</td><td style=\"text-align: right;\">         0.0011</td><td>60d          </td><td style=\"text-align: right;\">    40</td><td style=\"text-align: right;\">        282.044 </td><td style=\"text-align: right;\">              256</td><td style=\"text-align: right;\">        200</td><td style=\"text-align: right;\"> 0.199156   </td></tr>\n",
       "<tr><td>TrainLightGCN_4772a459</td><td>TERMINATED</td><td>147.96.81.131:2530972</td><td style=\"text-align: right;\">           7</td><td style=\"text-align: right;\">            2</td><td style=\"text-align: right;\">              6</td><td>2023-06-27T00:00:00</td><td style=\"text-align: right;\">5.44356e-06</td><td style=\"text-align: right;\">         0.0187</td><td>21d          </td><td style=\"text-align: right;\">    40</td><td style=\"text-align: right;\">        205.169 </td><td style=\"text-align: right;\">              128</td><td style=\"text-align: right;\">        200</td><td style=\"text-align: right;\"> 0.013399   </td></tr>\n",
       "<tr><td>TrainLightGCN_ed4b16c8</td><td>TERMINATED</td><td>147.96.81.131:2530516</td><td style=\"text-align: right;\">           6</td><td style=\"text-align: right;\">            2</td><td style=\"text-align: right;\">             18</td><td>2023-06-27T00:00:00</td><td style=\"text-align: right;\">5.9738e-07 </td><td style=\"text-align: right;\">         0.9645</td><td>21d          </td><td style=\"text-align: right;\">    32</td><td style=\"text-align: right;\">        313.079 </td><td style=\"text-align: right;\">               64</td><td style=\"text-align: right;\">        160</td><td style=\"text-align: right;\">14.7131     </td></tr>\n",
       "<tr><td>TrainLightGCN_29126bbe</td><td>TERMINATED</td><td>147.96.81.131:2530209</td><td style=\"text-align: right;\">           9</td><td style=\"text-align: right;\">            3</td><td style=\"text-align: right;\">              1</td><td>2023-06-27T00:00:00</td><td style=\"text-align: right;\">4.33313e-06</td><td style=\"text-align: right;\">         0.0985</td><td>10YE         </td><td style=\"text-align: right;\">     5</td><td style=\"text-align: right;\">        322.072 </td><td style=\"text-align: right;\">              512</td><td style=\"text-align: right;\">         25</td><td style=\"text-align: right;\"> 0.266166   </td></tr>\n",
       "<tr><td>TrainLightGCN_95c7d110</td><td>TERMINATED</td><td>147.96.81.131:2530057</td><td style=\"text-align: right;\">           8</td><td style=\"text-align: right;\">            2</td><td style=\"text-align: right;\">              5</td><td>2023-06-27T00:00:00</td><td style=\"text-align: right;\">1.61954e-07</td><td style=\"text-align: right;\">         0.0098</td><td>60d          </td><td style=\"text-align: right;\">    40</td><td style=\"text-align: right;\">        272.086 </td><td style=\"text-align: right;\">              256</td><td style=\"text-align: right;\">        200</td><td style=\"text-align: right;\"> 0.0244482  </td></tr>\n",
       "<tr><td>TrainLightGCN_2168e428</td><td>TERMINATED</td><td>147.96.81.131:2530362</td><td style=\"text-align: right;\">           7</td><td style=\"text-align: right;\">            1</td><td style=\"text-align: right;\">             47</td><td>2023-06-27T00:00:00</td><td style=\"text-align: right;\">1.80375e-05</td><td style=\"text-align: right;\">         0.0026</td><td>21d          </td><td style=\"text-align: right;\">    40</td><td style=\"text-align: right;\">        194.817 </td><td style=\"text-align: right;\">              128</td><td style=\"text-align: right;\">        200</td><td style=\"text-align: right;\"> 0.000812341</td></tr>\n",
       "<tr><td>TrainLightGCN_01285197</td><td>TERMINATED</td><td>147.96.81.131:2529727</td><td style=\"text-align: right;\">           9</td><td style=\"text-align: right;\">            1</td><td style=\"text-align: right;\">              1</td><td>2023-06-27T00:00:00</td><td style=\"text-align: right;\">1.0985e-06 </td><td style=\"text-align: right;\">         0.0041</td><td>90d          </td><td style=\"text-align: right;\">    40</td><td style=\"text-align: right;\">        317.066 </td><td style=\"text-align: right;\">              512</td><td style=\"text-align: right;\">        200</td><td style=\"text-align: right;\"> 0.158367   </td></tr>\n",
       "<tr><td>TrainLightGCN_51de263e</td><td>TERMINATED</td><td>147.96.81.131:2529452</td><td style=\"text-align: right;\">           6</td><td style=\"text-align: right;\">            4</td><td style=\"text-align: right;\">             49</td><td>2023-06-27T00:00:00</td><td style=\"text-align: right;\">1.07841e-07</td><td style=\"text-align: right;\">         0.0003</td><td>21d          </td><td style=\"text-align: right;\">    34</td><td style=\"text-align: right;\">        317.994 </td><td style=\"text-align: right;\">               64</td><td style=\"text-align: right;\">        170</td><td style=\"text-align: right;\"> 0.0122908  </td></tr>\n",
       "<tr><td>TrainLightGCN_f4dc3a1f</td><td>TERMINATED</td><td>147.96.81.131:2529906</td><td style=\"text-align: right;\">           7</td><td style=\"text-align: right;\">            4</td><td style=\"text-align: right;\">              2</td><td>2023-06-27T00:00:00</td><td style=\"text-align: right;\">8.37682e-07</td><td style=\"text-align: right;\">         0.0004</td><td>21d          </td><td style=\"text-align: right;\">    40</td><td style=\"text-align: right;\">        192.042 </td><td style=\"text-align: right;\">              128</td><td style=\"text-align: right;\">        200</td><td style=\"text-align: right;\"> 0.174085   </td></tr>\n",
       "<tr><td>TrainLightGCN_0ca51dab</td><td>TERMINATED</td><td>147.96.81.131:2528695</td><td style=\"text-align: right;\">           8</td><td style=\"text-align: right;\">            1</td><td style=\"text-align: right;\">             14</td><td>2023-06-27T00:00:00</td><td style=\"text-align: right;\">0.000432266</td><td style=\"text-align: right;\">         0.0187</td><td>90d          </td><td style=\"text-align: right;\">    23</td><td style=\"text-align: right;\">        314.774 </td><td style=\"text-align: right;\">              256</td><td style=\"text-align: right;\">        115</td><td style=\"text-align: right;\"> 0.0237102  </td></tr>\n",
       "<tr><td>TrainLightGCN_ea839486</td><td>TERMINATED</td><td>147.96.81.131:2529276</td><td style=\"text-align: right;\">           7</td><td style=\"text-align: right;\">            3</td><td style=\"text-align: right;\">              3</td><td>2023-06-27T00:00:00</td><td style=\"text-align: right;\">2.18208e-07</td><td style=\"text-align: right;\">         0.0013</td><td>21d          </td><td style=\"text-align: right;\">    40</td><td style=\"text-align: right;\">        189.809 </td><td style=\"text-align: right;\">              128</td><td style=\"text-align: right;\">        200</td><td style=\"text-align: right;\"> 0.0673989  </td></tr>\n",
       "<tr><td>TrainLightGCN_7deb8e26</td><td>TERMINATED</td><td>147.96.81.131:2529154</td><td style=\"text-align: right;\">           9</td><td style=\"text-align: right;\">            4</td><td style=\"text-align: right;\">             18</td><td>2023-06-27T00:00:00</td><td style=\"text-align: right;\">5.83435e-07</td><td style=\"text-align: right;\">         0.0132</td><td>60d          </td><td style=\"text-align: right;\">    40</td><td style=\"text-align: right;\">        146.11  </td><td style=\"text-align: right;\">              512</td><td style=\"text-align: right;\">        200</td><td style=\"text-align: right;\"> 0.00287228 </td></tr>\n",
       "<tr><td>TrainLightGCN_911d9998</td><td>TERMINATED</td><td>147.96.81.131:2526890</td><td style=\"text-align: right;\">           7</td><td style=\"text-align: right;\">            4</td><td style=\"text-align: right;\">             97</td><td>2023-06-27T00:00:00</td><td style=\"text-align: right;\">6.09932e-05</td><td style=\"text-align: right;\">         0.0021</td><td>10YE         </td><td style=\"text-align: right;\">     1</td><td style=\"text-align: right;\">        440.921 </td><td style=\"text-align: right;\">              128</td><td style=\"text-align: right;\">          5</td><td style=\"text-align: right;\"> 0.00922834 </td></tr>\n",
       "<tr><td>TrainLightGCN_cb90b34e</td><td>TERMINATED</td><td>147.96.81.131:2528844</td><td style=\"text-align: right;\">           7</td><td style=\"text-align: right;\">            4</td><td style=\"text-align: right;\">              1</td><td>2023-06-27T00:00:00</td><td style=\"text-align: right;\">2.58272e-07</td><td style=\"text-align: right;\">         0.006 </td><td>21d          </td><td style=\"text-align: right;\">    40</td><td style=\"text-align: right;\">        162.849 </td><td style=\"text-align: right;\">              128</td><td style=\"text-align: right;\">        200</td><td style=\"text-align: right;\"> 0.179008   </td></tr>\n",
       "<tr><td>TrainLightGCN_6dd13977</td><td>TERMINATED</td><td>147.96.81.131:2528547</td><td style=\"text-align: right;\">           8</td><td style=\"text-align: right;\">            1</td><td style=\"text-align: right;\">              2</td><td>2023-06-27T00:00:00</td><td style=\"text-align: right;\">1.1537e-07 </td><td style=\"text-align: right;\">         0.0257</td><td>30d          </td><td style=\"text-align: right;\">    40</td><td style=\"text-align: right;\">         97.9645</td><td style=\"text-align: right;\">              256</td><td style=\"text-align: right;\">        200</td><td style=\"text-align: right;\"> 0.0908289  </td></tr>\n",
       "<tr><td>TrainLightGCN_23ee01c2</td><td>TERMINATED</td><td>147.96.81.131:2528397</td><td style=\"text-align: right;\">           8</td><td style=\"text-align: right;\">            1</td><td style=\"text-align: right;\">              1</td><td>2023-06-27T00:00:00</td><td style=\"text-align: right;\">2.23233e-07</td><td style=\"text-align: right;\">         0.0299</td><td>30d          </td><td style=\"text-align: right;\">    40</td><td style=\"text-align: right;\">        101.304 </td><td style=\"text-align: right;\">              256</td><td style=\"text-align: right;\">        200</td><td style=\"text-align: right;\"> 0.160487   </td></tr>\n",
       "<tr><td>TrainLightGCN_a0c99daa</td><td>TERMINATED</td><td>147.96.81.131:2529000</td><td style=\"text-align: right;\">           9</td><td style=\"text-align: right;\">            3</td><td style=\"text-align: right;\">              2</td><td>2023-06-27T00:00:00</td><td style=\"text-align: right;\">1.07446e-07</td><td style=\"text-align: right;\">         0.0443</td><td>21d          </td><td style=\"text-align: right;\">    40</td><td style=\"text-align: right;\">         45.2077</td><td style=\"text-align: right;\">              512</td><td style=\"text-align: right;\">        200</td><td style=\"text-align: right;\"> 0.0857623  </td></tr>\n",
       "<tr><td>TrainLightGCN_32a9f361</td><td>TERMINATED</td><td>147.96.81.131:2528246</td><td style=\"text-align: right;\">           8</td><td style=\"text-align: right;\">            4</td><td style=\"text-align: right;\">              3</td><td>2023-06-27T00:00:00</td><td style=\"text-align: right;\">1.34033e-05</td><td style=\"text-align: right;\">         0.2842</td><td>30d          </td><td style=\"text-align: right;\">    40</td><td style=\"text-align: right;\">        103.462 </td><td style=\"text-align: right;\">              256</td><td style=\"text-align: right;\">        200</td><td style=\"text-align: right;\"> 0.145637   </td></tr>\n",
       "<tr><td>TrainLightGCN_eaa2eb54</td><td>TERMINATED</td><td>147.96.81.131:2528099</td><td style=\"text-align: right;\">           8</td><td style=\"text-align: right;\">            3</td><td style=\"text-align: right;\">              9</td><td>2023-06-27T00:00:00</td><td style=\"text-align: right;\">9.85825e-06</td><td style=\"text-align: right;\">         0.0001</td><td>30d          </td><td style=\"text-align: right;\">    40</td><td style=\"text-align: right;\">        106.428 </td><td style=\"text-align: right;\">              256</td><td style=\"text-align: right;\">        200</td><td style=\"text-align: right;\"> 0.175493   </td></tr>\n",
       "<tr><td>TrainLightGCN_82753f82</td><td>TERMINATED</td><td>147.96.81.131:2527952</td><td style=\"text-align: right;\">           8</td><td style=\"text-align: right;\">            3</td><td style=\"text-align: right;\">              2</td><td>2023-06-27T00:00:00</td><td style=\"text-align: right;\">4.57864e-07</td><td style=\"text-align: right;\">         0.0008</td><td>21d          </td><td style=\"text-align: right;\">    40</td><td style=\"text-align: right;\">         80.1646</td><td style=\"text-align: right;\">              256</td><td style=\"text-align: right;\">        200</td><td style=\"text-align: right;\"> 0.13563    </td></tr>\n",
       "<tr><td>TrainLightGCN_43f0c01a</td><td>TERMINATED</td><td>147.96.81.131:2526739</td><td style=\"text-align: right;\">           7</td><td style=\"text-align: right;\">            2</td><td style=\"text-align: right;\">             27</td><td>2023-06-27T00:00:00</td><td style=\"text-align: right;\">3.06006e-05</td><td style=\"text-align: right;\">         0.2056</td><td>30d          </td><td style=\"text-align: right;\">    40</td><td style=\"text-align: right;\">        302.815 </td><td style=\"text-align: right;\">              128</td><td style=\"text-align: right;\">        200</td><td style=\"text-align: right;\"> 0.76559    </td></tr>\n",
       "<tr><td>TrainLightGCN_151ca6ad</td><td>TERMINATED</td><td>147.96.81.131:2527650</td><td style=\"text-align: right;\">           8</td><td style=\"text-align: right;\">            4</td><td style=\"text-align: right;\">              2</td><td>2023-06-27T00:00:00</td><td style=\"text-align: right;\">1.19342e-07</td><td style=\"text-align: right;\">         0.0032</td><td>21d          </td><td style=\"text-align: right;\">    40</td><td style=\"text-align: right;\">         94.0442</td><td style=\"text-align: right;\">              256</td><td style=\"text-align: right;\">        200</td><td style=\"text-align: right;\"> 0.0977068  </td></tr>\n",
       "<tr><td>TrainLightGCN_ed5a047e</td><td>TERMINATED</td><td>147.96.81.131:2526588</td><td style=\"text-align: right;\">           8</td><td style=\"text-align: right;\">            2</td><td style=\"text-align: right;\">            241</td><td>2023-06-27T00:00:00</td><td style=\"text-align: right;\">5.10482e-06</td><td style=\"text-align: right;\">         0.0017</td><td>90d          </td><td style=\"text-align: right;\">    20</td><td style=\"text-align: right;\">        312.176 </td><td style=\"text-align: right;\">              256</td><td style=\"text-align: right;\">        100</td><td style=\"text-align: right;\"> 0.000735248</td></tr>\n",
       "<tr><td>TrainLightGCN_36e69635</td><td>TERMINATED</td><td>147.96.81.131:2527801</td><td style=\"text-align: right;\">           9</td><td style=\"text-align: right;\">            1</td><td style=\"text-align: right;\">             11</td><td>2023-06-27T00:00:00</td><td style=\"text-align: right;\">0.0083603  </td><td style=\"text-align: right;\">         0.0058</td><td>21d          </td><td style=\"text-align: right;\">    40</td><td style=\"text-align: right;\">         55.0034</td><td style=\"text-align: right;\">              512</td><td style=\"text-align: right;\">        200</td><td style=\"text-align: right;\"> 0.044349   </td></tr>\n",
       "<tr><td>TrainLightGCN_8ec5f7da</td><td>TERMINATED</td><td>147.96.81.131:2527346</td><td style=\"text-align: right;\">           8</td><td style=\"text-align: right;\">            1</td><td style=\"text-align: right;\">              1</td><td>2023-06-27T00:00:00</td><td style=\"text-align: right;\">2.15794e-07</td><td style=\"text-align: right;\">         0.0242</td><td>21d          </td><td style=\"text-align: right;\">    40</td><td style=\"text-align: right;\">        117.515 </td><td style=\"text-align: right;\">              256</td><td style=\"text-align: right;\">        200</td><td style=\"text-align: right;\"> 0.247889   </td></tr>\n",
       "<tr><td>TrainLightGCN_1e6ac037</td><td>TERMINATED</td><td>147.96.81.131:2524443</td><td style=\"text-align: right;\">           6</td><td style=\"text-align: right;\">            2</td><td style=\"text-align: right;\">             74</td><td>2023-06-27T00:00:00</td><td style=\"text-align: right;\">8.63799e-07</td><td style=\"text-align: right;\">         0.1736</td><td>10YE         </td><td style=\"text-align: right;\">     1</td><td style=\"text-align: right;\">        724.299 </td><td style=\"text-align: right;\">               64</td><td style=\"text-align: right;\">          5</td><td style=\"text-align: right;\"> 8.0736     </td></tr>\n",
       "<tr><td>TrainLightGCN_0b760bd9</td><td>TERMINATED</td><td>147.96.81.131:2527015</td><td style=\"text-align: right;\">           8</td><td style=\"text-align: right;\">            2</td><td style=\"text-align: right;\">              3</td><td>2023-06-27T00:00:00</td><td style=\"text-align: right;\">0.00158506 </td><td style=\"text-align: right;\">         0.0001</td><td>30d          </td><td style=\"text-align: right;\">    40</td><td style=\"text-align: right;\">        189.796 </td><td style=\"text-align: right;\">              256</td><td style=\"text-align: right;\">        200</td><td style=\"text-align: right;\"> 0.238387   </td></tr>\n",
       "<tr><td>TrainLightGCN_4ff53707</td><td>TERMINATED</td><td>147.96.81.131:2527493</td><td style=\"text-align: right;\">           9</td><td style=\"text-align: right;\">            1</td><td style=\"text-align: right;\">              5</td><td>2023-06-27T00:00:00</td><td style=\"text-align: right;\">0.00426168 </td><td style=\"text-align: right;\">         0.0509</td><td>21d          </td><td style=\"text-align: right;\">    40</td><td style=\"text-align: right;\">         69.2031</td><td style=\"text-align: right;\">              512</td><td style=\"text-align: right;\">        200</td><td style=\"text-align: right;\"> 0.0606615  </td></tr>\n",
       "<tr><td>TrainLightGCN_8ea9cc70</td><td>TERMINATED</td><td>147.96.81.131:2525697</td><td style=\"text-align: right;\">           8</td><td style=\"text-align: right;\">            3</td><td style=\"text-align: right;\">            447</td><td>2023-06-27T00:00:00</td><td style=\"text-align: right;\">0.000129301</td><td style=\"text-align: right;\">         0.0008</td><td>60d          </td><td style=\"text-align: right;\">    40</td><td style=\"text-align: right;\">        310.961 </td><td style=\"text-align: right;\">              256</td><td style=\"text-align: right;\">        200</td><td style=\"text-align: right;\"> 0.00315442 </td></tr>\n",
       "<tr><td>TrainLightGCN_a9fcb0a4</td><td>TERMINATED</td><td>147.96.81.131:2525394</td><td style=\"text-align: right;\">           9</td><td style=\"text-align: right;\">            2</td><td style=\"text-align: right;\">            364</td><td>2023-06-27T00:00:00</td><td style=\"text-align: right;\">2.08113e-06</td><td style=\"text-align: right;\">         0.0002</td><td>90d          </td><td style=\"text-align: right;\">    35</td><td style=\"text-align: right;\">        317.931 </td><td style=\"text-align: right;\">              512</td><td style=\"text-align: right;\">        175</td><td style=\"text-align: right;\"> 0.00417547 </td></tr>\n",
       "<tr><td>TrainLightGCN_d8161390</td><td>TERMINATED</td><td>147.96.81.131:2527185</td><td style=\"text-align: right;\">           9</td><td style=\"text-align: right;\">            1</td><td style=\"text-align: right;\">              5</td><td>2023-06-27T00:00:00</td><td style=\"text-align: right;\">8.83463e-06</td><td style=\"text-align: right;\">         0.0039</td><td>21d          </td><td style=\"text-align: right;\">    40</td><td style=\"text-align: right;\">         78.8452</td><td style=\"text-align: right;\">              512</td><td style=\"text-align: right;\">        200</td><td style=\"text-align: right;\"> 0.0347689  </td></tr>\n",
       "<tr><td>TrainLightGCN_882654a9</td><td>TERMINATED</td><td>147.96.81.131:2525246</td><td style=\"text-align: right;\">           7</td><td style=\"text-align: right;\">            2</td><td style=\"text-align: right;\">             96</td><td>2023-06-27T00:00:00</td><td style=\"text-align: right;\">4.92424e-05</td><td style=\"text-align: right;\">         0.0784</td><td>21d          </td><td style=\"text-align: right;\">    40</td><td style=\"text-align: right;\">        225.907 </td><td style=\"text-align: right;\">              128</td><td style=\"text-align: right;\">        200</td><td style=\"text-align: right;\"> 0.17427    </td></tr>\n",
       "<tr><td>TrainLightGCN_8d92efc0</td><td>TERMINATED</td><td>147.96.81.131:2526436</td><td style=\"text-align: right;\">           8</td><td style=\"text-align: right;\">            4</td><td style=\"text-align: right;\">              7</td><td>2023-06-27T00:00:00</td><td style=\"text-align: right;\">2.91903e-06</td><td style=\"text-align: right;\">         0.1593</td><td>21d          </td><td style=\"text-align: right;\">    40</td><td style=\"text-align: right;\">         96.3907</td><td style=\"text-align: right;\">              256</td><td style=\"text-align: right;\">        200</td><td style=\"text-align: right;\"> 0.0669819  </td></tr>\n",
       "<tr><td>TrainLightGCN_e86ef336</td><td>TERMINATED</td><td>147.96.81.131:2525549</td><td style=\"text-align: right;\">           8</td><td style=\"text-align: right;\">            3</td><td style=\"text-align: right;\">             86</td><td>2023-06-27T00:00:00</td><td style=\"text-align: right;\">0.000166749</td><td style=\"text-align: right;\">         0.0002</td><td>30d          </td><td style=\"text-align: right;\">    40</td><td style=\"text-align: right;\">        158.268 </td><td style=\"text-align: right;\">              256</td><td style=\"text-align: right;\">        200</td><td style=\"text-align: right;\"> 0.0235649  </td></tr>\n",
       "<tr><td>TrainLightGCN_01eaf8b2</td><td>TERMINATED</td><td>147.96.81.131:2525096</td><td style=\"text-align: right;\">           8</td><td style=\"text-align: right;\">            2</td><td style=\"text-align: right;\">             26</td><td>2023-06-27T00:00:00</td><td style=\"text-align: right;\">1.42721e-06</td><td style=\"text-align: right;\">         0.6694</td><td>30d          </td><td style=\"text-align: right;\">    40</td><td style=\"text-align: right;\">        185.869 </td><td style=\"text-align: right;\">              256</td><td style=\"text-align: right;\">        200</td><td style=\"text-align: right;\"> 5.54424    </td></tr>\n",
       "<tr><td>TrainLightGCN_4507fdb9</td><td>TERMINATED</td><td>147.96.81.131:2524931</td><td style=\"text-align: right;\">           7</td><td style=\"text-align: right;\">            4</td><td style=\"text-align: right;\">            219</td><td>2023-06-27T00:00:00</td><td style=\"text-align: right;\">0.000261231</td><td style=\"text-align: right;\">         0.095 </td><td>60d          </td><td style=\"text-align: right;\">    16</td><td style=\"text-align: right;\">        306.686 </td><td style=\"text-align: right;\">              128</td><td style=\"text-align: right;\">         80</td><td style=\"text-align: right;\"> 0.713197   </td></tr>\n",
       "<tr><td>TrainLightGCN_1e8fb465</td><td>TERMINATED</td><td>147.96.81.131:2524594</td><td style=\"text-align: right;\">           9</td><td style=\"text-align: right;\">            3</td><td style=\"text-align: right;\">            332</td><td>2023-06-27T00:00:00</td><td style=\"text-align: right;\">0.00221159 </td><td style=\"text-align: right;\">         0.4863</td><td>10YE         </td><td style=\"text-align: right;\">     1</td><td style=\"text-align: right;\">        394.644 </td><td style=\"text-align: right;\">              512</td><td style=\"text-align: right;\">          5</td><td style=\"text-align: right;\">56.1722     </td></tr>\n",
       "<tr><td>TrainLightGCN_b6c802a9</td><td>TERMINATED</td><td>147.96.81.131:2523851</td><td style=\"text-align: right;\">           7</td><td style=\"text-align: right;\">            4</td><td style=\"text-align: right;\">             32</td><td>2023-06-27T00:00:00</td><td style=\"text-align: right;\">1.24202e-06</td><td style=\"text-align: right;\">         0.015 </td><td>10YE         </td><td style=\"text-align: right;\">     1</td><td style=\"text-align: right;\">        384.362 </td><td style=\"text-align: right;\">              128</td><td style=\"text-align: right;\">          5</td><td style=\"text-align: right;\"> 0.0173587  </td></tr>\n",
       "<tr><td>TrainLightGCN_20316c03</td><td>TERMINATED</td><td>147.96.81.131:2523577</td><td style=\"text-align: right;\">           9</td><td style=\"text-align: right;\">            2</td><td style=\"text-align: right;\">              1</td><td>2023-06-27T00:00:00</td><td style=\"text-align: right;\">4.08901e-05</td><td style=\"text-align: right;\">         0.0262</td><td>10YE         </td><td style=\"text-align: right;\">     5</td><td style=\"text-align: right;\">        388.081 </td><td style=\"text-align: right;\">              512</td><td style=\"text-align: right;\">         25</td><td style=\"text-align: right;\"> 0.141738   </td></tr>\n",
       "<tr><td>TrainLightGCN_d6e57c16</td><td>TERMINATED</td><td>147.96.81.131:2524147</td><td style=\"text-align: right;\">           7</td><td style=\"text-align: right;\">            2</td><td style=\"text-align: right;\">             34</td><td>2023-06-27T00:00:00</td><td style=\"text-align: right;\">0.0007608  </td><td style=\"text-align: right;\">         0.0091</td><td>60d          </td><td style=\"text-align: right;\">    15</td><td style=\"text-align: right;\">        320.121 </td><td style=\"text-align: right;\">              128</td><td style=\"text-align: right;\">         75</td><td style=\"text-align: right;\"> 0.0112741  </td></tr>\n",
       "<tr><td>TrainLightGCN_0a26f7ff</td><td>TERMINATED</td><td>147.96.81.131:2524295</td><td style=\"text-align: right;\">           6</td><td style=\"text-align: right;\">            2</td><td style=\"text-align: right;\">            217</td><td>2023-06-27T00:00:00</td><td style=\"text-align: right;\">2.53991e-06</td><td style=\"text-align: right;\">         0.4785</td><td>21d          </td><td style=\"text-align: right;\">    21</td><td style=\"text-align: right;\">        311.591 </td><td style=\"text-align: right;\">               64</td><td style=\"text-align: right;\">        105</td><td style=\"text-align: right;\">10.4115     </td></tr>\n",
       "<tr><td>TrainLightGCN_4bea6f0d</td><td>TERMINATED</td><td>147.96.81.131:2523705</td><td style=\"text-align: right;\">           9</td><td style=\"text-align: right;\">            3</td><td style=\"text-align: right;\">            665</td><td>2023-06-27T00:00:00</td><td style=\"text-align: right;\">2.74456e-05</td><td style=\"text-align: right;\">         0.0092</td><td>90d          </td><td style=\"text-align: right;\">    24</td><td style=\"text-align: right;\">        321.741 </td><td style=\"text-align: right;\">              512</td><td style=\"text-align: right;\">        120</td><td style=\"text-align: right;\"> 0.00884162 </td></tr>\n",
       "<tr><td>TrainLightGCN_7a3888c3</td><td>TERMINATED</td><td>147.96.81.131:2524774</td><td style=\"text-align: right;\">           9</td><td style=\"text-align: right;\">            1</td><td style=\"text-align: right;\">              1</td><td>2023-06-27T00:00:00</td><td style=\"text-align: right;\">0.000699071</td><td style=\"text-align: right;\">         0.0029</td><td>21d          </td><td style=\"text-align: right;\">    40</td><td style=\"text-align: right;\">         95.2457</td><td style=\"text-align: right;\">              512</td><td style=\"text-align: right;\">        200</td><td style=\"text-align: right;\"> 0.203503   </td></tr>\n",
       "<tr><td>TrainLightGCN_41f2c97e</td><td>TERMINATED</td><td>147.96.81.131:2524002</td><td style=\"text-align: right;\">           9</td><td style=\"text-align: right;\">            2</td><td style=\"text-align: right;\">             86</td><td>2023-06-27T00:00:00</td><td style=\"text-align: right;\">0.00134325 </td><td style=\"text-align: right;\">         0.0006</td><td>21d          </td><td style=\"text-align: right;\">    40</td><td style=\"text-align: right;\">         63.2208</td><td style=\"text-align: right;\">              512</td><td style=\"text-align: right;\">        200</td><td style=\"text-align: right;\"> 0.0226462  </td></tr>\n",
       "</tbody>\n",
       "</table>\n",
       "  </div>\n",
       "</div>\n",
       "<style>\n",
       ".tuneStatus {\n",
       "  color: var(--jp-ui-font-color1);\n",
       "}\n",
       ".tuneStatus .systemInfo {\n",
       "  display: flex;\n",
       "  flex-direction: column;\n",
       "}\n",
       ".tuneStatus td {\n",
       "  white-space: nowrap;\n",
       "}\n",
       ".tuneStatus .trialStatus {\n",
       "  display: flex;\n",
       "  flex-direction: column;\n",
       "}\n",
       ".tuneStatus h3 {\n",
       "  font-weight: bold;\n",
       "}\n",
       ".tuneStatus .hDivider {\n",
       "  border-bottom-width: var(--jp-border-width);\n",
       "  border-bottom-color: var(--jp-border-color0);\n",
       "  border-bottom-style: solid;\n",
       "}\n",
       ".tuneStatus .vDivider {\n",
       "  border-left-width: var(--jp-border-width);\n",
       "  border-left-color: var(--jp-border-color0);\n",
       "  border-left-style: solid;\n",
       "  margin: 0.5em 1em 0.5em 1em;\n",
       "}\n",
       "</style>\n"
      ],
      "text/plain": [
       "<IPython.core.display.HTML object>"
      ]
     },
     "metadata": {},
     "output_type": "display_data"
    },
    {
     "name": "stderr",
     "output_type": "stream",
     "text": [
      "2024-09-05 08:56:08,267\tINFO tune_controller.py:444 -- Restoring the run from the latest experiment state file: experiment_state-2024-09-05_08-56-07.json\n"
     ]
    },
    {
     "name": "stderr",
     "output_type": "stream",
     "text": [
      "2024-09-05 08:56:08,967\tINFO tune.py:1009 -- Wrote the latest version of all result files and experiment state to '/home/daviddavo/ray_results3.11/PancakeSwap/LightGCN_3d_normalize_map@10_fold=2023-06-27T00:00:00_2024-08-30T17:27:29.962172' in 0.3634s.\n"
     ]
    },
    {
     "name": "stderr",
     "output_type": "stream",
     "text": [
      "2024-09-05 08:56:08,980\tINFO tune.py:1041 -- Total run time: 0.72 seconds (0.00 seconds for the tuning loop).\n"
     ]
    },
    {
     "name": "stdout",
     "output_type": "stream",
     "text": [
      "Finished training for fold 2023-06-27T00:00:00\n"
     ]
    }
   ],
   "source": [
    "import logging\n",
    "import requests\n",
    "\n",
    "def findConfig(rg):\n",
    "    for r in rg:\n",
    "        if r.config:\n",
    "            lbrc = last_best_result.config\n",
    "            if all((r.config[k] == v for k, v in last_best_result.config.items() if k != 'fold')):\n",
    "                return r\n",
    "            elif all((r.config[k] == v for k, v in last_best_result.config.items() if k != 'fold' and k != 'window_size')):\n",
    "                print(\"Possible coincidence:\", r.config, file=sys.stderr)\n",
    "\n",
    "    return None\n",
    "\n",
    "tuners = []\n",
    "results = []\n",
    "last_best_result = None\n",
    "pbar.reset()\n",
    "\n",
    "last_best_fold = None\n",
    "requests.post(\"https://ntfy.sh/grasia_notebooks\", data=f\"Start running microsoft_tuning for {ORG_NAME}\")\n",
    "for i, (prev_f_idx, f_idx) in enumerate(zip(it.chain([None], use_folds_idx), use_folds_idx)):\n",
    "    try:\n",
    "        with out:\n",
    "            best_prev_config = None\n",
    "            if last_best_result is not None:\n",
    "                best_prev_config = last_best_result.config.copy()\n",
    "                assert best_prev_config['fold'] == prev_f_idx\n",
    "                best_prev_config['fold'] = f_idx\n",
    "                print(f\"Also evaluating best_prev_config ({OPTIM_METRIC}={last_best_result.metrics[OPTIM_METRIC]}): {best_prev_config}\")\n",
    "                best_prev_config = [best_prev_config]\n",
    "        \n",
    "        t = getTunerOnFold(f_idx, best_prev_config)\n",
    "        tuners.append(t)\n",
    "    \n",
    "        rg = t.fit()\n",
    "        \n",
    "        # FIXME: load results from disk until ray-project/ray#47358 is solved\n",
    "        # https://github.com/ray-project/ray/issues/47358\n",
    "        t = getTunerOnFold(f_idx, best_prev_config)\n",
    "        tuners[-1] = t\n",
    "        rg = t.fit()\n",
    "    \n",
    "        assert rg.num_errors == 0, f\"There are {rg.num_errors} errors\"\n",
    "        assert rg.num_terminated >= NUM_SAMPLES, f'Some samples are not terminated ({rg.num_terminated} != {NUM_SAMPLES})'\n",
    "        assert len(rg.get_dataframe()) >= NUM_SAMPLES\n",
    "        results.append(rg)\n",
    "    \n",
    "        # Assert that the prev config has been tried\n",
    "        if last_best_result is not None:\n",
    "            # if not any( \n",
    "            #     all((r.config[k] == v for k, v in last_best_result.config.items() if k != 'fold'))\n",
    "            #     for r in rg if r.config\n",
    "            # ):\n",
    "            if not findConfig(rg):\n",
    "                print(\"Best config:\", last_best_result.config)\n",
    "                assert False, f\"The best config from previous fold has not been tested in fold {f_idx}\"    \n",
    "            else:\n",
    "                logging.info(f'Fold {f_idx}. Best prev result was {last_best_result.path} and config has been found {findConfig(rg).path}')\n",
    "        \n",
    "        last_best_result = rg.get_best_result()\n",
    "        pbar.update()\n",
    "    \n",
    "        print(f\"Finished training for fold {f_idx}\")\n",
    "        requests.post(\"https://ntfy.sh/grasia_notebooks\", data=f\"Finished running fold {i} for {ORG_NAME}\")\n",
    "    except Exception as e:\n",
    "        requests.post(\"https://ntfy.sh/grasia_notebooks\", data=f\"Error on fold {i} for {ORG_NAME}: {repr(e)}\")\n",
    "        raise\n",
    "\n",
    "pbar.close()"
   ]
  },
  {
   "cell_type": "code",
   "execution_count": 23,
   "id": "e5a214d6",
   "metadata": {
    "editable": true,
    "execution": {
     "iopub.execute_input": "2024-09-05T08:56:09.484910Z",
     "iopub.status.busy": "2024-09-05T08:56:09.484806Z",
     "iopub.status.idle": "2024-09-05T08:56:09.830019Z",
     "shell.execute_reply": "2024-09-05T08:56:09.828182Z"
    },
    "papermill": {
     "duration": 0.358565,
     "end_time": "2024-09-05T08:56:09.833588",
     "exception": false,
     "start_time": "2024-09-05T08:56:09.475023",
     "status": "completed"
    },
    "slideshow": {
     "slide_type": ""
    },
    "tags": []
   },
   "outputs": [
    {
     "name": "stdout",
     "output_type": "stream",
     "text": [
      "Finished!\n"
     ]
    }
   ],
   "source": [
    "requests.post(\"https://ntfy.sh/grasia_notebooks\", data=f\"Finished running everything for {ORG_NAME}\")\n",
    "print(\"Finished!\")"
   ]
  }
 ],
 "metadata": {
  "kernelspec": {
   "display_name": "Python 3 (ipykernel)",
   "language": "python",
   "name": "python3"
  },
  "language_info": {
   "codemirror_mode": {
    "name": "ipython",
    "version": 3
   },
   "file_extension": ".py",
   "mimetype": "text/x-python",
   "name": "python",
   "nbconvert_exporter": "python",
   "pygments_lexer": "ipython3",
   "version": "3.11.6"
  },
  "papermill": {
   "default_parameters": {},
   "duration": 74.459619,
   "end_time": "2024-09-05T08:56:15.064768",
   "environment_variables": {},
   "exception": null,
   "input_path": "20_microsoft_tuning.ipynb",
   "output_path": "../nbout/PancakeSwap/20_microsoft_tuning.ipynb",
   "parameters": {
    "EXECUTION_ID": "2024-09-04T10:00",
    "LAST_FOLDS": 10,
    "LAST_FOLD_DATE_STR": "2023-06-27",
    "MAX_BATCH_SIZE": 9,
    "ORG_NAME": "PancakeSwap",
    "SPLITS_FREQ": "3d",
    "SPLITS_NORMALIZE": true
   },
   "start_time": "2024-09-05T08:55:00.605149",
   "version": "2.6.0"
  },
  "widgets": {
   "application/vnd.jupyter.widget-state+json": {
    "state": {
     "1412e39537f4464fa875845f50e26dc3": {
      "model_module": "@jupyter-widgets/base",
      "model_module_version": "2.0.0",
      "model_name": "LayoutModel",
      "state": {
       "_model_module": "@jupyter-widgets/base",
       "_model_module_version": "2.0.0",
       "_model_name": "LayoutModel",
       "_view_count": null,
       "_view_module": "@jupyter-widgets/base",
       "_view_module_version": "2.0.0",
       "_view_name": "LayoutView",
       "align_content": null,
       "align_items": null,
       "align_self": null,
       "border_bottom": null,
       "border_left": null,
       "border_right": null,
       "border_top": null,
       "bottom": null,
       "display": null,
       "flex": null,
       "flex_flow": null,
       "grid_area": null,
       "grid_auto_columns": null,
       "grid_auto_flow": null,
       "grid_auto_rows": null,
       "grid_column": null,
       "grid_gap": null,
       "grid_row": null,
       "grid_template_areas": null,
       "grid_template_columns": null,
       "grid_template_rows": null,
       "height": null,
       "justify_content": null,
       "justify_items": null,
       "left": null,
       "margin": null,
       "max_height": null,
       "max_width": null,
       "min_height": null,
       "min_width": null,
       "object_fit": null,
       "object_position": null,
       "order": null,
       "overflow": null,
       "padding": null,
       "right": null,
       "top": null,
       "visibility": null,
       "width": null
      }
     },
     "261cd70a8bbe4446871c77549dc1acb6": {
      "model_module": "@jupyter-widgets/base",
      "model_module_version": "2.0.0",
      "model_name": "LayoutModel",
      "state": {
       "_model_module": "@jupyter-widgets/base",
       "_model_module_version": "2.0.0",
       "_model_name": "LayoutModel",
       "_view_count": null,
       "_view_module": "@jupyter-widgets/base",
       "_view_module_version": "2.0.0",
       "_view_name": "LayoutView",
       "align_content": null,
       "align_items": null,
       "align_self": null,
       "border_bottom": null,
       "border_left": null,
       "border_right": null,
       "border_top": null,
       "bottom": null,
       "display": null,
       "flex": null,
       "flex_flow": null,
       "grid_area": null,
       "grid_auto_columns": null,
       "grid_auto_flow": null,
       "grid_auto_rows": null,
       "grid_column": null,
       "grid_gap": null,
       "grid_row": null,
       "grid_template_areas": null,
       "grid_template_columns": null,
       "grid_template_rows": null,
       "height": null,
       "justify_content": null,
       "justify_items": null,
       "left": null,
       "margin": null,
       "max_height": null,
       "max_width": null,
       "min_height": null,
       "min_width": null,
       "object_fit": null,
       "object_position": null,
       "order": null,
       "overflow": null,
       "padding": null,
       "right": null,
       "top": null,
       "visibility": null,
       "width": null
      }
     },
     "338206884c90488d95d6a26c5eef9f17": {
      "model_module": "@jupyter-widgets/controls",
      "model_module_version": "2.0.0",
      "model_name": "HTMLModel",
      "state": {
       "_dom_classes": [],
       "_model_module": "@jupyter-widgets/controls",
       "_model_module_version": "2.0.0",
       "_model_name": "HTMLModel",
       "_view_count": null,
       "_view_module": "@jupyter-widgets/controls",
       "_view_module_version": "2.0.0",
       "_view_name": "HTMLView",
       "description": "",
       "description_allow_html": false,
       "layout": "IPY_MODEL_1412e39537f4464fa875845f50e26dc3",
       "placeholder": "​",
       "style": "IPY_MODEL_91570a57dc0245a794283322747e309b",
       "tabbable": null,
       "tooltip": null,
       "value": " 10/10 [00:30&lt;00:00,  2.71s/it]"
      }
     },
     "34e9ba83d4b14d4a87180e9a45b37c9c": {
      "model_module": "@jupyter-widgets/controls",
      "model_module_version": "2.0.0",
      "model_name": "HBoxModel",
      "state": {
       "_dom_classes": [],
       "_model_module": "@jupyter-widgets/controls",
       "_model_module_version": "2.0.0",
       "_model_name": "HBoxModel",
       "_view_count": null,
       "_view_module": "@jupyter-widgets/controls",
       "_view_module_version": "2.0.0",
       "_view_name": "HBoxView",
       "box_style": "",
       "children": [
        "IPY_MODEL_744a6bfe9f4542aca98c088153828d79",
        "IPY_MODEL_fec8f1b54ea94f239bc17faa7395fcee",
        "IPY_MODEL_338206884c90488d95d6a26c5eef9f17"
       ],
       "layout": "IPY_MODEL_261cd70a8bbe4446871c77549dc1acb6",
       "tabbable": null,
       "tooltip": null
      }
     },
     "6efe1ac1c6c4400081527ba3f7870b9f": {
      "model_module": "@jupyter-widgets/output",
      "model_module_version": "1.0.0",
      "model_name": "OutputModel",
      "state": {
       "_dom_classes": [],
       "_model_module": "@jupyter-widgets/output",
       "_model_module_version": "1.0.0",
       "_model_name": "OutputModel",
       "_view_count": null,
       "_view_module": "@jupyter-widgets/output",
       "_view_module_version": "1.0.0",
       "_view_name": "OutputView",
       "layout": "IPY_MODEL_ac0f9ab8fa5d4b989a989f0411b1cfcd",
       "msg_id": "",
       "outputs": [
        {
         "name": "stdout",
         "output_type": "stream",
         "text": "In this cell important output from the next cell will be shown\nAlso evaluating best_prev_config (map@10=0.21785615268329553): {'batch_size': 8, 'embedding_dim': 1, 'conv_layers': 2, 'learning_rate': 0.0007, 'l2': 1.5651934676816882e-07, 'window_size': '90d', 'fold': '2023-06-03T00:00:00'}\nAlso evaluating best_prev_config (map@10=0.0735804087180234): {'batch_size': 6, 'embedding_dim': 1, 'conv_layers': 2, 'learning_rate': 0.4328, 'l2': 1.373949651050166e-07, 'window_size': '21d', 'fold': '2023-06-06T00:00:00'}\nAlso evaluating best_prev_config (map@10=0.06345187748301935): {'batch_size': 9, 'embedding_dim': 6, 'conv_layers': 4, 'learning_rate': 0.0001, 'l2': 0.00010972549206515061, 'window_size': '90d', 'fold': '2023-06-09T00:00:00'}\nAlso evaluating best_prev_config (map@10=0.061858759553204): {'batch_size': 8, 'embedding_dim': 420, 'conv_layers': 1, 'learning_rate': 0.002, 'l2': 4.504281813498499e-06, 'window_size': '30d', 'fold': '2023-06-12T00:00:00'}\nAlso evaluating best_prev_config (map@10=0.08947188882383555): {'batch_size': 8, 'embedding_dim': 1, 'conv_layers': 4, 'learning_rate': 0.0002, 'l2': 0.00029623657454684376, 'window_size': '90d', 'fold': '2023-06-15T00:00:00'}\nAlso evaluating best_prev_config (map@10=0.2949241398156069): {'batch_size': 9, 'embedding_dim': 364, 'conv_layers': 2, 'learning_rate': 0.0002, 'l2': 2.081125332343617e-06, 'window_size': '90d', 'fold': '2023-06-18T00:00:00'}\nAlso evaluating best_prev_config (map@10=0.0723418997228521): {'batch_size': 9, 'embedding_dim': 2, 'conv_layers': 2, 'learning_rate': 0.0001, 'l2': 3.452117045505558e-07, 'window_size': '90d', 'fold': '2023-06-21T00:00:00'}\nAlso evaluating best_prev_config (map@10=0.1217660708632931): {'batch_size': 9, 'embedding_dim': 1, 'conv_layers': 2, 'learning_rate': 0.0262, 'l2': 4.089005012055345e-05, 'window_size': '10YE', 'fold': '2023-06-24T00:00:00'}\nAlso evaluating best_prev_config (map@10=0.3973288162782843): {'batch_size': 9, 'embedding_dim': 1, 'conv_layers': 2, 'learning_rate': 0.0262, 'l2': 4.089005012055345e-05, 'window_size': '10YE', 'fold': '2023-06-27T00:00:00'}\n"
        }
       ],
       "tabbable": null,
       "tooltip": null
      }
     },
     "73a3b4df4c08424985d9be8baadfaf7e": {
      "model_module": "@jupyter-widgets/base",
      "model_module_version": "2.0.0",
      "model_name": "LayoutModel",
      "state": {
       "_model_module": "@jupyter-widgets/base",
       "_model_module_version": "2.0.0",
       "_model_name": "LayoutModel",
       "_view_count": null,
       "_view_module": "@jupyter-widgets/base",
       "_view_module_version": "2.0.0",
       "_view_name": "LayoutView",
       "align_content": null,
       "align_items": null,
       "align_self": null,
       "border_bottom": null,
       "border_left": null,
       "border_right": null,
       "border_top": null,
       "bottom": null,
       "display": null,
       "flex": null,
       "flex_flow": null,
       "grid_area": null,
       "grid_auto_columns": null,
       "grid_auto_flow": null,
       "grid_auto_rows": null,
       "grid_column": null,
       "grid_gap": null,
       "grid_row": null,
       "grid_template_areas": null,
       "grid_template_columns": null,
       "grid_template_rows": null,
       "height": null,
       "justify_content": null,
       "justify_items": null,
       "left": null,
       "margin": null,
       "max_height": null,
       "max_width": null,
       "min_height": null,
       "min_width": null,
       "object_fit": null,
       "object_position": null,
       "order": null,
       "overflow": null,
       "padding": null,
       "right": null,
       "top": null,
       "visibility": null,
       "width": null
      }
     },
     "744a6bfe9f4542aca98c088153828d79": {
      "model_module": "@jupyter-widgets/controls",
      "model_module_version": "2.0.0",
      "model_name": "HTMLModel",
      "state": {
       "_dom_classes": [],
       "_model_module": "@jupyter-widgets/controls",
       "_model_module_version": "2.0.0",
       "_model_name": "HTMLModel",
       "_view_count": null,
       "_view_module": "@jupyter-widgets/controls",
       "_view_module_version": "2.0.0",
       "_view_name": "HTMLView",
       "description": "",
       "description_allow_html": false,
       "layout": "IPY_MODEL_73a3b4df4c08424985d9be8baadfaf7e",
       "placeholder": "​",
       "style": "IPY_MODEL_d45e445b9d8a43a2ae9b808883adac2d",
       "tabbable": null,
       "tooltip": null,
       "value": "fold: 100%"
      }
     },
     "91570a57dc0245a794283322747e309b": {
      "model_module": "@jupyter-widgets/controls",
      "model_module_version": "2.0.0",
      "model_name": "HTMLStyleModel",
      "state": {
       "_model_module": "@jupyter-widgets/controls",
       "_model_module_version": "2.0.0",
       "_model_name": "HTMLStyleModel",
       "_view_count": null,
       "_view_module": "@jupyter-widgets/base",
       "_view_module_version": "2.0.0",
       "_view_name": "StyleView",
       "background": null,
       "description_width": "",
       "font_size": null,
       "text_color": null
      }
     },
     "ac0f9ab8fa5d4b989a989f0411b1cfcd": {
      "model_module": "@jupyter-widgets/base",
      "model_module_version": "2.0.0",
      "model_name": "LayoutModel",
      "state": {
       "_model_module": "@jupyter-widgets/base",
       "_model_module_version": "2.0.0",
       "_model_name": "LayoutModel",
       "_view_count": null,
       "_view_module": "@jupyter-widgets/base",
       "_view_module_version": "2.0.0",
       "_view_name": "LayoutView",
       "align_content": null,
       "align_items": null,
       "align_self": null,
       "border_bottom": "1px solid black",
       "border_left": "1px solid black",
       "border_right": "1px solid black",
       "border_top": "1px solid black",
       "bottom": null,
       "display": null,
       "flex": null,
       "flex_flow": null,
       "grid_area": null,
       "grid_auto_columns": null,
       "grid_auto_flow": null,
       "grid_auto_rows": null,
       "grid_column": null,
       "grid_gap": null,
       "grid_row": null,
       "grid_template_areas": null,
       "grid_template_columns": null,
       "grid_template_rows": null,
       "height": null,
       "justify_content": null,
       "justify_items": null,
       "left": null,
       "margin": null,
       "max_height": null,
       "max_width": null,
       "min_height": null,
       "min_width": null,
       "object_fit": null,
       "object_position": null,
       "order": null,
       "overflow": null,
       "padding": null,
       "right": null,
       "top": null,
       "visibility": null,
       "width": null
      }
     },
     "b8d540d0b8fe4a9b989c4f5d7e07cc07": {
      "model_module": "@jupyter-widgets/base",
      "model_module_version": "2.0.0",
      "model_name": "LayoutModel",
      "state": {
       "_model_module": "@jupyter-widgets/base",
       "_model_module_version": "2.0.0",
       "_model_name": "LayoutModel",
       "_view_count": null,
       "_view_module": "@jupyter-widgets/base",
       "_view_module_version": "2.0.0",
       "_view_name": "LayoutView",
       "align_content": null,
       "align_items": null,
       "align_self": null,
       "border_bottom": null,
       "border_left": null,
       "border_right": null,
       "border_top": null,
       "bottom": null,
       "display": null,
       "flex": null,
       "flex_flow": null,
       "grid_area": null,
       "grid_auto_columns": null,
       "grid_auto_flow": null,
       "grid_auto_rows": null,
       "grid_column": null,
       "grid_gap": null,
       "grid_row": null,
       "grid_template_areas": null,
       "grid_template_columns": null,
       "grid_template_rows": null,
       "height": null,
       "justify_content": null,
       "justify_items": null,
       "left": null,
       "margin": null,
       "max_height": null,
       "max_width": null,
       "min_height": null,
       "min_width": null,
       "object_fit": null,
       "object_position": null,
       "order": null,
       "overflow": null,
       "padding": null,
       "right": null,
       "top": null,
       "visibility": null,
       "width": null
      }
     },
     "d03d890567f04990aad509bc421b24e0": {
      "model_module": "@jupyter-widgets/controls",
      "model_module_version": "2.0.0",
      "model_name": "ProgressStyleModel",
      "state": {
       "_model_module": "@jupyter-widgets/controls",
       "_model_module_version": "2.0.0",
       "_model_name": "ProgressStyleModel",
       "_view_count": null,
       "_view_module": "@jupyter-widgets/base",
       "_view_module_version": "2.0.0",
       "_view_name": "StyleView",
       "bar_color": null,
       "description_width": ""
      }
     },
     "d45e445b9d8a43a2ae9b808883adac2d": {
      "model_module": "@jupyter-widgets/controls",
      "model_module_version": "2.0.0",
      "model_name": "HTMLStyleModel",
      "state": {
       "_model_module": "@jupyter-widgets/controls",
       "_model_module_version": "2.0.0",
       "_model_name": "HTMLStyleModel",
       "_view_count": null,
       "_view_module": "@jupyter-widgets/base",
       "_view_module_version": "2.0.0",
       "_view_name": "StyleView",
       "background": null,
       "description_width": "",
       "font_size": null,
       "text_color": null
      }
     },
     "fec8f1b54ea94f239bc17faa7395fcee": {
      "model_module": "@jupyter-widgets/controls",
      "model_module_version": "2.0.0",
      "model_name": "FloatProgressModel",
      "state": {
       "_dom_classes": [],
       "_model_module": "@jupyter-widgets/controls",
       "_model_module_version": "2.0.0",
       "_model_name": "FloatProgressModel",
       "_view_count": null,
       "_view_module": "@jupyter-widgets/controls",
       "_view_module_version": "2.0.0",
       "_view_name": "ProgressView",
       "bar_style": "success",
       "description": "",
       "description_allow_html": false,
       "layout": "IPY_MODEL_b8d540d0b8fe4a9b989c4f5d7e07cc07",
       "max": 10.0,
       "min": 0.0,
       "orientation": "horizontal",
       "style": "IPY_MODEL_d03d890567f04990aad509bc421b24e0",
       "tabbable": null,
       "tooltip": null,
       "value": 10.0
      }
     }
    },
    "version_major": 2,
    "version_minor": 0
   }
  }
 },
 "nbformat": 4,
 "nbformat_minor": 5
}