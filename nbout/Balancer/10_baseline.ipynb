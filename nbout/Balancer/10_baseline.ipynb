{
 "cells": [
  {
   "cell_type": "code",
   "execution_count": 1,
   "id": "35ae1291",
   "metadata": {
    "execution": {
     "iopub.execute_input": "2024-09-05T08:56:46.428626Z",
     "iopub.status.busy": "2024-09-05T08:56:46.428143Z",
     "iopub.status.idle": "2024-09-05T08:56:49.111514Z",
     "shell.execute_reply": "2024-09-05T08:56:49.111260Z"
    },
    "papermill": {
     "duration": 2.692541,
     "end_time": "2024-09-05T08:56:49.112323",
     "exception": false,
     "start_time": "2024-09-05T08:56:46.419782",
     "status": "completed"
    },
    "tags": []
   },
   "outputs": [
    {
     "name": "stderr",
     "output_type": "stream",
     "text": [
      "/tmp/ipykernel_3808138/2526015065.py:7: TqdmExperimentalWarning: Using `tqdm.autonotebook.tqdm` in notebook mode. Use `tqdm.tqdm` instead to force console mode (e.g. in jupyter console)\n",
      "  from tqdm.autonotebook import tqdm\n"
     ]
    },
    {
     "name": "stdout",
     "output_type": "stream",
     "text": [
      "Ignoring warnings\n"
     ]
    }
   ],
   "source": [
    "from typing import List\n",
    "import sys\n",
    "from collections import defaultdict\n",
    "\n",
    "import pandas as pd\n",
    "import numpy as np\n",
    "from tqdm.autonotebook import tqdm\n",
    "\n",
    "from recsys4daos.models import OpenPop\n",
    "from recsys4daos.datasets import to_microsoft\n",
    "from recsys4daos.model_selection import cvtt_open\n",
    "from recsys4daos.evaluation import calculate_all_metrics\n",
    "\n",
    "import paths\n",
    "\n",
    "import recommenders\n",
    "if recommenders.__version__ == '1.2.0':\n",
    "    print(\"Ignoring warnings\")\n",
    "    import warnings\n",
    "    warnings.simplefilter(action='ignore', category=FutureWarning)"
   ]
  },
  {
   "cell_type": "code",
   "execution_count": 2,
   "id": "3396d17a",
   "metadata": {
    "editable": true,
    "execution": {
     "iopub.execute_input": "2024-09-05T08:56:49.117320Z",
     "iopub.status.busy": "2024-09-05T08:56:49.117102Z",
     "iopub.status.idle": "2024-09-05T08:56:49.119190Z",
     "shell.execute_reply": "2024-09-05T08:56:49.118971Z"
    },
    "papermill": {
     "duration": 0.005176,
     "end_time": "2024-09-05T08:56:49.119777",
     "exception": false,
     "start_time": "2024-09-05T08:56:49.114601",
     "status": "completed"
    },
    "slideshow": {
     "slide_type": ""
    },
    "tags": [
     "parameters"
    ]
   },
   "outputs": [],
   "source": [
    "SPLITS_FREQ = \"W-THU\"\n",
    "SPLITS_NORMALIZE = True\n",
    "ORG_NAME = 'Decentraland'\n",
    "LAST_FOLD_DATE_STR: str = None # Won't use it, we will just calculate for every fold\n",
    "\n",
    "# In this notebook this is just used for plotting and description, not \"training\"\n",
    "# every fold is saved into the results table\n",
    "LAST_FOLDS = 10\n",
    "\n",
    "K_RECOMMENDATIONS: List[int] = [1,3,5,10,15,100]"
   ]
  },
  {
   "cell_type": "code",
   "execution_count": 3,
   "id": "75a2fa1b",
   "metadata": {
    "execution": {
     "iopub.execute_input": "2024-09-05T08:56:49.123724Z",
     "iopub.status.busy": "2024-09-05T08:56:49.123554Z",
     "iopub.status.idle": "2024-09-05T08:56:49.125104Z",
     "shell.execute_reply": "2024-09-05T08:56:49.124904Z"
    },
    "papermill": {
     "duration": 0.004197,
     "end_time": "2024-09-05T08:56:49.125685",
     "exception": false,
     "start_time": "2024-09-05T08:56:49.121488",
     "status": "completed"
    },
    "tags": [
     "injected-parameters"
    ]
   },
   "outputs": [],
   "source": [
    "# Parameters\n",
    "EXECUTION_ID = \"2024-09-04T10:00\"\n",
    "ORG_NAME = \"Balancer\"\n",
    "SPLITS_FREQ = \"3d\"\n",
    "LAST_FOLDS = 10\n",
    "SPLITS_NORMALIZE = True\n",
    "LAST_FOLD_DATE_STR = None\n"
   ]
  },
  {
   "cell_type": "markdown",
   "id": "aaa064a6",
   "metadata": {
    "papermill": {
     "duration": 0.00169,
     "end_time": "2024-09-05T08:56:49.129013",
     "exception": false,
     "start_time": "2024-09-05T08:56:49.127323",
     "status": "completed"
    },
    "tags": []
   },
   "source": [
    "## Obtain dataset"
   ]
  },
  {
   "cell_type": "code",
   "execution_count": 4,
   "id": "c8d96afc",
   "metadata": {
    "execution": {
     "iopub.execute_input": "2024-09-05T08:56:49.132974Z",
     "iopub.status.busy": "2024-09-05T08:56:49.132844Z",
     "iopub.status.idle": "2024-09-05T08:56:49.257105Z",
     "shell.execute_reply": "2024-09-05T08:56:49.255194Z"
    },
    "papermill": {
     "duration": 0.131903,
     "end_time": "2024-09-05T08:56:49.262739",
     "exception": false,
     "start_time": "2024-09-05T08:56:49.130836",
     "status": "completed"
    },
    "tags": []
   },
   "outputs": [
    {
     "name": "stdout",
     "output_type": "stream",
     "text": [
      "/home/daviddavo/recsys4daos/notebooks\r\n"
     ]
    }
   ],
   "source": [
    "!pwd"
   ]
  },
  {
   "cell_type": "code",
   "execution_count": 5,
   "id": "85aec118",
   "metadata": {
    "execution": {
     "iopub.execute_input": "2024-09-05T08:56:49.273443Z",
     "iopub.status.busy": "2024-09-05T08:56:49.273046Z",
     "iopub.status.idle": "2024-09-05T08:56:49.405128Z",
     "shell.execute_reply": "2024-09-05T08:56:49.403607Z"
    },
    "papermill": {
     "duration": 0.139576,
     "end_time": "2024-09-05T08:56:49.408852",
     "exception": false,
     "start_time": "2024-09-05T08:56:49.269276",
     "status": "completed"
    },
    "tags": []
   },
   "outputs": [
    {
     "name": "stdout",
     "output_type": "stream",
     "text": [
      "md5sum: '../data/decentraland/*': No such file or directory\r\n"
     ]
    }
   ],
   "source": [
    "!md5sum ../data/decentraland/*"
   ]
  },
  {
   "cell_type": "code",
   "execution_count": 6,
   "id": "d05b28b5",
   "metadata": {
    "execution": {
     "iopub.execute_input": "2024-09-05T08:56:49.426839Z",
     "iopub.status.busy": "2024-09-05T08:56:49.426512Z",
     "iopub.status.idle": "2024-09-05T08:56:49.514569Z",
     "shell.execute_reply": "2024-09-05T08:56:49.514310Z"
    },
    "papermill": {
     "duration": 0.096523,
     "end_time": "2024-09-05T08:56:49.515327",
     "exception": false,
     "start_time": "2024-09-05T08:56:49.418804",
     "status": "completed"
    },
    "tags": []
   },
   "outputs": [
    {
     "name": "stdout",
     "output_type": "stream",
     "text": [
      "<class 'pandas.core.frame.DataFrame'>\n",
      "RangeIndex: 602 entries, 0 to 601\n",
      "Data columns (total 6 columns):\n",
      " #   Column             Non-Null Count  Dtype         \n",
      "---  ------             --------------  -----         \n",
      " 0   id                 602 non-null    object        \n",
      " 1   author             602 non-null    object        \n",
      " 2   date               602 non-null    datetime64[us]\n",
      " 3   start              602 non-null    datetime64[us]\n",
      " 4   end                602 non-null    datetime64[us]\n",
      " 5   platform_proposal  602 non-null    object        \n",
      "dtypes: datetime64[us](3), object(3)\n",
      "memory usage: 28.3+ KB\n",
      "None\n"
     ]
    },
    {
     "name": "stdout",
     "output_type": "stream",
     "text": [
      "<class 'pandas.core.frame.DataFrame'>\n",
      "RangeIndex: 111987 entries, 0 to 111986\n",
      "Data columns (total 4 columns):\n",
      " #   Column    Non-Null Count   Dtype         \n",
      "---  ------    --------------   -----         \n",
      " 0   id        111987 non-null  object        \n",
      " 1   proposal  111987 non-null  object        \n",
      " 2   voter     111987 non-null  object        \n",
      " 3   date      111987 non-null  datetime64[us]\n",
      "dtypes: datetime64[us](1), object(3)\n",
      "memory usage: 3.4+ MB\n",
      "None\n",
      "<class 'pandas.core.frame.DataFrame'>\n",
      "RangeIndex: 111987 entries, 0 to 111986\n",
      "Data columns (total 4 columns):\n",
      " #   Column     Non-Null Count   Dtype         \n",
      "---  ------     --------------   -----         \n",
      " 0   userID     111987 non-null  object        \n",
      " 1   itemID     111987 non-null  object        \n",
      " 2   timestamp  111987 non-null  datetime64[us]\n",
      " 3   rating     111987 non-null  int64         \n",
      "dtypes: datetime64[us](1), int64(1), object(2)\n",
      "memory usage: 3.4+ MB\n",
      "None\n"
     ]
    }
   ],
   "source": [
    "dfp = paths.load_proposals(ORG_NAME)\n",
    "dfv = paths.load_votes(ORG_NAME)\n",
    "\n",
    "df = to_microsoft(dfv)\n",
    "\n",
    "print(dfp.info())\n",
    "print(dfv.info())\n",
    "print(df.info())"
   ]
  },
  {
   "cell_type": "markdown",
   "id": "9ba1b6de",
   "metadata": {
    "papermill": {
     "duration": 0.002277,
     "end_time": "2024-09-05T08:56:49.520057",
     "exception": false,
     "start_time": "2024-09-05T08:56:49.517780",
     "status": "completed"
    },
    "tags": []
   },
   "source": [
    "## Showing some info of the folds"
   ]
  },
  {
   "cell_type": "code",
   "execution_count": 7,
   "id": "f042622b",
   "metadata": {
    "execution": {
     "iopub.execute_input": "2024-09-05T08:56:49.524384Z",
     "iopub.status.busy": "2024-09-05T08:56:49.524271Z",
     "iopub.status.idle": "2024-09-05T08:56:57.087545Z",
     "shell.execute_reply": "2024-09-05T08:56:57.087252Z"
    },
    "papermill": {
     "duration": 7.566334,
     "end_time": "2024-09-05T08:56:57.088246",
     "exception": false,
     "start_time": "2024-09-05T08:56:49.521912",
     "status": "completed"
    },
    "tags": []
   },
   "outputs": [
    {
     "name": "stdout",
     "output_type": "stream",
     "text": [
      "Saved dataframe into /home/daviddavo/recsys4daos/data/output/Balancer/baseline/folds-info_3d_normalize.parquet\n",
      "fold\n",
      "2023-06-18    109536\n",
      "2023-06-21    109694\n",
      "2023-06-24    109947\n",
      "2023-06-27    110232\n",
      "2023-06-30    110306\n",
      "2023-07-03    110760\n",
      "2023-07-06    110811\n",
      "2023-07-09    111074\n",
      "2023-07-12    111158\n",
      "2023-07-15    111479\n",
      "Name: votes in train, dtype: int64\n"
     ]
    },
    {
     "data": {
      "text/html": [
       "<style type=\"text/css\">\n",
       "</style>\n",
       "<table id=\"T_d9b46\">\n",
       "  <thead>\n",
       "    <tr>\n",
       "      <th class=\"blank level0\" >&nbsp;</th>\n",
       "      <th id=\"T_d9b46_level0_col0\" class=\"col_heading level0 col0\" >open proposals</th>\n",
       "      <th id=\"T_d9b46_level0_col1\" class=\"col_heading level0 col1\" >votes in open proposals (train)</th>\n",
       "      <th id=\"T_d9b46_level0_col2\" class=\"col_heading level0 col2\" >users in open proposals (train)</th>\n",
       "      <th id=\"T_d9b46_level0_col3\" class=\"col_heading level0 col3\" >vpp in open proposals (train)</th>\n",
       "      <th id=\"T_d9b46_level0_col4\" class=\"col_heading level0 col4\" >vpu in open proposals (train)</th>\n",
       "      <th id=\"T_d9b46_level0_col5\" class=\"col_heading level0 col5\" >votes in test</th>\n",
       "      <th id=\"T_d9b46_level0_col6\" class=\"col_heading level0 col6\" >users in test</th>\n",
       "      <th id=\"T_d9b46_level0_col7\" class=\"col_heading level0 col7\" >vpp test</th>\n",
       "      <th id=\"T_d9b46_level0_col8\" class=\"col_heading level0 col8\" >vpu test</th>\n",
       "    </tr>\n",
       "    <tr>\n",
       "      <th class=\"index_name level0\" >fold</th>\n",
       "      <th class=\"blank col0\" >&nbsp;</th>\n",
       "      <th class=\"blank col1\" >&nbsp;</th>\n",
       "      <th class=\"blank col2\" >&nbsp;</th>\n",
       "      <th class=\"blank col3\" >&nbsp;</th>\n",
       "      <th class=\"blank col4\" >&nbsp;</th>\n",
       "      <th class=\"blank col5\" >&nbsp;</th>\n",
       "      <th class=\"blank col6\" >&nbsp;</th>\n",
       "      <th class=\"blank col7\" >&nbsp;</th>\n",
       "      <th class=\"blank col8\" >&nbsp;</th>\n",
       "    </tr>\n",
       "  </thead>\n",
       "  <tbody>\n",
       "    <tr>\n",
       "      <th id=\"T_d9b46_level0_row0\" class=\"row_heading level0 row0\" >2023-W24</th>\n",
       "      <td id=\"T_d9b46_row0_col0\" class=\"data row0 col0\" >13</td>\n",
       "      <td id=\"T_d9b46_row0_col1\" class=\"data row0 col1\" >696</td>\n",
       "      <td id=\"T_d9b46_row0_col2\" class=\"data row0 col2\" >79</td>\n",
       "      <td id=\"T_d9b46_row0_col3\" class=\"data row0 col3\" >53.54</td>\n",
       "      <td id=\"T_d9b46_row0_col4\" class=\"data row0 col4\" >8.81</td>\n",
       "      <td id=\"T_d9b46_row0_col5\" class=\"data row0 col5\" >145</td>\n",
       "      <td id=\"T_d9b46_row0_col6\" class=\"data row0 col6\" >31</td>\n",
       "      <td id=\"T_d9b46_row0_col7\" class=\"data row0 col7\" >11.15</td>\n",
       "      <td id=\"T_d9b46_row0_col8\" class=\"data row0 col8\" >4.68</td>\n",
       "    </tr>\n",
       "    <tr>\n",
       "      <th id=\"T_d9b46_level0_row1\" class=\"row_heading level0 row1\" >2023-W25</th>\n",
       "      <td id=\"T_d9b46_row1_col0\" class=\"data row1 col0\" >0</td>\n",
       "      <td id=\"T_d9b46_row1_col1\" class=\"data row1 col1\" >0</td>\n",
       "      <td id=\"T_d9b46_row1_col2\" class=\"data row1 col2\" >0</td>\n",
       "      <td id=\"T_d9b46_row1_col3\" class=\"data row1 col3\" >nan</td>\n",
       "      <td id=\"T_d9b46_row1_col4\" class=\"data row1 col4\" >nan</td>\n",
       "      <td id=\"T_d9b46_row1_col5\" class=\"data row1 col5\" >0</td>\n",
       "      <td id=\"T_d9b46_row1_col6\" class=\"data row1 col6\" >0</td>\n",
       "      <td id=\"T_d9b46_row1_col7\" class=\"data row1 col7\" >nan</td>\n",
       "      <td id=\"T_d9b46_row1_col8\" class=\"data row1 col8\" >nan</td>\n",
       "    </tr>\n",
       "    <tr>\n",
       "      <th id=\"T_d9b46_level0_row2\" class=\"row_heading level0 row2\" >2023-W25</th>\n",
       "      <td id=\"T_d9b46_row2_col0\" class=\"data row2 col0\" >7</td>\n",
       "      <td id=\"T_d9b46_row2_col1\" class=\"data row2 col1\" >253</td>\n",
       "      <td id=\"T_d9b46_row2_col2\" class=\"data row2 col2\" >45</td>\n",
       "      <td id=\"T_d9b46_row2_col3\" class=\"data row2 col3\" >36.14</td>\n",
       "      <td id=\"T_d9b46_row2_col4\" class=\"data row2 col4\" >5.62</td>\n",
       "      <td id=\"T_d9b46_row2_col5\" class=\"data row2 col5\" >278</td>\n",
       "      <td id=\"T_d9b46_row2_col6\" class=\"data row2 col6\" >58</td>\n",
       "      <td id=\"T_d9b46_row2_col7\" class=\"data row2 col7\" >39.71</td>\n",
       "      <td id=\"T_d9b46_row2_col8\" class=\"data row2 col8\" >4.79</td>\n",
       "    </tr>\n",
       "    <tr>\n",
       "      <th id=\"T_d9b46_level0_row3\" class=\"row_heading level0 row3\" >2023-W26</th>\n",
       "      <td id=\"T_d9b46_row3_col0\" class=\"data row3 col0\" >0</td>\n",
       "      <td id=\"T_d9b46_row3_col1\" class=\"data row3 col1\" >0</td>\n",
       "      <td id=\"T_d9b46_row3_col2\" class=\"data row3 col2\" >0</td>\n",
       "      <td id=\"T_d9b46_row3_col3\" class=\"data row3 col3\" >nan</td>\n",
       "      <td id=\"T_d9b46_row3_col4\" class=\"data row3 col4\" >nan</td>\n",
       "      <td id=\"T_d9b46_row3_col5\" class=\"data row3 col5\" >0</td>\n",
       "      <td id=\"T_d9b46_row3_col6\" class=\"data row3 col6\" >0</td>\n",
       "      <td id=\"T_d9b46_row3_col7\" class=\"data row3 col7\" >nan</td>\n",
       "      <td id=\"T_d9b46_row3_col8\" class=\"data row3 col8\" >nan</td>\n",
       "    </tr>\n",
       "    <tr>\n",
       "      <th id=\"T_d9b46_level0_row4\" class=\"row_heading level0 row4\" >2023-W26</th>\n",
       "      <td id=\"T_d9b46_row4_col0\" class=\"data row4 col0\" >7</td>\n",
       "      <td id=\"T_d9b46_row4_col1\" class=\"data row4 col1\" >74</td>\n",
       "      <td id=\"T_d9b46_row4_col2\" class=\"data row4 col2\" >11</td>\n",
       "      <td id=\"T_d9b46_row4_col3\" class=\"data row4 col3\" >10.57</td>\n",
       "      <td id=\"T_d9b46_row4_col4\" class=\"data row4 col4\" >6.73</td>\n",
       "      <td id=\"T_d9b46_row4_col5\" class=\"data row4 col5\" >481</td>\n",
       "      <td id=\"T_d9b46_row4_col6\" class=\"data row4 col6\" >103</td>\n",
       "      <td id=\"T_d9b46_row4_col7\" class=\"data row4 col7\" >68.71</td>\n",
       "      <td id=\"T_d9b46_row4_col8\" class=\"data row4 col8\" >4.67</td>\n",
       "    </tr>\n",
       "    <tr>\n",
       "      <th id=\"T_d9b46_level0_row5\" class=\"row_heading level0 row5\" >2023-W27</th>\n",
       "      <td id=\"T_d9b46_row5_col0\" class=\"data row5 col0\" >7</td>\n",
       "      <td id=\"T_d9b46_row5_col1\" class=\"data row5 col1\" >528</td>\n",
       "      <td id=\"T_d9b46_row5_col2\" class=\"data row5 col2\" >111</td>\n",
       "      <td id=\"T_d9b46_row5_col3\" class=\"data row5 col3\" >75.43</td>\n",
       "      <td id=\"T_d9b46_row5_col4\" class=\"data row5 col4\" >4.76</td>\n",
       "      <td id=\"T_d9b46_row5_col5\" class=\"data row5 col5\" >51</td>\n",
       "      <td id=\"T_d9b46_row5_col6\" class=\"data row5 col6\" >11</td>\n",
       "      <td id=\"T_d9b46_row5_col7\" class=\"data row5 col7\" >7.29</td>\n",
       "      <td id=\"T_d9b46_row5_col8\" class=\"data row5 col8\" >4.64</td>\n",
       "    </tr>\n",
       "    <tr>\n",
       "      <th id=\"T_d9b46_level0_row6\" class=\"row_heading level0 row6\" >2023-W27</th>\n",
       "      <td id=\"T_d9b46_row6_col0\" class=\"data row6 col0\" >0</td>\n",
       "      <td id=\"T_d9b46_row6_col1\" class=\"data row6 col1\" >0</td>\n",
       "      <td id=\"T_d9b46_row6_col2\" class=\"data row6 col2\" >0</td>\n",
       "      <td id=\"T_d9b46_row6_col3\" class=\"data row6 col3\" >nan</td>\n",
       "      <td id=\"T_d9b46_row6_col4\" class=\"data row6 col4\" >nan</td>\n",
       "      <td id=\"T_d9b46_row6_col5\" class=\"data row6 col5\" >0</td>\n",
       "      <td id=\"T_d9b46_row6_col6\" class=\"data row6 col6\" >0</td>\n",
       "      <td id=\"T_d9b46_row6_col7\" class=\"data row6 col7\" >nan</td>\n",
       "      <td id=\"T_d9b46_row6_col8\" class=\"data row6 col8\" >nan</td>\n",
       "    </tr>\n",
       "    <tr>\n",
       "      <th id=\"T_d9b46_level0_row7\" class=\"row_heading level0 row7\" >2023-W27</th>\n",
       "      <td id=\"T_d9b46_row7_col0\" class=\"data row7 col0\" >3</td>\n",
       "      <td id=\"T_d9b46_row7_col1\" class=\"data row7 col1\" >263</td>\n",
       "      <td id=\"T_d9b46_row7_col2\" class=\"data row7 col2\" >108</td>\n",
       "      <td id=\"T_d9b46_row7_col3\" class=\"data row7 col3\" >87.67</td>\n",
       "      <td id=\"T_d9b46_row7_col4\" class=\"data row7 col4\" >2.44</td>\n",
       "      <td id=\"T_d9b46_row7_col5\" class=\"data row7 col5\" >84</td>\n",
       "      <td id=\"T_d9b46_row7_col6\" class=\"data row7 col6\" >36</td>\n",
       "      <td id=\"T_d9b46_row7_col7\" class=\"data row7 col7\" >28.00</td>\n",
       "      <td id=\"T_d9b46_row7_col8\" class=\"data row7 col8\" >2.33</td>\n",
       "    </tr>\n",
       "    <tr>\n",
       "      <th id=\"T_d9b46_level0_row8\" class=\"row_heading level0 row8\" >2023-W28</th>\n",
       "      <td id=\"T_d9b46_row8_col0\" class=\"data row8 col0\" >0</td>\n",
       "      <td id=\"T_d9b46_row8_col1\" class=\"data row8 col1\" >0</td>\n",
       "      <td id=\"T_d9b46_row8_col2\" class=\"data row8 col2\" >0</td>\n",
       "      <td id=\"T_d9b46_row8_col3\" class=\"data row8 col3\" >nan</td>\n",
       "      <td id=\"T_d9b46_row8_col4\" class=\"data row8 col4\" >nan</td>\n",
       "      <td id=\"T_d9b46_row8_col5\" class=\"data row8 col5\" >0</td>\n",
       "      <td id=\"T_d9b46_row8_col6\" class=\"data row8 col6\" >0</td>\n",
       "      <td id=\"T_d9b46_row8_col7\" class=\"data row8 col7\" >nan</td>\n",
       "      <td id=\"T_d9b46_row8_col8\" class=\"data row8 col8\" >nan</td>\n",
       "    </tr>\n",
       "    <tr>\n",
       "      <th id=\"T_d9b46_level0_row9\" class=\"row_heading level0 row9\" >2023-W28</th>\n",
       "      <td id=\"T_d9b46_row9_col0\" class=\"data row9 col0\" >13</td>\n",
       "      <td id=\"T_d9b46_row9_col1\" class=\"data row9 col1\" >321</td>\n",
       "      <td id=\"T_d9b46_row9_col2\" class=\"data row9 col2\" >45</td>\n",
       "      <td id=\"T_d9b46_row9_col3\" class=\"data row9 col3\" >24.69</td>\n",
       "      <td id=\"T_d9b46_row9_col4\" class=\"data row9 col4\" >7.13</td>\n",
       "      <td id=\"T_d9b46_row9_col5\" class=\"data row9 col5\" >504</td>\n",
       "      <td id=\"T_d9b46_row9_col6\" class=\"data row9 col6\" >79</td>\n",
       "      <td id=\"T_d9b46_row9_col7\" class=\"data row9 col7\" >38.77</td>\n",
       "      <td id=\"T_d9b46_row9_col8\" class=\"data row9 col8\" >6.38</td>\n",
       "    </tr>\n",
       "  </tbody>\n",
       "</table>\n"
      ],
      "text/plain": [
       "<pandas.io.formats.style.Styler at 0x7f1bd020cad0>"
      ]
     },
     "execution_count": 7,
     "metadata": {},
     "output_type": "execute_result"
    }
   ],
   "source": [
    "sdd = defaultdict(list)\n",
    "\n",
    "for dftrain, dftest, t, openproposals in cvtt_open(to_microsoft(dfv), SPLITS_FREQ, dfp.reset_index(), remove_not_in_train_col='userID', normalize=SPLITS_NORMALIZE):\n",
    "    dftrain_filter = dftrain[dftrain['itemID'].isin(openproposals)]\n",
    "    \n",
    "    sdd['fold'].append(t)\n",
    "    sdd['open proposals'].append(len(openproposals))\n",
    "    \n",
    "    sdd['proposals in train'].append(dftrain['itemID'].nunique())\n",
    "    sdd['votes in train'].append(len(dftrain))\n",
    "    sdd['votes in open proposals (train)'].append(len(dftrain_filter))\n",
    "    sdd['users in open proposals (train)'].append(dftrain_filter['userID'].nunique())\n",
    "    sdd['votes in test'].append(len(dftest))\n",
    "    sdd['users in train'].append(dftrain['userID'].nunique())\n",
    "    sdd['users in test'].append(dftest['userID'].nunique())\n",
    "\n",
    "sdf_all = pd.DataFrame(sdd).set_index('fold')\n",
    "sdf_all['vpp in open proposals (train)'] = sdf_all['votes in open proposals (train)'] / sdf_all['open proposals']\n",
    "sdf_all['vpu in open proposals (train)'] = sdf_all['votes in open proposals (train)'] / sdf_all['users in open proposals (train)']\n",
    "sdf_all['vpp test'] = sdf_all['votes in test'] / sdf_all['open proposals']\n",
    "sdf_all['vpu test'] = sdf_all['votes in test'] / sdf_all['users in test']\n",
    "paths.save_folds_info(sdf_all, ORG_NAME, SPLITS_FREQ, SPLITS_NORMALIZE)\n",
    "sdf = sdf_all.tail(LAST_FOLDS)\n",
    "print(sdf['votes in train'])\n",
    "_style = sdf[['open proposals', 'votes in open proposals (train)', 'users in open proposals (train)', 'vpp in open proposals (train)', 'vpu in open proposals (train)', 'votes in test', 'users in test', 'vpp test', 'vpu test']].style\n",
    "_style = _style.format_index('{:%G-W%V}').format(precision=2)\n",
    "_style"
   ]
  },
  {
   "cell_type": "code",
   "execution_count": 8,
   "id": "9822670c",
   "metadata": {
    "execution": {
     "iopub.execute_input": "2024-09-05T08:56:57.093981Z",
     "iopub.status.busy": "2024-09-05T08:56:57.093780Z",
     "iopub.status.idle": "2024-09-05T08:56:57.103863Z",
     "shell.execute_reply": "2024-09-05T08:56:57.103660Z"
    },
    "papermill": {
     "duration": 0.013553,
     "end_time": "2024-09-05T08:56:57.104381",
     "exception": false,
     "start_time": "2024-09-05T08:56:57.090828",
     "status": "completed"
    },
    "tags": []
   },
   "outputs": [
    {
     "name": "stdout",
     "output_type": "stream",
     "text": [
      "\\begin{tabular}{lrrrrrrrrr}\n",
      " & \\textbf{open proposals} & \\textbf{votes in open proposals (train)} & \\textbf{users in open proposals (train)} & \\textbf{vpp in open proposals (train)} & \\textbf{vpu in open proposals (train)} & \\textbf{votes in test} & \\textbf{users in test} & \\textbf{vpp test} & \\textbf{vpu test} \\\\\n",
      "fold &  &  &  &  &  &  &  &  &  \\\\\n",
      "2023-W24 & 13 & 696 & 79 & 53.54 & 8.81 & 145 & 31 & 11.15 & 4.68 \\\\\n",
      "2023-W25 & 0 & 0 & 0 & nan & nan & 0 & 0 & nan & nan \\\\\n",
      "2023-W25 & 7 & 253 & 45 & 36.14 & 5.62 & 278 & 58 & 39.71 & 4.79 \\\\\n",
      "2023-W26 & 0 & 0 & 0 & nan & nan & 0 & 0 & nan & nan \\\\\n",
      "2023-W26 & 7 & 74 & 11 & 10.57 & 6.73 & 481 & 103 & 68.71 & 4.67 \\\\\n",
      "2023-W27 & 7 & 528 & 111 & 75.43 & 4.76 & 51 & 11 & 7.29 & 4.64 \\\\\n",
      "2023-W27 & 0 & 0 & 0 & nan & nan & 0 & 0 & nan & nan \\\\\n",
      "2023-W27 & 3 & 263 & 108 & 87.67 & 2.44 & 84 & 36 & 28.00 & 2.33 \\\\\n",
      "2023-W28 & 0 & 0 & 0 & nan & nan & 0 & 0 & nan & nan \\\\\n",
      "2023-W28 & 13 & 321 & 45 & 24.69 & 7.13 & 504 & 79 & 38.77 & 6.38 \\\\\n",
      "\\end{tabular}\n",
      "\n"
     ]
    }
   ],
   "source": [
    "print(_style\n",
    "  .format_index(\"\\\\textbf{{{}}}\", escape=\"latex\", axis=1)\n",
    "  .to_latex()\n",
    ")"
   ]
  },
  {
   "cell_type": "markdown",
   "id": "d165f9cc",
   "metadata": {
    "papermill": {
     "duration": 0.002099,
     "end_time": "2024-09-05T08:56:57.108627",
     "exception": false,
     "start_time": "2024-09-05T08:56:57.106528",
     "status": "completed"
    },
    "tags": []
   },
   "source": [
    "## Running openpop baseline"
   ]
  },
  {
   "cell_type": "code",
   "execution_count": 9,
   "id": "01cc5a3f",
   "metadata": {
    "execution": {
     "iopub.execute_input": "2024-09-05T08:56:57.113148Z",
     "iopub.status.busy": "2024-09-05T08:56:57.113039Z",
     "iopub.status.idle": "2024-09-05T08:58:22.436476Z",
     "shell.execute_reply": "2024-09-05T08:58:22.436136Z"
    },
    "papermill": {
     "duration": 85.326576,
     "end_time": "2024-09-05T08:58:22.437212",
     "exception": false,
     "start_time": "2024-09-05T08:56:57.110636",
     "status": "completed"
    },
    "tags": []
   },
   "outputs": [
    {
     "data": {
      "application/vnd.jupyter.widget-view+json": {
       "model_id": "722fb48455f84a5fa804938ed0d769e3",
       "version_major": 2,
       "version_minor": 0
      },
      "text/plain": [
       "  0%|          | 0/365 [00:00<?, ?it/s]"
      ]
     },
     "metadata": {},
     "output_type": "display_data"
    },
    {
     "name": "stderr",
     "output_type": "stream",
     "text": [
      "Warning, empty test fold 0 (2020-07-18 00:00:00), all ok since 0 folds ago\n",
      "Warning, empty test fold 1 (2020-07-21 00:00:00), all ok since 1 folds ago\n"
     ]
    },
    {
     "name": "stderr",
     "output_type": "stream",
     "text": [
      "Warning, empty test fold 2 (2020-07-24 00:00:00), all ok since 1 folds ago\n",
      "Warning, empty test fold 3 (2020-07-27 00:00:00), all ok since 1 folds ago\n"
     ]
    },
    {
     "name": "stderr",
     "output_type": "stream",
     "text": [
      "Warning, empty test fold 4 (2020-07-30 00:00:00), all ok since 1 folds ago\n",
      "Warning, test fold 5 (2020-08-02 00:00:00) with less than 5 open proposals (1). all ok since 1 folds ago\n"
     ]
    },
    {
     "name": "stderr",
     "output_type": "stream",
     "text": [
      "Warning, empty test fold 6 (2020-08-05 00:00:00), all ok since 2 folds ago\n",
      "Warning, empty test fold 7 (2020-08-08 00:00:00), all ok since 1 folds ago\n"
     ]
    },
    {
     "name": "stderr",
     "output_type": "stream",
     "text": [
      "Warning, empty test fold 8 (2020-08-11 00:00:00), all ok since 1 folds ago\n",
      "Warning, empty test fold 9 (2020-08-14 00:00:00), all ok since 1 folds ago\n"
     ]
    },
    {
     "name": "stderr",
     "output_type": "stream",
     "text": [
      "Warning, empty test fold 10 (2020-08-17 00:00:00), all ok since 1 folds ago\n",
      "Warning, empty test fold 11 (2020-08-20 00:00:00), all ok since 1 folds ago\n"
     ]
    },
    {
     "name": "stderr",
     "output_type": "stream",
     "text": [
      "Warning, test fold 12 (2020-08-23 00:00:00) with less than 5 open proposals (4). all ok since 1 folds ago\n"
     ]
    },
    {
     "name": "stderr",
     "output_type": "stream",
     "text": [
      "Warning, empty test fold 13 (2020-08-26 00:00:00), all ok since 2 folds ago\n",
      "Warning, empty test fold 14 (2020-08-29 00:00:00), all ok since 1 folds ago\n"
     ]
    },
    {
     "name": "stderr",
     "output_type": "stream",
     "text": [
      "Warning, empty test fold 15 (2020-09-01 00:00:00), all ok since 1 folds ago\n",
      "Warning, empty test fold 16 (2020-09-04 00:00:00), all ok since 1 folds ago\n"
     ]
    },
    {
     "name": "stderr",
     "output_type": "stream",
     "text": [
      "Warning, empty test fold 17 (2020-09-07 00:00:00), all ok since 1 folds ago\n",
      "Warning, empty test fold 18 (2020-09-10 00:00:00), all ok since 1 folds ago\n"
     ]
    },
    {
     "name": "stderr",
     "output_type": "stream",
     "text": [
      "Warning, empty test fold 19 (2020-09-13 00:00:00), all ok since 1 folds ago\n",
      "Warning, empty test fold 20 (2020-09-16 00:00:00), all ok since 1 folds ago\n"
     ]
    },
    {
     "name": "stderr",
     "output_type": "stream",
     "text": [
      "Warning, empty test fold 21 (2020-09-19 00:00:00), all ok since 1 folds ago\n",
      "Warning, empty test fold 22 (2020-09-22 00:00:00), all ok since 1 folds ago\n"
     ]
    },
    {
     "name": "stderr",
     "output_type": "stream",
     "text": [
      "Warning, empty test fold 23 (2020-09-25 00:00:00), all ok since 1 folds ago\n",
      "Warning, empty test fold 24 (2020-09-28 00:00:00), all ok since 1 folds ago\n"
     ]
    },
    {
     "name": "stderr",
     "output_type": "stream",
     "text": [
      "Warning, empty test fold 25 (2020-10-01 00:00:00), all ok since 1 folds ago\n",
      "Warning, test fold 26 (2020-10-04 00:00:00) with less than 5 open proposals (1). all ok since 1 folds ago\n"
     ]
    },
    {
     "name": "stderr",
     "output_type": "stream",
     "text": [
      "Warning, empty test fold 27 (2020-10-07 00:00:00), all ok since 2 folds ago\n",
      "Warning, test fold 28 (2020-10-10 00:00:00) with less than 5 open proposals (1). all ok since 1 folds ago\n"
     ]
    },
    {
     "name": "stderr",
     "output_type": "stream",
     "text": [
      "Warning, empty test fold 29 (2020-10-13 00:00:00), all ok since 2 folds ago\n",
      "Warning, empty test fold 30 (2020-10-16 00:00:00), all ok since 1 folds ago\n"
     ]
    },
    {
     "name": "stderr",
     "output_type": "stream",
     "text": [
      "Warning, empty test fold 31 (2020-10-19 00:00:00), all ok since 1 folds ago\n",
      "Warning, empty test fold 32 (2020-10-22 00:00:00), all ok since 1 folds ago\n"
     ]
    },
    {
     "name": "stderr",
     "output_type": "stream",
     "text": [
      "Warning, empty test fold 33 (2020-10-25 00:00:00), all ok since 1 folds ago\n",
      "Warning, empty test fold 34 (2020-10-28 00:00:00), all ok since 1 folds ago\n"
     ]
    },
    {
     "name": "stderr",
     "output_type": "stream",
     "text": [
      "Warning, empty test fold 35 (2020-10-31 00:00:00), all ok since 1 folds ago\n",
      "Warning, empty test fold 36 (2020-11-03 00:00:00), all ok since 1 folds ago\n"
     ]
    },
    {
     "name": "stderr",
     "output_type": "stream",
     "text": [
      "Warning, test fold 37 (2020-11-06 00:00:00) with less than 5 open proposals (1). all ok since 1 folds ago\n"
     ]
    },
    {
     "name": "stderr",
     "output_type": "stream",
     "text": [
      "Warning, empty test fold 38 (2020-11-09 00:00:00), all ok since 2 folds ago\n",
      "Warning, empty test fold 39 (2020-11-12 00:00:00), all ok since 1 folds ago\n"
     ]
    },
    {
     "name": "stderr",
     "output_type": "stream",
     "text": [
      "Warning, empty test fold 40 (2020-11-15 00:00:00), all ok since 1 folds ago\n",
      "Warning, empty test fold 41 (2020-11-18 00:00:00), all ok since 1 folds ago\n"
     ]
    },
    {
     "name": "stderr",
     "output_type": "stream",
     "text": [
      "Warning, empty test fold 42 (2020-11-21 00:00:00), all ok since 1 folds ago\n",
      "Warning, empty test fold 43 (2020-11-24 00:00:00), all ok since 1 folds ago\n"
     ]
    },
    {
     "name": "stderr",
     "output_type": "stream",
     "text": [
      "Warning, test fold 44 (2020-11-27 00:00:00) with less than 5 open proposals (1). all ok since 1 folds ago\n"
     ]
    },
    {
     "name": "stderr",
     "output_type": "stream",
     "text": [
      "Warning, empty test fold 45 (2020-11-30 00:00:00), all ok since 2 folds ago\n",
      "Warning, empty test fold 46 (2020-12-03 00:00:00), all ok since 1 folds ago\n"
     ]
    },
    {
     "name": "stderr",
     "output_type": "stream",
     "text": [
      "Warning, empty test fold 47 (2020-12-06 00:00:00), all ok since 1 folds ago\n",
      "Warning, empty test fold 48 (2020-12-09 00:00:00), all ok since 1 folds ago\n"
     ]
    },
    {
     "name": "stderr",
     "output_type": "stream",
     "text": [
      "Warning, test fold 49 (2020-12-12 00:00:00) with less than 5 open proposals (1). all ok since 1 folds ago\n"
     ]
    },
    {
     "name": "stderr",
     "output_type": "stream",
     "text": [
      "Warning, empty test fold 50 (2020-12-15 00:00:00), all ok since 2 folds ago\n",
      "Warning, test fold 51 (2020-12-18 00:00:00) with less than 5 open proposals (1). all ok since 1 folds ago\n"
     ]
    },
    {
     "name": "stderr",
     "output_type": "stream",
     "text": [
      "Warning, test fold 52 (2020-12-21 00:00:00) with less than 5 open proposals (1). all ok since 1 folds ago\n"
     ]
    },
    {
     "name": "stderr",
     "output_type": "stream",
     "text": [
      "Warning, empty test fold 53 (2020-12-24 00:00:00), all ok since 3 folds ago\n",
      "Warning, empty test fold 54 (2020-12-27 00:00:00), all ok since 1 folds ago\n"
     ]
    },
    {
     "name": "stderr",
     "output_type": "stream",
     "text": [
      "Warning, empty test fold 55 (2020-12-30 00:00:00), all ok since 1 folds ago\n",
      "Warning, empty test fold 56 (2021-01-02 00:00:00), all ok since 1 folds ago\n"
     ]
    },
    {
     "name": "stderr",
     "output_type": "stream",
     "text": [
      "Warning, empty test fold 57 (2021-01-05 00:00:00), all ok since 1 folds ago\n",
      "Warning, empty test fold 58 (2021-01-08 00:00:00), all ok since 1 folds ago\n"
     ]
    },
    {
     "name": "stderr",
     "output_type": "stream",
     "text": [
      "Warning, empty test fold 59 (2021-01-11 00:00:00), all ok since 1 folds ago\n",
      "Warning, empty test fold 60 (2021-01-14 00:00:00), all ok since 1 folds ago\n"
     ]
    },
    {
     "name": "stderr",
     "output_type": "stream",
     "text": [
      "Warning, test fold 61 (2021-01-17 00:00:00) with less than 5 open proposals (1). all ok since 1 folds ago\n"
     ]
    },
    {
     "name": "stderr",
     "output_type": "stream",
     "text": [
      "Warning, empty test fold 62 (2021-01-20 00:00:00), all ok since 2 folds ago\n",
      "Warning, test fold 63 (2021-01-23 00:00:00) with less than 5 open proposals (3). all ok since 1 folds ago\n"
     ]
    },
    {
     "name": "stderr",
     "output_type": "stream",
     "text": [
      "Warning, empty test fold 64 (2021-01-26 00:00:00), all ok since 2 folds ago\n",
      "Warning, empty test fold 65 (2021-01-29 00:00:00), all ok since 1 folds ago\n"
     ]
    },
    {
     "name": "stderr",
     "output_type": "stream",
     "text": [
      "Warning, empty test fold 66 (2021-02-01 00:00:00), all ok since 1 folds ago\n",
      "Warning, empty test fold 67 (2021-02-04 00:00:00), all ok since 1 folds ago\n"
     ]
    },
    {
     "name": "stderr",
     "output_type": "stream",
     "text": [
      "Warning, test fold 68 (2021-02-07 00:00:00) with less than 5 open proposals (3). all ok since 1 folds ago\n"
     ]
    },
    {
     "name": "stderr",
     "output_type": "stream",
     "text": [
      "Warning, empty test fold 69 (2021-02-10 00:00:00), all ok since 2 folds ago\n",
      "Warning, test fold 70 (2021-02-13 00:00:00) with less than 5 open proposals (2). all ok since 1 folds ago\n"
     ]
    },
    {
     "name": "stderr",
     "output_type": "stream",
     "text": [
      "Warning, empty test fold 71 (2021-02-16 00:00:00), all ok since 2 folds ago\n",
      "Warning, empty test fold 72 (2021-02-19 00:00:00), all ok since 1 folds ago\n"
     ]
    },
    {
     "name": "stderr",
     "output_type": "stream",
     "text": [
      "Warning, empty test fold 73 (2021-02-22 00:00:00), all ok since 1 folds ago\n",
      "Warning, empty test fold 74 (2021-02-25 00:00:00), all ok since 1 folds ago\n"
     ]
    },
    {
     "name": "stderr",
     "output_type": "stream",
     "text": [
      "Warning, empty test fold 75 (2021-02-28 00:00:00), all ok since 1 folds ago\n",
      "Warning, empty test fold 76 (2021-03-03 00:00:00), all ok since 1 folds ago\n"
     ]
    },
    {
     "name": "stderr",
     "output_type": "stream",
     "text": [
      "Warning, test fold 77 (2021-03-06 00:00:00) with less than 5 open proposals (2). all ok since 1 folds ago\n"
     ]
    },
    {
     "name": "stderr",
     "output_type": "stream",
     "text": [
      "Warning, empty test fold 78 (2021-03-09 00:00:00), all ok since 2 folds ago\n",
      "Warning, empty test fold 79 (2021-03-12 00:00:00), all ok since 1 folds ago\n"
     ]
    },
    {
     "name": "stderr",
     "output_type": "stream",
     "text": [
      "Warning, empty test fold 80 (2021-03-15 00:00:00), all ok since 1 folds ago\n",
      "Warning, empty test fold 81 (2021-03-18 00:00:00), all ok since 1 folds ago\n"
     ]
    },
    {
     "name": "stderr",
     "output_type": "stream",
     "text": [
      "Warning, empty test fold 82 (2021-03-21 00:00:00), all ok since 1 folds ago\n",
      "Warning, empty test fold 83 (2021-03-24 00:00:00), all ok since 1 folds ago\n"
     ]
    },
    {
     "name": "stderr",
     "output_type": "stream",
     "text": [
      "Warning, empty test fold 84 (2021-03-27 00:00:00), all ok since 1 folds ago\n",
      "Warning, empty test fold 85 (2021-03-30 00:00:00), all ok since 1 folds ago\n"
     ]
    },
    {
     "name": "stderr",
     "output_type": "stream",
     "text": [
      "Warning, empty test fold 86 (2021-04-02 00:00:00), all ok since 1 folds ago\n",
      "Warning, empty test fold 87 (2021-04-05 00:00:00), all ok since 1 folds ago\n"
     ]
    },
    {
     "name": "stderr",
     "output_type": "stream",
     "text": [
      "Warning, empty test fold 88 (2021-04-08 00:00:00), all ok since 1 folds ago\n",
      "Warning, test fold 89 (2021-04-11 00:00:00) with less than 5 open proposals (1). all ok since 1 folds ago\n"
     ]
    },
    {
     "name": "stderr",
     "output_type": "stream",
     "text": [
      "Warning, empty test fold 90 (2021-04-14 00:00:00), all ok since 2 folds ago\n",
      "Warning, test fold 91 (2021-04-17 00:00:00) with less than 5 open proposals (2). all ok since 1 folds ago\n"
     ]
    },
    {
     "name": "stderr",
     "output_type": "stream",
     "text": [
      "Warning, empty test fold 92 (2021-04-20 00:00:00), all ok since 2 folds ago\n",
      "Warning, empty test fold 93 (2021-04-23 00:00:00), all ok since 1 folds ago\n"
     ]
    },
    {
     "name": "stderr",
     "output_type": "stream",
     "text": [
      "Warning, empty test fold 94 (2021-04-26 00:00:00), all ok since 1 folds ago\n",
      "Warning, empty test fold 95 (2021-04-29 00:00:00), all ok since 1 folds ago\n"
     ]
    },
    {
     "name": "stderr",
     "output_type": "stream",
     "text": [
      "Warning, empty test fold 96 (2021-05-02 00:00:00), all ok since 1 folds ago\n",
      "Warning, empty test fold 97 (2021-05-05 00:00:00), all ok since 1 folds ago\n"
     ]
    },
    {
     "name": "stderr",
     "output_type": "stream",
     "text": [
      "Warning, test fold 98 (2021-05-08 00:00:00) with less than 5 open proposals (2). all ok since 1 folds ago\n"
     ]
    },
    {
     "name": "stderr",
     "output_type": "stream",
     "text": [
      "Warning, empty test fold 99 (2021-05-11 00:00:00), all ok since 2 folds ago\n",
      "Warning, test fold 100 (2021-05-14 00:00:00) with less than 5 open proposals (1). all ok since 1 folds ago\n"
     ]
    },
    {
     "name": "stderr",
     "output_type": "stream",
     "text": [
      "Warning, empty test fold 101 (2021-05-17 00:00:00), all ok since 2 folds ago\n",
      "Warning, empty test fold 102 (2021-05-20 00:00:00), all ok since 1 folds ago\n"
     ]
    },
    {
     "name": "stderr",
     "output_type": "stream",
     "text": [
      "Warning, empty test fold 103 (2021-05-23 00:00:00), all ok since 1 folds ago\n",
      "Warning, empty test fold 104 (2021-05-26 00:00:00), all ok since 1 folds ago\n"
     ]
    },
    {
     "name": "stderr",
     "output_type": "stream",
     "text": [
      "Warning, empty test fold 105 (2021-05-29 00:00:00), all ok since 1 folds ago\n",
      "Warning, empty test fold 106 (2021-06-01 00:00:00), all ok since 1 folds ago\n"
     ]
    },
    {
     "name": "stderr",
     "output_type": "stream",
     "text": [
      "Warning, empty test fold 107 (2021-06-04 00:00:00), all ok since 1 folds ago\n",
      "Warning, empty test fold 108 (2021-06-07 00:00:00), all ok since 1 folds ago\n"
     ]
    },
    {
     "name": "stderr",
     "output_type": "stream",
     "text": [
      "Warning, empty test fold 109 (2021-06-10 00:00:00), all ok since 1 folds ago\n",
      "Warning, test fold 110 (2021-06-13 00:00:00) with less than 5 open proposals (1). all ok since 1 folds ago\n"
     ]
    },
    {
     "name": "stderr",
     "output_type": "stream",
     "text": [
      "Warning, empty test fold 111 (2021-06-16 00:00:00), all ok since 2 folds ago\n",
      "Warning, test fold 112 (2021-06-19 00:00:00) with less than 5 open proposals (1). all ok since 1 folds ago\n"
     ]
    },
    {
     "name": "stderr",
     "output_type": "stream",
     "text": [
      "Warning, empty test fold 113 (2021-06-22 00:00:00), all ok since 2 folds ago\n",
      "Warning, empty test fold 114 (2021-06-25 00:00:00), all ok since 1 folds ago\n"
     ]
    },
    {
     "name": "stderr",
     "output_type": "stream",
     "text": [
      "Warning, empty test fold 115 (2021-06-28 00:00:00), all ok since 1 folds ago\n",
      "Warning, empty test fold 116 (2021-07-01 00:00:00), all ok since 1 folds ago\n"
     ]
    },
    {
     "name": "stderr",
     "output_type": "stream",
     "text": [
      "Warning, empty test fold 117 (2021-07-04 00:00:00), all ok since 1 folds ago\n",
      "Warning, empty test fold 118 (2021-07-07 00:00:00), all ok since 1 folds ago\n"
     ]
    },
    {
     "name": "stderr",
     "output_type": "stream",
     "text": [
      "Warning, empty test fold 119 (2021-07-10 00:00:00), all ok since 1 folds ago\n",
      "Warning, empty test fold 120 (2021-07-13 00:00:00), all ok since 1 folds ago\n"
     ]
    },
    {
     "name": "stderr",
     "output_type": "stream",
     "text": [
      "Warning, empty test fold 121 (2021-07-16 00:00:00), all ok since 1 folds ago\n",
      "Warning, empty test fold 122 (2021-07-19 00:00:00), all ok since 1 folds ago\n"
     ]
    },
    {
     "name": "stderr",
     "output_type": "stream",
     "text": [
      "Warning, empty test fold 123 (2021-07-22 00:00:00), all ok since 1 folds ago\n",
      "Warning, empty test fold 124 (2021-07-25 00:00:00), all ok since 1 folds ago\n"
     ]
    },
    {
     "name": "stderr",
     "output_type": "stream",
     "text": [
      "Warning, empty test fold 125 (2021-07-28 00:00:00), all ok since 1 folds ago\n",
      "Warning, empty test fold 126 (2021-07-31 00:00:00), all ok since 1 folds ago\n"
     ]
    },
    {
     "name": "stderr",
     "output_type": "stream",
     "text": [
      "Warning, empty test fold 127 (2021-08-03 00:00:00), all ok since 1 folds ago\n",
      "Warning, empty test fold 128 (2021-08-06 00:00:00), all ok since 1 folds ago\n"
     ]
    },
    {
     "name": "stderr",
     "output_type": "stream",
     "text": [
      "Warning, test fold 129 (2021-08-09 00:00:00) with less than 5 open proposals (1). all ok since 1 folds ago\n"
     ]
    },
    {
     "name": "stderr",
     "output_type": "stream",
     "text": [
      "Warning, empty test fold 130 (2021-08-12 00:00:00), all ok since 2 folds ago\n",
      "Warning, test fold 131 (2021-08-15 00:00:00) with less than 5 open proposals (4). all ok since 1 folds ago\n"
     ]
    },
    {
     "name": "stderr",
     "output_type": "stream",
     "text": [
      "Warning, empty test fold 132 (2021-08-18 00:00:00), all ok since 2 folds ago\n",
      "Warning, test fold 133 (2021-08-21 00:00:00) with less than 5 open proposals (1). all ok since 1 folds ago\n"
     ]
    },
    {
     "name": "stderr",
     "output_type": "stream",
     "text": [
      "Warning, empty test fold 134 (2021-08-24 00:00:00), all ok since 2 folds ago\n",
      "Warning, empty test fold 135 (2021-08-27 00:00:00), all ok since 1 folds ago\n"
     ]
    },
    {
     "name": "stderr",
     "output_type": "stream",
     "text": [
      "Warning, empty test fold 136 (2021-08-30 00:00:00), all ok since 1 folds ago\n",
      "Warning, empty test fold 137 (2021-09-02 00:00:00), all ok since 1 folds ago\n"
     ]
    },
    {
     "name": "stderr",
     "output_type": "stream",
     "text": [
      "Warning, test fold 138 (2021-09-05 00:00:00) with less than 5 open proposals (2). all ok since 1 folds ago\n"
     ]
    },
    {
     "name": "stderr",
     "output_type": "stream",
     "text": [
      "Warning, empty test fold 139 (2021-09-08 00:00:00), all ok since 2 folds ago\n",
      "Warning, empty test fold 140 (2021-09-11 00:00:00), all ok since 1 folds ago\n"
     ]
    },
    {
     "name": "stderr",
     "output_type": "stream",
     "text": [
      "Warning, empty test fold 141 (2021-09-14 00:00:00), all ok since 1 folds ago\n",
      "Warning, empty test fold 142 (2021-09-17 00:00:00), all ok since 1 folds ago\n"
     ]
    },
    {
     "name": "stderr",
     "output_type": "stream",
     "text": [
      "Warning, test fold 143 (2021-09-20 00:00:00) with less than 5 open proposals (2). all ok since 1 folds ago\n"
     ]
    },
    {
     "name": "stderr",
     "output_type": "stream",
     "text": [
      "Warning, empty test fold 144 (2021-09-23 00:00:00), all ok since 2 folds ago\n",
      "Warning, empty test fold 145 (2021-09-26 00:00:00), all ok since 1 folds ago\n"
     ]
    },
    {
     "name": "stderr",
     "output_type": "stream",
     "text": [
      "Warning, test fold 146 (2021-09-29 00:00:00) with less than 5 open proposals (1). all ok since 1 folds ago\n"
     ]
    },
    {
     "name": "stderr",
     "output_type": "stream",
     "text": [
      "Warning, empty test fold 147 (2021-10-02 00:00:00), all ok since 2 folds ago\n",
      "Warning, empty test fold 148 (2021-10-05 00:00:00), all ok since 1 folds ago\n"
     ]
    },
    {
     "name": "stderr",
     "output_type": "stream",
     "text": [
      "Warning, empty test fold 149 (2021-10-08 00:00:00), all ok since 1 folds ago\n",
      "Warning, empty test fold 150 (2021-10-11 00:00:00), all ok since 1 folds ago\n"
     ]
    },
    {
     "name": "stderr",
     "output_type": "stream",
     "text": [
      "Warning, empty test fold 151 (2021-10-14 00:00:00), all ok since 1 folds ago\n",
      "Warning, test fold 152 (2021-10-17 00:00:00) with less than 5 open proposals (1). all ok since 1 folds ago\n"
     ]
    },
    {
     "name": "stderr",
     "output_type": "stream",
     "text": [
      "Warning, empty test fold 153 (2021-10-20 00:00:00), all ok since 2 folds ago\n",
      "Warning, empty test fold 154 (2021-10-23 00:00:00), all ok since 1 folds ago\n"
     ]
    },
    {
     "name": "stderr",
     "output_type": "stream",
     "text": [
      "Warning, test fold 155 (2021-10-26 00:00:00) with less than 5 open proposals (1). all ok since 1 folds ago\n"
     ]
    },
    {
     "name": "stderr",
     "output_type": "stream",
     "text": [
      "Warning, test fold 156 (2021-10-29 00:00:00) with less than 5 open proposals (2). all ok since 1 folds ago\n"
     ]
    },
    {
     "name": "stderr",
     "output_type": "stream",
     "text": [
      "Warning, test fold 157 (2021-11-01 00:00:00) with less than 5 open proposals (3). all ok since 1 folds ago\n"
     ]
    },
    {
     "name": "stderr",
     "output_type": "stream",
     "text": [
      "Warning, empty test fold 158 (2021-11-04 00:00:00), all ok since 4 folds ago\n",
      "Warning, test fold 159 (2021-11-07 00:00:00) with less than 5 open proposals (1). all ok since 1 folds ago\n"
     ]
    },
    {
     "name": "stderr",
     "output_type": "stream",
     "text": [
      "Warning, test fold 160 (2021-11-10 00:00:00) with less than 5 open proposals (1). all ok since 1 folds ago\n"
     ]
    },
    {
     "name": "stderr",
     "output_type": "stream",
     "text": [
      "Warning, empty test fold 161 (2021-11-13 00:00:00), all ok since 3 folds ago\n",
      "Warning, empty test fold 162 (2021-11-16 00:00:00), all ok since 1 folds ago\n"
     ]
    },
    {
     "name": "stderr",
     "output_type": "stream",
     "text": [
      "Warning, empty test fold 163 (2021-11-19 00:00:00), all ok since 1 folds ago\n",
      "Warning, test fold 164 (2021-11-22 00:00:00) with less than 5 open proposals (2). all ok since 1 folds ago\n"
     ]
    },
    {
     "name": "stderr",
     "output_type": "stream",
     "text": [
      "Warning, empty test fold 165 (2021-11-25 00:00:00), all ok since 2 folds ago\n",
      "Warning, empty test fold 166 (2021-11-28 00:00:00), all ok since 1 folds ago\n"
     ]
    },
    {
     "name": "stderr",
     "output_type": "stream",
     "text": [
      "Warning, empty test fold 167 (2021-12-01 00:00:00), all ok since 1 folds ago\n",
      "Warning, test fold 168 (2021-12-04 00:00:00) with less than 5 open proposals (1). all ok since 1 folds ago\n"
     ]
    },
    {
     "name": "stderr",
     "output_type": "stream",
     "text": [
      "Warning, test fold 169 (2021-12-07 00:00:00) with less than 5 open proposals (1). all ok since 1 folds ago\n"
     ]
    },
    {
     "name": "stderr",
     "output_type": "stream",
     "text": [
      "Warning, test fold 170 (2021-12-10 00:00:00) with less than 5 open proposals (3). all ok since 1 folds ago\n"
     ]
    },
    {
     "name": "stderr",
     "output_type": "stream",
     "text": [
      "Warning, test fold 171 (2021-12-13 00:00:00) with less than 5 open proposals (1). all ok since 1 folds ago\n"
     ]
    },
    {
     "name": "stderr",
     "output_type": "stream",
     "text": [
      "Warning, test fold 172 (2021-12-16 00:00:00) with less than 5 open proposals (2). all ok since 1 folds ago\n"
     ]
    },
    {
     "name": "stderr",
     "output_type": "stream",
     "text": [
      "Warning, test fold 173 (2021-12-19 00:00:00) with less than 5 open proposals (1). all ok since 1 folds ago\n"
     ]
    },
    {
     "name": "stderr",
     "output_type": "stream",
     "text": [
      "Warning, test fold 174 (2021-12-22 00:00:00) with less than 5 open proposals (1). all ok since 1 folds ago\n"
     ]
    },
    {
     "name": "stderr",
     "output_type": "stream",
     "text": [
      "Warning, empty test fold 175 (2021-12-25 00:00:00), all ok since 8 folds ago\n",
      "Warning, empty test fold 176 (2021-12-28 00:00:00), all ok since 1 folds ago\n"
     ]
    },
    {
     "name": "stderr",
     "output_type": "stream",
     "text": [
      "Warning, empty test fold 177 (2021-12-31 00:00:00), all ok since 1 folds ago\n",
      "Warning, empty test fold 178 (2022-01-03 00:00:00), all ok since 1 folds ago\n"
     ]
    },
    {
     "name": "stderr",
     "output_type": "stream",
     "text": [
      "Warning, empty test fold 179 (2022-01-06 00:00:00), all ok since 1 folds ago\n",
      "Warning, empty test fold 180 (2022-01-09 00:00:00), all ok since 1 folds ago\n"
     ]
    },
    {
     "name": "stderr",
     "output_type": "stream",
     "text": [
      "Warning, empty test fold 181 (2022-01-12 00:00:00), all ok since 1 folds ago\n",
      "Warning, test fold 182 (2022-01-15 00:00:00) with less than 5 open proposals (2). all ok since 1 folds ago\n"
     ]
    },
    {
     "name": "stderr",
     "output_type": "stream",
     "text": [
      "Warning, empty test fold 183 (2022-01-18 00:00:00), all ok since 2 folds ago\n",
      "Warning, empty test fold 184 (2022-01-21 00:00:00), all ok since 1 folds ago\n"
     ]
    },
    {
     "name": "stderr",
     "output_type": "stream",
     "text": [
      "Warning, empty test fold 185 (2022-01-24 00:00:00), all ok since 1 folds ago\n",
      "Warning, test fold 186 (2022-01-27 00:00:00) with less than 5 open proposals (1). all ok since 1 folds ago\n"
     ]
    },
    {
     "name": "stderr",
     "output_type": "stream",
     "text": [
      "Warning, test fold 187 (2022-01-30 00:00:00) with less than 5 open proposals (1). all ok since 1 folds ago\n"
     ]
    },
    {
     "name": "stderr",
     "output_type": "stream",
     "text": [
      "Warning, empty test fold 188 (2022-02-02 00:00:00), all ok since 3 folds ago\n",
      "Warning, empty test fold 189 (2022-02-05 00:00:00), all ok since 1 folds ago\n"
     ]
    },
    {
     "name": "stderr",
     "output_type": "stream",
     "text": [
      "Warning, empty test fold 190 (2022-02-08 00:00:00), all ok since 1 folds ago\n",
      "Warning, test fold 191 (2022-02-11 00:00:00) with less than 5 open proposals (1). all ok since 1 folds ago\n"
     ]
    },
    {
     "name": "stderr",
     "output_type": "stream",
     "text": [
      "Warning, test fold 192 (2022-02-14 00:00:00) with less than 5 open proposals (1). all ok since 1 folds ago\n"
     ]
    },
    {
     "name": "stderr",
     "output_type": "stream",
     "text": [
      "Warning, test fold 193 (2022-02-17 00:00:00) with less than 5 open proposals (1). all ok since 1 folds ago\n"
     ]
    },
    {
     "name": "stderr",
     "output_type": "stream",
     "text": [
      "Warning, empty test fold 194 (2022-02-20 00:00:00), all ok since 4 folds ago\n",
      "Warning, empty test fold 195 (2022-02-23 00:00:00), all ok since 1 folds ago\n"
     ]
    },
    {
     "name": "stderr",
     "output_type": "stream",
     "text": [
      "Warning, test fold 196 (2022-02-26 00:00:00) with less than 5 open proposals (2). all ok since 1 folds ago\n"
     ]
    },
    {
     "name": "stderr",
     "output_type": "stream",
     "text": [
      "Warning, empty test fold 197 (2022-03-01 00:00:00), all ok since 2 folds ago\n",
      "Warning, empty test fold 198 (2022-03-04 00:00:00), all ok since 1 folds ago\n"
     ]
    },
    {
     "name": "stderr",
     "output_type": "stream",
     "text": [
      "Warning, empty test fold 199 (2022-03-07 00:00:00), all ok since 1 folds ago\n",
      "Warning, test fold 200 (2022-03-10 00:00:00) with less than 5 open proposals (2). all ok since 1 folds ago\n"
     ]
    },
    {
     "name": "stderr",
     "output_type": "stream",
     "text": [
      "Warning, empty test fold 201 (2022-03-13 00:00:00), all ok since 2 folds ago\n",
      "Warning, empty test fold 202 (2022-03-16 00:00:00), all ok since 1 folds ago\n"
     ]
    },
    {
     "name": "stderr",
     "output_type": "stream",
     "text": [
      "Warning, test fold 203 (2022-03-19 00:00:00) with less than 5 open proposals (3). all ok since 1 folds ago\n"
     ]
    },
    {
     "name": "stderr",
     "output_type": "stream",
     "text": [
      "Warning, empty test fold 204 (2022-03-22 00:00:00), all ok since 2 folds ago\n",
      "Warning, test fold 205 (2022-03-25 00:00:00) with less than 5 open proposals (1). all ok since 1 folds ago\n"
     ]
    },
    {
     "name": "stderr",
     "output_type": "stream",
     "text": [
      "Warning, test fold 206 (2022-03-28 00:00:00) with less than 5 open proposals (3). all ok since 1 folds ago\n"
     ]
    },
    {
     "name": "stderr",
     "output_type": "stream",
     "text": [
      "Warning, empty test fold 207 (2022-03-31 00:00:00), all ok since 3 folds ago\n",
      "Warning, empty test fold 208 (2022-04-03 00:00:00), all ok since 1 folds ago\n"
     ]
    },
    {
     "name": "stderr",
     "output_type": "stream",
     "text": [
      "Warning, empty test fold 209 (2022-04-06 00:00:00), all ok since 1 folds ago\n",
      "Warning, test fold 210 (2022-04-09 00:00:00) with less than 5 open proposals (3). all ok since 1 folds ago\n"
     ]
    },
    {
     "name": "stderr",
     "output_type": "stream",
     "text": [
      "Warning, empty test fold 211 (2022-04-12 00:00:00), all ok since 2 folds ago\n",
      "Warning, test fold 212 (2022-04-15 00:00:00) with less than 5 open proposals (2). all ok since 1 folds ago\n"
     ]
    },
    {
     "name": "stderr",
     "output_type": "stream",
     "text": [
      "Warning, test fold 213 (2022-04-18 00:00:00) with less than 5 open proposals (3). all ok since 1 folds ago\n"
     ]
    },
    {
     "name": "stderr",
     "output_type": "stream",
     "text": [
      "Warning, test fold 214 (2022-04-21 00:00:00) with less than 5 open proposals (1). all ok since 1 folds ago\n"
     ]
    },
    {
     "name": "stderr",
     "output_type": "stream",
     "text": [
      "Warning, test fold 215 (2022-04-24 00:00:00) with less than 5 open proposals (1). all ok since 1 folds ago\n"
     ]
    },
    {
     "name": "stderr",
     "output_type": "stream",
     "text": [
      "Warning, test fold 216 (2022-04-27 00:00:00) with less than 5 open proposals (4). all ok since 1 folds ago\n"
     ]
    },
    {
     "name": "stderr",
     "output_type": "stream",
     "text": [
      "Warning, empty test fold 217 (2022-04-30 00:00:00), all ok since 6 folds ago\n",
      "Warning, empty test fold 218 (2022-05-03 00:00:00), all ok since 1 folds ago\n"
     ]
    },
    {
     "name": "stderr",
     "output_type": "stream",
     "text": [
      "Warning, test fold 220 (2022-05-09 00:00:00) with less than 5 open proposals (1). all ok since 2 folds ago\n"
     ]
    },
    {
     "name": "stderr",
     "output_type": "stream",
     "text": [
      "Warning, test fold 221 (2022-05-12 00:00:00) with less than 5 open proposals (1). all ok since 1 folds ago\n"
     ]
    },
    {
     "name": "stderr",
     "output_type": "stream",
     "text": [
      "Warning, test fold 223 (2022-05-18 00:00:00) with less than 5 open proposals (1). all ok since 2 folds ago\n"
     ]
    },
    {
     "name": "stderr",
     "output_type": "stream",
     "text": [
      "Warning, test fold 224 (2022-05-21 00:00:00) with less than 5 open proposals (1). all ok since 1 folds ago\n"
     ]
    },
    {
     "name": "stderr",
     "output_type": "stream",
     "text": [
      "Warning, test fold 225 (2022-05-24 00:00:00) with less than 5 open proposals (3). all ok since 1 folds ago\n"
     ]
    },
    {
     "name": "stderr",
     "output_type": "stream",
     "text": [
      "Warning, empty test fold 226 (2022-05-27 00:00:00), all ok since 8 folds ago\n",
      "Warning, test fold 227 (2022-05-30 00:00:00) with less than 5 open proposals (2). all ok since 1 folds ago\n"
     ]
    },
    {
     "name": "stderr",
     "output_type": "stream",
     "text": [
      "Warning, test fold 228 (2022-06-02 00:00:00) with less than 5 open proposals (2). all ok since 1 folds ago\n"
     ]
    },
    {
     "name": "stderr",
     "output_type": "stream",
     "text": [
      "Warning, test fold 229 (2022-06-05 00:00:00) with less than 5 open proposals (4). all ok since 1 folds ago\n"
     ]
    },
    {
     "name": "stderr",
     "output_type": "stream",
     "text": [
      "Warning, empty test fold 230 (2022-06-08 00:00:00), all ok since 4 folds ago\n"
     ]
    },
    {
     "name": "stderr",
     "output_type": "stream",
     "text": [
      "Warning, test fold 232 (2022-06-14 00:00:00) with less than 5 open proposals (1). all ok since 2 folds ago\n"
     ]
    },
    {
     "name": "stderr",
     "output_type": "stream",
     "text": [
      "Warning, empty test fold 233 (2022-06-17 00:00:00), all ok since 3 folds ago\n"
     ]
    },
    {
     "name": "stderr",
     "output_type": "stream",
     "text": [
      "Warning, empty test fold 235 (2022-06-23 00:00:00), all ok since 2 folds ago\n"
     ]
    },
    {
     "name": "stderr",
     "output_type": "stream",
     "text": [
      "Warning, empty test fold 237 (2022-06-29 00:00:00), all ok since 2 folds ago\n"
     ]
    },
    {
     "name": "stderr",
     "output_type": "stream",
     "text": [
      "Warning, test fold 239 (2022-07-05 00:00:00) with less than 5 open proposals (2). all ok since 2 folds ago\n"
     ]
    },
    {
     "name": "stderr",
     "output_type": "stream",
     "text": [
      "Warning, test fold 240 (2022-07-08 00:00:00) with less than 5 open proposals (3). all ok since 1 folds ago\n"
     ]
    },
    {
     "name": "stderr",
     "output_type": "stream",
     "text": [
      "Warning, empty test fold 241 (2022-07-11 00:00:00), all ok since 4 folds ago\n",
      "Warning, empty test fold 242 (2022-07-14 00:00:00), all ok since 1 folds ago\n"
     ]
    },
    {
     "name": "stderr",
     "output_type": "stream",
     "text": [
      "Warning, test fold 243 (2022-07-17 00:00:00) with less than 5 open proposals (1). all ok since 1 folds ago\n"
     ]
    },
    {
     "name": "stderr",
     "output_type": "stream",
     "text": [
      "Warning, empty test fold 244 (2022-07-20 00:00:00), all ok since 2 folds ago\n"
     ]
    },
    {
     "name": "stderr",
     "output_type": "stream",
     "text": [
      "Warning, empty test fold 246 (2022-07-26 00:00:00), all ok since 2 folds ago\n",
      "Warning, test fold 247 (2022-07-29 00:00:00) with less than 5 open proposals (4). all ok since 1 folds ago\n"
     ]
    },
    {
     "name": "stderr",
     "output_type": "stream",
     "text": [
      "Warning, empty test fold 248 (2022-08-01 00:00:00), all ok since 2 folds ago\n",
      "Warning, empty test fold 249 (2022-08-04 00:00:00), all ok since 1 folds ago\n"
     ]
    },
    {
     "name": "stderr",
     "output_type": "stream",
     "text": [
      "Warning, test fold 250 (2022-08-07 00:00:00) with less than 5 open proposals (3). all ok since 1 folds ago\n"
     ]
    },
    {
     "name": "stderr",
     "output_type": "stream",
     "text": [
      "Warning, empty test fold 251 (2022-08-10 00:00:00), all ok since 2 folds ago\n",
      "Warning, test fold 252 (2022-08-13 00:00:00) with less than 5 open proposals (3). all ok since 1 folds ago\n"
     ]
    },
    {
     "name": "stderr",
     "output_type": "stream",
     "text": [
      "Warning, empty test fold 253 (2022-08-16 00:00:00), all ok since 2 folds ago\n"
     ]
    },
    {
     "name": "stderr",
     "output_type": "stream",
     "text": [
      "Warning, empty test fold 255 (2022-08-22 00:00:00), all ok since 2 folds ago\n",
      "Warning, empty test fold 256 (2022-08-25 00:00:00), all ok since 1 folds ago\n"
     ]
    },
    {
     "name": "stderr",
     "output_type": "stream",
     "text": [
      "Warning, empty test fold 258 (2022-08-31 00:00:00), all ok since 2 folds ago\n",
      "Warning, test fold 259 (2022-09-03 00:00:00) with less than 5 open proposals (4). all ok since 1 folds ago\n"
     ]
    },
    {
     "name": "stderr",
     "output_type": "stream",
     "text": [
      "Warning, empty test fold 260 (2022-09-06 00:00:00), all ok since 2 folds ago\n",
      "Warning, empty test fold 261 (2022-09-09 00:00:00), all ok since 1 folds ago\n"
     ]
    },
    {
     "name": "stderr",
     "output_type": "stream",
     "text": [
      "Warning, empty test fold 263 (2022-09-15 00:00:00), all ok since 2 folds ago\n",
      "Warning, test fold 264 (2022-09-18 00:00:00) with less than 5 open proposals (2). all ok since 1 folds ago\n"
     ]
    },
    {
     "name": "stderr",
     "output_type": "stream",
     "text": [
      "Warning, empty test fold 265 (2022-09-21 00:00:00), all ok since 2 folds ago\n"
     ]
    },
    {
     "name": "stderr",
     "output_type": "stream",
     "text": [
      "Warning, empty test fold 267 (2022-09-27 00:00:00), all ok since 2 folds ago\n"
     ]
    },
    {
     "name": "stderr",
     "output_type": "stream",
     "text": [
      "Warning, empty test fold 269 (2022-10-03 00:00:00), all ok since 2 folds ago\n",
      "Warning, empty test fold 270 (2022-10-06 00:00:00), all ok since 1 folds ago\n"
     ]
    },
    {
     "name": "stderr",
     "output_type": "stream",
     "text": [
      "Warning, test fold 271 (2022-10-09 00:00:00) with less than 5 open proposals (1). all ok since 1 folds ago\n"
     ]
    },
    {
     "name": "stderr",
     "output_type": "stream",
     "text": [
      "Warning, empty test fold 272 (2022-10-12 00:00:00), all ok since 2 folds ago\n"
     ]
    },
    {
     "name": "stderr",
     "output_type": "stream",
     "text": [
      "Warning, empty test fold 274 (2022-10-18 00:00:00), all ok since 2 folds ago\n"
     ]
    },
    {
     "name": "stderr",
     "output_type": "stream",
     "text": [
      "Warning, empty test fold 276 (2022-10-24 00:00:00), all ok since 2 folds ago\n",
      "Warning, empty test fold 277 (2022-10-27 00:00:00), all ok since 1 folds ago\n"
     ]
    },
    {
     "name": "stderr",
     "output_type": "stream",
     "text": [
      "Warning, empty test fold 279 (2022-11-02 00:00:00), all ok since 2 folds ago\n"
     ]
    },
    {
     "name": "stderr",
     "output_type": "stream",
     "text": [
      "Warning, empty test fold 281 (2022-11-08 00:00:00), all ok since 2 folds ago\n",
      "Warning, test fold 282 (2022-11-11 00:00:00) with less than 5 open proposals (4). all ok since 1 folds ago\n"
     ]
    },
    {
     "name": "stderr",
     "output_type": "stream",
     "text": [
      "Warning, empty test fold 283 (2022-11-14 00:00:00), all ok since 2 folds ago\n",
      "Warning, empty test fold 284 (2022-11-17 00:00:00), all ok since 1 folds ago\n"
     ]
    },
    {
     "name": "stderr",
     "output_type": "stream",
     "text": [
      "Warning, test fold 285 (2022-11-20 00:00:00) with less than 5 open proposals (1). all ok since 1 folds ago\n"
     ]
    },
    {
     "name": "stderr",
     "output_type": "stream",
     "text": [
      "Warning, empty test fold 286 (2022-11-23 00:00:00), all ok since 2 folds ago\n",
      "Warning, test fold 287 (2022-11-26 00:00:00) with less than 5 open proposals (1). all ok since 1 folds ago\n"
     ]
    },
    {
     "name": "stderr",
     "output_type": "stream",
     "text": [
      "Warning, empty test fold 288 (2022-11-29 00:00:00), all ok since 2 folds ago\n"
     ]
    },
    {
     "name": "stderr",
     "output_type": "stream",
     "text": [
      "Warning, empty test fold 291 (2022-12-08 00:00:00), all ok since 3 folds ago\n"
     ]
    },
    {
     "name": "stderr",
     "output_type": "stream",
     "text": [
      "Warning, empty test fold 293 (2022-12-14 00:00:00), all ok since 2 folds ago\n"
     ]
    },
    {
     "name": "stderr",
     "output_type": "stream",
     "text": [
      "Warning, empty test fold 295 (2022-12-20 00:00:00), all ok since 2 folds ago\n",
      "Warning, test fold 296 (2022-12-23 00:00:00) with less than 5 open proposals (3). all ok since 1 folds ago\n"
     ]
    },
    {
     "name": "stderr",
     "output_type": "stream",
     "text": [
      "Warning, test fold 297 (2022-12-26 00:00:00) with less than 5 open proposals (3). all ok since 1 folds ago\n"
     ]
    },
    {
     "name": "stderr",
     "output_type": "stream",
     "text": [
      "Warning, empty test fold 298 (2022-12-29 00:00:00), all ok since 3 folds ago\n",
      "Warning, empty test fold 299 (2023-01-01 00:00:00), all ok since 1 folds ago\n"
     ]
    },
    {
     "name": "stderr",
     "output_type": "stream",
     "text": [
      "Warning, empty test fold 300 (2023-01-04 00:00:00), all ok since 1 folds ago\n",
      "Warning, test fold 301 (2023-01-07 00:00:00) with less than 5 open proposals (4). all ok since 1 folds ago\n"
     ]
    },
    {
     "name": "stderr",
     "output_type": "stream",
     "text": [
      "Warning, empty test fold 302 (2023-01-10 00:00:00), all ok since 2 folds ago\n"
     ]
    },
    {
     "name": "stderr",
     "output_type": "stream",
     "text": [
      "Warning, empty test fold 305 (2023-01-19 00:00:00), all ok since 3 folds ago\n",
      "Warning, test fold 306 (2023-01-22 00:00:00) with less than 5 open proposals (3). all ok since 1 folds ago\n"
     ]
    },
    {
     "name": "stderr",
     "output_type": "stream",
     "text": [
      "Warning, empty test fold 307 (2023-01-25 00:00:00), all ok since 2 folds ago\n",
      "Warning, test fold 308 (2023-01-28 00:00:00) with less than 5 open proposals (4). all ok since 1 folds ago\n"
     ]
    },
    {
     "name": "stderr",
     "output_type": "stream",
     "text": [
      "Warning, empty test fold 309 (2023-01-31 00:00:00), all ok since 2 folds ago\n",
      "Warning, test fold 310 (2023-02-03 00:00:00) with less than 5 open proposals (4). all ok since 1 folds ago\n"
     ]
    },
    {
     "name": "stderr",
     "output_type": "stream",
     "text": [
      "Warning, test fold 311 (2023-02-06 00:00:00) with less than 5 open proposals (4). all ok since 1 folds ago\n"
     ]
    },
    {
     "name": "stderr",
     "output_type": "stream",
     "text": [
      "Warning, empty test fold 312 (2023-02-09 00:00:00), all ok since 3 folds ago\n"
     ]
    },
    {
     "name": "stderr",
     "output_type": "stream",
     "text": [
      "Warning, empty test fold 314 (2023-02-15 00:00:00), all ok since 2 folds ago\n"
     ]
    },
    {
     "name": "stderr",
     "output_type": "stream",
     "text": [
      "Warning, empty test fold 316 (2023-02-21 00:00:00), all ok since 2 folds ago\n"
     ]
    },
    {
     "name": "stderr",
     "output_type": "stream",
     "text": [
      "Warning, empty test fold 319 (2023-03-02 00:00:00), all ok since 3 folds ago\n",
      "Warning, test fold 320 (2023-03-05 00:00:00) with less than 5 open proposals (2). all ok since 1 folds ago\n"
     ]
    },
    {
     "name": "stderr",
     "output_type": "stream",
     "text": [
      "Warning, empty test fold 321 (2023-03-08 00:00:00), all ok since 2 folds ago\n",
      "Warning, test fold 322 (2023-03-11 00:00:00) with less than 5 open proposals (4). all ok since 1 folds ago\n"
     ]
    },
    {
     "name": "stderr",
     "output_type": "stream",
     "text": [
      "Warning, empty test fold 323 (2023-03-14 00:00:00), all ok since 2 folds ago\n"
     ]
    },
    {
     "name": "stderr",
     "output_type": "stream",
     "text": [
      "Warning, empty test fold 326 (2023-03-23 00:00:00), all ok since 3 folds ago\n"
     ]
    },
    {
     "name": "stderr",
     "output_type": "stream",
     "text": [
      "Warning, empty test fold 328 (2023-03-29 00:00:00), all ok since 2 folds ago\n"
     ]
    },
    {
     "name": "stderr",
     "output_type": "stream",
     "text": [
      "Warning, empty test fold 330 (2023-04-04 00:00:00), all ok since 2 folds ago\n"
     ]
    },
    {
     "name": "stderr",
     "output_type": "stream",
     "text": [
      "Warning, empty test fold 333 (2023-04-13 00:00:00), all ok since 3 folds ago\n"
     ]
    },
    {
     "name": "stderr",
     "output_type": "stream",
     "text": [
      "Warning, empty test fold 335 (2023-04-19 00:00:00), all ok since 2 folds ago\n"
     ]
    },
    {
     "name": "stderr",
     "output_type": "stream",
     "text": [
      "Warning, empty test fold 337 (2023-04-25 00:00:00), all ok since 2 folds ago\n"
     ]
    },
    {
     "name": "stderr",
     "output_type": "stream",
     "text": [
      "Warning, empty test fold 340 (2023-05-04 00:00:00), all ok since 3 folds ago\n"
     ]
    },
    {
     "name": "stderr",
     "output_type": "stream",
     "text": [
      "Warning, empty test fold 342 (2023-05-10 00:00:00), all ok since 2 folds ago\n"
     ]
    },
    {
     "name": "stderr",
     "output_type": "stream",
     "text": [
      "Warning, empty test fold 344 (2023-05-16 00:00:00), all ok since 2 folds ago\n"
     ]
    },
    {
     "name": "stderr",
     "output_type": "stream",
     "text": [
      "Warning, empty test fold 347 (2023-05-25 00:00:00), all ok since 3 folds ago\n"
     ]
    },
    {
     "name": "stderr",
     "output_type": "stream",
     "text": [
      "Warning, empty test fold 349 (2023-05-31 00:00:00), all ok since 2 folds ago\n"
     ]
    },
    {
     "name": "stderr",
     "output_type": "stream",
     "text": [
      "Warning, empty test fold 351 (2023-06-06 00:00:00), all ok since 2 folds ago\n"
     ]
    },
    {
     "name": "stderr",
     "output_type": "stream",
     "text": [
      "Warning, empty test fold 354 (2023-06-15 00:00:00), all ok since 3 folds ago\n"
     ]
    },
    {
     "name": "stderr",
     "output_type": "stream",
     "text": [
      "Warning, empty test fold 356 (2023-06-21 00:00:00), all ok since 2 folds ago\n"
     ]
    },
    {
     "name": "stderr",
     "output_type": "stream",
     "text": [
      "Warning, empty test fold 358 (2023-06-27 00:00:00), all ok since 2 folds ago\n"
     ]
    },
    {
     "name": "stderr",
     "output_type": "stream",
     "text": [
      "Warning, empty test fold 361 (2023-07-06 00:00:00), all ok since 3 folds ago\n",
      "Warning, test fold 362 (2023-07-09 00:00:00) with less than 5 open proposals (3). all ok since 1 folds ago\n"
     ]
    },
    {
     "name": "stderr",
     "output_type": "stream",
     "text": [
      "Warning, empty test fold 363 (2023-07-12 00:00:00), all ok since 2 folds ago\n"
     ]
    },
    {
     "name": "stdout",
     "output_type": "stream",
     "text": [
      "Max ok in a row: (8, Timestamp('2021-12-25 00:00:00'))\n"
     ]
    }
   ],
   "source": [
    "WARNING_AT_LEAST_OPEN = 5\n",
    "\n",
    "folds = list(cvtt_open(df, SPLITS_FREQ, dfp, remove_not_in_train_col='userID', normalize=SPLITS_NORMALIZE))\n",
    "metrics = []\n",
    "perfectmetrics = []\n",
    "\n",
    "first_empty = True\n",
    "ok_in_a_row = best_in_a_row = 0\n",
    "max_ok_in_a_row = (-1, folds[-1].end)\n",
    "for i, (train, test, t, open_proposals) in enumerate(tqdm(folds)):   \n",
    "    if first_empty:\n",
    "        if not train.empty:\n",
    "            first_empty = False\n",
    "    else:\n",
    "        assert not train.empty, f\"Train should not be empty on fold {i}\"\n",
    "    if test.empty:\n",
    "        print(f\"Warning, empty test fold {i} ({t}), all ok since {ok_in_a_row} folds ago\", file=sys.stderr)\n",
    "        if ok_in_a_row > max_ok_in_a_row[0]:\n",
    "            max_ok_in_a_row = (ok_in_a_row, t)\n",
    "        ok_in_a_row = best_in_a_row = 0\n",
    "    elif len(open_proposals) < WARNING_AT_LEAST_OPEN:\n",
    "        print(f\"Warning, test fold {i} ({t}) with less than {WARNING_AT_LEAST_OPEN} open proposals ({len(open_proposals)}). all ok since {best_in_a_row} folds ago\", file=sys.stderr)\n",
    "        best_in_a_row = 0\n",
    "\n",
    "    mdict = {'fold': t}\n",
    "    pdict = {'fold': t}\n",
    "    model = OpenPop(train)\n",
    "    recs = model.recommend_k_items(test['userID'].unique(), max(K_RECOMMENDATIONS), recommend_from=open_proposals)\n",
    "    mdict |= calculate_all_metrics(test, recs, K_RECOMMENDATIONS)\n",
    "        # for m, f in metrics_f.items():\n",
    "        #     r = f(test, recs, k=k_recs)\n",
    "        #     metrics[m+f'@{k_recs}'].append(r)\n",
    "    \n",
    "    recs = test.copy()\n",
    "    recs['prediction'] = 1\n",
    "    pdict |= calculate_all_metrics(test, recs, K_RECOMMENDATIONS)\n",
    "\n",
    "        # for m, f in metrics_f.items():\n",
    "        #     # Need relevancy_method=None as they are unsorted\n",
    "        #     r = f(test, recs, k=k_recs)\n",
    "        #     perfectmetrics[m+f'@{k_recs}'].append(r)\n",
    "\n",
    "    metrics.append(mdict)\n",
    "    perfectmetrics.append(pdict)\n",
    "    ok_in_a_row += 1\n",
    "    best_in_a_row += 1\n",
    "\n",
    "paths.save_dao_datum(ORG_NAME, 'max_ok_folds', str(max_ok_in_a_row[0]))\n",
    "paths.save_dao_datum(ORG_NAME, 'max_ok_folds_date', str(max_ok_in_a_row[1]))\n",
    "if max_ok_in_a_row == -1:\n",
    "    print(\"All ok :>\")\n",
    "else:\n",
    "    print(\"Max ok in a row:\", max_ok_in_a_row)"
   ]
  },
  {
   "cell_type": "markdown",
   "id": "e420ded0",
   "metadata": {
    "papermill": {
     "duration": 0.007517,
     "end_time": "2024-09-05T08:58:22.452357",
     "exception": false,
     "start_time": "2024-09-05T08:58:22.444840",
     "status": "completed"
    },
    "tags": []
   },
   "source": [
    "### Caching these results"
   ]
  },
  {
   "cell_type": "code",
   "execution_count": 10,
   "id": "3cd35872",
   "metadata": {
    "execution": {
     "iopub.execute_input": "2024-09-05T08:58:22.466920Z",
     "iopub.status.busy": "2024-09-05T08:58:22.466815Z",
     "iopub.status.idle": "2024-09-05T08:58:22.494510Z",
     "shell.execute_reply": "2024-09-05T08:58:22.494279Z"
    },
    "papermill": {
     "duration": 0.035673,
     "end_time": "2024-09-05T08:58:22.495024",
     "exception": false,
     "start_time": "2024-09-05T08:58:22.459351",
     "status": "completed"
    },
    "tags": []
   },
   "outputs": [
    {
     "name": "stdout",
     "output_type": "stream",
     "text": [
      "Saved dataframe into /home/daviddavo/recsys4daos/data/output/Balancer/baseline/openpop_3d_normalize.parquet\n"
     ]
    },
    {
     "data": {
      "text/html": [
       "<div>\n",
       "<style scoped>\n",
       "    .dataframe tbody tr th:only-of-type {\n",
       "        vertical-align: middle;\n",
       "    }\n",
       "\n",
       "    .dataframe tbody tr th {\n",
       "        vertical-align: top;\n",
       "    }\n",
       "\n",
       "    .dataframe thead th {\n",
       "        text-align: right;\n",
       "    }\n",
       "</style>\n",
       "<table border=\"1\" class=\"dataframe\">\n",
       "  <thead>\n",
       "    <tr style=\"text-align: right;\">\n",
       "      <th></th>\n",
       "      <th>precision@1</th>\n",
       "      <th>precision@3</th>\n",
       "      <th>precision@5</th>\n",
       "      <th>precision@10</th>\n",
       "      <th>precision@15</th>\n",
       "      <th>precision@100</th>\n",
       "      <th>ndcg@1</th>\n",
       "      <th>ndcg@3</th>\n",
       "      <th>ndcg@5</th>\n",
       "      <th>ndcg@10</th>\n",
       "      <th>...</th>\n",
       "      <th>recall@10</th>\n",
       "      <th>recall@15</th>\n",
       "      <th>recall@100</th>\n",
       "      <th>r-precision@1</th>\n",
       "      <th>r-precision@3</th>\n",
       "      <th>r-precision@5</th>\n",
       "      <th>r-precision@10</th>\n",
       "      <th>r-precision@15</th>\n",
       "      <th>r-precision@100</th>\n",
       "      <th>time_eval</th>\n",
       "    </tr>\n",
       "  </thead>\n",
       "  <tbody>\n",
       "    <tr>\n",
       "      <th>count</th>\n",
       "      <td>365.000000</td>\n",
       "      <td>365.000000</td>\n",
       "      <td>365.000000</td>\n",
       "      <td>365.000000</td>\n",
       "      <td>365.000000</td>\n",
       "      <td>365.000000</td>\n",
       "      <td>365.000000</td>\n",
       "      <td>365.000000</td>\n",
       "      <td>365.000000</td>\n",
       "      <td>365.000000</td>\n",
       "      <td>...</td>\n",
       "      <td>365.000000</td>\n",
       "      <td>365.000000</td>\n",
       "      <td>365.000000</td>\n",
       "      <td>365.000000</td>\n",
       "      <td>365.000000</td>\n",
       "      <td>365.000000</td>\n",
       "      <td>365.000000</td>\n",
       "      <td>365.000000</td>\n",
       "      <td>365.000000</td>\n",
       "      <td>365.000000</td>\n",
       "    </tr>\n",
       "    <tr>\n",
       "      <th>mean</th>\n",
       "      <td>0.331023</td>\n",
       "      <td>0.224094</td>\n",
       "      <td>0.175972</td>\n",
       "      <td>0.109425</td>\n",
       "      <td>0.076234</td>\n",
       "      <td>0.011435</td>\n",
       "      <td>0.331023</td>\n",
       "      <td>0.342654</td>\n",
       "      <td>0.348528</td>\n",
       "      <td>0.353114</td>\n",
       "      <td>...</td>\n",
       "      <td>0.370953</td>\n",
       "      <td>0.375342</td>\n",
       "      <td>0.375342</td>\n",
       "      <td>0.215246</td>\n",
       "      <td>0.300771</td>\n",
       "      <td>0.333620</td>\n",
       "      <td>0.355935</td>\n",
       "      <td>0.359680</td>\n",
       "      <td>0.359680</td>\n",
       "      <td>0.099589</td>\n",
       "    </tr>\n",
       "    <tr>\n",
       "      <th>std</th>\n",
       "      <td>0.437184</td>\n",
       "      <td>0.316611</td>\n",
       "      <td>0.269323</td>\n",
       "      <td>0.186204</td>\n",
       "      <td>0.135188</td>\n",
       "      <td>0.020278</td>\n",
       "      <td>0.437184</td>\n",
       "      <td>0.448297</td>\n",
       "      <td>0.454077</td>\n",
       "      <td>0.458507</td>\n",
       "      <td>...</td>\n",
       "      <td>0.479793</td>\n",
       "      <td>0.484876</td>\n",
       "      <td>0.484876</td>\n",
       "      <td>0.339134</td>\n",
       "      <td>0.414360</td>\n",
       "      <td>0.442580</td>\n",
       "      <td>0.462070</td>\n",
       "      <td>0.466013</td>\n",
       "      <td>0.466013</td>\n",
       "      <td>0.046032</td>\n",
       "    </tr>\n",
       "    <tr>\n",
       "      <th>min</th>\n",
       "      <td>0.000000</td>\n",
       "      <td>0.000000</td>\n",
       "      <td>0.000000</td>\n",
       "      <td>0.000000</td>\n",
       "      <td>0.000000</td>\n",
       "      <td>0.000000</td>\n",
       "      <td>0.000000</td>\n",
       "      <td>0.000000</td>\n",
       "      <td>0.000000</td>\n",
       "      <td>0.000000</td>\n",
       "      <td>...</td>\n",
       "      <td>0.000000</td>\n",
       "      <td>0.000000</td>\n",
       "      <td>0.000000</td>\n",
       "      <td>0.000000</td>\n",
       "      <td>0.000000</td>\n",
       "      <td>0.000000</td>\n",
       "      <td>0.000000</td>\n",
       "      <td>0.000000</td>\n",
       "      <td>0.000000</td>\n",
       "      <td>0.068228</td>\n",
       "    </tr>\n",
       "    <tr>\n",
       "      <th>25%</th>\n",
       "      <td>0.000000</td>\n",
       "      <td>0.000000</td>\n",
       "      <td>0.000000</td>\n",
       "      <td>0.000000</td>\n",
       "      <td>0.000000</td>\n",
       "      <td>0.000000</td>\n",
       "      <td>0.000000</td>\n",
       "      <td>0.000000</td>\n",
       "      <td>0.000000</td>\n",
       "      <td>0.000000</td>\n",
       "      <td>...</td>\n",
       "      <td>0.000000</td>\n",
       "      <td>0.000000</td>\n",
       "      <td>0.000000</td>\n",
       "      <td>0.000000</td>\n",
       "      <td>0.000000</td>\n",
       "      <td>0.000000</td>\n",
       "      <td>0.000000</td>\n",
       "      <td>0.000000</td>\n",
       "      <td>0.000000</td>\n",
       "      <td>0.069219</td>\n",
       "    </tr>\n",
       "    <tr>\n",
       "      <th>50%</th>\n",
       "      <td>0.000000</td>\n",
       "      <td>0.000000</td>\n",
       "      <td>0.000000</td>\n",
       "      <td>0.000000</td>\n",
       "      <td>0.000000</td>\n",
       "      <td>0.000000</td>\n",
       "      <td>0.000000</td>\n",
       "      <td>0.000000</td>\n",
       "      <td>0.000000</td>\n",
       "      <td>0.000000</td>\n",
       "      <td>...</td>\n",
       "      <td>0.000000</td>\n",
       "      <td>0.000000</td>\n",
       "      <td>0.000000</td>\n",
       "      <td>0.000000</td>\n",
       "      <td>0.000000</td>\n",
       "      <td>0.000000</td>\n",
       "      <td>0.000000</td>\n",
       "      <td>0.000000</td>\n",
       "      <td>0.000000</td>\n",
       "      <td>0.070409</td>\n",
       "    </tr>\n",
       "    <tr>\n",
       "      <th>75%</th>\n",
       "      <td>0.863636</td>\n",
       "      <td>0.425641</td>\n",
       "      <td>0.294737</td>\n",
       "      <td>0.147368</td>\n",
       "      <td>0.098246</td>\n",
       "      <td>0.014737</td>\n",
       "      <td>0.863636</td>\n",
       "      <td>0.891551</td>\n",
       "      <td>0.912730</td>\n",
       "      <td>0.924279</td>\n",
       "      <td>...</td>\n",
       "      <td>1.000000</td>\n",
       "      <td>1.000000</td>\n",
       "      <td>1.000000</td>\n",
       "      <td>0.339258</td>\n",
       "      <td>0.652361</td>\n",
       "      <td>0.921875</td>\n",
       "      <td>0.951106</td>\n",
       "      <td>0.952381</td>\n",
       "      <td>0.952381</td>\n",
       "      <td>0.129006</td>\n",
       "    </tr>\n",
       "    <tr>\n",
       "      <th>max</th>\n",
       "      <td>1.000000</td>\n",
       "      <td>1.000000</td>\n",
       "      <td>1.000000</td>\n",
       "      <td>0.815858</td>\n",
       "      <td>0.696014</td>\n",
       "      <td>0.104402</td>\n",
       "      <td>1.000000</td>\n",
       "      <td>1.000000</td>\n",
       "      <td>1.000000</td>\n",
       "      <td>1.000000</td>\n",
       "      <td>...</td>\n",
       "      <td>1.000000</td>\n",
       "      <td>1.000000</td>\n",
       "      <td>1.000000</td>\n",
       "      <td>1.000000</td>\n",
       "      <td>1.000000</td>\n",
       "      <td>1.000000</td>\n",
       "      <td>1.000000</td>\n",
       "      <td>1.000000</td>\n",
       "      <td>1.000000</td>\n",
       "      <td>0.451910</td>\n",
       "    </tr>\n",
       "  </tbody>\n",
       "</table>\n",
       "<p>8 rows × 31 columns</p>\n",
       "</div>"
      ],
      "text/plain": [
       "       precision@1  precision@3  precision@5  precision@10  precision@15  \\\n",
       "count   365.000000   365.000000   365.000000    365.000000    365.000000   \n",
       "mean      0.331023     0.224094     0.175972      0.109425      0.076234   \n",
       "std       0.437184     0.316611     0.269323      0.186204      0.135188   \n",
       "min       0.000000     0.000000     0.000000      0.000000      0.000000   \n",
       "25%       0.000000     0.000000     0.000000      0.000000      0.000000   \n",
       "50%       0.000000     0.000000     0.000000      0.000000      0.000000   \n",
       "75%       0.863636     0.425641     0.294737      0.147368      0.098246   \n",
       "max       1.000000     1.000000     1.000000      0.815858      0.696014   \n",
       "\n",
       "       precision@100      ndcg@1      ndcg@3      ndcg@5     ndcg@10  ...  \\\n",
       "count     365.000000  365.000000  365.000000  365.000000  365.000000  ...   \n",
       "mean        0.011435    0.331023    0.342654    0.348528    0.353114  ...   \n",
       "std         0.020278    0.437184    0.448297    0.454077    0.458507  ...   \n",
       "min         0.000000    0.000000    0.000000    0.000000    0.000000  ...   \n",
       "25%         0.000000    0.000000    0.000000    0.000000    0.000000  ...   \n",
       "50%         0.000000    0.000000    0.000000    0.000000    0.000000  ...   \n",
       "75%         0.014737    0.863636    0.891551    0.912730    0.924279  ...   \n",
       "max         0.104402    1.000000    1.000000    1.000000    1.000000  ...   \n",
       "\n",
       "        recall@10   recall@15  recall@100  r-precision@1  r-precision@3  \\\n",
       "count  365.000000  365.000000  365.000000     365.000000     365.000000   \n",
       "mean     0.370953    0.375342    0.375342       0.215246       0.300771   \n",
       "std      0.479793    0.484876    0.484876       0.339134       0.414360   \n",
       "min      0.000000    0.000000    0.000000       0.000000       0.000000   \n",
       "25%      0.000000    0.000000    0.000000       0.000000       0.000000   \n",
       "50%      0.000000    0.000000    0.000000       0.000000       0.000000   \n",
       "75%      1.000000    1.000000    1.000000       0.339258       0.652361   \n",
       "max      1.000000    1.000000    1.000000       1.000000       1.000000   \n",
       "\n",
       "       r-precision@5  r-precision@10  r-precision@15  r-precision@100  \\\n",
       "count     365.000000      365.000000      365.000000       365.000000   \n",
       "mean        0.333620        0.355935        0.359680         0.359680   \n",
       "std         0.442580        0.462070        0.466013         0.466013   \n",
       "min         0.000000        0.000000        0.000000         0.000000   \n",
       "25%         0.000000        0.000000        0.000000         0.000000   \n",
       "50%         0.000000        0.000000        0.000000         0.000000   \n",
       "75%         0.921875        0.951106        0.952381         0.952381   \n",
       "max         1.000000        1.000000        1.000000         1.000000   \n",
       "\n",
       "        time_eval  \n",
       "count  365.000000  \n",
       "mean     0.099589  \n",
       "std      0.046032  \n",
       "min      0.068228  \n",
       "25%      0.069219  \n",
       "50%      0.070409  \n",
       "75%      0.129006  \n",
       "max      0.451910  \n",
       "\n",
       "[8 rows x 31 columns]"
      ]
     },
     "execution_count": 10,
     "metadata": {},
     "output_type": "execute_result"
    }
   ],
   "source": [
    "odf = pd.DataFrame(metrics).set_index(\"fold\")\n",
    "paths.save_openpop(odf, ORG_NAME, SPLITS_FREQ, SPLITS_NORMALIZE)\n",
    "odf.describe()"
   ]
  },
  {
   "cell_type": "code",
   "execution_count": 11,
   "id": "8e6d08ce",
   "metadata": {
    "execution": {
     "iopub.execute_input": "2024-09-05T08:58:22.510439Z",
     "iopub.status.busy": "2024-09-05T08:58:22.510350Z",
     "iopub.status.idle": "2024-09-05T08:58:22.536725Z",
     "shell.execute_reply": "2024-09-05T08:58:22.536531Z"
    },
    "papermill": {
     "duration": 0.034889,
     "end_time": "2024-09-05T08:58:22.537408",
     "exception": false,
     "start_time": "2024-09-05T08:58:22.502519",
     "status": "completed"
    },
    "tags": []
   },
   "outputs": [
    {
     "name": "stdout",
     "output_type": "stream",
     "text": [
      "Saved dataframe into /home/daviddavo/recsys4daos/data/output/Balancer/baseline/perfect_3d_normalize.parquet\n"
     ]
    },
    {
     "data": {
      "text/html": [
       "<div>\n",
       "<style scoped>\n",
       "    .dataframe tbody tr th:only-of-type {\n",
       "        vertical-align: middle;\n",
       "    }\n",
       "\n",
       "    .dataframe tbody tr th {\n",
       "        vertical-align: top;\n",
       "    }\n",
       "\n",
       "    .dataframe thead th {\n",
       "        text-align: right;\n",
       "    }\n",
       "</style>\n",
       "<table border=\"1\" class=\"dataframe\">\n",
       "  <thead>\n",
       "    <tr style=\"text-align: right;\">\n",
       "      <th></th>\n",
       "      <th>precision@1</th>\n",
       "      <th>precision@3</th>\n",
       "      <th>precision@5</th>\n",
       "      <th>precision@10</th>\n",
       "      <th>precision@15</th>\n",
       "      <th>precision@100</th>\n",
       "      <th>ndcg@1</th>\n",
       "      <th>ndcg@3</th>\n",
       "      <th>ndcg@5</th>\n",
       "      <th>ndcg@10</th>\n",
       "      <th>...</th>\n",
       "      <th>recall@10</th>\n",
       "      <th>recall@15</th>\n",
       "      <th>recall@100</th>\n",
       "      <th>r-precision@1</th>\n",
       "      <th>r-precision@3</th>\n",
       "      <th>r-precision@5</th>\n",
       "      <th>r-precision@10</th>\n",
       "      <th>r-precision@15</th>\n",
       "      <th>r-precision@100</th>\n",
       "      <th>time_eval</th>\n",
       "    </tr>\n",
       "  </thead>\n",
       "  <tbody>\n",
       "    <tr>\n",
       "      <th>count</th>\n",
       "      <td>365.000000</td>\n",
       "      <td>365.000000</td>\n",
       "      <td>365.000000</td>\n",
       "      <td>365.000000</td>\n",
       "      <td>365.000000</td>\n",
       "      <td>365.000000</td>\n",
       "      <td>365.000000</td>\n",
       "      <td>365.000000</td>\n",
       "      <td>365.000000</td>\n",
       "      <td>365.000000</td>\n",
       "      <td>...</td>\n",
       "      <td>365.000000</td>\n",
       "      <td>365.000000</td>\n",
       "      <td>365.000000</td>\n",
       "      <td>365.000000</td>\n",
       "      <td>365.000000</td>\n",
       "      <td>365.000000</td>\n",
       "      <td>365.000000</td>\n",
       "      <td>365.000000</td>\n",
       "      <td>365.000000</td>\n",
       "      <td>365.000000</td>\n",
       "    </tr>\n",
       "    <tr>\n",
       "      <th>mean</th>\n",
       "      <td>0.375342</td>\n",
       "      <td>0.239467</td>\n",
       "      <td>0.182444</td>\n",
       "      <td>0.110073</td>\n",
       "      <td>0.076234</td>\n",
       "      <td>0.011435</td>\n",
       "      <td>0.375342</td>\n",
       "      <td>0.375342</td>\n",
       "      <td>0.375342</td>\n",
       "      <td>0.375342</td>\n",
       "      <td>...</td>\n",
       "      <td>0.371981</td>\n",
       "      <td>0.375342</td>\n",
       "      <td>0.375342</td>\n",
       "      <td>0.233358</td>\n",
       "      <td>0.321323</td>\n",
       "      <td>0.352152</td>\n",
       "      <td>0.371981</td>\n",
       "      <td>0.375342</td>\n",
       "      <td>0.375342</td>\n",
       "      <td>0.106308</td>\n",
       "    </tr>\n",
       "    <tr>\n",
       "      <th>std</th>\n",
       "      <td>0.484876</td>\n",
       "      <td>0.340728</td>\n",
       "      <td>0.281428</td>\n",
       "      <td>0.188177</td>\n",
       "      <td>0.135188</td>\n",
       "      <td>0.020278</td>\n",
       "      <td>0.484876</td>\n",
       "      <td>0.484876</td>\n",
       "      <td>0.484876</td>\n",
       "      <td>0.484876</td>\n",
       "      <td>...</td>\n",
       "      <td>0.480881</td>\n",
       "      <td>0.484876</td>\n",
       "      <td>0.484876</td>\n",
       "      <td>0.348443</td>\n",
       "      <td>0.430091</td>\n",
       "      <td>0.460424</td>\n",
       "      <td>0.480881</td>\n",
       "      <td>0.484876</td>\n",
       "      <td>0.484876</td>\n",
       "      <td>0.052603</td>\n",
       "    </tr>\n",
       "    <tr>\n",
       "      <th>min</th>\n",
       "      <td>0.000000</td>\n",
       "      <td>0.000000</td>\n",
       "      <td>0.000000</td>\n",
       "      <td>0.000000</td>\n",
       "      <td>0.000000</td>\n",
       "      <td>0.000000</td>\n",
       "      <td>0.000000</td>\n",
       "      <td>0.000000</td>\n",
       "      <td>0.000000</td>\n",
       "      <td>0.000000</td>\n",
       "      <td>...</td>\n",
       "      <td>0.000000</td>\n",
       "      <td>0.000000</td>\n",
       "      <td>0.000000</td>\n",
       "      <td>0.000000</td>\n",
       "      <td>0.000000</td>\n",
       "      <td>0.000000</td>\n",
       "      <td>0.000000</td>\n",
       "      <td>0.000000</td>\n",
       "      <td>0.000000</td>\n",
       "      <td>0.072037</td>\n",
       "    </tr>\n",
       "    <tr>\n",
       "      <th>25%</th>\n",
       "      <td>0.000000</td>\n",
       "      <td>0.000000</td>\n",
       "      <td>0.000000</td>\n",
       "      <td>0.000000</td>\n",
       "      <td>0.000000</td>\n",
       "      <td>0.000000</td>\n",
       "      <td>0.000000</td>\n",
       "      <td>0.000000</td>\n",
       "      <td>0.000000</td>\n",
       "      <td>0.000000</td>\n",
       "      <td>...</td>\n",
       "      <td>0.000000</td>\n",
       "      <td>0.000000</td>\n",
       "      <td>0.000000</td>\n",
       "      <td>0.000000</td>\n",
       "      <td>0.000000</td>\n",
       "      <td>0.000000</td>\n",
       "      <td>0.000000</td>\n",
       "      <td>0.000000</td>\n",
       "      <td>0.000000</td>\n",
       "      <td>0.073004</td>\n",
       "    </tr>\n",
       "    <tr>\n",
       "      <th>50%</th>\n",
       "      <td>0.000000</td>\n",
       "      <td>0.000000</td>\n",
       "      <td>0.000000</td>\n",
       "      <td>0.000000</td>\n",
       "      <td>0.000000</td>\n",
       "      <td>0.000000</td>\n",
       "      <td>0.000000</td>\n",
       "      <td>0.000000</td>\n",
       "      <td>0.000000</td>\n",
       "      <td>0.000000</td>\n",
       "      <td>...</td>\n",
       "      <td>0.000000</td>\n",
       "      <td>0.000000</td>\n",
       "      <td>0.000000</td>\n",
       "      <td>0.000000</td>\n",
       "      <td>0.000000</td>\n",
       "      <td>0.000000</td>\n",
       "      <td>0.000000</td>\n",
       "      <td>0.000000</td>\n",
       "      <td>0.000000</td>\n",
       "      <td>0.074010</td>\n",
       "    </tr>\n",
       "    <tr>\n",
       "      <th>75%</th>\n",
       "      <td>1.000000</td>\n",
       "      <td>0.491228</td>\n",
       "      <td>0.294737</td>\n",
       "      <td>0.147368</td>\n",
       "      <td>0.098246</td>\n",
       "      <td>0.014737</td>\n",
       "      <td>1.000000</td>\n",
       "      <td>1.000000</td>\n",
       "      <td>1.000000</td>\n",
       "      <td>1.000000</td>\n",
       "      <td>...</td>\n",
       "      <td>1.000000</td>\n",
       "      <td>1.000000</td>\n",
       "      <td>1.000000</td>\n",
       "      <td>0.415444</td>\n",
       "      <td>0.785294</td>\n",
       "      <td>1.000000</td>\n",
       "      <td>1.000000</td>\n",
       "      <td>1.000000</td>\n",
       "      <td>1.000000</td>\n",
       "      <td>0.134189</td>\n",
       "    </tr>\n",
       "    <tr>\n",
       "      <th>max</th>\n",
       "      <td>1.000000</td>\n",
       "      <td>1.000000</td>\n",
       "      <td>1.000000</td>\n",
       "      <td>0.845652</td>\n",
       "      <td>0.696014</td>\n",
       "      <td>0.104402</td>\n",
       "      <td>1.000000</td>\n",
       "      <td>1.000000</td>\n",
       "      <td>1.000000</td>\n",
       "      <td>1.000000</td>\n",
       "      <td>...</td>\n",
       "      <td>1.000000</td>\n",
       "      <td>1.000000</td>\n",
       "      <td>1.000000</td>\n",
       "      <td>1.000000</td>\n",
       "      <td>1.000000</td>\n",
       "      <td>1.000000</td>\n",
       "      <td>1.000000</td>\n",
       "      <td>1.000000</td>\n",
       "      <td>1.000000</td>\n",
       "      <td>0.377320</td>\n",
       "    </tr>\n",
       "  </tbody>\n",
       "</table>\n",
       "<p>8 rows × 31 columns</p>\n",
       "</div>"
      ],
      "text/plain": [
       "       precision@1  precision@3  precision@5  precision@10  precision@15  \\\n",
       "count   365.000000   365.000000   365.000000    365.000000    365.000000   \n",
       "mean      0.375342     0.239467     0.182444      0.110073      0.076234   \n",
       "std       0.484876     0.340728     0.281428      0.188177      0.135188   \n",
       "min       0.000000     0.000000     0.000000      0.000000      0.000000   \n",
       "25%       0.000000     0.000000     0.000000      0.000000      0.000000   \n",
       "50%       0.000000     0.000000     0.000000      0.000000      0.000000   \n",
       "75%       1.000000     0.491228     0.294737      0.147368      0.098246   \n",
       "max       1.000000     1.000000     1.000000      0.845652      0.696014   \n",
       "\n",
       "       precision@100      ndcg@1      ndcg@3      ndcg@5     ndcg@10  ...  \\\n",
       "count     365.000000  365.000000  365.000000  365.000000  365.000000  ...   \n",
       "mean        0.011435    0.375342    0.375342    0.375342    0.375342  ...   \n",
       "std         0.020278    0.484876    0.484876    0.484876    0.484876  ...   \n",
       "min         0.000000    0.000000    0.000000    0.000000    0.000000  ...   \n",
       "25%         0.000000    0.000000    0.000000    0.000000    0.000000  ...   \n",
       "50%         0.000000    0.000000    0.000000    0.000000    0.000000  ...   \n",
       "75%         0.014737    1.000000    1.000000    1.000000    1.000000  ...   \n",
       "max         0.104402    1.000000    1.000000    1.000000    1.000000  ...   \n",
       "\n",
       "        recall@10   recall@15  recall@100  r-precision@1  r-precision@3  \\\n",
       "count  365.000000  365.000000  365.000000     365.000000     365.000000   \n",
       "mean     0.371981    0.375342    0.375342       0.233358       0.321323   \n",
       "std      0.480881    0.484876    0.484876       0.348443       0.430091   \n",
       "min      0.000000    0.000000    0.000000       0.000000       0.000000   \n",
       "25%      0.000000    0.000000    0.000000       0.000000       0.000000   \n",
       "50%      0.000000    0.000000    0.000000       0.000000       0.000000   \n",
       "75%      1.000000    1.000000    1.000000       0.415444       0.785294   \n",
       "max      1.000000    1.000000    1.000000       1.000000       1.000000   \n",
       "\n",
       "       r-precision@5  r-precision@10  r-precision@15  r-precision@100  \\\n",
       "count     365.000000      365.000000      365.000000       365.000000   \n",
       "mean        0.352152        0.371981        0.375342         0.375342   \n",
       "std         0.460424        0.480881        0.484876         0.484876   \n",
       "min         0.000000        0.000000        0.000000         0.000000   \n",
       "25%         0.000000        0.000000        0.000000         0.000000   \n",
       "50%         0.000000        0.000000        0.000000         0.000000   \n",
       "75%         1.000000        1.000000        1.000000         1.000000   \n",
       "max         1.000000        1.000000        1.000000         1.000000   \n",
       "\n",
       "        time_eval  \n",
       "count  365.000000  \n",
       "mean     0.106308  \n",
       "std      0.052603  \n",
       "min      0.072037  \n",
       "25%      0.073004  \n",
       "50%      0.074010  \n",
       "75%      0.134189  \n",
       "max      0.377320  \n",
       "\n",
       "[8 rows x 31 columns]"
      ]
     },
     "metadata": {},
     "output_type": "display_data"
    }
   ],
   "source": [
    "pdf = pd.DataFrame(perfectmetrics).set_index(\"fold\")\n",
    "cols = [ c for c in pdf.columns if not c.startswith('time_') ]\n",
    "paths.save_perfect(pdf, ORG_NAME, SPLITS_FREQ, SPLITS_NORMALIZE)\n",
    "display(pdf.describe())\n",
    "msk = (0 <= pdf[cols].min()) & (pdf[cols].max() <= 1)\n",
    "if not all(msk):\n",
    "    display(pdf.describe()[msk[~msk].index])\n",
    "assert all( msk ), \"There are metrics with wrong range\""
   ]
  },
  {
   "cell_type": "markdown",
   "id": "76f85227",
   "metadata": {
    "papermill": {
     "duration": 0.008149,
     "end_time": "2024-09-05T08:58:22.553255",
     "exception": false,
     "start_time": "2024-09-05T08:58:22.545106",
     "status": "completed"
    },
    "tags": []
   },
   "source": [
    "## Plotting some graphs"
   ]
  },
  {
   "cell_type": "code",
   "execution_count": 12,
   "id": "98d4b6c4",
   "metadata": {
    "execution": {
     "iopub.execute_input": "2024-09-05T08:58:22.569105Z",
     "iopub.status.busy": "2024-09-05T08:58:22.568947Z",
     "iopub.status.idle": "2024-09-05T08:58:22.704192Z",
     "shell.execute_reply": "2024-09-05T08:58:22.703990Z"
    },
    "papermill": {
     "duration": 0.144074,
     "end_time": "2024-09-05T08:58:22.704925",
     "exception": false,
     "start_time": "2024-09-05T08:58:22.560851",
     "status": "completed"
    },
    "tags": []
   },
   "outputs": [
    {
     "data": {
      "text/html": [
       "<div>\n",
       "<style scoped>\n",
       "    .dataframe tbody tr th:only-of-type {\n",
       "        vertical-align: middle;\n",
       "    }\n",
       "\n",
       "    .dataframe tbody tr th {\n",
       "        vertical-align: top;\n",
       "    }\n",
       "\n",
       "    .dataframe thead th {\n",
       "        text-align: right;\n",
       "    }\n",
       "</style>\n",
       "<table border=\"1\" class=\"dataframe\">\n",
       "  <thead>\n",
       "    <tr style=\"text-align: right;\">\n",
       "      <th></th>\n",
       "      <th>fold</th>\n",
       "      <th>precision@1</th>\n",
       "      <th>precision@3</th>\n",
       "      <th>precision@5</th>\n",
       "      <th>precision@10</th>\n",
       "      <th>precision@15</th>\n",
       "      <th>precision@100</th>\n",
       "      <th>ndcg@1</th>\n",
       "      <th>ndcg@3</th>\n",
       "      <th>ndcg@5</th>\n",
       "      <th>...</th>\n",
       "      <th>recall@100</th>\n",
       "      <th>r-precision@1</th>\n",
       "      <th>r-precision@3</th>\n",
       "      <th>r-precision@5</th>\n",
       "      <th>r-precision@10</th>\n",
       "      <th>r-precision@15</th>\n",
       "      <th>r-precision@100</th>\n",
       "      <th>time_eval</th>\n",
       "      <th>perfect precision@5</th>\n",
       "      <th>perfect precision@10</th>\n",
       "    </tr>\n",
       "  </thead>\n",
       "  <tbody>\n",
       "    <tr>\n",
       "      <th>count</th>\n",
       "      <td>365</td>\n",
       "      <td>365.000000</td>\n",
       "      <td>365.000000</td>\n",
       "      <td>365.000000</td>\n",
       "      <td>365.000000</td>\n",
       "      <td>365.000000</td>\n",
       "      <td>365.000000</td>\n",
       "      <td>365.000000</td>\n",
       "      <td>365.000000</td>\n",
       "      <td>365.000000</td>\n",
       "      <td>...</td>\n",
       "      <td>365.000000</td>\n",
       "      <td>365.000000</td>\n",
       "      <td>365.000000</td>\n",
       "      <td>365.000000</td>\n",
       "      <td>365.000000</td>\n",
       "      <td>365.000000</td>\n",
       "      <td>365.000000</td>\n",
       "      <td>365.000000</td>\n",
       "      <td>0.0</td>\n",
       "      <td>0.0</td>\n",
       "    </tr>\n",
       "    <tr>\n",
       "      <th>mean</th>\n",
       "      <td>2022-01-14 23:59:59.999999744</td>\n",
       "      <td>0.331023</td>\n",
       "      <td>0.224094</td>\n",
       "      <td>0.175972</td>\n",
       "      <td>0.109425</td>\n",
       "      <td>0.076234</td>\n",
       "      <td>0.011435</td>\n",
       "      <td>0.331023</td>\n",
       "      <td>0.342654</td>\n",
       "      <td>0.348528</td>\n",
       "      <td>...</td>\n",
       "      <td>0.375342</td>\n",
       "      <td>0.215246</td>\n",
       "      <td>0.300771</td>\n",
       "      <td>0.333620</td>\n",
       "      <td>0.355935</td>\n",
       "      <td>0.359680</td>\n",
       "      <td>0.359680</td>\n",
       "      <td>0.099589</td>\n",
       "      <td>NaN</td>\n",
       "      <td>NaN</td>\n",
       "    </tr>\n",
       "    <tr>\n",
       "      <th>min</th>\n",
       "      <td>2020-07-18 00:00:00</td>\n",
       "      <td>0.000000</td>\n",
       "      <td>0.000000</td>\n",
       "      <td>0.000000</td>\n",
       "      <td>0.000000</td>\n",
       "      <td>0.000000</td>\n",
       "      <td>0.000000</td>\n",
       "      <td>0.000000</td>\n",
       "      <td>0.000000</td>\n",
       "      <td>0.000000</td>\n",
       "      <td>...</td>\n",
       "      <td>0.000000</td>\n",
       "      <td>0.000000</td>\n",
       "      <td>0.000000</td>\n",
       "      <td>0.000000</td>\n",
       "      <td>0.000000</td>\n",
       "      <td>0.000000</td>\n",
       "      <td>0.000000</td>\n",
       "      <td>0.068228</td>\n",
       "      <td>NaN</td>\n",
       "      <td>NaN</td>\n",
       "    </tr>\n",
       "    <tr>\n",
       "      <th>25%</th>\n",
       "      <td>2021-04-17 00:00:00</td>\n",
       "      <td>0.000000</td>\n",
       "      <td>0.000000</td>\n",
       "      <td>0.000000</td>\n",
       "      <td>0.000000</td>\n",
       "      <td>0.000000</td>\n",
       "      <td>0.000000</td>\n",
       "      <td>0.000000</td>\n",
       "      <td>0.000000</td>\n",
       "      <td>0.000000</td>\n",
       "      <td>...</td>\n",
       "      <td>0.000000</td>\n",
       "      <td>0.000000</td>\n",
       "      <td>0.000000</td>\n",
       "      <td>0.000000</td>\n",
       "      <td>0.000000</td>\n",
       "      <td>0.000000</td>\n",
       "      <td>0.000000</td>\n",
       "      <td>0.069219</td>\n",
       "      <td>NaN</td>\n",
       "      <td>NaN</td>\n",
       "    </tr>\n",
       "    <tr>\n",
       "      <th>50%</th>\n",
       "      <td>2022-01-15 00:00:00</td>\n",
       "      <td>0.000000</td>\n",
       "      <td>0.000000</td>\n",
       "      <td>0.000000</td>\n",
       "      <td>0.000000</td>\n",
       "      <td>0.000000</td>\n",
       "      <td>0.000000</td>\n",
       "      <td>0.000000</td>\n",
       "      <td>0.000000</td>\n",
       "      <td>0.000000</td>\n",
       "      <td>...</td>\n",
       "      <td>0.000000</td>\n",
       "      <td>0.000000</td>\n",
       "      <td>0.000000</td>\n",
       "      <td>0.000000</td>\n",
       "      <td>0.000000</td>\n",
       "      <td>0.000000</td>\n",
       "      <td>0.000000</td>\n",
       "      <td>0.070409</td>\n",
       "      <td>NaN</td>\n",
       "      <td>NaN</td>\n",
       "    </tr>\n",
       "    <tr>\n",
       "      <th>75%</th>\n",
       "      <td>2022-10-15 00:00:00</td>\n",
       "      <td>0.863636</td>\n",
       "      <td>0.425641</td>\n",
       "      <td>0.294737</td>\n",
       "      <td>0.147368</td>\n",
       "      <td>0.098246</td>\n",
       "      <td>0.014737</td>\n",
       "      <td>0.863636</td>\n",
       "      <td>0.891551</td>\n",
       "      <td>0.912730</td>\n",
       "      <td>...</td>\n",
       "      <td>1.000000</td>\n",
       "      <td>0.339258</td>\n",
       "      <td>0.652361</td>\n",
       "      <td>0.921875</td>\n",
       "      <td>0.951106</td>\n",
       "      <td>0.952381</td>\n",
       "      <td>0.952381</td>\n",
       "      <td>0.129006</td>\n",
       "      <td>NaN</td>\n",
       "      <td>NaN</td>\n",
       "    </tr>\n",
       "    <tr>\n",
       "      <th>max</th>\n",
       "      <td>2023-07-15 00:00:00</td>\n",
       "      <td>1.000000</td>\n",
       "      <td>1.000000</td>\n",
       "      <td>1.000000</td>\n",
       "      <td>0.815858</td>\n",
       "      <td>0.696014</td>\n",
       "      <td>0.104402</td>\n",
       "      <td>1.000000</td>\n",
       "      <td>1.000000</td>\n",
       "      <td>1.000000</td>\n",
       "      <td>...</td>\n",
       "      <td>1.000000</td>\n",
       "      <td>1.000000</td>\n",
       "      <td>1.000000</td>\n",
       "      <td>1.000000</td>\n",
       "      <td>1.000000</td>\n",
       "      <td>1.000000</td>\n",
       "      <td>1.000000</td>\n",
       "      <td>0.451910</td>\n",
       "      <td>NaN</td>\n",
       "      <td>NaN</td>\n",
       "    </tr>\n",
       "    <tr>\n",
       "      <th>std</th>\n",
       "      <td>NaN</td>\n",
       "      <td>0.437184</td>\n",
       "      <td>0.316611</td>\n",
       "      <td>0.269323</td>\n",
       "      <td>0.186204</td>\n",
       "      <td>0.135188</td>\n",
       "      <td>0.020278</td>\n",
       "      <td>0.437184</td>\n",
       "      <td>0.448297</td>\n",
       "      <td>0.454077</td>\n",
       "      <td>...</td>\n",
       "      <td>0.484876</td>\n",
       "      <td>0.339134</td>\n",
       "      <td>0.414360</td>\n",
       "      <td>0.442580</td>\n",
       "      <td>0.462070</td>\n",
       "      <td>0.466013</td>\n",
       "      <td>0.466013</td>\n",
       "      <td>0.046032</td>\n",
       "      <td>NaN</td>\n",
       "      <td>NaN</td>\n",
       "    </tr>\n",
       "  </tbody>\n",
       "</table>\n",
       "<p>8 rows × 34 columns</p>\n",
       "</div>"
      ],
      "text/plain": [
       "                                fold  precision@1  precision@3  precision@5  \\\n",
       "count                            365   365.000000   365.000000   365.000000   \n",
       "mean   2022-01-14 23:59:59.999999744     0.331023     0.224094     0.175972   \n",
       "min              2020-07-18 00:00:00     0.000000     0.000000     0.000000   \n",
       "25%              2021-04-17 00:00:00     0.000000     0.000000     0.000000   \n",
       "50%              2022-01-15 00:00:00     0.000000     0.000000     0.000000   \n",
       "75%              2022-10-15 00:00:00     0.863636     0.425641     0.294737   \n",
       "max              2023-07-15 00:00:00     1.000000     1.000000     1.000000   \n",
       "std                              NaN     0.437184     0.316611     0.269323   \n",
       "\n",
       "       precision@10  precision@15  precision@100      ndcg@1      ndcg@3  \\\n",
       "count    365.000000    365.000000     365.000000  365.000000  365.000000   \n",
       "mean       0.109425      0.076234       0.011435    0.331023    0.342654   \n",
       "min        0.000000      0.000000       0.000000    0.000000    0.000000   \n",
       "25%        0.000000      0.000000       0.000000    0.000000    0.000000   \n",
       "50%        0.000000      0.000000       0.000000    0.000000    0.000000   \n",
       "75%        0.147368      0.098246       0.014737    0.863636    0.891551   \n",
       "max        0.815858      0.696014       0.104402    1.000000    1.000000   \n",
       "std        0.186204      0.135188       0.020278    0.437184    0.448297   \n",
       "\n",
       "           ndcg@5  ...  recall@100  r-precision@1  r-precision@3  \\\n",
       "count  365.000000  ...  365.000000     365.000000     365.000000   \n",
       "mean     0.348528  ...    0.375342       0.215246       0.300771   \n",
       "min      0.000000  ...    0.000000       0.000000       0.000000   \n",
       "25%      0.000000  ...    0.000000       0.000000       0.000000   \n",
       "50%      0.000000  ...    0.000000       0.000000       0.000000   \n",
       "75%      0.912730  ...    1.000000       0.339258       0.652361   \n",
       "max      1.000000  ...    1.000000       1.000000       1.000000   \n",
       "std      0.454077  ...    0.484876       0.339134       0.414360   \n",
       "\n",
       "       r-precision@5  r-precision@10  r-precision@15  r-precision@100  \\\n",
       "count     365.000000      365.000000      365.000000       365.000000   \n",
       "mean        0.333620        0.355935        0.359680         0.359680   \n",
       "min         0.000000        0.000000        0.000000         0.000000   \n",
       "25%         0.000000        0.000000        0.000000         0.000000   \n",
       "50%         0.000000        0.000000        0.000000         0.000000   \n",
       "75%         0.921875        0.951106        0.952381         0.952381   \n",
       "max         1.000000        1.000000        1.000000         1.000000   \n",
       "std         0.442580        0.462070        0.466013         0.466013   \n",
       "\n",
       "        time_eval  perfect precision@5  perfect precision@10  \n",
       "count  365.000000                  0.0                   0.0  \n",
       "mean     0.099589                  NaN                   NaN  \n",
       "min      0.068228                  NaN                   NaN  \n",
       "25%      0.069219                  NaN                   NaN  \n",
       "50%      0.070409                  NaN                   NaN  \n",
       "75%      0.129006                  NaN                   NaN  \n",
       "max      0.451910                  NaN                   NaN  \n",
       "std      0.046032                  NaN                   NaN  \n",
       "\n",
       "[8 rows x 34 columns]"
      ]
     },
     "execution_count": 12,
     "metadata": {},
     "output_type": "execute_result"
    },
    {
     "data": {
      "image/png": "[encoded data removed]",
      "text/plain": [
       "<Figure size 640x480 with 1 Axes>"
      ]
     },
     "metadata": {},
     "output_type": "display_data"
    }
   ],
   "source": [
    "mdf = pd.DataFrame(metrics)\n",
    "mdf['perfect precision@5'] = pdf['precision@5']\n",
    "mdf['perfect precision@10'] = pdf['precision@10']\n",
    "mdf[['precision@5', 'perfect precision@5', 'precision@10', 'perfect precision@10']].plot(title='Evaluación modelo baseline MP')\n",
    "mdf.describe()"
   ]
  },
  {
   "cell_type": "code",
   "execution_count": 13,
   "id": "cdfce8b7",
   "metadata": {
    "execution": {
     "iopub.execute_input": "2024-09-05T08:58:22.722451Z",
     "iopub.status.busy": "2024-09-05T08:58:22.722314Z",
     "iopub.status.idle": "2024-09-05T08:58:22.746207Z",
     "shell.execute_reply": "2024-09-05T08:58:22.746019Z"
    },
    "papermill": {
     "duration": 0.033402,
     "end_time": "2024-09-05T08:58:22.746838",
     "exception": false,
     "start_time": "2024-09-05T08:58:22.713436",
     "status": "completed"
    },
    "tags": []
   },
   "outputs": [
    {
     "data": {
      "text/html": [
       "<div>\n",
       "<style scoped>\n",
       "    .dataframe tbody tr th:only-of-type {\n",
       "        vertical-align: middle;\n",
       "    }\n",
       "\n",
       "    .dataframe tbody tr th {\n",
       "        vertical-align: top;\n",
       "    }\n",
       "\n",
       "    .dataframe thead th {\n",
       "        text-align: right;\n",
       "    }\n",
       "</style>\n",
       "<table border=\"1\" class=\"dataframe\">\n",
       "  <thead>\n",
       "    <tr style=\"text-align: right;\">\n",
       "      <th></th>\n",
       "      <th>fold</th>\n",
       "      <th>precision@1</th>\n",
       "      <th>precision@3</th>\n",
       "      <th>precision@5</th>\n",
       "      <th>precision@10</th>\n",
       "      <th>precision@15</th>\n",
       "      <th>precision@100</th>\n",
       "      <th>ndcg@1</th>\n",
       "      <th>ndcg@3</th>\n",
       "      <th>ndcg@5</th>\n",
       "      <th>...</th>\n",
       "      <th>recall@100</th>\n",
       "      <th>r-precision@1</th>\n",
       "      <th>r-precision@3</th>\n",
       "      <th>r-precision@5</th>\n",
       "      <th>r-precision@10</th>\n",
       "      <th>r-precision@15</th>\n",
       "      <th>r-precision@100</th>\n",
       "      <th>time_eval</th>\n",
       "      <th>perfect precision@5</th>\n",
       "      <th>perfect precision@10</th>\n",
       "    </tr>\n",
       "  </thead>\n",
       "  <tbody>\n",
       "    <tr>\n",
       "      <th>count</th>\n",
       "      <td>10</td>\n",
       "      <td>10.000000</td>\n",
       "      <td>10.000000</td>\n",
       "      <td>10.000000</td>\n",
       "      <td>10.000000</td>\n",
       "      <td>10.000000</td>\n",
       "      <td>10.000000</td>\n",
       "      <td>10.000000</td>\n",
       "      <td>10.000000</td>\n",
       "      <td>10.000000</td>\n",
       "      <td>...</td>\n",
       "      <td>10.000000</td>\n",
       "      <td>10.000000</td>\n",
       "      <td>10.000000</td>\n",
       "      <td>10.000000</td>\n",
       "      <td>10.000000</td>\n",
       "      <td>10.000000</td>\n",
       "      <td>10.000000</td>\n",
       "      <td>10.000000</td>\n",
       "      <td>0.0</td>\n",
       "      <td>0.0</td>\n",
       "    </tr>\n",
       "    <tr>\n",
       "      <th>mean</th>\n",
       "      <td>2023-07-01 12:00:00</td>\n",
       "      <td>0.458121</td>\n",
       "      <td>0.412547</td>\n",
       "      <td>0.373922</td>\n",
       "      <td>0.258067</td>\n",
       "      <td>0.183266</td>\n",
       "      <td>0.027490</td>\n",
       "      <td>0.458121</td>\n",
       "      <td>0.481018</td>\n",
       "      <td>0.506013</td>\n",
       "      <td>...</td>\n",
       "      <td>0.600000</td>\n",
       "      <td>0.196720</td>\n",
       "      <td>0.358312</td>\n",
       "      <td>0.452456</td>\n",
       "      <td>0.541837</td>\n",
       "      <td>0.555338</td>\n",
       "      <td>0.555338</td>\n",
       "      <td>0.111291</td>\n",
       "      <td>NaN</td>\n",
       "      <td>NaN</td>\n",
       "    </tr>\n",
       "    <tr>\n",
       "      <th>min</th>\n",
       "      <td>2023-06-18 00:00:00</td>\n",
       "      <td>0.000000</td>\n",
       "      <td>0.000000</td>\n",
       "      <td>0.000000</td>\n",
       "      <td>0.000000</td>\n",
       "      <td>0.000000</td>\n",
       "      <td>0.000000</td>\n",
       "      <td>0.000000</td>\n",
       "      <td>0.000000</td>\n",
       "      <td>0.000000</td>\n",
       "      <td>...</td>\n",
       "      <td>0.000000</td>\n",
       "      <td>0.000000</td>\n",
       "      <td>0.000000</td>\n",
       "      <td>0.000000</td>\n",
       "      <td>0.000000</td>\n",
       "      <td>0.000000</td>\n",
       "      <td>0.000000</td>\n",
       "      <td>0.068775</td>\n",
       "      <td>NaN</td>\n",
       "      <td>NaN</td>\n",
       "    </tr>\n",
       "    <tr>\n",
       "      <th>25%</th>\n",
       "      <td>2023-06-24 18:00:00</td>\n",
       "      <td>0.000000</td>\n",
       "      <td>0.000000</td>\n",
       "      <td>0.000000</td>\n",
       "      <td>0.000000</td>\n",
       "      <td>0.000000</td>\n",
       "      <td>0.000000</td>\n",
       "      <td>0.000000</td>\n",
       "      <td>0.000000</td>\n",
       "      <td>0.000000</td>\n",
       "      <td>...</td>\n",
       "      <td>0.000000</td>\n",
       "      <td>0.000000</td>\n",
       "      <td>0.000000</td>\n",
       "      <td>0.000000</td>\n",
       "      <td>0.000000</td>\n",
       "      <td>0.000000</td>\n",
       "      <td>0.000000</td>\n",
       "      <td>0.069727</td>\n",
       "      <td>NaN</td>\n",
       "      <td>NaN</td>\n",
       "    </tr>\n",
       "    <tr>\n",
       "      <th>50%</th>\n",
       "      <td>2023-07-01 12:00:00</td>\n",
       "      <td>0.646257</td>\n",
       "      <td>0.592351</td>\n",
       "      <td>0.484946</td>\n",
       "      <td>0.318280</td>\n",
       "      <td>0.232323</td>\n",
       "      <td>0.034848</td>\n",
       "      <td>0.646257</td>\n",
       "      <td>0.676044</td>\n",
       "      <td>0.748297</td>\n",
       "      <td>...</td>\n",
       "      <td>1.000000</td>\n",
       "      <td>0.225485</td>\n",
       "      <td>0.489456</td>\n",
       "      <td>0.608729</td>\n",
       "      <td>0.786397</td>\n",
       "      <td>0.853899</td>\n",
       "      <td>0.853899</td>\n",
       "      <td>0.127372</td>\n",
       "      <td>NaN</td>\n",
       "      <td>NaN</td>\n",
       "    </tr>\n",
       "    <tr>\n",
       "      <th>75%</th>\n",
       "      <td>2023-07-08 06:00:00</td>\n",
       "      <td>0.760932</td>\n",
       "      <td>0.716167</td>\n",
       "      <td>0.669393</td>\n",
       "      <td>0.466152</td>\n",
       "      <td>0.311703</td>\n",
       "      <td>0.046755</td>\n",
       "      <td>0.760932</td>\n",
       "      <td>0.810086</td>\n",
       "      <td>0.863275</td>\n",
       "      <td>...</td>\n",
       "      <td>1.000000</td>\n",
       "      <td>0.327093</td>\n",
       "      <td>0.528918</td>\n",
       "      <td>0.765849</td>\n",
       "      <td>0.926174</td>\n",
       "      <td>0.926174</td>\n",
       "      <td>0.926174</td>\n",
       "      <td>0.139446</td>\n",
       "      <td>NaN</td>\n",
       "      <td>NaN</td>\n",
       "    </tr>\n",
       "    <tr>\n",
       "      <th>max</th>\n",
       "      <td>2023-07-15 00:00:00</td>\n",
       "      <td>0.944444</td>\n",
       "      <td>0.777778</td>\n",
       "      <td>0.727586</td>\n",
       "      <td>0.534177</td>\n",
       "      <td>0.425316</td>\n",
       "      <td>0.063797</td>\n",
       "      <td>0.944444</td>\n",
       "      <td>0.972222</td>\n",
       "      <td>0.972222</td>\n",
       "      <td>...</td>\n",
       "      <td>1.000000</td>\n",
       "      <td>0.519608</td>\n",
       "      <td>1.000000</td>\n",
       "      <td>1.000000</td>\n",
       "      <td>1.000000</td>\n",
       "      <td>1.000000</td>\n",
       "      <td>1.000000</td>\n",
       "      <td>0.154081</td>\n",
       "      <td>NaN</td>\n",
       "      <td>NaN</td>\n",
       "    </tr>\n",
       "    <tr>\n",
       "      <th>std</th>\n",
       "      <td>NaN</td>\n",
       "      <td>0.404094</td>\n",
       "      <td>0.362384</td>\n",
       "      <td>0.332706</td>\n",
       "      <td>0.235507</td>\n",
       "      <td>0.170304</td>\n",
       "      <td>0.025546</td>\n",
       "      <td>0.404094</td>\n",
       "      <td>0.422851</td>\n",
       "      <td>0.440373</td>\n",
       "      <td>...</td>\n",
       "      <td>0.516398</td>\n",
       "      <td>0.188122</td>\n",
       "      <td>0.342134</td>\n",
       "      <td>0.404167</td>\n",
       "      <td>0.472011</td>\n",
       "      <td>0.480658</td>\n",
       "      <td>0.480658</td>\n",
       "      <td>0.037088</td>\n",
       "      <td>NaN</td>\n",
       "      <td>NaN</td>\n",
       "    </tr>\n",
       "  </tbody>\n",
       "</table>\n",
       "<p>8 rows × 34 columns</p>\n",
       "</div>"
      ],
      "text/plain": [
       "                      fold  precision@1  precision@3  precision@5  \\\n",
       "count                   10    10.000000    10.000000    10.000000   \n",
       "mean   2023-07-01 12:00:00     0.458121     0.412547     0.373922   \n",
       "min    2023-06-18 00:00:00     0.000000     0.000000     0.000000   \n",
       "25%    2023-06-24 18:00:00     0.000000     0.000000     0.000000   \n",
       "50%    2023-07-01 12:00:00     0.646257     0.592351     0.484946   \n",
       "75%    2023-07-08 06:00:00     0.760932     0.716167     0.669393   \n",
       "max    2023-07-15 00:00:00     0.944444     0.777778     0.727586   \n",
       "std                    NaN     0.404094     0.362384     0.332706   \n",
       "\n",
       "       precision@10  precision@15  precision@100     ndcg@1     ndcg@3  \\\n",
       "count     10.000000     10.000000      10.000000  10.000000  10.000000   \n",
       "mean       0.258067      0.183266       0.027490   0.458121   0.481018   \n",
       "min        0.000000      0.000000       0.000000   0.000000   0.000000   \n",
       "25%        0.000000      0.000000       0.000000   0.000000   0.000000   \n",
       "50%        0.318280      0.232323       0.034848   0.646257   0.676044   \n",
       "75%        0.466152      0.311703       0.046755   0.760932   0.810086   \n",
       "max        0.534177      0.425316       0.063797   0.944444   0.972222   \n",
       "std        0.235507      0.170304       0.025546   0.404094   0.422851   \n",
       "\n",
       "          ndcg@5  ...  recall@100  r-precision@1  r-precision@3  \\\n",
       "count  10.000000  ...   10.000000      10.000000      10.000000   \n",
       "mean    0.506013  ...    0.600000       0.196720       0.358312   \n",
       "min     0.000000  ...    0.000000       0.000000       0.000000   \n",
       "25%     0.000000  ...    0.000000       0.000000       0.000000   \n",
       "50%     0.748297  ...    1.000000       0.225485       0.489456   \n",
       "75%     0.863275  ...    1.000000       0.327093       0.528918   \n",
       "max     0.972222  ...    1.000000       0.519608       1.000000   \n",
       "std     0.440373  ...    0.516398       0.188122       0.342134   \n",
       "\n",
       "       r-precision@5  r-precision@10  r-precision@15  r-precision@100  \\\n",
       "count      10.000000       10.000000       10.000000        10.000000   \n",
       "mean        0.452456        0.541837        0.555338         0.555338   \n",
       "min         0.000000        0.000000        0.000000         0.000000   \n",
       "25%         0.000000        0.000000        0.000000         0.000000   \n",
       "50%         0.608729        0.786397        0.853899         0.853899   \n",
       "75%         0.765849        0.926174        0.926174         0.926174   \n",
       "max         1.000000        1.000000        1.000000         1.000000   \n",
       "std         0.404167        0.472011        0.480658         0.480658   \n",
       "\n",
       "       time_eval  perfect precision@5  perfect precision@10  \n",
       "count  10.000000                  0.0                   0.0  \n",
       "mean    0.111291                  NaN                   NaN  \n",
       "min     0.068775                  NaN                   NaN  \n",
       "25%     0.069727                  NaN                   NaN  \n",
       "50%     0.127372                  NaN                   NaN  \n",
       "75%     0.139446                  NaN                   NaN  \n",
       "max     0.154081                  NaN                   NaN  \n",
       "std     0.037088                  NaN                   NaN  \n",
       "\n",
       "[8 rows x 34 columns]"
      ]
     },
     "execution_count": 13,
     "metadata": {},
     "output_type": "execute_result"
    }
   ],
   "source": [
    "mdf[-LAST_FOLDS:].describe()"
   ]
  },
  {
   "cell_type": "code",
   "execution_count": null,
   "id": "cfec52c7",
   "metadata": {
    "papermill": {
     "duration": 0.008144,
     "end_time": "2024-09-05T08:58:22.763221",
     "exception": false,
     "start_time": "2024-09-05T08:58:22.755077",
     "status": "completed"
    },
    "tags": []
   },
   "outputs": [],
   "source": []
  }
 ],
 "metadata": {
  "kernelspec": {
   "display_name": "Python 3 (ipykernel)",
   "language": "python",
   "name": "python3"
  },
  "language_info": {
   "codemirror_mode": {
    "name": "ipython",
    "version": 3
   },
   "file_extension": ".py",
   "mimetype": "text/x-python",
   "name": "python",
   "nbconvert_exporter": "python",
   "pygments_lexer": "ipython3",
   "version": "3.11.6"
  },
  "papermill": {
   "default_parameters": {},
   "duration": 98.02387,
   "end_time": "2024-09-05T08:58:23.893436",
   "environment_variables": {},
   "exception": null,
   "input_path": "10_baseline.ipynb",
   "output_path": "../nbout/Balancer/10_baseline.ipynb",
   "parameters": {
    "EXECUTION_ID": "2024-09-04T10:00",
    "LAST_FOLDS": 10,
    "LAST_FOLD_DATE_STR": null,
    "ORG_NAME": "Balancer",
    "SPLITS_FREQ": "3d",
    "SPLITS_NORMALIZE": true
   },
   "start_time": "2024-09-05T08:56:45.869566",
   "version": "2.6.0"
  },
  "widgets": {
   "application/vnd.jupyter.widget-state+json": {
    "state": {
     "103e29e68e484e2dbb988584c56de9bc": {
      "model_module": "@jupyter-widgets/base",
      "model_module_version": "2.0.0",
      "model_name": "LayoutModel",
      "state": {
       "_model_module": "@jupyter-widgets/base",
       "_model_module_version": "2.0.0",
       "_model_name": "LayoutModel",
       "_view_count": null,
       "_view_module": "@jupyter-widgets/base",
       "_view_module_version": "2.0.0",
       "_view_name": "LayoutView",
       "align_content": null,
       "align_items": null,
       "align_self": null,
       "border_bottom": null,
       "border_left": null,
       "border_right": null,
       "border_top": null,
       "bottom": null,
       "display": null,
       "flex": null,
       "flex_flow": null,
       "grid_area": null,
       "grid_auto_columns": null,
       "grid_auto_flow": null,
       "grid_auto_rows": null,
       "grid_column": null,
       "grid_gap": null,
       "grid_row": null,
       "grid_template_areas": null,
       "grid_template_columns": null,
       "grid_template_rows": null,
       "height": null,
       "justify_content": null,
       "justify_items": null,
       "left": null,
       "margin": null,
       "max_height": null,
       "max_width": null,
       "min_height": null,
       "min_width": null,
       "object_fit": null,
       "object_position": null,
       "order": null,
       "overflow": null,
       "padding": null,
       "right": null,
       "top": null,
       "visibility": null,
       "width": null
      }
     },
     "520cde44432b42d9ae30b7c645493d3c": {
      "model_module": "@jupyter-widgets/base",
      "model_module_version": "2.0.0",
      "model_name": "LayoutModel",
      "state": {
       "_model_module": "@jupyter-widgets/base",
       "_model_module_version": "2.0.0",
       "_model_name": "LayoutModel",
       "_view_count": null,
       "_view_module": "@jupyter-widgets/base",
       "_view_module_version": "2.0.0",
       "_view_name": "LayoutView",
       "align_content": null,
       "align_items": null,
       "align_self": null,
       "border_bottom": null,
       "border_left": null,
       "border_right": null,
       "border_top": null,
       "bottom": null,
       "display": null,
       "flex": null,
       "flex_flow": null,
       "grid_area": null,
       "grid_auto_columns": null,
       "grid_auto_flow": null,
       "grid_auto_rows": null,
       "grid_column": null,
       "grid_gap": null,
       "grid_row": null,
       "grid_template_areas": null,
       "grid_template_columns": null,
       "grid_template_rows": null,
       "height": null,
       "justify_content": null,
       "justify_items": null,
       "left": null,
       "margin": null,
       "max_height": null,
       "max_width": null,
       "min_height": null,
       "min_width": null,
       "object_fit": null,
       "object_position": null,
       "order": null,
       "overflow": null,
       "padding": null,
       "right": null,
       "top": null,
       "visibility": null,
       "width": null
      }
     },
     "6c2033b130194c408327a2fa9c8126d5": {
      "model_module": "@jupyter-widgets/controls",
      "model_module_version": "2.0.0",
      "model_name": "ProgressStyleModel",
      "state": {
       "_model_module": "@jupyter-widgets/controls",
       "_model_module_version": "2.0.0",
       "_model_name": "ProgressStyleModel",
       "_view_count": null,
       "_view_module": "@jupyter-widgets/base",
       "_view_module_version": "2.0.0",
       "_view_name": "StyleView",
       "bar_color": null,
       "description_width": ""
      }
     },
     "722fb48455f84a5fa804938ed0d769e3": {
      "model_module": "@jupyter-widgets/controls",
      "model_module_version": "2.0.0",
      "model_name": "HBoxModel",
      "state": {
       "_dom_classes": [],
       "_model_module": "@jupyter-widgets/controls",
       "_model_module_version": "2.0.0",
       "_model_name": "HBoxModel",
       "_view_count": null,
       "_view_module": "@jupyter-widgets/controls",
       "_view_module_version": "2.0.0",
       "_view_name": "HBoxView",
       "box_style": "",
       "children": [
        "IPY_MODEL_d0ffe062e8a842e2b70aecc0398111da",
        "IPY_MODEL_e791b37f3917475a83169be26c80e0f1",
        "IPY_MODEL_ce328290cf7b4639a3e1a5c35e20ee20"
       ],
       "layout": "IPY_MODEL_103e29e68e484e2dbb988584c56de9bc",
       "tabbable": null,
       "tooltip": null
      }
     },
     "9d08dc7798c640b3b4ca93d71a2b9be8": {
      "model_module": "@jupyter-widgets/controls",
      "model_module_version": "2.0.0",
      "model_name": "HTMLStyleModel",
      "state": {
       "_model_module": "@jupyter-widgets/controls",
       "_model_module_version": "2.0.0",
       "_model_name": "HTMLStyleModel",
       "_view_count": null,
       "_view_module": "@jupyter-widgets/base",
       "_view_module_version": "2.0.0",
       "_view_name": "StyleView",
       "background": null,
       "description_width": "",
       "font_size": null,
       "text_color": null
      }
     },
     "b3067586135f4beeb406deeaa76f363f": {
      "model_module": "@jupyter-widgets/base",
      "model_module_version": "2.0.0",
      "model_name": "LayoutModel",
      "state": {
       "_model_module": "@jupyter-widgets/base",
       "_model_module_version": "2.0.0",
       "_model_name": "LayoutModel",
       "_view_count": null,
       "_view_module": "@jupyter-widgets/base",
       "_view_module_version": "2.0.0",
       "_view_name": "LayoutView",
       "align_content": null,
       "align_items": null,
       "align_self": null,
       "border_bottom": null,
       "border_left": null,
       "border_right": null,
       "border_top": null,
       "bottom": null,
       "display": null,
       "flex": null,
       "flex_flow": null,
       "grid_area": null,
       "grid_auto_columns": null,
       "grid_auto_flow": null,
       "grid_auto_rows": null,
       "grid_column": null,
       "grid_gap": null,
       "grid_row": null,
       "grid_template_areas": null,
       "grid_template_columns": null,
       "grid_template_rows": null,
       "height": null,
       "justify_content": null,
       "justify_items": null,
       "left": null,
       "margin": null,
       "max_height": null,
       "max_width": null,
       "min_height": null,
       "min_width": null,
       "object_fit": null,
       "object_position": null,
       "order": null,
       "overflow": null,
       "padding": null,
       "right": null,
       "top": null,
       "visibility": null,
       "width": null
      }
     },
     "b5ba96f13a434c40bd8190fbfdd25561": {
      "model_module": "@jupyter-widgets/base",
      "model_module_version": "2.0.0",
      "model_name": "LayoutModel",
      "state": {
       "_model_module": "@jupyter-widgets/base",
       "_model_module_version": "2.0.0",
       "_model_name": "LayoutModel",
       "_view_count": null,
       "_view_module": "@jupyter-widgets/base",
       "_view_module_version": "2.0.0",
       "_view_name": "LayoutView",
       "align_content": null,
       "align_items": null,
       "align_self": null,
       "border_bottom": null,
       "border_left": null,
       "border_right": null,
       "border_top": null,
       "bottom": null,
       "display": null,
       "flex": null,
       "flex_flow": null,
       "grid_area": null,
       "grid_auto_columns": null,
       "grid_auto_flow": null,
       "grid_auto_rows": null,
       "grid_column": null,
       "grid_gap": null,
       "grid_row": null,
       "grid_template_areas": null,
       "grid_template_columns": null,
       "grid_template_rows": null,
       "height": null,
       "justify_content": null,
       "justify_items": null,
       "left": null,
       "margin": null,
       "max_height": null,
       "max_width": null,
       "min_height": null,
       "min_width": null,
       "object_fit": null,
       "object_position": null,
       "order": null,
       "overflow": null,
       "padding": null,
       "right": null,
       "top": null,
       "visibility": null,
       "width": null
      }
     },
     "ce328290cf7b4639a3e1a5c35e20ee20": {
      "model_module": "@jupyter-widgets/controls",
      "model_module_version": "2.0.0",
      "model_name": "HTMLModel",
      "state": {
       "_dom_classes": [],
       "_model_module": "@jupyter-widgets/controls",
       "_model_module_version": "2.0.0",
       "_model_name": "HTMLModel",
       "_view_count": null,
       "_view_module": "@jupyter-widgets/controls",
       "_view_module_version": "2.0.0",
       "_view_name": "HTMLView",
       "description": "",
       "description_allow_html": false,
       "layout": "IPY_MODEL_520cde44432b42d9ae30b7c645493d3c",
       "placeholder": "​",
       "style": "IPY_MODEL_9d08dc7798c640b3b4ca93d71a2b9be8",
       "tabbable": null,
       "tooltip": null,
       "value": " 365/365 [01:18&lt;00:00,  3.92it/s]"
      }
     },
     "d0ffe062e8a842e2b70aecc0398111da": {
      "model_module": "@jupyter-widgets/controls",
      "model_module_version": "2.0.0",
      "model_name": "HTMLModel",
      "state": {
       "_dom_classes": [],
       "_model_module": "@jupyter-widgets/controls",
       "_model_module_version": "2.0.0",
       "_model_name": "HTMLModel",
       "_view_count": null,
       "_view_module": "@jupyter-widgets/controls",
       "_view_module_version": "2.0.0",
       "_view_name": "HTMLView",
       "description": "",
       "description_allow_html": false,
       "layout": "IPY_MODEL_b3067586135f4beeb406deeaa76f363f",
       "placeholder": "​",
       "style": "IPY_MODEL_e6af98b3b7924bc7b79b6bdbaf5a6a5b",
       "tabbable": null,
       "tooltip": null,
       "value": "100%"
      }
     },
     "e6af98b3b7924bc7b79b6bdbaf5a6a5b": {
      "model_module": "@jupyter-widgets/controls",
      "model_module_version": "2.0.0",
      "model_name": "HTMLStyleModel",
      "state": {
       "_model_module": "@jupyter-widgets/controls",
       "_model_module_version": "2.0.0",
       "_model_name": "HTMLStyleModel",
       "_view_count": null,
       "_view_module": "@jupyter-widgets/base",
       "_view_module_version": "2.0.0",
       "_view_name": "StyleView",
       "background": null,
       "description_width": "",
       "font_size": null,
       "text_color": null
      }
     },
     "e791b37f3917475a83169be26c80e0f1": {
      "model_module": "@jupyter-widgets/controls",
      "model_module_version": "2.0.0",
      "model_name": "FloatProgressModel",
      "state": {
       "_dom_classes": [],
       "_model_module": "@jupyter-widgets/controls",
       "_model_module_version": "2.0.0",
       "_model_name": "FloatProgressModel",
       "_view_count": null,
       "_view_module": "@jupyter-widgets/controls",
       "_view_module_version": "2.0.0",
       "_view_name": "ProgressView",
       "bar_style": "success",
       "description": "",
       "description_allow_html": false,
       "layout": "IPY_MODEL_b5ba96f13a434c40bd8190fbfdd25561",
       "max": 365.0,
       "min": 0.0,
       "orientation": "horizontal",
       "style": "IPY_MODEL_6c2033b130194c408327a2fa9c8126d5",
       "tabbable": null,
       "tooltip": null,
       "value": 365.0
      }
     }
    },
    "version_major": 2,
    "version_minor": 0
   }
  }
 },
 "nbformat": 4,
 "nbformat_minor": 5
}