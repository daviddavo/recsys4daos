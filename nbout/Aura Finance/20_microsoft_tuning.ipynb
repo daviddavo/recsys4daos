{
 "cells": [
  {
   "cell_type": "code",
   "execution_count": 1,
   "id": "a87bc65f",
   "metadata": {
    "editable": true,
    "papermill": {
     "duration": 2.846768,
     "end_time": "2024-09-09T08:57:16.657951",
     "exception": false,
     "start_time": "2024-09-09T08:57:13.811183",
     "status": "completed"
    },
    "slideshow": {
     "slide_type": ""
    },
    "tags": []
   },
   "outputs": [
    {
     "name": "stdout",
     "output_type": "stream",
     "text": [
      "/home/daviddavo/recsys4daos/notebooks\n"
     ]
    },
    {
     "name": "stderr",
     "output_type": "stream",
     "text": [
      "/home/daviddavo/recsys4daos/.direnv/python-3.11/lib/python3.11/site-packages/IPython/core/magics/osm.py:417: UserWarning: This is now an optional IPython functionality, setting dhist requires you to install the `pickleshare` library.\n",
      "  self.shell.db['dhist'] = compress_dhist(dhist)[-100:]\n",
      "/tmp/ipykernel_484411/2796633904.py:12: TqdmExperimentalWarning: Using `tqdm.autonotebook.tqdm` in notebook mode. Use `tqdm.tqdm` instead to force console mode (e.g. in jupyter console)\n",
      "  from tqdm.autonotebook import tqdm\n"
     ]
    },
    {
     "name": "stdout",
     "output_type": "stream",
     "text": [
      "Ignoring warnings\n",
      "3.11.6 (main, Jun 24 2024, 07:45:26) [GCC 11.4.0]\n",
      "recommenders: 1.2.0\n",
      "ray: 2.30.0\n",
      "tensorflow: 2.16.1\n"
     ]
    }
   ],
   "source": [
    "%cd ../../notebooks\n",
    "from typing import List, Dict, Any\n",
    "\n",
    "from pathlib import Path\n",
    "import os, sys\n",
    "import time\n",
    "import datetime as dt\n",
    "import itertools as it\n",
    "\n",
    "import numpy as np\n",
    "import pandas as pd\n",
    "from tqdm.autonotebook import tqdm\n",
    "import ray\n",
    "from ray import train, tune\n",
    "import ipywidgets as widgets\n",
    "\n",
    "from recsys4daos.model_selection import cvtt_open\n",
    "from recsys4daos.datasets import to_microsoft, filter_window_size\n",
    "from recsys4daos.models import LightGCNCustom\n",
    "from recsys4daos.utils import Timer\n",
    "import recsys4daos.utils.notebooks as nbu\n",
    "\n",
    "import recommenders\n",
    "if recommenders.__version__ == '1.2.0':\n",
    "    print(\"Ignoring warnings\")\n",
    "    import warnings\n",
    "    warnings.simplefilter(action='ignore', category=FutureWarning)\n",
    "\n",
    "import paths\n",
    "\n",
    "nbu.print_versions('ray', 'tensorflow')\n",
    "\n",
    "%load_ext autoreload\n",
    "%autoreload 2"
   ]
  },
  {
   "cell_type": "code",
   "execution_count": 2,
   "id": "96e87346",
   "metadata": {
    "editable": true,
    "papermill": {
     "duration": 0.025461,
     "end_time": "2024-09-09T08:57:16.686236",
     "exception": false,
     "start_time": "2024-09-09T08:57:16.660775",
     "status": "completed"
    },
    "slideshow": {
     "slide_type": ""
    },
    "tags": [
     "parameters"
    ]
   },
   "outputs": [],
   "source": [
    "# Others config\n",
    "SEED: int = 57\n",
    "RAY_RESULTS_PATH: Path = '~/ray_results3.11'\n",
    "\n",
    "# Dataset splits config\n",
    "ORG_NAME = 'Decentraland'\n",
    "SPLITS_FREQ = 'W-THU'  # Split weekly\n",
    "LAST_FOLDS = 10  # Use just last 10 splits\n",
    "SPLITS_NORMALIZE = True\n",
    "LAST_FOLD_DATE_STR: str = '2023-07-13'\n",
    "\n",
    "# Training config\n",
    "MAX_EPOCHS: int = 200\n",
    "EPOCHS_PER_ITER: int = 5\n",
    "SAMPLES_PER_SPLIT: int = 100\n",
    "MAX_TIME_TOTAL_TRAIN: int = 300\n",
    "OPTIM_METRIC: str = 'map@10'\n",
    "\n",
    "# Search space config\n",
    "MAX_EMBEDDING_DIM = 1024\n",
    "MIN_BATCH_SIZE = 6\n",
    "MAX_BATCH_SIZE = 10 # 2**10\n",
    "MIN_LR = 1e-4\n",
    "# WINDOW_SIZES = ['7d', '14d', '21d', '30d', '60d', '90d', '10YE']\n",
    "WINDOW_SIZES = ['21d', '30d', '60d', '90d', '10YE']\n",
    "GPUS = 16\n",
    "\n",
    "# Eval config\n",
    "K_RECOMMENDATIONS: List[int] = [1,3,5,10,15,100]\n",
    "METRICS: List[str] = [\"recall\", \"ndcg\", \"precision\", \"map\"]"
   ]
  },
  {
   "cell_type": "code",
   "execution_count": 3,
   "id": "4520690c",
   "metadata": {
    "papermill": {
     "duration": 0.022991,
     "end_time": "2024-09-09T08:57:16.711686",
     "exception": false,
     "start_time": "2024-09-09T08:57:16.688695",
     "status": "completed"
    },
    "tags": [
     "injected-parameters"
    ]
   },
   "outputs": [],
   "source": [
    "# Parameters\n",
    "EXECUTION_ID = \"2024-09-04T10:00\"\n",
    "MIN_BATCH_SIZE = 4\n",
    "ORG_NAME = \"Aura Finance\"\n",
    "SPLITS_FREQ = \"7d\"\n",
    "LAST_FOLDS = 10\n",
    "SPLITS_NORMALIZE = True\n",
    "LAST_FOLD_DATE_STR = \"2023-07-14\"\n"
   ]
  },
  {
   "cell_type": "code",
   "execution_count": 4,
   "id": "0dd06c20",
   "metadata": {
    "papermill": {
     "duration": 0.021866,
     "end_time": "2024-09-09T08:57:16.735876",
     "exception": false,
     "start_time": "2024-09-09T08:57:16.714010",
     "status": "completed"
    },
    "tags": []
   },
   "outputs": [],
   "source": [
    "RAY_RESULTS_PATH = Path(RAY_RESULTS_PATH).expanduser()"
   ]
  },
  {
   "cell_type": "markdown",
   "id": "3bd1ba97",
   "metadata": {
    "papermill": {
     "duration": 0.002464,
     "end_time": "2024-09-09T08:57:16.740721",
     "exception": false,
     "start_time": "2024-09-09T08:57:16.738257",
     "status": "completed"
    },
    "tags": []
   },
   "source": [
    "## Obtain dataset"
   ]
  },
  {
   "cell_type": "code",
   "execution_count": 5,
   "id": "1c7d0545",
   "metadata": {
    "papermill": {
     "duration": 0.14785,
     "end_time": "2024-09-09T08:57:16.890798",
     "exception": false,
     "start_time": "2024-09-09T08:57:16.742948",
     "status": "completed"
    },
    "tags": []
   },
   "outputs": [
    {
     "name": "stdout",
     "output_type": "stream",
     "text": [
      "/home/daviddavo/recsys4daos/notebooks\n"
     ]
    }
   ],
   "source": [
    "!pwd"
   ]
  },
  {
   "cell_type": "code",
   "execution_count": 6,
   "id": "887b4996",
   "metadata": {
    "papermill": {
     "duration": 0.053501,
     "end_time": "2024-09-09T08:57:16.954951",
     "exception": false,
     "start_time": "2024-09-09T08:57:16.901450",
     "status": "completed"
    },
    "tags": []
   },
   "outputs": [
    {
     "name": "stdout",
     "output_type": "stream",
     "text": [
      "<class 'pandas.core.frame.DataFrame'>\n",
      "RangeIndex: 415 entries, 0 to 414\n",
      "Data columns (total 6 columns):\n",
      " #   Column             Non-Null Count  Dtype         \n",
      "---  ------             --------------  -----         \n",
      " 0   id                 415 non-null    object        \n",
      " 1   author             415 non-null    object        \n",
      " 2   date               415 non-null    datetime64[us]\n",
      " 3   start              415 non-null    datetime64[us]\n",
      " 4   end                415 non-null    datetime64[us]\n",
      " 5   platform_proposal  415 non-null    object        \n",
      "dtypes: datetime64[us](3), object(3)\n",
      "memory usage: 19.6+ KB\n",
      "None\n",
      "<class 'pandas.core.frame.DataFrame'>\n",
      "RangeIndex: 7677 entries, 0 to 7676\n",
      "Data columns (total 4 columns):\n",
      " #   Column    Non-Null Count  Dtype         \n",
      "---  ------    --------------  -----         \n",
      " 0   id        7677 non-null   object        \n",
      " 1   proposal  7677 non-null   object        \n",
      " 2   voter     7677 non-null   object        \n",
      " 3   date      7677 non-null   datetime64[us]\n",
      "dtypes: datetime64[us](1), object(3)\n",
      "memory usage: 240.0+ KB\n",
      "None\n"
     ]
    }
   ],
   "source": [
    "dfp = paths.load_proposals(ORG_NAME)\n",
    "dfv = paths.load_votes(ORG_NAME)\n",
    "\n",
    "print(dfp.info())\n",
    "print(dfv.info())"
   ]
  },
  {
   "cell_type": "markdown",
   "id": "8c9234f1",
   "metadata": {
    "papermill": {
     "duration": 0.002607,
     "end_time": "2024-09-09T08:57:16.960279",
     "exception": false,
     "start_time": "2024-09-09T08:57:16.957672",
     "status": "completed"
    },
    "tags": []
   },
   "source": [
    "## Split data"
   ]
  },
  {
   "cell_type": "code",
   "execution_count": 7,
   "id": "6b7c6894",
   "metadata": {
    "papermill": {
     "duration": 0.031294,
     "end_time": "2024-09-09T08:57:16.994169",
     "exception": false,
     "start_time": "2024-09-09T08:57:16.962875",
     "status": "completed"
    },
    "tags": []
   },
   "outputs": [
    {
     "data": {
      "text/html": [
       "<div>\n",
       "<style scoped>\n",
       "    .dataframe tbody tr th:only-of-type {\n",
       "        vertical-align: middle;\n",
       "    }\n",
       "\n",
       "    .dataframe tbody tr th {\n",
       "        vertical-align: top;\n",
       "    }\n",
       "\n",
       "    .dataframe thead th {\n",
       "        text-align: right;\n",
       "    }\n",
       "</style>\n",
       "<table border=\"1\" class=\"dataframe\">\n",
       "  <thead>\n",
       "    <tr style=\"text-align: right;\">\n",
       "      <th></th>\n",
       "      <th>userID</th>\n",
       "      <th>itemID</th>\n",
       "      <th>timestamp</th>\n",
       "      <th>rating</th>\n",
       "    </tr>\n",
       "  </thead>\n",
       "  <tbody>\n",
       "    <tr>\n",
       "      <th>0</th>\n",
       "      <td>0xb1f881f47bab744e7283851bc090baa626df931d</td>\n",
       "      <td>08cf9283-73d7-518a-808f-000984e42821</td>\n",
       "      <td>2022-06-17 09:57:28</td>\n",
       "      <td>1</td>\n",
       "    </tr>\n",
       "    <tr>\n",
       "      <th>1</th>\n",
       "      <td>0xb957dccaa1ccfb1eb78b495b499801d591d8a403</td>\n",
       "      <td>08cf9283-73d7-518a-808f-000984e42821</td>\n",
       "      <td>2022-06-17 11:49:24</td>\n",
       "      <td>1</td>\n",
       "    </tr>\n",
       "    <tr>\n",
       "      <th>2</th>\n",
       "      <td>0xd423b5598f2ed21a91cb79ea945c3c10836bc659</td>\n",
       "      <td>08cf9283-73d7-518a-808f-000984e42821</td>\n",
       "      <td>2022-06-17 13:33:38</td>\n",
       "      <td>1</td>\n",
       "    </tr>\n",
       "    <tr>\n",
       "      <th>3</th>\n",
       "      <td>0x3eedb85da27cac4ec83ab5a8a38f18b0edbc7042</td>\n",
       "      <td>08cf9283-73d7-518a-808f-000984e42821</td>\n",
       "      <td>2022-06-17 16:24:02</td>\n",
       "      <td>1</td>\n",
       "    </tr>\n",
       "    <tr>\n",
       "      <th>4</th>\n",
       "      <td>0x8dc4310f20d59ba458b76a62141697717f93fa41</td>\n",
       "      <td>08cf9283-73d7-518a-808f-000984e42821</td>\n",
       "      <td>2022-06-17 20:34:02</td>\n",
       "      <td>1</td>\n",
       "    </tr>\n",
       "    <tr>\n",
       "      <th>...</th>\n",
       "      <td>...</td>\n",
       "      <td>...</td>\n",
       "      <td>...</td>\n",
       "      <td>...</td>\n",
       "    </tr>\n",
       "    <tr>\n",
       "      <th>7672</th>\n",
       "      <td>0xbabb038737a7ae0dca02075e79ed5b7704c29827</td>\n",
       "      <td>416c6597-8fa2-5674-a75d-391e321554da</td>\n",
       "      <td>2023-07-16 22:22:45</td>\n",
       "      <td>1</td>\n",
       "    </tr>\n",
       "    <tr>\n",
       "      <th>7673</th>\n",
       "      <td>0xbabb038737a7ae0dca02075e79ed5b7704c29827</td>\n",
       "      <td>344bb922-98c2-5ef2-ab09-ed114cb7573b</td>\n",
       "      <td>2023-07-16 22:23:02</td>\n",
       "      <td>1</td>\n",
       "    </tr>\n",
       "    <tr>\n",
       "      <th>7674</th>\n",
       "      <td>0xbabb038737a7ae0dca02075e79ed5b7704c29827</td>\n",
       "      <td>3a773b95-59e5-55a2-bc4c-0bf8c4ff19cd</td>\n",
       "      <td>2023-07-16 22:23:22</td>\n",
       "      <td>1</td>\n",
       "    </tr>\n",
       "    <tr>\n",
       "      <th>7675</th>\n",
       "      <td>0xbabb038737a7ae0dca02075e79ed5b7704c29827</td>\n",
       "      <td>d2940d14-4d66-5150-acdf-037894d5f6a0</td>\n",
       "      <td>2023-07-16 22:23:43</td>\n",
       "      <td>1</td>\n",
       "    </tr>\n",
       "    <tr>\n",
       "      <th>7676</th>\n",
       "      <td>0xbabb038737a7ae0dca02075e79ed5b7704c29827</td>\n",
       "      <td>d714b173-f39a-53fb-92d4-a57a53d340ee</td>\n",
       "      <td>2023-07-16 22:24:26</td>\n",
       "      <td>1</td>\n",
       "    </tr>\n",
       "  </tbody>\n",
       "</table>\n",
       "<p>7677 rows × 4 columns</p>\n",
       "</div>"
      ],
      "text/plain": [
       "                                          userID  \\\n",
       "0     0xb1f881f47bab744e7283851bc090baa626df931d   \n",
       "1     0xb957dccaa1ccfb1eb78b495b499801d591d8a403   \n",
       "2     0xd423b5598f2ed21a91cb79ea945c3c10836bc659   \n",
       "3     0x3eedb85da27cac4ec83ab5a8a38f18b0edbc7042   \n",
       "4     0x8dc4310f20d59ba458b76a62141697717f93fa41   \n",
       "...                                          ...   \n",
       "7672  0xbabb038737a7ae0dca02075e79ed5b7704c29827   \n",
       "7673  0xbabb038737a7ae0dca02075e79ed5b7704c29827   \n",
       "7674  0xbabb038737a7ae0dca02075e79ed5b7704c29827   \n",
       "7675  0xbabb038737a7ae0dca02075e79ed5b7704c29827   \n",
       "7676  0xbabb038737a7ae0dca02075e79ed5b7704c29827   \n",
       "\n",
       "                                    itemID           timestamp  rating  \n",
       "0     08cf9283-73d7-518a-808f-000984e42821 2022-06-17 09:57:28       1  \n",
       "1     08cf9283-73d7-518a-808f-000984e42821 2022-06-17 11:49:24       1  \n",
       "2     08cf9283-73d7-518a-808f-000984e42821 2022-06-17 13:33:38       1  \n",
       "3     08cf9283-73d7-518a-808f-000984e42821 2022-06-17 16:24:02       1  \n",
       "4     08cf9283-73d7-518a-808f-000984e42821 2022-06-17 20:34:02       1  \n",
       "...                                    ...                 ...     ...  \n",
       "7672  416c6597-8fa2-5674-a75d-391e321554da 2023-07-16 22:22:45       1  \n",
       "7673  344bb922-98c2-5ef2-ab09-ed114cb7573b 2023-07-16 22:23:02       1  \n",
       "7674  3a773b95-59e5-55a2-bc4c-0bf8c4ff19cd 2023-07-16 22:23:22       1  \n",
       "7675  d2940d14-4d66-5150-acdf-037894d5f6a0 2023-07-16 22:23:43       1  \n",
       "7676  d714b173-f39a-53fb-92d4-a57a53d340ee 2023-07-16 22:24:26       1  \n",
       "\n",
       "[7677 rows x 4 columns]"
      ]
     },
     "execution_count": 7,
     "metadata": {},
     "output_type": "execute_result"
    }
   ],
   "source": [
    "df = to_microsoft(dfv)\n",
    "df"
   ]
  },
  {
   "cell_type": "code",
   "execution_count": 8,
   "id": "cd42c3b0",
   "metadata": {
    "editable": true,
    "papermill": {
     "duration": 0.168664,
     "end_time": "2024-09-09T08:57:17.165544",
     "exception": false,
     "start_time": "2024-09-09T08:57:16.996880",
     "status": "completed"
    },
    "slideshow": {
     "slide_type": ""
    },
    "tags": []
   },
   "outputs": [
    {
     "name": "stdout",
     "output_type": "stream",
     "text": [
      "57 folds\n",
      "Using 10 folds, from 2023-05-12T00:00:00 to 2023-07-14T00:00:00\n"
     ]
    }
   ],
   "source": [
    "# USE INTEGER INDEX\n",
    "# folds_dict = list(cvtt_open(df, SPLITS_FREQ, dfp, remove_not_in_train_col='userID'))\n",
    "# use_folds_idx = range(len(folds_dict))[-LAST_FOLDS:]\n",
    "\n",
    "# USE TIMESTAMP INDEX\n",
    "# Note: NO need to used OrderedDict, dict is ordered since Python 3.6\n",
    "folds_dict = { f.end.isoformat():f for f in cvtt_open(df, SPLITS_FREQ, dfp, remove_not_in_train_col='userID', last_fold=LAST_FOLD_DATE_STR) }\n",
    "use_folds_idx = list(folds_dict.keys())[-LAST_FOLDS:]\n",
    "\n",
    "print(len(folds_dict), \"folds\")\n",
    "print(\"Using\", len(use_folds_idx), \"folds, from\", use_folds_idx[0], \"to\", use_folds_idx[-1])"
   ]
  },
  {
   "cell_type": "markdown",
   "id": "8a85e258",
   "metadata": {
    "papermill": {
     "duration": 0.002763,
     "end_time": "2024-09-09T08:57:17.171482",
     "exception": false,
     "start_time": "2024-09-09T08:57:17.168719",
     "status": "completed"
    },
    "tags": []
   },
   "source": [
    "## Making some checks"
   ]
  },
  {
   "cell_type": "markdown",
   "id": "4cc3afc2",
   "metadata": {
    "papermill": {
     "duration": 0.002532,
     "end_time": "2024-09-09T08:57:17.176805",
     "exception": false,
     "start_time": "2024-09-09T08:57:17.174273",
     "status": "completed"
    },
    "tags": []
   },
   "source": [
    "### Checking that all the folds have open proposals"
   ]
  },
  {
   "cell_type": "code",
   "execution_count": 9,
   "id": "ca3b2e0a",
   "metadata": {
    "papermill": {
     "duration": 0.024999,
     "end_time": "2024-09-09T08:57:17.204309",
     "exception": false,
     "start_time": "2024-09-09T08:57:17.179310",
     "status": "completed"
    },
    "tags": []
   },
   "outputs": [],
   "source": [
    "_nok_folds = []\n",
    "for idx in use_folds_idx:\n",
    "    if len(folds_dict[idx].open_proposals) == 0:\n",
    "        _nok_folds.append(idx)\n",
    "\n",
    "if _nok_folds:\n",
    "    raise ValueError(f\"Folds {', '.join(_nok_folds)} don't have any open proposals\")"
   ]
  },
  {
   "cell_type": "markdown",
   "id": "550d4f5c",
   "metadata": {
    "papermill": {
     "duration": 0.002608,
     "end_time": "2024-09-09T08:57:17.209562",
     "exception": false,
     "start_time": "2024-09-09T08:57:17.206954",
     "status": "completed"
    },
    "tags": []
   },
   "source": [
    "### Checking correct hparams"
   ]
  },
  {
   "cell_type": "code",
   "execution_count": 10,
   "id": "5b594e46",
   "metadata": {
    "papermill": {
     "duration": 0.058604,
     "end_time": "2024-09-09T08:57:17.270729",
     "exception": false,
     "start_time": "2024-09-09T08:57:17.212125",
     "status": "completed"
    },
    "tags": []
   },
   "outputs": [
    {
     "name": "stdout",
     "output_type": "stream",
     "text": [
      "All folds ok!\n"
     ]
    },
    {
     "name": "stderr",
     "output_type": "stream",
     "text": [
      "On fold 2023-05-12T00:00:00 batch_size should be '<=512.0' with 10YE: 664 < 1024\n",
      "On fold 2023-05-19T00:00:00 batch_size should be '<=512.0' with 10YE: 671 < 1024\n",
      "On fold 2023-05-26T00:00:00 batch_size should be '<=512.0' with 10YE: 671 < 1024\n",
      "On fold 2023-06-02T00:00:00 batch_size should be '<=512.0' with 10YE: 671 < 1024\n",
      "On fold 2023-06-09T00:00:00 batch_size should be '<=512.0' with 10YE: 674 < 1024\n",
      "On fold 2023-06-16T00:00:00 batch_size should be '<=512.0' with 10YE: 674 < 1024\n",
      "On fold 2023-06-23T00:00:00 batch_size should be '<=512.0' with 10YE: 676 < 1024\n",
      "On fold 2023-06-30T00:00:00 batch_size should be '<=512.0' with 10YE: 677 < 1024\n",
      "On fold 2023-07-07T00:00:00 batch_size should be '<=512.0' with 10YE: 678 < 1024\n",
      "On fold 2023-07-14T00:00:00 batch_size should be '<=512.0' with 10YE: 678 < 1024\n"
     ]
    }
   ],
   "source": [
    "now = dt.datetime.now()\n",
    "max_bs = 2**MAX_BATCH_SIZE\n",
    "min_bs = 2**MIN_BATCH_SIZE\n",
    "_sorted_ws = sorted(WINDOW_SIZES, key=lambda ws: now + pd.tseries.frequencies.to_offset(ws))\n",
    "\n",
    "# Checking that the max_bs is doable with every window size\n",
    "for idx in use_folds_idx:\n",
    "    for ws in _sorted_ws:\n",
    "        nusers = filter_window_size(folds_dict[idx].train, folds_dict[idx].end, ws)['userID'].nunique()\n",
    "        if nusers > max_bs:\n",
    "            print(f'On fold {idx} WINDOW_SIZE should be at least {ws}: {nusers} > {max_bs}', file=sys.stderr)\n",
    "            break\n",
    "\n",
    "# Checking that the min_bs is doable with every window size\n",
    "for idx in use_folds_idx:\n",
    "    for ws in reversed(_sorted_ws):\n",
    "        nusers = filter_window_size(folds_dict[idx].train, folds_dict[idx].end, ws)['userID'].nunique()\n",
    "        if nusers < min_bs:\n",
    "            print(f'On fold {idx} WINDOW_SIZE should be more than {ws}: {nusers} < {min_bs}', file=sys.stderr)\n",
    "            break\n",
    "\n",
    "# Checking that the max_ws is doable with every batch size\n",
    "max_ws = _sorted_ws[-1]\n",
    "for idx in use_folds_idx:\n",
    "    nusers = filter_window_size(folds_dict[idx].train, folds_dict[idx].end, max_ws)['userID'].nunique()\n",
    "    for bs in (2**x for x in reversed(range(MIN_BATCH_SIZE, MAX_BATCH_SIZE+1))):\n",
    "        if bs > nusers:\n",
    "            print(f\"On fold {idx} batch_size should be '<={bs/2}' with {max_ws}: {nusers} < {bs}\", file=sys.stderr)\n",
    "            break\n",
    "\n",
    "print(\"All folds ok!\")"
   ]
  },
  {
   "cell_type": "markdown",
   "id": "6231d883",
   "metadata": {
    "papermill": {
     "duration": 0.002899,
     "end_time": "2024-09-09T08:57:17.276701",
     "exception": false,
     "start_time": "2024-09-09T08:57:17.273802",
     "status": "completed"
    },
    "tags": []
   },
   "source": [
    "### Number of users with the min window_size"
   ]
  },
  {
   "cell_type": "code",
   "execution_count": 11,
   "id": "80ae3c85",
   "metadata": {
    "papermill": {
     "duration": 0.031952,
     "end_time": "2024-09-09T08:57:17.311304",
     "exception": false,
     "start_time": "2024-09-09T08:57:17.279352",
     "status": "completed"
    },
    "tags": []
   },
   "outputs": [
    {
     "name": "stdout",
     "output_type": "stream",
     "text": [
      "On fold 2023-05-12T00:00:00 with ws 21d: 32 users, ws 10YE: 664\n",
      "On fold 2023-05-19T00:00:00 with ws 21d: 43 users, ws 10YE: 671\n",
      "On fold 2023-05-26T00:00:00 with ws 21d: 41 users, ws 10YE: 671\n",
      "On fold 2023-06-02T00:00:00 with ws 21d: 41 users, ws 10YE: 671\n",
      "On fold 2023-06-09T00:00:00 with ws 21d: 33 users, ws 10YE: 674\n",
      "On fold 2023-06-16T00:00:00 with ws 21d: 33 users, ws 10YE: 674\n",
      "On fold 2023-06-23T00:00:00 with ws 21d: 36 users, ws 10YE: 676\n",
      "On fold 2023-06-30T00:00:00 with ws 21d: 27 users, ws 10YE: 677\n",
      "On fold 2023-07-07T00:00:00 with ws 21d: 24 users, ws 10YE: 678\n",
      "On fold 2023-07-14T00:00:00 with ws 21d: 29 users, ws 10YE: 678\n"
     ]
    }
   ],
   "source": [
    "_min_ws = _sorted_ws[0]\n",
    "_max_ws = _sorted_ws[-1]\n",
    "for idx in use_folds_idx:\n",
    "    nusers = filter_window_size(folds_dict[idx].train, folds_dict[idx].end, _min_ws)['userID'].nunique()\n",
    "    nusers2 = filter_window_size(folds_dict[idx].train, folds_dict[idx].end, _max_ws)['userID'].nunique()\n",
    "    print(f'On fold {idx} with ws {_min_ws}: {nusers} users, ws {_max_ws}: {nusers2}')"
   ]
  },
  {
   "cell_type": "markdown",
   "id": "eb26acd5",
   "metadata": {
    "editable": true,
    "papermill": {
     "duration": 0.002819,
     "end_time": "2024-09-09T08:57:17.317014",
     "exception": false,
     "start_time": "2024-09-09T08:57:17.314195",
     "status": "completed"
    },
    "slideshow": {
     "slide_type": ""
    },
    "tags": []
   },
   "source": [
    "## Testing model"
   ]
  },
  {
   "cell_type": "code",
   "execution_count": 12,
   "id": "f2e54ff5",
   "metadata": {
    "papermill": {
     "duration": 0.024636,
     "end_time": "2024-09-09T08:57:17.344339",
     "exception": false,
     "start_time": "2024-09-09T08:57:17.319703",
     "status": "completed"
    },
    "tags": []
   },
   "outputs": [],
   "source": [
    "from recommenders.models.deeprec.DataModel.ImplicitCF import ImplicitCF\n",
    "from recommenders.models.deeprec.deeprec_utils import prepare_hparams"
   ]
  },
  {
   "cell_type": "code",
   "execution_count": 13,
   "id": "20b200d4",
   "metadata": {
    "editable": true,
    "papermill": {
     "duration": 0.023633,
     "end_time": "2024-09-09T08:57:17.370787",
     "exception": false,
     "start_time": "2024-09-09T08:57:17.347154",
     "status": "completed"
    },
    "slideshow": {
     "slide_type": ""
    },
    "tags": []
   },
   "outputs": [],
   "source": [
    "# hparams = prepare_hparams(\n",
    "#     model_type='lightgcn',\n",
    "#     n_layers=3,\n",
    "#     batch_size=512,\n",
    "#     embed_size=64,\n",
    "#     epochs=2,\n",
    "#     learning_rate=0.001,\n",
    "#     decay=0.001,\n",
    "#     metrics=[\"recall\", \"ndcg\", \"precision\", \"map\"],\n",
    "#     eval_epoch=2,\n",
    "#     top_k=K_RECOMMENDATIONS[0],\n",
    "#     save_model=False,\n",
    "#     MODEL_DIR='./data/model/lightgcn/',\n",
    "# )\n",
    "# dataloader = ImplicitCF(train=folds_dict[use_folds_idx[0]].train, test=folds_dict[use_folds_idx[0]].test, seed=SEED)\n",
    "# print(\"items:\", dataloader.n_items, \"user:\", dataloader.n_users)\n",
    "# model = LightGCNCustom(data=dataloader, hparams=hparams)"
   ]
  },
  {
   "cell_type": "code",
   "execution_count": 14,
   "id": "9b8e90ec",
   "metadata": {
    "papermill": {
     "duration": 0.022612,
     "end_time": "2024-09-09T08:57:17.396553",
     "exception": false,
     "start_time": "2024-09-09T08:57:17.373941",
     "status": "completed"
    },
    "tags": []
   },
   "outputs": [],
   "source": [
    "# model.fit()\n",
    "# model.run_eval()"
   ]
  },
  {
   "cell_type": "code",
   "execution_count": 15,
   "id": "785edb62",
   "metadata": {
    "editable": true,
    "papermill": {
     "duration": 0.023194,
     "end_time": "2024-09-09T08:57:17.422635",
     "exception": false,
     "start_time": "2024-09-09T08:57:17.399441",
     "status": "completed"
    },
    "slideshow": {
     "slide_type": ""
    },
    "tags": []
   },
   "outputs": [],
   "source": [
    "# model.recommend_k_items(\n",
    "#     dataloader.test, \n",
    "#     top_k=3, \n",
    "#     use_id=True, \n",
    "#     remove_seen=True, \n",
    "#     recommend_from=folds_dict[use_folds_idx[0]].open_proposals\n",
    "# )"
   ]
  },
  {
   "cell_type": "markdown",
   "id": "7ebbcc0f",
   "metadata": {
    "papermill": {
     "duration": 0.002758,
     "end_time": "2024-09-09T08:57:17.428144",
     "exception": false,
     "start_time": "2024-09-09T08:57:17.425386",
     "status": "completed"
    },
    "tags": []
   },
   "source": [
    "## Defining trainable"
   ]
  },
  {
   "cell_type": "code",
   "execution_count": 16,
   "id": "14fd5122",
   "metadata": {
    "papermill": {
     "duration": 0.022879,
     "end_time": "2024-09-09T08:57:17.453702",
     "exception": false,
     "start_time": "2024-09-09T08:57:17.430823",
     "status": "completed"
    },
    "tags": []
   },
   "outputs": [],
   "source": [
    "from recsys4daos.evaluation import calculate_all_metrics"
   ]
  },
  {
   "cell_type": "code",
   "execution_count": 17,
   "id": "be95e8f4",
   "metadata": {
    "editable": true,
    "papermill": {
     "duration": 0.026378,
     "end_time": "2024-09-09T08:57:17.482851",
     "exception": false,
     "start_time": "2024-09-09T08:57:17.456473",
     "status": "completed"
    },
    "slideshow": {
     "slide_type": ""
    },
    "tags": []
   },
   "outputs": [],
   "source": [
    "class TrainLightGCN(tune.Trainable):\n",
    "    def setup(\n",
    "        self,\n",
    "        config: Dict[str, Any],\n",
    "        data,\n",
    "    ):\n",
    "        self.config = config\n",
    "        train, test, self.t, self.open_proposals = data\n",
    "        train_filtered = filter_window_size(train, self.t, config['window_size'])\n",
    "        \n",
    "        # Remove users that voted in everything\n",
    "        # see https://github.com/recommenders-team/recommenders/issues/2163\n",
    "        msk = train_filtered.groupby('userID').size() == train_filtered['itemID'].nunique()\n",
    "        train_filtered = train_filtered[train_filtered['userID'].isin(msk[~msk].index)]\n",
    "        \n",
    "        self.dataloader = ImplicitCF(train=train_filtered, test=test, seed=SEED)\n",
    "        # Some experiments will run multiple times, but that's a price to pay for\n",
    "        # usability\n",
    "        self.real_batch_size = min(2**config['batch_size'], self.dataloader.n_users_in_train)\n",
    "\n",
    "        self.hparams = prepare_hparams(\n",
    "            model_type='lightgcn',\n",
    "            n_layers=config['conv_layers'],\n",
    "            batch_size=self.real_batch_size,\n",
    "            embed_size=config['embedding_dim'],\n",
    "            epochs=EPOCHS_PER_ITER,\n",
    "            learning_rate=config['learning_rate'],\n",
    "            decay=config['l2'],\n",
    "            metrics=METRICS,\n",
    "            eval_epoch=-1,\n",
    "            top_k=K_RECOMMENDATIONS[0],\n",
    "            save_model=False,\n",
    "            MODEL_DIR='./data/model/lightgcn/',\n",
    "        )\n",
    "        self.model = LightGCNCustom(self.hparams, self.dataloader, seed=SEED)\n",
    "        self.total_train = 0\n",
    "        self.total_eval = 0\n",
    "\n",
    "    @property\n",
    "    def iteration(self):\n",
    "        return self.model.epochs_done\n",
    "\n",
    "    @property\n",
    "    def training_iteration(self):\n",
    "        return self.model.epochs_done\n",
    "\n",
    "    def step(self):\n",
    "        \"\"\"\n",
    "        As a rule of thumb, the execution time of step should be large enough to avoid overheads \n",
    "        (i.e. more than a few seconds), but short enough to report progress periodically \n",
    "        (i.e. at most a few minutes).\n",
    "        \"\"\"\n",
    "        assert EPOCHS_PER_ITER > 0\n",
    "\n",
    "        with Timer() as t_train:\n",
    "            for _ in range(EPOCHS_PER_ITER):\n",
    "                ret = self.model.fit_epoch()\n",
    "\n",
    "\n",
    "        with Timer() as t_rec:\n",
    "            recs = self.model.recommend_k_items(\n",
    "                self.dataloader.test, # Used only to get user ids\n",
    "                top_k=max(K_RECOMMENDATIONS),\n",
    "                use_id=True,\n",
    "                remove_seen=True,\n",
    "                recommend_from=self.open_proposals,\n",
    "            )\n",
    "        \n",
    "        eval_dict = {'model_'+k:v for k,v in zip(self.model.metrics, self.model.run_eval())}\n",
    "        eval_dict |= calculate_all_metrics(self.dataloader.test, recs, K_RECOMMENDATIONS)\n",
    "\n",
    "        self.total_train += t_train.time\n",
    "        self.total_eval += eval_dict['time_eval']\n",
    "        \n",
    "        return {\n",
    "            'real_batch_size': self.real_batch_size,\n",
    "            'iteration': self.iteration,\n",
    "            'loss': ret[0],\n",
    "            'mf_loss': ret[1],\n",
    "            'emb_loss': ret[2],\n",
    "            **eval_dict,\n",
    "            'time_train': t_train.time,\n",
    "            'time_rec': t_rec.time,\n",
    "            'time_total_train': self.total_train,\n",
    "            'time_total_test': self.total_eval,\n",
    "        }\n",
    "\n",
    "    def save_checkpoint(self, checkpoint_dir):\n",
    "        checkpoint_path = os.path.join(checkpoint_dir, \"model\")\n",
    "        self.model.saver.save(\n",
    "            sess=self.model.sess,\n",
    "            save_path=checkpoint_path,\n",
    "        )\n",
    "        return checkpoint_dir\n",
    "\n",
    "    def load_checkpoint(self, checkpoint_path):\n",
    "        self.model.load(checkpoint_path)"
   ]
  },
  {
   "cell_type": "markdown",
   "id": "d93ef563",
   "metadata": {
    "editable": true,
    "papermill": {
     "duration": 0.002891,
     "end_time": "2024-09-09T08:57:17.488804",
     "exception": false,
     "start_time": "2024-09-09T08:57:17.485913",
     "status": "completed"
    },
    "slideshow": {
     "slide_type": ""
    },
    "tags": []
   },
   "source": [
    "## Big experiment"
   ]
  },
  {
   "cell_type": "code",
   "execution_count": 18,
   "id": "a089618c",
   "metadata": {
    "editable": true,
    "papermill": {
     "duration": 0.022686,
     "end_time": "2024-09-09T08:57:17.514296",
     "exception": false,
     "start_time": "2024-09-09T08:57:17.491610",
     "status": "completed"
    },
    "slideshow": {
     "slide_type": ""
    },
    "tags": []
   },
   "outputs": [
    {
     "data": {
      "text/plain": [
       "PosixPath('/home/daviddavo/ray_results3.11')"
      ]
     },
     "execution_count": 18,
     "metadata": {},
     "output_type": "execute_result"
    }
   ],
   "source": [
    "RAY_RESULTS_PATH"
   ]
  },
  {
   "cell_type": "code",
   "execution_count": 19,
   "id": "f2c29446",
   "metadata": {
    "editable": true,
    "papermill": {
     "duration": 0.022846,
     "end_time": "2024-09-09T08:57:17.539986",
     "exception": false,
     "start_time": "2024-09-09T08:57:17.517140",
     "status": "completed"
    },
    "slideshow": {
     "slide_type": ""
    },
    "tags": []
   },
   "outputs": [
    {
     "name": "stdout",
     "output_type": "stream",
     "text": [
      "lamarck\n",
      "{'cpu': 1, 'gpu': 0.0625}\n"
     ]
    }
   ],
   "source": [
    "print(os.uname().nodename)\n",
    "\n",
    "### SET TRAINING RESOURCES\n",
    "if os.uname().nodename == 'lamarck':\n",
    "    # assert torch.cuda.is_available()\n",
    "\n",
    "    NUM_SAMPLES = SAMPLES_PER_SPLIT\n",
    "    # Every run takes approx half a gig of vram (no optimizations)\n",
    "    # The RTX 4090 has 24GB so we can run the model about 48 times\n",
    "    resources_per_trial={\n",
    "        'cpu': 1,\n",
    "        'gpu': 1 / GPUS,\n",
    "    }\n",
    "else:\n",
    "    NUM_SAMPLES = 1\n",
    "    resources_per_trial={\n",
    "        'cpu': 1,\n",
    "        # It takes about 1.5 GiB with full training data, but I put a bit more because\n",
    "        # this notebook also takes a bit of memory\n",
    "        'memory': 2e9,\n",
    "    }\n",
    "print(resources_per_trial)"
   ]
  },
  {
   "cell_type": "code",
   "execution_count": 20,
   "id": "6e87e037",
   "metadata": {
    "editable": true,
    "papermill": {
     "duration": 0.095657,
     "end_time": "2024-09-09T08:57:17.638569",
     "exception": false,
     "start_time": "2024-09-09T08:57:17.542912",
     "status": "completed"
    },
    "slideshow": {
     "slide_type": ""
    },
    "tags": []
   },
   "outputs": [],
   "source": [
    "from ray.tune.search.hyperopt import HyperOptSearch"
   ]
  },
  {
   "cell_type": "code",
   "execution_count": 21,
   "id": "f9db94e5",
   "metadata": {
    "editable": true,
    "papermill": {
     "duration": 0.029124,
     "end_time": "2024-09-09T08:57:17.671139",
     "exception": false,
     "start_time": "2024-09-09T08:57:17.642015",
     "status": "completed"
    },
    "slideshow": {
     "slide_type": ""
    },
    "tags": []
   },
   "outputs": [],
   "source": [
    "def getTunerOnFold(f_idx, points_to_evaluate = None):    \n",
    "    name = paths.lightgcn_ray_tune_fname(ORG_NAME, SPLITS_FREQ, SPLITS_NORMALIZE, OPTIM_METRIC, fold=f_idx)\n",
    "    experiments = list(RAY_RESULTS_PATH.glob(f'{name}_*'))\n",
    "    last_experiment = max(experiments, key=lambda x: x.stat().st_ctime) if experiments else None\n",
    "    f = folds_dict[f_idx]\n",
    "\n",
    "    dftrain,dftest,t,open_proposals = folds_dict[f_idx]\n",
    "    param_space = dict(\n",
    "        batch_size=tune.randint(MIN_BATCH_SIZE, MAX_BATCH_SIZE+1), # 64 - 2**MAX_BATCH_SIZE\n",
    "        embedding_dim=tune.lograndint(1, MAX_EMBEDDING_DIM, base=2),\n",
    "        conv_layers=tune.randint(1,5),\n",
    "        learning_rate=tune.qloguniform(MIN_LR, 1, 1e-4),\n",
    "        l2=tune.loguniform(1e-7, 1e-2, 1e-7),\n",
    "        window_size=tune.choice(WINDOW_SIZES),\n",
    "        # Just so it appears on the output\n",
    "        fold=f_idx,\n",
    "    )\n",
    "    \n",
    "    ### RESTORE EXPERIMENT OR CREATE A NEW ONE\n",
    "    if last_experiment and tune.Tuner.can_restore(last_experiment):\n",
    "        print(f\"Restoring last experiment: {last_experiment}\")\n",
    "        tuner = tune.Tuner.restore(\n",
    "            str(last_experiment),\n",
    "            trainable=tune.with_resources(\n",
    "                # tune.with_parameters(TrainLightGCN,  train=dftrain, test=dftest, open_proposals=open_proposals),\n",
    "                tune.with_parameters(TrainLightGCN, data=f),\n",
    "                resources_per_trial,\n",
    "            ),\n",
    "            restart_errored=True,\n",
    "            param_space=param_space,\n",
    "        )\n",
    "    else:\n",
    "        print(f\"No experiment found for fold {f_idx}, creating new tuner with {NUM_SAMPLES} samples\")\n",
    "        search_alg = None\n",
    "        \n",
    "        search_alg = HyperOptSearch(\n",
    "            points_to_evaluate = points_to_evaluate,\n",
    "            random_state_seed=SEED,\n",
    "        )\n",
    "        # search_alg = tune.search.Repeater(search_alg, N_SPLITS-SKIP_SPLIT)\n",
    "        \n",
    "        tuner = tune.Tuner(\n",
    "            tune.with_resources(\n",
    "                # tune.with_parameters(TrainLightGCN,  train=dftrain, test=dftest, open_proposals=open_proposals),\n",
    "                tune.with_parameters(TrainLightGCN, data=folds_dict[f_idx]),\n",
    "                resources_per_trial,\n",
    "            ),\n",
    "            run_config=train.RunConfig(\n",
    "                stop={'training_iteration': MAX_EPOCHS/EPOCHS_PER_ITER, 'time_total_train': MAX_TIME_TOTAL_TRAIN},\n",
    "                name=name + f'_{dt.datetime.now().isoformat()}',\n",
    "                storage_path=RAY_RESULTS_PATH,\n",
    "                # failure_config=train.FailureConfig(fail_fast='raise'),\n",
    "                failure_config=train.FailureConfig(max_failures=3),\n",
    "            ),\n",
    "            param_space=param_space,\n",
    "            tune_config=tune.TuneConfig(\n",
    "                search_alg=search_alg,\n",
    "                num_samples=NUM_SAMPLES,\n",
    "                metric=OPTIM_METRIC,\n",
    "                mode='max',\n",
    "            )\n",
    "        )\n",
    "\n",
    "    return tuner"
   ]
  },
  {
   "cell_type": "code",
   "execution_count": 22,
   "id": "afa19a57",
   "metadata": {
    "editable": true,
    "papermill": {
     "duration": 36.489393,
     "end_time": "2024-09-09T08:57:54.163670",
     "exception": false,
     "start_time": "2024-09-09T08:57:17.674277",
     "status": "completed"
    },
    "slideshow": {
     "slide_type": ""
    },
    "tags": []
   },
   "outputs": [
    {
     "data": {
      "application/vnd.jupyter.widget-view+json": {
       "model_id": "73af4a7ed17a47d29700a3f57fb5a170",
       "version_major": 2,
       "version_minor": 0
      },
      "text/plain": [
       "fold:   0%|          | 0/10 [00:00<?, ?it/s]"
      ]
     },
     "metadata": {},
     "output_type": "display_data"
    },
    {
     "data": {
      "application/vnd.jupyter.widget-view+json": {
       "model_id": "e1deedf0ae184eca9c3139961e8ffc43",
       "version_major": 2,
       "version_minor": 0
      },
      "text/plain": [
       "Output(layout=Layout(border_bottom='1px solid black', border_left='1px solid black', border_right='1px solid b…"
      ]
     },
     "execution_count": 22,
     "metadata": {},
     "output_type": "execute_result"
    }
   ],
   "source": [
    "# We need to display the progress bar in another cell because ray tune \"overwrites\" the previous output\n",
    "pbar = tqdm(total=len(use_folds_idx), desc='fold')\n",
    "out = widgets.Output(layout={'border': '1px solid black'})\n",
    "with out:\n",
    "    print(\"In this cell important output from the next cell will be shown\")\n",
    "out"
   ]
  },
  {
   "cell_type": "code",
   "execution_count": 23,
   "id": "a6a8300c",
   "metadata": {
    "editable": true,
    "papermill": {
     "duration": null,
     "end_time": null,
     "exception": null,
     "start_time": null,
     "status": "completed"
    },
    "slideshow": {
     "slide_type": ""
    },
    "tags": []
   },
   "outputs": [
    {
     "data": {
      "text/html": [
       "<div class=\"tuneStatus\">\n",
       "  <div style=\"display: flex;flex-direction: row\">\n",
       "    <div style=\"display: flex;flex-direction: column;\">\n",
       "      <h3>Tune Status</h3>\n",
       "      <table>\n",
       "<tbody>\n",
       "<tr><td>Current time:</td><td>2024-09-09 10:18:20</td></tr>\n",
       "<tr><td>Running for: </td><td>00:00:00.37        </td></tr>\n",
       "<tr><td>Memory:      </td><td>13.3/125.6 GiB     </td></tr>\n",
       "</tbody>\n",
       "</table>\n",
       "    </div>\n",
       "    <div class=\"vDivider\"></div>\n",
       "    <div class=\"systemInfo\">\n",
       "      <h3>System Info</h3>\n",
       "      Using FIFO scheduling algorithm.<br>Logical resource usage: 0/24 CPUs, 0/1 GPUs (0.0/1.0 accelerator_type:G)\n",
       "    </div>\n",
       "    \n",
       "  </div>\n",
       "  <div class=\"hDivider\"></div>\n",
       "  <div class=\"trialStatus\">\n",
       "    <h3>Trial Status</h3>\n",
       "    <table>\n",
       "<thead>\n",
       "<tr><th>Trial name            </th><th>status    </th><th>loc                 </th><th style=\"text-align: right;\">  batch_size</th><th style=\"text-align: right;\">  conv_layers</th><th style=\"text-align: right;\">  embedding_dim</th><th>fold               </th><th style=\"text-align: right;\">         l2</th><th style=\"text-align: right;\">  learning_rate</th><th>window_size  </th><th style=\"text-align: right;\">  iter</th><th style=\"text-align: right;\">  total time (s)</th><th style=\"text-align: right;\">  real_batch_size</th><th style=\"text-align: right;\">  iteration</th><th style=\"text-align: right;\">       loss</th></tr>\n",
       "</thead>\n",
       "<tbody>\n",
       "<tr><td>TrainLightGCN_3d6f6276</td><td>TERMINATED</td><td>147.96.81.131:637794</td><td style=\"text-align: right;\">           4</td><td style=\"text-align: right;\">            2</td><td style=\"text-align: right;\">              8</td><td>2023-07-14T00:00:00</td><td style=\"text-align: right;\">3.34763e-06</td><td style=\"text-align: right;\">         0.0006</td><td>10YE         </td><td style=\"text-align: right;\">    40</td><td style=\"text-align: right;\">       104.848  </td><td style=\"text-align: right;\">               16</td><td style=\"text-align: right;\">        200</td><td style=\"text-align: right;\">0.0248967  </td></tr>\n",
       "<tr><td>TrainLightGCN_4adf5934</td><td>TERMINATED</td><td>147.96.81.131:638385</td><td style=\"text-align: right;\">           5</td><td style=\"text-align: right;\">            3</td><td style=\"text-align: right;\">            889</td><td>2023-07-14T00:00:00</td><td style=\"text-align: right;\">1.12482e-07</td><td style=\"text-align: right;\">         0.0004</td><td>60d          </td><td style=\"text-align: right;\">    40</td><td style=\"text-align: right;\">        10.8688 </td><td style=\"text-align: right;\">               32</td><td style=\"text-align: right;\">        200</td><td style=\"text-align: right;\">0.00800703 </td></tr>\n",
       "<tr><td>TrainLightGCN_ef2ebbe5</td><td>TERMINATED</td><td>147.96.81.131:638241</td><td style=\"text-align: right;\">           6</td><td style=\"text-align: right;\">            3</td><td style=\"text-align: right;\">              7</td><td>2023-07-14T00:00:00</td><td style=\"text-align: right;\">0.00296307 </td><td style=\"text-align: right;\">         0.0003</td><td>30d          </td><td style=\"text-align: right;\">    40</td><td style=\"text-align: right;\">         8.75697</td><td style=\"text-align: right;\">               35</td><td style=\"text-align: right;\">        200</td><td style=\"text-align: right;\">0.377532   </td></tr>\n",
       "<tr><td>TrainLightGCN_cdf24482</td><td>TERMINATED</td><td>147.96.81.131:638091</td><td style=\"text-align: right;\">           4</td><td style=\"text-align: right;\">            2</td><td style=\"text-align: right;\">             23</td><td>2023-07-14T00:00:00</td><td style=\"text-align: right;\">4.09454e-05</td><td style=\"text-align: right;\">         0.0014</td><td>30d          </td><td style=\"text-align: right;\">    40</td><td style=\"text-align: right;\">        11.3543 </td><td style=\"text-align: right;\">               16</td><td style=\"text-align: right;\">        200</td><td style=\"text-align: right;\">0.0104041  </td></tr>\n",
       "<tr><td>TrainLightGCN_8ba43b14</td><td>TERMINATED</td><td>147.96.81.131:637944</td><td style=\"text-align: right;\">           6</td><td style=\"text-align: right;\">            4</td><td style=\"text-align: right;\">             39</td><td>2023-07-14T00:00:00</td><td style=\"text-align: right;\">2.35337e-05</td><td style=\"text-align: right;\">         0.0002</td><td>30d          </td><td style=\"text-align: right;\">    40</td><td style=\"text-align: right;\">         8.41334</td><td style=\"text-align: right;\">               35</td><td style=\"text-align: right;\">        200</td><td style=\"text-align: right;\">0.224368   </td></tr>\n",
       "<tr><td>TrainLightGCN_41351ea6</td><td>TERMINATED</td><td>147.96.81.131:637647</td><td style=\"text-align: right;\">           5</td><td style=\"text-align: right;\">            2</td><td style=\"text-align: right;\">             14</td><td>2023-07-14T00:00:00</td><td style=\"text-align: right;\">0.000338071</td><td style=\"text-align: right;\">         0.0001</td><td>30d          </td><td style=\"text-align: right;\">    40</td><td style=\"text-align: right;\">         8.84882</td><td style=\"text-align: right;\">               32</td><td style=\"text-align: right;\">        200</td><td style=\"text-align: right;\">0.534296   </td></tr>\n",
       "<tr><td>TrainLightGCN_2716e837</td><td>TERMINATED</td><td>147.96.81.131:637475</td><td style=\"text-align: right;\">           6</td><td style=\"text-align: right;\">            1</td><td style=\"text-align: right;\">            123</td><td>2023-07-14T00:00:00</td><td style=\"text-align: right;\">6.22142e-06</td><td style=\"text-align: right;\">         0.0005</td><td>30d          </td><td style=\"text-align: right;\">    40</td><td style=\"text-align: right;\">         8.57233</td><td style=\"text-align: right;\">               35</td><td style=\"text-align: right;\">        200</td><td style=\"text-align: right;\">0.0141833  </td></tr>\n",
       "<tr><td>TrainLightGCN_c738f8fa</td><td>TERMINATED</td><td>147.96.81.131:637328</td><td style=\"text-align: right;\">           5</td><td style=\"text-align: right;\">            2</td><td style=\"text-align: right;\">             23</td><td>2023-07-14T00:00:00</td><td style=\"text-align: right;\">1.15184e-06</td><td style=\"text-align: right;\">         0.001 </td><td>30d          </td><td style=\"text-align: right;\">    40</td><td style=\"text-align: right;\">         8.45807</td><td style=\"text-align: right;\">               32</td><td style=\"text-align: right;\">        200</td><td style=\"text-align: right;\">0.0389178  </td></tr>\n",
       "<tr><td>TrainLightGCN_dcdf834c</td><td>TERMINATED</td><td>147.96.81.131:637173</td><td style=\"text-align: right;\">           4</td><td style=\"text-align: right;\">            1</td><td style=\"text-align: right;\">             61</td><td>2023-07-14T00:00:00</td><td style=\"text-align: right;\">0.00547072 </td><td style=\"text-align: right;\">         0.0001</td><td>30d          </td><td style=\"text-align: right;\">    40</td><td style=\"text-align: right;\">        10.2154 </td><td style=\"text-align: right;\">               16</td><td style=\"text-align: right;\">        200</td><td style=\"text-align: right;\">0.22172    </td></tr>\n",
       "<tr><td>TrainLightGCN_3d29285c</td><td>TERMINATED</td><td>147.96.81.131:637023</td><td style=\"text-align: right;\">           5</td><td style=\"text-align: right;\">            1</td><td style=\"text-align: right;\">             92</td><td>2023-07-14T00:00:00</td><td style=\"text-align: right;\">4.92097e-07</td><td style=\"text-align: right;\">         0.0008</td><td>30d          </td><td style=\"text-align: right;\">    40</td><td style=\"text-align: right;\">         7.9322 </td><td style=\"text-align: right;\">               32</td><td style=\"text-align: right;\">        200</td><td style=\"text-align: right;\">0.0104401  </td></tr>\n",
       "<tr><td>TrainLightGCN_1cde9937</td><td>TERMINATED</td><td>147.96.81.131:636870</td><td style=\"text-align: right;\">           4</td><td style=\"text-align: right;\">            1</td><td style=\"text-align: right;\">             29</td><td>2023-07-14T00:00:00</td><td style=\"text-align: right;\">1.54137e-07</td><td style=\"text-align: right;\">         0.0002</td><td>30d          </td><td style=\"text-align: right;\">    40</td><td style=\"text-align: right;\">         9.4697 </td><td style=\"text-align: right;\">               16</td><td style=\"text-align: right;\">        200</td><td style=\"text-align: right;\">0.111481   </td></tr>\n",
       "<tr><td>TrainLightGCN_d80a0adc</td><td>TERMINATED</td><td>147.96.81.131:636721</td><td style=\"text-align: right;\">           4</td><td style=\"text-align: right;\">            1</td><td style=\"text-align: right;\">            445</td><td>2023-07-14T00:00:00</td><td style=\"text-align: right;\">2.34972e-06</td><td style=\"text-align: right;\">         0.0005</td><td>30d          </td><td style=\"text-align: right;\">    40</td><td style=\"text-align: right;\">         9.54   </td><td style=\"text-align: right;\">               16</td><td style=\"text-align: right;\">        200</td><td style=\"text-align: right;\">0.00167162 </td></tr>\n",
       "<tr><td>TrainLightGCN_8ae09f82</td><td>TERMINATED</td><td>147.96.81.131:636573</td><td style=\"text-align: right;\">           4</td><td style=\"text-align: right;\">            2</td><td style=\"text-align: right;\">             80</td><td>2023-07-14T00:00:00</td><td style=\"text-align: right;\">4.27019e-06</td><td style=\"text-align: right;\">         0.0005</td><td>30d          </td><td style=\"text-align: right;\">    40</td><td style=\"text-align: right;\">         9.62716</td><td style=\"text-align: right;\">               16</td><td style=\"text-align: right;\">        200</td><td style=\"text-align: right;\">0.0138176  </td></tr>\n",
       "<tr><td>TrainLightGCN_e6e55d8f</td><td>TERMINATED</td><td>147.96.81.131:636423</td><td style=\"text-align: right;\">           5</td><td style=\"text-align: right;\">            1</td><td style=\"text-align: right;\">             52</td><td>2023-07-14T00:00:00</td><td style=\"text-align: right;\">1.7499e-06 </td><td style=\"text-align: right;\">         0.0003</td><td>30d          </td><td style=\"text-align: right;\">    40</td><td style=\"text-align: right;\">         7.62048</td><td style=\"text-align: right;\">               32</td><td style=\"text-align: right;\">        200</td><td style=\"text-align: right;\">0.0641022  </td></tr>\n",
       "<tr><td>TrainLightGCN_354405db</td><td>TERMINATED</td><td>147.96.81.131:636268</td><td style=\"text-align: right;\">           8</td><td style=\"text-align: right;\">            3</td><td style=\"text-align: right;\">              3</td><td>2023-07-14T00:00:00</td><td style=\"text-align: right;\">0.00221654 </td><td style=\"text-align: right;\">         0.0001</td><td>90d          </td><td style=\"text-align: right;\">    40</td><td style=\"text-align: right;\">         8.43157</td><td style=\"text-align: right;\">               86</td><td style=\"text-align: right;\">        200</td><td style=\"text-align: right;\">0.658222   </td></tr>\n",
       "<tr><td>TrainLightGCN_d82e6838</td><td>TERMINATED</td><td>147.96.81.131:636127</td><td style=\"text-align: right;\">           8</td><td style=\"text-align: right;\">            4</td><td style=\"text-align: right;\">             39</td><td>2023-07-14T00:00:00</td><td style=\"text-align: right;\">0.00101073 </td><td style=\"text-align: right;\">         0.0045</td><td>21d          </td><td style=\"text-align: right;\">    40</td><td style=\"text-align: right;\">         7.11845</td><td style=\"text-align: right;\">               27</td><td style=\"text-align: right;\">        200</td><td style=\"text-align: right;\">0.027259   </td></tr>\n",
       "<tr><td>TrainLightGCN_d182f2fd</td><td>TERMINATED</td><td>147.96.81.131:635979</td><td style=\"text-align: right;\">           6</td><td style=\"text-align: right;\">            3</td><td style=\"text-align: right;\">              4</td><td>2023-07-14T00:00:00</td><td style=\"text-align: right;\">0.00773614 </td><td style=\"text-align: right;\">         0.0109</td><td>60d          </td><td style=\"text-align: right;\">    40</td><td style=\"text-align: right;\">         7.80108</td><td style=\"text-align: right;\">               58</td><td style=\"text-align: right;\">        200</td><td style=\"text-align: right;\">0.149195   </td></tr>\n",
       "<tr><td>TrainLightGCN_21ba8aeb</td><td>TERMINATED</td><td>147.96.81.131:635831</td><td style=\"text-align: right;\">           4</td><td style=\"text-align: right;\">            1</td><td style=\"text-align: right;\">             53</td><td>2023-07-14T00:00:00</td><td style=\"text-align: right;\">4.10481e-06</td><td style=\"text-align: right;\">         0.0005</td><td>30d          </td><td style=\"text-align: right;\">    40</td><td style=\"text-align: right;\">         9.36556</td><td style=\"text-align: right;\">               16</td><td style=\"text-align: right;\">        200</td><td style=\"text-align: right;\">0.0159749  </td></tr>\n",
       "<tr><td>TrainLightGCN_beedca45</td><td>TERMINATED</td><td>147.96.81.131:635680</td><td style=\"text-align: right;\">          10</td><td style=\"text-align: right;\">            4</td><td style=\"text-align: right;\">             20</td><td>2023-07-14T00:00:00</td><td style=\"text-align: right;\">1.65879e-05</td><td style=\"text-align: right;\">         0.0002</td><td>10YE         </td><td style=\"text-align: right;\">    40</td><td style=\"text-align: right;\">        11.2565 </td><td style=\"text-align: right;\">              678</td><td style=\"text-align: right;\">        200</td><td style=\"text-align: right;\">0.174105   </td></tr>\n",
       "<tr><td>TrainLightGCN_6e535135</td><td>TERMINATED</td><td>147.96.81.131:635533</td><td style=\"text-align: right;\">           7</td><td style=\"text-align: right;\">            2</td><td style=\"text-align: right;\">             11</td><td>2023-07-14T00:00:00</td><td style=\"text-align: right;\">0.000122088</td><td style=\"text-align: right;\">         0.0057</td><td>21d          </td><td style=\"text-align: right;\">    40</td><td style=\"text-align: right;\">         6.94958</td><td style=\"text-align: right;\">               27</td><td style=\"text-align: right;\">        200</td><td style=\"text-align: right;\">0.0063287  </td></tr>\n",
       "<tr><td>TrainLightGCN_dc93ed5d</td><td>TERMINATED</td><td>147.96.81.131:635384</td><td style=\"text-align: right;\">           9</td><td style=\"text-align: right;\">            3</td><td style=\"text-align: right;\">            604</td><td>2023-07-14T00:00:00</td><td style=\"text-align: right;\">6.79009e-07</td><td style=\"text-align: right;\">         0.0188</td><td>30d          </td><td style=\"text-align: right;\">    40</td><td style=\"text-align: right;\">         7.61173</td><td style=\"text-align: right;\">               35</td><td style=\"text-align: right;\">        200</td><td style=\"text-align: right;\">8.15163e-05</td></tr>\n",
       "<tr><td>TrainLightGCN_b15ff3f4</td><td>TERMINATED</td><td>147.96.81.131:635234</td><td style=\"text-align: right;\">           7</td><td style=\"text-align: right;\">            3</td><td style=\"text-align: right;\">            182</td><td>2023-07-14T00:00:00</td><td style=\"text-align: right;\">2.82352e-07</td><td style=\"text-align: right;\">         0.0027</td><td>21d          </td><td style=\"text-align: right;\">    40</td><td style=\"text-align: right;\">         7.05679</td><td style=\"text-align: right;\">               27</td><td style=\"text-align: right;\">        200</td><td style=\"text-align: right;\">0.00123347 </td></tr>\n",
       "<tr><td>TrainLightGCN_7de95877</td><td>TERMINATED</td><td>147.96.81.131:635077</td><td style=\"text-align: right;\">           8</td><td style=\"text-align: right;\">            4</td><td style=\"text-align: right;\">              5</td><td>2023-07-14T00:00:00</td><td style=\"text-align: right;\">5.93773e-05</td><td style=\"text-align: right;\">         0.0001</td><td>90d          </td><td style=\"text-align: right;\">    40</td><td style=\"text-align: right;\">         8.31517</td><td style=\"text-align: right;\">               86</td><td style=\"text-align: right;\">        200</td><td style=\"text-align: right;\">0.655411   </td></tr>\n",
       "<tr><td>TrainLightGCN_4fb52ef6</td><td>TERMINATED</td><td>147.96.81.131:634929</td><td style=\"text-align: right;\">           6</td><td style=\"text-align: right;\">            2</td><td style=\"text-align: right;\">             31</td><td>2023-07-14T00:00:00</td><td style=\"text-align: right;\">1.13606e-06</td><td style=\"text-align: right;\">         0.0019</td><td>60d          </td><td style=\"text-align: right;\">    40</td><td style=\"text-align: right;\">         7.59469</td><td style=\"text-align: right;\">               58</td><td style=\"text-align: right;\">        200</td><td style=\"text-align: right;\">0.00793012 </td></tr>\n",
       "<tr><td>TrainLightGCN_5efd2819</td><td>TERMINATED</td><td>147.96.81.131:634786</td><td style=\"text-align: right;\">           9</td><td style=\"text-align: right;\">            3</td><td style=\"text-align: right;\">              1</td><td>2023-07-14T00:00:00</td><td style=\"text-align: right;\">7.01853e-06</td><td style=\"text-align: right;\">         0.0014</td><td>30d          </td><td style=\"text-align: right;\">    40</td><td style=\"text-align: right;\">         7.39561</td><td style=\"text-align: right;\">               35</td><td style=\"text-align: right;\">        200</td><td style=\"text-align: right;\">0.291472   </td></tr>\n",
       "<tr><td>TrainLightGCN_a273ce4f</td><td>TERMINATED</td><td>147.96.81.131:634254</td><td style=\"text-align: right;\">           8</td><td style=\"text-align: right;\">            3</td><td style=\"text-align: right;\">             16</td><td>2023-07-14T00:00:00</td><td style=\"text-align: right;\">8.62018e-05</td><td style=\"text-align: right;\">         0.0011</td><td>10YE         </td><td style=\"text-align: right;\">    40</td><td style=\"text-align: right;\">        14.8355 </td><td style=\"text-align: right;\">              256</td><td style=\"text-align: right;\">        200</td><td style=\"text-align: right;\">0.0513791  </td></tr>\n",
       "<tr><td>TrainLightGCN_73759536</td><td>TERMINATED</td><td>147.96.81.131:634635</td><td style=\"text-align: right;\">          10</td><td style=\"text-align: right;\">            3</td><td style=\"text-align: right;\">             73</td><td>2023-07-14T00:00:00</td><td style=\"text-align: right;\">0.000593263</td><td style=\"text-align: right;\">         0.0004</td><td>21d          </td><td style=\"text-align: right;\">    40</td><td style=\"text-align: right;\">         7.26431</td><td style=\"text-align: right;\">               27</td><td style=\"text-align: right;\">        200</td><td style=\"text-align: right;\">0.0705058  </td></tr>\n",
       "<tr><td>TrainLightGCN_95f4a22b</td><td>TERMINATED</td><td>147.96.81.131:634474</td><td style=\"text-align: right;\">           7</td><td style=\"text-align: right;\">            4</td><td style=\"text-align: right;\">              2</td><td>2023-07-14T00:00:00</td><td style=\"text-align: right;\">0.000472816</td><td style=\"text-align: right;\">         0.0008</td><td>30d          </td><td style=\"text-align: right;\">    40</td><td style=\"text-align: right;\">         7.83289</td><td style=\"text-align: right;\">               35</td><td style=\"text-align: right;\">        200</td><td style=\"text-align: right;\">0.311696   </td></tr>\n",
       "<tr><td>TrainLightGCN_2c121b21</td><td>TERMINATED</td><td>147.96.81.131:634108</td><td style=\"text-align: right;\">           8</td><td style=\"text-align: right;\">            4</td><td style=\"text-align: right;\">             46</td><td>2023-07-14T00:00:00</td><td style=\"text-align: right;\">2.73082e-05</td><td style=\"text-align: right;\">         0.0038</td><td>60d          </td><td style=\"text-align: right;\">    40</td><td style=\"text-align: right;\">         7.78686</td><td style=\"text-align: right;\">               58</td><td style=\"text-align: right;\">        200</td><td style=\"text-align: right;\">0.00734789 </td></tr>\n",
       "<tr><td>TrainLightGCN_83a41437</td><td>TERMINATED</td><td>147.96.81.131:633950</td><td style=\"text-align: right;\">           9</td><td style=\"text-align: right;\">            3</td><td style=\"text-align: right;\">              9</td><td>2023-07-14T00:00:00</td><td style=\"text-align: right;\">0.000278363</td><td style=\"text-align: right;\">         0.0073</td><td>21d          </td><td style=\"text-align: right;\">    40</td><td style=\"text-align: right;\">         7.18795</td><td style=\"text-align: right;\">               27</td><td style=\"text-align: right;\">        200</td><td style=\"text-align: right;\">0.0106535  </td></tr>\n",
       "<tr><td>TrainLightGCN_e16c4ee1</td><td>TERMINATED</td><td>147.96.81.131:633791</td><td style=\"text-align: right;\">           9</td><td style=\"text-align: right;\">            3</td><td style=\"text-align: right;\">              3</td><td>2023-07-14T00:00:00</td><td style=\"text-align: right;\">8.24656e-06</td><td style=\"text-align: right;\">         0.0155</td><td>90d          </td><td style=\"text-align: right;\">    40</td><td style=\"text-align: right;\">         8.66607</td><td style=\"text-align: right;\">               86</td><td style=\"text-align: right;\">        200</td><td style=\"text-align: right;\">0.1152     </td></tr>\n",
       "<tr><td>TrainLightGCN_31a07954</td><td>TERMINATED</td><td>147.96.81.131:633629</td><td style=\"text-align: right;\">          10</td><td style=\"text-align: right;\">            3</td><td style=\"text-align: right;\">            107</td><td>2023-07-14T00:00:00</td><td style=\"text-align: right;\">3.73652e-06</td><td style=\"text-align: right;\">         0.003 </td><td>30d          </td><td style=\"text-align: right;\">    40</td><td style=\"text-align: right;\">         7.782  </td><td style=\"text-align: right;\">               35</td><td style=\"text-align: right;\">        200</td><td style=\"text-align: right;\">0.00250481 </td></tr>\n",
       "<tr><td>TrainLightGCN_62305154</td><td>TERMINATED</td><td>147.96.81.131:630937</td><td style=\"text-align: right;\">           5</td><td style=\"text-align: right;\">            3</td><td style=\"text-align: right;\">              2</td><td>2023-07-14T00:00:00</td><td style=\"text-align: right;\">2.82691e-06</td><td style=\"text-align: right;\">         0.0001</td><td>10YE         </td><td style=\"text-align: right;\">    40</td><td style=\"text-align: right;\">        71.0063 </td><td style=\"text-align: right;\">               32</td><td style=\"text-align: right;\">        200</td><td style=\"text-align: right;\">0.174971   </td></tr>\n",
       "<tr><td>TrainLightGCN_29751eb6</td><td>TERMINATED</td><td>147.96.81.131:633476</td><td style=\"text-align: right;\">           8</td><td style=\"text-align: right;\">            3</td><td style=\"text-align: right;\">              5</td><td>2023-07-14T00:00:00</td><td style=\"text-align: right;\">1.17861e-05</td><td style=\"text-align: right;\">         0.0124</td><td>30d          </td><td style=\"text-align: right;\">    40</td><td style=\"text-align: right;\">         7.70821</td><td style=\"text-align: right;\">               35</td><td style=\"text-align: right;\">        200</td><td style=\"text-align: right;\">0.00854419 </td></tr>\n",
       "<tr><td>TrainLightGCN_369d775e</td><td>TERMINATED</td><td>147.96.81.131:633325</td><td style=\"text-align: right;\">           8</td><td style=\"text-align: right;\">            3</td><td style=\"text-align: right;\">              2</td><td>2023-07-14T00:00:00</td><td style=\"text-align: right;\">1.52535e-05</td><td style=\"text-align: right;\">         0.0046</td><td>30d          </td><td style=\"text-align: right;\">    40</td><td style=\"text-align: right;\">         7.81318</td><td style=\"text-align: right;\">               35</td><td style=\"text-align: right;\">        200</td><td style=\"text-align: right;\">0.0935727  </td></tr>\n",
       "<tr><td>TrainLightGCN_6ab1000b</td><td>TERMINATED</td><td>147.96.81.131:633177</td><td style=\"text-align: right;\">           9</td><td style=\"text-align: right;\">            3</td><td style=\"text-align: right;\">              7</td><td>2023-07-14T00:00:00</td><td style=\"text-align: right;\">0.000134509</td><td style=\"text-align: right;\">         0.0085</td><td>30d          </td><td style=\"text-align: right;\">    40</td><td style=\"text-align: right;\">         7.70859</td><td style=\"text-align: right;\">               35</td><td style=\"text-align: right;\">        200</td><td style=\"text-align: right;\">0.0123696  </td></tr>\n",
       "<tr><td>TrainLightGCN_aa64a111</td><td>TERMINATED</td><td>147.96.81.131:633022</td><td style=\"text-align: right;\">           5</td><td style=\"text-align: right;\">            3</td><td style=\"text-align: right;\">             27</td><td>2023-07-14T00:00:00</td><td style=\"text-align: right;\">0.00238593 </td><td style=\"text-align: right;\">         0.0003</td><td>30d          </td><td style=\"text-align: right;\">    40</td><td style=\"text-align: right;\">         8.17156</td><td style=\"text-align: right;\">               32</td><td style=\"text-align: right;\">        200</td><td style=\"text-align: right;\">0.158061   </td></tr>\n",
       "<tr><td>TrainLightGCN_41957aab</td><td>TERMINATED</td><td>147.96.81.131:632873</td><td style=\"text-align: right;\">          10</td><td style=\"text-align: right;\">            3</td><td style=\"text-align: right;\">             13</td><td>2023-07-14T00:00:00</td><td style=\"text-align: right;\">0.00998146 </td><td style=\"text-align: right;\">         0.0022</td><td>30d          </td><td style=\"text-align: right;\">    40</td><td style=\"text-align: right;\">         7.83863</td><td style=\"text-align: right;\">               35</td><td style=\"text-align: right;\">        200</td><td style=\"text-align: right;\">0.150179   </td></tr>\n",
       "<tr><td>TrainLightGCN_414c69ac</td><td>TERMINATED</td><td>147.96.81.131:632720</td><td style=\"text-align: right;\">          10</td><td style=\"text-align: right;\">            4</td><td style=\"text-align: right;\">             20</td><td>2023-07-14T00:00:00</td><td style=\"text-align: right;\">0.00116841 </td><td style=\"text-align: right;\">         0.0002</td><td>30d          </td><td style=\"text-align: right;\">    40</td><td style=\"text-align: right;\">         8.43422</td><td style=\"text-align: right;\">               35</td><td style=\"text-align: right;\">        200</td><td style=\"text-align: right;\">0.324888   </td></tr>\n",
       "<tr><td>TrainLightGCN_8abe6f9c</td><td>TERMINATED</td><td>147.96.81.131:632576</td><td style=\"text-align: right;\">           9</td><td style=\"text-align: right;\">            3</td><td style=\"text-align: right;\">             10</td><td>2023-07-14T00:00:00</td><td style=\"text-align: right;\">0.00483979 </td><td style=\"text-align: right;\">         0.0016</td><td>30d          </td><td style=\"text-align: right;\">    40</td><td style=\"text-align: right;\">         9.23558</td><td style=\"text-align: right;\">               35</td><td style=\"text-align: right;\">        200</td><td style=\"text-align: right;\">0.108364   </td></tr>\n",
       "<tr><td>TrainLightGCN_c0a29172</td><td>TERMINATED</td><td>147.96.81.131:629899</td><td style=\"text-align: right;\">           5</td><td style=\"text-align: right;\">            4</td><td style=\"text-align: right;\">              3</td><td>2023-07-14T00:00:00</td><td style=\"text-align: right;\">0.000297104</td><td style=\"text-align: right;\">         0.0352</td><td>10YE         </td><td style=\"text-align: right;\">    40</td><td style=\"text-align: right;\">        71.4182 </td><td style=\"text-align: right;\">               32</td><td style=\"text-align: right;\">        200</td><td style=\"text-align: right;\">0.06788    </td></tr>\n",
       "<tr><td>TrainLightGCN_4b24a72d</td><td>TERMINATED</td><td>147.96.81.131:632429</td><td style=\"text-align: right;\">           7</td><td style=\"text-align: right;\">            2</td><td style=\"text-align: right;\">            285</td><td>2023-07-14T00:00:00</td><td style=\"text-align: right;\">1.97082e-06</td><td style=\"text-align: right;\">         0.0008</td><td>30d          </td><td style=\"text-align: right;\">    40</td><td style=\"text-align: right;\">         9.11271</td><td style=\"text-align: right;\">               35</td><td style=\"text-align: right;\">        200</td><td style=\"text-align: right;\">0.00568296 </td></tr>\n",
       "<tr><td>TrainLightGCN_d1183e08</td><td>TERMINATED</td><td>147.96.81.131:632129</td><td style=\"text-align: right;\">           9</td><td style=\"text-align: right;\">            4</td><td style=\"text-align: right;\">             16</td><td>2023-07-14T00:00:00</td><td style=\"text-align: right;\">3.70865e-05</td><td style=\"text-align: right;\">         0.8553</td><td>10YE         </td><td style=\"text-align: right;\">    40</td><td style=\"text-align: right;\">        14.0548 </td><td style=\"text-align: right;\">              512</td><td style=\"text-align: right;\">        200</td><td style=\"text-align: right;\">0.788446   </td></tr>\n",
       "<tr><td>TrainLightGCN_5493c925</td><td>TERMINATED</td><td>147.96.81.131:632278</td><td style=\"text-align: right;\">           6</td><td style=\"text-align: right;\">            2</td><td style=\"text-align: right;\">              4</td><td>2023-07-14T00:00:00</td><td style=\"text-align: right;\">6.5687e-05 </td><td style=\"text-align: right;\">         0.1091</td><td>21d          </td><td style=\"text-align: right;\">    40</td><td style=\"text-align: right;\">         8.46125</td><td style=\"text-align: right;\">               27</td><td style=\"text-align: right;\">        200</td><td style=\"text-align: right;\">0.00219722 </td></tr>\n",
       "<tr><td>TrainLightGCN_54b70679</td><td>TERMINATED</td><td>147.96.81.131:631978</td><td style=\"text-align: right;\">           9</td><td style=\"text-align: right;\">            3</td><td style=\"text-align: right;\">             11</td><td>2023-07-14T00:00:00</td><td style=\"text-align: right;\">0.000119214</td><td style=\"text-align: right;\">         0.0017</td><td>30d          </td><td style=\"text-align: right;\">    40</td><td style=\"text-align: right;\">         8.96827</td><td style=\"text-align: right;\">               35</td><td style=\"text-align: right;\">        200</td><td style=\"text-align: right;\">0.0372455  </td></tr>\n",
       "<tr><td>TrainLightGCN_4f69367f</td><td>TERMINATED</td><td>147.96.81.131:631827</td><td style=\"text-align: right;\">           5</td><td style=\"text-align: right;\">            3</td><td style=\"text-align: right;\">              1</td><td>2023-07-14T00:00:00</td><td style=\"text-align: right;\">0.000208859</td><td style=\"text-align: right;\">         0.0289</td><td>21d          </td><td style=\"text-align: right;\">    40</td><td style=\"text-align: right;\">         8.0708 </td><td style=\"text-align: right;\">               27</td><td style=\"text-align: right;\">        200</td><td style=\"text-align: right;\">0.177679   </td></tr>\n",
       "<tr><td>TrainLightGCN_6ee1a5a2</td><td>TERMINATED</td><td>147.96.81.131:631678</td><td style=\"text-align: right;\">           8</td><td style=\"text-align: right;\">            4</td><td style=\"text-align: right;\">              6</td><td>2023-07-14T00:00:00</td><td style=\"text-align: right;\">0.00169319 </td><td style=\"text-align: right;\">         0.0565</td><td>90d          </td><td style=\"text-align: right;\">    40</td><td style=\"text-align: right;\">        10.1209 </td><td style=\"text-align: right;\">               86</td><td style=\"text-align: right;\">        200</td><td style=\"text-align: right;\">0.0776652  </td></tr>\n",
       "<tr><td>TrainLightGCN_faf6d536</td><td>TERMINATED</td><td>147.96.81.131:631528</td><td style=\"text-align: right;\">           6</td><td style=\"text-align: right;\">            2</td><td style=\"text-align: right;\">             36</td><td>2023-07-14T00:00:00</td><td style=\"text-align: right;\">0.00431494 </td><td style=\"text-align: right;\">         0.4085</td><td>60d          </td><td style=\"text-align: right;\">    40</td><td style=\"text-align: right;\">         9.15608</td><td style=\"text-align: right;\">               58</td><td style=\"text-align: right;\">        200</td><td style=\"text-align: right;\">0.141729   </td></tr>\n",
       "<tr><td>TrainLightGCN_40d6ade4</td><td>TERMINATED</td><td>147.96.81.131:631385</td><td style=\"text-align: right;\">           7</td><td style=\"text-align: right;\">            3</td><td style=\"text-align: right;\">             66</td><td>2023-07-14T00:00:00</td><td style=\"text-align: right;\">7.71702e-06</td><td style=\"text-align: right;\">         0.0003</td><td>30d          </td><td style=\"text-align: right;\">    40</td><td style=\"text-align: right;\">         8.85154</td><td style=\"text-align: right;\">               35</td><td style=\"text-align: right;\">        200</td><td style=\"text-align: right;\">0.0750283  </td></tr>\n",
       "<tr><td>TrainLightGCN_820a8104</td><td>TERMINATED</td><td>147.96.81.131:631235</td><td style=\"text-align: right;\">           4</td><td style=\"text-align: right;\">            4</td><td style=\"text-align: right;\">            165</td><td>2023-07-14T00:00:00</td><td style=\"text-align: right;\">1.51891e-06</td><td style=\"text-align: right;\">         0.1407</td><td>21d          </td><td style=\"text-align: right;\">    40</td><td style=\"text-align: right;\">         9.3816 </td><td style=\"text-align: right;\">               16</td><td style=\"text-align: right;\">        200</td><td style=\"text-align: right;\">0.00511948 </td></tr>\n",
       "<tr><td>TrainLightGCN_a6e0b709</td><td>TERMINATED</td><td>147.96.81.131:631085</td><td style=\"text-align: right;\">          10</td><td style=\"text-align: right;\">            2</td><td style=\"text-align: right;\">              4</td><td>2023-07-14T00:00:00</td><td style=\"text-align: right;\">3.5611e-05 </td><td style=\"text-align: right;\">         0.0035</td><td>30d          </td><td style=\"text-align: right;\">    40</td><td style=\"text-align: right;\">         8.14844</td><td style=\"text-align: right;\">               35</td><td style=\"text-align: right;\">        200</td><td style=\"text-align: right;\">0.0360173  </td></tr>\n",
       "<tr><td>TrainLightGCN_37b9a223</td><td>TERMINATED</td><td>147.96.81.131:630788</td><td style=\"text-align: right;\">           9</td><td style=\"text-align: right;\">            4</td><td style=\"text-align: right;\">             35</td><td>2023-07-14T00:00:00</td><td style=\"text-align: right;\">1.05032e-07</td><td style=\"text-align: right;\">         0.0155</td><td>21d          </td><td style=\"text-align: right;\">    40</td><td style=\"text-align: right;\">         7.46799</td><td style=\"text-align: right;\">               27</td><td style=\"text-align: right;\">        200</td><td style=\"text-align: right;\">0.000463932</td></tr>\n",
       "<tr><td>TrainLightGCN_60bc90ee</td><td>TERMINATED</td><td>147.96.81.131:630637</td><td style=\"text-align: right;\">           7</td><td style=\"text-align: right;\">            2</td><td style=\"text-align: right;\">             23</td><td>2023-07-14T00:00:00</td><td style=\"text-align: right;\">2.26511e-05</td><td style=\"text-align: right;\">         0.0006</td><td>90d          </td><td style=\"text-align: right;\">    40</td><td style=\"text-align: right;\">         9.41338</td><td style=\"text-align: right;\">               86</td><td style=\"text-align: right;\">        200</td><td style=\"text-align: right;\">0.0477934  </td></tr>\n",
       "<tr><td>TrainLightGCN_3eec914a</td><td>TERMINATED</td><td>147.96.81.131:630487</td><td style=\"text-align: right;\">           9</td><td style=\"text-align: right;\">            3</td><td style=\"text-align: right;\">              1</td><td>2023-07-14T00:00:00</td><td style=\"text-align: right;\">0.00104551 </td><td style=\"text-align: right;\">         0.0001</td><td>30d          </td><td style=\"text-align: right;\">    40</td><td style=\"text-align: right;\">         7.78262</td><td style=\"text-align: right;\">               35</td><td style=\"text-align: right;\">        200</td><td style=\"text-align: right;\">0.684795   </td></tr>\n",
       "<tr><td>TrainLightGCN_6da9741c</td><td>TERMINATED</td><td>147.96.81.131:630346</td><td style=\"text-align: right;\">           8</td><td style=\"text-align: right;\">            3</td><td style=\"text-align: right;\">              8</td><td>2023-07-14T00:00:00</td><td style=\"text-align: right;\">8.68211e-05</td><td style=\"text-align: right;\">         0.0781</td><td>60d          </td><td style=\"text-align: right;\">    40</td><td style=\"text-align: right;\">         8.15974</td><td style=\"text-align: right;\">               58</td><td style=\"text-align: right;\">        200</td><td style=\"text-align: right;\">0.00438571 </td></tr>\n",
       "<tr><td>TrainLightGCN_810cd1fc</td><td>TERMINATED</td><td>147.96.81.131:630196</td><td style=\"text-align: right;\">           7</td><td style=\"text-align: right;\">            2</td><td style=\"text-align: right;\">            655</td><td>2023-07-14T00:00:00</td><td style=\"text-align: right;\">0.000184794</td><td style=\"text-align: right;\">         0.0089</td><td>21d          </td><td style=\"text-align: right;\">    40</td><td style=\"text-align: right;\">         7.62174</td><td style=\"text-align: right;\">               27</td><td style=\"text-align: right;\">        200</td><td style=\"text-align: right;\">0.00433199 </td></tr>\n",
       "<tr><td>TrainLightGCN_3e7d534e</td><td>TERMINATED</td><td>147.96.81.131:630049</td><td style=\"text-align: right;\">           6</td><td style=\"text-align: right;\">            2</td><td style=\"text-align: right;\">            141</td><td>2023-07-14T00:00:00</td><td style=\"text-align: right;\">8.88966e-07</td><td style=\"text-align: right;\">         0.0014</td><td>30d          </td><td style=\"text-align: right;\">    40</td><td style=\"text-align: right;\">         7.8737 </td><td style=\"text-align: right;\">               35</td><td style=\"text-align: right;\">        200</td><td style=\"text-align: right;\">0.00404734 </td></tr>\n",
       "<tr><td>TrainLightGCN_ad8f49dc</td><td>TERMINATED</td><td>147.96.81.131:629743</td><td style=\"text-align: right;\">           8</td><td style=\"text-align: right;\">            3</td><td style=\"text-align: right;\">             11</td><td>2023-07-14T00:00:00</td><td style=\"text-align: right;\">3.90933e-07</td><td style=\"text-align: right;\">         0.0004</td><td>21d          </td><td style=\"text-align: right;\">    40</td><td style=\"text-align: right;\">         7.44625</td><td style=\"text-align: right;\">               27</td><td style=\"text-align: right;\">        200</td><td style=\"text-align: right;\">0.226471   </td></tr>\n",
       "<tr><td>TrainLightGCN_6068169f</td><td>TERMINATED</td><td>147.96.81.131:629592</td><td style=\"text-align: right;\">           7</td><td style=\"text-align: right;\">            3</td><td style=\"text-align: right;\">             20</td><td>2023-07-14T00:00:00</td><td style=\"text-align: right;\">0.00317042 </td><td style=\"text-align: right;\">         0.3206</td><td>90d          </td><td style=\"text-align: right;\">    40</td><td style=\"text-align: right;\">         8.92967</td><td style=\"text-align: right;\">               86</td><td style=\"text-align: right;\">        200</td><td style=\"text-align: right;\">0.184949   </td></tr>\n",
       "<tr><td>TrainLightGCN_b8498490</td><td>TERMINATED</td><td>147.96.81.131:629443</td><td style=\"text-align: right;\">           5</td><td style=\"text-align: right;\">            4</td><td style=\"text-align: right;\">              1</td><td>2023-07-14T00:00:00</td><td style=\"text-align: right;\">0.000724891</td><td style=\"text-align: right;\">         0.0006</td><td>60d          </td><td style=\"text-align: right;\">    40</td><td style=\"text-align: right;\">         9.32546</td><td style=\"text-align: right;\">               32</td><td style=\"text-align: right;\">        200</td><td style=\"text-align: right;\">0.416678   </td></tr>\n",
       "<tr><td>TrainLightGCN_e57d878a</td><td>TERMINATED</td><td>147.96.81.131:628975</td><td style=\"text-align: right;\">           8</td><td style=\"text-align: right;\">            3</td><td style=\"text-align: right;\">              3</td><td>2023-07-14T00:00:00</td><td style=\"text-align: right;\">5.06489e-06</td><td style=\"text-align: right;\">         0.0064</td><td>10YE         </td><td style=\"text-align: right;\">    40</td><td style=\"text-align: right;\">        16.4781 </td><td style=\"text-align: right;\">              256</td><td style=\"text-align: right;\">        200</td><td style=\"text-align: right;\">0.058352   </td></tr>\n",
       "<tr><td>TrainLightGCN_cd872215</td><td>TERMINATED</td><td>147.96.81.131:629285</td><td style=\"text-align: right;\">           6</td><td style=\"text-align: right;\">            3</td><td style=\"text-align: right;\">             58</td><td>2023-07-14T00:00:00</td><td style=\"text-align: right;\">0.000432188</td><td style=\"text-align: right;\">         0.9752</td><td>30d          </td><td style=\"text-align: right;\">    40</td><td style=\"text-align: right;\">         8.25741</td><td style=\"text-align: right;\">               35</td><td style=\"text-align: right;\">        200</td><td style=\"text-align: right;\">3.3622     </td></tr>\n",
       "<tr><td>TrainLightGCN_2430ff04</td><td>TERMINATED</td><td>147.96.81.131:629133</td><td style=\"text-align: right;\">           4</td><td style=\"text-align: right;\">            4</td><td style=\"text-align: right;\">            136</td><td>2023-07-14T00:00:00</td><td style=\"text-align: right;\">4.92591e-05</td><td style=\"text-align: right;\">         0.0035</td><td>21d          </td><td style=\"text-align: right;\">    40</td><td style=\"text-align: right;\">         8.73981</td><td style=\"text-align: right;\">               16</td><td style=\"text-align: right;\">        200</td><td style=\"text-align: right;\">0.0035232  </td></tr>\n",
       "<tr><td>TrainLightGCN_2ed58f9d</td><td>TERMINATED</td><td>147.96.81.131:626034</td><td style=\"text-align: right;\">           5</td><td style=\"text-align: right;\">            4</td><td style=\"text-align: right;\">             97</td><td>2023-07-14T00:00:00</td><td style=\"text-align: right;\">6.09932e-05</td><td style=\"text-align: right;\">         0.0021</td><td>10YE         </td><td style=\"text-align: right;\">    40</td><td style=\"text-align: right;\">        79.1886 </td><td style=\"text-align: right;\">               32</td><td style=\"text-align: right;\">        200</td><td style=\"text-align: right;\">0.00736443 </td></tr>\n",
       "<tr><td>TrainLightGCN_66f1859b</td><td>TERMINATED</td><td>147.96.81.131:628831</td><td style=\"text-align: right;\">           7</td><td style=\"text-align: right;\">            4</td><td style=\"text-align: right;\">              6</td><td>2023-07-14T00:00:00</td><td style=\"text-align: right;\">4.77221e-06</td><td style=\"text-align: right;\">         0.0001</td><td>60d          </td><td style=\"text-align: right;\">    40</td><td style=\"text-align: right;\">         9.08656</td><td style=\"text-align: right;\">               58</td><td style=\"text-align: right;\">        200</td><td style=\"text-align: right;\">0.653226   </td></tr>\n",
       "<tr><td>TrainLightGCN_7d601727</td><td>TERMINATED</td><td>147.96.81.131:628386</td><td style=\"text-align: right;\">           8</td><td style=\"text-align: right;\">            4</td><td style=\"text-align: right;\">              1</td><td>2023-07-14T00:00:00</td><td style=\"text-align: right;\">9.5276e-05 </td><td style=\"text-align: right;\">         0.0116</td><td>10YE         </td><td style=\"text-align: right;\">    40</td><td style=\"text-align: right;\">        18.3319 </td><td style=\"text-align: right;\">              256</td><td style=\"text-align: right;\">        200</td><td style=\"text-align: right;\">0.134643   </td></tr>\n",
       "<tr><td>TrainLightGCN_68ccde97</td><td>TERMINATED</td><td>147.96.81.131:628675</td><td style=\"text-align: right;\">           5</td><td style=\"text-align: right;\">            3</td><td style=\"text-align: right;\">             49</td><td>2023-07-14T00:00:00</td><td style=\"text-align: right;\">1.87948e-05</td><td style=\"text-align: right;\">         0.0011</td><td>21d          </td><td style=\"text-align: right;\">    40</td><td style=\"text-align: right;\">         8.53278</td><td style=\"text-align: right;\">               27</td><td style=\"text-align: right;\">        200</td><td style=\"text-align: right;\">0.0237714  </td></tr>\n",
       "<tr><td>TrainLightGCN_f7202f0a</td><td>TERMINATED</td><td>147.96.81.131:627894</td><td style=\"text-align: right;\">           4</td><td style=\"text-align: right;\">            3</td><td style=\"text-align: right;\">              4</td><td>2023-07-14T00:00:00</td><td style=\"text-align: right;\">1.45031e-05</td><td style=\"text-align: right;\">         0.001 </td><td>90d          </td><td style=\"text-align: right;\">    40</td><td style=\"text-align: right;\">        23.5729 </td><td style=\"text-align: right;\">               16</td><td style=\"text-align: right;\">        200</td><td style=\"text-align: right;\">0.0685242  </td></tr>\n",
       "<tr><td>TrainLightGCN_71078b29</td><td>TERMINATED</td><td>147.96.81.131:628531</td><td style=\"text-align: right;\">           6</td><td style=\"text-align: right;\">            3</td><td style=\"text-align: right;\">             14</td><td>2023-07-14T00:00:00</td><td style=\"text-align: right;\">0.00040975 </td><td style=\"text-align: right;\">         0.0201</td><td>30d          </td><td style=\"text-align: right;\">    40</td><td style=\"text-align: right;\">         9.13893</td><td style=\"text-align: right;\">               35</td><td style=\"text-align: right;\">        200</td><td style=\"text-align: right;\">0.0142571  </td></tr>\n",
       "<tr><td>TrainLightGCN_c5c5c230</td><td>TERMINATED</td><td>147.96.81.131:628226</td><td style=\"text-align: right;\">           7</td><td style=\"text-align: right;\">            3</td><td style=\"text-align: right;\">              2</td><td>2023-07-14T00:00:00</td><td style=\"text-align: right;\">1.92988e-07</td><td style=\"text-align: right;\">         0.0409</td><td>21d          </td><td style=\"text-align: right;\">    40</td><td style=\"text-align: right;\">         8.3869 </td><td style=\"text-align: right;\">               27</td><td style=\"text-align: right;\">        200</td><td style=\"text-align: right;\">0.0205813  </td></tr>\n",
       "<tr><td>TrainLightGCN_10ccfca8</td><td>TERMINATED</td><td>147.96.81.131:628048</td><td style=\"text-align: right;\">           6</td><td style=\"text-align: right;\">            4</td><td style=\"text-align: right;\">            981</td><td>2023-07-14T00:00:00</td><td style=\"text-align: right;\">5.81921e-07</td><td style=\"text-align: right;\">         0.0056</td><td>90d          </td><td style=\"text-align: right;\">    40</td><td style=\"text-align: right;\">        11.4591 </td><td style=\"text-align: right;\">               64</td><td style=\"text-align: right;\">        200</td><td style=\"text-align: right;\">0.000107809</td></tr>\n",
       "<tr><td>TrainLightGCN_0209549c</td><td>TERMINATED</td><td>147.96.81.131:627752</td><td style=\"text-align: right;\">           6</td><td style=\"text-align: right;\">            3</td><td style=\"text-align: right;\">             17</td><td>2023-07-14T00:00:00</td><td style=\"text-align: right;\">1.01599e-05</td><td style=\"text-align: right;\">         0.0227</td><td>60d          </td><td style=\"text-align: right;\">    40</td><td style=\"text-align: right;\">         8.31032</td><td style=\"text-align: right;\">               58</td><td style=\"text-align: right;\">        200</td><td style=\"text-align: right;\">0.000820625</td></tr>\n",
       "<tr><td>TrainLightGCN_54e75cea</td><td>TERMINATED</td><td>147.96.81.131:627590</td><td style=\"text-align: right;\">           6</td><td style=\"text-align: right;\">            3</td><td style=\"text-align: right;\">              2</td><td>2023-07-14T00:00:00</td><td style=\"text-align: right;\">3.56528e-07</td><td style=\"text-align: right;\">         0.0491</td><td>21d          </td><td style=\"text-align: right;\">    40</td><td style=\"text-align: right;\">         7.50857</td><td style=\"text-align: right;\">               27</td><td style=\"text-align: right;\">        200</td><td style=\"text-align: right;\">0.0198052  </td></tr>\n",
       "<tr><td>TrainLightGCN_107cffca</td><td>TERMINATED</td><td>147.96.81.131:627415</td><td style=\"text-align: right;\">           8</td><td style=\"text-align: right;\">            4</td><td style=\"text-align: right;\">              1</td><td>2023-07-14T00:00:00</td><td style=\"text-align: right;\">1.02194e-05</td><td style=\"text-align: right;\">         0.005 </td><td>21d          </td><td style=\"text-align: right;\">    40</td><td style=\"text-align: right;\">         7.77417</td><td style=\"text-align: right;\">               27</td><td style=\"text-align: right;\">        200</td><td style=\"text-align: right;\">0.197029   </td></tr>\n",
       "<tr><td>TrainLightGCN_51de6afa</td><td>TERMINATED</td><td>147.96.81.131:627230</td><td style=\"text-align: right;\">           4</td><td style=\"text-align: right;\">            3</td><td style=\"text-align: right;\">             44</td><td>2023-07-14T00:00:00</td><td style=\"text-align: right;\">0.00361037 </td><td style=\"text-align: right;\">         0.0003</td><td>30d          </td><td style=\"text-align: right;\">    40</td><td style=\"text-align: right;\">        10.5137 </td><td style=\"text-align: right;\">               16</td><td style=\"text-align: right;\">        200</td><td style=\"text-align: right;\">0.100355   </td></tr>\n",
       "<tr><td>TrainLightGCN_53d9ded3</td><td>TERMINATED</td><td>147.96.81.131:627075</td><td style=\"text-align: right;\">          10</td><td style=\"text-align: right;\">            1</td><td style=\"text-align: right;\">              5</td><td>2023-07-14T00:00:00</td><td style=\"text-align: right;\">0.00683684 </td><td style=\"text-align: right;\">         0.0002</td><td>30d          </td><td style=\"text-align: right;\">    40</td><td style=\"text-align: right;\">         8.95091</td><td style=\"text-align: right;\">               35</td><td style=\"text-align: right;\">        200</td><td style=\"text-align: right;\">0.511622   </td></tr>\n",
       "<tr><td>TrainLightGCN_22b22427</td><td>TERMINATED</td><td>147.96.81.131:626925</td><td style=\"text-align: right;\">           6</td><td style=\"text-align: right;\">            3</td><td style=\"text-align: right;\">             11</td><td>2023-07-14T00:00:00</td><td style=\"text-align: right;\">0.00572089 </td><td style=\"text-align: right;\">         0.0001</td><td>30d          </td><td style=\"text-align: right;\">    40</td><td style=\"text-align: right;\">         9.77833</td><td style=\"text-align: right;\">               35</td><td style=\"text-align: right;\">        200</td><td style=\"text-align: right;\">0.599528   </td></tr>\n",
       "<tr><td>TrainLightGCN_09bf2eb9</td><td>TERMINATED</td><td>147.96.81.131:624215</td><td style=\"text-align: right;\">           5</td><td style=\"text-align: right;\">            2</td><td style=\"text-align: right;\">             74</td><td>2023-07-14T00:00:00</td><td style=\"text-align: right;\">8.63799e-07</td><td style=\"text-align: right;\">         0.1736</td><td>10YE         </td><td style=\"text-align: right;\">    40</td><td style=\"text-align: right;\">        73.5545 </td><td style=\"text-align: right;\">               32</td><td style=\"text-align: right;\">        200</td><td style=\"text-align: right;\">0.664636   </td></tr>\n",
       "<tr><td>TrainLightGCN_002121b2</td><td>TERMINATED</td><td>147.96.81.131:626775</td><td style=\"text-align: right;\">           8</td><td style=\"text-align: right;\">            3</td><td style=\"text-align: right;\">              1</td><td>2023-07-14T00:00:00</td><td style=\"text-align: right;\">1.08679e-05</td><td style=\"text-align: right;\">         0.0049</td><td>21d          </td><td style=\"text-align: right;\">    40</td><td style=\"text-align: right;\">         9.18963</td><td style=\"text-align: right;\">               27</td><td style=\"text-align: right;\">        200</td><td style=\"text-align: right;\">0.202381   </td></tr>\n",
       "<tr><td>TrainLightGCN_38334bc6</td><td>TERMINATED</td><td>147.96.81.131:626623</td><td style=\"text-align: right;\">           8</td><td style=\"text-align: right;\">            1</td><td style=\"text-align: right;\">             12</td><td>2023-07-14T00:00:00</td><td style=\"text-align: right;\">0.008864   </td><td style=\"text-align: right;\">         0.0004</td><td>21d          </td><td style=\"text-align: right;\">    40</td><td style=\"text-align: right;\">         9.15845</td><td style=\"text-align: right;\">               27</td><td style=\"text-align: right;\">        200</td><td style=\"text-align: right;\">0.227131   </td></tr>\n",
       "<tr><td>TrainLightGCN_baf5d175</td><td>TERMINATED</td><td>147.96.81.131:626481</td><td style=\"text-align: right;\">          10</td><td style=\"text-align: right;\">            1</td><td style=\"text-align: right;\">              2</td><td>2023-07-14T00:00:00</td><td style=\"text-align: right;\">1.59049e-07</td><td style=\"text-align: right;\">         0.0024</td><td>30d          </td><td style=\"text-align: right;\">    40</td><td style=\"text-align: right;\">         9.87217</td><td style=\"text-align: right;\">               35</td><td style=\"text-align: right;\">        200</td><td style=\"text-align: right;\">0.136426   </td></tr>\n",
       "<tr><td>TrainLightGCN_c4f11cfb</td><td>TERMINATED</td><td>147.96.81.131:626324</td><td style=\"text-align: right;\">          10</td><td style=\"text-align: right;\">            1</td><td style=\"text-align: right;\">              9</td><td>2023-07-14T00:00:00</td><td style=\"text-align: right;\">0.00700863 </td><td style=\"text-align: right;\">         0.0002</td><td>30d          </td><td style=\"text-align: right;\">    40</td><td style=\"text-align: right;\">         9.81814</td><td style=\"text-align: right;\">               35</td><td style=\"text-align: right;\">        200</td><td style=\"text-align: right;\">0.449724   </td></tr>\n",
       "<tr><td>TrainLightGCN_e8eb5423</td><td>TERMINATED</td><td>147.96.81.131:626181</td><td style=\"text-align: right;\">           9</td><td style=\"text-align: right;\">            2</td><td style=\"text-align: right;\">              3</td><td>2023-07-14T00:00:00</td><td style=\"text-align: right;\">0.00158506 </td><td style=\"text-align: right;\">         0.0001</td><td>30d          </td><td style=\"text-align: right;\">    40</td><td style=\"text-align: right;\">         9.83427</td><td style=\"text-align: right;\">               35</td><td style=\"text-align: right;\">        200</td><td style=\"text-align: right;\">0.654741   </td></tr>\n",
       "<tr><td>TrainLightGCN_db1fae9d</td><td>TERMINATED</td><td>147.96.81.131:625884</td><td style=\"text-align: right;\">           6</td><td style=\"text-align: right;\">            2</td><td style=\"text-align: right;\">             27</td><td>2023-07-14T00:00:00</td><td style=\"text-align: right;\">3.06006e-05</td><td style=\"text-align: right;\">         0.2056</td><td>30d          </td><td style=\"text-align: right;\">    40</td><td style=\"text-align: right;\">         9.14709</td><td style=\"text-align: right;\">               35</td><td style=\"text-align: right;\">        200</td><td style=\"text-align: right;\">0.121759   </td></tr>\n",
       "<tr><td>TrainLightGCN_9ca093aa</td><td>TERMINATED</td><td>147.96.81.131:625736</td><td style=\"text-align: right;\">           7</td><td style=\"text-align: right;\">            2</td><td style=\"text-align: right;\">            241</td><td>2023-07-14T00:00:00</td><td style=\"text-align: right;\">5.10482e-06</td><td style=\"text-align: right;\">         0.0017</td><td>90d          </td><td style=\"text-align: right;\">    40</td><td style=\"text-align: right;\">        10.6568 </td><td style=\"text-align: right;\">               86</td><td style=\"text-align: right;\">        200</td><td style=\"text-align: right;\">0.00132297 </td></tr>\n",
       "<tr><td>TrainLightGCN_8ce6757e</td><td>TERMINATED</td><td>147.96.81.131:625586</td><td style=\"text-align: right;\">           8</td><td style=\"text-align: right;\">            4</td><td style=\"text-align: right;\">              7</td><td>2023-07-14T00:00:00</td><td style=\"text-align: right;\">2.91903e-06</td><td style=\"text-align: right;\">         0.1593</td><td>21d          </td><td style=\"text-align: right;\">    40</td><td style=\"text-align: right;\">         7.9336 </td><td style=\"text-align: right;\">               27</td><td style=\"text-align: right;\">        200</td><td style=\"text-align: right;\">0.000224923</td></tr>\n",
       "<tr><td>TrainLightGCN_cf9a74b1</td><td>TERMINATED</td><td>147.96.81.131:625428</td><td style=\"text-align: right;\">           9</td><td style=\"text-align: right;\">            3</td><td style=\"text-align: right;\">            447</td><td>2023-07-14T00:00:00</td><td style=\"text-align: right;\">0.000129301</td><td style=\"text-align: right;\">         0.0008</td><td>60d          </td><td style=\"text-align: right;\">    40</td><td style=\"text-align: right;\">         8.34268</td><td style=\"text-align: right;\">               58</td><td style=\"text-align: right;\">        200</td><td style=\"text-align: right;\">0.0103156  </td></tr>\n",
       "<tr><td>TrainLightGCN_bd04a80e</td><td>TERMINATED</td><td>147.96.81.131:625262</td><td style=\"text-align: right;\">           8</td><td style=\"text-align: right;\">            3</td><td style=\"text-align: right;\">             86</td><td>2023-07-14T00:00:00</td><td style=\"text-align: right;\">0.000166749</td><td style=\"text-align: right;\">         0.0002</td><td>30d          </td><td style=\"text-align: right;\">    40</td><td style=\"text-align: right;\">         8.28953</td><td style=\"text-align: right;\">               35</td><td style=\"text-align: right;\">        200</td><td style=\"text-align: right;\">0.110229   </td></tr>\n",
       "<tr><td>TrainLightGCN_c5cfbecb</td><td>TERMINATED</td><td>147.96.81.131:625113</td><td style=\"text-align: right;\">           9</td><td style=\"text-align: right;\">            2</td><td style=\"text-align: right;\">            364</td><td>2023-07-14T00:00:00</td><td style=\"text-align: right;\">2.08113e-06</td><td style=\"text-align: right;\">         0.0002</td><td>90d          </td><td style=\"text-align: right;\">    40</td><td style=\"text-align: right;\">         9.30527</td><td style=\"text-align: right;\">               86</td><td style=\"text-align: right;\">        200</td><td style=\"text-align: right;\">0.0261802  </td></tr>\n",
       "<tr><td>TrainLightGCN_4cf1bb8e</td><td>TERMINATED</td><td>147.96.81.131:624959</td><td style=\"text-align: right;\">           7</td><td style=\"text-align: right;\">            2</td><td style=\"text-align: right;\">             96</td><td>2023-07-14T00:00:00</td><td style=\"text-align: right;\">4.92424e-05</td><td style=\"text-align: right;\">         0.0784</td><td>21d          </td><td style=\"text-align: right;\">    40</td><td style=\"text-align: right;\">         7.54402</td><td style=\"text-align: right;\">               27</td><td style=\"text-align: right;\">        200</td><td style=\"text-align: right;\">0.0152828  </td></tr>\n",
       "<tr><td>TrainLightGCN_1cd4dd99</td><td>TERMINATED</td><td>147.96.81.131:624813</td><td style=\"text-align: right;\">           9</td><td style=\"text-align: right;\">            2</td><td style=\"text-align: right;\">             26</td><td>2023-07-14T00:00:00</td><td style=\"text-align: right;\">1.42721e-06</td><td style=\"text-align: right;\">         0.6694</td><td>30d          </td><td style=\"text-align: right;\">    40</td><td style=\"text-align: right;\">         8.32613</td><td style=\"text-align: right;\">               35</td><td style=\"text-align: right;\">        200</td><td style=\"text-align: right;\">0.0192632  </td></tr>\n",
       "<tr><td>TrainLightGCN_c9ec9072</td><td>TERMINATED</td><td>147.96.81.131:624664</td><td style=\"text-align: right;\">           7</td><td style=\"text-align: right;\">            4</td><td style=\"text-align: right;\">            219</td><td>2023-07-14T00:00:00</td><td style=\"text-align: right;\">0.000261231</td><td style=\"text-align: right;\">         0.095 </td><td>60d          </td><td style=\"text-align: right;\">    40</td><td style=\"text-align: right;\">         8.60539</td><td style=\"text-align: right;\">               58</td><td style=\"text-align: right;\">        200</td><td style=\"text-align: right;\">0.0141589  </td></tr>\n",
       "<tr><td>TrainLightGCN_e2f5a45b</td><td>TERMINATED</td><td>147.96.81.131:624363</td><td style=\"text-align: right;\">           9</td><td style=\"text-align: right;\">            3</td><td style=\"text-align: right;\">            332</td><td>2023-07-14T00:00:00</td><td style=\"text-align: right;\">0.00221159 </td><td style=\"text-align: right;\">         0.4863</td><td>10YE         </td><td style=\"text-align: right;\">    40</td><td style=\"text-align: right;\">        12.8999 </td><td style=\"text-align: right;\">              512</td><td style=\"text-align: right;\">        200</td><td style=\"text-align: right;\">0.104812   </td></tr>\n",
       "<tr><td>TrainLightGCN_ccd625eb</td><td>TERMINATED</td><td>147.96.81.131:624512</td><td style=\"text-align: right;\">          10</td><td style=\"text-align: right;\">            1</td><td style=\"text-align: right;\">              1</td><td>2023-07-14T00:00:00</td><td style=\"text-align: right;\">0.000699071</td><td style=\"text-align: right;\">         0.0029</td><td>21d          </td><td style=\"text-align: right;\">    40</td><td style=\"text-align: right;\">         7.29445</td><td style=\"text-align: right;\">               27</td><td style=\"text-align: right;\">        200</td><td style=\"text-align: right;\">0.229603   </td></tr>\n",
       "<tr><td>TrainLightGCN_3a84708d</td><td>TERMINATED</td><td>147.96.81.131:623632</td><td style=\"text-align: right;\">           7</td><td style=\"text-align: right;\">            4</td><td style=\"text-align: right;\">             32</td><td>2023-07-14T00:00:00</td><td style=\"text-align: right;\">1.24202e-06</td><td style=\"text-align: right;\">         0.015 </td><td>10YE         </td><td style=\"text-align: right;\">    40</td><td style=\"text-align: right;\">        22.6943 </td><td style=\"text-align: right;\">              128</td><td style=\"text-align: right;\">        200</td><td style=\"text-align: right;\">0.000986858</td></tr>\n",
       "<tr><td>TrainLightGCN_292db67e</td><td>TERMINATED</td><td>147.96.81.131:624070</td><td style=\"text-align: right;\">           5</td><td style=\"text-align: right;\">            2</td><td style=\"text-align: right;\">            217</td><td>2023-07-14T00:00:00</td><td style=\"text-align: right;\">2.53991e-06</td><td style=\"text-align: right;\">         0.4785</td><td>21d          </td><td style=\"text-align: right;\">    40</td><td style=\"text-align: right;\">         7.39717</td><td style=\"text-align: right;\">               27</td><td style=\"text-align: right;\">        200</td><td style=\"text-align: right;\">0.077287   </td></tr>\n",
       "<tr><td>TrainLightGCN_88018544</td><td>TERMINATED</td><td>147.96.81.131:623922</td><td style=\"text-align: right;\">           5</td><td style=\"text-align: right;\">            2</td><td style=\"text-align: right;\">             34</td><td>2023-07-14T00:00:00</td><td style=\"text-align: right;\">0.0007608  </td><td style=\"text-align: right;\">         0.0091</td><td>60d          </td><td style=\"text-align: right;\">    40</td><td style=\"text-align: right;\">         9.57344</td><td style=\"text-align: right;\">               32</td><td style=\"text-align: right;\">        200</td><td style=\"text-align: right;\">0.019362   </td></tr>\n",
       "<tr><td>TrainLightGCN_1c16c67e</td><td>TERMINATED</td><td>147.96.81.131:623774</td><td style=\"text-align: right;\">           9</td><td style=\"text-align: right;\">            2</td><td style=\"text-align: right;\">             86</td><td>2023-07-14T00:00:00</td><td style=\"text-align: right;\">0.00134325 </td><td style=\"text-align: right;\">         0.0006</td><td>21d          </td><td style=\"text-align: right;\">    40</td><td style=\"text-align: right;\">         7.32371</td><td style=\"text-align: right;\">               27</td><td style=\"text-align: right;\">        200</td><td style=\"text-align: right;\">0.0385869  </td></tr>\n",
       "<tr><td>TrainLightGCN_04b31046</td><td>TERMINATED</td><td>147.96.81.131:623490</td><td style=\"text-align: right;\">           9</td><td style=\"text-align: right;\">            3</td><td style=\"text-align: right;\">            665</td><td>2023-07-14T00:00:00</td><td style=\"text-align: right;\">2.74456e-05</td><td style=\"text-align: right;\">         0.0092</td><td>90d          </td><td style=\"text-align: right;\">    40</td><td style=\"text-align: right;\">         8.69657</td><td style=\"text-align: right;\">               86</td><td style=\"text-align: right;\">        200</td><td style=\"text-align: right;\">0.00196159 </td></tr>\n",
       "<tr><td>TrainLightGCN_a94a5164</td><td>TERMINATED</td><td>147.96.81.131:623374</td><td style=\"text-align: right;\">           9</td><td style=\"text-align: right;\">            3</td><td style=\"text-align: right;\">            121</td><td>2023-07-14T00:00:00</td><td style=\"text-align: right;\">0.000452597</td><td style=\"text-align: right;\">         0.0228</td><td>90d          </td><td style=\"text-align: right;\">    40</td><td style=\"text-align: right;\">         8.07724</td><td style=\"text-align: right;\">               86</td><td style=\"text-align: right;\">        200</td><td style=\"text-align: right;\">0.0217515  </td></tr>\n",
       "</tbody>\n",
       "</table>\n",
       "  </div>\n",
       "</div>\n",
       "<style>\n",
       ".tuneStatus {\n",
       "  color: var(--jp-ui-font-color1);\n",
       "}\n",
       ".tuneStatus .systemInfo {\n",
       "  display: flex;\n",
       "  flex-direction: column;\n",
       "}\n",
       ".tuneStatus td {\n",
       "  white-space: nowrap;\n",
       "}\n",
       ".tuneStatus .trialStatus {\n",
       "  display: flex;\n",
       "  flex-direction: column;\n",
       "}\n",
       ".tuneStatus h3 {\n",
       "  font-weight: bold;\n",
       "}\n",
       ".tuneStatus .hDivider {\n",
       "  border-bottom-width: var(--jp-border-width);\n",
       "  border-bottom-color: var(--jp-border-color0);\n",
       "  border-bottom-style: solid;\n",
       "}\n",
       ".tuneStatus .vDivider {\n",
       "  border-left-width: var(--jp-border-width);\n",
       "  border-left-color: var(--jp-border-color0);\n",
       "  border-left-style: solid;\n",
       "  margin: 0.5em 1em 0.5em 1em;\n",
       "}\n",
       "</style>\n"
      ],
      "text/plain": [
       "<IPython.core.display.HTML object>"
      ]
     },
     "metadata": {},
     "output_type": "display_data"
    },
    {
     "name": "stderr",
     "output_type": "stream",
     "text": [
      "2024-09-09 10:18:19,827\tINFO tune_controller.py:444 -- Restoring the run from the latest experiment state file: experiment_state-2024-09-09_10-10-54.json\n",
      "2024-09-09 10:18:20,353\tINFO tune.py:1009 -- Wrote the latest version of all result files and experiment state to '/home/daviddavo/ray_results3.11/Aura Finance/LightGCN_7d_normalize_map@10_fold=2023-07-14T00:00:00_2024-09-09T10:10:54.757966' in 0.3739s.\n",
      "2024-09-09 10:18:20,368\tINFO tune.py:1041 -- Total run time: 0.55 seconds (0.00 seconds for the tuning loop).\n"
     ]
    },
    {
     "name": "stdout",
     "output_type": "stream",
     "text": [
      "Finished training for fold 2023-07-14T00:00:00\n"
     ]
    }
   ],
   "source": [
    "import logging\n",
    "import requests\n",
    "\n",
    "def findConfig(rg):\n",
    "    for r in rg:\n",
    "        if r.config:\n",
    "            lbrc = last_best_result.config\n",
    "            if all((r.config[k] == v for k, v in last_best_result.config.items() if k != 'fold')):\n",
    "                return r\n",
    "            elif all((r.config[k] == v for k, v in last_best_result.config.items() if k != 'fold' and k != 'window_size')):\n",
    "                print(\"Possible coincidence:\", r.config, file=sys.stderr)\n",
    "\n",
    "    return None\n",
    "\n",
    "tuners = []\n",
    "results = []\n",
    "last_best_result = None\n",
    "pbar.reset()\n",
    "\n",
    "last_best_fold = None\n",
    "requests.post(\"https://ntfy.sh/grasia_notebooks\", data=f\"Start running microsoft_tuning for {ORG_NAME}\")\n",
    "for i, (prev_f_idx, f_idx) in enumerate(zip(it.chain([None], use_folds_idx), use_folds_idx)):\n",
    "    try:\n",
    "        with out:\n",
    "            best_prev_config = None\n",
    "            if last_best_result is not None:\n",
    "                best_prev_config = last_best_result.config.copy()\n",
    "                assert best_prev_config['fold'] == prev_f_idx\n",
    "                best_prev_config['fold'] = f_idx\n",
    "                print(f\"Also evaluating best_prev_config ({OPTIM_METRIC}={last_best_result.metrics[OPTIM_METRIC]}): {best_prev_config}\")\n",
    "                best_prev_config = [best_prev_config]\n",
    "        \n",
    "        t = getTunerOnFold(f_idx, best_prev_config)\n",
    "        tuners.append(t)\n",
    "    \n",
    "        rg = t.fit()\n",
    "        \n",
    "        # FIXME: load results from disk until ray-project/ray#47358 is solved\n",
    "        # https://github.com/ray-project/ray/issues/47358\n",
    "        t = getTunerOnFold(f_idx, best_prev_config)\n",
    "        tuners[-1] = t\n",
    "        rg = t.fit()\n",
    "    \n",
    "        assert rg.num_errors == 0, f\"There are {rg.num_errors} errors\"\n",
    "        assert rg.num_terminated >= NUM_SAMPLES, f'Some samples are not terminated ({rg.num_terminated} != {NUM_SAMPLES})'\n",
    "        assert len(rg.get_dataframe()) >= NUM_SAMPLES\n",
    "        results.append(rg)\n",
    "    \n",
    "        # Assert that the prev config has been tried\n",
    "        if last_best_result is not None:\n",
    "            # if not any( \n",
    "            #     all((r.config[k] == v for k, v in last_best_result.config.items() if k != 'fold'))\n",
    "            #     for r in rg if r.config\n",
    "            # ):\n",
    "            if not findConfig(rg):\n",
    "                print(\"Best config:\", last_best_result.config)\n",
    "                assert False, f\"The best config from previous fold has not been tested in fold {f_idx}\"    \n",
    "            else:\n",
    "                logging.info(f'Fold {f_idx}. Best prev result was {last_best_result.path} and config has been found {findConfig(rg).path}')\n",
    "        \n",
    "        last_best_result = rg.get_best_result()\n",
    "        pbar.update()\n",
    "    \n",
    "        print(f\"Finished training for fold {f_idx}\")\n",
    "        requests.post(\"https://ntfy.sh/grasia_notebooks\", data=f\"Finished running fold {i} for {ORG_NAME}\")\n",
    "    except Exception as e:\n",
    "        requests.post(\"https://ntfy.sh/grasia_notebooks\", data=f\"Error on fold {i} for {ORG_NAME}: {repr(e)}\")\n",
    "        raise\n",
    "\n",
    "pbar.close()"
   ]
  },
  {
   "cell_type": "code",
   "execution_count": 24,
   "id": "4ce3ce9b",
   "metadata": {
    "editable": true,
    "papermill": {
     "duration": null,
     "end_time": null,
     "exception": null,
     "start_time": null,
     "status": "completed"
    },
    "slideshow": {
     "slide_type": ""
    },
    "tags": []
   },
   "outputs": [
    {
     "name": "stdout",
     "output_type": "stream",
     "text": [
      "Finished!\n"
     ]
    }
   ],
   "source": [
    "requests.post(\"https://ntfy.sh/grasia_notebooks\", data=f\"Finished running everything for {ORG_NAME}\")\n",
    "print(\"Finished!\")"
   ]
  }
 ],
 "metadata": {
  "kernelspec": {
   "display_name": "Python 3 (ipykernel)",
   "language": "python",
   "name": "python3"
  },
  "language_info": {
   "codemirror_mode": {
    "name": "ipython",
    "version": 3
   },
   "file_extension": ".py",
   "mimetype": "text/x-python",
   "name": "python",
   "nbconvert_exporter": "python",
   "pygments_lexer": "ipython3",
   "version": "3.11.6"
  },
  "papermill": {
   "default_parameters": {},
   "duration": 42.194832,
   "end_time": "2024-09-09T08:57:55.484677",
   "environment_variables": {},
   "exception": null,
   "input_path": "20_microsoft_tuning.ipynb",
   "output_path": "../nbout/Aura Finance/20_microsoft_tuning.ipynb",
   "parameters": {
    "EXECUTION_ID": "2024-09-04T10:00",
    "LAST_FOLDS": 10,
    "LAST_FOLD_DATE_STR": "2023-07-14",
    "MIN_BATCH_SIZE": 4,
    "ORG_NAME": "Aura Finance",
    "SPLITS_FREQ": "7d",
    "SPLITS_NORMALIZE": true
   },
   "start_time": "2024-09-09T08:57:13.289845",
   "version": "2.6.0"
  },
  "widgets": {
   "application/vnd.jupyter.widget-state+json": {
    "state": {},
    "version_major": 2,
    "version_minor": 0
   }
  }
 },
 "nbformat": 4,
 "nbformat_minor": 5
}
