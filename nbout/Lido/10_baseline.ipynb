{
 "cells": [
  {
   "cell_type": "code",
   "execution_count": 1,
   "id": "5db29825",
   "metadata": {
    "execution": {
     "iopub.execute_input": "2024-09-05T09:28:27.450857Z",
     "iopub.status.busy": "2024-09-05T09:28:27.450357Z",
     "iopub.status.idle": "2024-09-05T09:28:30.122739Z",
     "shell.execute_reply": "2024-09-05T09:28:30.122395Z"
    },
    "papermill": {
     "duration": 2.681282,
     "end_time": "2024-09-05T09:28:30.123411",
     "exception": false,
     "start_time": "2024-09-05T09:28:27.442129",
     "status": "completed"
    },
    "tags": []
   },
   "outputs": [
    {
     "name": "stderr",
     "output_type": "stream",
     "text": [
      "/tmp/ipykernel_3820455/2526015065.py:7: TqdmExperimentalWarning: Using `tqdm.autonotebook.tqdm` in notebook mode. Use `tqdm.tqdm` instead to force console mode (e.g. in jupyter console)\n",
      "  from tqdm.autonotebook import tqdm\n"
     ]
    },
    {
     "name": "stdout",
     "output_type": "stream",
     "text": [
      "Ignoring warnings\n"
     ]
    }
   ],
   "source": [
    "from typing import List\n",
    "import sys\n",
    "from collections import defaultdict\n",
    "\n",
    "import pandas as pd\n",
    "import numpy as np\n",
    "from tqdm.autonotebook import tqdm\n",
    "\n",
    "from recsys4daos.models import OpenPop\n",
    "from recsys4daos.datasets import to_microsoft\n",
    "from recsys4daos.model_selection import cvtt_open\n",
    "from recsys4daos.evaluation import calculate_all_metrics\n",
    "\n",
    "import paths\n",
    "\n",
    "import recommenders\n",
    "if recommenders.__version__ == '1.2.0':\n",
    "    print(\"Ignoring warnings\")\n",
    "    import warnings\n",
    "    warnings.simplefilter(action='ignore', category=FutureWarning)"
   ]
  },
  {
   "cell_type": "code",
   "execution_count": 2,
   "id": "821bc055",
   "metadata": {
    "editable": true,
    "execution": {
     "iopub.execute_input": "2024-09-05T09:28:30.128505Z",
     "iopub.status.busy": "2024-09-05T09:28:30.128134Z",
     "iopub.status.idle": "2024-09-05T09:28:30.130931Z",
     "shell.execute_reply": "2024-09-05T09:28:30.130497Z"
    },
    "papermill": {
     "duration": 0.005811,
     "end_time": "2024-09-05T09:28:30.131479",
     "exception": false,
     "start_time": "2024-09-05T09:28:30.125668",
     "status": "completed"
    },
    "slideshow": {
     "slide_type": ""
    },
    "tags": [
     "parameters"
    ]
   },
   "outputs": [],
   "source": [
    "SPLITS_FREQ = \"W-THU\"\n",
    "SPLITS_NORMALIZE = True\n",
    "ORG_NAME = 'Decentraland'\n",
    "LAST_FOLD_DATE_STR: str = None # Won't use it, we will just calculate for every fold\n",
    "\n",
    "# In this notebook this is just used for plotting and description, not \"training\"\n",
    "# every fold is saved into the results table\n",
    "LAST_FOLDS = 10\n",
    "\n",
    "K_RECOMMENDATIONS: List[int] = [1,3,5,10,15,100]"
   ]
  },
  {
   "cell_type": "code",
   "execution_count": 3,
   "id": "e8b27d6d",
   "metadata": {
    "execution": {
     "iopub.execute_input": "2024-09-05T09:28:30.135321Z",
     "iopub.status.busy": "2024-09-05T09:28:30.135095Z",
     "iopub.status.idle": "2024-09-05T09:28:30.137288Z",
     "shell.execute_reply": "2024-09-05T09:28:30.136976Z"
    },
    "papermill": {
     "duration": 0.004648,
     "end_time": "2024-09-05T09:28:30.137771",
     "exception": false,
     "start_time": "2024-09-05T09:28:30.133123",
     "status": "completed"
    },
    "tags": [
     "injected-parameters"
    ]
   },
   "outputs": [],
   "source": [
    "# Parameters\n",
    "EXECUTION_ID = \"2024-09-04T10:00\"\n",
    "ORG_NAME = \"Lido\"\n",
    "SPLITS_FREQ = \"W-WED\"\n",
    "LAST_FOLDS = 10\n",
    "SPLITS_NORMALIZE = True\n",
    "LAST_FOLD_DATE_STR = \"2022-07-06\"\n"
   ]
  },
  {
   "cell_type": "markdown",
   "id": "028ef489",
   "metadata": {
    "papermill": {
     "duration": 0.001594,
     "end_time": "2024-09-05T09:28:30.141013",
     "exception": false,
     "start_time": "2024-09-05T09:28:30.139419",
     "status": "completed"
    },
    "tags": []
   },
   "source": [
    "## Obtain dataset"
   ]
  },
  {
   "cell_type": "code",
   "execution_count": 4,
   "id": "69ff1947",
   "metadata": {
    "execution": {
     "iopub.execute_input": "2024-09-05T09:28:30.144714Z",
     "iopub.status.busy": "2024-09-05T09:28:30.144603Z",
     "iopub.status.idle": "2024-09-05T09:28:30.268969Z",
     "shell.execute_reply": "2024-09-05T09:28:30.267095Z"
    },
    "papermill": {
     "duration": 0.129977,
     "end_time": "2024-09-05T09:28:30.272664",
     "exception": false,
     "start_time": "2024-09-05T09:28:30.142687",
     "status": "completed"
    },
    "tags": []
   },
   "outputs": [
    {
     "name": "stdout",
     "output_type": "stream",
     "text": [
      "/home/daviddavo/recsys4daos/notebooks\r\n"
     ]
    }
   ],
   "source": [
    "!pwd"
   ]
  },
  {
   "cell_type": "code",
   "execution_count": 5,
   "id": "a6684a00",
   "metadata": {
    "execution": {
     "iopub.execute_input": "2024-09-05T09:28:30.291218Z",
     "iopub.status.busy": "2024-09-05T09:28:30.290973Z",
     "iopub.status.idle": "2024-09-05T09:28:30.418213Z",
     "shell.execute_reply": "2024-09-05T09:28:30.415562Z"
    },
    "papermill": {
     "duration": 0.13858,
     "end_time": "2024-09-05T09:28:30.422123",
     "exception": false,
     "start_time": "2024-09-05T09:28:30.283543",
     "status": "completed"
    },
    "tags": []
   },
   "outputs": [
    {
     "name": "stdout",
     "output_type": "stream",
     "text": [
      "md5sum: '../data/decentraland/*': No such file or directory\r\n"
     ]
    }
   ],
   "source": [
    "!md5sum ../data/decentraland/*"
   ]
  },
  {
   "cell_type": "code",
   "execution_count": 6,
   "id": "b1bc9266",
   "metadata": {
    "execution": {
     "iopub.execute_input": "2024-09-05T09:28:30.441914Z",
     "iopub.status.busy": "2024-09-05T09:28:30.441530Z",
     "iopub.status.idle": "2024-09-05T09:28:30.494326Z",
     "shell.execute_reply": "2024-09-05T09:28:30.494087Z"
    },
    "papermill": {
     "duration": 0.062983,
     "end_time": "2024-09-05T09:28:30.495024",
     "exception": false,
     "start_time": "2024-09-05T09:28:30.432041",
     "status": "completed"
    },
    "tags": []
   },
   "outputs": [
    {
     "name": "stdout",
     "output_type": "stream",
     "text": [
      "<class 'pandas.core.frame.DataFrame'>\n",
      "RangeIndex: 223 entries, 0 to 222\n",
      "Data columns (total 6 columns):\n",
      " #   Column             Non-Null Count  Dtype         \n",
      "---  ------             --------------  -----         \n",
      " 0   id                 223 non-null    object        \n",
      " 1   author             223 non-null    object        \n",
      " 2   date               223 non-null    datetime64[us]\n",
      " 3   start              223 non-null    datetime64[us]\n",
      " 4   end                223 non-null    datetime64[us]\n",
      " 5   platform_proposal  223 non-null    object        \n",
      "dtypes: datetime64[us](3), object(3)\n",
      "memory usage: 10.6+ KB\n",
      "None\n",
      "<class 'pandas.core.frame.DataFrame'>\n",
      "RangeIndex: 56473 entries, 0 to 56472\n",
      "Data columns (total 4 columns):\n",
      " #   Column    Non-Null Count  Dtype         \n",
      "---  ------    --------------  -----         \n",
      " 0   id        56473 non-null  object        \n",
      " 1   proposal  56473 non-null  object        \n",
      " 2   voter     56473 non-null  object        \n",
      " 3   date      56473 non-null  datetime64[us]\n",
      "dtypes: datetime64[us](1), object(3)\n",
      "memory usage: 1.7+ MB\n",
      "None\n",
      "<class 'pandas.core.frame.DataFrame'>\n",
      "RangeIndex: 56473 entries, 0 to 56472\n",
      "Data columns (total 4 columns):\n",
      " #   Column     Non-Null Count  Dtype         \n",
      "---  ------     --------------  -----         \n",
      " 0   userID     56473 non-null  object        \n",
      " 1   itemID     56473 non-null  object        \n",
      " 2   timestamp  56473 non-null  datetime64[us]\n",
      " 3   rating     56473 non-null  int64         \n",
      "dtypes: datetime64[us](1), int64(1), object(2)\n",
      "memory usage: 1.7+ MB\n",
      "None\n"
     ]
    }
   ],
   "source": [
    "dfp = paths.load_proposals(ORG_NAME)\n",
    "dfv = paths.load_votes(ORG_NAME)\n",
    "\n",
    "df = to_microsoft(dfv)\n",
    "\n",
    "print(dfp.info())\n",
    "print(dfv.info())\n",
    "print(df.info())"
   ]
  },
  {
   "cell_type": "markdown",
   "id": "e2b875fb",
   "metadata": {
    "papermill": {
     "duration": 0.002125,
     "end_time": "2024-09-05T09:28:30.499566",
     "exception": false,
     "start_time": "2024-09-05T09:28:30.497441",
     "status": "completed"
    },
    "tags": []
   },
   "source": [
    "## Showing some info of the folds"
   ]
  },
  {
   "cell_type": "code",
   "execution_count": 7,
   "id": "a3974d02",
   "metadata": {
    "execution": {
     "iopub.execute_input": "2024-09-05T09:28:30.503865Z",
     "iopub.status.busy": "2024-09-05T09:28:30.503755Z",
     "iopub.status.idle": "2024-09-05T09:28:31.605666Z",
     "shell.execute_reply": "2024-09-05T09:28:31.605454Z"
    },
    "papermill": {
     "duration": 1.105014,
     "end_time": "2024-09-05T09:28:31.606431",
     "exception": false,
     "start_time": "2024-09-05T09:28:30.501417",
     "status": "completed"
    },
    "tags": []
   },
   "outputs": [
    {
     "name": "stdout",
     "output_type": "stream",
     "text": [
      "Saved dataframe into /home/daviddavo/recsys4daos/data/output/Lido/baseline/folds-info_W-WED_normalize.parquet\n",
      "fold\n",
      "2023-04-26    48534\n",
      "2023-05-03    49006\n",
      "2023-05-10    51767\n",
      "2023-05-17    52303\n",
      "2023-05-24    52949\n",
      "2023-05-31    54572\n",
      "2023-06-07    54993\n",
      "2023-06-14    55022\n",
      "2023-06-21    55022\n",
      "2023-06-28    56263\n",
      "Name: votes in train, dtype: int64\n"
     ]
    },
    {
     "data": {
      "text/html": [
       "<style type=\"text/css\">\n",
       "</style>\n",
       "<table id=\"T_b93ad\">\n",
       "  <thead>\n",
       "    <tr>\n",
       "      <th class=\"blank level0\" >&nbsp;</th>\n",
       "      <th id=\"T_b93ad_level0_col0\" class=\"col_heading level0 col0\" >open proposals</th>\n",
       "      <th id=\"T_b93ad_level0_col1\" class=\"col_heading level0 col1\" >votes in open proposals (train)</th>\n",
       "      <th id=\"T_b93ad_level0_col2\" class=\"col_heading level0 col2\" >users in open proposals (train)</th>\n",
       "      <th id=\"T_b93ad_level0_col3\" class=\"col_heading level0 col3\" >vpp in open proposals (train)</th>\n",
       "      <th id=\"T_b93ad_level0_col4\" class=\"col_heading level0 col4\" >vpu in open proposals (train)</th>\n",
       "      <th id=\"T_b93ad_level0_col5\" class=\"col_heading level0 col5\" >votes in test</th>\n",
       "      <th id=\"T_b93ad_level0_col6\" class=\"col_heading level0 col6\" >users in test</th>\n",
       "      <th id=\"T_b93ad_level0_col7\" class=\"col_heading level0 col7\" >vpp test</th>\n",
       "      <th id=\"T_b93ad_level0_col8\" class=\"col_heading level0 col8\" >vpu test</th>\n",
       "    </tr>\n",
       "    <tr>\n",
       "      <th class=\"index_name level0\" >fold</th>\n",
       "      <th class=\"blank col0\" >&nbsp;</th>\n",
       "      <th class=\"blank col1\" >&nbsp;</th>\n",
       "      <th class=\"blank col2\" >&nbsp;</th>\n",
       "      <th class=\"blank col3\" >&nbsp;</th>\n",
       "      <th class=\"blank col4\" >&nbsp;</th>\n",
       "      <th class=\"blank col5\" >&nbsp;</th>\n",
       "      <th class=\"blank col6\" >&nbsp;</th>\n",
       "      <th class=\"blank col7\" >&nbsp;</th>\n",
       "      <th class=\"blank col8\" >&nbsp;</th>\n",
       "    </tr>\n",
       "  </thead>\n",
       "  <tbody>\n",
       "    <tr>\n",
       "      <th id=\"T_b93ad_level0_row0\" class=\"row_heading level0 row0\" >2023-W17</th>\n",
       "      <td id=\"T_b93ad_row0_col0\" class=\"data row0 col0\" >2</td>\n",
       "      <td id=\"T_b93ad_row0_col1\" class=\"data row0 col1\" >1469</td>\n",
       "      <td id=\"T_b93ad_row0_col2\" class=\"data row0 col2\" >792</td>\n",
       "      <td id=\"T_b93ad_row0_col3\" class=\"data row0 col3\" >734.50</td>\n",
       "      <td id=\"T_b93ad_row0_col4\" class=\"data row0 col4\" >1.85</td>\n",
       "      <td id=\"T_b93ad_row0_col5\" class=\"data row0 col5\" >443</td>\n",
       "      <td id=\"T_b93ad_row0_col6\" class=\"data row0 col6\" >258</td>\n",
       "      <td id=\"T_b93ad_row0_col7\" class=\"data row0 col7\" >221.50</td>\n",
       "      <td id=\"T_b93ad_row0_col8\" class=\"data row0 col8\" >1.72</td>\n",
       "    </tr>\n",
       "    <tr>\n",
       "      <th id=\"T_b93ad_level0_row1\" class=\"row_heading level0 row1\" >2023-W18</th>\n",
       "      <td id=\"T_b93ad_row1_col0\" class=\"data row1 col0\" >0</td>\n",
       "      <td id=\"T_b93ad_row1_col1\" class=\"data row1 col1\" >0</td>\n",
       "      <td id=\"T_b93ad_row1_col2\" class=\"data row1 col2\" >0</td>\n",
       "      <td id=\"T_b93ad_row1_col3\" class=\"data row1 col3\" >nan</td>\n",
       "      <td id=\"T_b93ad_row1_col4\" class=\"data row1 col4\" >nan</td>\n",
       "      <td id=\"T_b93ad_row1_col5\" class=\"data row1 col5\" >0</td>\n",
       "      <td id=\"T_b93ad_row1_col6\" class=\"data row1 col6\" >0</td>\n",
       "      <td id=\"T_b93ad_row1_col7\" class=\"data row1 col7\" >nan</td>\n",
       "      <td id=\"T_b93ad_row1_col8\" class=\"data row1 col8\" >nan</td>\n",
       "    </tr>\n",
       "    <tr>\n",
       "      <th id=\"T_b93ad_level0_row2\" class=\"row_heading level0 row2\" >2023-W19</th>\n",
       "      <td id=\"T_b93ad_row2_col0\" class=\"data row2 col0\" >4</td>\n",
       "      <td id=\"T_b93ad_row2_col1\" class=\"data row2 col1\" >2761</td>\n",
       "      <td id=\"T_b93ad_row2_col2\" class=\"data row2 col2\" >900</td>\n",
       "      <td id=\"T_b93ad_row2_col3\" class=\"data row2 col3\" >690.25</td>\n",
       "      <td id=\"T_b93ad_row2_col4\" class=\"data row2 col4\" >3.07</td>\n",
       "      <td id=\"T_b93ad_row2_col5\" class=\"data row2 col5\" >532</td>\n",
       "      <td id=\"T_b93ad_row2_col6\" class=\"data row2 col6\" >203</td>\n",
       "      <td id=\"T_b93ad_row2_col7\" class=\"data row2 col7\" >133.00</td>\n",
       "      <td id=\"T_b93ad_row2_col8\" class=\"data row2 col8\" >2.62</td>\n",
       "    </tr>\n",
       "    <tr>\n",
       "      <th id=\"T_b93ad_level0_row3\" class=\"row_heading level0 row3\" >2023-W20</th>\n",
       "      <td id=\"T_b93ad_row3_col0\" class=\"data row3 col0\" >0</td>\n",
       "      <td id=\"T_b93ad_row3_col1\" class=\"data row3 col1\" >0</td>\n",
       "      <td id=\"T_b93ad_row3_col2\" class=\"data row3 col2\" >0</td>\n",
       "      <td id=\"T_b93ad_row3_col3\" class=\"data row3 col3\" >nan</td>\n",
       "      <td id=\"T_b93ad_row3_col4\" class=\"data row3 col4\" >nan</td>\n",
       "      <td id=\"T_b93ad_row3_col5\" class=\"data row3 col5\" >0</td>\n",
       "      <td id=\"T_b93ad_row3_col6\" class=\"data row3 col6\" >0</td>\n",
       "      <td id=\"T_b93ad_row3_col7\" class=\"data row3 col7\" >nan</td>\n",
       "      <td id=\"T_b93ad_row3_col8\" class=\"data row3 col8\" >nan</td>\n",
       "    </tr>\n",
       "    <tr>\n",
       "      <th id=\"T_b93ad_level0_row4\" class=\"row_heading level0 row4\" >2023-W21</th>\n",
       "      <td id=\"T_b93ad_row4_col0\" class=\"data row4 col0\" >2</td>\n",
       "      <td id=\"T_b93ad_row4_col1\" class=\"data row4 col1\" >476</td>\n",
       "      <td id=\"T_b93ad_row4_col2\" class=\"data row4 col2\" >460</td>\n",
       "      <td id=\"T_b93ad_row4_col3\" class=\"data row4 col3\" >238.00</td>\n",
       "      <td id=\"T_b93ad_row4_col4\" class=\"data row4 col4\" >1.03</td>\n",
       "      <td id=\"T_b93ad_row4_col5\" class=\"data row4 col5\" >288</td>\n",
       "      <td id=\"T_b93ad_row4_col6\" class=\"data row4 col6\" >283</td>\n",
       "      <td id=\"T_b93ad_row4_col7\" class=\"data row4 col7\" >144.00</td>\n",
       "      <td id=\"T_b93ad_row4_col8\" class=\"data row4 col8\" >1.02</td>\n",
       "    </tr>\n",
       "    <tr>\n",
       "      <th id=\"T_b93ad_level0_row5\" class=\"row_heading level0 row5\" >2023-W22</th>\n",
       "      <td id=\"T_b93ad_row5_col0\" class=\"data row5 col0\" >4</td>\n",
       "      <td id=\"T_b93ad_row5_col1\" class=\"data row5 col1\" >1440</td>\n",
       "      <td id=\"T_b93ad_row5_col2\" class=\"data row5 col2\" >561</td>\n",
       "      <td id=\"T_b93ad_row5_col3\" class=\"data row5 col3\" >360.00</td>\n",
       "      <td id=\"T_b93ad_row5_col4\" class=\"data row5 col4\" >2.57</td>\n",
       "      <td id=\"T_b93ad_row5_col5\" class=\"data row5 col5\" >411</td>\n",
       "      <td id=\"T_b93ad_row5_col6\" class=\"data row5 col6\" >190</td>\n",
       "      <td id=\"T_b93ad_row5_col7\" class=\"data row5 col7\" >102.75</td>\n",
       "      <td id=\"T_b93ad_row5_col8\" class=\"data row5 col8\" >2.16</td>\n",
       "    </tr>\n",
       "    <tr>\n",
       "      <th id=\"T_b93ad_level0_row6\" class=\"row_heading level0 row6\" >2023-W23</th>\n",
       "      <td id=\"T_b93ad_row6_col0\" class=\"data row6 col0\" >1</td>\n",
       "      <td id=\"T_b93ad_row6_col1\" class=\"data row6 col1\" >113</td>\n",
       "      <td id=\"T_b93ad_row6_col2\" class=\"data row6 col2\" >113</td>\n",
       "      <td id=\"T_b93ad_row6_col3\" class=\"data row6 col3\" >113.00</td>\n",
       "      <td id=\"T_b93ad_row6_col4\" class=\"data row6 col4\" >1.00</td>\n",
       "      <td id=\"T_b93ad_row6_col5\" class=\"data row6 col5\" >24</td>\n",
       "      <td id=\"T_b93ad_row6_col6\" class=\"data row6 col6\" >24</td>\n",
       "      <td id=\"T_b93ad_row6_col7\" class=\"data row6 col7\" >24.00</td>\n",
       "      <td id=\"T_b93ad_row6_col8\" class=\"data row6 col8\" >1.00</td>\n",
       "    </tr>\n",
       "    <tr>\n",
       "      <th id=\"T_b93ad_level0_row7\" class=\"row_heading level0 row7\" >2023-W24</th>\n",
       "      <td id=\"T_b93ad_row7_col0\" class=\"data row7 col0\" >0</td>\n",
       "      <td id=\"T_b93ad_row7_col1\" class=\"data row7 col1\" >0</td>\n",
       "      <td id=\"T_b93ad_row7_col2\" class=\"data row7 col2\" >0</td>\n",
       "      <td id=\"T_b93ad_row7_col3\" class=\"data row7 col3\" >nan</td>\n",
       "      <td id=\"T_b93ad_row7_col4\" class=\"data row7 col4\" >nan</td>\n",
       "      <td id=\"T_b93ad_row7_col5\" class=\"data row7 col5\" >0</td>\n",
       "      <td id=\"T_b93ad_row7_col6\" class=\"data row7 col6\" >0</td>\n",
       "      <td id=\"T_b93ad_row7_col7\" class=\"data row7 col7\" >nan</td>\n",
       "      <td id=\"T_b93ad_row7_col8\" class=\"data row7 col8\" >nan</td>\n",
       "    </tr>\n",
       "    <tr>\n",
       "      <th id=\"T_b93ad_level0_row8\" class=\"row_heading level0 row8\" >2023-W25</th>\n",
       "      <td id=\"T_b93ad_row8_col0\" class=\"data row8 col0\" >0</td>\n",
       "      <td id=\"T_b93ad_row8_col1\" class=\"data row8 col1\" >0</td>\n",
       "      <td id=\"T_b93ad_row8_col2\" class=\"data row8 col2\" >0</td>\n",
       "      <td id=\"T_b93ad_row8_col3\" class=\"data row8 col3\" >nan</td>\n",
       "      <td id=\"T_b93ad_row8_col4\" class=\"data row8 col4\" >nan</td>\n",
       "      <td id=\"T_b93ad_row8_col5\" class=\"data row8 col5\" >0</td>\n",
       "      <td id=\"T_b93ad_row8_col6\" class=\"data row8 col6\" >0</td>\n",
       "      <td id=\"T_b93ad_row8_col7\" class=\"data row8 col7\" >nan</td>\n",
       "      <td id=\"T_b93ad_row8_col8\" class=\"data row8 col8\" >nan</td>\n",
       "    </tr>\n",
       "    <tr>\n",
       "      <th id=\"T_b93ad_level0_row9\" class=\"row_heading level0 row9\" >2023-W26</th>\n",
       "      <td id=\"T_b93ad_row9_col0\" class=\"data row9 col0\" >4</td>\n",
       "      <td id=\"T_b93ad_row9_col1\" class=\"data row9 col1\" >1241</td>\n",
       "      <td id=\"T_b93ad_row9_col2\" class=\"data row9 col2\" >476</td>\n",
       "      <td id=\"T_b93ad_row9_col3\" class=\"data row9 col3\" >310.25</td>\n",
       "      <td id=\"T_b93ad_row9_col4\" class=\"data row9 col4\" >2.61</td>\n",
       "      <td id=\"T_b93ad_row9_col5\" class=\"data row9 col5\" >188</td>\n",
       "      <td id=\"T_b93ad_row9_col6\" class=\"data row9 col6\" >87</td>\n",
       "      <td id=\"T_b93ad_row9_col7\" class=\"data row9 col7\" >47.00</td>\n",
       "      <td id=\"T_b93ad_row9_col8\" class=\"data row9 col8\" >2.16</td>\n",
       "    </tr>\n",
       "  </tbody>\n",
       "</table>\n"
      ],
      "text/plain": [
       "<pandas.io.formats.style.Styler at 0x7f9481418910>"
      ]
     },
     "execution_count": 7,
     "metadata": {},
     "output_type": "execute_result"
    }
   ],
   "source": [
    "sdd = defaultdict(list)\n",
    "\n",
    "for dftrain, dftest, t, openproposals in cvtt_open(to_microsoft(dfv), SPLITS_FREQ, dfp.reset_index(), remove_not_in_train_col='userID', normalize=SPLITS_NORMALIZE):\n",
    "    dftrain_filter = dftrain[dftrain['itemID'].isin(openproposals)]\n",
    "    \n",
    "    sdd['fold'].append(t)\n",
    "    sdd['open proposals'].append(len(openproposals))\n",
    "    \n",
    "    sdd['proposals in train'].append(dftrain['itemID'].nunique())\n",
    "    sdd['votes in train'].append(len(dftrain))\n",
    "    sdd['votes in open proposals (train)'].append(len(dftrain_filter))\n",
    "    sdd['users in open proposals (train)'].append(dftrain_filter['userID'].nunique())\n",
    "    sdd['votes in test'].append(len(dftest))\n",
    "    sdd['users in train'].append(dftrain['userID'].nunique())\n",
    "    sdd['users in test'].append(dftest['userID'].nunique())\n",
    "\n",
    "sdf_all = pd.DataFrame(sdd).set_index('fold')\n",
    "sdf_all['vpp in open proposals (train)'] = sdf_all['votes in open proposals (train)'] / sdf_all['open proposals']\n",
    "sdf_all['vpu in open proposals (train)'] = sdf_all['votes in open proposals (train)'] / sdf_all['users in open proposals (train)']\n",
    "sdf_all['vpp test'] = sdf_all['votes in test'] / sdf_all['open proposals']\n",
    "sdf_all['vpu test'] = sdf_all['votes in test'] / sdf_all['users in test']\n",
    "paths.save_folds_info(sdf_all, ORG_NAME, SPLITS_FREQ, SPLITS_NORMALIZE)\n",
    "sdf = sdf_all.tail(LAST_FOLDS)\n",
    "print(sdf['votes in train'])\n",
    "_style = sdf[['open proposals', 'votes in open proposals (train)', 'users in open proposals (train)', 'vpp in open proposals (train)', 'vpu in open proposals (train)', 'votes in test', 'users in test', 'vpp test', 'vpu test']].style\n",
    "_style = _style.format_index('{:%G-W%V}').format(precision=2)\n",
    "_style"
   ]
  },
  {
   "cell_type": "code",
   "execution_count": 8,
   "id": "c3c921a0",
   "metadata": {
    "execution": {
     "iopub.execute_input": "2024-09-05T09:28:31.611970Z",
     "iopub.status.busy": "2024-09-05T09:28:31.611771Z",
     "iopub.status.idle": "2024-09-05T09:28:31.622817Z",
     "shell.execute_reply": "2024-09-05T09:28:31.622385Z"
    },
    "papermill": {
     "duration": 0.014709,
     "end_time": "2024-09-05T09:28:31.623532",
     "exception": false,
     "start_time": "2024-09-05T09:28:31.608823",
     "status": "completed"
    },
    "tags": []
   },
   "outputs": [
    {
     "name": "stdout",
     "output_type": "stream",
     "text": [
      "\\begin{tabular}{lrrrrrrrrr}\n",
      " & \\textbf{open proposals} & \\textbf{votes in open proposals (train)} & \\textbf{users in open proposals (train)} & \\textbf{vpp in open proposals (train)} & \\textbf{vpu in open proposals (train)} & \\textbf{votes in test} & \\textbf{users in test} & \\textbf{vpp test} & \\textbf{vpu test} \\\\\n",
      "fold &  &  &  &  &  &  &  &  &  \\\\\n",
      "2023-W17 & 2 & 1469 & 792 & 734.50 & 1.85 & 443 & 258 & 221.50 & 1.72 \\\\\n",
      "2023-W18 & 0 & 0 & 0 & nan & nan & 0 & 0 & nan & nan \\\\\n",
      "2023-W19 & 4 & 2761 & 900 & 690.25 & 3.07 & 532 & 203 & 133.00 & 2.62 \\\\\n",
      "2023-W20 & 0 & 0 & 0 & nan & nan & 0 & 0 & nan & nan \\\\\n",
      "2023-W21 & 2 & 476 & 460 & 238.00 & 1.03 & 288 & 283 & 144.00 & 1.02 \\\\\n",
      "2023-W22 & 4 & 1440 & 561 & 360.00 & 2.57 & 411 & 190 & 102.75 & 2.16 \\\\\n",
      "2023-W23 & 1 & 113 & 113 & 113.00 & 1.00 & 24 & 24 & 24.00 & 1.00 \\\\\n",
      "2023-W24 & 0 & 0 & 0 & nan & nan & 0 & 0 & nan & nan \\\\\n",
      "2023-W25 & 0 & 0 & 0 & nan & nan & 0 & 0 & nan & nan \\\\\n",
      "2023-W26 & 4 & 1241 & 476 & 310.25 & 2.61 & 188 & 87 & 47.00 & 2.16 \\\\\n",
      "\\end{tabular}\n",
      "\n"
     ]
    }
   ],
   "source": [
    "print(_style\n",
    "  .format_index(\"\\\\textbf{{{}}}\", escape=\"latex\", axis=1)\n",
    "  .to_latex()\n",
    ")"
   ]
  },
  {
   "cell_type": "markdown",
   "id": "6fb3fe2c",
   "metadata": {
    "papermill": {
     "duration": 0.002028,
     "end_time": "2024-09-05T09:28:31.627577",
     "exception": false,
     "start_time": "2024-09-05T09:28:31.625549",
     "status": "completed"
    },
    "tags": []
   },
   "source": [
    "## Running openpop baseline"
   ]
  },
  {
   "cell_type": "code",
   "execution_count": 9,
   "id": "71d87ef1",
   "metadata": {
    "execution": {
     "iopub.execute_input": "2024-09-05T09:28:31.632117Z",
     "iopub.status.busy": "2024-09-05T09:28:31.632003Z",
     "iopub.status.idle": "2024-09-05T09:29:02.746155Z",
     "shell.execute_reply": "2024-09-05T09:29:02.745936Z"
    },
    "papermill": {
     "duration": 31.117362,
     "end_time": "2024-09-05T09:29:02.746895",
     "exception": false,
     "start_time": "2024-09-05T09:28:31.629533",
     "status": "completed"
    },
    "tags": []
   },
   "outputs": [
    {
     "data": {
      "application/vnd.jupyter.widget-view+json": {
       "model_id": "d6ecafd4ad1c46f898d66a6b47ff736c",
       "version_major": 2,
       "version_minor": 0
      },
      "text/plain": [
       "  0%|          | 0/126 [00:00<?, ?it/s]"
      ]
     },
     "metadata": {},
     "output_type": "display_data"
    },
    {
     "name": "stderr",
     "output_type": "stream",
     "text": [
      "Warning, empty test fold 0 (2021-02-03 00:00:00), all ok since 0 folds ago\n",
      "Warning, empty test fold 1 (2021-02-10 00:00:00), all ok since 1 folds ago\n"
     ]
    },
    {
     "name": "stderr",
     "output_type": "stream",
     "text": [
      "Warning, empty test fold 2 (2021-02-17 00:00:00), all ok since 1 folds ago\n",
      "Warning, empty test fold 3 (2021-02-24 00:00:00), all ok since 1 folds ago\n"
     ]
    },
    {
     "name": "stderr",
     "output_type": "stream",
     "text": [
      "Warning, empty test fold 4 (2021-03-03 00:00:00), all ok since 1 folds ago\n",
      "Warning, empty test fold 5 (2021-03-10 00:00:00), all ok since 1 folds ago\n"
     ]
    },
    {
     "name": "stderr",
     "output_type": "stream",
     "text": [
      "Warning, empty test fold 6 (2021-03-17 00:00:00), all ok since 1 folds ago\n",
      "Warning, empty test fold 7 (2021-03-24 00:00:00), all ok since 1 folds ago\n"
     ]
    },
    {
     "name": "stderr",
     "output_type": "stream",
     "text": [
      "Warning, empty test fold 8 (2021-03-31 00:00:00), all ok since 1 folds ago\n",
      "Warning, empty test fold 9 (2021-04-07 00:00:00), all ok since 1 folds ago\n"
     ]
    },
    {
     "name": "stderr",
     "output_type": "stream",
     "text": [
      "Warning, empty test fold 10 (2021-04-14 00:00:00), all ok since 1 folds ago\n",
      "Warning, empty test fold 11 (2021-04-21 00:00:00), all ok since 1 folds ago\n"
     ]
    },
    {
     "name": "stderr",
     "output_type": "stream",
     "text": [
      "Warning, test fold 12 (2021-04-28 00:00:00) with less than 5 open proposals (1). all ok since 1 folds ago\n"
     ]
    },
    {
     "name": "stderr",
     "output_type": "stream",
     "text": [
      "Warning, empty test fold 13 (2021-05-05 00:00:00), all ok since 2 folds ago\n",
      "Warning, empty test fold 14 (2021-05-12 00:00:00), all ok since 1 folds ago\n"
     ]
    },
    {
     "name": "stderr",
     "output_type": "stream",
     "text": [
      "Warning, test fold 15 (2021-05-19 00:00:00) with less than 5 open proposals (1). all ok since 1 folds ago\n"
     ]
    },
    {
     "name": "stderr",
     "output_type": "stream",
     "text": [
      "Warning, empty test fold 16 (2021-05-26 00:00:00), all ok since 2 folds ago\n",
      "Warning, empty test fold 17 (2021-06-02 00:00:00), all ok since 1 folds ago\n"
     ]
    },
    {
     "name": "stderr",
     "output_type": "stream",
     "text": [
      "Warning, empty test fold 18 (2021-06-09 00:00:00), all ok since 1 folds ago\n",
      "Warning, test fold 19 (2021-06-16 00:00:00) with less than 5 open proposals (1). all ok since 1 folds ago\n"
     ]
    },
    {
     "name": "stderr",
     "output_type": "stream",
     "text": [
      "Warning, empty test fold 20 (2021-06-23 00:00:00), all ok since 2 folds ago\n",
      "Warning, empty test fold 21 (2021-06-30 00:00:00), all ok since 1 folds ago\n"
     ]
    },
    {
     "name": "stderr",
     "output_type": "stream",
     "text": [
      "Warning, test fold 22 (2021-07-07 00:00:00) with less than 5 open proposals (1). all ok since 1 folds ago\n"
     ]
    },
    {
     "name": "stderr",
     "output_type": "stream",
     "text": [
      "Warning, empty test fold 23 (2021-07-14 00:00:00), all ok since 2 folds ago\n",
      "Warning, empty test fold 24 (2021-07-21 00:00:00), all ok since 1 folds ago\n"
     ]
    },
    {
     "name": "stderr",
     "output_type": "stream",
     "text": [
      "Warning, empty test fold 25 (2021-07-28 00:00:00), all ok since 1 folds ago\n",
      "Warning, empty test fold 26 (2021-08-04 00:00:00), all ok since 1 folds ago\n"
     ]
    },
    {
     "name": "stderr",
     "output_type": "stream",
     "text": [
      "Warning, test fold 27 (2021-08-11 00:00:00) with less than 5 open proposals (2). all ok since 1 folds ago\n"
     ]
    },
    {
     "name": "stderr",
     "output_type": "stream",
     "text": [
      "Warning, test fold 28 (2021-08-18 00:00:00) with less than 5 open proposals (4). all ok since 1 folds ago\n"
     ]
    },
    {
     "name": "stderr",
     "output_type": "stream",
     "text": [
      "Warning, empty test fold 29 (2021-08-25 00:00:00), all ok since 3 folds ago\n",
      "Warning, test fold 30 (2021-09-01 00:00:00) with less than 5 open proposals (2). all ok since 1 folds ago\n"
     ]
    },
    {
     "name": "stderr",
     "output_type": "stream",
     "text": [
      "Warning, test fold 31 (2021-09-08 00:00:00) with less than 5 open proposals (2). all ok since 1 folds ago\n"
     ]
    },
    {
     "name": "stderr",
     "output_type": "stream",
     "text": [
      "Warning, test fold 32 (2021-09-15 00:00:00) with less than 5 open proposals (2). all ok since 1 folds ago\n"
     ]
    },
    {
     "name": "stderr",
     "output_type": "stream",
     "text": [
      "Warning, empty test fold 33 (2021-09-22 00:00:00), all ok since 4 folds ago\n",
      "Warning, test fold 34 (2021-09-29 00:00:00) with less than 5 open proposals (2). all ok since 1 folds ago\n"
     ]
    },
    {
     "name": "stderr",
     "output_type": "stream",
     "text": [
      "Warning, empty test fold 35 (2021-10-06 00:00:00), all ok since 2 folds ago\n",
      "Warning, empty test fold 36 (2021-10-13 00:00:00), all ok since 1 folds ago\n"
     ]
    },
    {
     "name": "stderr",
     "output_type": "stream",
     "text": [
      "Warning, empty test fold 37 (2021-10-20 00:00:00), all ok since 1 folds ago\n",
      "Warning, test fold 38 (2021-10-27 00:00:00) with less than 5 open proposals (1). all ok since 1 folds ago\n"
     ]
    },
    {
     "name": "stderr",
     "output_type": "stream",
     "text": [
      "Warning, test fold 39 (2021-11-03 00:00:00) with less than 5 open proposals (1). all ok since 1 folds ago\n"
     ]
    },
    {
     "name": "stderr",
     "output_type": "stream",
     "text": [
      "Warning, empty test fold 40 (2021-11-10 00:00:00), all ok since 3 folds ago\n",
      "Warning, empty test fold 41 (2021-11-17 00:00:00), all ok since 1 folds ago\n"
     ]
    },
    {
     "name": "stderr",
     "output_type": "stream",
     "text": [
      "Warning, empty test fold 42 (2021-11-24 00:00:00), all ok since 1 folds ago\n",
      "Warning, empty test fold 43 (2021-12-01 00:00:00), all ok since 1 folds ago\n"
     ]
    },
    {
     "name": "stderr",
     "output_type": "stream",
     "text": [
      "Warning, test fold 44 (2021-12-08 00:00:00) with less than 5 open proposals (1). all ok since 1 folds ago\n"
     ]
    },
    {
     "name": "stderr",
     "output_type": "stream",
     "text": [
      "Warning, test fold 45 (2021-12-15 00:00:00) with less than 5 open proposals (1). all ok since 1 folds ago\n"
     ]
    },
    {
     "name": "stderr",
     "output_type": "stream",
     "text": [
      "Warning, empty test fold 46 (2021-12-22 00:00:00), all ok since 3 folds ago\n",
      "Warning, empty test fold 47 (2021-12-29 00:00:00), all ok since 1 folds ago\n"
     ]
    },
    {
     "name": "stderr",
     "output_type": "stream",
     "text": [
      "Warning, test fold 48 (2022-01-05 00:00:00) with less than 5 open proposals (1). all ok since 1 folds ago\n"
     ]
    },
    {
     "name": "stderr",
     "output_type": "stream",
     "text": [
      "Warning, test fold 49 (2022-01-12 00:00:00) with less than 5 open proposals (1). all ok since 1 folds ago\n"
     ]
    },
    {
     "name": "stderr",
     "output_type": "stream",
     "text": [
      "Warning, empty test fold 50 (2022-01-19 00:00:00), all ok since 3 folds ago\n",
      "Warning, test fold 51 (2022-01-26 00:00:00) with less than 5 open proposals (2). all ok since 1 folds ago\n"
     ]
    },
    {
     "name": "stderr",
     "output_type": "stream",
     "text": [
      "Warning, test fold 52 (2022-02-02 00:00:00) with less than 5 open proposals (1). all ok since 1 folds ago\n"
     ]
    },
    {
     "name": "stderr",
     "output_type": "stream",
     "text": [
      "Warning, test fold 53 (2022-02-09 00:00:00) with less than 5 open proposals (1). all ok since 1 folds ago\n"
     ]
    },
    {
     "name": "stderr",
     "output_type": "stream",
     "text": [
      "Warning, test fold 54 (2022-02-16 00:00:00) with less than 5 open proposals (3). all ok since 1 folds ago\n"
     ]
    },
    {
     "name": "stderr",
     "output_type": "stream",
     "text": [
      "Warning, test fold 55 (2022-02-23 00:00:00) with less than 5 open proposals (2). all ok since 1 folds ago\n"
     ]
    },
    {
     "name": "stderr",
     "output_type": "stream",
     "text": [
      "Warning, test fold 56 (2022-03-02 00:00:00) with less than 5 open proposals (1). all ok since 1 folds ago\n"
     ]
    },
    {
     "name": "stderr",
     "output_type": "stream",
     "text": [
      "Warning, empty test fold 57 (2022-03-09 00:00:00), all ok since 7 folds ago\n",
      "Warning, test fold 58 (2022-03-16 00:00:00) with less than 5 open proposals (3). all ok since 1 folds ago\n"
     ]
    },
    {
     "name": "stderr",
     "output_type": "stream",
     "text": [
      "Warning, test fold 59 (2022-03-23 00:00:00) with less than 5 open proposals (2). all ok since 1 folds ago\n"
     ]
    },
    {
     "name": "stderr",
     "output_type": "stream",
     "text": [
      "Warning, test fold 60 (2022-03-30 00:00:00) with less than 5 open proposals (1). all ok since 1 folds ago\n"
     ]
    },
    {
     "name": "stderr",
     "output_type": "stream",
     "text": [
      "Warning, test fold 61 (2022-04-06 00:00:00) with less than 5 open proposals (3). all ok since 1 folds ago\n"
     ]
    },
    {
     "name": "stderr",
     "output_type": "stream",
     "text": [
      "Warning, test fold 63 (2022-04-20 00:00:00) with less than 5 open proposals (2). all ok since 2 folds ago\n"
     ]
    },
    {
     "name": "stderr",
     "output_type": "stream",
     "text": [
      "Warning, empty test fold 64 (2022-04-27 00:00:00), all ok since 7 folds ago\n",
      "Warning, test fold 65 (2022-05-04 00:00:00) with less than 5 open proposals (1). all ok since 1 folds ago\n"
     ]
    },
    {
     "name": "stderr",
     "output_type": "stream",
     "text": [
      "Warning, test fold 67 (2022-05-18 00:00:00) with less than 5 open proposals (1). all ok since 2 folds ago\n"
     ]
    },
    {
     "name": "stderr",
     "output_type": "stream",
     "text": [
      "Warning, test fold 68 (2022-05-25 00:00:00) with less than 5 open proposals (3). all ok since 1 folds ago\n"
     ]
    },
    {
     "name": "stderr",
     "output_type": "stream",
     "text": [
      "Warning, test fold 69 (2022-06-01 00:00:00) with less than 5 open proposals (2). all ok since 1 folds ago\n"
     ]
    },
    {
     "name": "stderr",
     "output_type": "stream",
     "text": [
      "Warning, test fold 70 (2022-06-08 00:00:00) with less than 5 open proposals (3). all ok since 1 folds ago\n"
     ]
    },
    {
     "name": "stderr",
     "output_type": "stream",
     "text": [
      "Warning, test fold 71 (2022-06-15 00:00:00) with less than 5 open proposals (2). all ok since 1 folds ago\n"
     ]
    },
    {
     "name": "stderr",
     "output_type": "stream",
     "text": [
      "Warning, test fold 72 (2022-06-22 00:00:00) with less than 5 open proposals (3). all ok since 1 folds ago\n"
     ]
    },
    {
     "name": "stderr",
     "output_type": "stream",
     "text": [
      "Warning, test fold 73 (2022-06-29 00:00:00) with less than 5 open proposals (3). all ok since 1 folds ago\n"
     ]
    },
    {
     "name": "stderr",
     "output_type": "stream",
     "text": [
      "Warning, test fold 74 (2022-07-06 00:00:00) with less than 5 open proposals (3). all ok since 1 folds ago\n"
     ]
    },
    {
     "name": "stderr",
     "output_type": "stream",
     "text": [
      "Warning, test fold 75 (2022-07-13 00:00:00) with less than 5 open proposals (1). all ok since 1 folds ago\n"
     ]
    },
    {
     "name": "stderr",
     "output_type": "stream",
     "text": [
      "Warning, test fold 76 (2022-07-20 00:00:00) with less than 5 open proposals (1). all ok since 1 folds ago\n"
     ]
    },
    {
     "name": "stderr",
     "output_type": "stream",
     "text": [
      "Warning, test fold 77 (2022-07-27 00:00:00) with less than 5 open proposals (1). all ok since 1 folds ago\n"
     ]
    },
    {
     "name": "stderr",
     "output_type": "stream",
     "text": [
      "Warning, test fold 78 (2022-08-03 00:00:00) with less than 5 open proposals (2). all ok since 1 folds ago\n"
     ]
    },
    {
     "name": "stderr",
     "output_type": "stream",
     "text": [
      "Warning, test fold 79 (2022-08-10 00:00:00) with less than 5 open proposals (2). all ok since 1 folds ago\n"
     ]
    },
    {
     "name": "stderr",
     "output_type": "stream",
     "text": [
      "Warning, test fold 80 (2022-08-17 00:00:00) with less than 5 open proposals (3). all ok since 1 folds ago\n"
     ]
    },
    {
     "name": "stderr",
     "output_type": "stream",
     "text": [
      "Warning, test fold 81 (2022-08-24 00:00:00) with less than 5 open proposals (2). all ok since 1 folds ago\n"
     ]
    },
    {
     "name": "stderr",
     "output_type": "stream",
     "text": [
      "Warning, test fold 82 (2022-08-31 00:00:00) with less than 5 open proposals (2). all ok since 1 folds ago\n"
     ]
    },
    {
     "name": "stderr",
     "output_type": "stream",
     "text": [
      "Warning, test fold 83 (2022-09-07 00:00:00) with less than 5 open proposals (2). all ok since 1 folds ago\n"
     ]
    },
    {
     "name": "stderr",
     "output_type": "stream",
     "text": [
      "Warning, test fold 84 (2022-09-14 00:00:00) with less than 5 open proposals (3). all ok since 1 folds ago\n"
     ]
    },
    {
     "name": "stderr",
     "output_type": "stream",
     "text": [
      "Warning, test fold 85 (2022-09-21 00:00:00) with less than 5 open proposals (1). all ok since 1 folds ago\n"
     ]
    },
    {
     "name": "stderr",
     "output_type": "stream",
     "text": [
      "Warning, test fold 86 (2022-09-28 00:00:00) with less than 5 open proposals (1). all ok since 1 folds ago\n"
     ]
    },
    {
     "name": "stderr",
     "output_type": "stream",
     "text": [
      "Warning, test fold 87 (2022-10-05 00:00:00) with less than 5 open proposals (1). all ok since 1 folds ago\n"
     ]
    },
    {
     "name": "stderr",
     "output_type": "stream",
     "text": [
      "Warning, test fold 88 (2022-10-12 00:00:00) with less than 5 open proposals (4). all ok since 1 folds ago\n"
     ]
    },
    {
     "name": "stderr",
     "output_type": "stream",
     "text": [
      "Warning, test fold 90 (2022-10-26 00:00:00) with less than 5 open proposals (1). all ok since 2 folds ago\n"
     ]
    },
    {
     "name": "stderr",
     "output_type": "stream",
     "text": [
      "Warning, test fold 91 (2022-11-02 00:00:00) with less than 5 open proposals (1). all ok since 1 folds ago\n"
     ]
    },
    {
     "name": "stderr",
     "output_type": "stream",
     "text": [
      "Warning, test fold 92 (2022-11-09 00:00:00) with less than 5 open proposals (2). all ok since 1 folds ago\n"
     ]
    },
    {
     "name": "stderr",
     "output_type": "stream",
     "text": [
      "Warning, test fold 93 (2022-11-16 00:00:00) with less than 5 open proposals (1). all ok since 1 folds ago\n"
     ]
    },
    {
     "name": "stderr",
     "output_type": "stream",
     "text": [
      "Warning, test fold 94 (2022-11-23 00:00:00) with less than 5 open proposals (1). all ok since 1 folds ago\n"
     ]
    },
    {
     "name": "stderr",
     "output_type": "stream",
     "text": [
      "Warning, test fold 95 (2022-11-30 00:00:00) with less than 5 open proposals (1). all ok since 1 folds ago\n"
     ]
    },
    {
     "name": "stderr",
     "output_type": "stream",
     "text": [
      "Warning, test fold 96 (2022-12-07 00:00:00) with less than 5 open proposals (3). all ok since 1 folds ago\n"
     ]
    },
    {
     "name": "stderr",
     "output_type": "stream",
     "text": [
      "Warning, test fold 97 (2022-12-14 00:00:00) with less than 5 open proposals (3). all ok since 1 folds ago\n"
     ]
    },
    {
     "name": "stderr",
     "output_type": "stream",
     "text": [
      "Warning, test fold 98 (2022-12-21 00:00:00) with less than 5 open proposals (2). all ok since 1 folds ago\n"
     ]
    },
    {
     "name": "stderr",
     "output_type": "stream",
     "text": [
      "Warning, test fold 99 (2022-12-28 00:00:00) with less than 5 open proposals (1). all ok since 1 folds ago\n"
     ]
    },
    {
     "name": "stderr",
     "output_type": "stream",
     "text": [
      "Warning, empty test fold 100 (2023-01-04 00:00:00), all ok since 36 folds ago\n",
      "Warning, empty test fold 101 (2023-01-11 00:00:00), all ok since 1 folds ago\n"
     ]
    },
    {
     "name": "stderr",
     "output_type": "stream",
     "text": [
      "Warning, test fold 102 (2023-01-18 00:00:00) with less than 5 open proposals (2). all ok since 1 folds ago\n"
     ]
    },
    {
     "name": "stderr",
     "output_type": "stream",
     "text": [
      "Warning, empty test fold 103 (2023-01-25 00:00:00), all ok since 2 folds ago\n",
      "Warning, empty test fold 104 (2023-02-01 00:00:00), all ok since 1 folds ago\n"
     ]
    },
    {
     "name": "stderr",
     "output_type": "stream",
     "text": [
      "Warning, empty test fold 105 (2023-02-08 00:00:00), all ok since 1 folds ago\n",
      "Warning, test fold 106 (2023-02-15 00:00:00) with less than 5 open proposals (1). all ok since 1 folds ago\n"
     ]
    },
    {
     "name": "stderr",
     "output_type": "stream",
     "text": [
      "Warning, empty test fold 107 (2023-02-22 00:00:00), all ok since 2 folds ago\n",
      "Warning, test fold 108 (2023-03-01 00:00:00) with less than 5 open proposals (2). all ok since 1 folds ago\n"
     ]
    },
    {
     "name": "stderr",
     "output_type": "stream",
     "text": [
      "Warning, empty test fold 109 (2023-03-08 00:00:00), all ok since 2 folds ago\n",
      "Warning, test fold 110 (2023-03-15 00:00:00) with less than 5 open proposals (2). all ok since 1 folds ago\n"
     ]
    },
    {
     "name": "stderr",
     "output_type": "stream",
     "text": [
      "Warning, empty test fold 111 (2023-03-22 00:00:00), all ok since 2 folds ago\n",
      "Warning, empty test fold 112 (2023-03-29 00:00:00), all ok since 1 folds ago\n"
     ]
    },
    {
     "name": "stderr",
     "output_type": "stream",
     "text": [
      "Warning, empty test fold 113 (2023-04-05 00:00:00), all ok since 1 folds ago\n",
      "Warning, test fold 114 (2023-04-12 00:00:00) with less than 5 open proposals (3). all ok since 1 folds ago\n"
     ]
    },
    {
     "name": "stderr",
     "output_type": "stream",
     "text": [
      "Warning, test fold 115 (2023-04-19 00:00:00) with less than 5 open proposals (1). all ok since 1 folds ago\n"
     ]
    },
    {
     "name": "stderr",
     "output_type": "stream",
     "text": [
      "Warning, test fold 116 (2023-04-26 00:00:00) with less than 5 open proposals (2). all ok since 1 folds ago\n"
     ]
    },
    {
     "name": "stderr",
     "output_type": "stream",
     "text": [
      "Warning, empty test fold 117 (2023-05-03 00:00:00), all ok since 4 folds ago\n",
      "Warning, test fold 118 (2023-05-10 00:00:00) with less than 5 open proposals (4). all ok since 1 folds ago\n"
     ]
    },
    {
     "name": "stderr",
     "output_type": "stream",
     "text": [
      "Warning, empty test fold 119 (2023-05-17 00:00:00), all ok since 2 folds ago\n",
      "Warning, test fold 120 (2023-05-24 00:00:00) with less than 5 open proposals (2). all ok since 1 folds ago\n"
     ]
    },
    {
     "name": "stderr",
     "output_type": "stream",
     "text": [
      "Warning, test fold 121 (2023-05-31 00:00:00) with less than 5 open proposals (4). all ok since 1 folds ago\n"
     ]
    },
    {
     "name": "stderr",
     "output_type": "stream",
     "text": [
      "Warning, test fold 122 (2023-06-07 00:00:00) with less than 5 open proposals (1). all ok since 1 folds ago\n"
     ]
    },
    {
     "name": "stderr",
     "output_type": "stream",
     "text": [
      "Warning, empty test fold 123 (2023-06-14 00:00:00), all ok since 4 folds ago\n",
      "Warning, empty test fold 124 (2023-06-21 00:00:00), all ok since 1 folds ago\n"
     ]
    },
    {
     "name": "stderr",
     "output_type": "stream",
     "text": [
      "Warning, test fold 125 (2023-06-28 00:00:00) with less than 5 open proposals (4). all ok since 1 folds ago\n"
     ]
    },
    {
     "name": "stdout",
     "output_type": "stream",
     "text": [
      "Max ok in a row: (36, Timestamp('2023-01-04 00:00:00'))\n"
     ]
    }
   ],
   "source": [
    "WARNING_AT_LEAST_OPEN = 5\n",
    "\n",
    "folds = list(cvtt_open(df, SPLITS_FREQ, dfp, remove_not_in_train_col='userID', normalize=SPLITS_NORMALIZE))\n",
    "metrics = []\n",
    "perfectmetrics = []\n",
    "\n",
    "first_empty = True\n",
    "ok_in_a_row = best_in_a_row = 0\n",
    "max_ok_in_a_row = (-1, folds[-1].end)\n",
    "for i, (train, test, t, open_proposals) in enumerate(tqdm(folds)):   \n",
    "    if first_empty:\n",
    "        if not train.empty:\n",
    "            first_empty = False\n",
    "    else:\n",
    "        assert not train.empty, f\"Train should not be empty on fold {i}\"\n",
    "    if test.empty:\n",
    "        print(f\"Warning, empty test fold {i} ({t}), all ok since {ok_in_a_row} folds ago\", file=sys.stderr)\n",
    "        if ok_in_a_row > max_ok_in_a_row[0]:\n",
    "            max_ok_in_a_row = (ok_in_a_row, t)\n",
    "        ok_in_a_row = best_in_a_row = 0\n",
    "    elif len(open_proposals) < WARNING_AT_LEAST_OPEN:\n",
    "        print(f\"Warning, test fold {i} ({t}) with less than {WARNING_AT_LEAST_OPEN} open proposals ({len(open_proposals)}). all ok since {best_in_a_row} folds ago\", file=sys.stderr)\n",
    "        best_in_a_row = 0\n",
    "\n",
    "    mdict = {'fold': t}\n",
    "    pdict = {'fold': t}\n",
    "    model = OpenPop(train)\n",
    "    recs = model.recommend_k_items(test['userID'].unique(), max(K_RECOMMENDATIONS), recommend_from=open_proposals)\n",
    "    mdict |= calculate_all_metrics(test, recs, K_RECOMMENDATIONS)\n",
    "        # for m, f in metrics_f.items():\n",
    "        #     r = f(test, recs, k=k_recs)\n",
    "        #     metrics[m+f'@{k_recs}'].append(r)\n",
    "    \n",
    "    recs = test.copy()\n",
    "    recs['prediction'] = 1\n",
    "    pdict |= calculate_all_metrics(test, recs, K_RECOMMENDATIONS)\n",
    "\n",
    "        # for m, f in metrics_f.items():\n",
    "        #     # Need relevancy_method=None as they are unsorted\n",
    "        #     r = f(test, recs, k=k_recs)\n",
    "        #     perfectmetrics[m+f'@{k_recs}'].append(r)\n",
    "\n",
    "    metrics.append(mdict)\n",
    "    perfectmetrics.append(pdict)\n",
    "    ok_in_a_row += 1\n",
    "    best_in_a_row += 1\n",
    "\n",
    "paths.save_dao_datum(ORG_NAME, 'max_ok_folds', str(max_ok_in_a_row[0]))\n",
    "paths.save_dao_datum(ORG_NAME, 'max_ok_folds_date', str(max_ok_in_a_row[1]))\n",
    "if max_ok_in_a_row == -1:\n",
    "    print(\"All ok :>\")\n",
    "else:\n",
    "    print(\"Max ok in a row:\", max_ok_in_a_row)"
   ]
  },
  {
   "cell_type": "markdown",
   "id": "60443547",
   "metadata": {
    "papermill": {
     "duration": 0.004716,
     "end_time": "2024-09-05T09:29:02.756375",
     "exception": false,
     "start_time": "2024-09-05T09:29:02.751659",
     "status": "completed"
    },
    "tags": []
   },
   "source": [
    "### Caching these results"
   ]
  },
  {
   "cell_type": "code",
   "execution_count": 10,
   "id": "1616a41b",
   "metadata": {
    "execution": {
     "iopub.execute_input": "2024-09-05T09:29:02.766049Z",
     "iopub.status.busy": "2024-09-05T09:29:02.765918Z",
     "iopub.status.idle": "2024-09-05T09:29:02.792153Z",
     "shell.execute_reply": "2024-09-05T09:29:02.791964Z"
    },
    "papermill": {
     "duration": 0.032004,
     "end_time": "2024-09-05T09:29:02.792876",
     "exception": false,
     "start_time": "2024-09-05T09:29:02.760872",
     "status": "completed"
    },
    "tags": []
   },
   "outputs": [
    {
     "name": "stdout",
     "output_type": "stream",
     "text": [
      "Saved dataframe into /home/daviddavo/recsys4daos/data/output/Lido/baseline/openpop_W-WED_normalize.parquet\n"
     ]
    },
    {
     "data": {
      "text/html": [
       "<div>\n",
       "<style scoped>\n",
       "    .dataframe tbody tr th:only-of-type {\n",
       "        vertical-align: middle;\n",
       "    }\n",
       "\n",
       "    .dataframe tbody tr th {\n",
       "        vertical-align: top;\n",
       "    }\n",
       "\n",
       "    .dataframe thead th {\n",
       "        text-align: right;\n",
       "    }\n",
       "</style>\n",
       "<table border=\"1\" class=\"dataframe\">\n",
       "  <thead>\n",
       "    <tr style=\"text-align: right;\">\n",
       "      <th></th>\n",
       "      <th>precision@1</th>\n",
       "      <th>precision@3</th>\n",
       "      <th>precision@5</th>\n",
       "      <th>precision@10</th>\n",
       "      <th>precision@15</th>\n",
       "      <th>precision@100</th>\n",
       "      <th>ndcg@1</th>\n",
       "      <th>ndcg@3</th>\n",
       "      <th>ndcg@5</th>\n",
       "      <th>ndcg@10</th>\n",
       "      <th>...</th>\n",
       "      <th>recall@10</th>\n",
       "      <th>recall@15</th>\n",
       "      <th>recall@100</th>\n",
       "      <th>r-precision@1</th>\n",
       "      <th>r-precision@3</th>\n",
       "      <th>r-precision@5</th>\n",
       "      <th>r-precision@10</th>\n",
       "      <th>r-precision@15</th>\n",
       "      <th>r-precision@100</th>\n",
       "      <th>time_eval</th>\n",
       "    </tr>\n",
       "  </thead>\n",
       "  <tbody>\n",
       "    <tr>\n",
       "      <th>count</th>\n",
       "      <td>126.000000</td>\n",
       "      <td>126.000000</td>\n",
       "      <td>126.000000</td>\n",
       "      <td>126.000000</td>\n",
       "      <td>126.000000</td>\n",
       "      <td>126.000000</td>\n",
       "      <td>126.000000</td>\n",
       "      <td>126.000000</td>\n",
       "      <td>126.000000</td>\n",
       "      <td>126.000000</td>\n",
       "      <td>...</td>\n",
       "      <td>126.000000</td>\n",
       "      <td>126.000000</td>\n",
       "      <td>126.000000</td>\n",
       "      <td>126.000000</td>\n",
       "      <td>126.000000</td>\n",
       "      <td>126.000000</td>\n",
       "      <td>126.000000</td>\n",
       "      <td>126.000000</td>\n",
       "      <td>126.000000</td>\n",
       "      <td>126.000000</td>\n",
       "    </tr>\n",
       "    <tr>\n",
       "      <th>mean</th>\n",
       "      <td>0.443682</td>\n",
       "      <td>0.228782</td>\n",
       "      <td>0.142930</td>\n",
       "      <td>0.071465</td>\n",
       "      <td>0.047643</td>\n",
       "      <td>0.007147</td>\n",
       "      <td>0.443682</td>\n",
       "      <td>0.512386</td>\n",
       "      <td>0.519640</td>\n",
       "      <td>0.519640</td>\n",
       "      <td>...</td>\n",
       "      <td>0.571429</td>\n",
       "      <td>0.571429</td>\n",
       "      <td>0.571429</td>\n",
       "      <td>0.492177</td>\n",
       "      <td>0.553086</td>\n",
       "      <td>0.555651</td>\n",
       "      <td>0.555651</td>\n",
       "      <td>0.555651</td>\n",
       "      <td>0.555651</td>\n",
       "      <td>0.112742</td>\n",
       "    </tr>\n",
       "    <tr>\n",
       "      <th>std</th>\n",
       "      <td>0.428017</td>\n",
       "      <td>0.217588</td>\n",
       "      <td>0.139027</td>\n",
       "      <td>0.069513</td>\n",
       "      <td>0.046342</td>\n",
       "      <td>0.006951</td>\n",
       "      <td>0.428017</td>\n",
       "      <td>0.456213</td>\n",
       "      <td>0.458571</td>\n",
       "      <td>0.458571</td>\n",
       "      <td>...</td>\n",
       "      <td>0.496847</td>\n",
       "      <td>0.496847</td>\n",
       "      <td>0.496847</td>\n",
       "      <td>0.452181</td>\n",
       "      <td>0.484068</td>\n",
       "      <td>0.485551</td>\n",
       "      <td>0.485551</td>\n",
       "      <td>0.485551</td>\n",
       "      <td>0.485551</td>\n",
       "      <td>0.046326</td>\n",
       "    </tr>\n",
       "    <tr>\n",
       "      <th>min</th>\n",
       "      <td>0.000000</td>\n",
       "      <td>0.000000</td>\n",
       "      <td>0.000000</td>\n",
       "      <td>0.000000</td>\n",
       "      <td>0.000000</td>\n",
       "      <td>0.000000</td>\n",
       "      <td>0.000000</td>\n",
       "      <td>0.000000</td>\n",
       "      <td>0.000000</td>\n",
       "      <td>0.000000</td>\n",
       "      <td>...</td>\n",
       "      <td>0.000000</td>\n",
       "      <td>0.000000</td>\n",
       "      <td>0.000000</td>\n",
       "      <td>0.000000</td>\n",
       "      <td>0.000000</td>\n",
       "      <td>0.000000</td>\n",
       "      <td>0.000000</td>\n",
       "      <td>0.000000</td>\n",
       "      <td>0.000000</td>\n",
       "      <td>0.069176</td>\n",
       "    </tr>\n",
       "    <tr>\n",
       "      <th>25%</th>\n",
       "      <td>0.000000</td>\n",
       "      <td>0.000000</td>\n",
       "      <td>0.000000</td>\n",
       "      <td>0.000000</td>\n",
       "      <td>0.000000</td>\n",
       "      <td>0.000000</td>\n",
       "      <td>0.000000</td>\n",
       "      <td>0.000000</td>\n",
       "      <td>0.000000</td>\n",
       "      <td>0.000000</td>\n",
       "      <td>...</td>\n",
       "      <td>0.000000</td>\n",
       "      <td>0.000000</td>\n",
       "      <td>0.000000</td>\n",
       "      <td>0.000000</td>\n",
       "      <td>0.000000</td>\n",
       "      <td>0.000000</td>\n",
       "      <td>0.000000</td>\n",
       "      <td>0.000000</td>\n",
       "      <td>0.000000</td>\n",
       "      <td>0.070235</td>\n",
       "    </tr>\n",
       "    <tr>\n",
       "      <th>50%</th>\n",
       "      <td>0.449580</td>\n",
       "      <td>0.333333</td>\n",
       "      <td>0.200000</td>\n",
       "      <td>0.100000</td>\n",
       "      <td>0.066667</td>\n",
       "      <td>0.010000</td>\n",
       "      <td>0.449580</td>\n",
       "      <td>0.780729</td>\n",
       "      <td>0.782990</td>\n",
       "      <td>0.782990</td>\n",
       "      <td>...</td>\n",
       "      <td>1.000000</td>\n",
       "      <td>1.000000</td>\n",
       "      <td>1.000000</td>\n",
       "      <td>0.551212</td>\n",
       "      <td>0.901992</td>\n",
       "      <td>0.912848</td>\n",
       "      <td>0.912848</td>\n",
       "      <td>0.912848</td>\n",
       "      <td>0.912848</td>\n",
       "      <td>0.121991</td>\n",
       "    </tr>\n",
       "    <tr>\n",
       "      <th>75%</th>\n",
       "      <td>0.935789</td>\n",
       "      <td>0.344822</td>\n",
       "      <td>0.210879</td>\n",
       "      <td>0.105439</td>\n",
       "      <td>0.070293</td>\n",
       "      <td>0.010544</td>\n",
       "      <td>0.935789</td>\n",
       "      <td>0.976302</td>\n",
       "      <td>0.976302</td>\n",
       "      <td>0.976302</td>\n",
       "      <td>...</td>\n",
       "      <td>1.000000</td>\n",
       "      <td>1.000000</td>\n",
       "      <td>1.000000</td>\n",
       "      <td>1.000000</td>\n",
       "      <td>1.000000</td>\n",
       "      <td>1.000000</td>\n",
       "      <td>1.000000</td>\n",
       "      <td>1.000000</td>\n",
       "      <td>1.000000</td>\n",
       "      <td>0.136033</td>\n",
       "    </tr>\n",
       "    <tr>\n",
       "      <th>max</th>\n",
       "      <td>1.000000</td>\n",
       "      <td>0.728058</td>\n",
       "      <td>0.537842</td>\n",
       "      <td>0.268921</td>\n",
       "      <td>0.179281</td>\n",
       "      <td>0.026892</td>\n",
       "      <td>1.000000</td>\n",
       "      <td>1.000000</td>\n",
       "      <td>1.000000</td>\n",
       "      <td>1.000000</td>\n",
       "      <td>...</td>\n",
       "      <td>1.000000</td>\n",
       "      <td>1.000000</td>\n",
       "      <td>1.000000</td>\n",
       "      <td>1.000000</td>\n",
       "      <td>1.000000</td>\n",
       "      <td>1.000000</td>\n",
       "      <td>1.000000</td>\n",
       "      <td>1.000000</td>\n",
       "      <td>1.000000</td>\n",
       "      <td>0.292331</td>\n",
       "    </tr>\n",
       "  </tbody>\n",
       "</table>\n",
       "<p>8 rows × 31 columns</p>\n",
       "</div>"
      ],
      "text/plain": [
       "       precision@1  precision@3  precision@5  precision@10  precision@15  \\\n",
       "count   126.000000   126.000000   126.000000    126.000000    126.000000   \n",
       "mean      0.443682     0.228782     0.142930      0.071465      0.047643   \n",
       "std       0.428017     0.217588     0.139027      0.069513      0.046342   \n",
       "min       0.000000     0.000000     0.000000      0.000000      0.000000   \n",
       "25%       0.000000     0.000000     0.000000      0.000000      0.000000   \n",
       "50%       0.449580     0.333333     0.200000      0.100000      0.066667   \n",
       "75%       0.935789     0.344822     0.210879      0.105439      0.070293   \n",
       "max       1.000000     0.728058     0.537842      0.268921      0.179281   \n",
       "\n",
       "       precision@100      ndcg@1      ndcg@3      ndcg@5     ndcg@10  ...  \\\n",
       "count     126.000000  126.000000  126.000000  126.000000  126.000000  ...   \n",
       "mean        0.007147    0.443682    0.512386    0.519640    0.519640  ...   \n",
       "std         0.006951    0.428017    0.456213    0.458571    0.458571  ...   \n",
       "min         0.000000    0.000000    0.000000    0.000000    0.000000  ...   \n",
       "25%         0.000000    0.000000    0.000000    0.000000    0.000000  ...   \n",
       "50%         0.010000    0.449580    0.780729    0.782990    0.782990  ...   \n",
       "75%         0.010544    0.935789    0.976302    0.976302    0.976302  ...   \n",
       "max         0.026892    1.000000    1.000000    1.000000    1.000000  ...   \n",
       "\n",
       "        recall@10   recall@15  recall@100  r-precision@1  r-precision@3  \\\n",
       "count  126.000000  126.000000  126.000000     126.000000     126.000000   \n",
       "mean     0.571429    0.571429    0.571429       0.492177       0.553086   \n",
       "std      0.496847    0.496847    0.496847       0.452181       0.484068   \n",
       "min      0.000000    0.000000    0.000000       0.000000       0.000000   \n",
       "25%      0.000000    0.000000    0.000000       0.000000       0.000000   \n",
       "50%      1.000000    1.000000    1.000000       0.551212       0.901992   \n",
       "75%      1.000000    1.000000    1.000000       1.000000       1.000000   \n",
       "max      1.000000    1.000000    1.000000       1.000000       1.000000   \n",
       "\n",
       "       r-precision@5  r-precision@10  r-precision@15  r-precision@100  \\\n",
       "count     126.000000      126.000000      126.000000       126.000000   \n",
       "mean        0.555651        0.555651        0.555651         0.555651   \n",
       "std         0.485551        0.485551        0.485551         0.485551   \n",
       "min         0.000000        0.000000        0.000000         0.000000   \n",
       "25%         0.000000        0.000000        0.000000         0.000000   \n",
       "50%         0.912848        0.912848        0.912848         0.912848   \n",
       "75%         1.000000        1.000000        1.000000         1.000000   \n",
       "max         1.000000        1.000000        1.000000         1.000000   \n",
       "\n",
       "        time_eval  \n",
       "count  126.000000  \n",
       "mean     0.112742  \n",
       "std      0.046326  \n",
       "min      0.069176  \n",
       "25%      0.070235  \n",
       "50%      0.121991  \n",
       "75%      0.136033  \n",
       "max      0.292331  \n",
       "\n",
       "[8 rows x 31 columns]"
      ]
     },
     "execution_count": 10,
     "metadata": {},
     "output_type": "execute_result"
    }
   ],
   "source": [
    "odf = pd.DataFrame(metrics).set_index(\"fold\")\n",
    "paths.save_openpop(odf, ORG_NAME, SPLITS_FREQ, SPLITS_NORMALIZE)\n",
    "odf.describe()"
   ]
  },
  {
   "cell_type": "code",
   "execution_count": 11,
   "id": "283708a5",
   "metadata": {
    "execution": {
     "iopub.execute_input": "2024-09-05T09:29:02.802716Z",
     "iopub.status.busy": "2024-09-05T09:29:02.802599Z",
     "iopub.status.idle": "2024-09-05T09:29:02.827934Z",
     "shell.execute_reply": "2024-09-05T09:29:02.827741Z"
    },
    "papermill": {
     "duration": 0.03119,
     "end_time": "2024-09-05T09:29:02.828600",
     "exception": false,
     "start_time": "2024-09-05T09:29:02.797410",
     "status": "completed"
    },
    "tags": []
   },
   "outputs": [
    {
     "name": "stdout",
     "output_type": "stream",
     "text": [
      "Saved dataframe into /home/daviddavo/recsys4daos/data/output/Lido/baseline/perfect_W-WED_normalize.parquet\n"
     ]
    },
    {
     "data": {
      "text/html": [
       "<div>\n",
       "<style scoped>\n",
       "    .dataframe tbody tr th:only-of-type {\n",
       "        vertical-align: middle;\n",
       "    }\n",
       "\n",
       "    .dataframe tbody tr th {\n",
       "        vertical-align: top;\n",
       "    }\n",
       "\n",
       "    .dataframe thead th {\n",
       "        text-align: right;\n",
       "    }\n",
       "</style>\n",
       "<table border=\"1\" class=\"dataframe\">\n",
       "  <thead>\n",
       "    <tr style=\"text-align: right;\">\n",
       "      <th></th>\n",
       "      <th>precision@1</th>\n",
       "      <th>precision@3</th>\n",
       "      <th>precision@5</th>\n",
       "      <th>precision@10</th>\n",
       "      <th>precision@15</th>\n",
       "      <th>precision@100</th>\n",
       "      <th>ndcg@1</th>\n",
       "      <th>ndcg@3</th>\n",
       "      <th>ndcg@5</th>\n",
       "      <th>ndcg@10</th>\n",
       "      <th>...</th>\n",
       "      <th>recall@10</th>\n",
       "      <th>recall@15</th>\n",
       "      <th>recall@100</th>\n",
       "      <th>r-precision@1</th>\n",
       "      <th>r-precision@3</th>\n",
       "      <th>r-precision@5</th>\n",
       "      <th>r-precision@10</th>\n",
       "      <th>r-precision@15</th>\n",
       "      <th>r-precision@100</th>\n",
       "      <th>time_eval</th>\n",
       "    </tr>\n",
       "  </thead>\n",
       "  <tbody>\n",
       "    <tr>\n",
       "      <th>count</th>\n",
       "      <td>126.000000</td>\n",
       "      <td>126.000000</td>\n",
       "      <td>126.000000</td>\n",
       "      <td>126.000000</td>\n",
       "      <td>126.000000</td>\n",
       "      <td>126.000000</td>\n",
       "      <td>126.000000</td>\n",
       "      <td>126.000000</td>\n",
       "      <td>126.000000</td>\n",
       "      <td>126.000000</td>\n",
       "      <td>...</td>\n",
       "      <td>126.000000</td>\n",
       "      <td>126.000000</td>\n",
       "      <td>126.000000</td>\n",
       "      <td>126.000000</td>\n",
       "      <td>126.000000</td>\n",
       "      <td>126.000000</td>\n",
       "      <td>126.000000</td>\n",
       "      <td>126.000000</td>\n",
       "      <td>126.000000</td>\n",
       "      <td>126.000000</td>\n",
       "    </tr>\n",
       "    <tr>\n",
       "      <th>mean</th>\n",
       "      <td>0.595238</td>\n",
       "      <td>0.243726</td>\n",
       "      <td>0.147692</td>\n",
       "      <td>0.073846</td>\n",
       "      <td>0.049231</td>\n",
       "      <td>0.007385</td>\n",
       "      <td>0.595238</td>\n",
       "      <td>0.595238</td>\n",
       "      <td>0.595238</td>\n",
       "      <td>0.595238</td>\n",
       "      <td>...</td>\n",
       "      <td>0.595238</td>\n",
       "      <td>0.595238</td>\n",
       "      <td>0.595238</td>\n",
       "      <td>0.535914</td>\n",
       "      <td>0.593435</td>\n",
       "      <td>0.595238</td>\n",
       "      <td>0.595238</td>\n",
       "      <td>0.595238</td>\n",
       "      <td>0.595238</td>\n",
       "      <td>0.121421</td>\n",
       "    </tr>\n",
       "    <tr>\n",
       "      <th>std</th>\n",
       "      <td>0.492805</td>\n",
       "      <td>0.223540</td>\n",
       "      <td>0.137454</td>\n",
       "      <td>0.068727</td>\n",
       "      <td>0.045818</td>\n",
       "      <td>0.006873</td>\n",
       "      <td>0.492805</td>\n",
       "      <td>0.492805</td>\n",
       "      <td>0.492805</td>\n",
       "      <td>0.492805</td>\n",
       "      <td>...</td>\n",
       "      <td>0.492805</td>\n",
       "      <td>0.492805</td>\n",
       "      <td>0.492805</td>\n",
       "      <td>0.459537</td>\n",
       "      <td>0.491421</td>\n",
       "      <td>0.492805</td>\n",
       "      <td>0.492805</td>\n",
       "      <td>0.492805</td>\n",
       "      <td>0.492805</td>\n",
       "      <td>0.055315</td>\n",
       "    </tr>\n",
       "    <tr>\n",
       "      <th>min</th>\n",
       "      <td>0.000000</td>\n",
       "      <td>0.000000</td>\n",
       "      <td>0.000000</td>\n",
       "      <td>0.000000</td>\n",
       "      <td>0.000000</td>\n",
       "      <td>0.000000</td>\n",
       "      <td>0.000000</td>\n",
       "      <td>0.000000</td>\n",
       "      <td>0.000000</td>\n",
       "      <td>0.000000</td>\n",
       "      <td>...</td>\n",
       "      <td>0.000000</td>\n",
       "      <td>0.000000</td>\n",
       "      <td>0.000000</td>\n",
       "      <td>0.000000</td>\n",
       "      <td>0.000000</td>\n",
       "      <td>0.000000</td>\n",
       "      <td>0.000000</td>\n",
       "      <td>0.000000</td>\n",
       "      <td>0.000000</td>\n",
       "      <td>0.072633</td>\n",
       "    </tr>\n",
       "    <tr>\n",
       "      <th>25%</th>\n",
       "      <td>0.000000</td>\n",
       "      <td>0.000000</td>\n",
       "      <td>0.000000</td>\n",
       "      <td>0.000000</td>\n",
       "      <td>0.000000</td>\n",
       "      <td>0.000000</td>\n",
       "      <td>0.000000</td>\n",
       "      <td>0.000000</td>\n",
       "      <td>0.000000</td>\n",
       "      <td>0.000000</td>\n",
       "      <td>...</td>\n",
       "      <td>0.000000</td>\n",
       "      <td>0.000000</td>\n",
       "      <td>0.000000</td>\n",
       "      <td>0.000000</td>\n",
       "      <td>0.000000</td>\n",
       "      <td>0.000000</td>\n",
       "      <td>0.000000</td>\n",
       "      <td>0.000000</td>\n",
       "      <td>0.000000</td>\n",
       "      <td>0.074087</td>\n",
       "    </tr>\n",
       "    <tr>\n",
       "      <th>50%</th>\n",
       "      <td>1.000000</td>\n",
       "      <td>0.333333</td>\n",
       "      <td>0.200000</td>\n",
       "      <td>0.100000</td>\n",
       "      <td>0.066667</td>\n",
       "      <td>0.010000</td>\n",
       "      <td>1.000000</td>\n",
       "      <td>1.000000</td>\n",
       "      <td>1.000000</td>\n",
       "      <td>1.000000</td>\n",
       "      <td>...</td>\n",
       "      <td>1.000000</td>\n",
       "      <td>1.000000</td>\n",
       "      <td>1.000000</td>\n",
       "      <td>0.649405</td>\n",
       "      <td>1.000000</td>\n",
       "      <td>1.000000</td>\n",
       "      <td>1.000000</td>\n",
       "      <td>1.000000</td>\n",
       "      <td>1.000000</td>\n",
       "      <td>0.128699</td>\n",
       "    </tr>\n",
       "    <tr>\n",
       "      <th>75%</th>\n",
       "      <td>1.000000</td>\n",
       "      <td>0.351464</td>\n",
       "      <td>0.210879</td>\n",
       "      <td>0.105439</td>\n",
       "      <td>0.070293</td>\n",
       "      <td>0.010544</td>\n",
       "      <td>1.000000</td>\n",
       "      <td>1.000000</td>\n",
       "      <td>1.000000</td>\n",
       "      <td>1.000000</td>\n",
       "      <td>...</td>\n",
       "      <td>1.000000</td>\n",
       "      <td>1.000000</td>\n",
       "      <td>1.000000</td>\n",
       "      <td>1.000000</td>\n",
       "      <td>1.000000</td>\n",
       "      <td>1.000000</td>\n",
       "      <td>1.000000</td>\n",
       "      <td>1.000000</td>\n",
       "      <td>1.000000</td>\n",
       "      <td>0.143364</td>\n",
       "    </tr>\n",
       "    <tr>\n",
       "      <th>max</th>\n",
       "      <td>1.000000</td>\n",
       "      <td>0.819185</td>\n",
       "      <td>0.537842</td>\n",
       "      <td>0.268921</td>\n",
       "      <td>0.179281</td>\n",
       "      <td>0.026892</td>\n",
       "      <td>1.000000</td>\n",
       "      <td>1.000000</td>\n",
       "      <td>1.000000</td>\n",
       "      <td>1.000000</td>\n",
       "      <td>...</td>\n",
       "      <td>1.000000</td>\n",
       "      <td>1.000000</td>\n",
       "      <td>1.000000</td>\n",
       "      <td>1.000000</td>\n",
       "      <td>1.000000</td>\n",
       "      <td>1.000000</td>\n",
       "      <td>1.000000</td>\n",
       "      <td>1.000000</td>\n",
       "      <td>1.000000</td>\n",
       "      <td>0.432269</td>\n",
       "    </tr>\n",
       "  </tbody>\n",
       "</table>\n",
       "<p>8 rows × 31 columns</p>\n",
       "</div>"
      ],
      "text/plain": [
       "       precision@1  precision@3  precision@5  precision@10  precision@15  \\\n",
       "count   126.000000   126.000000   126.000000    126.000000    126.000000   \n",
       "mean      0.595238     0.243726     0.147692      0.073846      0.049231   \n",
       "std       0.492805     0.223540     0.137454      0.068727      0.045818   \n",
       "min       0.000000     0.000000     0.000000      0.000000      0.000000   \n",
       "25%       0.000000     0.000000     0.000000      0.000000      0.000000   \n",
       "50%       1.000000     0.333333     0.200000      0.100000      0.066667   \n",
       "75%       1.000000     0.351464     0.210879      0.105439      0.070293   \n",
       "max       1.000000     0.819185     0.537842      0.268921      0.179281   \n",
       "\n",
       "       precision@100      ndcg@1      ndcg@3      ndcg@5     ndcg@10  ...  \\\n",
       "count     126.000000  126.000000  126.000000  126.000000  126.000000  ...   \n",
       "mean        0.007385    0.595238    0.595238    0.595238    0.595238  ...   \n",
       "std         0.006873    0.492805    0.492805    0.492805    0.492805  ...   \n",
       "min         0.000000    0.000000    0.000000    0.000000    0.000000  ...   \n",
       "25%         0.000000    0.000000    0.000000    0.000000    0.000000  ...   \n",
       "50%         0.010000    1.000000    1.000000    1.000000    1.000000  ...   \n",
       "75%         0.010544    1.000000    1.000000    1.000000    1.000000  ...   \n",
       "max         0.026892    1.000000    1.000000    1.000000    1.000000  ...   \n",
       "\n",
       "        recall@10   recall@15  recall@100  r-precision@1  r-precision@3  \\\n",
       "count  126.000000  126.000000  126.000000     126.000000     126.000000   \n",
       "mean     0.595238    0.595238    0.595238       0.535914       0.593435   \n",
       "std      0.492805    0.492805    0.492805       0.459537       0.491421   \n",
       "min      0.000000    0.000000    0.000000       0.000000       0.000000   \n",
       "25%      0.000000    0.000000    0.000000       0.000000       0.000000   \n",
       "50%      1.000000    1.000000    1.000000       0.649405       1.000000   \n",
       "75%      1.000000    1.000000    1.000000       1.000000       1.000000   \n",
       "max      1.000000    1.000000    1.000000       1.000000       1.000000   \n",
       "\n",
       "       r-precision@5  r-precision@10  r-precision@15  r-precision@100  \\\n",
       "count     126.000000      126.000000      126.000000       126.000000   \n",
       "mean        0.595238        0.595238        0.595238         0.595238   \n",
       "std         0.492805        0.492805        0.492805         0.492805   \n",
       "min         0.000000        0.000000        0.000000         0.000000   \n",
       "25%         0.000000        0.000000        0.000000         0.000000   \n",
       "50%         1.000000        1.000000        1.000000         1.000000   \n",
       "75%         1.000000        1.000000        1.000000         1.000000   \n",
       "max         1.000000        1.000000        1.000000         1.000000   \n",
       "\n",
       "        time_eval  \n",
       "count  126.000000  \n",
       "mean     0.121421  \n",
       "std      0.055315  \n",
       "min      0.072633  \n",
       "25%      0.074087  \n",
       "50%      0.128699  \n",
       "75%      0.143364  \n",
       "max      0.432269  \n",
       "\n",
       "[8 rows x 31 columns]"
      ]
     },
     "metadata": {},
     "output_type": "display_data"
    }
   ],
   "source": [
    "pdf = pd.DataFrame(perfectmetrics).set_index(\"fold\")\n",
    "cols = [ c for c in pdf.columns if not c.startswith('time_') ]\n",
    "paths.save_perfect(pdf, ORG_NAME, SPLITS_FREQ, SPLITS_NORMALIZE)\n",
    "display(pdf.describe())\n",
    "msk = (0 <= pdf[cols].min()) & (pdf[cols].max() <= 1)\n",
    "if not all(msk):\n",
    "    display(pdf.describe()[msk[~msk].index])\n",
    "assert all( msk ), \"There are metrics with wrong range\""
   ]
  },
  {
   "cell_type": "markdown",
   "id": "92fcd574",
   "metadata": {
    "papermill": {
     "duration": 0.004922,
     "end_time": "2024-09-05T09:29:02.838375",
     "exception": false,
     "start_time": "2024-09-05T09:29:02.833453",
     "status": "completed"
    },
    "tags": []
   },
   "source": [
    "## Plotting some graphs"
   ]
  },
  {
   "cell_type": "code",
   "execution_count": 12,
   "id": "99fd68ad",
   "metadata": {
    "execution": {
     "iopub.execute_input": "2024-09-05T09:29:02.848508Z",
     "iopub.status.busy": "2024-09-05T09:29:02.848387Z",
     "iopub.status.idle": "2024-09-05T09:29:02.978149Z",
     "shell.execute_reply": "2024-09-05T09:29:02.977938Z"
    },
    "papermill": {
     "duration": 0.135721,
     "end_time": "2024-09-05T09:29:02.978862",
     "exception": false,
     "start_time": "2024-09-05T09:29:02.843141",
     "status": "completed"
    },
    "tags": []
   },
   "outputs": [
    {
     "data": {
      "text/html": [
       "<div>\n",
       "<style scoped>\n",
       "    .dataframe tbody tr th:only-of-type {\n",
       "        vertical-align: middle;\n",
       "    }\n",
       "\n",
       "    .dataframe tbody tr th {\n",
       "        vertical-align: top;\n",
       "    }\n",
       "\n",
       "    .dataframe thead th {\n",
       "        text-align: right;\n",
       "    }\n",
       "</style>\n",
       "<table border=\"1\" class=\"dataframe\">\n",
       "  <thead>\n",
       "    <tr style=\"text-align: right;\">\n",
       "      <th></th>\n",
       "      <th>fold</th>\n",
       "      <th>precision@1</th>\n",
       "      <th>precision@3</th>\n",
       "      <th>precision@5</th>\n",
       "      <th>precision@10</th>\n",
       "      <th>precision@15</th>\n",
       "      <th>precision@100</th>\n",
       "      <th>ndcg@1</th>\n",
       "      <th>ndcg@3</th>\n",
       "      <th>ndcg@5</th>\n",
       "      <th>...</th>\n",
       "      <th>recall@100</th>\n",
       "      <th>r-precision@1</th>\n",
       "      <th>r-precision@3</th>\n",
       "      <th>r-precision@5</th>\n",
       "      <th>r-precision@10</th>\n",
       "      <th>r-precision@15</th>\n",
       "      <th>r-precision@100</th>\n",
       "      <th>time_eval</th>\n",
       "      <th>perfect precision@5</th>\n",
       "      <th>perfect precision@10</th>\n",
       "    </tr>\n",
       "  </thead>\n",
       "  <tbody>\n",
       "    <tr>\n",
       "      <th>count</th>\n",
       "      <td>126</td>\n",
       "      <td>126.000000</td>\n",
       "      <td>126.000000</td>\n",
       "      <td>126.000000</td>\n",
       "      <td>126.000000</td>\n",
       "      <td>126.000000</td>\n",
       "      <td>126.000000</td>\n",
       "      <td>126.000000</td>\n",
       "      <td>126.000000</td>\n",
       "      <td>126.000000</td>\n",
       "      <td>...</td>\n",
       "      <td>126.000000</td>\n",
       "      <td>126.000000</td>\n",
       "      <td>126.000000</td>\n",
       "      <td>126.000000</td>\n",
       "      <td>126.000000</td>\n",
       "      <td>126.000000</td>\n",
       "      <td>126.000000</td>\n",
       "      <td>126.000000</td>\n",
       "      <td>0.0</td>\n",
       "      <td>0.0</td>\n",
       "    </tr>\n",
       "    <tr>\n",
       "      <th>mean</th>\n",
       "      <td>2022-04-16 12:00:00</td>\n",
       "      <td>0.443682</td>\n",
       "      <td>0.228782</td>\n",
       "      <td>0.142930</td>\n",
       "      <td>0.071465</td>\n",
       "      <td>0.047643</td>\n",
       "      <td>0.007147</td>\n",
       "      <td>0.443682</td>\n",
       "      <td>0.512386</td>\n",
       "      <td>0.519640</td>\n",
       "      <td>...</td>\n",
       "      <td>0.571429</td>\n",
       "      <td>0.492177</td>\n",
       "      <td>0.553086</td>\n",
       "      <td>0.555651</td>\n",
       "      <td>0.555651</td>\n",
       "      <td>0.555651</td>\n",
       "      <td>0.555651</td>\n",
       "      <td>0.112742</td>\n",
       "      <td>NaN</td>\n",
       "      <td>NaN</td>\n",
       "    </tr>\n",
       "    <tr>\n",
       "      <th>min</th>\n",
       "      <td>2021-02-03 00:00:00</td>\n",
       "      <td>0.000000</td>\n",
       "      <td>0.000000</td>\n",
       "      <td>0.000000</td>\n",
       "      <td>0.000000</td>\n",
       "      <td>0.000000</td>\n",
       "      <td>0.000000</td>\n",
       "      <td>0.000000</td>\n",
       "      <td>0.000000</td>\n",
       "      <td>0.000000</td>\n",
       "      <td>...</td>\n",
       "      <td>0.000000</td>\n",
       "      <td>0.000000</td>\n",
       "      <td>0.000000</td>\n",
       "      <td>0.000000</td>\n",
       "      <td>0.000000</td>\n",
       "      <td>0.000000</td>\n",
       "      <td>0.000000</td>\n",
       "      <td>0.069176</td>\n",
       "      <td>NaN</td>\n",
       "      <td>NaN</td>\n",
       "    </tr>\n",
       "    <tr>\n",
       "      <th>25%</th>\n",
       "      <td>2021-09-09 18:00:00</td>\n",
       "      <td>0.000000</td>\n",
       "      <td>0.000000</td>\n",
       "      <td>0.000000</td>\n",
       "      <td>0.000000</td>\n",
       "      <td>0.000000</td>\n",
       "      <td>0.000000</td>\n",
       "      <td>0.000000</td>\n",
       "      <td>0.000000</td>\n",
       "      <td>0.000000</td>\n",
       "      <td>...</td>\n",
       "      <td>0.000000</td>\n",
       "      <td>0.000000</td>\n",
       "      <td>0.000000</td>\n",
       "      <td>0.000000</td>\n",
       "      <td>0.000000</td>\n",
       "      <td>0.000000</td>\n",
       "      <td>0.000000</td>\n",
       "      <td>0.070235</td>\n",
       "      <td>NaN</td>\n",
       "      <td>NaN</td>\n",
       "    </tr>\n",
       "    <tr>\n",
       "      <th>50%</th>\n",
       "      <td>2022-04-16 12:00:00</td>\n",
       "      <td>0.449580</td>\n",
       "      <td>0.333333</td>\n",
       "      <td>0.200000</td>\n",
       "      <td>0.100000</td>\n",
       "      <td>0.066667</td>\n",
       "      <td>0.010000</td>\n",
       "      <td>0.449580</td>\n",
       "      <td>0.780729</td>\n",
       "      <td>0.782990</td>\n",
       "      <td>...</td>\n",
       "      <td>1.000000</td>\n",
       "      <td>0.551212</td>\n",
       "      <td>0.901992</td>\n",
       "      <td>0.912848</td>\n",
       "      <td>0.912848</td>\n",
       "      <td>0.912848</td>\n",
       "      <td>0.912848</td>\n",
       "      <td>0.121991</td>\n",
       "      <td>NaN</td>\n",
       "      <td>NaN</td>\n",
       "    </tr>\n",
       "    <tr>\n",
       "      <th>75%</th>\n",
       "      <td>2022-11-21 06:00:00</td>\n",
       "      <td>0.935789</td>\n",
       "      <td>0.344822</td>\n",
       "      <td>0.210879</td>\n",
       "      <td>0.105439</td>\n",
       "      <td>0.070293</td>\n",
       "      <td>0.010544</td>\n",
       "      <td>0.935789</td>\n",
       "      <td>0.976302</td>\n",
       "      <td>0.976302</td>\n",
       "      <td>...</td>\n",
       "      <td>1.000000</td>\n",
       "      <td>1.000000</td>\n",
       "      <td>1.000000</td>\n",
       "      <td>1.000000</td>\n",
       "      <td>1.000000</td>\n",
       "      <td>1.000000</td>\n",
       "      <td>1.000000</td>\n",
       "      <td>0.136033</td>\n",
       "      <td>NaN</td>\n",
       "      <td>NaN</td>\n",
       "    </tr>\n",
       "    <tr>\n",
       "      <th>max</th>\n",
       "      <td>2023-06-28 00:00:00</td>\n",
       "      <td>1.000000</td>\n",
       "      <td>0.728058</td>\n",
       "      <td>0.537842</td>\n",
       "      <td>0.268921</td>\n",
       "      <td>0.179281</td>\n",
       "      <td>0.026892</td>\n",
       "      <td>1.000000</td>\n",
       "      <td>1.000000</td>\n",
       "      <td>1.000000</td>\n",
       "      <td>...</td>\n",
       "      <td>1.000000</td>\n",
       "      <td>1.000000</td>\n",
       "      <td>1.000000</td>\n",
       "      <td>1.000000</td>\n",
       "      <td>1.000000</td>\n",
       "      <td>1.000000</td>\n",
       "      <td>1.000000</td>\n",
       "      <td>0.292331</td>\n",
       "      <td>NaN</td>\n",
       "      <td>NaN</td>\n",
       "    </tr>\n",
       "    <tr>\n",
       "      <th>std</th>\n",
       "      <td>NaN</td>\n",
       "      <td>0.428017</td>\n",
       "      <td>0.217588</td>\n",
       "      <td>0.139027</td>\n",
       "      <td>0.069513</td>\n",
       "      <td>0.046342</td>\n",
       "      <td>0.006951</td>\n",
       "      <td>0.428017</td>\n",
       "      <td>0.456213</td>\n",
       "      <td>0.458571</td>\n",
       "      <td>...</td>\n",
       "      <td>0.496847</td>\n",
       "      <td>0.452181</td>\n",
       "      <td>0.484068</td>\n",
       "      <td>0.485551</td>\n",
       "      <td>0.485551</td>\n",
       "      <td>0.485551</td>\n",
       "      <td>0.485551</td>\n",
       "      <td>0.046326</td>\n",
       "      <td>NaN</td>\n",
       "      <td>NaN</td>\n",
       "    </tr>\n",
       "  </tbody>\n",
       "</table>\n",
       "<p>8 rows × 34 columns</p>\n",
       "</div>"
      ],
      "text/plain": [
       "                      fold  precision@1  precision@3  precision@5  \\\n",
       "count                  126   126.000000   126.000000   126.000000   \n",
       "mean   2022-04-16 12:00:00     0.443682     0.228782     0.142930   \n",
       "min    2021-02-03 00:00:00     0.000000     0.000000     0.000000   \n",
       "25%    2021-09-09 18:00:00     0.000000     0.000000     0.000000   \n",
       "50%    2022-04-16 12:00:00     0.449580     0.333333     0.200000   \n",
       "75%    2022-11-21 06:00:00     0.935789     0.344822     0.210879   \n",
       "max    2023-06-28 00:00:00     1.000000     0.728058     0.537842   \n",
       "std                    NaN     0.428017     0.217588     0.139027   \n",
       "\n",
       "       precision@10  precision@15  precision@100      ndcg@1      ndcg@3  \\\n",
       "count    126.000000    126.000000     126.000000  126.000000  126.000000   \n",
       "mean       0.071465      0.047643       0.007147    0.443682    0.512386   \n",
       "min        0.000000      0.000000       0.000000    0.000000    0.000000   \n",
       "25%        0.000000      0.000000       0.000000    0.000000    0.000000   \n",
       "50%        0.100000      0.066667       0.010000    0.449580    0.780729   \n",
       "75%        0.105439      0.070293       0.010544    0.935789    0.976302   \n",
       "max        0.268921      0.179281       0.026892    1.000000    1.000000   \n",
       "std        0.069513      0.046342       0.006951    0.428017    0.456213   \n",
       "\n",
       "           ndcg@5  ...  recall@100  r-precision@1  r-precision@3  \\\n",
       "count  126.000000  ...  126.000000     126.000000     126.000000   \n",
       "mean     0.519640  ...    0.571429       0.492177       0.553086   \n",
       "min      0.000000  ...    0.000000       0.000000       0.000000   \n",
       "25%      0.000000  ...    0.000000       0.000000       0.000000   \n",
       "50%      0.782990  ...    1.000000       0.551212       0.901992   \n",
       "75%      0.976302  ...    1.000000       1.000000       1.000000   \n",
       "max      1.000000  ...    1.000000       1.000000       1.000000   \n",
       "std      0.458571  ...    0.496847       0.452181       0.484068   \n",
       "\n",
       "       r-precision@5  r-precision@10  r-precision@15  r-precision@100  \\\n",
       "count     126.000000      126.000000      126.000000       126.000000   \n",
       "mean        0.555651        0.555651        0.555651         0.555651   \n",
       "min         0.000000        0.000000        0.000000         0.000000   \n",
       "25%         0.000000        0.000000        0.000000         0.000000   \n",
       "50%         0.912848        0.912848        0.912848         0.912848   \n",
       "75%         1.000000        1.000000        1.000000         1.000000   \n",
       "max         1.000000        1.000000        1.000000         1.000000   \n",
       "std         0.485551        0.485551        0.485551         0.485551   \n",
       "\n",
       "        time_eval  perfect precision@5  perfect precision@10  \n",
       "count  126.000000                  0.0                   0.0  \n",
       "mean     0.112742                  NaN                   NaN  \n",
       "min      0.069176                  NaN                   NaN  \n",
       "25%      0.070235                  NaN                   NaN  \n",
       "50%      0.121991                  NaN                   NaN  \n",
       "75%      0.136033                  NaN                   NaN  \n",
       "max      0.292331                  NaN                   NaN  \n",
       "std      0.046326                  NaN                   NaN  \n",
       "\n",
       "[8 rows x 34 columns]"
      ]
     },
     "execution_count": 12,
     "metadata": {},
     "output_type": "execute_result"
    },
    {
     "data": {
      "image/png": "[encoded data removed]",
      "text/plain": [
       "<Figure size 640x480 with 1 Axes>"
      ]
     },
     "metadata": {},
     "output_type": "display_data"
    }
   ],
   "source": [
    "mdf = pd.DataFrame(metrics)\n",
    "mdf['perfect precision@5'] = pdf['precision@5']\n",
    "mdf['perfect precision@10'] = pdf['precision@10']\n",
    "mdf[['precision@5', 'perfect precision@5', 'precision@10', 'perfect precision@10']].plot(title='Evaluación modelo baseline MP')\n",
    "mdf.describe()"
   ]
  },
  {
   "cell_type": "code",
   "execution_count": 13,
   "id": "bbd96649",
   "metadata": {
    "execution": {
     "iopub.execute_input": "2024-09-05T09:29:02.990708Z",
     "iopub.status.busy": "2024-09-05T09:29:02.990564Z",
     "iopub.status.idle": "2024-09-05T09:29:03.016428Z",
     "shell.execute_reply": "2024-09-05T09:29:03.016134Z"
    },
    "papermill": {
     "duration": 0.032491,
     "end_time": "2024-09-05T09:29:03.017148",
     "exception": false,
     "start_time": "2024-09-05T09:29:02.984657",
     "status": "completed"
    },
    "tags": []
   },
   "outputs": [
    {
     "data": {
      "text/html": [
       "<div>\n",
       "<style scoped>\n",
       "    .dataframe tbody tr th:only-of-type {\n",
       "        vertical-align: middle;\n",
       "    }\n",
       "\n",
       "    .dataframe tbody tr th {\n",
       "        vertical-align: top;\n",
       "    }\n",
       "\n",
       "    .dataframe thead th {\n",
       "        text-align: right;\n",
       "    }\n",
       "</style>\n",
       "<table border=\"1\" class=\"dataframe\">\n",
       "  <thead>\n",
       "    <tr style=\"text-align: right;\">\n",
       "      <th></th>\n",
       "      <th>fold</th>\n",
       "      <th>precision@1</th>\n",
       "      <th>precision@3</th>\n",
       "      <th>precision@5</th>\n",
       "      <th>precision@10</th>\n",
       "      <th>precision@15</th>\n",
       "      <th>precision@100</th>\n",
       "      <th>ndcg@1</th>\n",
       "      <th>ndcg@3</th>\n",
       "      <th>ndcg@5</th>\n",
       "      <th>...</th>\n",
       "      <th>recall@100</th>\n",
       "      <th>r-precision@1</th>\n",
       "      <th>r-precision@3</th>\n",
       "      <th>r-precision@5</th>\n",
       "      <th>r-precision@10</th>\n",
       "      <th>r-precision@15</th>\n",
       "      <th>r-precision@100</th>\n",
       "      <th>time_eval</th>\n",
       "      <th>perfect precision@5</th>\n",
       "      <th>perfect precision@10</th>\n",
       "    </tr>\n",
       "  </thead>\n",
       "  <tbody>\n",
       "    <tr>\n",
       "      <th>count</th>\n",
       "      <td>10</td>\n",
       "      <td>10.000000</td>\n",
       "      <td>10.000000</td>\n",
       "      <td>10.000000</td>\n",
       "      <td>10.000000</td>\n",
       "      <td>10.000000</td>\n",
       "      <td>10.000000</td>\n",
       "      <td>10.000000</td>\n",
       "      <td>10.000000</td>\n",
       "      <td>10.000000</td>\n",
       "      <td>...</td>\n",
       "      <td>10.000000</td>\n",
       "      <td>10.000000</td>\n",
       "      <td>10.000000</td>\n",
       "      <td>10.000000</td>\n",
       "      <td>10.000000</td>\n",
       "      <td>10.000000</td>\n",
       "      <td>10.000000</td>\n",
       "      <td>10.000000</td>\n",
       "      <td>0.0</td>\n",
       "      <td>0.0</td>\n",
       "    </tr>\n",
       "    <tr>\n",
       "      <th>mean</th>\n",
       "      <td>2023-05-27 12:00:00</td>\n",
       "      <td>0.497468</td>\n",
       "      <td>0.320609</td>\n",
       "      <td>0.213590</td>\n",
       "      <td>0.106795</td>\n",
       "      <td>0.071197</td>\n",
       "      <td>0.010679</td>\n",
       "      <td>0.497468</td>\n",
       "      <td>0.533587</td>\n",
       "      <td>0.552724</td>\n",
       "      <td>...</td>\n",
       "      <td>0.600000</td>\n",
       "      <td>0.402299</td>\n",
       "      <td>0.565650</td>\n",
       "      <td>0.580896</td>\n",
       "      <td>0.580896</td>\n",
       "      <td>0.580896</td>\n",
       "      <td>0.580896</td>\n",
       "      <td>0.116181</td>\n",
       "      <td>NaN</td>\n",
       "      <td>NaN</td>\n",
       "    </tr>\n",
       "    <tr>\n",
       "      <th>min</th>\n",
       "      <td>2023-04-26 00:00:00</td>\n",
       "      <td>0.000000</td>\n",
       "      <td>0.000000</td>\n",
       "      <td>0.000000</td>\n",
       "      <td>0.000000</td>\n",
       "      <td>0.000000</td>\n",
       "      <td>0.000000</td>\n",
       "      <td>0.000000</td>\n",
       "      <td>0.000000</td>\n",
       "      <td>0.000000</td>\n",
       "      <td>...</td>\n",
       "      <td>0.000000</td>\n",
       "      <td>0.000000</td>\n",
       "      <td>0.000000</td>\n",
       "      <td>0.000000</td>\n",
       "      <td>0.000000</td>\n",
       "      <td>0.000000</td>\n",
       "      <td>0.000000</td>\n",
       "      <td>0.069176</td>\n",
       "      <td>NaN</td>\n",
       "      <td>NaN</td>\n",
       "    </tr>\n",
       "    <tr>\n",
       "      <th>25%</th>\n",
       "      <td>2023-05-11 18:00:00</td>\n",
       "      <td>0.000000</td>\n",
       "      <td>0.000000</td>\n",
       "      <td>0.000000</td>\n",
       "      <td>0.000000</td>\n",
       "      <td>0.000000</td>\n",
       "      <td>0.000000</td>\n",
       "      <td>0.000000</td>\n",
       "      <td>0.000000</td>\n",
       "      <td>0.000000</td>\n",
       "      <td>...</td>\n",
       "      <td>0.000000</td>\n",
       "      <td>0.000000</td>\n",
       "      <td>0.000000</td>\n",
       "      <td>0.000000</td>\n",
       "      <td>0.000000</td>\n",
       "      <td>0.000000</td>\n",
       "      <td>0.000000</td>\n",
       "      <td>0.070024</td>\n",
       "      <td>NaN</td>\n",
       "      <td>NaN</td>\n",
       "    </tr>\n",
       "    <tr>\n",
       "      <th>50%</th>\n",
       "      <td>2023-05-27 12:00:00</td>\n",
       "      <td>0.721797</td>\n",
       "      <td>0.336278</td>\n",
       "      <td>0.201767</td>\n",
       "      <td>0.100883</td>\n",
       "      <td>0.067256</td>\n",
       "      <td>0.010088</td>\n",
       "      <td>0.721797</td>\n",
       "      <td>0.767525</td>\n",
       "      <td>0.863208</td>\n",
       "      <td>...</td>\n",
       "      <td>1.000000</td>\n",
       "      <td>0.445804</td>\n",
       "      <td>0.838386</td>\n",
       "      <td>0.911238</td>\n",
       "      <td>0.911238</td>\n",
       "      <td>0.911238</td>\n",
       "      <td>0.911238</td>\n",
       "      <td>0.130198</td>\n",
       "      <td>NaN</td>\n",
       "      <td>NaN</td>\n",
       "    </tr>\n",
       "    <tr>\n",
       "      <th>75%</th>\n",
       "      <td>2023-06-12 06:00:00</td>\n",
       "      <td>0.818784</td>\n",
       "      <td>0.611068</td>\n",
       "      <td>0.409991</td>\n",
       "      <td>0.204995</td>\n",
       "      <td>0.136664</td>\n",
       "      <td>0.020500</td>\n",
       "      <td>0.818784</td>\n",
       "      <td>0.919715</td>\n",
       "      <td>0.919715</td>\n",
       "      <td>...</td>\n",
       "      <td>1.000000</td>\n",
       "      <td>0.593986</td>\n",
       "      <td>0.994932</td>\n",
       "      <td>0.996622</td>\n",
       "      <td>0.996622</td>\n",
       "      <td>0.996622</td>\n",
       "      <td>0.996622</td>\n",
       "      <td>0.154314</td>\n",
       "      <td>NaN</td>\n",
       "      <td>NaN</td>\n",
       "    </tr>\n",
       "    <tr>\n",
       "      <th>max</th>\n",
       "      <td>2023-06-28 00:00:00</td>\n",
       "      <td>1.000000</td>\n",
       "      <td>0.712644</td>\n",
       "      <td>0.524138</td>\n",
       "      <td>0.262069</td>\n",
       "      <td>0.174713</td>\n",
       "      <td>0.026207</td>\n",
       "      <td>1.000000</td>\n",
       "      <td>1.000000</td>\n",
       "      <td>1.000000</td>\n",
       "      <td>...</td>\n",
       "      <td>1.000000</td>\n",
       "      <td>1.000000</td>\n",
       "      <td>1.000000</td>\n",
       "      <td>1.000000</td>\n",
       "      <td>1.000000</td>\n",
       "      <td>1.000000</td>\n",
       "      <td>1.000000</td>\n",
       "      <td>0.158622</td>\n",
       "      <td>NaN</td>\n",
       "      <td>NaN</td>\n",
       "    </tr>\n",
       "    <tr>\n",
       "      <th>std</th>\n",
       "      <td>NaN</td>\n",
       "      <td>0.436943</td>\n",
       "      <td>0.300583</td>\n",
       "      <td>0.208653</td>\n",
       "      <td>0.104326</td>\n",
       "      <td>0.069551</td>\n",
       "      <td>0.010433</td>\n",
       "      <td>0.436943</td>\n",
       "      <td>0.465599</td>\n",
       "      <td>0.477657</td>\n",
       "      <td>...</td>\n",
       "      <td>0.516398</td>\n",
       "      <td>0.397130</td>\n",
       "      <td>0.492329</td>\n",
       "      <td>0.501474</td>\n",
       "      <td>0.501474</td>\n",
       "      <td>0.501474</td>\n",
       "      <td>0.501474</td>\n",
       "      <td>0.041411</td>\n",
       "      <td>NaN</td>\n",
       "      <td>NaN</td>\n",
       "    </tr>\n",
       "  </tbody>\n",
       "</table>\n",
       "<p>8 rows × 34 columns</p>\n",
       "</div>"
      ],
      "text/plain": [
       "                      fold  precision@1  precision@3  precision@5  \\\n",
       "count                   10    10.000000    10.000000    10.000000   \n",
       "mean   2023-05-27 12:00:00     0.497468     0.320609     0.213590   \n",
       "min    2023-04-26 00:00:00     0.000000     0.000000     0.000000   \n",
       "25%    2023-05-11 18:00:00     0.000000     0.000000     0.000000   \n",
       "50%    2023-05-27 12:00:00     0.721797     0.336278     0.201767   \n",
       "75%    2023-06-12 06:00:00     0.818784     0.611068     0.409991   \n",
       "max    2023-06-28 00:00:00     1.000000     0.712644     0.524138   \n",
       "std                    NaN     0.436943     0.300583     0.208653   \n",
       "\n",
       "       precision@10  precision@15  precision@100     ndcg@1     ndcg@3  \\\n",
       "count     10.000000     10.000000      10.000000  10.000000  10.000000   \n",
       "mean       0.106795      0.071197       0.010679   0.497468   0.533587   \n",
       "min        0.000000      0.000000       0.000000   0.000000   0.000000   \n",
       "25%        0.000000      0.000000       0.000000   0.000000   0.000000   \n",
       "50%        0.100883      0.067256       0.010088   0.721797   0.767525   \n",
       "75%        0.204995      0.136664       0.020500   0.818784   0.919715   \n",
       "max        0.262069      0.174713       0.026207   1.000000   1.000000   \n",
       "std        0.104326      0.069551       0.010433   0.436943   0.465599   \n",
       "\n",
       "          ndcg@5  ...  recall@100  r-precision@1  r-precision@3  \\\n",
       "count  10.000000  ...   10.000000      10.000000      10.000000   \n",
       "mean    0.552724  ...    0.600000       0.402299       0.565650   \n",
       "min     0.000000  ...    0.000000       0.000000       0.000000   \n",
       "25%     0.000000  ...    0.000000       0.000000       0.000000   \n",
       "50%     0.863208  ...    1.000000       0.445804       0.838386   \n",
       "75%     0.919715  ...    1.000000       0.593986       0.994932   \n",
       "max     1.000000  ...    1.000000       1.000000       1.000000   \n",
       "std     0.477657  ...    0.516398       0.397130       0.492329   \n",
       "\n",
       "       r-precision@5  r-precision@10  r-precision@15  r-precision@100  \\\n",
       "count      10.000000       10.000000       10.000000        10.000000   \n",
       "mean        0.580896        0.580896        0.580896         0.580896   \n",
       "min         0.000000        0.000000        0.000000         0.000000   \n",
       "25%         0.000000        0.000000        0.000000         0.000000   \n",
       "50%         0.911238        0.911238        0.911238         0.911238   \n",
       "75%         0.996622        0.996622        0.996622         0.996622   \n",
       "max         1.000000        1.000000        1.000000         1.000000   \n",
       "std         0.501474        0.501474        0.501474         0.501474   \n",
       "\n",
       "       time_eval  perfect precision@5  perfect precision@10  \n",
       "count  10.000000                  0.0                   0.0  \n",
       "mean    0.116181                  NaN                   NaN  \n",
       "min     0.069176                  NaN                   NaN  \n",
       "25%     0.070024                  NaN                   NaN  \n",
       "50%     0.130198                  NaN                   NaN  \n",
       "75%     0.154314                  NaN                   NaN  \n",
       "max     0.158622                  NaN                   NaN  \n",
       "std     0.041411                  NaN                   NaN  \n",
       "\n",
       "[8 rows x 34 columns]"
      ]
     },
     "execution_count": 13,
     "metadata": {},
     "output_type": "execute_result"
    }
   ],
   "source": [
    "mdf[-LAST_FOLDS:].describe()"
   ]
  },
  {
   "cell_type": "code",
   "execution_count": null,
   "id": "ee4fb761",
   "metadata": {
    "papermill": {
     "duration": 0.005378,
     "end_time": "2024-09-05T09:29:03.027947",
     "exception": false,
     "start_time": "2024-09-05T09:29:03.022569",
     "status": "completed"
    },
    "tags": []
   },
   "outputs": [],
   "source": []
  }
 ],
 "metadata": {
  "kernelspec": {
   "display_name": "Python 3 (ipykernel)",
   "language": "python",
   "name": "python3"
  },
  "language_info": {
   "codemirror_mode": {
    "name": "ipython",
    "version": 3
   },
   "file_extension": ".py",
   "mimetype": "text/x-python",
   "name": "python",
   "nbconvert_exporter": "python",
   "pygments_lexer": "ipython3",
   "version": "3.11.6"
  },
  "papermill": {
   "default_parameters": {},
   "duration": 37.240311,
   "end_time": "2024-09-05T09:29:04.051284",
   "environment_variables": {},
   "exception": null,
   "input_path": "10_baseline.ipynb",
   "output_path": "../nbout/Lido/10_baseline.ipynb",
   "parameters": {
    "EXECUTION_ID": "2024-09-04T10:00",
    "LAST_FOLDS": 10,
    "LAST_FOLD_DATE_STR": "2022-07-06",
    "ORG_NAME": "Lido",
    "SPLITS_FREQ": "W-WED",
    "SPLITS_NORMALIZE": true
   },
   "start_time": "2024-09-05T09:28:26.810973",
   "version": "2.6.0"
  },
  "widgets": {
   "application/vnd.jupyter.widget-state+json": {
    "state": {
     "2ff701db6eae4ee79c5c22fb47606bb2": {
      "model_module": "@jupyter-widgets/controls",
      "model_module_version": "2.0.0",
      "model_name": "HTMLModel",
      "state": {
       "_dom_classes": [],
       "_model_module": "@jupyter-widgets/controls",
       "_model_module_version": "2.0.0",
       "_model_name": "HTMLModel",
       "_view_count": null,
       "_view_module": "@jupyter-widgets/controls",
       "_view_module_version": "2.0.0",
       "_view_name": "HTMLView",
       "description": "",
       "description_allow_html": false,
       "layout": "IPY_MODEL_6f320f0e7f89457ab0da1d1d4ba4832d",
       "placeholder": "​",
       "style": "IPY_MODEL_8a3597b8a87c42a29b6d3e0bff917f25",
       "tabbable": null,
       "tooltip": null,
       "value": "100%"
      }
     },
     "461d185d50be43b38c567e014104e6b8": {
      "model_module": "@jupyter-widgets/controls",
      "model_module_version": "2.0.0",
      "model_name": "FloatProgressModel",
      "state": {
       "_dom_classes": [],
       "_model_module": "@jupyter-widgets/controls",
       "_model_module_version": "2.0.0",
       "_model_name": "FloatProgressModel",
       "_view_count": null,
       "_view_module": "@jupyter-widgets/controls",
       "_view_module_version": "2.0.0",
       "_view_name": "ProgressView",
       "bar_style": "success",
       "description": "",
       "description_allow_html": false,
       "layout": "IPY_MODEL_c14f1465ccdb4b82a6b144d9ac82dd2c",
       "max": 126.0,
       "min": 0.0,
       "orientation": "horizontal",
       "style": "IPY_MODEL_f5899d7fb5fa45c9894d9e63b31a7fd5",
       "tabbable": null,
       "tooltip": null,
       "value": 126.0
      }
     },
     "6f320f0e7f89457ab0da1d1d4ba4832d": {
      "model_module": "@jupyter-widgets/base",
      "model_module_version": "2.0.0",
      "model_name": "LayoutModel",
      "state": {
       "_model_module": "@jupyter-widgets/base",
       "_model_module_version": "2.0.0",
       "_model_name": "LayoutModel",
       "_view_count": null,
       "_view_module": "@jupyter-widgets/base",
       "_view_module_version": "2.0.0",
       "_view_name": "LayoutView",
       "align_content": null,
       "align_items": null,
       "align_self": null,
       "border_bottom": null,
       "border_left": null,
       "border_right": null,
       "border_top": null,
       "bottom": null,
       "display": null,
       "flex": null,
       "flex_flow": null,
       "grid_area": null,
       "grid_auto_columns": null,
       "grid_auto_flow": null,
       "grid_auto_rows": null,
       "grid_column": null,
       "grid_gap": null,
       "grid_row": null,
       "grid_template_areas": null,
       "grid_template_columns": null,
       "grid_template_rows": null,
       "height": null,
       "justify_content": null,
       "justify_items": null,
       "left": null,
       "margin": null,
       "max_height": null,
       "max_width": null,
       "min_height": null,
       "min_width": null,
       "object_fit": null,
       "object_position": null,
       "order": null,
       "overflow": null,
       "padding": null,
       "right": null,
       "top": null,
       "visibility": null,
       "width": null
      }
     },
     "8a3597b8a87c42a29b6d3e0bff917f25": {
      "model_module": "@jupyter-widgets/controls",
      "model_module_version": "2.0.0",
      "model_name": "HTMLStyleModel",
      "state": {
       "_model_module": "@jupyter-widgets/controls",
       "_model_module_version": "2.0.0",
       "_model_name": "HTMLStyleModel",
       "_view_count": null,
       "_view_module": "@jupyter-widgets/base",
       "_view_module_version": "2.0.0",
       "_view_name": "StyleView",
       "background": null,
       "description_width": "",
       "font_size": null,
       "text_color": null
      }
     },
     "a077a49babb1493ba48bba594ab788d0": {
      "model_module": "@jupyter-widgets/base",
      "model_module_version": "2.0.0",
      "model_name": "LayoutModel",
      "state": {
       "_model_module": "@jupyter-widgets/base",
       "_model_module_version": "2.0.0",
       "_model_name": "LayoutModel",
       "_view_count": null,
       "_view_module": "@jupyter-widgets/base",
       "_view_module_version": "2.0.0",
       "_view_name": "LayoutView",
       "align_content": null,
       "align_items": null,
       "align_self": null,
       "border_bottom": null,
       "border_left": null,
       "border_right": null,
       "border_top": null,
       "bottom": null,
       "display": null,
       "flex": null,
       "flex_flow": null,
       "grid_area": null,
       "grid_auto_columns": null,
       "grid_auto_flow": null,
       "grid_auto_rows": null,
       "grid_column": null,
       "grid_gap": null,
       "grid_row": null,
       "grid_template_areas": null,
       "grid_template_columns": null,
       "grid_template_rows": null,
       "height": null,
       "justify_content": null,
       "justify_items": null,
       "left": null,
       "margin": null,
       "max_height": null,
       "max_width": null,
       "min_height": null,
       "min_width": null,
       "object_fit": null,
       "object_position": null,
       "order": null,
       "overflow": null,
       "padding": null,
       "right": null,
       "top": null,
       "visibility": null,
       "width": null
      }
     },
     "a57db2d9efb342eea909952513e3eac2": {
      "model_module": "@jupyter-widgets/controls",
      "model_module_version": "2.0.0",
      "model_name": "HTMLModel",
      "state": {
       "_dom_classes": [],
       "_model_module": "@jupyter-widgets/controls",
       "_model_module_version": "2.0.0",
       "_model_name": "HTMLModel",
       "_view_count": null,
       "_view_module": "@jupyter-widgets/controls",
       "_view_module_version": "2.0.0",
       "_view_name": "HTMLView",
       "description": "",
       "description_allow_html": false,
       "layout": "IPY_MODEL_b5f3a253974d4bcd85844476b02ec133",
       "placeholder": "​",
       "style": "IPY_MODEL_b06fccabe72b47f583b4bc320587cd3d",
       "tabbable": null,
       "tooltip": null,
       "value": " 126/126 [00:30&lt;00:00,  4.20it/s]"
      }
     },
     "b06fccabe72b47f583b4bc320587cd3d": {
      "model_module": "@jupyter-widgets/controls",
      "model_module_version": "2.0.0",
      "model_name": "HTMLStyleModel",
      "state": {
       "_model_module": "@jupyter-widgets/controls",
       "_model_module_version": "2.0.0",
       "_model_name": "HTMLStyleModel",
       "_view_count": null,
       "_view_module": "@jupyter-widgets/base",
       "_view_module_version": "2.0.0",
       "_view_name": "StyleView",
       "background": null,
       "description_width": "",
       "font_size": null,
       "text_color": null
      }
     },
     "b5f3a253974d4bcd85844476b02ec133": {
      "model_module": "@jupyter-widgets/base",
      "model_module_version": "2.0.0",
      "model_name": "LayoutModel",
      "state": {
       "_model_module": "@jupyter-widgets/base",
       "_model_module_version": "2.0.0",
       "_model_name": "LayoutModel",
       "_view_count": null,
       "_view_module": "@jupyter-widgets/base",
       "_view_module_version": "2.0.0",
       "_view_name": "LayoutView",
       "align_content": null,
       "align_items": null,
       "align_self": null,
       "border_bottom": null,
       "border_left": null,
       "border_right": null,
       "border_top": null,
       "bottom": null,
       "display": null,
       "flex": null,
       "flex_flow": null,
       "grid_area": null,
       "grid_auto_columns": null,
       "grid_auto_flow": null,
       "grid_auto_rows": null,
       "grid_column": null,
       "grid_gap": null,
       "grid_row": null,
       "grid_template_areas": null,
       "grid_template_columns": null,
       "grid_template_rows": null,
       "height": null,
       "justify_content": null,
       "justify_items": null,
       "left": null,
       "margin": null,
       "max_height": null,
       "max_width": null,
       "min_height": null,
       "min_width": null,
       "object_fit": null,
       "object_position": null,
       "order": null,
       "overflow": null,
       "padding": null,
       "right": null,
       "top": null,
       "visibility": null,
       "width": null
      }
     },
     "c14f1465ccdb4b82a6b144d9ac82dd2c": {
      "model_module": "@jupyter-widgets/base",
      "model_module_version": "2.0.0",
      "model_name": "LayoutModel",
      "state": {
       "_model_module": "@jupyter-widgets/base",
       "_model_module_version": "2.0.0",
       "_model_name": "LayoutModel",
       "_view_count": null,
       "_view_module": "@jupyter-widgets/base",
       "_view_module_version": "2.0.0",
       "_view_name": "LayoutView",
       "align_content": null,
       "align_items": null,
       "align_self": null,
       "border_bottom": null,
       "border_left": null,
       "border_right": null,
       "border_top": null,
       "bottom": null,
       "display": null,
       "flex": null,
       "flex_flow": null,
       "grid_area": null,
       "grid_auto_columns": null,
       "grid_auto_flow": null,
       "grid_auto_rows": null,
       "grid_column": null,
       "grid_gap": null,
       "grid_row": null,
       "grid_template_areas": null,
       "grid_template_columns": null,
       "grid_template_rows": null,
       "height": null,
       "justify_content": null,
       "justify_items": null,
       "left": null,
       "margin": null,
       "max_height": null,
       "max_width": null,
       "min_height": null,
       "min_width": null,
       "object_fit": null,
       "object_position": null,
       "order": null,
       "overflow": null,
       "padding": null,
       "right": null,
       "top": null,
       "visibility": null,
       "width": null
      }
     },
     "d6ecafd4ad1c46f898d66a6b47ff736c": {
      "model_module": "@jupyter-widgets/controls",
      "model_module_version": "2.0.0",
      "model_name": "HBoxModel",
      "state": {
       "_dom_classes": [],
       "_model_module": "@jupyter-widgets/controls",
       "_model_module_version": "2.0.0",
       "_model_name": "HBoxModel",
       "_view_count": null,
       "_view_module": "@jupyter-widgets/controls",
       "_view_module_version": "2.0.0",
       "_view_name": "HBoxView",
       "box_style": "",
       "children": [
        "IPY_MODEL_2ff701db6eae4ee79c5c22fb47606bb2",
        "IPY_MODEL_461d185d50be43b38c567e014104e6b8",
        "IPY_MODEL_a57db2d9efb342eea909952513e3eac2"
       ],
       "layout": "IPY_MODEL_a077a49babb1493ba48bba594ab788d0",
       "tabbable": null,
       "tooltip": null
      }
     },
     "f5899d7fb5fa45c9894d9e63b31a7fd5": {
      "model_module": "@jupyter-widgets/controls",
      "model_module_version": "2.0.0",
      "model_name": "ProgressStyleModel",
      "state": {
       "_model_module": "@jupyter-widgets/controls",
       "_model_module_version": "2.0.0",
       "_model_name": "ProgressStyleModel",
       "_view_count": null,
       "_view_module": "@jupyter-widgets/base",
       "_view_module_version": "2.0.0",
       "_view_name": "StyleView",
       "bar_color": null,
       "description_width": ""
      }
     }
    },
    "version_major": 2,
    "version_minor": 0
   }
  }
 },
 "nbformat": 4,
 "nbformat_minor": 5
}