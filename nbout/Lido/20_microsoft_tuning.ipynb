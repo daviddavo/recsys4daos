{
 "cells": [
  {
   "cell_type": "code",
   "execution_count": 1,
   "id": "3df2a844",
   "metadata": {
    "editable": true,
    "execution": {
     "iopub.execute_input": "2024-09-06T09:44:11.652896Z",
     "iopub.status.busy": "2024-09-06T09:44:11.651482Z",
     "iopub.status.idle": "2024-09-06T09:44:14.492121Z",
     "shell.execute_reply": "2024-09-06T09:44:14.491611Z"
    },
    "papermill": {
     "duration": 2.857193,
     "end_time": "2024-09-06T09:44:14.493066",
     "exception": false,
     "start_time": "2024-09-06T09:44:11.635873",
     "status": "completed"
    },
    "slideshow": {
     "slide_type": ""
    },
    "tags": []
   },
   "outputs": [
    {
     "name": "stderr",
     "output_type": "stream",
     "text": [
      "/tmp/ipykernel_4170275/1371776918.py:11: TqdmExperimentalWarning: Using `tqdm.autonotebook.tqdm` in notebook mode. Use `tqdm.tqdm` instead to force console mode (e.g. in jupyter console)\n",
      "  from tqdm.autonotebook import tqdm\n"
     ]
    },
    {
     "name": "stdout",
     "output_type": "stream",
     "text": [
      "Ignoring warnings\n",
      "3.11.6 (main, Jun 24 2024, 07:45:26) [GCC 11.4.0]\n",
      "recommenders: 1.2.0\n",
      "ray: 2.30.0\n",
      "tensorflow: 2.16.1\n"
     ]
    }
   ],
   "source": [
    "from typing import List, Dict, Any\n",
    "\n",
    "from pathlib import Path\n",
    "import os, sys\n",
    "import time\n",
    "import datetime as dt\n",
    "import itertools as it\n",
    "\n",
    "import numpy as np\n",
    "import pandas as pd\n",
    "from tqdm.autonotebook import tqdm\n",
    "import ray\n",
    "from ray import train, tune\n",
    "import ipywidgets as widgets\n",
    "\n",
    "from recsys4daos.model_selection import cvtt_open\n",
    "from recsys4daos.datasets import to_microsoft, filter_window_size\n",
    "from recsys4daos.models import LightGCNCustom\n",
    "from recsys4daos.utils import Timer\n",
    "import recsys4daos.utils.notebooks as nbu\n",
    "\n",
    "import recommenders\n",
    "if recommenders.__version__ == '1.2.0':\n",
    "    print(\"Ignoring warnings\")\n",
    "    import warnings\n",
    "    warnings.simplefilter(action='ignore', category=FutureWarning)\n",
    "\n",
    "import paths\n",
    "\n",
    "nbu.print_versions('ray', 'tensorflow')\n",
    "\n",
    "%load_ext autoreload\n",
    "%autoreload 2"
   ]
  },
  {
   "cell_type": "code",
   "execution_count": 2,
   "id": "5c92e68a",
   "metadata": {
    "editable": true,
    "execution": {
     "iopub.execute_input": "2024-09-06T09:44:14.499796Z",
     "iopub.status.busy": "2024-09-06T09:44:14.499284Z",
     "iopub.status.idle": "2024-09-06T09:44:14.521201Z",
     "shell.execute_reply": "2024-09-06T09:44:14.520942Z"
    },
    "papermill": {
     "duration": 0.026014,
     "end_time": "2024-09-06T09:44:14.522007",
     "exception": false,
     "start_time": "2024-09-06T09:44:14.495993",
     "status": "completed"
    },
    "slideshow": {
     "slide_type": ""
    },
    "tags": [
     "parameters"
    ]
   },
   "outputs": [],
   "source": [
    "# Others config\n",
    "SEED: int = 57\n",
    "RAY_RESULTS_PATH: Path = '~/ray_results3.11'\n",
    "\n",
    "# Dataset splits config\n",
    "ORG_NAME = 'Decentraland'\n",
    "SPLITS_FREQ = 'W-THU'  # Split weekly\n",
    "LAST_FOLDS = 10  # Use just last 10 splits\n",
    "SPLITS_NORMALIZE = True\n",
    "LAST_FOLD_DATE_STR: str = '2023-07-13'\n",
    "\n",
    "# Training config\n",
    "MAX_EPOCHS: int = 200\n",
    "EPOCHS_PER_ITER: int = 5\n",
    "SAMPLES_PER_SPLIT: int = 100\n",
    "MAX_TIME_TOTAL_TRAIN: int = 300\n",
    "OPTIM_METRIC: str = 'map@10'\n",
    "\n",
    "# Search space config\n",
    "MAX_EMBEDDING_DIM = 1024\n",
    "MIN_BATCH_SIZE = 6\n",
    "MAX_BATCH_SIZE = 10 # 2**10\n",
    "MIN_LR = 1e-4\n",
    "# WINDOW_SIZES = ['7d', '14d', '21d', '30d', '60d', '90d', '10YE']\n",
    "WINDOW_SIZES = ['21d', '30d', '60d', '90d', '10YE']\n",
    "GPUS = 16\n",
    "\n",
    "# Eval config\n",
    "K_RECOMMENDATIONS: List[int] = [1,3,5,10,15,100]\n",
    "METRICS: List[str] = [\"recall\", \"ndcg\", \"precision\", \"map\"]"
   ]
  },
  {
   "cell_type": "code",
   "execution_count": 3,
   "id": "f5027d89",
   "metadata": {
    "execution": {
     "iopub.execute_input": "2024-09-06T09:44:14.527418Z",
     "iopub.status.busy": "2024-09-06T09:44:14.527313Z",
     "iopub.status.idle": "2024-09-06T09:44:14.546349Z",
     "shell.execute_reply": "2024-09-06T09:44:14.546142Z"
    },
    "papermill": {
     "duration": 0.02259,
     "end_time": "2024-09-06T09:44:14.546969",
     "exception": false,
     "start_time": "2024-09-06T09:44:14.524379",
     "status": "completed"
    },
    "tags": [
     "injected-parameters"
    ]
   },
   "outputs": [],
   "source": [
    "# Parameters\n",
    "EXECUTION_ID = \"2024-09-04T10:00\"\n",
    "ORG_NAME = \"Lido\"\n",
    "SPLITS_FREQ = \"W-WED\"\n",
    "LAST_FOLDS = 10\n",
    "SPLITS_NORMALIZE = True\n",
    "LAST_FOLD_DATE_STR = \"2022-07-06\"\n"
   ]
  },
  {
   "cell_type": "code",
   "execution_count": 4,
   "id": "a4ef6081",
   "metadata": {
    "execution": {
     "iopub.execute_input": "2024-09-06T09:44:14.552350Z",
     "iopub.status.busy": "2024-09-06T09:44:14.552225Z",
     "iopub.status.idle": "2024-09-06T09:44:14.569657Z",
     "shell.execute_reply": "2024-09-06T09:44:14.569451Z"
    },
    "papermill": {
     "duration": 0.020959,
     "end_time": "2024-09-06T09:44:14.570290",
     "exception": false,
     "start_time": "2024-09-06T09:44:14.549331",
     "status": "completed"
    },
    "tags": []
   },
   "outputs": [],
   "source": [
    "RAY_RESULTS_PATH = Path(RAY_RESULTS_PATH).expanduser()"
   ]
  },
  {
   "cell_type": "markdown",
   "id": "8b65c4eb",
   "metadata": {
    "papermill": {
     "duration": 0.002326,
     "end_time": "2024-09-06T09:44:14.574957",
     "exception": false,
     "start_time": "2024-09-06T09:44:14.572631",
     "status": "completed"
    },
    "tags": []
   },
   "source": [
    "## Obtain dataset"
   ]
  },
  {
   "cell_type": "code",
   "execution_count": 5,
   "id": "77d163d2",
   "metadata": {
    "execution": {
     "iopub.execute_input": "2024-09-06T09:44:14.580194Z",
     "iopub.status.busy": "2024-09-06T09:44:14.580074Z",
     "iopub.status.idle": "2024-09-06T09:44:14.723361Z",
     "shell.execute_reply": "2024-09-06T09:44:14.722137Z"
    },
    "papermill": {
     "duration": 0.149823,
     "end_time": "2024-09-06T09:44:14.727047",
     "exception": false,
     "start_time": "2024-09-06T09:44:14.577224",
     "status": "completed"
    },
    "tags": []
   },
   "outputs": [
    {
     "name": "stdout",
     "output_type": "stream",
     "text": [
      "/home/daviddavo/recsys4daos/notebooks\r\n"
     ]
    }
   ],
   "source": [
    "!pwd"
   ]
  },
  {
   "cell_type": "code",
   "execution_count": 6,
   "id": "39c6a1a5",
   "metadata": {
    "execution": {
     "iopub.execute_input": "2024-09-06T09:44:14.743018Z",
     "iopub.status.busy": "2024-09-06T09:44:14.742852Z",
     "iopub.status.idle": "2024-09-06T09:44:14.803945Z",
     "shell.execute_reply": "2024-09-06T09:44:14.803713Z"
    },
    "papermill": {
     "duration": 0.067244,
     "end_time": "2024-09-06T09:44:14.804641",
     "exception": false,
     "start_time": "2024-09-06T09:44:14.737397",
     "status": "completed"
    },
    "tags": []
   },
   "outputs": [
    {
     "name": "stdout",
     "output_type": "stream",
     "text": [
      "<class 'pandas.core.frame.DataFrame'>\n",
      "RangeIndex: 223 entries, 0 to 222\n",
      "Data columns (total 6 columns):\n",
      " #   Column             Non-Null Count  Dtype         \n",
      "---  ------             --------------  -----         \n",
      " 0   id                 223 non-null    object        \n",
      " 1   author             223 non-null    object        \n",
      " 2   date               223 non-null    datetime64[us]\n",
      " 3   start              223 non-null    datetime64[us]\n",
      " 4   end                223 non-null    datetime64[us]\n",
      " 5   platform_proposal  223 non-null    object        \n",
      "dtypes: datetime64[us](3), object(3)\n",
      "memory usage: 10.6+ KB\n",
      "None\n",
      "<class 'pandas.core.frame.DataFrame'>\n",
      "RangeIndex: 56473 entries, 0 to 56472\n",
      "Data columns (total 4 columns):\n",
      " #   Column    Non-Null Count  Dtype         \n",
      "---  ------    --------------  -----         \n",
      " 0   id        56473 non-null  object        \n",
      " 1   proposal  56473 non-null  object        \n",
      " 2   voter     56473 non-null  object        \n",
      " 3   date      56473 non-null  datetime64[us]\n",
      "dtypes: datetime64[us](1), object(3)\n",
      "memory usage: 1.7+ MB\n",
      "None\n"
     ]
    }
   ],
   "source": [
    "dfp = paths.load_proposals(ORG_NAME)\n",
    "dfv = paths.load_votes(ORG_NAME)\n",
    "\n",
    "print(dfp.info())\n",
    "print(dfv.info())"
   ]
  },
  {
   "cell_type": "markdown",
   "id": "a1bf1736",
   "metadata": {
    "papermill": {
     "duration": 0.002508,
     "end_time": "2024-09-06T09:44:14.809785",
     "exception": false,
     "start_time": "2024-09-06T09:44:14.807277",
     "status": "completed"
    },
    "tags": []
   },
   "source": [
    "## Split data"
   ]
  },
  {
   "cell_type": "code",
   "execution_count": 7,
   "id": "99375931",
   "metadata": {
    "execution": {
     "iopub.execute_input": "2024-09-06T09:44:14.815224Z",
     "iopub.status.busy": "2024-09-06T09:44:14.815115Z",
     "iopub.status.idle": "2024-09-06T09:44:14.845710Z",
     "shell.execute_reply": "2024-09-06T09:44:14.845249Z"
    },
    "papermill": {
     "duration": 0.034233,
     "end_time": "2024-09-06T09:44:14.846428",
     "exception": false,
     "start_time": "2024-09-06T09:44:14.812195",
     "status": "completed"
    },
    "tags": []
   },
   "outputs": [
    {
     "data": {
      "text/html": [
       "<div>\n",
       "<style scoped>\n",
       "    .dataframe tbody tr th:only-of-type {\n",
       "        vertical-align: middle;\n",
       "    }\n",
       "\n",
       "    .dataframe tbody tr th {\n",
       "        vertical-align: top;\n",
       "    }\n",
       "\n",
       "    .dataframe thead th {\n",
       "        text-align: right;\n",
       "    }\n",
       "</style>\n",
       "<table border=\"1\" class=\"dataframe\">\n",
       "  <thead>\n",
       "    <tr style=\"text-align: right;\">\n",
       "      <th></th>\n",
       "      <th>userID</th>\n",
       "      <th>itemID</th>\n",
       "      <th>timestamp</th>\n",
       "      <th>rating</th>\n",
       "    </tr>\n",
       "  </thead>\n",
       "  <tbody>\n",
       "    <tr>\n",
       "      <th>0</th>\n",
       "      <td>0x68335b3ac272c8238b722963368f87de736b64d6</td>\n",
       "      <td>cda99ddd-8555-5c25-ba90-433bc3495f45</td>\n",
       "      <td>2021-02-02 07:26:45</td>\n",
       "      <td>1</td>\n",
       "    </tr>\n",
       "    <tr>\n",
       "      <th>1</th>\n",
       "      <td>0xc0afef712a1341ca78da145b2afad346e8c3574f</td>\n",
       "      <td>cda99ddd-8555-5c25-ba90-433bc3495f45</td>\n",
       "      <td>2021-02-02 09:26:08</td>\n",
       "      <td>1</td>\n",
       "    </tr>\n",
       "    <tr>\n",
       "      <th>2</th>\n",
       "      <td>0x11099ac9cc097d0c9759635b8e16c6a91ecc43da</td>\n",
       "      <td>cda99ddd-8555-5c25-ba90-433bc3495f45</td>\n",
       "      <td>2021-02-02 10:43:28</td>\n",
       "      <td>1</td>\n",
       "    </tr>\n",
       "    <tr>\n",
       "      <th>3</th>\n",
       "      <td>0xdcddb68e99aac82b649ac15b82530c2b7f079e9f</td>\n",
       "      <td>cda99ddd-8555-5c25-ba90-433bc3495f45</td>\n",
       "      <td>2021-02-02 15:58:10</td>\n",
       "      <td>1</td>\n",
       "    </tr>\n",
       "    <tr>\n",
       "      <th>4</th>\n",
       "      <td>0x10b05dd4cf5decf597bbd831a3c4bc2f9bf51fb0</td>\n",
       "      <td>cda99ddd-8555-5c25-ba90-433bc3495f45</td>\n",
       "      <td>2021-02-02 16:12:08</td>\n",
       "      <td>1</td>\n",
       "    </tr>\n",
       "    <tr>\n",
       "      <th>...</th>\n",
       "      <td>...</td>\n",
       "      <td>...</td>\n",
       "      <td>...</td>\n",
       "      <td>...</td>\n",
       "    </tr>\n",
       "    <tr>\n",
       "      <th>56468</th>\n",
       "      <td>0x7821f8b55d58d508ced1dd4ce031f0985ce1e46a</td>\n",
       "      <td>df19148b-6dd0-55b0-abb3-eb172d7b7cdb</td>\n",
       "      <td>2023-06-29 17:58:25</td>\n",
       "      <td>1</td>\n",
       "    </tr>\n",
       "    <tr>\n",
       "      <th>56469</th>\n",
       "      <td>0xa094e287128d62e6e872daba552ac139bae71354</td>\n",
       "      <td>a136bcda-9842-52c9-a070-4922625067d0</td>\n",
       "      <td>2023-06-29 17:58:37</td>\n",
       "      <td>1</td>\n",
       "    </tr>\n",
       "    <tr>\n",
       "      <th>56470</th>\n",
       "      <td>0xa094e287128d62e6e872daba552ac139bae71354</td>\n",
       "      <td>df19148b-6dd0-55b0-abb3-eb172d7b7cdb</td>\n",
       "      <td>2023-06-29 17:59:00</td>\n",
       "      <td>1</td>\n",
       "    </tr>\n",
       "    <tr>\n",
       "      <th>56471</th>\n",
       "      <td>0xf7aa189442b2d5cc4846a363892f15ff8b15f41c</td>\n",
       "      <td>3e2ac59f-c78f-57d5-b442-744af4ff6549</td>\n",
       "      <td>2023-06-29 17:59:13</td>\n",
       "      <td>1</td>\n",
       "    </tr>\n",
       "    <tr>\n",
       "      <th>56472</th>\n",
       "      <td>0xf7aa189442b2d5cc4846a363892f15ff8b15f41c</td>\n",
       "      <td>df19148b-6dd0-55b0-abb3-eb172d7b7cdb</td>\n",
       "      <td>2023-06-29 17:59:54</td>\n",
       "      <td>1</td>\n",
       "    </tr>\n",
       "  </tbody>\n",
       "</table>\n",
       "<p>56473 rows × 4 columns</p>\n",
       "</div>"
      ],
      "text/plain": [
       "                                           userID  \\\n",
       "0      0x68335b3ac272c8238b722963368f87de736b64d6   \n",
       "1      0xc0afef712a1341ca78da145b2afad346e8c3574f   \n",
       "2      0x11099ac9cc097d0c9759635b8e16c6a91ecc43da   \n",
       "3      0xdcddb68e99aac82b649ac15b82530c2b7f079e9f   \n",
       "4      0x10b05dd4cf5decf597bbd831a3c4bc2f9bf51fb0   \n",
       "...                                           ...   \n",
       "56468  0x7821f8b55d58d508ced1dd4ce031f0985ce1e46a   \n",
       "56469  0xa094e287128d62e6e872daba552ac139bae71354   \n",
       "56470  0xa094e287128d62e6e872daba552ac139bae71354   \n",
       "56471  0xf7aa189442b2d5cc4846a363892f15ff8b15f41c   \n",
       "56472  0xf7aa189442b2d5cc4846a363892f15ff8b15f41c   \n",
       "\n",
       "                                     itemID           timestamp  rating  \n",
       "0      cda99ddd-8555-5c25-ba90-433bc3495f45 2021-02-02 07:26:45       1  \n",
       "1      cda99ddd-8555-5c25-ba90-433bc3495f45 2021-02-02 09:26:08       1  \n",
       "2      cda99ddd-8555-5c25-ba90-433bc3495f45 2021-02-02 10:43:28       1  \n",
       "3      cda99ddd-8555-5c25-ba90-433bc3495f45 2021-02-02 15:58:10       1  \n",
       "4      cda99ddd-8555-5c25-ba90-433bc3495f45 2021-02-02 16:12:08       1  \n",
       "...                                     ...                 ...     ...  \n",
       "56468  df19148b-6dd0-55b0-abb3-eb172d7b7cdb 2023-06-29 17:58:25       1  \n",
       "56469  a136bcda-9842-52c9-a070-4922625067d0 2023-06-29 17:58:37       1  \n",
       "56470  df19148b-6dd0-55b0-abb3-eb172d7b7cdb 2023-06-29 17:59:00       1  \n",
       "56471  3e2ac59f-c78f-57d5-b442-744af4ff6549 2023-06-29 17:59:13       1  \n",
       "56472  df19148b-6dd0-55b0-abb3-eb172d7b7cdb 2023-06-29 17:59:54       1  \n",
       "\n",
       "[56473 rows x 4 columns]"
      ]
     },
     "execution_count": 7,
     "metadata": {},
     "output_type": "execute_result"
    }
   ],
   "source": [
    "df = to_microsoft(dfv)\n",
    "df"
   ]
  },
  {
   "cell_type": "code",
   "execution_count": 8,
   "id": "c4b2cf54",
   "metadata": {
    "editable": true,
    "execution": {
     "iopub.execute_input": "2024-09-06T09:44:14.852689Z",
     "iopub.status.busy": "2024-09-06T09:44:14.852568Z",
     "iopub.status.idle": "2024-09-06T09:44:15.134542Z",
     "shell.execute_reply": "2024-09-06T09:44:15.134075Z"
    },
    "papermill": {
     "duration": 0.285903,
     "end_time": "2024-09-06T09:44:15.135279",
     "exception": false,
     "start_time": "2024-09-06T09:44:14.849376",
     "status": "completed"
    },
    "slideshow": {
     "slide_type": ""
    },
    "tags": []
   },
   "outputs": [
    {
     "name": "stdout",
     "output_type": "stream",
     "text": [
      "75 folds\n",
      "Using 10 folds, from 2022-05-04T00:00:00 to 2022-07-06T00:00:00\n"
     ]
    }
   ],
   "source": [
    "# USE INTEGER INDEX\n",
    "# folds_dict = list(cvtt_open(df, SPLITS_FREQ, dfp, remove_not_in_train_col='userID'))\n",
    "# use_folds_idx = range(len(folds_dict))[-LAST_FOLDS:]\n",
    "\n",
    "# USE TIMESTAMP INDEX\n",
    "# Note: NO need to used OrderedDict, dict is ordered since Python 3.6\n",
    "folds_dict = { f.end.isoformat():f for f in cvtt_open(df, SPLITS_FREQ, dfp, remove_not_in_train_col='userID', last_fold=LAST_FOLD_DATE_STR) }\n",
    "use_folds_idx = list(folds_dict.keys())[-LAST_FOLDS:]\n",
    "\n",
    "print(len(folds_dict), \"folds\")\n",
    "print(\"Using\", len(use_folds_idx), \"folds, from\", use_folds_idx[0], \"to\", use_folds_idx[-1])"
   ]
  },
  {
   "cell_type": "markdown",
   "id": "b6b68421",
   "metadata": {
    "papermill": {
     "duration": 0.002763,
     "end_time": "2024-09-06T09:44:15.140754",
     "exception": false,
     "start_time": "2024-09-06T09:44:15.137991",
     "status": "completed"
    },
    "tags": []
   },
   "source": [
    "## Making some checks"
   ]
  },
  {
   "cell_type": "markdown",
   "id": "53a80e27",
   "metadata": {
    "papermill": {
     "duration": 0.002597,
     "end_time": "2024-09-06T09:44:15.146201",
     "exception": false,
     "start_time": "2024-09-06T09:44:15.143604",
     "status": "completed"
    },
    "tags": []
   },
   "source": [
    "### Checking that all the folds have open proposals"
   ]
  },
  {
   "cell_type": "code",
   "execution_count": 9,
   "id": "49dd6d2c",
   "metadata": {
    "execution": {
     "iopub.execute_input": "2024-09-06T09:44:15.151985Z",
     "iopub.status.busy": "2024-09-06T09:44:15.151858Z",
     "iopub.status.idle": "2024-09-06T09:44:15.173388Z",
     "shell.execute_reply": "2024-09-06T09:44:15.172945Z"
    },
    "papermill": {
     "duration": 0.0253,
     "end_time": "2024-09-06T09:44:15.174058",
     "exception": false,
     "start_time": "2024-09-06T09:44:15.148758",
     "status": "completed"
    },
    "tags": []
   },
   "outputs": [],
   "source": [
    "_nok_folds = []\n",
    "for idx in use_folds_idx:\n",
    "    if len(folds_dict[idx].open_proposals) == 0:\n",
    "        _nok_folds.append(idx)\n",
    "\n",
    "if _nok_folds:\n",
    "    raise ValueError(f\"Folds {', '.join(_nok_folds)} don't have any open proposals\")"
   ]
  },
  {
   "cell_type": "markdown",
   "id": "36069c10",
   "metadata": {
    "papermill": {
     "duration": 0.002539,
     "end_time": "2024-09-06T09:44:15.179159",
     "exception": false,
     "start_time": "2024-09-06T09:44:15.176620",
     "status": "completed"
    },
    "tags": []
   },
   "source": [
    "### Checking correct hparams"
   ]
  },
  {
   "cell_type": "code",
   "execution_count": 10,
   "id": "7b6faff0",
   "metadata": {
    "execution": {
     "iopub.execute_input": "2024-09-06T09:44:15.184673Z",
     "iopub.status.busy": "2024-09-06T09:44:15.184573Z",
     "iopub.status.idle": "2024-09-06T09:44:15.243698Z",
     "shell.execute_reply": "2024-09-06T09:44:15.243260Z"
    },
    "papermill": {
     "duration": 0.062713,
     "end_time": "2024-09-06T09:44:15.244372",
     "exception": false,
     "start_time": "2024-09-06T09:44:15.181659",
     "status": "completed"
    },
    "tags": []
   },
   "outputs": [
    {
     "name": "stdout",
     "output_type": "stream",
     "text": [
      "All folds ok!\n"
     ]
    },
    {
     "name": "stderr",
     "output_type": "stream",
     "text": [
      "On fold 2022-06-08T00:00:00 WINDOW_SIZE should be at least 10YE: 1059 > 1024\n",
      "On fold 2022-06-15T00:00:00 WINDOW_SIZE should be at least 10YE: 1098 > 1024\n",
      "On fold 2022-06-22T00:00:00 WINDOW_SIZE should be at least 10YE: 1176 > 1024\n",
      "On fold 2022-06-29T00:00:00 WINDOW_SIZE should be at least 10YE: 1269 > 1024\n",
      "On fold 2022-07-06T00:00:00 WINDOW_SIZE should be at least 10YE: 1313 > 1024\n",
      "On fold 2022-05-04T00:00:00 batch_size should be '<=512.0' with 10YE: 600 < 1024\n",
      "On fold 2022-05-11T00:00:00 batch_size should be '<=512.0' with 10YE: 701 < 1024\n",
      "On fold 2022-05-18T00:00:00 batch_size should be '<=512.0' with 10YE: 753 < 1024\n",
      "On fold 2022-05-25T00:00:00 batch_size should be '<=512.0' with 10YE: 883 < 1024\n",
      "On fold 2022-06-01T00:00:00 batch_size should be '<=512.0' with 10YE: 997 < 1024\n"
     ]
    }
   ],
   "source": [
    "now = dt.datetime.now()\n",
    "max_bs = 2**MAX_BATCH_SIZE\n",
    "min_bs = 2**MIN_BATCH_SIZE\n",
    "_sorted_ws = sorted(WINDOW_SIZES, key=lambda ws: now + pd.tseries.frequencies.to_offset(ws))\n",
    "\n",
    "# Checking that the max_bs is doable with every window size\n",
    "for idx in use_folds_idx:\n",
    "    for ws in _sorted_ws:\n",
    "        nusers = filter_window_size(folds_dict[idx].train, folds_dict[idx].end, ws)['userID'].nunique()\n",
    "        if nusers > max_bs:\n",
    "            print(f'On fold {idx} WINDOW_SIZE should be at least {ws}: {nusers} > {max_bs}', file=sys.stderr)\n",
    "            break\n",
    "\n",
    "# Checking that the min_bs is doable with every window size\n",
    "for idx in use_folds_idx:\n",
    "    for ws in reversed(_sorted_ws):\n",
    "        nusers = filter_window_size(folds_dict[idx].train, folds_dict[idx].end, ws)['userID'].nunique()\n",
    "        if nusers < min_bs:\n",
    "            print(f'On fold {idx} WINDOW_SIZE should be more than {ws}: {nusers} < {min_bs}', file=sys.stderr)\n",
    "            break\n",
    "\n",
    "# Checking that the max_ws is doable with every batch size\n",
    "max_ws = _sorted_ws[-1]\n",
    "for idx in use_folds_idx:\n",
    "    nusers = filter_window_size(folds_dict[idx].train, folds_dict[idx].end, max_ws)['userID'].nunique()\n",
    "    for bs in (2**x for x in reversed(range(MIN_BATCH_SIZE, MAX_BATCH_SIZE+1))):\n",
    "        if bs > nusers:\n",
    "            print(f\"On fold {idx} batch_size should be '<={bs/2}' with {max_ws}: {nusers} < {bs}\", file=sys.stderr)\n",
    "            break\n",
    "\n",
    "print(\"All folds ok!\")"
   ]
  },
  {
   "cell_type": "markdown",
   "id": "84b8b406",
   "metadata": {
    "papermill": {
     "duration": 0.002828,
     "end_time": "2024-09-06T09:44:15.250135",
     "exception": false,
     "start_time": "2024-09-06T09:44:15.247307",
     "status": "completed"
    },
    "tags": []
   },
   "source": [
    "### Number of users with the min window_size"
   ]
  },
  {
   "cell_type": "code",
   "execution_count": 11,
   "id": "30533264",
   "metadata": {
    "execution": {
     "iopub.execute_input": "2024-09-06T09:44:15.255961Z",
     "iopub.status.busy": "2024-09-06T09:44:15.255860Z",
     "iopub.status.idle": "2024-09-06T09:44:15.283131Z",
     "shell.execute_reply": "2024-09-06T09:44:15.282912Z"
    },
    "papermill": {
     "duration": 0.031006,
     "end_time": "2024-09-06T09:44:15.283809",
     "exception": false,
     "start_time": "2024-09-06T09:44:15.252803",
     "status": "completed"
    },
    "tags": []
   },
   "outputs": [
    {
     "name": "stdout",
     "output_type": "stream",
     "text": [
      "On fold 2022-05-04T00:00:00 with ws 21d: 145 users, ws 10YE: 600\n",
      "On fold 2022-05-11T00:00:00 with ws 21d: 240 users, ws 10YE: 701\n",
      "On fold 2022-05-18T00:00:00 with ws 21d: 290 users, ws 10YE: 753\n",
      "On fold 2022-05-25T00:00:00 with ws 21d: 431 users, ws 10YE: 883\n",
      "On fold 2022-06-01T00:00:00 with ws 21d: 469 users, ws 10YE: 997\n",
      "On fold 2022-06-08T00:00:00 with ws 21d: 502 users, ws 10YE: 1059\n",
      "On fold 2022-06-15T00:00:00 with ws 21d: 457 users, ws 10YE: 1098\n",
      "On fold 2022-06-22T00:00:00 with ws 21d: 528 users, ws 10YE: 1176\n",
      "On fold 2022-06-29T00:00:00 with ws 21d: 591 users, ws 10YE: 1269\n",
      "On fold 2022-07-06T00:00:00 with ws 21d: 603 users, ws 10YE: 1313\n"
     ]
    }
   ],
   "source": [
    "_min_ws = _sorted_ws[0]\n",
    "_max_ws = _sorted_ws[-1]\n",
    "for idx in use_folds_idx:\n",
    "    nusers = filter_window_size(folds_dict[idx].train, folds_dict[idx].end, _min_ws)['userID'].nunique()\n",
    "    nusers2 = filter_window_size(folds_dict[idx].train, folds_dict[idx].end, _max_ws)['userID'].nunique()\n",
    "    print(f'On fold {idx} with ws {_min_ws}: {nusers} users, ws {_max_ws}: {nusers2}')"
   ]
  },
  {
   "cell_type": "markdown",
   "id": "c1abd21e",
   "metadata": {
    "editable": true,
    "papermill": {
     "duration": 0.002714,
     "end_time": "2024-09-06T09:44:15.289262",
     "exception": false,
     "start_time": "2024-09-06T09:44:15.286548",
     "status": "completed"
    },
    "slideshow": {
     "slide_type": ""
    },
    "tags": []
   },
   "source": [
    "## Testing model"
   ]
  },
  {
   "cell_type": "code",
   "execution_count": 12,
   "id": "24f8d167",
   "metadata": {
    "execution": {
     "iopub.execute_input": "2024-09-06T09:44:15.295073Z",
     "iopub.status.busy": "2024-09-06T09:44:15.294946Z",
     "iopub.status.idle": "2024-09-06T09:44:15.314944Z",
     "shell.execute_reply": "2024-09-06T09:44:15.314713Z"
    },
    "papermill": {
     "duration": 0.023846,
     "end_time": "2024-09-06T09:44:15.315672",
     "exception": false,
     "start_time": "2024-09-06T09:44:15.291826",
     "status": "completed"
    },
    "tags": []
   },
   "outputs": [],
   "source": [
    "from recommenders.models.deeprec.DataModel.ImplicitCF import ImplicitCF\n",
    "from recommenders.models.deeprec.deeprec_utils import prepare_hparams"
   ]
  },
  {
   "cell_type": "code",
   "execution_count": 13,
   "id": "822c7892",
   "metadata": {
    "editable": true,
    "execution": {
     "iopub.execute_input": "2024-09-06T09:44:15.321602Z",
     "iopub.status.busy": "2024-09-06T09:44:15.321509Z",
     "iopub.status.idle": "2024-09-06T09:44:15.340224Z",
     "shell.execute_reply": "2024-09-06T09:44:15.340032Z"
    },
    "papermill": {
     "duration": 0.022621,
     "end_time": "2024-09-06T09:44:15.340968",
     "exception": false,
     "start_time": "2024-09-06T09:44:15.318347",
     "status": "completed"
    },
    "slideshow": {
     "slide_type": ""
    },
    "tags": []
   },
   "outputs": [],
   "source": [
    "# hparams = prepare_hparams(\n",
    "#     model_type='lightgcn',\n",
    "#     n_layers=3,\n",
    "#     batch_size=512,\n",
    "#     embed_size=64,\n",
    "#     epochs=2,\n",
    "#     learning_rate=0.001,\n",
    "#     decay=0.001,\n",
    "#     metrics=[\"recall\", \"ndcg\", \"precision\", \"map\"],\n",
    "#     eval_epoch=2,\n",
    "#     top_k=K_RECOMMENDATIONS[0],\n",
    "#     save_model=False,\n",
    "#     MODEL_DIR='./data/model/lightgcn/',\n",
    "# )\n",
    "# dataloader = ImplicitCF(train=folds_dict[use_folds_idx[0]].train, test=folds_dict[use_folds_idx[0]].test, seed=SEED)\n",
    "# print(\"items:\", dataloader.n_items, \"user:\", dataloader.n_users)\n",
    "# model = LightGCNCustom(data=dataloader, hparams=hparams)"
   ]
  },
  {
   "cell_type": "code",
   "execution_count": 14,
   "id": "1952d7b4",
   "metadata": {
    "execution": {
     "iopub.execute_input": "2024-09-06T09:44:15.347084Z",
     "iopub.status.busy": "2024-09-06T09:44:15.346990Z",
     "iopub.status.idle": "2024-09-06T09:44:15.364061Z",
     "shell.execute_reply": "2024-09-06T09:44:15.363879Z"
    },
    "papermill": {
     "duration": 0.021055,
     "end_time": "2024-09-06T09:44:15.364802",
     "exception": false,
     "start_time": "2024-09-06T09:44:15.343747",
     "status": "completed"
    },
    "tags": []
   },
   "outputs": [],
   "source": [
    "# model.fit()\n",
    "# model.run_eval()"
   ]
  },
  {
   "cell_type": "code",
   "execution_count": 15,
   "id": "62215c64",
   "metadata": {
    "editable": true,
    "execution": {
     "iopub.execute_input": "2024-09-06T09:44:15.371177Z",
     "iopub.status.busy": "2024-09-06T09:44:15.371055Z",
     "iopub.status.idle": "2024-09-06T09:44:15.387799Z",
     "shell.execute_reply": "2024-09-06T09:44:15.387611Z"
    },
    "papermill": {
     "duration": 0.020738,
     "end_time": "2024-09-06T09:44:15.388431",
     "exception": false,
     "start_time": "2024-09-06T09:44:15.367693",
     "status": "completed"
    },
    "slideshow": {
     "slide_type": ""
    },
    "tags": []
   },
   "outputs": [],
   "source": [
    "# model.recommend_k_items(\n",
    "#     dataloader.test, \n",
    "#     top_k=3, \n",
    "#     use_id=True, \n",
    "#     remove_seen=True, \n",
    "#     recommend_from=folds_dict[use_folds_idx[0]].open_proposals\n",
    "# )"
   ]
  },
  {
   "cell_type": "markdown",
   "id": "21b81ec6",
   "metadata": {
    "papermill": {
     "duration": 0.002791,
     "end_time": "2024-09-06T09:44:15.394001",
     "exception": false,
     "start_time": "2024-09-06T09:44:15.391210",
     "status": "completed"
    },
    "tags": []
   },
   "source": [
    "## Defining trainable"
   ]
  },
  {
   "cell_type": "code",
   "execution_count": 16,
   "id": "dc6370ad",
   "metadata": {
    "execution": {
     "iopub.execute_input": "2024-09-06T09:44:15.400035Z",
     "iopub.status.busy": "2024-09-06T09:44:15.399878Z",
     "iopub.status.idle": "2024-09-06T09:44:15.416559Z",
     "shell.execute_reply": "2024-09-06T09:44:15.416341Z"
    },
    "papermill": {
     "duration": 0.020547,
     "end_time": "2024-09-06T09:44:15.417278",
     "exception": false,
     "start_time": "2024-09-06T09:44:15.396731",
     "status": "completed"
    },
    "tags": []
   },
   "outputs": [],
   "source": [
    "from recsys4daos.evaluation import calculate_all_metrics"
   ]
  },
  {
   "cell_type": "code",
   "execution_count": 17,
   "id": "91aa6e8b",
   "metadata": {
    "editable": true,
    "execution": {
     "iopub.execute_input": "2024-09-06T09:44:15.423414Z",
     "iopub.status.busy": "2024-09-06T09:44:15.423297Z",
     "iopub.status.idle": "2024-09-06T09:44:15.444257Z",
     "shell.execute_reply": "2024-09-06T09:44:15.443945Z"
    },
    "papermill": {
     "duration": 0.024978,
     "end_time": "2024-09-06T09:44:15.445005",
     "exception": false,
     "start_time": "2024-09-06T09:44:15.420027",
     "status": "completed"
    },
    "slideshow": {
     "slide_type": ""
    },
    "tags": []
   },
   "outputs": [],
   "source": [
    "class TrainLightGCN(tune.Trainable):\n",
    "    def setup(\n",
    "        self,\n",
    "        config: Dict[str, Any],\n",
    "        data,\n",
    "    ):\n",
    "        self.config = config\n",
    "        train, test, self.t, self.open_proposals = data\n",
    "        train_filtered = filter_window_size(train, self.t, config['window_size'])\n",
    "        \n",
    "        # Remove users that voted in everything\n",
    "        # see https://github.com/recommenders-team/recommenders/issues/2163\n",
    "        msk = train_filtered.groupby('userID').size() == train_filtered['itemID'].nunique()\n",
    "        train_filtered = train_filtered[train_filtered['userID'].isin(msk[~msk].index)]\n",
    "        \n",
    "        self.dataloader = ImplicitCF(train=train_filtered, test=test, seed=SEED)\n",
    "        # Some experiments will run multiple times, but that's a price to pay for\n",
    "        # usability\n",
    "        self.real_batch_size = min(2**config['batch_size'], self.dataloader.n_users_in_train)\n",
    "\n",
    "        self.hparams = prepare_hparams(\n",
    "            model_type='lightgcn',\n",
    "            n_layers=config['conv_layers'],\n",
    "            batch_size=self.real_batch_size,\n",
    "            embed_size=config['embedding_dim'],\n",
    "            epochs=EPOCHS_PER_ITER,\n",
    "            learning_rate=config['learning_rate'],\n",
    "            decay=config['l2'],\n",
    "            metrics=METRICS,\n",
    "            eval_epoch=-1,\n",
    "            top_k=K_RECOMMENDATIONS[0],\n",
    "            save_model=False,\n",
    "            MODEL_DIR='./data/model/lightgcn/',\n",
    "        )\n",
    "        self.model = LightGCNCustom(self.hparams, self.dataloader, seed=SEED)\n",
    "        self.total_train = 0\n",
    "        self.total_eval = 0\n",
    "\n",
    "    @property\n",
    "    def iteration(self):\n",
    "        return self.model.epochs_done\n",
    "\n",
    "    @property\n",
    "    def training_iteration(self):\n",
    "        return self.model.epochs_done\n",
    "\n",
    "    def step(self):\n",
    "        \"\"\"\n",
    "        As a rule of thumb, the execution time of step should be large enough to avoid overheads \n",
    "        (i.e. more than a few seconds), but short enough to report progress periodically \n",
    "        (i.e. at most a few minutes).\n",
    "        \"\"\"\n",
    "        assert EPOCHS_PER_ITER > 0\n",
    "\n",
    "        with Timer() as t_train:\n",
    "            for _ in range(EPOCHS_PER_ITER):\n",
    "                ret = self.model.fit_epoch()\n",
    "\n",
    "\n",
    "        with Timer() as t_rec:\n",
    "            recs = self.model.recommend_k_items(\n",
    "                self.dataloader.test, # Used only to get user ids\n",
    "                top_k=max(K_RECOMMENDATIONS),\n",
    "                use_id=True,\n",
    "                remove_seen=True,\n",
    "                recommend_from=self.open_proposals,\n",
    "            )\n",
    "        \n",
    "        eval_dict = {'model_'+k:v for k,v in zip(self.model.metrics, self.model.run_eval())}\n",
    "        eval_dict |= calculate_all_metrics(self.dataloader.test, recs, K_RECOMMENDATIONS)\n",
    "\n",
    "        self.total_train += t_train.time\n",
    "        self.total_eval += eval_dict['time_eval']\n",
    "        \n",
    "        return {\n",
    "            'real_batch_size': self.real_batch_size,\n",
    "            'iteration': self.iteration,\n",
    "            'loss': ret[0],\n",
    "            'mf_loss': ret[1],\n",
    "            'emb_loss': ret[2],\n",
    "            **eval_dict,\n",
    "            'time_train': t_train.time,\n",
    "            'time_rec': t_rec.time,\n",
    "            'time_total_train': self.total_train,\n",
    "            'time_total_test': self.total_eval,\n",
    "        }\n",
    "\n",
    "    def save_checkpoint(self, checkpoint_dir):\n",
    "        checkpoint_path = os.path.join(checkpoint_dir, \"model\")\n",
    "        self.model.saver.save(\n",
    "            sess=self.model.sess,\n",
    "            save_path=checkpoint_path,\n",
    "        )\n",
    "        return checkpoint_dir\n",
    "\n",
    "    def load_checkpoint(self, checkpoint_path):\n",
    "        self.model.load(checkpoint_path)"
   ]
  },
  {
   "cell_type": "markdown",
   "id": "57dd5661",
   "metadata": {
    "editable": true,
    "papermill": {
     "duration": 0.002798,
     "end_time": "2024-09-06T09:44:15.450576",
     "exception": false,
     "start_time": "2024-09-06T09:44:15.447778",
     "status": "completed"
    },
    "slideshow": {
     "slide_type": ""
    },
    "tags": []
   },
   "source": [
    "## Big experiment"
   ]
  },
  {
   "cell_type": "code",
   "execution_count": 18,
   "id": "626ba8a3",
   "metadata": {
    "editable": true,
    "execution": {
     "iopub.execute_input": "2024-09-06T09:44:15.456620Z",
     "iopub.status.busy": "2024-09-06T09:44:15.456495Z",
     "iopub.status.idle": "2024-09-06T09:44:15.473168Z",
     "shell.execute_reply": "2024-09-06T09:44:15.472950Z"
    },
    "papermill": {
     "duration": 0.020538,
     "end_time": "2024-09-06T09:44:15.473883",
     "exception": false,
     "start_time": "2024-09-06T09:44:15.453345",
     "status": "completed"
    },
    "slideshow": {
     "slide_type": ""
    },
    "tags": []
   },
   "outputs": [
    {
     "data": {
      "text/plain": [
       "PosixPath('/home/daviddavo/ray_results3.11')"
      ]
     },
     "execution_count": 18,
     "metadata": {},
     "output_type": "execute_result"
    }
   ],
   "source": [
    "RAY_RESULTS_PATH"
   ]
  },
  {
   "cell_type": "code",
   "execution_count": 19,
   "id": "a42cc26f",
   "metadata": {
    "editable": true,
    "execution": {
     "iopub.execute_input": "2024-09-06T09:44:15.480528Z",
     "iopub.status.busy": "2024-09-06T09:44:15.480436Z",
     "iopub.status.idle": "2024-09-06T09:44:15.498215Z",
     "shell.execute_reply": "2024-09-06T09:44:15.498022Z"
    },
    "papermill": {
     "duration": 0.021985,
     "end_time": "2024-09-06T09:44:15.498884",
     "exception": false,
     "start_time": "2024-09-06T09:44:15.476899",
     "status": "completed"
    },
    "slideshow": {
     "slide_type": ""
    },
    "tags": []
   },
   "outputs": [
    {
     "name": "stdout",
     "output_type": "stream",
     "text": [
      "lamarck\n",
      "{'cpu': 1, 'gpu': 0.0625}\n"
     ]
    }
   ],
   "source": [
    "print(os.uname().nodename)\n",
    "\n",
    "### SET TRAINING RESOURCES\n",
    "if os.uname().nodename == 'lamarck':\n",
    "    # assert torch.cuda.is_available()\n",
    "\n",
    "    NUM_SAMPLES = SAMPLES_PER_SPLIT\n",
    "    # Every run takes approx half a gig of vram (no optimizations)\n",
    "    # The RTX 4090 has 24GB so we can run the model about 48 times\n",
    "    resources_per_trial={\n",
    "        'cpu': 1,\n",
    "        'gpu': 1 / GPUS,\n",
    "    }\n",
    "else:\n",
    "    NUM_SAMPLES = 1\n",
    "    resources_per_trial={\n",
    "        'cpu': 1,\n",
    "        # It takes about 1.5 GiB with full training data, but I put a bit more because\n",
    "        # this notebook also takes a bit of memory\n",
    "        'memory': 2e9,\n",
    "    }\n",
    "print(resources_per_trial)"
   ]
  },
  {
   "cell_type": "code",
   "execution_count": 20,
   "id": "38588756",
   "metadata": {
    "editable": true,
    "execution": {
     "iopub.execute_input": "2024-09-06T09:44:15.505238Z",
     "iopub.status.busy": "2024-09-06T09:44:15.505145Z",
     "iopub.status.idle": "2024-09-06T09:44:15.595366Z",
     "shell.execute_reply": "2024-09-06T09:44:15.595045Z"
    },
    "papermill": {
     "duration": 0.094513,
     "end_time": "2024-09-06T09:44:15.596314",
     "exception": false,
     "start_time": "2024-09-06T09:44:15.501801",
     "status": "completed"
    },
    "slideshow": {
     "slide_type": ""
    },
    "tags": []
   },
   "outputs": [],
   "source": [
    "from ray.tune.search.hyperopt import HyperOptSearch"
   ]
  },
  {
   "cell_type": "code",
   "execution_count": 21,
   "id": "b6350a72",
   "metadata": {
    "editable": true,
    "execution": {
     "iopub.execute_input": "2024-09-06T09:44:15.603273Z",
     "iopub.status.busy": "2024-09-06T09:44:15.603002Z",
     "iopub.status.idle": "2024-09-06T09:44:15.627182Z",
     "shell.execute_reply": "2024-09-06T09:44:15.626884Z"
    },
    "papermill": {
     "duration": 0.028453,
     "end_time": "2024-09-06T09:44:15.627974",
     "exception": false,
     "start_time": "2024-09-06T09:44:15.599521",
     "status": "completed"
    },
    "slideshow": {
     "slide_type": ""
    },
    "tags": []
   },
   "outputs": [],
   "source": [
    "def getTunerOnFold(f_idx, points_to_evaluate = None):    \n",
    "    name = paths.lightgcn_ray_tune_fname(ORG_NAME, SPLITS_FREQ, SPLITS_NORMALIZE, OPTIM_METRIC, fold=f_idx)\n",
    "    experiments = list(RAY_RESULTS_PATH.glob(f'{name}_*'))\n",
    "    last_experiment = max(experiments, key=lambda x: x.stat().st_ctime) if experiments else None\n",
    "    f = folds_dict[f_idx]\n",
    "\n",
    "    dftrain,dftest,t,open_proposals = folds_dict[f_idx]\n",
    "    param_space = dict(\n",
    "        batch_size=tune.randint(MIN_BATCH_SIZE, MAX_BATCH_SIZE+1), # 64 - 2**MAX_BATCH_SIZE\n",
    "        embedding_dim=tune.lograndint(1, MAX_EMBEDDING_DIM, base=2),\n",
    "        conv_layers=tune.randint(1,5),\n",
    "        learning_rate=tune.qloguniform(MIN_LR, 1, 1e-4),\n",
    "        l2=tune.loguniform(1e-7, 1e-2, 1e-7),\n",
    "        window_size=tune.choice(WINDOW_SIZES),\n",
    "        # Just so it appears on the output\n",
    "        fold=f_idx,\n",
    "    )\n",
    "    \n",
    "    ### RESTORE EXPERIMENT OR CREATE A NEW ONE\n",
    "    if last_experiment and tune.Tuner.can_restore(last_experiment):\n",
    "        print(f\"Restoring last experiment: {last_experiment}\")\n",
    "        tuner = tune.Tuner.restore(\n",
    "            str(last_experiment),\n",
    "            trainable=tune.with_resources(\n",
    "                # tune.with_parameters(TrainLightGCN,  train=dftrain, test=dftest, open_proposals=open_proposals),\n",
    "                tune.with_parameters(TrainLightGCN, data=f),\n",
    "                resources_per_trial,\n",
    "            ),\n",
    "            restart_errored=True,\n",
    "            param_space=param_space,\n",
    "        )\n",
    "    else:\n",
    "        print(f\"No experiment found for fold {f_idx}, creating new tuner with {NUM_SAMPLES} samples\")\n",
    "        search_alg = None\n",
    "        \n",
    "        search_alg = HyperOptSearch(\n",
    "            points_to_evaluate = points_to_evaluate,\n",
    "            random_state_seed=SEED,\n",
    "        )\n",
    "        # search_alg = tune.search.Repeater(search_alg, N_SPLITS-SKIP_SPLIT)\n",
    "        \n",
    "        tuner = tune.Tuner(\n",
    "            tune.with_resources(\n",
    "                # tune.with_parameters(TrainLightGCN,  train=dftrain, test=dftest, open_proposals=open_proposals),\n",
    "                tune.with_parameters(TrainLightGCN, data=folds_dict[f_idx]),\n",
    "                resources_per_trial,\n",
    "            ),\n",
    "            run_config=train.RunConfig(\n",
    "                stop={'training_iteration': MAX_EPOCHS/EPOCHS_PER_ITER, 'time_total_train': MAX_TIME_TOTAL_TRAIN},\n",
    "                name=name + f'_{dt.datetime.now().isoformat()}',\n",
    "                storage_path=RAY_RESULTS_PATH,\n",
    "                # failure_config=train.FailureConfig(fail_fast='raise'),\n",
    "                failure_config=train.FailureConfig(max_failures=3),\n",
    "            ),\n",
    "            param_space=param_space,\n",
    "            tune_config=tune.TuneConfig(\n",
    "                search_alg=search_alg,\n",
    "                num_samples=NUM_SAMPLES,\n",
    "                metric=OPTIM_METRIC,\n",
    "                mode='max',\n",
    "            )\n",
    "        )\n",
    "\n",
    "    return tuner"
   ]
  },
  {
   "cell_type": "code",
   "execution_count": 22,
   "id": "f9018df7",
   "metadata": {
    "editable": true,
    "execution": {
     "iopub.execute_input": "2024-09-06T09:44:15.634672Z",
     "iopub.status.busy": "2024-09-06T09:44:15.634546Z",
     "iopub.status.idle": "2024-09-06T09:44:15.660493Z",
     "shell.execute_reply": "2024-09-06T09:44:15.660297Z"
    },
    "papermill": {
     "duration": 0.030577,
     "end_time": "2024-09-06T09:44:15.661583",
     "exception": false,
     "start_time": "2024-09-06T09:44:15.631006",
     "status": "completed"
    },
    "slideshow": {
     "slide_type": ""
    },
    "tags": []
   },
   "outputs": [
    {
     "data": {
      "application/vnd.jupyter.widget-view+json": {
       "model_id": "4d86d74c19c54ac285ffa297f0eaec84",
       "version_major": 2,
       "version_minor": 0
      },
      "text/plain": [
       "fold:   0%|          | 0/10 [00:00<?, ?it/s]"
      ]
     },
     "metadata": {},
     "output_type": "display_data"
    },
    {
     "data": {
      "application/vnd.jupyter.widget-view+json": {
       "model_id": "3ef7b6df218242a9867f1be250005973",
       "version_major": 2,
       "version_minor": 0
      },
      "text/plain": [
       "Output(layout=Layout(border_bottom='1px solid black', border_left='1px solid black', border_right='1px solid b…"
      ]
     },
     "execution_count": 22,
     "metadata": {},
     "output_type": "execute_result"
    }
   ],
   "source": [
    "# We need to display the progress bar in another cell because ray tune \"overwrites\" the previous output\n",
    "pbar = tqdm(total=len(use_folds_idx), desc='fold')\n",
    "out = widgets.Output(layout={'border': '1px solid black'})\n",
    "with out:\n",
    "    print(\"In this cell important output from the next cell will be shown\")\n",
    "out"
   ]
  },
  {
   "cell_type": "code",
   "execution_count": 23,
   "id": "73585275",
   "metadata": {
    "editable": true,
    "execution": {
     "iopub.execute_input": "2024-09-06T09:44:15.668947Z",
     "iopub.status.busy": "2024-09-06T09:44:15.668788Z",
     "iopub.status.idle": "2024-09-06T10:46:33.903969Z",
     "shell.execute_reply": "2024-09-06T10:46:33.901756Z"
    },
    "papermill": {
     "duration": 3738.243142,
     "end_time": "2024-09-06T10:46:33.908185",
     "exception": false,
     "start_time": "2024-09-06T09:44:15.665043",
     "status": "completed"
    },
    "slideshow": {
     "slide_type": ""
    },
    "tags": []
   },
   "outputs": [
    {
     "data": {
      "text/html": [
       "<div class=\"tuneStatus\">\n",
       "  <div style=\"display: flex;flex-direction: row\">\n",
       "    <div style=\"display: flex;flex-direction: column;\">\n",
       "      <h3>Tune Status</h3>\n",
       "      <table>\n",
       "<tbody>\n",
       "<tr><td>Current time:</td><td>2024-09-06 10:46:32</td></tr>\n",
       "<tr><td>Running for: </td><td>00:00:00.39        </td></tr>\n",
       "<tr><td>Memory:      </td><td>11.7/125.6 GiB     </td></tr>\n",
       "</tbody>\n",
       "</table>\n",
       "    </div>\n",
       "    <div class=\"vDivider\"></div>\n",
       "    <div class=\"systemInfo\">\n",
       "      <h3>System Info</h3>\n",
       "      Using FIFO scheduling algorithm.<br>Logical resource usage: 0/24 CPUs, 0/1 GPUs (0.0/1.0 accelerator_type:G)\n",
       "    </div>\n",
       "    \n",
       "  </div>\n",
       "  <div class=\"hDivider\"></div>\n",
       "  <div class=\"trialStatus\">\n",
       "    <h3>Trial Status</h3>\n",
       "    <table>\n",
       "<thead>\n",
       "<tr><th>Trial name            </th><th>status    </th><th>loc                 </th><th style=\"text-align: right;\">  batch_size</th><th style=\"text-align: right;\">  conv_layers</th><th style=\"text-align: right;\">  embedding_dim</th><th>fold               </th><th style=\"text-align: right;\">         l2</th><th style=\"text-align: right;\">  learning_rate</th><th>window_size  </th><th style=\"text-align: right;\">  iter</th><th style=\"text-align: right;\">  total time (s)</th><th style=\"text-align: right;\">  real_batch_size</th><th style=\"text-align: right;\">  iteration</th><th style=\"text-align: right;\">       loss</th></tr>\n",
       "</thead>\n",
       "<tbody>\n",
       "<tr><td>TrainLightGCN_c3914226</td><td>TERMINATED</td><td>147.96.81.131:129644</td><td style=\"text-align: right;\">           6</td><td style=\"text-align: right;\">            1</td><td style=\"text-align: right;\">            861</td><td>2022-07-06T00:00:00</td><td style=\"text-align: right;\">0.000295145</td><td style=\"text-align: right;\">         0.0009</td><td>10YE         </td><td style=\"text-align: right;\">    40</td><td style=\"text-align: right;\">        68.7294 </td><td style=\"text-align: right;\">               64</td><td style=\"text-align: right;\">        200</td><td style=\"text-align: right;\">0.00382195 </td></tr>\n",
       "<tr><td>TrainLightGCN_ee9b1e32</td><td>TERMINATED</td><td>147.96.81.131:129188</td><td style=\"text-align: right;\">           6</td><td style=\"text-align: right;\">            3</td><td style=\"text-align: right;\">           1017</td><td>2022-07-06T00:00:00</td><td style=\"text-align: right;\">1.22856e-05</td><td style=\"text-align: right;\">         0.0003</td><td>10YE         </td><td style=\"text-align: right;\">    40</td><td style=\"text-align: right;\">        77.9472 </td><td style=\"text-align: right;\">               64</td><td style=\"text-align: right;\">        200</td><td style=\"text-align: right;\">0.0027804  </td></tr>\n",
       "<tr><td>TrainLightGCN_988918c6</td><td>TERMINATED</td><td>147.96.81.131:128438</td><td style=\"text-align: right;\">           6</td><td style=\"text-align: right;\">            3</td><td style=\"text-align: right;\">             53</td><td>2022-07-06T00:00:00</td><td style=\"text-align: right;\">9.02889e-07</td><td style=\"text-align: right;\">         0.0001</td><td>10YE         </td><td style=\"text-align: right;\">    40</td><td style=\"text-align: right;\">        95.5092 </td><td style=\"text-align: right;\">               64</td><td style=\"text-align: right;\">        200</td><td style=\"text-align: right;\">0.088316   </td></tr>\n",
       "<tr><td>TrainLightGCN_fcb55f52</td><td>TERMINATED</td><td>147.96.81.131:127230</td><td style=\"text-align: right;\">           6</td><td style=\"text-align: right;\">            2</td><td style=\"text-align: right;\">            113</td><td>2022-07-06T00:00:00</td><td style=\"text-align: right;\">1.77612e-05</td><td style=\"text-align: right;\">         0.0003</td><td>10YE         </td><td style=\"text-align: right;\">    40</td><td style=\"text-align: right;\">       125.873  </td><td style=\"text-align: right;\">               64</td><td style=\"text-align: right;\">        200</td><td style=\"text-align: right;\">0.00999959 </td></tr>\n",
       "<tr><td>TrainLightGCN_3d02a5ae</td><td>TERMINATED</td><td>147.96.81.131:129997</td><td style=\"text-align: right;\">           9</td><td style=\"text-align: right;\">            4</td><td style=\"text-align: right;\">             18</td><td>2022-07-06T00:00:00</td><td style=\"text-align: right;\">4.62657e-05</td><td style=\"text-align: right;\">         0.4844</td><td>10YE         </td><td style=\"text-align: right;\">    40</td><td style=\"text-align: right;\">        22.0204 </td><td style=\"text-align: right;\">              512</td><td style=\"text-align: right;\">        200</td><td style=\"text-align: right;\">0.24958    </td></tr>\n",
       "<tr><td>TrainLightGCN_d8cb8d35</td><td>TERMINATED</td><td>147.96.81.131:126911</td><td style=\"text-align: right;\">           6</td><td style=\"text-align: right;\">            3</td><td style=\"text-align: right;\">            868</td><td>2022-07-06T00:00:00</td><td style=\"text-align: right;\">2.49778e-07</td><td style=\"text-align: right;\">         0.0001</td><td>10YE         </td><td style=\"text-align: right;\">    40</td><td style=\"text-align: right;\">       132.137  </td><td style=\"text-align: right;\">               64</td><td style=\"text-align: right;\">        200</td><td style=\"text-align: right;\">0.0146767  </td></tr>\n",
       "<tr><td>TrainLightGCN_6a6a00a5</td><td>TERMINATED</td><td>147.96.81.131:129065</td><td style=\"text-align: right;\">           7</td><td style=\"text-align: right;\">            1</td><td style=\"text-align: right;\">            180</td><td>2022-07-06T00:00:00</td><td style=\"text-align: right;\">1.40667e-06</td><td style=\"text-align: right;\">         0.0001</td><td>90d          </td><td style=\"text-align: right;\">    40</td><td style=\"text-align: right;\">        48.1247 </td><td style=\"text-align: right;\">              128</td><td style=\"text-align: right;\">        200</td><td style=\"text-align: right;\">0.0353217  </td></tr>\n",
       "<tr><td>TrainLightGCN_096df634</td><td>TERMINATED</td><td>147.96.81.131:126470</td><td style=\"text-align: right;\">           6</td><td style=\"text-align: right;\">            2</td><td style=\"text-align: right;\">             88</td><td>2022-07-06T00:00:00</td><td style=\"text-align: right;\">4.10411e-05</td><td style=\"text-align: right;\">         0.0004</td><td>10YE         </td><td style=\"text-align: right;\">    40</td><td style=\"text-align: right;\">       136.664  </td><td style=\"text-align: right;\">               64</td><td style=\"text-align: right;\">        200</td><td style=\"text-align: right;\">0.00921971 </td></tr>\n",
       "<tr><td>TrainLightGCN_db264e43</td><td>TERMINATED</td><td>147.96.81.131:129488</td><td style=\"text-align: right;\">           9</td><td style=\"text-align: right;\">            1</td><td style=\"text-align: right;\">            346</td><td>2022-07-06T00:00:00</td><td style=\"text-align: right;\">4.49794e-07</td><td style=\"text-align: right;\">         0.0018</td><td>10YE         </td><td style=\"text-align: right;\">    40</td><td style=\"text-align: right;\">        25.3264 </td><td style=\"text-align: right;\">              512</td><td style=\"text-align: right;\">        200</td><td style=\"text-align: right;\">0.00035834 </td></tr>\n",
       "<tr><td>TrainLightGCN_59f999b4</td><td>TERMINATED</td><td>147.96.81.131:129815</td><td style=\"text-align: right;\">          10</td><td style=\"text-align: right;\">            2</td><td style=\"text-align: right;\">            300</td><td>2022-07-06T00:00:00</td><td style=\"text-align: right;\">5.71883e-06</td><td style=\"text-align: right;\">         0.2534</td><td>21d          </td><td style=\"text-align: right;\">    40</td><td style=\"text-align: right;\">        14.2529 </td><td style=\"text-align: right;\">              603</td><td style=\"text-align: right;\">        200</td><td style=\"text-align: right;\">0.0424005  </td></tr>\n",
       "<tr><td>TrainLightGCN_71b36f5d</td><td>TERMINATED</td><td>147.96.81.131:127850</td><td style=\"text-align: right;\">           6</td><td style=\"text-align: right;\">            2</td><td style=\"text-align: right;\">            157</td><td>2022-07-06T00:00:00</td><td style=\"text-align: right;\">1.43552e-07</td><td style=\"text-align: right;\">         0.0023</td><td>60d          </td><td style=\"text-align: right;\">    40</td><td style=\"text-align: right;\">        91.0891 </td><td style=\"text-align: right;\">               64</td><td style=\"text-align: right;\">        200</td><td style=\"text-align: right;\">2.82197e-05</td></tr>\n",
       "<tr><td>TrainLightGCN_6a2225f2</td><td>TERMINATED</td><td>147.96.81.131:129339</td><td style=\"text-align: right;\">           8</td><td style=\"text-align: right;\">            2</td><td style=\"text-align: right;\">            114</td><td>2022-07-06T00:00:00</td><td style=\"text-align: right;\">7.99865e-06</td><td style=\"text-align: right;\">         0.063 </td><td>30d          </td><td style=\"text-align: right;\">    40</td><td style=\"text-align: right;\">        20.3103 </td><td style=\"text-align: right;\">              256</td><td style=\"text-align: right;\">        200</td><td style=\"text-align: right;\">0.000109563</td></tr>\n",
       "<tr><td>TrainLightGCN_c309f6c3</td><td>TERMINATED</td><td>147.96.81.131:128913</td><td style=\"text-align: right;\">           8</td><td style=\"text-align: right;\">            2</td><td style=\"text-align: right;\">             13</td><td>2022-07-06T00:00:00</td><td style=\"text-align: right;\">1.03716e-07</td><td style=\"text-align: right;\">         0.0004</td><td>60d          </td><td style=\"text-align: right;\">    40</td><td style=\"text-align: right;\">        32.5273 </td><td style=\"text-align: right;\">              256</td><td style=\"text-align: right;\">        200</td><td style=\"text-align: right;\">0.103732   </td></tr>\n",
       "<tr><td>TrainLightGCN_298a9dbc</td><td>TERMINATED</td><td>147.96.81.131:125744</td><td style=\"text-align: right;\">           6</td><td style=\"text-align: right;\">            2</td><td style=\"text-align: right;\">            711</td><td>2022-07-06T00:00:00</td><td style=\"text-align: right;\">1.41929e-07</td><td style=\"text-align: right;\">         0.0001</td><td>10YE         </td><td style=\"text-align: right;\">    40</td><td style=\"text-align: right;\">       140.153  </td><td style=\"text-align: right;\">               64</td><td style=\"text-align: right;\">        200</td><td style=\"text-align: right;\">0.00971985 </td></tr>\n",
       "<tr><td>TrainLightGCN_5985da8e</td><td>TERMINATED</td><td>147.96.81.131:125446</td><td style=\"text-align: right;\">           6</td><td style=\"text-align: right;\">            4</td><td style=\"text-align: right;\">            969</td><td>2022-07-06T00:00:00</td><td style=\"text-align: right;\">1.14196e-06</td><td style=\"text-align: right;\">         0.0006</td><td>10YE         </td><td style=\"text-align: right;\">    40</td><td style=\"text-align: right;\">       140.981  </td><td style=\"text-align: right;\">               64</td><td style=\"text-align: right;\">        200</td><td style=\"text-align: right;\">0.000759708</td></tr>\n",
       "<tr><td>TrainLightGCN_92e8cd5a</td><td>TERMINATED</td><td>147.96.81.131:128314</td><td style=\"text-align: right;\">           8</td><td style=\"text-align: right;\">            1</td><td style=\"text-align: right;\">            303</td><td>2022-07-06T00:00:00</td><td style=\"text-align: right;\">5.48965e-06</td><td style=\"text-align: right;\">         0.3046</td><td>10YE         </td><td style=\"text-align: right;\">    40</td><td style=\"text-align: right;\">        47.4314 </td><td style=\"text-align: right;\">              256</td><td style=\"text-align: right;\">        200</td><td style=\"text-align: right;\">3.29979    </td></tr>\n",
       "<tr><td>TrainLightGCN_8cddd47f</td><td>TERMINATED</td><td>147.96.81.131:128000</td><td style=\"text-align: right;\">           7</td><td style=\"text-align: right;\">            4</td><td style=\"text-align: right;\">             76</td><td>2022-07-06T00:00:00</td><td style=\"text-align: right;\">2.80814e-05</td><td style=\"text-align: right;\">         0.0012</td><td>90d          </td><td style=\"text-align: right;\">    40</td><td style=\"text-align: right;\">        65.1312 </td><td style=\"text-align: right;\">              128</td><td style=\"text-align: right;\">        200</td><td style=\"text-align: right;\">0.0104026  </td></tr>\n",
       "<tr><td>TrainLightGCN_3ca94e38</td><td>TERMINATED</td><td>147.96.81.131:127375</td><td style=\"text-align: right;\">           7</td><td style=\"text-align: right;\">            3</td><td style=\"text-align: right;\">             42</td><td>2022-07-06T00:00:00</td><td style=\"text-align: right;\">1.07158e-05</td><td style=\"text-align: right;\">         0.0038</td><td>10YE         </td><td style=\"text-align: right;\">    40</td><td style=\"text-align: right;\">        82.2259 </td><td style=\"text-align: right;\">              128</td><td style=\"text-align: right;\">        200</td><td style=\"text-align: right;\">0.00151036 </td></tr>\n",
       "<tr><td>TrainLightGCN_30473be2</td><td>TERMINATED</td><td>147.96.81.131:128152</td><td style=\"text-align: right;\">           6</td><td style=\"text-align: right;\">            2</td><td style=\"text-align: right;\">            467</td><td>2022-07-06T00:00:00</td><td style=\"text-align: right;\">6.28324e-07</td><td style=\"text-align: right;\">         0.0202</td><td>30d          </td><td style=\"text-align: right;\">    40</td><td style=\"text-align: right;\">        53.3808 </td><td style=\"text-align: right;\">               64</td><td style=\"text-align: right;\">        200</td><td style=\"text-align: right;\">0.000151402</td></tr>\n",
       "<tr><td>TrainLightGCN_90ae8c9b</td><td>TERMINATED</td><td>147.96.81.131:128735</td><td style=\"text-align: right;\">          10</td><td style=\"text-align: right;\">            2</td><td style=\"text-align: right;\">            250</td><td>2022-07-06T00:00:00</td><td style=\"text-align: right;\">2.03695e-06</td><td style=\"text-align: right;\">         0.0097</td><td>10YE         </td><td style=\"text-align: right;\">    40</td><td style=\"text-align: right;\">        24.0294 </td><td style=\"text-align: right;\">             1024</td><td style=\"text-align: right;\">        200</td><td style=\"text-align: right;\">0.000321504</td></tr>\n",
       "<tr><td>TrainLightGCN_c365ea48</td><td>TERMINATED</td><td>147.96.81.131:126033</td><td style=\"text-align: right;\">           6</td><td style=\"text-align: right;\">            1</td><td style=\"text-align: right;\">            561</td><td>2022-07-06T00:00:00</td><td style=\"text-align: right;\">3.45128e-06</td><td style=\"text-align: right;\">         0.0009</td><td>90d          </td><td style=\"text-align: right;\">    40</td><td style=\"text-align: right;\">       110.379  </td><td style=\"text-align: right;\">               64</td><td style=\"text-align: right;\">        200</td><td style=\"text-align: right;\">0.000113046</td></tr>\n",
       "<tr><td>TrainLightGCN_9df15892</td><td>TERMINATED</td><td>147.96.81.131:125151</td><td style=\"text-align: right;\">           6</td><td style=\"text-align: right;\">            1</td><td style=\"text-align: right;\">            267</td><td>2022-07-06T00:00:00</td><td style=\"text-align: right;\">9.33729e-06</td><td style=\"text-align: right;\">         0.0025</td><td>10YE         </td><td style=\"text-align: right;\">    40</td><td style=\"text-align: right;\">       133.614  </td><td style=\"text-align: right;\">               64</td><td style=\"text-align: right;\">        200</td><td style=\"text-align: right;\">0.00024833 </td></tr>\n",
       "<tr><td>TrainLightGCN_69ead6af</td><td>TERMINATED</td><td>147.96.81.131:128611</td><td style=\"text-align: right;\">           9</td><td style=\"text-align: right;\">            1</td><td style=\"text-align: right;\">              2</td><td>2022-07-06T00:00:00</td><td style=\"text-align: right;\">3.41407e-07</td><td style=\"text-align: right;\">         0.0005</td><td>21d          </td><td style=\"text-align: right;\">    40</td><td style=\"text-align: right;\">        15.6597 </td><td style=\"text-align: right;\">              512</td><td style=\"text-align: right;\">        200</td><td style=\"text-align: right;\">0.494512   </td></tr>\n",
       "<tr><td>TrainLightGCN_d4713d5e</td><td>TERMINATED</td><td>147.96.81.131:127669</td><td style=\"text-align: right;\">           8</td><td style=\"text-align: right;\">            2</td><td style=\"text-align: right;\">            378</td><td>2022-07-06T00:00:00</td><td style=\"text-align: right;\">2.84405e-06</td><td style=\"text-align: right;\">         0.0007</td><td>10YE         </td><td style=\"text-align: right;\">    40</td><td style=\"text-align: right;\">        49.0583 </td><td style=\"text-align: right;\">              256</td><td style=\"text-align: right;\">        200</td><td style=\"text-align: right;\">0.00209983 </td></tr>\n",
       "<tr><td>TrainLightGCN_a3b25154</td><td>TERMINATED</td><td>147.96.81.131:126769</td><td style=\"text-align: right;\">           7</td><td style=\"text-align: right;\">            2</td><td style=\"text-align: right;\">             62</td><td>2022-07-06T00:00:00</td><td style=\"text-align: right;\">1.0751e-06 </td><td style=\"text-align: right;\">         0.0015</td><td>90d          </td><td style=\"text-align: right;\">    40</td><td style=\"text-align: right;\">        63.4646 </td><td style=\"text-align: right;\">              128</td><td style=\"text-align: right;\">        200</td><td style=\"text-align: right;\">0.000967051</td></tr>\n",
       "<tr><td>TrainLightGCN_a4978ae9</td><td>TERMINATED</td><td>147.96.81.131:126180</td><td style=\"text-align: right;\">           7</td><td style=\"text-align: right;\">            2</td><td style=\"text-align: right;\">            336</td><td>2022-07-06T00:00:00</td><td style=\"text-align: right;\">6.99929e-05</td><td style=\"text-align: right;\">         0.0046</td><td>10YE         </td><td style=\"text-align: right;\">    40</td><td style=\"text-align: right;\">        79.1022 </td><td style=\"text-align: right;\">              128</td><td style=\"text-align: right;\">        200</td><td style=\"text-align: right;\">0.00190314 </td></tr>\n",
       "<tr><td>TrainLightGCN_34b4b3c5</td><td>TERMINATED</td><td>147.96.81.131:127526</td><td style=\"text-align: right;\">           7</td><td style=\"text-align: right;\">            1</td><td style=\"text-align: right;\">            626</td><td>2022-07-06T00:00:00</td><td style=\"text-align: right;\">4.07024e-06</td><td style=\"text-align: right;\">         0.1279</td><td>21d          </td><td style=\"text-align: right;\">    40</td><td style=\"text-align: right;\">        29.6241 </td><td style=\"text-align: right;\">              128</td><td style=\"text-align: right;\">        200</td><td style=\"text-align: right;\">0.0203882  </td></tr>\n",
       "<tr><td>TrainLightGCN_7f7a3fe6</td><td>TERMINATED</td><td>147.96.81.131:126619</td><td style=\"text-align: right;\">           7</td><td style=\"text-align: right;\">            3</td><td style=\"text-align: right;\">            217</td><td>2022-07-06T00:00:00</td><td style=\"text-align: right;\">7.11513e-06</td><td style=\"text-align: right;\">         0.0002</td><td>60d          </td><td style=\"text-align: right;\">    40</td><td style=\"text-align: right;\">        54.8901 </td><td style=\"text-align: right;\">              128</td><td style=\"text-align: right;\">        200</td><td style=\"text-align: right;\">0.0323833  </td></tr>\n",
       "<tr><td>TrainLightGCN_f047c5ab</td><td>TERMINATED</td><td>147.96.81.131:125592</td><td style=\"text-align: right;\">           7</td><td style=\"text-align: right;\">            1</td><td style=\"text-align: right;\">            451</td><td>2022-07-06T00:00:00</td><td style=\"text-align: right;\">6.52334e-07</td><td style=\"text-align: right;\">         0.0005</td><td>10YE         </td><td style=\"text-align: right;\">    40</td><td style=\"text-align: right;\">        73.3581 </td><td style=\"text-align: right;\">              128</td><td style=\"text-align: right;\">        200</td><td style=\"text-align: right;\">0.000410109</td></tr>\n",
       "<tr><td>TrainLightGCN_74ea5330</td><td>TERMINATED</td><td>147.96.81.131:127061</td><td style=\"text-align: right;\">           8</td><td style=\"text-align: right;\">            1</td><td style=\"text-align: right;\">             30</td><td>2022-07-06T00:00:00</td><td style=\"text-align: right;\">0.000101998</td><td style=\"text-align: right;\">         0.0066</td><td>30d          </td><td style=\"text-align: right;\">    40</td><td style=\"text-align: right;\">        23.5847 </td><td style=\"text-align: right;\">              256</td><td style=\"text-align: right;\">        200</td><td style=\"text-align: right;\">0.00161699 </td></tr>\n",
       "<tr><td>TrainLightGCN_b4ea9f52</td><td>TERMINATED</td><td>147.96.81.131:125304</td><td style=\"text-align: right;\">           7</td><td style=\"text-align: right;\">            1</td><td style=\"text-align: right;\">            218</td><td>2022-07-06T00:00:00</td><td style=\"text-align: right;\">2.85427e-07</td><td style=\"text-align: right;\">         0.0002</td><td>10YE         </td><td style=\"text-align: right;\">    40</td><td style=\"text-align: right;\">        68.9239 </td><td style=\"text-align: right;\">              128</td><td style=\"text-align: right;\">        200</td><td style=\"text-align: right;\">0.00790982 </td></tr>\n",
       "<tr><td>TrainLightGCN_491ff174</td><td>TERMINATED</td><td>147.96.81.131:125003</td><td style=\"text-align: right;\">           7</td><td style=\"text-align: right;\">            1</td><td style=\"text-align: right;\">            692</td><td>2022-07-06T00:00:00</td><td style=\"text-align: right;\">3.53763e-06</td><td style=\"text-align: right;\">         0.0003</td><td>10YE         </td><td style=\"text-align: right;\">    40</td><td style=\"text-align: right;\">        62.903  </td><td style=\"text-align: right;\">              128</td><td style=\"text-align: right;\">        200</td><td style=\"text-align: right;\">0.00100397 </td></tr>\n",
       "<tr><td>TrainLightGCN_6bf70708</td><td>TERMINATED</td><td>147.96.81.131:126327</td><td style=\"text-align: right;\">           8</td><td style=\"text-align: right;\">            1</td><td style=\"text-align: right;\">            134</td><td>2022-07-06T00:00:00</td><td style=\"text-align: right;\">1.78571e-06</td><td style=\"text-align: right;\">         0.0001</td><td>21d          </td><td style=\"text-align: right;\">    40</td><td style=\"text-align: right;\">        19.0568 </td><td style=\"text-align: right;\">              256</td><td style=\"text-align: right;\">        200</td><td style=\"text-align: right;\">0.150488   </td></tr>\n",
       "<tr><td>TrainLightGCN_45349523</td><td>TERMINATED</td><td>147.96.81.131:124858</td><td style=\"text-align: right;\">           7</td><td style=\"text-align: right;\">            1</td><td style=\"text-align: right;\">            552</td><td>2022-07-06T00:00:00</td><td style=\"text-align: right;\">1.77025e-06</td><td style=\"text-align: right;\">         0.0006</td><td>10YE         </td><td style=\"text-align: right;\">    40</td><td style=\"text-align: right;\">        58.6739 </td><td style=\"text-align: right;\">              128</td><td style=\"text-align: right;\">        200</td><td style=\"text-align: right;\">0.000277481</td></tr>\n",
       "<tr><td>TrainLightGCN_14a69f1f</td><td>TERMINATED</td><td>147.96.81.131:125885</td><td style=\"text-align: right;\">           7</td><td style=\"text-align: right;\">            2</td><td style=\"text-align: right;\">            286</td><td>2022-07-06T00:00:00</td><td style=\"text-align: right;\">4.13776e-07</td><td style=\"text-align: right;\">         0.0002</td><td>30d          </td><td style=\"text-align: right;\">    40</td><td style=\"text-align: right;\">        30.3211 </td><td style=\"text-align: right;\">              128</td><td style=\"text-align: right;\">        200</td><td style=\"text-align: right;\">0.00851189 </td></tr>\n",
       "<tr><td>TrainLightGCN_86e27488</td><td>TERMINATED</td><td>147.96.81.131:124380</td><td style=\"text-align: right;\">           6</td><td style=\"text-align: right;\">            3</td><td style=\"text-align: right;\">            764</td><td>2022-07-06T00:00:00</td><td style=\"text-align: right;\">1.06802e-06</td><td style=\"text-align: right;\">         0.0009</td><td>60d          </td><td style=\"text-align: right;\">    40</td><td style=\"text-align: right;\">        59.5749 </td><td style=\"text-align: right;\">               64</td><td style=\"text-align: right;\">        200</td><td style=\"text-align: right;\">0.000188933</td></tr>\n",
       "<tr><td>TrainLightGCN_9eccbb97</td><td>TERMINATED</td><td>147.96.81.131:123335</td><td style=\"text-align: right;\">           6</td><td style=\"text-align: right;\">            4</td><td style=\"text-align: right;\">            968</td><td>2022-07-06T00:00:00</td><td style=\"text-align: right;\">1.16141e-05</td><td style=\"text-align: right;\">         0.0003</td><td>10YE         </td><td style=\"text-align: right;\">    40</td><td style=\"text-align: right;\">        83.2124 </td><td style=\"text-align: right;\">               64</td><td style=\"text-align: right;\">        200</td><td style=\"text-align: right;\">0.00469975 </td></tr>\n",
       "<tr><td>TrainLightGCN_d03987bc</td><td>TERMINATED</td><td>147.96.81.131:124680</td><td style=\"text-align: right;\">           8</td><td style=\"text-align: right;\">            1</td><td style=\"text-align: right;\">            408</td><td>2022-07-06T00:00:00</td><td style=\"text-align: right;\">5.93134e-06</td><td style=\"text-align: right;\">         0.013 </td><td>10YE         </td><td style=\"text-align: right;\">    40</td><td style=\"text-align: right;\">        27.8244 </td><td style=\"text-align: right;\">              256</td><td style=\"text-align: right;\">        200</td><td style=\"text-align: right;\">0.00432479 </td></tr>\n",
       "<tr><td>TrainLightGCN_1a9ab3f0</td><td>TERMINATED</td><td>147.96.81.131:123628</td><td style=\"text-align: right;\">           6</td><td style=\"text-align: right;\">            1</td><td style=\"text-align: right;\">            176</td><td>2022-07-06T00:00:00</td><td style=\"text-align: right;\">4.89148e-06</td><td style=\"text-align: right;\">         0.0074</td><td>60d          </td><td style=\"text-align: right;\">    40</td><td style=\"text-align: right;\">        49.1412 </td><td style=\"text-align: right;\">               64</td><td style=\"text-align: right;\">        200</td><td style=\"text-align: right;\">0.000861479</td></tr>\n",
       "<tr><td>TrainLightGCN_1cbf286a</td><td>TERMINATED</td><td>147.96.81.131:124530</td><td style=\"text-align: right;\">          10</td><td style=\"text-align: right;\">            2</td><td style=\"text-align: right;\">            145</td><td>2022-07-06T00:00:00</td><td style=\"text-align: right;\">5.52699e-07</td><td style=\"text-align: right;\">         0.0014</td><td>10YE         </td><td style=\"text-align: right;\">    40</td><td style=\"text-align: right;\">        14.7076 </td><td style=\"text-align: right;\">             1024</td><td style=\"text-align: right;\">        200</td><td style=\"text-align: right;\">0.00747905 </td></tr>\n",
       "<tr><td>TrainLightGCN_ff10f555</td><td>TERMINATED</td><td>147.96.81.131:124237</td><td style=\"text-align: right;\">           9</td><td style=\"text-align: right;\">            2</td><td style=\"text-align: right;\">            199</td><td>2022-07-06T00:00:00</td><td style=\"text-align: right;\">2.0994e-05 </td><td style=\"text-align: right;\">         0.0019</td><td>10YE         </td><td style=\"text-align: right;\">    40</td><td style=\"text-align: right;\">        18.4712 </td><td style=\"text-align: right;\">              512</td><td style=\"text-align: right;\">        200</td><td style=\"text-align: right;\">0.0025699  </td></tr>\n",
       "<tr><td>TrainLightGCN_46e5284c</td><td>TERMINATED</td><td>147.96.81.131:123916</td><td style=\"text-align: right;\">           9</td><td style=\"text-align: right;\">            2</td><td style=\"text-align: right;\">             73</td><td>2022-07-06T00:00:00</td><td style=\"text-align: right;\">1.95201e-07</td><td style=\"text-align: right;\">         0.0001</td><td>10YE         </td><td style=\"text-align: right;\">    40</td><td style=\"text-align: right;\">        19.6672 </td><td style=\"text-align: right;\">              512</td><td style=\"text-align: right;\">        200</td><td style=\"text-align: right;\">0.168954   </td></tr>\n",
       "<tr><td>TrainLightGCN_905433bd</td><td>TERMINATED</td><td>147.96.81.131:124078</td><td style=\"text-align: right;\">           8</td><td style=\"text-align: right;\">            1</td><td style=\"text-align: right;\">              7</td><td>2022-07-06T00:00:00</td><td style=\"text-align: right;\">2.3814e-06 </td><td style=\"text-align: right;\">         0.0034</td><td>21d          </td><td style=\"text-align: right;\">    40</td><td style=\"text-align: right;\">        13.9408 </td><td style=\"text-align: right;\">              256</td><td style=\"text-align: right;\">        200</td><td style=\"text-align: right;\">0.00393124 </td></tr>\n",
       "<tr><td>TrainLightGCN_35b28733</td><td>TERMINATED</td><td>147.96.81.131:123477</td><td style=\"text-align: right;\">           8</td><td style=\"text-align: right;\">            2</td><td style=\"text-align: right;\">             24</td><td>2022-07-06T00:00:00</td><td style=\"text-align: right;\">2.67826e-05</td><td style=\"text-align: right;\">         0.0319</td><td>10YE         </td><td style=\"text-align: right;\">    40</td><td style=\"text-align: right;\">        29.7658 </td><td style=\"text-align: right;\">              256</td><td style=\"text-align: right;\">        200</td><td style=\"text-align: right;\">0.00313435 </td></tr>\n",
       "<tr><td>TrainLightGCN_84b04329</td><td>TERMINATED</td><td>147.96.81.131:123044</td><td style=\"text-align: right;\">           7</td><td style=\"text-align: right;\">            1</td><td style=\"text-align: right;\">            659</td><td>2022-07-06T00:00:00</td><td style=\"text-align: right;\">1.66093e-06</td><td style=\"text-align: right;\">         0.0006</td><td>10YE         </td><td style=\"text-align: right;\">    40</td><td style=\"text-align: right;\">        41.357  </td><td style=\"text-align: right;\">              128</td><td style=\"text-align: right;\">        200</td><td style=\"text-align: right;\">0.000231414</td></tr>\n",
       "<tr><td>TrainLightGCN_fe1b1f91</td><td>TERMINATED</td><td>147.96.81.131:123773</td><td style=\"text-align: right;\">           7</td><td style=\"text-align: right;\">            3</td><td style=\"text-align: right;\">            103</td><td>2022-07-06T00:00:00</td><td style=\"text-align: right;\">0.00110305 </td><td style=\"text-align: right;\">         0.082 </td><td>30d          </td><td style=\"text-align: right;\">    40</td><td style=\"text-align: right;\">        20.865  </td><td style=\"text-align: right;\">              128</td><td style=\"text-align: right;\">        200</td><td style=\"text-align: right;\">0.00991749 </td></tr>\n",
       "<tr><td>TrainLightGCN_6b233f04</td><td>TERMINATED</td><td>147.96.81.131:122753</td><td style=\"text-align: right;\">           6</td><td style=\"text-align: right;\">            2</td><td style=\"text-align: right;\">              2</td><td>2022-07-06T00:00:00</td><td style=\"text-align: right;\">0.000394392</td><td style=\"text-align: right;\">         0.8991</td><td>60d          </td><td style=\"text-align: right;\">    40</td><td style=\"text-align: right;\">        45.3641 </td><td style=\"text-align: right;\">               64</td><td style=\"text-align: right;\">        200</td><td style=\"text-align: right;\">0.691942   </td></tr>\n",
       "<tr><td>TrainLightGCN_676f3360</td><td>TERMINATED</td><td>147.96.81.131:122164</td><td style=\"text-align: right;\">           6</td><td style=\"text-align: right;\">            2</td><td style=\"text-align: right;\">            342</td><td>2022-07-06T00:00:00</td><td style=\"text-align: right;\">1.54757e-06</td><td style=\"text-align: right;\">         0.0449</td><td>10YE         </td><td style=\"text-align: right;\">    40</td><td style=\"text-align: right;\">        55.8561 </td><td style=\"text-align: right;\">               64</td><td style=\"text-align: right;\">        200</td><td style=\"text-align: right;\">0.131446   </td></tr>\n",
       "<tr><td>TrainLightGCN_0174fd95</td><td>TERMINATED</td><td>147.96.81.131:122017</td><td style=\"text-align: right;\">           6</td><td style=\"text-align: right;\">            4</td><td style=\"text-align: right;\">            113</td><td>2022-07-06T00:00:00</td><td style=\"text-align: right;\">3.56238e-06</td><td style=\"text-align: right;\">         0.0002</td><td>10YE         </td><td style=\"text-align: right;\">    40</td><td style=\"text-align: right;\">        52.1841 </td><td style=\"text-align: right;\">               64</td><td style=\"text-align: right;\">        200</td><td style=\"text-align: right;\">0.0373079  </td></tr>\n",
       "<tr><td>TrainLightGCN_9d3b1298</td><td>TERMINATED</td><td>147.96.81.131:122610</td><td style=\"text-align: right;\">           7</td><td style=\"text-align: right;\">            1</td><td style=\"text-align: right;\">            392</td><td>2022-07-06T00:00:00</td><td style=\"text-align: right;\">0.000105669</td><td style=\"text-align: right;\">         0.0001</td><td>10YE         </td><td style=\"text-align: right;\">    40</td><td style=\"text-align: right;\">        36.4662 </td><td style=\"text-align: right;\">              128</td><td style=\"text-align: right;\">        200</td><td style=\"text-align: right;\">0.0180677  </td></tr>\n",
       "<tr><td>TrainLightGCN_07960381</td><td>TERMINATED</td><td>147.96.81.131:123186</td><td style=\"text-align: right;\">           7</td><td style=\"text-align: right;\">            3</td><td style=\"text-align: right;\">             39</td><td>2022-07-06T00:00:00</td><td style=\"text-align: right;\">0.000203207</td><td style=\"text-align: right;\">         0.4085</td><td>21d          </td><td style=\"text-align: right;\">    40</td><td style=\"text-align: right;\">        17.3443 </td><td style=\"text-align: right;\">              128</td><td style=\"text-align: right;\">        200</td><td style=\"text-align: right;\">0.135022   </td></tr>\n",
       "<tr><td>TrainLightGCN_caa5a732</td><td>TERMINATED</td><td>147.96.81.131:122894</td><td style=\"text-align: right;\">           8</td><td style=\"text-align: right;\">            2</td><td style=\"text-align: right;\">             76</td><td>2022-07-06T00:00:00</td><td style=\"text-align: right;\">3.38172e-07</td><td style=\"text-align: right;\">         0.0031</td><td>30d          </td><td style=\"text-align: right;\">    40</td><td style=\"text-align: right;\">        13.897  </td><td style=\"text-align: right;\">              256</td><td style=\"text-align: right;\">        200</td><td style=\"text-align: right;\">0.000309711</td></tr>\n",
       "<tr><td>TrainLightGCN_2be41940</td><td>TERMINATED</td><td>147.96.81.131:122468</td><td style=\"text-align: right;\">           6</td><td style=\"text-align: right;\">            2</td><td style=\"text-align: right;\">            168</td><td>2022-07-06T00:00:00</td><td style=\"text-align: right;\">0.00358995 </td><td style=\"text-align: right;\">         0.0011</td><td>21d          </td><td style=\"text-align: right;\">    40</td><td style=\"text-align: right;\">        17.4746 </td><td style=\"text-align: right;\">               64</td><td style=\"text-align: right;\">        200</td><td style=\"text-align: right;\">0.0155417  </td></tr>\n",
       "<tr><td>TrainLightGCN_60f911b3</td><td>TERMINATED</td><td>147.96.81.131:122314</td><td style=\"text-align: right;\">           7</td><td style=\"text-align: right;\">            3</td><td style=\"text-align: right;\">              9</td><td>2022-07-06T00:00:00</td><td style=\"text-align: right;\">3.95741e-05</td><td style=\"text-align: right;\">         0.0002</td><td>30d          </td><td style=\"text-align: right;\">    40</td><td style=\"text-align: right;\">        13.6177 </td><td style=\"text-align: right;\">              128</td><td style=\"text-align: right;\">        200</td><td style=\"text-align: right;\">0.284274   </td></tr>\n",
       "<tr><td>TrainLightGCN_86928852</td><td>TERMINATED</td><td>147.96.81.131:121716</td><td style=\"text-align: right;\">           9</td><td style=\"text-align: right;\">            3</td><td style=\"text-align: right;\">             34</td><td>2022-07-06T00:00:00</td><td style=\"text-align: right;\">2.37228e-06</td><td style=\"text-align: right;\">         0.0002</td><td>10YE         </td><td style=\"text-align: right;\">    40</td><td style=\"text-align: right;\">        12.516  </td><td style=\"text-align: right;\">              512</td><td style=\"text-align: right;\">        200</td><td style=\"text-align: right;\">0.171651   </td></tr>\n",
       "<tr><td>TrainLightGCN_510a7c54</td><td>TERMINATED</td><td>147.96.81.131:121860</td><td style=\"text-align: right;\">          10</td><td style=\"text-align: right;\">            1</td><td style=\"text-align: right;\">            125</td><td>2022-07-06T00:00:00</td><td style=\"text-align: right;\">1.51528e-05</td><td style=\"text-align: right;\">         0.0001</td><td>21d          </td><td style=\"text-align: right;\">    40</td><td style=\"text-align: right;\">         8.50781</td><td style=\"text-align: right;\">              603</td><td style=\"text-align: right;\">        200</td><td style=\"text-align: right;\">0.291081   </td></tr>\n",
       "<tr><td>TrainLightGCN_788c9769</td><td>TERMINATED</td><td>147.96.81.131:121567</td><td style=\"text-align: right;\">           9</td><td style=\"text-align: right;\">            2</td><td style=\"text-align: right;\">              1</td><td>2022-07-06T00:00:00</td><td style=\"text-align: right;\">0.00589967 </td><td style=\"text-align: right;\">         0.0007</td><td>10YE         </td><td style=\"text-align: right;\">    40</td><td style=\"text-align: right;\">        12.3491 </td><td style=\"text-align: right;\">              512</td><td style=\"text-align: right;\">        200</td><td style=\"text-align: right;\">0.271915   </td></tr>\n",
       "<tr><td>TrainLightGCN_055618a0</td><td>TERMINATED</td><td>147.96.81.131:121412</td><td style=\"text-align: right;\">          10</td><td style=\"text-align: right;\">            2</td><td style=\"text-align: right;\">             61</td><td>2022-07-06T00:00:00</td><td style=\"text-align: right;\">1.88414e-07</td><td style=\"text-align: right;\">         0.0003</td><td>10YE         </td><td style=\"text-align: right;\">    40</td><td style=\"text-align: right;\">        11.357  </td><td style=\"text-align: right;\">             1024</td><td style=\"text-align: right;\">        200</td><td style=\"text-align: right;\">0.0956628  </td></tr>\n",
       "<tr><td>TrainLightGCN_015ace45</td><td>TERMINATED</td><td>147.96.81.131:120362</td><td style=\"text-align: right;\">           6</td><td style=\"text-align: right;\">            2</td><td style=\"text-align: right;\">            137</td><td>2022-07-06T00:00:00</td><td style=\"text-align: right;\">4.77009e-06</td><td style=\"text-align: right;\">         0.0002</td><td>10YE         </td><td style=\"text-align: right;\">    40</td><td style=\"text-align: right;\">        36.2711 </td><td style=\"text-align: right;\">               64</td><td style=\"text-align: right;\">        200</td><td style=\"text-align: right;\">0.0141151  </td></tr>\n",
       "<tr><td>TrainLightGCN_258d4f53</td><td>TERMINATED</td><td>147.96.81.131:121264</td><td style=\"text-align: right;\">           9</td><td style=\"text-align: right;\">            3</td><td style=\"text-align: right;\">             20</td><td>2022-07-06T00:00:00</td><td style=\"text-align: right;\">5.37338e-07</td><td style=\"text-align: right;\">         0.0005</td><td>10YE         </td><td style=\"text-align: right;\">    40</td><td style=\"text-align: right;\">        12.9898 </td><td style=\"text-align: right;\">              512</td><td style=\"text-align: right;\">        200</td><td style=\"text-align: right;\">0.103771   </td></tr>\n",
       "<tr><td>TrainLightGCN_a2f7c634</td><td>TERMINATED</td><td>147.96.81.131:121117</td><td style=\"text-align: right;\">          10</td><td style=\"text-align: right;\">            2</td><td style=\"text-align: right;\">            254</td><td>2022-07-06T00:00:00</td><td style=\"text-align: right;\">0.000517175</td><td style=\"text-align: right;\">         0.0173</td><td>60d          </td><td style=\"text-align: right;\">    40</td><td style=\"text-align: right;\">        10.199  </td><td style=\"text-align: right;\">              862</td><td style=\"text-align: right;\">        200</td><td style=\"text-align: right;\">0.00782587 </td></tr>\n",
       "<tr><td>TrainLightGCN_9f4fff86</td><td>TERMINATED</td><td>147.96.81.131:120959</td><td style=\"text-align: right;\">           8</td><td style=\"text-align: right;\">            1</td><td style=\"text-align: right;\">            481</td><td>2022-07-06T00:00:00</td><td style=\"text-align: right;\">6.97115e-05</td><td style=\"text-align: right;\">         0.0012</td><td>30d          </td><td style=\"text-align: right;\">    40</td><td style=\"text-align: right;\">        10.3654 </td><td style=\"text-align: right;\">              256</td><td style=\"text-align: right;\">        200</td><td style=\"text-align: right;\">0.00166985 </td></tr>\n",
       "<tr><td>TrainLightGCN_38d5ddcb</td><td>TERMINATED</td><td>147.96.81.131:120810</td><td style=\"text-align: right;\">           9</td><td style=\"text-align: right;\">            2</td><td style=\"text-align: right;\">             51</td><td>2022-07-06T00:00:00</td><td style=\"text-align: right;\">8.46575e-07</td><td style=\"text-align: right;\">         0.0001</td><td>10YE         </td><td style=\"text-align: right;\">    40</td><td style=\"text-align: right;\">        13.2301 </td><td style=\"text-align: right;\">              512</td><td style=\"text-align: right;\">        200</td><td style=\"text-align: right;\">0.198885   </td></tr>\n",
       "<tr><td>TrainLightGCN_d5bab05e</td><td>TERMINATED</td><td>147.96.81.131:120663</td><td style=\"text-align: right;\">          10</td><td style=\"text-align: right;\">            1</td><td style=\"text-align: right;\">              4</td><td>2022-07-06T00:00:00</td><td style=\"text-align: right;\">1.11252e-07</td><td style=\"text-align: right;\">         0.0004</td><td>10YE         </td><td style=\"text-align: right;\">    40</td><td style=\"text-align: right;\">        12.4818 </td><td style=\"text-align: right;\">             1024</td><td style=\"text-align: right;\">        200</td><td style=\"text-align: right;\">0.259861   </td></tr>\n",
       "<tr><td>TrainLightGCN_d0d4502f</td><td>TERMINATED</td><td>147.96.81.131:120213</td><td style=\"text-align: right;\">           7</td><td style=\"text-align: right;\">            3</td><td style=\"text-align: right;\">            267</td><td>2022-07-06T00:00:00</td><td style=\"text-align: right;\">8.15337e-07</td><td style=\"text-align: right;\">         0.0042</td><td>60d          </td><td style=\"text-align: right;\">    40</td><td style=\"text-align: right;\">        20.0448 </td><td style=\"text-align: right;\">              128</td><td style=\"text-align: right;\">        200</td><td style=\"text-align: right;\">0.000170955</td></tr>\n",
       "<tr><td>TrainLightGCN_89276e8c</td><td>TERMINATED</td><td>147.96.81.131:120512</td><td style=\"text-align: right;\">          10</td><td style=\"text-align: right;\">            2</td><td style=\"text-align: right;\">             18</td><td>2022-07-06T00:00:00</td><td style=\"text-align: right;\">1.34618e-06</td><td style=\"text-align: right;\">         0.0077</td><td>21d          </td><td style=\"text-align: right;\">    40</td><td style=\"text-align: right;\">        10.0991 </td><td style=\"text-align: right;\">              603</td><td style=\"text-align: right;\">        200</td><td style=\"text-align: right;\">0.000905371</td></tr>\n",
       "<tr><td>TrainLightGCN_f21dd39c</td><td>TERMINATED</td><td>147.96.81.131:119169</td><td style=\"text-align: right;\">           6</td><td style=\"text-align: right;\">            1</td><td style=\"text-align: right;\">             14</td><td>2022-07-06T00:00:00</td><td style=\"text-align: right;\">7.85538e-06</td><td style=\"text-align: right;\">         0.0001</td><td>10YE         </td><td style=\"text-align: right;\">    40</td><td style=\"text-align: right;\">        44.8857 </td><td style=\"text-align: right;\">               64</td><td style=\"text-align: right;\">        200</td><td style=\"text-align: right;\">0.11709    </td></tr>\n",
       "<tr><td>TrainLightGCN_d06bd410</td><td>TERMINATED</td><td>147.96.81.131:120061</td><td style=\"text-align: right;\">           8</td><td style=\"text-align: right;\">            2</td><td style=\"text-align: right;\">             45</td><td>2022-07-06T00:00:00</td><td style=\"text-align: right;\">1.9888e-07 </td><td style=\"text-align: right;\">         0.0119</td><td>90d          </td><td style=\"text-align: right;\">    40</td><td style=\"text-align: right;\">        16.357  </td><td style=\"text-align: right;\">              256</td><td style=\"text-align: right;\">        200</td><td style=\"text-align: right;\">6.99428e-05</td></tr>\n",
       "<tr><td>TrainLightGCN_0c8716ce</td><td>TERMINATED</td><td>147.96.81.131:119749</td><td style=\"text-align: right;\">           7</td><td style=\"text-align: right;\">            1</td><td style=\"text-align: right;\">            609</td><td>2022-07-06T00:00:00</td><td style=\"text-align: right;\">2.01277e-05</td><td style=\"text-align: right;\">         0.0016</td><td>90d          </td><td style=\"text-align: right;\">    40</td><td style=\"text-align: right;\">        22.2502 </td><td style=\"text-align: right;\">              128</td><td style=\"text-align: right;\">        200</td><td style=\"text-align: right;\">0.000468158</td></tr>\n",
       "<tr><td>TrainLightGCN_23b230dd</td><td>TERMINATED</td><td>147.96.81.131:119905</td><td style=\"text-align: right;\">           9</td><td style=\"text-align: right;\">            2</td><td style=\"text-align: right;\">             62</td><td>2022-07-06T00:00:00</td><td style=\"text-align: right;\">7.32338e-07</td><td style=\"text-align: right;\">         0.0004</td><td>10YE         </td><td style=\"text-align: right;\">    40</td><td style=\"text-align: right;\">        14.7282 </td><td style=\"text-align: right;\">              512</td><td style=\"text-align: right;\">        200</td><td style=\"text-align: right;\">0.0429668  </td></tr>\n",
       "<tr><td>TrainLightGCN_440fa633</td><td>TERMINATED</td><td>147.96.81.131:119459</td><td style=\"text-align: right;\">           8</td><td style=\"text-align: right;\">            3</td><td style=\"text-align: right;\">            137</td><td>2022-07-06T00:00:00</td><td style=\"text-align: right;\">1.38237e-05</td><td style=\"text-align: right;\">         0.0403</td><td>10YE         </td><td style=\"text-align: right;\">    40</td><td style=\"text-align: right;\">        20.0245 </td><td style=\"text-align: right;\">              256</td><td style=\"text-align: right;\">        200</td><td style=\"text-align: right;\">0.021621   </td></tr>\n",
       "<tr><td>TrainLightGCN_7297c0e3</td><td>TERMINATED</td><td>147.96.81.131:119599</td><td style=\"text-align: right;\">           9</td><td style=\"text-align: right;\">            2</td><td style=\"text-align: right;\">            304</td><td>2022-07-06T00:00:00</td><td style=\"text-align: right;\">4.5211e-06 </td><td style=\"text-align: right;\">         0.0052</td><td>60d          </td><td style=\"text-align: right;\">    40</td><td style=\"text-align: right;\">        13.0315 </td><td style=\"text-align: right;\">              512</td><td style=\"text-align: right;\">        200</td><td style=\"text-align: right;\">0.000478207</td></tr>\n",
       "<tr><td>TrainLightGCN_d52a13b5</td><td>TERMINATED</td><td>147.96.81.131:118585</td><td style=\"text-align: right;\">           6</td><td style=\"text-align: right;\">            1</td><td style=\"text-align: right;\">             12</td><td>2022-07-06T00:00:00</td><td style=\"text-align: right;\">0.00828314 </td><td style=\"text-align: right;\">         0.0003</td><td>90d          </td><td style=\"text-align: right;\">    40</td><td style=\"text-align: right;\">        36.3297 </td><td style=\"text-align: right;\">               64</td><td style=\"text-align: right;\">        200</td><td style=\"text-align: right;\">0.107106   </td></tr>\n",
       "<tr><td>TrainLightGCN_191a35f4</td><td>TERMINATED</td><td>147.96.81.131:119311</td><td style=\"text-align: right;\">          10</td><td style=\"text-align: right;\">            3</td><td style=\"text-align: right;\">            523</td><td>2022-07-06T00:00:00</td><td style=\"text-align: right;\">4.55058e-07</td><td style=\"text-align: right;\">         0.0011</td><td>90d          </td><td style=\"text-align: right;\">    40</td><td style=\"text-align: right;\">        14.3019 </td><td style=\"text-align: right;\">              925</td><td style=\"text-align: right;\">        200</td><td style=\"text-align: right;\">0.00542011 </td></tr>\n",
       "<tr><td>TrainLightGCN_780861c2</td><td>TERMINATED</td><td>147.96.81.131:118875</td><td style=\"text-align: right;\">           7</td><td style=\"text-align: right;\">            1</td><td style=\"text-align: right;\">            163</td><td>2022-07-06T00:00:00</td><td style=\"text-align: right;\">9.07795e-06</td><td style=\"text-align: right;\">         0.0057</td><td>90d          </td><td style=\"text-align: right;\">    40</td><td style=\"text-align: right;\">        25.6535 </td><td style=\"text-align: right;\">              128</td><td style=\"text-align: right;\">        200</td><td style=\"text-align: right;\">0.000213735</td></tr>\n",
       "<tr><td>TrainLightGCN_68f20733</td><td>TERMINATED</td><td>147.96.81.131:119025</td><td style=\"text-align: right;\">           8</td><td style=\"text-align: right;\">            2</td><td style=\"text-align: right;\">             49</td><td>2022-07-06T00:00:00</td><td style=\"text-align: right;\">4.07236e-07</td><td style=\"text-align: right;\">         0.0004</td><td>90d          </td><td style=\"text-align: right;\">    40</td><td style=\"text-align: right;\">        19.4748 </td><td style=\"text-align: right;\">              256</td><td style=\"text-align: right;\">        200</td><td style=\"text-align: right;\">0.0371283  </td></tr>\n",
       "<tr><td>TrainLightGCN_b93f222e</td><td>TERMINATED</td><td>147.96.81.131:118294</td><td style=\"text-align: right;\">           6</td><td style=\"text-align: right;\">            1</td><td style=\"text-align: right;\">            827</td><td>2022-07-06T00:00:00</td><td style=\"text-align: right;\">1.18753e-07</td><td style=\"text-align: right;\">         0.0008</td><td>90d          </td><td style=\"text-align: right;\">    40</td><td style=\"text-align: right;\">        35.2491 </td><td style=\"text-align: right;\">               64</td><td style=\"text-align: right;\">        200</td><td style=\"text-align: right;\">1.59556e-05</td></tr>\n",
       "<tr><td>TrainLightGCN_aa91b1bd</td><td>TERMINATED</td><td>147.96.81.131:118436</td><td style=\"text-align: right;\">           7</td><td style=\"text-align: right;\">            1</td><td style=\"text-align: right;\">            182</td><td>2022-07-06T00:00:00</td><td style=\"text-align: right;\">6.91653e-06</td><td style=\"text-align: right;\">         0.0028</td><td>10YE         </td><td style=\"text-align: right;\">    40</td><td style=\"text-align: right;\">        28.6109 </td><td style=\"text-align: right;\">              128</td><td style=\"text-align: right;\">        200</td><td style=\"text-align: right;\">0.000339889</td></tr>\n",
       "<tr><td>TrainLightGCN_c66bdf55</td><td>TERMINATED</td><td>147.96.81.131:118727</td><td style=\"text-align: right;\">          10</td><td style=\"text-align: right;\">            3</td><td style=\"text-align: right;\">            969</td><td>2022-07-06T00:00:00</td><td style=\"text-align: right;\">2.70767e-07</td><td style=\"text-align: right;\">         0.0021</td><td>10YE         </td><td style=\"text-align: right;\">    40</td><td style=\"text-align: right;\">        14.5802 </td><td style=\"text-align: right;\">             1024</td><td style=\"text-align: right;\">        200</td><td style=\"text-align: right;\">0.00120519 </td></tr>\n",
       "<tr><td>TrainLightGCN_f1c9cda6</td><td>TERMINATED</td><td>147.96.81.131:117842</td><td style=\"text-align: right;\">           7</td><td style=\"text-align: right;\">            4</td><td style=\"text-align: right;\">             97</td><td>2022-07-06T00:00:00</td><td style=\"text-align: right;\">6.09932e-05</td><td style=\"text-align: right;\">         0.0021</td><td>10YE         </td><td style=\"text-align: right;\">    40</td><td style=\"text-align: right;\">        22.3005 </td><td style=\"text-align: right;\">              128</td><td style=\"text-align: right;\">        200</td><td style=\"text-align: right;\">0.0057171  </td></tr>\n",
       "<tr><td>TrainLightGCN_550daf6c</td><td>TERMINATED</td><td>147.96.81.131:118137</td><td style=\"text-align: right;\">          10</td><td style=\"text-align: right;\">            1</td><td style=\"text-align: right;\">            837</td><td>2022-07-06T00:00:00</td><td style=\"text-align: right;\">1.3007e-07 </td><td style=\"text-align: right;\">         0.0229</td><td>90d          </td><td style=\"text-align: right;\">    40</td><td style=\"text-align: right;\">        10.4707 </td><td style=\"text-align: right;\">              925</td><td style=\"text-align: right;\">        200</td><td style=\"text-align: right;\">1.96489e-05</td></tr>\n",
       "<tr><td>TrainLightGCN_be6e4e56</td><td>TERMINATED</td><td>147.96.81.131:117996</td><td style=\"text-align: right;\">           9</td><td style=\"text-align: right;\">            2</td><td style=\"text-align: right;\">              3</td><td>2022-07-06T00:00:00</td><td style=\"text-align: right;\">0.00158506 </td><td style=\"text-align: right;\">         0.0001</td><td>30d          </td><td style=\"text-align: right;\">    40</td><td style=\"text-align: right;\">         8.78801</td><td style=\"text-align: right;\">              512</td><td style=\"text-align: right;\">        200</td><td style=\"text-align: right;\">0.67101    </td></tr>\n",
       "<tr><td>TrainLightGCN_701b09ad</td><td>TERMINATED</td><td>147.96.81.131:117699</td><td style=\"text-align: right;\">           8</td><td style=\"text-align: right;\">            2</td><td style=\"text-align: right;\">             27</td><td>2022-07-06T00:00:00</td><td style=\"text-align: right;\">3.06006e-05</td><td style=\"text-align: right;\">         0.2056</td><td>30d          </td><td style=\"text-align: right;\">    40</td><td style=\"text-align: right;\">         9.62258</td><td style=\"text-align: right;\">              256</td><td style=\"text-align: right;\">        200</td><td style=\"text-align: right;\">0.0197922  </td></tr>\n",
       "<tr><td>TrainLightGCN_f5babbf3</td><td>TERMINATED</td><td>147.96.81.131:117551</td><td style=\"text-align: right;\">           8</td><td style=\"text-align: right;\">            2</td><td style=\"text-align: right;\">            241</td><td>2022-07-06T00:00:00</td><td style=\"text-align: right;\">5.10482e-06</td><td style=\"text-align: right;\">         0.0017</td><td>90d          </td><td style=\"text-align: right;\">    40</td><td style=\"text-align: right;\">        12.8506 </td><td style=\"text-align: right;\">              256</td><td style=\"text-align: right;\">        200</td><td style=\"text-align: right;\">0.000877886</td></tr>\n",
       "<tr><td>TrainLightGCN_3d208ced</td><td>TERMINATED</td><td>147.96.81.131:117405</td><td style=\"text-align: right;\">           9</td><td style=\"text-align: right;\">            4</td><td style=\"text-align: right;\">              7</td><td>2022-07-06T00:00:00</td><td style=\"text-align: right;\">2.91903e-06</td><td style=\"text-align: right;\">         0.1593</td><td>21d          </td><td style=\"text-align: right;\">    40</td><td style=\"text-align: right;\">         8.13026</td><td style=\"text-align: right;\">              512</td><td style=\"text-align: right;\">        200</td><td style=\"text-align: right;\">0.000193379</td></tr>\n",
       "<tr><td>TrainLightGCN_cdf3fc25</td><td>TERMINATED</td><td>147.96.81.131:117253</td><td style=\"text-align: right;\">           9</td><td style=\"text-align: right;\">            3</td><td style=\"text-align: right;\">            447</td><td>2022-07-06T00:00:00</td><td style=\"text-align: right;\">0.000129301</td><td style=\"text-align: right;\">         0.0008</td><td>60d          </td><td style=\"text-align: right;\">    40</td><td style=\"text-align: right;\">        10.0308 </td><td style=\"text-align: right;\">              512</td><td style=\"text-align: right;\">        200</td><td style=\"text-align: right;\">0.0136326  </td></tr>\n",
       "<tr><td>TrainLightGCN_1f73662a</td><td>TERMINATED</td><td>147.96.81.131:117090</td><td style=\"text-align: right;\">           9</td><td style=\"text-align: right;\">            3</td><td style=\"text-align: right;\">             86</td><td>2022-07-06T00:00:00</td><td style=\"text-align: right;\">0.000166749</td><td style=\"text-align: right;\">         0.0002</td><td>30d          </td><td style=\"text-align: right;\">    40</td><td style=\"text-align: right;\">         8.35879</td><td style=\"text-align: right;\">              512</td><td style=\"text-align: right;\">        200</td><td style=\"text-align: right;\">0.191288   </td></tr>\n",
       "<tr><td>TrainLightGCN_ed40e436</td><td>TERMINATED</td><td>147.96.81.131:116949</td><td style=\"text-align: right;\">          10</td><td style=\"text-align: right;\">            2</td><td style=\"text-align: right;\">            364</td><td>2022-07-06T00:00:00</td><td style=\"text-align: right;\">2.08113e-06</td><td style=\"text-align: right;\">         0.0002</td><td>90d          </td><td style=\"text-align: right;\">    40</td><td style=\"text-align: right;\">         9.88469</td><td style=\"text-align: right;\">              925</td><td style=\"text-align: right;\">        200</td><td style=\"text-align: right;\">0.0699084  </td></tr>\n",
       "<tr><td>TrainLightGCN_2bc283ba</td><td>TERMINATED</td><td>147.96.81.131:116790</td><td style=\"text-align: right;\">           8</td><td style=\"text-align: right;\">            2</td><td style=\"text-align: right;\">             96</td><td>2022-07-06T00:00:00</td><td style=\"text-align: right;\">4.92424e-05</td><td style=\"text-align: right;\">         0.0784</td><td>21d          </td><td style=\"text-align: right;\">    40</td><td style=\"text-align: right;\">         9.02681</td><td style=\"text-align: right;\">              256</td><td style=\"text-align: right;\">        200</td><td style=\"text-align: right;\">0.000382687</td></tr>\n",
       "<tr><td>TrainLightGCN_5989b53a</td><td>TERMINATED</td><td>147.96.81.131:116483</td><td style=\"text-align: right;\">           8</td><td style=\"text-align: right;\">            4</td><td style=\"text-align: right;\">            219</td><td>2022-07-06T00:00:00</td><td style=\"text-align: right;\">0.000261231</td><td style=\"text-align: right;\">         0.095 </td><td>60d          </td><td style=\"text-align: right;\">    40</td><td style=\"text-align: right;\">        12.5534 </td><td style=\"text-align: right;\">              256</td><td style=\"text-align: right;\">        200</td><td style=\"text-align: right;\">0.0157668  </td></tr>\n",
       "<tr><td>TrainLightGCN_ef408cbb</td><td>TERMINATED</td><td>147.96.81.131:116638</td><td style=\"text-align: right;\">           9</td><td style=\"text-align: right;\">            2</td><td style=\"text-align: right;\">             26</td><td>2022-07-06T00:00:00</td><td style=\"text-align: right;\">1.42721e-06</td><td style=\"text-align: right;\">         0.6694</td><td>30d          </td><td style=\"text-align: right;\">    40</td><td style=\"text-align: right;\">         8.77755</td><td style=\"text-align: right;\">              512</td><td style=\"text-align: right;\">        200</td><td style=\"text-align: right;\">0.0110188  </td></tr>\n",
       "<tr><td>TrainLightGCN_631cd956</td><td>TERMINATED</td><td>147.96.81.131:116040</td><td style=\"text-align: right;\">           7</td><td style=\"text-align: right;\">            2</td><td style=\"text-align: right;\">             74</td><td>2022-07-06T00:00:00</td><td style=\"text-align: right;\">8.63799e-07</td><td style=\"text-align: right;\">         0.1736</td><td>10YE         </td><td style=\"text-align: right;\">    40</td><td style=\"text-align: right;\">        21.4837 </td><td style=\"text-align: right;\">              128</td><td style=\"text-align: right;\">        200</td><td style=\"text-align: right;\">0.168662   </td></tr>\n",
       "<tr><td>TrainLightGCN_0441de17</td><td>TERMINATED</td><td>147.96.81.131:116339</td><td style=\"text-align: right;\">          10</td><td style=\"text-align: right;\">            1</td><td style=\"text-align: right;\">              1</td><td>2022-07-06T00:00:00</td><td style=\"text-align: right;\">0.000699071</td><td style=\"text-align: right;\">         0.0029</td><td>21d          </td><td style=\"text-align: right;\">    40</td><td style=\"text-align: right;\">         8.78702</td><td style=\"text-align: right;\">              603</td><td style=\"text-align: right;\">        200</td><td style=\"text-align: right;\">0.400455   </td></tr>\n",
       "<tr><td>TrainLightGCN_02f63787</td><td>TERMINATED</td><td>147.96.81.131:116190</td><td style=\"text-align: right;\">          10</td><td style=\"text-align: right;\">            3</td><td style=\"text-align: right;\">            332</td><td>2022-07-06T00:00:00</td><td style=\"text-align: right;\">0.00221159 </td><td style=\"text-align: right;\">         0.4863</td><td>10YE         </td><td style=\"text-align: right;\">    40</td><td style=\"text-align: right;\">        11.2978 </td><td style=\"text-align: right;\">             1024</td><td style=\"text-align: right;\">        200</td><td style=\"text-align: right;\">2.01613    </td></tr>\n",
       "<tr><td>TrainLightGCN_5e8f7c94</td><td>TERMINATED</td><td>147.96.81.131:115890</td><td style=\"text-align: right;\">           6</td><td style=\"text-align: right;\">            2</td><td style=\"text-align: right;\">            217</td><td>2022-07-06T00:00:00</td><td style=\"text-align: right;\">2.53991e-06</td><td style=\"text-align: right;\">         0.4785</td><td>21d          </td><td style=\"text-align: right;\">    40</td><td style=\"text-align: right;\">        13.629  </td><td style=\"text-align: right;\">               64</td><td style=\"text-align: right;\">        200</td><td style=\"text-align: right;\">0.395074   </td></tr>\n",
       "<tr><td>TrainLightGCN_a3e7aa35</td><td>TERMINATED</td><td>147.96.81.131:115740</td><td style=\"text-align: right;\">           7</td><td style=\"text-align: right;\">            2</td><td style=\"text-align: right;\">             34</td><td>2022-07-06T00:00:00</td><td style=\"text-align: right;\">0.0007608  </td><td style=\"text-align: right;\">         0.0091</td><td>60d          </td><td style=\"text-align: right;\">    40</td><td style=\"text-align: right;\">        16.4284 </td><td style=\"text-align: right;\">              128</td><td style=\"text-align: right;\">        200</td><td style=\"text-align: right;\">0.0105632  </td></tr>\n",
       "<tr><td>TrainLightGCN_4ceab056</td><td>TERMINATED</td><td>147.96.81.131:115459</td><td style=\"text-align: right;\">           8</td><td style=\"text-align: right;\">            4</td><td style=\"text-align: right;\">             32</td><td>2022-07-06T00:00:00</td><td style=\"text-align: right;\">1.24202e-06</td><td style=\"text-align: right;\">         0.015 </td><td>10YE         </td><td style=\"text-align: right;\">    40</td><td style=\"text-align: right;\">        14.8915 </td><td style=\"text-align: right;\">              256</td><td style=\"text-align: right;\">        200</td><td style=\"text-align: right;\">0.000453794</td></tr>\n",
       "<tr><td>TrainLightGCN_3153cfee</td><td>TERMINATED</td><td>147.96.81.131:115601</td><td style=\"text-align: right;\">           9</td><td style=\"text-align: right;\">            2</td><td style=\"text-align: right;\">             86</td><td>2022-07-06T00:00:00</td><td style=\"text-align: right;\">0.00134325 </td><td style=\"text-align: right;\">         0.0006</td><td>21d          </td><td style=\"text-align: right;\">    40</td><td style=\"text-align: right;\">         8.3158 </td><td style=\"text-align: right;\">              512</td><td style=\"text-align: right;\">        200</td><td style=\"text-align: right;\">0.0443158  </td></tr>\n",
       "<tr><td>TrainLightGCN_0533208d</td><td>TERMINATED</td><td>147.96.81.131:115318</td><td style=\"text-align: right;\">           9</td><td style=\"text-align: right;\">            3</td><td style=\"text-align: right;\">            665</td><td>2022-07-06T00:00:00</td><td style=\"text-align: right;\">2.74456e-05</td><td style=\"text-align: right;\">         0.0092</td><td>90d          </td><td style=\"text-align: right;\">    40</td><td style=\"text-align: right;\">        10.8676 </td><td style=\"text-align: right;\">              512</td><td style=\"text-align: right;\">        200</td><td style=\"text-align: right;\">0.00121402 </td></tr>\n",
       "<tr><td>TrainLightGCN_a057d6c2</td><td>TERMINATED</td><td>147.96.81.131:115199</td><td style=\"text-align: right;\">          10</td><td style=\"text-align: right;\">            2</td><td style=\"text-align: right;\">            313</td><td>2022-07-06T00:00:00</td><td style=\"text-align: right;\">4.45925e-07</td><td style=\"text-align: right;\">         0.0004</td><td>10YE         </td><td style=\"text-align: right;\">    40</td><td style=\"text-align: right;\">        10.4319 </td><td style=\"text-align: right;\">             1024</td><td style=\"text-align: right;\">        200</td><td style=\"text-align: right;\">0.0243652  </td></tr>\n",
       "</tbody>\n",
       "</table>\n",
       "  </div>\n",
       "</div>\n",
       "<style>\n",
       ".tuneStatus {\n",
       "  color: var(--jp-ui-font-color1);\n",
       "}\n",
       ".tuneStatus .systemInfo {\n",
       "  display: flex;\n",
       "  flex-direction: column;\n",
       "}\n",
       ".tuneStatus td {\n",
       "  white-space: nowrap;\n",
       "}\n",
       ".tuneStatus .trialStatus {\n",
       "  display: flex;\n",
       "  flex-direction: column;\n",
       "}\n",
       ".tuneStatus h3 {\n",
       "  font-weight: bold;\n",
       "}\n",
       ".tuneStatus .hDivider {\n",
       "  border-bottom-width: var(--jp-border-width);\n",
       "  border-bottom-color: var(--jp-border-color0);\n",
       "  border-bottom-style: solid;\n",
       "}\n",
       ".tuneStatus .vDivider {\n",
       "  border-left-width: var(--jp-border-width);\n",
       "  border-left-color: var(--jp-border-color0);\n",
       "  border-left-style: solid;\n",
       "  margin: 0.5em 1em 0.5em 1em;\n",
       "}\n",
       "</style>\n"
      ],
      "text/plain": [
       "<IPython.core.display.HTML object>"
      ]
     },
     "metadata": {},
     "output_type": "display_data"
    },
    {
     "name": "stderr",
     "output_type": "stream",
     "text": [
      "2024-09-06 10:46:31,956\tINFO tune_controller.py:444 -- Restoring the run from the latest experiment state file: experiment_state-2024-09-06_10-38-38.json\n"
     ]
    },
    {
     "name": "stderr",
     "output_type": "stream",
     "text": [
      "2024-09-06 10:46:32,511\tINFO tune.py:1009 -- Wrote the latest version of all result files and experiment state to '/home/daviddavo/ray_results3.11/Lido/LightGCN_W-WED_normalize_map@10_fold=2022-07-06T00:00:00_2024-09-06T10:38:38.222556' in 0.3890s.\n"
     ]
    },
    {
     "name": "stderr",
     "output_type": "stream",
     "text": [
      "2024-09-06 10:46:32,525\tINFO tune.py:1041 -- Total run time: 0.58 seconds (0.00 seconds for the tuning loop).\n"
     ]
    },
    {
     "name": "stdout",
     "output_type": "stream",
     "text": [
      "Finished training for fold 2022-07-06T00:00:00\n"
     ]
    }
   ],
   "source": [
    "import logging\n",
    "import requests\n",
    "\n",
    "def findConfig(rg):\n",
    "    for r in rg:\n",
    "        if r.config:\n",
    "            lbrc = last_best_result.config\n",
    "            if all((r.config[k] == v for k, v in last_best_result.config.items() if k != 'fold')):\n",
    "                return r\n",
    "            elif all((r.config[k] == v for k, v in last_best_result.config.items() if k != 'fold' and k != 'window_size')):\n",
    "                print(\"Possible coincidence:\", r.config, file=sys.stderr)\n",
    "\n",
    "    return None\n",
    "\n",
    "tuners = []\n",
    "results = []\n",
    "last_best_result = None\n",
    "pbar.reset()\n",
    "\n",
    "last_best_fold = None\n",
    "requests.post(\"https://ntfy.sh/grasia_notebooks\", data=f\"Start running microsoft_tuning for {ORG_NAME}\")\n",
    "for i, (prev_f_idx, f_idx) in enumerate(zip(it.chain([None], use_folds_idx), use_folds_idx)):\n",
    "    try:\n",
    "        with out:\n",
    "            best_prev_config = None\n",
    "            if last_best_result is not None:\n",
    "                best_prev_config = last_best_result.config.copy()\n",
    "                assert best_prev_config['fold'] == prev_f_idx\n",
    "                best_prev_config['fold'] = f_idx\n",
    "                print(f\"Also evaluating best_prev_config ({OPTIM_METRIC}={last_best_result.metrics[OPTIM_METRIC]}): {best_prev_config}\")\n",
    "                best_prev_config = [best_prev_config]\n",
    "        \n",
    "        t = getTunerOnFold(f_idx, best_prev_config)\n",
    "        tuners.append(t)\n",
    "    \n",
    "        rg = t.fit()\n",
    "        \n",
    "        # FIXME: load results from disk until ray-project/ray#47358 is solved\n",
    "        # https://github.com/ray-project/ray/issues/47358\n",
    "        t = getTunerOnFold(f_idx, best_prev_config)\n",
    "        tuners[-1] = t\n",
    "        rg = t.fit()\n",
    "    \n",
    "        assert rg.num_errors == 0, f\"There are {rg.num_errors} errors\"\n",
    "        assert rg.num_terminated >= NUM_SAMPLES, f'Some samples are not terminated ({rg.num_terminated} != {NUM_SAMPLES})'\n",
    "        assert len(rg.get_dataframe()) >= NUM_SAMPLES\n",
    "        results.append(rg)\n",
    "    \n",
    "        # Assert that the prev config has been tried\n",
    "        if last_best_result is not None:\n",
    "            # if not any( \n",
    "            #     all((r.config[k] == v for k, v in last_best_result.config.items() if k != 'fold'))\n",
    "            #     for r in rg if r.config\n",
    "            # ):\n",
    "            if not findConfig(rg):\n",
    "                print(\"Best config:\", last_best_result.config)\n",
    "                assert False, f\"The best config from previous fold has not been tested in fold {f_idx}\"    \n",
    "            else:\n",
    "                logging.info(f'Fold {f_idx}. Best prev result was {last_best_result.path} and config has been found {findConfig(rg).path}')\n",
    "        \n",
    "        last_best_result = rg.get_best_result()\n",
    "        pbar.update()\n",
    "    \n",
    "        print(f\"Finished training for fold {f_idx}\")\n",
    "        requests.post(\"https://ntfy.sh/grasia_notebooks\", data=f\"Finished running fold {i} for {ORG_NAME}\")\n",
    "    except Exception as e:\n",
    "        requests.post(\"https://ntfy.sh/grasia_notebooks\", data=f\"Error on fold {i} for {ORG_NAME}: {repr(e)}\")\n",
    "        raise\n",
    "\n",
    "pbar.close()"
   ]
  },
  {
   "cell_type": "code",
   "execution_count": 24,
   "id": "73e2c29d",
   "metadata": {
    "editable": true,
    "execution": {
     "iopub.execute_input": "2024-09-06T10:46:33.923229Z",
     "iopub.status.busy": "2024-09-06T10:46:33.923137Z",
     "iopub.status.idle": "2024-09-06T10:46:34.273217Z",
     "shell.execute_reply": "2024-09-06T10:46:34.271532Z"
    },
    "papermill": {
     "duration": 0.359524,
     "end_time": "2024-09-06T10:46:34.276898",
     "exception": false,
     "start_time": "2024-09-06T10:46:33.917374",
     "status": "completed"
    },
    "slideshow": {
     "slide_type": ""
    },
    "tags": []
   },
   "outputs": [
    {
     "name": "stdout",
     "output_type": "stream",
     "text": [
      "Finished!\n"
     ]
    }
   ],
   "source": [
    "requests.post(\"https://ntfy.sh/grasia_notebooks\", data=f\"Finished running everything for {ORG_NAME}\")\n",
    "print(\"Finished!\")"
   ]
  }
 ],
 "metadata": {
  "kernelspec": {
   "display_name": "Python 3 (ipykernel)",
   "language": "python",
   "name": "python3"
  },
  "language_info": {
   "codemirror_mode": {
    "name": "ipython",
    "version": 3
   },
   "file_extension": ".py",
   "mimetype": "text/x-python",
   "name": "python",
   "nbconvert_exporter": "python",
   "pygments_lexer": "ipython3",
   "version": "3.11.6"
  },
  "papermill": {
   "default_parameters": {},
   "duration": 3748.297678,
   "end_time": "2024-09-06T10:46:39.413743",
   "environment_variables": {},
   "exception": null,
   "input_path": "20_microsoft_tuning.ipynb",
   "output_path": "../nbout/Lido/20_microsoft_tuning.ipynb",
   "parameters": {
    "EXECUTION_ID": "2024-09-04T10:00",
    "LAST_FOLDS": 10,
    "LAST_FOLD_DATE_STR": "2022-07-06",
    "ORG_NAME": "Lido",
    "SPLITS_FREQ": "W-WED",
    "SPLITS_NORMALIZE": true
   },
   "start_time": "2024-09-06T09:44:11.116065",
   "version": "2.6.0"
  },
  "widgets": {
   "application/vnd.jupyter.widget-state+json": {
    "state": {
     "339741fa502941b79f11a0d1d208ba63": {
      "model_module": "@jupyter-widgets/controls",
      "model_module_version": "2.0.0",
      "model_name": "HTMLModel",
      "state": {
       "_dom_classes": [],
       "_model_module": "@jupyter-widgets/controls",
       "_model_module_version": "2.0.0",
       "_model_name": "HTMLModel",
       "_view_count": null,
       "_view_module": "@jupyter-widgets/controls",
       "_view_module_version": "2.0.0",
       "_view_name": "HTMLView",
       "description": "",
       "description_allow_html": false,
       "layout": "IPY_MODEL_d488ec696e5646a2ab27b47ed5c9abf8",
       "placeholder": "​",
       "style": "IPY_MODEL_bf3556ffa73e4baa869eaeaf44f636e4",
       "tabbable": null,
       "tooltip": null,
       "value": "fold: 100%"
      }
     },
     "3ef7b6df218242a9867f1be250005973": {
      "model_module": "@jupyter-widgets/output",
      "model_module_version": "1.0.0",
      "model_name": "OutputModel",
      "state": {
       "_dom_classes": [],
       "_model_module": "@jupyter-widgets/output",
       "_model_module_version": "1.0.0",
       "_model_name": "OutputModel",
       "_view_count": null,
       "_view_module": "@jupyter-widgets/output",
       "_view_module_version": "1.0.0",
       "_view_name": "OutputView",
       "layout": "IPY_MODEL_50322c56db91480b8895913dbf000827",
       "msg_id": "",
       "outputs": [
        {
         "name": "stdout",
         "output_type": "stream",
         "text": "In this cell important output from the next cell will be shown\nAlso evaluating best_prev_config (map@10=1.0): {'batch_size': 6, 'embedding_dim': 694, 'conv_layers': 1, 'learning_rate': 0.4148, 'l2': 2.4794956673794186e-05, 'window_size': '30d', 'fold': '2022-05-11T00:00:00'}\nAlso evaluating best_prev_config (map@10=0.8059108527131783): {'batch_size': 10, 'embedding_dim': 1, 'conv_layers': 1, 'learning_rate': 0.001, 'l2': 0.0002067661362932899, 'window_size': '21d', 'fold': '2022-05-18T00:00:00'}\nAlso evaluating best_prev_config (map@10=1.0): {'batch_size': 7, 'embedding_dim': 77, 'conv_layers': 1, 'learning_rate': 0.0234, 'l2': 9.793546375283976e-06, 'window_size': '90d', 'fold': '2022-05-25T00:00:00'}\nAlso evaluating best_prev_config (map@10=0.9097560975609756): {'batch_size': 6, 'embedding_dim': 39, 'conv_layers': 3, 'learning_rate': 0.2341, 'l2': 0.0019458808162100595, 'window_size': '10YE', 'fold': '2022-06-01T00:00:00'}\nAlso evaluating best_prev_config (map@10=0.9587378640776699): {'batch_size': 10, 'embedding_dim': 13, 'conv_layers': 4, 'learning_rate': 0.001, 'l2': 2.5236554419985345e-05, 'window_size': '10YE', 'fold': '2022-06-08T00:00:00'}\nAlso evaluating best_prev_config (map@10=0.8816503800217154): {'batch_size': 10, 'embedding_dim': 962, 'conv_layers': 3, 'learning_rate': 0.049300000000000004, 'l2': 2.1579431828663343e-07, 'window_size': '90d', 'fold': '2022-06-15T00:00:00'}\nAlso evaluating best_prev_config (map@10=0.9464944649446494): {'batch_size': 8, 'embedding_dim': 1, 'conv_layers': 2, 'learning_rate': 0.013900000000000001, 'l2': 6.506700804994234e-06, 'window_size': '10YE', 'fold': '2022-06-22T00:00:00'}\nAlso evaluating best_prev_config (map@10=0.887396694214876): {'batch_size': 8, 'embedding_dim': 277, 'conv_layers': 4, 'learning_rate': 0.0944, 'l2': 6.389779596898608e-07, 'window_size': '60d', 'fold': '2022-06-29T00:00:00'}\nAlso evaluating best_prev_config (map@10=0.9182027649769585): {'batch_size': 10, 'embedding_dim': 313, 'conv_layers': 2, 'learning_rate': 0.0004, 'l2': 4.45925320981388e-07, 'window_size': '10YE', 'fold': '2022-07-06T00:00:00'}\n"
        }
       ],
       "tabbable": null,
       "tooltip": null
      }
     },
     "4d86d74c19c54ac285ffa297f0eaec84": {
      "model_module": "@jupyter-widgets/controls",
      "model_module_version": "2.0.0",
      "model_name": "HBoxModel",
      "state": {
       "_dom_classes": [],
       "_model_module": "@jupyter-widgets/controls",
       "_model_module_version": "2.0.0",
       "_model_name": "HBoxModel",
       "_view_count": null,
       "_view_module": "@jupyter-widgets/controls",
       "_view_module_version": "2.0.0",
       "_view_name": "HBoxView",
       "box_style": "",
       "children": [
        "IPY_MODEL_339741fa502941b79f11a0d1d208ba63",
        "IPY_MODEL_d4ae697e5ee3408a889f7a946a2353e5",
        "IPY_MODEL_b48e4d9694eb4ee4afc5b46d2899bb65"
       ],
       "layout": "IPY_MODEL_66aa91dc748a4060ade73e2771e84491",
       "tabbable": null,
       "tooltip": null
      }
     },
     "50322c56db91480b8895913dbf000827": {
      "model_module": "@jupyter-widgets/base",
      "model_module_version": "2.0.0",
      "model_name": "LayoutModel",
      "state": {
       "_model_module": "@jupyter-widgets/base",
       "_model_module_version": "2.0.0",
       "_model_name": "LayoutModel",
       "_view_count": null,
       "_view_module": "@jupyter-widgets/base",
       "_view_module_version": "2.0.0",
       "_view_name": "LayoutView",
       "align_content": null,
       "align_items": null,
       "align_self": null,
       "border_bottom": "1px solid black",
       "border_left": "1px solid black",
       "border_right": "1px solid black",
       "border_top": "1px solid black",
       "bottom": null,
       "display": null,
       "flex": null,
       "flex_flow": null,
       "grid_area": null,
       "grid_auto_columns": null,
       "grid_auto_flow": null,
       "grid_auto_rows": null,
       "grid_column": null,
       "grid_gap": null,
       "grid_row": null,
       "grid_template_areas": null,
       "grid_template_columns": null,
       "grid_template_rows": null,
       "height": null,
       "justify_content": null,
       "justify_items": null,
       "left": null,
       "margin": null,
       "max_height": null,
       "max_width": null,
       "min_height": null,
       "min_width": null,
       "object_fit": null,
       "object_position": null,
       "order": null,
       "overflow": null,
       "padding": null,
       "right": null,
       "top": null,
       "visibility": null,
       "width": null
      }
     },
     "5266a4432b8d4018b68305dfc46c2b65": {
      "model_module": "@jupyter-widgets/base",
      "model_module_version": "2.0.0",
      "model_name": "LayoutModel",
      "state": {
       "_model_module": "@jupyter-widgets/base",
       "_model_module_version": "2.0.0",
       "_model_name": "LayoutModel",
       "_view_count": null,
       "_view_module": "@jupyter-widgets/base",
       "_view_module_version": "2.0.0",
       "_view_name": "LayoutView",
       "align_content": null,
       "align_items": null,
       "align_self": null,
       "border_bottom": null,
       "border_left": null,
       "border_right": null,
       "border_top": null,
       "bottom": null,
       "display": null,
       "flex": null,
       "flex_flow": null,
       "grid_area": null,
       "grid_auto_columns": null,
       "grid_auto_flow": null,
       "grid_auto_rows": null,
       "grid_column": null,
       "grid_gap": null,
       "grid_row": null,
       "grid_template_areas": null,
       "grid_template_columns": null,
       "grid_template_rows": null,
       "height": null,
       "justify_content": null,
       "justify_items": null,
       "left": null,
       "margin": null,
       "max_height": null,
       "max_width": null,
       "min_height": null,
       "min_width": null,
       "object_fit": null,
       "object_position": null,
       "order": null,
       "overflow": null,
       "padding": null,
       "right": null,
       "top": null,
       "visibility": null,
       "width": null
      }
     },
     "66aa91dc748a4060ade73e2771e84491": {
      "model_module": "@jupyter-widgets/base",
      "model_module_version": "2.0.0",
      "model_name": "LayoutModel",
      "state": {
       "_model_module": "@jupyter-widgets/base",
       "_model_module_version": "2.0.0",
       "_model_name": "LayoutModel",
       "_view_count": null,
       "_view_module": "@jupyter-widgets/base",
       "_view_module_version": "2.0.0",
       "_view_name": "LayoutView",
       "align_content": null,
       "align_items": null,
       "align_self": null,
       "border_bottom": null,
       "border_left": null,
       "border_right": null,
       "border_top": null,
       "bottom": null,
       "display": null,
       "flex": null,
       "flex_flow": null,
       "grid_area": null,
       "grid_auto_columns": null,
       "grid_auto_flow": null,
       "grid_auto_rows": null,
       "grid_column": null,
       "grid_gap": null,
       "grid_row": null,
       "grid_template_areas": null,
       "grid_template_columns": null,
       "grid_template_rows": null,
       "height": null,
       "justify_content": null,
       "justify_items": null,
       "left": null,
       "margin": null,
       "max_height": null,
       "max_width": null,
       "min_height": null,
       "min_width": null,
       "object_fit": null,
       "object_position": null,
       "order": null,
       "overflow": null,
       "padding": null,
       "right": null,
       "top": null,
       "visibility": null,
       "width": null
      }
     },
     "9d17cd2f305f410da99acab1569cb67c": {
      "model_module": "@jupyter-widgets/base",
      "model_module_version": "2.0.0",
      "model_name": "LayoutModel",
      "state": {
       "_model_module": "@jupyter-widgets/base",
       "_model_module_version": "2.0.0",
       "_model_name": "LayoutModel",
       "_view_count": null,
       "_view_module": "@jupyter-widgets/base",
       "_view_module_version": "2.0.0",
       "_view_name": "LayoutView",
       "align_content": null,
       "align_items": null,
       "align_self": null,
       "border_bottom": null,
       "border_left": null,
       "border_right": null,
       "border_top": null,
       "bottom": null,
       "display": null,
       "flex": null,
       "flex_flow": null,
       "grid_area": null,
       "grid_auto_columns": null,
       "grid_auto_flow": null,
       "grid_auto_rows": null,
       "grid_column": null,
       "grid_gap": null,
       "grid_row": null,
       "grid_template_areas": null,
       "grid_template_columns": null,
       "grid_template_rows": null,
       "height": null,
       "justify_content": null,
       "justify_items": null,
       "left": null,
       "margin": null,
       "max_height": null,
       "max_width": null,
       "min_height": null,
       "min_width": null,
       "object_fit": null,
       "object_position": null,
       "order": null,
       "overflow": null,
       "padding": null,
       "right": null,
       "top": null,
       "visibility": null,
       "width": null
      }
     },
     "b437a7a91fa74d7795988454465e0a08": {
      "model_module": "@jupyter-widgets/controls",
      "model_module_version": "2.0.0",
      "model_name": "ProgressStyleModel",
      "state": {
       "_model_module": "@jupyter-widgets/controls",
       "_model_module_version": "2.0.0",
       "_model_name": "ProgressStyleModel",
       "_view_count": null,
       "_view_module": "@jupyter-widgets/base",
       "_view_module_version": "2.0.0",
       "_view_name": "StyleView",
       "bar_color": null,
       "description_width": ""
      }
     },
     "b48e4d9694eb4ee4afc5b46d2899bb65": {
      "model_module": "@jupyter-widgets/controls",
      "model_module_version": "2.0.0",
      "model_name": "HTMLModel",
      "state": {
       "_dom_classes": [],
       "_model_module": "@jupyter-widgets/controls",
       "_model_module_version": "2.0.0",
       "_model_name": "HTMLModel",
       "_view_count": null,
       "_view_module": "@jupyter-widgets/controls",
       "_view_module_version": "2.0.0",
       "_view_name": "HTMLView",
       "description": "",
       "description_allow_html": false,
       "layout": "IPY_MODEL_5266a4432b8d4018b68305dfc46c2b65",
       "placeholder": "​",
       "style": "IPY_MODEL_b7ce1b6196b347d6b875533f2429bf60",
       "tabbable": null,
       "tooltip": null,
       "value": " 10/10 [1:02:18&lt;00:00, 400.73s/it]"
      }
     },
     "b7ce1b6196b347d6b875533f2429bf60": {
      "model_module": "@jupyter-widgets/controls",
      "model_module_version": "2.0.0",
      "model_name": "HTMLStyleModel",
      "state": {
       "_model_module": "@jupyter-widgets/controls",
       "_model_module_version": "2.0.0",
       "_model_name": "HTMLStyleModel",
       "_view_count": null,
       "_view_module": "@jupyter-widgets/base",
       "_view_module_version": "2.0.0",
       "_view_name": "StyleView",
       "background": null,
       "description_width": "",
       "font_size": null,
       "text_color": null
      }
     },
     "bf3556ffa73e4baa869eaeaf44f636e4": {
      "model_module": "@jupyter-widgets/controls",
      "model_module_version": "2.0.0",
      "model_name": "HTMLStyleModel",
      "state": {
       "_model_module": "@jupyter-widgets/controls",
       "_model_module_version": "2.0.0",
       "_model_name": "HTMLStyleModel",
       "_view_count": null,
       "_view_module": "@jupyter-widgets/base",
       "_view_module_version": "2.0.0",
       "_view_name": "StyleView",
       "background": null,
       "description_width": "",
       "font_size": null,
       "text_color": null
      }
     },
     "d488ec696e5646a2ab27b47ed5c9abf8": {
      "model_module": "@jupyter-widgets/base",
      "model_module_version": "2.0.0",
      "model_name": "LayoutModel",
      "state": {
       "_model_module": "@jupyter-widgets/base",
       "_model_module_version": "2.0.0",
       "_model_name": "LayoutModel",
       "_view_count": null,
       "_view_module": "@jupyter-widgets/base",
       "_view_module_version": "2.0.0",
       "_view_name": "LayoutView",
       "align_content": null,
       "align_items": null,
       "align_self": null,
       "border_bottom": null,
       "border_left": null,
       "border_right": null,
       "border_top": null,
       "bottom": null,
       "display": null,
       "flex": null,
       "flex_flow": null,
       "grid_area": null,
       "grid_auto_columns": null,
       "grid_auto_flow": null,
       "grid_auto_rows": null,
       "grid_column": null,
       "grid_gap": null,
       "grid_row": null,
       "grid_template_areas": null,
       "grid_template_columns": null,
       "grid_template_rows": null,
       "height": null,
       "justify_content": null,
       "justify_items": null,
       "left": null,
       "margin": null,
       "max_height": null,
       "max_width": null,
       "min_height": null,
       "min_width": null,
       "object_fit": null,
       "object_position": null,
       "order": null,
       "overflow": null,
       "padding": null,
       "right": null,
       "top": null,
       "visibility": null,
       "width": null
      }
     },
     "d4ae697e5ee3408a889f7a946a2353e5": {
      "model_module": "@jupyter-widgets/controls",
      "model_module_version": "2.0.0",
      "model_name": "FloatProgressModel",
      "state": {
       "_dom_classes": [],
       "_model_module": "@jupyter-widgets/controls",
       "_model_module_version": "2.0.0",
       "_model_name": "FloatProgressModel",
       "_view_count": null,
       "_view_module": "@jupyter-widgets/controls",
       "_view_module_version": "2.0.0",
       "_view_name": "ProgressView",
       "bar_style": "success",
       "description": "",
       "description_allow_html": false,
       "layout": "IPY_MODEL_9d17cd2f305f410da99acab1569cb67c",
       "max": 10.0,
       "min": 0.0,
       "orientation": "horizontal",
       "style": "IPY_MODEL_b437a7a91fa74d7795988454465e0a08",
       "tabbable": null,
       "tooltip": null,
       "value": 10.0
      }
     }
    },
    "version_major": 2,
    "version_minor": 0
   }
  }
 },
 "nbformat": 4,
 "nbformat_minor": 5
}