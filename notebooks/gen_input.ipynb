{
 "cells": [
  {
   "cell_type": "markdown",
   "id": "ae6e4551-13da-436f-b745-dc9e99e12d8f",
   "metadata": {},
   "source": [
    "This notebook generates the CSV file for a given DAO, from the DAO Census dataset"
   ]
  },
  {
   "cell_type": "code",
   "execution_count": null,
   "id": "521b5bfe-c2c0-44c5-bbe8-8d410f7e9d2c",
   "metadata": {},
   "outputs": [],
   "source": [
    "from typing import Optional\n",
    "from pathlib import Path\n",
    "import datetime as dt\n",
    "\n",
    "import numpy as np\n",
    "import pandas as pd"
   ]
  },
  {
   "cell_type": "markdown",
   "id": "bc091e03-343d-446c-aaba-a7ba2a24567e",
   "metadata": {},
   "source": [
    "## Hparams (DAO name)"
   ]
  },
  {
   "cell_type": "code",
   "execution_count": null,
   "id": "d2df86f8-4e6f-4750-bd2c-dc893d6ea8a9",
   "metadata": {},
   "outputs": [],
   "source": [
    "ORG_NAME: str = 'Decentraland'\n",
    "FILTER_PLATFORMS: str = 'snapshot'\n",
    "KAGGLE_DATASET: str = 'daviddavo/daos-census-tfm'\n",
    "EXPORT_PATH: Path = Path('../data/input') / ORG_NAME\n",
    "AUX_PATH: Path = Path('~/Downloads/daos-census-tfm').expanduser()\n",
    "CUTOFF_DATE_STR: Optional[str] = None\n",
    "\n",
    "# This dictionary \"merges\" organizations\n",
    "ORGS_DICT: dict[str, list[str]] = {\n",
    "    'dxDAO - xDXdao': ['dxDAO', 'xDXdao'],\n",
    "    'Aave - Aavegotchi': ['Aave', 'Aavegotchi', 'AAVE'],\n",
    "    'MetaCartel - MetaCartel Ventures': ['MetaCartel Ventures', 'MetaCartel xDai', 'MetaCartel DAO'],\n",
    "}"
   ]
  },
  {
   "cell_type": "code",
   "execution_count": null,
   "id": "5acd7323-bc00-4960-b269-bd5a6e4e0089",
   "metadata": {},
   "outputs": [],
   "source": [
    "CUTOFF_DATE = dt.datetime.fromisoformat(CUTOFF_DATE_STR) if CUTOFF_DATE_STR else None"
   ]
  },
  {
   "cell_type": "markdown",
   "id": "e368db95-bf35-4f11-8e57-0fd91e0d8884",
   "metadata": {},
   "source": [
    "## Downloading the dataset if it does not exist"
   ]
  },
  {
   "cell_type": "code",
   "execution_count": null,
   "id": "77ffd7ab-c96c-40ca-809c-401d68fc5ee8",
   "metadata": {},
   "outputs": [],
   "source": [
    "import kaggle"
   ]
  },
  {
   "cell_type": "code",
   "execution_count": null,
   "id": "cebf3776-8911-49c2-a1be-a921ff5e16d9",
   "metadata": {},
   "outputs": [],
   "source": [
    "if not AUX_PATH.exists():\n",
    "    kaggle.api.dataset_download_cli(KAGGLE_DATASET, path=AUX_PATH, unzip=True)"
   ]
  },
  {
   "cell_type": "markdown",
   "id": "86001b37-aa4a-4a66-b2e1-92ad26a9e2d3",
   "metadata": {},
   "source": [
    "## Processing the dataset"
   ]
  },
  {
   "cell_type": "code",
   "execution_count": null,
   "id": "bee86da2-faad-4052-be21-885be33b94fd",
   "metadata": {},
   "outputs": [],
   "source": [
    "import duckdb"
   ]
  },
  {
   "cell_type": "code",
   "execution_count": null,
   "id": "9fa7e74d-9242-4a48-ae20-a121af7502d1",
   "metadata": {},
   "outputs": [],
   "source": [
    "def _list2sql(lst: list[str]) -> str:\n",
    "    return \"\".join([\"(\", \", \".join(map(\"'{}'\".format, lst)), \")\"])\n",
    "\n",
    "def _gen_orgs_query(parquet: Path) -> str:\n",
    "    _casestr = \"    WHEN name IN {caselst} THEN '{orgname}'\"\n",
    "\n",
    "    _cases = \"\\n\".join(_casestr.format(\n",
    "        orgname=orgname,\n",
    "        caselst=_list2sql(caselst),\n",
    "    ) for orgname, caselst in ORGS_DICT.items())\n",
    "    \n",
    "    return f\"\"\"\n",
    "CREATE VIEW deployments AS\n",
    "SELECT * EXCLUDE (name),\n",
    "    name AS deployment_name,\n",
    "    CASE \n",
    "{_cases}\n",
    "    ELSE name\n",
    "    END AS name\n",
    "FROM parquet_scan('{parquet}')\n",
    "    \"\"\""
   ]
  },
  {
   "cell_type": "markdown",
   "id": "ae767ccd-3523-401a-bf98-15dc136e80a8",
   "metadata": {},
   "source": [
    "### Import from parquets"
   ]
  },
  {
   "cell_type": "code",
   "execution_count": null,
   "id": "88aa44c4-ff34-4cc7-a98c-ddfb756db56d",
   "metadata": {},
   "outputs": [],
   "source": [
    "db = duckdb.connect(database=':memory:', read_only=False)\n",
    "db.execute(_gen_orgs_query(AUX_PATH / 'deployments.parquet'))\n",
    "_cond_date = \"\"\n",
    "if CUTOFF_DATE:\n",
    "    _cond_date = f\"WHERE date <= '{CUTOFF_DATE.isoformat()}'\"\n",
    "\n",
    "db.execute(\"CREATE VIEW votes AS SELECT * FROM parquet_scan('{}') {}\".format(AUX_PATH / \"votes.parquet\", _cond_date))\n",
    "db.execute(\"CREATE VIEW proposals AS SELECT * FROM parquet_scan('{}') {}\".format(AUX_PATH / \"proposals-text.parquet\", _cond_date))"
   ]
  },
  {
   "cell_type": "markdown",
   "id": "a5154fa3-231e-47e9-8acc-26b5d5e1c125",
   "metadata": {},
   "source": [
    "### Get votes table"
   ]
  },
  {
   "cell_type": "code",
   "execution_count": null,
   "id": "5917a21b-b227-4c7d-a7c5-c4657c571431",
   "metadata": {},
   "outputs": [],
   "source": [
    "cond_dfv = [f\"name='{ORG_NAME}'\"]\n",
    "\n",
    "if FILTER_PLATFORMS:\n",
    "    filter_platforms = FILTER_PLATFORMS\n",
    "    if isinstance(FILTER_PLATFORMS, str):\n",
    "        filter_platforms = [FILTER_PLATFORMS]\n",
    "\n",
    "    cond_dfv.append(f\"platform IN {_list2sql(filter_platforms)}\")\n",
    "\n",
    "dfv = db.execute(q := f\"\"\"\n",
    "SELECT platform, name, votes.*\n",
    "FROM deployments\n",
    "RIGHT JOIN votes ON (deployments.id = votes.deployment_id)\n",
    "WHERE {\" AND \".join(cond_dfv)}\n",
    "\"\"\").fetchdf().rename(columns=lambda x: x.replace('_id', ''))\n",
    "dfv['voter'] = dfv['voter'].str.lower()\n",
    "dfv"
   ]
  },
  {
   "cell_type": "markdown",
   "id": "182134e2-7f7f-49ff-82e7-0c8d554cf420",
   "metadata": {},
   "source": [
    "#### Clean and save votes table\n",
    "\n",
    "We will only leave the following columns:\n",
    "- id\n",
    "- proposal\n",
    "- voter\n",
    "- date"
   ]
  },
  {
   "cell_type": "code",
   "execution_count": null,
   "id": "203f747b-0883-4830-9a34-9c65786472f6",
   "metadata": {},
   "outputs": [],
   "source": [
    "EXPORT_PATH.mkdir(exist_ok=True, parents=True)\n",
    "dfv_cols = ['id', 'proposal', 'voter', 'date']\n",
    "votes_file = EXPORT_PATH / 'votes.pq'\n",
    "assert not votes_file.exists(), \"Cant overwrite files\"\n",
    "dfv[dfv_cols].sort_values('date').to_parquet(votes_file, index=False)"
   ]
  },
  {
   "cell_type": "markdown",
   "id": "9be0a7f7-8ddf-4d41-9c07-c6e0ed5bdc6d",
   "metadata": {},
   "source": [
    "### Get proposals table"
   ]
  },
  {
   "cell_type": "code",
   "execution_count": null,
   "id": "b959b974-cbd7-4450-8876-4d272632880c",
   "metadata": {},
   "outputs": [],
   "source": [
    "dfp = db.execute(q := f\"\"\"\n",
    "SELECT platform, name, platform_deployment_id, proposals.* EXCLUDE (votes_count), count(votes.id) AS votes_count\n",
    "FROM deployments\n",
    "RIGHT JOIN proposals ON (deployments.id = proposals.deployment_id)\n",
    "LEFT JOIN votes ON (proposals.id = votes.proposal_id)\n",
    "WHERE {\" AND \".join(cond_dfv)}\n",
    "GROUP BY proposals.*\n",
    "-- HAVING count(votes.id) >= {0}\n",
    "\"\"\").fetchdf().rename(columns=lambda x: x.replace('_id', ''))\n",
    "dfp['author'] = dfp['author'].str.lower()\n",
    "dfp"
   ]
  },
  {
   "cell_type": "markdown",
   "id": "fa3837d9-8a21-4b1d-a4cc-2fe503b60c36",
   "metadata": {},
   "source": [
    "#### Clean and save proposals table\n",
    "\n",
    "We will only leave the following columns:\n",
    "- id\n",
    "- proposal\n",
    "- voter\n",
    "- date"
   ]
  },
  {
   "cell_type": "code",
   "execution_count": null,
   "id": "ae4b2a4a-4aa5-4c05-8956-9768050b88ec",
   "metadata": {},
   "outputs": [],
   "source": [
    "dfp_cols = ['id', 'author', 'date', 'start', 'end', 'platform_proposal', 'title', 'description']\n",
    "proposals_file = EXPORT_PATH / 'proposals.pq'\n",
    "assert not proposals_file.exists(), \"Cant overwrite files\"\n",
    "dfp[dfp_cols].sort_values('date').to_parquet(proposals_file, index=False)"
   ]
  },
  {
   "cell_type": "code",
   "execution_count": null,
   "id": "ea01db24-e4b0-4eb6-b8e5-a43683d4bdcd",
   "metadata": {},
   "outputs": [],
   "source": []
  }
 ],
 "metadata": {
  "kernelspec": {
   "display_name": "Python 3 (ipykernel)",
   "language": "python",
   "name": "python3"
  },
  "language_info": {
   "codemirror_mode": {
    "name": "ipython",
    "version": 3
   },
   "file_extension": ".py",
   "mimetype": "text/x-python",
   "name": "python",
   "nbconvert_exporter": "python",
   "pygments_lexer": "ipython3",
   "version": "3.11.6"
  },
  "widgets": {
   "application/vnd.jupyter.widget-state+json": {
    "state": {},
    "version_major": 2,
    "version_minor": 0
   }
  }
 },
 "nbformat": 4,
 "nbformat_minor": 5
}
