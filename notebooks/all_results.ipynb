{
 "cells": [
  {
   "cell_type": "code",
   "execution_count": null,
   "id": "6dca65e5-c8da-4420-8079-0c8cd0345d1b",
   "metadata": {},
   "outputs": [],
   "source": [
    "from pathlib import Path\n",
    "\n",
    "from dataclasses import asdict\n",
    "import pandas as pd\n",
    "import numpy as np\n",
    "\n",
    "from tqdm.autonotebook import tqdm\n",
    "import plotly.express as px\n",
    "\n",
    "import matplotlib.pyplot as plt\n",
    "import seaborn as sns\n",
    "sns.set_theme()\n",
    "\n",
    "from recsys4daos.utils.notebooks import DaoToRun, isCompleted\n",
    "\n",
    "import paths"
   ]
  },
  {
   "cell_type": "code",
   "execution_count": null,
   "id": "75d32f32-45a0-4893-9a2a-51e6981b54e8",
   "metadata": {},
   "outputs": [],
   "source": [
    "OUTPUT_PATH: str = '../nbout/'\n",
    "TARGET_METRIC: str = 'map@10'\n",
    "RESULTS_SUFFIX: str = 'best-test'\n",
    "MODELS_ORDER = ['openpop', 'userknn', 'itemknn', 'plnsim', 'lightgcn']\n",
    "MODELS_NICE_NAME = {\n",
    "    'openpop': 'OpenPop',\n",
    "    'userknn': 'UserKNN',\n",
    "    'itemknn': 'ItemKNN',\n",
    "    'plnsim': 'PLNsim',\n",
    "    'lightgcn': 'LightGCN',\n",
    "}"
   ]
  },
  {
   "cell_type": "code",
   "execution_count": null,
   "id": "dd4948f8-39f5-458a-b4b2-4a1ab39fcc3f",
   "metadata": {},
   "outputs": [],
   "source": [
    "ALL_DAOS = paths.load_daos_to_run()\n",
    "DAOS_INFO = pd.DataFrame.from_dict(paths.load_daos_data(), orient='index')\n",
    "DAOS_DF = pd.DataFrame(asdict(d) for d in ALL_DAOS).join(DAOS_INFO, on='org_name', validate='1:1')\n",
    "print(DAOS_DF.columns)\n",
    "DAOS_DF"
   ]
  },
  {
   "cell_type": "code",
   "execution_count": null,
   "id": "cf810d0f-6c61-4e29-8c08-0e8805d1b4fa",
   "metadata": {},
   "outputs": [],
   "source": [
    "def index_to_hparams(df: pd.DataFrame):\n",
    "    assert df.index.names[0] == 'fold'\n",
    "    hparams = df.index.names[1:]\n",
    "    df = df.reset_index()\n",
    "    df['hparams'] = df[hparams].apply(lambda x: x.to_dict(), axis=1)\n",
    "    df = df.drop(columns=hparams)\n",
    "    return df\n",
    "\n",
    "def is_nb_ok(d: DaoToRun, nbname: str) -> bool:\n",
    "    notebook = Path(OUTPUT_PATH) / d.org_name / nbname\n",
    "    if not notebook.is_file():\n",
    "        return False\n",
    "    return isCompleted(notebook)"
   ]
  },
  {
   "cell_type": "markdown",
   "id": "41cfd96c-dbd2-4abb-88b5-a91cf1e2cb2a",
   "metadata": {},
   "source": [
    "## Loading baseline"
   ]
  },
  {
   "cell_type": "code",
   "execution_count": null,
   "id": "70437dda-66f7-4682-a1d1-4f376761b986",
   "metadata": {},
   "outputs": [],
   "source": [
    "baseline_daos = [ d for d in ALL_DAOS if is_nb_ok(d, '10_baseline.ipynb') ]\n",
    "baseline_daos"
   ]
  },
  {
   "cell_type": "code",
   "execution_count": null,
   "id": "1262be8f-0ce2-40da-926c-a75d13dc81f6",
   "metadata": {
    "editable": true,
    "slideshow": {
     "slide_type": ""
    },
    "tags": [
     "injected-parameters"
    ]
   },
   "outputs": [],
   "source": [
    "def _load_openpop_results(d: DaoToRun):\n",
    "    df = paths.load_openpop(d.org_name, d.splits_freq, d.splits_normalize).sort_index()\n",
    "    if d.last_fold_date:\n",
    "        df = df[df.index <= d.last_fold_date]\n",
    "    df = df.tail(d.last_folds - 1).copy()\n",
    "\n",
    "    return df\n",
    "    # dfi = paths.load_folds_info(d.org_name, d.splits_freq, d.splits_normalize).sort_index()\n",
    "    # return df.join(dfi, how='left', validate='1:1')\n",
    "\n",
    "openpop_baselines = pd.concat([\n",
    "  _load_openpop_results(d).assign(**asdict(d))\n",
    "    for d \n",
    "    in sorted(baseline_daos, key=lambda x: x.org_name.lower())\n",
    "])\n",
    "openpop_baselines"
   ]
  },
  {
   "cell_type": "code",
   "execution_count": null,
   "id": "b7f7f521-7953-4041-ae75-67e883d75aa9",
   "metadata": {},
   "outputs": [],
   "source": [
    "openpop_baselines.groupby('org_name').describe()"
   ]
  },
  {
   "cell_type": "markdown",
   "id": "9dfd1e47-20cd-40f6-85ab-95f29538a7f9",
   "metadata": {
    "editable": true,
    "slideshow": {
     "slide_type": ""
    },
    "tags": [
     "injected-parameters"
    ]
   },
   "source": [
    "## ItemKNN results"
   ]
  },
  {
   "cell_type": "code",
   "execution_count": null,
   "id": "b32853f7-5f1e-453c-afd3-ac8c13365b03",
   "metadata": {},
   "outputs": [],
   "source": [
    "cfknn_daos = [ d for d in ALL_DAOS if is_nb_ok(d, '11_CF_KNN.ipynb') ]\n",
    "cfknn_daos"
   ]
  },
  {
   "cell_type": "code",
   "execution_count": null,
   "id": "468a97d5-63e6-42fd-ac42-693265e65876",
   "metadata": {},
   "outputs": [],
   "source": [
    "itemknn_results = pd.concat([\n",
    "  paths.get_model_results(f'itemknn-{RESULTS_SUFFIX}', d.org_name, d.splits_freq, d.splits_normalize).assign(**asdict(d))\n",
    "    for d \n",
    "    in sorted(cfknn_daos, key=lambda x: x.org_name.lower())\n",
    "])\n",
    "itemknn_results"
   ]
  },
  {
   "cell_type": "code",
   "execution_count": null,
   "id": "255ab48d-3f5b-497d-a99e-93263dcb90cd",
   "metadata": {},
   "outputs": [],
   "source": [
    "sns.barplot(itemknn_results, x=TARGET_METRIC, y='org_name')"
   ]
  },
  {
   "cell_type": "markdown",
   "id": "0a6b4d66-33e7-4c92-bb86-4c34cbe448f4",
   "metadata": {},
   "source": [
    "## UserKNN results"
   ]
  },
  {
   "cell_type": "code",
   "execution_count": null,
   "id": "60082794-6b19-431e-8ab4-dadb83205a57",
   "metadata": {},
   "outputs": [],
   "source": [
    "userknn_results = pd.concat([\n",
    "  paths.get_model_results(f'userknn-{RESULTS_SUFFIX}', d.org_name, d.splits_freq, d.splits_normalize).assign(**asdict(d))\n",
    "    for d \n",
    "    in sorted(cfknn_daos, key=lambda x: x.org_name.lower())\n",
    "])\n",
    "userknn_results"
   ]
  },
  {
   "cell_type": "code",
   "execution_count": null,
   "id": "ec2b90d1-40c4-4fb8-ab3e-461c0d4ffc92",
   "metadata": {},
   "outputs": [],
   "source": [
    "sns.barplot(userknn_results, x=TARGET_METRIC, y='org_name')"
   ]
  },
  {
   "cell_type": "markdown",
   "id": "abd92af2-7d58-4b81-b4b4-28dbfc312d6b",
   "metadata": {},
   "source": [
    "### Comparison between UserKNN and ItemKNN"
   ]
  },
  {
   "cell_type": "code",
   "execution_count": null,
   "id": "25b474c5-fa9c-4bea-bfa7-de364b5aa3e3",
   "metadata": {},
   "outputs": [],
   "source": [
    "cfknn_results = pd.concat([\n",
    "    index_to_hparams(openpop_baselines.assign(model='openpop')),\n",
    "    index_to_hparams(userknn_results.assign(model='userknn')),\n",
    "    index_to_hparams(itemknn_results.assign(model='itemknn')),\n",
    "])\n",
    "sns.barplot(cfknn_results, x=TARGET_METRIC, y='org_name', hue='model', errorbar=None)"
   ]
  },
  {
   "cell_type": "code",
   "execution_count": null,
   "id": "77666d72-aa17-43c6-9934-81d20f30bdcf",
   "metadata": {},
   "outputs": [],
   "source": [
    "cfknn_results[cfknn_results['org_name'] == 'Balancer'].groupby(['fold', 'model']).size()"
   ]
  },
  {
   "cell_type": "code",
   "execution_count": null,
   "id": "71cc7881-6061-494d-936e-e7a0cf196f53",
   "metadata": {},
   "outputs": [],
   "source": [
    "DAOS_DF[DAOS_DF['last_fold_date'].isna()]"
   ]
  },
  {
   "cell_type": "code",
   "execution_count": null,
   "id": "4cae8787-2125-4704-b116-b2a4bd9fd7fb",
   "metadata": {},
   "outputs": [],
   "source": [
    "models_ok = cfknn_results.groupby('org_name').apply(lambda x: x.groupby('fold').size().nunique() == 1)\n",
    "if not models_ok.all():\n",
    "    print(models_ok[~models_ok])\n",
    "    assert False, 'Some DAOs have different models in different folds'"
   ]
  },
  {
   "cell_type": "markdown",
   "id": "e81413b9-344b-4b68-93a8-373f204ed71b",
   "metadata": {},
   "source": [
    "## PLN results"
   ]
  },
  {
   "cell_type": "code",
   "execution_count": null,
   "id": "618af603-825c-4a00-a1a9-b7fb772d9932",
   "metadata": {},
   "outputs": [],
   "source": [
    "pln_daos = [ d for d in ALL_DAOS if is_nb_ok(d, '12_PLN_Similarity.ipynb') ]\n",
    "pln_daos"
   ]
  },
  {
   "cell_type": "code",
   "execution_count": null,
   "id": "16b6f625-db60-4d93-a529-de5497f25e3e",
   "metadata": {},
   "outputs": [],
   "source": [
    "pln_results = pd.concat([\n",
    "  paths.get_model_results(f'plnsim-{RESULTS_SUFFIX}', d.org_name, d.splits_freq, d.splits_normalize).assign(**asdict(d))\n",
    "    for d \n",
    "    in sorted(pln_daos, key=lambda x: x.org_name.lower())\n",
    "])\n",
    "pln_results"
   ]
  },
  {
   "cell_type": "code",
   "execution_count": null,
   "id": "42b4fc8e-21a5-4ac6-a953-9afeaf730274",
   "metadata": {},
   "outputs": [],
   "source": [
    "sns.barplot(pln_results, x=TARGET_METRIC, y='org_name')"
   ]
  },
  {
   "cell_type": "markdown",
   "id": "c2381c61-0f4f-4b3c-9b64-c6eb1e9f5fc6",
   "metadata": {},
   "source": [
    "### Comparison with previous models"
   ]
  },
  {
   "cell_type": "code",
   "execution_count": null,
   "id": "1f8bfb06-e368-4340-bd62-47f0aeff3b64",
   "metadata": {
    "editable": true,
    "slideshow": {
     "slide_type": ""
    },
    "tags": [
     "injected-parameters"
    ]
   },
   "outputs": [],
   "source": [
    "cfknnpln_results = pd.concat([\n",
    "    cfknn_results,\n",
    "    index_to_hparams(pln_results.assign(model='plnsim')),\n",
    "])\n",
    "# sns.barplot(cfknnpln_results, x=TARGET_METRIC, y='org_name', hue='model', errorbar=None)\n",
    "px.bar(cfknnpln_results.groupby(['org_name', 'model']).mean(numeric_only=True).reset_index(), x='org_name', y=TARGET_METRIC, color='model', barmode='group')"
   ]
  },
  {
   "cell_type": "markdown",
   "id": "6af6aded-4ed5-4aa8-b668-a7097402c1ba",
   "metadata": {},
   "source": [
    "## LightGCN results"
   ]
  },
  {
   "cell_type": "code",
   "execution_count": null,
   "id": "1eaa75ce-d088-468a-be64-03608b98f05b",
   "metadata": {},
   "outputs": [],
   "source": [
    "gnn_daos = [ d for d in ALL_DAOS if is_nb_ok(d, '21_microsoft_results.ipynb') ]\n",
    "gnn_daos"
   ]
  },
  {
   "cell_type": "code",
   "execution_count": null,
   "id": "eedaa589-8dc5-40f1-91e9-29458e708f84",
   "metadata": {},
   "outputs": [],
   "source": [
    "gnn_results = pd.concat([\n",
    "  paths.get_model_results(f'lightgcn-{RESULTS_SUFFIX}', d.org_name, d.splits_freq, d.splits_normalize).assign(**asdict(d))\n",
    "    for d \n",
    "    in sorted(gnn_daos, key=lambda x: x.org_name.lower())\n",
    "])\n",
    "gnn_results"
   ]
  },
  {
   "cell_type": "code",
   "execution_count": null,
   "id": "26604ffb-54ac-491c-8f3d-e5d13d6851bb",
   "metadata": {},
   "outputs": [],
   "source": [
    "from dataclasses import fields\n",
    "\n",
    "MODELS = ['openpop', 'itemknn', 'userknn', 'plnsim', 'lightgcn']\n",
    "\n",
    "all_results = pd.concat([\n",
    "    cfknnpln_results,\n",
    "    index_to_hparams(gnn_results.assign(model='lightgcn')),\n",
    "])\n",
    "\n",
    "_toplot = all_results.groupby(['org_name', 'model']).mean(numeric_only=True).reset_index()\n",
    "_toplot = _toplot.merge(DAOS_DF, on='org_name')\n",
    "# sns.barplot(cfknnpln_results, x=TARGET_METRIC, y='org_name', hue='model', errorbar=None)\n",
    "print(DAOS_DF.columns)\n",
    "px.bar(\n",
    "    _toplot,\n",
    "    x='org_name', \n",
    "    y='map@5',\n",
    "    color='model', \n",
    "    barmode='group', \n",
    "    category_orders={'model': MODELS},\n",
    "    hover_data=['last_fold_date', 'comment', 'folds_avg_open_proposals', 'folds_avg_test_users', 'folds_avg_test_votes', 'folds_avg_test_vpp'],\n",
    ")"
   ]
  },
  {
   "cell_type": "code",
   "execution_count": null,
   "id": "f30555d5-ab92-445b-8edb-8c3786b934cd",
   "metadata": {},
   "outputs": [],
   "source": [
    "from dataclasses import fields\n",
    "\n",
    "MODELS = ['openpop', 'itemknn', 'userknn', 'plnsim', 'lightgcn']\n",
    "\n",
    "all_results = pd.concat([\n",
    "    cfknnpln_results,\n",
    "    index_to_hparams(gnn_results.assign(model='lightgcn')),\n",
    "])\n",
    "\n",
    "_toplot = all_results.groupby(['org_name', 'model']).mean(numeric_only=True).reset_index()\n",
    "_toplot = _toplot.merge(DAOS_DF, on='org_name')\n",
    "# sns.barplot(cfknnpln_results, x=TARGET_METRIC, y='org_name', hue='model', errorbar=None)\n",
    "print(DAOS_DF.columns)\n",
    "px.bar(\n",
    "    _toplot,\n",
    "    x='org_name', \n",
    "    y='precision@1',\n",
    "    color='model', \n",
    "    barmode='group', \n",
    "    category_orders={'model': MODELS},\n",
    "    hover_data=['last_fold_date', 'comment', 'folds_avg_open_proposals', 'folds_avg_test_users', 'folds_avg_test_votes', 'folds_avg_test_vpp'],\n",
    ")"
   ]
  },
  {
   "cell_type": "code",
   "execution_count": null,
   "id": "ed9b48a6-9d40-4001-b48c-c7f65b2d7a1b",
   "metadata": {},
   "outputs": [],
   "source": [
    "from dataclasses import fields\n",
    "\n",
    "MODELS = ['openpop', 'itemknn', 'userknn', 'plnsim', 'lightgcn']\n",
    "\n",
    "all_results = pd.concat([\n",
    "    cfknnpln_results,\n",
    "    index_to_hparams(gnn_results.assign(model='lightgcn')),\n",
    "])\n",
    "\n",
    "_toplot = all_results.groupby(['org_name', 'model']).mean(numeric_only=True).reset_index()\n",
    "_toplot = _toplot.merge(DAOS_DF, on='org_name')\n",
    "# sns.barplot(cfknnpln_results, x=TARGET_METRIC, y='org_name', hue='model', errorbar=None)\n",
    "print(DAOS_DF.columns)\n",
    "px.bar(\n",
    "    _toplot,\n",
    "    x='org_name', \n",
    "    y='r-precision@10',\n",
    "    color='model', \n",
    "    barmode='group', \n",
    "    category_orders={'model': MODELS},\n",
    "    hover_data=['last_fold_date', 'comment', 'folds_avg_open_proposals', 'folds_avg_test_users', 'folds_avg_test_votes', 'folds_avg_test_vpp'],\n",
    ")"
   ]
  },
  {
   "cell_type": "code",
   "execution_count": null,
   "id": "eb76fe89-be78-4f0a-bdb2-084b05beee60",
   "metadata": {},
   "outputs": [],
   "source": [
    "gnn_results['org_name'].unique()"
   ]
  },
  {
   "cell_type": "code",
   "execution_count": null,
   "id": "320fbbd7-58fd-446b-ae97-56b6f94c2416",
   "metadata": {},
   "outputs": [],
   "source": [
    "from dataclasses import fields\n",
    "\n",
    "ALLOWED_DAOS = gnn_results['org_name'].unique()\n",
    "\n",
    "all_results = pd.concat([\n",
    "    cfknnpln_results,\n",
    "    index_to_hparams(gnn_results.assign(model='lightgcn')),\n",
    "])\n",
    "\n",
    "_toplot = all_results.groupby(['org_name', 'model']).mean(numeric_only=True).reset_index()\n",
    "# Remove DAOs with no GNN results\n",
    "_toplot = _toplot[_toplot['org_name'].isin(ALLOWED_DAOS)]\n",
    "_toplot = _toplot.merge(DAOS_DF, on='org_name')\n",
    "# sns.barplot(cfknnpln_results, x=TARGET_METRIC, y='org_name', hue='model', errorbar=None)\n",
    "print(DAOS_DF.columns)\n",
    "px.bar(\n",
    "    _toplot,\n",
    "    x='org_name', \n",
    "    y='map@5',\n",
    "    color='model', \n",
    "    barmode='group', \n",
    "    category_orders={'model': MODELS_ORDER},\n",
    "    hover_data=['last_fold_date', 'comment', 'folds_avg_open_proposals', 'folds_avg_test_users', 'folds_avg_test_votes', 'folds_avg_test_vpp'],\n",
    ")"
   ]
  },
  {
   "cell_type": "code",
   "execution_count": null,
   "id": "fe1ca6ec-0db5-495c-b4ab-419758638816",
   "metadata": {},
   "outputs": [],
   "source": [
    "models_ok = all_results.groupby('org_name').apply(lambda x: x.groupby('fold').size().nunique() == 1)\n",
    "if not models_ok.all():\n",
    "    print(models_ok[~models_ok])\n",
    "    assert False, 'Some orgs have different models in different folds'"
   ]
  },
  {
   "cell_type": "code",
   "execution_count": null,
   "id": "3d474198-7fcd-4e85-9b4a-73a239f725e5",
   "metadata": {},
   "outputs": [],
   "source": [
    "all_results[all_results['org_name'] == 'Decentraland'][['fold', 'org_name', 'ndcg@10', 'model']]"
   ]
  },
  {
   "cell_type": "code",
   "execution_count": null,
   "id": "7f9db600-18d6-4aa8-b6af-673a08df468b",
   "metadata": {},
   "outputs": [],
   "source": [
    "all_results.groupby('org_name').apply(lambda x: x.groupby('fold').size())"
   ]
  },
  {
   "cell_type": "code",
   "execution_count": null,
   "id": "4f4d8c6f-5a86-40ef-a109-296572e5e62d",
   "metadata": {},
   "outputs": [],
   "source": [
    "all_results.groupby(['org_name', 'fold']).size()"
   ]
  },
  {
   "cell_type": "markdown",
   "id": "29271a21-4dd1-4e20-a102-9c367d914b56",
   "metadata": {},
   "source": [
    "# Comparing all"
   ]
  },
  {
   "cell_type": "code",
   "execution_count": null,
   "id": "917fe929-607a-4f61-b4f6-6111a0732913",
   "metadata": {},
   "outputs": [],
   "source": [
    "all_results"
   ]
  },
  {
   "cell_type": "code",
   "execution_count": null,
   "id": "5306b7cf-72f1-4eb8-b1b7-33e415179ae1",
   "metadata": {},
   "outputs": [],
   "source": [
    "mean_all_results = all_results.groupby(['org_name', 'model']).mean(numeric_only=True).reset_index()\n",
    "mean_all_results = mean_all_results[mean_all_results['org_name'].isin(ALLOWED_DAOS)].merge(DAOS_DF, on='org_name')\n",
    "mean_all_results"
   ]
  },
  {
   "cell_type": "markdown",
   "id": "33cade85-25e7-4ae5-8462-05214fbfcaec",
   "metadata": {},
   "source": [
    "### Is there any correlation between variables?"
   ]
  },
  {
   "cell_type": "code",
   "execution_count": null,
   "id": "efeb8033-f4cc-41dd-847a-ecd1284174bb",
   "metadata": {},
   "outputs": [],
   "source": [
    "_corr = mean_all_results[[c for c in mean_all_results.columns if not '@' in c or '@3' in c]].groupby(['org_name', 'model']).mean(numeric_only=True).corr(method='spearman')\n",
    "# _corr.stack().reset_index()\n",
    "sns.heatmap(_corr, annot=False, cmap='coolwarm')"
   ]
  },
  {
   "cell_type": "code",
   "execution_count": null,
   "id": "d8102252-bc91-4269-a8a2-c4987cac3739",
   "metadata": {},
   "outputs": [],
   "source": [
    "_pairs = _corr.stack().reset_index()\n",
    "_pairs = _pairs[_pairs['level_0'] != _pairs['level_1']]\n",
    "_pairs = _pairs[_pairs['level_0'].str.contains('@') & ~_pairs['level_1'].str.contains('@')]\n",
    "_pairs = _pairs.sort_values(0, key=abs, ascending=False)\n",
    "_pairs.head(20)"
   ]
  },
  {
   "cell_type": "code",
   "execution_count": null,
   "id": "a14dd151-c8cb-4bea-8de2-4146531c5d0a",
   "metadata": {},
   "outputs": [],
   "source": [
    "mean_all_results[[c for c in mean_all_results.columns]].groupby(['org_name', 'model']).mean(numeric_only=True).corr(method='spearman')['open_proposals'].dropna().sort_values()"
   ]
  },
  {
   "cell_type": "markdown",
   "id": "80c8510e-4dab-458b-9b34-961bbe4c6955",
   "metadata": {},
   "source": [
    "### Cute lolliplot"
   ]
  },
  {
   "cell_type": "code",
   "execution_count": null,
   "id": "78c0058b-8902-4a50-9e3a-b3234722316e",
   "metadata": {},
   "outputs": [],
   "source": [
    "def lollipop_baseline_vs(metric: str, *, plot_others: bool = False, plot_worst: bool = True, sort_by=None):\n",
    "    _pivot = mean_all_results.pivot(index='org_name', columns='model', values=metric)\n",
    "    _pivot['best_name'] = _pivot.drop(columns='openpop').idxmax(axis=1)\n",
    "    _pivot['best'] = _pivot.apply(lambda row: row[row['best_name']], axis=1)\n",
    "    _pivot['worst_name'] = _pivot.drop(columns=['openpop', 'best_name']).idxmin(axis=1)\n",
    "    _pivot['worst'] = _pivot.apply(lambda row: row[row['worst_name']], axis=1)\n",
    "\n",
    "    if sort_by is None:\n",
    "        _pivot = _pivot.sort_index(ascending=False, key=lambda x: x.str.lower())\n",
    "    else:\n",
    "        _pivot = _pivot.join(DAOS_DF.set_index('org_name'))\n",
    "        _pivot = _pivot.sort_values(sort_by)\n",
    "    \n",
    "    _pivot = _pivot.rename(index={\n",
    "        'DEAD FoundationsDAO': 'DEAD Foundations',\n",
    "        'MetaCartel - MetaCartel Ventures': 'MC - MC Ventures',\n",
    "    }).reset_index()\n",
    "    \n",
    "    plt.hlines(y=_pivot.index, xmin=_pivot.min(axis=1, numeric_only=True), xmax=_pivot['best'], color='grey', zorder=1, alpha=0.6)\n",
    "    plt.scatter(_pivot['openpop'], _pivot.index, color='skyblue', label='OpenPop')\n",
    "    \n",
    "    markers_dict = {\n",
    "        \"itemknn\": \"P\", # plus filled\n",
    "        \"userknn\": \"X\", # cross filled\n",
    "        \"openpop\": \"o\", # circle filled\n",
    "        \"plnsim\": \"s\", # square filled\n",
    "        \"lightgcn\": \"^\", # triangle filled\n",
    "    }\n",
    "    colors_dict = {\n",
    "        \"openpop\": \"lightblue\", # circle filled\n",
    "        \"itemknn\": \"C0\", # plus filled\n",
    "        \"userknn\": \"C1\", # cross filled\n",
    "        \"plnsim\": \"C2\", # square filled\n",
    "        \"lightgcn\": \"C3\", # triangle filled\n",
    "    }\n",
    "    \n",
    "    # for m in sorted(_pivot['best_name'].unique()):    \n",
    "    for m in MODELS_ORDER:\n",
    "        if m =='openpop':\n",
    "            # Already done\n",
    "            continue\n",
    "        \n",
    "        if plot_others:\n",
    "            _aux = _pivot[_pivot['best_name'] != m]\n",
    "            plt.scatter(_aux[m], _aux.index, marker=markers_dict[m], color=colors_dict[m], s=15)\n",
    "        \n",
    "        _aux = _pivot[_pivot['best_name'] == m]\n",
    "        plt.scatter(_aux['best'], _aux.index, marker=markers_dict[m], color=colors_dict[m], label=MODELS_NICE_NAME[m], s=35)\n",
    "\n",
    "        if plot_worst:\n",
    "            _aux = _pivot[_pivot['worst_name'] == m]\n",
    "            plt.scatter(_aux['worst'], _aux.index, marker=markers_dict[m], color=colors_dict[m], s=35)\n",
    "\n",
    "    # Sort legend\n",
    "    \n",
    "    plt.legend(loc='lower left', mode='expand', bbox_to_anchor=(0, 1.02, 1, 0.2), ncol=5, borderaxespad=0, handletextpad=-.2)\n",
    "    plt.yticks(_pivot.index, _pivot['org_name'])\n",
    "    plt.xlabel(metric)\n",
    "\n",
    "lollipop_baseline_vs('precision@3', sort_by='folds_avg_open_proposals')\n",
    "plt.xlim((0,1))"
   ]
  },
  {
   "cell_type": "code",
   "execution_count": null,
   "id": "049becc8-7974-4c54-8cc8-a49667efcea7",
   "metadata": {},
   "outputs": [],
   "source": [
    "#TODO: DELETEME\n",
    "mean_all_results.pivot(index='org_name', columns='model', values='precision@3').loc['DEAD FoundationsDAO']"
   ]
  },
  {
   "cell_type": "code",
   "execution_count": null,
   "id": "51784cdf-cfc5-4dac-b3b0-61fbac476d99",
   "metadata": {},
   "outputs": [],
   "source": [
    "_metric_cols = [c for c in mean_all_results if '@' in c and '_' not in c]"
   ]
  },
  {
   "cell_type": "code",
   "execution_count": null,
   "id": "04d85b78-8405-466a-867d-61bbd226d942",
   "metadata": {},
   "outputs": [],
   "source": [
    "sns.set_context('paper')\n",
    "\n",
    "metric = 'map@10'\n",
    "for metric in tqdm(_metric_cols):\n",
    "    plt.figure()\n",
    "    lollipop_baseline_vs(metric, sort_by='folds_avg_open_proposals')\n",
    "    plt.xlabel('')\n",
    "    plt.savefig(f'../figures/all_results/lollipop_results_{metric}.png', dpi=600, bbox_inches='tight')\n",
    "    plt.close()\n",
    "\n",
    "sns.set_context('notebook')"
   ]
  },
  {
   "cell_type": "code",
   "execution_count": null,
   "id": "2c6ffed0-91e3-4d50-a837-7aefed232881",
   "metadata": {},
   "outputs": [],
   "source": [
    "print(DAOS_DF.columns)\n",
    "DAOS_DF[DAOS_DF['org_name'].isin(mean_all_results['org_name'].unique())].set_index('org_name')['folds_avg_test_vpv'].median()"
   ]
  },
  {
   "cell_type": "markdown",
   "id": "b62f563c-ffc4-43fb-93ad-9dbba9a990c1",
   "metadata": {},
   "source": [
    "## Choosing \"the best\"\n",
    "\n",
    "In this section we will try to fill the question: what is the best overall model? And if that method is consistent among metrics"
   ]
  },
  {
   "cell_type": "code",
   "execution_count": null,
   "id": "e6811356-de9f-4d30-bc6c-f70dbe4c4775",
   "metadata": {},
   "outputs": [],
   "source": [
    "_table = mean_all_results.groupby('model')[_metric_cols].median().T[MODELS_ORDER]\n",
    "\n",
    "def highlight_max(s):\n",
    "    return np.where(s == s.max(), 'background-color: yellow', '')\n",
    "def highlight_min(s):\n",
    "    return np.where(s == s.min(), 'background-color: yellow', '')\n",
    "\n",
    "_table.style.apply(highlight_max, axis=1)"
   ]
  },
  {
   "cell_type": "markdown",
   "id": "526f371a-a82d-42b2-a50e-9136b41a4b81",
   "metadata": {},
   "source": [
    "This is very unreliable because we are comparing between models results. It will prioritize models that perhaps have a higher baseline. Let's not check how much each model is against the baseline."
   ]
  },
  {
   "cell_type": "markdown",
   "id": "a559a244-ec1a-4b6e-acdf-c36dbc45b3eb",
   "metadata": {},
   "source": [
    "### Relative comparison (model / baseline)"
   ]
  },
  {
   "cell_type": "code",
   "execution_count": null,
   "id": "af40513e-d6e9-42ce-88f5-2bfb24477a94",
   "metadata": {},
   "outputs": [],
   "source": [
    "def _rel_to_openpop(df: pd.DataFrame):\n",
    "    df = df.set_index('model')[_metric_cols]\n",
    "    return df.div(df.loc['openpop'])\n",
    "    \n",
    "rel_all_results = mean_all_results.groupby('org_name').apply(_rel_to_openpop, include_groups=False)\n",
    "rel_all_results"
   ]
  },
  {
   "cell_type": "code",
   "execution_count": null,
   "id": "c942d222-a15d-41d1-a39d-052c2fc4aa74",
   "metadata": {},
   "outputs": [],
   "source": [
    "rel_all_results.groupby('model').median().T[MODELS_ORDER].style.apply(highlight_max, axis=1)"
   ]
  },
  {
   "cell_type": "markdown",
   "id": "8c4fb0b9-779e-4001-ae21-4849dd19c4b1",
   "metadata": {},
   "source": [
    "### Absolute comparison (model - baseline)"
   ]
  },
  {
   "cell_type": "code",
   "execution_count": null,
   "id": "e6015b7f-949e-4552-8051-ea1c7bfcc3a3",
   "metadata": {},
   "outputs": [],
   "source": [
    "def _abs_to_openpop(df: pd.DataFrame):\n",
    "    df = df.set_index('model')[_metric_cols]\n",
    "    return df.sub(df.loc['openpop'])\n",
    "    \n",
    "abs_all_results = mean_all_results.groupby('org_name').apply(_abs_to_openpop, include_groups=False)\n",
    "abs_all_results"
   ]
  },
  {
   "cell_type": "code",
   "execution_count": null,
   "id": "2fc426d2-6d0b-400f-8bf7-67088d345455",
   "metadata": {},
   "outputs": [],
   "source": [
    "abs_all_results.groupby('model').median().T[MODELS_ORDER].style.apply(highlight_max, axis=1)"
   ]
  },
  {
   "cell_type": "markdown",
   "id": "7b69c8a7-d307-403d-a063-bf33995c1034",
   "metadata": {},
   "source": [
    "### Ranking the models"
   ]
  },
  {
   "cell_type": "code",
   "execution_count": null,
   "id": "c15b89f9-5b48-42c6-979e-3cb58c5babb6",
   "metadata": {},
   "outputs": [],
   "source": [
    "def _ranking(df: pd.DataFrame):\n",
    "    df = df.set_index('model')[_metric_cols]\n",
    "    return df.rank(ascending=False)\n",
    "\n",
    "rank_all_results = mean_all_results.groupby('org_name').apply(_ranking, include_groups=False)\n",
    "rank_all_results"
   ]
  },
  {
   "cell_type": "code",
   "execution_count": null,
   "id": "2e34d317-5bda-4f4e-9fa6-59dd77616900",
   "metadata": {},
   "outputs": [],
   "source": [
    "rank_all_results.groupby('model').median().T[MODELS_ORDER].style.apply(highlight_min, axis=1)"
   ]
  },
  {
   "cell_type": "markdown",
   "id": "285bf3cc-042b-4bd2-a8f0-c45b3a9e4a3b",
   "metadata": {},
   "source": [
    "#### Big vs small daos"
   ]
  },
  {
   "cell_type": "code",
   "execution_count": null,
   "id": "c696b69f-c6cc-4abe-9fa0-55d5b51a7573",
   "metadata": {},
   "outputs": [],
   "source": [
    "DAOS_INFO.columns"
   ]
  },
  {
   "cell_type": "code",
   "execution_count": null,
   "id": "a22f49f7-fe3d-47b8-a90c-22fc7c025017",
   "metadata": {},
   "outputs": [],
   "source": [
    "_CUT_PCT = .75\n",
    "_CUT_COL = 'folds_avg_open_proposals'\n",
    "_CUT = DAOS_INFO['folds_avg_open_proposals'].quantile(.75)\n",
    "print(f\"{_CUT_PCT*100}% of {_CUT_COL}: {_CUT}\")\n",
    "\n",
    "_aux = rank_all_results.reset_index('model').join(DAOS_INFO[['folds_avg_open_proposals']])\n",
    "\n",
    "_big = _aux[_aux['folds_avg_open_proposals'] >= _CUT]\n",
    "_small = _aux[_aux['folds_avg_open_proposals'] < _CUT]\n",
    "print('Big:', _big.index.nunique(), '; small:', _small.index.nunique())"
   ]
  },
  {
   "cell_type": "code",
   "execution_count": null,
   "id": "c18d4d23-6cf1-4238-9383-19641420f8ca",
   "metadata": {},
   "outputs": [],
   "source": [
    "_big.groupby('model').median().T[MODELS_ORDER].style.apply(highlight_min, axis=1)"
   ]
  },
  {
   "cell_type": "code",
   "execution_count": null,
   "id": "669bf3e6-a832-4172-87be-e3add228bb1a",
   "metadata": {},
   "outputs": [],
   "source": [
    "_small.groupby('model').median().T[MODELS_ORDER].style.apply(highlight_min, axis=1)"
   ]
  },
  {
   "cell_type": "markdown",
   "id": "2b68addc-6091-45b8-a70f-3d5a7dfb8afc",
   "metadata": {},
   "source": [
    "## How many times does each model win the baseline"
   ]
  },
  {
   "cell_type": "code",
   "execution_count": null,
   "id": "cb2663f5-d7de-4974-b0e0-ebb884be4668",
   "metadata": {},
   "outputs": [],
   "source": [
    "def _better_than_openpop(df: pd.DataFrame):\n",
    "    df = df.set_index('model')[_metric_cols]\n",
    "    return df > df.loc['openpop']\n",
    "\n",
    "bool_all_results = mean_all_results.groupby('org_name').apply(_better_than_openpop, include_groups=False)\n",
    "bool_all_results"
   ]
  },
  {
   "cell_type": "code",
   "execution_count": null,
   "id": "bb9cc5e9-d641-4291-bba0-ee036fea9870",
   "metadata": {},
   "outputs": [],
   "source": [
    "bool_all_results.groupby('model').sum().T[MODELS_ORDER].style.apply(highlight_max, axis=1)"
   ]
  },
  {
   "cell_type": "markdown",
   "id": "9f3a2600-ec1a-4728-b9d9-8fb263fb64f9",
   "metadata": {},
   "source": [
    "## How many times is that model the best"
   ]
  },
  {
   "cell_type": "code",
   "execution_count": null,
   "id": "52f6e59d-73f3-487d-98fa-20a3e20f80fa",
   "metadata": {},
   "outputs": [],
   "source": [
    "def _is_best(df: pd.DataFrame):\n",
    "    df = df.set_index('model')[_metric_cols]\n",
    "    return df == df.max(axis=0)\n",
    "\n",
    "is_best_all_results = mean_all_results.groupby('org_name').apply(_is_best, include_groups=False)\n",
    "is_best_all_results"
   ]
  },
  {
   "cell_type": "code",
   "execution_count": null,
   "id": "a07d7574-3bad-47ca-b31b-6d1d2333ad34",
   "metadata": {},
   "outputs": [],
   "source": [
    "is_best_all_results.groupby('model').sum().T[MODELS_ORDER].style.apply(highlight_max, axis=1)"
   ]
  },
  {
   "cell_type": "markdown",
   "id": "b365abe1-2862-4560-88f6-876aba6218a5",
   "metadata": {},
   "source": [
    "### Big vs small"
   ]
  },
  {
   "cell_type": "code",
   "execution_count": null,
   "id": "dec5c0d2-e564-4778-8741-f9b9425f2a3e",
   "metadata": {},
   "outputs": [],
   "source": [
    "_CUT_PCT = .75\n",
    "_CUT_COL = 'folds_avg_open_proposals'\n",
    "_CUT = DAOS_INFO['folds_avg_open_proposals'].quantile(.75)\n",
    "print(f\"{_CUT_PCT*100}% of {_CUT_COL}: {_CUT}\")\n",
    "\n",
    "_aux = is_best_all_results.reset_index('model').join(DAOS_INFO[['folds_avg_open_proposals']])\n",
    "\n",
    "_big = _aux[_aux['folds_avg_open_proposals'] >= _CUT]\n",
    "_small = _aux[_aux['folds_avg_open_proposals'] < _CUT]\n",
    "print('Big:', _big.index.nunique(), '; small:', _small.index.nunique())"
   ]
  },
  {
   "cell_type": "code",
   "execution_count": null,
   "id": "046d4ad6-03e9-4446-82d7-41e70ba4d283",
   "metadata": {},
   "outputs": [],
   "source": [
    "_big.groupby('model').sum().T[MODELS_ORDER].astype(int).style.apply(highlight_max, axis=1)"
   ]
  },
  {
   "cell_type": "code",
   "execution_count": null,
   "id": "f4d257e1-9ab0-4cef-812d-f2fc3a3867f5",
   "metadata": {},
   "outputs": [],
   "source": [
    "_small.groupby('model').sum().T[MODELS_ORDER].astype(int).style.apply(highlight_max, axis=1)"
   ]
  },
  {
   "cell_type": "markdown",
   "id": "1ea8797b-5d28-45ff-b3f5-c72ae405626c",
   "metadata": {},
   "source": [
    "### Creating a waffle graph"
   ]
  },
  {
   "cell_type": "code",
   "execution_count": null,
   "id": "d44cad0d-faa4-4757-8bc4-f05f2607422a",
   "metadata": {},
   "outputs": [],
   "source": [
    "from pywaffle import Waffle"
   ]
  },
  {
   "cell_type": "code",
   "execution_count": null,
   "id": "77d36177-1959-449a-a9e4-91b65e9f632e",
   "metadata": {},
   "outputs": [],
   "source": [
    "_WC_METRIC = 'precision@5'\n",
    "\n",
    "_aux_best = is_best_all_results.groupby('model').sum().T[MODELS_ORDER].T\n",
    "print(_aux_best[_WC_METRIC])\n",
    "\n",
    "fig = plt.figure(\n",
    "    FigureClass=Waffle,\n",
    "    rows=3,\n",
    "    values=_aux_best[_WC_METRIC].to_dict(),\n",
    "    # legend={'loc': 'lower left', 'bbox_to_anchor': (0, -0.2), 'ncol': 5},\n",
    "    legend={'loc': 'upper left', 'bbox_to_anchor': (1.05, 1)},\n",
    ")\n",
    "plt.title(f'Waffle chart {_WC_METRIC}')"
   ]
  }
 ],
 "metadata": {
  "kernelspec": {
   "display_name": "Python 3 (ipykernel)",
   "language": "python",
   "name": "python3"
  },
  "language_info": {
   "codemirror_mode": {
    "name": "ipython",
    "version": 3
   },
   "file_extension": ".py",
   "mimetype": "text/x-python",
   "name": "python",
   "nbconvert_exporter": "python",
   "pygments_lexer": "ipython3",
   "version": "3.11.6"
  },
  "widgets": {
   "application/vnd.jupyter.widget-state+json": {
    "state": {
     "1a6ccd20bea243b99871de290a69e076": {
      "model_module": "@jupyter-widgets/controls",
      "model_module_version": "2.0.0",
      "model_name": "HTMLModel",
      "state": {
       "layout": "IPY_MODEL_53b4fffad0ce4eb0ab27a02a79ea23c2",
       "style": "IPY_MODEL_6757ff907424451ebebe2e7889360f90",
       "value": " 30/30 [00:09&lt;00:00,  2.92it/s]"
      }
     },
     "1e4f8600b687428a880580324dff38de": {
      "model_module": "@jupyter-widgets/base",
      "model_module_version": "2.0.0",
      "model_name": "LayoutModel",
      "state": {}
     },
     "25a495778cf44826ac3cd420a8670813": {
      "model_module": "@jupyter-widgets/controls",
      "model_module_version": "2.0.0",
      "model_name": "HTMLModel",
      "state": {
       "layout": "IPY_MODEL_d8bac930d8274225b2569c8b1918edc0",
       "style": "IPY_MODEL_981af2c38b394249b3af4a3c86c4f53d",
       "value": "100%"
      }
     },
     "27ccd94c789d4be4aed018cd8fd74b4f": {
      "model_module": "@jupyter-widgets/controls",
      "model_module_version": "2.0.0",
      "model_name": "HBoxModel",
      "state": {
       "children": [
        "IPY_MODEL_25a495778cf44826ac3cd420a8670813",
        "IPY_MODEL_2c672ad2c947422fa929cdde3432b73c",
        "IPY_MODEL_1a6ccd20bea243b99871de290a69e076"
       ],
       "layout": "IPY_MODEL_85479e6dcd49449ca410dab500ead2e6"
      }
     },
     "2c672ad2c947422fa929cdde3432b73c": {
      "model_module": "@jupyter-widgets/controls",
      "model_module_version": "2.0.0",
      "model_name": "FloatProgressModel",
      "state": {
       "bar_style": "success",
       "layout": "IPY_MODEL_1e4f8600b687428a880580324dff38de",
       "max": 30,
       "style": "IPY_MODEL_af6a6296fce7439cbb0a14f326916cb2",
       "value": 30
      }
     },
     "37c19e0430744be0a1b90576cd879bf8": {
      "model_module": "@jupyter-widgets/base",
      "model_module_version": "2.0.0",
      "model_name": "LayoutModel",
      "state": {}
     },
     "39614f2e84ff482e934f9cdd782fb1ba": {
      "model_module": "@jupyter-widgets/controls",
      "model_module_version": "2.0.0",
      "model_name": "ProgressStyleModel",
      "state": {
       "description_width": ""
      }
     },
     "4d3306ccd6ac4f28a5141c9c2e9419ff": {
      "model_module": "@jupyter-widgets/controls",
      "model_module_version": "2.0.0",
      "model_name": "FloatProgressModel",
      "state": {
       "bar_style": "success",
       "layout": "IPY_MODEL_37c19e0430744be0a1b90576cd879bf8",
       "max": 30,
       "style": "IPY_MODEL_39614f2e84ff482e934f9cdd782fb1ba",
       "value": 30
      }
     },
     "53b4fffad0ce4eb0ab27a02a79ea23c2": {
      "model_module": "@jupyter-widgets/base",
      "model_module_version": "2.0.0",
      "model_name": "LayoutModel",
      "state": {}
     },
     "6757ff907424451ebebe2e7889360f90": {
      "model_module": "@jupyter-widgets/controls",
      "model_module_version": "2.0.0",
      "model_name": "HTMLStyleModel",
      "state": {
       "description_width": "",
       "font_size": null,
       "text_color": null
      }
     },
     "70d4cd0f340f439fb0e1f4f290a87985": {
      "model_module": "@jupyter-widgets/controls",
      "model_module_version": "2.0.0",
      "model_name": "HTMLStyleModel",
      "state": {
       "description_width": "",
       "font_size": null,
       "text_color": null
      }
     },
     "745aed85393342ae81cb6a6ae1bf5dfd": {
      "model_module": "@jupyter-widgets/base",
      "model_module_version": "2.0.0",
      "model_name": "LayoutModel",
      "state": {}
     },
     "85479e6dcd49449ca410dab500ead2e6": {
      "model_module": "@jupyter-widgets/base",
      "model_module_version": "2.0.0",
      "model_name": "LayoutModel",
      "state": {}
     },
     "92b9a4b919a84f5a8092dfa0fa52b55f": {
      "model_module": "@jupyter-widgets/controls",
      "model_module_version": "2.0.0",
      "model_name": "HBoxModel",
      "state": {
       "children": [
        "IPY_MODEL_d6987dd5e2bd4ed3ad1cd0273e70f276",
        "IPY_MODEL_4d3306ccd6ac4f28a5141c9c2e9419ff",
        "IPY_MODEL_b53b24633d9e4455809a91bc2de5aa5d"
       ],
       "layout": "IPY_MODEL_f72a39546abf416dad1727a0ce0bda4b"
      }
     },
     "981af2c38b394249b3af4a3c86c4f53d": {
      "model_module": "@jupyter-widgets/controls",
      "model_module_version": "2.0.0",
      "model_name": "HTMLStyleModel",
      "state": {
       "description_width": "",
       "font_size": null,
       "text_color": null
      }
     },
     "af6a6296fce7439cbb0a14f326916cb2": {
      "model_module": "@jupyter-widgets/controls",
      "model_module_version": "2.0.0",
      "model_name": "ProgressStyleModel",
      "state": {
       "description_width": ""
      }
     },
     "b53b24633d9e4455809a91bc2de5aa5d": {
      "model_module": "@jupyter-widgets/controls",
      "model_module_version": "2.0.0",
      "model_name": "HTMLModel",
      "state": {
       "layout": "IPY_MODEL_dbc1f6718acb447398df2a37cca68300",
       "style": "IPY_MODEL_d3d6a37876674c1f8cbc13fcdf7163fd",
       "value": " 30/30 [00:09&lt;00:00,  3.31it/s]"
      }
     },
     "d3d6a37876674c1f8cbc13fcdf7163fd": {
      "model_module": "@jupyter-widgets/controls",
      "model_module_version": "2.0.0",
      "model_name": "HTMLStyleModel",
      "state": {
       "description_width": "",
       "font_size": null,
       "text_color": null
      }
     },
     "d6987dd5e2bd4ed3ad1cd0273e70f276": {
      "model_module": "@jupyter-widgets/controls",
      "model_module_version": "2.0.0",
      "model_name": "HTMLModel",
      "state": {
       "layout": "IPY_MODEL_745aed85393342ae81cb6a6ae1bf5dfd",
       "style": "IPY_MODEL_70d4cd0f340f439fb0e1f4f290a87985",
       "value": "100%"
      }
     },
     "d8bac930d8274225b2569c8b1918edc0": {
      "model_module": "@jupyter-widgets/base",
      "model_module_version": "2.0.0",
      "model_name": "LayoutModel",
      "state": {}
     },
     "dbc1f6718acb447398df2a37cca68300": {
      "model_module": "@jupyter-widgets/base",
      "model_module_version": "2.0.0",
      "model_name": "LayoutModel",
      "state": {}
     },
     "f72a39546abf416dad1727a0ce0bda4b": {
      "model_module": "@jupyter-widgets/base",
      "model_module_version": "2.0.0",
      "model_name": "LayoutModel",
      "state": {}
     }
    },
    "version_major": 2,
    "version_minor": 0
   }
  }
 },
 "nbformat": 4,
 "nbformat_minor": 5
}
