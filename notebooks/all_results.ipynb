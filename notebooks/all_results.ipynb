{
 "cells": [
  {
   "cell_type": "code",
   "execution_count": null,
   "id": "6dca65e5-c8da-4420-8079-0c8cd0345d1b",
   "metadata": {},
   "outputs": [],
   "source": [
    "from pathlib import Path\n",
    "\n",
    "from dataclasses import asdict\n",
    "import pandas as pd\n",
    "import numpy as np\n",
    "\n",
    "from tqdm.autonotebook import tqdm\n",
    "import plotly.express as px\n",
    "\n",
    "import matplotlib.pyplot as plt\n",
    "import seaborn as sns\n",
    "sns.set_theme()\n",
    "\n",
    "from recsys4daos.utils.notebooks import DaoToRun, isCompleted\n",
    "\n",
    "import paths"
   ]
  },
  {
   "cell_type": "code",
   "execution_count": null,
   "id": "75d32f32-45a0-4893-9a2a-51e6981b54e8",
   "metadata": {},
   "outputs": [],
   "source": [
    "OUTPUT_PATH: str = '../nbout/'\n",
    "TARGET_METRIC: str = 'map@10'"
   ]
  },
  {
   "cell_type": "code",
   "execution_count": null,
   "id": "dd4948f8-39f5-458a-b4b2-4a1ab39fcc3f",
   "metadata": {},
   "outputs": [],
   "source": [
    "ALL_DAOS = paths.load_daos_to_run()\n",
    "DAOS_INFO = pd.DataFrame.from_dict(paths.load_daos_data(), orient='index')\n",
    "DAOS_DF = pd.DataFrame(asdict(d) for d in ALL_DAOS).join(DAOS_INFO, on='org_name', validate='1:1')\n",
    "print(DAOS_DF.columns)\n",
    "DAOS_DF"
   ]
  },
  {
   "cell_type": "code",
   "execution_count": null,
   "id": "cf810d0f-6c61-4e29-8c08-0e8805d1b4fa",
   "metadata": {},
   "outputs": [],
   "source": [
    "def index_to_hparams(df: pd.DataFrame):\n",
    "    assert df.index.names[0] == 'fold'\n",
    "    hparams = df.index.names[1:]\n",
    "    df = df.reset_index()\n",
    "    df['hparams'] = df[hparams].apply(lambda x: x.to_dict(), axis=1)\n",
    "    df = df.drop(columns=hparams)\n",
    "    return df\n",
    "\n",
    "def is_nb_ok(d: DaoToRun, nbname: str) -> bool:\n",
    "    notebook = Path(OUTPUT_PATH) / d.org_name / nbname\n",
    "    if not notebook.is_file():\n",
    "        return False\n",
    "    return isCompleted(notebook)"
   ]
  },
  {
   "cell_type": "markdown",
   "id": "41cfd96c-dbd2-4abb-88b5-a91cf1e2cb2a",
   "metadata": {},
   "source": [
    "## Loading baseline"
   ]
  },
  {
   "cell_type": "code",
   "execution_count": null,
   "id": "70437dda-66f7-4682-a1d1-4f376761b986",
   "metadata": {},
   "outputs": [],
   "source": [
    "baseline_daos = [ d for d in ALL_DAOS if is_nb_ok(d, '10_baseline.ipynb') ]\n",
    "baseline_daos"
   ]
  },
  {
   "cell_type": "code",
   "execution_count": null,
   "id": "1262be8f-0ce2-40da-926c-a75d13dc81f6",
   "metadata": {
    "editable": true,
    "slideshow": {
     "slide_type": ""
    },
    "tags": [
     "injected-parameters"
    ]
   },
   "outputs": [],
   "source": [
    "def _load_openpop_results(d: DaoToRun):\n",
    "    df = paths.load_openpop(d.org_name, d.splits_freq, d.splits_normalize).sort_index()\n",
    "    if d.last_fold_date:\n",
    "        df = df[df.index <= d.last_fold_date]\n",
    "    df = df.tail(d.last_folds - 1).copy()\n",
    "\n",
    "    return df\n",
    "    # dfi = paths.load_folds_info(d.org_name, d.splits_freq, d.splits_normalize).sort_index()\n",
    "    # return df.join(dfi, how='left', validate='1:1')\n",
    "\n",
    "openpop_baselines = pd.concat([\n",
    "  _load_openpop_results(d).assign(**asdict(d))\n",
    "    for d \n",
    "    in sorted(baseline_daos, key=lambda x: x.org_name.lower())\n",
    "])\n",
    "openpop_baselines"
   ]
  },
  {
   "cell_type": "code",
   "execution_count": null,
   "id": "b7f7f521-7953-4041-ae75-67e883d75aa9",
   "metadata": {},
   "outputs": [],
   "source": [
    "openpop_baselines.groupby('org_name').describe()"
   ]
  },
  {
   "cell_type": "markdown",
   "id": "9dfd1e47-20cd-40f6-85ab-95f29538a7f9",
   "metadata": {
    "editable": true,
    "slideshow": {
     "slide_type": ""
    },
    "tags": [
     "injected-parameters"
    ]
   },
   "source": [
    "## ItemKNN results"
   ]
  },
  {
   "cell_type": "code",
   "execution_count": null,
   "id": "b32853f7-5f1e-453c-afd3-ac8c13365b03",
   "metadata": {},
   "outputs": [],
   "source": [
    "cfknn_daos = [ d for d in ALL_DAOS if is_nb_ok(d, '11_CF_KNN.ipynb') ]\n",
    "cfknn_daos"
   ]
  },
  {
   "cell_type": "code",
   "execution_count": null,
   "id": "468a97d5-63e6-42fd-ac42-693265e65876",
   "metadata": {},
   "outputs": [],
   "source": [
    "itemknn_results = pd.concat([\n",
    "  paths.get_model_results('itemknn-best-test', d.org_name, d.splits_freq, d.splits_normalize).assign(**asdict(d))\n",
    "    for d \n",
    "    in sorted(cfknn_daos, key=lambda x: x.org_name.lower())\n",
    "])\n",
    "itemknn_results"
   ]
  },
  {
   "cell_type": "code",
   "execution_count": null,
   "id": "255ab48d-3f5b-497d-a99e-93263dcb90cd",
   "metadata": {},
   "outputs": [],
   "source": [
    "sns.barplot(itemknn_results, x=TARGET_METRIC, y='org_name')"
   ]
  },
  {
   "cell_type": "markdown",
   "id": "0a6b4d66-33e7-4c92-bb86-4c34cbe448f4",
   "metadata": {},
   "source": [
    "## UserKNN results"
   ]
  },
  {
   "cell_type": "code",
   "execution_count": null,
   "id": "60082794-6b19-431e-8ab4-dadb83205a57",
   "metadata": {},
   "outputs": [],
   "source": [
    "userknn_results = pd.concat([\n",
    "  paths.get_model_results('userknn-best-test', d.org_name, d.splits_freq, d.splits_normalize).assign(**asdict(d))\n",
    "    for d \n",
    "    in sorted(cfknn_daos, key=lambda x: x.org_name.lower())\n",
    "])\n",
    "userknn_results"
   ]
  },
  {
   "cell_type": "code",
   "execution_count": null,
   "id": "ec2b90d1-40c4-4fb8-ab3e-461c0d4ffc92",
   "metadata": {},
   "outputs": [],
   "source": [
    "sns.barplot(userknn_results, x=TARGET_METRIC, y='org_name')"
   ]
  },
  {
   "cell_type": "markdown",
   "id": "abd92af2-7d58-4b81-b4b4-28dbfc312d6b",
   "metadata": {},
   "source": [
    "### Comparison between UserKNN and ItemKNN"
   ]
  },
  {
   "cell_type": "code",
   "execution_count": null,
   "id": "25b474c5-fa9c-4bea-bfa7-de364b5aa3e3",
   "metadata": {},
   "outputs": [],
   "source": [
    "cfknn_results = pd.concat([\n",
    "    index_to_hparams(openpop_baselines.assign(model='openpop')),\n",
    "    index_to_hparams(userknn_results.assign(model='userknn')),\n",
    "    index_to_hparams(itemknn_results.assign(model='itemknn')),\n",
    "])\n",
    "sns.barplot(cfknn_results, x=TARGET_METRIC, y='org_name', hue='model', errorbar=None)"
   ]
  },
  {
   "cell_type": "code",
   "execution_count": null,
   "id": "77666d72-aa17-43c6-9934-81d20f30bdcf",
   "metadata": {},
   "outputs": [],
   "source": [
    "cfknn_results[cfknn_results['org_name'] == 'Balancer'].groupby(['fold', 'model']).size()"
   ]
  },
  {
   "cell_type": "code",
   "execution_count": null,
   "id": "71cc7881-6061-494d-936e-e7a0cf196f53",
   "metadata": {},
   "outputs": [],
   "source": [
    "DAOS_DF[DAOS_DF['last_fold_date'].isna()]"
   ]
  },
  {
   "cell_type": "code",
   "execution_count": null,
   "id": "4cae8787-2125-4704-b116-b2a4bd9fd7fb",
   "metadata": {},
   "outputs": [],
   "source": [
    "models_ok = cfknn_results.groupby('org_name').apply(lambda x: x.groupby('fold').size().nunique() == 1)\n",
    "if not models_ok.all():\n",
    "    print(models_ok[~models_ok])\n",
    "    assert False, 'Some models have different models in different folds'"
   ]
  },
  {
   "cell_type": "markdown",
   "id": "e81413b9-344b-4b68-93a8-373f204ed71b",
   "metadata": {},
   "source": [
    "## PLN results"
   ]
  },
  {
   "cell_type": "code",
   "execution_count": null,
   "id": "618af603-825c-4a00-a1a9-b7fb772d9932",
   "metadata": {},
   "outputs": [],
   "source": [
    "pln_daos = [ d for d in ALL_DAOS if is_nb_ok(d, '12_PLN_Similarity.ipynb') ]\n",
    "pln_daos"
   ]
  },
  {
   "cell_type": "code",
   "execution_count": null,
   "id": "16b6f625-db60-4d93-a529-de5497f25e3e",
   "metadata": {},
   "outputs": [],
   "source": [
    "pln_results = pd.concat([\n",
    "  paths.get_model_results('plnsim-best-test', d.org_name, d.splits_freq, d.splits_normalize).assign(**asdict(d))\n",
    "    for d \n",
    "    in sorted(pln_daos, key=lambda x: x.org_name.lower())\n",
    "])\n",
    "pln_results"
   ]
  },
  {
   "cell_type": "code",
   "execution_count": null,
   "id": "42b4fc8e-21a5-4ac6-a953-9afeaf730274",
   "metadata": {},
   "outputs": [],
   "source": [
    "sns.barplot(pln_results, x=TARGET_METRIC, y='org_name')"
   ]
  },
  {
   "cell_type": "markdown",
   "id": "c2381c61-0f4f-4b3c-9b64-c6eb1e9f5fc6",
   "metadata": {},
   "source": [
    "### Comparison with previous models"
   ]
  },
  {
   "cell_type": "code",
   "execution_count": null,
   "id": "1f8bfb06-e368-4340-bd62-47f0aeff3b64",
   "metadata": {
    "editable": true,
    "slideshow": {
     "slide_type": ""
    },
    "tags": [
     "injected-parameters"
    ]
   },
   "outputs": [],
   "source": [
    "cfknnpln_results = pd.concat([\n",
    "    cfknn_results,\n",
    "    index_to_hparams(pln_results.assign(model='plnsim')),\n",
    "])\n",
    "# sns.barplot(cfknnpln_results, x=TARGET_METRIC, y='org_name', hue='model', errorbar=None)\n",
    "px.bar(cfknnpln_results.groupby(['org_name', 'model']).mean(numeric_only=True).reset_index(), x='org_name', y=TARGET_METRIC, color='model', barmode='group')"
   ]
  },
  {
   "cell_type": "markdown",
   "id": "6af6aded-4ed5-4aa8-b668-a7097402c1ba",
   "metadata": {},
   "source": [
    "## LightGCN results"
   ]
  },
  {
   "cell_type": "code",
   "execution_count": null,
   "id": "1eaa75ce-d088-468a-be64-03608b98f05b",
   "metadata": {},
   "outputs": [],
   "source": [
    "gnn_daos = [ d for d in ALL_DAOS if is_nb_ok(d, '21_microsoft_results.ipynb') ]\n",
    "gnn_daos"
   ]
  },
  {
   "cell_type": "code",
   "execution_count": null,
   "id": "eedaa589-8dc5-40f1-91e9-29458e708f84",
   "metadata": {},
   "outputs": [],
   "source": [
    "gnn_results = pd.concat([\n",
    "  paths.get_model_results('lightgcn-best-test', d.org_name, d.splits_freq, d.splits_normalize).assign(**asdict(d))\n",
    "    for d \n",
    "    in sorted(gnn_daos, key=lambda x: x.org_name.lower())\n",
    "])\n",
    "gnn_results"
   ]
  },
  {
   "cell_type": "code",
   "execution_count": null,
   "id": "26604ffb-54ac-491c-8f3d-e5d13d6851bb",
   "metadata": {},
   "outputs": [],
   "source": [
    "from dataclasses import fields\n",
    "\n",
    "MODELS = ['openpop', 'itemknn', 'userknn', 'plnsim', 'lightgcn']\n",
    "\n",
    "all_results = pd.concat([\n",
    "    cfknnpln_results,\n",
    "    index_to_hparams(gnn_results.assign(model='lightgcn')),\n",
    "])\n",
    "\n",
    "_toplot = all_results.groupby(['org_name', 'model']).mean(numeric_only=True).reset_index()\n",
    "_toplot = _toplot.merge(DAOS_DF, on='org_name')\n",
    "# sns.barplot(cfknnpln_results, x=TARGET_METRIC, y='org_name', hue='model', errorbar=None)\n",
    "print(DAOS_DF.columns)\n",
    "px.bar(\n",
    "    _toplot,\n",
    "    x='org_name', \n",
    "    y='map@5',\n",
    "    color='model', \n",
    "    barmode='group', \n",
    "    category_orders={'model': MODELS},\n",
    "    hover_data=['last_fold_date', 'comment', 'folds_avg_open_proposals', 'folds_avg_test_users', 'folds_avg_test_votes', 'folds_avg_test_vpp'],\n",
    ")"
   ]
  },
  {
   "cell_type": "code",
   "execution_count": null,
   "id": "f30555d5-ab92-445b-8edb-8c3786b934cd",
   "metadata": {},
   "outputs": [],
   "source": [
    "from dataclasses import fields\n",
    "\n",
    "MODELS = ['openpop', 'itemknn', 'userknn', 'plnsim', 'lightgcn']\n",
    "\n",
    "all_results = pd.concat([\n",
    "    cfknnpln_results,\n",
    "    index_to_hparams(gnn_results.assign(model='lightgcn')),\n",
    "])\n",
    "\n",
    "_toplot = all_results.groupby(['org_name', 'model']).mean(numeric_only=True).reset_index()\n",
    "_toplot = _toplot.merge(DAOS_DF, on='org_name')\n",
    "# sns.barplot(cfknnpln_results, x=TARGET_METRIC, y='org_name', hue='model', errorbar=None)\n",
    "print(DAOS_DF.columns)\n",
    "px.bar(\n",
    "    _toplot,\n",
    "    x='org_name', \n",
    "    y='precision@1',\n",
    "    color='model', \n",
    "    barmode='group', \n",
    "    category_orders={'model': MODELS},\n",
    "    hover_data=['last_fold_date', 'comment', 'folds_avg_open_proposals', 'folds_avg_test_users', 'folds_avg_test_votes', 'folds_avg_test_vpp'],\n",
    ")"
   ]
  },
  {
   "cell_type": "code",
   "execution_count": null,
   "id": "ed9b48a6-9d40-4001-b48c-c7f65b2d7a1b",
   "metadata": {},
   "outputs": [],
   "source": [
    "from dataclasses import fields\n",
    "\n",
    "MODELS = ['openpop', 'itemknn', 'userknn', 'plnsim', 'lightgcn']\n",
    "\n",
    "all_results = pd.concat([\n",
    "    cfknnpln_results,\n",
    "    index_to_hparams(gnn_results.assign(model='lightgcn')),\n",
    "])\n",
    "\n",
    "_toplot = all_results.groupby(['org_name', 'model']).mean(numeric_only=True).reset_index()\n",
    "_toplot = _toplot.merge(DAOS_DF, on='org_name')\n",
    "# sns.barplot(cfknnpln_results, x=TARGET_METRIC, y='org_name', hue='model', errorbar=None)\n",
    "print(DAOS_DF.columns)\n",
    "px.bar(\n",
    "    _toplot,\n",
    "    x='org_name', \n",
    "    y='r-precision@10',\n",
    "    color='model', \n",
    "    barmode='group', \n",
    "    category_orders={'model': MODELS},\n",
    "    hover_data=['last_fold_date', 'comment', 'folds_avg_open_proposals', 'folds_avg_test_users', 'folds_avg_test_votes', 'folds_avg_test_vpp'],\n",
    ")"
   ]
  },
  {
   "cell_type": "code",
   "execution_count": null,
   "id": "eb76fe89-be78-4f0a-bdb2-084b05beee60",
   "metadata": {},
   "outputs": [],
   "source": [
    "gnn_results['org_name'].unique()"
   ]
  },
  {
   "cell_type": "code",
   "execution_count": null,
   "id": "320fbbd7-58fd-446b-ae97-56b6f94c2416",
   "metadata": {},
   "outputs": [],
   "source": [
    "from dataclasses import fields\n",
    "\n",
    "MODELS = ['openpop', 'itemknn', 'userknn', 'plnsim', 'lightgcn']\n",
    "ALLOWED_DAOS = gnn_results['org_name'].unique()\n",
    "\n",
    "all_results = pd.concat([\n",
    "    cfknnpln_results,\n",
    "    index_to_hparams(gnn_results.assign(model='lightgcn')),\n",
    "])\n",
    "\n",
    "_toplot = all_results.groupby(['org_name', 'model']).mean(numeric_only=True).reset_index()\n",
    "# Remove DAOs with no GNN results\n",
    "_toplot = _toplot[_toplot['org_name'].isin(ALLOWED_DAOS)]\n",
    "_toplot = _toplot.merge(DAOS_DF, on='org_name')\n",
    "# sns.barplot(cfknnpln_results, x=TARGET_METRIC, y='org_name', hue='model', errorbar=None)\n",
    "print(DAOS_DF.columns)\n",
    "px.bar(\n",
    "    _toplot,\n",
    "    x='org_name', \n",
    "    y='map@5',\n",
    "    color='model', \n",
    "    barmode='group', \n",
    "    category_orders={'model': MODELS},\n",
    "    hover_data=['last_fold_date', 'comment', 'folds_avg_open_proposals', 'folds_avg_test_users', 'folds_avg_test_votes', 'folds_avg_test_vpp'],\n",
    ")"
   ]
  },
  {
   "cell_type": "code",
   "execution_count": null,
   "id": "fe1ca6ec-0db5-495c-b4ab-419758638816",
   "metadata": {},
   "outputs": [],
   "source": [
    "models_ok = all_results.groupby('org_name').apply(lambda x: x.groupby('fold').size().nunique() == 1)\n",
    "if not models_ok.all():\n",
    "    print(models_ok[~models_ok])\n",
    "    assert False, 'Some orgs have different models in different folds'"
   ]
  },
  {
   "cell_type": "code",
   "execution_count": null,
   "id": "3d474198-7fcd-4e85-9b4a-73a239f725e5",
   "metadata": {},
   "outputs": [],
   "source": [
    "all_results[all_results['org_name'] == 'Decentraland'][['fold', 'org_name', 'ndcg@10', 'model']]"
   ]
  },
  {
   "cell_type": "code",
   "execution_count": null,
   "id": "7f9db600-18d6-4aa8-b6af-673a08df468b",
   "metadata": {},
   "outputs": [],
   "source": [
    "all_results.groupby('org_name').apply(lambda x: x.groupby('fold').size())"
   ]
  },
  {
   "cell_type": "code",
   "execution_count": null,
   "id": "4f4d8c6f-5a86-40ef-a109-296572e5e62d",
   "metadata": {},
   "outputs": [],
   "source": [
    "all_results.groupby(['org_name', 'fold']).size()"
   ]
  },
  {
   "cell_type": "markdown",
   "id": "29271a21-4dd1-4e20-a102-9c367d914b56",
   "metadata": {},
   "source": [
    "# Comparing all"
   ]
  },
  {
   "cell_type": "code",
   "execution_count": null,
   "id": "917fe929-607a-4f61-b4f6-6111a0732913",
   "metadata": {},
   "outputs": [],
   "source": [
    "all_results"
   ]
  },
  {
   "cell_type": "code",
   "execution_count": null,
   "id": "5306b7cf-72f1-4eb8-b1b7-33e415179ae1",
   "metadata": {},
   "outputs": [],
   "source": [
    "mean_all_results = all_results.groupby(['org_name', 'model']).mean(numeric_only=True).reset_index()\n",
    "mean_all_results = mean_all_results[mean_all_results['org_name'].isin(ALLOWED_DAOS)].merge(DAOS_DF, on='org_name')\n",
    "mean_all_results"
   ]
  },
  {
   "cell_type": "code",
   "execution_count": null,
   "id": "78c0058b-8902-4a50-9e3a-b3234722316e",
   "metadata": {},
   "outputs": [],
   "source": [
    "def lollipop_baseline_vs(metric: str, plot_others: bool = False, plot_worst: bool = True):\n",
    "    _pivot = mean_all_results.pivot(index='org_name', columns='model', values=metric)\n",
    "    _pivot['best_name'] = _pivot.drop(columns='openpop').idxmax(axis=1)\n",
    "    _pivot['best'] = _pivot.apply(lambda row: row[row['best_name']], axis=1)\n",
    "    _pivot['worst_name'] = _pivot.drop(columns=['openpop', 'best_name']).idxmin(axis=1)\n",
    "    _pivot['worst'] = _pivot.apply(lambda row: row[row['worst_name']], axis=1)\n",
    "    _pivot = _pivot.sort_index(ascending=False, key=lambda x: x.str.lower()).reset_index()\n",
    "    # display(_pivot)\n",
    "    \n",
    "    plt.hlines(y=_pivot.index, xmin=_pivot.min(axis=1, numeric_only=True), xmax=_pivot['best'], color='grey', zorder=1, alpha=0.6)\n",
    "    plt.scatter(_pivot['openpop'], _pivot.index, color='skyblue', label='openpop')\n",
    "    \n",
    "    markers_dict = {\n",
    "        \"itemknn\": \"P\", # plus filled\n",
    "        \"userknn\": \"X\", # cross filled\n",
    "        \"openpop\": \"o\", # circle filled\n",
    "        \"plnsim\": \"s\", # square filled\n",
    "        \"lightgcn\": \"^\", # triangle filled\n",
    "    }\n",
    "    colors_dict = {\n",
    "        \"openpop\": \"lightblue\", # circle filled\n",
    "        \"itemknn\": \"C0\", # plus filled\n",
    "        \"userknn\": \"C1\", # cross filled\n",
    "        \"plnsim\": \"C2\", # square filled\n",
    "        \"lightgcn\": \"C3\", # triangle filled\n",
    "    }\n",
    "    \n",
    "    for m in _pivot['best_name'].unique():\n",
    "        if plot_others:\n",
    "            _aux = _pivot[_pivot['best_name'] != m]\n",
    "            plt.scatter(_aux[m], _aux.index, marker=markers_dict[m], color=colors_dict[m], s=15)\n",
    "        \n",
    "        _aux = _pivot[_pivot['best_name'] == m]\n",
    "        plt.scatter(_aux['best'], _aux.index, marker=markers_dict[m], color=colors_dict[m], label=m, s=35)\n",
    "\n",
    "        if plot_worst:\n",
    "            _aux = _pivot[_pivot['worst_name'] == m]\n",
    "            plt.scatter(_aux['worst'], _aux.index, marker=markers_dict[m], color=colors_dict[m], s=35)\n",
    "    \n",
    "    \n",
    "    plt.legend(loc='lower left', mode='expand', bbox_to_anchor=(0, 1.02, 1, 0.2), ncol=5, borderaxespad=0, handletextpad=-.2)\n",
    "    plt.yticks(_pivot.index, _pivot['org_name'])\n",
    "    plt.xlabel(metric)\n",
    "    # plt.title(f'Baseline vs. best model {metric}')\n",
    "\n",
    "lollipop_baseline_vs('map@10')\n",
    "plt.xlim((0,1))"
   ]
  },
  {
   "cell_type": "code",
   "execution_count": null,
   "id": "51784cdf-cfc5-4dac-b3b0-61fbac476d99",
   "metadata": {},
   "outputs": [],
   "source": [
    "_metric_cols = [c for c in mean_all_results if '@' in c and '_' not in c]"
   ]
  },
  {
   "cell_type": "code",
   "execution_count": null,
   "id": "04d85b78-8405-466a-867d-61bbd226d942",
   "metadata": {},
   "outputs": [],
   "source": [
    "sns.set_context('paper')\n",
    "\n",
    "metric = 'map@10'\n",
    "for metric in tqdm(_metric_cols):\n",
    "    plt.figure()\n",
    "    lollipop_baseline_vs(metric)\n",
    "    plt.savefig(f'../figures/all_results/lollipop_results_{metric}.png', dpi=600, bbox_inches='tight')\n",
    "    plt.close()\n",
    "\n",
    "sns.set_context('notebook')"
   ]
  },
  {
   "cell_type": "markdown",
   "id": "b62f563c-ffc4-43fb-93ad-9dbba9a990c1",
   "metadata": {},
   "source": [
    "## Choosing \"the best\"\n",
    "\n",
    "In this section we will try to fill the question: what is the best overall model? And if that method is consistent among metrics"
   ]
  },
  {
   "cell_type": "code",
   "execution_count": null,
   "id": "e6811356-de9f-4d30-bc6c-f70dbe4c4775",
   "metadata": {},
   "outputs": [],
   "source": [
    "_table = mean_all_results.groupby('model')[_metric_cols].median().T\n",
    "\n",
    "def highlight_max(s):\n",
    "    return np.where(s == s.max(), 'background-color: yellow', '')\n",
    "_table.style.apply(highlight_max, axis=1)"
   ]
  },
  {
   "cell_type": "markdown",
   "id": "526f371a-a82d-42b2-a50e-9136b41a4b81",
   "metadata": {},
   "source": [
    "This is very unreliable because we are comparing between models results. It will prioritize models that perhaps have a higher baseline. Let's not check how much each model is against the baseline."
   ]
  },
  {
   "cell_type": "code",
   "execution_count": null,
   "id": "af40513e-d6e9-42ce-88f5-2bfb24477a94",
   "metadata": {},
   "outputs": [],
   "source": [
    "def _rel_to_openpop(df: pd.DataFrame):\n",
    "    df = df.set_index('model')[_metric_cols]\n",
    "    return df.div(df.loc['openpop'])\n",
    "    \n",
    "rel_all_results = mean_all_results.groupby('org_name').apply(_rel_to_openpop, include_groups=False)\n",
    "rel_all_results"
   ]
  },
  {
   "cell_type": "code",
   "execution_count": null,
   "id": "c942d222-a15d-41d1-a39d-052c2fc4aa74",
   "metadata": {},
   "outputs": [],
   "source": [
    "rel_all_results.groupby('model').median().T.style.apply(highlight_max, axis=1)"
   ]
  },
  {
   "cell_type": "code",
   "execution_count": null,
   "id": "e6015b7f-949e-4552-8051-ea1c7bfcc3a3",
   "metadata": {},
   "outputs": [],
   "source": [
    "def _abs_to_openpop(df: pd.DataFrame):\n",
    "    df = df.set_index('model')[_metric_cols]\n",
    "    return df.sub(df.loc['openpop'])\n",
    "    \n",
    "abs_all_results = mean_all_results.groupby('org_name').apply(_abs_to_openpop, include_groups=False)\n",
    "abs_all_results"
   ]
  },
  {
   "cell_type": "code",
   "execution_count": null,
   "id": "2fc426d2-6d0b-400f-8bf7-67088d345455",
   "metadata": {},
   "outputs": [],
   "source": [
    "abs_all_results.groupby('model').median().T.style.apply(highlight_max, axis=1)"
   ]
  },
  {
   "cell_type": "markdown",
   "id": "2b68addc-6091-45b8-a70f-3d5a7dfb8afc",
   "metadata": {},
   "source": [
    "## How many times does each model win the baseline"
   ]
  },
  {
   "cell_type": "code",
   "execution_count": null,
   "id": "cb2663f5-d7de-4974-b0e0-ebb884be4668",
   "metadata": {},
   "outputs": [],
   "source": [
    "def _better_than_openpop(df: pd.DataFrame):\n",
    "    df = df.set_index('model')[_metric_cols]\n",
    "    return df > df.loc['openpop']\n",
    "\n",
    "bool_all_results = mean_all_results.groupby('org_name').apply(_better_than_openpop, include_groups=False)\n",
    "bool_all_results"
   ]
  },
  {
   "cell_type": "code",
   "execution_count": null,
   "id": "bb9cc5e9-d641-4291-bba0-ee036fea9870",
   "metadata": {},
   "outputs": [],
   "source": [
    "bool_all_results.groupby('model').sum().T.style.apply(highlight_max, axis=1)"
   ]
  },
  {
   "cell_type": "markdown",
   "id": "9f3a2600-ec1a-4728-b9d9-8fb263fb64f9",
   "metadata": {},
   "source": [
    "## How many times is that model the best"
   ]
  },
  {
   "cell_type": "code",
   "execution_count": null,
   "id": "52f6e59d-73f3-487d-98fa-20a3e20f80fa",
   "metadata": {},
   "outputs": [],
   "source": [
    "def _is_best(df: pd.DataFrame):\n",
    "    df = df.set_index('model')[_metric_cols]\n",
    "    return df == df.max(axis=0)\n",
    "\n",
    "is_best_all_results = mean_all_results.groupby('org_name').apply(_is_best, include_groups=False)\n",
    "is_best_all_results"
   ]
  },
  {
   "cell_type": "code",
   "execution_count": null,
   "id": "a07d7574-3bad-47ca-b31b-6d1d2333ad34",
   "metadata": {},
   "outputs": [],
   "source": [
    "is_best_all_results.groupby('model').sum().T.style.apply(highlight_max, axis=1)"
   ]
  }
 ],
 "metadata": {
  "kernelspec": {
   "display_name": "Python 3 (ipykernel)",
   "language": "python",
   "name": "python3"
  },
  "language_info": {
   "codemirror_mode": {
    "name": "ipython",
    "version": 3
   },
   "file_extension": ".py",
   "mimetype": "text/x-python",
   "name": "python",
   "nbconvert_exporter": "python",
   "pygments_lexer": "ipython3",
   "version": "3.11.6"
  },
  "widgets": {
   "application/vnd.jupyter.widget-state+json": {
    "state": {},
    "version_major": 2,
    "version_minor": 0
   }
  }
 },
 "nbformat": 4,
 "nbformat_minor": 5
}
