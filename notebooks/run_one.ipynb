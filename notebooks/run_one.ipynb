{
 "cells": [
  {
   "cell_type": "markdown",
   "id": "774f1c80-808f-46a8-b527-547878f8e815",
   "metadata": {},
   "source": [
    "This notebook receives hyperparameters and runs all notebooks that start with a number in this folder"
   ]
  },
  {
   "cell_type": "markdown",
   "id": "d55bfc4e-bf40-4029-906b-d9e008ee8d5d",
   "metadata": {},
   "source": [
    "## Getting notebook names"
   ]
  },
  {
   "cell_type": "code",
   "execution_count": null,
   "id": "0e0ea65a-e0e2-4f18-a592-489ac1a43a3f",
   "metadata": {},
   "outputs": [],
   "source": [
    "from pathlib import Path\n",
    "import re\n",
    "import datetime as dt\n",
    "\n",
    "from tqdm.autonotebook import tqdm\n",
    "import papermill as pm"
   ]
  },
  {
   "cell_type": "code",
   "execution_count": null,
   "id": "4c80051c-c730-4290-96f2-bc6e0ee8cc80",
   "metadata": {
    "editable": true,
    "slideshow": {
     "slide_type": ""
    },
    "tags": []
   },
   "outputs": [],
   "source": [
    "all_notebooks = Path('.').glob('*.ipynb')\n",
    "run_notebooks = sorted(p for p in all_notebooks if re.match(r'\\d+_', p.name))\n",
    "run_notebooks"
   ]
  },
  {
   "cell_type": "markdown",
   "id": "ce2dc141-0570-47f6-a425-cb5478f96a38",
   "metadata": {
    "editable": true,
    "slideshow": {
     "slide_type": ""
    },
    "tags": []
   },
   "source": [
    "## Running papermill on notebooks\n",
    "\n",
    "We will use papermill and nbconvert to run notebooks that were not completed. Every notebook should have the following [parameters](https://papermill.readthedocs.io/en/latest/usage-parameterize.html):\n",
    "- ORG_NAME: The name of the organization, see the folders in [data/input](../data/README.md)\n",
    "- SPLITS_FREQ: The frequency of the splits\n",
    "- SPLITS_NORMALIZE: Wether to normalize the splits\n",
    "- LAST_FOLDS: How many folds to use to train and eval (using cvtt)"
   ]
  },
  {
   "cell_type": "markdown",
   "id": "75dace09-ca31-44e6-bda9-851556007af0",
   "metadata": {},
   "source": [
    "### Notebook parameters"
   ]
  },
  {
   "cell_type": "code",
   "execution_count": null,
   "id": "97ef71dc-0c09-4641-be3c-71435cdcf562",
   "metadata": {
    "editable": true,
    "slideshow": {
     "slide_type": ""
    },
    "tags": []
   },
   "outputs": [],
   "source": [
    "ORG_NAME = 'Decentraland'\n",
    "SPLITS_FREQ = 'W-THU'  # Split weekly\n",
    "LAST_FOLDS = 10  # Use just last 10 folds\n",
    "SPLITS_NORMALIZE = True\n",
    "\n",
    "EXECUTION_ID: bool = dt.datetime.utcnow().isoformat() # Used to see wether to skip completed notebooks\n",
    "OUTPUT_PATH: str = '../nbout/'"
   ]
  },
  {
   "cell_type": "markdown",
   "id": "6dbbe60d-2de8-47f4-bce5-5f5708886507",
   "metadata": {
    "editable": true,
    "slideshow": {
     "slide_type": ""
    },
    "tags": []
   },
   "source": [
    "### Run"
   ]
  },
  {
   "cell_type": "code",
   "execution_count": null,
   "id": "35eca772-0413-47cf-a83f-d7e1a137a1f9",
   "metadata": {
    "editable": true,
    "slideshow": {
     "slide_type": ""
    },
    "tags": []
   },
   "outputs": [],
   "source": [
    "from recsys4daos.utils.notebooks import run_dao_notebook"
   ]
  },
  {
   "cell_type": "code",
   "execution_count": null,
   "id": "00058655-e6f4-4c27-b56b-a81629ef0aa4",
   "metadata": {
    "editable": true,
    "slideshow": {
     "slide_type": ""
    },
    "tags": []
   },
   "outputs": [],
   "source": [
    "for nb in tqdm(run_notebooks):\n",
    "    run_dao_notebook(\n",
    "        nb,\n",
    "        OUTPUT_PATH,\n",
    "        EXECUTION_ID,\n",
    "        ORG_NAME=ORG_NAME,\n",
    "        SPLITS_FREQ=SPLITS_FREQ,\n",
    "        LAST_FOLDS=LAST_FOLDS,\n",
    "        SPLITS_NORMALIZE=SPLITS_NORMALIZE,\n",
    "    )"
   ]
  }
 ],
 "metadata": {
  "kernelspec": {
   "display_name": "Python 3 (ipykernel)",
   "language": "python",
   "name": "python3"
  },
  "language_info": {
   "codemirror_mode": {
    "name": "ipython",
    "version": 3
   },
   "file_extension": ".py",
   "mimetype": "text/x-python",
   "name": "python",
   "nbconvert_exporter": "python",
   "pygments_lexer": "ipython3",
   "version": "3.11.6"
  },
  "widgets": {
   "application/vnd.jupyter.widget-state+json": {
    "state": {
     "2eadbd4d4e0248e3b8c1ed5eb1bb8c61": {
      "model_module": "@jupyter-widgets/base",
      "model_module_version": "2.0.0",
      "model_name": "LayoutModel",
      "state": {}
     },
     "46bfec7ffba9429cab1899dc7da660ae": {
      "model_module": "@jupyter-widgets/controls",
      "model_module_version": "2.0.0",
      "model_name": "HTMLModel",
      "state": {
       "layout": "IPY_MODEL_4ab95b7e3de64a30b32bcadd824daa1c",
       "style": "IPY_MODEL_86859666887b40e899d0a2ec34ceab35",
       "value": " 21/21 [00:05&lt;00:00,  5.75cell/s]"
      }
     },
     "4ab95b7e3de64a30b32bcadd824daa1c": {
      "model_module": "@jupyter-widgets/base",
      "model_module_version": "2.0.0",
      "model_name": "LayoutModel",
      "state": {}
     },
     "66e584f4694243b4b45ed609ba2118c1": {
      "model_module": "@jupyter-widgets/controls",
      "model_module_version": "2.0.0",
      "model_name": "FloatProgressModel",
      "state": {
       "bar_style": "danger",
       "layout": "IPY_MODEL_2eadbd4d4e0248e3b8c1ed5eb1bb8c61",
       "max": 7,
       "style": "IPY_MODEL_6b0f388c9582485185985adf1c372f7f",
       "value": 1
      }
     },
     "6b0f388c9582485185985adf1c372f7f": {
      "model_module": "@jupyter-widgets/controls",
      "model_module_version": "2.0.0",
      "model_name": "ProgressStyleModel",
      "state": {
       "description_width": ""
      }
     },
     "6e94d5a1c4af485eab27b34685d1a6d6": {
      "model_module": "@jupyter-widgets/controls",
      "model_module_version": "2.0.0",
      "model_name": "HTMLStyleModel",
      "state": {
       "description_width": "",
       "font_size": null,
       "text_color": null
      }
     },
     "72f0bd0ae416492586f229c5468b6efc": {
      "model_module": "@jupyter-widgets/controls",
      "model_module_version": "2.0.0",
      "model_name": "HTMLModel",
      "state": {
       "layout": "IPY_MODEL_a8712e1129da4c2c837c0bcb27806bfc",
       "style": "IPY_MODEL_c5ba2d3e41de410b9278d2504221c8d6",
       "value": "Executing: 100%"
      }
     },
     "7fdc1f5c27a94f399a5d52f1cce3cad0": {
      "model_module": "@jupyter-widgets/base",
      "model_module_version": "2.0.0",
      "model_name": "LayoutModel",
      "state": {}
     },
     "7fe18e0ed5174b6290d07b662144ab75": {
      "model_module": "@jupyter-widgets/base",
      "model_module_version": "2.0.0",
      "model_name": "LayoutModel",
      "state": {}
     },
     "80185f62adf24a4ca1c355101d87a05c": {
      "model_module": "@jupyter-widgets/controls",
      "model_module_version": "2.0.0",
      "model_name": "HBoxModel",
      "state": {
       "children": [
        "IPY_MODEL_8541cbab029b4c009809e649ad523540",
        "IPY_MODEL_66e584f4694243b4b45ed609ba2118c1",
        "IPY_MODEL_fbd818e98e8947598d5826561b1cce9c"
       ],
       "layout": "IPY_MODEL_7fe18e0ed5174b6290d07b662144ab75"
      }
     },
     "8541cbab029b4c009809e649ad523540": {
      "model_module": "@jupyter-widgets/controls",
      "model_module_version": "2.0.0",
      "model_name": "HTMLModel",
      "state": {
       "layout": "IPY_MODEL_e68a11daa25b42758c28b0364bc57664",
       "style": "IPY_MODEL_6e94d5a1c4af485eab27b34685d1a6d6",
       "value": " 14%"
      }
     },
     "86859666887b40e899d0a2ec34ceab35": {
      "model_module": "@jupyter-widgets/controls",
      "model_module_version": "2.0.0",
      "model_name": "HTMLStyleModel",
      "state": {
       "description_width": "",
       "font_size": null,
       "text_color": null
      }
     },
     "8c89a748f8144d89aabc96296d64f0c0": {
      "model_module": "@jupyter-widgets/controls",
      "model_module_version": "2.0.0",
      "model_name": "HTMLStyleModel",
      "state": {
       "description_width": "",
       "font_size": null,
       "text_color": null
      }
     },
     "8e8c04c767704feaa29f37d5a991a1fe": {
      "model_module": "@jupyter-widgets/base",
      "model_module_version": "2.0.0",
      "model_name": "LayoutModel",
      "state": {}
     },
     "a8712e1129da4c2c837c0bcb27806bfc": {
      "model_module": "@jupyter-widgets/base",
      "model_module_version": "2.0.0",
      "model_name": "LayoutModel",
      "state": {}
     },
     "ac7874ca105141348f9a065cf33066d0": {
      "model_module": "@jupyter-widgets/controls",
      "model_module_version": "2.0.0",
      "model_name": "HBoxModel",
      "state": {
       "children": [
        "IPY_MODEL_72f0bd0ae416492586f229c5468b6efc",
        "IPY_MODEL_df4ee5341375441da0774a0038cfd64a",
        "IPY_MODEL_46bfec7ffba9429cab1899dc7da660ae"
       ],
       "layout": "IPY_MODEL_8e8c04c767704feaa29f37d5a991a1fe"
      }
     },
     "c5ba2d3e41de410b9278d2504221c8d6": {
      "model_module": "@jupyter-widgets/controls",
      "model_module_version": "2.0.0",
      "model_name": "HTMLStyleModel",
      "state": {
       "description_width": "",
       "font_size": null,
       "text_color": null
      }
     },
     "d10547f2273948dca25656107c210f2a": {
      "model_module": "@jupyter-widgets/base",
      "model_module_version": "2.0.0",
      "model_name": "LayoutModel",
      "state": {}
     },
     "df4ee5341375441da0774a0038cfd64a": {
      "model_module": "@jupyter-widgets/controls",
      "model_module_version": "2.0.0",
      "model_name": "FloatProgressModel",
      "state": {
       "bar_style": "success",
       "layout": "IPY_MODEL_7fdc1f5c27a94f399a5d52f1cce3cad0",
       "max": 21,
       "style": "IPY_MODEL_fa85f12f1e824f2e85280e44e0568cf3",
       "value": 21
      }
     },
     "e68a11daa25b42758c28b0364bc57664": {
      "model_module": "@jupyter-widgets/base",
      "model_module_version": "2.0.0",
      "model_name": "LayoutModel",
      "state": {}
     },
     "fa85f12f1e824f2e85280e44e0568cf3": {
      "model_module": "@jupyter-widgets/controls",
      "model_module_version": "2.0.0",
      "model_name": "ProgressStyleModel",
      "state": {
       "description_width": ""
      }
     },
     "fbd818e98e8947598d5826561b1cce9c": {
      "model_module": "@jupyter-widgets/controls",
      "model_module_version": "2.0.0",
      "model_name": "HTMLModel",
      "state": {
       "layout": "IPY_MODEL_d10547f2273948dca25656107c210f2a",
       "style": "IPY_MODEL_8c89a748f8144d89aabc96296d64f0c0",
       "value": " 1/7 [00:05&lt;00:33,  5.54s/it]"
      }
     }
    },
    "version_major": 2,
    "version_minor": 0
   }
  }
 },
 "nbformat": 4,
 "nbformat_minor": 5
}
