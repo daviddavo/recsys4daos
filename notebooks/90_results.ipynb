{
 "cells": [
  {
   "cell_type": "code",
   "execution_count": null,
   "id": "37b58ad9-1a41-4767-9779-282fd81dfd7d",
   "metadata": {
    "editable": true,
    "slideshow": {
     "slide_type": ""
    },
    "tags": []
   },
   "outputs": [],
   "source": [
    "import numpy as np\n",
    "import pandas as pd\n",
    "\n",
    "import paths\n",
    "\n",
    "# TODO: Deleteme after developing\n",
    "%load_ext autoreload\n",
    "%autoreload 2"
   ]
  },
  {
   "cell_type": "markdown",
   "id": "0508de59-9f46-4da9-a682-a7573a0c24f4",
   "metadata": {},
   "source": [
    "## Params"
   ]
  },
  {
   "cell_type": "code",
   "execution_count": null,
   "id": "5171b857-3555-4c77-9561-f94393cb377b",
   "metadata": {
    "editable": true,
    "slideshow": {
     "slide_type": ""
    },
    "tags": [
     "parameters"
    ]
   },
   "outputs": [],
   "source": [
    "ORG_NAME = 'Decentraland'\n",
    "SPLITS_FREQ = 'W-THU'  # Split weekly\n",
    "LAST_FOLDS = 10  # Use just last 10 splits\n",
    "SPLITS_NORMALIZE = True\n",
    "\n",
    "# Specific to this notebook\n",
    "MODEL_NAMES = [\n",
    "    'itemknn',\n",
    "    'userknn',\n",
    "    'plnsim',\n",
    "]\n",
    "NEEDED_COLS = [\n",
    "    'time_train',\n",
    "    'time_rec',\n",
    "    'time_eval',\n",
    "]"
   ]
  },
  {
   "cell_type": "markdown",
   "id": "4e3b1e45-4cb8-412e-8704-b79fd5e5e634",
   "metadata": {},
   "source": [
    "## Read baselines"
   ]
  },
  {
   "cell_type": "code",
   "execution_count": null,
   "id": "b05f30da-edc8-400f-b9e5-c2f254a80a93",
   "metadata": {},
   "outputs": [],
   "source": [
    "dfo = paths.load_openpop(ORG_NAME, SPLITS_FREQ, SPLITS_NORMALIZE)\n",
    "dfo"
   ]
  },
  {
   "cell_type": "code",
   "execution_count": null,
   "id": "0add73c2-97f6-4ebb-8dc2-e76a670072cc",
   "metadata": {},
   "outputs": [],
   "source": [
    "dfp = paths.load_perfect(ORG_NAME, SPLITS_FREQ, SPLITS_NORMALIZE)\n",
    "dfp"
   ]
  },
  {
   "cell_type": "markdown",
   "id": "be876b79-3221-426e-a808-b96e6867452c",
   "metadata": {},
   "source": [
    "## Get other model results"
   ]
  },
  {
   "cell_type": "code",
   "execution_count": null,
   "id": "feeed78a-39bd-49bd-ba4c-0f3c7e0327b7",
   "metadata": {},
   "outputs": [],
   "source": [
    "def load_all_results_from_suffix(suffix):\n",
    "    return pd.concat((\n",
    "        paths.get_model_results(\n",
    "            f'{mn}-best-{suffix}', \n",
    "            ORG_NAME, \n",
    "            SPLITS_FREQ, \n",
    "            SPLITS_NORMALIZE\n",
    "        ).assign(model_name=mn,results_suffix=suffix) for mn in MODEL_NAMES))\n",
    "\n",
    "load_all_results_from_suffix('avg')"
   ]
  },
  {
   "cell_type": "code",
   "execution_count": null,
   "id": "0f1e231a-04eb-404a-8781-4ba9a589de80",
   "metadata": {},
   "outputs": [],
   "source": [
    "# Using the hparams that optimize the average results\n",
    "rdf_avg = load_all_results_from_suffix('avg')\n",
    "# Using the hparams that optimize that fold\n",
    "rdf_test = load_all_results_from_suffix('test')\n",
    "# Using the hparams that optimized the previous fold on the next fold (CVTT)\n",
    "rdf_valid = load_all_results_from_suffix('valid')"
   ]
  },
  {
   "cell_type": "code",
   "execution_count": null,
   "id": "f694af31-69a3-4809-b132-6e153bef0709",
   "metadata": {},
   "outputs": [],
   "source": [
    "model_suffixes = [\n",
    "    'avg', # Using the hparams that optimize the average results\n",
    "    'test', # Using the hparams that optimize that fold\n",
    "    'valid', # Using the hparams that optimized the previous fold on the next fold (CVTT)\n",
    "]"
   ]
  },
  {
   "cell_type": "code",
   "execution_count": null,
   "id": "2105efab-91c4-49f7-b732-a87f2f7da6b6",
   "metadata": {},
   "outputs": [],
   "source": [
    "paths.get_model_results(MODEL_NAMES[0]+'-best-avg', ORG_NAME, SPLITS_FREQ, SPLITS_NORMALIZE)"
   ]
  }
 ],
 "metadata": {
  "kernelspec": {
   "display_name": "Python 3 (ipykernel)",
   "language": "python",
   "name": "python3"
  },
  "language_info": {
   "codemirror_mode": {
    "name": "ipython",
    "version": 3
   },
   "file_extension": ".py",
   "mimetype": "text/x-python",
   "name": "python",
   "nbconvert_exporter": "python",
   "pygments_lexer": "ipython3",
   "version": "3.11.6"
  },
  "widgets": {
   "application/vnd.jupyter.widget-state+json": {
    "state": {},
    "version_major": 2,
    "version_minor": 0
   }
  }
 },
 "nbformat": 4,
 "nbformat_minor": 5
}
