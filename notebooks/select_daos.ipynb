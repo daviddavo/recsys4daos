{
 "cells": [
  {
   "cell_type": "markdown",
   "id": "8b7f6927-ef0a-42fb-badb-7763a732c72d",
   "metadata": {},
   "source": [
    "In this notebook we will explore the daos census dataset to select which DAOs we want to run the recommender system against"
   ]
  },
  {
   "cell_type": "code",
   "execution_count": null,
   "id": "d06f301c-7735-42be-9bf0-d555a5dd3f4e",
   "metadata": {},
   "outputs": [],
   "source": [
    "from pathlib import Path\n",
    "import datetime as dt\n",
    "\n",
    "import numpy as np\n",
    "import pandas as pd\n",
    "\n",
    "import duckdb\n",
    "\n",
    "%load_ext sql\n",
    "%config SqlMagic.autopandas = True"
   ]
  },
  {
   "cell_type": "code",
   "execution_count": null,
   "id": "b16caaa9-8b15-462e-970c-628a9850f689",
   "metadata": {},
   "outputs": [],
   "source": [
    "KAGGLE_DATASET: str = 'daviddavo/daos-census-tfm'\n",
    "AUX_PATH: Path = Path('~/Downloads/daos-census-tfm').expanduser()\n",
    "CUTOFF_DATE = None\n",
    "\n",
    "# This dictionary merges different deployments into one organization\n",
    "ORGS_DICT: dict[str, list[str]] = {\n",
    "    'dxDAO - xDXdao': ['dxDAO', 'xDXdao'],\n",
    "    'Aave - Aavegotchi': ['Aave', 'Aavegotchi', 'AAVE'],\n",
    "    'MetaCartel - MetaCartel Ventures': ['MetaCartel Ventures', 'MetaCartel xDai', 'MetaCartel DAO'],\n",
    "}"
   ]
  },
  {
   "cell_type": "markdown",
   "id": "40f554d9-47be-4b65-8b0f-6821d9490d08",
   "metadata": {},
   "source": [
    "## Download dataset if it does not exist"
   ]
  },
  {
   "cell_type": "code",
   "execution_count": null,
   "id": "68f42507-a522-4e6a-b26d-fc8dd16ff7fa",
   "metadata": {},
   "outputs": [],
   "source": [
    "import kaggle"
   ]
  },
  {
   "cell_type": "code",
   "execution_count": null,
   "id": "77067bbe-4046-4951-b8d0-14fe486d3da0",
   "metadata": {},
   "outputs": [],
   "source": [
    "if not AUX_PATH.exists():\n",
    "    kaggle.api.dataset_download_cli(KAGGLE_DATASET, path=AUX_PATH, unzip=True)"
   ]
  },
  {
   "cell_type": "markdown",
   "id": "db6894a8-fb7d-4b95-b266-601a9e4ed82d",
   "metadata": {},
   "source": [
    "## Processing the dataset"
   ]
  },
  {
   "cell_type": "code",
   "execution_count": null,
   "id": "f7d6505c-a048-44aa-a442-0e9c53fbdf47",
   "metadata": {},
   "outputs": [],
   "source": [
    "def _list2sql(lst: list[str]) -> str:\n",
    "    return \"\".join([\"(\", \", \".join(map(\"'{}'\".format, lst)), \")\"])\n",
    "\n",
    "def _gen_orgs_query(parquet: Path) -> str:\n",
    "    _casestr = \"    WHEN name IN {caselst} THEN '{orgname}'\"\n",
    "\n",
    "    _cases = \"\\n\".join(_casestr.format(\n",
    "        orgname=orgname,\n",
    "        caselst=_list2sql(caselst),\n",
    "    ) for orgname, caselst in ORGS_DICT.items())\n",
    "    \n",
    "    return f\"\"\"\n",
    "CREATE VIEW deployments AS\n",
    "SELECT * EXCLUDE (name),\n",
    "    name AS deployment_name,\n",
    "    CASE \n",
    "{_cases}\n",
    "    ELSE name\n",
    "    END AS name\n",
    "FROM parquet_scan('{parquet}')\n",
    "    \"\"\""
   ]
  },
  {
   "cell_type": "markdown",
   "id": "ea12ba15-ee8d-459e-909d-027063aafd16",
   "metadata": {},
   "source": [
    "### Import from the parquets"
   ]
  },
  {
   "cell_type": "code",
   "execution_count": null,
   "id": "6e07f012-f5cf-4140-8266-15001f86ac29",
   "metadata": {},
   "outputs": [],
   "source": [
    "db = duckdb.connect(database=':memory:', read_only=False)\n",
    "# db.execute(_gen_orgs_query(AUX_PATH / 'deployments.parquet'))\n",
    "_cond_date = \"\"\n",
    "if CUTOFF_DATE:\n",
    "    _cond_date = f\"WHERE date <= '{CUTOFF_DATE.isoformat()}'\"\n",
    "print(_cond_date)\n",
    "\n",
    "db.execute(\"CREATE VIEW deployments AS SELECT * FROM parquet_scan('{}')\".format(AUX_PATH / \"deployments.parquet\"))\n",
    "db.execute(\"CREATE VIEW votes AS SELECT * FROM parquet_scan('{}') {}\".format(AUX_PATH / \"votes.parquet\", _cond_date))\n",
    "db.execute(\"CREATE VIEW proposals AS SELECT * FROM parquet_scan('{}') {}\".format(AUX_PATH / \"proposals-text.parquet\", _cond_date))\n",
    "\n",
    "%sql db --alias duckdb"
   ]
  },
  {
   "cell_type": "code",
   "execution_count": null,
   "id": "24a8758d-d56d-449f-9873-c651eaf1a2d4",
   "metadata": {},
   "outputs": [],
   "source": [
    "db.execute(\"SHOW TABLES\").fetchdf()"
   ]
  },
  {
   "cell_type": "code",
   "execution_count": null,
   "id": "6a798116-33e6-4258-bd76-1622bb85d855",
   "metadata": {},
   "outputs": [],
   "source": [
    "%%sql\n",
    "SHOW TABLES"
   ]
  },
  {
   "cell_type": "code",
   "execution_count": null,
   "id": "aca6a1d3-a118-409d-aca2-d98764e6c10c",
   "metadata": {},
   "outputs": [],
   "source": [
    "%%sql\n",
    "SELECT * FROM duckdb_columns() WHERE table_name IN ('deployments')"
   ]
  },
  {
   "cell_type": "code",
   "execution_count": null,
   "id": "9b9b71c1-52f4-4ff8-9622-91f5995aa400",
   "metadata": {},
   "outputs": [],
   "source": [
    "_casestr = \"WHEN name IN {caselst} THEN '{orgname}'\"\n",
    "\n",
    "_cases = \"\\n\".join(_casestr.format(\n",
    "    orgname=orgname,\n",
    "    caselst=_list2sql(caselst),\n",
    ") for orgname, caselst in ORGS_DICT.items())\n",
    "print(_cases)"
   ]
  },
  {
   "cell_type": "code",
   "execution_count": null,
   "id": "f0dd9606-931d-4230-81e7-f1672a9222db",
   "metadata": {},
   "outputs": [],
   "source": [
    "%%sql\n",
    "CREATE OR REPLACE VIEW orgs AS\n",
    "    WITH G AS (WITH Gv AS (\n",
    "            SELECT *,\n",
    "                CASE\n",
    "                    {{_cases}}\n",
    "                    ELSE name\n",
    "                END AS orgname\n",
    "            FROM deployments\n",
    "            LEFT JOIN votes ON (deployments.id = votes.deployment_id)\n",
    "            -- WHERE platform IN ({platforms})\n",
    "        )\n",
    "        SELECT \n",
    "            orgname AS name,\n",
    "            COUNT(DISTINCT Gv.id) AS n_deploys,\n",
    "            LIST(DISTINCT Gv.id) AS deploys,\n",
    "            LIST(DISTINCT Gv.platform) AS platforms,\n",
    "            LIST(DISTINCT Gv.platform_deployment_id) AS platform_ids,\n",
    "            COUNT(DISTINCT Gv.proposal_id) AS proposals_count,\n",
    "            COUNT(DISTINCT Gv.voter) AS voters_count,\n",
    "            COUNT(*) AS votes_count,\n",
    "        FROM Gv\n",
    "        GROUP BY Gv.orgname\n",
    "    )\n",
    "    SELECT\n",
    "        *,\n",
    "        proposals_count + voters_count AS nodes,\n",
    "        2*(votes_count)/((voters_count + proposals_count)*(voters_count + proposals_count-1)) AS density_naive,\n",
    "        2*(votes_count)/(voters_count*proposals_count) AS density,\n",
    "        votes_count/proposals_count AS vpp, \n",
    "        votes_count/voters_count AS vpv\n",
    "    FROM G\n",
    "    ORDER BY proposals_count DESC"
   ]
  },
  {
   "cell_type": "code",
   "execution_count": null,
   "id": "0bb9d160-9220-4cca-8e6d-31104b455192",
   "metadata": {},
   "outputs": [],
   "source": [
    "%%sql\n",
    "SELECT *\n",
    "FROM orgs\n",
    "WHERE lower(name) LIKE '%dorg%'\n",
    "LIMIT 5"
   ]
  },
  {
   "cell_type": "code",
   "execution_count": null,
   "id": "80547cec-873d-4b6a-88fd-d5ed5f29cdb4",
   "metadata": {},
   "outputs": [],
   "source": [
    "%%sql df_all <<\n",
    "SELECT *\n",
    "FROM orgs\n",
    "WHERE proposals_count > 300\n",
    "    AND name IS NOT NULL"
   ]
  },
  {
   "cell_type": "code",
   "execution_count": null,
   "id": "9b6435ec-5db6-40bc-93f0-8aeb400203f6",
   "metadata": {},
   "outputs": [],
   "source": [
    "df_all"
   ]
  },
  {
   "cell_type": "code",
   "execution_count": null,
   "id": "1c287aa2-923d-4d1d-9229-941e3b998a9e",
   "metadata": {},
   "outputs": [],
   "source": []
  }
 ],
 "metadata": {
  "kernelspec": {
   "display_name": "Python 3 (ipykernel)",
   "language": "python",
   "name": "python3"
  },
  "language_info": {
   "codemirror_mode": {
    "name": "ipython",
    "version": 3
   },
   "file_extension": ".py",
   "mimetype": "text/x-python",
   "name": "python",
   "nbconvert_exporter": "python",
   "pygments_lexer": "ipython3",
   "version": "3.11.6"
  },
  "widgets": {
   "application/vnd.jupyter.widget-state+json": {
    "state": {},
    "version_major": 2,
    "version_minor": 0
   }
  }
 },
 "nbformat": 4,
 "nbformat_minor": 5
}
