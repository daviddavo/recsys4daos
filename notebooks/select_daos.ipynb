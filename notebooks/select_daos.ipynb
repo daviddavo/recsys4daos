{
 "cells": [
  {
   "cell_type": "markdown",
   "id": "8b7f6927-ef0a-42fb-badb-7763a732c72d",
   "metadata": {},
   "source": [
    "In this notebook we will explore the daos census dataset to select which DAOs we want to run the recommender system against"
   ]
  },
  {
   "cell_type": "code",
   "execution_count": null,
   "id": "d06f301c-7735-42be-9bf0-d555a5dd3f4e",
   "metadata": {},
   "outputs": [],
   "source": [
    "from pathlib import Path\n",
    "import datetime as dt\n",
    "import requests # To see if they are flagged (spam)\n",
    "import requests_cache\n",
    "\n",
    "import numpy as np\n",
    "import pandas as pd\n",
    "\n",
    "from tqdm.autonotebook import tqdm\n",
    "\n",
    "import duckdb\n",
    "\n",
    "tqdm.pandas()\n",
    "requests_cache.install_cache(\n",
    "    cache_control=True,\n",
    "    use_cache_dir=True,\n",
    "    expire_after=dt.timedelta(weeks=1),\n",
    "    allowable_methods=['GET', 'POST'],\n",
    ")\n",
    "\n",
    "%load_ext sql\n",
    "%config SqlMagic.autopandas = True"
   ]
  },
  {
   "cell_type": "code",
   "execution_count": null,
   "id": "b16caaa9-8b15-462e-970c-628a9850f689",
   "metadata": {},
   "outputs": [],
   "source": [
    "KAGGLE_DATASET: str = 'daviddavo/daos-census-tfm'\n",
    "AUX_PATH: Path = Path('~/Downloads/daos-census-tfm').expanduser()\n",
    "CUTOFF_DATE = None\n",
    "\n",
    "PLATFORMS_WITH_TEXT = ['aragon', 'daohaus', 'daostack', 'snapshot']\n",
    "# Also calculate the number of proposals made in the last X weeks or whatever\n",
    "# we will just run the recommender in a certain period, not in all the timespan\n",
    "# so it doesn't make sense to use DAOs with lots of proposals but few of them\n",
    "# where we will run the recommender, and other DAOs with not many proposals\n",
    "# but a lot when we would run the recommender\n",
    "CONSIDER_LAST_PERIOD_STR = '20w'\n",
    "# This dictionary merges different deployments into one organization\n",
    "ORGS_DICT: dict[str, list[str]] = {\n",
    "    'dxDAO - xDXdao': ['dxDAO', 'xDXdao'],\n",
    "    'Aave - Aavegotchi': ['Aave', 'Aavegotchi', 'AAVE'],\n",
    "    'MetaCartel - MetaCartel Ventures': ['MetaCartel Ventures', 'MetaCartel xDai', 'MetaCartel DAO'],\n",
    "}\n",
    "CUSTOM_EXCLUSIONS = {\n",
    "    'snapshot': [\n",
    "        # Not used as a DAO, just bogus proposals\n",
    "        'ppybbbbbb.eth',\n",
    "        \n",
    "        # Not transparent\n",
    "        'vote.nftgoingtozero.eth',\n",
    "    ]\n",
    "}"
   ]
  },
  {
   "cell_type": "code",
   "execution_count": null,
   "id": "e302eeb3-ec47-4927-93a1-8f36f93b24f5",
   "metadata": {},
   "outputs": [],
   "source": [
    "CONSIDER_LAST_PERIOD = pd.Timedelta(CONSIDER_LAST_PERIOD_STR)\n",
    "CONSIDER_LAST_PERIOD"
   ]
  },
  {
   "cell_type": "markdown",
   "id": "40f554d9-47be-4b65-8b0f-6821d9490d08",
   "metadata": {},
   "source": [
    "## Download dataset if it does not exist"
   ]
  },
  {
   "cell_type": "code",
   "execution_count": null,
   "id": "68f42507-a522-4e6a-b26d-fc8dd16ff7fa",
   "metadata": {},
   "outputs": [],
   "source": [
    "import kaggle"
   ]
  },
  {
   "cell_type": "code",
   "execution_count": null,
   "id": "77067bbe-4046-4951-b8d0-14fe486d3da0",
   "metadata": {},
   "outputs": [],
   "source": [
    "if not AUX_PATH.exists():\n",
    "    kaggle.api.dataset_download_cli(KAGGLE_DATASET, path=AUX_PATH, unzip=True)"
   ]
  },
  {
   "cell_type": "markdown",
   "id": "db6894a8-fb7d-4b95-b266-601a9e4ed82d",
   "metadata": {},
   "source": [
    "## Processing the dataset"
   ]
  },
  {
   "cell_type": "code",
   "execution_count": null,
   "id": "f7d6505c-a048-44aa-a442-0e9c53fbdf47",
   "metadata": {},
   "outputs": [],
   "source": [
    "def _list2sql(lst: list[str]) -> str:\n",
    "    return \"\".join([\"(\", \", \".join(map(\"'{}'\".format, lst)), \")\"])\n",
    "\n",
    "def _gen_orgs_query(parquet: Path) -> str:\n",
    "    _casestr = \"    WHEN name IN {caselst} THEN '{orgname}'\"\n",
    "\n",
    "    _cases = \"\\n\".join(_casestr.format(\n",
    "        orgname=orgname,\n",
    "        caselst=_list2sql(caselst),\n",
    "    ) for orgname, caselst in ORGS_DICT.items())\n",
    "    \n",
    "    return f\"\"\"\n",
    "CREATE VIEW deployments AS\n",
    "SELECT * EXCLUDE (name),\n",
    "    name AS deployment_name,\n",
    "    CASE \n",
    "{_cases}\n",
    "    ELSE name\n",
    "    END AS name\n",
    "FROM parquet_scan('{parquet}')\n",
    "    \"\"\""
   ]
  },
  {
   "cell_type": "markdown",
   "id": "ea12ba15-ee8d-459e-909d-027063aafd16",
   "metadata": {},
   "source": [
    "### Import from the parquets"
   ]
  },
  {
   "cell_type": "code",
   "execution_count": null,
   "id": "6e07f012-f5cf-4140-8266-15001f86ac29",
   "metadata": {},
   "outputs": [],
   "source": [
    "db = duckdb.connect(database=':memory:', read_only=False)\n",
    "# db.execute(_gen_orgs_query(AUX_PATH / 'deployments.parquet'))\n",
    "_cond_date = \"\"\n",
    "if CUTOFF_DATE:\n",
    "    _cond_date = f\"WHERE date <= '{CUTOFF_DATE.isoformat()}'\"\n",
    "print(_cond_date)\n",
    "\n",
    "db.execute(\"CREATE VIEW deployments AS SELECT * FROM parquet_scan('{}')\".format(AUX_PATH / \"deployments.parquet\"))\n",
    "db.execute(\"CREATE VIEW votes AS SELECT * FROM parquet_scan('{}') {}\".format(AUX_PATH / \"votes.parquet\", _cond_date))\n",
    "db.execute(\"CREATE VIEW proposals AS SELECT * FROM parquet_scan('{}') {}\".format(AUX_PATH / \"proposals-text.parquet\", _cond_date))\n",
    "\n",
    "%sql db --alias duckdb"
   ]
  },
  {
   "cell_type": "code",
   "execution_count": null,
   "id": "24a8758d-d56d-449f-9873-c651eaf1a2d4",
   "metadata": {},
   "outputs": [],
   "source": [
    "db.execute(\"SHOW TABLES\").fetchdf()"
   ]
  },
  {
   "cell_type": "code",
   "execution_count": null,
   "id": "6a798116-33e6-4258-bd76-1622bb85d855",
   "metadata": {},
   "outputs": [],
   "source": [
    "%%sql\n",
    "SHOW TABLES"
   ]
  },
  {
   "cell_type": "code",
   "execution_count": null,
   "id": "aca6a1d3-a118-409d-aca2-d98764e6c10c",
   "metadata": {},
   "outputs": [],
   "source": [
    "%%sql\n",
    "SELECT * FROM duckdb_columns() WHERE table_name IN ('votes')"
   ]
  },
  {
   "cell_type": "code",
   "execution_count": null,
   "id": "ed109d36-4bf3-4bf6-8d38-c8b7e0193ef0",
   "metadata": {},
   "outputs": [],
   "source": [
    "%%sql\n",
    "SELECT *\n",
    "FROM deployments\n",
    "WHERE name = 'Aura Finance'"
   ]
  },
  {
   "cell_type": "code",
   "execution_count": null,
   "id": "a52cc687-38f8-4408-99fa-d468447b4962",
   "metadata": {},
   "outputs": [],
   "source": [
    "%%sql\n",
    "SELECT COUNT(DISTINCT votes.proposal_id)\n",
    "FROM votes\n",
    "    JOIN deployments ON deployment_id = deployments.id\n",
    "WHERE name = 'Aura Finance'"
   ]
  },
  {
   "cell_type": "code",
   "execution_count": null,
   "id": "9b9b71c1-52f4-4ff8-9622-91f5995aa400",
   "metadata": {},
   "outputs": [],
   "source": [
    "_casestr = \"WHEN name IN {caselst} THEN '{orgname}'\"\n",
    "\n",
    "_cases = \"\\n\".join(_casestr.format(\n",
    "    orgname=orgname,\n",
    "    caselst=_list2sql(caselst),\n",
    ") for orgname, caselst in ORGS_DICT.items())\n",
    "print(_cases)"
   ]
  },
  {
   "cell_type": "markdown",
   "id": "d5ed0204-3d48-45b0-9dce-bdbc5130c8d6",
   "metadata": {},
   "source": [
    "# Get \"orgs\"\n",
    "\n",
    "We merge multiple deployments into one \"organization\", if they have the same name or if they are on the `ORGS_DICT`. We also obtain some useful data."
   ]
  },
  {
   "cell_type": "code",
   "execution_count": null,
   "id": "f0dd9606-931d-4230-81e7-f1672a9222db",
   "metadata": {},
   "outputs": [],
   "source": [
    "%%sql\n",
    "CREATE OR REPLACE VIEW orgs AS\n",
    "    WITH G AS (WITH Gv AS (\n",
    "            SELECT *,\n",
    "                CASE\n",
    "                    {{_cases}}\n",
    "                    ELSE name\n",
    "                END AS orgname\n",
    "            FROM deployments\n",
    "            LEFT JOIN votes ON (deployments.id = votes.deployment_id)\n",
    "            WHERE \n",
    "                platform IN {{_list2sql(PLATFORMS_WITH_TEXT)}} AND\n",
    "                proposals_count > 10\n",
    "        )\n",
    "        SELECT \n",
    "            orgname AS name,\n",
    "            COUNT(DISTINCT Gv.id) AS n_deploys,\n",
    "            LIST(DISTINCT Gv.id) AS deploys,\n",
    "            LIST(DISTINCT Gv.platform) AS platforms,\n",
    "            LIST(DISTINCT Gv.platform_deployment_id) AS platform_ids,\n",
    "            -- Proposals with at least a vote!\n",
    "            COUNT(DISTINCT Gv.proposal_id) AS proposals_count,\n",
    "            -- Users with at least a vote!\n",
    "            COUNT(DISTINCT Gv.voter) AS voters_count,\n",
    "            MAX(Gv.date) AS last_vote,\n",
    "            COUNT(*) AS votes_count,\n",
    "        FROM Gv\n",
    "        GROUP BY Gv.orgname\n",
    "    )\n",
    "    SELECT\n",
    "        *,\n",
    "        proposals_count + voters_count AS nodes,\n",
    "        2*(votes_count)/((voters_count + proposals_count)*(voters_count + proposals_count-1)) AS density_naive,\n",
    "        2*(votes_count)/(voters_count*proposals_count) AS density,\n",
    "        votes_count/proposals_count AS vpp, \n",
    "        votes_count/voters_count AS vpv,\n",
    "    FROM G\n",
    "    ORDER BY proposals_count DESC"
   ]
  },
  {
   "cell_type": "code",
   "execution_count": null,
   "id": "3f97db29-c0e7-4fb1-9ada-d90dfbcbde49",
   "metadata": {},
   "outputs": [],
   "source": [
    "%%sql\n",
    "SELECT *\n",
    "FROM orgs\n",
    "WHERE name = 'Aura Finance'"
   ]
  },
  {
   "cell_type": "code",
   "execution_count": null,
   "id": "80547cec-873d-4b6a-88fd-d5ed5f29cdb4",
   "metadata": {},
   "outputs": [],
   "source": [
    "%%sql df_all <<\n",
    "SELECT *\n",
    "FROM orgs\n",
    "WHERE name is NOT NULL\n",
    "    AND proposals_count > 100"
   ]
  },
  {
   "cell_type": "markdown",
   "id": "17134c84-65a8-4727-8e2e-6003c181b5b7",
   "metadata": {},
   "source": [
    "## Check which daos were marked as SPAM"
   ]
  },
  {
   "cell_type": "code",
   "execution_count": null,
   "id": "1d3cb039-a934-4cd0-9475-a652ed806fc4",
   "metadata": {},
   "outputs": [],
   "source": [
    "def _get_space_flagged(space: str) -> bool:\n",
    "    if space in CUSTOM_EXCLUSIONS['snapshot']:\n",
    "        return 1\n",
    "    \n",
    "    r = requests.post(\"https://hub.snapshot.org/graphql\", json={\n",
    "        'query': \"\"\"\n",
    "        query ($id: String!) {\n",
    "            space(id: $id) { flagged }\n",
    "        }\n",
    "        \"\"\",\n",
    "        'variables': {'id': space},\n",
    "    })\n",
    "    try:\n",
    "        return int(r.json()['data']['space']['flagged'])\n",
    "    except:\n",
    "        print(f\"Error with {space}\")\n",
    "        raise\n",
    "\n",
    "print(_get_space_flagged('gm365.eth'))\n",
    "print(_get_space_flagged('ppybbbbbb.eth'))"
   ]
  },
  {
   "cell_type": "code",
   "execution_count": null,
   "id": "d25a96e7-5859-474f-bd6f-869eac04676c",
   "metadata": {},
   "outputs": [],
   "source": [
    "def _get_org_flagged(row):\n",
    "    if 'snapshot' not in row['platforms']:\n",
    "        return 0\n",
    "\n",
    "    return sum( _get_space_flagged(d) for d in row['platform_ids'] if d.endswith('.eth') )\n",
    "\n",
    "df_all['flagged'] = df_all.progress_apply(_get_org_flagged, axis=1)"
   ]
  },
  {
   "cell_type": "code",
   "execution_count": null,
   "id": "9b6435ec-5db6-40bc-93f0-8aeb400203f6",
   "metadata": {},
   "outputs": [],
   "source": [
    "df_all_final = df_all[(df_all['flagged'] == 0) & (df_all['voters_count'] >= 20)].head(25).reset_index(drop=True)\n",
    "df_all_final"
   ]
  },
  {
   "cell_type": "markdown",
   "id": "318ec771-37a4-42ce-95f3-316f5835a28c",
   "metadata": {},
   "source": [
    "## Put everything in a nice table"
   ]
  },
  {
   "cell_type": "code",
   "execution_count": null,
   "id": "1c287aa2-923d-4d1d-9229-941e3b998a9e",
   "metadata": {},
   "outputs": [],
   "source": [
    "cols = {\n",
    "    'name': 'Name',\n",
    "    'proposals_count': '# Prop.',\n",
    "    'voters_count': '# Voters',\n",
    "    'votes_count': '# Votes',\n",
    "    'milli density': '‰ Density',\n",
    "    'vpp': 'vpp',\n",
    "    'vpv': 'vpv',\n",
    "}\n",
    "\n",
    "df_all_final['milli density'] = df_all_final['density']*1000\n",
    "# msk = (df_all['flagged'] == 0) & (df_all['voters_count'] >= 20)\n",
    "bof = df_all_final[cols.keys()]#.head(21)\n",
    "\n",
    "style = (bof\n",
    "    .style\n",
    "    .format('{:.2f}', subset=bof.select_dtypes('float').columns)\n",
    "    .format(thousands=' ', subset=bof.select_dtypes('int').columns)\n",
    "    .relabel_index(list(cols.values()), axis='columns')\n",
    "    .hide(axis='index')\n",
    ")\n",
    "display(style)\n",
    "print(style.to_latex())"
   ]
  },
  {
   "cell_type": "markdown",
   "id": "417ae634-e3d0-4c40-bc06-31ce1cfdf10f",
   "metadata": {},
   "source": [
    "# Replicate the \"orgs\" thing only with \"recent\" proposals"
   ]
  },
  {
   "cell_type": "code",
   "execution_count": null,
   "id": "1fbbcd6f-87c2-4817-b820-4dd436b66ed7",
   "metadata": {},
   "outputs": [],
   "source": [
    "CONSIDER_LAST_PERIOD"
   ]
  },
  {
   "cell_type": "code",
   "execution_count": null,
   "id": "28e9d4dc-c885-4882-9c4e-e00c9168cd9b",
   "metadata": {},
   "outputs": [],
   "source": [
    "%%sql\n",
    "CREATE OR REPLACE VIEW orgs_recent AS\n",
    "    WITH G AS (WITH Gv AS (\n",
    "            SELECT *,\n",
    "                CASE\n",
    "                    {{_cases}}\n",
    "                    ELSE name\n",
    "                END AS orgname\n",
    "            FROM deployments\n",
    "            LEFT JOIN (\n",
    "                SELECT *\n",
    "                FROM votes\n",
    "                -- Check that the votes are recent\n",
    "                WHERE date > ( (SELECT MAX(date) FROM votes) - (INTERVAL '{{CONSIDER_LAST_PERIOD.total_seconds()}}' SECOND))\n",
    "            ) AS votes_recent ON (deployments.id = votes_recent.deployment_id)\n",
    "            WHERE \n",
    "                platform IN {{_list2sql(PLATFORMS_WITH_TEXT)}} AND\n",
    "                proposals_count > 10\n",
    "        )\n",
    "        SELECT \n",
    "            orgname AS name,\n",
    "            COUNT(DISTINCT Gv.id) AS n_deploys,\n",
    "            LIST(DISTINCT Gv.id) AS deploys,\n",
    "            LIST(DISTINCT Gv.platform) AS platforms,\n",
    "            LIST(DISTINCT Gv.platform_deployment_id) AS platform_ids,\n",
    "            COUNT(DISTINCT Gv.proposal_id) AS proposals_count,\n",
    "            COUNT(DISTINCT Gv.voter) AS voters_count,\n",
    "            COUNT(*) AS votes_count,\n",
    "        FROM Gv\n",
    "        GROUP BY Gv.orgname\n",
    "    )\n",
    "    SELECT\n",
    "        *,\n",
    "        proposals_count + voters_count AS nodes,\n",
    "        2*(votes_count)/((voters_count + proposals_count)*(voters_count + proposals_count-1)) AS density_naive,\n",
    "        2*(votes_count)/(voters_count*proposals_count) AS density,\n",
    "        votes_count/proposals_count AS vpp, \n",
    "        votes_count/voters_count AS vpv\n",
    "    FROM G\n",
    "    WHERE proposals_count > 0\n",
    "    ORDER BY proposals_count DESC"
   ]
  },
  {
   "cell_type": "code",
   "execution_count": null,
   "id": "d8bc1e1c-14db-493b-bdf8-6b14dd5bc821",
   "metadata": {},
   "outputs": [],
   "source": [
    "%%sql df_recent <<\n",
    "SELECT *\n",
    "FROM orgs_recent\n",
    "WHERE proposals_count > 100\n",
    "    AND name IS NOT NULL"
   ]
  },
  {
   "cell_type": "code",
   "execution_count": null,
   "id": "a34f2f54-3d3c-419a-a713-0f7c5f87bacc",
   "metadata": {},
   "outputs": [],
   "source": [
    "df_recent['flagged'] = df_recent.progress_apply(_get_org_flagged, axis=1)"
   ]
  },
  {
   "cell_type": "code",
   "execution_count": null,
   "id": "17c94bb5-abb5-44f1-be8f-a02aaba8cc1e",
   "metadata": {},
   "outputs": [],
   "source": [
    "df_recent[(df_recent['flagged'] == 0) & (df_recent['voters_count'] >= 20)].head(20).reset_index(drop=True)"
   ]
  },
  {
   "cell_type": "code",
   "execution_count": null,
   "id": "523cb2bc-71f8-4f23-86a3-8b7098efd3be",
   "metadata": {},
   "outputs": [],
   "source": [
    "df_recent_final = df_recent[(df_recent['flagged'] == 0) & (df_recent['voters_count'] >= 20) & ~(df_recent['name'].isin(df_all_final['name']))].head(20).reset_index(drop=True)\n",
    "df_recent_final"
   ]
  },
  {
   "cell_type": "markdown",
   "id": "bab782fb-eeb1-40fb-b944-9d5245e3bb76",
   "metadata": {},
   "source": [
    "### Put everything on a nice table"
   ]
  },
  {
   "cell_type": "code",
   "execution_count": null,
   "id": "ec9e2a13-25ff-44eb-9020-be7c5b534ae0",
   "metadata": {},
   "outputs": [],
   "source": [
    "cols = {\n",
    "    'name': 'Name',\n",
    "    'proposals_count': '# Prop.',\n",
    "    'voters_count': '# Voters',\n",
    "    'votes_count': '# Votes',\n",
    "    'milli density': '‰ Density',\n",
    "    'vpp': 'vpp',\n",
    "    'vpv': 'vpv',\n",
    "}\n",
    "\n",
    "df_recent['milli density'] = df_recent['density']*1000\n",
    "msk = (df_recent['flagged'] == 0) & (df_recent['voters_count'] >= 20)\n",
    "bof = df_recent[msk][cols.keys()].head(20)\n",
    "\n",
    "style = (bof\n",
    "    .style\n",
    "    .format('{:.2f}', subset=bof.select_dtypes('float').columns)\n",
    "    .format(thousands=' ', subset=bof.select_dtypes('int').columns)\n",
    "    .relabel_index(list(cols.values()), axis='columns')\n",
    "    .hide(axis='index')\n",
    ")\n",
    "display(style)\n",
    "print(style.to_latex())"
   ]
  }
 ],
 "metadata": {
  "kernelspec": {
   "display_name": "Python 3 (ipykernel)",
   "language": "python",
   "name": "python3"
  },
  "language_info": {
   "codemirror_mode": {
    "name": "ipython",
    "version": 3
   },
   "file_extension": ".py",
   "mimetype": "text/x-python",
   "name": "python",
   "nbconvert_exporter": "python",
   "pygments_lexer": "ipython3",
   "version": "3.11.6"
  },
  "widgets": {
   "application/vnd.jupyter.widget-state+json": {
    "state": {
     "08fbe2a9c7aa48feb13b9aed05c4a77c": {
      "model_module": "@jupyter-widgets/controls",
      "model_module_version": "2.0.0",
      "model_name": "HTMLModel",
      "state": {
       "layout": "IPY_MODEL_e3bf64c9ad33435faeb4f99332c56c21",
       "style": "IPY_MODEL_626d73db9c26432e84f7e4c9a81b5bee",
       "value": "100%"
      }
     },
     "0a49dff9b4d541cbad1fd31438949cc3": {
      "model_module": "@jupyter-widgets/controls",
      "model_module_version": "2.0.0",
      "model_name": "ProgressStyleModel",
      "state": {
       "description_width": ""
      }
     },
     "0af18d9264d04ed58c35d1b996414f29": {
      "model_module": "@jupyter-widgets/controls",
      "model_module_version": "2.0.0",
      "model_name": "HTMLModel",
      "state": {
       "layout": "IPY_MODEL_f02fb3a10aa7432980d221f95b2a0d90",
       "style": "IPY_MODEL_478d16c5c5444ac09b8d7051e803ab1d",
       "value": " 48/48 [00:01&lt;00:00, 23.48it/s]"
      }
     },
     "0f4ae110f26e471db6a975b82e145740": {
      "model_module": "@jupyter-widgets/base",
      "model_module_version": "2.0.0",
      "model_name": "LayoutModel",
      "state": {}
     },
     "14911479c1ff44f799102c13b76f39cb": {
      "model_module": "@jupyter-widgets/controls",
      "model_module_version": "2.0.0",
      "model_name": "HTMLModel",
      "state": {
       "layout": "IPY_MODEL_31af54c270ee4313a7bec635a87bda95",
       "style": "IPY_MODEL_292c7372081842fabc767eeedde005db",
       "value": " 68/68 [00:07&lt;00:00,  5.29it/s]"
      }
     },
     "185133a8f09943be902f824ffe1e4d22": {
      "model_module": "@jupyter-widgets/controls",
      "model_module_version": "2.0.0",
      "model_name": "HTMLModel",
      "state": {
       "layout": "IPY_MODEL_3d25ff42280b43a09babef9ca09e57b7",
       "style": "IPY_MODEL_4bd71c554f154dc994198a696b94364d",
       "value": "100%"
      }
     },
     "1c41d151076546779694e48dca6dc6cf": {
      "model_module": "@jupyter-widgets/base",
      "model_module_version": "2.0.0",
      "model_name": "LayoutModel",
      "state": {}
     },
     "232baa292c3a46cdbf05620b5b0e8dcd": {
      "model_module": "@jupyter-widgets/controls",
      "model_module_version": "2.0.0",
      "model_name": "FloatProgressModel",
      "state": {
       "bar_style": "success",
       "layout": "IPY_MODEL_6f88eaab260749d486bd56ddd00ff1d8",
       "max": 68,
       "style": "IPY_MODEL_ab3ce08233434aa491c3be50a5adcfe5",
       "value": 68
      }
     },
     "2558fc2bb8bf4fe786e6215eaf6662da": {
      "model_module": "@jupyter-widgets/base",
      "model_module_version": "2.0.0",
      "model_name": "LayoutModel",
      "state": {}
     },
     "292c7372081842fabc767eeedde005db": {
      "model_module": "@jupyter-widgets/controls",
      "model_module_version": "2.0.0",
      "model_name": "HTMLStyleModel",
      "state": {
       "description_width": "",
       "font_size": null,
       "text_color": null
      }
     },
     "2fb6f43d938645b8bf1ddeaa3dc15e0b": {
      "model_module": "@jupyter-widgets/controls",
      "model_module_version": "2.0.0",
      "model_name": "HTMLModel",
      "state": {
       "layout": "IPY_MODEL_62fd9173cb8c4f4f86e0d6b15bc0b6b4",
       "style": "IPY_MODEL_fcfb1420ce124791aedce07b2d340d83",
       "value": "  6%"
      }
     },
     "2fdcbb4cde274bd3a3b7090e53584212": {
      "model_module": "@jupyter-widgets/controls",
      "model_module_version": "2.0.0",
      "model_name": "FloatProgressModel",
      "state": {
       "bar_style": "danger",
       "layout": "IPY_MODEL_7befeea29cca44418e5256ec7b786ff6",
       "max": 2283,
       "style": "IPY_MODEL_ac42d0c21fe349128f45e78ad0c3e27b",
       "value": 129
      }
     },
     "31af54c270ee4313a7bec635a87bda95": {
      "model_module": "@jupyter-widgets/base",
      "model_module_version": "2.0.0",
      "model_name": "LayoutModel",
      "state": {}
     },
     "3c3e8dc0cfd645f4986f850020af4ea8": {
      "model_module": "@jupyter-widgets/controls",
      "model_module_version": "2.0.0",
      "model_name": "HBoxModel",
      "state": {
       "children": [
        "IPY_MODEL_716b2a5d48f9408a9e90406e7c2f8d78",
        "IPY_MODEL_b916939e4a8a44e0bc1b04a8728d5538",
        "IPY_MODEL_77769fe916184d688eb576f827745e30"
       ],
       "layout": "IPY_MODEL_0f4ae110f26e471db6a975b82e145740"
      }
     },
     "3d25ff42280b43a09babef9ca09e57b7": {
      "model_module": "@jupyter-widgets/base",
      "model_module_version": "2.0.0",
      "model_name": "LayoutModel",
      "state": {}
     },
     "478d16c5c5444ac09b8d7051e803ab1d": {
      "model_module": "@jupyter-widgets/controls",
      "model_module_version": "2.0.0",
      "model_name": "HTMLStyleModel",
      "state": {
       "description_width": "",
       "font_size": null,
       "text_color": null
      }
     },
     "4ac58650d2f6496fa522af2d8098c764": {
      "model_module": "@jupyter-widgets/controls",
      "model_module_version": "2.0.0",
      "model_name": "HTMLModel",
      "state": {
       "layout": "IPY_MODEL_5eb370b9e2014d75830ba83369265cf1",
       "style": "IPY_MODEL_f42d3991d1d645c09d50105d0c93d380",
       "value": " 180/180 [00:07&lt;00:00, 556.58it/s]"
      }
     },
     "4bd71c554f154dc994198a696b94364d": {
      "model_module": "@jupyter-widgets/controls",
      "model_module_version": "2.0.0",
      "model_name": "HTMLStyleModel",
      "state": {
       "description_width": "",
       "font_size": null,
       "text_color": null
      }
     },
     "4ff03460a56c463e9ca83f512ebd848d": {
      "model_module": "@jupyter-widgets/controls",
      "model_module_version": "2.0.0",
      "model_name": "HTMLStyleModel",
      "state": {
       "description_width": "",
       "font_size": null,
       "text_color": null
      }
     },
     "53df3fd883ae420da8ac3026da90985e": {
      "model_module": "@jupyter-widgets/controls",
      "model_module_version": "2.0.0",
      "model_name": "HTMLModel",
      "state": {
       "layout": "IPY_MODEL_86e80a3586b0401d9859f82864b682e2",
       "style": "IPY_MODEL_4ff03460a56c463e9ca83f512ebd848d",
       "value": "100%"
      }
     },
     "5d42c1e23eb04f1680bfe9a99d583e84": {
      "model_module": "@jupyter-widgets/controls",
      "model_module_version": "2.0.0",
      "model_name": "HBoxModel",
      "state": {
       "children": [
        "IPY_MODEL_08fbe2a9c7aa48feb13b9aed05c4a77c",
        "IPY_MODEL_232baa292c3a46cdbf05620b5b0e8dcd",
        "IPY_MODEL_14911479c1ff44f799102c13b76f39cb"
       ],
       "layout": "IPY_MODEL_dc2918a31d70465d8a2d125f66100e60"
      }
     },
     "5eb370b9e2014d75830ba83369265cf1": {
      "model_module": "@jupyter-widgets/base",
      "model_module_version": "2.0.0",
      "model_name": "LayoutModel",
      "state": {}
     },
     "5fdb2a6a563e4b198dc3ef126ffd347c": {
      "model_module": "@jupyter-widgets/base",
      "model_module_version": "2.0.0",
      "model_name": "LayoutModel",
      "state": {}
     },
     "626841d10df94b6980709906c8da2270": {
      "model_module": "@jupyter-widgets/base",
      "model_module_version": "2.0.0",
      "model_name": "LayoutModel",
      "state": {}
     },
     "626d73db9c26432e84f7e4c9a81b5bee": {
      "model_module": "@jupyter-widgets/controls",
      "model_module_version": "2.0.0",
      "model_name": "HTMLStyleModel",
      "state": {
       "description_width": "",
       "font_size": null,
       "text_color": null
      }
     },
     "62fd9173cb8c4f4f86e0d6b15bc0b6b4": {
      "model_module": "@jupyter-widgets/base",
      "model_module_version": "2.0.0",
      "model_name": "LayoutModel",
      "state": {}
     },
     "67961f0de5e444d99921af97ddf70292": {
      "model_module": "@jupyter-widgets/controls",
      "model_module_version": "2.0.0",
      "model_name": "HBoxModel",
      "state": {
       "children": [
        "IPY_MODEL_185133a8f09943be902f824ffe1e4d22",
        "IPY_MODEL_c56b646f967a46ecbc9312d3209b55ef",
        "IPY_MODEL_4ac58650d2f6496fa522af2d8098c764"
       ],
       "layout": "IPY_MODEL_ff6696eaeeb14d458be3e836476bd177"
      }
     },
     "6f88eaab260749d486bd56ddd00ff1d8": {
      "model_module": "@jupyter-widgets/base",
      "model_module_version": "2.0.0",
      "model_name": "LayoutModel",
      "state": {}
     },
     "716b2a5d48f9408a9e90406e7c2f8d78": {
      "model_module": "@jupyter-widgets/controls",
      "model_module_version": "2.0.0",
      "model_name": "HTMLModel",
      "state": {
       "layout": "IPY_MODEL_5fdb2a6a563e4b198dc3ef126ffd347c",
       "style": "IPY_MODEL_81c5940f5e78457ea22c5215f8f587cc",
       "value": "100%"
      }
     },
     "76fae9767c1246f598dbbcea4b1ae6f1": {
      "model_module": "@jupyter-widgets/controls",
      "model_module_version": "2.0.0",
      "model_name": "HBoxModel",
      "state": {
       "children": [
        "IPY_MODEL_2fb6f43d938645b8bf1ddeaa3dc15e0b",
        "IPY_MODEL_2fdcbb4cde274bd3a3b7090e53584212",
        "IPY_MODEL_7fd465a2a6ca4c48af520362b43ae338"
       ],
       "layout": "IPY_MODEL_2558fc2bb8bf4fe786e6215eaf6662da"
      }
     },
     "77769fe916184d688eb576f827745e30": {
      "model_module": "@jupyter-widgets/controls",
      "model_module_version": "2.0.0",
      "model_name": "HTMLModel",
      "state": {
       "layout": "IPY_MODEL_a8f6df670fd34eb1a530cc09e9ec1361",
       "style": "IPY_MODEL_d6475010292e44bdaa6aecb70c56f8f3",
       "value": " 48/48 [00:07&lt;00:00,  4.56it/s]"
      }
     },
     "7befeea29cca44418e5256ec7b786ff6": {
      "model_module": "@jupyter-widgets/base",
      "model_module_version": "2.0.0",
      "model_name": "LayoutModel",
      "state": {}
     },
     "7fd465a2a6ca4c48af520362b43ae338": {
      "model_module": "@jupyter-widgets/controls",
      "model_module_version": "2.0.0",
      "model_name": "HTMLModel",
      "state": {
       "layout": "IPY_MODEL_626841d10df94b6980709906c8da2270",
       "style": "IPY_MODEL_cad6a77d5b514ca88c6a57f7a32a51d9",
       "value": " 129/2283 [00:09&lt;03:55,  9.13it/s]"
      }
     },
     "81c5940f5e78457ea22c5215f8f587cc": {
      "model_module": "@jupyter-widgets/controls",
      "model_module_version": "2.0.0",
      "model_name": "HTMLStyleModel",
      "state": {
       "description_width": "",
       "font_size": null,
       "text_color": null
      }
     },
     "86e80a3586b0401d9859f82864b682e2": {
      "model_module": "@jupyter-widgets/base",
      "model_module_version": "2.0.0",
      "model_name": "LayoutModel",
      "state": {}
     },
     "8e002cdd61fb459e96aac3d5cc27545e": {
      "model_module": "@jupyter-widgets/controls",
      "model_module_version": "2.0.0",
      "model_name": "HBoxModel",
      "state": {
       "children": [
        "IPY_MODEL_53df3fd883ae420da8ac3026da90985e",
        "IPY_MODEL_9463075c7fa34be8baf2fae1b680ebe9",
        "IPY_MODEL_0af18d9264d04ed58c35d1b996414f29"
       ],
       "layout": "IPY_MODEL_f5dea691e4f34f19b6b61e115d8cd194"
      }
     },
     "9463075c7fa34be8baf2fae1b680ebe9": {
      "model_module": "@jupyter-widgets/controls",
      "model_module_version": "2.0.0",
      "model_name": "FloatProgressModel",
      "state": {
       "bar_style": "success",
       "layout": "IPY_MODEL_1c41d151076546779694e48dca6dc6cf",
       "max": 48,
       "style": "IPY_MODEL_d869d3f6c3214aeba2c727bd1ba72c2e",
       "value": 48
      }
     },
     "a187bc0188fa483aa4943f654bd82c33": {
      "model_module": "@jupyter-widgets/controls",
      "model_module_version": "2.0.0",
      "model_name": "ProgressStyleModel",
      "state": {
       "description_width": ""
      }
     },
     "a8f6df670fd34eb1a530cc09e9ec1361": {
      "model_module": "@jupyter-widgets/base",
      "model_module_version": "2.0.0",
      "model_name": "LayoutModel",
      "state": {}
     },
     "ab3ce08233434aa491c3be50a5adcfe5": {
      "model_module": "@jupyter-widgets/controls",
      "model_module_version": "2.0.0",
      "model_name": "ProgressStyleModel",
      "state": {
       "description_width": ""
      }
     },
     "ac42d0c21fe349128f45e78ad0c3e27b": {
      "model_module": "@jupyter-widgets/controls",
      "model_module_version": "2.0.0",
      "model_name": "ProgressStyleModel",
      "state": {
       "description_width": ""
      }
     },
     "b916939e4a8a44e0bc1b04a8728d5538": {
      "model_module": "@jupyter-widgets/controls",
      "model_module_version": "2.0.0",
      "model_name": "FloatProgressModel",
      "state": {
       "bar_style": "success",
       "layout": "IPY_MODEL_f7abce65c19c46a6a2abbef8bcaa4c75",
       "max": 48,
       "style": "IPY_MODEL_0a49dff9b4d541cbad1fd31438949cc3",
       "value": 48
      }
     },
     "c56b646f967a46ecbc9312d3209b55ef": {
      "model_module": "@jupyter-widgets/controls",
      "model_module_version": "2.0.0",
      "model_name": "FloatProgressModel",
      "state": {
       "bar_style": "success",
       "layout": "IPY_MODEL_fa1e24472b9944d8be870e9307ba0ad3",
       "max": 180,
       "style": "IPY_MODEL_a187bc0188fa483aa4943f654bd82c33",
       "value": 180
      }
     },
     "cad6a77d5b514ca88c6a57f7a32a51d9": {
      "model_module": "@jupyter-widgets/controls",
      "model_module_version": "2.0.0",
      "model_name": "HTMLStyleModel",
      "state": {
       "description_width": "",
       "font_size": null,
       "text_color": null
      }
     },
     "d6475010292e44bdaa6aecb70c56f8f3": {
      "model_module": "@jupyter-widgets/controls",
      "model_module_version": "2.0.0",
      "model_name": "HTMLStyleModel",
      "state": {
       "description_width": "",
       "font_size": null,
       "text_color": null
      }
     },
     "d869d3f6c3214aeba2c727bd1ba72c2e": {
      "model_module": "@jupyter-widgets/controls",
      "model_module_version": "2.0.0",
      "model_name": "ProgressStyleModel",
      "state": {
       "description_width": ""
      }
     },
     "dc2918a31d70465d8a2d125f66100e60": {
      "model_module": "@jupyter-widgets/base",
      "model_module_version": "2.0.0",
      "model_name": "LayoutModel",
      "state": {}
     },
     "e3bf64c9ad33435faeb4f99332c56c21": {
      "model_module": "@jupyter-widgets/base",
      "model_module_version": "2.0.0",
      "model_name": "LayoutModel",
      "state": {}
     },
     "f02fb3a10aa7432980d221f95b2a0d90": {
      "model_module": "@jupyter-widgets/base",
      "model_module_version": "2.0.0",
      "model_name": "LayoutModel",
      "state": {}
     },
     "f42d3991d1d645c09d50105d0c93d380": {
      "model_module": "@jupyter-widgets/controls",
      "model_module_version": "2.0.0",
      "model_name": "HTMLStyleModel",
      "state": {
       "description_width": "",
       "font_size": null,
       "text_color": null
      }
     },
     "f5dea691e4f34f19b6b61e115d8cd194": {
      "model_module": "@jupyter-widgets/base",
      "model_module_version": "2.0.0",
      "model_name": "LayoutModel",
      "state": {}
     },
     "f7abce65c19c46a6a2abbef8bcaa4c75": {
      "model_module": "@jupyter-widgets/base",
      "model_module_version": "2.0.0",
      "model_name": "LayoutModel",
      "state": {}
     },
     "fa1e24472b9944d8be870e9307ba0ad3": {
      "model_module": "@jupyter-widgets/base",
      "model_module_version": "2.0.0",
      "model_name": "LayoutModel",
      "state": {}
     },
     "fcfb1420ce124791aedce07b2d340d83": {
      "model_module": "@jupyter-widgets/controls",
      "model_module_version": "2.0.0",
      "model_name": "HTMLStyleModel",
      "state": {
       "description_width": "",
       "font_size": null,
       "text_color": null
      }
     },
     "ff6696eaeeb14d458be3e836476bd177": {
      "model_module": "@jupyter-widgets/base",
      "model_module_version": "2.0.0",
      "model_name": "LayoutModel",
      "state": {}
     }
    },
    "version_major": 2,
    "version_minor": 0
   }
  }
 },
 "nbformat": 4,
 "nbformat_minor": 5
}
