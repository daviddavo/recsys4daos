{
 "cells": [
  {
   "cell_type": "code",
   "execution_count": null,
   "id": "f7263209-6c10-4503-97da-dc827c3e3360",
   "metadata": {},
   "outputs": [],
   "source": [
    "import datetime as dt\n",
    "\n",
    "import pandas as pd\n",
    "import numpy as np\n",
    "from lenskit.algorithms import item_knn, user_knn\n",
    "from sklearn.model_selection import ParameterGrid\n",
    "\n",
    "from recsys4daos.datasets import to_lenskit\n",
    "from recsys4daos.model_selection import cvtt_open, explore_hparams\n",
    "from recsys4daos.evaluation import test_with_hparams_lenskit\n",
    "\n",
    "import paths"
   ]
  },
  {
   "cell_type": "markdown",
   "id": "4203d4a5-69be-485a-9f72-08b66ebb73d9",
   "metadata": {},
   "source": [
    "# Parameters"
   ]
  },
  {
   "cell_type": "code",
   "execution_count": null,
   "id": "1801e93f-774c-46e3-86b9-9d51ae725aa9",
   "metadata": {},
   "outputs": [],
   "source": [
    "# Dataset config\n",
    "ORG_NAME = 'Decentraland'\n",
    "SPLITS_FREQ = 'W-THU'  # Split weekly\n",
    "LAST_SPLITS = 20  # Use just last 10 splits\n",
    "SPLITS_NORMALIZE = True\n",
    "\n",
    "# Evaluation\n",
    "K_RECOMMENDATIONS: list[int] = [1,3,5,10,100]\n",
    "SPLITS_FREQ: str = 'W-THU' # split weekly\n",
    "SPLITS_NORMALIZE = True # Wether or not to move everything to 00:00\n",
    "LAST_SPLITS = 10 # Use just last 10 splits\n",
    "\n",
    "# Search space config\n",
    "WINDOW_SIZES = ['7d', '14d', '21d', '30d', '60d', '90d', '10YE']\n",
    "ITEMKNN_Ks = [1,2,3,4,5,6,7,8,9,10,15]\n",
    "\n",
    "OPTIM_METRIC = 'map@10'"
   ]
  },
  {
   "cell_type": "markdown",
   "id": "45286510-7696-4e5c-993f-6294dc4cb780",
   "metadata": {},
   "source": [
    "# Load the dataset"
   ]
  },
  {
   "cell_type": "code",
   "execution_count": null,
   "id": "dc5fccbb-49da-4cf0-a954-12bbf299ce7c",
   "metadata": {},
   "outputs": [],
   "source": [
    "dfp = paths.load_proposals(ORG_NAME)\n",
    "dfv = paths.load_votes(ORG_NAME)\n",
    "\n",
    "print(dfp.info())\n",
    "print(dfv.info())"
   ]
  },
  {
   "cell_type": "code",
   "execution_count": null,
   "id": "735bcae9-f70e-47de-b5ee-e50c9ee92dc7",
   "metadata": {},
   "outputs": [],
   "source": [
    "df = to_lenskit(dfv)\n",
    "df"
   ]
  },
  {
   "cell_type": "markdown",
   "id": "0b87cdc4-901b-49a7-bd20-287be66cf000",
   "metadata": {},
   "source": [
    "## Split in folds"
   ]
  },
  {
   "cell_type": "code",
   "execution_count": null,
   "id": "defa94a9-35bb-4a67-b761-cb47e1ec69e0",
   "metadata": {},
   "outputs": [],
   "source": [
    "all_folds = { f.end:f for f in cvtt_open(\n",
    "    df, SPLITS_FREQ, dfp.reset_index(), remove_not_in_train_col='item', col_item='item',\n",
    ")}\n",
    "last_folds_idx = list(all_folds.keys())[-LAST_SPLITS:]\n",
    "last_folds_idx"
   ]
  },
  {
   "cell_type": "markdown",
   "id": "1cc29c50-4108-44a5-abea-28fff924fb0e",
   "metadata": {},
   "source": [
    "# Item-based KNN"
   ]
  },
  {
   "cell_type": "code",
   "execution_count": null,
   "id": "64c53125-fccb-4a65-b51d-60ca1a98c2da",
   "metadata": {},
   "outputs": [],
   "source": [
    "def testHParamsItemKNN(fold, k: int, window_size=None):\n",
    "    # Create algorithm\n",
    "    algo = item_knn.ItemItem(\n",
    "        feedback='implicit', # VERY IMPORTANT\n",
    "        min_sim=0,\n",
    "        # min_nbrs=0,\n",
    "        nnbrs=k,  # the maximum number of neighbors for scoring each item (None for unlimited)\n",
    "    )\n",
    "    return test_with_hparams_lenskit(algo, all_folds[fold], K_RECOMMENDATIONS, window_size)\n",
    "\n",
    "pd.Series(testHParamsItemKNN(last_folds_idx[-1],5,'14d'))"
   ]
  },
  {
   "cell_type": "markdown",
   "id": "b489b2ca-c04d-4b36-815a-c80225230673",
   "metadata": {},
   "source": [
    "## Exploring hparams"
   ]
  },
  {
   "cell_type": "code",
   "execution_count": null,
   "id": "4aa80af6-01a6-426d-b258-d6da27e0125b",
   "metadata": {},
   "outputs": [],
   "source": [
    "results = explore_hparams(\n",
    "    testHParamsItemKNN, \n",
    "    ParameterGrid({\n",
    "    'fold': last_folds_idx,\n",
    "    'k': ITEMKNN_Ks, # ,20,25,30,35,40,45,50,60,70,80,90,100],\n",
    "    'window_size': WINDOW_SIZES,\n",
    "    }),\n",
    "    paths.hparams_progress('itemknn', ORG_NAME, SPLITS_FREQ, SPLITS_NORMALIZE),\n",
    ")\n",
    "mdfi = pd.DataFrame(results)\n",
    "mdfi"
   ]
  },
  {
   "cell_type": "markdown",
   "id": "a52e2e68-f8c3-477f-80c5-314d6e53ae63",
   "metadata": {},
   "source": [
    "### Best overall hparams"
   ]
  },
  {
   "cell_type": "code",
   "execution_count": null,
   "id": "a8b4a5b0-edfe-4241-b5cd-c793ecaf9daf",
   "metadata": {},
   "outputs": [],
   "source": [
    "display_columns = ['time_train', 'avg_recs'] + [ c for c in mdfi.columns if c.endswith('@5') or c.endswith('@10') or c.endswith('@100') ]\n",
    "overall_hparams = mdfi[mdfi['fold'] > last_folds_idx[0]].groupby(['window_size', 'k']).mean().sort_values(OPTIM_METRIC, ascending=False)\n",
    "overall_hparams[display_columns]"
   ]
  },
  {
   "cell_type": "markdown",
   "id": "50539470-8e8b-4930-b160-6e29687e36ff",
   "metadata": {},
   "source": [
    "Now let's see the behaviour in each fold"
   ]
  },
  {
   "cell_type": "code",
   "execution_count": null,
   "id": "06ad0c78-3bd0-4a42-a98e-b6abfd00b19c",
   "metadata": {},
   "outputs": [],
   "source": [
    "best_avg_hparams = mdfi.set_index(['window_size', 'k']).loc[overall_hparams.iloc[0].name].reset_index().set_index(['fold', 'window_size', 'k'])\n",
    "paths.save_model_results(best_avg_hparams, 'itemknn-best-avg', ORG_NAME, SPLITS_FREQ, SPLITS_NORMALIZE, K_RECOMMENDATIONS)\n",
    "best_avg_hparams"
   ]
  },
  {
   "cell_type": "markdown",
   "id": "f7dba3d3-8ac5-42fa-897e-c02e11bf63fb",
   "metadata": {},
   "source": [
    "### Best hparams by fold"
   ]
  },
  {
   "cell_type": "code",
   "execution_count": null,
   "id": "1734dd47-405f-4423-a981-4f62ce903362",
   "metadata": {},
   "outputs": [],
   "source": [
    "print(\"Best hyperparams by fold\", OPTIM_METRIC)\n",
    "best_hparams = mdfi.sort_values(OPTIM_METRIC,ascending=False).drop_duplicates(['fold'], keep='first').sort_values('fold').set_index(['fold', 'k', 'window_size'])\n",
    "paths.save_model_results(best_hparams, 'itemknn-best-test', ORG_NAME, SPLITS_FREQ, SPLITS_NORMALIZE, K_RECOMMENDATIONS)\n",
    "best_hparams[display_columns]"
   ]
  },
  {
   "cell_type": "code",
   "execution_count": null,
   "id": "492c4b08-2290-4064-8a78-7020ffdde769",
   "metadata": {},
   "outputs": [],
   "source": [
    "best_hparams.tail(len(best_hparams)-1).describe()"
   ]
  },
  {
   "cell_type": "markdown",
   "id": "e84ef64b-2a5b-44d5-b515-ee542de9977a",
   "metadata": {},
   "source": [
    "### Results of using best hparams in next fold\n",
    "\n",
    "Kind of like the cvtt from [the LightGCN notebook](./11_microsoft_tuning.ipynb)"
   ]
  },
  {
   "cell_type": "code",
   "execution_count": null,
   "id": "48c3783f-4977-42ab-a29c-0caa33d0b791",
   "metadata": {},
   "outputs": [],
   "source": [
    "next_hparams_idx = best_hparams.index.to_frame(False)\n",
    "next_hparams_idx['fold'] = next_hparams_idx['fold'].shift()\n",
    "next_hparams_idx = next_hparams_idx.dropna()\n",
    "assert len(next_hparams_idx) == len(best_hparams)-1\n",
    "next_hparams = mdfi.set_index(['fold', 'k', 'window_size']).loc[pd.MultiIndex.from_frame(next_hparams_idx)]\n",
    "paths.save_model_results(next_hparams, 'itemknn-best-valid', ORG_NAME, SPLITS_FREQ, SPLITS_NORMALIZE, K_RECOMMENDATIONS)\n",
    "next_hparams[display_columns]"
   ]
  },
  {
   "cell_type": "code",
   "execution_count": null,
   "id": "43c246c3-21bc-4111-ab36-aa1a44950cf3",
   "metadata": {},
   "outputs": [],
   "source": [
    "next_hparams.describe()"
   ]
  },
  {
   "cell_type": "markdown",
   "id": "55feda6d-ec3e-4779-8c19-48b6f79fdbb9",
   "metadata": {},
   "source": [
    "# User-based KNN"
   ]
  },
  {
   "cell_type": "code",
   "execution_count": null,
   "id": "ba148df2-696c-4050-ab76-5626c723342a",
   "metadata": {},
   "outputs": [],
   "source": [
    "def testHParamsUserKNN(fold, k: int, window_size=None):\n",
    "    # Create algorithm\n",
    "    algo = user_knn.UserUser(\n",
    "        feedback='implicit', # VERY IMPORTANT\n",
    "        min_sim=0,\n",
    "        # min_nbrs=0,\n",
    "        nnbrs=k,  # the maximum number of neighbors for scoring each item (None for unlimited)\n",
    "    )\n",
    "    return test_with_hparams_lenskit(algo, all_folds[fold], K_RECOMMENDATIONS, window_size)\n",
    "\n",
    "pd.Series(testHParamsUserKNN(last_folds_idx[-1],5,'14d'))"
   ]
  },
  {
   "cell_type": "markdown",
   "id": "0043463a-1f52-4672-a745-476113271de4",
   "metadata": {},
   "source": [
    "## Exploring hparams"
   ]
  },
  {
   "cell_type": "code",
   "execution_count": null,
   "id": "a380cc81-3160-45b5-93b7-54c4189e8774",
   "metadata": {},
   "outputs": [],
   "source": [
    "results = explore_hparams(\n",
    "    testHParamsUserKNN, \n",
    "    ParameterGrid({\n",
    "        'fold': last_folds_idx,\n",
    "        'k': ITEMKNN_Ks, # ,20,25,30,35,40,45,50,60,70,80,90,100],\n",
    "        'window_size': WINDOW_SIZES,\n",
    "    }),\n",
    "    paths.hparams_progress('userknn', ORG_NAME, SPLITS_FREQ, SPLITS_NORMALIZE),\n",
    ")\n",
    "mdfu = pd.DataFrame(results)\n",
    "mdfu"
   ]
  },
  {
   "cell_type": "markdown",
   "id": "1a104ac8-1202-4f72-a8ed-bee1f26d6f16",
   "metadata": {},
   "source": [
    "### Best overall hparams"
   ]
  },
  {
   "cell_type": "code",
   "execution_count": null,
   "id": "2378d104-1b45-4d95-b1e8-5809fadd468a",
   "metadata": {},
   "outputs": [],
   "source": [
    "display_columns = ['time_train', 'avg_recs'] + [ c for c in mdfu.columns if c.endswith('@5') or c.endswith('@10') or c.endswith('@100') ]\n",
    "overall_hparams = mdfu[mdfu['fold'] > last_folds_idx[0]].groupby(['window_size', 'k']).mean().sort_values(OPTIM_METRIC, ascending=False)\n",
    "overall_hparams[display_columns]"
   ]
  },
  {
   "cell_type": "code",
   "execution_count": null,
   "id": "a29f80ac-99b4-4371-afec-35e40ffaf278",
   "metadata": {},
   "outputs": [],
   "source": [
    "best_avg_hparams = mdfu.set_index(['window_size', 'k']).loc[overall_hparams.iloc[0].name].reset_index().set_index(['fold', 'window_size', 'k'])\n",
    "paths.save_model_results(best_avg_hparams, 'userknn-best-avg', ORG_NAME, SPLITS_FREQ, SPLITS_NORMALIZE, K_RECOMMENDATIONS)\n",
    "best_avg_hparams"
   ]
  },
  {
   "cell_type": "markdown",
   "id": "360d9d8f-9d9c-4670-86c7-f9de640fd2f4",
   "metadata": {},
   "source": [
    "### Best hparams by fold"
   ]
  },
  {
   "cell_type": "code",
   "execution_count": null,
   "id": "540f88ae-9b88-4a38-b569-73acaef10cc5",
   "metadata": {},
   "outputs": [],
   "source": [
    "print(\"Best hyperparams by fold\", OPTIM_METRIC)\n",
    "best_hparams = mdfu.sort_values(OPTIM_METRIC,ascending=False).drop_duplicates(['fold'], keep='first').sort_values('fold').set_index(['fold', 'k', 'window_size'])\n",
    "paths.save_model_results(best_hparams, 'userknn-best-test', ORG_NAME, SPLITS_FREQ, SPLITS_NORMALIZE, K_RECOMMENDATIONS)\n",
    "best_hparams[display_columns]"
   ]
  },
  {
   "cell_type": "code",
   "execution_count": null,
   "id": "5e46d92d-ef31-4bf6-8003-2db9a8b078ac",
   "metadata": {},
   "outputs": [],
   "source": [
    "best_hparams.tail(len(best_hparams)-1).describe()[display_columns]"
   ]
  },
  {
   "cell_type": "markdown",
   "id": "66863db9-ef14-4037-9cae-295a89582598",
   "metadata": {},
   "source": [
    "### Results of using best hparams in next fold\n",
    "\n",
    "Kind of like the cvtt from [the LightGCN notebook](./11_microsoft_tuning.ipynb)"
   ]
  },
  {
   "cell_type": "code",
   "execution_count": null,
   "id": "8a0a0f55-fc1d-438c-9bd8-bd9d8b4cb955",
   "metadata": {},
   "outputs": [],
   "source": [
    "next_hparams_idx = best_hparams.index.to_frame(False)\n",
    "next_hparams_idx['fold'] = next_hparams_idx['fold'].shift()\n",
    "next_hparams_idx = next_hparams_idx.dropna()\n",
    "assert len(next_hparams_idx) == len(best_hparams)-1\n",
    "next_hparams = mdfu.set_index(['fold', 'k', 'window_size']).loc[pd.MultiIndex.from_frame(next_hparams_idx)]\n",
    "paths.save_model_results(next_hparams, 'userknn-best-valid', ORG_NAME, SPLITS_FREQ, SPLITS_NORMALIZE, K_RECOMMENDATIONS)\n",
    "next_hparams"
   ]
  },
  {
   "cell_type": "code",
   "execution_count": null,
   "id": "44b3b746-c50e-44a8-831d-01146d19503f",
   "metadata": {},
   "outputs": [],
   "source": [
    "next_hparams.describe()"
   ]
  },
  {
   "cell_type": "code",
   "execution_count": null,
   "id": "e7fa51da-12df-4efa-8c8c-cb74cd3ebeb8",
   "metadata": {},
   "outputs": [],
   "source": []
  }
 ],
 "metadata": {
  "kernelspec": {
   "display_name": "Python 3 (ipykernel)",
   "language": "python",
   "name": "python3"
  },
  "language_info": {
   "codemirror_mode": {
    "name": "ipython",
    "version": 3
   },
   "file_extension": ".py",
   "mimetype": "text/x-python",
   "name": "python",
   "nbconvert_exporter": "python",
   "pygments_lexer": "ipython3",
   "version": "3.11.6"
  },
  "widgets": {
   "application/vnd.jupyter.widget-state+json": {
    "state": {
     "1fee4a0ce766456e8449813915d9857c": {
      "model_module": "@jupyter-widgets/base",
      "model_module_version": "2.0.0",
      "model_name": "LayoutModel",
      "state": {}
     },
     "21dc510f2afb44d8b93d4a12d5e21718": {
      "model_module": "@jupyter-widgets/controls",
      "model_module_version": "2.0.0",
      "model_name": "HTMLStyleModel",
      "state": {
       "description_width": "",
       "font_size": null,
       "text_color": null
      }
     },
     "2fcd8dc67fcd467a9aba31aef8c21ac9": {
      "model_module": "@jupyter-widgets/controls",
      "model_module_version": "2.0.0",
      "model_name": "HTMLStyleModel",
      "state": {
       "description_width": "",
       "font_size": null,
       "text_color": null
      }
     },
     "60f7aae3fa434fee9842a0aa3efc21f1": {
      "model_module": "@jupyter-widgets/controls",
      "model_module_version": "2.0.0",
      "model_name": "HTMLModel",
      "state": {
       "layout": "IPY_MODEL_6aee1054836a4fbb862c02925447785e",
       "style": "IPY_MODEL_2fcd8dc67fcd467a9aba31aef8c21ac9",
       "value": "100%"
      }
     },
     "62a0ddd8d9ed4feda9eec69214ba4a1c": {
      "model_module": "@jupyter-widgets/controls",
      "model_module_version": "2.0.0",
      "model_name": "HTMLStyleModel",
      "state": {
       "description_width": "",
       "font_size": null,
       "text_color": null
      }
     },
     "6aee1054836a4fbb862c02925447785e": {
      "model_module": "@jupyter-widgets/base",
      "model_module_version": "2.0.0",
      "model_name": "LayoutModel",
      "state": {}
     },
     "8504a70fe4e34905992734e740d394a5": {
      "model_module": "@jupyter-widgets/controls",
      "model_module_version": "2.0.0",
      "model_name": "ProgressStyleModel",
      "state": {
       "description_width": ""
      }
     },
     "889d107642b84fdc9e955b1ceca09a03": {
      "model_module": "@jupyter-widgets/controls",
      "model_module_version": "2.0.0",
      "model_name": "HTMLModel",
      "state": {
       "layout": "IPY_MODEL_ee555dd3d95f44a7aade9e9977137722",
       "style": "IPY_MODEL_21dc510f2afb44d8b93d4a12d5e21718",
       "value": " 770/770 [00:00&lt;00:00, 180890.23it/s]"
      }
     },
     "901abb7c03954a99b351e77c26961ed2": {
      "model_module": "@jupyter-widgets/base",
      "model_module_version": "2.0.0",
      "model_name": "LayoutModel",
      "state": {}
     },
     "955250c645b54995a9c145a628dba291": {
      "model_module": "@jupyter-widgets/base",
      "model_module_version": "2.0.0",
      "model_name": "LayoutModel",
      "state": {}
     },
     "a3f4975e4e89456f867ad0b4f9db0e05": {
      "model_module": "@jupyter-widgets/controls",
      "model_module_version": "2.0.0",
      "model_name": "ProgressStyleModel",
      "state": {
       "description_width": ""
      }
     },
     "ac9f2f8c957945da81beedcd50c9b9df": {
      "model_module": "@jupyter-widgets/controls",
      "model_module_version": "2.0.0",
      "model_name": "HBoxModel",
      "state": {
       "children": [
        "IPY_MODEL_60f7aae3fa434fee9842a0aa3efc21f1",
        "IPY_MODEL_f49ecaaf344b4bb9954a9bfb53117ae1",
        "IPY_MODEL_889d107642b84fdc9e955b1ceca09a03"
       ],
       "layout": "IPY_MODEL_b628c6e856084f878c6bbda9d026a915"
      }
     },
     "b0649bbfb6fa4d438f9a7b1e5f8475db": {
      "model_module": "@jupyter-widgets/controls",
      "model_module_version": "2.0.0",
      "model_name": "HTMLStyleModel",
      "state": {
       "description_width": "",
       "font_size": null,
       "text_color": null
      }
     },
     "b628c6e856084f878c6bbda9d026a915": {
      "model_module": "@jupyter-widgets/base",
      "model_module_version": "2.0.0",
      "model_name": "LayoutModel",
      "state": {}
     },
     "c58bb4bd728545c3b203864015bef8b2": {
      "model_module": "@jupyter-widgets/controls",
      "model_module_version": "2.0.0",
      "model_name": "HTMLModel",
      "state": {
       "layout": "IPY_MODEL_ee748f70e312483eabf4c7e946413ca6",
       "style": "IPY_MODEL_62a0ddd8d9ed4feda9eec69214ba4a1c",
       "value": "100%"
      }
     },
     "c9666aef3e0046fca0d47c4d919b8090": {
      "model_module": "@jupyter-widgets/controls",
      "model_module_version": "2.0.0",
      "model_name": "HBoxModel",
      "state": {
       "children": [
        "IPY_MODEL_c58bb4bd728545c3b203864015bef8b2",
        "IPY_MODEL_dca45164b0c14429b944fbdc95ab10f2",
        "IPY_MODEL_e6a99af571eb433ca0ccc5001a48f7f2"
       ],
       "layout": "IPY_MODEL_901abb7c03954a99b351e77c26961ed2"
      }
     },
     "dca45164b0c14429b944fbdc95ab10f2": {
      "model_module": "@jupyter-widgets/controls",
      "model_module_version": "2.0.0",
      "model_name": "FloatProgressModel",
      "state": {
       "bar_style": "success",
       "layout": "IPY_MODEL_dec546854c6a477d82b78a4c1cce6c2e",
       "max": 770,
       "style": "IPY_MODEL_8504a70fe4e34905992734e740d394a5",
       "value": 770
      }
     },
     "dec546854c6a477d82b78a4c1cce6c2e": {
      "model_module": "@jupyter-widgets/base",
      "model_module_version": "2.0.0",
      "model_name": "LayoutModel",
      "state": {}
     },
     "e6a99af571eb433ca0ccc5001a48f7f2": {
      "model_module": "@jupyter-widgets/controls",
      "model_module_version": "2.0.0",
      "model_name": "HTMLModel",
      "state": {
       "layout": "IPY_MODEL_1fee4a0ce766456e8449813915d9857c",
       "style": "IPY_MODEL_b0649bbfb6fa4d438f9a7b1e5f8475db",
       "value": " 770/770 [00:00&lt;00:00, 111759.09it/s]"
      }
     },
     "ee555dd3d95f44a7aade9e9977137722": {
      "model_module": "@jupyter-widgets/base",
      "model_module_version": "2.0.0",
      "model_name": "LayoutModel",
      "state": {}
     },
     "ee748f70e312483eabf4c7e946413ca6": {
      "model_module": "@jupyter-widgets/base",
      "model_module_version": "2.0.0",
      "model_name": "LayoutModel",
      "state": {}
     },
     "f49ecaaf344b4bb9954a9bfb53117ae1": {
      "model_module": "@jupyter-widgets/controls",
      "model_module_version": "2.0.0",
      "model_name": "FloatProgressModel",
      "state": {
       "bar_style": "success",
       "layout": "IPY_MODEL_955250c645b54995a9c145a628dba291",
       "max": 770,
       "style": "IPY_MODEL_a3f4975e4e89456f867ad0b4f9db0e05",
       "value": 770
      }
     }
    },
    "version_major": 2,
    "version_minor": 0
   }
  }
 },
 "nbformat": 4,
 "nbformat_minor": 5
}
