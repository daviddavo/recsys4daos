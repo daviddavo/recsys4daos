{
 "cells": [
  {
   "cell_type": "code",
   "execution_count": null,
   "id": "f7263209-6c10-4503-97da-dc827c3e3360",
   "metadata": {},
   "outputs": [],
   "source": [
    "import datetime as dt\n",
    "\n",
    "import pandas as pd\n",
    "import numpy as np\n",
    "from lenskit.algorithms import item_knn, user_knn\n",
    "from sklearn.model_selection import ParameterGrid\n",
    "\n",
    "from recsys4daos.datasets import to_lenskit\n",
    "from recsys4daos.model_selection import cvtt_open, explore_hparams\n",
    "from recsys4daos.evaluation import test_with_hparams_lenskit\n",
    "\n",
    "import paths"
   ]
  },
  {
   "cell_type": "markdown",
   "id": "4203d4a5-69be-485a-9f72-08b66ebb73d9",
   "metadata": {},
   "source": [
    "# Parameters"
   ]
  },
  {
   "cell_type": "code",
   "execution_count": null,
   "id": "1801e93f-774c-46e3-86b9-9d51ae725aa9",
   "metadata": {},
   "outputs": [],
   "source": [
    "# Dataset config\n",
    "ORG_NAME = 'Decentraland'\n",
    "SPLITS_FREQ = 'W-THU'  # Split weekly\n",
    "LAST_SPLITS = 20  # Use just last 10 splits\n",
    "SPLITS_NORMALIZE = True\n",
    "\n",
    "# Evaluation\n",
    "K_RECOMMENDATIONS: list[int] = [1,3,5,10,100]\n",
    "SPLITS_FREQ: str = 'W-THU' # split weekly\n",
    "SPLITS_NORMALIZE = True # Wether or not to move everything to 00:00\n",
    "LAST_SPLITS = 10 # Use just last 10 splits\n",
    "\n",
    "# Search space config\n",
    "WINDOW_SIZES = ['7d', '14d', '21d', '30d', '60d', '90d', '10YE']\n",
    "ITEMKNN_Ks = [1,2,3,4,5,6,7,8,9,10,15]\n",
    "\n",
    "OPTIM_METRIC = 'map@10'"
   ]
  },
  {
   "cell_type": "markdown",
   "id": "45286510-7696-4e5c-993f-6294dc4cb780",
   "metadata": {},
   "source": [
    "# Load the dataset"
   ]
  },
  {
   "cell_type": "code",
   "execution_count": null,
   "id": "dc5fccbb-49da-4cf0-a954-12bbf299ce7c",
   "metadata": {},
   "outputs": [],
   "source": [
    "dfp = paths.load_proposals(ORG_NAME)\n",
    "dfv = paths.load_votes(ORG_NAME)\n",
    "\n",
    "print(dfp.info())\n",
    "print(dfv.info())"
   ]
  },
  {
   "cell_type": "code",
   "execution_count": null,
   "id": "735bcae9-f70e-47de-b5ee-e50c9ee92dc7",
   "metadata": {},
   "outputs": [],
   "source": [
    "df = to_lenskit(dfv)\n",
    "df"
   ]
  },
  {
   "cell_type": "markdown",
   "id": "1cc29c50-4108-44a5-abea-28fff924fb0e",
   "metadata": {},
   "source": [
    "# Item-based KNN"
   ]
  },
  {
   "cell_type": "code",
   "execution_count": null,
   "id": "defa94a9-35bb-4a67-b761-cb47e1ec69e0",
   "metadata": {},
   "outputs": [],
   "source": [
    "all_folds = { f.end:f for f in cvtt_open(\n",
    "    df, SPLITS_FREQ, dfp.reset_index(), remove_not_in_train_col='item', col_item='item',\n",
    ")}\n",
    "last_folds_idx = list(all_folds.keys())[-LAST_SPLITS:]\n",
    "last_folds_idx"
   ]
  },
  {
   "cell_type": "code",
   "execution_count": null,
   "id": "a12a0c8e-683c-4d92-a2f1-4e76a699d095",
   "metadata": {},
   "outputs": [],
   "source": [
    "# display(folds[0].end)"
   ]
  },
  {
   "cell_type": "code",
   "execution_count": null,
   "id": "64c53125-fccb-4a65-b51d-60ca1a98c2da",
   "metadata": {},
   "outputs": [],
   "source": [
    "def testHParamsItemKNN(fold, k: int, window_size=None):\n",
    "    # Create algorithm\n",
    "    algo = item_knn.ItemItem(\n",
    "        feedback='implicit', # VERY IMPORTANT\n",
    "        min_sim=0,\n",
    "        # min_nbrs=0,\n",
    "        nnbrs=k,  # the maximum number of neighbors for scoring each item (None for unlimited)\n",
    "    )\n",
    "    return test_with_hparams_lenskit(algo, all_folds[fold], K_RECOMMENDATIONS, window_size)\n",
    "\n",
    "pd.Series(testHParamsItemKNN(last_folds_idx[-1],5,'14d'))"
   ]
  },
  {
   "cell_type": "markdown",
   "id": "b489b2ca-c04d-4b36-815a-c80225230673",
   "metadata": {},
   "source": [
    "## Exploring hparams"
   ]
  },
  {
   "cell_type": "code",
   "execution_count": null,
   "id": "4aa80af6-01a6-426d-b258-d6da27e0125b",
   "metadata": {},
   "outputs": [],
   "source": [
    "results = explore_hparams(\n",
    "    testHParamsItemKNN, \n",
    "    ParameterGrid({\n",
    "    'fold': last_folds_idx,\n",
    "    'k': ITEMKNN_Ks, # ,20,25,30,35,40,45,50,60,70,80,90,100],\n",
    "    'window_size': WINDOW_SIZES,\n",
    "    }),\n",
    "    paths.hparams_progress('itemknn', ORG_NAME, SPLITS_FREQ, SPLITS_NORMALIZE),\n",
    ")\n",
    "mdfi = pd.DataFrame(results)\n",
    "mdfi"
   ]
  },
  {
   "cell_type": "markdown",
   "id": "a52e2e68-f8c3-477f-80c5-314d6e53ae63",
   "metadata": {},
   "source": [
    "### Best overall hparams"
   ]
  },
  {
   "cell_type": "code",
   "execution_count": null,
   "id": "a8b4a5b0-edfe-4241-b5cd-c793ecaf9daf",
   "metadata": {},
   "outputs": [],
   "source": [
    "columns = ['time_train', 'avg_recs'] + [ c for c in mdfi.columns if c.endswith('@5') or c.endswith('@10') or c.endswith('@100') ]\n",
    "mdfi[mdfi['fold'] > last_folds_idx[0]].groupby(['window_size', 'k']).mean().sort_values(OPTIM_METRIC, ascending=False)[columns]"
   ]
  },
  {
   "cell_type": "markdown",
   "id": "f7dba3d3-8ac5-42fa-897e-c02e11bf63fb",
   "metadata": {},
   "source": [
    "### Best hparams by fold"
   ]
  },
  {
   "cell_type": "code",
   "execution_count": null,
   "id": "1734dd47-405f-4423-a981-4f62ce903362",
   "metadata": {},
   "outputs": [],
   "source": [
    "print(\"Best hyperparams by fold\", OPTIM_METRIC)\n",
    "best_hparams = mdfi.sort_values(OPTIM_METRIC,ascending=False).drop_duplicates(['fold'], keep='first').sort_values('fold').set_index(['fold', 'k', 'window_size'])[columns]\n",
    "best_hparams"
   ]
  },
  {
   "cell_type": "code",
   "execution_count": null,
   "id": "492c4b08-2290-4064-8a78-7020ffdde769",
   "metadata": {},
   "outputs": [],
   "source": [
    "best_hparams.tail(len(best_hparams)-1).describe()"
   ]
  },
  {
   "cell_type": "markdown",
   "id": "e84ef64b-2a5b-44d5-b515-ee542de9977a",
   "metadata": {},
   "source": [
    "### Results of using best hparams in next fold\n",
    "\n",
    "Kind of like the cvtt from [the LightGCN notebook](./11_microsoft_tuning.ipynb)"
   ]
  },
  {
   "cell_type": "code",
   "execution_count": null,
   "id": "48c3783f-4977-42ab-a29c-0caa33d0b791",
   "metadata": {},
   "outputs": [],
   "source": [
    "next_hparams_idx = best_hparams.index.to_frame(False)\n",
    "next_hparams_idx['fold'] = next_hparams_idx['fold'].shift()\n",
    "next_hparams_idx = next_hparams_idx.dropna()\n",
    "assert len(next_hparams_idx) == len(best_hparams)-1\n",
    "next_hparams = mdfi.set_index(['fold', 'k', 'window_size']).loc[pd.MultiIndex.from_frame(next_hparams_idx)]\n",
    "next_hparams"
   ]
  },
  {
   "cell_type": "code",
   "execution_count": null,
   "id": "43c246c3-21bc-4111-ab36-aa1a44950cf3",
   "metadata": {},
   "outputs": [],
   "source": [
    "next_hparams.describe()"
   ]
  },
  {
   "cell_type": "markdown",
   "id": "55feda6d-ec3e-4779-8c19-48b6f79fdbb9",
   "metadata": {},
   "source": [
    "# User-based KNN"
   ]
  },
  {
   "cell_type": "code",
   "execution_count": null,
   "id": "ba148df2-696c-4050-ab76-5626c723342a",
   "metadata": {},
   "outputs": [],
   "source": [
    "def testHParamsUserKNN(fold, k: int, window_size=None):\n",
    "    # Create algorithm\n",
    "    algo = user_knn.UserUser(\n",
    "        feedback='implicit', # VERY IMPORTANT\n",
    "        min_sim=0,\n",
    "        # min_nbrs=0,\n",
    "        nnbrs=k,  # the maximum number of neighbors for scoring each item (None for unlimited)\n",
    "    )\n",
    "    return test_with_hparams_lenskit(algo, all_folds[fold], K_RECOMMENDATIONS, window_size)\n",
    "\n",
    "pd.Series(testHParamsUserKNN(last_folds_idx[-1],5,'14d'))"
   ]
  },
  {
   "cell_type": "markdown",
   "id": "0043463a-1f52-4672-a745-476113271de4",
   "metadata": {},
   "source": [
    "## Exploring hparams"
   ]
  },
  {
   "cell_type": "code",
   "execution_count": null,
   "id": "a380cc81-3160-45b5-93b7-54c4189e8774",
   "metadata": {},
   "outputs": [],
   "source": [
    "results = explore_hparams(\n",
    "    testHParamsUserKNN, \n",
    "    ParameterGrid({\n",
    "    'fold': last_folds_idx,\n",
    "    'k': ITEMKNN_Ks, # ,20,25,30,35,40,45,50,60,70,80,90,100],\n",
    "    'window_size': WINDOW_SIZES,\n",
    "    }),\n",
    "    paths.hparams_progress('userknn', ORG_NAME, SPLITS_FREQ, SPLITS_NORMALIZE),\n",
    ")\n",
    "mdfu = pd.DataFrame(results)\n",
    "mdfu"
   ]
  },
  {
   "cell_type": "markdown",
   "id": "1a104ac8-1202-4f72-a8ed-bee1f26d6f16",
   "metadata": {},
   "source": [
    "### Best overall hparams"
   ]
  },
  {
   "cell_type": "code",
   "execution_count": null,
   "id": "2378d104-1b45-4d95-b1e8-5809fadd468a",
   "metadata": {},
   "outputs": [],
   "source": [
    "columns = ['time_train', 'avg_recs'] + [ c for c in mdfu.columns if c.endswith('@5') or c.endswith('@10') or c.endswith('@100') ]\n",
    "mdfu[mdfu['fold'] > last_folds_idx[0]].groupby(['window_size', 'k']).mean().sort_values(OPTIM_METRIC, ascending=False)[columns]"
   ]
  },
  {
   "cell_type": "markdown",
   "id": "360d9d8f-9d9c-4670-86c7-f9de640fd2f4",
   "metadata": {},
   "source": [
    "### Best hparams by fold"
   ]
  },
  {
   "cell_type": "code",
   "execution_count": null,
   "id": "540f88ae-9b88-4a38-b569-73acaef10cc5",
   "metadata": {},
   "outputs": [],
   "source": [
    "print(\"Best hyperparams by fold\", OPTIM_METRIC)\n",
    "best_hparams = mdfu.sort_values(OPTIM_METRIC,ascending=False).drop_duplicates(['fold'], keep='first').sort_values('fold').set_index(['fold', 'k', 'window_size'])[columns]\n",
    "best_hparams"
   ]
  },
  {
   "cell_type": "code",
   "execution_count": null,
   "id": "5e46d92d-ef31-4bf6-8003-2db9a8b078ac",
   "metadata": {},
   "outputs": [],
   "source": [
    "best_hparams.tail(len(best_hparams)-1).describe()"
   ]
  },
  {
   "cell_type": "markdown",
   "id": "66863db9-ef14-4037-9cae-295a89582598",
   "metadata": {},
   "source": [
    "### Results of using best hparams in next fold\n",
    "\n",
    "Kind of like the cvtt from [the LightGCN notebook](./11_microsoft_tuning.ipynb)"
   ]
  },
  {
   "cell_type": "code",
   "execution_count": null,
   "id": "8a0a0f55-fc1d-438c-9bd8-bd9d8b4cb955",
   "metadata": {},
   "outputs": [],
   "source": [
    "next_hparams_idx = best_hparams.index.to_frame(False)\n",
    "next_hparams_idx['fold'] = next_hparams_idx['fold'].shift()\n",
    "next_hparams_idx = next_hparams_idx.dropna()\n",
    "assert len(next_hparams_idx) == len(best_hparams)-1\n",
    "next_hparams = mdfu.set_index(['fold', 'k', 'window_size']).loc[pd.MultiIndex.from_frame(next_hparams_idx)]\n",
    "next_hparams"
   ]
  },
  {
   "cell_type": "code",
   "execution_count": null,
   "id": "44b3b746-c50e-44a8-831d-01146d19503f",
   "metadata": {},
   "outputs": [],
   "source": [
    "next_hparams.describe()"
   ]
  },
  {
   "cell_type": "code",
   "execution_count": null,
   "id": "e7fa51da-12df-4efa-8c8c-cb74cd3ebeb8",
   "metadata": {},
   "outputs": [],
   "source": []
  }
 ],
 "metadata": {
  "kernelspec": {
   "display_name": "Python 3 (ipykernel)",
   "language": "python",
   "name": "python3"
  },
  "language_info": {
   "codemirror_mode": {
    "name": "ipython",
    "version": 3
   },
   "file_extension": ".py",
   "mimetype": "text/x-python",
   "name": "python",
   "nbconvert_exporter": "python",
   "pygments_lexer": "ipython3",
   "version": "3.11.6"
  },
  "widgets": {
   "application/vnd.jupyter.widget-state+json": {
    "state": {
     "016defef878d43009505c2046e52c692": {
      "model_module": "@jupyter-widgets/base",
      "model_module_version": "2.0.0",
      "model_name": "LayoutModel",
      "state": {}
     },
     "0a93f7aa78ff45ebb552fac8811278fc": {
      "model_module": "@jupyter-widgets/controls",
      "model_module_version": "2.0.0",
      "model_name": "HTMLStyleModel",
      "state": {
       "description_width": "",
       "font_size": null,
       "text_color": null
      }
     },
     "15a606913663471693cd39f1bb06bad1": {
      "model_module": "@jupyter-widgets/controls",
      "model_module_version": "2.0.0",
      "model_name": "HTMLStyleModel",
      "state": {
       "description_width": "",
       "font_size": null,
       "text_color": null
      }
     },
     "2e2afd8de1bd4b86b482e3c73bc6da7f": {
      "model_module": "@jupyter-widgets/controls",
      "model_module_version": "2.0.0",
      "model_name": "HTMLModel",
      "state": {
       "layout": "IPY_MODEL_e3222fa1b61143c195958cf6b52212bd",
       "style": "IPY_MODEL_ad500b7340814f0393741de1962b9f7f",
       "value": "100%"
      }
     },
     "3268b5fa8419419882e19f349841c004": {
      "model_module": "@jupyter-widgets/controls",
      "model_module_version": "2.0.0",
      "model_name": "HBoxModel",
      "state": {
       "children": [
        "IPY_MODEL_a09cf5c7fa0d4ea4b4c145e3ee60c7f7",
        "IPY_MODEL_ff5287a7f8b442788952c12107f9e0e8",
        "IPY_MODEL_330cc75886ca45f48e56aae95bf996c1"
       ],
       "layout": "IPY_MODEL_eefafa893473422cada1a8a4950815fd"
      }
     },
     "330cc75886ca45f48e56aae95bf996c1": {
      "model_module": "@jupyter-widgets/controls",
      "model_module_version": "2.0.0",
      "model_name": "HTMLModel",
      "state": {
       "layout": "IPY_MODEL_c4296be8f30e48ef953607e0c380b7af",
       "style": "IPY_MODEL_0a93f7aa78ff45ebb552fac8811278fc",
       "value": " 770/770 [00:00&lt;00:00, 172476.05it/s]"
      }
     },
     "54b8ef85f2954e789aa56bbb9234298a": {
      "model_module": "@jupyter-widgets/controls",
      "model_module_version": "2.0.0",
      "model_name": "HBoxModel",
      "state": {
       "children": [
        "IPY_MODEL_2e2afd8de1bd4b86b482e3c73bc6da7f",
        "IPY_MODEL_e7233004066243dc82cdc634b34f4f23",
        "IPY_MODEL_c95fc5b1fbac4af29d2dad4c79d4cb92"
       ],
       "layout": "IPY_MODEL_ed186be09a5b4a30b9ae08e897e393bc"
      }
     },
     "5ffb0b29518140389b6e560b5e014128": {
      "model_module": "@jupyter-widgets/controls",
      "model_module_version": "2.0.0",
      "model_name": "ProgressStyleModel",
      "state": {
       "description_width": ""
      }
     },
     "799f4381b55d4f088b7c367801ab6c36": {
      "model_module": "@jupyter-widgets/base",
      "model_module_version": "2.0.0",
      "model_name": "LayoutModel",
      "state": {}
     },
     "86535eb508794486bfd4ab2a94a442fd": {
      "model_module": "@jupyter-widgets/controls",
      "model_module_version": "2.0.0",
      "model_name": "ProgressStyleModel",
      "state": {
       "description_width": ""
      }
     },
     "88301df1ca8847358023510373d9be27": {
      "model_module": "@jupyter-widgets/controls",
      "model_module_version": "2.0.0",
      "model_name": "HTMLStyleModel",
      "state": {
       "description_width": "",
       "font_size": null,
       "text_color": null
      }
     },
     "9e1216a5e4944c239ad01cc611bb84d4": {
      "model_module": "@jupyter-widgets/base",
      "model_module_version": "2.0.0",
      "model_name": "LayoutModel",
      "state": {}
     },
     "a09cf5c7fa0d4ea4b4c145e3ee60c7f7": {
      "model_module": "@jupyter-widgets/controls",
      "model_module_version": "2.0.0",
      "model_name": "HTMLModel",
      "state": {
       "layout": "IPY_MODEL_ce8baf0e9e7d480e9c4b77dde7e3fd2a",
       "style": "IPY_MODEL_88301df1ca8847358023510373d9be27",
       "value": "100%"
      }
     },
     "ad500b7340814f0393741de1962b9f7f": {
      "model_module": "@jupyter-widgets/controls",
      "model_module_version": "2.0.0",
      "model_name": "HTMLStyleModel",
      "state": {
       "description_width": "",
       "font_size": null,
       "text_color": null
      }
     },
     "c4296be8f30e48ef953607e0c380b7af": {
      "model_module": "@jupyter-widgets/base",
      "model_module_version": "2.0.0",
      "model_name": "LayoutModel",
      "state": {}
     },
     "c95fc5b1fbac4af29d2dad4c79d4cb92": {
      "model_module": "@jupyter-widgets/controls",
      "model_module_version": "2.0.0",
      "model_name": "HTMLModel",
      "state": {
       "layout": "IPY_MODEL_799f4381b55d4f088b7c367801ab6c36",
       "style": "IPY_MODEL_15a606913663471693cd39f1bb06bad1",
       "value": " 770/770 [02:43&lt;00:00,  2.41it/s]"
      }
     },
     "ce8baf0e9e7d480e9c4b77dde7e3fd2a": {
      "model_module": "@jupyter-widgets/base",
      "model_module_version": "2.0.0",
      "model_name": "LayoutModel",
      "state": {}
     },
     "e3222fa1b61143c195958cf6b52212bd": {
      "model_module": "@jupyter-widgets/base",
      "model_module_version": "2.0.0",
      "model_name": "LayoutModel",
      "state": {}
     },
     "e7233004066243dc82cdc634b34f4f23": {
      "model_module": "@jupyter-widgets/controls",
      "model_module_version": "2.0.0",
      "model_name": "FloatProgressModel",
      "state": {
       "bar_style": "success",
       "layout": "IPY_MODEL_016defef878d43009505c2046e52c692",
       "max": 770,
       "style": "IPY_MODEL_86535eb508794486bfd4ab2a94a442fd",
       "value": 770
      }
     },
     "ed186be09a5b4a30b9ae08e897e393bc": {
      "model_module": "@jupyter-widgets/base",
      "model_module_version": "2.0.0",
      "model_name": "LayoutModel",
      "state": {}
     },
     "eefafa893473422cada1a8a4950815fd": {
      "model_module": "@jupyter-widgets/base",
      "model_module_version": "2.0.0",
      "model_name": "LayoutModel",
      "state": {}
     },
     "ff5287a7f8b442788952c12107f9e0e8": {
      "model_module": "@jupyter-widgets/controls",
      "model_module_version": "2.0.0",
      "model_name": "FloatProgressModel",
      "state": {
       "bar_style": "success",
       "layout": "IPY_MODEL_9e1216a5e4944c239ad01cc611bb84d4",
       "max": 770,
       "style": "IPY_MODEL_5ffb0b29518140389b6e560b5e014128",
       "value": 770
      }
     }
    },
    "version_major": 2,
    "version_minor": 0
   }
  }
 },
 "nbformat": 4,
 "nbformat_minor": 5
}
