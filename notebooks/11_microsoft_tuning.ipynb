{
 "cells": [
  {
   "cell_type": "code",
   "execution_count": 1,
   "metadata": {
    "execution": {
     "iopub.execute_input": "2024-04-24T13:11:04.375127Z",
     "iopub.status.busy": "2024-04-24T13:11:04.374792Z",
     "iopub.status.idle": "2024-04-24T13:11:05.593451Z",
     "shell.execute_reply": "2024-04-24T13:11:05.593068Z",
     "shell.execute_reply.started": "2024-04-24T13:11:04.375096Z"
    }
   },
   "outputs": [],
   "source": [
    "from typing import List, Dict, Any\n",
    "\n",
    "from pathlib import Path\n",
    "import os\n",
    "import time\n",
    "import datetime as dt\n",
    "\n",
    "import pandas as pd\n",
    "from ray import train, tune"
   ]
  },
  {
   "cell_type": "code",
   "execution_count": 2,
   "metadata": {
    "execution": {
     "iopub.execute_input": "2024-04-24T13:11:05.594418Z",
     "iopub.status.busy": "2024-04-24T13:11:05.594026Z",
     "iopub.status.idle": "2024-04-24T13:11:05.598802Z",
     "shell.execute_reply": "2024-04-24T13:11:05.598070Z",
     "shell.execute_reply.started": "2024-04-24T13:11:05.594390Z"
    }
   },
   "outputs": [],
   "source": [
    "# Others config\n",
    "SEED: int = 57\n",
    "RAY_RESULTS_PATH: Path = Path('~/ray_results').expanduser()\n",
    "\n",
    "# Dataset splits config\n",
    "SPLITS_FREQ = 'W-THU'  # Split weekly\n",
    "LAST_SPLITS = 10  # Use just last 10 splits\n",
    "SPLITS_NORMALIZE = True\n",
    "\n",
    "# Training config\n",
    "SMALL_EXPERIMENT: bool = os.uname().nodename != 'lamarck'\n",
    "MAX_EPOCHS: int = 200\n",
    "EPOCHS_PER_ITER: int = 5\n",
    "SAMPLES_PER_SPLIT: int = 100\n",
    "OPTIM_METRIC: str = 'map@10'\n",
    "\n",
    "# Search space config\n",
    "MAX_EMBEDDING_DIM = 1024\n",
    "MAX_BATCH_SIZE = 10 # 2**10\n",
    "MIN_LR = 1e-4\n",
    "GPUS = 16\n",
    "\n",
    "# Eval config\n",
    "TOP_K: List[int] = [5, 10]\n",
    "METRICS: List[str] = [\"recall\", \"ndcg\", \"precision\", \"map\"]"
   ]
  },
  {
   "cell_type": "markdown",
   "metadata": {},
   "source": [
    "## Obtain dataset"
   ]
  },
  {
   "cell_type": "code",
   "execution_count": 3,
   "metadata": {
    "execution": {
     "iopub.execute_input": "2024-04-24T13:11:05.599929Z",
     "iopub.status.busy": "2024-04-24T13:11:05.599622Z",
     "iopub.status.idle": "2024-04-24T13:11:05.777960Z",
     "shell.execute_reply": "2024-04-24T13:11:05.775887Z",
     "shell.execute_reply.started": "2024-04-24T13:11:05.599902Z"
    }
   },
   "outputs": [
    {
     "name": "stdout",
     "output_type": "stream",
     "text": [
      "/home/davo/Documents/GRASIA/recsys24-daos/notebooks\n"
     ]
    }
   ],
   "source": [
    "!pwd"
   ]
  },
  {
   "cell_type": "code",
   "execution_count": 4,
   "metadata": {
    "execution": {
     "iopub.execute_input": "2024-04-24T13:11:05.781912Z",
     "iopub.status.busy": "2024-04-24T13:11:05.780723Z",
     "iopub.status.idle": "2024-04-24T13:11:06.003472Z",
     "shell.execute_reply": "2024-04-24T13:11:06.003013Z",
     "shell.execute_reply.started": "2024-04-24T13:11:05.781829Z"
    }
   },
   "outputs": [
    {
     "name": "stdout",
     "output_type": "stream",
     "text": [
      "<class 'pandas.core.frame.DataFrame'>\n",
      "RangeIndex: 1942 entries, 0 to 1941\n",
      "Data columns (total 5 columns):\n",
      " #   Column  Non-Null Count  Dtype         \n",
      "---  ------  --------------  -----         \n",
      " 0   id      1942 non-null   object        \n",
      " 1   author  1942 non-null   object        \n",
      " 2   date    1942 non-null   datetime64[ns]\n",
      " 3   start   1942 non-null   datetime64[ns]\n",
      " 4   end     1942 non-null   datetime64[ns]\n",
      "dtypes: datetime64[ns](3), object(2)\n",
      "memory usage: 76.0+ KB\n",
      "None\n",
      "<class 'pandas.core.frame.DataFrame'>\n",
      "RangeIndex: 116560 entries, 0 to 116559\n",
      "Data columns (total 4 columns):\n",
      " #   Column    Non-Null Count   Dtype         \n",
      "---  ------    --------------   -----         \n",
      " 0   id        116560 non-null  object        \n",
      " 1   proposal  116560 non-null  object        \n",
      " 2   voter     116560 non-null  object        \n",
      " 3   date      116560 non-null  datetime64[ns]\n",
      "dtypes: datetime64[ns](1), object(3)\n",
      "memory usage: 3.6+ MB\n",
      "None\n"
     ]
    }
   ],
   "source": [
    "dfp = pd.read_csv(\"../data/decentraland/proposals.csv\", parse_dates=['date', 'start', 'end'])\n",
    "dfv = pd.read_csv(\"../data/decentraland/votes.csv\", parse_dates=['date'])\n",
    "\n",
    "print(dfp.info())\n",
    "print(dfv.info())"
   ]
  },
  {
   "cell_type": "markdown",
   "metadata": {},
   "source": [
    "## Split data"
   ]
  },
  {
   "cell_type": "code",
   "execution_count": 5,
   "metadata": {
    "execution": {
     "iopub.execute_input": "2024-04-24T13:11:06.004180Z",
     "iopub.status.busy": "2024-04-24T13:11:06.004027Z",
     "iopub.status.idle": "2024-04-24T13:11:06.021554Z",
     "shell.execute_reply": "2024-04-24T13:11:06.020865Z",
     "shell.execute_reply.started": "2024-04-24T13:11:06.004165Z"
    }
   },
   "outputs": [],
   "source": [
    "from recsys24_daos.model_selection import time_freq_split_current\n",
    "from recsys24_daos.datasets import to_microsoft"
   ]
  },
  {
   "cell_type": "code",
   "execution_count": 6,
   "metadata": {
    "execution": {
     "iopub.execute_input": "2024-04-24T13:11:06.024187Z",
     "iopub.status.busy": "2024-04-24T13:11:06.023566Z",
     "iopub.status.idle": "2024-04-24T13:11:06.051135Z",
     "shell.execute_reply": "2024-04-24T13:11:06.050557Z",
     "shell.execute_reply.started": "2024-04-24T13:11:06.024164Z"
    }
   },
   "outputs": [
    {
     "data": {
      "text/html": [
       "<div>\n",
       "<style scoped>\n",
       "    .dataframe tbody tr th:only-of-type {\n",
       "        vertical-align: middle;\n",
       "    }\n",
       "\n",
       "    .dataframe tbody tr th {\n",
       "        vertical-align: top;\n",
       "    }\n",
       "\n",
       "    .dataframe thead th {\n",
       "        text-align: right;\n",
       "    }\n",
       "</style>\n",
       "<table border=\"1\" class=\"dataframe\">\n",
       "  <thead>\n",
       "    <tr style=\"text-align: right;\">\n",
       "      <th></th>\n",
       "      <th>userID</th>\n",
       "      <th>itemID</th>\n",
       "      <th>timestamp</th>\n",
       "      <th>rating</th>\n",
       "    </tr>\n",
       "  </thead>\n",
       "  <tbody>\n",
       "    <tr>\n",
       "      <th>0</th>\n",
       "      <td>0xe7af1c70f8f089c4c3bd71999692c6c5a15d9e2a</td>\n",
       "      <td>b86aa059-3d31-5d41-a472-70962816f779</td>\n",
       "      <td>2021-12-17 12:28:01</td>\n",
       "      <td>1</td>\n",
       "    </tr>\n",
       "    <tr>\n",
       "      <th>1</th>\n",
       "      <td>0xc54a6c3778016b06cbd126ccc3b5bc06c5f666fb</td>\n",
       "      <td>b86aa059-3d31-5d41-a472-70962816f779</td>\n",
       "      <td>2021-12-17 02:16:23</td>\n",
       "      <td>1</td>\n",
       "    </tr>\n",
       "    <tr>\n",
       "      <th>2</th>\n",
       "      <td>0xd82d005e8f8d5385db40ba23884a5c967bb1e8af</td>\n",
       "      <td>b86aa059-3d31-5d41-a472-70962816f779</td>\n",
       "      <td>2021-12-17 00:38:22</td>\n",
       "      <td>1</td>\n",
       "    </tr>\n",
       "    <tr>\n",
       "      <th>3</th>\n",
       "      <td>0xf4c64db66ffb301985f5ecd85c8f3f9c02f2659d</td>\n",
       "      <td>b86aa059-3d31-5d41-a472-70962816f779</td>\n",
       "      <td>2021-12-16 18:47:08</td>\n",
       "      <td>1</td>\n",
       "    </tr>\n",
       "    <tr>\n",
       "      <th>4</th>\n",
       "      <td>0xd5e9ef1cedad0d135d543d286a2c190b16cbb89e</td>\n",
       "      <td>b86aa059-3d31-5d41-a472-70962816f779</td>\n",
       "      <td>2021-12-16 18:32:15</td>\n",
       "      <td>1</td>\n",
       "    </tr>\n",
       "    <tr>\n",
       "      <th>...</th>\n",
       "      <td>...</td>\n",
       "      <td>...</td>\n",
       "      <td>...</td>\n",
       "      <td>...</td>\n",
       "    </tr>\n",
       "    <tr>\n",
       "      <th>116555</th>\n",
       "      <td>0x1156bf625b37623a86d004e66e0a01ec4b17e051</td>\n",
       "      <td>d083109e-4819-54b9-a01c-67bd5a770f65</td>\n",
       "      <td>2022-09-06 18:47:54</td>\n",
       "      <td>1</td>\n",
       "    </tr>\n",
       "    <tr>\n",
       "      <th>116556</th>\n",
       "      <td>0xbd03add5da0e173c67c9c1073ffba017147c42d4</td>\n",
       "      <td>d083109e-4819-54b9-a01c-67bd5a770f65</td>\n",
       "      <td>2022-09-06 18:44:04</td>\n",
       "      <td>1</td>\n",
       "    </tr>\n",
       "    <tr>\n",
       "      <th>116557</th>\n",
       "      <td>0x4da03f669dd9609dc49ca6f3451ba22d3b792395</td>\n",
       "      <td>d083109e-4819-54b9-a01c-67bd5a770f65</td>\n",
       "      <td>2022-09-06 18:21:14</td>\n",
       "      <td>1</td>\n",
       "    </tr>\n",
       "    <tr>\n",
       "      <th>116558</th>\n",
       "      <td>0xd6e62a97a55537cd04847bb73e22208bd20106aa</td>\n",
       "      <td>d083109e-4819-54b9-a01c-67bd5a770f65</td>\n",
       "      <td>2022-09-06 18:14:10</td>\n",
       "      <td>1</td>\n",
       "    </tr>\n",
       "    <tr>\n",
       "      <th>116559</th>\n",
       "      <td>0x9a70a6e429c4ede5fcb0562f5bcc0c0d992493f4</td>\n",
       "      <td>d083109e-4819-54b9-a01c-67bd5a770f65</td>\n",
       "      <td>2022-09-06 18:12:51</td>\n",
       "      <td>1</td>\n",
       "    </tr>\n",
       "  </tbody>\n",
       "</table>\n",
       "<p>116560 rows × 4 columns</p>\n",
       "</div>"
      ],
      "text/plain": [
       "                                            userID  \\\n",
       "0       0xe7af1c70f8f089c4c3bd71999692c6c5a15d9e2a   \n",
       "1       0xc54a6c3778016b06cbd126ccc3b5bc06c5f666fb   \n",
       "2       0xd82d005e8f8d5385db40ba23884a5c967bb1e8af   \n",
       "3       0xf4c64db66ffb301985f5ecd85c8f3f9c02f2659d   \n",
       "4       0xd5e9ef1cedad0d135d543d286a2c190b16cbb89e   \n",
       "...                                            ...   \n",
       "116555  0x1156bf625b37623a86d004e66e0a01ec4b17e051   \n",
       "116556  0xbd03add5da0e173c67c9c1073ffba017147c42d4   \n",
       "116557  0x4da03f669dd9609dc49ca6f3451ba22d3b792395   \n",
       "116558  0xd6e62a97a55537cd04847bb73e22208bd20106aa   \n",
       "116559  0x9a70a6e429c4ede5fcb0562f5bcc0c0d992493f4   \n",
       "\n",
       "                                      itemID           timestamp  rating  \n",
       "0       b86aa059-3d31-5d41-a472-70962816f779 2021-12-17 12:28:01       1  \n",
       "1       b86aa059-3d31-5d41-a472-70962816f779 2021-12-17 02:16:23       1  \n",
       "2       b86aa059-3d31-5d41-a472-70962816f779 2021-12-17 00:38:22       1  \n",
       "3       b86aa059-3d31-5d41-a472-70962816f779 2021-12-16 18:47:08       1  \n",
       "4       b86aa059-3d31-5d41-a472-70962816f779 2021-12-16 18:32:15       1  \n",
       "...                                      ...                 ...     ...  \n",
       "116555  d083109e-4819-54b9-a01c-67bd5a770f65 2022-09-06 18:47:54       1  \n",
       "116556  d083109e-4819-54b9-a01c-67bd5a770f65 2022-09-06 18:44:04       1  \n",
       "116557  d083109e-4819-54b9-a01c-67bd5a770f65 2022-09-06 18:21:14       1  \n",
       "116558  d083109e-4819-54b9-a01c-67bd5a770f65 2022-09-06 18:14:10       1  \n",
       "116559  d083109e-4819-54b9-a01c-67bd5a770f65 2022-09-06 18:12:51       1  \n",
       "\n",
       "[116560 rows x 4 columns]"
      ]
     },
     "execution_count": 6,
     "metadata": {},
     "output_type": "execute_result"
    }
   ],
   "source": [
    "df = to_microsoft(dfv)\n",
    "df"
   ]
  },
  {
   "cell_type": "code",
   "execution_count": 7,
   "metadata": {
    "execution": {
     "iopub.execute_input": "2024-04-24T13:11:06.052020Z",
     "iopub.status.busy": "2024-04-24T13:11:06.051817Z",
     "iopub.status.idle": "2024-04-24T13:11:10.808399Z",
     "shell.execute_reply": "2024-04-24T13:11:10.807862Z",
     "shell.execute_reply.started": "2024-04-24T13:11:06.052004Z"
    }
   },
   "outputs": [
    {
     "name": "stdout",
     "output_type": "stream",
     "text": [
      "112 folds\n",
      "Split 0, train from: 2021-05-24 to 2023-05-10, test from: 2023-05-11 to 2023-05-22\n",
      "  t: 2023-05-11 00:00:00\n",
      "  open proposals: 18\n",
      "  len(train): 106129, len(test): 354\n",
      "  users(train): 6863, users(test): 139\n",
      "\n",
      "  highest possible recall@5:\t0.9631\n",
      "  highest possible ndcg@5:\t1.0000\n",
      "  highest possible precision@5:\t0.4432\n",
      "  highest possible map@5:\t0.9631\n",
      "------------------------------\n",
      "Split 1, train from: 2021-05-24 to 2023-05-17, test from: 2023-05-18 to 2023-05-31\n",
      "  t: 2023-05-18 00:00:00\n",
      "  open proposals: 25\n",
      "  len(train): 107387, len(test): 811\n",
      "  users(train): 6886, users(test): 169\n",
      "\n",
      "  highest possible recall@5:\t0.8565\n",
      "  highest possible ndcg@5:\t1.0000\n",
      "  highest possible precision@5:\t0.5953\n",
      "  highest possible map@5:\t0.8565\n",
      "------------------------------\n",
      "Split 2, train from: 2021-05-24 to 2023-05-24, test from: 2023-05-25 to 2023-06-07\n",
      "  t: 2023-05-25 00:00:00\n",
      "  open proposals: 19\n",
      "  len(train): 108802, len(test): 332\n",
      "  users(train): 6910, users(test): 122\n",
      "\n",
      "  highest possible recall@5:\t0.9475\n",
      "  highest possible ndcg@5:\t1.0000\n",
      "  highest possible precision@5:\t0.4311\n",
      "  highest possible map@5:\t0.9475\n",
      "------------------------------\n",
      "Split 3, train from: 2021-05-24 to 2023-05-31, test from: 2023-06-01 to 2023-06-13\n",
      "  t: 2023-06-01 00:00:00\n",
      "  open proposals: 13\n",
      "  len(train): 109556, len(test): 289\n",
      "  users(train): 6920, users(test): 101\n",
      "\n",
      "  highest possible recall@5:\t0.9743\n",
      "  highest possible ndcg@5:\t1.0000\n",
      "  highest possible precision@5:\t0.5228\n",
      "  highest possible map@5:\t0.9743\n",
      "------------------------------\n",
      "Split 4, train from: 2021-05-24 to 2023-06-07, test from: 2023-06-08 to 2023-06-21\n",
      "  t: 2023-06-08 00:00:00\n",
      "  open proposals: 13\n",
      "  len(train): 110250, len(test): 341\n",
      "  users(train): 6937, users(test): 118\n",
      "\n",
      "  highest possible recall@5:\t0.9538\n",
      "  highest possible ndcg@5:\t1.0000\n",
      "  highest possible precision@5:\t0.4966\n",
      "  highest possible map@5:\t0.9538\n",
      "------------------------------\n",
      "Split 5, train from: 2021-05-24 to 2023-06-14, test from: 2023-06-15 to 2023-06-27\n",
      "  t: 2023-06-15 00:00:00\n",
      "  open proposals: 16\n",
      "  len(train): 111195, len(test): 391\n",
      "  users(train): 6955, users(test): 132\n",
      "\n",
      "  highest possible recall@5:\t0.9506\n",
      "  highest possible ndcg@5:\t1.0000\n",
      "  highest possible precision@5:\t0.5061\n",
      "  highest possible map@5:\t0.9506\n",
      "------------------------------\n",
      "Split 6, train from: 2021-05-24 to 2023-06-21, test from: 2023-06-22 to 2023-07-04\n",
      "  t: 2023-06-22 00:00:00\n",
      "  open proposals: 17\n",
      "  len(train): 112105, len(test): 360\n",
      "  users(train): 6987, users(test): 148\n",
      "\n",
      "  highest possible recall@5:\t0.9676\n",
      "  highest possible ndcg@5:\t1.0000\n",
      "  highest possible precision@5:\t0.4216\n",
      "  highest possible map@5:\t0.9676\n",
      "------------------------------\n",
      "Split 7, train from: 2021-05-24 to 2023-06-28, test from: 2023-06-29 to 2023-07-11\n",
      "  t: 2023-06-29 00:00:00\n",
      "  open proposals: 10\n",
      "  len(train): 112925, len(test): 239\n",
      "  users(train): 7042, users(test): 107\n",
      "\n",
      "  highest possible recall@5:\t0.9942\n",
      "  highest possible ndcg@5:\t1.0000\n",
      "  highest possible precision@5:\t0.4393\n",
      "  highest possible map@5:\t0.9942\n",
      "------------------------------\n",
      "Split 8, train from: 2021-05-24 to 2023-07-05, test from: 2023-07-06 to 2023-07-18\n",
      "  t: 2023-07-06 00:00:00\n",
      "  open proposals: 21\n",
      "  len(train): 114417, len(test): 890\n",
      "  users(train): 7129, users(test): 249\n",
      "\n",
      "  highest possible recall@5:\t0.9112\n",
      "  highest possible ndcg@5:\t1.0000\n",
      "  highest possible precision@5:\t0.4916\n",
      "  highest possible map@5:\t0.9112\n",
      "------------------------------\n",
      "Split 9, train from: 2021-05-24 to 2023-07-12, test from: 2023-07-13 to 2023-07-20\n",
      "  t: 2023-07-13 00:00:00\n",
      "  open proposals: 23\n",
      "  len(train): 115984, len(test): 384\n",
      "  users(train): 7234, users(test): 142\n",
      "\n",
      "  highest possible recall@5:\t0.9579\n",
      "  highest possible ndcg@5:\t1.0000\n",
      "  highest possible precision@5:\t0.4366\n",
      "  highest possible map@5:\t0.9579\n",
      "------------------------------\n"
     ]
    }
   ],
   "source": [
    "from recommenders.evaluation.python_evaluation import metrics as metrics_dict\n",
    "\n",
    "folds = list(time_freq_split_current(df, SPLITS_FREQ, dfp, return_open=True, remove_not_in_train_col='userID'))\n",
    "print(len(folds), \"folds\")\n",
    "folds = folds[-LAST_SPLITS:]\n",
    "for i, (dftrain, dftest, t, open_proposals) in enumerate(folds):\n",
    "    min_train = dftrain['timestamp'].min().date()\n",
    "    max_train = dftrain['timestamp'].max().date()\n",
    "    min_test  = dftest['timestamp'].min().date()\n",
    "    max_test  = dftest['timestamp'].max().date()\n",
    "\n",
    "    train_users = len(set(dftrain['userID']))\n",
    "    test_users = len(set(dftest['userID']))\n",
    "    \n",
    "    print(f\"Split {i}, train from: {min_train} to {max_train}, test from: {min_test} to {max_test}\")\n",
    "    print(f\"  t: {t}\")\n",
    "    print(f\"  open proposals: {len(open_proposals)}\")\n",
    "    print(f\"  len(train): {len(dftrain)}, len(test): {len(dftest)}\")\n",
    "    print(f\"  users(train): {train_users}, users(test): {test_users}\")\n",
    "\n",
    "    print()\n",
    "    dftest['prediction'] = 1\n",
    "    for m in METRICS:\n",
    "        f = metrics_dict[f'{m}_at_k']\n",
    "        print(f\"  highest possible {m}@{TOP_K[0]}:\\t{f(dftest, dftest, k=TOP_K[0], relevancy_method='top_k'):.4f}\")\n",
    "\n",
    "    print(\"-\"*30)"
   ]
  },
  {
   "cell_type": "markdown",
   "metadata": {},
   "source": [
    "## Testing model"
   ]
  },
  {
   "cell_type": "code",
   "execution_count": 8,
   "metadata": {
    "execution": {
     "iopub.execute_input": "2024-04-24T13:11:10.809256Z",
     "iopub.status.busy": "2024-04-24T13:11:10.808996Z",
     "iopub.status.idle": "2024-04-24T13:11:13.275531Z",
     "shell.execute_reply": "2024-04-24T13:11:13.275028Z",
     "shell.execute_reply.started": "2024-04-24T13:11:10.809241Z"
    }
   },
   "outputs": [
    {
     "name": "stderr",
     "output_type": "stream",
     "text": [
      "2024-04-24 15:11:11.129634: I tensorflow/core/util/port.cc:113] oneDNN custom operations are on. You may see slightly different numerical results due to floating-point round-off errors from different computation orders. To turn them off, set the environment variable `TF_ENABLE_ONEDNN_OPTS=0`.\n",
      "2024-04-24 15:11:11.132858: I external/local_tsl/tsl/cuda/cudart_stub.cc:32] Could not find cuda drivers on your machine, GPU will not be used.\n",
      "2024-04-24 15:11:11.209197: I external/local_tsl/tsl/cuda/cudart_stub.cc:32] Could not find cuda drivers on your machine, GPU will not be used.\n",
      "2024-04-24 15:11:11.454719: I tensorflow/core/platform/cpu_feature_guard.cc:210] This TensorFlow binary is optimized to use available CPU instructions in performance-critical operations.\n",
      "To enable the following instructions: AVX2 AVX512F AVX512_VNNI FMA, in other operations, rebuild TensorFlow with the appropriate compiler flags.\n",
      "2024-04-24 15:11:12.475786: W tensorflow/compiler/tf2tensorrt/utils/py_utils.cc:38] TF-TRT Warning: Could not find TensorRT\n"
     ]
    }
   ],
   "source": [
    "from recommenders.models.deeprec.DataModel.ImplicitCF import ImplicitCF\n",
    "from recommenders.models.deeprec.deeprec_utils import prepare_hparams\n",
    "\n",
    "from recsys24_daos.models import LightGCNCustom"
   ]
  },
  {
   "cell_type": "code",
   "execution_count": 9,
   "metadata": {
    "execution": {
     "iopub.execute_input": "2024-04-24T13:11:13.276328Z",
     "iopub.status.busy": "2024-04-24T13:11:13.276069Z",
     "iopub.status.idle": "2024-04-24T13:11:14.567285Z",
     "shell.execute_reply": "2024-04-24T13:11:14.566775Z",
     "shell.execute_reply.started": "2024-04-24T13:11:13.276312Z"
    }
   },
   "outputs": [
    {
     "name": "stderr",
     "output_type": "stream",
     "text": [
      "/home/davo/Documents/GRASIA/recsys24-daos/.venv/lib/python3.9/site-packages/recommenders/models/deeprec/DataModel/ImplicitCF.py:73: FutureWarning: The frame.append method is deprecated and will be removed from pandas in a future version. Use pandas.concat instead.\n",
      "  df = train if test is None else train.append(test)\n"
     ]
    },
    {
     "name": "stdout",
     "output_type": "stream",
     "text": [
      "items: 1941 user: 7234\n",
      "Already create adjacency matrix.\n",
      "Already normalize adjacency matrix.\n",
      "Using xavier initialization.\n"
     ]
    },
    {
     "name": "stderr",
     "output_type": "stream",
     "text": [
      "2024-04-24 15:11:14.530750: I tensorflow/compiler/mlir/mlir_graph_optimization_pass.cc:388] MLIR V1 optimization pass is not enabled\n"
     ]
    }
   ],
   "source": [
    "hparams = prepare_hparams(\n",
    "    model_type='lightgcn',\n",
    "    n_layers=3,\n",
    "    batch_size=512,\n",
    "    embed_size=64,\n",
    "    epochs=2,\n",
    "    learning_rate=0.001,\n",
    "    decay=0.001,\n",
    "    metrics=[\"recall\", \"ndcg\", \"precision\", \"map\"],\n",
    "    eval_epoch=2,\n",
    "    top_k=TOP_K[0],\n",
    "    save_model=False,\n",
    "    MODEL_DIR='./data/model/lightgcn/',\n",
    ")\n",
    "dataloader = ImplicitCF(train=folds[-1][0], test=folds[-1][1], seed=SEED)\n",
    "print(\"items:\", dataloader.n_items, \"user:\", dataloader.n_users)\n",
    "model = LightGCNCustom(data=dataloader, hparams=hparams)"
   ]
  },
  {
   "cell_type": "code",
   "execution_count": 10,
   "metadata": {
    "execution": {
     "iopub.execute_input": "2024-04-24T13:11:14.568094Z",
     "iopub.status.busy": "2024-04-24T13:11:14.567921Z",
     "iopub.status.idle": "2024-04-24T13:11:24.474370Z",
     "shell.execute_reply": "2024-04-24T13:11:24.473926Z",
     "shell.execute_reply.started": "2024-04-24T13:11:14.568077Z"
    }
   },
   "outputs": [
    {
     "name": "stdout",
     "output_type": "stream",
     "text": [
      "Epoch 1 (train)5.0s: train loss = 0.59172 = (mf)0.59087 + (embed)0.00085\n",
      "Epoch 2 (train)4.8s + (eval)0.1s: train loss = 0.34394 = (mf)0.33969 + (embed)0.00425, recall = 0.00000, ndcg = 0.00000, precision = 0.00000, map = 0.00000\n"
     ]
    },
    {
     "data": {
      "text/plain": [
       "[0.0, 0.0, 0.0, 0.0]"
      ]
     },
     "execution_count": 10,
     "metadata": {},
     "output_type": "execute_result"
    }
   ],
   "source": [
    "model.fit()\n",
    "model.run_eval()"
   ]
  },
  {
   "cell_type": "code",
   "execution_count": 11,
   "metadata": {
    "execution": {
     "iopub.execute_input": "2024-04-24T13:11:24.475417Z",
     "iopub.status.busy": "2024-04-24T13:11:24.475193Z",
     "iopub.status.idle": "2024-04-24T13:11:24.517587Z",
     "shell.execute_reply": "2024-04-24T13:11:24.516917Z",
     "shell.execute_reply.started": "2024-04-24T13:11:24.475393Z"
    }
   },
   "outputs": [
    {
     "data": {
      "text/html": [
       "<div>\n",
       "<style scoped>\n",
       "    .dataframe tbody tr th:only-of-type {\n",
       "        vertical-align: middle;\n",
       "    }\n",
       "\n",
       "    .dataframe tbody tr th {\n",
       "        vertical-align: top;\n",
       "    }\n",
       "\n",
       "    .dataframe thead th {\n",
       "        text-align: right;\n",
       "    }\n",
       "</style>\n",
       "<table border=\"1\" class=\"dataframe\">\n",
       "  <thead>\n",
       "    <tr style=\"text-align: right;\">\n",
       "      <th></th>\n",
       "      <th>userID</th>\n",
       "      <th>itemID</th>\n",
       "      <th>prediction</th>\n",
       "    </tr>\n",
       "  </thead>\n",
       "  <tbody>\n",
       "    <tr>\n",
       "      <th>0</th>\n",
       "      <td>405</td>\n",
       "      <td>1789</td>\n",
       "      <td>2.781798</td>\n",
       "    </tr>\n",
       "    <tr>\n",
       "      <th>1</th>\n",
       "      <td>405</td>\n",
       "      <td>1920</td>\n",
       "      <td>2.547448</td>\n",
       "    </tr>\n",
       "    <tr>\n",
       "      <th>2</th>\n",
       "      <td>405</td>\n",
       "      <td>483</td>\n",
       "      <td>2.506250</td>\n",
       "    </tr>\n",
       "    <tr>\n",
       "      <th>3</th>\n",
       "      <td>266</td>\n",
       "      <td>1920</td>\n",
       "      <td>11.225468</td>\n",
       "    </tr>\n",
       "    <tr>\n",
       "      <th>4</th>\n",
       "      <td>266</td>\n",
       "      <td>926</td>\n",
       "      <td>11.072497</td>\n",
       "    </tr>\n",
       "    <tr>\n",
       "      <th>...</th>\n",
       "      <td>...</td>\n",
       "      <td>...</td>\n",
       "      <td>...</td>\n",
       "    </tr>\n",
       "    <tr>\n",
       "      <th>421</th>\n",
       "      <td>3973</td>\n",
       "      <td>1920</td>\n",
       "      <td>1.238768</td>\n",
       "    </tr>\n",
       "    <tr>\n",
       "      <th>422</th>\n",
       "      <td>3973</td>\n",
       "      <td>926</td>\n",
       "      <td>1.205764</td>\n",
       "    </tr>\n",
       "    <tr>\n",
       "      <th>423</th>\n",
       "      <td>3203</td>\n",
       "      <td>425</td>\n",
       "      <td>1.991336</td>\n",
       "    </tr>\n",
       "    <tr>\n",
       "      <th>424</th>\n",
       "      <td>3203</td>\n",
       "      <td>1920</td>\n",
       "      <td>1.783863</td>\n",
       "    </tr>\n",
       "    <tr>\n",
       "      <th>425</th>\n",
       "      <td>3203</td>\n",
       "      <td>926</td>\n",
       "      <td>1.734545</td>\n",
       "    </tr>\n",
       "  </tbody>\n",
       "</table>\n",
       "<p>421 rows × 3 columns</p>\n",
       "</div>"
      ],
      "text/plain": [
       "     userID  itemID  prediction\n",
       "0       405    1789    2.781798\n",
       "1       405    1920    2.547448\n",
       "2       405     483    2.506250\n",
       "3       266    1920   11.225468\n",
       "4       266     926   11.072497\n",
       "..      ...     ...         ...\n",
       "421    3973    1920    1.238768\n",
       "422    3973     926    1.205764\n",
       "423    3203     425    1.991336\n",
       "424    3203    1920    1.783863\n",
       "425    3203     926    1.734545\n",
       "\n",
       "[421 rows x 3 columns]"
      ]
     },
     "execution_count": 11,
     "metadata": {},
     "output_type": "execute_result"
    }
   ],
   "source": [
    "model.recommend_k_items(\n",
    "    dataloader.test, \n",
    "    top_k=3, \n",
    "    use_id=True, \n",
    "    remove_seen=True, \n",
    "    recommend_from=folds[-1][3]\n",
    ")"
   ]
  },
  {
   "cell_type": "markdown",
   "metadata": {},
   "source": [
    "## Defining trainable"
   ]
  },
  {
   "cell_type": "code",
   "execution_count": 12,
   "metadata": {
    "execution": {
     "iopub.execute_input": "2024-04-24T13:11:24.518676Z",
     "iopub.status.busy": "2024-04-24T13:11:24.518438Z",
     "iopub.status.idle": "2024-04-24T13:11:24.521687Z",
     "shell.execute_reply": "2024-04-24T13:11:24.521184Z",
     "shell.execute_reply.started": "2024-04-24T13:11:24.518652Z"
    }
   },
   "outputs": [],
   "source": [
    "from recommenders.evaluation.python_evaluation import map_at_k, ndcg_at_k, precision_at_k, recall_at_k"
   ]
  },
  {
   "cell_type": "code",
   "execution_count": 13,
   "metadata": {
    "execution": {
     "iopub.execute_input": "2024-04-24T13:11:24.522779Z",
     "iopub.status.busy": "2024-04-24T13:11:24.522536Z",
     "iopub.status.idle": "2024-04-24T13:11:24.540568Z",
     "shell.execute_reply": "2024-04-24T13:11:24.539695Z",
     "shell.execute_reply.started": "2024-04-24T13:11:24.522754Z"
    }
   },
   "outputs": [],
   "source": [
    "class TrainLightGCN(tune.Trainable):\n",
    "    def setup(\n",
    "        self,\n",
    "        config: Dict[str, Any],\n",
    "        data,\n",
    "    ):\n",
    "        self.config = config\n",
    "\n",
    "        self.hparams = prepare_hparams(\n",
    "            model_type='lightgcn',\n",
    "            n_layers=config['conv_layers'],\n",
    "            batch_size=2**config['batch_size'],\n",
    "            embed_size=config['embedding_dim'],\n",
    "            epochs=EPOCHS_PER_ITER,\n",
    "            learning_rate=config['learning_rate'],\n",
    "            decay=config['l2'],\n",
    "            metrics=METRICS,\n",
    "            eval_epoch=-1,\n",
    "            top_k=TOP_K[0],\n",
    "            save_model=False,\n",
    "            MODEL_DIR='./data/model/lightgcn/',\n",
    "        )\n",
    "\n",
    "        train, test, self.t, self.open_proposals = data\n",
    "        self.dataloader = ImplicitCF(train=train, test=test, seed=SEED)\n",
    "        self.model = LightGCNCustom(self.hparams, self.dataloader, seed=SEED)\n",
    "        self.total_train = 0\n",
    "        self.total_eval = 0\n",
    "\n",
    "    @property\n",
    "    def iteration(self):\n",
    "        return self.model.epochs_done\n",
    "\n",
    "    @property\n",
    "    def training_iteration(self):\n",
    "        return self.model.epochs_done\n",
    "\n",
    "    def step(self):\n",
    "        \"\"\"\n",
    "        As a rule of thumb, the execution time of step should be large enough to avoid overheads \n",
    "        (i.e. more than a few seconds), but short enough to report progress periodically \n",
    "        (i.e. at most a few minutes).\n",
    "        \"\"\"\n",
    "        assert EPOCHS_PER_ITER > 0\n",
    "\n",
    "        train_start = time.time()\n",
    "        for _ in range(EPOCHS_PER_ITER):\n",
    "            ret = self.model.fit_epoch()\n",
    "        eval_start = train_end = time.time()\n",
    "\n",
    "        eval_dict = {'model_'+k:v for k,v in zip(self.model.metrics, self.model.run_eval())}\n",
    "        for k in TOP_K:\n",
    "            recs = self.model.recommend_k_items(\n",
    "                self.dataloader.test, \n",
    "                top_k=k,\n",
    "                use_id=True, \n",
    "                remove_seen=True, \n",
    "                recommend_from=self.open_proposals,\n",
    "            )\n",
    "            \n",
    "            eval_dict[f'precision@{k}'] = precision_at_k(self.dataloader.test, recs, k=k)\n",
    "            eval_dict[f'ndcg@{k}'] = ndcg_at_k(self.dataloader.test, recs, k=k)\n",
    "            eval_dict[f'recall@{k}'] = recall_at_k(self.dataloader.test, recs, k=k)\n",
    "            eval_dict[f'map@{k}'] = map_at_k(self.dataloader.test, recs, k=k)\n",
    "\n",
    "        eval_end = time.time()\n",
    "\n",
    "        self.total_train += train_end - train_start\n",
    "        self.total_eval += eval_end - eval_start\n",
    "        \n",
    "        return {\n",
    "            'iteration': self.iteration,\n",
    "            'loss': ret[0],\n",
    "            'mf_loss': ret[1],\n",
    "            'emb_loss': ret[2],\n",
    "            **eval_dict,\n",
    "            'time_train': train_end-train_start,\n",
    "            'time_test': eval_end-eval_start,\n",
    "            'time_total_train': self.total_train,\n",
    "            'time_total_test': self.total_eval,\n",
    "        }\n",
    "\n",
    "    def save_checkpoint(self, checkpoint_dir):\n",
    "        checkpoint_path = os.path.join(checkpoint_dir, \"model\")\n",
    "        self.model.saver.save(\n",
    "            sess=self.model.sess,\n",
    "            save_path=checkpoint_path,\n",
    "        )\n",
    "        return checkpoint_dir\n",
    "\n",
    "    def load_checkpoint(self, checkpoint_path):\n",
    "        self.model.load(checkpoint_path)"
   ]
  },
  {
   "cell_type": "markdown",
   "metadata": {},
   "source": [
    "## Big experiment"
   ]
  },
  {
   "cell_type": "code",
   "execution_count": 14,
   "metadata": {
    "execution": {
     "iopub.execute_input": "2024-04-24T13:11:24.542415Z",
     "iopub.status.busy": "2024-04-24T13:11:24.541930Z",
     "iopub.status.idle": "2024-04-24T13:11:24.564050Z",
     "shell.execute_reply": "2024-04-24T13:11:24.563491Z",
     "shell.execute_reply.started": "2024-04-24T13:11:24.542384Z"
    }
   },
   "outputs": [
    {
     "data": {
      "text/plain": [
       "PosixPath('/home/davo/ray_results')"
      ]
     },
     "execution_count": 14,
     "metadata": {},
     "output_type": "execute_result"
    }
   ],
   "source": [
    "RAY_RESULTS_PATH"
   ]
  },
  {
   "cell_type": "code",
   "execution_count": 15,
   "metadata": {
    "execution": {
     "iopub.execute_input": "2024-04-24T13:11:24.564774Z",
     "iopub.status.busy": "2024-04-24T13:11:24.564626Z",
     "iopub.status.idle": "2024-04-24T13:11:24.577967Z",
     "shell.execute_reply": "2024-04-24T13:11:24.577401Z",
     "shell.execute_reply.started": "2024-04-24T13:11:24.564760Z"
    }
   },
   "outputs": [
    {
     "name": "stdout",
     "output_type": "stream",
     "text": [
      "aerial\n",
      "{'cpu': 1, 'memory': 2000000000.0}\n"
     ]
    }
   ],
   "source": [
    "print(os.uname().nodename)\n",
    "\n",
    "### SET TRAINING RESOURCES\n",
    "if os.uname().nodename == 'lamarck':\n",
    "    # assert torch.cuda.is_available()\n",
    "\n",
    "    NUM_SAMPLES = SAMPLES_PER_SPLIT\n",
    "    # Every run takes approx half a gig of vram (no optimizations)\n",
    "    # The RTX 4090 has 24GB so we can run the model about 48 times\n",
    "    resources_per_trial={\n",
    "        'cpu': 1,\n",
    "        'gpu': 1 / GPUS,\n",
    "    }\n",
    "else:\n",
    "    NUM_SAMPLES = 1\n",
    "    resources_per_trial={\n",
    "        'cpu': 1,\n",
    "        # It takes about 1.5 GiB with full training data, but I put a bit more because\n",
    "        # this notebook also takes a bit of memory\n",
    "        'memory': 2e9,\n",
    "    }\n",
    "print(resources_per_trial)"
   ]
  },
  {
   "cell_type": "code",
   "execution_count": 16,
   "metadata": {
    "execution": {
     "iopub.execute_input": "2024-04-24T13:11:24.579073Z",
     "iopub.status.busy": "2024-04-24T13:11:24.578755Z",
     "iopub.status.idle": "2024-04-24T13:11:24.800219Z",
     "shell.execute_reply": "2024-04-24T13:11:24.799813Z",
     "shell.execute_reply.started": "2024-04-24T13:11:24.579042Z"
    }
   },
   "outputs": [],
   "source": [
    "from ray.tune.search.hyperopt import HyperOptSearch"
   ]
  },
  {
   "cell_type": "code",
   "execution_count": 17,
   "metadata": {
    "execution": {
     "iopub.execute_input": "2024-04-24T13:11:24.800968Z",
     "iopub.status.busy": "2024-04-24T13:11:24.800808Z",
     "iopub.status.idle": "2024-04-24T13:11:24.809070Z",
     "shell.execute_reply": "2024-04-24T13:11:24.808471Z",
     "shell.execute_reply.started": "2024-04-24T13:11:24.800954Z"
    }
   },
   "outputs": [],
   "source": [
    "def getTunerOnFold(f, points_to_evaluate = None):\n",
    "    ORG_NAME = \"Decentraland\"\n",
    "    CUTOFF_DATE = dt.datetime.fromisoformat(\"2023-07-29\")\n",
    "    \n",
    "    name = f'LightGCN_optim={OPTIM_METRIC},dao={ORG_NAME},freq={SPLITS_FREQ},normalize={SPLITS_NORMALIZE},cutoff_date={CUTOFF_DATE.isoformat()},fold={f}'\n",
    "    paths = list(RAY_RESULTS_PATH.glob(f'{name}_*'))\n",
    "    last_experiment = max(paths, key=lambda x: x.stat().st_ctime) if paths else None\n",
    "\n",
    "    dftrain,dftest,t,open_proposals = folds[f]\n",
    "    param_space = dict(\n",
    "        fold=f,\n",
    "        batch_size=tune.randint(6, MAX_BATCH_SIZE), # 64 - 1024\n",
    "        embedding_dim=tune.lograndint(1, MAX_EMBEDDING_DIM, base=2),\n",
    "        conv_layers=tune.randint(1,6),\n",
    "        learning_rate=tune.qloguniform(MIN_LR, 1, 1e-4),\n",
    "        l2=tune.loguniform(1e-7, 1e-2, 1e-7),\n",
    "    )\n",
    "    \n",
    "    ### RESTORE EXPERIMENT OR CREATE A NEW ONE\n",
    "    if last_experiment and tune.Tuner.can_restore(last_experiment):\n",
    "        print(f\"Restoring last experiment: {last_experiment}\")\n",
    "        tuner = tune.Tuner.restore(\n",
    "            str(last_experiment),\n",
    "            trainable=tune.with_resources(\n",
    "                # tune.with_parameters(TrainLightGCN,  train=dftrain, test=dftest, open_proposals=open_proposals),\n",
    "                tune.with_parameters(TrainLightGCN, data=folds[f]),\n",
    "                resources_per_trial,\n",
    "            ),\n",
    "            restart_errored=True,\n",
    "            param_space=param_space,\n",
    "        )\n",
    "    else:\n",
    "        print(f\"No experiment found for fold {f}, creating new tuner with {NUM_SAMPLES} samples\")\n",
    "        search_alg = None\n",
    "        search_alg = HyperOptSearch(\n",
    "            # points_to_evaluate=[{\n",
    "            #     'batch_size': 8, # 2**8 = 256\n",
    "            #     'learning_rate': 10e-2,\n",
    "            #     'l2': 10e-6,\n",
    "            #     'embedding_dim': 100,\n",
    "            #     'conv_layers': 3,\n",
    "            # }],\n",
    "            points_to_evaluate = points_to_evaluate,\n",
    "            random_state_seed=SEED,\n",
    "        )\n",
    "        # search_alg = tune.search.Repeater(search_alg, N_SPLITS-SKIP_SPLIT)\n",
    "        \n",
    "        tuner = tune.Tuner(\n",
    "            tune.with_resources(\n",
    "                # tune.with_parameters(TrainLightGCN,  train=dftrain, test=dftest, open_proposals=open_proposals),\n",
    "                tune.with_parameters(TrainLightGCN, data=folds[f]),\n",
    "                resources_per_trial,\n",
    "            ),\n",
    "            run_config=train.RunConfig(\n",
    "                stop={'training_iteration': MAX_EPOCHS/EPOCHS_PER_ITER, 'time_total_train': 300},\n",
    "                name=name + f'_{dt.datetime.now().isoformat()}',\n",
    "                storage_path=RAY_RESULTS_PATH,\n",
    "                # failure_config=train.FailureConfig(fail_fast='raise'),\n",
    "                failure_config=train.FailureConfig(max_failures=3),\n",
    "            ),\n",
    "            param_space=param_space,\n",
    "            tune_config=tune.TuneConfig(\n",
    "                search_alg=search_alg,\n",
    "                num_samples=NUM_SAMPLES,\n",
    "                metric=OPTIM_METRIC,\n",
    "                mode='max',\n",
    "            )\n",
    "        )\n",
    "\n",
    "    return tuner"
   ]
  },
  {
   "cell_type": "code",
   "execution_count": 18,
   "metadata": {
    "execution": {
     "iopub.execute_input": "2024-04-24T13:11:24.810085Z",
     "iopub.status.busy": "2024-04-24T13:11:24.809841Z",
     "iopub.status.idle": "2024-04-24T13:11:37.353784Z",
     "shell.execute_reply": "2024-04-24T13:11:37.353167Z",
     "shell.execute_reply.started": "2024-04-24T13:11:24.810062Z"
    }
   },
   "outputs": [
    {
     "data": {
      "text/html": [
       "<div class=\"tuneStatus\">\n",
       "  <div style=\"display: flex;flex-direction: row\">\n",
       "    <div style=\"display: flex;flex-direction: column;\">\n",
       "      <h3>Tune Status</h3>\n",
       "      <table>\n",
       "<tbody>\n",
       "<tr><td>Current time:</td><td>2024-04-24 15:11:37</td></tr>\n",
       "<tr><td>Running for: </td><td>00:00:00.27        </td></tr>\n",
       "<tr><td>Memory:      </td><td>13.4/15.3 GiB      </td></tr>\n",
       "</tbody>\n",
       "</table>\n",
       "    </div>\n",
       "    <div class=\"vDivider\"></div>\n",
       "    <div class=\"systemInfo\">\n",
       "      <h3>System Info</h3>\n",
       "      Using FIFO scheduling algorithm.<br>Logical resource usage: 0/8 CPUs, 0/0 GPUs\n",
       "    </div>\n",
       "    \n",
       "  </div>\n",
       "  <div class=\"hDivider\"></div>\n",
       "  <div class=\"trialStatus\">\n",
       "    <h3>Trial Status</h3>\n",
       "    <table>\n",
       "<thead>\n",
       "<tr><th>Trial name            </th><th>status    </th><th>loc                  </th><th style=\"text-align: right;\">  batch_size</th><th style=\"text-align: right;\">  conv_layers</th><th style=\"text-align: right;\">  embedding_dim</th><th style=\"text-align: right;\">  fold</th><th style=\"text-align: right;\">         l2</th><th style=\"text-align: right;\">  learning_rate</th><th style=\"text-align: right;\">  iter</th><th style=\"text-align: right;\">  total time (s)</th><th style=\"text-align: right;\">  iteration</th><th style=\"text-align: right;\">        loss</th><th style=\"text-align: right;\">     mf_loss</th></tr>\n",
       "</thead>\n",
       "<tbody>\n",
       "<tr><td>TrainLightGCN_f6e980e2</td><td>TERMINATED</td><td>147.96.81.131:3529215</td><td style=\"text-align: right;\">           7</td><td style=\"text-align: right;\">            3</td><td style=\"text-align: right;\">            151</td><td style=\"text-align: right;\">     9</td><td style=\"text-align: right;\">0.000483403</td><td style=\"text-align: right;\">         0.0001</td><td style=\"text-align: right;\">     3</td><td style=\"text-align: right;\">         307.004</td><td style=\"text-align: right;\">         15</td><td style=\"text-align: right;\">  0.185933  </td><td style=\"text-align: right;\">  0.180231  </td></tr>\n",
       "<tr><td>TrainLightGCN_1172fc5a</td><td>TERMINATED</td><td>147.96.81.131:3526930</td><td style=\"text-align: right;\">           6</td><td style=\"text-align: right;\">            4</td><td style=\"text-align: right;\">            851</td><td style=\"text-align: right;\">     9</td><td style=\"text-align: right;\">0.00430162 </td><td style=\"text-align: right;\">         0.0193</td><td style=\"text-align: right;\">     1</td><td style=\"text-align: right;\">         594.903</td><td style=\"text-align: right;\">          5</td><td style=\"text-align: right;\">  0.231485  </td><td style=\"text-align: right;\">  0.0583442 </td></tr>\n",
       "<tr><td>TrainLightGCN_df63bfd6</td><td>TERMINATED</td><td>147.96.81.131:3527897</td><td style=\"text-align: right;\">           7</td><td style=\"text-align: right;\">            5</td><td style=\"text-align: right;\">            505</td><td style=\"text-align: right;\">     9</td><td style=\"text-align: right;\">0.000667768</td><td style=\"text-align: right;\">         0.0127</td><td style=\"text-align: right;\">     2</td><td style=\"text-align: right;\">         473.29 </td><td style=\"text-align: right;\">         10</td><td style=\"text-align: right;\">  0.0688388 </td><td style=\"text-align: right;\">  0.0222416 </td></tr>\n",
       "<tr><td>TrainLightGCN_3852f46f</td><td>TERMINATED</td><td>147.96.81.131:3528600</td><td style=\"text-align: right;\">           7</td><td style=\"text-align: right;\">            5</td><td style=\"text-align: right;\">            950</td><td style=\"text-align: right;\">     9</td><td style=\"text-align: right;\">0.00235779 </td><td style=\"text-align: right;\">         0.0004</td><td style=\"text-align: right;\">     1</td><td style=\"text-align: right;\">         376.208</td><td style=\"text-align: right;\">          5</td><td style=\"text-align: right;\">  0.153857  </td><td style=\"text-align: right;\">  0.11597   </td></tr>\n",
       "<tr><td>TrainLightGCN_39126830</td><td>TERMINATED</td><td>147.96.81.131:3528776</td><td style=\"text-align: right;\">           7</td><td style=\"text-align: right;\">            2</td><td style=\"text-align: right;\">            480</td><td style=\"text-align: right;\">     9</td><td style=\"text-align: right;\">2.26589e-05</td><td style=\"text-align: right;\">         0.0002</td><td style=\"text-align: right;\">     2</td><td style=\"text-align: right;\">         343.453</td><td style=\"text-align: right;\">         10</td><td style=\"text-align: right;\">  0.0667196 </td><td style=\"text-align: right;\">  0.0662592 </td></tr>\n",
       "<tr><td>TrainLightGCN_2b3ae0d5</td><td>TERMINATED</td><td>147.96.81.131:3528445</td><td style=\"text-align: right;\">           7</td><td style=\"text-align: right;\">            5</td><td style=\"text-align: right;\">            731</td><td style=\"text-align: right;\">     9</td><td style=\"text-align: right;\">0.000299631</td><td style=\"text-align: right;\">         0.0054</td><td style=\"text-align: right;\">     1</td><td style=\"text-align: right;\">         347.246</td><td style=\"text-align: right;\">          5</td><td style=\"text-align: right;\">  0.0428984 </td><td style=\"text-align: right;\">  0.0219095 </td></tr>\n",
       "<tr><td>TrainLightGCN_2c7772f1</td><td>TERMINATED</td><td>147.96.81.131:3525090</td><td style=\"text-align: right;\">           6</td><td style=\"text-align: right;\">            4</td><td style=\"text-align: right;\">            116</td><td style=\"text-align: right;\">     9</td><td style=\"text-align: right;\">0.00126259 </td><td style=\"text-align: right;\">         0.0265</td><td style=\"text-align: right;\">     2</td><td style=\"text-align: right;\">         661.504</td><td style=\"text-align: right;\">         10</td><td style=\"text-align: right;\">  0.0959942 </td><td style=\"text-align: right;\">  0.0288229 </td></tr>\n",
       "<tr><td>TrainLightGCN_08540956</td><td>TERMINATED</td><td>147.96.81.131:3528192</td><td style=\"text-align: right;\">           9</td><td style=\"text-align: right;\">            5</td><td style=\"text-align: right;\">            380</td><td style=\"text-align: right;\">     9</td><td style=\"text-align: right;\">0.000160068</td><td style=\"text-align: right;\">         0.0001</td><td style=\"text-align: right;\">     5</td><td style=\"text-align: right;\">         352.063</td><td style=\"text-align: right;\">         25</td><td style=\"text-align: right;\">  0.193556  </td><td style=\"text-align: right;\">  0.191074  </td></tr>\n",
       "<tr><td>TrainLightGCN_78c23fd2</td><td>TERMINATED</td><td>147.96.81.131:3525985</td><td style=\"text-align: right;\">           6</td><td style=\"text-align: right;\">            3</td><td style=\"text-align: right;\">            644</td><td style=\"text-align: right;\">     9</td><td style=\"text-align: right;\">0.00727965 </td><td style=\"text-align: right;\">         0.3812</td><td style=\"text-align: right;\">     1</td><td style=\"text-align: right;\">         530.294</td><td style=\"text-align: right;\">          5</td><td style=\"text-align: right;\"> 59.9729    </td><td style=\"text-align: right;\">  3.57242   </td></tr>\n",
       "<tr><td>TrainLightGCN_259c47e7</td><td>TERMINATED</td><td>147.96.81.131:3527262</td><td style=\"text-align: right;\">           7</td><td style=\"text-align: right;\">            3</td><td style=\"text-align: right;\">             24</td><td style=\"text-align: right;\">     9</td><td style=\"text-align: right;\">3.99676e-05</td><td style=\"text-align: right;\">         0.0032</td><td style=\"text-align: right;\">     2</td><td style=\"text-align: right;\">         387.814</td><td style=\"text-align: right;\">         10</td><td style=\"text-align: right;\">  0.043164  </td><td style=\"text-align: right;\">  0.0419086 </td></tr>\n",
       "<tr><td>TrainLightGCN_9ee0a2f6</td><td>TERMINATED</td><td>147.96.81.131:3527587</td><td style=\"text-align: right;\">           9</td><td style=\"text-align: right;\">            5</td><td style=\"text-align: right;\">            321</td><td style=\"text-align: right;\">     9</td><td style=\"text-align: right;\">0.00164073 </td><td style=\"text-align: right;\">         0.0002</td><td style=\"text-align: right;\">     6</td><td style=\"text-align: right;\">         308.19 </td><td style=\"text-align: right;\">         30</td><td style=\"text-align: right;\">  0.150078  </td><td style=\"text-align: right;\">  0.12154   </td></tr>\n",
       "<tr><td>TrainLightGCN_e61e6a21</td><td>TERMINATED</td><td>147.96.81.131:3527417</td><td style=\"text-align: right;\">           9</td><td style=\"text-align: right;\">            5</td><td style=\"text-align: right;\">            569</td><td style=\"text-align: right;\">     9</td><td style=\"text-align: right;\">0.00297492 </td><td style=\"text-align: right;\">         0.0004</td><td style=\"text-align: right;\">     4</td><td style=\"text-align: right;\">         306.647</td><td style=\"text-align: right;\">         20</td><td style=\"text-align: right;\">  0.143938  </td><td style=\"text-align: right;\">  0.0960798 </td></tr>\n",
       "<tr><td>TrainLightGCN_1087479b</td><td>TERMINATED</td><td>147.96.81.131:3526698</td><td style=\"text-align: right;\">           6</td><td style=\"text-align: right;\">            4</td><td style=\"text-align: right;\">             34</td><td style=\"text-align: right;\">     9</td><td style=\"text-align: right;\">9.73984e-05</td><td style=\"text-align: right;\">         0.004 </td><td style=\"text-align: right;\">     1</td><td style=\"text-align: right;\">         373.986</td><td style=\"text-align: right;\">          5</td><td style=\"text-align: right;\">  0.054748  </td><td style=\"text-align: right;\">  0.0511724 </td></tr>\n",
       "<tr><td>TrainLightGCN_429f4a09</td><td>TERMINATED</td><td>147.96.81.131:3526543</td><td style=\"text-align: right;\">           6</td><td style=\"text-align: right;\">            3</td><td style=\"text-align: right;\">             64</td><td style=\"text-align: right;\">     9</td><td style=\"text-align: right;\">0.000250308</td><td style=\"text-align: right;\">         0.0074</td><td style=\"text-align: right;\">     1</td><td style=\"text-align: right;\">         369.836</td><td style=\"text-align: right;\">          5</td><td style=\"text-align: right;\">  0.0329707 </td><td style=\"text-align: right;\">  0.0222133 </td></tr>\n",
       "<tr><td>TrainLightGCN_0d4ef2b4</td><td>TERMINATED</td><td>147.96.81.131:3526336</td><td style=\"text-align: right;\">           6</td><td style=\"text-align: right;\">            4</td><td style=\"text-align: right;\">            258</td><td style=\"text-align: right;\">     9</td><td style=\"text-align: right;\">0.000132823</td><td style=\"text-align: right;\">         0.8807</td><td style=\"text-align: right;\">     1</td><td style=\"text-align: right;\">         365.084</td><td style=\"text-align: right;\">          5</td><td style=\"text-align: right;\">102.185     </td><td style=\"text-align: right;\"> 43.0788    </td></tr>\n",
       "<tr><td>TrainLightGCN_343349ef</td><td>TERMINATED</td><td>147.96.81.131:3526181</td><td style=\"text-align: right;\">           6</td><td style=\"text-align: right;\">            4</td><td style=\"text-align: right;\">            199</td><td style=\"text-align: right;\">     9</td><td style=\"text-align: right;\">0.000561225</td><td style=\"text-align: right;\">         0.0501</td><td style=\"text-align: right;\">     1</td><td style=\"text-align: right;\">         361.1  </td><td style=\"text-align: right;\">          5</td><td style=\"text-align: right;\">  0.247291  </td><td style=\"text-align: right;\">  0.054476  </td></tr>\n",
       "<tr><td>TrainLightGCN_149ffbfa</td><td>TERMINATED</td><td>147.96.81.131:3525830</td><td style=\"text-align: right;\">           6</td><td style=\"text-align: right;\">            3</td><td style=\"text-align: right;\">             82</td><td style=\"text-align: right;\">     9</td><td style=\"text-align: right;\">6.85606e-05</td><td style=\"text-align: right;\">         0.0202</td><td style=\"text-align: right;\">     1</td><td style=\"text-align: right;\">         348.646</td><td style=\"text-align: right;\">          5</td><td style=\"text-align: right;\">  0.0341161 </td><td style=\"text-align: right;\">  0.0231906 </td></tr>\n",
       "<tr><td>TrainLightGCN_71845f68</td><td>TERMINATED</td><td>147.96.81.131:3525496</td><td style=\"text-align: right;\">           6</td><td style=\"text-align: right;\">            4</td><td style=\"text-align: right;\">              8</td><td style=\"text-align: right;\">     9</td><td style=\"text-align: right;\">0.000414272</td><td style=\"text-align: right;\">         0.1472</td><td style=\"text-align: right;\">     1</td><td style=\"text-align: right;\">         309.598</td><td style=\"text-align: right;\">          5</td><td style=\"text-align: right;\">  0.291354  </td><td style=\"text-align: right;\">  0.210931  </td></tr>\n",
       "<tr><td>TrainLightGCN_77820785</td><td>TERMINATED</td><td>147.96.81.131:3524938</td><td style=\"text-align: right;\">           9</td><td style=\"text-align: right;\">            5</td><td style=\"text-align: right;\">            430</td><td style=\"text-align: right;\">     9</td><td style=\"text-align: right;\">0.00149623 </td><td style=\"text-align: right;\">         0.0019</td><td style=\"text-align: right;\">     6</td><td style=\"text-align: right;\">         340.44 </td><td style=\"text-align: right;\">         30</td><td style=\"text-align: right;\">  0.0799038 </td><td style=\"text-align: right;\">  0.0366727 </td></tr>\n",
       "<tr><td>TrainLightGCN_a7cd6c73</td><td>TERMINATED</td><td>147.96.81.131:3525344</td><td style=\"text-align: right;\">           6</td><td style=\"text-align: right;\">            4</td><td style=\"text-align: right;\">             12</td><td style=\"text-align: right;\">     9</td><td style=\"text-align: right;\">0.00104061 </td><td style=\"text-align: right;\">         0.0918</td><td style=\"text-align: right;\">     1</td><td style=\"text-align: right;\">         307.222</td><td style=\"text-align: right;\">          5</td><td style=\"text-align: right;\">  0.155037  </td><td style=\"text-align: right;\">  0.0759966 </td></tr>\n",
       "<tr><td>TrainLightGCN_c2ca075e</td><td>TERMINATED</td><td>147.96.81.131:3524634</td><td style=\"text-align: right;\">           8</td><td style=\"text-align: right;\">            4</td><td style=\"text-align: right;\">            308</td><td style=\"text-align: right;\">     9</td><td style=\"text-align: right;\">0.00272028 </td><td style=\"text-align: right;\">         0.0007</td><td style=\"text-align: right;\">     5</td><td style=\"text-align: right;\">         357.498</td><td style=\"text-align: right;\">         25</td><td style=\"text-align: right;\">  0.10135   </td><td style=\"text-align: right;\">  0.052814  </td></tr>\n",
       "<tr><td>TrainLightGCN_9ced905f</td><td>TERMINATED</td><td>147.96.81.131:3524389</td><td style=\"text-align: right;\">           8</td><td style=\"text-align: right;\">            5</td><td style=\"text-align: right;\">             45</td><td style=\"text-align: right;\">     9</td><td style=\"text-align: right;\">1.54745e-07</td><td style=\"text-align: right;\">         0.0103</td><td style=\"text-align: right;\">     5</td><td style=\"text-align: right;\">         338.848</td><td style=\"text-align: right;\">         25</td><td style=\"text-align: right;\">  0.0113877 </td><td style=\"text-align: right;\">  0.0113629 </td></tr>\n",
       "<tr><td>TrainLightGCN_d85c7ab6</td><td>TERMINATED</td><td>147.96.81.131:3523811</td><td style=\"text-align: right;\">           8</td><td style=\"text-align: right;\">            4</td><td style=\"text-align: right;\">             28</td><td style=\"text-align: right;\">     9</td><td style=\"text-align: right;\">3.38306e-07</td><td style=\"text-align: right;\">         0.0688</td><td style=\"text-align: right;\">     6</td><td style=\"text-align: right;\">         371.223</td><td style=\"text-align: right;\">         30</td><td style=\"text-align: right;\">  0.0688281 </td><td style=\"text-align: right;\">  0.0685044 </td></tr>\n",
       "<tr><td>TrainLightGCN_515037f0</td><td>TERMINATED</td><td>147.96.81.131:3524075</td><td style=\"text-align: right;\">           9</td><td style=\"text-align: right;\">            5</td><td style=\"text-align: right;\">            530</td><td style=\"text-align: right;\">     9</td><td style=\"text-align: right;\">0.000746525</td><td style=\"text-align: right;\">         0.0004</td><td style=\"text-align: right;\">     7</td><td style=\"text-align: right;\">         337.134</td><td style=\"text-align: right;\">         35</td><td style=\"text-align: right;\">  0.0785366 </td><td style=\"text-align: right;\">  0.0552591 </td></tr>\n",
       "<tr><td>TrainLightGCN_349d7449</td><td>TERMINATED</td><td>147.96.81.131:3523661</td><td style=\"text-align: right;\">           8</td><td style=\"text-align: right;\">            4</td><td style=\"text-align: right;\">             21</td><td style=\"text-align: right;\">     9</td><td style=\"text-align: right;\">0.00436482 </td><td style=\"text-align: right;\">         0.001 </td><td style=\"text-align: right;\">     6</td><td style=\"text-align: right;\">         368.471</td><td style=\"text-align: right;\">         30</td><td style=\"text-align: right;\">  0.148931  </td><td style=\"text-align: right;\">  0.0944233 </td></tr>\n",
       "<tr><td>TrainLightGCN_74ebaaff</td><td>TERMINATED</td><td>147.96.81.131:3523371</td><td style=\"text-align: right;\">           8</td><td style=\"text-align: right;\">            5</td><td style=\"text-align: right;\">            170</td><td style=\"text-align: right;\">     9</td><td style=\"text-align: right;\">0.000221196</td><td style=\"text-align: right;\">         0.0263</td><td style=\"text-align: right;\">     6</td><td style=\"text-align: right;\">         342.86 </td><td style=\"text-align: right;\">         30</td><td style=\"text-align: right;\">  0.0406157 </td><td style=\"text-align: right;\">  0.012511  </td></tr>\n",
       "<tr><td>TrainLightGCN_569b1e88</td><td>TERMINATED</td><td>147.96.81.131:3523047</td><td style=\"text-align: right;\">           8</td><td style=\"text-align: right;\">            5</td><td style=\"text-align: right;\">             73</td><td style=\"text-align: right;\">     9</td><td style=\"text-align: right;\">0.000588322</td><td style=\"text-align: right;\">         0.0371</td><td style=\"text-align: right;\">     6</td><td style=\"text-align: right;\">         331.242</td><td style=\"text-align: right;\">         30</td><td style=\"text-align: right;\">  0.0628169 </td><td style=\"text-align: right;\">  0.0206697 </td></tr>\n",
       "<tr><td>TrainLightGCN_51dc8f41</td><td>TERMINATED</td><td>147.96.81.131:3522012</td><td style=\"text-align: right;\">           6</td><td style=\"text-align: right;\">            4</td><td style=\"text-align: right;\">            228</td><td style=\"text-align: right;\">     9</td><td style=\"text-align: right;\">0.000833001</td><td style=\"text-align: right;\">         0.0158</td><td style=\"text-align: right;\">     2</td><td style=\"text-align: right;\">         414.633</td><td style=\"text-align: right;\">         10</td><td style=\"text-align: right;\">  0.0717138 </td><td style=\"text-align: right;\">  0.0223158 </td></tr>\n",
       "<tr><td>TrainLightGCN_d2203a6d</td><td>TERMINATED</td><td>147.96.81.131:3523203</td><td style=\"text-align: right;\">           9</td><td style=\"text-align: right;\">            4</td><td style=\"text-align: right;\">            134</td><td style=\"text-align: right;\">     9</td><td style=\"text-align: right;\">0.000348115</td><td style=\"text-align: right;\">         0.2748</td><td style=\"text-align: right;\">    11</td><td style=\"text-align: right;\">         306.743</td><td style=\"text-align: right;\">         55</td><td style=\"text-align: right;\">  1.97221   </td><td style=\"text-align: right;\">  0.416357  </td></tr>\n",
       "<tr><td>TrainLightGCN_75cd12b3</td><td>TERMINATED</td><td>147.96.81.131:3522839</td><td style=\"text-align: right;\">           8</td><td style=\"text-align: right;\">            5</td><td style=\"text-align: right;\">             57</td><td style=\"text-align: right;\">     9</td><td style=\"text-align: right;\">0.00770615 </td><td style=\"text-align: right;\">         0.0013</td><td style=\"text-align: right;\">     6</td><td style=\"text-align: right;\">         323.283</td><td style=\"text-align: right;\">         30</td><td style=\"text-align: right;\">  0.197061  </td><td style=\"text-align: right;\">  0.106425  </td></tr>\n",
       "<tr><td>TrainLightGCN_f8622291</td><td>TERMINATED</td><td>147.96.81.131:3522657</td><td style=\"text-align: right;\">           8</td><td style=\"text-align: right;\">            5</td><td style=\"text-align: right;\">             89</td><td style=\"text-align: right;\">     9</td><td style=\"text-align: right;\">0.00204943 </td><td style=\"text-align: right;\">         0.0005</td><td style=\"text-align: right;\">     6</td><td style=\"text-align: right;\">         321.269</td><td style=\"text-align: right;\">         30</td><td style=\"text-align: right;\">  0.128731  </td><td style=\"text-align: right;\">  0.090936  </td></tr>\n",
       "<tr><td>TrainLightGCN_9009cc90</td><td>TERMINATED</td><td>147.96.81.131:3522508</td><td style=\"text-align: right;\">           9</td><td style=\"text-align: right;\">            5</td><td style=\"text-align: right;\">             32</td><td style=\"text-align: right;\">     9</td><td style=\"text-align: right;\">0.00137338 </td><td style=\"text-align: right;\">         0.0028</td><td style=\"text-align: right;\">    12</td><td style=\"text-align: right;\">         322.735</td><td style=\"text-align: right;\">         60</td><td style=\"text-align: right;\">  0.0783918 </td><td style=\"text-align: right;\">  0.0400116 </td></tr>\n",
       "<tr><td>TrainLightGCN_fe238654</td><td>TERMINATED</td><td>147.96.81.131:3521685</td><td style=\"text-align: right;\">           6</td><td style=\"text-align: right;\">            4</td><td style=\"text-align: right;\">             73</td><td style=\"text-align: right;\">     9</td><td style=\"text-align: right;\">0.00522227 </td><td style=\"text-align: right;\">         0.0088</td><td style=\"text-align: right;\">     2</td><td style=\"text-align: right;\">         384.845</td><td style=\"text-align: right;\">         10</td><td style=\"text-align: right;\">  0.149365  </td><td style=\"text-align: right;\">  0.0617304 </td></tr>\n",
       "<tr><td>TrainLightGCN_db2d8c25</td><td>TERMINATED</td><td>147.96.81.131:3522220</td><td style=\"text-align: right;\">           9</td><td style=\"text-align: right;\">            5</td><td style=\"text-align: right;\">             41</td><td style=\"text-align: right;\">     9</td><td style=\"text-align: right;\">1.81475e-07</td><td style=\"text-align: right;\">         0.0046</td><td style=\"text-align: right;\">    12</td><td style=\"text-align: right;\">         305.806</td><td style=\"text-align: right;\">         60</td><td style=\"text-align: right;\">  0.0123534 </td><td style=\"text-align: right;\">  0.0123305 </td></tr>\n",
       "<tr><td>TrainLightGCN_7fb49f41</td><td>TERMINATED</td><td>147.96.81.131:3521452</td><td style=\"text-align: right;\">           6</td><td style=\"text-align: right;\">            4</td><td style=\"text-align: right;\">            152</td><td style=\"text-align: right;\">     9</td><td style=\"text-align: right;\">0.00116941 </td><td style=\"text-align: right;\">         0.0226</td><td style=\"text-align: right;\">     2</td><td style=\"text-align: right;\">         375.677</td><td style=\"text-align: right;\">         10</td><td style=\"text-align: right;\">  0.0912247 </td><td style=\"text-align: right;\">  0.0274954 </td></tr>\n",
       "<tr><td>TrainLightGCN_85832d71</td><td>TERMINATED</td><td>147.96.81.131:3521303</td><td style=\"text-align: right;\">           6</td><td style=\"text-align: right;\">            5</td><td style=\"text-align: right;\">              1</td><td style=\"text-align: right;\">     9</td><td style=\"text-align: right;\">0.00281155 </td><td style=\"text-align: right;\">         0.0548</td><td style=\"text-align: right;\">     2</td><td style=\"text-align: right;\">         374.487</td><td style=\"text-align: right;\">         10</td><td style=\"text-align: right;\">  0.326014  </td><td style=\"text-align: right;\">  0.294757  </td></tr>\n",
       "<tr><td>TrainLightGCN_cf0d86b7</td><td>TERMINATED</td><td>147.96.81.131:3521021</td><td style=\"text-align: right;\">           7</td><td style=\"text-align: right;\">            5</td><td style=\"text-align: right;\">            107</td><td style=\"text-align: right;\">     9</td><td style=\"text-align: right;\">0.000117183</td><td style=\"text-align: right;\">         0.0022</td><td style=\"text-align: right;\">     4</td><td style=\"text-align: right;\">         364.693</td><td style=\"text-align: right;\">         20</td><td style=\"text-align: right;\">  0.0313943 </td><td style=\"text-align: right;\">  0.0236436 </td></tr>\n",
       "<tr><td>TrainLightGCN_ef01d217</td><td>TERMINATED</td><td>147.96.81.131:3520806</td><td style=\"text-align: right;\">           6</td><td style=\"text-align: right;\">            4</td><td style=\"text-align: right;\">             50</td><td style=\"text-align: right;\">     9</td><td style=\"text-align: right;\">1.118e-06  </td><td style=\"text-align: right;\">         0.0001</td><td style=\"text-align: right;\">     2</td><td style=\"text-align: right;\">         357.652</td><td style=\"text-align: right;\">         10</td><td style=\"text-align: right;\">  0.294942  </td><td style=\"text-align: right;\">  0.294933  </td></tr>\n",
       "<tr><td>TrainLightGCN_aa8cf4b1</td><td>TERMINATED</td><td>147.96.81.131:3520477</td><td style=\"text-align: right;\">           7</td><td style=\"text-align: right;\">            1</td><td style=\"text-align: right;\">             13</td><td style=\"text-align: right;\">     9</td><td style=\"text-align: right;\">0.000171846</td><td style=\"text-align: right;\">         0.1598</td><td style=\"text-align: right;\">     4</td><td style=\"text-align: right;\">         362.866</td><td style=\"text-align: right;\">         20</td><td style=\"text-align: right;\">  2.17159   </td><td style=\"text-align: right;\">  1.91774   </td></tr>\n",
       "<tr><td>TrainLightGCN_7e198026</td><td>TERMINATED</td><td>147.96.81.131:3520199</td><td style=\"text-align: right;\">           7</td><td style=\"text-align: right;\">            5</td><td style=\"text-align: right;\">             19</td><td style=\"text-align: right;\">     9</td><td style=\"text-align: right;\">2.43199e-06</td><td style=\"text-align: right;\">         0.0008</td><td style=\"text-align: right;\">     4</td><td style=\"text-align: right;\">         365.085</td><td style=\"text-align: right;\">         20</td><td style=\"text-align: right;\">  0.115672  </td><td style=\"text-align: right;\">  0.11561   </td></tr>\n",
       "<tr><td>TrainLightGCN_c7e85b67</td><td>TERMINATED</td><td>147.96.81.131:3520031</td><td style=\"text-align: right;\">           6</td><td style=\"text-align: right;\">            3</td><td style=\"text-align: right;\">              3</td><td style=\"text-align: right;\">     9</td><td style=\"text-align: right;\">0.000407472</td><td style=\"text-align: right;\">         0.0003</td><td style=\"text-align: right;\">     2</td><td style=\"text-align: right;\">         367.941</td><td style=\"text-align: right;\">         10</td><td style=\"text-align: right;\">  0.342085  </td><td style=\"text-align: right;\">  0.339935  </td></tr>\n",
       "<tr><td>TrainLightGCN_8762de57</td><td>TERMINATED</td><td>147.96.81.131:3519874</td><td style=\"text-align: right;\">           8</td><td style=\"text-align: right;\">            4</td><td style=\"text-align: right;\">             36</td><td style=\"text-align: right;\">     9</td><td style=\"text-align: right;\">5.24149e-05</td><td style=\"text-align: right;\">         0.0078</td><td style=\"text-align: right;\">     7</td><td style=\"text-align: right;\">         330.467</td><td style=\"text-align: right;\">         35</td><td style=\"text-align: right;\">  0.0154119 </td><td style=\"text-align: right;\">  0.0109158 </td></tr>\n",
       "<tr><td>TrainLightGCN_9a74b544</td><td>TERMINATED</td><td>147.96.81.131:3519391</td><td style=\"text-align: right;\">           7</td><td style=\"text-align: right;\">            2</td><td style=\"text-align: right;\">             61</td><td style=\"text-align: right;\">     9</td><td style=\"text-align: right;\">1.73006e-05</td><td style=\"text-align: right;\">         0.0016</td><td style=\"text-align: right;\">     4</td><td style=\"text-align: right;\">         387.268</td><td style=\"text-align: right;\">         20</td><td style=\"text-align: right;\">  0.0191748 </td><td style=\"text-align: right;\">  0.0185626 </td></tr>\n",
       "<tr><td>TrainLightGCN_0f09cd3c</td><td>TERMINATED</td><td>147.96.81.131:3518803</td><td style=\"text-align: right;\">           7</td><td style=\"text-align: right;\">            2</td><td style=\"text-align: right;\">            969</td><td style=\"text-align: right;\">     9</td><td style=\"text-align: right;\">1.05314e-07</td><td style=\"text-align: right;\">         0.6555</td><td style=\"text-align: right;\">     3</td><td style=\"text-align: right;\">         417.444</td><td style=\"text-align: right;\">         15</td><td style=\"text-align: right;\">166.5       </td><td style=\"text-align: right;\">166.065     </td></tr>\n",
       "<tr><td>TrainLightGCN_9132d004</td><td>TERMINATED</td><td>147.96.81.131:3519021</td><td style=\"text-align: right;\">           6</td><td style=\"text-align: right;\">            4</td><td style=\"text-align: right;\">             88</td><td style=\"text-align: right;\">     9</td><td style=\"text-align: right;\">0.000793377</td><td style=\"text-align: right;\">         0.0053</td><td style=\"text-align: right;\">     2</td><td style=\"text-align: right;\">         393.819</td><td style=\"text-align: right;\">         10</td><td style=\"text-align: right;\">  0.0516971 </td><td style=\"text-align: right;\">  0.024364  </td></tr>\n",
       "<tr><td>TrainLightGCN_da9afb86</td><td>TERMINATED</td><td>147.96.81.131:3519667</td><td style=\"text-align: right;\">           9</td><td style=\"text-align: right;\">            3</td><td style=\"text-align: right;\">              6</td><td style=\"text-align: right;\">     9</td><td style=\"text-align: right;\">6.08832e-06</td><td style=\"text-align: right;\">         0.0001</td><td style=\"text-align: right;\">    13</td><td style=\"text-align: right;\">         322.345</td><td style=\"text-align: right;\">         65</td><td style=\"text-align: right;\">  0.314777  </td><td style=\"text-align: right;\">  0.314747  </td></tr>\n",
       "<tr><td>TrainLightGCN_638251f4</td><td>TERMINATED</td><td>147.96.81.131:3518651</td><td style=\"text-align: right;\">           6</td><td style=\"text-align: right;\">            3</td><td style=\"text-align: right;\">              9</td><td style=\"text-align: right;\">     9</td><td style=\"text-align: right;\">8.93664e-05</td><td style=\"text-align: right;\">         0.0002</td><td style=\"text-align: right;\">     2</td><td style=\"text-align: right;\">         400.608</td><td style=\"text-align: right;\">         10</td><td style=\"text-align: right;\">  0.308331  </td><td style=\"text-align: right;\">  0.307771  </td></tr>\n",
       "<tr><td>TrainLightGCN_4b0ac0e2</td><td>TERMINATED</td><td>147.96.81.131:3518188</td><td style=\"text-align: right;\">           6</td><td style=\"text-align: right;\">            4</td><td style=\"text-align: right;\">             15</td><td style=\"text-align: right;\">     9</td><td style=\"text-align: right;\">0.000195905</td><td style=\"text-align: right;\">         0.035 </td><td style=\"text-align: right;\">     2</td><td style=\"text-align: right;\">         407.046</td><td style=\"text-align: right;\">         10</td><td style=\"text-align: right;\">  0.0518697 </td><td style=\"text-align: right;\">  0.0351426 </td></tr>\n",
       "<tr><td>TrainLightGCN_537f1096</td><td>TERMINATED</td><td>147.96.81.131:3519204</td><td style=\"text-align: right;\">           8</td><td style=\"text-align: right;\">            5</td><td style=\"text-align: right;\">            157</td><td style=\"text-align: right;\">     9</td><td style=\"text-align: right;\">3.13366e-07</td><td style=\"text-align: right;\">         0.0005</td><td style=\"text-align: right;\">     6</td><td style=\"text-align: right;\">         308.199</td><td style=\"text-align: right;\">         30</td><td style=\"text-align: right;\">  0.062223  </td><td style=\"text-align: right;\">  0.0622095 </td></tr>\n",
       "<tr><td>TrainLightGCN_1072b4b0</td><td>TERMINATED</td><td>147.96.81.131:3518373</td><td style=\"text-align: right;\">           7</td><td style=\"text-align: right;\">            5</td><td style=\"text-align: right;\">             24</td><td style=\"text-align: right;\">     9</td><td style=\"text-align: right;\">3.23249e-05</td><td style=\"text-align: right;\">         0.0133</td><td style=\"text-align: right;\">     3</td><td style=\"text-align: right;\">         321.47 </td><td style=\"text-align: right;\">         15</td><td style=\"text-align: right;\">  0.0217576 </td><td style=\"text-align: right;\">  0.0180853 </td></tr>\n",
       "<tr><td>TrainLightGCN_3d2ab1af</td><td>TERMINATED</td><td>147.96.81.131:3517959</td><td style=\"text-align: right;\">           7</td><td style=\"text-align: right;\">            2</td><td style=\"text-align: right;\">            444</td><td style=\"text-align: right;\">     9</td><td style=\"text-align: right;\">0.00583625 </td><td style=\"text-align: right;\">         0.0035</td><td style=\"text-align: right;\">     3</td><td style=\"text-align: right;\">         329.283</td><td style=\"text-align: right;\">         15</td><td style=\"text-align: right;\">  0.110255  </td><td style=\"text-align: right;\">  0.0375418 </td></tr>\n",
       "<tr><td>TrainLightGCN_20a5a051</td><td>TERMINATED</td><td>147.96.81.131:3517810</td><td style=\"text-align: right;\">           8</td><td style=\"text-align: right;\">            3</td><td style=\"text-align: right;\">            241</td><td style=\"text-align: right;\">     9</td><td style=\"text-align: right;\">5.02711e-07</td><td style=\"text-align: right;\">         0.0014</td><td style=\"text-align: right;\">     6</td><td style=\"text-align: right;\">         332.108</td><td style=\"text-align: right;\">         30</td><td style=\"text-align: right;\">  0.0124185 </td><td style=\"text-align: right;\">  0.0123855 </td></tr>\n",
       "<tr><td>TrainLightGCN_7d44a864</td><td>TERMINATED</td><td>147.96.81.131:3516777</td><td style=\"text-align: right;\">           6</td><td style=\"text-align: right;\">            4</td><td style=\"text-align: right;\">             68</td><td style=\"text-align: right;\">     9</td><td style=\"text-align: right;\">0.000870424</td><td style=\"text-align: right;\">         0.0098</td><td style=\"text-align: right;\">     2</td><td style=\"text-align: right;\">         476.333</td><td style=\"text-align: right;\">         10</td><td style=\"text-align: right;\">  0.0558088 </td><td style=\"text-align: right;\">  0.0233307 </td></tr>\n",
       "<tr><td>TrainLightGCN_4fd0b093</td><td>TERMINATED</td><td>147.96.81.131:3517394</td><td style=\"text-align: right;\">           7</td><td style=\"text-align: right;\">            4</td><td style=\"text-align: right;\">            367</td><td style=\"text-align: right;\">     9</td><td style=\"text-align: right;\">1.9171e-06 </td><td style=\"text-align: right;\">         0.0004</td><td style=\"text-align: right;\">     3</td><td style=\"text-align: right;\">         353.381</td><td style=\"text-align: right;\">         15</td><td style=\"text-align: right;\">  0.054982  </td><td style=\"text-align: right;\">  0.0549114 </td></tr>\n",
       "<tr><td>TrainLightGCN_6fa541ec</td><td>TERMINATED</td><td>147.96.81.131:3515678</td><td style=\"text-align: right;\">           6</td><td style=\"text-align: right;\">            2</td><td style=\"text-align: right;\">             27</td><td style=\"text-align: right;\">     9</td><td style=\"text-align: right;\">1.41476e-05</td><td style=\"text-align: right;\">         0.0026</td><td style=\"text-align: right;\">     2</td><td style=\"text-align: right;\">         499.77 </td><td style=\"text-align: right;\">         10</td><td style=\"text-align: right;\">  0.029112  </td><td style=\"text-align: right;\">  0.0286999 </td></tr>\n",
       "<tr><td>TrainLightGCN_a9c3b340</td><td>TERMINATED</td><td>147.96.81.131:3516597</td><td style=\"text-align: right;\">           7</td><td style=\"text-align: right;\">            1</td><td style=\"text-align: right;\">            703</td><td style=\"text-align: right;\">     9</td><td style=\"text-align: right;\">3.70029e-06</td><td style=\"text-align: right;\">         0.0003</td><td style=\"text-align: right;\">     3</td><td style=\"text-align: right;\">         369.235</td><td style=\"text-align: right;\">         15</td><td style=\"text-align: right;\">  0.0164431 </td><td style=\"text-align: right;\">  0.0163344 </td></tr>\n",
       "<tr><td>TrainLightGCN_995a28c4</td><td>TERMINATED</td><td>147.96.81.131:3514923</td><td style=\"text-align: right;\">           6</td><td style=\"text-align: right;\">            5</td><td style=\"text-align: right;\">            128</td><td style=\"text-align: right;\">     9</td><td style=\"text-align: right;\">0.000262975</td><td style=\"text-align: right;\">         0.0003</td><td style=\"text-align: right;\">     2</td><td style=\"text-align: right;\">         512.624</td><td style=\"text-align: right;\">         10</td><td style=\"text-align: right;\">  0.141127  </td><td style=\"text-align: right;\">  0.135734  </td></tr>\n",
       "<tr><td>TrainLightGCN_2b798651</td><td>TERMINATED</td><td>147.96.81.131:3517048</td><td style=\"text-align: right;\">           9</td><td style=\"text-align: right;\">            3</td><td style=\"text-align: right;\">            279</td><td style=\"text-align: right;\">     9</td><td style=\"text-align: right;\">6.89178e-06</td><td style=\"text-align: right;\">         0.1021</td><td style=\"text-align: right;\">    10</td><td style=\"text-align: right;\">         314.081</td><td style=\"text-align: right;\">         50</td><td style=\"text-align: right;\">  0.443128  </td><td style=\"text-align: right;\">  0.291045  </td></tr>\n",
       "<tr><td>TrainLightGCN_9276d5bb</td><td>TERMINATED</td><td>147.96.81.131:3516193</td><td style=\"text-align: right;\">           7</td><td style=\"text-align: right;\">            5</td><td style=\"text-align: right;\">              3</td><td style=\"text-align: right;\">     9</td><td style=\"text-align: right;\">7.03202e-05</td><td style=\"text-align: right;\">         0.0001</td><td style=\"text-align: right;\">     3</td><td style=\"text-align: right;\">         376.903</td><td style=\"text-align: right;\">         15</td><td style=\"text-align: right;\">  0.501492  </td><td style=\"text-align: right;\">  0.501353  </td></tr>\n",
       "<tr><td>TrainLightGCN_35c3a205</td><td>TERMINATED</td><td>147.96.81.131:3516417</td><td style=\"text-align: right;\">           8</td><td style=\"text-align: right;\">            4</td><td style=\"text-align: right;\">            153</td><td style=\"text-align: right;\">     9</td><td style=\"text-align: right;\">0.00953071 </td><td style=\"text-align: right;\">         0.001 </td><td style=\"text-align: right;\">     5</td><td style=\"text-align: right;\">         314.82 </td><td style=\"text-align: right;\">         25</td><td style=\"text-align: right;\">  0.191928  </td><td style=\"text-align: right;\">  0.0941445 </td></tr>\n",
       "<tr><td>TrainLightGCN_db59c9fa</td><td>TERMINATED</td><td>147.96.81.131:3514061</td><td style=\"text-align: right;\">           6</td><td style=\"text-align: right;\">            3</td><td style=\"text-align: right;\">             22</td><td style=\"text-align: right;\">     9</td><td style=\"text-align: right;\">0.000432288</td><td style=\"text-align: right;\">         0.0021</td><td style=\"text-align: right;\">     2</td><td style=\"text-align: right;\">         521.564</td><td style=\"text-align: right;\">         10</td><td style=\"text-align: right;\">  0.0587648 </td><td style=\"text-align: right;\">  0.0485411 </td></tr>\n",
       "<tr><td>TrainLightGCN_0e85bf66</td><td>TERMINATED</td><td>147.96.81.131:3515526</td><td style=\"text-align: right;\">           7</td><td style=\"text-align: right;\">            4</td><td style=\"text-align: right;\">             11</td><td style=\"text-align: right;\">     9</td><td style=\"text-align: right;\">0.00333643 </td><td style=\"text-align: right;\">         0.0116</td><td style=\"text-align: right;\">     3</td><td style=\"text-align: right;\">         382.412</td><td style=\"text-align: right;\">         15</td><td style=\"text-align: right;\">  0.116295  </td><td style=\"text-align: right;\">  0.056871  </td></tr>\n",
       "<tr><td>TrainLightGCN_d9a639e8</td><td>TERMINATED</td><td>147.96.81.131:3515305</td><td style=\"text-align: right;\">           7</td><td style=\"text-align: right;\">            3</td><td style=\"text-align: right;\">             37</td><td style=\"text-align: right;\">     9</td><td style=\"text-align: right;\">0.00185208 </td><td style=\"text-align: right;\">         0.0059</td><td style=\"text-align: right;\">     3</td><td style=\"text-align: right;\">         383.938</td><td style=\"text-align: right;\">         15</td><td style=\"text-align: right;\">  0.0658477 </td><td style=\"text-align: right;\">  0.0293689 </td></tr>\n",
       "<tr><td>TrainLightGCN_211e621b</td><td>TERMINATED</td><td>147.96.81.131:3515974</td><td style=\"text-align: right;\">           8</td><td style=\"text-align: right;\">            3</td><td style=\"text-align: right;\">             99</td><td style=\"text-align: right;\">     9</td><td style=\"text-align: right;\">6.81492e-07</td><td style=\"text-align: right;\">         0.0002</td><td style=\"text-align: right;\">     5</td><td style=\"text-align: right;\">         316.184</td><td style=\"text-align: right;\">         25</td><td style=\"text-align: right;\">  0.111447  </td><td style=\"text-align: right;\">  0.111435  </td></tr>\n",
       "<tr><td>TrainLightGCN_615a1d06</td><td>TERMINATED</td><td>147.96.81.131:3514675</td><td style=\"text-align: right;\">           7</td><td style=\"text-align: right;\">            4</td><td style=\"text-align: right;\">             67</td><td style=\"text-align: right;\">     9</td><td style=\"text-align: right;\">4.85494e-05</td><td style=\"text-align: right;\">         0.0011</td><td style=\"text-align: right;\">     3</td><td style=\"text-align: right;\">         400.65 </td><td style=\"text-align: right;\">         15</td><td style=\"text-align: right;\">  0.0550343 </td><td style=\"text-align: right;\">  0.0533199 </td></tr>\n",
       "<tr><td>TrainLightGCN_accfc34f</td><td>TERMINATED</td><td>147.96.81.131:3515150</td><td style=\"text-align: right;\">           8</td><td style=\"text-align: right;\">            4</td><td style=\"text-align: right;\">            282</td><td style=\"text-align: right;\">     9</td><td style=\"text-align: right;\">0.000605402</td><td style=\"text-align: right;\">         0.0006</td><td style=\"text-align: right;\">     5</td><td style=\"text-align: right;\">         333.107</td><td style=\"text-align: right;\">         25</td><td style=\"text-align: right;\">  0.0597613 </td><td style=\"text-align: right;\">  0.0414779 </td></tr>\n",
       "<tr><td>TrainLightGCN_9d626441</td><td>TERMINATED</td><td>147.96.81.131:3514385</td><td style=\"text-align: right;\">           7</td><td style=\"text-align: right;\">            3</td><td style=\"text-align: right;\">            528</td><td style=\"text-align: right;\">     9</td><td style=\"text-align: right;\">1.70847e-06</td><td style=\"text-align: right;\">         0.0422</td><td style=\"text-align: right;\">     3</td><td style=\"text-align: right;\">         408.74 </td><td style=\"text-align: right;\">         15</td><td style=\"text-align: right;\">  0.241665  </td><td style=\"text-align: right;\">  0.226375  </td></tr>\n",
       "<tr><td>TrainLightGCN_f8ac8003</td><td>TERMINATED</td><td>147.96.81.131:3514211</td><td style=\"text-align: right;\">           7</td><td style=\"text-align: right;\">            4</td><td style=\"text-align: right;\">            188</td><td style=\"text-align: right;\">     9</td><td style=\"text-align: right;\">2.27146e-05</td><td style=\"text-align: right;\">         0.0064</td><td style=\"text-align: right;\">     3</td><td style=\"text-align: right;\">         409.562</td><td style=\"text-align: right;\">         15</td><td style=\"text-align: right;\">  0.0119645 </td><td style=\"text-align: right;\">  0.00894569</td></tr>\n",
       "<tr><td>TrainLightGCN_db5affde</td><td>TERMINATED</td><td>147.96.81.131:3511951</td><td style=\"text-align: right;\">           6</td><td style=\"text-align: right;\">            5</td><td style=\"text-align: right;\">           1010</td><td style=\"text-align: right;\">     9</td><td style=\"text-align: right;\">2.29099e-05</td><td style=\"text-align: right;\">         0.017 </td><td style=\"text-align: right;\">     1</td><td style=\"text-align: right;\">         616.886</td><td style=\"text-align: right;\">          5</td><td style=\"text-align: right;\">  0.0739037 </td><td style=\"text-align: right;\">  0.0460449 </td></tr>\n",
       "<tr><td>TrainLightGCN_31fc4a29</td><td>TERMINATED</td><td>147.96.81.131:3512469</td><td style=\"text-align: right;\">           6</td><td style=\"text-align: right;\">            5</td><td style=\"text-align: right;\">            127</td><td style=\"text-align: right;\">     9</td><td style=\"text-align: right;\">0.000301029</td><td style=\"text-align: right;\">         0.0017</td><td style=\"text-align: right;\">     2</td><td style=\"text-align: right;\">         532.205</td><td style=\"text-align: right;\">         10</td><td style=\"text-align: right;\">  0.0520417 </td><td style=\"text-align: right;\">  0.0386528 </td></tr>\n",
       "<tr><td>TrainLightGCN_b211ade6</td><td>TERMINATED</td><td>147.96.81.131:3511781</td><td style=\"text-align: right;\">           6</td><td style=\"text-align: right;\">            1</td><td style=\"text-align: right;\">             16</td><td style=\"text-align: right;\">     9</td><td style=\"text-align: right;\">0.000136822</td><td style=\"text-align: right;\">         0.0043</td><td style=\"text-align: right;\">     2</td><td style=\"text-align: right;\">         521.411</td><td style=\"text-align: right;\">         10</td><td style=\"text-align: right;\">  0.0295336 </td><td style=\"text-align: right;\">  0.0264016 </td></tr>\n",
       "<tr><td>TrainLightGCN_a386ed48</td><td>TERMINATED</td><td>147.96.81.131:3511609</td><td style=\"text-align: right;\">           6</td><td style=\"text-align: right;\">            3</td><td style=\"text-align: right;\">              2</td><td style=\"text-align: right;\">     9</td><td style=\"text-align: right;\">0.000150311</td><td style=\"text-align: right;\">         0.0001</td><td style=\"text-align: right;\">     2</td><td style=\"text-align: right;\">         518.582</td><td style=\"text-align: right;\">         10</td><td style=\"text-align: right;\">  0.565788  </td><td style=\"text-align: right;\">  0.565641  </td></tr>\n",
       "<tr><td>TrainLightGCN_090ad08d</td><td>TERMINATED</td><td>147.96.81.131:3511441</td><td style=\"text-align: right;\">           6</td><td style=\"text-align: right;\">            2</td><td style=\"text-align: right;\">              2</td><td style=\"text-align: right;\">     9</td><td style=\"text-align: right;\">1.38285e-05</td><td style=\"text-align: right;\">         0.0034</td><td style=\"text-align: right;\">     2</td><td style=\"text-align: right;\">         514.187</td><td style=\"text-align: right;\">         10</td><td style=\"text-align: right;\">  0.171164  </td><td style=\"text-align: right;\">  0.171017  </td></tr>\n",
       "<tr><td>TrainLightGCN_338395b3</td><td>TERMINATED</td><td>147.96.81.131:3511268</td><td style=\"text-align: right;\">           6</td><td style=\"text-align: right;\">            5</td><td style=\"text-align: right;\">            806</td><td style=\"text-align: right;\">     9</td><td style=\"text-align: right;\">0.000105655</td><td style=\"text-align: right;\">         0.0251</td><td style=\"text-align: right;\">     1</td><td style=\"text-align: right;\">         499.027</td><td style=\"text-align: right;\">          5</td><td style=\"text-align: right;\">  0.165999  </td><td style=\"text-align: right;\">  0.0614255 </td></tr>\n",
       "<tr><td>TrainLightGCN_97a74f50</td><td>TERMINATED</td><td>147.96.81.131:3512866</td><td style=\"text-align: right;\">           7</td><td style=\"text-align: right;\">            1</td><td style=\"text-align: right;\">             17</td><td style=\"text-align: right;\">     9</td><td style=\"text-align: right;\">7.62529e-05</td><td style=\"text-align: right;\">         0.0008</td><td style=\"text-align: right;\">     3</td><td style=\"text-align: right;\">         409.552</td><td style=\"text-align: right;\">         15</td><td style=\"text-align: right;\">  0.0594446 </td><td style=\"text-align: right;\">  0.0582715 </td></tr>\n",
       "<tr><td>TrainLightGCN_3f26d43f</td><td>TERMINATED</td><td>147.96.81.131:3512297</td><td style=\"text-align: right;\">           7</td><td style=\"text-align: right;\">            2</td><td style=\"text-align: right;\">            571</td><td style=\"text-align: right;\">     9</td><td style=\"text-align: right;\">0.000287927</td><td style=\"text-align: right;\">         0.0002</td><td style=\"text-align: right;\">     3</td><td style=\"text-align: right;\">         399.918</td><td style=\"text-align: right;\">         15</td><td style=\"text-align: right;\">  0.0488974 </td><td style=\"text-align: right;\">  0.0422893 </td></tr>\n",
       "<tr><td>TrainLightGCN_7844acc4</td><td>TERMINATED</td><td>147.96.81.131:3512125</td><td style=\"text-align: right;\">           7</td><td style=\"text-align: right;\">            3</td><td style=\"text-align: right;\">              1</td><td style=\"text-align: right;\">     9</td><td style=\"text-align: right;\">0.00995391 </td><td style=\"text-align: right;\">         0.0007</td><td style=\"text-align: right;\">     3</td><td style=\"text-align: right;\">         399.98 </td><td style=\"text-align: right;\">         15</td><td style=\"text-align: right;\">  0.38215   </td><td style=\"text-align: right;\">  0.347327  </td></tr>\n",
       "<tr><td>TrainLightGCN_c67452ee</td><td>TERMINATED</td><td>147.96.81.131:3513199</td><td style=\"text-align: right;\">           8</td><td style=\"text-align: right;\">            5</td><td style=\"text-align: right;\">             54</td><td style=\"text-align: right;\">     9</td><td style=\"text-align: right;\">0.00218981 </td><td style=\"text-align: right;\">         0.0001</td><td style=\"text-align: right;\">     5</td><td style=\"text-align: right;\">         334.901</td><td style=\"text-align: right;\">         25</td><td style=\"text-align: right;\">  0.290874  </td><td style=\"text-align: right;\">  0.272467  </td></tr>\n",
       "<tr><td>TrainLightGCN_8623dd25</td><td>TERMINATED</td><td>147.96.81.131:3513021</td><td style=\"text-align: right;\">           8</td><td style=\"text-align: right;\">            2</td><td style=\"text-align: right;\">             43</td><td style=\"text-align: right;\">     9</td><td style=\"text-align: right;\">3.72579e-05</td><td style=\"text-align: right;\">         0.0025</td><td style=\"text-align: right;\">     5</td><td style=\"text-align: right;\">         335.368</td><td style=\"text-align: right;\">         25</td><td style=\"text-align: right;\">  0.0177954 </td><td style=\"text-align: right;\">  0.0164283 </td></tr>\n",
       "<tr><td>TrainLightGCN_8455a51d</td><td>TERMINATED</td><td>147.96.81.131:3512650</td><td style=\"text-align: right;\">           8</td><td style=\"text-align: right;\">            3</td><td style=\"text-align: right;\">            193</td><td style=\"text-align: right;\">     9</td><td style=\"text-align: right;\">9.81934e-06</td><td style=\"text-align: right;\">         0.0002</td><td style=\"text-align: right;\">     5</td><td style=\"text-align: right;\">         331.342</td><td style=\"text-align: right;\">         25</td><td style=\"text-align: right;\">  0.0848283 </td><td style=\"text-align: right;\">  0.084617  </td></tr>\n",
       "<tr><td>TrainLightGCN_08cd9eb3</td><td>TERMINATED</td><td>147.96.81.131:3511085</td><td style=\"text-align: right;\">           7</td><td style=\"text-align: right;\">            2</td><td style=\"text-align: right;\">            338</td><td style=\"text-align: right;\">     9</td><td style=\"text-align: right;\">1.08811e-07</td><td style=\"text-align: right;\">         0.0005</td><td style=\"text-align: right;\">     3</td><td style=\"text-align: right;\">         358.863</td><td style=\"text-align: right;\">         15</td><td style=\"text-align: right;\">  0.0253995 </td><td style=\"text-align: right;\">  0.0253961 </td></tr>\n",
       "<tr><td>TrainLightGCN_d2456a1c</td><td>TERMINATED</td><td>147.96.81.131:3510732</td><td style=\"text-align: right;\">           7</td><td style=\"text-align: right;\">            3</td><td style=\"text-align: right;\">             31</td><td style=\"text-align: right;\">     9</td><td style=\"text-align: right;\">0.00138468 </td><td style=\"text-align: right;\">         0.4767</td><td style=\"text-align: right;\">     3</td><td style=\"text-align: right;\">         333.378</td><td style=\"text-align: right;\">         15</td><td style=\"text-align: right;\">  6.00857   </td><td style=\"text-align: right;\">  1.79646   </td></tr>\n",
       "<tr><td>TrainLightGCN_037a5994</td><td>TERMINATED</td><td>147.96.81.131:3510905</td><td style=\"text-align: right;\">           9</td><td style=\"text-align: right;\">            4</td><td style=\"text-align: right;\">             47</td><td style=\"text-align: right;\">     9</td><td style=\"text-align: right;\">4.37236e-06</td><td style=\"text-align: right;\">         0.0763</td><td style=\"text-align: right;\">    11</td><td style=\"text-align: right;\">         317.286</td><td style=\"text-align: right;\">         55</td><td style=\"text-align: right;\">  0.0736117 </td><td style=\"text-align: right;\">  0.0653858 </td></tr>\n",
       "<tr><td>TrainLightGCN_f378db3a</td><td>TERMINATED</td><td>147.96.81.131:3510576</td><td style=\"text-align: right;\">           7</td><td style=\"text-align: right;\">            4</td><td style=\"text-align: right;\">             11</td><td style=\"text-align: right;\">     9</td><td style=\"text-align: right;\">3.54222e-06</td><td style=\"text-align: right;\">         0.0011</td><td style=\"text-align: right;\">     3</td><td style=\"text-align: right;\">         327.199</td><td style=\"text-align: right;\">         15</td><td style=\"text-align: right;\">  0.119624  </td><td style=\"text-align: right;\">  0.119553  </td></tr>\n",
       "<tr><td>TrainLightGCN_8b22b0ef</td><td>TERMINATED</td><td>147.96.81.131:3509481</td><td style=\"text-align: right;\">           8</td><td style=\"text-align: right;\">            5</td><td style=\"text-align: right;\">             75</td><td style=\"text-align: right;\">     9</td><td style=\"text-align: right;\">1.39754e-06</td><td style=\"text-align: right;\">         0.0003</td><td style=\"text-align: right;\">     8</td><td style=\"text-align: right;\">         353.424</td><td style=\"text-align: right;\">         40</td><td style=\"text-align: right;\">  0.097016  </td><td style=\"text-align: right;\">  0.0969747 </td></tr>\n",
       "<tr><td>TrainLightGCN_05ee3695</td><td>TERMINATED</td><td>147.96.81.131:3509310</td><td style=\"text-align: right;\">           8</td><td style=\"text-align: right;\">            4</td><td style=\"text-align: right;\">             87</td><td style=\"text-align: right;\">     9</td><td style=\"text-align: right;\">2.59656e-07</td><td style=\"text-align: right;\">         0.0004</td><td style=\"text-align: right;\">     8</td><td style=\"text-align: right;\">         348.915</td><td style=\"text-align: right;\">         40</td><td style=\"text-align: right;\">  0.0599813 </td><td style=\"text-align: right;\">  0.0599725 </td></tr>\n",
       "<tr><td>TrainLightGCN_8024ab35</td><td>TERMINATED</td><td>147.96.81.131:3509652</td><td style=\"text-align: right;\">           9</td><td style=\"text-align: right;\">            2</td><td style=\"text-align: right;\">              8</td><td style=\"text-align: right;\">     9</td><td style=\"text-align: right;\">0.00100612 </td><td style=\"text-align: right;\">         0.0201</td><td style=\"text-align: right;\">    15</td><td style=\"text-align: right;\">         333.271</td><td style=\"text-align: right;\">         75</td><td style=\"text-align: right;\">  0.0578713 </td><td style=\"text-align: right;\">  0.0368287 </td></tr>\n",
       "<tr><td>TrainLightGCN_864d4242</td><td>TERMINATED</td><td>147.96.81.131:3509145</td><td style=\"text-align: right;\">           7</td><td style=\"text-align: right;\">            4</td><td style=\"text-align: right;\">              6</td><td style=\"text-align: right;\">     9</td><td style=\"text-align: right;\">2.66572e-07</td><td style=\"text-align: right;\">         0.4766</td><td style=\"text-align: right;\">     4</td><td style=\"text-align: right;\">         337.139</td><td style=\"text-align: right;\">         20</td><td style=\"text-align: right;\">  1.95134   </td><td style=\"text-align: right;\">  1.95055   </td></tr>\n",
       "<tr><td>TrainLightGCN_9d892dfa</td><td>TERMINATED</td><td>147.96.81.131:3508980</td><td style=\"text-align: right;\">           7</td><td style=\"text-align: right;\">            4</td><td style=\"text-align: right;\">             42</td><td style=\"text-align: right;\">     9</td><td style=\"text-align: right;\">0.000414829</td><td style=\"text-align: right;\">         0.0012</td><td style=\"text-align: right;\">     4</td><td style=\"text-align: right;\">         331.219</td><td style=\"text-align: right;\">         20</td><td style=\"text-align: right;\">  0.0626227 </td><td style=\"text-align: right;\">  0.0503432 </td></tr>\n",
       "<tr><td>TrainLightGCN_50f8d99a</td><td>TERMINATED</td><td>147.96.81.131:3508813</td><td style=\"text-align: right;\">           7</td><td style=\"text-align: right;\">            3</td><td style=\"text-align: right;\">              5</td><td style=\"text-align: right;\">     9</td><td style=\"text-align: right;\">0.00605521 </td><td style=\"text-align: right;\">         0.2019</td><td style=\"text-align: right;\">     4</td><td style=\"text-align: right;\">         327.429</td><td style=\"text-align: right;\">         20</td><td style=\"text-align: right;\">  0.322786  </td><td style=\"text-align: right;\">  0.155343  </td></tr>\n",
       "<tr><td>TrainLightGCN_7e4d39dc</td><td>TERMINATED</td><td>147.96.81.131:3508486</td><td style=\"text-align: right;\">           6</td><td style=\"text-align: right;\">            1</td><td style=\"text-align: right;\">            206</td><td style=\"text-align: right;\">     9</td><td style=\"text-align: right;\">6.80694e-06</td><td style=\"text-align: right;\">         0.0085</td><td style=\"text-align: right;\">     2</td><td style=\"text-align: right;\">         325.319</td><td style=\"text-align: right;\">         10</td><td style=\"text-align: right;\">  0.021966  </td><td style=\"text-align: right;\">  0.0206773 </td></tr>\n",
       "<tr><td>TrainLightGCN_b449068c</td><td>TERMINATED</td><td>147.96.81.131:3508157</td><td style=\"text-align: right;\">           7</td><td style=\"text-align: right;\">            3</td><td style=\"text-align: right;\">              4</td><td style=\"text-align: right;\">     9</td><td style=\"text-align: right;\">0.0011209  </td><td style=\"text-align: right;\">         0.0002</td><td style=\"text-align: right;\">     4</td><td style=\"text-align: right;\">         326.46 </td><td style=\"text-align: right;\">         20</td><td style=\"text-align: right;\">  0.328032  </td><td style=\"text-align: right;\">  0.321848  </td></tr>\n",
       "<tr><td>TrainLightGCN_b439491f</td><td>TERMINATED</td><td>147.96.81.131:3508647</td><td style=\"text-align: right;\">           9</td><td style=\"text-align: right;\">            4</td><td style=\"text-align: right;\">            114</td><td style=\"text-align: right;\">     9</td><td style=\"text-align: right;\">0.000527247</td><td style=\"text-align: right;\">         0.0001</td><td style=\"text-align: right;\">    14</td><td style=\"text-align: right;\">         306.459</td><td style=\"text-align: right;\">         70</td><td style=\"text-align: right;\">  0.144093  </td><td style=\"text-align: right;\">  0.135474  </td></tr>\n",
       "<tr><td>TrainLightGCN_fc9f86ed</td><td>TERMINATED</td><td>147.96.81.131:3507996</td><td style=\"text-align: right;\">           7</td><td style=\"text-align: right;\">            4</td><td style=\"text-align: right;\">              7</td><td style=\"text-align: right;\">     9</td><td style=\"text-align: right;\">0.00397996 </td><td style=\"text-align: right;\">         0.0038</td><td style=\"text-align: right;\">     4</td><td style=\"text-align: right;\">         324.689</td><td style=\"text-align: right;\">         20</td><td style=\"text-align: right;\">  0.135671  </td><td style=\"text-align: right;\">  0.0794369 </td></tr>\n",
       "<tr><td>TrainLightGCN_7b432d71</td><td>TERMINATED</td><td>147.96.81.131:3507828</td><td style=\"text-align: right;\">           7</td><td style=\"text-align: right;\">            3</td><td style=\"text-align: right;\">            217</td><td style=\"text-align: right;\">     9</td><td style=\"text-align: right;\">2.79193e-05</td><td style=\"text-align: right;\">         0.0005</td><td style=\"text-align: right;\">     4</td><td style=\"text-align: right;\">         322.447</td><td style=\"text-align: right;\">         20</td><td style=\"text-align: right;\">  0.0368954 </td><td style=\"text-align: right;\">  0.035918  </td></tr>\n",
       "<tr><td>TrainLightGCN_35f02042</td><td>TERMINATED</td><td>147.96.81.131:3508320</td><td style=\"text-align: right;\">           8</td><td style=\"text-align: right;\">            4</td><td style=\"text-align: right;\">            412</td><td style=\"text-align: right;\">     9</td><td style=\"text-align: right;\">0.00406073 </td><td style=\"text-align: right;\">         0.0014</td><td style=\"text-align: right;\">     7</td><td style=\"text-align: right;\">         306.107</td><td style=\"text-align: right;\">         35</td><td style=\"text-align: right;\">  0.119313  </td><td style=\"text-align: right;\">  0.050653  </td></tr>\n",
       "<tr><td>TrainLightGCN_d6e64601</td><td>TERMINATED</td><td>147.96.81.131:3507343</td><td style=\"text-align: right;\">           8</td><td style=\"text-align: right;\">            5</td><td style=\"text-align: right;\">             29</td><td style=\"text-align: right;\">     9</td><td style=\"text-align: right;\">2.8606e-05 </td><td style=\"text-align: right;\">         0.2347</td><td style=\"text-align: right;\">    10</td><td style=\"text-align: right;\">         329.724</td><td style=\"text-align: right;\">         50</td><td style=\"text-align: right;\">  0.657063  </td><td style=\"text-align: right;\">  0.466804  </td></tr>\n",
       "<tr><td>TrainLightGCN_6055b45b</td><td>TERMINATED</td><td>147.96.81.131:3507204</td><td style=\"text-align: right;\">           8</td><td style=\"text-align: right;\">            2</td><td style=\"text-align: right;\">             10</td><td style=\"text-align: right;\">     9</td><td style=\"text-align: right;\">3.94977e-06</td><td style=\"text-align: right;\">         0.0019</td><td style=\"text-align: right;\">    11</td><td style=\"text-align: right;\">         327.578</td><td style=\"text-align: right;\">         55</td><td style=\"text-align: right;\">  0.0339127 </td><td style=\"text-align: right;\">  0.0337963 </td></tr>\n",
       "<tr><td>TrainLightGCN_9936e2de</td><td>TERMINATED</td><td>147.96.81.131:3507667</td><td style=\"text-align: right;\">           7</td><td style=\"text-align: right;\">            4</td><td style=\"text-align: right;\">            306</td><td style=\"text-align: right;\">     9</td><td style=\"text-align: right;\">8.92312e-07</td><td style=\"text-align: right;\">         0.0065</td><td style=\"text-align: right;\">     4</td><td style=\"text-align: right;\">         313.629</td><td style=\"text-align: right;\">         20</td><td style=\"text-align: right;\">  0.00647752</td><td style=\"text-align: right;\">  0.00624604</td></tr>\n",
       "<tr><td>TrainLightGCN_9bf6ebb2</td><td>TERMINATED</td><td>147.96.81.131:3507505</td><td style=\"text-align: right;\">           9</td><td style=\"text-align: right;\">            3</td><td style=\"text-align: right;\">              5</td><td style=\"text-align: right;\">     9</td><td style=\"text-align: right;\">5.24282e-05</td><td style=\"text-align: right;\">         0.22  </td><td style=\"text-align: right;\">    17</td><td style=\"text-align: right;\">         317.783</td><td style=\"text-align: right;\">         85</td><td style=\"text-align: right;\">  0.190394  </td><td style=\"text-align: right;\">  0.180266  </td></tr>\n",
       "</tbody>\n",
       "</table>\n",
       "  </div>\n",
       "</div>\n",
       "<style>\n",
       ".tuneStatus {\n",
       "  color: var(--jp-ui-font-color1);\n",
       "}\n",
       ".tuneStatus .systemInfo {\n",
       "  display: flex;\n",
       "  flex-direction: column;\n",
       "}\n",
       ".tuneStatus td {\n",
       "  white-space: nowrap;\n",
       "}\n",
       ".tuneStatus .trialStatus {\n",
       "  display: flex;\n",
       "  flex-direction: column;\n",
       "}\n",
       ".tuneStatus h3 {\n",
       "  font-weight: bold;\n",
       "}\n",
       ".tuneStatus .hDivider {\n",
       "  border-bottom-width: var(--jp-border-width);\n",
       "  border-bottom-color: var(--jp-border-color0);\n",
       "  border-bottom-style: solid;\n",
       "}\n",
       ".tuneStatus .vDivider {\n",
       "  border-left-width: var(--jp-border-width);\n",
       "  border-left-color: var(--jp-border-color0);\n",
       "  border-left-style: solid;\n",
       "  margin: 0.5em 1em 0.5em 1em;\n",
       "}\n",
       "</style>\n"
      ],
      "text/plain": [
       "<IPython.core.display.HTML object>"
      ]
     },
     "metadata": {},
     "output_type": "display_data"
    },
    {
     "name": "stderr",
     "output_type": "stream",
     "text": [
      "2024-04-24 15:11:36,768\tINFO experiment_state.py:404 -- A local experiment checkpoint was found and will be used to restore the previous experiment state.\n",
      "2024-04-24 15:11:36,771\tWARNING tune_controller.py:400 -- Attempting to resume experiment from /home/davo/ray_results/LightGCN_optim=map@10,dao=Decentraland,freq=W-THU,normalize=True,cutoff_date=2023-07-29T00:00:00,fold=9_2024-03-21T20:59:20.911809. This will ignore any new changes to the specification.\n",
      "2024-04-24 15:11:36,771\tINFO tune_controller.py:404 -- Using the newest experiment state file found within the experiment directory: experiment_state-2024-03-21_20-59-20.json\n",
      "2024-04-24 15:11:37,245\tINFO tune.py:1042 -- Total run time: 0.49 seconds (0.00 seconds for the tuning loop).\n"
     ]
    },
    {
     "name": "stdout",
     "output_type": "stream",
     "text": [
      "Finished training for fold 9\n"
     ]
    },
    {
     "name": "stderr",
     "output_type": "stream",
     "text": [
      "\u001b[33m(raylet)\u001b[0m [2024-04-24 15:20:26,862 E 170365 170365] (raylet) node_manager.cc:3024: 3 Workers (tasks / actors) killed due to memory pressure (OOM), 0 Workers crashed due to other reasons at node (ID: 0bbb06aad22aab3e3e47c1df6669f9e2730ceacf0a8b4fa6ccdb91e3, IP: 147.96.25.138) over the last time period. To see more information about the Workers killed on this node, use `ray logs raylet.out -ip 147.96.25.138`\n",
      "\u001b[33m(raylet)\u001b[0m \n",
      "\u001b[33m(raylet)\u001b[0m Refer to the documentation on how to address the out of memory issue: https://docs.ray.io/en/latest/ray-core/scheduling/ray-oom-prevention.html. Consider provisioning more memory on this node or reducing task parallelism by requesting more CPUs per task. To adjust the kill threshold, set the environment variable `RAY_memory_usage_threshold` when starting Ray. To disable worker killing, set the environment variable `RAY_memory_monitor_refresh_ms` to zero.\n"
     ]
    }
   ],
   "source": [
    "import logging\n",
    "\n",
    "def findConfig(rg):\n",
    "    for r in rg:\n",
    "        if r.config:\n",
    "            if all((r.config[k] == v for k, v in last_best_result.config.items() if k != 'fold')):\n",
    "                return r\n",
    "\n",
    "    return None\n",
    "\n",
    "tuners = []\n",
    "results = []\n",
    "last_best_result = None\n",
    "for f in range(LAST_SPLITS):\n",
    "    best_prev_config = None\n",
    "    if last_best_result is not None:\n",
    "        best_prev_config = last_best_result.config.copy()\n",
    "        best_prev_config['fold'] += 1\n",
    "        best_prev_config = [best_prev_config]\n",
    "    \n",
    "    t = getTunerOnFold(f, best_prev_config)\n",
    "    tuners.append(t)\n",
    "\n",
    "    rg = t.fit()\n",
    "    assert rg.num_errors == 0, f\"There are {rg.num_errors} errors\"\n",
    "    assert rg.num_terminated >= NUM_SAMPLES, f'Some samples are not terminated ({rg.num_terminated} != {NUM_SAMPLES})'\n",
    "    results.append(rg)\n",
    "\n",
    "    # Assert that the prev config has been tried\n",
    "    if last_best_result is not None:\n",
    "        # if not any( \n",
    "        #     all((r.config[k] == v for k, v in last_best_result.config.items() if k != 'fold'))\n",
    "        #     for r in rg if r.config\n",
    "        # ):\n",
    "        if not findConfig(rg):\n",
    "            print(\"Best config:\", last_best_result.config)\n",
    "            assert False, f\"The best config from previous fold has not been tested in fold {f}\"    \n",
    "        else:\n",
    "            logging.info(f'Fold {f}. Best prev result was {last_best_result.path} and config has been found {findConfig(rg).path}')\n",
    "    \n",
    "    last_best_result = rg.get_best_result()\n",
    "\n",
    "    print(f\"Finished training for fold {f}\")"
   ]
  },
  {
   "cell_type": "code",
   "execution_count": null,
   "metadata": {},
   "outputs": [],
   "source": []
  }
 ],
 "metadata": {
  "kernelspec": {
   "display_name": "Python 3 (ipykernel)",
   "language": "python",
   "name": "python3"
  },
  "language_info": {
   "codemirror_mode": {
    "name": "ipython",
    "version": 3
   },
   "file_extension": ".py",
   "mimetype": "text/x-python",
   "name": "python",
   "nbconvert_exporter": "python",
   "pygments_lexer": "ipython3",
   "version": "3.9.19"
  },
  "widgets": {
   "application/vnd.jupyter.widget-state+json": {
    "state": {},
    "version_major": 2,
    "version_minor": 0
   }
  }
 },
 "nbformat": 4,
 "nbformat_minor": 4
}
