{
 "cells": [
  {
   "cell_type": "code",
   "execution_count": null,
   "metadata": {
    "execution": {
     "iopub.execute_input": "2024-04-24T18:14:09.303779Z",
     "iopub.status.busy": "2024-04-24T18:14:09.303507Z",
     "iopub.status.idle": "2024-04-24T18:14:11.370654Z",
     "shell.execute_reply": "2024-04-24T18:14:11.370157Z",
     "shell.execute_reply.started": "2024-04-24T18:14:09.303761Z"
    }
   },
   "outputs": [],
   "source": [
    "from typing import List\n",
    "import sys\n",
    "from collections import defaultdict\n",
    "\n",
    "import pandas as pd\n",
    "import numpy as np\n",
    "from tqdm.autonotebook import tqdm\n",
    "\n",
    "from recsys24_daos.models import OpenPop\n",
    "from recsys24_daos.datasets import to_microsoft\n",
    "from recsys24_daos.model_selection import time_freq_split_current"
   ]
  },
  {
   "cell_type": "code",
   "execution_count": null,
   "metadata": {
    "execution": {
     "iopub.execute_input": "2024-04-24T18:14:11.371519Z",
     "iopub.status.busy": "2024-04-24T18:14:11.371277Z",
     "iopub.status.idle": "2024-04-24T18:14:11.374206Z",
     "shell.execute_reply": "2024-04-24T18:14:11.373757Z",
     "shell.execute_reply.started": "2024-04-24T18:14:11.371504Z"
    }
   },
   "outputs": [],
   "source": [
    "SPLITS_FREQ = \"W-THU\"\n",
    "SPLITS_NORMALIZE = True\n",
    "LAST_SPLITS = 10\n",
    "\n",
    "K_RECOMMENDATIONS: List[int] = [5, 10, 15]"
   ]
  },
  {
   "cell_type": "markdown",
   "metadata": {},
   "source": [
    "## Obtain dataset"
   ]
  },
  {
   "cell_type": "code",
   "execution_count": null,
   "metadata": {
    "execution": {
     "iopub.execute_input": "2024-04-24T18:14:11.374947Z",
     "iopub.status.busy": "2024-04-24T18:14:11.374759Z",
     "iopub.status.idle": "2024-04-24T18:14:11.557096Z",
     "shell.execute_reply": "2024-04-24T18:14:11.555241Z",
     "shell.execute_reply.started": "2024-04-24T18:14:11.374924Z"
    }
   },
   "outputs": [],
   "source": [
    "!pwd"
   ]
  },
  {
   "cell_type": "code",
   "execution_count": null,
   "metadata": {
    "execution": {
     "iopub.execute_input": "2024-04-24T18:14:11.560462Z",
     "iopub.status.busy": "2024-04-24T18:14:11.559719Z",
     "iopub.status.idle": "2024-04-24T18:14:11.889275Z",
     "shell.execute_reply": "2024-04-24T18:14:11.888704Z",
     "shell.execute_reply.started": "2024-04-24T18:14:11.560383Z"
    }
   },
   "outputs": [],
   "source": [
    "dfp = pd.read_csv(\"../data/decentraland/proposals.csv\", parse_dates=['date', 'start', 'end'])\n",
    "dfv = pd.read_csv(\"../data/decentraland/votes.csv\", parse_dates=['date'])\n",
    "\n",
    "df = to_microsoft(dfv)\n",
    "\n",
    "print(dfp.info())\n",
    "print(dfv.info())\n",
    "print(df.info())"
   ]
  },
  {
   "cell_type": "markdown",
   "metadata": {},
   "source": [
    "## Showing some info of the folds"
   ]
  },
  {
   "cell_type": "code",
   "execution_count": null,
   "metadata": {
    "execution": {
     "iopub.execute_input": "2024-04-24T18:14:11.890084Z",
     "iopub.status.busy": "2024-04-24T18:14:11.889878Z",
     "iopub.status.idle": "2024-04-24T18:14:16.410752Z",
     "shell.execute_reply": "2024-04-24T18:14:16.410341Z",
     "shell.execute_reply.started": "2024-04-24T18:14:11.890070Z"
    }
   },
   "outputs": [],
   "source": [
    "sdd = defaultdict(list)\n",
    "\n",
    "for dftrain, dftest, t, openproposals in time_freq_split_current(to_microsoft(dfv), SPLITS_FREQ, dfp.reset_index(), remove_not_in_train_col='userID', normalize=SPLITS_NORMALIZE):\n",
    "    dftrain_filter = dftrain[dftrain['itemID'].isin(openproposals)]\n",
    "    \n",
    "    sdd['t'].append(t)\n",
    "    sdd['open proposals'].append(len(openproposals))\n",
    "    \n",
    "    sdd['proposals in train'].append(dftrain['itemID'].nunique())\n",
    "    sdd['votes in train'].append(len(dftrain))\n",
    "    sdd['votes in open proposals (train)'].append(len(dftrain_filter))\n",
    "    sdd['users in open proposals (train)'].append(dftrain_filter['userID'].nunique())\n",
    "    sdd['votes in test'].append(len(dftest))\n",
    "    sdd['users in train'].append(dftrain['userID'].nunique())\n",
    "    sdd['users in test'].append(dftest['userID'].nunique())\n",
    "\n",
    "sdf_all = pd.DataFrame(sdd).set_index('t')\n",
    "sdf_all['vpp in open proposals (train)'] = sdf_all['votes in open proposals (train)'] / sdf_all['open proposals']\n",
    "sdf_all['vpu in open proposals (train)'] = sdf_all['votes in open proposals (train)'] / sdf_all['users in open proposals (train)']\n",
    "sdf_all['vpp test'] = sdf_all['votes in test'] / sdf_all['open proposals']\n",
    "sdf_all['vpu test'] = sdf_all['votes in test'] / sdf_all['users in test']\n",
    "sdf = sdf_all.tail(10)\n",
    "print(sdf['votes in train'])\n",
    "_style = sdf[['open proposals', 'votes in open proposals (train)', 'users in open proposals (train)', 'vpp in open proposals (train)', 'vpu in open proposals (train)', 'votes in test', 'users in test', 'vpp test', 'vpu test']].style\n",
    "_style = _style.format_index('{:%G-W%V}').format(precision=2)\n",
    "_style"
   ]
  },
  {
   "cell_type": "code",
   "execution_count": null,
   "metadata": {
    "execution": {
     "iopub.execute_input": "2024-04-24T18:14:16.412291Z",
     "iopub.status.busy": "2024-04-24T18:14:16.411950Z",
     "iopub.status.idle": "2024-04-24T18:14:16.432140Z",
     "shell.execute_reply": "2024-04-24T18:14:16.431621Z",
     "shell.execute_reply.started": "2024-04-24T18:14:16.412274Z"
    }
   },
   "outputs": [],
   "source": [
    "print(_style\n",
    "  .format_index(\"\\\\textbf{{{}}}\", escape=\"latex\", axis=1)\n",
    "  .to_latex()\n",
    ")"
   ]
  },
  {
   "cell_type": "markdown",
   "metadata": {},
   "source": [
    "## Running openpop baseline"
   ]
  },
  {
   "cell_type": "code",
   "execution_count": null,
   "metadata": {
    "execution": {
     "iopub.execute_input": "2024-04-24T18:14:16.432964Z",
     "iopub.status.busy": "2024-04-24T18:14:16.432767Z",
     "iopub.status.idle": "2024-04-24T18:14:16.436692Z",
     "shell.execute_reply": "2024-04-24T18:14:16.435924Z",
     "shell.execute_reply.started": "2024-04-24T18:14:16.432939Z"
    }
   },
   "outputs": [],
   "source": [
    "from recommenders.evaluation.python_evaluation import map_at_k, ndcg_at_k, precision_at_k, recall_at_k"
   ]
  },
  {
   "cell_type": "code",
   "execution_count": null,
   "metadata": {
    "execution": {
     "iopub.execute_input": "2024-04-24T18:14:16.437944Z",
     "iopub.status.busy": "2024-04-24T18:14:16.437641Z",
     "iopub.status.idle": "2024-04-24T18:15:18.972676Z",
     "shell.execute_reply": "2024-04-24T18:15:18.972158Z",
     "shell.execute_reply.started": "2024-04-24T18:14:16.437918Z"
    }
   },
   "outputs": [],
   "source": [
    "folds = list(time_freq_split_current(df, SPLITS_FREQ, dfp, remove_not_in_train_col='userID', normalize=SPLITS_NORMALIZE))\n",
    "metrics_f = { 'precision':precision_at_k, 'ndcg': ndcg_at_k, 'ndcg': ndcg_at_k, 'map': map_at_k, 'recall': recall_at_k, }\n",
    "metrics = defaultdict(list)\n",
    "perfectmetrics = defaultdict(list)\n",
    "\n",
    "for i, (train, test, t, open_proposals) in enumerate(tqdm(folds)):\n",
    "    assert not train.empty, f\"Train should not be empty on fold {i}\"\n",
    "    if test.empty:\n",
    "        print(f\"Warning, empty test fold {i}\", file=sys.stderr)\n",
    "\n",
    "    metrics['t'].append(t)\n",
    "    perfectmetrics['t'].append(t)\n",
    "    for k_recs in K_RECOMMENDATIONS:\n",
    "        model = OpenPop(train)\n",
    "        recs = model.recommend_k_items(test['userID'].unique(), k_recs, recommend_from=open_proposals)\n",
    "    \n",
    "        for m, f in metrics_f.items():\n",
    "            r = f(test, recs, k=k_recs)\n",
    "            metrics[m+f'@{k_recs}'].append(r)\n",
    "            \n",
    "        \n",
    "        recs = test.copy()\n",
    "        recs['prediction'] = 1\n",
    "\n",
    "        for m, f in metrics_f.items():\n",
    "            # Need relevancy_method=None as they are unsorted\n",
    "            r = f(test, recs, k=k_recs)\n",
    "            perfectmetrics[m+f'@{k_recs}'].append(r)"
   ]
  },
  {
   "cell_type": "markdown",
   "metadata": {},
   "source": [
    "### Caching these results"
   ]
  },
  {
   "cell_type": "code",
   "execution_count": null,
   "metadata": {},
   "outputs": [],
   "source": [
    "bdf = pd.DataFrame(metrics).set_index(\"t\")\n",
    "bdf.to_csv(\"../data/cache/baseline.csv\")\n",
    "bdf.describe()"
   ]
  },
  {
   "cell_type": "code",
   "execution_count": null,
   "metadata": {
    "execution": {
     "iopub.execute_input": "2024-04-24T18:15:18.973681Z",
     "iopub.status.busy": "2024-04-24T18:15:18.973482Z",
     "iopub.status.idle": "2024-04-24T18:15:18.986221Z",
     "shell.execute_reply": "2024-04-24T18:15:18.985212Z",
     "shell.execute_reply.started": "2024-04-24T18:15:18.973660Z"
    }
   },
   "outputs": [],
   "source": [
    "pdf = pd.DataFrame(perfectmetrics).set_index(\"t\")\n",
    "pdf.to_csv(\"../data/cache/perfect.csv\")\n",
    "display(pdf.describe())\n",
    "assert all( (0 <= pdf.min()) & (pdf.max() <= 1) ), \"There are metrics with wrong range\""
   ]
  },
  {
   "cell_type": "markdown",
   "metadata": {},
   "source": [
    "## Plotting some graphs"
   ]
  },
  {
   "cell_type": "code",
   "execution_count": null,
   "metadata": {
    "execution": {
     "iopub.execute_input": "2024-04-24T18:15:18.987633Z",
     "iopub.status.busy": "2024-04-24T18:15:18.987240Z",
     "iopub.status.idle": "2024-04-24T18:15:19.279004Z",
     "shell.execute_reply": "2024-04-24T18:15:19.278445Z",
     "shell.execute_reply.started": "2024-04-24T18:15:18.987601Z"
    }
   },
   "outputs": [],
   "source": [
    "mdf = pd.DataFrame(metrics)\n",
    "mdf['perfect precision@5'] = perfectmetrics['precision@5']\n",
    "mdf['perfect precision@10'] = perfectmetrics['precision@10']\n",
    "mdf[['precision@5', 'perfect precision@5', 'precision@10', 'perfect precision@10']].plot(title='Evaluación modelo baseline MP')\n",
    "mdf.describe()"
   ]
  },
  {
   "cell_type": "code",
   "execution_count": null,
   "metadata": {
    "execution": {
     "iopub.execute_input": "2024-04-24T18:16:56.176462Z",
     "iopub.status.busy": "2024-04-24T18:16:56.176249Z",
     "iopub.status.idle": "2024-04-24T18:16:56.204188Z",
     "shell.execute_reply": "2024-04-24T18:16:56.203312Z",
     "shell.execute_reply.started": "2024-04-24T18:16:56.176447Z"
    }
   },
   "outputs": [],
   "source": [
    "mdf[-LAST_SPLITS:].describe()"
   ]
  }
 ],
 "metadata": {
  "kernelspec": {
   "display_name": "Python 3 (ipykernel)",
   "language": "python",
   "name": "python3"
  },
  "language_info": {
   "codemirror_mode": {
    "name": "ipython",
    "version": 3
   },
   "file_extension": ".py",
   "mimetype": "text/x-python",
   "name": "python",
   "nbconvert_exporter": "python",
   "pygments_lexer": "ipython3",
   "version": "3.10.12"
  },
  "widgets": {
   "application/vnd.jupyter.widget-state+json": {
    "state": {},
    "version_major": 2,
    "version_minor": 0
   }
  }
 },
 "nbformat": 4,
 "nbformat_minor": 4
}
