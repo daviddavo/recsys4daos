{
 "cells": [
  {
   "cell_type": "code",
   "execution_count": 1,
   "metadata": {
    "execution": {
     "iopub.execute_input": "2024-04-24T18:14:09.303779Z",
     "iopub.status.busy": "2024-04-24T18:14:09.303507Z",
     "iopub.status.idle": "2024-04-24T18:14:11.370654Z",
     "shell.execute_reply": "2024-04-24T18:14:11.370157Z",
     "shell.execute_reply.started": "2024-04-24T18:14:09.303761Z"
    }
   },
   "outputs": [
    {
     "name": "stderr",
     "output_type": "stream",
     "text": [
      "/tmp/ipykernel_208321/2197136782.py:7: TqdmExperimentalWarning: Using `tqdm.autonotebook.tqdm` in notebook mode. Use `tqdm.tqdm` instead to force console mode (e.g. in jupyter console)\n",
      "  from tqdm.autonotebook import tqdm\n",
      "2024-04-24 20:14:09.859794: I tensorflow/core/util/port.cc:113] oneDNN custom operations are on. You may see slightly different numerical results due to floating-point round-off errors from different computation orders. To turn them off, set the environment variable `TF_ENABLE_ONEDNN_OPTS=0`.\n",
      "2024-04-24 20:14:09.860082: I external/local_tsl/tsl/cuda/cudart_stub.cc:32] Could not find cuda drivers on your machine, GPU will not be used.\n",
      "2024-04-24 20:14:09.863559: I external/local_tsl/tsl/cuda/cudart_stub.cc:32] Could not find cuda drivers on your machine, GPU will not be used.\n",
      "2024-04-24 20:14:09.910344: I tensorflow/core/platform/cpu_feature_guard.cc:210] This TensorFlow binary is optimized to use available CPU instructions in performance-critical operations.\n",
      "To enable the following instructions: AVX2 AVX512F AVX512_VNNI FMA, in other operations, rebuild TensorFlow with the appropriate compiler flags.\n",
      "2024-04-24 20:14:10.688860: W tensorflow/compiler/tf2tensorrt/utils/py_utils.cc:38] TF-TRT Warning: Could not find TensorRT\n"
     ]
    }
   ],
   "source": [
    "from typing import List\n",
    "import sys\n",
    "from collections import defaultdict\n",
    "\n",
    "import pandas as pd\n",
    "import numpy as np\n",
    "from tqdm.autonotebook import tqdm\n",
    "\n",
    "from recsys24_daos.models import OpenPop\n",
    "from recsys24_daos.datasets import to_microsoft\n",
    "from recsys24_daos.model_selection import time_freq_split_current"
   ]
  },
  {
   "cell_type": "code",
   "execution_count": 2,
   "metadata": {
    "execution": {
     "iopub.execute_input": "2024-04-24T18:14:11.371519Z",
     "iopub.status.busy": "2024-04-24T18:14:11.371277Z",
     "iopub.status.idle": "2024-04-24T18:14:11.374206Z",
     "shell.execute_reply": "2024-04-24T18:14:11.373757Z",
     "shell.execute_reply.started": "2024-04-24T18:14:11.371504Z"
    }
   },
   "outputs": [],
   "source": [
    "SPLITS_FREQ = \"W-THU\"\n",
    "SPLITS_NORMALIZE = True\n",
    "LAST_SPLITS = 10\n",
    "\n",
    "K_RECOMMENDATIONS: List[int] = [5, 10, 15]"
   ]
  },
  {
   "cell_type": "markdown",
   "metadata": {},
   "source": [
    "## Obtain dataset"
   ]
  },
  {
   "cell_type": "code",
   "execution_count": 3,
   "metadata": {
    "execution": {
     "iopub.execute_input": "2024-04-24T18:14:11.374947Z",
     "iopub.status.busy": "2024-04-24T18:14:11.374759Z",
     "iopub.status.idle": "2024-04-24T18:14:11.557096Z",
     "shell.execute_reply": "2024-04-24T18:14:11.555241Z",
     "shell.execute_reply.started": "2024-04-24T18:14:11.374924Z"
    }
   },
   "outputs": [
    {
     "name": "stdout",
     "output_type": "stream",
     "text": [
      "/home/davo/Documents/GRASIA/recsys24-daos/notebooks\n"
     ]
    }
   ],
   "source": [
    "!pwd"
   ]
  },
  {
   "cell_type": "code",
   "execution_count": 4,
   "metadata": {
    "execution": {
     "iopub.execute_input": "2024-04-24T18:14:11.560462Z",
     "iopub.status.busy": "2024-04-24T18:14:11.559719Z",
     "iopub.status.idle": "2024-04-24T18:14:11.889275Z",
     "shell.execute_reply": "2024-04-24T18:14:11.888704Z",
     "shell.execute_reply.started": "2024-04-24T18:14:11.560383Z"
    }
   },
   "outputs": [
    {
     "name": "stdout",
     "output_type": "stream",
     "text": [
      "<class 'pandas.core.frame.DataFrame'>\n",
      "RangeIndex: 1942 entries, 0 to 1941\n",
      "Data columns (total 5 columns):\n",
      " #   Column  Non-Null Count  Dtype         \n",
      "---  ------  --------------  -----         \n",
      " 0   id      1942 non-null   object        \n",
      " 1   author  1942 non-null   object        \n",
      " 2   date    1942 non-null   datetime64[ns]\n",
      " 3   start   1942 non-null   datetime64[ns]\n",
      " 4   end     1942 non-null   datetime64[ns]\n",
      "dtypes: datetime64[ns](3), object(2)\n",
      "memory usage: 76.0+ KB\n",
      "None\n",
      "<class 'pandas.core.frame.DataFrame'>\n",
      "RangeIndex: 116560 entries, 0 to 116559\n",
      "Data columns (total 4 columns):\n",
      " #   Column    Non-Null Count   Dtype         \n",
      "---  ------    --------------   -----         \n",
      " 0   id        116560 non-null  object        \n",
      " 1   proposal  116560 non-null  object        \n",
      " 2   voter     116560 non-null  object        \n",
      " 3   date      116560 non-null  datetime64[ns]\n",
      "dtypes: datetime64[ns](1), object(3)\n",
      "memory usage: 3.6+ MB\n",
      "None\n",
      "<class 'pandas.core.frame.DataFrame'>\n",
      "RangeIndex: 116560 entries, 0 to 116559\n",
      "Data columns (total 4 columns):\n",
      " #   Column     Non-Null Count   Dtype         \n",
      "---  ------     --------------   -----         \n",
      " 0   userID     116560 non-null  object        \n",
      " 1   itemID     116560 non-null  object        \n",
      " 2   timestamp  116560 non-null  datetime64[ns]\n",
      " 3   rating     116560 non-null  int64         \n",
      "dtypes: datetime64[ns](1), int64(1), object(2)\n",
      "memory usage: 3.6+ MB\n",
      "None\n"
     ]
    }
   ],
   "source": [
    "dfp = pd.read_csv(\"../data/decentraland/proposals.csv\", parse_dates=['date', 'start', 'end'])\n",
    "dfv = pd.read_csv(\"../data/decentraland/votes.csv\", parse_dates=['date'])\n",
    "\n",
    "df = to_microsoft(dfv)\n",
    "\n",
    "print(dfp.info())\n",
    "print(dfv.info())\n",
    "print(df.info())"
   ]
  },
  {
   "cell_type": "markdown",
   "metadata": {},
   "source": [
    "## Showing some info of the folds"
   ]
  },
  {
   "cell_type": "code",
   "execution_count": 5,
   "metadata": {
    "execution": {
     "iopub.execute_input": "2024-04-24T18:14:11.890084Z",
     "iopub.status.busy": "2024-04-24T18:14:11.889878Z",
     "iopub.status.idle": "2024-04-24T18:14:16.410752Z",
     "shell.execute_reply": "2024-04-24T18:14:16.410341Z",
     "shell.execute_reply.started": "2024-04-24T18:14:11.890070Z"
    }
   },
   "outputs": [
    {
     "name": "stdout",
     "output_type": "stream",
     "text": [
      "t\n",
      "2023-05-11    106129\n",
      "2023-05-18    107387\n",
      "2023-05-25    108802\n",
      "2023-06-01    109556\n",
      "2023-06-08    110250\n",
      "2023-06-15    111195\n",
      "2023-06-22    112105\n",
      "2023-06-29    112925\n",
      "2023-07-06    114417\n",
      "2023-07-13    115984\n",
      "Name: votes in train, dtype: int64\n"
     ]
    },
    {
     "data": {
      "text/html": [
       "<style type=\"text/css\">\n",
       "</style>\n",
       "<table id=\"T_8f3a4\">\n",
       "  <thead>\n",
       "    <tr>\n",
       "      <th class=\"blank level0\" >&nbsp;</th>\n",
       "      <th id=\"T_8f3a4_level0_col0\" class=\"col_heading level0 col0\" >open proposals</th>\n",
       "      <th id=\"T_8f3a4_level0_col1\" class=\"col_heading level0 col1\" >votes in open proposals (train)</th>\n",
       "      <th id=\"T_8f3a4_level0_col2\" class=\"col_heading level0 col2\" >users in open proposals (train)</th>\n",
       "      <th id=\"T_8f3a4_level0_col3\" class=\"col_heading level0 col3\" >vpp in open proposals (train)</th>\n",
       "      <th id=\"T_8f3a4_level0_col4\" class=\"col_heading level0 col4\" >vpu in open proposals (train)</th>\n",
       "      <th id=\"T_8f3a4_level0_col5\" class=\"col_heading level0 col5\" >votes in test</th>\n",
       "      <th id=\"T_8f3a4_level0_col6\" class=\"col_heading level0 col6\" >users in test</th>\n",
       "      <th id=\"T_8f3a4_level0_col7\" class=\"col_heading level0 col7\" >vpp test</th>\n",
       "      <th id=\"T_8f3a4_level0_col8\" class=\"col_heading level0 col8\" >vpu test</th>\n",
       "    </tr>\n",
       "    <tr>\n",
       "      <th class=\"index_name level0\" >t</th>\n",
       "      <th class=\"blank col0\" >&nbsp;</th>\n",
       "      <th class=\"blank col1\" >&nbsp;</th>\n",
       "      <th class=\"blank col2\" >&nbsp;</th>\n",
       "      <th class=\"blank col3\" >&nbsp;</th>\n",
       "      <th class=\"blank col4\" >&nbsp;</th>\n",
       "      <th class=\"blank col5\" >&nbsp;</th>\n",
       "      <th class=\"blank col6\" >&nbsp;</th>\n",
       "      <th class=\"blank col7\" >&nbsp;</th>\n",
       "      <th class=\"blank col8\" >&nbsp;</th>\n",
       "    </tr>\n",
       "  </thead>\n",
       "  <tbody>\n",
       "    <tr>\n",
       "      <th id=\"T_8f3a4_level0_row0\" class=\"row_heading level0 row0\" >2023-W19</th>\n",
       "      <td id=\"T_8f3a4_row0_col0\" class=\"data row0 col0\" >18</td>\n",
       "      <td id=\"T_8f3a4_row0_col1\" class=\"data row0 col1\" >1627</td>\n",
       "      <td id=\"T_8f3a4_row0_col2\" class=\"data row0 col2\" >358</td>\n",
       "      <td id=\"T_8f3a4_row0_col3\" class=\"data row0 col3\" >90.39</td>\n",
       "      <td id=\"T_8f3a4_row0_col4\" class=\"data row0 col4\" >4.54</td>\n",
       "      <td id=\"T_8f3a4_row0_col5\" class=\"data row0 col5\" >354</td>\n",
       "      <td id=\"T_8f3a4_row0_col6\" class=\"data row0 col6\" >139</td>\n",
       "      <td id=\"T_8f3a4_row0_col7\" class=\"data row0 col7\" >19.67</td>\n",
       "      <td id=\"T_8f3a4_row0_col8\" class=\"data row0 col8\" >2.55</td>\n",
       "    </tr>\n",
       "    <tr>\n",
       "      <th id=\"T_8f3a4_level0_row1\" class=\"row_heading level0 row1\" >2023-W20</th>\n",
       "      <td id=\"T_8f3a4_row1_col0\" class=\"data row1 col0\" >25</td>\n",
       "      <td id=\"T_8f3a4_row1_col1\" class=\"data row1 col1\" >1346</td>\n",
       "      <td id=\"T_8f3a4_row1_col2\" class=\"data row1 col2\" >305</td>\n",
       "      <td id=\"T_8f3a4_row1_col3\" class=\"data row1 col3\" >53.84</td>\n",
       "      <td id=\"T_8f3a4_row1_col4\" class=\"data row1 col4\" >4.41</td>\n",
       "      <td id=\"T_8f3a4_row1_col5\" class=\"data row1 col5\" >811</td>\n",
       "      <td id=\"T_8f3a4_row1_col6\" class=\"data row1 col6\" >169</td>\n",
       "      <td id=\"T_8f3a4_row1_col7\" class=\"data row1 col7\" >32.44</td>\n",
       "      <td id=\"T_8f3a4_row1_col8\" class=\"data row1 col8\" >4.80</td>\n",
       "    </tr>\n",
       "    <tr>\n",
       "      <th id=\"T_8f3a4_level0_row2\" class=\"row_heading level0 row2\" >2023-W21</th>\n",
       "      <td id=\"T_8f3a4_row2_col0\" class=\"data row2 col0\" >19</td>\n",
       "      <td id=\"T_8f3a4_row2_col1\" class=\"data row2 col1\" >1483</td>\n",
       "      <td id=\"T_8f3a4_row2_col2\" class=\"data row2 col2\" >305</td>\n",
       "      <td id=\"T_8f3a4_row2_col3\" class=\"data row2 col3\" >78.05</td>\n",
       "      <td id=\"T_8f3a4_row2_col4\" class=\"data row2 col4\" >4.86</td>\n",
       "      <td id=\"T_8f3a4_row2_col5\" class=\"data row2 col5\" >332</td>\n",
       "      <td id=\"T_8f3a4_row2_col6\" class=\"data row2 col6\" >122</td>\n",
       "      <td id=\"T_8f3a4_row2_col7\" class=\"data row2 col7\" >17.47</td>\n",
       "      <td id=\"T_8f3a4_row2_col8\" class=\"data row2 col8\" >2.72</td>\n",
       "    </tr>\n",
       "    <tr>\n",
       "      <th id=\"T_8f3a4_level0_row3\" class=\"row_heading level0 row3\" >2023-W22</th>\n",
       "      <td id=\"T_8f3a4_row3_col0\" class=\"data row3 col0\" >13</td>\n",
       "      <td id=\"T_8f3a4_row3_col1\" class=\"data row3 col1\" >819</td>\n",
       "      <td id=\"T_8f3a4_row3_col2\" class=\"data row3 col2\" >247</td>\n",
       "      <td id=\"T_8f3a4_row3_col3\" class=\"data row3 col3\" >63.00</td>\n",
       "      <td id=\"T_8f3a4_row3_col4\" class=\"data row3 col4\" >3.32</td>\n",
       "      <td id=\"T_8f3a4_row3_col5\" class=\"data row3 col5\" >289</td>\n",
       "      <td id=\"T_8f3a4_row3_col6\" class=\"data row3 col6\" >101</td>\n",
       "      <td id=\"T_8f3a4_row3_col7\" class=\"data row3 col7\" >22.23</td>\n",
       "      <td id=\"T_8f3a4_row3_col8\" class=\"data row3 col8\" >2.86</td>\n",
       "    </tr>\n",
       "    <tr>\n",
       "      <th id=\"T_8f3a4_level0_row4\" class=\"row_heading level0 row4\" >2023-W23</th>\n",
       "      <td id=\"T_8f3a4_row4_col0\" class=\"data row4 col0\" >13</td>\n",
       "      <td id=\"T_8f3a4_row4_col1\" class=\"data row4 col1\" >631</td>\n",
       "      <td id=\"T_8f3a4_row4_col2\" class=\"data row4 col2\" >191</td>\n",
       "      <td id=\"T_8f3a4_row4_col3\" class=\"data row4 col3\" >48.54</td>\n",
       "      <td id=\"T_8f3a4_row4_col4\" class=\"data row4 col4\" >3.30</td>\n",
       "      <td id=\"T_8f3a4_row4_col5\" class=\"data row4 col5\" >341</td>\n",
       "      <td id=\"T_8f3a4_row4_col6\" class=\"data row4 col6\" >118</td>\n",
       "      <td id=\"T_8f3a4_row4_col7\" class=\"data row4 col7\" >26.23</td>\n",
       "      <td id=\"T_8f3a4_row4_col8\" class=\"data row4 col8\" >2.89</td>\n",
       "    </tr>\n",
       "    <tr>\n",
       "      <th id=\"T_8f3a4_level0_row5\" class=\"row_heading level0 row5\" >2023-W24</th>\n",
       "      <td id=\"T_8f3a4_row5_col0\" class=\"data row5 col0\" >16</td>\n",
       "      <td id=\"T_8f3a4_row5_col1\" class=\"data row5 col1\" >872</td>\n",
       "      <td id=\"T_8f3a4_row5_col2\" class=\"data row5 col2\" >225</td>\n",
       "      <td id=\"T_8f3a4_row5_col3\" class=\"data row5 col3\" >54.50</td>\n",
       "      <td id=\"T_8f3a4_row5_col4\" class=\"data row5 col4\" >3.88</td>\n",
       "      <td id=\"T_8f3a4_row5_col5\" class=\"data row5 col5\" >391</td>\n",
       "      <td id=\"T_8f3a4_row5_col6\" class=\"data row5 col6\" >132</td>\n",
       "      <td id=\"T_8f3a4_row5_col7\" class=\"data row5 col7\" >24.44</td>\n",
       "      <td id=\"T_8f3a4_row5_col8\" class=\"data row5 col8\" >2.96</td>\n",
       "    </tr>\n",
       "    <tr>\n",
       "      <th id=\"T_8f3a4_level0_row6\" class=\"row_heading level0 row6\" >2023-W25</th>\n",
       "      <td id=\"T_8f3a4_row6_col0\" class=\"data row6 col0\" >17</td>\n",
       "      <td id=\"T_8f3a4_row6_col1\" class=\"data row6 col1\" >1136</td>\n",
       "      <td id=\"T_8f3a4_row6_col2\" class=\"data row6 col2\" >278</td>\n",
       "      <td id=\"T_8f3a4_row6_col3\" class=\"data row6 col3\" >66.82</td>\n",
       "      <td id=\"T_8f3a4_row6_col4\" class=\"data row6 col4\" >4.09</td>\n",
       "      <td id=\"T_8f3a4_row6_col5\" class=\"data row6 col5\" >360</td>\n",
       "      <td id=\"T_8f3a4_row6_col6\" class=\"data row6 col6\" >148</td>\n",
       "      <td id=\"T_8f3a4_row6_col7\" class=\"data row6 col7\" >21.18</td>\n",
       "      <td id=\"T_8f3a4_row6_col8\" class=\"data row6 col8\" >2.43</td>\n",
       "    </tr>\n",
       "    <tr>\n",
       "      <th id=\"T_8f3a4_level0_row7\" class=\"row_heading level0 row7\" >2023-W26</th>\n",
       "      <td id=\"T_8f3a4_row7_col0\" class=\"data row7 col0\" >10</td>\n",
       "      <td id=\"T_8f3a4_row7_col1\" class=\"data row7 col1\" >838</td>\n",
       "      <td id=\"T_8f3a4_row7_col2\" class=\"data row7 col2\" >278</td>\n",
       "      <td id=\"T_8f3a4_row7_col3\" class=\"data row7 col3\" >83.80</td>\n",
       "      <td id=\"T_8f3a4_row7_col4\" class=\"data row7 col4\" >3.01</td>\n",
       "      <td id=\"T_8f3a4_row7_col5\" class=\"data row7 col5\" >239</td>\n",
       "      <td id=\"T_8f3a4_row7_col6\" class=\"data row7 col6\" >107</td>\n",
       "      <td id=\"T_8f3a4_row7_col7\" class=\"data row7 col7\" >23.90</td>\n",
       "      <td id=\"T_8f3a4_row7_col8\" class=\"data row7 col8\" >2.23</td>\n",
       "    </tr>\n",
       "    <tr>\n",
       "      <th id=\"T_8f3a4_level0_row8\" class=\"row_heading level0 row8\" >2023-W27</th>\n",
       "      <td id=\"T_8f3a4_row8_col0\" class=\"data row8 col0\" >21</td>\n",
       "      <td id=\"T_8f3a4_row8_col1\" class=\"data row8 col1\" >1591</td>\n",
       "      <td id=\"T_8f3a4_row8_col2\" class=\"data row8 col2\" >469</td>\n",
       "      <td id=\"T_8f3a4_row8_col3\" class=\"data row8 col3\" >75.76</td>\n",
       "      <td id=\"T_8f3a4_row8_col4\" class=\"data row8 col4\" >3.39</td>\n",
       "      <td id=\"T_8f3a4_row8_col5\" class=\"data row8 col5\" >890</td>\n",
       "      <td id=\"T_8f3a4_row8_col6\" class=\"data row8 col6\" >249</td>\n",
       "      <td id=\"T_8f3a4_row8_col7\" class=\"data row8 col7\" >42.38</td>\n",
       "      <td id=\"T_8f3a4_row8_col8\" class=\"data row8 col8\" >3.57</td>\n",
       "    </tr>\n",
       "    <tr>\n",
       "      <th id=\"T_8f3a4_level0_row9\" class=\"row_heading level0 row9\" >2023-W28</th>\n",
       "      <td id=\"T_8f3a4_row9_col0\" class=\"data row9 col0\" >23</td>\n",
       "      <td id=\"T_8f3a4_row9_col1\" class=\"data row9 col1\" >2493</td>\n",
       "      <td id=\"T_8f3a4_row9_col2\" class=\"data row9 col2\" >600</td>\n",
       "      <td id=\"T_8f3a4_row9_col3\" class=\"data row9 col3\" >108.39</td>\n",
       "      <td id=\"T_8f3a4_row9_col4\" class=\"data row9 col4\" >4.16</td>\n",
       "      <td id=\"T_8f3a4_row9_col5\" class=\"data row9 col5\" >384</td>\n",
       "      <td id=\"T_8f3a4_row9_col6\" class=\"data row9 col6\" >142</td>\n",
       "      <td id=\"T_8f3a4_row9_col7\" class=\"data row9 col7\" >16.70</td>\n",
       "      <td id=\"T_8f3a4_row9_col8\" class=\"data row9 col8\" >2.70</td>\n",
       "    </tr>\n",
       "  </tbody>\n",
       "</table>\n"
      ],
      "text/plain": [
       "<pandas.io.formats.style.Styler at 0x7f47a1469d30>"
      ]
     },
     "execution_count": 5,
     "metadata": {},
     "output_type": "execute_result"
    }
   ],
   "source": [
    "sdd = defaultdict(list)\n",
    "\n",
    "for dftrain, dftest, t, openproposals in time_freq_split_current(to_microsoft(dfv), SPLITS_FREQ, dfp.reset_index(), remove_not_in_train_col='userID', normalize=SPLITS_NORMALIZE):\n",
    "    dftrain_filter = dftrain[dftrain['itemID'].isin(openproposals)]\n",
    "    \n",
    "    sdd['t'].append(t)\n",
    "    sdd['open proposals'].append(len(openproposals))\n",
    "    \n",
    "    sdd['proposals in train'].append(dftrain['itemID'].nunique())\n",
    "    sdd['votes in train'].append(len(dftrain))\n",
    "    sdd['votes in open proposals (train)'].append(len(dftrain_filter))\n",
    "    sdd['users in open proposals (train)'].append(dftrain_filter['userID'].nunique())\n",
    "    sdd['votes in test'].append(len(dftest))\n",
    "    sdd['users in train'].append(dftrain['userID'].nunique())\n",
    "    sdd['users in test'].append(dftest['userID'].nunique())\n",
    "\n",
    "sdf_all = pd.DataFrame(sdd).set_index('t')\n",
    "sdf_all['vpp in open proposals (train)'] = sdf_all['votes in open proposals (train)'] / sdf_all['open proposals']\n",
    "sdf_all['vpu in open proposals (train)'] = sdf_all['votes in open proposals (train)'] / sdf_all['users in open proposals (train)']\n",
    "sdf_all['vpp test'] = sdf_all['votes in test'] / sdf_all['open proposals']\n",
    "sdf_all['vpu test'] = sdf_all['votes in test'] / sdf_all['users in test']\n",
    "sdf = sdf_all.tail(10)\n",
    "print(sdf['votes in train'])\n",
    "_style = sdf[['open proposals', 'votes in open proposals (train)', 'users in open proposals (train)', 'vpp in open proposals (train)', 'vpu in open proposals (train)', 'votes in test', 'users in test', 'vpp test', 'vpu test']].style\n",
    "_style = _style.format_index('{:%G-W%V}').format(precision=2)\n",
    "_style"
   ]
  },
  {
   "cell_type": "code",
   "execution_count": 6,
   "metadata": {
    "execution": {
     "iopub.execute_input": "2024-04-24T18:14:16.412291Z",
     "iopub.status.busy": "2024-04-24T18:14:16.411950Z",
     "iopub.status.idle": "2024-04-24T18:14:16.432140Z",
     "shell.execute_reply": "2024-04-24T18:14:16.431621Z",
     "shell.execute_reply.started": "2024-04-24T18:14:16.412274Z"
    }
   },
   "outputs": [
    {
     "name": "stdout",
     "output_type": "stream",
     "text": [
      "\\begin{tabular}{lrrrrrrrrr}\n",
      " & \\textbf{open proposals} & \\textbf{votes in open proposals (train)} & \\textbf{users in open proposals (train)} & \\textbf{vpp in open proposals (train)} & \\textbf{vpu in open proposals (train)} & \\textbf{votes in test} & \\textbf{users in test} & \\textbf{vpp test} & \\textbf{vpu test} \\\\\n",
      "t &  &  &  &  &  &  &  &  &  \\\\\n",
      "2023-W19 & 18 & 1627 & 358 & 90.39 & 4.54 & 354 & 139 & 19.67 & 2.55 \\\\\n",
      "2023-W20 & 25 & 1346 & 305 & 53.84 & 4.41 & 811 & 169 & 32.44 & 4.80 \\\\\n",
      "2023-W21 & 19 & 1483 & 305 & 78.05 & 4.86 & 332 & 122 & 17.47 & 2.72 \\\\\n",
      "2023-W22 & 13 & 819 & 247 & 63.00 & 3.32 & 289 & 101 & 22.23 & 2.86 \\\\\n",
      "2023-W23 & 13 & 631 & 191 & 48.54 & 3.30 & 341 & 118 & 26.23 & 2.89 \\\\\n",
      "2023-W24 & 16 & 872 & 225 & 54.50 & 3.88 & 391 & 132 & 24.44 & 2.96 \\\\\n",
      "2023-W25 & 17 & 1136 & 278 & 66.82 & 4.09 & 360 & 148 & 21.18 & 2.43 \\\\\n",
      "2023-W26 & 10 & 838 & 278 & 83.80 & 3.01 & 239 & 107 & 23.90 & 2.23 \\\\\n",
      "2023-W27 & 21 & 1591 & 469 & 75.76 & 3.39 & 890 & 249 & 42.38 & 3.57 \\\\\n",
      "2023-W28 & 23 & 2493 & 600 & 108.39 & 4.16 & 384 & 142 & 16.70 & 2.70 \\\\\n",
      "\\end{tabular}\n",
      "\n"
     ]
    }
   ],
   "source": [
    "print(_style\n",
    "  .format_index(\"\\\\textbf{{{}}}\", escape=\"latex\", axis=1)\n",
    "  .to_latex()\n",
    ")"
   ]
  },
  {
   "cell_type": "markdown",
   "metadata": {},
   "source": [
    "## Running openpop baseline"
   ]
  },
  {
   "cell_type": "code",
   "execution_count": 7,
   "metadata": {
    "execution": {
     "iopub.execute_input": "2024-04-24T18:14:16.432964Z",
     "iopub.status.busy": "2024-04-24T18:14:16.432767Z",
     "iopub.status.idle": "2024-04-24T18:14:16.436692Z",
     "shell.execute_reply": "2024-04-24T18:14:16.435924Z",
     "shell.execute_reply.started": "2024-04-24T18:14:16.432939Z"
    }
   },
   "outputs": [],
   "source": [
    "from recommenders.evaluation.python_evaluation import map_at_k, ndcg_at_k, precision_at_k, recall_at_k"
   ]
  },
  {
   "cell_type": "code",
   "execution_count": 8,
   "metadata": {
    "execution": {
     "iopub.execute_input": "2024-04-24T18:14:16.437944Z",
     "iopub.status.busy": "2024-04-24T18:14:16.437641Z",
     "iopub.status.idle": "2024-04-24T18:15:18.972676Z",
     "shell.execute_reply": "2024-04-24T18:15:18.972158Z",
     "shell.execute_reply.started": "2024-04-24T18:14:16.437918Z"
    }
   },
   "outputs": [
    {
     "data": {
      "application/vnd.jupyter.widget-view+json": {
       "model_id": "784fa1e82c134e1ebaa42ca6dbc9ea63",
       "version_major": 2,
       "version_minor": 0
      },
      "text/plain": [
       "  0%|          | 0/112 [00:00<?, ?it/s]"
      ]
     },
     "metadata": {},
     "output_type": "display_data"
    }
   ],
   "source": [
    "folds = list(time_freq_split_current(df, SPLITS_FREQ, dfp, remove_not_in_train_col='userID', normalize=SPLITS_NORMALIZE))\n",
    "metrics_f = { 'precision':precision_at_k, 'ndcg': ndcg_at_k, 'ndcg': ndcg_at_k, 'map': map_at_k, 'recall': recall_at_k, }\n",
    "metrics = defaultdict(list)\n",
    "perfectmetrics = defaultdict(list)\n",
    "\n",
    "for i, (train, test, t, open_proposals) in enumerate(tqdm(folds)):\n",
    "    t = train.timestamp.max()\n",
    "\n",
    "    assert not train.empty, f\"Train should not be empty on fold {i}\"\n",
    "    if test.empty:\n",
    "        print(f\"Warning, empty test fold {i}\", file=sys.stderr)\n",
    "\n",
    "    metrics['t'].append(t)\n",
    "    perfectmetrics['t'].append(t)\n",
    "    for k_recs in K_RECOMMENDATIONS:\n",
    "        model = OpenPop(train)\n",
    "        recs = model.recommend_k_items(test['userID'].unique(), k_recs, recommend_from=open_proposals)\n",
    "    \n",
    "        for m, f in metrics_f.items():\n",
    "            r = f(test, recs, k=k_recs)\n",
    "            metrics[m+f'@{k_recs}'].append(r)\n",
    "            \n",
    "        recs = test.copy()\n",
    "        recs['prediction'] = True\n",
    "        for m, f in metrics_f.items():\n",
    "            r = f(test, recs, k=k_recs)\n",
    "            perfectmetrics[m+f'@{k_recs}'].append(r)"
   ]
  },
  {
   "cell_type": "markdown",
   "metadata": {},
   "source": [
    "### Caching these results"
   ]
  },
  {
   "cell_type": "code",
   "execution_count": 9,
   "metadata": {
    "execution": {
     "iopub.execute_input": "2024-04-24T18:15:18.973681Z",
     "iopub.status.busy": "2024-04-24T18:15:18.973482Z",
     "iopub.status.idle": "2024-04-24T18:15:18.986221Z",
     "shell.execute_reply": "2024-04-24T18:15:18.985212Z",
     "shell.execute_reply.started": "2024-04-24T18:15:18.973660Z"
    }
   },
   "outputs": [],
   "source": [
    "pd.DataFrame(metrics).set_index(\"t\").to_csv(\"../data/cache/baseline.csv\")\n",
    "pd.DataFrame(perfectmetrics).set_index(\"t\").to_csv(\"../data/cache/perfect.csv\")"
   ]
  },
  {
   "cell_type": "markdown",
   "metadata": {},
   "source": [
    "## Plotting some graphs"
   ]
  },
  {
   "cell_type": "code",
   "execution_count": 10,
   "metadata": {
    "execution": {
     "iopub.execute_input": "2024-04-24T18:15:18.987633Z",
     "iopub.status.busy": "2024-04-24T18:15:18.987240Z",
     "iopub.status.idle": "2024-04-24T18:15:19.279004Z",
     "shell.execute_reply": "2024-04-24T18:15:19.278445Z",
     "shell.execute_reply.started": "2024-04-24T18:15:18.987601Z"
    }
   },
   "outputs": [
    {
     "data": {
      "text/html": [
       "<div>\n",
       "<style scoped>\n",
       "    .dataframe tbody tr th:only-of-type {\n",
       "        vertical-align: middle;\n",
       "    }\n",
       "\n",
       "    .dataframe tbody tr th {\n",
       "        vertical-align: top;\n",
       "    }\n",
       "\n",
       "    .dataframe thead th {\n",
       "        text-align: right;\n",
       "    }\n",
       "</style>\n",
       "<table border=\"1\" class=\"dataframe\">\n",
       "  <thead>\n",
       "    <tr style=\"text-align: right;\">\n",
       "      <th></th>\n",
       "      <th>precision@5</th>\n",
       "      <th>ndcg@5</th>\n",
       "      <th>map@5</th>\n",
       "      <th>recall@5</th>\n",
       "      <th>precision@10</th>\n",
       "      <th>ndcg@10</th>\n",
       "      <th>map@10</th>\n",
       "      <th>recall@10</th>\n",
       "      <th>precision@15</th>\n",
       "      <th>ndcg@15</th>\n",
       "      <th>map@15</th>\n",
       "      <th>recall@15</th>\n",
       "      <th>perfect precision@5</th>\n",
       "      <th>perfect precision@10</th>\n",
       "    </tr>\n",
       "  </thead>\n",
       "  <tbody>\n",
       "    <tr>\n",
       "      <th>count</th>\n",
       "      <td>112.000000</td>\n",
       "      <td>112.000000</td>\n",
       "      <td>112.000000</td>\n",
       "      <td>112.000000</td>\n",
       "      <td>112.000000</td>\n",
       "      <td>112.000000</td>\n",
       "      <td>112.000000</td>\n",
       "      <td>112.000000</td>\n",
       "      <td>112.000000</td>\n",
       "      <td>112.000000</td>\n",
       "      <td>112.000000</td>\n",
       "      <td>112.000000</td>\n",
       "      <td>112.000000</td>\n",
       "      <td>112.000000</td>\n",
       "    </tr>\n",
       "    <tr>\n",
       "      <th>mean</th>\n",
       "      <td>0.164591</td>\n",
       "      <td>0.293963</td>\n",
       "      <td>0.219932</td>\n",
       "      <td>0.376177</td>\n",
       "      <td>0.140782</td>\n",
       "      <td>0.373448</td>\n",
       "      <td>0.272424</td>\n",
       "      <td>0.598719</td>\n",
       "      <td>0.121197</td>\n",
       "      <td>0.422970</td>\n",
       "      <td>0.296964</td>\n",
       "      <td>0.756328</td>\n",
       "      <td>0.396267</td>\n",
       "      <td>0.228617</td>\n",
       "    </tr>\n",
       "    <tr>\n",
       "      <th>std</th>\n",
       "      <td>0.088598</td>\n",
       "      <td>0.161085</td>\n",
       "      <td>0.142694</td>\n",
       "      <td>0.226350</td>\n",
       "      <td>0.065290</td>\n",
       "      <td>0.167946</td>\n",
       "      <td>0.151967</td>\n",
       "      <td>0.269988</td>\n",
       "      <td>0.051757</td>\n",
       "      <td>0.158873</td>\n",
       "      <td>0.149224</td>\n",
       "      <td>0.254690</td>\n",
       "      <td>0.097051</td>\n",
       "      <td>0.079498</td>\n",
       "    </tr>\n",
       "    <tr>\n",
       "      <th>min</th>\n",
       "      <td>0.015190</td>\n",
       "      <td>0.023097</td>\n",
       "      <td>0.012220</td>\n",
       "      <td>0.027345</td>\n",
       "      <td>0.019444</td>\n",
       "      <td>0.053178</td>\n",
       "      <td>0.024507</td>\n",
       "      <td>0.071317</td>\n",
       "      <td>0.012963</td>\n",
       "      <td>0.065182</td>\n",
       "      <td>0.027671</td>\n",
       "      <td>0.101852</td>\n",
       "      <td>0.200000</td>\n",
       "      <td>0.100000</td>\n",
       "    </tr>\n",
       "    <tr>\n",
       "      <th>25%</th>\n",
       "      <td>0.107793</td>\n",
       "      <td>0.180840</td>\n",
       "      <td>0.116729</td>\n",
       "      <td>0.220419</td>\n",
       "      <td>0.098532</td>\n",
       "      <td>0.265767</td>\n",
       "      <td>0.166405</td>\n",
       "      <td>0.386284</td>\n",
       "      <td>0.086212</td>\n",
       "      <td>0.327614</td>\n",
       "      <td>0.193035</td>\n",
       "      <td>0.584866</td>\n",
       "      <td>0.334530</td>\n",
       "      <td>0.177342</td>\n",
       "    </tr>\n",
       "    <tr>\n",
       "      <th>50%</th>\n",
       "      <td>0.155114</td>\n",
       "      <td>0.272606</td>\n",
       "      <td>0.203110</td>\n",
       "      <td>0.320893</td>\n",
       "      <td>0.134848</td>\n",
       "      <td>0.359939</td>\n",
       "      <td>0.240272</td>\n",
       "      <td>0.590535</td>\n",
       "      <td>0.119941</td>\n",
       "      <td>0.420127</td>\n",
       "      <td>0.274692</td>\n",
       "      <td>0.798949</td>\n",
       "      <td>0.392204</td>\n",
       "      <td>0.222658</td>\n",
       "    </tr>\n",
       "    <tr>\n",
       "      <th>75%</th>\n",
       "      <td>0.219769</td>\n",
       "      <td>0.377936</td>\n",
       "      <td>0.306146</td>\n",
       "      <td>0.473484</td>\n",
       "      <td>0.174039</td>\n",
       "      <td>0.479992</td>\n",
       "      <td>0.369740</td>\n",
       "      <td>0.820846</td>\n",
       "      <td>0.152594</td>\n",
       "      <td>0.522750</td>\n",
       "      <td>0.383079</td>\n",
       "      <td>1.000000</td>\n",
       "      <td>0.456445</td>\n",
       "      <td>0.276503</td>\n",
       "    </tr>\n",
       "    <tr>\n",
       "      <th>max</th>\n",
       "      <td>0.497268</td>\n",
       "      <td>0.735140</td>\n",
       "      <td>0.658514</td>\n",
       "      <td>1.000000</td>\n",
       "      <td>0.339080</td>\n",
       "      <td>0.789649</td>\n",
       "      <td>0.714069</td>\n",
       "      <td>1.000000</td>\n",
       "      <td>0.307791</td>\n",
       "      <td>0.789649</td>\n",
       "      <td>0.714069</td>\n",
       "      <td>1.000000</td>\n",
       "      <td>0.702222</td>\n",
       "      <td>0.608889</td>\n",
       "    </tr>\n",
       "  </tbody>\n",
       "</table>\n",
       "</div>"
      ],
      "text/plain": [
       "       precision@5      ndcg@5       map@5    recall@5  precision@10  \\\n",
       "count   112.000000  112.000000  112.000000  112.000000    112.000000   \n",
       "mean      0.164591    0.293963    0.219932    0.376177      0.140782   \n",
       "std       0.088598    0.161085    0.142694    0.226350      0.065290   \n",
       "min       0.015190    0.023097    0.012220    0.027345      0.019444   \n",
       "25%       0.107793    0.180840    0.116729    0.220419      0.098532   \n",
       "50%       0.155114    0.272606    0.203110    0.320893      0.134848   \n",
       "75%       0.219769    0.377936    0.306146    0.473484      0.174039   \n",
       "max       0.497268    0.735140    0.658514    1.000000      0.339080   \n",
       "\n",
       "          ndcg@10      map@10   recall@10  precision@15     ndcg@15  \\\n",
       "count  112.000000  112.000000  112.000000    112.000000  112.000000   \n",
       "mean     0.373448    0.272424    0.598719      0.121197    0.422970   \n",
       "std      0.167946    0.151967    0.269988      0.051757    0.158873   \n",
       "min      0.053178    0.024507    0.071317      0.012963    0.065182   \n",
       "25%      0.265767    0.166405    0.386284      0.086212    0.327614   \n",
       "50%      0.359939    0.240272    0.590535      0.119941    0.420127   \n",
       "75%      0.479992    0.369740    0.820846      0.152594    0.522750   \n",
       "max      0.789649    0.714069    1.000000      0.307791    0.789649   \n",
       "\n",
       "           map@15   recall@15  perfect precision@5  perfect precision@10  \n",
       "count  112.000000  112.000000           112.000000            112.000000  \n",
       "mean     0.296964    0.756328             0.396267              0.228617  \n",
       "std      0.149224    0.254690             0.097051              0.079498  \n",
       "min      0.027671    0.101852             0.200000              0.100000  \n",
       "25%      0.193035    0.584866             0.334530              0.177342  \n",
       "50%      0.274692    0.798949             0.392204              0.222658  \n",
       "75%      0.383079    1.000000             0.456445              0.276503  \n",
       "max      0.714069    1.000000             0.702222              0.608889  "
      ]
     },
     "execution_count": 10,
     "metadata": {},
     "output_type": "execute_result"
    },
    {
     "data": {
      "image/png": "[encoded data removed]",
      "text/plain": [
       "<Figure size 640x480 with 1 Axes>"
      ]
     },
     "metadata": {},
     "output_type": "display_data"
    }
   ],
   "source": [
    "mdf = pd.DataFrame(metrics)\n",
    "mdf['perfect precision@5'] = perfectmetrics['precision@5']\n",
    "mdf['perfect precision@10'] = perfectmetrics['precision@10']\n",
    "mdf[['precision@5', 'perfect precision@5', 'precision@10', 'perfect precision@10']].plot(title='Evaluación modelo baseline MP')\n",
    "mdf.describe()"
   ]
  },
  {
   "cell_type": "code",
   "execution_count": 12,
   "metadata": {
    "execution": {
     "iopub.execute_input": "2024-04-24T18:16:56.176462Z",
     "iopub.status.busy": "2024-04-24T18:16:56.176249Z",
     "iopub.status.idle": "2024-04-24T18:16:56.204188Z",
     "shell.execute_reply": "2024-04-24T18:16:56.203312Z",
     "shell.execute_reply.started": "2024-04-24T18:16:56.176447Z"
    }
   },
   "outputs": [
    {
     "data": {
      "text/html": [
       "<div>\n",
       "<style scoped>\n",
       "    .dataframe tbody tr th:only-of-type {\n",
       "        vertical-align: middle;\n",
       "    }\n",
       "\n",
       "    .dataframe tbody tr th {\n",
       "        vertical-align: top;\n",
       "    }\n",
       "\n",
       "    .dataframe thead th {\n",
       "        text-align: right;\n",
       "    }\n",
       "</style>\n",
       "<table border=\"1\" class=\"dataframe\">\n",
       "  <thead>\n",
       "    <tr style=\"text-align: right;\">\n",
       "      <th></th>\n",
       "      <th>precision@5</th>\n",
       "      <th>ndcg@5</th>\n",
       "      <th>map@5</th>\n",
       "      <th>recall@5</th>\n",
       "      <th>precision@10</th>\n",
       "      <th>ndcg@10</th>\n",
       "      <th>map@10</th>\n",
       "      <th>recall@10</th>\n",
       "      <th>precision@15</th>\n",
       "      <th>ndcg@15</th>\n",
       "      <th>map@15</th>\n",
       "      <th>recall@15</th>\n",
       "      <th>perfect precision@5</th>\n",
       "      <th>perfect precision@10</th>\n",
       "    </tr>\n",
       "  </thead>\n",
       "  <tbody>\n",
       "    <tr>\n",
       "      <th>count</th>\n",
       "      <td>10.000000</td>\n",
       "      <td>10.000000</td>\n",
       "      <td>10.000000</td>\n",
       "      <td>10.000000</td>\n",
       "      <td>10.000000</td>\n",
       "      <td>10.000000</td>\n",
       "      <td>10.000000</td>\n",
       "      <td>10.000000</td>\n",
       "      <td>10.000000</td>\n",
       "      <td>10.000000</td>\n",
       "      <td>10.000000</td>\n",
       "      <td>10.000000</td>\n",
       "      <td>10.000000</td>\n",
       "      <td>10.000000</td>\n",
       "    </tr>\n",
       "    <tr>\n",
       "      <th>mean</th>\n",
       "      <td>0.221133</td>\n",
       "      <td>0.317652</td>\n",
       "      <td>0.236604</td>\n",
       "      <td>0.352186</td>\n",
       "      <td>0.195841</td>\n",
       "      <td>0.415757</td>\n",
       "      <td>0.310075</td>\n",
       "      <td>0.625331</td>\n",
       "      <td>0.168421</td>\n",
       "      <td>0.477980</td>\n",
       "      <td>0.344976</td>\n",
       "      <td>0.820536</td>\n",
       "      <td>0.478408</td>\n",
       "      <td>0.281155</td>\n",
       "    </tr>\n",
       "    <tr>\n",
       "      <th>std</th>\n",
       "      <td>0.036484</td>\n",
       "      <td>0.053806</td>\n",
       "      <td>0.065308</td>\n",
       "      <td>0.091106</td>\n",
       "      <td>0.032717</td>\n",
       "      <td>0.077879</td>\n",
       "      <td>0.070509</td>\n",
       "      <td>0.175760</td>\n",
       "      <td>0.027148</td>\n",
       "      <td>0.069965</td>\n",
       "      <td>0.063366</td>\n",
       "      <td>0.147960</td>\n",
       "      <td>0.054643</td>\n",
       "      <td>0.053639</td>\n",
       "    </tr>\n",
       "    <tr>\n",
       "      <th>min</th>\n",
       "      <td>0.175100</td>\n",
       "      <td>0.217796</td>\n",
       "      <td>0.126806</td>\n",
       "      <td>0.202459</td>\n",
       "      <td>0.143919</td>\n",
       "      <td>0.317482</td>\n",
       "      <td>0.212009</td>\n",
       "      <td>0.343019</td>\n",
       "      <td>0.136036</td>\n",
       "      <td>0.375532</td>\n",
       "      <td>0.256185</td>\n",
       "      <td>0.508050</td>\n",
       "      <td>0.421622</td>\n",
       "      <td>0.223364</td>\n",
       "    </tr>\n",
       "    <tr>\n",
       "      <th>25%</th>\n",
       "      <td>0.189996</td>\n",
       "      <td>0.284524</td>\n",
       "      <td>0.187039</td>\n",
       "      <td>0.323228</td>\n",
       "      <td>0.167694</td>\n",
       "      <td>0.356670</td>\n",
       "      <td>0.250209</td>\n",
       "      <td>0.550864</td>\n",
       "      <td>0.149797</td>\n",
       "      <td>0.429686</td>\n",
       "      <td>0.293053</td>\n",
       "      <td>0.760931</td>\n",
       "      <td>0.437278</td>\n",
       "      <td>0.252214</td>\n",
       "    </tr>\n",
       "    <tr>\n",
       "      <th>50%</th>\n",
       "      <td>0.225931</td>\n",
       "      <td>0.311093</td>\n",
       "      <td>0.241310</td>\n",
       "      <td>0.356970</td>\n",
       "      <td>0.201360</td>\n",
       "      <td>0.419471</td>\n",
       "      <td>0.304259</td>\n",
       "      <td>0.592684</td>\n",
       "      <td>0.155701</td>\n",
       "      <td>0.468760</td>\n",
       "      <td>0.340216</td>\n",
       "      <td>0.797410</td>\n",
       "      <td>0.467366</td>\n",
       "      <td>0.271178</td>\n",
       "    </tr>\n",
       "    <tr>\n",
       "      <th>75%</th>\n",
       "      <td>0.239061</td>\n",
       "      <td>0.366925</td>\n",
       "      <td>0.290836</td>\n",
       "      <td>0.426350</td>\n",
       "      <td>0.221583</td>\n",
       "      <td>0.443381</td>\n",
       "      <td>0.366326</td>\n",
       "      <td>0.705101</td>\n",
       "      <td>0.189522</td>\n",
       "      <td>0.534261</td>\n",
       "      <td>0.405706</td>\n",
       "      <td>0.933676</td>\n",
       "      <td>0.503698</td>\n",
       "      <td>0.290716</td>\n",
       "    </tr>\n",
       "    <tr>\n",
       "      <th>max</th>\n",
       "      <td>0.287129</td>\n",
       "      <td>0.385956</td>\n",
       "      <td>0.329278</td>\n",
       "      <td>0.454473</td>\n",
       "      <td>0.240594</td>\n",
       "      <td>0.569957</td>\n",
       "      <td>0.417010</td>\n",
       "      <td>1.000000</td>\n",
       "      <td>0.220907</td>\n",
       "      <td>0.573062</td>\n",
       "      <td>0.429046</td>\n",
       "      <td>1.000000</td>\n",
       "      <td>0.595266</td>\n",
       "      <td>0.411834</td>\n",
       "    </tr>\n",
       "  </tbody>\n",
       "</table>\n",
       "</div>"
      ],
      "text/plain": [
       "       precision@5     ndcg@5      map@5   recall@5  precision@10    ndcg@10  \\\n",
       "count    10.000000  10.000000  10.000000  10.000000     10.000000  10.000000   \n",
       "mean      0.221133   0.317652   0.236604   0.352186      0.195841   0.415757   \n",
       "std       0.036484   0.053806   0.065308   0.091106      0.032717   0.077879   \n",
       "min       0.175100   0.217796   0.126806   0.202459      0.143919   0.317482   \n",
       "25%       0.189996   0.284524   0.187039   0.323228      0.167694   0.356670   \n",
       "50%       0.225931   0.311093   0.241310   0.356970      0.201360   0.419471   \n",
       "75%       0.239061   0.366925   0.290836   0.426350      0.221583   0.443381   \n",
       "max       0.287129   0.385956   0.329278   0.454473      0.240594   0.569957   \n",
       "\n",
       "          map@10  recall@10  precision@15    ndcg@15     map@15  recall@15  \\\n",
       "count  10.000000  10.000000     10.000000  10.000000  10.000000  10.000000   \n",
       "mean    0.310075   0.625331      0.168421   0.477980   0.344976   0.820536   \n",
       "std     0.070509   0.175760      0.027148   0.069965   0.063366   0.147960   \n",
       "min     0.212009   0.343019      0.136036   0.375532   0.256185   0.508050   \n",
       "25%     0.250209   0.550864      0.149797   0.429686   0.293053   0.760931   \n",
       "50%     0.304259   0.592684      0.155701   0.468760   0.340216   0.797410   \n",
       "75%     0.366326   0.705101      0.189522   0.534261   0.405706   0.933676   \n",
       "max     0.417010   1.000000      0.220907   0.573062   0.429046   1.000000   \n",
       "\n",
       "       perfect precision@5  perfect precision@10  \n",
       "count            10.000000             10.000000  \n",
       "mean              0.478408              0.281155  \n",
       "std               0.054643              0.053639  \n",
       "min               0.421622              0.223364  \n",
       "25%               0.437278              0.252214  \n",
       "50%               0.467366              0.271178  \n",
       "75%               0.503698              0.290716  \n",
       "max               0.595266              0.411834  "
      ]
     },
     "execution_count": 12,
     "metadata": {},
     "output_type": "execute_result"
    }
   ],
   "source": [
    "mdf[-LAST_SPLITS:].describe()"
   ]
  }
 ],
 "metadata": {
  "kernelspec": {
   "display_name": "Python 3 (ipykernel)",
   "language": "python",
   "name": "python3"
  },
  "language_info": {
   "codemirror_mode": {
    "name": "ipython",
    "version": 3
   },
   "file_extension": ".py",
   "mimetype": "text/x-python",
   "name": "python",
   "nbconvert_exporter": "python",
   "pygments_lexer": "ipython3",
   "version": "3.9.19"
  },
  "widgets": {
   "application/vnd.jupyter.widget-state+json": {
    "state": {
     "214256f6c7a6446688305a30f5cd8812": {
      "model_module": "@jupyter-widgets/controls",
      "model_module_version": "2.0.0",
      "model_name": "ProgressStyleModel",
      "state": {
       "description_width": ""
      }
     },
     "362f23d3fe3e45afba509fe81d5110ec": {
      "model_module": "@jupyter-widgets/controls",
      "model_module_version": "2.0.0",
      "model_name": "FloatProgressModel",
      "state": {
       "bar_style": "success",
       "layout": "IPY_MODEL_4f87afe6235e4a1c9a0698041bf2521f",
       "max": 112,
       "style": "IPY_MODEL_214256f6c7a6446688305a30f5cd8812",
       "value": 112
      }
     },
     "4ae6f2633dc54b2bacf127eb390bb7af": {
      "model_module": "@jupyter-widgets/controls",
      "model_module_version": "2.0.0",
      "model_name": "HTMLStyleModel",
      "state": {
       "description_width": "",
       "font_size": null,
       "text_color": null
      }
     },
     "4f87afe6235e4a1c9a0698041bf2521f": {
      "model_module": "@jupyter-widgets/base",
      "model_module_version": "2.0.0",
      "model_name": "LayoutModel",
      "state": {}
     },
     "530c8628b11d431d9140a43668a1c54b": {
      "model_module": "@jupyter-widgets/controls",
      "model_module_version": "2.0.0",
      "model_name": "HTMLModel",
      "state": {
       "layout": "IPY_MODEL_5a4d0fe9b79a4b17b40bb41eae41b9be",
       "style": "IPY_MODEL_5fb9dd0417b94bddb2110d61ef4b7971",
       "value": "100%"
      }
     },
     "5a4d0fe9b79a4b17b40bb41eae41b9be": {
      "model_module": "@jupyter-widgets/base",
      "model_module_version": "2.0.0",
      "model_name": "LayoutModel",
      "state": {}
     },
     "5fb9dd0417b94bddb2110d61ef4b7971": {
      "model_module": "@jupyter-widgets/controls",
      "model_module_version": "2.0.0",
      "model_name": "HTMLStyleModel",
      "state": {
       "description_width": "",
       "font_size": null,
       "text_color": null
      }
     },
     "723e262f556a466da2bde60ca696acbf": {
      "model_module": "@jupyter-widgets/controls",
      "model_module_version": "2.0.0",
      "model_name": "HTMLModel",
      "state": {
       "layout": "IPY_MODEL_80a1221b678e4258b4f394a4f107626a",
       "style": "IPY_MODEL_4ae6f2633dc54b2bacf127eb390bb7af",
       "value": " 112/112 [00:58&lt;00:00,  1.04s/it]"
      }
     },
     "784fa1e82c134e1ebaa42ca6dbc9ea63": {
      "model_module": "@jupyter-widgets/controls",
      "model_module_version": "2.0.0",
      "model_name": "HBoxModel",
      "state": {
       "children": [
        "IPY_MODEL_530c8628b11d431d9140a43668a1c54b",
        "IPY_MODEL_362f23d3fe3e45afba509fe81d5110ec",
        "IPY_MODEL_723e262f556a466da2bde60ca696acbf"
       ],
       "layout": "IPY_MODEL_de3e9c3039f24d4a975487b049a019c2"
      }
     },
     "80a1221b678e4258b4f394a4f107626a": {
      "model_module": "@jupyter-widgets/base",
      "model_module_version": "2.0.0",
      "model_name": "LayoutModel",
      "state": {}
     },
     "de3e9c3039f24d4a975487b049a019c2": {
      "model_module": "@jupyter-widgets/base",
      "model_module_version": "2.0.0",
      "model_name": "LayoutModel",
      "state": {}
     }
    },
    "version_major": 2,
    "version_minor": 0
   }
  }
 },
 "nbformat": 4,
 "nbformat_minor": 4
}
