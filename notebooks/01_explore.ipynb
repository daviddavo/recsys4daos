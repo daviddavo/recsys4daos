{
 "cells": [
  {
   "cell_type": "code",
   "execution_count": null,
   "id": "640054cf-a577-4483-9273-e1e1f8dc7798",
   "metadata": {},
   "outputs": [],
   "source": [
    "import datetime as dt\n",
    "import itertools as it\n",
    "\n",
    "import pandas as pd\n",
    "import numpy as np\n",
    "\n",
    "import matplotlib.pyplot as plt\n",
    "%matplotlib inline\n",
    "import seaborn as sns\n",
    "\n",
    "from recsys4daos.utils import notebooks as nbutils\n",
    "from recsys4daos.model_selection import cvtt_open\n",
    "import paths\n",
    "\n",
    "sns.set_theme(rc = {\n",
    "})\n",
    "sns.set_context(\"paper\")\n",
    "\n",
    "# Paper column width in inches\n",
    "PAPER_COL_WIDTH = 3.5\n",
    "\n",
    "original = plt.rcParamsDefault['figure.figsize']\n",
    "ratio = original[0] / original[1]\n",
    "print(f\"Original size: {original}, Ratio: {ratio}\")\n",
    "plt.rcParams['figure.figsize'] = (PAPER_COL_WIDTH, PAPER_COL_WIDTH/ratio)\n",
    "print(\"New size:\", plt.rcParams['figure.figsize'])\n",
    "\n",
    "# In acmart, 9pt is the default\n",
    "# And 7pt for \\footnotesize\n",
    "# plt.rcParams['font.size'] = 7,\n",
    "\n",
    "# The following are already relatively defined\n",
    "# plt.rcParams['xtick.labelsize'] = plt.rcParams['ytick.labelsize'] = plt.rcParams['axes.labelsize'] = plt.rcParams['font.size']"
   ]
  },
  {
   "cell_type": "code",
   "execution_count": null,
   "id": "c7f5ba70-4851-4988-bf55-e0f59bfac4fa",
   "metadata": {
    "editable": true,
    "slideshow": {
     "slide_type": ""
    },
    "tags": [
     "parameters"
    ]
   },
   "outputs": [],
   "source": [
    "ORG_NAME = 'Decentraland'\n",
    "SPLITS_FREQ: str = 'W-THU'\n",
    "SPLITS_NORMALIZE: bool = True\n",
    "LAST_FOLDS: int = 10\n",
    "LAST_FOLD_DATE_STR: str = None # Used just for plotting\n",
    "\n",
    "# Plotting hparams\n",
    "RECTANGLE_ALPHA = 0.3"
   ]
  },
  {
   "cell_type": "code",
   "execution_count": null,
   "id": "18b57097-46f5-4181-a1a5-f095f406f3a6",
   "metadata": {},
   "outputs": [],
   "source": [
    "LAST_FOLD_DATE: dt.datetime = dt.datetime.fromisoformat(LAST_FOLD_DATE_STR) if LAST_FOLD_DATE_STR else dt.datetime.now()"
   ]
  },
  {
   "cell_type": "code",
   "execution_count": null,
   "id": "1291b8e7-03c8-48ad-b732-9f66a9ef4ff3",
   "metadata": {},
   "outputs": [],
   "source": [
    "dfp = paths.load_proposals(ORG_NAME)\n",
    "dfv = paths.load_votes(ORG_NAME)\n",
    "\n",
    "print(dfp.info())\n",
    "print(dfv.info())"
   ]
  },
  {
   "cell_type": "code",
   "execution_count": null,
   "id": "28628987-ada0-49cb-9b85-d8ee0ff417c1",
   "metadata": {},
   "outputs": [],
   "source": [
    "folds = list(cvtt_open(dfv, SPLITS_FREQ, dfp, normalize=SPLITS_NORMALIZE, col_item='proposal', col_time='date', last_fold=LAST_FOLD_DATE_STR))[-LAST_FOLDS:]\n",
    "print(f\"Using {len(folds)} folds from {folds[0].end} to {folds[-1].end}\")"
   ]
  },
  {
   "cell_type": "markdown",
   "id": "68ea9409-3b8c-4dfe-9c5d-4e89db8fd928",
   "metadata": {},
   "source": [
    "## Proposals and time\n",
    "\n",
    "### How much time does each proposal take"
   ]
  },
  {
   "cell_type": "code",
   "execution_count": null,
   "id": "a3ac7db5-d190-4ac5-8504-76a5c3eea938",
   "metadata": {},
   "outputs": [],
   "source": [
    "# Original: Cell [5] at https://github.com/daviddavo/upm-tfm-notebooks/blob/bb2e45d4ec10962c987b6691fcb0cd4eeba7ea5b/10_baseline_mp.ipynb\n",
    "\n",
    "delta = dfp['end'] - dfp['start']\n",
    "delta.dt.days.hist(bins=14)\n",
    "print(vc := delta.value_counts())\n",
    "print(vc / len(delta))\n",
    "delta.describe()"
   ]
  },
  {
   "cell_type": "markdown",
   "id": "e97489b7-f833-402c-a33c-8024a9540a1a",
   "metadata": {
    "execution": {
     "iopub.execute_input": "2024-03-20T19:22:14.246302Z",
     "iopub.status.busy": "2024-03-20T19:22:14.245740Z",
     "iopub.status.idle": "2024-03-20T19:22:14.252344Z",
     "shell.execute_reply": "2024-03-20T19:22:14.251090Z",
     "shell.execute_reply.started": "2024-03-20T19:22:14.246252Z"
    }
   },
   "source": [
    "#### Avg. proposal length in time"
   ]
  },
  {
   "cell_type": "code",
   "execution_count": null,
   "id": "d1fd19d5-722c-4e1c-9c56-e2ffd4c0a63f",
   "metadata": {},
   "outputs": [],
   "source": [
    "def add_folds_to_plot(fig=plt, cont=True):\n",
    "\n",
    "    if cont:\n",
    "        start_date = folds[0].end\n",
    "        end_date = folds[-1].end\n",
    "        fig.axvspan(start_date, end_date, color='C2', alpha=RECTANGLE_ALPHA)\n",
    "    else:\n",
    "        for fprev, f, c in zip(folds, folds[1:], it.cycle([0,1])):\n",
    "            start_date = fprev.end\n",
    "            end_date = f.end\n",
    "            fig.axvspan(start_date, end_date, alpha=RECTANGLE_ALPHA, color='C1' if c else 'C2')"
   ]
  },
  {
   "cell_type": "code",
   "execution_count": null,
   "id": "f619deb2-cf32-4e32-b125-c6d67b3acf87",
   "metadata": {},
   "outputs": [],
   "source": [
    "# Original: Cell [6] at https://github.com/daviddavo/upm-tfm-notebooks/blob/bb2e45d4ec10962c987b6691fcb0cd4eeba7ea5b/10_baseline_mp.ipynb\n",
    "ROLLING_LENGTH = '7d'\n",
    "\n",
    "_delta = dfp.assign(delta=delta).set_index('date').sort_index()['delta'].dt.days\n",
    "_delta.rolling(ROLLING_LENGTH).mean().plot()\n",
    "\n",
    "add_folds_to_plot()"
   ]
  },
  {
   "cell_type": "markdown",
   "id": "c481585c-8a02-4b48-b5c9-f9c0ed9e9c0c",
   "metadata": {},
   "source": [
    "## How many proposals are created per week"
   ]
  },
  {
   "cell_type": "code",
   "execution_count": null,
   "id": "b4559c9e-999a-45bc-bfe4-7997b5d71b76",
   "metadata": {},
   "outputs": [],
   "source": [
    "WINDOW_SIZE = dt.timedelta(days=7)\n",
    "\n",
    "_toplot = dfv.groupby('proposal')['date'].min().sort_values()\n",
    "_toplot = _toplot.to_frame()\n",
    "_toplot['cnt'] = 1\n",
    "_toplot = _toplot.rolling(window=WINDOW_SIZE, on='date').count()\n",
    "\n",
    "# Double the width of the figure\n",
    "fs = plt.gcf().get_size_inches()\n",
    "plt.figure(figsize=fs * (2,.6))\n",
    "# _toplot.set_index('date')['cnt'].plot()\n",
    "ax = sns.lineplot(_toplot.set_index('date')['cnt'])\n",
    "\n",
    "plt.xlabel('')\n",
    "plt.ylabel('# propuestas')\n",
    "plt.xlim(\n",
    "    _toplot['date'].min(),\n",
    "    _toplot['date'].max(),\n",
    ")\n",
    "add_folds_to_plot(cont=False)\n",
    "\n",
    "sns.despine()"
   ]
  },
  {
   "cell_type": "code",
   "execution_count": null,
   "id": "a55fbdf4-f6dc-42d4-bb2f-050235674d9b",
   "metadata": {},
   "outputs": [],
   "source": [
    "_toplot = _toplot[_toplot['date'] > (folds[0].end - pd.tseries.frequencies.to_offset(SPLITS_FREQ)*3)]\n",
    "fs = plt.gcf().get_size_inches()\n",
    "plt.figure(figsize=fs * (2,.6))\n",
    "# _toplot.set_index('date')['cnt'].plot()\n",
    "ax = sns.lineplot(_toplot.set_index('date')['cnt'])\n",
    "\n",
    "plt.xlabel('')\n",
    "plt.ylabel('# propuestas')\n",
    "plt.xlim(\n",
    "    _toplot['date'].min(),\n",
    "    _toplot['date'].max(),\n",
    ")\n",
    "add_folds_to_plot(cont=False)\n",
    "\n",
    "sns.despine()"
   ]
  },
  {
   "cell_type": "markdown",
   "id": "e356b832-bd11-4913-af31-5c630af68511",
   "metadata": {},
   "source": [
    "## What day of the week are proposals created"
   ]
  },
  {
   "cell_type": "code",
   "execution_count": null,
   "id": "9c02d601-3d7a-4f7f-9c86-a6f85d4fe7ad",
   "metadata": {},
   "outputs": [],
   "source": [
    "# Original: Cell [7] at https://github.com/daviddavo/upm-tfm-notebooks/blob/bb2e45d4ec10962c987b6691fcb0cd4eeba7ea5b/10_baseline_mp.ipynb\n",
    "DAYS_OF_WEEK_ENG = ['Monday', 'Tuesday', 'Wednesday', 'Thursday', 'Friday', 'Saturday', 'Sunday']\n",
    "\n",
    "ax = sns.countplot(x=dfp['start'].dt.day_name(), order=DAYS_OF_WEEK_ENG)\n",
    "# ax.set_title(f'Número de propuestas por día de la semana en {ORG_NAME}')\n",
    "print(dfp['start'].dt.day_name().value_counts())\n",
    "ax.set_xlabel('')\n",
    "ax.set_ylabel('# proposals')\n",
    "ax.set_xticklabels(DAYS_OF_WEEK_ENG, rotation=30, ha='right')\n",
    "\n",
    "# Updates\n",
    "ax.set_ylabel('')\n",
    "\n",
    "nbutils.download_matplotlib(ax.figure, 'proposals_dow.pdf')"
   ]
  },
  {
   "cell_type": "markdown",
   "id": "38dc62ae-b8b7-451a-9ab2-18b211d89ec3",
   "metadata": {},
   "source": [
    "## What day of the week are proposals voted"
   ]
  },
  {
   "cell_type": "code",
   "execution_count": null,
   "id": "39967821-9f6e-4426-b896-e3898b27b334",
   "metadata": {},
   "outputs": [],
   "source": [
    "ax = sns.countplot(x=dfv['date'].dt.day_name(), order=DAYS_OF_WEEK_ENG)\n",
    "# ax.set_title(f'Número de propuestas por día de la semana en {ORG_NAME}')\n",
    "print(dfv['date'].dt.day_name().value_counts())\n",
    "ax.set_xlabel('')\n",
    "ax.set_ylabel('# votes')\n",
    "ax.set_xticklabels(DAYS_OF_WEEK_ENG, rotation=30, ha='right')\n",
    "\n",
    "# Updates\n",
    "ax.set_ylabel('')\n",
    "\n",
    "nbutils.download_matplotlib(ax.figure, \"votes_dow.pdf\")"
   ]
  },
  {
   "cell_type": "markdown",
   "id": "8ec0e029-2f9d-47a1-9b1a-d86e29bbe513",
   "metadata": {},
   "source": [
    "## In which moment of the proposal lifetime are votes cast"
   ]
  },
  {
   "cell_type": "code",
   "execution_count": null,
   "id": "75803459-86cf-42b8-bc4a-83e2e673a824",
   "metadata": {},
   "outputs": [],
   "source": [
    "from matplotlib import ticker\n",
    "\n",
    "PLOT_HUE = True\n",
    "BINS = 10\n",
    "\n",
    "_dfv = dfv[['proposal', 'date']].merge(dfp[['id', 'start', 'end']], left_on='proposal', right_on='id').sort_values('date')\n",
    "_dfv['date_rel'] = (_dfv['date'] - _dfv['start']) / (_dfv['end'] - _dfv['start'])\n",
    "_dfv['delta'] = (_dfv['end'] - _dfv['start'])\n",
    "_dfv['time remaining'] = 1 - _dfv['date_rel']\n",
    "\n",
    "display(_dfv.groupby('delta')[['time remaining']].describe())\n",
    "\n",
    "for t in [1/7, 6/7]:\n",
    "    first_day = (_dfv['date_rel'] < t)\n",
    "    print(f\"{first_day.sum()} ({first_day.mean()*100:.2f}%) of the votes are being cast on the first {t*100:.2f}% of rel time\")\n",
    "\n",
    "if len(_dfv['delta'].value_counts()) > BINS:\n",
    "    _dfv['delta_original'] = _dfv['delta']\n",
    "    _dfv['delta'] = pd.cut(_dfv['delta'], BINS)\n",
    "\n",
    "_dfv['delta'] = _dfv['delta'].astype(str)\n",
    "fg = sns.displot(_dfv, x='date_rel', kind='ecdf', hue='delta' if PLOT_HUE else None)\n",
    "# fg.ax.xaxis.set_major_locator(ticker.MultipleLocator(1/7))\n",
    "\n",
    "fg.ax.yaxis.set_major_locator(ticker.MultipleLocator(1/10))\n",
    "fg.ax.yaxis.set_major_formatter(ticker.PercentFormatter(1))\n",
    "fg.ax.set_xticks(np.arange(8)/7)\n",
    "fg.ax.set_xticklabels([\"0\"] + [f\"{x}/7\" for x in range(1,7)] + [\"1\"])\n",
    "fg.ax.set_xlabel('Relative time elapsed');\n",
    "\n",
    "nbutils.download_matplotlib(fg, f\"votes_in_time{'-color' if PLOT_HUE else ''}.pdf\")"
   ]
  },
  {
   "cell_type": "markdown",
   "id": "9130dd8e-7e68-4dfb-b495-9fa0a926a933",
   "metadata": {},
   "source": [
    "## Explore folds"
   ]
  },
  {
   "cell_type": "markdown",
   "id": "fccc5d7a-9987-474d-9c06-1e2c02996314",
   "metadata": {},
   "source": [
    "## Just used folds"
   ]
  },
  {
   "cell_type": "code",
   "execution_count": null,
   "id": "cd043869-84a8-462c-9c01-dd75d130d520",
   "metadata": {},
   "outputs": [],
   "source": [
    "for f in folds:\n",
    "    print(\"=\"*10 + f\"fold {f.end}\" + 10*\"=\")\n",
    "    print(len(f.open_proposals), \"open proposals\")\n",
    "    print(f.train['voter'].nunique(), \"users in train\")\n",
    "    print(f.test['voter'].nunique(), \"users in train\")\n",
    "    print(len(np.intersect1d(f.test['voter'].unique(), f.test['voter'].unique())), \"users in both\")"
   ]
  },
  {
   "cell_type": "markdown",
   "id": "729479f0-153b-46ee-a4ac-fcf6a2902dbb",
   "metadata": {},
   "source": [
    "## Histograms"
   ]
  },
  {
   "cell_type": "markdown",
   "id": "b700fb01",
   "metadata": {},
   "source": [
    "### Votes per user"
   ]
  },
  {
   "cell_type": "code",
   "execution_count": null,
   "id": "58c8912e",
   "metadata": {},
   "outputs": [],
   "source": [
    "_toplot = dfv.groupby('voter').size()\n",
    "# _toplot = _toplot[_toplot < 40]\n",
    "print(_toplot.describe(percentiles=[.1, .15, .5, .9, .95, .99]))\n",
    "# _toplot.plot.hist(log=True)\n",
    "ax = sns.ecdfplot(_toplot, log_scale=True)\n",
    "plt.xlabel('# votes')\n",
    "plt.ylabel('% voters')\n",
    "\n",
    "_times_voted = [10, 100]\n",
    "for t in _times_voted:\n",
    "    _nusers = (_toplot > t).sum()\n",
    "    print(f\"{_nusers} voters ({_nusers/len(_toplot)*100:.2f}%) have voted more than {t} times\")\n",
    "\n",
    "ax.set_xticks([1, 5, 10, 50, 100, 500, 1000])\n",
    "# ax.xaxis.set_major_locator(mtick.MultipleLocator(10))\n",
    "ax.yaxis.set_major_formatter(ticker.PercentFormatter(1))\n",
    "\n",
    "# Updates by Javi\n",
    "plt.xlabel(\"\")\n",
    "plt.ylabel(\"\")\n",
    "\n",
    "nbutils.download_matplotlib(ax.figure, \"ecdf-vpv.pdf\")"
   ]
  },
  {
   "cell_type": "markdown",
   "id": "d11514db",
   "metadata": {},
   "source": [
    "### Votes per proposal"
   ]
  },
  {
   "cell_type": "code",
   "execution_count": null,
   "id": "66dba836",
   "metadata": {},
   "outputs": [],
   "source": [
    "_toplot = dfv.groupby('proposal').size()\n",
    "print(_toplot.describe(percentiles=[.1, .15, .20, .25, .5,.75,.9, .95, .99]))\n",
    "\n",
    "print(\"Total votes:\", _toplot.sum())\n",
    "_times_voted = [10, 72, 73, 100]\n",
    "for t in _times_voted:\n",
    "    _nprops = (_toplot > t).sum()\n",
    "    print(f\"{_nprops} proposals ({_nprops/len(_toplot)*100:.2f}%) have more than {t} votes\")\n",
    "\n",
    "ax = sns.ecdfplot(_toplot, log_scale=True)\n",
    "ax.set_xticks([1, 5, 10, 50, 100, 500, 1000])\n",
    "ax.yaxis.set_major_formatter(ticker.PercentFormatter(1))\n",
    "\n",
    "plt.xlabel('# votes')\n",
    "plt.ylabel('% proposals')\n",
    "\n",
    "# Updates by Javi\n",
    "plt.xlabel(\"\")\n",
    "plt.ylabel(\"\")\n",
    "\n",
    "nbutils.download_matplotlib(ax.figure, \"ecdf-vpp.pdf\")"
   ]
  }
 ],
 "metadata": {
  "kernelspec": {
   "display_name": "Python 3 (ipykernel)",
   "language": "python",
   "name": "python3"
  },
  "language_info": {
   "codemirror_mode": {
    "name": "ipython",
    "version": 3
   },
   "file_extension": ".py",
   "mimetype": "text/x-python",
   "name": "python",
   "nbconvert_exporter": "python",
   "pygments_lexer": "ipython3",
   "version": "3.11.6"
  },
  "widgets": {
   "application/vnd.jupyter.widget-state+json": {
    "state": {
     "05b8e0090c5a4be5921fbfc54b7141b2": {
      "model_module": "jupyter-vuetify",
      "model_module_version": "^1.8.5",
      "model_name": "BtnModel",
      "state": {
       "_events": [
        "click"
       ],
       "_jupyter_vue": "IPY_MODEL_36acb1c91c414ade9e1c01d7fba1d330",
       "attributes": {},
       "children": [
        "IPY_MODEL_11f472aca6b641689ce163f1ab8e6c77",
        "Download: votes_in_time-color.pdf"
       ],
       "class_": "",
       "disabled": false,
       "elevation": null,
       "height": null,
       "href": null,
       "layout": null,
       "loading": false,
       "max_height": null,
       "max_width": null,
       "min_height": null,
       "min_width": null,
       "outlined": false,
       "ripple": null,
       "style_": "",
       "text": false,
       "to": null,
       "v_slots": [],
       "width": null
      }
     },
     "0a2955d72c8f44e8b04948fdb4dbff3d": {
      "model_module": "@jupyter-widgets/controls",
      "model_module_version": "2.0.0",
      "model_name": "VBoxModel",
      "state": {
       "_view_count": 1,
       "children": [
        "IPY_MODEL_f0cfcb68c2de42978659fe5f2a2d1d92"
       ],
       "layout": "IPY_MODEL_b6205788d2e64a56a7abc9e1ca1a3023"
      }
     },
     "0dd015565f434b21a0d837eda952191e": {
      "model_module": "jupyter-vuetify",
      "model_module_version": "^1.9.4",
      "model_name": "ThemeModel",
      "state": {
       "_model_module_version": "^1.9.4",
       "_view_module": null,
       "_view_module_version": "^1.9.4",
       "dark_effective": false
      }
     },
     "11f472aca6b641689ce163f1ab8e6c77": {
      "model_module": "jupyter-vuetify",
      "model_module_version": "^1.8.5",
      "model_name": "IconModel",
      "state": {
       "_events": [],
       "_jupyter_vue": "IPY_MODEL_36acb1c91c414ade9e1c01d7fba1d330",
       "attributes": {},
       "children": [
        "mdi-cloud-download-outline"
       ],
       "layout": null,
       "left": true,
       "size": null,
       "v_slots": []
      }
     },
     "12d5aa903b6a4d209997e09fb54511b8": {
      "model_module": "@jupyter-widgets/base",
      "model_module_version": "2.0.0",
      "model_name": "LayoutModel",
      "state": {}
     },
     "19544ec07c1342149614b34930b1090e": {
      "model_module": "jupyter-vuetify",
      "model_module_version": "^1.8.5",
      "model_name": "RowModel",
      "state": {
       "_events": [],
       "_jupyter_vue": "IPY_MODEL_36acb1c91c414ade9e1c01d7fba1d330",
       "attributes": {},
       "children": [
        "IPY_MODEL_88ecc6225e984af082e110c1a90189d5"
       ],
       "class_": "solara-content-main",
       "layout": null,
       "no_gutters": false,
       "v_slots": []
      }
     },
     "229f7ac0e9af4042a008b11d6a79a1e3": {
      "model_module": "@jupyter-widgets/base",
      "model_module_version": "2.0.0",
      "model_name": "LayoutModel",
      "state": {}
     },
     "26300d044a614110bbf65eaf6ab8bd7a": {
      "model_module": "jupyter-vuetify",
      "model_module_version": "^1.9.4",
      "model_name": "VuetifyTemplateModel",
      "state": {
       "_component_instances": [],
       "_jupyter_vue": "IPY_MODEL_36acb1c91c414ade9e1c01d7fba1d330",
       "_model_module_version": "^1.9.4",
       "_view_module_version": "^1.9.4",
       "bytes": null,
       "children": [
        "IPY_MODEL_4f65941f28004d2b9b2107ec36cfba11"
       ],
       "components": null,
       "events": [],
       "filename": "votes_dow.pdf",
       "layout": "IPY_MODEL_2d2dea90161c4021838431533583fde3",
       "mime_type": "application/octet-stream",
       "request_download": false,
       "template": "IPY_MODEL_6b564aadf1704ed889d35ec7fb6081d7"
      }
     },
     "265472579a0648a9a1a80a21a45348b2": {
      "model_module": "@jupyter-widgets/base",
      "model_module_version": "2.0.0",
      "model_name": "LayoutModel",
      "state": {}
     },
     "2d2dea90161c4021838431533583fde3": {
      "model_module": "@jupyter-widgets/base",
      "model_module_version": "2.0.0",
      "model_name": "LayoutModel",
      "state": {}
     },
     "3213f3ad4297414687742dab69c4bcdf": {
      "model_module": "jupyter-vuetify",
      "model_module_version": "^1.8.5",
      "model_name": "IconModel",
      "state": {
       "_events": [],
       "_jupyter_vue": "IPY_MODEL_36acb1c91c414ade9e1c01d7fba1d330",
       "attributes": {},
       "children": [
        "mdi-cloud-download-outline"
       ],
       "layout": null,
       "left": true,
       "size": null,
       "v_slots": []
      }
     },
     "34d3c7bc230a4683a0a9d7a581652f28": {
      "model_module": "@jupyter-widgets/base",
      "model_module_version": "2.0.0",
      "model_name": "LayoutModel",
      "state": {}
     },
     "36acb1c91c414ade9e1c01d7fba1d330": {
      "model_module": "jupyter-vue",
      "model_module_version": "^1.11.1",
      "model_name": "ForceLoadModel",
      "state": {
       "_model_module_version": "^1.11.1",
       "_view_module": null,
       "_view_module_version": "",
       "layout": "IPY_MODEL_265472579a0648a9a1a80a21a45348b2"
      }
     },
     "3d428883d15a47c2936b7d1737579b97": {
      "model_module": "jupyter-vuetify",
      "model_module_version": "^1.9.4",
      "model_name": "VuetifyTemplateModel",
      "state": {
       "_component_instances": [],
       "_jupyter_vue": "IPY_MODEL_36acb1c91c414ade9e1c01d7fba1d330",
       "_model_module_version": "^1.9.4",
       "_view_module_version": "^1.9.4",
       "bytes": null,
       "children": [
        "IPY_MODEL_05b8e0090c5a4be5921fbfc54b7141b2"
       ],
       "components": null,
       "events": [],
       "filename": "votes_in_time-color.pdf",
       "layout": "IPY_MODEL_34d3c7bc230a4683a0a9d7a581652f28",
       "mime_type": "application/octet-stream",
       "request_download": false,
       "template": "IPY_MODEL_6b564aadf1704ed889d35ec7fb6081d7"
      }
     },
     "463a80878ad14f5a8d1f8a169d9b80c1": {
      "model_module": "jupyter-vuetify",
      "model_module_version": "^1.8.5",
      "model_name": "RowModel",
      "state": {
       "_events": [],
       "_jupyter_vue": "IPY_MODEL_36acb1c91c414ade9e1c01d7fba1d330",
       "attributes": {},
       "children": [
        "IPY_MODEL_e2e2e98b041a49858cc485343137da28"
       ],
       "class_": "solara-content-main",
       "layout": null,
       "no_gutters": false,
       "v_slots": []
      }
     },
     "48951fc386dc4a5796d868fdaaf44cac": {
      "model_module": "jupyter-vuetify",
      "model_module_version": "^1.9.4",
      "model_name": "HtmlModel",
      "state": {
       "_events": [],
       "_jupyter_vue": "IPY_MODEL_36acb1c91c414ade9e1c01d7fba1d330",
       "_model_module_version": "^1.9.4",
       "_view_module_version": "^1.9.4",
       "attributes": {},
       "children": [
        "IPY_MODEL_e7c039c1edd646c8984fa9011818a3be"
       ],
       "layout": null,
       "tag": "div",
       "v_slots": []
      }
     },
     "4f65941f28004d2b9b2107ec36cfba11": {
      "model_module": "jupyter-vuetify",
      "model_module_version": "^1.8.5",
      "model_name": "BtnModel",
      "state": {
       "_events": [
        "click"
       ],
       "_jupyter_vue": "IPY_MODEL_36acb1c91c414ade9e1c01d7fba1d330",
       "attributes": {},
       "children": [
        "IPY_MODEL_3213f3ad4297414687742dab69c4bcdf",
        "Download: votes_dow.pdf"
       ],
       "class_": "",
       "disabled": false,
       "elevation": null,
       "height": null,
       "href": null,
       "layout": null,
       "loading": false,
       "max_height": null,
       "max_width": null,
       "min_height": null,
       "min_width": null,
       "outlined": false,
       "ripple": null,
       "style_": "",
       "text": false,
       "to": null,
       "v_slots": [],
       "width": null
      }
     },
     "51a68ce5da674d07933ad3b01f033e11": {
      "model_module": "jupyter-vuetify",
      "model_module_version": "^1.9.4",
      "model_name": "VuetifyTemplateModel",
      "state": {
       "_component_instances": [],
       "_jupyter_vue": "IPY_MODEL_36acb1c91c414ade9e1c01d7fba1d330",
       "_model_module_version": "^1.9.4",
       "_view_module_version": "^1.9.4",
       "bytes": null,
       "children": [
        "IPY_MODEL_62766259098d4760b156b9a6b0708f97"
       ],
       "components": null,
       "events": [],
       "filename": "proposals_dow.pdf",
       "layout": "IPY_MODEL_12d5aa903b6a4d209997e09fb54511b8",
       "mime_type": "application/octet-stream",
       "request_download": false,
       "template": "IPY_MODEL_6b564aadf1704ed889d35ec7fb6081d7"
      }
     },
     "5943c5d0ce394db1ac2fef289903b978": {
      "model_module": "jupyter-vuetify",
      "model_module_version": "^1.9.4",
      "model_name": "ThemeColorsModel",
      "state": {
       "_model_module_version": "^1.9.4",
       "_theme_name": "dark",
       "_view_module": null,
       "_view_module_version": "^1.9.4",
       "accent": "#FF4081",
       "error": "#FF5252",
       "info": "#2196F3",
       "primary": "#2196F3",
       "secondary": "#424242",
       "success": "#4CAF50",
       "warning": "#FB8C00"
      }
     },
     "62766259098d4760b156b9a6b0708f97": {
      "model_module": "jupyter-vuetify",
      "model_module_version": "^1.8.5",
      "model_name": "BtnModel",
      "state": {
       "_events": [
        "click"
       ],
       "_jupyter_vue": "IPY_MODEL_36acb1c91c414ade9e1c01d7fba1d330",
       "attributes": {},
       "children": [
        "IPY_MODEL_fb27ff39ae2d448b8c5240115bd8238c",
        "Download: proposals_dow.pdf"
       ],
       "class_": "",
       "disabled": false,
       "elevation": null,
       "height": null,
       "href": null,
       "layout": null,
       "loading": false,
       "max_height": null,
       "max_width": null,
       "min_height": null,
       "min_width": null,
       "outlined": false,
       "ripple": null,
       "style_": "",
       "text": false,
       "to": null,
       "v_slots": [],
       "width": null
      }
     },
     "6b564aadf1704ed889d35ec7fb6081d7": {
      "model_module": "jupyter-vue",
      "model_module_version": "^1.11.1",
      "model_name": "TemplateModel",
      "state": {
       "_model_module": "jupyter-vue",
       "_model_module_version": "^1.11.1",
       "_view_module": null,
       "_view_module_version": "",
       "template": "<template>\n    <div @click=\"request_download = true\" class=\"solara-file-download-container\">\n        <jupyter-widget v-for=\"child in children\" :key=\"child\" :widget=\"child\"></jupyter-widget>\n    </div>\n</template>\n\n<script>\nmodule.exports = {\n    watch: {\n        bytes(value) {\n            if (this.request_download) {\n                const a = document.createElement('a');\n                a.download = this.filename;\n                const blob = new Blob([this.bytes], { type: this.mime_type });\n                const blobUrl = window.URL.createObjectURL(blob);\n                a.href = blobUrl;\n                document.body.appendChild(a);\n                a.click();\n                document.body.removeChild(a);\n                setTimeout(() => {\n                    // Make sure we clean up\n                    window.URL.revokeObjectURL(blobUrl);\n                }, 1000);\n                this.request_download = false;\n            }\n        }\n    }\n}\n</script>\n\n<style id=\"solara-file-download\">\n.solara-file-download-container {\n    cursor: pointer;\n}\n</style>\n"
      }
     },
     "71e4897ab4ed4052b1389481b19724e1": {
      "model_module": "jupyter-vuetify",
      "model_module_version": "^1.9.4",
      "model_name": "HtmlModel",
      "state": {
       "_events": [],
       "_jupyter_vue": "IPY_MODEL_36acb1c91c414ade9e1c01d7fba1d330",
       "_model_module_version": "^1.9.4",
       "_view_module_version": "^1.9.4",
       "attributes": {},
       "children": [
        "IPY_MODEL_19544ec07c1342149614b34930b1090e"
       ],
       "layout": null,
       "tag": "div",
       "v_slots": []
      }
     },
     "8795be72c8a54160a002f4856842c854": {
      "model_module": "@jupyter-widgets/base",
      "model_module_version": "2.0.0",
      "model_name": "LayoutModel",
      "state": {}
     },
     "88ecc6225e984af082e110c1a90189d5": {
      "model_module": "jupyter-vuetify",
      "model_module_version": "^1.8.5",
      "model_name": "ColModel",
      "state": {
       "_events": [],
       "_jupyter_vue": "IPY_MODEL_36acb1c91c414ade9e1c01d7fba1d330",
       "attributes": {},
       "children": [
        "IPY_MODEL_26300d044a614110bbf65eaf6ab8bd7a"
       ],
       "cols": 12,
       "layout": null,
       "lg": null,
       "md": null,
       "offset": null,
       "offset_lg": null,
       "offset_md": null,
       "offset_sm": null,
       "offset_xl": null,
       "order": null,
       "order_lg": null,
       "order_md": null,
       "order_sm": null,
       "order_xl": null,
       "sm": null,
       "v_slots": [],
       "xl": null
      }
     },
     "917e8622aa78479793585373d585e5f1": {
      "model_module": "@jupyter-widgets/controls",
      "model_module_version": "2.0.0",
      "model_name": "VBoxModel",
      "state": {
       "_view_count": 1,
       "children": [
        "IPY_MODEL_71e4897ab4ed4052b1389481b19724e1"
       ],
       "layout": "IPY_MODEL_8795be72c8a54160a002f4856842c854"
      }
     },
     "9e2c40c2a96a445f95ac67d2b008ccec": {
      "model_module": "jupyter-vuetify",
      "model_module_version": "^1.9.4",
      "model_name": "ThemeColorsModel",
      "state": {
       "_model_module_version": "^1.9.4",
       "_theme_name": "light",
       "_view_module": null,
       "_view_module_version": "^1.9.4",
       "accent": "#82B1FF",
       "error": "#FF5252",
       "info": "#2196F3",
       "primary": "#1976D2",
       "secondary": "#424242",
       "success": "#4CAF50",
       "warning": "#FB8C00"
      }
     },
     "a12f6d34dac548388ec16f9a68239cec": {
      "model_module": "@jupyter-widgets/controls",
      "model_module_version": "2.0.0",
      "model_name": "VBoxModel",
      "state": {
       "_view_count": 1,
       "children": [
        "IPY_MODEL_48951fc386dc4a5796d868fdaaf44cac"
       ],
       "layout": "IPY_MODEL_229f7ac0e9af4042a008b11d6a79a1e3"
      }
     },
     "b6205788d2e64a56a7abc9e1ca1a3023": {
      "model_module": "@jupyter-widgets/base",
      "model_module_version": "2.0.0",
      "model_name": "LayoutModel",
      "state": {}
     },
     "b6d726d9974448e79c5d5fa89caa89ac": {
      "model_module": "jupyter-vuetify",
      "model_module_version": "^1.8.5",
      "model_name": "ColModel",
      "state": {
       "_events": [],
       "_jupyter_vue": "IPY_MODEL_36acb1c91c414ade9e1c01d7fba1d330",
       "attributes": {},
       "children": [
        "IPY_MODEL_51a68ce5da674d07933ad3b01f033e11"
       ],
       "cols": 12,
       "layout": null,
       "lg": null,
       "md": null,
       "offset": null,
       "offset_lg": null,
       "offset_md": null,
       "offset_sm": null,
       "offset_xl": null,
       "order": null,
       "order_lg": null,
       "order_md": null,
       "order_sm": null,
       "order_xl": null,
       "sm": null,
       "v_slots": [],
       "xl": null
      }
     },
     "e2e2e98b041a49858cc485343137da28": {
      "model_module": "jupyter-vuetify",
      "model_module_version": "^1.8.5",
      "model_name": "ColModel",
      "state": {
       "_events": [],
       "_jupyter_vue": "IPY_MODEL_36acb1c91c414ade9e1c01d7fba1d330",
       "attributes": {},
       "children": [
        "IPY_MODEL_3d428883d15a47c2936b7d1737579b97"
       ],
       "cols": 12,
       "layout": null,
       "lg": null,
       "md": null,
       "offset": null,
       "offset_lg": null,
       "offset_md": null,
       "offset_sm": null,
       "offset_xl": null,
       "order": null,
       "order_lg": null,
       "order_md": null,
       "order_sm": null,
       "order_xl": null,
       "sm": null,
       "v_slots": [],
       "xl": null
      }
     },
     "e7c039c1edd646c8984fa9011818a3be": {
      "model_module": "jupyter-vuetify",
      "model_module_version": "^1.8.5",
      "model_name": "RowModel",
      "state": {
       "_events": [],
       "_jupyter_vue": "IPY_MODEL_36acb1c91c414ade9e1c01d7fba1d330",
       "attributes": {},
       "children": [
        "IPY_MODEL_b6d726d9974448e79c5d5fa89caa89ac"
       ],
       "class_": "solara-content-main",
       "layout": null,
       "no_gutters": false,
       "v_slots": []
      }
     },
     "f0cfcb68c2de42978659fe5f2a2d1d92": {
      "model_module": "jupyter-vuetify",
      "model_module_version": "^1.9.4",
      "model_name": "HtmlModel",
      "state": {
       "_events": [],
       "_jupyter_vue": "IPY_MODEL_36acb1c91c414ade9e1c01d7fba1d330",
       "_model_module_version": "^1.9.4",
       "_view_module_version": "^1.9.4",
       "attributes": {},
       "children": [
        "IPY_MODEL_463a80878ad14f5a8d1f8a169d9b80c1"
       ],
       "layout": null,
       "tag": "div",
       "v_slots": []
      }
     },
     "fb27ff39ae2d448b8c5240115bd8238c": {
      "model_module": "jupyter-vuetify",
      "model_module_version": "^1.8.5",
      "model_name": "IconModel",
      "state": {
       "_events": [],
       "_jupyter_vue": "IPY_MODEL_36acb1c91c414ade9e1c01d7fba1d330",
       "attributes": {},
       "children": [
        "mdi-cloud-download-outline"
       ],
       "layout": null,
       "left": true,
       "size": null,
       "v_slots": []
      }
     }
    },
    "version_major": 2,
    "version_minor": 0
   }
  }
 },
 "nbformat": 4,
 "nbformat_minor": 5
}
