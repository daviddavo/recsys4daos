{
 "cells": [
  {
   "cell_type": "code",
   "execution_count": null,
   "id": "640054cf-a577-4483-9273-e1e1f8dc7798",
   "metadata": {},
   "outputs": [],
   "source": [
    "import datetime as dt\n",
    "\n",
    "import pandas as pd\n",
    "import numpy as np\n",
    "\n",
    "import matplotlib.pyplot as plt\n",
    "%matplotlib inline\n",
    "import seaborn as sns\n",
    "\n",
    "from recsys24_daos.utils import notebooks as nbutils\n",
    "import paths\n",
    "\n",
    "sns.set_theme(rc = {\n",
    "})\n",
    "sns.set_context(\"paper\")\n",
    "\n",
    "# Paper column width in inches\n",
    "PAPER_COL_WIDTH = 3.5\n",
    "\n",
    "original = plt.rcParamsDefault['figure.figsize']\n",
    "ratio = original[0] / original[1]\n",
    "print(f\"Original size: {original}, Ratio: {ratio}\")\n",
    "plt.rcParams['figure.figsize'] = (PAPER_COL_WIDTH, PAPER_COL_WIDTH/ratio)\n",
    "print(\"New size:\", plt.rcParams['figure.figsize'])\n",
    "\n",
    "# In acmart, 9pt is the default\n",
    "# And 7pt for \\footnotesize\n",
    "# plt.rcParams['font.size'] = 7,\n",
    "\n",
    "# The following are already relatively defined\n",
    "# plt.rcParams['xtick.labelsize'] = plt.rcParams['ytick.labelsize'] = plt.rcParams['axes.labelsize'] = plt.rcParams['font.size']"
   ]
  },
  {
   "cell_type": "code",
   "execution_count": null,
   "id": "c7f5ba70-4851-4988-bf55-e0f59bfac4fa",
   "metadata": {},
   "outputs": [],
   "source": [
    "ORG_NAME = 'Decentraland'"
   ]
  },
  {
   "cell_type": "code",
   "execution_count": null,
   "id": "1291b8e7-03c8-48ad-b732-9f66a9ef4ff3",
   "metadata": {},
   "outputs": [],
   "source": [
    "dfp = paths.load_proposals(ORG_NAME)\n",
    "dfv = paths.load_votes(ORG_NAME)\n",
    "\n",
    "print(dfp.info())\n",
    "print(dfv.info())"
   ]
  },
  {
   "cell_type": "markdown",
   "id": "68ea9409-3b8c-4dfe-9c5d-4e89db8fd928",
   "metadata": {},
   "source": [
    "## Proposals and time\n",
    "\n",
    "### How much time does each proposal take"
   ]
  },
  {
   "cell_type": "code",
   "execution_count": null,
   "id": "a3ac7db5-d190-4ac5-8504-76a5c3eea938",
   "metadata": {},
   "outputs": [],
   "source": [
    "# Original: Cell [5] at https://github.com/daviddavo/upm-tfm-notebooks/blob/bb2e45d4ec10962c987b6691fcb0cd4eeba7ea5b/10_baseline_mp.ipynb\n",
    "\n",
    "delta = dfp['end'] - dfp['start']\n",
    "delta.dt.days.hist(bins=14)\n",
    "print(vc := delta.value_counts())\n",
    "print(vc / len(delta))\n",
    "delta.describe()"
   ]
  },
  {
   "cell_type": "markdown",
   "id": "e97489b7-f833-402c-a33c-8024a9540a1a",
   "metadata": {
    "execution": {
     "iopub.execute_input": "2024-03-20T19:22:14.246302Z",
     "iopub.status.busy": "2024-03-20T19:22:14.245740Z",
     "iopub.status.idle": "2024-03-20T19:22:14.252344Z",
     "shell.execute_reply": "2024-03-20T19:22:14.251090Z",
     "shell.execute_reply.started": "2024-03-20T19:22:14.246252Z"
    }
   },
   "source": [
    "#### Avg. proposal length in time"
   ]
  },
  {
   "cell_type": "code",
   "execution_count": null,
   "id": "f619deb2-cf32-4e32-b125-c6d67b3acf87",
   "metadata": {},
   "outputs": [],
   "source": [
    "# Original: Cell [6] at https://github.com/daviddavo/upm-tfm-notebooks/blob/bb2e45d4ec10962c987b6691fcb0cd4eeba7ea5b/10_baseline_mp.ipynb\n",
    "ROLLING_LENGTH = '7d'\n",
    "\n",
    "_delta = dfp.assign(delta=delta).set_index('date').sort_index()['delta'].dt.days\n",
    "_delta.rolling(ROLLING_LENGTH).mean().plot()"
   ]
  },
  {
   "cell_type": "markdown",
   "id": "c481585c-8a02-4b48-b5c9-f9c0ed9e9c0c",
   "metadata": {},
   "source": [
    "## How many proposals are created per week"
   ]
  },
  {
   "cell_type": "code",
   "execution_count": null,
   "id": "b4559c9e-999a-45bc-bfe4-7997b5d71b76",
   "metadata": {},
   "outputs": [],
   "source": [
    "WINDOW_SIZE = dt.timedelta(days=7)\n",
    "\n",
    "_toplot = dfv.groupby('proposal')['date'].min().sort_values()\n",
    "_toplot = _toplot.to_frame()\n",
    "_toplot['cnt'] = 1\n",
    "_toplot = _toplot.rolling(window=WINDOW_SIZE, on='date').count()\n",
    "\n",
    "# Double the width of the figure\n",
    "fs = plt.gcf().get_size_inches()\n",
    "plt.figure(figsize=fs * (2,.6))\n",
    "# _toplot.set_index('date')['cnt'].plot()\n",
    "ax = sns.lineplot(_toplot.set_index('date')['cnt'])\n",
    "\n",
    "plt.xlabel('')\n",
    "plt.ylabel('# propuestas')\n",
    "plt.xlim(\n",
    "    _toplot['date'].min(),\n",
    "    _toplot['date'].max(),\n",
    ")\n",
    "\n",
    "sns.despine()"
   ]
  },
  {
   "cell_type": "markdown",
   "id": "e356b832-bd11-4913-af31-5c630af68511",
   "metadata": {},
   "source": [
    "## What day of the week are proposals created"
   ]
  },
  {
   "cell_type": "code",
   "execution_count": null,
   "id": "9c02d601-3d7a-4f7f-9c86-a6f85d4fe7ad",
   "metadata": {},
   "outputs": [],
   "source": [
    "# Original: Cell [7] at https://github.com/daviddavo/upm-tfm-notebooks/blob/bb2e45d4ec10962c987b6691fcb0cd4eeba7ea5b/10_baseline_mp.ipynb\n",
    "DAYS_OF_WEEK_ENG = ['Monday', 'Tuesday', 'Wednesday', 'Thursday', 'Friday', 'Saturday', 'Sunday']\n",
    "\n",
    "ax = sns.countplot(x=dfp['start'].dt.day_name(), order=DAYS_OF_WEEK_ENG)\n",
    "# ax.set_title(f'Número de propuestas por día de la semana en {ORG_NAME}')\n",
    "print(dfp['start'].dt.day_name().value_counts())\n",
    "ax.set_xlabel('')\n",
    "ax.set_ylabel('# proposals')\n",
    "ax.set_xticklabels(DAYS_OF_WEEK_ENG, rotation=30, ha='right')\n",
    "\n",
    "# Updates\n",
    "ax.set_ylabel('')\n",
    "\n",
    "nbutils.download_matplotlib(ax.figure, 'proposals_dow.pdf')"
   ]
  },
  {
   "cell_type": "markdown",
   "id": "38dc62ae-b8b7-451a-9ab2-18b211d89ec3",
   "metadata": {},
   "source": [
    "## What day of the week are proposals voted"
   ]
  },
  {
   "cell_type": "code",
   "execution_count": null,
   "id": "39967821-9f6e-4426-b896-e3898b27b334",
   "metadata": {},
   "outputs": [],
   "source": [
    "ax = sns.countplot(x=dfv['date'].dt.day_name(), order=DAYS_OF_WEEK_ENG)\n",
    "# ax.set_title(f'Número de propuestas por día de la semana en {ORG_NAME}')\n",
    "print(dfv['date'].dt.day_name().value_counts())\n",
    "ax.set_xlabel('')\n",
    "ax.set_ylabel('# votes')\n",
    "ax.set_xticklabels(DAYS_OF_WEEK_ENG, rotation=30, ha='right')\n",
    "\n",
    "# Updates\n",
    "ax.set_ylabel('')\n",
    "\n",
    "nbutils.download_matplotlib(ax.figure, \"votes_dow.pdf\")"
   ]
  },
  {
   "cell_type": "markdown",
   "id": "8ec0e029-2f9d-47a1-9b1a-d86e29bbe513",
   "metadata": {},
   "source": [
    "## In which moment of the proposal lifetime are votes cast"
   ]
  },
  {
   "cell_type": "code",
   "execution_count": null,
   "id": "75803459-86cf-42b8-bc4a-83e2e673a824",
   "metadata": {},
   "outputs": [],
   "source": [
    "from matplotlib import ticker\n",
    "\n",
    "PLOT_HUE = True\n",
    "\n",
    "_dfv = dfv[['proposal', 'date']].merge(dfp[['id', 'start', 'end']], left_on='proposal', right_on='id').sort_values('date')\n",
    "_dfv['date_rel'] = (_dfv['date'] - _dfv['start']) / (_dfv['end'] - _dfv['start'])\n",
    "_dfv['delta'] = (_dfv['end'] - _dfv['start']).astype(str)\n",
    "_dfv['time remaining'] = 1 - _dfv['date_rel']\n",
    "\n",
    "display(_dfv.groupby('delta')[['time remaining']].describe())\n",
    "\n",
    "for t in [1/7, 6/7]:\n",
    "    first_day = (_dfv['date_rel'] < t)\n",
    "    print(f\"{first_day.sum()} ({first_day.mean()*100:.2f}%) of the votes are being cast on the first {t*100:.2f}% of rel time\")\n",
    "    \n",
    "fg = sns.displot(_dfv, x='date_rel', kind='ecdf', hue='delta' if PLOT_HUE else None)\n",
    "# fg.ax.xaxis.set_major_locator(ticker.MultipleLocator(1/7))\n",
    "\n",
    "fg.ax.yaxis.set_major_locator(ticker.MultipleLocator(1/10))\n",
    "fg.ax.yaxis.set_major_formatter(ticker.PercentFormatter(1))\n",
    "fg.ax.set_xticks(np.arange(8)/7)\n",
    "fg.ax.set_xticklabels([\"0\"] + [f\"{x}/7\" for x in range(1,7)] + [\"1\"])\n",
    "fg.ax.set_xlabel('Relative time elapsed');\n",
    "\n",
    "nbutils.download_matplotlib(fg, f\"votes_in_time{'-color' if PLOT_HUE else ''}.pdf\")"
   ]
  },
  {
   "cell_type": "markdown",
   "id": "729479f0-153b-46ee-a4ac-fcf6a2902dbb",
   "metadata": {},
   "source": [
    "## Histograms"
   ]
  },
  {
   "cell_type": "markdown",
   "id": "b700fb01",
   "metadata": {},
   "source": [
    "### Votes per user"
   ]
  },
  {
   "cell_type": "code",
   "execution_count": null,
   "id": "58c8912e",
   "metadata": {},
   "outputs": [],
   "source": [
    "_toplot = dfv.groupby('voter').size()\n",
    "# _toplot = _toplot[_toplot < 40]\n",
    "print(_toplot.describe(percentiles=[.1, .15, .5, .9, .95, .99]))\n",
    "# _toplot.plot.hist(log=True)\n",
    "ax = sns.ecdfplot(_toplot, log_scale=True)\n",
    "plt.xlabel('# votes')\n",
    "plt.ylabel('% voters')\n",
    "\n",
    "_times_voted = [10, 100]\n",
    "for t in _times_voted:\n",
    "    _nusers = (_toplot > t).sum()\n",
    "    print(f\"{_nusers} voters ({_nusers/len(_toplot)*100:.2f}%) have voted more than {t} times\")\n",
    "\n",
    "ax.set_xticks([1, 5, 10, 50, 100, 500, 1000])\n",
    "# ax.xaxis.set_major_locator(mtick.MultipleLocator(10))\n",
    "ax.yaxis.set_major_formatter(ticker.PercentFormatter(1))\n",
    "\n",
    "# Updates by Javi\n",
    "plt.xlabel(\"\")\n",
    "plt.ylabel(\"\")\n",
    "\n",
    "nbutils.download_matplotlib(ax.figure, \"ecdf-vpv.pdf\")"
   ]
  },
  {
   "cell_type": "markdown",
   "id": "d11514db",
   "metadata": {},
   "source": [
    "### Votes per proposal"
   ]
  },
  {
   "cell_type": "code",
   "execution_count": null,
   "id": "66dba836",
   "metadata": {},
   "outputs": [],
   "source": [
    "_toplot = dfv.groupby('proposal').size()\n",
    "print(_toplot.describe(percentiles=[.1, .15, .20, .25, .5,.75,.9, .95, .99]))\n",
    "\n",
    "print(\"Total votes:\", _toplot.sum())\n",
    "_times_voted = [10, 72, 73, 100]\n",
    "for t in _times_voted:\n",
    "    _nprops = (_toplot > t).sum()\n",
    "    print(f\"{_nprops} proposals ({_nprops/len(_toplot)*100:.2f}%) have more than {t} votes\")\n",
    "\n",
    "ax = sns.ecdfplot(_toplot, log_scale=True)\n",
    "ax.set_xticks([1, 5, 10, 50, 100, 500, 1000])\n",
    "ax.yaxis.set_major_formatter(ticker.PercentFormatter(1))\n",
    "\n",
    "plt.xlabel('# votes')\n",
    "plt.ylabel('% proposals')\n",
    "\n",
    "# Updates by Javi\n",
    "plt.xlabel(\"\")\n",
    "plt.ylabel(\"\")\n",
    "\n",
    "nbutils.download_matplotlib(ax.figure, \"ecdf-vpp.pdf\")"
   ]
  }
 ],
 "metadata": {
  "kernelspec": {
   "display_name": "Python 3 (ipykernel)",
   "language": "python",
   "name": "python3"
  },
  "language_info": {
   "codemirror_mode": {
    "name": "ipython",
    "version": 3
   },
   "file_extension": ".py",
   "mimetype": "text/x-python",
   "name": "python",
   "nbconvert_exporter": "python",
   "pygments_lexer": "ipython3",
   "version": "3.11.6"
  },
  "widgets": {
   "application/vnd.jupyter.widget-state+json": {
    "state": {
     "0197b7a1d21747b8b307b386e0dda1f6": {
      "model_module": "jupyter-vuetify",
      "model_module_version": "^1.8.5",
      "model_name": "ColModel",
      "state": {
       "_events": [],
       "_jupyter_vue": "IPY_MODEL_9894060b42e04eebb57c73bf6b269b0a",
       "attributes": {},
       "children": [
        "IPY_MODEL_8af5f14729e04ff5bdde2607c8573661"
       ],
       "cols": 12,
       "layout": null,
       "lg": null,
       "md": null,
       "offset": null,
       "offset_lg": null,
       "offset_md": null,
       "offset_sm": null,
       "offset_xl": null,
       "order": null,
       "order_lg": null,
       "order_md": null,
       "order_sm": null,
       "order_xl": null,
       "sm": null,
       "v_slots": [],
       "xl": null
      }
     },
     "01ba9285eb7e4f81b9dd3cdb8842f06d": {
      "model_module": "@jupyter-widgets/base",
      "model_module_version": "2.0.0",
      "model_name": "LayoutModel",
      "state": {}
     },
     "02b1174dadca43eb829a5c476c5f63de": {
      "model_module": "jupyter-vuetify",
      "model_module_version": "^1.9.4",
      "model_name": "HtmlModel",
      "state": {
       "_events": [],
       "_jupyter_vue": "IPY_MODEL_9894060b42e04eebb57c73bf6b269b0a",
       "_model_module_version": "^1.9.4",
       "_view_module_version": "^1.9.4",
       "attributes": {},
       "children": [
        "IPY_MODEL_3e5d06f727944318937e6960609205a9"
       ],
       "layout": null,
       "tag": "div",
       "v_slots": []
      }
     },
     "04ccc8d2135842d8bfeb19d5fd26b875": {
      "model_module": "@jupyter-widgets/base",
      "model_module_version": "2.0.0",
      "model_name": "LayoutModel",
      "state": {}
     },
     "08772523ae7a419883f25da4bc166126": {
      "model_module": "@jupyter-widgets/controls",
      "model_module_version": "2.0.0",
      "model_name": "VBoxModel",
      "state": {
       "_view_count": 1,
       "children": [
        "IPY_MODEL_02b1174dadca43eb829a5c476c5f63de"
       ],
       "layout": "IPY_MODEL_2e274ce5817f4629be371dc7f17ff284"
      }
     },
     "0f4f205eead145039ed880f592aad491": {
      "model_module": "jupyter-vuetify",
      "model_module_version": "^1.8.5",
      "model_name": "ColModel",
      "state": {
       "_events": [],
       "_jupyter_vue": "IPY_MODEL_9894060b42e04eebb57c73bf6b269b0a",
       "attributes": {},
       "children": [
        "IPY_MODEL_33733810541c4ac0abba7a8f07f37b3b"
       ],
       "cols": 12,
       "layout": null,
       "lg": null,
       "md": null,
       "offset": null,
       "offset_lg": null,
       "offset_md": null,
       "offset_sm": null,
       "offset_xl": null,
       "order": null,
       "order_lg": null,
       "order_md": null,
       "order_sm": null,
       "order_xl": null,
       "sm": null,
       "v_slots": [],
       "xl": null
      }
     },
     "1233c015f1694890994eea00cc4df729": {
      "model_module": "jupyter-vuetify",
      "model_module_version": "^1.8.5",
      "model_name": "BtnModel",
      "state": {
       "_events": [
        "click"
       ],
       "_jupyter_vue": "IPY_MODEL_9894060b42e04eebb57c73bf6b269b0a",
       "attributes": {},
       "children": [
        "IPY_MODEL_124478a9ef854dbe843fae76affc9de6",
        "Download: votes_dow.pdf"
       ],
       "class_": "",
       "disabled": false,
       "elevation": null,
       "height": null,
       "href": null,
       "layout": null,
       "loading": false,
       "max_height": null,
       "max_width": null,
       "min_height": null,
       "min_width": null,
       "outlined": false,
       "ripple": null,
       "style_": "",
       "text": false,
       "to": null,
       "v_slots": [],
       "width": null
      }
     },
     "124478a9ef854dbe843fae76affc9de6": {
      "model_module": "jupyter-vuetify",
      "model_module_version": "^1.8.5",
      "model_name": "IconModel",
      "state": {
       "_events": [],
       "_jupyter_vue": "IPY_MODEL_9894060b42e04eebb57c73bf6b269b0a",
       "attributes": {},
       "children": [
        "mdi-cloud-download-outline"
       ],
       "layout": null,
       "left": true,
       "size": null,
       "v_slots": []
      }
     },
     "1bd1c42ec1a84f16926685f876b9fd60": {
      "model_module": "jupyter-vuetify",
      "model_module_version": "^1.9.4",
      "model_name": "HtmlModel",
      "state": {
       "_events": [],
       "_jupyter_vue": "IPY_MODEL_9894060b42e04eebb57c73bf6b269b0a",
       "_model_module_version": "^1.9.4",
       "_view_module_version": "^1.9.4",
       "attributes": {},
       "children": [
        "IPY_MODEL_d00143b721c74f358e10165105e9982f"
       ],
       "layout": null,
       "tag": "div",
       "v_slots": []
      }
     },
     "2e274ce5817f4629be371dc7f17ff284": {
      "model_module": "@jupyter-widgets/base",
      "model_module_version": "2.0.0",
      "model_name": "LayoutModel",
      "state": {}
     },
     "3052762094ff4b60a5fea8dd42e7cef9": {
      "model_module": "@jupyter-widgets/base",
      "model_module_version": "2.0.0",
      "model_name": "LayoutModel",
      "state": {}
     },
     "33733810541c4ac0abba7a8f07f37b3b": {
      "model_module": "jupyter-vuetify",
      "model_module_version": "^1.9.4",
      "model_name": "VuetifyTemplateModel",
      "state": {
       "_component_instances": [],
       "_jupyter_vue": "IPY_MODEL_9894060b42e04eebb57c73bf6b269b0a",
       "_model_module_version": "^1.9.4",
       "_view_module_version": "^1.9.4",
       "bytes": null,
       "children": [
        "IPY_MODEL_593e643bc5be47e4ada9b10fa82d8b02"
       ],
       "components": null,
       "events": [],
       "filename": "ecdf-vpp.pdf",
       "layout": "IPY_MODEL_01ba9285eb7e4f81b9dd3cdb8842f06d",
       "mime_type": "application/octet-stream",
       "request_download": false,
       "template": "IPY_MODEL_fa5617a97f8f4a54b7c85e6ca7fdbf77"
      }
     },
     "3e5d06f727944318937e6960609205a9": {
      "model_module": "jupyter-vuetify",
      "model_module_version": "^1.8.5",
      "model_name": "RowModel",
      "state": {
       "_events": [],
       "_jupyter_vue": "IPY_MODEL_9894060b42e04eebb57c73bf6b269b0a",
       "attributes": {},
       "children": [
        "IPY_MODEL_b590f875b17b47569c51ae682865f23f"
       ],
       "class_": "solara-content-main",
       "layout": null,
       "no_gutters": false,
       "v_slots": []
      }
     },
     "4f09627e14864b8abe99b7a391477c2b": {
      "model_module": "@jupyter-widgets/controls",
      "model_module_version": "2.0.0",
      "model_name": "VBoxModel",
      "state": {
       "_view_count": 1,
       "children": [
        "IPY_MODEL_7072b72243c74eeebe13c1950b9bfdeb"
       ],
       "layout": "IPY_MODEL_5d7c0423b09d476cb1a185e5c2b14fab"
      }
     },
     "519a10d1ed23430980ddb0d395b560b8": {
      "model_module": "@jupyter-widgets/base",
      "model_module_version": "2.0.0",
      "model_name": "LayoutModel",
      "state": {}
     },
     "54d7188f98f045ec83eee418025bf6a2": {
      "model_module": "jupyter-vuetify",
      "model_module_version": "^1.9.4",
      "model_name": "HtmlModel",
      "state": {
       "_events": [],
       "_jupyter_vue": "IPY_MODEL_9894060b42e04eebb57c73bf6b269b0a",
       "_model_module_version": "^1.9.4",
       "_view_module_version": "^1.9.4",
       "attributes": {},
       "children": [
        "IPY_MODEL_f632d3b20efb4c158813321ad5d22e2a"
       ],
       "layout": null,
       "tag": "div",
       "v_slots": []
      }
     },
     "5622f59083bb466180a41ac88cbcdd0e": {
      "model_module": "jupyter-vuetify",
      "model_module_version": "^1.8.5",
      "model_name": "IconModel",
      "state": {
       "_events": [],
       "_jupyter_vue": "IPY_MODEL_9894060b42e04eebb57c73bf6b269b0a",
       "attributes": {},
       "children": [
        "mdi-cloud-download-outline"
       ],
       "layout": null,
       "left": true,
       "size": null,
       "v_slots": []
      }
     },
     "593e643bc5be47e4ada9b10fa82d8b02": {
      "model_module": "jupyter-vuetify",
      "model_module_version": "^1.8.5",
      "model_name": "BtnModel",
      "state": {
       "_events": [
        "click"
       ],
       "_jupyter_vue": "IPY_MODEL_9894060b42e04eebb57c73bf6b269b0a",
       "attributes": {},
       "children": [
        "IPY_MODEL_770a6b8414744885b2a9dc2a22139198",
        "Download: ecdf-vpp.pdf"
       ],
       "class_": "",
       "disabled": false,
       "elevation": null,
       "height": null,
       "href": null,
       "layout": null,
       "loading": false,
       "max_height": null,
       "max_width": null,
       "min_height": null,
       "min_width": null,
       "outlined": false,
       "ripple": null,
       "style_": "",
       "text": false,
       "to": null,
       "v_slots": [],
       "width": null
      }
     },
     "596ccb0bb00446ce83227abe818494cb": {
      "model_module": "jupyter-vuetify",
      "model_module_version": "^1.9.4",
      "model_name": "ThemeModel",
      "state": {
       "_model_module_version": "^1.9.4",
       "_view_module": null,
       "_view_module_version": "^1.9.4",
       "dark_effective": false
      }
     },
     "5ce25ac5910b41c8b9ddf9f4a4e840db": {
      "model_module": "jupyter-vuetify",
      "model_module_version": "^1.9.4",
      "model_name": "VuetifyTemplateModel",
      "state": {
       "_component_instances": [],
       "_jupyter_vue": "IPY_MODEL_9894060b42e04eebb57c73bf6b269b0a",
       "_model_module_version": "^1.9.4",
       "_view_module_version": "^1.9.4",
       "bytes": null,
       "children": [
        "IPY_MODEL_1233c015f1694890994eea00cc4df729"
       ],
       "components": null,
       "events": [],
       "filename": "votes_dow.pdf",
       "layout": "IPY_MODEL_ec4b26e8fce7427bbc685de5520da065",
       "mime_type": "application/octet-stream",
       "request_download": false,
       "template": "IPY_MODEL_fa5617a97f8f4a54b7c85e6ca7fdbf77"
      }
     },
     "5d56360f328e453796a43074c952455f": {
      "model_module": "@jupyter-widgets/controls",
      "model_module_version": "2.0.0",
      "model_name": "VBoxModel",
      "state": {
       "_view_count": 1,
       "children": [
        "IPY_MODEL_fab2407e2e5b4b79a075179de7690b43"
       ],
       "layout": "IPY_MODEL_519a10d1ed23430980ddb0d395b560b8"
      }
     },
     "5d7c0423b09d476cb1a185e5c2b14fab": {
      "model_module": "@jupyter-widgets/base",
      "model_module_version": "2.0.0",
      "model_name": "LayoutModel",
      "state": {}
     },
     "5e3ec3764eef4ddeaea49bd3b5694f44": {
      "model_module": "jupyter-vuetify",
      "model_module_version": "^1.8.5",
      "model_name": "ColModel",
      "state": {
       "_events": [],
       "_jupyter_vue": "IPY_MODEL_9894060b42e04eebb57c73bf6b269b0a",
       "attributes": {},
       "children": [
        "IPY_MODEL_e665c74ca5c849c79401dee622be6ae6"
       ],
       "cols": 12,
       "layout": null,
       "lg": null,
       "md": null,
       "offset": null,
       "offset_lg": null,
       "offset_md": null,
       "offset_sm": null,
       "offset_xl": null,
       "order": null,
       "order_lg": null,
       "order_md": null,
       "order_sm": null,
       "order_xl": null,
       "sm": null,
       "v_slots": [],
       "xl": null
      }
     },
     "7072b72243c74eeebe13c1950b9bfdeb": {
      "model_module": "jupyter-vuetify",
      "model_module_version": "^1.9.4",
      "model_name": "HtmlModel",
      "state": {
       "_events": [],
       "_jupyter_vue": "IPY_MODEL_9894060b42e04eebb57c73bf6b269b0a",
       "_model_module_version": "^1.9.4",
       "_view_module_version": "^1.9.4",
       "attributes": {},
       "children": [
        "IPY_MODEL_c8221b804ae047219815a2f2107893ba"
       ],
       "layout": null,
       "tag": "div",
       "v_slots": []
      }
     },
     "760654cf641841148d581eef6e12f810": {
      "model_module": "@jupyter-widgets/base",
      "model_module_version": "2.0.0",
      "model_name": "LayoutModel",
      "state": {}
     },
     "770a6b8414744885b2a9dc2a22139198": {
      "model_module": "jupyter-vuetify",
      "model_module_version": "^1.8.5",
      "model_name": "IconModel",
      "state": {
       "_events": [],
       "_jupyter_vue": "IPY_MODEL_9894060b42e04eebb57c73bf6b269b0a",
       "attributes": {},
       "children": [
        "mdi-cloud-download-outline"
       ],
       "layout": null,
       "left": true,
       "size": null,
       "v_slots": []
      }
     },
     "847937d774a640219a739d48ee08201d": {
      "model_module": "jupyter-vuetify",
      "model_module_version": "^1.8.5",
      "model_name": "RowModel",
      "state": {
       "_events": [],
       "_jupyter_vue": "IPY_MODEL_9894060b42e04eebb57c73bf6b269b0a",
       "attributes": {},
       "children": [
        "IPY_MODEL_5e3ec3764eef4ddeaea49bd3b5694f44"
       ],
       "class_": "solara-content-main",
       "layout": null,
       "no_gutters": false,
       "v_slots": []
      }
     },
     "84fc29a56ec1477cad1654cd33271c4a": {
      "model_module": "jupyter-vuetify",
      "model_module_version": "^1.9.4",
      "model_name": "ThemeColorsModel",
      "state": {
       "_model_module_version": "^1.9.4",
       "_theme_name": "dark",
       "_view_module": null,
       "_view_module_version": "^1.9.4",
       "accent": "#FF4081",
       "error": "#FF5252",
       "info": "#2196F3",
       "primary": "#2196F3",
       "secondary": "#424242",
       "success": "#4CAF50",
       "warning": "#FB8C00"
      }
     },
     "8af5f14729e04ff5bdde2607c8573661": {
      "model_module": "jupyter-vuetify",
      "model_module_version": "^1.9.4",
      "model_name": "VuetifyTemplateModel",
      "state": {
       "_component_instances": [],
       "_jupyter_vue": "IPY_MODEL_9894060b42e04eebb57c73bf6b269b0a",
       "_model_module_version": "^1.9.4",
       "_view_module_version": "^1.9.4",
       "bytes": null,
       "children": [
        "IPY_MODEL_979e9d585b4d4c9cbf98e7e7d56839b4"
       ],
       "components": null,
       "events": [],
       "filename": "ecdf-vpv.pdf",
       "layout": "IPY_MODEL_04ccc8d2135842d8bfeb19d5fd26b875",
       "mime_type": "application/octet-stream",
       "request_download": false,
       "template": "IPY_MODEL_fa5617a97f8f4a54b7c85e6ca7fdbf77"
      }
     },
     "8e52c6bbd51e4ac1bda16cf5ee9d12c5": {
      "model_module": "jupyter-vuetify",
      "model_module_version": "^1.8.5",
      "model_name": "IconModel",
      "state": {
       "_events": [],
       "_jupyter_vue": "IPY_MODEL_9894060b42e04eebb57c73bf6b269b0a",
       "attributes": {},
       "children": [
        "mdi-cloud-download-outline"
       ],
       "layout": null,
       "left": true,
       "size": null,
       "v_slots": []
      }
     },
     "8fb4082081c94fee9894a6120448ccde": {
      "model_module": "@jupyter-widgets/base",
      "model_module_version": "2.0.0",
      "model_name": "LayoutModel",
      "state": {}
     },
     "952f7f1fd23e4353817473b539bed301": {
      "model_module": "jupyter-vuetify",
      "model_module_version": "^1.8.5",
      "model_name": "ColModel",
      "state": {
       "_events": [],
       "_jupyter_vue": "IPY_MODEL_9894060b42e04eebb57c73bf6b269b0a",
       "attributes": {},
       "children": [
        "IPY_MODEL_a9af1886359d4b6a98db879e07b1b289"
       ],
       "cols": 12,
       "layout": null,
       "lg": null,
       "md": null,
       "offset": null,
       "offset_lg": null,
       "offset_md": null,
       "offset_sm": null,
       "offset_xl": null,
       "order": null,
       "order_lg": null,
       "order_md": null,
       "order_sm": null,
       "order_xl": null,
       "sm": null,
       "v_slots": [],
       "xl": null
      }
     },
     "979e9d585b4d4c9cbf98e7e7d56839b4": {
      "model_module": "jupyter-vuetify",
      "model_module_version": "^1.8.5",
      "model_name": "BtnModel",
      "state": {
       "_events": [
        "click"
       ],
       "_jupyter_vue": "IPY_MODEL_9894060b42e04eebb57c73bf6b269b0a",
       "attributes": {},
       "children": [
        "IPY_MODEL_8e52c6bbd51e4ac1bda16cf5ee9d12c5",
        "Download: ecdf-vpv.pdf"
       ],
       "class_": "",
       "disabled": false,
       "elevation": null,
       "height": null,
       "href": null,
       "layout": null,
       "loading": false,
       "max_height": null,
       "max_width": null,
       "min_height": null,
       "min_width": null,
       "outlined": false,
       "ripple": null,
       "style_": "",
       "text": false,
       "to": null,
       "v_slots": [],
       "width": null
      }
     },
     "9894060b42e04eebb57c73bf6b269b0a": {
      "model_module": "jupyter-vue",
      "model_module_version": "^1.11.1",
      "model_name": "ForceLoadModel",
      "state": {
       "_model_module_version": "^1.11.1",
       "_view_module": null,
       "_view_module_version": "",
       "layout": "IPY_MODEL_d00324de42c74e28a54d7eaa56a90825"
      }
     },
     "9a3380773b2645608a23b3ee662bc6ab": {
      "model_module": "@jupyter-widgets/controls",
      "model_module_version": "2.0.0",
      "model_name": "VBoxModel",
      "state": {
       "_view_count": 1,
       "children": [
        "IPY_MODEL_1bd1c42ec1a84f16926685f876b9fd60"
       ],
       "layout": "IPY_MODEL_3052762094ff4b60a5fea8dd42e7cef9"
      }
     },
     "a9af1886359d4b6a98db879e07b1b289": {
      "model_module": "jupyter-vuetify",
      "model_module_version": "^1.9.4",
      "model_name": "VuetifyTemplateModel",
      "state": {
       "_component_instances": [],
       "_jupyter_vue": "IPY_MODEL_9894060b42e04eebb57c73bf6b269b0a",
       "_model_module_version": "^1.9.4",
       "_view_module_version": "^1.9.4",
       "bytes": null,
       "children": [
        "IPY_MODEL_f3cc20fee7fd4f1887af63d7dd167b13"
       ],
       "components": null,
       "events": [],
       "filename": "proposals_dow.pdf",
       "layout": "IPY_MODEL_d483b213afb54737bf1321b2f83c0252",
       "mime_type": "application/octet-stream",
       "request_download": false,
       "template": "IPY_MODEL_fa5617a97f8f4a54b7c85e6ca7fdbf77"
      }
     },
     "b590f875b17b47569c51ae682865f23f": {
      "model_module": "jupyter-vuetify",
      "model_module_version": "^1.8.5",
      "model_name": "ColModel",
      "state": {
       "_events": [],
       "_jupyter_vue": "IPY_MODEL_9894060b42e04eebb57c73bf6b269b0a",
       "attributes": {},
       "children": [
        "IPY_MODEL_5ce25ac5910b41c8b9ddf9f4a4e840db"
       ],
       "cols": 12,
       "layout": null,
       "lg": null,
       "md": null,
       "offset": null,
       "offset_lg": null,
       "offset_md": null,
       "offset_sm": null,
       "offset_xl": null,
       "order": null,
       "order_lg": null,
       "order_md": null,
       "order_sm": null,
       "order_xl": null,
       "sm": null,
       "v_slots": [],
       "xl": null
      }
     },
     "bfdc7d776b0f4d98b1986c6fd3026edd": {
      "model_module": "jupyter-vuetify",
      "model_module_version": "^1.8.5",
      "model_name": "IconModel",
      "state": {
       "_events": [],
       "_jupyter_vue": "IPY_MODEL_9894060b42e04eebb57c73bf6b269b0a",
       "attributes": {},
       "children": [
        "mdi-cloud-download-outline"
       ],
       "layout": null,
       "left": true,
       "size": null,
       "v_slots": []
      }
     },
     "c8221b804ae047219815a2f2107893ba": {
      "model_module": "jupyter-vuetify",
      "model_module_version": "^1.8.5",
      "model_name": "RowModel",
      "state": {
       "_events": [],
       "_jupyter_vue": "IPY_MODEL_9894060b42e04eebb57c73bf6b269b0a",
       "attributes": {},
       "children": [
        "IPY_MODEL_0197b7a1d21747b8b307b386e0dda1f6"
       ],
       "class_": "solara-content-main",
       "layout": null,
       "no_gutters": false,
       "v_slots": []
      }
     },
     "d00143b721c74f358e10165105e9982f": {
      "model_module": "jupyter-vuetify",
      "model_module_version": "^1.8.5",
      "model_name": "RowModel",
      "state": {
       "_events": [],
       "_jupyter_vue": "IPY_MODEL_9894060b42e04eebb57c73bf6b269b0a",
       "attributes": {},
       "children": [
        "IPY_MODEL_952f7f1fd23e4353817473b539bed301"
       ],
       "class_": "solara-content-main",
       "layout": null,
       "no_gutters": false,
       "v_slots": []
      }
     },
     "d00324de42c74e28a54d7eaa56a90825": {
      "model_module": "@jupyter-widgets/base",
      "model_module_version": "2.0.0",
      "model_name": "LayoutModel",
      "state": {}
     },
     "d1aa085c2b58494687656442337dd9a2": {
      "model_module": "@jupyter-widgets/controls",
      "model_module_version": "2.0.0",
      "model_name": "VBoxModel",
      "state": {
       "_view_count": 1,
       "children": [
        "IPY_MODEL_54d7188f98f045ec83eee418025bf6a2"
       ],
       "layout": "IPY_MODEL_760654cf641841148d581eef6e12f810"
      }
     },
     "d483b213afb54737bf1321b2f83c0252": {
      "model_module": "@jupyter-widgets/base",
      "model_module_version": "2.0.0",
      "model_name": "LayoutModel",
      "state": {}
     },
     "e142d431e0b14e769be0152b7eaba86e": {
      "model_module": "jupyter-vuetify",
      "model_module_version": "^1.9.4",
      "model_name": "ThemeColorsModel",
      "state": {
       "_model_module_version": "^1.9.4",
       "_theme_name": "light",
       "_view_module": null,
       "_view_module_version": "^1.9.4",
       "accent": "#82B1FF",
       "error": "#FF5252",
       "info": "#2196F3",
       "primary": "#1976D2",
       "secondary": "#424242",
       "success": "#4CAF50",
       "warning": "#FB8C00"
      }
     },
     "e665c74ca5c849c79401dee622be6ae6": {
      "model_module": "jupyter-vuetify",
      "model_module_version": "^1.9.4",
      "model_name": "VuetifyTemplateModel",
      "state": {
       "_component_instances": [],
       "_jupyter_vue": "IPY_MODEL_9894060b42e04eebb57c73bf6b269b0a",
       "_model_module_version": "^1.9.4",
       "_view_module_version": "^1.9.4",
       "bytes": null,
       "children": [
        "IPY_MODEL_f10a753108874099b7b511535be1abb0"
       ],
       "components": null,
       "events": [],
       "filename": "votes_in_time-color.pdf",
       "layout": "IPY_MODEL_8fb4082081c94fee9894a6120448ccde",
       "mime_type": "application/octet-stream",
       "request_download": false,
       "template": "IPY_MODEL_fa5617a97f8f4a54b7c85e6ca7fdbf77"
      }
     },
     "ec4b26e8fce7427bbc685de5520da065": {
      "model_module": "@jupyter-widgets/base",
      "model_module_version": "2.0.0",
      "model_name": "LayoutModel",
      "state": {}
     },
     "f10a753108874099b7b511535be1abb0": {
      "model_module": "jupyter-vuetify",
      "model_module_version": "^1.8.5",
      "model_name": "BtnModel",
      "state": {
       "_events": [
        "click"
       ],
       "_jupyter_vue": "IPY_MODEL_9894060b42e04eebb57c73bf6b269b0a",
       "attributes": {},
       "children": [
        "IPY_MODEL_bfdc7d776b0f4d98b1986c6fd3026edd",
        "Download: votes_in_time-color.pdf"
       ],
       "class_": "",
       "disabled": false,
       "elevation": null,
       "height": null,
       "href": null,
       "layout": null,
       "loading": false,
       "max_height": null,
       "max_width": null,
       "min_height": null,
       "min_width": null,
       "outlined": false,
       "ripple": null,
       "style_": "",
       "text": false,
       "to": null,
       "v_slots": [],
       "width": null
      }
     },
     "f3cc20fee7fd4f1887af63d7dd167b13": {
      "model_module": "jupyter-vuetify",
      "model_module_version": "^1.8.5",
      "model_name": "BtnModel",
      "state": {
       "_events": [
        "click"
       ],
       "_jupyter_vue": "IPY_MODEL_9894060b42e04eebb57c73bf6b269b0a",
       "attributes": {},
       "children": [
        "IPY_MODEL_5622f59083bb466180a41ac88cbcdd0e",
        "Download: proposals_dow.pdf"
       ],
       "class_": "",
       "disabled": false,
       "elevation": null,
       "height": null,
       "href": null,
       "layout": null,
       "loading": false,
       "max_height": null,
       "max_width": null,
       "min_height": null,
       "min_width": null,
       "outlined": false,
       "ripple": null,
       "style_": "",
       "text": false,
       "to": null,
       "v_slots": [],
       "width": null
      }
     },
     "f632d3b20efb4c158813321ad5d22e2a": {
      "model_module": "jupyter-vuetify",
      "model_module_version": "^1.8.5",
      "model_name": "RowModel",
      "state": {
       "_events": [],
       "_jupyter_vue": "IPY_MODEL_9894060b42e04eebb57c73bf6b269b0a",
       "attributes": {},
       "children": [
        "IPY_MODEL_0f4f205eead145039ed880f592aad491"
       ],
       "class_": "solara-content-main",
       "layout": null,
       "no_gutters": false,
       "v_slots": []
      }
     },
     "fa5617a97f8f4a54b7c85e6ca7fdbf77": {
      "model_module": "jupyter-vue",
      "model_module_version": "^1.11.1",
      "model_name": "TemplateModel",
      "state": {
       "_model_module": "jupyter-vue",
       "_model_module_version": "^1.11.1",
       "_view_module": null,
       "_view_module_version": "",
       "template": "<template>\n    <div @click=\"request_download = true\" class=\"solara-file-download-container\">\n        <jupyter-widget v-for=\"child in children\" :key=\"child\" :widget=\"child\"></jupyter-widget>\n    </div>\n</template>\n\n<script>\nmodule.exports = {\n    watch: {\n        bytes(value) {\n            if (this.request_download) {\n                const a = document.createElement('a');\n                a.download = this.filename;\n                const blob = new Blob([this.bytes], { type: this.mime_type });\n                const blobUrl = window.URL.createObjectURL(blob);\n                a.href = blobUrl;\n                document.body.appendChild(a);\n                a.click();\n                document.body.removeChild(a);\n                setTimeout(() => {\n                    // Make sure we clean up\n                    window.URL.revokeObjectURL(blobUrl);\n                }, 1000);\n                this.request_download = false;\n            }\n        }\n    }\n}\n</script>\n\n<style id=\"solara-file-download\">\n.solara-file-download-container {\n    cursor: pointer;\n}\n</style>\n"
      }
     },
     "fab2407e2e5b4b79a075179de7690b43": {
      "model_module": "jupyter-vuetify",
      "model_module_version": "^1.9.4",
      "model_name": "HtmlModel",
      "state": {
       "_events": [],
       "_jupyter_vue": "IPY_MODEL_9894060b42e04eebb57c73bf6b269b0a",
       "_model_module_version": "^1.9.4",
       "_view_module_version": "^1.9.4",
       "attributes": {},
       "children": [
        "IPY_MODEL_847937d774a640219a739d48ee08201d"
       ],
       "layout": null,
       "tag": "div",
       "v_slots": []
      }
     }
    },
    "version_major": 2,
    "version_minor": 0
   }
  }
 },
 "nbformat": 4,
 "nbformat_minor": 5
}
