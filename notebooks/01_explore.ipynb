{
 "cells": [
  {
   "cell_type": "code",
   "execution_count": null,
   "id": "640054cf-a577-4483-9273-e1e1f8dc7798",
   "metadata": {},
   "outputs": [],
   "source": [
    "import datetime as dt\n",
    "\n",
    "import pandas as pd\n",
    "import numpy as np\n",
    "\n",
    "import matplotlib.pyplot as plt\n",
    "%matplotlib inline\n",
    "import seaborn as sns\n",
    "\n",
    "from recsys24_daos.utils import notebooks as nbutils\n",
    "\n",
    "sns.set_theme(rc = {\n",
    "})\n",
    "sns.set_context(\"paper\")\n",
    "\n",
    "# Paper column width in inches\n",
    "PAPER_COL_WIDTH = 3.5\n",
    "\n",
    "original = plt.rcParamsDefault['figure.figsize']\n",
    "ratio = original[0] / original[1]\n",
    "print(f\"Original size: {original}, Ratio: {ratio}\")\n",
    "plt.rcParams['figure.figsize'] = (PAPER_COL_WIDTH, PAPER_COL_WIDTH/ratio)\n",
    "print(\"New size:\", plt.rcParams['figure.figsize'])\n",
    "\n",
    "# In acmart, 9pt is the default\n",
    "# And 7pt for \\footnotesize\n",
    "# plt.rcParams['font.size'] = 7,\n",
    "\n",
    "# The following are already relatively defined\n",
    "# plt.rcParams['xtick.labelsize'] = plt.rcParams['ytick.labelsize'] = plt.rcParams['axes.labelsize'] = plt.rcParams['font.size']"
   ]
  },
  {
   "cell_type": "code",
   "execution_count": null,
   "id": "1291b8e7-03c8-48ad-b732-9f66a9ef4ff3",
   "metadata": {},
   "outputs": [],
   "source": [
    "dfp = pd.read_csv(\"../data/decentraland/proposals.csv\", parse_dates=['date', 'start', 'end'])\n",
    "dfv = pd.read_csv(\"../data/decentraland/votes.csv\", parse_dates=['date'])\n",
    "\n",
    "print(dfp.info())\n",
    "print(dfv.info())"
   ]
  },
  {
   "cell_type": "markdown",
   "id": "68ea9409-3b8c-4dfe-9c5d-4e89db8fd928",
   "metadata": {},
   "source": [
    "## Proposals and time\n",
    "\n",
    "### How much time does each proposal take"
   ]
  },
  {
   "cell_type": "code",
   "execution_count": null,
   "id": "a3ac7db5-d190-4ac5-8504-76a5c3eea938",
   "metadata": {},
   "outputs": [],
   "source": [
    "# Original: Cell [5] at https://github.com/daviddavo/upm-tfm-notebooks/blob/bb2e45d4ec10962c987b6691fcb0cd4eeba7ea5b/10_baseline_mp.ipynb\n",
    "\n",
    "delta = dfp['end'] - dfp['start']\n",
    "delta.dt.days.hist(bins=14)\n",
    "print(vc := delta.value_counts())\n",
    "print(vc / len(delta))\n",
    "delta.describe()"
   ]
  },
  {
   "cell_type": "markdown",
   "id": "e97489b7-f833-402c-a33c-8024a9540a1a",
   "metadata": {
    "execution": {
     "iopub.execute_input": "2024-03-20T19:22:14.246302Z",
     "iopub.status.busy": "2024-03-20T19:22:14.245740Z",
     "iopub.status.idle": "2024-03-20T19:22:14.252344Z",
     "shell.execute_reply": "2024-03-20T19:22:14.251090Z",
     "shell.execute_reply.started": "2024-03-20T19:22:14.246252Z"
    }
   },
   "source": [
    "#### Avg. proposal length in time"
   ]
  },
  {
   "cell_type": "code",
   "execution_count": null,
   "id": "f619deb2-cf32-4e32-b125-c6d67b3acf87",
   "metadata": {},
   "outputs": [],
   "source": [
    "# Original: Cell [6] at https://github.com/daviddavo/upm-tfm-notebooks/blob/bb2e45d4ec10962c987b6691fcb0cd4eeba7ea5b/10_baseline_mp.ipynb\n",
    "ROLLING_LENGTH = '7d'\n",
    "\n",
    "_delta = dfp.assign(delta=delta).set_index('date').sort_index()['delta'].dt.days\n",
    "_delta.rolling(ROLLING_LENGTH).mean().plot()"
   ]
  },
  {
   "cell_type": "markdown",
   "id": "c481585c-8a02-4b48-b5c9-f9c0ed9e9c0c",
   "metadata": {},
   "source": [
    "## How many proposals are created per week"
   ]
  },
  {
   "cell_type": "code",
   "execution_count": null,
   "id": "b4559c9e-999a-45bc-bfe4-7997b5d71b76",
   "metadata": {},
   "outputs": [],
   "source": [
    "WINDOW_SIZE = dt.timedelta(days=7)\n",
    "\n",
    "_toplot = dfv.groupby('proposal')['date'].min().sort_values()\n",
    "_toplot = _toplot.to_frame()\n",
    "_toplot['cnt'] = 1\n",
    "_toplot = _toplot.rolling(window=WINDOW_SIZE, on='date').count()\n",
    "\n",
    "# Double the width of the figure\n",
    "fs = plt.gcf().get_size_inches()\n",
    "plt.figure(figsize=fs * (2,.6))\n",
    "# _toplot.set_index('date')['cnt'].plot()\n",
    "ax = sns.lineplot(_toplot.set_index('date')['cnt'])\n",
    "\n",
    "plt.xlabel('')\n",
    "plt.ylabel('# propuestas')\n",
    "plt.xlim(\n",
    "    _toplot['date'].min(),\n",
    "    _toplot['date'].max(),\n",
    ")\n",
    "\n",
    "sns.despine()"
   ]
  },
  {
   "cell_type": "markdown",
   "id": "e356b832-bd11-4913-af31-5c630af68511",
   "metadata": {},
   "source": [
    "## What day of the week are proposals created"
   ]
  },
  {
   "cell_type": "code",
   "execution_count": null,
   "id": "9c02d601-3d7a-4f7f-9c86-a6f85d4fe7ad",
   "metadata": {},
   "outputs": [],
   "source": [
    "# Original: Cell [7] at https://github.com/daviddavo/upm-tfm-notebooks/blob/bb2e45d4ec10962c987b6691fcb0cd4eeba7ea5b/10_baseline_mp.ipynb\n",
    "DAYS_OF_WEEK_ENG = ['Monday', 'Tuesday', 'Wednesday', 'Thursday', 'Friday', 'Saturday', 'Sunday']\n",
    "\n",
    "ax = sns.countplot(x=dfp['start'].dt.day_name(), order=DAYS_OF_WEEK_ENG)\n",
    "# ax.set_title(f'Número de propuestas por día de la semana en {ORG_NAME}')\n",
    "print(dfp['start'].dt.day_name().value_counts())\n",
    "ax.set_xlabel('')\n",
    "ax.set_ylabel('# proposals')\n",
    "ax.set_xticklabels(DAYS_OF_WEEK_ENG, rotation=30, ha='right')\n",
    "\n",
    "# Updates\n",
    "ax.set_ylabel('')\n",
    "\n",
    "nbutils.download_matplotlib(ax.figure, 'proposals_dow.pdf')"
   ]
  },
  {
   "cell_type": "markdown",
   "id": "38dc62ae-b8b7-451a-9ab2-18b211d89ec3",
   "metadata": {},
   "source": [
    "## What day of the week are proposals voted"
   ]
  },
  {
   "cell_type": "code",
   "execution_count": null,
   "id": "39967821-9f6e-4426-b896-e3898b27b334",
   "metadata": {},
   "outputs": [],
   "source": [
    "ax = sns.countplot(x=dfv['date'].dt.day_name(), order=DAYS_OF_WEEK_ENG)\n",
    "# ax.set_title(f'Número de propuestas por día de la semana en {ORG_NAME}')\n",
    "print(dfv['date'].dt.day_name().value_counts())\n",
    "ax.set_xlabel('')\n",
    "ax.set_ylabel('# votes')\n",
    "ax.set_xticklabels(DAYS_OF_WEEK_ENG, rotation=30, ha='right')\n",
    "\n",
    "# Updates\n",
    "ax.set_ylabel('')\n",
    "\n",
    "nbutils.download_matplotlib(ax.figure, \"votes_dow.pdf\")"
   ]
  },
  {
   "cell_type": "markdown",
   "id": "8ec0e029-2f9d-47a1-9b1a-d86e29bbe513",
   "metadata": {},
   "source": [
    "## In which moment of the proposal lifetime are votes cast"
   ]
  },
  {
   "cell_type": "code",
   "execution_count": null,
   "id": "75803459-86cf-42b8-bc4a-83e2e673a824",
   "metadata": {},
   "outputs": [],
   "source": [
    "from matplotlib import ticker\n",
    "\n",
    "PLOT_HUE = True\n",
    "\n",
    "_dfv = dfv[['proposal', 'date']].merge(dfp[['id', 'start', 'end']], left_on='proposal', right_on='id').sort_values('date')\n",
    "_dfv['date_rel'] = (_dfv['date'] - _dfv['start']) / (_dfv['end'] - _dfv['start'])\n",
    "_dfv['delta'] = (_dfv['end'] - _dfv['start']).astype(str)\n",
    "_dfv['time remaining'] = 1 - _dfv['date_rel']\n",
    "\n",
    "display(_dfv.groupby('delta')[['time remaining']].describe())\n",
    "\n",
    "for t in [1/7, 6/7]:\n",
    "    first_day = (_dfv['date_rel'] < t)\n",
    "    print(f\"{first_day.sum()} ({first_day.mean()*100:.2f}%) of the votes are being cast on the first {t*100:.2f}% of rel time\")\n",
    "    \n",
    "fg = sns.displot(_dfv, x='date_rel', kind='ecdf', hue='delta' if PLOT_HUE else None)\n",
    "# fg.ax.xaxis.set_major_locator(ticker.MultipleLocator(1/7))\n",
    "\n",
    "fg.ax.yaxis.set_major_locator(ticker.MultipleLocator(1/10))\n",
    "fg.ax.yaxis.set_major_formatter(ticker.PercentFormatter(1))\n",
    "fg.ax.set_xticks(np.arange(8)/7)\n",
    "fg.ax.set_xticklabels([\"0\"] + [f\"{x}/7\" for x in range(1,7)] + [\"1\"])\n",
    "fg.ax.set_xlabel('Relative time elapsed');\n",
    "\n",
    "nbutils.download_matplotlib(fg, f\"votes_in_time{'-color' if PLOT_HUE else ''}.pdf\")"
   ]
  },
  {
   "cell_type": "markdown",
   "id": "729479f0-153b-46ee-a4ac-fcf6a2902dbb",
   "metadata": {},
   "source": [
    "## Histograms"
   ]
  },
  {
   "cell_type": "markdown",
   "id": "b700fb01",
   "metadata": {},
   "source": [
    "### Votes per user"
   ]
  },
  {
   "cell_type": "code",
   "execution_count": null,
   "id": "58c8912e",
   "metadata": {},
   "outputs": [],
   "source": [
    "_toplot = dfv.groupby('voter').size()\n",
    "# _toplot = _toplot[_toplot < 40]\n",
    "print(_toplot.describe(percentiles=[.1, .15, .5, .9, .95, .99]))\n",
    "# _toplot.plot.hist(log=True)\n",
    "ax = sns.ecdfplot(_toplot, log_scale=True)\n",
    "plt.xlabel('# votes')\n",
    "plt.ylabel('% voters')\n",
    "\n",
    "_times_voted = [10, 100]\n",
    "for t in _times_voted:\n",
    "    _nusers = (_toplot > t).sum()\n",
    "    print(f\"{_nusers} voters ({_nusers/len(_toplot)*100:.2f}%) have voted more than {t} times\")\n",
    "\n",
    "ax.set_xticks([1, 5, 10, 50, 100, 500, 1000])\n",
    "# ax.xaxis.set_major_locator(mtick.MultipleLocator(10))\n",
    "ax.yaxis.set_major_formatter(ticker.PercentFormatter(1))\n",
    "\n",
    "# Updates by Javi\n",
    "plt.xlabel(\"\")\n",
    "plt.ylabel(\"\")\n",
    "\n",
    "nbutils.download_matplotlib(ax.figure, \"ecdf-vpv.pdf\")"
   ]
  },
  {
   "cell_type": "markdown",
   "id": "d11514db",
   "metadata": {},
   "source": [
    "### Votes per proposal"
   ]
  },
  {
   "cell_type": "code",
   "execution_count": null,
   "id": "66dba836",
   "metadata": {},
   "outputs": [],
   "source": [
    "_toplot = dfv.groupby('proposal').size()\n",
    "print(_toplot.describe(percentiles=[.1, .15, .20, .25, .5,.75,.9, .95, .99]))\n",
    "\n",
    "print(\"Total votes:\", _toplot.sum())\n",
    "_times_voted = [10, 72, 73, 100]\n",
    "for t in _times_voted:\n",
    "    _nprops = (_toplot > t).sum()\n",
    "    print(f\"{_nprops} proposals ({_nprops/len(_toplot)*100:.2f}%) have more than {t} votes\")\n",
    "\n",
    "ax = sns.ecdfplot(_toplot, log_scale=True)\n",
    "ax.set_xticks([1, 5, 10, 50, 100, 500, 1000])\n",
    "ax.yaxis.set_major_formatter(ticker.PercentFormatter(1))\n",
    "\n",
    "plt.xlabel('# votes')\n",
    "plt.ylabel('% proposals')\n",
    "\n",
    "# Updates by Javi\n",
    "plt.xlabel(\"\")\n",
    "plt.ylabel(\"\")\n",
    "\n",
    "nbutils.download_matplotlib(ax.figure, \"ecdf-vpp.pdf\")"
   ]
  }
 ],
 "metadata": {
  "kernelspec": {
   "display_name": "Python 3 (ipykernel)",
   "language": "python",
   "name": "python3"
  },
  "language_info": {
   "codemirror_mode": {
    "name": "ipython",
    "version": 3
   },
   "file_extension": ".py",
   "mimetype": "text/x-python",
   "name": "python",
   "nbconvert_exporter": "python",
   "pygments_lexer": "ipython3",
   "version": "3.11.6"
  },
  "widgets": {
   "application/vnd.jupyter.widget-state+json": {
    "state": {
     "06d58f5d71944044836c584cdb6c28f8": {
      "model_module": "@jupyter-widgets/base",
      "model_module_version": "2.0.0",
      "model_name": "LayoutModel",
      "state": {}
     },
     "0c10983aec1440ed8f5f5530e1764f35": {
      "model_module": "jupyter-vuetify",
      "model_module_version": "^1.8.5",
      "model_name": "IconModel",
      "state": {
       "_events": [],
       "_jupyter_vue": "IPY_MODEL_972a9cab4c9146f680d0e8c11231c9df",
       "attributes": {},
       "children": [
        "mdi-cloud-download-outline"
       ],
       "layout": null,
       "left": true,
       "size": null,
       "v_slots": []
      }
     },
     "0f22fc08d5814ef987a2958eceefd00f": {
      "model_module": "jupyter-vuetify",
      "model_module_version": "^1.9.4",
      "model_name": "VuetifyTemplateModel",
      "state": {
       "_component_instances": [],
       "_jupyter_vue": "IPY_MODEL_972a9cab4c9146f680d0e8c11231c9df",
       "_model_module_version": "^1.9.4",
       "_view_module_version": "^1.9.4",
       "bytes": null,
       "children": [
        "IPY_MODEL_72b38bd7abe04a8c8ac627a1a4e5eb11"
       ],
       "components": null,
       "events": [],
       "filename": "proposals_dow.pdf",
       "layout": "IPY_MODEL_2a4513534e2f478c9454bf4d32f9cbb5",
       "mime_type": "application/octet-stream",
       "request_download": false,
       "template": "IPY_MODEL_9bc5ba27d9b640d995d836f07e8be093"
      }
     },
     "1242ff32c8ee481f86e3c21f7746ef19": {
      "model_module": "@jupyter-widgets/base",
      "model_module_version": "2.0.0",
      "model_name": "LayoutModel",
      "state": {}
     },
     "15847040c59340b6a526651369611b5e": {
      "model_module": "jupyter-vuetify",
      "model_module_version": "^1.8.5",
      "model_name": "IconModel",
      "state": {
       "_events": [],
       "_jupyter_vue": "IPY_MODEL_972a9cab4c9146f680d0e8c11231c9df",
       "attributes": {},
       "children": [
        "mdi-cloud-download-outline"
       ],
       "layout": null,
       "left": true,
       "size": null,
       "v_slots": []
      }
     },
     "15efa3a8b63d4b7fbac34ea8fe1148bb": {
      "model_module": "jupyter-vuetify",
      "model_module_version": "^1.9.4",
      "model_name": "HtmlModel",
      "state": {
       "_events": [],
       "_jupyter_vue": "IPY_MODEL_972a9cab4c9146f680d0e8c11231c9df",
       "_model_module_version": "^1.9.4",
       "_view_module_version": "^1.9.4",
       "attributes": {},
       "children": [
        "IPY_MODEL_d156dcf08f7f4c1692a5f34315c5f4c9"
       ],
       "layout": null,
       "tag": "div",
       "v_slots": []
      }
     },
     "2194731a4fcd44fc8416ff70b6d61c32": {
      "model_module": "@jupyter-widgets/base",
      "model_module_version": "2.0.0",
      "model_name": "LayoutModel",
      "state": {}
     },
     "2710442b6ee04297be8a2e3d33930bb7": {
      "model_module": "@jupyter-widgets/base",
      "model_module_version": "2.0.0",
      "model_name": "LayoutModel",
      "state": {}
     },
     "29e5b3b8139e4f159e18f03550b70b14": {
      "model_module": "jupyter-vuetify",
      "model_module_version": "^1.8.5",
      "model_name": "RowModel",
      "state": {
       "_events": [],
       "_jupyter_vue": "IPY_MODEL_972a9cab4c9146f680d0e8c11231c9df",
       "attributes": {},
       "children": [
        "IPY_MODEL_aeaf677e7d9d4bf0b40040971c3f2598"
       ],
       "class_": "solara-content-main",
       "layout": null,
       "no_gutters": false,
       "v_slots": []
      }
     },
     "2a4513534e2f478c9454bf4d32f9cbb5": {
      "model_module": "@jupyter-widgets/base",
      "model_module_version": "2.0.0",
      "model_name": "LayoutModel",
      "state": {}
     },
     "36263f3b139c45c889d614d77990d9ca": {
      "model_module": "jupyter-vuetify",
      "model_module_version": "^1.8.5",
      "model_name": "ColModel",
      "state": {
       "_events": [],
       "_jupyter_vue": "IPY_MODEL_972a9cab4c9146f680d0e8c11231c9df",
       "attributes": {},
       "children": [
        "IPY_MODEL_b8b09de4eaa7440d9cf391b818c39830"
       ],
       "cols": 12,
       "layout": null,
       "lg": null,
       "md": null,
       "offset": null,
       "offset_lg": null,
       "offset_md": null,
       "offset_sm": null,
       "offset_xl": null,
       "order": null,
       "order_lg": null,
       "order_md": null,
       "order_sm": null,
       "order_xl": null,
       "sm": null,
       "v_slots": [],
       "xl": null
      }
     },
     "39083ffe2a684e5496d7539c8068b17a": {
      "model_module": "jupyter-vuetify",
      "model_module_version": "^1.8.5",
      "model_name": "BtnModel",
      "state": {
       "_events": [
        "click"
       ],
       "_jupyter_vue": "IPY_MODEL_972a9cab4c9146f680d0e8c11231c9df",
       "attributes": {},
       "children": [
        "IPY_MODEL_49f3cd02448c4576abae2daf1d280c81",
        "Download: ecdf-vpv.pdf"
       ],
       "class_": "",
       "disabled": false,
       "elevation": null,
       "height": null,
       "href": null,
       "layout": null,
       "loading": false,
       "max_height": null,
       "max_width": null,
       "min_height": null,
       "min_width": null,
       "outlined": false,
       "ripple": null,
       "style_": "",
       "text": false,
       "to": null,
       "v_slots": [],
       "width": null
      }
     },
     "4217831164cd4efab6ae7b197477c74b": {
      "model_module": "@jupyter-widgets/controls",
      "model_module_version": "2.0.0",
      "model_name": "VBoxModel",
      "state": {
       "_view_count": 1,
       "children": [
        "IPY_MODEL_15efa3a8b63d4b7fbac34ea8fe1148bb"
       ],
       "layout": "IPY_MODEL_615fcc42e4ef4504ae62ed7669336f33"
      }
     },
     "42b680bec63346d182cd7c32b2a87b12": {
      "model_module": "jupyter-vuetify",
      "model_module_version": "^1.9.4",
      "model_name": "ThemeColorsModel",
      "state": {
       "_model_module_version": "^1.9.4",
       "_theme_name": "light",
       "_view_module": null,
       "_view_module_version": "^1.9.4",
       "accent": "#82B1FF",
       "error": "#FF5252",
       "info": "#2196F3",
       "primary": "#1976D2",
       "secondary": "#424242",
       "success": "#4CAF50",
       "warning": "#FB8C00"
      }
     },
     "446fcc3d727d4b45ade7085c6972a077": {
      "model_module": "jupyter-vuetify",
      "model_module_version": "^1.9.4",
      "model_name": "HtmlModel",
      "state": {
       "_events": [],
       "_jupyter_vue": "IPY_MODEL_972a9cab4c9146f680d0e8c11231c9df",
       "_model_module_version": "^1.9.4",
       "_view_module_version": "^1.9.4",
       "attributes": {},
       "children": [
        "IPY_MODEL_5470d515f9204e6a9c0fbbe41bd78d28"
       ],
       "layout": null,
       "tag": "div",
       "v_slots": []
      }
     },
     "46bf80d85b564fa68098e0529a9c0148": {
      "model_module": "jupyter-vuetify",
      "model_module_version": "^1.8.5",
      "model_name": "BtnModel",
      "state": {
       "_events": [
        "click"
       ],
       "_jupyter_vue": "IPY_MODEL_972a9cab4c9146f680d0e8c11231c9df",
       "attributes": {},
       "children": [
        "IPY_MODEL_a8783305c0014befb9d8b70ba816075e",
        "Download: ecdf-vpp.pdf"
       ],
       "class_": "",
       "disabled": false,
       "elevation": null,
       "height": null,
       "href": null,
       "layout": null,
       "loading": false,
       "max_height": null,
       "max_width": null,
       "min_height": null,
       "min_width": null,
       "outlined": false,
       "ripple": null,
       "style_": "",
       "text": false,
       "to": null,
       "v_slots": [],
       "width": null
      }
     },
     "49a47c71ad1f41ebb3b6e30b950707fa": {
      "model_module": "jupyter-vuetify",
      "model_module_version": "^1.9.4",
      "model_name": "HtmlModel",
      "state": {
       "_events": [],
       "_jupyter_vue": "IPY_MODEL_972a9cab4c9146f680d0e8c11231c9df",
       "_model_module_version": "^1.9.4",
       "_view_module_version": "^1.9.4",
       "attributes": {},
       "children": [
        "IPY_MODEL_6d326cadcd8b4190bc49ce4144f8100d"
       ],
       "layout": null,
       "tag": "div",
       "v_slots": []
      }
     },
     "49f3cd02448c4576abae2daf1d280c81": {
      "model_module": "jupyter-vuetify",
      "model_module_version": "^1.8.5",
      "model_name": "IconModel",
      "state": {
       "_events": [],
       "_jupyter_vue": "IPY_MODEL_972a9cab4c9146f680d0e8c11231c9df",
       "attributes": {},
       "children": [
        "mdi-cloud-download-outline"
       ],
       "layout": null,
       "left": true,
       "size": null,
       "v_slots": []
      }
     },
     "4ce44f55da534509a2b496ebb4644375": {
      "model_module": "jupyter-vuetify",
      "model_module_version": "^1.9.4",
      "model_name": "ThemeModel",
      "state": {
       "_model_module_version": "^1.9.4",
       "_view_module": null,
       "_view_module_version": "^1.9.4",
       "dark_effective": false
      }
     },
     "502ec1fc3a4d438d9e3c99d1631d636d": {
      "model_module": "jupyter-vuetify",
      "model_module_version": "^1.8.5",
      "model_name": "IconModel",
      "state": {
       "_events": [],
       "_jupyter_vue": "IPY_MODEL_972a9cab4c9146f680d0e8c11231c9df",
       "attributes": {},
       "children": [
        "mdi-cloud-download-outline"
       ],
       "layout": null,
       "left": true,
       "size": null,
       "v_slots": []
      }
     },
     "5470d515f9204e6a9c0fbbe41bd78d28": {
      "model_module": "jupyter-vuetify",
      "model_module_version": "^1.8.5",
      "model_name": "RowModel",
      "state": {
       "_events": [],
       "_jupyter_vue": "IPY_MODEL_972a9cab4c9146f680d0e8c11231c9df",
       "attributes": {},
       "children": [
        "IPY_MODEL_b7fee9e2f6e844a39878f762dd840a91"
       ],
       "class_": "solara-content-main",
       "layout": null,
       "no_gutters": false,
       "v_slots": []
      }
     },
     "615fcc42e4ef4504ae62ed7669336f33": {
      "model_module": "@jupyter-widgets/base",
      "model_module_version": "2.0.0",
      "model_name": "LayoutModel",
      "state": {}
     },
     "647ed31958ce415386406f2e6df5cd1d": {
      "model_module": "@jupyter-widgets/base",
      "model_module_version": "2.0.0",
      "model_name": "LayoutModel",
      "state": {}
     },
     "6d326cadcd8b4190bc49ce4144f8100d": {
      "model_module": "jupyter-vuetify",
      "model_module_version": "^1.8.5",
      "model_name": "RowModel",
      "state": {
       "_events": [],
       "_jupyter_vue": "IPY_MODEL_972a9cab4c9146f680d0e8c11231c9df",
       "attributes": {},
       "children": [
        "IPY_MODEL_36263f3b139c45c889d614d77990d9ca"
       ],
       "class_": "solara-content-main",
       "layout": null,
       "no_gutters": false,
       "v_slots": []
      }
     },
     "72b38bd7abe04a8c8ac627a1a4e5eb11": {
      "model_module": "jupyter-vuetify",
      "model_module_version": "^1.8.5",
      "model_name": "BtnModel",
      "state": {
       "_events": [
        "click"
       ],
       "_jupyter_vue": "IPY_MODEL_972a9cab4c9146f680d0e8c11231c9df",
       "attributes": {},
       "children": [
        "IPY_MODEL_0c10983aec1440ed8f5f5530e1764f35",
        "Download: proposals_dow.pdf"
       ],
       "class_": "",
       "disabled": false,
       "elevation": null,
       "height": null,
       "href": null,
       "layout": null,
       "loading": false,
       "max_height": null,
       "max_width": null,
       "min_height": null,
       "min_width": null,
       "outlined": false,
       "ripple": null,
       "style_": "",
       "text": false,
       "to": null,
       "v_slots": [],
       "width": null
      }
     },
     "9656240240ab46c0b5c5d642c3cc4dc3": {
      "model_module": "@jupyter-widgets/controls",
      "model_module_version": "2.0.0",
      "model_name": "VBoxModel",
      "state": {
       "_view_count": 1,
       "children": [
        "IPY_MODEL_49a47c71ad1f41ebb3b6e30b950707fa"
       ],
       "layout": "IPY_MODEL_c013a38f7bdf4f48b7c79c6f57c24b28"
      }
     },
     "972a9cab4c9146f680d0e8c11231c9df": {
      "model_module": "jupyter-vue",
      "model_module_version": "^1.11.1",
      "model_name": "ForceLoadModel",
      "state": {
       "_model_module_version": "^1.11.1",
       "_view_module": null,
       "_view_module_version": "",
       "layout": "IPY_MODEL_647ed31958ce415386406f2e6df5cd1d"
      }
     },
     "9b4af04eafae40eeb11bc188f91c28a0": {
      "model_module": "jupyter-vuetify",
      "model_module_version": "^1.9.4",
      "model_name": "VuetifyTemplateModel",
      "state": {
       "_component_instances": [],
       "_jupyter_vue": "IPY_MODEL_972a9cab4c9146f680d0e8c11231c9df",
       "_model_module_version": "^1.9.4",
       "_view_module_version": "^1.9.4",
       "bytes": null,
       "children": [
        "IPY_MODEL_ccad53007c4d4d779e34908811701108"
       ],
       "components": null,
       "events": [],
       "filename": "votes_in_time-color.pdf",
       "layout": "IPY_MODEL_ee4df2f361ca4d6ea5dd9bab246adf88",
       "mime_type": "application/octet-stream",
       "request_download": false,
       "template": "IPY_MODEL_9bc5ba27d9b640d995d836f07e8be093"
      }
     },
     "9bc5ba27d9b640d995d836f07e8be093": {
      "model_module": "jupyter-vue",
      "model_module_version": "^1.11.1",
      "model_name": "TemplateModel",
      "state": {
       "_model_module": "jupyter-vue",
       "_model_module_version": "^1.11.1",
       "_view_module": null,
       "_view_module_version": "",
       "template": "<template>\n    <div @click=\"request_download = true\" class=\"solara-file-download-container\">\n        <jupyter-widget v-for=\"child in children\" :key=\"child\" :widget=\"child\"></jupyter-widget>\n    </div>\n</template>\n\n<script>\nmodule.exports = {\n    watch: {\n        bytes(value) {\n            if (this.request_download) {\n                const a = document.createElement('a');\n                a.download = this.filename;\n                const blob = new Blob([this.bytes], { type: this.mime_type });\n                const blobUrl = window.URL.createObjectURL(blob);\n                a.href = blobUrl;\n                document.body.appendChild(a);\n                a.click();\n                document.body.removeChild(a);\n                setTimeout(() => {\n                    // Make sure we clean up\n                    window.URL.revokeObjectURL(blobUrl);\n                }, 1000);\n                this.request_download = false;\n            }\n        }\n    }\n}\n</script>\n\n<style id=\"solara-file-download\">\n.solara-file-download-container {\n    cursor: pointer;\n}\n</style>\n"
      }
     },
     "a3bf232fdebc425199e143497de62963": {
      "model_module": "jupyter-vuetify",
      "model_module_version": "^1.9.4",
      "model_name": "VuetifyTemplateModel",
      "state": {
       "_component_instances": [],
       "_jupyter_vue": "IPY_MODEL_972a9cab4c9146f680d0e8c11231c9df",
       "_model_module_version": "^1.9.4",
       "_view_module_version": "^1.9.4",
       "bytes": null,
       "children": [
        "IPY_MODEL_46bf80d85b564fa68098e0529a9c0148"
       ],
       "components": null,
       "events": [],
       "filename": "ecdf-vpp.pdf",
       "layout": "IPY_MODEL_aaacc3a2f0ad4090874a740013c48daf",
       "mime_type": "application/octet-stream",
       "request_download": false,
       "template": "IPY_MODEL_9bc5ba27d9b640d995d836f07e8be093"
      }
     },
     "a8783305c0014befb9d8b70ba816075e": {
      "model_module": "jupyter-vuetify",
      "model_module_version": "^1.8.5",
      "model_name": "IconModel",
      "state": {
       "_events": [],
       "_jupyter_vue": "IPY_MODEL_972a9cab4c9146f680d0e8c11231c9df",
       "attributes": {},
       "children": [
        "mdi-cloud-download-outline"
       ],
       "layout": null,
       "left": true,
       "size": null,
       "v_slots": []
      }
     },
     "aaacc3a2f0ad4090874a740013c48daf": {
      "model_module": "@jupyter-widgets/base",
      "model_module_version": "2.0.0",
      "model_name": "LayoutModel",
      "state": {}
     },
     "aeaf677e7d9d4bf0b40040971c3f2598": {
      "model_module": "jupyter-vuetify",
      "model_module_version": "^1.8.5",
      "model_name": "ColModel",
      "state": {
       "_events": [],
       "_jupyter_vue": "IPY_MODEL_972a9cab4c9146f680d0e8c11231c9df",
       "attributes": {},
       "children": [
        "IPY_MODEL_0f22fc08d5814ef987a2958eceefd00f"
       ],
       "cols": 12,
       "layout": null,
       "lg": null,
       "md": null,
       "offset": null,
       "offset_lg": null,
       "offset_md": null,
       "offset_sm": null,
       "offset_xl": null,
       "order": null,
       "order_lg": null,
       "order_md": null,
       "order_sm": null,
       "order_xl": null,
       "sm": null,
       "v_slots": [],
       "xl": null
      }
     },
     "afa4c47cae2e48c6b0a3c39a8a2b91eb": {
      "model_module": "jupyter-vuetify",
      "model_module_version": "^1.9.4",
      "model_name": "HtmlModel",
      "state": {
       "_events": [],
       "_jupyter_vue": "IPY_MODEL_972a9cab4c9146f680d0e8c11231c9df",
       "_model_module_version": "^1.9.4",
       "_view_module_version": "^1.9.4",
       "attributes": {},
       "children": [
        "IPY_MODEL_29e5b3b8139e4f159e18f03550b70b14"
       ],
       "layout": null,
       "tag": "div",
       "v_slots": []
      }
     },
     "b7fee9e2f6e844a39878f762dd840a91": {
      "model_module": "jupyter-vuetify",
      "model_module_version": "^1.8.5",
      "model_name": "ColModel",
      "state": {
       "_events": [],
       "_jupyter_vue": "IPY_MODEL_972a9cab4c9146f680d0e8c11231c9df",
       "attributes": {},
       "children": [
        "IPY_MODEL_ecc5ad8bce7a4a0abc55f4a59914944f"
       ],
       "cols": 12,
       "layout": null,
       "lg": null,
       "md": null,
       "offset": null,
       "offset_lg": null,
       "offset_md": null,
       "offset_sm": null,
       "offset_xl": null,
       "order": null,
       "order_lg": null,
       "order_md": null,
       "order_sm": null,
       "order_xl": null,
       "sm": null,
       "v_slots": [],
       "xl": null
      }
     },
     "b8b09de4eaa7440d9cf391b818c39830": {
      "model_module": "jupyter-vuetify",
      "model_module_version": "^1.9.4",
      "model_name": "VuetifyTemplateModel",
      "state": {
       "_component_instances": [],
       "_jupyter_vue": "IPY_MODEL_972a9cab4c9146f680d0e8c11231c9df",
       "_model_module_version": "^1.9.4",
       "_view_module_version": "^1.9.4",
       "bytes": null,
       "children": [
        "IPY_MODEL_39083ffe2a684e5496d7539c8068b17a"
       ],
       "components": null,
       "events": [],
       "filename": "ecdf-vpv.pdf",
       "layout": "IPY_MODEL_e249077396994af99acf18457961d9f0",
       "mime_type": "application/octet-stream",
       "request_download": false,
       "template": "IPY_MODEL_9bc5ba27d9b640d995d836f07e8be093"
      }
     },
     "bb65f677d1364e1382239b7c38ee66a4": {
      "model_module": "jupyter-vuetify",
      "model_module_version": "^1.9.4",
      "model_name": "HtmlModel",
      "state": {
       "_events": [],
       "_jupyter_vue": "IPY_MODEL_972a9cab4c9146f680d0e8c11231c9df",
       "_model_module_version": "^1.9.4",
       "_view_module_version": "^1.9.4",
       "attributes": {},
       "children": [
        "IPY_MODEL_cfa8b2aaebb2453388a1e505338243e4"
       ],
       "layout": null,
       "tag": "div",
       "v_slots": []
      }
     },
     "c013a38f7bdf4f48b7c79c6f57c24b28": {
      "model_module": "@jupyter-widgets/base",
      "model_module_version": "2.0.0",
      "model_name": "LayoutModel",
      "state": {}
     },
     "ccad53007c4d4d779e34908811701108": {
      "model_module": "jupyter-vuetify",
      "model_module_version": "^1.8.5",
      "model_name": "BtnModel",
      "state": {
       "_events": [
        "click"
       ],
       "_jupyter_vue": "IPY_MODEL_972a9cab4c9146f680d0e8c11231c9df",
       "attributes": {},
       "children": [
        "IPY_MODEL_15847040c59340b6a526651369611b5e",
        "Download: votes_in_time-color.pdf"
       ],
       "class_": "",
       "disabled": false,
       "elevation": null,
       "height": null,
       "href": null,
       "layout": null,
       "loading": false,
       "max_height": null,
       "max_width": null,
       "min_height": null,
       "min_width": null,
       "outlined": false,
       "ripple": null,
       "style_": "",
       "text": false,
       "to": null,
       "v_slots": [],
       "width": null
      }
     },
     "cdd630c7da8840f3a484a69da497de05": {
      "model_module": "@jupyter-widgets/controls",
      "model_module_version": "2.0.0",
      "model_name": "VBoxModel",
      "state": {
       "_view_count": 1,
       "children": [
        "IPY_MODEL_afa4c47cae2e48c6b0a3c39a8a2b91eb"
       ],
       "layout": "IPY_MODEL_06d58f5d71944044836c584cdb6c28f8"
      }
     },
     "cfa8b2aaebb2453388a1e505338243e4": {
      "model_module": "jupyter-vuetify",
      "model_module_version": "^1.8.5",
      "model_name": "RowModel",
      "state": {
       "_events": [],
       "_jupyter_vue": "IPY_MODEL_972a9cab4c9146f680d0e8c11231c9df",
       "attributes": {},
       "children": [
        "IPY_MODEL_d26babd97c51473cbdc0dbfa8839642e"
       ],
       "class_": "solara-content-main",
       "layout": null,
       "no_gutters": false,
       "v_slots": []
      }
     },
     "d156dcf08f7f4c1692a5f34315c5f4c9": {
      "model_module": "jupyter-vuetify",
      "model_module_version": "^1.8.5",
      "model_name": "RowModel",
      "state": {
       "_events": [],
       "_jupyter_vue": "IPY_MODEL_972a9cab4c9146f680d0e8c11231c9df",
       "attributes": {},
       "children": [
        "IPY_MODEL_ea070d8e621d4f9bbd51b9f9faf58a5a"
       ],
       "class_": "solara-content-main",
       "layout": null,
       "no_gutters": false,
       "v_slots": []
      }
     },
     "d26babd97c51473cbdc0dbfa8839642e": {
      "model_module": "jupyter-vuetify",
      "model_module_version": "^1.8.5",
      "model_name": "ColModel",
      "state": {
       "_events": [],
       "_jupyter_vue": "IPY_MODEL_972a9cab4c9146f680d0e8c11231c9df",
       "attributes": {},
       "children": [
        "IPY_MODEL_a3bf232fdebc425199e143497de62963"
       ],
       "cols": 12,
       "layout": null,
       "lg": null,
       "md": null,
       "offset": null,
       "offset_lg": null,
       "offset_md": null,
       "offset_sm": null,
       "offset_xl": null,
       "order": null,
       "order_lg": null,
       "order_md": null,
       "order_sm": null,
       "order_xl": null,
       "sm": null,
       "v_slots": [],
       "xl": null
      }
     },
     "ddcf3b5a63714e9fa645bcc7da443fe8": {
      "model_module": "@jupyter-widgets/controls",
      "model_module_version": "2.0.0",
      "model_name": "VBoxModel",
      "state": {
       "_view_count": 1,
       "children": [
        "IPY_MODEL_bb65f677d1364e1382239b7c38ee66a4"
       ],
       "layout": "IPY_MODEL_2710442b6ee04297be8a2e3d33930bb7"
      }
     },
     "dff450dfec384763ab1c9f970ccf6b3c": {
      "model_module": "@jupyter-widgets/controls",
      "model_module_version": "2.0.0",
      "model_name": "VBoxModel",
      "state": {
       "_view_count": 1,
       "children": [
        "IPY_MODEL_446fcc3d727d4b45ade7085c6972a077"
       ],
       "layout": "IPY_MODEL_1242ff32c8ee481f86e3c21f7746ef19"
      }
     },
     "e249077396994af99acf18457961d9f0": {
      "model_module": "@jupyter-widgets/base",
      "model_module_version": "2.0.0",
      "model_name": "LayoutModel",
      "state": {}
     },
     "ea070d8e621d4f9bbd51b9f9faf58a5a": {
      "model_module": "jupyter-vuetify",
      "model_module_version": "^1.8.5",
      "model_name": "ColModel",
      "state": {
       "_events": [],
       "_jupyter_vue": "IPY_MODEL_972a9cab4c9146f680d0e8c11231c9df",
       "attributes": {},
       "children": [
        "IPY_MODEL_9b4af04eafae40eeb11bc188f91c28a0"
       ],
       "cols": 12,
       "layout": null,
       "lg": null,
       "md": null,
       "offset": null,
       "offset_lg": null,
       "offset_md": null,
       "offset_sm": null,
       "offset_xl": null,
       "order": null,
       "order_lg": null,
       "order_md": null,
       "order_sm": null,
       "order_xl": null,
       "sm": null,
       "v_slots": [],
       "xl": null
      }
     },
     "ecc5ad8bce7a4a0abc55f4a59914944f": {
      "model_module": "jupyter-vuetify",
      "model_module_version": "^1.9.4",
      "model_name": "VuetifyTemplateModel",
      "state": {
       "_component_instances": [],
       "_jupyter_vue": "IPY_MODEL_972a9cab4c9146f680d0e8c11231c9df",
       "_model_module_version": "^1.9.4",
       "_view_module_version": "^1.9.4",
       "bytes": null,
       "children": [
        "IPY_MODEL_ede451e3ff1e4abf80cdb8206faa5eb2"
       ],
       "components": null,
       "events": [],
       "filename": "votes_dow.pdf",
       "layout": "IPY_MODEL_2194731a4fcd44fc8416ff70b6d61c32",
       "mime_type": "application/octet-stream",
       "request_download": false,
       "template": "IPY_MODEL_9bc5ba27d9b640d995d836f07e8be093"
      }
     },
     "ed42265c17da4148951ad6a89423a64e": {
      "model_module": "jupyter-vuetify",
      "model_module_version": "^1.9.4",
      "model_name": "ThemeColorsModel",
      "state": {
       "_model_module_version": "^1.9.4",
       "_theme_name": "dark",
       "_view_module": null,
       "_view_module_version": "^1.9.4",
       "accent": "#FF4081",
       "error": "#FF5252",
       "info": "#2196F3",
       "primary": "#2196F3",
       "secondary": "#424242",
       "success": "#4CAF50",
       "warning": "#FB8C00"
      }
     },
     "ede451e3ff1e4abf80cdb8206faa5eb2": {
      "model_module": "jupyter-vuetify",
      "model_module_version": "^1.8.5",
      "model_name": "BtnModel",
      "state": {
       "_events": [
        "click"
       ],
       "_jupyter_vue": "IPY_MODEL_972a9cab4c9146f680d0e8c11231c9df",
       "attributes": {},
       "children": [
        "IPY_MODEL_502ec1fc3a4d438d9e3c99d1631d636d",
        "Download: votes_dow.pdf"
       ],
       "class_": "",
       "disabled": false,
       "elevation": null,
       "height": null,
       "href": null,
       "layout": null,
       "loading": false,
       "max_height": null,
       "max_width": null,
       "min_height": null,
       "min_width": null,
       "outlined": false,
       "ripple": null,
       "style_": "",
       "text": false,
       "to": null,
       "v_slots": [],
       "width": null
      }
     },
     "ee4df2f361ca4d6ea5dd9bab246adf88": {
      "model_module": "@jupyter-widgets/base",
      "model_module_version": "2.0.0",
      "model_name": "LayoutModel",
      "state": {}
     }
    },
    "version_major": 2,
    "version_minor": 0
   }
  }
 },
 "nbformat": 4,
 "nbformat_minor": 5
}
