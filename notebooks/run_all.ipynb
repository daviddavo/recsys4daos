{
 "cells": [
  {
   "cell_type": "code",
   "execution_count": null,
   "id": "cbd76dd7-fa42-404b-8f31-fe769918e9e8",
   "metadata": {
    "editable": true,
    "slideshow": {
     "slide_type": ""
    },
    "tags": []
   },
   "outputs": [],
   "source": [
    "import re\n",
    "from pathlib import Path\n",
    "from dataclasses import dataclass, asdict\n",
    "\n",
    "import numpy as np\n",
    "import pandas as pd\n",
    "\n",
    "from tqdm.autonotebook import tqdm\n",
    "import papermill as pm\n",
    "\n",
    "from recsys4daos.utils.notebooks import run_dao_notebook"
   ]
  },
  {
   "cell_type": "code",
   "execution_count": null,
   "id": "ed8b1aa5-c3b8-439b-b74e-d66642a81d96",
   "metadata": {
    "editable": true,
    "slideshow": {
     "slide_type": ""
    },
    "tags": []
   },
   "outputs": [],
   "source": [
    "all_notebooks = Path('.').glob('*.ipynb')\n",
    "run_notebooks = sorted(p for p in all_notebooks if re.match(r'\\d+_', p.name))\n",
    "run_notebooks"
   ]
  },
  {
   "cell_type": "code",
   "execution_count": null,
   "id": "6fdeadd6-6054-4d86-8eb5-c11e20edf41c",
   "metadata": {
    "editable": true,
    "slideshow": {
     "slide_type": ""
    },
    "tags": []
   },
   "outputs": [],
   "source": [
    "OUTPUT_PATH: str = '../nbout/'\n",
    "EXECUTION_ID: str = '2024-07-03'"
   ]
  },
  {
   "cell_type": "code",
   "execution_count": null,
   "id": "9e569d9e-45b5-4ea1-b67e-12e71261f87d",
   "metadata": {
    "editable": true,
    "slideshow": {
     "slide_type": ""
    },
    "tags": []
   },
   "outputs": [],
   "source": [
    "@dataclass\n",
    "class DaoToRun:\n",
    "    # Name of the organization (see ./data/input)\n",
    "    org_name: str\n",
    "    # Frequency of the splits\n",
    "    splits_freq: str = '7d'\n",
    "    # Wether to normalize the folds (start at 00:00)\n",
    "    splits_normalize: bool = True\n",
    "    # Number of folds to use\n",
    "    last_folds: int = 10\n",
    "    # Date of the last fold to use\n",
    "    last_fold_date: str = None\n",
    "    # Run until this notebook number (inclusive)\n",
    "    run_until_nb: int = 100\n",
    "\n",
    "ALL_DAOS: list[DaoToRun] = [\n",
    "    DaoToRun(\n",
    "        org_name='Decentraland',\n",
    "        splits_freq='W-THU',\n",
    "        run_until_nb=19,\n",
    "        last_fold_date='2023-07-13',\n",
    "    ),\n",
    "    DaoToRun(\n",
    "        org_name='PancakeSwap',\n",
    "        splits_freq='3d',\n",
    "        last_fold_date='2023-06-27',\n",
    "        run_until_nb=19,\n",
    "    ),\n",
    "    DaoToRun(\n",
    "        org_name='Balancer',\n",
    "        run_until_nb=19,\n",
    "        splits_freq='3d',\n",
    "    ),\n",
    "    DaoToRun(\n",
    "        org_name='DEAD FoundationsDAO',\n",
    "        run_until_nb=19,\n",
    "        splits_freq='2d',\n",
    "        last_fold_date='2021-11-28',\n",
    "        last_folds=20,\n",
    "    ),\n",
    "    DaoToRun(\n",
    "        org_name='Aave - Aavegotchi',\n",
    "        run_until_nb=19,\n",
    "        splits_freq='5d',\n",
    "        last_fold_date='2023-05-05',\n",
    "    ),\n",
    "    DaoToRun(\n",
    "        org_name='DAOSquare Grants',\n",
    "        run_until_nb=19,\n",
    "        splits_freq='W-FRI',\n",
    "        last_fold_date='2021-07-02',\n",
    "    ),\n",
    "    DaoToRun(\n",
    "        org_name='Genesis Alpha',\n",
    "        run_until_nb=19,\n",
    "        last_fold_date='2019-12-04',\n",
    "    ),\n",
    "    DaoToRun(\n",
    "        org_name='HUWA-DAO',\n",
    "        run_until_nb=19,\n",
    "        splits_freq='W-THU',\n",
    "        last_fold_date=\"2021-12-09\",\n",
    "    ),\n",
    "    DaoToRun(\n",
    "        org_name='Index Coop',\n",
    "        run_until_nb=19,\n",
    "        splits_freq='W-THU',\n",
    "        last_fold_date='2023-07-13',\n",
    "    ),\n",
    "    DaoToRun(\n",
    "        org_name='Lido',\n",
    "        run_until_nb=19,\n",
    "        splits_freq='W-WED',\n",
    "        last_fold_date=\"2022-06-29\",\n",
    "    ),\n",
    "    DaoToRun(\n",
    "        org_name='MetaCartel - MetaCartel Ventures',\n",
    "        run_until_nb=19,\n",
    "        splits_freq='W-THU',\n",
    "        last_fold_date=\"2022-01-06\",\n",
    "    ),\n",
    "    DaoToRun(\n",
    "        org_name='Plaza',\n",
    "        run_until_nb=19,\n",
    "        splits_freq='3d',\n",
    "        last_folds=20,\n",
    "        last_fold_date=\"2022-06-29\",\n",
    "    ),\n",
    "    DaoToRun(\n",
    "        org_name='SharkDAO',\n",
    "        run_until_nb=19,\n",
    "        splits_freq='3d',\n",
    "        last_folds=20,\n",
    "        last_fold_date=\"2022-05-30\", \n",
    "    ),\n",
    "    DaoToRun(\n",
    "        org_name='dOrg',\n",
    "        run_until_nb=19,\n",
    "        splits_freq='2d',\n",
    "        last_folds=20,\n",
    "        last_fold_date=\"2022-01-31\",\n",
    "    ),\n",
    "    \n",
    "    DaoToRun(\n",
    "        org_name='dxDAO - xDXdao',\n",
    "        run_until_nb=19,\n",
    "        splits_freq='W-THU',\n",
    "        last_fold_date=\"2022-05-05\",\n",
    "    )\n",
    "]\n",
    "\n",
    "pd.DataFrame(map(asdict, ALL_DAOS)).sort_values('org_name', key=lambda c: c.str.lower())"
   ]
  },
  {
   "cell_type": "code",
   "execution_count": null,
   "id": "7c4fd221-8dd2-4d79-990c-2d53ffde4814",
   "metadata": {},
   "outputs": [],
   "source": [
    "def _nb_le(nb: Path, last_nb: int):\n",
    "    return int(re.match(r'(\\d+)_', nb.name)[1]) <= last_nb\n",
    "\n",
    "def _filter_nb_le(nbs: list[Path], last_nb: int):\n",
    "    return list(filter(lambda x: _nb_le(x, last_nb), nbs))\n",
    "\n",
    "print(_filter_nb_le(run_notebooks, 11))"
   ]
  },
  {
   "cell_type": "code",
   "execution_count": null,
   "id": "13e6e198-0c50-4463-9cda-b390b73fd10c",
   "metadata": {
    "editable": true,
    "slideshow": {
     "slide_type": ""
    },
    "tags": []
   },
   "outputs": [],
   "source": [
    "for dao in (b1 := tqdm(ALL_DAOS, desc='org')):\n",
    "    b1.set_postfix_str(dao.org_name)\n",
    "    for nb in (b2 := tqdm(_filter_nb_le(run_notebooks, dao.run_until_nb), desc='notebook', leave=False)):\n",
    "        b2.set_postfix_str(nb)\n",
    "        run_dao_notebook(\n",
    "            nb,\n",
    "            OUTPUT_PATH,\n",
    "            EXECUTION_ID,\n",
    "            ORG_NAME=dao.org_name,\n",
    "            SPLITS_FREQ=dao.splits_freq,\n",
    "            LAST_FOLDS=dao.last_folds,\n",
    "            SPLITS_NORMALIZE=dao.splits_normalize,\n",
    "            LAST_FOLD_DATE_STR=dao.last_fold_date,\n",
    "        )"
   ]
  },
  {
   "cell_type": "code",
   "execution_count": null,
   "id": "4cc14a56-0784-4ef1-b877-c294bdf76050",
   "metadata": {},
   "outputs": [],
   "source": []
  }
 ],
 "metadata": {
  "kernelspec": {
   "display_name": "Python 3 (ipykernel)",
   "language": "python",
   "name": "python3"
  },
  "language_info": {
   "codemirror_mode": {
    "name": "ipython",
    "version": 3
   },
   "file_extension": ".py",
   "mimetype": "text/x-python",
   "name": "python",
   "nbconvert_exporter": "python",
   "pygments_lexer": "ipython3",
   "version": "3.11.6"
  },
  "widgets": {
   "application/vnd.jupyter.widget-state+json": {
    "state": {
     "0160c031767840379d477f130c79af9a": {
      "model_module": "@jupyter-widgets/base",
      "model_module_version": "2.0.0",
      "model_name": "LayoutModel",
      "state": {}
     },
     "03268356d82a489fa5ad2e9614248e02": {
      "model_module": "@jupyter-widgets/controls",
      "model_module_version": "2.0.0",
      "model_name": "ProgressStyleModel",
      "state": {
       "description_width": ""
      }
     },
     "03e0c27027c644059a10bc14a2c917ce": {
      "model_module": "@jupyter-widgets/base",
      "model_module_version": "2.0.0",
      "model_name": "LayoutModel",
      "state": {
       "visibility": "hidden"
      }
     },
     "06159d1283d54c81bdd9df42eb151acb": {
      "model_module": "@jupyter-widgets/controls",
      "model_module_version": "2.0.0",
      "model_name": "HTMLModel",
      "state": {
       "layout": "IPY_MODEL_85ea16dcef8a4717b360388e87183a2e",
       "style": "IPY_MODEL_f52722c8348b49fc8d3e521bb242943e",
       "value": "org:  13%"
      }
     },
     "0707c8e318ca4fa98777f5de7588ed3e": {
      "model_module": "@jupyter-widgets/controls",
      "model_module_version": "2.0.0",
      "model_name": "FloatProgressModel",
      "state": {
       "layout": "IPY_MODEL_c5cdfed183654f50a3e61af90219c3de",
       "max": 19,
       "style": "IPY_MODEL_03268356d82a489fa5ad2e9614248e02",
       "value": 19
      }
     },
     "080df34cb748462db37ec1f1f1ca8cc3": {
      "model_module": "@jupyter-widgets/controls",
      "model_module_version": "2.0.0",
      "model_name": "HTMLModel",
      "state": {
       "layout": "IPY_MODEL_521f74cd363448398288449306aeb6ff",
       "style": "IPY_MODEL_984dcf189ab948a79d3c9d601cfb54c5",
       "value": "../nbout/Balancer/10_baseline.ipynb:  95%"
      }
     },
     "0b9074d0142b48cc99e88f90eb18a7ea": {
      "model_module": "@jupyter-widgets/controls",
      "model_module_version": "2.0.0",
      "model_name": "FloatProgressModel",
      "state": {
       "layout": "IPY_MODEL_6b3ca6a34f574904b2beee6efbf95686",
       "max": 19,
       "style": "IPY_MODEL_29d8108720af47c2b5e00812f2ab8020",
       "value": 19
      }
     },
     "0f39446b290447f088df17925635ad31": {
      "model_module": "@jupyter-widgets/controls",
      "model_module_version": "2.0.0",
      "model_name": "HTMLStyleModel",
      "state": {
       "description_width": "",
       "font_size": null,
       "text_color": null
      }
     },
     "0ff7398dcc7c4f0bb6d22aa31dd239b2": {
      "model_module": "@jupyter-widgets/controls",
      "model_module_version": "2.0.0",
      "model_name": "HTMLStyleModel",
      "state": {
       "description_width": "",
       "font_size": null,
       "text_color": null
      }
     },
     "10040c51dfcd4b088fd46f08b5ec3d84": {
      "model_module": "@jupyter-widgets/base",
      "model_module_version": "2.0.0",
      "model_name": "LayoutModel",
      "state": {}
     },
     "116a3373d1154dbba8eeb06d5f918382": {
      "model_module": "@jupyter-widgets/base",
      "model_module_version": "2.0.0",
      "model_name": "LayoutModel",
      "state": {
       "visibility": "hidden"
      }
     },
     "11b9e01dfd8348e8886f9fdcd455c83a": {
      "model_module": "@jupyter-widgets/controls",
      "model_module_version": "2.0.0",
      "model_name": "HTMLStyleModel",
      "state": {
       "description_width": "",
       "font_size": null,
       "text_color": null
      }
     },
     "11d2ff7f0d2d4777aa83b56e14895074": {
      "model_module": "@jupyter-widgets/controls",
      "model_module_version": "2.0.0",
      "model_name": "HTMLModel",
      "state": {
       "layout": "IPY_MODEL_bc1dc322150940c7a51c8b10954b87ba",
       "style": "IPY_MODEL_412f07292e1b4936b3e2d3c63f3258a1",
       "value": "../nbout/Decentraland/10_baseline.ipynb:  89%"
      }
     },
     "123986cc50c14c28bd2bcf59321d202f": {
      "model_module": "@jupyter-widgets/controls",
      "model_module_version": "2.0.0",
      "model_name": "HTMLModel",
      "state": {
       "layout": "IPY_MODEL_a8029c80038841b683ee04e5eeb798d4",
       "style": "IPY_MODEL_471fef3d633b4136b0e9974bc4f68aae",
       "value": " 35/37 [00:11&lt;00:00,  6.25cell/s]"
      }
     },
     "156b2037967149cea0870c18a822424a": {
      "model_module": "@jupyter-widgets/base",
      "model_module_version": "2.0.0",
      "model_name": "LayoutModel",
      "state": {
       "visibility": "hidden"
      }
     },
     "1712d24f402b4f1e9c5ba068069d06d1": {
      "model_module": "@jupyter-widgets/base",
      "model_module_version": "2.0.0",
      "model_name": "LayoutModel",
      "state": {
       "visibility": "hidden"
      }
     },
     "1713b7598fe240979ec0037904a1521f": {
      "model_module": "@jupyter-widgets/base",
      "model_module_version": "2.0.0",
      "model_name": "LayoutModel",
      "state": {}
     },
     "17b0fd566c4245c2acd3aeb4038444b8": {
      "model_module": "@jupyter-widgets/base",
      "model_module_version": "2.0.0",
      "model_name": "LayoutModel",
      "state": {}
     },
     "185b28efc3a848769d2405118f2aea35": {
      "model_module": "@jupyter-widgets/base",
      "model_module_version": "2.0.0",
      "model_name": "LayoutModel",
      "state": {}
     },
     "1a8bf760801a4f23b0e3a25876ff6884": {
      "model_module": "@jupyter-widgets/controls",
      "model_module_version": "2.0.0",
      "model_name": "HTMLModel",
      "state": {
       "layout": "IPY_MODEL_f8a478fde5cd4033b2e5137508f19f51",
       "style": "IPY_MODEL_11b9e01dfd8348e8886f9fdcd455c83a",
       "value": " 20/23 [00:43&lt;00:04,  1.48s/cell]"
      }
     },
     "1b5d9463ebdf44ab90ca443a55044641": {
      "model_module": "@jupyter-widgets/controls",
      "model_module_version": "2.0.0",
      "model_name": "HTMLStyleModel",
      "state": {
       "description_width": "",
       "font_size": null,
       "text_color": null
      }
     },
     "1cbeb1c34dd9473b9c1939e91bca6570": {
      "model_module": "@jupyter-widgets/controls",
      "model_module_version": "2.0.0",
      "model_name": "HTMLStyleModel",
      "state": {
       "description_width": "",
       "font_size": null,
       "text_color": null
      }
     },
     "1d578f85a4854b6f941608f0ba38ff6b": {
      "model_module": "@jupyter-widgets/base",
      "model_module_version": "2.0.0",
      "model_name": "LayoutModel",
      "state": {}
     },
     "1fdc42cbbb994d27a808452dcff84c5e": {
      "model_module": "@jupyter-widgets/controls",
      "model_module_version": "2.0.0",
      "model_name": "HTMLStyleModel",
      "state": {
       "description_width": "",
       "font_size": null,
       "text_color": null
      }
     },
     "22dc0ada67064d16971203f2a8b97750": {
      "model_module": "@jupyter-widgets/base",
      "model_module_version": "2.0.0",
      "model_name": "LayoutModel",
      "state": {}
     },
     "26a7385f7f1f4209b73a83f38a0db05d": {
      "model_module": "@jupyter-widgets/controls",
      "model_module_version": "2.0.0",
      "model_name": "ProgressStyleModel",
      "state": {
       "description_width": ""
      }
     },
     "26bf1a9491324d40b88f87aaa5c1282c": {
      "model_module": "@jupyter-widgets/controls",
      "model_module_version": "2.0.0",
      "model_name": "HBoxModel",
      "state": {
       "children": [
        "IPY_MODEL_515329ab29d74205be2df3dc21752459",
        "IPY_MODEL_b52d7c9ea6a2426ebd2e4451d888cc30",
        "IPY_MODEL_3d9e12b92ef14c1681cb8288f2988c17"
       ],
       "layout": "IPY_MODEL_52ad508a908448bca5df9ce6340731cc"
      }
     },
     "29d8108720af47c2b5e00812f2ab8020": {
      "model_module": "@jupyter-widgets/controls",
      "model_module_version": "2.0.0",
      "model_name": "ProgressStyleModel",
      "state": {
       "description_width": ""
      }
     },
     "2bb1b8e5edb04c21abf467d5e3883b4a": {
      "model_module": "@jupyter-widgets/base",
      "model_module_version": "2.0.0",
      "model_name": "LayoutModel",
      "state": {}
     },
     "2bd9b764b4b449cab7403a54f983e87e": {
      "model_module": "@jupyter-widgets/controls",
      "model_module_version": "2.0.0",
      "model_name": "ProgressStyleModel",
      "state": {
       "description_width": ""
      }
     },
     "2c33d70c5a27421ea9fd49552a2c0353": {
      "model_module": "@jupyter-widgets/controls",
      "model_module_version": "2.0.0",
      "model_name": "FloatProgressModel",
      "state": {
       "layout": "IPY_MODEL_5a6b373b7d5b434d8b528b5127175d74",
       "max": 28,
       "style": "IPY_MODEL_31a17ebd1d8d45778ab1a140d265b64f",
       "value": 28
      }
     },
     "2cbd5e3568a3492a9712f2eb7a71a996": {
      "model_module": "@jupyter-widgets/controls",
      "model_module_version": "2.0.0",
      "model_name": "HTMLStyleModel",
      "state": {
       "description_width": "",
       "font_size": null,
       "text_color": null
      }
     },
     "31a17ebd1d8d45778ab1a140d265b64f": {
      "model_module": "@jupyter-widgets/controls",
      "model_module_version": "2.0.0",
      "model_name": "ProgressStyleModel",
      "state": {
       "description_width": ""
      }
     },
     "31fcbf37a93d44258b189c0a6bca037e": {
      "model_module": "@jupyter-widgets/controls",
      "model_module_version": "2.0.0",
      "model_name": "HTMLModel",
      "state": {
       "layout": "IPY_MODEL_2bb1b8e5edb04c21abf467d5e3883b4a",
       "style": "IPY_MODEL_6173bc4bc9124adea3611df2b61e67f2",
       "value": "notebook: 100%"
      }
     },
     "33af47f370714007833cd0c7d0b334eb": {
      "model_module": "@jupyter-widgets/controls",
      "model_module_version": "2.0.0",
      "model_name": "HTMLModel",
      "state": {
       "layout": "IPY_MODEL_e235df8696024c558eb9979a3b091819",
       "style": "IPY_MODEL_c016c3e9fc624964871cc8491d99d753",
       "value": " 20/23 [00:14&lt;00:01,  1.62cell/s]"
      }
     },
     "3550c21b84304bb3bc497ae101d9d2e4": {
      "model_module": "@jupyter-widgets/controls",
      "model_module_version": "2.0.0",
      "model_name": "HTMLModel",
      "state": {
       "layout": "IPY_MODEL_6c0273ee788248dcba9ef735d429643b",
       "style": "IPY_MODEL_0f39446b290447f088df17925635ad31",
       "value": " 18/19 [01:36&lt;00:05,  5.46s/cell]"
      }
     },
     "37ee2ac040a44e5d871da1d04b1b0610": {
      "model_module": "@jupyter-widgets/base",
      "model_module_version": "2.0.0",
      "model_name": "LayoutModel",
      "state": {
       "visibility": "hidden"
      }
     },
     "3b773becb184478e9f47941ae2257db3": {
      "model_module": "@jupyter-widgets/base",
      "model_module_version": "2.0.0",
      "model_name": "LayoutModel",
      "state": {}
     },
     "3d9e12b92ef14c1681cb8288f2988c17": {
      "model_module": "@jupyter-widgets/controls",
      "model_module_version": "2.0.0",
      "model_name": "HTMLModel",
      "state": {
       "layout": "IPY_MODEL_9708c46f8e464d139bc4ead3b3def232",
       "style": "IPY_MODEL_82f1946ab04d4d52920f6e51f71ee757",
       "value": " 14/23 [00:50&lt;01:08,  7.59s/cell]"
      }
     },
     "3f7c6d6587bc4ad4ac014f2a615f2af1": {
      "model_module": "@jupyter-widgets/base",
      "model_module_version": "2.0.0",
      "model_name": "LayoutModel",
      "state": {}
     },
     "412f07292e1b4936b3e2d3c63f3258a1": {
      "model_module": "@jupyter-widgets/controls",
      "model_module_version": "2.0.0",
      "model_name": "HTMLStyleModel",
      "state": {
       "description_width": "",
       "font_size": null,
       "text_color": null
      }
     },
     "429df5c432e1491d9325c281fbbdc05d": {
      "model_module": "@jupyter-widgets/controls",
      "model_module_version": "2.0.0",
      "model_name": "HTMLModel",
      "state": {
       "layout": "IPY_MODEL_8064cdebc6364f47900fb899b58ee792",
       "style": "IPY_MODEL_621ed644a14041a1bcd4bb560142c547",
       "value": "notebook: 100%"
      }
     },
     "452b0a4b86a642d9bc29125cffe52dbc": {
      "model_module": "@jupyter-widgets/controls",
      "model_module_version": "2.0.0",
      "model_name": "ProgressStyleModel",
      "state": {
       "description_width": ""
      }
     },
     "455033c157f44a29b06976096fc7233b": {
      "model_module": "@jupyter-widgets/controls",
      "model_module_version": "2.0.0",
      "model_name": "HTMLModel",
      "state": {
       "layout": "IPY_MODEL_86f68d5255ac425cb24d8407fa7be039",
       "style": "IPY_MODEL_d3a1cd9e671a41d08268028c3aae02e9",
       "value": "../nbout/PancakeSwap/10_baseline.ipynb:  89%"
      }
     },
     "471fef3d633b4136b0e9974bc4f68aae": {
      "model_module": "@jupyter-widgets/controls",
      "model_module_version": "2.0.0",
      "model_name": "HTMLStyleModel",
      "state": {
       "description_width": "",
       "font_size": null,
       "text_color": null
      }
     },
     "4a6df1fba3e8459c8600d19460306b71": {
      "model_module": "@jupyter-widgets/base",
      "model_module_version": "2.0.0",
      "model_name": "LayoutModel",
      "state": {
       "visibility": "hidden"
      }
     },
     "4a836f2c0cec49e4922a00640db1c0e4": {
      "model_module": "@jupyter-widgets/controls",
      "model_module_version": "2.0.0",
      "model_name": "HTMLStyleModel",
      "state": {
       "description_width": "",
       "font_size": null,
       "text_color": null
      }
     },
     "4a8b568d7b7b4563a45fc22e50fe6edf": {
      "model_module": "@jupyter-widgets/controls",
      "model_module_version": "2.0.0",
      "model_name": "ProgressStyleModel",
      "state": {
       "description_width": ""
      }
     },
     "50659f566c0d4211aa482e4d5c2cade7": {
      "model_module": "@jupyter-widgets/controls",
      "model_module_version": "2.0.0",
      "model_name": "FloatProgressModel",
      "state": {
       "layout": "IPY_MODEL_5ef6a82393ea4ca2bb264479d8064dba",
       "max": 28,
       "style": "IPY_MODEL_b83c143693364601a822ec9c9af054ef",
       "value": 28
      }
     },
     "515329ab29d74205be2df3dc21752459": {
      "model_module": "@jupyter-widgets/controls",
      "model_module_version": "2.0.0",
      "model_name": "HTMLModel",
      "state": {
       "layout": "IPY_MODEL_939be4d21cea4b1499ab9367937fb157",
       "style": "IPY_MODEL_0ff7398dcc7c4f0bb6d22aa31dd239b2",
       "value": "../nbout/Balancer/12_PLN_Similarity.ipynb:  61%"
      }
     },
     "521f74cd363448398288449306aeb6ff": {
      "model_module": "@jupyter-widgets/base",
      "model_module_version": "2.0.0",
      "model_name": "LayoutModel",
      "state": {}
     },
     "52ad508a908448bca5df9ce6340731cc": {
      "model_module": "@jupyter-widgets/base",
      "model_module_version": "2.0.0",
      "model_name": "LayoutModel",
      "state": {}
     },
     "53358cba3d5044bd94547fe22057066d": {
      "model_module": "@jupyter-widgets/controls",
      "model_module_version": "2.0.0",
      "model_name": "HBoxModel",
      "state": {
       "children": [
        "IPY_MODEL_06159d1283d54c81bdd9df42eb151acb",
        "IPY_MODEL_7e65357c5b5742a49676eca48ee1a961",
        "IPY_MODEL_ad4168a3e71d448889c205d972ea16ef"
       ],
       "layout": "IPY_MODEL_669b5a9d318e4a2a833c5e284e308c15"
      }
     },
     "5431c679216b4e78aea9011eec4dee61": {
      "model_module": "@jupyter-widgets/controls",
      "model_module_version": "2.0.0",
      "model_name": "HTMLStyleModel",
      "state": {
       "description_width": "",
       "font_size": null,
       "text_color": null
      }
     },
     "5494594dd1e84323ab47725c5ef1e3b1": {
      "model_module": "@jupyter-widgets/base",
      "model_module_version": "2.0.0",
      "model_name": "LayoutModel",
      "state": {}
     },
     "553bcbb0cbd34f15b73fbf6ef88c718e": {
      "model_module": "@jupyter-widgets/base",
      "model_module_version": "2.0.0",
      "model_name": "LayoutModel",
      "state": {}
     },
     "5581533abcb642c9a52c820f0bba8dbb": {
      "model_module": "@jupyter-widgets/controls",
      "model_module_version": "2.0.0",
      "model_name": "HTMLStyleModel",
      "state": {
       "description_width": "",
       "font_size": null,
       "text_color": null
      }
     },
     "58b1a4a246f84ee5b26cf5fc22087041": {
      "model_module": "@jupyter-widgets/controls",
      "model_module_version": "2.0.0",
      "model_name": "HTMLModel",
      "state": {
       "layout": "IPY_MODEL_b54f86d848474c138282b4c94d474766",
       "style": "IPY_MODEL_ec6ed273ff8c4770a2d1c0bc6dbcb054",
       "value": " 4/4 [07:12&lt;00:00, 92.88s/it, 12_PLN_Similarity.ipynb]"
      }
     },
     "59850baf187f4f388248ac994b1526ad": {
      "model_module": "@jupyter-widgets/controls",
      "model_module_version": "2.0.0",
      "model_name": "HTMLStyleModel",
      "state": {
       "description_width": "",
       "font_size": null,
       "text_color": null
      }
     },
     "5a6b373b7d5b434d8b528b5127175d74": {
      "model_module": "@jupyter-widgets/base",
      "model_module_version": "2.0.0",
      "model_name": "LayoutModel",
      "state": {}
     },
     "5d2866cf81424356b18bca3cfd85216e": {
      "model_module": "@jupyter-widgets/controls",
      "model_module_version": "2.0.0",
      "model_name": "HTMLModel",
      "state": {
       "layout": "IPY_MODEL_e49c8da585e14f6b87b7da20a0c7ba53",
       "style": "IPY_MODEL_723edeb367b4482bb72d35fd2060db27",
       "value": " 4/4 [01:22&lt;00:00, 19.45s/it, 12_PLN_Similarity.ipynb]"
      }
     },
     "5ebd4bf9f71e48f4889a8da3e56e6d9c": {
      "model_module": "@jupyter-widgets/base",
      "model_module_version": "2.0.0",
      "model_name": "LayoutModel",
      "state": {}
     },
     "5ef6a82393ea4ca2bb264479d8064dba": {
      "model_module": "@jupyter-widgets/base",
      "model_module_version": "2.0.0",
      "model_name": "LayoutModel",
      "state": {}
     },
     "6020f80ab13340a0ae533fc85cf39790": {
      "model_module": "@jupyter-widgets/controls",
      "model_module_version": "2.0.0",
      "model_name": "FloatProgressModel",
      "state": {
       "layout": "IPY_MODEL_c44eb29d826049869a9c345ecaa38e8f",
       "max": 37,
       "style": "IPY_MODEL_e831b5c3d5f849158581aa8998d4612f",
       "value": 37
      }
     },
     "607e1792816644c7b56f07bff445d92f": {
      "model_module": "@jupyter-widgets/controls",
      "model_module_version": "2.0.0",
      "model_name": "HTMLModel",
      "state": {
       "layout": "IPY_MODEL_553bcbb0cbd34f15b73fbf6ef88c718e",
       "style": "IPY_MODEL_5581533abcb642c9a52c820f0bba8dbb",
       "value": " 17/19 [05:02&lt;00:40, 20.34s/cell]"
      }
     },
     "6104a1d38dc94c45bad6598741b49b26": {
      "model_module": "@jupyter-widgets/controls",
      "model_module_version": "2.0.0",
      "model_name": "ProgressStyleModel",
      "state": {
       "description_width": ""
      }
     },
     "6173bc4bc9124adea3611df2b61e67f2": {
      "model_module": "@jupyter-widgets/controls",
      "model_module_version": "2.0.0",
      "model_name": "HTMLStyleModel",
      "state": {
       "description_width": "",
       "font_size": null,
       "text_color": null
      }
     },
     "621ed644a14041a1bcd4bb560142c547": {
      "model_module": "@jupyter-widgets/controls",
      "model_module_version": "2.0.0",
      "model_name": "HTMLStyleModel",
      "state": {
       "description_width": "",
       "font_size": null,
       "text_color": null
      }
     },
     "6515fcfb17ba499aa8efe573eaaff680": {
      "model_module": "@jupyter-widgets/controls",
      "model_module_version": "2.0.0",
      "model_name": "HTMLModel",
      "state": {
       "layout": "IPY_MODEL_71be925a6482417a9fc4110a7f878faf",
       "style": "IPY_MODEL_6bcf20a049344a46be75938af4a27942",
       "value": "../nbout/Decentraland/01_explore.ipynb: 100%"
      }
     },
     "65e8ef5cb5634275b56d2bc07510b7b6": {
      "model_module": "@jupyter-widgets/controls",
      "model_module_version": "2.0.0",
      "model_name": "FloatProgressModel",
      "state": {
       "bar_style": "danger",
       "layout": "IPY_MODEL_fc61ae37cfbc4036b4c513be11a84a0e",
       "max": 4,
       "style": "IPY_MODEL_f39d51a8b077411a9daa0b9b20b6217d",
       "value": 3
      }
     },
     "669b5a9d318e4a2a833c5e284e308c15": {
      "model_module": "@jupyter-widgets/base",
      "model_module_version": "2.0.0",
      "model_name": "LayoutModel",
      "state": {}
     },
     "68ccd7661c044c0399dbe3468e295f6b": {
      "model_module": "@jupyter-widgets/base",
      "model_module_version": "2.0.0",
      "model_name": "LayoutModel",
      "state": {}
     },
     "69d01848fc9d447089e302c3565082a4": {
      "model_module": "@jupyter-widgets/base",
      "model_module_version": "2.0.0",
      "model_name": "LayoutModel",
      "state": {
       "visibility": "hidden"
      }
     },
     "6b3ca6a34f574904b2beee6efbf95686": {
      "model_module": "@jupyter-widgets/base",
      "model_module_version": "2.0.0",
      "model_name": "LayoutModel",
      "state": {}
     },
     "6bcf20a049344a46be75938af4a27942": {
      "model_module": "@jupyter-widgets/controls",
      "model_module_version": "2.0.0",
      "model_name": "HTMLStyleModel",
      "state": {
       "description_width": "",
       "font_size": null,
       "text_color": null
      }
     },
     "6c0273ee788248dcba9ef735d429643b": {
      "model_module": "@jupyter-widgets/base",
      "model_module_version": "2.0.0",
      "model_name": "LayoutModel",
      "state": {}
     },
     "715928f87fc44a78a282c6f6a2f3b7bc": {
      "model_module": "@jupyter-widgets/controls",
      "model_module_version": "2.0.0",
      "model_name": "HTMLModel",
      "state": {
       "layout": "IPY_MODEL_c10edddd01984d738257da38f759e0ef",
       "style": "IPY_MODEL_c9d389472c154850aeae28edf0131e59",
       "value": "../nbout/Balancer/01_explore.ipynb: 100%"
      }
     },
     "71be925a6482417a9fc4110a7f878faf": {
      "model_module": "@jupyter-widgets/base",
      "model_module_version": "2.0.0",
      "model_name": "LayoutModel",
      "state": {}
     },
     "723edeb367b4482bb72d35fd2060db27": {
      "model_module": "@jupyter-widgets/controls",
      "model_module_version": "2.0.0",
      "model_name": "HTMLStyleModel",
      "state": {
       "description_width": "",
       "font_size": null,
       "text_color": null
      }
     },
     "72d114a9cfce4647ae84a291df222bcc": {
      "model_module": "@jupyter-widgets/controls",
      "model_module_version": "2.0.0",
      "model_name": "HTMLStyleModel",
      "state": {
       "description_width": "",
       "font_size": null,
       "text_color": null
      }
     },
     "775cc958d2574a01b1b2e4c64e27777f": {
      "model_module": "@jupyter-widgets/controls",
      "model_module_version": "2.0.0",
      "model_name": "HTMLModel",
      "state": {
       "layout": "IPY_MODEL_db17769059b542719558777839517118",
       "style": "IPY_MODEL_2cbd5e3568a3492a9712f2eb7a71a996",
       "value": " 33/37 [00:14&lt;00:01,  3.77cell/s]"
      }
     },
     "79b4f9171a57407f88d2b879579d4c7c": {
      "model_module": "@jupyter-widgets/base",
      "model_module_version": "2.0.0",
      "model_name": "LayoutModel",
      "state": {}
     },
     "7a4e441470374ad7a3e952b25c9c53e0": {
      "model_module": "@jupyter-widgets/controls",
      "model_module_version": "2.0.0",
      "model_name": "HBoxModel",
      "state": {
       "children": [
        "IPY_MODEL_8944eb3fcdc146718d074b78122b829f",
        "IPY_MODEL_65e8ef5cb5634275b56d2bc07510b7b6",
        "IPY_MODEL_bc8550d908e9421fa6e82735de358a76"
       ],
       "layout": "IPY_MODEL_c1c3cbfbfdde46b8961595f2baf2ea67"
      }
     },
     "7b49704d162c47308d4f0ac2ea644a0a": {
      "model_module": "@jupyter-widgets/base",
      "model_module_version": "2.0.0",
      "model_name": "LayoutModel",
      "state": {}
     },
     "7d09b161caea46f6869e867d1d061e3e": {
      "model_module": "@jupyter-widgets/base",
      "model_module_version": "2.0.0",
      "model_name": "LayoutModel",
      "state": {}
     },
     "7e65357c5b5742a49676eca48ee1a961": {
      "model_module": "@jupyter-widgets/controls",
      "model_module_version": "2.0.0",
      "model_name": "FloatProgressModel",
      "state": {
       "bar_style": "danger",
       "layout": "IPY_MODEL_f1c80adf8bf744ad8a206814162becce",
       "max": 15,
       "style": "IPY_MODEL_f3a4c197c5324c4dbb9381558a59fb5f",
       "value": 2
      }
     },
     "7edf593147c446dca82097fc26a871b7": {
      "model_module": "@jupyter-widgets/controls",
      "model_module_version": "2.0.0",
      "model_name": "ProgressStyleModel",
      "state": {
       "description_width": ""
      }
     },
     "805326efd46e46a39b4cf662b92af583": {
      "model_module": "@jupyter-widgets/controls",
      "model_module_version": "2.0.0",
      "model_name": "HTMLModel",
      "state": {
       "layout": "IPY_MODEL_3f7c6d6587bc4ad4ac014f2a615f2af1",
       "style": "IPY_MODEL_e16a78144be64f95a6f362ec9d6a27a8",
       "value": "../nbout/PancakeSwap/12_PLN_Similarity.ipynb:  87%"
      }
     },
     "8064cdebc6364f47900fb899b58ee792": {
      "model_module": "@jupyter-widgets/base",
      "model_module_version": "2.0.0",
      "model_name": "LayoutModel",
      "state": {}
     },
     "8230c425d24b49f8ae07985e53fcdf3d": {
      "model_module": "@jupyter-widgets/base",
      "model_module_version": "2.0.0",
      "model_name": "LayoutModel",
      "state": {
       "visibility": "hidden"
      }
     },
     "82f1946ab04d4d52920f6e51f71ee757": {
      "model_module": "@jupyter-widgets/controls",
      "model_module_version": "2.0.0",
      "model_name": "HTMLStyleModel",
      "state": {
       "description_width": "",
       "font_size": null,
       "text_color": null
      }
     },
     "83448b76d9544d73adc8cc59bed347d9": {
      "model_module": "@jupyter-widgets/base",
      "model_module_version": "2.0.0",
      "model_name": "LayoutModel",
      "state": {
       "visibility": "hidden"
      }
     },
     "8477cccb08ce489ebe417f35eadf8861": {
      "model_module": "@jupyter-widgets/controls",
      "model_module_version": "2.0.0",
      "model_name": "ProgressStyleModel",
      "state": {
       "description_width": ""
      }
     },
     "8493938ccf1d4ea0a6cc89de36b8ee33": {
      "model_module": "@jupyter-widgets/base",
      "model_module_version": "2.0.0",
      "model_name": "LayoutModel",
      "state": {}
     },
     "85ea16dcef8a4717b360388e87183a2e": {
      "model_module": "@jupyter-widgets/base",
      "model_module_version": "2.0.0",
      "model_name": "LayoutModel",
      "state": {}
     },
     "86f68d5255ac425cb24d8407fa7be039": {
      "model_module": "@jupyter-widgets/base",
      "model_module_version": "2.0.0",
      "model_name": "LayoutModel",
      "state": {}
     },
     "8795ac265cdc48d99609e76a599c4bb7": {
      "model_module": "@jupyter-widgets/base",
      "model_module_version": "2.0.0",
      "model_name": "LayoutModel",
      "state": {}
     },
     "8944eb3fcdc146718d074b78122b829f": {
      "model_module": "@jupyter-widgets/controls",
      "model_module_version": "2.0.0",
      "model_name": "HTMLModel",
      "state": {
       "layout": "IPY_MODEL_8493938ccf1d4ea0a6cc89de36b8ee33",
       "style": "IPY_MODEL_4a836f2c0cec49e4922a00640db1c0e4",
       "value": "notebook:  75%"
      }
     },
     "8a6500348a744ad7ac587a0d82d13075": {
      "model_module": "@jupyter-widgets/base",
      "model_module_version": "2.0.0",
      "model_name": "LayoutModel",
      "state": {
       "visibility": "hidden"
      }
     },
     "8f71321ef59648529dbc20965cade107": {
      "model_module": "@jupyter-widgets/base",
      "model_module_version": "2.0.0",
      "model_name": "LayoutModel",
      "state": {}
     },
     "905cc12e45194d0b8613760cc40628ab": {
      "model_module": "@jupyter-widgets/controls",
      "model_module_version": "2.0.0",
      "model_name": "HTMLStyleModel",
      "state": {
       "description_width": "",
       "font_size": null,
       "text_color": null
      }
     },
     "927c55a6bddb4423b5a47e9f986b2226": {
      "model_module": "@jupyter-widgets/controls",
      "model_module_version": "2.0.0",
      "model_name": "FloatProgressModel",
      "state": {
       "layout": "IPY_MODEL_17b0fd566c4245c2acd3aeb4038444b8",
       "max": 19,
       "style": "IPY_MODEL_4a8b568d7b7b4563a45fc22e50fe6edf",
       "value": 19
      }
     },
     "939be4d21cea4b1499ab9367937fb157": {
      "model_module": "@jupyter-widgets/base",
      "model_module_version": "2.0.0",
      "model_name": "LayoutModel",
      "state": {}
     },
     "93e7bdba27a9429f9ea9c3e03ea4e1ab": {
      "model_module": "@jupyter-widgets/base",
      "model_module_version": "2.0.0",
      "model_name": "LayoutModel",
      "state": {
       "visibility": "hidden"
      }
     },
     "963715ef71774e1091c9218dced1fbe7": {
      "model_module": "@jupyter-widgets/controls",
      "model_module_version": "2.0.0",
      "model_name": "HTMLModel",
      "state": {
       "layout": "IPY_MODEL_8f71321ef59648529dbc20965cade107",
       "style": "IPY_MODEL_b62f368640ae4b14bb9ce5a0df406d7a",
       "value": " 17/19 [00:45&lt;00:06,  3.01s/cell]"
      }
     },
     "9708c46f8e464d139bc4ead3b3def232": {
      "model_module": "@jupyter-widgets/base",
      "model_module_version": "2.0.0",
      "model_name": "LayoutModel",
      "state": {}
     },
     "972d2ba2034e4d6b9d856ea0776b8cc8": {
      "model_module": "@jupyter-widgets/controls",
      "model_module_version": "2.0.0",
      "model_name": "HTMLModel",
      "state": {
       "layout": "IPY_MODEL_5494594dd1e84323ab47725c5ef1e3b1",
       "style": "IPY_MODEL_1cbeb1c34dd9473b9c1939e91bca6570",
       "value": "../nbout/PancakeSwap/01_explore.ipynb: 100%"
      }
     },
     "984dcf189ab948a79d3c9d601cfb54c5": {
      "model_module": "@jupyter-widgets/controls",
      "model_module_version": "2.0.0",
      "model_name": "HTMLStyleModel",
      "state": {
       "description_width": "",
       "font_size": null,
       "text_color": null
      }
     },
     "98b406005a5f46f484cbcdcc30ccb8f3": {
      "model_module": "@jupyter-widgets/controls",
      "model_module_version": "2.0.0",
      "model_name": "HTMLStyleModel",
      "state": {
       "description_width": "",
       "font_size": null,
       "text_color": null
      }
     },
     "9ca1b8369d7f459c9117a7fc80988f5f": {
      "model_module": "@jupyter-widgets/base",
      "model_module_version": "2.0.0",
      "model_name": "LayoutModel",
      "state": {}
     },
     "9ee7fa9d8ab3445c82f2366b143442c5": {
      "model_module": "@jupyter-widgets/controls",
      "model_module_version": "2.0.0",
      "model_name": "FloatProgressModel",
      "state": {
       "layout": "IPY_MODEL_185b28efc3a848769d2405118f2aea35",
       "max": 4,
       "style": "IPY_MODEL_6104a1d38dc94c45bad6598741b49b26",
       "value": 4
      }
     },
     "a118d45127ee40ad8d0a8e0ed688e161": {
      "model_module": "@jupyter-widgets/controls",
      "model_module_version": "2.0.0",
      "model_name": "FloatProgressModel",
      "state": {
       "layout": "IPY_MODEL_0160c031767840379d477f130c79af9a",
       "max": 37,
       "style": "IPY_MODEL_2bd9b764b4b449cab7403a54f983e87e",
       "value": 37
      }
     },
     "a37aa3d03f5046488f4d228c736f66a7": {
      "model_module": "@jupyter-widgets/controls",
      "model_module_version": "2.0.0",
      "model_name": "FloatProgressModel",
      "state": {
       "layout": "IPY_MODEL_8795ac265cdc48d99609e76a599c4bb7",
       "max": 23,
       "style": "IPY_MODEL_7edf593147c446dca82097fc26a871b7",
       "value": 23
      }
     },
     "a657e04d4f204417891c314c225063f0": {
      "model_module": "@jupyter-widgets/base",
      "model_module_version": "2.0.0",
      "model_name": "LayoutModel",
      "state": {}
     },
     "a8029c80038841b683ee04e5eeb798d4": {
      "model_module": "@jupyter-widgets/base",
      "model_module_version": "2.0.0",
      "model_name": "LayoutModel",
      "state": {}
     },
     "a97955cd5d964ce3a1d070e1eb846e69": {
      "model_module": "@jupyter-widgets/controls",
      "model_module_version": "2.0.0",
      "model_name": "FloatProgressModel",
      "state": {
       "layout": "IPY_MODEL_7b49704d162c47308d4f0ac2ea644a0a",
       "max": 28,
       "style": "IPY_MODEL_452b0a4b86a642d9bc29125cffe52dbc",
       "value": 28
      }
     },
     "ac7323167dc14af1a360dc48e8d3011a": {
      "model_module": "@jupyter-widgets/controls",
      "model_module_version": "2.0.0",
      "model_name": "HTMLModel",
      "state": {
       "layout": "IPY_MODEL_68ccd7661c044c0399dbe3468e295f6b",
       "style": "IPY_MODEL_e5750dea05cc40e8a632c74494f8ca1d",
       "value": "../nbout/Balancer/11_CF_KNN.ipynb:  89%"
      }
     },
     "ad4168a3e71d448889c205d972ea16ef": {
      "model_module": "@jupyter-widgets/controls",
      "model_module_version": "2.0.0",
      "model_name": "HTMLModel",
      "state": {
       "layout": "IPY_MODEL_a657e04d4f204417891c314c225063f0",
       "style": "IPY_MODEL_905cc12e45194d0b8613760cc40628ab",
       "value": " 2/15 [11:32&lt;1:02:24, 288.03s/it, Balancer]"
      }
     },
     "ae66a88afe0045d992587a51492f783c": {
      "model_module": "@jupyter-widgets/base",
      "model_module_version": "2.0.0",
      "model_name": "LayoutModel",
      "state": {
       "visibility": "hidden"
      }
     },
     "b52d7c9ea6a2426ebd2e4451d888cc30": {
      "model_module": "@jupyter-widgets/controls",
      "model_module_version": "2.0.0",
      "model_name": "FloatProgressModel",
      "state": {
       "bar_style": "danger",
       "layout": "IPY_MODEL_5ebd4bf9f71e48f4889a8da3e56e6d9c",
       "max": 23,
       "style": "IPY_MODEL_faedb84adc2446e89ed60afba4fac82e",
       "value": 14
      }
     },
     "b54f86d848474c138282b4c94d474766": {
      "model_module": "@jupyter-widgets/base",
      "model_module_version": "2.0.0",
      "model_name": "LayoutModel",
      "state": {}
     },
     "b62f368640ae4b14bb9ce5a0df406d7a": {
      "model_module": "@jupyter-widgets/controls",
      "model_module_version": "2.0.0",
      "model_name": "HTMLStyleModel",
      "state": {
       "description_width": "",
       "font_size": null,
       "text_color": null
      }
     },
     "b83c143693364601a822ec9c9af054ef": {
      "model_module": "@jupyter-widgets/controls",
      "model_module_version": "2.0.0",
      "model_name": "ProgressStyleModel",
      "state": {
       "description_width": ""
      }
     },
     "b993d6d8a633438688f46b99002a54b8": {
      "model_module": "@jupyter-widgets/controls",
      "model_module_version": "2.0.0",
      "model_name": "FloatProgressModel",
      "state": {
       "layout": "IPY_MODEL_10040c51dfcd4b088fd46f08b5ec3d84",
       "max": 4,
       "style": "IPY_MODEL_edf8f35fa90e49d69c5803a5ab2c2aab",
       "value": 4
      }
     },
     "bc1dc322150940c7a51c8b10954b87ba": {
      "model_module": "@jupyter-widgets/base",
      "model_module_version": "2.0.0",
      "model_name": "LayoutModel",
      "state": {}
     },
     "bc8550d908e9421fa6e82735de358a76": {
      "model_module": "@jupyter-widgets/controls",
      "model_module_version": "2.0.0",
      "model_name": "HTMLModel",
      "state": {
       "layout": "IPY_MODEL_22dc0ada67064d16971203f2a8b97750",
       "style": "IPY_MODEL_ecde541faab74c68852f67ead2740254",
       "value": " 3/4 [02:57&lt;00:41, 41.20s/it, 12_PLN_Similarity.ipynb]"
      }
     },
     "bd54b6b6a5af4a39a1c5eff3bd6fc466": {
      "model_module": "@jupyter-widgets/controls",
      "model_module_version": "2.0.0",
      "model_name": "FloatProgressModel",
      "state": {
       "layout": "IPY_MODEL_e27ba7020dd74e67b18b2287b9ef1e6b",
       "max": 37,
       "style": "IPY_MODEL_26a7385f7f1f4209b73a83f38a0db05d",
       "value": 37
      }
     },
     "beedfaf206ff4809a374754884cbfe9a": {
      "model_module": "@jupyter-widgets/base",
      "model_module_version": "2.0.0",
      "model_name": "LayoutModel",
      "state": {
       "visibility": "hidden"
      }
     },
     "c016c3e9fc624964871cc8491d99d753": {
      "model_module": "@jupyter-widgets/controls",
      "model_module_version": "2.0.0",
      "model_name": "HTMLStyleModel",
      "state": {
       "description_width": "",
       "font_size": null,
       "text_color": null
      }
     },
     "c10edddd01984d738257da38f759e0ef": {
      "model_module": "@jupyter-widgets/base",
      "model_module_version": "2.0.0",
      "model_name": "LayoutModel",
      "state": {}
     },
     "c1c3cbfbfdde46b8961595f2baf2ea67": {
      "model_module": "@jupyter-widgets/base",
      "model_module_version": "2.0.0",
      "model_name": "LayoutModel",
      "state": {}
     },
     "c41ca21d463f4a3bb007cba34112ea5c": {
      "model_module": "@jupyter-widgets/base",
      "model_module_version": "2.0.0",
      "model_name": "LayoutModel",
      "state": {}
     },
     "c44eb29d826049869a9c345ecaa38e8f": {
      "model_module": "@jupyter-widgets/base",
      "model_module_version": "2.0.0",
      "model_name": "LayoutModel",
      "state": {}
     },
     "c5cdfed183654f50a3e61af90219c3de": {
      "model_module": "@jupyter-widgets/base",
      "model_module_version": "2.0.0",
      "model_name": "LayoutModel",
      "state": {}
     },
     "c7c883da163f4308ae77fde1859395cf": {
      "model_module": "@jupyter-widgets/controls",
      "model_module_version": "2.0.0",
      "model_name": "HTMLModel",
      "state": {
       "layout": "IPY_MODEL_c41ca21d463f4a3bb007cba34112ea5c",
       "style": "IPY_MODEL_1fdc42cbbb994d27a808452dcff84c5e",
       "value": " 28/28 [00:46&lt;00:00,  2.46cell/s]"
      }
     },
     "c9d389472c154850aeae28edf0131e59": {
      "model_module": "@jupyter-widgets/controls",
      "model_module_version": "2.0.0",
      "model_name": "HTMLStyleModel",
      "state": {
       "description_width": "",
       "font_size": null,
       "text_color": null
      }
     },
     "cfaa5baef36741619a6ce7993837568f": {
      "model_module": "@jupyter-widgets/base",
      "model_module_version": "2.0.0",
      "model_name": "LayoutModel",
      "state": {}
     },
     "d13c9b5ff47342fea821e5cb3515b679": {
      "model_module": "@jupyter-widgets/controls",
      "model_module_version": "2.0.0",
      "model_name": "HTMLModel",
      "state": {
       "layout": "IPY_MODEL_7d09b161caea46f6869e867d1d061e3e",
       "style": "IPY_MODEL_59850baf187f4f388248ac994b1526ad",
       "value": " 28/28 [00:14&lt;00:00,  5.43cell/s]"
      }
     },
     "d2e992d45bea4eb7b1f2f4b596aba0f1": {
      "model_module": "@jupyter-widgets/controls",
      "model_module_version": "2.0.0",
      "model_name": "HTMLModel",
      "state": {
       "layout": "IPY_MODEL_9ca1b8369d7f459c9117a7fc80988f5f",
       "style": "IPY_MODEL_5431c679216b4e78aea9011eec4dee61",
       "value": "../nbout/PancakeSwap/11_CF_KNN.ipynb: 100%"
      }
     },
     "d3a1cd9e671a41d08268028c3aae02e9": {
      "model_module": "@jupyter-widgets/controls",
      "model_module_version": "2.0.0",
      "model_name": "HTMLStyleModel",
      "state": {
       "description_width": "",
       "font_size": null,
       "text_color": null
      }
     },
     "d5860756789149d6a25d60f4c19a0cd5": {
      "model_module": "@jupyter-widgets/controls",
      "model_module_version": "2.0.0",
      "model_name": "FloatProgressModel",
      "state": {
       "layout": "IPY_MODEL_1713b7598fe240979ec0037904a1521f",
       "max": 23,
       "style": "IPY_MODEL_8477cccb08ce489ebe417f35eadf8861",
       "value": 23
      }
     },
     "d5a0c350e7d84c9abe29850a103b0e2d": {
      "model_module": "@jupyter-widgets/controls",
      "model_module_version": "2.0.0",
      "model_name": "HTMLModel",
      "state": {
       "layout": "IPY_MODEL_cfaa5baef36741619a6ce7993837568f",
       "style": "IPY_MODEL_1b5d9463ebdf44ab90ca443a55044641",
       "value": "../nbout/Decentraland/11_CF_KNN.ipynb:  95%"
      }
     },
     "db17769059b542719558777839517118": {
      "model_module": "@jupyter-widgets/base",
      "model_module_version": "2.0.0",
      "model_name": "LayoutModel",
      "state": {}
     },
     "dbed005b2a1a4ffdae07f3dcbea7788b": {
      "model_module": "@jupyter-widgets/controls",
      "model_module_version": "2.0.0",
      "model_name": "HTMLStyleModel",
      "state": {
       "description_width": "",
       "font_size": null,
       "text_color": null
      }
     },
     "e16a78144be64f95a6f362ec9d6a27a8": {
      "model_module": "@jupyter-widgets/controls",
      "model_module_version": "2.0.0",
      "model_name": "HTMLStyleModel",
      "state": {
       "description_width": "",
       "font_size": null,
       "text_color": null
      }
     },
     "e1da4db99ee14b9d87f98b473f74463e": {
      "model_module": "@jupyter-widgets/controls",
      "model_module_version": "2.0.0",
      "model_name": "HTMLModel",
      "state": {
       "layout": "IPY_MODEL_79b4f9171a57407f88d2b879579d4c7c",
       "style": "IPY_MODEL_dbed005b2a1a4ffdae07f3dcbea7788b",
       "value": " 28/28 [00:07&lt;00:00,  8.14cell/s]"
      }
     },
     "e235df8696024c558eb9979a3b091819": {
      "model_module": "@jupyter-widgets/base",
      "model_module_version": "2.0.0",
      "model_name": "LayoutModel",
      "state": {}
     },
     "e27ba7020dd74e67b18b2287b9ef1e6b": {
      "model_module": "@jupyter-widgets/base",
      "model_module_version": "2.0.0",
      "model_name": "LayoutModel",
      "state": {}
     },
     "e49c8da585e14f6b87b7da20a0c7ba53": {
      "model_module": "@jupyter-widgets/base",
      "model_module_version": "2.0.0",
      "model_name": "LayoutModel",
      "state": {}
     },
     "e4b1b43f4d4e444f96ac33ea1a7c152c": {
      "model_module": "@jupyter-widgets/controls",
      "model_module_version": "2.0.0",
      "model_name": "HTMLModel",
      "state": {
       "layout": "IPY_MODEL_1d578f85a4854b6f941608f0ba38ff6b",
       "style": "IPY_MODEL_72d114a9cfce4647ae84a291df222bcc",
       "value": "../nbout/Decentraland/12_PLN_Similarity.ipynb:  87%"
      }
     },
     "e5750dea05cc40e8a632c74494f8ca1d": {
      "model_module": "@jupyter-widgets/controls",
      "model_module_version": "2.0.0",
      "model_name": "HTMLStyleModel",
      "state": {
       "description_width": "",
       "font_size": null,
       "text_color": null
      }
     },
     "e637f9c54e354ee982110f0196cd37db": {
      "model_module": "@jupyter-widgets/controls",
      "model_module_version": "2.0.0",
      "model_name": "HTMLModel",
      "state": {
       "layout": "IPY_MODEL_3b773becb184478e9f47941ae2257db3",
       "style": "IPY_MODEL_98b406005a5f46f484cbcdcc30ccb8f3",
       "value": " 37/37 [00:34&lt;00:00,  2.86cell/s]"
      }
     },
     "e831b5c3d5f849158581aa8998d4612f": {
      "model_module": "@jupyter-widgets/controls",
      "model_module_version": "2.0.0",
      "model_name": "ProgressStyleModel",
      "state": {
       "description_width": ""
      }
     },
     "ec6ed273ff8c4770a2d1c0bc6dbcb054": {
      "model_module": "@jupyter-widgets/controls",
      "model_module_version": "2.0.0",
      "model_name": "HTMLStyleModel",
      "state": {
       "description_width": "",
       "font_size": null,
       "text_color": null
      }
     },
     "ecde541faab74c68852f67ead2740254": {
      "model_module": "@jupyter-widgets/controls",
      "model_module_version": "2.0.0",
      "model_name": "HTMLStyleModel",
      "state": {
       "description_width": "",
       "font_size": null,
       "text_color": null
      }
     },
     "edf8f35fa90e49d69c5803a5ab2c2aab": {
      "model_module": "@jupyter-widgets/controls",
      "model_module_version": "2.0.0",
      "model_name": "ProgressStyleModel",
      "state": {
       "description_width": ""
      }
     },
     "f1c80adf8bf744ad8a206814162becce": {
      "model_module": "@jupyter-widgets/base",
      "model_module_version": "2.0.0",
      "model_name": "LayoutModel",
      "state": {}
     },
     "f39d51a8b077411a9daa0b9b20b6217d": {
      "model_module": "@jupyter-widgets/controls",
      "model_module_version": "2.0.0",
      "model_name": "ProgressStyleModel",
      "state": {
       "description_width": ""
      }
     },
     "f3a4c197c5324c4dbb9381558a59fb5f": {
      "model_module": "@jupyter-widgets/controls",
      "model_module_version": "2.0.0",
      "model_name": "ProgressStyleModel",
      "state": {
       "description_width": ""
      }
     },
     "f52722c8348b49fc8d3e521bb242943e": {
      "model_module": "@jupyter-widgets/controls",
      "model_module_version": "2.0.0",
      "model_name": "HTMLStyleModel",
      "state": {
       "description_width": "",
       "font_size": null,
       "text_color": null
      }
     },
     "f8a478fde5cd4033b2e5137508f19f51": {
      "model_module": "@jupyter-widgets/base",
      "model_module_version": "2.0.0",
      "model_name": "LayoutModel",
      "state": {}
     },
     "faedb84adc2446e89ed60afba4fac82e": {
      "model_module": "@jupyter-widgets/controls",
      "model_module_version": "2.0.0",
      "model_name": "ProgressStyleModel",
      "state": {
       "description_width": ""
      }
     },
     "fc61ae37cfbc4036b4c513be11a84a0e": {
      "model_module": "@jupyter-widgets/base",
      "model_module_version": "2.0.0",
      "model_name": "LayoutModel",
      "state": {}
     }
    },
    "version_major": 2,
    "version_minor": 0
   }
  }
 },
 "nbformat": 4,
 "nbformat_minor": 5
}
