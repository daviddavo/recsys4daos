{
 "cells": [
  {
   "cell_type": "code",
   "execution_count": null,
   "id": "cbd76dd7-fa42-404b-8f31-fe769918e9e8",
   "metadata": {
    "editable": true,
    "slideshow": {
     "slide_type": ""
    },
    "tags": []
   },
   "outputs": [],
   "source": [
    "import re\n",
    "from pathlib import Path\n",
    "from typing import Any\n",
    "from dataclasses import asdict\n",
    "\n",
    "import numpy as np\n",
    "import pandas as pd\n",
    "\n",
    "from tqdm.autonotebook import tqdm\n",
    "import papermill as pm\n",
    "\n",
    "from recsys4daos.utils.notebooks import run_dao_notebook, DaoToRun\n",
    "\n",
    "import paths"
   ]
  },
  {
   "cell_type": "code",
   "execution_count": null,
   "id": "ed8b1aa5-c3b8-439b-b74e-d66642a81d96",
   "metadata": {
    "editable": true,
    "slideshow": {
     "slide_type": ""
    },
    "tags": []
   },
   "outputs": [],
   "source": [
    "all_notebooks = Path('.').glob('*.ipynb')\n",
    "run_notebooks = sorted(p for p in all_notebooks if re.match(r'\\d+_', p.name))\n",
    "run_notebooks"
   ]
  },
  {
   "cell_type": "code",
   "execution_count": null,
   "id": "6fdeadd6-6054-4d86-8eb5-c11e20edf41c",
   "metadata": {
    "editable": true,
    "slideshow": {
     "slide_type": ""
    },
    "tags": []
   },
   "outputs": [],
   "source": [
    "OUTPUT_PATH: str = '../nbout/'\n",
    "EXECUTION_ID: str = '2024-09-24T10:00'"
   ]
  },
  {
   "cell_type": "markdown",
   "id": "538597de-9c7d-496d-b69f-beef31305b99",
   "metadata": {},
   "source": [
    "First, we define which DAOs we want to run the analysis in, and which of them will the recommenders be run."
   ]
  },
  {
   "cell_type": "code",
   "execution_count": null,
   "id": "9e569d9e-45b5-4ea1-b67e-12e71261f87d",
   "metadata": {
    "editable": true,
    "slideshow": {
     "slide_type": ""
    },
    "tags": []
   },
   "outputs": [],
   "source": [
    "ALL_DAOS: list[DaoToRun] = [\n",
    "    DaoToRun(\n",
    "        org_name='Decentraland',\n",
    "        splits_freq='W-THU',\n",
    "        run_until_nb=99,\n",
    "        last_fold_date='2023-07-13',\n",
    "    ),\n",
    "    DaoToRun(\n",
    "        org_name='HausDao Warcamp',\n",
    "        run_until_nb=10,\n",
    "        comment='There are no ten succesive folds with open proposals',\n",
    "    ),\n",
    "    DaoToRun(\n",
    "        org_name='PancakeSwap',\n",
    "        splits_freq='3d',\n",
    "        last_fold_date='2023-06-27',\n",
    "        run_until_nb=99,\n",
    "        extra_hparams={\n",
    "            'MAX_BATCH_SIZE': 9, # 512\n",
    "        },\n",
    "    ),\n",
    "    DaoToRun(\n",
    "        org_name='Balancer',\n",
    "        run_until_nb=19,\n",
    "        splits_freq='3d',\n",
    "        comment='There are no ten succesive folds with open proposals, see 10_baseline.ipynb',\n",
    "    ),\n",
    "    DaoToRun(\n",
    "        org_name='DEAD FoundationsDAO',\n",
    "        run_until_nb=99,\n",
    "        splits_freq='2d',\n",
    "        last_fold_date='2021-11-28',\n",
    "        last_folds=20,\n",
    "        extra_hparams={\n",
    "            'MAX_BATCH_SIZE': 9, # 512\n",
    "            'GPUS': 32,\n",
    "        },\n",
    "    ),\n",
    "    DaoToRun(\n",
    "        org_name='MetaCartel - MetaCartel Ventures',\n",
    "        run_until_nb=99,\n",
    "        splits_freq='W-THU',\n",
    "        last_fold_date=\"2022-01-06\",\n",
    "    ),\n",
    "    # Literally two users\n",
    "    # DaoToRun(\n",
    "    #     org_name='DAOSquare Grants',\n",
    "    #     # Wont run more because it has about 1vpp\n",
    "    #     # and worked for about one week\n",
    "    #     run_until_nb=10,\n",
    "    #     splits_freq='W-FRI',\n",
    "    #     last_fold_date='2021-07-02',\n",
    "    # ),\n",
    "    DaoToRun(\n",
    "        org_name='Genesis Alpha',\n",
    "        run_until_nb=99,\n",
    "        last_fold_date='2019-12-04',\n",
    "    ),\n",
    "    DaoToRun(\n",
    "        org_name='NFTX',\n",
    "        run_until_nb=1,\n",
    "        splits_freq='W-THU',\n",
    "        last_fold_date=\"2021-08-26\",\n",
    "        comment=\"Some proposals have votes after they were closed\",\n",
    "    ),\n",
    "    DaoToRun(\n",
    "        org_name='HUWA-DAO',\n",
    "        run_until_nb=99,\n",
    "        splits_freq='2d',\n",
    "        last_fold_date=\"2021-11-13\",\n",
    "        last_folds=6,\n",
    "    ),\n",
    "    DaoToRun(\n",
    "        org_name='Index Coop',\n",
    "        run_until_nb=99,\n",
    "        splits_freq='W-THU',\n",
    "        last_fold_date='2023-07-13',\n",
    "    ),\n",
    "    DaoToRun(\n",
    "        org_name='Lido',\n",
    "        run_until_nb=99,\n",
    "        splits_freq='W-WED',\n",
    "        last_fold_date=\"2022-07-06\",\n",
    "        comment=\"It is not in the top 20 DAOs and it has just 223 proposals. Will not run GNN on it.\",\n",
    "    ),\n",
    "    # Too few users\n",
    "    # DaoToRun(\n",
    "    #     org_name='Plaza',\n",
    "    #     run_until_nb=19,\n",
    "    #     splits_freq='3d',\n",
    "    #     last_folds=20,\n",
    "    #     last_fold_date=\"2022-06-29\",\n",
    "    # ),\n",
    "    DaoToRun(\n",
    "        org_name='SharkDAO',\n",
    "        run_until_nb=99,\n",
    "        splits_freq='3d',\n",
    "        last_folds=10,\n",
    "        last_fold_date=\"2022-04-27\", \n",
    "    ),\n",
    "    DaoToRun(\n",
    "        org_name='dOrg',\n",
    "        run_until_nb=99,\n",
    "        splits_freq='2d',\n",
    "        last_folds=10,\n",
    "        last_fold_date=\"2022-02-18\",\n",
    "    ),\n",
    "    DaoToRun(\n",
    "        org_name='dxDAO - xDXdao',\n",
    "        run_until_nb=99,\n",
    "        splits_freq='W-THU',\n",
    "        last_fold_date=\"2022-05-05\",\n",
    "    ),\n",
    "    DaoToRun(\n",
    "        org_name='Bancor',\n",
    "        run_until_nb=10,\n",
    "        splits_freq=\"3d\",\n",
    "        last_fold_date=\"2022-01-26\",\n",
    "        comment=\"I could not find any folds with enough proposals in test\",\n",
    "    ),\n",
    "    DaoToRun(\n",
    "        org_name='Raid Guild',\n",
    "        run_until_nb=10,\n",
    "        splits_freq='W-THU',\n",
    "        last_fold_date=\"2021-12-30\",\n",
    "        comment=\"I could not find any folds with enough proposals in test\",\n",
    "    ),\n",
    "    # Not enough proposals\n",
    "    DaoToRun(\n",
    "        org_name='JuiceboxDAO',\n",
    "        run_until_nb=1,\n",
    "    ),\n",
    "    DaoToRun(\n",
    "        org_name='Frax',\n",
    "        run_until_nb=99,\n",
    "        splits_freq='5d',\n",
    "        last_fold_date='2022-05-26',\n",
    "    ),\n",
    "    DaoToRun(\n",
    "        org_name='Bent Finance',\n",
    "        run_until_nb=10,\n",
    "        last_fold_date='2023-04-30',\n",
    "        splits_freq='2d',\n",
    "    ),\n",
    "    DaoToRun(\n",
    "        org_name='Aave - Aavegotchi',\n",
    "        run_until_nb=99,\n",
    "        splits_freq='5d',\n",
    "        last_fold_date='2023-05-01',\n",
    "        extra_hparams={\n",
    "            'WINDOW_SIZES': ['1d', '7d', '14d'], # TODO: Set to something that makes sense\n",
    "            'PLN_MODEL_NAMES': ['all-MiniLM-L12-v2'],\n",
    "        },\n",
    "    ),\n",
    "    DaoToRun(\n",
    "        org_name='Aura Finance',\n",
    "        run_until_nb=99,\n",
    "        last_fold_date='2023-07-14',\n",
    "        splits_freq='7d',\n",
    "        extra_hparams={\n",
    "            'MIN_BATCH_SIZE': 4, # 16\n",
    "        }\n",
    "    ),\n",
    "    DaoToRun(\n",
    "        org_name='Magic Square',\n",
    "        run_until_nb=99,\n",
    "        last_fold_date='2023-07-17',\n",
    "        splits_freq='7d',\n",
    "        extra_hparams={\n",
    "            'MIN_BATCH_SIZE': 4, # 16\n",
    "        }\n",
    "    ),\n",
    "    DaoToRun(\n",
    "        org_name='Good Morning News',\n",
    "        run_until_nb=10,\n",
    "        comment=\"\"\"\n",
    "        A strange DAO used as a news portal. A proposal was created every day with four\n",
    "        interesting links or headlines. People voted on them, but I still don't know if \n",
    "        it was a kind of \"like\", or if the winning news were fully developed the next\n",
    "        day.\n",
    "        \"\"\"\n",
    "    ),\n",
    "]\n",
    "\n",
    "paths.save_daos_to_run(ALL_DAOS)\n",
    "dfd = pd.DataFrame(map(asdict, ALL_DAOS))\n",
    "# dfd['nprops'] = dfd['org_name'].apply(lambda n: len(paths.load_proposals(n)))\n",
    "dfd['nprops'] = dfd['org_name'].apply(lambda n: paths.load_votes(n)['proposal'].nunique())\n",
    "dfd['nvoters'] = dfd['org_name'].apply(lambda n: paths.load_votes(n)['voter'].nunique())\n",
    "dfd = dfd.sort_values('org_name', key=lambda c: c.str.lower())\n",
    "dfd.style.background_gradient(cmap='YlGnBu', subset=['run_until_nb', 'nprops', 'nvoters'])"
   ]
  },
  {
   "cell_type": "code",
   "execution_count": null,
   "id": "e3e5389f-c9bf-42a2-b19b-50e552424f83",
   "metadata": {},
   "outputs": [],
   "source": [
    "def run_dao_with_consts(nb: Path, dao: DaoToRun):\n",
    "    run_dao_notebook(\n",
    "        nb,\n",
    "        OUTPUT_PATH,\n",
    "        EXECUTION_ID,\n",
    "        EXTRA_HPARAMS=dao.extra_hparams,\n",
    "        ORG_NAME=dao.org_name,\n",
    "        SPLITS_FREQ=dao.splits_freq,\n",
    "        LAST_FOLDS=dao.last_folds,\n",
    "        SPLITS_NORMALIZE=dao.splits_normalize,\n",
    "        LAST_FOLD_DATE_STR=dao.last_fold_date,\n",
    "    )"
   ]
  },
  {
   "cell_type": "markdown",
   "id": "23ee3989-d35e-4870-927c-9eb172f77bd4",
   "metadata": {},
   "source": [
    "We want to run the explore notebook before anything else, and then show in a table a kind of meta-analysis"
   ]
  },
  {
   "cell_type": "code",
   "execution_count": null,
   "id": "f9a61c63-b12a-4218-8ea1-3168c079fef1",
   "metadata": {},
   "outputs": [],
   "source": [
    "# Run every \"explore\"\n",
    "for dao in (b1 := tqdm(ALL_DAOS, desc='org')):\n",
    "    run_dao_with_consts(Path(\".\")/\"01_explore.ipynb\", dao)"
   ]
  },
  {
   "cell_type": "code",
   "execution_count": null,
   "id": "cca222e3-af55-483b-9f5d-295ccae5193e",
   "metadata": {},
   "outputs": [],
   "source": [
    "daos_info = paths.load_daos_data()\n",
    "# print(daos_info)\n",
    "dfi = pd.DataFrame.from_dict(daos_info, orient='index')\n",
    "_table = (dfd\n",
    "    .set_index('org_name')\n",
    "    .join(dfi)\n",
    "    .sort_values('nprops', ascending=False)\n",
    "    .drop(columns=['comment', 'splits_normalize', 'last_folds', 'dfv_last_proposal', 'max_open_freq', 'max_proposals_ws'])\n",
    ")\n",
    "def _color_row(row):\n",
    "    c = ''\n",
    "    if row['run_until_nb'] >= 99:\n",
    "        c = 'background-color: green'\n",
    "    elif row['run_until_nb'] >= 20:\n",
    "        c = 'background-color: orange'\n",
    "    elif row['run_until_nb'] >= 10:\n",
    "        c = 'background-color: yellow'\n",
    "    return [c] * len(row)\n",
    "    \n",
    "# _style = _table.style.apply(_color_row, axis=1)\n",
    "_style = (_table\n",
    "    .style\n",
    "    .background_gradient(cmap='YlGnBu', subset=['run_until_nb', 'nprops', 'nvoters'])\n",
    "    .format(precision=2, thousands=' ')    \n",
    ")\n",
    "_style"
   ]
  },
  {
   "cell_type": "code",
   "execution_count": null,
   "id": "b6d297de-fc23-4262-be16-b681791d023a",
   "metadata": {},
   "outputs": [],
   "source": [
    "_table = (dfd\n",
    "    .set_index('org_name')\n",
    "    .join(dfi)\n",
    "    # .sort_values('nprops', ascending=False)\n",
    "    .query('run_until_nb == 99')\n",
    "    .drop(columns=['comment', 'splits_normalize', 'last_folds', 'dfv_last_proposal', 'max_open_freq', 'max_proposals_ws'])\n",
    ").copy()\n",
    "_table['mot_round'] = _table['median_open_time'].apply(lambda x: \"{:.1f} days\".format(pd.Timedelta(x).round('12h').total_seconds() / (24*3600)).replace(\".0\", \"\"))\n",
    "\n",
    "_table = _table[['mot_round', 'splits_freq', 'last_fold_date', 'folds_avg_open_proposals']]\n",
    "display(_table)\n",
    "print(_table.to_latex())"
   ]
  },
  {
   "cell_type": "code",
   "execution_count": null,
   "id": "7c4fd221-8dd2-4d79-990c-2d53ffde4814",
   "metadata": {},
   "outputs": [],
   "source": [
    "def _nb_le(nb: Path, last_nb: int):\n",
    "    return int(re.match(r'(\\d+)_', nb.name)[1]) <= last_nb\n",
    "\n",
    "def _filter_nb_le(nbs: list[Path], last_nb: int):\n",
    "    return list(filter(lambda x: _nb_le(x, last_nb), nbs))\n",
    "\n",
    "print(_filter_nb_le(run_notebooks, 11))"
   ]
  },
  {
   "cell_type": "code",
   "execution_count": null,
   "id": "13e6e198-0c50-4463-9cda-b390b73fd10c",
   "metadata": {
    "editable": true,
    "slideshow": {
     "slide_type": ""
    },
    "tags": [
     "injected-parameters"
    ]
   },
   "outputs": [],
   "source": [
    "MAX_RUN_UNTIL = 100\n",
    "\n",
    "for dao in (b1 := tqdm(ALL_DAOS, desc='org')):\n",
    "    b1.set_postfix_str(dao.org_name)\n",
    "    for nb in (b2 := tqdm(_filter_nb_le(run_notebooks, min(dao.run_until_nb, MAX_RUN_UNTIL)), desc='notebook', leave=False)):\n",
    "        b2.set_postfix_str(nb)\n",
    "        run_dao_with_consts(nb, dao)"
   ]
  },
  {
   "cell_type": "code",
   "execution_count": null,
   "id": "4cc14a56-0784-4ef1-b877-c294bdf76050",
   "metadata": {
    "editable": true,
    "slideshow": {
     "slide_type": ""
    },
    "tags": [
     "injected-parameters"
    ]
   },
   "outputs": [],
   "source": [
    "import requests; requests.post(\"https://ntfy.sh/grasia_notebooks\", data=\"Finished running all notebooks\")"
   ]
  }
 ],
 "metadata": {
  "kernelspec": {
   "display_name": "Python 3 (ipykernel)",
   "language": "python",
   "name": "python3"
  },
  "language_info": {
   "codemirror_mode": {
    "name": "ipython",
    "version": 3
   },
   "file_extension": ".py",
   "mimetype": "text/x-python",
   "name": "python",
   "nbconvert_exporter": "python",
   "pygments_lexer": "ipython3",
   "version": "3.11.6"
  },
  "widgets": {
   "application/vnd.jupyter.widget-state+json": {
    "state": {
     "000d1f3393d843e387979598998b25f5": {
      "model_module": "@jupyter-widgets/controls",
      "model_module_version": "2.0.0",
      "model_name": "FloatProgressModel",
      "state": {
       "layout": "IPY_MODEL_b544bcc75b4c4f5b9f9c5d639844f9e1",
       "max": 7,
       "style": "IPY_MODEL_bcbfee245cfd4433933cef5885b7b212",
       "value": 7
      }
     },
     "007646ec8b6644de89e507ff8307e6d8": {
      "model_module": "@jupyter-widgets/controls",
      "model_module_version": "2.0.0",
      "model_name": "HTMLModel",
      "state": {
       "layout": "IPY_MODEL_1f69e046df0040b8b977084cc0d05794",
       "style": "IPY_MODEL_c5850b3efc5b4b8194ad793c2ad2a0f0",
       "value": " 0/2 [00:00&lt;?, ?it/s, 10_baseline.ipynb]"
      }
     },
     "01410b57fe384f2b9b32968acea64431": {
      "model_module": "@jupyter-widgets/controls",
      "model_module_version": "2.0.0",
      "model_name": "FloatProgressModel",
      "state": {
       "layout": "IPY_MODEL_5ae007e4e2dd4dbea1c4db9e9ca3e7d3",
       "max": 7,
       "style": "IPY_MODEL_a8b87824f7374e62b1e2d1accc7d42ce",
       "value": 7
      }
     },
     "01e2dfbbbe8e4d9f87483b4016c61591": {
      "model_module": "@jupyter-widgets/base",
      "model_module_version": "2.0.0",
      "model_name": "LayoutModel",
      "state": {}
     },
     "026d640afe6c46aea9740e86223434bb": {
      "model_module": "@jupyter-widgets/controls",
      "model_module_version": "2.0.0",
      "model_name": "ProgressStyleModel",
      "state": {
       "description_width": ""
      }
     },
     "0298d7142032477bae76eba1ce3e68fb": {
      "model_module": "@jupyter-widgets/base",
      "model_module_version": "2.0.0",
      "model_name": "LayoutModel",
      "state": {}
     },
     "02a889bd35f2419aae8320590f17c1c5": {
      "model_module": "@jupyter-widgets/controls",
      "model_module_version": "2.0.0",
      "model_name": "HTMLStyleModel",
      "state": {
       "description_width": "",
       "font_size": null,
       "text_color": null
      }
     },
     "02b369fc2c664c309bb221268d447f81": {
      "model_module": "@jupyter-widgets/base",
      "model_module_version": "2.0.0",
      "model_name": "LayoutModel",
      "state": {}
     },
     "031331bf8b194a1e960b32c157babe37": {
      "model_module": "@jupyter-widgets/controls",
      "model_module_version": "2.0.0",
      "model_name": "HTMLModel",
      "state": {
       "layout": "IPY_MODEL_986081d8ddfd44c68f8863aeb70a9c48",
       "style": "IPY_MODEL_13b6d9dedd6e4b0b9aecf9f88499581a",
       "value": " 6/7 [00:00&lt;00:00,  9.99it/s, 90_results.ipynb]"
      }
     },
     "032eb4f24b0e42c8b4d488f883fa0e90": {
      "model_module": "@jupyter-widgets/base",
      "model_module_version": "2.0.0",
      "model_name": "LayoutModel",
      "state": {}
     },
     "0396335d17024a039b1dc44c4cdda2af": {
      "model_module": "@jupyter-widgets/base",
      "model_module_version": "2.0.0",
      "model_name": "LayoutModel",
      "state": {}
     },
     "04b7510d578c430f977b9dda820897fc": {
      "model_module": "@jupyter-widgets/base",
      "model_module_version": "2.0.0",
      "model_name": "LayoutModel",
      "state": {}
     },
     "04ddaad83f844824beb97b3942ac8a42": {
      "model_module": "@jupyter-widgets/controls",
      "model_module_version": "2.0.0",
      "model_name": "ProgressStyleModel",
      "state": {
       "description_width": ""
      }
     },
     "04e2fe425ac3494ebf12e728c87ee8c2": {
      "model_module": "@jupyter-widgets/base",
      "model_module_version": "2.0.0",
      "model_name": "LayoutModel",
      "state": {
       "visibility": "hidden"
      }
     },
     "066c2b173c5144b5a0c1459d4985a80e": {
      "model_module": "@jupyter-widgets/base",
      "model_module_version": "2.0.0",
      "model_name": "LayoutModel",
      "state": {}
     },
     "0670c47f275c40cbbe9456d377fc3266": {
      "model_module": "@jupyter-widgets/controls",
      "model_module_version": "2.0.0",
      "model_name": "ProgressStyleModel",
      "state": {
       "description_width": ""
      }
     },
     "06a27eca78a84328aaa76d60e7dbd0f7": {
      "model_module": "@jupyter-widgets/controls",
      "model_module_version": "2.0.0",
      "model_name": "HTMLModel",
      "state": {
       "layout": "IPY_MODEL_1831981f240b448db736386b0f90b68f",
       "style": "IPY_MODEL_ee1701dfc49e490aae4599c47e6e5868",
       "value": " 32/32 [00:03&lt;00:00, 10.92cell/s]"
      }
     },
     "07bade0a897f474ba98969837ebf0a9b": {
      "model_module": "@jupyter-widgets/controls",
      "model_module_version": "2.0.0",
      "model_name": "ProgressStyleModel",
      "state": {
       "description_width": ""
      }
     },
     "07d2a58c52b34bf5a585452cfbe49191": {
      "model_module": "@jupyter-widgets/base",
      "model_module_version": "2.0.0",
      "model_name": "LayoutModel",
      "state": {}
     },
     "081303c46f414eab9c1588c3494350e5": {
      "model_module": "@jupyter-widgets/base",
      "model_module_version": "2.0.0",
      "model_name": "LayoutModel",
      "state": {}
     },
     "09015c652cdc414bbb19a99e01f033e7": {
      "model_module": "@jupyter-widgets/controls",
      "model_module_version": "2.0.0",
      "model_name": "HTMLModel",
      "state": {
       "layout": "IPY_MODEL_bad26103c01e4b498c58a7afc7b1e575",
       "style": "IPY_MODEL_5844e627b1a74eaa809762236ab1baa7",
       "value": "notebook:   0%"
      }
     },
     "0b63c2e5a0ee45519bfb13a95d30d231": {
      "model_module": "@jupyter-widgets/base",
      "model_module_version": "2.0.0",
      "model_name": "LayoutModel",
      "state": {}
     },
     "0c79d2226a254a0383c8f6710f90979d": {
      "model_module": "@jupyter-widgets/controls",
      "model_module_version": "2.0.0",
      "model_name": "HTMLStyleModel",
      "state": {
       "description_width": "",
       "font_size": null,
       "text_color": null
      }
     },
     "0d57ff63dd2948cd9831023c260b1e9f": {
      "model_module": "@jupyter-widgets/controls",
      "model_module_version": "2.0.0",
      "model_name": "ProgressStyleModel",
      "state": {
       "description_width": ""
      }
     },
     "0e86ab8cb62840a39232cdd3d2be0a94": {
      "model_module": "@jupyter-widgets/controls",
      "model_module_version": "2.0.0",
      "model_name": "HTMLStyleModel",
      "state": {
       "description_width": "",
       "font_size": null,
       "text_color": null
      }
     },
     "0edee5ff5e714638b6ee3df35ae73f9e": {
      "model_module": "@jupyter-widgets/base",
      "model_module_version": "2.0.0",
      "model_name": "LayoutModel",
      "state": {}
     },
     "0efc3549787e463e95e4e97257a5ea5d": {
      "model_module": "@jupyter-widgets/controls",
      "model_module_version": "2.0.0",
      "model_name": "HBoxModel",
      "state": {
       "children": [
        "IPY_MODEL_d4d58949efb942adbe3ca442b2a97107",
        "IPY_MODEL_21ca4b3a4c8c4241972fc961111424c0",
        "IPY_MODEL_9bd31841c3c641eab735f6dd8f4f857b"
       ],
       "layout": "IPY_MODEL_f5220b26ca754e16953f828165049450"
      }
     },
     "0f209892e0c942fa9470d4f23b2c76f6": {
      "model_module": "@jupyter-widgets/controls",
      "model_module_version": "2.0.0",
      "model_name": "HTMLModel",
      "state": {
       "layout": "IPY_MODEL_ed6224784d0748b28604af8fc3215b1a",
       "style": "IPY_MODEL_29d8adf6b51a47dd9375b108b76500fd",
       "value": "../nbout/Good Morning News/01_explore.ipynb: 100%"
      }
     },
     "10830575de8a4d829c53c24f5bf4c0b4": {
      "model_module": "@jupyter-widgets/controls",
      "model_module_version": "2.0.0",
      "model_name": "FloatProgressModel",
      "state": {
       "layout": "IPY_MODEL_2abe08b831c64347a35cee992f43f110",
       "max": 7,
       "style": "IPY_MODEL_57938f290a7f48bcb57c480e3de0cd44",
       "value": 7
      }
     },
     "10dc5258b6a44230a158de0910bc9d64": {
      "model_module": "@jupyter-widgets/base",
      "model_module_version": "2.0.0",
      "model_name": "LayoutModel",
      "state": {
       "visibility": "hidden"
      }
     },
     "10ec7ab230034e999d9617676e1fb411": {
      "model_module": "@jupyter-widgets/controls",
      "model_module_version": "2.0.0",
      "model_name": "HTMLStyleModel",
      "state": {
       "description_width": "",
       "font_size": null,
       "text_color": null
      }
     },
     "116d50af125b4edf905183578045fa0c": {
      "model_module": "@jupyter-widgets/controls",
      "model_module_version": "2.0.0",
      "model_name": "HTMLStyleModel",
      "state": {
       "description_width": "",
       "font_size": null,
       "text_color": null
      }
     },
     "12161c847b0a495e83595b29e2205428": {
      "model_module": "@jupyter-widgets/controls",
      "model_module_version": "2.0.0",
      "model_name": "HTMLModel",
      "state": {
       "layout": "IPY_MODEL_e846c915e8e54d919a9082dc740ed5b5",
       "style": "IPY_MODEL_6dcac8d82ca6446883127e87c06c3dda",
       "value": " 32/32 [00:05&lt;00:00,  7.94cell/s]"
      }
     },
     "1340fc40ce6c4502bc37b62b12111118": {
      "model_module": "@jupyter-widgets/controls",
      "model_module_version": "2.0.0",
      "model_name": "ProgressStyleModel",
      "state": {
       "description_width": ""
      }
     },
     "134eca282a3449acba3351027c9c388b": {
      "model_module": "@jupyter-widgets/base",
      "model_module_version": "2.0.0",
      "model_name": "LayoutModel",
      "state": {}
     },
     "13b6d9dedd6e4b0b9aecf9f88499581a": {
      "model_module": "@jupyter-widgets/controls",
      "model_module_version": "2.0.0",
      "model_name": "HTMLStyleModel",
      "state": {
       "description_width": "",
       "font_size": null,
       "text_color": null
      }
     },
     "144334fb9f1c46f3b57c25396b8350e5": {
      "model_module": "@jupyter-widgets/controls",
      "model_module_version": "2.0.0",
      "model_name": "HTMLStyleModel",
      "state": {
       "description_width": "",
       "font_size": null,
       "text_color": null
      }
     },
     "149994d161574192abbb59ee445e6ed2": {
      "model_module": "@jupyter-widgets/controls",
      "model_module_version": "2.0.0",
      "model_name": "HTMLStyleModel",
      "state": {
       "description_width": "",
       "font_size": null,
       "text_color": null
      }
     },
     "161386e9f3434639a786f3bb6585f9cb": {
      "model_module": "@jupyter-widgets/base",
      "model_module_version": "2.0.0",
      "model_name": "LayoutModel",
      "state": {}
     },
     "1681df38bbcb4a0cb342ddcd187ed2d4": {
      "model_module": "@jupyter-widgets/controls",
      "model_module_version": "2.0.0",
      "model_name": "HTMLModel",
      "state": {
       "layout": "IPY_MODEL_4e7a6772f73748f1b4cd67557cae2e4b",
       "style": "IPY_MODEL_e06a41e1342346c6aa057e067df93453",
       "value": "../nbout/dxDAO - xDXdao/01_explore.ipynb: 100%"
      }
     },
     "16fb7742543b4c768502af1643c9d11a": {
      "model_module": "@jupyter-widgets/base",
      "model_module_version": "2.0.0",
      "model_name": "LayoutModel",
      "state": {}
     },
     "17f298b15c064b6bb871c210da4ee478": {
      "model_module": "@jupyter-widgets/controls",
      "model_module_version": "2.0.0",
      "model_name": "FloatProgressModel",
      "state": {
       "layout": "IPY_MODEL_6bc589d496704e98a49d4f5acc22e39b",
       "max": 2,
       "style": "IPY_MODEL_41af8511ae754aae993ce2ae5733d45b",
       "value": 2
      }
     },
     "1831981f240b448db736386b0f90b68f": {
      "model_module": "@jupyter-widgets/base",
      "model_module_version": "2.0.0",
      "model_name": "LayoutModel",
      "state": {}
     },
     "18a463c7e3a94d90ae8de1d0c227aa97": {
      "model_module": "@jupyter-widgets/base",
      "model_module_version": "2.0.0",
      "model_name": "LayoutModel",
      "state": {}
     },
     "18c54857291a4ad49268e10619a35c44": {
      "model_module": "@jupyter-widgets/controls",
      "model_module_version": "2.0.0",
      "model_name": "HTMLStyleModel",
      "state": {
       "description_width": "",
       "font_size": null,
       "text_color": null
      }
     },
     "18dcd54a13654bd9a373849bc9f4561a": {
      "model_module": "@jupyter-widgets/base",
      "model_module_version": "2.0.0",
      "model_name": "LayoutModel",
      "state": {}
     },
     "196f32a0631d42b19191448b22725a24": {
      "model_module": "@jupyter-widgets/controls",
      "model_module_version": "2.0.0",
      "model_name": "HTMLModel",
      "state": {
       "layout": "IPY_MODEL_4643adc555004a6c93e4a6a5220dced8",
       "style": "IPY_MODEL_d73d8bf1abcd43f8bd927775846e4f89",
       "value": "../nbout/Bancor/01_explore.ipynb: 100%"
      }
     },
     "1992f09a1ef74288ad6b958985fa9eca": {
      "model_module": "@jupyter-widgets/controls",
      "model_module_version": "2.0.0",
      "model_name": "HTMLStyleModel",
      "state": {
       "description_width": "",
       "font_size": null,
       "text_color": null
      }
     },
     "19f56ac6f956440c94898ddb8fb32647": {
      "model_module": "@jupyter-widgets/base",
      "model_module_version": "2.0.0",
      "model_name": "LayoutModel",
      "state": {
       "visibility": "hidden"
      }
     },
     "1a5113cc3bcd405aa46523174f2618a7": {
      "model_module": "@jupyter-widgets/base",
      "model_module_version": "2.0.0",
      "model_name": "LayoutModel",
      "state": {}
     },
     "1b500bcfbc514baf8867212c0f68cb48": {
      "model_module": "@jupyter-widgets/controls",
      "model_module_version": "2.0.0",
      "model_name": "HTMLStyleModel",
      "state": {
       "description_width": "",
       "font_size": null,
       "text_color": null
      }
     },
     "1daabb1b815a46bc9e0b2d03ef1de593": {
      "model_module": "@jupyter-widgets/controls",
      "model_module_version": "2.0.0",
      "model_name": "HTMLModel",
      "state": {
       "layout": "IPY_MODEL_a2d7eeb1ab54422984300156b5533007",
       "style": "IPY_MODEL_c71d8dd3028e49d28abd7350049e4838",
       "value": "../nbout/Aave - Aavegotchi/01_explore.ipynb: 100%"
      }
     },
     "1f207da09e804b1485469e5ccc24b451": {
      "model_module": "@jupyter-widgets/controls",
      "model_module_version": "2.0.0",
      "model_name": "HTMLModel",
      "state": {
       "layout": "IPY_MODEL_b4ddb5f412e24a5f85a317955726eeb6",
       "style": "IPY_MODEL_aaed2717e2aa425e8136e38185cf7aa4",
       "value": " 32/32 [00:05&lt;00:00,  9.72cell/s]"
      }
     },
     "1f69e046df0040b8b977084cc0d05794": {
      "model_module": "@jupyter-widgets/base",
      "model_module_version": "2.0.0",
      "model_name": "LayoutModel",
      "state": {}
     },
     "1f97c426d93643fd8e2ae5f6b69c7de6": {
      "model_module": "@jupyter-widgets/base",
      "model_module_version": "2.0.0",
      "model_name": "LayoutModel",
      "state": {}
     },
     "21399fa5b5974d9499fb6b76fa380af6": {
      "model_module": "@jupyter-widgets/controls",
      "model_module_version": "2.0.0",
      "model_name": "ProgressStyleModel",
      "state": {
       "description_width": ""
      }
     },
     "21b6f4cc83ba492e8974599fc0b3c171": {
      "model_module": "@jupyter-widgets/base",
      "model_module_version": "2.0.0",
      "model_name": "LayoutModel",
      "state": {}
     },
     "21ca4b3a4c8c4241972fc961111424c0": {
      "model_module": "@jupyter-widgets/controls",
      "model_module_version": "2.0.0",
      "model_name": "FloatProgressModel",
      "state": {
       "bar_style": "success",
       "layout": "IPY_MODEL_21b6f4cc83ba492e8974599fc0b3c171",
       "max": 23,
       "style": "IPY_MODEL_2dcee0b3b98b4d3b80f60faefc5e264a",
       "value": 23
      }
     },
     "21ce1efdec2645daa755ba11dc035078": {
      "model_module": "@jupyter-widgets/controls",
      "model_module_version": "2.0.0",
      "model_name": "HTMLStyleModel",
      "state": {
       "description_width": "",
       "font_size": null,
       "text_color": null
      }
     },
     "22d539e0b2114e1d9cb7c6070996fc0a": {
      "model_module": "@jupyter-widgets/controls",
      "model_module_version": "2.0.0",
      "model_name": "HTMLModel",
      "state": {
       "layout": "IPY_MODEL_b6404af18f294090a9e80c603269f0bd",
       "style": "IPY_MODEL_3e6c8ca5a44d478d81016dda01d6106e",
       "value": "notebook:  86%"
      }
     },
     "22d7ce1affde4e73a31ddcac295c6777": {
      "model_module": "@jupyter-widgets/controls",
      "model_module_version": "2.0.0",
      "model_name": "HTMLStyleModel",
      "state": {
       "description_width": "",
       "font_size": null,
       "text_color": null
      }
     },
     "2359bee586c94178be6a50f823ec4d3d": {
      "model_module": "@jupyter-widgets/controls",
      "model_module_version": "2.0.0",
      "model_name": "HTMLStyleModel",
      "state": {
       "description_width": "",
       "font_size": null,
       "text_color": null
      }
     },
     "23b263cc0e4443e892246fbf167bd658": {
      "model_module": "@jupyter-widgets/base",
      "model_module_version": "2.0.0",
      "model_name": "LayoutModel",
      "state": {}
     },
     "243920c583e34f4e827814a08c17563c": {
      "model_module": "@jupyter-widgets/controls",
      "model_module_version": "2.0.0",
      "model_name": "HTMLStyleModel",
      "state": {
       "description_width": "",
       "font_size": null,
       "text_color": null
      }
     },
     "244ec8a5bfa3411bb723a562ce8184ae": {
      "model_module": "@jupyter-widgets/base",
      "model_module_version": "2.0.0",
      "model_name": "LayoutModel",
      "state": {}
     },
     "24ca2a5eb49241bb9d9317d02897ae3c": {
      "model_module": "@jupyter-widgets/base",
      "model_module_version": "2.0.0",
      "model_name": "LayoutModel",
      "state": {}
     },
     "25c74c3364864e728b20a84b25f9c9aa": {
      "model_module": "@jupyter-widgets/controls",
      "model_module_version": "2.0.0",
      "model_name": "HTMLModel",
      "state": {
       "layout": "IPY_MODEL_f6115f5f8da04a8ab22124153ce9c62a",
       "style": "IPY_MODEL_a96cdd34aa61410fbdb961659abcfb13",
       "value": "notebook:  86%"
      }
     },
     "267ae142ba404d1f85c4bb6ea9b2bb14": {
      "model_module": "@jupyter-widgets/controls",
      "model_module_version": "2.0.0",
      "model_name": "FloatProgressModel",
      "state": {
       "layout": "IPY_MODEL_8bd612bb6a224fda81112fbd6e7d9773",
       "max": 1,
       "style": "IPY_MODEL_04ddaad83f844824beb97b3942ac8a42",
       "value": 1
      }
     },
     "2865f372d0a5471ebf243472a414b6f0": {
      "model_module": "@jupyter-widgets/controls",
      "model_module_version": "2.0.0",
      "model_name": "HTMLModel",
      "state": {
       "layout": "IPY_MODEL_3793237648d342d2b8c1978b6228ee07",
       "style": "IPY_MODEL_6593424d039549a8b720f58d1ab2ef6f",
       "value": "../nbout/Decentraland/01_explore.ipynb:  97%"
      }
     },
     "28773e33d9be49f5b2a36e0cc2fd7661": {
      "model_module": "@jupyter-widgets/base",
      "model_module_version": "2.0.0",
      "model_name": "LayoutModel",
      "state": {}
     },
     "29347309edac4f16a0a9335d82bf6a94": {
      "model_module": "@jupyter-widgets/controls",
      "model_module_version": "2.0.0",
      "model_name": "HTMLModel",
      "state": {
       "layout": "IPY_MODEL_1f97c426d93643fd8e2ae5f6b69c7de6",
       "style": "IPY_MODEL_d7d6f16bc45040888a0dac1ac3664b00",
       "value": "notebook:  86%"
      }
     },
     "2969675a1a13417fadb9f81b0e4a5a0a": {
      "model_module": "@jupyter-widgets/base",
      "model_module_version": "2.0.0",
      "model_name": "LayoutModel",
      "state": {
       "visibility": "hidden"
      }
     },
     "29d8adf6b51a47dd9375b108b76500fd": {
      "model_module": "@jupyter-widgets/controls",
      "model_module_version": "2.0.0",
      "model_name": "HTMLStyleModel",
      "state": {
       "description_width": "",
       "font_size": null,
       "text_color": null
      }
     },
     "2aa9d3c9efd148d68bf28a9945a9e706": {
      "model_module": "@jupyter-widgets/base",
      "model_module_version": "2.0.0",
      "model_name": "LayoutModel",
      "state": {
       "visibility": "hidden"
      }
     },
     "2abe08b831c64347a35cee992f43f110": {
      "model_module": "@jupyter-widgets/base",
      "model_module_version": "2.0.0",
      "model_name": "LayoutModel",
      "state": {}
     },
     "2b1cc2b0991345299ed9693045e53537": {
      "model_module": "@jupyter-widgets/base",
      "model_module_version": "2.0.0",
      "model_name": "LayoutModel",
      "state": {
       "visibility": "hidden"
      }
     },
     "2bc9cf6deeb84f4f9d097523fa89da96": {
      "model_module": "@jupyter-widgets/base",
      "model_module_version": "2.0.0",
      "model_name": "LayoutModel",
      "state": {}
     },
     "2c768932f8324b3fba5089e454f9279a": {
      "model_module": "@jupyter-widgets/base",
      "model_module_version": "2.0.0",
      "model_name": "LayoutModel",
      "state": {
       "visibility": "hidden"
      }
     },
     "2ca36b33bb214c629cf5550016e64f01": {
      "model_module": "@jupyter-widgets/base",
      "model_module_version": "2.0.0",
      "model_name": "LayoutModel",
      "state": {}
     },
     "2ce9de3ea46d4c1792a985983af9f4d7": {
      "model_module": "@jupyter-widgets/controls",
      "model_module_version": "2.0.0",
      "model_name": "HTMLStyleModel",
      "state": {
       "description_width": "",
       "font_size": null,
       "text_color": null
      }
     },
     "2da5632391514fc49c393df4c24c5786": {
      "model_module": "@jupyter-widgets/controls",
      "model_module_version": "2.0.0",
      "model_name": "HBoxModel",
      "state": {
       "children": [
        "IPY_MODEL_75f60e0ece3543e79463dae3af2c45c9",
        "IPY_MODEL_83c2774f4ad94d83a26e295070a0bd85",
        "IPY_MODEL_e6291d61b05a4758bd8fc2b0f62664d5"
       ],
       "layout": "IPY_MODEL_4a3b7b3fc49f46cea68a0ae8e6743bee"
      }
     },
     "2dcee0b3b98b4d3b80f60faefc5e264a": {
      "model_module": "@jupyter-widgets/controls",
      "model_module_version": "2.0.0",
      "model_name": "ProgressStyleModel",
      "state": {
       "description_width": ""
      }
     },
     "2dd180edefef4e1296fddf3e1f5b352b": {
      "model_module": "@jupyter-widgets/controls",
      "model_module_version": "2.0.0",
      "model_name": "HTMLStyleModel",
      "state": {
       "description_width": "",
       "font_size": null,
       "text_color": null
      }
     },
     "2ea3c336c23641078a8690e491a79ddc": {
      "model_module": "@jupyter-widgets/controls",
      "model_module_version": "2.0.0",
      "model_name": "HTMLStyleModel",
      "state": {
       "description_width": "",
       "font_size": null,
       "text_color": null
      }
     },
     "2f69d097aa7544f399fe4a62847da1c4": {
      "model_module": "@jupyter-widgets/base",
      "model_module_version": "2.0.0",
      "model_name": "LayoutModel",
      "state": {}
     },
     "2ffc6339ec6c46fe9b14cbbad45a5e65": {
      "model_module": "@jupyter-widgets/controls",
      "model_module_version": "2.0.0",
      "model_name": "HTMLModel",
      "state": {
       "layout": "IPY_MODEL_b2647409010e451dbd430d2ca9deb627",
       "style": "IPY_MODEL_7e077aafb8104d37b93cfc2e4fee9f5f",
       "value": "../nbout/Raid Guild/01_explore.ipynb: 100%"
      }
     },
     "30f1645cc8b142079091b3f6e704fed6": {
      "model_module": "@jupyter-widgets/controls",
      "model_module_version": "2.0.0",
      "model_name": "HTMLModel",
      "state": {
       "layout": "IPY_MODEL_c236d9a07bd94dac8cfca58948e05bc7",
       "style": "IPY_MODEL_7ec52686d8ad4a3d8c69c1104b7293ae",
       "value": "../nbout/HausDao Warcamp/01_explore.ipynb: 100%"
      }
     },
     "313e71093df749e7b08e6264cb37b2f1": {
      "model_module": "@jupyter-widgets/controls",
      "model_module_version": "2.0.0",
      "model_name": "HTMLStyleModel",
      "state": {
       "description_width": "",
       "font_size": null,
       "text_color": null
      }
     },
     "31e214109ca349ecac7e6c325cd48f5e": {
      "model_module": "@jupyter-widgets/base",
      "model_module_version": "2.0.0",
      "model_name": "LayoutModel",
      "state": {}
     },
     "32a80fcacd4f43d68ab750e089e1de6c": {
      "model_module": "@jupyter-widgets/base",
      "model_module_version": "2.0.0",
      "model_name": "LayoutModel",
      "state": {}
     },
     "32c253b57e6741bf841735967b12f429": {
      "model_module": "@jupyter-widgets/controls",
      "model_module_version": "2.0.0",
      "model_name": "HTMLStyleModel",
      "state": {
       "description_width": "",
       "font_size": null,
       "text_color": null
      }
     },
     "33b42319cd4945d3b7a3041385b1bcba": {
      "model_module": "@jupyter-widgets/controls",
      "model_module_version": "2.0.0",
      "model_name": "HTMLModel",
      "state": {
       "layout": "IPY_MODEL_c6dfea690a124dc2b2e3f70698a41194",
       "style": "IPY_MODEL_9c6840b9d2b144a8b906a27723f85f41",
       "value": " 6/7 [00:00&lt;00:00, 11.91it/s, 90_results.ipynb]"
      }
     },
     "34d0b6f053aa4266b984d764833adca8": {
      "model_module": "@jupyter-widgets/controls",
      "model_module_version": "2.0.0",
      "model_name": "HTMLStyleModel",
      "state": {
       "description_width": "",
       "font_size": null,
       "text_color": null
      }
     },
     "36403bcfb3ad46ee948a20cf120e5205": {
      "model_module": "@jupyter-widgets/controls",
      "model_module_version": "2.0.0",
      "model_name": "HTMLModel",
      "state": {
       "layout": "IPY_MODEL_78509bcf5fd94c7793bcca619e0a5c19",
       "style": "IPY_MODEL_471e86f90bd940639454afc0b9d26d9f",
       "value": " 6/7 [00:00&lt;00:00,  6.78it/s, 90_results.ipynb]"
      }
     },
     "367c35e3b0314913875de70746df31e0": {
      "model_module": "@jupyter-widgets/controls",
      "model_module_version": "2.0.0",
      "model_name": "HTMLStyleModel",
      "state": {
       "description_width": "",
       "font_size": null,
       "text_color": null
      }
     },
     "36f971eeacc448daa45c275460388827": {
      "model_module": "@jupyter-widgets/base",
      "model_module_version": "2.0.0",
      "model_name": "LayoutModel",
      "state": {}
     },
     "3793237648d342d2b8c1978b6228ee07": {
      "model_module": "@jupyter-widgets/base",
      "model_module_version": "2.0.0",
      "model_name": "LayoutModel",
      "state": {}
     },
     "392b4893cc684a25bb8937198ff6cac1": {
      "model_module": "@jupyter-widgets/controls",
      "model_module_version": "2.0.0",
      "model_name": "HTMLStyleModel",
      "state": {
       "description_width": "",
       "font_size": null,
       "text_color": null
      }
     },
     "3958ef7f393e4981bb3d7d96d38e7e8f": {
      "model_module": "@jupyter-widgets/controls",
      "model_module_version": "2.0.0",
      "model_name": "HTMLModel",
      "state": {
       "layout": "IPY_MODEL_dbe5e5999dd54cd3a36cd3c3b3fa7090",
       "style": "IPY_MODEL_5d8d49cfa3084b29af127838af1035c3",
       "value": "notebook:  86%"
      }
     },
     "3978f33aa19d483d96f048e48db5ff36": {
      "model_module": "@jupyter-widgets/base",
      "model_module_version": "2.0.0",
      "model_name": "LayoutModel",
      "state": {}
     },
     "39bd0f59901542928ad789b1c4f000f9": {
      "model_module": "@jupyter-widgets/base",
      "model_module_version": "2.0.0",
      "model_name": "LayoutModel",
      "state": {}
     },
     "3a0af54b1db64245854911c93112d309": {
      "model_module": "@jupyter-widgets/controls",
      "model_module_version": "2.0.0",
      "model_name": "ProgressStyleModel",
      "state": {
       "description_width": ""
      }
     },
     "3a80f66995fd41c3b20d6883af5425bb": {
      "model_module": "@jupyter-widgets/controls",
      "model_module_version": "2.0.0",
      "model_name": "HTMLStyleModel",
      "state": {
       "description_width": "",
       "font_size": null,
       "text_color": null
      }
     },
     "3ac8a44c093e4c69876d6751fbfbd180": {
      "model_module": "@jupyter-widgets/base",
      "model_module_version": "2.0.0",
      "model_name": "LayoutModel",
      "state": {}
     },
     "3bcb4834a9704a11974b57bb1546cecc": {
      "model_module": "@jupyter-widgets/controls",
      "model_module_version": "2.0.0",
      "model_name": "HTMLModel",
      "state": {
       "layout": "IPY_MODEL_e61f2e72afc94ff69d2b32b0e9f48439",
       "style": "IPY_MODEL_116d50af125b4edf905183578045fa0c",
       "value": " 32/32 [00:11&lt;00:00,  3.48cell/s]"
      }
     },
     "3bdb253490a84cac8541117fa695d75b": {
      "model_module": "@jupyter-widgets/controls",
      "model_module_version": "2.0.0",
      "model_name": "ProgressStyleModel",
      "state": {
       "description_width": ""
      }
     },
     "3d4a4ce208bb428b90961b33a12e5e7d": {
      "model_module": "@jupyter-widgets/controls",
      "model_module_version": "2.0.0",
      "model_name": "ProgressStyleModel",
      "state": {
       "description_width": ""
      }
     },
     "3d5868df4bb34a519b287773f01cbc16": {
      "model_module": "@jupyter-widgets/controls",
      "model_module_version": "2.0.0",
      "model_name": "HTMLStyleModel",
      "state": {
       "description_width": "",
       "font_size": null,
       "text_color": null
      }
     },
     "3d7712314499445e8e6a07dac22b7770": {
      "model_module": "@jupyter-widgets/base",
      "model_module_version": "2.0.0",
      "model_name": "LayoutModel",
      "state": {
       "visibility": "hidden"
      }
     },
     "3e6c8ca5a44d478d81016dda01d6106e": {
      "model_module": "@jupyter-widgets/controls",
      "model_module_version": "2.0.0",
      "model_name": "HTMLStyleModel",
      "state": {
       "description_width": "",
       "font_size": null,
       "text_color": null
      }
     },
     "3e76ff60e75841b3a821d320e5a4fa17": {
      "model_module": "@jupyter-widgets/base",
      "model_module_version": "2.0.0",
      "model_name": "LayoutModel",
      "state": {}
     },
     "3eff1f0f2afd4f1e9f93edea0ad526fd": {
      "model_module": "@jupyter-widgets/base",
      "model_module_version": "2.0.0",
      "model_name": "LayoutModel",
      "state": {
       "visibility": "hidden"
      }
     },
     "3f5a377c6f4647e091b381a48ee2a63a": {
      "model_module": "@jupyter-widgets/base",
      "model_module_version": "2.0.0",
      "model_name": "LayoutModel",
      "state": {
       "visibility": "hidden"
      }
     },
     "3fa5d97346a6417f8f557399ccf83260": {
      "model_module": "@jupyter-widgets/controls",
      "model_module_version": "2.0.0",
      "model_name": "ProgressStyleModel",
      "state": {
       "description_width": ""
      }
     },
     "3fa7d1a1bc3c4b8d9564ea5d562ebdee": {
      "model_module": "@jupyter-widgets/controls",
      "model_module_version": "2.0.0",
      "model_name": "FloatProgressModel",
      "state": {
       "layout": "IPY_MODEL_d3112691e2894522bcbd73b09cac72aa",
       "max": 7,
       "style": "IPY_MODEL_0d57ff63dd2948cd9831023c260b1e9f",
       "value": 7
      }
     },
     "3fc9d769867f4c4bbfe16dff39b4a63f": {
      "model_module": "@jupyter-widgets/controls",
      "model_module_version": "2.0.0",
      "model_name": "ProgressStyleModel",
      "state": {
       "description_width": ""
      }
     },
     "417ce7599b8c46e790358f0e0c16508b": {
      "model_module": "@jupyter-widgets/base",
      "model_module_version": "2.0.0",
      "model_name": "LayoutModel",
      "state": {
       "visibility": "hidden"
      }
     },
     "41af8511ae754aae993ce2ae5733d45b": {
      "model_module": "@jupyter-widgets/controls",
      "model_module_version": "2.0.0",
      "model_name": "ProgressStyleModel",
      "state": {
       "description_width": ""
      }
     },
     "41bfb1b67dc948498ccacff063852713": {
      "model_module": "@jupyter-widgets/controls",
      "model_module_version": "2.0.0",
      "model_name": "HTMLStyleModel",
      "state": {
       "description_width": "",
       "font_size": null,
       "text_color": null
      }
     },
     "42e1a627ece24fe082232fb56e37da5f": {
      "model_module": "@jupyter-widgets/controls",
      "model_module_version": "2.0.0",
      "model_name": "HTMLStyleModel",
      "state": {
       "description_width": "",
       "font_size": null,
       "text_color": null
      }
     },
     "42f498332436469381836dfcb7417cfa": {
      "model_module": "@jupyter-widgets/controls",
      "model_module_version": "2.0.0",
      "model_name": "ProgressStyleModel",
      "state": {
       "description_width": ""
      }
     },
     "43986342f7c2432bbc2805abaf7159d9": {
      "model_module": "@jupyter-widgets/base",
      "model_module_version": "2.0.0",
      "model_name": "LayoutModel",
      "state": {}
     },
     "43fcbddcdb9049cda8684e87268bcbc5": {
      "model_module": "@jupyter-widgets/controls",
      "model_module_version": "2.0.0",
      "model_name": "HTMLModel",
      "state": {
       "layout": "IPY_MODEL_4cd621c92cf64e1aa27d1385b4bd5c95",
       "style": "IPY_MODEL_f4f91f0ca1854a24aa2a3d61d04a7dbf",
       "value": " 32/32 [00:04&lt;00:00,  9.31cell/s]"
      }
     },
     "4417026b9b99423fb026019bf7148e88": {
      "model_module": "@jupyter-widgets/base",
      "model_module_version": "2.0.0",
      "model_name": "LayoutModel",
      "state": {}
     },
     "441b6eb5051249fb8ff4f0e7e2e28514": {
      "model_module": "@jupyter-widgets/base",
      "model_module_version": "2.0.0",
      "model_name": "LayoutModel",
      "state": {}
     },
     "44c76c4b32bf46c193385f5ef50e0ac0": {
      "model_module": "@jupyter-widgets/base",
      "model_module_version": "2.0.0",
      "model_name": "LayoutModel",
      "state": {
       "visibility": "hidden"
      }
     },
     "44e6819120a84734a40887d53076c503": {
      "model_module": "@jupyter-widgets/base",
      "model_module_version": "2.0.0",
      "model_name": "LayoutModel",
      "state": {}
     },
     "459383fc6e5c43ac89d67d853d5ec16a": {
      "model_module": "@jupyter-widgets/base",
      "model_module_version": "2.0.0",
      "model_name": "LayoutModel",
      "state": {
       "visibility": "hidden"
      }
     },
     "45f20d8211a149bd91b7da12e2e21b20": {
      "model_module": "@jupyter-widgets/controls",
      "model_module_version": "2.0.0",
      "model_name": "HTMLModel",
      "state": {
       "layout": "IPY_MODEL_d06ac3c19f594c2096896d7055a54581",
       "style": "IPY_MODEL_2ce9de3ea46d4c1792a985983af9f4d7",
       "value": " 0/2 [00:00&lt;?, ?it/s, 10_baseline.ipynb]"
      }
     },
     "4643adc555004a6c93e4a6a5220dced8": {
      "model_module": "@jupyter-widgets/base",
      "model_module_version": "2.0.0",
      "model_name": "LayoutModel",
      "state": {}
     },
     "46702f858ccc4bd39ba45ac3a32e9b77": {
      "model_module": "@jupyter-widgets/controls",
      "model_module_version": "2.0.0",
      "model_name": "FloatProgressModel",
      "state": {
       "layout": "IPY_MODEL_be545c781b9a48e988a6a8b149f9a6a3",
       "max": 7,
       "style": "IPY_MODEL_ed9e3098365141e8a71c366e1d4a1f0d",
       "value": 7
      }
     },
     "471e86f90bd940639454afc0b9d26d9f": {
      "model_module": "@jupyter-widgets/controls",
      "model_module_version": "2.0.0",
      "model_name": "HTMLStyleModel",
      "state": {
       "description_width": "",
       "font_size": null,
       "text_color": null
      }
     },
     "47304584bfd94fbeaf0ac2957ea3a95f": {
      "model_module": "@jupyter-widgets/base",
      "model_module_version": "2.0.0",
      "model_name": "LayoutModel",
      "state": {
       "visibility": "hidden"
      }
     },
     "473ed99525104139bf8c4cfa66ef3e79": {
      "model_module": "@jupyter-widgets/controls",
      "model_module_version": "2.0.0",
      "model_name": "HTMLModel",
      "state": {
       "layout": "IPY_MODEL_62bf2687527342fcad83453cb90442f8",
       "style": "IPY_MODEL_149994d161574192abbb59ee445e6ed2",
       "value": " 31/32 [00:08&lt;00:00,  8.41cell/s]"
      }
     },
     "475c9b39e3fc4a2c8444cbfdc0e33f0c": {
      "model_module": "@jupyter-widgets/base",
      "model_module_version": "2.0.0",
      "model_name": "LayoutModel",
      "state": {}
     },
     "482106bdceff46ae80711fb035e11155": {
      "model_module": "@jupyter-widgets/base",
      "model_module_version": "2.0.0",
      "model_name": "LayoutModel",
      "state": {
       "visibility": "hidden"
      }
     },
     "485b14f1000b437f8180f1ab978f916e": {
      "model_module": "@jupyter-widgets/controls",
      "model_module_version": "2.0.0",
      "model_name": "FloatProgressModel",
      "state": {
       "bar_style": "success",
       "layout": "IPY_MODEL_8923b76725cb4843a473886de75737b1",
       "max": 23,
       "style": "IPY_MODEL_e40ed4b0ac9f4daeafc7fa0b48774802",
       "value": 23
      }
     },
     "49000caed8574457b4c3e840a5765ec8": {
      "model_module": "@jupyter-widgets/base",
      "model_module_version": "2.0.0",
      "model_name": "LayoutModel",
      "state": {}
     },
     "4938a9e895154ec79e9142d5089f4fc0": {
      "model_module": "@jupyter-widgets/controls",
      "model_module_version": "2.0.0",
      "model_name": "HTMLStyleModel",
      "state": {
       "description_width": "",
       "font_size": null,
       "text_color": null
      }
     },
     "494509fb3f854550a56f78de1376405c": {
      "model_module": "@jupyter-widgets/controls",
      "model_module_version": "2.0.0",
      "model_name": "HTMLStyleModel",
      "state": {
       "description_width": "",
       "font_size": null,
       "text_color": null
      }
     },
     "49dc37178136407f91ad8a0e7d340ddb": {
      "model_module": "@jupyter-widgets/controls",
      "model_module_version": "2.0.0",
      "model_name": "HTMLModel",
      "state": {
       "layout": "IPY_MODEL_b4502582e3114310a2bf7879dddd257b",
       "style": "IPY_MODEL_10ec7ab230034e999d9617676e1fb411",
       "value": "notebook:   0%"
      }
     },
     "4a3b7b3fc49f46cea68a0ae8e6743bee": {
      "model_module": "@jupyter-widgets/base",
      "model_module_version": "2.0.0",
      "model_name": "LayoutModel",
      "state": {}
     },
     "4adaec7b2d834976987df40c8a920ff0": {
      "model_module": "@jupyter-widgets/base",
      "model_module_version": "2.0.0",
      "model_name": "LayoutModel",
      "state": {}
     },
     "4b050ad64459464f9216330b67fa5c8e": {
      "model_module": "@jupyter-widgets/controls",
      "model_module_version": "2.0.0",
      "model_name": "HTMLModel",
      "state": {
       "layout": "IPY_MODEL_9cb3dfd94f3d440c8c32ce7734c7b893",
       "style": "IPY_MODEL_0c79d2226a254a0383c8f6710f90979d",
       "value": "../nbout/Magic Square/01_explore.ipynb: 100%"
      }
     },
     "4b777391b22c459db926636085690089": {
      "model_module": "@jupyter-widgets/base",
      "model_module_version": "2.0.0",
      "model_name": "LayoutModel",
      "state": {
       "visibility": "hidden"
      }
     },
     "4b882907c3db43869b5dec542effd6a4": {
      "model_module": "@jupyter-widgets/controls",
      "model_module_version": "2.0.0",
      "model_name": "HTMLStyleModel",
      "state": {
       "description_width": "",
       "font_size": null,
       "text_color": null
      }
     },
     "4bbcb7f0f8d44b5db03a66a39c945a57": {
      "model_module": "@jupyter-widgets/controls",
      "model_module_version": "2.0.0",
      "model_name": "ProgressStyleModel",
      "state": {
       "description_width": ""
      }
     },
     "4bfb2d6c0767461c90657548180aef80": {
      "model_module": "@jupyter-widgets/controls",
      "model_module_version": "2.0.0",
      "model_name": "FloatProgressModel",
      "state": {
       "layout": "IPY_MODEL_2bc9cf6deeb84f4f9d097523fa89da96",
       "max": 32,
       "style": "IPY_MODEL_b1c897e14e754d099f696abed8eb5559",
       "value": 32
      }
     },
     "4cc85f25f69c483d838310bd1492c41c": {
      "model_module": "@jupyter-widgets/controls",
      "model_module_version": "2.0.0",
      "model_name": "HTMLModel",
      "state": {
       "layout": "IPY_MODEL_0298d7142032477bae76eba1ce3e68fb",
       "style": "IPY_MODEL_99abb233a6f242128104597d2796b501",
       "value": "../nbout/Frax/01_explore.ipynb: 100%"
      }
     },
     "4cd621c92cf64e1aa27d1385b4bd5c95": {
      "model_module": "@jupyter-widgets/base",
      "model_module_version": "2.0.0",
      "model_name": "LayoutModel",
      "state": {}
     },
     "4df5e338a98c4347847c6f01a195f542": {
      "model_module": "@jupyter-widgets/base",
      "model_module_version": "2.0.0",
      "model_name": "LayoutModel",
      "state": {}
     },
     "4e7a6772f73748f1b4cd67557cae2e4b": {
      "model_module": "@jupyter-widgets/base",
      "model_module_version": "2.0.0",
      "model_name": "LayoutModel",
      "state": {}
     },
     "4f9b8ce3d9f74d1083f6790e0f912b81": {
      "model_module": "@jupyter-widgets/controls",
      "model_module_version": "2.0.0",
      "model_name": "HTMLStyleModel",
      "state": {
       "description_width": "",
       "font_size": null,
       "text_color": null
      }
     },
     "4facd1b3e7494ee1b2b514d20972051f": {
      "model_module": "@jupyter-widgets/base",
      "model_module_version": "2.0.0",
      "model_name": "LayoutModel",
      "state": {}
     },
     "4fbdee35e01f458486b30bc4724876f3": {
      "model_module": "@jupyter-widgets/controls",
      "model_module_version": "2.0.0",
      "model_name": "HTMLStyleModel",
      "state": {
       "description_width": "",
       "font_size": null,
       "text_color": null
      }
     },
     "50229513cfc547439ac355b20670610a": {
      "model_module": "@jupyter-widgets/base",
      "model_module_version": "2.0.0",
      "model_name": "LayoutModel",
      "state": {}
     },
     "50733c4e3a8947c6ba89ef901d0cb6c4": {
      "model_module": "@jupyter-widgets/controls",
      "model_module_version": "2.0.0",
      "model_name": "ProgressStyleModel",
      "state": {
       "description_width": ""
      }
     },
     "50d900dedf1d45a5b5f54ffb0eb8203b": {
      "model_module": "@jupyter-widgets/controls",
      "model_module_version": "2.0.0",
      "model_name": "HTMLModel",
      "state": {
       "layout": "IPY_MODEL_69285cad7e0a4a70ad5b39a39ebaa927",
       "style": "IPY_MODEL_18c54857291a4ad49268e10619a35c44",
       "value": " 6/7 [00:00&lt;00:00, 13.68it/s, 90_results.ipynb]"
      }
     },
     "50eb087b8da142a1bd7558e94c9ef5a3": {
      "model_module": "@jupyter-widgets/controls",
      "model_module_version": "2.0.0",
      "model_name": "HTMLStyleModel",
      "state": {
       "description_width": "",
       "font_size": null,
       "text_color": null
      }
     },
     "52ca84d7f58c4eb78a2a561232f6770e": {
      "model_module": "@jupyter-widgets/base",
      "model_module_version": "2.0.0",
      "model_name": "LayoutModel",
      "state": {}
     },
     "530771fc620c4481865346d38380cd83": {
      "model_module": "@jupyter-widgets/controls",
      "model_module_version": "2.0.0",
      "model_name": "FloatProgressModel",
      "state": {
       "layout": "IPY_MODEL_24ca2a5eb49241bb9d9317d02897ae3c",
       "max": 32,
       "style": "IPY_MODEL_3a0af54b1db64245854911c93112d309",
       "value": 32
      }
     },
     "531356b4dab549f1b3db76053d4fea63": {
      "model_module": "@jupyter-widgets/controls",
      "model_module_version": "2.0.0",
      "model_name": "HTMLStyleModel",
      "state": {
       "description_width": "",
       "font_size": null,
       "text_color": null
      }
     },
     "531935d4f46d4ac4b89ccd68c2faf349": {
      "model_module": "@jupyter-widgets/controls",
      "model_module_version": "2.0.0",
      "model_name": "ProgressStyleModel",
      "state": {
       "description_width": ""
      }
     },
     "5343890349e14a5fb423d38998d14da5": {
      "model_module": "@jupyter-widgets/controls",
      "model_module_version": "2.0.0",
      "model_name": "HTMLModel",
      "state": {
       "layout": "IPY_MODEL_a176d90dad5c43b69dd72e099d893107",
       "style": "IPY_MODEL_367c35e3b0314913875de70746df31e0",
       "value": " 6/7 [00:00&lt;00:00, 10.84it/s, 90_results.ipynb]"
      }
     },
     "534fea322b324d61b5c0510c346225e7": {
      "model_module": "@jupyter-widgets/controls",
      "model_module_version": "2.0.0",
      "model_name": "FloatProgressModel",
      "state": {
       "layout": "IPY_MODEL_54dca12efd8a45fe9daddaef36ab6847",
       "max": 7,
       "style": "IPY_MODEL_1340fc40ce6c4502bc37b62b12111118",
       "value": 7
      }
     },
     "5372cbaa3ff14387b3ee14632a195cf5": {
      "model_module": "@jupyter-widgets/controls",
      "model_module_version": "2.0.0",
      "model_name": "HTMLModel",
      "state": {
       "layout": "IPY_MODEL_5c0a6ae10c644bb490116a1d28baf16d",
       "style": "IPY_MODEL_73530b43861b4da08b2c6fb89944d302",
       "value": "notebook:  86%"
      }
     },
     "54a3c091c57e46c487751dc9c85a4ed6": {
      "model_module": "@jupyter-widgets/controls",
      "model_module_version": "2.0.0",
      "model_name": "HTMLModel",
      "state": {
       "layout": "IPY_MODEL_edf5675a0eb94441ba2fd224df057c2c",
       "style": "IPY_MODEL_531356b4dab549f1b3db76053d4fea63",
       "value": "notebook:   0%"
      }
     },
     "54dca12efd8a45fe9daddaef36ab6847": {
      "model_module": "@jupyter-widgets/base",
      "model_module_version": "2.0.0",
      "model_name": "LayoutModel",
      "state": {}
     },
     "556c32ec6cfc4bc08d571876dada34f7": {
      "model_module": "@jupyter-widgets/controls",
      "model_module_version": "2.0.0",
      "model_name": "FloatProgressModel",
      "state": {
       "layout": "IPY_MODEL_adb6f9d9fd8c4e339da546a69b2f1175",
       "max": 1,
       "style": "IPY_MODEL_87898f3883174c69a94b162df85c90dc",
       "value": 1
      }
     },
     "5632b3e4cd154d369f624368d445b09b": {
      "model_module": "@jupyter-widgets/controls",
      "model_module_version": "2.0.0",
      "model_name": "FloatProgressModel",
      "state": {
       "layout": "IPY_MODEL_44e6819120a84734a40887d53076c503",
       "max": 32,
       "style": "IPY_MODEL_c346c2b372824e26a4a84e98ab9dd9a1",
       "value": 32
      }
     },
     "56b8d72f9649472193bc929f20944d5b": {
      "model_module": "@jupyter-widgets/base",
      "model_module_version": "2.0.0",
      "model_name": "LayoutModel",
      "state": {}
     },
     "56c6e6bfdd474abbb4ef0d3d6239f45b": {
      "model_module": "@jupyter-widgets/base",
      "model_module_version": "2.0.0",
      "model_name": "LayoutModel",
      "state": {
       "visibility": "hidden"
      }
     },
     "57938f290a7f48bcb57c480e3de0cd44": {
      "model_module": "@jupyter-widgets/controls",
      "model_module_version": "2.0.0",
      "model_name": "ProgressStyleModel",
      "state": {
       "description_width": ""
      }
     },
     "5833020025724879bf6f0e0dc7569663": {
      "model_module": "@jupyter-widgets/controls",
      "model_module_version": "2.0.0",
      "model_name": "HTMLModel",
      "state": {
       "layout": "IPY_MODEL_07d2a58c52b34bf5a585452cfbe49191",
       "style": "IPY_MODEL_41bfb1b67dc948498ccacff063852713",
       "value": "notebook:  86%"
      }
     },
     "5844e627b1a74eaa809762236ab1baa7": {
      "model_module": "@jupyter-widgets/controls",
      "model_module_version": "2.0.0",
      "model_name": "HTMLStyleModel",
      "state": {
       "description_width": "",
       "font_size": null,
       "text_color": null
      }
     },
     "587287537990451f873361d27b45b42c": {
      "model_module": "@jupyter-widgets/controls",
      "model_module_version": "2.0.0",
      "model_name": "HTMLModel",
      "state": {
       "layout": "IPY_MODEL_7d03279a334247b280763df8a6c19f87",
       "style": "IPY_MODEL_0e86ab8cb62840a39232cdd3d2be0a94",
       "value": "notebook:   0%"
      }
     },
     "591e9fccd96a4c24bba41057bc3ff08c": {
      "model_module": "@jupyter-widgets/controls",
      "model_module_version": "2.0.0",
      "model_name": "HTMLStyleModel",
      "state": {
       "description_width": "",
       "font_size": null,
       "text_color": null
      }
     },
     "59321e06775743b39403623d83d1087b": {
      "model_module": "@jupyter-widgets/controls",
      "model_module_version": "2.0.0",
      "model_name": "HTMLModel",
      "state": {
       "layout": "IPY_MODEL_01e2dfbbbe8e4d9f87483b4016c61591",
       "style": "IPY_MODEL_bb7ca6ebdd4547568866120a72a4b229",
       "value": "../nbout/Lido/01_explore.ipynb: 100%"
      }
     },
     "59de84abfe794a369d961839b395e326": {
      "model_module": "@jupyter-widgets/base",
      "model_module_version": "2.0.0",
      "model_name": "LayoutModel",
      "state": {}
     },
     "5aa73cd5a5524abebfce5b817d80f9c7": {
      "model_module": "@jupyter-widgets/controls",
      "model_module_version": "2.0.0",
      "model_name": "HTMLModel",
      "state": {
       "layout": "IPY_MODEL_7bb5693108b94194a3c97afcae94efc5",
       "style": "IPY_MODEL_6fe8692d88bc48c088582acae09b86b9",
       "value": " 32/32 [00:04&lt;00:00,  9.96cell/s]"
      }
     },
     "5ada9eafc2eb41c383cb864239ec6e13": {
      "model_module": "@jupyter-widgets/base",
      "model_module_version": "2.0.0",
      "model_name": "LayoutModel",
      "state": {}
     },
     "5ae007e4e2dd4dbea1c4db9e9ca3e7d3": {
      "model_module": "@jupyter-widgets/base",
      "model_module_version": "2.0.0",
      "model_name": "LayoutModel",
      "state": {}
     },
     "5c0a6ae10c644bb490116a1d28baf16d": {
      "model_module": "@jupyter-widgets/base",
      "model_module_version": "2.0.0",
      "model_name": "LayoutModel",
      "state": {}
     },
     "5d888e7787314d67a85b67daf5ea78ab": {
      "model_module": "@jupyter-widgets/base",
      "model_module_version": "2.0.0",
      "model_name": "LayoutModel",
      "state": {}
     },
     "5d8d49cfa3084b29af127838af1035c3": {
      "model_module": "@jupyter-widgets/controls",
      "model_module_version": "2.0.0",
      "model_name": "HTMLStyleModel",
      "state": {
       "description_width": "",
       "font_size": null,
       "text_color": null
      }
     },
     "5e9dd0c187064d6e9f03f214836581a8": {
      "model_module": "@jupyter-widgets/controls",
      "model_module_version": "2.0.0",
      "model_name": "HTMLModel",
      "state": {
       "layout": "IPY_MODEL_49000caed8574457b4c3e840a5765ec8",
       "style": "IPY_MODEL_85a430548c674c45bf40272ae78f0a07",
       "value": "notebook:  86%"
      }
     },
     "60005a9982244f7da83d928022b24575": {
      "model_module": "@jupyter-widgets/controls",
      "model_module_version": "2.0.0",
      "model_name": "HTMLStyleModel",
      "state": {
       "description_width": "",
       "font_size": null,
       "text_color": null
      }
     },
     "60ac02cbfb004c0697ae66a71025c353": {
      "model_module": "@jupyter-widgets/controls",
      "model_module_version": "2.0.0",
      "model_name": "ProgressStyleModel",
      "state": {
       "description_width": ""
      }
     },
     "6162edb24e3e4725b10a33aedf18ceb0": {
      "model_module": "@jupyter-widgets/controls",
      "model_module_version": "2.0.0",
      "model_name": "ProgressStyleModel",
      "state": {
       "description_width": ""
      }
     },
     "618edc1071c640f083cc1881a314dd27": {
      "model_module": "@jupyter-widgets/controls",
      "model_module_version": "2.0.0",
      "model_name": "FloatProgressModel",
      "state": {
       "layout": "IPY_MODEL_4df5e338a98c4347847c6f01a195f542",
       "max": 32,
       "style": "IPY_MODEL_84c4d99567244050b4e7d17f0621252a",
       "value": 32
      }
     },
     "61dc96f4e2a141479bf2304295aae749": {
      "model_module": "@jupyter-widgets/base",
      "model_module_version": "2.0.0",
      "model_name": "LayoutModel",
      "state": {}
     },
     "62162c681d754d978f8da7624a52ea20": {
      "model_module": "@jupyter-widgets/controls",
      "model_module_version": "2.0.0",
      "model_name": "ProgressStyleModel",
      "state": {
       "description_width": ""
      }
     },
     "623edab26d3e4bcba344796f4f5f4f48": {
      "model_module": "@jupyter-widgets/base",
      "model_module_version": "2.0.0",
      "model_name": "LayoutModel",
      "state": {
       "visibility": "hidden"
      }
     },
     "62bf2687527342fcad83453cb90442f8": {
      "model_module": "@jupyter-widgets/base",
      "model_module_version": "2.0.0",
      "model_name": "LayoutModel",
      "state": {}
     },
     "63f7243bfbc540bbb2f23049de415d7a": {
      "model_module": "@jupyter-widgets/base",
      "model_module_version": "2.0.0",
      "model_name": "LayoutModel",
      "state": {}
     },
     "64bd3297a5f34a56a93d5162797300df": {
      "model_module": "@jupyter-widgets/base",
      "model_module_version": "2.0.0",
      "model_name": "LayoutModel",
      "state": {
       "visibility": "hidden"
      }
     },
     "64d0db441f4a4aa4a6952323e3466fd7": {
      "model_module": "@jupyter-widgets/controls",
      "model_module_version": "2.0.0",
      "model_name": "FloatProgressModel",
      "state": {
       "layout": "IPY_MODEL_f4142b37e7c647d6bd5597b7b4793206",
       "max": 7,
       "style": "IPY_MODEL_21399fa5b5974d9499fb6b76fa380af6",
       "value": 7
      }
     },
     "6593424d039549a8b720f58d1ab2ef6f": {
      "model_module": "@jupyter-widgets/controls",
      "model_module_version": "2.0.0",
      "model_name": "HTMLStyleModel",
      "state": {
       "description_width": "",
       "font_size": null,
       "text_color": null
      }
     },
     "659b5150c20a4ccc9c0b4f03152bd100": {
      "model_module": "@jupyter-widgets/controls",
      "model_module_version": "2.0.0",
      "model_name": "HTMLStyleModel",
      "state": {
       "description_width": "",
       "font_size": null,
       "text_color": null
      }
     },
     "66fd679ea7444c8fba64dddc811e7286": {
      "model_module": "@jupyter-widgets/controls",
      "model_module_version": "2.0.0",
      "model_name": "HTMLModel",
      "state": {
       "layout": "IPY_MODEL_e873ca3d857346178ab99477d73be2d1",
       "style": "IPY_MODEL_2dd180edefef4e1296fddf3e1f5b352b",
       "value": "../nbout/Index Coop/01_explore.ipynb: 100%"
      }
     },
     "6789bc6b69d642bb9d05532a439e7eb8": {
      "model_module": "@jupyter-widgets/base",
      "model_module_version": "2.0.0",
      "model_name": "LayoutModel",
      "state": {
       "visibility": "hidden"
      }
     },
     "68328d350c3d4bc4ad5b38a34adf3edf": {
      "model_module": "@jupyter-widgets/controls",
      "model_module_version": "2.0.0",
      "model_name": "FloatProgressModel",
      "state": {
       "layout": "IPY_MODEL_52ca84d7f58c4eb78a2a561232f6770e",
       "max": 7,
       "style": "IPY_MODEL_aeb1d928d9154e4b8da2a7b1b31e8e3c",
       "value": 7
      }
     },
     "69285cad7e0a4a70ad5b39a39ebaa927": {
      "model_module": "@jupyter-widgets/base",
      "model_module_version": "2.0.0",
      "model_name": "LayoutModel",
      "state": {}
     },
     "6a23f14e9f854f1f9096e014361e3fd8": {
      "model_module": "@jupyter-widgets/controls",
      "model_module_version": "2.0.0",
      "model_name": "HTMLModel",
      "state": {
       "layout": "IPY_MODEL_fdb6dbcacfcd4e80a1eef3688452f8ba",
       "style": "IPY_MODEL_f0bfda75f82e42ce9a4020d94cc74ee5",
       "value": "org: 100%"
      }
     },
     "6bc589d496704e98a49d4f5acc22e39b": {
      "model_module": "@jupyter-widgets/base",
      "model_module_version": "2.0.0",
      "model_name": "LayoutModel",
      "state": {}
     },
     "6bd3123905bb4e86aa017ac315a0fe3d": {
      "model_module": "@jupyter-widgets/base",
      "model_module_version": "2.0.0",
      "model_name": "LayoutModel",
      "state": {
       "visibility": "hidden"
      }
     },
     "6bdbcc4039c54bb08811f6689aa5161c": {
      "model_module": "@jupyter-widgets/controls",
      "model_module_version": "2.0.0",
      "model_name": "ProgressStyleModel",
      "state": {
       "description_width": ""
      }
     },
     "6c36902fef8545d5950d77c826dcec91": {
      "model_module": "@jupyter-widgets/controls",
      "model_module_version": "2.0.0",
      "model_name": "ProgressStyleModel",
      "state": {
       "description_width": ""
      }
     },
     "6dcac8d82ca6446883127e87c06c3dda": {
      "model_module": "@jupyter-widgets/controls",
      "model_module_version": "2.0.0",
      "model_name": "HTMLStyleModel",
      "state": {
       "description_width": "",
       "font_size": null,
       "text_color": null
      }
     },
     "6e3916e237d84c3d80447d2389ce7465": {
      "model_module": "@jupyter-widgets/base",
      "model_module_version": "2.0.0",
      "model_name": "LayoutModel",
      "state": {}
     },
     "6ef084b5245a4590a5011eeaa917c2db": {
      "model_module": "@jupyter-widgets/controls",
      "model_module_version": "2.0.0",
      "model_name": "HTMLModel",
      "state": {
       "layout": "IPY_MODEL_161386e9f3434639a786f3bb6585f9cb",
       "style": "IPY_MODEL_f68e789121054c0ca0424215a307749e",
       "value": " 0/4 [00:00&lt;?, ?it/s, 12_PLN_Similarity.ipynb]"
      }
     },
     "6fe8692d88bc48c088582acae09b86b9": {
      "model_module": "@jupyter-widgets/controls",
      "model_module_version": "2.0.0",
      "model_name": "HTMLStyleModel",
      "state": {
       "description_width": "",
       "font_size": null,
       "text_color": null
      }
     },
     "70818f6544e44491833ca7621e9aba67": {
      "model_module": "@jupyter-widgets/base",
      "model_module_version": "2.0.0",
      "model_name": "LayoutModel",
      "state": {
       "visibility": "hidden"
      }
     },
     "7093a4b792bb44469f83e44c1bb81f59": {
      "model_module": "@jupyter-widgets/base",
      "model_module_version": "2.0.0",
      "model_name": "LayoutModel",
      "state": {}
     },
     "713a7c9a4dbd4bff84de671bb615e8c6": {
      "model_module": "@jupyter-widgets/controls",
      "model_module_version": "2.0.0",
      "model_name": "HTMLStyleModel",
      "state": {
       "description_width": "",
       "font_size": null,
       "text_color": null
      }
     },
     "71ca2b10c84b4053bf86ffdea732e059": {
      "model_module": "@jupyter-widgets/controls",
      "model_module_version": "2.0.0",
      "model_name": "HTMLStyleModel",
      "state": {
       "description_width": "",
       "font_size": null,
       "text_color": null
      }
     },
     "71da340689cf4b49bb67fd6c9a780d2a": {
      "model_module": "@jupyter-widgets/base",
      "model_module_version": "2.0.0",
      "model_name": "LayoutModel",
      "state": {
       "visibility": "hidden"
      }
     },
     "720b8642238d4880bcca3aba0f0cdd20": {
      "model_module": "@jupyter-widgets/base",
      "model_module_version": "2.0.0",
      "model_name": "LayoutModel",
      "state": {}
     },
     "7256fe20ca344effa7a22b4d57af8822": {
      "model_module": "@jupyter-widgets/controls",
      "model_module_version": "2.0.0",
      "model_name": "HTMLModel",
      "state": {
       "layout": "IPY_MODEL_bfe428ef30a04d20ad067622c7b860ab",
       "style": "IPY_MODEL_f999767265984e5b87871bb6e0d98c33",
       "value": "notebook:  86%"
      }
     },
     "72a81c99231249e59310a0dfeaba3d5a": {
      "model_module": "@jupyter-widgets/base",
      "model_module_version": "2.0.0",
      "model_name": "LayoutModel",
      "state": {
       "visibility": "hidden"
      }
     },
     "73530b43861b4da08b2c6fb89944d302": {
      "model_module": "@jupyter-widgets/controls",
      "model_module_version": "2.0.0",
      "model_name": "HTMLStyleModel",
      "state": {
       "description_width": "",
       "font_size": null,
       "text_color": null
      }
     },
     "743fd4321f2a4e618b29d4decdf3053b": {
      "model_module": "@jupyter-widgets/base",
      "model_module_version": "2.0.0",
      "model_name": "LayoutModel",
      "state": {}
     },
     "7499c23c4bcd4792883c109b436f1d4c": {
      "model_module": "@jupyter-widgets/controls",
      "model_module_version": "2.0.0",
      "model_name": "HTMLModel",
      "state": {
       "layout": "IPY_MODEL_3e76ff60e75841b3a821d320e5a4fa17",
       "style": "IPY_MODEL_b892b07d92664410a4cd48114c29f57e",
       "value": "notebook:  86%"
      }
     },
     "758637f50dd84f22abd09fe5b7de3308": {
      "model_module": "@jupyter-widgets/base",
      "model_module_version": "2.0.0",
      "model_name": "LayoutModel",
      "state": {}
     },
     "75f60e0ece3543e79463dae3af2c45c9": {
      "model_module": "@jupyter-widgets/controls",
      "model_module_version": "2.0.0",
      "model_name": "HTMLModel",
      "state": {
       "layout": "IPY_MODEL_e78f485f2c4044bf88a39a70ef518590",
       "style": "IPY_MODEL_779c9c9611eb4a888cb11caf97c4c67f",
       "value": "org: 100%"
      }
     },
     "76972b30dca24d60acc6788044405d66": {
      "model_module": "@jupyter-widgets/controls",
      "model_module_version": "2.0.0",
      "model_name": "HTMLStyleModel",
      "state": {
       "description_width": "",
       "font_size": null,
       "text_color": null
      }
     },
     "779c9c9611eb4a888cb11caf97c4c67f": {
      "model_module": "@jupyter-widgets/controls",
      "model_module_version": "2.0.0",
      "model_name": "HTMLStyleModel",
      "state": {
       "description_width": "",
       "font_size": null,
       "text_color": null
      }
     },
     "78509bcf5fd94c7793bcca619e0a5c19": {
      "model_module": "@jupyter-widgets/base",
      "model_module_version": "2.0.0",
      "model_name": "LayoutModel",
      "state": {}
     },
     "78b1b6a072cc4294ba84e89450d770af": {
      "model_module": "@jupyter-widgets/base",
      "model_module_version": "2.0.0",
      "model_name": "LayoutModel",
      "state": {
       "visibility": "hidden"
      }
     },
     "799260f3bbc249c7ac71006dab0bdb42": {
      "model_module": "@jupyter-widgets/base",
      "model_module_version": "2.0.0",
      "model_name": "LayoutModel",
      "state": {}
     },
     "79aed6c7810844b3b11643084bfaf03c": {
      "model_module": "@jupyter-widgets/controls",
      "model_module_version": "2.0.0",
      "model_name": "HTMLModel",
      "state": {
       "layout": "IPY_MODEL_7093a4b792bb44469f83e44c1bb81f59",
       "style": "IPY_MODEL_915172fa4beb44f9916652c25b561399",
       "value": " 6/7 [00:00&lt;00:00,  9.55it/s, 90_results.ipynb]"
      }
     },
     "7ad99e3a685b43b4a29d1b1f9ed0aafd": {
      "model_module": "@jupyter-widgets/base",
      "model_module_version": "2.0.0",
      "model_name": "LayoutModel",
      "state": {}
     },
     "7b100c36eb214975956bfa7860ad3bac": {
      "model_module": "@jupyter-widgets/base",
      "model_module_version": "2.0.0",
      "model_name": "LayoutModel",
      "state": {}
     },
     "7b2d609e1e8046958f2e25fd4da2d96c": {
      "model_module": "@jupyter-widgets/controls",
      "model_module_version": "2.0.0",
      "model_name": "HTMLModel",
      "state": {
       "layout": "IPY_MODEL_3978f33aa19d483d96f048e48db5ff36",
       "style": "IPY_MODEL_392b4893cc684a25bb8937198ff6cac1",
       "value": " 32/32 [00:05&lt;00:00,  9.18cell/s]"
      }
     },
     "7b8eb36f9c4944308aadbdd0bb838f72": {
      "model_module": "@jupyter-widgets/controls",
      "model_module_version": "2.0.0",
      "model_name": "HTMLModel",
      "state": {
       "layout": "IPY_MODEL_3ac8a44c093e4c69876d6751fbfbd180",
       "style": "IPY_MODEL_fc31cce1dd294479afbcf98ab15bb842",
       "value": " 6/7 [00:00&lt;00:00, 11.30it/s, 90_results.ipynb]"
      }
     },
     "7bb5693108b94194a3c97afcae94efc5": {
      "model_module": "@jupyter-widgets/base",
      "model_module_version": "2.0.0",
      "model_name": "LayoutModel",
      "state": {}
     },
     "7c15e4eacc0f4f9e8b3412cd6e360899": {
      "model_module": "@jupyter-widgets/base",
      "model_module_version": "2.0.0",
      "model_name": "LayoutModel",
      "state": {}
     },
     "7c4c01808099409ba87d1d0a251e29e1": {
      "model_module": "@jupyter-widgets/controls",
      "model_module_version": "2.0.0",
      "model_name": "FloatProgressModel",
      "state": {
       "layout": "IPY_MODEL_59de84abfe794a369d961839b395e326",
       "max": 32,
       "style": "IPY_MODEL_531935d4f46d4ac4b89ccd68c2faf349",
       "value": 32
      }
     },
     "7d03279a334247b280763df8a6c19f87": {
      "model_module": "@jupyter-widgets/base",
      "model_module_version": "2.0.0",
      "model_name": "LayoutModel",
      "state": {}
     },
     "7d80f52deb2c4e3986c2000f8b2fe831": {
      "model_module": "@jupyter-widgets/controls",
      "model_module_version": "2.0.0",
      "model_name": "FloatProgressModel",
      "state": {
       "layout": "IPY_MODEL_02b369fc2c664c309bb221268d447f81",
       "max": 7,
       "style": "IPY_MODEL_80fd27e2615b4206b5989ce33c1a436c",
       "value": 7
      }
     },
     "7e077aafb8104d37b93cfc2e4fee9f5f": {
      "model_module": "@jupyter-widgets/controls",
      "model_module_version": "2.0.0",
      "model_name": "HTMLStyleModel",
      "state": {
       "description_width": "",
       "font_size": null,
       "text_color": null
      }
     },
     "7e8bd8dba3bd43618c76c981eb4477ba": {
      "model_module": "@jupyter-widgets/controls",
      "model_module_version": "2.0.0",
      "model_name": "FloatProgressModel",
      "state": {
       "layout": "IPY_MODEL_9edd0c24f6d448f193966f571e69b5cd",
       "max": 32,
       "style": "IPY_MODEL_b150119adf514bc7af1ac800574ba17e",
       "value": 32
      }
     },
     "7ec52686d8ad4a3d8c69c1104b7293ae": {
      "model_module": "@jupyter-widgets/controls",
      "model_module_version": "2.0.0",
      "model_name": "HTMLStyleModel",
      "state": {
       "description_width": "",
       "font_size": null,
       "text_color": null
      }
     },
     "7fde2fe232944980a368ea6d7350282c": {
      "model_module": "@jupyter-widgets/controls",
      "model_module_version": "2.0.0",
      "model_name": "HTMLStyleModel",
      "state": {
       "description_width": "",
       "font_size": null,
       "text_color": null
      }
     },
     "808cd7e1d0784be49238bb2ba9e69d7a": {
      "model_module": "@jupyter-widgets/controls",
      "model_module_version": "2.0.0",
      "model_name": "HTMLModel",
      "state": {
       "layout": "IPY_MODEL_7c15e4eacc0f4f9e8b3412cd6e360899",
       "style": "IPY_MODEL_2359bee586c94178be6a50f823ec4d3d",
       "value": "notebook:  86%"
      }
     },
     "80fd27e2615b4206b5989ce33c1a436c": {
      "model_module": "@jupyter-widgets/controls",
      "model_module_version": "2.0.0",
      "model_name": "ProgressStyleModel",
      "state": {
       "description_width": ""
      }
     },
     "81819fa6dd7e479ba100e34a37bd290f": {
      "model_module": "@jupyter-widgets/controls",
      "model_module_version": "2.0.0",
      "model_name": "FloatProgressModel",
      "state": {
       "layout": "IPY_MODEL_ec9ec8f87b62479ea6b6d82215adacb1",
       "max": 32,
       "style": "IPY_MODEL_60ac02cbfb004c0697ae66a71025c353",
       "value": 32
      }
     },
     "818fc27a4c814ab3b8e51b77246c8d17": {
      "model_module": "@jupyter-widgets/controls",
      "model_module_version": "2.0.0",
      "model_name": "HTMLModel",
      "state": {
       "layout": "IPY_MODEL_2ca36b33bb214c629cf5550016e64f01",
       "style": "IPY_MODEL_494509fb3f854550a56f78de1376405c",
       "value": " 0/1 [00:00&lt;?, ?it/s, 01_explore.ipynb]"
      }
     },
     "83942d507efa44c597507405f9f5506e": {
      "model_module": "@jupyter-widgets/controls",
      "model_module_version": "2.0.0",
      "model_name": "HTMLModel",
      "state": {
       "layout": "IPY_MODEL_720b8642238d4880bcca3aba0f0cdd20",
       "style": "IPY_MODEL_dea6aa9cd49c4c38abcd209d7b2ef09e",
       "value": "../nbout/Aura Finance/01_explore.ipynb: 100%"
      }
     },
     "83b1595dce2e4bec87e07bb59e5dcedf": {
      "model_module": "@jupyter-widgets/base",
      "model_module_version": "2.0.0",
      "model_name": "LayoutModel",
      "state": {}
     },
     "83c2774f4ad94d83a26e295070a0bd85": {
      "model_module": "@jupyter-widgets/controls",
      "model_module_version": "2.0.0",
      "model_name": "FloatProgressModel",
      "state": {
       "bar_style": "success",
       "layout": "IPY_MODEL_9f356bafbefb435eb5c7336a20f96d61",
       "max": 23,
       "style": "IPY_MODEL_a27f5d427d3b45d19e38675813629e45",
       "value": 23
      }
     },
     "83e53a0c53654f90a0ea25f73c2802b9": {
      "model_module": "@jupyter-widgets/base",
      "model_module_version": "2.0.0",
      "model_name": "LayoutModel",
      "state": {}
     },
     "84194dadd54f4cfd9b8c724a50b12a3f": {
      "model_module": "@jupyter-widgets/controls",
      "model_module_version": "2.0.0",
      "model_name": "ProgressStyleModel",
      "state": {
       "description_width": ""
      }
     },
     "84c4d99567244050b4e7d17f0621252a": {
      "model_module": "@jupyter-widgets/controls",
      "model_module_version": "2.0.0",
      "model_name": "ProgressStyleModel",
      "state": {
       "description_width": ""
      }
     },
     "85a430548c674c45bf40272ae78f0a07": {
      "model_module": "@jupyter-widgets/controls",
      "model_module_version": "2.0.0",
      "model_name": "HTMLStyleModel",
      "state": {
       "description_width": "",
       "font_size": null,
       "text_color": null
      }
     },
     "87898f3883174c69a94b162df85c90dc": {
      "model_module": "@jupyter-widgets/controls",
      "model_module_version": "2.0.0",
      "model_name": "ProgressStyleModel",
      "state": {
       "description_width": ""
      }
     },
     "87bdb39fcc394ebe815a02741c44f4ab": {
      "model_module": "@jupyter-widgets/base",
      "model_module_version": "2.0.0",
      "model_name": "LayoutModel",
      "state": {}
     },
     "88181f0b76e548b89885c48ad03f7742": {
      "model_module": "@jupyter-widgets/base",
      "model_module_version": "2.0.0",
      "model_name": "LayoutModel",
      "state": {}
     },
     "8826f55a471d4da0802d81289140d86d": {
      "model_module": "@jupyter-widgets/controls",
      "model_module_version": "2.0.0",
      "model_name": "HTMLModel",
      "state": {
       "layout": "IPY_MODEL_758637f50dd84f22abd09fe5b7de3308",
       "style": "IPY_MODEL_e3fe0a93765644f09577a8da44e700de",
       "value": "notebook:  86%"
      }
     },
     "885f87b3a2a740c0a0957bee89d63ade": {
      "model_module": "@jupyter-widgets/controls",
      "model_module_version": "2.0.0",
      "model_name": "FloatProgressModel",
      "state": {
       "layout": "IPY_MODEL_743fd4321f2a4e618b29d4decdf3053b",
       "max": 2,
       "style": "IPY_MODEL_50733c4e3a8947c6ba89ef901d0cb6c4",
       "value": 2
      }
     },
     "88ca252f44324af5b7854827257219c5": {
      "model_module": "@jupyter-widgets/controls",
      "model_module_version": "2.0.0",
      "model_name": "HTMLModel",
      "state": {
       "layout": "IPY_MODEL_56b8d72f9649472193bc929f20944d5b",
       "style": "IPY_MODEL_32c253b57e6741bf841735967b12f429",
       "value": "../nbout/dOrg/01_explore.ipynb: 100%"
      }
     },
     "8923b76725cb4843a473886de75737b1": {
      "model_module": "@jupyter-widgets/base",
      "model_module_version": "2.0.0",
      "model_name": "LayoutModel",
      "state": {}
     },
     "8a15ec9dfa584d339ad3eaaba64addf7": {
      "model_module": "@jupyter-widgets/controls",
      "model_module_version": "2.0.0",
      "model_name": "HTMLModel",
      "state": {
       "layout": "IPY_MODEL_1a5113cc3bcd405aa46523174f2618a7",
       "style": "IPY_MODEL_144334fb9f1c46f3b57c25396b8350e5",
       "value": "notebook:   0%"
      }
     },
     "8acdd1e142ff4b228d59316fcc0b754d": {
      "model_module": "@jupyter-widgets/base",
      "model_module_version": "2.0.0",
      "model_name": "LayoutModel",
      "state": {}
     },
     "8bd612bb6a224fda81112fbd6e7d9773": {
      "model_module": "@jupyter-widgets/base",
      "model_module_version": "2.0.0",
      "model_name": "LayoutModel",
      "state": {}
     },
     "8bdd199f21e54454b6b3cc32f446a661": {
      "model_module": "@jupyter-widgets/base",
      "model_module_version": "2.0.0",
      "model_name": "LayoutModel",
      "state": {}
     },
     "8c8f1a929c5e4f5c9f1f025b9ebbb87e": {
      "model_module": "@jupyter-widgets/controls",
      "model_module_version": "2.0.0",
      "model_name": "HTMLModel",
      "state": {
       "layout": "IPY_MODEL_bd5aa9bc30ac4e7aa1816a85dea98971",
       "style": "IPY_MODEL_713a7c9a4dbd4bff84de671bb615e8c6",
       "value": " 32/32 [03:29&lt;00:00,  1.16s/cell]"
      }
     },
     "8f4ec42915ff43d99a4533ac77c738cd": {
      "model_module": "@jupyter-widgets/controls",
      "model_module_version": "2.0.0",
      "model_name": "HTMLModel",
      "state": {
       "layout": "IPY_MODEL_9411734546a040be993d9329f9885af5",
       "style": "IPY_MODEL_21ce1efdec2645daa755ba11dc035078",
       "value": " 6/7 [00:00&lt;00:00,  9.84it/s, 90_results.ipynb]"
      }
     },
     "8f75af6b302a4345855fd862c909061a": {
      "model_module": "@jupyter-widgets/controls",
      "model_module_version": "2.0.0",
      "model_name": "HTMLStyleModel",
      "state": {
       "description_width": "",
       "font_size": null,
       "text_color": null
      }
     },
     "8fb02d9555954b40a7e202b22f570322": {
      "model_module": "@jupyter-widgets/controls",
      "model_module_version": "2.0.0",
      "model_name": "HTMLStyleModel",
      "state": {
       "description_width": "",
       "font_size": null,
       "text_color": null
      }
     },
     "8fd6fe6eeaf7400aacd2e50964e9e04b": {
      "model_module": "@jupyter-widgets/controls",
      "model_module_version": "2.0.0",
      "model_name": "HTMLStyleModel",
      "state": {
       "description_width": "",
       "font_size": null,
       "text_color": null
      }
     },
     "90dbe44573f44ce2835df1d31db7f426": {
      "model_module": "@jupyter-widgets/controls",
      "model_module_version": "2.0.0",
      "model_name": "HTMLModel",
      "state": {
       "layout": "IPY_MODEL_ce431117dfab4b59aeaf7139c1984f8c",
       "style": "IPY_MODEL_2ea3c336c23641078a8690e491a79ddc",
       "value": " 0/2 [00:00&lt;?, ?it/s, 10_baseline.ipynb]"
      }
     },
     "9119189e674a4d28a9283e10282a2302": {
      "model_module": "@jupyter-widgets/base",
      "model_module_version": "2.0.0",
      "model_name": "LayoutModel",
      "state": {}
     },
     "915172fa4beb44f9916652c25b561399": {
      "model_module": "@jupyter-widgets/controls",
      "model_module_version": "2.0.0",
      "model_name": "HTMLStyleModel",
      "state": {
       "description_width": "",
       "font_size": null,
       "text_color": null
      }
     },
     "925e1aad0e8e4bf8b8cd5ca433e93952": {
      "model_module": "@jupyter-widgets/controls",
      "model_module_version": "2.0.0",
      "model_name": "HTMLModel",
      "state": {
       "layout": "IPY_MODEL_8bdd199f21e54454b6b3cc32f446a661",
       "style": "IPY_MODEL_7fde2fe232944980a368ea6d7350282c",
       "value": " 32/32 [00:04&lt;00:00,  9.53cell/s]"
      }
     },
     "927cfe8b4de44a1fa0ccd5a3f785d629": {
      "model_module": "@jupyter-widgets/controls",
      "model_module_version": "2.0.0",
      "model_name": "HTMLModel",
      "state": {
       "layout": "IPY_MODEL_2f69d097aa7544f399fe4a62847da1c4",
       "style": "IPY_MODEL_243920c583e34f4e827814a08c17563c",
       "value": "notebook:   0%"
      }
     },
     "934fcc94efbd40d89f667d5e48286b26": {
      "model_module": "@jupyter-widgets/controls",
      "model_module_version": "2.0.0",
      "model_name": "HTMLModel",
      "state": {
       "layout": "IPY_MODEL_4facd1b3e7494ee1b2b514d20972051f",
       "style": "IPY_MODEL_4938a9e895154ec79e9142d5089f4fc0",
       "value": "../nbout/JuiceboxDAO/01_explore.ipynb: 100%"
      }
     },
     "9411734546a040be993d9329f9885af5": {
      "model_module": "@jupyter-widgets/base",
      "model_module_version": "2.0.0",
      "model_name": "LayoutModel",
      "state": {}
     },
     "950095e50bcc49ecb8a91f2667b6b6a3": {
      "model_module": "@jupyter-widgets/base",
      "model_module_version": "2.0.0",
      "model_name": "LayoutModel",
      "state": {}
     },
     "955fd2ef9b2f42d0b23682c2fd328883": {
      "model_module": "@jupyter-widgets/controls",
      "model_module_version": "2.0.0",
      "model_name": "HTMLStyleModel",
      "state": {
       "description_width": "",
       "font_size": null,
       "text_color": null
      }
     },
     "95905d21b75e43088b32eb7198338101": {
      "model_module": "@jupyter-widgets/controls",
      "model_module_version": "2.0.0",
      "model_name": "HTMLModel",
      "state": {
       "layout": "IPY_MODEL_032eb4f24b0e42c8b4d488f883fa0e90",
       "style": "IPY_MODEL_dff1f38cbdd042239920388f1d21c43d",
       "value": " 32/32 [00:51&lt;00:00,  2.69cell/s]"
      }
     },
     "95b754e13c9f4b35bfa7cec476d959eb": {
      "model_module": "@jupyter-widgets/controls",
      "model_module_version": "2.0.0",
      "model_name": "HTMLModel",
      "state": {
       "layout": "IPY_MODEL_f79c4f79d07b440d8d76b0ba8e9f04f0",
       "style": "IPY_MODEL_02a889bd35f2419aae8320590f17c1c5",
       "value": " 0/2 [00:00&lt;?, ?it/s, 10_baseline.ipynb]"
      }
     },
     "95cd3997cf3244ef97d2efbfbf6dd6d4": {
      "model_module": "@jupyter-widgets/base",
      "model_module_version": "2.0.0",
      "model_name": "LayoutModel",
      "state": {}
     },
     "972271cfc99c47d9bfe8cfd94df9a1ef": {
      "model_module": "@jupyter-widgets/controls",
      "model_module_version": "2.0.0",
      "model_name": "ProgressStyleModel",
      "state": {
       "description_width": ""
      }
     },
     "974b851dd57244748e2923c60e140599": {
      "model_module": "@jupyter-widgets/controls",
      "model_module_version": "2.0.0",
      "model_name": "FloatProgressModel",
      "state": {
       "layout": "IPY_MODEL_be61e1ba5a7542079ad93871bb288d2d",
       "max": 32,
       "style": "IPY_MODEL_b565e748d3d043d6a46bf85be4f93780",
       "value": 32
      }
     },
     "979ac99d8cb547e6a84f70b46939003c": {
      "model_module": "@jupyter-widgets/base",
      "model_module_version": "2.0.0",
      "model_name": "LayoutModel",
      "state": {
       "visibility": "hidden"
      }
     },
     "97a4b3b5747e40f687b59b450c289596": {
      "model_module": "@jupyter-widgets/controls",
      "model_module_version": "2.0.0",
      "model_name": "ProgressStyleModel",
      "state": {
       "description_width": ""
      }
     },
     "97daff368447497fab332378b4bafd31": {
      "model_module": "@jupyter-widgets/controls",
      "model_module_version": "2.0.0",
      "model_name": "FloatProgressModel",
      "state": {
       "layout": "IPY_MODEL_f84ce03d914a424a82f8a9b40dbf9552",
       "max": 32,
       "style": "IPY_MODEL_3bdb253490a84cac8541117fa695d75b",
       "value": 32
      }
     },
     "986081d8ddfd44c68f8863aeb70a9c48": {
      "model_module": "@jupyter-widgets/base",
      "model_module_version": "2.0.0",
      "model_name": "LayoutModel",
      "state": {}
     },
     "9930ebd5917645ad82a0b9fc4c82ea21": {
      "model_module": "@jupyter-widgets/controls",
      "model_module_version": "2.0.0",
      "model_name": "ProgressStyleModel",
      "state": {
       "description_width": ""
      }
     },
     "997137e83d234f709f20393ad468a89f": {
      "model_module": "@jupyter-widgets/base",
      "model_module_version": "2.0.0",
      "model_name": "LayoutModel",
      "state": {}
     },
     "99abb233a6f242128104597d2796b501": {
      "model_module": "@jupyter-widgets/controls",
      "model_module_version": "2.0.0",
      "model_name": "HTMLStyleModel",
      "state": {
       "description_width": "",
       "font_size": null,
       "text_color": null
      }
     },
     "9b11cad672604dec807a8aa6045beed4": {
      "model_module": "@jupyter-widgets/controls",
      "model_module_version": "2.0.0",
      "model_name": "HTMLStyleModel",
      "state": {
       "description_width": "",
       "font_size": null,
       "text_color": null
      }
     },
     "9b32dd17b06a4e11b35af35e7f73188c": {
      "model_module": "@jupyter-widgets/base",
      "model_module_version": "2.0.0",
      "model_name": "LayoutModel",
      "state": {
       "visibility": "hidden"
      }
     },
     "9bd31841c3c641eab735f6dd8f4f857b": {
      "model_module": "@jupyter-widgets/controls",
      "model_module_version": "2.0.0",
      "model_name": "HTMLModel",
      "state": {
       "layout": "IPY_MODEL_bf633fb8fdc340e5b6b5f3d059a193eb",
       "style": "IPY_MODEL_b61884582bca4b4494b062c03236a7ba",
       "value": " 23/23 [00:00&lt;00:00, 104.54it/s]"
      }
     },
     "9c6840b9d2b144a8b906a27723f85f41": {
      "model_module": "@jupyter-widgets/controls",
      "model_module_version": "2.0.0",
      "model_name": "HTMLStyleModel",
      "state": {
       "description_width": "",
       "font_size": null,
       "text_color": null
      }
     },
     "9cb3dfd94f3d440c8c32ce7734c7b893": {
      "model_module": "@jupyter-widgets/base",
      "model_module_version": "2.0.0",
      "model_name": "LayoutModel",
      "state": {}
     },
     "9cf0bf8d29094f6a9d2d5cb80926be1f": {
      "model_module": "@jupyter-widgets/controls",
      "model_module_version": "2.0.0",
      "model_name": "ProgressStyleModel",
      "state": {
       "description_width": ""
      }
     },
     "9df0194967d2422aa21dc3f85b1527dc": {
      "model_module": "@jupyter-widgets/controls",
      "model_module_version": "2.0.0",
      "model_name": "HTMLModel",
      "state": {
       "layout": "IPY_MODEL_4adaec7b2d834976987df40c8a920ff0",
       "style": "IPY_MODEL_313e71093df749e7b08e6264cb37b2f1",
       "value": "../nbout/Balancer/01_explore.ipynb: 100%"
      }
     },
     "9df69eb2e5cf4c988b53786126e9ef53": {
      "model_module": "@jupyter-widgets/controls",
      "model_module_version": "2.0.0",
      "model_name": "HTMLModel",
      "state": {
       "layout": "IPY_MODEL_997137e83d234f709f20393ad468a89f",
       "style": "IPY_MODEL_22d7ce1affde4e73a31ddcac295c6777",
       "value": "../nbout/Genesis Alpha/01_explore.ipynb: 100%"
      }
     },
     "9ebe8c21effb4541be463a53b0cb7077": {
      "model_module": "@jupyter-widgets/controls",
      "model_module_version": "2.0.0",
      "model_name": "HTMLModel",
      "state": {
       "layout": "IPY_MODEL_cb3366ec812d4efaa4e743acdea8f8e6",
       "style": "IPY_MODEL_50eb087b8da142a1bd7558e94c9ef5a3",
       "value": " 0/2 [00:00&lt;?, ?it/s, 10_baseline.ipynb]"
      }
     },
     "9edd0c24f6d448f193966f571e69b5cd": {
      "model_module": "@jupyter-widgets/base",
      "model_module_version": "2.0.0",
      "model_name": "LayoutModel",
      "state": {}
     },
     "9f356bafbefb435eb5c7336a20f96d61": {
      "model_module": "@jupyter-widgets/base",
      "model_module_version": "2.0.0",
      "model_name": "LayoutModel",
      "state": {}
     },
     "9fc0b7ef3d744a61961897f60d6a97bd": {
      "model_module": "@jupyter-widgets/base",
      "model_module_version": "2.0.0",
      "model_name": "LayoutModel",
      "state": {
       "visibility": "hidden"
      }
     },
     "9fea40dbd5144e97b4d5603c3a6fb9f0": {
      "model_module": "@jupyter-widgets/base",
      "model_module_version": "2.0.0",
      "model_name": "LayoutModel",
      "state": {}
     },
     "a05ede6550a4462db9338710d2314e38": {
      "model_module": "@jupyter-widgets/controls",
      "model_module_version": "2.0.0",
      "model_name": "HTMLModel",
      "state": {
       "layout": "IPY_MODEL_dfe3c52990944078b0724f46aa2a3279",
       "style": "IPY_MODEL_42e1a627ece24fe082232fb56e37da5f",
       "value": "../nbout/DEAD FoundationsDAO/01_explore.ipynb: 100%"
      }
     },
     "a14909def0fb414f8741294bf28e65f5": {
      "model_module": "@jupyter-widgets/controls",
      "model_module_version": "2.0.0",
      "model_name": "HTMLModel",
      "state": {
       "layout": "IPY_MODEL_04b7510d578c430f977b9dda820897fc",
       "style": "IPY_MODEL_9b11cad672604dec807a8aa6045beed4",
       "value": " 32/32 [00:04&lt;00:00,  9.74cell/s]"
      }
     },
     "a176d90dad5c43b69dd72e099d893107": {
      "model_module": "@jupyter-widgets/base",
      "model_module_version": "2.0.0",
      "model_name": "LayoutModel",
      "state": {}
     },
     "a17cd7a6e95f492eb2b65db8e1f760f5": {
      "model_module": "@jupyter-widgets/controls",
      "model_module_version": "2.0.0",
      "model_name": "HTMLStyleModel",
      "state": {
       "description_width": "",
       "font_size": null,
       "text_color": null
      }
     },
     "a27f5d427d3b45d19e38675813629e45": {
      "model_module": "@jupyter-widgets/controls",
      "model_module_version": "2.0.0",
      "model_name": "ProgressStyleModel",
      "state": {
       "description_width": ""
      }
     },
     "a2d7eeb1ab54422984300156b5533007": {
      "model_module": "@jupyter-widgets/base",
      "model_module_version": "2.0.0",
      "model_name": "LayoutModel",
      "state": {}
     },
     "a51f6be5b5c94755b7cafe87758ac905": {
      "model_module": "@jupyter-widgets/base",
      "model_module_version": "2.0.0",
      "model_name": "LayoutModel",
      "state": {}
     },
     "a62c23e18ce240bd9b6a4fcd6d5aac19": {
      "model_module": "@jupyter-widgets/controls",
      "model_module_version": "2.0.0",
      "model_name": "HTMLStyleModel",
      "state": {
       "description_width": "",
       "font_size": null,
       "text_color": null
      }
     },
     "a85193357ab04ae585722c29c2c432bb": {
      "model_module": "@jupyter-widgets/controls",
      "model_module_version": "2.0.0",
      "model_name": "FloatProgressModel",
      "state": {
       "layout": "IPY_MODEL_cfe103b4500f40309748bb3ce9ab27e6",
       "max": 32,
       "style": "IPY_MODEL_b105224bfd494afba04a8a7b2129b5dd",
       "value": 32
      }
     },
     "a88e4a0cdf9e4de1b38f634d70cf8d3e": {
      "model_module": "@jupyter-widgets/controls",
      "model_module_version": "2.0.0",
      "model_name": "HTMLStyleModel",
      "state": {
       "description_width": "",
       "font_size": null,
       "text_color": null
      }
     },
     "a8b87824f7374e62b1e2d1accc7d42ce": {
      "model_module": "@jupyter-widgets/controls",
      "model_module_version": "2.0.0",
      "model_name": "ProgressStyleModel",
      "state": {
       "description_width": ""
      }
     },
     "a9119c50db8b4877a66c720cdbe33291": {
      "model_module": "@jupyter-widgets/controls",
      "model_module_version": "2.0.0",
      "model_name": "FloatProgressModel",
      "state": {
       "layout": "IPY_MODEL_a51f6be5b5c94755b7cafe87758ac905",
       "max": 32,
       "style": "IPY_MODEL_cff14d12bcab460d828fba74087d90ac",
       "value": 32
      }
     },
     "a9490712463b4ba0bb01cc9e050a8617": {
      "model_module": "@jupyter-widgets/controls",
      "model_module_version": "2.0.0",
      "model_name": "HTMLStyleModel",
      "state": {
       "description_width": "",
       "font_size": null,
       "text_color": null
      }
     },
     "a96cdd34aa61410fbdb961659abcfb13": {
      "model_module": "@jupyter-widgets/controls",
      "model_module_version": "2.0.0",
      "model_name": "HTMLStyleModel",
      "state": {
       "description_width": "",
       "font_size": null,
       "text_color": null
      }
     },
     "aaed2717e2aa425e8136e38185cf7aa4": {
      "model_module": "@jupyter-widgets/controls",
      "model_module_version": "2.0.0",
      "model_name": "HTMLStyleModel",
      "state": {
       "description_width": "",
       "font_size": null,
       "text_color": null
      }
     },
     "aba00846d5d14a3582739b2000e6b86a": {
      "model_module": "@jupyter-widgets/controls",
      "model_module_version": "2.0.0",
      "model_name": "ProgressStyleModel",
      "state": {
       "description_width": ""
      }
     },
     "abbe9cfed3374172880ab8b570d3f6f7": {
      "model_module": "@jupyter-widgets/controls",
      "model_module_version": "2.0.0",
      "model_name": "FloatProgressModel",
      "state": {
       "layout": "IPY_MODEL_83e53a0c53654f90a0ea25f73c2802b9",
       "max": 7,
       "style": "IPY_MODEL_42f498332436469381836dfcb7417cfa",
       "value": 7
      }
     },
     "ad668c32258d4e95acc6bf85d2eedf6d": {
      "model_module": "@jupyter-widgets/base",
      "model_module_version": "2.0.0",
      "model_name": "LayoutModel",
      "state": {}
     },
     "adb6f9d9fd8c4e339da546a69b2f1175": {
      "model_module": "@jupyter-widgets/base",
      "model_module_version": "2.0.0",
      "model_name": "LayoutModel",
      "state": {}
     },
     "adec616373d04b5fb7ee365f89df6acd": {
      "model_module": "@jupyter-widgets/controls",
      "model_module_version": "2.0.0",
      "model_name": "FloatProgressModel",
      "state": {
       "layout": "IPY_MODEL_16fb7742543b4c768502af1643c9d11a",
       "max": 32,
       "style": "IPY_MODEL_3fa5d97346a6417f8f557399ccf83260",
       "value": 32
      }
     },
     "aeb1d928d9154e4b8da2a7b1b31e8e3c": {
      "model_module": "@jupyter-widgets/controls",
      "model_module_version": "2.0.0",
      "model_name": "ProgressStyleModel",
      "state": {
       "description_width": ""
      }
     },
     "af25f90717074908b7220b92756502f3": {
      "model_module": "@jupyter-widgets/controls",
      "model_module_version": "2.0.0",
      "model_name": "HTMLModel",
      "state": {
       "layout": "IPY_MODEL_d919fc319aec49ac9ca0ea9a8a5c838d",
       "style": "IPY_MODEL_955fd2ef9b2f42d0b23682c2fd328883",
       "value": "../nbout/SharkDAO/01_explore.ipynb: 100%"
      }
     },
     "b06cefd947b04a5fad76aef15221e6f3": {
      "model_module": "@jupyter-widgets/controls",
      "model_module_version": "2.0.0",
      "model_name": "HTMLModel",
      "state": {
       "layout": "IPY_MODEL_9fea40dbd5144e97b4d5603c3a6fb9f0",
       "style": "IPY_MODEL_4fbdee35e01f458486b30bc4724876f3",
       "value": " 23/23 [06:40&lt;00:00, 27.34s/it]"
      }
     },
     "b09c1ebdf4344031894d0bc55094869c": {
      "model_module": "@jupyter-widgets/controls",
      "model_module_version": "2.0.0",
      "model_name": "FloatProgressModel",
      "state": {
       "layout": "IPY_MODEL_f42c06ee41054519b53d673df639e4c4",
       "max": 7,
       "style": "IPY_MODEL_6c36902fef8545d5950d77c826dcec91",
       "value": 7
      }
     },
     "b0c8a01254f44f8f8f85838398bfe3f8": {
      "model_module": "@jupyter-widgets/controls",
      "model_module_version": "2.0.0",
      "model_name": "FloatProgressModel",
      "state": {
       "layout": "IPY_MODEL_f9c1c70cde354361ad2e46f2d98df6e3",
       "max": 2,
       "style": "IPY_MODEL_4bbcb7f0f8d44b5db03a66a39c945a57",
       "value": 2
      }
     },
     "b105224bfd494afba04a8a7b2129b5dd": {
      "model_module": "@jupyter-widgets/controls",
      "model_module_version": "2.0.0",
      "model_name": "ProgressStyleModel",
      "state": {
       "description_width": ""
      }
     },
     "b150119adf514bc7af1ac800574ba17e": {
      "model_module": "@jupyter-widgets/controls",
      "model_module_version": "2.0.0",
      "model_name": "ProgressStyleModel",
      "state": {
       "description_width": ""
      }
     },
     "b1c897e14e754d099f696abed8eb5559": {
      "model_module": "@jupyter-widgets/controls",
      "model_module_version": "2.0.0",
      "model_name": "ProgressStyleModel",
      "state": {
       "description_width": ""
      }
     },
     "b2647409010e451dbd430d2ca9deb627": {
      "model_module": "@jupyter-widgets/base",
      "model_module_version": "2.0.0",
      "model_name": "LayoutModel",
      "state": {}
     },
     "b31c7d25be9248978f0a48f89fa36adb": {
      "model_module": "@jupyter-widgets/base",
      "model_module_version": "2.0.0",
      "model_name": "LayoutModel",
      "state": {
       "visibility": "hidden"
      }
     },
     "b4087ceb58d94da59fc37ce5d73a2077": {
      "model_module": "@jupyter-widgets/controls",
      "model_module_version": "2.0.0",
      "model_name": "FloatProgressModel",
      "state": {
       "layout": "IPY_MODEL_63f7243bfbc540bbb2f23049de415d7a",
       "max": 7,
       "style": "IPY_MODEL_3d4a4ce208bb428b90961b33a12e5e7d",
       "value": 7
      }
     },
     "b4502582e3114310a2bf7879dddd257b": {
      "model_module": "@jupyter-widgets/base",
      "model_module_version": "2.0.0",
      "model_name": "LayoutModel",
      "state": {}
     },
     "b4ddb5f412e24a5f85a317955726eeb6": {
      "model_module": "@jupyter-widgets/base",
      "model_module_version": "2.0.0",
      "model_name": "LayoutModel",
      "state": {}
     },
     "b4e5ce43c973483987657ab54f060ec5": {
      "model_module": "@jupyter-widgets/base",
      "model_module_version": "2.0.0",
      "model_name": "LayoutModel",
      "state": {}
     },
     "b544bcc75b4c4f5b9f9c5d639844f9e1": {
      "model_module": "@jupyter-widgets/base",
      "model_module_version": "2.0.0",
      "model_name": "LayoutModel",
      "state": {}
     },
     "b565e748d3d043d6a46bf85be4f93780": {
      "model_module": "@jupyter-widgets/controls",
      "model_module_version": "2.0.0",
      "model_name": "ProgressStyleModel",
      "state": {
       "description_width": ""
      }
     },
     "b575679e1842455ca23fb80e729a12c7": {
      "model_module": "@jupyter-widgets/controls",
      "model_module_version": "2.0.0",
      "model_name": "FloatProgressModel",
      "state": {
       "layout": "IPY_MODEL_475c9b39e3fc4a2c8444cbfdc0e33f0c",
       "max": 32,
       "style": "IPY_MODEL_6162edb24e3e4725b10a33aedf18ceb0",
       "value": 32
      }
     },
     "b61884582bca4b4494b062c03236a7ba": {
      "model_module": "@jupyter-widgets/controls",
      "model_module_version": "2.0.0",
      "model_name": "HTMLStyleModel",
      "state": {
       "description_width": "",
       "font_size": null,
       "text_color": null
      }
     },
     "b6404af18f294090a9e80c603269f0bd": {
      "model_module": "@jupyter-widgets/base",
      "model_module_version": "2.0.0",
      "model_name": "LayoutModel",
      "state": {}
     },
     "b6a78cb2e9f049928975d110d9e7f57e": {
      "model_module": "@jupyter-widgets/controls",
      "model_module_version": "2.0.0",
      "model_name": "HTMLModel",
      "state": {
       "layout": "IPY_MODEL_f026fcb93ebc43d3aa817355283e7d4e",
       "style": "IPY_MODEL_1992f09a1ef74288ad6b958985fa9eca",
       "value": " 6/7 [00:00&lt;00:00, 11.25it/s, 90_results.ipynb]"
      }
     },
     "b83d7e69708c447e9c2674be1731c605": {
      "model_module": "@jupyter-widgets/base",
      "model_module_version": "2.0.0",
      "model_name": "LayoutModel",
      "state": {}
     },
     "b892b07d92664410a4cd48114c29f57e": {
      "model_module": "@jupyter-widgets/controls",
      "model_module_version": "2.0.0",
      "model_name": "HTMLStyleModel",
      "state": {
       "description_width": "",
       "font_size": null,
       "text_color": null
      }
     },
     "b8943d7c5960461dbc00282cae2ff9c7": {
      "model_module": "@jupyter-widgets/controls",
      "model_module_version": "2.0.0",
      "model_name": "HTMLModel",
      "state": {
       "layout": "IPY_MODEL_43986342f7c2432bbc2805abaf7159d9",
       "style": "IPY_MODEL_e9c7522ee4f14f358c5055f188c59819",
       "value": " 32/32 [00:04&lt;00:00, 10.11cell/s]"
      }
     },
     "b9698c30952542c0835bafbdb1fbced5": {
      "model_module": "@jupyter-widgets/controls",
      "model_module_version": "2.0.0",
      "model_name": "HTMLModel",
      "state": {
       "layout": "IPY_MODEL_83b1595dce2e4bec87e07bb59e5dcedf",
       "style": "IPY_MODEL_f1503f23ab3f44289a3cbca795c98baf",
       "value": "notebook:   0%"
      }
     },
     "bad26103c01e4b498c58a7afc7b1e575": {
      "model_module": "@jupyter-widgets/base",
      "model_module_version": "2.0.0",
      "model_name": "LayoutModel",
      "state": {}
     },
     "bb7ca6ebdd4547568866120a72a4b229": {
      "model_module": "@jupyter-widgets/controls",
      "model_module_version": "2.0.0",
      "model_name": "HTMLStyleModel",
      "state": {
       "description_width": "",
       "font_size": null,
       "text_color": null
      }
     },
     "bcbfee245cfd4433933cef5885b7b212": {
      "model_module": "@jupyter-widgets/controls",
      "model_module_version": "2.0.0",
      "model_name": "ProgressStyleModel",
      "state": {
       "description_width": ""
      }
     },
     "bd5aa9bc30ac4e7aa1816a85dea98971": {
      "model_module": "@jupyter-widgets/base",
      "model_module_version": "2.0.0",
      "model_name": "LayoutModel",
      "state": {}
     },
     "bd9a10df26884c2db3c453bbd0845d41": {
      "model_module": "@jupyter-widgets/controls",
      "model_module_version": "2.0.0",
      "model_name": "HTMLModel",
      "state": {
       "layout": "IPY_MODEL_b83d7e69708c447e9c2674be1731c605",
       "style": "IPY_MODEL_d46d3ddad2da41e4968aa84327bc514f",
       "value": " 6/7 [00:00&lt;00:00,  9.75it/s, 90_results.ipynb]"
      }
     },
     "be545c781b9a48e988a6a8b149f9a6a3": {
      "model_module": "@jupyter-widgets/base",
      "model_module_version": "2.0.0",
      "model_name": "LayoutModel",
      "state": {}
     },
     "be61e1ba5a7542079ad93871bb288d2d": {
      "model_module": "@jupyter-widgets/base",
      "model_module_version": "2.0.0",
      "model_name": "LayoutModel",
      "state": {}
     },
     "be9872754c9b473f8d1199e4c4d26e7f": {
      "model_module": "@jupyter-widgets/base",
      "model_module_version": "2.0.0",
      "model_name": "LayoutModel",
      "state": {
       "visibility": "hidden"
      }
     },
     "beae6781af684aa5a0be0c07c279b4fe": {
      "model_module": "@jupyter-widgets/base",
      "model_module_version": "2.0.0",
      "model_name": "LayoutModel",
      "state": {
       "visibility": "hidden"
      }
     },
     "bf633fb8fdc340e5b6b5f3d059a193eb": {
      "model_module": "@jupyter-widgets/base",
      "model_module_version": "2.0.0",
      "model_name": "LayoutModel",
      "state": {}
     },
     "bf8dba8894364284ab3bbf3c22721426": {
      "model_module": "@jupyter-widgets/controls",
      "model_module_version": "2.0.0",
      "model_name": "HTMLModel",
      "state": {
       "layout": "IPY_MODEL_39bd0f59901542928ad789b1c4f000f9",
       "style": "IPY_MODEL_8fb02d9555954b40a7e202b22f570322",
       "value": " 6/7 [00:00&lt;00:00,  9.80it/s, 90_results.ipynb]"
      }
     },
     "bfe428ef30a04d20ad067622c7b860ab": {
      "model_module": "@jupyter-widgets/base",
      "model_module_version": "2.0.0",
      "model_name": "LayoutModel",
      "state": {}
     },
     "c194a6303bbf4ef2bd383c769d979405": {
      "model_module": "@jupyter-widgets/base",
      "model_module_version": "2.0.0",
      "model_name": "LayoutModel",
      "state": {}
     },
     "c236d9a07bd94dac8cfca58948e05bc7": {
      "model_module": "@jupyter-widgets/base",
      "model_module_version": "2.0.0",
      "model_name": "LayoutModel",
      "state": {}
     },
     "c28f1933dc584294aa107befb87b5fe6": {
      "model_module": "@jupyter-widgets/base",
      "model_module_version": "2.0.0",
      "model_name": "LayoutModel",
      "state": {}
     },
     "c33a4048336c459592e36354635dcb38": {
      "model_module": "@jupyter-widgets/base",
      "model_module_version": "2.0.0",
      "model_name": "LayoutModel",
      "state": {}
     },
     "c346c2b372824e26a4a84e98ab9dd9a1": {
      "model_module": "@jupyter-widgets/controls",
      "model_module_version": "2.0.0",
      "model_name": "ProgressStyleModel",
      "state": {
       "description_width": ""
      }
     },
     "c4bfbeb23c8f43f484880f5a234ce769": {
      "model_module": "@jupyter-widgets/controls",
      "model_module_version": "2.0.0",
      "model_name": "FloatProgressModel",
      "state": {
       "layout": "IPY_MODEL_0b63c2e5a0ee45519bfb13a95d30d231",
       "max": 32,
       "style": "IPY_MODEL_3fc9d769867f4c4bbfe16dff39b4a63f",
       "value": 32
      }
     },
     "c54061f2615d42fcb1e04c190737e391": {
      "model_module": "@jupyter-widgets/controls",
      "model_module_version": "2.0.0",
      "model_name": "HTMLModel",
      "state": {
       "layout": "IPY_MODEL_134eca282a3449acba3351027c9c388b",
       "style": "IPY_MODEL_8fd6fe6eeaf7400aacd2e50964e9e04b",
       "value": " 32/32 [00:11&lt;00:00,  3.85cell/s]"
      }
     },
     "c5850b3efc5b4b8194ad793c2ad2a0f0": {
      "model_module": "@jupyter-widgets/controls",
      "model_module_version": "2.0.0",
      "model_name": "HTMLStyleModel",
      "state": {
       "description_width": "",
       "font_size": null,
       "text_color": null
      }
     },
     "c58816947e274dffa16315752321d92b": {
      "model_module": "@jupyter-widgets/controls",
      "model_module_version": "2.0.0",
      "model_name": "HTMLModel",
      "state": {
       "layout": "IPY_MODEL_7ad99e3a685b43b4a29d1b1f9ed0aafd",
       "style": "IPY_MODEL_d3817a5d16f947648d9db9d8f3c1ebb2",
       "value": " 32/32 [00:04&lt;00:00, 11.14cell/s]"
      }
     },
     "c5aadbdeed8448128f240929cff56017": {
      "model_module": "@jupyter-widgets/controls",
      "model_module_version": "2.0.0",
      "model_name": "FloatProgressModel",
      "state": {
       "layout": "IPY_MODEL_87bdb39fcc394ebe815a02741c44f4ab",
       "max": 32,
       "style": "IPY_MODEL_f590067f62f040caa732ac5c364b9cce",
       "value": 32
      }
     },
     "c5aca0d64c4541f2b3c83a57e9a5d2dc": {
      "model_module": "@jupyter-widgets/controls",
      "model_module_version": "2.0.0",
      "model_name": "FloatProgressModel",
      "state": {
       "layout": "IPY_MODEL_95cd3997cf3244ef97d2efbfbf6dd6d4",
       "max": 2,
       "style": "IPY_MODEL_026d640afe6c46aea9740e86223434bb",
       "value": 2
      }
     },
     "c5c9520d39284c49beb434efd4f18e2e": {
      "model_module": "@jupyter-widgets/controls",
      "model_module_version": "2.0.0",
      "model_name": "HTMLModel",
      "state": {
       "layout": "IPY_MODEL_e2af4086942b4226b819ac302bdeda8c",
       "style": "IPY_MODEL_f03e3dcfdc1d490bb170f6d942421e45",
       "value": " 32/32 [00:04&lt;00:00, 10.33cell/s]"
      }
     },
     "c5f1fbc31e184db1bf26d94332e0d287": {
      "model_module": "@jupyter-widgets/controls",
      "model_module_version": "2.0.0",
      "model_name": "FloatProgressModel",
      "state": {
       "layout": "IPY_MODEL_31e214109ca349ecac7e6c325cd48f5e",
       "max": 32,
       "style": "IPY_MODEL_9930ebd5917645ad82a0b9fc4c82ea21",
       "value": 32
      }
     },
     "c6dfea690a124dc2b2e3f70698a41194": {
      "model_module": "@jupyter-widgets/base",
      "model_module_version": "2.0.0",
      "model_name": "LayoutModel",
      "state": {}
     },
     "c71d8dd3028e49d28abd7350049e4838": {
      "model_module": "@jupyter-widgets/controls",
      "model_module_version": "2.0.0",
      "model_name": "HTMLStyleModel",
      "state": {
       "description_width": "",
       "font_size": null,
       "text_color": null
      }
     },
     "c91daef28bde4fee850d2a0e0869d709": {
      "model_module": "@jupyter-widgets/base",
      "model_module_version": "2.0.0",
      "model_name": "LayoutModel",
      "state": {
       "visibility": "hidden"
      }
     },
     "c994d586b01e4d3bb67b0a6a1f72060a": {
      "model_module": "@jupyter-widgets/controls",
      "model_module_version": "2.0.0",
      "model_name": "HTMLModel",
      "state": {
       "layout": "IPY_MODEL_244ec8a5bfa3411bb723a562ce8184ae",
       "style": "IPY_MODEL_71ca2b10c84b4053bf86ffdea732e059",
       "value": "../nbout/NFTX/01_explore.ipynb: 100%"
      }
     },
     "ca59e73b320144769a206fa37238b65b": {
      "model_module": "@jupyter-widgets/controls",
      "model_module_version": "2.0.0",
      "model_name": "FloatProgressModel",
      "state": {
       "layout": "IPY_MODEL_88181f0b76e548b89885c48ad03f7742",
       "max": 32,
       "style": "IPY_MODEL_97a4b3b5747e40f687b59b450c289596",
       "value": 32
      }
     },
     "cb3366ec812d4efaa4e743acdea8f8e6": {
      "model_module": "@jupyter-widgets/base",
      "model_module_version": "2.0.0",
      "model_name": "LayoutModel",
      "state": {}
     },
     "cd08f1c3b6a3493cbafa677d619a0261": {
      "model_module": "@jupyter-widgets/controls",
      "model_module_version": "2.0.0",
      "model_name": "HTMLModel",
      "state": {
       "layout": "IPY_MODEL_df63f399c3794f5ea3161a8d17ff3995",
       "style": "IPY_MODEL_f6062b4b6a1146bb8cdd9d086cb832ca",
       "value": " 32/32 [00:03&lt;00:00, 10.92cell/s]"
      }
     },
     "cd19407018eb4abdb35bc7adfa74b618": {
      "model_module": "@jupyter-widgets/controls",
      "model_module_version": "2.0.0",
      "model_name": "FloatProgressModel",
      "state": {
       "layout": "IPY_MODEL_5ada9eafc2eb41c383cb864239ec6e13",
       "max": 4,
       "style": "IPY_MODEL_fbf96598950b4e29aa4b1433fa3a53de",
       "value": 4
      }
     },
     "ce431117dfab4b59aeaf7139c1984f8c": {
      "model_module": "@jupyter-widgets/base",
      "model_module_version": "2.0.0",
      "model_name": "LayoutModel",
      "state": {}
     },
     "ce65a16504ec4045a802712d0d58c78d": {
      "model_module": "@jupyter-widgets/controls",
      "model_module_version": "2.0.0",
      "model_name": "HTMLStyleModel",
      "state": {
       "description_width": "",
       "font_size": null,
       "text_color": null
      }
     },
     "cf4ff29ea98b4559957f30fddd453048": {
      "model_module": "@jupyter-widgets/base",
      "model_module_version": "2.0.0",
      "model_name": "LayoutModel",
      "state": {
       "visibility": "hidden"
      }
     },
     "cf6a6733e7c741ac964078a872399bb5": {
      "model_module": "@jupyter-widgets/base",
      "model_module_version": "2.0.0",
      "model_name": "LayoutModel",
      "state": {
       "visibility": "hidden"
      }
     },
     "cfe103b4500f40309748bb3ce9ab27e6": {
      "model_module": "@jupyter-widgets/base",
      "model_module_version": "2.0.0",
      "model_name": "LayoutModel",
      "state": {}
     },
     "cff14d12bcab460d828fba74087d90ac": {
      "model_module": "@jupyter-widgets/controls",
      "model_module_version": "2.0.0",
      "model_name": "ProgressStyleModel",
      "state": {
       "description_width": ""
      }
     },
     "d06ac3c19f594c2096896d7055a54581": {
      "model_module": "@jupyter-widgets/base",
      "model_module_version": "2.0.0",
      "model_name": "LayoutModel",
      "state": {}
     },
     "d1e4e2129a504ea19a90b68172fd3772": {
      "model_module": "@jupyter-widgets/controls",
      "model_module_version": "2.0.0",
      "model_name": "HTMLModel",
      "state": {
       "layout": "IPY_MODEL_441b6eb5051249fb8ff4f0e7e2e28514",
       "style": "IPY_MODEL_60005a9982244f7da83d928022b24575",
       "value": " 32/32 [00:15&lt;00:00,  6.59cell/s]"
      }
     },
     "d307533af33c42e394e0ea1f3c77d1d0": {
      "model_module": "@jupyter-widgets/base",
      "model_module_version": "2.0.0",
      "model_name": "LayoutModel",
      "state": {
       "visibility": "hidden"
      }
     },
     "d3112691e2894522bcbd73b09cac72aa": {
      "model_module": "@jupyter-widgets/base",
      "model_module_version": "2.0.0",
      "model_name": "LayoutModel",
      "state": {}
     },
     "d3817a5d16f947648d9db9d8f3c1ebb2": {
      "model_module": "@jupyter-widgets/controls",
      "model_module_version": "2.0.0",
      "model_name": "HTMLStyleModel",
      "state": {
       "description_width": "",
       "font_size": null,
       "text_color": null
      }
     },
     "d3afbf728dfa4efdb4c43e8252c5239a": {
      "model_module": "@jupyter-widgets/controls",
      "model_module_version": "2.0.0",
      "model_name": "HTMLModel",
      "state": {
       "layout": "IPY_MODEL_0edee5ff5e714638b6ee3df35ae73f9e",
       "style": "IPY_MODEL_dbb750e6e00b4caa9f780b9c3ad560aa",
       "value": " 6/7 [00:00&lt;00:00, 10.20it/s, 90_results.ipynb]"
      }
     },
     "d46d3ddad2da41e4968aa84327bc514f": {
      "model_module": "@jupyter-widgets/controls",
      "model_module_version": "2.0.0",
      "model_name": "HTMLStyleModel",
      "state": {
       "description_width": "",
       "font_size": null,
       "text_color": null
      }
     },
     "d4d58949efb942adbe3ca442b2a97107": {
      "model_module": "@jupyter-widgets/controls",
      "model_module_version": "2.0.0",
      "model_name": "HTMLModel",
      "state": {
       "layout": "IPY_MODEL_36f971eeacc448daa45c275460388827",
       "style": "IPY_MODEL_a17cd7a6e95f492eb2b65db8e1f760f5",
       "value": "org: 100%"
      }
     },
     "d5b2df237cef41fc92bcff8e683510ef": {
      "model_module": "@jupyter-widgets/controls",
      "model_module_version": "2.0.0",
      "model_name": "ProgressStyleModel",
      "state": {
       "description_width": ""
      }
     },
     "d66fbbb265d64488818a019c1119744a": {
      "model_module": "@jupyter-widgets/controls",
      "model_module_version": "2.0.0",
      "model_name": "FloatProgressModel",
      "state": {
       "layout": "IPY_MODEL_b4e5ce43c973483987657ab54f060ec5",
       "max": 7,
       "style": "IPY_MODEL_972271cfc99c47d9bfe8cfd94df9a1ef",
       "value": 7
      }
     },
     "d6892c1b186a4a81a9ccb1a963577c78": {
      "model_module": "@jupyter-widgets/controls",
      "model_module_version": "2.0.0",
      "model_name": "HBoxModel",
      "state": {
       "children": [
        "IPY_MODEL_6a23f14e9f854f1f9096e014361e3fd8",
        "IPY_MODEL_485b14f1000b437f8180f1ab978f916e",
        "IPY_MODEL_b06cefd947b04a5fad76aef15221e6f3"
       ],
       "layout": "IPY_MODEL_799260f3bbc249c7ac71006dab0bdb42"
      }
     },
     "d6feecf55fd74f34b06d9a1183f5ab92": {
      "model_module": "@jupyter-widgets/base",
      "model_module_version": "2.0.0",
      "model_name": "LayoutModel",
      "state": {
       "visibility": "hidden"
      }
     },
     "d73d8bf1abcd43f8bd927775846e4f89": {
      "model_module": "@jupyter-widgets/controls",
      "model_module_version": "2.0.0",
      "model_name": "HTMLStyleModel",
      "state": {
       "description_width": "",
       "font_size": null,
       "text_color": null
      }
     },
     "d748938eeda94f688634a801e168f430": {
      "model_module": "@jupyter-widgets/controls",
      "model_module_version": "2.0.0",
      "model_name": "HTMLModel",
      "state": {
       "layout": "IPY_MODEL_f6eb828939ae4018b4e80a3761195bbe",
       "style": "IPY_MODEL_4f9b8ce3d9f74d1083f6790e0f912b81",
       "value": "../nbout/MetaCartel - MetaCartel Ventures/01_explore.ipynb: 100%"
      }
     },
     "d7d6f16bc45040888a0dac1ac3664b00": {
      "model_module": "@jupyter-widgets/controls",
      "model_module_version": "2.0.0",
      "model_name": "HTMLStyleModel",
      "state": {
       "description_width": "",
       "font_size": null,
       "text_color": null
      }
     },
     "d8563ca7debc452497721a316163588d": {
      "model_module": "@jupyter-widgets/base",
      "model_module_version": "2.0.0",
      "model_name": "LayoutModel",
      "state": {
       "visibility": "hidden"
      }
     },
     "d919fc319aec49ac9ca0ea9a8a5c838d": {
      "model_module": "@jupyter-widgets/base",
      "model_module_version": "2.0.0",
      "model_name": "LayoutModel",
      "state": {}
     },
     "da4de71f40e84cb5a58b87f3861a8dbd": {
      "model_module": "@jupyter-widgets/controls",
      "model_module_version": "2.0.0",
      "model_name": "HTMLModel",
      "state": {
       "layout": "IPY_MODEL_950095e50bcc49ecb8a91f2667b6b6a3",
       "style": "IPY_MODEL_e26994a9b93a43e99eb6ff001567b426",
       "value": " 0/1 [00:00&lt;?, ?it/s, 01_explore.ipynb]"
      }
     },
     "dbb750e6e00b4caa9f780b9c3ad560aa": {
      "model_module": "@jupyter-widgets/controls",
      "model_module_version": "2.0.0",
      "model_name": "HTMLStyleModel",
      "state": {
       "description_width": "",
       "font_size": null,
       "text_color": null
      }
     },
     "dbe5e5999dd54cd3a36cd3c3b3fa7090": {
      "model_module": "@jupyter-widgets/base",
      "model_module_version": "2.0.0",
      "model_name": "LayoutModel",
      "state": {}
     },
     "dca995f871f84580a891aefae6743c8d": {
      "model_module": "@jupyter-widgets/base",
      "model_module_version": "2.0.0",
      "model_name": "LayoutModel",
      "state": {}
     },
     "dcab1c603f6640afb6e83a75110e4952": {
      "model_module": "@jupyter-widgets/controls",
      "model_module_version": "2.0.0",
      "model_name": "HTMLModel",
      "state": {
       "layout": "IPY_MODEL_50229513cfc547439ac355b20670610a",
       "style": "IPY_MODEL_4b882907c3db43869b5dec542effd6a4",
       "value": " 32/32 [00:04&lt;00:00,  9.47cell/s]"
      }
     },
     "ddf6f10a77fd4d539895da23b27bdf7f": {
      "model_module": "@jupyter-widgets/controls",
      "model_module_version": "2.0.0",
      "model_name": "FloatProgressModel",
      "state": {
       "layout": "IPY_MODEL_c194a6303bbf4ef2bd383c769d979405",
       "max": 2,
       "style": "IPY_MODEL_d5b2df237cef41fc92bcff8e683510ef",
       "value": 2
      }
     },
     "de26395c4fd84c5883ca68f65ec2d875": {
      "model_module": "@jupyter-widgets/controls",
      "model_module_version": "2.0.0",
      "model_name": "FloatProgressModel",
      "state": {
       "layout": "IPY_MODEL_7b100c36eb214975956bfa7860ad3bac",
       "max": 32,
       "style": "IPY_MODEL_84194dadd54f4cfd9b8c724a50b12a3f",
       "value": 32
      }
     },
     "de90a4b6cf654dd0adc71a68e1ce984d": {
      "model_module": "@jupyter-widgets/controls",
      "model_module_version": "2.0.0",
      "model_name": "HTMLModel",
      "state": {
       "layout": "IPY_MODEL_28773e33d9be49f5b2a36e0cc2fd7661",
       "style": "IPY_MODEL_a62c23e18ce240bd9b6a4fcd6d5aac19",
       "value": "notebook:  86%"
      }
     },
     "dea5a1018d6a475b8203ec68b70d534a": {
      "model_module": "@jupyter-widgets/base",
      "model_module_version": "2.0.0",
      "model_name": "LayoutModel",
      "state": {
       "visibility": "hidden"
      }
     },
     "dea6aa9cd49c4c38abcd209d7b2ef09e": {
      "model_module": "@jupyter-widgets/controls",
      "model_module_version": "2.0.0",
      "model_name": "HTMLStyleModel",
      "state": {
       "description_width": "",
       "font_size": null,
       "text_color": null
      }
     },
     "deb8ea95f72441488bde75bf9b040849": {
      "model_module": "@jupyter-widgets/controls",
      "model_module_version": "2.0.0",
      "model_name": "FloatProgressModel",
      "state": {
       "layout": "IPY_MODEL_61dc96f4e2a141479bf2304295aae749",
       "max": 7,
       "style": "IPY_MODEL_07bade0a897f474ba98969837ebf0a9b",
       "value": 7
      }
     },
     "df63f399c3794f5ea3161a8d17ff3995": {
      "model_module": "@jupyter-widgets/base",
      "model_module_version": "2.0.0",
      "model_name": "LayoutModel",
      "state": {}
     },
     "dfe3c52990944078b0724f46aa2a3279": {
      "model_module": "@jupyter-widgets/base",
      "model_module_version": "2.0.0",
      "model_name": "LayoutModel",
      "state": {}
     },
     "dff1f38cbdd042239920388f1d21c43d": {
      "model_module": "@jupyter-widgets/controls",
      "model_module_version": "2.0.0",
      "model_name": "HTMLStyleModel",
      "state": {
       "description_width": "",
       "font_size": null,
       "text_color": null
      }
     },
     "e06a41e1342346c6aa057e067df93453": {
      "model_module": "@jupyter-widgets/controls",
      "model_module_version": "2.0.0",
      "model_name": "HTMLStyleModel",
      "state": {
       "description_width": "",
       "font_size": null,
       "text_color": null
      }
     },
     "e1ba739b7bb6420b8fca5cc7e2540198": {
      "model_module": "@jupyter-widgets/base",
      "model_module_version": "2.0.0",
      "model_name": "LayoutModel",
      "state": {
       "visibility": "hidden"
      }
     },
     "e26994a9b93a43e99eb6ff001567b426": {
      "model_module": "@jupyter-widgets/controls",
      "model_module_version": "2.0.0",
      "model_name": "HTMLStyleModel",
      "state": {
       "description_width": "",
       "font_size": null,
       "text_color": null
      }
     },
     "e2af4086942b4226b819ac302bdeda8c": {
      "model_module": "@jupyter-widgets/base",
      "model_module_version": "2.0.0",
      "model_name": "LayoutModel",
      "state": {}
     },
     "e3838fd19f9240daae0f88e085321283": {
      "model_module": "@jupyter-widgets/base",
      "model_module_version": "2.0.0",
      "model_name": "LayoutModel",
      "state": {}
     },
     "e3b9747b3da045bcaf8b80dacb71832e": {
      "model_module": "@jupyter-widgets/controls",
      "model_module_version": "2.0.0",
      "model_name": "HTMLModel",
      "state": {
       "layout": "IPY_MODEL_4417026b9b99423fb026019bf7148e88",
       "style": "IPY_MODEL_a88e4a0cdf9e4de1b38f634d70cf8d3e",
       "value": " 6/7 [00:00&lt;00:00,  9.93it/s, 90_results.ipynb]"
      }
     },
     "e3fe0a93765644f09577a8da44e700de": {
      "model_module": "@jupyter-widgets/controls",
      "model_module_version": "2.0.0",
      "model_name": "HTMLStyleModel",
      "state": {
       "description_width": "",
       "font_size": null,
       "text_color": null
      }
     },
     "e40ed4b0ac9f4daeafc7fa0b48774802": {
      "model_module": "@jupyter-widgets/controls",
      "model_module_version": "2.0.0",
      "model_name": "ProgressStyleModel",
      "state": {
       "description_width": ""
      }
     },
     "e4a9517fa9e84b49a38ea5e337790252": {
      "model_module": "@jupyter-widgets/controls",
      "model_module_version": "2.0.0",
      "model_name": "HTMLModel",
      "state": {
       "layout": "IPY_MODEL_18dcd54a13654bd9a373849bc9f4561a",
       "style": "IPY_MODEL_e99fb7579cbb424ea92b37769ff9d74c",
       "value": "notebook:  86%"
      }
     },
     "e5ad032b13094c6788f449ac97dd8ec0": {
      "model_module": "@jupyter-widgets/controls",
      "model_module_version": "2.0.0",
      "model_name": "HTMLModel",
      "state": {
       "layout": "IPY_MODEL_8acdd1e142ff4b228d59316fcc0b754d",
       "style": "IPY_MODEL_1b500bcfbc514baf8867212c0f68cb48",
       "value": " 32/32 [00:04&lt;00:00, 10.48cell/s]"
      }
     },
     "e5ca41cc682d46bd8771ef7f7b55c8b9": {
      "model_module": "@jupyter-widgets/controls",
      "model_module_version": "2.0.0",
      "model_name": "HTMLStyleModel",
      "state": {
       "description_width": "",
       "font_size": null,
       "text_color": null
      }
     },
     "e61f2e72afc94ff69d2b32b0e9f48439": {
      "model_module": "@jupyter-widgets/base",
      "model_module_version": "2.0.0",
      "model_name": "LayoutModel",
      "state": {}
     },
     "e6291d61b05a4758bd8fc2b0f62664d5": {
      "model_module": "@jupyter-widgets/controls",
      "model_module_version": "2.0.0",
      "model_name": "HTMLModel",
      "state": {
       "layout": "IPY_MODEL_f2b05d75cbc645ed9bb4b6152f8325a8",
       "style": "IPY_MODEL_ce65a16504ec4045a802712d0d58c78d",
       "value": " 23/23 [00:09&lt;00:00,  2.63it/s, Good Morning News]"
      }
     },
     "e66bd8ec3c534c17af91a54150622f3c": {
      "model_module": "@jupyter-widgets/controls",
      "model_module_version": "2.0.0",
      "model_name": "ProgressStyleModel",
      "state": {
       "description_width": ""
      }
     },
     "e67061e3fb044e1586739ba89b807fc7": {
      "model_module": "@jupyter-widgets/base",
      "model_module_version": "2.0.0",
      "model_name": "LayoutModel",
      "state": {
       "visibility": "hidden"
      }
     },
     "e6bb307e904140b8961a045e7166e594": {
      "model_module": "@jupyter-widgets/controls",
      "model_module_version": "2.0.0",
      "model_name": "FloatProgressModel",
      "state": {
       "layout": "IPY_MODEL_ad668c32258d4e95acc6bf85d2eedf6d",
       "max": 32,
       "style": "IPY_MODEL_0670c47f275c40cbbe9456d377fc3266",
       "value": 32
      }
     },
     "e78f485f2c4044bf88a39a70ef518590": {
      "model_module": "@jupyter-widgets/base",
      "model_module_version": "2.0.0",
      "model_name": "LayoutModel",
      "state": {}
     },
     "e792c425add9417cab82268702b95b36": {
      "model_module": "@jupyter-widgets/controls",
      "model_module_version": "2.0.0",
      "model_name": "HTMLModel",
      "state": {
       "layout": "IPY_MODEL_066c2b173c5144b5a0c1459d4985a80e",
       "style": "IPY_MODEL_8f75af6b302a4345855fd862c909061a",
       "value": " 6/7 [00:00&lt;00:00, 10.23it/s, 90_results.ipynb]"
      }
     },
     "e846c915e8e54d919a9082dc740ed5b5": {
      "model_module": "@jupyter-widgets/base",
      "model_module_version": "2.0.0",
      "model_name": "LayoutModel",
      "state": {}
     },
     "e84ee6dd1de3476899e496ca93784c61": {
      "model_module": "@jupyter-widgets/base",
      "model_module_version": "2.0.0",
      "model_name": "LayoutModel",
      "state": {
       "visibility": "hidden"
      }
     },
     "e873ca3d857346178ab99477d73be2d1": {
      "model_module": "@jupyter-widgets/base",
      "model_module_version": "2.0.0",
      "model_name": "LayoutModel",
      "state": {}
     },
     "e99fb7579cbb424ea92b37769ff9d74c": {
      "model_module": "@jupyter-widgets/controls",
      "model_module_version": "2.0.0",
      "model_name": "HTMLStyleModel",
      "state": {
       "description_width": "",
       "font_size": null,
       "text_color": null
      }
     },
     "e9c7522ee4f14f358c5055f188c59819": {
      "model_module": "@jupyter-widgets/controls",
      "model_module_version": "2.0.0",
      "model_name": "HTMLStyleModel",
      "state": {
       "description_width": "",
       "font_size": null,
       "text_color": null
      }
     },
     "ebe94c52c9154a9cb3e8b5fd283bf85b": {
      "model_module": "@jupyter-widgets/controls",
      "model_module_version": "2.0.0",
      "model_name": "HTMLModel",
      "state": {
       "layout": "IPY_MODEL_081303c46f414eab9c1588c3494350e5",
       "style": "IPY_MODEL_e5ca41cc682d46bd8771ef7f7b55c8b9",
       "value": "notebook:  86%"
      }
     },
     "ec9ec8f87b62479ea6b6d82215adacb1": {
      "model_module": "@jupyter-widgets/base",
      "model_module_version": "2.0.0",
      "model_name": "LayoutModel",
      "state": {}
     },
     "ecbbdd5332a24fa6b7f7f6356cdb7807": {
      "model_module": "@jupyter-widgets/controls",
      "model_module_version": "2.0.0",
      "model_name": "HTMLModel",
      "state": {
       "layout": "IPY_MODEL_e3838fd19f9240daae0f88e085321283",
       "style": "IPY_MODEL_34d0b6f053aa4266b984d764833adca8",
       "value": " 32/32 [00:04&lt;00:00,  9.85cell/s]"
      }
     },
     "ed6224784d0748b28604af8fc3215b1a": {
      "model_module": "@jupyter-widgets/base",
      "model_module_version": "2.0.0",
      "model_name": "LayoutModel",
      "state": {}
     },
     "ed9e3098365141e8a71c366e1d4a1f0d": {
      "model_module": "@jupyter-widgets/controls",
      "model_module_version": "2.0.0",
      "model_name": "ProgressStyleModel",
      "state": {
       "description_width": ""
      }
     },
     "edf5675a0eb94441ba2fd224df057c2c": {
      "model_module": "@jupyter-widgets/base",
      "model_module_version": "2.0.0",
      "model_name": "LayoutModel",
      "state": {}
     },
     "ee063c7fb63b46a7a51f9731468f6305": {
      "model_module": "@jupyter-widgets/controls",
      "model_module_version": "2.0.0",
      "model_name": "HTMLModel",
      "state": {
       "layout": "IPY_MODEL_f7140e9015ba44a4b499e300a376773e",
       "style": "IPY_MODEL_76972b30dca24d60acc6788044405d66",
       "value": "notebook:  86%"
      }
     },
     "ee1701dfc49e490aae4599c47e6e5868": {
      "model_module": "@jupyter-widgets/controls",
      "model_module_version": "2.0.0",
      "model_name": "HTMLStyleModel",
      "state": {
       "description_width": "",
       "font_size": null,
       "text_color": null
      }
     },
     "eebf1f482bae4841ad99c273b775c527": {
      "model_module": "@jupyter-widgets/controls",
      "model_module_version": "2.0.0",
      "model_name": "HTMLModel",
      "state": {
       "layout": "IPY_MODEL_9119189e674a4d28a9283e10282a2302",
       "style": "IPY_MODEL_659b5150c20a4ccc9c0b4f03152bd100",
       "value": "../nbout/HUWA-DAO/01_explore.ipynb: 100%"
      }
     },
     "ef47d133b7dc4d2aba04b8ad78277e18": {
      "model_module": "@jupyter-widgets/base",
      "model_module_version": "2.0.0",
      "model_name": "LayoutModel",
      "state": {
       "visibility": "hidden"
      }
     },
     "ef94f353fc55453a806fd3829c71e131": {
      "model_module": "@jupyter-widgets/controls",
      "model_module_version": "2.0.0",
      "model_name": "FloatProgressModel",
      "state": {
       "layout": "IPY_MODEL_0396335d17024a039b1dc44c4cdda2af",
       "max": 32,
       "style": "IPY_MODEL_62162c681d754d978f8da7624a52ea20",
       "value": 32
      }
     },
     "f026fcb93ebc43d3aa817355283e7d4e": {
      "model_module": "@jupyter-widgets/base",
      "model_module_version": "2.0.0",
      "model_name": "LayoutModel",
      "state": {}
     },
     "f03e3dcfdc1d490bb170f6d942421e45": {
      "model_module": "@jupyter-widgets/controls",
      "model_module_version": "2.0.0",
      "model_name": "HTMLStyleModel",
      "state": {
       "description_width": "",
       "font_size": null,
       "text_color": null
      }
     },
     "f07db14a70084295b88ece55175ecfc4": {
      "model_module": "@jupyter-widgets/controls",
      "model_module_version": "2.0.0",
      "model_name": "HTMLModel",
      "state": {
       "layout": "IPY_MODEL_32a80fcacd4f43d68ab750e089e1de6c",
       "style": "IPY_MODEL_3d5868df4bb34a519b287773f01cbc16",
       "value": "../nbout/Bent Finance/01_explore.ipynb: 100%"
      }
     },
     "f0b5440d0cca4b728ce9eba68356d23f": {
      "model_module": "@jupyter-widgets/controls",
      "model_module_version": "2.0.0",
      "model_name": "HTMLModel",
      "state": {
       "layout": "IPY_MODEL_18a463c7e3a94d90ae8de1d0c227aa97",
       "style": "IPY_MODEL_fa8d871679424ed2adcda86bce1f7bb7",
       "value": " 32/32 [00:06&lt;00:00,  6.13cell/s]"
      }
     },
     "f0bfda75f82e42ce9a4020d94cc74ee5": {
      "model_module": "@jupyter-widgets/controls",
      "model_module_version": "2.0.0",
      "model_name": "HTMLStyleModel",
      "state": {
       "description_width": "",
       "font_size": null,
       "text_color": null
      }
     },
     "f0e1fbd636e54ad4ab0ea73208f5373a": {
      "model_module": "@jupyter-widgets/base",
      "model_module_version": "2.0.0",
      "model_name": "LayoutModel",
      "state": {
       "visibility": "hidden"
      }
     },
     "f1503f23ab3f44289a3cbca795c98baf": {
      "model_module": "@jupyter-widgets/controls",
      "model_module_version": "2.0.0",
      "model_name": "HTMLStyleModel",
      "state": {
       "description_width": "",
       "font_size": null,
       "text_color": null
      }
     },
     "f19df65af512478a82f4c59d0069f15e": {
      "model_module": "@jupyter-widgets/base",
      "model_module_version": "2.0.0",
      "model_name": "LayoutModel",
      "state": {}
     },
     "f2a1459e301145dc8309127832cfb4b8": {
      "model_module": "@jupyter-widgets/base",
      "model_module_version": "2.0.0",
      "model_name": "LayoutModel",
      "state": {
       "visibility": "hidden"
      }
     },
     "f2b05d75cbc645ed9bb4b6152f8325a8": {
      "model_module": "@jupyter-widgets/base",
      "model_module_version": "2.0.0",
      "model_name": "LayoutModel",
      "state": {}
     },
     "f31d4eabdb194ea19123c9ff3d323f68": {
      "model_module": "@jupyter-widgets/controls",
      "model_module_version": "2.0.0",
      "model_name": "HTMLModel",
      "state": {
       "layout": "IPY_MODEL_5d888e7787314d67a85b67daf5ea78ab",
       "style": "IPY_MODEL_591e9fccd96a4c24bba41057bc3ff08c",
       "value": " 6/7 [00:00&lt;00:00, 13.64it/s, 90_results.ipynb]"
      }
     },
     "f3e4ddbec6af4ffcad8033cb6b9cdb77": {
      "model_module": "@jupyter-widgets/base",
      "model_module_version": "2.0.0",
      "model_name": "LayoutModel",
      "state": {}
     },
     "f4142b37e7c647d6bd5597b7b4793206": {
      "model_module": "@jupyter-widgets/base",
      "model_module_version": "2.0.0",
      "model_name": "LayoutModel",
      "state": {}
     },
     "f42c06ee41054519b53d673df639e4c4": {
      "model_module": "@jupyter-widgets/base",
      "model_module_version": "2.0.0",
      "model_name": "LayoutModel",
      "state": {}
     },
     "f4f91f0ca1854a24aa2a3d61d04a7dbf": {
      "model_module": "@jupyter-widgets/controls",
      "model_module_version": "2.0.0",
      "model_name": "HTMLStyleModel",
      "state": {
       "description_width": "",
       "font_size": null,
       "text_color": null
      }
     },
     "f5220b26ca754e16953f828165049450": {
      "model_module": "@jupyter-widgets/base",
      "model_module_version": "2.0.0",
      "model_name": "LayoutModel",
      "state": {}
     },
     "f590067f62f040caa732ac5c364b9cce": {
      "model_module": "@jupyter-widgets/controls",
      "model_module_version": "2.0.0",
      "model_name": "ProgressStyleModel",
      "state": {
       "description_width": ""
      }
     },
     "f6062b4b6a1146bb8cdd9d086cb832ca": {
      "model_module": "@jupyter-widgets/controls",
      "model_module_version": "2.0.0",
      "model_name": "HTMLStyleModel",
      "state": {
       "description_width": "",
       "font_size": null,
       "text_color": null
      }
     },
     "f6115f5f8da04a8ab22124153ce9c62a": {
      "model_module": "@jupyter-widgets/base",
      "model_module_version": "2.0.0",
      "model_name": "LayoutModel",
      "state": {}
     },
     "f68e789121054c0ca0424215a307749e": {
      "model_module": "@jupyter-widgets/controls",
      "model_module_version": "2.0.0",
      "model_name": "HTMLStyleModel",
      "state": {
       "description_width": "",
       "font_size": null,
       "text_color": null
      }
     },
     "f6e2d12c80694b80842240451691e4ec": {
      "model_module": "@jupyter-widgets/controls",
      "model_module_version": "2.0.0",
      "model_name": "FloatProgressModel",
      "state": {
       "layout": "IPY_MODEL_c28f1933dc584294aa107befb87b5fe6",
       "max": 32,
       "style": "IPY_MODEL_e66bd8ec3c534c17af91a54150622f3c",
       "value": 32
      }
     },
     "f6eb828939ae4018b4e80a3761195bbe": {
      "model_module": "@jupyter-widgets/base",
      "model_module_version": "2.0.0",
      "model_name": "LayoutModel",
      "state": {}
     },
     "f7140e9015ba44a4b499e300a376773e": {
      "model_module": "@jupyter-widgets/base",
      "model_module_version": "2.0.0",
      "model_name": "LayoutModel",
      "state": {}
     },
     "f79c4f79d07b440d8d76b0ba8e9f04f0": {
      "model_module": "@jupyter-widgets/base",
      "model_module_version": "2.0.0",
      "model_name": "LayoutModel",
      "state": {}
     },
     "f84ce03d914a424a82f8a9b40dbf9552": {
      "model_module": "@jupyter-widgets/base",
      "model_module_version": "2.0.0",
      "model_name": "LayoutModel",
      "state": {}
     },
     "f879c52659d64af3a20e5010b260408e": {
      "model_module": "@jupyter-widgets/controls",
      "model_module_version": "2.0.0",
      "model_name": "HTMLModel",
      "state": {
       "layout": "IPY_MODEL_dca995f871f84580a891aefae6743c8d",
       "style": "IPY_MODEL_3a80f66995fd41c3b20d6883af5425bb",
       "value": "../nbout/PancakeSwap/01_explore.ipynb: 100%"
      }
     },
     "f999767265984e5b87871bb6e0d98c33": {
      "model_module": "@jupyter-widgets/controls",
      "model_module_version": "2.0.0",
      "model_name": "HTMLStyleModel",
      "state": {
       "description_width": "",
       "font_size": null,
       "text_color": null
      }
     },
     "f9c1c70cde354361ad2e46f2d98df6e3": {
      "model_module": "@jupyter-widgets/base",
      "model_module_version": "2.0.0",
      "model_name": "LayoutModel",
      "state": {}
     },
     "fa08702c5ade420aac2b8a7601e65608": {
      "model_module": "@jupyter-widgets/controls",
      "model_module_version": "2.0.0",
      "model_name": "FloatProgressModel",
      "state": {
       "layout": "IPY_MODEL_f3e4ddbec6af4ffcad8033cb6b9cdb77",
       "max": 7,
       "style": "IPY_MODEL_9cf0bf8d29094f6a9d2d5cb80926be1f",
       "value": 7
      }
     },
     "fa8d871679424ed2adcda86bce1f7bb7": {
      "model_module": "@jupyter-widgets/controls",
      "model_module_version": "2.0.0",
      "model_name": "HTMLStyleModel",
      "state": {
       "description_width": "",
       "font_size": null,
       "text_color": null
      }
     },
     "fa8ed4a0db2b4d30ba4f6c929eb5e83c": {
      "model_module": "@jupyter-widgets/base",
      "model_module_version": "2.0.0",
      "model_name": "LayoutModel",
      "state": {
       "visibility": "hidden"
      }
     },
     "faef84f6a87c4eb4a357af68b20301ee": {
      "model_module": "@jupyter-widgets/controls",
      "model_module_version": "2.0.0",
      "model_name": "FloatProgressModel",
      "state": {
       "layout": "IPY_MODEL_6e3916e237d84c3d80447d2389ce7465",
       "max": 32,
       "style": "IPY_MODEL_aba00846d5d14a3582739b2000e6b86a",
       "value": 32
      }
     },
     "fb547d73141a435589e2ced4e594f75c": {
      "model_module": "@jupyter-widgets/controls",
      "model_module_version": "2.0.0",
      "model_name": "HTMLModel",
      "state": {
       "layout": "IPY_MODEL_23b263cc0e4443e892246fbf167bd658",
       "style": "IPY_MODEL_fb68f306fe8c4023baa834b49cdfdfd3",
       "value": " 32/32 [00:04&lt;00:00, 10.61cell/s]"
      }
     },
     "fb68f306fe8c4023baa834b49cdfdfd3": {
      "model_module": "@jupyter-widgets/controls",
      "model_module_version": "2.0.0",
      "model_name": "HTMLStyleModel",
      "state": {
       "description_width": "",
       "font_size": null,
       "text_color": null
      }
     },
     "fbe67977882e43bb8a8cc0c22498c21f": {
      "model_module": "@jupyter-widgets/base",
      "model_module_version": "2.0.0",
      "model_name": "LayoutModel",
      "state": {
       "visibility": "hidden"
      }
     },
     "fbf96598950b4e29aa4b1433fa3a53de": {
      "model_module": "@jupyter-widgets/controls",
      "model_module_version": "2.0.0",
      "model_name": "ProgressStyleModel",
      "state": {
       "description_width": ""
      }
     },
     "fc31cce1dd294479afbcf98ab15bb842": {
      "model_module": "@jupyter-widgets/controls",
      "model_module_version": "2.0.0",
      "model_name": "HTMLStyleModel",
      "state": {
       "description_width": "",
       "font_size": null,
       "text_color": null
      }
     },
     "fcac096ea9dc4e43a79638e2aaab3b48": {
      "model_module": "@jupyter-widgets/controls",
      "model_module_version": "2.0.0",
      "model_name": "FloatProgressModel",
      "state": {
       "layout": "IPY_MODEL_c33a4048336c459592e36354635dcb38",
       "max": 32,
       "style": "IPY_MODEL_6bdbcc4039c54bb08811f6689aa5161c",
       "value": 32
      }
     },
     "fdb6dbcacfcd4e80a1eef3688452f8ba": {
      "model_module": "@jupyter-widgets/base",
      "model_module_version": "2.0.0",
      "model_name": "LayoutModel",
      "state": {}
     },
     "fe33a3ab9a8f40c3b988370201f47281": {
      "model_module": "@jupyter-widgets/controls",
      "model_module_version": "2.0.0",
      "model_name": "HTMLModel",
      "state": {
       "layout": "IPY_MODEL_f19df65af512478a82f4c59d0069f15e",
       "style": "IPY_MODEL_a9490712463b4ba0bb01cc9e050a8617",
       "value": "notebook:   0%"
      }
     }
    },
    "version_major": 2,
    "version_minor": 0
   }
  }
 },
 "nbformat": 4,
 "nbformat_minor": 5
}
