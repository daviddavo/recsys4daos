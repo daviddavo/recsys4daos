{
 "cells": [
  {
   "cell_type": "code",
   "execution_count": null,
   "id": "cbd76dd7-fa42-404b-8f31-fe769918e9e8",
   "metadata": {
    "editable": true,
    "slideshow": {
     "slide_type": ""
    },
    "tags": []
   },
   "outputs": [],
   "source": [
    "import re\n",
    "from pathlib import Path\n",
    "from dataclasses import dataclass\n",
    "\n",
    "from tqdm.autonotebook import tqdm\n",
    "import papermill as pm\n",
    "\n",
    "from recsys4daos.utils.notebooks import run_dao_notebook"
   ]
  },
  {
   "cell_type": "code",
   "execution_count": null,
   "id": "ed8b1aa5-c3b8-439b-b74e-d66642a81d96",
   "metadata": {
    "editable": true,
    "slideshow": {
     "slide_type": ""
    },
    "tags": []
   },
   "outputs": [],
   "source": [
    "all_notebooks = Path('.').glob('*.ipynb')\n",
    "run_notebooks = sorted(p for p in all_notebooks if re.match(r'\\d+_', p.name))\n",
    "run_notebooks"
   ]
  },
  {
   "cell_type": "code",
   "execution_count": null,
   "id": "6fdeadd6-6054-4d86-8eb5-c11e20edf41c",
   "metadata": {
    "editable": true,
    "slideshow": {
     "slide_type": ""
    },
    "tags": []
   },
   "outputs": [],
   "source": [
    "MAX_CUTOFF = '2023-07-29'\n",
    "OUTPUT_PATH: str = '../nbout/'\n",
    "EXECUTION_ID: str = '2024-07-01'"
   ]
  },
  {
   "cell_type": "code",
   "execution_count": null,
   "id": "9e569d9e-45b5-4ea1-b67e-12e71261f87d",
   "metadata": {
    "editable": true,
    "slideshow": {
     "slide_type": ""
    },
    "tags": []
   },
   "outputs": [],
   "source": [
    "@dataclass\n",
    "class DaoToRun:\n",
    "    # Name of the organization (see ./data/input)\n",
    "    org_name: str\n",
    "    # Frequency of the splits\n",
    "    splits_freq: str = '7d'\n",
    "    # Wether to normalize the folds (start at 00:00)\n",
    "    splits_normalize: bool = True\n",
    "    # Number of folds to use\n",
    "    last_folds: int = 10\n",
    "    # Date of the last fold to use\n",
    "    last_fold: str = MAX_CUTOFF\n",
    "    # Run until this notebook number\n",
    "    run_until_nb: int = 100\n",
    "\n",
    "ALL_DAOS: list[DaoToRun] = [\n",
    "    DaoToRun(\n",
    "        org_name='Decentraland',\n",
    "        splits_freq='W-THU',\n",
    "    ),\n",
    "    DaoToRun(\n",
    "        org_name='PancakeSwap',\n",
    "        splits_freq='3d',\n",
    "        cutoff_date='2023-07-01',\n",
    "        run_until_nb=10,\n",
    "    ),\n",
    "]"
   ]
  },
  {
   "cell_type": "code",
   "execution_count": null,
   "id": "7c4fd221-8dd2-4d79-990c-2d53ffde4814",
   "metadata": {},
   "outputs": [],
   "source": [
    "def _nb_le(nb: Path, last_nb: int):\n",
    "    return int(re.match(r'(\\d+)_', nb.name)[1]) <= last_nb\n",
    "\n",
    "for nb in run_notebooks:\n",
    "    print(nb, _nb_le(nb, 11))"
   ]
  },
  {
   "cell_type": "code",
   "execution_count": null,
   "id": "13e6e198-0c50-4463-9cda-b390b73fd10c",
   "metadata": {
    "editable": true,
    "slideshow": {
     "slide_type": ""
    },
    "tags": []
   },
   "outputs": [],
   "source": [
    "for dao in (b1 := tqdm(ALL_DAOS, desc='org')):\n",
    "    b1.set_postfix_str(dao.org_name)\n",
    "    for nb in (b2 := tqdm(_nb_le(run_notebooks, dao.run_until_nb)), desc='notebook')):\n",
    "        b2.set_postfix_str(nb)\n",
    "        run_dao_notebook(\n",
    "            nb,\n",
    "            OUTPUT_PATH,\n",
    "            EXECUTION_ID,\n",
    "            ORG_NAME=dao.org_name,\n",
    "            SPLITS_FREQ=dao.splits_freq,\n",
    "            LAST_FOLDS=dao.last_folds,\n",
    "            SPLITS_NORMALIZE=dao.splits_normalize,\n",
    "        )"
   ]
  },
  {
   "cell_type": "code",
   "execution_count": null,
   "id": "7e1beead-bde7-4cba-806c-ceb9858c6c48",
   "metadata": {
    "editable": true,
    "slideshow": {
     "slide_type": ""
    },
    "tags": []
   },
   "outputs": [],
   "source": []
  }
 ],
 "metadata": {
  "kernelspec": {
   "display_name": "Python 3 (ipykernel)",
   "language": "python",
   "name": "python3"
  },
  "language_info": {
   "codemirror_mode": {
    "name": "ipython",
    "version": 3
   },
   "file_extension": ".py",
   "mimetype": "text/x-python",
   "name": "python",
   "nbconvert_exporter": "python",
   "pygments_lexer": "ipython3",
   "version": "3.11.6"
  },
  "widgets": {
   "application/vnd.jupyter.widget-state+json": {
    "state": {
     "19860f161ded4626a36b71f9ae40eecf": {
      "model_module": "@jupyter-widgets/base",
      "model_module_version": "2.0.0",
      "model_name": "LayoutModel",
      "state": {}
     },
     "1da7d770ccf34686af270a90532ece1c": {
      "model_module": "@jupyter-widgets/base",
      "model_module_version": "2.0.0",
      "model_name": "LayoutModel",
      "state": {}
     },
     "20476ccb01384d77aae60b7af23c303e": {
      "model_module": "@jupyter-widgets/controls",
      "model_module_version": "2.0.0",
      "model_name": "HBoxModel",
      "state": {
       "children": [
        "IPY_MODEL_d145fd8a340941a097ca3bb5430a610b",
        "IPY_MODEL_f947d1bfc286445883e360a1c42561cf",
        "IPY_MODEL_23e3cf31cc1449d285a8c304c6264892"
       ],
       "layout": "IPY_MODEL_5c7257a287844671a64e37d356485d71"
      }
     },
     "23e3cf31cc1449d285a8c304c6264892": {
      "model_module": "@jupyter-widgets/controls",
      "model_module_version": "2.0.0",
      "model_name": "HTMLModel",
      "state": {
       "layout": "IPY_MODEL_cc9078ece0b44278b76786d0c0972eeb",
       "style": "IPY_MODEL_c18fdbdc11b14f299bbcc0da7c7e7115",
       "value": " 2/7 [00:16&lt;00:41,  8.22s/it, 11_microsoft_tuning.ipynb]"
      }
     },
     "2a60c93a0c0a4be68269947d595764ed": {
      "model_module": "@jupyter-widgets/controls",
      "model_module_version": "2.0.0",
      "model_name": "HBoxModel",
      "state": {
       "children": [
        "IPY_MODEL_eacd60a1804d4365992e980de213d0c1",
        "IPY_MODEL_9aaf803717554518a8c7e40c1c9b7082",
        "IPY_MODEL_b687702c9b6b4946a6a923c0b00351a6"
       ],
       "layout": "IPY_MODEL_cc2f12705c5a4e9f80625cfd56ec1958"
      }
     },
     "3b780d5cdd07481dbc0ea9e69aeb4b66": {
      "model_module": "@jupyter-widgets/controls",
      "model_module_version": "2.0.0",
      "model_name": "HTMLStyleModel",
      "state": {
       "description_width": "",
       "font_size": null,
       "text_color": null
      }
     },
     "3cd5a95948914bb2adc6dcdcd16812ab": {
      "model_module": "@jupyter-widgets/controls",
      "model_module_version": "2.0.0",
      "model_name": "ProgressStyleModel",
      "state": {
       "description_width": ""
      }
     },
     "52a5bcd8fab54502871cc9c0e3faf279": {
      "model_module": "@jupyter-widgets/controls",
      "model_module_version": "2.0.0",
      "model_name": "ProgressStyleModel",
      "state": {
       "description_width": ""
      }
     },
     "552a862bf06242a1b2f1288e427ba6c7": {
      "model_module": "@jupyter-widgets/controls",
      "model_module_version": "2.0.0",
      "model_name": "HTMLStyleModel",
      "state": {
       "description_width": "",
       "font_size": null,
       "text_color": null
      }
     },
     "5c7257a287844671a64e37d356485d71": {
      "model_module": "@jupyter-widgets/base",
      "model_module_version": "2.0.0",
      "model_name": "LayoutModel",
      "state": {}
     },
     "5fae8460709047c5b8328187194cf873": {
      "model_module": "@jupyter-widgets/base",
      "model_module_version": "2.0.0",
      "model_name": "LayoutModel",
      "state": {}
     },
     "5fd92e02b5464a509bb53cd1ad6eedea": {
      "model_module": "@jupyter-widgets/base",
      "model_module_version": "2.0.0",
      "model_name": "LayoutModel",
      "state": {}
     },
     "67f5fb0539dc439f8ea6228579f60508": {
      "model_module": "@jupyter-widgets/controls",
      "model_module_version": "2.0.0",
      "model_name": "HTMLStyleModel",
      "state": {
       "description_width": "",
       "font_size": null,
       "text_color": null
      }
     },
     "77b8cb03fe7d47bcae610114def17c41": {
      "model_module": "@jupyter-widgets/controls",
      "model_module_version": "2.0.0",
      "model_name": "HTMLModel",
      "state": {
       "layout": "IPY_MODEL_92e807c8f25441878f98fd107bb22b0d",
       "style": "IPY_MODEL_d2b47a8a31eb4d8eb70e0a88b4944b2a",
       "value": "org:   0%"
      }
     },
     "8baa0662274b41acaab845b5176e79e7": {
      "model_module": "@jupyter-widgets/controls",
      "model_module_version": "2.0.0",
      "model_name": "HTMLStyleModel",
      "state": {
       "description_width": "",
       "font_size": null,
       "text_color": null
      }
     },
     "92e807c8f25441878f98fd107bb22b0d": {
      "model_module": "@jupyter-widgets/base",
      "model_module_version": "2.0.0",
      "model_name": "LayoutModel",
      "state": {}
     },
     "9aaf803717554518a8c7e40c1c9b7082": {
      "model_module": "@jupyter-widgets/controls",
      "model_module_version": "2.0.0",
      "model_name": "FloatProgressModel",
      "state": {
       "bar_style": "danger",
       "layout": "IPY_MODEL_5fd92e02b5464a509bb53cd1ad6eedea",
       "max": 26,
       "style": "IPY_MODEL_aba1e1497a0b4c43b437922a46062be9",
       "value": 25
      }
     },
     "9fe8389b7c7f4a359764b47496dfd829": {
      "model_module": "@jupyter-widgets/base",
      "model_module_version": "2.0.0",
      "model_name": "LayoutModel",
      "state": {}
     },
     "a2fd81cdb3a9485a840a137ae48a60ed": {
      "model_module": "@jupyter-widgets/base",
      "model_module_version": "2.0.0",
      "model_name": "LayoutModel",
      "state": {}
     },
     "aba1e1497a0b4c43b437922a46062be9": {
      "model_module": "@jupyter-widgets/controls",
      "model_module_version": "2.0.0",
      "model_name": "ProgressStyleModel",
      "state": {
       "description_width": ""
      }
     },
     "affcbe5f1efe4b46a86b29fb772ad13c": {
      "model_module": "@jupyter-widgets/base",
      "model_module_version": "2.0.0",
      "model_name": "LayoutModel",
      "state": {}
     },
     "b687702c9b6b4946a6a923c0b00351a6": {
      "model_module": "@jupyter-widgets/controls",
      "model_module_version": "2.0.0",
      "model_name": "HTMLModel",
      "state": {
       "layout": "IPY_MODEL_5fae8460709047c5b8328187194cf873",
       "style": "IPY_MODEL_8baa0662274b41acaab845b5176e79e7",
       "value": " 25/26 [00:16&lt;00:00,  4.38cell/s]"
      }
     },
     "b9de594079ab422085a7251aa1da1dab": {
      "model_module": "@jupyter-widgets/controls",
      "model_module_version": "2.0.0",
      "model_name": "FloatProgressModel",
      "state": {
       "bar_style": "danger",
       "layout": "IPY_MODEL_d7e755ad1c79479abd5baf3cf94b7133",
       "max": 2,
       "style": "IPY_MODEL_52a5bcd8fab54502871cc9c0e3faf279"
      }
     },
     "ba5a6739a4dd41cc9aedebd24358bcd0": {
      "model_module": "@jupyter-widgets/controls",
      "model_module_version": "2.0.0",
      "model_name": "HTMLModel",
      "state": {
       "layout": "IPY_MODEL_9fe8389b7c7f4a359764b47496dfd829",
       "style": "IPY_MODEL_3b780d5cdd07481dbc0ea9e69aeb4b66",
       "value": " 0/2 [00:16&lt;?, ?it/s, Decentraland]"
      }
     },
     "c18fdbdc11b14f299bbcc0da7c7e7115": {
      "model_module": "@jupyter-widgets/controls",
      "model_module_version": "2.0.0",
      "model_name": "HTMLStyleModel",
      "state": {
       "description_width": "",
       "font_size": null,
       "text_color": null
      }
     },
     "cc2f12705c5a4e9f80625cfd56ec1958": {
      "model_module": "@jupyter-widgets/base",
      "model_module_version": "2.0.0",
      "model_name": "LayoutModel",
      "state": {}
     },
     "cc9078ece0b44278b76786d0c0972eeb": {
      "model_module": "@jupyter-widgets/base",
      "model_module_version": "2.0.0",
      "model_name": "LayoutModel",
      "state": {}
     },
     "d145fd8a340941a097ca3bb5430a610b": {
      "model_module": "@jupyter-widgets/controls",
      "model_module_version": "2.0.0",
      "model_name": "HTMLModel",
      "state": {
       "layout": "IPY_MODEL_affcbe5f1efe4b46a86b29fb772ad13c",
       "style": "IPY_MODEL_552a862bf06242a1b2f1288e427ba6c7",
       "value": "notebook:  29%"
      }
     },
     "d2b47a8a31eb4d8eb70e0a88b4944b2a": {
      "model_module": "@jupyter-widgets/controls",
      "model_module_version": "2.0.0",
      "model_name": "HTMLStyleModel",
      "state": {
       "description_width": "",
       "font_size": null,
       "text_color": null
      }
     },
     "d47daa5cba044bf9a1098a56760a3d67": {
      "model_module": "@jupyter-widgets/controls",
      "model_module_version": "2.0.0",
      "model_name": "HBoxModel",
      "state": {
       "children": [
        "IPY_MODEL_77b8cb03fe7d47bcae610114def17c41",
        "IPY_MODEL_b9de594079ab422085a7251aa1da1dab",
        "IPY_MODEL_ba5a6739a4dd41cc9aedebd24358bcd0"
       ],
       "layout": "IPY_MODEL_1da7d770ccf34686af270a90532ece1c"
      }
     },
     "d7e755ad1c79479abd5baf3cf94b7133": {
      "model_module": "@jupyter-widgets/base",
      "model_module_version": "2.0.0",
      "model_name": "LayoutModel",
      "state": {}
     },
     "eacd60a1804d4365992e980de213d0c1": {
      "model_module": "@jupyter-widgets/controls",
      "model_module_version": "2.0.0",
      "model_name": "HTMLModel",
      "state": {
       "layout": "IPY_MODEL_19860f161ded4626a36b71f9ae40eecf",
       "style": "IPY_MODEL_67f5fb0539dc439f8ea6228579f60508",
       "value": "Executing:  96%"
      }
     },
     "f947d1bfc286445883e360a1c42561cf": {
      "model_module": "@jupyter-widgets/controls",
      "model_module_version": "2.0.0",
      "model_name": "FloatProgressModel",
      "state": {
       "bar_style": "danger",
       "layout": "IPY_MODEL_a2fd81cdb3a9485a840a137ae48a60ed",
       "max": 7,
       "style": "IPY_MODEL_3cd5a95948914bb2adc6dcdcd16812ab",
       "value": 2
      }
     }
    },
    "version_major": 2,
    "version_minor": 0
   }
  }
 },
 "nbformat": 4,
 "nbformat_minor": 5
}
