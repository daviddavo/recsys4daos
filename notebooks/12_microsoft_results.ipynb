{
 "cells": [
  {
   "cell_type": "code",
   "execution_count": null,
   "id": "c66ab722-6b89-4d1e-b799-c0c8d9b87e24",
   "metadata": {
    "execution": {
     "iopub.execute_input": "2024-04-25T09:11:47.314534Z",
     "iopub.status.busy": "2024-04-25T09:11:47.313736Z",
     "iopub.status.idle": "2024-04-25T09:11:49.620468Z",
     "shell.execute_reply": "2024-04-25T09:11:49.620004Z",
     "shell.execute_reply.started": "2024-04-25T09:11:47.314486Z"
    }
   },
   "outputs": [],
   "source": [
    "from pathlib import Path\n",
    "\n",
    "import pandas as pd\n",
    "import numpy as np\n",
    "import datetime as dt\n",
    "\n",
    "import plotly.express as px\n",
    "import plotly.io as pio\n",
    "import matplotlib.pyplot as plt\n",
    "import seaborn as sns\n",
    "\n",
    "from ray import tune\n",
    "from ray.air import session\n",
    "from ray.train import Checkpoint\n",
    "\n",
    "from recsys24_daos.utils.notebooks import download_plotly, download_matplotlib\n",
    "\n",
    "pio.templates.default = 'seaborn'\n",
    "sns.set_theme()"
   ]
  },
  {
   "cell_type": "code",
   "execution_count": null,
   "id": "26a278d4-542d-4e86-bc28-772446b038f6",
   "metadata": {
    "execution": {
     "iopub.execute_input": "2024-04-25T09:11:49.621637Z",
     "iopub.status.busy": "2024-04-25T09:11:49.621198Z",
     "iopub.status.idle": "2024-04-25T09:11:49.625310Z",
     "shell.execute_reply": "2024-04-25T09:11:49.624696Z",
     "shell.execute_reply.started": "2024-04-25T09:11:49.621610Z"
    }
   },
   "outputs": [],
   "source": [
    "SPLITS_FREQ = 'W-THU'\n",
    "SPLITS_NORMALIZE = True # Wether or not to move everything to 00:00\n",
    "CUTOFF_DATE = dt.datetime.fromisoformat(\"2023-07-29\")\n",
    "RAY_RESULTS_PATH = '~/ray_results3.11'\n",
    "ORG_NAME = 'Decentraland'\n",
    "LAST_SPLITS = 10 # Used for asserts\n",
    "\n",
    "OPTIM_METRIC = 'map@10'\n",
    "OPTIM_MODE = 'max'\n",
    "\n",
    "SAMPLES_PER_SPLIT: int = 100 # See 07_microsoft_tuning.ipynb"
   ]
  },
  {
   "cell_type": "code",
   "execution_count": null,
   "id": "1294d618-7bff-412c-8a4c-d50e9093b489",
   "metadata": {
    "execution": {
     "iopub.execute_input": "2024-04-25T09:11:49.626577Z",
     "iopub.status.busy": "2024-04-25T09:11:49.626178Z",
     "iopub.status.idle": "2024-04-25T09:11:49.638856Z",
     "shell.execute_reply": "2024-04-25T09:11:49.638337Z",
     "shell.execute_reply.started": "2024-04-25T09:11:49.626549Z"
    }
   },
   "outputs": [],
   "source": [
    "RAY_RESULTS_PATH = Path(RAY_RESULTS_PATH).expanduser()\n",
    "assert RAY_RESULTS_PATH.is_dir()"
   ]
  },
  {
   "cell_type": "markdown",
   "id": "e605ecde-b37f-47fb-b8ae-cde271c29775",
   "metadata": {},
   "source": [
    "## Get ray results"
   ]
  },
  {
   "cell_type": "code",
   "execution_count": null,
   "id": "caa4d1cf-3997-4cec-ab5c-5b2435753d20",
   "metadata": {
    "execution": {
     "iopub.execute_input": "2024-04-25T09:11:49.639874Z",
     "iopub.status.busy": "2024-04-25T09:11:49.639633Z",
     "iopub.status.idle": "2024-04-25T09:11:52.132318Z",
     "shell.execute_reply": "2024-04-25T09:11:52.131889Z",
     "shell.execute_reply.started": "2024-04-25T09:11:49.639855Z"
    }
   },
   "outputs": [],
   "source": [
    "last_experiments = sorted(RAY_RESULTS_PATH.glob(f'LightGCN_optim={OPTIM_METRIC},dao={ORG_NAME},freq={SPLITS_FREQ},normalize={SPLITS_NORMALIZE},cutoff_date={CUTOFF_DATE.isoformat()},fold=*[0-9]_*'))\n",
    "print(f\"Found {len(last_experiments)} experiments\")\n",
    "\n",
    "class TrainLightGCN:\n",
    "    def __init__(self):\n",
    "        raise NotImplementedError\n",
    "\n",
    "tuners = [ tune.Tuner.restore(str(l), TrainLightGCN) for l in last_experiments ]\n",
    "result_grids = [ tuner.get_results() for tuner in tuners ]\n",
    "assert len(result_grids) == LAST_SPLITS\n",
    "\n",
    "for i, rg in enumerate(result_grids):\n",
    "    print(f\"Fold: {i}, {rg.num_terminated} finished, {rg.num_errors} errors\")\n",
    "    assert rg.num_terminated == SAMPLES_PER_SPLIT\n",
    "    assert rg.num_errors == 0, \"There should be no errors\""
   ]
  },
  {
   "cell_type": "code",
   "execution_count": null,
   "id": "e8f7d49c-58b3-4fb4-a589-f975562ccea0",
   "metadata": {
    "execution": {
     "iopub.execute_input": "2024-04-25T09:11:52.133043Z",
     "iopub.status.busy": "2024-04-25T09:11:52.132873Z",
     "iopub.status.idle": "2024-04-25T09:11:52.228581Z",
     "shell.execute_reply": "2024-04-25T09:11:52.225975Z",
     "shell.execute_reply.started": "2024-04-25T09:11:52.133028Z"
    }
   },
   "outputs": [],
   "source": [
    "# Checking data from just one experiment\n",
    "pd.concat(result_grids[0]._experiment_analysis.trial_dataframes.values())"
   ]
  },
  {
   "cell_type": "markdown",
   "id": "f9876be1-d9e0-4ffd-90ce-8ece4e5bac81",
   "metadata": {
    "execution": {
     "iopub.execute_input": "2024-04-24T09:16:10.723091Z",
     "iopub.status.busy": "2024-04-24T09:16:10.722840Z",
     "iopub.status.idle": "2024-04-24T09:16:10.725447Z",
     "shell.execute_reply": "2024-04-24T09:16:10.724914Z",
     "shell.execute_reply.started": "2024-04-24T09:16:10.723073Z"
    }
   },
   "source": [
    "## Create dataframe with all results"
   ]
  },
  {
   "cell_type": "code",
   "execution_count": null,
   "id": "02559fcc-1ee8-4614-a4db-6fa21fbbb156",
   "metadata": {
    "execution": {
     "iopub.execute_input": "2024-04-25T09:11:52.234135Z",
     "iopub.status.busy": "2024-04-25T09:11:52.232720Z",
     "iopub.status.idle": "2024-04-25T09:11:52.701669Z",
     "shell.execute_reply": "2024-04-25T09:11:52.701161Z",
     "shell.execute_reply.started": "2024-04-25T09:11:52.234085Z"
    }
   },
   "outputs": [],
   "source": [
    "# Read dataframe and drop some unneeded columns\n",
    "# rdf = pd.concat([rg.get_dataframe(TARGET, 'max') for rg in result_grids ])\n",
    "rdf = pd.concat([ pd.concat(rg._experiment_analysis.trial_dataframes.values()) for rg in result_grids ])\n",
    "\n",
    "drop_cols = [\n",
    "    'timestamp', 'node_ip', 'pid', 'hostname', 'time_since_restore', # 'checkpoint_dir_name', 'trial_id', # 'logdir'\n",
    "    'model_recall', 'model_ndcg', 'model_precision', 'model_map', \n",
    "    'time_train', 'time_test', 'time_total_s', 'time_this_iter_s',\n",
    "    'training_iteration', 'iterations_since_restore',\n",
    "    # 'recall@5', 'map@5', 'recall@10', 'map@10',\n",
    "]\n",
    "rdf = rdf.drop(columns=drop_cols)\n",
    "rdf = rdf.drop(columns=['date']).rename(columns={'config/__trial_index__': 'config/fold', 'iteration':'config/iteration'})\n",
    "# rdf = rdf[rdf['done']]\n",
    "print(rdf.columns)\n",
    "\n",
    "for c in ['config/batch_size']: #, 'config/embedding_dim']:\n",
    "    rdf[c] = 2**rdf[c]\n",
    "\n",
    "# rdf[(rdf['config/fold'] >= 1) & (rdf['iteration'] > 10)].sort_values('precision@5').tail()\n",
    "# Display some results\n",
    "rdf.sort_values(OPTIM_METRIC).tail()"
   ]
  },
  {
   "cell_type": "markdown",
   "id": "5a63eed5-4d00-421b-b914-a11cfe1fe17b",
   "metadata": {},
   "source": [
    "## Assert that every experiment was completed"
   ]
  },
  {
   "cell_type": "code",
   "execution_count": null,
   "id": "686ec86c-8dab-4d84-b814-03be41c9d217",
   "metadata": {
    "execution": {
     "iopub.execute_input": "2024-04-25T09:11:52.702712Z",
     "iopub.status.busy": "2024-04-25T09:11:52.702553Z",
     "iopub.status.idle": "2024-04-25T09:11:52.717500Z",
     "shell.execute_reply": "2024-04-25T09:11:52.716365Z",
     "shell.execute_reply.started": "2024-04-25T09:11:52.702697Z"
    }
   },
   "outputs": [],
   "source": [
    "_config_cols = [ c for c in rdf.columns if c.startswith('config/') and c != 'config/iteration' ]\n",
    "\n",
    "# _s = rdf.groupby(_config_cols).size().groupby('config/fold').size()\n",
    "# print(_s)\n",
    "\n",
    "# Cuidado, no es aleatorio sin reemplazamiento, por lo que\n",
    "# alguna config, por casualidad, puede estar repetida y es necesario\n",
    "# usar trial_id\n",
    "_config_cols.append('trial_id')\n",
    "\n",
    "_s = rdf.groupby(_config_cols).size().groupby('config/fold').size()\n",
    "print(_s)\n",
    "assert all(_s == SAMPLES_PER_SPLIT), \"Insufficient number of samples\" "
   ]
  },
  {
   "cell_type": "markdown",
   "id": "9ff8a6cf-4332-4def-b65f-7ecb06659d65",
   "metadata": {},
   "source": [
    "## Get total execution time"
   ]
  },
  {
   "cell_type": "code",
   "execution_count": null,
   "id": "bfe06964-67c7-4e76-9743-29f92fbc1561",
   "metadata": {
    "execution": {
     "iopub.execute_input": "2024-04-25T09:11:52.718718Z",
     "iopub.status.busy": "2024-04-25T09:11:52.718467Z",
     "iopub.status.idle": "2024-04-25T09:11:52.747907Z",
     "shell.execute_reply": "2024-04-25T09:11:52.746032Z",
     "shell.execute_reply.started": "2024-04-25T09:11:52.718700Z"
    }
   },
   "outputs": [],
   "source": [
    "_config_cols = ['trial_id'] + [ c for c in rdf.columns if c.startswith('config/') and c != 'config/iteration' ]\n",
    "\n",
    "last_iteration_time = rdf.groupby(_config_cols)['time_total_train'].max()\n",
    "print(last_iteration_time)\n",
    "print(\"Mean exec time: \", dt.timedelta(seconds=last_iteration_time.mean()))\n",
    "print(\"Total exec time:\", dt.timedelta(seconds=last_iteration_time.sum()))"
   ]
  },
  {
   "cell_type": "code",
   "execution_count": null,
   "id": "ab4464f8",
   "metadata": {},
   "outputs": [],
   "source": [
    "# Number of iterations\n",
    "rdf.groupby('trial_id')['config/iteration'].max().describe()"
   ]
  },
  {
   "cell_type": "markdown",
   "id": "6dac3222-2346-4bd0-9ffc-71f9a3c703e4",
   "metadata": {},
   "source": [
    "## Get baseline data"
   ]
  },
  {
   "cell_type": "code",
   "execution_count": null,
   "id": "c20cfe8c-64a3-42b9-ae94-4d4e72b4f1ad",
   "metadata": {
    "execution": {
     "iopub.execute_input": "2024-04-25T09:11:52.750911Z",
     "iopub.status.busy": "2024-04-25T09:11:52.750511Z",
     "iopub.status.idle": "2024-04-25T09:11:52.788270Z",
     "shell.execute_reply": "2024-04-25T09:11:52.787543Z",
     "shell.execute_reply.started": "2024-04-25T09:11:52.750874Z"
    }
   },
   "outputs": [],
   "source": [
    "bdf = pd.read_csv(\"../data/cache/baseline.csv\", parse_dates=['t'], index_col='t')\n",
    "bdf = bdf[bdf.index <= CUTOFF_DATE][-LAST_SPLITS:]\n",
    "bdf.mean()"
   ]
  },
  {
   "cell_type": "code",
   "execution_count": null,
   "id": "45770a24-945e-4eed-ba5b-0f43be192762",
   "metadata": {
    "execution": {
     "iopub.execute_input": "2024-04-25T09:11:52.789473Z",
     "iopub.status.busy": "2024-04-25T09:11:52.789136Z",
     "iopub.status.idle": "2024-04-25T09:11:52.814367Z",
     "shell.execute_reply": "2024-04-25T09:11:52.812745Z",
     "shell.execute_reply.started": "2024-04-25T09:11:52.789445Z"
    }
   },
   "outputs": [],
   "source": [
    "bdf"
   ]
  },
  {
   "cell_type": "code",
   "execution_count": null,
   "id": "6b0e450c-9fce-45e7-a2b0-a5eb29e6607f",
   "metadata": {
    "execution": {
     "iopub.execute_input": "2024-04-25T09:11:52.816747Z",
     "iopub.status.busy": "2024-04-25T09:11:52.815833Z",
     "iopub.status.idle": "2024-04-25T09:11:53.320993Z",
     "shell.execute_reply": "2024-04-25T09:11:53.320402Z",
     "shell.execute_reply.started": "2024-04-25T09:11:52.816685Z"
    }
   },
   "outputs": [],
   "source": [
    "ax = bdf.plot()\n",
    "ax.set_ylim(0, 1)"
   ]
  },
  {
   "cell_type": "markdown",
   "id": "d793bc61",
   "metadata": {},
   "source": [
    "### Get perfect data"
   ]
  },
  {
   "cell_type": "code",
   "execution_count": null,
   "id": "8f6c49c9",
   "metadata": {},
   "outputs": [],
   "source": [
    "pdf = pd.read_csv(\"../data/cache/perfect.csv\", parse_dates=['t'], index_col='t')\n",
    "pdf = pdf[pdf.index <= CUTOFF_DATE][-LAST_SPLITS:]\n",
    "pdf.mean()"
   ]
  },
  {
   "cell_type": "code",
   "execution_count": null,
   "id": "bd9504e3",
   "metadata": {},
   "outputs": [],
   "source": [
    "pdf"
   ]
  },
  {
   "cell_type": "code",
   "execution_count": null,
   "id": "aa52f1a3",
   "metadata": {},
   "outputs": [],
   "source": [
    "ax = pdf.plot()\n",
    "ax.set_ylim(0, 1)"
   ]
  },
  {
   "cell_type": "markdown",
   "id": "c62601c5-75c6-4ebc-be40-32a8e94e2af1",
   "metadata": {},
   "source": [
    "## Explore hparams"
   ]
  },
  {
   "cell_type": "code",
   "execution_count": null,
   "id": "07469440-091d-43cd-adc9-dc8e9763ae60",
   "metadata": {
    "execution": {
     "iopub.execute_input": "2024-04-25T09:11:53.322739Z",
     "iopub.status.busy": "2024-04-25T09:11:53.322253Z",
     "iopub.status.idle": "2024-04-25T09:11:53.523934Z",
     "shell.execute_reply": "2024-04-25T09:11:53.523508Z",
     "shell.execute_reply.started": "2024-04-25T09:11:53.322692Z"
    }
   },
   "outputs": [],
   "source": [
    "# Primero, obtenemos la mejor iteración, como si hubiesemos hecho early stopping\n",
    "hdf = pd.concat(rg.get_dataframe(OPTIM_METRIC, OPTIM_MODE) for rg in result_grids)\n",
    "hdf"
   ]
  },
  {
   "cell_type": "code",
   "execution_count": null,
   "id": "8e83cc6f-196a-4a96-a543-dde775f12b34",
   "metadata": {
    "execution": {
     "iopub.execute_input": "2024-04-25T09:11:53.524949Z",
     "iopub.status.busy": "2024-04-25T09:11:53.524690Z",
     "iopub.status.idle": "2024-04-25T09:11:54.272723Z",
     "shell.execute_reply": "2024-04-25T09:11:54.272252Z",
     "shell.execute_reply.started": "2024-04-25T09:11:53.524925Z"
    }
   },
   "outputs": [],
   "source": [
    "hdf['config/fold'] = hdf['config/fold'].astype(str)\n",
    "\n",
    "fig = px.scatter(hdf, x='map@10', y='ndcg@10', color='config/fold')\n",
    "fig.layout.update(showlegend=False)\n",
    "\n",
    "download_plotly(fig, 'scatter_ndcg_map.pdf')\n",
    "fig"
   ]
  },
  {
   "cell_type": "code",
   "execution_count": null,
   "id": "38ea5bd8-e2c6-4dca-9f9a-78deb77c771f",
   "metadata": {
    "execution": {
     "iopub.execute_input": "2024-04-25T09:11:54.273623Z",
     "iopub.status.busy": "2024-04-25T09:11:54.273373Z",
     "iopub.status.idle": "2024-04-25T09:11:54.521045Z",
     "shell.execute_reply": "2024-04-25T09:11:54.520559Z",
     "shell.execute_reply.started": "2024-04-25T09:11:54.273596Z"
    }
   },
   "outputs": [],
   "source": [
    "fig = px.scatter(hdf, x=OPTIM_METRIC, y='precision@10', color='config/fold')\n",
    "fig.layout.update(showlegend=False)\n",
    "\n",
    "download_plotly(fig, 'scatter_map_precision.pdf')\n",
    "fig"
   ]
  },
  {
   "cell_type": "code",
   "execution_count": null,
   "id": "4a4ac66b-aae6-4f82-a640-5706255342bf",
   "metadata": {
    "execution": {
     "iopub.execute_input": "2024-04-25T09:11:54.521817Z",
     "iopub.status.busy": "2024-04-25T09:11:54.521624Z",
     "iopub.status.idle": "2024-04-25T09:11:54.767884Z",
     "shell.execute_reply": "2024-04-25T09:11:54.767209Z",
     "shell.execute_reply.started": "2024-04-25T09:11:54.521803Z"
    }
   },
   "outputs": [],
   "source": [
    "def plotly_scatter_config(config, log=True):\n",
    "    config_cols = [c for c in hdf.columns if c.startswith('config/') ]\n",
    "    return px.scatter(hdf, x=config, y=OPTIM_METRIC, color='config/fold', marginal_x='rug', marginal_y='rug', log_x=log, hover_data=config_cols)\n",
    "\n",
    "plotly_scatter_config('config/embedding_dim')"
   ]
  },
  {
   "cell_type": "code",
   "execution_count": null,
   "id": "90ac986a-02ed-47d4-9a8c-183a36d26276",
   "metadata": {
    "execution": {
     "iopub.execute_input": "2024-04-25T09:11:54.769009Z",
     "iopub.status.busy": "2024-04-25T09:11:54.768790Z",
     "iopub.status.idle": "2024-04-25T09:11:55.078429Z",
     "shell.execute_reply": "2024-04-25T09:11:55.076571Z",
     "shell.execute_reply.started": "2024-04-25T09:11:54.768986Z"
    }
   },
   "outputs": [],
   "source": [
    "plotly_scatter_config('config/learning_rate')"
   ]
  },
  {
   "cell_type": "code",
   "execution_count": null,
   "id": "b56839d6-92c7-4c75-a921-d0d2ed2d092d",
   "metadata": {
    "execution": {
     "iopub.execute_input": "2024-04-25T09:11:55.080530Z",
     "iopub.status.busy": "2024-04-25T09:11:55.080209Z",
     "iopub.status.idle": "2024-04-25T09:11:55.304995Z",
     "shell.execute_reply": "2024-04-25T09:11:55.304494Z",
     "shell.execute_reply.started": "2024-04-25T09:11:55.080500Z"
    }
   },
   "outputs": [],
   "source": [
    "plotly_scatter_config('config/l2')"
   ]
  },
  {
   "cell_type": "code",
   "execution_count": null,
   "id": "ee193688-03ca-4eb3-8203-4c19ea520d98",
   "metadata": {
    "execution": {
     "iopub.execute_input": "2024-04-25T09:11:55.305803Z",
     "iopub.status.busy": "2024-04-25T09:11:55.305602Z",
     "iopub.status.idle": "2024-04-25T09:11:55.488847Z",
     "shell.execute_reply": "2024-04-25T09:11:55.488351Z",
     "shell.execute_reply.started": "2024-04-25T09:11:55.305787Z"
    }
   },
   "outputs": [],
   "source": [
    "plotly_scatter_config('config/batch_size', log=False)"
   ]
  },
  {
   "cell_type": "markdown",
   "id": "5a6e4bf4-b5d5-4891-9d00-7d5ef38add92",
   "metadata": {},
   "source": [
    "## Choosing best hparams"
   ]
  },
  {
   "cell_type": "markdown",
   "id": "1adf4555-ee25-432d-b100-4ab87ea090c5",
   "metadata": {},
   "source": [
    "### Per fold"
   ]
  },
  {
   "cell_type": "code",
   "execution_count": null,
   "id": "e7de5772-ee3b-48f7-a77f-19d64ade10a4",
   "metadata": {
    "execution": {
     "iopub.execute_input": "2024-04-25T09:11:55.489639Z",
     "iopub.status.busy": "2024-04-25T09:11:55.489475Z",
     "iopub.status.idle": "2024-04-25T09:11:55.512348Z",
     "shell.execute_reply": "2024-04-25T09:11:55.511602Z",
     "shell.execute_reply.started": "2024-04-25T09:11:55.489624Z"
    }
   },
   "outputs": [],
   "source": [
    "# We fix the total time in less than 250 so it has time to do the same number of iterations with the next fold\n",
    "# best = rdf[rdf['time_total_train'] + rdf['time_total_test'] < 250].sort_values(OPTIM_METRIC).drop_duplicates('config/fold', keep='last').set_index('config/fold').sort_index()\n",
    "best = rdf.sort_values(OPTIM_METRIC).drop_duplicates('config/fold', keep='last').set_index('config/fold').sort_index()\n",
    "best"
   ]
  },
  {
   "cell_type": "code",
   "execution_count": null,
   "id": "b42770b4-1d83-43bd-9af3-c8d5a8086bfc",
   "metadata": {
    "execution": {
     "iopub.execute_input": "2024-04-25T09:11:55.513660Z",
     "iopub.status.busy": "2024-04-25T09:11:55.513444Z",
     "iopub.status.idle": "2024-04-25T09:11:55.751904Z",
     "shell.execute_reply": "2024-04-25T09:11:55.751461Z",
     "shell.execute_reply.started": "2024-04-25T09:11:55.513644Z"
    }
   },
   "outputs": [],
   "source": [
    "cols2plot = ['precision@5', 'map@10']\n",
    "\n",
    "ax = best[cols2plot].plot()\n",
    "ax.set_ylim(0, 1)\n",
    "\n",
    "bdf[cols2plot].rename(columns='baseline {}'.format).reset_index(drop=True).plot(ax=ax, style='--', color=[l.get_color() for l in ax.lines])\n",
    "\n",
    "plt.title(\"Metrics of the best recommender trained vs the baseline\")\n",
    "best[cols2plot].describe()"
   ]
  },
  {
   "cell_type": "code",
   "execution_count": null,
   "id": "60400119-d5c6-41c2-9bba-5ce697a18038",
   "metadata": {
    "execution": {
     "iopub.execute_input": "2024-04-25T09:11:55.754301Z",
     "iopub.status.busy": "2024-04-25T09:11:55.754066Z",
     "iopub.status.idle": "2024-04-25T09:11:55.760696Z",
     "shell.execute_reply": "2024-04-25T09:11:55.759303Z",
     "shell.execute_reply.started": "2024-04-25T09:11:55.754270Z"
    }
   },
   "outputs": [],
   "source": [
    "best[['precision@5', 'ndcg@5', 'precision@10', 'ndcg@10', 'map@5', 'map@10']].mean()"
   ]
  },
  {
   "cell_type": "markdown",
   "id": "d8dbe117-83d9-4767-a6f3-5121c0354575",
   "metadata": {},
   "source": [
    "## Realisitc model (repeating hparams)"
   ]
  },
  {
   "cell_type": "code",
   "execution_count": null,
   "id": "f15b50a6-9a77-49ed-b0c7-b1bf239fa8db",
   "metadata": {
    "execution": {
     "iopub.execute_input": "2024-04-25T09:11:55.761794Z",
     "iopub.status.busy": "2024-04-25T09:11:55.761526Z",
     "iopub.status.idle": "2024-04-25T09:11:55.907555Z",
     "shell.execute_reply": "2024-04-25T09:11:55.906895Z",
     "shell.execute_reply.started": "2024-04-25T09:11:55.761763Z"
    }
   },
   "outputs": [],
   "source": [
    "config_cols = [ c for c in rdf.columns if c.startswith('config/') and c != 'config/iteration' ]\n",
    "config_cols2 = config_cols + ['config/iteration']\n",
    "all_configs = rdf.copy()\n",
    "all_configs['config/fold'] += 1\n",
    "\n",
    "# Leonardo Torres de Quevedo, perdoname por lo que voy a hacer\n",
    "all_configs[config_cols] = all_configs[config_cols].astype(str)\n",
    "all_configs = all_configs.set_index(config_cols)\n",
    "all_configs_index = all_configs.index\n",
    "\n",
    "# all_configs_index = pd.MultiIndex.from_frame(all_configs[config_cols].astype(str))[:-1]\n",
    "\n",
    "# No podemos utilizar los indices \"tal cual\" pues la coma flotante\n",
    "# no encaja entre un fold y otro. Así que lo convierto a string\n",
    "# y luego de nuevo a coma flotante.\n",
    "# La otra solución sería usar np.isclose, pero habría que programar\n",
    "# varias lineas y hacer nuestra propia función de búsqueda por cada\n",
    "# columna o algo así\n",
    "# O también, en lugar de str, multiplicar por 10^7 (el min. es 10**-7),\n",
    "# pasar a entero, y luego dividir\n",
    "aux = rdf.copy()\n",
    "aux[config_cols] = aux[config_cols].astype(str)\n",
    "aux = aux.set_index(config_cols)\n",
    "print(\"Index intersection:\", aux.index.intersection(all_configs_index))\n",
    "all_realistic = aux.loc[aux.index.intersection(all_configs_index)]\n",
    "# all_realistic.index = all_realistic.index.set_levels(\n",
    "#     [ pd.to_numeric(l) for l in realistic.index.levels ]\n",
    "# )\n",
    "all_realistic"
   ]
  },
  {
   "cell_type": "code",
   "execution_count": null,
   "id": "ab2e85d7-48e1-404e-841d-a3f182a061fa",
   "metadata": {
    "execution": {
     "iopub.execute_input": "2024-04-25T09:11:55.908389Z",
     "iopub.status.busy": "2024-04-25T09:11:55.908195Z",
     "iopub.status.idle": "2024-04-25T09:11:55.949851Z",
     "shell.execute_reply": "2024-04-25T09:11:55.947922Z",
     "shell.execute_reply.started": "2024-04-25T09:11:55.908368Z"
    }
   },
   "outputs": [],
   "source": [
    "def bestByFold(df):\n",
    "    idx = df[OPTIM_METRIC].idxmax()\n",
    "    return df.loc[idx]\n",
    "\n",
    "best_configs = (\n",
    "    all_configs.loc[all_configs.index.intersection(all_realistic.index)]\n",
    "    .reset_index()\n",
    "    .groupby(\"config/fold\")\n",
    "    .apply(bestByFold)\n",
    "    .set_index(config_cols)\n",
    "    # .rename(columns=\"best_{}\".format)\n",
    ")\n",
    "best_configs"
   ]
  },
  {
   "cell_type": "code",
   "execution_count": null,
   "id": "cf6bd688-9948-426e-9070-339241aff62c",
   "metadata": {
    "execution": {
     "iopub.execute_input": "2024-04-25T09:11:55.952396Z",
     "iopub.status.busy": "2024-04-25T09:11:55.951868Z",
     "iopub.status.idle": "2024-04-25T09:11:55.989514Z",
     "shell.execute_reply": "2024-04-25T09:11:55.989103Z",
     "shell.execute_reply.started": "2024-04-25T09:11:55.952330Z"
    }
   },
   "outputs": [],
   "source": [
    "best_realistic = all_realistic.join(best_configs.rename(columns=\"best_{}\".format), how='right')\n",
    "\n",
    "# Display the configs, to see that nothing is missing\n",
    "display(best_realistic.groupby(best_realistic.index).size())\n",
    "\n",
    "# First, do the \"early stopping\" (keep only the ones that are the same iterations or less)\n",
    "best_realistic = best_realistic[best_realistic['config/iteration'] <= best_realistic['best_config/iteration']]\n",
    "# Now, lets keep just the one with the best iteration\n",
    "best_realistic = (\n",
    "    best_realistic.sort_values('config/iteration')\n",
    "    .groupby('config/fold')\n",
    "    .tail(1)\n",
    "    .sort_index()\n",
    "    .reset_index()\n",
    "    .set_index('config/fold')\n",
    ")\n",
    "best_realistic"
   ]
  },
  {
   "cell_type": "code",
   "execution_count": null,
   "id": "ac181c80-340b-4192-92b0-7a32110d359b",
   "metadata": {
    "execution": {
     "iopub.execute_input": "2024-04-25T09:11:55.990182Z",
     "iopub.status.busy": "2024-04-25T09:11:55.990010Z",
     "iopub.status.idle": "2024-04-25T09:11:56.287094Z",
     "shell.execute_reply": "2024-04-25T09:11:56.286559Z",
     "shell.execute_reply.started": "2024-04-25T09:11:55.990168Z"
    }
   },
   "outputs": [],
   "source": [
    "_toplot = best_realistic.copy()\n",
    "_toplot.index = pd.to_numeric(_toplot.index)\n",
    "\n",
    "ax = best[cols2plot].rename(columns='train {}'.format).plot(style='--', color=[l.get_color() for l in ax.lines])\n",
    "# plt.xticks(range(10))\n",
    "# bdf[cols2plot].rename(columns='baseline {}'.format).reset_index(drop=True).plot(ax=ax, style=':', color=[l.get_color() for l in ax.lines])\n",
    "\n",
    "_toplot[cols2plot].plot(ax=ax)\n",
    "# ax.set_ylim(0, 1)\n",
    "\n",
    "_toplot[cols2plot].describe()"
   ]
  },
  {
   "cell_type": "code",
   "execution_count": null,
   "id": "454925a4",
   "metadata": {},
   "outputs": [],
   "source": [
    "best.index"
   ]
  },
  {
   "cell_type": "code",
   "execution_count": null,
   "id": "cfcec375",
   "metadata": {},
   "outputs": [],
   "source": [
    "_PERFECT_NAME = 'Ground Truth'\n",
    "_LEAK_NAME = 'Leaky GNN'\n",
    "CAT_ORDER = [_PERFECT_NAME, _LEAK_NAME, 'GNN', 'OpenPop']\n",
    "\n",
    "def _get_toplot_table(metrics2plot=cols2plot, oracle=True, perfect=None, common_only=False):\n",
    "    if perfect is None:\n",
    "        perfect = metrics2plot\n",
    "    \n",
    "    # _toplot = best_realistic.copy()\n",
    "    # _toplot.index = pd.to_numeric(_toplot.index)\n",
    "    # _toplot['fold'] = _toplot.index\n",
    "    \n",
    "    _toplot_real = best_realistic[metrics2plot].copy()\n",
    "    _toplot_real['fold'] = _toplot_real.index.astype(int)\n",
    "    _toplot_real['rec'] = 'GNN'\n",
    "\n",
    "    _toplot_base = bdf[metrics2plot].copy()\n",
    "    fold2str = _toplot_base.index.strftime('%G-W%V')\n",
    "    _toplot_base['fold'] = range(len(_toplot_base))\n",
    "    _toplot_base['rec'] = 'OpenPop'\n",
    "\n",
    "    # _colsbest = map(\"best_{}\".format, _cols)\n",
    "    if oracle:\n",
    "        _toplot_best = best[metrics2plot].copy() # [_colsbest].rename(columns=lambda x: x.split(\"_\", 1)[-1])\n",
    "        _toplot_best['fold'] = _toplot_best.index\n",
    "        _toplot_best['rec'] = _LEAK_NAME\n",
    "    else:\n",
    "        _toplot_best = None\n",
    "        _toplot_base = _toplot_base[_toplot_base['fold'] > 0]\n",
    "        _toplot_real = _toplot_real[_toplot_real['fold'] > 0]\n",
    "\n",
    "    if perfect:\n",
    "        _toplot_perfect = pdf[perfect].copy()\n",
    "        _toplot_perfect['fold'] = range(len(_toplot_perfect))\n",
    "        _toplot_perfect['rec'] = _PERFECT_NAME\n",
    "        # Make same len as baseline\n",
    "        _toplot_perfect = _toplot_perfect.iloc[-len(_toplot_base):]\n",
    "        assert _toplot_perfect.index.equals(_toplot_base.index)\n",
    "    else:\n",
    "        _toplot_perfect = None\n",
    "        \n",
    "    _toplot = (\n",
    "        pd.concat((\n",
    "            _toplot_real, \n",
    "            _toplot_best,\n",
    "            _toplot_base,\n",
    "            _toplot_perfect,\n",
    "        ), ignore_index=True)\n",
    "        .melt(id_vars=['fold', 'rec'], value_vars=metrics2plot, var_name='metric')\n",
    "    )\n",
    "    assert not (_toplot['fold'].isna()).any()\n",
    "    \n",
    "    _toplot['rec'] = pd.Categorical(_toplot['rec'], CAT_ORDER)\n",
    "    _toplot['fold_week'] = fold2str[_toplot['fold']]\n",
    "\n",
    "    return _toplot.sort_values('fold')\n",
    "\n",
    "_tablecols = ['precision@5', 'precision@10', 'recall@5', 'recall@10', 'map@5', 'map@10', 'ndcg@5', 'ndcg@10']\n",
    "_table = _get_toplot_table(_tablecols)\n",
    "_table = _table[_table['fold'] >= 1]\n",
    "print(_table.groupby(['rec', 'metric'])['value'].mean().unstack(level=-1)[_tablecols].rename(\n",
    "    index={\n",
    "        'Perfect': 'Ground Truth',\n",
    "        'realistic': 'GNN'\n",
    "    }\n",
    ").style.format(precision=2).to_latex())\n",
    "_table.groupby(['rec', 'metric']).describe()"
   ]
  },
  {
   "cell_type": "code",
   "execution_count": null,
   "id": "c03a535e-b5d1-4085-b9be-d10d164cf1bc",
   "metadata": {
    "execution": {
     "iopub.execute_input": "2024-04-25T09:11:56.287884Z",
     "iopub.status.busy": "2024-04-25T09:11:56.287665Z",
     "iopub.status.idle": "2024-04-25T09:11:56.639045Z",
     "shell.execute_reply": "2024-04-25T09:11:56.638591Z",
     "shell.execute_reply.started": "2024-04-25T09:11:56.287869Z"
    }
   },
   "outputs": [],
   "source": [
    "def plot_gnn_results(metrics2plot=cols2plot, oracle=False, perfect=None, common_only=False):\n",
    "    _toplot = _get_toplot_table(metrics2plot, oracle, perfect)\n",
    "\n",
    "    if common_only:\n",
    "        _toplot = _toplot[_toplot['fold'] >= 1]\n",
    "\n",
    "    ax = sns.lineplot(\n",
    "        _toplot, x='fold_week', y='value', \n",
    "        hue='metric' if len(metrics2plot) > 1 else None, \n",
    "        style='rec',\n",
    "        style_order=['GNN', 'OpenPop', _LEAK_NAME, _PERFECT_NAME],\n",
    "    )\n",
    "    ax.set_xlabel('fold')\n",
    "    \n",
    "    if len(metrics2plot) == 1:\n",
    "        ax.set_ylabel(metrics2plot[0])\n",
    "        ax.legend_.set_title(None)\n",
    "\n",
    "    # ax.set_xticks(ax.get_xticks()[1:-1], _toplot_base.index.strftime('%G-W%V'), rotation=30, ha='right')\n",
    "    ax.set_xticklabels(ax.get_xticklabels(), rotation=30, ha='right')\n",
    "\n",
    "    display(_toplot.groupby(['rec', 'metric'])['value'].describe())\n",
    "    # print(_toplot.groupby(['rec', 'metric'])['value'].describe()[['mean', 'std', '50%', 'min', 'max']].to_html())\n",
    "\n",
    "    return ax\n",
    "\n",
    "ax = plot_gnn_results(oracle=True) # perfect=['precision@5'])\n",
    "download_matplotlib(ax.figure, '09_gnn_results.pdf')"
   ]
  },
  {
   "cell_type": "code",
   "execution_count": null,
   "id": "2d4ddddf-0fb6-4bb0-862d-f18fdffed39e",
   "metadata": {
    "execution": {
     "iopub.execute_input": "2024-04-25T09:11:56.640241Z",
     "iopub.status.busy": "2024-04-25T09:11:56.639892Z",
     "iopub.status.idle": "2024-04-25T09:11:57.125301Z",
     "shell.execute_reply": "2024-04-25T09:11:57.124519Z",
     "shell.execute_reply.started": "2024-04-25T09:11:56.640199Z"
    }
   },
   "outputs": [],
   "source": [
    "ax = plot_gnn_results(['precision@5'])\n",
    "ax.figure.savefig('../figures/09_gnn_results_precision_5.png', bbox_inches='tight')\n",
    "download_matplotlib(ax.figure, '09_gnn_results_precision_5.pdf')"
   ]
  },
  {
   "cell_type": "code",
   "execution_count": null,
   "id": "3b103f7d",
   "metadata": {},
   "outputs": [],
   "source": [
    "ax = plot_gnn_results(['precision@5'], oracle=True, common_only=True)\n",
    "\n",
    "ax.set_xlabel('')\n",
    "ax.set_ylabel('')\n",
    "ax.set_ylim(0)\n",
    "\n",
    "download_matplotlib(ax.figure, '09_gnn_results_precision_5_leaky.pdf')"
   ]
  },
  {
   "cell_type": "code",
   "execution_count": null,
   "id": "2704e046-8167-41c1-a7d7-3feb3f317d3a",
   "metadata": {
    "execution": {
     "iopub.execute_input": "2024-04-25T09:11:57.126755Z",
     "iopub.status.busy": "2024-04-25T09:11:57.126573Z",
     "iopub.status.idle": "2024-04-25T09:11:57.653434Z",
     "shell.execute_reply": "2024-04-25T09:11:57.652835Z",
     "shell.execute_reply.started": "2024-04-25T09:11:57.126739Z"
    }
   },
   "outputs": [],
   "source": [
    "ax = plot_gnn_results(['map@10']) #, perfect=False)\n",
    "ax.figure.savefig('../figures/09_gnn_results_map_10.png', bbox_inches='tight')\n",
    "download_matplotlib(ax.figure, '09_gnn_results_map_10.pdf')"
   ]
  },
  {
   "cell_type": "code",
   "execution_count": null,
   "id": "c2b1150e",
   "metadata": {},
   "outputs": [],
   "source": [
    "ax = plot_gnn_results(['ndcg@10']) #, perfect=False)\n",
    "ax.figure.savefig('../figures/09_gnn_results_ndcg_10.png', bbox_inches='tight')\n",
    "download_matplotlib(ax.figure, '09_gnn_results_ndcg_10.pdf')"
   ]
  },
  {
   "cell_type": "code",
   "execution_count": null,
   "id": "12ca4154",
   "metadata": {},
   "outputs": [],
   "source": [
    "ax = plot_gnn_results(['ndcg@10'], oracle=True, common_only=True)\n",
    "\n",
    "ax.set_xlabel('')\n",
    "ax.set_ylabel('')\n",
    "ax.set_ylim(0)\n",
    "\n",
    "download_matplotlib(ax.figure, '09_gnn_results_ndcg_10_leaky.pdf')"
   ]
  }
 ],
 "metadata": {
  "kernelspec": {
   "display_name": "Python 3 (ipykernel)",
   "language": "python",
   "name": "python3"
  },
  "language_info": {
   "codemirror_mode": {
    "name": "ipython",
    "version": 3
   },
   "file_extension": ".py",
   "mimetype": "text/x-python",
   "name": "python",
   "nbconvert_exporter": "python",
   "pygments_lexer": "ipython3",
   "version": "3.11.6"
  },
  "widgets": {
   "application/vnd.jupyter.widget-state+json": {
    "state": {},
    "version_major": 2,
    "version_minor": 0
   }
  }
 },
 "nbformat": 4,
 "nbformat_minor": 5
}
