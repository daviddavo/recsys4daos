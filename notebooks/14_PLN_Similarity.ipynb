{
 "cells": [
  {
   "cell_type": "code",
   "execution_count": null,
   "id": "31c75581-23c4-4567-b075-cb8b57143cb7",
   "metadata": {},
   "outputs": [],
   "source": [
    "from pathlib import Path\n",
    "\n",
    "import pandas as pd\n",
    "import numpy as np\n",
    "from sklearn.model_selection import ParameterGrid\n",
    "\n",
    "from recsys4daos.models import NLPSimilarity\n",
    "from recsys4daos.utils import Timer\n",
    "from recsys4daos.datasets import to_microsoft\n",
    "from recsys4daos.evaluation import calculate_all_metrics\n",
    "from recsys4daos.model_selection import cvtt_open, explore_hparams\n",
    "\n",
    "import paths\n",
    "\n",
    "import warnings\n",
    "warnings.simplefilter(action='ignore', category=FutureWarning)\n",
    "\n",
    "# TODO: Deleteme after developing\n",
    "%load_ext autoreload\n",
    "%autoreload 2"
   ]
  },
  {
   "cell_type": "markdown",
   "id": "838624cb-0298-4b60-ba18-5c8c26ff4a5d",
   "metadata": {},
   "source": [
    "# Parameters"
   ]
  },
  {
   "cell_type": "code",
   "execution_count": null,
   "id": "67054d58-99e3-4671-bb32-a331497d2956",
   "metadata": {},
   "outputs": [],
   "source": [
    "# Dataset config\n",
    "ORG_NAME = 'Decentraland'\n",
    "\n",
    "# Evaluation\n",
    "K_RECOMMENDATIONS: list[int] = [1,3,5,10,100]\n",
    "SPLITS_FREQ: str = 'W-THU' # split weekly\n",
    "SPLITS_NORMALIZE = True # Wether or not to move everything to 00:00\n",
    "LAST_SPLITS = 10 # Use just last 10 splits\n",
    "\n",
    "# Search space config\n",
    "WINDOW_SIZES = ['7d', '14d', '21d', '30d', '60d', '90d', '10YE']\n",
    "MODEL_NAMES = [\n",
    "    'all-mpnet-base-v2', # The one used in sbert's examples\n",
    "    'all-distilroberta-v1',\n",
    "    'all-MiniLM-L12-v2',\n",
    "    'all-MiniLM-L6-v2',\n",
    "]\n",
    "\n",
    "OPTIM_METRIC = 'map@10'"
   ]
  },
  {
   "cell_type": "code",
   "execution_count": null,
   "id": "0464b5e5-8517-47ff-a79e-33c07d49d3be",
   "metadata": {},
   "outputs": [],
   "source": [
    "EMBEDDINGS_CACHE = Path(paths.DEFAULT_CACHE_PATH) / 'pln-embeddings'"
   ]
  },
  {
   "cell_type": "markdown",
   "id": "67a426ad-138b-475e-adba-4ff6226e176c",
   "metadata": {},
   "source": [
    "# Load the dataset"
   ]
  },
  {
   "cell_type": "code",
   "execution_count": null,
   "id": "32d47b1f-2ab8-4844-be1a-09ef4184300c",
   "metadata": {},
   "outputs": [],
   "source": [
    "dfp = paths.load_proposals(ORG_NAME, text=True)\n",
    "dfv = paths.load_votes(ORG_NAME)\n",
    "\n",
    "print(dfp.info())\n",
    "print(dfv.info())"
   ]
  },
  {
   "cell_type": "code",
   "execution_count": null,
   "id": "1065012f-0080-4222-a961-e839952eb231",
   "metadata": {},
   "outputs": [],
   "source": [
    "df = to_microsoft(dfv)\n",
    "df"
   ]
  },
  {
   "cell_type": "markdown",
   "id": "a48c3baa-2bf4-4ea7-95ac-630799327908",
   "metadata": {},
   "source": [
    "## Split in folds"
   ]
  },
  {
   "cell_type": "code",
   "execution_count": null,
   "id": "44ec7fd2-288b-434a-8dc2-9191e60522ee",
   "metadata": {},
   "outputs": [],
   "source": [
    "all_folds = { f.end:f for f in cvtt_open(\n",
    "    df, SPLITS_FREQ, dfp.reset_index(), remove_not_in_train_col='userID'\n",
    ")}\n",
    "last_folds_idx = list(all_folds.keys())[-LAST_SPLITS:]\n",
    "last_folds_idx"
   ]
  },
  {
   "cell_type": "markdown",
   "id": "e1c67969-e4fa-4cf3-98ec-57579e28fb39",
   "metadata": {},
   "source": [
    "# Similarity PLN"
   ]
  },
  {
   "cell_type": "code",
   "execution_count": null,
   "id": "93dc5916-b70c-42f6-a951-9c8fa20d75b4",
   "metadata": {},
   "outputs": [],
   "source": [
    "def testHParamsPLNSimilarity(fold, window_size, model_name):\n",
    "    f = all_folds[fold]\n",
    "    \n",
    "    model = NLPSimilarity(dfp, EMBEDDINGS_CACHE, model_name=model_name)\n",
    "\n",
    "    offset = pd.tseries.frequencies.to_offset(window_size)\n",
    "    train = f.train[f.train['timestamp'] > (f.end - offset)]\n",
    "\n",
    "    with Timer() as t_fit:\n",
    "        model.fit(train)\n",
    "\n",
    "    with Timer() as t_rec:\n",
    "        # Truncate the top_k\n",
    "        top_k = max(K_RECOMMENDATIONS)\n",
    "        users = np.intersect1d(f.test['userID'].unique(), train['userID'].unique())\n",
    "        recs = model.recommend_k_items(users, top_k=min(len(f.open_proposals), top_k), recommend_from=f.open_proposals)\n",
    "    \n",
    "    return {\n",
    "        'time_train': t_fit.time,\n",
    "        'time_rec': t_rec.time,\n",
    "        'rec_users': len(users),\n",
    "        **calculate_all_metrics(f.test, recs, K_RECOMMENDATIONS),\n",
    "    }\n",
    "\n",
    "testHParamsPLNSimilarity(last_folds_idx[0], '14D', MODEL_NAMES[0])"
   ]
  },
  {
   "cell_type": "code",
   "execution_count": null,
   "id": "2bfd1a2a-5a89-438d-897a-1f8d5a62c006",
   "metadata": {},
   "outputs": [],
   "source": [
    "# Populate the cache of embeddings for each model\n",
    "from recsys4daos.models.nlp import NLPModel\n",
    "\n",
    "for m in MODEL_NAMES:\n",
    "    NLPModel(dfp, EMBEDDINGS_CACHE, model_name=m).fit()"
   ]
  },
  {
   "cell_type": "code",
   "execution_count": null,
   "id": "121d0b90-b9af-43c0-a88e-c008b98072c7",
   "metadata": {},
   "outputs": [],
   "source": [
    "results = explore_hparams(\n",
    "    testHParamsPLNSimilarity,\n",
    "    ParameterGrid({\n",
    "        'fold': last_folds_idx,\n",
    "        'model_name': MODEL_NAMES,\n",
    "        'window_size': WINDOW_SIZES,\n",
    "    }),\n",
    "    paths.hparams_progress('pln-similariy', ORG_NAME, SPLITS_FREQ, SPLITS_NORMALIZE),\n",
    ")\n",
    "mdf = pd.DataFrame(results)\n",
    "mdf"
   ]
  },
  {
   "cell_type": "markdown",
   "id": "5133f48a-1e33-4a76-b02c-13258a3c6e33",
   "metadata": {},
   "source": [
    "## Best overall hparams"
   ]
  },
  {
   "cell_type": "code",
   "execution_count": null,
   "id": "ad0e66b4-ea2e-45a3-9b76-aada7670e155",
   "metadata": {},
   "outputs": [],
   "source": [
    "columns = ['time_train'] + [ c for c in mdf.columns if c.endswith('@5') or c.endswith('@10') or c.endswith('@100') ]\n",
    "mdf[mdf['fold'] > last_folds_idx[0]].groupby(['window_size', 'model_name']).mean().sort_values(OPTIM_METRIC, ascending=False)[columns]"
   ]
  },
  {
   "cell_type": "markdown",
   "id": "c9d38cb9-8df9-4357-9050-34d579296f72",
   "metadata": {},
   "source": [
    "## best hparams by fold"
   ]
  },
  {
   "cell_type": "code",
   "execution_count": null,
   "id": "6e3bdc38-72c0-4b8b-b4c2-3c97817694c5",
   "metadata": {},
   "outputs": [],
   "source": [
    "print(\"Best hyperparams by fold\", OPTIM_METRIC)\n",
    "best_hparams = mdf.sort_values(OPTIM_METRIC,ascending=False).drop_duplicates(['fold'], keep='first').sort_values('fold').set_index(['fold', 'model_name', 'window_size'])[columns]\n",
    "best_hparams"
   ]
  },
  {
   "cell_type": "code",
   "execution_count": null,
   "id": "4caa2059-fcd4-42c8-a28d-3688581eaaf2",
   "metadata": {},
   "outputs": [],
   "source": [
    "best_hparams.describe()[columns]"
   ]
  },
  {
   "cell_type": "markdown",
   "id": "0aae5002-3bce-4597-a718-0ef1e2ce4947",
   "metadata": {},
   "source": [
    "### Results of using best hparams on next fold"
   ]
  },
  {
   "cell_type": "code",
   "execution_count": null,
   "id": "6cbb818c-d662-477f-9c9a-a8540c5d83de",
   "metadata": {},
   "outputs": [],
   "source": [
    "next_hparams_idx = best_hparams.index.to_frame(False)\n",
    "next_hparams_idx['fold'] = next_hparams_idx['fold'].shift()\n",
    "next_hparams_idx = next_hparams_idx.dropna()\n",
    "assert len(next_hparams_idx) == len(best_hparams)-1\n",
    "next_hparams = mdf.set_index(['fold', 'model_name', 'window_size']).loc[pd.MultiIndex.from_frame(next_hparams_idx)]\n",
    "next_hparams"
   ]
  },
  {
   "cell_type": "code",
   "execution_count": null,
   "id": "6abd12c8-f81a-4287-857e-afbb2703516d",
   "metadata": {},
   "outputs": [],
   "source": [
    "next_hparams.describe()[columns]"
   ]
  }
 ],
 "metadata": {
  "kernelspec": {
   "display_name": "Python 3 (ipykernel)",
   "language": "python",
   "name": "python3"
  },
  "language_info": {
   "codemirror_mode": {
    "name": "ipython",
    "version": 3
   },
   "file_extension": ".py",
   "mimetype": "text/x-python",
   "name": "python",
   "nbconvert_exporter": "python",
   "pygments_lexer": "ipython3",
   "version": "3.11.6"
  },
  "widgets": {
   "application/vnd.jupyter.widget-state+json": {
    "state": {
     "0092eeedebc2422b84711f438b90cf8a": {
      "model_module": "@jupyter-widgets/controls",
      "model_module_version": "2.0.0",
      "model_name": "HTMLModel",
      "state": {
       "layout": "IPY_MODEL_54a0667cea7b4340883f1c16c7777933",
       "style": "IPY_MODEL_5b76b47545b2459a9d24b8f8a2968f74",
       "value": "100%"
      }
     },
     "0db117ee6c854391861a3787f44830b8": {
      "model_module": "@jupyter-widgets/base",
      "model_module_version": "2.0.0",
      "model_name": "LayoutModel",
      "state": {}
     },
     "2ea0f368b68c4e698584da3fd5255227": {
      "model_module": "@jupyter-widgets/controls",
      "model_module_version": "2.0.0",
      "model_name": "HBoxModel",
      "state": {
       "children": [
        "IPY_MODEL_0092eeedebc2422b84711f438b90cf8a",
        "IPY_MODEL_526b99f77c8e414f982823fa4b6de920",
        "IPY_MODEL_988098eb66074af69a4ebb60713b41cc"
       ],
       "layout": "IPY_MODEL_eb40c32f6a214f46aa98da0ad3cb49e7"
      }
     },
     "526b99f77c8e414f982823fa4b6de920": {
      "model_module": "@jupyter-widgets/controls",
      "model_module_version": "2.0.0",
      "model_name": "FloatProgressModel",
      "state": {
       "bar_style": "success",
       "layout": "IPY_MODEL_0db117ee6c854391861a3787f44830b8",
       "max": 280,
       "style": "IPY_MODEL_8d0b1808c5a4473686281a5228cb6148",
       "value": 280
      }
     },
     "54a0667cea7b4340883f1c16c7777933": {
      "model_module": "@jupyter-widgets/base",
      "model_module_version": "2.0.0",
      "model_name": "LayoutModel",
      "state": {}
     },
     "591b3cae1cb343cb8822e02b990cb1ed": {
      "model_module": "@jupyter-widgets/controls",
      "model_module_version": "2.0.0",
      "model_name": "HTMLStyleModel",
      "state": {
       "description_width": "",
       "font_size": null,
       "text_color": null
      }
     },
     "5b76b47545b2459a9d24b8f8a2968f74": {
      "model_module": "@jupyter-widgets/controls",
      "model_module_version": "2.0.0",
      "model_name": "HTMLStyleModel",
      "state": {
       "description_width": "",
       "font_size": null,
       "text_color": null
      }
     },
     "8d0b1808c5a4473686281a5228cb6148": {
      "model_module": "@jupyter-widgets/controls",
      "model_module_version": "2.0.0",
      "model_name": "ProgressStyleModel",
      "state": {
       "description_width": ""
      }
     },
     "988098eb66074af69a4ebb60713b41cc": {
      "model_module": "@jupyter-widgets/controls",
      "model_module_version": "2.0.0",
      "model_name": "HTMLModel",
      "state": {
       "layout": "IPY_MODEL_fc963ab622da4cb2bfa8b61565f1c341",
       "style": "IPY_MODEL_591b3cae1cb343cb8822e02b990cb1ed",
       "value": " 280/280 [23:02&lt;00:00,  6.99s/it]"
      }
     },
     "eb40c32f6a214f46aa98da0ad3cb49e7": {
      "model_module": "@jupyter-widgets/base",
      "model_module_version": "2.0.0",
      "model_name": "LayoutModel",
      "state": {}
     },
     "fc963ab622da4cb2bfa8b61565f1c341": {
      "model_module": "@jupyter-widgets/base",
      "model_module_version": "2.0.0",
      "model_name": "LayoutModel",
      "state": {}
     }
    },
    "version_major": 2,
    "version_minor": 0
   }
  }
 },
 "nbformat": 4,
 "nbformat_minor": 5
}
